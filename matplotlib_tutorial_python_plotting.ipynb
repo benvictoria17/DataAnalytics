{
  "nbformat": 4,
  "nbformat_minor": 0,
  "metadata": {
    "kernelspec": {
      "name": "python3",
      "display_name": "Python 3",
      "language": "python"
    },
    "language_info": {
      "name": "python",
      "version": "3.7.6",
      "mimetype": "text/x-python",
      "codemirror_mode": {
        "name": "ipython",
        "version": 3
      },
      "pygments_lexer": "ipython3",
      "nbconvert_exporter": "python",
      "file_extension": ".py"
    },
    "colab": {
      "name": "matplotlib-tutorial-python-plotting.ipynb",
      "provenance": [],
      "include_colab_link": true
    }
  },
  "cells": [
    {
      "cell_type": "markdown",
      "metadata": {
        "id": "view-in-github",
        "colab_type": "text"
      },
      "source": [
        "<a href=\"https://colab.research.google.com/github/benvictoria21/pandas/blob/master/matplotlib_tutorial_python_plotting.ipynb\" target=\"_parent\"><img src=\"https://colab.research.google.com/assets/colab-badge.svg\" alt=\"Open In Colab\"/></a>"
      ]
    },
    {
      "cell_type": "code",
      "metadata": {
        "_uuid": "8f2839f25d086af736a60e9eeb907d3b93b6e0e5",
        "_cell_guid": "b1076dfc-b9ad-4769-8c92-a6c4dae69d19",
        "trusted": true,
        "id": "DE4RvLS1weZR",
        "colab_type": "code",
        "colab": {
          "base_uri": "https://localhost:8080/",
          "height": 265
        },
        "outputId": "aba332f0-8ee9-4bb6-ec16-5a902939c085"
      },
      "source": [
        "# Import the necessary packages and modules\n",
        "import matplotlib.pyplot as plt\n",
        "import numpy as np\n",
        "\n",
        "# Prepare the data\n",
        "x = np.linspace(0, 10, 100)\n",
        "\n",
        "# Plot the data\n",
        "plt.plot(x, x, label='linear')\n",
        "\n",
        "# Add a legend\n",
        "plt.legend()\n",
        "\n",
        "# Show the plot\n",
        "plt.show()"
      ],
      "execution_count": 1,
      "outputs": [
        {
          "output_type": "display_data",
          "data": {
            "image/png": "[encoded data removed]",
            "text/plain": [
              "<Figure size 432x288 with 1 Axes>"
            ]
          },
          "metadata": {
            "tags": [],
            "needs_background": "light"
          }
        }
      ]
    },
    {
      "cell_type": "code",
      "metadata": {
        "_uuid": "d629ff2d2480ee46fbb7e2d37f6b5fab8052498a",
        "_cell_guid": "79c7e3d0-c299-4dcb-8224-4455121ee9b0",
        "trusted": true,
        "id": "0QEW2okyweZU",
        "colab_type": "code",
        "colab": {
          "base_uri": "https://localhost:8080/",
          "height": 265
        },
        "outputId": "fdc2321f-008f-495f-e614-a7c6d12a6dbb"
      },
      "source": [
        "import matplotlib.pyplot as plt\n",
        "fig = plt.figure()\n",
        "ax = fig.add_subplot(111)\n",
        "ax.plot([1, 2, 3, 4], [10, 20, 25, 30], color='lightblue', linewidth=3)\n",
        "ax.scatter([0.3, 3.8, 1.2, 2.5], [11, 25, 9, 26], color='darkgreen', marker='^')\n",
        "ax.set_xlim(0.5, 4.5)\n",
        "plt.show()"
      ],
      "execution_count": 2,
      "outputs": [
        {
          "output_type": "display_data",
          "data": {
            "image/png": "[encoded data removed]",
            "text/plain": [
              "<Figure size 432x288 with 1 Axes>"
            ]
          },
          "metadata": {
            "tags": [],
            "needs_background": "light"
          }
        }
      ]
    },
    {
      "cell_type": "code",
      "metadata": {
        "trusted": true,
        "id": "d0x-k7DkweZc",
        "colab_type": "code",
        "colab": {
          "base_uri": "https://localhost:8080/",
          "height": 265
        },
        "outputId": "501f8fed-4bb7-4b3d-8042-aa26e7d338b2"
      },
      "source": [
        "import matplotlib.pyplot as plt\n",
        "plt.plot([1, 2, 3, 4], [10, 20, 25, 30], color='lightblue', linewidth=3)\n",
        "plt.scatter([0.3, 3.8, 1.2, 2.5], [11, 25, 9, 26], color='darkgreen', marker='^')\n",
        "plt.xlim(0.5, 4.5)\n",
        "plt.show()"
      ],
      "execution_count": 3,
      "outputs": [
        {
          "output_type": "display_data",
          "data": {
            "image/png": "[encoded data removed]",
            "text/plain": [
              "<Figure size 432x288 with 1 Axes>"
            ]
          },
          "metadata": {
            "tags": [],
            "needs_background": "light"
          }
        }
      ]
    },
    {
      "cell_type": "code",
      "metadata": {
        "trusted": true,
        "id": "JvtzykkTweZf",
        "colab_type": "code",
        "colab": {
          "base_uri": "https://localhost:8080/",
          "height": 357
        },
        "outputId": "8f1b3f3c-ea4b-4096-db3f-7111fa6dc077"
      },
      "source": [
        "# Import `pyplot`\n",
        "import matplotlib.pyplot as plt\n",
        "\n",
        "# Initialize a Figure \n",
        "fig = plt.figure()\n",
        "\n",
        "# Add Axes to the Figure\n",
        "fig.add_axes([0,0,1,1])"
      ],
      "execution_count": 4,
      "outputs": [
        {
          "output_type": "execute_result",
          "data": {
            "text/plain": [
              "<matplotlib.axes._axes.Axes at 0x7f216ce233c8>"
            ]
          },
          "metadata": {
            "tags": []
          },
          "execution_count": 4
        },
        {
          "output_type": "display_data",
          "data": {
            "image/png": "[encoded data removed]",
            "text/plain": [
              "<Figure size 432x288 with 1 Axes>"
            ]
          },
          "metadata": {
            "tags": [],
            "needs_background": "light"
          }
        }
      ]
    },
    {
      "cell_type": "code",
      "metadata": {
        "trusted": true,
        "id": "A2aP9fZYweZi",
        "colab_type": "code",
        "colab": {
          "base_uri": "https://localhost:8080/",
          "height": 265
        },
        "outputId": "055375a2-644a-45c2-c65e-01bd697f9431"
      },
      "source": [
        "# Import the necessary packages and modules\n",
        "import matplotlib.pyplot as plt\n",
        "import numpy as np\n",
        "\n",
        "# Create a Figure\n",
        "fig = plt.figure()\n",
        "\n",
        "# Set up Axes\n",
        "ax = fig.add_subplot(111)\n",
        "\n",
        "# Scatter the data\n",
        "ax.scatter(np.linspace(0, 1, 5), np.linspace(0, 5, 5))\n",
        "\n",
        "# Show the plot\n",
        "plt.show()"
      ],
      "execution_count": 5,
      "outputs": [
        {
          "output_type": "display_data",
          "data": {
            "image/png": "[encoded data removed]",
            "text/plain": [
              "<Figure size 432x288 with 1 Axes>"
            ]
          },
          "metadata": {
            "tags": [],
            "needs_background": "light"
          }
        }
      ]
    },
    {
      "cell_type": "code",
      "metadata": {
        "trusted": true,
        "id": "upFJIH25weZl",
        "colab_type": "code",
        "colab": {
          "base_uri": "https://localhost:8080/",
          "height": 334
        },
        "outputId": "5bd5d9a2-cd85-404c-a2ac-c6faa51a9946"
      },
      "source": [
        "# Import `pyplot` from `matplotlib`\n",
        "import matplotlib.pyplot as plt\n",
        "\n",
        "# Initialize the plot\n",
        "fig = plt.figure(figsize=(20,10))\n",
        "ax1 = fig.add_subplot(121)\n",
        "ax2 = fig.add_subplot(122)\n",
        "\n",
        "# or replace the three lines of code above by the following line: \n",
        "#fig, (ax1, ax2) = plt.subplots(1,2, figsize=(20,10))\n",
        "\n",
        "# Plot the data\n",
        "ax1.bar([1,2,3],[3,4,5])\n",
        "ax2.barh([0.5,1,2.5],[0,1,2])\n",
        "\n",
        "# Show the plot\n",
        "plt.show()"
      ],
      "execution_count": 6,
      "outputs": [
        {
          "output_type": "display_data",
          "data": {
            "image/png": "[encoded data removed]",
            "text/plain": [
              "<Figure size 1440x720 with 2 Axes>"
            ]
          },
          "metadata": {
            "tags": [],
            "needs_background": "light"
          }
        }
      ]
    },
    {
      "cell_type": "code",
      "metadata": {
        "trusted": true,
        "id": "0LUw0XuoweZn",
        "colab_type": "code",
        "colab": {
          "base_uri": "https://localhost:8080/",
          "height": 269
        },
        "outputId": "d15a29b7-93a4-44ec-edb0-494ee5b76328"
      },
      "source": [
        "# Import `pyplot` from `matplotlib`\n",
        "import matplotlib.pyplot as plt\n",
        "\n",
        "# Initialize the plot\n",
        "fig = plt.figure()\n",
        "ax1 = fig.add_subplot(131)\n",
        "ax2 = fig.add_subplot(132)\n",
        "ax3 = fig.add_subplot(133)\n",
        "\n",
        "# Plot the data\n",
        "ax1.bar([1,2,3],[3,4,5])\n",
        "ax2.barh([0.5,1,2.5],[0,1,2])\n",
        "ax2.axhline(0.45)\n",
        "ax1.axvline(0.65)\n",
        "\n",
        "# Show the plot\n",
        "plt.show()"
      ],
      "execution_count": 7,
      "outputs": [
        {
          "output_type": "display_data",
          "data": {
            "image/png": "[encoded data removed]",
            "text/plain": [
              "<Figure size 432x288 with 3 Axes>"
            ]
          },
          "metadata": {
            "tags": [],
            "needs_background": "light"
          }
        }
      ]
    },
    {
      "cell_type": "code",
      "metadata": {
        "trusted": true,
        "id": "pWeLvYMdweZq",
        "colab_type": "code",
        "colab": {
          "base_uri": "https://localhost:8080/",
          "height": 267
        },
        "outputId": "8a7f9b63-d98d-4659-bbb7-97c55b9ef7fd"
      },
      "source": [
        "# Import `pyplot` from `matplotlib`\n",
        "import matplotlib.pyplot as plt\n",
        "import numpy as np\n",
        "\n",
        "# Initialize the plot\n",
        "fig = plt.figure()\n",
        "ax1 = fig.add_subplot(131)\n",
        "ax2 = fig.add_subplot(132)\n",
        "ax3 = fig.add_subplot(133)\n",
        "\n",
        "# Plot the data\n",
        "ax1.bar([1,2,3],[3,4,5])\n",
        "ax2.barh([0.5,1,2.5],[0,1,2])\n",
        "ax2.axhline(0.45)\n",
        "ax1.axvline(0.65)\n",
        "ax3.scatter(np.linspace(0, 1, 5), np.linspace(0, 5, 5))\n",
        "\n",
        "# Delete `ax3`\n",
        "fig.delaxes(ax3)\n",
        "\n",
        "# Show the plot\n",
        "plt.show()"
      ],
      "execution_count": 8,
      "outputs": [
        {
          "output_type": "display_data",
          "data": {
            "image/png": "[encoded data removed]",
            "text/plain": [
              "<Figure size 432x288 with 2 Axes>"
            ]
          },
          "metadata": {
            "tags": [],
            "needs_background": "light"
          }
        }
      ]
    },
    {
      "cell_type": "code",
      "metadata": {
        "trusted": true,
        "id": "bEG638INweZt",
        "colab_type": "code",
        "colab": {
          "base_uri": "https://localhost:8080/",
          "height": 265
        },
        "outputId": "9f179235-d526-41ef-c12e-6ac8238ace80"
      },
      "source": [
        "# Import the necessary packages and modules\n",
        "import matplotlib.pyplot as plt\n",
        "import numpy as np\n",
        "\n",
        "# Prepare the data\n",
        "x = np.linspace(0, 10, 100)\n",
        "\n",
        "# Plot the data\n",
        "plt.plot(x, x, label='linear')\n",
        "\n",
        "# Add a legend\n",
        "plt.legend()\n",
        "\n",
        "# Show the plot\n",
        "plt.show()"
      ],
      "execution_count": 9,
      "outputs": [
        {
          "output_type": "display_data",
          "data": {
            "image/png": "[encoded data removed]",
            "text/plain": [
              "<Figure size 432x288 with 1 Axes>"
            ]
          },
          "metadata": {
            "tags": [],
            "needs_background": "light"
          }
        }
      ]
    },
    {
      "cell_type": "code",
      "metadata": {
        "trusted": true,
        "id": "CAfvOvWGweZv",
        "colab_type": "code",
        "colab": {
          "base_uri": "https://localhost:8080/",
          "height": 35
        },
        "outputId": "08d0c013-ea6b-4421-b3da-ada81b3be062"
      },
      "source": [
        "# Save Figure\n",
        "plt.savefig(\"foo.png\")\n",
        "\n",
        "# Save Transparent Figure\n",
        "plt.savefig(\"foo.png\", transparent=True)"
      ],
      "execution_count": 10,
      "outputs": [
        {
          "output_type": "display_data",
          "data": {
            "text/plain": [
              "<Figure size 432x288 with 0 Axes>"
            ]
          },
          "metadata": {
            "tags": []
          }
        }
      ]
    },
    {
      "cell_type": "code",
      "metadata": {
        "trusted": true,
        "id": "bzBc_SH6weZx",
        "colab_type": "code",
        "colab": {}
      },
      "source": [
        "# Import `pyplot` \n",
        "import matplotlib.pyplot as plt\n",
        "\n",
        "# Set the style to `ggplot`\n",
        "plt.style.use(\"ggplot\")"
      ],
      "execution_count": 11,
      "outputs": []
    },
    {
      "cell_type": "code",
      "metadata": {
        "trusted": true,
        "id": "l2tT_V8_weZz",
        "colab_type": "code",
        "colab": {
          "base_uri": "https://localhost:8080/",
          "height": 265
        },
        "outputId": "b7f4f80e-1346-4797-cf68-ee1098df646b"
      },
      "source": [
        "# Import the necessary packages and modules\n",
        "import matplotlib as mpl\n",
        "import matplotlib.pyplot as plt\n",
        "import numpy as np\n",
        "\n",
        "# Uncomment following line to see the effect \n",
        "#mpl.rcParams['lines.linewidth'] = 5\n",
        "\n",
        "# Prepare the data\n",
        "x = np.linspace(0, 10, 100)\n",
        "\n",
        "# Plot the data\n",
        "plt.plot(x, x, label='linear')\n",
        "\n",
        "# Add a legend\n",
        "plt.legend()\n",
        "\n",
        "# Show the plot\n",
        "plt.show()"
      ],
      "execution_count": 12,
      "outputs": [
        {
          "output_type": "display_data",
          "data": {
            "image/png": "[encoded data removed]",
            "text/plain": [
              "<Figure size 432x288 with 1 Axes>"
            ]
          },
          "metadata": {
            "tags": []
          }
        }
      ]
    },
    {
      "cell_type": "code",
      "metadata": {
        "trusted": true,
        "id": "HbkyGvaJweZ2",
        "colab_type": "code",
        "colab": {
          "base_uri": "https://localhost:8080/",
          "height": 53
        },
        "outputId": "4691ff37-3bce-481c-e82e-84c8c2eefa23"
      },
      "source": [
        "import matplotlib\n",
        "\n",
        "matplotlib.matplotlib_fname()"
      ],
      "execution_count": 13,
      "outputs": [
        {
          "output_type": "execute_result",
          "data": {
            "application/vnd.google.colaboratory.intrinsic+json": {
              "type": "string"
            },
            "text/plain": [
              "'/usr/local/lib/python3.6/dist-packages/matplotlib/mpl-data/matplotlibrc'"
            ]
          },
          "metadata": {
            "tags": []
          },
          "execution_count": 13
        }
      ]
    }
  ]
}