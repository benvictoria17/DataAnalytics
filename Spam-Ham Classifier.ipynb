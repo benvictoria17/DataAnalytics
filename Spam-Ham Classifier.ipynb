{
 "cells": [
  {
   "cell_type": "code",
   "execution_count": 1,
   "id": "90319196",
   "metadata": {},
   "outputs": [],
   "source": [
    "import numpy as np \n",
    "import pandas as pd \n",
    "import matplotlib.pyplot as plt \n",
    "%matplotlib inline \n",
    "import seaborn as sns "
   ]
  },
  {
   "cell_type": "code",
   "execution_count": 2,
   "id": "5e8e6a6c",
   "metadata": {},
   "outputs": [
    {
     "data": {
      "text/html": [
       "<div>\n",
       "<style scoped>\n",
       "    .dataframe tbody tr th:only-of-type {\n",
       "        vertical-align: middle;\n",
       "    }\n",
       "\n",
       "    .dataframe tbody tr th {\n",
       "        vertical-align: top;\n",
       "    }\n",
       "\n",
       "    .dataframe thead th {\n",
       "        text-align: right;\n",
       "    }\n",
       "</style>\n",
       "<table border=\"1\" class=\"dataframe\">\n",
       "  <thead>\n",
       "    <tr style=\"text-align: right;\">\n",
       "      <th></th>\n",
       "      <th>id</th>\n",
       "      <th>label</th>\n",
       "      <th>message</th>\n",
       "    </tr>\n",
       "  </thead>\n",
       "  <tbody>\n",
       "    <tr>\n",
       "      <th>0</th>\n",
       "      <td>1</td>\n",
       "      <td>ham</td>\n",
       "      <td>Go until jurong point</td>\n",
       "    </tr>\n",
       "    <tr>\n",
       "      <th>1</th>\n",
       "      <td>2</td>\n",
       "      <td>ham</td>\n",
       "      <td>Ok lar... Joking wif u oni...'</td>\n",
       "    </tr>\n",
       "    <tr>\n",
       "      <th>2</th>\n",
       "      <td>3</td>\n",
       "      <td>spam</td>\n",
       "      <td>Free entry in 2 a wkly comp to win FA Cup fina...</td>\n",
       "    </tr>\n",
       "    <tr>\n",
       "      <th>3</th>\n",
       "      <td>4</td>\n",
       "      <td>ham</td>\n",
       "      <td>U dun say so early hor... U c already then say...</td>\n",
       "    </tr>\n",
       "    <tr>\n",
       "      <th>4</th>\n",
       "      <td>5</td>\n",
       "      <td>ham</td>\n",
       "      <td>Nah I don't think he goes to usf</td>\n",
       "    </tr>\n",
       "  </tbody>\n",
       "</table>\n",
       "</div>"
      ],
      "text/plain": [
       "   id label                                            message\n",
       "0   1   ham                              Go until jurong point\n",
       "1   2   ham                     Ok lar... Joking wif u oni...'\n",
       "2   3  spam  Free entry in 2 a wkly comp to win FA Cup fina...\n",
       "3   4   ham  U dun say so early hor... U c already then say...\n",
       "4   5   ham                   Nah I don't think he goes to usf"
      ]
     },
     "execution_count": 2,
     "metadata": {},
     "output_type": "execute_result"
    }
   ],
   "source": [
    "df = pd.read_csv(\"https://raw.githubusercontent.com/benvictoria17/DataAnalytics/main/dataset/smsspamcollection/train.csv\")\n",
    "df.columns = [\"id\",\"label\",\"message\"]\n",
    "df.head()"
   ]
  },
  {
   "cell_type": "code",
   "execution_count": 3,
   "id": "4773e638",
   "metadata": {},
   "outputs": [
    {
     "data": {
      "text/plain": [
       "(310, 3)"
      ]
     },
     "execution_count": 3,
     "metadata": {},
     "output_type": "execute_result"
    }
   ],
   "source": [
    "df.shape"
   ]
  },
  {
   "cell_type": "code",
   "execution_count": 4,
   "id": "24c2db46",
   "metadata": {},
   "outputs": [
    {
     "data": {
      "text/plain": [
       "id         0\n",
       "label      0\n",
       "message    1\n",
       "dtype: int64"
      ]
     },
     "execution_count": 4,
     "metadata": {},
     "output_type": "execute_result"
    }
   ],
   "source": [
    "df.isnull().sum()"
   ]
  },
  {
   "cell_type": "code",
   "execution_count": 5,
   "id": "ef1138dc",
   "metadata": {},
   "outputs": [
    {
     "data": {
      "text/html": [
       "<div>\n",
       "<style scoped>\n",
       "    .dataframe tbody tr th:only-of-type {\n",
       "        vertical-align: middle;\n",
       "    }\n",
       "\n",
       "    .dataframe tbody tr th {\n",
       "        vertical-align: top;\n",
       "    }\n",
       "\n",
       "    .dataframe thead th {\n",
       "        text-align: right;\n",
       "    }\n",
       "</style>\n",
       "<table border=\"1\" class=\"dataframe\">\n",
       "  <thead>\n",
       "    <tr style=\"text-align: right;\">\n",
       "      <th></th>\n",
       "      <th>label</th>\n",
       "      <th>message</th>\n",
       "    </tr>\n",
       "  </thead>\n",
       "  <tbody>\n",
       "    <tr>\n",
       "      <th>0</th>\n",
       "      <td>ham</td>\n",
       "      <td>Go until jurong point</td>\n",
       "    </tr>\n",
       "    <tr>\n",
       "      <th>1</th>\n",
       "      <td>ham</td>\n",
       "      <td>Ok lar... Joking wif u oni...'</td>\n",
       "    </tr>\n",
       "    <tr>\n",
       "      <th>2</th>\n",
       "      <td>spam</td>\n",
       "      <td>Free entry in 2 a wkly comp to win FA Cup fina...</td>\n",
       "    </tr>\n",
       "    <tr>\n",
       "      <th>3</th>\n",
       "      <td>ham</td>\n",
       "      <td>U dun say so early hor... U c already then say...</td>\n",
       "    </tr>\n",
       "    <tr>\n",
       "      <th>4</th>\n",
       "      <td>ham</td>\n",
       "      <td>Nah I don't think he goes to usf</td>\n",
       "    </tr>\n",
       "    <tr>\n",
       "      <th>5</th>\n",
       "      <td>spam</td>\n",
       "      <td>FreeMsg Hey there darling it's been 3 week's n...</td>\n",
       "    </tr>\n",
       "    <tr>\n",
       "      <th>6</th>\n",
       "      <td>ham</td>\n",
       "      <td>Even my brother is not like to speak with me. ...</td>\n",
       "    </tr>\n",
       "    <tr>\n",
       "      <th>7</th>\n",
       "      <td>ham</td>\n",
       "      <td>As per your request 'Melle Melle (Oru Minnamin...</td>\n",
       "    </tr>\n",
       "    <tr>\n",
       "      <th>8</th>\n",
       "      <td>spam</td>\n",
       "      <td>WINNER!! As a valued network customer you have...</td>\n",
       "    </tr>\n",
       "    <tr>\n",
       "      <th>9</th>\n",
       "      <td>spam</td>\n",
       "      <td>Had your mobile 11 months or more? U R entitle...</td>\n",
       "    </tr>\n",
       "  </tbody>\n",
       "</table>\n",
       "</div>"
      ],
      "text/plain": [
       "  label                                            message\n",
       "0   ham                              Go until jurong point\n",
       "1   ham                     Ok lar... Joking wif u oni...'\n",
       "2  spam  Free entry in 2 a wkly comp to win FA Cup fina...\n",
       "3   ham  U dun say so early hor... U c already then say...\n",
       "4   ham                   Nah I don't think he goes to usf\n",
       "5  spam  FreeMsg Hey there darling it's been 3 week's n...\n",
       "6   ham  Even my brother is not like to speak with me. ...\n",
       "7   ham  As per your request 'Melle Melle (Oru Minnamin...\n",
       "8  spam  WINNER!! As a valued network customer you have...\n",
       "9  spam  Had your mobile 11 months or more? U R entitle..."
      ]
     },
     "execution_count": 5,
     "metadata": {},
     "output_type": "execute_result"
    }
   ],
   "source": [
    "df = df.drop(['id'], axis=1)\n",
    "df.head(10)"
   ]
  },
  {
   "cell_type": "code",
   "execution_count": 6,
   "id": "a53fd172",
   "metadata": {},
   "outputs": [
    {
     "name": "stderr",
     "output_type": "stream",
     "text": [
      "[nltk_data] Downloading package stopwords to /Users/thomo/nltk_data...\n",
      "[nltk_data]   Unzipping corpora/stopwords.zip.\n"
     ]
    },
    {
     "data": {
      "text/plain": [
       "True"
      ]
     },
     "execution_count": 6,
     "metadata": {},
     "output_type": "execute_result"
    }
   ],
   "source": [
    "import nltk\n",
    "import re\n",
    "nltk.download('stopwords')"
   ]
  },
  {
   "cell_type": "code",
   "execution_count": 7,
   "id": "8f2870df",
   "metadata": {},
   "outputs": [],
   "source": [
    "from nltk.corpus import stopwords\n",
    "from nltk.stem.porter import PorterStemmer\n",
    "ps = PorterStemmer()"
   ]
  },
  {
   "cell_type": "code",
   "execution_count": 8,
   "id": "157c5c5a",
   "metadata": {},
   "outputs": [
    {
     "name": "stdout",
     "output_type": "stream",
     "text": [
      "['go jurong point', 'ok lar joke wif u oni', 'free entri wkli comp win fa cup final tkt st may text fa receiv entri question std txt rate c appli', 'u dun say earli hor u c alreadi say', 'nah think goe usf', 'freemsg hey darl week word back like fun still tb ok xxx std chg send', 'even brother like speak treat like aid patent', 'per request mell mell oru minnaminungint nurungu vettam set callertun caller press copi friend callertun', 'winner valu network custom select receivea prize reward claim call claim code kl valid hour', 'mobil month u r entitl updat latest colour mobil camera free call mobil updat co free', 'gonna home soon want talk stuff anymor tonight', 'six chanc win cash', 'urgent week free membership', 'search right word thank breather promis wont take help grant fulfil promis wonder bless time', 'date sunday', 'xxxmobilemovieclub use credit', 'oh k watch', 'eh u rememb spell name ye v naughti make v wet', 'fine way u feel way gota b', 'england v macedonia dont miss goal team news txt ur nation team eg england tri wale', 'serious spell name', 'go tri month ha ha joke', 'pay first lar da stock comin', 'aft finish lunch go str lor ard smth lor u finish ur lunch alreadi', 'ffffffffff alright way meet sooner', 'forc eat slice realli hungri tho suck mark get worri know sick turn pizza lol', 'lol alway convinc', 'catch bu fri egg make tea eat mom left dinner feel love', 'back amp', 'ahhh work vagu rememb feel like lol', 'wait still clear', 'yeah got v apologet n fallen actin like spoilt child got caught till go badli cheer', 'k tell anyth', 'fear faint housework quick cuppa', 'thank subscript rington uk mobil charg month pleas confirm repli ye repli charg', 'yup ok go home look time msg xuhui go learn nd may lesson', 'oop', 'see letter b car', 'anyth lor u decid', 'hello saturday go text see decid anyth tomo tri invit anyth', 'pl go ahead watt want sure great weekend abiola', 'forget tell want', 'rodger burn msg tri call repli sm free nokia mobil free camcord pleas call deliveri tomorrow', 'see', 'great hope like man well endow lt', 'call messag miss call', 'get hep b immunis nigeria', 'fair enough', 'yeah hope', 'u know stubborn even want go hospit kept tell mark weak sucker hospit weak sucker', 'think first time saw class', 'gram usual run like lt', 'k fyi x ride earli tomorrow morn crash place tonight', 'wow never realiz embarass accomod thought like', 'sm ac sptv new jersey devil detroit red wing play ice hockey correct incorrect end repli end sptv', 'know mallika sherawat yesterday find lt', 'congrat year special cinema pass call c suprman v', 'sorri', 'tell reach', 'ye gauti sehwag odi seri', 'gonna pick burger way home even move pain kill', 'ha ha ha good joke girl situat seeker', 'part check iq', 'sorri roommat took forev', 'ok lar doubl check wif da hair dresser alreadi said wun cut v short said cut look nice', 'valu custom', 'today song dedic day song u dedic send ur valuabl frnd first rpli', 'urgent ur award complimentari trip eurodisinc trav', 'hear new divorc barbi come ken stuff', 'plane give month end', 'wah lucki man save money hee', 'finish class', 'hi babe im home wanna someth xx', 'k k perform', 'u call', 'wait machan call free', 'that cool gentleman treat digniti respect', 'like peopl much shi pa', 'oper lt', 'still look job much ta earn', 'sorri', 'k call ah', 'ok way home hi hi', 'place man', 'yup next stop', 'call later', 'real u get yo need ticket one jacket done alreadi use multi', 'ye start send request make pain came back back bed doubl coin factori gotta cash nitro', 'realli still tonight babe', 'ela kano', 'yeah stand close tho catch someth', 'sorri pain ok meet anoth night spent late afternoon casualti mean done stuff moro includ time sheet sorri', 'smile pleasur smile pain smile troubl pour like rain smile sum hurt u smile becoz someon still love see u smile', 'pleas call custom servic repres pm guarante cash prize', 'havent plan buy later check alreadi lido got show e afternoon u finish work alreadi', 'free rington wait collect simpli text password mix verifi get usher britney fml', 'watch telugu movi wat abt u', 'see finish load loan pay', 'hi wk ok hol ye bit run forgot hairdress appoint four need get home n shower beforehand caus prob u', 'see cup coffe anim', 'pleas text anymor noth els say', 'okay name ur price long legal wen pick u ave x am xx', 'still look car buy gone drive test yet', 'per request mell mell oru minnaminungint nurungu vettam set callertun caller press copi friend callertun', 'wow right mean guess gave boston men chang search locat nyc', 'umma life vava umma love lot dear', 'thank lot wish birthday thank make birthday truli memor', 'aight', 'would ip address test consid comput minecraft server', 'know grumpi old peopl mom like better lie alway one play joke', 'dont worri guess busi', 'plural noun research', 'go dinner msg', 'ok wif co like tri new thing scare u dun like mah co u said loud', 'gent tri contact last weekend draw show prize guarante call claim code k valid hr ppm', 'wa', 'enter cabin pa said', 'winner u special select receiv holiday flight inc speak live oper claim p min', 'goodo ye must speak friday egg potato ratio tortilla need', 'hmm uncl inform pay school directli pl buy food', 'privat account statement show unredeem bonu point claim call identifi code expir', 'urgent mobil award bonu caller prize final tri contact u call landlin box wr c', 'new address appl pair malarki', 'today voda number end select receiv award match pleas call quot claim code standard rate app', 'go sao mu today done', 'predict wat time finish buy', 'good stuff', 'know', 'room', 'hey girl r u hope u r well del r bak long time c give call sum time lucyxx', 'k k much cost', 'home', 'dear', 'first answer question', 'sunshin quiz wkli q win top soni dvd player u know countri algarv txt ansr sp tyron', 'want get laid tonight want real dog locat sent direct ur mob join uk largest dog network bt txting gravel nt ec p msg p', 'haf msn yiju hotmail com', 'call meet', 'check room befor activ', 'rcv msg chat svc free hardcor servic text go u get noth u must age verifi yr network tri', 'got c lazi type forgot lect saw pouch like v nice', 'k', 'sir', 'swt thought nver get tire littl thing lovabl person coz somtim littl thing occupi biggest part heart gud ni', 'know pl open back', 'ye see ya dot', 'what staff name take class us', 'freemsg repli text randi', 'ummma call check life begin qatar pl pray hard', 'k delet contact', 'sindu got job birla soft', 'wine flow never', 'yup thk cine better co need go plaza mah', 'ok ur typic repli', 'per request mell mell oru minnaminungint nurungu vettam set callertun caller press copi friend callertun', 'everywher dirt', 'aaooooright work', 'leav hous', 'hello', 'custom servic annonc new year deliveri wait pleas call arrang deliveri', 'winner u special select receiv cash holiday flight inc speak live oper claim', 'keep safe need miss alreadi envi everyon see real life', 'new car hous parent new job hand', 'love excit day spend make happi', 'pl stop bootydeli f invit friend repli ye see www sm ac u bootydeli stop send stop frnd', 'bangbab ur order way u receiv servic msg download ur content u', 'place ur point e cultur modul alreadi', 'urgent tri contact last weekend draw show prize guarante call claim code valid hr', 'hi frnd', 'great escap fanci bridg need lager see tomo', 'ye complet form clark also utter wast', 'sir', 'hmmm thk sure got time hop ard ya', 'time come later', 'bloodi hell', 'well', 'let know got money carlo make call', 'u still go mall', 'turn friend stay whole show back til lt', 'text doesnt repli let know log', 'hi spoke maneesha v like know satisfi experi repli toll free ye', 'lift hope offer money need especi end month approach hurt studi anyway gr weekend', 'lol u trust', 'ok gentleman treat digniti respect', '', 'go noth great bye', 'hello handsom find job lazi work toward get back net mummi boytoy miss', 'haha awesom', 'pleas call custom servic repres freephon pm guarante cash prize', 'got xma radio time get', 'ju reach home go bath first si use net tell u finish k', 'uniqu enough find th august www areyouuniqu co uk', 'sorri join leagu peopl dont keep touch mean great deal friend time even great person cost great week', 'hi final complet cours', 'stop howev suggest stay someon abl give or everi stool', 'hope settl new school year wishin gr day', 'gud mrng dear hav nice day', 'u got person stori', 'hamster dead hey tmr meet pm orchard mrt', 'hi kate even hope see tomorrow bit bloodi babyjontet txt back u xxx', 'found', 'sent lt', 'hello darlin ive finish colleg txt u finish u love kate xxx', 'account refil success inr lt', 'goodmorn sleep ga', 'u call alter ok', 'say like dat dun buy ericsson oso cannot oredi lar', 'enter cabin pa said', 'aight yo', 'pleas give us connect today lt', 'shoot big load get readi', 'bruv', 'home alway chat', 'k k good studi well', 'yup noe leh', 'sound great home', 'final match head toward draw predict', 'tire slept well past night', 'easi ah sen got select mean good', 'take exam march', 'yeah think use gt atm regist sure anyway help let know sure readi', 'ok prob take ur time', 'os call ubandu run without instal hard disk use os copi import file system give repair shop', 'sorri', 'u say leh cours noth happen lar say v romant ju bit lor thk e nite sceneri nice leh', 'new mobil', 'would realli appreci call need someon talk', 'u meet ur dream partner soon ur career flyng start find free', 'hey compani elama po mudyadhu', 'life strict teacher bcoz teacher teach lesson amp', 'dear good morn', 'get gandhipuram walk cross cut road right side lt', 'dear go rubber place', 'sorri batteri die', 'ye tv alway avail work place', 'text meet someon sexi today u find date even flirt u join p repli name age eg sam msg recd thirtyeight penc', 'print oh lt', 'ill littl closer like bu stop street', 'wil reach', 'new theori argument win situat', 'u secret admir look make contact u find r reveal think ur special call', 'tomarrow final hear laptop case cant', 'pleassssssseeeee tel v avent done sportsx', 'okay', 'although told u dat baig face watch realli like e watch u gave co fr u thanx everyth dat u done today', 'u rememb old commerci', 'late said websit dont slipper', 'ask call ok', 'kalli wont bat nd inning', 'didnt work oh ok goodnight fix readi time wake dearli miss good night sleep', 'congratul ur award cd voucher gift guarante free entri wkli draw txt music tnc www ldew com win ppmx age', 'ranjith cal drpd deeraj deepak min hold', 'wen ur lovabl bcum angri wid u', '', 'up day also', 'back', 'necessarili expect done get back though headin', 'mmm yummi babe nice jolt suzi', 'lover need', 'tri contact repli offer video handset anytim network min unlimit text camcord repli call', 'park next mini come today think', 'yup', 'anyway go shop co si done yet dun disturb u liao', 'luton ring ur around h', 'hey realli horni want chat see nake text hot text charg pm unsubscrib text stop', 'dint come us', 'wana plan trip sometm', 'sure yet', 'ur rington servic chang free credit go club mobil com choos content stop txt club stop p wk club po box mk wt', 'evo download flash jealou', 'rington club get uk singl chart mobil week choos top qualiti rington messag free charg', 'come mu', 'night end anoth day', 'hmv bonu special pound genuin hmv voucher answer easi question play send hmv info www percent real com', 'usf guess', 'object bf come', 'thanx', 'tell rob mack gf theater', 'awesom', 'sent type food like', 'done hand celebr full swing yet', 'got call tool', 'nan', 'great comedi cant stop laugh da', 'freemsg feelin kinda lnli hope u like keep compani jst got cam mobi wanna c pic txt repli date msg p rcv hlp stop', 'alright', 'hi', 'sleep nt feel well', 'u switch fone dammit', 'india take lead', 'post l r class', 'tht wat wright brother fli', 'even v good somewhat event laden fill', 'u laugh realli loud u talk spontan u dont care other feel u probabl dear amp', 'laptop take', 'dont file bag work call tell find anyth room', 'wan earli lei outsid wun b home earli neva mind', 'ur chanc win cash everi wk txt action c www movietrivia tv custcar', 'bugi juz wat walk home oredi late repli oso saw top dat like din buy r', 'wish famili merri x ma happi new year advanc', 'go ok na', 'ye post coupl pic fb still snow outsid wake', 'one good partnership go take lead', 'rgent nd attempt contact u u call b csbcm wc n xx callcost ppm mobilesvari max', 'yeah', 'send bec templ na', 'come home class', 'hi ur lookin sauci daytim fun wiv busti marri woman free next week chat sort time janinexx call minmobsmorelkpobox hp fl', 'mostli like', 'v fan']\n"
     ]
    }
   ],
   "source": [
    "corpus = []\n",
    "for i in range(0, len(df)):\n",
    "    review = re.sub('[^a-zA-Z]', ' ',str(df['message'][i]))## replacing all with space other that characters or alphabets \n",
    "    review = review.lower()\n",
    "    review = review.split()\n",
    "    \n",
    "    review = [ps.stem(word) for word in review if not word in stopwords.words('english')]# stemming all the words which are not present in  stopwords \n",
    "    review = ' '.join(review)\n",
    "    corpus.append(review)\n",
    "print(corpus)"
   ]
  },
  {
   "cell_type": "code",
   "execution_count": 9,
   "id": "d6e2b994",
   "metadata": {},
   "outputs": [],
   "source": [
    "from sklearn.feature_extraction.text import CountVectorizer\n",
    "cv = CountVectorizer(max_features=2500)\n",
    "X1 = cv.fit_transform(corpus).toarray()"
   ]
  },
  {
   "cell_type": "code",
   "execution_count": 10,
   "id": "4f5cc0fa",
   "metadata": {},
   "outputs": [
    {
     "name": "stdout",
     "output_type": "stream",
     "text": [
      "[0 0 0 0 0 0 0 0 0 0 0 0 0 0 0 0 0 0 0 0 0 0 0 0 0 0 0 0 0 0 0 0 0 0 0 0 0\n",
      " 0 0 0 0 0 0 0 0 0 0 0 0 0 0 0 0 0 0 0 0 0 0 0 0 0 0 0 0 0 0 0 0 0 0 0 0 0\n",
      " 0 0 0 0 0 0 0 0 0 0 0 0 0 0 0 0 0 0 0 0 0 0 0 0 0 0 0 0 0 0 0 0 0 0 0 0 0\n",
      " 0 0 0 0 0 0 0 0 0 0 0 0 0 0 0 0 0 0 0 0 0 0 0 0 0 0 0 0 0 0 0 0 0 0 0 0 0\n",
      " 0 0 0 0 0 0 0 0 0 0 0 0 0 0 0 0 0 0 0 0 0 0 0 0 0 0 0 0 0 0 0 0 0 0 0 0 0\n",
      " 0 0 0 0 0 0 0 0 0 0 0 0 0 0 0 0 0 0 0 0 0 0 0 0 0 0 0 0 0 0 0 0 0 0 0 0 0\n",
      " 0 0 0 0 0 0 0 0 0 0 0 0 0 0 0 0 0 0 0 0 0 0 0 0 0 0 0 0 0 0 0 0 0 0 0 0 0\n",
      " 0 0 0 0 0 0 0 0 0 0 0 0 0 0 0 0 0 0 0 0 0 0 0 0 0 0 0 0 0 0 0 0 0 0 0 0 0\n",
      " 0 0 0 0 0 0 0 0 0 0 0 0 0 0 0 0 0 0 0 0 0 0 0 0 0 0 0 0 0 0 0 0 0 0 0 0 0\n",
      " 0 0 0 0 0 0 0 0 1 0 0 0 0 0 0 0 0 0 0 0 0 0 0 0 0 0 0 0 0 0 0 0 0 0 0 0 0\n",
      " 0 0 0 0 0 0 0 0 0 0 0 0 0 0 0 0 0 0 0 0 0 0 0 0 0 0 0 0 0 0 0 0 0 0 0 0 0\n",
      " 0 0 0 0 0 0 0 0 0 0 0 0 0 0 0 0 0 0 0 0 0 0 0 0 0 0 0 0 0 0 0 0 0 0 0 1 0\n",
      " 0 0 0 0 0 0 0 0 0 0 0 0 0 0 0 0 0 0 0 0 0 0 0 0 0 0 0 0 0 0 0 0 0 0 0 0 0\n",
      " 0 0 0 0 0 0 0 0 0 0 0 0 0 0 0 0 0 0 0 0 0 0 0 0 0 0 0 0 0 0 0 0 0 0 0 0 0\n",
      " 0 0 0 0 0 0 0 0 0 0 0 0 0 0 0 0 0 0 0 0 0 0 0 0 0 0 0 0 0 0 0 0 0 0 0 0 0\n",
      " 0 0 0 0 0 0 0 0 0 0 0 0 0 0 0 0 0 0 0 0 0 0 0 0 0 0 0 0 0 0 0 0 0 0 0 0 0\n",
      " 0 0 0 0 0 0 0 0 0 0 0 0 0 0 0 0 0 0 0 0 0 0 0 0 0 0 0 0 0 0 0 0 0 0 0 0 0\n",
      " 0 0 0 0 0 0 0 0 0 0 0 0 0 0 0 0 0 0 0 0 0 0 0 0 0 0 0 0 1 0 0 0 0 0 0 0 0\n",
      " 0 0 0 0 0 0 0 0 0 0 0 0 0 0 0 0 0 0 0 0 0 0 0 0 0 0 0 0 0 0 0 0 0 0 0 0 0\n",
      " 0 0 0 0 0 0 0 0 0 0 0 0 0 0 0 0 0 0 0 0 0 0 0 0 0 0 0 0 0 0 0 0 0 0 0 0 0\n",
      " 0 0 0 0 0 0 0 0 0 0 0 0 0 0 0 0 0 0 0 0 0 0 0 0 0 0 0 0 0 0 0 0 0 0 0 0 0\n",
      " 0 0 0 0 0 0 0 0 0 0 0 0 0 0 0 0 0 0 0 0 0 0 0 0 0 0 0 0 0 0 0 0 0 0 0 0 0\n",
      " 0 0 0 0 0 0 0 0 0 0 0 0 0 0 0 0 0 0 0 0 0 0 0 0 0 0 0 0 0 0 0 0 0 0 0 0 0\n",
      " 0 0 0 0 0 0 0 0 0 0 0 0 0 0 0 0 0 0 0 0 0 0 0 0 0 0 0 0 0 0 0 0 0 0 0 0 0\n",
      " 0 0 0 0 0 0 0 0 0 0 0 0 0 0 0 0 0 0 0 0 0 0 0 0 0 0 0 0 0 0 0 0 0 0 0 0 0\n",
      " 0 0 0 0 0 0 0 0 0 0 0 0 0 0 0 0 0 0 0 0 0 0 0 0 0 0 0 0 0 0 0 0 0 0 0 0 0\n",
      " 0 0 0 0 0 0 0 0 0 0 0 0 0 0 0 0 0 0 0 0 0 0 0 0 0 0 0 0 0 0 0 0]\n"
     ]
    }
   ],
   "source": [
    "print(X1[0])"
   ]
  },
  {
   "cell_type": "code",
   "execution_count": 11,
   "id": "8ceb950c",
   "metadata": {},
   "outputs": [],
   "source": [
    "from sklearn.feature_extraction.text import TfidfVectorizer\n",
    "cv = TfidfVectorizer()\n",
    "X2 = cv.fit_transform(corpus).toarray()"
   ]
  },
  {
   "cell_type": "code",
   "execution_count": 12,
   "id": "7963ba08",
   "metadata": {},
   "outputs": [
    {
     "name": "stdout",
     "output_type": "stream",
     "text": [
      "[0.         0.         0.         0.         0.         0.\n",
      " 0.         0.         0.         0.         0.         0.\n",
      " 0.         0.         0.         0.         0.         0.\n",
      " 0.         0.         0.         0.         0.         0.\n",
      " 0.         0.         0.         0.         0.         0.\n",
      " 0.         0.         0.         0.         0.         0.\n",
      " 0.         0.         0.         0.         0.         0.\n",
      " 0.         0.         0.         0.         0.         0.\n",
      " 0.         0.         0.         0.         0.         0.\n",
      " 0.         0.         0.         0.         0.         0.\n",
      " 0.         0.         0.         0.         0.         0.\n",
      " 0.         0.         0.         0.         0.         0.\n",
      " 0.         0.         0.         0.         0.         0.\n",
      " 0.         0.         0.         0.         0.         0.\n",
      " 0.         0.         0.         0.         0.         0.\n",
      " 0.         0.         0.         0.         0.         0.\n",
      " 0.         0.         0.         0.         0.         0.\n",
      " 0.         0.         0.         0.         0.         0.\n",
      " 0.         0.         0.         0.         0.         0.\n",
      " 0.         0.         0.         0.         0.         0.\n",
      " 0.         0.         0.         0.         0.         0.\n",
      " 0.         0.         0.         0.         0.         0.\n",
      " 0.         0.         0.         0.         0.         0.\n",
      " 0.         0.         0.         0.         0.         0.\n",
      " 0.         0.         0.         0.         0.         0.\n",
      " 0.         0.         0.         0.         0.         0.\n",
      " 0.         0.         0.         0.         0.         0.\n",
      " 0.         0.         0.         0.         0.         0.\n",
      " 0.         0.         0.         0.         0.         0.\n",
      " 0.         0.         0.         0.         0.         0.\n",
      " 0.         0.         0.         0.         0.         0.\n",
      " 0.         0.         0.         0.         0.         0.\n",
      " 0.         0.         0.         0.         0.         0.\n",
      " 0.         0.         0.         0.         0.         0.\n",
      " 0.         0.         0.         0.         0.         0.\n",
      " 0.         0.         0.         0.         0.         0.\n",
      " 0.         0.         0.         0.         0.         0.\n",
      " 0.         0.         0.         0.         0.         0.\n",
      " 0.         0.         0.         0.         0.         0.\n",
      " 0.         0.         0.         0.         0.         0.\n",
      " 0.         0.         0.         0.         0.         0.\n",
      " 0.         0.         0.         0.         0.         0.\n",
      " 0.         0.         0.         0.         0.         0.\n",
      " 0.         0.         0.         0.         0.         0.\n",
      " 0.         0.         0.         0.         0.         0.\n",
      " 0.         0.         0.         0.         0.         0.\n",
      " 0.         0.         0.         0.         0.         0.\n",
      " 0.         0.         0.         0.         0.         0.\n",
      " 0.         0.         0.         0.         0.         0.\n",
      " 0.         0.         0.         0.         0.         0.\n",
      " 0.         0.         0.         0.         0.         0.\n",
      " 0.         0.         0.         0.         0.         0.\n",
      " 0.         0.         0.         0.         0.         0.\n",
      " 0.         0.         0.         0.         0.         0.\n",
      " 0.         0.         0.         0.         0.         0.\n",
      " 0.         0.         0.         0.         0.         0.\n",
      " 0.         0.         0.         0.         0.         0.41607472\n",
      " 0.         0.         0.         0.         0.         0.\n",
      " 0.         0.         0.         0.         0.         0.\n",
      " 0.         0.         0.         0.         0.         0.\n",
      " 0.         0.         0.         0.         0.         0.\n",
      " 0.         0.         0.         0.         0.         0.\n",
      " 0.         0.         0.         0.         0.         0.\n",
      " 0.         0.         0.         0.         0.         0.\n",
      " 0.         0.         0.         0.         0.         0.\n",
      " 0.         0.         0.         0.         0.         0.\n",
      " 0.         0.         0.         0.         0.         0.\n",
      " 0.         0.         0.         0.         0.         0.\n",
      " 0.         0.         0.         0.         0.         0.\n",
      " 0.         0.         0.         0.         0.         0.\n",
      " 0.         0.         0.         0.         0.         0.\n",
      " 0.         0.         0.         0.         0.         0.\n",
      " 0.         0.         0.         0.         0.         0.\n",
      " 0.         0.         0.         0.         0.68083147 0.\n",
      " 0.         0.         0.         0.         0.         0.\n",
      " 0.         0.         0.         0.         0.         0.\n",
      " 0.         0.         0.         0.         0.         0.\n",
      " 0.         0.         0.         0.         0.         0.\n",
      " 0.         0.         0.         0.         0.         0.\n",
      " 0.         0.         0.         0.         0.         0.\n",
      " 0.         0.         0.         0.         0.         0.\n",
      " 0.         0.         0.         0.         0.         0.\n",
      " 0.         0.         0.         0.         0.         0.\n",
      " 0.         0.         0.         0.         0.         0.\n",
      " 0.         0.         0.         0.         0.         0.\n",
      " 0.         0.         0.         0.         0.         0.\n",
      " 0.         0.         0.         0.         0.         0.\n",
      " 0.         0.         0.         0.         0.         0.\n",
      " 0.         0.         0.         0.         0.         0.\n",
      " 0.         0.         0.         0.         0.         0.\n",
      " 0.         0.         0.         0.         0.         0.\n",
      " 0.         0.         0.         0.         0.         0.\n",
      " 0.         0.         0.         0.         0.         0.\n",
      " 0.         0.         0.         0.         0.         0.\n",
      " 0.         0.         0.         0.         0.         0.\n",
      " 0.         0.         0.         0.         0.         0.\n",
      " 0.         0.         0.         0.         0.         0.\n",
      " 0.         0.         0.         0.         0.         0.\n",
      " 0.         0.         0.         0.         0.         0.\n",
      " 0.         0.         0.         0.         0.         0.\n",
      " 0.         0.         0.         0.         0.         0.\n",
      " 0.         0.         0.         0.         0.         0.\n",
      " 0.         0.         0.         0.         0.         0.\n",
      " 0.         0.         0.         0.         0.         0.\n",
      " 0.         0.         0.         0.         0.         0.\n",
      " 0.         0.         0.         0.         0.         0.\n",
      " 0.         0.         0.         0.         0.         0.\n",
      " 0.         0.         0.         0.         0.         0.\n",
      " 0.         0.         0.         0.         0.         0.\n",
      " 0.         0.         0.         0.60278548 0.         0.\n",
      " 0.         0.         0.         0.         0.         0.\n",
      " 0.         0.         0.         0.         0.         0.\n",
      " 0.         0.         0.         0.         0.         0.\n",
      " 0.         0.         0.         0.         0.         0.\n",
      " 0.         0.         0.         0.         0.         0.\n",
      " 0.         0.         0.         0.         0.         0.\n",
      " 0.         0.         0.         0.         0.         0.\n",
      " 0.         0.         0.         0.         0.         0.\n",
      " 0.         0.         0.         0.         0.         0.\n",
      " 0.         0.         0.         0.         0.         0.\n",
      " 0.         0.         0.         0.         0.         0.\n",
      " 0.         0.         0.         0.         0.         0.\n",
      " 0.         0.         0.         0.         0.         0.\n",
      " 0.         0.         0.         0.         0.         0.\n",
      " 0.         0.         0.         0.         0.         0.\n",
      " 0.         0.         0.         0.         0.         0.\n",
      " 0.         0.         0.         0.         0.         0.\n",
      " 0.         0.         0.         0.         0.         0.\n",
      " 0.         0.         0.         0.         0.         0.\n",
      " 0.         0.         0.         0.         0.         0.\n",
      " 0.         0.         0.         0.         0.         0.\n",
      " 0.         0.         0.         0.         0.         0.\n",
      " 0.         0.         0.         0.         0.         0.\n",
      " 0.         0.         0.         0.         0.         0.\n",
      " 0.         0.         0.         0.         0.         0.\n",
      " 0.         0.         0.         0.         0.         0.\n",
      " 0.         0.         0.         0.         0.         0.\n",
      " 0.         0.         0.         0.         0.         0.\n",
      " 0.         0.         0.         0.         0.         0.\n",
      " 0.         0.         0.         0.         0.         0.\n",
      " 0.         0.         0.         0.         0.         0.\n",
      " 0.         0.         0.         0.         0.         0.\n",
      " 0.         0.         0.         0.         0.         0.\n",
      " 0.         0.         0.         0.         0.         0.\n",
      " 0.         0.         0.         0.         0.         0.\n",
      " 0.         0.         0.         0.         0.         0.\n",
      " 0.         0.         0.         0.         0.         0.\n",
      " 0.         0.         0.         0.         0.         0.\n",
      " 0.         0.         0.         0.         0.         0.\n",
      " 0.         0.         0.         0.         0.         0.\n",
      " 0.         0.         0.         0.         0.         0.\n",
      " 0.         0.         0.         0.         0.         0.\n",
      " 0.         0.         0.         0.         0.         0.\n",
      " 0.         0.         0.         0.         0.         0.\n",
      " 0.         0.         0.         0.         0.         0.\n",
      " 0.         0.         0.         0.         0.         0.\n",
      " 0.         0.         0.         0.         0.         0.\n",
      " 0.         0.         0.         0.         0.         0.\n",
      " 0.         0.         0.         0.         0.         0.\n",
      " 0.         0.         0.         0.         0.         0.\n",
      " 0.         0.         0.         0.         0.         0.\n",
      " 0.         0.         0.         0.         0.         0.\n",
      " 0.         0.         0.         0.         0.         0.\n",
      " 0.         0.         0.         0.         0.         0.\n",
      " 0.         0.         0.         0.         0.         0.\n",
      " 0.         0.         0.         0.        ]\n"
     ]
    }
   ],
   "source": [
    "print(X2[0])"
   ]
  }
 ],
 "metadata": {
  "kernelspec": {
   "display_name": "Python 3",
   "language": "python",
   "name": "python3"
  },
  "language_info": {
   "codemirror_mode": {
    "name": "ipython",
    "version": 3
   },
   "file_extension": ".py",
   "mimetype": "text/x-python",
   "name": "python",
   "nbconvert_exporter": "python",
   "pygments_lexer": "ipython3",
   "version": "3.9.5"
  }
 },
 "nbformat": 4,
 "nbformat_minor": 5
}
