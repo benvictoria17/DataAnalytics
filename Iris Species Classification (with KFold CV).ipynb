{
 "cells": [
  {
   "cell_type": "code",
   "execution_count": 1,
   "id": "98ed8730",
   "metadata": {},
   "outputs": [],
   "source": [
    "import pandas as pd \n",
    "import numpy as np\n",
    "import matplotlib.pyplot as plt\n",
    "import seaborn as sns"
   ]
  },
  {
   "cell_type": "code",
   "execution_count": 3,
   "id": "a46268ef",
   "metadata": {},
   "outputs": [],
   "source": [
    "data = pd.read_csv(\"https://raw.githubusercontent.com/benvictoria17/DataAnalytics/master/dataset/Iris%20Species/Iris.csv\")"
   ]
  },
  {
   "cell_type": "code",
   "execution_count": 4,
   "id": "04929e7d",
   "metadata": {},
   "outputs": [
    {
     "data": {
      "text/html": [
       "<div>\n",
       "<style scoped>\n",
       "    .dataframe tbody tr th:only-of-type {\n",
       "        vertical-align: middle;\n",
       "    }\n",
       "\n",
       "    .dataframe tbody tr th {\n",
       "        vertical-align: top;\n",
       "    }\n",
       "\n",
       "    .dataframe thead th {\n",
       "        text-align: right;\n",
       "    }\n",
       "</style>\n",
       "<table border=\"1\" class=\"dataframe\">\n",
       "  <thead>\n",
       "    <tr style=\"text-align: right;\">\n",
       "      <th></th>\n",
       "      <th>Id</th>\n",
       "      <th>SepalLengthCm</th>\n",
       "      <th>SepalWidthCm</th>\n",
       "      <th>PetalLengthCm</th>\n",
       "      <th>PetalWidthCm</th>\n",
       "      <th>Species</th>\n",
       "    </tr>\n",
       "  </thead>\n",
       "  <tbody>\n",
       "    <tr>\n",
       "      <th>0</th>\n",
       "      <td>1</td>\n",
       "      <td>5.1</td>\n",
       "      <td>3.5</td>\n",
       "      <td>1.4</td>\n",
       "      <td>0.2</td>\n",
       "      <td>Iris-setosa</td>\n",
       "    </tr>\n",
       "    <tr>\n",
       "      <th>1</th>\n",
       "      <td>2</td>\n",
       "      <td>4.9</td>\n",
       "      <td>3.0</td>\n",
       "      <td>1.4</td>\n",
       "      <td>0.2</td>\n",
       "      <td>Iris-setosa</td>\n",
       "    </tr>\n",
       "    <tr>\n",
       "      <th>2</th>\n",
       "      <td>3</td>\n",
       "      <td>4.7</td>\n",
       "      <td>3.2</td>\n",
       "      <td>1.3</td>\n",
       "      <td>0.2</td>\n",
       "      <td>Iris-setosa</td>\n",
       "    </tr>\n",
       "    <tr>\n",
       "      <th>3</th>\n",
       "      <td>4</td>\n",
       "      <td>4.6</td>\n",
       "      <td>3.1</td>\n",
       "      <td>1.5</td>\n",
       "      <td>0.2</td>\n",
       "      <td>Iris-setosa</td>\n",
       "    </tr>\n",
       "    <tr>\n",
       "      <th>4</th>\n",
       "      <td>5</td>\n",
       "      <td>5.0</td>\n",
       "      <td>3.6</td>\n",
       "      <td>1.4</td>\n",
       "      <td>0.2</td>\n",
       "      <td>Iris-setosa</td>\n",
       "    </tr>\n",
       "  </tbody>\n",
       "</table>\n",
       "</div>"
      ],
      "text/plain": [
       "   Id  SepalLengthCm  SepalWidthCm  PetalLengthCm  PetalWidthCm      Species\n",
       "0   1            5.1           3.5            1.4           0.2  Iris-setosa\n",
       "1   2            4.9           3.0            1.4           0.2  Iris-setosa\n",
       "2   3            4.7           3.2            1.3           0.2  Iris-setosa\n",
       "3   4            4.6           3.1            1.5           0.2  Iris-setosa\n",
       "4   5            5.0           3.6            1.4           0.2  Iris-setosa"
      ]
     },
     "execution_count": 4,
     "metadata": {},
     "output_type": "execute_result"
    }
   ],
   "source": [
    "data.head()"
   ]
  },
  {
   "cell_type": "code",
   "execution_count": 5,
   "id": "50820552",
   "metadata": {},
   "outputs": [
    {
     "name": "stdout",
     "output_type": "stream",
     "text": [
      "<class 'pandas.core.frame.DataFrame'>\n",
      "RangeIndex: 150 entries, 0 to 149\n",
      "Data columns (total 6 columns):\n",
      " #   Column         Non-Null Count  Dtype  \n",
      "---  ------         --------------  -----  \n",
      " 0   Id             150 non-null    int64  \n",
      " 1   SepalLengthCm  150 non-null    float64\n",
      " 2   SepalWidthCm   150 non-null    float64\n",
      " 3   PetalLengthCm  150 non-null    float64\n",
      " 4   PetalWidthCm   150 non-null    float64\n",
      " 5   Species        150 non-null    object \n",
      "dtypes: float64(4), int64(1), object(1)\n",
      "memory usage: 7.2+ KB\n"
     ]
    }
   ],
   "source": [
    "data.info()"
   ]
  },
  {
   "cell_type": "code",
   "execution_count": 6,
   "id": "1aced88c",
   "metadata": {},
   "outputs": [
    {
     "data": {
      "text/plain": [
       "Iris-setosa        50\n",
       "Iris-versicolor    50\n",
       "Iris-virginica     50\n",
       "Name: Species, dtype: int64"
      ]
     },
     "execution_count": 6,
     "metadata": {},
     "output_type": "execute_result"
    }
   ],
   "source": [
    "data.Species.value_counts()"
   ]
  },
  {
   "cell_type": "code",
   "execution_count": 7,
   "id": "6a51431d",
   "metadata": {},
   "outputs": [
    {
     "data": {
      "text/plain": [
       "<seaborn.axisgrid.FacetGrid at 0x15d095b20>"
      ]
     },
     "execution_count": 7,
     "metadata": {},
     "output_type": "execute_result"
    },
    {
     "data": {
      "image/png": "[encoded data removed]",
      "text/plain": [
       "<Figure size 607.25x504 with 1 Axes>"
      ]
     },
     "metadata": {
      "needs_background": "light"
     },
     "output_type": "display_data"
    }
   ],
   "source": [
    "sns.FacetGrid(data, hue=\"Species\", height = 7) \\\n",
    "   .map(plt.scatter, \"SepalLengthCm\", \"SepalWidthCm\") \\\n",
    "   .add_legend()"
   ]
  },
  {
   "cell_type": "code",
   "execution_count": 8,
   "id": "aaee9c4c",
   "metadata": {},
   "outputs": [
    {
     "data": {
      "text/plain": [
       "<seaborn.axisgrid.FacetGrid at 0x15d095d30>"
      ]
     },
     "execution_count": 8,
     "metadata": {},
     "output_type": "execute_result"
    },
    {
     "data": {
      "image/png": "[encoded data removed]",
      "text/plain": [
       "<Figure size 607.25x504 with 1 Axes>"
      ]
     },
     "metadata": {
      "needs_background": "light"
     },
     "output_type": "display_data"
    }
   ],
   "source": [
    "sns.FacetGrid(data, hue=\"Species\", height = 7)\\\n",
    "   .map(plt.scatter, \"PetalLengthCm\", \"PetalWidthCm\") \\\n",
    "   .add_legend()"
   ]
  },
  {
   "cell_type": "code",
   "execution_count": 9,
   "id": "7af584cb",
   "metadata": {},
   "outputs": [
    {
     "data": {
      "text/plain": [
       "<AxesSubplot:xlabel='Species', ylabel='SepalWidthCm'>"
      ]
     },
     "execution_count": 9,
     "metadata": {},
     "output_type": "execute_result"
    },
    {
     "data": {
      "image/png": "[encoded data removed]",
      "text/plain": [
       "<Figure size 1080x720 with 4 Axes>"
      ]
     },
     "metadata": {
      "needs_background": "light"
     },
     "output_type": "display_data"
    }
   ],
   "source": [
    "plt.figure(figsize=(15,10))\n",
    "plt.subplot(2,2,1)\n",
    "sns.violinplot(x='Species',y='PetalLengthCm',data=data)\n",
    "plt.subplot(2,2,2)\n",
    "sns.violinplot(x='Species',y='PetalWidthCm',data=data)\n",
    "plt.subplot(2,2,3)\n",
    "sns.violinplot(x='Species',y='SepalLengthCm',data=data)\n",
    "plt.subplot(2,2,4)\n",
    "sns.violinplot(x='Species',y='SepalWidthCm',data=data)"
   ]
  },
  {
   "cell_type": "code",
   "execution_count": 10,
   "id": "37039e07",
   "metadata": {},
   "outputs": [
    {
     "data": {
      "text/html": [
       "<div>\n",
       "<style scoped>\n",
       "    .dataframe tbody tr th:only-of-type {\n",
       "        vertical-align: middle;\n",
       "    }\n",
       "\n",
       "    .dataframe tbody tr th {\n",
       "        vertical-align: top;\n",
       "    }\n",
       "\n",
       "    .dataframe thead th {\n",
       "        text-align: right;\n",
       "    }\n",
       "</style>\n",
       "<table border=\"1\" class=\"dataframe\">\n",
       "  <thead>\n",
       "    <tr style=\"text-align: right;\">\n",
       "      <th></th>\n",
       "      <th>Id</th>\n",
       "      <th>SepalLengthCm</th>\n",
       "      <th>SepalWidthCm</th>\n",
       "      <th>PetalLengthCm</th>\n",
       "      <th>PetalWidthCm</th>\n",
       "      <th>Species</th>\n",
       "    </tr>\n",
       "  </thead>\n",
       "  <tbody>\n",
       "    <tr>\n",
       "      <th>0</th>\n",
       "      <td>1</td>\n",
       "      <td>5.1</td>\n",
       "      <td>3.5</td>\n",
       "      <td>1.4</td>\n",
       "      <td>0.2</td>\n",
       "      <td>Iris-setosa</td>\n",
       "    </tr>\n",
       "    <tr>\n",
       "      <th>1</th>\n",
       "      <td>2</td>\n",
       "      <td>4.9</td>\n",
       "      <td>3.0</td>\n",
       "      <td>1.4</td>\n",
       "      <td>0.2</td>\n",
       "      <td>Iris-setosa</td>\n",
       "    </tr>\n",
       "    <tr>\n",
       "      <th>2</th>\n",
       "      <td>3</td>\n",
       "      <td>4.7</td>\n",
       "      <td>3.2</td>\n",
       "      <td>1.3</td>\n",
       "      <td>0.2</td>\n",
       "      <td>Iris-setosa</td>\n",
       "    </tr>\n",
       "    <tr>\n",
       "      <th>3</th>\n",
       "      <td>4</td>\n",
       "      <td>4.6</td>\n",
       "      <td>3.1</td>\n",
       "      <td>1.5</td>\n",
       "      <td>0.2</td>\n",
       "      <td>Iris-setosa</td>\n",
       "    </tr>\n",
       "    <tr>\n",
       "      <th>4</th>\n",
       "      <td>5</td>\n",
       "      <td>5.0</td>\n",
       "      <td>3.6</td>\n",
       "      <td>1.4</td>\n",
       "      <td>0.2</td>\n",
       "      <td>Iris-setosa</td>\n",
       "    </tr>\n",
       "  </tbody>\n",
       "</table>\n",
       "</div>"
      ],
      "text/plain": [
       "   Id  SepalLengthCm  SepalWidthCm  PetalLengthCm  PetalWidthCm      Species\n",
       "0   1            5.1           3.5            1.4           0.2  Iris-setosa\n",
       "1   2            4.9           3.0            1.4           0.2  Iris-setosa\n",
       "2   3            4.7           3.2            1.3           0.2  Iris-setosa\n",
       "3   4            4.6           3.1            1.5           0.2  Iris-setosa\n",
       "4   5            5.0           3.6            1.4           0.2  Iris-setosa"
      ]
     },
     "execution_count": 10,
     "metadata": {},
     "output_type": "execute_result"
    }
   ],
   "source": [
    "dataset = [data]\n",
    "data.head()"
   ]
  },
  {
   "cell_type": "code",
   "execution_count": 11,
   "id": "fad270a1",
   "metadata": {},
   "outputs": [
    {
     "data": {
      "text/plain": [
       "count    150.000000\n",
       "mean       5.843333\n",
       "std        0.828066\n",
       "min        4.300000\n",
       "25%        5.100000\n",
       "50%        5.800000\n",
       "75%        6.400000\n",
       "max        7.900000\n",
       "Name: SepalLengthCm, dtype: float64"
      ]
     },
     "execution_count": 11,
     "metadata": {},
     "output_type": "execute_result"
    }
   ],
   "source": [
    "data[\"SepalLengthCm\"].describe()"
   ]
  },
  {
   "cell_type": "code",
   "execution_count": 12,
   "id": "e22835cb",
   "metadata": {},
   "outputs": [
    {
     "name": "stdout",
     "output_type": "stream",
     "text": [
      "0      (4.296, 5.5]\n",
      "1      (4.296, 5.5]\n",
      "2      (4.296, 5.5]\n",
      "3      (4.296, 5.5]\n",
      "4      (4.296, 5.5]\n",
      "           ...     \n",
      "145      (5.5, 6.7]\n",
      "146      (5.5, 6.7]\n",
      "147      (5.5, 6.7]\n",
      "148      (5.5, 6.7]\n",
      "149      (5.5, 6.7]\n",
      "Name: CategoricalSepalLengthCm, Length: 150, dtype: category\n",
      "Categories (3, interval[float64, right]): [(4.296, 5.5] < (5.5, 6.7] < (6.7, 7.9]]\n"
     ]
    }
   ],
   "source": [
    "data['CategoricalSepalLengthCm'] = pd.cut(data['SepalLengthCm'], 3)\n",
    "print(data['CategoricalSepalLengthCm'])"
   ]
  },
  {
   "cell_type": "code",
   "execution_count": 13,
   "id": "ba3e7c5a",
   "metadata": {},
   "outputs": [],
   "source": [
    "for _data in dataset:\n",
    "    _data.loc[_data['SepalLengthCm']<=5.5, 'SepalLengthCm'] = 0\n",
    "    _data.loc[(_data['SepalLengthCm'] > 5.5) & (data['SepalLengthCm'] <= 6.7), 'SepalLengthCm'] = 1\n",
    "    _data.loc[_data['SepalLengthCm']>6.7, 'SepalLengthCm'] = 2"
   ]
  },
  {
   "cell_type": "code",
   "execution_count": 14,
   "id": "1fed595b",
   "metadata": {},
   "outputs": [
    {
     "data": {
      "text/plain": [
       "count    150.000000\n",
       "mean       0.740000\n",
       "std        0.679814\n",
       "min        0.000000\n",
       "25%        0.000000\n",
       "50%        1.000000\n",
       "75%        1.000000\n",
       "max        2.000000\n",
       "Name: SepalLengthCm, dtype: float64"
      ]
     },
     "execution_count": 14,
     "metadata": {},
     "output_type": "execute_result"
    }
   ],
   "source": [
    "data[\"SepalLengthCm\"].describe()"
   ]
  },
  {
   "cell_type": "code",
   "execution_count": 15,
   "id": "57ad55a9",
   "metadata": {},
   "outputs": [
    {
     "name": "stdout",
     "output_type": "stream",
     "text": [
      "0        (2.8, 3.6]\n",
      "1        (2.8, 3.6]\n",
      "2        (2.8, 3.6]\n",
      "3        (2.8, 3.6]\n",
      "4        (2.8, 3.6]\n",
      "           ...     \n",
      "145      (2.8, 3.6]\n",
      "146    (1.998, 2.8]\n",
      "147      (2.8, 3.6]\n",
      "148      (2.8, 3.6]\n",
      "149      (2.8, 3.6]\n",
      "Name: CategoricalSepalWidthCm, Length: 150, dtype: category\n",
      "Categories (3, interval[float64, right]): [(1.998, 2.8] < (2.8, 3.6] < (3.6, 4.4]]\n"
     ]
    }
   ],
   "source": [
    "data['CategoricalSepalWidthCm'] = pd.cut(data['SepalWidthCm'], 3)\n",
    "print(data['CategoricalSepalWidthCm'])"
   ]
  },
  {
   "cell_type": "code",
   "execution_count": 16,
   "id": "7bdc1c83",
   "metadata": {},
   "outputs": [],
   "source": [
    "for _data in dataset:\n",
    "    _data.loc[_data['SepalWidthCm']<=2.8, 'SepalWidthCm'] = 0\n",
    "    _data.loc[(_data['SepalWidthCm'] > 2.8) & (data['SepalWidthCm'] <= 3.6), 'SepalWidthCm'] = 1\n",
    "    _data.loc[_data['SepalWidthCm']>3.6, 'SepalWidthCm'] = 2"
   ]
  },
  {
   "cell_type": "code",
   "execution_count": 17,
   "id": "65ac2d35",
   "metadata": {},
   "outputs": [
    {
     "data": {
      "text/plain": [
       "count    150.000000\n",
       "mean       3.758667\n",
       "std        1.764420\n",
       "min        1.000000\n",
       "25%        1.600000\n",
       "50%        4.350000\n",
       "75%        5.100000\n",
       "max        6.900000\n",
       "Name: PetalLengthCm, dtype: float64"
      ]
     },
     "execution_count": 17,
     "metadata": {},
     "output_type": "execute_result"
    }
   ],
   "source": [
    "data[\"PetalLengthCm\"].describe()"
   ]
  },
  {
   "cell_type": "code",
   "execution_count": 18,
   "id": "9dbaa47b",
   "metadata": {},
   "outputs": [
    {
     "name": "stdout",
     "output_type": "stream",
     "text": [
      "0      (0.994, 2.967]\n",
      "1      (0.994, 2.967]\n",
      "2      (0.994, 2.967]\n",
      "3      (0.994, 2.967]\n",
      "4      (0.994, 2.967]\n",
      "            ...      \n",
      "145      (4.933, 6.9]\n",
      "146      (4.933, 6.9]\n",
      "147      (4.933, 6.9]\n",
      "148      (4.933, 6.9]\n",
      "149      (4.933, 6.9]\n",
      "Name: CategoricalPetalLengthCm, Length: 150, dtype: category\n",
      "Categories (3, interval[float64, right]): [(0.994, 2.967] < (2.967, 4.933] < (4.933, 6.9]]\n"
     ]
    }
   ],
   "source": [
    "data['CategoricalPetalLengthCm'] = pd.cut(data['PetalLengthCm'], 3)\n",
    "print(data['CategoricalPetalLengthCm'])"
   ]
  },
  {
   "cell_type": "code",
   "execution_count": 19,
   "id": "ca2bf187",
   "metadata": {},
   "outputs": [],
   "source": [
    "for _data in dataset:\n",
    "    _data.loc[_data['PetalLengthCm']<=2.967, 'PetalLengthCm'] = 0\n",
    "    _data.loc[(_data['PetalLengthCm'] > 2.967) & (data['PetalLengthCm'] <= 4.933), 'PetalLengthCm'] = 1\n",
    "    _data.loc[_data['PetalLengthCm']>4.933, 'PetalLengthCm'] = 2"
   ]
  },
  {
   "cell_type": "code",
   "execution_count": 21,
   "id": "60266d74",
   "metadata": {},
   "outputs": [
    {
     "data": {
      "text/plain": [
       "count    150.000000\n",
       "mean       0.973333\n",
       "std        0.802234\n",
       "min        0.000000\n",
       "25%        0.000000\n",
       "50%        1.000000\n",
       "75%        2.000000\n",
       "max        2.000000\n",
       "Name: PetalLengthCm, dtype: float64"
      ]
     },
     "execution_count": 21,
     "metadata": {},
     "output_type": "execute_result"
    }
   ],
   "source": [
    "data[\"PetalLengthCm\"].describe()"
   ]
  },
  {
   "cell_type": "code",
   "execution_count": 22,
   "id": "bee7240c",
   "metadata": {},
   "outputs": [
    {
     "name": "stdout",
     "output_type": "stream",
     "text": [
      "0      (0.0976, 0.9]\n",
      "1      (0.0976, 0.9]\n",
      "2      (0.0976, 0.9]\n",
      "3      (0.0976, 0.9]\n",
      "4      (0.0976, 0.9]\n",
      "           ...      \n",
      "145       (1.7, 2.5]\n",
      "146       (1.7, 2.5]\n",
      "147       (1.7, 2.5]\n",
      "148       (1.7, 2.5]\n",
      "149       (1.7, 2.5]\n",
      "Name: CategoricalPetalWidthCm, Length: 150, dtype: category\n",
      "Categories (3, interval[float64, right]): [(0.0976, 0.9] < (0.9, 1.7] < (1.7, 2.5]]\n"
     ]
    }
   ],
   "source": [
    "data['CategoricalPetalWidthCm'] = pd.cut(data['PetalWidthCm'], 3)\n",
    "print(data['CategoricalPetalWidthCm'])"
   ]
  },
  {
   "cell_type": "code",
   "execution_count": 23,
   "id": "2608567f",
   "metadata": {},
   "outputs": [],
   "source": [
    "for _data in dataset:\n",
    "    _data.loc[_data['PetalWidthCm']<=0.9, 'PetalWidthCm'] = 0\n",
    "    _data.loc[(_data['PetalWidthCm'] > 0.9) & (data['PetalWidthCm'] <= 1.7), 'PetalWidthCm'] = 1\n",
    "    _data.loc[_data['PetalWidthCm']>1.7, 'PetalWidthCm'] = 2"
   ]
  },
  {
   "cell_type": "code",
   "execution_count": 24,
   "id": "55a5e8e8",
   "metadata": {},
   "outputs": [
    {
     "data": {
      "text/html": [
       "<div>\n",
       "<style scoped>\n",
       "    .dataframe tbody tr th:only-of-type {\n",
       "        vertical-align: middle;\n",
       "    }\n",
       "\n",
       "    .dataframe tbody tr th {\n",
       "        vertical-align: top;\n",
       "    }\n",
       "\n",
       "    .dataframe thead th {\n",
       "        text-align: right;\n",
       "    }\n",
       "</style>\n",
       "<table border=\"1\" class=\"dataframe\">\n",
       "  <thead>\n",
       "    <tr style=\"text-align: right;\">\n",
       "      <th></th>\n",
       "      <th>Id</th>\n",
       "      <th>SepalLengthCm</th>\n",
       "      <th>SepalWidthCm</th>\n",
       "      <th>PetalLengthCm</th>\n",
       "      <th>PetalWidthCm</th>\n",
       "      <th>Species</th>\n",
       "    </tr>\n",
       "  </thead>\n",
       "  <tbody>\n",
       "    <tr>\n",
       "      <th>0</th>\n",
       "      <td>1</td>\n",
       "      <td>0.0</td>\n",
       "      <td>1.0</td>\n",
       "      <td>0.0</td>\n",
       "      <td>0.0</td>\n",
       "      <td>Iris-setosa</td>\n",
       "    </tr>\n",
       "    <tr>\n",
       "      <th>1</th>\n",
       "      <td>2</td>\n",
       "      <td>0.0</td>\n",
       "      <td>1.0</td>\n",
       "      <td>0.0</td>\n",
       "      <td>0.0</td>\n",
       "      <td>Iris-setosa</td>\n",
       "    </tr>\n",
       "    <tr>\n",
       "      <th>2</th>\n",
       "      <td>3</td>\n",
       "      <td>0.0</td>\n",
       "      <td>1.0</td>\n",
       "      <td>0.0</td>\n",
       "      <td>0.0</td>\n",
       "      <td>Iris-setosa</td>\n",
       "    </tr>\n",
       "    <tr>\n",
       "      <th>3</th>\n",
       "      <td>4</td>\n",
       "      <td>0.0</td>\n",
       "      <td>1.0</td>\n",
       "      <td>0.0</td>\n",
       "      <td>0.0</td>\n",
       "      <td>Iris-setosa</td>\n",
       "    </tr>\n",
       "    <tr>\n",
       "      <th>4</th>\n",
       "      <td>5</td>\n",
       "      <td>0.0</td>\n",
       "      <td>1.0</td>\n",
       "      <td>0.0</td>\n",
       "      <td>0.0</td>\n",
       "      <td>Iris-setosa</td>\n",
       "    </tr>\n",
       "  </tbody>\n",
       "</table>\n",
       "</div>"
      ],
      "text/plain": [
       "   Id  SepalLengthCm  SepalWidthCm  PetalLengthCm  PetalWidthCm      Species\n",
       "0   1            0.0           1.0            0.0           0.0  Iris-setosa\n",
       "1   2            0.0           1.0            0.0           0.0  Iris-setosa\n",
       "2   3            0.0           1.0            0.0           0.0  Iris-setosa\n",
       "3   4            0.0           1.0            0.0           0.0  Iris-setosa\n",
       "4   5            0.0           1.0            0.0           0.0  Iris-setosa"
      ]
     },
     "execution_count": 24,
     "metadata": {},
     "output_type": "execute_result"
    }
   ],
   "source": [
    "features_drop = ['CategoricalSepalLengthCm', 'CategoricalSepalWidthCm', 'CategoricalPetalLengthCm', 'CategoricalPetalWidthCm']\n",
    "data = data.drop(features_drop, axis = 1)\n",
    "data.head()"
   ]
  },
  {
   "cell_type": "code",
   "execution_count": 25,
   "id": "c80984c7",
   "metadata": {},
   "outputs": [],
   "source": [
    "data.drop('Id',axis=1,inplace=True) \n",
    "from sklearn.tree import DecisionTreeClassifier\n",
    "from sklearn.ensemble import RandomForestClassifier\n",
    "from sklearn.svm import SVC\n",
    "\n",
    "\n",
    "from sklearn.model_selection import KFold\n",
    "from sklearn.model_selection import cross_val_score\n",
    "k_fold = KFold(n_splits=15, shuffle = True, random_state = 42)"
   ]
  },
  {
   "cell_type": "code",
   "execution_count": 26,
   "id": "a7ac141d",
   "metadata": {},
   "outputs": [
    {
     "data": {
      "image/png": "[encoded data removed]",
      "text/plain": [
       "<Figure size 648x432 with 2 Axes>"
      ]
     },
     "metadata": {
      "needs_background": "light"
     },
     "output_type": "display_data"
    }
   ],
   "source": [
    "plt.figure(figsize=(9,6)) \n",
    "sns.heatmap(data.corr(),annot=True,cmap='cubehelix_r')\n",
    "plt.show()"
   ]
  },
  {
   "cell_type": "code",
   "execution_count": 27,
   "id": "e9bbe737",
   "metadata": {},
   "outputs": [
    {
     "data": {
      "text/plain": [
       "((150, 3), (150,))"
      ]
     },
     "execution_count": 27,
     "metadata": {},
     "output_type": "execute_result"
    }
   ],
   "source": [
    "data.drop('PetalLengthCm',axis=1,inplace=True)\n",
    "train = data.drop('Species', axis = 1)\n",
    "target = data['Species']\n",
    "train.shape, target.shape"
   ]
  },
  {
   "cell_type": "code",
   "execution_count": 28,
   "id": "f1fe376e",
   "metadata": {},
   "outputs": [
    {
     "name": "stdout",
     "output_type": "stream",
     "text": [
      "[1.  1.  1.  1.  0.9 1.  1.  1.  0.9 0.8 1.  1.  1.  0.9 0.9]\n"
     ]
    }
   ],
   "source": [
    "clf = DecisionTreeClassifier()\n",
    "score = cross_val_score(clf, train, target, cv = k_fold, n_jobs = 3, scoring = 'accuracy')\n",
    "print(score)"
   ]
  },
  {
   "cell_type": "code",
   "execution_count": 29,
   "id": "8296c453",
   "metadata": {},
   "outputs": [
    {
     "name": "stdout",
     "output_type": "stream",
     "text": [
      "Average accuracy:  96.0 %\n",
      "Minimum accuracy:  80.0 %\n",
      "Maximum accuracy:  100.0 %\n"
     ]
    }
   ],
   "source": [
    "print(\"Average accuracy: \", round(np.mean(score)*100, 2), '%')\n",
    "print(\"Minimum accuracy: \", np.min(score)*100, '%')\n",
    "print(\"Maximum accuracy: \", np.max(score)*100, '%')"
   ]
  },
  {
   "cell_type": "code",
   "execution_count": 30,
   "id": "70426076",
   "metadata": {},
   "outputs": [
    {
     "name": "stdout",
     "output_type": "stream",
     "text": [
      "[1.  1.  1.  1.  0.9 1.  1.  1.  0.9 0.8 1.  1.  0.9 0.9 0.9]\n"
     ]
    }
   ],
   "source": [
    "clf = RandomForestClassifier()\n",
    "score = cross_val_score(clf, train, target, cv = k_fold, n_jobs = 3, scoring = 'accuracy')\n",
    "print(score)"
   ]
  },
  {
   "cell_type": "code",
   "execution_count": 31,
   "id": "64522497",
   "metadata": {},
   "outputs": [
    {
     "name": "stdout",
     "output_type": "stream",
     "text": [
      "Average accuracy:  95.33 %\n",
      "Minimum accuracy:  80.0 %\n",
      "Maximum accuracy:  100.0 %\n"
     ]
    }
   ],
   "source": [
    "print(\"Average accuracy: \", round(np.mean(score)*100, 2), '%')\n",
    "print(\"Minimum accuracy: \", np.min(score)*100, '%')\n",
    "print(\"Maximum accuracy: \", np.max(score)*100, '%')"
   ]
  },
  {
   "cell_type": "code",
   "execution_count": 32,
   "id": "9225a90c",
   "metadata": {},
   "outputs": [
    {
     "name": "stdout",
     "output_type": "stream",
     "text": [
      "[1.  1.  1.  1.  0.9 1.  1.  1.  0.9 0.8 1.  1.  1.  0.9 0.9]\n"
     ]
    }
   ],
   "source": [
    "clf = SVC()\n",
    "score = cross_val_score(clf, train, target, cv = k_fold, n_jobs = 3, scoring = 'accuracy')\n",
    "print(score)"
   ]
  },
  {
   "cell_type": "code",
   "execution_count": 33,
   "id": "cebc9615",
   "metadata": {},
   "outputs": [
    {
     "name": "stdout",
     "output_type": "stream",
     "text": [
      "Average accuracy:  96.0 %\n",
      "Minimum accuracy:  80.0 %\n",
      "Maximum accuracy:  100.0 %\n"
     ]
    }
   ],
   "source": [
    "print(\"Average accuracy: \", round(np.mean(score)*100, 2), '%')\n",
    "print(\"Minimum accuracy: \", np.min(score)*100, '%')\n",
    "print(\"Maximum accuracy: \", np.max(score)*100, '%')"
   ]
  }
 ],
 "metadata": {
  "kernelspec": {
   "display_name": "Python 3",
   "language": "python",
   "name": "python3"
  },
  "language_info": {
   "codemirror_mode": {
    "name": "ipython",
    "version": 3
   },
   "file_extension": ".py",
   "mimetype": "text/x-python",
   "name": "python",
   "nbconvert_exporter": "python",
   "pygments_lexer": "ipython3",
   "version": "3.9.5"
  }
 },
 "nbformat": 4,
 "nbformat_minor": 5
}
