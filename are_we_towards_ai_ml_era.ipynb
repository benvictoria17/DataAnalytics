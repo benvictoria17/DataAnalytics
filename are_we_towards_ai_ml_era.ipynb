{
  "nbformat": 4,
  "nbformat_minor": 0,
  "metadata": {
    "kernelspec": {
      "name": "python3",
      "display_name": "Python 3",
      "language": "python"
    },
    "language_info": {
      "name": "python",
      "version": "3.6.6",
      "mimetype": "text/x-python",
      "codemirror_mode": {
        "name": "ipython",
        "version": 3
      },
      "pygments_lexer": "ipython3",
      "nbconvert_exporter": "python",
      "file_extension": ".py"
    },
    "colab": {
      "name": "are-we-towards-ai-ml-era.ipynb",
      "provenance": [],
      "include_colab_link": true
    }
  },
  "cells": [
    {
      "cell_type": "markdown",
      "metadata": {
        "id": "view-in-github",
        "colab_type": "text"
      },
      "source": [
        "<a href=\"https://colab.research.google.com/github/benvictoria21/pandas/blob/master/are_we_towards_ai_ml_era.ipynb\" target=\"_parent\"><img src=\"https://colab.research.google.com/assets/colab-badge.svg\" alt=\"Open In Colab\"/></a>"
      ]
    },
    {
      "cell_type": "code",
      "metadata": {
        "id": "3prs6spWc3Mj",
        "colab_type": "code",
        "colab": {
          "base_uri": "https://localhost:8080/",
          "height": 35
        },
        "outputId": "5238a112-e5c2-4d46-e929-534f0cd5500c"
      },
      "source": [
        "from google.colab import drive\n",
        "drive.mount('/content/drive')"
      ],
      "execution_count": 39,
      "outputs": [
        {
          "output_type": "stream",
          "text": [
            "Drive already mounted at /content/drive; to attempt to forcibly remount, call drive.mount(\"/content/drive\", force_remount=True).\n"
          ],
          "name": "stdout"
        }
      ]
    },
    {
      "cell_type": "code",
      "metadata": {
        "_uuid": "7cad4eef5c7e18883b686054f47f42495f089636",
        "trusted": true,
        "id": "NLgum8wRcfEa",
        "colab_type": "code",
        "colab": {}
      },
      "source": [
        "import pandas as pd\n",
        "import numpy as np\n",
        "import random\n",
        "%matplotlib inline\n",
        "import matplotlib.pyplot as plt"
      ],
      "execution_count": 9,
      "outputs": []
    },
    {
      "cell_type": "code",
      "metadata": {
        "_uuid": "e4bc1557f277aa7689dd6a90453b43ea25337e4d",
        "trusted": true,
        "id": "mFozGaPKcfEe",
        "colab_type": "code",
        "colab": {
          "base_uri": "https://localhost:8080/",
          "height": 35
        },
        "outputId": "23953280-aef6-438b-ba63-f3df583c25f3"
      },
      "source": [
        "data = pd.read_csv(\"/content/drive/My Drive/developerProjects/pandas/dataset/World Development Indicators/Indicators.csv\")\n",
        "data.shape"
      ],
      "execution_count": 10,
      "outputs": [
        {
          "output_type": "execute_result",
          "data": {
            "text/plain": [
              "(5656458, 6)"
            ]
          },
          "metadata": {
            "tags": []
          },
          "execution_count": 10
        }
      ]
    },
    {
      "cell_type": "code",
      "metadata": {
        "_uuid": "590a7ec0d6a638e19c2ee958eb2268a09ff908d1",
        "trusted": true,
        "id": "L_kYQJfccfEh",
        "colab_type": "code",
        "colab": {
          "base_uri": "https://localhost:8080/",
          "height": 35
        },
        "outputId": "3c16e4f2-14a9-4811-e65b-d6e53d4ea949"
      },
      "source": [
        "countries = pd.read_csv('/content/drive/My Drive/developerProjects/pandas/dataset/World Development Indicators/Country.csv') \n",
        "countries.shape"
      ],
      "execution_count": 11,
      "outputs": [
        {
          "output_type": "execute_result",
          "data": {
            "text/plain": [
              "(247, 31)"
            ]
          },
          "metadata": {
            "tags": []
          },
          "execution_count": 11
        }
      ]
    },
    {
      "cell_type": "code",
      "metadata": {
        "_uuid": "f3cb27dba580d1b6a824f5efff4a7ff4eacccc93",
        "trusted": true,
        "id": "q6KotZ03cfEj",
        "colab_type": "code",
        "colab": {
          "base_uri": "https://localhost:8080/",
          "height": 460
        },
        "outputId": "2566551f-f126-4a92-d35d-13865b2d729a"
      },
      "source": [
        "# the group of countries\n",
        "countries[countries['CurrencyUnit'].isnull()].head()"
      ],
      "execution_count": 12,
      "outputs": [
        {
          "output_type": "execute_result",
          "data": {
            "text/html": [
              "<div>\n",
              "<style scoped>\n",
              "    .dataframe tbody tr th:only-of-type {\n",
              "        vertical-align: middle;\n",
              "    }\n",
              "\n",
              "    .dataframe tbody tr th {\n",
              "        vertical-align: top;\n",
              "    }\n",
              "\n",
              "    .dataframe thead th {\n",
              "        text-align: right;\n",
              "    }\n",
              "</style>\n",
              "<table border=\"1\" class=\"dataframe\">\n",
              "  <thead>\n",
              "    <tr style=\"text-align: right;\">\n",
              "      <th></th>\n",
              "      <th>CountryCode</th>\n",
              "      <th>ShortName</th>\n",
              "      <th>TableName</th>\n",
              "      <th>LongName</th>\n",
              "      <th>Alpha2Code</th>\n",
              "      <th>CurrencyUnit</th>\n",
              "      <th>SpecialNotes</th>\n",
              "      <th>Region</th>\n",
              "      <th>IncomeGroup</th>\n",
              "      <th>Wb2Code</th>\n",
              "      <th>NationalAccountsBaseYear</th>\n",
              "      <th>NationalAccountsReferenceYear</th>\n",
              "      <th>SnaPriceValuation</th>\n",
              "      <th>LendingCategory</th>\n",
              "      <th>OtherGroups</th>\n",
              "      <th>SystemOfNationalAccounts</th>\n",
              "      <th>AlternativeConversionFactor</th>\n",
              "      <th>PppSurveyYear</th>\n",
              "      <th>BalanceOfPaymentsManualInUse</th>\n",
              "      <th>ExternalDebtReportingStatus</th>\n",
              "      <th>SystemOfTrade</th>\n",
              "      <th>GovernmentAccountingConcept</th>\n",
              "      <th>ImfDataDisseminationStandard</th>\n",
              "      <th>LatestPopulationCensus</th>\n",
              "      <th>LatestHouseholdSurvey</th>\n",
              "      <th>SourceOfMostRecentIncomeAndExpenditureData</th>\n",
              "      <th>VitalRegistrationComplete</th>\n",
              "      <th>LatestAgriculturalCensus</th>\n",
              "      <th>LatestIndustrialData</th>\n",
              "      <th>LatestTradeData</th>\n",
              "      <th>LatestWaterWithdrawalData</th>\n",
              "    </tr>\n",
              "  </thead>\n",
              "  <tbody>\n",
              "    <tr>\n",
              "      <th>7</th>\n",
              "      <td>ARB</td>\n",
              "      <td>Arab World</td>\n",
              "      <td>Arab World</td>\n",
              "      <td>Arab World</td>\n",
              "      <td>1A</td>\n",
              "      <td>NaN</td>\n",
              "      <td>Arab World aggregate. Arab World is composed o...</td>\n",
              "      <td>NaN</td>\n",
              "      <td>NaN</td>\n",
              "      <td>1A</td>\n",
              "      <td>NaN</td>\n",
              "      <td>NaN</td>\n",
              "      <td>NaN</td>\n",
              "      <td>NaN</td>\n",
              "      <td>NaN</td>\n",
              "      <td>NaN</td>\n",
              "      <td>NaN</td>\n",
              "      <td>NaN</td>\n",
              "      <td>NaN</td>\n",
              "      <td>NaN</td>\n",
              "      <td>NaN</td>\n",
              "      <td>NaN</td>\n",
              "      <td>NaN</td>\n",
              "      <td>NaN</td>\n",
              "      <td>NaN</td>\n",
              "      <td>NaN</td>\n",
              "      <td>NaN</td>\n",
              "      <td>NaN</td>\n",
              "      <td>NaN</td>\n",
              "      <td>NaN</td>\n",
              "      <td>NaN</td>\n",
              "    </tr>\n",
              "    <tr>\n",
              "      <th>35</th>\n",
              "      <td>CSS</td>\n",
              "      <td>Caribbean small states</td>\n",
              "      <td>Caribbean small states</td>\n",
              "      <td>Caribbean small states</td>\n",
              "      <td>S3</td>\n",
              "      <td>NaN</td>\n",
              "      <td>Caribbean small states aggregate. Includes Ant...</td>\n",
              "      <td>NaN</td>\n",
              "      <td>NaN</td>\n",
              "      <td>S3</td>\n",
              "      <td>NaN</td>\n",
              "      <td>NaN</td>\n",
              "      <td>NaN</td>\n",
              "      <td>NaN</td>\n",
              "      <td>NaN</td>\n",
              "      <td>NaN</td>\n",
              "      <td>NaN</td>\n",
              "      <td>NaN</td>\n",
              "      <td>NaN</td>\n",
              "      <td>NaN</td>\n",
              "      <td>NaN</td>\n",
              "      <td>NaN</td>\n",
              "      <td>NaN</td>\n",
              "      <td>NaN</td>\n",
              "      <td>NaN</td>\n",
              "      <td>NaN</td>\n",
              "      <td>NaN</td>\n",
              "      <td>NaN</td>\n",
              "      <td>NaN</td>\n",
              "      <td>NaN</td>\n",
              "      <td>NaN</td>\n",
              "    </tr>\n",
              "    <tr>\n",
              "      <th>38</th>\n",
              "      <td>CEB</td>\n",
              "      <td>Central Europe and the Baltics</td>\n",
              "      <td>Central Europe and the Baltics</td>\n",
              "      <td>Central Europe and the Baltics</td>\n",
              "      <td>B8</td>\n",
              "      <td>NaN</td>\n",
              "      <td>Central Europe and the Baltics aggregate.</td>\n",
              "      <td>NaN</td>\n",
              "      <td>NaN</td>\n",
              "      <td>B8</td>\n",
              "      <td>NaN</td>\n",
              "      <td>NaN</td>\n",
              "      <td>NaN</td>\n",
              "      <td>NaN</td>\n",
              "      <td>NaN</td>\n",
              "      <td>NaN</td>\n",
              "      <td>NaN</td>\n",
              "      <td>NaN</td>\n",
              "      <td>NaN</td>\n",
              "      <td>NaN</td>\n",
              "      <td>NaN</td>\n",
              "      <td>NaN</td>\n",
              "      <td>NaN</td>\n",
              "      <td>NaN</td>\n",
              "      <td>NaN</td>\n",
              "      <td>NaN</td>\n",
              "      <td>NaN</td>\n",
              "      <td>NaN</td>\n",
              "      <td>NaN</td>\n",
              "      <td>NaN</td>\n",
              "      <td>NaN</td>\n",
              "    </tr>\n",
              "    <tr>\n",
              "      <th>59</th>\n",
              "      <td>EAS</td>\n",
              "      <td>East Asia &amp; Pacific (all income levels)</td>\n",
              "      <td>East Asia &amp; Pacific (all income levels)</td>\n",
              "      <td>East Asia &amp; Pacific (all income levels)</td>\n",
              "      <td>Z4</td>\n",
              "      <td>NaN</td>\n",
              "      <td>East Asia and Pacific regional aggregate (incl...</td>\n",
              "      <td>NaN</td>\n",
              "      <td>NaN</td>\n",
              "      <td>Z4</td>\n",
              "      <td>NaN</td>\n",
              "      <td>NaN</td>\n",
              "      <td>NaN</td>\n",
              "      <td>NaN</td>\n",
              "      <td>NaN</td>\n",
              "      <td>NaN</td>\n",
              "      <td>NaN</td>\n",
              "      <td>NaN</td>\n",
              "      <td>NaN</td>\n",
              "      <td>NaN</td>\n",
              "      <td>NaN</td>\n",
              "      <td>NaN</td>\n",
              "      <td>NaN</td>\n",
              "      <td>NaN</td>\n",
              "      <td>NaN</td>\n",
              "      <td>NaN</td>\n",
              "      <td>NaN</td>\n",
              "      <td>NaN</td>\n",
              "      <td>NaN</td>\n",
              "      <td>NaN</td>\n",
              "      <td>NaN</td>\n",
              "    </tr>\n",
              "    <tr>\n",
              "      <th>60</th>\n",
              "      <td>EAP</td>\n",
              "      <td>East Asia &amp; Pacific (developing only)</td>\n",
              "      <td>East Asia &amp; Pacific</td>\n",
              "      <td>East Asia &amp; Pacific (developing only)</td>\n",
              "      <td>4E</td>\n",
              "      <td>NaN</td>\n",
              "      <td>East Asia and Pacific regional aggregate (does...</td>\n",
              "      <td>NaN</td>\n",
              "      <td>NaN</td>\n",
              "      <td>4E</td>\n",
              "      <td>NaN</td>\n",
              "      <td>NaN</td>\n",
              "      <td>NaN</td>\n",
              "      <td>NaN</td>\n",
              "      <td>NaN</td>\n",
              "      <td>NaN</td>\n",
              "      <td>NaN</td>\n",
              "      <td>NaN</td>\n",
              "      <td>NaN</td>\n",
              "      <td>NaN</td>\n",
              "      <td>NaN</td>\n",
              "      <td>NaN</td>\n",
              "      <td>NaN</td>\n",
              "      <td>NaN</td>\n",
              "      <td>NaN</td>\n",
              "      <td>NaN</td>\n",
              "      <td>NaN</td>\n",
              "      <td>NaN</td>\n",
              "      <td>NaN</td>\n",
              "      <td>NaN</td>\n",
              "      <td>NaN</td>\n",
              "    </tr>\n",
              "  </tbody>\n",
              "</table>\n",
              "</div>"
            ],
            "text/plain": [
              "   CountryCode  ... LatestWaterWithdrawalData\n",
              "7          ARB  ...                       NaN\n",
              "35         CSS  ...                       NaN\n",
              "38         CEB  ...                       NaN\n",
              "59         EAS  ...                       NaN\n",
              "60         EAP  ...                       NaN\n",
              "\n",
              "[5 rows x 31 columns]"
            ]
          },
          "metadata": {
            "tags": []
          },
          "execution_count": 12
        }
      ]
    },
    {
      "cell_type": "code",
      "metadata": {
        "_uuid": "6b11408ca3047ccd68327f05efb7484c385c48ac",
        "trusted": true,
        "id": "GMeLaAUkcfEm",
        "colab_type": "code",
        "colab": {}
      },
      "source": [
        "# creation of a series for the countries only\n",
        "sr_countries_only = countries[countries['CurrencyUnit'].isnull()==False]['CountryCode']"
      ],
      "execution_count": 13,
      "outputs": []
    },
    {
      "cell_type": "code",
      "metadata": {
        "_uuid": "08ccdba4ce1927d6002519524c88a3d72e8f7b13",
        "trusted": true,
        "id": "0P2mw7-tcfEs",
        "colab_type": "code",
        "colab": {}
      },
      "source": [
        "# filter of counties\n",
        "filterCountry = (data['CountryCode'].isin(sr_countries_only))"
      ],
      "execution_count": 14,
      "outputs": []
    },
    {
      "cell_type": "code",
      "metadata": {
        "_uuid": "7549f833de2126d6a0f86b5942e8fa4460e8790e",
        "trusted": true,
        "id": "cW2YCHI6cfEv",
        "colab_type": "code",
        "colab": {}
      },
      "source": [
        "# countries data\n",
        "dataCountries= data[filterCountry]"
      ],
      "execution_count": 15,
      "outputs": []
    },
    {
      "cell_type": "code",
      "metadata": {
        "_uuid": "315677a883cef5c76b2bfe8fcf09b3ec8830700c",
        "trusted": true,
        "id": "hBKiC1zvcfEx",
        "colab_type": "code",
        "colab": {
          "base_uri": "https://localhost:8080/",
          "height": 198
        },
        "outputId": "a254e926-ba2c-4556-d66d-b03be25274c5"
      },
      "source": [
        "dataCountries.head()"
      ],
      "execution_count": 16,
      "outputs": [
        {
          "output_type": "execute_result",
          "data": {
            "text/html": [
              "<div>\n",
              "<style scoped>\n",
              "    .dataframe tbody tr th:only-of-type {\n",
              "        vertical-align: middle;\n",
              "    }\n",
              "\n",
              "    .dataframe tbody tr th {\n",
              "        vertical-align: top;\n",
              "    }\n",
              "\n",
              "    .dataframe thead th {\n",
              "        text-align: right;\n",
              "    }\n",
              "</style>\n",
              "<table border=\"1\" class=\"dataframe\">\n",
              "  <thead>\n",
              "    <tr style=\"text-align: right;\">\n",
              "      <th></th>\n",
              "      <th>CountryName</th>\n",
              "      <th>CountryCode</th>\n",
              "      <th>IndicatorName</th>\n",
              "      <th>IndicatorCode</th>\n",
              "      <th>Year</th>\n",
              "      <th>Value</th>\n",
              "    </tr>\n",
              "  </thead>\n",
              "  <tbody>\n",
              "    <tr>\n",
              "      <th>3492</th>\n",
              "      <td>Afghanistan</td>\n",
              "      <td>AFG</td>\n",
              "      <td>Adolescent fertility rate (births per 1,000 wo...</td>\n",
              "      <td>SP.ADO.TFRT</td>\n",
              "      <td>1960</td>\n",
              "      <td>1.453210e+02</td>\n",
              "    </tr>\n",
              "    <tr>\n",
              "      <th>3493</th>\n",
              "      <td>Afghanistan</td>\n",
              "      <td>AFG</td>\n",
              "      <td>Age dependency ratio (% of working-age populat...</td>\n",
              "      <td>SP.POP.DPND</td>\n",
              "      <td>1960</td>\n",
              "      <td>8.171773e+01</td>\n",
              "    </tr>\n",
              "    <tr>\n",
              "      <th>3494</th>\n",
              "      <td>Afghanistan</td>\n",
              "      <td>AFG</td>\n",
              "      <td>Age dependency ratio, old (% of working-age po...</td>\n",
              "      <td>SP.POP.DPND.OL</td>\n",
              "      <td>1960</td>\n",
              "      <td>5.086254e+00</td>\n",
              "    </tr>\n",
              "    <tr>\n",
              "      <th>3495</th>\n",
              "      <td>Afghanistan</td>\n",
              "      <td>AFG</td>\n",
              "      <td>Age dependency ratio, young (% of working-age ...</td>\n",
              "      <td>SP.POP.DPND.YG</td>\n",
              "      <td>1960</td>\n",
              "      <td>7.663147e+01</td>\n",
              "    </tr>\n",
              "    <tr>\n",
              "      <th>3496</th>\n",
              "      <td>Afghanistan</td>\n",
              "      <td>AFG</td>\n",
              "      <td>Arms imports (SIPRI trend indicator values)</td>\n",
              "      <td>MS.MIL.MPRT.KD</td>\n",
              "      <td>1960</td>\n",
              "      <td>4.000000e+07</td>\n",
              "    </tr>\n",
              "  </tbody>\n",
              "</table>\n",
              "</div>"
            ],
            "text/plain": [
              "      CountryName CountryCode  ...  Year         Value\n",
              "3492  Afghanistan         AFG  ...  1960  1.453210e+02\n",
              "3493  Afghanistan         AFG  ...  1960  8.171773e+01\n",
              "3494  Afghanistan         AFG  ...  1960  5.086254e+00\n",
              "3495  Afghanistan         AFG  ...  1960  7.663147e+01\n",
              "3496  Afghanistan         AFG  ...  1960  4.000000e+07\n",
              "\n",
              "[5 rows x 6 columns]"
            ]
          },
          "metadata": {
            "tags": []
          },
          "execution_count": 16
        }
      ]
    },
    {
      "cell_type": "code",
      "metadata": {
        "_uuid": "7699dfc128726e6acd6cfe76d8dab5e722b00bac",
        "trusted": true,
        "id": "y71zoxLYcfE0",
        "colab_type": "code",
        "colab": {
          "base_uri": "https://localhost:8080/",
          "height": 225
        },
        "outputId": "f0def995-c04e-4f9a-cc83-ea5c6172467e"
      },
      "source": [
        "dataCountries.loc[filterCountry,'ID']=dataCountries.loc[filterCountry,'CountryCode']+dataCountries.loc[filterCountry,'Year'].map(str)"
      ],
      "execution_count": 17,
      "outputs": [
        {
          "output_type": "stream",
          "text": [
            "/usr/local/lib/python3.6/dist-packages/pandas/core/indexing.py:845: SettingWithCopyWarning: \n",
            "A value is trying to be set on a copy of a slice from a DataFrame.\n",
            "Try using .loc[row_indexer,col_indexer] = value instead\n",
            "\n",
            "See the caveats in the documentation: https://pandas.pydata.org/pandas-docs/stable/user_guide/indexing.html#returning-a-view-versus-a-copy\n",
            "  self.obj[key] = _infer_fill_value(value)\n",
            "/usr/local/lib/python3.6/dist-packages/pandas/core/indexing.py:966: SettingWithCopyWarning: \n",
            "A value is trying to be set on a copy of a slice from a DataFrame.\n",
            "Try using .loc[row_indexer,col_indexer] = value instead\n",
            "\n",
            "See the caveats in the documentation: https://pandas.pydata.org/pandas-docs/stable/user_guide/indexing.html#returning-a-view-versus-a-copy\n",
            "  self.obj[item] = s\n"
          ],
          "name": "stderr"
        }
      ]
    },
    {
      "cell_type": "code",
      "metadata": {
        "_uuid": "bf6b97ad65dad6e45adcc7768067f2d61b15ec00",
        "trusted": true,
        "id": "_k5aWNsBcfE2",
        "colab_type": "code",
        "colab": {
          "base_uri": "https://localhost:8080/",
          "height": 35
        },
        "outputId": "c9ded0b7-cc4d-4a16-a7e6-44019b80ee54"
      },
      "source": [
        "dataCountries['ID'].isnull().any()"
      ],
      "execution_count": 18,
      "outputs": [
        {
          "output_type": "execute_result",
          "data": {
            "text/plain": [
              "False"
            ]
          },
          "metadata": {
            "tags": []
          },
          "execution_count": 18
        }
      ]
    },
    {
      "cell_type": "code",
      "metadata": {
        "_uuid": "ac40f0ff99f5bf5e2c899b21eac2fa94257c5620",
        "trusted": true,
        "id": "HYhIinU_cfE5",
        "colab_type": "code",
        "colab": {
          "base_uri": "https://localhost:8080/",
          "height": 108
        },
        "outputId": "f5c89120-567b-44da-c79e-3648e42866e9"
      },
      "source": [
        "pd.crosstab(dataCountries['ID'].isnull(),dataCountries['CountryCode'].isnull())"
      ],
      "execution_count": 19,
      "outputs": [
        {
          "output_type": "execute_result",
          "data": {
            "text/html": [
              "<div>\n",
              "<style scoped>\n",
              "    .dataframe tbody tr th:only-of-type {\n",
              "        vertical-align: middle;\n",
              "    }\n",
              "\n",
              "    .dataframe tbody tr th {\n",
              "        vertical-align: top;\n",
              "    }\n",
              "\n",
              "    .dataframe thead th {\n",
              "        text-align: right;\n",
              "    }\n",
              "</style>\n",
              "<table border=\"1\" class=\"dataframe\">\n",
              "  <thead>\n",
              "    <tr style=\"text-align: right;\">\n",
              "      <th>CountryCode</th>\n",
              "      <th>False</th>\n",
              "    </tr>\n",
              "    <tr>\n",
              "      <th>ID</th>\n",
              "      <th></th>\n",
              "    </tr>\n",
              "  </thead>\n",
              "  <tbody>\n",
              "    <tr>\n",
              "      <th>False</th>\n",
              "      <td>4926334</td>\n",
              "    </tr>\n",
              "  </tbody>\n",
              "</table>\n",
              "</div>"
            ],
            "text/plain": [
              "CountryCode    False\n",
              "ID                  \n",
              "False        4926334"
            ]
          },
          "metadata": {
            "tags": []
          },
          "execution_count": 19
        }
      ]
    },
    {
      "cell_type": "code",
      "metadata": {
        "_uuid": "f9da42b554766c26fbcd239d74934c3fdedbc7b5",
        "trusted": true,
        "id": "J_0BpUPkcfE8",
        "colab_type": "code",
        "colab": {
          "base_uri": "https://localhost:8080/",
          "height": 225
        },
        "outputId": "d165a499-1408-40a1-a507-cd73dcc0b055"
      },
      "source": [
        "dataCountries.loc[:,'CNT'] = 1\n",
        "#del dataCountries['CNT']"
      ],
      "execution_count": 20,
      "outputs": [
        {
          "output_type": "stream",
          "text": [
            "/usr/local/lib/python3.6/dist-packages/pandas/core/indexing.py:845: SettingWithCopyWarning: \n",
            "A value is trying to be set on a copy of a slice from a DataFrame.\n",
            "Try using .loc[row_indexer,col_indexer] = value instead\n",
            "\n",
            "See the caveats in the documentation: https://pandas.pydata.org/pandas-docs/stable/user_guide/indexing.html#returning-a-view-versus-a-copy\n",
            "  self.obj[key] = _infer_fill_value(value)\n",
            "/usr/local/lib/python3.6/dist-packages/pandas/core/indexing.py:966: SettingWithCopyWarning: \n",
            "A value is trying to be set on a copy of a slice from a DataFrame.\n",
            "Try using .loc[row_indexer,col_indexer] = value instead\n",
            "\n",
            "See the caveats in the documentation: https://pandas.pydata.org/pandas-docs/stable/user_guide/indexing.html#returning-a-view-versus-a-copy\n",
            "  self.obj[item] = s\n"
          ],
          "name": "stderr"
        }
      ]
    },
    {
      "cell_type": "code",
      "metadata": {
        "_uuid": "5c0c2f6870b4bd114442a7c8d8cb15360b4f0039",
        "trusted": true,
        "id": "bbICnfRacfE-",
        "colab_type": "code",
        "colab": {
          "base_uri": "https://localhost:8080/",
          "height": 35
        },
        "outputId": "2d7f6650-8f54-418e-e347-498bdad5517c"
      },
      "source": [
        "dataCountries.loc[:5,'CNT']"
      ],
      "execution_count": 21,
      "outputs": [
        {
          "output_type": "execute_result",
          "data": {
            "text/plain": [
              "Series([], Name: CNT, dtype: int64)"
            ]
          },
          "metadata": {
            "tags": []
          },
          "execution_count": 21
        }
      ]
    },
    {
      "cell_type": "code",
      "metadata": {
        "_uuid": "8f3f337465f4b2175ea271e01978640d5396892d",
        "trusted": true,
        "id": "eHb8SS2_cfFA",
        "colab_type": "code",
        "colab": {
          "base_uri": "https://localhost:8080/",
          "height": 108
        },
        "outputId": "b54e2266-8203-45a1-f630-01e7bf0aee2c"
      },
      "source": [
        "# checking if the length of all the country code is 3\n",
        "tmp = pd.DataFrame({'lng':dataCountries['CountryCode'].str.len()})\n",
        "tmp['cnt'] = 1\n",
        "tmp.groupby('lng').sum()"
      ],
      "execution_count": 22,
      "outputs": [
        {
          "output_type": "execute_result",
          "data": {
            "text/html": [
              "<div>\n",
              "<style scoped>\n",
              "    .dataframe tbody tr th:only-of-type {\n",
              "        vertical-align: middle;\n",
              "    }\n",
              "\n",
              "    .dataframe tbody tr th {\n",
              "        vertical-align: top;\n",
              "    }\n",
              "\n",
              "    .dataframe thead th {\n",
              "        text-align: right;\n",
              "    }\n",
              "</style>\n",
              "<table border=\"1\" class=\"dataframe\">\n",
              "  <thead>\n",
              "    <tr style=\"text-align: right;\">\n",
              "      <th></th>\n",
              "      <th>cnt</th>\n",
              "    </tr>\n",
              "    <tr>\n",
              "      <th>lng</th>\n",
              "      <th></th>\n",
              "    </tr>\n",
              "  </thead>\n",
              "  <tbody>\n",
              "    <tr>\n",
              "      <th>3</th>\n",
              "      <td>4926334</td>\n",
              "    </tr>\n",
              "  </tbody>\n",
              "</table>\n",
              "</div>"
            ],
            "text/plain": [
              "         cnt\n",
              "lng         \n",
              "3    4926334"
            ]
          },
          "metadata": {
            "tags": []
          },
          "execution_count": 22
        }
      ]
    },
    {
      "cell_type": "code",
      "metadata": {
        "_uuid": "6a656272399a592962a2aa38199a66d18eb716df",
        "trusted": true,
        "id": "R6_vfnAHcfFD",
        "colab_type": "code",
        "colab": {
          "base_uri": "https://localhost:8080/",
          "height": 198
        },
        "outputId": "3b32f5ee-2d86-4b47-90ec-ba4869258917"
      },
      "source": [
        "dataCountries[dataCountries['IndicatorCode']=='NY.GDP.MKTP.KN'].head()"
      ],
      "execution_count": 23,
      "outputs": [
        {
          "output_type": "execute_result",
          "data": {
            "text/html": [
              "<div>\n",
              "<style scoped>\n",
              "    .dataframe tbody tr th:only-of-type {\n",
              "        vertical-align: middle;\n",
              "    }\n",
              "\n",
              "    .dataframe tbody tr th {\n",
              "        vertical-align: top;\n",
              "    }\n",
              "\n",
              "    .dataframe thead th {\n",
              "        text-align: right;\n",
              "    }\n",
              "</style>\n",
              "<table border=\"1\" class=\"dataframe\">\n",
              "  <thead>\n",
              "    <tr style=\"text-align: right;\">\n",
              "      <th></th>\n",
              "      <th>CountryName</th>\n",
              "      <th>CountryCode</th>\n",
              "      <th>IndicatorName</th>\n",
              "      <th>IndicatorCode</th>\n",
              "      <th>Year</th>\n",
              "      <th>Value</th>\n",
              "      <th>ID</th>\n",
              "      <th>CNT</th>\n",
              "    </tr>\n",
              "  </thead>\n",
              "  <tbody>\n",
              "    <tr>\n",
              "      <th>3692</th>\n",
              "      <td>Algeria</td>\n",
              "      <td>DZA</td>\n",
              "      <td>GDP (constant LCU)</td>\n",
              "      <td>NY.GDP.MKTP.KN</td>\n",
              "      <td>1960</td>\n",
              "      <td>6.367232e+10</td>\n",
              "      <td>DZA1960</td>\n",
              "      <td>1</td>\n",
              "    </tr>\n",
              "    <tr>\n",
              "      <th>4003</th>\n",
              "      <td>Argentina</td>\n",
              "      <td>ARG</td>\n",
              "      <td>GDP (constant LCU)</td>\n",
              "      <td>NY.GDP.MKTP.KN</td>\n",
              "      <td>1960</td>\n",
              "      <td>2.020554e+11</td>\n",
              "      <td>ARG1960</td>\n",
              "      <td>1</td>\n",
              "    </tr>\n",
              "    <tr>\n",
              "      <th>4245</th>\n",
              "      <td>Australia</td>\n",
              "      <td>AUS</td>\n",
              "      <td>GDP (constant LCU)</td>\n",
              "      <td>NY.GDP.MKTP.KN</td>\n",
              "      <td>1960</td>\n",
              "      <td>2.469780e+11</td>\n",
              "      <td>AUS1960</td>\n",
              "      <td>1</td>\n",
              "    </tr>\n",
              "    <tr>\n",
              "      <th>4426</th>\n",
              "      <td>Austria</td>\n",
              "      <td>AUT</td>\n",
              "      <td>GDP (constant LCU)</td>\n",
              "      <td>NY.GDP.MKTP.KN</td>\n",
              "      <td>1960</td>\n",
              "      <td>6.963953e+10</td>\n",
              "      <td>AUT1960</td>\n",
              "      <td>1</td>\n",
              "    </tr>\n",
              "    <tr>\n",
              "      <th>4576</th>\n",
              "      <td>Bahamas, The</td>\n",
              "      <td>BHS</td>\n",
              "      <td>GDP (constant LCU)</td>\n",
              "      <td>NY.GDP.MKTP.KN</td>\n",
              "      <td>1960</td>\n",
              "      <td>1.477690e+09</td>\n",
              "      <td>BHS1960</td>\n",
              "      <td>1</td>\n",
              "    </tr>\n",
              "  </tbody>\n",
              "</table>\n",
              "</div>"
            ],
            "text/plain": [
              "       CountryName CountryCode       IndicatorName  ...         Value       ID  CNT\n",
              "3692       Algeria         DZA  GDP (constant LCU)  ...  6.367232e+10  DZA1960    1\n",
              "4003     Argentina         ARG  GDP (constant LCU)  ...  2.020554e+11  ARG1960    1\n",
              "4245     Australia         AUS  GDP (constant LCU)  ...  2.469780e+11  AUS1960    1\n",
              "4426       Austria         AUT  GDP (constant LCU)  ...  6.963953e+10  AUT1960    1\n",
              "4576  Bahamas, The         BHS  GDP (constant LCU)  ...  1.477690e+09  BHS1960    1\n",
              "\n",
              "[5 rows x 8 columns]"
            ]
          },
          "metadata": {
            "tags": []
          },
          "execution_count": 23
        }
      ]
    },
    {
      "cell_type": "code",
      "metadata": {
        "_uuid": "0e10213cb50e80a5a9d0501746e5008170aa0965",
        "trusted": true,
        "id": "5JLGxdOrcfFF",
        "colab_type": "code",
        "colab": {
          "base_uri": "https://localhost:8080/",
          "height": 198
        },
        "outputId": "5fb8c637-8475-44a2-c986-abcc81735955"
      },
      "source": [
        "GDP_lcu = dataCountries[dataCountries['IndicatorCode']=='NY.GDP.MKTP.KN'][['ID','Value']]\n",
        "GDP_lcu.head()"
      ],
      "execution_count": 24,
      "outputs": [
        {
          "output_type": "execute_result",
          "data": {
            "text/html": [
              "<div>\n",
              "<style scoped>\n",
              "    .dataframe tbody tr th:only-of-type {\n",
              "        vertical-align: middle;\n",
              "    }\n",
              "\n",
              "    .dataframe tbody tr th {\n",
              "        vertical-align: top;\n",
              "    }\n",
              "\n",
              "    .dataframe thead th {\n",
              "        text-align: right;\n",
              "    }\n",
              "</style>\n",
              "<table border=\"1\" class=\"dataframe\">\n",
              "  <thead>\n",
              "    <tr style=\"text-align: right;\">\n",
              "      <th></th>\n",
              "      <th>ID</th>\n",
              "      <th>Value</th>\n",
              "    </tr>\n",
              "  </thead>\n",
              "  <tbody>\n",
              "    <tr>\n",
              "      <th>3692</th>\n",
              "      <td>DZA1960</td>\n",
              "      <td>6.367232e+10</td>\n",
              "    </tr>\n",
              "    <tr>\n",
              "      <th>4003</th>\n",
              "      <td>ARG1960</td>\n",
              "      <td>2.020554e+11</td>\n",
              "    </tr>\n",
              "    <tr>\n",
              "      <th>4245</th>\n",
              "      <td>AUS1960</td>\n",
              "      <td>2.469780e+11</td>\n",
              "    </tr>\n",
              "    <tr>\n",
              "      <th>4426</th>\n",
              "      <td>AUT1960</td>\n",
              "      <td>6.963953e+10</td>\n",
              "    </tr>\n",
              "    <tr>\n",
              "      <th>4576</th>\n",
              "      <td>BHS1960</td>\n",
              "      <td>1.477690e+09</td>\n",
              "    </tr>\n",
              "  </tbody>\n",
              "</table>\n",
              "</div>"
            ],
            "text/plain": [
              "           ID         Value\n",
              "3692  DZA1960  6.367232e+10\n",
              "4003  ARG1960  2.020554e+11\n",
              "4245  AUS1960  2.469780e+11\n",
              "4426  AUT1960  6.963953e+10\n",
              "4576  BHS1960  1.477690e+09"
            ]
          },
          "metadata": {
            "tags": []
          },
          "execution_count": 24
        }
      ]
    },
    {
      "cell_type": "code",
      "metadata": {
        "_uuid": "7c826b2f67f1c6c9b64a4c1d7c315d37653b9487",
        "trusted": true,
        "id": "JyefKWKycfFH",
        "colab_type": "code",
        "colab": {}
      },
      "source": [
        "GDP_lcu.columns=['ID', 'GDP_lcu']"
      ],
      "execution_count": 25,
      "outputs": []
    },
    {
      "cell_type": "code",
      "metadata": {
        "_uuid": "6ae76bf6191e96621a6fca77ee18d5c2560afe32",
        "trusted": true,
        "id": "T6i_BJU3cfFK",
        "colab_type": "code",
        "colab": {
          "base_uri": "https://localhost:8080/",
          "height": 35
        },
        "outputId": "bfc55a3a-1376-4dd7-b9c5-5c6fec3aa55f"
      },
      "source": [
        "GDP_lcu.shape"
      ],
      "execution_count": 26,
      "outputs": [
        {
          "output_type": "execute_result",
          "data": {
            "text/plain": [
              "(8616, 2)"
            ]
          },
          "metadata": {
            "tags": []
          },
          "execution_count": 26
        }
      ]
    },
    {
      "cell_type": "code",
      "metadata": {
        "_uuid": "e50302801d1f9e6f27d05d30a36d79c317d27d39",
        "trusted": true,
        "id": "pjF3MRrycfFM",
        "colab_type": "code",
        "colab": {
          "base_uri": "https://localhost:8080/",
          "height": 198
        },
        "outputId": "7b09b3be-245b-4163-9074-8f4da08ce6d6"
      },
      "source": [
        "dataCountries.head()"
      ],
      "execution_count": 27,
      "outputs": [
        {
          "output_type": "execute_result",
          "data": {
            "text/html": [
              "<div>\n",
              "<style scoped>\n",
              "    .dataframe tbody tr th:only-of-type {\n",
              "        vertical-align: middle;\n",
              "    }\n",
              "\n",
              "    .dataframe tbody tr th {\n",
              "        vertical-align: top;\n",
              "    }\n",
              "\n",
              "    .dataframe thead th {\n",
              "        text-align: right;\n",
              "    }\n",
              "</style>\n",
              "<table border=\"1\" class=\"dataframe\">\n",
              "  <thead>\n",
              "    <tr style=\"text-align: right;\">\n",
              "      <th></th>\n",
              "      <th>CountryName</th>\n",
              "      <th>CountryCode</th>\n",
              "      <th>IndicatorName</th>\n",
              "      <th>IndicatorCode</th>\n",
              "      <th>Year</th>\n",
              "      <th>Value</th>\n",
              "      <th>ID</th>\n",
              "      <th>CNT</th>\n",
              "    </tr>\n",
              "  </thead>\n",
              "  <tbody>\n",
              "    <tr>\n",
              "      <th>3492</th>\n",
              "      <td>Afghanistan</td>\n",
              "      <td>AFG</td>\n",
              "      <td>Adolescent fertility rate (births per 1,000 wo...</td>\n",
              "      <td>SP.ADO.TFRT</td>\n",
              "      <td>1960</td>\n",
              "      <td>1.453210e+02</td>\n",
              "      <td>AFG1960</td>\n",
              "      <td>1</td>\n",
              "    </tr>\n",
              "    <tr>\n",
              "      <th>3493</th>\n",
              "      <td>Afghanistan</td>\n",
              "      <td>AFG</td>\n",
              "      <td>Age dependency ratio (% of working-age populat...</td>\n",
              "      <td>SP.POP.DPND</td>\n",
              "      <td>1960</td>\n",
              "      <td>8.171773e+01</td>\n",
              "      <td>AFG1960</td>\n",
              "      <td>1</td>\n",
              "    </tr>\n",
              "    <tr>\n",
              "      <th>3494</th>\n",
              "      <td>Afghanistan</td>\n",
              "      <td>AFG</td>\n",
              "      <td>Age dependency ratio, old (% of working-age po...</td>\n",
              "      <td>SP.POP.DPND.OL</td>\n",
              "      <td>1960</td>\n",
              "      <td>5.086254e+00</td>\n",
              "      <td>AFG1960</td>\n",
              "      <td>1</td>\n",
              "    </tr>\n",
              "    <tr>\n",
              "      <th>3495</th>\n",
              "      <td>Afghanistan</td>\n",
              "      <td>AFG</td>\n",
              "      <td>Age dependency ratio, young (% of working-age ...</td>\n",
              "      <td>SP.POP.DPND.YG</td>\n",
              "      <td>1960</td>\n",
              "      <td>7.663147e+01</td>\n",
              "      <td>AFG1960</td>\n",
              "      <td>1</td>\n",
              "    </tr>\n",
              "    <tr>\n",
              "      <th>3496</th>\n",
              "      <td>Afghanistan</td>\n",
              "      <td>AFG</td>\n",
              "      <td>Arms imports (SIPRI trend indicator values)</td>\n",
              "      <td>MS.MIL.MPRT.KD</td>\n",
              "      <td>1960</td>\n",
              "      <td>4.000000e+07</td>\n",
              "      <td>AFG1960</td>\n",
              "      <td>1</td>\n",
              "    </tr>\n",
              "  </tbody>\n",
              "</table>\n",
              "</div>"
            ],
            "text/plain": [
              "      CountryName CountryCode  ...       ID CNT\n",
              "3492  Afghanistan         AFG  ...  AFG1960   1\n",
              "3493  Afghanistan         AFG  ...  AFG1960   1\n",
              "3494  Afghanistan         AFG  ...  AFG1960   1\n",
              "3495  Afghanistan         AFG  ...  AFG1960   1\n",
              "3496  Afghanistan         AFG  ...  AFG1960   1\n",
              "\n",
              "[5 rows x 8 columns]"
            ]
          },
          "metadata": {
            "tags": []
          },
          "execution_count": 27
        }
      ]
    },
    {
      "cell_type": "code",
      "metadata": {
        "_uuid": "51c2242becbe0f7661ba12df459d4be0028ee6aa",
        "trusted": true,
        "id": "bAoGY5L2cfFO",
        "colab_type": "code",
        "colab": {
          "base_uri": "https://localhost:8080/",
          "height": 35
        },
        "outputId": "e1da1eb8-2687-4218-db04-eb54efa20332"
      },
      "source": [
        "# gdp per capita in usd\n",
        "GDP_perCapita = dataCountries[dataCountries['IndicatorCode']=='NY.GDP.PCAP.KD'][['ID','Value']]\n",
        "GDP_perCapita.columns=['ID', 'GDP_perCapita']\n",
        "GDP_perCapita.shape"
      ],
      "execution_count": 28,
      "outputs": [
        {
          "output_type": "execute_result",
          "data": {
            "text/plain": [
              "(8385, 2)"
            ]
          },
          "metadata": {
            "tags": []
          },
          "execution_count": 28
        }
      ]
    },
    {
      "cell_type": "code",
      "metadata": {
        "_uuid": "6148336220138bbe38c5b2943dd49a2959f55b58",
        "trusted": true,
        "id": "2yf9r3kqcfFQ",
        "colab_type": "code",
        "colab": {
          "base_uri": "https://localhost:8080/",
          "height": 198
        },
        "outputId": "af26bcb6-ecf4-4006-9707-43f1ab7af469"
      },
      "source": [
        "GDP_perCapita.head()"
      ],
      "execution_count": 29,
      "outputs": [
        {
          "output_type": "execute_result",
          "data": {
            "text/html": [
              "<div>\n",
              "<style scoped>\n",
              "    .dataframe tbody tr th:only-of-type {\n",
              "        vertical-align: middle;\n",
              "    }\n",
              "\n",
              "    .dataframe tbody tr th {\n",
              "        vertical-align: top;\n",
              "    }\n",
              "\n",
              "    .dataframe thead th {\n",
              "        text-align: right;\n",
              "    }\n",
              "</style>\n",
              "<table border=\"1\" class=\"dataframe\">\n",
              "  <thead>\n",
              "    <tr style=\"text-align: right;\">\n",
              "      <th></th>\n",
              "      <th>ID</th>\n",
              "      <th>GDP_perCapita</th>\n",
              "    </tr>\n",
              "  </thead>\n",
              "  <tbody>\n",
              "    <tr>\n",
              "      <th>3697</th>\n",
              "      <td>DZA1960</td>\n",
              "      <td>1789.848105</td>\n",
              "    </tr>\n",
              "    <tr>\n",
              "      <th>4007</th>\n",
              "      <td>ARG1960</td>\n",
              "      <td>3698.155770</td>\n",
              "    </tr>\n",
              "    <tr>\n",
              "      <th>4250</th>\n",
              "      <td>AUS1960</td>\n",
              "      <td>13479.859543</td>\n",
              "    </tr>\n",
              "    <tr>\n",
              "      <th>4431</th>\n",
              "      <td>AUT1960</td>\n",
              "      <td>11253.280719</td>\n",
              "    </tr>\n",
              "    <tr>\n",
              "      <th>4581</th>\n",
              "      <td>BHS1960</td>\n",
              "      <td>13380.890203</td>\n",
              "    </tr>\n",
              "  </tbody>\n",
              "</table>\n",
              "</div>"
            ],
            "text/plain": [
              "           ID  GDP_perCapita\n",
              "3697  DZA1960    1789.848105\n",
              "4007  ARG1960    3698.155770\n",
              "4250  AUS1960   13479.859543\n",
              "4431  AUT1960   11253.280719\n",
              "4581  BHS1960   13380.890203"
            ]
          },
          "metadata": {
            "tags": []
          },
          "execution_count": 29
        }
      ]
    },
    {
      "cell_type": "code",
      "metadata": {
        "_uuid": "e3c5fdc02dea9280d860f514dda96e1cefe93119",
        "trusted": true,
        "id": "DAQCqANGcfFS",
        "colab_type": "code",
        "colab": {
          "base_uri": "https://localhost:8080/",
          "height": 35
        },
        "outputId": "3ccc9953-3133-4e87-b565-589bce18618f"
      },
      "source": [
        "# Labour\n",
        "labour = dataCountries[dataCountries['IndicatorCode']=='SL.TLF.TOTL.IN'][['ID','Value']]\n",
        "labour.columns=['ID', 'labour']\n",
        "labour.shape"
      ],
      "execution_count": 30,
      "outputs": [
        {
          "output_type": "execute_result",
          "data": {
            "text/plain": [
              "(4647, 2)"
            ]
          },
          "metadata": {
            "tags": []
          },
          "execution_count": 30
        }
      ]
    },
    {
      "cell_type": "code",
      "metadata": {
        "_uuid": "f38b211db6e632249a82a55320e5a5a95c68250d",
        "trusted": true,
        "id": "6TWbXed1cfFV",
        "colab_type": "code",
        "colab": {
          "base_uri": "https://localhost:8080/",
          "height": 198
        },
        "outputId": "e25957a0-5e9b-4e1b-e276-f6acbd73d2b9"
      },
      "source": [
        "labour.head()"
      ],
      "execution_count": 31,
      "outputs": [
        {
          "output_type": "execute_result",
          "data": {
            "text/html": [
              "<div>\n",
              "<style scoped>\n",
              "    .dataframe tbody tr th:only-of-type {\n",
              "        vertical-align: middle;\n",
              "    }\n",
              "\n",
              "    .dataframe tbody tr th {\n",
              "        vertical-align: top;\n",
              "    }\n",
              "\n",
              "    .dataframe thead th {\n",
              "        text-align: right;\n",
              "    }\n",
              "</style>\n",
              "<table border=\"1\" class=\"dataframe\">\n",
              "  <thead>\n",
              "    <tr style=\"text-align: right;\">\n",
              "      <th></th>\n",
              "      <th>ID</th>\n",
              "      <th>labour</th>\n",
              "    </tr>\n",
              "  </thead>\n",
              "  <tbody>\n",
              "    <tr>\n",
              "      <th>1896194</th>\n",
              "      <td>AFG1990</td>\n",
              "      <td>3083498.0</td>\n",
              "    </tr>\n",
              "    <tr>\n",
              "      <th>1896573</th>\n",
              "      <td>ALB1990</td>\n",
              "      <td>1420090.0</td>\n",
              "    </tr>\n",
              "    <tr>\n",
              "      <th>1897086</th>\n",
              "      <td>DZA1990</td>\n",
              "      <td>6210711.0</td>\n",
              "    </tr>\n",
              "    <tr>\n",
              "      <th>1897958</th>\n",
              "      <td>AGO1990</td>\n",
              "      <td>4118283.0</td>\n",
              "    </tr>\n",
              "    <tr>\n",
              "      <th>1898822</th>\n",
              "      <td>ARG1990</td>\n",
              "      <td>13330838.0</td>\n",
              "    </tr>\n",
              "  </tbody>\n",
              "</table>\n",
              "</div>"
            ],
            "text/plain": [
              "              ID      labour\n",
              "1896194  AFG1990   3083498.0\n",
              "1896573  ALB1990   1420090.0\n",
              "1897086  DZA1990   6210711.0\n",
              "1897958  AGO1990   4118283.0\n",
              "1898822  ARG1990  13330838.0"
            ]
          },
          "metadata": {
            "tags": []
          },
          "execution_count": 31
        }
      ]
    },
    {
      "cell_type": "code",
      "metadata": {
        "_uuid": "ec1f54ac104444350a883e2465227b73c491f56d",
        "trusted": true,
        "id": "2FsS_FnLcfFY",
        "colab_type": "code",
        "colab": {
          "base_uri": "https://localhost:8080/",
          "height": 35
        },
        "outputId": "e93d1690-d350-432d-e909-fafb22032f65"
      },
      "source": [
        "# capital\n",
        "capital = dataCountries[dataCountries['IndicatorCode']=='NE.GDI.TOTL.KN'][['ID','Value']]\n",
        "capital.columns=['ID', 'capital']\n",
        "capital.shape"
      ],
      "execution_count": 32,
      "outputs": [
        {
          "output_type": "execute_result",
          "data": {
            "text/plain": [
              "(5766, 2)"
            ]
          },
          "metadata": {
            "tags": []
          },
          "execution_count": 32
        }
      ]
    },
    {
      "cell_type": "code",
      "metadata": {
        "_uuid": "8a9c2d6775cc02c259c201bbf021e84be439dde3",
        "trusted": true,
        "id": "Fxp7UAWBcfFb",
        "colab_type": "code",
        "colab": {
          "base_uri": "https://localhost:8080/",
          "height": 198
        },
        "outputId": "914a1210-0796-4731-9e0e-d5e610aa20c9"
      },
      "source": [
        "capital.head()"
      ],
      "execution_count": 33,
      "outputs": [
        {
          "output_type": "execute_result",
          "data": {
            "text/html": [
              "<div>\n",
              "<style scoped>\n",
              "    .dataframe tbody tr th:only-of-type {\n",
              "        vertical-align: middle;\n",
              "    }\n",
              "\n",
              "    .dataframe tbody tr th {\n",
              "        vertical-align: top;\n",
              "    }\n",
              "\n",
              "    .dataframe thead th {\n",
              "        text-align: right;\n",
              "    }\n",
              "</style>\n",
              "<table border=\"1\" class=\"dataframe\">\n",
              "  <thead>\n",
              "    <tr style=\"text-align: right;\">\n",
              "      <th></th>\n",
              "      <th>ID</th>\n",
              "      <th>capital</th>\n",
              "    </tr>\n",
              "  </thead>\n",
              "  <tbody>\n",
              "    <tr>\n",
              "      <th>3715</th>\n",
              "      <td>DZA1960</td>\n",
              "      <td>1.875714e+10</td>\n",
              "    </tr>\n",
              "    <tr>\n",
              "      <th>4021</th>\n",
              "      <td>ARG1960</td>\n",
              "      <td>4.813631e+10</td>\n",
              "    </tr>\n",
              "    <tr>\n",
              "      <th>4268</th>\n",
              "      <td>AUS1960</td>\n",
              "      <td>3.776900e+10</td>\n",
              "    </tr>\n",
              "    <tr>\n",
              "      <th>4727</th>\n",
              "      <td>BGD1960</td>\n",
              "      <td>1.933742e+10</td>\n",
              "    </tr>\n",
              "    <tr>\n",
              "      <th>5162</th>\n",
              "      <td>BEN1960</td>\n",
              "      <td>7.867832e+10</td>\n",
              "    </tr>\n",
              "  </tbody>\n",
              "</table>\n",
              "</div>"
            ],
            "text/plain": [
              "           ID       capital\n",
              "3715  DZA1960  1.875714e+10\n",
              "4021  ARG1960  4.813631e+10\n",
              "4268  AUS1960  3.776900e+10\n",
              "4727  BGD1960  1.933742e+10\n",
              "5162  BEN1960  7.867832e+10"
            ]
          },
          "metadata": {
            "tags": []
          },
          "execution_count": 33
        }
      ]
    },
    {
      "cell_type": "code",
      "metadata": {
        "_uuid": "148a6170a2890a36095e016d7ae0adc512cc4adc",
        "trusted": true,
        "id": "dlE_F8-AcfFe",
        "colab_type": "code",
        "colab": {
          "base_uri": "https://localhost:8080/",
          "height": 35
        },
        "outputId": "9279351f-7d9c-4c20-ee5f-e5831fba407a"
      },
      "source": [
        "# population\n",
        "population = dataCountries[dataCountries['IndicatorCode']=='SP.POP.TOTL'][['ID','Value']]\n",
        "population.columns=['ID', 'population']\n",
        "population.shape"
      ],
      "execution_count": 34,
      "outputs": [
        {
          "output_type": "execute_result",
          "data": {
            "text/plain": [
              "(11669, 2)"
            ]
          },
          "metadata": {
            "tags": []
          },
          "execution_count": 34
        }
      ]
    },
    {
      "cell_type": "code",
      "metadata": {
        "_uuid": "49a2d59d82e6a51973f97a119498cc73ff95cad6",
        "trusted": true,
        "id": "EBPpUchncfFf",
        "colab_type": "code",
        "colab": {
          "base_uri": "https://localhost:8080/",
          "height": 198
        },
        "outputId": "7f59b645-8e15-4933-d053-1ded5a16ec14"
      },
      "source": [
        "population.head()"
      ],
      "execution_count": 35,
      "outputs": [
        {
          "output_type": "execute_result",
          "data": {
            "text/html": [
              "<div>\n",
              "<style scoped>\n",
              "    .dataframe tbody tr th:only-of-type {\n",
              "        vertical-align: middle;\n",
              "    }\n",
              "\n",
              "    .dataframe tbody tr th {\n",
              "        vertical-align: top;\n",
              "    }\n",
              "\n",
              "    .dataframe thead th {\n",
              "        text-align: right;\n",
              "    }\n",
              "</style>\n",
              "<table border=\"1\" class=\"dataframe\">\n",
              "  <thead>\n",
              "    <tr style=\"text-align: right;\">\n",
              "      <th></th>\n",
              "      <th>ID</th>\n",
              "      <th>population</th>\n",
              "    </tr>\n",
              "  </thead>\n",
              "  <tbody>\n",
              "    <tr>\n",
              "      <th>3593</th>\n",
              "      <td>AFG1960</td>\n",
              "      <td>8994793.0</td>\n",
              "    </tr>\n",
              "    <tr>\n",
              "      <th>3641</th>\n",
              "      <td>ALB1960</td>\n",
              "      <td>1608800.0</td>\n",
              "    </tr>\n",
              "    <tr>\n",
              "      <th>3813</th>\n",
              "      <td>DZA1960</td>\n",
              "      <td>11124892.0</td>\n",
              "    </tr>\n",
              "    <tr>\n",
              "      <th>3832</th>\n",
              "      <td>ASM1960</td>\n",
              "      <td>20012.0</td>\n",
              "    </tr>\n",
              "    <tr>\n",
              "      <th>3844</th>\n",
              "      <td>ADO1960</td>\n",
              "      <td>13414.0</td>\n",
              "    </tr>\n",
              "  </tbody>\n",
              "</table>\n",
              "</div>"
            ],
            "text/plain": [
              "           ID  population\n",
              "3593  AFG1960   8994793.0\n",
              "3641  ALB1960   1608800.0\n",
              "3813  DZA1960  11124892.0\n",
              "3832  ASM1960     20012.0\n",
              "3844  ADO1960     13414.0"
            ]
          },
          "metadata": {
            "tags": []
          },
          "execution_count": 35
        }
      ]
    },
    {
      "cell_type": "code",
      "metadata": {
        "_uuid": "2f3b8b1e1e7e3d6fe22ae482e86398d7535a9062",
        "trusted": true,
        "id": "mmPUARl_cfFh",
        "colab_type": "code",
        "colab": {
          "base_uri": "https://localhost:8080/",
          "height": 35
        },
        "outputId": "eef7afbd-1b35-47fb-e253-3cadfb44014b"
      },
      "source": [
        "consumption=dataCountries[dataCountries['IndicatorCode']=='NE.CON.TETC.CD'][['ID','Value']]\n",
        "consumption.columns=['ID', 'consumption']\n",
        "consumption.shape"
      ],
      "execution_count": 36,
      "outputs": [
        {
          "output_type": "execute_result",
          "data": {
            "text/plain": [
              "(7398, 2)"
            ]
          },
          "metadata": {
            "tags": []
          },
          "execution_count": 36
        }
      ]
    },
    {
      "cell_type": "code",
      "metadata": {
        "_uuid": "68be96be77d7f5364d64a86e8d58e6346c0e0782",
        "trusted": true,
        "id": "17LW6P_XcfFl",
        "colab_type": "code",
        "colab": {
          "base_uri": "https://localhost:8080/",
          "height": 198
        },
        "outputId": "71ba0800-cc98-4924-e7dc-bae998631ae5"
      },
      "source": [
        "consumption.head()"
      ],
      "execution_count": 37,
      "outputs": [
        {
          "output_type": "execute_result",
          "data": {
            "text/html": [
              "<div>\n",
              "<style scoped>\n",
              "    .dataframe tbody tr th:only-of-type {\n",
              "        vertical-align: middle;\n",
              "    }\n",
              "\n",
              "    .dataframe tbody tr th {\n",
              "        vertical-align: top;\n",
              "    }\n",
              "\n",
              "    .dataframe thead th {\n",
              "        text-align: right;\n",
              "    }\n",
              "</style>\n",
              "<table border=\"1\" class=\"dataframe\">\n",
              "  <thead>\n",
              "    <tr style=\"text-align: right;\">\n",
              "      <th></th>\n",
              "      <th>ID</th>\n",
              "      <th>consumption</th>\n",
              "    </tr>\n",
              "  </thead>\n",
              "  <tbody>\n",
              "    <tr>\n",
              "      <th>3519</th>\n",
              "      <td>AFG1960</td>\n",
              "      <td>4.666666e+08</td>\n",
              "    </tr>\n",
              "    <tr>\n",
              "      <th>3691</th>\n",
              "      <td>DZA1960</td>\n",
              "      <td>2.340037e+09</td>\n",
              "    </tr>\n",
              "    <tr>\n",
              "      <th>4241</th>\n",
              "      <td>AUS1960</td>\n",
              "      <td>1.290402e+10</td>\n",
              "    </tr>\n",
              "    <tr>\n",
              "      <th>4712</th>\n",
              "      <td>BGD1960</td>\n",
              "      <td>3.950699e+09</td>\n",
              "    </tr>\n",
              "    <tr>\n",
              "      <th>5136</th>\n",
              "      <td>BEN1960</td>\n",
              "      <td>2.138937e+08</td>\n",
              "    </tr>\n",
              "  </tbody>\n",
              "</table>\n",
              "</div>"
            ],
            "text/plain": [
              "           ID   consumption\n",
              "3519  AFG1960  4.666666e+08\n",
              "3691  DZA1960  2.340037e+09\n",
              "4241  AUS1960  1.290402e+10\n",
              "4712  BGD1960  3.950699e+09\n",
              "5136  BEN1960  2.138937e+08"
            ]
          },
          "metadata": {
            "tags": []
          },
          "execution_count": 37
        }
      ]
    },
    {
      "cell_type": "code",
      "metadata": {
        "_uuid": "9e97e1cde760714fba2110367992d1a3836aa28b",
        "trusted": true,
        "id": "yCL4UlMNcfFo",
        "colab_type": "code",
        "colab": {}
      },
      "source": [
        "dataModel = GDP_lcu\n",
        "dataModel =  pd.merge(dataModel, GDP_perCapita, on='ID', how='inner')"
      ],
      "execution_count": 38,
      "outputs": []
    },
    {
      "cell_type": "code",
      "metadata": {
        "_uuid": "2ca122b0939773dad4078d7253127b9d913c6b3b",
        "trusted": true,
        "id": "P3-AE24ScfFq",
        "colab_type": "code",
        "colab": {
          "base_uri": "https://localhost:8080/",
          "height": 35
        },
        "outputId": "ab098f65-bd67-4bf0-a545-212f73263a9e"
      },
      "source": [
        "dataModel.shape"
      ],
      "execution_count": 40,
      "outputs": [
        {
          "output_type": "execute_result",
          "data": {
            "text/plain": [
              "(8383, 3)"
            ]
          },
          "metadata": {
            "tags": []
          },
          "execution_count": 40
        }
      ]
    },
    {
      "cell_type": "code",
      "metadata": {
        "_uuid": "d146d9b716214c3842d136396e564743cedbb6af",
        "trusted": true,
        "id": "tImyPgvFcfFs",
        "colab_type": "code",
        "colab": {
          "base_uri": "https://localhost:8080/",
          "height": 35
        },
        "outputId": "e3351012-8336-4314-cc7a-f6d51fb03b87"
      },
      "source": [
        "dataModel =  pd.merge(dataModel, labour, on='ID', how='inner')\n",
        "dataModel.shape"
      ],
      "execution_count": 41,
      "outputs": [
        {
          "output_type": "execute_result",
          "data": {
            "text/plain": [
              "(4291, 4)"
            ]
          },
          "metadata": {
            "tags": []
          },
          "execution_count": 41
        }
      ]
    },
    {
      "cell_type": "code",
      "metadata": {
        "_uuid": "4672265d8fedbb514f57da2a7d28d81be09e3b36",
        "trusted": true,
        "id": "wQ_qG1MBcfFt",
        "colab_type": "code",
        "colab": {
          "base_uri": "https://localhost:8080/",
          "height": 35
        },
        "outputId": "0173ed5f-e74a-4343-ca1b-6e93bb8ea0a3"
      },
      "source": [
        "dataModel =  pd.merge(dataModel, capital, on='ID', how='inner')\n",
        "dataModel.shape"
      ],
      "execution_count": 42,
      "outputs": [
        {
          "output_type": "execute_result",
          "data": {
            "text/plain": [
              "(3462, 5)"
            ]
          },
          "metadata": {
            "tags": []
          },
          "execution_count": 42
        }
      ]
    },
    {
      "cell_type": "code",
      "metadata": {
        "_uuid": "bb38d0cbd93f7e5a68eca6fed4e4956fc94b6cde",
        "trusted": true,
        "id": "trk8OX6vcfFv",
        "colab_type": "code",
        "colab": {
          "base_uri": "https://localhost:8080/",
          "height": 35
        },
        "outputId": "91c9a4bf-d178-4b5a-9243-1b555560f53e"
      },
      "source": [
        "dataModel =  pd.merge(dataModel, population, on='ID', how='inner')\n",
        "dataModel.shape"
      ],
      "execution_count": 43,
      "outputs": [
        {
          "output_type": "execute_result",
          "data": {
            "text/plain": [
              "(3462, 6)"
            ]
          },
          "metadata": {
            "tags": []
          },
          "execution_count": 43
        }
      ]
    },
    {
      "cell_type": "code",
      "metadata": {
        "_uuid": "0afd5a77227aedf4f6e21c5fd485293daea450ca",
        "trusted": true,
        "id": "Srzax3UQcfFx",
        "colab_type": "code",
        "colab": {
          "base_uri": "https://localhost:8080/",
          "height": 35
        },
        "outputId": "c98cad5c-1954-44c3-9207-602a95c312ef"
      },
      "source": [
        "dataModel =  pd.merge(dataModel, consumption, on='ID', how='inner')\n",
        "dataModel.shape"
      ],
      "execution_count": 44,
      "outputs": [
        {
          "output_type": "execute_result",
          "data": {
            "text/plain": [
              "(3452, 7)"
            ]
          },
          "metadata": {
            "tags": []
          },
          "execution_count": 44
        }
      ]
    },
    {
      "cell_type": "code",
      "metadata": {
        "_uuid": "b9f0c43d627bcc2c353a7bb15cd11de427028920",
        "trusted": true,
        "id": "rlCv22vocfFz",
        "colab_type": "code",
        "colab": {
          "base_uri": "https://localhost:8080/",
          "height": 198
        },
        "outputId": "786bb3c0-86f4-443c-a899-fde8aec81b99"
      },
      "source": [
        "dataModel.head()"
      ],
      "execution_count": 45,
      "outputs": [
        {
          "output_type": "execute_result",
          "data": {
            "text/html": [
              "<div>\n",
              "<style scoped>\n",
              "    .dataframe tbody tr th:only-of-type {\n",
              "        vertical-align: middle;\n",
              "    }\n",
              "\n",
              "    .dataframe tbody tr th {\n",
              "        vertical-align: top;\n",
              "    }\n",
              "\n",
              "    .dataframe thead th {\n",
              "        text-align: right;\n",
              "    }\n",
              "</style>\n",
              "<table border=\"1\" class=\"dataframe\">\n",
              "  <thead>\n",
              "    <tr style=\"text-align: right;\">\n",
              "      <th></th>\n",
              "      <th>ID</th>\n",
              "      <th>GDP_lcu</th>\n",
              "      <th>GDP_perCapita</th>\n",
              "      <th>labour</th>\n",
              "      <th>capital</th>\n",
              "      <th>population</th>\n",
              "      <th>consumption</th>\n",
              "    </tr>\n",
              "  </thead>\n",
              "  <tbody>\n",
              "    <tr>\n",
              "      <th>0</th>\n",
              "      <td>DZA1990</td>\n",
              "      <td>2.134984e+11</td>\n",
              "      <td>2576.611414</td>\n",
              "      <td>6210711.0</td>\n",
              "      <td>5.906680e+10</td>\n",
              "      <td>25912364.0</td>\n",
              "      <td>4.523331e+10</td>\n",
              "    </tr>\n",
              "    <tr>\n",
              "      <th>1</th>\n",
              "      <td>ARG1990</td>\n",
              "      <td>3.398772e+11</td>\n",
              "      <td>3918.892827</td>\n",
              "      <td>13330838.0</td>\n",
              "      <td>4.563527e+10</td>\n",
              "      <td>32729740.0</td>\n",
              "      <td>1.134703e+11</td>\n",
              "    </tr>\n",
              "    <tr>\n",
              "      <th>2</th>\n",
              "      <td>ARM1990</td>\n",
              "      <td>1.182736e+12</td>\n",
              "      <td>1146.308067</td>\n",
              "      <td>1680806.0</td>\n",
              "      <td>1.176414e+12</td>\n",
              "      <td>3544695.0</td>\n",
              "      <td>1.448486e+09</td>\n",
              "    </tr>\n",
              "    <tr>\n",
              "      <th>3</th>\n",
              "      <td>AUS1990</td>\n",
              "      <td>7.610230e+11</td>\n",
              "      <td>25012.684032</td>\n",
              "      <td>8502257.0</td>\n",
              "      <td>1.550270e+11</td>\n",
              "      <td>17065100.0</td>\n",
              "      <td>2.269781e+11</td>\n",
              "    </tr>\n",
              "    <tr>\n",
              "      <th>4</th>\n",
              "      <td>AUT1990</td>\n",
              "      <td>1.958665e+11</td>\n",
              "      <td>29052.353067</td>\n",
              "      <td>3545731.0</td>\n",
              "      <td>5.210465e+10</td>\n",
              "      <td>7677850.0</td>\n",
              "      <td>1.216217e+11</td>\n",
              "    </tr>\n",
              "  </tbody>\n",
              "</table>\n",
              "</div>"
            ],
            "text/plain": [
              "        ID       GDP_lcu  GDP_perCapita  ...       capital  population   consumption\n",
              "0  DZA1990  2.134984e+11    2576.611414  ...  5.906680e+10  25912364.0  4.523331e+10\n",
              "1  ARG1990  3.398772e+11    3918.892827  ...  4.563527e+10  32729740.0  1.134703e+11\n",
              "2  ARM1990  1.182736e+12    1146.308067  ...  1.176414e+12   3544695.0  1.448486e+09\n",
              "3  AUS1990  7.610230e+11   25012.684032  ...  1.550270e+11  17065100.0  2.269781e+11\n",
              "4  AUT1990  1.958665e+11   29052.353067  ...  5.210465e+10   7677850.0  1.216217e+11\n",
              "\n",
              "[5 rows x 7 columns]"
            ]
          },
          "metadata": {
            "tags": []
          },
          "execution_count": 45
        }
      ]
    },
    {
      "cell_type": "code",
      "metadata": {
        "_uuid": "0ebb6da21aceca30b247c2b7fbf02483c8cc20b2",
        "trusted": true,
        "id": "TRs0qnUecfF1",
        "colab_type": "code",
        "colab": {}
      },
      "source": [
        "dataModel['Year'] = pd.to_numeric(dataModel['ID'].str.slice(3, 7)) "
      ],
      "execution_count": 46,
      "outputs": []
    },
    {
      "cell_type": "code",
      "metadata": {
        "_uuid": "63774fa0946d16e375b1ff57de1f8b75f5299e48",
        "trusted": true,
        "id": "gb1LLxtacfF3",
        "colab_type": "code",
        "colab": {
          "base_uri": "https://localhost:8080/",
          "height": 198
        },
        "outputId": "b7720615-e312-46cf-e2f3-b419c993676f"
      },
      "source": [
        "dataModel.head()"
      ],
      "execution_count": 47,
      "outputs": [
        {
          "output_type": "execute_result",
          "data": {
            "text/html": [
              "<div>\n",
              "<style scoped>\n",
              "    .dataframe tbody tr th:only-of-type {\n",
              "        vertical-align: middle;\n",
              "    }\n",
              "\n",
              "    .dataframe tbody tr th {\n",
              "        vertical-align: top;\n",
              "    }\n",
              "\n",
              "    .dataframe thead th {\n",
              "        text-align: right;\n",
              "    }\n",
              "</style>\n",
              "<table border=\"1\" class=\"dataframe\">\n",
              "  <thead>\n",
              "    <tr style=\"text-align: right;\">\n",
              "      <th></th>\n",
              "      <th>ID</th>\n",
              "      <th>GDP_lcu</th>\n",
              "      <th>GDP_perCapita</th>\n",
              "      <th>labour</th>\n",
              "      <th>capital</th>\n",
              "      <th>population</th>\n",
              "      <th>consumption</th>\n",
              "      <th>Year</th>\n",
              "    </tr>\n",
              "  </thead>\n",
              "  <tbody>\n",
              "    <tr>\n",
              "      <th>0</th>\n",
              "      <td>DZA1990</td>\n",
              "      <td>2.134984e+11</td>\n",
              "      <td>2576.611414</td>\n",
              "      <td>6210711.0</td>\n",
              "      <td>5.906680e+10</td>\n",
              "      <td>25912364.0</td>\n",
              "      <td>4.523331e+10</td>\n",
              "      <td>1990</td>\n",
              "    </tr>\n",
              "    <tr>\n",
              "      <th>1</th>\n",
              "      <td>ARG1990</td>\n",
              "      <td>3.398772e+11</td>\n",
              "      <td>3918.892827</td>\n",
              "      <td>13330838.0</td>\n",
              "      <td>4.563527e+10</td>\n",
              "      <td>32729740.0</td>\n",
              "      <td>1.134703e+11</td>\n",
              "      <td>1990</td>\n",
              "    </tr>\n",
              "    <tr>\n",
              "      <th>2</th>\n",
              "      <td>ARM1990</td>\n",
              "      <td>1.182736e+12</td>\n",
              "      <td>1146.308067</td>\n",
              "      <td>1680806.0</td>\n",
              "      <td>1.176414e+12</td>\n",
              "      <td>3544695.0</td>\n",
              "      <td>1.448486e+09</td>\n",
              "      <td>1990</td>\n",
              "    </tr>\n",
              "    <tr>\n",
              "      <th>3</th>\n",
              "      <td>AUS1990</td>\n",
              "      <td>7.610230e+11</td>\n",
              "      <td>25012.684032</td>\n",
              "      <td>8502257.0</td>\n",
              "      <td>1.550270e+11</td>\n",
              "      <td>17065100.0</td>\n",
              "      <td>2.269781e+11</td>\n",
              "      <td>1990</td>\n",
              "    </tr>\n",
              "    <tr>\n",
              "      <th>4</th>\n",
              "      <td>AUT1990</td>\n",
              "      <td>1.958665e+11</td>\n",
              "      <td>29052.353067</td>\n",
              "      <td>3545731.0</td>\n",
              "      <td>5.210465e+10</td>\n",
              "      <td>7677850.0</td>\n",
              "      <td>1.216217e+11</td>\n",
              "      <td>1990</td>\n",
              "    </tr>\n",
              "  </tbody>\n",
              "</table>\n",
              "</div>"
            ],
            "text/plain": [
              "        ID       GDP_lcu  GDP_perCapita  ...  population   consumption  Year\n",
              "0  DZA1990  2.134984e+11    2576.611414  ...  25912364.0  4.523331e+10  1990\n",
              "1  ARG1990  3.398772e+11    3918.892827  ...  32729740.0  1.134703e+11  1990\n",
              "2  ARM1990  1.182736e+12    1146.308067  ...   3544695.0  1.448486e+09  1990\n",
              "3  AUS1990  7.610230e+11   25012.684032  ...  17065100.0  2.269781e+11  1990\n",
              "4  AUT1990  1.958665e+11   29052.353067  ...   7677850.0  1.216217e+11  1990\n",
              "\n",
              "[5 rows x 8 columns]"
            ]
          },
          "metadata": {
            "tags": []
          },
          "execution_count": 47
        }
      ]
    },
    {
      "cell_type": "code",
      "metadata": {
        "_uuid": "7433fed60b5c17d59171f8138259078d84eee3a0",
        "trusted": true,
        "id": "JqG0CSedcfF5",
        "colab_type": "code",
        "colab": {}
      },
      "source": [
        "dataModel['CNT']=1"
      ],
      "execution_count": 48,
      "outputs": []
    },
    {
      "cell_type": "code",
      "metadata": {
        "_uuid": "53b438fd8d0096e9b416634ec68b378edec43f9d",
        "trusted": true,
        "id": "d8M7Cgr-cfF8",
        "colab_type": "code",
        "colab": {
          "base_uri": "https://localhost:8080/",
          "height": 484
        },
        "outputId": "8e70a0f1-bf6a-4ab4-8bdb-83247b549d46"
      },
      "source": [
        "dataModel.groupby('Year').sum()['CNT']"
      ],
      "execution_count": 49,
      "outputs": [
        {
          "output_type": "execute_result",
          "data": {
            "text/plain": [
              "Year\n",
              "1990    111\n",
              "1991    114\n",
              "1992    116\n",
              "1993    120\n",
              "1994    123\n",
              "1995    129\n",
              "1996    130\n",
              "1997    132\n",
              "1998    133\n",
              "1999    132\n",
              "2000    141\n",
              "2001    144\n",
              "2002    145\n",
              "2003    147\n",
              "2004    148\n",
              "2005    148\n",
              "2006    151\n",
              "2007    151\n",
              "2008    151\n",
              "2009    151\n",
              "2010    154\n",
              "2011    152\n",
              "2012    148\n",
              "2013    146\n",
              "2014    135\n",
              "Name: CNT, dtype: int64"
            ]
          },
          "metadata": {
            "tags": []
          },
          "execution_count": 49
        }
      ]
    },
    {
      "cell_type": "code",
      "metadata": {
        "_uuid": "e698f1388ab15d3a5ad2b491a2bc32c8d35af49b",
        "trusted": true,
        "id": "4Jk6KvfccfF-",
        "colab_type": "code",
        "colab": {}
      },
      "source": [
        "dataModel.loc[:,'GDP_usd'] = dataModel['GDP_perCapita'] * dataModel['population']"
      ],
      "execution_count": 50,
      "outputs": []
    },
    {
      "cell_type": "code",
      "metadata": {
        "_uuid": "e64454455a6443114c0214772afda8641718093a",
        "trusted": true,
        "id": "ZOcoPkAicfGC",
        "colab_type": "code",
        "colab": {
          "base_uri": "https://localhost:8080/",
          "height": 198
        },
        "outputId": "043de9b9-3e8e-4ec7-f7d4-c28e60d1c80e"
      },
      "source": [
        "dataModel.head()"
      ],
      "execution_count": 51,
      "outputs": [
        {
          "output_type": "execute_result",
          "data": {
            "text/html": [
              "<div>\n",
              "<style scoped>\n",
              "    .dataframe tbody tr th:only-of-type {\n",
              "        vertical-align: middle;\n",
              "    }\n",
              "\n",
              "    .dataframe tbody tr th {\n",
              "        vertical-align: top;\n",
              "    }\n",
              "\n",
              "    .dataframe thead th {\n",
              "        text-align: right;\n",
              "    }\n",
              "</style>\n",
              "<table border=\"1\" class=\"dataframe\">\n",
              "  <thead>\n",
              "    <tr style=\"text-align: right;\">\n",
              "      <th></th>\n",
              "      <th>ID</th>\n",
              "      <th>GDP_lcu</th>\n",
              "      <th>GDP_perCapita</th>\n",
              "      <th>labour</th>\n",
              "      <th>capital</th>\n",
              "      <th>population</th>\n",
              "      <th>consumption</th>\n",
              "      <th>Year</th>\n",
              "      <th>CNT</th>\n",
              "      <th>GDP_usd</th>\n",
              "    </tr>\n",
              "  </thead>\n",
              "  <tbody>\n",
              "    <tr>\n",
              "      <th>0</th>\n",
              "      <td>DZA1990</td>\n",
              "      <td>2.134984e+11</td>\n",
              "      <td>2576.611414</td>\n",
              "      <td>6210711.0</td>\n",
              "      <td>5.906680e+10</td>\n",
              "      <td>25912364.0</td>\n",
              "      <td>4.523331e+10</td>\n",
              "      <td>1990</td>\n",
              "      <td>1</td>\n",
              "      <td>6.676609e+10</td>\n",
              "    </tr>\n",
              "    <tr>\n",
              "      <th>1</th>\n",
              "      <td>ARG1990</td>\n",
              "      <td>3.398772e+11</td>\n",
              "      <td>3918.892827</td>\n",
              "      <td>13330838.0</td>\n",
              "      <td>4.563527e+10</td>\n",
              "      <td>32729740.0</td>\n",
              "      <td>1.134703e+11</td>\n",
              "      <td>1990</td>\n",
              "      <td>1</td>\n",
              "      <td>1.282643e+11</td>\n",
              "    </tr>\n",
              "    <tr>\n",
              "      <th>2</th>\n",
              "      <td>ARM1990</td>\n",
              "      <td>1.182736e+12</td>\n",
              "      <td>1146.308067</td>\n",
              "      <td>1680806.0</td>\n",
              "      <td>1.176414e+12</td>\n",
              "      <td>3544695.0</td>\n",
              "      <td>1.448486e+09</td>\n",
              "      <td>1990</td>\n",
              "      <td>1</td>\n",
              "      <td>4.063312e+09</td>\n",
              "    </tr>\n",
              "    <tr>\n",
              "      <th>3</th>\n",
              "      <td>AUS1990</td>\n",
              "      <td>7.610230e+11</td>\n",
              "      <td>25012.684032</td>\n",
              "      <td>8502257.0</td>\n",
              "      <td>1.550270e+11</td>\n",
              "      <td>17065100.0</td>\n",
              "      <td>2.269781e+11</td>\n",
              "      <td>1990</td>\n",
              "      <td>1</td>\n",
              "      <td>4.268440e+11</td>\n",
              "    </tr>\n",
              "    <tr>\n",
              "      <th>4</th>\n",
              "      <td>AUT1990</td>\n",
              "      <td>1.958665e+11</td>\n",
              "      <td>29052.353067</td>\n",
              "      <td>3545731.0</td>\n",
              "      <td>5.210465e+10</td>\n",
              "      <td>7677850.0</td>\n",
              "      <td>1.216217e+11</td>\n",
              "      <td>1990</td>\n",
              "      <td>1</td>\n",
              "      <td>2.230596e+11</td>\n",
              "    </tr>\n",
              "  </tbody>\n",
              "</table>\n",
              "</div>"
            ],
            "text/plain": [
              "        ID       GDP_lcu  GDP_perCapita  ...  Year  CNT       GDP_usd\n",
              "0  DZA1990  2.134984e+11    2576.611414  ...  1990    1  6.676609e+10\n",
              "1  ARG1990  3.398772e+11    3918.892827  ...  1990    1  1.282643e+11\n",
              "2  ARM1990  1.182736e+12    1146.308067  ...  1990    1  4.063312e+09\n",
              "3  AUS1990  7.610230e+11   25012.684032  ...  1990    1  4.268440e+11\n",
              "4  AUT1990  1.958665e+11   29052.353067  ...  1990    1  2.230596e+11\n",
              "\n",
              "[5 rows x 10 columns]"
            ]
          },
          "metadata": {
            "tags": []
          },
          "execution_count": 51
        }
      ]
    },
    {
      "cell_type": "code",
      "metadata": {
        "_uuid": "384cf87d431fe3cde41edbf340032cf7b2ba9cdf",
        "trusted": true,
        "id": "Unav3D7HcfGH",
        "colab_type": "code",
        "colab": {
          "base_uri": "https://localhost:8080/",
          "height": 198
        },
        "outputId": "57a40041-0923-4ef0-c557-503d612edde4"
      },
      "source": [
        "dataModel.head()"
      ],
      "execution_count": 56,
      "outputs": [
        {
          "output_type": "execute_result",
          "data": {
            "text/html": [
              "<div>\n",
              "<style scoped>\n",
              "    .dataframe tbody tr th:only-of-type {\n",
              "        vertical-align: middle;\n",
              "    }\n",
              "\n",
              "    .dataframe tbody tr th {\n",
              "        vertical-align: top;\n",
              "    }\n",
              "\n",
              "    .dataframe thead th {\n",
              "        text-align: right;\n",
              "    }\n",
              "</style>\n",
              "<table border=\"1\" class=\"dataframe\">\n",
              "  <thead>\n",
              "    <tr style=\"text-align: right;\">\n",
              "      <th></th>\n",
              "      <th>ID</th>\n",
              "      <th>GDP_lcu</th>\n",
              "      <th>GDP_perCapita</th>\n",
              "      <th>labour</th>\n",
              "      <th>capital</th>\n",
              "      <th>population</th>\n",
              "      <th>consumption</th>\n",
              "      <th>Year</th>\n",
              "      <th>CNT</th>\n",
              "      <th>GDP_usd</th>\n",
              "      <th>Production_usd</th>\n",
              "    </tr>\n",
              "  </thead>\n",
              "  <tbody>\n",
              "    <tr>\n",
              "      <th>0</th>\n",
              "      <td>DZA1990</td>\n",
              "      <td>2.134984e+11</td>\n",
              "      <td>2576.611414</td>\n",
              "      <td>6210711.0</td>\n",
              "      <td>5.906680e+10</td>\n",
              "      <td>25912364.0</td>\n",
              "      <td>4.523331e+10</td>\n",
              "      <td>1990</td>\n",
              "      <td>1</td>\n",
              "      <td>6.676609e+10</td>\n",
              "      <td>1.119994e+11</td>\n",
              "    </tr>\n",
              "    <tr>\n",
              "      <th>1</th>\n",
              "      <td>ARG1990</td>\n",
              "      <td>3.398772e+11</td>\n",
              "      <td>3918.892827</td>\n",
              "      <td>13330838.0</td>\n",
              "      <td>4.563527e+10</td>\n",
              "      <td>32729740.0</td>\n",
              "      <td>1.134703e+11</td>\n",
              "      <td>1990</td>\n",
              "      <td>1</td>\n",
              "      <td>1.282643e+11</td>\n",
              "      <td>2.417347e+11</td>\n",
              "    </tr>\n",
              "    <tr>\n",
              "      <th>2</th>\n",
              "      <td>ARM1990</td>\n",
              "      <td>1.182736e+12</td>\n",
              "      <td>1146.308067</td>\n",
              "      <td>1680806.0</td>\n",
              "      <td>1.176414e+12</td>\n",
              "      <td>3544695.0</td>\n",
              "      <td>1.448486e+09</td>\n",
              "      <td>1990</td>\n",
              "      <td>1</td>\n",
              "      <td>4.063312e+09</td>\n",
              "      <td>5.511798e+09</td>\n",
              "    </tr>\n",
              "    <tr>\n",
              "      <th>3</th>\n",
              "      <td>AUS1990</td>\n",
              "      <td>7.610230e+11</td>\n",
              "      <td>25012.684032</td>\n",
              "      <td>8502257.0</td>\n",
              "      <td>1.550270e+11</td>\n",
              "      <td>17065100.0</td>\n",
              "      <td>2.269781e+11</td>\n",
              "      <td>1990</td>\n",
              "      <td>1</td>\n",
              "      <td>4.268440e+11</td>\n",
              "      <td>6.538220e+11</td>\n",
              "    </tr>\n",
              "    <tr>\n",
              "      <th>4</th>\n",
              "      <td>AUT1990</td>\n",
              "      <td>1.958665e+11</td>\n",
              "      <td>29052.353067</td>\n",
              "      <td>3545731.0</td>\n",
              "      <td>5.210465e+10</td>\n",
              "      <td>7677850.0</td>\n",
              "      <td>1.216217e+11</td>\n",
              "      <td>1990</td>\n",
              "      <td>1</td>\n",
              "      <td>2.230596e+11</td>\n",
              "      <td>3.446813e+11</td>\n",
              "    </tr>\n",
              "  </tbody>\n",
              "</table>\n",
              "</div>"
            ],
            "text/plain": [
              "        ID       GDP_lcu  GDP_perCapita  ...  CNT       GDP_usd  Production_usd\n",
              "0  DZA1990  2.134984e+11    2576.611414  ...    1  6.676609e+10    1.119994e+11\n",
              "1  ARG1990  3.398772e+11    3918.892827  ...    1  1.282643e+11    2.417347e+11\n",
              "2  ARM1990  1.182736e+12    1146.308067  ...    1  4.063312e+09    5.511798e+09\n",
              "3  AUS1990  7.610230e+11   25012.684032  ...    1  4.268440e+11    6.538220e+11\n",
              "4  AUT1990  1.958665e+11   29052.353067  ...    1  2.230596e+11    3.446813e+11\n",
              "\n",
              "[5 rows x 11 columns]"
            ]
          },
          "metadata": {
            "tags": []
          },
          "execution_count": 56
        }
      ]
    },
    {
      "cell_type": "code",
      "metadata": {
        "_uuid": "71e692e0079b3950d64ac666f5c42bfe09f8e44a",
        "trusted": true,
        "id": "0TY0tC1LcfGJ",
        "colab_type": "code",
        "colab": {}
      },
      "source": [
        "dataModel.loc[:,'Production_usd'] = dataModel['GDP_usd'] + dataModel['consumption']"
      ],
      "execution_count": 57,
      "outputs": []
    },
    {
      "cell_type": "code",
      "metadata": {
        "_uuid": "70beeb6cdde84894b166ca6fac55f747cc49714f",
        "trusted": true,
        "id": "98B-8e9ccfGL",
        "colab_type": "code",
        "colab": {
          "base_uri": "https://localhost:8080/",
          "height": 198
        },
        "outputId": "e006b07f-e528-4264-b9a1-6e2e7ecf3255"
      },
      "source": [
        "dataModel.head()"
      ],
      "execution_count": 58,
      "outputs": [
        {
          "output_type": "execute_result",
          "data": {
            "text/html": [
              "<div>\n",
              "<style scoped>\n",
              "    .dataframe tbody tr th:only-of-type {\n",
              "        vertical-align: middle;\n",
              "    }\n",
              "\n",
              "    .dataframe tbody tr th {\n",
              "        vertical-align: top;\n",
              "    }\n",
              "\n",
              "    .dataframe thead th {\n",
              "        text-align: right;\n",
              "    }\n",
              "</style>\n",
              "<table border=\"1\" class=\"dataframe\">\n",
              "  <thead>\n",
              "    <tr style=\"text-align: right;\">\n",
              "      <th></th>\n",
              "      <th>ID</th>\n",
              "      <th>GDP_lcu</th>\n",
              "      <th>GDP_perCapita</th>\n",
              "      <th>labour</th>\n",
              "      <th>capital</th>\n",
              "      <th>population</th>\n",
              "      <th>consumption</th>\n",
              "      <th>Year</th>\n",
              "      <th>CNT</th>\n",
              "      <th>GDP_usd</th>\n",
              "      <th>Production_usd</th>\n",
              "    </tr>\n",
              "  </thead>\n",
              "  <tbody>\n",
              "    <tr>\n",
              "      <th>0</th>\n",
              "      <td>DZA1990</td>\n",
              "      <td>2.134984e+11</td>\n",
              "      <td>2576.611414</td>\n",
              "      <td>6210711.0</td>\n",
              "      <td>5.906680e+10</td>\n",
              "      <td>25912364.0</td>\n",
              "      <td>4.523331e+10</td>\n",
              "      <td>1990</td>\n",
              "      <td>1</td>\n",
              "      <td>6.676609e+10</td>\n",
              "      <td>1.119994e+11</td>\n",
              "    </tr>\n",
              "    <tr>\n",
              "      <th>1</th>\n",
              "      <td>ARG1990</td>\n",
              "      <td>3.398772e+11</td>\n",
              "      <td>3918.892827</td>\n",
              "      <td>13330838.0</td>\n",
              "      <td>4.563527e+10</td>\n",
              "      <td>32729740.0</td>\n",
              "      <td>1.134703e+11</td>\n",
              "      <td>1990</td>\n",
              "      <td>1</td>\n",
              "      <td>1.282643e+11</td>\n",
              "      <td>2.417347e+11</td>\n",
              "    </tr>\n",
              "    <tr>\n",
              "      <th>2</th>\n",
              "      <td>ARM1990</td>\n",
              "      <td>1.182736e+12</td>\n",
              "      <td>1146.308067</td>\n",
              "      <td>1680806.0</td>\n",
              "      <td>1.176414e+12</td>\n",
              "      <td>3544695.0</td>\n",
              "      <td>1.448486e+09</td>\n",
              "      <td>1990</td>\n",
              "      <td>1</td>\n",
              "      <td>4.063312e+09</td>\n",
              "      <td>5.511798e+09</td>\n",
              "    </tr>\n",
              "    <tr>\n",
              "      <th>3</th>\n",
              "      <td>AUS1990</td>\n",
              "      <td>7.610230e+11</td>\n",
              "      <td>25012.684032</td>\n",
              "      <td>8502257.0</td>\n",
              "      <td>1.550270e+11</td>\n",
              "      <td>17065100.0</td>\n",
              "      <td>2.269781e+11</td>\n",
              "      <td>1990</td>\n",
              "      <td>1</td>\n",
              "      <td>4.268440e+11</td>\n",
              "      <td>6.538220e+11</td>\n",
              "    </tr>\n",
              "    <tr>\n",
              "      <th>4</th>\n",
              "      <td>AUT1990</td>\n",
              "      <td>1.958665e+11</td>\n",
              "      <td>29052.353067</td>\n",
              "      <td>3545731.0</td>\n",
              "      <td>5.210465e+10</td>\n",
              "      <td>7677850.0</td>\n",
              "      <td>1.216217e+11</td>\n",
              "      <td>1990</td>\n",
              "      <td>1</td>\n",
              "      <td>2.230596e+11</td>\n",
              "      <td>3.446813e+11</td>\n",
              "    </tr>\n",
              "  </tbody>\n",
              "</table>\n",
              "</div>"
            ],
            "text/plain": [
              "        ID       GDP_lcu  GDP_perCapita  ...  CNT       GDP_usd  Production_usd\n",
              "0  DZA1990  2.134984e+11    2576.611414  ...    1  6.676609e+10    1.119994e+11\n",
              "1  ARG1990  3.398772e+11    3918.892827  ...    1  1.282643e+11    2.417347e+11\n",
              "2  ARM1990  1.182736e+12    1146.308067  ...    1  4.063312e+09    5.511798e+09\n",
              "3  AUS1990  7.610230e+11   25012.684032  ...    1  4.268440e+11    6.538220e+11\n",
              "4  AUT1990  1.958665e+11   29052.353067  ...    1  2.230596e+11    3.446813e+11\n",
              "\n",
              "[5 rows x 11 columns]"
            ]
          },
          "metadata": {
            "tags": []
          },
          "execution_count": 58
        }
      ]
    },
    {
      "cell_type": "code",
      "metadata": {
        "_uuid": "dacee83190b14f5b43b44351da5dabc02f9de405",
        "trusted": true,
        "id": "7q7yAccIcfGN",
        "colab_type": "code",
        "colab": {}
      },
      "source": [
        "from sklearn.linear_model import LinearRegression\n",
        "# from sklearn.model_selection import train_test_split \n",
        "# from sklearn.metrics import mean_squared_error\n",
        "# from math import sqrt"
      ],
      "execution_count": 59,
      "outputs": []
    },
    {
      "cell_type": "code",
      "metadata": {
        "_uuid": "fb6bd5f9ba0e54683d88fbefb3de990c3d06dab3",
        "trusted": true,
        "id": "chBN7dp7cfGQ",
        "colab_type": "code",
        "colab": {}
      },
      "source": [
        "# getting the unique years from the DataFrame dataModel\n",
        "nda_years=pd.unique(dataModel['Year'])"
      ],
      "execution_count": 60,
      "outputs": []
    },
    {
      "cell_type": "code",
      "metadata": {
        "_uuid": "4a31ed80ed2b9a60cc8e02bd9db486c678c6f464",
        "trusted": true,
        "id": "3fm5I3ZjcfGS",
        "colab_type": "code",
        "colab": {
          "base_uri": "https://localhost:8080/",
          "height": 48
        },
        "outputId": "d8dc3e8a-8af3-403a-d88f-d9ecb7ea28cd"
      },
      "source": [
        "# creating an empty dataframe\n",
        "elasticities=pd.DataFrame(columns=['Year', 'ElasticityLabour','ElasticityCapital'])\n",
        "elasticities.head()"
      ],
      "execution_count": 61,
      "outputs": [
        {
          "output_type": "execute_result",
          "data": {
            "text/html": [
              "<div>\n",
              "<style scoped>\n",
              "    .dataframe tbody tr th:only-of-type {\n",
              "        vertical-align: middle;\n",
              "    }\n",
              "\n",
              "    .dataframe tbody tr th {\n",
              "        vertical-align: top;\n",
              "    }\n",
              "\n",
              "    .dataframe thead th {\n",
              "        text-align: right;\n",
              "    }\n",
              "</style>\n",
              "<table border=\"1\" class=\"dataframe\">\n",
              "  <thead>\n",
              "    <tr style=\"text-align: right;\">\n",
              "      <th></th>\n",
              "      <th>Year</th>\n",
              "      <th>ElasticityLabour</th>\n",
              "      <th>ElasticityCapital</th>\n",
              "    </tr>\n",
              "  </thead>\n",
              "  <tbody>\n",
              "  </tbody>\n",
              "</table>\n",
              "</div>"
            ],
            "text/plain": [
              "Empty DataFrame\n",
              "Columns: [Year, ElasticityLabour, ElasticityCapital]\n",
              "Index: []"
            ]
          },
          "metadata": {
            "tags": []
          },
          "execution_count": 61
        }
      ]
    },
    {
      "cell_type": "code",
      "metadata": {
        "_uuid": "12b7067d1b360747a41674ff9a2518f64a669b42",
        "trusted": true,
        "id": "qsXhzjzFcfGU",
        "colab_type": "code",
        "colab": {
          "base_uri": "https://localhost:8080/",
          "height": 35
        },
        "outputId": "89b1375d-5c70-4b27-8481-5b9722f58770"
      },
      "source": [
        "features=['labour','Capital_usd']\n",
        "target=['Production_usd']\n",
        "dataModel.shape"
      ],
      "execution_count": 62,
      "outputs": [
        {
          "output_type": "execute_result",
          "data": {
            "text/plain": [
              "(3452, 11)"
            ]
          },
          "metadata": {
            "tags": []
          },
          "execution_count": 62
        }
      ]
    },
    {
      "cell_type": "code",
      "metadata": {
        "_uuid": "692e67199167431a2c1a7fd43fb72dd2c25ee32f",
        "trusted": true,
        "id": "DsPLgGkscfGY",
        "colab_type": "code",
        "colab": {}
      },
      "source": [
        "dataModel.to_csv('dataModel-all-years.csv',sep=',') # some negative values were identified for the capital (6 observations).\n",
        "    # these negative observations will be deleted."
      ],
      "execution_count": 63,
      "outputs": []
    },
    {
      "cell_type": "code",
      "metadata": {
        "_uuid": "e9c11ca5bc3500f8f598de42e17910b95bf89998",
        "trusted": true,
        "id": "QBjZNE0QcfGZ",
        "colab_type": "code",
        "colab": {
          "base_uri": "https://localhost:8080/",
          "height": 35
        },
        "outputId": "105b09e5-43fb-4523-9845-c8a1c245a439"
      },
      "source": [
        "dataModel.shape"
      ],
      "execution_count": 65,
      "outputs": [
        {
          "output_type": "execute_result",
          "data": {
            "text/plain": [
              "(3452, 11)"
            ]
          },
          "metadata": {
            "tags": []
          },
          "execution_count": 65
        }
      ]
    },
    {
      "cell_type": "code",
      "metadata": {
        "_uuid": "317cae577aea60d5d532748417abad8edfbd492e",
        "trusted": true,
        "id": "tSACwYTpcfGd",
        "colab_type": "code",
        "colab": {
          "base_uri": "https://localhost:8080/",
          "height": 78
        },
        "outputId": "ee1f55c3-3583-493b-db4f-323163f8d740"
      },
      "source": [
        "elasticities"
      ],
      "execution_count": 67,
      "outputs": [
        {
          "output_type": "execute_result",
          "data": {
            "text/html": [
              "<div>\n",
              "<style scoped>\n",
              "    .dataframe tbody tr th:only-of-type {\n",
              "        vertical-align: middle;\n",
              "    }\n",
              "\n",
              "    .dataframe tbody tr th {\n",
              "        vertical-align: top;\n",
              "    }\n",
              "\n",
              "    .dataframe thead th {\n",
              "        text-align: right;\n",
              "    }\n",
              "</style>\n",
              "<table border=\"1\" class=\"dataframe\">\n",
              "  <thead>\n",
              "    <tr style=\"text-align: right;\">\n",
              "      <th></th>\n",
              "      <th>Year</th>\n",
              "      <th>ElasticityLabour</th>\n",
              "      <th>ElasticityCapital</th>\n",
              "    </tr>\n",
              "  </thead>\n",
              "  <tbody>\n",
              "    <tr>\n",
              "      <th>0</th>\n",
              "      <td>1990</td>\n",
              "      <td>NaN</td>\n",
              "      <td>NaN</td>\n",
              "    </tr>\n",
              "  </tbody>\n",
              "</table>\n",
              "</div>"
            ],
            "text/plain": [
              "   Year ElasticityLabour ElasticityCapital\n",
              "0  1990              NaN               NaN"
            ]
          },
          "metadata": {
            "tags": []
          },
          "execution_count": 67
        }
      ]
    },
    {
      "cell_type": "code",
      "metadata": {
        "_uuid": "c12dfa4cc79c1ebb9f290729c5dd3f867756d6c6",
        "trusted": true,
        "id": "o-D3UCqFcfGg",
        "colab_type": "code",
        "colab": {}
      },
      "source": [
        "elasticities.index= elasticities['Year'].values"
      ],
      "execution_count": 68,
      "outputs": []
    },
    {
      "cell_type": "code",
      "metadata": {
        "_uuid": "847e95fc65feb676b6b9c6054e3be99251724aca",
        "trusted": true,
        "id": "Cl_i9aPKcfGi",
        "colab_type": "code",
        "colab": {
          "base_uri": "https://localhost:8080/",
          "height": 78
        },
        "outputId": "6e7a8229-6db1-4061-effb-b34c866c88f6"
      },
      "source": [
        "elasticities"
      ],
      "execution_count": 69,
      "outputs": [
        {
          "output_type": "execute_result",
          "data": {
            "text/html": [
              "<div>\n",
              "<style scoped>\n",
              "    .dataframe tbody tr th:only-of-type {\n",
              "        vertical-align: middle;\n",
              "    }\n",
              "\n",
              "    .dataframe tbody tr th {\n",
              "        vertical-align: top;\n",
              "    }\n",
              "\n",
              "    .dataframe thead th {\n",
              "        text-align: right;\n",
              "    }\n",
              "</style>\n",
              "<table border=\"1\" class=\"dataframe\">\n",
              "  <thead>\n",
              "    <tr style=\"text-align: right;\">\n",
              "      <th></th>\n",
              "      <th>Year</th>\n",
              "      <th>ElasticityLabour</th>\n",
              "      <th>ElasticityCapital</th>\n",
              "    </tr>\n",
              "  </thead>\n",
              "  <tbody>\n",
              "    <tr>\n",
              "      <th>1990</th>\n",
              "      <td>1990</td>\n",
              "      <td>NaN</td>\n",
              "      <td>NaN</td>\n",
              "    </tr>\n",
              "  </tbody>\n",
              "</table>\n",
              "</div>"
            ],
            "text/plain": [
              "      Year ElasticityLabour ElasticityCapital\n",
              "1990  1990              NaN               NaN"
            ]
          },
          "metadata": {
            "tags": []
          },
          "execution_count": 69
        }
      ]
    },
    {
      "cell_type": "code",
      "metadata": {
        "_uuid": "8e597ddd3cf96dac550e7195b3184597875a3027",
        "trusted": true,
        "id": "SIWljZ2zcfGk",
        "colab_type": "code",
        "colab": {
          "base_uri": "https://localhost:8080/",
          "height": 295
        },
        "outputId": "fc4653a1-bc15-4db5-acd0-67c78c512b6b"
      },
      "source": [
        "plt.plot(elasticities['Year'], elasticities['ElasticityLabour'], color='blue', linewidth=1, label='Labour Elasticity')\n",
        "plt.plot(elasticities['Year'], elasticities['ElasticityCapital'], color='green', linewidth=1, label='Capital Elasticity')\n",
        "plt.xlabel('Year')\n",
        "#plt.ylabel('Elasticities (%)')\n",
        "plt.title('Labour Elasticity VS Capital Elasticity over the year 1990 to 2014')\n",
        "plt.legend(loc='center left')\n",
        "plt.show()"
      ],
      "execution_count": 70,
      "outputs": [
        {
          "output_type": "display_data",
          "data": {
            "image/png": "[encoded data removed]",
            "text/plain": [
              "<Figure size 432x288 with 1 Axes>"
            ]
          },
          "metadata": {
            "tags": [],
            "needs_background": "light"
          }
        }
      ]
    }
  ]
}