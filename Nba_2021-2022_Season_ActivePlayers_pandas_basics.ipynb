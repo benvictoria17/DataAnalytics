{
 "cells": [
  {
   "cell_type": "code",
   "execution_count": 43,
   "id": "33f060e1",
   "metadata": {},
   "outputs": [],
   "source": [
    "import numpy as np\n",
    "import pandas as pd "
   ]
  },
  {
   "cell_type": "code",
   "execution_count": 44,
   "id": "fb9a2d6b",
   "metadata": {},
   "outputs": [],
   "source": [
    "df = pd.read_csv(\"https://raw.githubusercontent.com/benvictoria17/DataAnalytics/main/dataset/2021-22%20NBA%20Season%20Active%20NBA%20Players/players.csv\")"
   ]
  },
  {
   "cell_type": "code",
   "execution_count": 45,
   "id": "66c7f961",
   "metadata": {},
   "outputs": [
    {
     "name": "stdout",
     "output_type": "stream",
     "text": [
      "             Name Position            Team  Age  Height  Height_i  Weight     College      Salary  Points  Rebounds  Assists\n",
      "0  Juhann Begarin       SG  Boston Celtics   19   6' 5\"      6.50     185         NaN         NaN     NaN       NaN      NaN\n",
      "1    Jaylen Brown       SG  Boston Celtics   24   6' 6\"      6.60     223  California  26758928.0    24.7       6.0      3.4\n",
      "2       Kris Dunn       PG  Boston Celtics   27   6' 3\"      6.30     205  Providence   5005350.0     1.3       1.5      0.5\n",
      "3  Carsen Edwards       PG  Boston Celtics   23  5' 11\"      5.11     200      Purdue   1782621.0     4.0       0.8      0.5\n",
      "4      Tacko Fall        C  Boston Celtics   25   7' 5\"      7.50     311         UCF         NaN     2.5       2.7      0.2\n",
      "5  Bruno Fernando        F  Boston Celtics   23   6' 9\"      6.90     240    Maryland   1782621.0     1.5       2.4      0.3\n",
      "6      Al Horford        C  Boston Celtics   35   6' 9\"      6.90     240     Florida  27000000.0    14.2       6.7      3.4\n",
      "7     Enes Kanter        C  Boston Celtics   29  6' 10\"      6.10     250    Kentucky   1669178.0    11.2      11.0      1.2\n",
      "8     Luke Kornet        C  Boston Celtics   26   7' 2\"      7.20     250  Vanderbilt         NaN     3.4       2.2      0.8\n",
      "9  Romeo Langford       SG  Boston Celtics   21   6' 4\"      6.40     216     Indiana   3804360.0     3.1       1.9      0.7\n"
     ]
    }
   ],
   "source": [
    "result = df.head(10)\n",
    "print(result)"
   ]
  },
  {
   "cell_type": "code",
   "execution_count": 46,
   "id": "a8efb485",
   "metadata": {},
   "outputs": [
    {
     "name": "stdout",
     "output_type": "stream",
     "text": [
      "558\n"
     ]
    }
   ],
   "source": [
    "result = len(df.index)\n",
    "print(result)"
   ]
  },
  {
   "cell_type": "code",
   "execution_count": 47,
   "id": "6a4a8b12",
   "metadata": {},
   "outputs": [
    {
     "name": "stdout",
     "output_type": "stream",
     "text": [
      "8813695.5752809\n"
     ]
    }
   ],
   "source": [
    "result = df[\"Salary\"].mean()\n",
    "print(result)"
   ]
  },
  {
   "cell_type": "code",
   "execution_count": 48,
   "id": "58514d1b",
   "metadata": {},
   "outputs": [
    {
     "name": "stdout",
     "output_type": "stream",
     "text": [
      "Stephen Curry\n"
     ]
    }
   ],
   "source": [
    "result = df[df[\"Salary\"].max() == df[\"Salary\"]][\"Name\"].iloc[0]\n",
    "print(result)"
   ]
  },
  {
   "cell_type": "code",
   "execution_count": 49,
   "id": "828ec3ad",
   "metadata": {},
   "outputs": [
    {
     "name": "stdout",
     "output_type": "stream",
     "text": [
      "PG\n"
     ]
    }
   ],
   "source": [
    "result = df[df[\"Name\"] == \"Kemba Walker\"][\"Position\"].iloc[0]\n",
    "print(result)"
   ]
  },
  {
   "cell_type": "code",
   "execution_count": 50,
   "id": "e80f2b86",
   "metadata": {},
   "outputs": [
    {
     "name": "stdout",
     "output_type": "stream",
     "text": [
      "               Salary    Age\n",
      "Position                    \n",
      "C          8456428.80  26.02\n",
      "F          2560251.89  24.75\n",
      "G          8980619.71  24.93\n",
      "PF         8111010.82  25.72\n",
      "PG        11215125.14  25.74\n",
      "SF         8850135.80  25.72\n",
      "SG         8193987.70  24.99\n"
     ]
    }
   ],
   "source": [
    "position_mean = df.groupby([\"Position\"]).mean()\n",
    "result = position_mean[[\"Salary\",\"Age\"]]\n",
    "result = result.round(2)\n",
    "print(result)"
   ]
  }
 ],
 "metadata": {
  "kernelspec": {
   "display_name": "Python 3",
   "language": "python",
   "name": "python3"
  },
  "language_info": {
   "codemirror_mode": {
    "name": "ipython",
    "version": 3
   },
   "file_extension": ".py",
   "mimetype": "text/x-python",
   "name": "python",
   "nbconvert_exporter": "python",
   "pygments_lexer": "ipython3",
   "version": "3.9.5"
  }
 },
 "nbformat": 4,
 "nbformat_minor": 5
}
