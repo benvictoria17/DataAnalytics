{
 "cells": [
  {
   "cell_type": "code",
   "execution_count": 43,
   "id": "11949e6d",
   "metadata": {},
   "outputs": [],
   "source": [
    "import numpy as np\n",
    "import pandas as pd "
   ]
  },
  {
   "cell_type": "code",
   "execution_count": 44,
   "id": "ce7ec776",
   "metadata": {},
   "outputs": [],
   "source": [
    "df = pd.read_csv(\"https://raw.githubusercontent.com/benvictoria17/DataAnalytics/main/dataset/2021-22%20NBA%20Season%20Active%20NBA%20Players/players.csv\")"
   ]
  },
  {
   "cell_type": "code",
   "execution_count": 45,
   "id": "c928423f",
   "metadata": {},
   "outputs": [
    {
     "name": "stdout",
     "output_type": "stream",
     "text": [
      "             Name Position            Team  Age  Height  Height_i  Weight     College      Salary  Points  Rebounds  Assists\n",
      "0  Juhann Begarin       SG  Boston Celtics   19   6' 5\"      6.50     185         NaN         NaN     NaN       NaN      NaN\n",
      "1    Jaylen Brown       SG  Boston Celtics   24   6' 6\"      6.60     223  California  26758928.0    24.7       6.0      3.4\n",
      "2       Kris Dunn       PG  Boston Celtics   27   6' 3\"      6.30     205  Providence   5005350.0     1.3       1.5      0.5\n",
      "3  Carsen Edwards       PG  Boston Celtics   23  5' 11\"      5.11     200      Purdue   1782621.0     4.0       0.8      0.5\n",
      "4      Tacko Fall        C  Boston Celtics   25   7' 5\"      7.50     311         UCF         NaN     2.5       2.7      0.2\n",
      "5  Bruno Fernando        F  Boston Celtics   23   6' 9\"      6.90     240    Maryland   1782621.0     1.5       2.4      0.3\n",
      "6      Al Horford        C  Boston Celtics   35   6' 9\"      6.90     240     Florida  27000000.0    14.2       6.7      3.4\n",
      "7     Enes Kanter        C  Boston Celtics   29  6' 10\"      6.10     250    Kentucky   1669178.0    11.2      11.0      1.2\n",
      "8     Luke Kornet        C  Boston Celtics   26   7' 2\"      7.20     250  Vanderbilt         NaN     3.4       2.2      0.8\n",
      "9  Romeo Langford       SG  Boston Celtics   21   6' 4\"      6.40     216     Indiana   3804360.0     3.1       1.9      0.7\n"
     ]
    }
   ],
   "source": [
    "result = df.head(10)\n",
    "print(result)"
   ]
  },
  {
   "cell_type": "code",
   "execution_count": 46,
   "id": "cdeec8f9",
   "metadata": {},
   "outputs": [
    {
     "name": "stdout",
     "output_type": "stream",
     "text": [
      "558\n"
     ]
    }
   ],
   "source": [
    "result = len(df.index)\n",
    "print(result)"
   ]
  },
  {
   "cell_type": "code",
   "execution_count": 47,
   "id": "0084c171",
   "metadata": {},
   "outputs": [
    {
     "name": "stdout",
     "output_type": "stream",
     "text": [
      "8813695.5752809\n"
     ]
    }
   ],
   "source": [
    "result = df[\"Salary\"].mean()\n",
    "print(result)"
   ]
  },
  {
   "cell_type": "code",
   "execution_count": 48,
   "id": "4e8d5133",
   "metadata": {},
   "outputs": [
    {
     "name": "stdout",
     "output_type": "stream",
     "text": [
      "Stephen Curry\n"
     ]
    }
   ],
   "source": [
    "result = df[df[\"Salary\"].max() == df[\"Salary\"]][\"Name\"].iloc[0]\n",
    "print(result)"
   ]
  },
  {
   "cell_type": "code",
   "execution_count": 49,
   "id": "f240221b",
   "metadata": {},
   "outputs": [
    {
     "name": "stdout",
     "output_type": "stream",
     "text": [
      "PG\n"
     ]
    }
   ],
   "source": [
    "result = df[df[\"Name\"] == \"Kemba Walker\"][\"Position\"].iloc[0]\n",
    "print(result)"
   ]
  },
  {
   "cell_type": "code",
   "execution_count": 50,
   "id": "968361c3",
   "metadata": {},
   "outputs": [
    {
     "name": "stdout",
     "output_type": "stream",
     "text": [
      "               Salary    Age\n",
      "Position                    \n",
      "C          8456428.80  26.02\n",
      "F          2560251.89  24.75\n",
      "G          8980619.71  24.93\n",
      "PF         8111010.82  25.72\n",
      "PG        11215125.14  25.74\n",
      "SF         8850135.80  25.72\n",
      "SG         8193987.70  24.99\n"
     ]
    }
   ],
   "source": [
    "position_mean = df.groupby([\"Position\"]).mean()\n",
    "result = position_mean[[\"Salary\",\"Age\"]]\n",
    "result = result.round(2)\n",
    "print(result)"
   ]
  },
  {
   "cell_type": "code",
   "execution_count": 52,
   "id": "2526b9ce",
   "metadata": {},
   "outputs": [
    {
     "name": "stdout",
     "output_type": "stream",
     "text": [
      "7\n"
     ]
    }
   ],
   "source": [
    "result = df[\"Position\"].nunique()\n",
    "print(result)"
   ]
  },
  {
   "cell_type": "code",
   "execution_count": 53,
   "id": "66352b9d",
   "metadata": {},
   "outputs": [
    {
     "name": "stdout",
     "output_type": "stream",
     "text": [
      "SG    131\n",
      "SF    106\n",
      "PG    102\n",
      "PF     96\n",
      "C      88\n",
      "F      20\n",
      "G      15\n",
      "Name: Position, dtype: int64\n"
     ]
    }
   ],
   "source": [
    "result = df[\"Position\"].value_counts()\n",
    "print(result)"
   ]
  },
  {
   "cell_type": "code",
   "execution_count": 54,
   "id": "ef5a91fa",
   "metadata": {},
   "outputs": [
    {
     "name": "stdout",
     "output_type": "stream",
     "text": [
      "Brooklyn Nets             25\n",
      "Memphis Grizzlies         22\n",
      "Charlotte Hornets         21\n",
      "New York Knicks           21\n",
      "Oklahoma City Thunder     21\n",
      "Houston Rockets           21\n",
      "Orlando Magic             21\n",
      "Philadelphia Sixers       20\n",
      "Milwaukee Bucks           20\n",
      "Boston Celtics            19\n",
      "San Antonio Spurs         19\n",
      "Golden State Warriors     19\n",
      "Detroit Pistons           18\n",
      "Sacremento Kings          18\n",
      "Portland Trail Blazers    18\n",
      "Dallas Mavericks          18\n",
      "Utah Jazz                 18\n",
      "Los Angeles Clippers      18\n",
      "Indiana Pacers            18\n",
      "Washington Wizards        18\n",
      "Phoenix Suns              17\n",
      "Atlanta Hawks             17\n",
      "New Orleans Pelicans      17\n",
      "Chicago Bulls             17\n",
      "Denver Nuggets            17\n",
      "Toronto Raptors           17\n",
      "Miami Heat                17\n",
      "Los Angeles Lakers        16\n",
      "Cleveland Cavaliers       15\n",
      "Minnesota Timberwolves    15\n",
      "Name: Team, dtype: int64\n"
     ]
    }
   ],
   "source": [
    "result = df[\"Team\"].value_counts()\n",
    "print(result)"
   ]
  },
  {
   "cell_type": "code",
   "execution_count": 55,
   "id": "4e954ee6",
   "metadata": {},
   "outputs": [
    {
     "name": "stdout",
     "output_type": "stream",
     "text": [
      "                         Name Position                   Team  Age  Height  Height_i  Weight        College      Salary  Points  Rebounds  Assists\n",
      "5              Bruno Fernando        F         Boston Celtics   23   6' 9\"      6.90     240       Maryland   1782621.0     1.5       2.4      0.3\n",
      "58              Julius Randle       PF        New York Knicks   26   6' 8\"      6.80     250       Kentucky  21780000.0    24.1      10.2      6.0\n",
      "121            Darius Garland       PG    Cleveland Cavaliers   21   6' 1\"      6.10     192     Vanderbilt   7040880.0    17.4       2.4      6.1\n",
      "337             Deandre Ayton        C           Phoenix Suns   23  6' 11\"      6.11     250        Arizona  12632950.0    14.4      10.5      1.4\n",
      "342        Chandler Hutchison       SF           Phoenix Suns   25   6' 6\"      6.60     210    Boise State   4019459.0     4.3       3.1      0.7\n",
      "352             Landry Shamet       SG           Phoenix Suns   24   6' 4\"      6.40     190  Wichita State   3768342.0     9.3       1.8      1.6\n",
      "416            Brandon Clarke       PF      Memphis Grizzlies   24   6' 8\"      6.80     215        Gonzaga   2726880.0    10.3       5.6      1.6\n",
      "433  Nickeil Alexander-Walker       SG   New Orleans Pelicans   23   6' 6\"      6.60     205  Virginia Tech   3261480.0    11.0       3.1      2.2\n",
      "439            Brandon Ingram       SF   New Orleans Pelicans   24   6' 8\"      6.80     190           Duke  29467800.0    23.8       4.9      4.9\n",
      "508   Shai Gilgeous-Alexander       SG  Oklahoma City Thunder   23   6' 6\"      6.60     180       Kentucky   5495532.0    23.7       4.7      5.9\n"
     ]
    }
   ],
   "source": [
    "df = df.dropna()\n",
    "result = df[df[\"Name\"].str.contains(\"and\")]\n",
    "print(result)"
   ]
  },
  {
   "cell_type": "code",
   "execution_count": 56,
   "id": "4c7e2ceb",
   "metadata": {},
   "outputs": [
    {
     "name": "stdout",
     "output_type": "stream",
     "text": [
      "                         Name Position                   Team  Age  Height  Height_i  Weight         College      Salary  Points  Rebounds  Assists\n",
      "5              Bruno Fernando        F         Boston Celtics   23   6' 9\"      6.90     240        Maryland   1782621.0     1.5       2.4      0.3\n",
      "20            DeAndre' Bembry       SG          Brooklyn Nets   27   6' 5\"      6.50     210  Saint Joseph's   1669178.0     5.7       2.9      2.1\n",
      "58              Julius Randle       PF        New York Knicks   26   6' 8\"      6.80     250        Kentucky  21780000.0    24.1      10.2      6.0\n",
      "68             Andre Drummond        C    Philadelphia Sixers   28  6' 10\"      6.10     279     Connecticut   1669178.0    14.9      12.0      2.0\n",
      "121            Darius Garland       PG    Cleveland Cavaliers   21   6' 1\"      6.10     192      Vanderbilt   7040880.0    17.4       2.4      6.1\n",
      "199           De'Andre Hunter       SF          Atlanta Hawks   23   6' 8\"      6.80     225        Virginia   7775400.0    15.0       4.8      1.9\n",
      "289            Andre Iguodala        F  Golden State Warriors   37   6' 6\"      6.60     215         Arizona   1669178.0     4.4       3.5      2.3\n",
      "300     Juan Toscano-Anderson       SF  Golden State Warriors   28   6' 6\"      6.60     209       Marquette   1701593.0     5.7       4.4      2.8\n",
      "301            Andrew Wiggins       SF  Golden State Warriors   26   6' 7\"      6.70     197          Kansas  31579390.0    18.6       4.9      2.4\n",
      "337             Deandre Ayton        C           Phoenix Suns   23  6' 11\"      6.11     250         Arizona  12632950.0    14.4      10.5      1.4\n",
      "342        Chandler Hutchison       SF           Phoenix Suns   25   6' 6\"      6.60     210     Boise State   4019459.0     4.3       3.1      0.7\n",
      "352             Landry Shamet       SG           Phoenix Suns   24   6' 4\"      6.40     190   Wichita State   3768342.0     9.3       1.8      1.6\n",
      "413             Kyle Anderson       SF      Memphis Grizzlies   27   6' 9\"      6.90     230            UCLA   9937150.0    12.4       5.7      3.6\n",
      "416            Brandon Clarke       PF      Memphis Grizzlies   24   6' 8\"      6.80     215         Gonzaga   2726880.0    10.3       5.6      1.6\n",
      "433  Nickeil Alexander-Walker       SG   New Orleans Pelicans   23   6' 6\"      6.60     205   Virginia Tech   3261480.0    11.0       3.1      2.2\n",
      "439            Brandon Ingram       SF   New Orleans Pelicans   24   6' 8\"      6.80     190            Duke  29467800.0    23.8       4.9      4.9\n",
      "508   Shai Gilgeous-Alexander       SG  Oklahoma City Thunder   23   6' 6\"      6.60     180        Kentucky   5495532.0    23.7       4.7      5.9\n"
     ]
    }
   ],
   "source": [
    "def str_find(name):\n",
    "    if\"and\" in name.lower():\n",
    "        return True\n",
    "    return False\n",
    "\n",
    "df.dropna(inplace=True)\n",
    "result = df[df[\"Name\"].apply(str_find)]\n",
    "print(result)"
   ]
  },
  {
   "cell_type": "code",
   "execution_count": 57,
   "id": "36538076",
   "metadata": {},
   "outputs": [
    {
     "name": "stdout",
     "output_type": "stream",
     "text": [
      "                 Name                    Team  Age  Points  Rebounds  Assists\n",
      "489   Anthony Edwards  Minnesota Timberwolves   20    19.3       4.7      2.9\n",
      "449   Zion Williamson    New Orleans Pelicans   21    27.0       7.2      3.7\n",
      "206        Trae Young           Atlanta Hawks   22    25.3       3.9      9.4\n",
      "16       Jayson Tatum          Boston Celtics   23    26.4       7.4      4.3\n",
      "338      Devin Booker            Phoenix Suns   24    25.6       4.2      4.3\n",
      "552  Donovan Mitchell               Utah Jazz   25    26.4       4.4      5.2\n",
      "113       Zach LaVine           Chicago Bulls   26    27.4       5.0      4.9\n",
      "69        Joel Embiid     Philadelphia Sixers   27    28.5      10.6      2.8\n",
      "267      Bradley Beal      Washington Wizards   28    31.3       4.7      4.4\n",
      "31       Kyrie Irving           Brooklyn Nets   29    26.9       4.8      6.0\n",
      "313     Kawhi Leonard    Los Angeles Clippers   30    24.8       6.5      5.2\n",
      "529    Damian Lillard  Portland Trail Blazers   31    28.8       4.2      7.5\n",
      "25       Kevin Durant           Brooklyn Nets   32    26.9       7.1      5.6\n",
      "287     Stephen Curry   Golden State Warriors   33    32.0       5.5      5.8\n",
      "70        Danny Green     Philadelphia Sixers   34     9.5       3.8      1.7\n",
      "234        Kyle Lowry              Miami Heat   35    17.2       5.4      7.3\n",
      "348        Chris Paul            Phoenix Suns   36    16.4       4.5      8.9\n",
      "322   Carmelo Anthony      Los Angeles Lakers   37    13.4       3.1      1.5\n",
      "232     Udonis Haslem              Miami Heat   41     4.0       1.0      0.0\n"
     ]
    }
   ],
   "source": [
    "df.dropna(inplace=True)\n",
    "result = df.drop(df.columns[[1,4,5,6,7,8]], axis=1, inplace=True)\n",
    "result = df.sort_values(by=[\"Age\",\"Points\"],ascending=[True,False])\n",
    "result = result.drop_duplicates(subset=[\"Age\"])\n",
    "print(result)"
   ]
  },
  {
   "cell_type": "code",
   "execution_count": 58,
   "id": "5228b934",
   "metadata": {},
   "outputs": [
    {
     "data": {
      "text/plain": [
       "'\\nresult = df.query(\\'Position == \"SG\" and Points > 20 or Position == \"SG\" and Assists > 5\\')\\nresult = result.sort_values(by=\\'Points\\',ascending=False)\\nprint(result)\\n'"
      ]
     },
     "execution_count": 58,
     "metadata": {},
     "output_type": "execute_result"
    }
   ],
   "source": [
    "\"\"\"\n",
    "result = df.query('Position == \"SG\" and Points > 20 or Position == \"SG\" and Assists > 5')\n",
    "result = result.sort_values(by='Points',ascending=False)\n",
    "print(result)\n",
    "\"\"\""
   ]
  },
  {
   "cell_type": "code",
   "execution_count": 59,
   "id": "0dbc15a9",
   "metadata": {},
   "outputs": [
    {
     "data": {
      "text/plain": [
       "'\\nresult = df.nlargest(5,\\'Points\\')\\nresult = df.nsmallest(5,\"Rebounds\")\\n'"
      ]
     },
     "execution_count": 59,
     "metadata": {},
     "output_type": "execute_result"
    }
   ],
   "source": [
    "\"\"\"\n",
    "result = df.nlargest(5,'Points')\n",
    "result = df.nsmallest(5,\"Rebounds\")\n",
    "\"\"\""
   ]
  },
  {
   "cell_type": "code",
   "execution_count": 61,
   "id": "321f708f",
   "metadata": {},
   "outputs": [
    {
     "name": "stdout",
     "output_type": "stream",
     "text": [
      "count    339.000000\n",
      "mean      10.837168\n",
      "std        6.489215\n",
      "min        0.800000\n",
      "25%        5.750000\n",
      "50%        9.400000\n",
      "75%       14.250000\n",
      "max       32.000000\n",
      "Name: Points, dtype: float64\n"
     ]
    }
   ],
   "source": [
    "result = df[\"Points\"].describe()\n",
    "print(result)"
   ]
  }
 ],
 "metadata": {
  "kernelspec": {
   "display_name": "Python 3",
   "language": "python",
   "name": "python3"
  },
  "language_info": {
   "codemirror_mode": {
    "name": "ipython",
    "version": 3
   },
   "file_extension": ".py",
   "mimetype": "text/x-python",
   "name": "python",
   "nbconvert_exporter": "python",
   "pygments_lexer": "ipython3",
   "version": "3.9.5"
  }
 },
 "nbformat": 4,
 "nbformat_minor": 5
}
