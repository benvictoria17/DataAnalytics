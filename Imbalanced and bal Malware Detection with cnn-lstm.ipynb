{
 "cells": [
  {
   "cell_type": "code",
   "execution_count": 1,
   "id": "7bceb728",
   "metadata": {
    "execution": {
     "iopub.execute_input": "2022-03-24T04:23:08.846721Z",
     "iopub.status.busy": "2022-03-24T04:23:08.845787Z",
     "iopub.status.idle": "2022-03-24T04:23:16.203600Z",
     "shell.execute_reply": "2022-03-24T04:23:16.202947Z",
     "shell.execute_reply.started": "2022-03-24T04:19:34.605372Z"
    },
    "papermill": {
     "duration": 7.392201,
     "end_time": "2022-03-24T04:23:16.203771",
     "exception": false,
     "start_time": "2022-03-24T04:23:08.811570",
     "status": "completed"
    },
    "tags": []
   },
   "outputs": [],
   "source": [
    "import numpy as np \n",
    "import pandas as pd \n",
    "import seaborn as sns\n",
    "import tensorflow as tf\n",
    "import scikitplot as skplt\n",
    "import matplotlib.pyplot as plt\n",
    "from tensorflow.keras.metrics import FalseNegatives, TrueNegatives, TruePositives, FalsePositives\n",
    "from tensorflow.keras.models import Sequential, Model\n",
    "from tensorflow.keras.optimizers import Adam\n",
    "from imblearn.over_sampling import RandomOverSampler\n",
    "from imblearn.under_sampling import RandomUnderSampler\n",
    "from tensorflow.keras.layers import Embedding, LSTM, Input\n",
    "from tensorflow.keras.layers import Dense, Dropout, Conv1D, MaxPool1D, BatchNormalization\n",
    "from sklearn.model_selection import train_test_split\n",
    "from sklearn.metrics import accuracy_score,classification_report,confusion_matrix"
   ]
  },
  {
   "cell_type": "code",
   "execution_count": 2,
   "id": "9cc5eaca",
   "metadata": {
    "execution": {
     "iopub.execute_input": "2022-03-24T04:23:16.243951Z",
     "iopub.status.busy": "2022-03-24T04:23:16.243081Z",
     "iopub.status.idle": "2022-03-24T04:23:17.925303Z",
     "shell.execute_reply": "2022-03-24T04:23:17.924702Z",
     "shell.execute_reply.started": "2022-03-24T04:19:34.629232Z"
    },
    "papermill": {
     "duration": 1.708426,
     "end_time": "2022-03-24T04:23:17.925459",
     "exception": false,
     "start_time": "2022-03-24T04:23:16.217033",
     "status": "completed"
    },
    "tags": []
   },
   "outputs": [],
   "source": [
    "data = pd.read_csv(\"https://raw.githubusercontent.com/benvictoria17/DataAnalytics/master/dataset/Malware%20Analysis%20Datasets%20API%20Call%20Sequences/dynamic_api_call_sequence_per_malware_100_0_306.csv\")"
   ]
  },
  {
   "cell_type": "code",
   "execution_count": 3,
   "id": "452922f1",
   "metadata": {
    "execution": {
     "iopub.execute_input": "2022-03-24T04:23:17.955426Z",
     "iopub.status.busy": "2022-03-24T04:23:17.954225Z",
     "iopub.status.idle": "2022-03-24T04:23:17.987049Z",
     "shell.execute_reply": "2022-03-24T04:23:17.987607Z",
     "shell.execute_reply.started": "2022-03-24T04:19:35.308710Z"
    },
    "papermill": {
     "duration": 0.049132,
     "end_time": "2022-03-24T04:23:17.987750",
     "exception": false,
     "start_time": "2022-03-24T04:23:17.938618",
     "status": "completed"
    },
    "tags": []
   },
   "outputs": [
    {
     "data": {
      "text/html": [
       "<div>\n",
       "<style scoped>\n",
       "    .dataframe tbody tr th:only-of-type {\n",
       "        vertical-align: middle;\n",
       "    }\n",
       "\n",
       "    .dataframe tbody tr th {\n",
       "        vertical-align: top;\n",
       "    }\n",
       "\n",
       "    .dataframe thead th {\n",
       "        text-align: right;\n",
       "    }\n",
       "</style>\n",
       "<table border=\"1\" class=\"dataframe\">\n",
       "  <thead>\n",
       "    <tr style=\"text-align: right;\">\n",
       "      <th></th>\n",
       "      <th>hash</th>\n",
       "      <th>t_0</th>\n",
       "      <th>t_1</th>\n",
       "      <th>t_2</th>\n",
       "      <th>t_3</th>\n",
       "      <th>t_4</th>\n",
       "      <th>t_5</th>\n",
       "      <th>t_6</th>\n",
       "      <th>t_7</th>\n",
       "      <th>t_8</th>\n",
       "      <th>...</th>\n",
       "      <th>t_91</th>\n",
       "      <th>t_92</th>\n",
       "      <th>t_93</th>\n",
       "      <th>t_94</th>\n",
       "      <th>t_95</th>\n",
       "      <th>t_96</th>\n",
       "      <th>t_97</th>\n",
       "      <th>t_98</th>\n",
       "      <th>t_99</th>\n",
       "      <th>malware</th>\n",
       "    </tr>\n",
       "  </thead>\n",
       "  <tbody>\n",
       "    <tr>\n",
       "      <th>0</th>\n",
       "      <td>071e8c3f8922e186e57548cd4c703a5d</td>\n",
       "      <td>112</td>\n",
       "      <td>274</td>\n",
       "      <td>158</td>\n",
       "      <td>215</td>\n",
       "      <td>274</td>\n",
       "      <td>158</td>\n",
       "      <td>215</td>\n",
       "      <td>298</td>\n",
       "      <td>76</td>\n",
       "      <td>...</td>\n",
       "      <td>71</td>\n",
       "      <td>297</td>\n",
       "      <td>135</td>\n",
       "      <td>171</td>\n",
       "      <td>215</td>\n",
       "      <td>35</td>\n",
       "      <td>208</td>\n",
       "      <td>56</td>\n",
       "      <td>71</td>\n",
       "      <td>1</td>\n",
       "    </tr>\n",
       "    <tr>\n",
       "      <th>1</th>\n",
       "      <td>33f8e6d08a6aae939f25a8e0d63dd523</td>\n",
       "      <td>82</td>\n",
       "      <td>208</td>\n",
       "      <td>187</td>\n",
       "      <td>208</td>\n",
       "      <td>172</td>\n",
       "      <td>117</td>\n",
       "      <td>172</td>\n",
       "      <td>117</td>\n",
       "      <td>172</td>\n",
       "      <td>...</td>\n",
       "      <td>81</td>\n",
       "      <td>240</td>\n",
       "      <td>117</td>\n",
       "      <td>71</td>\n",
       "      <td>297</td>\n",
       "      <td>135</td>\n",
       "      <td>171</td>\n",
       "      <td>215</td>\n",
       "      <td>35</td>\n",
       "      <td>1</td>\n",
       "    </tr>\n",
       "    <tr>\n",
       "      <th>2</th>\n",
       "      <td>b68abd064e975e1c6d5f25e748663076</td>\n",
       "      <td>16</td>\n",
       "      <td>110</td>\n",
       "      <td>240</td>\n",
       "      <td>117</td>\n",
       "      <td>240</td>\n",
       "      <td>117</td>\n",
       "      <td>240</td>\n",
       "      <td>117</td>\n",
       "      <td>240</td>\n",
       "      <td>...</td>\n",
       "      <td>65</td>\n",
       "      <td>112</td>\n",
       "      <td>123</td>\n",
       "      <td>65</td>\n",
       "      <td>112</td>\n",
       "      <td>123</td>\n",
       "      <td>65</td>\n",
       "      <td>113</td>\n",
       "      <td>112</td>\n",
       "      <td>1</td>\n",
       "    </tr>\n",
       "    <tr>\n",
       "      <th>3</th>\n",
       "      <td>72049be7bd30ea61297ea624ae198067</td>\n",
       "      <td>82</td>\n",
       "      <td>208</td>\n",
       "      <td>187</td>\n",
       "      <td>208</td>\n",
       "      <td>172</td>\n",
       "      <td>117</td>\n",
       "      <td>172</td>\n",
       "      <td>117</td>\n",
       "      <td>172</td>\n",
       "      <td>...</td>\n",
       "      <td>208</td>\n",
       "      <td>302</td>\n",
       "      <td>208</td>\n",
       "      <td>302</td>\n",
       "      <td>187</td>\n",
       "      <td>208</td>\n",
       "      <td>302</td>\n",
       "      <td>228</td>\n",
       "      <td>302</td>\n",
       "      <td>1</td>\n",
       "    </tr>\n",
       "    <tr>\n",
       "      <th>4</th>\n",
       "      <td>c9b3700a77facf29172f32df6bc77f48</td>\n",
       "      <td>82</td>\n",
       "      <td>240</td>\n",
       "      <td>117</td>\n",
       "      <td>240</td>\n",
       "      <td>117</td>\n",
       "      <td>240</td>\n",
       "      <td>117</td>\n",
       "      <td>240</td>\n",
       "      <td>117</td>\n",
       "      <td>...</td>\n",
       "      <td>209</td>\n",
       "      <td>260</td>\n",
       "      <td>40</td>\n",
       "      <td>209</td>\n",
       "      <td>260</td>\n",
       "      <td>141</td>\n",
       "      <td>260</td>\n",
       "      <td>141</td>\n",
       "      <td>260</td>\n",
       "      <td>1</td>\n",
       "    </tr>\n",
       "  </tbody>\n",
       "</table>\n",
       "<p>5 rows × 102 columns</p>\n",
       "</div>"
      ],
      "text/plain": [
       "                               hash  t_0  t_1  t_2  t_3  t_4  t_5  t_6  t_7  \\\n",
       "0  071e8c3f8922e186e57548cd4c703a5d  112  274  158  215  274  158  215  298   \n",
       "1  33f8e6d08a6aae939f25a8e0d63dd523   82  208  187  208  172  117  172  117   \n",
       "2  b68abd064e975e1c6d5f25e748663076   16  110  240  117  240  117  240  117   \n",
       "3  72049be7bd30ea61297ea624ae198067   82  208  187  208  172  117  172  117   \n",
       "4  c9b3700a77facf29172f32df6bc77f48   82  240  117  240  117  240  117  240   \n",
       "\n",
       "   t_8  ...  t_91  t_92  t_93  t_94  t_95  t_96  t_97  t_98  t_99  malware  \n",
       "0   76  ...    71   297   135   171   215    35   208    56    71        1  \n",
       "1  172  ...    81   240   117    71   297   135   171   215    35        1  \n",
       "2  240  ...    65   112   123    65   112   123    65   113   112        1  \n",
       "3  172  ...   208   302   208   302   187   208   302   228   302        1  \n",
       "4  117  ...   209   260    40   209   260   141   260   141   260        1  \n",
       "\n",
       "[5 rows x 102 columns]"
      ]
     },
     "execution_count": 3,
     "metadata": {},
     "output_type": "execute_result"
    }
   ],
   "source": [
    "data.head()"
   ]
  },
  {
   "cell_type": "code",
   "execution_count": 4,
   "id": "2d205bf8",
   "metadata": {
    "execution": {
     "iopub.execute_input": "2022-03-24T04:23:18.017828Z",
     "iopub.status.busy": "2022-03-24T04:23:18.016670Z",
     "iopub.status.idle": "2022-03-24T04:23:18.054198Z",
     "shell.execute_reply": "2022-03-24T04:23:18.054704Z",
     "shell.execute_reply.started": "2022-03-24T04:19:35.325809Z"
    },
    "papermill": {
     "duration": 0.054042,
     "end_time": "2022-03-24T04:23:18.054903",
     "exception": false,
     "start_time": "2022-03-24T04:23:18.000861",
     "status": "completed"
    },
    "tags": []
   },
   "outputs": [
    {
     "data": {
      "text/html": [
       "<div>\n",
       "<style scoped>\n",
       "    .dataframe tbody tr th:only-of-type {\n",
       "        vertical-align: middle;\n",
       "    }\n",
       "\n",
       "    .dataframe tbody tr th {\n",
       "        vertical-align: top;\n",
       "    }\n",
       "\n",
       "    .dataframe thead th {\n",
       "        text-align: right;\n",
       "    }\n",
       "</style>\n",
       "<table border=\"1\" class=\"dataframe\">\n",
       "  <thead>\n",
       "    <tr style=\"text-align: right;\">\n",
       "      <th></th>\n",
       "      <th>t_0</th>\n",
       "      <th>t_1</th>\n",
       "      <th>t_2</th>\n",
       "      <th>t_3</th>\n",
       "      <th>t_4</th>\n",
       "      <th>t_5</th>\n",
       "      <th>t_6</th>\n",
       "      <th>t_7</th>\n",
       "      <th>t_8</th>\n",
       "      <th>t_9</th>\n",
       "      <th>...</th>\n",
       "      <th>t_90</th>\n",
       "      <th>t_91</th>\n",
       "      <th>t_92</th>\n",
       "      <th>t_93</th>\n",
       "      <th>t_94</th>\n",
       "      <th>t_95</th>\n",
       "      <th>t_96</th>\n",
       "      <th>t_97</th>\n",
       "      <th>t_98</th>\n",
       "      <th>t_99</th>\n",
       "    </tr>\n",
       "  </thead>\n",
       "  <tbody>\n",
       "    <tr>\n",
       "      <th>0</th>\n",
       "      <td>112</td>\n",
       "      <td>274</td>\n",
       "      <td>158</td>\n",
       "      <td>215</td>\n",
       "      <td>274</td>\n",
       "      <td>158</td>\n",
       "      <td>215</td>\n",
       "      <td>298</td>\n",
       "      <td>76</td>\n",
       "      <td>208</td>\n",
       "      <td>...</td>\n",
       "      <td>117</td>\n",
       "      <td>71</td>\n",
       "      <td>297</td>\n",
       "      <td>135</td>\n",
       "      <td>171</td>\n",
       "      <td>215</td>\n",
       "      <td>35</td>\n",
       "      <td>208</td>\n",
       "      <td>56</td>\n",
       "      <td>71</td>\n",
       "    </tr>\n",
       "    <tr>\n",
       "      <th>1</th>\n",
       "      <td>82</td>\n",
       "      <td>208</td>\n",
       "      <td>187</td>\n",
       "      <td>208</td>\n",
       "      <td>172</td>\n",
       "      <td>117</td>\n",
       "      <td>172</td>\n",
       "      <td>117</td>\n",
       "      <td>172</td>\n",
       "      <td>117</td>\n",
       "      <td>...</td>\n",
       "      <td>60</td>\n",
       "      <td>81</td>\n",
       "      <td>240</td>\n",
       "      <td>117</td>\n",
       "      <td>71</td>\n",
       "      <td>297</td>\n",
       "      <td>135</td>\n",
       "      <td>171</td>\n",
       "      <td>215</td>\n",
       "      <td>35</td>\n",
       "    </tr>\n",
       "    <tr>\n",
       "      <th>2</th>\n",
       "      <td>16</td>\n",
       "      <td>110</td>\n",
       "      <td>240</td>\n",
       "      <td>117</td>\n",
       "      <td>240</td>\n",
       "      <td>117</td>\n",
       "      <td>240</td>\n",
       "      <td>117</td>\n",
       "      <td>240</td>\n",
       "      <td>117</td>\n",
       "      <td>...</td>\n",
       "      <td>123</td>\n",
       "      <td>65</td>\n",
       "      <td>112</td>\n",
       "      <td>123</td>\n",
       "      <td>65</td>\n",
       "      <td>112</td>\n",
       "      <td>123</td>\n",
       "      <td>65</td>\n",
       "      <td>113</td>\n",
       "      <td>112</td>\n",
       "    </tr>\n",
       "    <tr>\n",
       "      <th>3</th>\n",
       "      <td>82</td>\n",
       "      <td>208</td>\n",
       "      <td>187</td>\n",
       "      <td>208</td>\n",
       "      <td>172</td>\n",
       "      <td>117</td>\n",
       "      <td>172</td>\n",
       "      <td>117</td>\n",
       "      <td>172</td>\n",
       "      <td>117</td>\n",
       "      <td>...</td>\n",
       "      <td>215</td>\n",
       "      <td>208</td>\n",
       "      <td>302</td>\n",
       "      <td>208</td>\n",
       "      <td>302</td>\n",
       "      <td>187</td>\n",
       "      <td>208</td>\n",
       "      <td>302</td>\n",
       "      <td>228</td>\n",
       "      <td>302</td>\n",
       "    </tr>\n",
       "    <tr>\n",
       "      <th>4</th>\n",
       "      <td>82</td>\n",
       "      <td>240</td>\n",
       "      <td>117</td>\n",
       "      <td>240</td>\n",
       "      <td>117</td>\n",
       "      <td>240</td>\n",
       "      <td>117</td>\n",
       "      <td>240</td>\n",
       "      <td>117</td>\n",
       "      <td>172</td>\n",
       "      <td>...</td>\n",
       "      <td>40</td>\n",
       "      <td>209</td>\n",
       "      <td>260</td>\n",
       "      <td>40</td>\n",
       "      <td>209</td>\n",
       "      <td>260</td>\n",
       "      <td>141</td>\n",
       "      <td>260</td>\n",
       "      <td>141</td>\n",
       "      <td>260</td>\n",
       "    </tr>\n",
       "  </tbody>\n",
       "</table>\n",
       "<p>5 rows × 100 columns</p>\n",
       "</div>"
      ],
      "text/plain": [
       "   t_0  t_1  t_2  t_3  t_4  t_5  t_6  t_7  t_8  t_9  ...  t_90  t_91  t_92  \\\n",
       "0  112  274  158  215  274  158  215  298   76  208  ...   117    71   297   \n",
       "1   82  208  187  208  172  117  172  117  172  117  ...    60    81   240   \n",
       "2   16  110  240  117  240  117  240  117  240  117  ...   123    65   112   \n",
       "3   82  208  187  208  172  117  172  117  172  117  ...   215   208   302   \n",
       "4   82  240  117  240  117  240  117  240  117  172  ...    40   209   260   \n",
       "\n",
       "   t_93  t_94  t_95  t_96  t_97  t_98  t_99  \n",
       "0   135   171   215    35   208    56    71  \n",
       "1   117    71   297   135   171   215    35  \n",
       "2   123    65   112   123    65   113   112  \n",
       "3   208   302   187   208   302   228   302  \n",
       "4    40   209   260   141   260   141   260  \n",
       "\n",
       "[5 rows x 100 columns]"
      ]
     },
     "execution_count": 4,
     "metadata": {},
     "output_type": "execute_result"
    }
   ],
   "source": [
    "used_data = data.drop(['hash', 'malware'], axis=1)\n",
    "used_data.head()"
   ]
  },
  {
   "cell_type": "code",
   "execution_count": 5,
   "id": "14353307",
   "metadata": {
    "execution": {
     "iopub.execute_input": "2022-03-24T04:23:18.090441Z",
     "iopub.status.busy": "2022-03-24T04:23:18.089521Z",
     "iopub.status.idle": "2022-03-24T04:23:18.335814Z",
     "shell.execute_reply": "2022-03-24T04:23:18.335255Z",
     "shell.execute_reply.started": "2022-03-24T04:19:35.358582Z"
    },
    "papermill": {
     "duration": 0.266807,
     "end_time": "2022-03-24T04:23:18.335958",
     "exception": false,
     "start_time": "2022-03-24T04:23:18.069151",
     "status": "completed"
    },
    "tags": []
   },
   "outputs": [
    {
     "name": "stderr",
     "output_type": "stream",
     "text": [
      "/opt/conda/lib/python3.7/site-packages/seaborn/_decorators.py:43: FutureWarning: Pass the following variable as a keyword arg: x. From version 0.12, the only valid positional argument will be `data`, and passing other arguments without an explicit keyword will result in an error or misinterpretation.\n",
      "  FutureWarning\n"
     ]
    },
    {
     "data": {
      "text/plain": [
       "<AxesSubplot:xlabel='malware', ylabel='count'>"
      ]
     },
     "execution_count": 5,
     "metadata": {},
     "output_type": "execute_result"
    },
    {
     "data": {
      "image/png": "[encoded data removed]",
      "text/plain": [
       "<Figure size 432x288 with 1 Axes>"
      ]
     },
     "metadata": {
      "needs_background": "light"
     },
     "output_type": "display_data"
    }
   ],
   "source": [
    "sns.countplot(data['malware'])"
   ]
  },
  {
   "cell_type": "code",
   "execution_count": 6,
   "id": "dd45803a",
   "metadata": {
    "execution": {
     "iopub.execute_input": "2022-03-24T04:23:18.373204Z",
     "iopub.status.busy": "2022-03-24T04:23:18.372279Z",
     "iopub.status.idle": "2022-03-24T04:23:18.439765Z",
     "shell.execute_reply": "2022-03-24T04:23:18.440368Z",
     "shell.execute_reply.started": "2022-03-24T04:19:35.548865Z"
    },
    "papermill": {
     "duration": 0.089082,
     "end_time": "2022-03-24T04:23:18.440651",
     "exception": false,
     "start_time": "2022-03-24T04:23:18.351569",
     "status": "completed"
    },
    "tags": []
   },
   "outputs": [],
   "source": [
    "X_train, X_test, y_train, y_test = train_test_split(used_data, data['malware'], test_size=0.25, shuffle=True, random_state=42)\n",
    "\n",
    "X_train, X_val, y_train, y_val = train_test_split(X_train, y_train, test_size=0.2, shuffle=True, random_state=42)"
   ]
  },
  {
   "cell_type": "code",
   "execution_count": 7,
   "id": "ebb9161a",
   "metadata": {
    "execution": {
     "iopub.execute_input": "2022-03-24T04:23:18.477383Z",
     "iopub.status.busy": "2022-03-24T04:23:18.476238Z",
     "iopub.status.idle": "2022-03-24T04:23:18.577609Z",
     "shell.execute_reply": "2022-03-24T04:23:18.578397Z",
     "shell.execute_reply.started": "2022-03-24T04:19:35.623981Z"
    },
    "papermill": {
     "duration": 0.122166,
     "end_time": "2022-03-24T04:23:18.578629",
     "exception": false,
     "start_time": "2022-03-24T04:23:18.456463",
     "status": "completed"
    },
    "tags": []
   },
   "outputs": [],
   "source": [
    "ros = RandomOverSampler(random_state=0)\n",
    "X_os, y_os = ros.fit_resample(X_train, y_train)"
   ]
  },
  {
   "cell_type": "code",
   "execution_count": 8,
   "id": "2a7488f2",
   "metadata": {
    "execution": {
     "iopub.execute_input": "2022-03-24T04:23:18.621531Z",
     "iopub.status.busy": "2022-03-24T04:23:18.620196Z",
     "iopub.status.idle": "2022-03-24T04:23:18.655861Z",
     "shell.execute_reply": "2022-03-24T04:23:18.656576Z",
     "shell.execute_reply.started": "2022-03-24T04:19:35.714026Z"
    },
    "papermill": {
     "duration": 0.059491,
     "end_time": "2022-03-24T04:23:18.656736",
     "exception": false,
     "start_time": "2022-03-24T04:23:18.597245",
     "status": "completed"
    },
    "tags": []
   },
   "outputs": [],
   "source": [
    "rus = RandomUnderSampler(random_state=0)\n",
    "X_us, y_us = rus.fit_resample(X_train, y_train)"
   ]
  },
  {
   "cell_type": "code",
   "execution_count": 9,
   "id": "56fa02cf",
   "metadata": {
    "execution": {
     "iopub.execute_input": "2022-03-24T04:23:18.701137Z",
     "iopub.status.busy": "2022-03-24T04:23:18.700142Z",
     "iopub.status.idle": "2022-03-24T04:23:18.713723Z",
     "shell.execute_reply": "2022-03-24T04:23:18.714367Z",
     "shell.execute_reply.started": "2022-03-24T04:20:10.344434Z"
    },
    "papermill": {
     "duration": 0.041285,
     "end_time": "2022-03-24T04:23:18.714526",
     "exception": false,
     "start_time": "2022-03-24T04:23:18.673241",
     "status": "completed"
    },
    "tags": []
   },
   "outputs": [
    {
     "name": "stderr",
     "output_type": "stream",
     "text": [
      "/opt/conda/lib/python3.7/site-packages/keras/optimizer_v2/optimizer_v2.py:356: UserWarning: The `lr` argument is deprecated, use `learning_rate` instead.\n",
      "  \"The `lr` argument is deprecated, use `learning_rate` instead.\")\n"
     ]
    }
   ],
   "source": [
    "class Metrics(tf.keras.callbacks.Callback):\n",
    "    \n",
    "    def __init__(self, valid_data):\n",
    "        super(Metrics, self).__init__()\n",
    "        self.valid_data = valid_data\n",
    "        \n",
    "    def on_train_begin(self, logs={}):\n",
    "        self._data = []\n",
    "    \n",
    "    def print_classification_report(self, epoch):\n",
    "        if epoch%10 == 0:\n",
    "            X_val, y_val = self.valid_data[0], self.valid_data[1]\n",
    "            y_predict = self.model.predict(X_val)\n",
    "            y_predict = np.array([1 if x>0.5 else 0 for x in y_predict])\n",
    "            print(f'\\n epoch {epoch+1} classification report:\\n{classification_report(np.array(y_val), y_predict)}\\n') \n",
    "\n",
    "    \n",
    "    def on_epoch_end(self, epoch, logs=None):\n",
    "        self.print_classification_report(epoch)\n",
    "        return\n",
    "            \n",
    "\n",
    "    def get_data(self):\n",
    "        return self._data\n",
    "optimizer = Adam(lr=.0001)\n",
    "metrics = Metrics(valid_data=(X_val,y_val))"
   ]
  },
  {
   "cell_type": "code",
   "execution_count": 10,
   "id": "0a3ca6c9",
   "metadata": {
    "execution": {
     "iopub.execute_input": "2022-03-24T04:23:18.753123Z",
     "iopub.status.busy": "2022-03-24T04:23:18.752099Z",
     "iopub.status.idle": "2022-03-24T04:23:18.762108Z",
     "shell.execute_reply": "2022-03-24T04:23:18.761572Z",
     "shell.execute_reply.started": "2022-03-24T04:20:29.617383Z"
    },
    "papermill": {
     "duration": 0.030076,
     "end_time": "2022-03-24T04:23:18.762233",
     "exception": false,
     "start_time": "2022-03-24T04:23:18.732157",
     "status": "completed"
    },
    "tags": []
   },
   "outputs": [],
   "source": [
    "class Metrics(tf.keras.callbacks.Callback):\n",
    "    \n",
    "    def __init__(self, valid_data):\n",
    "        super(Metrics, self).__init__()\n",
    "        self.valid_data = valid_data\n",
    "        \n",
    "    def on_train_begin(self, logs={}):\n",
    "        self._data = []\n",
    "    \n",
    "    def print_classification_report(self, epoch):\n",
    "        if epoch%10 == 0:\n",
    "            X_val, y_val = self.valid_data[0], self.valid_data[1]\n",
    "            y_predict = self.model.predict(X_val)\n",
    "            y_predict = np.array([1 if x>0.5 else 0 for x in y_predict])\n",
    "            print(f'\\n epoch {epoch+1} classification report:\\n{classification_report(np.array(y_val), y_predict)}\\n') \n",
    "\n",
    "    \n",
    "    def on_epoch_end(self, epoch, logs=None):\n",
    "        self.print_classification_report(epoch)\n",
    "        return\n",
    "            \n",
    "\n",
    "    def get_data(self):\n",
    "        return self._data\n",
    "optimizer = Adam(lr=.0001)\n",
    "metrics = Metrics(valid_data=(X_val,y_val))"
   ]
  }
 ],
 "metadata": {
  "kernelspec": {
   "display_name": "Python 3",
   "language": "python",
   "name": "python3"
  },
  "language_info": {
   "codemirror_mode": {
    "name": "ipython",
    "version": 3
   },
   "file_extension": ".py",
   "mimetype": "text/x-python",
   "name": "python",
   "nbconvert_exporter": "python",
   "pygments_lexer": "ipython3",
   "version": "3.7.12"
  },
  "papermill": {
   "default_parameters": {},
   "duration": 22.615545,
   "end_time": "2022-03-24T04:23:21.654179",
   "environment_variables": {},
   "exception": null,
   "input_path": "__notebook__.ipynb",
   "output_path": "__notebook__.ipynb",
   "parameters": {},
   "start_time": "2022-03-24T04:22:59.038634",
   "version": "2.3.3"
  }
 },
 "nbformat": 4,
 "nbformat_minor": 5
}
