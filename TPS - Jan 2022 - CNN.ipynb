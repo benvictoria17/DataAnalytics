{
 "cells": [
  {
   "cell_type": "code",
   "execution_count": 1,
   "id": "6e839b07",
   "metadata": {
    "_cell_guid": "b1076dfc-b9ad-4769-8c92-a6c4dae69d19",
    "_uuid": "8f2839f25d086af736a60e9eeb907d3b93b6e0e5",
    "execution": {
     "iopub.execute_input": "2022-01-31T01:19:34.653940Z",
     "iopub.status.busy": "2022-01-31T01:19:34.651938Z",
     "iopub.status.idle": "2022-01-31T01:19:40.179808Z",
     "shell.execute_reply": "2022-01-31T01:19:40.179216Z",
     "shell.execute_reply.started": "2022-01-31T01:09:02.118431Z"
    },
    "papermill": {
     "duration": 5.554571,
     "end_time": "2022-01-31T01:19:40.179963",
     "exception": false,
     "start_time": "2022-01-31T01:19:34.625392",
     "status": "completed"
    },
    "tags": []
   },
   "outputs": [
    {
     "data": {
      "text/plain": [
       "'2.6.2'"
      ]
     },
     "execution_count": 1,
     "metadata": {},
     "output_type": "execute_result"
    }
   ],
   "source": [
    "import pandas as pd \n",
    "import numpy as np \n",
    "import matplotlib.pyplot as plt \n",
    "%matplotlib inline\n",
    "import seaborn as sns \n",
    "import tensorflow as tf\n",
    "tf.__version__"
   ]
  },
  {
   "cell_type": "code",
   "execution_count": 2,
   "id": "a252d98e",
   "metadata": {
    "execution": {
     "iopub.execute_input": "2022-01-31T01:19:40.238168Z",
     "iopub.status.busy": "2022-01-31T01:19:40.237549Z",
     "iopub.status.idle": "2022-01-31T01:19:40.750416Z",
     "shell.execute_reply": "2022-01-31T01:19:40.749850Z",
     "shell.execute_reply.started": "2022-01-31T01:09:06.901335Z"
    },
    "papermill": {
     "duration": 0.547764,
     "end_time": "2022-01-31T01:19:40.750558",
     "exception": false,
     "start_time": "2022-01-31T01:19:40.202794",
     "status": "completed"
    },
    "tags": []
   },
   "outputs": [],
   "source": [
    "data = pd.read_csv(\"https://raw.githubusercontent.com/benvictoria17/DataVisualization/master/dataset/Tabular%20Playground%20Series%20-%20Jan%202022/train.csv\")"
   ]
  },
  {
   "cell_type": "code",
   "execution_count": 3,
   "id": "9f0ba819",
   "metadata": {
    "execution": {
     "iopub.execute_input": "2022-01-31T01:19:40.799124Z",
     "iopub.status.busy": "2022-01-31T01:19:40.798496Z",
     "iopub.status.idle": "2022-01-31T01:19:40.826387Z",
     "shell.execute_reply": "2022-01-31T01:19:40.825781Z",
     "shell.execute_reply.started": "2022-01-31T01:09:07.223162Z"
    },
    "papermill": {
     "duration": 0.054099,
     "end_time": "2022-01-31T01:19:40.826538",
     "exception": false,
     "start_time": "2022-01-31T01:19:40.772439",
     "status": "completed"
    },
    "tags": []
   },
   "outputs": [
    {
     "name": "stdout",
     "output_type": "stream",
     "text": [
      "<class 'pandas.core.frame.DataFrame'>\n",
      "RangeIndex: 26298 entries, 0 to 26297\n",
      "Data columns (total 6 columns):\n",
      " #   Column    Non-Null Count  Dtype \n",
      "---  ------    --------------  ----- \n",
      " 0   row_id    26298 non-null  int64 \n",
      " 1   date      26298 non-null  object\n",
      " 2   country   26298 non-null  object\n",
      " 3   store     26298 non-null  object\n",
      " 4   product   26298 non-null  object\n",
      " 5   num_sold  26298 non-null  int64 \n",
      "dtypes: int64(2), object(4)\n",
      "memory usage: 1.2+ MB\n"
     ]
    }
   ],
   "source": [
    "data.info()"
   ]
  },
  {
   "cell_type": "code",
   "execution_count": 4,
   "id": "1fccc463",
   "metadata": {
    "execution": {
     "iopub.execute_input": "2022-01-31T01:19:40.875356Z",
     "iopub.status.busy": "2022-01-31T01:19:40.874679Z",
     "iopub.status.idle": "2022-01-31T01:19:40.886177Z",
     "shell.execute_reply": "2022-01-31T01:19:40.886621Z",
     "shell.execute_reply.started": "2022-01-31T01:09:07.261559Z"
    },
    "papermill": {
     "duration": 0.03825,
     "end_time": "2022-01-31T01:19:40.886780",
     "exception": false,
     "start_time": "2022-01-31T01:19:40.848530",
     "status": "completed"
    },
    "tags": []
   },
   "outputs": [
    {
     "data": {
      "text/html": [
       "<div>\n",
       "<style scoped>\n",
       "    .dataframe tbody tr th:only-of-type {\n",
       "        vertical-align: middle;\n",
       "    }\n",
       "\n",
       "    .dataframe tbody tr th {\n",
       "        vertical-align: top;\n",
       "    }\n",
       "\n",
       "    .dataframe thead th {\n",
       "        text-align: right;\n",
       "    }\n",
       "</style>\n",
       "<table border=\"1\" class=\"dataframe\">\n",
       "  <thead>\n",
       "    <tr style=\"text-align: right;\">\n",
       "      <th></th>\n",
       "      <th>row_id</th>\n",
       "      <th>date</th>\n",
       "      <th>country</th>\n",
       "      <th>store</th>\n",
       "      <th>product</th>\n",
       "      <th>num_sold</th>\n",
       "    </tr>\n",
       "  </thead>\n",
       "  <tbody>\n",
       "    <tr>\n",
       "      <th>0</th>\n",
       "      <td>0</td>\n",
       "      <td>2015-01-01</td>\n",
       "      <td>Finland</td>\n",
       "      <td>KaggleMart</td>\n",
       "      <td>Kaggle Mug</td>\n",
       "      <td>329</td>\n",
       "    </tr>\n",
       "    <tr>\n",
       "      <th>1</th>\n",
       "      <td>1</td>\n",
       "      <td>2015-01-01</td>\n",
       "      <td>Finland</td>\n",
       "      <td>KaggleMart</td>\n",
       "      <td>Kaggle Hat</td>\n",
       "      <td>520</td>\n",
       "    </tr>\n",
       "    <tr>\n",
       "      <th>2</th>\n",
       "      <td>2</td>\n",
       "      <td>2015-01-01</td>\n",
       "      <td>Finland</td>\n",
       "      <td>KaggleMart</td>\n",
       "      <td>Kaggle Sticker</td>\n",
       "      <td>146</td>\n",
       "    </tr>\n",
       "    <tr>\n",
       "      <th>3</th>\n",
       "      <td>3</td>\n",
       "      <td>2015-01-01</td>\n",
       "      <td>Finland</td>\n",
       "      <td>KaggleRama</td>\n",
       "      <td>Kaggle Mug</td>\n",
       "      <td>572</td>\n",
       "    </tr>\n",
       "    <tr>\n",
       "      <th>4</th>\n",
       "      <td>4</td>\n",
       "      <td>2015-01-01</td>\n",
       "      <td>Finland</td>\n",
       "      <td>KaggleRama</td>\n",
       "      <td>Kaggle Hat</td>\n",
       "      <td>911</td>\n",
       "    </tr>\n",
       "  </tbody>\n",
       "</table>\n",
       "</div>"
      ],
      "text/plain": [
       "   row_id        date  country       store         product  num_sold\n",
       "0       0  2015-01-01  Finland  KaggleMart      Kaggle Mug       329\n",
       "1       1  2015-01-01  Finland  KaggleMart      Kaggle Hat       520\n",
       "2       2  2015-01-01  Finland  KaggleMart  Kaggle Sticker       146\n",
       "3       3  2015-01-01  Finland  KaggleRama      Kaggle Mug       572\n",
       "4       4  2015-01-01  Finland  KaggleRama      Kaggle Hat       911"
      ]
     },
     "execution_count": 4,
     "metadata": {},
     "output_type": "execute_result"
    }
   ],
   "source": [
    "data.head()"
   ]
  },
  {
   "cell_type": "code",
   "execution_count": 5,
   "id": "9606a706",
   "metadata": {
    "execution": {
     "iopub.execute_input": "2022-01-31T01:19:40.938439Z",
     "iopub.status.busy": "2022-01-31T01:19:40.936002Z",
     "iopub.status.idle": "2022-01-31T01:19:40.940226Z",
     "shell.execute_reply": "2022-01-31T01:19:40.940698Z",
     "shell.execute_reply.started": "2022-01-31T01:09:07.276851Z"
    },
    "papermill": {
     "duration": 0.031704,
     "end_time": "2022-01-31T01:19:40.940857",
     "exception": false,
     "start_time": "2022-01-31T01:19:40.909153",
     "status": "completed"
    },
    "tags": []
   },
   "outputs": [],
   "source": [
    "data.drop(\"row_id\", axis=1, inplace=True)"
   ]
  },
  {
   "cell_type": "code",
   "execution_count": 6,
   "id": "f7ff4ad3",
   "metadata": {
    "execution": {
     "iopub.execute_input": "2022-01-31T01:19:40.994721Z",
     "iopub.status.busy": "2022-01-31T01:19:40.993989Z",
     "iopub.status.idle": "2022-01-31T01:19:40.999559Z",
     "shell.execute_reply": "2022-01-31T01:19:41.000030Z",
     "shell.execute_reply.started": "2022-01-31T01:09:07.285680Z"
    },
    "papermill": {
     "duration": 0.037226,
     "end_time": "2022-01-31T01:19:41.000211",
     "exception": false,
     "start_time": "2022-01-31T01:19:40.962985",
     "status": "completed"
    },
    "tags": []
   },
   "outputs": [
    {
     "data": {
      "text/plain": [
       "date        0\n",
       "country     0\n",
       "store       0\n",
       "product     0\n",
       "num_sold    0\n",
       "dtype: int64"
      ]
     },
     "execution_count": 6,
     "metadata": {},
     "output_type": "execute_result"
    }
   ],
   "source": [
    "data.isna().sum()"
   ]
  },
  {
   "cell_type": "code",
   "execution_count": 7,
   "id": "3e538161",
   "metadata": {
    "execution": {
     "iopub.execute_input": "2022-01-31T01:19:41.049858Z",
     "iopub.status.busy": "2022-01-31T01:19:41.049303Z",
     "iopub.status.idle": "2022-01-31T01:19:41.057417Z",
     "shell.execute_reply": "2022-01-31T01:19:41.058069Z",
     "shell.execute_reply.started": "2022-01-31T01:09:07.307013Z"
    },
    "papermill": {
     "duration": 0.034172,
     "end_time": "2022-01-31T01:19:41.058298",
     "exception": false,
     "start_time": "2022-01-31T01:19:41.024126",
     "status": "completed"
    },
    "tags": []
   },
   "outputs": [
    {
     "name": "stdout",
     "output_type": "stream",
     "text": [
      "Unique value of country column: ['Finland' 'Norway' 'Sweden']\n"
     ]
    }
   ],
   "source": [
    "country = data[\"country\"].unique()\n",
    "print('Unique value of country column:', country)"
   ]
  },
  {
   "cell_type": "code",
   "execution_count": 8,
   "id": "f2295e1f",
   "metadata": {
    "execution": {
     "iopub.execute_input": "2022-01-31T01:19:41.107416Z",
     "iopub.status.busy": "2022-01-31T01:19:41.106847Z",
     "iopub.status.idle": "2022-01-31T01:19:41.385578Z",
     "shell.execute_reply": "2022-01-31T01:19:41.385066Z",
     "shell.execute_reply.started": "2022-01-31T01:09:07.317086Z"
    },
    "papermill": {
     "duration": 0.304187,
     "end_time": "2022-01-31T01:19:41.385725",
     "exception": false,
     "start_time": "2022-01-31T01:19:41.081538",
     "status": "completed"
    },
    "tags": []
   },
   "outputs": [
    {
     "data": {
      "image/png": "[encoded data removed]",
      "text/plain": [
       "<Figure size 432x288 with 1 Axes>"
      ]
     },
     "metadata": {
      "needs_background": "light"
     },
     "output_type": "display_data"
    }
   ],
   "source": [
    "data.value_counts(data[\"country\"]).plot.bar()\n",
    "plt.title(\"Data Distribution\")\n",
    "plt.xlabel(\"Country\")\n",
    "plt.ylabel(\"counts\")\n",
    "plt.show()"
   ]
  },
  {
   "cell_type": "code",
   "execution_count": 9,
   "id": "2ccc57e7",
   "metadata": {
    "execution": {
     "iopub.execute_input": "2022-01-31T01:19:41.439989Z",
     "iopub.status.busy": "2022-01-31T01:19:41.439104Z",
     "iopub.status.idle": "2022-01-31T01:19:41.602738Z",
     "shell.execute_reply": "2022-01-31T01:19:41.603194Z",
     "shell.execute_reply.started": "2022-01-31T01:09:07.512595Z"
    },
    "papermill": {
     "duration": 0.194313,
     "end_time": "2022-01-31T01:19:41.603372",
     "exception": false,
     "start_time": "2022-01-31T01:19:41.409059",
     "status": "completed"
    },
    "tags": []
   },
   "outputs": [
    {
     "name": "stdout",
     "output_type": "stream",
     "text": [
      "Unique value of store column:  ['KaggleMart' 'KaggleRama']\n"
     ]
    },
    {
     "data": {
      "image/png": "[encoded data removed]",
      "text/plain": [
       "<Figure size 432x288 with 1 Axes>"
      ]
     },
     "metadata": {
      "needs_background": "light"
     },
     "output_type": "display_data"
    }
   ],
   "source": [
    "store = data['store'].unique()\n",
    "print('Unique value of store column: ', store)\n",
    "\n",
    "\n",
    "data.value_counts(data['store']).plot.bar()\n",
    "plt.title('Data Distribution')\n",
    "plt.xlabel('Store')\n",
    "plt.ylabel('counts')\n",
    "\n",
    "plt.show()"
   ]
  },
  {
   "cell_type": "code",
   "execution_count": 10,
   "id": "b2234b25",
   "metadata": {
    "execution": {
     "iopub.execute_input": "2022-01-31T01:19:41.654905Z",
     "iopub.status.busy": "2022-01-31T01:19:41.654320Z",
     "iopub.status.idle": "2022-01-31T01:19:41.816840Z",
     "shell.execute_reply": "2022-01-31T01:19:41.817325Z",
     "shell.execute_reply.started": "2022-01-31T01:09:07.687779Z"
    },
    "papermill": {
     "duration": 0.18984,
     "end_time": "2022-01-31T01:19:41.817498",
     "exception": false,
     "start_time": "2022-01-31T01:19:41.627658",
     "status": "completed"
    },
    "tags": []
   },
   "outputs": [
    {
     "name": "stdout",
     "output_type": "stream",
     "text": [
      "Unique value of product column:  ['Kaggle Mug' 'Kaggle Hat' 'Kaggle Sticker']\n"
     ]
    },
    {
     "data": {
      "image/png": "[encoded data removed]",
      "text/plain": [
       "<Figure size 432x288 with 1 Axes>"
      ]
     },
     "metadata": {
      "needs_background": "light"
     },
     "output_type": "display_data"
    }
   ],
   "source": [
    "product = data['product'].unique()\n",
    "print('Unique value of product column: ', product)\n",
    "\n",
    "data.value_counts(data['product']).plot.bar()\n",
    "plt.title('Data Distribution')\n",
    "plt.xlabel('Product')\n",
    "plt.ylabel('counts')\n",
    "\n",
    "plt.show()"
   ]
  },
  {
   "cell_type": "code",
   "execution_count": 11,
   "id": "712e9110",
   "metadata": {
    "execution": {
     "iopub.execute_input": "2022-01-31T01:19:41.874831Z",
     "iopub.status.busy": "2022-01-31T01:19:41.874134Z",
     "iopub.status.idle": "2022-01-31T01:19:41.891994Z",
     "shell.execute_reply": "2022-01-31T01:19:41.892933Z",
     "shell.execute_reply.started": "2022-01-31T01:09:07.856089Z"
    },
    "papermill": {
     "duration": 0.050232,
     "end_time": "2022-01-31T01:19:41.893228",
     "exception": false,
     "start_time": "2022-01-31T01:19:41.842996",
     "status": "completed"
    },
    "tags": []
   },
   "outputs": [
    {
     "name": "stdout",
     "output_type": "stream",
     "text": [
      "<class 'pandas.core.frame.DataFrame'>\n",
      "RangeIndex: 26298 entries, 0 to 26297\n",
      "Data columns (total 5 columns):\n",
      " #   Column    Non-Null Count  Dtype         \n",
      "---  ------    --------------  -----         \n",
      " 0   date      26298 non-null  datetime64[ns]\n",
      " 1   country   26298 non-null  object        \n",
      " 2   store     26298 non-null  object        \n",
      " 3   product   26298 non-null  object        \n",
      " 4   num_sold  26298 non-null  int64         \n",
      "dtypes: datetime64[ns](1), int64(1), object(3)\n",
      "memory usage: 1.0+ MB\n"
     ]
    }
   ],
   "source": [
    "data['date'] = pd.to_datetime(data['date'])\n",
    "\n",
    "data.info()"
   ]
  },
  {
   "cell_type": "code",
   "execution_count": 12,
   "id": "d7a84735",
   "metadata": {
    "execution": {
     "iopub.execute_input": "2022-01-31T01:19:41.948915Z",
     "iopub.status.busy": "2022-01-31T01:19:41.948349Z",
     "iopub.status.idle": "2022-01-31T01:19:41.972611Z",
     "shell.execute_reply": "2022-01-31T01:19:41.973244Z",
     "shell.execute_reply.started": "2022-01-31T01:09:07.885630Z"
    },
    "papermill": {
     "duration": 0.053251,
     "end_time": "2022-01-31T01:19:41.973467",
     "exception": false,
     "start_time": "2022-01-31T01:19:41.920216",
     "status": "completed"
    },
    "tags": []
   },
   "outputs": [
    {
     "name": "stdout",
     "output_type": "stream",
     "text": [
      "<class 'pandas.core.frame.DataFrame'>\n",
      "RangeIndex: 26298 entries, 0 to 26297\n",
      "Data columns (total 8 columns):\n",
      " #   Column    Non-Null Count  Dtype         \n",
      "---  ------    --------------  -----         \n",
      " 0   date      26298 non-null  datetime64[ns]\n",
      " 1   country   26298 non-null  object        \n",
      " 2   store     26298 non-null  object        \n",
      " 3   product   26298 non-null  object        \n",
      " 4   num_sold  26298 non-null  int64         \n",
      " 5   day       26298 non-null  int64         \n",
      " 6   month     26298 non-null  int64         \n",
      " 7   year      26298 non-null  int64         \n",
      "dtypes: datetime64[ns](1), int64(4), object(3)\n",
      "memory usage: 1.6+ MB\n"
     ]
    }
   ],
   "source": [
    "data['day'] = data['date'].dt.day\n",
    "data['month'] = data['date'].dt.month\n",
    "data['year'] = data['date'].dt.year\n",
    "\n",
    "data.info()"
   ]
  },
  {
   "cell_type": "code",
   "execution_count": 13,
   "id": "a1e4fe22",
   "metadata": {
    "execution": {
     "iopub.execute_input": "2022-01-31T01:19:42.029881Z",
     "iopub.status.busy": "2022-01-31T01:19:42.029333Z",
     "iopub.status.idle": "2022-01-31T01:19:42.040240Z",
     "shell.execute_reply": "2022-01-31T01:19:42.040799Z",
     "shell.execute_reply.started": "2022-01-31T01:09:07.918326Z"
    },
    "papermill": {
     "duration": 0.039923,
     "end_time": "2022-01-31T01:19:42.040985",
     "exception": false,
     "start_time": "2022-01-31T01:19:42.001062",
     "status": "completed"
    },
    "tags": []
   },
   "outputs": [
    {
     "data": {
      "text/html": [
       "<div>\n",
       "<style scoped>\n",
       "    .dataframe tbody tr th:only-of-type {\n",
       "        vertical-align: middle;\n",
       "    }\n",
       "\n",
       "    .dataframe tbody tr th {\n",
       "        vertical-align: top;\n",
       "    }\n",
       "\n",
       "    .dataframe thead th {\n",
       "        text-align: right;\n",
       "    }\n",
       "</style>\n",
       "<table border=\"1\" class=\"dataframe\">\n",
       "  <thead>\n",
       "    <tr style=\"text-align: right;\">\n",
       "      <th></th>\n",
       "      <th>date</th>\n",
       "      <th>country</th>\n",
       "      <th>store</th>\n",
       "      <th>product</th>\n",
       "      <th>num_sold</th>\n",
       "      <th>day</th>\n",
       "      <th>month</th>\n",
       "      <th>year</th>\n",
       "    </tr>\n",
       "  </thead>\n",
       "  <tbody>\n",
       "    <tr>\n",
       "      <th>0</th>\n",
       "      <td>2015-01-01</td>\n",
       "      <td>Finland</td>\n",
       "      <td>KaggleMart</td>\n",
       "      <td>Kaggle Mug</td>\n",
       "      <td>329</td>\n",
       "      <td>1</td>\n",
       "      <td>1</td>\n",
       "      <td>2015</td>\n",
       "    </tr>\n",
       "    <tr>\n",
       "      <th>1</th>\n",
       "      <td>2015-01-01</td>\n",
       "      <td>Finland</td>\n",
       "      <td>KaggleMart</td>\n",
       "      <td>Kaggle Hat</td>\n",
       "      <td>520</td>\n",
       "      <td>1</td>\n",
       "      <td>1</td>\n",
       "      <td>2015</td>\n",
       "    </tr>\n",
       "    <tr>\n",
       "      <th>2</th>\n",
       "      <td>2015-01-01</td>\n",
       "      <td>Finland</td>\n",
       "      <td>KaggleMart</td>\n",
       "      <td>Kaggle Sticker</td>\n",
       "      <td>146</td>\n",
       "      <td>1</td>\n",
       "      <td>1</td>\n",
       "      <td>2015</td>\n",
       "    </tr>\n",
       "    <tr>\n",
       "      <th>3</th>\n",
       "      <td>2015-01-01</td>\n",
       "      <td>Finland</td>\n",
       "      <td>KaggleRama</td>\n",
       "      <td>Kaggle Mug</td>\n",
       "      <td>572</td>\n",
       "      <td>1</td>\n",
       "      <td>1</td>\n",
       "      <td>2015</td>\n",
       "    </tr>\n",
       "    <tr>\n",
       "      <th>4</th>\n",
       "      <td>2015-01-01</td>\n",
       "      <td>Finland</td>\n",
       "      <td>KaggleRama</td>\n",
       "      <td>Kaggle Hat</td>\n",
       "      <td>911</td>\n",
       "      <td>1</td>\n",
       "      <td>1</td>\n",
       "      <td>2015</td>\n",
       "    </tr>\n",
       "  </tbody>\n",
       "</table>\n",
       "</div>"
      ],
      "text/plain": [
       "        date  country       store         product  num_sold  day  month  year\n",
       "0 2015-01-01  Finland  KaggleMart      Kaggle Mug       329    1      1  2015\n",
       "1 2015-01-01  Finland  KaggleMart      Kaggle Hat       520    1      1  2015\n",
       "2 2015-01-01  Finland  KaggleMart  Kaggle Sticker       146    1      1  2015\n",
       "3 2015-01-01  Finland  KaggleRama      Kaggle Mug       572    1      1  2015\n",
       "4 2015-01-01  Finland  KaggleRama      Kaggle Hat       911    1      1  2015"
      ]
     },
     "execution_count": 13,
     "metadata": {},
     "output_type": "execute_result"
    }
   ],
   "source": [
    "data.head()"
   ]
  },
  {
   "cell_type": "code",
   "execution_count": 14,
   "id": "c401436b",
   "metadata": {
    "execution": {
     "iopub.execute_input": "2022-01-31T01:19:42.099805Z",
     "iopub.status.busy": "2022-01-31T01:19:42.098816Z",
     "iopub.status.idle": "2022-01-31T01:19:42.111289Z",
     "shell.execute_reply": "2022-01-31T01:19:42.111753Z",
     "shell.execute_reply.started": "2022-01-31T01:09:07.933644Z"
    },
    "papermill": {
     "duration": 0.044433,
     "end_time": "2022-01-31T01:19:42.111919",
     "exception": false,
     "start_time": "2022-01-31T01:19:42.067486",
     "status": "completed"
    },
    "tags": []
   },
   "outputs": [
    {
     "data": {
      "text/html": [
       "<div>\n",
       "<style scoped>\n",
       "    .dataframe tbody tr th:only-of-type {\n",
       "        vertical-align: middle;\n",
       "    }\n",
       "\n",
       "    .dataframe tbody tr th {\n",
       "        vertical-align: top;\n",
       "    }\n",
       "\n",
       "    .dataframe thead th {\n",
       "        text-align: right;\n",
       "    }\n",
       "</style>\n",
       "<table border=\"1\" class=\"dataframe\">\n",
       "  <thead>\n",
       "    <tr style=\"text-align: right;\">\n",
       "      <th></th>\n",
       "      <th>country</th>\n",
       "      <th>store</th>\n",
       "      <th>product</th>\n",
       "      <th>num_sold</th>\n",
       "      <th>day</th>\n",
       "      <th>month</th>\n",
       "      <th>year</th>\n",
       "    </tr>\n",
       "  </thead>\n",
       "  <tbody>\n",
       "    <tr>\n",
       "      <th>0</th>\n",
       "      <td>Finland</td>\n",
       "      <td>KaggleMart</td>\n",
       "      <td>Kaggle Mug</td>\n",
       "      <td>329</td>\n",
       "      <td>1</td>\n",
       "      <td>1</td>\n",
       "      <td>2015</td>\n",
       "    </tr>\n",
       "    <tr>\n",
       "      <th>1</th>\n",
       "      <td>Finland</td>\n",
       "      <td>KaggleMart</td>\n",
       "      <td>Kaggle Hat</td>\n",
       "      <td>520</td>\n",
       "      <td>1</td>\n",
       "      <td>1</td>\n",
       "      <td>2015</td>\n",
       "    </tr>\n",
       "    <tr>\n",
       "      <th>2</th>\n",
       "      <td>Finland</td>\n",
       "      <td>KaggleMart</td>\n",
       "      <td>Kaggle Sticker</td>\n",
       "      <td>146</td>\n",
       "      <td>1</td>\n",
       "      <td>1</td>\n",
       "      <td>2015</td>\n",
       "    </tr>\n",
       "    <tr>\n",
       "      <th>3</th>\n",
       "      <td>Finland</td>\n",
       "      <td>KaggleRama</td>\n",
       "      <td>Kaggle Mug</td>\n",
       "      <td>572</td>\n",
       "      <td>1</td>\n",
       "      <td>1</td>\n",
       "      <td>2015</td>\n",
       "    </tr>\n",
       "    <tr>\n",
       "      <th>4</th>\n",
       "      <td>Finland</td>\n",
       "      <td>KaggleRama</td>\n",
       "      <td>Kaggle Hat</td>\n",
       "      <td>911</td>\n",
       "      <td>1</td>\n",
       "      <td>1</td>\n",
       "      <td>2015</td>\n",
       "    </tr>\n",
       "  </tbody>\n",
       "</table>\n",
       "</div>"
      ],
      "text/plain": [
       "   country       store         product  num_sold  day  month  year\n",
       "0  Finland  KaggleMart      Kaggle Mug       329    1      1  2015\n",
       "1  Finland  KaggleMart      Kaggle Hat       520    1      1  2015\n",
       "2  Finland  KaggleMart  Kaggle Sticker       146    1      1  2015\n",
       "3  Finland  KaggleRama      Kaggle Mug       572    1      1  2015\n",
       "4  Finland  KaggleRama      Kaggle Hat       911    1      1  2015"
      ]
     },
     "execution_count": 14,
     "metadata": {},
     "output_type": "execute_result"
    }
   ],
   "source": [
    "data.drop(['date'], axis = 1, inplace = True)\n",
    "data.head()"
   ]
  },
  {
   "cell_type": "code",
   "execution_count": 15,
   "id": "ec3c72df",
   "metadata": {
    "execution": {
     "iopub.execute_input": "2022-01-31T01:19:42.168670Z",
     "iopub.status.busy": "2022-01-31T01:19:42.167768Z",
     "iopub.status.idle": "2022-01-31T01:19:42.310229Z",
     "shell.execute_reply": "2022-01-31T01:19:42.310658Z",
     "shell.execute_reply.started": "2022-01-31T01:09:07.952271Z"
    },
    "papermill": {
     "duration": 0.172366,
     "end_time": "2022-01-31T01:19:42.310815",
     "exception": false,
     "start_time": "2022-01-31T01:19:42.138449",
     "status": "completed"
    },
    "tags": []
   },
   "outputs": [
    {
     "data": {
      "text/html": [
       "<div>\n",
       "<style scoped>\n",
       "    .dataframe tbody tr th:only-of-type {\n",
       "        vertical-align: middle;\n",
       "    }\n",
       "\n",
       "    .dataframe tbody tr th {\n",
       "        vertical-align: top;\n",
       "    }\n",
       "\n",
       "    .dataframe thead th {\n",
       "        text-align: right;\n",
       "    }\n",
       "</style>\n",
       "<table border=\"1\" class=\"dataframe\">\n",
       "  <thead>\n",
       "    <tr style=\"text-align: right;\">\n",
       "      <th></th>\n",
       "      <th>country</th>\n",
       "      <th>store</th>\n",
       "      <th>product</th>\n",
       "    </tr>\n",
       "  </thead>\n",
       "  <tbody>\n",
       "    <tr>\n",
       "      <th>0</th>\n",
       "      <td>0</td>\n",
       "      <td>0</td>\n",
       "      <td>1</td>\n",
       "    </tr>\n",
       "    <tr>\n",
       "      <th>1</th>\n",
       "      <td>0</td>\n",
       "      <td>0</td>\n",
       "      <td>0</td>\n",
       "    </tr>\n",
       "    <tr>\n",
       "      <th>2</th>\n",
       "      <td>0</td>\n",
       "      <td>0</td>\n",
       "      <td>2</td>\n",
       "    </tr>\n",
       "    <tr>\n",
       "      <th>3</th>\n",
       "      <td>0</td>\n",
       "      <td>1</td>\n",
       "      <td>1</td>\n",
       "    </tr>\n",
       "    <tr>\n",
       "      <th>4</th>\n",
       "      <td>0</td>\n",
       "      <td>1</td>\n",
       "      <td>0</td>\n",
       "    </tr>\n",
       "  </tbody>\n",
       "</table>\n",
       "</div>"
      ],
      "text/plain": [
       "   country  store  product\n",
       "0        0      0        1\n",
       "1        0      0        0\n",
       "2        0      0        2\n",
       "3        0      1        1\n",
       "4        0      1        0"
      ]
     },
     "execution_count": 15,
     "metadata": {},
     "output_type": "execute_result"
    }
   ],
   "source": [
    "from sklearn.preprocessing import LabelEncoder\n",
    "\n",
    "le_cols = ['country', 'store', 'product']\n",
    "\n",
    "def convert2num(X_new):\n",
    "\n",
    "    label_encoder = LabelEncoder()\n",
    "\n",
    "    for col in le_cols:\n",
    "        X_new[col] = label_encoder.fit_transform(X_new[col])\n",
    "        \n",
    "    return X_new\n",
    "data = convert2num(data)\n",
    "\n",
    "data[le_cols].head()"
   ]
  },
  {
   "cell_type": "code",
   "execution_count": 16,
   "id": "7ccb3e59",
   "metadata": {
    "execution": {
     "iopub.execute_input": "2022-01-31T01:19:42.373923Z",
     "iopub.status.busy": "2022-01-31T01:19:42.373196Z",
     "iopub.status.idle": "2022-01-31T01:19:42.376162Z",
     "shell.execute_reply": "2022-01-31T01:19:42.376592Z",
     "shell.execute_reply.started": "2022-01-31T01:09:08.074654Z"
    },
    "papermill": {
     "duration": 0.038951,
     "end_time": "2022-01-31T01:19:42.376746",
     "exception": false,
     "start_time": "2022-01-31T01:19:42.337795",
     "status": "completed"
    },
    "tags": []
   },
   "outputs": [
    {
     "data": {
      "text/html": [
       "<div>\n",
       "<style scoped>\n",
       "    .dataframe tbody tr th:only-of-type {\n",
       "        vertical-align: middle;\n",
       "    }\n",
       "\n",
       "    .dataframe tbody tr th {\n",
       "        vertical-align: top;\n",
       "    }\n",
       "\n",
       "    .dataframe thead th {\n",
       "        text-align: right;\n",
       "    }\n",
       "</style>\n",
       "<table border=\"1\" class=\"dataframe\">\n",
       "  <thead>\n",
       "    <tr style=\"text-align: right;\">\n",
       "      <th></th>\n",
       "      <th>country</th>\n",
       "      <th>store</th>\n",
       "      <th>product</th>\n",
       "      <th>num_sold</th>\n",
       "      <th>day</th>\n",
       "      <th>month</th>\n",
       "      <th>year</th>\n",
       "    </tr>\n",
       "  </thead>\n",
       "  <tbody>\n",
       "    <tr>\n",
       "      <th>0</th>\n",
       "      <td>0</td>\n",
       "      <td>0</td>\n",
       "      <td>1</td>\n",
       "      <td>329</td>\n",
       "      <td>1</td>\n",
       "      <td>1</td>\n",
       "      <td>2015</td>\n",
       "    </tr>\n",
       "    <tr>\n",
       "      <th>1</th>\n",
       "      <td>0</td>\n",
       "      <td>0</td>\n",
       "      <td>0</td>\n",
       "      <td>520</td>\n",
       "      <td>1</td>\n",
       "      <td>1</td>\n",
       "      <td>2015</td>\n",
       "    </tr>\n",
       "    <tr>\n",
       "      <th>2</th>\n",
       "      <td>0</td>\n",
       "      <td>0</td>\n",
       "      <td>2</td>\n",
       "      <td>146</td>\n",
       "      <td>1</td>\n",
       "      <td>1</td>\n",
       "      <td>2015</td>\n",
       "    </tr>\n",
       "    <tr>\n",
       "      <th>3</th>\n",
       "      <td>0</td>\n",
       "      <td>1</td>\n",
       "      <td>1</td>\n",
       "      <td>572</td>\n",
       "      <td>1</td>\n",
       "      <td>1</td>\n",
       "      <td>2015</td>\n",
       "    </tr>\n",
       "    <tr>\n",
       "      <th>4</th>\n",
       "      <td>0</td>\n",
       "      <td>1</td>\n",
       "      <td>0</td>\n",
       "      <td>911</td>\n",
       "      <td>1</td>\n",
       "      <td>1</td>\n",
       "      <td>2015</td>\n",
       "    </tr>\n",
       "  </tbody>\n",
       "</table>\n",
       "</div>"
      ],
      "text/plain": [
       "   country  store  product  num_sold  day  month  year\n",
       "0        0      0        1       329    1      1  2015\n",
       "1        0      0        0       520    1      1  2015\n",
       "2        0      0        2       146    1      1  2015\n",
       "3        0      1        1       572    1      1  2015\n",
       "4        0      1        0       911    1      1  2015"
      ]
     },
     "execution_count": 16,
     "metadata": {},
     "output_type": "execute_result"
    }
   ],
   "source": [
    "data.head()"
   ]
  },
  {
   "cell_type": "code",
   "execution_count": 17,
   "id": "611d69bb",
   "metadata": {
    "execution": {
     "iopub.execute_input": "2022-01-31T01:19:42.434361Z",
     "iopub.status.busy": "2022-01-31T01:19:42.433459Z",
     "iopub.status.idle": "2022-01-31T01:19:42.439137Z",
     "shell.execute_reply": "2022-01-31T01:19:42.439588Z",
     "shell.execute_reply.started": "2022-01-31T01:09:08.086533Z"
    },
    "papermill": {
     "duration": 0.03594,
     "end_time": "2022-01-31T01:19:42.439749",
     "exception": false,
     "start_time": "2022-01-31T01:19:42.403809",
     "status": "completed"
    },
    "tags": []
   },
   "outputs": [],
   "source": [
    "data['year'] = data['year']/ 2022"
   ]
  },
  {
   "cell_type": "code",
   "execution_count": 18,
   "id": "df9d0215",
   "metadata": {
    "execution": {
     "iopub.execute_input": "2022-01-31T01:19:42.497346Z",
     "iopub.status.busy": "2022-01-31T01:19:42.496436Z",
     "iopub.status.idle": "2022-01-31T01:19:42.506913Z",
     "shell.execute_reply": "2022-01-31T01:19:42.506423Z",
     "shell.execute_reply.started": "2022-01-31T01:09:08.098102Z"
    },
    "papermill": {
     "duration": 0.04034,
     "end_time": "2022-01-31T01:19:42.507058",
     "exception": false,
     "start_time": "2022-01-31T01:19:42.466718",
     "status": "completed"
    },
    "tags": []
   },
   "outputs": [
    {
     "data": {
      "text/plain": [
       "((26298, 5), (26298,))"
      ]
     },
     "execution_count": 18,
     "metadata": {},
     "output_type": "execute_result"
    }
   ],
   "source": [
    "data.drop(['day'], axis = 1, inplace = True)\n",
    "X = data.drop('num_sold', axis=1).to_numpy()\n",
    "y = data['num_sold'].to_numpy()\n",
    "\n",
    "X.shape, y.shape"
   ]
  },
  {
   "cell_type": "code",
   "execution_count": 19,
   "id": "fef488fd",
   "metadata": {
    "execution": {
     "iopub.execute_input": "2022-01-31T01:19:42.567550Z",
     "iopub.status.busy": "2022-01-31T01:19:42.566892Z",
     "iopub.status.idle": "2022-01-31T01:19:42.569265Z",
     "shell.execute_reply": "2022-01-31T01:19:42.569685Z",
     "shell.execute_reply.started": "2022-01-31T01:09:08.111922Z"
    },
    "papermill": {
     "duration": 0.035106,
     "end_time": "2022-01-31T01:19:42.569838",
     "exception": false,
     "start_time": "2022-01-31T01:19:42.534732",
     "status": "completed"
    },
    "tags": []
   },
   "outputs": [
    {
     "data": {
      "text/plain": [
       "array([[0.        , 0.        , 1.        , 1.        , 0.99653808],\n",
       "       [0.        , 0.        , 0.        , 1.        , 0.99653808],\n",
       "       [0.        , 0.        , 2.        , 1.        , 0.99653808],\n",
       "       [0.        , 1.        , 1.        , 1.        , 0.99653808],\n",
       "       [0.        , 1.        , 0.        , 1.        , 0.99653808]])"
      ]
     },
     "execution_count": 19,
     "metadata": {},
     "output_type": "execute_result"
    }
   ],
   "source": [
    "X[:5]"
   ]
  },
  {
   "cell_type": "code",
   "execution_count": 20,
   "id": "7de43648",
   "metadata": {
    "execution": {
     "iopub.execute_input": "2022-01-31T01:19:42.630406Z",
     "iopub.status.busy": "2022-01-31T01:19:42.629791Z",
     "iopub.status.idle": "2022-01-31T01:19:42.684383Z",
     "shell.execute_reply": "2022-01-31T01:19:42.684821Z",
     "shell.execute_reply.started": "2022-01-31T01:09:08.122133Z"
    },
    "papermill": {
     "duration": 0.087567,
     "end_time": "2022-01-31T01:19:42.684976",
     "exception": false,
     "start_time": "2022-01-31T01:19:42.597409",
     "status": "completed"
    },
    "tags": []
   },
   "outputs": [
    {
     "data": {
      "text/plain": [
       "((21038, 5), (5260, 5), (21038,), (5260,))"
      ]
     },
     "execution_count": 20,
     "metadata": {},
     "output_type": "execute_result"
    }
   ],
   "source": [
    "from sklearn.model_selection import train_test_split\n",
    "\n",
    "tf.random.set_seed(42)\n",
    "\n",
    "X_train, X_test, y_train, y_test = train_test_split(X, y, test_size=0.2, random_state=42)\n",
    "\n",
    "X_train.shape, X_test.shape, y_train.shape, y_test.shape"
   ]
  },
  {
   "cell_type": "code",
   "execution_count": 21,
   "id": "2d99e9cd",
   "metadata": {
    "execution": {
     "iopub.execute_input": "2022-01-31T01:19:42.744040Z",
     "iopub.status.busy": "2022-01-31T01:19:42.743493Z",
     "iopub.status.idle": "2022-01-31T01:21:06.407306Z",
     "shell.execute_reply": "2022-01-31T01:21:06.406752Z",
     "shell.execute_reply.started": "2022-01-31T01:17:27.802056Z"
    },
    "papermill": {
     "duration": 83.694237,
     "end_time": "2022-01-31T01:21:06.407462",
     "exception": false,
     "start_time": "2022-01-31T01:19:42.713225",
     "status": "completed"
    },
    "tags": []
   },
   "outputs": [
    {
     "name": "stderr",
     "output_type": "stream",
     "text": [
      "\n",
      "User settings:\n",
      "\n",
      "   KMP_AFFINITY=granularity=fine,noverbose,compact,1,0\n",
      "   KMP_BLOCKTIME=0\n",
      "   KMP_DUPLICATE_LIB_OK=True\n",
      "   KMP_INIT_AT_FORK=FALSE\n",
      "   KMP_SETTINGS=1\n",
      "   KMP_WARNINGS=0\n",
      "\n",
      "Effective settings:\n",
      "\n",
      "   KMP_ABORT_DELAY=0\n",
      "   KMP_ADAPTIVE_LOCK_PROPS='1,1024'\n",
      "   KMP_ALIGN_ALLOC=64\n",
      "   KMP_ALL_THREADPRIVATE=128\n",
      "   KMP_ATOMIC_MODE=2\n",
      "   KMP_BLOCKTIME=0\n",
      "   KMP_CPUINFO_FILE: value is not defined\n",
      "   KMP_DETERMINISTIC_REDUCTION=false\n",
      "   KMP_DEVICE_THREAD_LIMIT=2147483647\n",
      "   KMP_DISP_NUM_BUFFERS=7\n",
      "   KMP_DUPLICATE_LIB_OK=true\n",
      "   KMP_ENABLE_TASK_THROTTLING=true\n",
      "   KMP_FORCE_REDUCTION: value is not defined\n",
      "   KMP_FOREIGN_THREADS_THREADPRIVATE=true\n",
      "   KMP_FORKJOIN_BARRIER='2,2'\n",
      "   KMP_FORKJOIN_BARRIER_PATTERN='hyper,hyper'\n",
      "   KMP_GTID_MODE=3\n",
      "   KMP_HANDLE_SIGNALS=false\n",
      "   KMP_HOT_TEAMS_MAX_LEVEL=1\n",
      "   KMP_HOT_TEAMS_MODE=0\n",
      "   KMP_INIT_AT_FORK=true\n",
      "   KMP_LIBRARY=throughput\n",
      "   KMP_LOCK_KIND=queuing\n",
      "   KMP_MALLOC_POOL_INCR=1M\n",
      "   KMP_NUM_LOCKS_IN_BLOCK=1\n",
      "   KMP_PLAIN_BARRIER='2,2'\n",
      "   KMP_PLAIN_BARRIER_PATTERN='hyper,hyper'\n",
      "   KMP_REDUCTION_BARRIER='1,1'\n",
      "   KMP_REDUCTION_BARRIER_PATTERN='hyper,hyper'\n",
      "   KMP_SCHEDULE='static,balanced;guided,iterative'\n",
      "   KMP_SETTINGS=true\n",
      "   KMP_SPIN_BACKOFF_PARAMS='4096,100'\n",
      "   KMP_STACKOFFSET=64\n",
      "   KMP_STACKPAD=0\n",
      "   KMP_STACKSIZE=8M\n",
      "   KMP_STORAGE_MAP=false\n",
      "   KMP_TASKING=2\n",
      "   KMP_TASKLOOP_MIN_TASKS=0\n",
      "   KMP_TASK_STEALING_CONSTRAINT=1\n",
      "   KMP_TEAMS_THREAD_LIMIT=4\n",
      "   KMP_TOPOLOGY_METHOD=all\n",
      "   KMP_USE_YIELD=1\n",
      "   KMP_VERSION=false\n",
      "   KMP_WARNINGS=false\n",
      "   OMP_AFFINITY_FORMAT='OMP: pid %P tid %i thread %n bound to OS proc set {%A}'\n",
      "   OMP_ALLOCATOR=omp_default_mem_alloc\n",
      "   OMP_CANCELLATION=false\n",
      "   OMP_DEFAULT_DEVICE=0\n",
      "   OMP_DISPLAY_AFFINITY=false\n",
      "   OMP_DISPLAY_ENV=false\n",
      "   OMP_DYNAMIC=false\n",
      "   OMP_MAX_ACTIVE_LEVELS=1\n",
      "   OMP_MAX_TASK_PRIORITY=0\n",
      "   OMP_NESTED: deprecated; max-active-levels-var=1\n",
      "   OMP_NUM_THREADS: value is not defined\n",
      "   OMP_PLACES: value is not defined\n",
      "   OMP_PROC_BIND='intel'\n",
      "   OMP_SCHEDULE='static'\n",
      "   OMP_STACKSIZE=8M\n",
      "   OMP_TARGET_OFFLOAD=DEFAULT\n",
      "   OMP_THREAD_LIMIT=2147483647\n",
      "   OMP_WAIT_POLICY=PASSIVE\n",
      "   KMP_AFFINITY='noverbose,warnings,respect,granularity=fine,compact,1,0'\n",
      "\n",
      "2022-01-31 01:19:43.727170: I tensorflow/core/common_runtime/process_util.cc:146] Creating new thread pool with default inter op setting: 2. Tune using inter_op_parallelism_threads for best performance.\n",
      "2022-01-31 01:19:43.838967: I tensorflow/compiler/mlir/mlir_graph_optimization_pass.cc:185] None of the MLIR Optimization Passes are enabled (registered 2)\n"
     ]
    },
    {
     "name": "stdout",
     "output_type": "stream",
     "text": [
      "Epoch 1/30\n",
      "658/658 [==============================] - 3s 3ms/step - loss: 113.5989 - MAE: 113.5989 - val_loss: 71.9160 - val_MAE: 71.9160\n",
      "Epoch 2/30\n",
      "658/658 [==============================] - 2s 3ms/step - loss: 62.1722 - MAE: 62.1722 - val_loss: 58.5813 - val_MAE: 58.5813\n",
      "Epoch 3/30\n",
      "658/658 [==============================] - 2s 3ms/step - loss: 57.3345 - MAE: 57.3345 - val_loss: 57.7648 - val_MAE: 57.7648\n",
      "Epoch 4/30\n",
      "658/658 [==============================] - 2s 3ms/step - loss: 55.3558 - MAE: 55.3558 - val_loss: 52.8487 - val_MAE: 52.8487\n",
      "Epoch 5/30\n",
      "658/658 [==============================] - 2s 3ms/step - loss: 54.3705 - MAE: 54.3705 - val_loss: 53.3334 - val_MAE: 53.3334\n",
      "Epoch 6/30\n",
      "658/658 [==============================] - 3s 4ms/step - loss: 54.2318 - MAE: 54.2318 - val_loss: 57.2645 - val_MAE: 57.2645\n",
      "Epoch 7/30\n",
      "658/658 [==============================] - 2s 4ms/step - loss: 53.8515 - MAE: 53.8515 - val_loss: 52.7278 - val_MAE: 52.7278\n",
      "Epoch 8/30\n",
      "658/658 [==============================] - 2s 3ms/step - loss: 53.4767 - MAE: 53.4767 - val_loss: 53.4608 - val_MAE: 53.4608\n",
      "Epoch 9/30\n",
      "658/658 [==============================] - 2s 3ms/step - loss: 53.8881 - MAE: 53.8881 - val_loss: 52.7440 - val_MAE: 52.7440\n",
      "Epoch 10/30\n",
      "658/658 [==============================] - 2s 3ms/step - loss: 53.3775 - MAE: 53.3775 - val_loss: 51.6659 - val_MAE: 51.6659\n",
      "Epoch 11/30\n",
      "658/658 [==============================] - 2s 3ms/step - loss: 53.2949 - MAE: 53.2949 - val_loss: 53.7567 - val_MAE: 53.7567\n",
      "Epoch 12/30\n",
      "658/658 [==============================] - 2s 3ms/step - loss: 53.3944 - MAE: 53.3944 - val_loss: 52.3900 - val_MAE: 52.3900\n",
      "Epoch 13/30\n",
      "658/658 [==============================] - 2s 3ms/step - loss: 53.3520 - MAE: 53.3520 - val_loss: 51.7150 - val_MAE: 51.7150\n",
      "Epoch 14/30\n",
      "658/658 [==============================] - 2s 3ms/step - loss: 53.4158 - MAE: 53.4158 - val_loss: 51.9258 - val_MAE: 51.9258\n",
      "Epoch 15/30\n",
      "658/658 [==============================] - 2s 3ms/step - loss: 52.9657 - MAE: 52.9657 - val_loss: 52.2420 - val_MAE: 52.2420\n",
      "Epoch 16/30\n",
      "658/658 [==============================] - 2s 3ms/step - loss: 53.4715 - MAE: 53.4715 - val_loss: 52.9708 - val_MAE: 52.9708\n",
      "Epoch 17/30\n",
      "658/658 [==============================] - 2s 3ms/step - loss: 53.3215 - MAE: 53.3215 - val_loss: 54.4247 - val_MAE: 54.4247\n",
      "Epoch 18/30\n",
      "658/658 [==============================] - 2s 3ms/step - loss: 52.8893 - MAE: 52.8893 - val_loss: 52.4032 - val_MAE: 52.4032\n",
      "Epoch 19/30\n",
      "658/658 [==============================] - 2s 3ms/step - loss: 53.2006 - MAE: 53.2006 - val_loss: 52.5698 - val_MAE: 52.5698\n",
      "Epoch 20/30\n",
      "658/658 [==============================] - 2s 3ms/step - loss: 53.4989 - MAE: 53.4989 - val_loss: 51.9356 - val_MAE: 51.9356\n",
      "Epoch 21/30\n",
      "658/658 [==============================] - 2s 4ms/step - loss: 53.0346 - MAE: 53.0346 - val_loss: 53.0458 - val_MAE: 53.0458\n",
      "Epoch 22/30\n",
      "658/658 [==============================] - 2s 3ms/step - loss: 53.0439 - MAE: 53.0439 - val_loss: 51.7821 - val_MAE: 51.7821\n",
      "Epoch 23/30\n",
      "658/658 [==============================] - 2s 3ms/step - loss: 52.9045 - MAE: 52.9045 - val_loss: 52.0569 - val_MAE: 52.0569\n",
      "Epoch 24/30\n",
      "658/658 [==============================] - 2s 3ms/step - loss: 52.9723 - MAE: 52.9723 - val_loss: 51.7226 - val_MAE: 51.7226\n",
      "Epoch 25/30\n",
      "658/658 [==============================] - 2s 3ms/step - loss: 52.8605 - MAE: 52.8605 - val_loss: 52.6780 - val_MAE: 52.6780\n",
      "Epoch 26/30\n",
      "658/658 [==============================] - 2s 3ms/step - loss: 53.3630 - MAE: 53.3630 - val_loss: 52.7595 - val_MAE: 52.7595\n",
      "Epoch 27/30\n",
      "658/658 [==============================] - 2s 3ms/step - loss: 52.8709 - MAE: 52.8709 - val_loss: 52.1132 - val_MAE: 52.1132\n",
      "Epoch 28/30\n",
      "658/658 [==============================] - 2s 3ms/step - loss: 52.4651 - MAE: 52.4651 - val_loss: 52.8827 - val_MAE: 52.8827\n",
      "Epoch 29/30\n",
      "658/658 [==============================] - 2s 3ms/step - loss: 52.7338 - MAE: 52.7338 - val_loss: 51.2945 - val_MAE: 51.2945\n",
      "Epoch 30/30\n",
      "658/658 [==============================] - 2s 3ms/step - loss: 52.6356 - MAE: 52.6356 - val_loss: 51.7783 - val_MAE: 51.7783\n"
     ]
    }
   ],
   "source": [
    "tf.random.set_seed(42)\n",
    "\n",
    "model_1 = tf.keras.Sequential([\n",
    "           tf.keras.layers.Dense(500, activation='relu'),\n",
    "           tf.keras.layers.Dense(250, activation='relu'),\n",
    "           tf.keras.layers.Dense(100, activation='relu'),\n",
    "           tf.keras.layers.Dense(10, activation='relu'), \n",
    "           tf.keras.layers.Dense(1)\n",
    "])\n",
    "\n",
    "model_1.compile(loss=tf.keras.losses.mae,\n",
    "                 optimizer=tf.keras.optimizers.Adam(learning_rate=0.001),\n",
    "                 metrics=['MAE'])\n",
    "\n",
    "history = model_1.fit(X_train, \n",
    "                      y_train, \n",
    "                      epochs=30,\n",
    "                      verbose = 1,\n",
    "                      validation_data=(X_test, y_test))"
   ]
  },
  {
   "cell_type": "code",
   "execution_count": 22,
   "id": "91cad0cd",
   "metadata": {
    "execution": {
     "iopub.execute_input": "2022-01-31T01:21:06.990762Z",
     "iopub.status.busy": "2022-01-31T01:21:06.989831Z",
     "iopub.status.idle": "2022-01-31T01:21:07.181202Z",
     "shell.execute_reply": "2022-01-31T01:21:07.180681Z",
     "shell.execute_reply.started": "2022-01-31T01:11:16.616801Z"
    },
    "papermill": {
     "duration": 0.484022,
     "end_time": "2022-01-31T01:21:07.181351",
     "exception": false,
     "start_time": "2022-01-31T01:21:06.697329",
     "status": "completed"
    },
    "tags": []
   },
   "outputs": [
    {
     "data": {
      "text/plain": [
       "Text(0.5, 0, 'epochs')"
      ]
     },
     "execution_count": 22,
     "metadata": {},
     "output_type": "execute_result"
    },
    {
     "data": {
      "image/png": "[encoded data removed]",
      "text/plain": [
       "<Figure size 432x288 with 1 Axes>"
      ]
     },
     "metadata": {
      "needs_background": "light"
     },
     "output_type": "display_data"
    }
   ],
   "source": [
    "pd.DataFrame(history.history).plot()\n",
    "plt.ylabel(\"loss\")\n",
    "plt.xlabel(\"epochs\")"
   ]
  },
  {
   "cell_type": "code",
   "execution_count": 23,
   "id": "3c59ac0d",
   "metadata": {
    "execution": {
     "iopub.execute_input": "2022-01-31T01:21:07.764970Z",
     "iopub.status.busy": "2022-01-31T01:21:07.764381Z",
     "iopub.status.idle": "2022-01-31T01:21:08.089545Z",
     "shell.execute_reply": "2022-01-31T01:21:08.090012Z",
     "shell.execute_reply.started": "2022-01-31T01:11:27.709239Z"
    },
    "papermill": {
     "duration": 0.618632,
     "end_time": "2022-01-31T01:21:08.090323",
     "exception": false,
     "start_time": "2022-01-31T01:21:07.471691",
     "status": "completed"
    },
    "tags": []
   },
   "outputs": [
    {
     "data": {
      "text/plain": [
       "(array([[308.8794 ],\n",
       "        [194.65085],\n",
       "        [289.2283 ],\n",
       "        [330.9773 ],\n",
       "        [470.1127 ]], dtype=float32),\n",
       " array([397, 203, 228, 316, 514]))"
      ]
     },
     "execution_count": 23,
     "metadata": {},
     "output_type": "execute_result"
    }
   ],
   "source": [
    "y_p = model_1.predict(X_test)\n",
    "y_p[:5], y_test[:5]"
   ]
  },
  {
   "cell_type": "code",
   "execution_count": 24,
   "id": "50dac15c",
   "metadata": {
    "execution": {
     "iopub.execute_input": "2022-01-31T01:21:08.675165Z",
     "iopub.status.busy": "2022-01-31T01:21:08.674543Z",
     "iopub.status.idle": "2022-01-31T01:21:08.683642Z",
     "shell.execute_reply": "2022-01-31T01:21:08.684145Z",
     "shell.execute_reply.started": "2022-01-31T01:11:38.254395Z"
    },
    "papermill": {
     "duration": 0.302323,
     "end_time": "2022-01-31T01:21:08.684313",
     "exception": false,
     "start_time": "2022-01-31T01:21:08.381990",
     "status": "completed"
    },
    "tags": []
   },
   "outputs": [
    {
     "name": "stdout",
     "output_type": "stream",
     "text": [
      "Model: \"sequential\"\n",
      "_________________________________________________________________\n",
      "Layer (type)                 Output Shape              Param #   \n",
      "=================================================================\n",
      "dense (Dense)                (None, 500)               3000      \n",
      "_________________________________________________________________\n",
      "dense_1 (Dense)              (None, 250)               125250    \n",
      "_________________________________________________________________\n",
      "dense_2 (Dense)              (None, 100)               25100     \n",
      "_________________________________________________________________\n",
      "dense_3 (Dense)              (None, 10)                1010      \n",
      "_________________________________________________________________\n",
      "dense_4 (Dense)              (None, 1)                 11        \n",
      "=================================================================\n",
      "Total params: 154,371\n",
      "Trainable params: 154,371\n",
      "Non-trainable params: 0\n",
      "_________________________________________________________________\n"
     ]
    }
   ],
   "source": [
    "from sklearn.metrics import r2_score\n",
    "r2_score(y_test, y_p)\n",
    "model_1.summary()"
   ]
  },
  {
   "cell_type": "code",
   "execution_count": 25,
   "id": "38407478",
   "metadata": {
    "execution": {
     "iopub.execute_input": "2022-01-31T01:21:09.268002Z",
     "iopub.status.busy": "2022-01-31T01:21:09.267431Z",
     "iopub.status.idle": "2022-01-31T01:21:10.148573Z",
     "shell.execute_reply": "2022-01-31T01:21:10.149021Z",
     "shell.execute_reply.started": "2022-01-31T01:11:52.448922Z"
    },
    "papermill": {
     "duration": 1.175732,
     "end_time": "2022-01-31T01:21:10.149242",
     "exception": false,
     "start_time": "2022-01-31T01:21:08.973510",
     "status": "completed"
    },
    "tags": []
   },
   "outputs": [
    {
     "data": {
      "image/png": "[encoded data removed]",
      "text/plain": [
       "<IPython.core.display.Image object>"
      ]
     },
     "execution_count": 25,
     "metadata": {},
     "output_type": "execute_result"
    }
   ],
   "source": [
    "from tensorflow.keras.utils import plot_model\n",
    "\n",
    "plot_model(model_1, show_shapes=True)"
   ]
  },
  {
   "cell_type": "code",
   "execution_count": 26,
   "id": "1b18c78f",
   "metadata": {
    "execution": {
     "iopub.execute_input": "2022-01-31T01:21:10.730968Z",
     "iopub.status.busy": "2022-01-31T01:21:10.730401Z",
     "iopub.status.idle": "2022-01-31T01:21:11.041334Z",
     "shell.execute_reply": "2022-01-31T01:21:11.041823Z",
     "shell.execute_reply.started": "2022-01-31T01:14:23.096099Z"
    },
    "papermill": {
     "duration": 0.603528,
     "end_time": "2022-01-31T01:21:11.042005",
     "exception": false,
     "start_time": "2022-01-31T01:21:10.438477",
     "status": "completed"
    },
    "tags": []
   },
   "outputs": [
    {
     "data": {
      "text/html": [
       "<div>\n",
       "<style scoped>\n",
       "    .dataframe tbody tr th:only-of-type {\n",
       "        vertical-align: middle;\n",
       "    }\n",
       "\n",
       "    .dataframe tbody tr th {\n",
       "        vertical-align: top;\n",
       "    }\n",
       "\n",
       "    .dataframe thead th {\n",
       "        text-align: right;\n",
       "    }\n",
       "</style>\n",
       "<table border=\"1\" class=\"dataframe\">\n",
       "  <thead>\n",
       "    <tr style=\"text-align: right;\">\n",
       "      <th></th>\n",
       "      <th>date</th>\n",
       "      <th>country</th>\n",
       "      <th>store</th>\n",
       "      <th>product</th>\n",
       "    </tr>\n",
       "  </thead>\n",
       "  <tbody>\n",
       "    <tr>\n",
       "      <th>0</th>\n",
       "      <td>2019-01-01</td>\n",
       "      <td>Finland</td>\n",
       "      <td>KaggleMart</td>\n",
       "      <td>Kaggle Mug</td>\n",
       "    </tr>\n",
       "    <tr>\n",
       "      <th>1</th>\n",
       "      <td>2019-01-01</td>\n",
       "      <td>Finland</td>\n",
       "      <td>KaggleMart</td>\n",
       "      <td>Kaggle Hat</td>\n",
       "    </tr>\n",
       "    <tr>\n",
       "      <th>2</th>\n",
       "      <td>2019-01-01</td>\n",
       "      <td>Finland</td>\n",
       "      <td>KaggleMart</td>\n",
       "      <td>Kaggle Sticker</td>\n",
       "    </tr>\n",
       "    <tr>\n",
       "      <th>3</th>\n",
       "      <td>2019-01-01</td>\n",
       "      <td>Finland</td>\n",
       "      <td>KaggleRama</td>\n",
       "      <td>Kaggle Mug</td>\n",
       "    </tr>\n",
       "    <tr>\n",
       "      <th>4</th>\n",
       "      <td>2019-01-01</td>\n",
       "      <td>Finland</td>\n",
       "      <td>KaggleRama</td>\n",
       "      <td>Kaggle Hat</td>\n",
       "    </tr>\n",
       "  </tbody>\n",
       "</table>\n",
       "</div>"
      ],
      "text/plain": [
       "         date  country       store         product\n",
       "0  2019-01-01  Finland  KaggleMart      Kaggle Mug\n",
       "1  2019-01-01  Finland  KaggleMart      Kaggle Hat\n",
       "2  2019-01-01  Finland  KaggleMart  Kaggle Sticker\n",
       "3  2019-01-01  Finland  KaggleRama      Kaggle Mug\n",
       "4  2019-01-01  Finland  KaggleRama      Kaggle Hat"
      ]
     },
     "execution_count": 26,
     "metadata": {},
     "output_type": "execute_result"
    }
   ],
   "source": [
    "df_test =  pd.read_csv('https://raw.githubusercontent.com/benvictoria17/DataVisualization/master/dataset/Tabular%20Playground%20Series%20-%20Jan%202022/test.csv')\n",
    "test_passengerIds = df_test['row_id'].values\n",
    "df_test.drop('row_id', axis = 1, inplace=True)\n",
    "df_test.head()"
   ]
  },
  {
   "cell_type": "code",
   "execution_count": 27,
   "id": "df41c2c7",
   "metadata": {
    "execution": {
     "iopub.execute_input": "2022-01-31T01:21:11.626772Z",
     "iopub.status.busy": "2022-01-31T01:21:11.626181Z",
     "iopub.status.idle": "2022-01-31T01:21:11.639268Z",
     "shell.execute_reply": "2022-01-31T01:21:11.639922Z",
     "shell.execute_reply.started": "2022-01-31T01:15:00.282953Z"
    },
    "papermill": {
     "duration": 0.309186,
     "end_time": "2022-01-31T01:21:11.640162",
     "exception": false,
     "start_time": "2022-01-31T01:21:11.330976",
     "status": "completed"
    },
    "tags": []
   },
   "outputs": [
    {
     "name": "stdout",
     "output_type": "stream",
     "text": [
      "<class 'pandas.core.frame.DataFrame'>\n",
      "RangeIndex: 6570 entries, 0 to 6569\n",
      "Data columns (total 4 columns):\n",
      " #   Column   Non-Null Count  Dtype         \n",
      "---  ------   --------------  -----         \n",
      " 0   date     6570 non-null   datetime64[ns]\n",
      " 1   country  6570 non-null   object        \n",
      " 2   store    6570 non-null   object        \n",
      " 3   product  6570 non-null   object        \n",
      "dtypes: datetime64[ns](1), object(3)\n",
      "memory usage: 205.4+ KB\n"
     ]
    }
   ],
   "source": [
    "df_test['date'] = pd.to_datetime(df_test['date'])\n",
    "\n",
    "df_test.info()"
   ]
  },
  {
   "cell_type": "code",
   "execution_count": 28,
   "id": "6a9e8098",
   "metadata": {
    "execution": {
     "iopub.execute_input": "2022-01-31T01:21:12.230667Z",
     "iopub.status.busy": "2022-01-31T01:21:12.230052Z",
     "iopub.status.idle": "2022-01-31T01:21:12.244181Z",
     "shell.execute_reply": "2022-01-31T01:21:12.244694Z",
     "shell.execute_reply.started": "2022-01-31T01:15:11.194146Z"
    },
    "papermill": {
     "duration": 0.312094,
     "end_time": "2022-01-31T01:21:12.244866",
     "exception": false,
     "start_time": "2022-01-31T01:21:11.932772",
     "status": "completed"
    },
    "tags": []
   },
   "outputs": [
    {
     "name": "stdout",
     "output_type": "stream",
     "text": [
      "<class 'pandas.core.frame.DataFrame'>\n",
      "RangeIndex: 6570 entries, 0 to 6569\n",
      "Data columns (total 7 columns):\n",
      " #   Column   Non-Null Count  Dtype         \n",
      "---  ------   --------------  -----         \n",
      " 0   date     6570 non-null   datetime64[ns]\n",
      " 1   country  6570 non-null   object        \n",
      " 2   store    6570 non-null   object        \n",
      " 3   product  6570 non-null   object        \n",
      " 4   day      6570 non-null   int64         \n",
      " 5   month    6570 non-null   int64         \n",
      " 6   year     6570 non-null   int64         \n",
      "dtypes: datetime64[ns](1), int64(3), object(3)\n",
      "memory usage: 359.4+ KB\n"
     ]
    }
   ],
   "source": [
    "df_test['day'] = df_test['date'].dt.day\n",
    "df_test['month'] = df_test['date'].dt.month\n",
    "df_test['year'] = df_test['date'].dt.year\n",
    "\n",
    "df_test.info()"
   ]
  },
  {
   "cell_type": "code",
   "execution_count": 29,
   "id": "d1408e8b",
   "metadata": {
    "execution": {
     "iopub.execute_input": "2022-01-31T01:21:12.847953Z",
     "iopub.status.busy": "2022-01-31T01:21:12.847362Z",
     "iopub.status.idle": "2022-01-31T01:21:12.856434Z",
     "shell.execute_reply": "2022-01-31T01:21:12.856920Z",
     "shell.execute_reply.started": "2022-01-31T01:15:18.988980Z"
    },
    "papermill": {
     "duration": 0.312091,
     "end_time": "2022-01-31T01:21:12.857107",
     "exception": false,
     "start_time": "2022-01-31T01:21:12.545016",
     "status": "completed"
    },
    "tags": []
   },
   "outputs": [
    {
     "data": {
      "text/html": [
       "<div>\n",
       "<style scoped>\n",
       "    .dataframe tbody tr th:only-of-type {\n",
       "        vertical-align: middle;\n",
       "    }\n",
       "\n",
       "    .dataframe tbody tr th {\n",
       "        vertical-align: top;\n",
       "    }\n",
       "\n",
       "    .dataframe thead th {\n",
       "        text-align: right;\n",
       "    }\n",
       "</style>\n",
       "<table border=\"1\" class=\"dataframe\">\n",
       "  <thead>\n",
       "    <tr style=\"text-align: right;\">\n",
       "      <th></th>\n",
       "      <th>country</th>\n",
       "      <th>store</th>\n",
       "      <th>product</th>\n",
       "      <th>day</th>\n",
       "      <th>month</th>\n",
       "      <th>year</th>\n",
       "    </tr>\n",
       "  </thead>\n",
       "  <tbody>\n",
       "    <tr>\n",
       "      <th>0</th>\n",
       "      <td>Finland</td>\n",
       "      <td>KaggleMart</td>\n",
       "      <td>Kaggle Mug</td>\n",
       "      <td>1</td>\n",
       "      <td>1</td>\n",
       "      <td>2019</td>\n",
       "    </tr>\n",
       "    <tr>\n",
       "      <th>1</th>\n",
       "      <td>Finland</td>\n",
       "      <td>KaggleMart</td>\n",
       "      <td>Kaggle Hat</td>\n",
       "      <td>1</td>\n",
       "      <td>1</td>\n",
       "      <td>2019</td>\n",
       "    </tr>\n",
       "    <tr>\n",
       "      <th>2</th>\n",
       "      <td>Finland</td>\n",
       "      <td>KaggleMart</td>\n",
       "      <td>Kaggle Sticker</td>\n",
       "      <td>1</td>\n",
       "      <td>1</td>\n",
       "      <td>2019</td>\n",
       "    </tr>\n",
       "    <tr>\n",
       "      <th>3</th>\n",
       "      <td>Finland</td>\n",
       "      <td>KaggleRama</td>\n",
       "      <td>Kaggle Mug</td>\n",
       "      <td>1</td>\n",
       "      <td>1</td>\n",
       "      <td>2019</td>\n",
       "    </tr>\n",
       "    <tr>\n",
       "      <th>4</th>\n",
       "      <td>Finland</td>\n",
       "      <td>KaggleRama</td>\n",
       "      <td>Kaggle Hat</td>\n",
       "      <td>1</td>\n",
       "      <td>1</td>\n",
       "      <td>2019</td>\n",
       "    </tr>\n",
       "  </tbody>\n",
       "</table>\n",
       "</div>"
      ],
      "text/plain": [
       "   country       store         product  day  month  year\n",
       "0  Finland  KaggleMart      Kaggle Mug    1      1  2019\n",
       "1  Finland  KaggleMart      Kaggle Hat    1      1  2019\n",
       "2  Finland  KaggleMart  Kaggle Sticker    1      1  2019\n",
       "3  Finland  KaggleRama      Kaggle Mug    1      1  2019\n",
       "4  Finland  KaggleRama      Kaggle Hat    1      1  2019"
      ]
     },
     "execution_count": 29,
     "metadata": {},
     "output_type": "execute_result"
    }
   ],
   "source": [
    "df_test.drop(['date'], axis = 1, inplace = True)\n",
    "df_test.head()"
   ]
  },
  {
   "cell_type": "code",
   "execution_count": 30,
   "id": "9b49bd04",
   "metadata": {
    "execution": {
     "iopub.execute_input": "2022-01-31T01:21:13.446278Z",
     "iopub.status.busy": "2022-01-31T01:21:13.445695Z",
     "iopub.status.idle": "2022-01-31T01:21:13.459201Z",
     "shell.execute_reply": "2022-01-31T01:21:13.459663Z",
     "shell.execute_reply.started": "2022-01-31T01:15:27.225297Z"
    },
    "papermill": {
     "duration": 0.307415,
     "end_time": "2022-01-31T01:21:13.459837",
     "exception": false,
     "start_time": "2022-01-31T01:21:13.152422",
     "status": "completed"
    },
    "tags": []
   },
   "outputs": [
    {
     "data": {
      "text/html": [
       "<div>\n",
       "<style scoped>\n",
       "    .dataframe tbody tr th:only-of-type {\n",
       "        vertical-align: middle;\n",
       "    }\n",
       "\n",
       "    .dataframe tbody tr th {\n",
       "        vertical-align: top;\n",
       "    }\n",
       "\n",
       "    .dataframe thead th {\n",
       "        text-align: right;\n",
       "    }\n",
       "</style>\n",
       "<table border=\"1\" class=\"dataframe\">\n",
       "  <thead>\n",
       "    <tr style=\"text-align: right;\">\n",
       "      <th></th>\n",
       "      <th>country</th>\n",
       "      <th>store</th>\n",
       "      <th>product</th>\n",
       "    </tr>\n",
       "  </thead>\n",
       "  <tbody>\n",
       "    <tr>\n",
       "      <th>0</th>\n",
       "      <td>0</td>\n",
       "      <td>0</td>\n",
       "      <td>1</td>\n",
       "    </tr>\n",
       "    <tr>\n",
       "      <th>1</th>\n",
       "      <td>0</td>\n",
       "      <td>0</td>\n",
       "      <td>0</td>\n",
       "    </tr>\n",
       "    <tr>\n",
       "      <th>2</th>\n",
       "      <td>0</td>\n",
       "      <td>0</td>\n",
       "      <td>2</td>\n",
       "    </tr>\n",
       "    <tr>\n",
       "      <th>3</th>\n",
       "      <td>0</td>\n",
       "      <td>1</td>\n",
       "      <td>1</td>\n",
       "    </tr>\n",
       "    <tr>\n",
       "      <th>4</th>\n",
       "      <td>0</td>\n",
       "      <td>1</td>\n",
       "      <td>0</td>\n",
       "    </tr>\n",
       "  </tbody>\n",
       "</table>\n",
       "</div>"
      ],
      "text/plain": [
       "   country  store  product\n",
       "0        0      0        1\n",
       "1        0      0        0\n",
       "2        0      0        2\n",
       "3        0      1        1\n",
       "4        0      1        0"
      ]
     },
     "execution_count": 30,
     "metadata": {},
     "output_type": "execute_result"
    }
   ],
   "source": [
    "df_test = convert2num(df_test)\n",
    "\n",
    "df_test[le_cols].head()"
   ]
  },
  {
   "cell_type": "code",
   "execution_count": 31,
   "id": "629645ad",
   "metadata": {
    "execution": {
     "iopub.execute_input": "2022-01-31T01:21:14.051328Z",
     "iopub.status.busy": "2022-01-31T01:21:14.050665Z",
     "iopub.status.idle": "2022-01-31T01:21:14.061714Z",
     "shell.execute_reply": "2022-01-31T01:21:14.061263Z",
     "shell.execute_reply.started": "2022-01-31T01:15:35.829952Z"
    },
    "papermill": {
     "duration": 0.30931,
     "end_time": "2022-01-31T01:21:14.061848",
     "exception": false,
     "start_time": "2022-01-31T01:21:13.752538",
     "status": "completed"
    },
    "tags": []
   },
   "outputs": [
    {
     "data": {
      "text/html": [
       "<div>\n",
       "<style scoped>\n",
       "    .dataframe tbody tr th:only-of-type {\n",
       "        vertical-align: middle;\n",
       "    }\n",
       "\n",
       "    .dataframe tbody tr th {\n",
       "        vertical-align: top;\n",
       "    }\n",
       "\n",
       "    .dataframe thead th {\n",
       "        text-align: right;\n",
       "    }\n",
       "</style>\n",
       "<table border=\"1\" class=\"dataframe\">\n",
       "  <thead>\n",
       "    <tr style=\"text-align: right;\">\n",
       "      <th></th>\n",
       "      <th>country</th>\n",
       "      <th>store</th>\n",
       "      <th>product</th>\n",
       "      <th>day</th>\n",
       "      <th>month</th>\n",
       "      <th>year</th>\n",
       "    </tr>\n",
       "  </thead>\n",
       "  <tbody>\n",
       "    <tr>\n",
       "      <th>0</th>\n",
       "      <td>0</td>\n",
       "      <td>0</td>\n",
       "      <td>1</td>\n",
       "      <td>1</td>\n",
       "      <td>1</td>\n",
       "      <td>0.998516</td>\n",
       "    </tr>\n",
       "    <tr>\n",
       "      <th>1</th>\n",
       "      <td>0</td>\n",
       "      <td>0</td>\n",
       "      <td>0</td>\n",
       "      <td>1</td>\n",
       "      <td>1</td>\n",
       "      <td>0.998516</td>\n",
       "    </tr>\n",
       "    <tr>\n",
       "      <th>2</th>\n",
       "      <td>0</td>\n",
       "      <td>0</td>\n",
       "      <td>2</td>\n",
       "      <td>1</td>\n",
       "      <td>1</td>\n",
       "      <td>0.998516</td>\n",
       "    </tr>\n",
       "    <tr>\n",
       "      <th>3</th>\n",
       "      <td>0</td>\n",
       "      <td>1</td>\n",
       "      <td>1</td>\n",
       "      <td>1</td>\n",
       "      <td>1</td>\n",
       "      <td>0.998516</td>\n",
       "    </tr>\n",
       "    <tr>\n",
       "      <th>4</th>\n",
       "      <td>0</td>\n",
       "      <td>1</td>\n",
       "      <td>0</td>\n",
       "      <td>1</td>\n",
       "      <td>1</td>\n",
       "      <td>0.998516</td>\n",
       "    </tr>\n",
       "  </tbody>\n",
       "</table>\n",
       "</div>"
      ],
      "text/plain": [
       "   country  store  product  day  month      year\n",
       "0        0      0        1    1      1  0.998516\n",
       "1        0      0        0    1      1  0.998516\n",
       "2        0      0        2    1      1  0.998516\n",
       "3        0      1        1    1      1  0.998516\n",
       "4        0      1        0    1      1  0.998516"
      ]
     },
     "execution_count": 31,
     "metadata": {},
     "output_type": "execute_result"
    }
   ],
   "source": [
    "df_test['year'] = df_test['year']/ 2022\n",
    "df_test.head()"
   ]
  },
  {
   "cell_type": "code",
   "execution_count": 32,
   "id": "222031f7",
   "metadata": {
    "execution": {
     "iopub.execute_input": "2022-01-31T01:21:14.713320Z",
     "iopub.status.busy": "2022-01-31T01:21:14.712736Z",
     "iopub.status.idle": "2022-01-31T01:21:14.719627Z",
     "shell.execute_reply": "2022-01-31T01:21:14.720105Z",
     "shell.execute_reply.started": "2022-01-31T01:15:42.537281Z"
    },
    "papermill": {
     "duration": 0.363222,
     "end_time": "2022-01-31T01:21:14.720289",
     "exception": false,
     "start_time": "2022-01-31T01:21:14.357067",
     "status": "completed"
    },
    "tags": []
   },
   "outputs": [
    {
     "data": {
      "text/plain": [
       "array([[0.        , 0.        , 1.        , 1.        , 0.99851632],\n",
       "       [0.        , 0.        , 0.        , 1.        , 0.99851632],\n",
       "       [0.        , 0.        , 2.        , 1.        , 0.99851632],\n",
       "       [0.        , 1.        , 1.        , 1.        , 0.99851632],\n",
       "       [0.        , 1.        , 0.        , 1.        , 0.99851632]])"
      ]
     },
     "execution_count": 32,
     "metadata": {},
     "output_type": "execute_result"
    }
   ],
   "source": [
    "df_test.drop(['day'], axis = 1, inplace = True)\n",
    "df_test = df_test.to_numpy()\n",
    "df_test[:5]"
   ]
  },
  {
   "cell_type": "code",
   "execution_count": 33,
   "id": "6ef47361",
   "metadata": {
    "execution": {
     "iopub.execute_input": "2022-01-31T01:21:15.311189Z",
     "iopub.status.busy": "2022-01-31T01:21:15.310543Z",
     "iopub.status.idle": "2022-01-31T01:21:15.843305Z",
     "shell.execute_reply": "2022-01-31T01:21:15.843823Z",
     "shell.execute_reply.started": "2022-01-31T01:15:49.537817Z"
    },
    "papermill": {
     "duration": 0.828291,
     "end_time": "2022-01-31T01:21:15.844005",
     "exception": false,
     "start_time": "2022-01-31T01:21:15.015714",
     "status": "completed"
    },
    "tags": []
   },
   "outputs": [
    {
     "data": {
      "text/plain": [
       "array([225.83614, 382.21692, 103.10862, 403.24847, 671.5956 ],\n",
       "      dtype=float32)"
      ]
     },
     "execution_count": 33,
     "metadata": {},
     "output_type": "execute_result"
    }
   ],
   "source": [
    "y_pred = model_1.predict(df_test)[:, 0]\n",
    "y_pred[:5]"
   ]
  },
  {
   "cell_type": "code",
   "execution_count": 34,
   "id": "9f35d2d1",
   "metadata": {
    "execution": {
     "iopub.execute_input": "2022-01-31T01:21:16.434920Z",
     "iopub.status.busy": "2022-01-31T01:21:16.432537Z",
     "iopub.status.idle": "2022-01-31T01:21:16.437676Z",
     "shell.execute_reply": "2022-01-31T01:21:16.438160Z",
     "shell.execute_reply.started": "2022-01-31T01:15:58.822758Z"
    },
    "papermill": {
     "duration": 0.300114,
     "end_time": "2022-01-31T01:21:16.438330",
     "exception": false,
     "start_time": "2022-01-31T01:21:16.138216",
     "status": "completed"
    },
    "tags": []
   },
   "outputs": [
    {
     "data": {
      "text/plain": [
       "(6570,)"
      ]
     },
     "execution_count": 34,
     "metadata": {},
     "output_type": "execute_result"
    }
   ],
   "source": [
    "y_pred = np.array(y_pred)\n",
    "y_pred.shape"
   ]
  },
  {
   "cell_type": "code",
   "execution_count": 35,
   "id": "3c2d955f",
   "metadata": {
    "execution": {
     "iopub.execute_input": "2022-01-31T01:21:17.030348Z",
     "iopub.status.busy": "2022-01-31T01:21:17.029629Z",
     "iopub.status.idle": "2022-01-31T01:21:17.034543Z",
     "shell.execute_reply": "2022-01-31T01:21:17.033923Z",
     "shell.execute_reply.started": "2022-01-31T01:16:03.820291Z"
    },
    "papermill": {
     "duration": 0.301824,
     "end_time": "2022-01-31T01:21:17.034686",
     "exception": false,
     "start_time": "2022-01-31T01:21:16.732862",
     "status": "completed"
    },
    "tags": []
   },
   "outputs": [
    {
     "data": {
      "text/plain": [
       "(6570,)"
      ]
     },
     "execution_count": 35,
     "metadata": {},
     "output_type": "execute_result"
    }
   ],
   "source": [
    "test_passengerIds.shape"
   ]
  },
  {
   "cell_type": "code",
   "execution_count": 36,
   "id": "8538cda6",
   "metadata": {
    "execution": {
     "iopub.execute_input": "2022-01-31T01:21:17.629351Z",
     "iopub.status.busy": "2022-01-31T01:21:17.628715Z",
     "iopub.status.idle": "2022-01-31T01:21:17.653418Z",
     "shell.execute_reply": "2022-01-31T01:21:17.652828Z",
     "shell.execute_reply.started": "2022-01-31T01:16:15.931186Z"
    },
    "papermill": {
     "duration": 0.322821,
     "end_time": "2022-01-31T01:21:17.653567",
     "exception": false,
     "start_time": "2022-01-31T01:21:17.330746",
     "status": "completed"
    },
    "tags": []
   },
   "outputs": [
    {
     "data": {
      "text/html": [
       "<div>\n",
       "<style scoped>\n",
       "    .dataframe tbody tr th:only-of-type {\n",
       "        vertical-align: middle;\n",
       "    }\n",
       "\n",
       "    .dataframe tbody tr th {\n",
       "        vertical-align: top;\n",
       "    }\n",
       "\n",
       "    .dataframe thead th {\n",
       "        text-align: right;\n",
       "    }\n",
       "</style>\n",
       "<table border=\"1\" class=\"dataframe\">\n",
       "  <thead>\n",
       "    <tr style=\"text-align: right;\">\n",
       "      <th></th>\n",
       "      <th>row_id</th>\n",
       "      <th>num_sold</th>\n",
       "    </tr>\n",
       "  </thead>\n",
       "  <tbody>\n",
       "    <tr>\n",
       "      <th>0</th>\n",
       "      <td>26298</td>\n",
       "      <td>225.836136</td>\n",
       "    </tr>\n",
       "    <tr>\n",
       "      <th>1</th>\n",
       "      <td>26299</td>\n",
       "      <td>382.216919</td>\n",
       "    </tr>\n",
       "    <tr>\n",
       "      <th>2</th>\n",
       "      <td>26300</td>\n",
       "      <td>103.108620</td>\n",
       "    </tr>\n",
       "    <tr>\n",
       "      <th>3</th>\n",
       "      <td>26301</td>\n",
       "      <td>403.248474</td>\n",
       "    </tr>\n",
       "    <tr>\n",
       "      <th>4</th>\n",
       "      <td>26302</td>\n",
       "      <td>671.595581</td>\n",
       "    </tr>\n",
       "    <tr>\n",
       "      <th>...</th>\n",
       "      <td>...</td>\n",
       "      <td>...</td>\n",
       "    </tr>\n",
       "    <tr>\n",
       "      <th>6565</th>\n",
       "      <td>32863</td>\n",
       "      <td>375.524567</td>\n",
       "    </tr>\n",
       "    <tr>\n",
       "      <th>6566</th>\n",
       "      <td>32864</td>\n",
       "      <td>122.814156</td>\n",
       "    </tr>\n",
       "    <tr>\n",
       "      <th>6567</th>\n",
       "      <td>32865</td>\n",
       "      <td>465.624023</td>\n",
       "    </tr>\n",
       "    <tr>\n",
       "      <th>6568</th>\n",
       "      <td>32866</td>\n",
       "      <td>647.649719</td>\n",
       "    </tr>\n",
       "    <tr>\n",
       "      <th>6569</th>\n",
       "      <td>32867</td>\n",
       "      <td>212.121719</td>\n",
       "    </tr>\n",
       "  </tbody>\n",
       "</table>\n",
       "<p>6570 rows × 2 columns</p>\n",
       "</div>"
      ],
      "text/plain": [
       "      row_id    num_sold\n",
       "0      26298  225.836136\n",
       "1      26299  382.216919\n",
       "2      26300  103.108620\n",
       "3      26301  403.248474\n",
       "4      26302  671.595581\n",
       "...      ...         ...\n",
       "6565   32863  375.524567\n",
       "6566   32864  122.814156\n",
       "6567   32865  465.624023\n",
       "6568   32866  647.649719\n",
       "6569   32867  212.121719\n",
       "\n",
       "[6570 rows x 2 columns]"
      ]
     },
     "execution_count": 36,
     "metadata": {},
     "output_type": "execute_result"
    }
   ],
   "source": [
    "output = pd.DataFrame({'row_id':test_passengerIds, 'num_sold': y_pred})\n",
    "output.to_csv('submission.csv', index=False)\n",
    "output"
   ]
  }
 ],
 "metadata": {
  "kernelspec": {
   "display_name": "Python 3",
   "language": "python",
   "name": "python3"
  },
  "language_info": {
   "codemirror_mode": {
    "name": "ipython",
    "version": 3
   },
   "file_extension": ".py",
   "mimetype": "text/x-python",
   "name": "python",
   "nbconvert_exporter": "python",
   "pygments_lexer": "ipython3",
   "version": "3.7.12"
  },
  "papermill": {
   "default_parameters": {},
   "duration": 114.619061,
   "end_time": "2022-01-31T01:21:20.817701",
   "environment_variables": {},
   "exception": null,
   "input_path": "__notebook__.ipynb",
   "output_path": "__notebook__.ipynb",
   "parameters": {},
   "start_time": "2022-01-31T01:19:26.198640",
   "version": "2.3.3"
  }
 },
 "nbformat": 4,
 "nbformat_minor": 5
}
