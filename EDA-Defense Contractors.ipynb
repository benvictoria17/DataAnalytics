{
 "cells": [
  {
   "cell_type": "code",
   "execution_count": 1,
   "id": "66fb02c8",
   "metadata": {
    "_cell_guid": "b1076dfc-b9ad-4769-8c92-a6c4dae69d19",
    "_uuid": "8f2839f25d086af736a60e9eeb907d3b93b6e0e5",
    "execution": {
     "iopub.execute_input": "2022-04-16T03:23:37.640710Z",
     "iopub.status.busy": "2022-04-16T03:23:37.640356Z",
     "iopub.status.idle": "2022-04-16T03:23:38.807573Z",
     "shell.execute_reply": "2022-04-16T03:23:38.806539Z"
    },
    "papermill": {
     "duration": 1.190317,
     "end_time": "2022-04-16T03:23:38.810265",
     "exception": false,
     "start_time": "2022-04-16T03:23:37.619948",
     "status": "completed"
    },
    "tags": []
   },
   "outputs": [],
   "source": [
    "import pandas as pd\n",
    "import numpy as np\n",
    "import matplotlib.pyplot as plt\n",
    "import seaborn as sns\n",
    "from datetime import datetime"
   ]
  },
  {
   "cell_type": "code",
   "execution_count": 2,
   "id": "e433a6de",
   "metadata": {
    "execution": {
     "iopub.execute_input": "2022-04-16T03:23:38.846092Z",
     "iopub.status.busy": "2022-04-16T03:23:38.845790Z",
     "iopub.status.idle": "2022-04-16T03:23:39.127088Z",
     "shell.execute_reply": "2022-04-16T03:23:39.126163Z"
    },
    "papermill": {
     "duration": 0.303054,
     "end_time": "2022-04-16T03:23:39.130554",
     "exception": false,
     "start_time": "2022-04-16T03:23:38.827500",
     "status": "completed"
    },
    "tags": []
   },
   "outputs": [
    {
     "data": {
      "text/html": [
       "<div>\n",
       "<style scoped>\n",
       "    .dataframe tbody tr th:only-of-type {\n",
       "        vertical-align: middle;\n",
       "    }\n",
       "\n",
       "    .dataframe tbody tr th {\n",
       "        vertical-align: top;\n",
       "    }\n",
       "\n",
       "    .dataframe thead th {\n",
       "        text-align: right;\n",
       "    }\n",
       "</style>\n",
       "<table border=\"1\" class=\"dataframe\">\n",
       "  <thead>\n",
       "    <tr style=\"text-align: right;\">\n",
       "      <th></th>\n",
       "      <th>Symbol</th>\n",
       "      <th>Year</th>\n",
       "      <th>Name</th>\n",
       "      <th>Country</th>\n",
       "      <th>Category</th>\n",
       "      <th>Market cap</th>\n",
       "      <th>Revenue</th>\n",
       "      <th>Earnings</th>\n",
       "    </tr>\n",
       "  </thead>\n",
       "  <tbody>\n",
       "    <tr>\n",
       "      <th>0</th>\n",
       "      <td>AM.PA</td>\n",
       "      <td>2022</td>\n",
       "      <td>Dassault Aviation</td>\n",
       "      <td>France</td>\n",
       "      <td>Aircraft manufacturers|Defense contractors|Man...</td>\n",
       "      <td>$11.91 B</td>\n",
       "      <td>NaN</td>\n",
       "      <td>NaN</td>\n",
       "    </tr>\n",
       "    <tr>\n",
       "      <th>1</th>\n",
       "      <td>BA</td>\n",
       "      <td>2001</td>\n",
       "      <td>Boeing</td>\n",
       "      <td>USA</td>\n",
       "      <td>Aircraft manufacturers|Aerospace|Dow jones|Man...</td>\n",
       "      <td>$30.94 B</td>\n",
       "      <td>$58.19 B</td>\n",
       "      <td>NaN</td>\n",
       "    </tr>\n",
       "    <tr>\n",
       "      <th>2</th>\n",
       "      <td>BA</td>\n",
       "      <td>2002</td>\n",
       "      <td>Boeing</td>\n",
       "      <td>USA</td>\n",
       "      <td>Aircraft manufacturers|Aerospace|Dow jones|Man...</td>\n",
       "      <td>$26.37 B</td>\n",
       "      <td>$54.06 B</td>\n",
       "      <td>NaN</td>\n",
       "    </tr>\n",
       "    <tr>\n",
       "      <th>3</th>\n",
       "      <td>BA</td>\n",
       "      <td>2003</td>\n",
       "      <td>Boeing</td>\n",
       "      <td>USA</td>\n",
       "      <td>Aircraft manufacturers|Aerospace|Dow jones|Man...</td>\n",
       "      <td>$33.72 B</td>\n",
       "      <td>$50.48 B</td>\n",
       "      <td>NaN</td>\n",
       "    </tr>\n",
       "    <tr>\n",
       "      <th>4</th>\n",
       "      <td>BA</td>\n",
       "      <td>2004</td>\n",
       "      <td>Boeing</td>\n",
       "      <td>USA</td>\n",
       "      <td>Aircraft manufacturers|Aerospace|Dow jones|Man...</td>\n",
       "      <td>$43.08 B</td>\n",
       "      <td>$52.51 B</td>\n",
       "      <td>NaN</td>\n",
       "    </tr>\n",
       "  </tbody>\n",
       "</table>\n",
       "</div>"
      ],
      "text/plain": [
       "  Symbol  Year               Name Country  \\\n",
       "0  AM.PA  2022  Dassault Aviation  France   \n",
       "1     BA  2001             Boeing     USA   \n",
       "2     BA  2002             Boeing     USA   \n",
       "3     BA  2003             Boeing     USA   \n",
       "4     BA  2004             Boeing     USA   \n",
       "\n",
       "                                            Category Market cap   Revenue  \\\n",
       "0  Aircraft manufacturers|Defense contractors|Man...   $11.91 B       NaN   \n",
       "1  Aircraft manufacturers|Aerospace|Dow jones|Man...   $30.94 B  $58.19 B   \n",
       "2  Aircraft manufacturers|Aerospace|Dow jones|Man...   $26.37 B  $54.06 B   \n",
       "3  Aircraft manufacturers|Aerospace|Dow jones|Man...   $33.72 B  $50.48 B   \n",
       "4  Aircraft manufacturers|Aerospace|Dow jones|Man...   $43.08 B  $52.51 B   \n",
       "\n",
       "  Earnings  \n",
       "0      NaN  \n",
       "1      NaN  \n",
       "2      NaN  \n",
       "3      NaN  \n",
       "4      NaN  "
      ]
     },
     "execution_count": 2,
     "metadata": {},
     "output_type": "execute_result"
    }
   ],
   "source": [
    "data = pd.read_csv(\"https://raw.githubusercontent.com/benvictoria17/DataAnalytics/master/dataset/Defense%20contractors%20market%20cap%2C%20revenue%2C%20earnings/defense%20contractor.csv\")\n",
    "data.head()"
   ]
  },
  {
   "cell_type": "code",
   "execution_count": 3,
   "id": "e65883a7",
   "metadata": {
    "execution": {
     "iopub.execute_input": "2022-04-16T03:23:39.169049Z",
     "iopub.status.busy": "2022-04-16T03:23:39.168447Z",
     "iopub.status.idle": "2022-04-16T03:23:39.193926Z",
     "shell.execute_reply": "2022-04-16T03:23:39.192461Z"
    },
    "papermill": {
     "duration": 0.04735,
     "end_time": "2022-04-16T03:23:39.196701",
     "exception": false,
     "start_time": "2022-04-16T03:23:39.149351",
     "status": "completed"
    },
    "tags": []
   },
   "outputs": [
    {
     "name": "stdout",
     "output_type": "stream",
     "text": [
      "<class 'pandas.core.frame.DataFrame'>\n",
      "RangeIndex: 269 entries, 0 to 268\n",
      "Data columns (total 8 columns):\n",
      " #   Column      Non-Null Count  Dtype \n",
      "---  ------      --------------  ----- \n",
      " 0   Symbol      269 non-null    object\n",
      " 1   Year        269 non-null    int64 \n",
      " 2   Name        269 non-null    object\n",
      " 3   Country     269 non-null    object\n",
      " 4   Category    269 non-null    object\n",
      " 5   Market cap  254 non-null    object\n",
      " 6   Revenue     189 non-null    object\n",
      " 7   Earnings    171 non-null    object\n",
      "dtypes: int64(1), object(7)\n",
      "memory usage: 16.9+ KB\n"
     ]
    }
   ],
   "source": [
    "data.info()"
   ]
  },
  {
   "cell_type": "code",
   "execution_count": 4,
   "id": "938bc5d7",
   "metadata": {
    "execution": {
     "iopub.execute_input": "2022-04-16T03:23:39.235224Z",
     "iopub.status.busy": "2022-04-16T03:23:39.234906Z",
     "iopub.status.idle": "2022-04-16T03:23:39.244784Z",
     "shell.execute_reply": "2022-04-16T03:23:39.243927Z"
    },
    "papermill": {
     "duration": 0.031765,
     "end_time": "2022-04-16T03:23:39.247063",
     "exception": false,
     "start_time": "2022-04-16T03:23:39.215298",
     "status": "completed"
    },
    "tags": []
   },
   "outputs": [
    {
     "data": {
      "text/plain": [
       "Symbol         17\n",
       "Year           22\n",
       "Name           17\n",
       "Country         7\n",
       "Category       12\n",
       "Market cap    250\n",
       "Revenue       184\n",
       "Earnings      151\n",
       "dtype: int64"
      ]
     },
     "execution_count": 4,
     "metadata": {},
     "output_type": "execute_result"
    }
   ],
   "source": [
    "data.nunique()"
   ]
  },
  {
   "cell_type": "code",
   "execution_count": 5,
   "id": "2d9ca0fb",
   "metadata": {
    "execution": {
     "iopub.execute_input": "2022-04-16T03:23:39.285842Z",
     "iopub.status.busy": "2022-04-16T03:23:39.285540Z",
     "iopub.status.idle": "2022-04-16T03:23:39.294606Z",
     "shell.execute_reply": "2022-04-16T03:23:39.293650Z"
    },
    "papermill": {
     "duration": 0.031022,
     "end_time": "2022-04-16T03:23:39.296756",
     "exception": false,
     "start_time": "2022-04-16T03:23:39.265734",
     "status": "completed"
    },
    "tags": []
   },
   "outputs": [
    {
     "data": {
      "text/plain": [
       "Earnings      98\n",
       "Revenue       80\n",
       "Market cap    15\n",
       "Symbol         0\n",
       "Year           0\n",
       "Name           0\n",
       "Country        0\n",
       "Category       0\n",
       "dtype: int64"
      ]
     },
     "execution_count": 5,
     "metadata": {},
     "output_type": "execute_result"
    }
   ],
   "source": [
    "data.isnull().sum().sort_values(ascending=False)"
   ]
  },
  {
   "cell_type": "code",
   "execution_count": 6,
   "id": "c84c3697",
   "metadata": {
    "execution": {
     "iopub.execute_input": "2022-04-16T03:23:39.336361Z",
     "iopub.status.busy": "2022-04-16T03:23:39.336033Z",
     "iopub.status.idle": "2022-04-16T03:23:39.354087Z",
     "shell.execute_reply": "2022-04-16T03:23:39.353357Z"
    },
    "papermill": {
     "duration": 0.043343,
     "end_time": "2022-04-16T03:23:39.359146",
     "exception": false,
     "start_time": "2022-04-16T03:23:39.315803",
     "status": "completed"
    },
    "tags": []
   },
   "outputs": [
    {
     "data": {
      "text/html": [
       "<div>\n",
       "<style scoped>\n",
       "    .dataframe tbody tr th:only-of-type {\n",
       "        vertical-align: middle;\n",
       "    }\n",
       "\n",
       "    .dataframe tbody tr th {\n",
       "        vertical-align: top;\n",
       "    }\n",
       "\n",
       "    .dataframe thead th {\n",
       "        text-align: right;\n",
       "    }\n",
       "</style>\n",
       "<table border=\"1\" class=\"dataframe\">\n",
       "  <thead>\n",
       "    <tr style=\"text-align: right;\">\n",
       "      <th></th>\n",
       "      <th>Symbol</th>\n",
       "      <th>Year</th>\n",
       "      <th>Name</th>\n",
       "      <th>Country</th>\n",
       "      <th>Category</th>\n",
       "      <th>Market cap</th>\n",
       "      <th>Revenue</th>\n",
       "      <th>Earnings</th>\n",
       "    </tr>\n",
       "  </thead>\n",
       "  <tbody>\n",
       "    <tr>\n",
       "      <th>0</th>\n",
       "      <td>AM.PA</td>\n",
       "      <td>2022</td>\n",
       "      <td>Dassault Aviation</td>\n",
       "      <td>France</td>\n",
       "      <td>Aircraft manufacturers|Defense contractors|Man...</td>\n",
       "      <td>$11.91 B</td>\n",
       "      <td>NaN</td>\n",
       "      <td>NaN</td>\n",
       "    </tr>\n",
       "    <tr>\n",
       "      <th>1</th>\n",
       "      <td>BA</td>\n",
       "      <td>2001</td>\n",
       "      <td>Boeing</td>\n",
       "      <td>USA</td>\n",
       "      <td>Aircraft manufacturers|Aerospace|Dow jones|Man...</td>\n",
       "      <td>$30.94 B</td>\n",
       "      <td>$58.19 B</td>\n",
       "      <td>NaN</td>\n",
       "    </tr>\n",
       "    <tr>\n",
       "      <th>2</th>\n",
       "      <td>BA</td>\n",
       "      <td>2002</td>\n",
       "      <td>Boeing</td>\n",
       "      <td>USA</td>\n",
       "      <td>Aircraft manufacturers|Aerospace|Dow jones|Man...</td>\n",
       "      <td>$26.37 B</td>\n",
       "      <td>$54.06 B</td>\n",
       "      <td>NaN</td>\n",
       "    </tr>\n",
       "    <tr>\n",
       "      <th>3</th>\n",
       "      <td>BA</td>\n",
       "      <td>2003</td>\n",
       "      <td>Boeing</td>\n",
       "      <td>USA</td>\n",
       "      <td>Aircraft manufacturers|Aerospace|Dow jones|Man...</td>\n",
       "      <td>$33.72 B</td>\n",
       "      <td>$50.48 B</td>\n",
       "      <td>NaN</td>\n",
       "    </tr>\n",
       "    <tr>\n",
       "      <th>4</th>\n",
       "      <td>BA</td>\n",
       "      <td>2004</td>\n",
       "      <td>Boeing</td>\n",
       "      <td>USA</td>\n",
       "      <td>Aircraft manufacturers|Aerospace|Dow jones|Man...</td>\n",
       "      <td>$43.08 B</td>\n",
       "      <td>$52.51 B</td>\n",
       "      <td>NaN</td>\n",
       "    </tr>\n",
       "    <tr>\n",
       "      <th>5</th>\n",
       "      <td>BA</td>\n",
       "      <td>2005</td>\n",
       "      <td>Boeing</td>\n",
       "      <td>USA</td>\n",
       "      <td>Aircraft manufacturers|Aerospace|Dow jones|Man...</td>\n",
       "      <td>$56.20 B</td>\n",
       "      <td>$54.84 B</td>\n",
       "      <td>NaN</td>\n",
       "    </tr>\n",
       "    <tr>\n",
       "      <th>6</th>\n",
       "      <td>BA</td>\n",
       "      <td>2006</td>\n",
       "      <td>Boeing</td>\n",
       "      <td>USA</td>\n",
       "      <td>Aircraft manufacturers|Aerospace|Dow jones|Man...</td>\n",
       "      <td>$70.07 B</td>\n",
       "      <td>$61.53 B</td>\n",
       "      <td>NaN</td>\n",
       "    </tr>\n",
       "    <tr>\n",
       "      <th>7</th>\n",
       "      <td>BA</td>\n",
       "      <td>2007</td>\n",
       "      <td>Boeing</td>\n",
       "      <td>USA</td>\n",
       "      <td>Aircraft manufacturers|Aerospace|Dow jones|Man...</td>\n",
       "      <td>$67.17 B</td>\n",
       "      <td>$66.38 B</td>\n",
       "      <td>NaN</td>\n",
       "    </tr>\n",
       "    <tr>\n",
       "      <th>8</th>\n",
       "      <td>BA</td>\n",
       "      <td>2008</td>\n",
       "      <td>Boeing</td>\n",
       "      <td>USA</td>\n",
       "      <td>Aircraft manufacturers|Aerospace|Dow jones|Man...</td>\n",
       "      <td>$31.00 B</td>\n",
       "      <td>$60.90 B</td>\n",
       "      <td>NaN</td>\n",
       "    </tr>\n",
       "    <tr>\n",
       "      <th>9</th>\n",
       "      <td>BA</td>\n",
       "      <td>2009</td>\n",
       "      <td>Boeing</td>\n",
       "      <td>USA</td>\n",
       "      <td>Aircraft manufacturers|Aerospace|Dow jones|Man...</td>\n",
       "      <td>$39.33 B</td>\n",
       "      <td>$68.28 B</td>\n",
       "      <td>NaN</td>\n",
       "    </tr>\n",
       "  </tbody>\n",
       "</table>\n",
       "</div>"
      ],
      "text/plain": [
       "  Symbol  Year               Name Country  \\\n",
       "0  AM.PA  2022  Dassault Aviation  France   \n",
       "1     BA  2001             Boeing     USA   \n",
       "2     BA  2002             Boeing     USA   \n",
       "3     BA  2003             Boeing     USA   \n",
       "4     BA  2004             Boeing     USA   \n",
       "5     BA  2005             Boeing     USA   \n",
       "6     BA  2006             Boeing     USA   \n",
       "7     BA  2007             Boeing     USA   \n",
       "8     BA  2008             Boeing     USA   \n",
       "9     BA  2009             Boeing     USA   \n",
       "\n",
       "                                            Category Market cap   Revenue  \\\n",
       "0  Aircraft manufacturers|Defense contractors|Man...   $11.91 B       NaN   \n",
       "1  Aircraft manufacturers|Aerospace|Dow jones|Man...   $30.94 B  $58.19 B   \n",
       "2  Aircraft manufacturers|Aerospace|Dow jones|Man...   $26.37 B  $54.06 B   \n",
       "3  Aircraft manufacturers|Aerospace|Dow jones|Man...   $33.72 B  $50.48 B   \n",
       "4  Aircraft manufacturers|Aerospace|Dow jones|Man...   $43.08 B  $52.51 B   \n",
       "5  Aircraft manufacturers|Aerospace|Dow jones|Man...   $56.20 B  $54.84 B   \n",
       "6  Aircraft manufacturers|Aerospace|Dow jones|Man...   $70.07 B  $61.53 B   \n",
       "7  Aircraft manufacturers|Aerospace|Dow jones|Man...   $67.17 B  $66.38 B   \n",
       "8  Aircraft manufacturers|Aerospace|Dow jones|Man...   $31.00 B  $60.90 B   \n",
       "9  Aircraft manufacturers|Aerospace|Dow jones|Man...   $39.33 B  $68.28 B   \n",
       "\n",
       "  Earnings  \n",
       "0      NaN  \n",
       "1      NaN  \n",
       "2      NaN  \n",
       "3      NaN  \n",
       "4      NaN  \n",
       "5      NaN  \n",
       "6      NaN  \n",
       "7      NaN  \n",
       "8      NaN  \n",
       "9      NaN  "
      ]
     },
     "execution_count": 6,
     "metadata": {},
     "output_type": "execute_result"
    }
   ],
   "source": [
    "data[data.isnull().any(axis=1)].head(10)"
   ]
  },
  {
   "cell_type": "code",
   "execution_count": 7,
   "id": "b1e240a4",
   "metadata": {
    "execution": {
     "iopub.execute_input": "2022-04-16T03:23:39.400339Z",
     "iopub.status.busy": "2022-04-16T03:23:39.400070Z",
     "iopub.status.idle": "2022-04-16T03:23:39.418151Z",
     "shell.execute_reply": "2022-04-16T03:23:39.417243Z"
    },
    "papermill": {
     "duration": 0.042552,
     "end_time": "2022-04-16T03:23:39.421277",
     "exception": false,
     "start_time": "2022-04-16T03:23:39.378725",
     "status": "completed"
    },
    "tags": []
   },
   "outputs": [
    {
     "name": "stdout",
     "output_type": "stream",
     "text": [
      "<class 'pandas.core.frame.DataFrame'>\n",
      "RangeIndex: 269 entries, 0 to 268\n",
      "Data columns (total 8 columns):\n",
      " #   Column      Non-Null Count  Dtype \n",
      "---  ------      --------------  ----- \n",
      " 0   Symbol      269 non-null    object\n",
      " 1   Year        269 non-null    int64 \n",
      " 2   Name        269 non-null    object\n",
      " 3   Country     269 non-null    object\n",
      " 4   Category    269 non-null    object\n",
      " 5   Market cap  254 non-null    object\n",
      " 6   Revenue     189 non-null    object\n",
      " 7   Earnings    171 non-null    object\n",
      "dtypes: int64(1), object(7)\n",
      "memory usage: 16.9+ KB\n"
     ]
    }
   ],
   "source": [
    "data.Year = pd.to_datetime(data['Year'], format='%Y')\n",
    "data['Year']=data.Year.dt.year\n",
    "data.info()"
   ]
  },
  {
   "cell_type": "code",
   "execution_count": 8,
   "id": "ace5deda",
   "metadata": {
    "execution": {
     "iopub.execute_input": "2022-04-16T03:23:39.464370Z",
     "iopub.status.busy": "2022-04-16T03:23:39.463676Z",
     "iopub.status.idle": "2022-04-16T03:23:39.480823Z",
     "shell.execute_reply": "2022-04-16T03:23:39.479997Z"
    },
    "papermill": {
     "duration": 0.040578,
     "end_time": "2022-04-16T03:23:39.482957",
     "exception": false,
     "start_time": "2022-04-16T03:23:39.442379",
     "status": "completed"
    },
    "tags": []
   },
   "outputs": [
    {
     "data": {
      "text/plain": [
       "0         <NA>\n",
       "1      58.19 B\n",
       "2      54.06 B\n",
       "3      50.48 B\n",
       "4      52.51 B\n",
       "        ...   \n",
       "264       <NA>\n",
       "265       <NA>\n",
       "266       <NA>\n",
       "267       <NA>\n",
       "268       <NA>\n",
       "Name: Revenue, Length: 269, dtype: string"
      ]
     },
     "execution_count": 8,
     "metadata": {},
     "output_type": "execute_result"
    }
   ],
   "source": [
    "data.Name = data.Name.astype('string')\n",
    "data.Country = data.Country.astype('string')\n",
    "data.Category = data.Category.astype('string')\n",
    "data.Symbol = data.Symbol.astype('string')\n",
    "data.Revenue = data.Revenue.astype(\"string\")\n",
    "array = data.Revenue.str.split(\"$\",n = 1, expand = True)[:] \n",
    "data.Revenue = array[1] \n",
    "data.Revenue"
   ]
  },
  {
   "cell_type": "code",
   "execution_count": 9,
   "id": "42bd2bad",
   "metadata": {
    "execution": {
     "iopub.execute_input": "2022-04-16T03:23:39.525463Z",
     "iopub.status.busy": "2022-04-16T03:23:39.525191Z",
     "iopub.status.idle": "2022-04-16T03:23:39.535713Z",
     "shell.execute_reply": "2022-04-16T03:23:39.534771Z"
    },
    "papermill": {
     "duration": 0.03438,
     "end_time": "2022-04-16T03:23:39.537799",
     "exception": false,
     "start_time": "2022-04-16T03:23:39.503419",
     "status": "completed"
    },
    "tags": []
   },
   "outputs": [
    {
     "data": {
      "text/plain": [
       "0       <NA>\n",
       "1      58.19\n",
       "2      54.06\n",
       "3      50.48\n",
       "4      52.51\n",
       "       ...  \n",
       "264     <NA>\n",
       "265     <NA>\n",
       "266     <NA>\n",
       "267     <NA>\n",
       "268     <NA>\n",
       "Name: Revenue, Length: 269, dtype: string"
      ]
     },
     "execution_count": 9,
     "metadata": {},
     "output_type": "execute_result"
    }
   ],
   "source": [
    "array = data.Revenue.str.split(\" \",n = 1, expand = True)[:] \n",
    "data.Revenue = array[0]\n",
    "data.Revenue"
   ]
  },
  {
   "cell_type": "code",
   "execution_count": 10,
   "id": "3e4f1f05",
   "metadata": {
    "execution": {
     "iopub.execute_input": "2022-04-16T03:23:39.580834Z",
     "iopub.status.busy": "2022-04-16T03:23:39.580542Z",
     "iopub.status.idle": "2022-04-16T03:23:39.594556Z",
     "shell.execute_reply": "2022-04-16T03:23:39.593604Z"
    },
    "papermill": {
     "duration": 0.039176,
     "end_time": "2022-04-16T03:23:39.597661",
     "exception": false,
     "start_time": "2022-04-16T03:23:39.558485",
     "status": "completed"
    },
    "tags": []
   },
   "outputs": [
    {
     "name": "stdout",
     "output_type": "stream",
     "text": [
      "<class 'pandas.core.frame.DataFrame'>\n",
      "RangeIndex: 269 entries, 0 to 268\n",
      "Data columns (total 8 columns):\n",
      " #   Column      Non-Null Count  Dtype  \n",
      "---  ------      --------------  -----  \n",
      " 0   Symbol      269 non-null    string \n",
      " 1   Year        269 non-null    int64  \n",
      " 2   Name        269 non-null    string \n",
      " 3   Country     269 non-null    string \n",
      " 4   Category    269 non-null    string \n",
      " 5   Market cap  254 non-null    object \n",
      " 6   Revenue     189 non-null    float64\n",
      " 7   Earnings    171 non-null    object \n",
      "dtypes: float64(1), int64(1), object(2), string(4)\n",
      "memory usage: 16.9+ KB\n"
     ]
    }
   ],
   "source": [
    "data.Revenue = data.Revenue.astype(\"float64\")\n",
    "data.info()"
   ]
  },
  {
   "cell_type": "code",
   "execution_count": 11,
   "id": "a4aa648d",
   "metadata": {
    "execution": {
     "iopub.execute_input": "2022-04-16T03:23:39.642778Z",
     "iopub.status.busy": "2022-04-16T03:23:39.642503Z",
     "iopub.status.idle": "2022-04-16T03:23:39.666432Z",
     "shell.execute_reply": "2022-04-16T03:23:39.665440Z"
    },
    "papermill": {
     "duration": 0.048667,
     "end_time": "2022-04-16T03:23:39.668755",
     "exception": false,
     "start_time": "2022-04-16T03:23:39.620088",
     "status": "completed"
    },
    "tags": []
   },
   "outputs": [
    {
     "data": {
      "text/html": [
       "<div>\n",
       "<style scoped>\n",
       "    .dataframe tbody tr th:only-of-type {\n",
       "        vertical-align: middle;\n",
       "    }\n",
       "\n",
       "    .dataframe tbody tr th {\n",
       "        vertical-align: top;\n",
       "    }\n",
       "\n",
       "    .dataframe thead th {\n",
       "        text-align: right;\n",
       "    }\n",
       "</style>\n",
       "<table border=\"1\" class=\"dataframe\">\n",
       "  <thead>\n",
       "    <tr style=\"text-align: right;\">\n",
       "      <th></th>\n",
       "      <th>Symbol</th>\n",
       "      <th>Year</th>\n",
       "      <th>Name</th>\n",
       "      <th>Country</th>\n",
       "      <th>Category</th>\n",
       "      <th>Market cap</th>\n",
       "      <th>Revenue</th>\n",
       "      <th>Earnings</th>\n",
       "    </tr>\n",
       "  </thead>\n",
       "  <tbody>\n",
       "    <tr>\n",
       "      <th>0</th>\n",
       "      <td>AM.PA</td>\n",
       "      <td>2022</td>\n",
       "      <td>Dassault Aviation</td>\n",
       "      <td>France</td>\n",
       "      <td>Aircraft manufacturers|Defense contractors|Man...</td>\n",
       "      <td>$11.91 B</td>\n",
       "      <td>NaN</td>\n",
       "      <td>NaN</td>\n",
       "    </tr>\n",
       "    <tr>\n",
       "      <th>1</th>\n",
       "      <td>BA</td>\n",
       "      <td>2001</td>\n",
       "      <td>Boeing</td>\n",
       "      <td>USA</td>\n",
       "      <td>Aircraft manufacturers|Aerospace|Dow jones|Man...</td>\n",
       "      <td>$30.94 B</td>\n",
       "      <td>58.19</td>\n",
       "      <td>NaN</td>\n",
       "    </tr>\n",
       "    <tr>\n",
       "      <th>2</th>\n",
       "      <td>BA</td>\n",
       "      <td>2002</td>\n",
       "      <td>Boeing</td>\n",
       "      <td>USA</td>\n",
       "      <td>Aircraft manufacturers|Aerospace|Dow jones|Man...</td>\n",
       "      <td>$26.37 B</td>\n",
       "      <td>54.06</td>\n",
       "      <td>NaN</td>\n",
       "    </tr>\n",
       "    <tr>\n",
       "      <th>3</th>\n",
       "      <td>BA</td>\n",
       "      <td>2003</td>\n",
       "      <td>Boeing</td>\n",
       "      <td>USA</td>\n",
       "      <td>Aircraft manufacturers|Aerospace|Dow jones|Man...</td>\n",
       "      <td>$33.72 B</td>\n",
       "      <td>50.48</td>\n",
       "      <td>NaN</td>\n",
       "    </tr>\n",
       "    <tr>\n",
       "      <th>4</th>\n",
       "      <td>BA</td>\n",
       "      <td>2004</td>\n",
       "      <td>Boeing</td>\n",
       "      <td>USA</td>\n",
       "      <td>Aircraft manufacturers|Aerospace|Dow jones|Man...</td>\n",
       "      <td>$43.08 B</td>\n",
       "      <td>52.51</td>\n",
       "      <td>NaN</td>\n",
       "    </tr>\n",
       "    <tr>\n",
       "      <th>...</th>\n",
       "      <td>...</td>\n",
       "      <td>...</td>\n",
       "      <td>...</td>\n",
       "      <td>...</td>\n",
       "      <td>...</td>\n",
       "      <td>...</td>\n",
       "      <td>...</td>\n",
       "      <td>...</td>\n",
       "    </tr>\n",
       "    <tr>\n",
       "      <th>264</th>\n",
       "      <td>SAFRF</td>\n",
       "      <td>2018</td>\n",
       "      <td>Safran</td>\n",
       "      <td>France</td>\n",
       "      <td>CAC 40|Aerospace|Defense contractors</td>\n",
       "      <td>$52.36 B</td>\n",
       "      <td>NaN</td>\n",
       "      <td>NaN</td>\n",
       "    </tr>\n",
       "    <tr>\n",
       "      <th>265</th>\n",
       "      <td>SAFRF</td>\n",
       "      <td>2019</td>\n",
       "      <td>Safran</td>\n",
       "      <td>France</td>\n",
       "      <td>CAC 40|Aerospace|Defense contractors</td>\n",
       "      <td>$65.48 B</td>\n",
       "      <td>NaN</td>\n",
       "      <td>NaN</td>\n",
       "    </tr>\n",
       "    <tr>\n",
       "      <th>266</th>\n",
       "      <td>SAFRF</td>\n",
       "      <td>2020</td>\n",
       "      <td>Safran</td>\n",
       "      <td>France</td>\n",
       "      <td>CAC 40|Aerospace|Defense contractors</td>\n",
       "      <td>$60.88 B</td>\n",
       "      <td>NaN</td>\n",
       "      <td>NaN</td>\n",
       "    </tr>\n",
       "    <tr>\n",
       "      <th>267</th>\n",
       "      <td>SAFRF</td>\n",
       "      <td>2021</td>\n",
       "      <td>Safran</td>\n",
       "      <td>France</td>\n",
       "      <td>CAC 40|Aerospace|Defense contractors</td>\n",
       "      <td>$52.02 B</td>\n",
       "      <td>NaN</td>\n",
       "      <td>NaN</td>\n",
       "    </tr>\n",
       "    <tr>\n",
       "      <th>268</th>\n",
       "      <td>SAFRF</td>\n",
       "      <td>2022</td>\n",
       "      <td>Safran</td>\n",
       "      <td>France</td>\n",
       "      <td>CAC 40|Aerospace|Defense contractors</td>\n",
       "      <td>$46.60 B</td>\n",
       "      <td>NaN</td>\n",
       "      <td>NaN</td>\n",
       "    </tr>\n",
       "  </tbody>\n",
       "</table>\n",
       "<p>269 rows × 8 columns</p>\n",
       "</div>"
      ],
      "text/plain": [
       "    Symbol  Year               Name Country  \\\n",
       "0    AM.PA  2022  Dassault Aviation  France   \n",
       "1       BA  2001             Boeing     USA   \n",
       "2       BA  2002             Boeing     USA   \n",
       "3       BA  2003             Boeing     USA   \n",
       "4       BA  2004             Boeing     USA   \n",
       "..     ...   ...                ...     ...   \n",
       "264  SAFRF  2018             Safran  France   \n",
       "265  SAFRF  2019             Safran  France   \n",
       "266  SAFRF  2020             Safran  France   \n",
       "267  SAFRF  2021             Safran  France   \n",
       "268  SAFRF  2022             Safran  France   \n",
       "\n",
       "                                              Category Market cap  Revenue  \\\n",
       "0    Aircraft manufacturers|Defense contractors|Man...   $11.91 B      NaN   \n",
       "1    Aircraft manufacturers|Aerospace|Dow jones|Man...   $30.94 B    58.19   \n",
       "2    Aircraft manufacturers|Aerospace|Dow jones|Man...   $26.37 B    54.06   \n",
       "3    Aircraft manufacturers|Aerospace|Dow jones|Man...   $33.72 B    50.48   \n",
       "4    Aircraft manufacturers|Aerospace|Dow jones|Man...   $43.08 B    52.51   \n",
       "..                                                 ...        ...      ...   \n",
       "264               CAC 40|Aerospace|Defense contractors   $52.36 B      NaN   \n",
       "265               CAC 40|Aerospace|Defense contractors   $65.48 B      NaN   \n",
       "266               CAC 40|Aerospace|Defense contractors   $60.88 B      NaN   \n",
       "267               CAC 40|Aerospace|Defense contractors   $52.02 B      NaN   \n",
       "268               CAC 40|Aerospace|Defense contractors   $46.60 B      NaN   \n",
       "\n",
       "    Earnings  \n",
       "0        NaN  \n",
       "1        NaN  \n",
       "2        NaN  \n",
       "3        NaN  \n",
       "4        NaN  \n",
       "..       ...  \n",
       "264      NaN  \n",
       "265      NaN  \n",
       "266      NaN  \n",
       "267      NaN  \n",
       "268      NaN  \n",
       "\n",
       "[269 rows x 8 columns]"
      ]
     },
     "execution_count": 11,
     "metadata": {},
     "output_type": "execute_result"
    }
   ],
   "source": [
    "data"
   ]
  },
  {
   "cell_type": "code",
   "execution_count": 12,
   "id": "a0765a48",
   "metadata": {
    "execution": {
     "iopub.execute_input": "2022-04-16T03:23:39.715623Z",
     "iopub.status.busy": "2022-04-16T03:23:39.714816Z",
     "iopub.status.idle": "2022-04-16T03:23:39.741947Z",
     "shell.execute_reply": "2022-04-16T03:23:39.741204Z"
    },
    "papermill": {
     "duration": 0.053019,
     "end_time": "2022-04-16T03:23:39.744903",
     "exception": false,
     "start_time": "2022-04-16T03:23:39.691884",
     "status": "completed"
    },
    "tags": []
   },
   "outputs": [
    {
     "name": "stdout",
     "output_type": "stream",
     "text": [
      "<class 'pandas.core.frame.DataFrame'>\n",
      "RangeIndex: 269 entries, 0 to 268\n",
      "Data columns (total 8 columns):\n",
      " #   Column      Non-Null Count  Dtype  \n",
      "---  ------      --------------  -----  \n",
      " 0   Symbol      269 non-null    string \n",
      " 1   Year        269 non-null    int64  \n",
      " 2   Name        269 non-null    string \n",
      " 3   Country     269 non-null    string \n",
      " 4   Category    269 non-null    string \n",
      " 5   Market cap  254 non-null    float32\n",
      " 6   Revenue     189 non-null    float64\n",
      " 7   Earnings    171 non-null    float64\n",
      "dtypes: float32(1), float64(2), int64(1), string(4)\n",
      "memory usage: 15.9 KB\n"
     ]
    }
   ],
   "source": [
    "data.Earnings = data.Earnings.astype(\"string\")\n",
    "array = data.Earnings.str.split(\"$\",n = 1, expand = True)[:]\n",
    "data.Earnings = array[1]\n",
    "array = data.Earnings.str.split(\" \",n = 1, expand = True)[:]\n",
    "data.Earnings = array[0]\n",
    "data.Earnings =data.Earnings.astype('float64')\n",
    "\n",
    "\n",
    "data['Market cap'] = data['Market cap'].astype('string')\n",
    "array = data['Market cap'].str.split('$',n = 1, expand = True)[:]\n",
    "data['Market cap'] = array[1]\n",
    "array = data['Market cap'].str.split(\" \",n=1,expand = True)[:]\n",
    "data['Market cap']= array[0]\n",
    "data['Market cap'] = pd.to_numeric(data['Market cap'],errors ='coerce').astype(np.float32)\n",
    "data.info()"
   ]
  },
  {
   "cell_type": "code",
   "execution_count": 13,
   "id": "7a93dbfc",
   "metadata": {
    "execution": {
     "iopub.execute_input": "2022-04-16T03:23:39.794275Z",
     "iopub.status.busy": "2022-04-16T03:23:39.793990Z",
     "iopub.status.idle": "2022-04-16T03:23:39.808813Z",
     "shell.execute_reply": "2022-04-16T03:23:39.808155Z"
    },
    "papermill": {
     "duration": 0.04278,
     "end_time": "2022-04-16T03:23:39.811066",
     "exception": false,
     "start_time": "2022-04-16T03:23:39.768286",
     "status": "completed"
    },
    "tags": []
   },
   "outputs": [
    {
     "data": {
      "text/html": [
       "<div>\n",
       "<style scoped>\n",
       "    .dataframe tbody tr th:only-of-type {\n",
       "        vertical-align: middle;\n",
       "    }\n",
       "\n",
       "    .dataframe tbody tr th {\n",
       "        vertical-align: top;\n",
       "    }\n",
       "\n",
       "    .dataframe thead th {\n",
       "        text-align: right;\n",
       "    }\n",
       "</style>\n",
       "<table border=\"1\" class=\"dataframe\">\n",
       "  <thead>\n",
       "    <tr style=\"text-align: right;\">\n",
       "      <th></th>\n",
       "      <th>Country</th>\n",
       "      <th>Market cap</th>\n",
       "    </tr>\n",
       "  </thead>\n",
       "  <tbody>\n",
       "    <tr>\n",
       "      <th>0</th>\n",
       "      <td>USA</td>\n",
       "      <td>183.369995</td>\n",
       "    </tr>\n",
       "    <tr>\n",
       "      <th>1</th>\n",
       "      <td>Netherlands</td>\n",
       "      <td>114.339996</td>\n",
       "    </tr>\n",
       "    <tr>\n",
       "      <th>2</th>\n",
       "      <td>France</td>\n",
       "      <td>65.480003</td>\n",
       "    </tr>\n",
       "    <tr>\n",
       "      <th>3</th>\n",
       "      <td>UK</td>\n",
       "      <td>30.209999</td>\n",
       "    </tr>\n",
       "    <tr>\n",
       "      <th>4</th>\n",
       "      <td>Germany</td>\n",
       "      <td>7.220000</td>\n",
       "    </tr>\n",
       "    <tr>\n",
       "      <th>5</th>\n",
       "      <td>India</td>\n",
       "      <td>6.900000</td>\n",
       "    </tr>\n",
       "    <tr>\n",
       "      <th>6</th>\n",
       "      <td>Italy</td>\n",
       "      <td>NaN</td>\n",
       "    </tr>\n",
       "  </tbody>\n",
       "</table>\n",
       "</div>"
      ],
      "text/plain": [
       "       Country  Market cap\n",
       "0          USA  183.369995\n",
       "1  Netherlands  114.339996\n",
       "2       France   65.480003\n",
       "3           UK   30.209999\n",
       "4      Germany    7.220000\n",
       "5        India    6.900000\n",
       "6        Italy         NaN"
      ]
     },
     "execution_count": 13,
     "metadata": {},
     "output_type": "execute_result"
    }
   ],
   "source": [
    "data.groupby('Country')['Market cap'].max().sort_values(ascending=False).reset_index()"
   ]
  },
  {
   "cell_type": "code",
   "execution_count": 14,
   "id": "c5a9fa76",
   "metadata": {
    "execution": {
     "iopub.execute_input": "2022-04-16T03:23:39.858818Z",
     "iopub.status.busy": "2022-04-16T03:23:39.858361Z",
     "iopub.status.idle": "2022-04-16T03:23:39.870656Z",
     "shell.execute_reply": "2022-04-16T03:23:39.870029Z"
    },
    "papermill": {
     "duration": 0.038718,
     "end_time": "2022-04-16T03:23:39.872607",
     "exception": false,
     "start_time": "2022-04-16T03:23:39.833889",
     "status": "completed"
    },
    "tags": []
   },
   "outputs": [
    {
     "data": {
      "text/html": [
       "<div>\n",
       "<style scoped>\n",
       "    .dataframe tbody tr th:only-of-type {\n",
       "        vertical-align: middle;\n",
       "    }\n",
       "\n",
       "    .dataframe tbody tr th {\n",
       "        vertical-align: top;\n",
       "    }\n",
       "\n",
       "    .dataframe thead th {\n",
       "        text-align: right;\n",
       "    }\n",
       "</style>\n",
       "<table border=\"1\" class=\"dataframe\">\n",
       "  <thead>\n",
       "    <tr style=\"text-align: right;\">\n",
       "      <th></th>\n",
       "      <th>Name</th>\n",
       "      <th>Market cap</th>\n",
       "    </tr>\n",
       "  </thead>\n",
       "  <tbody>\n",
       "    <tr>\n",
       "      <th>0</th>\n",
       "      <td>Boeing</td>\n",
       "      <td>183.369995</td>\n",
       "    </tr>\n",
       "    <tr>\n",
       "      <th>1</th>\n",
       "      <td>Raytheon Technologies</td>\n",
       "      <td>149.970001</td>\n",
       "    </tr>\n",
       "    <tr>\n",
       "      <th>2</th>\n",
       "      <td>Honeywell</td>\n",
       "      <td>149.240005</td>\n",
       "    </tr>\n",
       "    <tr>\n",
       "      <th>3</th>\n",
       "      <td>Lockheed Martin</td>\n",
       "      <td>124.760002</td>\n",
       "    </tr>\n",
       "    <tr>\n",
       "      <th>4</th>\n",
       "      <td>Airbus</td>\n",
       "      <td>114.339996</td>\n",
       "    </tr>\n",
       "    <tr>\n",
       "      <th>5</th>\n",
       "      <td>Northrop Grumman</td>\n",
       "      <td>73.139999</td>\n",
       "    </tr>\n",
       "    <tr>\n",
       "      <th>6</th>\n",
       "      <td>General Dynamics</td>\n",
       "      <td>68.110001</td>\n",
       "    </tr>\n",
       "    <tr>\n",
       "      <th>7</th>\n",
       "      <td>Safran</td>\n",
       "      <td>65.480003</td>\n",
       "    </tr>\n",
       "    <tr>\n",
       "      <th>8</th>\n",
       "      <td>L3Harris Technologies</td>\n",
       "      <td>51.520000</td>\n",
       "    </tr>\n",
       "    <tr>\n",
       "      <th>9</th>\n",
       "      <td>BAE Systems</td>\n",
       "      <td>30.209999</td>\n",
       "    </tr>\n",
       "    <tr>\n",
       "      <th>10</th>\n",
       "      <td>Thales</td>\n",
       "      <td>25.250000</td>\n",
       "    </tr>\n",
       "    <tr>\n",
       "      <th>11</th>\n",
       "      <td>Dassault Aviation</td>\n",
       "      <td>11.910000</td>\n",
       "    </tr>\n",
       "    <tr>\n",
       "      <th>12</th>\n",
       "      <td>Huntington Ingalls Industries</td>\n",
       "      <td>10.660000</td>\n",
       "    </tr>\n",
       "    <tr>\n",
       "      <th>13</th>\n",
       "      <td>Rheinmetall</td>\n",
       "      <td>7.220000</td>\n",
       "    </tr>\n",
       "    <tr>\n",
       "      <th>14</th>\n",
       "      <td>Bharat Electronics</td>\n",
       "      <td>6.900000</td>\n",
       "    </tr>\n",
       "    <tr>\n",
       "      <th>15</th>\n",
       "      <td>Hindustan Aeronautics</td>\n",
       "      <td>NaN</td>\n",
       "    </tr>\n",
       "    <tr>\n",
       "      <th>16</th>\n",
       "      <td>Leonardo</td>\n",
       "      <td>NaN</td>\n",
       "    </tr>\n",
       "  </tbody>\n",
       "</table>\n",
       "</div>"
      ],
      "text/plain": [
       "                             Name  Market cap\n",
       "0                          Boeing  183.369995\n",
       "1           Raytheon Technologies  149.970001\n",
       "2                       Honeywell  149.240005\n",
       "3                 Lockheed Martin  124.760002\n",
       "4                          Airbus  114.339996\n",
       "5                Northrop Grumman   73.139999\n",
       "6                General Dynamics   68.110001\n",
       "7                          Safran   65.480003\n",
       "8           L3Harris Technologies   51.520000\n",
       "9                     BAE Systems   30.209999\n",
       "10                         Thales   25.250000\n",
       "11              Dassault Aviation   11.910000\n",
       "12  Huntington Ingalls Industries   10.660000\n",
       "13                    Rheinmetall    7.220000\n",
       "14             Bharat Electronics    6.900000\n",
       "15          Hindustan Aeronautics         NaN\n",
       "16                       Leonardo         NaN"
      ]
     },
     "execution_count": 14,
     "metadata": {},
     "output_type": "execute_result"
    }
   ],
   "source": [
    "data.groupby('Name')['Market cap'].max().sort_values(ascending=False).reset_index()"
   ]
  },
  {
   "cell_type": "code",
   "execution_count": 15,
   "id": "c2d4aa75",
   "metadata": {
    "execution": {
     "iopub.execute_input": "2022-04-16T03:23:39.921566Z",
     "iopub.status.busy": "2022-04-16T03:23:39.921105Z",
     "iopub.status.idle": "2022-04-16T03:23:40.457277Z",
     "shell.execute_reply": "2022-04-16T03:23:40.456553Z"
    },
    "papermill": {
     "duration": 0.563051,
     "end_time": "2022-04-16T03:23:40.459137",
     "exception": false,
     "start_time": "2022-04-16T03:23:39.896086",
     "status": "completed"
    },
    "tags": []
   },
   "outputs": [
    {
     "name": "stdout",
     "output_type": "stream",
     "text": [
      "Country\n",
      "USA            183.369995\n",
      "Netherlands    114.339996\n",
      "France          65.480003\n",
      "UK              30.209999\n",
      "Germany          7.220000\n",
      "India            6.900000\n",
      "Italy                 NaN\n",
      "Name: Market cap, dtype: float32\n",
      "Name\n",
      "Boeing                           183.369995\n",
      "Raytheon Technologies            149.970001\n",
      "Honeywell                        149.240005\n",
      "Lockheed Martin                  124.760002\n",
      "Airbus                           114.339996\n",
      "Northrop Grumman                  73.139999\n",
      "General Dynamics                  68.110001\n",
      "Safran                            65.480003\n",
      "L3Harris Technologies             51.520000\n",
      "BAE Systems                       30.209999\n",
      "Thales                            25.250000\n",
      "Dassault Aviation                 11.910000\n",
      "Huntington Ingalls Industries     10.660000\n",
      "Rheinmetall                        7.220000\n",
      "Bharat Electronics                 6.900000\n",
      "Hindustan Aeronautics                   NaN\n",
      "Leonardo                                NaN\n",
      "Name: Market cap, dtype: float32\n"
     ]
    },
    {
     "data": {
      "text/plain": [
       "Text(0.5, 0, 'Market Capital')"
      ]
     },
     "execution_count": 15,
     "metadata": {},
     "output_type": "execute_result"
    },
    {
     "data": {
      "image/png": "[encoded data removed]",
      "text/plain": [
       "<Figure size 1584x432 with 2 Axes>"
      ]
     },
     "metadata": {
      "needs_background": "light"
     },
     "output_type": "display_data"
    }
   ],
   "source": [
    "plt.figure(figsize=(22,6))\n",
    "plt.subplot(1, 2, 1)\n",
    "TopFiveManufacturingSite=data.groupby('Country')['Market cap'].max().sort_values(ascending=False)\n",
    "print(TopFiveManufacturingSite)\n",
    "TopFiveManufacturingSite.plot(kind='barh')\n",
    "plt.title('Top Countries  \\n')\n",
    "plt.ylabel('Total Count')\n",
    "plt.xlabel('Market Capital')\n",
    "\n",
    "plt.subplot(1, 2, 2)\n",
    "TopFiveManufacturingSite=data.groupby('Name')['Market cap'].max().sort_values(ascending=False)\n",
    "print(TopFiveManufacturingSite)\n",
    "TopFiveManufacturingSite.plot(kind='barh')\n",
    "plt.title('Top Contractors \\n')\n",
    "plt.ylabel('Total Count')\n",
    "plt.xlabel('Market Capital')"
   ]
  },
  {
   "cell_type": "code",
   "execution_count": 16,
   "id": "208841d0",
   "metadata": {
    "execution": {
     "iopub.execute_input": "2022-04-16T03:23:40.513671Z",
     "iopub.status.busy": "2022-04-16T03:23:40.513107Z",
     "iopub.status.idle": "2022-04-16T03:23:40.891778Z",
     "shell.execute_reply": "2022-04-16T03:23:40.890764Z"
    },
    "papermill": {
     "duration": 0.409202,
     "end_time": "2022-04-16T03:23:40.894785",
     "exception": false,
     "start_time": "2022-04-16T03:23:40.485583",
     "status": "completed"
    },
    "tags": []
   },
   "outputs": [
    {
     "data": {
      "text/plain": [
       "([<matplotlib.axis.XTick at 0x7fde1cfd6e10>,\n",
       "  <matplotlib.axis.XTick at 0x7fde1cfe61d0>,\n",
       "  <matplotlib.axis.XTick at 0x7fde1cfd6850>,\n",
       "  <matplotlib.axis.XTick at 0x7fde1cfb70d0>,\n",
       "  <matplotlib.axis.XTick at 0x7fde1cf514d0>,\n",
       "  <matplotlib.axis.XTick at 0x7fde1cf51810>,\n",
       "  <matplotlib.axis.XTick at 0x7fde1cf5b590>,\n",
       "  <matplotlib.axis.XTick at 0x7fde1cf5b4d0>,\n",
       "  <matplotlib.axis.XTick at 0x7fde1cf673d0>,\n",
       "  <matplotlib.axis.XTick at 0x7fde1cf67890>,\n",
       "  <matplotlib.axis.XTick at 0x7fde1cf51c50>,\n",
       "  <matplotlib.axis.XTick at 0x7fde1cf67d10>,\n",
       "  <matplotlib.axis.XTick at 0x7fde1cf67d50>,\n",
       "  <matplotlib.axis.XTick at 0x7fde1cf711d0>,\n",
       "  <matplotlib.axis.XTick at 0x7fde1cf71710>,\n",
       "  <matplotlib.axis.XTick at 0x7fde1cf79610>,\n",
       "  <matplotlib.axis.XTick at 0x7fde1cf79550>,\n",
       "  <matplotlib.axis.XTick at 0x7fde1cf79e10>,\n",
       "  <matplotlib.axis.XTick at 0x7fde1cf67a10>,\n",
       "  <matplotlib.axis.XTick at 0x7fde1cf86050>,\n",
       "  <matplotlib.axis.XTick at 0x7fde1cf86110>,\n",
       "  <matplotlib.axis.XTick at 0x7fde1cf869d0>],\n",
       " [Text(0, 0, ''),\n",
       "  Text(0, 0, ''),\n",
       "  Text(0, 0, ''),\n",
       "  Text(0, 0, ''),\n",
       "  Text(0, 0, ''),\n",
       "  Text(0, 0, ''),\n",
       "  Text(0, 0, ''),\n",
       "  Text(0, 0, ''),\n",
       "  Text(0, 0, ''),\n",
       "  Text(0, 0, ''),\n",
       "  Text(0, 0, ''),\n",
       "  Text(0, 0, ''),\n",
       "  Text(0, 0, ''),\n",
       "  Text(0, 0, ''),\n",
       "  Text(0, 0, ''),\n",
       "  Text(0, 0, ''),\n",
       "  Text(0, 0, ''),\n",
       "  Text(0, 0, ''),\n",
       "  Text(0, 0, ''),\n",
       "  Text(0, 0, ''),\n",
       "  Text(0, 0, ''),\n",
       "  Text(0, 0, '')])"
      ]
     },
     "execution_count": 16,
     "metadata": {},
     "output_type": "execute_result"
    },
    {
     "data": {
      "image/png": "[encoded data removed]",
      "text/plain": [
       "<Figure size 1296x432 with 1 Axes>"
      ]
     },
     "metadata": {
      "needs_background": "light"
     },
     "output_type": "display_data"
    }
   ],
   "source": [
    "temp3=data.copy()\n",
    "temp3_Bo=temp3.loc[temp3['Name'].str.contains(\"Boeing\", case=False)]\n",
    "temp3_Ab=temp3.loc[temp3['Name'].str.contains(\"Airbus\", case=False)]\n",
    "temp3_RT=temp3.loc[temp3['Name'].str.contains(\"Raytheon Technologies\", case=False)]\n",
    "temp3_Hw=temp3.loc[temp3['Name'].str.contains(\"Honeywell\", case=False)]\n",
    "temp3_Lm=temp3.loc[temp3['Name'].str.contains(\"Lockheed Martin\", case=False)]\n",
    "plt.figure(figsize=(18,6))\n",
    "plt.plot('Year','Market cap',data=temp3_Bo,color='#5C98A3', marker = \".\", linewidth=2)\n",
    "plt.plot('Year','Market cap',data=temp3_Ab,color='#7EE0B2', marker = \".\", linewidth=2)\n",
    "plt.plot('Year','Market cap',data=temp3_RT,color='#7ED2E0', marker = \".\", linewidth=2)\n",
    "plt.plot('Year','Market cap',data=temp3_Hw,color='#E07E98', marker = \".\", linewidth=2)\n",
    "plt.plot('Year','Market cap',data=temp3_Lm,color='#E0BD93', marker = \".\", linewidth=2)\n",
    "\n",
    "plt.legend([\"Boeing\", \"Airbus\",'Raytheon Technologies','Honeywell','Lockheed Martin'], loc =\"upper left\")\n",
    "plt.xlabel('Year', fontsize=10)\n",
    "plt.ylabel('Market Capital', fontsize=10)\n",
    "plt.xticks(temp3_Bo['Year'])"
   ]
  }
 ],
 "metadata": {
  "kernelspec": {
   "display_name": "Python 3",
   "language": "python",
   "name": "python3"
  },
  "language_info": {
   "codemirror_mode": {
    "name": "ipython",
    "version": 3
   },
   "file_extension": ".py",
   "mimetype": "text/x-python",
   "name": "python",
   "nbconvert_exporter": "python",
   "pygments_lexer": "ipython3",
   "version": "3.7.12"
  },
  "papermill": {
   "default_parameters": {},
   "duration": 14.11751,
   "end_time": "2022-04-16T03:23:41.645595",
   "environment_variables": {},
   "exception": null,
   "input_path": "__notebook__.ipynb",
   "output_path": "__notebook__.ipynb",
   "parameters": {},
   "start_time": "2022-04-16T03:23:27.528085",
   "version": "2.3.4"
  }
 },
 "nbformat": 4,
 "nbformat_minor": 5
}
