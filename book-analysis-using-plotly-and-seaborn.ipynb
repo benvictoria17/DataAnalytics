{
 "cells": [
  {
   "cell_type": "code",
   "execution_count": 1,
   "id": "eleven-liver",
   "metadata": {
    "_cell_guid": "b1076dfc-b9ad-4769-8c92-a6c4dae69d19",
    "_uuid": "8f2839f25d086af736a60e9eeb907d3b93b6e0e5",
    "execution": {
     "iopub.execute_input": "2021-05-08T17:17:53.806674Z",
     "iopub.status.busy": "2021-05-08T17:17:53.805570Z",
     "iopub.status.idle": "2021-05-08T17:17:57.685292Z",
     "shell.execute_reply": "2021-05-08T17:17:57.684624Z"
    },
    "papermill": {
     "duration": 3.893587,
     "end_time": "2021-05-08T17:17:57.685472",
     "exception": false,
     "start_time": "2021-05-08T17:17:53.791885",
     "status": "completed"
    },
    "tags": []
   },
   "outputs": [],
   "source": [
    "from plotly.offline import iplot\n",
    "import cufflinks as cf\n",
    "import plotly as py\n",
    "import plotly.tools as tls\n",
    "import matplotlib.pyplot as plt\n",
    "import seaborn as sns"
   ]
  },
  {
   "cell_type": "code",
   "execution_count": 2,
   "id": "neural-quebec",
   "metadata": {
    "execution": {
     "iopub.execute_input": "2021-05-08T17:17:57.710754Z",
     "iopub.status.busy": "2021-05-08T17:17:57.709919Z",
     "iopub.status.idle": "2021-05-08T17:17:57.867855Z",
     "shell.execute_reply": "2021-05-08T17:17:57.866909Z"
    },
    "papermill": {
     "duration": 0.172298,
     "end_time": "2021-05-08T17:17:57.868087",
     "exception": false,
     "start_time": "2021-05-08T17:17:57.695789",
     "status": "completed"
    },
    "tags": []
   },
   "outputs": [
    {
     "ename": "NameError",
     "evalue": "name 'pd' is not defined",
     "output_type": "error",
     "traceback": [
      "\u001b[0;31m---------------------------------------------------------------------------\u001b[0m",
      "\u001b[0;31mNameError\u001b[0m                                 Traceback (most recent call last)",
      "\u001b[0;32m<ipython-input-2-55e19071a4ac>\u001b[0m in \u001b[0;36m<module>\u001b[0;34m\u001b[0m\n\u001b[0;32m----> 1\u001b[0;31m \u001b[0mbook_data\u001b[0m \u001b[0;34m=\u001b[0m \u001b[0mpd\u001b[0m\u001b[0;34m.\u001b[0m\u001b[0mread_csv\u001b[0m\u001b[0;34m(\u001b[0m\u001b[0;34m\"https://raw.githubusercontent.com/benvictoria17/DataVisualization/master/dataset/Amazon%20Top%2050%20Bestselling%20Books%202009%20-%202019/bestsellers%20with%20categories.csv\"\u001b[0m\u001b[0;34m)\u001b[0m\u001b[0;34m\u001b[0m\u001b[0;34m\u001b[0m\u001b[0m\n\u001b[0m\u001b[1;32m      2\u001b[0m \u001b[0mbook_data\u001b[0m\u001b[0;34m\u001b[0m\u001b[0;34m\u001b[0m\u001b[0m\n",
      "\u001b[0;31mNameError\u001b[0m: name 'pd' is not defined"
     ]
    }
   ],
   "source": [
    "book_data = pd.read_csv(\"https://raw.githubusercontent.com/benvictoria17/DataVisualization/master/dataset/Amazon%20Top%2050%20Bestselling%20Books%202009%20-%202019/bestsellers%20with%20categories.csv\") \n",
    "book_data"
   ]
  },
  {
   "cell_type": "code",
   "execution_count": 3,
   "id": "frequent-explosion",
   "metadata": {
    "execution": {
     "iopub.execute_input": "2021-05-08T17:17:57.906751Z",
     "iopub.status.busy": "2021-05-08T17:17:57.905811Z",
     "iopub.status.idle": "2021-05-08T17:17:57.910530Z",
     "shell.execute_reply": "2021-05-08T17:17:57.910022Z"
    },
    "papermill": {
     "duration": 0.031725,
     "end_time": "2021-05-08T17:17:57.910684",
     "exception": false,
     "start_time": "2021-05-08T17:17:57.878959",
     "status": "completed"
    },
    "tags": []
   },
   "outputs": [
    {
     "ename": "NameError",
     "evalue": "name 'book_data' is not defined",
     "output_type": "error",
     "traceback": [
      "\u001b[0;31m---------------------------------------------------------------------------\u001b[0m",
      "\u001b[0;31mNameError\u001b[0m                                 Traceback (most recent call last)",
      "\u001b[0;32m<ipython-input-3-a8b527164181>\u001b[0m in \u001b[0;36m<module>\u001b[0;34m\u001b[0m\n\u001b[0;32m----> 1\u001b[0;31m \u001b[0mbook_data\u001b[0m\u001b[0;34m.\u001b[0m\u001b[0minfo\u001b[0m\u001b[0;34m(\u001b[0m\u001b[0;34m)\u001b[0m\u001b[0;34m\u001b[0m\u001b[0;34m\u001b[0m\u001b[0m\n\u001b[0m",
      "\u001b[0;31mNameError\u001b[0m: name 'book_data' is not defined"
     ]
    }
   ],
   "source": [
    "book_data.info()"
   ]
  },
  {
   "cell_type": "code",
   "execution_count": 4,
   "id": "collected-plant",
   "metadata": {
    "execution": {
     "iopub.execute_input": "2021-05-08T17:17:57.950324Z",
     "iopub.status.busy": "2021-05-08T17:17:57.936721Z",
     "iopub.status.idle": "2021-05-08T17:17:57.953174Z",
     "shell.execute_reply": "2021-05-08T17:17:57.953658Z"
    },
    "papermill": {
     "duration": 0.03212,
     "end_time": "2021-05-08T17:17:57.953833",
     "exception": false,
     "start_time": "2021-05-08T17:17:57.921713",
     "status": "completed"
    },
    "tags": []
   },
   "outputs": [
    {
     "ename": "NameError",
     "evalue": "name 'book_data' is not defined",
     "output_type": "error",
     "traceback": [
      "\u001b[0;31m---------------------------------------------------------------------------\u001b[0m",
      "\u001b[0;31mNameError\u001b[0m                                 Traceback (most recent call last)",
      "\u001b[0;32m<ipython-input-4-25610f2e9572>\u001b[0m in \u001b[0;36m<module>\u001b[0;34m\u001b[0m\n\u001b[0;32m----> 1\u001b[0;31m \u001b[0mbook_data\u001b[0m\u001b[0;34m.\u001b[0m\u001b[0mshape\u001b[0m\u001b[0;34m\u001b[0m\u001b[0;34m\u001b[0m\u001b[0m\n\u001b[0m",
      "\u001b[0;31mNameError\u001b[0m: name 'book_data' is not defined"
     ]
    }
   ],
   "source": [
    "book_data.shape"
   ]
  },
  {
   "cell_type": "code",
   "execution_count": 5,
   "id": "dried-stress",
   "metadata": {
    "execution": {
     "iopub.execute_input": "2021-05-08T17:17:57.987007Z",
     "iopub.status.busy": "2021-05-08T17:17:57.986327Z",
     "iopub.status.idle": "2021-05-08T17:17:57.997548Z",
     "shell.execute_reply": "2021-05-08T17:17:57.998103Z"
    },
    "papermill": {
     "duration": 0.033053,
     "end_time": "2021-05-08T17:17:57.998308",
     "exception": false,
     "start_time": "2021-05-08T17:17:57.965255",
     "status": "completed"
    },
    "tags": []
   },
   "outputs": [
    {
     "ename": "NameError",
     "evalue": "name 'book_data' is not defined",
     "output_type": "error",
     "traceback": [
      "\u001b[0;31m---------------------------------------------------------------------------\u001b[0m",
      "\u001b[0;31mNameError\u001b[0m                                 Traceback (most recent call last)",
      "\u001b[0;32m<ipython-input-5-fd946c04b9a5>\u001b[0m in \u001b[0;36m<module>\u001b[0;34m\u001b[0m\n\u001b[0;32m----> 1\u001b[0;31m \u001b[0mbook_type\u001b[0m \u001b[0;34m=\u001b[0m \u001b[0mbook_data\u001b[0m\u001b[0;34m[\u001b[0m\u001b[0;34m\"Genre\"\u001b[0m\u001b[0;34m]\u001b[0m\u001b[0;34m.\u001b[0m\u001b[0mvalue_counts\u001b[0m\u001b[0;34m(\u001b[0m\u001b[0;34m)\u001b[0m\u001b[0;34m\u001b[0m\u001b[0;34m\u001b[0m\u001b[0m\n\u001b[0m\u001b[1;32m      2\u001b[0m \u001b[0mbook_type\u001b[0m\u001b[0;34m\u001b[0m\u001b[0;34m\u001b[0m\u001b[0m\n",
      "\u001b[0;31mNameError\u001b[0m: name 'book_data' is not defined"
     ]
    }
   ],
   "source": [
    "book_type = book_data[\"Genre\"].value_counts()\n",
    "book_type"
   ]
  },
  {
   "cell_type": "code",
   "execution_count": 6,
   "id": "romantic-skill",
   "metadata": {
    "execution": {
     "iopub.execute_input": "2021-05-08T17:17:58.025778Z",
     "iopub.status.busy": "2021-05-08T17:17:58.025122Z",
     "iopub.status.idle": "2021-05-08T17:17:58.046911Z",
     "shell.execute_reply": "2021-05-08T17:17:58.046266Z"
    },
    "papermill": {
     "duration": 0.036711,
     "end_time": "2021-05-08T17:17:58.047052",
     "exception": false,
     "start_time": "2021-05-08T17:17:58.010341",
     "status": "completed"
    },
    "tags": []
   },
   "outputs": [
    {
     "data": {
      "text/html": [
       "        <script type=\"text/javascript\">\n",
       "        window.PlotlyConfig = {MathJaxConfig: 'local'};\n",
       "        if (window.MathJax) {MathJax.Hub.Config({SVG: {font: \"STIX-Web\"}});}\n",
       "        if (typeof require !== 'undefined') {\n",
       "        require.undef(\"plotly\");\n",
       "        requirejs.config({\n",
       "            paths: {\n",
       "                'plotly': ['https://cdn.plot.ly/plotly-latest.min']\n",
       "            }\n",
       "        });\n",
       "        require(['plotly'], function(Plotly) {\n",
       "            window._Plotly = Plotly;\n",
       "        });\n",
       "        }\n",
       "        </script>\n",
       "        "
      ]
     },
     "metadata": {},
     "output_type": "display_data"
    }
   ],
   "source": [
    "py.offline.init_notebook_mode(connected = True)"
   ]
  },
  {
   "cell_type": "code",
   "execution_count": 7,
   "id": "ruled-university",
   "metadata": {
    "execution": {
     "iopub.execute_input": "2021-05-08T17:17:58.083004Z",
     "iopub.status.busy": "2021-05-08T17:17:58.082291Z",
     "iopub.status.idle": "2021-05-08T17:17:58.094327Z",
     "shell.execute_reply": "2021-05-08T17:17:58.093708Z"
    },
    "papermill": {
     "duration": 0.034676,
     "end_time": "2021-05-08T17:17:58.094476",
     "exception": false,
     "start_time": "2021-05-08T17:17:58.059800",
     "status": "completed"
    },
    "tags": []
   },
   "outputs": [
    {
     "ename": "NameError",
     "evalue": "name 'book_data' is not defined",
     "output_type": "error",
     "traceback": [
      "\u001b[0;31m---------------------------------------------------------------------------\u001b[0m",
      "\u001b[0;31mNameError\u001b[0m                                 Traceback (most recent call last)",
      "\u001b[0;32m<ipython-input-7-8a08e890afc3>\u001b[0m in \u001b[0;36m<module>\u001b[0;34m\u001b[0m\n\u001b[0;32m----> 1\u001b[0;31m \u001b[0mbook_data\u001b[0m\u001b[0;34m.\u001b[0m\u001b[0mhead\u001b[0m\u001b[0;34m(\u001b[0m\u001b[0;36m20\u001b[0m\u001b[0;34m)\u001b[0m\u001b[0;34m\u001b[0m\u001b[0;34m\u001b[0m\u001b[0m\n\u001b[0m",
      "\u001b[0;31mNameError\u001b[0m: name 'book_data' is not defined"
     ]
    }
   ],
   "source": [
    "book_data.head(20)"
   ]
  },
  {
   "cell_type": "code",
   "execution_count": 8,
   "id": "prime-reach",
   "metadata": {
    "execution": {
     "iopub.execute_input": "2021-05-08T17:17:58.137149Z",
     "iopub.status.busy": "2021-05-08T17:17:58.136134Z",
     "iopub.status.idle": "2021-05-08T17:17:58.141884Z",
     "shell.execute_reply": "2021-05-08T17:17:58.141291Z"
    },
    "papermill": {
     "duration": 0.034539,
     "end_time": "2021-05-08T17:17:58.142098",
     "exception": false,
     "start_time": "2021-05-08T17:17:58.107559",
     "status": "completed"
    },
    "tags": []
   },
   "outputs": [
    {
     "ename": "NameError",
     "evalue": "name 'book_data' is not defined",
     "output_type": "error",
     "traceback": [
      "\u001b[0;31m---------------------------------------------------------------------------\u001b[0m",
      "\u001b[0;31mNameError\u001b[0m                                 Traceback (most recent call last)",
      "\u001b[0;32m<ipython-input-8-25610f2e9572>\u001b[0m in \u001b[0;36m<module>\u001b[0;34m\u001b[0m\n\u001b[0;32m----> 1\u001b[0;31m \u001b[0mbook_data\u001b[0m\u001b[0;34m.\u001b[0m\u001b[0mshape\u001b[0m\u001b[0;34m\u001b[0m\u001b[0;34m\u001b[0m\u001b[0m\n\u001b[0m",
      "\u001b[0;31mNameError\u001b[0m: name 'book_data' is not defined"
     ]
    }
   ],
   "source": [
    "book_data.shape"
   ]
  },
  {
   "cell_type": "code",
   "execution_count": 9,
   "id": "boring-designation",
   "metadata": {
    "execution": {
     "iopub.execute_input": "2021-05-08T17:17:58.183942Z",
     "iopub.status.busy": "2021-05-08T17:17:58.178257Z",
     "iopub.status.idle": "2021-05-08T17:17:58.190057Z",
     "shell.execute_reply": "2021-05-08T17:17:58.189422Z"
    },
    "papermill": {
     "duration": 0.034582,
     "end_time": "2021-05-08T17:17:58.190197",
     "exception": false,
     "start_time": "2021-05-08T17:17:58.155615",
     "status": "completed"
    },
    "tags": []
   },
   "outputs": [
    {
     "ename": "NameError",
     "evalue": "name 'book_data' is not defined",
     "output_type": "error",
     "traceback": [
      "\u001b[0;31m---------------------------------------------------------------------------\u001b[0m",
      "\u001b[0;31mNameError\u001b[0m                                 Traceback (most recent call last)",
      "\u001b[0;32m<ipython-input-9-7f2243d188e2>\u001b[0m in \u001b[0;36m<module>\u001b[0;34m\u001b[0m\n\u001b[0;32m----> 1\u001b[0;31m \u001b[0mrow\u001b[0m \u001b[0;34m=\u001b[0m \u001b[0mbook_data\u001b[0m\u001b[0;34m.\u001b[0m\u001b[0mshape\u001b[0m\u001b[0;34m[\u001b[0m\u001b[0;36m0\u001b[0m\u001b[0;34m]\u001b[0m\u001b[0;34m\u001b[0m\u001b[0;34m\u001b[0m\u001b[0m\n\u001b[0m\u001b[1;32m      2\u001b[0m \u001b[0mrow\u001b[0m\u001b[0;34m\u001b[0m\u001b[0;34m\u001b[0m\u001b[0m\n",
      "\u001b[0;31mNameError\u001b[0m: name 'book_data' is not defined"
     ]
    }
   ],
   "source": [
    "row = book_data.shape[0]\n",
    "row"
   ]
  },
  {
   "cell_type": "code",
   "execution_count": 10,
   "id": "published-kuwait",
   "metadata": {
    "execution": {
     "iopub.execute_input": "2021-05-08T17:17:58.235761Z",
     "iopub.status.busy": "2021-05-08T17:17:58.234607Z",
     "iopub.status.idle": "2021-05-08T17:17:58.239584Z",
     "shell.execute_reply": "2021-05-08T17:17:58.238911Z"
    },
    "papermill": {
     "duration": 0.035145,
     "end_time": "2021-05-08T17:17:58.239723",
     "exception": false,
     "start_time": "2021-05-08T17:17:58.204578",
     "status": "completed"
    },
    "tags": []
   },
   "outputs": [
    {
     "ename": "NameError",
     "evalue": "name 'book_data' is not defined",
     "output_type": "error",
     "traceback": [
      "\u001b[0;31m---------------------------------------------------------------------------\u001b[0m",
      "\u001b[0;31mNameError\u001b[0m                                 Traceback (most recent call last)",
      "\u001b[0;32m<ipython-input-10-e1c07059fe9d>\u001b[0m in \u001b[0;36m<module>\u001b[0;34m\u001b[0m\n\u001b[0;32m----> 1\u001b[0;31m \u001b[0mbook_data\u001b[0m\u001b[0;34m.\u001b[0m\u001b[0msort_values\u001b[0m\u001b[0;34m(\u001b[0m\u001b[0;34m'Reviews'\u001b[0m\u001b[0;34m,\u001b[0m\u001b[0mascending\u001b[0m \u001b[0;34m=\u001b[0m \u001b[0;32mFalse\u001b[0m\u001b[0;34m)\u001b[0m\u001b[0;34m\u001b[0m\u001b[0;34m\u001b[0m\u001b[0m\n\u001b[0m",
      "\u001b[0;31mNameError\u001b[0m: name 'book_data' is not defined"
     ]
    }
   ],
   "source": [
    "book_data.sort_values('Reviews',ascending = False)"
   ]
  },
  {
   "cell_type": "code",
   "execution_count": 11,
   "id": "dedicated-lodging",
   "metadata": {
    "execution": {
     "iopub.execute_input": "2021-05-08T17:17:58.285610Z",
     "iopub.status.busy": "2021-05-08T17:17:58.284943Z",
     "iopub.status.idle": "2021-05-08T17:17:58.289630Z",
     "shell.execute_reply": "2021-05-08T17:17:58.289100Z"
    },
    "papermill": {
     "duration": 0.035205,
     "end_time": "2021-05-08T17:17:58.289781",
     "exception": false,
     "start_time": "2021-05-08T17:17:58.254576",
     "status": "completed"
    },
    "tags": []
   },
   "outputs": [
    {
     "ename": "NameError",
     "evalue": "name 'book_data' is not defined",
     "output_type": "error",
     "traceback": [
      "\u001b[0;31m---------------------------------------------------------------------------\u001b[0m",
      "\u001b[0;31mNameError\u001b[0m                                 Traceback (most recent call last)",
      "\u001b[0;32m<ipython-input-11-4c0cce9ff10c>\u001b[0m in \u001b[0;36m<module>\u001b[0;34m\u001b[0m\n\u001b[0;32m----> 1\u001b[0;31m \u001b[0mbook_data\u001b[0m\u001b[0;34m.\u001b[0m\u001b[0msort_values\u001b[0m\u001b[0;34m(\u001b[0m\u001b[0;34m'Price'\u001b[0m\u001b[0;34m,\u001b[0m\u001b[0mascending\u001b[0m \u001b[0;34m=\u001b[0m \u001b[0;32mFalse\u001b[0m\u001b[0;34m)\u001b[0m\u001b[0;34m\u001b[0m\u001b[0;34m\u001b[0m\u001b[0m\n\u001b[0m",
      "\u001b[0;31mNameError\u001b[0m: name 'book_data' is not defined"
     ]
    }
   ],
   "source": [
    "book_data.sort_values('Price',ascending = False)"
   ]
  },
  {
   "cell_type": "code",
   "execution_count": 12,
   "id": "decimal-reason",
   "metadata": {
    "execution": {
     "iopub.execute_input": "2021-05-08T17:17:58.337166Z",
     "iopub.status.busy": "2021-05-08T17:17:58.336465Z",
     "iopub.status.idle": "2021-05-08T17:17:58.341086Z",
     "shell.execute_reply": "2021-05-08T17:17:58.340578Z"
    },
    "papermill": {
     "duration": 0.036274,
     "end_time": "2021-05-08T17:17:58.341230",
     "exception": false,
     "start_time": "2021-05-08T17:17:58.304956",
     "status": "completed"
    },
    "tags": []
   },
   "outputs": [
    {
     "ename": "NameError",
     "evalue": "name 'book_data' is not defined",
     "output_type": "error",
     "traceback": [
      "\u001b[0;31m---------------------------------------------------------------------------\u001b[0m",
      "\u001b[0;31mNameError\u001b[0m                                 Traceback (most recent call last)",
      "\u001b[0;32m<ipython-input-12-84374ed74b43>\u001b[0m in \u001b[0;36m<module>\u001b[0;34m\u001b[0m\n\u001b[0;32m----> 1\u001b[0;31m \u001b[0mbook_data\u001b[0m\u001b[0;34m[\u001b[0m\u001b[0;34m[\u001b[0m\u001b[0;34m'Price'\u001b[0m\u001b[0;34m,\u001b[0m\u001b[0;34m'User Rating'\u001b[0m\u001b[0;34m]\u001b[0m\u001b[0;34m]\u001b[0m\u001b[0;34m.\u001b[0m\u001b[0mmean\u001b[0m\u001b[0;34m(\u001b[0m\u001b[0;34m)\u001b[0m\u001b[0;34m\u001b[0m\u001b[0;34m\u001b[0m\u001b[0m\n\u001b[0m",
      "\u001b[0;31mNameError\u001b[0m: name 'book_data' is not defined"
     ]
    }
   ],
   "source": [
    "book_data[['Price','User Rating']].mean()"
   ]
  },
  {
   "cell_type": "code",
   "execution_count": 13,
   "id": "august-drama",
   "metadata": {
    "execution": {
     "iopub.execute_input": "2021-05-08T17:17:58.389124Z",
     "iopub.status.busy": "2021-05-08T17:17:58.382719Z",
     "iopub.status.idle": "2021-05-08T17:17:58.393513Z",
     "shell.execute_reply": "2021-05-08T17:17:58.394007Z"
    },
    "papermill": {
     "duration": 0.037356,
     "end_time": "2021-05-08T17:17:58.394181",
     "exception": false,
     "start_time": "2021-05-08T17:17:58.356825",
     "status": "completed"
    },
    "tags": []
   },
   "outputs": [
    {
     "ename": "NameError",
     "evalue": "name 'book_data' is not defined",
     "output_type": "error",
     "traceback": [
      "\u001b[0;31m---------------------------------------------------------------------------\u001b[0m",
      "\u001b[0;31mNameError\u001b[0m                                 Traceback (most recent call last)",
      "\u001b[0;32m<ipython-input-13-642c6a6e4b57>\u001b[0m in \u001b[0;36m<module>\u001b[0;34m\u001b[0m\n\u001b[0;32m----> 1\u001b[0;31m \u001b[0mdupl_data\u001b[0m \u001b[0;34m=\u001b[0m \u001b[0mbook_data\u001b[0m\u001b[0;34m.\u001b[0m\u001b[0mcopy\u001b[0m\u001b[0;34m(\u001b[0m\u001b[0;34m)\u001b[0m\u001b[0;34m\u001b[0m\u001b[0;34m\u001b[0m\u001b[0m\n\u001b[0m\u001b[1;32m      2\u001b[0m \u001b[0;34m\u001b[0m\u001b[0m\n\u001b[1;32m      3\u001b[0m \u001b[0mrep_genre\u001b[0m \u001b[0;34m=\u001b[0m \u001b[0;34m{\u001b[0m\u001b[0;34m'Genre'\u001b[0m\u001b[0;34m:\u001b[0m\u001b[0;34m{\u001b[0m\u001b[0;34m'Non Fiction'\u001b[0m\u001b[0;34m:\u001b[0m\u001b[0;36m0\u001b[0m\u001b[0;34m,\u001b[0m\u001b[0;34m'Fiction'\u001b[0m\u001b[0;34m:\u001b[0m\u001b[0;36m1\u001b[0m\u001b[0;34m}\u001b[0m\u001b[0;34m}\u001b[0m\u001b[0;34m\u001b[0m\u001b[0;34m\u001b[0m\u001b[0m\n\u001b[1;32m      4\u001b[0m \u001b[0;34m\u001b[0m\u001b[0m\n\u001b[1;32m      5\u001b[0m \u001b[0mdupl_data\u001b[0m\u001b[0;34m.\u001b[0m\u001b[0mreplace\u001b[0m\u001b[0;34m(\u001b[0m\u001b[0mrep_genre\u001b[0m\u001b[0;34m,\u001b[0m\u001b[0minplace\u001b[0m \u001b[0;34m=\u001b[0m \u001b[0;32mTrue\u001b[0m\u001b[0;34m)\u001b[0m\u001b[0;34m\u001b[0m\u001b[0;34m\u001b[0m\u001b[0m\n",
      "\u001b[0;31mNameError\u001b[0m: name 'book_data' is not defined"
     ]
    }
   ],
   "source": [
    "dupl_data = book_data.copy()\n",
    "\n",
    "rep_genre = {'Genre':{'Non Fiction':0,'Fiction':1}}\n",
    "\n",
    "dupl_data.replace(rep_genre,inplace = True)\n",
    "\n",
    "dupl_data"
   ]
  }
 ],
 "metadata": {
  "kernelspec": {
   "display_name": "Python 3",
   "language": "python",
   "name": "python3"
  },
  "language_info": {
   "codemirror_mode": {
    "name": "ipython",
    "version": 3
   },
   "file_extension": ".py",
   "mimetype": "text/x-python",
   "name": "python",
   "nbconvert_exporter": "python",
   "pygments_lexer": "ipython3",
   "version": "3.7.10"
  },
  "papermill": {
   "default_parameters": {},
   "duration": 13.638148,
   "end_time": "2021-05-08T17:17:59.220710",
   "environment_variables": {},
   "exception": null,
   "input_path": "__notebook__.ipynb",
   "output_path": "__notebook__.ipynb",
   "parameters": {},
   "start_time": "2021-05-08T17:17:45.582562",
   "version": "2.3.3"
  }
 },
 "nbformat": 4,
 "nbformat_minor": 5
}
