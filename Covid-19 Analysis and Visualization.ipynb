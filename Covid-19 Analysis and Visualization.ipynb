{
 "cells": [
  {
   "cell_type": "code",
   "execution_count": 2,
   "id": "dcf2b6d1",
   "metadata": {},
   "outputs": [],
   "source": [
    "import numpy as np\n",
    "import pandas as pd\n",
    "import matplotlib.pyplot as plt \n",
    "import seaborn as sns "
   ]
  },
  {
   "cell_type": "code",
   "execution_count": 5,
   "id": "04e4d8ba",
   "metadata": {},
   "outputs": [
    {
     "data": {
      "text/html": [
       "<div>\n",
       "<style scoped>\n",
       "    .dataframe tbody tr th:only-of-type {\n",
       "        vertical-align: middle;\n",
       "    }\n",
       "\n",
       "    .dataframe tbody tr th {\n",
       "        vertical-align: top;\n",
       "    }\n",
       "\n",
       "    .dataframe thead th {\n",
       "        text-align: right;\n",
       "    }\n",
       "</style>\n",
       "<table border=\"1\" class=\"dataframe\">\n",
       "  <thead>\n",
       "    <tr style=\"text-align: right;\">\n",
       "      <th></th>\n",
       "      <th>SNo</th>\n",
       "      <th>ObservationDate</th>\n",
       "      <th>Province/State</th>\n",
       "      <th>Country/Region</th>\n",
       "      <th>Last Update</th>\n",
       "      <th>Confirmed</th>\n",
       "      <th>Deaths</th>\n",
       "      <th>Recovered</th>\n",
       "    </tr>\n",
       "  </thead>\n",
       "  <tbody>\n",
       "    <tr>\n",
       "      <th>0</th>\n",
       "      <td>1</td>\n",
       "      <td>01/22/2020</td>\n",
       "      <td>Anhui</td>\n",
       "      <td>Mainland China</td>\n",
       "      <td>1/22/2020 17:00</td>\n",
       "      <td>1.0</td>\n",
       "      <td>0.0</td>\n",
       "      <td>0.0</td>\n",
       "    </tr>\n",
       "    <tr>\n",
       "      <th>1</th>\n",
       "      <td>2</td>\n",
       "      <td>01/22/2020</td>\n",
       "      <td>Beijing</td>\n",
       "      <td>Mainland China</td>\n",
       "      <td>1/22/2020 17:00</td>\n",
       "      <td>14.0</td>\n",
       "      <td>0.0</td>\n",
       "      <td>0.0</td>\n",
       "    </tr>\n",
       "    <tr>\n",
       "      <th>2</th>\n",
       "      <td>3</td>\n",
       "      <td>01/22/2020</td>\n",
       "      <td>Chongqing</td>\n",
       "      <td>Mainland China</td>\n",
       "      <td>1/22/2020 17:00</td>\n",
       "      <td>6.0</td>\n",
       "      <td>0.0</td>\n",
       "      <td>0.0</td>\n",
       "    </tr>\n",
       "    <tr>\n",
       "      <th>3</th>\n",
       "      <td>4</td>\n",
       "      <td>01/22/2020</td>\n",
       "      <td>Fujian</td>\n",
       "      <td>Mainland China</td>\n",
       "      <td>1/22/2020 17:00</td>\n",
       "      <td>1.0</td>\n",
       "      <td>0.0</td>\n",
       "      <td>0.0</td>\n",
       "    </tr>\n",
       "    <tr>\n",
       "      <th>4</th>\n",
       "      <td>5</td>\n",
       "      <td>01/22/2020</td>\n",
       "      <td>Gansu</td>\n",
       "      <td>Mainland China</td>\n",
       "      <td>1/22/2020 17:00</td>\n",
       "      <td>0.0</td>\n",
       "      <td>0.0</td>\n",
       "      <td>0.0</td>\n",
       "    </tr>\n",
       "  </tbody>\n",
       "</table>\n",
       "</div>"
      ],
      "text/plain": [
       "   SNo ObservationDate Province/State  Country/Region      Last Update  \\\n",
       "0    1      01/22/2020          Anhui  Mainland China  1/22/2020 17:00   \n",
       "1    2      01/22/2020        Beijing  Mainland China  1/22/2020 17:00   \n",
       "2    3      01/22/2020      Chongqing  Mainland China  1/22/2020 17:00   \n",
       "3    4      01/22/2020         Fujian  Mainland China  1/22/2020 17:00   \n",
       "4    5      01/22/2020          Gansu  Mainland China  1/22/2020 17:00   \n",
       "\n",
       "   Confirmed  Deaths  Recovered  \n",
       "0        1.0     0.0        0.0  \n",
       "1       14.0     0.0        0.0  \n",
       "2        6.0     0.0        0.0  \n",
       "3        1.0     0.0        0.0  \n",
       "4        0.0     0.0        0.0  "
      ]
     },
     "execution_count": 5,
     "metadata": {},
     "output_type": "execute_result"
    }
   ],
   "source": [
    "data = pd.read_csv(\"https://raw.githubusercontent.com/benvictoria17/DataAnalytics/main/dataset/Novel%20Corona%20Virus%202019%20Dataset/covid_19_data.csv\")\n",
    "data.head()"
   ]
  },
  {
   "cell_type": "code",
   "execution_count": 6,
   "id": "2d2c7a0b",
   "metadata": {},
   "outputs": [
    {
     "name": "stdout",
     "output_type": "stream",
     "text": [
      "<class 'pandas.core.frame.DataFrame'>\n",
      "RangeIndex: 306429 entries, 0 to 306428\n",
      "Data columns (total 8 columns):\n",
      " #   Column           Non-Null Count   Dtype  \n",
      "---  ------           --------------   -----  \n",
      " 0   SNo              306429 non-null  int64  \n",
      " 1   ObservationDate  306429 non-null  object \n",
      " 2   Province/State   228329 non-null  object \n",
      " 3   Country/Region   306429 non-null  object \n",
      " 4   Last Update      306429 non-null  object \n",
      " 5   Confirmed        306429 non-null  float64\n",
      " 6   Deaths           306429 non-null  float64\n",
      " 7   Recovered        306429 non-null  float64\n",
      "dtypes: float64(3), int64(1), object(4)\n",
      "memory usage: 18.7+ MB\n"
     ]
    }
   ],
   "source": [
    "data.info()"
   ]
  },
  {
   "cell_type": "code",
   "execution_count": 8,
   "id": "3dcbcaf7",
   "metadata": {},
   "outputs": [
    {
     "data": {
      "text/html": [
       "<div>\n",
       "<style scoped>\n",
       "    .dataframe tbody tr th:only-of-type {\n",
       "        vertical-align: middle;\n",
       "    }\n",
       "\n",
       "    .dataframe tbody tr th {\n",
       "        vertical-align: top;\n",
       "    }\n",
       "\n",
       "    .dataframe thead th {\n",
       "        text-align: right;\n",
       "    }\n",
       "</style>\n",
       "<table border=\"1\" class=\"dataframe\">\n",
       "  <thead>\n",
       "    <tr style=\"text-align: right;\">\n",
       "      <th></th>\n",
       "      <th>SNo</th>\n",
       "      <th>Confirmed</th>\n",
       "      <th>Deaths</th>\n",
       "      <th>Recovered</th>\n",
       "    </tr>\n",
       "  </thead>\n",
       "  <tbody>\n",
       "    <tr>\n",
       "      <th>SNo</th>\n",
       "      <td>1.000000</td>\n",
       "      <td>0.237319</td>\n",
       "      <td>0.197038</td>\n",
       "      <td>0.190511</td>\n",
       "    </tr>\n",
       "    <tr>\n",
       "      <th>Confirmed</th>\n",
       "      <td>0.237319</td>\n",
       "      <td>1.000000</td>\n",
       "      <td>0.888416</td>\n",
       "      <td>0.633479</td>\n",
       "    </tr>\n",
       "    <tr>\n",
       "      <th>Deaths</th>\n",
       "      <td>0.197038</td>\n",
       "      <td>0.888416</td>\n",
       "      <td>1.000000</td>\n",
       "      <td>0.538416</td>\n",
       "    </tr>\n",
       "    <tr>\n",
       "      <th>Recovered</th>\n",
       "      <td>0.190511</td>\n",
       "      <td>0.633479</td>\n",
       "      <td>0.538416</td>\n",
       "      <td>1.000000</td>\n",
       "    </tr>\n",
       "  </tbody>\n",
       "</table>\n",
       "</div>"
      ],
      "text/plain": [
       "                SNo  Confirmed    Deaths  Recovered\n",
       "SNo        1.000000   0.237319  0.197038   0.190511\n",
       "Confirmed  0.237319   1.000000  0.888416   0.633479\n",
       "Deaths     0.197038   0.888416  1.000000   0.538416\n",
       "Recovered  0.190511   0.633479  0.538416   1.000000"
      ]
     },
     "execution_count": 8,
     "metadata": {},
     "output_type": "execute_result"
    }
   ],
   "source": [
    "data.corr()"
   ]
  },
  {
   "cell_type": "code",
   "execution_count": 9,
   "id": "b79f520f",
   "metadata": {},
   "outputs": [
    {
     "data": {
      "image/png": "[encoded data removed]",
      "text/plain": [
       "<Figure size 720x720 with 2 Axes>"
      ]
     },
     "metadata": {
      "needs_background": "light"
     },
     "output_type": "display_data"
    }
   ],
   "source": [
    "f,ax = plt.subplots(figsize=(10, 10))\n",
    "sns.heatmap(data.corr(), annot=True, linewidths=.5, fmt= '.1f',ax=ax)\n",
    "plt.show()"
   ]
  },
  {
   "cell_type": "code",
   "execution_count": 10,
   "id": "28a41978",
   "metadata": {},
   "outputs": [
    {
     "data": {
      "text/plain": [
       "Index(['SNo', 'ObservationDate', 'Province/State', 'Country/Region',\n",
       "       'Last Update', 'Confirmed', 'Deaths', 'Recovered'],\n",
       "      dtype='object')"
      ]
     },
     "execution_count": 10,
     "metadata": {},
     "output_type": "execute_result"
    }
   ],
   "source": [
    "data.columns"
   ]
  },
  {
   "cell_type": "code",
   "execution_count": 11,
   "id": "9b8c17ab",
   "metadata": {},
   "outputs": [
    {
     "data": {
      "image/png": "[encoded data removed]",
      "text/plain": [
       "<Figure size 432x288 with 1 Axes>"
      ]
     },
     "metadata": {
      "needs_background": "light"
     },
     "output_type": "display_data"
    }
   ],
   "source": [
    "data.Deaths.plot(kind =\"line\", color =\"g\", label =\"Deaths\", linewidth =1, alpha =.5, grid =True, linestyle =\":\")\n",
    "data.Confirmed.plot(color =\"r\", label =\"Confirmed\", linewidth =1, alpha= .5, grid =True, linestyle =\":\")\n",
    "plt.legend(loc=\"upper right\")\n",
    "plt.xlabel(\"x axsis\")\n",
    "plt.ylabel(\"y axsis\")\n",
    "plt.title(\"Line Plot\")\n",
    "plt.show()"
   ]
  },
  {
   "cell_type": "code",
   "execution_count": 12,
   "id": "6641245f",
   "metadata": {},
   "outputs": [
    {
     "data": {
      "image/png": "[encoded data removed]",
      "text/plain": [
       "<Figure size 432x288 with 1 Axes>"
      ]
     },
     "metadata": {
      "needs_background": "light"
     },
     "output_type": "display_data"
    },
    {
     "data": {
      "image/png": "[encoded data removed]",
      "text/plain": [
       "<Figure size 432x288 with 1 Axes>"
      ]
     },
     "metadata": {
      "needs_background": "light"
     },
     "output_type": "display_data"
    },
    {
     "data": {
      "text/plain": [
       "<Figure size 432x288 with 0 Axes>"
      ]
     },
     "metadata": {},
     "output_type": "display_data"
    }
   ],
   "source": [
    "data.plot(kind=\"scatter\", x=\"Deaths\", y=\"Confirmed\", alpha=.5, color=\"red\")\n",
    "plt.xlabel(\"Deaths\")\n",
    "plt.ylabel(\"Confirmed\")\n",
    "plt.title(\"Deaths - Confirmed Scatter Plot\")\n",
    "plt.show()\n",
    "\n",
    "plt.hist([data.Deaths,data.Confirmed],\n",
    "        color=[\"#0c457d\", \"#0ea7b5\"],\n",
    "        label=[\"Deaths\",\"Confirmed\"])\n",
    "\n",
    "plt.xlabel(\"Oranlar\")\n",
    "plt.ylabel(\"Dağılanlar\")\n",
    "plt.title(\"Deaths - Confirmed\")\n",
    "plt.legend()\n",
    "plt.show()\n",
    "\n",
    "plt.hist([data.Deaths,data.Confirmed],\n",
    "        color=[\"#0c457d\", \"#0ea7b5\"],\n",
    "        label=[\"Deaths\",\"Confirmed\"])\n",
    "plt.clf()"
   ]
  },
  {
   "cell_type": "code",
   "execution_count": 13,
   "id": "435dd09d",
   "metadata": {},
   "outputs": [
    {
     "name": "stdout",
     "output_type": "stream",
     "text": [
      "dict_keys(['Russia', 'Germany'])\n",
      "dict_values(['Moskova', 'Berlin'])\n"
     ]
    }
   ],
   "source": [
    "dc = {\"Russia\":\"Moskova\", \"Germany\":\"Berlin\"}\n",
    "print(dc.keys())\n",
    "print(dc.values())"
   ]
  },
  {
   "cell_type": "code",
   "execution_count": 14,
   "id": "9955d9f1",
   "metadata": {},
   "outputs": [
    {
     "name": "stdout",
     "output_type": "stream",
     "text": [
      "Petersburg\n",
      "{'Russia': 'Petersburg', 'Germany': 'Berlin', 'England': 'London'}\n",
      "{'Germany': 'Berlin', 'England': 'London'}\n",
      "True\n",
      "{}\n"
     ]
    }
   ],
   "source": [
    "dc[\"Russia\"] = \"Petersburg\"\n",
    "print(dc[\"Russia\"])\n",
    "dc[\"England\"] = \"London\" \n",
    "print(dc)\n",
    "del dc[\"Russia\"]\n",
    "print(dc)\n",
    "print(\"England\" in dc) \n",
    "dc.clear()\n",
    "print(dc)"
   ]
  },
  {
   "cell_type": "code",
   "execution_count": 15,
   "id": "1ff3803e",
   "metadata": {},
   "outputs": [
    {
     "name": "stdout",
     "output_type": "stream",
     "text": [
      "{}\n"
     ]
    }
   ],
   "source": [
    "print(dc)"
   ]
  },
  {
   "cell_type": "code",
   "execution_count": 16,
   "id": "c7e8135d",
   "metadata": {},
   "outputs": [
    {
     "name": "stdout",
     "output_type": "stream",
     "text": [
      "<class 'pandas.core.series.Series'>\n",
      "        Deaths\n",
      "0          0.0\n",
      "1          0.0\n",
      "2          0.0\n",
      "3          0.0\n",
      "4          0.0\n",
      "...        ...\n",
      "306424  2335.0\n",
      "306425   245.0\n",
      "306426     1.0\n",
      "306427  1738.0\n",
      "306428  4252.0\n",
      "\n",
      "[306429 rows x 1 columns]\n"
     ]
    }
   ],
   "source": [
    "sr = data[\"Deaths\"]\n",
    "print(type(sr))\n",
    "data_frame = data[[\"Deaths\"]]\n",
    "print(data_frame)"
   ]
  },
  {
   "cell_type": "code",
   "execution_count": 17,
   "id": "49409a58",
   "metadata": {},
   "outputs": [
    {
     "name": "stdout",
     "output_type": "stream",
     "text": [
      "False\n",
      "False\n",
      "True\n"
     ]
    }
   ],
   "source": [
    "print(2==3)\n",
    "print(True and False)\n",
    "print(True or False)"
   ]
  },
  {
   "cell_type": "code",
   "execution_count": 18,
   "id": "5a5f460d",
   "metadata": {},
   "outputs": [
    {
     "data": {
      "text/html": [
       "<div>\n",
       "<style scoped>\n",
       "    .dataframe tbody tr th:only-of-type {\n",
       "        vertical-align: middle;\n",
       "    }\n",
       "\n",
       "    .dataframe tbody tr th {\n",
       "        vertical-align: top;\n",
       "    }\n",
       "\n",
       "    .dataframe thead th {\n",
       "        text-align: right;\n",
       "    }\n",
       "</style>\n",
       "<table border=\"1\" class=\"dataframe\">\n",
       "  <thead>\n",
       "    <tr style=\"text-align: right;\">\n",
       "      <th></th>\n",
       "      <th>SNo</th>\n",
       "      <th>ObservationDate</th>\n",
       "      <th>Province/State</th>\n",
       "      <th>Country/Region</th>\n",
       "      <th>Last Update</th>\n",
       "      <th>Confirmed</th>\n",
       "      <th>Deaths</th>\n",
       "      <th>Recovered</th>\n",
       "    </tr>\n",
       "  </thead>\n",
       "  <tbody>\n",
       "    <tr>\n",
       "      <th>222587</th>\n",
       "      <td>222588</td>\n",
       "      <td>02/09/2021</td>\n",
       "      <td>England</td>\n",
       "      <td>UK</td>\n",
       "      <td>2021-04-02 15:13:53</td>\n",
       "      <td>3480147.0</td>\n",
       "      <td>100385.0</td>\n",
       "      <td>0.0</td>\n",
       "    </tr>\n",
       "    <tr>\n",
       "      <th>223352</th>\n",
       "      <td>223353</td>\n",
       "      <td>02/10/2021</td>\n",
       "      <td>England</td>\n",
       "      <td>UK</td>\n",
       "      <td>2021-04-02 15:13:53</td>\n",
       "      <td>3491698.0</td>\n",
       "      <td>101311.0</td>\n",
       "      <td>0.0</td>\n",
       "    </tr>\n",
       "    <tr>\n",
       "      <th>224117</th>\n",
       "      <td>224118</td>\n",
       "      <td>02/11/2021</td>\n",
       "      <td>England</td>\n",
       "      <td>UK</td>\n",
       "      <td>2021-04-02 15:13:53</td>\n",
       "      <td>3503699.0</td>\n",
       "      <td>101905.0</td>\n",
       "      <td>0.0</td>\n",
       "    </tr>\n",
       "    <tr>\n",
       "      <th>224882</th>\n",
       "      <td>224883</td>\n",
       "      <td>02/12/2021</td>\n",
       "      <td>England</td>\n",
       "      <td>UK</td>\n",
       "      <td>2021-04-02 15:13:53</td>\n",
       "      <td>3516998.0</td>\n",
       "      <td>102562.0</td>\n",
       "      <td>0.0</td>\n",
       "    </tr>\n",
       "    <tr>\n",
       "      <th>225647</th>\n",
       "      <td>225648</td>\n",
       "      <td>02/13/2021</td>\n",
       "      <td>England</td>\n",
       "      <td>UK</td>\n",
       "      <td>2021-04-02 15:13:53</td>\n",
       "      <td>3528695.0</td>\n",
       "      <td>103106.0</td>\n",
       "      <td>0.0</td>\n",
       "    </tr>\n",
       "    <tr>\n",
       "      <th>...</th>\n",
       "      <td>...</td>\n",
       "      <td>...</td>\n",
       "      <td>...</td>\n",
       "      <td>...</td>\n",
       "      <td>...</td>\n",
       "      <td>...</td>\n",
       "      <td>...</td>\n",
       "      <td>...</td>\n",
       "    </tr>\n",
       "    <tr>\n",
       "      <th>305207</th>\n",
       "      <td>305208</td>\n",
       "      <td>05/28/2021</td>\n",
       "      <td>England</td>\n",
       "      <td>UK</td>\n",
       "      <td>2021-05-29 04:20:41</td>\n",
       "      <td>3908214.0</td>\n",
       "      <td>112379.0</td>\n",
       "      <td>0.0</td>\n",
       "    </tr>\n",
       "    <tr>\n",
       "      <th>305527</th>\n",
       "      <td>305528</td>\n",
       "      <td>05/28/2021</td>\n",
       "      <td>Sao Paulo</td>\n",
       "      <td>Brazil</td>\n",
       "      <td>2021-05-29 04:20:41</td>\n",
       "      <td>3241240.0</td>\n",
       "      <td>110553.0</td>\n",
       "      <td>2895697.0</td>\n",
       "    </tr>\n",
       "    <tr>\n",
       "      <th>305718</th>\n",
       "      <td>305719</td>\n",
       "      <td>05/29/2021</td>\n",
       "      <td>NaN</td>\n",
       "      <td>France</td>\n",
       "      <td>2021-05-30 04:20:55</td>\n",
       "      <td>5600353.0</td>\n",
       "      <td>108532.0</td>\n",
       "      <td>331686.0</td>\n",
       "    </tr>\n",
       "    <tr>\n",
       "      <th>305972</th>\n",
       "      <td>305973</td>\n",
       "      <td>05/29/2021</td>\n",
       "      <td>England</td>\n",
       "      <td>UK</td>\n",
       "      <td>2021-05-30 04:20:55</td>\n",
       "      <td>3910803.0</td>\n",
       "      <td>112385.0</td>\n",
       "      <td>0.0</td>\n",
       "    </tr>\n",
       "    <tr>\n",
       "      <th>306292</th>\n",
       "      <td>306293</td>\n",
       "      <td>05/29/2021</td>\n",
       "      <td>Sao Paulo</td>\n",
       "      <td>Brazil</td>\n",
       "      <td>2021-05-30 04:20:55</td>\n",
       "      <td>3254893.0</td>\n",
       "      <td>111123.0</td>\n",
       "      <td>2895697.0</td>\n",
       "    </tr>\n",
       "  </tbody>\n",
       "</table>\n",
       "<p>174 rows × 8 columns</p>\n",
       "</div>"
      ],
      "text/plain": [
       "           SNo ObservationDate Province/State Country/Region  \\\n",
       "222587  222588      02/09/2021        England             UK   \n",
       "223352  223353      02/10/2021        England             UK   \n",
       "224117  224118      02/11/2021        England             UK   \n",
       "224882  224883      02/12/2021        England             UK   \n",
       "225647  225648      02/13/2021        England             UK   \n",
       "...        ...             ...            ...            ...   \n",
       "305207  305208      05/28/2021        England             UK   \n",
       "305527  305528      05/28/2021      Sao Paulo         Brazil   \n",
       "305718  305719      05/29/2021            NaN         France   \n",
       "305972  305973      05/29/2021        England             UK   \n",
       "306292  306293      05/29/2021      Sao Paulo         Brazil   \n",
       "\n",
       "                Last Update  Confirmed    Deaths  Recovered  \n",
       "222587  2021-04-02 15:13:53  3480147.0  100385.0        0.0  \n",
       "223352  2021-04-02 15:13:53  3491698.0  101311.0        0.0  \n",
       "224117  2021-04-02 15:13:53  3503699.0  101905.0        0.0  \n",
       "224882  2021-04-02 15:13:53  3516998.0  102562.0        0.0  \n",
       "225647  2021-04-02 15:13:53  3528695.0  103106.0        0.0  \n",
       "...                     ...        ...       ...        ...  \n",
       "305207  2021-05-29 04:20:41  3908214.0  112379.0        0.0  \n",
       "305527  2021-05-29 04:20:41  3241240.0  110553.0  2895697.0  \n",
       "305718  2021-05-30 04:20:55  5600353.0  108532.0   331686.0  \n",
       "305972  2021-05-30 04:20:55  3910803.0  112385.0        0.0  \n",
       "306292  2021-05-30 04:20:55  3254893.0  111123.0  2895697.0  \n",
       "\n",
       "[174 rows x 8 columns]"
      ]
     },
     "execution_count": 18,
     "metadata": {},
     "output_type": "execute_result"
    }
   ],
   "source": [
    "x = data[\"Deaths\"]>100000\n",
    "data[x]"
   ]
  },
  {
   "cell_type": "code",
   "execution_count": 19,
   "id": "b4781335",
   "metadata": {},
   "outputs": [
    {
     "data": {
      "text/html": [
       "<div>\n",
       "<style scoped>\n",
       "    .dataframe tbody tr th:only-of-type {\n",
       "        vertical-align: middle;\n",
       "    }\n",
       "\n",
       "    .dataframe tbody tr th {\n",
       "        vertical-align: top;\n",
       "    }\n",
       "\n",
       "    .dataframe thead th {\n",
       "        text-align: right;\n",
       "    }\n",
       "</style>\n",
       "<table border=\"1\" class=\"dataframe\">\n",
       "  <thead>\n",
       "    <tr style=\"text-align: right;\">\n",
       "      <th></th>\n",
       "      <th>SNo</th>\n",
       "      <th>ObservationDate</th>\n",
       "      <th>Province/State</th>\n",
       "      <th>Country/Region</th>\n",
       "      <th>Last Update</th>\n",
       "      <th>Confirmed</th>\n",
       "      <th>Deaths</th>\n",
       "      <th>Recovered</th>\n",
       "    </tr>\n",
       "  </thead>\n",
       "  <tbody>\n",
       "    <tr>\n",
       "      <th>222587</th>\n",
       "      <td>222588</td>\n",
       "      <td>02/09/2021</td>\n",
       "      <td>England</td>\n",
       "      <td>UK</td>\n",
       "      <td>2021-04-02 15:13:53</td>\n",
       "      <td>3480147.0</td>\n",
       "      <td>100385.0</td>\n",
       "      <td>0.0</td>\n",
       "    </tr>\n",
       "    <tr>\n",
       "      <th>223352</th>\n",
       "      <td>223353</td>\n",
       "      <td>02/10/2021</td>\n",
       "      <td>England</td>\n",
       "      <td>UK</td>\n",
       "      <td>2021-04-02 15:13:53</td>\n",
       "      <td>3491698.0</td>\n",
       "      <td>101311.0</td>\n",
       "      <td>0.0</td>\n",
       "    </tr>\n",
       "    <tr>\n",
       "      <th>224117</th>\n",
       "      <td>224118</td>\n",
       "      <td>02/11/2021</td>\n",
       "      <td>England</td>\n",
       "      <td>UK</td>\n",
       "      <td>2021-04-02 15:13:53</td>\n",
       "      <td>3503699.0</td>\n",
       "      <td>101905.0</td>\n",
       "      <td>0.0</td>\n",
       "    </tr>\n",
       "    <tr>\n",
       "      <th>224882</th>\n",
       "      <td>224883</td>\n",
       "      <td>02/12/2021</td>\n",
       "      <td>England</td>\n",
       "      <td>UK</td>\n",
       "      <td>2021-04-02 15:13:53</td>\n",
       "      <td>3516998.0</td>\n",
       "      <td>102562.0</td>\n",
       "      <td>0.0</td>\n",
       "    </tr>\n",
       "    <tr>\n",
       "      <th>225647</th>\n",
       "      <td>225648</td>\n",
       "      <td>02/13/2021</td>\n",
       "      <td>England</td>\n",
       "      <td>UK</td>\n",
       "      <td>2021-04-02 15:13:53</td>\n",
       "      <td>3528695.0</td>\n",
       "      <td>103106.0</td>\n",
       "      <td>0.0</td>\n",
       "    </tr>\n",
       "    <tr>\n",
       "      <th>...</th>\n",
       "      <td>...</td>\n",
       "      <td>...</td>\n",
       "      <td>...</td>\n",
       "      <td>...</td>\n",
       "      <td>...</td>\n",
       "      <td>...</td>\n",
       "      <td>...</td>\n",
       "      <td>...</td>\n",
       "    </tr>\n",
       "    <tr>\n",
       "      <th>305207</th>\n",
       "      <td>305208</td>\n",
       "      <td>05/28/2021</td>\n",
       "      <td>England</td>\n",
       "      <td>UK</td>\n",
       "      <td>2021-05-29 04:20:41</td>\n",
       "      <td>3908214.0</td>\n",
       "      <td>112379.0</td>\n",
       "      <td>0.0</td>\n",
       "    </tr>\n",
       "    <tr>\n",
       "      <th>305527</th>\n",
       "      <td>305528</td>\n",
       "      <td>05/28/2021</td>\n",
       "      <td>Sao Paulo</td>\n",
       "      <td>Brazil</td>\n",
       "      <td>2021-05-29 04:20:41</td>\n",
       "      <td>3241240.0</td>\n",
       "      <td>110553.0</td>\n",
       "      <td>2895697.0</td>\n",
       "    </tr>\n",
       "    <tr>\n",
       "      <th>305718</th>\n",
       "      <td>305719</td>\n",
       "      <td>05/29/2021</td>\n",
       "      <td>NaN</td>\n",
       "      <td>France</td>\n",
       "      <td>2021-05-30 04:20:55</td>\n",
       "      <td>5600353.0</td>\n",
       "      <td>108532.0</td>\n",
       "      <td>331686.0</td>\n",
       "    </tr>\n",
       "    <tr>\n",
       "      <th>305972</th>\n",
       "      <td>305973</td>\n",
       "      <td>05/29/2021</td>\n",
       "      <td>England</td>\n",
       "      <td>UK</td>\n",
       "      <td>2021-05-30 04:20:55</td>\n",
       "      <td>3910803.0</td>\n",
       "      <td>112385.0</td>\n",
       "      <td>0.0</td>\n",
       "    </tr>\n",
       "    <tr>\n",
       "      <th>306292</th>\n",
       "      <td>306293</td>\n",
       "      <td>05/29/2021</td>\n",
       "      <td>Sao Paulo</td>\n",
       "      <td>Brazil</td>\n",
       "      <td>2021-05-30 04:20:55</td>\n",
       "      <td>3254893.0</td>\n",
       "      <td>111123.0</td>\n",
       "      <td>2895697.0</td>\n",
       "    </tr>\n",
       "  </tbody>\n",
       "</table>\n",
       "<p>174 rows × 8 columns</p>\n",
       "</div>"
      ],
      "text/plain": [
       "           SNo ObservationDate Province/State Country/Region  \\\n",
       "222587  222588      02/09/2021        England             UK   \n",
       "223352  223353      02/10/2021        England             UK   \n",
       "224117  224118      02/11/2021        England             UK   \n",
       "224882  224883      02/12/2021        England             UK   \n",
       "225647  225648      02/13/2021        England             UK   \n",
       "...        ...             ...            ...            ...   \n",
       "305207  305208      05/28/2021        England             UK   \n",
       "305527  305528      05/28/2021      Sao Paulo         Brazil   \n",
       "305718  305719      05/29/2021            NaN         France   \n",
       "305972  305973      05/29/2021        England             UK   \n",
       "306292  306293      05/29/2021      Sao Paulo         Brazil   \n",
       "\n",
       "                Last Update  Confirmed    Deaths  Recovered  \n",
       "222587  2021-04-02 15:13:53  3480147.0  100385.0        0.0  \n",
       "223352  2021-04-02 15:13:53  3491698.0  101311.0        0.0  \n",
       "224117  2021-04-02 15:13:53  3503699.0  101905.0        0.0  \n",
       "224882  2021-04-02 15:13:53  3516998.0  102562.0        0.0  \n",
       "225647  2021-04-02 15:13:53  3528695.0  103106.0        0.0  \n",
       "...                     ...        ...       ...        ...  \n",
       "305207  2021-05-29 04:20:41  3908214.0  112379.0        0.0  \n",
       "305527  2021-05-29 04:20:41  3241240.0  110553.0  2895697.0  \n",
       "305718  2021-05-30 04:20:55  5600353.0  108532.0   331686.0  \n",
       "305972  2021-05-30 04:20:55  3910803.0  112385.0        0.0  \n",
       "306292  2021-05-30 04:20:55  3254893.0  111123.0  2895697.0  \n",
       "\n",
       "[174 rows x 8 columns]"
      ]
     },
     "execution_count": 19,
     "metadata": {},
     "output_type": "execute_result"
    }
   ],
   "source": [
    "data[np.logical_and(data[\"Deaths\"]>100000, data[\"Confirmed\"]>1000000)]"
   ]
  },
  {
   "cell_type": "code",
   "execution_count": 20,
   "id": "368700f8",
   "metadata": {},
   "outputs": [
    {
     "name": "stdout",
     "output_type": "stream",
     "text": [
      "i is: 0\n",
      "i is: 1\n",
      "i is: 2\n",
      "i is: 3\n",
      "i is: 4\n",
      "5 is equal to 5\n"
     ]
    }
   ],
   "source": [
    "i = 0 \n",
    "while i !=5 :\n",
    "    print(\"i is:\",i)\n",
    "    i +=1\n",
    "print(i, \"is equal to 5\")"
   ]
  },
  {
   "cell_type": "code",
   "execution_count": 21,
   "id": "0f96bc51",
   "metadata": {},
   "outputs": [
    {
     "name": "stdout",
     "output_type": "stream",
     "text": [
      "i is: 1\n",
      "i is: 2\n",
      "i is: 3\n",
      "i is: 4\n",
      "i is: 5\n",
      "\n",
      "0   1\n",
      "1   2\n",
      "2   3\n",
      "3   4\n",
      "4   5\n",
      "\n",
      "Spain : Madrid\n",
      "France : Paris\n",
      "\n",
      "0 : Deaths    0.0\n",
      "Name: 0, dtype: float64\n"
     ]
    }
   ],
   "source": [
    "l = [1,2,3,4,5]\n",
    "for i in l:\n",
    "    print(\"i is:\",i)\n",
    "print(\"\")\n",
    "\n",
    "for index, value in enumerate(l):\n",
    "    print(index,\" \",value)\n",
    "print(\"\")\n",
    "\n",
    "dc = {\"Spain\":\"Madrid\", \"France\":\"Paris\"}\n",
    "for key,value in dc.items():\n",
    "    print(key,\":\",value)\n",
    "print(\"\")\n",
    "\n",
    "for index,value in data[[\"Deaths\"]][0:1].iterrows():\n",
    "    print(index, \":\", value)"
   ]
  },
  {
   "cell_type": "code",
   "execution_count": 22,
   "id": "28f84801",
   "metadata": {},
   "outputs": [
    {
     "name": "stdout",
     "output_type": "stream",
     "text": [
      "1 2 3\n"
     ]
    }
   ],
   "source": [
    "def tuble_ex():\n",
    "    t = (1,2,3)\n",
    "    return t\n",
    "a,b,c = tuble_ex()\n",
    "print(a,b,c)"
   ]
  },
  {
   "cell_type": "code",
   "execution_count": 23,
   "id": "c225c5b8",
   "metadata": {},
   "outputs": [
    {
     "name": "stdout",
     "output_type": "stream",
     "text": [
      "2\n",
      "3\n"
     ]
    }
   ],
   "source": [
    "x = 2\n",
    "def f():\n",
    "    x = 3 \n",
    "    return x \n",
    "print(x) \n",
    "print(f())"
   ]
  },
  {
   "cell_type": "code",
   "execution_count": 24,
   "id": "2a56ac4f",
   "metadata": {},
   "outputs": [
    {
     "name": "stdout",
     "output_type": "stream",
     "text": [
      "25\n"
     ]
    }
   ],
   "source": [
    "def square():\n",
    "    def add():\n",
    "        x = 2\n",
    "        y = 3 \n",
    "        z = x + y\n",
    "        return z \n",
    "    return add()**2\n",
    "print(square())"
   ]
  },
  {
   "cell_type": "code",
   "execution_count": 25,
   "id": "a1b601a8",
   "metadata": {},
   "outputs": [
    {
     "name": "stdout",
     "output_type": "stream",
     "text": [
      "11\n"
     ]
    }
   ],
   "source": [
    "def f(a, b, c=2):\n",
    "    y = a+ b+ c \n",
    "    return y\n",
    "print(f(5,4))"
   ]
  },
  {
   "cell_type": "code",
   "execution_count": 26,
   "id": "da9f1def",
   "metadata": {},
   "outputs": [
    {
     "name": "stdout",
     "output_type": "stream",
     "text": [
      "1\n",
      "None\n"
     ]
    }
   ],
   "source": [
    "def f(*args):\n",
    "    for i in args: \n",
    "        print(i)\n",
    "print(f(1))"
   ]
  },
  {
   "cell_type": "code",
   "execution_count": 27,
   "id": "4af316e7",
   "metadata": {},
   "outputs": [
    {
     "name": "stdout",
     "output_type": "stream",
     "text": [
      "country spain\n",
      "capital madrid\n",
      "population 1231231\n"
     ]
    }
   ],
   "source": [
    "def f(**kwargs):\n",
    "    for key, value in kwargs.items():\n",
    "        print(key, value)\n",
    "f(country=\"spain\", capital=\"madrid\", population=1231231)"
   ]
  },
  {
   "cell_type": "code",
   "execution_count": 28,
   "id": "aad4a4dd",
   "metadata": {},
   "outputs": [
    {
     "name": "stdout",
     "output_type": "stream",
     "text": [
      "3\n"
     ]
    }
   ],
   "source": [
    "topla = lambda x,y: x+y \n",
    "print(topla(1,2))"
   ]
  },
  {
   "cell_type": "code",
   "execution_count": 29,
   "id": "b12867c2",
   "metadata": {},
   "outputs": [
    {
     "name": "stdout",
     "output_type": "stream",
     "text": [
      "[1, 4, 9]\n"
     ]
    }
   ],
   "source": [
    "y = map(lambda x: x**2, [1,2,3])\n",
    "print(list(y))"
   ]
  },
  {
   "cell_type": "code",
   "execution_count": 30,
   "id": "2143cd16",
   "metadata": {},
   "outputs": [
    {
     "name": "stdout",
     "output_type": "stream",
     "text": [
      "[(1, 2), (3, 4), (5, 6)]\n"
     ]
    }
   ],
   "source": [
    "list1 = [1,3,5]\n",
    "list2 = [2,4,6]\n",
    "print(list(zip(list1,list2)))"
   ]
  },
  {
   "cell_type": "code",
   "execution_count": 31,
   "id": "d11eaf7e",
   "metadata": {},
   "outputs": [
    {
     "data": {
      "text/plain": [
       "[2, 3, 4]"
      ]
     },
     "execution_count": 31,
     "metadata": {},
     "output_type": "execute_result"
    }
   ],
   "source": [
    "num1 = [1,2,3]\n",
    "num2 = [i + 1 for i in num1]\n",
    "num2"
   ]
  },
  {
   "cell_type": "code",
   "execution_count": 32,
   "id": "bc92b8b5",
   "metadata": {},
   "outputs": [
    {
     "data": {
      "text/plain": [
       "[4, 2, 4]"
      ]
     },
     "execution_count": 32,
     "metadata": {},
     "output_type": "execute_result"
    }
   ],
   "source": [
    "num1 = [2,4,6]\n",
    "num2 = [i**2 if i==2 else i+0 if i > 6 else i-2 for i in num1]\n",
    "num2"
   ]
  },
  {
   "cell_type": "code",
   "execution_count": 33,
   "id": "4429607f",
   "metadata": {},
   "outputs": [
    {
     "data": {
      "text/html": [
       "<div>\n",
       "<style scoped>\n",
       "    .dataframe tbody tr th:only-of-type {\n",
       "        vertical-align: middle;\n",
       "    }\n",
       "\n",
       "    .dataframe tbody tr th {\n",
       "        vertical-align: top;\n",
       "    }\n",
       "\n",
       "    .dataframe thead th {\n",
       "        text-align: right;\n",
       "    }\n",
       "</style>\n",
       "<table border=\"1\" class=\"dataframe\">\n",
       "  <thead>\n",
       "    <tr style=\"text-align: right;\">\n",
       "      <th></th>\n",
       "      <th>deaths_rate</th>\n",
       "      <th>Deaths</th>\n",
       "    </tr>\n",
       "  </thead>\n",
       "  <tbody>\n",
       "    <tr>\n",
       "      <th>0</th>\n",
       "      <td>low</td>\n",
       "      <td>0.0</td>\n",
       "    </tr>\n",
       "    <tr>\n",
       "      <th>1</th>\n",
       "      <td>low</td>\n",
       "      <td>0.0</td>\n",
       "    </tr>\n",
       "    <tr>\n",
       "      <th>2</th>\n",
       "      <td>low</td>\n",
       "      <td>0.0</td>\n",
       "    </tr>\n",
       "    <tr>\n",
       "      <th>3</th>\n",
       "      <td>low</td>\n",
       "      <td>0.0</td>\n",
       "    </tr>\n",
       "    <tr>\n",
       "      <th>4</th>\n",
       "      <td>low</td>\n",
       "      <td>0.0</td>\n",
       "    </tr>\n",
       "    <tr>\n",
       "      <th>...</th>\n",
       "      <td>...</td>\n",
       "      <td>...</td>\n",
       "    </tr>\n",
       "    <tr>\n",
       "      <th>996</th>\n",
       "      <td>low</td>\n",
       "      <td>0.0</td>\n",
       "    </tr>\n",
       "    <tr>\n",
       "      <th>997</th>\n",
       "      <td>low</td>\n",
       "      <td>0.0</td>\n",
       "    </tr>\n",
       "    <tr>\n",
       "      <th>998</th>\n",
       "      <td>low</td>\n",
       "      <td>0.0</td>\n",
       "    </tr>\n",
       "    <tr>\n",
       "      <th>999</th>\n",
       "      <td>low</td>\n",
       "      <td>0.0</td>\n",
       "    </tr>\n",
       "    <tr>\n",
       "      <th>1000</th>\n",
       "      <td>low</td>\n",
       "      <td>0.0</td>\n",
       "    </tr>\n",
       "  </tbody>\n",
       "</table>\n",
       "<p>1001 rows × 2 columns</p>\n",
       "</div>"
      ],
      "text/plain": [
       "     deaths_rate  Deaths\n",
       "0            low     0.0\n",
       "1            low     0.0\n",
       "2            low     0.0\n",
       "3            low     0.0\n",
       "4            low     0.0\n",
       "...          ...     ...\n",
       "996          low     0.0\n",
       "997          low     0.0\n",
       "998          low     0.0\n",
       "999          low     0.0\n",
       "1000         low     0.0\n",
       "\n",
       "[1001 rows x 2 columns]"
      ]
     },
     "execution_count": 33,
     "metadata": {},
     "output_type": "execute_result"
    }
   ],
   "source": [
    "thold = sum(data.Deaths)/len(data.Deaths)\n",
    "data[\"deaths_rate\"] = [\"high\" if i > thold else \"low\" for i in data.Deaths]\n",
    "data.loc[:1000,[\"deaths_rate\", \"Deaths\"]]"
   ]
  },
  {
   "cell_type": "code",
   "execution_count": 34,
   "id": "2726029b",
   "metadata": {},
   "outputs": [
    {
     "data": {
      "text/html": [
       "<div>\n",
       "<style scoped>\n",
       "    .dataframe tbody tr th:only-of-type {\n",
       "        vertical-align: middle;\n",
       "    }\n",
       "\n",
       "    .dataframe tbody tr th {\n",
       "        vertical-align: top;\n",
       "    }\n",
       "\n",
       "    .dataframe thead th {\n",
       "        text-align: right;\n",
       "    }\n",
       "</style>\n",
       "<table border=\"1\" class=\"dataframe\">\n",
       "  <thead>\n",
       "    <tr style=\"text-align: right;\">\n",
       "      <th></th>\n",
       "      <th>SNo</th>\n",
       "      <th>ObservationDate</th>\n",
       "      <th>Province/State</th>\n",
       "      <th>Country/Region</th>\n",
       "      <th>Last Update</th>\n",
       "      <th>Confirmed</th>\n",
       "      <th>Deaths</th>\n",
       "      <th>Recovered</th>\n",
       "      <th>deaths_rate</th>\n",
       "    </tr>\n",
       "  </thead>\n",
       "  <tbody>\n",
       "    <tr>\n",
       "      <th>0</th>\n",
       "      <td>1</td>\n",
       "      <td>01/22/2020</td>\n",
       "      <td>Anhui</td>\n",
       "      <td>Mainland China</td>\n",
       "      <td>1/22/2020 17:00</td>\n",
       "      <td>1.0</td>\n",
       "      <td>0.0</td>\n",
       "      <td>0.0</td>\n",
       "      <td>low</td>\n",
       "    </tr>\n",
       "    <tr>\n",
       "      <th>1</th>\n",
       "      <td>2</td>\n",
       "      <td>01/22/2020</td>\n",
       "      <td>Beijing</td>\n",
       "      <td>Mainland China</td>\n",
       "      <td>1/22/2020 17:00</td>\n",
       "      <td>14.0</td>\n",
       "      <td>0.0</td>\n",
       "      <td>0.0</td>\n",
       "      <td>low</td>\n",
       "    </tr>\n",
       "    <tr>\n",
       "      <th>2</th>\n",
       "      <td>3</td>\n",
       "      <td>01/22/2020</td>\n",
       "      <td>Chongqing</td>\n",
       "      <td>Mainland China</td>\n",
       "      <td>1/22/2020 17:00</td>\n",
       "      <td>6.0</td>\n",
       "      <td>0.0</td>\n",
       "      <td>0.0</td>\n",
       "      <td>low</td>\n",
       "    </tr>\n",
       "    <tr>\n",
       "      <th>3</th>\n",
       "      <td>4</td>\n",
       "      <td>01/22/2020</td>\n",
       "      <td>Fujian</td>\n",
       "      <td>Mainland China</td>\n",
       "      <td>1/22/2020 17:00</td>\n",
       "      <td>1.0</td>\n",
       "      <td>0.0</td>\n",
       "      <td>0.0</td>\n",
       "      <td>low</td>\n",
       "    </tr>\n",
       "    <tr>\n",
       "      <th>4</th>\n",
       "      <td>5</td>\n",
       "      <td>01/22/2020</td>\n",
       "      <td>Gansu</td>\n",
       "      <td>Mainland China</td>\n",
       "      <td>1/22/2020 17:00</td>\n",
       "      <td>0.0</td>\n",
       "      <td>0.0</td>\n",
       "      <td>0.0</td>\n",
       "      <td>low</td>\n",
       "    </tr>\n",
       "  </tbody>\n",
       "</table>\n",
       "</div>"
      ],
      "text/plain": [
       "   SNo ObservationDate Province/State  Country/Region      Last Update  \\\n",
       "0    1      01/22/2020          Anhui  Mainland China  1/22/2020 17:00   \n",
       "1    2      01/22/2020        Beijing  Mainland China  1/22/2020 17:00   \n",
       "2    3      01/22/2020      Chongqing  Mainland China  1/22/2020 17:00   \n",
       "3    4      01/22/2020         Fujian  Mainland China  1/22/2020 17:00   \n",
       "4    5      01/22/2020          Gansu  Mainland China  1/22/2020 17:00   \n",
       "\n",
       "   Confirmed  Deaths  Recovered deaths_rate  \n",
       "0        1.0     0.0        0.0         low  \n",
       "1       14.0     0.0        0.0         low  \n",
       "2        6.0     0.0        0.0         low  \n",
       "3        1.0     0.0        0.0         low  \n",
       "4        0.0     0.0        0.0         low  "
      ]
     },
     "execution_count": 34,
     "metadata": {},
     "output_type": "execute_result"
    }
   ],
   "source": [
    "data.head()"
   ]
  },
  {
   "cell_type": "code",
   "execution_count": 35,
   "id": "4be02ae7",
   "metadata": {},
   "outputs": [
    {
     "name": "stdout",
     "output_type": "stream",
     "text": [
      "low     247218\n",
      "high     59211\n",
      "Name: deaths_rate, dtype: int64\n"
     ]
    }
   ],
   "source": [
    "print(data[\"deaths_rate\"].value_counts(dropna=False))"
   ]
  },
  {
   "cell_type": "code",
   "execution_count": 36,
   "id": "48f4db97",
   "metadata": {},
   "outputs": [
    {
     "data": {
      "text/plain": [
       "SNo                  int64\n",
       "ObservationDate     object\n",
       "Province/State      object\n",
       "Country/Region      object\n",
       "Last Update         object\n",
       "Confirmed          float64\n",
       "Deaths             float64\n",
       "Recovered          float64\n",
       "deaths_rate         object\n",
       "dtype: object"
      ]
     },
     "execution_count": 36,
     "metadata": {},
     "output_type": "execute_result"
    }
   ],
   "source": [
    "data.dtypes"
   ]
  },
  {
   "cell_type": "code",
   "execution_count": 37,
   "id": "1b213522",
   "metadata": {},
   "outputs": [
    {
     "name": "stdout",
     "output_type": "stream",
     "text": [
      "<class 'pandas.core.frame.DataFrame'>\n",
      "RangeIndex: 306429 entries, 0 to 306428\n",
      "Data columns (total 9 columns):\n",
      " #   Column           Non-Null Count   Dtype  \n",
      "---  ------           --------------   -----  \n",
      " 0   SNo              306429 non-null  int64  \n",
      " 1   ObservationDate  306429 non-null  object \n",
      " 2   Province/State   228329 non-null  object \n",
      " 3   Country/Region   306429 non-null  object \n",
      " 4   Last Update      306429 non-null  object \n",
      " 5   Confirmed        306429 non-null  float64\n",
      " 6   Deaths           306429 non-null  float64\n",
      " 7   Recovered        306429 non-null  float64\n",
      " 8   deaths_rate      306429 non-null  object \n",
      "dtypes: float64(3), int64(1), object(5)\n",
      "memory usage: 21.0+ MB\n"
     ]
    }
   ],
   "source": [
    "data.info()"
   ]
  },
  {
   "cell_type": "code",
   "execution_count": 38,
   "id": "54aedafb",
   "metadata": {},
   "outputs": [
    {
     "data": {
      "text/plain": [
       "NaN                             78100\n",
       "Unknown                          4123\n",
       "Amazonas                         1109\n",
       "Diamond Princess cruise ship      924\n",
       "Grand Princess                    882\n",
       "                                ...  \n",
       "Harrison County, KY                 1\n",
       "Johnson County, IA                  1\n",
       "Queens County, NY                   1\n",
       "Unassigned Location, VT             1\n",
       "Charlotte County, FL                1\n",
       "Name: Province/State, Length: 738, dtype: int64"
      ]
     },
     "execution_count": 38,
     "metadata": {},
     "output_type": "execute_result"
    }
   ],
   "source": [
    "data[\"Province/State\"].value_counts(dropna=False)"
   ]
  },
  {
   "cell_type": "code",
   "execution_count": 39,
   "id": "8590da1b",
   "metadata": {},
   "outputs": [
    {
     "data": {
      "image/png": "[encoded data removed]",
      "text/plain": [
       "<Figure size 432x288 with 3 Axes>"
      ]
     },
     "metadata": {
      "needs_background": "light"
     },
     "output_type": "display_data"
    }
   ],
   "source": [
    "data1 = data.loc[:, [\"Confirmed\", \"Deaths\", \"Recovered\"]]\n",
    "data1.plot(subplots = True)\n",
    "plt.show()"
   ]
  },
  {
   "cell_type": "code",
   "execution_count": 40,
   "id": "ed3c6f01",
   "metadata": {},
   "outputs": [
    {
     "data": {
      "text/html": [
       "<div>\n",
       "<style scoped>\n",
       "    .dataframe tbody tr th:only-of-type {\n",
       "        vertical-align: middle;\n",
       "    }\n",
       "\n",
       "    .dataframe tbody tr th {\n",
       "        vertical-align: top;\n",
       "    }\n",
       "\n",
       "    .dataframe thead th {\n",
       "        text-align: right;\n",
       "    }\n",
       "</style>\n",
       "<table border=\"1\" class=\"dataframe\">\n",
       "  <thead>\n",
       "    <tr style=\"text-align: right;\">\n",
       "      <th></th>\n",
       "      <th>SNo</th>\n",
       "      <th>ObservationDate</th>\n",
       "      <th>Province/State</th>\n",
       "      <th>Country/Region</th>\n",
       "      <th>Last Update</th>\n",
       "      <th>Confirmed</th>\n",
       "      <th>Deaths</th>\n",
       "      <th>Recovered</th>\n",
       "      <th>deaths_rate</th>\n",
       "    </tr>\n",
       "  </thead>\n",
       "  <tbody>\n",
       "    <tr>\n",
       "      <th>0</th>\n",
       "      <td>1</td>\n",
       "      <td>01/22/2020</td>\n",
       "      <td>Anhui</td>\n",
       "      <td>Mainland China</td>\n",
       "      <td>1/22/2020 17:00</td>\n",
       "      <td>1.0</td>\n",
       "      <td>0.0</td>\n",
       "      <td>0.0</td>\n",
       "      <td>low</td>\n",
       "    </tr>\n",
       "    <tr>\n",
       "      <th>1</th>\n",
       "      <td>2</td>\n",
       "      <td>01/22/2020</td>\n",
       "      <td>Beijing</td>\n",
       "      <td>Mainland China</td>\n",
       "      <td>1/22/2020 17:00</td>\n",
       "      <td>14.0</td>\n",
       "      <td>0.0</td>\n",
       "      <td>0.0</td>\n",
       "      <td>low</td>\n",
       "    </tr>\n",
       "    <tr>\n",
       "      <th>2</th>\n",
       "      <td>3</td>\n",
       "      <td>01/22/2020</td>\n",
       "      <td>Chongqing</td>\n",
       "      <td>Mainland China</td>\n",
       "      <td>1/22/2020 17:00</td>\n",
       "      <td>6.0</td>\n",
       "      <td>0.0</td>\n",
       "      <td>0.0</td>\n",
       "      <td>low</td>\n",
       "    </tr>\n",
       "    <tr>\n",
       "      <th>3</th>\n",
       "      <td>4</td>\n",
       "      <td>01/22/2020</td>\n",
       "      <td>Fujian</td>\n",
       "      <td>Mainland China</td>\n",
       "      <td>1/22/2020 17:00</td>\n",
       "      <td>1.0</td>\n",
       "      <td>0.0</td>\n",
       "      <td>0.0</td>\n",
       "      <td>low</td>\n",
       "    </tr>\n",
       "    <tr>\n",
       "      <th>4</th>\n",
       "      <td>5</td>\n",
       "      <td>01/22/2020</td>\n",
       "      <td>Gansu</td>\n",
       "      <td>Mainland China</td>\n",
       "      <td>1/22/2020 17:00</td>\n",
       "      <td>0.0</td>\n",
       "      <td>0.0</td>\n",
       "      <td>0.0</td>\n",
       "      <td>low</td>\n",
       "    </tr>\n",
       "  </tbody>\n",
       "</table>\n",
       "</div>"
      ],
      "text/plain": [
       "   SNo ObservationDate Province/State  Country/Region      Last Update  \\\n",
       "0    1      01/22/2020          Anhui  Mainland China  1/22/2020 17:00   \n",
       "1    2      01/22/2020        Beijing  Mainland China  1/22/2020 17:00   \n",
       "2    3      01/22/2020      Chongqing  Mainland China  1/22/2020 17:00   \n",
       "3    4      01/22/2020         Fujian  Mainland China  1/22/2020 17:00   \n",
       "4    5      01/22/2020          Gansu  Mainland China  1/22/2020 17:00   \n",
       "\n",
       "   Confirmed  Deaths  Recovered deaths_rate  \n",
       "0        1.0     0.0        0.0         low  \n",
       "1       14.0     0.0        0.0         low  \n",
       "2        6.0     0.0        0.0         low  \n",
       "3        1.0     0.0        0.0         low  \n",
       "4        0.0     0.0        0.0         low  "
      ]
     },
     "execution_count": 40,
     "metadata": {},
     "output_type": "execute_result"
    }
   ],
   "source": [
    "data.head()"
   ]
  },
  {
   "cell_type": "code",
   "execution_count": 41,
   "id": "0a31ba9f",
   "metadata": {},
   "outputs": [
    {
     "data": {
      "text/html": [
       "<div>\n",
       "<style scoped>\n",
       "    .dataframe tbody tr th:only-of-type {\n",
       "        vertical-align: middle;\n",
       "    }\n",
       "\n",
       "    .dataframe tbody tr th {\n",
       "        vertical-align: top;\n",
       "    }\n",
       "\n",
       "    .dataframe thead th {\n",
       "        text-align: right;\n",
       "    }\n",
       "</style>\n",
       "<table border=\"1\" class=\"dataframe\">\n",
       "  <thead>\n",
       "    <tr style=\"text-align: right;\">\n",
       "      <th></th>\n",
       "      <th>ObservationDate</th>\n",
       "      <th>Province/State</th>\n",
       "      <th>Country/Region</th>\n",
       "      <th>Last Update</th>\n",
       "      <th>Confirmed</th>\n",
       "      <th>Deaths</th>\n",
       "      <th>Recovered</th>\n",
       "      <th>deaths_rate</th>\n",
       "    </tr>\n",
       "    <tr>\n",
       "      <th>SNo</th>\n",
       "      <th></th>\n",
       "      <th></th>\n",
       "      <th></th>\n",
       "      <th></th>\n",
       "      <th></th>\n",
       "      <th></th>\n",
       "      <th></th>\n",
       "      <th></th>\n",
       "    </tr>\n",
       "  </thead>\n",
       "  <tbody>\n",
       "    <tr>\n",
       "      <th>1</th>\n",
       "      <td>01/22/2020</td>\n",
       "      <td>Anhui</td>\n",
       "      <td>Mainland China</td>\n",
       "      <td>1/22/2020 17:00</td>\n",
       "      <td>1.0</td>\n",
       "      <td>0.0</td>\n",
       "      <td>0.0</td>\n",
       "      <td>low</td>\n",
       "    </tr>\n",
       "    <tr>\n",
       "      <th>2</th>\n",
       "      <td>01/22/2020</td>\n",
       "      <td>Beijing</td>\n",
       "      <td>Mainland China</td>\n",
       "      <td>1/22/2020 17:00</td>\n",
       "      <td>14.0</td>\n",
       "      <td>0.0</td>\n",
       "      <td>0.0</td>\n",
       "      <td>low</td>\n",
       "    </tr>\n",
       "    <tr>\n",
       "      <th>3</th>\n",
       "      <td>01/22/2020</td>\n",
       "      <td>Chongqing</td>\n",
       "      <td>Mainland China</td>\n",
       "      <td>1/22/2020 17:00</td>\n",
       "      <td>6.0</td>\n",
       "      <td>0.0</td>\n",
       "      <td>0.0</td>\n",
       "      <td>low</td>\n",
       "    </tr>\n",
       "    <tr>\n",
       "      <th>4</th>\n",
       "      <td>01/22/2020</td>\n",
       "      <td>Fujian</td>\n",
       "      <td>Mainland China</td>\n",
       "      <td>1/22/2020 17:00</td>\n",
       "      <td>1.0</td>\n",
       "      <td>0.0</td>\n",
       "      <td>0.0</td>\n",
       "      <td>low</td>\n",
       "    </tr>\n",
       "    <tr>\n",
       "      <th>5</th>\n",
       "      <td>01/22/2020</td>\n",
       "      <td>Gansu</td>\n",
       "      <td>Mainland China</td>\n",
       "      <td>1/22/2020 17:00</td>\n",
       "      <td>0.0</td>\n",
       "      <td>0.0</td>\n",
       "      <td>0.0</td>\n",
       "      <td>low</td>\n",
       "    </tr>\n",
       "  </tbody>\n",
       "</table>\n",
       "</div>"
      ],
      "text/plain": [
       "    ObservationDate Province/State  Country/Region      Last Update  \\\n",
       "SNo                                                                   \n",
       "1        01/22/2020          Anhui  Mainland China  1/22/2020 17:00   \n",
       "2        01/22/2020        Beijing  Mainland China  1/22/2020 17:00   \n",
       "3        01/22/2020      Chongqing  Mainland China  1/22/2020 17:00   \n",
       "4        01/22/2020         Fujian  Mainland China  1/22/2020 17:00   \n",
       "5        01/22/2020          Gansu  Mainland China  1/22/2020 17:00   \n",
       "\n",
       "     Confirmed  Deaths  Recovered deaths_rate  \n",
       "SNo                                            \n",
       "1          1.0     0.0        0.0         low  \n",
       "2         14.0     0.0        0.0         low  \n",
       "3          6.0     0.0        0.0         low  \n",
       "4          1.0     0.0        0.0         low  \n",
       "5          0.0     0.0        0.0         low  "
      ]
     },
     "execution_count": 41,
     "metadata": {},
     "output_type": "execute_result"
    }
   ],
   "source": [
    "data = data.set_index(\"SNo\")\n",
    "data.head()"
   ]
  }
 ],
 "metadata": {
  "kernelspec": {
   "display_name": "Python 3",
   "language": "python",
   "name": "python3"
  },
  "language_info": {
   "codemirror_mode": {
    "name": "ipython",
    "version": 3
   },
   "file_extension": ".py",
   "mimetype": "text/x-python",
   "name": "python",
   "nbconvert_exporter": "python",
   "pygments_lexer": "ipython3",
   "version": "3.9.5"
  }
 },
 "nbformat": 4,
 "nbformat_minor": 5
}
