{
 "cells": [
  {
   "cell_type": "code",
   "execution_count": 8,
   "metadata": {},
   "outputs": [],
   "source": [
    "import numpy as np \n",
    "import pandas as pd \n",
    "import matplotlib.pyplot as plt\n",
    "%matplotlib inline\n",
    "import seaborn as sns\n",
    "import os\n",
    "import warnings\n",
    "warnings.filterwarnings('ignore')\n",
    "from sklearn.model_selection import StratifiedKFold\n",
    "from sklearn.ensemble import RandomForestClassifier\n",
    "from sklearn.metrics import f1_score"
   ]
  },
  {
   "cell_type": "code",
   "execution_count": 9,
   "metadata": {},
   "outputs": [],
   "source": [
    "train=pd.read_csv('https://raw.githubusercontent.com/benvictoria21/pandas/master/dataset/HR%20Analytics-%20Job%20Change%20of%20Data%20Scientists/aug_train.csv')\n",
    "test=pd.read_csv('https://raw.githubusercontent.com/benvictoria21/pandas/master/dataset/HR%20Analytics-%20Job%20Change%20of%20Data%20Scientists/aug_test.csv')\n",
    "sample_submission=pd.read_csv('https://raw.githubusercontent.com/benvictoria21/pandas/master/dataset/HR%20Analytics-%20Job%20Change%20of%20Data%20Scientists/sample_submission.csv')"
   ]
  },
  {
   "cell_type": "code",
   "execution_count": 10,
   "metadata": {},
   "outputs": [
    {
     "data": {
      "text/plain": [
       "((19158, 14), (2129, 13))"
      ]
     },
     "execution_count": 10,
     "metadata": {},
     "output_type": "execute_result"
    }
   ],
   "source": [
    "train.shape,test.shape"
   ]
  },
  {
   "cell_type": "code",
   "execution_count": 11,
   "metadata": {},
   "outputs": [
    {
     "data": {
      "text/html": [
       "<div>\n",
       "<style scoped>\n",
       "    .dataframe tbody tr th:only-of-type {\n",
       "        vertical-align: middle;\n",
       "    }\n",
       "\n",
       "    .dataframe tbody tr th {\n",
       "        vertical-align: top;\n",
       "    }\n",
       "\n",
       "    .dataframe thead th {\n",
       "        text-align: right;\n",
       "    }\n",
       "</style>\n",
       "<table border=\"1\" class=\"dataframe\">\n",
       "  <thead>\n",
       "    <tr style=\"text-align: right;\">\n",
       "      <th></th>\n",
       "      <th>enrollee_id</th>\n",
       "      <th>city</th>\n",
       "      <th>city_development_index</th>\n",
       "      <th>gender</th>\n",
       "      <th>relevent_experience</th>\n",
       "      <th>enrolled_university</th>\n",
       "      <th>education_level</th>\n",
       "      <th>major_discipline</th>\n",
       "      <th>experience</th>\n",
       "      <th>company_size</th>\n",
       "      <th>company_type</th>\n",
       "      <th>last_new_job</th>\n",
       "      <th>training_hours</th>\n",
       "      <th>target</th>\n",
       "    </tr>\n",
       "  </thead>\n",
       "  <tbody>\n",
       "    <tr>\n",
       "      <th>0</th>\n",
       "      <td>8949</td>\n",
       "      <td>city_103</td>\n",
       "      <td>0.920</td>\n",
       "      <td>Male</td>\n",
       "      <td>Has relevent experience</td>\n",
       "      <td>no_enrollment</td>\n",
       "      <td>Graduate</td>\n",
       "      <td>STEM</td>\n",
       "      <td>&gt;20</td>\n",
       "      <td>NaN</td>\n",
       "      <td>NaN</td>\n",
       "      <td>1</td>\n",
       "      <td>36</td>\n",
       "      <td>1.0</td>\n",
       "    </tr>\n",
       "    <tr>\n",
       "      <th>1</th>\n",
       "      <td>29725</td>\n",
       "      <td>city_40</td>\n",
       "      <td>0.776</td>\n",
       "      <td>Male</td>\n",
       "      <td>No relevent experience</td>\n",
       "      <td>no_enrollment</td>\n",
       "      <td>Graduate</td>\n",
       "      <td>STEM</td>\n",
       "      <td>15</td>\n",
       "      <td>50-99</td>\n",
       "      <td>Pvt Ltd</td>\n",
       "      <td>&gt;4</td>\n",
       "      <td>47</td>\n",
       "      <td>0.0</td>\n",
       "    </tr>\n",
       "    <tr>\n",
       "      <th>2</th>\n",
       "      <td>11561</td>\n",
       "      <td>city_21</td>\n",
       "      <td>0.624</td>\n",
       "      <td>NaN</td>\n",
       "      <td>No relevent experience</td>\n",
       "      <td>Full time course</td>\n",
       "      <td>Graduate</td>\n",
       "      <td>STEM</td>\n",
       "      <td>5</td>\n",
       "      <td>NaN</td>\n",
       "      <td>NaN</td>\n",
       "      <td>never</td>\n",
       "      <td>83</td>\n",
       "      <td>0.0</td>\n",
       "    </tr>\n",
       "    <tr>\n",
       "      <th>3</th>\n",
       "      <td>33241</td>\n",
       "      <td>city_115</td>\n",
       "      <td>0.789</td>\n",
       "      <td>NaN</td>\n",
       "      <td>No relevent experience</td>\n",
       "      <td>NaN</td>\n",
       "      <td>Graduate</td>\n",
       "      <td>Business Degree</td>\n",
       "      <td>&lt;1</td>\n",
       "      <td>NaN</td>\n",
       "      <td>Pvt Ltd</td>\n",
       "      <td>never</td>\n",
       "      <td>52</td>\n",
       "      <td>1.0</td>\n",
       "    </tr>\n",
       "    <tr>\n",
       "      <th>4</th>\n",
       "      <td>666</td>\n",
       "      <td>city_162</td>\n",
       "      <td>0.767</td>\n",
       "      <td>Male</td>\n",
       "      <td>Has relevent experience</td>\n",
       "      <td>no_enrollment</td>\n",
       "      <td>Masters</td>\n",
       "      <td>STEM</td>\n",
       "      <td>&gt;20</td>\n",
       "      <td>50-99</td>\n",
       "      <td>Funded Startup</td>\n",
       "      <td>4</td>\n",
       "      <td>8</td>\n",
       "      <td>0.0</td>\n",
       "    </tr>\n",
       "  </tbody>\n",
       "</table>\n",
       "</div>"
      ],
      "text/plain": [
       "   enrollee_id      city  city_development_index gender  \\\n",
       "0         8949  city_103                   0.920   Male   \n",
       "1        29725   city_40                   0.776   Male   \n",
       "2        11561   city_21                   0.624    NaN   \n",
       "3        33241  city_115                   0.789    NaN   \n",
       "4          666  city_162                   0.767   Male   \n",
       "\n",
       "       relevent_experience enrolled_university education_level  \\\n",
       "0  Has relevent experience       no_enrollment        Graduate   \n",
       "1   No relevent experience       no_enrollment        Graduate   \n",
       "2   No relevent experience    Full time course        Graduate   \n",
       "3   No relevent experience                 NaN        Graduate   \n",
       "4  Has relevent experience       no_enrollment         Masters   \n",
       "\n",
       "  major_discipline experience company_size    company_type last_new_job  \\\n",
       "0             STEM        >20          NaN             NaN            1   \n",
       "1             STEM         15        50-99         Pvt Ltd           >4   \n",
       "2             STEM          5          NaN             NaN        never   \n",
       "3  Business Degree         <1          NaN         Pvt Ltd        never   \n",
       "4             STEM        >20        50-99  Funded Startup            4   \n",
       "\n",
       "   training_hours  target  \n",
       "0              36     1.0  \n",
       "1              47     0.0  \n",
       "2              83     0.0  \n",
       "3              52     1.0  \n",
       "4               8     0.0  "
      ]
     },
     "execution_count": 11,
     "metadata": {},
     "output_type": "execute_result"
    }
   ],
   "source": [
    "train.head()"
   ]
  },
  {
   "cell_type": "code",
   "execution_count": 12,
   "metadata": {},
   "outputs": [
    {
     "data": {
      "text/html": [
       "<div>\n",
       "<style scoped>\n",
       "    .dataframe tbody tr th:only-of-type {\n",
       "        vertical-align: middle;\n",
       "    }\n",
       "\n",
       "    .dataframe tbody tr th {\n",
       "        vertical-align: top;\n",
       "    }\n",
       "\n",
       "    .dataframe thead th {\n",
       "        text-align: right;\n",
       "    }\n",
       "</style>\n",
       "<table border=\"1\" class=\"dataframe\">\n",
       "  <thead>\n",
       "    <tr style=\"text-align: right;\">\n",
       "      <th></th>\n",
       "      <th>enrollee_id</th>\n",
       "      <th>city</th>\n",
       "      <th>city_development_index</th>\n",
       "      <th>gender</th>\n",
       "      <th>relevent_experience</th>\n",
       "      <th>enrolled_university</th>\n",
       "      <th>education_level</th>\n",
       "      <th>major_discipline</th>\n",
       "      <th>experience</th>\n",
       "      <th>company_size</th>\n",
       "      <th>company_type</th>\n",
       "      <th>last_new_job</th>\n",
       "      <th>training_hours</th>\n",
       "    </tr>\n",
       "  </thead>\n",
       "  <tbody>\n",
       "    <tr>\n",
       "      <th>0</th>\n",
       "      <td>32403</td>\n",
       "      <td>city_41</td>\n",
       "      <td>0.827</td>\n",
       "      <td>Male</td>\n",
       "      <td>Has relevent experience</td>\n",
       "      <td>Full time course</td>\n",
       "      <td>Graduate</td>\n",
       "      <td>STEM</td>\n",
       "      <td>9</td>\n",
       "      <td>&lt;10</td>\n",
       "      <td>NaN</td>\n",
       "      <td>1</td>\n",
       "      <td>21</td>\n",
       "    </tr>\n",
       "    <tr>\n",
       "      <th>1</th>\n",
       "      <td>9858</td>\n",
       "      <td>city_103</td>\n",
       "      <td>0.920</td>\n",
       "      <td>Female</td>\n",
       "      <td>Has relevent experience</td>\n",
       "      <td>no_enrollment</td>\n",
       "      <td>Graduate</td>\n",
       "      <td>STEM</td>\n",
       "      <td>5</td>\n",
       "      <td>NaN</td>\n",
       "      <td>Pvt Ltd</td>\n",
       "      <td>1</td>\n",
       "      <td>98</td>\n",
       "    </tr>\n",
       "    <tr>\n",
       "      <th>2</th>\n",
       "      <td>31806</td>\n",
       "      <td>city_21</td>\n",
       "      <td>0.624</td>\n",
       "      <td>Male</td>\n",
       "      <td>No relevent experience</td>\n",
       "      <td>no_enrollment</td>\n",
       "      <td>High School</td>\n",
       "      <td>NaN</td>\n",
       "      <td>&lt;1</td>\n",
       "      <td>NaN</td>\n",
       "      <td>Pvt Ltd</td>\n",
       "      <td>never</td>\n",
       "      <td>15</td>\n",
       "    </tr>\n",
       "    <tr>\n",
       "      <th>3</th>\n",
       "      <td>27385</td>\n",
       "      <td>city_13</td>\n",
       "      <td>0.827</td>\n",
       "      <td>Male</td>\n",
       "      <td>Has relevent experience</td>\n",
       "      <td>no_enrollment</td>\n",
       "      <td>Masters</td>\n",
       "      <td>STEM</td>\n",
       "      <td>11</td>\n",
       "      <td>10/49</td>\n",
       "      <td>Pvt Ltd</td>\n",
       "      <td>1</td>\n",
       "      <td>39</td>\n",
       "    </tr>\n",
       "    <tr>\n",
       "      <th>4</th>\n",
       "      <td>27724</td>\n",
       "      <td>city_103</td>\n",
       "      <td>0.920</td>\n",
       "      <td>Male</td>\n",
       "      <td>Has relevent experience</td>\n",
       "      <td>no_enrollment</td>\n",
       "      <td>Graduate</td>\n",
       "      <td>STEM</td>\n",
       "      <td>&gt;20</td>\n",
       "      <td>10000+</td>\n",
       "      <td>Pvt Ltd</td>\n",
       "      <td>&gt;4</td>\n",
       "      <td>72</td>\n",
       "    </tr>\n",
       "  </tbody>\n",
       "</table>\n",
       "</div>"
      ],
      "text/plain": [
       "   enrollee_id      city  city_development_index  gender  \\\n",
       "0        32403   city_41                   0.827    Male   \n",
       "1         9858  city_103                   0.920  Female   \n",
       "2        31806   city_21                   0.624    Male   \n",
       "3        27385   city_13                   0.827    Male   \n",
       "4        27724  city_103                   0.920    Male   \n",
       "\n",
       "       relevent_experience enrolled_university education_level  \\\n",
       "0  Has relevent experience    Full time course        Graduate   \n",
       "1  Has relevent experience       no_enrollment        Graduate   \n",
       "2   No relevent experience       no_enrollment     High School   \n",
       "3  Has relevent experience       no_enrollment         Masters   \n",
       "4  Has relevent experience       no_enrollment        Graduate   \n",
       "\n",
       "  major_discipline experience company_size company_type last_new_job  \\\n",
       "0             STEM          9          <10          NaN            1   \n",
       "1             STEM          5          NaN      Pvt Ltd            1   \n",
       "2              NaN         <1          NaN      Pvt Ltd        never   \n",
       "3             STEM         11        10/49      Pvt Ltd            1   \n",
       "4             STEM        >20       10000+      Pvt Ltd           >4   \n",
       "\n",
       "   training_hours  \n",
       "0              21  \n",
       "1              98  \n",
       "2              15  \n",
       "3              39  \n",
       "4              72  "
      ]
     },
     "execution_count": 12,
     "metadata": {},
     "output_type": "execute_result"
    }
   ],
   "source": [
    "test.head()"
   ]
  },
  {
   "cell_type": "code",
   "execution_count": 13,
   "metadata": {},
   "outputs": [
    {
     "data": {
      "text/plain": [
       "0.0    0.750652\n",
       "1.0    0.249348\n",
       "Name: target, dtype: float64"
      ]
     },
     "execution_count": 13,
     "metadata": {},
     "output_type": "execute_result"
    }
   ],
   "source": [
    "train['target'].value_counts(normalize=True)"
   ]
  },
  {
   "cell_type": "code",
   "execution_count": 14,
   "metadata": {},
   "outputs": [
    {
     "data": {
      "text/plain": [
       "enrollee_id                 int64\n",
       "city                       object\n",
       "city_development_index    float64\n",
       "gender                     object\n",
       "relevent_experience        object\n",
       "enrolled_university        object\n",
       "education_level            object\n",
       "major_discipline           object\n",
       "experience                 object\n",
       "company_size               object\n",
       "company_type               object\n",
       "last_new_job               object\n",
       "training_hours              int64\n",
       "target                    float64\n",
       "dtype: object"
      ]
     },
     "execution_count": 14,
     "metadata": {},
     "output_type": "execute_result"
    }
   ],
   "source": [
    "train.dtypes"
   ]
  },
  {
   "cell_type": "code",
   "execution_count": 15,
   "metadata": {},
   "outputs": [],
   "source": [
    "obj_cols=train.select_dtypes('object').columns\n",
    "numeric_cols=[c for c in train.columns if c not in obj_cols if c not in ('target')]"
   ]
  },
  {
   "cell_type": "code",
   "execution_count": 16,
   "metadata": {},
   "outputs": [
    {
     "name": "stdout",
     "output_type": "stream",
     "text": [
      "No instances found\n",
      "No instances found\n",
      "No instances found\n",
      "No instances found\n",
      "No instances found\n",
      "No instances found\n",
      "No instances found\n",
      "No instances found\n",
      "No instances found\n",
      "No instances found\n"
     ]
    }
   ],
   "source": [
    "for c in obj_cols:\n",
    "    if list(set(test[c])-set(train[c])):\n",
    "        print(f\"For column {c} Available only in test are {list(set(test['city'])-set(train['city']))}\")\n",
    "    print(\"No instances found\")"
   ]
  },
  {
   "cell_type": "code",
   "execution_count": 17,
   "metadata": {},
   "outputs": [],
   "source": [
    "test.loc[:,'target']=-1\n",
    "data=pd.concat([train,test],ignore_index=True)"
   ]
  },
  {
   "cell_type": "code",
   "execution_count": 18,
   "metadata": {},
   "outputs": [
    {
     "data": {
      "text/html": [
       "<div>\n",
       "<style scoped>\n",
       "    .dataframe tbody tr th:only-of-type {\n",
       "        vertical-align: middle;\n",
       "    }\n",
       "\n",
       "    .dataframe tbody tr th {\n",
       "        vertical-align: top;\n",
       "    }\n",
       "\n",
       "    .dataframe thead th {\n",
       "        text-align: right;\n",
       "    }\n",
       "</style>\n",
       "<table border=\"1\" class=\"dataframe\">\n",
       "  <thead>\n",
       "    <tr style=\"text-align: right;\">\n",
       "      <th></th>\n",
       "      <th>column_name</th>\n",
       "      <th>unique_values</th>\n",
       "      <th>null_value_perc</th>\n",
       "      <th>perc_of_max_value</th>\n",
       "    </tr>\n",
       "  </thead>\n",
       "  <tbody>\n",
       "    <tr>\n",
       "      <th>0</th>\n",
       "      <td>city</td>\n",
       "      <td>123</td>\n",
       "      <td>0.000000</td>\n",
       "      <td>22.680509</td>\n",
       "    </tr>\n",
       "    <tr>\n",
       "      <th>6</th>\n",
       "      <td>experience</td>\n",
       "      <td>22</td>\n",
       "      <td>0.328839</td>\n",
       "      <td>17.235872</td>\n",
       "    </tr>\n",
       "    <tr>\n",
       "      <th>7</th>\n",
       "      <td>company_size</td>\n",
       "      <td>8</td>\n",
       "      <td>30.816931</td>\n",
       "      <td>30.816931</td>\n",
       "    </tr>\n",
       "    <tr>\n",
       "      <th>5</th>\n",
       "      <td>major_discipline</td>\n",
       "      <td>6</td>\n",
       "      <td>14.680321</td>\n",
       "      <td>75.694086</td>\n",
       "    </tr>\n",
       "    <tr>\n",
       "      <th>8</th>\n",
       "      <td>company_type</td>\n",
       "      <td>6</td>\n",
       "      <td>31.822239</td>\n",
       "      <td>51.477428</td>\n",
       "    </tr>\n",
       "    <tr>\n",
       "      <th>9</th>\n",
       "      <td>last_new_job</td>\n",
       "      <td>6</td>\n",
       "      <td>2.175036</td>\n",
       "      <td>41.922300</td>\n",
       "    </tr>\n",
       "    <tr>\n",
       "      <th>4</th>\n",
       "      <td>education_level</td>\n",
       "      <td>5</td>\n",
       "      <td>2.405224</td>\n",
       "      <td>60.445342</td>\n",
       "    </tr>\n",
       "    <tr>\n",
       "      <th>1</th>\n",
       "      <td>gender</td>\n",
       "      <td>3</td>\n",
       "      <td>23.563677</td>\n",
       "      <td>68.966975</td>\n",
       "    </tr>\n",
       "    <tr>\n",
       "      <th>3</th>\n",
       "      <td>enrolled_university</td>\n",
       "      <td>3</td>\n",
       "      <td>1.958942</td>\n",
       "      <td>72.043970</td>\n",
       "    </tr>\n",
       "    <tr>\n",
       "      <th>2</th>\n",
       "      <td>relevent_experience</td>\n",
       "      <td>2</td>\n",
       "      <td>0.000000</td>\n",
       "      <td>71.950016</td>\n",
       "    </tr>\n",
       "  </tbody>\n",
       "</table>\n",
       "</div>"
      ],
      "text/plain": [
       "           column_name  unique_values  null_value_perc  perc_of_max_value\n",
       "0                 city            123         0.000000          22.680509\n",
       "6           experience             22         0.328839          17.235872\n",
       "7         company_size              8        30.816931          30.816931\n",
       "5     major_discipline              6        14.680321          75.694086\n",
       "8         company_type              6        31.822239          51.477428\n",
       "9         last_new_job              6         2.175036          41.922300\n",
       "4      education_level              5         2.405224          60.445342\n",
       "1               gender              3        23.563677          68.966975\n",
       "3  enrolled_university              3         1.958942          72.043970\n",
       "2  relevent_experience              2         0.000000          71.950016"
      ]
     },
     "execution_count": 18,
     "metadata": {},
     "output_type": "execute_result"
    }
   ],
   "source": [
    "stat_cols=[]\n",
    "for c in obj_cols:\n",
    "    stat_cols.append((c,data[c].nunique(),data[c].isnull().sum()*100/data[c].shape[0],data[c].value_counts(normalize=True,dropna=False).values[0]*100))\n",
    "    stat_df=pd.DataFrame(stat_cols,columns=['column_name','unique_values','null_value_perc','perc_of_max_value'])\n",
    "    stat_df.sort_values('unique_values',ascending=False,inplace=True)\n",
    "stat_df"
   ]
  },
  {
   "cell_type": "code",
   "execution_count": 19,
   "metadata": {},
   "outputs": [
    {
     "data": {
      "text/plain": [
       "Pvt Ltd                0.514774\n",
       "NaN                    0.318222\n",
       "Funded Startup         0.051581\n",
       "Public Sector          0.050829\n",
       "Early Stage Startup    0.031381\n",
       "NGO                    0.026965\n",
       "Other                  0.006248\n",
       "Name: company_type, dtype: float64"
      ]
     },
     "execution_count": 19,
     "metadata": {},
     "output_type": "execute_result"
    }
   ],
   "source": [
    "data['company_type'].value_counts(normalize=True,dropna=False)"
   ]
  },
  {
   "cell_type": "code",
   "execution_count": 20,
   "metadata": {},
   "outputs": [
    {
     "name": "stdout",
     "output_type": "stream",
     "text": [
      "Imputing null values in column gender\n",
      "Imputing null values in column enrolled_university\n",
      "Imputing null values in column education_level\n",
      "Imputing null values in column major_discipline\n",
      "Imputing null values in column experience\n",
      "Imputing null values in column company_size\n",
      "Imputing null values in column company_type\n",
      "Imputing null values in column last_new_job\n"
     ]
    }
   ],
   "source": [
    "null_cols=[c for c in obj_cols if c not in ['city','relevent_experience']]\n",
    "for n in null_cols:\n",
    "    print(f'Imputing null values in column {n}')\n",
    "    data.loc[:,n]=data[n].fillna('NONE').astype('str')"
   ]
  },
  {
   "cell_type": "code",
   "execution_count": 21,
   "metadata": {},
   "outputs": [
    {
     "data": {
      "text/plain": [
       "Pvt Ltd                0.514774\n",
       "NONE                   0.318222\n",
       "Funded Startup         0.051581\n",
       "Public Sector          0.050829\n",
       "Early Stage Startup    0.031381\n",
       "NGO                    0.026965\n",
       "Other                  0.006248\n",
       "Name: company_type, dtype: float64"
      ]
     },
     "execution_count": 21,
     "metadata": {},
     "output_type": "execute_result"
    }
   ],
   "source": [
    "data['company_type'].value_counts(normalize=True,dropna=False)"
   ]
  },
  {
   "cell_type": "code",
   "execution_count": 22,
   "metadata": {},
   "outputs": [
    {
     "data": {
      "text/html": [
       "<div>\n",
       "<style scoped>\n",
       "    .dataframe tbody tr th:only-of-type {\n",
       "        vertical-align: middle;\n",
       "    }\n",
       "\n",
       "    .dataframe tbody tr th {\n",
       "        vertical-align: top;\n",
       "    }\n",
       "\n",
       "    .dataframe thead th {\n",
       "        text-align: right;\n",
       "    }\n",
       "</style>\n",
       "<table border=\"1\" class=\"dataframe\">\n",
       "  <thead>\n",
       "    <tr style=\"text-align: right;\">\n",
       "      <th></th>\n",
       "      <th>column_name</th>\n",
       "      <th>unique_values</th>\n",
       "      <th>null_value_perc</th>\n",
       "      <th>perc_of_max_value</th>\n",
       "    </tr>\n",
       "  </thead>\n",
       "  <tbody>\n",
       "    <tr>\n",
       "      <th>0</th>\n",
       "      <td>city</td>\n",
       "      <td>123</td>\n",
       "      <td>0.0</td>\n",
       "      <td>22.680509</td>\n",
       "    </tr>\n",
       "    <tr>\n",
       "      <th>6</th>\n",
       "      <td>experience</td>\n",
       "      <td>23</td>\n",
       "      <td>0.0</td>\n",
       "      <td>17.235872</td>\n",
       "    </tr>\n",
       "    <tr>\n",
       "      <th>7</th>\n",
       "      <td>company_size</td>\n",
       "      <td>9</td>\n",
       "      <td>0.0</td>\n",
       "      <td>30.816931</td>\n",
       "    </tr>\n",
       "    <tr>\n",
       "      <th>5</th>\n",
       "      <td>major_discipline</td>\n",
       "      <td>7</td>\n",
       "      <td>0.0</td>\n",
       "      <td>75.694086</td>\n",
       "    </tr>\n",
       "    <tr>\n",
       "      <th>8</th>\n",
       "      <td>company_type</td>\n",
       "      <td>7</td>\n",
       "      <td>0.0</td>\n",
       "      <td>51.477428</td>\n",
       "    </tr>\n",
       "    <tr>\n",
       "      <th>9</th>\n",
       "      <td>last_new_job</td>\n",
       "      <td>7</td>\n",
       "      <td>0.0</td>\n",
       "      <td>41.922300</td>\n",
       "    </tr>\n",
       "    <tr>\n",
       "      <th>4</th>\n",
       "      <td>education_level</td>\n",
       "      <td>6</td>\n",
       "      <td>0.0</td>\n",
       "      <td>60.445342</td>\n",
       "    </tr>\n",
       "    <tr>\n",
       "      <th>1</th>\n",
       "      <td>gender</td>\n",
       "      <td>4</td>\n",
       "      <td>0.0</td>\n",
       "      <td>68.966975</td>\n",
       "    </tr>\n",
       "    <tr>\n",
       "      <th>3</th>\n",
       "      <td>enrolled_university</td>\n",
       "      <td>4</td>\n",
       "      <td>0.0</td>\n",
       "      <td>72.043970</td>\n",
       "    </tr>\n",
       "    <tr>\n",
       "      <th>2</th>\n",
       "      <td>relevent_experience</td>\n",
       "      <td>2</td>\n",
       "      <td>0.0</td>\n",
       "      <td>71.950016</td>\n",
       "    </tr>\n",
       "  </tbody>\n",
       "</table>\n",
       "</div>"
      ],
      "text/plain": [
       "           column_name  unique_values  null_value_perc  perc_of_max_value\n",
       "0                 city            123              0.0          22.680509\n",
       "6           experience             23              0.0          17.235872\n",
       "7         company_size              9              0.0          30.816931\n",
       "5     major_discipline              7              0.0          75.694086\n",
       "8         company_type              7              0.0          51.477428\n",
       "9         last_new_job              7              0.0          41.922300\n",
       "4      education_level              6              0.0          60.445342\n",
       "1               gender              4              0.0          68.966975\n",
       "3  enrolled_university              4              0.0          72.043970\n",
       "2  relevent_experience              2              0.0          71.950016"
      ]
     },
     "execution_count": 22,
     "metadata": {},
     "output_type": "execute_result"
    }
   ],
   "source": [
    "stat_cols=[]\n",
    "for c in obj_cols:\n",
    "    stat_cols.append((c,data[c].nunique(),data[c].isnull().sum()*100/data[c].shape[0],data[c].value_counts(normalize=True,dropna=False).values[0]*100))\n",
    "    stat_df=pd.DataFrame(stat_cols,columns=['column_name','unique_values','null_value_perc','perc_of_max_value'])\n",
    "    stat_df.sort_values('unique_values',ascending=False,inplace=True)\n",
    "stat_df"
   ]
  },
  {
   "cell_type": "code",
   "execution_count": 23,
   "metadata": {},
   "outputs": [
    {
     "name": "stdout",
     "output_type": "stream",
     "text": [
      "OHE relevent_experience.Now removing original column relevent_experience from df\n",
      "OHE enrolled_university.Now removing original column enrolled_university from df\n",
      "OHE gender.Now removing original column gender from df\n"
     ]
    }
   ],
   "source": [
    "for c in ['relevent_experience','enrolled_university','gender']:\n",
    "    temp=pd.get_dummies(data[c],prefix='OHE')\n",
    "    data=pd.concat([data,temp],axis=1)\n",
    "    print(f'OHE {c}.Now removing original column {c} from df')\n",
    "    data.drop(c,axis=1,inplace=True)"
   ]
  },
  {
   "cell_type": "code",
   "execution_count": 24,
   "metadata": {},
   "outputs": [
    {
     "data": {
      "text/plain": [
       "enrollee_id               0\n",
       "city_development_index    0\n",
       "training_hours            0\n",
       "dtype: int64"
      ]
     },
     "execution_count": 24,
     "metadata": {},
     "output_type": "execute_result"
    }
   ],
   "source": [
    "data[numeric_cols].isnull().sum()"
   ]
  },
  {
   "cell_type": "code",
   "execution_count": 25,
   "metadata": {},
   "outputs": [],
   "source": [
    "data.loc[:,'enrollee_id']=data.loc[:,'enrollee_id'].astype('object')"
   ]
  },
  {
   "cell_type": "code",
   "execution_count": 26,
   "metadata": {},
   "outputs": [],
   "source": [
    "train=data.loc[data['target']!=-1,:].reset_index(drop=True)\n",
    "test=data.loc[data['target']==-1,:].reset_index(drop=True)"
   ]
  },
  {
   "cell_type": "code",
   "execution_count": 27,
   "metadata": {},
   "outputs": [],
   "source": [
    "X=train.drop('target',axis=1)\n",
    "y=train.target.values"
   ]
  },
  {
   "cell_type": "code",
   "execution_count": 28,
   "metadata": {},
   "outputs": [
    {
     "data": {
      "text/plain": [
       "Text(0, 0.5, 'frequency')"
      ]
     },
     "execution_count": 28,
     "metadata": {},
     "output_type": "execute_result"
    },
    {
     "data": {
      "image/png": "[encoded data removed]",
      "text/plain": [
       "<Figure size 864x720 with 4 Axes>"
      ]
     },
     "metadata": {
      "needs_background": "light"
     },
     "output_type": "display_data"
    }
   ],
   "source": [
    "fig,ax=plt.subplots(figsize=(12,10))\n",
    "plt.subplot(2,2,1)\n",
    "sns.distplot(train['city_development_index'],color='darkblue')\n",
    "plt.title(\"Distribution of city development index-Train\",fontsize=15)\n",
    "plt.xlabel('City development index',fontsize=10)\n",
    "plt.ylabel('frequency')\n",
    "plt.subplot(2,2,2)\n",
    "sns.distplot(test['city_development_index'],color='violet')\n",
    "plt.title(\"Distribution of city development index-Test\",fontsize=15)\n",
    "plt.xlabel('City development index',fontsize=10)\n",
    "plt.ylabel('frequency')\n",
    "plt.subplot(2,2,3)\n",
    "sns.distplot(train['training_hours'],color='darkblue')\n",
    "plt.title(\"Distribution of training hours-Train\",fontsize=15)\n",
    "plt.xlabel('Training Hours',fontsize=10)\n",
    "plt.ylabel('frequency')\n",
    "plt.subplot(2,2,4)\n",
    "sns.distplot(test['training_hours'],color='violet')\n",
    "plt.title(\"Distribution of training hours-Test\",fontsize=15)\n",
    "plt.xlabel('Training Hours',fontsize=10)\n",
    "plt.ylabel('frequency')"
   ]
  },
  {
   "cell_type": "code",
   "execution_count": 30,
   "metadata": {},
   "outputs": [
    {
     "data": {
      "text/plain": [
       "(count    19158.000000\n",
       " mean        65.366896\n",
       " std         60.058462\n",
       " min          1.000000\n",
       " 25%         23.000000\n",
       " 50%         47.000000\n",
       " 75%         88.000000\n",
       " max        336.000000\n",
       " Name: training_hours, dtype: float64,\n",
       " count    2129.000000\n",
       " mean       64.983091\n",
       " std        60.238660\n",
       " min         1.000000\n",
       " 25%        23.000000\n",
       " 50%        47.000000\n",
       " 75%        86.000000\n",
       " max       334.000000\n",
       " Name: training_hours, dtype: float64)"
      ]
     },
     "execution_count": 30,
     "metadata": {},
     "output_type": "execute_result"
    }
   ],
   "source": [
    "train['training_hours'].describe(),test['training_hours'].describe()"
   ]
  },
  {
   "cell_type": "code",
   "execution_count": 31,
   "metadata": {},
   "outputs": [],
   "source": [
    "freq_cols=['city','experience','company_size','major_discipline','company_type','last_new_job','education_level']"
   ]
  },
  {
   "cell_type": "code",
   "execution_count": 33,
   "metadata": {},
   "outputs": [
    {
     "name": "stdout",
     "output_type": "stream",
     "text": [
      "***Starting fold 1***\n",
      "F1 score for fold 1 is 0.49056603773584906\n",
      "***Starting fold 2***\n",
      "F1 score for fold 2 is 0.5220377790497996\n",
      "***Starting fold 3***\n",
      "F1 score for fold 3 is 0.5017421602787456\n",
      "***Starting fold 4***\n",
      "F1 score for fold 4 is 0.5357142857142857\n",
      "***Starting fold 5***\n",
      "F1 score for fold 5 is 0.5017709563164109\n"
     ]
    }
   ],
   "source": [
    "freq_cols=['city','experience','company_size','major_discipline','company_type','last_new_job','education_level']\n",
    "required_cols=[c for c in X.columns if c not in ('enrollee_id')]\n",
    "folds=StratifiedKFold(n_splits=5,shuffle=True,random_state=42)\n",
    "def freq_encode(trn_df,val_df,cols):\n",
    "    for c in cols:\n",
    "        df=pd.concat([trn_df[[c]],val_df[[c]]])\n",
    "        foo=df[c].value_counts().to_dict()\n",
    "        trn_df[c]=trn_df[c].map(foo)\n",
    "        val_df[c]=val_df[c].map(foo)\n",
    "    return trn_df[cols],val_df[cols]\n",
    "for i,(trn_idx,val_idx) in enumerate(folds.split(X,y)):\n",
    "    print(f'***Starting fold {i+1}***')\n",
    "    trn_x,trn_y=X[required_cols].iloc[trn_idx],y[trn_idx]\n",
    "    val_x,val_y=X[required_cols].iloc[val_idx],y[val_idx]\n",
    "    trn_x[freq_cols],val_x[freq_cols]=freq_encode(trn_x,val_x,freq_cols)\n",
    "    #val_x[freq_cols]=freq_encode(val_x,freq_cols)\n",
    "    clf=RandomForestClassifier(n_estimators=1000,oob_score=True,n_jobs=-1,random_state=40,max_features='sqrt')\n",
    "    clf.fit(trn_x,trn_y)\n",
    "    preds=clf.predict(val_x)\n",
    "    score=f1_score(val_y,preds)\n",
    "    print(f'F1 score for fold {i+1} is {score}')"
   ]
  }
 ],
 "metadata": {
  "kernelspec": {
   "display_name": "Python 3",
   "language": "python",
   "name": "python3"
  },
  "language_info": {
   "codemirror_mode": {
    "name": "ipython",
    "version": 3
   },
   "file_extension": ".py",
   "mimetype": "text/x-python",
   "name": "python",
   "nbconvert_exporter": "python",
   "pygments_lexer": "ipython3",
   "version": "3.8.3"
  }
 },
 "nbformat": 4,
 "nbformat_minor": 4
}
