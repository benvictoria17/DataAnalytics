{
 "cells": [
  {
   "cell_type": "code",
   "execution_count": 21,
   "id": "1a0d6db1",
   "metadata": {},
   "outputs": [],
   "source": [
    "import numpy as np\n",
    "import pandas as pd"
   ]
  },
  {
   "cell_type": "code",
   "execution_count": 22,
   "id": "7813bf88",
   "metadata": {},
   "outputs": [
    {
     "data": {
      "text/html": [
       "<div>\n",
       "<style scoped>\n",
       "    .dataframe tbody tr th:only-of-type {\n",
       "        vertical-align: middle;\n",
       "    }\n",
       "\n",
       "    .dataframe tbody tr th {\n",
       "        vertical-align: top;\n",
       "    }\n",
       "\n",
       "    .dataframe thead th {\n",
       "        text-align: right;\n",
       "    }\n",
       "</style>\n",
       "<table border=\"1\" class=\"dataframe\">\n",
       "  <thead>\n",
       "    <tr style=\"text-align: right;\">\n",
       "      <th></th>\n",
       "      <th>ranking</th>\n",
       "      <th>change in position from 2020</th>\n",
       "      <th>country</th>\n",
       "      <th>total score</th>\n",
       "      <th>quantity score</th>\n",
       "      <th>quality score</th>\n",
       "      <th>business score</th>\n",
       "      <th>change in position sign</th>\n",
       "    </tr>\n",
       "  </thead>\n",
       "  <tbody>\n",
       "    <tr>\n",
       "      <th>0</th>\n",
       "      <td>1.0</td>\n",
       "      <td>0</td>\n",
       "      <td>United States</td>\n",
       "      <td>124.420</td>\n",
       "      <td>19.45</td>\n",
       "      <td>101.17</td>\n",
       "      <td>3.80</td>\n",
       "      <td>NaN</td>\n",
       "    </tr>\n",
       "    <tr>\n",
       "      <th>1</th>\n",
       "      <td>2.0</td>\n",
       "      <td>0</td>\n",
       "      <td>United Kingdom</td>\n",
       "      <td>28.719</td>\n",
       "      <td>8.16</td>\n",
       "      <td>16.86</td>\n",
       "      <td>3.70</td>\n",
       "      <td>NaN</td>\n",
       "    </tr>\n",
       "    <tr>\n",
       "      <th>2</th>\n",
       "      <td>3.0</td>\n",
       "      <td>0</td>\n",
       "      <td>Israel</td>\n",
       "      <td>27.741</td>\n",
       "      <td>5.48</td>\n",
       "      <td>19.14</td>\n",
       "      <td>3.13</td>\n",
       "      <td>NaN</td>\n",
       "    </tr>\n",
       "    <tr>\n",
       "      <th>3</th>\n",
       "      <td>4.0</td>\n",
       "      <td>0</td>\n",
       "      <td>Canada</td>\n",
       "      <td>19.876</td>\n",
       "      <td>6.58</td>\n",
       "      <td>9.75</td>\n",
       "      <td>3.55</td>\n",
       "      <td>NaN</td>\n",
       "    </tr>\n",
       "    <tr>\n",
       "      <th>4</th>\n",
       "      <td>5.0</td>\n",
       "      <td>0</td>\n",
       "      <td>Germany</td>\n",
       "      <td>17.053</td>\n",
       "      <td>3.64</td>\n",
       "      <td>9.93</td>\n",
       "      <td>3.49</td>\n",
       "      <td>NaN</td>\n",
       "    </tr>\n",
       "    <tr>\n",
       "      <th>...</th>\n",
       "      <td>...</td>\n",
       "      <td>...</td>\n",
       "      <td>...</td>\n",
       "      <td>...</td>\n",
       "      <td>...</td>\n",
       "      <td>...</td>\n",
       "      <td>...</td>\n",
       "      <td>...</td>\n",
       "    </tr>\n",
       "    <tr>\n",
       "      <th>96</th>\n",
       "      <td>97.0</td>\n",
       "      <td>8</td>\n",
       "      <td>Uganda</td>\n",
       "      <td>0.180</td>\n",
       "      <td>0.07</td>\n",
       "      <td>0.04</td>\n",
       "      <td>0.07</td>\n",
       "      <td>-</td>\n",
       "    </tr>\n",
       "    <tr>\n",
       "      <th>97</th>\n",
       "      <td>98.0</td>\n",
       "      <td>2</td>\n",
       "      <td>Nepal</td>\n",
       "      <td>0.172</td>\n",
       "      <td>0.06</td>\n",
       "      <td>0.04</td>\n",
       "      <td>0.08</td>\n",
       "      <td>+</td>\n",
       "    </tr>\n",
       "    <tr>\n",
       "      <th>98</th>\n",
       "      <td>99.0</td>\n",
       "      <td>new  entry</td>\n",
       "      <td>Namibia</td>\n",
       "      <td>0.165</td>\n",
       "      <td>0.04</td>\n",
       "      <td>0.05</td>\n",
       "      <td>0.07</td>\n",
       "      <td>NaN</td>\n",
       "    </tr>\n",
       "    <tr>\n",
       "      <th>99</th>\n",
       "      <td>100.0</td>\n",
       "      <td>new  entry</td>\n",
       "      <td>Ethiopia</td>\n",
       "      <td>0.162</td>\n",
       "      <td>0.07</td>\n",
       "      <td>0.06</td>\n",
       "      <td>0.03</td>\n",
       "      <td>NaN</td>\n",
       "    </tr>\n",
       "    <tr>\n",
       "      <th>100</th>\n",
       "      <td>NaN</td>\n",
       "      <td>NaN</td>\n",
       "      <td>NaN</td>\n",
       "      <td>NaN</td>\n",
       "      <td>NaN</td>\n",
       "      <td>NaN</td>\n",
       "      <td>NaN</td>\n",
       "      <td>NaN</td>\n",
       "    </tr>\n",
       "  </tbody>\n",
       "</table>\n",
       "<p>101 rows × 8 columns</p>\n",
       "</div>"
      ],
      "text/plain": [
       "     ranking  change in position from 2020         country  total score  \\\n",
       "0         1.0                            0   United States      124.420   \n",
       "1         2.0                            0  United Kingdom       28.719   \n",
       "2         3.0                            0          Israel       27.741   \n",
       "3         4.0                            0          Canada       19.876   \n",
       "4         5.0                            0         Germany       17.053   \n",
       "..        ...                          ...             ...          ...   \n",
       "96       97.0                            8          Uganda        0.180   \n",
       "97       98.0                            2           Nepal        0.172   \n",
       "98       99.0                   new  entry         Namibia        0.165   \n",
       "99      100.0                   new  entry        Ethiopia        0.162   \n",
       "100       NaN                          NaN             NaN          NaN   \n",
       "\n",
       "     quantity score  quality score  business score change in position sign   \n",
       "0             19.45         101.17            3.80                      NaN  \n",
       "1              8.16          16.86            3.70                      NaN  \n",
       "2              5.48          19.14            3.13                      NaN  \n",
       "3              6.58           9.75            3.55                      NaN  \n",
       "4              3.64           9.93            3.49                      NaN  \n",
       "..              ...            ...             ...                      ...  \n",
       "96             0.07           0.04            0.07                        -  \n",
       "97             0.06           0.04            0.08                        +  \n",
       "98             0.04           0.05            0.07                      NaN  \n",
       "99             0.07           0.06            0.03                      NaN  \n",
       "100             NaN            NaN             NaN                      NaN  \n",
       "\n",
       "[101 rows x 8 columns]"
      ]
     },
     "execution_count": 22,
     "metadata": {},
     "output_type": "execute_result"
    }
   ],
   "source": [
    "df1=pd.read_csv('https://raw.githubusercontent.com/benvictoria17/DataAnalytics/main/dataset/Best%20Cities%20and%20Countries%20for%20Startups/Best%20Countries%20for%20Startups.csv')\n",
    "df1"
   ]
  },
  {
   "cell_type": "code",
   "execution_count": 23,
   "id": "4b128728",
   "metadata": {},
   "outputs": [
    {
     "data": {
      "text/html": [
       "<div>\n",
       "<style scoped>\n",
       "    .dataframe tbody tr th:only-of-type {\n",
       "        vertical-align: middle;\n",
       "    }\n",
       "\n",
       "    .dataframe tbody tr th {\n",
       "        vertical-align: top;\n",
       "    }\n",
       "\n",
       "    .dataframe thead th {\n",
       "        text-align: right;\n",
       "    }\n",
       "</style>\n",
       "<table border=\"1\" class=\"dataframe\">\n",
       "  <thead>\n",
       "    <tr style=\"text-align: right;\">\n",
       "      <th></th>\n",
       "      <th>position</th>\n",
       "      <th>change in position from 2020</th>\n",
       "      <th>city</th>\n",
       "      <th>country</th>\n",
       "      <th>total score</th>\n",
       "      <th>quatity score</th>\n",
       "      <th>quality score</th>\n",
       "      <th>business score</th>\n",
       "      <th>sign of change in position</th>\n",
       "    </tr>\n",
       "  </thead>\n",
       "  <tbody>\n",
       "    <tr>\n",
       "      <th>0</th>\n",
       "      <td>1</td>\n",
       "      <td>0</td>\n",
       "      <td>San Francisco Bay</td>\n",
       "      <td>United States</td>\n",
       "      <td>328.966</td>\n",
       "      <td>29.14</td>\n",
       "      <td>296.02</td>\n",
       "      <td>3.80</td>\n",
       "      <td>NaN</td>\n",
       "    </tr>\n",
       "    <tr>\n",
       "      <th>1</th>\n",
       "      <td>2</td>\n",
       "      <td>0</td>\n",
       "      <td>New York</td>\n",
       "      <td>United States</td>\n",
       "      <td>110.777</td>\n",
       "      <td>11.43</td>\n",
       "      <td>95.55</td>\n",
       "      <td>3.80</td>\n",
       "      <td>NaN</td>\n",
       "    </tr>\n",
       "    <tr>\n",
       "      <th>2</th>\n",
       "      <td>3</td>\n",
       "      <td>3</td>\n",
       "      <td>Beijing</td>\n",
       "      <td>China</td>\n",
       "      <td>66.049</td>\n",
       "      <td>5.01</td>\n",
       "      <td>58.61</td>\n",
       "      <td>2.43</td>\n",
       "      <td>+</td>\n",
       "    </tr>\n",
       "    <tr>\n",
       "      <th>3</th>\n",
       "      <td>4</td>\n",
       "      <td>1</td>\n",
       "      <td>Los Angeles Area</td>\n",
       "      <td>United States</td>\n",
       "      <td>58.441</td>\n",
       "      <td>11.23</td>\n",
       "      <td>43.41</td>\n",
       "      <td>3.80</td>\n",
       "      <td>+</td>\n",
       "    </tr>\n",
       "    <tr>\n",
       "      <th>4</th>\n",
       "      <td>5</td>\n",
       "      <td>2</td>\n",
       "      <td>London</td>\n",
       "      <td>United Kingdom</td>\n",
       "      <td>56.913</td>\n",
       "      <td>15.77</td>\n",
       "      <td>37.44</td>\n",
       "      <td>3.70</td>\n",
       "      <td>-</td>\n",
       "    </tr>\n",
       "    <tr>\n",
       "      <th>...</th>\n",
       "      <td>...</td>\n",
       "      <td>...</td>\n",
       "      <td>...</td>\n",
       "      <td>...</td>\n",
       "      <td>...</td>\n",
       "      <td>...</td>\n",
       "      <td>...</td>\n",
       "      <td>...</td>\n",
       "      <td>...</td>\n",
       "    </tr>\n",
       "    <tr>\n",
       "      <th>995</th>\n",
       "      <td>996</td>\n",
       "      <td>26</td>\n",
       "      <td>Ouagadougou</td>\n",
       "      <td>Burkina Faso</td>\n",
       "      <td>0.060</td>\n",
       "      <td>0.02</td>\n",
       "      <td>0.02</td>\n",
       "      <td>0.02</td>\n",
       "      <td>-</td>\n",
       "    </tr>\n",
       "    <tr>\n",
       "      <th>996</th>\n",
       "      <td>997</td>\n",
       "      <td>new</td>\n",
       "      <td>Baghdad</td>\n",
       "      <td>Iraq</td>\n",
       "      <td>0.058</td>\n",
       "      <td>0.01</td>\n",
       "      <td>0.02</td>\n",
       "      <td>0.03</td>\n",
       "      <td>NaN</td>\n",
       "    </tr>\n",
       "    <tr>\n",
       "      <th>997</th>\n",
       "      <td>998</td>\n",
       "      <td>13</td>\n",
       "      <td>Mbabane</td>\n",
       "      <td>Swaziland</td>\n",
       "      <td>0.057</td>\n",
       "      <td>0.01</td>\n",
       "      <td>0.02</td>\n",
       "      <td>0.03</td>\n",
       "      <td>-</td>\n",
       "    </tr>\n",
       "    <tr>\n",
       "      <th>998</th>\n",
       "      <td>999</td>\n",
       "      <td>new</td>\n",
       "      <td>Conakry</td>\n",
       "      <td>Guinea</td>\n",
       "      <td>0.047</td>\n",
       "      <td>0.01</td>\n",
       "      <td>0.02</td>\n",
       "      <td>0.02</td>\n",
       "      <td>NaN</td>\n",
       "    </tr>\n",
       "    <tr>\n",
       "      <th>999</th>\n",
       "      <td>1000</td>\n",
       "      <td>new</td>\n",
       "      <td>Sanaa</td>\n",
       "      <td>Yemen</td>\n",
       "      <td>0.037</td>\n",
       "      <td>0.01</td>\n",
       "      <td>0.02</td>\n",
       "      <td>0.01</td>\n",
       "      <td>NaN</td>\n",
       "    </tr>\n",
       "  </tbody>\n",
       "</table>\n",
       "<p>1000 rows × 9 columns</p>\n",
       "</div>"
      ],
      "text/plain": [
       "     position change in position from 2020               city  \\\n",
       "0           1                            0  San Francisco Bay   \n",
       "1           2                            0           New York   \n",
       "2           3                            3            Beijing   \n",
       "3           4                            1   Los Angeles Area   \n",
       "4           5                            2             London   \n",
       "..        ...                          ...                ...   \n",
       "995       996                           26        Ouagadougou   \n",
       "996       997                          new            Baghdad   \n",
       "997       998                           13            Mbabane   \n",
       "998       999                          new            Conakry   \n",
       "999      1000                          new              Sanaa   \n",
       "\n",
       "             country  total score  quatity score  quality score  \\\n",
       "0      United States      328.966          29.14         296.02   \n",
       "1      United States      110.777          11.43          95.55   \n",
       "2              China       66.049           5.01          58.61   \n",
       "3      United States       58.441          11.23          43.41   \n",
       "4     United Kingdom       56.913          15.77          37.44   \n",
       "..               ...          ...            ...            ...   \n",
       "995     Burkina Faso        0.060           0.02           0.02   \n",
       "996             Iraq        0.058           0.01           0.02   \n",
       "997        Swaziland        0.057           0.01           0.02   \n",
       "998           Guinea        0.047           0.01           0.02   \n",
       "999            Yemen        0.037           0.01           0.02   \n",
       "\n",
       "     business score sign of change in position  \n",
       "0              3.80                        NaN  \n",
       "1              3.80                        NaN  \n",
       "2              2.43                          +  \n",
       "3              3.80                          +  \n",
       "4              3.70                          -  \n",
       "..              ...                        ...  \n",
       "995            0.02                          -  \n",
       "996            0.03                        NaN  \n",
       "997            0.03                          -  \n",
       "998            0.02                        NaN  \n",
       "999            0.01                        NaN  \n",
       "\n",
       "[1000 rows x 9 columns]"
      ]
     },
     "execution_count": 23,
     "metadata": {},
     "output_type": "execute_result"
    }
   ],
   "source": [
    "df2=pd.read_csv('https://raw.githubusercontent.com/benvictoria17/DataAnalytics/main/dataset/Best%20Cities%20and%20Countries%20for%20Startups/Best%20Cities%20for%20Startups.csv')\n",
    "df2"
   ]
  },
  {
   "cell_type": "code",
   "execution_count": 24,
   "id": "d1cec0a5",
   "metadata": {},
   "outputs": [
    {
     "name": "stdout",
     "output_type": "stream",
     "text": [
      "<class 'pandas.core.frame.DataFrame'>\n",
      "RangeIndex: 101 entries, 0 to 100\n",
      "Data columns (total 8 columns):\n",
      " #   Column                        Non-Null Count  Dtype  \n",
      "---  ------                        --------------  -----  \n",
      " 0   ranking                       100 non-null    float64\n",
      " 1   change in position from 2020  100 non-null    object \n",
      " 2   country                       100 non-null    object \n",
      " 3   total score                   100 non-null    float64\n",
      " 4   quantity score                100 non-null    float64\n",
      " 5   quality score                 100 non-null    float64\n",
      " 6   business score                100 non-null    float64\n",
      " 7   change in position sign       79 non-null     object \n",
      "dtypes: float64(5), object(3)\n",
      "memory usage: 6.4+ KB\n"
     ]
    }
   ],
   "source": [
    "df1.info()"
   ]
  },
  {
   "cell_type": "code",
   "execution_count": 26,
   "id": "963a5fbf",
   "metadata": {},
   "outputs": [
    {
     "data": {
      "text/plain": [
       "array(['0', '4', '7', '2', '6', '5', '1', '3', '18', '14', '8', '9', '11',\n",
       "       '12', '15', '10', '17', 'new entry', '13', '19', 'new  entry', nan],\n",
       "      dtype=object)"
      ]
     },
     "execution_count": 26,
     "metadata": {},
     "output_type": "execute_result"
    }
   ],
   "source": [
    "df1['change in position from 2020'].unique()"
   ]
  },
  {
   "cell_type": "code",
   "execution_count": 27,
   "id": "397d0670",
   "metadata": {},
   "outputs": [
    {
     "data": {
      "text/plain": [
       "[<matplotlib.lines.Line2D at 0x1696058e0>]"
      ]
     },
     "execution_count": 27,
     "metadata": {},
     "output_type": "execute_result"
    },
    {
     "data": {
      "image/png": "[encoded data removed]",
      "text/plain": [
       "<Figure size 432x288 with 1 Axes>"
      ]
     },
     "metadata": {
      "needs_background": "light"
     },
     "output_type": "display_data"
    }
   ],
   "source": [
    "import matplotlib.pyplot as plt\n",
    "plt.plot(df1['ranking '],df1['business score'])"
   ]
  },
  {
   "cell_type": "code",
   "execution_count": 28,
   "id": "c0c2c702",
   "metadata": {},
   "outputs": [
    {
     "data": {
      "text/plain": [
       "[<matplotlib.lines.Line2D at 0x168f38e50>]"
      ]
     },
     "execution_count": 28,
     "metadata": {},
     "output_type": "execute_result"
    },
    {
     "data": {
      "image/png": "[encoded data removed]",
      "text/plain": [
       "<Figure size 432x288 with 1 Axes>"
      ]
     },
     "metadata": {
      "needs_background": "light"
     },
     "output_type": "display_data"
    }
   ],
   "source": [
    "plt.plot(df1['ranking '],df1['quality score'])"
   ]
  },
  {
   "cell_type": "code",
   "execution_count": 29,
   "id": "ec0b09af",
   "metadata": {},
   "outputs": [
    {
     "data": {
      "text/plain": [
       "[<matplotlib.lines.Line2D at 0x169981ac0>]"
      ]
     },
     "execution_count": 29,
     "metadata": {},
     "output_type": "execute_result"
    },
    {
     "data": {
      "image/png": "[encoded data removed]",
      "text/plain": [
       "<Figure size 432x288 with 1 Axes>"
      ]
     },
     "metadata": {
      "needs_background": "light"
     },
     "output_type": "display_data"
    }
   ],
   "source": [
    "plt.plot(df1['ranking '],df1['quantity score'])"
   ]
  },
  {
   "cell_type": "code",
   "execution_count": 30,
   "id": "4465fb11",
   "metadata": {},
   "outputs": [
    {
     "data": {
      "text/plain": [
       "[<matplotlib.lines.Line2D at 0x169e1ee50>]"
      ]
     },
     "execution_count": 30,
     "metadata": {},
     "output_type": "execute_result"
    },
    {
     "data": {
      "image/png": "[encoded data removed]",
      "text/plain": [
       "<Figure size 432x288 with 1 Axes>"
      ]
     },
     "metadata": {
      "needs_background": "light"
     },
     "output_type": "display_data"
    }
   ],
   "source": [
    "plt.plot(df1['ranking '],df1['total score'])"
   ]
  },
  {
   "cell_type": "code",
   "execution_count": 31,
   "id": "9dfb5ec7",
   "metadata": {},
   "outputs": [
    {
     "name": "stdout",
     "output_type": "stream",
     "text": [
      "<class 'pandas.core.frame.DataFrame'>\n",
      "RangeIndex: 1000 entries, 0 to 999\n",
      "Data columns (total 9 columns):\n",
      " #   Column                        Non-Null Count  Dtype  \n",
      "---  ------                        --------------  -----  \n",
      " 0   position                      1000 non-null   int64  \n",
      " 1   change in position from 2020  1000 non-null   object \n",
      " 2   city                          1000 non-null   object \n",
      " 3   country                       1000 non-null   object \n",
      " 4   total score                   1000 non-null   float64\n",
      " 5   quatity score                 1000 non-null   float64\n",
      " 6   quality score                 1000 non-null   float64\n",
      " 7   business score                1000 non-null   float64\n",
      " 8   sign of change in position    798 non-null    object \n",
      "dtypes: float64(4), int64(1), object(4)\n",
      "memory usage: 70.4+ KB\n"
     ]
    }
   ],
   "source": [
    "df2.info()"
   ]
  },
  {
   "cell_type": "code",
   "execution_count": 33,
   "id": "0b309b0a",
   "metadata": {},
   "outputs": [
    {
     "data": {
      "text/plain": [
       "[<matplotlib.lines.Line2D at 0x169d863d0>]"
      ]
     },
     "execution_count": 33,
     "metadata": {},
     "output_type": "execute_result"
    },
    {
     "data": {
      "image/png": "[encoded data removed]",
      "text/plain": [
       "<Figure size 432x288 with 1 Axes>"
      ]
     },
     "metadata": {
      "needs_background": "light"
     },
     "output_type": "display_data"
    }
   ],
   "source": [
    "plt.plot(df2['position'],df2['business score'])"
   ]
  },
  {
   "cell_type": "code",
   "execution_count": 34,
   "id": "35c75bf4",
   "metadata": {},
   "outputs": [
    {
     "data": {
      "text/plain": [
       "[<matplotlib.lines.Line2D at 0x169f25eb0>]"
      ]
     },
     "execution_count": 34,
     "metadata": {},
     "output_type": "execute_result"
    },
    {
     "data": {
      "image/png": "[encoded data removed]",
      "text/plain": [
       "<Figure size 432x288 with 1 Axes>"
      ]
     },
     "metadata": {
      "needs_background": "light"
     },
     "output_type": "display_data"
    }
   ],
   "source": [
    "plt.plot(df2['position'],df2['quality score'])"
   ]
  },
  {
   "cell_type": "code",
   "execution_count": 35,
   "id": "e24d3328",
   "metadata": {},
   "outputs": [
    {
     "data": {
      "text/plain": [
       "[<matplotlib.lines.Line2D at 0x16a1541c0>]"
      ]
     },
     "execution_count": 35,
     "metadata": {},
     "output_type": "execute_result"
    },
    {
     "data": {
      "image/png": "[encoded data removed]",
      "text/plain": [
       "<Figure size 432x288 with 1 Axes>"
      ]
     },
     "metadata": {
      "needs_background": "light"
     },
     "output_type": "display_data"
    }
   ],
   "source": [
    "plt.plot(df2['position'],df2['quatity score'])"
   ]
  },
  {
   "cell_type": "code",
   "execution_count": 36,
   "id": "dbd4d79e",
   "metadata": {},
   "outputs": [
    {
     "data": {
      "text/plain": [
       "[<matplotlib.lines.Line2D at 0x16a18efd0>]"
      ]
     },
     "execution_count": 36,
     "metadata": {},
     "output_type": "execute_result"
    },
    {
     "data": {
      "image/png": "[encoded data removed]",
      "text/plain": [
       "<Figure size 432x288 with 1 Axes>"
      ]
     },
     "metadata": {
      "needs_background": "light"
     },
     "output_type": "display_data"
    }
   ],
   "source": [
    "plt.plot(df2['position'],df2['total score'])"
   ]
  }
 ],
 "metadata": {
  "kernelspec": {
   "display_name": "Python 3",
   "language": "python",
   "name": "python3"
  },
  "language_info": {
   "codemirror_mode": {
    "name": "ipython",
    "version": 3
   },
   "file_extension": ".py",
   "mimetype": "text/x-python",
   "name": "python",
   "nbconvert_exporter": "python",
   "pygments_lexer": "ipython3",
   "version": "3.9.5"
  }
 },
 "nbformat": 4,
 "nbformat_minor": 5
}
