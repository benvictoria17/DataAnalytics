{
 "cells": [
  {
   "cell_type": "code",
   "execution_count": 1,
   "id": "19fdbaac",
   "metadata": {
    "_cell_guid": "b1076dfc-b9ad-4769-8c92-a6c4dae69d19",
    "_uuid": "8f2839f25d086af736a60e9eeb907d3b93b6e0e5",
    "execution": {
     "iopub.execute_input": "2022-02-02T05:52:31.723199Z",
     "iopub.status.busy": "2022-02-02T05:52:31.722311Z",
     "iopub.status.idle": "2022-02-02T05:52:32.847481Z",
     "shell.execute_reply": "2022-02-02T05:52:32.847963Z",
     "shell.execute_reply.started": "2022-02-02T05:43:25.648858Z"
    },
    "papermill": {
     "duration": 1.15603,
     "end_time": "2022-02-02T05:52:32.848271",
     "exception": false,
     "start_time": "2022-02-02T05:52:31.692241",
     "status": "completed"
    },
    "tags": []
   },
   "outputs": [],
   "source": [
    "import numpy as np \n",
    "import pandas as pd \n",
    "import seaborn as sns \n",
    "import matplotlib.pyplot as plt \n",
    "from collections import Counter\n",
    "%matplotlib inline"
   ]
  },
  {
   "cell_type": "code",
   "execution_count": 2,
   "id": "912cbf47",
   "metadata": {
    "execution": {
     "iopub.execute_input": "2022-02-02T05:52:32.894821Z",
     "iopub.status.busy": "2022-02-02T05:52:32.894109Z",
     "iopub.status.idle": "2022-02-02T05:52:34.548762Z",
     "shell.execute_reply": "2022-02-02T05:52:34.549286Z",
     "shell.execute_reply.started": "2022-02-02T05:43:25.657992Z"
    },
    "papermill": {
     "duration": 1.679053,
     "end_time": "2022-02-02T05:52:34.549461",
     "exception": false,
     "start_time": "2022-02-02T05:52:32.870408",
     "status": "completed"
    },
    "tags": []
   },
   "outputs": [],
   "source": [
    "median_house_hold_in_come = pd.read_csv('https://raw.githubusercontent.com/benvictoria17/DataVisualization/master/dataset/Fatal%20Police%20Shootings%20in%20the%20US/MedianHouseholdIncome2015.csv', encoding=\"windows-1252\")\n",
    "percentage_people_below_poverty_level = pd.read_csv('https://raw.githubusercontent.com/benvictoria17/DataVisualization/master/dataset/Fatal%20Police%20Shootings%20in%20the%20US/MedianHouseholdIncome2015.csv', encoding=\"windows-1252\")\n",
    "percent_over_25_completed_highSchool = pd.read_csv('https://raw.githubusercontent.com/benvictoria17/DataVisualization/master/dataset/Fatal%20Police%20Shootings%20in%20the%20US/PercentagePeopleBelowPovertyLevel.csv', encoding=\"windows-1252\")\n",
    "share_race_city = pd.read_csv('https://raw.githubusercontent.com/benvictoria17/DataVisualization/master/dataset/Fatal%20Police%20Shootings%20in%20the%20US/ShareRaceByCity.csv', encoding=\"windows-1252\")\n",
    "kill = pd.read_csv('https://raw.githubusercontent.com/benvictoria17/DataVisualization/master/dataset/Fatal%20Police%20Shootings%20in%20the%20US/PoliceKillingsUS.csv', encoding=\"windows-1252\")"
   ]
  },
  {
   "cell_type": "code",
   "execution_count": 3,
   "id": "599f0b19",
   "metadata": {
    "execution": {
     "iopub.execute_input": "2022-02-02T05:52:34.594421Z",
     "iopub.status.busy": "2022-02-02T05:52:34.593797Z",
     "iopub.status.idle": "2022-02-02T05:52:34.611740Z",
     "shell.execute_reply": "2022-02-02T05:52:34.612205Z",
     "shell.execute_reply.started": "2022-02-02T05:43:26.258142Z"
    },
    "papermill": {
     "duration": 0.041686,
     "end_time": "2022-02-02T05:52:34.612368",
     "exception": false,
     "start_time": "2022-02-02T05:52:34.570682",
     "status": "completed"
    },
    "tags": []
   },
   "outputs": [
    {
     "data": {
      "text/html": [
       "<div>\n",
       "<style scoped>\n",
       "    .dataframe tbody tr th:only-of-type {\n",
       "        vertical-align: middle;\n",
       "    }\n",
       "\n",
       "    .dataframe tbody tr th {\n",
       "        vertical-align: top;\n",
       "    }\n",
       "\n",
       "    .dataframe thead th {\n",
       "        text-align: right;\n",
       "    }\n",
       "</style>\n",
       "<table border=\"1\" class=\"dataframe\">\n",
       "  <thead>\n",
       "    <tr style=\"text-align: right;\">\n",
       "      <th></th>\n",
       "      <th>Geographic Area</th>\n",
       "      <th>City</th>\n",
       "      <th>Median Income</th>\n",
       "    </tr>\n",
       "  </thead>\n",
       "  <tbody>\n",
       "    <tr>\n",
       "      <th>0</th>\n",
       "      <td>AL</td>\n",
       "      <td>Abanda CDP</td>\n",
       "      <td>11207</td>\n",
       "    </tr>\n",
       "    <tr>\n",
       "      <th>1</th>\n",
       "      <td>AL</td>\n",
       "      <td>Abbeville city</td>\n",
       "      <td>25615</td>\n",
       "    </tr>\n",
       "    <tr>\n",
       "      <th>2</th>\n",
       "      <td>AL</td>\n",
       "      <td>Adamsville city</td>\n",
       "      <td>42575</td>\n",
       "    </tr>\n",
       "    <tr>\n",
       "      <th>3</th>\n",
       "      <td>AL</td>\n",
       "      <td>Addison town</td>\n",
       "      <td>37083</td>\n",
       "    </tr>\n",
       "    <tr>\n",
       "      <th>4</th>\n",
       "      <td>AL</td>\n",
       "      <td>Akron town</td>\n",
       "      <td>21667</td>\n",
       "    </tr>\n",
       "  </tbody>\n",
       "</table>\n",
       "</div>"
      ],
      "text/plain": [
       "  Geographic Area             City Median Income\n",
       "0              AL       Abanda CDP         11207\n",
       "1              AL   Abbeville city         25615\n",
       "2              AL  Adamsville city         42575\n",
       "3              AL     Addison town         37083\n",
       "4              AL       Akron town         21667"
      ]
     },
     "execution_count": 3,
     "metadata": {},
     "output_type": "execute_result"
    }
   ],
   "source": [
    "percentage_people_below_poverty_level.head()"
   ]
  },
  {
   "cell_type": "code",
   "execution_count": 4,
   "id": "69d2d209",
   "metadata": {
    "execution": {
     "iopub.execute_input": "2022-02-02T05:52:34.657725Z",
     "iopub.status.busy": "2022-02-02T05:52:34.657069Z",
     "iopub.status.idle": "2022-02-02T05:52:34.682219Z",
     "shell.execute_reply": "2022-02-02T05:52:34.682732Z",
     "shell.execute_reply.started": "2022-02-02T05:43:26.270832Z"
    },
    "papermill": {
     "duration": 0.049071,
     "end_time": "2022-02-02T05:52:34.682906",
     "exception": false,
     "start_time": "2022-02-02T05:52:34.633835",
     "status": "completed"
    },
    "tags": []
   },
   "outputs": [
    {
     "name": "stdout",
     "output_type": "stream",
     "text": [
      "<class 'pandas.core.frame.DataFrame'>\n",
      "RangeIndex: 29322 entries, 0 to 29321\n",
      "Data columns (total 3 columns):\n",
      " #   Column           Non-Null Count  Dtype \n",
      "---  ------           --------------  ----- \n",
      " 0   Geographic Area  29322 non-null  object\n",
      " 1   City             29322 non-null  object\n",
      " 2   Median Income    29271 non-null  object\n",
      "dtypes: object(3)\n",
      "memory usage: 687.4+ KB\n"
     ]
    }
   ],
   "source": [
    "percentage_people_below_poverty_level.info()"
   ]
  },
  {
   "cell_type": "code",
   "execution_count": 5,
   "id": "8a00a90b",
   "metadata": {
    "execution": {
     "iopub.execute_input": "2022-02-02T05:52:34.731612Z",
     "iopub.status.busy": "2022-02-02T05:52:34.730777Z",
     "iopub.status.idle": "2022-02-02T05:52:34.734811Z",
     "shell.execute_reply": "2022-02-02T05:52:34.735241Z",
     "shell.execute_reply.started": "2022-02-02T05:43:26.295458Z"
    },
    "papermill": {
     "duration": 0.031102,
     "end_time": "2022-02-02T05:52:34.735411",
     "exception": false,
     "start_time": "2022-02-02T05:52:34.704309",
     "status": "completed"
    },
    "tags": []
   },
   "outputs": [
    {
     "data": {
      "text/plain": [
       "array(['AL', 'AK', 'AZ', 'AR', 'CA', 'CO', 'CT', 'DE', 'DC', 'FL', 'GA',\n",
       "       'HI', 'ID', 'IL', 'IN', 'IA', 'KS', 'KY', 'LA', 'ME', 'MD', 'MA',\n",
       "       'MI', 'MN', 'MS', 'MO', 'MT', 'NE', 'NV', 'NH', 'NJ', 'NM', 'NY',\n",
       "       'NC', 'ND', 'OH', 'OK', 'OR', 'PA', 'RI', 'SC', 'SD', 'TN', 'TX',\n",
       "       'UT', 'VT', 'VA', 'WA', 'WV', 'WI', 'WY'], dtype=object)"
      ]
     },
     "execution_count": 5,
     "metadata": {},
     "output_type": "execute_result"
    }
   ],
   "source": [
    "percentage_people_below_poverty_level[\"Geographic Area\"].unique()"
   ]
  },
  {
   "cell_type": "code",
   "execution_count": 6,
   "id": "b2ae2060",
   "metadata": {
    "execution": {
     "iopub.execute_input": "2022-02-02T05:52:34.781873Z",
     "iopub.status.busy": "2022-02-02T05:52:34.780980Z",
     "iopub.status.idle": "2022-02-02T05:52:34.797376Z",
     "shell.execute_reply": "2022-02-02T05:52:34.796885Z",
     "shell.execute_reply.started": "2022-02-02T05:43:26.307916Z"
    },
    "papermill": {
     "duration": 0.040658,
     "end_time": "2022-02-02T05:52:34.797519",
     "exception": false,
     "start_time": "2022-02-02T05:52:34.756861",
     "status": "completed"
    },
    "tags": []
   },
   "outputs": [
    {
     "data": {
      "text/html": [
       "<div>\n",
       "<style scoped>\n",
       "    .dataframe tbody tr th:only-of-type {\n",
       "        vertical-align: middle;\n",
       "    }\n",
       "\n",
       "    .dataframe tbody tr th {\n",
       "        vertical-align: top;\n",
       "    }\n",
       "\n",
       "    .dataframe thead th {\n",
       "        text-align: right;\n",
       "    }\n",
       "</style>\n",
       "<table border=\"1\" class=\"dataframe\">\n",
       "  <thead>\n",
       "    <tr style=\"text-align: right;\">\n",
       "      <th></th>\n",
       "      <th>id</th>\n",
       "      <th>name</th>\n",
       "      <th>date</th>\n",
       "      <th>manner_of_death</th>\n",
       "      <th>armed</th>\n",
       "      <th>age</th>\n",
       "      <th>gender</th>\n",
       "      <th>race</th>\n",
       "      <th>city</th>\n",
       "      <th>state</th>\n",
       "      <th>signs_of_mental_illness</th>\n",
       "      <th>threat_level</th>\n",
       "      <th>flee</th>\n",
       "      <th>body_camera</th>\n",
       "    </tr>\n",
       "  </thead>\n",
       "  <tbody>\n",
       "    <tr>\n",
       "      <th>0</th>\n",
       "      <td>3</td>\n",
       "      <td>Tim Elliot</td>\n",
       "      <td>02/01/15</td>\n",
       "      <td>shot</td>\n",
       "      <td>gun</td>\n",
       "      <td>53.0</td>\n",
       "      <td>M</td>\n",
       "      <td>A</td>\n",
       "      <td>Shelton</td>\n",
       "      <td>WA</td>\n",
       "      <td>True</td>\n",
       "      <td>attack</td>\n",
       "      <td>Not fleeing</td>\n",
       "      <td>False</td>\n",
       "    </tr>\n",
       "    <tr>\n",
       "      <th>1</th>\n",
       "      <td>4</td>\n",
       "      <td>Lewis Lee Lembke</td>\n",
       "      <td>02/01/15</td>\n",
       "      <td>shot</td>\n",
       "      <td>gun</td>\n",
       "      <td>47.0</td>\n",
       "      <td>M</td>\n",
       "      <td>W</td>\n",
       "      <td>Aloha</td>\n",
       "      <td>OR</td>\n",
       "      <td>False</td>\n",
       "      <td>attack</td>\n",
       "      <td>Not fleeing</td>\n",
       "      <td>False</td>\n",
       "    </tr>\n",
       "    <tr>\n",
       "      <th>2</th>\n",
       "      <td>5</td>\n",
       "      <td>John Paul Quintero</td>\n",
       "      <td>03/01/15</td>\n",
       "      <td>shot and Tasered</td>\n",
       "      <td>unarmed</td>\n",
       "      <td>23.0</td>\n",
       "      <td>M</td>\n",
       "      <td>H</td>\n",
       "      <td>Wichita</td>\n",
       "      <td>KS</td>\n",
       "      <td>False</td>\n",
       "      <td>other</td>\n",
       "      <td>Not fleeing</td>\n",
       "      <td>False</td>\n",
       "    </tr>\n",
       "    <tr>\n",
       "      <th>3</th>\n",
       "      <td>8</td>\n",
       "      <td>Matthew Hoffman</td>\n",
       "      <td>04/01/15</td>\n",
       "      <td>shot</td>\n",
       "      <td>toy weapon</td>\n",
       "      <td>32.0</td>\n",
       "      <td>M</td>\n",
       "      <td>W</td>\n",
       "      <td>San Francisco</td>\n",
       "      <td>CA</td>\n",
       "      <td>True</td>\n",
       "      <td>attack</td>\n",
       "      <td>Not fleeing</td>\n",
       "      <td>False</td>\n",
       "    </tr>\n",
       "    <tr>\n",
       "      <th>4</th>\n",
       "      <td>9</td>\n",
       "      <td>Michael Rodriguez</td>\n",
       "      <td>04/01/15</td>\n",
       "      <td>shot</td>\n",
       "      <td>nail gun</td>\n",
       "      <td>39.0</td>\n",
       "      <td>M</td>\n",
       "      <td>H</td>\n",
       "      <td>Evans</td>\n",
       "      <td>CO</td>\n",
       "      <td>False</td>\n",
       "      <td>attack</td>\n",
       "      <td>Not fleeing</td>\n",
       "      <td>False</td>\n",
       "    </tr>\n",
       "  </tbody>\n",
       "</table>\n",
       "</div>"
      ],
      "text/plain": [
       "   id                name      date   manner_of_death       armed   age  \\\n",
       "0   3          Tim Elliot  02/01/15              shot         gun  53.0   \n",
       "1   4    Lewis Lee Lembke  02/01/15              shot         gun  47.0   \n",
       "2   5  John Paul Quintero  03/01/15  shot and Tasered     unarmed  23.0   \n",
       "3   8     Matthew Hoffman  04/01/15              shot  toy weapon  32.0   \n",
       "4   9   Michael Rodriguez  04/01/15              shot    nail gun  39.0   \n",
       "\n",
       "  gender race           city state  signs_of_mental_illness threat_level  \\\n",
       "0      M    A        Shelton    WA                     True       attack   \n",
       "1      M    W          Aloha    OR                    False       attack   \n",
       "2      M    H        Wichita    KS                    False        other   \n",
       "3      M    W  San Francisco    CA                     True       attack   \n",
       "4      M    H          Evans    CO                    False       attack   \n",
       "\n",
       "          flee  body_camera  \n",
       "0  Not fleeing        False  \n",
       "1  Not fleeing        False  \n",
       "2  Not fleeing        False  \n",
       "3  Not fleeing        False  \n",
       "4  Not fleeing        False  "
      ]
     },
     "execution_count": 6,
     "metadata": {},
     "output_type": "execute_result"
    }
   ],
   "source": [
    "kill.head()"
   ]
  },
  {
   "cell_type": "code",
   "execution_count": 7,
   "id": "2f31bde6",
   "metadata": {
    "execution": {
     "iopub.execute_input": "2022-02-02T05:52:34.848550Z",
     "iopub.status.busy": "2022-02-02T05:52:34.847916Z",
     "iopub.status.idle": "2022-02-02T05:52:34.850201Z",
     "shell.execute_reply": "2022-02-02T05:52:34.850635Z",
     "shell.execute_reply.started": "2022-02-02T05:43:26.328248Z"
    },
    "papermill": {
     "duration": 0.03094,
     "end_time": "2022-02-02T05:52:34.850822",
     "exception": false,
     "start_time": "2022-02-02T05:52:34.819882",
     "status": "completed"
    },
    "tags": []
   },
   "outputs": [
    {
     "data": {
      "text/plain": [
       "['ali', 'haydar']"
      ]
     },
     "execution_count": 7,
     "metadata": {},
     "output_type": "execute_result"
    }
   ],
   "source": [
    "[\"ali\", 'haydar']"
   ]
  },
  {
   "cell_type": "code",
   "execution_count": 8,
   "id": "2ab93292",
   "metadata": {
    "execution": {
     "iopub.execute_input": "2022-02-02T05:52:34.899272Z",
     "iopub.status.busy": "2022-02-02T05:52:34.898629Z",
     "iopub.status.idle": "2022-02-02T05:52:35.251704Z",
     "shell.execute_reply": "2022-02-02T05:52:35.251214Z",
     "shell.execute_reply.started": "2022-02-02T05:43:26.333540Z"
    },
    "papermill": {
     "duration": 0.378618,
     "end_time": "2022-02-02T05:52:35.251847",
     "exception": false,
     "start_time": "2022-02-02T05:52:34.873229",
     "status": "completed"
    },
    "tags": []
   },
   "outputs": [
    {
     "data": {
      "text/plain": [
       "Text(0.5, 1.0, 'Most common 15 Name or Surname of killed people')"
      ]
     },
     "execution_count": 8,
     "metadata": {},
     "output_type": "execute_result"
    },
    {
     "data": {
      "image/png": "[encoded data removed]",
      "text/plain": [
       "<Figure size 1080x720 with 1 Axes>"
      ]
     },
     "metadata": {
      "needs_background": "light"
     },
     "output_type": "display_data"
    }
   ],
   "source": [
    "\n",
    "separate = kill.name[kill.name != 'TK TK'].str.split() \n",
    "a,b = zip(*separate)                    \n",
    "name_list = a+b                         \n",
    "name_count = Counter(name_list)         \n",
    "most_common_names = name_count.most_common(15)  \n",
    "x,y = zip(*most_common_names)\n",
    "x,y = list(x),list(y)\n",
    "# \n",
    "plt.figure(figsize=(15,10))\n",
    "ax= sns.barplot(x=x, y=y,palette = sns.cubehelix_palette(len(x)))\n",
    "plt.xlabel('Name or Surname of killed people')\n",
    "plt.ylabel('Frequency')\n",
    "plt.title('Most common 15 Name or Surname of killed people')"
   ]
  },
  {
   "cell_type": "code",
   "execution_count": 9,
   "id": "4d1f8519",
   "metadata": {
    "execution": {
     "iopub.execute_input": "2022-02-02T05:52:35.301297Z",
     "iopub.status.busy": "2022-02-02T05:52:35.300725Z",
     "iopub.status.idle": "2022-02-02T05:52:35.310070Z",
     "shell.execute_reply": "2022-02-02T05:52:35.309530Z",
     "shell.execute_reply.started": "2022-02-02T05:43:26.616762Z"
    },
    "papermill": {
     "duration": 0.034959,
     "end_time": "2022-02-02T05:52:35.310212",
     "exception": false,
     "start_time": "2022-02-02T05:52:35.275253",
     "status": "completed"
    },
    "tags": []
   },
   "outputs": [
    {
     "data": {
      "text/html": [
       "<div>\n",
       "<style scoped>\n",
       "    .dataframe tbody tr th:only-of-type {\n",
       "        vertical-align: middle;\n",
       "    }\n",
       "\n",
       "    .dataframe tbody tr th {\n",
       "        vertical-align: top;\n",
       "    }\n",
       "\n",
       "    .dataframe thead th {\n",
       "        text-align: right;\n",
       "    }\n",
       "</style>\n",
       "<table border=\"1\" class=\"dataframe\">\n",
       "  <thead>\n",
       "    <tr style=\"text-align: right;\">\n",
       "      <th></th>\n",
       "      <th>Geographic Area</th>\n",
       "      <th>City</th>\n",
       "      <th>poverty_rate</th>\n",
       "    </tr>\n",
       "  </thead>\n",
       "  <tbody>\n",
       "    <tr>\n",
       "      <th>0</th>\n",
       "      <td>AL</td>\n",
       "      <td>Abanda CDP</td>\n",
       "      <td>78.8</td>\n",
       "    </tr>\n",
       "    <tr>\n",
       "      <th>1</th>\n",
       "      <td>AL</td>\n",
       "      <td>Abbeville city</td>\n",
       "      <td>29.1</td>\n",
       "    </tr>\n",
       "    <tr>\n",
       "      <th>2</th>\n",
       "      <td>AL</td>\n",
       "      <td>Adamsville city</td>\n",
       "      <td>25.5</td>\n",
       "    </tr>\n",
       "    <tr>\n",
       "      <th>3</th>\n",
       "      <td>AL</td>\n",
       "      <td>Addison town</td>\n",
       "      <td>30.7</td>\n",
       "    </tr>\n",
       "    <tr>\n",
       "      <th>4</th>\n",
       "      <td>AL</td>\n",
       "      <td>Akron town</td>\n",
       "      <td>42</td>\n",
       "    </tr>\n",
       "  </tbody>\n",
       "</table>\n",
       "</div>"
      ],
      "text/plain": [
       "  Geographic Area             City poverty_rate\n",
       "0              AL       Abanda CDP         78.8\n",
       "1              AL   Abbeville city         29.1\n",
       "2              AL  Adamsville city         25.5\n",
       "3              AL     Addison town         30.7\n",
       "4              AL       Akron town           42"
      ]
     },
     "execution_count": 9,
     "metadata": {},
     "output_type": "execute_result"
    }
   ],
   "source": [
    "percent_over_25_completed_highSchool.head()"
   ]
  },
  {
   "cell_type": "code",
   "execution_count": 10,
   "id": "4000316e",
   "metadata": {
    "execution": {
     "iopub.execute_input": "2022-02-02T05:52:35.361064Z",
     "iopub.status.busy": "2022-02-02T05:52:35.360511Z",
     "iopub.status.idle": "2022-02-02T05:52:35.373644Z",
     "shell.execute_reply": "2022-02-02T05:52:35.374091Z",
     "shell.execute_reply.started": "2022-02-02T05:43:26.628900Z"
    },
    "papermill": {
     "duration": 0.040299,
     "end_time": "2022-02-02T05:52:35.374273",
     "exception": false,
     "start_time": "2022-02-02T05:52:35.333974",
     "status": "completed"
    },
    "tags": []
   },
   "outputs": [
    {
     "name": "stdout",
     "output_type": "stream",
     "text": [
      "<class 'pandas.core.frame.DataFrame'>\n",
      "RangeIndex: 29329 entries, 0 to 29328\n",
      "Data columns (total 3 columns):\n",
      " #   Column           Non-Null Count  Dtype \n",
      "---  ------           --------------  ----- \n",
      " 0   Geographic Area  29329 non-null  object\n",
      " 1   City             29329 non-null  object\n",
      " 2   poverty_rate     29329 non-null  object\n",
      "dtypes: object(3)\n",
      "memory usage: 687.5+ KB\n"
     ]
    }
   ],
   "source": [
    "percent_over_25_completed_highSchool.info()"
   ]
  },
  {
   "cell_type": "code",
   "execution_count": 11,
   "id": "144651a8",
   "metadata": {
    "execution": {
     "iopub.execute_input": "2022-02-02T05:52:35.427122Z",
     "iopub.status.busy": "2022-02-02T05:52:35.426502Z",
     "iopub.status.idle": "2022-02-02T05:52:35.437840Z",
     "shell.execute_reply": "2022-02-02T05:52:35.437354Z",
     "shell.execute_reply.started": "2022-02-02T05:43:26.655100Z"
    },
    "papermill": {
     "duration": 0.038178,
     "end_time": "2022-02-02T05:52:35.437972",
     "exception": false,
     "start_time": "2022-02-02T05:52:35.399794",
     "status": "completed"
    },
    "tags": []
   },
   "outputs": [
    {
     "data": {
      "text/html": [
       "<div>\n",
       "<style scoped>\n",
       "    .dataframe tbody tr th:only-of-type {\n",
       "        vertical-align: middle;\n",
       "    }\n",
       "\n",
       "    .dataframe tbody tr th {\n",
       "        vertical-align: top;\n",
       "    }\n",
       "\n",
       "    .dataframe thead th {\n",
       "        text-align: right;\n",
       "    }\n",
       "</style>\n",
       "<table border=\"1\" class=\"dataframe\">\n",
       "  <thead>\n",
       "    <tr style=\"text-align: right;\">\n",
       "      <th></th>\n",
       "      <th>Geographic area</th>\n",
       "      <th>City</th>\n",
       "      <th>share_white</th>\n",
       "      <th>share_black</th>\n",
       "      <th>share_native_american</th>\n",
       "      <th>share_asian</th>\n",
       "      <th>share_hispanic</th>\n",
       "    </tr>\n",
       "  </thead>\n",
       "  <tbody>\n",
       "    <tr>\n",
       "      <th>0</th>\n",
       "      <td>AL</td>\n",
       "      <td>Abanda CDP</td>\n",
       "      <td>67.2</td>\n",
       "      <td>30.2</td>\n",
       "      <td>0</td>\n",
       "      <td>0</td>\n",
       "      <td>1.6</td>\n",
       "    </tr>\n",
       "    <tr>\n",
       "      <th>1</th>\n",
       "      <td>AL</td>\n",
       "      <td>Abbeville city</td>\n",
       "      <td>54.4</td>\n",
       "      <td>41.4</td>\n",
       "      <td>0.1</td>\n",
       "      <td>1</td>\n",
       "      <td>3.1</td>\n",
       "    </tr>\n",
       "    <tr>\n",
       "      <th>2</th>\n",
       "      <td>AL</td>\n",
       "      <td>Adamsville city</td>\n",
       "      <td>52.3</td>\n",
       "      <td>44.9</td>\n",
       "      <td>0.5</td>\n",
       "      <td>0.3</td>\n",
       "      <td>2.3</td>\n",
       "    </tr>\n",
       "    <tr>\n",
       "      <th>3</th>\n",
       "      <td>AL</td>\n",
       "      <td>Addison town</td>\n",
       "      <td>99.1</td>\n",
       "      <td>0.1</td>\n",
       "      <td>0</td>\n",
       "      <td>0.1</td>\n",
       "      <td>0.4</td>\n",
       "    </tr>\n",
       "    <tr>\n",
       "      <th>4</th>\n",
       "      <td>AL</td>\n",
       "      <td>Akron town</td>\n",
       "      <td>13.2</td>\n",
       "      <td>86.5</td>\n",
       "      <td>0</td>\n",
       "      <td>0</td>\n",
       "      <td>0.3</td>\n",
       "    </tr>\n",
       "  </tbody>\n",
       "</table>\n",
       "</div>"
      ],
      "text/plain": [
       "  Geographic area             City share_white share_black  \\\n",
       "0              AL       Abanda CDP        67.2        30.2   \n",
       "1              AL   Abbeville city        54.4        41.4   \n",
       "2              AL  Adamsville city        52.3        44.9   \n",
       "3              AL     Addison town        99.1         0.1   \n",
       "4              AL       Akron town        13.2        86.5   \n",
       "\n",
       "  share_native_american share_asian share_hispanic  \n",
       "0                     0           0            1.6  \n",
       "1                   0.1           1            3.1  \n",
       "2                   0.5         0.3            2.3  \n",
       "3                     0         0.1            0.4  \n",
       "4                     0           0            0.3  "
      ]
     },
     "execution_count": 11,
     "metadata": {},
     "output_type": "execute_result"
    }
   ],
   "source": [
    "share_race_city.head()"
   ]
  },
  {
   "cell_type": "code",
   "execution_count": 12,
   "id": "6a430dad",
   "metadata": {
    "execution": {
     "iopub.execute_input": "2022-02-02T05:52:35.499899Z",
     "iopub.status.busy": "2022-02-02T05:52:35.499274Z",
     "iopub.status.idle": "2022-02-02T05:52:35.508819Z",
     "shell.execute_reply": "2022-02-02T05:52:35.509224Z",
     "shell.execute_reply.started": "2022-02-02T05:43:26.665921Z"
    },
    "papermill": {
     "duration": 0.047008,
     "end_time": "2022-02-02T05:52:35.509391",
     "exception": false,
     "start_time": "2022-02-02T05:52:35.462383",
     "status": "completed"
    },
    "tags": []
   },
   "outputs": [
    {
     "name": "stdout",
     "output_type": "stream",
     "text": [
      "<class 'pandas.core.frame.DataFrame'>\n",
      "RangeIndex: 29268 entries, 0 to 29267\n",
      "Data columns (total 7 columns):\n",
      " #   Column                 Non-Null Count  Dtype \n",
      "---  ------                 --------------  ----- \n",
      " 0   Geographic area        29268 non-null  object\n",
      " 1   City                   29268 non-null  object\n",
      " 2   share_white            29268 non-null  object\n",
      " 3   share_black            29268 non-null  object\n",
      " 4   share_native_american  29268 non-null  object\n",
      " 5   share_asian            29268 non-null  object\n",
      " 6   share_hispanic         29268 non-null  object\n",
      "dtypes: object(7)\n",
      "memory usage: 1.6+ MB\n"
     ]
    }
   ],
   "source": [
    "share_race_city.info()"
   ]
  },
  {
   "cell_type": "code",
   "execution_count": 13,
   "id": "3ec44755",
   "metadata": {
    "execution": {
     "iopub.execute_input": "2022-02-02T05:52:35.561620Z",
     "iopub.status.busy": "2022-02-02T05:52:35.560970Z",
     "iopub.status.idle": "2022-02-02T05:52:37.353529Z",
     "shell.execute_reply": "2022-02-02T05:52:37.353046Z",
     "shell.execute_reply.started": "2022-02-02T05:43:26.691941Z"
    },
    "papermill": {
     "duration": 1.81969,
     "end_time": "2022-02-02T05:52:37.353669",
     "exception": false,
     "start_time": "2022-02-02T05:52:35.533979",
     "status": "completed"
    },
    "tags": []
   },
   "outputs": [
    {
     "data": {
      "text/plain": [
       "[Text(0.5, 0, 'Percentage of Races'),\n",
       " Text(0, 0.5, 'States'),\n",
       " Text(0.5, 1.0, \"Percentage of State's Population According to Races \")]"
      ]
     },
     "execution_count": 13,
     "metadata": {},
     "output_type": "execute_result"
    },
    {
     "data": {
      "image/png": "[encoded data removed]",
      "text/plain": [
       "<Figure size 648x1080 with 1 Axes>"
      ]
     },
     "metadata": {
      "needs_background": "light"
     },
     "output_type": "display_data"
    }
   ],
   "source": [
    "share_race_city.replace(['-'],0.0,inplace = True)\n",
    "share_race_city.replace(['(X)'],0.0,inplace = True)\n",
    "share_race_city.loc[:,['share_white','share_black','share_native_american','share_asian','share_hispanic']] = share_race_city.loc[:,['share_white','share_black','share_native_american','share_asian','share_hispanic']].astype(float)\n",
    "area_list = list(share_race_city['Geographic area'].unique())\n",
    "share_white = []\n",
    "share_black = []\n",
    "share_native_american = []\n",
    "share_asian = []\n",
    "share_hispanic = []\n",
    "for i in area_list:\n",
    "    x = share_race_city[share_race_city['Geographic area']==i]\n",
    "    share_white.append(sum(x.share_white)/len(x))\n",
    "    share_black.append(sum(x.share_black) / len(x))\n",
    "    share_native_american.append(sum(x.share_native_american) / len(x))\n",
    "    share_asian.append(sum(x.share_asian) / len(x))\n",
    "    share_hispanic.append(sum(x.share_hispanic) / len(x))\n",
    "\n",
    "f,ax = plt.subplots(figsize = (9,15))\n",
    "sns.barplot(x=share_white,y=area_list,color='green',alpha = 0.5,label='White' )\n",
    "sns.barplot(x=share_black,y=area_list,color='blue',alpha = 0.7,label='African American')\n",
    "sns.barplot(x=share_native_american,y=area_list,color='cyan',alpha = 0.6,label='Native American')\n",
    "sns.barplot(x=share_asian,y=area_list,color='yellow',alpha = 0.6,label='Asian')\n",
    "sns.barplot(x=share_hispanic,y=area_list,color='red',alpha = 0.6,label='Hispanic')\n",
    "\n",
    "ax.legend(loc='lower right',frameon = True)     # legendlarin gorunurlugu\n",
    "ax.set(xlabel='Percentage of Races', ylabel='States',title = \"Percentage of State's Population According to Races \")"
   ]
  },
  {
   "cell_type": "code",
   "execution_count": 14,
   "id": "d3bc1447",
   "metadata": {
    "execution": {
     "iopub.execute_input": "2022-02-02T05:52:37.412324Z",
     "iopub.status.busy": "2022-02-02T05:52:37.411681Z",
     "iopub.status.idle": "2022-02-02T05:52:37.417089Z",
     "shell.execute_reply": "2022-02-02T05:52:37.417571Z",
     "shell.execute_reply.started": "2022-02-02T05:43:29.269415Z"
    },
    "papermill": {
     "duration": 0.036089,
     "end_time": "2022-02-02T05:52:37.417747",
     "exception": false,
     "start_time": "2022-02-02T05:52:37.381658",
     "status": "completed"
    },
    "tags": []
   },
   "outputs": [
    {
     "data": {
      "text/plain": [
       "0     A\n",
       "1     W\n",
       "2     H\n",
       "3     W\n",
       "4     H\n",
       "5     W\n",
       "6     H\n",
       "7     W\n",
       "8     W\n",
       "9     B\n",
       "10    W\n",
       "11    B\n",
       "12    B\n",
       "13    W\n",
       "14    B\n",
       "Name: race, dtype: object"
      ]
     },
     "execution_count": 14,
     "metadata": {},
     "output_type": "execute_result"
    }
   ],
   "source": [
    "kill.race.head(15)"
   ]
  },
  {
   "cell_type": "code",
   "execution_count": 15,
   "id": "844bc392",
   "metadata": {
    "execution": {
     "iopub.execute_input": "2022-02-02T05:52:37.476326Z",
     "iopub.status.busy": "2022-02-02T05:52:37.475571Z",
     "iopub.status.idle": "2022-02-02T05:52:37.482522Z",
     "shell.execute_reply": "2022-02-02T05:52:37.482944Z",
     "shell.execute_reply.started": "2022-02-02T05:43:29.278024Z"
    },
    "papermill": {
     "duration": 0.038171,
     "end_time": "2022-02-02T05:52:37.483114",
     "exception": false,
     "start_time": "2022-02-02T05:52:37.444943",
     "status": "completed"
    },
    "tags": []
   },
   "outputs": [
    {
     "data": {
      "text/plain": [
       "W    1201\n",
       "B     618\n",
       "H     423\n",
       "A      39\n",
       "N      31\n",
       "O      28\n",
       "Name: race, dtype: int64"
      ]
     },
     "execution_count": 15,
     "metadata": {},
     "output_type": "execute_result"
    }
   ],
   "source": [
    "kill.race.value_counts()"
   ]
  },
  {
   "cell_type": "code",
   "execution_count": 16,
   "id": "ba317f80",
   "metadata": {
    "execution": {
     "iopub.execute_input": "2022-02-02T05:52:37.558232Z",
     "iopub.status.busy": "2022-02-02T05:52:37.554742Z",
     "iopub.status.idle": "2022-02-02T05:52:37.711349Z",
     "shell.execute_reply": "2022-02-02T05:52:37.712139Z",
     "shell.execute_reply.started": "2022-02-02T05:43:29.292210Z"
    },
    "papermill": {
     "duration": 0.200576,
     "end_time": "2022-02-02T05:52:37.712430",
     "exception": false,
     "start_time": "2022-02-02T05:52:37.511854",
     "status": "completed"
    },
    "tags": []
   },
   "outputs": [
    {
     "data": {
      "text/plain": [
       "Text(0.5, 1.0, 'Killed People According to Races')"
      ]
     },
     "execution_count": 16,
     "metadata": {},
     "output_type": "execute_result"
    },
    {
     "data": {
      "image/png": "[encoded data removed]",
      "text/plain": [
       "<Figure size 504x504 with 1 Axes>"
      ]
     },
     "metadata": {},
     "output_type": "display_data"
    }
   ],
   "source": [
    "kill.race.dropna(inplace = True)\n",
    "labels = kill.race.value_counts().index\n",
    "colors = ['grey','blue','red','yellow','green','brown']\n",
    "explode = [0,0,0,0,0,0]\n",
    "sizes = kill.race.value_counts().values\n",
    "\n",
    "plt.figure(figsize = (7,7))\n",
    "plt.pie(sizes, explode=explode, labels=labels, colors=colors, autopct='%1.1f%%')\n",
    "plt.title('Killed People According to Races',color = 'blue',fontsize = 15)"
   ]
  },
  {
   "cell_type": "code",
   "execution_count": 17,
   "id": "061fcd59",
   "metadata": {
    "execution": {
     "iopub.execute_input": "2022-02-02T05:52:37.799137Z",
     "iopub.status.busy": "2022-02-02T05:52:37.798530Z",
     "iopub.status.idle": "2022-02-02T05:52:37.814493Z",
     "shell.execute_reply": "2022-02-02T05:52:37.814953Z",
     "shell.execute_reply.started": "2022-02-02T05:43:29.436248Z"
    },
    "papermill": {
     "duration": 0.046989,
     "end_time": "2022-02-02T05:52:37.815134",
     "exception": false,
     "start_time": "2022-02-02T05:52:37.768145",
     "status": "completed"
    },
    "tags": []
   },
   "outputs": [
    {
     "data": {
      "text/html": [
       "<div>\n",
       "<style scoped>\n",
       "    .dataframe tbody tr th:only-of-type {\n",
       "        vertical-align: middle;\n",
       "    }\n",
       "\n",
       "    .dataframe tbody tr th {\n",
       "        vertical-align: top;\n",
       "    }\n",
       "\n",
       "    .dataframe thead th {\n",
       "        text-align: right;\n",
       "    }\n",
       "</style>\n",
       "<table border=\"1\" class=\"dataframe\">\n",
       "  <thead>\n",
       "    <tr style=\"text-align: right;\">\n",
       "      <th></th>\n",
       "      <th>id</th>\n",
       "      <th>name</th>\n",
       "      <th>date</th>\n",
       "      <th>manner_of_death</th>\n",
       "      <th>armed</th>\n",
       "      <th>age</th>\n",
       "      <th>gender</th>\n",
       "      <th>race</th>\n",
       "      <th>city</th>\n",
       "      <th>state</th>\n",
       "      <th>signs_of_mental_illness</th>\n",
       "      <th>threat_level</th>\n",
       "      <th>flee</th>\n",
       "      <th>body_camera</th>\n",
       "    </tr>\n",
       "  </thead>\n",
       "  <tbody>\n",
       "    <tr>\n",
       "      <th>0</th>\n",
       "      <td>3</td>\n",
       "      <td>Tim Elliot</td>\n",
       "      <td>02/01/15</td>\n",
       "      <td>shot</td>\n",
       "      <td>gun</td>\n",
       "      <td>53.0</td>\n",
       "      <td>M</td>\n",
       "      <td>A</td>\n",
       "      <td>Shelton</td>\n",
       "      <td>WA</td>\n",
       "      <td>True</td>\n",
       "      <td>attack</td>\n",
       "      <td>Not fleeing</td>\n",
       "      <td>False</td>\n",
       "    </tr>\n",
       "    <tr>\n",
       "      <th>1</th>\n",
       "      <td>4</td>\n",
       "      <td>Lewis Lee Lembke</td>\n",
       "      <td>02/01/15</td>\n",
       "      <td>shot</td>\n",
       "      <td>gun</td>\n",
       "      <td>47.0</td>\n",
       "      <td>M</td>\n",
       "      <td>W</td>\n",
       "      <td>Aloha</td>\n",
       "      <td>OR</td>\n",
       "      <td>False</td>\n",
       "      <td>attack</td>\n",
       "      <td>Not fleeing</td>\n",
       "      <td>False</td>\n",
       "    </tr>\n",
       "    <tr>\n",
       "      <th>2</th>\n",
       "      <td>5</td>\n",
       "      <td>John Paul Quintero</td>\n",
       "      <td>03/01/15</td>\n",
       "      <td>shot and Tasered</td>\n",
       "      <td>unarmed</td>\n",
       "      <td>23.0</td>\n",
       "      <td>M</td>\n",
       "      <td>H</td>\n",
       "      <td>Wichita</td>\n",
       "      <td>KS</td>\n",
       "      <td>False</td>\n",
       "      <td>other</td>\n",
       "      <td>Not fleeing</td>\n",
       "      <td>False</td>\n",
       "    </tr>\n",
       "    <tr>\n",
       "      <th>3</th>\n",
       "      <td>8</td>\n",
       "      <td>Matthew Hoffman</td>\n",
       "      <td>04/01/15</td>\n",
       "      <td>shot</td>\n",
       "      <td>toy weapon</td>\n",
       "      <td>32.0</td>\n",
       "      <td>M</td>\n",
       "      <td>W</td>\n",
       "      <td>San Francisco</td>\n",
       "      <td>CA</td>\n",
       "      <td>True</td>\n",
       "      <td>attack</td>\n",
       "      <td>Not fleeing</td>\n",
       "      <td>False</td>\n",
       "    </tr>\n",
       "    <tr>\n",
       "      <th>4</th>\n",
       "      <td>9</td>\n",
       "      <td>Michael Rodriguez</td>\n",
       "      <td>04/01/15</td>\n",
       "      <td>shot</td>\n",
       "      <td>nail gun</td>\n",
       "      <td>39.0</td>\n",
       "      <td>M</td>\n",
       "      <td>H</td>\n",
       "      <td>Evans</td>\n",
       "      <td>CO</td>\n",
       "      <td>False</td>\n",
       "      <td>attack</td>\n",
       "      <td>Not fleeing</td>\n",
       "      <td>False</td>\n",
       "    </tr>\n",
       "  </tbody>\n",
       "</table>\n",
       "</div>"
      ],
      "text/plain": [
       "   id                name      date   manner_of_death       armed   age  \\\n",
       "0   3          Tim Elliot  02/01/15              shot         gun  53.0   \n",
       "1   4    Lewis Lee Lembke  02/01/15              shot         gun  47.0   \n",
       "2   5  John Paul Quintero  03/01/15  shot and Tasered     unarmed  23.0   \n",
       "3   8     Matthew Hoffman  04/01/15              shot  toy weapon  32.0   \n",
       "4   9   Michael Rodriguez  04/01/15              shot    nail gun  39.0   \n",
       "\n",
       "  gender race           city state  signs_of_mental_illness threat_level  \\\n",
       "0      M    A        Shelton    WA                     True       attack   \n",
       "1      M    W          Aloha    OR                    False       attack   \n",
       "2      M    H        Wichita    KS                    False        other   \n",
       "3      M    W  San Francisco    CA                     True       attack   \n",
       "4      M    H          Evans    CO                    False       attack   \n",
       "\n",
       "          flee  body_camera  \n",
       "0  Not fleeing        False  \n",
       "1  Not fleeing        False  \n",
       "2  Not fleeing        False  \n",
       "3  Not fleeing        False  \n",
       "4  Not fleeing        False  "
      ]
     },
     "execution_count": 17,
     "metadata": {},
     "output_type": "execute_result"
    }
   ],
   "source": [
    "kill.head()"
   ]
  },
  {
   "cell_type": "code",
   "execution_count": 18,
   "id": "ac54785e",
   "metadata": {
    "execution": {
     "iopub.execute_input": "2022-02-02T05:52:37.880108Z",
     "iopub.status.busy": "2022-02-02T05:52:37.879239Z",
     "iopub.status.idle": "2022-02-02T05:52:37.882771Z",
     "shell.execute_reply": "2022-02-02T05:52:37.882343Z",
     "shell.execute_reply.started": "2022-02-02T05:43:29.457372Z"
    },
    "papermill": {
     "duration": 0.037424,
     "end_time": "2022-02-02T05:52:37.882932",
     "exception": false,
     "start_time": "2022-02-02T05:52:37.845508",
     "status": "completed"
    },
    "tags": []
   },
   "outputs": [
    {
     "data": {
      "text/plain": [
       "array(['shot', 'shot and Tasered'], dtype=object)"
      ]
     },
     "execution_count": 18,
     "metadata": {},
     "output_type": "execute_result"
    }
   ],
   "source": [
    "kill.manner_of_death.unique()"
   ]
  },
  {
   "cell_type": "code",
   "execution_count": 19,
   "id": "c572c730",
   "metadata": {
    "execution": {
     "iopub.execute_input": "2022-02-02T05:52:37.945827Z",
     "iopub.status.busy": "2022-02-02T05:52:37.945109Z",
     "iopub.status.idle": "2022-02-02T05:52:38.164889Z",
     "shell.execute_reply": "2022-02-02T05:52:38.165315Z",
     "shell.execute_reply.started": "2022-02-02T05:43:29.474476Z"
    },
    "papermill": {
     "duration": 0.252602,
     "end_time": "2022-02-02T05:52:38.165505",
     "exception": false,
     "start_time": "2022-02-02T05:52:37.912903",
     "status": "completed"
    },
    "tags": []
   },
   "outputs": [
    {
     "data": {
      "image/png": "[encoded data removed]",
      "text/plain": [
       "<Figure size 432x288 with 1 Axes>"
      ]
     },
     "metadata": {
      "needs_background": "light"
     },
     "output_type": "display_data"
    }
   ],
   "source": [
    "sns.boxplot(x=\"gender\", y=\"age\", hue=\"manner_of_death\", data=kill, palette=\"PRGn\")\n",
    "plt.show()"
   ]
  },
  {
   "cell_type": "code",
   "execution_count": 20,
   "id": "1b547c27",
   "metadata": {
    "execution": {
     "iopub.execute_input": "2022-02-02T05:52:38.227147Z",
     "iopub.status.busy": "2022-02-02T05:52:38.226484Z",
     "iopub.status.idle": "2022-02-02T05:52:38.242150Z",
     "shell.execute_reply": "2022-02-02T05:52:38.241677Z",
     "shell.execute_reply.started": "2022-02-02T05:43:29.685762Z"
    },
    "papermill": {
     "duration": 0.047542,
     "end_time": "2022-02-02T05:52:38.242306",
     "exception": false,
     "start_time": "2022-02-02T05:52:38.194764",
     "status": "completed"
    },
    "tags": []
   },
   "outputs": [
    {
     "data": {
      "text/html": [
       "<div>\n",
       "<style scoped>\n",
       "    .dataframe tbody tr th:only-of-type {\n",
       "        vertical-align: middle;\n",
       "    }\n",
       "\n",
       "    .dataframe tbody tr th {\n",
       "        vertical-align: top;\n",
       "    }\n",
       "\n",
       "    .dataframe thead th {\n",
       "        text-align: right;\n",
       "    }\n",
       "</style>\n",
       "<table border=\"1\" class=\"dataframe\">\n",
       "  <thead>\n",
       "    <tr style=\"text-align: right;\">\n",
       "      <th></th>\n",
       "      <th>id</th>\n",
       "      <th>name</th>\n",
       "      <th>date</th>\n",
       "      <th>manner_of_death</th>\n",
       "      <th>armed</th>\n",
       "      <th>age</th>\n",
       "      <th>gender</th>\n",
       "      <th>race</th>\n",
       "      <th>city</th>\n",
       "      <th>state</th>\n",
       "      <th>signs_of_mental_illness</th>\n",
       "      <th>threat_level</th>\n",
       "      <th>flee</th>\n",
       "      <th>body_camera</th>\n",
       "    </tr>\n",
       "  </thead>\n",
       "  <tbody>\n",
       "    <tr>\n",
       "      <th>0</th>\n",
       "      <td>3</td>\n",
       "      <td>Tim Elliot</td>\n",
       "      <td>02/01/15</td>\n",
       "      <td>shot</td>\n",
       "      <td>gun</td>\n",
       "      <td>53.0</td>\n",
       "      <td>M</td>\n",
       "      <td>A</td>\n",
       "      <td>Shelton</td>\n",
       "      <td>WA</td>\n",
       "      <td>True</td>\n",
       "      <td>attack</td>\n",
       "      <td>Not fleeing</td>\n",
       "      <td>False</td>\n",
       "    </tr>\n",
       "    <tr>\n",
       "      <th>1</th>\n",
       "      <td>4</td>\n",
       "      <td>Lewis Lee Lembke</td>\n",
       "      <td>02/01/15</td>\n",
       "      <td>shot</td>\n",
       "      <td>gun</td>\n",
       "      <td>47.0</td>\n",
       "      <td>M</td>\n",
       "      <td>W</td>\n",
       "      <td>Aloha</td>\n",
       "      <td>OR</td>\n",
       "      <td>False</td>\n",
       "      <td>attack</td>\n",
       "      <td>Not fleeing</td>\n",
       "      <td>False</td>\n",
       "    </tr>\n",
       "    <tr>\n",
       "      <th>2</th>\n",
       "      <td>5</td>\n",
       "      <td>John Paul Quintero</td>\n",
       "      <td>03/01/15</td>\n",
       "      <td>shot and Tasered</td>\n",
       "      <td>unarmed</td>\n",
       "      <td>23.0</td>\n",
       "      <td>M</td>\n",
       "      <td>H</td>\n",
       "      <td>Wichita</td>\n",
       "      <td>KS</td>\n",
       "      <td>False</td>\n",
       "      <td>other</td>\n",
       "      <td>Not fleeing</td>\n",
       "      <td>False</td>\n",
       "    </tr>\n",
       "    <tr>\n",
       "      <th>3</th>\n",
       "      <td>8</td>\n",
       "      <td>Matthew Hoffman</td>\n",
       "      <td>04/01/15</td>\n",
       "      <td>shot</td>\n",
       "      <td>toy weapon</td>\n",
       "      <td>32.0</td>\n",
       "      <td>M</td>\n",
       "      <td>W</td>\n",
       "      <td>San Francisco</td>\n",
       "      <td>CA</td>\n",
       "      <td>True</td>\n",
       "      <td>attack</td>\n",
       "      <td>Not fleeing</td>\n",
       "      <td>False</td>\n",
       "    </tr>\n",
       "    <tr>\n",
       "      <th>4</th>\n",
       "      <td>9</td>\n",
       "      <td>Michael Rodriguez</td>\n",
       "      <td>04/01/15</td>\n",
       "      <td>shot</td>\n",
       "      <td>nail gun</td>\n",
       "      <td>39.0</td>\n",
       "      <td>M</td>\n",
       "      <td>H</td>\n",
       "      <td>Evans</td>\n",
       "      <td>CO</td>\n",
       "      <td>False</td>\n",
       "      <td>attack</td>\n",
       "      <td>Not fleeing</td>\n",
       "      <td>False</td>\n",
       "    </tr>\n",
       "  </tbody>\n",
       "</table>\n",
       "</div>"
      ],
      "text/plain": [
       "   id                name      date   manner_of_death       armed   age  \\\n",
       "0   3          Tim Elliot  02/01/15              shot         gun  53.0   \n",
       "1   4    Lewis Lee Lembke  02/01/15              shot         gun  47.0   \n",
       "2   5  John Paul Quintero  03/01/15  shot and Tasered     unarmed  23.0   \n",
       "3   8     Matthew Hoffman  04/01/15              shot  toy weapon  32.0   \n",
       "4   9   Michael Rodriguez  04/01/15              shot    nail gun  39.0   \n",
       "\n",
       "  gender race           city state  signs_of_mental_illness threat_level  \\\n",
       "0      M    A        Shelton    WA                     True       attack   \n",
       "1      M    W          Aloha    OR                    False       attack   \n",
       "2      M    H        Wichita    KS                    False        other   \n",
       "3      M    W  San Francisco    CA                     True       attack   \n",
       "4      M    H          Evans    CO                    False       attack   \n",
       "\n",
       "          flee  body_camera  \n",
       "0  Not fleeing        False  \n",
       "1  Not fleeing        False  \n",
       "2  Not fleeing        False  \n",
       "3  Not fleeing        False  \n",
       "4  Not fleeing        False  "
      ]
     },
     "execution_count": 20,
     "metadata": {},
     "output_type": "execute_result"
    }
   ],
   "source": [
    "kill.head()"
   ]
  },
  {
   "cell_type": "code",
   "execution_count": 21,
   "id": "ad652c73",
   "metadata": {
    "execution": {
     "iopub.execute_input": "2022-02-02T05:52:38.306800Z",
     "iopub.status.busy": "2022-02-02T05:52:38.306089Z",
     "iopub.status.idle": "2022-02-02T05:52:49.947924Z",
     "shell.execute_reply": "2022-02-02T05:52:49.947367Z",
     "shell.execute_reply.started": "2022-02-02T05:43:29.701940Z"
    },
    "papermill": {
     "duration": 11.675002,
     "end_time": "2022-02-02T05:52:49.948090",
     "exception": false,
     "start_time": "2022-02-02T05:52:38.273088",
     "status": "completed"
    },
    "tags": []
   },
   "outputs": [
    {
     "name": "stderr",
     "output_type": "stream",
     "text": [
      "/opt/conda/lib/python3.7/site-packages/seaborn/categorical.py:1296: UserWarning: 68.7% of the points cannot be placed; you may want to decrease the size of the markers or use stripplot.\n",
      "  warnings.warn(msg, UserWarning)\n"
     ]
    },
    {
     "data": {
      "image/png": "[encoded data removed]",
      "text/plain": [
       "<Figure size 432x288 with 1 Axes>"
      ]
     },
     "metadata": {
      "needs_background": "light"
     },
     "output_type": "display_data"
    }
   ],
   "source": [
    "sns.swarmplot(x=\"gender\", y=\"age\",hue=\"manner_of_death\", data=kill)\n",
    "plt.show()"
   ]
  },
  {
   "cell_type": "code",
   "execution_count": 22,
   "id": "a212c2b0",
   "metadata": {
    "execution": {
     "iopub.execute_input": "2022-02-02T05:52:50.017700Z",
     "iopub.status.busy": "2022-02-02T05:52:50.017040Z",
     "iopub.status.idle": "2022-02-02T05:52:50.023014Z",
     "shell.execute_reply": "2022-02-02T05:52:50.023503Z",
     "shell.execute_reply.started": "2022-02-02T05:43:53.132340Z"
    },
    "papermill": {
     "duration": 0.042897,
     "end_time": "2022-02-02T05:52:50.023691",
     "exception": false,
     "start_time": "2022-02-02T05:52:49.980794",
     "status": "completed"
    },
    "tags": []
   },
   "outputs": [
    {
     "data": {
      "text/plain": [
       "M    2428\n",
       "F     107\n",
       "Name: gender, dtype: int64"
      ]
     },
     "execution_count": 22,
     "metadata": {},
     "output_type": "execute_result"
    }
   ],
   "source": [
    "kill.gender.value_counts()"
   ]
  },
  {
   "cell_type": "code",
   "execution_count": 23,
   "id": "388e8470",
   "metadata": {
    "execution": {
     "iopub.execute_input": "2022-02-02T05:52:50.093401Z",
     "iopub.status.busy": "2022-02-02T05:52:50.092753Z",
     "iopub.status.idle": "2022-02-02T05:52:50.109018Z",
     "shell.execute_reply": "2022-02-02T05:52:50.108459Z",
     "shell.execute_reply.started": "2022-02-02T05:45:59.823612Z"
    },
    "papermill": {
     "duration": 0.051826,
     "end_time": "2022-02-02T05:52:50.109168",
     "exception": false,
     "start_time": "2022-02-02T05:52:50.057342",
     "status": "completed"
    },
    "tags": []
   },
   "outputs": [
    {
     "data": {
      "text/html": [
       "<div>\n",
       "<style scoped>\n",
       "    .dataframe tbody tr th:only-of-type {\n",
       "        vertical-align: middle;\n",
       "    }\n",
       "\n",
       "    .dataframe tbody tr th {\n",
       "        vertical-align: top;\n",
       "    }\n",
       "\n",
       "    .dataframe thead th {\n",
       "        text-align: right;\n",
       "    }\n",
       "</style>\n",
       "<table border=\"1\" class=\"dataframe\">\n",
       "  <thead>\n",
       "    <tr style=\"text-align: right;\">\n",
       "      <th></th>\n",
       "      <th>id</th>\n",
       "      <th>name</th>\n",
       "      <th>date</th>\n",
       "      <th>manner_of_death</th>\n",
       "      <th>armed</th>\n",
       "      <th>age</th>\n",
       "      <th>gender</th>\n",
       "      <th>race</th>\n",
       "      <th>city</th>\n",
       "      <th>state</th>\n",
       "      <th>signs_of_mental_illness</th>\n",
       "      <th>threat_level</th>\n",
       "      <th>flee</th>\n",
       "      <th>body_camera</th>\n",
       "    </tr>\n",
       "  </thead>\n",
       "  <tbody>\n",
       "    <tr>\n",
       "      <th>0</th>\n",
       "      <td>3</td>\n",
       "      <td>Tim Elliot</td>\n",
       "      <td>02/01/15</td>\n",
       "      <td>shot</td>\n",
       "      <td>gun</td>\n",
       "      <td>53.0</td>\n",
       "      <td>M</td>\n",
       "      <td>A</td>\n",
       "      <td>Shelton</td>\n",
       "      <td>WA</td>\n",
       "      <td>True</td>\n",
       "      <td>attack</td>\n",
       "      <td>Not fleeing</td>\n",
       "      <td>False</td>\n",
       "    </tr>\n",
       "    <tr>\n",
       "      <th>1</th>\n",
       "      <td>4</td>\n",
       "      <td>Lewis Lee Lembke</td>\n",
       "      <td>02/01/15</td>\n",
       "      <td>shot</td>\n",
       "      <td>gun</td>\n",
       "      <td>47.0</td>\n",
       "      <td>M</td>\n",
       "      <td>W</td>\n",
       "      <td>Aloha</td>\n",
       "      <td>OR</td>\n",
       "      <td>False</td>\n",
       "      <td>attack</td>\n",
       "      <td>Not fleeing</td>\n",
       "      <td>False</td>\n",
       "    </tr>\n",
       "    <tr>\n",
       "      <th>2</th>\n",
       "      <td>5</td>\n",
       "      <td>John Paul Quintero</td>\n",
       "      <td>03/01/15</td>\n",
       "      <td>shot and Tasered</td>\n",
       "      <td>unarmed</td>\n",
       "      <td>23.0</td>\n",
       "      <td>M</td>\n",
       "      <td>H</td>\n",
       "      <td>Wichita</td>\n",
       "      <td>KS</td>\n",
       "      <td>False</td>\n",
       "      <td>other</td>\n",
       "      <td>Not fleeing</td>\n",
       "      <td>False</td>\n",
       "    </tr>\n",
       "    <tr>\n",
       "      <th>3</th>\n",
       "      <td>8</td>\n",
       "      <td>Matthew Hoffman</td>\n",
       "      <td>04/01/15</td>\n",
       "      <td>shot</td>\n",
       "      <td>toy weapon</td>\n",
       "      <td>32.0</td>\n",
       "      <td>M</td>\n",
       "      <td>W</td>\n",
       "      <td>San Francisco</td>\n",
       "      <td>CA</td>\n",
       "      <td>True</td>\n",
       "      <td>attack</td>\n",
       "      <td>Not fleeing</td>\n",
       "      <td>False</td>\n",
       "    </tr>\n",
       "    <tr>\n",
       "      <th>4</th>\n",
       "      <td>9</td>\n",
       "      <td>Michael Rodriguez</td>\n",
       "      <td>04/01/15</td>\n",
       "      <td>shot</td>\n",
       "      <td>nail gun</td>\n",
       "      <td>39.0</td>\n",
       "      <td>M</td>\n",
       "      <td>H</td>\n",
       "      <td>Evans</td>\n",
       "      <td>CO</td>\n",
       "      <td>False</td>\n",
       "      <td>attack</td>\n",
       "      <td>Not fleeing</td>\n",
       "      <td>False</td>\n",
       "    </tr>\n",
       "  </tbody>\n",
       "</table>\n",
       "</div>"
      ],
      "text/plain": [
       "   id                name      date   manner_of_death       armed   age  \\\n",
       "0   3          Tim Elliot  02/01/15              shot         gun  53.0   \n",
       "1   4    Lewis Lee Lembke  02/01/15              shot         gun  47.0   \n",
       "2   5  John Paul Quintero  03/01/15  shot and Tasered     unarmed  23.0   \n",
       "3   8     Matthew Hoffman  04/01/15              shot  toy weapon  32.0   \n",
       "4   9   Michael Rodriguez  04/01/15              shot    nail gun  39.0   \n",
       "\n",
       "  gender race           city state  signs_of_mental_illness threat_level  \\\n",
       "0      M    A        Shelton    WA                     True       attack   \n",
       "1      M    W          Aloha    OR                    False       attack   \n",
       "2      M    H        Wichita    KS                    False        other   \n",
       "3      M    W  San Francisco    CA                     True       attack   \n",
       "4      M    H          Evans    CO                    False       attack   \n",
       "\n",
       "          flee  body_camera  \n",
       "0  Not fleeing        False  \n",
       "1  Not fleeing        False  \n",
       "2  Not fleeing        False  \n",
       "3  Not fleeing        False  \n",
       "4  Not fleeing        False  "
      ]
     },
     "execution_count": 23,
     "metadata": {},
     "output_type": "execute_result"
    }
   ],
   "source": [
    "kill.head()"
   ]
  },
  {
   "cell_type": "code",
   "execution_count": 24,
   "id": "3ca27c74",
   "metadata": {
    "execution": {
     "iopub.execute_input": "2022-02-02T05:52:50.183077Z",
     "iopub.status.busy": "2022-02-02T05:52:50.182393Z",
     "iopub.status.idle": "2022-02-02T05:52:50.299248Z",
     "shell.execute_reply": "2022-02-02T05:52:50.299683Z",
     "shell.execute_reply.started": "2022-02-02T05:46:13.786285Z"
    },
    "papermill": {
     "duration": 0.155641,
     "end_time": "2022-02-02T05:52:50.299851",
     "exception": false,
     "start_time": "2022-02-02T05:52:50.144210",
     "status": "completed"
    },
    "tags": []
   },
   "outputs": [
    {
     "name": "stderr",
     "output_type": "stream",
     "text": [
      "/opt/conda/lib/python3.7/site-packages/seaborn/_decorators.py:43: FutureWarning: Pass the following variable as a keyword arg: x. From version 0.12, the only valid positional argument will be `data`, and passing other arguments without an explicit keyword will result in an error or misinterpretation.\n",
      "  FutureWarning\n"
     ]
    },
    {
     "data": {
      "text/plain": [
       "Text(0.5, 1.0, 'gender')"
      ]
     },
     "execution_count": 24,
     "metadata": {},
     "output_type": "execute_result"
    },
    {
     "data": {
      "image/png": "[encoded data removed]",
      "text/plain": [
       "<Figure size 432x288 with 1 Axes>"
      ]
     },
     "metadata": {
      "needs_background": "light"
     },
     "output_type": "display_data"
    }
   ],
   "source": [
    "sns.countplot(kill.gender)\n",
    "plt.title(\"gender\",color = 'blue',fontsize=15)"
   ]
  },
  {
   "cell_type": "code",
   "execution_count": null,
   "id": "f7b65473",
   "metadata": {
    "papermill": {
     "duration": 0.035934,
     "end_time": "2022-02-02T05:52:50.371159",
     "exception": false,
     "start_time": "2022-02-02T05:52:50.335225",
     "status": "completed"
    },
    "tags": []
   },
   "outputs": [],
   "source": []
  },
  {
   "cell_type": "code",
   "execution_count": 25,
   "id": "4157bd37",
   "metadata": {
    "execution": {
     "iopub.execute_input": "2022-02-02T05:52:50.443791Z",
     "iopub.status.busy": "2022-02-02T05:52:50.443094Z",
     "iopub.status.idle": "2022-02-02T05:52:50.678770Z",
     "shell.execute_reply": "2022-02-02T05:52:50.678043Z",
     "shell.execute_reply.started": "2022-02-02T05:46:33.269153Z"
    },
    "papermill": {
     "duration": 0.273332,
     "end_time": "2022-02-02T05:52:50.678910",
     "exception": false,
     "start_time": "2022-02-02T05:52:50.405578",
     "status": "completed"
    },
    "tags": []
   },
   "outputs": [
    {
     "data": {
      "text/plain": [
       "Text(0.5, 1.0, 'Kill weapon')"
      ]
     },
     "execution_count": 25,
     "metadata": {},
     "output_type": "execute_result"
    },
    {
     "data": {
      "image/png": "[encoded data removed]",
      "text/plain": [
       "<Figure size 720x504 with 1 Axes>"
      ]
     },
     "metadata": {
      "needs_background": "light"
     },
     "output_type": "display_data"
    }
   ],
   "source": [
    "armed = kill.armed.value_counts()\n",
    "plt.figure(figsize=(10,7))\n",
    "sns.barplot(x=armed[:7].index,y=armed[:7].values)\n",
    "plt.ylabel('Number of Weapon')\n",
    "plt.xlabel('Weapon Types')\n",
    "plt.title('Kill weapon',color = 'blue',fontsize=15)"
   ]
  },
  {
   "cell_type": "code",
   "execution_count": 26,
   "id": "bea8171a",
   "metadata": {
    "execution": {
     "iopub.execute_input": "2022-02-02T05:52:50.759123Z",
     "iopub.status.busy": "2022-02-02T05:52:50.758469Z",
     "iopub.status.idle": "2022-02-02T05:52:50.933573Z",
     "shell.execute_reply": "2022-02-02T05:52:50.932932Z",
     "shell.execute_reply.started": "2022-02-02T05:46:45.309220Z"
    },
    "papermill": {
     "duration": 0.219636,
     "end_time": "2022-02-02T05:52:50.933726",
     "exception": false,
     "start_time": "2022-02-02T05:52:50.714090",
     "status": "completed"
    },
    "tags": []
   },
   "outputs": [
    {
     "data": {
      "text/plain": [
       "Text(0.5, 1.0, 'Age of killed people')"
      ]
     },
     "execution_count": 26,
     "metadata": {},
     "output_type": "execute_result"
    },
    {
     "data": {
      "image/png": "[encoded data removed]",
      "text/plain": [
       "<Figure size 432x288 with 1 Axes>"
      ]
     },
     "metadata": {
      "needs_background": "light"
     },
     "output_type": "display_data"
    }
   ],
   "source": [
    "above25 =['above25' if i >= 25 else 'below25' for i in kill.age]\n",
    "df = pd.DataFrame({'age':above25})\n",
    "sns.countplot(x=df.age)\n",
    "plt.ylabel('Number of Killed People')\n",
    "plt.title('Age of killed people',color = 'blue',fontsize=15)"
   ]
  },
  {
   "cell_type": "code",
   "execution_count": 27,
   "id": "2cbafe34",
   "metadata": {
    "execution": {
     "iopub.execute_input": "2022-02-02T05:52:51.014269Z",
     "iopub.status.busy": "2022-02-02T05:52:51.013669Z",
     "iopub.status.idle": "2022-02-02T05:52:51.200442Z",
     "shell.execute_reply": "2022-02-02T05:52:51.200977Z",
     "shell.execute_reply.started": "2022-02-02T05:46:57.652150Z"
    },
    "papermill": {
     "duration": 0.231848,
     "end_time": "2022-02-02T05:52:51.201168",
     "exception": false,
     "start_time": "2022-02-02T05:52:50.969320",
     "status": "completed"
    },
    "tags": []
   },
   "outputs": [
    {
     "data": {
      "text/plain": [
       "Text(0.5, 1.0, 'Race of killed people')"
      ]
     },
     "execution_count": 27,
     "metadata": {},
     "output_type": "execute_result"
    },
    {
     "data": {
      "image/png": "[encoded data removed]",
      "text/plain": [
       "<Figure size 432x288 with 1 Axes>"
      ]
     },
     "metadata": {
      "needs_background": "light"
     },
     "output_type": "display_data"
    }
   ],
   "source": [
    "sns.countplot(data=kill, x='race')\n",
    "plt.title('Race of killed people',color = 'blue',fontsize=15)"
   ]
  },
  {
   "cell_type": "code",
   "execution_count": 28,
   "id": "9cb7af71",
   "metadata": {
    "execution": {
     "iopub.execute_input": "2022-02-02T05:52:51.281394Z",
     "iopub.status.busy": "2022-02-02T05:52:51.280812Z",
     "iopub.status.idle": "2022-02-02T05:52:51.552704Z",
     "shell.execute_reply": "2022-02-02T05:52:51.552238Z",
     "shell.execute_reply.started": "2022-02-02T05:47:14.371252Z"
    },
    "papermill": {
     "duration": 0.314969,
     "end_time": "2022-02-02T05:52:51.552839",
     "exception": false,
     "start_time": "2022-02-02T05:52:51.237870",
     "status": "completed"
    },
    "tags": []
   },
   "outputs": [
    {
     "data": {
      "text/plain": [
       "Text(0.5, 1.0, 'Most dangerous cities')"
      ]
     },
     "execution_count": 28,
     "metadata": {},
     "output_type": "execute_result"
    },
    {
     "data": {
      "image/png": "[encoded data removed]",
      "text/plain": [
       "<Figure size 720x504 with 1 Axes>"
      ]
     },
     "metadata": {
      "needs_background": "light"
     },
     "output_type": "display_data"
    }
   ],
   "source": [
    "city = kill.city.value_counts()\n",
    "plt.figure(figsize=(10,7))\n",
    "sns.barplot(x=city[:12].index,y=city[:12].values)\n",
    "plt.xticks(rotation=45)\n",
    "plt.title('Most dangerous cities',color = 'blue',fontsize=15)"
   ]
  },
  {
   "cell_type": "code",
   "execution_count": 29,
   "id": "e948f376",
   "metadata": {
    "execution": {
     "iopub.execute_input": "2022-02-02T05:52:51.633943Z",
     "iopub.status.busy": "2022-02-02T05:52:51.633320Z",
     "iopub.status.idle": "2022-02-02T05:52:51.947773Z",
     "shell.execute_reply": "2022-02-02T05:52:51.948319Z",
     "shell.execute_reply.started": "2022-02-02T05:47:28.419841Z"
    },
    "papermill": {
     "duration": 0.357439,
     "end_time": "2022-02-02T05:52:51.948493",
     "exception": false,
     "start_time": "2022-02-02T05:52:51.591054",
     "status": "completed"
    },
    "tags": []
   },
   "outputs": [
    {
     "data": {
      "text/plain": [
       "Text(0.5, 1.0, 'Most dangerous state')"
      ]
     },
     "execution_count": 29,
     "metadata": {},
     "output_type": "execute_result"
    },
    {
     "data": {
      "image/png": "[encoded data removed]",
      "text/plain": [
       "<Figure size 720x504 with 1 Axes>"
      ]
     },
     "metadata": {
      "needs_background": "light"
     },
     "output_type": "display_data"
    }
   ],
   "source": [
    "state = kill.state.value_counts()\n",
    "plt.figure(figsize=(10,7))\n",
    "sns.barplot(x=state[:20].index,y=state[:20].values)\n",
    "plt.title('Most dangerous state',color = 'blue',fontsize=15)"
   ]
  },
  {
   "cell_type": "code",
   "execution_count": 30,
   "id": "4d2606f4",
   "metadata": {
    "execution": {
     "iopub.execute_input": "2022-02-02T05:52:52.032063Z",
     "iopub.status.busy": "2022-02-02T05:52:52.031456Z",
     "iopub.status.idle": "2022-02-02T05:52:52.210901Z",
     "shell.execute_reply": "2022-02-02T05:52:52.211342Z",
     "shell.execute_reply.started": "2022-02-02T05:47:40.408790Z"
    },
    "papermill": {
     "duration": 0.223993,
     "end_time": "2022-02-02T05:52:52.211513",
     "exception": false,
     "start_time": "2022-02-02T05:52:51.987520",
     "status": "completed"
    },
    "tags": []
   },
   "outputs": [
    {
     "name": "stderr",
     "output_type": "stream",
     "text": [
      "/opt/conda/lib/python3.7/site-packages/seaborn/_decorators.py:43: FutureWarning: Pass the following variable as a keyword arg: x. From version 0.12, the only valid positional argument will be `data`, and passing other arguments without an explicit keyword will result in an error or misinterpretation.\n",
      "  FutureWarning\n"
     ]
    },
    {
     "data": {
      "text/plain": [
       "Text(0.5, 1.0, 'Having mental illness or not')"
      ]
     },
     "execution_count": 30,
     "metadata": {},
     "output_type": "execute_result"
    },
    {
     "data": {
      "image/png": "[encoded data removed]",
      "text/plain": [
       "<Figure size 432x288 with 1 Axes>"
      ]
     },
     "metadata": {
      "needs_background": "light"
     },
     "output_type": "display_data"
    }
   ],
   "source": [
    "sns.countplot(kill.signs_of_mental_illness)\n",
    "plt.xlabel('Mental illness')\n",
    "plt.ylabel('Number of Mental illness')\n",
    "plt.title('Having mental illness or not',color = 'blue', fontsize = 15)"
   ]
  },
  {
   "cell_type": "code",
   "execution_count": 31,
   "id": "9c5e1a7d",
   "metadata": {
    "execution": {
     "iopub.execute_input": "2022-02-02T05:52:52.296527Z",
     "iopub.status.busy": "2022-02-02T05:52:52.295868Z",
     "iopub.status.idle": "2022-02-02T05:52:52.481987Z",
     "shell.execute_reply": "2022-02-02T05:52:52.481511Z",
     "shell.execute_reply.started": "2022-02-02T05:50:37.063194Z"
    },
    "papermill": {
     "duration": 0.228816,
     "end_time": "2022-02-02T05:52:52.482116",
     "exception": false,
     "start_time": "2022-02-02T05:52:52.253300",
     "status": "completed"
    },
    "tags": []
   },
   "outputs": [
    {
     "name": "stderr",
     "output_type": "stream",
     "text": [
      "/opt/conda/lib/python3.7/site-packages/seaborn/_decorators.py:43: FutureWarning: Pass the following variable as a keyword arg: x. From version 0.12, the only valid positional argument will be `data`, and passing other arguments without an explicit keyword will result in an error or misinterpretation.\n",
      "  FutureWarning\n"
     ]
    },
    {
     "data": {
      "text/plain": [
       "Text(0.5, 1.0, 'Threat types')"
      ]
     },
     "execution_count": 31,
     "metadata": {},
     "output_type": "execute_result"
    },
    {
     "data": {
      "image/png": "[encoded data removed]",
      "text/plain": [
       "<Figure size 432x288 with 1 Axes>"
      ]
     },
     "metadata": {
      "needs_background": "light"
     },
     "output_type": "display_data"
    }
   ],
   "source": [
    "sns.countplot(kill.threat_level)\n",
    "plt.xlabel('Threat Types')\n",
    "plt.title('Threat types',color = 'blue', fontsize = 15)"
   ]
  },
  {
   "cell_type": "code",
   "execution_count": 32,
   "id": "cea8132e",
   "metadata": {
    "execution": {
     "iopub.execute_input": "2022-02-02T05:52:52.570140Z",
     "iopub.status.busy": "2022-02-02T05:52:52.569554Z",
     "iopub.status.idle": "2022-02-02T05:52:52.761068Z",
     "shell.execute_reply": "2022-02-02T05:52:52.760495Z",
     "shell.execute_reply.started": "2022-02-02T05:50:56.137847Z"
    },
    "papermill": {
     "duration": 0.236588,
     "end_time": "2022-02-02T05:52:52.761232",
     "exception": false,
     "start_time": "2022-02-02T05:52:52.524644",
     "status": "completed"
    },
    "tags": []
   },
   "outputs": [
    {
     "name": "stderr",
     "output_type": "stream",
     "text": [
      "/opt/conda/lib/python3.7/site-packages/seaborn/_decorators.py:43: FutureWarning: Pass the following variable as a keyword arg: x. From version 0.12, the only valid positional argument will be `data`, and passing other arguments without an explicit keyword will result in an error or misinterpretation.\n",
      "  FutureWarning\n"
     ]
    },
    {
     "data": {
      "text/plain": [
       "Text(0.5, 1.0, 'Flee types')"
      ]
     },
     "execution_count": 32,
     "metadata": {},
     "output_type": "execute_result"
    },
    {
     "data": {
      "image/png": "[encoded data removed]",
      "text/plain": [
       "<Figure size 432x288 with 1 Axes>"
      ]
     },
     "metadata": {
      "needs_background": "light"
     },
     "output_type": "display_data"
    }
   ],
   "source": [
    "sns.countplot(kill.flee)\n",
    "plt.xlabel('Flee Types')\n",
    "plt.title('Flee types',color = 'blue', fontsize = 15)"
   ]
  },
  {
   "cell_type": "code",
   "execution_count": 33,
   "id": "f427ce23",
   "metadata": {
    "execution": {
     "iopub.execute_input": "2022-02-02T05:52:52.853746Z",
     "iopub.status.busy": "2022-02-02T05:52:52.853016Z",
     "iopub.status.idle": "2022-02-02T05:52:53.019318Z",
     "shell.execute_reply": "2022-02-02T05:52:53.018728Z",
     "shell.execute_reply.started": "2022-02-02T05:51:16.188283Z"
    },
    "papermill": {
     "duration": 0.215487,
     "end_time": "2022-02-02T05:52:53.019471",
     "exception": false,
     "start_time": "2022-02-02T05:52:52.803984",
     "status": "completed"
    },
    "tags": []
   },
   "outputs": [
    {
     "name": "stderr",
     "output_type": "stream",
     "text": [
      "/opt/conda/lib/python3.7/site-packages/seaborn/_decorators.py:43: FutureWarning: Pass the following variable as a keyword arg: x. From version 0.12, the only valid positional argument will be `data`, and passing other arguments without an explicit keyword will result in an error or misinterpretation.\n",
      "  FutureWarning\n"
     ]
    },
    {
     "data": {
      "text/plain": [
       "Text(0.5, 1.0, 'Having body cameras or not on Police')"
      ]
     },
     "execution_count": 33,
     "metadata": {},
     "output_type": "execute_result"
    },
    {
     "data": {
      "image/png": "[encoded data removed]",
      "text/plain": [
       "<Figure size 432x288 with 1 Axes>"
      ]
     },
     "metadata": {
      "needs_background": "light"
     },
     "output_type": "display_data"
    }
   ],
   "source": [
    "sns.countplot(kill.body_camera)\n",
    "plt.xlabel('Having Body Cameras')\n",
    "plt.title('Having body cameras or not on Police',color = 'blue',fontsize = 15)"
   ]
  },
  {
   "cell_type": "code",
   "execution_count": 34,
   "id": "63eb3568",
   "metadata": {
    "execution": {
     "iopub.execute_input": "2022-02-02T05:52:53.109282Z",
     "iopub.status.busy": "2022-02-02T05:52:53.108645Z",
     "iopub.status.idle": "2022-02-02T05:52:53.343303Z",
     "shell.execute_reply": "2022-02-02T05:52:53.343825Z",
     "shell.execute_reply.started": "2022-02-02T05:51:25.754437Z"
    },
    "papermill": {
     "duration": 0.280475,
     "end_time": "2022-02-02T05:52:53.343992",
     "exception": false,
     "start_time": "2022-02-02T05:52:53.063517",
     "status": "completed"
    },
    "tags": []
   },
   "outputs": [
    {
     "data": {
      "text/plain": [
       "Text(0.5, 1.0, 'Kill Numbers from States')"
      ]
     },
     "execution_count": 34,
     "metadata": {},
     "output_type": "execute_result"
    },
    {
     "data": {
      "image/png": "[encoded data removed]",
      "text/plain": [
       "<Figure size 432x288 with 1 Axes>"
      ]
     },
     "metadata": {
      "needs_background": "light"
     },
     "output_type": "display_data"
    }
   ],
   "source": [
    "sta = kill.state.value_counts().index[:10]\n",
    "sns.barplot(x=sta,y = kill.state.value_counts().values[:10])\n",
    "plt.title('Kill Numbers from States',color = 'blue',fontsize=15)"
   ]
  }
 ],
 "metadata": {
  "kernelspec": {
   "display_name": "Python 3",
   "language": "python",
   "name": "python3"
  },
  "language_info": {
   "codemirror_mode": {
    "name": "ipython",
    "version": 3
   },
   "file_extension": ".py",
   "mimetype": "text/x-python",
   "name": "python",
   "nbconvert_exporter": "python",
   "pygments_lexer": "ipython3",
   "version": "3.7.12"
  },
  "papermill": {
   "default_parameters": {},
   "duration": 31.426858,
   "end_time": "2022-02-02T05:52:54.198087",
   "environment_variables": {},
   "exception": null,
   "input_path": "__notebook__.ipynb",
   "output_path": "__notebook__.ipynb",
   "parameters": {},
   "start_time": "2022-02-02T05:52:22.771229",
   "version": "2.3.3"
  }
 },
 "nbformat": 4,
 "nbformat_minor": 5
}
