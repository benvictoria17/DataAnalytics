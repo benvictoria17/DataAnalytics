{
 "cells": [
  {
   "cell_type": "code",
   "execution_count": 1,
   "id": "opened-birthday",
   "metadata": {
    "execution": {
     "iopub.execute_input": "2021-04-04T20:18:14.944989Z",
     "iopub.status.busy": "2021-04-04T20:18:14.944320Z",
     "iopub.status.idle": "2021-04-04T20:18:16.048700Z",
     "shell.execute_reply": "2021-04-04T20:18:16.047113Z"
    },
    "papermill": {
     "duration": 1.122202,
     "end_time": "2021-04-04T20:18:16.048895",
     "exception": false,
     "start_time": "2021-04-04T20:18:14.926693",
     "status": "completed"
    },
    "tags": []
   },
   "outputs": [],
   "source": [
    "from mpl_toolkits.mplot3d import Axes3D\n",
    "from sklearn.preprocessing import StandardScaler\n",
    "import matplotlib.pyplot as plt \n",
    "import numpy as np \n",
    "import os \n",
    "import pandas as pd "
   ]
  },
  {
   "cell_type": "code",
   "execution_count": 2,
   "id": "strong-event",
   "metadata": {
    "execution": {
     "iopub.execute_input": "2021-04-04T20:18:16.095424Z",
     "iopub.status.busy": "2021-04-04T20:18:16.081481Z",
     "iopub.status.idle": "2021-04-04T20:18:16.098331Z",
     "shell.execute_reply": "2021-04-04T20:18:16.097596Z"
    },
    "papermill": {
     "duration": 0.039516,
     "end_time": "2021-04-04T20:18:16.098484",
     "exception": false,
     "start_time": "2021-04-04T20:18:16.058968",
     "status": "completed"
    },
    "tags": []
   },
   "outputs": [],
   "source": [
    "\n",
    "def plotPerColumnDistribution(df, nGraphShown, nGraphPerRow):\n",
    "    nunique = df.nunique()\n",
    "    df = df[[col for col in df if nunique[col] > 1 and nunique[col] < 50]] # For displaying purposes, pick columns that have between 1 and 50 unique values\n",
    "    nRow, nCol = df.shape\n",
    "    columnNames = list(df)\n",
    "    nGraphRow = (nCol + nGraphPerRow - 1) / nGraphPerRow\n",
    "    plt.figure(num = None, figsize = (6 * nGraphPerRow, 8 * nGraphRow), dpi = 80, facecolor = 'w', edgecolor = 'k')\n",
    "    for i in range(min(nCol, nGraphShown)):\n",
    "        plt.subplot(nGraphRow, nGraphPerRow, i + 1)\n",
    "        columnDf = df.iloc[:, i]\n",
    "        if (not np.issubdtype(type(columnDf.iloc[0]), np.number)):\n",
    "            valueCounts = columnDf.value_counts()\n",
    "            valueCounts.plot.bar()\n",
    "        else:\n",
    "            columnDf.hist()\n",
    "        plt.ylabel('counts')\n",
    "        plt.xticks(rotation = 90)\n",
    "        plt.title(f'{columnNames[i]} (column {i})')\n",
    "    plt.tight_layout(pad = 1.0, w_pad = 1.0, h_pad = 1.0)\n",
    "    plt.show()\n",
    "# Correlation matrix\n",
    "def plotCorrelationMatrix(df, graphWidth):\n",
    "    filename = df.dataframeName\n",
    "    df = df.dropna('columns') # drop columns with NaN\n",
    "    df = df[[col for col in df if df[col].nunique() > 1]] # keep columns where there are more than 1 unique values\n",
    "    if df.shape[1] < 2:\n",
    "        print(f'No correlation plots shown: The number of non-NaN or constant columns ({df.shape[1]}) is less than 2')\n",
    "        return\n",
    "    corr = df.corr()\n",
    "    plt.figure(num=None, figsize=(graphWidth, graphWidth), dpi=80, facecolor='w', edgecolor='k')\n",
    "    corrMat = plt.matshow(corr, fignum = 1)\n",
    "    plt.xticks(range(len(corr.columns)), corr.columns, rotation=90)\n",
    "    plt.yticks(range(len(corr.columns)), corr.columns)\n",
    "    plt.gca().xaxis.tick_bottom()\n",
    "    plt.colorbar(corrMat)\n",
    "    plt.title(f'Correlation Matrix for {filename}', fontsize=15)\n",
    "    plt.show()\n",
    "# Scatter and density plots\n",
    "def plotScatterMatrix(df, plotSize, textSize):\n",
    "    df = df.select_dtypes(include =[np.number]) # keep only numerical columns\n",
    "    # Remove rows and columns that would lead to df being singular\n",
    "    df = df.dropna('columns')\n",
    "    df = df[[col for col in df if df[col].nunique() > 1]] # keep columns where there are more than 1 unique values\n",
    "    columnNames = list(df)\n",
    "    if len(columnNames) > 10: # reduce the number of columns for matrix inversion of kernel density plots\n",
    "        columnNames = columnNames[:10]\n",
    "    df = df[columnNames]\n",
    "    ax = pd.plotting.scatter_matrix(df, alpha=0.75, figsize=[plotSize, plotSize], diagonal='kde')\n",
    "    corrs = df.corr().values\n",
    "    for i, j in zip(*plt.np.triu_indices_from(ax, k = 1)):\n",
    "        ax[i, j].annotate('Corr. coef = %.3f' % corrs[i, j], (0.8, 0.2), xycoords='axes fraction', ha='center', va='center', size=textSize)\n",
    "    plt.suptitle('Scatter and Density Plot')\n",
    "    plt.show()"
   ]
  },
  {
   "cell_type": "code",
   "execution_count": 3,
   "id": "dimensional-accident",
   "metadata": {
    "execution": {
     "iopub.execute_input": "2021-04-04T20:18:16.123148Z",
     "iopub.status.busy": "2021-04-04T20:18:16.122430Z",
     "iopub.status.idle": "2021-04-04T20:18:16.163057Z",
     "shell.execute_reply": "2021-04-04T20:18:16.162399Z"
    },
    "papermill": {
     "duration": 0.055106,
     "end_time": "2021-04-04T20:18:16.163208",
     "exception": false,
     "start_time": "2021-04-04T20:18:16.108102",
     "status": "completed"
    },
    "tags": []
   },
   "outputs": [
    {
     "name": "stdout",
     "output_type": "stream",
     "text": [
      "There are 1000 rows and 3 columns\n"
     ]
    }
   ],
   "source": [
    "nRowsRead = 1000 # specify 'None' if want to read whole file\n",
    "# Movie_Actors.csv has 143869 rows in reality, but we are only loading/previewing the first 1000 rows\n",
    "df1 = pd.read_csv('../input/movies-1990-to-2017/Movie_Actors.csv', delimiter=',', nrows = nRowsRead)\n",
    "df1.dataframeName = 'Movie_Actors.csv'\n",
    "nRow, nCol = df1.shape\n",
    "print(f'There are {nRow} rows and {nCol} columns')"
   ]
  },
  {
   "cell_type": "code",
   "execution_count": 4,
   "id": "major-decade",
   "metadata": {
    "execution": {
     "iopub.execute_input": "2021-04-04T20:18:16.189935Z",
     "iopub.status.busy": "2021-04-04T20:18:16.189282Z",
     "iopub.status.idle": "2021-04-04T20:18:16.209833Z",
     "shell.execute_reply": "2021-04-04T20:18:16.209188Z"
    },
    "papermill": {
     "duration": 0.036855,
     "end_time": "2021-04-04T20:18:16.209973",
     "exception": false,
     "start_time": "2021-04-04T20:18:16.173118",
     "status": "completed"
    },
    "tags": []
   },
   "outputs": [
    {
     "data": {
      "text/html": [
       "<div>\n",
       "<style scoped>\n",
       "    .dataframe tbody tr th:only-of-type {\n",
       "        vertical-align: middle;\n",
       "    }\n",
       "\n",
       "    .dataframe tbody tr th {\n",
       "        vertical-align: top;\n",
       "    }\n",
       "\n",
       "    .dataframe thead th {\n",
       "        text-align: right;\n",
       "    }\n",
       "</style>\n",
       "<table border=\"1\" class=\"dataframe\">\n",
       "  <thead>\n",
       "    <tr style=\"text-align: right;\">\n",
       "      <th></th>\n",
       "      <th>Unnamed: 0</th>\n",
       "      <th>Actors</th>\n",
       "      <th>imdbID</th>\n",
       "    </tr>\n",
       "  </thead>\n",
       "  <tbody>\n",
       "    <tr>\n",
       "      <th>0</th>\n",
       "      <td>0</td>\n",
       "      <td>Cass Barbera</td>\n",
       "      <td>tt2268369</td>\n",
       "    </tr>\n",
       "    <tr>\n",
       "      <th>1</th>\n",
       "      <td>2</td>\n",
       "      <td>Charles A. Post</td>\n",
       "      <td>tt0016750</td>\n",
       "    </tr>\n",
       "    <tr>\n",
       "      <th>2</th>\n",
       "      <td>3</td>\n",
       "      <td>Samuel Green</td>\n",
       "      <td>tt3405286</td>\n",
       "    </tr>\n",
       "    <tr>\n",
       "      <th>3</th>\n",
       "      <td>4</td>\n",
       "      <td>Surin Mendis</td>\n",
       "      <td>tt3816698</td>\n",
       "    </tr>\n",
       "    <tr>\n",
       "      <th>4</th>\n",
       "      <td>7</td>\n",
       "      <td>Baby Rube</td>\n",
       "      <td>tt0328410</td>\n",
       "    </tr>\n",
       "  </tbody>\n",
       "</table>\n",
       "</div>"
      ],
      "text/plain": [
       "   Unnamed: 0            Actors     imdbID\n",
       "0           0      Cass Barbera  tt2268369\n",
       "1           2   Charles A. Post  tt0016750\n",
       "2           3      Samuel Green  tt3405286\n",
       "3           4      Surin Mendis  tt3816698\n",
       "4           7         Baby Rube  tt0328410"
      ]
     },
     "execution_count": 4,
     "metadata": {},
     "output_type": "execute_result"
    }
   ],
   "source": [
    "df1.head(5)"
   ]
  },
  {
   "cell_type": "code",
   "execution_count": 5,
   "id": "color-standard",
   "metadata": {
    "execution": {
     "iopub.execute_input": "2021-04-04T20:18:16.234293Z",
     "iopub.status.busy": "2021-04-04T20:18:16.233428Z",
     "iopub.status.idle": "2021-04-04T20:18:16.257854Z",
     "shell.execute_reply": "2021-04-04T20:18:16.257278Z"
    },
    "papermill": {
     "duration": 0.037579,
     "end_time": "2021-04-04T20:18:16.258013",
     "exception": false,
     "start_time": "2021-04-04T20:18:16.220434",
     "status": "completed"
    },
    "tags": []
   },
   "outputs": [
    {
     "data": {
      "text/plain": [
       "<Figure size 2400x512 with 0 Axes>"
      ]
     },
     "metadata": {},
     "output_type": "display_data"
    }
   ],
   "source": [
    "plotPerColumnDistribution(df1, 10, 5)"
   ]
  },
  {
   "cell_type": "code",
   "execution_count": 6,
   "id": "secondary-barrel",
   "metadata": {
    "execution": {
     "iopub.execute_input": "2021-04-04T20:18:16.286486Z",
     "iopub.status.busy": "2021-04-04T20:18:16.285555Z",
     "iopub.status.idle": "2021-04-04T20:18:16.306423Z",
     "shell.execute_reply": "2021-04-04T20:18:16.305721Z"
    },
    "papermill": {
     "duration": 0.03763,
     "end_time": "2021-04-04T20:18:16.306570",
     "exception": false,
     "start_time": "2021-04-04T20:18:16.268940",
     "status": "completed"
    },
    "tags": []
   },
   "outputs": [
    {
     "name": "stdout",
     "output_type": "stream",
     "text": [
      "There are 1000 rows and 4 columns\n"
     ]
    }
   ],
   "source": [
    "nRowsRead = 1000 # specify 'None' if want to read whole file\n",
    "# Movie_AdditionalRating.csv has 92016 rows in reality, but we are only loading/previewing the first 1000 rows\n",
    "df2 = pd.read_csv('../input/movies-1990-to-2017/Movie_AdditionalRating.csv', delimiter=',', nrows = nRowsRead)\n",
    "df2.dataframeName = 'Movie_AdditionalRating.csv'\n",
    "nRow, nCol = df2.shape\n",
    "print(f'There are {nRow} rows and {nCol} columns')"
   ]
  },
  {
   "cell_type": "code",
   "execution_count": 7,
   "id": "proper-restaurant",
   "metadata": {
    "execution": {
     "iopub.execute_input": "2021-04-04T20:18:16.340900Z",
     "iopub.status.busy": "2021-04-04T20:18:16.339860Z",
     "iopub.status.idle": "2021-04-04T20:18:16.344811Z",
     "shell.execute_reply": "2021-04-04T20:18:16.344245Z"
    },
    "papermill": {
     "duration": 0.027228,
     "end_time": "2021-04-04T20:18:16.344961",
     "exception": false,
     "start_time": "2021-04-04T20:18:16.317733",
     "status": "completed"
    },
    "tags": []
   },
   "outputs": [
    {
     "data": {
      "text/html": [
       "<div>\n",
       "<style scoped>\n",
       "    .dataframe tbody tr th:only-of-type {\n",
       "        vertical-align: middle;\n",
       "    }\n",
       "\n",
       "    .dataframe tbody tr th {\n",
       "        vertical-align: top;\n",
       "    }\n",
       "\n",
       "    .dataframe thead th {\n",
       "        text-align: right;\n",
       "    }\n",
       "</style>\n",
       "<table border=\"1\" class=\"dataframe\">\n",
       "  <thead>\n",
       "    <tr style=\"text-align: right;\">\n",
       "      <th></th>\n",
       "      <th>Unnamed: 0</th>\n",
       "      <th>Rating</th>\n",
       "      <th>RatingSource</th>\n",
       "      <th>imdbID</th>\n",
       "    </tr>\n",
       "  </thead>\n",
       "  <tbody>\n",
       "    <tr>\n",
       "      <th>0</th>\n",
       "      <td>0</td>\n",
       "      <td>6.9/10</td>\n",
       "      <td>Internet Movie Database</td>\n",
       "      <td>tt1006835</td>\n",
       "    </tr>\n",
       "    <tr>\n",
       "      <th>1</th>\n",
       "      <td>1</td>\n",
       "      <td>2.4/10</td>\n",
       "      <td>Internet Movie Database</td>\n",
       "      <td>tt2554714</td>\n",
       "    </tr>\n",
       "    <tr>\n",
       "      <th>2</th>\n",
       "      <td>2</td>\n",
       "      <td>6.3/10</td>\n",
       "      <td>Internet Movie Database</td>\n",
       "      <td>tt1090670</td>\n",
       "    </tr>\n",
       "    <tr>\n",
       "      <th>3</th>\n",
       "      <td>3</td>\n",
       "      <td>5.5/10</td>\n",
       "      <td>Internet Movie Database</td>\n",
       "      <td>tt1990255</td>\n",
       "    </tr>\n",
       "    <tr>\n",
       "      <th>4</th>\n",
       "      <td>4</td>\n",
       "      <td>5.0/10</td>\n",
       "      <td>Internet Movie Database</td>\n",
       "      <td>tt0206367</td>\n",
       "    </tr>\n",
       "  </tbody>\n",
       "</table>\n",
       "</div>"
      ],
      "text/plain": [
       "   Unnamed: 0   Rating              RatingSource     imdbID\n",
       "0           0   6.9/10   Internet Movie Database  tt1006835\n",
       "1           1   2.4/10   Internet Movie Database  tt2554714\n",
       "2           2   6.3/10   Internet Movie Database  tt1090670\n",
       "3           3   5.5/10   Internet Movie Database  tt1990255\n",
       "4           4   5.0/10   Internet Movie Database  tt0206367"
      ]
     },
     "execution_count": 7,
     "metadata": {},
     "output_type": "execute_result"
    }
   ],
   "source": [
    "df2.head(5)"
   ]
  },
  {
   "cell_type": "code",
   "execution_count": 8,
   "id": "breeding-indication",
   "metadata": {
    "execution": {
     "iopub.execute_input": "2021-04-04T20:18:16.372075Z",
     "iopub.status.busy": "2021-04-04T20:18:16.371389Z",
     "iopub.status.idle": "2021-04-04T20:18:16.608653Z",
     "shell.execute_reply": "2021-04-04T20:18:16.609346Z"
    },
    "papermill": {
     "duration": 0.252611,
     "end_time": "2021-04-04T20:18:16.609521",
     "exception": false,
     "start_time": "2021-04-04T20:18:16.356910",
     "status": "completed"
    },
    "tags": []
   },
   "outputs": [
    {
     "name": "stderr",
     "output_type": "stream",
     "text": [
      "/opt/conda/lib/python3.7/site-packages/ipykernel_launcher.py:9: MatplotlibDeprecationWarning: Passing non-integers as three-element position specification is deprecated since 3.3 and will be removed two minor releases later.\n",
      "  if __name__ == '__main__':\n"
     ]
    },
    {
     "data": {
      "image/png": "[encoded data removed]",
      "text/plain": [
       "<Figure size 2400x640 with 1 Axes>"
      ]
     },
     "metadata": {},
     "output_type": "display_data"
    }
   ],
   "source": [
    "plotPerColumnDistribution(df2, 10, 5)"
   ]
  },
  {
   "cell_type": "code",
   "execution_count": 9,
   "id": "satisfied-instrumentation",
   "metadata": {
    "execution": {
     "iopub.execute_input": "2021-04-04T20:18:16.639914Z",
     "iopub.status.busy": "2021-04-04T20:18:16.638921Z",
     "iopub.status.idle": "2021-04-04T20:18:16.661959Z",
     "shell.execute_reply": "2021-04-04T20:18:16.660622Z"
    },
    "papermill": {
     "duration": 0.039645,
     "end_time": "2021-04-04T20:18:16.662172",
     "exception": false,
     "start_time": "2021-04-04T20:18:16.622527",
     "status": "completed"
    },
    "tags": []
   },
   "outputs": [
    {
     "name": "stdout",
     "output_type": "stream",
     "text": [
      "There are 1000 rows and 3 columns\n"
     ]
    }
   ],
   "source": [
    "nRowsRead = 1000 # specify 'None' if want to read whole file\n",
    "# Movie_Genres.csv has 308565 rows in reality, but we are only loading/previewing the first 1000 rows\n",
    "df3 = pd.read_csv('../input/movies-1990-to-2017/Movie_Genres.csv', delimiter=',', nrows = nRowsRead)\n",
    "df3.dataframeName = 'Movie_Genres.csv'\n",
    "nRow, nCol = df3.shape\n",
    "print(f'There are {nRow} rows and {nCol} columns')"
   ]
  },
  {
   "cell_type": "code",
   "execution_count": 10,
   "id": "hawaiian-hindu",
   "metadata": {
    "execution": {
     "iopub.execute_input": "2021-04-04T20:18:16.700857Z",
     "iopub.status.busy": "2021-04-04T20:18:16.700082Z",
     "iopub.status.idle": "2021-04-04T20:18:16.703366Z",
     "shell.execute_reply": "2021-04-04T20:18:16.703999Z"
    },
    "papermill": {
     "duration": 0.027234,
     "end_time": "2021-04-04T20:18:16.704185",
     "exception": false,
     "start_time": "2021-04-04T20:18:16.676951",
     "status": "completed"
    },
    "tags": []
   },
   "outputs": [
    {
     "data": {
      "text/html": [
       "<div>\n",
       "<style scoped>\n",
       "    .dataframe tbody tr th:only-of-type {\n",
       "        vertical-align: middle;\n",
       "    }\n",
       "\n",
       "    .dataframe tbody tr th {\n",
       "        vertical-align: top;\n",
       "    }\n",
       "\n",
       "    .dataframe thead th {\n",
       "        text-align: right;\n",
       "    }\n",
       "</style>\n",
       "<table border=\"1\" class=\"dataframe\">\n",
       "  <thead>\n",
       "    <tr style=\"text-align: right;\">\n",
       "      <th></th>\n",
       "      <th>Unnamed: 0</th>\n",
       "      <th>Genre</th>\n",
       "      <th>imdbID</th>\n",
       "    </tr>\n",
       "  </thead>\n",
       "  <tbody>\n",
       "    <tr>\n",
       "      <th>0</th>\n",
       "      <td>0</td>\n",
       "      <td>Short</td>\n",
       "      <td>tt2268369</td>\n",
       "    </tr>\n",
       "    <tr>\n",
       "      <th>1</th>\n",
       "      <td>1</td>\n",
       "      <td>Drama</td>\n",
       "      <td>tt2268369</td>\n",
       "    </tr>\n",
       "    <tr>\n",
       "      <th>2</th>\n",
       "      <td>2</td>\n",
       "      <td>Short</td>\n",
       "      <td>tt1560760</td>\n",
       "    </tr>\n",
       "    <tr>\n",
       "      <th>3</th>\n",
       "      <td>3</td>\n",
       "      <td>Drama</td>\n",
       "      <td>tt1560760</td>\n",
       "    </tr>\n",
       "    <tr>\n",
       "      <th>4</th>\n",
       "      <td>4</td>\n",
       "      <td>Drama</td>\n",
       "      <td>tt0016750</td>\n",
       "    </tr>\n",
       "  </tbody>\n",
       "</table>\n",
       "</div>"
      ],
      "text/plain": [
       "   Unnamed: 0   Genre     imdbID\n",
       "0           0   Short  tt2268369\n",
       "1           1   Drama  tt2268369\n",
       "2           2   Short  tt1560760\n",
       "3           3   Drama  tt1560760\n",
       "4           4   Drama  tt0016750"
      ]
     },
     "execution_count": 10,
     "metadata": {},
     "output_type": "execute_result"
    }
   ],
   "source": [
    "df3.head(5)"
   ]
  },
  {
   "cell_type": "code",
   "execution_count": 11,
   "id": "brutal-deputy",
   "metadata": {
    "execution": {
     "iopub.execute_input": "2021-04-04T20:18:16.737563Z",
     "iopub.status.busy": "2021-04-04T20:18:16.736922Z",
     "iopub.status.idle": "2021-04-04T20:18:17.406461Z",
     "shell.execute_reply": "2021-04-04T20:18:17.407615Z"
    },
    "papermill": {
     "duration": 0.689507,
     "end_time": "2021-04-04T20:18:17.407884",
     "exception": false,
     "start_time": "2021-04-04T20:18:16.718377",
     "status": "completed"
    },
    "tags": []
   },
   "outputs": [
    {
     "name": "stderr",
     "output_type": "stream",
     "text": [
      "/opt/conda/lib/python3.7/site-packages/ipykernel_launcher.py:9: MatplotlibDeprecationWarning: Passing non-integers as three-element position specification is deprecated since 3.3 and will be removed two minor releases later.\n",
      "  if __name__ == '__main__':\n"
     ]
    },
    {
     "data": {
      "image/png": "[encoded data removed]",
      "text/plain": [
       "<Figure size 2400x640 with 1 Axes>"
      ]
     },
     "metadata": {},
     "output_type": "display_data"
    }
   ],
   "source": [
    "plotPerColumnDistribution(df3, 10, 5)"
   ]
  }
 ],
 "metadata": {
  "kernelspec": {
   "display_name": "Python 3",
   "language": "python",
   "name": "python3"
  },
  "language_info": {
   "codemirror_mode": {
    "name": "ipython",
    "version": 3
   },
   "file_extension": ".py",
   "mimetype": "text/x-python",
   "name": "python",
   "nbconvert_exporter": "python",
   "pygments_lexer": "ipython3",
   "version": "3.7.9"
  },
  "papermill": {
   "default_parameters": {},
   "duration": 9.65075,
   "end_time": "2021-04-04T20:18:18.137756",
   "environment_variables": {},
   "exception": null,
   "input_path": "__notebook__.ipynb",
   "output_path": "__notebook__.ipynb",
   "parameters": {},
   "start_time": "2021-04-04T20:18:08.487006",
   "version": "2.3.2"
  }
 },
 "nbformat": 4,
 "nbformat_minor": 5
}
