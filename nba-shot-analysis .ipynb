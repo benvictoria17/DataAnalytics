{
  "cells":[
    {
      "cell_type":"code",
      "source":[
        "!pip install missingno"
      ],
      "execution_count":83,
      "outputs":[
        {
          "name":"stdout",
          "text":[
            "Requirement already satisfied: missingno in \/opt\/anaconda3\/envs\/datalore-user\/lib\/python3.7\/site-packages (0.4.2)\r\n",
            "Requirement already satisfied: matplotlib in \/opt\/anaconda3\/envs\/datalore-user\/lib\/python3.7\/site-packages (from missingno) (3.3.2)\r\n",
            "Requirement already satisfied: numpy in \/opt\/anaconda3\/envs\/datalore-user\/lib\/python3.7\/site-packages (from missingno) (1.19.2)\r\n",
            "Requirement already satisfied: seaborn in \/opt\/anaconda3\/envs\/datalore-user\/lib\/python3.7\/site-packages (from missingno) (0.11.0)\r\n",
            "Requirement already satisfied: scipy in \/opt\/anaconda3\/envs\/datalore-user\/lib\/python3.7\/site-packages (from missingno) (1.5.2)\r\n",
            "Requirement already satisfied: cycler>=0.10 in \/opt\/anaconda3\/envs\/datalore-user\/lib\/python3.7\/site-packages (from matplotlib->missingno) (0.10.0)\r\n",
            "Requirement already satisfied: pillow>=6.2.0 in \/opt\/anaconda3\/envs\/datalore-user\/lib\/python3.7\/site-packages (from matplotlib->missingno) (8.0.1)\r\n",
            "Requirement already satisfied: python-dateutil>=2.1 in \/opt\/anaconda3\/envs\/datalore-user\/lib\/python3.7\/site-packages (from matplotlib->missingno) (2.8.1)\r\n",
            "Requirement already satisfied: certifi>=2020.06.20 in \/opt\/anaconda3\/envs\/datalore-user\/lib\/python3.7\/site-packages (from matplotlib->missingno) (2020.11.8)\r\n",
            "Requirement already satisfied: kiwisolver>=1.0.1 in \/opt\/anaconda3\/envs\/datalore-user\/lib\/python3.7\/site-packages (from matplotlib->missingno) (1.3.1)\r\n",
            "Requirement already satisfied: pyparsing!=2.0.4,!=2.1.2,!=2.1.6,>=2.0.3 in \/opt\/anaconda3\/envs\/datalore-user\/lib\/python3.7\/site-packages (from matplotlib->missingno) (2.4.7)\r\n",
            "Requirement already satisfied: pandas>=0.23 in \/opt\/anaconda3\/envs\/datalore-user\/lib\/python3.7\/site-packages (from seaborn->missingno) (1.1.3)\r\n",
            "Requirement already satisfied: six in \/opt\/anaconda3\/envs\/datalore-user\/lib\/python3.7\/site-packages (from cycler>=0.10->matplotlib->missingno) (1.15.0)\r\n",
            "Requirement already satisfied: pytz>=2017.2 in \/opt\/anaconda3\/envs\/datalore-user\/lib\/python3.7\/site-packages (from pandas>=0.23->seaborn->missingno) (2020.4)\r\n"
          ],
          "output_type":"stream"
        }
      ],
      "metadata":{
        
      }
    },
    {
      "cell_type":"code",
      "source":[
        "import pandas as pd\n",
        "import numpy as np\n",
        "import seaborn as sns\n",
        "import matplotlib.pyplot as plt\n",
        "import warnings\n",
        "warnings.filterwarnings('ignore')\n",
        "import missingno as msno\n",
        "%matplotlib inline"
      ],
      "execution_count":84,
      "outputs":[
        
      ],
      "metadata":{
        
      }
    },
    {
      "cell_type":"code",
      "source":[
        "nba = pd.read_csv(\"https:\/\/raw.githubusercontent.com\/benvictoria21\/pandas\/master\/dataset\/shot_logs.csv\")\n",
        "df = nba.copy()\n",
        "df.head()"
      ],
      "execution_count":85,
      "outputs":[
        {
          "data":{
            "text\/html":[
              "<div>\n",
              "<style scoped>\n",
              "    .dataframe tbody tr th:only-of-type {\n",
              "        vertical-align: middle;\n",
              "    }\n",
              "\n",
              "    .dataframe tbody tr th {\n",
              "        vertical-align: top;\n",
              "    }\n",
              "\n",
              "    .dataframe thead th {\n",
              "        text-align: right;\n",
              "    }\n",
              "<\/style>\n",
              "<table border=\"1\" class=\"dataframe\">\n",
              "  <thead>\n",
              "    <tr style=\"text-align: right;\">\n",
              "      <th><\/th>\n",
              "      <th>GAME_ID<\/th>\n",
              "      <th>MATCHUP<\/th>\n",
              "      <th>LOCATION<\/th>\n",
              "      <th>W<\/th>\n",
              "      <th>FINAL_MARGIN<\/th>\n",
              "      <th>SHOT_NUMBER<\/th>\n",
              "      <th>PERIOD<\/th>\n",
              "      <th>GAME_CLOCK<\/th>\n",
              "      <th>SHOT_CLOCK<\/th>\n",
              "      <th>DRIBBLES<\/th>\n",
              "      <th>...<\/th>\n",
              "      <th>SHOT_DIST<\/th>\n",
              "      <th>PTS_TYPE<\/th>\n",
              "      <th>SHOT_RESULT<\/th>\n",
              "      <th>CLOSEST_DEFENDER<\/th>\n",
              "      <th>CLOSEST_DEFENDER_PLAYER_ID<\/th>\n",
              "      <th>CLOSE_DEF_DIST<\/th>\n",
              "      <th>FGM<\/th>\n",
              "      <th>PTS<\/th>\n",
              "      <th>player_name<\/th>\n",
              "      <th>player_id<\/th>\n",
              "    <\/tr>\n",
              "  <\/thead>\n",
              "  <tbody>\n",
              "    <tr>\n",
              "      <th>0<\/th>\n",
              "      <td>21400899<\/td>\n",
              "      <td>MAR 04, 2015 - CHA @ BKN<\/td>\n",
              "      <td>A<\/td>\n",
              "      <td>W<\/td>\n",
              "      <td>24<\/td>\n",
              "      <td>1<\/td>\n",
              "      <td>1<\/td>\n",
              "      <td>1:09<\/td>\n",
              "      <td>10.8<\/td>\n",
              "      <td>2<\/td>\n",
              "      <td>...<\/td>\n",
              "      <td>7.7<\/td>\n",
              "      <td>2<\/td>\n",
              "      <td>made<\/td>\n",
              "      <td>Anderson, Alan<\/td>\n",
              "      <td>101187<\/td>\n",
              "      <td>1.3<\/td>\n",
              "      <td>1<\/td>\n",
              "      <td>2<\/td>\n",
              "      <td>brian roberts<\/td>\n",
              "      <td>203148<\/td>\n",
              "    <\/tr>\n",
              "    <tr>\n",
              "      <th>1<\/th>\n",
              "      <td>21400899<\/td>\n",
              "      <td>MAR 04, 2015 - CHA @ BKN<\/td>\n",
              "      <td>A<\/td>\n",
              "      <td>W<\/td>\n",
              "      <td>24<\/td>\n",
              "      <td>2<\/td>\n",
              "      <td>1<\/td>\n",
              "      <td>0:14<\/td>\n",
              "      <td>3.4<\/td>\n",
              "      <td>0<\/td>\n",
              "      <td>...<\/td>\n",
              "      <td>28.2<\/td>\n",
              "      <td>3<\/td>\n",
              "      <td>missed<\/td>\n",
              "      <td>Bogdanovic, Bojan<\/td>\n",
              "      <td>202711<\/td>\n",
              "      <td>6.1<\/td>\n",
              "      <td>0<\/td>\n",
              "      <td>0<\/td>\n",
              "      <td>brian roberts<\/td>\n",
              "      <td>203148<\/td>\n",
              "    <\/tr>\n",
              "    <tr>\n",
              "      <th>2<\/th>\n",
              "      <td>21400899<\/td>\n",
              "      <td>MAR 04, 2015 - CHA @ BKN<\/td>\n",
              "      <td>A<\/td>\n",
              "      <td>W<\/td>\n",
              "      <td>24<\/td>\n",
              "      <td>3<\/td>\n",
              "      <td>1<\/td>\n",
              "      <td>0:00<\/td>\n",
              "      <td>NaN<\/td>\n",
              "      <td>3<\/td>\n",
              "      <td>...<\/td>\n",
              "      <td>10.1<\/td>\n",
              "      <td>2<\/td>\n",
              "      <td>missed<\/td>\n",
              "      <td>Bogdanovic, Bojan<\/td>\n",
              "      <td>202711<\/td>\n",
              "      <td>0.9<\/td>\n",
              "      <td>0<\/td>\n",
              "      <td>0<\/td>\n",
              "      <td>brian roberts<\/td>\n",
              "      <td>203148<\/td>\n",
              "    <\/tr>\n",
              "    <tr>\n",
              "      <th>3<\/th>\n",
              "      <td>21400899<\/td>\n",
              "      <td>MAR 04, 2015 - CHA @ BKN<\/td>\n",
              "      <td>A<\/td>\n",
              "      <td>W<\/td>\n",
              "      <td>24<\/td>\n",
              "      <td>4<\/td>\n",
              "      <td>2<\/td>\n",
              "      <td>11:47<\/td>\n",
              "      <td>10.3<\/td>\n",
              "      <td>2<\/td>\n",
              "      <td>...<\/td>\n",
              "      <td>17.2<\/td>\n",
              "      <td>2<\/td>\n",
              "      <td>missed<\/td>\n",
              "      <td>Brown, Markel<\/td>\n",
              "      <td>203900<\/td>\n",
              "      <td>3.4<\/td>\n",
              "      <td>0<\/td>\n",
              "      <td>0<\/td>\n",
              "      <td>brian roberts<\/td>\n",
              "      <td>203148<\/td>\n",
              "    <\/tr>\n",
              "    <tr>\n",
              "      <th>4<\/th>\n",
              "      <td>21400899<\/td>\n",
              "      <td>MAR 04, 2015 - CHA @ BKN<\/td>\n",
              "      <td>A<\/td>\n",
              "      <td>W<\/td>\n",
              "      <td>24<\/td>\n",
              "      <td>5<\/td>\n",
              "      <td>2<\/td>\n",
              "      <td>10:34<\/td>\n",
              "      <td>10.9<\/td>\n",
              "      <td>2<\/td>\n",
              "      <td>...<\/td>\n",
              "      <td>3.7<\/td>\n",
              "      <td>2<\/td>\n",
              "      <td>missed<\/td>\n",
              "      <td>Young, Thaddeus<\/td>\n",
              "      <td>201152<\/td>\n",
              "      <td>1.1<\/td>\n",
              "      <td>0<\/td>\n",
              "      <td>0<\/td>\n",
              "      <td>brian roberts<\/td>\n",
              "      <td>203148<\/td>\n",
              "    <\/tr>\n",
              "  <\/tbody>\n",
              "<\/table>\n",
              "<p>5 rows × 21 columns<\/p>\n",
              "<\/div>"
            ]
          },
          "metadata":{
            
          },
          "output_type":"display_data"
        }
      ],
      "metadata":{
        
      }
    },
    {
      "cell_type":"code",
      "source":[
        "df.columns = df.columns.str.lower()"
      ],
      "execution_count":86,
      "outputs":[
        
      ],
      "metadata":{
        
      }
    },
    {
      "cell_type":"code",
      "source":[
        "df.shape"
      ],
      "execution_count":87,
      "outputs":[
        {
          "data":{
            "text\/plain":[
              "(128069, 21)"
            ]
          },
          "metadata":{
            
          },
          "output_type":"display_data"
        }
      ],
      "metadata":{
        
      }
    },
    {
      "cell_type":"code",
      "source":[
        "df.isnull().sum()"
      ],
      "execution_count":88,
      "outputs":[
        {
          "data":{
            "text\/plain":[
              "game_id                          0\n",
              "matchup                          0\n",
              "location                         0\n",
              "w                                0\n",
              "final_margin                     0\n",
              "shot_number                      0\n",
              "period                           0\n",
              "game_clock                       0\n",
              "shot_clock                    5567\n",
              "dribbles                         0\n",
              "touch_time                       0\n",
              "shot_dist                        0\n",
              "pts_type                         0\n",
              "shot_result                      0\n",
              "closest_defender                 0\n",
              "closest_defender_player_id       0\n",
              "close_def_dist                   0\n",
              "fgm                              0\n",
              "pts                              0\n",
              "player_name                      0\n",
              "player_id                        0\n",
              "dtype: int64"
            ]
          },
          "metadata":{
            
          },
          "output_type":"display_data"
        }
      ],
      "metadata":{
        
      }
    },
    {
      "cell_type":"code",
      "source":[
        "df[df.shot_clock.isnull()==True].head()"
      ],
      "execution_count":89,
      "outputs":[
        {
          "data":{
            "text\/html":[
              "<div>\n",
              "<style scoped>\n",
              "    .dataframe tbody tr th:only-of-type {\n",
              "        vertical-align: middle;\n",
              "    }\n",
              "\n",
              "    .dataframe tbody tr th {\n",
              "        vertical-align: top;\n",
              "    }\n",
              "\n",
              "    .dataframe thead th {\n",
              "        text-align: right;\n",
              "    }\n",
              "<\/style>\n",
              "<table border=\"1\" class=\"dataframe\">\n",
              "  <thead>\n",
              "    <tr style=\"text-align: right;\">\n",
              "      <th><\/th>\n",
              "      <th>game_id<\/th>\n",
              "      <th>matchup<\/th>\n",
              "      <th>location<\/th>\n",
              "      <th>w<\/th>\n",
              "      <th>final_margin<\/th>\n",
              "      <th>shot_number<\/th>\n",
              "      <th>period<\/th>\n",
              "      <th>game_clock<\/th>\n",
              "      <th>shot_clock<\/th>\n",
              "      <th>dribbles<\/th>\n",
              "      <th>...<\/th>\n",
              "      <th>shot_dist<\/th>\n",
              "      <th>pts_type<\/th>\n",
              "      <th>shot_result<\/th>\n",
              "      <th>closest_defender<\/th>\n",
              "      <th>closest_defender_player_id<\/th>\n",
              "      <th>close_def_dist<\/th>\n",
              "      <th>fgm<\/th>\n",
              "      <th>pts<\/th>\n",
              "      <th>player_name<\/th>\n",
              "      <th>player_id<\/th>\n",
              "    <\/tr>\n",
              "  <\/thead>\n",
              "  <tbody>\n",
              "    <tr>\n",
              "      <th>2<\/th>\n",
              "      <td>21400899<\/td>\n",
              "      <td>MAR 04, 2015 - CHA @ BKN<\/td>\n",
              "      <td>A<\/td>\n",
              "      <td>W<\/td>\n",
              "      <td>24<\/td>\n",
              "      <td>3<\/td>\n",
              "      <td>1<\/td>\n",
              "      <td>0:00<\/td>\n",
              "      <td>NaN<\/td>\n",
              "      <td>3<\/td>\n",
              "      <td>...<\/td>\n",
              "      <td>10.1<\/td>\n",
              "      <td>2<\/td>\n",
              "      <td>missed<\/td>\n",
              "      <td>Bogdanovic, Bojan<\/td>\n",
              "      <td>202711<\/td>\n",
              "      <td>0.9<\/td>\n",
              "      <td>0<\/td>\n",
              "      <td>0<\/td>\n",
              "      <td>brian roberts<\/td>\n",
              "      <td>203148<\/td>\n",
              "    <\/tr>\n",
              "    <tr>\n",
              "      <th>24<\/th>\n",
              "      <td>21400845<\/td>\n",
              "      <td>FEB 25, 2015 - CHA @ CHI<\/td>\n",
              "      <td>A<\/td>\n",
              "      <td>W<\/td>\n",
              "      <td>12<\/td>\n",
              "      <td>6<\/td>\n",
              "      <td>2<\/td>\n",
              "      <td>0:04<\/td>\n",
              "      <td>NaN<\/td>\n",
              "      <td>0<\/td>\n",
              "      <td>...<\/td>\n",
              "      <td>25.2<\/td>\n",
              "      <td>3<\/td>\n",
              "      <td>missed<\/td>\n",
              "      <td>Butler, Jimmy<\/td>\n",
              "      <td>202710<\/td>\n",
              "      <td>3.6<\/td>\n",
              "      <td>0<\/td>\n",
              "      <td>0<\/td>\n",
              "      <td>brian roberts<\/td>\n",
              "      <td>203148<\/td>\n",
              "    <\/tr>\n",
              "    <tr>\n",
              "      <th>54<\/th>\n",
              "      <td>21400768<\/td>\n",
              "      <td>FEB 08, 2015 - CHA vs. IND<\/td>\n",
              "      <td>H<\/td>\n",
              "      <td>L<\/td>\n",
              "      <td>-1<\/td>\n",
              "      <td>14<\/td>\n",
              "      <td>4<\/td>\n",
              "      <td>0:01<\/td>\n",
              "      <td>NaN<\/td>\n",
              "      <td>5<\/td>\n",
              "      <td>...<\/td>\n",
              "      <td>34.4<\/td>\n",
              "      <td>3<\/td>\n",
              "      <td>missed<\/td>\n",
              "      <td>Hill, George<\/td>\n",
              "      <td>201588<\/td>\n",
              "      <td>3.6<\/td>\n",
              "      <td>0<\/td>\n",
              "      <td>0<\/td>\n",
              "      <td>brian roberts<\/td>\n",
              "      <td>203148<\/td>\n",
              "    <\/tr>\n",
              "    <tr>\n",
              "      <th>76<\/th>\n",
              "      <td>21400742<\/td>\n",
              "      <td>FEB 05, 2015 - CHA vs. WAS<\/td>\n",
              "      <td>H<\/td>\n",
              "      <td>W<\/td>\n",
              "      <td>7<\/td>\n",
              "      <td>10<\/td>\n",
              "      <td>3<\/td>\n",
              "      <td>0:01<\/td>\n",
              "      <td>NaN<\/td>\n",
              "      <td>2<\/td>\n",
              "      <td>...<\/td>\n",
              "      <td>13.1<\/td>\n",
              "      <td>2<\/td>\n",
              "      <td>made<\/td>\n",
              "      <td>Butler, Rasual<\/td>\n",
              "      <td>2446<\/td>\n",
              "      <td>2.5<\/td>\n",
              "      <td>1<\/td>\n",
              "      <td>2<\/td>\n",
              "      <td>brian roberts<\/td>\n",
              "      <td>203148<\/td>\n",
              "    <\/tr>\n",
              "    <tr>\n",
              "      <th>129<\/th>\n",
              "      <td>21400611<\/td>\n",
              "      <td>JAN 19, 2015 - CHA vs. MIN<\/td>\n",
              "      <td>H<\/td>\n",
              "      <td>W<\/td>\n",
              "      <td>25<\/td>\n",
              "      <td>7<\/td>\n",
              "      <td>2<\/td>\n",
              "      <td>0:02<\/td>\n",
              "      <td>NaN<\/td>\n",
              "      <td>5<\/td>\n",
              "      <td>...<\/td>\n",
              "      <td>12.0<\/td>\n",
              "      <td>2<\/td>\n",
              "      <td>missed<\/td>\n",
              "      <td>Williams, Mo<\/td>\n",
              "      <td>2590<\/td>\n",
              "      <td>4.0<\/td>\n",
              "      <td>0<\/td>\n",
              "      <td>0<\/td>\n",
              "      <td>brian roberts<\/td>\n",
              "      <td>203148<\/td>\n",
              "    <\/tr>\n",
              "  <\/tbody>\n",
              "<\/table>\n",
              "<p>5 rows × 21 columns<\/p>\n",
              "<\/div>"
            ]
          },
          "metadata":{
            
          },
          "output_type":"display_data"
        }
      ],
      "metadata":{
        
      }
    },
    {
      "cell_type":"code",
      "source":[
        "new_df = df.drop(columns=[\"matchup\",\n",
        "                          \"final_margin\",\n",
        "                          \"shot_number\",\n",
        "                          \"closest_defender\",\n",
        "                          \"closest_defender_player_id\",\n",
        "                          \"fgm\",\n",
        "                          \"pts\",\n",
        "                          \"player_id\"], axis=1)"
      ],
      "execution_count":90,
      "outputs":[
        
      ],
      "metadata":{
        
      }
    },
    {
      "cell_type":"code",
      "source":[
        "new_df.describe()"
      ],
      "execution_count":91,
      "outputs":[
        {
          "data":{
            "text\/html":[
              "<div>\n",
              "<style scoped>\n",
              "    .dataframe tbody tr th:only-of-type {\n",
              "        vertical-align: middle;\n",
              "    }\n",
              "\n",
              "    .dataframe tbody tr th {\n",
              "        vertical-align: top;\n",
              "    }\n",
              "\n",
              "    .dataframe thead th {\n",
              "        text-align: right;\n",
              "    }\n",
              "<\/style>\n",
              "<table border=\"1\" class=\"dataframe\">\n",
              "  <thead>\n",
              "    <tr style=\"text-align: right;\">\n",
              "      <th><\/th>\n",
              "      <th>game_id<\/th>\n",
              "      <th>period<\/th>\n",
              "      <th>shot_clock<\/th>\n",
              "      <th>dribbles<\/th>\n",
              "      <th>touch_time<\/th>\n",
              "      <th>shot_dist<\/th>\n",
              "      <th>pts_type<\/th>\n",
              "      <th>close_def_dist<\/th>\n",
              "    <\/tr>\n",
              "  <\/thead>\n",
              "  <tbody>\n",
              "    <tr>\n",
              "      <th>count<\/th>\n",
              "      <td>1.280690e+05<\/td>\n",
              "      <td>128069.000000<\/td>\n",
              "      <td>122502.000000<\/td>\n",
              "      <td>128069.000000<\/td>\n",
              "      <td>128069.000000<\/td>\n",
              "      <td>128069.000000<\/td>\n",
              "      <td>128069.000000<\/td>\n",
              "      <td>128069.000000<\/td>\n",
              "    <\/tr>\n",
              "    <tr>\n",
              "      <th>mean<\/th>\n",
              "      <td>2.140045e+07<\/td>\n",
              "      <td>2.469427<\/td>\n",
              "      <td>12.453344<\/td>\n",
              "      <td>2.023355<\/td>\n",
              "      <td>2.765901<\/td>\n",
              "      <td>13.571504<\/td>\n",
              "      <td>2.264670<\/td>\n",
              "      <td>4.123015<\/td>\n",
              "    <\/tr>\n",
              "    <tr>\n",
              "      <th>std<\/th>\n",
              "      <td>2.578773e+02<\/td>\n",
              "      <td>1.139919<\/td>\n",
              "      <td>5.763265<\/td>\n",
              "      <td>3.477760<\/td>\n",
              "      <td>3.043682<\/td>\n",
              "      <td>8.888964<\/td>\n",
              "      <td>0.441159<\/td>\n",
              "      <td>2.756446<\/td>\n",
              "    <\/tr>\n",
              "    <tr>\n",
              "      <th>min<\/th>\n",
              "      <td>2.140000e+07<\/td>\n",
              "      <td>1.000000<\/td>\n",
              "      <td>0.000000<\/td>\n",
              "      <td>0.000000<\/td>\n",
              "      <td>-163.600000<\/td>\n",
              "      <td>0.000000<\/td>\n",
              "      <td>2.000000<\/td>\n",
              "      <td>0.000000<\/td>\n",
              "    <\/tr>\n",
              "    <tr>\n",
              "      <th>25%<\/th>\n",
              "      <td>2.140023e+07<\/td>\n",
              "      <td>1.000000<\/td>\n",
              "      <td>8.200000<\/td>\n",
              "      <td>0.000000<\/td>\n",
              "      <td>0.900000<\/td>\n",
              "      <td>4.700000<\/td>\n",
              "      <td>2.000000<\/td>\n",
              "      <td>2.300000<\/td>\n",
              "    <\/tr>\n",
              "    <tr>\n",
              "      <th>50%<\/th>\n",
              "      <td>2.140045e+07<\/td>\n",
              "      <td>2.000000<\/td>\n",
              "      <td>12.300000<\/td>\n",
              "      <td>1.000000<\/td>\n",
              "      <td>1.600000<\/td>\n",
              "      <td>13.700000<\/td>\n",
              "      <td>2.000000<\/td>\n",
              "      <td>3.700000<\/td>\n",
              "    <\/tr>\n",
              "    <tr>\n",
              "      <th>75%<\/th>\n",
              "      <td>2.140067e+07<\/td>\n",
              "      <td>3.000000<\/td>\n",
              "      <td>16.675000<\/td>\n",
              "      <td>2.000000<\/td>\n",
              "      <td>3.700000<\/td>\n",
              "      <td>22.500000<\/td>\n",
              "      <td>3.000000<\/td>\n",
              "      <td>5.300000<\/td>\n",
              "    <\/tr>\n",
              "    <tr>\n",
              "      <th>max<\/th>\n",
              "      <td>2.140091e+07<\/td>\n",
              "      <td>7.000000<\/td>\n",
              "      <td>24.000000<\/td>\n",
              "      <td>32.000000<\/td>\n",
              "      <td>24.900000<\/td>\n",
              "      <td>47.200000<\/td>\n",
              "      <td>3.000000<\/td>\n",
              "      <td>53.200000<\/td>\n",
              "    <\/tr>\n",
              "  <\/tbody>\n",
              "<\/table>\n",
              "<\/div>"
            ]
          },
          "metadata":{
            
          },
          "output_type":"display_data"
        }
      ],
      "metadata":{
        
      }
    },
    {
      "cell_type":"code",
      "source":[
        "len(new_df.touch_time[new_df.touch_time<0])"
      ],
      "execution_count":92,
      "outputs":[
        {
          "data":{
            "text\/plain":[
              "312"
            ]
          },
          "metadata":{
            
          },
          "output_type":"display_data"
        }
      ],
      "metadata":{
        
      }
    },
    {
      "cell_type":"code",
      "source":[
        "new_df.touch_time[new_df.touch_time<0] = new_df.touch_time.mean()"
      ],
      "execution_count":93,
      "outputs":[
        
      ],
      "metadata":{
        
      }
    },
    {
      "cell_type":"code",
      "source":[
        "new_df.isnull().sum()"
      ],
      "execution_count":94,
      "outputs":[
        {
          "data":{
            "text\/plain":[
              "game_id              0\n",
              "location             0\n",
              "w                    0\n",
              "period               0\n",
              "game_clock           0\n",
              "shot_clock        5567\n",
              "dribbles             0\n",
              "touch_time           0\n",
              "shot_dist            0\n",
              "pts_type             0\n",
              "shot_result          0\n",
              "close_def_dist       0\n",
              "player_name          0\n",
              "dtype: int64"
            ]
          },
          "metadata":{
            
          },
          "output_type":"display_data"
        }
      ],
      "metadata":{
        
      }
    },
    {
      "cell_type":"code",
      "source":[
        "new_df.info()"
      ],
      "execution_count":95,
      "outputs":[
        {
          "name":"stdout",
          "text":[
            "<class 'pandas.core.frame.DataFrame'>\n",
            "RangeIndex: 128069 entries, 0 to 128068\n",
            "Data columns (total 13 columns):\n",
            " #   Column          Non-Null Count   Dtype  \n",
            "---  ------          --------------   -----  \n",
            " 0   game_id         128069 non-null  int64  \n",
            " 1   location        128069 non-null  object \n",
            " 2   w               128069 non-null  object \n",
            " 3   period          128069 non-null  int64  \n",
            " 4   game_clock      128069 non-null  object \n",
            " 5   shot_clock      122502 non-null  float64\n",
            " 6   dribbles        128069 non-null  int64  \n",
            " 7   touch_time      128069 non-null  float64\n",
            " 8   shot_dist       128069 non-null  float64\n",
            " 9   pts_type        128069 non-null  int64  \n",
            " 10  shot_result     128069 non-null  object \n",
            " 11  close_def_dist  128069 non-null  float64\n",
            " 12  player_name     128069 non-null  object \n",
            "dtypes: float64(4), int64(4), object(5)\n",
            "memory usage: 12.7+ MB\n"
          ],
          "output_type":"stream"
        }
      ],
      "metadata":{
        
      }
    },
    {
      "cell_type":"code",
      "source":[
        "new_df.location = new_df.location.map({\"H\":1,\"A\":0})\n",
        "new_df.w = new_df.w.map({\"W\":1,\"L\":0})\n",
        "new_df.pts_type = new_df.pts_type.map({2:0,3:1})\n",
        "new_df.shot_result = new_df.shot_result.map({\"made\":1,\"missed\":0})"
      ],
      "execution_count":96,
      "outputs":[
        
      ],
      "metadata":{
        
      }
    },
    {
      "cell_type":"code",
      "source":[
        "new_df = new_df.rename(columns={\"location\":\"home_away\",\"pts_type\":\"3pts_shot\",\"shot_result\":\"hit\"})"
      ],
      "execution_count":97,
      "outputs":[
        
      ],
      "metadata":{
        
      }
    },
    {
      "cell_type":"code",
      "source":[
        "new_df.nunique()"
      ],
      "execution_count":98,
      "outputs":[
        {
          "data":{
            "text\/plain":[
              "game_id           904\n",
              "home_away           2\n",
              "w                   2\n",
              "period              7\n",
              "game_clock        719\n",
              "shot_clock        241\n",
              "dribbles           33\n",
              "touch_time        242\n",
              "shot_dist         448\n",
              "3pts_shot           2\n",
              "hit                 2\n",
              "close_def_dist    299\n",
              "player_name       281\n",
              "dtype: int64"
            ]
          },
          "metadata":{
            
          },
          "output_type":"display_data"
        }
      ],
      "metadata":{
        
      }
    },
    {
      "cell_type":"code",
      "source":[
        "new_df.head()"
      ],
      "execution_count":99,
      "outputs":[
        {
          "data":{
            "text\/html":[
              "<div>\n",
              "<style scoped>\n",
              "    .dataframe tbody tr th:only-of-type {\n",
              "        vertical-align: middle;\n",
              "    }\n",
              "\n",
              "    .dataframe tbody tr th {\n",
              "        vertical-align: top;\n",
              "    }\n",
              "\n",
              "    .dataframe thead th {\n",
              "        text-align: right;\n",
              "    }\n",
              "<\/style>\n",
              "<table border=\"1\" class=\"dataframe\">\n",
              "  <thead>\n",
              "    <tr style=\"text-align: right;\">\n",
              "      <th><\/th>\n",
              "      <th>game_id<\/th>\n",
              "      <th>home_away<\/th>\n",
              "      <th>w<\/th>\n",
              "      <th>period<\/th>\n",
              "      <th>game_clock<\/th>\n",
              "      <th>shot_clock<\/th>\n",
              "      <th>dribbles<\/th>\n",
              "      <th>touch_time<\/th>\n",
              "      <th>shot_dist<\/th>\n",
              "      <th>3pts_shot<\/th>\n",
              "      <th>hit<\/th>\n",
              "      <th>close_def_dist<\/th>\n",
              "      <th>player_name<\/th>\n",
              "    <\/tr>\n",
              "  <\/thead>\n",
              "  <tbody>\n",
              "    <tr>\n",
              "      <th>0<\/th>\n",
              "      <td>21400899<\/td>\n",
              "      <td>0<\/td>\n",
              "      <td>1<\/td>\n",
              "      <td>1<\/td>\n",
              "      <td>1:09<\/td>\n",
              "      <td>10.8<\/td>\n",
              "      <td>2<\/td>\n",
              "      <td>1.9<\/td>\n",
              "      <td>7.7<\/td>\n",
              "      <td>0<\/td>\n",
              "      <td>1<\/td>\n",
              "      <td>1.3<\/td>\n",
              "      <td>brian roberts<\/td>\n",
              "    <\/tr>\n",
              "    <tr>\n",
              "      <th>1<\/th>\n",
              "      <td>21400899<\/td>\n",
              "      <td>0<\/td>\n",
              "      <td>1<\/td>\n",
              "      <td>1<\/td>\n",
              "      <td>0:14<\/td>\n",
              "      <td>3.4<\/td>\n",
              "      <td>0<\/td>\n",
              "      <td>0.8<\/td>\n",
              "      <td>28.2<\/td>\n",
              "      <td>1<\/td>\n",
              "      <td>0<\/td>\n",
              "      <td>6.1<\/td>\n",
              "      <td>brian roberts<\/td>\n",
              "    <\/tr>\n",
              "    <tr>\n",
              "      <th>2<\/th>\n",
              "      <td>21400899<\/td>\n",
              "      <td>0<\/td>\n",
              "      <td>1<\/td>\n",
              "      <td>1<\/td>\n",
              "      <td>0:00<\/td>\n",
              "      <td>NaN<\/td>\n",
              "      <td>3<\/td>\n",
              "      <td>2.7<\/td>\n",
              "      <td>10.1<\/td>\n",
              "      <td>0<\/td>\n",
              "      <td>0<\/td>\n",
              "      <td>0.9<\/td>\n",
              "      <td>brian roberts<\/td>\n",
              "    <\/tr>\n",
              "    <tr>\n",
              "      <th>3<\/th>\n",
              "      <td>21400899<\/td>\n",
              "      <td>0<\/td>\n",
              "      <td>1<\/td>\n",
              "      <td>2<\/td>\n",
              "      <td>11:47<\/td>\n",
              "      <td>10.3<\/td>\n",
              "      <td>2<\/td>\n",
              "      <td>1.9<\/td>\n",
              "      <td>17.2<\/td>\n",
              "      <td>0<\/td>\n",
              "      <td>0<\/td>\n",
              "      <td>3.4<\/td>\n",
              "      <td>brian roberts<\/td>\n",
              "    <\/tr>\n",
              "    <tr>\n",
              "      <th>4<\/th>\n",
              "      <td>21400899<\/td>\n",
              "      <td>0<\/td>\n",
              "      <td>1<\/td>\n",
              "      <td>2<\/td>\n",
              "      <td>10:34<\/td>\n",
              "      <td>10.9<\/td>\n",
              "      <td>2<\/td>\n",
              "      <td>2.7<\/td>\n",
              "      <td>3.7<\/td>\n",
              "      <td>0<\/td>\n",
              "      <td>0<\/td>\n",
              "      <td>1.1<\/td>\n",
              "      <td>brian roberts<\/td>\n",
              "    <\/tr>\n",
              "  <\/tbody>\n",
              "<\/table>\n",
              "<\/div>"
            ]
          },
          "metadata":{
            
          },
          "output_type":"display_data"
        }
      ],
      "metadata":{
        
      }
    },
    {
      "cell_type":"code",
      "source":[
        "new_df.describe()"
      ],
      "execution_count":100,
      "outputs":[
        {
          "data":{
            "text\/html":[
              "<div>\n",
              "<style scoped>\n",
              "    .dataframe tbody tr th:only-of-type {\n",
              "        vertical-align: middle;\n",
              "    }\n",
              "\n",
              "    .dataframe tbody tr th {\n",
              "        vertical-align: top;\n",
              "    }\n",
              "\n",
              "    .dataframe thead th {\n",
              "        text-align: right;\n",
              "    }\n",
              "<\/style>\n",
              "<table border=\"1\" class=\"dataframe\">\n",
              "  <thead>\n",
              "    <tr style=\"text-align: right;\">\n",
              "      <th><\/th>\n",
              "      <th>game_id<\/th>\n",
              "      <th>home_away<\/th>\n",
              "      <th>w<\/th>\n",
              "      <th>period<\/th>\n",
              "      <th>shot_clock<\/th>\n",
              "      <th>dribbles<\/th>\n",
              "      <th>touch_time<\/th>\n",
              "      <th>shot_dist<\/th>\n",
              "      <th>3pts_shot<\/th>\n",
              "      <th>hit<\/th>\n",
              "      <th>close_def_dist<\/th>\n",
              "    <\/tr>\n",
              "  <\/thead>\n",
              "  <tbody>\n",
              "    <tr>\n",
              "      <th>count<\/th>\n",
              "      <td>1.280690e+05<\/td>\n",
              "      <td>128069.000000<\/td>\n",
              "      <td>128069.000000<\/td>\n",
              "      <td>128069.000000<\/td>\n",
              "      <td>122502.000000<\/td>\n",
              "      <td>128069.000000<\/td>\n",
              "      <td>128069.000000<\/td>\n",
              "      <td>128069.000000<\/td>\n",
              "      <td>128069.000000<\/td>\n",
              "      <td>128069.000000<\/td>\n",
              "      <td>128069.000000<\/td>\n",
              "    <\/tr>\n",
              "    <tr>\n",
              "      <th>mean<\/th>\n",
              "      <td>2.140045e+07<\/td>\n",
              "      <td>0.499215<\/td>\n",
              "      <td>0.504377<\/td>\n",
              "      <td>2.469427<\/td>\n",
              "      <td>12.453344<\/td>\n",
              "      <td>2.023355<\/td>\n",
              "      <td>2.778696<\/td>\n",
              "      <td>13.571504<\/td>\n",
              "      <td>0.264670<\/td>\n",
              "      <td>0.452139<\/td>\n",
              "      <td>4.123015<\/td>\n",
              "    <\/tr>\n",
              "    <tr>\n",
              "      <th>std<\/th>\n",
              "      <td>2.578773e+02<\/td>\n",
              "      <td>0.500001<\/td>\n",
              "      <td>0.499983<\/td>\n",
              "      <td>1.139919<\/td>\n",
              "      <td>5.763265<\/td>\n",
              "      <td>3.477760<\/td>\n",
              "      <td>2.983555<\/td>\n",
              "      <td>8.888964<\/td>\n",
              "      <td>0.441159<\/td>\n",
              "      <td>0.497706<\/td>\n",
              "      <td>2.756446<\/td>\n",
              "    <\/tr>\n",
              "    <tr>\n",
              "      <th>min<\/th>\n",
              "      <td>2.140000e+07<\/td>\n",
              "      <td>0.000000<\/td>\n",
              "      <td>0.000000<\/td>\n",
              "      <td>1.000000<\/td>\n",
              "      <td>0.000000<\/td>\n",
              "      <td>0.000000<\/td>\n",
              "      <td>0.000000<\/td>\n",
              "      <td>0.000000<\/td>\n",
              "      <td>0.000000<\/td>\n",
              "      <td>0.000000<\/td>\n",
              "      <td>0.000000<\/td>\n",
              "    <\/tr>\n",
              "    <tr>\n",
              "      <th>25%<\/th>\n",
              "      <td>2.140023e+07<\/td>\n",
              "      <td>0.000000<\/td>\n",
              "      <td>0.000000<\/td>\n",
              "      <td>1.000000<\/td>\n",
              "      <td>8.200000<\/td>\n",
              "      <td>0.000000<\/td>\n",
              "      <td>0.900000<\/td>\n",
              "      <td>4.700000<\/td>\n",
              "      <td>0.000000<\/td>\n",
              "      <td>0.000000<\/td>\n",
              "      <td>2.300000<\/td>\n",
              "    <\/tr>\n",
              "    <tr>\n",
              "      <th>50%<\/th>\n",
              "      <td>2.140045e+07<\/td>\n",
              "      <td>0.000000<\/td>\n",
              "      <td>1.000000<\/td>\n",
              "      <td>2.000000<\/td>\n",
              "      <td>12.300000<\/td>\n",
              "      <td>1.000000<\/td>\n",
              "      <td>1.600000<\/td>\n",
              "      <td>13.700000<\/td>\n",
              "      <td>0.000000<\/td>\n",
              "      <td>0.000000<\/td>\n",
              "      <td>3.700000<\/td>\n",
              "    <\/tr>\n",
              "    <tr>\n",
              "      <th>75%<\/th>\n",
              "      <td>2.140067e+07<\/td>\n",
              "      <td>1.000000<\/td>\n",
              "      <td>1.000000<\/td>\n",
              "      <td>3.000000<\/td>\n",
              "      <td>16.675000<\/td>\n",
              "      <td>2.000000<\/td>\n",
              "      <td>3.700000<\/td>\n",
              "      <td>22.500000<\/td>\n",
              "      <td>1.000000<\/td>\n",
              "      <td>1.000000<\/td>\n",
              "      <td>5.300000<\/td>\n",
              "    <\/tr>\n",
              "    <tr>\n",
              "      <th>max<\/th>\n",
              "      <td>2.140091e+07<\/td>\n",
              "      <td>1.000000<\/td>\n",
              "      <td>1.000000<\/td>\n",
              "      <td>7.000000<\/td>\n",
              "      <td>24.000000<\/td>\n",
              "      <td>32.000000<\/td>\n",
              "      <td>24.900000<\/td>\n",
              "      <td>47.200000<\/td>\n",
              "      <td>1.000000<\/td>\n",
              "      <td>1.000000<\/td>\n",
              "      <td>53.200000<\/td>\n",
              "    <\/tr>\n",
              "  <\/tbody>\n",
              "<\/table>\n",
              "<\/div>"
            ]
          },
          "metadata":{
            
          },
          "output_type":"display_data"
        }
      ],
      "metadata":{
        
      }
    },
    {
      "cell_type":"code",
      "source":[
        "msno.matrix(new_df);"
      ],
      "execution_count":101,
      "outputs":[
        {
          "data":{
            "image\/png":"[encoded data removed]"
          },
          "metadata":{
            "image\/png":{
              "width":0,
              "height":0
            }
          },
          "output_type":"display_data"
        }
      ],
      "metadata":{
        
      }
    },
    {
      "cell_type":"code",
      "source":[
        "new_df.shot_clock = new_df.shot_clock.fillna(new_df.shot_clock.mean())"
      ],
      "execution_count":102,
      "outputs":[
        
      ],
      "metadata":{
        
      }
    },
    {
      "cell_type":"code",
      "source":[
        "new_df.isnull().sum()"
      ],
      "execution_count":103,
      "outputs":[
        {
          "data":{
            "text\/plain":[
              "game_id           0\n",
              "home_away         0\n",
              "w                 0\n",
              "period            0\n",
              "game_clock        0\n",
              "shot_clock        0\n",
              "dribbles          0\n",
              "touch_time        0\n",
              "shot_dist         0\n",
              "3pts_shot         0\n",
              "hit               0\n",
              "close_def_dist    0\n",
              "player_name       0\n",
              "dtype: int64"
            ]
          },
          "metadata":{
            
          },
          "output_type":"display_data"
        }
      ],
      "metadata":{
        
      }
    },
    {
      "cell_type":"code",
      "source":[
        "new_df.game_clock = new_df.game_clock.apply(lambda x: int(x.split(\":\")[0])*60 + int(x.split(\":\")[1]))"
      ],
      "execution_count":104,
      "outputs":[
        
      ],
      "metadata":{
        
      }
    },
    {
      "cell_type":"code",
      "source":[
        "new_df.head()"
      ],
      "execution_count":105,
      "outputs":[
        {
          "data":{
            "text\/html":[
              "<div>\n",
              "<style scoped>\n",
              "    .dataframe tbody tr th:only-of-type {\n",
              "        vertical-align: middle;\n",
              "    }\n",
              "\n",
              "    .dataframe tbody tr th {\n",
              "        vertical-align: top;\n",
              "    }\n",
              "\n",
              "    .dataframe thead th {\n",
              "        text-align: right;\n",
              "    }\n",
              "<\/style>\n",
              "<table border=\"1\" class=\"dataframe\">\n",
              "  <thead>\n",
              "    <tr style=\"text-align: right;\">\n",
              "      <th><\/th>\n",
              "      <th>game_id<\/th>\n",
              "      <th>home_away<\/th>\n",
              "      <th>w<\/th>\n",
              "      <th>period<\/th>\n",
              "      <th>game_clock<\/th>\n",
              "      <th>shot_clock<\/th>\n",
              "      <th>dribbles<\/th>\n",
              "      <th>touch_time<\/th>\n",
              "      <th>shot_dist<\/th>\n",
              "      <th>3pts_shot<\/th>\n",
              "      <th>hit<\/th>\n",
              "      <th>close_def_dist<\/th>\n",
              "      <th>player_name<\/th>\n",
              "    <\/tr>\n",
              "  <\/thead>\n",
              "  <tbody>\n",
              "    <tr>\n",
              "      <th>0<\/th>\n",
              "      <td>21400899<\/td>\n",
              "      <td>0<\/td>\n",
              "      <td>1<\/td>\n",
              "      <td>1<\/td>\n",
              "      <td>69<\/td>\n",
              "      <td>10.800000<\/td>\n",
              "      <td>2<\/td>\n",
              "      <td>1.9<\/td>\n",
              "      <td>7.7<\/td>\n",
              "      <td>0<\/td>\n",
              "      <td>1<\/td>\n",
              "      <td>1.3<\/td>\n",
              "      <td>brian roberts<\/td>\n",
              "    <\/tr>\n",
              "    <tr>\n",
              "      <th>1<\/th>\n",
              "      <td>21400899<\/td>\n",
              "      <td>0<\/td>\n",
              "      <td>1<\/td>\n",
              "      <td>1<\/td>\n",
              "      <td>14<\/td>\n",
              "      <td>3.400000<\/td>\n",
              "      <td>0<\/td>\n",
              "      <td>0.8<\/td>\n",
              "      <td>28.2<\/td>\n",
              "      <td>1<\/td>\n",
              "      <td>0<\/td>\n",
              "      <td>6.1<\/td>\n",
              "      <td>brian roberts<\/td>\n",
              "    <\/tr>\n",
              "    <tr>\n",
              "      <th>2<\/th>\n",
              "      <td>21400899<\/td>\n",
              "      <td>0<\/td>\n",
              "      <td>1<\/td>\n",
              "      <td>1<\/td>\n",
              "      <td>0<\/td>\n",
              "      <td>12.453344<\/td>\n",
              "      <td>3<\/td>\n",
              "      <td>2.7<\/td>\n",
              "      <td>10.1<\/td>\n",
              "      <td>0<\/td>\n",
              "      <td>0<\/td>\n",
              "      <td>0.9<\/td>\n",
              "      <td>brian roberts<\/td>\n",
              "    <\/tr>\n",
              "    <tr>\n",
              "      <th>3<\/th>\n",
              "      <td>21400899<\/td>\n",
              "      <td>0<\/td>\n",
              "      <td>1<\/td>\n",
              "      <td>2<\/td>\n",
              "      <td>707<\/td>\n",
              "      <td>10.300000<\/td>\n",
              "      <td>2<\/td>\n",
              "      <td>1.9<\/td>\n",
              "      <td>17.2<\/td>\n",
              "      <td>0<\/td>\n",
              "      <td>0<\/td>\n",
              "      <td>3.4<\/td>\n",
              "      <td>brian roberts<\/td>\n",
              "    <\/tr>\n",
              "    <tr>\n",
              "      <th>4<\/th>\n",
              "      <td>21400899<\/td>\n",
              "      <td>0<\/td>\n",
              "      <td>1<\/td>\n",
              "      <td>2<\/td>\n",
              "      <td>634<\/td>\n",
              "      <td>10.900000<\/td>\n",
              "      <td>2<\/td>\n",
              "      <td>2.7<\/td>\n",
              "      <td>3.7<\/td>\n",
              "      <td>0<\/td>\n",
              "      <td>0<\/td>\n",
              "      <td>1.1<\/td>\n",
              "      <td>brian roberts<\/td>\n",
              "    <\/tr>\n",
              "  <\/tbody>\n",
              "<\/table>\n",
              "<\/div>"
            ]
          },
          "metadata":{
            
          },
          "output_type":"display_data"
        }
      ],
      "metadata":{
        
      }
    },
    {
      "cell_type":"code",
      "source":[
        "shot_perc_by_player = new_df.groupby(\"player_name\", as_index=False)[[\"hit\"]].mean().sort_values(by=\"hit\", ascending=False)\n",
        "shot_perc_by_player.hit = shot_perc_by_player.hit.apply(lambda x: round(x*100, 2))\n",
        "shot_perc_by_player.head(10)"
      ],
      "execution_count":106,
      "outputs":[
        {
          "data":{
            "text\/html":[
              "<div>\n",
              "<style scoped>\n",
              "    .dataframe tbody tr th:only-of-type {\n",
              "        vertical-align: middle;\n",
              "    }\n",
              "\n",
              "    .dataframe tbody tr th {\n",
              "        vertical-align: top;\n",
              "    }\n",
              "\n",
              "    .dataframe thead th {\n",
              "        text-align: right;\n",
              "    }\n",
              "<\/style>\n",
              "<table border=\"1\" class=\"dataframe\">\n",
              "  <thead>\n",
              "    <tr style=\"text-align: right;\">\n",
              "      <th><\/th>\n",
              "      <th>player_name<\/th>\n",
              "      <th>hit<\/th>\n",
              "    <\/tr>\n",
              "  <\/thead>\n",
              "  <tbody>\n",
              "    <tr>\n",
              "      <th>66<\/th>\n",
              "      <td>deandre jordan<\/td>\n",
              "      <td>71.25<\/td>\n",
              "    <\/tr>\n",
              "    <tr>\n",
              "      <th>270<\/th>\n",
              "      <td>tyson chandler<\/td>\n",
              "      <td>67.65<\/td>\n",
              "    <\/tr>\n",
              "    <tr>\n",
              "      <th>235<\/th>\n",
              "      <td>rudy gobert<\/td>\n",
              "      <td>62.55<\/td>\n",
              "    <\/tr>\n",
              "    <tr>\n",
              "      <th>98<\/th>\n",
              "      <td>greg smith<\/td>\n",
              "      <td>61.70<\/td>\n",
              "    <\/tr>\n",
              "    <tr>\n",
              "      <th>109<\/th>\n",
              "      <td>james johnson<\/td>\n",
              "      <td>61.41<\/td>\n",
              "    <\/tr>\n",
              "    <tr>\n",
              "      <th>82<\/th>\n",
              "      <td>ed davis<\/td>\n",
              "      <td>60.29<\/td>\n",
              "    <\/tr>\n",
              "    <tr>\n",
              "      <th>8<\/th>\n",
              "      <td>alexis ajinca<\/td>\n",
              "      <td>59.72<\/td>\n",
              "    <\/tr>\n",
              "    <tr>\n",
              "      <th>188<\/th>\n",
              "      <td>mason plumlee<\/td>\n",
              "      <td>58.56<\/td>\n",
              "    <\/tr>\n",
              "    <tr>\n",
              "      <th>132<\/th>\n",
              "      <td>john henson<\/td>\n",
              "      <td>58.09<\/td>\n",
              "    <\/tr>\n",
              "    <tr>\n",
              "      <th>45<\/th>\n",
              "      <td>chris andersen<\/td>\n",
              "      <td>58.09<\/td>\n",
              "    <\/tr>\n",
              "  <\/tbody>\n",
              "<\/table>\n",
              "<\/div>"
            ]
          },
          "metadata":{
            
          },
          "output_type":"display_data"
        }
      ],
      "metadata":{
        
      }
    },
    {
      "cell_type":"code",
      "source":[
        "def perc_log(name,size):\n",
        "    perc = new_df[new_df.player_name==name].groupby(\"game_id\")[\"hit\"].mean().values\n",
        "    percents = perc[:(len(perc)\/\/size)*size].reshape(-1, size)\n",
        "    return sns.distplot(percents)"
      ],
      "execution_count":107,
      "outputs":[
        
      ],
      "metadata":{
        
      }
    },
    {
      "cell_type":"code",
      "source":[
        "# shot percentage distribution per each 5 games for james harden\n",
        "perc_log(\"james harden\", 5);"
      ],
      "execution_count":108,
      "outputs":[
        {
          "data":{
            "image\/png":"[encoded data removed]"
          },
          "metadata":{
            "image\/png":{
              "width":0,
              "height":0
            }
          },
          "output_type":"display_data"
        }
      ],
      "metadata":{
        
      }
    },
    {
      "cell_type":"code",
      "source":[
        "# shot percentage distribution per each 5 games for damian lillard\n",
        "perc_log(\"damian lillard\", 5);"
      ],
      "execution_count":109,
      "outputs":[
        {
          "data":{
            "image\/png":"[encoded data removed]"
          },
          "metadata":{
            "image\/png":{
              "width":0,
              "height":0
            }
          },
          "output_type":"display_data"
        }
      ],
      "metadata":{
        
      }
    },
    {
      "cell_type":"code",
      "source":[
        "# shot percentage distribution per each 5 games for lebron james\n",
        "perc_log(\"lebron james\", 5);"
      ],
      "execution_count":110,
      "outputs":[
        {
          "data":{
            "image\/png":"[encoded data removed]"
          },
          "metadata":{
            "image\/png":{
              "width":0,
              "height":0
            }
          },
          "output_type":"display_data"
        }
      ],
      "metadata":{
        
      }
    },
    {
      "cell_type":"code",
      "source":[
        "# shot distribution according to shot_clock\n",
        "sns.distplot(new_df.shot_clock);"
      ],
      "execution_count":111,
      "outputs":[
        {
          "data":{
            "image\/png":"[encoded data removed]"
          },
          "metadata":{
            "image\/png":{
              "width":0,
              "height":0
            }
          },
          "output_type":"display_data"
        }
      ],
      "metadata":{
        
      }
    },
    {
      "cell_type":"code",
      "source":[
        "hit_clock = new_df.groupby(\"shot_clock\", as_index=False)[[\"hit\"]].mean()"
      ],
      "execution_count":112,
      "outputs":[
        
      ],
      "metadata":{
        
      }
    },
    {
      "cell_type":"code",
      "source":[
        "# shot_clock that has max hit rate \n",
        "hit_clock[hit_clock.hit==hit_clock.hit.max()]"
      ],
      "execution_count":113,
      "outputs":[
        {
          "data":{
            "text\/html":[
              "<div>\n",
              "<style scoped>\n",
              "    .dataframe tbody tr th:only-of-type {\n",
              "        vertical-align: middle;\n",
              "    }\n",
              "\n",
              "    .dataframe tbody tr th {\n",
              "        vertical-align: top;\n",
              "    }\n",
              "\n",
              "    .dataframe thead th {\n",
              "        text-align: right;\n",
              "    }\n",
              "<\/style>\n",
              "<table border=\"1\" class=\"dataframe\">\n",
              "  <thead>\n",
              "    <tr style=\"text-align: right;\">\n",
              "      <th><\/th>\n",
              "      <th>shot_clock<\/th>\n",
              "      <th>hit<\/th>\n",
              "    <\/tr>\n",
              "  <\/thead>\n",
              "  <tbody>\n",
              "    <tr>\n",
              "      <th>217<\/th>\n",
              "      <td>21.6<\/td>\n",
              "      <td>0.644144<\/td>\n",
              "    <\/tr>\n",
              "  <\/tbody>\n",
              "<\/table>\n",
              "<\/div>"
            ]
          },
          "metadata":{
            
          },
          "output_type":"display_data"
        }
      ],
      "metadata":{
        
      }
    },
    {
      "cell_type":"code",
      "source":[
        "# shot_clock that has min hit rate \n",
        "hit_clock[hit_clock.hit==hit_clock.hit.min()]"
      ],
      "execution_count":114,
      "outputs":[
        {
          "data":{
            "text\/html":[
              "<div>\n",
              "<style scoped>\n",
              "    .dataframe tbody tr th:only-of-type {\n",
              "        vertical-align: middle;\n",
              "    }\n",
              "\n",
              "    .dataframe tbody tr th {\n",
              "        vertical-align: top;\n",
              "    }\n",
              "\n",
              "    .dataframe thead th {\n",
              "        text-align: right;\n",
              "    }\n",
              "<\/style>\n",
              "<table border=\"1\" class=\"dataframe\">\n",
              "  <thead>\n",
              "    <tr style=\"text-align: right;\">\n",
              "      <th><\/th>\n",
              "      <th>shot_clock<\/th>\n",
              "      <th>hit<\/th>\n",
              "    <\/tr>\n",
              "  <\/thead>\n",
              "  <tbody>\n",
              "    <tr>\n",
              "      <th>3<\/th>\n",
              "      <td>0.3<\/td>\n",
              "      <td>0.183099<\/td>\n",
              "    <\/tr>\n",
              "  <\/tbody>\n",
              "<\/table>\n",
              "<\/div>"
            ]
          },
          "metadata":{
            
          },
          "output_type":"display_data"
        }
      ],
      "metadata":{
        
      }
    },
    {
      "cell_type":"code",
      "source":[
        "# shot clock that has maximum shot rate \n",
        "sns.scatterplot(x=\"shot_clock\", y=\"hit\", data=hit_clock);"
      ],
      "execution_count":115,
      "outputs":[
        {
          "data":{
            "image\/png":"[encoded data removed]"
          },
          "metadata":{
            "image\/png":{
              "width":0,
              "height":0
            }
          },
          "output_type":"display_data"
        }
      ],
      "metadata":{
        
      }
    },
    {
      "cell_type":"code",
      "source":[
        "new_df.head()"
      ],
      "execution_count":116,
      "outputs":[
        {
          "data":{
            "text\/html":[
              "<div>\n",
              "<style scoped>\n",
              "    .dataframe tbody tr th:only-of-type {\n",
              "        vertical-align: middle;\n",
              "    }\n",
              "\n",
              "    .dataframe tbody tr th {\n",
              "        vertical-align: top;\n",
              "    }\n",
              "\n",
              "    .dataframe thead th {\n",
              "        text-align: right;\n",
              "    }\n",
              "<\/style>\n",
              "<table border=\"1\" class=\"dataframe\">\n",
              "  <thead>\n",
              "    <tr style=\"text-align: right;\">\n",
              "      <th><\/th>\n",
              "      <th>game_id<\/th>\n",
              "      <th>home_away<\/th>\n",
              "      <th>w<\/th>\n",
              "      <th>period<\/th>\n",
              "      <th>game_clock<\/th>\n",
              "      <th>shot_clock<\/th>\n",
              "      <th>dribbles<\/th>\n",
              "      <th>touch_time<\/th>\n",
              "      <th>shot_dist<\/th>\n",
              "      <th>3pts_shot<\/th>\n",
              "      <th>hit<\/th>\n",
              "      <th>close_def_dist<\/th>\n",
              "      <th>player_name<\/th>\n",
              "    <\/tr>\n",
              "  <\/thead>\n",
              "  <tbody>\n",
              "    <tr>\n",
              "      <th>0<\/th>\n",
              "      <td>21400899<\/td>\n",
              "      <td>0<\/td>\n",
              "      <td>1<\/td>\n",
              "      <td>1<\/td>\n",
              "      <td>69<\/td>\n",
              "      <td>10.800000<\/td>\n",
              "      <td>2<\/td>\n",
              "      <td>1.9<\/td>\n",
              "      <td>7.7<\/td>\n",
              "      <td>0<\/td>\n",
              "      <td>1<\/td>\n",
              "      <td>1.3<\/td>\n",
              "      <td>brian roberts<\/td>\n",
              "    <\/tr>\n",
              "    <tr>\n",
              "      <th>1<\/th>\n",
              "      <td>21400899<\/td>\n",
              "      <td>0<\/td>\n",
              "      <td>1<\/td>\n",
              "      <td>1<\/td>\n",
              "      <td>14<\/td>\n",
              "      <td>3.400000<\/td>\n",
              "      <td>0<\/td>\n",
              "      <td>0.8<\/td>\n",
              "      <td>28.2<\/td>\n",
              "      <td>1<\/td>\n",
              "      <td>0<\/td>\n",
              "      <td>6.1<\/td>\n",
              "      <td>brian roberts<\/td>\n",
              "    <\/tr>\n",
              "    <tr>\n",
              "      <th>2<\/th>\n",
              "      <td>21400899<\/td>\n",
              "      <td>0<\/td>\n",
              "      <td>1<\/td>\n",
              "      <td>1<\/td>\n",
              "      <td>0<\/td>\n",
              "      <td>12.453344<\/td>\n",
              "      <td>3<\/td>\n",
              "      <td>2.7<\/td>\n",
              "      <td>10.1<\/td>\n",
              "      <td>0<\/td>\n",
              "      <td>0<\/td>\n",
              "      <td>0.9<\/td>\n",
              "      <td>brian roberts<\/td>\n",
              "    <\/tr>\n",
              "    <tr>\n",
              "      <th>3<\/th>\n",
              "      <td>21400899<\/td>\n",
              "      <td>0<\/td>\n",
              "      <td>1<\/td>\n",
              "      <td>2<\/td>\n",
              "      <td>707<\/td>\n",
              "      <td>10.300000<\/td>\n",
              "      <td>2<\/td>\n",
              "      <td>1.9<\/td>\n",
              "      <td>17.2<\/td>\n",
              "      <td>0<\/td>\n",
              "      <td>0<\/td>\n",
              "      <td>3.4<\/td>\n",
              "      <td>brian roberts<\/td>\n",
              "    <\/tr>\n",
              "    <tr>\n",
              "      <th>4<\/th>\n",
              "      <td>21400899<\/td>\n",
              "      <td>0<\/td>\n",
              "      <td>1<\/td>\n",
              "      <td>2<\/td>\n",
              "      <td>634<\/td>\n",
              "      <td>10.900000<\/td>\n",
              "      <td>2<\/td>\n",
              "      <td>2.7<\/td>\n",
              "      <td>3.7<\/td>\n",
              "      <td>0<\/td>\n",
              "      <td>0<\/td>\n",
              "      <td>1.1<\/td>\n",
              "      <td>brian roberts<\/td>\n",
              "    <\/tr>\n",
              "  <\/tbody>\n",
              "<\/table>\n",
              "<\/div>"
            ]
          },
          "metadata":{
            
          },
          "output_type":"display_data"
        }
      ],
      "metadata":{
        
      }
    },
    {
      "cell_type":"code",
      "source":[
        "# shot clock average of the missed shots\n",
        "round(new_df[new_df.hit==0].shot_clock.mean(),2)"
      ],
      "execution_count":117,
      "outputs":[
        {
          "data":{
            "text\/plain":[
              "11.97"
            ]
          },
          "metadata":{
            
          },
          "output_type":"display_data"
        }
      ],
      "metadata":{
        
      }
    },
    {
      "cell_type":"code",
      "source":[
        "# shot clock average of the accurate shots\n",
        "round(new_df[new_df.hit==1].shot_clock.mean(),2)"
      ],
      "execution_count":118,
      "outputs":[
        {
          "data":{
            "text\/plain":[
              "13.04"
            ]
          },
          "metadata":{
            
          },
          "output_type":"display_data"
        }
      ],
      "metadata":{
        
      }
    },
    {
      "cell_type":"code",
      "source":[
        "# 3 pointers hit rate\n",
        "new_df[new_df[\"3pts_shot\"]==1].hit.mean()"
      ],
      "execution_count":119,
      "outputs":[
        {
          "data":{
            "text\/plain":[
              "0.3515164031154118"
            ]
          },
          "metadata":{
            
          },
          "output_type":"display_data"
        }
      ],
      "metadata":{
        
      }
    },
    {
      "cell_type":"code",
      "source":[
        "# 2 pointers hit rate\n",
        "new_df[new_df[\"3pts_shot\"]==0].hit.mean()"
      ],
      "execution_count":120,
      "outputs":[
        {
          "data":{
            "text\/plain":[
              "0.48835653531266926"
            ]
          },
          "metadata":{
            
          },
          "output_type":"display_data"
        }
      ],
      "metadata":{
        
      }
    },
    {
      "cell_type":"code",
      "source":[
        "# the average distance of the defensive player in successful 3-point shots\n",
        "new_df[(new_df[\"3pts_shot\"]==1)&(new_df[\"hit\"]==1)].close_def_dist.mean()"
      ],
      "execution_count":121,
      "outputs":[
        {
          "data":{
            "text\/plain":[
              "6.286210658833404"
            ]
          },
          "metadata":{
            
          },
          "output_type":"display_data"
        }
      ],
      "metadata":{
        
      }
    },
    {
      "cell_type":"code",
      "source":[
        "# the average distance of the defensive player in missed 3-point shots\n",
        "new_df[(new_df[\"3pts_shot\"]==1)&(new_df[\"hit\"]==0)].close_def_dist.mean()"
      ],
      "execution_count":122,
      "outputs":[
        {
          "data":{
            "text\/plain":[
              "5.885014330558209"
            ]
          },
          "metadata":{
            
          },
          "output_type":"display_data"
        }
      ],
      "metadata":{
        
      }
    }
  ],
  "metadata":{
    
  },
  "nbformat":4,
  "nbformat_minor":0
}