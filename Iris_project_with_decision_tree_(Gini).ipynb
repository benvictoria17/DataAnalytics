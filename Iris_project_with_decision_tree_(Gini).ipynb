{
  "nbformat": 4,
  "nbformat_minor": 0,
  "metadata": {
    "kernelspec": {
      "display_name": "Python 3",
      "language": "python",
      "name": "python3"
    },
    "language_info": {
      "codemirror_mode": {
        "name": "ipython",
        "version": 3
      },
      "file_extension": ".py",
      "mimetype": "text/x-python",
      "name": "python",
      "nbconvert_exporter": "python",
      "pygments_lexer": "ipython3",
      "version": "3.7.6-final"
    },
    "papermill": {
      "duration": 39.445899,
      "end_time": "2020-12-06T19:22:45.453059",
      "environment_variables": {},
      "exception": null,
      "input_path": "__notebook__.ipynb",
      "output_path": "__notebook__.ipynb",
      "parameters": {},
      "start_time": "2020-12-06T19:22:06.007160",
      "version": "2.1.0"
    },
    "colab": {
      "name": "Iris project with decision tree (Gini).ipynb",
      "provenance": [],
      "collapsed_sections": []
    }
  },
  "cells": [
    {
      "cell_type": "code",
      "metadata": {
        "id": "cplPI3wJ-ZbR"
      },
      "source": [
        "import numpy as np\n",
        "import pandas as pd \n",
        "from sklearn.tree import DecisionTreeClassifier \n",
        "from sklearn.model_selection import train_test_split \n",
        "from sklearn.metrics import accuracy_score \n",
        "from sklearn import tree\n",
        "import numpy"
      ],
      "execution_count": 2,
      "outputs": []
    },
    {
      "cell_type": "code",
      "metadata": {
        "id": "bpLyAWG2-Zex"
      },
      "source": [
        "df = pd.read_csv(\"https://raw.githubusercontent.com/benvictoria21/pandas/master/dataset/IRIS.csv\")\n",
        "df.head()\n",
        "# We printed our first 5 lines.\n",
        "#this is a test\n",
        "\n",
        "\n",
        "X = df.iloc[:, 0:4]\n",
        "Y = df.iloc[:, 4]\n",
        "# We specified our clas"
      ],
      "execution_count": 3,
      "outputs": []
    },
    {
      "cell_type": "code",
      "metadata": {
        "id": "FFt0LTQqBAxF"
      },
      "source": [
        "X_train, X_test, y_train, y_test = train_test_split( X, Y, test_size = 0.3)"
      ],
      "execution_count": 4,
      "outputs": []
    },
    {
      "cell_type": "code",
      "metadata": {
        "id": "091vLSb6BA1B"
      },
      "source": [
        "clf_gini = DecisionTreeClassifier(criterion = \"gini\", random_state = 100,\n",
        "                               max_depth=10, min_samples_leaf=8)"
      ],
      "execution_count": 5,
      "outputs": []
    },
    {
      "cell_type": "code",
      "metadata": {
        "colab": {
          "base_uri": "https://localhost:8080/"
        },
        "id": "78uI9tBtBA3A",
        "outputId": "962aff3c-0bc2-412f-bf07-225732124288"
      },
      "source": [
        "clf_gini.fit(X_train, y_train)"
      ],
      "execution_count": 6,
      "outputs": [
        {
          "output_type": "execute_result",
          "data": {
            "text/plain": [
              "DecisionTreeClassifier(ccp_alpha=0.0, class_weight=None, criterion='gini',\n",
              "                       max_depth=10, max_features=None, max_leaf_nodes=None,\n",
              "                       min_impurity_decrease=0.0, min_impurity_split=None,\n",
              "                       min_samples_leaf=8, min_samples_split=2,\n",
              "                       min_weight_fraction_leaf=0.0, presort='deprecated',\n",
              "                       random_state=100, splitter='best')"
            ]
          },
          "metadata": {},
          "execution_count": 6
        }
      ]
    },
    {
      "cell_type": "code",
      "metadata": {
        "colab": {
          "base_uri": "https://localhost:8080/"
        },
        "id": "KcorM6RtBe6a",
        "outputId": "261ee7d9-2c6a-4cb9-a5a1-ae8ea53ced7b"
      },
      "source": [
        "y_pred = clf_gini.predict(X_test)\n",
        "print(y_pred)"
      ],
      "execution_count": 7,
      "outputs": [
        {
          "output_type": "stream",
          "name": "stdout",
          "text": [
            "['Iris-versicolor' 'Iris-versicolor' 'Iris-versicolor' 'Iris-versicolor'\n 'Iris-virginica' 'Iris-versicolor' 'Iris-versicolor' 'Iris-virginica'\n 'Iris-virginica' 'Iris-virginica' 'Iris-setosa' 'Iris-virginica'\n 'Iris-virginica' 'Iris-setosa' 'Iris-setosa' 'Iris-virginica'\n 'Iris-versicolor' 'Iris-versicolor' 'Iris-setosa' 'Iris-versicolor'\n 'Iris-virginica' 'Iris-versicolor' 'Iris-virginica' 'Iris-setosa'\n 'Iris-setosa' 'Iris-versicolor' 'Iris-setosa' 'Iris-setosa' 'Iris-setosa'\n 'Iris-versicolor' 'Iris-virginica' 'Iris-virginica' 'Iris-setosa'\n 'Iris-versicolor' 'Iris-versicolor' 'Iris-setosa' 'Iris-setosa'\n 'Iris-virginica' 'Iris-setosa' 'Iris-virginica' 'Iris-virginica'\n 'Iris-versicolor' 'Iris-versicolor' 'Iris-virginica' 'Iris-virginica']\n"
          ]
        }
      ]
    },
    {
      "source": [
        "print(\"Accuracy is \", accuracy_score(y_test,y_pred)*100)"
      ],
      "cell_type": "code",
      "metadata": {
        "colab": {
          "base_uri": "https://localhost:8080/"
        },
        "id": "gp4mWHawBjal",
        "outputId": "1843b4f2-85d4-49b7-f8af-d463bf3244fd"
      },
      "execution_count": 9,
      "outputs": [
        {
          "output_type": "stream",
          "name": "stdout",
          "text": [
            "Accuracy is  100.0\n"
          ]
        }
      ]
    }
  ]
}