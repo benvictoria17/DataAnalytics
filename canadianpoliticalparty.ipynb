{
  "nbformat": 4,
  "nbformat_minor": 0,
  "metadata": {
    "kernelspec": {
      "name": "python3",
      "display_name": "Python 3",
      "language": "python"
    },
    "language_info": {
      "name": "python",
      "version": "3.7.6",
      "mimetype": "text/x-python",
      "codemirror_mode": {
        "name": "ipython",
        "version": 3
      },
      "pygments_lexer": "ipython3",
      "nbconvert_exporter": "python",
      "file_extension": ".py"
    },
    "colab": {
      "name": "canadianpoliticalparty.ipynb",
      "provenance": [],
      "include_colab_link": true
    }
  },
  "cells": [
    {
      "cell_type": "markdown",
      "metadata": {
        "id": "view-in-github",
        "colab_type": "text"
      },
      "source": [
        "<a href=\"https://colab.research.google.com/github/benvictoria21/pandas/blob/master/canadianpoliticalparty.ipynb\" target=\"_parent\"><img src=\"https://colab.research.google.com/assets/colab-badge.svg\" alt=\"Open In Colab\"/></a>"
      ]
    },
    {
      "cell_type": "code",
      "metadata": {
        "trusted": true,
        "id": "lYlxMKkplgxr"
      },
      "source": [
        "import pandas as pd \n",
        "import numpy as np \n",
        "import matplotlib.pyplot as plt "
      ],
      "execution_count": 1,
      "outputs": []
    },
    {
      "cell_type": "code",
      "metadata": {
        "trusted": true,
        "id": "rwqbO7TVlgxv",
        "outputId": "8a3f4567-19b2-4ce8-ac5d-3a6b23f1ed1a",
        "colab": {
          "base_uri": "https://localhost:8080/",
          "height": 520
        }
      },
      "source": [
        "CanadianPoliticalparty = pd.read_csv(\"https://raw.githubusercontent.com/benvictoria21/pandas/master/dataset/%20CanadianPoliticalparty.csv\")\n",
        "\n",
        "CanadianPoliticalparty"
      ],
      "execution_count": 2,
      "outputs": [
        {
          "output_type": "execute_result",
          "data": {
            "text/html": [
              "<div>\n",
              "<style scoped>\n",
              "    .dataframe tbody tr th:only-of-type {\n",
              "        vertical-align: middle;\n",
              "    }\n",
              "\n",
              "    .dataframe tbody tr th {\n",
              "        vertical-align: top;\n",
              "    }\n",
              "\n",
              "    .dataframe thead th {\n",
              "        text-align: right;\n",
              "    }\n",
              "</style>\n",
              "<table border=\"1\" class=\"dataframe\">\n",
              "  <thead>\n",
              "    <tr style=\"text-align: right;\">\n",
              "      <th></th>\n",
              "      <th></th>\n",
              "      <th></th>\n",
              "      <th></th>\n",
              "      <th></th>\n",
              "      <th>Category: All categories</th>\n",
              "    </tr>\n",
              "  </thead>\n",
              "  <tbody>\n",
              "    <tr>\n",
              "      <th>Region</th>\n",
              "      <th>New Democratic Party: (10/3/19 - 10/3/20)</th>\n",
              "      <th>Liberal Party: (10/3/19 - 10/3/20)</th>\n",
              "      <th>Conservative Party: (10/3/19 - 10/3/20)</th>\n",
              "      <th>quebec party: (10/3/19 - 10/3/20)</th>\n",
              "      <td>Green party: (10/3/19 - 10/3/20)</td>\n",
              "    </tr>\n",
              "    <tr>\n",
              "      <th>Nunavut</th>\n",
              "      <th>79%</th>\n",
              "      <th>NaN</th>\n",
              "      <th>21%</th>\n",
              "      <th>NaN</th>\n",
              "      <td>NaN</td>\n",
              "    </tr>\n",
              "    <tr>\n",
              "      <th>Saskatchewan</th>\n",
              "      <th>69%</th>\n",
              "      <th>NaN</th>\n",
              "      <th>29%</th>\n",
              "      <th>NaN</th>\n",
              "      <td>2%</td>\n",
              "    </tr>\n",
              "    <tr>\n",
              "      <th>British Columbia</th>\n",
              "      <th>67%</th>\n",
              "      <th>NaN</th>\n",
              "      <th>26%</th>\n",
              "      <th>1%</th>\n",
              "      <td>6%</td>\n",
              "    </tr>\n",
              "    <tr>\n",
              "      <th>Nova Scotia</th>\n",
              "      <th>70%</th>\n",
              "      <th>NaN</th>\n",
              "      <th>22%</th>\n",
              "      <th>NaN</th>\n",
              "      <td>8%</td>\n",
              "    </tr>\n",
              "    <tr>\n",
              "      <th>Manitoba</th>\n",
              "      <th>73%</th>\n",
              "      <th>NaN</th>\n",
              "      <th>24%</th>\n",
              "      <th>NaN</th>\n",
              "      <td>3%</td>\n",
              "    </tr>\n",
              "    <tr>\n",
              "      <th>New Brunswick</th>\n",
              "      <th>63%</th>\n",
              "      <th>NaN</th>\n",
              "      <th>24%</th>\n",
              "      <th>NaN</th>\n",
              "      <td>13%</td>\n",
              "    </tr>\n",
              "    <tr>\n",
              "      <th>Newfoundland and Labrador</th>\n",
              "      <th>71%</th>\n",
              "      <th>NaN</th>\n",
              "      <th>26%</th>\n",
              "      <th>NaN</th>\n",
              "      <td>3%</td>\n",
              "    </tr>\n",
              "    <tr>\n",
              "      <th>Alberta</th>\n",
              "      <th>62%</th>\n",
              "      <th>NaN</th>\n",
              "      <th>33%</th>\n",
              "      <th>2%</th>\n",
              "      <td>3%</td>\n",
              "    </tr>\n",
              "    <tr>\n",
              "      <th>Yukon Territory</th>\n",
              "      <th>51%</th>\n",
              "      <th>NaN</th>\n",
              "      <th>35%</th>\n",
              "      <th>NaN</th>\n",
              "      <td>14%</td>\n",
              "    </tr>\n",
              "    <tr>\n",
              "      <th>Ontario</th>\n",
              "      <th>63%</th>\n",
              "      <th>NaN</th>\n",
              "      <th>30%</th>\n",
              "      <th>2%</th>\n",
              "      <td>5%</td>\n",
              "    </tr>\n",
              "    <tr>\n",
              "      <th>Prince Edward Island</th>\n",
              "      <th>57%</th>\n",
              "      <th>NaN</th>\n",
              "      <th>27%</th>\n",
              "      <th>NaN</th>\n",
              "      <td>16%</td>\n",
              "    </tr>\n",
              "    <tr>\n",
              "      <th>Northwest Territories</th>\n",
              "      <th>62%</th>\n",
              "      <th>NaN</th>\n",
              "      <th>38%</th>\n",
              "      <th>NaN</th>\n",
              "      <td>NaN</td>\n",
              "    </tr>\n",
              "    <tr>\n",
              "      <th>Québec</th>\n",
              "      <th>62%</th>\n",
              "      <th>NaN</th>\n",
              "      <th>11%</th>\n",
              "      <th>25%</th>\n",
              "      <td>2%</td>\n",
              "    </tr>\n",
              "  </tbody>\n",
              "</table>\n",
              "</div>"
            ],
            "text/plain": [
              "                                                                                                                                                                                          Category: All categories\n",
              "Region                    New Democratic Party: (10/3/19 - 10/3/20) Liberal Party: (10/3/19 - 10/3/20) Conservative Party: (10/3/19 - 10/3/20) quebec party: (10/3/19 - 10/3/20)  Green party: (10/3/19 - 10/3/20)\n",
              "Nunavut                   79%                                       NaN                                21%                                     NaN                                                             NaN\n",
              "Saskatchewan              69%                                       NaN                                29%                                     NaN                                                              2%\n",
              "British Columbia          67%                                       NaN                                26%                                     1%                                                               6%\n",
              "Nova Scotia               70%                                       NaN                                22%                                     NaN                                                              8%\n",
              "Manitoba                  73%                                       NaN                                24%                                     NaN                                                              3%\n",
              "New Brunswick             63%                                       NaN                                24%                                     NaN                                                             13%\n",
              "Newfoundland and Labrador 71%                                       NaN                                26%                                     NaN                                                              3%\n",
              "Alberta                   62%                                       NaN                                33%                                     2%                                                               3%\n",
              "Yukon Territory           51%                                       NaN                                35%                                     NaN                                                             14%\n",
              "Ontario                   63%                                       NaN                                30%                                     2%                                                               5%\n",
              "Prince Edward Island      57%                                       NaN                                27%                                     NaN                                                             16%\n",
              "Northwest Territories     62%                                       NaN                                38%                                     NaN                                                             NaN\n",
              "Québec                    62%                                       NaN                                11%                                     25%                                                              2%"
            ]
          },
          "metadata": {
            "tags": []
          },
          "execution_count": 2
        }
      ]
    },
    {
      "cell_type": "code",
      "metadata": {
        "trusted": true,
        "id": "m5KTSFe8lgxy",
        "outputId": "65d5f1fc-87b8-4437-ec2d-fdb8cdd8b2e7",
        "colab": {
          "base_uri": "https://localhost:8080/",
          "height": 250
        }
      },
      "source": [
        "CanadianPoliticalparty.head()"
      ],
      "execution_count": 3,
      "outputs": [
        {
          "output_type": "execute_result",
          "data": {
            "text/html": [
              "<div>\n",
              "<style scoped>\n",
              "    .dataframe tbody tr th:only-of-type {\n",
              "        vertical-align: middle;\n",
              "    }\n",
              "\n",
              "    .dataframe tbody tr th {\n",
              "        vertical-align: top;\n",
              "    }\n",
              "\n",
              "    .dataframe thead th {\n",
              "        text-align: right;\n",
              "    }\n",
              "</style>\n",
              "<table border=\"1\" class=\"dataframe\">\n",
              "  <thead>\n",
              "    <tr style=\"text-align: right;\">\n",
              "      <th></th>\n",
              "      <th></th>\n",
              "      <th></th>\n",
              "      <th></th>\n",
              "      <th></th>\n",
              "      <th>Category: All categories</th>\n",
              "    </tr>\n",
              "  </thead>\n",
              "  <tbody>\n",
              "    <tr>\n",
              "      <th>Region</th>\n",
              "      <th>New Democratic Party: (10/3/19 - 10/3/20)</th>\n",
              "      <th>Liberal Party: (10/3/19 - 10/3/20)</th>\n",
              "      <th>Conservative Party: (10/3/19 - 10/3/20)</th>\n",
              "      <th>quebec party: (10/3/19 - 10/3/20)</th>\n",
              "      <td>Green party: (10/3/19 - 10/3/20)</td>\n",
              "    </tr>\n",
              "    <tr>\n",
              "      <th>Nunavut</th>\n",
              "      <th>79%</th>\n",
              "      <th>NaN</th>\n",
              "      <th>21%</th>\n",
              "      <th>NaN</th>\n",
              "      <td>NaN</td>\n",
              "    </tr>\n",
              "    <tr>\n",
              "      <th>Saskatchewan</th>\n",
              "      <th>69%</th>\n",
              "      <th>NaN</th>\n",
              "      <th>29%</th>\n",
              "      <th>NaN</th>\n",
              "      <td>2%</td>\n",
              "    </tr>\n",
              "    <tr>\n",
              "      <th>British Columbia</th>\n",
              "      <th>67%</th>\n",
              "      <th>NaN</th>\n",
              "      <th>26%</th>\n",
              "      <th>1%</th>\n",
              "      <td>6%</td>\n",
              "    </tr>\n",
              "    <tr>\n",
              "      <th>Nova Scotia</th>\n",
              "      <th>70%</th>\n",
              "      <th>NaN</th>\n",
              "      <th>22%</th>\n",
              "      <th>NaN</th>\n",
              "      <td>8%</td>\n",
              "    </tr>\n",
              "  </tbody>\n",
              "</table>\n",
              "</div>"
            ],
            "text/plain": [
              "                                                                                                                                                                                 Category: All categories\n",
              "Region           New Democratic Party: (10/3/19 - 10/3/20) Liberal Party: (10/3/19 - 10/3/20) Conservative Party: (10/3/19 - 10/3/20) quebec party: (10/3/19 - 10/3/20)  Green party: (10/3/19 - 10/3/20)\n",
              "Nunavut          79%                                       NaN                                21%                                     NaN                                                             NaN\n",
              "Saskatchewan     69%                                       NaN                                29%                                     NaN                                                              2%\n",
              "British Columbia 67%                                       NaN                                26%                                     1%                                                               6%\n",
              "Nova Scotia      70%                                       NaN                                22%                                     NaN                                                              8%"
            ]
          },
          "metadata": {
            "tags": []
          },
          "execution_count": 3
        }
      ]
    },
    {
      "cell_type": "code",
      "metadata": {
        "trusted": true,
        "id": "ljQtIrmUlgx0",
        "outputId": "11f8397e-b9cf-425e-e1a7-e7716ba94331",
        "colab": {
          "base_uri": "https://localhost:8080/",
          "height": 198
        }
      },
      "source": [
        "CanadianPoliticalparty.tail()"
      ],
      "execution_count": 4,
      "outputs": [
        {
          "output_type": "execute_result",
          "data": {
            "text/html": [
              "<div>\n",
              "<style scoped>\n",
              "    .dataframe tbody tr th:only-of-type {\n",
              "        vertical-align: middle;\n",
              "    }\n",
              "\n",
              "    .dataframe tbody tr th {\n",
              "        vertical-align: top;\n",
              "    }\n",
              "\n",
              "    .dataframe thead th {\n",
              "        text-align: right;\n",
              "    }\n",
              "</style>\n",
              "<table border=\"1\" class=\"dataframe\">\n",
              "  <thead>\n",
              "    <tr style=\"text-align: right;\">\n",
              "      <th></th>\n",
              "      <th></th>\n",
              "      <th></th>\n",
              "      <th></th>\n",
              "      <th></th>\n",
              "      <th>Category: All categories</th>\n",
              "    </tr>\n",
              "  </thead>\n",
              "  <tbody>\n",
              "    <tr>\n",
              "      <th>Yukon Territory</th>\n",
              "      <th>51%</th>\n",
              "      <th>NaN</th>\n",
              "      <th>35%</th>\n",
              "      <th>NaN</th>\n",
              "      <td>14%</td>\n",
              "    </tr>\n",
              "    <tr>\n",
              "      <th>Ontario</th>\n",
              "      <th>63%</th>\n",
              "      <th>NaN</th>\n",
              "      <th>30%</th>\n",
              "      <th>2%</th>\n",
              "      <td>5%</td>\n",
              "    </tr>\n",
              "    <tr>\n",
              "      <th>Prince Edward Island</th>\n",
              "      <th>57%</th>\n",
              "      <th>NaN</th>\n",
              "      <th>27%</th>\n",
              "      <th>NaN</th>\n",
              "      <td>16%</td>\n",
              "    </tr>\n",
              "    <tr>\n",
              "      <th>Northwest Territories</th>\n",
              "      <th>62%</th>\n",
              "      <th>NaN</th>\n",
              "      <th>38%</th>\n",
              "      <th>NaN</th>\n",
              "      <td>NaN</td>\n",
              "    </tr>\n",
              "    <tr>\n",
              "      <th>Québec</th>\n",
              "      <th>62%</th>\n",
              "      <th>NaN</th>\n",
              "      <th>11%</th>\n",
              "      <th>25%</th>\n",
              "      <td>2%</td>\n",
              "    </tr>\n",
              "  </tbody>\n",
              "</table>\n",
              "</div>"
            ],
            "text/plain": [
              "                                      Category: All categories\n",
              "Yukon Territory       51% NaN 35% NaN                      14%\n",
              "Ontario               63% NaN 30% 2%                        5%\n",
              "Prince Edward Island  57% NaN 27% NaN                      16%\n",
              "Northwest Territories 62% NaN 38% NaN                      NaN\n",
              "Québec                62% NaN 11% 25%                       2%"
            ]
          },
          "metadata": {
            "tags": []
          },
          "execution_count": 4
        }
      ]
    },
    {
      "cell_type": "code",
      "metadata": {
        "trusted": true,
        "id": "Eblbe_Qrlgx3",
        "outputId": "54520e0c-2e87-4603-c0f2-e62dc78973b7",
        "colab": {
          "base_uri": "https://localhost:8080/",
          "height": 168
        }
      },
      "source": [
        "CanadianPoliticalparty.describe()"
      ],
      "execution_count": 5,
      "outputs": [
        {
          "output_type": "execute_result",
          "data": {
            "text/html": [
              "<div>\n",
              "<style scoped>\n",
              "    .dataframe tbody tr th:only-of-type {\n",
              "        vertical-align: middle;\n",
              "    }\n",
              "\n",
              "    .dataframe tbody tr th {\n",
              "        vertical-align: top;\n",
              "    }\n",
              "\n",
              "    .dataframe thead th {\n",
              "        text-align: right;\n",
              "    }\n",
              "</style>\n",
              "<table border=\"1\" class=\"dataframe\">\n",
              "  <thead>\n",
              "    <tr style=\"text-align: right;\">\n",
              "      <th></th>\n",
              "      <th>Category: All categories</th>\n",
              "    </tr>\n",
              "  </thead>\n",
              "  <tbody>\n",
              "    <tr>\n",
              "      <th>count</th>\n",
              "      <td>12</td>\n",
              "    </tr>\n",
              "    <tr>\n",
              "      <th>unique</th>\n",
              "      <td>9</td>\n",
              "    </tr>\n",
              "    <tr>\n",
              "      <th>top</th>\n",
              "      <td>3%</td>\n",
              "    </tr>\n",
              "    <tr>\n",
              "      <th>freq</th>\n",
              "      <td>3</td>\n",
              "    </tr>\n",
              "  </tbody>\n",
              "</table>\n",
              "</div>"
            ],
            "text/plain": [
              "       Category: All categories\n",
              "count                        12\n",
              "unique                        9\n",
              "top                          3%\n",
              "freq                          3"
            ]
          },
          "metadata": {
            "tags": []
          },
          "execution_count": 5
        }
      ]
    },
    {
      "cell_type": "code",
      "metadata": {
        "trusted": true,
        "id": "_r17ghcQlgx7",
        "outputId": "5ddc2e2b-64de-4f2e-fec4-6f04a5e93495",
        "colab": {
          "base_uri": "https://localhost:8080/",
          "height": 175
        }
      },
      "source": [
        "CanadianPoliticalparty.info()"
      ],
      "execution_count": 6,
      "outputs": [
        {
          "output_type": "stream",
          "text": [
            "<class 'pandas.core.frame.DataFrame'>\n",
            "MultiIndex: 14 entries, ('Region', 'New Democratic Party: (10/3/19 - 10/3/20)', 'Liberal Party: (10/3/19 - 10/3/20)', 'Conservative Party: (10/3/19 - 10/3/20)', 'quebec party: (10/3/19 - 10/3/20)') to ('Québec', '62%', nan, '11%', '25%')\n",
            "Data columns (total 1 columns):\n",
            " #   Column                    Non-Null Count  Dtype \n",
            "---  ------                    --------------  ----- \n",
            " 0   Category: All categories  12 non-null     object\n",
            "dtypes: object(1)\n",
            "memory usage: 2.1+ KB\n"
          ],
          "name": "stdout"
        }
      ]
    },
    {
      "cell_type": "code",
      "metadata": {
        "trusted": true,
        "id": "ihpgQFJ4lgx9",
        "outputId": "55ed9d49-c977-4779-e0c2-e07313348770",
        "colab": {
          "base_uri": "https://localhost:8080/",
          "height": 296
        }
      },
      "source": [
        "CanadianPoliticalparty.info"
      ],
      "execution_count": 7,
      "outputs": [
        {
          "output_type": "execute_result",
          "data": {
            "text/plain": [
              "<bound method DataFrame.info of                                                                                                                                                                                           Category: All categories\n",
              "Region                    New Democratic Party: (10/3/19 - 10/3/20) Liberal Party: (10/3/19 - 10/3/20) Conservative Party: (10/3/19 - 10/3/20) quebec party: (10/3/19 - 10/3/20)  Green party: (10/3/19 - 10/3/20)\n",
              "Nunavut                   79%                                       NaN                                21%                                     NaN                                                             NaN\n",
              "Saskatchewan              69%                                       NaN                                29%                                     NaN                                                              2%\n",
              "British Columbia          67%                                       NaN                                26%                                     1%                                                               6%\n",
              "Nova Scotia               70%                                       NaN                                22%                                     NaN                                                              8%\n",
              "Manitoba                  73%                                       NaN                                24%                                     NaN                                                              3%\n",
              "New Brunswick             63%                                       NaN                                24%                                     NaN                                                             13%\n",
              "Newfoundland and Labrador 71%                                       NaN                                26%                                     NaN                                                              3%\n",
              "Alberta                   62%                                       NaN                                33%                                     2%                                                               3%\n",
              "Yukon Territory           51%                                       NaN                                35%                                     NaN                                                             14%\n",
              "Ontario                   63%                                       NaN                                30%                                     2%                                                               5%\n",
              "Prince Edward Island      57%                                       NaN                                27%                                     NaN                                                             16%\n",
              "Northwest Territories     62%                                       NaN                                38%                                     NaN                                                             NaN\n",
              "Québec                    62%                                       NaN                                11%                                     25%                                                              2%>"
            ]
          },
          "metadata": {
            "tags": []
          },
          "execution_count": 7
        }
      ]
    },
    {
      "cell_type": "code",
      "metadata": {
        "trusted": true,
        "id": "hJy0T7sxlgyB"
      },
      "source": [
        "import sqlite3"
      ],
      "execution_count": 8,
      "outputs": []
    },
    {
      "cell_type": "code",
      "metadata": {
        "trusted": true,
        "id": "0yksI7A8lgyD"
      },
      "source": [
        "conn = sqlite3.connect(\"CanadianPoliticalparty.db\")\n",
        "c = conn.cursor()"
      ],
      "execution_count": 9,
      "outputs": []
    },
    {
      "cell_type": "code",
      "metadata": {
        "trusted": true,
        "id": "ZTZ3SLoXlgyF"
      },
      "source": [
        "conn = sqlite3.connect(\"CanadianPoliticalparty.db\")\n",
        "c = conn.cursor()"
      ],
      "execution_count": 10,
      "outputs": []
    },
    {
      "cell_type": "code",
      "metadata": {
        "trusted": true,
        "id": "7KIAOjodlgyL",
        "outputId": "b8a3449f-19e9-4836-b966-c8a0d4796a28",
        "colab": {
          "base_uri": "https://localhost:8080/",
          "height": 72
        }
      },
      "source": [
        "CanadianPoliticalparty.to_sql(\"CanadianPoliticalparty\", conn, if_exists='replace')"
      ],
      "execution_count": 11,
      "outputs": [
        {
          "output_type": "stream",
          "text": [
            "/usr/local/lib/python3.6/dist-packages/pandas/core/generic.py:2612: UserWarning: The spaces in these column names will not be changed. In pandas versions < 0.14, spaces were converted to underscores.\n",
            "  method=method,\n"
          ],
          "name": "stderr"
        }
      ]
    },
    {
      "cell_type": "code",
      "metadata": {
        "trusted": true,
        "id": "1hFYeYILlgyN",
        "outputId": "1a42e9b8-149b-4ebe-c3dd-d3f1772f711a",
        "colab": {
          "base_uri": "https://localhost:8080/",
          "height": 345
        }
      },
      "source": [
        "#See data\n",
        "c.execute(\"\"\"SELECT * FROM CanadianPoliticalparty\"\"\")\n",
        "rows = c.fetchall()\n",
        "rows"
      ],
      "execution_count": 12,
      "outputs": [
        {
          "output_type": "execute_result",
          "data": {
            "text/plain": [
              "[('Region',\n",
              "  'New Democratic Party: (10/3/19 - 10/3/20)',\n",
              "  'Liberal Party: (10/3/19 - 10/3/20)',\n",
              "  'Conservative Party: (10/3/19 - 10/3/20)',\n",
              "  'quebec party: (10/3/19 - 10/3/20)',\n",
              "  'Green party: (10/3/19 - 10/3/20)'),\n",
              " ('Nunavut', '79%', None, '21%', None, None),\n",
              " ('Saskatchewan', '69%', None, '29%', None, '2%'),\n",
              " ('British Columbia', '67%', None, '26%', '1%', '6%'),\n",
              " ('Nova Scotia', '70%', None, '22%', None, '8%'),\n",
              " ('Manitoba', '73%', None, '24%', None, '3%'),\n",
              " ('New Brunswick', '63%', None, '24%', None, '13%'),\n",
              " ('Newfoundland and Labrador', '71%', None, '26%', None, '3%'),\n",
              " ('Alberta', '62%', None, '33%', '2%', '3%'),\n",
              " ('Yukon Territory', '51%', None, '35%', None, '14%'),\n",
              " ('Ontario', '63%', None, '30%', '2%', '5%'),\n",
              " ('Prince Edward Island', '57%', None, '27%', None, '16%'),\n",
              " ('Northwest Territories', '62%', None, '38%', None, None),\n",
              " ('Québec', '62%', None, '11%', '25%', '2%')]"
            ]
          },
          "metadata": {
            "tags": []
          },
          "execution_count": 12
        }
      ]
    },
    {
      "cell_type": "code",
      "metadata": {
        "trusted": true,
        "id": "DBkpFV4WlgyQ",
        "outputId": "fdf91326-ad25-455a-b783-04f5acc0c529",
        "colab": {
          "base_uri": "https://localhost:8080/",
          "height": 520
        }
      },
      "source": [
        "CanadianPoliticalparty.to_excel(\"CanadianPoliticalparty.xls\")\n",
        "\n",
        "pd.read_excel(\"CanadianPoliticalparty.xls\")"
      ],
      "execution_count": 13,
      "outputs": [
        {
          "output_type": "execute_result",
          "data": {
            "text/html": [
              "<div>\n",
              "<style scoped>\n",
              "    .dataframe tbody tr th:only-of-type {\n",
              "        vertical-align: middle;\n",
              "    }\n",
              "\n",
              "    .dataframe tbody tr th {\n",
              "        vertical-align: top;\n",
              "    }\n",
              "\n",
              "    .dataframe thead th {\n",
              "        text-align: right;\n",
              "    }\n",
              "</style>\n",
              "<table border=\"1\" class=\"dataframe\">\n",
              "  <thead>\n",
              "    <tr style=\"text-align: right;\">\n",
              "      <th></th>\n",
              "      <th>Unnamed: 0</th>\n",
              "      <th>Unnamed: 1</th>\n",
              "      <th>Unnamed: 2</th>\n",
              "      <th>Unnamed: 3</th>\n",
              "      <th>Unnamed: 4</th>\n",
              "      <th>Category: All categories</th>\n",
              "    </tr>\n",
              "  </thead>\n",
              "  <tbody>\n",
              "    <tr>\n",
              "      <th>0</th>\n",
              "      <td>Region</td>\n",
              "      <td>New Democratic Party: (10/3/19 - 10/3/20)</td>\n",
              "      <td>Liberal Party: (10/3/19 - 10/3/20)</td>\n",
              "      <td>Conservative Party: (10/3/19 - 10/3/20)</td>\n",
              "      <td>quebec party: (10/3/19 - 10/3/20)</td>\n",
              "      <td>Green party: (10/3/19 - 10/3/20)</td>\n",
              "    </tr>\n",
              "    <tr>\n",
              "      <th>1</th>\n",
              "      <td>Nunavut</td>\n",
              "      <td>79%</td>\n",
              "      <td>NaN</td>\n",
              "      <td>21%</td>\n",
              "      <td>NaN</td>\n",
              "      <td>NaN</td>\n",
              "    </tr>\n",
              "    <tr>\n",
              "      <th>2</th>\n",
              "      <td>Saskatchewan</td>\n",
              "      <td>69%</td>\n",
              "      <td>NaN</td>\n",
              "      <td>29%</td>\n",
              "      <td>NaN</td>\n",
              "      <td>2%</td>\n",
              "    </tr>\n",
              "    <tr>\n",
              "      <th>3</th>\n",
              "      <td>British Columbia</td>\n",
              "      <td>67%</td>\n",
              "      <td>NaN</td>\n",
              "      <td>26%</td>\n",
              "      <td>1%</td>\n",
              "      <td>6%</td>\n",
              "    </tr>\n",
              "    <tr>\n",
              "      <th>4</th>\n",
              "      <td>Nova Scotia</td>\n",
              "      <td>70%</td>\n",
              "      <td>NaN</td>\n",
              "      <td>22%</td>\n",
              "      <td>NaN</td>\n",
              "      <td>8%</td>\n",
              "    </tr>\n",
              "    <tr>\n",
              "      <th>5</th>\n",
              "      <td>Manitoba</td>\n",
              "      <td>73%</td>\n",
              "      <td>NaN</td>\n",
              "      <td>24%</td>\n",
              "      <td>NaN</td>\n",
              "      <td>3%</td>\n",
              "    </tr>\n",
              "    <tr>\n",
              "      <th>6</th>\n",
              "      <td>New Brunswick</td>\n",
              "      <td>63%</td>\n",
              "      <td>NaN</td>\n",
              "      <td>24%</td>\n",
              "      <td>NaN</td>\n",
              "      <td>13%</td>\n",
              "    </tr>\n",
              "    <tr>\n",
              "      <th>7</th>\n",
              "      <td>Newfoundland and Labrador</td>\n",
              "      <td>71%</td>\n",
              "      <td>NaN</td>\n",
              "      <td>26%</td>\n",
              "      <td>NaN</td>\n",
              "      <td>3%</td>\n",
              "    </tr>\n",
              "    <tr>\n",
              "      <th>8</th>\n",
              "      <td>Alberta</td>\n",
              "      <td>62%</td>\n",
              "      <td>NaN</td>\n",
              "      <td>33%</td>\n",
              "      <td>2%</td>\n",
              "      <td>3%</td>\n",
              "    </tr>\n",
              "    <tr>\n",
              "      <th>9</th>\n",
              "      <td>Yukon Territory</td>\n",
              "      <td>51%</td>\n",
              "      <td>NaN</td>\n",
              "      <td>35%</td>\n",
              "      <td>NaN</td>\n",
              "      <td>14%</td>\n",
              "    </tr>\n",
              "    <tr>\n",
              "      <th>10</th>\n",
              "      <td>Ontario</td>\n",
              "      <td>63%</td>\n",
              "      <td>NaN</td>\n",
              "      <td>30%</td>\n",
              "      <td>2%</td>\n",
              "      <td>5%</td>\n",
              "    </tr>\n",
              "    <tr>\n",
              "      <th>11</th>\n",
              "      <td>Prince Edward Island</td>\n",
              "      <td>57%</td>\n",
              "      <td>NaN</td>\n",
              "      <td>27%</td>\n",
              "      <td>NaN</td>\n",
              "      <td>16%</td>\n",
              "    </tr>\n",
              "    <tr>\n",
              "      <th>12</th>\n",
              "      <td>Northwest Territories</td>\n",
              "      <td>62%</td>\n",
              "      <td>NaN</td>\n",
              "      <td>38%</td>\n",
              "      <td>NaN</td>\n",
              "      <td>NaN</td>\n",
              "    </tr>\n",
              "    <tr>\n",
              "      <th>13</th>\n",
              "      <td>Québec</td>\n",
              "      <td>62%</td>\n",
              "      <td>NaN</td>\n",
              "      <td>11%</td>\n",
              "      <td>25%</td>\n",
              "      <td>2%</td>\n",
              "    </tr>\n",
              "  </tbody>\n",
              "</table>\n",
              "</div>"
            ],
            "text/plain": [
              "                   Unnamed: 0  ...          Category: All categories\n",
              "0                      Region  ...  Green party: (10/3/19 - 10/3/20)\n",
              "1                     Nunavut  ...                               NaN\n",
              "2                Saskatchewan  ...                                2%\n",
              "3            British Columbia  ...                                6%\n",
              "4                 Nova Scotia  ...                                8%\n",
              "5                    Manitoba  ...                                3%\n",
              "6               New Brunswick  ...                               13%\n",
              "7   Newfoundland and Labrador  ...                                3%\n",
              "8                     Alberta  ...                                3%\n",
              "9             Yukon Territory  ...                               14%\n",
              "10                    Ontario  ...                                5%\n",
              "11       Prince Edward Island  ...                               16%\n",
              "12      Northwest Territories  ...                               NaN\n",
              "13                     Québec  ...                                2%\n",
              "\n",
              "[14 rows x 6 columns]"
            ]
          },
          "metadata": {
            "tags": []
          },
          "execution_count": 13
        }
      ]
    },
    {
      "cell_type": "code",
      "metadata": {
        "trusted": true,
        "id": "mhY0MaBhlgyS",
        "outputId": "4a54f7bf-5b78-43a1-effd-25fba55e9754",
        "colab": {
          "base_uri": "https://localhost:8080/",
          "height": 505
        }
      },
      "source": [
        "x = [0,1,2,3,4]\n",
        "y = [0,2,4,6,8]\n",
        "\n",
        "# Resize your Graph (dpi specifies pixels per inch. When saving probably should use 300 if possible)\n",
        "plt.figure(figsize=(8,5), dpi=100)\n",
        "\n",
        "# Line 1\n",
        "\n",
        "# Keyword Argument Notation\n",
        "#plt.plot(x,y, label='2x', color='red', linewidth=2, marker='.', linestyle='--', markersize=10, markeredgecolor='blue')\n",
        "\n",
        "# Shorthand notation\n",
        "# fmt = '[color][marker][line]'\n",
        "plt.plot(x,y, 'b^--', label='2x')\n",
        "\n",
        "## Line 2\n",
        "\n",
        "# select interval we want to plot points at\n",
        "x2 = np.arange(0,4.5,0.5)\n",
        "\n",
        "# Plot part of the graph as line\n",
        "plt.plot(x2[:6], x2[:6]**2, 'r', label='X^2')\n",
        "\n",
        "# Plot remainder of graph as a dot\n",
        "plt.plot(x2[5:], x2[5:]**2, 'r--')\n",
        "\n",
        "# Add a title (specify font parameters with fontdict)\n",
        "plt.title('Canadian Political Party', fontdict={'fontname': 'Comic Sans MS', 'fontsize': 20})\n",
        "\n",
        "# X and Y labels\n",
        "plt.xlabel('Canadian Political Party')\n",
        "\n",
        "# X, Y axis Tickmarks (scale of your graph)\n",
        "plt.xticks([0,1,2,3,4,])\n",
        "#plt.yticks([0,2,4,6,8,10])\n",
        "\n",
        "# Add a legend\n",
        "plt.legend()\n",
        "\n",
        "# Save figure (dpi 300 is good when saving so graph has high resolution)\n",
        "plt.savefig('mygraph.png', dpi=300)\n",
        "\n",
        "# Show plot\n",
        "plt.show()"
      ],
      "execution_count": 14,
      "outputs": [
        {
          "output_type": "stream",
          "text": [
            "findfont: Font family ['Comic Sans MS'] not found. Falling back to DejaVu Sans.\n"
          ],
          "name": "stderr"
        },
        {
          "output_type": "display_data",
          "data": {
            "image/png": "[encoded data removed]",
            "text/plain": [
              "<Figure size 800x500 with 1 Axes>"
            ]
          },
          "metadata": {
            "tags": [],
            "needs_background": "light"
          }
        }
      ]
    }
  ]
}