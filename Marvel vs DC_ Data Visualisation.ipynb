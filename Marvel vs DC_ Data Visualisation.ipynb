{
 "cells":[
  {
   "cell_type":"code",
   "source":[
    "import pandas as pd \n",
    "pd.plotting.register_matplotlib_converters()\n",
    "import matplotlib.pyplot as plt\n",
    "%matplotlib inline\n",
    "import seaborn as sns \n",
    "import numpy as np"
   ],
   "execution_count":4,
   "outputs":[
    
   ],
   "metadata":{
    "datalore":{
     "type":"CODE",
     "hide_input_from_viewers":false,
     "hide_output_from_viewers":false
    }
   }
  },
  {
   "cell_type":"code",
   "source":[
    "DC_filepath = \"https:\/\/raw.githubusercontent.com\/benvictoria17\/DataAnalytics\/master\/dataset\/FiveThirtyEight%20Comic%20Characters%20Dataset\/dc-wikia-data.csv\"\n",
    "MVL_filepath = \"https:\/\/raw.githubusercontent.com\/benvictoria17\/DataAnalytics\/master\/dataset\/FiveThirtyEight%20Comic%20Characters%20Dataset\/marvel-wikia-data.csv\"\n",
    "DC_data = pd.read_csv(DC_filepath)\n",
    "MVL_data = pd.read_csv(MVL_filepath)"
   ],
   "execution_count":5,
   "outputs":[
    
   ],
   "metadata":{
    "datalore":{
     "type":"CODE",
     "hide_input_from_viewers":false,
     "hide_output_from_viewers":false
    }
   }
  },
  {
   "cell_type":"code",
   "source":[
    "DC_data.head()"
   ],
   "execution_count":6,
   "outputs":[
    {
     "data":{
      "text\/html":[
       "<div>\n",
       "<style scoped>\n",
       "    .dataframe tbody tr th:only-of-type {\n",
       "        vertical-align: middle;\n",
       "    }\n",
       "\n",
       "    .dataframe tbody tr th {\n",
       "        vertical-align: top;\n",
       "    }\n",
       "\n",
       "    .dataframe thead th {\n",
       "        text-align: right;\n",
       "    }\n",
       "<\/style>\n",
       "<table border=\"1\" class=\"dataframe\">\n",
       "  <thead>\n",
       "    <tr style=\"text-align: right;\">\n",
       "      <th><\/th>\n",
       "      <th>page_id<\/th>\n",
       "      <th>name<\/th>\n",
       "      <th>urlslug<\/th>\n",
       "      <th>ID<\/th>\n",
       "      <th>ALIGN<\/th>\n",
       "      <th>EYE<\/th>\n",
       "      <th>HAIR<\/th>\n",
       "      <th>SEX<\/th>\n",
       "      <th>GSM<\/th>\n",
       "      <th>ALIVE<\/th>\n",
       "      <th>APPEARANCES<\/th>\n",
       "      <th>FIRST APPEARANCE<\/th>\n",
       "      <th>YEAR<\/th>\n",
       "    <\/tr>\n",
       "  <\/thead>\n",
       "  <tbody>\n",
       "    <tr>\n",
       "      <th>0<\/th>\n",
       "      <td>1422<\/td>\n",
       "      <td>Batman (Bruce Wayne)<\/td>\n",
       "      <td>\\\/wiki\\\/Batman_(Bruce_Wayne)<\/td>\n",
       "      <td>Secret Identity<\/td>\n",
       "      <td>Good Characters<\/td>\n",
       "      <td>Blue Eyes<\/td>\n",
       "      <td>Black Hair<\/td>\n",
       "      <td>Male Characters<\/td>\n",
       "      <td>NaN<\/td>\n",
       "      <td>Living Characters<\/td>\n",
       "      <td>3093.0<\/td>\n",
       "      <td>1939, May<\/td>\n",
       "      <td>1939.0<\/td>\n",
       "    <\/tr>\n",
       "    <tr>\n",
       "      <th>1<\/th>\n",
       "      <td>23387<\/td>\n",
       "      <td>Superman (Clark Kent)<\/td>\n",
       "      <td>\\\/wiki\\\/Superman_(Clark_Kent)<\/td>\n",
       "      <td>Secret Identity<\/td>\n",
       "      <td>Good Characters<\/td>\n",
       "      <td>Blue Eyes<\/td>\n",
       "      <td>Black Hair<\/td>\n",
       "      <td>Male Characters<\/td>\n",
       "      <td>NaN<\/td>\n",
       "      <td>Living Characters<\/td>\n",
       "      <td>2496.0<\/td>\n",
       "      <td>1986, October<\/td>\n",
       "      <td>1986.0<\/td>\n",
       "    <\/tr>\n",
       "    <tr>\n",
       "      <th>2<\/th>\n",
       "      <td>1458<\/td>\n",
       "      <td>Green Lantern (Hal Jordan)<\/td>\n",
       "      <td>\\\/wiki\\\/Green_Lantern_(Hal_Jordan)<\/td>\n",
       "      <td>Secret Identity<\/td>\n",
       "      <td>Good Characters<\/td>\n",
       "      <td>Brown Eyes<\/td>\n",
       "      <td>Brown Hair<\/td>\n",
       "      <td>Male Characters<\/td>\n",
       "      <td>NaN<\/td>\n",
       "      <td>Living Characters<\/td>\n",
       "      <td>1565.0<\/td>\n",
       "      <td>1959, October<\/td>\n",
       "      <td>1959.0<\/td>\n",
       "    <\/tr>\n",
       "    <tr>\n",
       "      <th>3<\/th>\n",
       "      <td>1659<\/td>\n",
       "      <td>James Gordon (New Earth)<\/td>\n",
       "      <td>\\\/wiki\\\/James_Gordon_(New_Earth)<\/td>\n",
       "      <td>Public Identity<\/td>\n",
       "      <td>Good Characters<\/td>\n",
       "      <td>Brown Eyes<\/td>\n",
       "      <td>White Hair<\/td>\n",
       "      <td>Male Characters<\/td>\n",
       "      <td>NaN<\/td>\n",
       "      <td>Living Characters<\/td>\n",
       "      <td>1316.0<\/td>\n",
       "      <td>1987, February<\/td>\n",
       "      <td>1987.0<\/td>\n",
       "    <\/tr>\n",
       "    <tr>\n",
       "      <th>4<\/th>\n",
       "      <td>1576<\/td>\n",
       "      <td>Richard Grayson (New Earth)<\/td>\n",
       "      <td>\\\/wiki\\\/Richard_Grayson_(New_Earth)<\/td>\n",
       "      <td>Secret Identity<\/td>\n",
       "      <td>Good Characters<\/td>\n",
       "      <td>Blue Eyes<\/td>\n",
       "      <td>Black Hair<\/td>\n",
       "      <td>Male Characters<\/td>\n",
       "      <td>NaN<\/td>\n",
       "      <td>Living Characters<\/td>\n",
       "      <td>1237.0<\/td>\n",
       "      <td>1940, April<\/td>\n",
       "      <td>1940.0<\/td>\n",
       "    <\/tr>\n",
       "  <\/tbody>\n",
       "<\/table>\n",
       "<\/div>"
      ]
     },
     "metadata":{
      
     },
     "output_type":"display_data"
    }
   ],
   "metadata":{
    "datalore":{
     "type":"CODE",
     "hide_input_from_viewers":false,
     "hide_output_from_viewers":false
    }
   }
  },
  {
   "cell_type":"code",
   "source":[
    "MVL_data.head()"
   ],
   "execution_count":7,
   "outputs":[
    {
     "data":{
      "text\/html":[
       "<div>\n",
       "<style scoped>\n",
       "    .dataframe tbody tr th:only-of-type {\n",
       "        vertical-align: middle;\n",
       "    }\n",
       "\n",
       "    .dataframe tbody tr th {\n",
       "        vertical-align: top;\n",
       "    }\n",
       "\n",
       "    .dataframe thead th {\n",
       "        text-align: right;\n",
       "    }\n",
       "<\/style>\n",
       "<table border=\"1\" class=\"dataframe\">\n",
       "  <thead>\n",
       "    <tr style=\"text-align: right;\">\n",
       "      <th><\/th>\n",
       "      <th>page_id<\/th>\n",
       "      <th>name<\/th>\n",
       "      <th>urlslug<\/th>\n",
       "      <th>ID<\/th>\n",
       "      <th>ALIGN<\/th>\n",
       "      <th>EYE<\/th>\n",
       "      <th>HAIR<\/th>\n",
       "      <th>SEX<\/th>\n",
       "      <th>GSM<\/th>\n",
       "      <th>ALIVE<\/th>\n",
       "      <th>APPEARANCES<\/th>\n",
       "      <th>FIRST APPEARANCE<\/th>\n",
       "      <th>Year<\/th>\n",
       "    <\/tr>\n",
       "  <\/thead>\n",
       "  <tbody>\n",
       "    <tr>\n",
       "      <th>0<\/th>\n",
       "      <td>1678<\/td>\n",
       "      <td>Spider-Man (Peter Parker)<\/td>\n",
       "      <td>\\\/Spider-Man_(Peter_Parker)<\/td>\n",
       "      <td>Secret Identity<\/td>\n",
       "      <td>Good Characters<\/td>\n",
       "      <td>Hazel Eyes<\/td>\n",
       "      <td>Brown Hair<\/td>\n",
       "      <td>Male Characters<\/td>\n",
       "      <td>NaN<\/td>\n",
       "      <td>Living Characters<\/td>\n",
       "      <td>4043.0<\/td>\n",
       "      <td>Aug-62<\/td>\n",
       "      <td>1962.0<\/td>\n",
       "    <\/tr>\n",
       "    <tr>\n",
       "      <th>1<\/th>\n",
       "      <td>7139<\/td>\n",
       "      <td>Captain America (Steven Rogers)<\/td>\n",
       "      <td>\\\/Captain_America_(Steven_Rogers)<\/td>\n",
       "      <td>Public Identity<\/td>\n",
       "      <td>Good Characters<\/td>\n",
       "      <td>Blue Eyes<\/td>\n",
       "      <td>White Hair<\/td>\n",
       "      <td>Male Characters<\/td>\n",
       "      <td>NaN<\/td>\n",
       "      <td>Living Characters<\/td>\n",
       "      <td>3360.0<\/td>\n",
       "      <td>Mar-41<\/td>\n",
       "      <td>1941.0<\/td>\n",
       "    <\/tr>\n",
       "    <tr>\n",
       "      <th>2<\/th>\n",
       "      <td>64786<\/td>\n",
       "      <td>Wolverine (James \\\"Logan\\\" Howlett)<\/td>\n",
       "      <td>\\\/Wolverine_(James_%22Logan%22_Howlett)<\/td>\n",
       "      <td>Public Identity<\/td>\n",
       "      <td>Neutral Characters<\/td>\n",
       "      <td>Blue Eyes<\/td>\n",
       "      <td>Black Hair<\/td>\n",
       "      <td>Male Characters<\/td>\n",
       "      <td>NaN<\/td>\n",
       "      <td>Living Characters<\/td>\n",
       "      <td>3061.0<\/td>\n",
       "      <td>Oct-74<\/td>\n",
       "      <td>1974.0<\/td>\n",
       "    <\/tr>\n",
       "    <tr>\n",
       "      <th>3<\/th>\n",
       "      <td>1868<\/td>\n",
       "      <td>Iron Man (Anthony \\\"Tony\\\" Stark)<\/td>\n",
       "      <td>\\\/Iron_Man_(Anthony_%22Tony%22_Stark)<\/td>\n",
       "      <td>Public Identity<\/td>\n",
       "      <td>Good Characters<\/td>\n",
       "      <td>Blue Eyes<\/td>\n",
       "      <td>Black Hair<\/td>\n",
       "      <td>Male Characters<\/td>\n",
       "      <td>NaN<\/td>\n",
       "      <td>Living Characters<\/td>\n",
       "      <td>2961.0<\/td>\n",
       "      <td>Mar-63<\/td>\n",
       "      <td>1963.0<\/td>\n",
       "    <\/tr>\n",
       "    <tr>\n",
       "      <th>4<\/th>\n",
       "      <td>2460<\/td>\n",
       "      <td>Thor (Thor Odinson)<\/td>\n",
       "      <td>\\\/Thor_(Thor_Odinson)<\/td>\n",
       "      <td>No Dual Identity<\/td>\n",
       "      <td>Good Characters<\/td>\n",
       "      <td>Blue Eyes<\/td>\n",
       "      <td>Blond Hair<\/td>\n",
       "      <td>Male Characters<\/td>\n",
       "      <td>NaN<\/td>\n",
       "      <td>Living Characters<\/td>\n",
       "      <td>2258.0<\/td>\n",
       "      <td>Nov-50<\/td>\n",
       "      <td>1950.0<\/td>\n",
       "    <\/tr>\n",
       "  <\/tbody>\n",
       "<\/table>\n",
       "<\/div>"
      ]
     },
     "metadata":{
      
     },
     "output_type":"display_data"
    }
   ],
   "metadata":{
    "datalore":{
     "type":"CODE",
     "hide_input_from_viewers":false,
     "hide_output_from_viewers":false
    }
   }
  },
  {
   "cell_type":"code",
   "source":[
    "for item in DC_data.columns:\n",
    "    if item not in MVL_data.columns:\n",
    "        print(item)\n",
    "\n",
    "MVL_data.rename(columns={\"Year\":\"YEAR\"}, inplace=True)\n",
    "MVL_data.head()"
   ],
   "execution_count":8,
   "outputs":[
    {
     "name":"stdout",
     "text":[
      "YEAR\n"
     ],
     "output_type":"stream"
    },
    {
     "data":{
      "text\/html":[
       "<div>\n",
       "<style scoped>\n",
       "    .dataframe tbody tr th:only-of-type {\n",
       "        vertical-align: middle;\n",
       "    }\n",
       "\n",
       "    .dataframe tbody tr th {\n",
       "        vertical-align: top;\n",
       "    }\n",
       "\n",
       "    .dataframe thead th {\n",
       "        text-align: right;\n",
       "    }\n",
       "<\/style>\n",
       "<table border=\"1\" class=\"dataframe\">\n",
       "  <thead>\n",
       "    <tr style=\"text-align: right;\">\n",
       "      <th><\/th>\n",
       "      <th>page_id<\/th>\n",
       "      <th>name<\/th>\n",
       "      <th>urlslug<\/th>\n",
       "      <th>ID<\/th>\n",
       "      <th>ALIGN<\/th>\n",
       "      <th>EYE<\/th>\n",
       "      <th>HAIR<\/th>\n",
       "      <th>SEX<\/th>\n",
       "      <th>GSM<\/th>\n",
       "      <th>ALIVE<\/th>\n",
       "      <th>APPEARANCES<\/th>\n",
       "      <th>FIRST APPEARANCE<\/th>\n",
       "      <th>YEAR<\/th>\n",
       "    <\/tr>\n",
       "  <\/thead>\n",
       "  <tbody>\n",
       "    <tr>\n",
       "      <th>0<\/th>\n",
       "      <td>1678<\/td>\n",
       "      <td>Spider-Man (Peter Parker)<\/td>\n",
       "      <td>\\\/Spider-Man_(Peter_Parker)<\/td>\n",
       "      <td>Secret Identity<\/td>\n",
       "      <td>Good Characters<\/td>\n",
       "      <td>Hazel Eyes<\/td>\n",
       "      <td>Brown Hair<\/td>\n",
       "      <td>Male Characters<\/td>\n",
       "      <td>NaN<\/td>\n",
       "      <td>Living Characters<\/td>\n",
       "      <td>4043.0<\/td>\n",
       "      <td>Aug-62<\/td>\n",
       "      <td>1962.0<\/td>\n",
       "    <\/tr>\n",
       "    <tr>\n",
       "      <th>1<\/th>\n",
       "      <td>7139<\/td>\n",
       "      <td>Captain America (Steven Rogers)<\/td>\n",
       "      <td>\\\/Captain_America_(Steven_Rogers)<\/td>\n",
       "      <td>Public Identity<\/td>\n",
       "      <td>Good Characters<\/td>\n",
       "      <td>Blue Eyes<\/td>\n",
       "      <td>White Hair<\/td>\n",
       "      <td>Male Characters<\/td>\n",
       "      <td>NaN<\/td>\n",
       "      <td>Living Characters<\/td>\n",
       "      <td>3360.0<\/td>\n",
       "      <td>Mar-41<\/td>\n",
       "      <td>1941.0<\/td>\n",
       "    <\/tr>\n",
       "    <tr>\n",
       "      <th>2<\/th>\n",
       "      <td>64786<\/td>\n",
       "      <td>Wolverine (James \\\"Logan\\\" Howlett)<\/td>\n",
       "      <td>\\\/Wolverine_(James_%22Logan%22_Howlett)<\/td>\n",
       "      <td>Public Identity<\/td>\n",
       "      <td>Neutral Characters<\/td>\n",
       "      <td>Blue Eyes<\/td>\n",
       "      <td>Black Hair<\/td>\n",
       "      <td>Male Characters<\/td>\n",
       "      <td>NaN<\/td>\n",
       "      <td>Living Characters<\/td>\n",
       "      <td>3061.0<\/td>\n",
       "      <td>Oct-74<\/td>\n",
       "      <td>1974.0<\/td>\n",
       "    <\/tr>\n",
       "    <tr>\n",
       "      <th>3<\/th>\n",
       "      <td>1868<\/td>\n",
       "      <td>Iron Man (Anthony \\\"Tony\\\" Stark)<\/td>\n",
       "      <td>\\\/Iron_Man_(Anthony_%22Tony%22_Stark)<\/td>\n",
       "      <td>Public Identity<\/td>\n",
       "      <td>Good Characters<\/td>\n",
       "      <td>Blue Eyes<\/td>\n",
       "      <td>Black Hair<\/td>\n",
       "      <td>Male Characters<\/td>\n",
       "      <td>NaN<\/td>\n",
       "      <td>Living Characters<\/td>\n",
       "      <td>2961.0<\/td>\n",
       "      <td>Mar-63<\/td>\n",
       "      <td>1963.0<\/td>\n",
       "    <\/tr>\n",
       "    <tr>\n",
       "      <th>4<\/th>\n",
       "      <td>2460<\/td>\n",
       "      <td>Thor (Thor Odinson)<\/td>\n",
       "      <td>\\\/Thor_(Thor_Odinson)<\/td>\n",
       "      <td>No Dual Identity<\/td>\n",
       "      <td>Good Characters<\/td>\n",
       "      <td>Blue Eyes<\/td>\n",
       "      <td>Blond Hair<\/td>\n",
       "      <td>Male Characters<\/td>\n",
       "      <td>NaN<\/td>\n",
       "      <td>Living Characters<\/td>\n",
       "      <td>2258.0<\/td>\n",
       "      <td>Nov-50<\/td>\n",
       "      <td>1950.0<\/td>\n",
       "    <\/tr>\n",
       "  <\/tbody>\n",
       "<\/table>\n",
       "<\/div>"
      ]
     },
     "metadata":{
      
     },
     "output_type":"display_data"
    }
   ],
   "metadata":{
    "datalore":{
     "type":"CODE",
     "hide_input_from_viewers":false,
     "hide_output_from_viewers":false
    }
   }
  },
  {
   "cell_type":"code",
   "source":[
    "plt.figure(figsize=(12,6))\n",
    "ax = sns.countplot(x=\"ID\", hue=\"ALIGN\", data=DC_data)"
   ],
   "execution_count":9,
   "outputs":[
    {
     "data":{
      "image\/png":"[encoded data removed]"
     },
     "metadata":{
      "image\/png":{
       
      }
     },
     "output_type":"display_data"
    }
   ],
   "metadata":{
    "datalore":{
     "type":"CODE",
     "hide_input_from_viewers":false,
     "hide_output_from_viewers":false
    }
   }
  },
  {
   "cell_type":"code",
   "source":[
    "g = sns.catplot(x=\"ID\", hue=\"ALIGN\", col=\"SEX\",\n",
    "                data=DC_data, kind=\"count\",\n",
    "                height=10, aspect=.7);"
   ],
   "execution_count":10,
   "outputs":[
    {
     "data":{
      "image\/png":"[encoded data removed]"
     },
     "metadata":{
      "image\/png":{
       
      }
     },
     "output_type":"display_data"
    }
   ],
   "metadata":{
    "datalore":{
     "type":"CODE",
     "hide_input_from_viewers":false,
     "hide_output_from_viewers":false
    }
   }
  },
  {
   "cell_type":"code",
   "source":[
    "plt.figure(figsize=(8,6))\n",
    "ax = sns.countplot(x='ALIGN', data=MVL_data)\n",
    "ax.bar_label(ax.containers[0])\n",
    "plt.title(\"Marvel Characters\")"
   ],
   "execution_count":11,
   "outputs":[
    {
     "data":{
      "text\/plain":[
       "Text(0.5, 1.0, 'Marvel Characters')"
      ],
      "image\/png":"[encoded data removed]"
     },
     "metadata":{
      "image\/png":{
       
      }
     },
     "output_type":"display_data"
    }
   ],
   "metadata":{
    "datalore":{
     "type":"CODE",
     "hide_input_from_viewers":false,
     "hide_output_from_viewers":false
    }
   }
  },
  {
   "cell_type":"code",
   "source":[
    "plt.figure(figsize=(8,6))\n",
    "ax1 = sns.countplot(x=\"ALIGN\", data=DC_data)\n",
    "ax1.bar_label(ax1.containers[0])\n",
    "plt.title(\"DC Characters\")"
   ],
   "execution_count":12,
   "outputs":[
    {
     "data":{
      "text\/plain":[
       "Text(0.5, 1.0, 'DC Characters')"
      ],
      "image\/png":"[encoded data removed]"
     },
     "metadata":{
      "image\/png":{
       
      }
     },
     "output_type":"display_data"
    }
   ],
   "metadata":{
    "datalore":{
     "type":"CODE",
     "hide_input_from_viewers":false,
     "hide_output_from_viewers":false
    }
   }
  },
  {
   "cell_type":"code",
   "source":[
    "print('\\tMARVEL\\nNULL\\t\\t\\t{}\\n{}'.format(MVL_data[\"GSM\"].isna().sum(), MVL_data[\"GSM\"].value_counts()))\n",
    "print('\\tDC\\nNULL\\t\\t\\t{}\\n{}'.format(DC_data[\"GSM\"].isna().sum(), DC_data[\"GSM\"].value_counts()))"
   ],
   "execution_count":13,
   "outputs":[
    {
     "name":"stdout",
     "text":[
      "\tMARVEL\n",
      "NULL\t\t\t16286\n",
      "Homosexual Characters     66\n",
      "Bisexual Characters       19\n",
      "Transgender Characters     2\n",
      "Transvestites              1\n",
      "Pansexual Characters       1\n",
      "Genderfluid Characters     1\n",
      "Name: GSM, dtype: int64\n",
      "\tDC\n",
      "NULL\t\t\t6832\n",
      "Homosexual Characters    54\n",
      "Bisexual Characters      10\n",
      "Name: GSM, dtype: int64\n"
     ],
     "output_type":"stream"
    }
   ],
   "metadata":{
    "datalore":{
     "type":"CODE",
     "hide_input_from_viewers":false,
     "hide_output_from_viewers":false
    }
   }
  },
  {
   "cell_type":"code",
   "source":[
    "plt.figure(figsize=(12,6))\n",
    "sns.countplot(x=\"ALIVE\",hue=\"ALIGN\",data=DC_data)\n",
    "plt.title(\"Alive of DC\")\n",
    "sns.set()"
   ],
   "execution_count":14,
   "outputs":[
    {
     "data":{
      "image\/png":"[encoded data removed]"
     },
     "metadata":{
      "image\/png":{
       
      }
     },
     "output_type":"display_data"
    }
   ],
   "metadata":{
    "datalore":{
     "type":"CODE",
     "hide_input_from_viewers":false,
     "hide_output_from_viewers":false
    }
   }
  },
  {
   "cell_type":"code",
   "source":[
    "plt.figure(figsize=(12,6))\n",
    "sns.countplot(x=\"ALIVE\",hue=\"ALIGN\",data=MVL_data)\n",
    "plt.title(\"Alive of Marvel\")\n",
    "sns.set()"
   ],
   "execution_count":15,
   "outputs":[
    {
     "data":{
      "image\/png":"[encoded data removed]"
     },
     "metadata":{
      "image\/png":{
       
      }
     },
     "output_type":"display_data"
    }
   ],
   "metadata":{
    "datalore":{
     "type":"CODE",
     "hide_input_from_viewers":false,
     "hide_output_from_viewers":false
    }
   }
  },
  {
   "cell_type":"code",
   "source":[
    "import plotly.express as px\n",
    "fig = px.histogram(DC_data,x='YEAR')\n",
    "fig.update_layout(height=800,title_text=\"superheroes over the Years (DC)\")\n",
    "fig.show()"
   ],
   "execution_count":16,
   "outputs":[
    {
     "data":{
      "text\/plain":[
       "Unsupported"
      ]
     },
     "metadata":{
      
     },
     "output_type":"display_data"
    }
   ],
   "metadata":{
    "datalore":{
     "type":"CODE",
     "hide_input_from_viewers":false,
     "hide_output_from_viewers":false
    }
   }
  },
  {
   "cell_type":"code",
   "source":[
    "fig = px.histogram(MVL_data,x='YEAR')\n",
    "fig.update_layout(height=800,title_text=\"superheroes over the Years (Marvel)\")\n",
    "fig.show()"
   ],
   "execution_count":19,
   "outputs":[
    {
     "data":{
      "text\/plain":[
       "Unsupported"
      ]
     },
     "metadata":{
      
     },
     "output_type":"display_data"
    }
   ],
   "metadata":{
    "datalore":{
     "type":"CODE",
     "hide_input_from_viewers":false,
     "hide_output_from_viewers":false
    }
   }
  }
 ],
 "metadata":{
  "datalore":{
   "version":1,
   "computation_mode":"JUPYTER",
   "package_manager":"pip",
   "base_environment":"default",
   "packages":[
    
   ]
  }
 },
 "nbformat":4,
 "nbformat_minor":4
}