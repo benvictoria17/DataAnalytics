{
  "nbformat": 4,
  "nbformat_minor": 0,
  "metadata": {
    "kernelspec": {
      "language": "python",
      "display_name": "Python 3",
      "name": "python3"
    },
    "language_info": {
      "pygments_lexer": "ipython3",
      "nbconvert_exporter": "python",
      "version": "3.6.4",
      "file_extension": ".py",
      "codemirror_mode": {
        "name": "ipython",
        "version": 3
      },
      "name": "python",
      "mimetype": "text/x-python"
    },
    "colab": {
      "name": " nintendo-co-ltd-ntdoy.ipynb",
      "provenance": [],
      "include_colab_link": true
    }
  },
  "cells": [
    {
      "cell_type": "markdown",
      "metadata": {
        "id": "view-in-github",
        "colab_type": "text"
      },
      "source": [
        "<a href=\"https://colab.research.google.com/github/benvictoria21/AnalyzeStocks/blob/master/nintendo_co_ltd_ntdoy.ipynb\" target=\"_parent\"><img src=\"https://colab.research.google.com/assets/colab-badge.svg\" alt=\"Open In Colab\"/></a>"
      ]
    },
    {
      "cell_type": "code",
      "metadata": {
        "id": "qvKTPiiJz_tm",
        "trusted": true,
        "outputId": "6b4a4b2e-8c94-487c-8b39-779b9d25c21f",
        "colab": {
          "base_uri": "https://localhost:8080/"
        }
      },
      "source": [
        "!pip install  yfinance"
      ],
      "execution_count": 1,
      "outputs": [
        {
          "output_type": "stream",
          "text": [
            "Collecting yfinance\n",
            "  Downloading https://files.pythonhosted.org/packages/7a/e8/b9d7104d3a4bf39924799067592d9e59119fcfc900a425a12e80a3123ec8/yfinance-0.1.55.tar.gz\n",
            "Requirement already satisfied: pandas>=0.24 in /usr/local/lib/python3.6/dist-packages (from yfinance) (1.1.4)\n",
            "Requirement already satisfied: numpy>=1.15 in /usr/local/lib/python3.6/dist-packages (from yfinance) (1.18.5)\n",
            "Requirement already satisfied: requests>=2.20 in /usr/local/lib/python3.6/dist-packages (from yfinance) (2.23.0)\n",
            "Requirement already satisfied: multitasking>=0.0.7 in /usr/local/lib/python3.6/dist-packages (from yfinance) (0.0.9)\n",
            "Collecting lxml>=4.5.1\n",
            "\u001b[?25l  Downloading https://files.pythonhosted.org/packages/64/28/0b761b64ecbd63d272ed0e7a6ae6e4402fc37886b59181bfdf274424d693/lxml-4.6.1-cp36-cp36m-manylinux1_x86_64.whl (5.5MB)\n",
            "\u001b[K     |████████████████████████████████| 5.5MB 6.4MB/s \n",
            "\u001b[?25hRequirement already satisfied: python-dateutil>=2.7.3 in /usr/local/lib/python3.6/dist-packages (from pandas>=0.24->yfinance) (2.8.1)\n",
            "Requirement already satisfied: pytz>=2017.2 in /usr/local/lib/python3.6/dist-packages (from pandas>=0.24->yfinance) (2018.9)\n",
            "Requirement already satisfied: idna<3,>=2.5 in /usr/local/lib/python3.6/dist-packages (from requests>=2.20->yfinance) (2.10)\n",
            "Requirement already satisfied: chardet<4,>=3.0.2 in /usr/local/lib/python3.6/dist-packages (from requests>=2.20->yfinance) (3.0.4)\n",
            "Requirement already satisfied: certifi>=2017.4.17 in /usr/local/lib/python3.6/dist-packages (from requests>=2.20->yfinance) (2020.11.8)\n",
            "Requirement already satisfied: urllib3!=1.25.0,!=1.25.1,<1.26,>=1.21.1 in /usr/local/lib/python3.6/dist-packages (from requests>=2.20->yfinance) (1.24.3)\n",
            "Requirement already satisfied: six>=1.5 in /usr/local/lib/python3.6/dist-packages (from python-dateutil>=2.7.3->pandas>=0.24->yfinance) (1.15.0)\n",
            "Building wheels for collected packages: yfinance\n",
            "  Building wheel for yfinance (setup.py) ... \u001b[?25l\u001b[?25hdone\n",
            "  Created wheel for yfinance: filename=yfinance-0.1.55-py2.py3-none-any.whl size=22618 sha256=0d5d9e2b6ff0eb7644a8a7ca5d76998400c3881baa918a8a46f5f295aaafa722\n",
            "  Stored in directory: /root/.cache/pip/wheels/04/98/cc/2702a4242d60bdc14f48b4557c427ded1fe92aedf257d4565c\n",
            "Successfully built yfinance\n",
            "Installing collected packages: lxml, yfinance\n",
            "  Found existing installation: lxml 4.2.6\n",
            "    Uninstalling lxml-4.2.6:\n",
            "      Successfully uninstalled lxml-4.2.6\n",
            "Successfully installed lxml-4.6.1 yfinance-0.1.55\n"
          ],
          "name": "stdout"
        }
      ]
    },
    {
      "cell_type": "code",
      "metadata": {
        "id": "eIBMY9O70P2h",
        "trusted": true
      },
      "source": [
        "import pandas as pd \n",
        "import numpy as np \n",
        "import matplotlib.pyplot as plt\n",
        "import pandas_datareader\n",
        "import sqlite3\n",
        "import yfinance"
      ],
      "execution_count": 2,
      "outputs": []
    },
    {
      "cell_type": "code",
      "metadata": {
        "id": "SEpNfeXo0QFH",
        "trusted": true,
        "outputId": "9859fa45-629f-44ed-9aa2-05af0286b06d",
        "colab": {
          "base_uri": "https://localhost:8080/",
          "height": 467
        }
      },
      "source": [
        "NTDOY = yfinance.download(\"NTDOY\")\n",
        "\n",
        "NTDOY"
      ],
      "execution_count": 3,
      "outputs": [
        {
          "output_type": "stream",
          "text": [
            "\r[*********************100%***********************]  1 of 1 completed\n"
          ],
          "name": "stdout"
        },
        {
          "output_type": "execute_result",
          "data": {
            "text/html": [
              "<div>\n",
              "<style scoped>\n",
              "    .dataframe tbody tr th:only-of-type {\n",
              "        vertical-align: middle;\n",
              "    }\n",
              "\n",
              "    .dataframe tbody tr th {\n",
              "        vertical-align: top;\n",
              "    }\n",
              "\n",
              "    .dataframe thead th {\n",
              "        text-align: right;\n",
              "    }\n",
              "</style>\n",
              "<table border=\"1\" class=\"dataframe\">\n",
              "  <thead>\n",
              "    <tr style=\"text-align: right;\">\n",
              "      <th></th>\n",
              "      <th>Open</th>\n",
              "      <th>High</th>\n",
              "      <th>Low</th>\n",
              "      <th>Close</th>\n",
              "      <th>Adj Close</th>\n",
              "      <th>Volume</th>\n",
              "    </tr>\n",
              "    <tr>\n",
              "      <th>Date</th>\n",
              "      <th></th>\n",
              "      <th></th>\n",
              "      <th></th>\n",
              "      <th></th>\n",
              "      <th></th>\n",
              "      <th></th>\n",
              "    </tr>\n",
              "  </thead>\n",
              "  <tbody>\n",
              "    <tr>\n",
              "      <th>1996-11-18</th>\n",
              "      <td>9.000000</td>\n",
              "      <td>9.000000</td>\n",
              "      <td>8.625000</td>\n",
              "      <td>9.000000</td>\n",
              "      <td>6.100809</td>\n",
              "      <td>81300</td>\n",
              "    </tr>\n",
              "    <tr>\n",
              "      <th>1996-11-19</th>\n",
              "      <td>9.000000</td>\n",
              "      <td>9.000000</td>\n",
              "      <td>8.625000</td>\n",
              "      <td>9.000000</td>\n",
              "      <td>6.100809</td>\n",
              "      <td>138100</td>\n",
              "    </tr>\n",
              "    <tr>\n",
              "      <th>1996-11-20</th>\n",
              "      <td>9.062500</td>\n",
              "      <td>9.250000</td>\n",
              "      <td>8.500000</td>\n",
              "      <td>9.062500</td>\n",
              "      <td>6.143176</td>\n",
              "      <td>56000</td>\n",
              "    </tr>\n",
              "    <tr>\n",
              "      <th>1996-11-21</th>\n",
              "      <td>9.000000</td>\n",
              "      <td>9.125000</td>\n",
              "      <td>8.562500</td>\n",
              "      <td>9.000000</td>\n",
              "      <td>6.100809</td>\n",
              "      <td>91700</td>\n",
              "    </tr>\n",
              "    <tr>\n",
              "      <th>1996-11-22</th>\n",
              "      <td>9.125000</td>\n",
              "      <td>9.250000</td>\n",
              "      <td>8.750000</td>\n",
              "      <td>9.125000</td>\n",
              "      <td>6.185543</td>\n",
              "      <td>200100</td>\n",
              "    </tr>\n",
              "    <tr>\n",
              "      <th>...</th>\n",
              "      <td>...</td>\n",
              "      <td>...</td>\n",
              "      <td>...</td>\n",
              "      <td>...</td>\n",
              "      <td>...</td>\n",
              "      <td>...</td>\n",
              "    </tr>\n",
              "    <tr>\n",
              "      <th>2020-11-19</th>\n",
              "      <td>66.150002</td>\n",
              "      <td>67.059998</td>\n",
              "      <td>65.019997</td>\n",
              "      <td>66.820000</td>\n",
              "      <td>66.820000</td>\n",
              "      <td>1564800</td>\n",
              "    </tr>\n",
              "    <tr>\n",
              "      <th>2020-11-20</th>\n",
              "      <td>66.889999</td>\n",
              "      <td>66.889999</td>\n",
              "      <td>65.750000</td>\n",
              "      <td>66.320000</td>\n",
              "      <td>66.320000</td>\n",
              "      <td>537300</td>\n",
              "    </tr>\n",
              "    <tr>\n",
              "      <th>2020-11-23</th>\n",
              "      <td>67.000000</td>\n",
              "      <td>67.070000</td>\n",
              "      <td>65.940002</td>\n",
              "      <td>66.339996</td>\n",
              "      <td>66.339996</td>\n",
              "      <td>762100</td>\n",
              "    </tr>\n",
              "    <tr>\n",
              "      <th>2020-11-24</th>\n",
              "      <td>66.279999</td>\n",
              "      <td>66.279999</td>\n",
              "      <td>65.610001</td>\n",
              "      <td>65.820000</td>\n",
              "      <td>65.820000</td>\n",
              "      <td>567600</td>\n",
              "    </tr>\n",
              "    <tr>\n",
              "      <th>2020-11-25</th>\n",
              "      <td>66.500000</td>\n",
              "      <td>66.989998</td>\n",
              "      <td>65.949997</td>\n",
              "      <td>66.599998</td>\n",
              "      <td>66.599998</td>\n",
              "      <td>846175</td>\n",
              "    </tr>\n",
              "  </tbody>\n",
              "</table>\n",
              "<p>6047 rows × 6 columns</p>\n",
              "</div>"
            ],
            "text/plain": [
              "                 Open       High        Low      Close  Adj Close   Volume\n",
              "Date                                                                      \n",
              "1996-11-18   9.000000   9.000000   8.625000   9.000000   6.100809    81300\n",
              "1996-11-19   9.000000   9.000000   8.625000   9.000000   6.100809   138100\n",
              "1996-11-20   9.062500   9.250000   8.500000   9.062500   6.143176    56000\n",
              "1996-11-21   9.000000   9.125000   8.562500   9.000000   6.100809    91700\n",
              "1996-11-22   9.125000   9.250000   8.750000   9.125000   6.185543   200100\n",
              "...               ...        ...        ...        ...        ...      ...\n",
              "2020-11-19  66.150002  67.059998  65.019997  66.820000  66.820000  1564800\n",
              "2020-11-20  66.889999  66.889999  65.750000  66.320000  66.320000   537300\n",
              "2020-11-23  67.000000  67.070000  65.940002  66.339996  66.339996   762100\n",
              "2020-11-24  66.279999  66.279999  65.610001  65.820000  65.820000   567600\n",
              "2020-11-25  66.500000  66.989998  65.949997  66.599998  66.599998   846175\n",
              "\n",
              "[6047 rows x 6 columns]"
            ]
          },
          "metadata": {
            "tags": []
          },
          "execution_count": 3
        }
      ]
    },
    {
      "cell_type": "code",
      "metadata": {
        "id": "CfeiZ4-v0QIK",
        "trusted": true,
        "outputId": "c317d456-ea41-406d-a94e-0821767ff805",
        "colab": {
          "base_uri": "https://localhost:8080/",
          "height": 235
        }
      },
      "source": [
        "NTDOY.head()"
      ],
      "execution_count": 4,
      "outputs": [
        {
          "output_type": "execute_result",
          "data": {
            "text/html": [
              "<div>\n",
              "<style scoped>\n",
              "    .dataframe tbody tr th:only-of-type {\n",
              "        vertical-align: middle;\n",
              "    }\n",
              "\n",
              "    .dataframe tbody tr th {\n",
              "        vertical-align: top;\n",
              "    }\n",
              "\n",
              "    .dataframe thead th {\n",
              "        text-align: right;\n",
              "    }\n",
              "</style>\n",
              "<table border=\"1\" class=\"dataframe\">\n",
              "  <thead>\n",
              "    <tr style=\"text-align: right;\">\n",
              "      <th></th>\n",
              "      <th>Open</th>\n",
              "      <th>High</th>\n",
              "      <th>Low</th>\n",
              "      <th>Close</th>\n",
              "      <th>Adj Close</th>\n",
              "      <th>Volume</th>\n",
              "    </tr>\n",
              "    <tr>\n",
              "      <th>Date</th>\n",
              "      <th></th>\n",
              "      <th></th>\n",
              "      <th></th>\n",
              "      <th></th>\n",
              "      <th></th>\n",
              "      <th></th>\n",
              "    </tr>\n",
              "  </thead>\n",
              "  <tbody>\n",
              "    <tr>\n",
              "      <th>1996-11-18</th>\n",
              "      <td>9.0000</td>\n",
              "      <td>9.000</td>\n",
              "      <td>8.6250</td>\n",
              "      <td>9.0000</td>\n",
              "      <td>6.100809</td>\n",
              "      <td>81300</td>\n",
              "    </tr>\n",
              "    <tr>\n",
              "      <th>1996-11-19</th>\n",
              "      <td>9.0000</td>\n",
              "      <td>9.000</td>\n",
              "      <td>8.6250</td>\n",
              "      <td>9.0000</td>\n",
              "      <td>6.100809</td>\n",
              "      <td>138100</td>\n",
              "    </tr>\n",
              "    <tr>\n",
              "      <th>1996-11-20</th>\n",
              "      <td>9.0625</td>\n",
              "      <td>9.250</td>\n",
              "      <td>8.5000</td>\n",
              "      <td>9.0625</td>\n",
              "      <td>6.143176</td>\n",
              "      <td>56000</td>\n",
              "    </tr>\n",
              "    <tr>\n",
              "      <th>1996-11-21</th>\n",
              "      <td>9.0000</td>\n",
              "      <td>9.125</td>\n",
              "      <td>8.5625</td>\n",
              "      <td>9.0000</td>\n",
              "      <td>6.100809</td>\n",
              "      <td>91700</td>\n",
              "    </tr>\n",
              "    <tr>\n",
              "      <th>1996-11-22</th>\n",
              "      <td>9.1250</td>\n",
              "      <td>9.250</td>\n",
              "      <td>8.7500</td>\n",
              "      <td>9.1250</td>\n",
              "      <td>6.185543</td>\n",
              "      <td>200100</td>\n",
              "    </tr>\n",
              "  </tbody>\n",
              "</table>\n",
              "</div>"
            ],
            "text/plain": [
              "              Open   High     Low   Close  Adj Close  Volume\n",
              "Date                                                        \n",
              "1996-11-18  9.0000  9.000  8.6250  9.0000   6.100809   81300\n",
              "1996-11-19  9.0000  9.000  8.6250  9.0000   6.100809  138100\n",
              "1996-11-20  9.0625  9.250  8.5000  9.0625   6.143176   56000\n",
              "1996-11-21  9.0000  9.125  8.5625  9.0000   6.100809   91700\n",
              "1996-11-22  9.1250  9.250  8.7500  9.1250   6.185543  200100"
            ]
          },
          "metadata": {
            "tags": []
          },
          "execution_count": 4
        }
      ]
    },
    {
      "cell_type": "code",
      "metadata": {
        "id": "aX87cago0QLn",
        "trusted": true,
        "outputId": "e6789588-05a8-465a-a5cb-ea2af7ec1145",
        "colab": {
          "base_uri": "https://localhost:8080/",
          "height": 235
        }
      },
      "source": [
        "NTDOY.tail()"
      ],
      "execution_count": 5,
      "outputs": [
        {
          "output_type": "execute_result",
          "data": {
            "text/html": [
              "<div>\n",
              "<style scoped>\n",
              "    .dataframe tbody tr th:only-of-type {\n",
              "        vertical-align: middle;\n",
              "    }\n",
              "\n",
              "    .dataframe tbody tr th {\n",
              "        vertical-align: top;\n",
              "    }\n",
              "\n",
              "    .dataframe thead th {\n",
              "        text-align: right;\n",
              "    }\n",
              "</style>\n",
              "<table border=\"1\" class=\"dataframe\">\n",
              "  <thead>\n",
              "    <tr style=\"text-align: right;\">\n",
              "      <th></th>\n",
              "      <th>Open</th>\n",
              "      <th>High</th>\n",
              "      <th>Low</th>\n",
              "      <th>Close</th>\n",
              "      <th>Adj Close</th>\n",
              "      <th>Volume</th>\n",
              "    </tr>\n",
              "    <tr>\n",
              "      <th>Date</th>\n",
              "      <th></th>\n",
              "      <th></th>\n",
              "      <th></th>\n",
              "      <th></th>\n",
              "      <th></th>\n",
              "      <th></th>\n",
              "    </tr>\n",
              "  </thead>\n",
              "  <tbody>\n",
              "    <tr>\n",
              "      <th>2020-11-19</th>\n",
              "      <td>66.150002</td>\n",
              "      <td>67.059998</td>\n",
              "      <td>65.019997</td>\n",
              "      <td>66.820000</td>\n",
              "      <td>66.820000</td>\n",
              "      <td>1564800</td>\n",
              "    </tr>\n",
              "    <tr>\n",
              "      <th>2020-11-20</th>\n",
              "      <td>66.889999</td>\n",
              "      <td>66.889999</td>\n",
              "      <td>65.750000</td>\n",
              "      <td>66.320000</td>\n",
              "      <td>66.320000</td>\n",
              "      <td>537300</td>\n",
              "    </tr>\n",
              "    <tr>\n",
              "      <th>2020-11-23</th>\n",
              "      <td>67.000000</td>\n",
              "      <td>67.070000</td>\n",
              "      <td>65.940002</td>\n",
              "      <td>66.339996</td>\n",
              "      <td>66.339996</td>\n",
              "      <td>762100</td>\n",
              "    </tr>\n",
              "    <tr>\n",
              "      <th>2020-11-24</th>\n",
              "      <td>66.279999</td>\n",
              "      <td>66.279999</td>\n",
              "      <td>65.610001</td>\n",
              "      <td>65.820000</td>\n",
              "      <td>65.820000</td>\n",
              "      <td>567600</td>\n",
              "    </tr>\n",
              "    <tr>\n",
              "      <th>2020-11-25</th>\n",
              "      <td>66.500000</td>\n",
              "      <td>66.989998</td>\n",
              "      <td>65.949997</td>\n",
              "      <td>66.599998</td>\n",
              "      <td>66.599998</td>\n",
              "      <td>846175</td>\n",
              "    </tr>\n",
              "  </tbody>\n",
              "</table>\n",
              "</div>"
            ],
            "text/plain": [
              "                 Open       High        Low      Close  Adj Close   Volume\n",
              "Date                                                                      \n",
              "2020-11-19  66.150002  67.059998  65.019997  66.820000  66.820000  1564800\n",
              "2020-11-20  66.889999  66.889999  65.750000  66.320000  66.320000   537300\n",
              "2020-11-23  67.000000  67.070000  65.940002  66.339996  66.339996   762100\n",
              "2020-11-24  66.279999  66.279999  65.610001  65.820000  65.820000   567600\n",
              "2020-11-25  66.500000  66.989998  65.949997  66.599998  66.599998   846175"
            ]
          },
          "metadata": {
            "tags": []
          },
          "execution_count": 5
        }
      ]
    },
    {
      "cell_type": "code",
      "metadata": {
        "id": "9czxv7kJ0QOD",
        "trusted": true,
        "outputId": "b2898727-6a16-46ef-c292-b71af58af895",
        "colab": {
          "base_uri": "https://localhost:8080/",
          "height": 297
        }
      },
      "source": [
        "NTDOY.describe()"
      ],
      "execution_count": 6,
      "outputs": [
        {
          "output_type": "execute_result",
          "data": {
            "text/html": [
              "<div>\n",
              "<style scoped>\n",
              "    .dataframe tbody tr th:only-of-type {\n",
              "        vertical-align: middle;\n",
              "    }\n",
              "\n",
              "    .dataframe tbody tr th {\n",
              "        vertical-align: top;\n",
              "    }\n",
              "\n",
              "    .dataframe thead th {\n",
              "        text-align: right;\n",
              "    }\n",
              "</style>\n",
              "<table border=\"1\" class=\"dataframe\">\n",
              "  <thead>\n",
              "    <tr style=\"text-align: right;\">\n",
              "      <th></th>\n",
              "      <th>Open</th>\n",
              "      <th>High</th>\n",
              "      <th>Low</th>\n",
              "      <th>Close</th>\n",
              "      <th>Adj Close</th>\n",
              "      <th>Volume</th>\n",
              "    </tr>\n",
              "  </thead>\n",
              "  <tbody>\n",
              "    <tr>\n",
              "      <th>count</th>\n",
              "      <td>6047.000000</td>\n",
              "      <td>6047.000000</td>\n",
              "      <td>6047.000000</td>\n",
              "      <td>6047.000000</td>\n",
              "      <td>6047.000000</td>\n",
              "      <td>6.047000e+03</td>\n",
              "    </tr>\n",
              "    <tr>\n",
              "      <th>mean</th>\n",
              "      <td>26.183905</td>\n",
              "      <td>26.501610</td>\n",
              "      <td>25.861381</td>\n",
              "      <td>26.194985</td>\n",
              "      <td>22.170024</td>\n",
              "      <td>2.103698e+05</td>\n",
              "    </tr>\n",
              "    <tr>\n",
              "      <th>std</th>\n",
              "      <td>15.882455</td>\n",
              "      <td>15.994209</td>\n",
              "      <td>15.745826</td>\n",
              "      <td>15.888899</td>\n",
              "      <td>14.778342</td>\n",
              "      <td>4.653783e+05</td>\n",
              "    </tr>\n",
              "    <tr>\n",
              "      <th>min</th>\n",
              "      <td>7.750000</td>\n",
              "      <td>8.000000</td>\n",
              "      <td>6.700000</td>\n",
              "      <td>7.750000</td>\n",
              "      <td>5.253475</td>\n",
              "      <td>0.000000e+00</td>\n",
              "    </tr>\n",
              "    <tr>\n",
              "      <th>25%</th>\n",
              "      <td>13.860000</td>\n",
              "      <td>14.000000</td>\n",
              "      <td>13.750000</td>\n",
              "      <td>13.865000</td>\n",
              "      <td>11.095300</td>\n",
              "      <td>3.400000e+04</td>\n",
              "    </tr>\n",
              "    <tr>\n",
              "      <th>50%</th>\n",
              "      <td>20.000000</td>\n",
              "      <td>20.500000</td>\n",
              "      <td>19.530001</td>\n",
              "      <td>20.000000</td>\n",
              "      <td>15.539374</td>\n",
              "      <td>8.840000e+04</td>\n",
              "    </tr>\n",
              "    <tr>\n",
              "      <th>75%</th>\n",
              "      <td>35.099998</td>\n",
              "      <td>35.500000</td>\n",
              "      <td>34.750000</td>\n",
              "      <td>35.189999</td>\n",
              "      <td>30.513601</td>\n",
              "      <td>2.425500e+05</td>\n",
              "    </tr>\n",
              "    <tr>\n",
              "      <th>max</th>\n",
              "      <td>78.500000</td>\n",
              "      <td>78.500000</td>\n",
              "      <td>77.599998</td>\n",
              "      <td>78.500000</td>\n",
              "      <td>72.699997</td>\n",
              "      <td>1.340180e+07</td>\n",
              "    </tr>\n",
              "  </tbody>\n",
              "</table>\n",
              "</div>"
            ],
            "text/plain": [
              "              Open         High  ...    Adj Close        Volume\n",
              "count  6047.000000  6047.000000  ...  6047.000000  6.047000e+03\n",
              "mean     26.183905    26.501610  ...    22.170024  2.103698e+05\n",
              "std      15.882455    15.994209  ...    14.778342  4.653783e+05\n",
              "min       7.750000     8.000000  ...     5.253475  0.000000e+00\n",
              "25%      13.860000    14.000000  ...    11.095300  3.400000e+04\n",
              "50%      20.000000    20.500000  ...    15.539374  8.840000e+04\n",
              "75%      35.099998    35.500000  ...    30.513601  2.425500e+05\n",
              "max      78.500000    78.500000  ...    72.699997  1.340180e+07\n",
              "\n",
              "[8 rows x 6 columns]"
            ]
          },
          "metadata": {
            "tags": []
          },
          "execution_count": 6
        }
      ]
    },
    {
      "cell_type": "code",
      "metadata": {
        "id": "5u5Xh_cG07P-",
        "trusted": true,
        "outputId": "846c479a-cb57-4c10-8419-2c59c3ba3839",
        "colab": {
          "base_uri": "https://localhost:8080/"
        }
      },
      "source": [
        "NTDOY.info"
      ],
      "execution_count": 7,
      "outputs": [
        {
          "output_type": "execute_result",
          "data": {
            "text/plain": [
              "<bound method DataFrame.info of                  Open       High        Low      Close  Adj Close   Volume\n",
              "Date                                                                      \n",
              "1996-11-18   9.000000   9.000000   8.625000   9.000000   6.100809    81300\n",
              "1996-11-19   9.000000   9.000000   8.625000   9.000000   6.100809   138100\n",
              "1996-11-20   9.062500   9.250000   8.500000   9.062500   6.143176    56000\n",
              "1996-11-21   9.000000   9.125000   8.562500   9.000000   6.100809    91700\n",
              "1996-11-22   9.125000   9.250000   8.750000   9.125000   6.185543   200100\n",
              "...               ...        ...        ...        ...        ...      ...\n",
              "2020-11-19  66.150002  67.059998  65.019997  66.820000  66.820000  1564800\n",
              "2020-11-20  66.889999  66.889999  65.750000  66.320000  66.320000   537300\n",
              "2020-11-23  67.000000  67.070000  65.940002  66.339996  66.339996   762100\n",
              "2020-11-24  66.279999  66.279999  65.610001  65.820000  65.820000   567600\n",
              "2020-11-25  66.500000  66.989998  65.949997  66.599998  66.599998   846175\n",
              "\n",
              "[6047 rows x 6 columns]>"
            ]
          },
          "metadata": {
            "tags": []
          },
          "execution_count": 7
        }
      ]
    },
    {
      "cell_type": "code",
      "metadata": {
        "id": "u6KedO8v07Vg",
        "trusted": true,
        "outputId": "ee445589-b173-434f-d5e0-468eae3d3982",
        "colab": {
          "base_uri": "https://localhost:8080/"
        }
      },
      "source": [
        "NTDOY.info()"
      ],
      "execution_count": 8,
      "outputs": [
        {
          "output_type": "stream",
          "text": [
            "<class 'pandas.core.frame.DataFrame'>\n",
            "DatetimeIndex: 6047 entries, 1996-11-18 to 2020-11-25\n",
            "Data columns (total 6 columns):\n",
            " #   Column     Non-Null Count  Dtype  \n",
            "---  ------     --------------  -----  \n",
            " 0   Open       6047 non-null   float64\n",
            " 1   High       6047 non-null   float64\n",
            " 2   Low        6047 non-null   float64\n",
            " 3   Close      6047 non-null   float64\n",
            " 4   Adj Close  6047 non-null   float64\n",
            " 5   Volume     6047 non-null   int64  \n",
            "dtypes: float64(5), int64(1)\n",
            "memory usage: 330.7 KB\n"
          ],
          "name": "stdout"
        }
      ]
    },
    {
      "cell_type": "code",
      "metadata": {
        "id": "oinvpXpX07YL",
        "trusted": true,
        "outputId": "a98f2b4b-7e32-44ee-a786-809753944c48",
        "colab": {
          "base_uri": "https://localhost:8080/"
        }
      },
      "source": [
        "NTDOY.Close"
      ],
      "execution_count": 9,
      "outputs": [
        {
          "output_type": "execute_result",
          "data": {
            "text/plain": [
              "Date\n",
              "1996-11-18     9.000000\n",
              "1996-11-19     9.000000\n",
              "1996-11-20     9.062500\n",
              "1996-11-21     9.000000\n",
              "1996-11-22     9.125000\n",
              "                ...    \n",
              "2020-11-19    66.820000\n",
              "2020-11-20    66.320000\n",
              "2020-11-23    66.339996\n",
              "2020-11-24    65.820000\n",
              "2020-11-25    66.599998\n",
              "Name: Close, Length: 6047, dtype: float64"
            ]
          },
          "metadata": {
            "tags": []
          },
          "execution_count": 9
        }
      ]
    },
    {
      "cell_type": "code",
      "metadata": {
        "id": "WiPn6uuf1VLQ",
        "trusted": true,
        "outputId": "7193079a-bfc7-4b07-9fe8-919b4184cf42",
        "colab": {
          "base_uri": "https://localhost:8080/",
          "height": 296
        }
      },
      "source": [
        "plt.xlabel(\"days\")         \n",
        "plt.ylabel(\"price\")    \n",
        "plt.grid()              \n",
        "plt.plot(NTDOY.Close)"
      ],
      "execution_count": 10,
      "outputs": [
        {
          "output_type": "execute_result",
          "data": {
            "text/plain": [
              "[<matplotlib.lines.Line2D at 0x7f6fe06cc7f0>]"
            ]
          },
          "metadata": {
            "tags": []
          },
          "execution_count": 10
        },
        {
          "output_type": "display_data",
          "data": {
            "image/png": "[encoded data removed]",
            "text/plain": [
              "<Figure size 432x288 with 1 Axes>"
            ]
          },
          "metadata": {
            "tags": [],
            "needs_background": "light"
          }
        }
      ]
    },
    {
      "cell_type": "code",
      "metadata": {
        "id": "VethUs1z1VNs",
        "trusted": true,
        "outputId": "e004154e-6fe4-47d7-c707-805a86cb5272",
        "colab": {
          "base_uri": "https://localhost:8080/"
        }
      },
      "source": [
        "NTDOY.High"
      ],
      "execution_count": 11,
      "outputs": [
        {
          "output_type": "execute_result",
          "data": {
            "text/plain": [
              "Date\n",
              "1996-11-18     9.000000\n",
              "1996-11-19     9.000000\n",
              "1996-11-20     9.250000\n",
              "1996-11-21     9.125000\n",
              "1996-11-22     9.250000\n",
              "                ...    \n",
              "2020-11-19    67.059998\n",
              "2020-11-20    66.889999\n",
              "2020-11-23    67.070000\n",
              "2020-11-24    66.279999\n",
              "2020-11-25    66.989998\n",
              "Name: High, Length: 6047, dtype: float64"
            ]
          },
          "metadata": {
            "tags": []
          },
          "execution_count": 11
        }
      ]
    },
    {
      "cell_type": "code",
      "metadata": {
        "id": "JZJtPhal1VQ_",
        "trusted": true,
        "outputId": "f880daa4-1f04-46d9-88af-e9109ea98d46",
        "colab": {
          "base_uri": "https://localhost:8080/",
          "height": 296
        }
      },
      "source": [
        "plt.xlabel(\"days\")        \n",
        "plt.ylabel(\"price\")   \n",
        "plt.grid()              \n",
        "plt.plot(NTDOY.Close)"
      ],
      "execution_count": 12,
      "outputs": [
        {
          "output_type": "execute_result",
          "data": {
            "text/plain": [
              "[<matplotlib.lines.Line2D at 0x7f6fe06629e8>]"
            ]
          },
          "metadata": {
            "tags": []
          },
          "execution_count": 12
        },
        {
          "output_type": "display_data",
          "data": {
            "image/png": "[encoded data removed]",
            "text/plain": [
              "<Figure size 432x288 with 1 Axes>"
            ]
          },
          "metadata": {
            "tags": [],
            "needs_background": "light"
          }
        }
      ]
    },
    {
      "cell_type": "code",
      "metadata": {
        "id": "aZsONKfr1VVr",
        "trusted": true,
        "outputId": "7ac7e7bb-765b-40c9-d51d-83ce47d1a026",
        "colab": {
          "base_uri": "https://localhost:8080/",
          "height": 265
        }
      },
      "source": [
        "plt.plot(NTDOY.High)\n",
        "plt.grid()"
      ],
      "execution_count": 13,
      "outputs": [
        {
          "output_type": "display_data",
          "data": {
            "image/png": "[encoded data removed]",
            "text/plain": [
              "<Figure size 432x288 with 1 Axes>"
            ]
          },
          "metadata": {
            "tags": [],
            "needs_background": "light"
          }
        }
      ]
    },
    {
      "cell_type": "code",
      "metadata": {
        "id": "JshHzpbR1VYN",
        "trusted": true,
        "outputId": "6c5ef859-b387-40f8-bbea-243283166a20",
        "colab": {
          "base_uri": "https://localhost:8080/"
        }
      },
      "source": [
        "NTDOY.shape"
      ],
      "execution_count": 14,
      "outputs": [
        {
          "output_type": "execute_result",
          "data": {
            "text/plain": [
              "(6047, 6)"
            ]
          },
          "metadata": {
            "tags": []
          },
          "execution_count": 14
        }
      ]
    },
    {
      "cell_type": "code",
      "metadata": {
        "id": "URipO-sn1VdX",
        "trusted": true,
        "outputId": "120fc7d0-c488-435d-e5cd-2ce83743dc48",
        "colab": {
          "base_uri": "https://localhost:8080/"
        }
      },
      "source": [
        "NTDOY.Open"
      ],
      "execution_count": 15,
      "outputs": [
        {
          "output_type": "execute_result",
          "data": {
            "text/plain": [
              "Date\n",
              "1996-11-18     9.000000\n",
              "1996-11-19     9.000000\n",
              "1996-11-20     9.062500\n",
              "1996-11-21     9.000000\n",
              "1996-11-22     9.125000\n",
              "                ...    \n",
              "2020-11-19    66.150002\n",
              "2020-11-20    66.889999\n",
              "2020-11-23    67.000000\n",
              "2020-11-24    66.279999\n",
              "2020-11-25    66.500000\n",
              "Name: Open, Length: 6047, dtype: float64"
            ]
          },
          "metadata": {
            "tags": []
          },
          "execution_count": 15
        }
      ]
    },
    {
      "cell_type": "code",
      "metadata": {
        "id": "Ha90w9Ab1VTW",
        "trusted": true,
        "outputId": "1a73ea3d-f2a8-4a4c-fe13-62387aa8513b",
        "colab": {
          "base_uri": "https://localhost:8080/",
          "height": 299
        }
      },
      "source": [
        "print(len(NTDOY.Close))\n",
        "las100_days = NTDOY.High[2316:2415]\n",
        "plt.plot(las100_days)"
      ],
      "execution_count": 16,
      "outputs": [
        {
          "output_type": "stream",
          "text": [
            "6047\n"
          ],
          "name": "stdout"
        },
        {
          "output_type": "execute_result",
          "data": {
            "text/plain": [
              "[<matplotlib.lines.Line2D at 0x7f6fdedb2da0>]"
            ]
          },
          "metadata": {
            "tags": []
          },
          "execution_count": 16
        },
        {
          "output_type": "display_data",
          "data": {
            "image/png": "[encoded data removed]",
            "text/plain": [
              "<Figure size 432x288 with 1 Axes>"
            ]
          },
          "metadata": {
            "tags": [],
            "needs_background": "light"
          }
        }
      ]
    },
    {
      "cell_type": "code",
      "metadata": {
        "id": "cPh_mjkq2EIx",
        "trusted": true,
        "outputId": "9a2df689-a7a1-4b20-9370-f0fae5ca1c3b",
        "colab": {
          "base_uri": "https://localhost:8080/"
        }
      },
      "source": [
        "NTDOY.Close"
      ],
      "execution_count": 17,
      "outputs": [
        {
          "output_type": "execute_result",
          "data": {
            "text/plain": [
              "Date\n",
              "1996-11-18     9.000000\n",
              "1996-11-19     9.000000\n",
              "1996-11-20     9.062500\n",
              "1996-11-21     9.000000\n",
              "1996-11-22     9.125000\n",
              "                ...    \n",
              "2020-11-19    66.820000\n",
              "2020-11-20    66.320000\n",
              "2020-11-23    66.339996\n",
              "2020-11-24    65.820000\n",
              "2020-11-25    66.599998\n",
              "Name: Close, Length: 6047, dtype: float64"
            ]
          },
          "metadata": {
            "tags": []
          },
          "execution_count": 17
        }
      ]
    },
    {
      "cell_type": "code",
      "metadata": {
        "id": "obBRGv3p2atb",
        "trusted": false,
        "outputId": "eb93bd54-f9ad-4f52-8e34-a05f13397566",
        "colab": {
          "base_uri": "https://localhost:8080/"
        }
      },
      "source": [
        "NTDOY.Volume"
      ],
      "execution_count": 18,
      "outputs": [
        {
          "output_type": "execute_result",
          "data": {
            "text/plain": [
              "Date\n",
              "1996-11-18      81300\n",
              "1996-11-19     138100\n",
              "1996-11-20      56000\n",
              "1996-11-21      91700\n",
              "1996-11-22     200100\n",
              "               ...   \n",
              "2020-11-19    1564800\n",
              "2020-11-20     537300\n",
              "2020-11-23     762100\n",
              "2020-11-24     567600\n",
              "2020-11-25     846175\n",
              "Name: Volume, Length: 6047, dtype: int64"
            ]
          },
          "metadata": {
            "tags": []
          },
          "execution_count": 18
        }
      ]
    }
  ]
}