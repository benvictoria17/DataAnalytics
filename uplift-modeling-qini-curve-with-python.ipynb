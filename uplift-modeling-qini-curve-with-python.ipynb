{
 "cells": [
  {
   "cell_type": "code",
   "execution_count": 1,
   "metadata": {
    "_cell_guid": "b1076dfc-b9ad-4769-8c92-a6c4dae69d19",
    "_uuid": "8f2839f25d086af736a60e9eeb907d3b93b6e0e5",
    "execution": {
     "iopub.execute_input": "2021-02-22T02:54:37.769818Z",
     "iopub.status.busy": "2021-02-22T02:54:37.769117Z",
     "iopub.status.idle": "2021-02-22T02:54:38.620772Z",
     "shell.execute_reply": "2021-02-22T02:54:38.619883Z"
    },
    "papermill": {
     "duration": 0.86724,
     "end_time": "2021-02-22T02:54:38.620984",
     "exception": false,
     "start_time": "2021-02-22T02:54:37.753744",
     "status": "completed"
    },
    "tags": []
   },
   "outputs": [],
   "source": [
    "import numpy as np, matplotlib as mpl, matplotlib.pyplot as plt, pandas as pd\n",
    "import seaborn as sns, math, os, warnings \n",
    "warnings.filterwarnings('ignore')"
   ]
  },
  {
   "cell_type": "code",
   "execution_count": 2,
   "metadata": {
    "execution": {
     "iopub.execute_input": "2021-02-22T02:54:38.646005Z",
     "iopub.status.busy": "2021-02-22T02:54:38.645309Z",
     "iopub.status.idle": "2021-02-22T02:54:39.109349Z",
     "shell.execute_reply": "2021-02-22T02:54:39.108483Z"
    },
    "papermill": {
     "duration": 0.479215,
     "end_time": "2021-02-22T02:54:39.109502",
     "exception": false,
     "start_time": "2021-02-22T02:54:38.630287",
     "status": "completed"
    },
    "tags": []
   },
   "outputs": [],
   "source": [
    "df_data = pd.read_csv(\"https://raw.githubusercontent.com/benvictoria17/pandas/master/dataset/Marketing%20Promotion%20Campaign%20Uplift%20Modelling/data.csv\")\n",
    "df_model = df_data.copy()"
   ]
  },
  {
   "cell_type": "code",
   "execution_count": 3,
   "metadata": {
    "execution": {
     "iopub.execute_input": "2021-02-22T02:54:39.140263Z",
     "iopub.status.busy": "2021-02-22T02:54:39.138484Z",
     "iopub.status.idle": "2021-02-22T02:54:39.161915Z",
     "shell.execute_reply": "2021-02-22T02:54:39.162386Z"
    },
    "papermill": {
     "duration": 0.044324,
     "end_time": "2021-02-22T02:54:39.162574",
     "exception": false,
     "start_time": "2021-02-22T02:54:39.118250",
     "status": "completed"
    },
    "tags": []
   },
   "outputs": [
    {
     "data": {
      "text/html": [
       "<div>\n",
       "<style scoped>\n",
       "    .dataframe tbody tr th:only-of-type {\n",
       "        vertical-align: middle;\n",
       "    }\n",
       "\n",
       "    .dataframe tbody tr th {\n",
       "        vertical-align: top;\n",
       "    }\n",
       "\n",
       "    .dataframe thead th {\n",
       "        text-align: right;\n",
       "    }\n",
       "</style>\n",
       "<table border=\"1\" class=\"dataframe\">\n",
       "  <thead>\n",
       "    <tr style=\"text-align: right;\">\n",
       "      <th></th>\n",
       "      <th>recency</th>\n",
       "      <th>history</th>\n",
       "      <th>used_discount</th>\n",
       "      <th>used_bogo</th>\n",
       "      <th>zip_code</th>\n",
       "      <th>is_referral</th>\n",
       "      <th>channel</th>\n",
       "      <th>offer</th>\n",
       "      <th>conversion</th>\n",
       "    </tr>\n",
       "  </thead>\n",
       "  <tbody>\n",
       "    <tr>\n",
       "      <th>0</th>\n",
       "      <td>10</td>\n",
       "      <td>142.44</td>\n",
       "      <td>1</td>\n",
       "      <td>0</td>\n",
       "      <td>Surburban</td>\n",
       "      <td>0</td>\n",
       "      <td>Phone</td>\n",
       "      <td>Buy One Get One</td>\n",
       "      <td>0</td>\n",
       "    </tr>\n",
       "    <tr>\n",
       "      <th>1</th>\n",
       "      <td>6</td>\n",
       "      <td>329.08</td>\n",
       "      <td>1</td>\n",
       "      <td>1</td>\n",
       "      <td>Rural</td>\n",
       "      <td>1</td>\n",
       "      <td>Web</td>\n",
       "      <td>No Offer</td>\n",
       "      <td>0</td>\n",
       "    </tr>\n",
       "    <tr>\n",
       "      <th>2</th>\n",
       "      <td>7</td>\n",
       "      <td>180.65</td>\n",
       "      <td>0</td>\n",
       "      <td>1</td>\n",
       "      <td>Surburban</td>\n",
       "      <td>1</td>\n",
       "      <td>Web</td>\n",
       "      <td>Buy One Get One</td>\n",
       "      <td>0</td>\n",
       "    </tr>\n",
       "    <tr>\n",
       "      <th>3</th>\n",
       "      <td>9</td>\n",
       "      <td>675.83</td>\n",
       "      <td>1</td>\n",
       "      <td>0</td>\n",
       "      <td>Rural</td>\n",
       "      <td>1</td>\n",
       "      <td>Web</td>\n",
       "      <td>Discount</td>\n",
       "      <td>0</td>\n",
       "    </tr>\n",
       "    <tr>\n",
       "      <th>4</th>\n",
       "      <td>2</td>\n",
       "      <td>45.34</td>\n",
       "      <td>1</td>\n",
       "      <td>0</td>\n",
       "      <td>Urban</td>\n",
       "      <td>0</td>\n",
       "      <td>Web</td>\n",
       "      <td>Buy One Get One</td>\n",
       "      <td>0</td>\n",
       "    </tr>\n",
       "  </tbody>\n",
       "</table>\n",
       "</div>"
      ],
      "text/plain": [
       "   recency  history  used_discount  used_bogo   zip_code  is_referral channel  \\\n",
       "0       10   142.44              1          0  Surburban            0   Phone   \n",
       "1        6   329.08              1          1      Rural            1     Web   \n",
       "2        7   180.65              0          1  Surburban            1     Web   \n",
       "3        9   675.83              1          0      Rural            1     Web   \n",
       "4        2    45.34              1          0      Urban            0     Web   \n",
       "\n",
       "             offer  conversion  \n",
       "0  Buy One Get One           0  \n",
       "1         No Offer           0  \n",
       "2  Buy One Get One           0  \n",
       "3         Discount           0  \n",
       "4  Buy One Get One           0  "
      ]
     },
     "execution_count": 3,
     "metadata": {},
     "output_type": "execute_result"
    }
   ],
   "source": [
    "df_model.head(5)"
   ]
  },
  {
   "cell_type": "code",
   "execution_count": 4,
   "metadata": {
    "execution": {
     "iopub.execute_input": "2021-02-22T02:54:39.206732Z",
     "iopub.status.busy": "2021-02-22T02:54:39.187635Z",
     "iopub.status.idle": "2021-02-22T02:54:39.226820Z",
     "shell.execute_reply": "2021-02-22T02:54:39.225912Z"
    },
    "papermill": {
     "duration": 0.054686,
     "end_time": "2021-02-22T02:54:39.227027",
     "exception": false,
     "start_time": "2021-02-22T02:54:39.172341",
     "status": "completed"
    },
    "tags": []
   },
   "outputs": [
    {
     "name": "stdout",
     "output_type": "stream",
     "text": [
      "<class 'pandas.core.frame.DataFrame'>\n",
      "RangeIndex: 64000 entries, 0 to 63999\n",
      "Data columns (total 9 columns):\n",
      " #   Column         Non-Null Count  Dtype  \n",
      "---  ------         --------------  -----  \n",
      " 0   recency        64000 non-null  int64  \n",
      " 1   history        64000 non-null  float64\n",
      " 2   used_discount  64000 non-null  int64  \n",
      " 3   used_bogo      64000 non-null  int64  \n",
      " 4   zip_code       64000 non-null  object \n",
      " 5   is_referral    64000 non-null  int64  \n",
      " 6   channel        64000 non-null  object \n",
      " 7   offer          64000 non-null  object \n",
      " 8   conversion     64000 non-null  int64  \n",
      "dtypes: float64(1), int64(5), object(3)\n",
      "memory usage: 4.4+ MB\n"
     ]
    }
   ],
   "source": [
    "df_model.info()"
   ]
  },
  {
   "cell_type": "code",
   "execution_count": 5,
   "metadata": {
    "execution": {
     "iopub.execute_input": "2021-02-22T02:54:39.254855Z",
     "iopub.status.busy": "2021-02-22T02:54:39.254144Z",
     "iopub.status.idle": "2021-02-22T02:54:39.350195Z",
     "shell.execute_reply": "2021-02-22T02:54:39.350722Z"
    },
    "papermill": {
     "duration": 0.113573,
     "end_time": "2021-02-22T02:54:39.350898",
     "exception": false,
     "start_time": "2021-02-22T02:54:39.237325",
     "status": "completed"
    },
    "tags": []
   },
   "outputs": [
    {
     "data": {
      "text/html": [
       "<div>\n",
       "<style scoped>\n",
       "    .dataframe tbody tr th:only-of-type {\n",
       "        vertical-align: middle;\n",
       "    }\n",
       "\n",
       "    .dataframe tbody tr th {\n",
       "        vertical-align: top;\n",
       "    }\n",
       "\n",
       "    .dataframe thead th {\n",
       "        text-align: right;\n",
       "    }\n",
       "</style>\n",
       "<table border=\"1\" class=\"dataframe\">\n",
       "  <thead>\n",
       "    <tr style=\"text-align: right;\">\n",
       "      <th></th>\n",
       "      <th>zip_code</th>\n",
       "      <th>channel</th>\n",
       "      <th>offer</th>\n",
       "    </tr>\n",
       "  </thead>\n",
       "  <tbody>\n",
       "    <tr>\n",
       "      <th>count</th>\n",
       "      <td>64000</td>\n",
       "      <td>64000</td>\n",
       "      <td>64000</td>\n",
       "    </tr>\n",
       "    <tr>\n",
       "      <th>unique</th>\n",
       "      <td>3</td>\n",
       "      <td>3</td>\n",
       "      <td>3</td>\n",
       "    </tr>\n",
       "    <tr>\n",
       "      <th>top</th>\n",
       "      <td>Surburban</td>\n",
       "      <td>Web</td>\n",
       "      <td>Buy One Get One</td>\n",
       "    </tr>\n",
       "    <tr>\n",
       "      <th>freq</th>\n",
       "      <td>28776</td>\n",
       "      <td>28217</td>\n",
       "      <td>21387</td>\n",
       "    </tr>\n",
       "  </tbody>\n",
       "</table>\n",
       "</div>"
      ],
      "text/plain": [
       "         zip_code channel            offer\n",
       "count       64000   64000            64000\n",
       "unique          3       3                3\n",
       "top     Surburban     Web  Buy One Get One\n",
       "freq        28776   28217            21387"
      ]
     },
     "execution_count": 5,
     "metadata": {},
     "output_type": "execute_result"
    }
   ],
   "source": [
    "df_model.describe(include=np.object)"
   ]
  },
  {
   "cell_type": "code",
   "execution_count": 6,
   "metadata": {
    "execution": {
     "iopub.execute_input": "2021-02-22T02:54:39.375587Z",
     "iopub.status.busy": "2021-02-22T02:54:39.374612Z",
     "iopub.status.idle": "2021-02-22T02:54:39.574118Z",
     "shell.execute_reply": "2021-02-22T02:54:39.573275Z"
    },
    "papermill": {
     "duration": 0.21305,
     "end_time": "2021-02-22T02:54:39.574320",
     "exception": false,
     "start_time": "2021-02-22T02:54:39.361270",
     "status": "completed"
    },
    "tags": []
   },
   "outputs": [
    {
     "name": "stdout",
     "output_type": "stream",
     "text": [
      "\n",
      " zip_code\n",
      "Surburban 28776\n",
      "Rural 9563\n",
      "Urban 25661\n",
      "\n",
      " channel\n",
      "Phone 28021\n",
      "Web 28217\n",
      "Multichannel 7762\n",
      "\n",
      " offer\n",
      "Buy One Get One 21387\n",
      "No Offer 21306\n",
      "Discount 21307\n"
     ]
    }
   ],
   "source": [
    "object_cols = [col for col in df_model.columns if df_model[col].dtype == \"object\"]\n",
    "for obj in object_cols:\n",
    "    print('\\n', obj)\n",
    "    for unique in df_model[obj].unique():\n",
    "        print(\"{} {}\".format(unique,sum(df_model[obj] == unique)))"
   ]
  },
  {
   "cell_type": "code",
   "execution_count": 7,
   "metadata": {
    "execution": {
     "iopub.execute_input": "2021-02-22T02:54:39.605430Z",
     "iopub.status.busy": "2021-02-22T02:54:39.604741Z",
     "iopub.status.idle": "2021-02-22T02:54:39.688699Z",
     "shell.execute_reply": "2021-02-22T02:54:39.688114Z"
    },
    "papermill": {
     "duration": 0.102257,
     "end_time": "2021-02-22T02:54:39.688857",
     "exception": false,
     "start_time": "2021-02-22T02:54:39.586600",
     "status": "completed"
    },
    "tags": []
   },
   "outputs": [],
   "source": [
    "df_model = df_model.rename(columns={'conversion': 'target'})\n",
    "# Rename & Label encode treatment column\n",
    "df_model = df_model.rename(columns={'offer': 'treatment'})\n",
    "df_model.treatment = df_model.treatment.map({'No Offer': 0, 'Buy One Get One': -1, 'Discount': 1})\n",
    "# One-Hot Encoding:\n",
    "df_model = pd.get_dummies(df_model)\n",
    "# Split data with bogo and discount\n",
    "df_model_bogo = df_model.copy().loc[df_model.treatment <=0].reset_index(drop=True)\n",
    "df_model_discount = df_model.copy().loc[df_model.treatment >=0].reset_index(drop=True)\\"
   ]
  },
  {
   "cell_type": "code",
   "execution_count": 8,
   "metadata": {
    "execution": {
     "iopub.execute_input": "2021-02-22T02:54:39.722233Z",
     "iopub.status.busy": "2021-02-22T02:54:39.721527Z",
     "iopub.status.idle": "2021-02-22T02:54:39.736941Z",
     "shell.execute_reply": "2021-02-22T02:54:39.736350Z"
    },
    "papermill": {
     "duration": 0.036606,
     "end_time": "2021-02-22T02:54:39.737110",
     "exception": false,
     "start_time": "2021-02-22T02:54:39.700504",
     "status": "completed"
    },
    "tags": []
   },
   "outputs": [],
   "source": [
    "def declare_tc(df:pd.DataFrame):\n",
    "    \"\"\"Declare target class\n",
    "    \"\"\"\n",
    "    #CN:\n",
    "    df['target_class'] = 0 \n",
    "    #CR:\n",
    "    df.loc[(df.treatment == 0) & (df.target != 0),'target_class'] = 1 \n",
    "    #TN:\n",
    "    df.loc[(df.treatment != 0) & (df.target == 0),'target_class'] = 2 \n",
    "    #TR:\n",
    "    df.loc[(df.treatment != 0) & (df.target != 0),'target_class'] = 3 \n",
    "    return df\n",
    "# run the functions for each treatment\n",
    "df_model_bogo = declare_tc(df_model_bogo)\n",
    "df_model_discount = declare_tc(df_model_discount)"
   ]
  },
  {
   "cell_type": "code",
   "execution_count": 9,
   "metadata": {
    "execution": {
     "iopub.execute_input": "2021-02-22T02:54:39.773379Z",
     "iopub.status.busy": "2021-02-22T02:54:39.768927Z",
     "iopub.status.idle": "2021-02-22T02:54:50.978182Z",
     "shell.execute_reply": "2021-02-22T02:54:50.978739Z"
    },
    "papermill": {
     "duration": 11.230067,
     "end_time": "2021-02-22T02:54:50.978957",
     "exception": false,
     "start_time": "2021-02-22T02:54:39.748890",
     "status": "completed"
    },
    "tags": []
   },
   "outputs": [
    {
     "name": "stdout",
     "output_type": "stream",
     "text": [
      "[02:54:40] WARNING: ../src/learner.cc:1061: Starting in XGBoost 1.3.0, the default evaluation metric used with the objective 'multi:softprob' was changed from 'merror' to 'mlogloss'. Explicitly set eval_metric if you'd like to restore the old behavior.\n",
      "[02:54:45] WARNING: ../src/learner.cc:1061: Starting in XGBoost 1.3.0, the default evaluation metric used with the objective 'multi:softprob' was changed from 'merror' to 'mlogloss'. Explicitly set eval_metric if you'd like to restore the old behavior.\n"
     ]
    }
   ],
   "source": [
    "# Functions for Uplift\n",
    "from sklearn.model_selection import train_test_split\n",
    "import xgboost as xgb\n",
    "def uplift_split(df_model:pd.DataFrame):\n",
    "    \"\"\"Train-Test Split\n",
    "    \"\"\"\n",
    "    X = df_model.drop(['target','target_class'],axis=1)\n",
    "    y = df_model.target_class\n",
    "    X_train, X_test, \\\n",
    "    y_train, y_test  = train_test_split(X,\n",
    "                                       y,\n",
    "                                       test_size=0.3,\n",
    "                                       random_state=42,\n",
    "                                       stratify=df_model['treatment'])\n",
    "    return X_train,X_test, y_train, y_test\n",
    "\n",
    "\n",
    "def uplift_model(X_train:pd.DataFrame,\n",
    "                 X_test:pd.DataFrame,\n",
    "                 y_train:pd.DataFrame,\n",
    "                 y_test:pd.DataFrame):\n",
    "    \"\"\"Using XGB to get the uplift score\n",
    "    \"\"\"\n",
    "    # Create new dataframe\n",
    "    result = pd.DataFrame(X_test).copy()    \n",
    "    # Fit the model\n",
    "    uplift_model \\\n",
    "    = xgb.XGBClassifier().fit(X_train.drop('treatment', axis=1), y_train)\n",
    "    \n",
    "    \n",
    "    # Predict using test-data\n",
    "    uplift_proba \\\n",
    "    = uplift_model.predict_proba(X_test.drop('treatment', axis=1))\n",
    "    result['proba_CN'] = uplift_proba[:,0] \n",
    "    result['proba_CR'] = uplift_proba[:,1] \n",
    "    result['proba_TN'] = uplift_proba[:,2] \n",
    "    result['proba_TR'] = uplift_proba[:,3]\n",
    "    result['uplift_score'] = result.eval('\\\n",
    "    proba_CN/(proba_CN+proba_CR) \\\n",
    "    + proba_TR/(proba_TN+proba_TR) \\\n",
    "    - proba_TN/(proba_TN+proba_TR) \\\n",
    "    - proba_CR/(proba_CN+proba_CR)')  \n",
    "    # Put the result \n",
    "    result['target_class'] = y_test\n",
    "    return result\n",
    "\n",
    "\n",
    "def uplift(df_model:pd.DataFrame):\n",
    "    \"\"\"Combine the split and Modeling function\n",
    "    \"\"\"\n",
    "    X_train, X_test, y_train, y_test = uplift_split(df_model)\n",
    "    result = uplift_model(X_train, X_test, y_train, y_test)\n",
    "    return result\n",
    "# Run the uplift function\n",
    "bogo_uplift = uplift(df_model_bogo)\n",
    "discount_uplift = uplift(df_model_discount)"
   ]
  },
  {
   "cell_type": "code",
   "execution_count": 10,
   "metadata": {
    "execution": {
     "iopub.execute_input": "2021-02-22T02:54:51.007293Z",
     "iopub.status.busy": "2021-02-22T02:54:51.006603Z",
     "iopub.status.idle": "2021-02-22T02:54:51.024697Z",
     "shell.execute_reply": "2021-02-22T02:54:51.024066Z"
    },
    "papermill": {
     "duration": 0.033126,
     "end_time": "2021-02-22T02:54:51.024841",
     "exception": false,
     "start_time": "2021-02-22T02:54:50.991715",
     "status": "completed"
    },
    "tags": []
   },
   "outputs": [],
   "source": [
    "def qini_rank(uplift:pd.DataFrame):\n",
    "    \"\"\"Rank the data by the uplift score\n",
    "    \"\"\"\n",
    "    # Creat new dataframe\n",
    "    ranked = pd.DataFrame({'n':[], 'target_class':[]})\n",
    "    ranked['target_class'] = uplift['target_class']\n",
    "    ranked['uplift_score'] = uplift['uplift_score']\n",
    "    \n",
    "    \n",
    "    # Add proportion\n",
    "    ranked['n'] = ranked.uplift_score.rank(pct=True, ascending=False)\n",
    "    # Data Ranking   \n",
    "    ranked = ranked.sort_values(by='n').reset_index(drop=True)\n",
    "    return ranked\n",
    "\n",
    "\n",
    "def qini_eval(ranked:pd.DataFrame):\n",
    "    \"\"\"Evaluate the uplift value with the QINI criterion\n",
    "    \"\"\"\n",
    "    uplift_model, random_model = ranked.copy(), ranked.copy()\n",
    "    # Using Treatment and Control Group to calculate the uplift (Incremental gain)\n",
    "    C, T = sum(ranked['target_class'] <= 1), sum(ranked['target_class'] >= 2)\n",
    "    ranked['cr'] = 0\n",
    "    ranked['tr'] = 0\n",
    "    ranked.loc[ranked.target_class == 1,'cr'] = 1\n",
    "    ranked.loc[ranked.target_class == 3,'tr'] = 1\n",
    "    ranked['cr/c'] = ranked.cr.cumsum() / C\n",
    "    ranked['tr/t'] = ranked.tr.cumsum() / T\n",
    "    # Calculate and put the uplift and random value into dataframe\n",
    "    uplift_model['uplift'] = round(ranked['tr/t'] - ranked['cr/c'],5)\n",
    "    random_model['uplift'] = round(ranked['n'] * uplift_model['uplift'].iloc[-1],5)\n",
    "    \n",
    "    \n",
    "    # Add q0\n",
    "    q0 = pd.DataFrame({'n':0, 'uplift':0, 'target_class': None}, index =[0])\n",
    "    uplift_model = pd.concat([q0, uplift_model]).reset_index(drop = True)\n",
    "    random_model = pd.concat([q0, random_model]).reset_index(drop = True)  \n",
    "    # Add model name & concat\n",
    "    uplift_model['model'] = 'Uplift model'\n",
    "    random_model['model'] = 'Random model'\n",
    "    merged = pd.concat([uplift_model, random_model]).sort_values(by='n').reset_index(drop = True)\n",
    "    return merged\n",
    "\n",
    "\n",
    "def qini_plot(merged:pd.DataFrame):\n",
    "    \"\"\"Plot the QINI\n",
    "    \"\"\"\n",
    "    # plot the data\n",
    "    ax = sns.lineplot(x='n', y='uplift', hue='model', data=merged,\n",
    "                      style='model', palette=['red','grey'])\n",
    "    \n",
    "    \n",
    "    # Plot settings\n",
    "    sns.set_style('whitegrid')\n",
    "    handles, labels = ax.get_legend_handles_labels()\n",
    "    plt.xlabel('Proportion targeted',fontsize=15)\n",
    "    plt.ylabel('Uplift',fontsize=15)\n",
    "    plt.subplots_adjust(right=1)\n",
    "    plt.subplots_adjust(top=1)\n",
    "    plt.legend(fontsize=12)\n",
    "    ax.tick_params(labelsize=15)\n",
    "    ax.legend(handles=handles[1:], labels=labels[1:], loc='upper right')\n",
    "    return ax\n",
    "\n",
    "\n",
    "def qini(uplift:pd.DataFrame):\n",
    "    \"\"\"Combine all functions\n",
    "    \"\"\"\n",
    "    ranked = qini_rank(uplift)\n",
    "    merged = qini_eval(ranked)\n",
    "    ax = qini_plot(merged)\n",
    "    return ax"
   ]
  },
  {
   "cell_type": "code",
   "execution_count": 11,
   "metadata": {
    "execution": {
     "iopub.execute_input": "2021-02-22T02:54:51.055564Z",
     "iopub.status.busy": "2021-02-22T02:54:51.054921Z",
     "iopub.status.idle": "2021-02-22T02:55:23.267155Z",
     "shell.execute_reply": "2021-02-22T02:55:23.266456Z"
    },
    "papermill": {
     "duration": 32.229988,
     "end_time": "2021-02-22T02:55:23.267300",
     "exception": false,
     "start_time": "2021-02-22T02:54:51.037312",
     "status": "completed"
    },
    "tags": []
   },
   "outputs": [
    {
     "data": {
      "text/plain": [
       "Text(0.5, 1.0, 'Qini Curve - Buy One Get One')"
      ]
     },
     "execution_count": 11,
     "metadata": {},
     "output_type": "execute_result"
    },
    {
     "data": {
      "image/png": "[encoded data removed]",
      "text/plain": [
       "<Figure size 432x288 with 1 Axes>"
      ]
     },
     "metadata": {
      "needs_background": "light"
     },
     "output_type": "display_data"
    }
   ],
   "source": [
    "qini(bogo_uplift)\n",
    "plt.title('Qini Curve - Buy One Get One',fontsize=20)"
   ]
  },
  {
   "cell_type": "code",
   "execution_count": 12,
   "metadata": {
    "execution": {
     "iopub.execute_input": "2021-02-22T02:55:23.302862Z",
     "iopub.status.busy": "2021-02-22T02:55:23.301825Z",
     "iopub.status.idle": "2021-02-22T02:55:57.497182Z",
     "shell.execute_reply": "2021-02-22T02:55:57.497725Z"
    },
    "papermill": {
     "duration": 34.216689,
     "end_time": "2021-02-22T02:55:57.497935",
     "exception": false,
     "start_time": "2021-02-22T02:55:23.281246",
     "status": "completed"
    },
    "tags": []
   },
   "outputs": [
    {
     "data": {
      "text/plain": [
       "Text(0.5, 1.0, 'Qini Curve - Discount')"
      ]
     },
     "execution_count": 12,
     "metadata": {},
     "output_type": "execute_result"
    },
    {
     "data": {
      "image/png": "[encoded data removed]",
      "text/plain": [
       "<Figure size 432x288 with 1 Axes>"
      ]
     },
     "metadata": {},
     "output_type": "display_data"
    }
   ],
   "source": [
    "qini(discount_uplift)\n",
    "plt.title('Qini Curve - Discount',fontsize=20)"
   ]
  }
 ],
 "metadata": {
  "kernelspec": {
   "display_name": "Python 3",
   "language": "python",
   "name": "python3"
  },
  "language_info": {
   "codemirror_mode": {
    "name": "ipython",
    "version": 3
   },
   "file_extension": ".py",
   "mimetype": "text/x-python",
   "name": "python",
   "nbconvert_exporter": "python",
   "pygments_lexer": "ipython3",
   "version": "3.7.9"
  },
  "papermill": {
   "default_parameters": {},
   "duration": 86.361465,
   "end_time": "2021-02-22T02:55:58.230423",
   "environment_variables": {},
   "exception": null,
   "input_path": "__notebook__.ipynb",
   "output_path": "__notebook__.ipynb",
   "parameters": {},
   "start_time": "2021-02-22T02:54:31.868958",
   "version": "2.2.2"
  }
 },
 "nbformat": 4,
 "nbformat_minor": 4
}
