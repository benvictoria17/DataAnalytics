{
 "cells": [
  {
   "cell_type": "code",
   "execution_count": 1,
   "metadata": {
    "_cell_guid": "b1076dfc-b9ad-4769-8c92-a6c4dae69d19",
    "_uuid": "8f2839f25d086af736a60e9eeb907d3b93b6e0e5"
   },
   "outputs": [
    {
     "name": "stdout",
     "output_type": "stream",
     "text": [
      "['sample_submission.csv', 'test.csv', 'train.csv']\n"
     ]
    }
   ],
   "source": [
    "import numpy as np\n",
    "import pandas as pd\n",
    "import matplotlib.pyplot as plt\n",
    "import os\n",
    "print(os.listdir(\"../input\"))"
   ]
  },
  {
   "cell_type": "code",
   "execution_count": 2,
   "metadata": {},
   "outputs": [
    {
     "name": "stderr",
     "output_type": "stream",
     "text": [
      "Using TensorFlow backend.\n"
     ]
    }
   ],
   "source": [
    "from keras.utils import to_categorical\n",
    "from keras.models import Sequential\n",
    "from keras.layers import Dense, Dropout, Flatten, Conv2D, MaxPool2D\n",
    "from keras.optimizers import RMSprop,Adam\n",
    "from keras.preprocessing.image import ImageDataGenerator"
   ]
  },
  {
   "cell_type": "code",
   "execution_count": 3,
   "metadata": {},
   "outputs": [],
   "source": [
    "from sklearn.model_selection import train_test_split"
   ]
  },
  {
   "cell_type": "code",
   "execution_count": 4,
   "metadata": {},
   "outputs": [],
   "source": [
    "train_data = pd.read_csv('../input/train.csv')\n",
    "test_data = pd.read_csv('../input/test.csv')"
   ]
  },
  {
   "cell_type": "code",
   "execution_count": 5,
   "metadata": {
    "_cell_guid": "79c7e3d0-c299-4dcb-8224-4455121ee9b0",
    "_uuid": "d629ff2d2480ee46fbb7e2d37f6b5fab8052498a"
   },
   "outputs": [],
   "source": [
    "X_train = train_data.copy()\n",
    "y_train = train_data['label']\n",
    "del X_train['label']\n",
    "X_test = test_data.copy()\n",
    "y_train = to_categorical(y_train, num_classes = 10)"
   ]
  },
  {
   "cell_type": "code",
   "execution_count": 6,
   "metadata": {},
   "outputs": [],
   "source": [
    "X_train = X_train.values.reshape(-1,28,28,1)\n",
    "X_test = X_test.values.reshape(-1,28,28,1)"
   ]
  },
  {
   "cell_type": "code",
   "execution_count": 7,
   "metadata": {},
   "outputs": [],
   "source": [
    "X_train = X_train.astype('float32')/255\n",
    "X_test = X_test.astype('float32')/255"
   ]
  },
  {
   "cell_type": "code",
   "execution_count": 8,
   "metadata": {},
   "outputs": [
    {
     "data": {
      "image/png": "[encoded data removed]",
      "text/plain": [
       "<Figure size 1080x432 with 10 Axes>"
      ]
     },
     "metadata": {
      "needs_background": "light"
     },
     "output_type": "display_data"
    }
   ],
   "source": [
    "fig, axs = plt.subplots(2, 5, figsize=(15, 6))\n",
    "fig.subplots_adjust(hspace = .5, wspace=.5)\n",
    "axs = axs.ravel()\n",
    "for i in range(10):\n",
    "    idx = train_data[train_data['label']==i].index[0]\n",
    "    axs[i].imshow(X_train[idx][:,:,0], cmap='gray')\n",
    "    axs[i].set_title(y_train[idx].argmax())\n",
    "    axs[i].set_xticklabels([])\n",
    "    axs[i].set_yticklabels([])"
   ]
  },
  {
   "cell_type": "code",
   "execution_count": 9,
   "metadata": {},
   "outputs": [],
   "source": [
    "X_train, X_val, y_train, y_val = train_test_split(X_train, y_train, test_size = 0.001, random_state=2020)"
   ]
  },
  {
   "cell_type": "code",
   "execution_count": 10,
   "metadata": {},
   "outputs": [],
   "source": [
    "model = Sequential()\n",
    "model.add(Conv2D(filters = 32, kernel_size = (5,5),padding = 'Same', \n",
    "                 activation ='relu', input_shape = (28,28,1)))\n",
    "model.add(Conv2D(filters = 32, kernel_size = (5,5),padding = 'Same', \n",
    "                 activation ='relu'))\n",
    "model.add(MaxPool2D(pool_size=(2,2)))\n",
    "model.add(Dropout(0.25))\n",
    "\n",
    "\n",
    "model.add(Conv2D(filters = 64, kernel_size = (3,3),padding = 'Same', \n",
    "                 activation ='relu'))\n",
    "model.add(Conv2D(filters = 64, kernel_size = (3,3),padding = 'Same', \n",
    "                 activation ='relu'))\n",
    "model.add(MaxPool2D(pool_size=(2,2), strides=(2,2)))\n",
    "model.add(Dropout(0.25))\n",
    "\n",
    "\n",
    "model.add(Flatten())\n",
    "model.add(Dense(256, activation = \"relu\"))\n",
    "model.add(Dropout(0.5))\n",
    "model.add(Dense(10, activation = \"softmax\"))"
   ]
  },
  {
   "cell_type": "code",
   "execution_count": 11,
   "metadata": {},
   "outputs": [],
   "source": [
    "optimizer = RMSprop(lr=0.001,rho=0.9, epsilon=1e-08, decay=0.0)"
   ]
  },
  {
   "cell_type": "code",
   "execution_count": 12,
   "metadata": {},
   "outputs": [],
   "source": [
    "model.compile(optimizer=optimizer, loss='categorical_crossentropy', metrics=['accuracy'])"
   ]
  },
  {
   "cell_type": "code",
   "execution_count": 13,
   "metadata": {},
   "outputs": [
    {
     "name": "stdout",
     "output_type": "stream",
     "text": [
      "Model: \"sequential_1\"\n",
      "_________________________________________________________________\n",
      "Layer (type)                 Output Shape              Param #   \n",
      "=================================================================\n",
      "conv2d_1 (Conv2D)            (None, 28, 28, 32)        832       \n",
      "_________________________________________________________________\n",
      "conv2d_2 (Conv2D)            (None, 28, 28, 32)        25632     \n",
      "_________________________________________________________________\n",
      "max_pooling2d_1 (MaxPooling2 (None, 14, 14, 32)        0         \n",
      "_________________________________________________________________\n",
      "dropout_1 (Dropout)          (None, 14, 14, 32)        0         \n",
      "_________________________________________________________________\n",
      "conv2d_3 (Conv2D)            (None, 14, 14, 64)        18496     \n",
      "_________________________________________________________________\n",
      "conv2d_4 (Conv2D)            (None, 14, 14, 64)        36928     \n",
      "_________________________________________________________________\n",
      "max_pooling2d_2 (MaxPooling2 (None, 7, 7, 64)          0         \n",
      "_________________________________________________________________\n",
      "dropout_2 (Dropout)          (None, 7, 7, 64)          0         \n",
      "_________________________________________________________________\n",
      "flatten_1 (Flatten)          (None, 3136)              0         \n",
      "_________________________________________________________________\n",
      "dense_1 (Dense)              (None, 256)               803072    \n",
      "_________________________________________________________________\n",
      "dropout_3 (Dropout)          (None, 256)               0         \n",
      "_________________________________________________________________\n",
      "dense_2 (Dense)              (None, 10)                2570      \n",
      "=================================================================\n",
      "Total params: 887,530\n",
      "Trainable params: 887,530\n",
      "Non-trainable params: 0\n",
      "_________________________________________________________________\n"
     ]
    }
   ],
   "source": [
    "model.summary()"
   ]
  },
  {
   "cell_type": "code",
   "execution_count": 14,
   "metadata": {},
   "outputs": [],
   "source": [
    "epochs = 50\n",
    "batch_size = 378"
   ]
  },
  {
   "cell_type": "code",
   "execution_count": 15,
   "metadata": {},
   "outputs": [],
   "source": [
    "datagen = ImageDataGenerator(\n",
    "        featurewise_center=False,\n",
    "        samplewise_center=False,\n",
    "        featurewise_std_normalization=False,\n",
    "        samplewise_std_normalization=False,\n",
    "        zca_whitening=False,\n",
    "        rotation_range=10,\n",
    "        zoom_range = 0.1,\n",
    "        width_shift_range=0.1,\n",
    "        height_shift_range=0.1,\n",
    "        horizontal_flip=False,\n",
    "        vertical_flip=False)\n",
    "datagen.fit(X_train)"
   ]
  },
  {
   "cell_type": "code",
   "execution_count": 16,
   "metadata": {},
   "outputs": [
    {
     "name": "stdout",
     "output_type": "stream",
     "text": [
      "Epoch 1/50\n",
      "111/111 [==============================] - 15s 136ms/step - loss: 0.7165 - accuracy: 0.7625 - val_loss: 0.0105 - val_accuracy: 1.0000\n",
      "Epoch 2/50\n",
      "111/111 [==============================] - 14s 124ms/step - loss: 0.1907 - accuracy: 0.9427 - val_loss: 0.0046 - val_accuracy: 1.0000\n",
      "Epoch 3/50\n",
      "111/111 [==============================] - 13s 118ms/step - loss: 0.1248 - accuracy: 0.9627 - val_loss: 7.3452e-04 - val_accuracy: 1.0000\n",
      "Epoch 4/50\n",
      "111/111 [==============================] - 13s 119ms/step - loss: 0.1021 - accuracy: 0.9699 - val_loss: 0.0031 - val_accuracy: 1.0000\n",
      "Epoch 5/50\n",
      "111/111 [==============================] - 13s 120ms/step - loss: 0.0827 - accuracy: 0.9748 - val_loss: 3.4770e-04 - val_accuracy: 1.0000\n",
      "Epoch 6/50\n",
      "111/111 [==============================] - 13s 115ms/step - loss: 0.0740 - accuracy: 0.9778 - val_loss: 7.6556e-04 - val_accuracy: 1.0000\n",
      "Epoch 7/50\n",
      "111/111 [==============================] - 14s 124ms/step - loss: 0.0644 - accuracy: 0.9802 - val_loss: 1.0480e-04 - val_accuracy: 1.0000\n",
      "Epoch 8/50\n",
      "111/111 [==============================] - 14s 125ms/step - loss: 0.0587 - accuracy: 0.9830 - val_loss: 1.1762e-04 - val_accuracy: 1.0000\n",
      "Epoch 9/50\n",
      "111/111 [==============================] - 13s 114ms/step - loss: 0.0543 - accuracy: 0.9831 - val_loss: 1.2432e-04 - val_accuracy: 1.0000\n",
      "Epoch 10/50\n",
      "111/111 [==============================] - 13s 120ms/step - loss: 0.0500 - accuracy: 0.9849 - val_loss: 0.0012 - val_accuracy: 1.0000\n",
      "Epoch 11/50\n",
      "111/111 [==============================] - 13s 115ms/step - loss: 0.0498 - accuracy: 0.9849 - val_loss: 4.2825e-04 - val_accuracy: 1.0000\n",
      "Epoch 12/50\n",
      "111/111 [==============================] - 15s 132ms/step - loss: 0.0457 - accuracy: 0.9862 - val_loss: 5.2890e-05 - val_accuracy: 1.0000\n",
      "Epoch 13/50\n",
      "111/111 [==============================] - 13s 117ms/step - loss: 0.0449 - accuracy: 0.9866 - val_loss: 2.1277e-05 - val_accuracy: 1.0000\n",
      "Epoch 14/50\n",
      "111/111 [==============================] - 13s 113ms/step - loss: 0.0422 - accuracy: 0.9873 - val_loss: 2.1769e-04 - val_accuracy: 1.0000\n",
      "Epoch 15/50\n",
      "111/111 [==============================] - 13s 120ms/step - loss: 0.0420 - accuracy: 0.9874 - val_loss: 0.0013 - val_accuracy: 1.0000\n",
      "Epoch 16/50\n",
      "111/111 [==============================] - 13s 116ms/step - loss: 0.0405 - accuracy: 0.9883 - val_loss: 1.0888e-04 - val_accuracy: 1.0000\n",
      "Epoch 17/50\n",
      "111/111 [==============================] - 15s 131ms/step - loss: 0.0388 - accuracy: 0.9880 - val_loss: 3.3245e-04 - val_accuracy: 1.0000\n",
      "Epoch 18/50\n",
      "111/111 [==============================] - 13s 114ms/step - loss: 0.0386 - accuracy: 0.9885 - val_loss: 9.8468e-05 - val_accuracy: 1.0000\n",
      "Epoch 19/50\n",
      "111/111 [==============================] - 13s 115ms/step - loss: 0.0363 - accuracy: 0.9893 - val_loss: 8.4487e-06 - val_accuracy: 1.0000\n",
      "Epoch 20/50\n",
      "111/111 [==============================] - 13s 120ms/step - loss: 0.0353 - accuracy: 0.9896 - val_loss: 0.0016 - val_accuracy: 1.0000\n",
      "Epoch 21/50\n",
      "111/111 [==============================] - 13s 122ms/step - loss: 0.0347 - accuracy: 0.9898 - val_loss: 4.8090e-05 - val_accuracy: 1.0000\n",
      "Epoch 22/50\n",
      "111/111 [==============================] - 14s 126ms/step - loss: 0.0337 - accuracy: 0.9903 - val_loss: 1.4164e-04 - val_accuracy: 1.0000\n",
      "Epoch 23/50\n",
      "111/111 [==============================] - 13s 114ms/step - loss: 0.0344 - accuracy: 0.9903 - val_loss: 6.3807e-05 - val_accuracy: 1.0000\n",
      "Epoch 24/50\n",
      "111/111 [==============================] - 13s 113ms/step - loss: 0.0350 - accuracy: 0.9898 - val_loss: 5.6538e-06 - val_accuracy: 1.0000\n",
      "Epoch 25/50\n",
      "111/111 [==============================] - 13s 119ms/step - loss: 0.0326 - accuracy: 0.9895 - val_loss: 1.8553e-05 - val_accuracy: 1.0000\n",
      "Epoch 26/50\n",
      "111/111 [==============================] - 14s 127ms/step - loss: 0.0330 - accuracy: 0.9903 - val_loss: 2.6776e-05 - val_accuracy: 1.0000\n",
      "Epoch 27/50\n",
      "111/111 [==============================] - 14s 124ms/step - loss: 0.0316 - accuracy: 0.9907 - val_loss: 3.6415e-05 - val_accuracy: 1.0000\n",
      "Epoch 28/50\n",
      "111/111 [==============================] - 13s 115ms/step - loss: 0.0312 - accuracy: 0.9909 - val_loss: 1.7196e-05 - val_accuracy: 1.0000\n",
      "Epoch 29/50\n",
      "111/111 [==============================] - 13s 119ms/step - loss: 0.0311 - accuracy: 0.9909 - val_loss: 6.2820e-05 - val_accuracy: 1.0000\n",
      "Epoch 30/50\n",
      "111/111 [==============================] - 13s 118ms/step - loss: 0.0316 - accuracy: 0.9913 - val_loss: 1.4945e-04 - val_accuracy: 1.0000\n",
      "Epoch 31/50\n",
      "111/111 [==============================] - 14s 124ms/step - loss: 0.0319 - accuracy: 0.9908 - val_loss: 4.1098e-05 - val_accuracy: 1.0000\n",
      "Epoch 32/50\n",
      "111/111 [==============================] - 13s 120ms/step - loss: 0.0312 - accuracy: 0.9912 - val_loss: 2.4139e-05 - val_accuracy: 1.0000\n",
      "Epoch 33/50\n",
      "111/111 [==============================] - 13s 115ms/step - loss: 0.0283 - accuracy: 0.9917 - val_loss: 9.7673e-05 - val_accuracy: 1.0000\n",
      "Epoch 34/50\n",
      "111/111 [==============================] - 13s 121ms/step - loss: 0.0311 - accuracy: 0.9905 - val_loss: 5.7154e-05 - val_accuracy: 1.0000\n",
      "Epoch 35/50\n",
      "111/111 [==============================] - 14s 126ms/step - loss: 0.0292 - accuracy: 0.9918 - val_loss: 4.8381e-05 - val_accuracy: 1.0000\n",
      "Epoch 36/50\n",
      "111/111 [==============================] - 13s 116ms/step - loss: 0.0307 - accuracy: 0.9910 - val_loss: 1.5621e-04 - val_accuracy: 1.0000\n",
      "Epoch 37/50\n",
      "111/111 [==============================] - 13s 119ms/step - loss: 0.0297 - accuracy: 0.9913 - val_loss: 2.7082e-04 - val_accuracy: 1.0000\n",
      "Epoch 38/50\n",
      "111/111 [==============================] - 13s 116ms/step - loss: 0.0281 - accuracy: 0.9917 - val_loss: 2.5695e-05 - val_accuracy: 1.0000\n",
      "Epoch 39/50\n",
      "111/111 [==============================] - 14s 125ms/step - loss: 0.0295 - accuracy: 0.9915 - val_loss: 1.7936e-04 - val_accuracy: 1.0000\n",
      "Epoch 40/50\n",
      "111/111 [==============================] - 14s 127ms/step - loss: 0.0306 - accuracy: 0.9917 - val_loss: 2.5258e-05 - val_accuracy: 1.0000\n",
      "Epoch 41/50\n",
      "111/111 [==============================] - 13s 120ms/step - loss: 0.0321 - accuracy: 0.9909 - val_loss: 3.2896e-06 - val_accuracy: 1.0000\n",
      "Epoch 42/50\n",
      "111/111 [==============================] - 13s 116ms/step - loss: 0.0276 - accuracy: 0.9918 - val_loss: 5.4921e-06 - val_accuracy: 1.0000\n",
      "Epoch 43/50\n",
      "111/111 [==============================] - 13s 113ms/step - loss: 0.0291 - accuracy: 0.9923 - val_loss: 5.9276e-05 - val_accuracy: 1.0000\n",
      "Epoch 44/50\n",
      "111/111 [==============================] - 14s 130ms/step - loss: 0.0289 - accuracy: 0.9914 - val_loss: 6.0309e-06 - val_accuracy: 1.0000\n",
      "Epoch 45/50\n",
      "111/111 [==============================] - 13s 119ms/step - loss: 0.0279 - accuracy: 0.9923 - val_loss: 4.5865e-06 - val_accuracy: 1.0000\n",
      "Epoch 46/50\n",
      "111/111 [==============================] - 13s 120ms/step - loss: 0.0309 - accuracy: 0.9913 - val_loss: 5.1127e-05 - val_accuracy: 1.0000\n",
      "Epoch 47/50\n",
      "111/111 [==============================] - 13s 113ms/step - loss: 0.0297 - accuracy: 0.9916 - val_loss: 0.0040 - val_accuracy: 1.0000\n",
      "Epoch 48/50\n",
      "111/111 [==============================] - 13s 118ms/step - loss: 0.0305 - accuracy: 0.9918 - val_loss: 3.0482e-06 - val_accuracy: 1.0000\n",
      "Epoch 49/50\n",
      "111/111 [==============================] - 14s 131ms/step - loss: 0.0317 - accuracy: 0.9909 - val_loss: 5.4154e-06 - val_accuracy: 1.0000\n",
      "Epoch 50/50\n",
      "111/111 [==============================] - 13s 113ms/step - loss: 0.0286 - accuracy: 0.9915 - val_loss: 1.0497e-04 - val_accuracy: 1.0000\n"
     ]
    }
   ],
   "source": [
    "history = model.fit_generator(datagen.flow(X_train, y_train, batch_size=batch_size),\n",
    "                              epochs = epochs, validation_data = (X_val,y_val),\n",
    "                              steps_per_epoch=X_train.shape[0] // batch_size)"
   ]
  },
  {
   "cell_type": "code",
   "execution_count": 17,
   "metadata": {},
   "outputs": [],
   "source": [
    "y_test = model.predict(X_test)"
   ]
  },
  {
   "cell_type": "code",
   "execution_count": 18,
   "metadata": {},
   "outputs": [],
   "source": [
    "y_test_classes = np.argmax(y_test, axis = 1)"
   ]
  },
  {
   "cell_type": "code",
   "execution_count": 19,
   "metadata": {},
   "outputs": [],
   "source": [
    "num = range(1, len(y_test)+1)\n",
    "output = pd.DataFrame({'ImageId': num,\n",
    "                       'Label': y_test_classes})\n",
    "output.to_csv('submission.csv', index=False)"
   ]
  },
  {
   "cell_type": "code",
   "execution_count": 20,
   "metadata": {},
   "outputs": [
    {
     "data": {
      "image/png": "[encoded data removed]",
      "text/plain": [
       "<Figure size 432x288 with 1 Axes>"
      ]
     },
     "metadata": {
      "needs_background": "light"
     },
     "output_type": "display_data"
    }
   ],
   "source": [
    "loss = history.history['loss']\n",
    "loss_val = history.history['val_loss']\n",
    "epochs = range(1, len(loss)+1)\n",
    "plt.plot(epochs, loss, 'bo', label='loss_train')\n",
    "plt.plot(epochs, loss_val, 'b', label='loss_val')\n",
    "plt.title('value of the loss function')\n",
    "plt.xlabel('epochs')\n",
    "plt.ylabel('value of the loss function')\n",
    "plt.legend()\n",
    "plt.grid()\n",
    "plt.show()"
   ]
  },
  {
   "cell_type": "code",
   "execution_count": 21,
   "metadata": {},
   "outputs": [
    {
     "data": {
      "image/png": "[encoded data removed]",
      "text/plain": [
       "<Figure size 432x288 with 1 Axes>"
      ]
     },
     "metadata": {
      "needs_background": "light"
     },
     "output_type": "display_data"
    }
   ],
   "source": [
    "acc = history.history['accuracy']\n",
    "acc_val = history.history['val_accuracy']\n",
    "epochs = range(1, len(loss)+1)\n",
    "plt.plot(epochs, acc, 'bo', label='accuracy_train')\n",
    "plt.plot(epochs, acc_val, 'b', label='accuracy_val')\n",
    "plt.title('accuracy')\n",
    "plt.xlabel('epochs')\n",
    "plt.ylabel('value of accuracy')\n",
    "plt.legend()\n",
    "plt.grid()\n",
    "plt.show()"
   ]
  },
  {
   "cell_type": "code",
   "execution_count": 22,
   "metadata": {},
   "outputs": [],
   "source": [
    "del model"
   ]
  }
 ],
 "metadata": {
  "kernelspec": {
   "display_name": "Python 3",
   "language": "python",
   "name": "python3"
  },
  "language_info": {
   "codemirror_mode": {
    "name": "ipython",
    "version": 3
   },
   "file_extension": ".py",
   "mimetype": "text/x-python",
   "name": "python",
   "nbconvert_exporter": "python",
   "pygments_lexer": "ipython3",
   "version": "3.6.6"
  }
 },
 "nbformat": 4,
 "nbformat_minor": 4
}
