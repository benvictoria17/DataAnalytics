{
 "cells": [
  {
   "cell_type": "code",
   "execution_count": 1,
   "id": "d2e92ad6",
   "metadata": {
    "_cell_guid": "b1076dfc-b9ad-4769-8c92-a6c4dae69d19",
    "_uuid": "8f2839f25d086af736a60e9eeb907d3b93b6e0e5",
    "execution": {
     "iopub.execute_input": "2022-03-30T17:06:05.756607Z",
     "iopub.status.busy": "2022-03-30T17:06:05.755313Z",
     "iopub.status.idle": "2022-03-30T17:06:07.460227Z",
     "shell.execute_reply": "2022-03-30T17:06:07.459434Z",
     "shell.execute_reply.started": "2022-03-30T16:47:58.560639Z"
    },
    "papermill": {
     "duration": 1.770594,
     "end_time": "2022-03-30T17:06:07.460433",
     "exception": false,
     "start_time": "2022-03-30T17:06:05.689839",
     "status": "completed"
    },
    "tags": []
   },
   "outputs": [],
   "source": [
    "import numpy as np\n",
    "import pandas as pd\n",
    "import matplotlib.pyplot as plt\n",
    "%matplotlib inline\n",
    "import seaborn as sns\n",
    "from sklearn.model_selection import train_test_split \n",
    "from sklearn.metrics import r2_score, mean_squared_error\n",
    "from sklearn.linear_model import LinearRegression\n",
    "from sklearn.ensemble import RandomForestRegressor"
   ]
  },
  {
   "cell_type": "code",
   "execution_count": 2,
   "id": "8283296c",
   "metadata": {
    "execution": {
     "iopub.execute_input": "2022-03-30T17:06:07.588147Z",
     "iopub.status.busy": "2022-03-30T17:06:07.587368Z",
     "iopub.status.idle": "2022-03-30T17:06:10.155833Z",
     "shell.execute_reply": "2022-03-30T17:06:10.155216Z",
     "shell.execute_reply.started": "2022-03-30T16:47:58.571252Z"
    },
    "papermill": {
     "duration": 2.635842,
     "end_time": "2022-03-30T17:06:10.156027",
     "exception": false,
     "start_time": "2022-03-30T17:06:07.520185",
     "status": "completed"
    },
    "tags": []
   },
   "outputs": [],
   "source": [
    "df_list = pd.read_csv('../input/seattle/listings.csv')\n",
    "df_cal = pd.read_csv('../input/seattle/calendar.csv')\n",
    "df_rev = pd.read_csv('../input/seattle/reviews.csv')"
   ]
  },
  {
   "cell_type": "code",
   "execution_count": 3,
   "id": "2db6a777",
   "metadata": {
    "execution": {
     "iopub.execute_input": "2022-03-30T17:06:10.282882Z",
     "iopub.status.busy": "2022-03-30T17:06:10.281841Z",
     "iopub.status.idle": "2022-03-30T17:06:10.284891Z",
     "shell.execute_reply": "2022-03-30T17:06:10.284346Z",
     "shell.execute_reply.started": "2022-03-30T16:48:00.034855Z"
    },
    "papermill": {
     "duration": 0.069781,
     "end_time": "2022-03-30T17:06:10.285075",
     "exception": false,
     "start_time": "2022-03-30T17:06:10.215294",
     "status": "completed"
    },
    "tags": []
   },
   "outputs": [],
   "source": [
    "def dollar_float(x):\n",
    "    '''\n",
    "    input: dollar value with string dtype\n",
    "    output: value in float\n",
    "    '''\n",
    "    if type(x)==str:\n",
    "        x=x[1:].replace(\",\",\"\")\n",
    "        x=float(x)\n",
    "    return x\n",
    "\n",
    "def perc_float(x):\n",
    "    '''\n",
    "    input: % value with string dtype\n",
    "    output: % value in float\n",
    "    '''\n",
    "    if type(x)==str:\n",
    "        x=x.replace('%','')\n",
    "        x=float(x)/100.0\n",
    "    return (x)"
   ]
  },
  {
   "cell_type": "code",
   "execution_count": 4,
   "id": "a7e58c61",
   "metadata": {
    "execution": {
     "iopub.execute_input": "2022-03-30T17:06:10.414505Z",
     "iopub.status.busy": "2022-03-30T17:06:10.413502Z",
     "iopub.status.idle": "2022-03-30T17:06:10.854427Z",
     "shell.execute_reply": "2022-03-30T17:06:10.854935Z",
     "shell.execute_reply.started": "2022-03-30T16:48:00.047813Z"
    },
    "papermill": {
     "duration": 0.510704,
     "end_time": "2022-03-30T17:06:10.855152",
     "exception": false,
     "start_time": "2022-03-30T17:06:10.344448",
     "status": "completed"
    },
    "tags": []
   },
   "outputs": [
    {
     "name": "stdout",
     "output_type": "stream",
     "text": [
      "<class 'pandas.core.frame.DataFrame'>\n",
      "RangeIndex: 1393570 entries, 0 to 1393569\n",
      "Data columns (total 4 columns):\n",
      " #   Column      Non-Null Count    Dtype \n",
      "---  ------      --------------    ----- \n",
      " 0   listing_id  1393570 non-null  int64 \n",
      " 1   date        1393570 non-null  object\n",
      " 2   available   1393570 non-null  object\n",
      " 3   price       934542 non-null   object\n",
      "dtypes: int64(1), object(3)\n",
      "memory usage: 42.5+ MB\n"
     ]
    }
   ],
   "source": [
    "df_cal.info()"
   ]
  },
  {
   "cell_type": "code",
   "execution_count": 5,
   "id": "99e749fd",
   "metadata": {
    "execution": {
     "iopub.execute_input": "2022-03-30T17:06:10.982833Z",
     "iopub.status.busy": "2022-03-30T17:06:10.981875Z",
     "iopub.status.idle": "2022-03-30T17:06:10.995506Z",
     "shell.execute_reply": "2022-03-30T17:06:10.996018Z",
     "shell.execute_reply.started": "2022-03-30T16:48:00.475937Z"
    },
    "papermill": {
     "duration": 0.081403,
     "end_time": "2022-03-30T17:06:10.996215",
     "exception": false,
     "start_time": "2022-03-30T17:06:10.914812",
     "status": "completed"
    },
    "tags": []
   },
   "outputs": [
    {
     "data": {
      "text/html": [
       "<div>\n",
       "<style scoped>\n",
       "    .dataframe tbody tr th:only-of-type {\n",
       "        vertical-align: middle;\n",
       "    }\n",
       "\n",
       "    .dataframe tbody tr th {\n",
       "        vertical-align: top;\n",
       "    }\n",
       "\n",
       "    .dataframe thead th {\n",
       "        text-align: right;\n",
       "    }\n",
       "</style>\n",
       "<table border=\"1\" class=\"dataframe\">\n",
       "  <thead>\n",
       "    <tr style=\"text-align: right;\">\n",
       "      <th></th>\n",
       "      <th>listing_id</th>\n",
       "      <th>date</th>\n",
       "      <th>available</th>\n",
       "      <th>price</th>\n",
       "    </tr>\n",
       "  </thead>\n",
       "  <tbody>\n",
       "    <tr>\n",
       "      <th>0</th>\n",
       "      <td>241032</td>\n",
       "      <td>2016-01-04</td>\n",
       "      <td>t</td>\n",
       "      <td>$85.00</td>\n",
       "    </tr>\n",
       "    <tr>\n",
       "      <th>1</th>\n",
       "      <td>241032</td>\n",
       "      <td>2016-01-05</td>\n",
       "      <td>t</td>\n",
       "      <td>$85.00</td>\n",
       "    </tr>\n",
       "    <tr>\n",
       "      <th>2</th>\n",
       "      <td>241032</td>\n",
       "      <td>2016-01-06</td>\n",
       "      <td>f</td>\n",
       "      <td>NaN</td>\n",
       "    </tr>\n",
       "    <tr>\n",
       "      <th>3</th>\n",
       "      <td>241032</td>\n",
       "      <td>2016-01-07</td>\n",
       "      <td>f</td>\n",
       "      <td>NaN</td>\n",
       "    </tr>\n",
       "    <tr>\n",
       "      <th>4</th>\n",
       "      <td>241032</td>\n",
       "      <td>2016-01-08</td>\n",
       "      <td>f</td>\n",
       "      <td>NaN</td>\n",
       "    </tr>\n",
       "  </tbody>\n",
       "</table>\n",
       "</div>"
      ],
      "text/plain": [
       "   listing_id        date available   price\n",
       "0      241032  2016-01-04         t  $85.00\n",
       "1      241032  2016-01-05         t  $85.00\n",
       "2      241032  2016-01-06         f     NaN\n",
       "3      241032  2016-01-07         f     NaN\n",
       "4      241032  2016-01-08         f     NaN"
      ]
     },
     "execution_count": 5,
     "metadata": {},
     "output_type": "execute_result"
    }
   ],
   "source": [
    "df_cal.head()"
   ]
  },
  {
   "cell_type": "code",
   "execution_count": 6,
   "id": "ebf09632",
   "metadata": {
    "execution": {
     "iopub.execute_input": "2022-03-30T17:06:11.132245Z",
     "iopub.status.busy": "2022-03-30T17:06:11.125456Z",
     "iopub.status.idle": "2022-03-30T17:06:14.043807Z",
     "shell.execute_reply": "2022-03-30T17:06:14.044565Z",
     "shell.execute_reply.started": "2022-03-30T16:48:00.489201Z"
    },
    "papermill": {
     "duration": 2.983589,
     "end_time": "2022-03-30T17:06:14.044789",
     "exception": false,
     "start_time": "2022-03-30T17:06:11.061200",
     "status": "completed"
    },
    "tags": []
   },
   "outputs": [
    {
     "data": {
      "text/html": [
       "<div>\n",
       "<style scoped>\n",
       "    .dataframe tbody tr th:only-of-type {\n",
       "        vertical-align: middle;\n",
       "    }\n",
       "\n",
       "    .dataframe tbody tr th {\n",
       "        vertical-align: top;\n",
       "    }\n",
       "\n",
       "    .dataframe thead th {\n",
       "        text-align: right;\n",
       "    }\n",
       "</style>\n",
       "<table border=\"1\" class=\"dataframe\">\n",
       "  <thead>\n",
       "    <tr style=\"text-align: right;\">\n",
       "      <th></th>\n",
       "      <th>listing_id</th>\n",
       "      <th>date</th>\n",
       "      <th>available</th>\n",
       "      <th>price</th>\n",
       "      <th>year</th>\n",
       "      <th>month</th>\n",
       "      <th>day</th>\n",
       "      <th>day_name</th>\n",
       "      <th>day_num</th>\n",
       "    </tr>\n",
       "  </thead>\n",
       "  <tbody>\n",
       "    <tr>\n",
       "      <th>0</th>\n",
       "      <td>241032</td>\n",
       "      <td>2016-01-04</td>\n",
       "      <td>1</td>\n",
       "      <td>85.0</td>\n",
       "      <td>2016</td>\n",
       "      <td>1</td>\n",
       "      <td>4</td>\n",
       "      <td>Monday</td>\n",
       "      <td>0</td>\n",
       "    </tr>\n",
       "    <tr>\n",
       "      <th>1</th>\n",
       "      <td>241032</td>\n",
       "      <td>2016-01-05</td>\n",
       "      <td>1</td>\n",
       "      <td>85.0</td>\n",
       "      <td>2016</td>\n",
       "      <td>1</td>\n",
       "      <td>5</td>\n",
       "      <td>Tuesday</td>\n",
       "      <td>1</td>\n",
       "    </tr>\n",
       "    <tr>\n",
       "      <th>9</th>\n",
       "      <td>241032</td>\n",
       "      <td>2016-01-13</td>\n",
       "      <td>1</td>\n",
       "      <td>85.0</td>\n",
       "      <td>2016</td>\n",
       "      <td>1</td>\n",
       "      <td>13</td>\n",
       "      <td>Wednesday</td>\n",
       "      <td>2</td>\n",
       "    </tr>\n",
       "    <tr>\n",
       "      <th>10</th>\n",
       "      <td>241032</td>\n",
       "      <td>2016-01-14</td>\n",
       "      <td>1</td>\n",
       "      <td>85.0</td>\n",
       "      <td>2016</td>\n",
       "      <td>1</td>\n",
       "      <td>14</td>\n",
       "      <td>Thursday</td>\n",
       "      <td>3</td>\n",
       "    </tr>\n",
       "    <tr>\n",
       "      <th>14</th>\n",
       "      <td>241032</td>\n",
       "      <td>2016-01-18</td>\n",
       "      <td>1</td>\n",
       "      <td>85.0</td>\n",
       "      <td>2016</td>\n",
       "      <td>1</td>\n",
       "      <td>18</td>\n",
       "      <td>Monday</td>\n",
       "      <td>0</td>\n",
       "    </tr>\n",
       "  </tbody>\n",
       "</table>\n",
       "</div>"
      ],
      "text/plain": [
       "    listing_id       date  available  price  year  month  day   day_name  \\\n",
       "0       241032 2016-01-04          1   85.0  2016      1    4     Monday   \n",
       "1       241032 2016-01-05          1   85.0  2016      1    5    Tuesday   \n",
       "9       241032 2016-01-13          1   85.0  2016      1   13  Wednesday   \n",
       "10      241032 2016-01-14          1   85.0  2016      1   14   Thursday   \n",
       "14      241032 2016-01-18          1   85.0  2016      1   18     Monday   \n",
       "\n",
       "    day_num  \n",
       "0         0  \n",
       "1         1  \n",
       "9         2  \n",
       "10        3  \n",
       "14        0  "
      ]
     },
     "execution_count": 6,
     "metadata": {},
     "output_type": "execute_result"
    }
   ],
   "source": [
    "df_cal.dropna(subset=['price'],inplace=True)\n",
    "\n",
    "df_cal['price']=df_cal['price'].apply(lambda x: dollar_float(x))\n",
    "\n",
    "df_cal['date'] = pd.to_datetime(df_cal['date'],format=\"%Y-%m-%d\")\n",
    "df_cal['year'] = df_cal['date'].dt.year\n",
    "df_cal['month'] = df_cal['date'].dt.month\n",
    "df_cal['day'] = df_cal['date'].dt.day\n",
    "df_cal['day_name'] = df_cal['date'].dt.day_name()\n",
    "df_cal['day_num'] = df_cal['date'].dt.weekday\n",
    "\n",
    "df_cal['available'] = df_cal['available'].apply(lambda x:1 if x =='t' else 0)\n",
    "\n",
    "df_cal.head()"
   ]
  },
  {
   "cell_type": "code",
   "execution_count": 7,
   "id": "b774ef5c",
   "metadata": {
    "execution": {
     "iopub.execute_input": "2022-03-30T17:06:14.197631Z",
     "iopub.status.busy": "2022-03-30T17:06:14.195713Z",
     "iopub.status.idle": "2022-03-30T17:06:14.478322Z",
     "shell.execute_reply": "2022-03-30T17:06:14.477719Z",
     "shell.execute_reply.started": "2022-03-30T16:48:03.253806Z"
    },
    "papermill": {
     "duration": 0.356461,
     "end_time": "2022-03-30T17:06:14.478511",
     "exception": false,
     "start_time": "2022-03-30T17:06:14.122050",
     "status": "completed"
    },
    "tags": []
   },
   "outputs": [
    {
     "data": {
      "text/html": [
       "<div>\n",
       "<style scoped>\n",
       "    .dataframe tbody tr th:only-of-type {\n",
       "        vertical-align: middle;\n",
       "    }\n",
       "\n",
       "    .dataframe tbody tr th {\n",
       "        vertical-align: top;\n",
       "    }\n",
       "\n",
       "    .dataframe thead th {\n",
       "        text-align: right;\n",
       "    }\n",
       "</style>\n",
       "<table border=\"1\" class=\"dataframe\">\n",
       "  <thead>\n",
       "    <tr style=\"text-align: right;\">\n",
       "      <th></th>\n",
       "      <th>listing_id</th>\n",
       "      <th>available</th>\n",
       "      <th>price</th>\n",
       "      <th>year</th>\n",
       "      <th>month</th>\n",
       "      <th>day</th>\n",
       "      <th>day_num</th>\n",
       "    </tr>\n",
       "  </thead>\n",
       "  <tbody>\n",
       "    <tr>\n",
       "      <th>count</th>\n",
       "      <td>9.345420e+05</td>\n",
       "      <td>934542.0</td>\n",
       "      <td>934542.000000</td>\n",
       "      <td>934542.000000</td>\n",
       "      <td>934542.000000</td>\n",
       "      <td>934542.00000</td>\n",
       "      <td>934542.000000</td>\n",
       "    </tr>\n",
       "    <tr>\n",
       "      <th>mean</th>\n",
       "      <td>5.305517e+06</td>\n",
       "      <td>1.0</td>\n",
       "      <td>137.944859</td>\n",
       "      <td>2016.006097</td>\n",
       "      <td>6.661120</td>\n",
       "      <td>15.87560</td>\n",
       "      <td>2.990591</td>\n",
       "    </tr>\n",
       "    <tr>\n",
       "      <th>std</th>\n",
       "      <td>2.974821e+06</td>\n",
       "      <td>0.0</td>\n",
       "      <td>105.062870</td>\n",
       "      <td>0.077846</td>\n",
       "      <td>3.446401</td>\n",
       "      <td>8.81395</td>\n",
       "      <td>2.004433</td>\n",
       "    </tr>\n",
       "    <tr>\n",
       "      <th>min</th>\n",
       "      <td>3.335000e+03</td>\n",
       "      <td>1.0</td>\n",
       "      <td>10.000000</td>\n",
       "      <td>2016.000000</td>\n",
       "      <td>1.000000</td>\n",
       "      <td>1.00000</td>\n",
       "      <td>0.000000</td>\n",
       "    </tr>\n",
       "    <tr>\n",
       "      <th>25%</th>\n",
       "      <td>2.875975e+06</td>\n",
       "      <td>1.0</td>\n",
       "      <td>75.000000</td>\n",
       "      <td>2016.000000</td>\n",
       "      <td>4.000000</td>\n",
       "      <td>8.00000</td>\n",
       "      <td>1.000000</td>\n",
       "    </tr>\n",
       "    <tr>\n",
       "      <th>50%</th>\n",
       "      <td>5.615620e+06</td>\n",
       "      <td>1.0</td>\n",
       "      <td>109.000000</td>\n",
       "      <td>2016.000000</td>\n",
       "      <td>7.000000</td>\n",
       "      <td>16.00000</td>\n",
       "      <td>3.000000</td>\n",
       "    </tr>\n",
       "    <tr>\n",
       "      <th>75%</th>\n",
       "      <td>7.873345e+06</td>\n",
       "      <td>1.0</td>\n",
       "      <td>160.000000</td>\n",
       "      <td>2016.000000</td>\n",
       "      <td>10.000000</td>\n",
       "      <td>24.00000</td>\n",
       "      <td>5.000000</td>\n",
       "    </tr>\n",
       "    <tr>\n",
       "      <th>max</th>\n",
       "      <td>1.034016e+07</td>\n",
       "      <td>1.0</td>\n",
       "      <td>1650.000000</td>\n",
       "      <td>2017.000000</td>\n",
       "      <td>12.000000</td>\n",
       "      <td>31.00000</td>\n",
       "      <td>6.000000</td>\n",
       "    </tr>\n",
       "  </tbody>\n",
       "</table>\n",
       "</div>"
      ],
      "text/plain": [
       "         listing_id  available          price           year          month  \\\n",
       "count  9.345420e+05   934542.0  934542.000000  934542.000000  934542.000000   \n",
       "mean   5.305517e+06        1.0     137.944859    2016.006097       6.661120   \n",
       "std    2.974821e+06        0.0     105.062870       0.077846       3.446401   \n",
       "min    3.335000e+03        1.0      10.000000    2016.000000       1.000000   \n",
       "25%    2.875975e+06        1.0      75.000000    2016.000000       4.000000   \n",
       "50%    5.615620e+06        1.0     109.000000    2016.000000       7.000000   \n",
       "75%    7.873345e+06        1.0     160.000000    2016.000000      10.000000   \n",
       "max    1.034016e+07        1.0    1650.000000    2017.000000      12.000000   \n",
       "\n",
       "                day        day_num  \n",
       "count  934542.00000  934542.000000  \n",
       "mean       15.87560       2.990591  \n",
       "std         8.81395       2.004433  \n",
       "min         1.00000       0.000000  \n",
       "25%         8.00000       1.000000  \n",
       "50%        16.00000       3.000000  \n",
       "75%        24.00000       5.000000  \n",
       "max        31.00000       6.000000  "
      ]
     },
     "execution_count": 7,
     "metadata": {},
     "output_type": "execute_result"
    }
   ],
   "source": [
    "df_cal.describe()"
   ]
  },
  {
   "cell_type": "code",
   "execution_count": 8,
   "id": "656b53de",
   "metadata": {
    "execution": {
     "iopub.execute_input": "2022-03-30T17:06:14.605498Z",
     "iopub.status.busy": "2022-03-30T17:06:14.604777Z",
     "iopub.status.idle": "2022-03-30T17:06:14.619147Z",
     "shell.execute_reply": "2022-03-30T17:06:14.619783Z",
     "shell.execute_reply.started": "2022-03-30T16:48:03.466988Z"
    },
    "papermill": {
     "duration": 0.079932,
     "end_time": "2022-03-30T17:06:14.620027",
     "exception": false,
     "start_time": "2022-03-30T17:06:14.540095",
     "status": "completed"
    },
    "tags": []
   },
   "outputs": [
    {
     "data": {
      "text/plain": [
       "month\n",
       "1    5698\n",
       "Name: available, dtype: int64"
      ]
     },
     "execution_count": 8,
     "metadata": {},
     "output_type": "execute_result"
    }
   ],
   "source": [
    "df_cal[df_cal.year==2017].groupby('month').available.sum()"
   ]
  },
  {
   "cell_type": "code",
   "execution_count": 9,
   "id": "c4eadc23",
   "metadata": {
    "execution": {
     "iopub.execute_input": "2022-03-30T17:06:14.763476Z",
     "iopub.status.busy": "2022-03-30T17:06:14.762597Z",
     "iopub.status.idle": "2022-03-30T17:06:15.270618Z",
     "shell.execute_reply": "2022-03-30T17:06:15.269886Z",
     "shell.execute_reply.started": "2022-03-30T16:48:03.483008Z"
    },
    "papermill": {
     "duration": 0.586435,
     "end_time": "2022-03-30T17:06:15.270798",
     "exception": false,
     "start_time": "2022-03-30T17:06:14.684363",
     "status": "completed"
    },
    "tags": []
   },
   "outputs": [
    {
     "data": {
      "image/png": "[encoded data removed]",
      "text/plain": [
       "<Figure size 432x288 with 2 Axes>"
      ]
     },
     "metadata": {
      "needs_background": "light"
     },
     "output_type": "display_data"
    }
   ],
   "source": [
    "fig,ax = plt.subplots()\n",
    "ax.plot(df_cal[df_cal.year==2016].groupby(['month']).price.mean(),color='blue', marker='o', linewidth=3, label='Price')\n",
    "ax.set_xlabel('Month')\n",
    "ax.set_ylabel('Average Price, $')\n",
    "\n",
    "ax2 = ax.twinx()\n",
    "ax2.plot(df_cal[df_cal.year==2016].groupby(['month']).available.sum(), color='orange', marker ='o', linewidth=3, label='Listing')\n",
    "ax2.set_ylabel('# of Available Listings')\n",
    "\n",
    "ax.legend(loc=2)\n",
    "ax2.legend(loc=4)\n",
    "\n",
    "plt.title('Seasonal Change of Price and # of Available Listings')\n",
    "plt.show()"
   ]
  },
  {
   "cell_type": "code",
   "execution_count": 10,
   "id": "b6a918f9",
   "metadata": {
    "execution": {
     "iopub.execute_input": "2022-03-30T17:06:15.424400Z",
     "iopub.status.busy": "2022-03-30T17:06:15.423593Z",
     "iopub.status.idle": "2022-03-30T17:06:15.722595Z",
     "shell.execute_reply": "2022-03-30T17:06:15.721912Z",
     "shell.execute_reply.started": "2022-03-30T16:48:03.935170Z"
    },
    "papermill": {
     "duration": 0.386893,
     "end_time": "2022-03-30T17:06:15.722756",
     "exception": false,
     "start_time": "2022-03-30T17:06:15.335863",
     "status": "completed"
    },
    "tags": []
   },
   "outputs": [
    {
     "data": {
      "image/png": "[encoded data removed]",
      "text/plain": [
       "<Figure size 432x288 with 2 Axes>"
      ]
     },
     "metadata": {
      "needs_background": "light"
     },
     "output_type": "display_data"
    }
   ],
   "source": [
    "fig,ax = plt.subplots()\n",
    "ax.plot(df_cal.groupby(['day_num']).price.mean(),color='slategrey', marker='o', linewidth=3, label='Price')\n",
    "ax.set_xlabel('Day')\n",
    "ax.set_ylabel('Average Price, $')\n",
    "\n",
    "ax2 = ax.twinx()\n",
    "ax2.plot(df_cal.groupby(['day_num']).available.sum(), color='orange', marker ='o', linewidth=3, label=\"Listing\")\n",
    "ax2.set_ylabel('Total Available Listings')\n",
    "\n",
    "ax.legend(loc=2)\n",
    "ax2.legend(loc=4)\n",
    "\n",
    "plt.title('Weekly Change of Price and # of Available Listings')\n",
    "plt.show()"
   ]
  },
  {
   "cell_type": "code",
   "execution_count": 11,
   "id": "b2459912",
   "metadata": {
    "execution": {
     "iopub.execute_input": "2022-03-30T17:06:15.885534Z",
     "iopub.status.busy": "2022-03-30T17:06:15.857993Z",
     "iopub.status.idle": "2022-03-30T17:06:15.904598Z",
     "shell.execute_reply": "2022-03-30T17:06:15.905419Z",
     "shell.execute_reply.started": "2022-03-30T16:48:04.508280Z"
    },
    "papermill": {
     "duration": 0.118169,
     "end_time": "2022-03-30T17:06:15.905687",
     "exception": false,
     "start_time": "2022-03-30T17:06:15.787518",
     "status": "completed"
    },
    "tags": []
   },
   "outputs": [
    {
     "name": "stdout",
     "output_type": "stream",
     "text": [
      "<class 'pandas.core.frame.DataFrame'>\n",
      "RangeIndex: 3818 entries, 0 to 3817\n",
      "Data columns (total 92 columns):\n",
      " #   Column                            Non-Null Count  Dtype  \n",
      "---  ------                            --------------  -----  \n",
      " 0   id                                3818 non-null   int64  \n",
      " 1   listing_url                       3818 non-null   object \n",
      " 2   scrape_id                         3818 non-null   int64  \n",
      " 3   last_scraped                      3818 non-null   object \n",
      " 4   name                              3818 non-null   object \n",
      " 5   summary                           3641 non-null   object \n",
      " 6   space                             3249 non-null   object \n",
      " 7   description                       3818 non-null   object \n",
      " 8   experiences_offered               3818 non-null   object \n",
      " 9   neighborhood_overview             2786 non-null   object \n",
      " 10  notes                             2212 non-null   object \n",
      " 11  transit                           2884 non-null   object \n",
      " 12  thumbnail_url                     3498 non-null   object \n",
      " 13  medium_url                        3498 non-null   object \n",
      " 14  picture_url                       3818 non-null   object \n",
      " 15  xl_picture_url                    3498 non-null   object \n",
      " 16  host_id                           3818 non-null   int64  \n",
      " 17  host_url                          3818 non-null   object \n",
      " 18  host_name                         3816 non-null   object \n",
      " 19  host_since                        3816 non-null   object \n",
      " 20  host_location                     3810 non-null   object \n",
      " 21  host_about                        2959 non-null   object \n",
      " 22  host_response_time                3295 non-null   object \n",
      " 23  host_response_rate                3295 non-null   object \n",
      " 24  host_acceptance_rate              3045 non-null   object \n",
      " 25  host_is_superhost                 3816 non-null   object \n",
      " 26  host_thumbnail_url                3816 non-null   object \n",
      " 27  host_picture_url                  3816 non-null   object \n",
      " 28  host_neighbourhood                3518 non-null   object \n",
      " 29  host_listings_count               3816 non-null   float64\n",
      " 30  host_total_listings_count         3816 non-null   float64\n",
      " 31  host_verifications                3818 non-null   object \n",
      " 32  host_has_profile_pic              3816 non-null   object \n",
      " 33  host_identity_verified            3816 non-null   object \n",
      " 34  street                            3818 non-null   object \n",
      " 35  neighbourhood                     3402 non-null   object \n",
      " 36  neighbourhood_cleansed            3818 non-null   object \n",
      " 37  neighbourhood_group_cleansed      3818 non-null   object \n",
      " 38  city                              3818 non-null   object \n",
      " 39  state                             3818 non-null   object \n",
      " 40  zipcode                           3811 non-null   object \n",
      " 41  market                            3818 non-null   object \n",
      " 42  smart_location                    3818 non-null   object \n",
      " 43  country_code                      3818 non-null   object \n",
      " 44  country                           3818 non-null   object \n",
      " 45  latitude                          3818 non-null   float64\n",
      " 46  longitude                         3818 non-null   float64\n",
      " 47  is_location_exact                 3818 non-null   object \n",
      " 48  property_type                     3817 non-null   object \n",
      " 49  room_type                         3818 non-null   object \n",
      " 50  accommodates                      3818 non-null   int64  \n",
      " 51  bathrooms                         3802 non-null   float64\n",
      " 52  bedrooms                          3812 non-null   float64\n",
      " 53  beds                              3817 non-null   float64\n",
      " 54  bed_type                          3818 non-null   object \n",
      " 55  amenities                         3818 non-null   object \n",
      " 56  square_feet                       97 non-null     float64\n",
      " 57  price                             3818 non-null   object \n",
      " 58  weekly_price                      2009 non-null   object \n",
      " 59  monthly_price                     1517 non-null   object \n",
      " 60  security_deposit                  1866 non-null   object \n",
      " 61  cleaning_fee                      2788 non-null   object \n",
      " 62  guests_included                   3818 non-null   int64  \n",
      " 63  extra_people                      3818 non-null   object \n",
      " 64  minimum_nights                    3818 non-null   int64  \n",
      " 65  maximum_nights                    3818 non-null   int64  \n",
      " 66  calendar_updated                  3818 non-null   object \n",
      " 67  has_availability                  3818 non-null   object \n",
      " 68  availability_30                   3818 non-null   int64  \n",
      " 69  availability_60                   3818 non-null   int64  \n",
      " 70  availability_90                   3818 non-null   int64  \n",
      " 71  availability_365                  3818 non-null   int64  \n",
      " 72  calendar_last_scraped             3818 non-null   object \n",
      " 73  number_of_reviews                 3818 non-null   int64  \n",
      " 74  first_review                      3191 non-null   object \n",
      " 75  last_review                       3191 non-null   object \n",
      " 76  review_scores_rating              3171 non-null   float64\n",
      " 77  review_scores_accuracy            3160 non-null   float64\n",
      " 78  review_scores_cleanliness         3165 non-null   float64\n",
      " 79  review_scores_checkin             3160 non-null   float64\n",
      " 80  review_scores_communication       3167 non-null   float64\n",
      " 81  review_scores_location            3163 non-null   float64\n",
      " 82  review_scores_value               3162 non-null   float64\n",
      " 83  requires_license                  3818 non-null   object \n",
      " 84  license                           0 non-null      float64\n",
      " 85  jurisdiction_names                3818 non-null   object \n",
      " 86  instant_bookable                  3818 non-null   object \n",
      " 87  cancellation_policy               3818 non-null   object \n",
      " 88  require_guest_profile_picture     3818 non-null   object \n",
      " 89  require_guest_phone_verification  3818 non-null   object \n",
      " 90  calculated_host_listings_count    3818 non-null   int64  \n",
      " 91  reviews_per_month                 3191 non-null   float64\n",
      "dtypes: float64(17), int64(13), object(62)\n",
      "memory usage: 2.7+ MB\n"
     ]
    }
   ],
   "source": [
    "df_list.info()"
   ]
  },
  {
   "cell_type": "code",
   "execution_count": 12,
   "id": "cacfea66",
   "metadata": {
    "execution": {
     "iopub.execute_input": "2022-03-30T17:06:16.042728Z",
     "iopub.status.busy": "2022-03-30T17:06:16.042051Z",
     "iopub.status.idle": "2022-03-30T17:06:16.133848Z",
     "shell.execute_reply": "2022-03-30T17:06:16.134508Z",
     "shell.execute_reply.started": "2022-03-30T16:48:04.557054Z"
    },
    "papermill": {
     "duration": 0.162019,
     "end_time": "2022-03-30T17:06:16.134712",
     "exception": false,
     "start_time": "2022-03-30T17:06:15.972693",
     "status": "completed"
    },
    "tags": []
   },
   "outputs": [
    {
     "data": {
      "text/html": [
       "<div>\n",
       "<style scoped>\n",
       "    .dataframe tbody tr th:only-of-type {\n",
       "        vertical-align: middle;\n",
       "    }\n",
       "\n",
       "    .dataframe tbody tr th {\n",
       "        vertical-align: top;\n",
       "    }\n",
       "\n",
       "    .dataframe thead th {\n",
       "        text-align: right;\n",
       "    }\n",
       "</style>\n",
       "<table border=\"1\" class=\"dataframe\">\n",
       "  <thead>\n",
       "    <tr style=\"text-align: right;\">\n",
       "      <th></th>\n",
       "      <th>id</th>\n",
       "      <th>scrape_id</th>\n",
       "      <th>host_id</th>\n",
       "      <th>host_listings_count</th>\n",
       "      <th>host_total_listings_count</th>\n",
       "      <th>latitude</th>\n",
       "      <th>longitude</th>\n",
       "      <th>accommodates</th>\n",
       "      <th>bathrooms</th>\n",
       "      <th>bedrooms</th>\n",
       "      <th>...</th>\n",
       "      <th>review_scores_rating</th>\n",
       "      <th>review_scores_accuracy</th>\n",
       "      <th>review_scores_cleanliness</th>\n",
       "      <th>review_scores_checkin</th>\n",
       "      <th>review_scores_communication</th>\n",
       "      <th>review_scores_location</th>\n",
       "      <th>review_scores_value</th>\n",
       "      <th>license</th>\n",
       "      <th>calculated_host_listings_count</th>\n",
       "      <th>reviews_per_month</th>\n",
       "    </tr>\n",
       "  </thead>\n",
       "  <tbody>\n",
       "    <tr>\n",
       "      <th>count</th>\n",
       "      <td>3.818000e+03</td>\n",
       "      <td>3.818000e+03</td>\n",
       "      <td>3.818000e+03</td>\n",
       "      <td>3816.000000</td>\n",
       "      <td>3816.000000</td>\n",
       "      <td>3818.000000</td>\n",
       "      <td>3818.000000</td>\n",
       "      <td>3818.000000</td>\n",
       "      <td>3802.000000</td>\n",
       "      <td>3812.000000</td>\n",
       "      <td>...</td>\n",
       "      <td>3171.000000</td>\n",
       "      <td>3160.000000</td>\n",
       "      <td>3165.000000</td>\n",
       "      <td>3160.000000</td>\n",
       "      <td>3167.000000</td>\n",
       "      <td>3163.000000</td>\n",
       "      <td>3162.000000</td>\n",
       "      <td>0.0</td>\n",
       "      <td>3818.000000</td>\n",
       "      <td>3191.000000</td>\n",
       "    </tr>\n",
       "    <tr>\n",
       "      <th>mean</th>\n",
       "      <td>5.550111e+06</td>\n",
       "      <td>2.016010e+13</td>\n",
       "      <td>1.578556e+07</td>\n",
       "      <td>7.157757</td>\n",
       "      <td>7.157757</td>\n",
       "      <td>47.628961</td>\n",
       "      <td>-122.333103</td>\n",
       "      <td>3.349398</td>\n",
       "      <td>1.259469</td>\n",
       "      <td>1.307712</td>\n",
       "      <td>...</td>\n",
       "      <td>94.539262</td>\n",
       "      <td>9.636392</td>\n",
       "      <td>9.556398</td>\n",
       "      <td>9.786709</td>\n",
       "      <td>9.809599</td>\n",
       "      <td>9.608916</td>\n",
       "      <td>9.452245</td>\n",
       "      <td>NaN</td>\n",
       "      <td>2.946307</td>\n",
       "      <td>2.078919</td>\n",
       "    </tr>\n",
       "    <tr>\n",
       "      <th>std</th>\n",
       "      <td>2.962660e+06</td>\n",
       "      <td>0.000000e+00</td>\n",
       "      <td>1.458382e+07</td>\n",
       "      <td>28.628149</td>\n",
       "      <td>28.628149</td>\n",
       "      <td>0.043052</td>\n",
       "      <td>0.031745</td>\n",
       "      <td>1.977599</td>\n",
       "      <td>0.590369</td>\n",
       "      <td>0.883395</td>\n",
       "      <td>...</td>\n",
       "      <td>6.606083</td>\n",
       "      <td>0.698031</td>\n",
       "      <td>0.797274</td>\n",
       "      <td>0.595499</td>\n",
       "      <td>0.568211</td>\n",
       "      <td>0.629053</td>\n",
       "      <td>0.750259</td>\n",
       "      <td>NaN</td>\n",
       "      <td>5.893029</td>\n",
       "      <td>1.822348</td>\n",
       "    </tr>\n",
       "    <tr>\n",
       "      <th>min</th>\n",
       "      <td>3.335000e+03</td>\n",
       "      <td>2.016010e+13</td>\n",
       "      <td>4.193000e+03</td>\n",
       "      <td>1.000000</td>\n",
       "      <td>1.000000</td>\n",
       "      <td>47.505088</td>\n",
       "      <td>-122.417219</td>\n",
       "      <td>1.000000</td>\n",
       "      <td>0.000000</td>\n",
       "      <td>0.000000</td>\n",
       "      <td>...</td>\n",
       "      <td>20.000000</td>\n",
       "      <td>2.000000</td>\n",
       "      <td>3.000000</td>\n",
       "      <td>2.000000</td>\n",
       "      <td>2.000000</td>\n",
       "      <td>4.000000</td>\n",
       "      <td>2.000000</td>\n",
       "      <td>NaN</td>\n",
       "      <td>1.000000</td>\n",
       "      <td>0.020000</td>\n",
       "    </tr>\n",
       "    <tr>\n",
       "      <th>25%</th>\n",
       "      <td>3.258256e+06</td>\n",
       "      <td>2.016010e+13</td>\n",
       "      <td>3.275204e+06</td>\n",
       "      <td>1.000000</td>\n",
       "      <td>1.000000</td>\n",
       "      <td>47.609418</td>\n",
       "      <td>-122.354320</td>\n",
       "      <td>2.000000</td>\n",
       "      <td>1.000000</td>\n",
       "      <td>1.000000</td>\n",
       "      <td>...</td>\n",
       "      <td>93.000000</td>\n",
       "      <td>9.000000</td>\n",
       "      <td>9.000000</td>\n",
       "      <td>10.000000</td>\n",
       "      <td>10.000000</td>\n",
       "      <td>9.000000</td>\n",
       "      <td>9.000000</td>\n",
       "      <td>NaN</td>\n",
       "      <td>1.000000</td>\n",
       "      <td>0.695000</td>\n",
       "    </tr>\n",
       "    <tr>\n",
       "      <th>50%</th>\n",
       "      <td>6.118244e+06</td>\n",
       "      <td>2.016010e+13</td>\n",
       "      <td>1.055814e+07</td>\n",
       "      <td>1.000000</td>\n",
       "      <td>1.000000</td>\n",
       "      <td>47.623601</td>\n",
       "      <td>-122.328874</td>\n",
       "      <td>3.000000</td>\n",
       "      <td>1.000000</td>\n",
       "      <td>1.000000</td>\n",
       "      <td>...</td>\n",
       "      <td>96.000000</td>\n",
       "      <td>10.000000</td>\n",
       "      <td>10.000000</td>\n",
       "      <td>10.000000</td>\n",
       "      <td>10.000000</td>\n",
       "      <td>10.000000</td>\n",
       "      <td>10.000000</td>\n",
       "      <td>NaN</td>\n",
       "      <td>1.000000</td>\n",
       "      <td>1.540000</td>\n",
       "    </tr>\n",
       "    <tr>\n",
       "      <th>75%</th>\n",
       "      <td>8.035127e+06</td>\n",
       "      <td>2.016010e+13</td>\n",
       "      <td>2.590309e+07</td>\n",
       "      <td>3.000000</td>\n",
       "      <td>3.000000</td>\n",
       "      <td>47.662694</td>\n",
       "      <td>-122.310800</td>\n",
       "      <td>4.000000</td>\n",
       "      <td>1.000000</td>\n",
       "      <td>2.000000</td>\n",
       "      <td>...</td>\n",
       "      <td>99.000000</td>\n",
       "      <td>10.000000</td>\n",
       "      <td>10.000000</td>\n",
       "      <td>10.000000</td>\n",
       "      <td>10.000000</td>\n",
       "      <td>10.000000</td>\n",
       "      <td>10.000000</td>\n",
       "      <td>NaN</td>\n",
       "      <td>2.000000</td>\n",
       "      <td>3.000000</td>\n",
       "    </tr>\n",
       "    <tr>\n",
       "      <th>max</th>\n",
       "      <td>1.034016e+07</td>\n",
       "      <td>2.016010e+13</td>\n",
       "      <td>5.320861e+07</td>\n",
       "      <td>502.000000</td>\n",
       "      <td>502.000000</td>\n",
       "      <td>47.733358</td>\n",
       "      <td>-122.240607</td>\n",
       "      <td>16.000000</td>\n",
       "      <td>8.000000</td>\n",
       "      <td>7.000000</td>\n",
       "      <td>...</td>\n",
       "      <td>100.000000</td>\n",
       "      <td>10.000000</td>\n",
       "      <td>10.000000</td>\n",
       "      <td>10.000000</td>\n",
       "      <td>10.000000</td>\n",
       "      <td>10.000000</td>\n",
       "      <td>10.000000</td>\n",
       "      <td>NaN</td>\n",
       "      <td>37.000000</td>\n",
       "      <td>12.150000</td>\n",
       "    </tr>\n",
       "  </tbody>\n",
       "</table>\n",
       "<p>8 rows × 30 columns</p>\n",
       "</div>"
      ],
      "text/plain": [
       "                 id     scrape_id       host_id  host_listings_count  \\\n",
       "count  3.818000e+03  3.818000e+03  3.818000e+03          3816.000000   \n",
       "mean   5.550111e+06  2.016010e+13  1.578556e+07             7.157757   \n",
       "std    2.962660e+06  0.000000e+00  1.458382e+07            28.628149   \n",
       "min    3.335000e+03  2.016010e+13  4.193000e+03             1.000000   \n",
       "25%    3.258256e+06  2.016010e+13  3.275204e+06             1.000000   \n",
       "50%    6.118244e+06  2.016010e+13  1.055814e+07             1.000000   \n",
       "75%    8.035127e+06  2.016010e+13  2.590309e+07             3.000000   \n",
       "max    1.034016e+07  2.016010e+13  5.320861e+07           502.000000   \n",
       "\n",
       "       host_total_listings_count     latitude    longitude  accommodates  \\\n",
       "count                3816.000000  3818.000000  3818.000000   3818.000000   \n",
       "mean                    7.157757    47.628961  -122.333103      3.349398   \n",
       "std                    28.628149     0.043052     0.031745      1.977599   \n",
       "min                     1.000000    47.505088  -122.417219      1.000000   \n",
       "25%                     1.000000    47.609418  -122.354320      2.000000   \n",
       "50%                     1.000000    47.623601  -122.328874      3.000000   \n",
       "75%                     3.000000    47.662694  -122.310800      4.000000   \n",
       "max                   502.000000    47.733358  -122.240607     16.000000   \n",
       "\n",
       "         bathrooms     bedrooms  ...  review_scores_rating  \\\n",
       "count  3802.000000  3812.000000  ...           3171.000000   \n",
       "mean      1.259469     1.307712  ...             94.539262   \n",
       "std       0.590369     0.883395  ...              6.606083   \n",
       "min       0.000000     0.000000  ...             20.000000   \n",
       "25%       1.000000     1.000000  ...             93.000000   \n",
       "50%       1.000000     1.000000  ...             96.000000   \n",
       "75%       1.000000     2.000000  ...             99.000000   \n",
       "max       8.000000     7.000000  ...            100.000000   \n",
       "\n",
       "       review_scores_accuracy  review_scores_cleanliness  \\\n",
       "count             3160.000000                3165.000000   \n",
       "mean                 9.636392                   9.556398   \n",
       "std                  0.698031                   0.797274   \n",
       "min                  2.000000                   3.000000   \n",
       "25%                  9.000000                   9.000000   \n",
       "50%                 10.000000                  10.000000   \n",
       "75%                 10.000000                  10.000000   \n",
       "max                 10.000000                  10.000000   \n",
       "\n",
       "       review_scores_checkin  review_scores_communication  \\\n",
       "count            3160.000000                  3167.000000   \n",
       "mean                9.786709                     9.809599   \n",
       "std                 0.595499                     0.568211   \n",
       "min                 2.000000                     2.000000   \n",
       "25%                10.000000                    10.000000   \n",
       "50%                10.000000                    10.000000   \n",
       "75%                10.000000                    10.000000   \n",
       "max                10.000000                    10.000000   \n",
       "\n",
       "       review_scores_location  review_scores_value  license  \\\n",
       "count             3163.000000          3162.000000      0.0   \n",
       "mean                 9.608916             9.452245      NaN   \n",
       "std                  0.629053             0.750259      NaN   \n",
       "min                  4.000000             2.000000      NaN   \n",
       "25%                  9.000000             9.000000      NaN   \n",
       "50%                 10.000000            10.000000      NaN   \n",
       "75%                 10.000000            10.000000      NaN   \n",
       "max                 10.000000            10.000000      NaN   \n",
       "\n",
       "       calculated_host_listings_count  reviews_per_month  \n",
       "count                     3818.000000        3191.000000  \n",
       "mean                         2.946307           2.078919  \n",
       "std                          5.893029           1.822348  \n",
       "min                          1.000000           0.020000  \n",
       "25%                          1.000000           0.695000  \n",
       "50%                          1.000000           1.540000  \n",
       "75%                          2.000000           3.000000  \n",
       "max                         37.000000          12.150000  \n",
       "\n",
       "[8 rows x 30 columns]"
      ]
     },
     "execution_count": 12,
     "metadata": {},
     "output_type": "execute_result"
    }
   ],
   "source": [
    "df_list.describe()"
   ]
  },
  {
   "cell_type": "code",
   "execution_count": 13,
   "id": "9a923286",
   "metadata": {
    "execution": {
     "iopub.execute_input": "2022-03-30T17:06:16.275575Z",
     "iopub.status.busy": "2022-03-30T17:06:16.274758Z",
     "iopub.status.idle": "2022-03-30T17:06:16.303086Z",
     "shell.execute_reply": "2022-03-30T17:06:16.303693Z",
     "shell.execute_reply.started": "2022-03-30T16:48:04.645284Z"
    },
    "papermill": {
     "duration": 0.101158,
     "end_time": "2022-03-30T17:06:16.303894",
     "exception": false,
     "start_time": "2022-03-30T17:06:16.202736",
     "status": "completed"
    },
    "tags": []
   },
   "outputs": [
    {
     "data": {
      "text/html": [
       "<div>\n",
       "<style scoped>\n",
       "    .dataframe tbody tr th:only-of-type {\n",
       "        vertical-align: middle;\n",
       "    }\n",
       "\n",
       "    .dataframe tbody tr th {\n",
       "        vertical-align: top;\n",
       "    }\n",
       "\n",
       "    .dataframe thead th {\n",
       "        text-align: right;\n",
       "    }\n",
       "</style>\n",
       "<table border=\"1\" class=\"dataframe\">\n",
       "  <thead>\n",
       "    <tr style=\"text-align: right;\">\n",
       "      <th></th>\n",
       "      <th>id</th>\n",
       "      <th>listing_url</th>\n",
       "      <th>scrape_id</th>\n",
       "      <th>last_scraped</th>\n",
       "      <th>name</th>\n",
       "      <th>summary</th>\n",
       "      <th>space</th>\n",
       "      <th>description</th>\n",
       "      <th>experiences_offered</th>\n",
       "      <th>neighborhood_overview</th>\n",
       "      <th>...</th>\n",
       "      <th>review_scores_value</th>\n",
       "      <th>requires_license</th>\n",
       "      <th>license</th>\n",
       "      <th>jurisdiction_names</th>\n",
       "      <th>instant_bookable</th>\n",
       "      <th>cancellation_policy</th>\n",
       "      <th>require_guest_profile_picture</th>\n",
       "      <th>require_guest_phone_verification</th>\n",
       "      <th>calculated_host_listings_count</th>\n",
       "      <th>reviews_per_month</th>\n",
       "    </tr>\n",
       "  </thead>\n",
       "  <tbody>\n",
       "    <tr>\n",
       "      <th>0</th>\n",
       "      <td>241032</td>\n",
       "      <td>https://www.airbnb.com/rooms/241032</td>\n",
       "      <td>20160104002432</td>\n",
       "      <td>2016-01-04</td>\n",
       "      <td>Stylish Queen Anne Apartment</td>\n",
       "      <td>NaN</td>\n",
       "      <td>Make your self at home in this charming one-be...</td>\n",
       "      <td>Make your self at home in this charming one-be...</td>\n",
       "      <td>none</td>\n",
       "      <td>NaN</td>\n",
       "      <td>...</td>\n",
       "      <td>10.0</td>\n",
       "      <td>f</td>\n",
       "      <td>NaN</td>\n",
       "      <td>WASHINGTON</td>\n",
       "      <td>f</td>\n",
       "      <td>moderate</td>\n",
       "      <td>f</td>\n",
       "      <td>f</td>\n",
       "      <td>2</td>\n",
       "      <td>4.07</td>\n",
       "    </tr>\n",
       "    <tr>\n",
       "      <th>1</th>\n",
       "      <td>953595</td>\n",
       "      <td>https://www.airbnb.com/rooms/953595</td>\n",
       "      <td>20160104002432</td>\n",
       "      <td>2016-01-04</td>\n",
       "      <td>Bright &amp; Airy Queen Anne Apartment</td>\n",
       "      <td>Chemically sensitive? We've removed the irrita...</td>\n",
       "      <td>Beautiful, hypoallergenic apartment in an extr...</td>\n",
       "      <td>Chemically sensitive? We've removed the irrita...</td>\n",
       "      <td>none</td>\n",
       "      <td>Queen Anne is a wonderful, truly functional vi...</td>\n",
       "      <td>...</td>\n",
       "      <td>10.0</td>\n",
       "      <td>f</td>\n",
       "      <td>NaN</td>\n",
       "      <td>WASHINGTON</td>\n",
       "      <td>f</td>\n",
       "      <td>strict</td>\n",
       "      <td>t</td>\n",
       "      <td>t</td>\n",
       "      <td>6</td>\n",
       "      <td>1.48</td>\n",
       "    </tr>\n",
       "    <tr>\n",
       "      <th>2</th>\n",
       "      <td>3308979</td>\n",
       "      <td>https://www.airbnb.com/rooms/3308979</td>\n",
       "      <td>20160104002432</td>\n",
       "      <td>2016-01-04</td>\n",
       "      <td>New Modern House-Amazing water view</td>\n",
       "      <td>New modern house built in 2013.  Spectacular s...</td>\n",
       "      <td>Our house is modern, light and fresh with a wa...</td>\n",
       "      <td>New modern house built in 2013.  Spectacular s...</td>\n",
       "      <td>none</td>\n",
       "      <td>Upper Queen Anne is a charming neighborhood fu...</td>\n",
       "      <td>...</td>\n",
       "      <td>10.0</td>\n",
       "      <td>f</td>\n",
       "      <td>NaN</td>\n",
       "      <td>WASHINGTON</td>\n",
       "      <td>f</td>\n",
       "      <td>strict</td>\n",
       "      <td>f</td>\n",
       "      <td>f</td>\n",
       "      <td>2</td>\n",
       "      <td>1.15</td>\n",
       "    </tr>\n",
       "    <tr>\n",
       "      <th>3</th>\n",
       "      <td>7421966</td>\n",
       "      <td>https://www.airbnb.com/rooms/7421966</td>\n",
       "      <td>20160104002432</td>\n",
       "      <td>2016-01-04</td>\n",
       "      <td>Queen Anne Chateau</td>\n",
       "      <td>A charming apartment that sits atop Queen Anne...</td>\n",
       "      <td>NaN</td>\n",
       "      <td>A charming apartment that sits atop Queen Anne...</td>\n",
       "      <td>none</td>\n",
       "      <td>NaN</td>\n",
       "      <td>...</td>\n",
       "      <td>NaN</td>\n",
       "      <td>f</td>\n",
       "      <td>NaN</td>\n",
       "      <td>WASHINGTON</td>\n",
       "      <td>f</td>\n",
       "      <td>flexible</td>\n",
       "      <td>f</td>\n",
       "      <td>f</td>\n",
       "      <td>1</td>\n",
       "      <td>NaN</td>\n",
       "    </tr>\n",
       "    <tr>\n",
       "      <th>4</th>\n",
       "      <td>278830</td>\n",
       "      <td>https://www.airbnb.com/rooms/278830</td>\n",
       "      <td>20160104002432</td>\n",
       "      <td>2016-01-04</td>\n",
       "      <td>Charming craftsman 3 bdm house</td>\n",
       "      <td>Cozy family craftman house in beautiful neighb...</td>\n",
       "      <td>Cozy family craftman house in beautiful neighb...</td>\n",
       "      <td>Cozy family craftman house in beautiful neighb...</td>\n",
       "      <td>none</td>\n",
       "      <td>We are in the beautiful neighborhood of Queen ...</td>\n",
       "      <td>...</td>\n",
       "      <td>9.0</td>\n",
       "      <td>f</td>\n",
       "      <td>NaN</td>\n",
       "      <td>WASHINGTON</td>\n",
       "      <td>f</td>\n",
       "      <td>strict</td>\n",
       "      <td>f</td>\n",
       "      <td>f</td>\n",
       "      <td>1</td>\n",
       "      <td>0.89</td>\n",
       "    </tr>\n",
       "  </tbody>\n",
       "</table>\n",
       "<p>5 rows × 92 columns</p>\n",
       "</div>"
      ],
      "text/plain": [
       "        id                           listing_url       scrape_id last_scraped  \\\n",
       "0   241032   https://www.airbnb.com/rooms/241032  20160104002432   2016-01-04   \n",
       "1   953595   https://www.airbnb.com/rooms/953595  20160104002432   2016-01-04   \n",
       "2  3308979  https://www.airbnb.com/rooms/3308979  20160104002432   2016-01-04   \n",
       "3  7421966  https://www.airbnb.com/rooms/7421966  20160104002432   2016-01-04   \n",
       "4   278830   https://www.airbnb.com/rooms/278830  20160104002432   2016-01-04   \n",
       "\n",
       "                                  name  \\\n",
       "0         Stylish Queen Anne Apartment   \n",
       "1   Bright & Airy Queen Anne Apartment   \n",
       "2  New Modern House-Amazing water view   \n",
       "3                   Queen Anne Chateau   \n",
       "4       Charming craftsman 3 bdm house   \n",
       "\n",
       "                                             summary  \\\n",
       "0                                                NaN   \n",
       "1  Chemically sensitive? We've removed the irrita...   \n",
       "2  New modern house built in 2013.  Spectacular s...   \n",
       "3  A charming apartment that sits atop Queen Anne...   \n",
       "4  Cozy family craftman house in beautiful neighb...   \n",
       "\n",
       "                                               space  \\\n",
       "0  Make your self at home in this charming one-be...   \n",
       "1  Beautiful, hypoallergenic apartment in an extr...   \n",
       "2  Our house is modern, light and fresh with a wa...   \n",
       "3                                                NaN   \n",
       "4  Cozy family craftman house in beautiful neighb...   \n",
       "\n",
       "                                         description experiences_offered  \\\n",
       "0  Make your self at home in this charming one-be...                none   \n",
       "1  Chemically sensitive? We've removed the irrita...                none   \n",
       "2  New modern house built in 2013.  Spectacular s...                none   \n",
       "3  A charming apartment that sits atop Queen Anne...                none   \n",
       "4  Cozy family craftman house in beautiful neighb...                none   \n",
       "\n",
       "                               neighborhood_overview  ... review_scores_value  \\\n",
       "0                                                NaN  ...                10.0   \n",
       "1  Queen Anne is a wonderful, truly functional vi...  ...                10.0   \n",
       "2  Upper Queen Anne is a charming neighborhood fu...  ...                10.0   \n",
       "3                                                NaN  ...                 NaN   \n",
       "4  We are in the beautiful neighborhood of Queen ...  ...                 9.0   \n",
       "\n",
       "  requires_license license jurisdiction_names instant_bookable  \\\n",
       "0                f     NaN         WASHINGTON                f   \n",
       "1                f     NaN         WASHINGTON                f   \n",
       "2                f     NaN         WASHINGTON                f   \n",
       "3                f     NaN         WASHINGTON                f   \n",
       "4                f     NaN         WASHINGTON                f   \n",
       "\n",
       "  cancellation_policy  require_guest_profile_picture  \\\n",
       "0            moderate                              f   \n",
       "1              strict                              t   \n",
       "2              strict                              f   \n",
       "3            flexible                              f   \n",
       "4              strict                              f   \n",
       "\n",
       "  require_guest_phone_verification calculated_host_listings_count  \\\n",
       "0                                f                              2   \n",
       "1                                t                              6   \n",
       "2                                f                              2   \n",
       "3                                f                              1   \n",
       "4                                f                              1   \n",
       "\n",
       "  reviews_per_month  \n",
       "0              4.07  \n",
       "1              1.48  \n",
       "2              1.15  \n",
       "3               NaN  \n",
       "4              0.89  \n",
       "\n",
       "[5 rows x 92 columns]"
      ]
     },
     "execution_count": 13,
     "metadata": {},
     "output_type": "execute_result"
    }
   ],
   "source": [
    "df_list.head()"
   ]
  },
  {
   "cell_type": "code",
   "execution_count": 14,
   "id": "0f755f84",
   "metadata": {
    "execution": {
     "iopub.execute_input": "2022-03-30T17:06:16.453886Z",
     "iopub.status.busy": "2022-03-30T17:06:16.453174Z",
     "iopub.status.idle": "2022-03-30T17:06:16.546172Z",
     "shell.execute_reply": "2022-03-30T17:06:16.545298Z",
     "shell.execute_reply.started": "2022-03-30T16:48:04.675827Z"
    },
    "papermill": {
     "duration": 0.174891,
     "end_time": "2022-03-30T17:06:16.546344",
     "exception": false,
     "start_time": "2022-03-30T17:06:16.371453",
     "status": "completed"
    },
    "tags": []
   },
   "outputs": [],
   "source": [
    "df_list.dropna(subset=['price'],inplace=True)\n",
    "df_list['price'] = df_list['price'].apply(lambda x:dollar_float(x))\n",
    "df_list['monthly_price'] = df_list['monthly_price'].apply(lambda x:dollar_float(x))\n",
    "df_list['weekly_price'] = df_list['weekly_price'].apply(lambda x:dollar_float(x))\n",
    "df_list['security_deposit'] = df_list['security_deposit'].apply(lambda x:dollar_float(x))\n",
    "df_list['cleaning_fee'] = df_list['cleaning_fee'].apply(lambda x:dollar_float(x))\n",
    "df_list['extra_people'] = df_list['extra_people'].apply(lambda x:dollar_float(x))\n",
    "\n",
    "df_list['host_response_rate'] = df_list['host_response_rate'].apply(lambda x:perc_float(x))\n",
    "df_list['host_since'] = (pd.to_datetime('2017-02-01') - pd.to_datetime(df_list['host_since'])) / np.timedelta64(1, 'D')\n",
    "\n",
    "df_list['last_scraped'] = (pd.to_datetime('2017-02-01') - pd.to_datetime(df_list['last_scraped'])) / np.timedelta64(1, 'D')\n",
    "df_list['first_review'] = (pd.to_datetime('2017-02-01') - pd.to_datetime(df_list['first_review'])) / np.timedelta64(1, 'D')\n",
    "df_list['last_review'] = (pd.to_datetime('2017-02-01') - pd.to_datetime(df_list['last_review'])) / np.timedelta64(1, 'D')"
   ]
  },
  {
   "cell_type": "code",
   "execution_count": 15,
   "id": "0c485edf",
   "metadata": {
    "execution": {
     "iopub.execute_input": "2022-03-30T17:06:16.684468Z",
     "iopub.status.busy": "2022-03-30T17:06:16.683593Z",
     "iopub.status.idle": "2022-03-30T17:06:22.293901Z",
     "shell.execute_reply": "2022-03-30T17:06:22.294442Z",
     "shell.execute_reply.started": "2022-03-30T16:48:04.763456Z"
    },
    "papermill": {
     "duration": 5.681432,
     "end_time": "2022-03-30T17:06:22.294640",
     "exception": false,
     "start_time": "2022-03-30T17:06:16.613208",
     "status": "completed"
    },
    "tags": []
   },
   "outputs": [
    {
     "data": {
      "image/png": "[encoded data removed]",
      "text/plain": [
       "<Figure size 1440x1440 with 42 Axes>"
      ]
     },
     "metadata": {
      "needs_background": "light"
     },
     "output_type": "display_data"
    }
   ],
   "source": [
    "df_list.hist(figsize=(20,20))\n",
    "plt.show()"
   ]
  },
  {
   "cell_type": "code",
   "execution_count": 16,
   "id": "22962185",
   "metadata": {
    "execution": {
     "iopub.execute_input": "2022-03-30T17:06:22.445653Z",
     "iopub.status.busy": "2022-03-30T17:06:22.444931Z",
     "iopub.status.idle": "2022-03-30T17:06:23.055970Z",
     "shell.execute_reply": "2022-03-30T17:06:23.055349Z",
     "shell.execute_reply.started": "2022-03-30T16:48:09.486064Z"
    },
    "papermill": {
     "duration": 0.689717,
     "end_time": "2022-03-30T17:06:23.056127",
     "exception": false,
     "start_time": "2022-03-30T17:06:22.366410",
     "status": "completed"
    },
    "tags": []
   },
   "outputs": [
    {
     "data": {
      "image/png": "[encoded data removed]",
      "text/plain": [
       "<Figure size 432x288 with 2 Axes>"
      ]
     },
     "metadata": {
      "needs_background": "light"
     },
     "output_type": "display_data"
    }
   ],
   "source": [
    "sns.heatmap(df_list.corr())\n",
    "plt.show()"
   ]
  },
  {
   "cell_type": "code",
   "execution_count": 17,
   "id": "9944d6e1",
   "metadata": {
    "execution": {
     "iopub.execute_input": "2022-03-30T17:06:23.209343Z",
     "iopub.status.busy": "2022-03-30T17:06:23.208542Z",
     "iopub.status.idle": "2022-03-30T17:06:23.626500Z",
     "shell.execute_reply": "2022-03-30T17:06:23.625822Z",
     "shell.execute_reply.started": "2022-03-30T16:48:10.132765Z"
    },
    "papermill": {
     "duration": 0.496539,
     "end_time": "2022-03-30T17:06:23.626671",
     "exception": false,
     "start_time": "2022-03-30T17:06:23.130132",
     "status": "completed"
    },
    "tags": []
   },
   "outputs": [
    {
     "data": {
      "image/png": "[encoded data removed]",
      "text/plain": [
       "<Figure size 432x288 with 1 Axes>"
      ]
     },
     "metadata": {
      "needs_background": "light"
     },
     "output_type": "display_data"
    }
   ],
   "source": [
    "df_list.corr()['price'].sort_values(ascending=False).plot.bar()\n",
    "plt.xticks(rotation=90)\n",
    "plt.show()"
   ]
  },
  {
   "cell_type": "code",
   "execution_count": 18,
   "id": "642142c6",
   "metadata": {
    "execution": {
     "iopub.execute_input": "2022-03-30T17:06:23.783793Z",
     "iopub.status.busy": "2022-03-30T17:06:23.782798Z",
     "iopub.status.idle": "2022-03-30T17:06:23.808496Z",
     "shell.execute_reply": "2022-03-30T17:06:23.809063Z",
     "shell.execute_reply.started": "2022-03-30T16:48:10.589742Z"
    },
    "papermill": {
     "duration": 0.106261,
     "end_time": "2022-03-30T17:06:23.809277",
     "exception": false,
     "start_time": "2022-03-30T17:06:23.703016",
     "status": "completed"
    },
    "tags": []
   },
   "outputs": [
    {
     "data": {
      "text/plain": [
       "<bound method Series.sort_values of id                                0.091716\n",
       "scrape_id                              NaN\n",
       "last_scraped                           NaN\n",
       "host_id                           0.106389\n",
       "host_since                       -0.142958\n",
       "host_response_rate                0.171140\n",
       "host_listings_count              -0.117272\n",
       "host_total_listings_count        -0.117272\n",
       "latitude                         -0.084988\n",
       "longitude                         0.002583\n",
       "accommodates                     -0.144150\n",
       "bathrooms                        -0.167894\n",
       "bedrooms                         -0.230287\n",
       "beds                             -0.149079\n",
       "square_feet                      -0.176298\n",
       "price                            -0.218588\n",
       "weekly_price                     -0.131621\n",
       "monthly_price                    -0.030253\n",
       "security_deposit                 -0.140299\n",
       "cleaning_fee                     -0.303313\n",
       "guests_included                  -0.028903\n",
       "extra_people                      0.004094\n",
       "minimum_nights                   -0.034225\n",
       "maximum_nights                   -0.032458\n",
       "availability_30                   0.053386\n",
       "availability_60                   0.106876\n",
       "availability_90                   0.123269\n",
       "availability_365                  0.002312\n",
       "number_of_reviews                 0.561438\n",
       "first_review                     -0.072065\n",
       "last_review                      -0.390974\n",
       "review_scores_rating              0.087313\n",
       "review_scores_accuracy            0.143613\n",
       "review_scores_cleanliness         0.133974\n",
       "review_scores_checkin             0.123107\n",
       "review_scores_communication       0.104313\n",
       "review_scores_location            0.062151\n",
       "review_scores_value               0.126014\n",
       "license                                NaN\n",
       "calculated_host_listings_count   -0.102007\n",
       "reviews_per_month                 1.000000\n",
       "Name: reviews_per_month, dtype: float64>"
      ]
     },
     "execution_count": 18,
     "metadata": {},
     "output_type": "execute_result"
    }
   ],
   "source": [
    "df_list.corr()[\"reviews_per_month\"].sort_values"
   ]
  },
  {
   "cell_type": "code",
   "execution_count": 19,
   "id": "7042f1bb",
   "metadata": {
    "execution": {
     "iopub.execute_input": "2022-03-30T17:06:23.967290Z",
     "iopub.status.busy": "2022-03-30T17:06:23.966507Z",
     "iopub.status.idle": "2022-03-30T17:06:23.969433Z",
     "shell.execute_reply": "2022-03-30T17:06:23.969933Z",
     "shell.execute_reply.started": "2022-03-30T16:48:10.622324Z"
    },
    "papermill": {
     "duration": 0.086599,
     "end_time": "2022-03-30T17:06:23.970144",
     "exception": false,
     "start_time": "2022-03-30T17:06:23.883545",
     "status": "completed"
    },
    "tags": []
   },
   "outputs": [
    {
     "data": {
      "text/plain": [
       "0    {TV,\"Cable TV\",Internet,\"Wireless Internet\",\"A...\n",
       "1    {TV,Internet,\"Wireless Internet\",Kitchen,\"Free...\n",
       "2    {TV,\"Cable TV\",Internet,\"Wireless Internet\",\"A...\n",
       "3    {Internet,\"Wireless Internet\",Kitchen,\"Indoor ...\n",
       "4    {TV,\"Cable TV\",Internet,\"Wireless Internet\",Ki...\n",
       "Name: amenities, dtype: object"
      ]
     },
     "execution_count": 19,
     "metadata": {},
     "output_type": "execute_result"
    }
   ],
   "source": [
    "df_list.amenities.head()"
   ]
  },
  {
   "cell_type": "code",
   "execution_count": 20,
   "id": "d723c5b4",
   "metadata": {
    "execution": {
     "iopub.execute_input": "2022-03-30T17:06:24.128803Z",
     "iopub.status.busy": "2022-03-30T17:06:24.127723Z",
     "iopub.status.idle": "2022-03-30T17:06:24.163197Z",
     "shell.execute_reply": "2022-03-30T17:06:24.163774Z",
     "shell.execute_reply.started": "2022-03-30T16:48:10.632919Z"
    },
    "papermill": {
     "duration": 0.115739,
     "end_time": "2022-03-30T17:06:24.163989",
     "exception": false,
     "start_time": "2022-03-30T17:06:24.048250",
     "status": "completed"
    },
    "tags": []
   },
   "outputs": [
    {
     "data": {
      "text/plain": [
       "array(['TV', 'Cable TV', 'Internet', 'Wireless Internet',\n",
       "       'Air Conditioning', 'Kitchen', 'Heating', 'Family/Kid Friendly',\n",
       "       'Washer', 'Dryer', 'Free Parking on Premises',\n",
       "       'Buzzer/Wireless Intercom', 'Smoke Detector',\n",
       "       'Carbon Monoxide Detector', 'First Aid Kit', 'Safety Card',\n",
       "       'Fire Extinguisher', 'Essentials', 'Pets Allowed',\n",
       "       'Pets live on this property', 'Dog(s)', 'Cat(s)', 'Hot Tub',\n",
       "       'Indoor Fireplace', 'Shampoo', 'Breakfast', '24-Hour Check-in',\n",
       "       'Hangers', 'Hair Dryer', 'Iron', 'Laptop Friendly Workspace',\n",
       "       'Suitable for Events', 'Elevator in Building',\n",
       "       'Lock on Bedroom Door', 'Wheelchair Accessible', 'Gym', '', 'Pool',\n",
       "       'Smoking Allowed', 'Other pet(s)', 'Doorman', 'Washer / Dryer'],\n",
       "      dtype=object)"
      ]
     },
     "execution_count": 20,
     "metadata": {},
     "output_type": "execute_result"
    }
   ],
   "source": [
    "all_ame = []\n",
    "for x in df_list.amenities:\n",
    "    all_ame.extend(x.replace('{','').replace('}','').replace('\"','').split(','))\n",
    "unique_ame = pd.unique(all_ame)\n",
    "unique_ame"
   ]
  },
  {
   "cell_type": "code",
   "execution_count": 21,
   "id": "560f8b52",
   "metadata": {
    "execution": {
     "iopub.execute_input": "2022-03-30T17:06:24.319996Z",
     "iopub.status.busy": "2022-03-30T17:06:24.318831Z",
     "iopub.status.idle": "2022-03-30T17:06:25.249025Z",
     "shell.execute_reply": "2022-03-30T17:06:25.249531Z",
     "shell.execute_reply.started": "2022-03-30T16:48:10.677420Z"
    },
    "papermill": {
     "duration": 1.010251,
     "end_time": "2022-03-30T17:06:25.249729",
     "exception": false,
     "start_time": "2022-03-30T17:06:24.239478",
     "status": "completed"
    },
    "tags": []
   },
   "outputs": [
    {
     "data": {
      "text/html": [
       "<div>\n",
       "<style scoped>\n",
       "    .dataframe tbody tr th:only-of-type {\n",
       "        vertical-align: middle;\n",
       "    }\n",
       "\n",
       "    .dataframe tbody tr th {\n",
       "        vertical-align: top;\n",
       "    }\n",
       "\n",
       "    .dataframe thead th {\n",
       "        text-align: right;\n",
       "    }\n",
       "</style>\n",
       "<table border=\"1\" class=\"dataframe\">\n",
       "  <thead>\n",
       "    <tr style=\"text-align: right;\">\n",
       "      <th></th>\n",
       "      <th>TV</th>\n",
       "      <th>Cable TV</th>\n",
       "      <th>Internet</th>\n",
       "      <th>Wireless Internet</th>\n",
       "      <th>Air Conditioning</th>\n",
       "      <th>Kitchen</th>\n",
       "      <th>Heating</th>\n",
       "      <th>Family/Kid Friendly</th>\n",
       "      <th>Washer</th>\n",
       "      <th>Dryer</th>\n",
       "      <th>...</th>\n",
       "      <th>Elevator in Building</th>\n",
       "      <th>Lock on Bedroom Door</th>\n",
       "      <th>Wheelchair Accessible</th>\n",
       "      <th>Gym</th>\n",
       "      <th></th>\n",
       "      <th>Pool</th>\n",
       "      <th>Smoking Allowed</th>\n",
       "      <th>Other pet(s)</th>\n",
       "      <th>Doorman</th>\n",
       "      <th>Washer / Dryer</th>\n",
       "    </tr>\n",
       "  </thead>\n",
       "  <tbody>\n",
       "    <tr>\n",
       "      <th>0</th>\n",
       "      <td>1.0</td>\n",
       "      <td>1.0</td>\n",
       "      <td>1.0</td>\n",
       "      <td>1.0</td>\n",
       "      <td>1.0</td>\n",
       "      <td>1.0</td>\n",
       "      <td>1.0</td>\n",
       "      <td>1.0</td>\n",
       "      <td>1.0</td>\n",
       "      <td>1.0</td>\n",
       "      <td>...</td>\n",
       "      <td>0.0</td>\n",
       "      <td>0.0</td>\n",
       "      <td>0.0</td>\n",
       "      <td>0.0</td>\n",
       "      <td>0.0</td>\n",
       "      <td>0.0</td>\n",
       "      <td>0.0</td>\n",
       "      <td>0.0</td>\n",
       "      <td>0.0</td>\n",
       "      <td>0.0</td>\n",
       "    </tr>\n",
       "    <tr>\n",
       "      <th>1</th>\n",
       "      <td>1.0</td>\n",
       "      <td>0.0</td>\n",
       "      <td>1.0</td>\n",
       "      <td>1.0</td>\n",
       "      <td>0.0</td>\n",
       "      <td>1.0</td>\n",
       "      <td>1.0</td>\n",
       "      <td>1.0</td>\n",
       "      <td>1.0</td>\n",
       "      <td>1.0</td>\n",
       "      <td>...</td>\n",
       "      <td>0.0</td>\n",
       "      <td>0.0</td>\n",
       "      <td>0.0</td>\n",
       "      <td>0.0</td>\n",
       "      <td>0.0</td>\n",
       "      <td>0.0</td>\n",
       "      <td>0.0</td>\n",
       "      <td>0.0</td>\n",
       "      <td>0.0</td>\n",
       "      <td>0.0</td>\n",
       "    </tr>\n",
       "    <tr>\n",
       "      <th>2</th>\n",
       "      <td>1.0</td>\n",
       "      <td>1.0</td>\n",
       "      <td>1.0</td>\n",
       "      <td>1.0</td>\n",
       "      <td>1.0</td>\n",
       "      <td>1.0</td>\n",
       "      <td>1.0</td>\n",
       "      <td>1.0</td>\n",
       "      <td>1.0</td>\n",
       "      <td>1.0</td>\n",
       "      <td>...</td>\n",
       "      <td>0.0</td>\n",
       "      <td>0.0</td>\n",
       "      <td>0.0</td>\n",
       "      <td>0.0</td>\n",
       "      <td>0.0</td>\n",
       "      <td>0.0</td>\n",
       "      <td>0.0</td>\n",
       "      <td>0.0</td>\n",
       "      <td>0.0</td>\n",
       "      <td>0.0</td>\n",
       "    </tr>\n",
       "    <tr>\n",
       "      <th>3</th>\n",
       "      <td>0.0</td>\n",
       "      <td>0.0</td>\n",
       "      <td>1.0</td>\n",
       "      <td>1.0</td>\n",
       "      <td>0.0</td>\n",
       "      <td>1.0</td>\n",
       "      <td>1.0</td>\n",
       "      <td>1.0</td>\n",
       "      <td>1.0</td>\n",
       "      <td>1.0</td>\n",
       "      <td>...</td>\n",
       "      <td>0.0</td>\n",
       "      <td>0.0</td>\n",
       "      <td>0.0</td>\n",
       "      <td>0.0</td>\n",
       "      <td>0.0</td>\n",
       "      <td>0.0</td>\n",
       "      <td>0.0</td>\n",
       "      <td>0.0</td>\n",
       "      <td>0.0</td>\n",
       "      <td>0.0</td>\n",
       "    </tr>\n",
       "    <tr>\n",
       "      <th>4</th>\n",
       "      <td>1.0</td>\n",
       "      <td>1.0</td>\n",
       "      <td>1.0</td>\n",
       "      <td>1.0</td>\n",
       "      <td>0.0</td>\n",
       "      <td>1.0</td>\n",
       "      <td>1.0</td>\n",
       "      <td>1.0</td>\n",
       "      <td>0.0</td>\n",
       "      <td>0.0</td>\n",
       "      <td>...</td>\n",
       "      <td>0.0</td>\n",
       "      <td>0.0</td>\n",
       "      <td>0.0</td>\n",
       "      <td>0.0</td>\n",
       "      <td>0.0</td>\n",
       "      <td>0.0</td>\n",
       "      <td>0.0</td>\n",
       "      <td>0.0</td>\n",
       "      <td>0.0</td>\n",
       "      <td>0.0</td>\n",
       "    </tr>\n",
       "    <tr>\n",
       "      <th>...</th>\n",
       "      <td>...</td>\n",
       "      <td>...</td>\n",
       "      <td>...</td>\n",
       "      <td>...</td>\n",
       "      <td>...</td>\n",
       "      <td>...</td>\n",
       "      <td>...</td>\n",
       "      <td>...</td>\n",
       "      <td>...</td>\n",
       "      <td>...</td>\n",
       "      <td>...</td>\n",
       "      <td>...</td>\n",
       "      <td>...</td>\n",
       "      <td>...</td>\n",
       "      <td>...</td>\n",
       "      <td>...</td>\n",
       "      <td>...</td>\n",
       "      <td>...</td>\n",
       "      <td>...</td>\n",
       "      <td>...</td>\n",
       "      <td>...</td>\n",
       "    </tr>\n",
       "    <tr>\n",
       "      <th>3813</th>\n",
       "      <td>1.0</td>\n",
       "      <td>1.0</td>\n",
       "      <td>1.0</td>\n",
       "      <td>1.0</td>\n",
       "      <td>1.0</td>\n",
       "      <td>1.0</td>\n",
       "      <td>1.0</td>\n",
       "      <td>1.0</td>\n",
       "      <td>1.0</td>\n",
       "      <td>1.0</td>\n",
       "      <td>...</td>\n",
       "      <td>0.0</td>\n",
       "      <td>0.0</td>\n",
       "      <td>1.0</td>\n",
       "      <td>0.0</td>\n",
       "      <td>0.0</td>\n",
       "      <td>0.0</td>\n",
       "      <td>0.0</td>\n",
       "      <td>0.0</td>\n",
       "      <td>0.0</td>\n",
       "      <td>0.0</td>\n",
       "    </tr>\n",
       "    <tr>\n",
       "      <th>3814</th>\n",
       "      <td>1.0</td>\n",
       "      <td>1.0</td>\n",
       "      <td>1.0</td>\n",
       "      <td>1.0</td>\n",
       "      <td>0.0</td>\n",
       "      <td>1.0</td>\n",
       "      <td>1.0</td>\n",
       "      <td>1.0</td>\n",
       "      <td>0.0</td>\n",
       "      <td>0.0</td>\n",
       "      <td>...</td>\n",
       "      <td>0.0</td>\n",
       "      <td>0.0</td>\n",
       "      <td>0.0</td>\n",
       "      <td>0.0</td>\n",
       "      <td>0.0</td>\n",
       "      <td>0.0</td>\n",
       "      <td>0.0</td>\n",
       "      <td>0.0</td>\n",
       "      <td>0.0</td>\n",
       "      <td>0.0</td>\n",
       "    </tr>\n",
       "    <tr>\n",
       "      <th>3815</th>\n",
       "      <td>0.0</td>\n",
       "      <td>1.0</td>\n",
       "      <td>0.0</td>\n",
       "      <td>1.0</td>\n",
       "      <td>0.0</td>\n",
       "      <td>1.0</td>\n",
       "      <td>1.0</td>\n",
       "      <td>0.0</td>\n",
       "      <td>1.0</td>\n",
       "      <td>1.0</td>\n",
       "      <td>...</td>\n",
       "      <td>0.0</td>\n",
       "      <td>0.0</td>\n",
       "      <td>0.0</td>\n",
       "      <td>0.0</td>\n",
       "      <td>0.0</td>\n",
       "      <td>0.0</td>\n",
       "      <td>0.0</td>\n",
       "      <td>0.0</td>\n",
       "      <td>0.0</td>\n",
       "      <td>0.0</td>\n",
       "    </tr>\n",
       "    <tr>\n",
       "      <th>3816</th>\n",
       "      <td>1.0</td>\n",
       "      <td>0.0</td>\n",
       "      <td>0.0</td>\n",
       "      <td>1.0</td>\n",
       "      <td>0.0</td>\n",
       "      <td>1.0</td>\n",
       "      <td>1.0</td>\n",
       "      <td>0.0</td>\n",
       "      <td>0.0</td>\n",
       "      <td>0.0</td>\n",
       "      <td>...</td>\n",
       "      <td>1.0</td>\n",
       "      <td>0.0</td>\n",
       "      <td>0.0</td>\n",
       "      <td>0.0</td>\n",
       "      <td>0.0</td>\n",
       "      <td>0.0</td>\n",
       "      <td>0.0</td>\n",
       "      <td>0.0</td>\n",
       "      <td>0.0</td>\n",
       "      <td>0.0</td>\n",
       "    </tr>\n",
       "    <tr>\n",
       "      <th>3817</th>\n",
       "      <td>1.0</td>\n",
       "      <td>1.0</td>\n",
       "      <td>1.0</td>\n",
       "      <td>1.0</td>\n",
       "      <td>0.0</td>\n",
       "      <td>1.0</td>\n",
       "      <td>1.0</td>\n",
       "      <td>1.0</td>\n",
       "      <td>1.0</td>\n",
       "      <td>1.0</td>\n",
       "      <td>...</td>\n",
       "      <td>1.0</td>\n",
       "      <td>0.0</td>\n",
       "      <td>0.0</td>\n",
       "      <td>0.0</td>\n",
       "      <td>0.0</td>\n",
       "      <td>0.0</td>\n",
       "      <td>0.0</td>\n",
       "      <td>0.0</td>\n",
       "      <td>0.0</td>\n",
       "      <td>0.0</td>\n",
       "    </tr>\n",
       "  </tbody>\n",
       "</table>\n",
       "<p>3818 rows × 42 columns</p>\n",
       "</div>"
      ],
      "text/plain": [
       "       TV  Cable TV  Internet  Wireless Internet  Air Conditioning  Kitchen  \\\n",
       "0     1.0       1.0       1.0                1.0               1.0      1.0   \n",
       "1     1.0       0.0       1.0                1.0               0.0      1.0   \n",
       "2     1.0       1.0       1.0                1.0               1.0      1.0   \n",
       "3     0.0       0.0       1.0                1.0               0.0      1.0   \n",
       "4     1.0       1.0       1.0                1.0               0.0      1.0   \n",
       "...   ...       ...       ...                ...               ...      ...   \n",
       "3813  1.0       1.0       1.0                1.0               1.0      1.0   \n",
       "3814  1.0       1.0       1.0                1.0               0.0      1.0   \n",
       "3815  0.0       1.0       0.0                1.0               0.0      1.0   \n",
       "3816  1.0       0.0       0.0                1.0               0.0      1.0   \n",
       "3817  1.0       1.0       1.0                1.0               0.0      1.0   \n",
       "\n",
       "      Heating  Family/Kid Friendly  Washer  Dryer  ...  Elevator in Building  \\\n",
       "0         1.0                  1.0     1.0    1.0  ...                   0.0   \n",
       "1         1.0                  1.0     1.0    1.0  ...                   0.0   \n",
       "2         1.0                  1.0     1.0    1.0  ...                   0.0   \n",
       "3         1.0                  1.0     1.0    1.0  ...                   0.0   \n",
       "4         1.0                  1.0     0.0    0.0  ...                   0.0   \n",
       "...       ...                  ...     ...    ...  ...                   ...   \n",
       "3813      1.0                  1.0     1.0    1.0  ...                   0.0   \n",
       "3814      1.0                  1.0     0.0    0.0  ...                   0.0   \n",
       "3815      1.0                  0.0     1.0    1.0  ...                   0.0   \n",
       "3816      1.0                  0.0     0.0    0.0  ...                   1.0   \n",
       "3817      1.0                  1.0     1.0    1.0  ...                   1.0   \n",
       "\n",
       "      Lock on Bedroom Door  Wheelchair Accessible  Gym       Pool  \\\n",
       "0                      0.0                    0.0  0.0  0.0   0.0   \n",
       "1                      0.0                    0.0  0.0  0.0   0.0   \n",
       "2                      0.0                    0.0  0.0  0.0   0.0   \n",
       "3                      0.0                    0.0  0.0  0.0   0.0   \n",
       "4                      0.0                    0.0  0.0  0.0   0.0   \n",
       "...                    ...                    ...  ...  ...   ...   \n",
       "3813                   0.0                    1.0  0.0  0.0   0.0   \n",
       "3814                   0.0                    0.0  0.0  0.0   0.0   \n",
       "3815                   0.0                    0.0  0.0  0.0   0.0   \n",
       "3816                   0.0                    0.0  0.0  0.0   0.0   \n",
       "3817                   0.0                    0.0  0.0  0.0   0.0   \n",
       "\n",
       "      Smoking Allowed  Other pet(s)  Doorman  Washer / Dryer  \n",
       "0                 0.0           0.0      0.0             0.0  \n",
       "1                 0.0           0.0      0.0             0.0  \n",
       "2                 0.0           0.0      0.0             0.0  \n",
       "3                 0.0           0.0      0.0             0.0  \n",
       "4                 0.0           0.0      0.0             0.0  \n",
       "...               ...           ...      ...             ...  \n",
       "3813              0.0           0.0      0.0             0.0  \n",
       "3814              0.0           0.0      0.0             0.0  \n",
       "3815              0.0           0.0      0.0             0.0  \n",
       "3816              0.0           0.0      0.0             0.0  \n",
       "3817              0.0           0.0      0.0             0.0  \n",
       "\n",
       "[3818 rows x 42 columns]"
      ]
     },
     "execution_count": 21,
     "metadata": {},
     "output_type": "execute_result"
    }
   ],
   "source": [
    "zero_matrix = np.zeros((len(df_list),len(unique_ame)))\n",
    "dummies_ame = pd.DataFrame(zero_matrix,columns=unique_ame)\n",
    "for i,ame in enumerate(df_list.amenities):\n",
    "    indices = dummies_ame.columns.get_indexer(ame.replace('{','').replace('}','').replace('\"','').split(','))\n",
    "    dummies_ame.iloc[i,indices]=1\n",
    "dummies_ame"
   ]
  },
  {
   "cell_type": "code",
   "execution_count": 22,
   "id": "c9a55b07",
   "metadata": {
    "execution": {
     "iopub.execute_input": "2022-03-30T17:06:25.404819Z",
     "iopub.status.busy": "2022-03-30T17:06:25.404012Z",
     "iopub.status.idle": "2022-03-30T17:06:25.888812Z",
     "shell.execute_reply": "2022-03-30T17:06:25.889390Z",
     "shell.execute_reply.started": "2022-03-30T16:48:11.637852Z"
    },
    "papermill": {
     "duration": 0.564007,
     "end_time": "2022-03-30T17:06:25.889600",
     "exception": false,
     "start_time": "2022-03-30T17:06:25.325593",
     "status": "completed"
    },
    "tags": []
   },
   "outputs": [
    {
     "data": {
      "text/plain": [
       "<AxesSubplot:>"
      ]
     },
     "execution_count": 22,
     "metadata": {},
     "output_type": "execute_result"
    },
    {
     "data": {
      "image/png": "[encoded data removed]",
      "text/plain": [
       "<Figure size 432x288 with 2 Axes>"
      ]
     },
     "metadata": {
      "needs_background": "light"
     },
     "output_type": "display_data"
    }
   ],
   "source": [
    "sns.heatmap(dummies_ame.corr())"
   ]
  },
  {
   "cell_type": "code",
   "execution_count": 23,
   "id": "414dd032",
   "metadata": {
    "execution": {
     "iopub.execute_input": "2022-03-30T17:06:26.058705Z",
     "iopub.status.busy": "2022-03-30T17:06:26.057268Z",
     "iopub.status.idle": "2022-03-30T17:06:26.473444Z",
     "shell.execute_reply": "2022-03-30T17:06:26.472824Z",
     "shell.execute_reply.started": "2022-03-30T16:48:12.384956Z"
    },
    "papermill": {
     "duration": 0.504862,
     "end_time": "2022-03-30T17:06:26.473605",
     "exception": false,
     "start_time": "2022-03-30T17:06:25.968743",
     "status": "completed"
    },
    "tags": []
   },
   "outputs": [
    {
     "data": {
      "image/png": "[encoded data removed]",
      "text/plain": [
       "<Figure size 432x288 with 1 Axes>"
      ]
     },
     "metadata": {
      "needs_background": "light"
     },
     "output_type": "display_data"
    }
   ],
   "source": [
    "df_list_ame_price = pd.concat([df_list['price'],dummies_ame],axis=1)\n",
    "df_list_ame_price.corr()['price'].sort_values(ascending=False).plot.bar()\n",
    "plt.xticks(rotation=90)\n",
    "plt.show()"
   ]
  },
  {
   "cell_type": "code",
   "execution_count": 24,
   "id": "275b9789",
   "metadata": {
    "execution": {
     "iopub.execute_input": "2022-03-30T17:06:26.637050Z",
     "iopub.status.busy": "2022-03-30T17:06:26.635934Z",
     "iopub.status.idle": "2022-03-30T17:06:27.057772Z",
     "shell.execute_reply": "2022-03-30T17:06:27.058370Z",
     "shell.execute_reply.started": "2022-03-30T16:48:12.845598Z"
    },
    "papermill": {
     "duration": 0.505817,
     "end_time": "2022-03-30T17:06:27.058586",
     "exception": false,
     "start_time": "2022-03-30T17:06:26.552769",
     "status": "completed"
    },
    "tags": []
   },
   "outputs": [
    {
     "data": {
      "image/png": "[encoded data removed]",
      "text/plain": [
       "<Figure size 432x288 with 1 Axes>"
      ]
     },
     "metadata": {
      "needs_background": "light"
     },
     "output_type": "display_data"
    }
   ],
   "source": [
    "df_list_ame_review = pd.concat([df_list['review_scores_rating'],dummies_ame],axis=1)\n",
    "df_list_ame_review.corr()['review_scores_rating'].sort_values(ascending=False).plot.bar()\n",
    "plt.xticks(rotation=90)\n",
    "plt.show()"
   ]
  },
  {
   "cell_type": "code",
   "execution_count": 25,
   "id": "6ad870c2",
   "metadata": {
    "execution": {
     "iopub.execute_input": "2022-03-30T17:06:27.227339Z",
     "iopub.status.busy": "2022-03-30T17:06:27.226253Z",
     "iopub.status.idle": "2022-03-30T17:06:27.234482Z",
     "shell.execute_reply": "2022-03-30T17:06:27.235074Z",
     "shell.execute_reply.started": "2022-03-30T16:49:23.478123Z"
    },
    "papermill": {
     "duration": 0.094434,
     "end_time": "2022-03-30T17:06:27.235281",
     "exception": false,
     "start_time": "2022-03-30T17:06:27.140847",
     "status": "completed"
    },
    "tags": []
   },
   "outputs": [
    {
     "data": {
      "text/plain": [
       "<bound method NDFrame.head of 0                    ['email', 'phone', 'reviews', 'kba']\n",
       "1       ['email', 'phone', 'facebook', 'linkedin', 're...\n",
       "2        ['email', 'phone', 'google', 'reviews', 'jumio']\n",
       "3       ['email', 'phone', 'facebook', 'reviews', 'jum...\n",
       "4        ['email', 'phone', 'facebook', 'reviews', 'kba']\n",
       "                              ...                        \n",
       "3813    ['email', 'phone', 'linkedin', 'reviews', 'jum...\n",
       "3814    ['email', 'phone', 'facebook', 'reviews', 'jum...\n",
       "3815                                            ['phone']\n",
       "3816     ['email', 'phone', 'facebook', 'reviews', 'kba']\n",
       "3817                 ['email', 'phone', 'reviews', 'kba']\n",
       "Name: host_verifications, Length: 3818, dtype: object>"
      ]
     },
     "execution_count": 25,
     "metadata": {},
     "output_type": "execute_result"
    }
   ],
   "source": [
    "df_list.host_verifications.head"
   ]
  },
  {
   "cell_type": "code",
   "execution_count": 26,
   "id": "da680b20",
   "metadata": {
    "execution": {
     "iopub.execute_input": "2022-03-30T17:06:27.407097Z",
     "iopub.status.busy": "2022-03-30T17:06:27.406239Z",
     "iopub.status.idle": "2022-03-30T17:06:27.426594Z",
     "shell.execute_reply": "2022-03-30T17:06:27.427186Z",
     "shell.execute_reply.started": "2022-03-30T16:49:59.969262Z"
    },
    "papermill": {
     "duration": 0.110106,
     "end_time": "2022-03-30T17:06:27.427404",
     "exception": false,
     "start_time": "2022-03-30T17:06:27.317298",
     "status": "completed"
    },
    "tags": []
   },
   "outputs": [
    {
     "data": {
      "text/plain": [
       "array(['email', 'phone', 'reviews', 'kba', 'facebook', 'linkedin',\n",
       "       'jumio', 'google', 'manual_offline', 'amex', 'manual_online',\n",
       "       'sent_id', 'photographer', '', 'None', 'weibo'], dtype=object)"
      ]
     },
     "execution_count": 26,
     "metadata": {},
     "output_type": "execute_result"
    }
   ],
   "source": [
    "all_h_ver = []\n",
    "for x in df_list.host_verifications:\n",
    "    all_h_ver.extend(x.replace('[','').replace(']','').replace(\"'\",'').replace(\" \",\"\").split(','))\n",
    "unique_h_ver = pd.unique(all_h_ver)\n",
    "unique_h_ver"
   ]
  },
  {
   "cell_type": "code",
   "execution_count": 27,
   "id": "2f6d1145",
   "metadata": {
    "execution": {
     "iopub.execute_input": "2022-03-30T17:06:27.597534Z",
     "iopub.status.busy": "2022-03-30T17:06:27.596765Z",
     "iopub.status.idle": "2022-03-30T17:06:28.460558Z",
     "shell.execute_reply": "2022-03-30T17:06:28.461110Z",
     "shell.execute_reply.started": "2022-03-30T16:50:20.184844Z"
    },
    "papermill": {
     "duration": 0.950508,
     "end_time": "2022-03-30T17:06:28.461332",
     "exception": false,
     "start_time": "2022-03-30T17:06:27.510824",
     "status": "completed"
    },
    "tags": []
   },
   "outputs": [
    {
     "data": {
      "text/html": [
       "<div>\n",
       "<style scoped>\n",
       "    .dataframe tbody tr th:only-of-type {\n",
       "        vertical-align: middle;\n",
       "    }\n",
       "\n",
       "    .dataframe tbody tr th {\n",
       "        vertical-align: top;\n",
       "    }\n",
       "\n",
       "    .dataframe thead th {\n",
       "        text-align: right;\n",
       "    }\n",
       "</style>\n",
       "<table border=\"1\" class=\"dataframe\">\n",
       "  <thead>\n",
       "    <tr style=\"text-align: right;\">\n",
       "      <th></th>\n",
       "      <th>email</th>\n",
       "      <th>phone</th>\n",
       "      <th>reviews</th>\n",
       "      <th>kba</th>\n",
       "      <th>facebook</th>\n",
       "      <th>linkedin</th>\n",
       "      <th>jumio</th>\n",
       "      <th>google</th>\n",
       "      <th>manual_offline</th>\n",
       "      <th>amex</th>\n",
       "      <th>manual_online</th>\n",
       "      <th>sent_id</th>\n",
       "      <th>photographer</th>\n",
       "      <th></th>\n",
       "      <th>None</th>\n",
       "      <th>weibo</th>\n",
       "    </tr>\n",
       "  </thead>\n",
       "  <tbody>\n",
       "    <tr>\n",
       "      <th>0</th>\n",
       "      <td>1.0</td>\n",
       "      <td>1.0</td>\n",
       "      <td>1.0</td>\n",
       "      <td>1.0</td>\n",
       "      <td>0.0</td>\n",
       "      <td>0.0</td>\n",
       "      <td>0.0</td>\n",
       "      <td>0.0</td>\n",
       "      <td>0.0</td>\n",
       "      <td>0.0</td>\n",
       "      <td>0.0</td>\n",
       "      <td>0.0</td>\n",
       "      <td>0.0</td>\n",
       "      <td>0.0</td>\n",
       "      <td>0.0</td>\n",
       "      <td>0.0</td>\n",
       "    </tr>\n",
       "    <tr>\n",
       "      <th>1</th>\n",
       "      <td>1.0</td>\n",
       "      <td>1.0</td>\n",
       "      <td>1.0</td>\n",
       "      <td>0.0</td>\n",
       "      <td>1.0</td>\n",
       "      <td>1.0</td>\n",
       "      <td>1.0</td>\n",
       "      <td>0.0</td>\n",
       "      <td>0.0</td>\n",
       "      <td>0.0</td>\n",
       "      <td>0.0</td>\n",
       "      <td>0.0</td>\n",
       "      <td>0.0</td>\n",
       "      <td>0.0</td>\n",
       "      <td>0.0</td>\n",
       "      <td>0.0</td>\n",
       "    </tr>\n",
       "    <tr>\n",
       "      <th>2</th>\n",
       "      <td>1.0</td>\n",
       "      <td>1.0</td>\n",
       "      <td>1.0</td>\n",
       "      <td>0.0</td>\n",
       "      <td>0.0</td>\n",
       "      <td>0.0</td>\n",
       "      <td>1.0</td>\n",
       "      <td>1.0</td>\n",
       "      <td>0.0</td>\n",
       "      <td>0.0</td>\n",
       "      <td>0.0</td>\n",
       "      <td>0.0</td>\n",
       "      <td>0.0</td>\n",
       "      <td>0.0</td>\n",
       "      <td>0.0</td>\n",
       "      <td>0.0</td>\n",
       "    </tr>\n",
       "    <tr>\n",
       "      <th>3</th>\n",
       "      <td>1.0</td>\n",
       "      <td>1.0</td>\n",
       "      <td>1.0</td>\n",
       "      <td>0.0</td>\n",
       "      <td>1.0</td>\n",
       "      <td>0.0</td>\n",
       "      <td>1.0</td>\n",
       "      <td>0.0</td>\n",
       "      <td>0.0</td>\n",
       "      <td>0.0</td>\n",
       "      <td>0.0</td>\n",
       "      <td>0.0</td>\n",
       "      <td>0.0</td>\n",
       "      <td>0.0</td>\n",
       "      <td>0.0</td>\n",
       "      <td>0.0</td>\n",
       "    </tr>\n",
       "    <tr>\n",
       "      <th>4</th>\n",
       "      <td>1.0</td>\n",
       "      <td>1.0</td>\n",
       "      <td>1.0</td>\n",
       "      <td>1.0</td>\n",
       "      <td>1.0</td>\n",
       "      <td>0.0</td>\n",
       "      <td>0.0</td>\n",
       "      <td>0.0</td>\n",
       "      <td>0.0</td>\n",
       "      <td>0.0</td>\n",
       "      <td>0.0</td>\n",
       "      <td>0.0</td>\n",
       "      <td>0.0</td>\n",
       "      <td>0.0</td>\n",
       "      <td>0.0</td>\n",
       "      <td>0.0</td>\n",
       "    </tr>\n",
       "    <tr>\n",
       "      <th>...</th>\n",
       "      <td>...</td>\n",
       "      <td>...</td>\n",
       "      <td>...</td>\n",
       "      <td>...</td>\n",
       "      <td>...</td>\n",
       "      <td>...</td>\n",
       "      <td>...</td>\n",
       "      <td>...</td>\n",
       "      <td>...</td>\n",
       "      <td>...</td>\n",
       "      <td>...</td>\n",
       "      <td>...</td>\n",
       "      <td>...</td>\n",
       "      <td>...</td>\n",
       "      <td>...</td>\n",
       "      <td>...</td>\n",
       "    </tr>\n",
       "    <tr>\n",
       "      <th>3813</th>\n",
       "      <td>1.0</td>\n",
       "      <td>1.0</td>\n",
       "      <td>1.0</td>\n",
       "      <td>0.0</td>\n",
       "      <td>0.0</td>\n",
       "      <td>1.0</td>\n",
       "      <td>1.0</td>\n",
       "      <td>0.0</td>\n",
       "      <td>0.0</td>\n",
       "      <td>0.0</td>\n",
       "      <td>0.0</td>\n",
       "      <td>0.0</td>\n",
       "      <td>0.0</td>\n",
       "      <td>0.0</td>\n",
       "      <td>0.0</td>\n",
       "      <td>0.0</td>\n",
       "    </tr>\n",
       "    <tr>\n",
       "      <th>3814</th>\n",
       "      <td>1.0</td>\n",
       "      <td>1.0</td>\n",
       "      <td>1.0</td>\n",
       "      <td>0.0</td>\n",
       "      <td>1.0</td>\n",
       "      <td>0.0</td>\n",
       "      <td>1.0</td>\n",
       "      <td>0.0</td>\n",
       "      <td>0.0</td>\n",
       "      <td>0.0</td>\n",
       "      <td>0.0</td>\n",
       "      <td>0.0</td>\n",
       "      <td>0.0</td>\n",
       "      <td>0.0</td>\n",
       "      <td>0.0</td>\n",
       "      <td>0.0</td>\n",
       "    </tr>\n",
       "    <tr>\n",
       "      <th>3815</th>\n",
       "      <td>0.0</td>\n",
       "      <td>1.0</td>\n",
       "      <td>0.0</td>\n",
       "      <td>0.0</td>\n",
       "      <td>0.0</td>\n",
       "      <td>0.0</td>\n",
       "      <td>0.0</td>\n",
       "      <td>0.0</td>\n",
       "      <td>0.0</td>\n",
       "      <td>0.0</td>\n",
       "      <td>0.0</td>\n",
       "      <td>0.0</td>\n",
       "      <td>0.0</td>\n",
       "      <td>0.0</td>\n",
       "      <td>0.0</td>\n",
       "      <td>0.0</td>\n",
       "    </tr>\n",
       "    <tr>\n",
       "      <th>3816</th>\n",
       "      <td>1.0</td>\n",
       "      <td>1.0</td>\n",
       "      <td>1.0</td>\n",
       "      <td>1.0</td>\n",
       "      <td>1.0</td>\n",
       "      <td>0.0</td>\n",
       "      <td>0.0</td>\n",
       "      <td>0.0</td>\n",
       "      <td>0.0</td>\n",
       "      <td>0.0</td>\n",
       "      <td>0.0</td>\n",
       "      <td>0.0</td>\n",
       "      <td>0.0</td>\n",
       "      <td>0.0</td>\n",
       "      <td>0.0</td>\n",
       "      <td>0.0</td>\n",
       "    </tr>\n",
       "    <tr>\n",
       "      <th>3817</th>\n",
       "      <td>1.0</td>\n",
       "      <td>1.0</td>\n",
       "      <td>1.0</td>\n",
       "      <td>1.0</td>\n",
       "      <td>0.0</td>\n",
       "      <td>0.0</td>\n",
       "      <td>0.0</td>\n",
       "      <td>0.0</td>\n",
       "      <td>0.0</td>\n",
       "      <td>0.0</td>\n",
       "      <td>0.0</td>\n",
       "      <td>0.0</td>\n",
       "      <td>0.0</td>\n",
       "      <td>0.0</td>\n",
       "      <td>0.0</td>\n",
       "      <td>0.0</td>\n",
       "    </tr>\n",
       "  </tbody>\n",
       "</table>\n",
       "<p>3818 rows × 16 columns</p>\n",
       "</div>"
      ],
      "text/plain": [
       "      email  phone  reviews  kba  facebook  linkedin  jumio  google  \\\n",
       "0       1.0    1.0      1.0  1.0       0.0       0.0    0.0     0.0   \n",
       "1       1.0    1.0      1.0  0.0       1.0       1.0    1.0     0.0   \n",
       "2       1.0    1.0      1.0  0.0       0.0       0.0    1.0     1.0   \n",
       "3       1.0    1.0      1.0  0.0       1.0       0.0    1.0     0.0   \n",
       "4       1.0    1.0      1.0  1.0       1.0       0.0    0.0     0.0   \n",
       "...     ...    ...      ...  ...       ...       ...    ...     ...   \n",
       "3813    1.0    1.0      1.0  0.0       0.0       1.0    1.0     0.0   \n",
       "3814    1.0    1.0      1.0  0.0       1.0       0.0    1.0     0.0   \n",
       "3815    0.0    1.0      0.0  0.0       0.0       0.0    0.0     0.0   \n",
       "3816    1.0    1.0      1.0  1.0       1.0       0.0    0.0     0.0   \n",
       "3817    1.0    1.0      1.0  1.0       0.0       0.0    0.0     0.0   \n",
       "\n",
       "      manual_offline  amex  manual_online  sent_id  photographer       None  \\\n",
       "0                0.0   0.0            0.0      0.0           0.0  0.0   0.0   \n",
       "1                0.0   0.0            0.0      0.0           0.0  0.0   0.0   \n",
       "2                0.0   0.0            0.0      0.0           0.0  0.0   0.0   \n",
       "3                0.0   0.0            0.0      0.0           0.0  0.0   0.0   \n",
       "4                0.0   0.0            0.0      0.0           0.0  0.0   0.0   \n",
       "...              ...   ...            ...      ...           ...  ...   ...   \n",
       "3813             0.0   0.0            0.0      0.0           0.0  0.0   0.0   \n",
       "3814             0.0   0.0            0.0      0.0           0.0  0.0   0.0   \n",
       "3815             0.0   0.0            0.0      0.0           0.0  0.0   0.0   \n",
       "3816             0.0   0.0            0.0      0.0           0.0  0.0   0.0   \n",
       "3817             0.0   0.0            0.0      0.0           0.0  0.0   0.0   \n",
       "\n",
       "      weibo  \n",
       "0       0.0  \n",
       "1       0.0  \n",
       "2       0.0  \n",
       "3       0.0  \n",
       "4       0.0  \n",
       "...     ...  \n",
       "3813    0.0  \n",
       "3814    0.0  \n",
       "3815    0.0  \n",
       "3816    0.0  \n",
       "3817    0.0  \n",
       "\n",
       "[3818 rows x 16 columns]"
      ]
     },
     "execution_count": 27,
     "metadata": {},
     "output_type": "execute_result"
    }
   ],
   "source": [
    "zero_matrix = np.zeros((len(df_list),len(unique_h_ver)))\n",
    "dummies_h_ver = pd.DataFrame(zero_matrix,columns=unique_h_ver)\n",
    "for i,ver in enumerate(df_list.host_verifications):\n",
    "    indices = dummies_h_ver.columns.get_indexer(ver.replace('[','').replace(']','').replace(\"'\",'').replace(\" \",\"\").split(','))\n",
    "    dummies_h_ver.iloc[i,indices]=1\n",
    "dummies_h_ver"
   ]
  },
  {
   "cell_type": "code",
   "execution_count": 28,
   "id": "b68ea317",
   "metadata": {
    "execution": {
     "iopub.execute_input": "2022-03-30T17:06:28.636494Z",
     "iopub.status.busy": "2022-03-30T17:06:28.635645Z",
     "iopub.status.idle": "2022-03-30T17:06:29.447099Z",
     "shell.execute_reply": "2022-03-30T17:06:29.446393Z",
     "shell.execute_reply.started": "2022-03-30T16:50:28.750819Z"
    },
    "papermill": {
     "duration": 0.899819,
     "end_time": "2022-03-30T17:06:29.447275",
     "exception": false,
     "start_time": "2022-03-30T17:06:28.547456",
     "status": "completed"
    },
    "tags": []
   },
   "outputs": [
    {
     "data": {
      "text/plain": [
       "<AxesSubplot:>"
      ]
     },
     "execution_count": 28,
     "metadata": {},
     "output_type": "execute_result"
    },
    {
     "data": {
      "image/png": "[encoded data removed]",
      "text/plain": [
       "<Figure size 432x288 with 2 Axes>"
      ]
     },
     "metadata": {
      "needs_background": "light"
     },
     "output_type": "display_data"
    }
   ],
   "source": [
    "sns.heatmap(dummies_h_ver.corr())"
   ]
  },
  {
   "cell_type": "code",
   "execution_count": 29,
   "id": "29622010",
   "metadata": {
    "execution": {
     "iopub.execute_input": "2022-03-30T17:06:29.626557Z",
     "iopub.status.busy": "2022-03-30T17:06:29.625674Z",
     "iopub.status.idle": "2022-03-30T17:06:29.894370Z",
     "shell.execute_reply": "2022-03-30T17:06:29.893585Z",
     "shell.execute_reply.started": "2022-03-30T16:50:40.415499Z"
    },
    "papermill": {
     "duration": 0.362102,
     "end_time": "2022-03-30T17:06:29.894537",
     "exception": false,
     "start_time": "2022-03-30T17:06:29.532435",
     "status": "completed"
    },
    "tags": []
   },
   "outputs": [
    {
     "data": {
      "image/png": "[encoded data removed]",
      "text/plain": [
       "<Figure size 432x288 with 1 Axes>"
      ]
     },
     "metadata": {
      "needs_background": "light"
     },
     "output_type": "display_data"
    }
   ],
   "source": [
    "df_list_ver_price = pd.concat([df_list['price'],dummies_h_ver],axis=1)\n",
    "df_list_ver_price.corr()['price'].sort_values(ascending=False).plot.bar()\n",
    "plt.xticks(rotation=90)\n",
    "plt.show()"
   ]
  },
  {
   "cell_type": "code",
   "execution_count": 30,
   "id": "4aac79ce",
   "metadata": {
    "execution": {
     "iopub.execute_input": "2022-03-30T17:06:30.078162Z",
     "iopub.status.busy": "2022-03-30T17:06:30.076719Z",
     "iopub.status.idle": "2022-03-30T17:06:30.346583Z",
     "shell.execute_reply": "2022-03-30T17:06:30.347155Z",
     "shell.execute_reply.started": "2022-03-30T16:51:11.018142Z"
    },
    "papermill": {
     "duration": 0.365177,
     "end_time": "2022-03-30T17:06:30.347382",
     "exception": false,
     "start_time": "2022-03-30T17:06:29.982205",
     "status": "completed"
    },
    "tags": []
   },
   "outputs": [
    {
     "data": {
      "image/png": "[encoded data removed]",
      "text/plain": [
       "<Figure size 432x288 with 1 Axes>"
      ]
     },
     "metadata": {
      "needs_background": "light"
     },
     "output_type": "display_data"
    }
   ],
   "source": [
    "df_list_ver_review = pd.concat([df_list['review_scores_rating'],dummies_h_ver],axis=1)\n",
    "df_list_ver_review.corr()['review_scores_rating'].sort_values(ascending=False).plot.bar()\n",
    "plt.xticks(rotation=90)\n",
    "plt.show()"
   ]
  },
  {
   "cell_type": "code",
   "execution_count": 31,
   "id": "d34a6e5f",
   "metadata": {
    "execution": {
     "iopub.execute_input": "2022-03-30T17:06:30.528497Z",
     "iopub.status.busy": "2022-03-30T17:06:30.527474Z",
     "iopub.status.idle": "2022-03-30T17:06:30.592487Z",
     "shell.execute_reply": "2022-03-30T17:06:30.593051Z",
     "shell.execute_reply.started": "2022-03-30T16:51:27.381310Z"
    },
    "papermill": {
     "duration": 0.158707,
     "end_time": "2022-03-30T17:06:30.593251",
     "exception": false,
     "start_time": "2022-03-30T17:06:30.434544",
     "status": "completed"
    },
    "tags": []
   },
   "outputs": [
    {
     "data": {
      "text/plain": [
       "listing_url                         3818\n",
       "picture_url                         3818\n",
       "name                                3792\n",
       "description                         3742\n",
       "medium_url                          3498\n",
       "xl_picture_url                      3498\n",
       "thumbnail_url                       3498\n",
       "summary                             3478\n",
       "amenities                           3284\n",
       "space                               3119\n",
       "host_url                            2751\n",
       "host_thumbnail_url                  2743\n",
       "host_picture_url                    2743\n",
       "transit                             2574\n",
       "neighborhood_overview               2506\n",
       "host_about                          2011\n",
       "notes                               1999\n",
       "host_name                           1466\n",
       "street                              1442\n",
       "host_location                        120\n",
       "host_verifications                   116\n",
       "host_neighbourhood                   102\n",
       "neighbourhood_cleansed                87\n",
       "neighbourhood                         81\n",
       "calendar_updated                      34\n",
       "zipcode                               28\n",
       "neighbourhood_group_cleansed          17\n",
       "property_type                         16\n",
       "city                                   7\n",
       "smart_location                         7\n",
       "bed_type                               5\n",
       "host_response_time                     4\n",
       "room_type                              3\n",
       "cancellation_policy                    3\n",
       "instant_bookable                       2\n",
       "is_location_exact                      2\n",
       "require_guest_profile_picture          2\n",
       "host_identity_verified                 2\n",
       "state                                  2\n",
       "host_has_profile_pic                   2\n",
       "host_is_superhost                      2\n",
       "host_acceptance_rate                   2\n",
       "require_guest_phone_verification       2\n",
       "country                                1\n",
       "country_code                           1\n",
       "market                                 1\n",
       "has_availability                       1\n",
       "calendar_last_scraped                  1\n",
       "requires_license                       1\n",
       "jurisdiction_names                     1\n",
       "experiences_offered                    1\n",
       "dtype: int64"
      ]
     },
     "execution_count": 31,
     "metadata": {},
     "output_type": "execute_result"
    }
   ],
   "source": [
    "df_list_cat = df_list.select_dtypes(include=['object'])\n",
    "df_list_cat.nunique().sort_values(ascending=False)"
   ]
  },
  {
   "cell_type": "code",
   "execution_count": 32,
   "id": "949fa756",
   "metadata": {
    "execution": {
     "iopub.execute_input": "2022-03-30T17:06:30.772179Z",
     "iopub.status.busy": "2022-03-30T17:06:30.771039Z",
     "iopub.status.idle": "2022-03-30T17:06:30.817333Z",
     "shell.execute_reply": "2022-03-30T17:06:30.816630Z",
     "shell.execute_reply.started": "2022-03-30T16:51:52.790451Z"
    },
    "papermill": {
     "duration": 0.137744,
     "end_time": "2022-03-30T17:06:30.817509",
     "exception": false,
     "start_time": "2022-03-30T17:06:30.679765",
     "status": "completed"
    },
    "tags": []
   },
   "outputs": [
    {
     "data": {
      "text/html": [
       "<div>\n",
       "<style scoped>\n",
       "    .dataframe tbody tr th:only-of-type {\n",
       "        vertical-align: middle;\n",
       "    }\n",
       "\n",
       "    .dataframe tbody tr th {\n",
       "        vertical-align: top;\n",
       "    }\n",
       "\n",
       "    .dataframe thead th {\n",
       "        text-align: right;\n",
       "    }\n",
       "</style>\n",
       "<table border=\"1\" class=\"dataframe\">\n",
       "  <thead>\n",
       "    <tr style=\"text-align: right;\">\n",
       "      <th></th>\n",
       "      <th>street</th>\n",
       "      <th>host_location</th>\n",
       "      <th>host_neighbourhood</th>\n",
       "      <th>neighbourhood_cleansed</th>\n",
       "      <th>neighbourhood</th>\n",
       "      <th>neighbourhood_group_cleansed</th>\n",
       "      <th>zipcode</th>\n",
       "      <th>city</th>\n",
       "      <th>state</th>\n",
       "    </tr>\n",
       "  </thead>\n",
       "  <tbody>\n",
       "    <tr>\n",
       "      <th>count</th>\n",
       "      <td>3818</td>\n",
       "      <td>3810</td>\n",
       "      <td>3518</td>\n",
       "      <td>3818</td>\n",
       "      <td>3402</td>\n",
       "      <td>3818</td>\n",
       "      <td>3811</td>\n",
       "      <td>3818</td>\n",
       "      <td>3818</td>\n",
       "    </tr>\n",
       "    <tr>\n",
       "      <th>unique</th>\n",
       "      <td>1442</td>\n",
       "      <td>120</td>\n",
       "      <td>102</td>\n",
       "      <td>87</td>\n",
       "      <td>81</td>\n",
       "      <td>17</td>\n",
       "      <td>28</td>\n",
       "      <td>7</td>\n",
       "      <td>2</td>\n",
       "    </tr>\n",
       "    <tr>\n",
       "      <th>top</th>\n",
       "      <td>1st Avenue, Seattle, WA 98101, United States</td>\n",
       "      <td>Seattle, Washington, United States</td>\n",
       "      <td>Capitol Hill</td>\n",
       "      <td>Broadway</td>\n",
       "      <td>Capitol Hill</td>\n",
       "      <td>Other neighborhoods</td>\n",
       "      <td>98122</td>\n",
       "      <td>Seattle</td>\n",
       "      <td>WA</td>\n",
       "    </tr>\n",
       "    <tr>\n",
       "      <th>freq</th>\n",
       "      <td>30</td>\n",
       "      <td>3259</td>\n",
       "      <td>405</td>\n",
       "      <td>397</td>\n",
       "      <td>351</td>\n",
       "      <td>794</td>\n",
       "      <td>420</td>\n",
       "      <td>3810</td>\n",
       "      <td>3817</td>\n",
       "    </tr>\n",
       "  </tbody>\n",
       "</table>\n",
       "</div>"
      ],
      "text/plain": [
       "                                              street  \\\n",
       "count                                           3818   \n",
       "unique                                          1442   \n",
       "top     1st Avenue, Seattle, WA 98101, United States   \n",
       "freq                                              30   \n",
       "\n",
       "                             host_location host_neighbourhood  \\\n",
       "count                                 3810               3518   \n",
       "unique                                 120                102   \n",
       "top     Seattle, Washington, United States       Capitol Hill   \n",
       "freq                                  3259                405   \n",
       "\n",
       "       neighbourhood_cleansed neighbourhood neighbourhood_group_cleansed  \\\n",
       "count                    3818          3402                         3818   \n",
       "unique                     87            81                           17   \n",
       "top                  Broadway  Capitol Hill          Other neighborhoods   \n",
       "freq                      397           351                          794   \n",
       "\n",
       "       zipcode     city state  \n",
       "count     3811     3818  3818  \n",
       "unique      28        7     2  \n",
       "top      98122  Seattle    WA  \n",
       "freq       420     3810  3817  "
      ]
     },
     "execution_count": 32,
     "metadata": {},
     "output_type": "execute_result"
    }
   ],
   "source": [
    "col_address = ['street','host_location', 'host_neighbourhood', 'neighbourhood_cleansed', 'neighbourhood', \n",
    "         'neighbourhood_group_cleansed','zipcode', 'city','state']\n",
    "df_list[col_address].describe()"
   ]
  },
  {
   "cell_type": "code",
   "execution_count": 33,
   "id": "349e9e03",
   "metadata": {
    "execution": {
     "iopub.execute_input": "2022-03-30T17:06:30.998914Z",
     "iopub.status.busy": "2022-03-30T17:06:30.998167Z",
     "iopub.status.idle": "2022-03-30T17:06:31.020471Z",
     "shell.execute_reply": "2022-03-30T17:06:31.021039Z",
     "shell.execute_reply.started": "2022-03-30T16:52:14.585709Z"
    },
    "papermill": {
     "duration": 0.114971,
     "end_time": "2022-03-30T17:06:31.021282",
     "exception": false,
     "start_time": "2022-03-30T17:06:30.906311",
     "status": "completed"
    },
    "tags": []
   },
   "outputs": [
    {
     "name": "stdout",
     "output_type": "stream",
     "text": [
      "Capitol Hill          405\n",
      "Belltown              254\n",
      "Ballard               210\n",
      "Minor                 191\n",
      "Queen Anne            189\n",
      "                     ... \n",
      "Northwest District      1\n",
      "Beverly Hills           1\n",
      "Long Beach              1\n",
      "Baldwin Hills           1\n",
      "East Village            1\n",
      "Name: host_neighbourhood, Length: 102, dtype: int64\n",
      "Broadway             397\n",
      "Belltown             234\n",
      "Wallingford          167\n",
      "Fremont              158\n",
      "Minor                135\n",
      "                    ... \n",
      "Arbor Heights          5\n",
      "Pinehurst              4\n",
      "South Beacon Hill      4\n",
      "South Park             3\n",
      "Roxhill                2\n",
      "Name: neighbourhood_cleansed, Length: 87, dtype: int64\n",
      "Capitol Hill          351\n",
      "Ballard               213\n",
      "Belltown              204\n",
      "Minor                 192\n",
      "Queen Anne            187\n",
      "                     ... \n",
      "Pike Market             2\n",
      "South Park              2\n",
      "North College Park      1\n",
      "Fairmount Park          1\n",
      "Roxhill                 1\n",
      "Name: neighbourhood, Length: 81, dtype: int64\n",
      "Other neighborhoods    794\n",
      "Capitol Hill           567\n",
      "Downtown               530\n",
      "Central Area           369\n",
      "Queen Anne             295\n",
      "Ballard                230\n",
      "West Seattle           203\n",
      "Rainier Valley         159\n",
      "University District    122\n",
      "Beacon Hill            118\n",
      "Cascade                 89\n",
      "Northgate               80\n",
      "Delridge                79\n",
      "Lake City               67\n",
      "Magnolia                61\n",
      "Seward Park             44\n",
      "Interbay                11\n",
      "Name: neighbourhood_group_cleansed, dtype: int64\n",
      "98122        420\n",
      "98103        394\n",
      "98102        339\n",
      "98105        225\n",
      "98109        202\n",
      "98101        201\n",
      "98144        200\n",
      "98121        196\n",
      "98107        180\n",
      "98115        178\n",
      "98112        167\n",
      "98117        164\n",
      "98118        154\n",
      "98119        143\n",
      "98116        112\n",
      "98104         95\n",
      "98125         71\n",
      "98199         66\n",
      "98126         63\n",
      "98106         58\n",
      "98108         56\n",
      "98133         46\n",
      "98136         44\n",
      "98177         19\n",
      "98178          7\n",
      "98146          5\n",
      "98134          5\n",
      "99\\n98122      1\n",
      "Name: zipcode, dtype: int64\n",
      "Seattle                  3810\n",
      "West Seattle                2\n",
      "Seattle                     2\n",
      "Ballard, Seattle            1\n",
      "西雅图                         1\n",
      "Phinney Ridge Seattle       1\n",
      "seattle                     1\n",
      "Name: city, dtype: int64\n",
      "WA    3817\n",
      "wa       1\n",
      "Name: state, dtype: int64\n"
     ]
    }
   ],
   "source": [
    "for col in col_address:\n",
    "    if col == 'street':\n",
    "        continue\n",
    "    elif col == 'host_location':\n",
    "        continue\n",
    "    else:\n",
    "        print(df_list[col].value_counts())"
   ]
  },
  {
   "cell_type": "code",
   "execution_count": 34,
   "id": "2cf6460d",
   "metadata": {
    "execution": {
     "iopub.execute_input": "2022-03-30T17:06:31.211602Z",
     "iopub.status.busy": "2022-03-30T17:06:31.210714Z",
     "iopub.status.idle": "2022-03-30T17:06:31.215882Z",
     "shell.execute_reply": "2022-03-30T17:06:31.215329Z",
     "shell.execute_reply.started": "2022-03-30T16:53:25.858348Z"
    },
    "papermill": {
     "duration": 0.0985,
     "end_time": "2022-03-30T17:06:31.216080",
     "exception": false,
     "start_time": "2022-03-30T17:06:31.117580",
     "status": "completed"
    },
    "tags": []
   },
   "outputs": [],
   "source": [
    "col_cat = ['neighbourhood_group_cleansed','property_type','calendar_updated',\n",
    "          'smart_location','bed_type','host_response_time','cancellation_policy','room_type',\n",
    "           'instant_bookable','is_location_exact','require_guest_profile_picture','host_identity_verified',\n",
    "           'host_has_profile_pic','host_is_superhost','host_acceptance_rate','require_guest_phone_verification']"
   ]
  },
  {
   "cell_type": "code",
   "execution_count": 35,
   "id": "b185cc73",
   "metadata": {
    "execution": {
     "iopub.execute_input": "2022-03-30T17:06:31.397737Z",
     "iopub.status.busy": "2022-03-30T17:06:31.396990Z",
     "iopub.status.idle": "2022-03-30T17:06:31.428544Z",
     "shell.execute_reply": "2022-03-30T17:06:31.429098Z",
     "shell.execute_reply.started": "2022-03-30T16:53:43.818060Z"
    },
    "papermill": {
     "duration": 0.124237,
     "end_time": "2022-03-30T17:06:31.429300",
     "exception": false,
     "start_time": "2022-03-30T17:06:31.305063",
     "status": "completed"
    },
    "tags": []
   },
   "outputs": [
    {
     "data": {
      "text/plain": [
       "(3818, 89)"
      ]
     },
     "execution_count": 35,
     "metadata": {},
     "output_type": "execute_result"
    }
   ],
   "source": [
    "dummies_cat = pd.get_dummies(df_list[col_cat],prefix_sep='_',drop_first=True, dummy_na=False)\n",
    "dummies_cat.shape"
   ]
  },
  {
   "cell_type": "code",
   "execution_count": 36,
   "id": "fdeabea6",
   "metadata": {
    "execution": {
     "iopub.execute_input": "2022-03-30T17:06:31.613182Z",
     "iopub.status.busy": "2022-03-30T17:06:31.612421Z",
     "iopub.status.idle": "2022-03-30T17:06:31.795930Z",
     "shell.execute_reply": "2022-03-30T17:06:31.796504Z",
     "shell.execute_reply.started": "2022-03-30T16:53:55.441820Z"
    },
    "papermill": {
     "duration": 0.276948,
     "end_time": "2022-03-30T17:06:31.796711",
     "exception": false,
     "start_time": "2022-03-30T17:06:31.519763",
     "status": "completed"
    },
    "tags": []
   },
   "outputs": [
    {
     "data": {
      "text/plain": [
       "price                                      1.000000\n",
       "cancellation_policy_strict                 0.226632\n",
       "calendar_updated_13 months ago             0.145122\n",
       "bed_type_Real Bed                          0.126372\n",
       "neighbourhood_group_cleansed_Downtown      0.117590\n",
       "neighbourhood_group_cleansed_Queen Anne    0.093789\n",
       "calendar_updated_today                     0.086081\n",
       "property_type_Boat                         0.078404\n",
       "neighbourhood_group_cleansed_Magnolia      0.070174\n",
       "require_guest_profile_picture_t            0.063297\n",
       "calendar_updated_5 months ago              0.060952\n",
       "Name: price, dtype: float64"
      ]
     },
     "execution_count": 36,
     "metadata": {},
     "output_type": "execute_result"
    }
   ],
   "source": [
    "df_cat_price = df_list['price']\n",
    "df_cat_price = pd.concat([df_cat_price, dummies_cat],axis=1)\n",
    "df_cat_price.corr()['price'].sort_values(ascending=False)[df_cat_price.corr()['price'].sort_values()>0].head(11)"
   ]
  },
  {
   "cell_type": "code",
   "execution_count": 37,
   "id": "2a99332e",
   "metadata": {
    "execution": {
     "iopub.execute_input": "2022-03-30T17:06:31.983988Z",
     "iopub.status.busy": "2022-03-30T17:06:31.983175Z",
     "iopub.status.idle": "2022-03-30T17:06:32.163988Z",
     "shell.execute_reply": "2022-03-30T17:06:32.163284Z",
     "shell.execute_reply.started": "2022-03-30T16:54:02.325148Z"
    },
    "papermill": {
     "duration": 0.276489,
     "end_time": "2022-03-30T17:06:32.164182",
     "exception": false,
     "start_time": "2022-03-30T17:06:31.887693",
     "status": "completed"
    },
    "tags": []
   },
   "outputs": [
    {
     "data": {
      "text/plain": [
       "room_type_Private room                             -0.387502\n",
       "room_type_Shared room                              -0.158473\n",
       "host_acceptance_rate_100%                          -0.130585\n",
       "host_response_time_within an hour                  -0.114852\n",
       "cancellation_policy_moderate                       -0.102123\n",
       "bed_type_Futon                                     -0.085925\n",
       "neighbourhood_group_cleansed_Rainier Valley        -0.083340\n",
       "neighbourhood_group_cleansed_Delridge              -0.072000\n",
       "neighbourhood_group_cleansed_University District   -0.069133\n",
       "neighbourhood_group_cleansed_Beacon Hill           -0.065915\n",
       "Name: price, dtype: float64"
      ]
     },
     "execution_count": 37,
     "metadata": {},
     "output_type": "execute_result"
    }
   ],
   "source": [
    "df_cat_price.corr()['price'].sort_values()[df_cat_price.corr()['price'].sort_values()<0].head(10)"
   ]
  },
  {
   "cell_type": "code",
   "execution_count": 38,
   "id": "c0f62238",
   "metadata": {
    "execution": {
     "iopub.execute_input": "2022-03-30T17:06:32.361385Z",
     "iopub.status.busy": "2022-03-30T17:06:32.360244Z",
     "iopub.status.idle": "2022-03-30T17:06:32.609662Z",
     "shell.execute_reply": "2022-03-30T17:06:32.608984Z",
     "shell.execute_reply.started": "2022-03-30T16:56:18.645709Z"
    },
    "papermill": {
     "duration": 0.352629,
     "end_time": "2022-03-30T17:06:32.609820",
     "exception": false,
     "start_time": "2022-03-30T17:06:32.257191",
     "status": "completed"
    },
    "tags": []
   },
   "outputs": [
    {
     "data": {
      "text/plain": [
       "(0.0, 400.0)"
      ]
     },
     "execution_count": 38,
     "metadata": {},
     "output_type": "execute_result"
    },
    {
     "data": {
      "image/png": "[encoded data removed]",
      "text/plain": [
       "<Figure size 432x288 with 1 Axes>"
      ]
     },
     "metadata": {
      "needs_background": "light"
     },
     "output_type": "display_data"
    }
   ],
   "source": [
    "ax = sns.boxplot(data=df_list, x='room_type',y='price',fliersize=1)\n",
    "ax.set_xticklabels(ax.get_xticklabels(), rotation=90)\n",
    "ax.set_ylim(0, 400)"
   ]
  },
  {
   "cell_type": "code",
   "execution_count": 39,
   "id": "d6f4b1e3",
   "metadata": {
    "execution": {
     "iopub.execute_input": "2022-03-30T17:06:32.809922Z",
     "iopub.status.busy": "2022-03-30T17:06:32.809135Z",
     "iopub.status.idle": "2022-03-30T17:06:33.395719Z",
     "shell.execute_reply": "2022-03-30T17:06:33.396245Z",
     "shell.execute_reply.started": "2022-03-30T16:56:41.662553Z"
    },
    "papermill": {
     "duration": 0.6944,
     "end_time": "2022-03-30T17:06:33.396442",
     "exception": false,
     "start_time": "2022-03-30T17:06:32.702042",
     "status": "completed"
    },
    "tags": []
   },
   "outputs": [
    {
     "data": {
      "image/png": "[encoded data removed]",
      "text/plain": [
       "<Figure size 1440x504 with 2 Axes>"
      ]
     },
     "metadata": {
      "needs_background": "light"
     },
     "output_type": "display_data"
    }
   ],
   "source": [
    "plt.figure(figsize=(20,7))\n",
    "ax = sns.countplot(data=df_list, x='neighbourhood_group_cleansed',hue='room_type')\n",
    "ax.set_xticklabels(ax.get_xticklabels(), rotation=90)\n",
    "ax.set_xlabel('Neighbourhood_group')\n",
    "ax.set_ylabel('# of listings')\n",
    "\n",
    "ax2 = ax.twinx()\n",
    "ax2.plot(df_list.groupby(['neighbourhood_group_cleansed'])['price'].mean(), color='orange', marker ='o', linewidth=3, label='Listing')\n",
    "ax2.set_ylabel('Average Price, $')\n",
    "\n",
    "ax.set_ylim(0, 600)\n",
    "plt.show()"
   ]
  },
  {
   "cell_type": "code",
   "execution_count": 40,
   "id": "b752df5a",
   "metadata": {
    "execution": {
     "iopub.execute_input": "2022-03-30T17:06:33.589477Z",
     "iopub.status.busy": "2022-03-30T17:06:33.588759Z",
     "iopub.status.idle": "2022-03-30T17:06:34.142479Z",
     "shell.execute_reply": "2022-03-30T17:06:34.143037Z",
     "shell.execute_reply.started": "2022-03-30T16:56:50.864544Z"
    },
    "papermill": {
     "duration": 0.652448,
     "end_time": "2022-03-30T17:06:34.143245",
     "exception": false,
     "start_time": "2022-03-30T17:06:33.490797",
     "status": "completed"
    },
    "tags": []
   },
   "outputs": [
    {
     "data": {
      "text/plain": [
       "(0.0, 400.0)"
      ]
     },
     "execution_count": 40,
     "metadata": {},
     "output_type": "execute_result"
    },
    {
     "data": {
      "image/png": "[encoded data removed]",
      "text/plain": [
       "<Figure size 1440x504 with 1 Axes>"
      ]
     },
     "metadata": {
      "needs_background": "light"
     },
     "output_type": "display_data"
    }
   ],
   "source": [
    "plt.figure(figsize=(20,7))\n",
    "ax = sns.boxplot(data=df_list, x='neighbourhood_group_cleansed',y='price',fliersize=0.1,)\n",
    "\n",
    "ax.set_xticklabels(ax.get_xticklabels(), rotation=90)\n",
    "ax.set_ylim(0, 400)"
   ]
  },
  {
   "cell_type": "code",
   "execution_count": 41,
   "id": "7dac2395",
   "metadata": {
    "execution": {
     "iopub.execute_input": "2022-03-30T17:06:34.341392Z",
     "iopub.status.busy": "2022-03-30T17:06:34.340640Z",
     "iopub.status.idle": "2022-03-30T17:06:34.728484Z",
     "shell.execute_reply": "2022-03-30T17:06:34.729125Z",
     "shell.execute_reply.started": "2022-03-30T16:57:01.684151Z"
    },
    "papermill": {
     "duration": 0.488549,
     "end_time": "2022-03-30T17:06:34.729339",
     "exception": false,
     "start_time": "2022-03-30T17:06:34.240790",
     "status": "completed"
    },
    "tags": []
   },
   "outputs": [
    {
     "data": {
      "text/plain": [
       "<AxesSubplot:title={'center':'Missing values per column'}>"
      ]
     },
     "execution_count": 41,
     "metadata": {},
     "output_type": "execute_result"
    },
    {
     "data": {
      "image/png": "[encoded data removed]",
      "text/plain": [
       "<Figure size 720x504 with 1 Axes>"
      ]
     },
     "metadata": {
      "needs_background": "light"
     },
     "output_type": "display_data"
    }
   ],
   "source": [
    "plt.figure(figsize=(10,7))\n",
    "df_list_missing = df_list.select_dtypes(include=['number']).isnull().mean()\n",
    "df_list_missing[df_list_missing >0].sort_values().plot.bar(title='Missing values per column')"
   ]
  },
  {
   "cell_type": "code",
   "execution_count": 42,
   "id": "0d559424",
   "metadata": {
    "execution": {
     "iopub.execute_input": "2022-03-30T17:06:34.932659Z",
     "iopub.status.busy": "2022-03-30T17:06:34.931861Z",
     "iopub.status.idle": "2022-03-30T17:06:34.941797Z",
     "shell.execute_reply": "2022-03-30T17:06:34.942409Z",
     "shell.execute_reply.started": "2022-03-30T16:57:28.633957Z"
    },
    "papermill": {
     "duration": 0.1137,
     "end_time": "2022-03-30T17:06:34.942622",
     "exception": false,
     "start_time": "2022-03-30T17:06:34.828922",
     "status": "completed"
    },
    "tags": []
   },
   "outputs": [
    {
     "data": {
      "text/plain": [
       "count    1866.000000\n",
       "mean      287.610397\n",
       "std       270.222690\n",
       "min        95.000000\n",
       "25%       150.000000\n",
       "50%       250.000000\n",
       "75%       300.000000\n",
       "max      5000.000000\n",
       "Name: security_deposit, dtype: float64"
      ]
     },
     "execution_count": 42,
     "metadata": {},
     "output_type": "execute_result"
    }
   ],
   "source": [
    "df_list.security_deposit.describe()"
   ]
  },
  {
   "cell_type": "code",
   "execution_count": 43,
   "id": "bf8b7d5a",
   "metadata": {
    "execution": {
     "iopub.execute_input": "2022-03-30T17:06:35.152582Z",
     "iopub.status.busy": "2022-03-30T17:06:35.151815Z",
     "iopub.status.idle": "2022-03-30T17:06:35.160298Z",
     "shell.execute_reply": "2022-03-30T17:06:35.160869Z",
     "shell.execute_reply.started": "2022-03-30T16:57:54.013016Z"
    },
    "papermill": {
     "duration": 0.117038,
     "end_time": "2022-03-30T17:06:35.161092",
     "exception": false,
     "start_time": "2022-03-30T17:06:35.044054",
     "status": "completed"
    },
    "tags": []
   },
   "outputs": [
    {
     "data": {
      "text/plain": [
       "count    2788.000000\n",
       "mean       61.710904\n",
       "std        48.830341\n",
       "min         5.000000\n",
       "25%        25.000000\n",
       "50%        50.000000\n",
       "75%        83.000000\n",
       "max       300.000000\n",
       "Name: cleaning_fee, dtype: float64"
      ]
     },
     "execution_count": 43,
     "metadata": {},
     "output_type": "execute_result"
    }
   ],
   "source": [
    "df_list.cleaning_fee.describe()"
   ]
  },
  {
   "cell_type": "code",
   "execution_count": 44,
   "id": "656650a1",
   "metadata": {
    "execution": {
     "iopub.execute_input": "2022-03-30T17:06:35.361107Z",
     "iopub.status.busy": "2022-03-30T17:06:35.360393Z",
     "iopub.status.idle": "2022-03-30T17:06:35.370131Z",
     "shell.execute_reply": "2022-03-30T17:06:35.370729Z",
     "shell.execute_reply.started": "2022-03-30T16:58:16.263097Z"
    },
    "papermill": {
     "duration": 0.111538,
     "end_time": "2022-03-30T17:06:35.370930",
     "exception": false,
     "start_time": "2022-03-30T17:06:35.259392",
     "status": "completed"
    },
    "tags": []
   },
   "outputs": [
    {
     "data": {
      "text/plain": [
       "113.50665983606558"
      ]
     },
     "execution_count": 44,
     "metadata": {},
     "output_type": "execute_result"
    }
   ],
   "source": [
    "df_list[df_list.security_deposit.isnull()==True].price.mean()"
   ]
  },
  {
   "cell_type": "code",
   "execution_count": 45,
   "id": "6b3bed66",
   "metadata": {
    "execution": {
     "iopub.execute_input": "2022-03-30T17:06:35.572084Z",
     "iopub.status.busy": "2022-03-30T17:06:35.571330Z",
     "iopub.status.idle": "2022-03-30T17:06:35.581096Z",
     "shell.execute_reply": "2022-03-30T17:06:35.581737Z",
     "shell.execute_reply.started": "2022-03-30T16:58:24.138072Z"
    },
    "papermill": {
     "duration": 0.112372,
     "end_time": "2022-03-30T17:06:35.581968",
     "exception": false,
     "start_time": "2022-03-30T17:06:35.469596",
     "status": "completed"
    },
    "tags": []
   },
   "outputs": [
    {
     "data": {
      "text/plain": [
       "143.11254019292605"
      ]
     },
     "execution_count": 45,
     "metadata": {},
     "output_type": "execute_result"
    }
   ],
   "source": [
    "df_list[df_list.security_deposit.isnull()==False].price.mean()"
   ]
  },
  {
   "cell_type": "code",
   "execution_count": 46,
   "id": "d3fb29b6",
   "metadata": {
    "execution": {
     "iopub.execute_input": "2022-03-30T17:06:35.784298Z",
     "iopub.status.busy": "2022-03-30T17:06:35.783462Z",
     "iopub.status.idle": "2022-03-30T17:06:35.792676Z",
     "shell.execute_reply": "2022-03-30T17:06:35.793258Z",
     "shell.execute_reply.started": "2022-03-30T16:59:40.827154Z"
    },
    "papermill": {
     "duration": 0.112465,
     "end_time": "2022-03-30T17:06:35.793464",
     "exception": false,
     "start_time": "2022-03-30T17:06:35.680999",
     "status": "completed"
    },
    "tags": []
   },
   "outputs": [
    {
     "data": {
      "text/plain": [
       "103.94368932038834"
      ]
     },
     "execution_count": 46,
     "metadata": {},
     "output_type": "execute_result"
    }
   ],
   "source": [
    "df_list[df_list.cleaning_fee.isnull()==True].price.mean()"
   ]
  },
  {
   "cell_type": "code",
   "execution_count": 47,
   "id": "e8bb9db0",
   "metadata": {
    "execution": {
     "iopub.execute_input": "2022-03-30T17:06:35.999853Z",
     "iopub.status.busy": "2022-03-30T17:06:35.999151Z",
     "iopub.status.idle": "2022-03-30T17:06:36.010662Z",
     "shell.execute_reply": "2022-03-30T17:06:36.011187Z",
     "shell.execute_reply.started": "2022-03-30T16:59:58.294725Z"
    },
    "papermill": {
     "duration": 0.116318,
     "end_time": "2022-03-30T17:06:36.011400",
     "exception": false,
     "start_time": "2022-03-30T17:06:35.895082",
     "status": "completed"
    },
    "tags": []
   },
   "outputs": [
    {
     "data": {
      "text/plain": [
       "136.85473457675752"
      ]
     },
     "execution_count": 47,
     "metadata": {},
     "output_type": "execute_result"
    }
   ],
   "source": [
    "df_list[df_list.cleaning_fee.isnull()==False].price.mean()"
   ]
  },
  {
   "cell_type": "code",
   "execution_count": 48,
   "id": "7d954974",
   "metadata": {
    "execution": {
     "iopub.execute_input": "2022-03-30T17:06:36.254138Z",
     "iopub.status.busy": "2022-03-30T17:06:36.253366Z",
     "iopub.status.idle": "2022-03-30T17:06:36.275361Z",
     "shell.execute_reply": "2022-03-30T17:06:36.275964Z",
     "shell.execute_reply.started": "2022-03-30T17:00:09.847150Z"
    },
    "papermill": {
     "duration": 0.126682,
     "end_time": "2022-03-30T17:06:36.276169",
     "exception": false,
     "start_time": "2022-03-30T17:06:36.149487",
     "status": "completed"
    },
    "tags": []
   },
   "outputs": [],
   "source": [
    "df_security_deposit = pd.qcut(df_list['security_deposit'], q=10, duplicates='drop')\n",
    "df_cleaning_fee = pd.qcut(df_list['cleaning_fee'], q=10, duplicates='drop')\n",
    "df_security_deposit = pd.get_dummies(df_security_deposit,prefix='security_deposit',drop_first=True, dummy_na=True)\n",
    "df_cleaning_fee = pd.get_dummies(df_cleaning_fee,prefix='cleaning_fee',drop_first=True, dummy_na=True)"
   ]
  },
  {
   "cell_type": "code",
   "execution_count": 49,
   "id": "9623f4a3",
   "metadata": {
    "execution": {
     "iopub.execute_input": "2022-03-30T17:06:36.480527Z",
     "iopub.status.busy": "2022-03-30T17:06:36.479702Z",
     "iopub.status.idle": "2022-03-30T17:06:36.501890Z",
     "shell.execute_reply": "2022-03-30T17:06:36.502490Z",
     "shell.execute_reply.started": "2022-03-30T17:00:20.927068Z"
    },
    "papermill": {
     "duration": 0.126364,
     "end_time": "2022-03-30T17:06:36.502690",
     "exception": false,
     "start_time": "2022-03-30T17:06:36.376326",
     "status": "completed"
    },
    "tags": []
   },
   "outputs": [],
   "source": [
    "df_num = df_list.select_dtypes(include=['number'])\n",
    "df_num = df_num.drop(['scrape_id','host_id','security_deposit', 'cleaning_fee','monthly_price','weekly_price','square_feet','license'],axis=1)\n",
    "fill_mean = lambda x:x.fillna(x.mean())\n",
    "df_num = df_num.apply(fill_mean,axis=0)"
   ]
  },
  {
   "cell_type": "code",
   "execution_count": 50,
   "id": "70f24d2d",
   "metadata": {
    "execution": {
     "iopub.execute_input": "2022-03-30T17:06:36.709429Z",
     "iopub.status.busy": "2022-03-30T17:06:36.708639Z",
     "iopub.status.idle": "2022-03-30T17:06:36.724135Z",
     "shell.execute_reply": "2022-03-30T17:06:36.724815Z",
     "shell.execute_reply.started": "2022-03-30T17:00:40.009138Z"
    },
    "papermill": {
     "duration": 0.119681,
     "end_time": "2022-03-30T17:06:36.725118",
     "exception": false,
     "start_time": "2022-03-30T17:06:36.605437",
     "status": "completed"
    },
    "tags": []
   },
   "outputs": [
    {
     "name": "stdout",
     "output_type": "stream",
     "text": [
      "<class 'pandas.core.frame.DataFrame'>\n",
      "Int64Index: 3818 entries, 0 to 3817\n",
      "Data columns (total 33 columns):\n",
      " #   Column                          Non-Null Count  Dtype  \n",
      "---  ------                          --------------  -----  \n",
      " 0   id                              3818 non-null   int64  \n",
      " 1   last_scraped                    3818 non-null   float64\n",
      " 2   host_since                      3818 non-null   float64\n",
      " 3   host_response_rate              3818 non-null   float64\n",
      " 4   host_listings_count             3818 non-null   float64\n",
      " 5   host_total_listings_count       3818 non-null   float64\n",
      " 6   latitude                        3818 non-null   float64\n",
      " 7   longitude                       3818 non-null   float64\n",
      " 8   accommodates                    3818 non-null   int64  \n",
      " 9   bathrooms                       3818 non-null   float64\n",
      " 10  bedrooms                        3818 non-null   float64\n",
      " 11  beds                            3818 non-null   float64\n",
      " 12  price                           3818 non-null   float64\n",
      " 13  guests_included                 3818 non-null   int64  \n",
      " 14  extra_people                    3818 non-null   float64\n",
      " 15  minimum_nights                  3818 non-null   int64  \n",
      " 16  maximum_nights                  3818 non-null   int64  \n",
      " 17  availability_30                 3818 non-null   int64  \n",
      " 18  availability_60                 3818 non-null   int64  \n",
      " 19  availability_90                 3818 non-null   int64  \n",
      " 20  availability_365                3818 non-null   int64  \n",
      " 21  number_of_reviews               3818 non-null   int64  \n",
      " 22  first_review                    3818 non-null   float64\n",
      " 23  last_review                     3818 non-null   float64\n",
      " 24  review_scores_rating            3818 non-null   float64\n",
      " 25  review_scores_accuracy          3818 non-null   float64\n",
      " 26  review_scores_cleanliness       3818 non-null   float64\n",
      " 27  review_scores_checkin           3818 non-null   float64\n",
      " 28  review_scores_communication     3818 non-null   float64\n",
      " 29  review_scores_location          3818 non-null   float64\n",
      " 30  review_scores_value             3818 non-null   float64\n",
      " 31  calculated_host_listings_count  3818 non-null   int64  \n",
      " 32  reviews_per_month               3818 non-null   float64\n",
      "dtypes: float64(22), int64(11)\n",
      "memory usage: 1.1 MB\n"
     ]
    }
   ],
   "source": [
    "df_num.info()"
   ]
  },
  {
   "cell_type": "code",
   "execution_count": 51,
   "id": "13c44f50",
   "metadata": {
    "execution": {
     "iopub.execute_input": "2022-03-30T17:06:36.933224Z",
     "iopub.status.busy": "2022-03-30T17:06:36.932119Z",
     "iopub.status.idle": "2022-03-30T17:06:36.949362Z",
     "shell.execute_reply": "2022-03-30T17:06:36.949971Z",
     "shell.execute_reply.started": "2022-03-30T17:01:09.118073Z"
    },
    "papermill": {
     "duration": 0.12341,
     "end_time": "2022-03-30T17:06:36.950223",
     "exception": false,
     "start_time": "2022-03-30T17:06:36.826813",
     "status": "completed"
    },
    "tags": []
   },
   "outputs": [
    {
     "name": "stdout",
     "output_type": "stream",
     "text": [
      "<class 'pandas.core.frame.DataFrame'>\n",
      "Int64Index: 3818 entries, 0 to 3817\n",
      "Data columns (total 15 columns):\n",
      " #   Column            Non-Null Count  Dtype  \n",
      "---  ------            --------------  -----  \n",
      " 0   latitude          3818 non-null   float64\n",
      " 1   longitude         3818 non-null   float64\n",
      " 2   accommodates      3818 non-null   int64  \n",
      " 3   bathrooms         3818 non-null   float64\n",
      " 4   bedrooms          3818 non-null   float64\n",
      " 5   beds              3818 non-null   float64\n",
      " 6   price             3818 non-null   float64\n",
      " 7   guests_included   3818 non-null   int64  \n",
      " 8   extra_people      3818 non-null   float64\n",
      " 9   minimum_nights    3818 non-null   int64  \n",
      " 10  maximum_nights    3818 non-null   int64  \n",
      " 11  availability_30   3818 non-null   int64  \n",
      " 12  availability_60   3818 non-null   int64  \n",
      " 13  availability_90   3818 non-null   int64  \n",
      " 14  availability_365  3818 non-null   int64  \n",
      "dtypes: float64(7), int64(8)\n",
      "memory usage: 606.3 KB\n"
     ]
    }
   ],
   "source": [
    "col_drop = ['id','last_scraped','host_response_rate','host_since','host_listings_count','host_total_listings_count',\n",
    "            'number_of_reviews','first_review','last_review','review_scores_rating',\n",
    "           'review_scores_accuracy','review_scores_cleanliness','review_scores_checkin',\n",
    "           'review_scores_communication','review_scores_location','review_scores_value',\n",
    "           'calculated_host_listings_count','reviews_per_month']\n",
    "df_num_pred = df_num.drop(col_drop,axis=1)\n",
    "df_num_pred.info()"
   ]
  },
  {
   "cell_type": "code",
   "execution_count": 52,
   "id": "84db7782",
   "metadata": {
    "execution": {
     "iopub.execute_input": "2022-03-30T17:06:37.167122Z",
     "iopub.status.busy": "2022-03-30T17:06:37.166161Z",
     "iopub.status.idle": "2022-03-30T17:06:37.182572Z",
     "shell.execute_reply": "2022-03-30T17:06:37.183110Z",
     "shell.execute_reply.started": "2022-03-30T17:01:30.540935Z"
    },
    "papermill": {
     "duration": 0.130728,
     "end_time": "2022-03-30T17:06:37.183335",
     "exception": false,
     "start_time": "2022-03-30T17:06:37.052607",
     "status": "completed"
    },
    "tags": []
   },
   "outputs": [],
   "source": [
    "col_cat_pred = ['neighbourhood_group_cleansed','property_type',\n",
    "          'bed_type','cancellation_policy','room_type',\n",
    "           'instant_bookable','require_guest_profile_picture','host_identity_verified',\n",
    "           'host_has_profile_pic','require_guest_phone_verification']\n",
    "df_cat_pred = pd.get_dummies(df_list[col_cat_pred],prefix_sep='_',drop_first=True, dummy_na=False)"
   ]
  },
  {
   "cell_type": "code",
   "execution_count": 53,
   "id": "3ad57c1e",
   "metadata": {
    "execution": {
     "iopub.execute_input": "2022-03-30T17:06:37.392137Z",
     "iopub.status.busy": "2022-03-30T17:06:37.391240Z",
     "iopub.status.idle": "2022-03-30T17:06:37.408280Z",
     "shell.execute_reply": "2022-03-30T17:06:37.409254Z",
     "shell.execute_reply.started": "2022-03-30T17:01:53.901041Z"
    },
    "papermill": {
     "duration": 0.124766,
     "end_time": "2022-03-30T17:06:37.409525",
     "exception": false,
     "start_time": "2022-03-30T17:06:37.284759",
     "status": "completed"
    },
    "tags": []
   },
   "outputs": [
    {
     "name": "stdout",
     "output_type": "stream",
     "text": [
      "<class 'pandas.core.frame.DataFrame'>\n",
      "Int64Index: 3818 entries, 0 to 3817\n",
      "Data columns (total 44 columns):\n",
      " #   Column                                            Non-Null Count  Dtype\n",
      "---  ------                                            --------------  -----\n",
      " 0   neighbourhood_group_cleansed_Beacon Hill          3818 non-null   uint8\n",
      " 1   neighbourhood_group_cleansed_Capitol Hill         3818 non-null   uint8\n",
      " 2   neighbourhood_group_cleansed_Cascade              3818 non-null   uint8\n",
      " 3   neighbourhood_group_cleansed_Central Area         3818 non-null   uint8\n",
      " 4   neighbourhood_group_cleansed_Delridge             3818 non-null   uint8\n",
      " 5   neighbourhood_group_cleansed_Downtown             3818 non-null   uint8\n",
      " 6   neighbourhood_group_cleansed_Interbay             3818 non-null   uint8\n",
      " 7   neighbourhood_group_cleansed_Lake City            3818 non-null   uint8\n",
      " 8   neighbourhood_group_cleansed_Magnolia             3818 non-null   uint8\n",
      " 9   neighbourhood_group_cleansed_Northgate            3818 non-null   uint8\n",
      " 10  neighbourhood_group_cleansed_Other neighborhoods  3818 non-null   uint8\n",
      " 11  neighbourhood_group_cleansed_Queen Anne           3818 non-null   uint8\n",
      " 12  neighbourhood_group_cleansed_Rainier Valley       3818 non-null   uint8\n",
      " 13  neighbourhood_group_cleansed_Seward Park          3818 non-null   uint8\n",
      " 14  neighbourhood_group_cleansed_University District  3818 non-null   uint8\n",
      " 15  neighbourhood_group_cleansed_West Seattle         3818 non-null   uint8\n",
      " 16  property_type_Bed & Breakfast                     3818 non-null   uint8\n",
      " 17  property_type_Boat                                3818 non-null   uint8\n",
      " 18  property_type_Bungalow                            3818 non-null   uint8\n",
      " 19  property_type_Cabin                               3818 non-null   uint8\n",
      " 20  property_type_Camper/RV                           3818 non-null   uint8\n",
      " 21  property_type_Chalet                              3818 non-null   uint8\n",
      " 22  property_type_Condominium                         3818 non-null   uint8\n",
      " 23  property_type_Dorm                                3818 non-null   uint8\n",
      " 24  property_type_House                               3818 non-null   uint8\n",
      " 25  property_type_Loft                                3818 non-null   uint8\n",
      " 26  property_type_Other                               3818 non-null   uint8\n",
      " 27  property_type_Tent                                3818 non-null   uint8\n",
      " 28  property_type_Townhouse                           3818 non-null   uint8\n",
      " 29  property_type_Treehouse                           3818 non-null   uint8\n",
      " 30  property_type_Yurt                                3818 non-null   uint8\n",
      " 31  bed_type_Couch                                    3818 non-null   uint8\n",
      " 32  bed_type_Futon                                    3818 non-null   uint8\n",
      " 33  bed_type_Pull-out Sofa                            3818 non-null   uint8\n",
      " 34  bed_type_Real Bed                                 3818 non-null   uint8\n",
      " 35  cancellation_policy_moderate                      3818 non-null   uint8\n",
      " 36  cancellation_policy_strict                        3818 non-null   uint8\n",
      " 37  room_type_Private room                            3818 non-null   uint8\n",
      " 38  room_type_Shared room                             3818 non-null   uint8\n",
      " 39  instant_bookable_t                                3818 non-null   uint8\n",
      " 40  require_guest_profile_picture_t                   3818 non-null   uint8\n",
      " 41  host_identity_verified_t                          3818 non-null   uint8\n",
      " 42  host_has_profile_pic_t                            3818 non-null   uint8\n",
      " 43  require_guest_phone_verification_t                3818 non-null   uint8\n",
      "dtypes: uint8(44)\n",
      "memory usage: 322.9 KB\n"
     ]
    }
   ],
   "source": [
    "df_cat_pred.info()"
   ]
  },
  {
   "cell_type": "code",
   "execution_count": 54,
   "id": "6266e42c",
   "metadata": {
    "execution": {
     "iopub.execute_input": "2022-03-30T17:06:37.619458Z",
     "iopub.status.busy": "2022-03-30T17:06:37.618579Z",
     "iopub.status.idle": "2022-03-30T17:06:37.641370Z",
     "shell.execute_reply": "2022-03-30T17:06:37.642012Z",
     "shell.execute_reply.started": "2022-03-30T17:02:25.146742Z"
    },
    "papermill": {
     "duration": 0.129297,
     "end_time": "2022-03-30T17:06:37.642229",
     "exception": false,
     "start_time": "2022-03-30T17:06:37.512932",
     "status": "completed"
    },
    "tags": []
   },
   "outputs": [
    {
     "data": {
      "text/plain": [
       "(2672, 118)"
      ]
     },
     "execution_count": 54,
     "metadata": {},
     "output_type": "execute_result"
    }
   ],
   "source": [
    "y = df_num_pred.price\n",
    "\n",
    "X = df_num_pred.drop('price',axis=1)\n",
    "X = pd.concat([X,df_security_deposit],axis=1)\n",
    "X = pd.concat([X,df_cleaning_fee],axis=1)\n",
    "X = pd.concat([X,dummies_ame],axis=1)\n",
    "X = pd.concat([X,df_cat_pred],axis=1)\n",
    "\n",
    "X_train, X_test, y_train, y_test = train_test_split(X, y, test_size = .30, random_state=42)\n",
    "X_train.shape"
   ]
  },
  {
   "cell_type": "code",
   "execution_count": 55,
   "id": "f6d3f580",
   "metadata": {
    "execution": {
     "iopub.execute_input": "2022-03-30T17:06:37.854098Z",
     "iopub.status.busy": "2022-03-30T17:06:37.853305Z",
     "iopub.status.idle": "2022-03-30T17:06:38.246045Z",
     "shell.execute_reply": "2022-03-30T17:06:38.245325Z",
     "shell.execute_reply.started": "2022-03-30T17:02:45.215116Z"
    },
    "papermill": {
     "duration": 0.500961,
     "end_time": "2022-03-30T17:06:38.246204",
     "exception": false,
     "start_time": "2022-03-30T17:06:37.745243",
     "status": "completed"
    },
    "tags": []
   },
   "outputs": [
    {
     "name": "stdout",
     "output_type": "stream",
     "text": [
      "Traning Data:\n",
      "r-sqaured score: 0.612\n",
      "mean-sqaured error: 3089.897\n",
      "---\n",
      "Test Data:\n",
      "r-sqaured score: 0.619\n",
      "mean-sqaured error: 3266.677\n",
      "---\n"
     ]
    },
    {
     "data": {
      "image/png": "[encoded data removed]",
      "text/plain": [
       "<Figure size 432x288 with 1 Axes>"
      ]
     },
     "metadata": {
      "needs_background": "light"
     },
     "output_type": "display_data"
    }
   ],
   "source": [
    "from sklearn.preprocessing import StandardScaler\n",
    "sc_X = StandardScaler()\n",
    "\n",
    "X_train = sc_X.fit_transform(X_train)\n",
    "X_test = sc_X.transform(X_test)\n",
    "\n",
    "lr_model = LinearRegression()\n",
    "lr_model.fit(X_train, y_train) \n",
    "\n",
    "y_test_pred = lr_model.predict(X_test)\n",
    "y_train_pred = lr_model.predict(X_train)\n",
    "\n",
    "print('Traning Data:')\n",
    "print('r-sqaured score: %.3f' % r2_score(y_train, y_train_pred))\n",
    "print('mean-sqaured error: %.3f' % mean_squared_error(y_train, y_train_pred))\n",
    "print('---')\n",
    "print('Test Data:')\n",
    "print('r-sqaured score: %.3f' % r2_score(y_test, y_test_pred))\n",
    "print('mean-sqaured error: %.3f' % mean_squared_error(y_test, y_test_pred))\n",
    "print('---')\n",
    "    \n",
    "plt.scatter(y_train_pred,  y_train_pred - y_train,c='blue', marker='o', label='Training data')\n",
    "plt.scatter(y_test_pred,  y_test_pred - y_test, c='lightgreen', marker='s', label='Test data')\n",
    "plt.xlabel('Predicted values')\n",
    "plt.ylabel('Residuals')\n",
    "plt.legend(loc='upper left')\n",
    "plt.show()"
   ]
  },
  {
   "cell_type": "code",
   "execution_count": 56,
   "id": "342415f3",
   "metadata": {
    "execution": {
     "iopub.execute_input": "2022-03-30T17:06:38.460580Z",
     "iopub.status.busy": "2022-03-30T17:06:38.459795Z",
     "iopub.status.idle": "2022-03-30T17:06:38.461336Z",
     "shell.execute_reply": "2022-03-30T17:06:38.461870Z",
     "shell.execute_reply.started": "2022-03-30T17:03:17.904932Z"
    },
    "papermill": {
     "duration": 0.112063,
     "end_time": "2022-03-30T17:06:38.462082",
     "exception": false,
     "start_time": "2022-03-30T17:06:38.350019",
     "status": "completed"
    },
    "tags": []
   },
   "outputs": [],
   "source": [
    "def coef_weights(coefficients, X):\n",
    "    coefs_df = pd.DataFrame()\n",
    "    coefs_df['est_int'] = X.columns\n",
    "    coefs_df['coefs'] = lr_model.coef_\n",
    "    coefs_df = coefs_df.sort_values('coefs', ascending=False)\n",
    "    return coefs_df"
   ]
  },
  {
   "cell_type": "code",
   "execution_count": 57,
   "id": "f39c36ae",
   "metadata": {
    "execution": {
     "iopub.execute_input": "2022-03-30T17:06:38.677337Z",
     "iopub.status.busy": "2022-03-30T17:06:38.676532Z",
     "iopub.status.idle": "2022-03-30T17:06:38.690383Z",
     "shell.execute_reply": "2022-03-30T17:06:38.690923Z",
     "shell.execute_reply.started": "2022-03-30T17:03:24.510630Z"
    },
    "papermill": {
     "duration": 0.122271,
     "end_time": "2022-03-30T17:06:38.691143",
     "exception": false,
     "start_time": "2022-03-30T17:06:38.568872",
     "status": "completed"
    },
    "tags": []
   },
   "outputs": [
    {
     "data": {
      "text/html": [
       "<div>\n",
       "<style scoped>\n",
       "    .dataframe tbody tr th:only-of-type {\n",
       "        vertical-align: middle;\n",
       "    }\n",
       "\n",
       "    .dataframe tbody tr th {\n",
       "        vertical-align: top;\n",
       "    }\n",
       "\n",
       "    .dataframe thead th {\n",
       "        text-align: right;\n",
       "    }\n",
       "</style>\n",
       "<table border=\"1\" class=\"dataframe\">\n",
       "  <thead>\n",
       "    <tr style=\"text-align: right;\">\n",
       "      <th></th>\n",
       "      <th>est_int</th>\n",
       "      <th>coefs</th>\n",
       "    </tr>\n",
       "  </thead>\n",
       "  <tbody>\n",
       "    <tr>\n",
       "      <th>4</th>\n",
       "      <td>bedrooms</td>\n",
       "      <td>23.298416</td>\n",
       "    </tr>\n",
       "    <tr>\n",
       "      <th>2</th>\n",
       "      <td>accommodates</td>\n",
       "      <td>15.558720</td>\n",
       "    </tr>\n",
       "    <tr>\n",
       "      <th>30</th>\n",
       "      <td>cleaning_fee_(120.0, 300.0]</td>\n",
       "      <td>13.685276</td>\n",
       "    </tr>\n",
       "    <tr>\n",
       "      <th>3</th>\n",
       "      <td>bathrooms</td>\n",
       "      <td>12.685521</td>\n",
       "    </tr>\n",
       "    <tr>\n",
       "      <th>79</th>\n",
       "      <td>neighbourhood_group_cleansed_Downtown</td>\n",
       "      <td>8.932170</td>\n",
       "    </tr>\n",
       "    <tr>\n",
       "      <th>20</th>\n",
       "      <td>security_deposit_(500.0, 5000.0]</td>\n",
       "      <td>8.742963</td>\n",
       "    </tr>\n",
       "    <tr>\n",
       "      <th>75</th>\n",
       "      <td>neighbourhood_group_cleansed_Capitol Hill</td>\n",
       "      <td>8.470230</td>\n",
       "    </tr>\n",
       "    <tr>\n",
       "      <th>31</th>\n",
       "      <td>cleaning_fee_nan</td>\n",
       "      <td>7.660315</td>\n",
       "    </tr>\n",
       "    <tr>\n",
       "      <th>85</th>\n",
       "      <td>neighbourhood_group_cleansed_Queen Anne</td>\n",
       "      <td>5.957548</td>\n",
       "    </tr>\n",
       "    <tr>\n",
       "      <th>91</th>\n",
       "      <td>property_type_Boat</td>\n",
       "      <td>4.617312</td>\n",
       "    </tr>\n",
       "    <tr>\n",
       "      <th>64</th>\n",
       "      <td>Elevator in Building</td>\n",
       "      <td>4.460791</td>\n",
       "    </tr>\n",
       "    <tr>\n",
       "      <th>72</th>\n",
       "      <td>Doorman</td>\n",
       "      <td>4.379250</td>\n",
       "    </tr>\n",
       "    <tr>\n",
       "      <th>28</th>\n",
       "      <td>cleaning_fee_(75.0, 98.2]</td>\n",
       "      <td>4.363666</td>\n",
       "    </tr>\n",
       "    <tr>\n",
       "      <th>98</th>\n",
       "      <td>property_type_House</td>\n",
       "      <td>4.035661</td>\n",
       "    </tr>\n",
       "    <tr>\n",
       "      <th>54</th>\n",
       "      <td>Hot Tub</td>\n",
       "      <td>3.963236</td>\n",
       "    </tr>\n",
       "    <tr>\n",
       "      <th>82</th>\n",
       "      <td>neighbourhood_group_cleansed_Magnolia</td>\n",
       "      <td>3.692778</td>\n",
       "    </tr>\n",
       "    <tr>\n",
       "      <th>76</th>\n",
       "      <td>neighbourhood_group_cleansed_Cascade</td>\n",
       "      <td>3.633014</td>\n",
       "    </tr>\n",
       "    <tr>\n",
       "      <th>46</th>\n",
       "      <td>First Aid Kit</td>\n",
       "      <td>3.613646</td>\n",
       "    </tr>\n",
       "    <tr>\n",
       "      <th>29</th>\n",
       "      <td>cleaning_fee_(98.2, 120.0]</td>\n",
       "      <td>3.570649</td>\n",
       "    </tr>\n",
       "    <tr>\n",
       "      <th>94</th>\n",
       "      <td>property_type_Camper/RV</td>\n",
       "      <td>3.399052</td>\n",
       "    </tr>\n",
       "  </tbody>\n",
       "</table>\n",
       "</div>"
      ],
      "text/plain": [
       "                                      est_int      coefs\n",
       "4                                    bedrooms  23.298416\n",
       "2                                accommodates  15.558720\n",
       "30                cleaning_fee_(120.0, 300.0]  13.685276\n",
       "3                                   bathrooms  12.685521\n",
       "79      neighbourhood_group_cleansed_Downtown   8.932170\n",
       "20           security_deposit_(500.0, 5000.0]   8.742963\n",
       "75  neighbourhood_group_cleansed_Capitol Hill   8.470230\n",
       "31                           cleaning_fee_nan   7.660315\n",
       "85    neighbourhood_group_cleansed_Queen Anne   5.957548\n",
       "91                         property_type_Boat   4.617312\n",
       "64                       Elevator in Building   4.460791\n",
       "72                                    Doorman   4.379250\n",
       "28                  cleaning_fee_(75.0, 98.2]   4.363666\n",
       "98                        property_type_House   4.035661\n",
       "54                                    Hot Tub   3.963236\n",
       "82      neighbourhood_group_cleansed_Magnolia   3.692778\n",
       "76       neighbourhood_group_cleansed_Cascade   3.633014\n",
       "46                              First Aid Kit   3.613646\n",
       "29                 cleaning_fee_(98.2, 120.0]   3.570649\n",
       "94                    property_type_Camper/RV   3.399052"
      ]
     },
     "execution_count": 57,
     "metadata": {},
     "output_type": "execute_result"
    }
   ],
   "source": [
    "coef_df = coef_weights(lr_model.coef_,X)\n",
    "coef_df.head(20)"
   ]
  },
  {
   "cell_type": "code",
   "execution_count": 58,
   "id": "700218c6",
   "metadata": {
    "execution": {
     "iopub.execute_input": "2022-03-30T17:06:38.904623Z",
     "iopub.status.busy": "2022-03-30T17:06:38.903883Z",
     "iopub.status.idle": "2022-03-30T17:06:38.915461Z",
     "shell.execute_reply": "2022-03-30T17:06:38.916033Z",
     "shell.execute_reply.started": "2022-03-30T17:04:33.875985Z"
    },
    "papermill": {
     "duration": 0.120166,
     "end_time": "2022-03-30T17:06:38.916231",
     "exception": false,
     "start_time": "2022-03-30T17:06:38.796065",
     "status": "completed"
    },
    "tags": []
   },
   "outputs": [
    {
     "data": {
      "text/html": [
       "<div>\n",
       "<style scoped>\n",
       "    .dataframe tbody tr th:only-of-type {\n",
       "        vertical-align: middle;\n",
       "    }\n",
       "\n",
       "    .dataframe tbody tr th {\n",
       "        vertical-align: top;\n",
       "    }\n",
       "\n",
       "    .dataframe thead th {\n",
       "        text-align: right;\n",
       "    }\n",
       "</style>\n",
       "<table border=\"1\" class=\"dataframe\">\n",
       "  <thead>\n",
       "    <tr style=\"text-align: right;\">\n",
       "      <th></th>\n",
       "      <th>est_int</th>\n",
       "      <th>coefs</th>\n",
       "    </tr>\n",
       "  </thead>\n",
       "  <tbody>\n",
       "    <tr>\n",
       "      <th>111</th>\n",
       "      <td>room_type_Private room</td>\n",
       "      <td>-17.714755</td>\n",
       "    </tr>\n",
       "    <tr>\n",
       "      <th>112</th>\n",
       "      <td>room_type_Shared room</td>\n",
       "      <td>-13.305808</td>\n",
       "    </tr>\n",
       "    <tr>\n",
       "      <th>86</th>\n",
       "      <td>neighbourhood_group_cleansed_Rainier Valley</td>\n",
       "      <td>-5.514957</td>\n",
       "    </tr>\n",
       "    <tr>\n",
       "      <th>59</th>\n",
       "      <td>Hangers</td>\n",
       "      <td>-4.234134</td>\n",
       "    </tr>\n",
       "    <tr>\n",
       "      <th>0</th>\n",
       "      <td>latitude</td>\n",
       "      <td>-3.255350</td>\n",
       "    </tr>\n",
       "    <tr>\n",
       "      <th>78</th>\n",
       "      <td>neighbourhood_group_cleansed_Delridge</td>\n",
       "      <td>-3.205462</td>\n",
       "    </tr>\n",
       "    <tr>\n",
       "      <th>11</th>\n",
       "      <td>availability_60</td>\n",
       "      <td>-3.057096</td>\n",
       "    </tr>\n",
       "    <tr>\n",
       "      <th>83</th>\n",
       "      <td>neighbourhood_group_cleansed_Northgate</td>\n",
       "      <td>-2.962542</td>\n",
       "    </tr>\n",
       "    <tr>\n",
       "      <th>58</th>\n",
       "      <td>24-Hour Check-in</td>\n",
       "      <td>-2.870180</td>\n",
       "    </tr>\n",
       "    <tr>\n",
       "      <th>74</th>\n",
       "      <td>neighbourhood_group_cleansed_Beacon Hill</td>\n",
       "      <td>-2.818230</td>\n",
       "    </tr>\n",
       "    <tr>\n",
       "      <th>109</th>\n",
       "      <td>cancellation_policy_moderate</td>\n",
       "      <td>-2.635160</td>\n",
       "    </tr>\n",
       "    <tr>\n",
       "      <th>61</th>\n",
       "      <td>Iron</td>\n",
       "      <td>-2.320059</td>\n",
       "    </tr>\n",
       "    <tr>\n",
       "      <th>108</th>\n",
       "      <td>bed_type_Real Bed</td>\n",
       "      <td>-2.139508</td>\n",
       "    </tr>\n",
       "    <tr>\n",
       "      <th>106</th>\n",
       "      <td>bed_type_Futon</td>\n",
       "      <td>-2.081903</td>\n",
       "    </tr>\n",
       "    <tr>\n",
       "      <th>70</th>\n",
       "      <td>Smoking Allowed</td>\n",
       "      <td>-2.040431</td>\n",
       "    </tr>\n",
       "    <tr>\n",
       "      <th>110</th>\n",
       "      <td>cancellation_policy_strict</td>\n",
       "      <td>-1.997701</td>\n",
       "    </tr>\n",
       "    <tr>\n",
       "      <th>117</th>\n",
       "      <td>require_guest_phone_verification_t</td>\n",
       "      <td>-1.955397</td>\n",
       "    </tr>\n",
       "    <tr>\n",
       "      <th>87</th>\n",
       "      <td>neighbourhood_group_cleansed_Seward Park</td>\n",
       "      <td>-1.854324</td>\n",
       "    </tr>\n",
       "    <tr>\n",
       "      <th>45</th>\n",
       "      <td>Carbon Monoxide Detector</td>\n",
       "      <td>-1.839124</td>\n",
       "    </tr>\n",
       "    <tr>\n",
       "      <th>15</th>\n",
       "      <td>security_deposit_(150.0, 200.0]</td>\n",
       "      <td>-1.699659</td>\n",
       "    </tr>\n",
       "  </tbody>\n",
       "</table>\n",
       "</div>"
      ],
      "text/plain": [
       "                                         est_int      coefs\n",
       "111                       room_type_Private room -17.714755\n",
       "112                        room_type_Shared room -13.305808\n",
       "86   neighbourhood_group_cleansed_Rainier Valley  -5.514957\n",
       "59                                       Hangers  -4.234134\n",
       "0                                       latitude  -3.255350\n",
       "78         neighbourhood_group_cleansed_Delridge  -3.205462\n",
       "11                               availability_60  -3.057096\n",
       "83        neighbourhood_group_cleansed_Northgate  -2.962542\n",
       "58                              24-Hour Check-in  -2.870180\n",
       "74      neighbourhood_group_cleansed_Beacon Hill  -2.818230\n",
       "109                 cancellation_policy_moderate  -2.635160\n",
       "61                                          Iron  -2.320059\n",
       "108                            bed_type_Real Bed  -2.139508\n",
       "106                               bed_type_Futon  -2.081903\n",
       "70                               Smoking Allowed  -2.040431\n",
       "110                   cancellation_policy_strict  -1.997701\n",
       "117           require_guest_phone_verification_t  -1.955397\n",
       "87      neighbourhood_group_cleansed_Seward Park  -1.854324\n",
       "45                      Carbon Monoxide Detector  -1.839124\n",
       "15               security_deposit_(150.0, 200.0]  -1.699659"
      ]
     },
     "execution_count": 58,
     "metadata": {},
     "output_type": "execute_result"
    }
   ],
   "source": [
    "coef_df.sort_values('coefs', ascending=True).head(20)"
   ]
  },
  {
   "cell_type": "code",
   "execution_count": 59,
   "id": "41c97abb",
   "metadata": {
    "execution": {
     "iopub.execute_input": "2022-03-30T17:06:39.133016Z",
     "iopub.status.busy": "2022-03-30T17:06:39.132229Z",
     "iopub.status.idle": "2022-03-30T17:06:41.067534Z",
     "shell.execute_reply": "2022-03-30T17:06:41.066878Z",
     "shell.execute_reply.started": "2022-03-30T17:04:53.716785Z"
    },
    "papermill": {
     "duration": 2.045767,
     "end_time": "2022-03-30T17:06:41.067787",
     "exception": false,
     "start_time": "2022-03-30T17:06:39.022020",
     "status": "completed"
    },
    "tags": []
   },
   "outputs": [
    {
     "name": "stdout",
     "output_type": "stream",
     "text": [
      "Traning Data:\n",
      "r-sqaured score: 0.940\n",
      "mean-sqaured error: 479.089\n",
      "---\n",
      "Test Data:\n",
      "r-sqaured score: 0.605\n",
      "mean-sqaured error: 3381.481\n",
      "---\n"
     ]
    },
    {
     "data": {
      "image/png": "[encoded data removed]",
      "text/plain": [
       "<Figure size 432x288 with 1 Axes>"
      ]
     },
     "metadata": {
      "needs_background": "light"
     },
     "output_type": "display_data"
    }
   ],
   "source": [
    "forest = RandomForestRegressor(n_estimators=100,n_jobs=-1)\n",
    "forest.fit(X_train, y_train)\n",
    "\n",
    "y_train_pred = forest.predict(X_train)\n",
    "y_test_pred = forest.predict(X_test)\n",
    "\n",
    "print('Traning Data:')\n",
    "print('r-sqaured score: %.3f' % r2_score(y_train, y_train_pred))\n",
    "print('mean-sqaured error: %.3f' % mean_squared_error(y_train, y_train_pred))\n",
    "print('---')\n",
    "print('Test Data:')\n",
    "print('r-sqaured score: %.3f' % r2_score(y_test, y_test_pred))\n",
    "print('mean-sqaured error: %.3f' % mean_squared_error(y_test, y_test_pred))\n",
    "print('---')\n",
    "    \n",
    "plt.scatter(y_train_pred,  y_train_pred - y_train,c='blue', marker='o', label='Training data')\n",
    "plt.scatter(y_test_pred,  y_test_pred - y_test, c='lightgreen', marker='s', label='Test data')\n",
    "plt.xlabel('Predicted values')\n",
    "plt.ylabel('Residuals')\n",
    "plt.legend(loc='upper left')\n",
    "plt.show()"
   ]
  }
 ],
 "metadata": {
  "kernelspec": {
   "display_name": "Python 3",
   "language": "python",
   "name": "python3"
  },
  "language_info": {
   "codemirror_mode": {
    "name": "ipython",
    "version": 3
   },
   "file_extension": ".py",
   "mimetype": "text/x-python",
   "name": "python",
   "nbconvert_exporter": "python",
   "pygments_lexer": "ipython3",
   "version": "3.7.12"
  },
  "papermill": {
   "default_parameters": {},
   "duration": 48.20835,
   "end_time": "2022-03-30T17:06:42.391655",
   "environment_variables": {},
   "exception": null,
   "input_path": "__notebook__.ipynb",
   "output_path": "__notebook__.ipynb",
   "parameters": {},
   "start_time": "2022-03-30T17:05:54.183305",
   "version": "2.3.3"
  }
 },
 "nbformat": 4,
 "nbformat_minor": 5
}
