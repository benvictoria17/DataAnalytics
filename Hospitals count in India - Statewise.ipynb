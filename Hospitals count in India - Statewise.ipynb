{
  "cells":[
    {
      "cell_type":"code",
      "source":[
        "!pip install folium"
      ],
      "execution_count":10,
      "outputs":[
        {
          "name":"stdout",
          "text":[
            "Collecting folium\r\n",
            "  Downloading folium-0.12.1-py2.py3-none-any.whl (94 kB)\r\n",
            "\u001b[?25l\r\u001b[K     |███▌                            | 10 kB 23.2 MB\/s eta 0:00:01\r\u001b[K     |███████                         | 20 kB 24.0 MB\/s eta 0:00:01\r\u001b[K     |██████████▍                     | 30 kB 26.2 MB\/s eta 0:00:01\r\u001b[K     |█████████████▉                  | 40 kB 24.9 MB\/s eta 0:00:01\r\u001b[K     |█████████████████▎              | 51 kB 20.3 MB\/s eta 0:00:01\r\u001b[K     |████████████████████▊           | 61 kB 16.7 MB\/s eta 0:00:01\r\u001b[K     |████████████████████████▏       | 71 kB 15.9 MB\/s eta 0:00:01\r\u001b[K     |███████████████████████████▋    | 81 kB 13.8 MB\/s eta 0:00:01\r\u001b[K     |███████████████████████████████ | 92 kB 14.6 MB\/s eta 0:00:01\r\u001b[K     |████████████████████████████████| 94 kB 5.0 MB\/s \r\n",
            "\u001b[?25hRequirement already satisfied: requests in \/opt\/anaconda3\/envs\/datalore-user\/lib\/python3.7\/site-packages (from folium) (2.22.0)\r\n",
            "Collecting branca>=0.3.0\r\n",
            "  Downloading branca-0.4.2-py3-none-any.whl (24 kB)\r\n",
            "Requirement already satisfied: jinja2>=2.9 in \/opt\/anaconda3\/envs\/datalore-user\/lib\/python3.7\/site-packages (from folium) (2.11.3)\r\n",
            "Requirement already satisfied: numpy in \/opt\/anaconda3\/envs\/datalore-user\/lib\/python3.7\/site-packages (from folium) (1.19.2)\r\n",
            "Requirement already satisfied: certifi>=2017.4.17 in \/opt\/anaconda3\/envs\/datalore-user\/lib\/python3.7\/site-packages (from requests->folium) (2020.12.5)\r\n",
            "Requirement already satisfied: chardet<3.1.0,>=3.0.2 in \/opt\/anaconda3\/envs\/datalore-user\/lib\/python3.7\/site-packages (from requests->folium) (3.0.4)\r\n",
            "Requirement already satisfied: idna<2.9,>=2.5 in \/opt\/anaconda3\/envs\/datalore-user\/lib\/python3.7\/site-packages (from requests->folium) (2.8)\r\n",
            "Requirement already satisfied: urllib3!=1.25.0,!=1.25.1,<1.26,>=1.21.1 in \/opt\/anaconda3\/envs\/datalore-user\/lib\/python3.7\/site-packages (from requests->folium) (1.25.11)\r\n",
            "Requirement already satisfied: MarkupSafe>=0.23 in \/opt\/anaconda3\/envs\/datalore-user\/lib\/python3.7\/site-packages (from jinja2>=2.9->folium) (1.1.1)\r\n",
            "Installing collected packages: branca, folium\r\n",
            "Successfully installed branca-0.4.2 folium-0.12.1\r\n"
          ],
          "output_type":"stream"
        }
      ],
      "metadata":{
        
      }
    },
    {
      "cell_type":"code",
      "source":[
        "import numpy as np \n",
        "import pandas as pd \n",
        "import matplotlib.pyplot as plt \n",
        "import seaborn as sns \n",
        "from plotly.subplots import make_subplots\n",
        "import plotly.graph_objects as go\n",
        "import plotly.express as px\n",
        "import matplotlib.pyplot as plt \n",
        "import seaborn as sns \n",
        "import geopandas as gpd\n",
        "import folium"
      ],
      "execution_count":12,
      "outputs":[
        
      ],
      "metadata":{
        
      }
    },
    {
      "cell_type":"code",
      "source":[
        "hospital = pd.read_csv(\"https:\/\/raw.githubusercontent.com\/benvictoria17\/pandas\/master\/dataset\/Hospitals%20count%20in%20India%20-%20Statewise\/Hospitals%20count%20in%20India%20-%20Statewise.csv\")"
      ],
      "execution_count":13,
      "outputs":[
        
      ],
      "metadata":{
        
      }
    },
    {
      "cell_type":"code",
      "source":[
        "hospital.head()"
      ],
      "execution_count":14,
      "outputs":[
        {
          "data":{
            "text\/html":[
              "<div>\n",
              "<style scoped>\n",
              "    .dataframe tbody tr th:only-of-type {\n",
              "        vertical-align: middle;\n",
              "    }\n",
              "\n",
              "    .dataframe tbody tr th {\n",
              "        vertical-align: top;\n",
              "    }\n",
              "\n",
              "    .dataframe thead th {\n",
              "        text-align: right;\n",
              "    }\n",
              "<\/style>\n",
              "<table border=\"1\" class=\"dataframe\">\n",
              "  <thead>\n",
              "    <tr style=\"text-align: right;\">\n",
              "      <th><\/th>\n",
              "      <th>States\/UTs<\/th>\n",
              "      <th>Number of hospitals in public sector<\/th>\n",
              "      <th>Number of hospitals in private sector<\/th>\n",
              "      <th>Total number of hospitals (public+private)<\/th>\n",
              "    <\/tr>\n",
              "  <\/thead>\n",
              "  <tbody>\n",
              "    <tr>\n",
              "      <th>0<\/th>\n",
              "      <td>Lakshadweep<\/td>\n",
              "      <td>9<\/td>\n",
              "      <td>4<\/td>\n",
              "      <td>13<\/td>\n",
              "    <\/tr>\n",
              "    <tr>\n",
              "      <th>1<\/th>\n",
              "      <td>Chandigarh<\/td>\n",
              "      <td>9<\/td>\n",
              "      <td>4<\/td>\n",
              "      <td>13<\/td>\n",
              "    <\/tr>\n",
              "    <tr>\n",
              "      <th>2<\/th>\n",
              "      <td>Dadra &amp; N Haveli<\/td>\n",
              "      <td>12<\/td>\n",
              "      <td>6<\/td>\n",
              "      <td>18<\/td>\n",
              "    <\/tr>\n",
              "    <tr>\n",
              "      <th>3<\/th>\n",
              "      <td>Puducherry<\/td>\n",
              "      <td>14<\/td>\n",
              "      <td>6<\/td>\n",
              "      <td>20<\/td>\n",
              "    <\/tr>\n",
              "    <tr>\n",
              "      <th>4<\/th>\n",
              "      <td>Daman &amp; Diu<\/td>\n",
              "      <td>5<\/td>\n",
              "      <td>21<\/td>\n",
              "      <td>26<\/td>\n",
              "    <\/tr>\n",
              "  <\/tbody>\n",
              "<\/table>\n",
              "<\/div>"
            ]
          },
          "metadata":{
            
          },
          "output_type":"display_data"
        }
      ],
      "metadata":{
        
      }
    },
    {
      "cell_type":"code",
      "source":[
        "\n",
        "hospital.rename(columns={\"States\/UTs\":\"States\",\n",
        "                   \"Number of hospitals in public sector\": \"Public\",\n",
        "                   \"Number of hospitals in private sector\": \"Private\",\n",
        "                   \"Total number of hospitals (public+private)\":\"Total\"\n",
        "                  }, inplace=True)\n",
        "hospital['Total'] = pd.to_numeric(hospital['Total'], errors='coerce')\n",
        "hospital['Public'] = pd.to_numeric(hospital['Public'], errors='coerce')\n",
        "hospital['Private'] = pd.to_numeric(hospital['Private'], errors='coerce')"
      ],
      "execution_count":15,
      "outputs":[
        
      ],
      "metadata":{
        
      }
    },
    {
      "cell_type":"code",
      "source":[
        "hospital.dropna(inplace=True)"
      ],
      "execution_count":16,
      "outputs":[
        
      ],
      "metadata":{
        
      }
    },
    {
      "cell_type":"code",
      "source":[
        "hospital.head()"
      ],
      "execution_count":17,
      "outputs":[
        {
          "data":{
            "text\/html":[
              "<div>\n",
              "<style scoped>\n",
              "    .dataframe tbody tr th:only-of-type {\n",
              "        vertical-align: middle;\n",
              "    }\n",
              "\n",
              "    .dataframe tbody tr th {\n",
              "        vertical-align: top;\n",
              "    }\n",
              "\n",
              "    .dataframe thead th {\n",
              "        text-align: right;\n",
              "    }\n",
              "<\/style>\n",
              "<table border=\"1\" class=\"dataframe\">\n",
              "  <thead>\n",
              "    <tr style=\"text-align: right;\">\n",
              "      <th><\/th>\n",
              "      <th>States<\/th>\n",
              "      <th>Public<\/th>\n",
              "      <th>Private<\/th>\n",
              "      <th>Total<\/th>\n",
              "    <\/tr>\n",
              "  <\/thead>\n",
              "  <tbody>\n",
              "    <tr>\n",
              "      <th>0<\/th>\n",
              "      <td>Lakshadweep<\/td>\n",
              "      <td>9.0<\/td>\n",
              "      <td>4.0<\/td>\n",
              "      <td>13.0<\/td>\n",
              "    <\/tr>\n",
              "    <tr>\n",
              "      <th>1<\/th>\n",
              "      <td>Chandigarh<\/td>\n",
              "      <td>9.0<\/td>\n",
              "      <td>4.0<\/td>\n",
              "      <td>13.0<\/td>\n",
              "    <\/tr>\n",
              "    <tr>\n",
              "      <th>2<\/th>\n",
              "      <td>Dadra &amp; N Haveli<\/td>\n",
              "      <td>12.0<\/td>\n",
              "      <td>6.0<\/td>\n",
              "      <td>18.0<\/td>\n",
              "    <\/tr>\n",
              "    <tr>\n",
              "      <th>3<\/th>\n",
              "      <td>Puducherry<\/td>\n",
              "      <td>14.0<\/td>\n",
              "      <td>6.0<\/td>\n",
              "      <td>20.0<\/td>\n",
              "    <\/tr>\n",
              "    <tr>\n",
              "      <th>4<\/th>\n",
              "      <td>Daman &amp; Diu<\/td>\n",
              "      <td>5.0<\/td>\n",
              "      <td>21.0<\/td>\n",
              "      <td>26.0<\/td>\n",
              "    <\/tr>\n",
              "  <\/tbody>\n",
              "<\/table>\n",
              "<\/div>"
            ]
          },
          "metadata":{
            
          },
          "output_type":"display_data"
        }
      ],
      "metadata":{
        
      }
    },
    {
      "cell_type":"code",
      "source":[
        "print('The dataset has {} rows and {} columns.'.format(len(hospital), len(hospital.columns)))"
      ],
      "execution_count":19,
      "outputs":[
        {
          "name":"stdout",
          "text":[
            "The dataset has 19 rows and 4 columns.\n"
          ],
          "output_type":"stream"
        }
      ],
      "metadata":{
        
      }
    },
    {
      "cell_type":"code",
      "source":[
        "hospital.info()"
      ],
      "execution_count":20,
      "outputs":[
        {
          "name":"stdout",
          "text":[
            "<class 'pandas.core.frame.DataFrame'>\n",
            "Int64Index: 19 entries, 0 to 18\n",
            "Data columns (total 4 columns):\n",
            " #   Column   Non-Null Count  Dtype  \n",
            "---  ------   --------------  -----  \n",
            " 0   States   19 non-null     object \n",
            " 1   Public   19 non-null     float64\n",
            " 2   Private  19 non-null     float64\n",
            " 3   Total    19 non-null     float64\n",
            "dtypes: float64(3), object(1)\n",
            "memory usage: 1.4+ KB\n"
          ],
          "output_type":"stream"
        }
      ],
      "metadata":{
        
      }
    },
    {
      "cell_type":"code",
      "source":[
        "hospital.describe()"
      ],
      "execution_count":21,
      "outputs":[
        {
          "data":{
            "text\/html":[
              "<div>\n",
              "<style scoped>\n",
              "    .dataframe tbody tr th:only-of-type {\n",
              "        vertical-align: middle;\n",
              "    }\n",
              "\n",
              "    .dataframe tbody tr th {\n",
              "        vertical-align: top;\n",
              "    }\n",
              "\n",
              "    .dataframe thead th {\n",
              "        text-align: right;\n",
              "    }\n",
              "<\/style>\n",
              "<table border=\"1\" class=\"dataframe\">\n",
              "  <thead>\n",
              "    <tr style=\"text-align: right;\">\n",
              "      <th><\/th>\n",
              "      <th>Public<\/th>\n",
              "      <th>Private<\/th>\n",
              "      <th>Total<\/th>\n",
              "    <\/tr>\n",
              "  <\/thead>\n",
              "  <tbody>\n",
              "    <tr>\n",
              "      <th>count<\/th>\n",
              "      <td>19.000000<\/td>\n",
              "      <td>19.000000<\/td>\n",
              "      <td>19.000000<\/td>\n",
              "    <\/tr>\n",
              "    <tr>\n",
              "      <th>mean<\/th>\n",
              "      <td>106.894737<\/td>\n",
              "      <td>171.368421<\/td>\n",
              "      <td>191.947368<\/td>\n",
              "    <\/tr>\n",
              "    <tr>\n",
              "      <th>std<\/th>\n",
              "      <td>119.019557<\/td>\n",
              "      <td>439.347270<\/td>\n",
              "      <td>284.776028<\/td>\n",
              "    <\/tr>\n",
              "    <tr>\n",
              "      <th>min<\/th>\n",
              "      <td>5.000000<\/td>\n",
              "      <td>4.000000<\/td>\n",
              "      <td>13.000000<\/td>\n",
              "    <\/tr>\n",
              "    <tr>\n",
              "      <th>25%<\/th>\n",
              "      <td>22.000000<\/td>\n",
              "      <td>7.000000<\/td>\n",
              "      <td>31.000000<\/td>\n",
              "    <\/tr>\n",
              "    <tr>\n",
              "      <th>50%<\/th>\n",
              "      <td>43.000000<\/td>\n",
              "      <td>14.000000<\/td>\n",
              "      <td>65.000000<\/td>\n",
              "    <\/tr>\n",
              "    <tr>\n",
              "      <th>75%<\/th>\n",
              "      <td>156.500000<\/td>\n",
              "      <td>25.500000<\/td>\n",
              "      <td>180.500000<\/td>\n",
              "    <\/tr>\n",
              "    <tr>\n",
              "      <th>max<\/th>\n",
              "      <td>465.000000<\/td>\n",
              "      <td>1822.000000<\/td>\n",
              "      <td>971.000000<\/td>\n",
              "    <\/tr>\n",
              "  <\/tbody>\n",
              "<\/table>\n",
              "<\/div>"
            ]
          },
          "metadata":{
            
          },
          "output_type":"display_data"
        }
      ],
      "metadata":{
        
      }
    },
    {
      "cell_type":"code",
      "source":[
        "fig = px.bar(hospital, x='States', y='Total', title=\"Total number of hospital in all the states\/UTs\")\n",
        "fig.show()"
      ],
      "execution_count":22,
      "outputs":[
        {
          "data":{
            "text\/plain":[
              "Unsupported"
            ]
          },
          "metadata":{
            
          },
          "output_type":"display_data"
        }
      ],
      "metadata":{
        
      }
    },
    {
      "cell_type":"code",
      "source":[
        "fig = px.bar(hospital, x='States', y='Private', title=\"Private sector hospital in the states\/UTs\")\n",
        "fig.show()"
      ],
      "execution_count":23,
      "outputs":[
        {
          "data":{
            "text\/plain":[
              "Unsupported"
            ]
          },
          "metadata":{
            
          },
          "output_type":"display_data"
        }
      ],
      "metadata":{
        
      }
    },
    {
      "cell_type":"code",
      "source":[
        "fig = px.bar(hospital, x='States', y='Public', title=\"Public sector hospital in the states\/UTs\")\n",
        "fig.show()"
      ],
      "execution_count":24,
      "outputs":[
        {
          "data":{
            "text\/plain":[
              "Unsupported"
            ]
          },
          "metadata":{
            
          },
          "output_type":"display_data"
        }
      ],
      "metadata":{
        
      }
    },
    {
      "cell_type":"code",
      "source":[
        "print(hospital.groupby([\"States\"])[['Public', 'Private']].sum())"
      ],
      "execution_count":25,
      "outputs":[
        {
          "name":"stdout",
          "text":[
            "                         Public  Private\n",
            "States                                  \n",
            "Andaman Nicobar Islands    30.0      6.0\n",
            "Andhra Pradesh            258.0    670.0\n",
            "Arunachal Pradesh         218.0     20.0\n",
            "Chandigarh                  9.0      4.0\n",
            "Chhattisgarh              214.0   1822.0\n",
            "Dadra & N Haveli           12.0      6.0\n",
            "Daman & Diu                 5.0     21.0\n",
            "Delhi                     109.0     67.0\n",
            "Goa                        43.0     22.0\n",
            "Jammu & Kashmir           143.0     14.0\n",
            "Lakshadweep                 9.0      4.0\n",
            "Madhya Pradesh            465.0    506.0\n",
            "Manipur                    30.0      8.0\n",
            "Meghalaya                 157.0     28.0\n",
            "Mizoram                    90.0     23.0\n",
            "Nagaland                   36.0     13.0\n",
            "Puducherry                 14.0      6.0\n",
            "Sikkim                     33.0      8.0\n",
            "Tripura                   156.0      8.0\n"
          ],
          "output_type":"stream"
        }
      ],
      "metadata":{
        
      }
    },
    {
      "cell_type":"code",
      "source":[
        "hospital.plot.line(y=['Public','Private'],figsize=(10,4))"
      ],
      "execution_count":26,
      "outputs":[
        {
          "data":{
            "text\/plain":[
              "<AxesSubplot:>"
            ],
            "image\/png":"[encoded data removed]"
          },
          "metadata":{
            "image\/png":{
              "width":0,
              "height":0
            }
          },
          "output_type":"display_data"
        }
      ],
      "metadata":{
        
      }
    }
  ],
  "metadata":{
    
  },
  "nbformat":4,
  "nbformat_minor":0
}