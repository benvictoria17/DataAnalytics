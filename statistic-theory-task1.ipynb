{
 "cells": [
  {
   "cell_type": "code",
   "execution_count": 1,
   "id": "loving-genome",
   "metadata": {
    "_cell_guid": "b1076dfc-b9ad-4769-8c92-a6c4dae69d19",
    "_uuid": "8f2839f25d086af736a60e9eeb907d3b93b6e0e5",
    "execution": {
     "iopub.execute_input": "2021-04-19T23:43:53.857138Z",
     "iopub.status.busy": "2021-04-19T23:43:53.855835Z",
     "iopub.status.idle": "2021-04-19T23:43:55.045239Z",
     "shell.execute_reply": "2021-04-19T23:43:55.044500Z"
    },
    "papermill": {
     "duration": 1.209989,
     "end_time": "2021-04-19T23:43:55.045428",
     "exception": false,
     "start_time": "2021-04-19T23:43:53.835439",
     "status": "completed"
    },
    "tags": []
   },
   "outputs": [],
   "source": [
    "import numpy as np\n",
    "import pandas as pd\n",
    "import matplotlib.pyplot as plt\n",
    "full_data = pd.read_csv(\"https://raw.githubusercontent.com/benvictoria17/DataVisualization/master/dataset/%20FIFA%2019%20complete%20player%20dataset/data.csv\")\n",
    "data = full_data[[\"ID\", \"Agility\", \"Position\", \"Overall\", \"Aggression\", \"StandingTackle\", \"SlidingTackle\", \"Preferred Foot\"]].dropna(axis=0)"
   ]
  },
  {
   "cell_type": "code",
   "execution_count": 2,
   "id": "metric-affairs",
   "metadata": {
    "execution": {
     "iopub.execute_input": "2021-04-19T23:43:55.077043Z",
     "iopub.status.busy": "2021-04-19T23:43:55.076337Z",
     "iopub.status.idle": "2021-04-19T23:43:55.122798Z",
     "shell.execute_reply": "2021-04-19T23:43:55.122075Z"
    },
    "papermill": {
     "duration": 0.063211,
     "end_time": "2021-04-19T23:43:55.122967",
     "exception": false,
     "start_time": "2021-04-19T23:43:55.059756",
     "status": "completed"
    },
    "tags": []
   },
   "outputs": [
    {
     "data": {
      "text/html": [
       "<div>\n",
       "<style scoped>\n",
       "    .dataframe tbody tr th:only-of-type {\n",
       "        vertical-align: middle;\n",
       "    }\n",
       "\n",
       "    .dataframe tbody tr th {\n",
       "        vertical-align: top;\n",
       "    }\n",
       "\n",
       "    .dataframe thead th {\n",
       "        text-align: right;\n",
       "    }\n",
       "</style>\n",
       "<table border=\"1\" class=\"dataframe\">\n",
       "  <thead>\n",
       "    <tr style=\"text-align: right;\">\n",
       "      <th></th>\n",
       "      <th>ID</th>\n",
       "      <th>Agility</th>\n",
       "      <th>Overall</th>\n",
       "      <th>Aggression</th>\n",
       "      <th>Preferred Foot</th>\n",
       "      <th>Tackling</th>\n",
       "      <th>Attacker</th>\n",
       "    </tr>\n",
       "  </thead>\n",
       "  <tbody>\n",
       "    <tr>\n",
       "      <th>0</th>\n",
       "      <td>158023</td>\n",
       "      <td>91.0</td>\n",
       "      <td>94</td>\n",
       "      <td>48.0</td>\n",
       "      <td>Left</td>\n",
       "      <td>27.0</td>\n",
       "      <td>1</td>\n",
       "    </tr>\n",
       "    <tr>\n",
       "      <th>1</th>\n",
       "      <td>20801</td>\n",
       "      <td>87.0</td>\n",
       "      <td>94</td>\n",
       "      <td>63.0</td>\n",
       "      <td>Right</td>\n",
       "      <td>27.0</td>\n",
       "      <td>1</td>\n",
       "    </tr>\n",
       "    <tr>\n",
       "      <th>2</th>\n",
       "      <td>190871</td>\n",
       "      <td>96.0</td>\n",
       "      <td>92</td>\n",
       "      <td>56.0</td>\n",
       "      <td>Right</td>\n",
       "      <td>28.5</td>\n",
       "      <td>1</td>\n",
       "    </tr>\n",
       "    <tr>\n",
       "      <th>3</th>\n",
       "      <td>193080</td>\n",
       "      <td>60.0</td>\n",
       "      <td>91</td>\n",
       "      <td>38.0</td>\n",
       "      <td>Right</td>\n",
       "      <td>17.0</td>\n",
       "      <td>0</td>\n",
       "    </tr>\n",
       "    <tr>\n",
       "      <th>4</th>\n",
       "      <td>192985</td>\n",
       "      <td>79.0</td>\n",
       "      <td>91</td>\n",
       "      <td>76.0</td>\n",
       "      <td>Right</td>\n",
       "      <td>54.5</td>\n",
       "      <td>0</td>\n",
       "    </tr>\n",
       "  </tbody>\n",
       "</table>\n",
       "</div>"
      ],
      "text/plain": [
       "       ID  Agility  Overall  Aggression Preferred Foot  Tackling  Attacker\n",
       "0  158023     91.0       94        48.0           Left      27.0         1\n",
       "1   20801     87.0       94        63.0          Right      27.0         1\n",
       "2  190871     96.0       92        56.0          Right      28.5         1\n",
       "3  193080     60.0       91        38.0          Right      17.0         0\n",
       "4  192985     79.0       91        76.0          Right      54.5         0"
      ]
     },
     "execution_count": 2,
     "metadata": {},
     "output_type": "execute_result"
    }
   ],
   "source": [
    "data[\"Tackling\"] = (data[\"StandingTackle\"]+data[\"SlidingTackle\"])/2\n",
    "attacker_positions = ['RF', 'LF', 'ST', 'CF', 'RW', 'LW']\n",
    "data[\"Attacker\"] = data.Position.apply(lambda x: 1 if x in attacker_positions else 0)\n",
    "data = data.drop([\"StandingTackle\", \"SlidingTackle\", \"Position\"], axis=1)\n",
    "data.head()"
   ]
  },
  {
   "cell_type": "code",
   "execution_count": 3,
   "id": "tutorial-syria",
   "metadata": {
    "execution": {
     "iopub.execute_input": "2021-04-19T23:43:55.161212Z",
     "iopub.status.busy": "2021-04-19T23:43:55.160212Z",
     "iopub.status.idle": "2021-04-19T23:43:55.265720Z",
     "shell.execute_reply": "2021-04-19T23:43:55.264749Z"
    },
    "papermill": {
     "duration": 0.126515,
     "end_time": "2021-04-19T23:43:55.265918",
     "exception": false,
     "start_time": "2021-04-19T23:43:55.139403",
     "status": "completed"
    },
    "tags": []
   },
   "outputs": [],
   "source": [
    "data.to_csv('filtered_data.csv',index=False)"
   ]
  },
  {
   "cell_type": "code",
   "execution_count": 4,
   "id": "guilty-estimate",
   "metadata": {
    "execution": {
     "iopub.execute_input": "2021-04-19T23:43:55.306222Z",
     "iopub.status.busy": "2021-04-19T23:43:55.305367Z",
     "iopub.status.idle": "2021-04-19T23:43:55.319966Z",
     "shell.execute_reply": "2021-04-19T23:43:55.319266Z"
    },
    "papermill": {
     "duration": 0.038091,
     "end_time": "2021-04-19T23:43:55.320129",
     "exception": false,
     "start_time": "2021-04-19T23:43:55.282038",
     "status": "completed"
    },
    "tags": []
   },
   "outputs": [
    {
     "data": {
      "text/plain": [
       "min       14.000000\n",
       "q25       55.000000\n",
       "median    66.000000\n",
       "q75       74.000000\n",
       "max       96.000000\n",
       "mean      63.501295\n",
       "Name: Agility, dtype: float64"
      ]
     },
     "execution_count": 4,
     "metadata": {},
     "output_type": "execute_result"
    }
   ],
   "source": [
    "def q25(x):\n",
    "    return x.quantile(0.25)\n",
    "\n",
    "def q75(x):\n",
    "    return x.quantile(0.75)\n",
    "\n",
    "data.Agility.agg(['min', q25, 'median', q75, 'max', 'mean'])"
   ]
  },
  {
   "cell_type": "code",
   "execution_count": 5,
   "id": "outdoor-reach",
   "metadata": {
    "execution": {
     "iopub.execute_input": "2021-04-19T23:43:55.359720Z",
     "iopub.status.busy": "2021-04-19T23:43:55.358850Z",
     "iopub.status.idle": "2021-04-19T23:43:55.669125Z",
     "shell.execute_reply": "2021-04-19T23:43:55.668552Z"
    },
    "papermill": {
     "duration": 0.332282,
     "end_time": "2021-04-19T23:43:55.669279",
     "exception": false,
     "start_time": "2021-04-19T23:43:55.336997",
     "status": "completed"
    },
    "tags": []
   },
   "outputs": [
    {
     "data": {
      "image/png": "[encoded data removed]",
      "text/plain": [
       "<Figure size 864x576 with 1 Axes>"
      ]
     },
     "metadata": {
      "needs_background": "light"
     },
     "output_type": "display_data"
    }
   ],
   "source": [
    "data.Agility.plot(kind='hist',\n",
    "        alpha=0.7,\n",
    "        bins=30,\n",
    "        title='Histogram Of Agility Score',\n",
    "        rot=45,\n",
    "        grid=True,\n",
    "        figsize=(12,8),\n",
    "        fontsize=15, \n",
    "        color=['#A0E8AF', '#FFCF56'])\n",
    "plt.xlabel('Agility score')\n",
    "plt.ylabel(\"Number Of players\");"
   ]
  },
  {
   "cell_type": "code",
   "execution_count": 6,
   "id": "elder-director",
   "metadata": {
    "execution": {
     "iopub.execute_input": "2021-04-19T23:43:55.735728Z",
     "iopub.status.busy": "2021-04-19T23:43:55.734317Z",
     "iopub.status.idle": "2021-04-19T23:43:55.873101Z",
     "shell.execute_reply": "2021-04-19T23:43:55.872425Z"
    },
    "papermill": {
     "duration": 0.187869,
     "end_time": "2021-04-19T23:43:55.873504",
     "exception": false,
     "start_time": "2021-04-19T23:43:55.685635",
     "status": "completed"
    },
    "tags": []
   },
   "outputs": [
    {
     "name": "stdout",
     "output_type": "stream",
     "text": [
      "num lower end outliers: 192\n",
      "num upper end outliers: 0\n"
     ]
    },
    {
     "data": {
      "image/png": "[encoded data removed]",
      "text/plain": [
       "<Figure size 864x576 with 1 Axes>"
      ]
     },
     "metadata": {
      "needs_background": "light"
     },
     "output_type": "display_data"
    }
   ],
   "source": [
    "data.Agility.plot(kind='box',\n",
    "        title='BoxPlot Of Agility Score',\n",
    "        grid=True,\n",
    "        figsize=(12,8),\n",
    "        fontsize=15)\n",
    "plt.ylabel(\"Score\", fontsize=15)\n",
    "Q1 = data.Agility.quantile(0.25)\n",
    "Q3 = data.Agility.quantile(0.75)\n",
    "IQR = Q3 - Q1\n",
    "print(f\"num lower end outliers: {(data.Agility < (Q1 - 1.5 * IQR)).sum()}\")\n",
    "print(f\"num upper end outliers: {(data.Agility > (Q3 + 1.5 * IQR)).sum()}\")"
   ]
  },
  {
   "cell_type": "code",
   "execution_count": 7,
   "id": "revised-shoulder",
   "metadata": {
    "execution": {
     "iopub.execute_input": "2021-04-19T23:43:55.918007Z",
     "iopub.status.busy": "2021-04-19T23:43:55.916928Z",
     "iopub.status.idle": "2021-04-19T23:43:55.928511Z",
     "shell.execute_reply": "2021-04-19T23:43:55.927786Z"
    },
    "papermill": {
     "duration": 0.036089,
     "end_time": "2021-04-19T23:43:55.928656",
     "exception": false,
     "start_time": "2021-04-19T23:43:55.892567",
     "status": "completed"
    },
    "tags": []
   },
   "outputs": [
    {
     "data": {
      "text/plain": [
       "min       46.000000\n",
       "q25       62.000000\n",
       "median    66.000000\n",
       "q75       71.000000\n",
       "max       94.000000\n",
       "mean      66.253926\n",
       "Name: Overall, dtype: float64"
      ]
     },
     "execution_count": 7,
     "metadata": {},
     "output_type": "execute_result"
    }
   ],
   "source": [
    "data.Overall.agg(['min', q25, 'median', q75, 'max', 'mean'])"
   ]
  },
  {
   "cell_type": "code",
   "execution_count": 8,
   "id": "linear-appearance",
   "metadata": {
    "execution": {
     "iopub.execute_input": "2021-04-19T23:43:55.973218Z",
     "iopub.status.busy": "2021-04-19T23:43:55.971984Z",
     "iopub.status.idle": "2021-04-19T23:43:56.212773Z",
     "shell.execute_reply": "2021-04-19T23:43:56.212056Z"
    },
    "papermill": {
     "duration": 0.265809,
     "end_time": "2021-04-19T23:43:56.212946",
     "exception": false,
     "start_time": "2021-04-19T23:43:55.947137",
     "status": "completed"
    },
    "tags": []
   },
   "outputs": [
    {
     "data": {
      "image/png": "[encoded data removed]",
      "text/plain": [
       "<Figure size 864x576 with 1 Axes>"
      ]
     },
     "metadata": {
      "needs_background": "light"
     },
     "output_type": "display_data"
    }
   ],
   "source": [
    "data.Overall.plot(kind='hist',\n",
    "        alpha=0.7,\n",
    "        bins=30,\n",
    "        title='Histogram Of Overall Rating',\n",
    "        rot=45,\n",
    "        grid=True,\n",
    "        figsize=(12,8),\n",
    "        fontsize=15, \n",
    "        color=['#A0E8AF', '#FFCF56'])\n",
    "plt.xlabel('Overall rating')\n",
    "plt.ylabel(\"Number Of players\");"
   ]
  },
  {
   "cell_type": "code",
   "execution_count": 9,
   "id": "scheduled-walker",
   "metadata": {
    "execution": {
     "iopub.execute_input": "2021-04-19T23:43:56.288409Z",
     "iopub.status.busy": "2021-04-19T23:43:56.287675Z",
     "iopub.status.idle": "2021-04-19T23:43:56.418837Z",
     "shell.execute_reply": "2021-04-19T23:43:56.418127Z"
    },
    "papermill": {
     "duration": 0.185431,
     "end_time": "2021-04-19T23:43:56.419008",
     "exception": false,
     "start_time": "2021-04-19T23:43:56.233577",
     "status": "completed"
    },
    "tags": []
   },
   "outputs": [
    {
     "name": "stdout",
     "output_type": "stream",
     "text": [
      "num lower end outliers: 53\n",
      "num upper end outliers: 110\n"
     ]
    },
    {
     "data": {
      "image/png": "[encoded data removed]",
      "text/plain": [
       "<Figure size 864x576 with 1 Axes>"
      ]
     },
     "metadata": {
      "needs_background": "light"
     },
     "output_type": "display_data"
    }
   ],
   "source": [
    "data.Overall.plot(kind='box',\n",
    "        title='BoxPlot Of Overall Score',\n",
    "        grid=True,\n",
    "        figsize=(12,8),\n",
    "        fontsize=15)\n",
    "plt.ylabel(\"Score\", fontsize=15)\n",
    "Q1 = data.Overall.quantile(0.25)\n",
    "Q3 = data.Overall.quantile(0.75)\n",
    "IQR = Q3 - Q1\n",
    "print(f\"num lower end outliers: {(data.Overall < (Q1 - 1.5 * IQR)).sum()}\")\n",
    "print(f\"num upper end outliers: {(data.Overall > (Q3 + 1.5 * IQR)).sum()}\")"
   ]
  },
  {
   "cell_type": "code",
   "execution_count": 10,
   "id": "opened-regulation",
   "metadata": {
    "execution": {
     "iopub.execute_input": "2021-04-19T23:43:56.466838Z",
     "iopub.status.busy": "2021-04-19T23:43:56.466191Z",
     "iopub.status.idle": "2021-04-19T23:43:56.479006Z",
     "shell.execute_reply": "2021-04-19T23:43:56.478330Z"
    },
    "papermill": {
     "duration": 0.039939,
     "end_time": "2021-04-19T23:43:56.479147",
     "exception": false,
     "start_time": "2021-04-19T23:43:56.439208",
     "status": "completed"
    },
    "tags": []
   },
   "outputs": [
    {
     "data": {
      "text/plain": [
       "min       11.000000\n",
       "q25       44.000000\n",
       "median    59.000000\n",
       "q75       69.000000\n",
       "max       95.000000\n",
       "mean      55.876068\n",
       "Name: Aggression, dtype: float64"
      ]
     },
     "execution_count": 10,
     "metadata": {},
     "output_type": "execute_result"
    }
   ],
   "source": [
    "data.Aggression.agg(['min', q25, 'median', q75, 'max', 'mean'])"
   ]
  },
  {
   "cell_type": "code",
   "execution_count": 11,
   "id": "green-organ",
   "metadata": {
    "execution": {
     "iopub.execute_input": "2021-04-19T23:43:56.527209Z",
     "iopub.status.busy": "2021-04-19T23:43:56.526502Z",
     "iopub.status.idle": "2021-04-19T23:43:56.766038Z",
     "shell.execute_reply": "2021-04-19T23:43:56.765412Z"
    },
    "papermill": {
     "duration": 0.266461,
     "end_time": "2021-04-19T23:43:56.766183",
     "exception": false,
     "start_time": "2021-04-19T23:43:56.499722",
     "status": "completed"
    },
    "tags": []
   },
   "outputs": [
    {
     "data": {
      "image/png": "[encoded data removed]",
      "text/plain": [
       "<Figure size 864x576 with 1 Axes>"
      ]
     },
     "metadata": {
      "needs_background": "light"
     },
     "output_type": "display_data"
    }
   ],
   "source": [
    "data.Aggression.plot(kind='hist',\n",
    "        alpha=0.7,\n",
    "        bins=30,\n",
    "        title='Histogram Of Aggression Score',\n",
    "        rot=45,\n",
    "        grid=True,\n",
    "        figsize=(12,8),\n",
    "        fontsize=15, \n",
    "        color=['#A0E8AF', '#FFCF56'])\n",
    "plt.xlabel('Aggression score')\n",
    "plt.ylabel(\"Number Of players\");"
   ]
  },
  {
   "cell_type": "code",
   "execution_count": 12,
   "id": "animated-niagara",
   "metadata": {
    "execution": {
     "iopub.execute_input": "2021-04-19T23:43:56.935632Z",
     "iopub.status.busy": "2021-04-19T23:43:56.820729Z",
     "iopub.status.idle": "2021-04-19T23:43:57.064833Z",
     "shell.execute_reply": "2021-04-19T23:43:57.064284Z"
    },
    "papermill": {
     "duration": 0.276655,
     "end_time": "2021-04-19T23:43:57.065008",
     "exception": false,
     "start_time": "2021-04-19T23:43:56.788353",
     "status": "completed"
    },
    "tags": []
   },
   "outputs": [
    {
     "name": "stdout",
     "output_type": "stream",
     "text": [
      "num lower end outliers: 0\n",
      "num upper end outliers: 0\n"
     ]
    },
    {
     "data": {
      "image/png": "[encoded data removed]",
      "text/plain": [
       "<Figure size 864x576 with 1 Axes>"
      ]
     },
     "metadata": {
      "needs_background": "light"
     },
     "output_type": "display_data"
    }
   ],
   "source": [
    "data.Aggression.plot(kind='box',\n",
    "        title='BoxPlot Of Aggression Score',\n",
    "        grid=True,\n",
    "        figsize=(12,8),\n",
    "        fontsize=15)\n",
    "plt.ylabel(\"Score\", fontsize=15)\n",
    "Q1 = data.Aggression.quantile(0.25)\n",
    "Q3 = data.Aggression.quantile(0.75)\n",
    "IQR = Q3 - Q1\n",
    "print(f\"num lower end outliers: {(data.Aggression < (Q1 - 1.5 * IQR)).sum()}\")\n",
    "print(f\"num upper end outliers: {(data.Aggression > (Q3 + 1.5 * IQR)).sum()}\")"
   ]
  },
  {
   "cell_type": "code",
   "execution_count": 13,
   "id": "lovely-methodology",
   "metadata": {
    "execution": {
     "iopub.execute_input": "2021-04-19T23:43:57.118420Z",
     "iopub.status.busy": "2021-04-19T23:43:57.116442Z",
     "iopub.status.idle": "2021-04-19T23:43:57.130733Z",
     "shell.execute_reply": "2021-04-19T23:43:57.130015Z"
    },
    "papermill": {
     "duration": 0.043094,
     "end_time": "2021-04-19T23:43:57.130907",
     "exception": false,
     "start_time": "2021-04-19T23:43:57.087813",
     "status": "completed"
    },
    "tags": []
   },
   "outputs": [
    {
     "data": {
      "text/plain": [
       "min        3.000000\n",
       "q25       25.500000\n",
       "median    53.500000\n",
       "q75       65.000000\n",
       "max       91.500000\n",
       "mean      46.684108\n",
       "Name: Tackling, dtype: float64"
      ]
     },
     "execution_count": 13,
     "metadata": {},
     "output_type": "execute_result"
    }
   ],
   "source": [
    "data.Tackling.agg(['min', q25, 'median', q75, 'max', 'mean'])"
   ]
  },
  {
   "cell_type": "code",
   "execution_count": 14,
   "id": "operating-tuition",
   "metadata": {
    "execution": {
     "iopub.execute_input": "2021-04-19T23:43:57.187426Z",
     "iopub.status.busy": "2021-04-19T23:43:57.186299Z",
     "iopub.status.idle": "2021-04-19T23:43:57.472202Z",
     "shell.execute_reply": "2021-04-19T23:43:57.471629Z"
    },
    "papermill": {
     "duration": 0.315587,
     "end_time": "2021-04-19T23:43:57.472344",
     "exception": false,
     "start_time": "2021-04-19T23:43:57.156757",
     "status": "completed"
    },
    "tags": []
   },
   "outputs": [
    {
     "data": {
      "image/png": "[encoded data removed]",
      "text/plain": [
       "<Figure size 864x576 with 1 Axes>"
      ]
     },
     "metadata": {
      "needs_background": "light"
     },
     "output_type": "display_data"
    }
   ],
   "source": [
    "data.Tackling.plot(kind='hist',\n",
    "        alpha=0.7,\n",
    "        bins=30,\n",
    "        title='Histogram Of Tackling Score',\n",
    "        rot=45,\n",
    "        grid=True,\n",
    "        figsize=(12,8),\n",
    "        fontsize=15, \n",
    "        color=['#A0E8AF', '#FFCF56'])\n",
    "plt.xlabel('Tackling Score')\n",
    "plt.ylabel(\"Number Of players\");"
   ]
  },
  {
   "cell_type": "code",
   "execution_count": 15,
   "id": "oriented-bonus",
   "metadata": {
    "execution": {
     "iopub.execute_input": "2021-04-19T23:43:57.531909Z",
     "iopub.status.busy": "2021-04-19T23:43:57.528579Z",
     "iopub.status.idle": "2021-04-19T23:43:57.685595Z",
     "shell.execute_reply": "2021-04-19T23:43:57.684721Z"
    },
    "papermill": {
     "duration": 0.188921,
     "end_time": "2021-04-19T23:43:57.685739",
     "exception": false,
     "start_time": "2021-04-19T23:43:57.496818",
     "status": "completed"
    },
    "tags": []
   },
   "outputs": [
    {
     "name": "stdout",
     "output_type": "stream",
     "text": [
      "num lower end outliers: 0\n",
      "num upper end outliers: 0\n"
     ]
    },
    {
     "data": {
      "image/png": "[encoded data removed]",
      "text/plain": [
       "<Figure size 864x576 with 1 Axes>"
      ]
     },
     "metadata": {
      "needs_background": "light"
     },
     "output_type": "display_data"
    }
   ],
   "source": [
    "data.Tackling.plot(kind='box',\n",
    "        title='BoxPlot Of Tackling Score',\n",
    "        grid=True,\n",
    "        figsize=(12,8),\n",
    "        fontsize=15)\n",
    "plt.ylabel(\"Score\", fontsize=15)\n",
    "Q1 = data.Tackling.quantile(0.25)\n",
    "Q3 = data.Tackling.quantile(0.75)\n",
    "IQR = Q3 - Q1\n",
    "print(f\"num lower end outliers: {(data.Tackling < (Q1 - 1.5 * IQR)).sum()}\")\n",
    "print(f\"num upper end outliers: {(data.Tackling > (Q3 + 1.5 * IQR)).sum()}\")"
   ]
  },
  {
   "cell_type": "code",
   "execution_count": 16,
   "id": "invalid-marks",
   "metadata": {
    "execution": {
     "iopub.execute_input": "2021-04-19T23:43:57.752444Z",
     "iopub.status.busy": "2021-04-19T23:43:57.751289Z",
     "iopub.status.idle": "2021-04-19T23:43:57.765499Z",
     "shell.execute_reply": "2021-04-19T23:43:57.764920Z"
    },
    "papermill": {
     "duration": 0.054038,
     "end_time": "2021-04-19T23:43:57.765636",
     "exception": false,
     "start_time": "2021-04-19T23:43:57.711598",
     "status": "completed"
    },
    "tags": []
   },
   "outputs": [
    {
     "data": {
      "text/html": [
       "<div>\n",
       "<style scoped>\n",
       "    .dataframe tbody tr th:only-of-type {\n",
       "        vertical-align: middle;\n",
       "    }\n",
       "\n",
       "    .dataframe tbody tr th {\n",
       "        vertical-align: top;\n",
       "    }\n",
       "\n",
       "    .dataframe thead th {\n",
       "        text-align: right;\n",
       "    }\n",
       "</style>\n",
       "<table border=\"1\" class=\"dataframe\">\n",
       "  <thead>\n",
       "    <tr style=\"text-align: right;\">\n",
       "      <th></th>\n",
       "      <th>num_of_players</th>\n",
       "    </tr>\n",
       "    <tr>\n",
       "      <th>Attacker</th>\n",
       "      <th></th>\n",
       "    </tr>\n",
       "  </thead>\n",
       "  <tbody>\n",
       "    <tr>\n",
       "      <th>0</th>\n",
       "      <td>15139</td>\n",
       "    </tr>\n",
       "    <tr>\n",
       "      <th>1</th>\n",
       "      <td>3008</td>\n",
       "    </tr>\n",
       "  </tbody>\n",
       "</table>\n",
       "</div>"
      ],
      "text/plain": [
       "          num_of_players\n",
       "Attacker                \n",
       "0                  15139\n",
       "1                   3008"
      ]
     },
     "execution_count": 16,
     "metadata": {},
     "output_type": "execute_result"
    }
   ],
   "source": [
    "attacker_df = data.groupby('Attacker').agg(num_of_players=('ID', 'count'))\n",
    "attacker_df.head()"
   ]
  },
  {
   "cell_type": "code",
   "execution_count": 17,
   "id": "enhanced-missouri",
   "metadata": {
    "execution": {
     "iopub.execute_input": "2021-04-19T23:43:57.847561Z",
     "iopub.status.busy": "2021-04-19T23:43:57.829412Z",
     "iopub.status.idle": "2021-04-19T23:43:57.953256Z",
     "shell.execute_reply": "2021-04-19T23:43:57.952717Z"
    },
    "papermill": {
     "duration": 0.160598,
     "end_time": "2021-04-19T23:43:57.953397",
     "exception": false,
     "start_time": "2021-04-19T23:43:57.792799",
     "status": "completed"
    },
    "tags": []
   },
   "outputs": [
    {
     "data": {
      "image/png": "[encoded data removed]",
      "text/plain": [
       "<Figure size 720x432 with 1 Axes>"
      ]
     },
     "metadata": {},
     "output_type": "display_data"
    }
   ],
   "source": [
    "attacker_df.plot(kind='pie', x='Attacker', y='num_of_players',ylabel=\"is the player an Attacker?\" ,title = 'percentage of Attackers in total players', autopct=\"%.1f%%\", figsize = (10,6), legend=False);"
   ]
  },
  {
   "cell_type": "code",
   "execution_count": 18,
   "id": "tested-bradford",
   "metadata": {
    "execution": {
     "iopub.execute_input": "2021-04-19T23:43:58.020285Z",
     "iopub.status.busy": "2021-04-19T23:43:58.019082Z",
     "iopub.status.idle": "2021-04-19T23:43:58.033610Z",
     "shell.execute_reply": "2021-04-19T23:43:58.033055Z"
    },
    "papermill": {
     "duration": 0.05341,
     "end_time": "2021-04-19T23:43:58.033742",
     "exception": false,
     "start_time": "2021-04-19T23:43:57.980332",
     "status": "completed"
    },
    "tags": []
   },
   "outputs": [
    {
     "data": {
      "text/html": [
       "<div>\n",
       "<style scoped>\n",
       "    .dataframe tbody tr th:only-of-type {\n",
       "        vertical-align: middle;\n",
       "    }\n",
       "\n",
       "    .dataframe tbody tr th {\n",
       "        vertical-align: top;\n",
       "    }\n",
       "\n",
       "    .dataframe thead th {\n",
       "        text-align: right;\n",
       "    }\n",
       "</style>\n",
       "<table border=\"1\" class=\"dataframe\">\n",
       "  <thead>\n",
       "    <tr style=\"text-align: right;\">\n",
       "      <th></th>\n",
       "      <th>num_of_players</th>\n",
       "    </tr>\n",
       "    <tr>\n",
       "      <th>Preferred Foot</th>\n",
       "      <th></th>\n",
       "    </tr>\n",
       "  </thead>\n",
       "  <tbody>\n",
       "    <tr>\n",
       "      <th>Left</th>\n",
       "      <td>4209</td>\n",
       "    </tr>\n",
       "    <tr>\n",
       "      <th>Right</th>\n",
       "      <td>13938</td>\n",
       "    </tr>\n",
       "  </tbody>\n",
       "</table>\n",
       "</div>"
      ],
      "text/plain": [
       "                num_of_players\n",
       "Preferred Foot                \n",
       "Left                      4209\n",
       "Right                    13938"
      ]
     },
     "execution_count": 18,
     "metadata": {},
     "output_type": "execute_result"
    }
   ],
   "source": [
    "foot_df = data.groupby('Preferred Foot').agg(num_of_players=('ID', 'count'))\n",
    "foot_df.head()"
   ]
  },
  {
   "cell_type": "code",
   "execution_count": 19,
   "id": "studied-promotion",
   "metadata": {
    "execution": {
     "iopub.execute_input": "2021-04-19T23:43:58.132061Z",
     "iopub.status.busy": "2021-04-19T23:43:58.123928Z",
     "iopub.status.idle": "2021-04-19T23:43:58.212273Z",
     "shell.execute_reply": "2021-04-19T23:43:58.211716Z"
    },
    "papermill": {
     "duration": 0.151137,
     "end_time": "2021-04-19T23:43:58.212426",
     "exception": false,
     "start_time": "2021-04-19T23:43:58.061289",
     "status": "completed"
    },
    "tags": []
   },
   "outputs": [
    {
     "data": {
      "image/png": "[encoded data removed]",
      "text/plain": [
       "<Figure size 720x432 with 1 Axes>"
      ]
     },
     "metadata": {},
     "output_type": "display_data"
    }
   ],
   "source": [
    "foot_df.plot(kind='pie', x='Preferred Foot', y='num_of_players',title = 'right footed players vs left footed players', autopct=\"%.1f%%\", figsize = (10,6), legend=False);"
   ]
  }
 ],
 "metadata": {
  "kernelspec": {
   "display_name": "Python 3",
   "language": "python",
   "name": "python3"
  },
  "language_info": {
   "codemirror_mode": {
    "name": "ipython",
    "version": 3
   },
   "file_extension": ".py",
   "mimetype": "text/x-python",
   "name": "python",
   "nbconvert_exporter": "python",
   "pygments_lexer": "ipython3",
   "version": "3.7.9"
  },
  "papermill": {
   "default_parameters": {},
   "duration": 11.469704,
   "end_time": "2021-04-19T23:43:58.851064",
   "environment_variables": {},
   "exception": null,
   "input_path": "__notebook__.ipynb",
   "output_path": "__notebook__.ipynb",
   "parameters": {},
   "start_time": "2021-04-19T23:43:47.381360",
   "version": "2.3.2"
  }
 },
 "nbformat": 4,
 "nbformat_minor": 5
}
