{
 "cells": [
  {
   "cell_type": "code",
   "execution_count": 1,
   "id": "9e807a4e",
   "metadata": {
    "_cell_guid": "b1076dfc-b9ad-4769-8c92-a6c4dae69d19",
    "_uuid": "8f2839f25d086af736a60e9eeb907d3b93b6e0e5",
    "execution": {
     "iopub.execute_input": "2022-04-03T16:27:20.759931Z",
     "iopub.status.busy": "2022-04-03T16:27:20.759319Z",
     "iopub.status.idle": "2022-04-03T16:27:21.835594Z",
     "shell.execute_reply": "2022-04-03T16:27:21.834752Z",
     "shell.execute_reply.started": "2022-04-03T16:17:44.105712Z"
    },
    "papermill": {
     "duration": 1.103203,
     "end_time": "2022-04-03T16:27:21.835773",
     "exception": false,
     "start_time": "2022-04-03T16:27:20.732570",
     "status": "completed"
    },
    "tags": []
   },
   "outputs": [],
   "source": [
    "import pandas as pd\n",
    "import numpy as np\n",
    "import matplotlib.pyplot as plt \n",
    "import seaborn as sns "
   ]
  },
  {
   "cell_type": "code",
   "execution_count": 2,
   "id": "59ec0009",
   "metadata": {
    "execution": {
     "iopub.execute_input": "2022-04-03T16:27:21.881517Z",
     "iopub.status.busy": "2022-04-03T16:27:21.873179Z",
     "iopub.status.idle": "2022-04-03T16:27:22.139097Z",
     "shell.execute_reply": "2022-04-03T16:27:22.139643Z",
     "shell.execute_reply.started": "2022-04-03T16:18:22.876803Z"
    },
    "papermill": {
     "duration": 0.287636,
     "end_time": "2022-04-03T16:27:22.139832",
     "exception": false,
     "start_time": "2022-04-03T16:27:21.852196",
     "status": "completed"
    },
    "tags": []
   },
   "outputs": [
    {
     "data": {
      "text/html": [
       "<div>\n",
       "<style scoped>\n",
       "    .dataframe tbody tr th:only-of-type {\n",
       "        vertical-align: middle;\n",
       "    }\n",
       "\n",
       "    .dataframe tbody tr th {\n",
       "        vertical-align: top;\n",
       "    }\n",
       "\n",
       "    .dataframe thead th {\n",
       "        text-align: right;\n",
       "    }\n",
       "</style>\n",
       "<table border=\"1\" class=\"dataframe\">\n",
       "  <thead>\n",
       "    <tr style=\"text-align: right;\">\n",
       "      <th></th>\n",
       "      <th>Pokemon No.</th>\n",
       "      <th>Name</th>\n",
       "      <th>Type 1</th>\n",
       "      <th>Type 2</th>\n",
       "      <th>Max CP</th>\n",
       "      <th>Max HP</th>\n",
       "      <th>Image URL</th>\n",
       "    </tr>\n",
       "  </thead>\n",
       "  <tbody>\n",
       "    <tr>\n",
       "      <th>0</th>\n",
       "      <td>1</td>\n",
       "      <td>Bulbasaur</td>\n",
       "      <td>Grass</td>\n",
       "      <td>Poison</td>\n",
       "      <td>1079</td>\n",
       "      <td>83</td>\n",
       "      <td>http://cdn.bulbagarden.net/upload/thumb/2/21/0...</td>\n",
       "    </tr>\n",
       "    <tr>\n",
       "      <th>1</th>\n",
       "      <td>2</td>\n",
       "      <td>Ivysaur</td>\n",
       "      <td>Grass</td>\n",
       "      <td>Poison</td>\n",
       "      <td>1643</td>\n",
       "      <td>107</td>\n",
       "      <td>http://cdn.bulbagarden.net/upload/thumb/7/73/0...</td>\n",
       "    </tr>\n",
       "    <tr>\n",
       "      <th>2</th>\n",
       "      <td>3</td>\n",
       "      <td>Venusaur</td>\n",
       "      <td>Grass</td>\n",
       "      <td>Poison</td>\n",
       "      <td>2598</td>\n",
       "      <td>138</td>\n",
       "      <td>http://cdn.bulbagarden.net/upload/thumb/a/ae/0...</td>\n",
       "    </tr>\n",
       "    <tr>\n",
       "      <th>3</th>\n",
       "      <td>4</td>\n",
       "      <td>Charmander</td>\n",
       "      <td>Fire</td>\n",
       "      <td>NaN</td>\n",
       "      <td>962</td>\n",
       "      <td>73</td>\n",
       "      <td>http://cdn.bulbagarden.net/upload/thumb/7/73/0...</td>\n",
       "    </tr>\n",
       "    <tr>\n",
       "      <th>4</th>\n",
       "      <td>5</td>\n",
       "      <td>Charmeleon</td>\n",
       "      <td>Fire</td>\n",
       "      <td>NaN</td>\n",
       "      <td>1568</td>\n",
       "      <td>103</td>\n",
       "      <td>http://cdn.bulbagarden.net/upload/thumb/4/4a/0...</td>\n",
       "    </tr>\n",
       "  </tbody>\n",
       "</table>\n",
       "</div>"
      ],
      "text/plain": [
       "   Pokemon No.        Name Type 1  Type 2  Max CP  Max HP  \\\n",
       "0            1   Bulbasaur  Grass  Poison    1079      83   \n",
       "1            2     Ivysaur  Grass  Poison    1643     107   \n",
       "2            3    Venusaur  Grass  Poison    2598     138   \n",
       "3            4  Charmander   Fire     NaN     962      73   \n",
       "4            5  Charmeleon   Fire     NaN    1568     103   \n",
       "\n",
       "                                           Image URL  \n",
       "0  http://cdn.bulbagarden.net/upload/thumb/2/21/0...  \n",
       "1  http://cdn.bulbagarden.net/upload/thumb/7/73/0...  \n",
       "2  http://cdn.bulbagarden.net/upload/thumb/a/ae/0...  \n",
       "3  http://cdn.bulbagarden.net/upload/thumb/7/73/0...  \n",
       "4  http://cdn.bulbagarden.net/upload/thumb/4/4a/0...  "
      ]
     },
     "execution_count": 2,
     "metadata": {},
     "output_type": "execute_result"
    }
   ],
   "source": [
    "data = pd.read_csv(\"https://raw.githubusercontent.com/benvictoria17/DataAnalytics/master/dataset/PokemonGO/pokemonGO.csv\")\n",
    "data.head(5)"
   ]
  },
  {
   "cell_type": "code",
   "execution_count": 3,
   "id": "bb24689f",
   "metadata": {
    "execution": {
     "iopub.execute_input": "2022-04-03T16:27:22.178584Z",
     "iopub.status.busy": "2022-04-03T16:27:22.177715Z",
     "iopub.status.idle": "2022-04-03T16:27:22.181998Z",
     "shell.execute_reply": "2022-04-03T16:27:22.181316Z",
     "shell.execute_reply.started": "2022-04-03T16:19:11.849818Z"
    },
    "papermill": {
     "duration": 0.025667,
     "end_time": "2022-04-03T16:27:22.182152",
     "exception": false,
     "start_time": "2022-04-03T16:27:22.156485",
     "status": "completed"
    },
    "tags": []
   },
   "outputs": [
    {
     "name": "stdout",
     "output_type": "stream",
     "text": [
      "Number of Pokemons: 151\n",
      "Number of Columns: 7\n"
     ]
    }
   ],
   "source": [
    "rows,cols = data.shape\n",
    "print('Number of Pokemons:',rows)\n",
    "print('Number of Columns:',cols)"
   ]
  },
  {
   "cell_type": "code",
   "execution_count": 4,
   "id": "a5dbd525",
   "metadata": {
    "execution": {
     "iopub.execute_input": "2022-04-03T16:27:22.238205Z",
     "iopub.status.busy": "2022-04-03T16:27:22.237509Z",
     "iopub.status.idle": "2022-04-03T16:27:22.243200Z",
     "shell.execute_reply": "2022-04-03T16:27:22.242619Z",
     "shell.execute_reply.started": "2022-04-03T16:19:20.811168Z"
    },
    "papermill": {
     "duration": 0.044541,
     "end_time": "2022-04-03T16:27:22.243378",
     "exception": false,
     "start_time": "2022-04-03T16:27:22.198837",
     "status": "completed"
    },
    "tags": []
   },
   "outputs": [
    {
     "name": "stdout",
     "output_type": "stream",
     "text": [
      "<class 'pandas.core.frame.DataFrame'>\n",
      "RangeIndex: 151 entries, 0 to 150\n",
      "Data columns (total 7 columns):\n",
      " #   Column       Non-Null Count  Dtype \n",
      "---  ------       --------------  ----- \n",
      " 0   Pokemon No.  151 non-null    int64 \n",
      " 1   Name         151 non-null    object\n",
      " 2   Type 1       151 non-null    object\n",
      " 3   Type 2       67 non-null     object\n",
      " 4   Max CP       151 non-null    int64 \n",
      " 5   Max HP       151 non-null    int64 \n",
      " 6   Image URL    151 non-null    object\n",
      "dtypes: int64(3), object(4)\n",
      "memory usage: 8.4+ KB\n"
     ]
    }
   ],
   "source": [
    "data.info()"
   ]
  },
  {
   "cell_type": "code",
   "execution_count": 5,
   "id": "ecea9b34",
   "metadata": {
    "execution": {
     "iopub.execute_input": "2022-04-03T16:27:22.286591Z",
     "iopub.status.busy": "2022-04-03T16:27:22.285537Z",
     "iopub.status.idle": "2022-04-03T16:27:22.302838Z",
     "shell.execute_reply": "2022-04-03T16:27:22.302155Z",
     "shell.execute_reply.started": "2022-04-03T16:19:29.693446Z"
    },
    "papermill": {
     "duration": 0.042991,
     "end_time": "2022-04-03T16:27:22.302990",
     "exception": false,
     "start_time": "2022-04-03T16:27:22.259999",
     "status": "completed"
    },
    "tags": []
   },
   "outputs": [
    {
     "data": {
      "text/html": [
       "<div>\n",
       "<style scoped>\n",
       "    .dataframe tbody tr th:only-of-type {\n",
       "        vertical-align: middle;\n",
       "    }\n",
       "\n",
       "    .dataframe tbody tr th {\n",
       "        vertical-align: top;\n",
       "    }\n",
       "\n",
       "    .dataframe thead th {\n",
       "        text-align: right;\n",
       "    }\n",
       "</style>\n",
       "<table border=\"1\" class=\"dataframe\">\n",
       "  <thead>\n",
       "    <tr style=\"text-align: right;\">\n",
       "      <th></th>\n",
       "      <th>Pokemon No.</th>\n",
       "      <th>Max CP</th>\n",
       "      <th>Max HP</th>\n",
       "    </tr>\n",
       "  </thead>\n",
       "  <tbody>\n",
       "    <tr>\n",
       "      <th>count</th>\n",
       "      <td>151.000000</td>\n",
       "      <td>151.000000</td>\n",
       "      <td>151.000000</td>\n",
       "    </tr>\n",
       "    <tr>\n",
       "      <th>mean</th>\n",
       "      <td>76.000000</td>\n",
       "      <td>1637.291391</td>\n",
       "      <td>113.350993</td>\n",
       "    </tr>\n",
       "    <tr>\n",
       "      <th>std</th>\n",
       "      <td>43.734045</td>\n",
       "      <td>755.261726</td>\n",
       "      <td>45.297417</td>\n",
       "    </tr>\n",
       "    <tr>\n",
       "      <th>min</th>\n",
       "      <td>1.000000</td>\n",
       "      <td>264.000000</td>\n",
       "      <td>27.000000</td>\n",
       "    </tr>\n",
       "    <tr>\n",
       "      <th>25%</th>\n",
       "      <td>38.500000</td>\n",
       "      <td>1001.500000</td>\n",
       "      <td>83.000000</td>\n",
       "    </tr>\n",
       "    <tr>\n",
       "      <th>50%</th>\n",
       "      <td>76.000000</td>\n",
       "      <td>1594.000000</td>\n",
       "      <td>107.000000</td>\n",
       "    </tr>\n",
       "    <tr>\n",
       "      <th>75%</th>\n",
       "      <td>113.500000</td>\n",
       "      <td>2170.500000</td>\n",
       "      <td>138.000000</td>\n",
       "    </tr>\n",
       "    <tr>\n",
       "      <th>max</th>\n",
       "      <td>151.000000</td>\n",
       "      <td>4174.000000</td>\n",
       "      <td>408.000000</td>\n",
       "    </tr>\n",
       "  </tbody>\n",
       "</table>\n",
       "</div>"
      ],
      "text/plain": [
       "       Pokemon No.       Max CP      Max HP\n",
       "count   151.000000   151.000000  151.000000\n",
       "mean     76.000000  1637.291391  113.350993\n",
       "std      43.734045   755.261726   45.297417\n",
       "min       1.000000   264.000000   27.000000\n",
       "25%      38.500000  1001.500000   83.000000\n",
       "50%      76.000000  1594.000000  107.000000\n",
       "75%     113.500000  2170.500000  138.000000\n",
       "max     151.000000  4174.000000  408.000000"
      ]
     },
     "execution_count": 5,
     "metadata": {},
     "output_type": "execute_result"
    }
   ],
   "source": [
    "data.describe()"
   ]
  },
  {
   "cell_type": "code",
   "execution_count": 6,
   "id": "1a0645b1",
   "metadata": {
    "execution": {
     "iopub.execute_input": "2022-04-03T16:27:22.342454Z",
     "iopub.status.busy": "2022-04-03T16:27:22.341719Z",
     "iopub.status.idle": "2022-04-03T16:27:22.344873Z",
     "shell.execute_reply": "2022-04-03T16:27:22.345598Z",
     "shell.execute_reply.started": "2022-04-03T16:19:40.303362Z"
    },
    "papermill": {
     "duration": 0.02569,
     "end_time": "2022-04-03T16:27:22.345844",
     "exception": false,
     "start_time": "2022-04-03T16:27:22.320154",
     "status": "completed"
    },
    "tags": []
   },
   "outputs": [
    {
     "name": "stdout",
     "output_type": "stream",
     "text": [
      "Pokemon No.,Name,Type 1,Type 2,Max CP,Max HP,Image URL\n"
     ]
    }
   ],
   "source": [
    "print(*data.columns,sep=',')"
   ]
  },
  {
   "cell_type": "code",
   "execution_count": 7,
   "id": "f2c1fc2c",
   "metadata": {
    "execution": {
     "iopub.execute_input": "2022-04-03T16:27:22.390202Z",
     "iopub.status.busy": "2022-04-03T16:27:22.389539Z",
     "iopub.status.idle": "2022-04-03T16:27:22.394646Z",
     "shell.execute_reply": "2022-04-03T16:27:22.393993Z",
     "shell.execute_reply.started": "2022-04-03T16:19:57.787646Z"
    },
    "papermill": {
     "duration": 0.029712,
     "end_time": "2022-04-03T16:27:22.394793",
     "exception": false,
     "start_time": "2022-04-03T16:27:22.365081",
     "status": "completed"
    },
    "tags": []
   },
   "outputs": [
    {
     "name": "stdout",
     "output_type": "stream",
     "text": [
      "Normal, Water, Flying, Ghost, Psychic, Dragon, Electric, Bug, Steel, Grass, Rock, Ground, Fire, Poison, Fighting, Ice, Fairy\n",
      "Number of Pokemon Types: 17\n"
     ]
    }
   ],
   "source": [
    "d1 = list(data['Type 1'].unique())\n",
    "d2 = list(data['Type 2'].unique())\n",
    "d = list(set(d1) | set(d2))\n",
    "d = d[1:]\n",
    "\n",
    "print(*d,sep=', ')\n",
    "print(\"Number of Pokemon Types:\",len(d))"
   ]
  },
  {
   "cell_type": "code",
   "execution_count": 8,
   "id": "a5ca5793",
   "metadata": {
    "execution": {
     "iopub.execute_input": "2022-04-03T16:27:22.439727Z",
     "iopub.status.busy": "2022-04-03T16:27:22.439047Z",
     "iopub.status.idle": "2022-04-03T16:27:22.623134Z",
     "shell.execute_reply": "2022-04-03T16:27:22.623677Z",
     "shell.execute_reply.started": "2022-04-03T16:24:43.521608Z"
    },
    "papermill": {
     "duration": 0.210876,
     "end_time": "2022-04-03T16:27:22.623884",
     "exception": false,
     "start_time": "2022-04-03T16:27:22.413008",
     "status": "completed"
    },
    "tags": []
   },
   "outputs": [
    {
     "name": "stdout",
     "output_type": "stream",
     "text": [
      "Normal : 22\n",
      "Water : 32\n",
      "Flying : 19\n",
      "Ghost : 3\n",
      "Psychic : 14\n",
      "Dragon : 3\n",
      "Electric : 9\n",
      "Bug : 12\n",
      "Steel : 2\n",
      "Grass : 14\n",
      "Rock : 11\n",
      "Ground : 14\n",
      "Fire : 12\n",
      "Poison : 33\n",
      "Fighting : 8\n",
      "Ice : 5\n",
      "Fairy : 5\n"
     ]
    }
   ],
   "source": [
    "counter = {}\n",
    "for j in d:\n",
    "    counter[j]=0\n",
    "    for i in range(0,rows):\n",
    "        type1 = data.iloc[i,2]\n",
    "        type2 = data.iloc[i,3]\n",
    "        if(type1==j):\n",
    "            counter[j]+=1\n",
    "        if(type2==j):\n",
    "            counter[j]+=1\n",
    "for key in counter:\n",
    "    print(key,\":\",counter[key])"
   ]
  },
  {
   "cell_type": "code",
   "execution_count": 9,
   "id": "42834aa1",
   "metadata": {
    "execution": {
     "iopub.execute_input": "2022-04-03T16:27:22.669513Z",
     "iopub.status.busy": "2022-04-03T16:27:22.668497Z",
     "iopub.status.idle": "2022-04-03T16:27:22.673861Z",
     "shell.execute_reply": "2022-04-03T16:27:22.672881Z",
     "shell.execute_reply.started": "2022-04-03T16:25:02.236116Z"
    },
    "papermill": {
     "duration": 0.031849,
     "end_time": "2022-04-03T16:27:22.674224",
     "exception": false,
     "start_time": "2022-04-03T16:27:22.642375",
     "status": "completed"
    },
    "tags": []
   },
   "outputs": [
    {
     "name": "stdout",
     "output_type": "stream",
     "text": [
      "Maximum of Max CP: 4174\n",
      "Mewtwo\n",
      "\n",
      "Maximum of Max HP: 408\n",
      "Chansey\n"
     ]
    }
   ],
   "source": [
    "cp = max(data['Max CP'])\n",
    "pokemon_cp = data.iloc[data['Max CP'].idxmax(),1]\n",
    "print('Maximum of Max CP:',cp)\n",
    "print(pokemon_cp)\n",
    "\n",
    "hp = max(data['Max HP'])\n",
    "pokemon_hp = data.iloc[data['Max HP'].idxmax(),1]\n",
    "print('\\nMaximum of Max HP:',hp)\n",
    "print(pokemon_hp)"
   ]
  },
  {
   "cell_type": "code",
   "execution_count": 10,
   "id": "de924189",
   "metadata": {
    "execution": {
     "iopub.execute_input": "2022-04-03T16:27:22.734982Z",
     "iopub.status.busy": "2022-04-03T16:27:22.723324Z",
     "iopub.status.idle": "2022-04-03T16:27:22.979679Z",
     "shell.execute_reply": "2022-04-03T16:27:22.980150Z",
     "shell.execute_reply.started": "2022-04-03T16:25:17.936053Z"
    },
    "papermill": {
     "duration": 0.286421,
     "end_time": "2022-04-03T16:27:22.980363",
     "exception": false,
     "start_time": "2022-04-03T16:27:22.693942",
     "status": "completed"
    },
    "tags": []
   },
   "outputs": [
    {
     "data": {
      "image/png": "[encoded data removed]",
      "text/plain": [
       "<Figure size 432x288 with 1 Axes>"
      ]
     },
     "metadata": {
      "needs_background": "light"
     },
     "output_type": "display_data"
    }
   ],
   "source": [
    "types = list(counter.keys())\n",
    "counts = list(counter.values())\n",
    "sns.barplot(y = types,x = counts,palette = 'plasma')\n",
    "plt.show()"
   ]
  },
  {
   "cell_type": "code",
   "execution_count": 11,
   "id": "7675818d",
   "metadata": {
    "execution": {
     "iopub.execute_input": "2022-04-03T16:27:23.052505Z",
     "iopub.status.busy": "2022-04-03T16:27:23.037524Z",
     "iopub.status.idle": "2022-04-03T16:27:23.147074Z",
     "shell.execute_reply": "2022-04-03T16:27:23.146490Z",
     "shell.execute_reply.started": "2022-04-03T16:25:33.058025Z"
    },
    "papermill": {
     "duration": 0.14741,
     "end_time": "2022-04-03T16:27:23.147249",
     "exception": false,
     "start_time": "2022-04-03T16:27:22.999839",
     "status": "completed"
    },
    "tags": []
   },
   "outputs": [
    {
     "data": {
      "image/png": "[encoded data removed]",
      "text/plain": [
       "<Figure size 432x288 with 1 Axes>"
      ]
     },
     "metadata": {
      "needs_background": "light"
     },
     "output_type": "display_data"
    }
   ],
   "source": [
    "sns.boxplot(x = data['Max CP'],color = '#AB87FF')\n",
    "plt.show()"
   ]
  },
  {
   "cell_type": "code",
   "execution_count": 12,
   "id": "f6bdfbc8",
   "metadata": {
    "execution": {
     "iopub.execute_input": "2022-04-03T16:27:23.192516Z",
     "iopub.status.busy": "2022-04-03T16:27:23.191513Z",
     "iopub.status.idle": "2022-04-03T16:27:23.304557Z",
     "shell.execute_reply": "2022-04-03T16:27:23.305143Z",
     "shell.execute_reply.started": "2022-04-03T16:25:47.613876Z"
    },
    "papermill": {
     "duration": 0.137435,
     "end_time": "2022-04-03T16:27:23.305358",
     "exception": false,
     "start_time": "2022-04-03T16:27:23.167923",
     "status": "completed"
    },
    "tags": []
   },
   "outputs": [
    {
     "data": {
      "image/png": "[encoded data removed]",
      "text/plain": [
       "<Figure size 432x288 with 1 Axes>"
      ]
     },
     "metadata": {
      "needs_background": "light"
     },
     "output_type": "display_data"
    }
   ],
   "source": [
    "sns.boxplot(x = data['Max HP'],color = '#2176FF')\n",
    "plt.show()"
   ]
  },
  {
   "cell_type": "code",
   "execution_count": 13,
   "id": "a679e90c",
   "metadata": {
    "execution": {
     "iopub.execute_input": "2022-04-03T16:27:23.352326Z",
     "iopub.status.busy": "2022-04-03T16:27:23.351290Z",
     "iopub.status.idle": "2022-04-03T16:27:23.907196Z",
     "shell.execute_reply": "2022-04-03T16:27:23.907765Z",
     "shell.execute_reply.started": "2022-04-03T16:25:58.123526Z"
    },
    "papermill": {
     "duration": 0.581181,
     "end_time": "2022-04-03T16:27:23.907947",
     "exception": false,
     "start_time": "2022-04-03T16:27:23.326766",
     "status": "completed"
    },
    "tags": []
   },
   "outputs": [
    {
     "data": {
      "image/png": "[encoded data removed]",
      "text/plain": [
       "<Figure size 432x288 with 1 Axes>"
      ]
     },
     "metadata": {
      "needs_background": "light"
     },
     "output_type": "display_data"
    }
   ],
   "source": [
    "sns.scatterplot(data = data,x = 'Max HP',y = 'Max CP',hue = 'Type 1',palette = 'plasma')\n",
    "plt.show()"
   ]
  },
  {
   "cell_type": "code",
   "execution_count": 14,
   "id": "625aa38d",
   "metadata": {
    "execution": {
     "iopub.execute_input": "2022-04-03T16:27:23.961313Z",
     "iopub.status.busy": "2022-04-03T16:27:23.960581Z",
     "iopub.status.idle": "2022-04-03T16:27:24.286277Z",
     "shell.execute_reply": "2022-04-03T16:27:24.287217Z",
     "shell.execute_reply.started": "2022-04-03T16:26:10.205532Z"
    },
    "papermill": {
     "duration": 0.355837,
     "end_time": "2022-04-03T16:27:24.287535",
     "exception": false,
     "start_time": "2022-04-03T16:27:23.931698",
     "status": "completed"
    },
    "tags": []
   },
   "outputs": [
    {
     "data": {
      "image/png": "[encoded data removed]",
      "text/plain": [
       "<Figure size 432x288 with 1 Axes>"
      ]
     },
     "metadata": {
      "needs_background": "light"
     },
     "output_type": "display_data"
    }
   ],
   "source": [
    "from wordcloud import WordCloud\n",
    "txt = data[data['Type 1'] == 'Electric']\n",
    "txt = ' '.join(txt['Name'])\n",
    "cloud = WordCloud().generate(str(txt))\n",
    "plt.imshow(cloud)\n",
    "plt.axis(\"off\")\n",
    "plt.show()"
   ]
  }
 ],
 "metadata": {
  "kernelspec": {
   "display_name": "Python 3",
   "language": "python",
   "name": "python3"
  },
  "language_info": {
   "codemirror_mode": {
    "name": "ipython",
    "version": 3
   },
   "file_extension": ".py",
   "mimetype": "text/x-python",
   "name": "python",
   "nbconvert_exporter": "python",
   "pygments_lexer": "ipython3",
   "version": "3.7.12"
  },
  "papermill": {
   "default_parameters": {},
   "duration": 14.583079,
   "end_time": "2022-04-03T16:27:25.028899",
   "environment_variables": {},
   "exception": null,
   "input_path": "__notebook__.ipynb",
   "output_path": "__notebook__.ipynb",
   "parameters": {},
   "start_time": "2022-04-03T16:27:10.445820",
   "version": "2.3.3"
  }
 },
 "nbformat": 4,
 "nbformat_minor": 5
}
