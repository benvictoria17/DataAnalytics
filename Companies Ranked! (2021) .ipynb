{
 "cells": [
  {
   "cell_type": "code",
   "execution_count": null,
   "id": "d7a5bed2",
   "metadata": {
    "_cell_guid": "b1076dfc-b9ad-4769-8c92-a6c4dae69d19",
    "_uuid": "8f2839f25d086af736a60e9eeb907d3b93b6e0e5",
    "execution": {
     "iopub.execute_input": "2022-04-07T01:12:50.105833Z",
     "iopub.status.busy": "2022-04-07T01:12:50.105379Z",
     "iopub.status.idle": "2022-04-07T01:12:52.261335Z",
     "shell.execute_reply": "2022-04-07T01:12:52.260688Z",
     "shell.execute_reply.started": "2022-04-07T01:12:50.105785Z"
    },
    "papermill": {
     "duration": null,
     "end_time": null,
     "exception": null,
     "start_time": null,
     "status": "pending"
    },
    "tags": []
   },
   "outputs": [],
   "source": [
    "import numpy as np\n",
    "import pandas as pd\n",
    "import seaborn as sns\n",
    "import matplotlib.pyplot as plt\n",
    "plt.style.use(\"ggplot\")  \n",
    "\n",
    "%matplotlib inline\n",
    "from mpl_toolkits.mplot3d import Axes3D\n",
    "import datetime as dt\n",
    "import plotly.graph_objects as go\n",
    "import plotly.express as px"
   ]
  },
  {
   "cell_type": "code",
   "execution_count": null,
   "id": "51aa1f3a",
   "metadata": {
    "execution": {
     "iopub.execute_input": "2022-04-07T01:14:01.434461Z",
     "iopub.status.busy": "2022-04-07T01:14:01.433697Z",
     "iopub.status.idle": "2022-04-07T01:14:01.575370Z",
     "shell.execute_reply": "2022-04-07T01:14:01.574694Z",
     "shell.execute_reply.started": "2022-04-07T01:14:01.434414Z"
    },
    "papermill": {
     "duration": null,
     "end_time": null,
     "exception": null,
     "start_time": null,
     "status": "pending"
    },
    "tags": []
   },
   "outputs": [],
   "source": [
    "df = pd.read_csv(\"https://raw.githubusercontent.com/benvictoria17/Finance/master/dataset/846%20Companies%20Ranked!%20(2021)/drucker_inst_company_rankings.csv\", sep=\",\", encoding='cp1252')\n",
    "df.head()"
   ]
  },
  {
   "cell_type": "code",
   "execution_count": null,
   "id": "f05775e5",
   "metadata": {
    "execution": {
     "iopub.execute_input": "2022-04-07T01:17:51.634556Z",
     "iopub.status.busy": "2022-04-07T01:17:51.634100Z",
     "iopub.status.idle": "2022-04-07T01:17:51.642173Z",
     "shell.execute_reply": "2022-04-07T01:17:51.641314Z",
     "shell.execute_reply.started": "2022-04-07T01:17:51.634508Z"
    },
    "papermill": {
     "duration": null,
     "end_time": null,
     "exception": null,
     "start_time": null,
     "status": "pending"
    },
    "tags": []
   },
   "outputs": [],
   "source": [
    "df.shape"
   ]
  },
  {
   "cell_type": "code",
   "execution_count": null,
   "id": "cf8e481a",
   "metadata": {
    "execution": {
     "iopub.execute_input": "2022-04-07T01:17:58.017417Z",
     "iopub.status.busy": "2022-04-07T01:17:58.016721Z",
     "iopub.status.idle": "2022-04-07T01:17:58.040607Z",
     "shell.execute_reply": "2022-04-07T01:17:58.039829Z",
     "shell.execute_reply.started": "2022-04-07T01:17:58.017370Z"
    },
    "papermill": {
     "duration": null,
     "end_time": null,
     "exception": null,
     "start_time": null,
     "status": "pending"
    },
    "tags": []
   },
   "outputs": [],
   "source": [
    "df.info()"
   ]
  },
  {
   "cell_type": "code",
   "execution_count": null,
   "id": "d4559143",
   "metadata": {
    "execution": {
     "iopub.execute_input": "2022-04-07T01:18:15.522836Z",
     "iopub.status.busy": "2022-04-07T01:18:15.522302Z",
     "iopub.status.idle": "2022-04-07T01:18:15.531202Z",
     "shell.execute_reply": "2022-04-07T01:18:15.530422Z",
     "shell.execute_reply.started": "2022-04-07T01:18:15.522776Z"
    },
    "papermill": {
     "duration": null,
     "end_time": null,
     "exception": null,
     "start_time": null,
     "status": "pending"
    },
    "tags": []
   },
   "outputs": [],
   "source": [
    "df.isna().sum()"
   ]
  },
  {
   "cell_type": "code",
   "execution_count": null,
   "id": "35fa8157",
   "metadata": {
    "execution": {
     "iopub.execute_input": "2022-04-07T01:18:39.792958Z",
     "iopub.status.busy": "2022-04-07T01:18:39.792689Z",
     "iopub.status.idle": "2022-04-07T01:18:39.831335Z",
     "shell.execute_reply": "2022-04-07T01:18:39.830580Z",
     "shell.execute_reply.started": "2022-04-07T01:18:39.792930Z"
    },
    "papermill": {
     "duration": null,
     "end_time": null,
     "exception": null,
     "start_time": null,
     "status": "pending"
    },
    "tags": []
   },
   "outputs": [],
   "source": [
    "df.describe().round(2)"
   ]
  },
  {
   "cell_type": "code",
   "execution_count": null,
   "id": "2367cb86",
   "metadata": {
    "execution": {
     "iopub.execute_input": "2022-04-07T01:19:19.135577Z",
     "iopub.status.busy": "2022-04-07T01:19:19.135254Z",
     "iopub.status.idle": "2022-04-07T01:19:19.143393Z",
     "shell.execute_reply": "2022-04-07T01:19:19.142414Z",
     "shell.execute_reply.started": "2022-04-07T01:19:19.135542Z"
    },
    "papermill": {
     "duration": null,
     "end_time": null,
     "exception": null,
     "start_time": null,
     "status": "pending"
    },
    "tags": []
   },
   "outputs": [],
   "source": [
    "df.company.duplicated().sum()"
   ]
  },
  {
   "cell_type": "code",
   "execution_count": null,
   "id": "25f81299",
   "metadata": {
    "execution": {
     "iopub.execute_input": "2022-04-07T01:19:29.261967Z",
     "iopub.status.busy": "2022-04-07T01:19:29.261696Z",
     "iopub.status.idle": "2022-04-07T01:19:29.662337Z",
     "shell.execute_reply": "2022-04-07T01:19:29.661421Z",
     "shell.execute_reply.started": "2022-04-07T01:19:29.261939Z"
    },
    "papermill": {
     "duration": null,
     "end_time": null,
     "exception": null,
     "start_time": null,
     "status": "pending"
    },
    "tags": []
   },
   "outputs": [],
   "source": [
    "df.set_index(\"ranking\").plot(figsize=(20,10))"
   ]
  },
  {
   "cell_type": "code",
   "execution_count": null,
   "id": "7545f8cb",
   "metadata": {
    "execution": {
     "iopub.execute_input": "2022-04-07T01:19:43.412870Z",
     "iopub.status.busy": "2022-04-07T01:19:43.412609Z",
     "iopub.status.idle": "2022-04-07T01:19:43.430340Z",
     "shell.execute_reply": "2022-04-07T01:19:43.429213Z",
     "shell.execute_reply.started": "2022-04-07T01:19:43.412842Z"
    },
    "papermill": {
     "duration": null,
     "end_time": null,
     "exception": null,
     "start_time": null,
     "status": "pending"
    },
    "tags": []
   },
   "outputs": [],
   "source": [
    "top5_CS=df.sort_values(by=\"customer_satisfaction\",ascending=False).head(5)\n",
    "top5_CS"
   ]
  },
  {
   "cell_type": "code",
   "execution_count": null,
   "id": "32f56d1f",
   "metadata": {
    "execution": {
     "iopub.execute_input": "2022-04-07T01:20:00.697122Z",
     "iopub.status.busy": "2022-04-07T01:20:00.696862Z",
     "iopub.status.idle": "2022-04-07T01:20:02.178330Z",
     "shell.execute_reply": "2022-04-07T01:20:02.177475Z",
     "shell.execute_reply.started": "2022-04-07T01:20:00.697094Z"
    },
    "papermill": {
     "duration": null,
     "end_time": null,
     "exception": null,
     "start_time": null,
     "status": "pending"
    },
    "tags": []
   },
   "outputs": [],
   "source": [
    "px.sunburst(top5_CS,values=\"ranking\",path=[\"innovation\",\"social_responsibility\",\"financial_strength\",\"employee_engagement_and_development\"],color=\"company\")"
   ]
  },
  {
   "cell_type": "code",
   "execution_count": null,
   "id": "aa7b8a5d",
   "metadata": {
    "execution": {
     "iopub.execute_input": "2022-04-07T01:20:16.951626Z",
     "iopub.status.busy": "2022-04-07T01:20:16.951312Z",
     "iopub.status.idle": "2022-04-07T01:20:16.968790Z",
     "shell.execute_reply": "2022-04-07T01:20:16.967965Z",
     "shell.execute_reply.started": "2022-04-07T01:20:16.951594Z"
    },
    "papermill": {
     "duration": null,
     "end_time": null,
     "exception": null,
     "start_time": null,
     "status": "pending"
    },
    "tags": []
   },
   "outputs": [],
   "source": [
    "less5_CS=df.sort_values(by=\"customer_satisfaction\",ascending=True).head(5)\n",
    "less5_CS"
   ]
  },
  {
   "cell_type": "code",
   "execution_count": null,
   "id": "c34f9197",
   "metadata": {
    "execution": {
     "iopub.execute_input": "2022-04-07T01:20:31.525019Z",
     "iopub.status.busy": "2022-04-07T01:20:31.524742Z",
     "iopub.status.idle": "2022-04-07T01:20:31.657097Z",
     "shell.execute_reply": "2022-04-07T01:20:31.656438Z",
     "shell.execute_reply.started": "2022-04-07T01:20:31.524991Z"
    },
    "papermill": {
     "duration": null,
     "end_time": null,
     "exception": null,
     "start_time": null,
     "status": "pending"
    },
    "tags": []
   },
   "outputs": [],
   "source": [
    "px.sunburst(less5_CS,values=\"ranking\",path=[\"innovation\",\"social_responsibility\",\"financial_strength\",\"employee_engagement_and_development\"],color=\"company\")"
   ]
  },
  {
   "cell_type": "code",
   "execution_count": null,
   "id": "417b639c",
   "metadata": {
    "execution": {
     "iopub.execute_input": "2022-04-07T01:20:40.733982Z",
     "iopub.status.busy": "2022-04-07T01:20:40.733331Z",
     "iopub.status.idle": "2022-04-07T01:20:40.751281Z",
     "shell.execute_reply": "2022-04-07T01:20:40.750301Z",
     "shell.execute_reply.started": "2022-04-07T01:20:40.733946Z"
    },
    "papermill": {
     "duration": null,
     "end_time": null,
     "exception": null,
     "start_time": null,
     "status": "pending"
    },
    "tags": []
   },
   "outputs": [],
   "source": [
    "top5_EG=df.sort_values(by=\"employee_engagement_and_development\",ascending=False).head(5)\n",
    "top5_EG"
   ]
  },
  {
   "cell_type": "code",
   "execution_count": null,
   "id": "b3c8656b",
   "metadata": {
    "execution": {
     "iopub.execute_input": "2022-04-07T01:21:19.539686Z",
     "iopub.status.busy": "2022-04-07T01:21:19.539129Z",
     "iopub.status.idle": "2022-04-07T01:21:19.666866Z",
     "shell.execute_reply": "2022-04-07T01:21:19.666302Z",
     "shell.execute_reply.started": "2022-04-07T01:21:19.539628Z"
    },
    "papermill": {
     "duration": null,
     "end_time": null,
     "exception": null,
     "start_time": null,
     "status": "pending"
    },
    "tags": []
   },
   "outputs": [],
   "source": [
    "px.sunburst(top5_EG,values=\"ranking\",path=[\"innovation\",\"social_responsibility\",\"financial_strength\",\"employee_engagement_and_development\"],color=\"company\")"
   ]
  },
  {
   "cell_type": "code",
   "execution_count": null,
   "id": "ac184f84",
   "metadata": {
    "execution": {
     "iopub.execute_input": "2022-04-07T01:21:29.065550Z",
     "iopub.status.busy": "2022-04-07T01:21:29.064691Z",
     "iopub.status.idle": "2022-04-07T01:21:29.082729Z",
     "shell.execute_reply": "2022-04-07T01:21:29.081864Z",
     "shell.execute_reply.started": "2022-04-07T01:21:29.065510Z"
    },
    "papermill": {
     "duration": null,
     "end_time": null,
     "exception": null,
     "start_time": null,
     "status": "pending"
    },
    "tags": []
   },
   "outputs": [],
   "source": [
    "less5_EG=df.sort_values(by=\"employee_engagement_and_development\",ascending=True).head(5)\n",
    "less5_EG"
   ]
  },
  {
   "cell_type": "code",
   "execution_count": null,
   "id": "f19b431c",
   "metadata": {
    "execution": {
     "iopub.execute_input": "2022-04-07T01:21:40.761122Z",
     "iopub.status.busy": "2022-04-07T01:21:40.760589Z",
     "iopub.status.idle": "2022-04-07T01:21:40.892077Z",
     "shell.execute_reply": "2022-04-07T01:21:40.891197Z",
     "shell.execute_reply.started": "2022-04-07T01:21:40.761072Z"
    },
    "papermill": {
     "duration": null,
     "end_time": null,
     "exception": null,
     "start_time": null,
     "status": "pending"
    },
    "tags": []
   },
   "outputs": [],
   "source": [
    "px.sunburst(less5_EG,values=\"ranking\",path=[\"innovation\",\"social_responsibility\",\"financial_strength\",\"employee_engagement_and_development\"],color=\"company\")"
   ]
  },
  {
   "cell_type": "code",
   "execution_count": null,
   "id": "646f153e",
   "metadata": {
    "execution": {
     "iopub.execute_input": "2022-04-07T01:21:48.555175Z",
     "iopub.status.busy": "2022-04-07T01:21:48.554864Z",
     "iopub.status.idle": "2022-04-07T01:21:48.575764Z",
     "shell.execute_reply": "2022-04-07T01:21:48.574839Z",
     "shell.execute_reply.started": "2022-04-07T01:21:48.555141Z"
    },
    "papermill": {
     "duration": null,
     "end_time": null,
     "exception": null,
     "start_time": null,
     "status": "pending"
    },
    "tags": []
   },
   "outputs": [],
   "source": [
    "top5_in=df.sort_values(by=\"innovation\",ascending=False).head(5)\n",
    "top5_in"
   ]
  },
  {
   "cell_type": "code",
   "execution_count": null,
   "id": "921929f6",
   "metadata": {
    "execution": {
     "iopub.execute_input": "2022-04-07T01:22:00.000188Z",
     "iopub.status.busy": "2022-04-07T01:21:59.999902Z",
     "iopub.status.idle": "2022-04-07T01:22:00.134801Z",
     "shell.execute_reply": "2022-04-07T01:22:00.133837Z",
     "shell.execute_reply.started": "2022-04-07T01:22:00.000153Z"
    },
    "papermill": {
     "duration": null,
     "end_time": null,
     "exception": null,
     "start_time": null,
     "status": "pending"
    },
    "tags": []
   },
   "outputs": [],
   "source": [
    "px.sunburst(top5_in,values=\"ranking\",path=[\"innovation\",\"social_responsibility\",\"financial_strength\",\"employee_engagement_and_development\"],color=\"company\")"
   ]
  },
  {
   "cell_type": "code",
   "execution_count": null,
   "id": "3f290377",
   "metadata": {
    "execution": {
     "iopub.execute_input": "2022-04-07T01:22:15.409639Z",
     "iopub.status.busy": "2022-04-07T01:22:15.409299Z",
     "iopub.status.idle": "2022-04-07T01:22:15.426867Z",
     "shell.execute_reply": "2022-04-07T01:22:15.425992Z",
     "shell.execute_reply.started": "2022-04-07T01:22:15.409604Z"
    },
    "papermill": {
     "duration": null,
     "end_time": null,
     "exception": null,
     "start_time": null,
     "status": "pending"
    },
    "tags": []
   },
   "outputs": [],
   "source": [
    "less5_in=df.sort_values(by=\"innovation\",ascending=True).head(5)\n",
    "less5_in"
   ]
  },
  {
   "cell_type": "code",
   "execution_count": null,
   "id": "43e87ae8",
   "metadata": {
    "execution": {
     "iopub.execute_input": "2022-04-07T01:22:28.536188Z",
     "iopub.status.busy": "2022-04-07T01:22:28.535892Z",
     "iopub.status.idle": "2022-04-07T01:22:28.670064Z",
     "shell.execute_reply": "2022-04-07T01:22:28.669199Z",
     "shell.execute_reply.started": "2022-04-07T01:22:28.536152Z"
    },
    "papermill": {
     "duration": null,
     "end_time": null,
     "exception": null,
     "start_time": null,
     "status": "pending"
    },
    "tags": []
   },
   "outputs": [],
   "source": [
    "px.sunburst(less5_in,values=\"ranking\",path=[\"innovation\",\"social_responsibility\",\"financial_strength\",\"employee_engagement_and_development\"],color=\"company\")"
   ]
  },
  {
   "cell_type": "code",
   "execution_count": null,
   "id": "851d51a7",
   "metadata": {
    "execution": {
     "iopub.execute_input": "2022-04-07T01:22:37.289160Z",
     "iopub.status.busy": "2022-04-07T01:22:37.288861Z",
     "iopub.status.idle": "2022-04-07T01:22:37.306673Z",
     "shell.execute_reply": "2022-04-07T01:22:37.305828Z",
     "shell.execute_reply.started": "2022-04-07T01:22:37.289129Z"
    },
    "papermill": {
     "duration": null,
     "end_time": null,
     "exception": null,
     "start_time": null,
     "status": "pending"
    },
    "tags": []
   },
   "outputs": [],
   "source": [
    "top5_sr=df.sort_values(by=\"social_responsibility\",ascending=False).head(5)\n",
    "top5_sr"
   ]
  },
  {
   "cell_type": "code",
   "execution_count": null,
   "id": "8ed4ace7",
   "metadata": {
    "execution": {
     "iopub.execute_input": "2022-04-07T01:22:47.193010Z",
     "iopub.status.busy": "2022-04-07T01:22:47.190608Z",
     "iopub.status.idle": "2022-04-07T01:22:47.361014Z",
     "shell.execute_reply": "2022-04-07T01:22:47.359969Z",
     "shell.execute_reply.started": "2022-04-07T01:22:47.192937Z"
    },
    "papermill": {
     "duration": null,
     "end_time": null,
     "exception": null,
     "start_time": null,
     "status": "pending"
    },
    "tags": []
   },
   "outputs": [],
   "source": [
    "px.sunburst(top5_sr,values=\"ranking\",path=[\"innovation\",\"social_responsibility\",\"financial_strength\",\"employee_engagement_and_development\"],color=\"company\")"
   ]
  },
  {
   "cell_type": "code",
   "execution_count": null,
   "id": "8548313a",
   "metadata": {
    "execution": {
     "iopub.execute_input": "2022-04-07T01:22:57.487668Z",
     "iopub.status.busy": "2022-04-07T01:22:57.487388Z",
     "iopub.status.idle": "2022-04-07T01:22:57.507394Z",
     "shell.execute_reply": "2022-04-07T01:22:57.505776Z",
     "shell.execute_reply.started": "2022-04-07T01:22:57.487632Z"
    },
    "papermill": {
     "duration": null,
     "end_time": null,
     "exception": null,
     "start_time": null,
     "status": "pending"
    },
    "tags": []
   },
   "outputs": [],
   "source": [
    "less5_sr=df.sort_values(by=\"social_responsibility\",ascending=True).head(5)\n",
    "less5_sr"
   ]
  },
  {
   "cell_type": "code",
   "execution_count": null,
   "id": "a065eb52",
   "metadata": {
    "execution": {
     "iopub.execute_input": "2022-04-07T01:23:08.816975Z",
     "iopub.status.busy": "2022-04-07T01:23:08.816500Z",
     "iopub.status.idle": "2022-04-07T01:23:08.952623Z",
     "shell.execute_reply": "2022-04-07T01:23:08.951800Z",
     "shell.execute_reply.started": "2022-04-07T01:23:08.816926Z"
    },
    "papermill": {
     "duration": null,
     "end_time": null,
     "exception": null,
     "start_time": null,
     "status": "pending"
    },
    "tags": []
   },
   "outputs": [],
   "source": [
    "px.sunburst(less5_sr,values=\"ranking\",path=[\"innovation\",\"social_responsibility\",\"financial_strength\",\"employee_engagement_and_development\"],color=\"company\")"
   ]
  },
  {
   "cell_type": "code",
   "execution_count": null,
   "id": "71c809f3",
   "metadata": {
    "execution": {
     "iopub.execute_input": "2022-04-07T01:23:17.643097Z",
     "iopub.status.busy": "2022-04-07T01:23:17.642826Z",
     "iopub.status.idle": "2022-04-07T01:23:17.661250Z",
     "shell.execute_reply": "2022-04-07T01:23:17.660420Z",
     "shell.execute_reply.started": "2022-04-07T01:23:17.643068Z"
    },
    "papermill": {
     "duration": null,
     "end_time": null,
     "exception": null,
     "start_time": null,
     "status": "pending"
    },
    "tags": []
   },
   "outputs": [],
   "source": [
    "top5_financial=df.sort_values(by=\"financial_strength\",ascending=False).head(5)\n",
    "top5_financial"
   ]
  },
  {
   "cell_type": "code",
   "execution_count": null,
   "id": "d3803c8d",
   "metadata": {
    "execution": {
     "iopub.execute_input": "2022-04-07T01:23:57.581394Z",
     "iopub.status.busy": "2022-04-07T01:23:57.581074Z",
     "iopub.status.idle": "2022-04-07T01:23:57.600039Z",
     "shell.execute_reply": "2022-04-07T01:23:57.599258Z",
     "shell.execute_reply.started": "2022-04-07T01:23:57.581358Z"
    },
    "papermill": {
     "duration": null,
     "end_time": null,
     "exception": null,
     "start_time": null,
     "status": "pending"
    },
    "tags": []
   },
   "outputs": [],
   "source": [
    "less5_financial=df.sort_values(by=\"financial_strength\",ascending=True).head(5)\n",
    "less5_financial"
   ]
  },
  {
   "cell_type": "code",
   "execution_count": null,
   "id": "8eabb0c3",
   "metadata": {
    "execution": {
     "iopub.execute_input": "2022-04-07T01:24:06.433639Z",
     "iopub.status.busy": "2022-04-07T01:24:06.433122Z",
     "iopub.status.idle": "2022-04-07T01:24:06.451485Z",
     "shell.execute_reply": "2022-04-07T01:24:06.450433Z",
     "shell.execute_reply.started": "2022-04-07T01:24:06.433601Z"
    },
    "papermill": {
     "duration": null,
     "end_time": null,
     "exception": null,
     "start_time": null,
     "status": "pending"
    },
    "tags": []
   },
   "outputs": [],
   "source": [
    "top5_eff=df.sort_values(by=\"effectiveness\",ascending=False).head(5)\n",
    "top5_eff"
   ]
  },
  {
   "cell_type": "code",
   "execution_count": null,
   "id": "5e5c9444",
   "metadata": {
    "execution": {
     "iopub.execute_input": "2022-04-07T01:24:16.586158Z",
     "iopub.status.busy": "2022-04-07T01:24:16.585650Z",
     "iopub.status.idle": "2022-04-07T01:24:16.605028Z",
     "shell.execute_reply": "2022-04-07T01:24:16.604422Z",
     "shell.execute_reply.started": "2022-04-07T01:24:16.586126Z"
    },
    "papermill": {
     "duration": null,
     "end_time": null,
     "exception": null,
     "start_time": null,
     "status": "pending"
    },
    "tags": []
   },
   "outputs": [],
   "source": [
    "less5_eff=df.sort_values(by=\"effectiveness\",ascending=True).head(5)\n",
    "less5_eff"
   ]
  },
  {
   "cell_type": "code",
   "execution_count": null,
   "id": "01acaedd",
   "metadata": {
    "execution": {
     "iopub.execute_input": "2022-04-07T01:24:32.551632Z",
     "iopub.status.busy": "2022-04-07T01:24:32.551016Z",
     "iopub.status.idle": "2022-04-07T01:24:32.570125Z",
     "shell.execute_reply": "2022-04-07T01:24:32.569510Z",
     "shell.execute_reply.started": "2022-04-07T01:24:32.551580Z"
    },
    "papermill": {
     "duration": null,
     "end_time": null,
     "exception": null,
     "start_time": null,
     "status": "pending"
    },
    "tags": []
   },
   "outputs": [],
   "source": [
    "ranking_b=df.sort_values(by=\"ranking\",ascending=True).head(5)\n",
    "ranking_b"
   ]
  },
  {
   "cell_type": "code",
   "execution_count": null,
   "id": "3af1ad92",
   "metadata": {
    "execution": {
     "iopub.execute_input": "2022-04-07T01:24:39.866619Z",
     "iopub.status.busy": "2022-04-07T01:24:39.866194Z",
     "iopub.status.idle": "2022-04-07T01:24:40.225502Z",
     "shell.execute_reply": "2022-04-07T01:24:40.224455Z",
     "shell.execute_reply.started": "2022-04-07T01:24:39.866588Z"
    },
    "papermill": {
     "duration": null,
     "end_time": null,
     "exception": null,
     "start_time": null,
     "status": "pending"
    },
    "tags": []
   },
   "outputs": [],
   "source": [
    "ranking_b.plot(kind=\"bar\", figsize=(15,10))"
   ]
  },
  {
   "cell_type": "code",
   "execution_count": null,
   "id": "cd53a11a",
   "metadata": {
    "execution": {
     "iopub.execute_input": "2022-04-07T01:24:49.678041Z",
     "iopub.status.busy": "2022-04-07T01:24:49.677713Z",
     "iopub.status.idle": "2022-04-07T01:24:49.695324Z",
     "shell.execute_reply": "2022-04-07T01:24:49.694717Z",
     "shell.execute_reply.started": "2022-04-07T01:24:49.678003Z"
    },
    "papermill": {
     "duration": null,
     "end_time": null,
     "exception": null,
     "start_time": null,
     "status": "pending"
    },
    "tags": []
   },
   "outputs": [],
   "source": [
    "ranking_less=df.sort_values(by=\"ranking\",ascending=False).head(5)\n",
    "ranking_less"
   ]
  },
  {
   "cell_type": "code",
   "execution_count": null,
   "id": "ce41fa72",
   "metadata": {
    "execution": {
     "iopub.execute_input": "2022-04-07T01:24:56.256774Z",
     "iopub.status.busy": "2022-04-07T01:24:56.255991Z",
     "iopub.status.idle": "2022-04-07T01:24:56.660164Z",
     "shell.execute_reply": "2022-04-07T01:24:56.659197Z",
     "shell.execute_reply.started": "2022-04-07T01:24:56.256737Z"
    },
    "papermill": {
     "duration": null,
     "end_time": null,
     "exception": null,
     "start_time": null,
     "status": "pending"
    },
    "tags": []
   },
   "outputs": [],
   "source": [
    "ranking_less.plot(kind=\"bar\", figsize=(15,10))"
   ]
  }
 ],
 "metadata": {
  "kernelspec": {
   "display_name": "Python 3",
   "language": "python",
   "name": "python3"
  },
  "language_info": {
   "codemirror_mode": {
    "name": "ipython",
    "version": 3
   },
   "file_extension": ".py",
   "mimetype": "text/x-python",
   "name": "python",
   "nbconvert_exporter": "python",
   "pygments_lexer": "ipython3",
   "version": "3.6.4"
  },
  "papermill": {
   "default_parameters": {},
   "duration": null,
   "end_time": null,
   "environment_variables": {},
   "exception": null,
   "input_path": "__notebook__.ipynb",
   "output_path": "__notebook__.ipynb",
   "parameters": {},
   "start_time": "2022-04-07T01:25:33.639753",
   "version": "2.3.3"
  }
 },
 "nbformat": 4,
 "nbformat_minor": 5
}