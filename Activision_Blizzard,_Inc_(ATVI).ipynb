{
  "nbformat": 4,
  "nbformat_minor": 0,
  "metadata": {
    "colab": {
      "name": "Activision Blizzard, Inc. (ATVI).ipynb",
      "provenance": [],
      "authorship_tag": "ABX9TyN7oi0NUgIGVb/S5uKhoFDp",
      "include_colab_link": true
    },
    "kernelspec": {
      "name": "python3",
      "display_name": "Python 3"
    }
  },
  "cells": [
    {
      "cell_type": "markdown",
      "metadata": {
        "id": "view-in-github",
        "colab_type": "text"
      },
      "source": [
        "<a href=\"https://colab.research.google.com/github/benvictoria21/AnalyzeStocks/blob/master/Activision_Blizzard%2C_Inc_(ATVI).ipynb\" target=\"_parent\"><img src=\"https://colab.research.google.com/assets/colab-badge.svg\" alt=\"Open In Colab\"/></a>"
      ]
    },
    {
      "cell_type": "code",
      "metadata": {
        "colab": {
          "base_uri": "https://localhost:8080/"
        },
        "id": "OPn_wNx4dPvH",
        "outputId": "d1c897ad-2bb8-4626-fa8a-ee2855b9d4ab"
      },
      "source": [
        "!sudo pip install  yfinance"
      ],
      "execution_count": 17,
      "outputs": [
        {
          "output_type": "stream",
          "text": [
            "Requirement already satisfied: yfinance in /usr/local/lib/python3.6/dist-packages (0.1.55)\n",
            "Requirement already satisfied: numpy>=1.15 in /usr/local/lib/python3.6/dist-packages (from yfinance) (1.18.5)\n",
            "Requirement already satisfied: pandas>=0.24 in /usr/local/lib/python3.6/dist-packages (from yfinance) (1.1.4)\n",
            "Requirement already satisfied: requests>=2.20 in /usr/local/lib/python3.6/dist-packages (from yfinance) (2.23.0)\n",
            "Requirement already satisfied: lxml>=4.5.1 in /usr/local/lib/python3.6/dist-packages (from yfinance) (4.6.1)\n",
            "Requirement already satisfied: multitasking>=0.0.7 in /usr/local/lib/python3.6/dist-packages (from yfinance) (0.0.9)\n",
            "Requirement already satisfied: python-dateutil>=2.7.3 in /usr/local/lib/python3.6/dist-packages (from pandas>=0.24->yfinance) (2.8.1)\n",
            "Requirement already satisfied: pytz>=2017.2 in /usr/local/lib/python3.6/dist-packages (from pandas>=0.24->yfinance) (2018.9)\n",
            "Requirement already satisfied: chardet<4,>=3.0.2 in /usr/local/lib/python3.6/dist-packages (from requests>=2.20->yfinance) (3.0.4)\n",
            "Requirement already satisfied: certifi>=2017.4.17 in /usr/local/lib/python3.6/dist-packages (from requests>=2.20->yfinance) (2020.11.8)\n",
            "Requirement already satisfied: urllib3!=1.25.0,!=1.25.1,<1.26,>=1.21.1 in /usr/local/lib/python3.6/dist-packages (from requests>=2.20->yfinance) (1.24.3)\n",
            "Requirement already satisfied: idna<3,>=2.5 in /usr/local/lib/python3.6/dist-packages (from requests>=2.20->yfinance) (2.10)\n",
            "Requirement already satisfied: six>=1.5 in /usr/local/lib/python3.6/dist-packages (from python-dateutil>=2.7.3->pandas>=0.24->yfinance) (1.15.0)\n"
          ],
          "name": "stdout"
        }
      ]
    },
    {
      "cell_type": "code",
      "metadata": {
        "id": "k8yoJL99cuXk"
      },
      "source": [
        "import numpy as np \n",
        "import pandas as pd \n",
        "import matplotlib.pyplot as plt\n",
        "import yfinance"
      ],
      "execution_count": 18,
      "outputs": []
    },
    {
      "cell_type": "code",
      "metadata": {
        "colab": {
          "base_uri": "https://localhost:8080/",
          "height": 467
        },
        "id": "Zt4xpw9jdTZt",
        "outputId": "08f39024-157b-4cc0-d22e-8ebd066c7de5"
      },
      "source": [
        "ATVI = yfinance.download(\"ATVI\")\n",
        "\n",
        "ATVI"
      ],
      "execution_count": 4,
      "outputs": [
        {
          "output_type": "stream",
          "text": [
            "\r[*********************100%***********************]  1 of 1 completed\n"
          ],
          "name": "stdout"
        },
        {
          "output_type": "execute_result",
          "data": {
            "text/html": [
              "<div>\n",
              "<style scoped>\n",
              "    .dataframe tbody tr th:only-of-type {\n",
              "        vertical-align: middle;\n",
              "    }\n",
              "\n",
              "    .dataframe tbody tr th {\n",
              "        vertical-align: top;\n",
              "    }\n",
              "\n",
              "    .dataframe thead th {\n",
              "        text-align: right;\n",
              "    }\n",
              "</style>\n",
              "<table border=\"1\" class=\"dataframe\">\n",
              "  <thead>\n",
              "    <tr style=\"text-align: right;\">\n",
              "      <th></th>\n",
              "      <th>Open</th>\n",
              "      <th>High</th>\n",
              "      <th>Low</th>\n",
              "      <th>Close</th>\n",
              "      <th>Adj Close</th>\n",
              "      <th>Volume</th>\n",
              "    </tr>\n",
              "    <tr>\n",
              "      <th>Date</th>\n",
              "      <th></th>\n",
              "      <th></th>\n",
              "      <th></th>\n",
              "      <th></th>\n",
              "      <th></th>\n",
              "      <th></th>\n",
              "    </tr>\n",
              "  </thead>\n",
              "  <tbody>\n",
              "    <tr>\n",
              "      <th>1993-10-25</th>\n",
              "      <td>1.250000</td>\n",
              "      <td>1.250000</td>\n",
              "      <td>0.937500</td>\n",
              "      <td>0.937500</td>\n",
              "      <td>0.840151</td>\n",
              "      <td>17200</td>\n",
              "    </tr>\n",
              "    <tr>\n",
              "      <th>1993-10-26</th>\n",
              "      <td>1.229167</td>\n",
              "      <td>1.229167</td>\n",
              "      <td>0.854167</td>\n",
              "      <td>0.864583</td>\n",
              "      <td>0.774806</td>\n",
              "      <td>189000</td>\n",
              "    </tr>\n",
              "    <tr>\n",
              "      <th>1993-10-27</th>\n",
              "      <td>0.864583</td>\n",
              "      <td>0.864583</td>\n",
              "      <td>0.864583</td>\n",
              "      <td>0.864583</td>\n",
              "      <td>0.774806</td>\n",
              "      <td>0</td>\n",
              "    </tr>\n",
              "    <tr>\n",
              "      <th>1993-10-28</th>\n",
              "      <td>0.708333</td>\n",
              "      <td>0.833333</td>\n",
              "      <td>0.583333</td>\n",
              "      <td>0.822917</td>\n",
              "      <td>0.737466</td>\n",
              "      <td>29000</td>\n",
              "    </tr>\n",
              "    <tr>\n",
              "      <th>1993-10-29</th>\n",
              "      <td>0.875000</td>\n",
              "      <td>0.875000</td>\n",
              "      <td>0.833333</td>\n",
              "      <td>0.833333</td>\n",
              "      <td>0.746801</td>\n",
              "      <td>172800</td>\n",
              "    </tr>\n",
              "    <tr>\n",
              "      <th>...</th>\n",
              "      <td>...</td>\n",
              "      <td>...</td>\n",
              "      <td>...</td>\n",
              "      <td>...</td>\n",
              "      <td>...</td>\n",
              "      <td>...</td>\n",
              "    </tr>\n",
              "    <tr>\n",
              "      <th>2020-11-19</th>\n",
              "      <td>73.959999</td>\n",
              "      <td>76.699997</td>\n",
              "      <td>73.739998</td>\n",
              "      <td>75.930000</td>\n",
              "      <td>75.930000</td>\n",
              "      <td>8750700</td>\n",
              "    </tr>\n",
              "    <tr>\n",
              "      <th>2020-11-20</th>\n",
              "      <td>75.699997</td>\n",
              "      <td>77.709999</td>\n",
              "      <td>75.500000</td>\n",
              "      <td>76.809998</td>\n",
              "      <td>76.809998</td>\n",
              "      <td>6730400</td>\n",
              "    </tr>\n",
              "    <tr>\n",
              "      <th>2020-11-23</th>\n",
              "      <td>76.919998</td>\n",
              "      <td>77.339996</td>\n",
              "      <td>75.110001</td>\n",
              "      <td>75.919998</td>\n",
              "      <td>75.919998</td>\n",
              "      <td>6952000</td>\n",
              "    </tr>\n",
              "    <tr>\n",
              "      <th>2020-11-24</th>\n",
              "      <td>75.930000</td>\n",
              "      <td>76.050003</td>\n",
              "      <td>74.910004</td>\n",
              "      <td>75.230003</td>\n",
              "      <td>75.230003</td>\n",
              "      <td>7252300</td>\n",
              "    </tr>\n",
              "    <tr>\n",
              "      <th>2020-11-25</th>\n",
              "      <td>75.930000</td>\n",
              "      <td>77.139999</td>\n",
              "      <td>75.650002</td>\n",
              "      <td>76.510002</td>\n",
              "      <td>76.510002</td>\n",
              "      <td>4822900</td>\n",
              "    </tr>\n",
              "  </tbody>\n",
              "</table>\n",
              "<p>6823 rows × 6 columns</p>\n",
              "</div>"
            ],
            "text/plain": [
              "                 Open       High        Low      Close  Adj Close   Volume\n",
              "Date                                                                      \n",
              "1993-10-25   1.250000   1.250000   0.937500   0.937500   0.840151    17200\n",
              "1993-10-26   1.229167   1.229167   0.854167   0.864583   0.774806   189000\n",
              "1993-10-27   0.864583   0.864583   0.864583   0.864583   0.774806        0\n",
              "1993-10-28   0.708333   0.833333   0.583333   0.822917   0.737466    29000\n",
              "1993-10-29   0.875000   0.875000   0.833333   0.833333   0.746801   172800\n",
              "...               ...        ...        ...        ...        ...      ...\n",
              "2020-11-19  73.959999  76.699997  73.739998  75.930000  75.930000  8750700\n",
              "2020-11-20  75.699997  77.709999  75.500000  76.809998  76.809998  6730400\n",
              "2020-11-23  76.919998  77.339996  75.110001  75.919998  75.919998  6952000\n",
              "2020-11-24  75.930000  76.050003  74.910004  75.230003  75.230003  7252300\n",
              "2020-11-25  75.930000  77.139999  75.650002  76.510002  76.510002  4822900\n",
              "\n",
              "[6823 rows x 6 columns]"
            ]
          },
          "metadata": {
            "tags": []
          },
          "execution_count": 4
        }
      ]
    },
    {
      "cell_type": "code",
      "metadata": {
        "colab": {
          "base_uri": "https://localhost:8080/",
          "height": 235
        },
        "id": "ENQnVAzVdlt5",
        "outputId": "b89e16e6-5a4b-4bc6-9619-d0db28f5a70d"
      },
      "source": [
        "ATVI.head()"
      ],
      "execution_count": 5,
      "outputs": [
        {
          "output_type": "execute_result",
          "data": {
            "text/html": [
              "<div>\n",
              "<style scoped>\n",
              "    .dataframe tbody tr th:only-of-type {\n",
              "        vertical-align: middle;\n",
              "    }\n",
              "\n",
              "    .dataframe tbody tr th {\n",
              "        vertical-align: top;\n",
              "    }\n",
              "\n",
              "    .dataframe thead th {\n",
              "        text-align: right;\n",
              "    }\n",
              "</style>\n",
              "<table border=\"1\" class=\"dataframe\">\n",
              "  <thead>\n",
              "    <tr style=\"text-align: right;\">\n",
              "      <th></th>\n",
              "      <th>Open</th>\n",
              "      <th>High</th>\n",
              "      <th>Low</th>\n",
              "      <th>Close</th>\n",
              "      <th>Adj Close</th>\n",
              "      <th>Volume</th>\n",
              "    </tr>\n",
              "    <tr>\n",
              "      <th>Date</th>\n",
              "      <th></th>\n",
              "      <th></th>\n",
              "      <th></th>\n",
              "      <th></th>\n",
              "      <th></th>\n",
              "      <th></th>\n",
              "    </tr>\n",
              "  </thead>\n",
              "  <tbody>\n",
              "    <tr>\n",
              "      <th>1993-10-25</th>\n",
              "      <td>1.250000</td>\n",
              "      <td>1.250000</td>\n",
              "      <td>0.937500</td>\n",
              "      <td>0.937500</td>\n",
              "      <td>0.840151</td>\n",
              "      <td>17200</td>\n",
              "    </tr>\n",
              "    <tr>\n",
              "      <th>1993-10-26</th>\n",
              "      <td>1.229167</td>\n",
              "      <td>1.229167</td>\n",
              "      <td>0.854167</td>\n",
              "      <td>0.864583</td>\n",
              "      <td>0.774806</td>\n",
              "      <td>189000</td>\n",
              "    </tr>\n",
              "    <tr>\n",
              "      <th>1993-10-27</th>\n",
              "      <td>0.864583</td>\n",
              "      <td>0.864583</td>\n",
              "      <td>0.864583</td>\n",
              "      <td>0.864583</td>\n",
              "      <td>0.774806</td>\n",
              "      <td>0</td>\n",
              "    </tr>\n",
              "    <tr>\n",
              "      <th>1993-10-28</th>\n",
              "      <td>0.708333</td>\n",
              "      <td>0.833333</td>\n",
              "      <td>0.583333</td>\n",
              "      <td>0.822917</td>\n",
              "      <td>0.737466</td>\n",
              "      <td>29000</td>\n",
              "    </tr>\n",
              "    <tr>\n",
              "      <th>1993-10-29</th>\n",
              "      <td>0.875000</td>\n",
              "      <td>0.875000</td>\n",
              "      <td>0.833333</td>\n",
              "      <td>0.833333</td>\n",
              "      <td>0.746801</td>\n",
              "      <td>172800</td>\n",
              "    </tr>\n",
              "  </tbody>\n",
              "</table>\n",
              "</div>"
            ],
            "text/plain": [
              "                Open      High       Low     Close  Adj Close  Volume\n",
              "Date                                                                 \n",
              "1993-10-25  1.250000  1.250000  0.937500  0.937500   0.840151   17200\n",
              "1993-10-26  1.229167  1.229167  0.854167  0.864583   0.774806  189000\n",
              "1993-10-27  0.864583  0.864583  0.864583  0.864583   0.774806       0\n",
              "1993-10-28  0.708333  0.833333  0.583333  0.822917   0.737466   29000\n",
              "1993-10-29  0.875000  0.875000  0.833333  0.833333   0.746801  172800"
            ]
          },
          "metadata": {
            "tags": []
          },
          "execution_count": 5
        }
      ]
    },
    {
      "cell_type": "code",
      "metadata": {
        "colab": {
          "base_uri": "https://localhost:8080/"
        },
        "id": "tGp4wu1wdlw8",
        "outputId": "1e7fdc10-d916-4026-a646-8b18eac610bb"
      },
      "source": [
        "ATVI.Close"
      ],
      "execution_count": 6,
      "outputs": [
        {
          "output_type": "execute_result",
          "data": {
            "text/plain": [
              "Date\n",
              "1993-10-25     0.937500\n",
              "1993-10-26     0.864583\n",
              "1993-10-27     0.864583\n",
              "1993-10-28     0.822917\n",
              "1993-10-29     0.833333\n",
              "                ...    \n",
              "2020-11-19    75.930000\n",
              "2020-11-20    76.809998\n",
              "2020-11-23    75.919998\n",
              "2020-11-24    75.230003\n",
              "2020-11-25    76.510002\n",
              "Name: Close, Length: 6823, dtype: float64"
            ]
          },
          "metadata": {
            "tags": []
          },
          "execution_count": 6
        }
      ]
    },
    {
      "cell_type": "code",
      "metadata": {
        "colab": {
          "base_uri": "https://localhost:8080/",
          "height": 296
        },
        "id": "JGG54M7rdl0G",
        "outputId": "510c62b5-8644-46f5-a455-75c2939ff992"
      },
      "source": [
        "plt.xlabel(\"days\")         \n",
        "plt.ylabel(\"price\")    \n",
        "plt.grid()              \n",
        "plt.plot(ATVI.Close)"
      ],
      "execution_count": 7,
      "outputs": [
        {
          "output_type": "execute_result",
          "data": {
            "text/plain": [
              "[<matplotlib.lines.Line2D at 0x7fb1f99e66d8>]"
            ]
          },
          "metadata": {
            "tags": []
          },
          "execution_count": 7
        },
        {
          "output_type": "display_data",
          "data": {
            "image/png": "[encoded data removed]",
            "text/plain": [
              "<Figure size 432x288 with 1 Axes>"
            ]
          },
          "metadata": {
            "tags": [],
            "needs_background": "light"
          }
        }
      ]
    },
    {
      "cell_type": "code",
      "metadata": {
        "colab": {
          "base_uri": "https://localhost:8080/"
        },
        "id": "mAi2iuVodl11",
        "outputId": "d6946b0d-7eaf-4d2b-c0d4-7cc833e55d47"
      },
      "source": [
        "ATVI.High"
      ],
      "execution_count": 10,
      "outputs": [
        {
          "output_type": "execute_result",
          "data": {
            "text/plain": [
              "Date\n",
              "1993-10-25     1.250000\n",
              "1993-10-26     1.229167\n",
              "1993-10-27     0.864583\n",
              "1993-10-28     0.833333\n",
              "1993-10-29     0.875000\n",
              "                ...    \n",
              "2020-11-19    76.699997\n",
              "2020-11-20    77.709999\n",
              "2020-11-23    77.339996\n",
              "2020-11-24    76.050003\n",
              "2020-11-25    77.139999\n",
              "Name: High, Length: 6823, dtype: float64"
            ]
          },
          "metadata": {
            "tags": []
          },
          "execution_count": 10
        }
      ]
    },
    {
      "cell_type": "code",
      "metadata": {
        "colab": {
          "base_uri": "https://localhost:8080/",
          "height": 265
        },
        "id": "6lcDQiR0dl7u",
        "outputId": "c43487d0-1386-465d-c3e5-619264518850"
      },
      "source": [
        "plt.plot(ATVI.High)\n",
        "plt.grid()"
      ],
      "execution_count": 14,
      "outputs": [
        {
          "output_type": "display_data",
          "data": {
            "image/png": "[encoded data removed]",
            "text/plain": [
              "<Figure size 432x288 with 1 Axes>"
            ]
          },
          "metadata": {
            "tags": [],
            "needs_background": "light"
          }
        }
      ]
    },
    {
      "cell_type": "code",
      "metadata": {
        "colab": {
          "base_uri": "https://localhost:8080/"
        },
        "id": "t2C6ZCUGdl_E",
        "outputId": "35dcd1d9-012c-4453-b39f-64e00d123b9b"
      },
      "source": [
        "ATVI.Open"
      ],
      "execution_count": 15,
      "outputs": [
        {
          "output_type": "execute_result",
          "data": {
            "text/plain": [
              "Date\n",
              "1993-10-25     1.250000\n",
              "1993-10-26     1.229167\n",
              "1993-10-27     0.864583\n",
              "1993-10-28     0.708333\n",
              "1993-10-29     0.875000\n",
              "                ...    \n",
              "2020-11-19    73.959999\n",
              "2020-11-20    75.699997\n",
              "2020-11-23    76.919998\n",
              "2020-11-24    75.930000\n",
              "2020-11-25    75.930000\n",
              "Name: Open, Length: 6823, dtype: float64"
            ]
          },
          "metadata": {
            "tags": []
          },
          "execution_count": 15
        }
      ]
    },
    {
      "cell_type": "code",
      "metadata": {
        "colab": {
          "base_uri": "https://localhost:8080/",
          "height": 299
        },
        "id": "Itoli-0EdmB2",
        "outputId": "81a21e20-12e1-4b00-fa23-b152d9cb4689"
      },
      "source": [
        "print(len(ATVI.Close))\n",
        "las100_days = ATVI.High[2316:2415]\n",
        "plt.plot(las100_days)"
      ],
      "execution_count": 16,
      "outputs": [
        {
          "output_type": "stream",
          "text": [
            "6823\n"
          ],
          "name": "stdout"
        },
        {
          "output_type": "execute_result",
          "data": {
            "text/plain": [
              "[<matplotlib.lines.Line2D at 0x7fb1f932b748>]"
            ]
          },
          "metadata": {
            "tags": []
          },
          "execution_count": 16
        },
        {
          "output_type": "display_data",
          "data": {
            "image/png": "[encoded data removed]",
            "text/plain": [
              "<Figure size 432x288 with 1 Axes>"
            ]
          },
          "metadata": {
            "tags": [],
            "needs_background": "light"
          }
        }
      ]
    }
  ]
}