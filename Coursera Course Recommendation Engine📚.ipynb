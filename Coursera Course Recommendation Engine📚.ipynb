{
 "cells": [
  {
   "cell_type": "code",
   "execution_count": 1,
   "id": "cce5c176",
   "metadata": {
    "_cell_guid": "b1076dfc-b9ad-4769-8c92-a6c4dae69d19",
    "_uuid": "8f2839f25d086af736a60e9eeb907d3b93b6e0e5",
    "execution": {
     "iopub.execute_input": "2022-01-23T19:02:25.223760Z",
     "iopub.status.busy": "2022-01-23T19:02:25.223052Z",
     "iopub.status.idle": "2022-01-23T19:02:26.406238Z",
     "shell.execute_reply": "2022-01-23T19:02:26.406775Z",
     "shell.execute_reply.started": "2022-01-23T18:50:48.828209Z"
    },
    "papermill": {
     "duration": 1.208312,
     "end_time": "2022-01-23T19:02:26.407076",
     "exception": false,
     "start_time": "2022-01-23T19:02:25.198764",
     "status": "completed"
    },
    "tags": []
   },
   "outputs": [
    {
     "name": "stdout",
     "output_type": "stream",
     "text": [
      "The necessary packages are included successfully!\n"
     ]
    }
   ],
   "source": [
    "import numpy as np\n",
    "import pandas as pd\n",
    "import matplotlib.pyplot as plt\n",
    "import seaborn as sns\n",
    "from wordcloud import WordCloud\n",
    "from sklearn.feature_extraction.text import TfidfVectorizer\n",
    "from sklearn.metrics.pairwise import linear_kernel\n",
    "sns.set_style('darkgrid')\n",
    "plt.style.use('fivethirtyeight')\n",
    "print(\"The necessary packages are included successfully!\")"
   ]
  },
  {
   "cell_type": "code",
   "execution_count": 2,
   "id": "4d3e1bba",
   "metadata": {
    "execution": {
     "iopub.execute_input": "2022-01-23T19:02:26.441810Z",
     "iopub.status.busy": "2022-01-23T19:02:26.441137Z",
     "iopub.status.idle": "2022-01-23T19:02:27.462910Z",
     "shell.execute_reply": "2022-01-23T19:02:27.462348Z",
     "shell.execute_reply.started": "2022-01-23T18:51:31.235026Z"
    },
    "papermill": {
     "duration": 1.040055,
     "end_time": "2022-01-23T19:02:27.463044",
     "exception": false,
     "start_time": "2022-01-23T19:02:26.422989",
     "status": "completed"
    },
    "tags": []
   },
   "outputs": [
    {
     "data": {
      "text/html": [
       "<div>\n",
       "<style scoped>\n",
       "    .dataframe tbody tr th:only-of-type {\n",
       "        vertical-align: middle;\n",
       "    }\n",
       "\n",
       "    .dataframe tbody tr th {\n",
       "        vertical-align: top;\n",
       "    }\n",
       "\n",
       "    .dataframe thead th {\n",
       "        text-align: right;\n",
       "    }\n",
       "</style>\n",
       "<table border=\"1\" class=\"dataframe\">\n",
       "  <thead>\n",
       "    <tr style=\"text-align: right;\">\n",
       "      <th></th>\n",
       "      <th>Course Name</th>\n",
       "      <th>University</th>\n",
       "      <th>Difficulty Level</th>\n",
       "      <th>Course Rating</th>\n",
       "      <th>Course URL</th>\n",
       "      <th>Course Description</th>\n",
       "      <th>Skills</th>\n",
       "    </tr>\n",
       "  </thead>\n",
       "  <tbody>\n",
       "    <tr>\n",
       "      <th>0</th>\n",
       "      <td>Write A Feature Length Screenplay For Film Or ...</td>\n",
       "      <td>Michigan State University</td>\n",
       "      <td>Beginner</td>\n",
       "      <td>4.8</td>\n",
       "      <td>https://www.coursera.org/learn/write-a-feature...</td>\n",
       "      <td>Write a Full Length Feature Film Script  In th...</td>\n",
       "      <td>Drama  Comedy  peering  screenwriting  film  D...</td>\n",
       "    </tr>\n",
       "    <tr>\n",
       "      <th>1</th>\n",
       "      <td>Business Strategy: Business Model Canvas Analy...</td>\n",
       "      <td>Coursera Project Network</td>\n",
       "      <td>Beginner</td>\n",
       "      <td>4.8</td>\n",
       "      <td>https://www.coursera.org/learn/canvas-analysis...</td>\n",
       "      <td>By the end of this guided project, you will be...</td>\n",
       "      <td>Finance  business plan  persona (user experien...</td>\n",
       "    </tr>\n",
       "    <tr>\n",
       "      <th>2</th>\n",
       "      <td>Silicon Thin Film Solar Cells</td>\n",
       "      <td>�cole Polytechnique</td>\n",
       "      <td>Advanced</td>\n",
       "      <td>4.1</td>\n",
       "      <td>https://www.coursera.org/learn/silicon-thin-fi...</td>\n",
       "      <td>This course consists of a general presentation...</td>\n",
       "      <td>chemistry  physics  Solar Energy  film  lambda...</td>\n",
       "    </tr>\n",
       "    <tr>\n",
       "      <th>3</th>\n",
       "      <td>Finance for Managers</td>\n",
       "      <td>IESE Business School</td>\n",
       "      <td>Intermediate</td>\n",
       "      <td>4.8</td>\n",
       "      <td>https://www.coursera.org/learn/operational-fin...</td>\n",
       "      <td>When it comes to numbers, there is always more...</td>\n",
       "      <td>accounts receivable  dupont analysis  analysis...</td>\n",
       "    </tr>\n",
       "    <tr>\n",
       "      <th>4</th>\n",
       "      <td>Retrieve Data using Single-Table SQL Queries</td>\n",
       "      <td>Coursera Project Network</td>\n",
       "      <td>Beginner</td>\n",
       "      <td>4.6</td>\n",
       "      <td>https://www.coursera.org/learn/single-table-sq...</td>\n",
       "      <td>In this course you�ll learn how to effectively...</td>\n",
       "      <td>Data Analysis  select (sql)  database manageme...</td>\n",
       "    </tr>\n",
       "  </tbody>\n",
       "</table>\n",
       "</div>"
      ],
      "text/plain": [
       "                                         Course Name  \\\n",
       "0  Write A Feature Length Screenplay For Film Or ...   \n",
       "1  Business Strategy: Business Model Canvas Analy...   \n",
       "2                      Silicon Thin Film Solar Cells   \n",
       "3                               Finance for Managers   \n",
       "4       Retrieve Data using Single-Table SQL Queries   \n",
       "\n",
       "                  University Difficulty Level Course Rating  \\\n",
       "0  Michigan State University         Beginner           4.8   \n",
       "1   Coursera Project Network         Beginner           4.8   \n",
       "2        �cole Polytechnique         Advanced           4.1   \n",
       "3       IESE Business School     Intermediate           4.8   \n",
       "4   Coursera Project Network         Beginner           4.6   \n",
       "\n",
       "                                          Course URL  \\\n",
       "0  https://www.coursera.org/learn/write-a-feature...   \n",
       "1  https://www.coursera.org/learn/canvas-analysis...   \n",
       "2  https://www.coursera.org/learn/silicon-thin-fi...   \n",
       "3  https://www.coursera.org/learn/operational-fin...   \n",
       "4  https://www.coursera.org/learn/single-table-sq...   \n",
       "\n",
       "                                  Course Description  \\\n",
       "0  Write a Full Length Feature Film Script  In th...   \n",
       "1  By the end of this guided project, you will be...   \n",
       "2  This course consists of a general presentation...   \n",
       "3  When it comes to numbers, there is always more...   \n",
       "4  In this course you�ll learn how to effectively...   \n",
       "\n",
       "                                              Skills  \n",
       "0  Drama  Comedy  peering  screenwriting  film  D...  \n",
       "1  Finance  business plan  persona (user experien...  \n",
       "2  chemistry  physics  Solar Energy  film  lambda...  \n",
       "3  accounts receivable  dupont analysis  analysis...  \n",
       "4  Data Analysis  select (sql)  database manageme...  "
      ]
     },
     "execution_count": 2,
     "metadata": {},
     "output_type": "execute_result"
    }
   ],
   "source": [
    "url = \"https://raw.githubusercontent.com/benvictoria17/DataVisualization/master/dataset/Coursera.csv\"\n",
    "df = pd.read_csv(url)\n",
    "df.head()"
   ]
  },
  {
   "cell_type": "code",
   "execution_count": 3,
   "id": "170718bc",
   "metadata": {
    "execution": {
     "iopub.execute_input": "2022-01-23T19:02:27.512471Z",
     "iopub.status.busy": "2022-01-23T19:02:27.511806Z",
     "iopub.status.idle": "2022-01-23T19:02:27.517554Z",
     "shell.execute_reply": "2022-01-23T19:02:27.516828Z",
     "shell.execute_reply.started": "2022-01-23T18:53:27.482985Z"
    },
    "papermill": {
     "duration": 0.038862,
     "end_time": "2022-01-23T19:02:27.517700",
     "exception": false,
     "start_time": "2022-01-23T19:02:27.478838",
     "status": "completed"
    },
    "tags": []
   },
   "outputs": [
    {
     "data": {
      "text/html": [
       "<div>\n",
       "<style scoped>\n",
       "    .dataframe tbody tr th:only-of-type {\n",
       "        vertical-align: middle;\n",
       "    }\n",
       "\n",
       "    .dataframe tbody tr th {\n",
       "        vertical-align: top;\n",
       "    }\n",
       "\n",
       "    .dataframe thead th {\n",
       "        text-align: right;\n",
       "    }\n",
       "</style>\n",
       "<table border=\"1\" class=\"dataframe\">\n",
       "  <thead>\n",
       "    <tr style=\"text-align: right;\">\n",
       "      <th></th>\n",
       "      <th>Course Name</th>\n",
       "      <th>University</th>\n",
       "      <th>Difficulty Level</th>\n",
       "      <th>Course Rating</th>\n",
       "      <th>Course Description</th>\n",
       "      <th>Skills</th>\n",
       "    </tr>\n",
       "  </thead>\n",
       "  <tbody>\n",
       "    <tr>\n",
       "      <th>0</th>\n",
       "      <td>Write A Feature Length Screenplay For Film Or ...</td>\n",
       "      <td>Michigan State University</td>\n",
       "      <td>Beginner</td>\n",
       "      <td>4.8</td>\n",
       "      <td>Write a Full Length Feature Film Script  In th...</td>\n",
       "      <td>Drama  Comedy  peering  screenwriting  film  D...</td>\n",
       "    </tr>\n",
       "    <tr>\n",
       "      <th>1</th>\n",
       "      <td>Business Strategy: Business Model Canvas Analy...</td>\n",
       "      <td>Coursera Project Network</td>\n",
       "      <td>Beginner</td>\n",
       "      <td>4.8</td>\n",
       "      <td>By the end of this guided project, you will be...</td>\n",
       "      <td>Finance  business plan  persona (user experien...</td>\n",
       "    </tr>\n",
       "    <tr>\n",
       "      <th>2</th>\n",
       "      <td>Silicon Thin Film Solar Cells</td>\n",
       "      <td>�cole Polytechnique</td>\n",
       "      <td>Advanced</td>\n",
       "      <td>4.1</td>\n",
       "      <td>This course consists of a general presentation...</td>\n",
       "      <td>chemistry  physics  Solar Energy  film  lambda...</td>\n",
       "    </tr>\n",
       "    <tr>\n",
       "      <th>3</th>\n",
       "      <td>Finance for Managers</td>\n",
       "      <td>IESE Business School</td>\n",
       "      <td>Intermediate</td>\n",
       "      <td>4.8</td>\n",
       "      <td>When it comes to numbers, there is always more...</td>\n",
       "      <td>accounts receivable  dupont analysis  analysis...</td>\n",
       "    </tr>\n",
       "    <tr>\n",
       "      <th>4</th>\n",
       "      <td>Retrieve Data using Single-Table SQL Queries</td>\n",
       "      <td>Coursera Project Network</td>\n",
       "      <td>Beginner</td>\n",
       "      <td>4.6</td>\n",
       "      <td>In this course you�ll learn how to effectively...</td>\n",
       "      <td>Data Analysis  select (sql)  database manageme...</td>\n",
       "    </tr>\n",
       "  </tbody>\n",
       "</table>\n",
       "</div>"
      ],
      "text/plain": [
       "                                         Course Name  \\\n",
       "0  Write A Feature Length Screenplay For Film Or ...   \n",
       "1  Business Strategy: Business Model Canvas Analy...   \n",
       "2                      Silicon Thin Film Solar Cells   \n",
       "3                               Finance for Managers   \n",
       "4       Retrieve Data using Single-Table SQL Queries   \n",
       "\n",
       "                  University Difficulty Level Course Rating  \\\n",
       "0  Michigan State University         Beginner           4.8   \n",
       "1   Coursera Project Network         Beginner           4.8   \n",
       "2        �cole Polytechnique         Advanced           4.1   \n",
       "3       IESE Business School     Intermediate           4.8   \n",
       "4   Coursera Project Network         Beginner           4.6   \n",
       "\n",
       "                                  Course Description  \\\n",
       "0  Write a Full Length Feature Film Script  In th...   \n",
       "1  By the end of this guided project, you will be...   \n",
       "2  This course consists of a general presentation...   \n",
       "3  When it comes to numbers, there is always more...   \n",
       "4  In this course you�ll learn how to effectively...   \n",
       "\n",
       "                                              Skills  \n",
       "0  Drama  Comedy  peering  screenwriting  film  D...  \n",
       "1  Finance  business plan  persona (user experien...  \n",
       "2  chemistry  physics  Solar Energy  film  lambda...  \n",
       "3  accounts receivable  dupont analysis  analysis...  \n",
       "4  Data Analysis  select (sql)  database manageme...  "
      ]
     },
     "execution_count": 3,
     "metadata": {},
     "output_type": "execute_result"
    }
   ],
   "source": [
    "uc = [\"Course URL\"]\n",
    "df = df.drop(columns=uc)\n",
    "df.head()"
   ]
  },
  {
   "cell_type": "code",
   "execution_count": 4,
   "id": "d05470f2",
   "metadata": {
    "execution": {
     "iopub.execute_input": "2022-01-23T19:02:27.556052Z",
     "iopub.status.busy": "2022-01-23T19:02:27.555353Z",
     "iopub.status.idle": "2022-01-23T19:02:27.559915Z",
     "shell.execute_reply": "2022-01-23T19:02:27.559254Z",
     "shell.execute_reply.started": "2022-01-23T18:55:06.940084Z"
    },
    "papermill": {
     "duration": 0.025574,
     "end_time": "2022-01-23T19:02:27.560059",
     "exception": false,
     "start_time": "2022-01-23T19:02:27.534485",
     "status": "completed"
    },
    "tags": []
   },
   "outputs": [
    {
     "name": "stdout",
     "output_type": "stream",
     "text": [
      "Number of customers =  3522\n",
      "Number of parameters =  6\n"
     ]
    }
   ],
   "source": [
    "r,c = df.shape\n",
    "print(\"Number of customers = \", r)\n",
    "print(\"Number of parameters = \", c)"
   ]
  },
  {
   "cell_type": "code",
   "execution_count": 5,
   "id": "7d0463bf",
   "metadata": {
    "execution": {
     "iopub.execute_input": "2022-01-23T19:02:27.597166Z",
     "iopub.status.busy": "2022-01-23T19:02:27.596434Z",
     "iopub.status.idle": "2022-01-23T19:02:27.615413Z",
     "shell.execute_reply": "2022-01-23T19:02:27.616099Z",
     "shell.execute_reply.started": "2022-01-23T18:55:16.842738Z"
    },
    "papermill": {
     "duration": 0.039334,
     "end_time": "2022-01-23T19:02:27.616276",
     "exception": false,
     "start_time": "2022-01-23T19:02:27.576942",
     "status": "completed"
    },
    "tags": []
   },
   "outputs": [
    {
     "name": "stdout",
     "output_type": "stream",
     "text": [
      "<class 'pandas.core.frame.DataFrame'>\n",
      "RangeIndex: 3522 entries, 0 to 3521\n",
      "Data columns (total 6 columns):\n",
      " #   Column              Non-Null Count  Dtype \n",
      "---  ------              --------------  ----- \n",
      " 0   Course Name         3522 non-null   object\n",
      " 1   University          3522 non-null   object\n",
      " 2   Difficulty Level    3522 non-null   object\n",
      " 3   Course Rating       3522 non-null   object\n",
      " 4   Course Description  3522 non-null   object\n",
      " 5   Skills              3522 non-null   object\n",
      "dtypes: object(6)\n",
      "memory usage: 165.2+ KB\n"
     ]
    }
   ],
   "source": [
    "df.info()"
   ]
  },
  {
   "cell_type": "code",
   "execution_count": 6,
   "id": "196432ba",
   "metadata": {
    "execution": {
     "iopub.execute_input": "2022-01-23T19:02:27.659995Z",
     "iopub.status.busy": "2022-01-23T19:02:27.659302Z",
     "iopub.status.idle": "2022-01-23T19:02:27.662223Z",
     "shell.execute_reply": "2022-01-23T19:02:27.662676Z",
     "shell.execute_reply.started": "2022-01-23T18:55:30.089343Z"
    },
    "papermill": {
     "duration": 0.029115,
     "end_time": "2022-01-23T19:02:27.662862",
     "exception": false,
     "start_time": "2022-01-23T19:02:27.633747",
     "status": "completed"
    },
    "tags": []
   },
   "outputs": [
    {
     "name": "stdout",
     "output_type": "stream",
     "text": [
      "Are there any missing values in the dataset ? False\n"
     ]
    }
   ],
   "source": [
    "print(\"Are there any missing values in the dataset ?\",df.isna().values.any())"
   ]
  },
  {
   "cell_type": "code",
   "execution_count": 7,
   "id": "45834172",
   "metadata": {
    "execution": {
     "iopub.execute_input": "2022-01-23T19:02:27.700828Z",
     "iopub.status.busy": "2022-01-23T19:02:27.700150Z",
     "iopub.status.idle": "2022-01-23T19:02:27.734526Z",
     "shell.execute_reply": "2022-01-23T19:02:27.733899Z",
     "shell.execute_reply.started": "2022-01-23T18:55:50.285990Z"
    },
    "papermill": {
     "duration": 0.054383,
     "end_time": "2022-01-23T19:02:27.734672",
     "exception": false,
     "start_time": "2022-01-23T19:02:27.680289",
     "status": "completed"
    },
    "tags": []
   },
   "outputs": [
    {
     "data": {
      "text/html": [
       "<div>\n",
       "<style scoped>\n",
       "    .dataframe tbody tr th:only-of-type {\n",
       "        vertical-align: middle;\n",
       "    }\n",
       "\n",
       "    .dataframe tbody tr th {\n",
       "        vertical-align: top;\n",
       "    }\n",
       "\n",
       "    .dataframe thead th {\n",
       "        text-align: right;\n",
       "    }\n",
       "</style>\n",
       "<table border=\"1\" class=\"dataframe\">\n",
       "  <thead>\n",
       "    <tr style=\"text-align: right;\">\n",
       "      <th></th>\n",
       "      <th>count</th>\n",
       "      <th>unique</th>\n",
       "      <th>top</th>\n",
       "      <th>freq</th>\n",
       "    </tr>\n",
       "  </thead>\n",
       "  <tbody>\n",
       "    <tr>\n",
       "      <th>Course Name</th>\n",
       "      <td>3522</td>\n",
       "      <td>3416</td>\n",
       "      <td>Google Cloud Platform Fundamentals: Core Infra...</td>\n",
       "      <td>8</td>\n",
       "    </tr>\n",
       "    <tr>\n",
       "      <th>University</th>\n",
       "      <td>3522</td>\n",
       "      <td>184</td>\n",
       "      <td>Coursera Project Network</td>\n",
       "      <td>562</td>\n",
       "    </tr>\n",
       "    <tr>\n",
       "      <th>Difficulty Level</th>\n",
       "      <td>3522</td>\n",
       "      <td>5</td>\n",
       "      <td>Beginner</td>\n",
       "      <td>1444</td>\n",
       "    </tr>\n",
       "    <tr>\n",
       "      <th>Course Rating</th>\n",
       "      <td>3522</td>\n",
       "      <td>31</td>\n",
       "      <td>4.7</td>\n",
       "      <td>740</td>\n",
       "    </tr>\n",
       "    <tr>\n",
       "      <th>Course Description</th>\n",
       "      <td>3522</td>\n",
       "      <td>3397</td>\n",
       "      <td>This course introduces you to important concep...</td>\n",
       "      <td>8</td>\n",
       "    </tr>\n",
       "    <tr>\n",
       "      <th>Skills</th>\n",
       "      <td>3522</td>\n",
       "      <td>3424</td>\n",
       "      <td>Google Cloud Platform  Big Data  Cloud Infrast...</td>\n",
       "      <td>8</td>\n",
       "    </tr>\n",
       "  </tbody>\n",
       "</table>\n",
       "</div>"
      ],
      "text/plain": [
       "                   count unique  \\\n",
       "Course Name         3522   3416   \n",
       "University          3522    184   \n",
       "Difficulty Level    3522      5   \n",
       "Course Rating       3522     31   \n",
       "Course Description  3522   3397   \n",
       "Skills              3522   3424   \n",
       "\n",
       "                                                                  top  freq  \n",
       "Course Name         Google Cloud Platform Fundamentals: Core Infra...     8  \n",
       "University                                   Coursera Project Network   562  \n",
       "Difficulty Level                                             Beginner  1444  \n",
       "Course Rating                                                     4.7   740  \n",
       "Course Description  This course introduces you to important concep...     8  \n",
       "Skills              Google Cloud Platform  Big Data  Cloud Infrast...     8  "
      ]
     },
     "execution_count": 7,
     "metadata": {},
     "output_type": "execute_result"
    }
   ],
   "source": [
    "df.describe().T"
   ]
  },
  {
   "cell_type": "code",
   "execution_count": 8,
   "id": "28eb0709",
   "metadata": {
    "execution": {
     "iopub.execute_input": "2022-01-23T19:02:27.774565Z",
     "iopub.status.busy": "2022-01-23T19:02:27.773943Z",
     "iopub.status.idle": "2022-01-23T19:02:27.780665Z",
     "shell.execute_reply": "2022-01-23T19:02:27.781204Z",
     "shell.execute_reply.started": "2022-01-23T18:58:20.782734Z"
    },
    "papermill": {
     "duration": 0.028245,
     "end_time": "2022-01-23T19:02:27.781364",
     "exception": false,
     "start_time": "2022-01-23T19:02:27.753119",
     "status": "completed"
    },
    "tags": []
   },
   "outputs": [
    {
     "data": {
      "text/plain": [
       "Beginner          1444\n",
       "Advanced          1005\n",
       "Intermediate       837\n",
       "Conversant         186\n",
       "Not Calibrated      50\n",
       "Name: Difficulty Level, dtype: int64"
      ]
     },
     "execution_count": 8,
     "metadata": {},
     "output_type": "execute_result"
    }
   ],
   "source": [
    "data = df[\"Difficulty Level\"].value_counts()\n",
    "data"
   ]
  },
  {
   "cell_type": "code",
   "execution_count": 9,
   "id": "c324e1cd",
   "metadata": {
    "execution": {
     "iopub.execute_input": "2022-01-23T19:02:27.822024Z",
     "iopub.status.busy": "2022-01-23T19:02:27.821300Z",
     "iopub.status.idle": "2022-01-23T19:02:28.163516Z",
     "shell.execute_reply": "2022-01-23T19:02:28.162970Z",
     "shell.execute_reply.started": "2022-01-23T18:58:53.932356Z"
    },
    "papermill": {
     "duration": 0.363884,
     "end_time": "2022-01-23T19:02:28.163646",
     "exception": false,
     "start_time": "2022-01-23T19:02:27.799762",
     "status": "completed"
    },
    "tags": []
   },
   "outputs": [
    {
     "data": {
      "image/png": "[encoded data removed]",
      "text/plain": [
       "<Figure size 1080x720 with 1 Axes>"
      ]
     },
     "metadata": {},
     "output_type": "display_data"
    },
    {
     "data": {
      "text/plain": [
       "4.7               740\n",
       "4.6               623\n",
       "4.8               598\n",
       "4.5               389\n",
       "4.4               242\n",
       "4.9               180\n",
       "4.3               165\n",
       "4.2               121\n",
       "5                  90\n",
       "4.1                85\n",
       "Not Calibrated     82\n",
       "4                  51\n",
       "3.8                24\n",
       "3.9                20\n",
       "3.6                18\n",
       "3.7                18\n",
       "3.5                17\n",
       "3.4                13\n",
       "3                  12\n",
       "3.2                 9\n",
       "3.3                 6\n",
       "2.9                 6\n",
       "2.6                 2\n",
       "2.8                 2\n",
       "2.4                 2\n",
       "1                   2\n",
       "2                   1\n",
       "3.1                 1\n",
       "2.5                 1\n",
       "1.9                 1\n",
       "2.3                 1\n",
       "Name: Course Rating, dtype: int64"
      ]
     },
     "execution_count": 9,
     "metadata": {},
     "output_type": "execute_result"
    }
   ],
   "source": [
    "mag = ['Beginner','Advanced','Intermediate','Conversant','Not Calibrated']\n",
    "  \n",
    "data = [1444,1005,837,186,50]\n",
    "explode = (0.1,0.0,0.0,0.0,0.0) \n",
    "  \n",
    "colors = (\"lightblue\",\"crimson\",\"yellow\",\"green\",\"violet\") \n",
    "  \n",
    "wp = { 'linewidth' : 1, 'edgecolor' : \"white\" } \n",
    "  \n",
    "def func(pct, allvalues): \n",
    "    absolute = int(pct / 100.*np.sum(allvalues)) \n",
    "    return \"{:.1f}%\\n({:d} g)\".format(pct, absolute) \n",
    "  \n",
    "fig, ax = plt.subplots(figsize =(15, 10)) \n",
    "wedges, texts, autotexts = ax.pie(data,  \n",
    "                                  autopct = lambda pct: func(pct, data), \n",
    "                                  explode = explode,  \n",
    "                                  labels = mag, \n",
    "                                  shadow = True, \n",
    "                                  colors = colors, \n",
    "                                  startangle = 90, \n",
    "                                  wedgeprops = wp, \n",
    "                                  textprops = dict(color =\"black\")) \n",
    "  \n",
    "ax.legend(wedges, mag, \n",
    "          title =\"Values\", \n",
    "          loc =\"center left\", \n",
    "          bbox_to_anchor =(1, 0, 0.5, 1)) \n",
    "  \n",
    "plt.setp(autotexts, size = 10, weight =\"bold\") \n",
    "ax.set_title(\"Payment type of course\\n\",size=19) \n",
    "  \n",
    "\n",
    "plt.show()\n",
    "\n",
    "df['Course Rating'].value_counts()"
   ]
  },
  {
   "cell_type": "code",
   "execution_count": 10,
   "id": "8041a8a4",
   "metadata": {
    "execution": {
     "iopub.execute_input": "2022-01-23T19:02:28.212638Z",
     "iopub.status.busy": "2022-01-23T19:02:28.211697Z",
     "iopub.status.idle": "2022-01-23T19:02:28.229997Z",
     "shell.execute_reply": "2022-01-23T19:02:28.230481Z",
     "shell.execute_reply.started": "2022-01-23T18:59:15.288641Z"
    },
    "papermill": {
     "duration": 0.045402,
     "end_time": "2022-01-23T19:02:28.230642",
     "exception": false,
     "start_time": "2022-01-23T19:02:28.185240",
     "status": "completed"
    },
    "tags": []
   },
   "outputs": [
    {
     "data": {
      "text/html": [
       "<div>\n",
       "<style scoped>\n",
       "    .dataframe tbody tr th:only-of-type {\n",
       "        vertical-align: middle;\n",
       "    }\n",
       "\n",
       "    .dataframe tbody tr th {\n",
       "        vertical-align: top;\n",
       "    }\n",
       "\n",
       "    .dataframe thead th {\n",
       "        text-align: right;\n",
       "    }\n",
       "</style>\n",
       "<table border=\"1\" class=\"dataframe\">\n",
       "  <thead>\n",
       "    <tr style=\"text-align: right;\">\n",
       "      <th></th>\n",
       "      <th>Course Name</th>\n",
       "      <th>University</th>\n",
       "      <th>Difficulty Level</th>\n",
       "      <th>Course Rating</th>\n",
       "      <th>Course Description</th>\n",
       "      <th>Skills</th>\n",
       "    </tr>\n",
       "  </thead>\n",
       "  <tbody>\n",
       "    <tr>\n",
       "      <th>0</th>\n",
       "      <td>Write A Feature Length Screenplay For Film Or ...</td>\n",
       "      <td>Michigan State University</td>\n",
       "      <td>Beginner</td>\n",
       "      <td>4.8</td>\n",
       "      <td>Write a Full Length Feature Film Script  In th...</td>\n",
       "      <td>Drama  Comedy  peering  screenwriting  film  D...</td>\n",
       "    </tr>\n",
       "    <tr>\n",
       "      <th>1</th>\n",
       "      <td>Business Strategy: Business Model Canvas Analy...</td>\n",
       "      <td>Coursera Project Network</td>\n",
       "      <td>Beginner</td>\n",
       "      <td>4.8</td>\n",
       "      <td>By the end of this guided project, you will be...</td>\n",
       "      <td>Finance  business plan  persona (user experien...</td>\n",
       "    </tr>\n",
       "    <tr>\n",
       "      <th>2</th>\n",
       "      <td>Silicon Thin Film Solar Cells</td>\n",
       "      <td>�cole Polytechnique</td>\n",
       "      <td>Advanced</td>\n",
       "      <td>4.1</td>\n",
       "      <td>This course consists of a general presentation...</td>\n",
       "      <td>chemistry  physics  Solar Energy  film  lambda...</td>\n",
       "    </tr>\n",
       "    <tr>\n",
       "      <th>3</th>\n",
       "      <td>Finance for Managers</td>\n",
       "      <td>IESE Business School</td>\n",
       "      <td>Intermediate</td>\n",
       "      <td>4.8</td>\n",
       "      <td>When it comes to numbers, there is always more...</td>\n",
       "      <td>accounts receivable  dupont analysis  analysis...</td>\n",
       "    </tr>\n",
       "    <tr>\n",
       "      <th>4</th>\n",
       "      <td>Retrieve Data using Single-Table SQL Queries</td>\n",
       "      <td>Coursera Project Network</td>\n",
       "      <td>Beginner</td>\n",
       "      <td>4.6</td>\n",
       "      <td>In this course you�ll learn how to effectively...</td>\n",
       "      <td>Data Analysis  select (sql)  database manageme...</td>\n",
       "    </tr>\n",
       "    <tr>\n",
       "      <th>...</th>\n",
       "      <td>...</td>\n",
       "      <td>...</td>\n",
       "      <td>...</td>\n",
       "      <td>...</td>\n",
       "      <td>...</td>\n",
       "      <td>...</td>\n",
       "    </tr>\n",
       "    <tr>\n",
       "      <th>3517</th>\n",
       "      <td>Capstone: Retrieving, Processing, and Visualiz...</td>\n",
       "      <td>University of Michigan</td>\n",
       "      <td>Beginner</td>\n",
       "      <td>4.6</td>\n",
       "      <td>In the capstone, students will build a series ...</td>\n",
       "      <td>Databases  syntax  analysis  web  Data Visuali...</td>\n",
       "    </tr>\n",
       "    <tr>\n",
       "      <th>3518</th>\n",
       "      <td>Patrick Henry: Forgotten Founder</td>\n",
       "      <td>University of Virginia</td>\n",
       "      <td>Intermediate</td>\n",
       "      <td>4.9</td>\n",
       "      <td>�Give me liberty, or give me death:� Rememberi...</td>\n",
       "      <td>retirement  Causality  career  history of the ...</td>\n",
       "    </tr>\n",
       "    <tr>\n",
       "      <th>3519</th>\n",
       "      <td>Business intelligence and data analytics: Gene...</td>\n",
       "      <td>Macquarie University</td>\n",
       "      <td>Advanced</td>\n",
       "      <td>4.6</td>\n",
       "      <td>�Megatrends� heavily influence today�s organis...</td>\n",
       "      <td>analytics  tableau software  Business Intellig...</td>\n",
       "    </tr>\n",
       "    <tr>\n",
       "      <th>3520</th>\n",
       "      <td>Rigid Body Dynamics</td>\n",
       "      <td>Korea Advanced Institute of Science and Techno...</td>\n",
       "      <td>Beginner</td>\n",
       "      <td>4.6</td>\n",
       "      <td>This course teaches dynamics, one of the basic...</td>\n",
       "      <td>Angular  Mechanical Design  fluid mechanics  F...</td>\n",
       "    </tr>\n",
       "    <tr>\n",
       "      <th>3521</th>\n",
       "      <td>Architecting with Google Kubernetes Engine: Pr...</td>\n",
       "      <td>Google Cloud</td>\n",
       "      <td>Intermediate</td>\n",
       "      <td>4.7</td>\n",
       "      <td>In this course, \"Architecting with Google Kube...</td>\n",
       "      <td>bigtable  bigquery  SQL  Google Cloud Platform...</td>\n",
       "    </tr>\n",
       "  </tbody>\n",
       "</table>\n",
       "<p>3440 rows × 6 columns</p>\n",
       "</div>"
      ],
      "text/plain": [
       "                                            Course Name  \\\n",
       "0     Write A Feature Length Screenplay For Film Or ...   \n",
       "1     Business Strategy: Business Model Canvas Analy...   \n",
       "2                         Silicon Thin Film Solar Cells   \n",
       "3                                  Finance for Managers   \n",
       "4          Retrieve Data using Single-Table SQL Queries   \n",
       "...                                                 ...   \n",
       "3517  Capstone: Retrieving, Processing, and Visualiz...   \n",
       "3518                   Patrick Henry: Forgotten Founder   \n",
       "3519  Business intelligence and data analytics: Gene...   \n",
       "3520                                Rigid Body Dynamics   \n",
       "3521  Architecting with Google Kubernetes Engine: Pr...   \n",
       "\n",
       "                                             University Difficulty Level  \\\n",
       "0                             Michigan State University         Beginner   \n",
       "1                              Coursera Project Network         Beginner   \n",
       "2                                   �cole Polytechnique         Advanced   \n",
       "3                                  IESE Business School     Intermediate   \n",
       "4                              Coursera Project Network         Beginner   \n",
       "...                                                 ...              ...   \n",
       "3517                             University of Michigan         Beginner   \n",
       "3518                             University of Virginia     Intermediate   \n",
       "3519                               Macquarie University         Advanced   \n",
       "3520  Korea Advanced Institute of Science and Techno...         Beginner   \n",
       "3521                                       Google Cloud     Intermediate   \n",
       "\n",
       "      Course Rating                                 Course Description  \\\n",
       "0               4.8  Write a Full Length Feature Film Script  In th...   \n",
       "1               4.8  By the end of this guided project, you will be...   \n",
       "2               4.1  This course consists of a general presentation...   \n",
       "3               4.8  When it comes to numbers, there is always more...   \n",
       "4               4.6  In this course you�ll learn how to effectively...   \n",
       "...             ...                                                ...   \n",
       "3517            4.6  In the capstone, students will build a series ...   \n",
       "3518            4.9  �Give me liberty, or give me death:� Rememberi...   \n",
       "3519            4.6  �Megatrends� heavily influence today�s organis...   \n",
       "3520            4.6  This course teaches dynamics, one of the basic...   \n",
       "3521            4.7  In this course, \"Architecting with Google Kube...   \n",
       "\n",
       "                                                 Skills  \n",
       "0     Drama  Comedy  peering  screenwriting  film  D...  \n",
       "1     Finance  business plan  persona (user experien...  \n",
       "2     chemistry  physics  Solar Energy  film  lambda...  \n",
       "3     accounts receivable  dupont analysis  analysis...  \n",
       "4     Data Analysis  select (sql)  database manageme...  \n",
       "...                                                 ...  \n",
       "3517  Databases  syntax  analysis  web  Data Visuali...  \n",
       "3518  retirement  Causality  career  history of the ...  \n",
       "3519  analytics  tableau software  Business Intellig...  \n",
       "3520  Angular  Mechanical Design  fluid mechanics  F...  \n",
       "3521  bigtable  bigquery  SQL  Google Cloud Platform...  \n",
       "\n",
       "[3440 rows x 6 columns]"
      ]
     },
     "execution_count": 10,
     "metadata": {},
     "output_type": "execute_result"
    }
   ],
   "source": [
    "df = df[df['Course Rating'] != 'Not Calibrated']\n",
    "df['Course Rating'] = df['Course Rating'].astype(float)\n",
    "df"
   ]
  },
  {
   "cell_type": "code",
   "execution_count": 11,
   "id": "89483769",
   "metadata": {
    "execution": {
     "iopub.execute_input": "2022-01-23T19:02:28.283166Z",
     "iopub.status.busy": "2022-01-23T19:02:28.282145Z",
     "iopub.status.idle": "2022-01-23T19:02:28.841998Z",
     "shell.execute_reply": "2022-01-23T19:02:28.841429Z",
     "shell.execute_reply.started": "2022-01-23T18:59:39.364181Z"
    },
    "papermill": {
     "duration": 0.589875,
     "end_time": "2022-01-23T19:02:28.842140",
     "exception": false,
     "start_time": "2022-01-23T19:02:28.252265",
     "status": "completed"
    },
    "tags": []
   },
   "outputs": [
    {
     "data": {
      "text/plain": [
       "Text(0.5, 1.0, 'Count of course types\\n')"
      ]
     },
     "execution_count": 11,
     "metadata": {},
     "output_type": "execute_result"
    },
    {
     "data": {
      "image/png": "[encoded data removed]",
      "text/plain": [
       "<Figure size 1296x504 with 1 Axes>"
      ]
     },
     "metadata": {},
     "output_type": "display_data"
    }
   ],
   "source": [
    "plt.figure(figsize=(18,7))\n",
    "sns.countplot(data=df,x='Course Rating',palette='plasma')\n",
    "plt.xlabel('Course Ratings',fontsize='16',color='blue')\n",
    "plt.ylabel('Number of courses',fontsize='16',color='blue')\n",
    "plt.xticks(fontsize='14',color='green')\n",
    "plt.yticks(fontsize='14',color='red')\n",
    "plt.title(\"Count of course types\\n\",fontsize=24,fontweight='bold',color='indigo')"
   ]
  },
  {
   "cell_type": "code",
   "execution_count": 12,
   "id": "86e3d886",
   "metadata": {
    "execution": {
     "iopub.execute_input": "2022-01-23T19:02:28.907547Z",
     "iopub.status.busy": "2022-01-23T19:02:28.906606Z",
     "iopub.status.idle": "2022-01-23T19:02:28.910285Z",
     "shell.execute_reply": "2022-01-23T19:02:28.910844Z",
     "shell.execute_reply.started": "2022-01-23T18:59:48.035620Z"
    },
    "papermill": {
     "duration": 0.045483,
     "end_time": "2022-01-23T19:02:28.911023",
     "exception": false,
     "start_time": "2022-01-23T19:02:28.865540",
     "status": "completed"
    },
    "tags": []
   },
   "outputs": [
    {
     "data": {
      "text/html": [
       "<div>\n",
       "<style scoped>\n",
       "    .dataframe tbody tr th:only-of-type {\n",
       "        vertical-align: middle;\n",
       "    }\n",
       "\n",
       "    .dataframe tbody tr th {\n",
       "        vertical-align: top;\n",
       "    }\n",
       "\n",
       "    .dataframe thead th {\n",
       "        text-align: right;\n",
       "    }\n",
       "</style>\n",
       "<table border=\"1\" class=\"dataframe\">\n",
       "  <thead>\n",
       "    <tr style=\"text-align: right;\">\n",
       "      <th></th>\n",
       "      <th>Course Name</th>\n",
       "      <th>University</th>\n",
       "      <th>Difficulty Level</th>\n",
       "      <th>Course Rating</th>\n",
       "      <th>Course Description</th>\n",
       "      <th>Skills</th>\n",
       "    </tr>\n",
       "  </thead>\n",
       "  <tbody>\n",
       "    <tr>\n",
       "      <th>0</th>\n",
       "      <td>Write A Feature Length Screenplay For Film Or ...</td>\n",
       "      <td>Michigan State University</td>\n",
       "      <td>Beginner</td>\n",
       "      <td>4.8</td>\n",
       "      <td>Write a Full Length Feature Film Script  In th...</td>\n",
       "      <td>Drama  Comedy  peering  screenwriting  film  D...</td>\n",
       "    </tr>\n",
       "    <tr>\n",
       "      <th>1</th>\n",
       "      <td>Business Strategy: Business Model Canvas Analy...</td>\n",
       "      <td>Coursera Project Network</td>\n",
       "      <td>Beginner</td>\n",
       "      <td>4.8</td>\n",
       "      <td>By the end of this guided project, you will be...</td>\n",
       "      <td>Finance  business plan  persona (user experien...</td>\n",
       "    </tr>\n",
       "    <tr>\n",
       "      <th>2</th>\n",
       "      <td>Silicon Thin Film Solar Cells</td>\n",
       "      <td>�cole Polytechnique</td>\n",
       "      <td>Advanced</td>\n",
       "      <td>4.1</td>\n",
       "      <td>This course consists of a general presentation...</td>\n",
       "      <td>chemistry  physics  Solar Energy  film  lambda...</td>\n",
       "    </tr>\n",
       "    <tr>\n",
       "      <th>3</th>\n",
       "      <td>Finance for Managers</td>\n",
       "      <td>IESE Business School</td>\n",
       "      <td>Intermediate</td>\n",
       "      <td>4.8</td>\n",
       "      <td>When it comes to numbers, there is always more...</td>\n",
       "      <td>accounts receivable  dupont analysis  analysis...</td>\n",
       "    </tr>\n",
       "    <tr>\n",
       "      <th>4</th>\n",
       "      <td>Retrieve Data using Single-Table SQL Queries</td>\n",
       "      <td>Coursera Project Network</td>\n",
       "      <td>Beginner</td>\n",
       "      <td>4.6</td>\n",
       "      <td>In this course you�ll learn how to effectively...</td>\n",
       "      <td>Data Analysis  select (sql)  database manageme...</td>\n",
       "    </tr>\n",
       "    <tr>\n",
       "      <th>5</th>\n",
       "      <td>Building Test Automation Framework using Selen...</td>\n",
       "      <td>Coursera Project Network</td>\n",
       "      <td>Beginner</td>\n",
       "      <td>4.7</td>\n",
       "      <td>Selenium is one of the most widely used functi...</td>\n",
       "      <td>maintenance  test case  test automation  scree...</td>\n",
       "    </tr>\n",
       "    <tr>\n",
       "      <th>7</th>\n",
       "      <td>Programming Languages, Part A</td>\n",
       "      <td>University of Washington</td>\n",
       "      <td>Intermediate</td>\n",
       "      <td>4.9</td>\n",
       "      <td>This course is an introduction to the basic co...</td>\n",
       "      <td>inference  ml (programming language)  higher-o...</td>\n",
       "    </tr>\n",
       "    <tr>\n",
       "      <th>8</th>\n",
       "      <td>The Roles and Responsibilities of Nonprofit Bo...</td>\n",
       "      <td>The State University of New York</td>\n",
       "      <td>Intermediate</td>\n",
       "      <td>4.3</td>\n",
       "      <td>This course provides a more in-depth look at t...</td>\n",
       "      <td>Planning  Peer Review  fundraising  strategic ...</td>\n",
       "    </tr>\n",
       "    <tr>\n",
       "      <th>11</th>\n",
       "      <td>Esports Management Capstone Project</td>\n",
       "      <td>University of California, Irvine</td>\n",
       "      <td>Beginner</td>\n",
       "      <td>4.4</td>\n",
       "      <td>We will analyze the pros and cons of creating ...</td>\n",
       "      <td>Average  Planning  Leadership and Management  ...</td>\n",
       "    </tr>\n",
       "    <tr>\n",
       "      <th>13</th>\n",
       "      <td>Business Statistics and Analysis Capstone</td>\n",
       "      <td>Rice University</td>\n",
       "      <td>Beginner</td>\n",
       "      <td>4.7</td>\n",
       "      <td>The Business Statistics and Analysis Capstone ...</td>\n",
       "      <td>Statistical Analysis  Microsoft Excel  busines...</td>\n",
       "    </tr>\n",
       "  </tbody>\n",
       "</table>\n",
       "</div>"
      ],
      "text/plain": [
       "                                          Course Name  \\\n",
       "0   Write A Feature Length Screenplay For Film Or ...   \n",
       "1   Business Strategy: Business Model Canvas Analy...   \n",
       "2                       Silicon Thin Film Solar Cells   \n",
       "3                                Finance for Managers   \n",
       "4        Retrieve Data using Single-Table SQL Queries   \n",
       "5   Building Test Automation Framework using Selen...   \n",
       "7                       Programming Languages, Part A   \n",
       "8   The Roles and Responsibilities of Nonprofit Bo...   \n",
       "11                Esports Management Capstone Project   \n",
       "13          Business Statistics and Analysis Capstone   \n",
       "\n",
       "                          University Difficulty Level  Course Rating  \\\n",
       "0          Michigan State University         Beginner            4.8   \n",
       "1           Coursera Project Network         Beginner            4.8   \n",
       "2                �cole Polytechnique         Advanced            4.1   \n",
       "3               IESE Business School     Intermediate            4.8   \n",
       "4           Coursera Project Network         Beginner            4.6   \n",
       "5           Coursera Project Network         Beginner            4.7   \n",
       "7           University of Washington     Intermediate            4.9   \n",
       "8   The State University of New York     Intermediate            4.3   \n",
       "11  University of California, Irvine         Beginner            4.4   \n",
       "13                   Rice University         Beginner            4.7   \n",
       "\n",
       "                                   Course Description  \\\n",
       "0   Write a Full Length Feature Film Script  In th...   \n",
       "1   By the end of this guided project, you will be...   \n",
       "2   This course consists of a general presentation...   \n",
       "3   When it comes to numbers, there is always more...   \n",
       "4   In this course you�ll learn how to effectively...   \n",
       "5   Selenium is one of the most widely used functi...   \n",
       "7   This course is an introduction to the basic co...   \n",
       "8   This course provides a more in-depth look at t...   \n",
       "11  We will analyze the pros and cons of creating ...   \n",
       "13  The Business Statistics and Analysis Capstone ...   \n",
       "\n",
       "                                               Skills  \n",
       "0   Drama  Comedy  peering  screenwriting  film  D...  \n",
       "1   Finance  business plan  persona (user experien...  \n",
       "2   chemistry  physics  Solar Energy  film  lambda...  \n",
       "3   accounts receivable  dupont analysis  analysis...  \n",
       "4   Data Analysis  select (sql)  database manageme...  \n",
       "5   maintenance  test case  test automation  scree...  \n",
       "7   inference  ml (programming language)  higher-o...  \n",
       "8   Planning  Peer Review  fundraising  strategic ...  \n",
       "11  Average  Planning  Leadership and Management  ...  \n",
       "13  Statistical Analysis  Microsoft Excel  busines...  "
      ]
     },
     "execution_count": 12,
     "metadata": {},
     "output_type": "execute_result"
    }
   ],
   "source": [
    "df2 = df[df['Course Rating'] > 4.0]\n",
    "df2.head(10)"
   ]
  },
  {
   "cell_type": "code",
   "execution_count": 13,
   "id": "6e6743dd",
   "metadata": {
    "execution": {
     "iopub.execute_input": "2022-01-23T19:02:28.985401Z",
     "iopub.status.busy": "2022-01-23T19:02:28.984395Z",
     "iopub.status.idle": "2022-01-23T19:02:29.068492Z",
     "shell.execute_reply": "2022-01-23T19:02:29.067974Z",
     "shell.execute_reply.started": "2022-01-23T19:00:10.265972Z"
    },
    "papermill": {
     "duration": 0.133199,
     "end_time": "2022-01-23T19:02:29.068634",
     "exception": false,
     "start_time": "2022-01-23T19:02:28.935435",
     "status": "completed"
    },
    "tags": []
   },
   "outputs": [
    {
     "data": {
      "text/html": [
       "<div>\n",
       "<style scoped>\n",
       "    .dataframe tbody tr th:only-of-type {\n",
       "        vertical-align: middle;\n",
       "    }\n",
       "\n",
       "    .dataframe tbody tr th {\n",
       "        vertical-align: top;\n",
       "    }\n",
       "\n",
       "    .dataframe thead th {\n",
       "        text-align: right;\n",
       "    }\n",
       "</style>\n",
       "<table border=\"1\" class=\"dataframe\">\n",
       "  <thead>\n",
       "    <tr style=\"text-align: right;\">\n",
       "      <th>Course Name</th>\n",
       "      <th>\"Making\" Progress Teach-Out</th>\n",
       "      <th>3-Axis Machining with Autodesk Fusion 360</th>\n",
       "      <th>3D Art and Audio Pipeline</th>\n",
       "      <th>3D CAD Application</th>\n",
       "      <th>3D CAD Fundamental</th>\n",
       "      <th>3D Data Visualization for Science Communication</th>\n",
       "      <th>3D Graphics in Android: Sensors and VR</th>\n",
       "      <th>3D Interaction Design in Virtual Reality</th>\n",
       "      <th>3D Interactions and Navigation</th>\n",
       "      <th>3D Model Creation with Autodesk Fusion 360</th>\n",
       "      <th>...</th>\n",
       "      <th>Writing in English at University</th>\n",
       "      <th>Writing in First Person Point of View</th>\n",
       "      <th>Writing your World: Finding yourself in the academic space</th>\n",
       "      <th>e-Learning Ecologies: Innovative Approaches to Teaching and Learning for the Digital Age</th>\n",
       "      <th>eHealth: More than just an electronic record</th>\n",
       "      <th>iOS App Development Basics</th>\n",
       "      <th>iOS App Store &amp; In-App Purchases</th>\n",
       "      <th>iOS Project: Transreality Game</th>\n",
       "      <th>iPad Music Player in XD</th>\n",
       "      <th>idea 2 IMPACT: An Introduction to Translating Assistive Health Technologies and Other Products</th>\n",
       "    </tr>\n",
       "  </thead>\n",
       "  <tbody>\n",
       "    <tr>\n",
       "      <th>Course Rating</th>\n",
       "      <td>4.2</td>\n",
       "      <td>4.9</td>\n",
       "      <td>4.3</td>\n",
       "      <td>4.9</td>\n",
       "      <td>4.6</td>\n",
       "      <td>4.3</td>\n",
       "      <td>4.6</td>\n",
       "      <td>4.5</td>\n",
       "      <td>4.5</td>\n",
       "      <td>4.7</td>\n",
       "      <td>...</td>\n",
       "      <td>4.7</td>\n",
       "      <td>4.6</td>\n",
       "      <td>4.7</td>\n",
       "      <td>4.2</td>\n",
       "      <td>4.5</td>\n",
       "      <td>4.2</td>\n",
       "      <td>4.5</td>\n",
       "      <td>4.9</td>\n",
       "      <td>4.4</td>\n",
       "      <td>1.0</td>\n",
       "    </tr>\n",
       "  </tbody>\n",
       "</table>\n",
       "<p>1 rows × 3334 columns</p>\n",
       "</div>"
      ],
      "text/plain": [
       "Course Name    \"Making\" Progress Teach-Out  \\\n",
       "Course Rating                          4.2   \n",
       "\n",
       "Course Name    3-Axis Machining with Autodesk Fusion 360  \\\n",
       "Course Rating                                        4.9   \n",
       "\n",
       "Course Name    3D Art and Audio Pipeline  3D CAD Application  \\\n",
       "Course Rating                        4.3                 4.9   \n",
       "\n",
       "Course Name    3D CAD Fundamental  \\\n",
       "Course Rating                 4.6   \n",
       "\n",
       "Course Name    3D Data Visualization for Science Communication  \\\n",
       "Course Rating                                              4.3   \n",
       "\n",
       "Course Name    3D Graphics in Android: Sensors and VR  \\\n",
       "Course Rating                                     4.6   \n",
       "\n",
       "Course Name    3D Interaction Design in Virtual Reality  \\\n",
       "Course Rating                                       4.5   \n",
       "\n",
       "Course Name    3D Interactions and Navigation  \\\n",
       "Course Rating                             4.5   \n",
       "\n",
       "Course Name    3D Model Creation with Autodesk Fusion 360  ...  \\\n",
       "Course Rating                                         4.7  ...   \n",
       "\n",
       "Course Name    Writing in English at University  \\\n",
       "Course Rating                               4.7   \n",
       "\n",
       "Course Name    Writing in First Person Point of View  \\\n",
       "Course Rating                                    4.6   \n",
       "\n",
       "Course Name    Writing your World: Finding yourself in the academic space  \\\n",
       "Course Rating                                                4.7            \n",
       "\n",
       "Course Name    e-Learning Ecologies: Innovative Approaches to Teaching and Learning for the Digital Age  \\\n",
       "Course Rating                                                4.2                                          \n",
       "\n",
       "Course Name    eHealth: More than just an electronic record  \\\n",
       "Course Rating                                           4.5   \n",
       "\n",
       "Course Name    iOS App Development Basics  iOS App Store & In-App Purchases  \\\n",
       "Course Rating                         4.2                               4.5   \n",
       "\n",
       "Course Name    iOS Project: Transreality Game  iPad Music Player in XD  \\\n",
       "Course Rating                             4.9                      4.4   \n",
       "\n",
       "Course Name    idea 2 IMPACT: An Introduction to Translating Assistive Health Technologies and Other Products  \n",
       "Course Rating                                                1.0                                               \n",
       "\n",
       "[1 rows x 3334 columns]"
      ]
     },
     "execution_count": 13,
     "metadata": {},
     "output_type": "execute_result"
    }
   ],
   "source": [
    "cv=TfidfVectorizer()\n",
    "tfidf_matrix=cv.fit_transform(df['Course Name'])\n",
    "course_user = df.pivot_table(columns='Course Name',values='Course Rating')\n",
    "course_user.head()"
   ]
  },
  {
   "cell_type": "code",
   "execution_count": 14,
   "id": "12ff3791",
   "metadata": {
    "execution": {
     "iopub.execute_input": "2022-01-23T19:02:29.121373Z",
     "iopub.status.busy": "2022-01-23T19:02:29.120777Z",
     "iopub.status.idle": "2022-01-23T19:02:29.125172Z",
     "shell.execute_reply": "2022-01-23T19:02:29.125806Z",
     "shell.execute_reply.started": "2022-01-23T19:00:25.304075Z"
    },
    "papermill": {
     "duration": 0.032312,
     "end_time": "2022-01-23T19:02:29.125978",
     "exception": false,
     "start_time": "2022-01-23T19:02:29.093666",
     "status": "completed"
    },
    "tags": []
   },
   "outputs": [],
   "source": [
    "df = df.rename(columns={'Course Name':'course_title'})"
   ]
  },
  {
   "cell_type": "code",
   "execution_count": 15,
   "id": "9d95aaed",
   "metadata": {
    "execution": {
     "iopub.execute_input": "2022-01-23T19:02:29.179159Z",
     "iopub.status.busy": "2022-01-23T19:02:29.178464Z",
     "iopub.status.idle": "2022-01-23T19:02:29.352918Z",
     "shell.execute_reply": "2022-01-23T19:02:29.353384Z",
     "shell.execute_reply.started": "2022-01-23T19:00:50.619071Z"
    },
    "papermill": {
     "duration": 0.203074,
     "end_time": "2022-01-23T19:02:29.353557",
     "exception": false,
     "start_time": "2022-01-23T19:02:29.150483",
     "status": "completed"
    },
    "tags": []
   },
   "outputs": [
    {
     "name": "stdout",
     "output_type": "stream",
     "text": [
      "--------------- Similar courses to your search --------------:\n",
      "\n"
     ]
    },
    {
     "data": {
      "text/plain": [
       "149                      Scandinavian Film and Television\n",
       "2485                                  Feature Engineering\n",
       "1481    Script Writing: Write a Pilot Episode for a TV...\n",
       "2858         Machine Learning Feature Selection in Python\n",
       "3070            Perform Feature Analysis with Yellowbrick\n",
       "1854    Data Processing and Feature Engineering with M...\n",
       "1629                               Write Your First Novel\n",
       "650                  Write Professional Emails in English\n",
       "2385                     Getting Your Film off the Ground\n",
       "2472    Python: Imputations, Feature Creation & Statis...\n",
       "Name: course_title, dtype: object"
      ]
     },
     "execution_count": 15,
     "metadata": {},
     "output_type": "execute_result"
    }
   ],
   "source": [
    "cosine_sim = linear_kernel(tfidf_matrix, tfidf_matrix)\n",
    "indices=pd.Series(df.index,index=df['course_title'])\n",
    "titles=df['course_title']\n",
    "def recommendations(course_title):\n",
    "    idx = indices[course_title]\n",
    "    sim_scores = list(enumerate(cosine_sim[idx]))\n",
    "    sim_scores = sorted(sim_scores, key=lambda x: x[1], reverse=True)\n",
    "    sim_scores = sim_scores[1:11]\n",
    "    course_indices = [i[0] for i in sim_scores]\n",
    "    return titles.iloc[course_indices]\n",
    "print(\"--------------- Similar courses to your search --------------:\\n\")\n",
    "recommendations('Write A Feature Length Screenplay For Film Or Television')"
   ]
  },
  {
   "cell_type": "code",
   "execution_count": 16,
   "id": "6df719d4",
   "metadata": {
    "execution": {
     "iopub.execute_input": "2022-01-23T19:02:29.407164Z",
     "iopub.status.busy": "2022-01-23T19:02:29.406495Z",
     "iopub.status.idle": "2022-01-23T19:02:29.582045Z",
     "shell.execute_reply": "2022-01-23T19:02:29.582551Z",
     "shell.execute_reply.started": "2022-01-23T19:01:05.581780Z"
    },
    "papermill": {
     "duration": 0.203914,
     "end_time": "2022-01-23T19:02:29.582738",
     "exception": false,
     "start_time": "2022-01-23T19:02:29.378824",
     "status": "completed"
    },
    "tags": []
   },
   "outputs": [
    {
     "name": "stdout",
     "output_type": "stream",
     "text": [
      "--------------- Similar courses to your search --------------:\n",
      "\n"
     ]
    },
    {
     "data": {
      "text/plain": [
       "3272        Retrieve Data with Multiple-Table SQL Queries\n",
       "1162       Advanced SQL Retrieval Queries in SQLiteStudio\n",
       "1580                                 SQL for Data Science\n",
       "3482                SQL for Data Science Capstone Project\n",
       "2892                           Manipulating Data with SQL\n",
       "2611                          Analyzing Big Data with SQL\n",
       "2934    How to Design a Space-Saving Table Using SketchUp\n",
       "1033                   Databases and SQL for Data Science\n",
       "1379                   Databases and SQL for Data Science\n",
       "1380                   Databases and SQL for Data Science\n",
       "Name: course_title, dtype: object"
      ]
     },
     "execution_count": 16,
     "metadata": {},
     "output_type": "execute_result"
    }
   ],
   "source": [
    "cosine_sim = linear_kernel(tfidf_matrix, tfidf_matrix)\n",
    "indices=pd.Series(df.index,index=df['course_title'])\n",
    "titles=df['course_title']\n",
    "def recommendations(course_title):\n",
    "    idx = indices[course_title]\n",
    "    sim_scores = list(enumerate(cosine_sim[idx]))\n",
    "    sim_scores = sorted(sim_scores, key=lambda x: x[1], reverse=True)\n",
    "    sim_scores = sim_scores[1:11]\n",
    "    course_indices = [i[0] for i in sim_scores]\n",
    "    return titles.iloc[course_indices]\n",
    "print(\"--------------- Similar courses to your search --------------:\\n\")\n",
    "recommendations('Retrieve Data using Single-Table SQL Queries')"
   ]
  },
  {
   "cell_type": "code",
   "execution_count": 17,
   "id": "6c790524",
   "metadata": {
    "execution": {
     "iopub.execute_input": "2022-01-23T19:02:29.642684Z",
     "iopub.status.busy": "2022-01-23T19:02:29.637686Z",
     "iopub.status.idle": "2022-01-23T19:02:29.800242Z",
     "shell.execute_reply": "2022-01-23T19:02:29.800881Z",
     "shell.execute_reply.started": "2022-01-23T19:01:17.194679Z"
    },
    "papermill": {
     "duration": 0.192174,
     "end_time": "2022-01-23T19:02:29.801058",
     "exception": false,
     "start_time": "2022-01-23T19:02:29.608884",
     "status": "completed"
    },
    "tags": []
   },
   "outputs": [
    {
     "name": "stdout",
     "output_type": "stream",
     "text": [
      "--------------- Similar courses to your search --------------:\n",
      "\n"
     ]
    },
    {
     "data": {
      "text/plain": [
       "419                    Finance for Non-Financial Managers\n",
       "2082                Finance for Non-Finance Professionals\n",
       "3448                                 Finance for Startups\n",
       "3094    Coding for Designers, Managers, & Entrepreneurs I\n",
       "653     Coding for Designers, Managers, & Entrepreneur...\n",
       "1659    Coding for Designers, Managers, & Entrepreneur...\n",
       "2851                        Finance for Everyone: Markets\n",
       "3110                          Finance For Everyone: Value\n",
       "959                 Finance for Everyone Capstone Project\n",
       "2188    Human Resources Management Capstone: HR for Pe...\n",
       "Name: course_title, dtype: object"
      ]
     },
     "execution_count": 17,
     "metadata": {},
     "output_type": "execute_result"
    }
   ],
   "source": [
    "cosine_sim = linear_kernel(tfidf_matrix, tfidf_matrix)\n",
    "indices=pd.Series(df.index,index=df['course_title'])\n",
    "titles=df['course_title']\n",
    "def recommendations(course_title):\n",
    "    idx = indices[course_title]\n",
    "    sim_scores = list(enumerate(cosine_sim[idx]))\n",
    "    sim_scores = sorted(sim_scores, key=lambda x: x[1], reverse=True)\n",
    "    sim_scores = sim_scores[1:11]\n",
    "    course_indices = [i[0] for i in sim_scores]\n",
    "    return titles.iloc[course_indices]\n",
    "print(\"--------------- Similar courses to your search --------------:\\n\")\n",
    "recommendations('Finance for Managers')"
   ]
  }
 ],
 "metadata": {
  "kernelspec": {
   "display_name": "Python 3",
   "language": "python",
   "name": "python3"
  },
  "language_info": {
   "codemirror_mode": {
    "name": "ipython",
    "version": 3
   },
   "file_extension": ".py",
   "mimetype": "text/x-python",
   "name": "python",
   "nbconvert_exporter": "python",
   "pygments_lexer": "ipython3",
   "version": "3.7.12"
  },
  "papermill": {
   "default_parameters": {},
   "duration": 15.039678,
   "end_time": "2022-01-23T19:02:30.538201",
   "environment_variables": {},
   "exception": null,
   "input_path": "__notebook__.ipynb",
   "output_path": "__notebook__.ipynb",
   "parameters": {},
   "start_time": "2022-01-23T19:02:15.498523",
   "version": "2.3.3"
  }
 },
 "nbformat": 4,
 "nbformat_minor": 5
}
