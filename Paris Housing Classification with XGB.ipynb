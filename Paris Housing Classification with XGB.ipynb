{
 "cells":[
  {
   "cell_type":"code",
   "source":[
    "import numpy as np\n",
    "import pandas as pd\n",
    "import matplotlib.pyplot as plt\n",
    "import seaborn as sns\n",
    "from sklearn.preprocessing import StandardScaler\n",
    "from sklearn.model_selection import train_test_split\n",
    "from xgboost import XGBClassifier\n",
    "from sklearn.metrics import confusion_matrix\n",
    "from sklearn import metrics\n",
    "from sklearn.metrics import accuracy_score, confusion_matrix, classification_report, plot_confusion_matrix\n",
    "from sklearn.metrics import precision_recall_curve, plot_precision_recall_curve, plot_roc_curve\n",
    "\n",
    "import warnings\n",
    "warnings.filterwarnings(\"ignore\")"
   ],
   "execution_count":1,
   "outputs":[
    
   ],
   "metadata":{
    "datalore":{
     "type":"CODE",
     "hide_input_from_viewers":false,
     "hide_output_from_viewers":false
    }
   }
  },
  {
   "cell_type":"code",
   "source":[
    "df = pd.read_csv(\"https:\/\/raw.githubusercontent.com\/benvictoria17\/Finance\/master\/dataset\/Paris%20Housing%20Classification\/ParisHousingClass.csv\")"
   ],
   "execution_count":2,
   "outputs":[
    
   ],
   "metadata":{
    "datalore":{
     "type":"CODE",
     "hide_input_from_viewers":false,
     "hide_output_from_viewers":false
    }
   }
  },
  {
   "cell_type":"code",
   "source":[
    "df.head()"
   ],
   "execution_count":3,
   "outputs":[
    {
     "data":{
      "text\/html":[
       "<div>\n",
       "<style scoped>\n",
       "    .dataframe tbody tr th:only-of-type {\n",
       "        vertical-align: middle;\n",
       "    }\n",
       "\n",
       "    .dataframe tbody tr th {\n",
       "        vertical-align: top;\n",
       "    }\n",
       "\n",
       "    .dataframe thead th {\n",
       "        text-align: right;\n",
       "    }\n",
       "<\/style>\n",
       "<table border=\"1\" class=\"dataframe\">\n",
       "  <thead>\n",
       "    <tr style=\"text-align: right;\">\n",
       "      <th><\/th>\n",
       "      <th>squareMeters<\/th>\n",
       "      <th>numberOfRooms<\/th>\n",
       "      <th>hasYard<\/th>\n",
       "      <th>hasPool<\/th>\n",
       "      <th>floors<\/th>\n",
       "      <th>cityCode<\/th>\n",
       "      <th>cityPartRange<\/th>\n",
       "      <th>numPrevOwners<\/th>\n",
       "      <th>made<\/th>\n",
       "      <th>isNewBuilt<\/th>\n",
       "      <th>hasStormProtector<\/th>\n",
       "      <th>basement<\/th>\n",
       "      <th>attic<\/th>\n",
       "      <th>garage<\/th>\n",
       "      <th>hasStorageRoom<\/th>\n",
       "      <th>hasGuestRoom<\/th>\n",
       "      <th>price<\/th>\n",
       "      <th>category<\/th>\n",
       "    <\/tr>\n",
       "  <\/thead>\n",
       "  <tbody>\n",
       "    <tr>\n",
       "      <th>0<\/th>\n",
       "      <td>75523<\/td>\n",
       "      <td>3<\/td>\n",
       "      <td>0<\/td>\n",
       "      <td>1<\/td>\n",
       "      <td>63<\/td>\n",
       "      <td>9373<\/td>\n",
       "      <td>3<\/td>\n",
       "      <td>8<\/td>\n",
       "      <td>2005<\/td>\n",
       "      <td>0<\/td>\n",
       "      <td>1<\/td>\n",
       "      <td>4313<\/td>\n",
       "      <td>9005<\/td>\n",
       "      <td>956<\/td>\n",
       "      <td>0<\/td>\n",
       "      <td>7<\/td>\n",
       "      <td>7559081.5<\/td>\n",
       "      <td>Basic<\/td>\n",
       "    <\/tr>\n",
       "    <tr>\n",
       "      <th>1<\/th>\n",
       "      <td>80771<\/td>\n",
       "      <td>39<\/td>\n",
       "      <td>1<\/td>\n",
       "      <td>1<\/td>\n",
       "      <td>98<\/td>\n",
       "      <td>39381<\/td>\n",
       "      <td>8<\/td>\n",
       "      <td>6<\/td>\n",
       "      <td>2015<\/td>\n",
       "      <td>1<\/td>\n",
       "      <td>0<\/td>\n",
       "      <td>3653<\/td>\n",
       "      <td>2436<\/td>\n",
       "      <td>128<\/td>\n",
       "      <td>1<\/td>\n",
       "      <td>2<\/td>\n",
       "      <td>8085989.5<\/td>\n",
       "      <td>Luxury<\/td>\n",
       "    <\/tr>\n",
       "    <tr>\n",
       "      <th>2<\/th>\n",
       "      <td>55712<\/td>\n",
       "      <td>58<\/td>\n",
       "      <td>0<\/td>\n",
       "      <td>1<\/td>\n",
       "      <td>19<\/td>\n",
       "      <td>34457<\/td>\n",
       "      <td>6<\/td>\n",
       "      <td>8<\/td>\n",
       "      <td>2021<\/td>\n",
       "      <td>0<\/td>\n",
       "      <td>0<\/td>\n",
       "      <td>2937<\/td>\n",
       "      <td>8852<\/td>\n",
       "      <td>135<\/td>\n",
       "      <td>1<\/td>\n",
       "      <td>9<\/td>\n",
       "      <td>5574642.1<\/td>\n",
       "      <td>Basic<\/td>\n",
       "    <\/tr>\n",
       "    <tr>\n",
       "      <th>3<\/th>\n",
       "      <td>32316<\/td>\n",
       "      <td>47<\/td>\n",
       "      <td>0<\/td>\n",
       "      <td>0<\/td>\n",
       "      <td>6<\/td>\n",
       "      <td>27939<\/td>\n",
       "      <td>10<\/td>\n",
       "      <td>4<\/td>\n",
       "      <td>2012<\/td>\n",
       "      <td>0<\/td>\n",
       "      <td>1<\/td>\n",
       "      <td>659<\/td>\n",
       "      <td>7141<\/td>\n",
       "      <td>359<\/td>\n",
       "      <td>0<\/td>\n",
       "      <td>3<\/td>\n",
       "      <td>3232561.2<\/td>\n",
       "      <td>Basic<\/td>\n",
       "    <\/tr>\n",
       "    <tr>\n",
       "      <th>4<\/th>\n",
       "      <td>70429<\/td>\n",
       "      <td>19<\/td>\n",
       "      <td>1<\/td>\n",
       "      <td>1<\/td>\n",
       "      <td>90<\/td>\n",
       "      <td>38045<\/td>\n",
       "      <td>3<\/td>\n",
       "      <td>7<\/td>\n",
       "      <td>1990<\/td>\n",
       "      <td>1<\/td>\n",
       "      <td>0<\/td>\n",
       "      <td>8435<\/td>\n",
       "      <td>2429<\/td>\n",
       "      <td>292<\/td>\n",
       "      <td>1<\/td>\n",
       "      <td>4<\/td>\n",
       "      <td>7055052.0<\/td>\n",
       "      <td>Luxury<\/td>\n",
       "    <\/tr>\n",
       "  <\/tbody>\n",
       "<\/table>\n",
       "<\/div>"
      ]
     },
     "metadata":{
      
     },
     "output_type":"display_data"
    }
   ],
   "metadata":{
    "datalore":{
     "type":"CODE",
     "hide_input_from_viewers":false,
     "hide_output_from_viewers":false
    }
   }
  },
  {
   "cell_type":"code",
   "source":[
    "df.info()"
   ],
   "execution_count":4,
   "outputs":[
    {
     "name":"stdout",
     "text":[
      "<class 'pandas.core.frame.DataFrame'>\n",
      "RangeIndex: 10000 entries, 0 to 9999\n",
      "Data columns (total 18 columns):\n",
      " #   Column             Non-Null Count  Dtype  \n",
      "---  ------             --------------  -----  \n",
      " 0   squareMeters       10000 non-null  int64  \n",
      " 1   numberOfRooms      10000 non-null  int64  \n",
      " 2   hasYard            10000 non-null  int64  \n",
      " 3   hasPool            10000 non-null  int64  \n",
      " 4   floors             10000 non-null  int64  \n",
      " 5   cityCode           10000 non-null  int64  \n",
      " 6   cityPartRange      10000 non-null  int64  \n",
      " 7   numPrevOwners      10000 non-null  int64  \n",
      " 8   made               10000 non-null  int64  \n",
      " 9   isNewBuilt         10000 non-null  int64  \n",
      " 10  hasStormProtector  10000 non-null  int64  \n",
      " 11  basement           10000 non-null  int64  \n",
      " 12  attic              10000 non-null  int64  \n",
      " 13  garage             10000 non-null  int64  \n",
      " 14  hasStorageRoom     10000 non-null  int64  \n",
      " 15  hasGuestRoom       10000 non-null  int64  \n",
      " 16  price              10000 non-null  float64\n",
      " 17  category           10000 non-null  object \n",
      "dtypes: float64(1), int64(16), object(1)\n",
      "memory usage: 1.4+ MB\n"
     ],
     "output_type":"stream"
    }
   ],
   "metadata":{
    "datalore":{
     "type":"CODE",
     "hide_input_from_viewers":false,
     "hide_output_from_viewers":false
    }
   }
  },
  {
   "cell_type":"code",
   "source":[
    "df.describe()"
   ],
   "execution_count":5,
   "outputs":[
    {
     "data":{
      "text\/html":[
       "<div>\n",
       "<style scoped>\n",
       "    .dataframe tbody tr th:only-of-type {\n",
       "        vertical-align: middle;\n",
       "    }\n",
       "\n",
       "    .dataframe tbody tr th {\n",
       "        vertical-align: top;\n",
       "    }\n",
       "\n",
       "    .dataframe thead th {\n",
       "        text-align: right;\n",
       "    }\n",
       "<\/style>\n",
       "<table border=\"1\" class=\"dataframe\">\n",
       "  <thead>\n",
       "    <tr style=\"text-align: right;\">\n",
       "      <th><\/th>\n",
       "      <th>squareMeters<\/th>\n",
       "      <th>numberOfRooms<\/th>\n",
       "      <th>hasYard<\/th>\n",
       "      <th>hasPool<\/th>\n",
       "      <th>floors<\/th>\n",
       "      <th>cityCode<\/th>\n",
       "      <th>cityPartRange<\/th>\n",
       "      <th>numPrevOwners<\/th>\n",
       "      <th>made<\/th>\n",
       "      <th>isNewBuilt<\/th>\n",
       "      <th>hasStormProtector<\/th>\n",
       "      <th>basement<\/th>\n",
       "      <th>attic<\/th>\n",
       "      <th>garage<\/th>\n",
       "      <th>hasStorageRoom<\/th>\n",
       "      <th>hasGuestRoom<\/th>\n",
       "      <th>price<\/th>\n",
       "    <\/tr>\n",
       "  <\/thead>\n",
       "  <tbody>\n",
       "    <tr>\n",
       "      <th>count<\/th>\n",
       "      <td>10000.00000<\/td>\n",
       "      <td>10000.000000<\/td>\n",
       "      <td>10000.000000<\/td>\n",
       "      <td>10000.000000<\/td>\n",
       "      <td>10000.000000<\/td>\n",
       "      <td>10000.000000<\/td>\n",
       "      <td>10000.000000<\/td>\n",
       "      <td>10000.000000<\/td>\n",
       "      <td>10000.00000<\/td>\n",
       "      <td>10000.000000<\/td>\n",
       "      <td>10000.000000<\/td>\n",
       "      <td>10000.000000<\/td>\n",
       "      <td>10000.00000<\/td>\n",
       "      <td>10000.00000<\/td>\n",
       "      <td>10000.000000<\/td>\n",
       "      <td>10000.00000<\/td>\n",
       "      <td>1.000000e+04<\/td>\n",
       "    <\/tr>\n",
       "    <tr>\n",
       "      <th>mean<\/th>\n",
       "      <td>49870.13120<\/td>\n",
       "      <td>50.358400<\/td>\n",
       "      <td>0.508700<\/td>\n",
       "      <td>0.496800<\/td>\n",
       "      <td>50.276300<\/td>\n",
       "      <td>50225.486100<\/td>\n",
       "      <td>5.510100<\/td>\n",
       "      <td>5.521700<\/td>\n",
       "      <td>2005.48850<\/td>\n",
       "      <td>0.499100<\/td>\n",
       "      <td>0.499900<\/td>\n",
       "      <td>5033.103900<\/td>\n",
       "      <td>5028.01060<\/td>\n",
       "      <td>553.12120<\/td>\n",
       "      <td>0.503000<\/td>\n",
       "      <td>4.99460<\/td>\n",
       "      <td>4.993448e+06<\/td>\n",
       "    <\/tr>\n",
       "    <tr>\n",
       "      <th>std<\/th>\n",
       "      <td>28774.37535<\/td>\n",
       "      <td>28.816696<\/td>\n",
       "      <td>0.499949<\/td>\n",
       "      <td>0.500015<\/td>\n",
       "      <td>28.889171<\/td>\n",
       "      <td>29006.675799<\/td>\n",
       "      <td>2.872024<\/td>\n",
       "      <td>2.856667<\/td>\n",
       "      <td>9.30809<\/td>\n",
       "      <td>0.500024<\/td>\n",
       "      <td>0.500025<\/td>\n",
       "      <td>2876.729545<\/td>\n",
       "      <td>2894.33221<\/td>\n",
       "      <td>262.05017<\/td>\n",
       "      <td>0.500016<\/td>\n",
       "      <td>3.17641<\/td>\n",
       "      <td>2.877424e+06<\/td>\n",
       "    <\/tr>\n",
       "    <tr>\n",
       "      <th>min<\/th>\n",
       "      <td>89.00000<\/td>\n",
       "      <td>1.000000<\/td>\n",
       "      <td>0.000000<\/td>\n",
       "      <td>0.000000<\/td>\n",
       "      <td>1.000000<\/td>\n",
       "      <td>3.000000<\/td>\n",
       "      <td>1.000000<\/td>\n",
       "      <td>1.000000<\/td>\n",
       "      <td>1990.00000<\/td>\n",
       "      <td>0.000000<\/td>\n",
       "      <td>0.000000<\/td>\n",
       "      <td>0.000000<\/td>\n",
       "      <td>1.00000<\/td>\n",
       "      <td>100.00000<\/td>\n",
       "      <td>0.000000<\/td>\n",
       "      <td>0.00000<\/td>\n",
       "      <td>1.031350e+04<\/td>\n",
       "    <\/tr>\n",
       "    <tr>\n",
       "      <th>25%<\/th>\n",
       "      <td>25098.50000<\/td>\n",
       "      <td>25.000000<\/td>\n",
       "      <td>0.000000<\/td>\n",
       "      <td>0.000000<\/td>\n",
       "      <td>25.000000<\/td>\n",
       "      <td>24693.750000<\/td>\n",
       "      <td>3.000000<\/td>\n",
       "      <td>3.000000<\/td>\n",
       "      <td>1997.00000<\/td>\n",
       "      <td>0.000000<\/td>\n",
       "      <td>0.000000<\/td>\n",
       "      <td>2559.750000<\/td>\n",
       "      <td>2512.00000<\/td>\n",
       "      <td>327.75000<\/td>\n",
       "      <td>0.000000<\/td>\n",
       "      <td>2.00000<\/td>\n",
       "      <td>2.516402e+06<\/td>\n",
       "    <\/tr>\n",
       "    <tr>\n",
       "      <th>50%<\/th>\n",
       "      <td>50105.50000<\/td>\n",
       "      <td>50.000000<\/td>\n",
       "      <td>1.000000<\/td>\n",
       "      <td>0.000000<\/td>\n",
       "      <td>50.000000<\/td>\n",
       "      <td>50693.000000<\/td>\n",
       "      <td>5.000000<\/td>\n",
       "      <td>5.000000<\/td>\n",
       "      <td>2005.50000<\/td>\n",
       "      <td>0.000000<\/td>\n",
       "      <td>0.000000<\/td>\n",
       "      <td>5092.500000<\/td>\n",
       "      <td>5045.00000<\/td>\n",
       "      <td>554.00000<\/td>\n",
       "      <td>1.000000<\/td>\n",
       "      <td>5.00000<\/td>\n",
       "      <td>5.016180e+06<\/td>\n",
       "    <\/tr>\n",
       "    <tr>\n",
       "      <th>75%<\/th>\n",
       "      <td>74609.75000<\/td>\n",
       "      <td>75.000000<\/td>\n",
       "      <td>1.000000<\/td>\n",
       "      <td>1.000000<\/td>\n",
       "      <td>76.000000<\/td>\n",
       "      <td>75683.250000<\/td>\n",
       "      <td>8.000000<\/td>\n",
       "      <td>8.000000<\/td>\n",
       "      <td>2014.00000<\/td>\n",
       "      <td>1.000000<\/td>\n",
       "      <td>1.000000<\/td>\n",
       "      <td>7511.250000<\/td>\n",
       "      <td>7540.50000<\/td>\n",
       "      <td>777.25000<\/td>\n",
       "      <td>1.000000<\/td>\n",
       "      <td>8.00000<\/td>\n",
       "      <td>7.469092e+06<\/td>\n",
       "    <\/tr>\n",
       "    <tr>\n",
       "      <th>max<\/th>\n",
       "      <td>99999.00000<\/td>\n",
       "      <td>100.000000<\/td>\n",
       "      <td>1.000000<\/td>\n",
       "      <td>1.000000<\/td>\n",
       "      <td>100.000000<\/td>\n",
       "      <td>99953.000000<\/td>\n",
       "      <td>10.000000<\/td>\n",
       "      <td>10.000000<\/td>\n",
       "      <td>2021.00000<\/td>\n",
       "      <td>1.000000<\/td>\n",
       "      <td>1.000000<\/td>\n",
       "      <td>10000.000000<\/td>\n",
       "      <td>10000.00000<\/td>\n",
       "      <td>1000.00000<\/td>\n",
       "      <td>1.000000<\/td>\n",
       "      <td>10.00000<\/td>\n",
       "      <td>1.000677e+07<\/td>\n",
       "    <\/tr>\n",
       "  <\/tbody>\n",
       "<\/table>\n",
       "<\/div>"
      ]
     },
     "metadata":{
      
     },
     "output_type":"display_data"
    }
   ],
   "metadata":{
    "datalore":{
     "type":"CODE",
     "hide_input_from_viewers":false,
     "hide_output_from_viewers":false
    }
   }
  },
  {
   "cell_type":"code",
   "source":[
    "df.isnull().sum().sort_values(ascending=False)"
   ],
   "execution_count":6,
   "outputs":[
    {
     "data":{
      "text\/html":[
       
      ]
     },
     "metadata":{
      
     },
     "output_type":"display_data"
    }
   ],
   "metadata":{
    "datalore":{
     "type":"CODE",
     "hide_input_from_viewers":false,
     "hide_output_from_viewers":false
    }
   }
  },
  {
   "cell_type":"code",
   "source":[
    "fig = plt.figure(figsize = (8,7))\n",
    "data_ploting = df.corr(method= 'pearson')\n",
    "sns.heatmap(data_ploting, cmap='Wistia', linecolor='black', linewidths= 2 )\n",
    "plt.show()"
   ],
   "execution_count":7,
   "outputs":[
    {
     "data":{
      "image\/png":"[encoded data removed]"
     },
     "metadata":{
      "image\/png":{
       
      }
     },
     "output_type":"display_data"
    }
   ],
   "metadata":{
    "datalore":{
     "type":"CODE",
     "hide_input_from_viewers":false,
     "hide_output_from_viewers":false
    }
   }
  },
  {
   "cell_type":"code",
   "source":[
    "df['category'] = pd.factorize(df['category'])[0] + 1\n",
    "X = df.drop('category', axis = 1)\n",
    "y = df['category']\n",
    "X_train, X_test, y_train, y_test= train_test_split(X, y, test_size=0.3, random_state=101)"
   ],
   "execution_count":8,
   "outputs":[
    
   ],
   "metadata":{
    "datalore":{
     "type":"CODE",
     "hide_input_from_viewers":false,
     "hide_output_from_viewers":false
    }
   }
  },
  {
   "cell_type":"code",
   "source":[
    "scaler_train= StandardScaler()\n",
    "scaler_train.fit(X_train)\n",
    "scaler_test= StandardScaler()\n",
    "scaler_test.fit(X_test)\n",
    "X_train_scaled= scaler_train.transform(X_train)\n",
    "X_test_scaled= scaler_test.transform(X_test)"
   ],
   "execution_count":9,
   "outputs":[
    
   ],
   "metadata":{
    "datalore":{
     "type":"CODE",
     "hide_input_from_viewers":false,
     "hide_output_from_viewers":false
    }
   }
  },
  {
   "cell_type":"code",
   "source":[
    "XGB_model = XGBClassifier(n_estimators=1000, learning_rate=0.05)\n",
    "XGB_model.fit(X_train_scaled,y_train)"
   ],
   "execution_count":10,
   "outputs":[
    {
     "name":"stdout",
     "text":[
      "[04:22:42] WARNING: ..\/src\/learner.cc:1115: Starting in XGBoost 1.3.0, the default evaluation metric used with the objective 'binary:logistic' was changed from 'error' to 'logloss'. Explicitly set eval_metric if you'd like to restore the old behavior.\n"
     ],
     "output_type":"stream"
    },
    {
     "data":{
      "text\/plain":[
       "XGBClassifier(base_score=0.5, booster='gbtree', colsample_bylevel=1,\n",
       "              colsample_bynode=1, colsample_bytree=1, enable_categorical=False,\n",
       "              gamma=0, gpu_id=-1, importance_type=None,\n",
       "              interaction_constraints='', learning_rate=0.05, max_delta_step=0,\n",
       "              max_depth=6, min_child_weight=1, missing=nan,\n",
       "              monotone_constraints='()', n_estimators=1000, n_jobs=2,\n",
       "              num_parallel_tree=1, predictor='auto', random_state=0,\n",
       "              reg_alpha=0, reg_lambda=1, scale_pos_weight=1, subsample=1,\n",
       "              tree_method='exact', validate_parameters=1, verbosity=None)"
      ]
     },
     "metadata":{
      
     },
     "output_type":"display_data"
    }
   ],
   "metadata":{
    "datalore":{
     "type":"CODE",
     "hide_input_from_viewers":false,
     "hide_output_from_viewers":false
    }
   }
  },
  {
   "cell_type":"code",
   "source":[
    "y_pred = XGB_model.predict(X_test_scaled)\n",
    "y_pred = pd.DataFrame(y_pred)\n",
    "MSE_XGB = metrics.mean_squared_error(y_test, y_pred)\n",
    "RMSE_XGB =np.sqrt(MSE_XGB)\n",
    "print(RMSE_XGB)"
   ],
   "execution_count":11,
   "outputs":[
    {
     "name":"stdout",
     "text":[
      "0.0\n"
     ],
     "output_type":"stream"
    }
   ],
   "metadata":{
    "datalore":{
     "type":"CODE",
     "hide_input_from_viewers":false,
     "hide_output_from_viewers":false
    }
   }
  },
  {
   "cell_type":"code",
   "source":[
    "accuracy_score(y_test, y_pred)"
   ],
   "execution_count":13,
   "outputs":[
    {
     "data":{
      "text\/plain":[
       "1.0"
      ]
     },
     "metadata":{
      
     },
     "output_type":"display_data"
    }
   ],
   "metadata":{
    "datalore":{
     "type":"CODE",
     "hide_input_from_viewers":false,
     "hide_output_from_viewers":false
    }
   }
  },
  {
   "cell_type":"code",
   "source":[
    "confusion_matrix(y_test, y_pred)"
   ],
   "execution_count":14,
   "outputs":[
    {
     "data":{
      "text\/html":[
       
      ]
     },
     "metadata":{
      
     },
     "output_type":"display_data"
    }
   ],
   "metadata":{
    "datalore":{
     "type":"CODE",
     "hide_input_from_viewers":false,
     "hide_output_from_viewers":false
    }
   }
  },
  {
   "cell_type":"code",
   "source":[
    "plot_confusion_matrix(XGB_model, X_test_scaled, y_test)"
   ],
   "execution_count":15,
   "outputs":[
    {
     "data":{
      "text\/plain":[
       "<sklearn.metrics._plot.confusion_matrix.ConfusionMatrixDisplay at 0x7f2149f96940>"
      ],
      "image\/png":"[encoded data removed]"
     },
     "metadata":{
      "image\/png":{
       
      }
     },
     "output_type":"display_data"
    }
   ],
   "metadata":{
    "datalore":{
     "type":"CODE",
     "hide_input_from_viewers":false,
     "hide_output_from_viewers":false
    }
   }
  },
  {
   "cell_type":"code",
   "source":[
    "print(classification_report(y_test, y_pred))"
   ],
   "execution_count":16,
   "outputs":[
    {
     "name":"stdout",
     "text":[
      "              precision    recall  f1-score   support\n",
      "\n",
      "           1       1.00      1.00      1.00      2617\n",
      "           2       1.00      1.00      1.00       383\n",
      "\n",
      "    accuracy                           1.00      3000\n",
      "   macro avg       1.00      1.00      1.00      3000\n",
      "weighted avg       1.00      1.00      1.00      3000\n",
      "\n"
     ],
     "output_type":"stream"
    }
   ],
   "metadata":{
    "datalore":{
     "type":"CODE",
     "hide_input_from_viewers":false,
     "hide_output_from_viewers":false
    }
   }
  }
 ],
 "metadata":{
  "datalore":{
   "version":1,
   "computation_mode":"JUPYTER",
   "package_manager":"pip",
   "base_environment":"default",
   "packages":[
    
   ]
  }
 },
 "nbformat":4,
 "nbformat_minor":4
}