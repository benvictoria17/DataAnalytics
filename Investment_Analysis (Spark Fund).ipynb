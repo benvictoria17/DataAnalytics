{
 "cells": [
  {
   "cell_type": "code",
   "execution_count": 1,
   "metadata": {},
   "outputs": [
    {
     "data": {
      "text/html": [
       "<div>\n",
       "<style scoped>\n",
       "    .dataframe tbody tr th:only-of-type {\n",
       "        vertical-align: middle;\n",
       "    }\n",
       "\n",
       "    .dataframe tbody tr th {\n",
       "        vertical-align: top;\n",
       "    }\n",
       "\n",
       "    .dataframe thead th {\n",
       "        text-align: right;\n",
       "    }\n",
       "</style>\n",
       "<table border=\"1\" class=\"dataframe\">\n",
       "  <thead>\n",
       "    <tr style=\"text-align: right;\">\n",
       "      <th></th>\n",
       "      <th>permalink</th>\n",
       "      <th>name</th>\n",
       "      <th>homepage_url</th>\n",
       "      <th>category_list</th>\n",
       "      <th>status</th>\n",
       "      <th>country_code</th>\n",
       "      <th>state_code</th>\n",
       "      <th>region</th>\n",
       "      <th>city</th>\n",
       "      <th>founded_at</th>\n",
       "    </tr>\n",
       "  </thead>\n",
       "  <tbody>\n",
       "    <tr>\n",
       "      <th>0</th>\n",
       "      <td>/ORGANIZATION/-FAME</td>\n",
       "      <td>#fame</td>\n",
       "      <td>http://livfame.com</td>\n",
       "      <td>Media</td>\n",
       "      <td>operating</td>\n",
       "      <td>IND</td>\n",
       "      <td>16</td>\n",
       "      <td>Mumbai</td>\n",
       "      <td>Mumbai</td>\n",
       "      <td>NaN</td>\n",
       "    </tr>\n",
       "    <tr>\n",
       "      <th>1</th>\n",
       "      <td>/ORGANIZATION/-QOUNTER</td>\n",
       "      <td>:Qounter</td>\n",
       "      <td>http://www.qounter.com</td>\n",
       "      <td>Application Platforms|Real Time|Social Network...</td>\n",
       "      <td>operating</td>\n",
       "      <td>USA</td>\n",
       "      <td>DE</td>\n",
       "      <td>DE - Other</td>\n",
       "      <td>Delaware City</td>\n",
       "      <td>04-09-2014</td>\n",
       "    </tr>\n",
       "    <tr>\n",
       "      <th>66366</th>\n",
       "      <td>/ORGANIZATION/ASYS-2</td>\n",
       "      <td>asys</td>\n",
       "      <td>http://www.oasys.io/</td>\n",
       "      <td>Consumer Electronics|Internet of Things|Teleco...</td>\n",
       "      <td>operating</td>\n",
       "      <td>USA</td>\n",
       "      <td>CA</td>\n",
       "      <td>SF Bay Area</td>\n",
       "      <td>San Francisco</td>\n",
       "      <td>01-01-2014</td>\n",
       "    </tr>\n",
       "    <tr>\n",
       "      <th>66367</th>\n",
       "      <td>/ORGANIZATION/NOVATIFF-REKLAM-VE-TANTM-HIZMETL...</td>\n",
       "      <td>novatiff Reklam ve Tantm Hizmetleri Tic</td>\n",
       "      <td>http://inovatiff.com</td>\n",
       "      <td>Consumer Goods|E-Commerce|Internet</td>\n",
       "      <td>operating</td>\n",
       "      <td>NaN</td>\n",
       "      <td>NaN</td>\n",
       "      <td>NaN</td>\n",
       "      <td>NaN</td>\n",
       "      <td>NaN</td>\n",
       "    </tr>\n",
       "  </tbody>\n",
       "</table>\n",
       "</div>"
      ],
      "text/plain": [
       "                                               permalink  \\\n",
       "0                                    /ORGANIZATION/-FAME   \n",
       "1                                 /ORGANIZATION/-QOUNTER   \n",
       "66366                               /ORGANIZATION/ASYS-2   \n",
       "66367  /ORGANIZATION/NOVATIFF-REKLAM-VE-TANTM-HIZMETL...   \n",
       "\n",
       "                                          name            homepage_url  \\\n",
       "0                                        #fame      http://livfame.com   \n",
       "1                                     :Qounter  http://www.qounter.com   \n",
       "66366                                     asys    http://www.oasys.io/   \n",
       "66367  novatiff Reklam ve Tantm Hizmetleri Tic    http://inovatiff.com   \n",
       "\n",
       "                                           category_list     status  \\\n",
       "0                                                  Media  operating   \n",
       "1      Application Platforms|Real Time|Social Network...  operating   \n",
       "66366  Consumer Electronics|Internet of Things|Teleco...  operating   \n",
       "66367                 Consumer Goods|E-Commerce|Internet  operating   \n",
       "\n",
       "      country_code state_code       region           city  founded_at  \n",
       "0              IND         16       Mumbai         Mumbai         NaN  \n",
       "1              USA         DE   DE - Other  Delaware City  04-09-2014  \n",
       "66366          USA         CA  SF Bay Area  San Francisco  01-01-2014  \n",
       "66367          NaN        NaN          NaN            NaN         NaN  "
      ]
     },
     "execution_count": 1,
     "metadata": {},
     "output_type": "execute_result"
    }
   ],
   "source": [
    "import pandas as pd\n",
    "import os\n",
    "\n",
    "companies = pd.read_csv(\"https://raw.githubusercontent.com/benvictoria17/DataVisualization/master/dataset/spark-fund-investment-analysis/companies.txt\", sep=\"\\t\", encoding = \"ISO-8859-1\")\n",
    "companies.permalink = companies.permalink.str.encode('ISO-8859-1').str.decode('ascii', 'ignore')\n",
    "companies.name = companies.name.str.encode('ISO-8859-1').str.decode('ascii', 'ignore')\n",
    "companies['permalink'] = companies['permalink'].str.upper() \n",
    "companies.head(2).append(companies.tail(2)) "
   ]
  },
  {
   "cell_type": "code",
   "execution_count": 2,
   "metadata": {},
   "outputs": [
    {
     "name": "stdout",
     "output_type": "stream",
     "text": [
      "                                        company_permalink  \\\n",
      "0                                     /ORGANIZATION/-FAME   \n",
      "1                                  /ORGANIZATION/-QOUNTER   \n",
      "114947                               /ORGANIZATION/ASYS-2   \n",
      "114948  /ORGANIZATION/NOVATIFF-REKLAM-VE-TANTM-HIZMETL...   \n",
      "\n",
      "                                funding_round_permalink funding_round_type  \\\n",
      "0       /funding-round/9a01d05418af9f794eebff7ace91f638            venture   \n",
      "1       /funding-round/22dacff496eb7acb2b901dec1dfe5633            venture   \n",
      "114947  /funding-round/35f09d0794651719b02bbfd859ba9ff5               seed   \n",
      "114948  /funding-round/af942869878d2cd788ef5189b435ebc4              grant   \n",
      "\n",
      "       funding_round_code   funded_at  raised_amount_usd  \n",
      "0                       B  05-01-2015         10000000.0  \n",
      "1                       A  14-10-2014                NaN  \n",
      "114947                NaN  01-01-2015            18192.0  \n",
      "114948                NaN  01-10-2013            14851.0  \n"
     ]
    }
   ],
   "source": [
    "rounds2 = pd.read_csv(\"https://raw.githubusercontent.com/benvictoria17/DataVisualization/master/dataset/spark-fund-investment-analysis/rounds2.csv\", sep=\",\", encoding = \"ISO-8859-1\")\n",
    "rounds2.company_permalink = rounds2.company_permalink.str.encode('ISO-8859-1').str.decode('ascii', 'ignore')\n",
    "rounds2['company_permalink'] = rounds2['company_permalink'].str.upper() # converting to upper case\n",
    "print(rounds2.head(2).append(rounds2.tail(2))) # Sample 2 top and 2 bottom records"
   ]
  },
  {
   "cell_type": "code",
   "execution_count": 5,
   "metadata": {},
   "outputs": [
    {
     "name": "stdout",
     "output_type": "stream",
     "text": [
      "66368\n",
      "66368\n"
     ]
    }
   ],
   "source": [
    "\n",
    "print(len(rounds2['company_permalink'].unique()))\n",
    "# We can see that unique entries = 66368\n",
    "\n",
    "# Q2. How many unique companies are present in companies?\n",
    "print(len(companies['permalink'].unique()))"
   ]
  },
  {
   "cell_type": "code",
   "execution_count": 6,
   "metadata": {},
   "outputs": [
    {
     "name": "stdout",
     "output_type": "stream",
     "text": [
      "<class 'pandas.core.frame.DataFrame'>\n",
      "True\n"
     ]
    }
   ],
   "source": [
    "temp1 = pd.DataFrame(companies.permalink.unique())\n",
    "temp2 = pd.DataFrame(rounds2.company_permalink.unique())\n",
    "print(type(temp1))          # Checking the data type\n",
    "print(temp2.equals(temp1)) "
   ]
  },
  {
   "cell_type": "code",
   "execution_count": 8,
   "metadata": {},
   "outputs": [
    {
     "name": "stdout",
     "output_type": "stream",
     "text": [
      "(114949, 16)\n"
     ]
    }
   ],
   "source": [
    "master_frame = pd.merge(rounds2, companies, how = 'left', left_on = 'company_permalink', right_on = 'permalink')\n",
    "print(master_frame.shape)  "
   ]
  },
  {
   "cell_type": "code",
   "execution_count": 9,
   "metadata": {},
   "outputs": [
    {
     "name": "stdout",
     "output_type": "stream",
     "text": [
      "company_permalink              0\n",
      "funding_round_permalink        0\n",
      "funding_round_type             0\n",
      "funding_round_code         83809\n",
      "funded_at                      0\n",
      "raised_amount_usd          19990\n",
      "permalink                      0\n",
      "name                           1\n",
      "homepage_url                6134\n",
      "category_list               3410\n",
      "status                         0\n",
      "country_code                8678\n",
      "state_code                 10946\n",
      "region                     10167\n",
      "city                       10164\n",
      "founded_at                 20521\n",
      "dtype: int64\n",
      "Displaying the % missing values\n",
      "company_permalink           0.000000\n",
      "funding_round_permalink     0.000000\n",
      "funding_round_type          0.000000\n",
      "funding_round_code         72.909725\n",
      "funded_at                   0.000000\n",
      "raised_amount_usd          17.390321\n",
      "permalink                   0.000000\n",
      "name                        0.000870\n",
      "homepage_url                5.336280\n",
      "category_list               2.966533\n",
      "status                      0.000000\n",
      "country_code                7.549435\n",
      "state_code                  9.522484\n",
      "region                      8.844792\n",
      "city                        8.842182\n",
      "founded_at                 17.852265\n",
      "dtype: float64\n"
     ]
    }
   ],
   "source": [
    "print(master_frame.isnull().sum(axis=0))\n",
    "print(\"Displaying the % missing values\")\n",
    "print(100*(master_frame.isnull().sum()/len(master_frame.index)))"
   ]
  },
  {
   "cell_type": "code",
   "execution_count": 10,
   "metadata": {},
   "outputs": [
    {
     "name": "stdout",
     "output_type": "stream",
     "text": [
      "Displaying the Updated % missing values\n",
      "company_permalink           0.000000\n",
      "funding_round_permalink     0.000000\n",
      "funding_round_type          0.000000\n",
      "funded_at                   0.000000\n",
      "raised_amount_usd          17.390321\n",
      "permalink                   0.000000\n",
      "name                        0.000870\n",
      "category_list               2.966533\n",
      "status                      0.000000\n",
      "country_code                7.549435\n",
      "dtype: float64\n"
     ]
    }
   ],
   "source": [
    "master_frame = master_frame.drop(['funding_round_code','homepage_url','state_code','region','city','founded_at'], axis =1)\n",
    "print(\"Displaying the Updated % missing values\")\n",
    "print(100*(master_frame.isnull().sum()/len(master_frame.index)))"
   ]
  },
  {
   "cell_type": "code",
   "execution_count": 11,
   "metadata": {},
   "outputs": [
    {
     "data": {
      "text/plain": [
       "count          94959.000000\n",
       "mean        10426869.334502\n",
       "std        114821247.984871\n",
       "min                0.000000\n",
       "25%           322500.000000\n",
       "50%          1680511.000000\n",
       "75%          7000000.000000\n",
       "max      21271935000.000000\n",
       "Name: raised_amount_usd, dtype: object"
      ]
     },
     "execution_count": 11,
     "metadata": {},
     "output_type": "execute_result"
    }
   ],
   "source": [
    "master_frame[\"raised_amount_usd\"].describe().apply(lambda x : format(x, 'f'))"
   ]
  },
  {
   "cell_type": "code",
   "execution_count": 12,
   "metadata": {},
   "outputs": [
    {
     "name": "stdout",
     "output_type": "stream",
     "text": [
      "Displaying the updated % missing values again\n",
      "company_permalink          0.00000\n",
      "funding_round_permalink    0.00000\n",
      "funding_round_type         0.00000\n",
      "funded_at                  0.00000\n",
      "raised_amount_usd          0.00000\n",
      "permalink                  0.00000\n",
      "name                       0.00113\n",
      "category_list              0.00000\n",
      "status                     0.00000\n",
      "country_code               0.00000\n",
      "dtype: float64\n"
     ]
    }
   ],
   "source": [
    "master_frame = master_frame[~(master_frame['raised_amount_usd'].isnull() | master_frame['country_code'].isnull() |\n",
    "                             master_frame['category_list'].isnull())]\n",
    "\n",
    "print(\"Displaying the updated % missing values again\")\n",
    "print(100*(master_frame.isnull().sum()/len(master_frame.index)))"
   ]
  },
  {
   "cell_type": "code",
   "execution_count": 13,
   "metadata": {},
   "outputs": [
    {
     "name": "stdout",
     "output_type": "stream",
     "text": [
      "(88529, 10)\n",
      "<class 'pandas.core.frame.DataFrame'>\n",
      "Int64Index: 88529 entries, 0 to 114947\n",
      "Data columns (total 10 columns):\n",
      " #   Column                   Non-Null Count  Dtype  \n",
      "---  ------                   --------------  -----  \n",
      " 0   company_permalink        88529 non-null  object \n",
      " 1   funding_round_permalink  88529 non-null  object \n",
      " 2   funding_round_type       88529 non-null  object \n",
      " 3   funded_at                88529 non-null  object \n",
      " 4   raised_amount_usd        88529 non-null  float64\n",
      " 5   permalink                88529 non-null  object \n",
      " 6   name                     88528 non-null  object \n",
      " 7   category_list            88529 non-null  object \n",
      " 8   status                   88529 non-null  object \n",
      " 9   country_code             88529 non-null  object \n",
      "dtypes: float64(1), object(9)\n",
      "memory usage: 7.4+ MB\n",
      "None\n",
      "(88529, 10)\n",
      "<class 'pandas.core.frame.DataFrame'>\n",
      "Int64Index: 88529 entries, 0 to 114947\n",
      "Data columns (total 10 columns):\n",
      " #   Column                   Non-Null Count  Dtype  \n",
      "---  ------                   --------------  -----  \n",
      " 0   company_permalink        88529 non-null  object \n",
      " 1   funding_round_permalink  88529 non-null  object \n",
      " 2   funding_round_type       88529 non-null  object \n",
      " 3   funded_at                88529 non-null  object \n",
      " 4   raised_amount_usd        88529 non-null  float64\n",
      " 5   permalink                88529 non-null  object \n",
      " 6   name                     88528 non-null  object \n",
      " 7   category_list            88529 non-null  object \n",
      " 8   status                   88529 non-null  object \n",
      " 9   country_code             88529 non-null  object \n",
      "dtypes: float64(1), object(9)\n",
      "memory usage: 7.4+ MB\n",
      "None\n"
     ]
    }
   ],
   "source": [
    "print(master_frame.shape)   # Total no. of records and Columns\n",
    "print(master_frame.info())  # df info\n",
    "master_copy = master_frame  # to be used for plotting the graphs later on\n",
    "print(master_copy.shape)    # Ensuring we have all the data in copied df\n",
    "print(master_copy.info())"
   ]
  },
  {
   "cell_type": "code",
   "execution_count": 15,
   "metadata": {},
   "outputs": [
    {
     "data": {
      "text/plain": [
       "venture                  47809\n",
       "seed                     21095\n",
       "debt_financing            6506\n",
       "angel                     4400\n",
       "grant                     1939\n",
       "private_equity            1820\n",
       "undisclosed               1345\n",
       "convertible_note          1320\n",
       "equity_crowdfunding       1128\n",
       "post_ipo_equity            598\n",
       "product_crowdfunding       330\n",
       "post_ipo_debt              151\n",
       "non_equity_assistance       60\n",
       "secondary_market            28\n",
       "Name: funding_round_type, dtype: int64"
      ]
     },
     "execution_count": 15,
     "metadata": {},
     "output_type": "execute_result"
    }
   ],
   "source": [
    "master_frame.funding_round_type.value_counts()   "
   ]
  },
  {
   "cell_type": "code",
   "execution_count": 16,
   "metadata": {},
   "outputs": [
    {
     "data": {
      "text/plain": [
       "funding_round_type\n",
       "angel                      0.971574\n",
       "convertible_note           1.337187\n",
       "debt_financing            17.167653\n",
       "equity_crowdfunding        0.509898\n",
       "grant                      4.512698\n",
       "non_equity_assistance      0.480753\n",
       "post_ipo_debt            169.451790\n",
       "post_ipo_equity           66.077059\n",
       "private_equity            73.938486\n",
       "product_crowdfunding       1.353227\n",
       "secondary_market          84.438532\n",
       "seed                       0.747794\n",
       "undisclosed               15.891661\n",
       "venture                   11.724223\n",
       "Name: raised_amount_usd, dtype: object"
      ]
     },
     "execution_count": 16,
     "metadata": {},
     "output_type": "execute_result"
    }
   ],
   "source": [
    "(master_frame.groupby('funding_round_type').raised_amount_usd.mean()/1000000).apply(lambda x: format(x, 'f'))"
   ]
  },
  {
   "cell_type": "code",
   "execution_count": 19,
   "metadata": {},
   "outputs": [
    {
     "data": {
      "text/plain": [
       "venture    47809\n",
       "Name: funding_round_type, dtype: int64"
      ]
     },
     "execution_count": 19,
     "metadata": {},
     "output_type": "execute_result"
    }
   ],
   "source": [
    "master_frame = master_frame[(master_frame['funding_round_type'] == 'venture')]\n",
    "master_frame.funding_round_type.value_counts()"
   ]
  },
  {
   "cell_type": "code",
   "execution_count": 20,
   "metadata": {},
   "outputs": [
    {
     "name": "stdout",
     "output_type": "stream",
     "text": [
      "country_code\n",
      "USA    420068029342.000000\n",
      "CHN     39338918773.000000\n",
      "GBR     20072813004.000000\n",
      "IND     14261508718.000000\n",
      "CAN      9482217668.000000\n",
      "FRA      7226851352.000000\n",
      "ISR      6854350477.000000\n",
      "DEU      6306921981.000000\n",
      "JPN      3167647127.000000\n",
      "Name: raised_amount_usd, dtype: object\n"
     ]
    }
   ],
   "source": [
    "country_total = master_frame.groupby('country_code')['raised_amount_usd'].sum().sort_values(ascending=False)\\\n",
    ".apply(lambda x: format(x, 'f'))  # continuation of above line\n",
    "top9 = country_total[:9] \n",
    "print(top9)"
   ]
  },
  {
   "cell_type": "code",
   "execution_count": 21,
   "metadata": {},
   "outputs": [
    {
     "name": "stdout",
     "output_type": "stream",
     "text": [
      "country_code\n",
      "GBR    2.007281e+10\n",
      "IND    1.426151e+10\n",
      "USA    4.200680e+11\n",
      "Name: raised_amount_usd, dtype: float64\n"
     ]
    },
    {
     "data": {
      "text/plain": [
       "USA    35943\n",
       "GBR     2041\n",
       "IND      819\n",
       "Name: country_code, dtype: int64"
      ]
     },
     "execution_count": 21,
     "metadata": {},
     "output_type": "execute_result"
    }
   ],
   "source": [
    "master_frame = master_frame[(master_frame['country_code'] == 'USA')\n",
    "                            | (master_frame['country_code'] == 'GBR')\n",
    "                            | (master_frame['country_code'] == 'IND')]\n",
    "print(master_frame.groupby('country_code')['raised_amount_usd'].sum())\n",
    "master_frame.country_code.value_counts()     "
   ]
  },
  {
   "cell_type": "code",
   "execution_count": 22,
   "metadata": {},
   "outputs": [
    {
     "name": "stdout",
     "output_type": "stream",
     "text": [
      "0         Media\n",
      "10    Analytics\n",
      "11    Analytics\n",
      "12    Analytics\n",
      "22         Apps\n",
      "Name: category_list, dtype: object\n"
     ]
    }
   ],
   "source": [
    "master_frame['category_list'] = master_frame['category_list'].apply(lambda x: x.split('|')[0])\n",
    "print(master_frame['category_list'].head())"
   ]
  },
  {
   "cell_type": "code",
   "execution_count": 23,
   "metadata": {},
   "outputs": [
    {
     "data": {
      "text/html": [
       "<div>\n",
       "<style scoped>\n",
       "    .dataframe tbody tr th:only-of-type {\n",
       "        vertical-align: middle;\n",
       "    }\n",
       "\n",
       "    .dataframe tbody tr th {\n",
       "        vertical-align: top;\n",
       "    }\n",
       "\n",
       "    .dataframe thead th {\n",
       "        text-align: right;\n",
       "    }\n",
       "</style>\n",
       "<table border=\"1\" class=\"dataframe\">\n",
       "  <thead>\n",
       "    <tr style=\"text-align: right;\">\n",
       "      <th></th>\n",
       "      <th>category_list</th>\n",
       "      <th>Automotive &amp; Sports</th>\n",
       "      <th>Blanks</th>\n",
       "      <th>Cleantech / Semiconductors</th>\n",
       "      <th>Entertainment</th>\n",
       "      <th>Health</th>\n",
       "      <th>Manufacturing</th>\n",
       "      <th>News, Search and Messaging</th>\n",
       "      <th>Others</th>\n",
       "      <th>Social, Finance, Analytics, Advertising</th>\n",
       "    </tr>\n",
       "  </thead>\n",
       "  <tbody>\n",
       "    <tr>\n",
       "      <th>0</th>\n",
       "      <td>NaN</td>\n",
       "      <td>0</td>\n",
       "      <td>1</td>\n",
       "      <td>0</td>\n",
       "      <td>0</td>\n",
       "      <td>0</td>\n",
       "      <td>0</td>\n",
       "      <td>0</td>\n",
       "      <td>0</td>\n",
       "      <td>0</td>\n",
       "    </tr>\n",
       "    <tr>\n",
       "      <th>1</th>\n",
       "      <td>3D</td>\n",
       "      <td>0</td>\n",
       "      <td>0</td>\n",
       "      <td>0</td>\n",
       "      <td>0</td>\n",
       "      <td>0</td>\n",
       "      <td>1</td>\n",
       "      <td>0</td>\n",
       "      <td>0</td>\n",
       "      <td>0</td>\n",
       "    </tr>\n",
       "    <tr>\n",
       "      <th>2</th>\n",
       "      <td>3D Printing</td>\n",
       "      <td>0</td>\n",
       "      <td>0</td>\n",
       "      <td>0</td>\n",
       "      <td>0</td>\n",
       "      <td>0</td>\n",
       "      <td>1</td>\n",
       "      <td>0</td>\n",
       "      <td>0</td>\n",
       "      <td>0</td>\n",
       "    </tr>\n",
       "    <tr>\n",
       "      <th>3</th>\n",
       "      <td>3D Technology</td>\n",
       "      <td>0</td>\n",
       "      <td>0</td>\n",
       "      <td>0</td>\n",
       "      <td>0</td>\n",
       "      <td>0</td>\n",
       "      <td>1</td>\n",
       "      <td>0</td>\n",
       "      <td>0</td>\n",
       "      <td>0</td>\n",
       "    </tr>\n",
       "    <tr>\n",
       "      <th>4</th>\n",
       "      <td>Accounting</td>\n",
       "      <td>0</td>\n",
       "      <td>0</td>\n",
       "      <td>0</td>\n",
       "      <td>0</td>\n",
       "      <td>0</td>\n",
       "      <td>0</td>\n",
       "      <td>0</td>\n",
       "      <td>0</td>\n",
       "      <td>1</td>\n",
       "    </tr>\n",
       "  </tbody>\n",
       "</table>\n",
       "</div>"
      ],
      "text/plain": [
       "   category_list  Automotive & Sports  Blanks  Cleantech / Semiconductors  \\\n",
       "0            NaN                    0       1                           0   \n",
       "1             3D                    0       0                           0   \n",
       "2    3D Printing                    0       0                           0   \n",
       "3  3D Technology                    0       0                           0   \n",
       "4     Accounting                    0       0                           0   \n",
       "\n",
       "   Entertainment  Health  Manufacturing  News, Search and Messaging  Others  \\\n",
       "0              0       0              0                           0       0   \n",
       "1              0       0              1                           0       0   \n",
       "2              0       0              1                           0       0   \n",
       "3              0       0              1                           0       0   \n",
       "4              0       0              0                           0       0   \n",
       "\n",
       "   Social, Finance, Analytics, Advertising  \n",
       "0                                        0  \n",
       "1                                        0  \n",
       "2                                        0  \n",
       "3                                        0  \n",
       "4                                        1  "
      ]
     },
     "execution_count": 23,
     "metadata": {},
     "output_type": "execute_result"
    }
   ],
   "source": [
    "mapping = pd.read_csv(\"https://raw.githubusercontent.com/benvictoria17/DataVisualization/master/dataset/spark-fund-investment-analysis/mapping.csv\", sep = \",\" )\n",
    "mapping.category_list = mapping.category_list.replace({'0':'na', '2.na' :'2.0'}, regex=True) # to replace 0 with na\n",
    "mapping.head()"
   ]
  },
  {
   "cell_type": "code",
   "execution_count": 24,
   "metadata": {},
   "outputs": [
    {
     "data": {
      "text/html": [
       "<div>\n",
       "<style scoped>\n",
       "    .dataframe tbody tr th:only-of-type {\n",
       "        vertical-align: middle;\n",
       "    }\n",
       "\n",
       "    .dataframe tbody tr th {\n",
       "        vertical-align: top;\n",
       "    }\n",
       "\n",
       "    .dataframe thead th {\n",
       "        text-align: right;\n",
       "    }\n",
       "</style>\n",
       "<table border=\"1\" class=\"dataframe\">\n",
       "  <thead>\n",
       "    <tr style=\"text-align: right;\">\n",
       "      <th></th>\n",
       "      <th>category_list</th>\n",
       "      <th>main_sector</th>\n",
       "    </tr>\n",
       "  </thead>\n",
       "  <tbody>\n",
       "    <tr>\n",
       "      <th>1</th>\n",
       "      <td>3D</td>\n",
       "      <td>Manufacturing</td>\n",
       "    </tr>\n",
       "    <tr>\n",
       "      <th>2</th>\n",
       "      <td>3D Printing</td>\n",
       "      <td>Manufacturing</td>\n",
       "    </tr>\n",
       "    <tr>\n",
       "      <th>3</th>\n",
       "      <td>3D Technology</td>\n",
       "      <td>Manufacturing</td>\n",
       "    </tr>\n",
       "    <tr>\n",
       "      <th>7</th>\n",
       "      <td>Advanced Materials</td>\n",
       "      <td>Manufacturing</td>\n",
       "    </tr>\n",
       "    <tr>\n",
       "      <th>15</th>\n",
       "      <td>Agriculture</td>\n",
       "      <td>Manufacturing</td>\n",
       "    </tr>\n",
       "  </tbody>\n",
       "</table>\n",
       "</div>"
      ],
      "text/plain": [
       "         category_list    main_sector\n",
       "1                   3D  Manufacturing\n",
       "2          3D Printing  Manufacturing\n",
       "3        3D Technology  Manufacturing\n",
       "7   Advanced Materials  Manufacturing\n",
       "15         Agriculture  Manufacturing"
      ]
     },
     "execution_count": 24,
     "metadata": {},
     "output_type": "execute_result"
    }
   ],
   "source": [
    "\n",
    "mapping = pd.melt(mapping, id_vars =['category_list'], value_vars =['Manufacturing','Automotive & Sports',\n",
    "                                                              'Cleantech / Semiconductors','Entertainment',\n",
    "                                                             'Health','News, Search and Messaging','Others',\n",
    "                                                             'Social, Finance, Analytics, Advertising']) \n",
    "mapping = mapping[~(mapping.value == 0)]\n",
    "mapping = mapping.drop('value', axis = 1)\n",
    "mapping = mapping.rename(columns = {\"variable\":\"main_sector\"})\n",
    "mapping.head()"
   ]
  },
  {
   "cell_type": "code",
   "execution_count": 25,
   "metadata": {},
   "outputs": [
    {
     "data": {
      "text/html": [
       "<div>\n",
       "<style scoped>\n",
       "    .dataframe tbody tr th:only-of-type {\n",
       "        vertical-align: middle;\n",
       "    }\n",
       "\n",
       "    .dataframe tbody tr th {\n",
       "        vertical-align: top;\n",
       "    }\n",
       "\n",
       "    .dataframe thead th {\n",
       "        text-align: right;\n",
       "    }\n",
       "</style>\n",
       "<table border=\"1\" class=\"dataframe\">\n",
       "  <thead>\n",
       "    <tr style=\"text-align: right;\">\n",
       "      <th></th>\n",
       "      <th>company_permalink</th>\n",
       "      <th>funding_round_permalink</th>\n",
       "      <th>funding_round_type</th>\n",
       "      <th>funded_at</th>\n",
       "      <th>raised_amount_usd</th>\n",
       "      <th>permalink</th>\n",
       "      <th>name</th>\n",
       "      <th>category_list</th>\n",
       "      <th>status</th>\n",
       "      <th>country_code</th>\n",
       "      <th>main_sector</th>\n",
       "    </tr>\n",
       "  </thead>\n",
       "  <tbody>\n",
       "    <tr>\n",
       "      <th>0</th>\n",
       "      <td>/ORGANIZATION/-FAME</td>\n",
       "      <td>/funding-round/9a01d05418af9f794eebff7ace91f638</td>\n",
       "      <td>venture</td>\n",
       "      <td>05-01-2015</td>\n",
       "      <td>10000000.0</td>\n",
       "      <td>/ORGANIZATION/-FAME</td>\n",
       "      <td>#fame</td>\n",
       "      <td>Media</td>\n",
       "      <td>operating</td>\n",
       "      <td>IND</td>\n",
       "      <td>Entertainment</td>\n",
       "    </tr>\n",
       "    <tr>\n",
       "      <th>1</th>\n",
       "      <td>/ORGANIZATION/0XDATA</td>\n",
       "      <td>/funding-round/3bb2ee4a2d89251a10aaa735b1180e44</td>\n",
       "      <td>venture</td>\n",
       "      <td>09-11-2015</td>\n",
       "      <td>20000000.0</td>\n",
       "      <td>/ORGANIZATION/0XDATA</td>\n",
       "      <td>H2O.ai</td>\n",
       "      <td>Analytics</td>\n",
       "      <td>operating</td>\n",
       "      <td>USA</td>\n",
       "      <td>Social, Finance, Analytics, Advertising</td>\n",
       "    </tr>\n",
       "    <tr>\n",
       "      <th>2</th>\n",
       "      <td>/ORGANIZATION/0XDATA</td>\n",
       "      <td>/funding-round/ae2a174c06517c2394aed45006322a7e</td>\n",
       "      <td>venture</td>\n",
       "      <td>03-01-2013</td>\n",
       "      <td>1700000.0</td>\n",
       "      <td>/ORGANIZATION/0XDATA</td>\n",
       "      <td>H2O.ai</td>\n",
       "      <td>Analytics</td>\n",
       "      <td>operating</td>\n",
       "      <td>USA</td>\n",
       "      <td>Social, Finance, Analytics, Advertising</td>\n",
       "    </tr>\n",
       "    <tr>\n",
       "      <th>3</th>\n",
       "      <td>/ORGANIZATION/0XDATA</td>\n",
       "      <td>/funding-round/e1cfcbe1bdf4c70277c5f29a3482f24e</td>\n",
       "      <td>venture</td>\n",
       "      <td>19-07-2014</td>\n",
       "      <td>8900000.0</td>\n",
       "      <td>/ORGANIZATION/0XDATA</td>\n",
       "      <td>H2O.ai</td>\n",
       "      <td>Analytics</td>\n",
       "      <td>operating</td>\n",
       "      <td>USA</td>\n",
       "      <td>Social, Finance, Analytics, Advertising</td>\n",
       "    </tr>\n",
       "    <tr>\n",
       "      <th>4</th>\n",
       "      <td>/ORGANIZATION/1-MAINSTREAM</td>\n",
       "      <td>/funding-round/b952cbaf401f310927430c97b68162ea</td>\n",
       "      <td>venture</td>\n",
       "      <td>17-03-2015</td>\n",
       "      <td>5000000.0</td>\n",
       "      <td>/ORGANIZATION/1-MAINSTREAM</td>\n",
       "      <td>1 Mainstream</td>\n",
       "      <td>Apps</td>\n",
       "      <td>acquired</td>\n",
       "      <td>USA</td>\n",
       "      <td>News, Search and Messaging</td>\n",
       "    </tr>\n",
       "  </tbody>\n",
       "</table>\n",
       "</div>"
      ],
      "text/plain": [
       "            company_permalink  \\\n",
       "0         /ORGANIZATION/-FAME   \n",
       "1        /ORGANIZATION/0XDATA   \n",
       "2        /ORGANIZATION/0XDATA   \n",
       "3        /ORGANIZATION/0XDATA   \n",
       "4  /ORGANIZATION/1-MAINSTREAM   \n",
       "\n",
       "                           funding_round_permalink funding_round_type  \\\n",
       "0  /funding-round/9a01d05418af9f794eebff7ace91f638            venture   \n",
       "1  /funding-round/3bb2ee4a2d89251a10aaa735b1180e44            venture   \n",
       "2  /funding-round/ae2a174c06517c2394aed45006322a7e            venture   \n",
       "3  /funding-round/e1cfcbe1bdf4c70277c5f29a3482f24e            venture   \n",
       "4  /funding-round/b952cbaf401f310927430c97b68162ea            venture   \n",
       "\n",
       "    funded_at  raised_amount_usd                   permalink          name  \\\n",
       "0  05-01-2015         10000000.0         /ORGANIZATION/-FAME         #fame   \n",
       "1  09-11-2015         20000000.0        /ORGANIZATION/0XDATA        H2O.ai   \n",
       "2  03-01-2013          1700000.0        /ORGANIZATION/0XDATA        H2O.ai   \n",
       "3  19-07-2014          8900000.0        /ORGANIZATION/0XDATA        H2O.ai   \n",
       "4  17-03-2015          5000000.0  /ORGANIZATION/1-MAINSTREAM  1 Mainstream   \n",
       "\n",
       "  category_list     status country_code  \\\n",
       "0         Media  operating          IND   \n",
       "1     Analytics  operating          USA   \n",
       "2     Analytics  operating          USA   \n",
       "3     Analytics  operating          USA   \n",
       "4          Apps   acquired          USA   \n",
       "\n",
       "                               main_sector  \n",
       "0                            Entertainment  \n",
       "1  Social, Finance, Analytics, Advertising  \n",
       "2  Social, Finance, Analytics, Advertising  \n",
       "3  Social, Finance, Analytics, Advertising  \n",
       "4               News, Search and Messaging  "
      ]
     },
     "execution_count": 25,
     "metadata": {},
     "output_type": "execute_result"
    }
   ],
   "source": [
    "master_frame = master_frame.merge(mapping, how = 'left', on = \"category_list\")\n",
    "master_frame.head()"
   ]
  },
  {
   "cell_type": "code",
   "execution_count": 26,
   "metadata": {},
   "outputs": [
    {
     "name": "stdout",
     "output_type": "stream",
     "text": [
      "['Entertainment' 'Social, Finance, Analytics, Advertising'\n",
      " 'News, Search and Messaging' 'Others' 'Health'\n",
      " 'Cleantech / Semiconductors' 'Manufacturing' 'Automotive & Sports' nan]\n",
      "company_permalink            0\n",
      "funding_round_permalink      0\n",
      "funding_round_type           0\n",
      "funded_at                    0\n",
      "raised_amount_usd            0\n",
      "permalink                    0\n",
      "name                         0\n",
      "category_list                0\n",
      "status                       0\n",
      "country_code                 0\n",
      "main_sector                165\n",
      "dtype: int64\n"
     ]
    }
   ],
   "source": [
    "print(master_frame[\"main_sector\"].unique())\n",
    "print(master_frame.isnull().sum(axis=0))"
   ]
  },
  {
   "cell_type": "code",
   "execution_count": 27,
   "metadata": {},
   "outputs": [
    {
     "name": "stdout",
     "output_type": "stream",
     "text": [
      "checking the values of main_sector again\n",
      "company_permalink          0\n",
      "funding_round_permalink    0\n",
      "funding_round_type         0\n",
      "funded_at                  0\n",
      "raised_amount_usd          0\n",
      "permalink                  0\n",
      "name                       0\n",
      "category_list              0\n",
      "status                     0\n",
      "country_code               0\n",
      "main_sector                0\n",
      "dtype: int64\n",
      "<class 'pandas.core.frame.DataFrame'>\n",
      "Int64Index: 38638 entries, 0 to 38802\n",
      "Data columns (total 11 columns):\n",
      " #   Column                   Non-Null Count  Dtype  \n",
      "---  ------                   --------------  -----  \n",
      " 0   company_permalink        38638 non-null  object \n",
      " 1   funding_round_permalink  38638 non-null  object \n",
      " 2   funding_round_type       38638 non-null  object \n",
      " 3   funded_at                38638 non-null  object \n",
      " 4   raised_amount_usd        38638 non-null  float64\n",
      " 5   permalink                38638 non-null  object \n",
      " 6   name                     38638 non-null  object \n",
      " 7   category_list            38638 non-null  object \n",
      " 8   status                   38638 non-null  object \n",
      " 9   country_code             38638 non-null  object \n",
      " 10  main_sector              38638 non-null  object \n",
      "dtypes: float64(1), object(10)\n",
      "memory usage: 3.5+ MB\n"
     ]
    }
   ],
   "source": [
    "master_frame = master_frame[~(master_frame.main_sector.isnull())]\n",
    "print(\"checking the values of main_sector again\")\n",
    "print(master_frame.isnull().sum(axis=0))\n",
    "master_frame.info()\n",
    "\n",
    "master_top3 = master_frame"
   ]
  },
  {
   "cell_type": "code",
   "execution_count": 28,
   "metadata": {},
   "outputs": [
    {
     "name": "stderr",
     "output_type": "stream",
     "text": [
      "/Users/thomo/opt/anaconda3/lib/python3.8/site-packages/pandas/core/reshape/merge.py:643: UserWarning: merging between different levels can give an unintended result (1 levels on the left,2 on the right)\n",
      "  warnings.warn(msg, UserWarning)\n"
     ]
    },
    {
     "data": {
      "text/html": [
       "<div>\n",
       "<style scoped>\n",
       "    .dataframe tbody tr th:only-of-type {\n",
       "        vertical-align: middle;\n",
       "    }\n",
       "\n",
       "    .dataframe tbody tr th {\n",
       "        vertical-align: top;\n",
       "    }\n",
       "\n",
       "    .dataframe thead th {\n",
       "        text-align: right;\n",
       "    }\n",
       "</style>\n",
       "<table border=\"1\" class=\"dataframe\">\n",
       "  <thead>\n",
       "    <tr style=\"text-align: right;\">\n",
       "      <th></th>\n",
       "      <th>company_permalink</th>\n",
       "      <th>funding_round_permalink</th>\n",
       "      <th>funding_round_type</th>\n",
       "      <th>funded_at</th>\n",
       "      <th>raised_amount_usd</th>\n",
       "      <th>permalink</th>\n",
       "      <th>name</th>\n",
       "      <th>category_list</th>\n",
       "      <th>status</th>\n",
       "      <th>country_code</th>\n",
       "      <th>main_sector</th>\n",
       "      <th>(raised_amount_usd, Total Investment)</th>\n",
       "      <th>(raised_amount_usd, Investment Count)</th>\n",
       "    </tr>\n",
       "  </thead>\n",
       "  <tbody>\n",
       "    <tr>\n",
       "      <th>0</th>\n",
       "      <td>/ORGANIZATION/0XDATA</td>\n",
       "      <td>/funding-round/e1cfcbe1bdf4c70277c5f29a3482f24e</td>\n",
       "      <td>venture</td>\n",
       "      <td>19-07-2014</td>\n",
       "      <td>8900000.0</td>\n",
       "      <td>/ORGANIZATION/0XDATA</td>\n",
       "      <td>H2O.ai</td>\n",
       "      <td>Analytics</td>\n",
       "      <td>operating</td>\n",
       "      <td>USA</td>\n",
       "      <td>Social, Finance, Analytics, Advertising</td>\n",
       "      <td>2.380738e+10</td>\n",
       "      <td>2714</td>\n",
       "    </tr>\n",
       "    <tr>\n",
       "      <th>1</th>\n",
       "      <td>/ORGANIZATION/1-MAINSTREAM</td>\n",
       "      <td>/funding-round/b952cbaf401f310927430c97b68162ea</td>\n",
       "      <td>venture</td>\n",
       "      <td>17-03-2015</td>\n",
       "      <td>5000000.0</td>\n",
       "      <td>/ORGANIZATION/1-MAINSTREAM</td>\n",
       "      <td>1 Mainstream</td>\n",
       "      <td>Apps</td>\n",
       "      <td>acquired</td>\n",
       "      <td>USA</td>\n",
       "      <td>News, Search and Messaging</td>\n",
       "      <td>1.395957e+10</td>\n",
       "      <td>1582</td>\n",
       "    </tr>\n",
       "    <tr>\n",
       "      <th>2</th>\n",
       "      <td>/ORGANIZATION/128-TECHNOLOGY</td>\n",
       "      <td>/funding-round/fb6216a30cb566ede89e0bee0623a634</td>\n",
       "      <td>venture</td>\n",
       "      <td>16-12-2014</td>\n",
       "      <td>11999347.0</td>\n",
       "      <td>/ORGANIZATION/128-TECHNOLOGY</td>\n",
       "      <td>128 Technology</td>\n",
       "      <td>Service Providers</td>\n",
       "      <td>operating</td>\n",
       "      <td>USA</td>\n",
       "      <td>Others</td>\n",
       "      <td>2.632101e+10</td>\n",
       "      <td>2950</td>\n",
       "    </tr>\n",
       "    <tr>\n",
       "      <th>3</th>\n",
       "      <td>/ORGANIZATION/1366-TECHNOLOGIES</td>\n",
       "      <td>/funding-round/424129ce1235cfab2655ee81305f7c2b</td>\n",
       "      <td>venture</td>\n",
       "      <td>15-10-2013</td>\n",
       "      <td>15000000.0</td>\n",
       "      <td>/ORGANIZATION/1366-TECHNOLOGIES</td>\n",
       "      <td>1366 Technologies</td>\n",
       "      <td>Manufacturing</td>\n",
       "      <td>operating</td>\n",
       "      <td>USA</td>\n",
       "      <td>Manufacturing</td>\n",
       "      <td>7.258553e+09</td>\n",
       "      <td>799</td>\n",
       "    </tr>\n",
       "    <tr>\n",
       "      <th>4</th>\n",
       "      <td>/ORGANIZATION/1366-TECHNOLOGIES</td>\n",
       "      <td>/funding-round/6d3f3797371956ece035b8478c1441b2</td>\n",
       "      <td>venture</td>\n",
       "      <td>09-04-2015</td>\n",
       "      <td>5000000.0</td>\n",
       "      <td>/ORGANIZATION/1366-TECHNOLOGIES</td>\n",
       "      <td>1366 Technologies</td>\n",
       "      <td>Manufacturing</td>\n",
       "      <td>operating</td>\n",
       "      <td>USA</td>\n",
       "      <td>Manufacturing</td>\n",
       "      <td>7.258553e+09</td>\n",
       "      <td>799</td>\n",
       "    </tr>\n",
       "  </tbody>\n",
       "</table>\n",
       "</div>"
      ],
      "text/plain": [
       "                 company_permalink  \\\n",
       "0             /ORGANIZATION/0XDATA   \n",
       "1       /ORGANIZATION/1-MAINSTREAM   \n",
       "2     /ORGANIZATION/128-TECHNOLOGY   \n",
       "3  /ORGANIZATION/1366-TECHNOLOGIES   \n",
       "4  /ORGANIZATION/1366-TECHNOLOGIES   \n",
       "\n",
       "                           funding_round_permalink funding_round_type  \\\n",
       "0  /funding-round/e1cfcbe1bdf4c70277c5f29a3482f24e            venture   \n",
       "1  /funding-round/b952cbaf401f310927430c97b68162ea            venture   \n",
       "2  /funding-round/fb6216a30cb566ede89e0bee0623a634            venture   \n",
       "3  /funding-round/424129ce1235cfab2655ee81305f7c2b            venture   \n",
       "4  /funding-round/6d3f3797371956ece035b8478c1441b2            venture   \n",
       "\n",
       "    funded_at  raised_amount_usd                        permalink  \\\n",
       "0  19-07-2014          8900000.0             /ORGANIZATION/0XDATA   \n",
       "1  17-03-2015          5000000.0       /ORGANIZATION/1-MAINSTREAM   \n",
       "2  16-12-2014         11999347.0     /ORGANIZATION/128-TECHNOLOGY   \n",
       "3  15-10-2013         15000000.0  /ORGANIZATION/1366-TECHNOLOGIES   \n",
       "4  09-04-2015          5000000.0  /ORGANIZATION/1366-TECHNOLOGIES   \n",
       "\n",
       "                name      category_list     status country_code  \\\n",
       "0             H2O.ai          Analytics  operating          USA   \n",
       "1       1 Mainstream               Apps   acquired          USA   \n",
       "2     128 Technology  Service Providers  operating          USA   \n",
       "3  1366 Technologies      Manufacturing  operating          USA   \n",
       "4  1366 Technologies      Manufacturing  operating          USA   \n",
       "\n",
       "                               main_sector  \\\n",
       "0  Social, Finance, Analytics, Advertising   \n",
       "1               News, Search and Messaging   \n",
       "2                                   Others   \n",
       "3                            Manufacturing   \n",
       "4                            Manufacturing   \n",
       "\n",
       "   (raised_amount_usd, Total Investment)  \\\n",
       "0                           2.380738e+10   \n",
       "1                           1.395957e+10   \n",
       "2                           2.632101e+10   \n",
       "3                           7.258553e+09   \n",
       "4                           7.258553e+09   \n",
       "\n",
       "   (raised_amount_usd, Investment Count)  \n",
       "0                                   2714  \n",
       "1                                   1582  \n",
       "2                                   2950  \n",
       "3                                    799  \n",
       "4                                    799  "
      ]
     },
     "execution_count": 28,
     "metadata": {},
     "output_type": "execute_result"
    }
   ],
   "source": [
    "D1 = master_frame[(master_frame['country_code'] == 'USA') & \n",
    "             (master_frame['raised_amount_usd'] >= 5000000) & (master_frame['raised_amount_usd'] <= 15000000)]\n",
    "# D1 sector Analysis\n",
    "\n",
    "D1_temp = D1[['raised_amount_usd','main_sector']].groupby('main_sector').agg(['sum', 'count']).rename(\n",
    "    columns={'sum':'Total Investment','count' : 'Investment Count'})\n",
    "D1 = D1.merge(D1_temp, how='left', on ='main_sector')\n",
    "D1.head()"
   ]
  },
  {
   "cell_type": "code",
   "execution_count": 29,
   "metadata": {},
   "outputs": [
    {
     "name": "stderr",
     "output_type": "stream",
     "text": [
      "/Users/thomo/opt/anaconda3/lib/python3.8/site-packages/pandas/core/reshape/merge.py:643: UserWarning: merging between different levels can give an unintended result (1 levels on the left,2 on the right)\n",
      "  warnings.warn(msg, UserWarning)\n"
     ]
    },
    {
     "data": {
      "text/html": [
       "<div>\n",
       "<style scoped>\n",
       "    .dataframe tbody tr th:only-of-type {\n",
       "        vertical-align: middle;\n",
       "    }\n",
       "\n",
       "    .dataframe tbody tr th {\n",
       "        vertical-align: top;\n",
       "    }\n",
       "\n",
       "    .dataframe thead th {\n",
       "        text-align: right;\n",
       "    }\n",
       "</style>\n",
       "<table border=\"1\" class=\"dataframe\">\n",
       "  <thead>\n",
       "    <tr style=\"text-align: right;\">\n",
       "      <th></th>\n",
       "      <th>company_permalink</th>\n",
       "      <th>funding_round_permalink</th>\n",
       "      <th>funding_round_type</th>\n",
       "      <th>funded_at</th>\n",
       "      <th>raised_amount_usd</th>\n",
       "      <th>permalink</th>\n",
       "      <th>name</th>\n",
       "      <th>category_list</th>\n",
       "      <th>status</th>\n",
       "      <th>country_code</th>\n",
       "      <th>main_sector</th>\n",
       "      <th>(raised_amount_usd, Total Investment)</th>\n",
       "      <th>(raised_amount_usd, Investment Count)</th>\n",
       "    </tr>\n",
       "  </thead>\n",
       "  <tbody>\n",
       "    <tr>\n",
       "      <th>0</th>\n",
       "      <td>/ORGANIZATION/365SCORES</td>\n",
       "      <td>/funding-round/48212f931f542fdef78810bc87aef086</td>\n",
       "      <td>venture</td>\n",
       "      <td>29-09-2014</td>\n",
       "      <td>5500000.0</td>\n",
       "      <td>/ORGANIZATION/365SCORES</td>\n",
       "      <td>365Scores</td>\n",
       "      <td>Android</td>\n",
       "      <td>operating</td>\n",
       "      <td>GBR</td>\n",
       "      <td>Social, Finance, Analytics, Advertising</td>\n",
       "      <td>1.089404e+09</td>\n",
       "      <td>133</td>\n",
       "    </tr>\n",
       "    <tr>\n",
       "      <th>1</th>\n",
       "      <td>/ORGANIZATION/7DIGITAL</td>\n",
       "      <td>/funding-round/b5ad7ed7baddd3974bd51403f17dd88f</td>\n",
       "      <td>venture</td>\n",
       "      <td>01-01-2008</td>\n",
       "      <td>8468328.0</td>\n",
       "      <td>/ORGANIZATION/7DIGITAL</td>\n",
       "      <td>7digital</td>\n",
       "      <td>Content Creators</td>\n",
       "      <td>acquired</td>\n",
       "      <td>GBR</td>\n",
       "      <td>Entertainment</td>\n",
       "      <td>4.827847e+08</td>\n",
       "      <td>56</td>\n",
       "    </tr>\n",
       "    <tr>\n",
       "      <th>2</th>\n",
       "      <td>/ORGANIZATION/7DIGITAL</td>\n",
       "      <td>/funding-round/eafacfcceb1fbc4fd605f641b603313e</td>\n",
       "      <td>venture</td>\n",
       "      <td>19-10-2012</td>\n",
       "      <td>10000000.0</td>\n",
       "      <td>/ORGANIZATION/7DIGITAL</td>\n",
       "      <td>7digital</td>\n",
       "      <td>Content Creators</td>\n",
       "      <td>acquired</td>\n",
       "      <td>GBR</td>\n",
       "      <td>Entertainment</td>\n",
       "      <td>4.827847e+08</td>\n",
       "      <td>56</td>\n",
       "    </tr>\n",
       "    <tr>\n",
       "      <th>3</th>\n",
       "      <td>/ORGANIZATION/90MIN</td>\n",
       "      <td>/funding-round/21a2cbf6f2fb2a1c2a61e04bf930dfe6</td>\n",
       "      <td>venture</td>\n",
       "      <td>06-10-2015</td>\n",
       "      <td>15000000.0</td>\n",
       "      <td>/ORGANIZATION/90MIN</td>\n",
       "      <td>90min</td>\n",
       "      <td>Media</td>\n",
       "      <td>operating</td>\n",
       "      <td>GBR</td>\n",
       "      <td>Entertainment</td>\n",
       "      <td>4.827847e+08</td>\n",
       "      <td>56</td>\n",
       "    </tr>\n",
       "    <tr>\n",
       "      <th>4</th>\n",
       "      <td>/ORGANIZATION/90MIN</td>\n",
       "      <td>/funding-round/bd626ed022f5c66574b1afe234f3c90d</td>\n",
       "      <td>venture</td>\n",
       "      <td>07-05-2013</td>\n",
       "      <td>5800000.0</td>\n",
       "      <td>/ORGANIZATION/90MIN</td>\n",
       "      <td>90min</td>\n",
       "      <td>Media</td>\n",
       "      <td>operating</td>\n",
       "      <td>GBR</td>\n",
       "      <td>Entertainment</td>\n",
       "      <td>4.827847e+08</td>\n",
       "      <td>56</td>\n",
       "    </tr>\n",
       "  </tbody>\n",
       "</table>\n",
       "</div>"
      ],
      "text/plain": [
       "         company_permalink                          funding_round_permalink  \\\n",
       "0  /ORGANIZATION/365SCORES  /funding-round/48212f931f542fdef78810bc87aef086   \n",
       "1   /ORGANIZATION/7DIGITAL  /funding-round/b5ad7ed7baddd3974bd51403f17dd88f   \n",
       "2   /ORGANIZATION/7DIGITAL  /funding-round/eafacfcceb1fbc4fd605f641b603313e   \n",
       "3      /ORGANIZATION/90MIN  /funding-round/21a2cbf6f2fb2a1c2a61e04bf930dfe6   \n",
       "4      /ORGANIZATION/90MIN  /funding-round/bd626ed022f5c66574b1afe234f3c90d   \n",
       "\n",
       "  funding_round_type   funded_at  raised_amount_usd                permalink  \\\n",
       "0            venture  29-09-2014          5500000.0  /ORGANIZATION/365SCORES   \n",
       "1            venture  01-01-2008          8468328.0   /ORGANIZATION/7DIGITAL   \n",
       "2            venture  19-10-2012         10000000.0   /ORGANIZATION/7DIGITAL   \n",
       "3            venture  06-10-2015         15000000.0      /ORGANIZATION/90MIN   \n",
       "4            venture  07-05-2013          5800000.0      /ORGANIZATION/90MIN   \n",
       "\n",
       "        name     category_list     status country_code  \\\n",
       "0  365Scores           Android  operating          GBR   \n",
       "1   7digital  Content Creators   acquired          GBR   \n",
       "2   7digital  Content Creators   acquired          GBR   \n",
       "3      90min             Media  operating          GBR   \n",
       "4      90min             Media  operating          GBR   \n",
       "\n",
       "                               main_sector  \\\n",
       "0  Social, Finance, Analytics, Advertising   \n",
       "1                            Entertainment   \n",
       "2                            Entertainment   \n",
       "3                            Entertainment   \n",
       "4                            Entertainment   \n",
       "\n",
       "   (raised_amount_usd, Total Investment)  \\\n",
       "0                           1.089404e+09   \n",
       "1                           4.827847e+08   \n",
       "2                           4.827847e+08   \n",
       "3                           4.827847e+08   \n",
       "4                           4.827847e+08   \n",
       "\n",
       "   (raised_amount_usd, Investment Count)  \n",
       "0                                    133  \n",
       "1                                     56  \n",
       "2                                     56  \n",
       "3                                     56  \n",
       "4                                     56  "
      ]
     },
     "execution_count": 29,
     "metadata": {},
     "output_type": "execute_result"
    }
   ],
   "source": [
    "D2 = master_frame[(master_frame['country_code'] == 'GBR') & \n",
    "             (master_frame['raised_amount_usd'] >= 5000000) & (master_frame['raised_amount_usd'] <= 15000000)]\n",
    "# D2 sector Analysis\n",
    "\n",
    "D2_temp = D2[['raised_amount_usd','main_sector']].groupby('main_sector').agg(['sum', 'count']).rename(\n",
    "    columns={'sum':'Total Investment','count' : 'Investment Count'})\n",
    "D2 = D2.merge(D2_temp, how='left', on ='main_sector')\n",
    "D2.head()"
   ]
  },
  {
   "cell_type": "code",
   "execution_count": 30,
   "metadata": {},
   "outputs": [
    {
     "name": "stderr",
     "output_type": "stream",
     "text": [
      "/Users/thomo/opt/anaconda3/lib/python3.8/site-packages/pandas/core/reshape/merge.py:643: UserWarning: merging between different levels can give an unintended result (1 levels on the left,2 on the right)\n",
      "  warnings.warn(msg, UserWarning)\n"
     ]
    },
    {
     "data": {
      "text/html": [
       "<div>\n",
       "<style scoped>\n",
       "    .dataframe tbody tr th:only-of-type {\n",
       "        vertical-align: middle;\n",
       "    }\n",
       "\n",
       "    .dataframe tbody tr th {\n",
       "        vertical-align: top;\n",
       "    }\n",
       "\n",
       "    .dataframe thead th {\n",
       "        text-align: right;\n",
       "    }\n",
       "</style>\n",
       "<table border=\"1\" class=\"dataframe\">\n",
       "  <thead>\n",
       "    <tr style=\"text-align: right;\">\n",
       "      <th></th>\n",
       "      <th>company_permalink</th>\n",
       "      <th>funding_round_permalink</th>\n",
       "      <th>funding_round_type</th>\n",
       "      <th>funded_at</th>\n",
       "      <th>raised_amount_usd</th>\n",
       "      <th>permalink</th>\n",
       "      <th>name</th>\n",
       "      <th>category_list</th>\n",
       "      <th>status</th>\n",
       "      <th>country_code</th>\n",
       "      <th>main_sector</th>\n",
       "      <th>(raised_amount_usd, Total Investment)</th>\n",
       "      <th>(raised_amount_usd, Investment Count)</th>\n",
       "    </tr>\n",
       "  </thead>\n",
       "  <tbody>\n",
       "    <tr>\n",
       "      <th>0</th>\n",
       "      <td>/ORGANIZATION/-FAME</td>\n",
       "      <td>/funding-round/9a01d05418af9f794eebff7ace91f638</td>\n",
       "      <td>venture</td>\n",
       "      <td>05-01-2015</td>\n",
       "      <td>10000000.0</td>\n",
       "      <td>/ORGANIZATION/-FAME</td>\n",
       "      <td>#fame</td>\n",
       "      <td>Media</td>\n",
       "      <td>operating</td>\n",
       "      <td>IND</td>\n",
       "      <td>Entertainment</td>\n",
       "      <td>2.808300e+08</td>\n",
       "      <td>33</td>\n",
       "    </tr>\n",
       "    <tr>\n",
       "      <th>1</th>\n",
       "      <td>/ORGANIZATION/21DIAMONDS-INDIA</td>\n",
       "      <td>/funding-round/6de7ffef8091ba9f33821f4b861f434a</td>\n",
       "      <td>venture</td>\n",
       "      <td>15-11-2012</td>\n",
       "      <td>6369507.0</td>\n",
       "      <td>/ORGANIZATION/21DIAMONDS-INDIA</td>\n",
       "      <td>21Diamonds</td>\n",
       "      <td>E-Commerce</td>\n",
       "      <td>operating</td>\n",
       "      <td>IND</td>\n",
       "      <td>Others</td>\n",
       "      <td>1.013410e+09</td>\n",
       "      <td>110</td>\n",
       "    </tr>\n",
       "    <tr>\n",
       "      <th>2</th>\n",
       "      <td>/ORGANIZATION/A-LITTLE-WORLD</td>\n",
       "      <td>/funding-round/18d98f82ed392b1609975b81f3e8b3fb</td>\n",
       "      <td>venture</td>\n",
       "      <td>09-09-2008</td>\n",
       "      <td>6410000.0</td>\n",
       "      <td>/ORGANIZATION/A-LITTLE-WORLD</td>\n",
       "      <td>A LITTLE WORLD</td>\n",
       "      <td>Finance</td>\n",
       "      <td>operating</td>\n",
       "      <td>IND</td>\n",
       "      <td>Social, Finance, Analytics, Advertising</td>\n",
       "      <td>5.505496e+08</td>\n",
       "      <td>60</td>\n",
       "    </tr>\n",
       "    <tr>\n",
       "      <th>3</th>\n",
       "      <td>/ORGANIZATION/ADLABS-IMAGICA</td>\n",
       "      <td>/funding-round/508d3c83daaae9fda3ba6f9682c78f6c</td>\n",
       "      <td>venture</td>\n",
       "      <td>28-10-2014</td>\n",
       "      <td>8180000.0</td>\n",
       "      <td>/ORGANIZATION/ADLABS-IMAGICA</td>\n",
       "      <td>Adlabs Imagica</td>\n",
       "      <td>Entertainment</td>\n",
       "      <td>operating</td>\n",
       "      <td>IND</td>\n",
       "      <td>Entertainment</td>\n",
       "      <td>2.808300e+08</td>\n",
       "      <td>33</td>\n",
       "    </tr>\n",
       "    <tr>\n",
       "      <th>4</th>\n",
       "      <td>/ORGANIZATION/AGILE</td>\n",
       "      <td>/funding-round/cd3dd1c98ce9d0f632d8752163941674</td>\n",
       "      <td>venture</td>\n",
       "      <td>01-05-2011</td>\n",
       "      <td>5740000.0</td>\n",
       "      <td>/ORGANIZATION/AGILE</td>\n",
       "      <td>Agile</td>\n",
       "      <td>Finance</td>\n",
       "      <td>operating</td>\n",
       "      <td>IND</td>\n",
       "      <td>Social, Finance, Analytics, Advertising</td>\n",
       "      <td>5.505496e+08</td>\n",
       "      <td>60</td>\n",
       "    </tr>\n",
       "  </tbody>\n",
       "</table>\n",
       "</div>"
      ],
      "text/plain": [
       "                company_permalink  \\\n",
       "0             /ORGANIZATION/-FAME   \n",
       "1  /ORGANIZATION/21DIAMONDS-INDIA   \n",
       "2    /ORGANIZATION/A-LITTLE-WORLD   \n",
       "3    /ORGANIZATION/ADLABS-IMAGICA   \n",
       "4             /ORGANIZATION/AGILE   \n",
       "\n",
       "                           funding_round_permalink funding_round_type  \\\n",
       "0  /funding-round/9a01d05418af9f794eebff7ace91f638            venture   \n",
       "1  /funding-round/6de7ffef8091ba9f33821f4b861f434a            venture   \n",
       "2  /funding-round/18d98f82ed392b1609975b81f3e8b3fb            venture   \n",
       "3  /funding-round/508d3c83daaae9fda3ba6f9682c78f6c            venture   \n",
       "4  /funding-round/cd3dd1c98ce9d0f632d8752163941674            venture   \n",
       "\n",
       "    funded_at  raised_amount_usd                       permalink  \\\n",
       "0  05-01-2015         10000000.0             /ORGANIZATION/-FAME   \n",
       "1  15-11-2012          6369507.0  /ORGANIZATION/21DIAMONDS-INDIA   \n",
       "2  09-09-2008          6410000.0    /ORGANIZATION/A-LITTLE-WORLD   \n",
       "3  28-10-2014          8180000.0    /ORGANIZATION/ADLABS-IMAGICA   \n",
       "4  01-05-2011          5740000.0             /ORGANIZATION/AGILE   \n",
       "\n",
       "             name  category_list     status country_code  \\\n",
       "0           #fame          Media  operating          IND   \n",
       "1      21Diamonds     E-Commerce  operating          IND   \n",
       "2  A LITTLE WORLD        Finance  operating          IND   \n",
       "3  Adlabs Imagica  Entertainment  operating          IND   \n",
       "4           Agile        Finance  operating          IND   \n",
       "\n",
       "                               main_sector  \\\n",
       "0                            Entertainment   \n",
       "1                                   Others   \n",
       "2  Social, Finance, Analytics, Advertising   \n",
       "3                            Entertainment   \n",
       "4  Social, Finance, Analytics, Advertising   \n",
       "\n",
       "   (raised_amount_usd, Total Investment)  \\\n",
       "0                           2.808300e+08   \n",
       "1                           1.013410e+09   \n",
       "2                           5.505496e+08   \n",
       "3                           2.808300e+08   \n",
       "4                           5.505496e+08   \n",
       "\n",
       "   (raised_amount_usd, Investment Count)  \n",
       "0                                     33  \n",
       "1                                    110  \n",
       "2                                     60  \n",
       "3                                     33  \n",
       "4                                     60  "
      ]
     },
     "execution_count": 30,
     "metadata": {},
     "output_type": "execute_result"
    }
   ],
   "source": [
    "D3 = master_frame[(master_frame['country_code'] == 'IND') & \n",
    "             (master_frame['raised_amount_usd'] >= 5000000) & (master_frame['raised_amount_usd'] <= 15000000)]\n",
    "# D3 sector Analysis\n",
    "\n",
    "D3_temp = D3[['raised_amount_usd','main_sector']].groupby('main_sector').agg(['sum', 'count']).rename(\n",
    "    columns={'sum':'Total Investment','count' : 'Investment Count'})\n",
    "D3 = D3.merge(D3_temp, how='left', on ='main_sector')\n",
    "D3.head()"
   ]
  },
  {
   "cell_type": "code",
   "execution_count": 31,
   "metadata": {},
   "outputs": [
    {
     "name": "stdout",
     "output_type": "stream",
     "text": [
      "12012\n",
      "619\n",
      "328\n"
     ]
    }
   ],
   "source": [
    "print(D1.raised_amount_usd.count())  #  C1 = USA\n",
    "print(D2.raised_amount_usd.count())  #  C1 = GBR\n",
    "print(D3.raised_amount_usd.count())  "
   ]
  },
  {
   "cell_type": "code",
   "execution_count": 32,
   "metadata": {},
   "outputs": [
    {
     "name": "stdout",
     "output_type": "stream",
     "text": [
      "107318.29\n",
      "5365.23\n",
      "2949.54\n"
     ]
    }
   ],
   "source": [
    "print(round(D1.raised_amount_usd.sum()/1000000, 2))\n",
    "print(round(D2.raised_amount_usd.sum()/1000000, 2))\n",
    "print(round(D3.raised_amount_usd.sum()/1000000, 2))"
   ]
  },
  {
   "cell_type": "code",
   "execution_count": 34,
   "metadata": {},
   "outputs": [
    {
     "name": "stdout",
     "output_type": "stream",
     "text": [
      "                                        raised_amount_usd                 \n",
      "                                         Total Investment Investment Count\n",
      "main_sector                                                               \n",
      "Automotive & Sports                          1.454104e+09              167\n",
      "Cleantech / Semiconductors                   2.120663e+10             2300\n",
      "Entertainment                                5.099198e+09              591\n",
      "Health                                       8.211859e+09              909\n",
      "Manufacturing                                7.258553e+09              799\n",
      "News, Search and Messaging                   1.395957e+10             1582\n",
      "Others                                       2.632101e+10             2950\n",
      "Social, Finance, Analytics, Advertising      2.380738e+10             2714\n",
      "                                        raised_amount_usd                 \n",
      "                                         Total Investment Investment Count\n",
      "main_sector                                                               \n",
      "Automotive & Sports                          1.670516e+08               16\n",
      "Cleantech / Semiconductors                   1.150140e+09              128\n",
      "Entertainment                                4.827847e+08               56\n",
      "Health                                       2.145375e+08               24\n",
      "Manufacturing                                3.619403e+08               42\n",
      "News, Search and Messaging                   6.157462e+08               73\n",
      "Others                                       1.283624e+09              147\n",
      "Social, Finance, Analytics, Advertising      1.089404e+09              133\n",
      "                                        raised_amount_usd                 \n",
      "                                         Total Investment Investment Count\n",
      "main_sector                                                               \n",
      "Automotive & Sports                          1.369000e+08               13\n",
      "Cleantech / Semiconductors                   1.653800e+08               20\n",
      "Entertainment                                2.808300e+08               33\n",
      "Health                                       1.677400e+08               19\n",
      "Manufacturing                                2.009000e+08               21\n",
      "News, Search and Messaging                   4.338345e+08               52\n",
      "Others                                       1.013410e+09              110\n",
      "Social, Finance, Analytics, Advertising      5.505496e+08               60\n"
     ]
    }
   ],
   "source": [
    "print(D1_temp)\n",
    "print(D2_temp)\n",
    "print(D3_temp)"
   ]
  },
  {
   "cell_type": "code",
   "execution_count": 35,
   "metadata": {},
   "outputs": [
    {
     "name": "stdout",
     "output_type": "stream",
     "text": [
      "                                   raised_amount_usd\n",
      "company_permalink                                   \n",
      "/ORGANIZATION/VIRTUSTREAM                 64300000.0\n",
      "/ORGANIZATION/CAPELLA                     54968051.0\n",
      "/ORGANIZATION/AIRTIGHT-NETWORKS           54201907.0\n",
      "/ORGANIZATION/DECARTA                     52100000.0\n",
      "/ORGANIZATION/BLACK-DUCK-SOFTWARE         51000000.0\n"
     ]
    }
   ],
   "source": [
    "company_USA1 = D1[D1['main_sector']=='Others']\n",
    "company_USA1 = company_USA1.pivot_table(values = 'raised_amount_usd', index = 'company_permalink', aggfunc = 'sum')\n",
    "company_USA1 = company_USA1.sort_values(by = 'raised_amount_usd', ascending = False)\n",
    "print(company_USA1.head())"
   ]
  },
  {
   "cell_type": "code",
   "execution_count": 36,
   "metadata": {},
   "outputs": [
    {
     "name": "stdout",
     "output_type": "stream",
     "text": [
      "                                raised_amount_usd\n",
      "company_permalink                                \n",
      "/ORGANIZATION/FIRSTCRY-COM             39000000.0\n",
      "/ORGANIZATION/MYNTRA                   38000000.0\n",
      "/ORGANIZATION/COMMONFLOOR              32900000.0\n",
      "/ORGANIZATION/PEPPERFRY-COM            28000000.0\n",
      "/ORGANIZATION/ITZCASH-CARD-LTD         25000000.0\n",
      "                                          raised_amount_usd\n",
      "company_permalink                                          \n",
      "/ORGANIZATION/MANTHAN-SYSTEMS                    50700000.0\n",
      "/ORGANIZATION/KOMLI-MEDIA                        28000000.0\n",
      "/ORGANIZATION/SHOPCLUES-COM                      25000000.0\n",
      "/ORGANIZATION/INTARVO                            21900000.0\n",
      "/ORGANIZATION/GRAMEEN-FINANCIAL-SERVICES         21556050.0\n"
     ]
    }
   ],
   "source": [
    "company_IND1 = D3[D3['main_sector']=='Others']\n",
    "company_IND1 = company_IND1.pivot_table(values = 'raised_amount_usd', index = 'company_permalink', aggfunc = 'sum')\n",
    "company_IND1 = company_IND1.sort_values(by = 'raised_amount_usd', ascending = False)\n",
    "print(company_IND1.head())\n",
    "\n",
    "#For the second top sector in IND , which company received the highest investment?\n",
    "company_IND2 = D3[D3['main_sector']=='Social, Finance, Analytics, Advertising']\n",
    "company_IND2 = company_IND2.pivot_table(values = 'raised_amount_usd', index = 'company_permalink', aggfunc = 'sum')\n",
    "company_IND2 = company_IND2.sort_values(by = 'raised_amount_usd', ascending = False).head()\n",
    "print(company_IND2.head())"
   ]
  },
  {
   "cell_type": "code",
   "execution_count": 37,
   "metadata": {},
   "outputs": [
    {
     "name": "stdout",
     "output_type": "stream",
     "text": [
      "venture                  47809\n",
      "seed                     21095\n",
      "debt_financing            6506\n",
      "angel                     4400\n",
      "grant                     1939\n",
      "private_equity            1820\n",
      "undisclosed               1345\n",
      "convertible_note          1320\n",
      "equity_crowdfunding       1128\n",
      "post_ipo_equity            598\n",
      "product_crowdfunding       330\n",
      "post_ipo_debt              151\n",
      "non_equity_assistance       60\n",
      "secondary_market            28\n",
      "Name: funding_round_type, dtype: int64\n",
      "venture           47809\n",
      "seed              21095\n",
      "angel              4400\n",
      "private_equity     1820\n",
      "Name: funding_round_type, dtype: int64\n",
      "                     company_permalink  \\\n",
      "0                  /ORGANIZATION/-FAME   \n",
      "2               /ORGANIZATION/-QOUNTER   \n",
      "4                /ORGANIZATION/0-6-COM   \n",
      "7  /ORGANIZATION/0NDINE-BIOMEDICAL-INC   \n",
      "8  /ORGANIZATION/0NDINE-BIOMEDICAL-INC   \n",
      "\n",
      "                           funding_round_permalink funding_round_type  \\\n",
      "0  /funding-round/9a01d05418af9f794eebff7ace91f638            venture   \n",
      "2  /funding-round/b44fbb94153f6cdef13083530bb48030               seed   \n",
      "4  /funding-round/5727accaeaa57461bd22a9bdd945382d            venture   \n",
      "7  /funding-round/2b9d3ac293d5cdccbecff5c8cb0f327d               seed   \n",
      "8  /funding-round/954b9499724b946ad8c396a57a5f3b72            venture   \n",
      "\n",
      "    funded_at  raised_amount_usd                            permalink  \\\n",
      "0  05-01-2015         10000000.0                  /ORGANIZATION/-FAME   \n",
      "2  01-03-2014           700000.0               /ORGANIZATION/-QOUNTER   \n",
      "4  19-03-2008          2000000.0                /ORGANIZATION/0-6-COM   \n",
      "7  11-09-2009            43360.0  /ORGANIZATION/0NDINE-BIOMEDICAL-INC   \n",
      "8  21-12-2009           719491.0  /ORGANIZATION/0NDINE-BIOMEDICAL-INC   \n",
      "\n",
      "                     name                                      category_list  \\\n",
      "0                   #fame                                              Media   \n",
      "2                :Qounter  Application Platforms|Real Time|Social Network...   \n",
      "4                 0-6.com                                        Curated Web   \n",
      "7  Ondine Biomedical Inc.                                      Biotechnology   \n",
      "8  Ondine Biomedical Inc.                                      Biotechnology   \n",
      "\n",
      "      status country_code  \n",
      "0  operating          IND  \n",
      "2  operating          USA  \n",
      "4  operating          CHN  \n",
      "7  operating          CAN  \n",
      "8  operating          CAN  \n"
     ]
    }
   ],
   "source": [
    "import matplotlib.pyplot as plt\n",
    "import seaborn as sns\n",
    "import numpy as np\n",
    "\n",
    "# set a seaborn style of your taste\n",
    "sns.set_style(\"whitegrid\")\n",
    "\n",
    "# master_copy df for only 4 type funding\n",
    "\n",
    "print(master_copy.funding_round_type.value_counts())\n",
    "master_copy = master_copy[(master_copy['funding_round_type'] == 'venture') | (master_copy['funding_round_type'] == 'seed')\n",
    "                          | (master_copy['funding_round_type'] == 'angel')| (master_copy['funding_round_type'] == 'private_equity')]\n",
    "print(master_copy.funding_round_type.value_counts())\n",
    "print(master_copy.head())"
   ]
  },
  {
   "cell_type": "code",
   "execution_count": 38,
   "metadata": {},
   "outputs": [
    {
     "name": "stdout",
     "output_type": "stream",
     "text": [
      "  funding_round_type  raised_amount_usd\n",
      "0              angel       9.715739e+05\n",
      "1     private_equity       7.393849e+07\n",
      "2               seed       7.477937e+05\n",
      "3            venture       1.172422e+07\n",
      "  funding_round_type  raised_amount_usd\n",
      "0              angel       4.274925e+09\n",
      "1     private_equity       1.345680e+11\n",
      "2               seed       1.577471e+10\n",
      "3            venture       5.605234e+11\n"
     ]
    }
   ],
   "source": [
    "avg_fund = master_copy.groupby('funding_round_type', as_index=False).raised_amount_usd.mean() \n",
    "tot_fund = master_copy.groupby('funding_round_type', as_index=False).raised_amount_usd.sum()\n",
    "print(avg_fund.head())\n",
    "print(tot_fund.head())"
   ]
  },
  {
   "cell_type": "code",
   "execution_count": 40,
   "metadata": {},
   "outputs": [
    {
     "data": {
      "image/png": "[encoded data removed]",
      "text/plain": [
       "<Figure size 576x504 with 1 Axes>"
      ]
     },
     "metadata": {},
     "output_type": "display_data"
    },
    {
     "data": {
      "image/png": "[encoded data removed]",
      "text/plain": [
       "<Figure size 576x504 with 1 Axes>"
      ]
     },
     "metadata": {},
     "output_type": "display_data"
    }
   ],
   "source": [
    "plt.figure(figsize=(8,7))\n",
    "plt.title(\"Total Investment (Globally)\")\n",
    "sns.barplot(y='raised_amount_usd', x=\"funding_round_type\", data=tot_fund)\n",
    "plt.show()\n",
    "\n",
    "\n",
    "plt.figure(figsize=(8,7))\n",
    "plt.title(\"Average investment in Each Fund\")\n",
    "sns.barplot(y='raised_amount_usd', x=\"funding_round_type\", data=avg_fund)\n",
    "plt.show()"
   ]
  },
  {
   "cell_type": "code",
   "execution_count": 41,
   "metadata": {},
   "outputs": [
    {
     "name": "stdout",
     "output_type": "stream",
     "text": [
      "    country_code  raised_amount_usd\n",
      "124          USA       5.084739e+11\n",
      "21           CHN       6.100092e+10\n",
      "40           GBR       2.689981e+10\n",
      "53           IND       2.104911e+10\n",
      "18           CAN       1.316891e+10\n",
      "    country_code  raised_amount_usd\n",
      "124          USA       5.084739e+11\n",
      "21           CHN       6.100092e+10\n",
      "40           GBR       2.689981e+10\n",
      "53           IND       2.104911e+10\n",
      "18           CAN       1.316891e+10\n",
      "29           DEU       8.580103e+09\n",
      "57           ISR       8.101823e+09\n",
      "39           FRA       8.078614e+09\n",
      "88           NLD       5.058484e+09\n"
     ]
    }
   ],
   "source": [
    "country_FT = master_copy.groupby('country_code', as_index=False)['raised_amount_usd'].sum().sort_values('raised_amount_usd',ascending=False)\n",
    "print(country_FT.head())\n",
    "top9_ct = country_FT[0:9]\n",
    "print(top9_ct)"
   ]
  },
  {
   "cell_type": "code",
   "execution_count": 42,
   "metadata": {},
   "outputs": [
    {
     "name": "stdout",
     "output_type": "stream",
     "text": [
      "    country_code  raised_amount_usd\n",
      "124          USA       5.084739e+11\n",
      "21           CHN       6.100092e+10\n",
      "40           GBR       2.689981e+10\n",
      "53           IND       2.104911e+10\n",
      "18           CAN       1.316891e+10\n",
      "    country_code  raised_amount_usd\n",
      "124          USA       5.084739e+11\n",
      "21           CHN       6.100092e+10\n",
      "40           GBR       2.689981e+10\n",
      "53           IND       2.104911e+10\n",
      "18           CAN       1.316891e+10\n",
      "29           DEU       8.580103e+09\n",
      "57           ISR       8.101823e+09\n",
      "39           FRA       8.078614e+09\n",
      "88           NLD       5.058484e+09\n"
     ]
    }
   ],
   "source": [
    "country_FT = master_copy.groupby('country_code', as_index=False)['raised_amount_usd'].sum().sort_values('raised_amount_usd',ascending=False)\n",
    "print(country_FT.head())\n",
    "top9_ct = country_FT[0:9]\n",
    "print(top9_ct)"
   ]
  },
  {
   "cell_type": "code",
   "execution_count": null,
   "metadata": {},
   "outputs": [],
   "source": []
  },
  {
   "cell_type": "code",
   "execution_count": null,
   "metadata": {},
   "outputs": [],
   "source": []
  },
  {
   "cell_type": "code",
   "execution_count": null,
   "metadata": {},
   "outputs": [],
   "source": []
  },
  {
   "cell_type": "code",
   "execution_count": null,
   "metadata": {},
   "outputs": [],
   "source": []
  },
  {
   "cell_type": "code",
   "execution_count": null,
   "metadata": {},
   "outputs": [],
   "source": []
  }
 ],
 "metadata": {
  "kernelspec": {
   "display_name": "Python 3",
   "language": "python",
   "name": "python3"
  },
  "language_info": {
   "codemirror_mode": {
    "name": "ipython",
    "version": 3
   },
   "file_extension": ".py",
   "mimetype": "text/x-python",
   "name": "python",
   "nbconvert_exporter": "python",
   "pygments_lexer": "ipython3",
   "version": "3.8.5"
  }
 },
 "nbformat": 4,
 "nbformat_minor": 4
}
