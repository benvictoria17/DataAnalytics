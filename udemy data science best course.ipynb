{
 "cells": [
  {
   "cell_type": "code",
   "execution_count": 3,
   "id": "80dbaf8b",
   "metadata": {},
   "outputs": [],
   "source": [
    "import numpy as np \n",
    "import pandas as pd"
   ]
  },
  {
   "cell_type": "code",
   "execution_count": 4,
   "id": "aa9d4d65",
   "metadata": {},
   "outputs": [],
   "source": [
    "import matplotlib.pyplot as plt\n",
    "raw_data = pd.read_csv(\"https://raw.githubusercontent.com/benvictoria17/DataAnalytics/main/dataset/Best%20Data%20Science%20Courses%20-%20Udemy/udemy.csv\", encoding='cp1252')"
   ]
  },
  {
   "cell_type": "code",
   "execution_count": 5,
   "id": "feead90b",
   "metadata": {},
   "outputs": [
    {
     "name": "stdout",
     "output_type": "stream",
     "text": [
      "<class 'pandas.core.frame.DataFrame'>\n",
      "RangeIndex: 160 entries, 0 to 159\n",
      "Data columns (total 9 columns):\n",
      " #   Column       Non-Null Count  Dtype  \n",
      "---  ------       --------------  -----  \n",
      " 0   name         160 non-null    object \n",
      " 1   price        160 non-null    object \n",
      " 2   description  160 non-null    object \n",
      " 3   host         160 non-null    object \n",
      " 4   rating       160 non-null    float64\n",
      " 5   duration     160 non-null    object \n",
      " 6   lectures     160 non-null    object \n",
      " 7   level        160 non-null    object \n",
      " 8   url          160 non-null    object \n",
      "dtypes: float64(1), object(8)\n",
      "memory usage: 11.4+ KB\n"
     ]
    }
   ],
   "source": [
    "raw_data.info()"
   ]
  },
  {
   "cell_type": "code",
   "execution_count": 6,
   "id": "f171732a",
   "metadata": {},
   "outputs": [
    {
     "data": {
      "text/plain": [
       "160"
      ]
     },
     "execution_count": 6,
     "metadata": {},
     "output_type": "execute_result"
    }
   ],
   "source": [
    "len((raw_data['name'] + raw_data['host']).unique())"
   ]
  },
  {
   "cell_type": "code",
   "execution_count": 7,
   "id": "74eadfa4",
   "metadata": {},
   "outputs": [
    {
     "data": {
      "text/plain": [
       "6      21\n",
       "64     23\n",
       "44     23\n",
       "121    25\n",
       "2      28\n",
       "       ..\n",
       "54     60\n",
       "128    60\n",
       "129    60\n",
       "49     60\n",
       "159    60\n",
       "Name: name, Length: 160, dtype: int64"
      ]
     },
     "execution_count": 7,
     "metadata": {},
     "output_type": "execute_result"
    }
   ],
   "source": [
    "raw_data[\"name\"].str.len().sort_values(ascending=True)"
   ]
  },
  {
   "cell_type": "code",
   "execution_count": 8,
   "id": "4c472cf3",
   "metadata": {},
   "outputs": [
    {
     "data": {
      "text/plain": [
       "455      137\n",
       "618        7\n",
       "566        6\n",
       "1,920      4\n",
       "468        2\n",
       "819        1\n",
       "585        1\n",
       "6,400      1\n",
       "2,560      1\n",
       "Name: price, dtype: int64"
      ]
     },
     "execution_count": 8,
     "metadata": {},
     "output_type": "execute_result"
    }
   ],
   "source": [
    "raw_data[\"price\"].value_counts()"
   ]
  },
  {
   "cell_type": "code",
   "execution_count": 9,
   "id": "927b12ec",
   "metadata": {},
   "outputs": [],
   "source": [
    "raw_data['price'] = raw_data['price'].apply(lambda x: float(x.replace(',','')))"
   ]
  },
  {
   "cell_type": "code",
   "execution_count": 10,
   "id": "49143c48",
   "metadata": {},
   "outputs": [
    {
     "data": {
      "text/plain": [
       "Text(0.5, 1.0, 'Udemy Data science course price - bar plot')"
      ]
     },
     "execution_count": 10,
     "metadata": {},
     "output_type": "execute_result"
    },
    {
     "data": {
      "image/png": "[encoded data removed]",
      "text/plain": [
       "<Figure size 432x288 with 1 Axes>"
      ]
     },
     "metadata": {
      "needs_background": "light"
     },
     "output_type": "display_data"
    }
   ],
   "source": [
    "raw_data.groupby('price')['name'].count().plot(kind='bar')\n",
    "plt.title('Udemy Data science course price - bar plot')"
   ]
  },
  {
   "cell_type": "code",
   "execution_count": 11,
   "id": "72921947",
   "metadata": {},
   "outputs": [
    {
     "data": {
      "text/plain": [
       "(0.0, 1500.0)"
      ]
     },
     "execution_count": 11,
     "metadata": {},
     "output_type": "execute_result"
    },
    {
     "data": {
      "image/png": "[encoded data removed]",
      "text/plain": [
       "<Figure size 432x288 with 1 Axes>"
      ]
     },
     "metadata": {
      "needs_background": "light"
     },
     "output_type": "display_data"
    }
   ],
   "source": [
    "raw_data['price'].plot(kind='box')\n",
    "plt.title('Udemy Data science course price - boxplot')\n",
    "plt.ylim(0,1500)"
   ]
  },
  {
   "cell_type": "code",
   "execution_count": 12,
   "id": "1c1ea402",
   "metadata": {},
   "outputs": [
    {
     "data": {
      "text/plain": [
       "Text(0, 0.5, 'Course level')"
      ]
     },
     "execution_count": 12,
     "metadata": {},
     "output_type": "execute_result"
    },
    {
     "data": {
      "image/png": "[encoded data removed]",
      "text/plain": [
       "<Figure size 432x288 with 1 Axes>"
      ]
     },
     "metadata": {},
     "output_type": "display_data"
    }
   ],
   "source": [
    "raw_data.query('price > 1000').groupby('level')['name'].count().plot(kind='pie')\n",
    "plt.title('Level of Courses above 1000')\n",
    "plt.ylabel('Course level')"
   ]
  },
  {
   "cell_type": "code",
   "execution_count": 13,
   "id": "bfe962bb",
   "metadata": {},
   "outputs": [
    {
     "data": {
      "text/plain": [
       "Text(0.5, 1.0, 'Duration of Courses above 1000')"
      ]
     },
     "execution_count": 13,
     "metadata": {},
     "output_type": "execute_result"
    },
    {
     "data": {
      "image/png": "[encoded data removed]",
      "text/plain": [
       "<Figure size 432x288 with 1 Axes>"
      ]
     },
     "metadata": {},
     "output_type": "display_data"
    }
   ],
   "source": [
    "raw_data.query('price > 1000').groupby('duration')['name'].count().plot(kind='pie')\n",
    "plt.title('Duration of Courses above 1000')"
   ]
  },
  {
   "cell_type": "code",
   "execution_count": 14,
   "id": "b32170ec",
   "metadata": {},
   "outputs": [],
   "source": [
    "raw_data = raw_data.query(\"price < 1000\")"
   ]
  },
  {
   "cell_type": "code",
   "execution_count": 15,
   "id": "d298bbf0",
   "metadata": {},
   "outputs": [
    {
     "data": {
      "text/plain": [
       "121     28\n",
       "69      32\n",
       "14      33\n",
       "145     34\n",
       "64      39\n",
       "      ... \n",
       "129    120\n",
       "128    120\n",
       "75     120\n",
       "117    120\n",
       "104    120\n",
       "Name: description, Length: 154, dtype: int64"
      ]
     },
     "execution_count": 15,
     "metadata": {},
     "output_type": "execute_result"
    }
   ],
   "source": [
    "raw_data[\"description\"].str.len().sort_values(ascending=True)"
   ]
  },
  {
   "cell_type": "code",
   "execution_count": 16,
   "id": "bdff73fc",
   "metadata": {},
   "outputs": [
    {
     "data": {
      "text/plain": [
       "0       Pradeep D\n",
       "14      Sahla Ali\n",
       "15     Shan Singh\n",
       "17      Pradeep D\n",
       "19     Dev Nirwal\n",
       "22        AI 4 MY\n",
       "31        Srini E\n",
       "33      Ajay Tech\n",
       "34      Jay Bhatt\n",
       "35      MrBriit .\n",
       "36     Shan Singh\n",
       "40      Up Degree\n",
       "55        Srini E\n",
       "56      Up Degree\n",
       "61     Loony Corn\n",
       "62     Laxmi Kant\n",
       "66        Srini E\n",
       "83     Ram Prasad\n",
       "114    Chris Levy\n",
       "120    Shan Singh\n",
       "154        Dan We\n",
       "Name: host, dtype: object"
      ]
     },
     "execution_count": 16,
     "metadata": {},
     "output_type": "execute_result"
    }
   ],
   "source": [
    "raw_data[raw_data['host'].apply(lambda x: len(x) <= 10)]['host']"
   ]
  },
  {
   "cell_type": "code",
   "execution_count": 17,
   "id": "cfa7d06e",
   "metadata": {},
   "outputs": [
    {
     "data": {
      "text/plain": [
       "Text(0.5, 1.0, 'Most productive hosts')"
      ]
     },
     "execution_count": 17,
     "metadata": {},
     "output_type": "execute_result"
    },
    {
     "data": {
      "image/png": "[encoded data removed]",
      "text/plain": [
       "<Figure size 432x288 with 1 Axes>"
      ]
     },
     "metadata": {
      "needs_background": "light"
     },
     "output_type": "display_data"
    }
   ],
   "source": [
    "raw_data['host'].value_counts().sort_values(ascending=False).head(10).plot(kind='bar')\n",
    "plt.title('Most productive hosts')"
   ]
  },
  {
   "cell_type": "code",
   "execution_count": 18,
   "id": "4717a83a",
   "metadata": {},
   "outputs": [
    {
     "data": {
      "text/plain": [
       "<AxesSubplot:>"
      ]
     },
     "execution_count": 18,
     "metadata": {},
     "output_type": "execute_result"
    },
    {
     "data": {
      "image/png": "[encoded data removed]",
      "text/plain": [
       "<Figure size 432x288 with 1 Axes>"
      ]
     },
     "metadata": {
      "needs_background": "light"
     },
     "output_type": "display_data"
    }
   ],
   "source": [
    "raw_data.groupby('rating')['name'].count().reset_index().plot(kind='box', y='rating')"
   ]
  },
  {
   "cell_type": "code",
   "execution_count": 19,
   "id": "a334878f",
   "metadata": {},
   "outputs": [
    {
     "data": {
      "text/plain": [
       "(0.0, 12000.0)"
      ]
     },
     "execution_count": 19,
     "metadata": {},
     "output_type": "execute_result"
    },
    {
     "data": {
      "image/png": "[encoded data removed]",
      "text/plain": [
       "<Figure size 432x288 with 1 Axes>"
      ]
     },
     "metadata": {
      "needs_background": "light"
     },
     "output_type": "display_data"
    }
   ],
   "source": [
    "def return_minutes(duration_string):\n",
    "    if \"mins\" in duration_string:\n",
    "        return int(''.join([x for x in duration_string if x.isdigit()]))\n",
    "    else:\n",
    "        return int(''.join([x for x in duration_string if x.isdigit()]))*60\n",
    "raw_data['duration'] = raw_data['duration'].apply(return_minutes)\n",
    "raw_data['duration'].plot(kind= 'box')\n",
    "plt.title('Course duration in minutes')\n",
    "plt.ylim(0, 12000)"
   ]
  },
  {
   "cell_type": "code",
   "execution_count": 20,
   "id": "e134ff05",
   "metadata": {},
   "outputs": [
    {
     "name": "stdout",
     "output_type": "stream",
     "text": [
      "Most duration observations locate between 8 and 65 hours.\n"
     ]
    }
   ],
   "source": [
    "duration_q25 = raw_data['duration'].quantile(.25)\n",
    "duration_q75 = raw_data['duration'].quantile(.75)\n",
    "print(f\"Most duration observations locate between {int(duration_q25/60)} and {int(duration_q75/60)} hours.\")"
   ]
  },
  {
   "cell_type": "code",
   "execution_count": 21,
   "id": "2c2864b3",
   "metadata": {},
   "outputs": [],
   "source": [
    "def return_lectures(lectures_string):\n",
    "    return int(''.join([x for x in lectures_string if x.isdigit()]))"
   ]
  },
  {
   "cell_type": "code",
   "execution_count": 22,
   "id": "04af1b53",
   "metadata": {},
   "outputs": [],
   "source": [
    "raw_data[\"lectures\"] = raw_data['lectures'].apply(return_lectures)"
   ]
  },
  {
   "cell_type": "code",
   "execution_count": 23,
   "id": "7c5be2f7",
   "metadata": {},
   "outputs": [
    {
     "data": {
      "text/plain": [
       "<AxesSubplot:>"
      ]
     },
     "execution_count": 23,
     "metadata": {},
     "output_type": "execute_result"
    },
    {
     "data": {
      "image/png": "[encoded data removed]",
      "text/plain": [
       "<Figure size 432x288 with 1 Axes>"
      ]
     },
     "metadata": {
      "needs_background": "light"
     },
     "output_type": "display_data"
    }
   ],
   "source": [
    "raw_data['lectures'].plot(kind='box')"
   ]
  },
  {
   "cell_type": "code",
   "execution_count": 24,
   "id": "bd33cd6a",
   "metadata": {},
   "outputs": [
    {
     "name": "stdout",
     "output_type": "stream",
     "text": [
      "Most lectures observations locate between 49 and 137 lectures.\n"
     ]
    }
   ],
   "source": [
    "lectures_q25 = raw_data['lectures'].quantile(.25)\n",
    "lectures_q75 = raw_data['lectures'].quantile(.75)\n",
    "print(f\"Most lectures observations locate between {int(lectures_q25)} and {int(lectures_q75)} lectures.\")"
   ]
  },
  {
   "cell_type": "code",
   "execution_count": 25,
   "id": "2910a2a4",
   "metadata": {},
   "outputs": [
    {
     "data": {
      "text/plain": [
       "Text(0.5, 1.0, 'Course level')"
      ]
     },
     "execution_count": 25,
     "metadata": {},
     "output_type": "execute_result"
    },
    {
     "data": {
      "image/png": "[encoded data removed]",
      "text/plain": [
       "<Figure size 432x288 with 1 Axes>"
      ]
     },
     "metadata": {},
     "output_type": "display_data"
    }
   ],
   "source": [
    "raw_data['level'].value_counts().plot(kind='pie')\n",
    "plt.title('Course level')"
   ]
  },
  {
   "cell_type": "code",
   "execution_count": 26,
   "id": "62a0db8e",
   "metadata": {},
   "outputs": [],
   "source": [
    "data = raw_data"
   ]
  },
  {
   "cell_type": "code",
   "execution_count": 27,
   "id": "522f73c0",
   "metadata": {},
   "outputs": [
    {
     "data": {
      "text/html": [
       "<div>\n",
       "<style scoped>\n",
       "    .dataframe tbody tr th:only-of-type {\n",
       "        vertical-align: middle;\n",
       "    }\n",
       "\n",
       "    .dataframe tbody tr th {\n",
       "        vertical-align: top;\n",
       "    }\n",
       "\n",
       "    .dataframe thead th {\n",
       "        text-align: right;\n",
       "    }\n",
       "</style>\n",
       "<table border=\"1\" class=\"dataframe\">\n",
       "  <thead>\n",
       "    <tr style=\"text-align: right;\">\n",
       "      <th></th>\n",
       "      <th>name</th>\n",
       "      <th>price</th>\n",
       "      <th>duration</th>\n",
       "      <th>rating</th>\n",
       "      <th>lectures</th>\n",
       "    </tr>\n",
       "    <tr>\n",
       "      <th>level</th>\n",
       "      <th></th>\n",
       "      <th></th>\n",
       "      <th></th>\n",
       "      <th></th>\n",
       "      <th></th>\n",
       "    </tr>\n",
       "  </thead>\n",
       "  <tbody>\n",
       "    <tr>\n",
       "      <th>All Levels</th>\n",
       "      <td>101</td>\n",
       "      <td>455.0</td>\n",
       "      <td>1740.0</td>\n",
       "      <td>4.50</td>\n",
       "      <td>108.0</td>\n",
       "    </tr>\n",
       "    <tr>\n",
       "      <th>Beginner</th>\n",
       "      <td>40</td>\n",
       "      <td>455.0</td>\n",
       "      <td>1500.0</td>\n",
       "      <td>4.50</td>\n",
       "      <td>56.5</td>\n",
       "    </tr>\n",
       "    <tr>\n",
       "      <th>Expert</th>\n",
       "      <td>1</td>\n",
       "      <td>455.0</td>\n",
       "      <td>540.0</td>\n",
       "      <td>4.80</td>\n",
       "      <td>73.0</td>\n",
       "    </tr>\n",
       "    <tr>\n",
       "      <th>Intermediate</th>\n",
       "      <td>12</td>\n",
       "      <td>455.0</td>\n",
       "      <td>570.0</td>\n",
       "      <td>4.45</td>\n",
       "      <td>58.0</td>\n",
       "    </tr>\n",
       "  </tbody>\n",
       "</table>\n",
       "</div>"
      ],
      "text/plain": [
       "              name  price  duration  rating  lectures\n",
       "level                                                \n",
       "All Levels     101  455.0    1740.0    4.50     108.0\n",
       "Beginner        40  455.0    1500.0    4.50      56.5\n",
       "Expert           1  455.0     540.0    4.80      73.0\n",
       "Intermediate    12  455.0     570.0    4.45      58.0"
      ]
     },
     "execution_count": 27,
     "metadata": {},
     "output_type": "execute_result"
    }
   ],
   "source": [
    "data.groupby('level').agg({'name':'count','price':'median', 'duration':'median', 'rating':'median', 'lectures':'median'})"
   ]
  },
  {
   "cell_type": "code",
   "execution_count": null,
   "id": "15193ef9",
   "metadata": {},
   "outputs": [],
   "source": []
  },
  {
   "cell_type": "code",
   "execution_count": null,
   "id": "1ff2fce2",
   "metadata": {},
   "outputs": [],
   "source": []
  }
 ],
 "metadata": {
  "kernelspec": {
   "display_name": "Python 3",
   "language": "python",
   "name": "python3"
  },
  "language_info": {
   "codemirror_mode": {
    "name": "ipython",
    "version": 3
   },
   "file_extension": ".py",
   "mimetype": "text/x-python",
   "name": "python",
   "nbconvert_exporter": "python",
   "pygments_lexer": "ipython3",
   "version": "3.9.5"
  }
 },
 "nbformat": 4,
 "nbformat_minor": 5
}
