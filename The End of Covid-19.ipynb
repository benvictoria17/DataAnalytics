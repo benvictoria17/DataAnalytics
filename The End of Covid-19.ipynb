{
  "cells":[
    {
      "cell_type":"code",
      "source":[
        "import numpy as np \n",
        "import pandas as pd \n",
        "import seaborn as sns \n",
        "import matplotlib.pyplot as plt"
      ],
      "execution_count":31,
      "outputs":[
        
      ],
      "metadata":{
        "datalore":{
          "sheet_delimiter":false
        }
      }
    },
    {
      "cell_type":"code",
      "source":[
        "pd.options.display.float_format = \"{:,.2f}\".format\n",
        "pd.set_option('display.max_columns', None)\n",
        "pd.set_option('display.max_rows', None)"
      ],
      "execution_count":32,
      "outputs":[
        
      ],
      "metadata":{
        "datalore":{
          "sheet_delimiter":false
        }
      }
    },
    {
      "cell_type":"code",
      "source":[
        "df = pd.read_csv('https:\/\/raw.githubusercontent.com\/benvictoria17\/DataVisualization\/master\/dataset\/COVID-19%20World%20Vaccination%20Progress\/country_vaccinations.csv')\n",
        "manufacturer = pd.read_csv('https:\/\/raw.githubusercontent.com\/benvictoria17\/DataVisualization\/master\/dataset\/COVID-19%20World%20Vaccination%20Progress\/country_vaccinations_by_manufacturer.csv')"
      ],
      "execution_count":33,
      "outputs":[
        
      ],
      "metadata":{
        "datalore":{
          "sheet_delimiter":false
        }
      }
    },
    {
      "cell_type":"code",
      "source":[
        "df = df.drop(['total_vaccinations', 'source_website', 'daily_vaccinations_raw', 'source_name'], axis = 1)"
      ],
      "execution_count":34,
      "outputs":[
        
      ],
      "metadata":{
        "datalore":{
          "sheet_delimiter":false
        }
      }
    },
    {
      "cell_type":"code",
      "source":[
        "(df.isnull().sum() \/ df.shape[0]).sort_values(ascending = False)"
      ],
      "execution_count":35,
      "outputs":[
        {
          "data":{
            "text\/html":[
              
            ]
          },
          "metadata":{
            
          },
          "output_type":"display_data"
        }
      ],
      "metadata":{
        "datalore":{
          "sheet_delimiter":false
        }
      }
    },
    {
      "cell_type":"code",
      "source":[
        "df.date = pd.to_datetime(df.date)"
      ],
      "execution_count":36,
      "outputs":[
        
      ],
      "metadata":{
        "datalore":{
          "sheet_delimiter":false
        }
      }
    },
    {
      "cell_type":"code",
      "source":[
        "countries = pd.DataFrame()\n",
        "for country in df.country.unique():\n",
        "    countries.loc[country, 'avgDaily'] = df[(df.country == country) & (~df.daily_vaccinations_per_million.isna())].sort_values('date').iloc[-30:].daily_vaccinations_per_million.mean() \/ 10000\n",
        "    countries.loc[country, 'percVac'] = df[(df.country == country) & (~df.people_vaccinated_per_hundred.isna())].sort_values('date').iloc[-1].people_vaccinated_per_hundred\n",
        "    countries.loc[country, 'percFullyVac'] = df[(df.country == country) & (~df.people_fully_vaccinated_per_hundred.isna())].sort_values('date').iloc[-1].people_fully_vaccinated_per_hundred\n",
        "    countries.loc[country, 'datePercVac'] = df[(df.country == country) & (~df.people_vaccinated_per_hundred.isna())].sort_values('date').iloc[-1].date\n",
        "    countries.loc[country, 'population'] = 100 * df[(df.country == country) & (~df.people_vaccinated.isna())].sort_values('date').iloc[-1].people_vaccinated \/ countries.loc[country, 'percVac']"
      ],
      "execution_count":37,
      "outputs":[
        
      ],
      "metadata":{
        "datalore":{
          "sheet_delimiter":false
        }
      }
    },
    {
      "cell_type":"code",
      "source":[
        "big_countries = countries[countries.population > 500000][['avgDaily', 'percVac', 'percFullyVac', 'population']]\n",
        "\n",
        "big_countries.sort_values('avgDaily').head(n=10)"
      ],
      "execution_count":38,
      "outputs":[
        {
          "data":{
            "text\/html":[
              "<div>\n",
              "<style scoped>\n",
              "    .dataframe tbody tr th:only-of-type {\n",
              "        vertical-align: middle;\n",
              "    }\n",
              "\n",
              "    .dataframe tbody tr th {\n",
              "        vertical-align: top;\n",
              "    }\n",
              "\n",
              "    .dataframe thead th {\n",
              "        text-align: right;\n",
              "    }\n",
              "<\/style>\n",
              "<table border=\"1\" class=\"dataframe\">\n",
              "  <thead>\n",
              "    <tr style=\"text-align: right;\">\n",
              "      <th><\/th>\n",
              "      <th>avgDaily<\/th>\n",
              "      <th>percVac<\/th>\n",
              "      <th>percFullyVac<\/th>\n",
              "      <th>population<\/th>\n",
              "    <\/tr>\n",
              "  <\/thead>\n",
              "  <tbody>\n",
              "    <tr>\n",
              "      <th>Burundi<\/th>\n",
              "      <td>0.00<\/td>\n",
              "      <td>0.03<\/td>\n",
              "      <td>0.03<\/td>\n",
              "      <td>13,366,666.67<\/td>\n",
              "    <\/tr>\n",
              "    <tr>\n",
              "      <th>Democratic Republic of Congo<\/th>\n",
              "      <td>0.00<\/td>\n",
              "      <td>0.24<\/td>\n",
              "      <td>0.11<\/td>\n",
              "      <td>90,575,833.33<\/td>\n",
              "    <\/tr>\n",
              "    <tr>\n",
              "      <th>Gambia<\/th>\n",
              "      <td>0.01<\/td>\n",
              "      <td>9.81<\/td>\n",
              "      <td>9.25<\/td>\n",
              "      <td>2,487,217.13<\/td>\n",
              "    <\/tr>\n",
              "    <tr>\n",
              "      <th>Haiti<\/th>\n",
              "      <td>0.01<\/td>\n",
              "      <td>1.06<\/td>\n",
              "      <td>0.62<\/td>\n",
              "      <td>11,564,150.94<\/td>\n",
              "    <\/tr>\n",
              "    <tr>\n",
              "      <th>Bhutan<\/th>\n",
              "      <td>0.01<\/td>\n",
              "      <td>75.62<\/td>\n",
              "      <td>72.46<\/td>\n",
              "      <td>779,902.14<\/td>\n",
              "    <\/tr>\n",
              "    <tr>\n",
              "      <th>Niger<\/th>\n",
              "      <td>0.01<\/td>\n",
              "      <td>2.02<\/td>\n",
              "      <td>1.85<\/td>\n",
              "      <td>25,110,049.50<\/td>\n",
              "    <\/tr>\n",
              "    <tr>\n",
              "      <th>Chad<\/th>\n",
              "      <td>0.01<\/td>\n",
              "      <td>1.69<\/td>\n",
              "      <td>0.48<\/td>\n",
              "      <td>16,918,461.54<\/td>\n",
              "    <\/tr>\n",
              "    <tr>\n",
              "      <th>Madagascar<\/th>\n",
              "      <td>0.02<\/td>\n",
              "      <td>2.07<\/td>\n",
              "      <td>1.90<\/td>\n",
              "      <td>28,454,251.21<\/td>\n",
              "    <\/tr>\n",
              "    <tr>\n",
              "      <th>Equatorial Guinea<\/th>\n",
              "      <td>0.02<\/td>\n",
              "      <td>17.19<\/td>\n",
              "      <td>14.03<\/td>\n",
              "      <td>1,450,122.16<\/td>\n",
              "    <\/tr>\n",
              "    <tr>\n",
              "      <th>Yemen<\/th>\n",
              "      <td>0.03<\/td>\n",
              "      <td>1.83<\/td>\n",
              "      <td>1.20<\/td>\n",
              "      <td>30,418,142.08<\/td>\n",
              "    <\/tr>\n",
              "  <\/tbody>\n",
              "<\/table>\n",
              "<\/div>"
            ]
          },
          "metadata":{
            
          },
          "output_type":"display_data"
        }
      ],
      "metadata":{
        "datalore":{
          "sheet_delimiter":false
        }
      }
    },
    {
      "cell_type":"code",
      "source":[
        "big_countries.sort_values('avgDaily', ascending = False).head(n=10)"
      ],
      "execution_count":39,
      "outputs":[
        {
          "data":{
            "text\/html":[
              "<div>\n",
              "<style scoped>\n",
              "    .dataframe tbody tr th:only-of-type {\n",
              "        vertical-align: middle;\n",
              "    }\n",
              "\n",
              "    .dataframe tbody tr th {\n",
              "        vertical-align: top;\n",
              "    }\n",
              "\n",
              "    .dataframe thead th {\n",
              "        text-align: right;\n",
              "    }\n",
              "<\/style>\n",
              "<table border=\"1\" class=\"dataframe\">\n",
              "  <thead>\n",
              "    <tr style=\"text-align: right;\">\n",
              "      <th><\/th>\n",
              "      <th>avgDaily<\/th>\n",
              "      <th>percVac<\/th>\n",
              "      <th>percFullyVac<\/th>\n",
              "      <th>population<\/th>\n",
              "    <\/tr>\n",
              "  <\/thead>\n",
              "  <tbody>\n",
              "    <tr>\n",
              "      <th>Nicaragua<\/th>\n",
              "      <td>1.61<\/td>\n",
              "      <td>69.06<\/td>\n",
              "      <td>39.98<\/td>\n",
              "      <td>6,702,717.93<\/td>\n",
              "    <\/tr>\n",
              "    <tr>\n",
              "      <th>Botswana<\/th>\n",
              "      <td>1.18<\/td>\n",
              "      <td>47.21<\/td>\n",
              "      <td>41.95<\/td>\n",
              "      <td>2,397,180.68<\/td>\n",
              "    <\/tr>\n",
              "    <tr>\n",
              "      <th>Denmark<\/th>\n",
              "      <td>1.11<\/td>\n",
              "      <td>82.29<\/td>\n",
              "      <td>78.03<\/td>\n",
              "      <td>5,813,609.19<\/td>\n",
              "    <\/tr>\n",
              "    <tr>\n",
              "      <th>Austria<\/th>\n",
              "      <td>1.08<\/td>\n",
              "      <td>72.86<\/td>\n",
              "      <td>70.82<\/td>\n",
              "      <td>9,042,506.18<\/td>\n",
              "    <\/tr>\n",
              "    <tr>\n",
              "      <th>Vietnam<\/th>\n",
              "      <td>1.07<\/td>\n",
              "      <td>78.51<\/td>\n",
              "      <td>57.44<\/td>\n",
              "      <td>98,171,732.26<\/td>\n",
              "    <\/tr>\n",
              "    <tr>\n",
              "      <th>Germany<\/th>\n",
              "      <td>1.05<\/td>\n",
              "      <td>73.19<\/td>\n",
              "      <td>70.19<\/td>\n",
              "      <td>83,903,714.99<\/td>\n",
              "    <\/tr>\n",
              "    <tr>\n",
              "      <th>South Korea<\/th>\n",
              "      <td>0.97<\/td>\n",
              "      <td>85.73<\/td>\n",
              "      <td>82.48<\/td>\n",
              "      <td>51,303,965.94<\/td>\n",
              "    <\/tr>\n",
              "    <tr>\n",
              "      <th>Greece<\/th>\n",
              "      <td>0.92<\/td>\n",
              "      <td>71.46<\/td>\n",
              "      <td>66.77<\/td>\n",
              "      <td>10,370,876.01<\/td>\n",
              "    <\/tr>\n",
              "    <tr>\n",
              "      <th>Bangladesh<\/th>\n",
              "      <td>0.92<\/td>\n",
              "      <td>52.64<\/td>\n",
              "      <td>26.90<\/td>\n",
              "      <td>166,312,070.67<\/td>\n",
              "    <\/tr>\n",
              "    <tr>\n",
              "      <th>Mongolia<\/th>\n",
              "      <td>0.89<\/td>\n",
              "      <td>68.05<\/td>\n",
              "      <td>64.96<\/td>\n",
              "      <td>3,329,340.19<\/td>\n",
              "    <\/tr>\n",
              "  <\/tbody>\n",
              "<\/table>\n",
              "<\/div>"
            ]
          },
          "metadata":{
            
          },
          "output_type":"display_data"
        }
      ],
      "metadata":{
        "datalore":{
          "sheet_delimiter":false
        }
      }
    },
    {
      "cell_type":"code",
      "source":[
        "countries['daysTillOneShot'] = (100 - countries.percVac) \/ countries.avgDaily\n",
        "countries['daysTillTwoShots'] = (200 - countries.percFullyVac - countries.percVac) \/ countries.avgDaily\n",
        "countries['daysTillThreeShots'] = (300 - countries.percFullyVac - countries.percVac) \/ countries.avgDaily"
      ],
      "execution_count":40,
      "outputs":[
        
      ],
      "metadata":{
        "datalore":{
          "sheet_delimiter":false
        }
      }
    },
    {
      "cell_type":"code",
      "source":[
        "def ceiling_map(x):\n",
        "    return min(x, 50000)\n",
        "\n",
        "temp = countries['daysTillOneShot'].apply(np.ceil).map(ceiling_map).map(lambda x: pd.Timedelta(x, unit='D'))\n",
        "temp2 = countries['daysTillTwoShots'].apply(np.ceil).map(ceiling_map).map(lambda x: pd.Timedelta(x, unit='D'))\n",
        "temp3 = countries['daysTillThreeShots'].apply(np.ceil).map(ceiling_map).map(lambda x: pd.Timedelta(x, unit='D'))\n",
        "\n",
        "days = pd.DataFrame()\n",
        "\n",
        "days['dateOneShot'] = countries.datePercVac + temp\n",
        "days['dateTwoShot'] = countries.datePercVac + temp2\n",
        "days['dateThreeShot'] = countries.datePercVac + temp3"
      ],
      "execution_count":41,
      "outputs":[
        
      ],
      "metadata":{
        "datalore":{
          "sheet_delimiter":false
        }
      }
    },
    {
      "cell_type":"code",
      "source":[
        "days['yearOneShot'] = days.dateOneShot.dt.year.fillna(2158).astype(int)\n",
        "days['yearTwoShot'] = days.dateTwoShot.dt.year.fillna(2158).astype(int)\n",
        "days['yearThreeShot'] = days.dateThreeShot.dt.year.astype(int)\n",
        "counts = pd.DataFrame()\n",
        "years = days[['yearOneShot', 'yearTwoShot', 'yearThreeShot']]\n",
        "for year in range(2021, 2051):\n",
        "    counts[str(year)] = years[years <= year].count() \/ years.shape[0]\n",
        "big_countries = days[countries.population > 500000][['dateOneShot', 'dateTwoShot', 'dateThreeShot']]"
      ],
      "execution_count":42,
      "outputs":[
        
      ],
      "metadata":{
        "datalore":{
          "sheet_delimiter":false
        }
      }
    },
    {
      "cell_type":"code",
      "source":[
        "big_countries.sort_values('dateTwoShot').head(n=10)"
      ],
      "execution_count":43,
      "outputs":[
        {
          "data":{
            "text\/html":[
              "<div>\n",
              "<style scoped>\n",
              "    .dataframe tbody tr th:only-of-type {\n",
              "        vertical-align: middle;\n",
              "    }\n",
              "\n",
              "    .dataframe tbody tr th {\n",
              "        vertical-align: top;\n",
              "    }\n",
              "\n",
              "    .dataframe thead th {\n",
              "        text-align: right;\n",
              "    }\n",
              "<\/style>\n",
              "<table border=\"1\" class=\"dataframe\">\n",
              "  <thead>\n",
              "    <tr style=\"text-align: right;\">\n",
              "      <th><\/th>\n",
              "      <th>dateOneShot<\/th>\n",
              "      <th>dateTwoShot<\/th>\n",
              "      <th>dateThreeShot<\/th>\n",
              "    <\/tr>\n",
              "  <\/thead>\n",
              "  <tbody>\n",
              "    <tr>\n",
              "      <th>Turkmenistan<\/th>\n",
              "      <td>2021-10-11<\/td>\n",
              "      <td>2021-12-20<\/td>\n",
              "      <td>2022-05-17<\/td>\n",
              "    <\/tr>\n",
              "    <tr>\n",
              "      <th>China<\/th>\n",
              "      <td>2021-12-13<\/td>\n",
              "      <td>2022-01-09<\/td>\n",
              "      <td>2022-06-11<\/td>\n",
              "    <\/tr>\n",
              "    <tr>\n",
              "      <th>Portugal<\/th>\n",
              "      <td>2022-01-09<\/td>\n",
              "      <td>2022-01-27<\/td>\n",
              "      <td>2022-07-09<\/td>\n",
              "    <\/tr>\n",
              "    <tr>\n",
              "      <th>South Korea<\/th>\n",
              "      <td>2022-01-10<\/td>\n",
              "      <td>2022-01-28<\/td>\n",
              "      <td>2022-05-11<\/td>\n",
              "    <\/tr>\n",
              "    <tr>\n",
              "      <th>Denmark<\/th>\n",
              "      <td>2022-01-09<\/td>\n",
              "      <td>2022-01-29<\/td>\n",
              "      <td>2022-04-29<\/td>\n",
              "    <\/tr>\n",
              "    <tr>\n",
              "      <th>Chile<\/th>\n",
              "      <td>2022-01-11<\/td>\n",
              "      <td>2022-02-06<\/td>\n",
              "      <td>2022-08-10<\/td>\n",
              "    <\/tr>\n",
              "    <tr>\n",
              "      <th>Nicaragua<\/th>\n",
              "      <td>2022-01-04<\/td>\n",
              "      <td>2022-02-10<\/td>\n",
              "      <td>2022-04-13<\/td>\n",
              "    <\/tr>\n",
              "    <tr>\n",
              "      <th>United Arab Emirates<\/th>\n",
              "      <td>2021-12-29<\/td>\n",
              "      <td>2022-02-10<\/td>\n",
              "      <td>2023-05-16<\/td>\n",
              "    <\/tr>\n",
              "    <tr>\n",
              "      <th>Cuba<\/th>\n",
              "      <td>2022-01-11<\/td>\n",
              "      <td>2022-02-12<\/td>\n",
              "      <td>2022-09-14<\/td>\n",
              "    <\/tr>\n",
              "    <tr>\n",
              "      <th>Spain<\/th>\n",
              "      <td>2022-01-16<\/td>\n",
              "      <td>2022-02-15<\/td>\n",
              "      <td>2022-07-23<\/td>\n",
              "    <\/tr>\n",
              "  <\/tbody>\n",
              "<\/table>\n",
              "<\/div>"
            ]
          },
          "metadata":{
            
          },
          "output_type":"display_data"
        }
      ],
      "metadata":{
        "datalore":{
          "sheet_delimiter":false
        }
      }
    },
    {
      "cell_type":"code",
      "source":[
        "big_countries.sort_values('dateTwoShot', ascending = False).head(n=10)"
      ],
      "execution_count":44,
      "outputs":[
        {
          "data":{
            "text\/html":[
              "<div>\n",
              "<style scoped>\n",
              "    .dataframe tbody tr th:only-of-type {\n",
              "        vertical-align: middle;\n",
              "    }\n",
              "\n",
              "    .dataframe tbody tr th {\n",
              "        vertical-align: top;\n",
              "    }\n",
              "\n",
              "    .dataframe thead th {\n",
              "        text-align: right;\n",
              "    }\n",
              "<\/style>\n",
              "<table border=\"1\" class=\"dataframe\">\n",
              "  <thead>\n",
              "    <tr style=\"text-align: right;\">\n",
              "      <th><\/th>\n",
              "      <th>dateOneShot<\/th>\n",
              "      <th>dateTwoShot<\/th>\n",
              "      <th>dateThreeShot<\/th>\n",
              "    <\/tr>\n",
              "  <\/thead>\n",
              "  <tbody>\n",
              "    <tr>\n",
              "      <th>Burundi<\/th>\n",
              "      <td>2158-11-15<\/td>\n",
              "      <td>2158-11-15<\/td>\n",
              "      <td>2158-11-15<\/td>\n",
              "    <\/tr>\n",
              "    <tr>\n",
              "      <th>Democratic Republic of Congo<\/th>\n",
              "      <td>2093-05-08<\/td>\n",
              "      <td>2158-11-14<\/td>\n",
              "      <td>2158-11-14<\/td>\n",
              "    <\/tr>\n",
              "    <tr>\n",
              "      <th>Gambia<\/th>\n",
              "      <td>2051-10-15<\/td>\n",
              "      <td>2081-10-22<\/td>\n",
              "      <td>2114-11-21<\/td>\n",
              "    <\/tr>\n",
              "    <tr>\n",
              "      <th>Haiti<\/th>\n",
              "      <td>2050-01-30<\/td>\n",
              "      <td>2078-04-29<\/td>\n",
              "      <td>2106-10-01<\/td>\n",
              "    <\/tr>\n",
              "    <tr>\n",
              "      <th>Niger<\/th>\n",
              "      <td>2046-03-31<\/td>\n",
              "      <td>2070-08-16<\/td>\n",
              "      <td>2095-06-17<\/td>\n",
              "    <\/tr>\n",
              "    <tr>\n",
              "      <th>Chad<\/th>\n",
              "      <td>2042-02-18<\/td>\n",
              "      <td>2062-07-23<\/td>\n",
              "      <td>2083-01-31<\/td>\n",
              "    <\/tr>\n",
              "    <tr>\n",
              "      <th>Madagascar<\/th>\n",
              "      <td>2039-04-08<\/td>\n",
              "      <td>2056-08-19<\/td>\n",
              "      <td>2074-05-02<\/td>\n",
              "    <\/tr>\n",
              "    <tr>\n",
              "      <th>Yemen<\/th>\n",
              "      <td>2032-05-11<\/td>\n",
              "      <td>2042-11-13<\/td>\n",
              "      <td>2053-07-02<\/td>\n",
              "    <\/tr>\n",
              "    <tr>\n",
              "      <th>Equatorial Guinea<\/th>\n",
              "      <td>2031-06-30<\/td>\n",
              "      <td>2041-05-16<\/td>\n",
              "      <td>2052-11-12<\/td>\n",
              "    <\/tr>\n",
              "    <tr>\n",
              "      <th>South Sudan<\/th>\n",
              "      <td>2031-03-24<\/td>\n",
              "      <td>2040-07-13<\/td>\n",
              "      <td>2049-12-27<\/td>\n",
              "    <\/tr>\n",
              "  <\/tbody>\n",
              "<\/table>\n",
              "<\/div>"
            ]
          },
          "metadata":{
            
          },
          "output_type":"display_data"
        }
      ],
      "metadata":{
        "datalore":{
          "sheet_delimiter":false
        }
      }
    },
    {
      "cell_type":"code",
      "source":[
        "counts.T.plot(figsize=(20,10), title = 'The percentadge of countries achieving one\/two\/three shots before the given year');"
      ],
      "execution_count":45,
      "outputs":[
        {
          "data":{
            "image\/png":"[encoded data removed]"
          },
          "metadata":{
            "image\/png":{
              
            }
          },
          "output_type":"display_data"
        }
      ],
      "metadata":{
        "datalore":{
          "sheet_delimiter":false
        }
      }
    }
  ],
  "metadata":{
    
  },
  "nbformat":4,
  "nbformat_minor":0
}