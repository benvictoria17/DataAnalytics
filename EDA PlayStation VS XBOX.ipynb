{
 "cells": [
  {
   "cell_type": "code",
   "execution_count": 1,
   "id": "7b2dcfb8",
   "metadata": {},
   "outputs": [],
   "source": [
    "import numpy as np\n",
    "import pandas as pd\n",
    "pd.options.mode.chained_assignment = None\n",
    "import matplotlib.pyplot as plt\n",
    "import seaborn as sns"
   ]
  },
  {
   "cell_type": "code",
   "execution_count": 2,
   "id": "b6273e9c",
   "metadata": {},
   "outputs": [],
   "source": [
    "game = pd.read_csv(\"https://raw.githubusercontent.com/benvictoria17/DataAnalytics/master/dataset/Top%20Video%20Games%201995-2021%20Metacritic/all_games.csv\")"
   ]
  },
  {
   "cell_type": "code",
   "execution_count": 3,
   "id": "43ee0420",
   "metadata": {},
   "outputs": [
    {
     "name": "stdout",
     "output_type": "stream",
     "text": [
      "<class 'pandas.core.frame.DataFrame'>\n",
      "RangeIndex: 18800 entries, 0 to 18799\n",
      "Data columns (total 6 columns):\n",
      " #   Column        Non-Null Count  Dtype \n",
      "---  ------        --------------  ----- \n",
      " 0   name          18800 non-null  object\n",
      " 1   platform      18800 non-null  object\n",
      " 2   release_date  18800 non-null  object\n",
      " 3   summary       18686 non-null  object\n",
      " 4   meta_score    18800 non-null  int64 \n",
      " 5   user_review   18800 non-null  object\n",
      "dtypes: int64(1), object(5)\n",
      "memory usage: 881.4+ KB\n"
     ]
    }
   ],
   "source": [
    "game.info()"
   ]
  },
  {
   "cell_type": "code",
   "execution_count": 4,
   "id": "6b83864d",
   "metadata": {},
   "outputs": [
    {
     "data": {
      "text/html": [
       "<div>\n",
       "<style scoped>\n",
       "    .dataframe tbody tr th:only-of-type {\n",
       "        vertical-align: middle;\n",
       "    }\n",
       "\n",
       "    .dataframe tbody tr th {\n",
       "        vertical-align: top;\n",
       "    }\n",
       "\n",
       "    .dataframe thead th {\n",
       "        text-align: right;\n",
       "    }\n",
       "</style>\n",
       "<table border=\"1\" class=\"dataframe\">\n",
       "  <thead>\n",
       "    <tr style=\"text-align: right;\">\n",
       "      <th></th>\n",
       "      <th>name</th>\n",
       "      <th>platform</th>\n",
       "      <th>release_date</th>\n",
       "      <th>summary</th>\n",
       "      <th>meta_score</th>\n",
       "      <th>user_review</th>\n",
       "    </tr>\n",
       "  </thead>\n",
       "  <tbody>\n",
       "    <tr>\n",
       "      <th>0</th>\n",
       "      <td>The Legend of Zelda: Ocarina of Time</td>\n",
       "      <td>Nintendo 64</td>\n",
       "      <td>November 23, 1998</td>\n",
       "      <td>As a young boy, Link is tricked by Ganondorf, ...</td>\n",
       "      <td>99</td>\n",
       "      <td>9.1</td>\n",
       "    </tr>\n",
       "    <tr>\n",
       "      <th>1</th>\n",
       "      <td>Tony Hawk's Pro Skater 2</td>\n",
       "      <td>PlayStation</td>\n",
       "      <td>September 20, 2000</td>\n",
       "      <td>As most major publishers' development efforts ...</td>\n",
       "      <td>98</td>\n",
       "      <td>7.4</td>\n",
       "    </tr>\n",
       "    <tr>\n",
       "      <th>2</th>\n",
       "      <td>Grand Theft Auto IV</td>\n",
       "      <td>PlayStation 3</td>\n",
       "      <td>April 29, 2008</td>\n",
       "      <td>[Metacritic's 2008 PS3 Game of the Year; Also ...</td>\n",
       "      <td>98</td>\n",
       "      <td>7.7</td>\n",
       "    </tr>\n",
       "    <tr>\n",
       "      <th>3</th>\n",
       "      <td>SoulCalibur</td>\n",
       "      <td>Dreamcast</td>\n",
       "      <td>September 8, 1999</td>\n",
       "      <td>This is a tale of souls and swords, transcendi...</td>\n",
       "      <td>98</td>\n",
       "      <td>8.4</td>\n",
       "    </tr>\n",
       "    <tr>\n",
       "      <th>4</th>\n",
       "      <td>Grand Theft Auto IV</td>\n",
       "      <td>Xbox 360</td>\n",
       "      <td>April 29, 2008</td>\n",
       "      <td>[Metacritic's 2008 Xbox 360 Game of the Year; ...</td>\n",
       "      <td>98</td>\n",
       "      <td>7.9</td>\n",
       "    </tr>\n",
       "  </tbody>\n",
       "</table>\n",
       "</div>"
      ],
      "text/plain": [
       "                                   name        platform        release_date  \\\n",
       "0  The Legend of Zelda: Ocarina of Time     Nintendo 64   November 23, 1998   \n",
       "1              Tony Hawk's Pro Skater 2     PlayStation  September 20, 2000   \n",
       "2                   Grand Theft Auto IV   PlayStation 3      April 29, 2008   \n",
       "3                           SoulCalibur       Dreamcast   September 8, 1999   \n",
       "4                   Grand Theft Auto IV        Xbox 360      April 29, 2008   \n",
       "\n",
       "                                             summary  meta_score user_review  \n",
       "0  As a young boy, Link is tricked by Ganondorf, ...          99         9.1  \n",
       "1  As most major publishers' development efforts ...          98         7.4  \n",
       "2  [Metacritic's 2008 PS3 Game of the Year; Also ...          98         7.7  \n",
       "3  This is a tale of souls and swords, transcendi...          98         8.4  \n",
       "4  [Metacritic's 2008 Xbox 360 Game of the Year; ...          98         7.9  "
      ]
     },
     "execution_count": 4,
     "metadata": {},
     "output_type": "execute_result"
    }
   ],
   "source": [
    "game.head()"
   ]
  },
  {
   "cell_type": "code",
   "execution_count": 5,
   "id": "0d07f3dd",
   "metadata": {},
   "outputs": [
    {
     "data": {
      "text/html": [
       "<div>\n",
       "<style scoped>\n",
       "    .dataframe tbody tr th:only-of-type {\n",
       "        vertical-align: middle;\n",
       "    }\n",
       "\n",
       "    .dataframe tbody tr th {\n",
       "        vertical-align: top;\n",
       "    }\n",
       "\n",
       "    .dataframe thead th {\n",
       "        text-align: right;\n",
       "    }\n",
       "</style>\n",
       "<table border=\"1\" class=\"dataframe\">\n",
       "  <thead>\n",
       "    <tr style=\"text-align: right;\">\n",
       "      <th></th>\n",
       "      <th>name</th>\n",
       "      <th>platform</th>\n",
       "      <th>meta_score</th>\n",
       "      <th>user_review</th>\n",
       "      <th>Year</th>\n",
       "    </tr>\n",
       "  </thead>\n",
       "  <tbody>\n",
       "    <tr>\n",
       "      <th>0</th>\n",
       "      <td>The Legend of Zelda: Ocarina of Time</td>\n",
       "      <td>Nintendo 64</td>\n",
       "      <td>99</td>\n",
       "      <td>9.1</td>\n",
       "      <td>1998</td>\n",
       "    </tr>\n",
       "    <tr>\n",
       "      <th>1</th>\n",
       "      <td>Tony Hawk's Pro Skater 2</td>\n",
       "      <td>PlayStation</td>\n",
       "      <td>98</td>\n",
       "      <td>7.4</td>\n",
       "      <td>2000</td>\n",
       "    </tr>\n",
       "    <tr>\n",
       "      <th>2</th>\n",
       "      <td>Grand Theft Auto IV</td>\n",
       "      <td>PlayStation 3</td>\n",
       "      <td>98</td>\n",
       "      <td>7.7</td>\n",
       "      <td>2008</td>\n",
       "    </tr>\n",
       "    <tr>\n",
       "      <th>3</th>\n",
       "      <td>SoulCalibur</td>\n",
       "      <td>Dreamcast</td>\n",
       "      <td>98</td>\n",
       "      <td>8.4</td>\n",
       "      <td>1999</td>\n",
       "    </tr>\n",
       "    <tr>\n",
       "      <th>4</th>\n",
       "      <td>Grand Theft Auto IV</td>\n",
       "      <td>Xbox 360</td>\n",
       "      <td>98</td>\n",
       "      <td>7.9</td>\n",
       "      <td>2008</td>\n",
       "    </tr>\n",
       "  </tbody>\n",
       "</table>\n",
       "</div>"
      ],
      "text/plain": [
       "                                   name        platform  meta_score  \\\n",
       "0  The Legend of Zelda: Ocarina of Time     Nintendo 64          99   \n",
       "1              Tony Hawk's Pro Skater 2     PlayStation          98   \n",
       "2                   Grand Theft Auto IV   PlayStation 3          98   \n",
       "3                           SoulCalibur       Dreamcast          98   \n",
       "4                   Grand Theft Auto IV        Xbox 360          98   \n",
       "\n",
       "   user_review  Year  \n",
       "0          9.1  1998  \n",
       "1          7.4  2000  \n",
       "2          7.7  2008  \n",
       "3          8.4  1999  \n",
       "4          7.9  2008  "
      ]
     },
     "execution_count": 5,
     "metadata": {},
     "output_type": "execute_result"
    }
   ],
   "source": [
    "game.drop(columns = ['summary'] , inplace=True)\n",
    "game[\"user_review\"] = pd.to_numeric(game[\"user_review\"],errors='coerce')\n",
    "game['platform'] = game.platform.astype('category')\n",
    "game['name'] = game.name.astype(str)\n",
    "game['release_date']= pd.to_datetime(game['release_date'])\n",
    "game['Year'] = game['release_date'].dt.year\n",
    "game = game.drop(columns = 'release_date')\n",
    "game.head()"
   ]
  },
  {
   "cell_type": "code",
   "execution_count": 6,
   "id": "a5ebf2a4",
   "metadata": {},
   "outputs": [
    {
     "data": {
      "text/plain": [
       "array([9.1, 7.4, 7.7, 8.4, 7.9, 8. , 8.3, 6.2, 8.7, 7.5, 8.8, 8.5, 8.6,\n",
       "       8.9, 8.2, 9.2, 7.8, 9. , 9.3, 8.1, 6.8, 7.6, 6.9, 6.6, 7.3, 7.2,\n",
       "       9.4, 5.7, 6. , 5.8, 7.1, 3.3, 5. , 5.5, 6.5, 5.9, 6.7, 3.8, 6.4,\n",
       "       7. , 6.3, 4.9, nan, 5.3, 3.5, 4.7, 6.1, 4.8, 4.1, 5.6, 4.4, 5.4,\n",
       "       4.6, 3.1, 5.2, 4.3, 1.8, 4.5, 5.1, 4.2, 4. , 9.7, 3.2, 2.9, 2.1,\n",
       "       2.4, 3.4, 3. , 3.7, 2.2, 2.6, 2.7, 2.5, 2.8, 3.9, 2. , 9.6, 1.5,\n",
       "       3.6, 1.4, 1.2, 0.9, 1.9, 1.1, 1.7, 0.8, 1. , 0.6, 2.3, 0.5, 1.6,\n",
       "       0.2, 0.7, 1.3])"
      ]
     },
     "execution_count": 6,
     "metadata": {},
     "output_type": "execute_result"
    }
   ],
   "source": [
    "game['user_review'].unique()"
   ]
  },
  {
   "cell_type": "code",
   "execution_count": 7,
   "id": "37ade4cf",
   "metadata": {},
   "outputs": [],
   "source": [
    "game = game.dropna()"
   ]
  },
  {
   "cell_type": "code",
   "execution_count": 8,
   "id": "683f13d3",
   "metadata": {},
   "outputs": [
    {
     "data": {
      "text/plain": [
       "[' Nintendo 64', ' PlayStation', ' PlayStation 3', ' Dreamcast', ' Xbox 360', ..., ' DS', ' PlayStation Vita', ' PlayStation 5', ' PSP', ' Stadia']\n",
       "Length: 22\n",
       "Categories (22, object): [' 3DS', ' DS', ' Dreamcast', ' Game Boy Advance', ..., ' Xbox', ' Xbox 360', ' Xbox One', ' Xbox Series X']"
      ]
     },
     "execution_count": 8,
     "metadata": {},
     "output_type": "execute_result"
    }
   ],
   "source": [
    "game['platform'].unique()"
   ]
  },
  {
   "cell_type": "code",
   "execution_count": 9,
   "id": "6c433c50",
   "metadata": {},
   "outputs": [
    {
     "data": {
      "text/html": [
       "<div>\n",
       "<style scoped>\n",
       "    .dataframe tbody tr th:only-of-type {\n",
       "        vertical-align: middle;\n",
       "    }\n",
       "\n",
       "    .dataframe tbody tr th {\n",
       "        vertical-align: top;\n",
       "    }\n",
       "\n",
       "    .dataframe thead th {\n",
       "        text-align: right;\n",
       "    }\n",
       "</style>\n",
       "<table border=\"1\" class=\"dataframe\">\n",
       "  <thead>\n",
       "    <tr style=\"text-align: right;\">\n",
       "      <th></th>\n",
       "      <th>name</th>\n",
       "      <th>platform</th>\n",
       "      <th>meta_score</th>\n",
       "      <th>user_review</th>\n",
       "      <th>Year</th>\n",
       "    </tr>\n",
       "  </thead>\n",
       "  <tbody>\n",
       "    <tr>\n",
       "      <th>1</th>\n",
       "      <td>Tony Hawk's Pro Skater 2</td>\n",
       "      <td>PlayStation</td>\n",
       "      <td>98</td>\n",
       "      <td>74.0</td>\n",
       "      <td>2000</td>\n",
       "    </tr>\n",
       "    <tr>\n",
       "      <th>2</th>\n",
       "      <td>Grand Theft Auto IV</td>\n",
       "      <td>PlayStation 3</td>\n",
       "      <td>98</td>\n",
       "      <td>77.0</td>\n",
       "      <td>2008</td>\n",
       "    </tr>\n",
       "    <tr>\n",
       "      <th>9</th>\n",
       "      <td>Grand Theft Auto V</td>\n",
       "      <td>PlayStation 3</td>\n",
       "      <td>97</td>\n",
       "      <td>83.0</td>\n",
       "      <td>2013</td>\n",
       "    </tr>\n",
       "    <tr>\n",
       "      <th>14</th>\n",
       "      <td>Tony Hawk's Pro Skater 3</td>\n",
       "      <td>PlayStation 2</td>\n",
       "      <td>97</td>\n",
       "      <td>75.0</td>\n",
       "      <td>2001</td>\n",
       "    </tr>\n",
       "    <tr>\n",
       "      <th>16</th>\n",
       "      <td>Red Dead Redemption 2</td>\n",
       "      <td>PlayStation 4</td>\n",
       "      <td>97</td>\n",
       "      <td>85.0</td>\n",
       "      <td>2018</td>\n",
       "    </tr>\n",
       "  </tbody>\n",
       "</table>\n",
       "</div>"
      ],
      "text/plain": [
       "                        name        platform  meta_score  user_review  Year\n",
       "1   Tony Hawk's Pro Skater 2     PlayStation          98         74.0  2000\n",
       "2        Grand Theft Auto IV   PlayStation 3          98         77.0  2008\n",
       "9         Grand Theft Auto V   PlayStation 3          97         83.0  2013\n",
       "14  Tony Hawk's Pro Skater 3   PlayStation 2          97         75.0  2001\n",
       "16     Red Dead Redemption 2   PlayStation 4          97         85.0  2018"
      ]
     },
     "execution_count": 9,
     "metadata": {},
     "output_type": "execute_result"
    }
   ],
   "source": [
    "PS_games = game[game['platform'].str.contains(' PlayStation', na=False)]\n",
    "PS_games = PS_games.drop(game[game['platform'] == ' PlayStation Vita'].index)\n",
    "PS_games.user_review = PS_games.user_review*10\n",
    "PS_games.head()"
   ]
  },
  {
   "cell_type": "code",
   "execution_count": 10,
   "id": "10c933e5",
   "metadata": {},
   "outputs": [
    {
     "name": "stdout",
     "output_type": "stream",
     "text": [
      "              min   max       mean  median        std\n",
      "Meta Score   21.0  98.0  71.036249    73.0  12.241216\n",
      "User Review   2.0  97.0  69.367966    72.0  14.178714\n"
     ]
    }
   ],
   "source": [
    "PS_data = {'min' : [np.min(PS_games.meta_score) , np.min(PS_games.user_review)],\n",
    "        'max' : [np.max(PS_games.meta_score) , np.max(PS_games.user_review)],\n",
    "        'mean' : [np.mean(PS_games.meta_score) , np.mean(PS_games.user_review)],\n",
    "        'median' : [np.median(PS_games.meta_score) , np.nanmedian(PS_games.user_review)],\n",
    "        'std' : [np.std(PS_games.meta_score) , np.std(PS_games.user_review)]}\n",
    "PS_number_summary = pd.DataFrame(PS_data , index=['Meta Score' , 'User Review'])\n",
    "print(PS_number_summary)"
   ]
  },
  {
   "cell_type": "code",
   "execution_count": 11,
   "id": "dd46c23d",
   "metadata": {},
   "outputs": [
    {
     "data": {
      "image/png": "[encoded data removed]",
      "text/plain": [
       "<Figure size 432x288 with 1 Axes>"
      ]
     },
     "metadata": {},
     "output_type": "display_data"
    }
   ],
   "source": [
    "sns.set_style('darkgrid')\n",
    "PS_games[['meta_score' , 'user_review']].plot.box(title = 'PlayStation PlotBox')\n",
    "plt.show()"
   ]
  },
  {
   "cell_type": "code",
   "execution_count": 12,
   "id": "16209e8e",
   "metadata": {},
   "outputs": [
    {
     "data": {
      "image/png": "[encoded data removed]",
      "text/plain": [
       "<Figure size 432x288 with 1 Axes>"
      ]
     },
     "metadata": {},
     "output_type": "display_data"
    }
   ],
   "source": [
    "PS_by_year = PS_games.groupby('Year')[['meta_score','user_review']].mean().reset_index()\n",
    "PS_by_Gen = PS_games.groupby('platform')[['meta_score','user_review']].mean().reset_index()\n",
    "PS_by_Gen = PS_by_Gen.dropna()\n",
    "PS_by_year.set_index('Year').plot.bar(title = \"PlayStation's scores by Year\")\n",
    "plt.show()"
   ]
  },
  {
   "cell_type": "code",
   "execution_count": 13,
   "id": "727584d7",
   "metadata": {},
   "outputs": [
    {
     "data": {
      "image/png": "[encoded data removed]",
      "text/plain": [
       "<Figure size 432x288 with 1 Axes>"
      ]
     },
     "metadata": {},
     "output_type": "display_data"
    }
   ],
   "source": [
    "PS_by_Gen.set_index('platform').plot.bar(title = \"PlayStation's scores by Gen\")\n",
    "plt.show()"
   ]
  },
  {
   "cell_type": "code",
   "execution_count": 14,
   "id": "c231c6cc",
   "metadata": {},
   "outputs": [
    {
     "data": {
      "text/html": [
       "<div>\n",
       "<style scoped>\n",
       "    .dataframe tbody tr th:only-of-type {\n",
       "        vertical-align: middle;\n",
       "    }\n",
       "\n",
       "    .dataframe tbody tr th {\n",
       "        vertical-align: top;\n",
       "    }\n",
       "\n",
       "    .dataframe thead th {\n",
       "        text-align: right;\n",
       "    }\n",
       "</style>\n",
       "<table border=\"1\" class=\"dataframe\">\n",
       "  <thead>\n",
       "    <tr style=\"text-align: right;\">\n",
       "      <th></th>\n",
       "      <th>name</th>\n",
       "      <th>platform</th>\n",
       "      <th>meta_score</th>\n",
       "      <th>Year</th>\n",
       "    </tr>\n",
       "  </thead>\n",
       "  <tbody>\n",
       "    <tr>\n",
       "      <th>1</th>\n",
       "      <td>Tony Hawk's Pro Skater 2</td>\n",
       "      <td>PlayStation</td>\n",
       "      <td>98</td>\n",
       "      <td>2000</td>\n",
       "    </tr>\n",
       "    <tr>\n",
       "      <th>2</th>\n",
       "      <td>Grand Theft Auto IV</td>\n",
       "      <td>PlayStation 3</td>\n",
       "      <td>98</td>\n",
       "      <td>2008</td>\n",
       "    </tr>\n",
       "    <tr>\n",
       "      <th>9</th>\n",
       "      <td>Grand Theft Auto V</td>\n",
       "      <td>PlayStation 3</td>\n",
       "      <td>97</td>\n",
       "      <td>2013</td>\n",
       "    </tr>\n",
       "    <tr>\n",
       "      <th>14</th>\n",
       "      <td>Tony Hawk's Pro Skater 3</td>\n",
       "      <td>PlayStation 2</td>\n",
       "      <td>97</td>\n",
       "      <td>2001</td>\n",
       "    </tr>\n",
       "    <tr>\n",
       "      <th>16</th>\n",
       "      <td>Red Dead Redemption 2</td>\n",
       "      <td>PlayStation 4</td>\n",
       "      <td>97</td>\n",
       "      <td>2018</td>\n",
       "    </tr>\n",
       "    <tr>\n",
       "      <th>17</th>\n",
       "      <td>Grand Theft Auto V</td>\n",
       "      <td>PlayStation 4</td>\n",
       "      <td>97</td>\n",
       "      <td>2014</td>\n",
       "    </tr>\n",
       "    <tr>\n",
       "      <th>19</th>\n",
       "      <td>Grand Theft Auto III</td>\n",
       "      <td>PlayStation 2</td>\n",
       "      <td>97</td>\n",
       "      <td>2001</td>\n",
       "    </tr>\n",
       "    <tr>\n",
       "      <th>39</th>\n",
       "      <td>Resident Evil 4</td>\n",
       "      <td>PlayStation 2</td>\n",
       "      <td>96</td>\n",
       "      <td>2005</td>\n",
       "    </tr>\n",
       "    <tr>\n",
       "      <th>43</th>\n",
       "      <td>Metal Gear Solid 2: Sons of Liberty</td>\n",
       "      <td>PlayStation 2</td>\n",
       "      <td>96</td>\n",
       "      <td>2001</td>\n",
       "    </tr>\n",
       "    <tr>\n",
       "      <th>41</th>\n",
       "      <td>Gran Turismo</td>\n",
       "      <td>PlayStation</td>\n",
       "      <td>96</td>\n",
       "      <td>1998</td>\n",
       "    </tr>\n",
       "  </tbody>\n",
       "</table>\n",
       "</div>"
      ],
      "text/plain": [
       "                                   name        platform  meta_score  Year\n",
       "1              Tony Hawk's Pro Skater 2     PlayStation          98  2000\n",
       "2                   Grand Theft Auto IV   PlayStation 3          98  2008\n",
       "9                    Grand Theft Auto V   PlayStation 3          97  2013\n",
       "14             Tony Hawk's Pro Skater 3   PlayStation 2          97  2001\n",
       "16                Red Dead Redemption 2   PlayStation 4          97  2018\n",
       "17                   Grand Theft Auto V   PlayStation 4          97  2014\n",
       "19                 Grand Theft Auto III   PlayStation 2          97  2001\n",
       "39                      Resident Evil 4   PlayStation 2          96  2005\n",
       "43  Metal Gear Solid 2: Sons of Liberty   PlayStation 2          96  2001\n",
       "41                         Gran Turismo     PlayStation          96  1998"
      ]
     },
     "execution_count": 14,
     "metadata": {},
     "output_type": "execute_result"
    }
   ],
   "source": [
    "PS_games[['name', 'platform', 'meta_score' , 'Year']].sort_values('meta_score', ascending = False)[:10]"
   ]
  },
  {
   "cell_type": "code",
   "execution_count": 15,
   "id": "e6f01bbb",
   "metadata": {},
   "outputs": [
    {
     "data": {
      "text/html": [
       "<div>\n",
       "<style scoped>\n",
       "    .dataframe tbody tr th:only-of-type {\n",
       "        vertical-align: middle;\n",
       "    }\n",
       "\n",
       "    .dataframe tbody tr th {\n",
       "        vertical-align: top;\n",
       "    }\n",
       "\n",
       "    .dataframe thead th {\n",
       "        text-align: right;\n",
       "    }\n",
       "</style>\n",
       "<table border=\"1\" class=\"dataframe\">\n",
       "  <thead>\n",
       "    <tr style=\"text-align: right;\">\n",
       "      <th></th>\n",
       "      <th>name</th>\n",
       "      <th>platform</th>\n",
       "      <th>user_review</th>\n",
       "      <th>Year</th>\n",
       "    </tr>\n",
       "  </thead>\n",
       "  <tbody>\n",
       "    <tr>\n",
       "      <th>4844</th>\n",
       "      <td>GrimGrimoire</td>\n",
       "      <td>PlayStation 2</td>\n",
       "      <td>97.0</td>\n",
       "      <td>2007</td>\n",
       "    </tr>\n",
       "    <tr>\n",
       "      <th>4953</th>\n",
       "      <td>Rochard</td>\n",
       "      <td>PlayStation 3</td>\n",
       "      <td>97.0</td>\n",
       "      <td>2011</td>\n",
       "    </tr>\n",
       "    <tr>\n",
       "      <th>12434</th>\n",
       "      <td>Crystar</td>\n",
       "      <td>PlayStation 4</td>\n",
       "      <td>96.0</td>\n",
       "      <td>2019</td>\n",
       "    </tr>\n",
       "    <tr>\n",
       "      <th>2407</th>\n",
       "      <td>Astro's Playroom</td>\n",
       "      <td>PlayStation 5</td>\n",
       "      <td>93.0</td>\n",
       "      <td>2020</td>\n",
       "    </tr>\n",
       "    <tr>\n",
       "      <th>222</th>\n",
       "      <td>The Witcher 3: Wild Hunt</td>\n",
       "      <td>PlayStation 4</td>\n",
       "      <td>92.0</td>\n",
       "      <td>2015</td>\n",
       "    </tr>\n",
       "    <tr>\n",
       "      <th>72</th>\n",
       "      <td>God of War</td>\n",
       "      <td>PlayStation 4</td>\n",
       "      <td>92.0</td>\n",
       "      <td>2018</td>\n",
       "    </tr>\n",
       "    <tr>\n",
       "      <th>98</th>\n",
       "      <td>Metal Gear Solid</td>\n",
       "      <td>PlayStation</td>\n",
       "      <td>92.0</td>\n",
       "      <td>1998</td>\n",
       "    </tr>\n",
       "    <tr>\n",
       "      <th>3341</th>\n",
       "      <td>Suikoden II</td>\n",
       "      <td>PlayStation</td>\n",
       "      <td>92.0</td>\n",
       "      <td>1999</td>\n",
       "    </tr>\n",
       "    <tr>\n",
       "      <th>60</th>\n",
       "      <td>The Last of Us Remastered</td>\n",
       "      <td>PlayStation 4</td>\n",
       "      <td>92.0</td>\n",
       "      <td>2014</td>\n",
       "    </tr>\n",
       "    <tr>\n",
       "      <th>780</th>\n",
       "      <td>It Takes Two</td>\n",
       "      <td>PlayStation 5</td>\n",
       "      <td>92.0</td>\n",
       "      <td>2021</td>\n",
       "    </tr>\n",
       "  </tbody>\n",
       "</table>\n",
       "</div>"
      ],
      "text/plain": [
       "                            name        platform  user_review  Year\n",
       "4844                GrimGrimoire   PlayStation 2         97.0  2007\n",
       "4953                     Rochard   PlayStation 3         97.0  2011\n",
       "12434                    Crystar   PlayStation 4         96.0  2019\n",
       "2407            Astro's Playroom   PlayStation 5         93.0  2020\n",
       "222     The Witcher 3: Wild Hunt   PlayStation 4         92.0  2015\n",
       "72                    God of War   PlayStation 4         92.0  2018\n",
       "98              Metal Gear Solid     PlayStation         92.0  1998\n",
       "3341                 Suikoden II     PlayStation         92.0  1999\n",
       "60     The Last of Us Remastered   PlayStation 4         92.0  2014\n",
       "780                 It Takes Two   PlayStation 5         92.0  2021"
      ]
     },
     "execution_count": 15,
     "metadata": {},
     "output_type": "execute_result"
    }
   ],
   "source": [
    "PS_games[['name', 'platform', 'user_review' , 'Year']].sort_values('user_review', ascending = False)[:10]"
   ]
  },
  {
   "cell_type": "code",
   "execution_count": 16,
   "id": "1cd4a982",
   "metadata": {},
   "outputs": [
    {
     "data": {
      "text/html": [
       "<div>\n",
       "<style scoped>\n",
       "    .dataframe tbody tr th:only-of-type {\n",
       "        vertical-align: middle;\n",
       "    }\n",
       "\n",
       "    .dataframe tbody tr th {\n",
       "        vertical-align: top;\n",
       "    }\n",
       "\n",
       "    .dataframe thead th {\n",
       "        text-align: right;\n",
       "    }\n",
       "</style>\n",
       "<table border=\"1\" class=\"dataframe\">\n",
       "  <thead>\n",
       "    <tr style=\"text-align: right;\">\n",
       "      <th></th>\n",
       "      <th>name</th>\n",
       "      <th>platform</th>\n",
       "      <th>meta_score</th>\n",
       "      <th>user_review</th>\n",
       "      <th>Year</th>\n",
       "    </tr>\n",
       "  </thead>\n",
       "  <tbody>\n",
       "    <tr>\n",
       "      <th>4</th>\n",
       "      <td>Grand Theft Auto IV</td>\n",
       "      <td>Xbox 360</td>\n",
       "      <td>98</td>\n",
       "      <td>79.0</td>\n",
       "      <td>2008</td>\n",
       "    </tr>\n",
       "    <tr>\n",
       "      <th>7</th>\n",
       "      <td>Red Dead Redemption 2</td>\n",
       "      <td>Xbox One</td>\n",
       "      <td>97</td>\n",
       "      <td>80.0</td>\n",
       "      <td>2018</td>\n",
       "    </tr>\n",
       "    <tr>\n",
       "      <th>8</th>\n",
       "      <td>Grand Theft Auto V</td>\n",
       "      <td>Xbox One</td>\n",
       "      <td>97</td>\n",
       "      <td>79.0</td>\n",
       "      <td>2014</td>\n",
       "    </tr>\n",
       "    <tr>\n",
       "      <th>11</th>\n",
       "      <td>Grand Theft Auto V</td>\n",
       "      <td>Xbox 360</td>\n",
       "      <td>97</td>\n",
       "      <td>83.0</td>\n",
       "      <td>2013</td>\n",
       "    </tr>\n",
       "    <tr>\n",
       "      <th>21</th>\n",
       "      <td>Halo: Combat Evolved</td>\n",
       "      <td>Xbox</td>\n",
       "      <td>97</td>\n",
       "      <td>87.0</td>\n",
       "      <td>2001</td>\n",
       "    </tr>\n",
       "  </tbody>\n",
       "</table>\n",
       "</div>"
      ],
      "text/plain": [
       "                     name   platform  meta_score  user_review  Year\n",
       "4     Grand Theft Auto IV   Xbox 360          98         79.0  2008\n",
       "7   Red Dead Redemption 2   Xbox One          97         80.0  2018\n",
       "8      Grand Theft Auto V   Xbox One          97         79.0  2014\n",
       "11     Grand Theft Auto V   Xbox 360          97         83.0  2013\n",
       "21   Halo: Combat Evolved       Xbox          97         87.0  2001"
      ]
     },
     "execution_count": 16,
     "metadata": {},
     "output_type": "execute_result"
    }
   ],
   "source": [
    "XB_games = game[game['platform'].str.contains(' Xbox', na=False)]\n",
    "XB_games.user_review = XB_games.user_review*10\n",
    "XB_games.head()"
   ]
  },
  {
   "cell_type": "code",
   "execution_count": 17,
   "id": "0fbd07f2",
   "metadata": {},
   "outputs": [
    {
     "name": "stdout",
     "output_type": "stream",
     "text": [
      "              min   max       mean  median        std\n",
      "Meta Score   22.0  98.0  71.020372    73.0  12.906143\n",
      "User Review   5.0  97.0  68.173310    71.0  13.828287\n"
     ]
    }
   ],
   "source": [
    "XB_data = {'min' : [np.min(XB_games.meta_score) , np.min(XB_games.user_review)],\n",
    "        'max' : [np.max(XB_games.meta_score) , np.max(XB_games.user_review)],\n",
    "        'mean' : [np.mean(XB_games.meta_score) , np.mean(XB_games.user_review)],\n",
    "        'median' : [np.median(XB_games.meta_score) , np.nanmedian(XB_games.user_review)],\n",
    "        'std' : [np.std(XB_games.meta_score) , np.std(XB_games.user_review)]}\n",
    "XB_number_summary = pd.DataFrame(XB_data , index=['Meta Score' , 'User Review'])\n",
    "print(XB_number_summary)"
   ]
  },
  {
   "cell_type": "code",
   "execution_count": 18,
   "id": "4ebb92ff",
   "metadata": {},
   "outputs": [
    {
     "data": {
      "image/png": "[encoded data removed]",
      "text/plain": [
       "<Figure size 432x288 with 1 Axes>"
      ]
     },
     "metadata": {},
     "output_type": "display_data"
    }
   ],
   "source": [
    "XB_games[['meta_score' , 'user_review']].plot.box(title = \"XBox PlotBox\")\n",
    "plt.show()"
   ]
  },
  {
   "cell_type": "code",
   "execution_count": 19,
   "id": "4e065f98",
   "metadata": {},
   "outputs": [
    {
     "data": {
      "image/png": "[encoded data removed]",
      "text/plain": [
       "<Figure size 432x288 with 1 Axes>"
      ]
     },
     "metadata": {},
     "output_type": "display_data"
    }
   ],
   "source": [
    "XB_by_year = XB_games.groupby('Year')[['meta_score','user_review']].mean().reset_index()\n",
    "XB_by_Gen = XB_games.groupby('platform')[['meta_score','user_review']].mean().reset_index()\n",
    "XB_by_Gen = XB_by_Gen.dropna()\n",
    "XB_by_year.set_index('Year').plot.bar(title = \"XBox's scores by Year\")\n",
    "plt.show()"
   ]
  },
  {
   "cell_type": "code",
   "execution_count": 20,
   "id": "4c0b2092",
   "metadata": {},
   "outputs": [
    {
     "data": {
      "image/png": "[encoded data removed]",
      "text/plain": [
       "<Figure size 432x288 with 1 Axes>"
      ]
     },
     "metadata": {},
     "output_type": "display_data"
    }
   ],
   "source": [
    "XB_by_Gen.set_index('platform').plot.bar(title = \"XBox's scores by Gen\")\n",
    "plt.show()"
   ]
  },
  {
   "cell_type": "code",
   "execution_count": 21,
   "id": "bd562d65",
   "metadata": {},
   "outputs": [
    {
     "data": {
      "text/html": [
       "<div>\n",
       "<style scoped>\n",
       "    .dataframe tbody tr th:only-of-type {\n",
       "        vertical-align: middle;\n",
       "    }\n",
       "\n",
       "    .dataframe tbody tr th {\n",
       "        vertical-align: top;\n",
       "    }\n",
       "\n",
       "    .dataframe thead th {\n",
       "        text-align: right;\n",
       "    }\n",
       "</style>\n",
       "<table border=\"1\" class=\"dataframe\">\n",
       "  <thead>\n",
       "    <tr style=\"text-align: right;\">\n",
       "      <th></th>\n",
       "      <th>name</th>\n",
       "      <th>platform</th>\n",
       "      <th>meta_score</th>\n",
       "      <th>Year</th>\n",
       "    </tr>\n",
       "  </thead>\n",
       "  <tbody>\n",
       "    <tr>\n",
       "      <th>4</th>\n",
       "      <td>Grand Theft Auto IV</td>\n",
       "      <td>Xbox 360</td>\n",
       "      <td>98</td>\n",
       "      <td>2008</td>\n",
       "    </tr>\n",
       "    <tr>\n",
       "      <th>8</th>\n",
       "      <td>Grand Theft Auto V</td>\n",
       "      <td>Xbox One</td>\n",
       "      <td>97</td>\n",
       "      <td>2014</td>\n",
       "    </tr>\n",
       "    <tr>\n",
       "      <th>11</th>\n",
       "      <td>Grand Theft Auto V</td>\n",
       "      <td>Xbox 360</td>\n",
       "      <td>97</td>\n",
       "      <td>2013</td>\n",
       "    </tr>\n",
       "    <tr>\n",
       "      <th>21</th>\n",
       "      <td>Halo: Combat Evolved</td>\n",
       "      <td>Xbox</td>\n",
       "      <td>97</td>\n",
       "      <td>2001</td>\n",
       "    </tr>\n",
       "    <tr>\n",
       "      <th>7</th>\n",
       "      <td>Red Dead Redemption 2</td>\n",
       "      <td>Xbox One</td>\n",
       "      <td>97</td>\n",
       "      <td>2018</td>\n",
       "    </tr>\n",
       "    <tr>\n",
       "      <th>35</th>\n",
       "      <td>Mass Effect 2</td>\n",
       "      <td>Xbox 360</td>\n",
       "      <td>96</td>\n",
       "      <td>2010</td>\n",
       "    </tr>\n",
       "    <tr>\n",
       "      <th>37</th>\n",
       "      <td>The Elder Scrolls V: Skyrim</td>\n",
       "      <td>Xbox 360</td>\n",
       "      <td>96</td>\n",
       "      <td>2011</td>\n",
       "    </tr>\n",
       "    <tr>\n",
       "      <th>44</th>\n",
       "      <td>Grand Theft Auto Double Pack</td>\n",
       "      <td>Xbox</td>\n",
       "      <td>96</td>\n",
       "      <td>2003</td>\n",
       "    </tr>\n",
       "    <tr>\n",
       "      <th>31</th>\n",
       "      <td>The Orange Box</td>\n",
       "      <td>Xbox 360</td>\n",
       "      <td>96</td>\n",
       "      <td>2007</td>\n",
       "    </tr>\n",
       "    <tr>\n",
       "      <th>27</th>\n",
       "      <td>BioShock</td>\n",
       "      <td>Xbox 360</td>\n",
       "      <td>96</td>\n",
       "      <td>2007</td>\n",
       "    </tr>\n",
       "  </tbody>\n",
       "</table>\n",
       "</div>"
      ],
      "text/plain": [
       "                            name   platform  meta_score  Year\n",
       "4            Grand Theft Auto IV   Xbox 360          98  2008\n",
       "8             Grand Theft Auto V   Xbox One          97  2014\n",
       "11            Grand Theft Auto V   Xbox 360          97  2013\n",
       "21          Halo: Combat Evolved       Xbox          97  2001\n",
       "7          Red Dead Redemption 2   Xbox One          97  2018\n",
       "35                 Mass Effect 2   Xbox 360          96  2010\n",
       "37   The Elder Scrolls V: Skyrim   Xbox 360          96  2011\n",
       "44  Grand Theft Auto Double Pack       Xbox          96  2003\n",
       "31                The Orange Box   Xbox 360          96  2007\n",
       "27                      BioShock   Xbox 360          96  2007"
      ]
     },
     "execution_count": 21,
     "metadata": {},
     "output_type": "execute_result"
    }
   ],
   "source": [
    "XB_games[['name', 'platform', 'meta_score' , 'Year']].sort_values('meta_score', ascending = False)[:10]"
   ]
  },
  {
   "cell_type": "code",
   "execution_count": 22,
   "id": "7221d95b",
   "metadata": {},
   "outputs": [
    {
     "data": {
      "text/html": [
       "<div>\n",
       "<style scoped>\n",
       "    .dataframe tbody tr th:only-of-type {\n",
       "        vertical-align: middle;\n",
       "    }\n",
       "\n",
       "    .dataframe tbody tr th {\n",
       "        vertical-align: top;\n",
       "    }\n",
       "\n",
       "    .dataframe thead th {\n",
       "        text-align: right;\n",
       "    }\n",
       "</style>\n",
       "<table border=\"1\" class=\"dataframe\">\n",
       "  <thead>\n",
       "    <tr style=\"text-align: right;\">\n",
       "      <th></th>\n",
       "      <th>name</th>\n",
       "      <th>platform</th>\n",
       "      <th>user_review</th>\n",
       "      <th>Year</th>\n",
       "    </tr>\n",
       "  </thead>\n",
       "  <tbody>\n",
       "    <tr>\n",
       "      <th>9550</th>\n",
       "      <td>After Burner Climax</td>\n",
       "      <td>Xbox 360</td>\n",
       "      <td>97.0</td>\n",
       "      <td>2010</td>\n",
       "    </tr>\n",
       "    <tr>\n",
       "      <th>4573</th>\n",
       "      <td>Superliminal</td>\n",
       "      <td>Xbox One</td>\n",
       "      <td>96.0</td>\n",
       "      <td>2020</td>\n",
       "    </tr>\n",
       "    <tr>\n",
       "      <th>2321</th>\n",
       "      <td>Vanquish</td>\n",
       "      <td>Xbox 360</td>\n",
       "      <td>92.0</td>\n",
       "      <td>2010</td>\n",
       "    </tr>\n",
       "    <tr>\n",
       "      <th>295</th>\n",
       "      <td>The Witcher 3: Wild Hunt</td>\n",
       "      <td>Xbox One</td>\n",
       "      <td>92.0</td>\n",
       "      <td>2015</td>\n",
       "    </tr>\n",
       "    <tr>\n",
       "      <th>109</th>\n",
       "      <td>Star Wars: Knights of the Old Republic</td>\n",
       "      <td>Xbox</td>\n",
       "      <td>91.0</td>\n",
       "      <td>2003</td>\n",
       "    </tr>\n",
       "    <tr>\n",
       "      <th>100</th>\n",
       "      <td>Tom Clancy's Splinter Cell Chaos Theory</td>\n",
       "      <td>Xbox</td>\n",
       "      <td>91.0</td>\n",
       "      <td>2005</td>\n",
       "    </tr>\n",
       "    <tr>\n",
       "      <th>31</th>\n",
       "      <td>The Orange Box</td>\n",
       "      <td>Xbox 360</td>\n",
       "      <td>90.0</td>\n",
       "      <td>2007</td>\n",
       "    </tr>\n",
       "    <tr>\n",
       "      <th>1111</th>\n",
       "      <td>NFL 2K2</td>\n",
       "      <td>Xbox</td>\n",
       "      <td>90.0</td>\n",
       "      <td>2002</td>\n",
       "    </tr>\n",
       "    <tr>\n",
       "      <th>817</th>\n",
       "      <td>DOOM Eternal</td>\n",
       "      <td>Xbox One</td>\n",
       "      <td>90.0</td>\n",
       "      <td>2020</td>\n",
       "    </tr>\n",
       "    <tr>\n",
       "      <th>27</th>\n",
       "      <td>BioShock</td>\n",
       "      <td>Xbox 360</td>\n",
       "      <td>90.0</td>\n",
       "      <td>2007</td>\n",
       "    </tr>\n",
       "  </tbody>\n",
       "</table>\n",
       "</div>"
      ],
      "text/plain": [
       "                                         name   platform  user_review  Year\n",
       "9550                      After Burner Climax   Xbox 360         97.0  2010\n",
       "4573                             Superliminal   Xbox One         96.0  2020\n",
       "2321                                 Vanquish   Xbox 360         92.0  2010\n",
       "295                  The Witcher 3: Wild Hunt   Xbox One         92.0  2015\n",
       "109    Star Wars: Knights of the Old Republic       Xbox         91.0  2003\n",
       "100   Tom Clancy's Splinter Cell Chaos Theory       Xbox         91.0  2005\n",
       "31                             The Orange Box   Xbox 360         90.0  2007\n",
       "1111                                  NFL 2K2       Xbox         90.0  2002\n",
       "817                              DOOM Eternal   Xbox One         90.0  2020\n",
       "27                                   BioShock   Xbox 360         90.0  2007"
      ]
     },
     "execution_count": 22,
     "metadata": {},
     "output_type": "execute_result"
    }
   ],
   "source": [
    "XB_games[['name', 'platform', 'user_review' , 'Year']].sort_values('user_review', ascending = False)[:10]"
   ]
  },
  {
   "cell_type": "code",
   "execution_count": 23,
   "id": "0876049e",
   "metadata": {},
   "outputs": [],
   "source": [
    "PSvXB = game[game['platform'].isin([' PlayStation 4' , ' PlayStation 5' ,' Xbox One' , ' Xbox Series X'])]"
   ]
  },
  {
   "cell_type": "code",
   "execution_count": 24,
   "id": "56adb6e1",
   "metadata": {},
   "outputs": [
    {
     "data": {
      "image/png": "[encoded data removed]",
      "text/plain": [
       "<Figure size 432x288 with 1 Axes>"
      ]
     },
     "metadata": {},
     "output_type": "display_data"
    }
   ],
   "source": [
    "PSvXB_count = PSvXB.groupby('platform').count()\n",
    "PSvXB_count.drop(PSvXB_count.index[0:11] , inplace=True)\n",
    "PSvXB_count.drop(PSvXB_count.index[2:9] , inplace=True)\n",
    "PSvXB_count.drop(['meta_score' , 'user_review' , 'Year'] , axis=1 , inplace=True)\n",
    "colors = sns.color_palette('bright')[0:5]\n",
    "plt.pie(PSvXB_count.name, labels = PSvXB_count.index , colors = colors, autopct='%.0f%%' )\n",
    "plt.show()"
   ]
  },
  {
   "cell_type": "code",
   "execution_count": 25,
   "id": "fdd0b5be",
   "metadata": {},
   "outputs": [
    {
     "data": {
      "image/png": "[encoded data removed]",
      "text/plain": [
       "<Figure size 432x288 with 1 Axes>"
      ]
     },
     "metadata": {},
     "output_type": "display_data"
    }
   ],
   "source": [
    "PXdata = PSvXB.groupby('platform')[['meta_score','user_review']].mean().reset_index()\n",
    "PXdata = PXdata.dropna()\n",
    "PXdata.user_review = PXdata.user_review*10\n",
    "PXdata.set_index('platform').plot.bar()\n",
    "plt.show()"
   ]
  },
  {
   "cell_type": "code",
   "execution_count": 26,
   "id": "c23e972f",
   "metadata": {},
   "outputs": [
    {
     "data": {
      "text/html": [
       "<div>\n",
       "<style scoped>\n",
       "    .dataframe tbody tr th:only-of-type {\n",
       "        vertical-align: middle;\n",
       "    }\n",
       "\n",
       "    .dataframe tbody tr th {\n",
       "        vertical-align: top;\n",
       "    }\n",
       "\n",
       "    .dataframe thead th {\n",
       "        text-align: right;\n",
       "    }\n",
       "</style>\n",
       "<table border=\"1\" class=\"dataframe\">\n",
       "  <thead>\n",
       "    <tr style=\"text-align: right;\">\n",
       "      <th></th>\n",
       "      <th>name</th>\n",
       "      <th>platform</th>\n",
       "      <th>meta_score</th>\n",
       "    </tr>\n",
       "  </thead>\n",
       "  <tbody>\n",
       "    <tr>\n",
       "      <th>7</th>\n",
       "      <td>Red Dead Redemption 2</td>\n",
       "      <td>Xbox One</td>\n",
       "      <td>97</td>\n",
       "    </tr>\n",
       "    <tr>\n",
       "      <th>16</th>\n",
       "      <td>Red Dead Redemption 2</td>\n",
       "      <td>PlayStation 4</td>\n",
       "      <td>97</td>\n",
       "    </tr>\n",
       "    <tr>\n",
       "      <th>17</th>\n",
       "      <td>Grand Theft Auto V</td>\n",
       "      <td>PlayStation 4</td>\n",
       "      <td>97</td>\n",
       "    </tr>\n",
       "    <tr>\n",
       "      <th>8</th>\n",
       "      <td>Grand Theft Auto V</td>\n",
       "      <td>Xbox One</td>\n",
       "      <td>97</td>\n",
       "    </tr>\n",
       "    <tr>\n",
       "      <th>59</th>\n",
       "      <td>Persona 5 Royal</td>\n",
       "      <td>PlayStation 4</td>\n",
       "      <td>95</td>\n",
       "    </tr>\n",
       "    <tr>\n",
       "      <th>60</th>\n",
       "      <td>The Last of Us Remastered</td>\n",
       "      <td>PlayStation 4</td>\n",
       "      <td>95</td>\n",
       "    </tr>\n",
       "    <tr>\n",
       "      <th>65</th>\n",
       "      <td>Metal Gear Solid V: The Phantom Pain</td>\n",
       "      <td>Xbox One</td>\n",
       "      <td>95</td>\n",
       "    </tr>\n",
       "    <tr>\n",
       "      <th>72</th>\n",
       "      <td>God of War</td>\n",
       "      <td>PlayStation 4</td>\n",
       "      <td>94</td>\n",
       "    </tr>\n",
       "    <tr>\n",
       "      <th>81</th>\n",
       "      <td>Celeste</td>\n",
       "      <td>Xbox One</td>\n",
       "      <td>94</td>\n",
       "    </tr>\n",
       "    <tr>\n",
       "      <th>158</th>\n",
       "      <td>Metal Gear Solid V: The Phantom Pain</td>\n",
       "      <td>PlayStation 4</td>\n",
       "      <td>93</td>\n",
       "    </tr>\n",
       "  </tbody>\n",
       "</table>\n",
       "</div>"
      ],
      "text/plain": [
       "                                     name        platform  meta_score\n",
       "7                   Red Dead Redemption 2        Xbox One          97\n",
       "16                  Red Dead Redemption 2   PlayStation 4          97\n",
       "17                     Grand Theft Auto V   PlayStation 4          97\n",
       "8                      Grand Theft Auto V        Xbox One          97\n",
       "59                        Persona 5 Royal   PlayStation 4          95\n",
       "60              The Last of Us Remastered   PlayStation 4          95\n",
       "65   Metal Gear Solid V: The Phantom Pain        Xbox One          95\n",
       "72                             God of War   PlayStation 4          94\n",
       "81                                Celeste        Xbox One          94\n",
       "158  Metal Gear Solid V: The Phantom Pain   PlayStation 4          93"
      ]
     },
     "execution_count": 26,
     "metadata": {},
     "output_type": "execute_result"
    }
   ],
   "source": [
    "PSvXB[['name', 'platform', 'meta_score']].sort_values('meta_score', ascending = False)[:10]"
   ]
  },
  {
   "cell_type": "code",
   "execution_count": 27,
   "id": "3c157283",
   "metadata": {},
   "outputs": [
    {
     "data": {
      "text/html": [
       "<div>\n",
       "<style scoped>\n",
       "    .dataframe tbody tr th:only-of-type {\n",
       "        vertical-align: middle;\n",
       "    }\n",
       "\n",
       "    .dataframe tbody tr th {\n",
       "        vertical-align: top;\n",
       "    }\n",
       "\n",
       "    .dataframe thead th {\n",
       "        text-align: right;\n",
       "    }\n",
       "</style>\n",
       "<table border=\"1\" class=\"dataframe\">\n",
       "  <thead>\n",
       "    <tr style=\"text-align: right;\">\n",
       "      <th></th>\n",
       "      <th>name</th>\n",
       "      <th>platform</th>\n",
       "      <th>user_review</th>\n",
       "    </tr>\n",
       "  </thead>\n",
       "  <tbody>\n",
       "    <tr>\n",
       "      <th>12434</th>\n",
       "      <td>Crystar</td>\n",
       "      <td>PlayStation 4</td>\n",
       "      <td>9.6</td>\n",
       "    </tr>\n",
       "    <tr>\n",
       "      <th>4573</th>\n",
       "      <td>Superliminal</td>\n",
       "      <td>Xbox One</td>\n",
       "      <td>9.6</td>\n",
       "    </tr>\n",
       "    <tr>\n",
       "      <th>2407</th>\n",
       "      <td>Astro's Playroom</td>\n",
       "      <td>PlayStation 5</td>\n",
       "      <td>9.3</td>\n",
       "    </tr>\n",
       "    <tr>\n",
       "      <th>780</th>\n",
       "      <td>It Takes Two</td>\n",
       "      <td>PlayStation 5</td>\n",
       "      <td>9.2</td>\n",
       "    </tr>\n",
       "    <tr>\n",
       "      <th>222</th>\n",
       "      <td>The Witcher 3: Wild Hunt</td>\n",
       "      <td>PlayStation 4</td>\n",
       "      <td>9.2</td>\n",
       "    </tr>\n",
       "    <tr>\n",
       "      <th>60</th>\n",
       "      <td>The Last of Us Remastered</td>\n",
       "      <td>PlayStation 4</td>\n",
       "      <td>9.2</td>\n",
       "    </tr>\n",
       "    <tr>\n",
       "      <th>72</th>\n",
       "      <td>God of War</td>\n",
       "      <td>PlayStation 4</td>\n",
       "      <td>9.2</td>\n",
       "    </tr>\n",
       "    <tr>\n",
       "      <th>295</th>\n",
       "      <td>The Witcher 3: Wild Hunt</td>\n",
       "      <td>Xbox One</td>\n",
       "      <td>9.2</td>\n",
       "    </tr>\n",
       "    <tr>\n",
       "      <th>1154</th>\n",
       "      <td>Tales of Arise</td>\n",
       "      <td>PlayStation 5</td>\n",
       "      <td>9.1</td>\n",
       "    </tr>\n",
       "    <tr>\n",
       "      <th>335</th>\n",
       "      <td>The Witcher 3: Wild Hunt - Blood and Wine</td>\n",
       "      <td>PlayStation 4</td>\n",
       "      <td>9.1</td>\n",
       "    </tr>\n",
       "  </tbody>\n",
       "</table>\n",
       "</div>"
      ],
      "text/plain": [
       "                                            name        platform  user_review\n",
       "12434                                    Crystar   PlayStation 4          9.6\n",
       "4573                                Superliminal        Xbox One          9.6\n",
       "2407                            Astro's Playroom   PlayStation 5          9.3\n",
       "780                                 It Takes Two   PlayStation 5          9.2\n",
       "222                     The Witcher 3: Wild Hunt   PlayStation 4          9.2\n",
       "60                     The Last of Us Remastered   PlayStation 4          9.2\n",
       "72                                    God of War   PlayStation 4          9.2\n",
       "295                     The Witcher 3: Wild Hunt        Xbox One          9.2\n",
       "1154                              Tales of Arise   PlayStation 5          9.1\n",
       "335    The Witcher 3: Wild Hunt - Blood and Wine   PlayStation 4          9.1"
      ]
     },
     "execution_count": 27,
     "metadata": {},
     "output_type": "execute_result"
    }
   ],
   "source": [
    "PSvXB[['name', 'platform', 'user_review']].sort_values('user_review', ascending = False)[:10]"
   ]
  },
  {
   "cell_type": "code",
   "execution_count": null,
   "id": "b4f06b1b",
   "metadata": {},
   "outputs": [],
   "source": []
  }
 ],
 "metadata": {
  "kernelspec": {
   "display_name": "Python 3",
   "language": "python",
   "name": "python3"
  },
  "language_info": {
   "codemirror_mode": {
    "name": "ipython",
    "version": 3
   },
   "file_extension": ".py",
   "mimetype": "text/x-python",
   "name": "python",
   "nbconvert_exporter": "python",
   "pygments_lexer": "ipython3",
   "version": "3.9.5"
  }
 },
 "nbformat": 4,
 "nbformat_minor": 5
}
