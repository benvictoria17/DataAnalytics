{
  "nbformat": 4,
  "nbformat_minor": 0,
  "metadata": {
    "colab": {
      "name": "StableMarriage-CollegeAdmissions",
      "provenance": [],
      "include_colab_link": true
    },
    "language_info": {
      "name": "python"
    },
    "kernelspec": {
      "name": "python3",
      "display_name": "Python 3"
    }
  },
  "cells": [
    {
      "cell_type": "markdown",
      "metadata": {
        "id": "view-in-github",
        "colab_type": "text"
      },
      "source": [
        "<a href=\"https://colab.research.google.com/github/benvictoria17/DataVisualization/blob/master/StableMarriage_CollegeAdmissions.ipynb\" target=\"_parent\"><img src=\"https://colab.research.google.com/assets/colab-badge.svg\" alt=\"Open In Colab\"/></a>"
      ]
    },
    {
      "cell_type": "code",
      "metadata": {
        "id": "c_5m70H9vsGF"
      },
      "source": [
        "import random\n",
        "from itertools import islice"
      ],
      "execution_count": 2,
      "outputs": []
    },
    {
      "cell_type": "code",
      "metadata": {
        "id": "Zmh937NFvsIf"
      },
      "source": [
        "def divide(lst, split_size, min_size=2):\n",
        "    it = iter(lst)\n",
        "    size = len(lst)\n",
        "    for i in range(split_size - 1,0,-1):\n",
        "        s = random.randint(min_size, size -  min_size * i)\n",
        "        yield list(islice(it,0,s))\n",
        "        size -= s\n",
        "    yield list(it)"
      ],
      "execution_count": 3,
      "outputs": []
    },
    {
      "cell_type": "code",
      "metadata": {
        "id": "GWN-Z77wxSIi"
      },
      "source": [
        "def printDict(d):\n",
        "    for x in d:\n",
        "        print(x, end=\":  \")\n",
        "        for y in d[x]:\n",
        "            print(y, '', end = '')\n",
        "        print()\n",
        "    print()"
      ],
      "execution_count": 5,
      "outputs": []
    },
    {
      "cell_type": "code",
      "metadata": {
        "colab": {
          "base_uri": "https://localhost:8080/"
        },
        "id": "7bbyKOH-xSK3",
        "outputId": "68512883-af37-4d2d-a62d-6727bb865641"
      },
      "source": [
        "N = 20\n",
        "M = 7\n",
        "students = list(range(1, N+1))\n",
        "colleges = list(map(chr, range(ord('A'), ord('A') + M)))\n",
        "\n",
        "\n",
        "# Allocate a random number of empty slots to each college\n",
        "college_slots = {}\n",
        "split = list(divide([0]*N, M))\n",
        "for c in range(M):\n",
        "    college_slots[colleges[c]] = split[c]\n",
        "    print(colleges[c], 'slots:', split[c])\n",
        "print()\n",
        "\n",
        "\n",
        "# Create random preference lists for students and colleges\n",
        "s_pref = {}\n",
        "c_pref = {}\n",
        "\n",
        "for i in range(N):\n",
        "    s_list = colleges.copy()\n",
        "    random.shuffle(s_list)\n",
        "    s_pref[i+1] = s_list\n",
        "\n",
        "for i in range(M):\n",
        "    c_list = students.copy()\n",
        "    random.shuffle(c_list)\n",
        "    c_pref[colleges[i]] = c_list\n",
        "    \n",
        "print(\"Student Preferences\")\n",
        "printDict(s_pref)\n",
        "print(\"College Preferences\")\n",
        "printDict(c_pref)"
      ],
      "execution_count": 6,
      "outputs": [
        {
          "output_type": "stream",
          "name": "stdout",
          "text": [
            "A slots: [0, 0, 0]\n",
            "B slots: [0, 0, 0, 0]\n",
            "C slots: [0, 0, 0]\n",
            "D slots: [0, 0]\n",
            "E slots: [0, 0, 0, 0]\n",
            "F slots: [0, 0]\n",
            "G slots: [0, 0]\n",
            "\n",
            "Student Preferences\n",
            "1:  F E C G B D A \n",
            "2:  E B F A G D C \n",
            "3:  G A E B F D C \n",
            "4:  A C D G F E B \n",
            "5:  A G D B E F C \n",
            "6:  G E F C B D A \n",
            "7:  E F A D C G B \n",
            "8:  B G E D A C F \n",
            "9:  D B A G E F C \n",
            "10:  C B G A E D F \n",
            "11:  D C A E B G F \n",
            "12:  G C E F D B A \n",
            "13:  F B E C D A G \n",
            "14:  B C F A E D G \n",
            "15:  F G D A E C B \n",
            "16:  B F E A G C D \n",
            "17:  A D C G F B E \n",
            "18:  A G B E D C F \n",
            "19:  F B G E D A C \n",
            "20:  A C E F B G D \n",
            "\n",
            "College Preferences\n",
            "A:  19 17 20 12 8 7 3 13 1 18 14 4 15 2 9 10 16 5 11 6 \n",
            "B:  11 19 16 3 9 5 15 6 1 8 20 4 12 18 14 13 2 17 7 10 \n",
            "C:  2 4 5 20 1 18 19 13 7 17 14 15 8 10 16 6 3 11 12 9 \n",
            "D:  7 9 5 13 6 11 2 3 14 15 16 8 4 12 1 10 18 17 20 19 \n",
            "E:  8 7 13 4 17 12 2 5 11 15 3 16 14 1 10 19 20 18 9 6 \n",
            "F:  7 10 8 14 15 5 9 17 3 12 11 6 2 13 4 16 19 1 20 18 \n",
            "G:  19 15 5 3 6 12 2 9 13 14 11 18 8 16 1 4 10 7 20 17 \n",
            "\n"
          ]
        }
      ]
    },
    {
      "cell_type": "code",
      "metadata": {
        "id": "oopzoBbGLmRK"
      },
      "source": [
        "def allMatched(balconies):\n",
        "    for i in balconies:\n",
        "        if (len(balconies[i]) != len(college_slots[i])):\n",
        "            return False\n",
        "    return True"
      ],
      "execution_count": 7,
      "outputs": []
    },
    {
      "cell_type": "code",
      "metadata": {
        "id": "eUYF0SaYLmSs"
      },
      "source": [
        "def fillBalconies(balconies):\n",
        "    for s in s_pref:\n",
        "        if (s not in balconies[s_pref[s][0]]):\n",
        "            s_copy = s\n",
        "            balconies[s_pref[s][0]].append(s_copy)"
      ],
      "execution_count": 8,
      "outputs": []
    },
    {
      "cell_type": "code",
      "metadata": {
        "id": "u6br7iLQLmWK"
      },
      "source": [
        "def findFavorites(college, balconies):\n",
        "    if (len(balconies[college]) <= len(college_slots[college])):\n",
        "        return balconies[college]\n",
        "    else:\n",
        "        favorites = []\n",
        "        n = len(college_slots[college])\n",
        "        for s in c_pref[college]:\n",
        "            if (n <= 0):\n",
        "                break\n",
        "            if (s in balconies[college]):\n",
        "                favorites.append(s)\n",
        "                n -= 1\n",
        "        return favorites"
      ],
      "execution_count": 9,
      "outputs": []
    },
    {
      "cell_type": "code",
      "metadata": {
        "id": "dtt5t92gLq2T"
      },
      "source": [
        "def createBalconyDict():\n",
        "    balconies = {}\n",
        "    for i in range(M):\n",
        "        balconies[colleges[i]] = []\n",
        "    return balconies"
      ],
      "execution_count": 10,
      "outputs": []
    },
    {
      "cell_type": "code",
      "metadata": {
        "colab": {
          "base_uri": "https://localhost:8080/"
        },
        "id": "OVcZjW_aLq4u",
        "outputId": "b8279052-8aa0-46b7-e19b-a0ab7dfa2f6c"
      },
      "source": [
        "balconies = createBalconyDict()\n",
        "\n",
        "while True:\n",
        "    # Termination condition\n",
        "    if (allMatched(balconies) == True):\n",
        "        break\n",
        "    \n",
        "    # Students visit their favorite colleges\n",
        "    fillBalconies(balconies)\n",
        "    \n",
        "    # Colleges choose their favorite n students that visited them, and reject the others\n",
        "    rejected = []\n",
        "    for c in balconies:\n",
        "        c_fav = findFavorites(c, balconies)\n",
        "        \n",
        "        for student in balconies[c]:\n",
        "            if (student not in c_fav):\n",
        "                rejected.append(student)\n",
        "        balconies[c] = list(set(balconies[c]) - set(rejected))\n",
        "    \n",
        "    # Students who got rejected remove that college from their list\n",
        "    for s in rejected:\n",
        "        s_pref[s].pop(0)\n",
        "    \n",
        "printDict(balconies)"
      ],
      "execution_count": 11,
      "outputs": [
        {
          "output_type": "stream",
          "name": "stdout",
          "text": [
            "A:  17 18 20 \n",
            "B:  8 16 19 14 \n",
            "C:  10 4 12 \n",
            "D:  9 11 \n",
            "E:  1 2 6 7 \n",
            "F:  13 15 \n",
            "G:  3 5 \n",
            "\n"
          ]
        }
      ]
    }
  ]
}