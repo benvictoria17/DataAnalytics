{
 "cells": [
  {
   "cell_type": "code",
   "execution_count": 5,
   "id": "338b9611",
   "metadata": {},
   "outputs": [],
   "source": [
    "import numpy as np\n",
    "import pandas as pd\n",
    "import matplotlib.pyplot as plt\n",
    "import tensorflow as tf\n",
    "from tensorflow import keras\n",
    "from tensorflow.keras.preprocessing.text import Tokenizer\n",
    "from tensorflow.keras.preprocessing.sequence import pad_sequences"
   ]
  },
  {
   "cell_type": "code",
   "execution_count": 6,
   "id": "d74a32ec",
   "metadata": {},
   "outputs": [
    {
     "data": {
      "text/html": [
       "<div>\n",
       "<style scoped>\n",
       "    .dataframe tbody tr th:only-of-type {\n",
       "        vertical-align: middle;\n",
       "    }\n",
       "\n",
       "    .dataframe tbody tr th {\n",
       "        vertical-align: top;\n",
       "    }\n",
       "\n",
       "    .dataframe thead th {\n",
       "        text-align: right;\n",
       "    }\n",
       "</style>\n",
       "<table border=\"1\" class=\"dataframe\">\n",
       "  <thead>\n",
       "    <tr style=\"text-align: right;\">\n",
       "      <th></th>\n",
       "      <th>Review</th>\n",
       "      <th>Rating</th>\n",
       "    </tr>\n",
       "  </thead>\n",
       "  <tbody>\n",
       "    <tr>\n",
       "      <th>0</th>\n",
       "      <td>nice hotel expensive parking got good deal sta...</td>\n",
       "      <td>4</td>\n",
       "    </tr>\n",
       "    <tr>\n",
       "      <th>1</th>\n",
       "      <td>ok nothing special charge diamond member hilto...</td>\n",
       "      <td>2</td>\n",
       "    </tr>\n",
       "    <tr>\n",
       "      <th>2</th>\n",
       "      <td>nice rooms not 4* experience hotel monaco seat...</td>\n",
       "      <td>3</td>\n",
       "    </tr>\n",
       "    <tr>\n",
       "      <th>3</th>\n",
       "      <td>unique, great stay, wonderful time hotel monac...</td>\n",
       "      <td>5</td>\n",
       "    </tr>\n",
       "    <tr>\n",
       "      <th>4</th>\n",
       "      <td>great stay great stay, went seahawk game aweso...</td>\n",
       "      <td>5</td>\n",
       "    </tr>\n",
       "  </tbody>\n",
       "</table>\n",
       "</div>"
      ],
      "text/plain": [
       "                                              Review  Rating\n",
       "0  nice hotel expensive parking got good deal sta...       4\n",
       "1  ok nothing special charge diamond member hilto...       2\n",
       "2  nice rooms not 4* experience hotel monaco seat...       3\n",
       "3  unique, great stay, wonderful time hotel monac...       5\n",
       "4  great stay great stay, went seahawk game aweso...       5"
      ]
     },
     "execution_count": 6,
     "metadata": {},
     "output_type": "execute_result"
    }
   ],
   "source": [
    "df = pd.read_csv(\"https://raw.githubusercontent.com/benvictoria17/DataAnalytics/main/dataset/Hotel%20Reviews/Hotel_Reviews.csv\")\n",
    "df.head()"
   ]
  },
  {
   "cell_type": "code",
   "execution_count": 7,
   "id": "1c580ae1",
   "metadata": {},
   "outputs": [
    {
     "data": {
      "text/plain": [
       "(20491, 2)"
      ]
     },
     "execution_count": 7,
     "metadata": {},
     "output_type": "execute_result"
    }
   ],
   "source": [
    "df.shape"
   ]
  },
  {
   "cell_type": "code",
   "execution_count": 8,
   "id": "dfc62d3c",
   "metadata": {},
   "outputs": [],
   "source": [
    "vocab_size = 600\n",
    "embedding_dim = 20\n",
    "max_length = 1000\n",
    "trunc_type='post'\n",
    "padding_type='post'\n",
    "oov_tok = \"<OOV>\"\n",
    "training_size = 20451"
   ]
  },
  {
   "cell_type": "code",
   "execution_count": 9,
   "id": "f5e8654c",
   "metadata": {},
   "outputs": [],
   "source": [
    "sentences = df['Review'].tolist()\n",
    "labels  = df['Rating'].tolist()"
   ]
  },
  {
   "cell_type": "code",
   "execution_count": 10,
   "id": "2fc7783d",
   "metadata": {},
   "outputs": [],
   "source": [
    "training_sentences = sentences[0:training_size]\n",
    "testing_sentences = sentences[training_size:]\n",
    "training_labels = labels[0:training_size]\n",
    "testing_labels = labels[training_size:]"
   ]
  },
  {
   "cell_type": "code",
   "execution_count": 11,
   "id": "6b32aa03",
   "metadata": {},
   "outputs": [],
   "source": [
    "tokenizer = Tokenizer(num_words=vocab_size, oov_token=oov_tok)\n",
    "tokenizer.fit_on_texts(training_sentences)\n",
    "\n",
    "word_index = tokenizer.word_index\n",
    "\n",
    "training_sequences = tokenizer.texts_to_sequences(training_sentences)\n",
    "training_padded = pad_sequences(training_sequences, maxlen=max_length, padding=padding_type, truncating=trunc_type)\n",
    "\n",
    "testing_sequences = tokenizer.texts_to_sequences(testing_sentences)\n",
    "testing_padded = pad_sequences(testing_sequences, maxlen=max_length, padding=padding_type, truncating=trunc_type)"
   ]
  },
  {
   "cell_type": "code",
   "execution_count": 12,
   "id": "35151377",
   "metadata": {},
   "outputs": [],
   "source": [
    "import numpy as np\n",
    "training_padded = np.array(training_padded)\n",
    "training_labels = np.array(training_labels)\n",
    "testing_padded = np.array(testing_padded)\n",
    "testing_labels = np.array(testing_labels)"
   ]
  },
  {
   "cell_type": "code",
   "execution_count": 13,
   "id": "e1a3ba97",
   "metadata": {},
   "outputs": [],
   "source": [
    "model = tf.keras.Sequential([\n",
    "    tf.keras.layers.Embedding(vocab_size, embedding_dim, input_length=max_length),\n",
    "    tf.keras.layers.GlobalAveragePooling1D(),\n",
    "    tf.keras.layers.Dense(42, activation='relu'),\n",
    "    tf.keras.layers.Dense(6, activation='sigmoid')\n",
    "])\n",
    "loss_fn = keras.losses.SparseCategoricalCrossentropy()\n",
    "model.compile(loss=loss_fn,optimizer='adam',metrics=['accuracy'])"
   ]
  },
  {
   "cell_type": "code",
   "execution_count": 14,
   "id": "cd90bff6",
   "metadata": {},
   "outputs": [
    {
     "name": "stdout",
     "output_type": "stream",
     "text": [
      "Model: \"sequential\"\n",
      "_________________________________________________________________\n",
      " Layer (type)                Output Shape              Param #   \n",
      "=================================================================\n",
      " embedding (Embedding)       (None, 1000, 20)          12000     \n",
      "                                                                 \n",
      " global_average_pooling1d (G  (None, 20)               0         \n",
      " lobalAveragePooling1D)                                          \n",
      "                                                                 \n",
      " dense (Dense)               (None, 42)                882       \n",
      "                                                                 \n",
      " dense_1 (Dense)             (None, 6)                 258       \n",
      "                                                                 \n",
      "=================================================================\n",
      "Total params: 13,140\n",
      "Trainable params: 13,140\n",
      "Non-trainable params: 0\n",
      "_________________________________________________________________\n"
     ]
    }
   ],
   "source": [
    "model.summary()"
   ]
  },
  {
   "cell_type": "code",
   "execution_count": 15,
   "id": "b41fc297",
   "metadata": {},
   "outputs": [
    {
     "name": "stdout",
     "output_type": "stream",
     "text": [
      "Epoch 1/50\n",
      "640/640 [==============================] - 2s 3ms/step - loss: 1.3899 - accuracy: 0.4416 - val_loss: 1.4626 - val_accuracy: 0.4250\n",
      "Epoch 2/50\n",
      "640/640 [==============================] - 1s 2ms/step - loss: 1.3291 - accuracy: 0.4431 - val_loss: 1.4222 - val_accuracy: 0.4500\n",
      "Epoch 3/50\n",
      "640/640 [==============================] - 1s 2ms/step - loss: 1.1944 - accuracy: 0.4651 - val_loss: 1.1161 - val_accuracy: 0.5500\n",
      "Epoch 4/50\n",
      "640/640 [==============================] - 2s 2ms/step - loss: 1.0511 - accuracy: 0.5141 - val_loss: 1.0417 - val_accuracy: 0.6500\n",
      "Epoch 5/50\n",
      "640/640 [==============================] - 1s 2ms/step - loss: 1.0017 - accuracy: 0.5398 - val_loss: 1.0553 - val_accuracy: 0.6000\n",
      "Epoch 6/50\n",
      "640/640 [==============================] - 2s 2ms/step - loss: 0.9685 - accuracy: 0.5603 - val_loss: 1.0436 - val_accuracy: 0.6250\n",
      "Epoch 7/50\n",
      "640/640 [==============================] - 1s 2ms/step - loss: 0.9405 - accuracy: 0.5790 - val_loss: 1.0036 - val_accuracy: 0.6000\n",
      "Epoch 8/50\n",
      "640/640 [==============================] - 1s 2ms/step - loss: 0.9141 - accuracy: 0.5937 - val_loss: 0.9786 - val_accuracy: 0.7250\n",
      "Epoch 9/50\n",
      "640/640 [==============================] - 1s 2ms/step - loss: 0.8914 - accuracy: 0.6087 - val_loss: 0.9516 - val_accuracy: 0.6750\n",
      "Epoch 10/50\n",
      "640/640 [==============================] - 1s 2ms/step - loss: 0.8755 - accuracy: 0.6141 - val_loss: 0.9404 - val_accuracy: 0.6250\n",
      "Epoch 11/50\n",
      "640/640 [==============================] - 2s 2ms/step - loss: 0.8659 - accuracy: 0.6184 - val_loss: 0.9616 - val_accuracy: 0.6250\n",
      "Epoch 12/50\n",
      "640/640 [==============================] - 2s 2ms/step - loss: 0.8572 - accuracy: 0.6201 - val_loss: 0.8947 - val_accuracy: 0.6750\n",
      "Epoch 13/50\n",
      "640/640 [==============================] - 1s 2ms/step - loss: 0.8533 - accuracy: 0.6221 - val_loss: 0.9691 - val_accuracy: 0.6750\n",
      "Epoch 14/50\n",
      "640/640 [==============================] - 2s 2ms/step - loss: 0.8473 - accuracy: 0.6261 - val_loss: 0.9288 - val_accuracy: 0.6500\n",
      "Epoch 15/50\n",
      "640/640 [==============================] - 2s 2ms/step - loss: 0.8428 - accuracy: 0.6258 - val_loss: 0.9413 - val_accuracy: 0.6250\n",
      "Epoch 16/50\n",
      "640/640 [==============================] - 2s 2ms/step - loss: 0.8397 - accuracy: 0.6280 - val_loss: 0.9529 - val_accuracy: 0.6250\n",
      "Epoch 17/50\n",
      "640/640 [==============================] - 2s 2ms/step - loss: 0.8372 - accuracy: 0.6274 - val_loss: 0.8968 - val_accuracy: 0.6250\n",
      "Epoch 18/50\n",
      "640/640 [==============================] - 2s 2ms/step - loss: 0.8345 - accuracy: 0.6321 - val_loss: 0.8810 - val_accuracy: 0.6500\n",
      "Epoch 19/50\n",
      "640/640 [==============================] - 2s 2ms/step - loss: 0.8319 - accuracy: 0.6300 - val_loss: 0.9308 - val_accuracy: 0.6250\n",
      "Epoch 20/50\n",
      "640/640 [==============================] - 2s 2ms/step - loss: 0.8296 - accuracy: 0.6331 - val_loss: 0.8844 - val_accuracy: 0.6250\n",
      "Epoch 21/50\n",
      "640/640 [==============================] - 2s 3ms/step - loss: 0.8268 - accuracy: 0.6381 - val_loss: 0.9093 - val_accuracy: 0.6500\n",
      "Epoch 22/50\n",
      "640/640 [==============================] - 2s 3ms/step - loss: 0.8267 - accuracy: 0.6348 - val_loss: 0.8812 - val_accuracy: 0.6250\n",
      "Epoch 23/50\n",
      "640/640 [==============================] - 2s 3ms/step - loss: 0.8255 - accuracy: 0.6341 - val_loss: 0.9630 - val_accuracy: 0.6000\n",
      "Epoch 24/50\n",
      "640/640 [==============================] - 2s 3ms/step - loss: 0.8244 - accuracy: 0.6337 - val_loss: 0.9374 - val_accuracy: 0.6250\n",
      "Epoch 25/50\n",
      "640/640 [==============================] - 2s 3ms/step - loss: 0.8209 - accuracy: 0.6353 - val_loss: 0.8939 - val_accuracy: 0.6500\n",
      "Epoch 26/50\n",
      "640/640 [==============================] - 2s 3ms/step - loss: 0.8208 - accuracy: 0.6365 - val_loss: 0.9942 - val_accuracy: 0.6000\n",
      "Epoch 27/50\n",
      "640/640 [==============================] - 2s 2ms/step - loss: 0.8201 - accuracy: 0.6369 - val_loss: 0.9133 - val_accuracy: 0.6250\n",
      "Epoch 28/50\n",
      "640/640 [==============================] - 2s 3ms/step - loss: 0.8169 - accuracy: 0.6379 - val_loss: 0.8806 - val_accuracy: 0.6750\n",
      "Epoch 29/50\n",
      "640/640 [==============================] - 2s 3ms/step - loss: 0.8186 - accuracy: 0.6383 - val_loss: 0.9343 - val_accuracy: 0.6250\n",
      "Epoch 30/50\n",
      "640/640 [==============================] - 2s 3ms/step - loss: 0.8168 - accuracy: 0.6375 - val_loss: 0.9593 - val_accuracy: 0.6500\n",
      "Epoch 31/50\n",
      "640/640 [==============================] - 2s 3ms/step - loss: 0.8153 - accuracy: 0.6379 - val_loss: 0.9679 - val_accuracy: 0.6000\n",
      "Epoch 32/50\n",
      "640/640 [==============================] - 2s 3ms/step - loss: 0.8142 - accuracy: 0.6386 - val_loss: 0.9252 - val_accuracy: 0.6000\n",
      "Epoch 33/50\n",
      "640/640 [==============================] - 2s 3ms/step - loss: 0.8145 - accuracy: 0.6381 - val_loss: 0.9231 - val_accuracy: 0.6500\n",
      "Epoch 34/50\n",
      "640/640 [==============================] - 2s 3ms/step - loss: 0.8141 - accuracy: 0.6392 - val_loss: 0.8986 - val_accuracy: 0.6500\n",
      "Epoch 35/50\n",
      "640/640 [==============================] - 2s 3ms/step - loss: 0.8144 - accuracy: 0.6397 - val_loss: 0.9543 - val_accuracy: 0.6250\n",
      "Epoch 36/50\n",
      "640/640 [==============================] - 2s 3ms/step - loss: 0.8138 - accuracy: 0.6374 - val_loss: 0.9488 - val_accuracy: 0.6500\n",
      "Epoch 37/50\n",
      "640/640 [==============================] - 2s 3ms/step - loss: 0.8133 - accuracy: 0.6388 - val_loss: 0.9441 - val_accuracy: 0.6250\n",
      "Epoch 38/50\n",
      "640/640 [==============================] - 2s 3ms/step - loss: 0.8125 - accuracy: 0.6403 - val_loss: 0.8919 - val_accuracy: 0.6250\n",
      "Epoch 39/50\n",
      "640/640 [==============================] - 2s 3ms/step - loss: 0.8119 - accuracy: 0.6402 - val_loss: 0.8863 - val_accuracy: 0.6500\n",
      "Epoch 40/50\n",
      "640/640 [==============================] - 2s 3ms/step - loss: 0.8118 - accuracy: 0.6394 - val_loss: 1.0241 - val_accuracy: 0.6500\n",
      "Epoch 41/50\n",
      "640/640 [==============================] - 2s 3ms/step - loss: 0.8117 - accuracy: 0.6415 - val_loss: 0.8969 - val_accuracy: 0.6750\n",
      "Epoch 42/50\n",
      "640/640 [==============================] - 2s 3ms/step - loss: 0.8109 - accuracy: 0.6390 - val_loss: 0.9856 - val_accuracy: 0.6500\n",
      "Epoch 43/50\n",
      "640/640 [==============================] - 2s 3ms/step - loss: 0.8099 - accuracy: 0.6405 - val_loss: 0.9263 - val_accuracy: 0.6250\n",
      "Epoch 44/50\n",
      "640/640 [==============================] - 2s 3ms/step - loss: 0.8101 - accuracy: 0.6391 - val_loss: 0.9402 - val_accuracy: 0.6250\n",
      "Epoch 45/50\n",
      "640/640 [==============================] - 2s 3ms/step - loss: 0.8097 - accuracy: 0.6398 - val_loss: 0.8795 - val_accuracy: 0.6000\n",
      "Epoch 46/50\n",
      "640/640 [==============================] - 2s 3ms/step - loss: 0.8088 - accuracy: 0.6399 - val_loss: 0.9419 - val_accuracy: 0.6250\n",
      "Epoch 47/50\n",
      "640/640 [==============================] - 2s 3ms/step - loss: 0.8082 - accuracy: 0.6412 - val_loss: 0.9166 - val_accuracy: 0.6250\n",
      "Epoch 48/50\n",
      "640/640 [==============================] - 2s 3ms/step - loss: 0.8081 - accuracy: 0.6423 - val_loss: 0.9413 - val_accuracy: 0.6250\n",
      "Epoch 49/50\n",
      "640/640 [==============================] - 2s 3ms/step - loss: 0.8087 - accuracy: 0.6404 - val_loss: 0.9177 - val_accuracy: 0.6250\n",
      "Epoch 50/50\n",
      "640/640 [==============================] - 2s 3ms/step - loss: 0.8058 - accuracy: 0.6409 - val_loss: 0.9706 - val_accuracy: 0.6000\n"
     ]
    }
   ],
   "source": [
    "num_epochs = 50\n",
    "history = model.fit(training_padded, training_labels, epochs=num_epochs, validation_data=(testing_padded, testing_labels))"
   ]
  },
  {
   "cell_type": "code",
   "execution_count": 16,
   "id": "b1a356b0",
   "metadata": {},
   "outputs": [
    {
     "data": {
      "image/png": "[encoded data removed]",
      "text/plain": [
       "<Figure size 432x288 with 1 Axes>"
      ]
     },
     "metadata": {
      "needs_background": "light"
     },
     "output_type": "display_data"
    },
    {
     "data": {
      "image/png": "[encoded data removed]",
      "text/plain": [
       "<Figure size 432x288 with 1 Axes>"
      ]
     },
     "metadata": {
      "needs_background": "light"
     },
     "output_type": "display_data"
    }
   ],
   "source": [
    "import matplotlib.pyplot as plt\n",
    "\n",
    "def plot_graphs(history, string):\n",
    "    plt.plot(history.history[string])\n",
    "    plt.plot(history.history['val_'+string])\n",
    "    plt.xlabel(\"Epochs\")\n",
    "    plt.ylabel(string)\n",
    "    plt.legend([string, 'val_'+string])\n",
    "    plt.show()\n",
    "plot_graphs(history, \"accuracy\")\n",
    "plot_graphs(history, \"loss\")"
   ]
  },
  {
   "cell_type": "code",
   "execution_count": 17,
   "id": "a2876c6a",
   "metadata": {},
   "outputs": [
    {
     "name": "stdout",
     "output_type": "stream",
     "text": [
      "nice hotel expensive parking got good deal stay hotel <OOV> arrived late evening took <OOV> previous reviews did <OOV> parking check quick easy little disappointed non <OOV> view room room clean nice size bed comfortable <OOV> <OOV> <OOV> high pillows not <OOV> like heard music room night morning <OOV> <OOV> doors <OOV> <OOV> hear people <OOV> <OOV> maybe just noisy <OOV> <OOV> bath <OOV> nice did not <OOV> stay nice touch taken <OOV> staying <OOV> location great walking distance shopping overall nice experience having pay <OOV> parking night ? ? ? ? ? ? ? ? ? ? ? ? ? ? ? ? ? ? ? ? ? ? ? ? ? ? ? ? ? ? ? ? ? ? ? ? ? ? ? ? ? ? ? ? ? ? ? ? ? ? ? ? ? ? ? ? ? ? ? ? ? ? ? ? ? ? ? ? ? ? ? ? ? ? ? ? ? ? ? ? ? ? ? ? ? ? ? ? ? ? ? ? ? ? ? ? ? ? ? ? ? ? ? ? ? ? ? ? ? ? ? ? ? ? ? ? ? ? ? ? ? ? ? ? ? ? ? ? ? ? ? ? ? ? ? ? ? ? ? ? ? ? ? ? ? ? ? ? ? ? ? ? ? ? ? ? ? ? ? ? ? ? ? ? ? ? ? ? ? ? ? ? ? ? ? ? ? ? ? ? ? ? ? ? ? ? ? ? ? ? ? ? ? ? ? ? ? ? ? ? ? ? ? ? ? ? ? ? ? ? ? ? ? ? ? ? ? ? ? ? ? ? ? ? ? ? ? ? ? ? ? ? ? ? ? ? ? ? ? ? ? ? ? ? ? ? ? ? ? ? ? ? ? ? ? ? ? ? ? ? ? ? ? ? ? ? ? ? ? ? ? ? ? ? ? ? ? ? ? ? ? ? ? ? ? ? ? ? ? ? ? ? ? ? ? ? ? ? ? ? ? ? ? ? ? ? ? ? ? ? ? ? ? ? ? ? ? ? ? ? ? ? ? ? ? ? ? ? ? ? ? ? ? ? ? ? ? ? ? ? ? ? ? ? ? ? ? ? ? ? ? ? ? ? ? ? ? ? ? ? ? ? ? ? ? ? ? ? ? ? ? ? ? ? ? ? ? ? ? ? ? ? ? ? ? ? ? ? ? ? ? ? ? ? ? ? ? ? ? ? ? ? ? ? ? ? ? ? ? ? ? ? ? ? ? ? ? ? ? ? ? ? ? ? ? ? ? ? ? ? ? ? ? ? ? ? ? ? ? ? ? ? ? ? ? ? ? ? ? ? ? ? ? ? ? ? ? ? ? ? ? ? ? ? ? ? ? ? ? ? ? ? ? ? ? ? ? ? ? ? ? ? ? ? ? ? ? ? ? ? ? ? ? ? ? ? ? ? ? ? ? ? ? ? ? ? ? ? ? ? ? ? ? ? ? ? ? ? ? ? ? ? ? ? ? ? ? ? ? ? ? ? ? ? ? ? ? ? ? ? ? ? ? ? ? ? ? ? ? ? ? ? ? ? ? ? ? ? ? ? ? ? ? ? ? ? ? ? ? ? ? ? ? ? ? ? ? ? ? ? ? ? ? ? ? ? ? ? ? ? ? ? ? ? ? ? ? ? ? ? ? ? ? ? ? ? ? ? ? ? ? ? ? ? ? ? ? ? ? ? ? ? ? ? ? ? ? ? ? ? ? ? ? ? ? ? ? ? ? ? ? ? ? ? ? ? ? ? ? ? ? ? ? ? ? ? ? ? ? ? ? ? ? ? ? ? ? ? ? ? ? ? ? ? ? ? ? ? ? ? ? ? ? ? ? ? ? ? ? ? ? ? ? ? ? ? ? ? ? ? ? ? ? ? ? ? ? ? ? ? ? ? ? ? ? ? ? ? ? ? ? ? ? ? ? ? ? ? ? ? ? ? ? ? ? ? ? ? ? ? ? ? ? ? ? ? ? ? ? ? ? ? ? ? ? ? ? ? ? ? ? ? ? ? ? ? ? ? ? ? ? ? ? ? ? ? ? ? ? ? ? ? ? ? ? ? ? ? ? ? ? ? ? ? ? ? ? ? ? ? ? ? ? ? ? ? ? ? ? ? ? ? ? ? ? ? ? ? ? ? ? ? ? ? ? ? ? ? ? ? ? ? ? ? ? ? ? ? ? ? ? ? ? ? ? ? ? ? ? ? ? ? ? ? ? ? ? ? ? ? ? ? ? ? ? ? ? ? ? ? ? ? ? ? ? ? ? ? ? ? ? ? ? ? ? ? ? ? ? ? ? ? ? ? ? ? ? ? ? ? ? ? ? ? ? ? ? ? ? ? ? ?\n",
      "nice hotel expensive parking got good deal stay hotel anniversary, arrived late evening took advice previous reviews did valet parking, check quick easy, little disappointed non-existent view room room clean nice size, bed comfortable woke stiff neck high pillows, not soundproof like heard music room night morning loud bangs doors opening closing hear people talking hallway, maybe just noisy neighbors, aveda bath products nice, did not goldfish stay nice touch taken advantage staying longer, location great walking distance shopping, overall nice experience having pay 40 parking night,  \n",
      "4\n"
     ]
    }
   ],
   "source": [
    "reverse_word_index = dict([(value, key) for (key, value) in word_index.items()])\n",
    "\n",
    "def decode_sentence(text):\n",
    "    return ' '.join([reverse_word_index.get(i, '?') for i in text])\n",
    "\n",
    "print(decode_sentence(training_padded[0]))\n",
    "print(training_sentences[0])\n",
    "print(labels[0])"
   ]
  },
  {
   "cell_type": "code",
   "execution_count": 18,
   "id": "0aafb8e3",
   "metadata": {},
   "outputs": [
    {
     "name": "stdout",
     "output_type": "stream",
     "text": [
      "luxury trumps space believe reviews say rooms small, luxurious, service missteps related hotel getting speed staff anxious make amends, beware tourist map chatty concierge seriously misrepresents distance asian museum closer, hike half, finally in-house restaurant juno really good offering inventive menu terrific service,   :  4 \n",
      "\n",
      "excellent wedding just ca n't say good things, beautiful setting over-the-top helpful staff great value, feel lucky got beginning sure booked,   :  5 \n",
      "\n",
      "history beauty superb service stayed reading recent remodel, seattle embark alaskan cruise arctic club real highlights trip, spent time just photographing lobby bar gorgeous banquet hall ceiling, beds luxuriously comfortable ca n't help impressed glad way attitude employee, treat,   :  5 \n",
      "\n",
      "loved arctic overall items working stayed smallest room type room 903 arctic club 3 nights attending conference, check-in smooth courteous, room small think nicest rooms stayed, bathroom nice shower rainfall style showerhead nicely decorated marble washstand vanity vintage style light fixtures, expecting room queen size bed room king, bed extremely comfortable nice pillows fluffy comforter, housekeeping did excellent job throught stay, room includes flat screen tv dvd player minibar used refrigerator cd alarm clock comfy lounge chair desk chair, 9th floor open week issues, electronic safe activated iron delivered items taken care quickly, 2 things change add additional outlet near desk pull electronics additional soundproofing windows significant noise sirens, small gym 1st floor no pool, stay deal similiar price paid time,   :  4 \n",
      "\n",
      "beautiful facilities overall highly disappointing space beautiful appointed excited stay lots problems, not definitely not fully running value price greatly lacking.they non-functioning elevator no benches floors waiting tiring physical disabilities limitations, recovering illness issue, addition working elevator completely broke times stay.one 2 phones dead wiring not phone stereo room did n't work tv not properly hooked water 6 floors shut nights, change rooms 2:30 morning mild stomach upsets left absolute need flush toilets.the toiletries provided exceptionally nice 4 nights replenished, did not hotel directory room nor did invitation juno grand opening cocktail party event tho supposed room, afternoons long day walking hills seattle came 4 room n't done.the staff helpful genuinely concerned.this potential grand classy hotel tho location not great, far finished, 6 months year iron bumps verify elevators functioning,   :  2 \n",
      "\n",
      "wonderful wedding night husband stayed night wedding august 2008. reviews said hotel beautifully renovated building interior elegant takes time gold-rush era, staff friendly accomodating, arrived midnight checked right let friend check earlier day stuff waiting room, reservation week told going wedding night upgraded free room whirlpool 2 really pretty roomy, king size bed super comfortable linens pillows soft fluffy exhausted probably fallen asleep definitely comfortable, room comfy robes toiletry products lovely high quality, interior room combination classic modern, bed-side tables looked like old-fashioned luggage trunks cool touch time large flat-screen tv modern touches, breakfast morning juno restaurant, room package came continental breakfast quite substantial lots pastries yogurt fruit, really hungry ended ordering entrees addition omelettes delicious, minor construction going inside particularly elevators did n't problem, recommend arctic club unique romantic classic place stay, definitely wo n't feel like staying chain hotel arctic club definite sense character,   :  5 \n",
      "\n",
      "not ready kinks felt taken advantage just stayed arctic club way things incomplete, shame hotel management decided rush opening, eventually kinks management charge, people clear short-cuts quick buck, does n't leave feeling good hotel, management style remain hotel completed wonder problems arise.i wo n't dwell issues related hotel not completed, permanent problems hotel half rooms face dismal collection roof-top mechanical equipment unsightly parking lot, hotel not sound-proofed rooms right lot noise, fitness room tiny tiny basement room feels like boiler room, hot water takes long time hot just barely warm, mini-bar room noisy silent ones available apparently hotel did n't spring, beautiful renovation lot promise charm stylish decor quickly starts wear, left feeling scammed,   :  2 \n",
      "\n",
      "perfect ca n't beat location, beach incredible, rooms sumptuous, caution room overlooking pool area turns disco bar midnight friday saturday nights unless sleep little till dawn,   :  3 \n",
      "\n",
      "fantasic stay laconcha renaissance resort pr husband stayed hotel long weekend, entering greeted staff helpful, bell captain went way provide assistance desk staff helpful, given room fantastic view ocean, say delighted understatement considering did not know entering, hotel staff exceptional location ideal walk area close promixity old san juan, really enjoyed toiletries know small thing does make difference, certainly return happy great room, oh hotel did n't want miss opportunity provide positive feedback regarding experience, bgj,   :  5 \n",
      "\n",
      "june 08 stay stayed hotel june 6/6-6/8/08, read reviews website stating loud weekends travel san juan r r wanted new kid block try, hotel beautiful, pools small beach nice, staff friendly especially caribbean standards live caribbean, rooms large stayed ocean view room completely gorgeous, say completely shocked loud music really weekends, resort expected resort amenites believe building spa charge resort fees, management justify charging rates cant sleep party lobby/pool stops, hotel built u shape, walk lobby opens pool pool rooms left street ocean view right, music amplified like mini arena.i want stay hotel rooms nice noise level probably el san juan hilton isla verde,   :  1 \n",
      "\n"
     ]
    }
   ],
   "source": [
    "for n in range(10):\n",
    "    print(testing_sentences[n],': ',testing_labels[n],'\\n')"
   ]
  },
  {
   "cell_type": "code",
   "execution_count": 19,
   "id": "ddd2bfd7",
   "metadata": {},
   "outputs": [
    {
     "name": "stdout",
     "output_type": "stream",
     "text": [
      "[[3.2857848e-08 3.2643670e-01 1.7111194e-01 6.5809101e-02 2.2583371e-01\n",
      "  6.9611967e-01]]\n"
     ]
    }
   ],
   "source": [
    "sentence = [\"Feeling as though you are on top of the world, immerse yourself in the beauty that this unique landscape has to offer, bordered by pristine white beaches and the brilliant blues of the sea. Feel inspired by the hopes and dreams that have\"]\n",
    "sequences = tokenizer.texts_to_sequences(sentence)\n",
    "padded = pad_sequences(sequences, maxlen=max_length, padding=padding_type, truncating=trunc_type)\n",
    "print(model.predict(padded))"
   ]
  }
 ],
 "metadata": {
  "kernelspec": {
   "display_name": "Python 3",
   "language": "python",
   "name": "python3"
  },
  "language_info": {
   "codemirror_mode": {
    "name": "ipython",
    "version": 3
   },
   "file_extension": ".py",
   "mimetype": "text/x-python",
   "name": "python",
   "nbconvert_exporter": "python",
   "pygments_lexer": "ipython3",
   "version": "3.9.5"
  }
 },
 "nbformat": 4,
 "nbformat_minor": 5
}
