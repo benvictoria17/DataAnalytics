{
 "cells": [
  {
   "cell_type": "code",
   "execution_count": 1,
   "metadata": {
    "execution": {
     "iopub.execute_input": "2021-03-13T04:58:00.415227Z",
     "iopub.status.busy": "2021-03-13T04:58:00.414280Z",
     "iopub.status.idle": "2021-03-13T04:58:10.647461Z",
     "shell.execute_reply": "2021-03-13T04:58:10.648025Z"
    },
    "id": "LtFDzUUGu9Li",
    "outputId": "c1895fea-8bd3-40a7-feb8-353fcb8dae11",
    "papermill": {
     "duration": 10.321041,
     "end_time": "2021-03-13T04:58:10.648425",
     "exception": false,
     "start_time": "2021-03-13T04:58:00.327384",
     "status": "completed"
    },
    "tags": []
   },
   "outputs": [
    {
     "name": "stdout",
     "output_type": "stream",
     "text": [
      "Collecting researchpy\r\n",
      "  Downloading researchpy-0.2.3-py3-none-any.whl (10 kB)\r\n",
      "Requirement already satisfied: scipy in /opt/conda/lib/python3.7/site-packages (from researchpy) (1.5.4)\r\n",
      "Requirement already satisfied: numpy in /opt/conda/lib/python3.7/site-packages (from researchpy) (1.19.5)\r\n",
      "Requirement already satisfied: pandas in /opt/conda/lib/python3.7/site-packages (from researchpy) (1.2.0)\r\n",
      "Requirement already satisfied: statsmodels in /opt/conda/lib/python3.7/site-packages (from researchpy) (0.12.1)\r\n",
      "Requirement already satisfied: python-dateutil>=2.7.3 in /opt/conda/lib/python3.7/site-packages (from pandas->researchpy) (2.8.1)\r\n",
      "Requirement already satisfied: pytz>=2017.3 in /opt/conda/lib/python3.7/site-packages (from pandas->researchpy) (2020.5)\r\n",
      "Requirement already satisfied: six>=1.5 in /opt/conda/lib/python3.7/site-packages (from python-dateutil>=2.7.3->pandas->researchpy) (1.15.0)\r\n",
      "Requirement already satisfied: patsy>=0.5 in /opt/conda/lib/python3.7/site-packages (from statsmodels->researchpy) (0.5.1)\r\n",
      "Installing collected packages: researchpy\r\n",
      "Successfully installed researchpy-0.2.3\r\n",
      "Note: you may need to restart the kernel to use updated packages.\n"
     ]
    }
   ],
   "source": [
    "pip install researchpy"
   ]
  },
  {
   "cell_type": "code",
   "execution_count": 2,
   "metadata": {
    "execution": {
     "iopub.execute_input": "2021-03-13T04:58:10.816528Z",
     "iopub.status.busy": "2021-03-13T04:58:10.815210Z",
     "iopub.status.idle": "2021-03-13T04:58:12.125657Z",
     "shell.execute_reply": "2021-03-13T04:58:12.126330Z"
    },
    "id": "SEPkNYVeu0Rs",
    "papermill": {
     "duration": 1.399606,
     "end_time": "2021-03-13T04:58:12.126557",
     "exception": false,
     "start_time": "2021-03-13T04:58:10.726951",
     "status": "completed"
    },
    "tags": []
   },
   "outputs": [],
   "source": [
    "import numpy as np\n",
    "import pandas as pd\n",
    "import researchpy as rp\n",
    "import seaborn as sns\n",
    "from sklearn.datasets import make_blobs \n",
    "import matplotlib.pyplot as plt\n",
    "from scipy import stats\n",
    "%matplotlib inline\n",
    "import warnings\n",
    "warnings.filterwarnings(\"ignore\")"
   ]
  },
  {
   "cell_type": "code",
   "execution_count": 3,
   "metadata": {
    "execution": {
     "iopub.execute_input": "2021-03-13T04:58:12.292889Z",
     "iopub.status.busy": "2021-03-13T04:58:12.292008Z",
     "iopub.status.idle": "2021-03-13T04:58:13.100326Z",
     "shell.execute_reply": "2021-03-13T04:58:13.099603Z"
    },
    "id": "zGWtwyrvu0SC",
    "papermill": {
     "duration": 0.895289,
     "end_time": "2021-03-13T04:58:13.100494",
     "exception": false,
     "start_time": "2021-03-13T04:58:12.205205",
     "status": "completed"
    },
    "tags": []
   },
   "outputs": [],
   "source": [
    "nch = pd.read_csv(\"https://raw.githubusercontent.com/benvictoria17/pandas/master/dataset/NayaraniCommunityHospitalData/final.csv\")"
   ]
  },
  {
   "cell_type": "code",
   "execution_count": 4,
   "metadata": {
    "execution": {
     "iopub.execute_input": "2021-03-13T04:58:13.260636Z",
     "iopub.status.busy": "2021-03-13T04:58:13.259973Z",
     "iopub.status.idle": "2021-03-13T04:58:13.264388Z",
     "shell.execute_reply": "2021-03-13T04:58:13.263744Z"
    },
    "id": "NNItN7pWu0SV",
    "outputId": "4a4ccdf8-28c4-4384-be08-d39694f8f8f3",
    "papermill": {
     "duration": 0.087197,
     "end_time": "2021-03-13T04:58:13.264535",
     "exception": false,
     "start_time": "2021-03-13T04:58:13.177338",
     "status": "completed"
    },
    "tags": []
   },
   "outputs": [
    {
     "name": "stdout",
     "output_type": "stream",
     "text": [
      "(22310, 4)\n"
     ]
    }
   ],
   "source": [
    "print(nch.shape)"
   ]
  },
  {
   "cell_type": "code",
   "execution_count": 5,
   "metadata": {
    "execution": {
     "iopub.execute_input": "2021-03-13T04:58:13.428606Z",
     "iopub.status.busy": "2021-03-13T04:58:13.427951Z",
     "iopub.status.idle": "2021-03-13T04:58:13.432556Z",
     "shell.execute_reply": "2021-03-13T04:58:13.433074Z"
    },
    "id": "9CvjUU4Lu0Sq",
    "outputId": "b8799bf1-0360-4084-aef2-cd48cb4e6747",
    "papermill": {
     "duration": 0.091584,
     "end_time": "2021-03-13T04:58:13.433260",
     "exception": false,
     "start_time": "2021-03-13T04:58:13.341676",
     "status": "completed"
    },
    "scrolled": true,
    "tags": []
   },
   "outputs": [
    {
     "name": "stdout",
     "output_type": "stream",
     "text": [
      "Index(['Age', 'Sex', 'District', 'Final Diagnosis'], dtype='object')\n"
     ]
    }
   ],
   "source": [
    "print(nch.columns)"
   ]
  },
  {
   "cell_type": "code",
   "execution_count": 6,
   "metadata": {
    "execution": {
     "iopub.execute_input": "2021-03-13T04:58:13.614842Z",
     "iopub.status.busy": "2021-03-13T04:58:13.606037Z",
     "iopub.status.idle": "2021-03-13T04:58:13.619346Z",
     "shell.execute_reply": "2021-03-13T04:58:13.618712Z"
    },
    "id": "9eFkLAN0u0S8",
    "outputId": "94a6a6ea-a81c-459f-9fe6-24c184ad0831",
    "papermill": {
     "duration": 0.107944,
     "end_time": "2021-03-13T04:58:13.619486",
     "exception": false,
     "start_time": "2021-03-13T04:58:13.511542",
     "status": "completed"
    },
    "tags": []
   },
   "outputs": [
    {
     "data": {
      "text/plain": [
       "Female    12568\n",
       "Male       9742\n",
       "Name: Sex, dtype: int64"
      ]
     },
     "execution_count": 6,
     "metadata": {},
     "output_type": "execute_result"
    }
   ],
   "source": [
    "nch[\"Sex\"].value_counts()"
   ]
  },
  {
   "cell_type": "code",
   "execution_count": 7,
   "metadata": {
    "execution": {
     "iopub.execute_input": "2021-03-13T04:58:13.793139Z",
     "iopub.status.busy": "2021-03-13T04:58:13.792151Z",
     "iopub.status.idle": "2021-03-13T04:58:13.797955Z",
     "shell.execute_reply": "2021-03-13T04:58:13.797329Z"
    },
    "id": "T3t60phQu0TK",
    "outputId": "d0b90a3d-4455-4df0-ce81-02916603dce4",
    "papermill": {
     "duration": 0.100451,
     "end_time": "2021-03-13T04:58:13.798117",
     "exception": false,
     "start_time": "2021-03-13T04:58:13.697666",
     "status": "completed"
    },
    "tags": []
   },
   "outputs": [
    {
     "data": {
      "text/plain": [
       "6-11 Month    707\n",
       "1             600\n",
       "2             546\n",
       "30            541\n",
       "25            536\n",
       "             ... \n",
       "91              7\n",
       "93              6\n",
       "98              3\n",
       "99              2\n",
       "105             1\n",
       "Name: Age, Length: 105, dtype: int64"
      ]
     },
     "execution_count": 7,
     "metadata": {},
     "output_type": "execute_result"
    }
   ],
   "source": [
    "nch[\"Age\"].value_counts()"
   ]
  },
  {
   "cell_type": "code",
   "execution_count": 8,
   "metadata": {
    "execution": {
     "iopub.execute_input": "2021-03-13T04:58:13.975224Z",
     "iopub.status.busy": "2021-03-13T04:58:13.970836Z",
     "iopub.status.idle": "2021-03-13T04:58:13.980098Z",
     "shell.execute_reply": "2021-03-13T04:58:13.979408Z"
    },
    "id": "DaycCX1su0TV",
    "outputId": "d74870aa-d057-4840-b481-1e7be4d650b8",
    "papermill": {
     "duration": 0.103361,
     "end_time": "2021-03-13T04:58:13.980260",
     "exception": false,
     "start_time": "2021-03-13T04:58:13.876899",
     "status": "completed"
    },
    "scrolled": true,
    "tags": []
   },
   "outputs": [
    {
     "data": {
      "text/plain": [
       "Chitwan        13642\n",
       "Nawalparasi     4472\n",
       "Makwanpur       1063\n",
       "Gorkha           758\n",
       "Tanahu           529\n",
       "               ...  \n",
       "Dolakha            1\n",
       "Aachham            1\n",
       "Maygdi             1\n",
       "Taplejung          1\n",
       "Doti               1\n",
       "Name: Place, Length: 66, dtype: int64"
      ]
     },
     "execution_count": 8,
     "metadata": {},
     "output_type": "execute_result"
    }
   ],
   "source": [
    "nch = nch.rename(columns= {'District': 'Place'})\n",
    "nch[\"Place\"].value_counts()"
   ]
  },
  {
   "cell_type": "code",
   "execution_count": 9,
   "metadata": {
    "execution": {
     "iopub.execute_input": "2021-03-13T04:58:14.155659Z",
     "iopub.status.busy": "2021-03-13T04:58:14.154907Z",
     "iopub.status.idle": "2021-03-13T04:58:14.159508Z",
     "shell.execute_reply": "2021-03-13T04:58:14.158915Z"
    },
    "id": "5GMzYaF4u0Ti",
    "outputId": "5fc6eaca-ae88-451f-b0c5-49e15c70fde4",
    "papermill": {
     "duration": 0.098579,
     "end_time": "2021-03-13T04:58:14.159675",
     "exception": false,
     "start_time": "2021-03-13T04:58:14.061096",
     "status": "completed"
    },
    "tags": []
   },
   "outputs": [
    {
     "data": {
      "text/plain": [
       "MED               7867\n",
       "PED               4315\n",
       "SURGICAL          3113\n",
       "Gynaecology       2995\n",
       "ORTHO             1791\n",
       "ICU                912\n",
       "NICU               460\n",
       "PSY                292\n",
       "Cardiology         283\n",
       "Clinical           136\n",
       "CTVS                59\n",
       "Cardiology ICU      42\n",
       "CTVS-ICU            25\n",
       "NEURO               18\n",
       "Neuro                2\n",
       "Name: Final Diagnosis, dtype: int64"
      ]
     },
     "execution_count": 9,
     "metadata": {},
     "output_type": "execute_result"
    }
   ],
   "source": [
    "nch[\"Final Diagnosis\"].value_counts()"
   ]
  },
  {
   "cell_type": "code",
   "execution_count": 10,
   "metadata": {
    "execution": {
     "iopub.execute_input": "2021-03-13T04:58:14.325485Z",
     "iopub.status.busy": "2021-03-13T04:58:14.324584Z",
     "iopub.status.idle": "2021-03-13T04:58:14.345165Z",
     "shell.execute_reply": "2021-03-13T04:58:14.345951Z"
    },
    "id": "CSsBicPWu0Tt",
    "outputId": "50607690-0e46-4235-e962-3b2287a3b90f",
    "papermill": {
     "duration": 0.105541,
     "end_time": "2021-03-13T04:58:14.346176",
     "exception": false,
     "start_time": "2021-03-13T04:58:14.240635",
     "status": "completed"
    },
    "tags": []
   },
   "outputs": [
    {
     "data": {
      "text/plain": [
       "True"
      ]
     },
     "execution_count": 10,
     "metadata": {},
     "output_type": "execute_result"
    }
   ],
   "source": [
    "nch.duplicated().any() #if any duplicated data"
   ]
  },
  {
   "cell_type": "code",
   "execution_count": 11,
   "metadata": {
    "execution": {
     "iopub.execute_input": "2021-03-13T04:58:14.512204Z",
     "iopub.status.busy": "2021-03-13T04:58:14.511315Z",
     "iopub.status.idle": "2021-03-13T04:58:14.540328Z",
     "shell.execute_reply": "2021-03-13T04:58:14.539478Z"
    },
    "id": "pW4CLLKru0T4",
    "papermill": {
     "duration": 0.113486,
     "end_time": "2021-03-13T04:58:14.540513",
     "exception": false,
     "start_time": "2021-03-13T04:58:14.427027",
     "status": "completed"
    },
    "tags": []
   },
   "outputs": [],
   "source": [
    "nch.drop_duplicates(keep=False)\n",
    "nch.drop_duplicates(keep=False, inplace=True)"
   ]
  },
  {
   "cell_type": "code",
   "execution_count": 12,
   "metadata": {
    "execution": {
     "iopub.execute_input": "2021-03-13T04:58:14.712788Z",
     "iopub.status.busy": "2021-03-13T04:58:14.712066Z",
     "iopub.status.idle": "2021-03-13T04:58:14.757121Z",
     "shell.execute_reply": "2021-03-13T04:58:14.757661Z"
    },
    "id": "gAQ2Z9Teu0UF",
    "outputId": "720e545a-26f2-484c-cb04-bb8cb18f0d1f",
    "papermill": {
     "duration": 0.136646,
     "end_time": "2021-03-13T04:58:14.757916",
     "exception": false,
     "start_time": "2021-03-13T04:58:14.621270",
     "status": "completed"
    },
    "tags": []
   },
   "outputs": [
    {
     "data": {
      "text/html": [
       "<div>\n",
       "<style scoped>\n",
       "    .dataframe tbody tr th:only-of-type {\n",
       "        vertical-align: middle;\n",
       "    }\n",
       "\n",
       "    .dataframe tbody tr th {\n",
       "        vertical-align: top;\n",
       "    }\n",
       "\n",
       "    .dataframe thead th {\n",
       "        text-align: right;\n",
       "    }\n",
       "</style>\n",
       "<table border=\"1\" class=\"dataframe\">\n",
       "  <thead>\n",
       "    <tr style=\"text-align: right;\">\n",
       "      <th></th>\n",
       "      <th>Age</th>\n",
       "      <th>Sex</th>\n",
       "      <th>Place</th>\n",
       "      <th>Final Diagnosis</th>\n",
       "    </tr>\n",
       "  </thead>\n",
       "  <tbody>\n",
       "    <tr>\n",
       "      <th>count</th>\n",
       "      <td>2473</td>\n",
       "      <td>2473</td>\n",
       "      <td>2473</td>\n",
       "      <td>2473</td>\n",
       "    </tr>\n",
       "    <tr>\n",
       "      <th>unique</th>\n",
       "      <td>104</td>\n",
       "      <td>2</td>\n",
       "      <td>66</td>\n",
       "      <td>15</td>\n",
       "    </tr>\n",
       "    <tr>\n",
       "      <th>top</th>\n",
       "      <td>35</td>\n",
       "      <td>Female</td>\n",
       "      <td>Chitwan</td>\n",
       "      <td>SURGICAL</td>\n",
       "    </tr>\n",
       "    <tr>\n",
       "      <th>freq</th>\n",
       "      <td>57</td>\n",
       "      <td>1346</td>\n",
       "      <td>317</td>\n",
       "      <td>510</td>\n",
       "    </tr>\n",
       "  </tbody>\n",
       "</table>\n",
       "</div>"
      ],
      "text/plain": [
       "         Age     Sex    Place Final Diagnosis\n",
       "count   2473    2473     2473            2473\n",
       "unique   104       2       66              15\n",
       "top       35  Female  Chitwan        SURGICAL\n",
       "freq      57    1346      317             510"
      ]
     },
     "execution_count": 12,
     "metadata": {},
     "output_type": "execute_result"
    }
   ],
   "source": [
    "nch.describe()"
   ]
  },
  {
   "cell_type": "code",
   "execution_count": 13,
   "metadata": {
    "execution": {
     "iopub.execute_input": "2021-03-13T04:58:14.925074Z",
     "iopub.status.busy": "2021-03-13T04:58:14.924252Z",
     "iopub.status.idle": "2021-03-13T04:58:14.939871Z",
     "shell.execute_reply": "2021-03-13T04:58:14.940463Z"
    },
    "id": "_VSnNjh7u0US",
    "outputId": "4d642a79-034a-4036-d1f4-e021812b4cde",
    "papermill": {
     "duration": 0.102194,
     "end_time": "2021-03-13T04:58:14.940681",
     "exception": false,
     "start_time": "2021-03-13T04:58:14.838487",
     "status": "completed"
    },
    "tags": []
   },
   "outputs": [
    {
     "data": {
      "text/html": [
       "<div>\n",
       "<style scoped>\n",
       "    .dataframe tbody tr th:only-of-type {\n",
       "        vertical-align: middle;\n",
       "    }\n",
       "\n",
       "    .dataframe tbody tr th {\n",
       "        vertical-align: top;\n",
       "    }\n",
       "\n",
       "    .dataframe thead th {\n",
       "        text-align: right;\n",
       "    }\n",
       "</style>\n",
       "<table border=\"1\" class=\"dataframe\">\n",
       "  <thead>\n",
       "    <tr style=\"text-align: right;\">\n",
       "      <th></th>\n",
       "      <th>Age</th>\n",
       "      <th>Sex</th>\n",
       "      <th>Place</th>\n",
       "      <th>Final Diagnosis</th>\n",
       "    </tr>\n",
       "  </thead>\n",
       "  <tbody>\n",
       "    <tr>\n",
       "      <th>28</th>\n",
       "      <td>77</td>\n",
       "      <td>Female</td>\n",
       "      <td>Chitwan</td>\n",
       "      <td>Gynaecology</td>\n",
       "    </tr>\n",
       "    <tr>\n",
       "      <th>29</th>\n",
       "      <td>31</td>\n",
       "      <td>Female</td>\n",
       "      <td>Rupandehi</td>\n",
       "      <td>Gynaecology</td>\n",
       "    </tr>\n",
       "    <tr>\n",
       "      <th>37</th>\n",
       "      <td>30</td>\n",
       "      <td>Female</td>\n",
       "      <td>Kailali</td>\n",
       "      <td>Gynaecology</td>\n",
       "    </tr>\n",
       "    <tr>\n",
       "      <th>72</th>\n",
       "      <td>22</td>\n",
       "      <td>Female</td>\n",
       "      <td>Surkhet</td>\n",
       "      <td>Gynaecology</td>\n",
       "    </tr>\n",
       "    <tr>\n",
       "      <th>80</th>\n",
       "      <td>27</td>\n",
       "      <td>Female</td>\n",
       "      <td>Rautahat</td>\n",
       "      <td>Gynaecology</td>\n",
       "    </tr>\n",
       "    <tr>\n",
       "      <th>121</th>\n",
       "      <td>45</td>\n",
       "      <td>Female</td>\n",
       "      <td>Gorkha</td>\n",
       "      <td>Gynaecology</td>\n",
       "    </tr>\n",
       "    <tr>\n",
       "      <th>123</th>\n",
       "      <td>66</td>\n",
       "      <td>Female</td>\n",
       "      <td>Nawalparasi</td>\n",
       "      <td>Gynaecology</td>\n",
       "    </tr>\n",
       "    <tr>\n",
       "      <th>124</th>\n",
       "      <td>73</td>\n",
       "      <td>Female</td>\n",
       "      <td>Nawalparasi</td>\n",
       "      <td>Gynaecology</td>\n",
       "    </tr>\n",
       "    <tr>\n",
       "      <th>150</th>\n",
       "      <td>48</td>\n",
       "      <td>Female</td>\n",
       "      <td>Baglung</td>\n",
       "      <td>Gynaecology</td>\n",
       "    </tr>\n",
       "    <tr>\n",
       "      <th>160</th>\n",
       "      <td>49</td>\n",
       "      <td>Female</td>\n",
       "      <td>Kapilvastu</td>\n",
       "      <td>Gynaecology</td>\n",
       "    </tr>\n",
       "    <tr>\n",
       "      <th>181</th>\n",
       "      <td>21</td>\n",
       "      <td>Female</td>\n",
       "      <td>Rupandehi</td>\n",
       "      <td>Gynaecology</td>\n",
       "    </tr>\n",
       "    <tr>\n",
       "      <th>188</th>\n",
       "      <td>51</td>\n",
       "      <td>Female</td>\n",
       "      <td>Makwanpur</td>\n",
       "      <td>Gynaecology</td>\n",
       "    </tr>\n",
       "    <tr>\n",
       "      <th>191</th>\n",
       "      <td>52</td>\n",
       "      <td>Female</td>\n",
       "      <td>Dhading</td>\n",
       "      <td>Gynaecology</td>\n",
       "    </tr>\n",
       "    <tr>\n",
       "      <th>194</th>\n",
       "      <td>22</td>\n",
       "      <td>Female</td>\n",
       "      <td>Dhading</td>\n",
       "      <td>Gynaecology</td>\n",
       "    </tr>\n",
       "    <tr>\n",
       "      <th>200</th>\n",
       "      <td>13</td>\n",
       "      <td>Female</td>\n",
       "      <td>Chitwan</td>\n",
       "      <td>Gynaecology</td>\n",
       "    </tr>\n",
       "    <tr>\n",
       "      <th>209</th>\n",
       "      <td>35</td>\n",
       "      <td>Female</td>\n",
       "      <td>Dhading</td>\n",
       "      <td>Gynaecology</td>\n",
       "    </tr>\n",
       "    <tr>\n",
       "      <th>216</th>\n",
       "      <td>34</td>\n",
       "      <td>Female</td>\n",
       "      <td>Tanahu</td>\n",
       "      <td>Gynaecology</td>\n",
       "    </tr>\n",
       "    <tr>\n",
       "      <th>219</th>\n",
       "      <td>19</td>\n",
       "      <td>Female</td>\n",
       "      <td>Parsa</td>\n",
       "      <td>Gynaecology</td>\n",
       "    </tr>\n",
       "  </tbody>\n",
       "</table>\n",
       "</div>"
      ],
      "text/plain": [
       "    Age     Sex        Place Final Diagnosis\n",
       "28   77  Female      Chitwan     Gynaecology\n",
       "29   31  Female    Rupandehi     Gynaecology\n",
       "37   30  Female      Kailali     Gynaecology\n",
       "72   22  Female      Surkhet     Gynaecology\n",
       "80   27  Female     Rautahat     Gynaecology\n",
       "121  45  Female       Gorkha     Gynaecology\n",
       "123  66  Female  Nawalparasi     Gynaecology\n",
       "124  73  Female  Nawalparasi     Gynaecology\n",
       "150  48  Female      Baglung     Gynaecology\n",
       "160  49  Female   Kapilvastu     Gynaecology\n",
       "181  21  Female    Rupandehi     Gynaecology\n",
       "188  51  Female    Makwanpur     Gynaecology\n",
       "191  52  Female      Dhading     Gynaecology\n",
       "194  22  Female      Dhading     Gynaecology\n",
       "200  13  Female      Chitwan     Gynaecology\n",
       "209  35  Female      Dhading     Gynaecology\n",
       "216  34  Female       Tanahu     Gynaecology\n",
       "219  19  Female        Parsa     Gynaecology"
      ]
     },
     "execution_count": 13,
     "metadata": {},
     "output_type": "execute_result"
    }
   ],
   "source": [
    "nch.head(18)"
   ]
  },
  {
   "cell_type": "code",
   "execution_count": 14,
   "metadata": {
    "execution": {
     "iopub.execute_input": "2021-03-13T04:58:15.110637Z",
     "iopub.status.busy": "2021-03-13T04:58:15.109894Z",
     "iopub.status.idle": "2021-03-13T04:58:15.119262Z",
     "shell.execute_reply": "2021-03-13T04:58:15.119772Z"
    },
    "id": "GGkmuTDcu0Ud",
    "outputId": "f4052abc-4932-4b01-da51-feb7eedd9928",
    "papermill": {
     "duration": 0.096836,
     "end_time": "2021-03-13T04:58:15.120023",
     "exception": false,
     "start_time": "2021-03-13T04:58:15.023187",
     "status": "completed"
    },
    "tags": []
   },
   "outputs": [
    {
     "data": {
      "text/plain": [
       "Age                0\n",
       "Sex                0\n",
       "Place              0\n",
       "Final Diagnosis    0\n",
       "dtype: int64"
      ]
     },
     "execution_count": 14,
     "metadata": {},
     "output_type": "execute_result"
    }
   ],
   "source": [
    "nch.isna().sum()       #checked missing values"
   ]
  },
  {
   "cell_type": "code",
   "execution_count": 15,
   "metadata": {
    "execution": {
     "iopub.execute_input": "2021-03-13T04:58:15.288607Z",
     "iopub.status.busy": "2021-03-13T04:58:15.287823Z",
     "iopub.status.idle": "2021-03-13T04:58:15.294615Z",
     "shell.execute_reply": "2021-03-13T04:58:15.295275Z"
    },
    "id": "biXHpuX9u0Ul",
    "papermill": {
     "duration": 0.093078,
     "end_time": "2021-03-13T04:58:15.295543",
     "exception": false,
     "start_time": "2021-03-13T04:58:15.202465",
     "status": "completed"
    },
    "tags": []
   },
   "outputs": [],
   "source": [
    "nch.replace('Neuro','NEURO',inplace=True)"
   ]
  },
  {
   "cell_type": "code",
   "execution_count": 16,
   "metadata": {
    "execution": {
     "iopub.execute_input": "2021-03-13T04:58:15.464465Z",
     "iopub.status.busy": "2021-03-13T04:58:15.463672Z",
     "iopub.status.idle": "2021-03-13T04:58:15.472547Z",
     "shell.execute_reply": "2021-03-13T04:58:15.473128Z"
    },
    "id": "JEhujziBu0Uv",
    "outputId": "a72c17c0-47b7-4a31-d7ab-a6555dc80995",
    "papermill": {
     "duration": 0.095567,
     "end_time": "2021-03-13T04:58:15.473351",
     "exception": false,
     "start_time": "2021-03-13T04:58:15.377784",
     "status": "completed"
    },
    "tags": []
   },
   "outputs": [
    {
     "data": {
      "text/plain": [
       "SURGICAL          510\n",
       "MED               508\n",
       "ORTHO             328\n",
       "ICU               297\n",
       "Gynaecology       210\n",
       "PED               147\n",
       "Cardiology        133\n",
       "PSY               106\n",
       "Clinical           58\n",
       "NICU               52\n",
       "CTVS               49\n",
       "Cardiology ICU     34\n",
       "CTVS-ICU           23\n",
       "NEURO              18\n",
       "Name: Final Diagnosis, dtype: int64"
      ]
     },
     "execution_count": 16,
     "metadata": {},
     "output_type": "execute_result"
    }
   ],
   "source": [
    "nch[\"Final Diagnosis\"].value_counts()"
   ]
  },
  {
   "cell_type": "code",
   "execution_count": 17,
   "metadata": {
    "execution": {
     "iopub.execute_input": "2021-03-13T04:58:15.641703Z",
     "iopub.status.busy": "2021-03-13T04:58:15.640957Z",
     "iopub.status.idle": "2021-03-13T04:58:15.656976Z",
     "shell.execute_reply": "2021-03-13T04:58:15.657585Z"
    },
    "id": "JqtxGzKEu0U5",
    "outputId": "ab4c70ae-aa4b-42d4-b8b3-82702d63cfa3",
    "papermill": {
     "duration": 0.102313,
     "end_time": "2021-03-13T04:58:15.657822",
     "exception": false,
     "start_time": "2021-03-13T04:58:15.555509",
     "status": "completed"
    },
    "tags": []
   },
   "outputs": [
    {
     "data": {
      "text/html": [
       "<div>\n",
       "<style scoped>\n",
       "    .dataframe tbody tr th:only-of-type {\n",
       "        vertical-align: middle;\n",
       "    }\n",
       "\n",
       "    .dataframe tbody tr th {\n",
       "        vertical-align: top;\n",
       "    }\n",
       "\n",
       "    .dataframe thead th {\n",
       "        text-align: right;\n",
       "    }\n",
       "</style>\n",
       "<table border=\"1\" class=\"dataframe\">\n",
       "  <thead>\n",
       "    <tr style=\"text-align: right;\">\n",
       "      <th></th>\n",
       "      <th>Age</th>\n",
       "      <th>Sex</th>\n",
       "      <th>Place</th>\n",
       "      <th>Final Diagnosis</th>\n",
       "    </tr>\n",
       "  </thead>\n",
       "  <tbody>\n",
       "    <tr>\n",
       "      <th>4396</th>\n",
       "      <td>17</td>\n",
       "      <td>Female</td>\n",
       "      <td>Gorkha</td>\n",
       "      <td>MED</td>\n",
       "    </tr>\n",
       "    <tr>\n",
       "      <th>6603</th>\n",
       "      <td>30</td>\n",
       "      <td>Male</td>\n",
       "      <td>Gorkha</td>\n",
       "      <td>ICU</td>\n",
       "    </tr>\n",
       "    <tr>\n",
       "      <th>2523</th>\n",
       "      <td>51</td>\n",
       "      <td>Female</td>\n",
       "      <td>Tanahu</td>\n",
       "      <td>Gynaecology</td>\n",
       "    </tr>\n",
       "    <tr>\n",
       "      <th>19951</th>\n",
       "      <td>67</td>\n",
       "      <td>Male</td>\n",
       "      <td>Gorkha</td>\n",
       "      <td>Clinical</td>\n",
       "    </tr>\n",
       "    <tr>\n",
       "      <th>13961</th>\n",
       "      <td>36</td>\n",
       "      <td>Female</td>\n",
       "      <td>Gorkha</td>\n",
       "      <td>ORTHO</td>\n",
       "    </tr>\n",
       "    <tr>\n",
       "      <th>21959</th>\n",
       "      <td>9</td>\n",
       "      <td>Female</td>\n",
       "      <td>Rupandehi</td>\n",
       "      <td>SURGICAL</td>\n",
       "    </tr>\n",
       "    <tr>\n",
       "      <th>13044</th>\n",
       "      <td>71</td>\n",
       "      <td>Male</td>\n",
       "      <td>Makwanpur</td>\n",
       "      <td>ORTHO</td>\n",
       "    </tr>\n",
       "    <tr>\n",
       "      <th>5245</th>\n",
       "      <td>91</td>\n",
       "      <td>Male</td>\n",
       "      <td>Chitwan</td>\n",
       "      <td>MED</td>\n",
       "    </tr>\n",
       "    <tr>\n",
       "      <th>3185</th>\n",
       "      <td>73</td>\n",
       "      <td>Male</td>\n",
       "      <td>Chitwan</td>\n",
       "      <td>Cardiology</td>\n",
       "    </tr>\n",
       "    <tr>\n",
       "      <th>13583</th>\n",
       "      <td>15</td>\n",
       "      <td>Male</td>\n",
       "      <td>Rolpa</td>\n",
       "      <td>ORTHO</td>\n",
       "    </tr>\n",
       "  </tbody>\n",
       "</table>\n",
       "</div>"
      ],
      "text/plain": [
       "      Age     Sex      Place Final Diagnosis\n",
       "4396   17  Female     Gorkha             MED\n",
       "6603   30    Male     Gorkha             ICU\n",
       "2523   51  Female     Tanahu     Gynaecology\n",
       "19951  67    Male     Gorkha        Clinical\n",
       "13961  36  Female     Gorkha           ORTHO\n",
       "21959   9  Female  Rupandehi        SURGICAL\n",
       "13044  71    Male  Makwanpur           ORTHO\n",
       "5245   91    Male    Chitwan             MED\n",
       "3185   73    Male    Chitwan      Cardiology\n",
       "13583  15    Male      Rolpa           ORTHO"
      ]
     },
     "execution_count": 17,
     "metadata": {},
     "output_type": "execute_result"
    }
   ],
   "source": [
    "nch.sample(10)"
   ]
  },
  {
   "cell_type": "code",
   "execution_count": 18,
   "metadata": {
    "execution": {
     "iopub.execute_input": "2021-03-13T04:58:15.833765Z",
     "iopub.status.busy": "2021-03-13T04:58:15.832761Z",
     "iopub.status.idle": "2021-03-13T04:58:15.837636Z",
     "shell.execute_reply": "2021-03-13T04:58:15.837070Z"
    },
    "id": "av8tiFkyu0VB",
    "outputId": "555f7415-359e-4a48-94ce-ddf30c976f59",
    "papermill": {
     "duration": 0.097578,
     "end_time": "2021-03-13T04:58:15.837797",
     "exception": false,
     "start_time": "2021-03-13T04:58:15.740219",
     "status": "completed"
    },
    "tags": []
   },
   "outputs": [
    {
     "data": {
      "text/plain": [
       "Chitwan        317\n",
       "Nawalparasi    282\n",
       "Gorkha         213\n",
       "Makwanpur      202\n",
       "Tanahu         199\n",
       "              ... \n",
       "Aachham          1\n",
       "Dhankuta         1\n",
       "Maygdi           1\n",
       "Taplejung        1\n",
       "Bajura           1\n",
       "Name: Place, Length: 66, dtype: int64"
      ]
     },
     "execution_count": 18,
     "metadata": {},
     "output_type": "execute_result"
    }
   ],
   "source": [
    "nch[\"Place\"].value_counts()"
   ]
  },
  {
   "cell_type": "code",
   "execution_count": 19,
   "metadata": {
    "execution": {
     "iopub.execute_input": "2021-03-13T04:58:16.014255Z",
     "iopub.status.busy": "2021-03-13T04:58:16.011816Z",
     "iopub.status.idle": "2021-03-13T04:58:16.018012Z",
     "shell.execute_reply": "2021-03-13T04:58:16.017252Z"
    },
    "id": "PbNVFaLxu0VK",
    "papermill": {
     "duration": 0.097668,
     "end_time": "2021-03-13T04:58:16.018183",
     "exception": false,
     "start_time": "2021-03-13T04:58:15.920515",
     "status": "completed"
    },
    "tags": []
   },
   "outputs": [],
   "source": [
    "nch.replace('Chitwan','Chitwan & Parsa',inplace=True)\n",
    "nch.replace('Parsa','Chitwan & Parsa',inplace=True)"
   ]
  },
  {
   "cell_type": "code",
   "execution_count": 20,
   "metadata": {
    "execution": {
     "iopub.execute_input": "2021-03-13T04:58:16.199055Z",
     "iopub.status.busy": "2021-03-13T04:58:16.198196Z",
     "iopub.status.idle": "2021-03-13T04:58:16.203541Z",
     "shell.execute_reply": "2021-03-13T04:58:16.202796Z"
    },
    "id": "fWymvb9Pu0VS",
    "outputId": "cde0a734-10d6-4b78-a4f1-2b43fce08e7f",
    "papermill": {
     "duration": 0.100319,
     "end_time": "2021-03-13T04:58:16.203712",
     "exception": false,
     "start_time": "2021-03-13T04:58:16.103393",
     "status": "completed"
    },
    "tags": []
   },
   "outputs": [
    {
     "data": {
      "text/plain": [
       "35     57\n",
       "45     53\n",
       "55     46\n",
       "40     45\n",
       "50     45\n",
       "       ..\n",
       "89      3\n",
       "93      2\n",
       "97      2\n",
       "105     1\n",
       "98      1\n",
       "Name: Age, Length: 104, dtype: int64"
      ]
     },
     "execution_count": 20,
     "metadata": {},
     "output_type": "execute_result"
    }
   ],
   "source": [
    "nch[\"Age\"].value_counts()"
   ]
  },
  {
   "cell_type": "code",
   "execution_count": 21,
   "metadata": {
    "execution": {
     "iopub.execute_input": "2021-03-13T04:58:16.382962Z",
     "iopub.status.busy": "2021-03-13T04:58:16.380340Z",
     "iopub.status.idle": "2021-03-13T04:58:16.391393Z",
     "shell.execute_reply": "2021-03-13T04:58:16.390549Z"
    },
    "id": "mbgTvATgu0Ve",
    "papermill": {
     "duration": 0.104655,
     "end_time": "2021-03-13T04:58:16.391566",
     "exception": false,
     "start_time": "2021-03-13T04:58:16.286911",
     "status": "completed"
    },
    "tags": []
   },
   "outputs": [],
   "source": [
    "nch.replace('Less than a day','0.0027',inplace=True)\n",
    "nch.replace('1-3 months','0.33',inplace=True)\n",
    "nch.replace('6-11 Month','0.91',inplace=True)\n",
    "nch.replace('4-6 months','0.5',inplace=True)"
   ]
  },
  {
   "cell_type": "code",
   "execution_count": 22,
   "metadata": {
    "execution": {
     "iopub.execute_input": "2021-03-13T04:58:16.574177Z",
     "iopub.status.busy": "2021-03-13T04:58:16.573356Z",
     "iopub.status.idle": "2021-03-13T04:58:16.577656Z",
     "shell.execute_reply": "2021-03-13T04:58:16.577076Z"
    },
    "id": "Mu8SUq-0u0Vm",
    "outputId": "9020e0a6-6ce0-432d-e58b-4d318f07a722",
    "papermill": {
     "duration": 0.101289,
     "end_time": "2021-03-13T04:58:16.577834",
     "exception": false,
     "start_time": "2021-03-13T04:58:16.476545",
     "status": "completed"
    },
    "tags": []
   },
   "outputs": [
    {
     "data": {
      "text/plain": [
       "35     57\n",
       "45     53\n",
       "55     46\n",
       "50     45\n",
       "40     45\n",
       "       ..\n",
       "89      3\n",
       "97      2\n",
       "93      2\n",
       "105     1\n",
       "98      1\n",
       "Name: Age, Length: 104, dtype: int64"
      ]
     },
     "execution_count": 22,
     "metadata": {},
     "output_type": "execute_result"
    }
   ],
   "source": [
    "nch[\"Age\"].value_counts()"
   ]
  },
  {
   "cell_type": "code",
   "execution_count": 23,
   "metadata": {
    "execution": {
     "iopub.execute_input": "2021-03-13T04:58:16.752503Z",
     "iopub.status.busy": "2021-03-13T04:58:16.751771Z",
     "iopub.status.idle": "2021-03-13T04:58:16.758606Z",
     "shell.execute_reply": "2021-03-13T04:58:16.759165Z"
    },
    "id": "oS7Ki3ilu0Vx",
    "outputId": "91ca3552-a9d5-40c8-e88b-40438741529d",
    "papermill": {
     "duration": 0.097724,
     "end_time": "2021-03-13T04:58:16.759375",
     "exception": false,
     "start_time": "2021-03-13T04:58:16.661651",
     "status": "completed"
    },
    "scrolled": true,
    "tags": []
   },
   "outputs": [
    {
     "data": {
      "text/plain": [
       "Chitwan & Parsa    343\n",
       "Nawalparasi        282\n",
       "Gorkha             213\n",
       "Makwanpur          202\n",
       "Tanahu             199\n",
       "                  ... \n",
       "Doti                 1\n",
       "Maygdi               1\n",
       "Dhankuta             1\n",
       "Aachham              1\n",
       "Bajura               1\n",
       "Name: Place, Length: 65, dtype: int64"
      ]
     },
     "execution_count": 23,
     "metadata": {},
     "output_type": "execute_result"
    }
   ],
   "source": [
    "nch[\"Place\"].value_counts()"
   ]
  },
  {
   "cell_type": "code",
   "execution_count": 24,
   "metadata": {
    "execution": {
     "iopub.execute_input": "2021-03-13T04:58:16.932094Z",
     "iopub.status.busy": "2021-03-13T04:58:16.931259Z",
     "iopub.status.idle": "2021-03-13T04:58:16.943360Z",
     "shell.execute_reply": "2021-03-13T04:58:16.942679Z"
    },
    "id": "e_7y1nBru0V8",
    "papermill": {
     "duration": 0.100162,
     "end_time": "2021-03-13T04:58:16.943552",
     "exception": false,
     "start_time": "2021-03-13T04:58:16.843390",
     "status": "completed"
    },
    "tags": []
   },
   "outputs": [],
   "source": [
    "nch.replace(['Ilam','Jhapa','Taplejung','Panchthhar'],'Mechi',inplace=True)"
   ]
  },
  {
   "cell_type": "code",
   "execution_count": 25,
   "metadata": {
    "execution": {
     "iopub.execute_input": "2021-03-13T04:58:17.119639Z",
     "iopub.status.busy": "2021-03-13T04:58:17.118762Z",
     "iopub.status.idle": "2021-03-13T04:58:17.129583Z",
     "shell.execute_reply": "2021-03-13T04:58:17.130204Z"
    },
    "id": "hn6RTAmyu0WE",
    "papermill": {
     "duration": 0.100498,
     "end_time": "2021-03-13T04:58:17.130444",
     "exception": false,
     "start_time": "2021-03-13T04:58:17.029946",
     "status": "completed"
    },
    "tags": []
   },
   "outputs": [],
   "source": [
    "nch.replace(['Sankhuwashava','Sankhuwashava','Dhankuta','Bhojpur','Sunsari','Morang'],'Koshi',inplace=True)"
   ]
  },
  {
   "cell_type": "code",
   "execution_count": 26,
   "metadata": {
    "execution": {
     "iopub.execute_input": "2021-03-13T04:58:17.302847Z",
     "iopub.status.busy": "2021-03-13T04:58:17.302061Z",
     "iopub.status.idle": "2021-03-13T04:58:17.311672Z",
     "shell.execute_reply": "2021-03-13T04:58:17.312226Z"
    },
    "id": "WCDQXmM1u0WK",
    "papermill": {
     "duration": 0.098305,
     "end_time": "2021-03-13T04:58:17.312460",
     "exception": false,
     "start_time": "2021-03-13T04:58:17.214155",
     "status": "completed"
    },
    "tags": []
   },
   "outputs": [],
   "source": [
    "nch.replace(['Saptari','Siraha','Khotang','Udayapur'],'Sagarmatha',inplace=True)"
   ]
  },
  {
   "cell_type": "code",
   "execution_count": 27,
   "metadata": {
    "execution": {
     "iopub.execute_input": "2021-03-13T04:58:17.486478Z",
     "iopub.status.busy": "2021-03-13T04:58:17.485729Z",
     "iopub.status.idle": "2021-03-13T04:58:17.494384Z",
     "shell.execute_reply": "2021-03-13T04:58:17.495028Z"
    },
    "id": "vKsQi-5eu0WP",
    "papermill": {
     "duration": 0.098496,
     "end_time": "2021-03-13T04:58:17.495255",
     "exception": false,
     "start_time": "2021-03-13T04:58:17.396759",
     "status": "completed"
    },
    "tags": []
   },
   "outputs": [],
   "source": [
    "nch.replace(['Dhanusa','Sindhuli'],'Janakpur',inplace=True)"
   ]
  },
  {
   "cell_type": "code",
   "execution_count": 28,
   "metadata": {
    "execution": {
     "iopub.execute_input": "2021-03-13T04:58:17.673882Z",
     "iopub.status.busy": "2021-03-13T04:58:17.672982Z",
     "iopub.status.idle": "2021-03-13T04:58:17.682829Z",
     "shell.execute_reply": "2021-03-13T04:58:17.683411Z"
    },
    "id": "xxKvEt70u0WV",
    "papermill": {
     "duration": 0.099873,
     "end_time": "2021-03-13T04:58:17.683640",
     "exception": false,
     "start_time": "2021-03-13T04:58:17.583767",
     "status": "completed"
    },
    "tags": []
   },
   "outputs": [],
   "source": [
    "nch.replace(['Mahottari','Sarlahi','Dolakha','Ramechhap'],'Janakpur',inplace=True)"
   ]
  },
  {
   "cell_type": "code",
   "execution_count": 29,
   "metadata": {
    "execution": {
     "iopub.execute_input": "2021-03-13T04:58:17.855933Z",
     "iopub.status.busy": "2021-03-13T04:58:17.855204Z",
     "iopub.status.idle": "2021-03-13T04:58:17.866246Z",
     "shell.execute_reply": "2021-03-13T04:58:17.865676Z"
    },
    "id": "sh5_tLqOu0Wc",
    "outputId": "93f6facf-9468-4ed8-a910-d700ec971478",
    "papermill": {
     "duration": 0.099069,
     "end_time": "2021-03-13T04:58:17.866411",
     "exception": false,
     "start_time": "2021-03-13T04:58:17.767342",
     "status": "completed"
    },
    "tags": []
   },
   "outputs": [
    {
     "data": {
      "text/plain": [
       "Chitwan & Parsa    343\n",
       "Nawalparasi        282\n",
       "Gorkha             213\n",
       "Makwanpur          202\n",
       "Tanahu             199\n",
       "Lamjung            185\n",
       "Janakpur           165\n",
       "Bara               127\n",
       "Rautahat            93\n",
       "Rupandehi           70\n",
       "Dang                66\n",
       "Dhading             58\n",
       "Baglung             48\n",
       "Kaski               44\n",
       "Gulmi               37\n",
       "Syangja             34\n",
       "Palpa               32\n",
       "Sagarmatha          25\n",
       "Bardiya             24\n",
       "Kapilvastu          22\n",
       "Koshi               20\n",
       "Mechi               18\n",
       "Banke               17\n",
       "Kathmandu           16\n",
       " Arghakhanchi       12\n",
       "Parbat              12\n",
       "Rolpa               10\n",
       "Myagdi              10\n",
       "Rukum                8\n",
       "Kailali              8\n",
       "Kanchanpur           8\n",
       "Surkhet              7\n",
       "Jumla                7\n",
       "India                7\n",
       "Pyuthan              6\n",
       "Simara               5\n",
       "Dailekh              4\n",
       "Kalikot              4\n",
       "Sindhupalchowk       4\n",
       "Dhangadi             3\n",
       "Other Country        2\n",
       "Other country        2\n",
       "Nuwakot              2\n",
       "Salyan               2\n",
       "Sankhuwashava        2\n",
       "Manang               2\n",
       "Jajarkot             1\n",
       "Doti                 1\n",
       "Maygdi               1\n",
       "Aachham              1\n",
       "Mugu                 1\n",
       "Bajura               1\n",
       "Name: Place, dtype: int64"
      ]
     },
     "execution_count": 29,
     "metadata": {},
     "output_type": "execute_result"
    }
   ],
   "source": [
    "nch[\"Place\"].value_counts()"
   ]
  },
  {
   "cell_type": "code",
   "execution_count": 30,
   "metadata": {
    "execution": {
     "iopub.execute_input": "2021-03-13T04:58:18.047958Z",
     "iopub.status.busy": "2021-03-13T04:58:18.047076Z",
     "iopub.status.idle": "2021-03-13T04:58:18.049436Z",
     "shell.execute_reply": "2021-03-13T04:58:18.049908Z"
    },
    "id": "XAUZ0aCXu0Wl",
    "papermill": {
     "duration": 0.098871,
     "end_time": "2021-03-13T04:58:18.050128",
     "exception": false,
     "start_time": "2021-03-13T04:58:17.951257",
     "status": "completed"
    },
    "tags": []
   },
   "outputs": [],
   "source": [
    "nch.replace(['Mahottari','Sarlahi','Dolakha','Simara'],'Janakpur',inplace=True)"
   ]
  },
  {
   "cell_type": "code",
   "execution_count": 31,
   "metadata": {
    "execution": {
     "iopub.execute_input": "2021-03-13T04:58:18.224347Z",
     "iopub.status.busy": "2021-03-13T04:58:18.223462Z",
     "iopub.status.idle": "2021-03-13T04:58:18.234590Z",
     "shell.execute_reply": "2021-03-13T04:58:18.235298Z"
    },
    "id": "2zH2EEzKu0Ws",
    "papermill": {
     "duration": 0.100324,
     "end_time": "2021-03-13T04:58:18.235538",
     "exception": false,
     "start_time": "2021-03-13T04:58:18.135214",
     "status": "completed"
    },
    "tags": []
   },
   "outputs": [],
   "source": [
    "nch.replace(['Sindhupalchowk','Dhading','Nuwakot','Rasuwa','Bhaktapur','Kathmandu'],'Bagmati',inplace=True)"
   ]
  },
  {
   "cell_type": "code",
   "execution_count": 32,
   "metadata": {
    "execution": {
     "iopub.execute_input": "2021-03-13T04:58:18.409789Z",
     "iopub.status.busy": "2021-03-13T04:58:18.408891Z",
     "iopub.status.idle": "2021-03-13T04:58:18.452800Z",
     "shell.execute_reply": "2021-03-13T04:58:18.453441Z"
    },
    "id": "XLJ7bNDeu0Ww",
    "papermill": {
     "duration": 0.133388,
     "end_time": "2021-03-13T04:58:18.453715",
     "exception": false,
     "start_time": "2021-03-13T04:58:18.320327",
     "status": "completed"
    },
    "tags": []
   },
   "outputs": [],
   "source": [
    "nch.replace(['Parbat','Myagdi','Baglung','Maygdi'],'Dhaulagiri',inplace=True)\n",
    "nch.replace(['Lamjung','Manang','Syangja','Tanahu','Kaski','Gorkha'],'Gandaki',inplace=True)\n",
    "nch.replace(['Dailekh','Jajarkot','Surkhet','Bardiya','Banke'],'Bheri',inplace=True)\n",
    "nch.replace(['Kalikot','Mugu','Jumla','Humla','Dolpa'],'Karnali',inplace=True)\n",
    "nch.replace(['Rolpa','Rukum','Salyan','Pyuthan','Dang'],'Rapti',inplace=True)\n",
    "nch.replace(['Darchula','Kanchanpur','Dadeldhura','Baitadi'],'Mahakali',inplace=True)\n",
    "nch.replace(['Bajura','Doti','Kailali','Bajhang','Achham','Aachham','Dhangadi'],'Seti',inplace=True)"
   ]
  },
  {
   "cell_type": "code",
   "execution_count": 33,
   "metadata": {
    "execution": {
     "iopub.execute_input": "2021-03-13T04:58:18.628206Z",
     "iopub.status.busy": "2021-03-13T04:58:18.627394Z",
     "iopub.status.idle": "2021-03-13T04:58:18.636209Z",
     "shell.execute_reply": "2021-03-13T04:58:18.636914Z"
    },
    "id": "xYD-Snx9u0W4",
    "outputId": "f8474e2e-17bd-4028-f7a9-d94a3a7fa7c6",
    "papermill": {
     "duration": 0.097843,
     "end_time": "2021-03-13T04:58:18.637131",
     "exception": false,
     "start_time": "2021-03-13T04:58:18.539288",
     "status": "completed"
    },
    "tags": []
   },
   "outputs": [
    {
     "data": {
      "text/plain": [
       "Gandaki            677\n",
       "Chitwan & Parsa    343\n",
       "Nawalparasi        282\n",
       "Makwanpur          202\n",
       "Janakpur           170\n",
       "Bara               127\n",
       "Rautahat            93\n",
       "Rapti               92\n",
       "Bagmati             76\n",
       "Dhaulagiri          71\n",
       "Rupandehi           70\n",
       "Bheri               53\n",
       "Gulmi               37\n",
       "Palpa               32\n",
       "Sagarmatha          25\n",
       "Kapilvastu          22\n",
       "Koshi               20\n",
       "Mechi               18\n",
       "Seti                14\n",
       "Karnali             12\n",
       " Arghakhanchi       12\n",
       "Mahakali             8\n",
       "India                7\n",
       "Sindhupalchowk       4\n",
       "Other country        2\n",
       "Other Country        2\n",
       "Sankhuwashava        2\n",
       "Name: Place, dtype: int64"
      ]
     },
     "execution_count": 33,
     "metadata": {},
     "output_type": "execute_result"
    }
   ],
   "source": [
    "nch[\"Place\"].value_counts()"
   ]
  },
  {
   "cell_type": "code",
   "execution_count": 34,
   "metadata": {
    "execution": {
     "iopub.execute_input": "2021-03-13T04:58:18.810313Z",
     "iopub.status.busy": "2021-03-13T04:58:18.809460Z",
     "iopub.status.idle": "2021-03-13T04:58:18.819766Z",
     "shell.execute_reply": "2021-03-13T04:58:18.819132Z"
    },
    "id": "uj8FHuAcu0W9",
    "papermill": {
     "duration": 0.097971,
     "end_time": "2021-03-13T04:58:18.819959",
     "exception": false,
     "start_time": "2021-03-13T04:58:18.721988",
     "status": "completed"
    },
    "tags": []
   },
   "outputs": [],
   "source": [
    "nch.replace(['Other Country','Other country','India'],'Outside country',inplace=True)"
   ]
  },
  {
   "cell_type": "code",
   "execution_count": 35,
   "metadata": {
    "execution": {
     "iopub.execute_input": "2021-03-13T04:58:18.998531Z",
     "iopub.status.busy": "2021-03-13T04:58:18.995921Z",
     "iopub.status.idle": "2021-03-13T04:58:19.004193Z",
     "shell.execute_reply": "2021-03-13T04:58:19.003402Z"
    },
    "id": "4QKho0Vfu0XD",
    "outputId": "ab09f85a-3f9d-4f9d-ef82-810474b72526",
    "papermill": {
     "duration": 0.099898,
     "end_time": "2021-03-13T04:58:19.004376",
     "exception": false,
     "start_time": "2021-03-13T04:58:18.904478",
     "status": "completed"
    },
    "tags": []
   },
   "outputs": [
    {
     "data": {
      "text/plain": [
       "Gandaki            677\n",
       "Chitwan & Parsa    343\n",
       "Nawalparasi        282\n",
       "Makwanpur          202\n",
       "Janakpur           170\n",
       "Bara               127\n",
       "Rautahat            93\n",
       "Rapti               92\n",
       "Bagmati             76\n",
       "Dhaulagiri          71\n",
       "Rupandehi           70\n",
       "Bheri               53\n",
       "Gulmi               37\n",
       "Palpa               32\n",
       "Sagarmatha          25\n",
       "Kapilvastu          22\n",
       "Koshi               20\n",
       "Mechi               18\n",
       "Seti                14\n",
       "Karnali             12\n",
       " Arghakhanchi       12\n",
       "Outside country     11\n",
       "Mahakali             8\n",
       "Sindhupalchowk       4\n",
       "Sankhuwashava        2\n",
       "Name: Place, dtype: int64"
      ]
     },
     "execution_count": 35,
     "metadata": {},
     "output_type": "execute_result"
    }
   ],
   "source": [
    "nch[\"Place\"].value_counts()"
   ]
  },
  {
   "cell_type": "code",
   "execution_count": 36,
   "metadata": {
    "execution": {
     "iopub.execute_input": "2021-03-13T04:58:19.178972Z",
     "iopub.status.busy": "2021-03-13T04:58:19.178189Z",
     "iopub.status.idle": "2021-03-13T04:58:19.200159Z",
     "shell.execute_reply": "2021-03-13T04:58:19.200675Z"
    },
    "id": "gsplRHwku0XJ",
    "outputId": "ea54d492-df8f-4788-e56d-3771b2c602b7",
    "papermill": {
     "duration": 0.111471,
     "end_time": "2021-03-13T04:58:19.200920",
     "exception": false,
     "start_time": "2021-03-13T04:58:19.089449",
     "status": "completed"
    },
    "scrolled": true,
    "tags": []
   },
   "outputs": [
    {
     "data": {
      "text/html": [
       "<div>\n",
       "<style scoped>\n",
       "    .dataframe tbody tr th:only-of-type {\n",
       "        vertical-align: middle;\n",
       "    }\n",
       "\n",
       "    .dataframe tbody tr th {\n",
       "        vertical-align: top;\n",
       "    }\n",
       "\n",
       "    .dataframe thead th {\n",
       "        text-align: right;\n",
       "    }\n",
       "</style>\n",
       "<table border=\"1\" class=\"dataframe\">\n",
       "  <thead>\n",
       "    <tr style=\"text-align: right;\">\n",
       "      <th></th>\n",
       "      <th>Age</th>\n",
       "      <th>Sex</th>\n",
       "      <th>Place</th>\n",
       "      <th>Final Diagnosis</th>\n",
       "    </tr>\n",
       "  </thead>\n",
       "  <tbody>\n",
       "    <tr>\n",
       "      <th>577</th>\n",
       "      <td>40</td>\n",
       "      <td>Female</td>\n",
       "      <td>Gulmi</td>\n",
       "      <td>Gynaecology</td>\n",
       "    </tr>\n",
       "    <tr>\n",
       "      <th>1217</th>\n",
       "      <td>28</td>\n",
       "      <td>Female</td>\n",
       "      <td>Gulmi</td>\n",
       "      <td>Gynaecology</td>\n",
       "    </tr>\n",
       "    <tr>\n",
       "      <th>2674</th>\n",
       "      <td>24</td>\n",
       "      <td>Female</td>\n",
       "      <td>Gulmi</td>\n",
       "      <td>Gynaecology</td>\n",
       "    </tr>\n",
       "    <tr>\n",
       "      <th>3317</th>\n",
       "      <td>76</td>\n",
       "      <td>Male</td>\n",
       "      <td>Gulmi</td>\n",
       "      <td>Cardiology</td>\n",
       "    </tr>\n",
       "    <tr>\n",
       "      <th>4104</th>\n",
       "      <td>47</td>\n",
       "      <td>Male</td>\n",
       "      <td>Gulmi</td>\n",
       "      <td>MED</td>\n",
       "    </tr>\n",
       "    <tr>\n",
       "      <th>4223</th>\n",
       "      <td>78</td>\n",
       "      <td>Male</td>\n",
       "      <td>Gulmi</td>\n",
       "      <td>ICU</td>\n",
       "    </tr>\n",
       "    <tr>\n",
       "      <th>5562</th>\n",
       "      <td>68</td>\n",
       "      <td>Female</td>\n",
       "      <td>Gulmi</td>\n",
       "      <td>ICU</td>\n",
       "    </tr>\n",
       "    <tr>\n",
       "      <th>6114</th>\n",
       "      <td>31</td>\n",
       "      <td>Female</td>\n",
       "      <td>Gulmi</td>\n",
       "      <td>MED</td>\n",
       "    </tr>\n",
       "    <tr>\n",
       "      <th>6993</th>\n",
       "      <td>69</td>\n",
       "      <td>Female</td>\n",
       "      <td>Gulmi</td>\n",
       "      <td>MED</td>\n",
       "    </tr>\n",
       "    <tr>\n",
       "      <th>8110</th>\n",
       "      <td>57</td>\n",
       "      <td>Female</td>\n",
       "      <td>Gulmi</td>\n",
       "      <td>MED</td>\n",
       "    </tr>\n",
       "    <tr>\n",
       "      <th>8126</th>\n",
       "      <td>30</td>\n",
       "      <td>Female</td>\n",
       "      <td>Gulmi</td>\n",
       "      <td>ICU</td>\n",
       "    </tr>\n",
       "    <tr>\n",
       "      <th>8735</th>\n",
       "      <td>64</td>\n",
       "      <td>Male</td>\n",
       "      <td>Gulmi</td>\n",
       "      <td>MED</td>\n",
       "    </tr>\n",
       "    <tr>\n",
       "      <th>10092</th>\n",
       "      <td>75</td>\n",
       "      <td>Male</td>\n",
       "      <td>Gulmi</td>\n",
       "      <td>MED</td>\n",
       "    </tr>\n",
       "    <tr>\n",
       "      <th>10866</th>\n",
       "      <td>76</td>\n",
       "      <td>Male</td>\n",
       "      <td>Gulmi</td>\n",
       "      <td>ICU</td>\n",
       "    </tr>\n",
       "    <tr>\n",
       "      <th>11291</th>\n",
       "      <td>73</td>\n",
       "      <td>Male</td>\n",
       "      <td>Gulmi</td>\n",
       "      <td>ICU</td>\n",
       "    </tr>\n",
       "    <tr>\n",
       "      <th>11682</th>\n",
       "      <td>24</td>\n",
       "      <td>Female</td>\n",
       "      <td>Gulmi</td>\n",
       "      <td>MED</td>\n",
       "    </tr>\n",
       "    <tr>\n",
       "      <th>11766</th>\n",
       "      <td>53</td>\n",
       "      <td>Female</td>\n",
       "      <td>Gulmi</td>\n",
       "      <td>MED</td>\n",
       "    </tr>\n",
       "    <tr>\n",
       "      <th>11779</th>\n",
       "      <td>65</td>\n",
       "      <td>Male</td>\n",
       "      <td>Gulmi</td>\n",
       "      <td>MED</td>\n",
       "    </tr>\n",
       "    <tr>\n",
       "      <th>12288</th>\n",
       "      <td>50</td>\n",
       "      <td>Female</td>\n",
       "      <td>Gulmi</td>\n",
       "      <td>ORTHO</td>\n",
       "    </tr>\n",
       "    <tr>\n",
       "      <th>13013</th>\n",
       "      <td>68</td>\n",
       "      <td>Female</td>\n",
       "      <td>Gulmi</td>\n",
       "      <td>ORTHO</td>\n",
       "    </tr>\n",
       "    <tr>\n",
       "      <th>13603</th>\n",
       "      <td>75</td>\n",
       "      <td>Female</td>\n",
       "      <td>Gulmi</td>\n",
       "      <td>ORTHO</td>\n",
       "    </tr>\n",
       "    <tr>\n",
       "      <th>13656</th>\n",
       "      <td>30</td>\n",
       "      <td>Male</td>\n",
       "      <td>Gulmi</td>\n",
       "      <td>ORTHO</td>\n",
       "    </tr>\n",
       "    <tr>\n",
       "      <th>13805</th>\n",
       "      <td>42</td>\n",
       "      <td>Female</td>\n",
       "      <td>Gulmi</td>\n",
       "      <td>ORTHO</td>\n",
       "    </tr>\n",
       "    <tr>\n",
       "      <th>19053</th>\n",
       "      <td>67</td>\n",
       "      <td>Female</td>\n",
       "      <td>Gulmi</td>\n",
       "      <td>Clinical</td>\n",
       "    </tr>\n",
       "    <tr>\n",
       "      <th>19194</th>\n",
       "      <td>46</td>\n",
       "      <td>Female</td>\n",
       "      <td>Gulmi</td>\n",
       "      <td>SURGICAL</td>\n",
       "    </tr>\n",
       "    <tr>\n",
       "      <th>19658</th>\n",
       "      <td>70</td>\n",
       "      <td>Male</td>\n",
       "      <td>Gulmi</td>\n",
       "      <td>SURGICAL</td>\n",
       "    </tr>\n",
       "    <tr>\n",
       "      <th>19834</th>\n",
       "      <td>45</td>\n",
       "      <td>Female</td>\n",
       "      <td>Gulmi</td>\n",
       "      <td>SURGICAL</td>\n",
       "    </tr>\n",
       "    <tr>\n",
       "      <th>19939</th>\n",
       "      <td>58</td>\n",
       "      <td>Male</td>\n",
       "      <td>Gulmi</td>\n",
       "      <td>SURGICAL</td>\n",
       "    </tr>\n",
       "    <tr>\n",
       "      <th>20093</th>\n",
       "      <td>20</td>\n",
       "      <td>Female</td>\n",
       "      <td>Gulmi</td>\n",
       "      <td>SURGICAL</td>\n",
       "    </tr>\n",
       "    <tr>\n",
       "      <th>20201</th>\n",
       "      <td>48</td>\n",
       "      <td>Male</td>\n",
       "      <td>Gulmi</td>\n",
       "      <td>SURGICAL</td>\n",
       "    </tr>\n",
       "    <tr>\n",
       "      <th>20274</th>\n",
       "      <td>71</td>\n",
       "      <td>Male</td>\n",
       "      <td>Gulmi</td>\n",
       "      <td>SURGICAL</td>\n",
       "    </tr>\n",
       "    <tr>\n",
       "      <th>20379</th>\n",
       "      <td>28</td>\n",
       "      <td>Female</td>\n",
       "      <td>Gulmi</td>\n",
       "      <td>ORTHO</td>\n",
       "    </tr>\n",
       "    <tr>\n",
       "      <th>20527</th>\n",
       "      <td>25</td>\n",
       "      <td>Female</td>\n",
       "      <td>Gulmi</td>\n",
       "      <td>SURGICAL</td>\n",
       "    </tr>\n",
       "    <tr>\n",
       "      <th>20820</th>\n",
       "      <td>3</td>\n",
       "      <td>Male</td>\n",
       "      <td>Gulmi</td>\n",
       "      <td>SURGICAL</td>\n",
       "    </tr>\n",
       "    <tr>\n",
       "      <th>21518</th>\n",
       "      <td>53</td>\n",
       "      <td>Male</td>\n",
       "      <td>Gulmi</td>\n",
       "      <td>SURGICAL</td>\n",
       "    </tr>\n",
       "    <tr>\n",
       "      <th>21607</th>\n",
       "      <td>54</td>\n",
       "      <td>Female</td>\n",
       "      <td>Gulmi</td>\n",
       "      <td>SURGICAL</td>\n",
       "    </tr>\n",
       "    <tr>\n",
       "      <th>22258</th>\n",
       "      <td>55</td>\n",
       "      <td>Female</td>\n",
       "      <td>Gulmi</td>\n",
       "      <td>SURGICAL</td>\n",
       "    </tr>\n",
       "  </tbody>\n",
       "</table>\n",
       "</div>"
      ],
      "text/plain": [
       "      Age     Sex  Place Final Diagnosis\n",
       "577    40  Female  Gulmi     Gynaecology\n",
       "1217   28  Female  Gulmi     Gynaecology\n",
       "2674   24  Female  Gulmi     Gynaecology\n",
       "3317   76    Male  Gulmi      Cardiology\n",
       "4104   47    Male  Gulmi             MED\n",
       "4223   78    Male  Gulmi             ICU\n",
       "5562   68  Female  Gulmi             ICU\n",
       "6114   31  Female  Gulmi             MED\n",
       "6993   69  Female  Gulmi             MED\n",
       "8110   57  Female  Gulmi             MED\n",
       "8126   30  Female  Gulmi             ICU\n",
       "8735   64    Male  Gulmi             MED\n",
       "10092  75    Male  Gulmi             MED\n",
       "10866  76    Male  Gulmi             ICU\n",
       "11291  73    Male  Gulmi             ICU\n",
       "11682  24  Female  Gulmi             MED\n",
       "11766  53  Female  Gulmi             MED\n",
       "11779  65    Male  Gulmi             MED\n",
       "12288  50  Female  Gulmi           ORTHO\n",
       "13013  68  Female  Gulmi           ORTHO\n",
       "13603  75  Female  Gulmi           ORTHO\n",
       "13656  30    Male  Gulmi           ORTHO\n",
       "13805  42  Female  Gulmi           ORTHO\n",
       "19053  67  Female  Gulmi        Clinical\n",
       "19194  46  Female  Gulmi        SURGICAL\n",
       "19658  70    Male  Gulmi        SURGICAL\n",
       "19834  45  Female  Gulmi        SURGICAL\n",
       "19939  58    Male  Gulmi        SURGICAL\n",
       "20093  20  Female  Gulmi        SURGICAL\n",
       "20201  48    Male  Gulmi        SURGICAL\n",
       "20274  71    Male  Gulmi        SURGICAL\n",
       "20379  28  Female  Gulmi           ORTHO\n",
       "20527  25  Female  Gulmi        SURGICAL\n",
       "20820   3    Male  Gulmi        SURGICAL\n",
       "21518  53    Male  Gulmi        SURGICAL\n",
       "21607  54  Female  Gulmi        SURGICAL\n",
       "22258  55  Female  Gulmi        SURGICAL"
      ]
     },
     "execution_count": 36,
     "metadata": {},
     "output_type": "execute_result"
    }
   ],
   "source": [
    "nch[nch[\"Place\"] == 'Gulmi']"
   ]
  },
  {
   "cell_type": "code",
   "execution_count": 37,
   "metadata": {
    "execution": {
     "iopub.execute_input": "2021-03-13T04:58:19.380315Z",
     "iopub.status.busy": "2021-03-13T04:58:19.379533Z",
     "iopub.status.idle": "2021-03-13T04:58:19.389074Z",
     "shell.execute_reply": "2021-03-13T04:58:19.388454Z"
    },
    "id": "IkoYhuOIu0XP",
    "outputId": "851a4699-f494-46b6-e8f0-5b06ebcd81e8",
    "papermill": {
     "duration": 0.102134,
     "end_time": "2021-03-13T04:58:19.389267",
     "exception": false,
     "start_time": "2021-03-13T04:58:19.287133",
     "status": "completed"
    },
    "tags": []
   },
   "outputs": [
    {
     "data": {
      "text/plain": [
       "True"
      ]
     },
     "execution_count": 37,
     "metadata": {},
     "output_type": "execute_result"
    }
   ],
   "source": [
    "nch.duplicated().any() #if any duplicated data"
   ]
  },
  {
   "cell_type": "code",
   "execution_count": 38,
   "metadata": {
    "execution": {
     "iopub.execute_input": "2021-03-13T04:58:19.573602Z",
     "iopub.status.busy": "2021-03-13T04:58:19.572635Z",
     "iopub.status.idle": "2021-03-13T04:58:19.937518Z",
     "shell.execute_reply": "2021-03-13T04:58:19.936920Z"
    },
    "id": "_IRG1y6_u0Xk",
    "outputId": "445dc0da-feed-4d85-f407-710771aff2b9",
    "papermill": {
     "duration": 0.4596,
     "end_time": "2021-03-13T04:58:19.937689",
     "exception": false,
     "start_time": "2021-03-13T04:58:19.478089",
     "status": "completed"
    },
    "scrolled": true,
    "tags": []
   },
   "outputs": [
    {
     "data": {
      "text/plain": [
       "<AxesSubplot:>"
      ]
     },
     "execution_count": 38,
     "metadata": {},
     "output_type": "execute_result"
    },
    {
     "data": {
      "image/png": "[encoded data removed]",
      "text/plain": [
       "<Figure size 432x288 with 1 Axes>"
      ]
     },
     "metadata": {
      "needs_background": "light"
     },
     "output_type": "display_data"
    }
   ],
   "source": [
    "nch['Place'].value_counts().plot.bar()"
   ]
  },
  {
   "cell_type": "code",
   "execution_count": 39,
   "metadata": {
    "execution": {
     "iopub.execute_input": "2021-03-13T04:58:20.144027Z",
     "iopub.status.busy": "2021-03-13T04:58:20.127244Z",
     "iopub.status.idle": "2021-03-13T04:58:20.339489Z",
     "shell.execute_reply": "2021-03-13T04:58:20.338715Z"
    },
    "id": "9cGdJ17yu0Xq",
    "outputId": "e62f9fc2-98bd-4da8-be40-069c3ac0a915",
    "papermill": {
     "duration": 0.313654,
     "end_time": "2021-03-13T04:58:20.339657",
     "exception": false,
     "start_time": "2021-03-13T04:58:20.026003",
     "status": "completed"
    },
    "tags": []
   },
   "outputs": [
    {
     "data": {
      "text/plain": [
       "<AxesSubplot:>"
      ]
     },
     "execution_count": 39,
     "metadata": {},
     "output_type": "execute_result"
    },
    {
     "data": {
      "image/png": "[encoded data removed]",
      "text/plain": [
       "<Figure size 432x288 with 1 Axes>"
      ]
     },
     "metadata": {
      "needs_background": "light"
     },
     "output_type": "display_data"
    }
   ],
   "source": [
    "nch['Final Diagnosis'].value_counts().plot.bar()"
   ]
  },
  {
   "cell_type": "code",
   "execution_count": 40,
   "metadata": {
    "execution": {
     "iopub.execute_input": "2021-03-13T04:58:20.550124Z",
     "iopub.status.busy": "2021-03-13T04:58:20.540491Z",
     "iopub.status.idle": "2021-03-13T04:58:20.664923Z",
     "shell.execute_reply": "2021-03-13T04:58:20.664241Z"
    },
    "id": "cA6PAU4Pu0Xv",
    "outputId": "d8568d13-c3ee-4a41-97b2-db5afacc7520",
    "papermill": {
     "duration": 0.235849,
     "end_time": "2021-03-13T04:58:20.665100",
     "exception": false,
     "start_time": "2021-03-13T04:58:20.429251",
     "status": "completed"
    },
    "tags": []
   },
   "outputs": [
    {
     "data": {
      "text/plain": [
       "<AxesSubplot:>"
      ]
     },
     "execution_count": 40,
     "metadata": {},
     "output_type": "execute_result"
    },
    {
     "data": {
      "image/png": "[encoded data removed]",
      "text/plain": [
       "<Figure size 432x288 with 1 Axes>"
      ]
     },
     "metadata": {
      "needs_background": "light"
     },
     "output_type": "display_data"
    }
   ],
   "source": [
    "nch['Sex'].value_counts().plot.bar()"
   ]
  },
  {
   "cell_type": "code",
   "execution_count": 41,
   "metadata": {
    "execution": {
     "iopub.execute_input": "2021-03-13T04:58:20.879691Z",
     "iopub.status.busy": "2021-03-13T04:58:20.878895Z",
     "iopub.status.idle": "2021-03-13T04:58:22.437902Z",
     "shell.execute_reply": "2021-03-13T04:58:22.437136Z"
    },
    "id": "W8Qal7d0u0X0",
    "outputId": "2a2fd8f1-1e3d-4c15-c5c3-408139aa4d69",
    "papermill": {
     "duration": 1.681447,
     "end_time": "2021-03-13T04:58:22.438073",
     "exception": false,
     "start_time": "2021-03-13T04:58:20.756626",
     "status": "completed"
    },
    "tags": []
   },
   "outputs": [
    {
     "data": {
      "text/plain": [
       "<AxesSubplot:>"
      ]
     },
     "execution_count": 41,
     "metadata": {},
     "output_type": "execute_result"
    },
    {
     "data": {
      "image/png": "[encoded data removed]",
      "text/plain": [
       "<Figure size 432x288 with 1 Axes>"
      ]
     },
     "metadata": {
      "needs_background": "light"
     },
     "output_type": "display_data"
    }
   ],
   "source": [
    "nch['Age'].value_counts().plot.bar()"
   ]
  },
  {
   "cell_type": "code",
   "execution_count": 42,
   "metadata": {
    "execution": {
     "iopub.execute_input": "2021-03-13T04:58:22.629154Z",
     "iopub.status.busy": "2021-03-13T04:58:22.628244Z",
     "iopub.status.idle": "2021-03-13T04:58:22.631478Z",
     "shell.execute_reply": "2021-03-13T04:58:22.630678Z"
    },
    "id": "YozB0xOvu0X5",
    "papermill": {
     "duration": 0.101611,
     "end_time": "2021-03-13T04:58:22.631651",
     "exception": false,
     "start_time": "2021-03-13T04:58:22.530040",
     "status": "completed"
    },
    "tags": []
   },
   "outputs": [],
   "source": [
    "nch.replace('Less than a month','0.082',inplace=True)"
   ]
  },
  {
   "cell_type": "code",
   "execution_count": 43,
   "metadata": {
    "execution": {
     "iopub.execute_input": "2021-03-13T04:58:22.821246Z",
     "iopub.status.busy": "2021-03-13T04:58:22.820338Z",
     "iopub.status.idle": "2021-03-13T04:58:22.830502Z",
     "shell.execute_reply": "2021-03-13T04:58:22.829713Z"
    },
    "id": "tJ__YxlSu0YE",
    "papermill": {
     "duration": 0.108488,
     "end_time": "2021-03-13T04:58:22.830672",
     "exception": false,
     "start_time": "2021-03-13T04:58:22.722184",
     "status": "completed"
    },
    "tags": []
   },
   "outputs": [],
   "source": [
    "nch.drop_duplicates(keep=False)\n",
    "nch.drop_duplicates(keep=False, inplace=True)"
   ]
  },
  {
   "cell_type": "code",
   "execution_count": 44,
   "metadata": {
    "execution": {
     "iopub.execute_input": "2021-03-13T04:58:23.042446Z",
     "iopub.status.busy": "2021-03-13T04:58:23.031233Z",
     "iopub.status.idle": "2021-03-13T04:58:23.048437Z",
     "shell.execute_reply": "2021-03-13T04:58:23.047712Z"
    },
    "id": "sOBxc-auu0YJ",
    "outputId": "a09ba443-fa60-4624-c05a-2a8273f4dc26",
    "papermill": {
     "duration": 0.125703,
     "end_time": "2021-03-13T04:58:23.048600",
     "exception": false,
     "start_time": "2021-03-13T04:58:22.922897",
     "status": "completed"
    },
    "tags": []
   },
   "outputs": [
    {
     "data": {
      "text/html": [
       "<div>\n",
       "<style scoped>\n",
       "    .dataframe tbody tr th:only-of-type {\n",
       "        vertical-align: middle;\n",
       "    }\n",
       "\n",
       "    .dataframe tbody tr th {\n",
       "        vertical-align: top;\n",
       "    }\n",
       "\n",
       "    .dataframe thead th {\n",
       "        text-align: right;\n",
       "    }\n",
       "</style>\n",
       "<table border=\"1\" class=\"dataframe\">\n",
       "  <thead>\n",
       "    <tr style=\"text-align: right;\">\n",
       "      <th></th>\n",
       "      <th>Age</th>\n",
       "      <th>Sex</th>\n",
       "      <th>Place</th>\n",
       "      <th>Final Diagnosis</th>\n",
       "    </tr>\n",
       "  </thead>\n",
       "  <tbody>\n",
       "    <tr>\n",
       "      <th>count</th>\n",
       "      <td>2104</td>\n",
       "      <td>2104</td>\n",
       "      <td>2104</td>\n",
       "      <td>2104</td>\n",
       "    </tr>\n",
       "    <tr>\n",
       "      <th>unique</th>\n",
       "      <td>104</td>\n",
       "      <td>2</td>\n",
       "      <td>25</td>\n",
       "      <td>14</td>\n",
       "    </tr>\n",
       "    <tr>\n",
       "      <th>top</th>\n",
       "      <td>35</td>\n",
       "      <td>Female</td>\n",
       "      <td>Gandaki</td>\n",
       "      <td>MED</td>\n",
       "    </tr>\n",
       "    <tr>\n",
       "      <th>freq</th>\n",
       "      <td>48</td>\n",
       "      <td>1163</td>\n",
       "      <td>361</td>\n",
       "      <td>398</td>\n",
       "    </tr>\n",
       "  </tbody>\n",
       "</table>\n",
       "</div>"
      ],
      "text/plain": [
       "         Age     Sex    Place Final Diagnosis\n",
       "count   2104    2104     2104            2104\n",
       "unique   104       2       25              14\n",
       "top       35  Female  Gandaki             MED\n",
       "freq      48    1163      361             398"
      ]
     },
     "execution_count": 44,
     "metadata": {},
     "output_type": "execute_result"
    }
   ],
   "source": [
    "nch.describe()"
   ]
  },
  {
   "cell_type": "code",
   "execution_count": 45,
   "metadata": {
    "execution": {
     "iopub.execute_input": "2021-03-13T04:58:23.244257Z",
     "iopub.status.busy": "2021-03-13T04:58:23.243469Z",
     "iopub.status.idle": "2021-03-13T04:58:23.247000Z",
     "shell.execute_reply": "2021-03-13T04:58:23.246309Z"
    },
    "id": "xMUAqNo1u0YQ",
    "outputId": "ef10e648-cc96-4072-88b6-c79c6749ff9f",
    "papermill": {
     "duration": 0.106885,
     "end_time": "2021-03-13T04:58:23.247175",
     "exception": false,
     "start_time": "2021-03-13T04:58:23.140290",
     "status": "completed"
    },
    "tags": []
   },
   "outputs": [
    {
     "data": {
      "text/plain": [
       "Power_divergenceResult(statistic=176.13103448275862, pvalue=6.03858110321843e-38)"
      ]
     },
     "execution_count": 45,
     "metadata": {},
     "output_type": "execute_result"
    }
   ],
   "source": [
    "from scipy.stats import chisquare\n",
    "chisquare([104,2,25,14])"
   ]
  },
  {
   "cell_type": "code",
   "execution_count": 46,
   "metadata": {
    "execution": {
     "iopub.execute_input": "2021-03-13T04:58:23.479590Z",
     "iopub.status.busy": "2021-03-13T04:58:23.478049Z",
     "iopub.status.idle": "2021-03-13T04:58:23.516203Z",
     "shell.execute_reply": "2021-03-13T04:58:23.515419Z"
    },
    "id": "Enlq1-l7u0YW",
    "outputId": "f48d3112-8ccc-434e-e048-c0997de4c7b6",
    "papermill": {
     "duration": 0.166547,
     "end_time": "2021-03-13T04:58:23.516384",
     "exception": false,
     "start_time": "2021-03-13T04:58:23.349837",
     "status": "completed"
    },
    "tags": []
   },
   "outputs": [
    {
     "data": {
      "text/html": [
       "<div>\n",
       "<style scoped>\n",
       "    .dataframe tbody tr th:only-of-type {\n",
       "        vertical-align: middle;\n",
       "    }\n",
       "\n",
       "    .dataframe tbody tr th {\n",
       "        vertical-align: top;\n",
       "    }\n",
       "\n",
       "    .dataframe thead th {\n",
       "        text-align: right;\n",
       "    }\n",
       "</style>\n",
       "<table border=\"1\" class=\"dataframe\">\n",
       "  <thead>\n",
       "    <tr style=\"text-align: right;\">\n",
       "      <th></th>\n",
       "      <th>Variable</th>\n",
       "      <th>Outcome</th>\n",
       "      <th>Count</th>\n",
       "      <th>Percent</th>\n",
       "    </tr>\n",
       "  </thead>\n",
       "  <tbody>\n",
       "    <tr>\n",
       "      <th>0</th>\n",
       "      <td>Age</td>\n",
       "      <td>35</td>\n",
       "      <td>48</td>\n",
       "      <td>2.28</td>\n",
       "    </tr>\n",
       "    <tr>\n",
       "      <th>1</th>\n",
       "      <td></td>\n",
       "      <td>45</td>\n",
       "      <td>46</td>\n",
       "      <td>2.19</td>\n",
       "    </tr>\n",
       "    <tr>\n",
       "      <th>2</th>\n",
       "      <td></td>\n",
       "      <td>40</td>\n",
       "      <td>41</td>\n",
       "      <td>1.95</td>\n",
       "    </tr>\n",
       "    <tr>\n",
       "      <th>3</th>\n",
       "      <td></td>\n",
       "      <td>22</td>\n",
       "      <td>39</td>\n",
       "      <td>1.85</td>\n",
       "    </tr>\n",
       "    <tr>\n",
       "      <th>4</th>\n",
       "      <td></td>\n",
       "      <td>65</td>\n",
       "      <td>36</td>\n",
       "      <td>1.71</td>\n",
       "    </tr>\n",
       "    <tr>\n",
       "      <th>...</th>\n",
       "      <td>...</td>\n",
       "      <td>...</td>\n",
       "      <td>...</td>\n",
       "      <td>...</td>\n",
       "    </tr>\n",
       "    <tr>\n",
       "      <th>101</th>\n",
       "      <td></td>\n",
       "      <td>97</td>\n",
       "      <td>2</td>\n",
       "      <td>0.10</td>\n",
       "    </tr>\n",
       "    <tr>\n",
       "      <th>102</th>\n",
       "      <td></td>\n",
       "      <td>98</td>\n",
       "      <td>1</td>\n",
       "      <td>0.05</td>\n",
       "    </tr>\n",
       "    <tr>\n",
       "      <th>103</th>\n",
       "      <td></td>\n",
       "      <td>105</td>\n",
       "      <td>1</td>\n",
       "      <td>0.05</td>\n",
       "    </tr>\n",
       "    <tr>\n",
       "      <th>104</th>\n",
       "      <td>Sex</td>\n",
       "      <td>Female</td>\n",
       "      <td>1163</td>\n",
       "      <td>55.28</td>\n",
       "    </tr>\n",
       "    <tr>\n",
       "      <th>105</th>\n",
       "      <td></td>\n",
       "      <td>Male</td>\n",
       "      <td>941</td>\n",
       "      <td>44.72</td>\n",
       "    </tr>\n",
       "  </tbody>\n",
       "</table>\n",
       "<p>106 rows × 4 columns</p>\n",
       "</div>"
      ],
      "text/plain": [
       "    Variable Outcome  Count  Percent\n",
       "0        Age      35     48     2.28\n",
       "1                 45     46     2.19\n",
       "2                 40     41     1.95\n",
       "3                 22     39     1.85\n",
       "4                 65     36     1.71\n",
       "..       ...     ...    ...      ...\n",
       "101               97      2     0.10\n",
       "102               98      1     0.05\n",
       "103              105      1     0.05\n",
       "104      Sex  Female   1163    55.28\n",
       "105             Male    941    44.72\n",
       "\n",
       "[106 rows x 4 columns]"
      ]
     },
     "execution_count": 46,
     "metadata": {},
     "output_type": "execute_result"
    }
   ],
   "source": [
    "rp.summary_cat(nch[['Age','Sex']])"
   ]
  },
  {
   "cell_type": "code",
   "execution_count": 47,
   "metadata": {
    "execution": {
     "iopub.execute_input": "2021-03-13T04:58:23.721788Z",
     "iopub.status.busy": "2021-03-13T04:58:23.720569Z",
     "iopub.status.idle": "2021-03-13T04:58:23.745021Z",
     "shell.execute_reply": "2021-03-13T04:58:23.745598Z"
    },
    "id": "ixwyk6tnu0Yd",
    "outputId": "384ef1b4-166e-412f-cbe3-bfc0f2a4e64b",
    "papermill": {
     "duration": 0.136106,
     "end_time": "2021-03-13T04:58:23.745810",
     "exception": false,
     "start_time": "2021-03-13T04:58:23.609704",
     "status": "completed"
    },
    "tags": []
   },
   "outputs": [
    {
     "data": {
      "text/html": [
       "<div>\n",
       "<style scoped>\n",
       "    .dataframe tbody tr th:only-of-type {\n",
       "        vertical-align: middle;\n",
       "    }\n",
       "\n",
       "    .dataframe tbody tr th {\n",
       "        vertical-align: top;\n",
       "    }\n",
       "\n",
       "    .dataframe thead th {\n",
       "        text-align: right;\n",
       "    }\n",
       "</style>\n",
       "<table border=\"1\" class=\"dataframe\">\n",
       "  <thead>\n",
       "    <tr style=\"text-align: right;\">\n",
       "      <th></th>\n",
       "      <th>Variable</th>\n",
       "      <th>Outcome</th>\n",
       "      <th>Count</th>\n",
       "      <th>Percent</th>\n",
       "    </tr>\n",
       "  </thead>\n",
       "  <tbody>\n",
       "    <tr>\n",
       "      <th>0</th>\n",
       "      <td>Final Diagnosis</td>\n",
       "      <td>MED</td>\n",
       "      <td>398</td>\n",
       "      <td>18.92</td>\n",
       "    </tr>\n",
       "    <tr>\n",
       "      <th>1</th>\n",
       "      <td></td>\n",
       "      <td>SURGICAL</td>\n",
       "      <td>392</td>\n",
       "      <td>18.63</td>\n",
       "    </tr>\n",
       "    <tr>\n",
       "      <th>2</th>\n",
       "      <td></td>\n",
       "      <td>ORTHO</td>\n",
       "      <td>284</td>\n",
       "      <td>13.50</td>\n",
       "    </tr>\n",
       "    <tr>\n",
       "      <th>3</th>\n",
       "      <td></td>\n",
       "      <td>ICU</td>\n",
       "      <td>268</td>\n",
       "      <td>12.74</td>\n",
       "    </tr>\n",
       "    <tr>\n",
       "      <th>4</th>\n",
       "      <td></td>\n",
       "      <td>Gynaecology</td>\n",
       "      <td>175</td>\n",
       "      <td>8.32</td>\n",
       "    </tr>\n",
       "    <tr>\n",
       "      <th>5</th>\n",
       "      <td></td>\n",
       "      <td>Cardiology</td>\n",
       "      <td>133</td>\n",
       "      <td>6.32</td>\n",
       "    </tr>\n",
       "    <tr>\n",
       "      <th>6</th>\n",
       "      <td></td>\n",
       "      <td>PED</td>\n",
       "      <td>126</td>\n",
       "      <td>5.99</td>\n",
       "    </tr>\n",
       "    <tr>\n",
       "      <th>7</th>\n",
       "      <td></td>\n",
       "      <td>PSY</td>\n",
       "      <td>104</td>\n",
       "      <td>4.94</td>\n",
       "    </tr>\n",
       "    <tr>\n",
       "      <th>8</th>\n",
       "      <td></td>\n",
       "      <td>Clinical</td>\n",
       "      <td>58</td>\n",
       "      <td>2.76</td>\n",
       "    </tr>\n",
       "    <tr>\n",
       "      <th>9</th>\n",
       "      <td></td>\n",
       "      <td>CTVS</td>\n",
       "      <td>49</td>\n",
       "      <td>2.33</td>\n",
       "    </tr>\n",
       "    <tr>\n",
       "      <th>10</th>\n",
       "      <td></td>\n",
       "      <td>NICU</td>\n",
       "      <td>44</td>\n",
       "      <td>2.09</td>\n",
       "    </tr>\n",
       "    <tr>\n",
       "      <th>11</th>\n",
       "      <td></td>\n",
       "      <td>Cardiology ICU</td>\n",
       "      <td>32</td>\n",
       "      <td>1.52</td>\n",
       "    </tr>\n",
       "    <tr>\n",
       "      <th>12</th>\n",
       "      <td></td>\n",
       "      <td>CTVS-ICU</td>\n",
       "      <td>23</td>\n",
       "      <td>1.09</td>\n",
       "    </tr>\n",
       "    <tr>\n",
       "      <th>13</th>\n",
       "      <td></td>\n",
       "      <td>NEURO</td>\n",
       "      <td>18</td>\n",
       "      <td>0.86</td>\n",
       "    </tr>\n",
       "    <tr>\n",
       "      <th>14</th>\n",
       "      <td>Place</td>\n",
       "      <td>Gandaki</td>\n",
       "      <td>361</td>\n",
       "      <td>17.16</td>\n",
       "    </tr>\n",
       "    <tr>\n",
       "      <th>15</th>\n",
       "      <td></td>\n",
       "      <td>Chitwan &amp; Parsa</td>\n",
       "      <td>343</td>\n",
       "      <td>16.30</td>\n",
       "    </tr>\n",
       "    <tr>\n",
       "      <th>16</th>\n",
       "      <td></td>\n",
       "      <td>Nawalparasi</td>\n",
       "      <td>282</td>\n",
       "      <td>13.40</td>\n",
       "    </tr>\n",
       "    <tr>\n",
       "      <th>17</th>\n",
       "      <td></td>\n",
       "      <td>Makwanpur</td>\n",
       "      <td>202</td>\n",
       "      <td>9.60</td>\n",
       "    </tr>\n",
       "    <tr>\n",
       "      <th>18</th>\n",
       "      <td></td>\n",
       "      <td>Janakpur</td>\n",
       "      <td>137</td>\n",
       "      <td>6.51</td>\n",
       "    </tr>\n",
       "    <tr>\n",
       "      <th>19</th>\n",
       "      <td></td>\n",
       "      <td>Bara</td>\n",
       "      <td>127</td>\n",
       "      <td>6.04</td>\n",
       "    </tr>\n",
       "    <tr>\n",
       "      <th>20</th>\n",
       "      <td></td>\n",
       "      <td>Rautahat</td>\n",
       "      <td>93</td>\n",
       "      <td>4.42</td>\n",
       "    </tr>\n",
       "    <tr>\n",
       "      <th>21</th>\n",
       "      <td></td>\n",
       "      <td>Rapti</td>\n",
       "      <td>88</td>\n",
       "      <td>4.18</td>\n",
       "    </tr>\n",
       "    <tr>\n",
       "      <th>22</th>\n",
       "      <td></td>\n",
       "      <td>Bagmati</td>\n",
       "      <td>74</td>\n",
       "      <td>3.52</td>\n",
       "    </tr>\n",
       "    <tr>\n",
       "      <th>23</th>\n",
       "      <td></td>\n",
       "      <td>Rupandehi</td>\n",
       "      <td>70</td>\n",
       "      <td>3.33</td>\n",
       "    </tr>\n",
       "    <tr>\n",
       "      <th>24</th>\n",
       "      <td></td>\n",
       "      <td>Dhaulagiri</td>\n",
       "      <td>69</td>\n",
       "      <td>3.28</td>\n",
       "    </tr>\n",
       "    <tr>\n",
       "      <th>25</th>\n",
       "      <td></td>\n",
       "      <td>Bheri</td>\n",
       "      <td>43</td>\n",
       "      <td>2.04</td>\n",
       "    </tr>\n",
       "    <tr>\n",
       "      <th>26</th>\n",
       "      <td></td>\n",
       "      <td>Gulmi</td>\n",
       "      <td>37</td>\n",
       "      <td>1.76</td>\n",
       "    </tr>\n",
       "    <tr>\n",
       "      <th>27</th>\n",
       "      <td></td>\n",
       "      <td>Palpa</td>\n",
       "      <td>32</td>\n",
       "      <td>1.52</td>\n",
       "    </tr>\n",
       "    <tr>\n",
       "      <th>28</th>\n",
       "      <td></td>\n",
       "      <td>Sagarmatha</td>\n",
       "      <td>25</td>\n",
       "      <td>1.19</td>\n",
       "    </tr>\n",
       "    <tr>\n",
       "      <th>29</th>\n",
       "      <td></td>\n",
       "      <td>Kapilvastu</td>\n",
       "      <td>22</td>\n",
       "      <td>1.05</td>\n",
       "    </tr>\n",
       "    <tr>\n",
       "      <th>30</th>\n",
       "      <td></td>\n",
       "      <td>Koshi</td>\n",
       "      <td>20</td>\n",
       "      <td>0.95</td>\n",
       "    </tr>\n",
       "    <tr>\n",
       "      <th>31</th>\n",
       "      <td></td>\n",
       "      <td>Mechi</td>\n",
       "      <td>18</td>\n",
       "      <td>0.86</td>\n",
       "    </tr>\n",
       "    <tr>\n",
       "      <th>32</th>\n",
       "      <td></td>\n",
       "      <td>Seti</td>\n",
       "      <td>14</td>\n",
       "      <td>0.67</td>\n",
       "    </tr>\n",
       "    <tr>\n",
       "      <th>33</th>\n",
       "      <td></td>\n",
       "      <td>Karnali</td>\n",
       "      <td>12</td>\n",
       "      <td>0.57</td>\n",
       "    </tr>\n",
       "    <tr>\n",
       "      <th>34</th>\n",
       "      <td></td>\n",
       "      <td>Arghakhanchi</td>\n",
       "      <td>12</td>\n",
       "      <td>0.57</td>\n",
       "    </tr>\n",
       "    <tr>\n",
       "      <th>35</th>\n",
       "      <td></td>\n",
       "      <td>Outside country</td>\n",
       "      <td>9</td>\n",
       "      <td>0.43</td>\n",
       "    </tr>\n",
       "    <tr>\n",
       "      <th>36</th>\n",
       "      <td></td>\n",
       "      <td>Mahakali</td>\n",
       "      <td>8</td>\n",
       "      <td>0.38</td>\n",
       "    </tr>\n",
       "    <tr>\n",
       "      <th>37</th>\n",
       "      <td></td>\n",
       "      <td>Sindhupalchowk</td>\n",
       "      <td>4</td>\n",
       "      <td>0.19</td>\n",
       "    </tr>\n",
       "    <tr>\n",
       "      <th>38</th>\n",
       "      <td></td>\n",
       "      <td>Sankhuwashava</td>\n",
       "      <td>2</td>\n",
       "      <td>0.10</td>\n",
       "    </tr>\n",
       "  </tbody>\n",
       "</table>\n",
       "</div>"
      ],
      "text/plain": [
       "           Variable          Outcome  Count  Percent\n",
       "0   Final Diagnosis              MED    398    18.92\n",
       "1                           SURGICAL    392    18.63\n",
       "2                              ORTHO    284    13.50\n",
       "3                                ICU    268    12.74\n",
       "4                        Gynaecology    175     8.32\n",
       "5                         Cardiology    133     6.32\n",
       "6                                PED    126     5.99\n",
       "7                                PSY    104     4.94\n",
       "8                           Clinical     58     2.76\n",
       "9                               CTVS     49     2.33\n",
       "10                              NICU     44     2.09\n",
       "11                    Cardiology ICU     32     1.52\n",
       "12                          CTVS-ICU     23     1.09\n",
       "13                             NEURO     18     0.86\n",
       "14            Place          Gandaki    361    17.16\n",
       "15                   Chitwan & Parsa    343    16.30\n",
       "16                       Nawalparasi    282    13.40\n",
       "17                         Makwanpur    202     9.60\n",
       "18                          Janakpur    137     6.51\n",
       "19                              Bara    127     6.04\n",
       "20                          Rautahat     93     4.42\n",
       "21                             Rapti     88     4.18\n",
       "22                           Bagmati     74     3.52\n",
       "23                         Rupandehi     70     3.33\n",
       "24                        Dhaulagiri     69     3.28\n",
       "25                             Bheri     43     2.04\n",
       "26                             Gulmi     37     1.76\n",
       "27                             Palpa     32     1.52\n",
       "28                        Sagarmatha     25     1.19\n",
       "29                        Kapilvastu     22     1.05\n",
       "30                             Koshi     20     0.95\n",
       "31                             Mechi     18     0.86\n",
       "32                              Seti     14     0.67\n",
       "33                           Karnali     12     0.57\n",
       "34                      Arghakhanchi     12     0.57\n",
       "35                   Outside country      9     0.43\n",
       "36                          Mahakali      8     0.38\n",
       "37                   Sindhupalchowk       4     0.19\n",
       "38                    Sankhuwashava       2     0.10"
      ]
     },
     "execution_count": 47,
     "metadata": {},
     "output_type": "execute_result"
    }
   ],
   "source": [
    "rp.summary_cat(nch[['Final Diagnosis','Place']])"
   ]
  },
  {
   "cell_type": "code",
   "execution_count": 48,
   "metadata": {
    "execution": {
     "iopub.execute_input": "2021-03-13T04:58:23.938231Z",
     "iopub.status.busy": "2021-03-13T04:58:23.937027Z",
     "iopub.status.idle": "2021-03-13T04:58:23.968272Z",
     "shell.execute_reply": "2021-03-13T04:58:23.968903Z"
    },
    "id": "gRRM8Yq6u0Yk",
    "outputId": "90cd7e4f-ac8d-4d28-a626-db815a33a600",
    "papermill": {
     "duration": 0.128857,
     "end_time": "2021-03-13T04:58:23.969137",
     "exception": false,
     "start_time": "2021-03-13T04:58:23.840280",
     "status": "completed"
    },
    "tags": []
   },
   "outputs": [
    {
     "data": {
      "text/plain": [
       "(37.95397549760182,\n",
       " 0.03505071669977994,\n",
       " 24,\n",
       " array([[  6.63307985,  40.9039924 ,  70.20009506,  23.76853612,\n",
       "         189.59553232,  38.14020913, 199.54515209,  20.4519962 ,\n",
       "          75.7276616 ,  12.16064639,   6.63307985,  11.05513308,\n",
       "           4.42205323, 111.65684411,   9.94961977, 155.87737643,\n",
       "           4.97480989,  17.68821293,  48.64258555,  51.40636882,\n",
       "          38.69296578,  13.81891635,   1.10551331,   7.73859316,\n",
       "           2.21102662],\n",
       "        [  5.36692015,  33.0960076 ,  56.79990494,  19.23146388,\n",
       "         153.40446768,  30.85979087, 161.45484791,  16.5480038 ,\n",
       "          61.2723384 ,   9.83935361,   5.36692015,   8.94486692,\n",
       "           3.57794677,  90.34315589,   8.05038023, 126.12262357,\n",
       "           4.02519011,  14.31178707,  39.35741445,  41.59363118,\n",
       "          31.30703422,  11.18108365,   0.89448669,   6.26140684,\n",
       "           1.78897338]]))"
      ]
     },
     "execution_count": 48,
     "metadata": {},
     "output_type": "execute_result"
    }
   ],
   "source": [
    "crosstab = pd.crosstab(nch['Sex'],nch['Place']) #chi sqauare first is Chi- Square value, second p value, third degree of freedom and lastly expected frequencies in array\n",
    "crosstab\n",
    "stats.chi2_contingency(crosstab)"
   ]
  },
  {
   "cell_type": "code",
   "execution_count": 49,
   "metadata": {
    "execution": {
     "iopub.execute_input": "2021-03-13T04:58:24.164976Z",
     "iopub.status.busy": "2021-03-13T04:58:24.164105Z",
     "iopub.status.idle": "2021-03-13T04:58:24.199366Z",
     "shell.execute_reply": "2021-03-13T04:58:24.199924Z"
    },
    "id": "_MbI_Yvau0Yq",
    "outputId": "9d08ff43-d03b-4810-c068-dfae8978a318",
    "papermill": {
     "duration": 0.137876,
     "end_time": "2021-03-13T04:58:24.200157",
     "exception": false,
     "start_time": "2021-03-13T04:58:24.062281",
     "status": "completed"
    },
    "tags": []
   },
   "outputs": [
    {
     "data": {
      "text/plain": [
       "(1998.1907633890319,\n",
       " 5.587492280339316e-29,\n",
       " 1339,\n",
       " array([[0.27946768, 0.13117871, 0.75855513, ..., 0.71863118, 0.59315589,\n",
       "         2.23574144],\n",
       "        [0.39591255, 0.1858365 , 1.07461977, ..., 1.01806084, 0.84030418,\n",
       "         3.16730038],\n",
       "        [0.23288973, 0.10931559, 0.63212928, ..., 0.59885932, 0.49429658,\n",
       "         1.86311787],\n",
       "        ...,\n",
       "        [0.13973384, 0.06558935, 0.37927757, ..., 0.35931559, 0.29657795,\n",
       "         1.11787072],\n",
       "        [0.04657795, 0.02186312, 0.12642586, ..., 0.11977186, 0.09885932,\n",
       "         0.37262357],\n",
       "        [0.02328897, 0.01093156, 0.06321293, ..., 0.05988593, 0.04942966,\n",
       "         0.18631179]]))"
      ]
     },
     "execution_count": 49,
     "metadata": {},
     "output_type": "execute_result"
    }
   ],
   "source": [
    "crosstab = pd.crosstab(nch['Age'],nch['Final Diagnosis']) #chi sqauare first is Chi- Square value, second p value, third degree of freedom and lastly expected frequencies in array\n",
    "crosstab\n",
    "stats.chi2_contingency(crosstab)"
   ]
  },
  {
   "cell_type": "code",
   "execution_count": 50,
   "metadata": {
    "execution": {
     "iopub.execute_input": "2021-03-13T04:58:24.398660Z",
     "iopub.status.busy": "2021-03-13T04:58:24.397895Z",
     "iopub.status.idle": "2021-03-13T04:58:24.529703Z",
     "shell.execute_reply": "2021-03-13T04:58:24.528974Z"
    },
    "id": "QJIU19Hlu0Yv",
    "outputId": "48cd6f50-eb40-4ded-c0a8-72522cad8818",
    "papermill": {
     "duration": 0.235809,
     "end_time": "2021-03-13T04:58:24.529895",
     "exception": false,
     "start_time": "2021-03-13T04:58:24.294086",
     "status": "completed"
    },
    "tags": []
   },
   "outputs": [
    {
     "data": {
      "text/html": [
       "<div>\n",
       "<style scoped>\n",
       "    .dataframe tbody tr th:only-of-type {\n",
       "        vertical-align: middle;\n",
       "    }\n",
       "\n",
       "    .dataframe tbody tr th {\n",
       "        vertical-align: top;\n",
       "    }\n",
       "\n",
       "    .dataframe thead tr th {\n",
       "        text-align: left;\n",
       "    }\n",
       "\n",
       "    .dataframe thead tr:last-of-type th {\n",
       "        text-align: right;\n",
       "    }\n",
       "</style>\n",
       "<table border=\"1\" class=\"dataframe\">\n",
       "  <thead>\n",
       "    <tr>\n",
       "      <th></th>\n",
       "      <th colspan=\"21\" halign=\"left\">Place</th>\n",
       "    </tr>\n",
       "    <tr>\n",
       "      <th>Place</th>\n",
       "      <th>Arghakhanchi</th>\n",
       "      <th>Bagmati</th>\n",
       "      <th>Bara</th>\n",
       "      <th>Bheri</th>\n",
       "      <th>Chitwan &amp; Parsa</th>\n",
       "      <th>Dhaulagiri</th>\n",
       "      <th>Gandaki</th>\n",
       "      <th>Gulmi</th>\n",
       "      <th>Janakpur</th>\n",
       "      <th>Kapilvastu</th>\n",
       "      <th>...</th>\n",
       "      <th>Outside country</th>\n",
       "      <th>Palpa</th>\n",
       "      <th>Rapti</th>\n",
       "      <th>Rautahat</th>\n",
       "      <th>Rupandehi</th>\n",
       "      <th>Sagarmatha</th>\n",
       "      <th>Sankhuwashava</th>\n",
       "      <th>Seti</th>\n",
       "      <th>Sindhupalchowk</th>\n",
       "      <th>All</th>\n",
       "    </tr>\n",
       "    <tr>\n",
       "      <th>Sex</th>\n",
       "      <th></th>\n",
       "      <th></th>\n",
       "      <th></th>\n",
       "      <th></th>\n",
       "      <th></th>\n",
       "      <th></th>\n",
       "      <th></th>\n",
       "      <th></th>\n",
       "      <th></th>\n",
       "      <th></th>\n",
       "      <th></th>\n",
       "      <th></th>\n",
       "      <th></th>\n",
       "      <th></th>\n",
       "      <th></th>\n",
       "      <th></th>\n",
       "      <th></th>\n",
       "      <th></th>\n",
       "      <th></th>\n",
       "      <th></th>\n",
       "      <th></th>\n",
       "    </tr>\n",
       "  </thead>\n",
       "  <tbody>\n",
       "    <tr>\n",
       "      <th>Female</th>\n",
       "      <td>91.67</td>\n",
       "      <td>58.11</td>\n",
       "      <td>52.76</td>\n",
       "      <td>60.47</td>\n",
       "      <td>49.56</td>\n",
       "      <td>62.32</td>\n",
       "      <td>58.45</td>\n",
       "      <td>59.46</td>\n",
       "      <td>55.47</td>\n",
       "      <td>63.64</td>\n",
       "      <td>...</td>\n",
       "      <td>44.44</td>\n",
       "      <td>50.0</td>\n",
       "      <td>46.59</td>\n",
       "      <td>56.99</td>\n",
       "      <td>57.14</td>\n",
       "      <td>76.0</td>\n",
       "      <td>50.0</td>\n",
       "      <td>64.29</td>\n",
       "      <td>75.0</td>\n",
       "      <td>55.28</td>\n",
       "    </tr>\n",
       "    <tr>\n",
       "      <th>Male</th>\n",
       "      <td>8.33</td>\n",
       "      <td>41.89</td>\n",
       "      <td>47.24</td>\n",
       "      <td>39.53</td>\n",
       "      <td>50.44</td>\n",
       "      <td>37.68</td>\n",
       "      <td>41.55</td>\n",
       "      <td>40.54</td>\n",
       "      <td>44.53</td>\n",
       "      <td>36.36</td>\n",
       "      <td>...</td>\n",
       "      <td>55.56</td>\n",
       "      <td>50.0</td>\n",
       "      <td>53.41</td>\n",
       "      <td>43.01</td>\n",
       "      <td>42.86</td>\n",
       "      <td>24.0</td>\n",
       "      <td>50.0</td>\n",
       "      <td>35.71</td>\n",
       "      <td>25.0</td>\n",
       "      <td>44.72</td>\n",
       "    </tr>\n",
       "    <tr>\n",
       "      <th>All</th>\n",
       "      <td>100.00</td>\n",
       "      <td>100.00</td>\n",
       "      <td>100.00</td>\n",
       "      <td>100.00</td>\n",
       "      <td>100.00</td>\n",
       "      <td>100.00</td>\n",
       "      <td>100.00</td>\n",
       "      <td>100.00</td>\n",
       "      <td>100.00</td>\n",
       "      <td>100.00</td>\n",
       "      <td>...</td>\n",
       "      <td>100.00</td>\n",
       "      <td>100.0</td>\n",
       "      <td>100.00</td>\n",
       "      <td>100.00</td>\n",
       "      <td>100.00</td>\n",
       "      <td>100.0</td>\n",
       "      <td>100.0</td>\n",
       "      <td>100.00</td>\n",
       "      <td>100.0</td>\n",
       "      <td>100.00</td>\n",
       "    </tr>\n",
       "  </tbody>\n",
       "</table>\n",
       "<p>3 rows × 26 columns</p>\n",
       "</div>"
      ],
      "text/plain": [
       "               Place                                                     \\\n",
       "Place   Arghakhanchi Bagmati    Bara   Bheri Chitwan & Parsa Dhaulagiri   \n",
       "Sex                                                                       \n",
       "Female         91.67   58.11   52.76   60.47           49.56      62.32   \n",
       "Male            8.33   41.89   47.24   39.53           50.44      37.68   \n",
       "All           100.00  100.00  100.00  100.00          100.00     100.00   \n",
       "\n",
       "                                            ...                         \\\n",
       "Place  Gandaki   Gulmi Janakpur Kapilvastu  ... Outside country  Palpa   \n",
       "Sex                                         ...                          \n",
       "Female   58.45   59.46    55.47      63.64  ...           44.44   50.0   \n",
       "Male     41.55   40.54    44.53      36.36  ...           55.56   50.0   \n",
       "All     100.00  100.00   100.00     100.00  ...          100.00  100.0   \n",
       "\n",
       "                                                                     \\\n",
       "Place    Rapti Rautahat Rupandehi Sagarmatha Sankhuwashava     Seti   \n",
       "Sex                                                                   \n",
       "Female   46.59    56.99     57.14       76.0           50.0   64.29   \n",
       "Male     53.41    43.01     42.86       24.0           50.0   35.71   \n",
       "All     100.00   100.00    100.00      100.0          100.0  100.00   \n",
       "\n",
       "                                \n",
       "Place  Sindhupalchowk      All  \n",
       "Sex                             \n",
       "Female            75.0   55.28  \n",
       "Male              25.0   44.72  \n",
       "All              100.0  100.00  \n",
       "\n",
       "[3 rows x 26 columns]"
      ]
     },
     "execution_count": 50,
     "metadata": {},
     "output_type": "execute_result"
    }
   ],
   "source": [
    "table, results = rp.crosstab(nch['Sex'],nch['Place'], prop = 'col', test = 'chi-square')\n",
    "table"
   ]
  },
  {
   "cell_type": "code",
   "execution_count": 51,
   "metadata": {
    "execution": {
     "iopub.execute_input": "2021-03-13T04:58:24.732004Z",
     "iopub.status.busy": "2021-03-13T04:58:24.730909Z",
     "iopub.status.idle": "2021-03-13T04:58:24.736844Z",
     "shell.execute_reply": "2021-03-13T04:58:24.736283Z"
    },
    "id": "nW6eVW9Nu0Y2",
    "outputId": "eb0895ef-9d51-4c47-cb57-d756676e17c8",
    "papermill": {
     "duration": 0.112035,
     "end_time": "2021-03-13T04:58:24.737035",
     "exception": false,
     "start_time": "2021-03-13T04:58:24.625000",
     "status": "completed"
    },
    "tags": []
   },
   "outputs": [
    {
     "data": {
      "text/html": [
       "<div>\n",
       "<style scoped>\n",
       "    .dataframe tbody tr th:only-of-type {\n",
       "        vertical-align: middle;\n",
       "    }\n",
       "\n",
       "    .dataframe tbody tr th {\n",
       "        vertical-align: top;\n",
       "    }\n",
       "\n",
       "    .dataframe thead th {\n",
       "        text-align: right;\n",
       "    }\n",
       "</style>\n",
       "<table border=\"1\" class=\"dataframe\">\n",
       "  <thead>\n",
       "    <tr style=\"text-align: right;\">\n",
       "      <th></th>\n",
       "      <th>Chi-square test</th>\n",
       "      <th>results</th>\n",
       "    </tr>\n",
       "  </thead>\n",
       "  <tbody>\n",
       "    <tr>\n",
       "      <th>0</th>\n",
       "      <td>Pearson Chi-square ( 24.0) =</td>\n",
       "      <td>37.9540</td>\n",
       "    </tr>\n",
       "    <tr>\n",
       "      <th>1</th>\n",
       "      <td>p-value =</td>\n",
       "      <td>0.0351</td>\n",
       "    </tr>\n",
       "    <tr>\n",
       "      <th>2</th>\n",
       "      <td>Cramer's V =</td>\n",
       "      <td>0.1343</td>\n",
       "    </tr>\n",
       "  </tbody>\n",
       "</table>\n",
       "</div>"
      ],
      "text/plain": [
       "                 Chi-square test  results\n",
       "0  Pearson Chi-square ( 24.0) =   37.9540\n",
       "1                     p-value =    0.0351\n",
       "2                  Cramer's V =    0.1343"
      ]
     },
     "execution_count": 51,
     "metadata": {},
     "output_type": "execute_result"
    }
   ],
   "source": [
    "results"
   ]
  },
  {
   "cell_type": "code",
   "execution_count": 52,
   "metadata": {
    "execution": {
     "iopub.execute_input": "2021-03-13T04:58:24.937852Z",
     "iopub.status.busy": "2021-03-13T04:58:24.936524Z",
     "iopub.status.idle": "2021-03-13T04:58:25.093270Z",
     "shell.execute_reply": "2021-03-13T04:58:25.092664Z"
    },
    "id": "JIIYUWu-u0Y7",
    "outputId": "203cd218-1c64-4604-ddc7-ccc4835d5585",
    "papermill": {
     "duration": 0.259939,
     "end_time": "2021-03-13T04:58:25.093447",
     "exception": false,
     "start_time": "2021-03-13T04:58:24.833508",
     "status": "completed"
    },
    "scrolled": true,
    "tags": []
   },
   "outputs": [
    {
     "data": {
      "text/html": [
       "<div>\n",
       "<style scoped>\n",
       "    .dataframe tbody tr th:only-of-type {\n",
       "        vertical-align: middle;\n",
       "    }\n",
       "\n",
       "    .dataframe tbody tr th {\n",
       "        vertical-align: top;\n",
       "    }\n",
       "\n",
       "    .dataframe thead tr th {\n",
       "        text-align: left;\n",
       "    }\n",
       "\n",
       "    .dataframe thead tr:last-of-type th {\n",
       "        text-align: right;\n",
       "    }\n",
       "</style>\n",
       "<table border=\"1\" class=\"dataframe\">\n",
       "  <thead>\n",
       "    <tr>\n",
       "      <th></th>\n",
       "      <th colspan=\"15\" halign=\"left\">Final Diagnosis</th>\n",
       "    </tr>\n",
       "    <tr>\n",
       "      <th>Final Diagnosis</th>\n",
       "      <th>CTVS</th>\n",
       "      <th>CTVS-ICU</th>\n",
       "      <th>Cardiology</th>\n",
       "      <th>Cardiology ICU</th>\n",
       "      <th>Clinical</th>\n",
       "      <th>Gynaecology</th>\n",
       "      <th>ICU</th>\n",
       "      <th>MED</th>\n",
       "      <th>NEURO</th>\n",
       "      <th>NICU</th>\n",
       "      <th>ORTHO</th>\n",
       "      <th>PED</th>\n",
       "      <th>PSY</th>\n",
       "      <th>SURGICAL</th>\n",
       "      <th>All</th>\n",
       "    </tr>\n",
       "    <tr>\n",
       "      <th>Age</th>\n",
       "      <th></th>\n",
       "      <th></th>\n",
       "      <th></th>\n",
       "      <th></th>\n",
       "      <th></th>\n",
       "      <th></th>\n",
       "      <th></th>\n",
       "      <th></th>\n",
       "      <th></th>\n",
       "      <th></th>\n",
       "      <th></th>\n",
       "      <th></th>\n",
       "      <th></th>\n",
       "      <th></th>\n",
       "      <th></th>\n",
       "    </tr>\n",
       "  </thead>\n",
       "  <tbody>\n",
       "    <tr>\n",
       "      <th>0.0027</th>\n",
       "      <td>0.00</td>\n",
       "      <td>0.0</td>\n",
       "      <td>0.00</td>\n",
       "      <td>0.00</td>\n",
       "      <td>0.0</td>\n",
       "      <td>0.0</td>\n",
       "      <td>0.00</td>\n",
       "      <td>0.25</td>\n",
       "      <td>0.0</td>\n",
       "      <td>18.18</td>\n",
       "      <td>0.35</td>\n",
       "      <td>1.59</td>\n",
       "      <td>0.0</td>\n",
       "      <td>0.00</td>\n",
       "      <td>0.57</td>\n",
       "    </tr>\n",
       "    <tr>\n",
       "      <th>0.082</th>\n",
       "      <td>0.00</td>\n",
       "      <td>0.0</td>\n",
       "      <td>0.00</td>\n",
       "      <td>0.00</td>\n",
       "      <td>0.0</td>\n",
       "      <td>0.0</td>\n",
       "      <td>0.37</td>\n",
       "      <td>0.50</td>\n",
       "      <td>0.0</td>\n",
       "      <td>11.36</td>\n",
       "      <td>0.70</td>\n",
       "      <td>4.76</td>\n",
       "      <td>0.0</td>\n",
       "      <td>0.26</td>\n",
       "      <td>0.81</td>\n",
       "    </tr>\n",
       "    <tr>\n",
       "      <th>0.33</th>\n",
       "      <td>0.00</td>\n",
       "      <td>0.0</td>\n",
       "      <td>0.00</td>\n",
       "      <td>0.00</td>\n",
       "      <td>0.0</td>\n",
       "      <td>0.0</td>\n",
       "      <td>0.00</td>\n",
       "      <td>0.00</td>\n",
       "      <td>0.0</td>\n",
       "      <td>4.55</td>\n",
       "      <td>0.70</td>\n",
       "      <td>2.38</td>\n",
       "      <td>0.0</td>\n",
       "      <td>0.77</td>\n",
       "      <td>0.48</td>\n",
       "    </tr>\n",
       "    <tr>\n",
       "      <th>0.5</th>\n",
       "      <td>0.00</td>\n",
       "      <td>0.0</td>\n",
       "      <td>0.00</td>\n",
       "      <td>0.00</td>\n",
       "      <td>0.0</td>\n",
       "      <td>0.0</td>\n",
       "      <td>0.00</td>\n",
       "      <td>0.00</td>\n",
       "      <td>0.0</td>\n",
       "      <td>0.00</td>\n",
       "      <td>0.35</td>\n",
       "      <td>3.17</td>\n",
       "      <td>0.0</td>\n",
       "      <td>0.26</td>\n",
       "      <td>0.29</td>\n",
       "    </tr>\n",
       "    <tr>\n",
       "      <th>0.91</th>\n",
       "      <td>0.00</td>\n",
       "      <td>0.0</td>\n",
       "      <td>0.00</td>\n",
       "      <td>0.00</td>\n",
       "      <td>0.0</td>\n",
       "      <td>0.0</td>\n",
       "      <td>0.00</td>\n",
       "      <td>0.25</td>\n",
       "      <td>0.0</td>\n",
       "      <td>0.00</td>\n",
       "      <td>0.70</td>\n",
       "      <td>4.76</td>\n",
       "      <td>0.0</td>\n",
       "      <td>0.00</td>\n",
       "      <td>0.43</td>\n",
       "    </tr>\n",
       "    <tr>\n",
       "      <th>...</th>\n",
       "      <td>...</td>\n",
       "      <td>...</td>\n",
       "      <td>...</td>\n",
       "      <td>...</td>\n",
       "      <td>...</td>\n",
       "      <td>...</td>\n",
       "      <td>...</td>\n",
       "      <td>...</td>\n",
       "      <td>...</td>\n",
       "      <td>...</td>\n",
       "      <td>...</td>\n",
       "      <td>...</td>\n",
       "      <td>...</td>\n",
       "      <td>...</td>\n",
       "      <td>...</td>\n",
       "    </tr>\n",
       "    <tr>\n",
       "      <th>95</th>\n",
       "      <td>2.04</td>\n",
       "      <td>0.0</td>\n",
       "      <td>0.75</td>\n",
       "      <td>0.00</td>\n",
       "      <td>0.0</td>\n",
       "      <td>0.0</td>\n",
       "      <td>0.00</td>\n",
       "      <td>0.50</td>\n",
       "      <td>0.0</td>\n",
       "      <td>0.00</td>\n",
       "      <td>0.35</td>\n",
       "      <td>0.00</td>\n",
       "      <td>0.0</td>\n",
       "      <td>0.00</td>\n",
       "      <td>0.24</td>\n",
       "    </tr>\n",
       "    <tr>\n",
       "      <th>96</th>\n",
       "      <td>0.00</td>\n",
       "      <td>0.0</td>\n",
       "      <td>1.50</td>\n",
       "      <td>3.12</td>\n",
       "      <td>0.0</td>\n",
       "      <td>0.0</td>\n",
       "      <td>1.12</td>\n",
       "      <td>0.00</td>\n",
       "      <td>0.0</td>\n",
       "      <td>0.00</td>\n",
       "      <td>0.00</td>\n",
       "      <td>0.00</td>\n",
       "      <td>0.0</td>\n",
       "      <td>0.00</td>\n",
       "      <td>0.29</td>\n",
       "    </tr>\n",
       "    <tr>\n",
       "      <th>97</th>\n",
       "      <td>0.00</td>\n",
       "      <td>0.0</td>\n",
       "      <td>0.00</td>\n",
       "      <td>0.00</td>\n",
       "      <td>0.0</td>\n",
       "      <td>0.0</td>\n",
       "      <td>0.37</td>\n",
       "      <td>0.00</td>\n",
       "      <td>0.0</td>\n",
       "      <td>0.00</td>\n",
       "      <td>0.35</td>\n",
       "      <td>0.00</td>\n",
       "      <td>0.0</td>\n",
       "      <td>0.00</td>\n",
       "      <td>0.10</td>\n",
       "    </tr>\n",
       "    <tr>\n",
       "      <th>98</th>\n",
       "      <td>0.00</td>\n",
       "      <td>0.0</td>\n",
       "      <td>0.00</td>\n",
       "      <td>0.00</td>\n",
       "      <td>0.0</td>\n",
       "      <td>0.0</td>\n",
       "      <td>0.00</td>\n",
       "      <td>0.00</td>\n",
       "      <td>0.0</td>\n",
       "      <td>0.00</td>\n",
       "      <td>0.00</td>\n",
       "      <td>0.00</td>\n",
       "      <td>0.0</td>\n",
       "      <td>0.26</td>\n",
       "      <td>0.05</td>\n",
       "    </tr>\n",
       "    <tr>\n",
       "      <th>All</th>\n",
       "      <td>100.00</td>\n",
       "      <td>100.0</td>\n",
       "      <td>100.00</td>\n",
       "      <td>100.00</td>\n",
       "      <td>100.0</td>\n",
       "      <td>100.0</td>\n",
       "      <td>100.00</td>\n",
       "      <td>100.00</td>\n",
       "      <td>100.0</td>\n",
       "      <td>100.00</td>\n",
       "      <td>100.00</td>\n",
       "      <td>100.00</td>\n",
       "      <td>100.0</td>\n",
       "      <td>100.00</td>\n",
       "      <td>100.00</td>\n",
       "    </tr>\n",
       "  </tbody>\n",
       "</table>\n",
       "<p>105 rows × 15 columns</p>\n",
       "</div>"
      ],
      "text/plain": [
       "                Final Diagnosis                                              \\\n",
       "Final Diagnosis            CTVS CTVS-ICU Cardiology Cardiology ICU Clinical   \n",
       "Age                                                                           \n",
       "0.0027                     0.00      0.0       0.00           0.00      0.0   \n",
       "0.082                      0.00      0.0       0.00           0.00      0.0   \n",
       "0.33                       0.00      0.0       0.00           0.00      0.0   \n",
       "0.5                        0.00      0.0       0.00           0.00      0.0   \n",
       "0.91                       0.00      0.0       0.00           0.00      0.0   \n",
       "...                         ...      ...        ...            ...      ...   \n",
       "95                         2.04      0.0       0.75           0.00      0.0   \n",
       "96                         0.00      0.0       1.50           3.12      0.0   \n",
       "97                         0.00      0.0       0.00           0.00      0.0   \n",
       "98                         0.00      0.0       0.00           0.00      0.0   \n",
       "All                      100.00    100.0     100.00         100.00    100.0   \n",
       "\n",
       "                                                                            \\\n",
       "Final Diagnosis Gynaecology     ICU     MED  NEURO    NICU   ORTHO     PED   \n",
       "Age                                                                          \n",
       "0.0027                  0.0    0.00    0.25    0.0   18.18    0.35    1.59   \n",
       "0.082                   0.0    0.37    0.50    0.0   11.36    0.70    4.76   \n",
       "0.33                    0.0    0.00    0.00    0.0    4.55    0.70    2.38   \n",
       "0.5                     0.0    0.00    0.00    0.0    0.00    0.35    3.17   \n",
       "0.91                    0.0    0.00    0.25    0.0    0.00    0.70    4.76   \n",
       "...                     ...     ...     ...    ...     ...     ...     ...   \n",
       "95                      0.0    0.00    0.50    0.0    0.00    0.35    0.00   \n",
       "96                      0.0    1.12    0.00    0.0    0.00    0.00    0.00   \n",
       "97                      0.0    0.37    0.00    0.0    0.00    0.35    0.00   \n",
       "98                      0.0    0.00    0.00    0.0    0.00    0.00    0.00   \n",
       "All                   100.0  100.00  100.00  100.0  100.00  100.00  100.00   \n",
       "\n",
       "                                         \n",
       "Final Diagnosis    PSY SURGICAL     All  \n",
       "Age                                      \n",
       "0.0027             0.0     0.00    0.57  \n",
       "0.082              0.0     0.26    0.81  \n",
       "0.33               0.0     0.77    0.48  \n",
       "0.5                0.0     0.26    0.29  \n",
       "0.91               0.0     0.00    0.43  \n",
       "...                ...      ...     ...  \n",
       "95                 0.0     0.00    0.24  \n",
       "96                 0.0     0.00    0.29  \n",
       "97                 0.0     0.00    0.10  \n",
       "98                 0.0     0.26    0.05  \n",
       "All              100.0   100.00  100.00  \n",
       "\n",
       "[105 rows x 15 columns]"
      ]
     },
     "execution_count": 52,
     "metadata": {},
     "output_type": "execute_result"
    }
   ],
   "source": [
    "table, results = rp.crosstab(nch['Age'],nch['Final Diagnosis'], prop = 'col', test = 'chi-square')\n",
    "table"
   ]
  },
  {
   "cell_type": "code",
   "execution_count": 53,
   "metadata": {
    "execution": {
     "iopub.execute_input": "2021-03-13T04:58:25.300398Z",
     "iopub.status.busy": "2021-03-13T04:58:25.299261Z",
     "iopub.status.idle": "2021-03-13T04:58:25.305267Z",
     "shell.execute_reply": "2021-03-13T04:58:25.304464Z"
    },
    "id": "Jv-B9I9xu0ZA",
    "outputId": "6ed99f74-ff0d-4323-e560-ae898ae3e7b9",
    "papermill": {
     "duration": 0.115782,
     "end_time": "2021-03-13T04:58:25.305459",
     "exception": false,
     "start_time": "2021-03-13T04:58:25.189677",
     "status": "completed"
    },
    "tags": []
   },
   "outputs": [
    {
     "data": {
      "text/html": [
       "<div>\n",
       "<style scoped>\n",
       "    .dataframe tbody tr th:only-of-type {\n",
       "        vertical-align: middle;\n",
       "    }\n",
       "\n",
       "    .dataframe tbody tr th {\n",
       "        vertical-align: top;\n",
       "    }\n",
       "\n",
       "    .dataframe thead th {\n",
       "        text-align: right;\n",
       "    }\n",
       "</style>\n",
       "<table border=\"1\" class=\"dataframe\">\n",
       "  <thead>\n",
       "    <tr style=\"text-align: right;\">\n",
       "      <th></th>\n",
       "      <th>Chi-square test</th>\n",
       "      <th>results</th>\n",
       "    </tr>\n",
       "  </thead>\n",
       "  <tbody>\n",
       "    <tr>\n",
       "      <th>0</th>\n",
       "      <td>Pearson Chi-square ( 1339.0) =</td>\n",
       "      <td>1998.1908</td>\n",
       "    </tr>\n",
       "    <tr>\n",
       "      <th>1</th>\n",
       "      <td>p-value =</td>\n",
       "      <td>0.0000</td>\n",
       "    </tr>\n",
       "    <tr>\n",
       "      <th>2</th>\n",
       "      <td>Cramer's V =</td>\n",
       "      <td>0.2703</td>\n",
       "    </tr>\n",
       "  </tbody>\n",
       "</table>\n",
       "</div>"
      ],
      "text/plain": [
       "                   Chi-square test    results\n",
       "0  Pearson Chi-square ( 1339.0) =   1998.1908\n",
       "1                       p-value =      0.0000\n",
       "2                    Cramer's V =      0.2703"
      ]
     },
     "execution_count": 53,
     "metadata": {},
     "output_type": "execute_result"
    }
   ],
   "source": [
    "results"
   ]
  },
  {
   "cell_type": "code",
   "execution_count": 54,
   "metadata": {
    "execution": {
     "iopub.execute_input": "2021-03-13T04:58:25.520158Z",
     "iopub.status.busy": "2021-03-13T04:58:25.511174Z",
     "iopub.status.idle": "2021-03-13T04:58:25.608323Z",
     "shell.execute_reply": "2021-03-13T04:58:25.607623Z"
    },
    "id": "JRpvp48Tu0ZE",
    "outputId": "6946363b-b8a0-48be-cb2c-5940711e7ab4",
    "papermill": {
     "duration": 0.205771,
     "end_time": "2021-03-13T04:58:25.608499",
     "exception": false,
     "start_time": "2021-03-13T04:58:25.402728",
     "status": "completed"
    },
    "scrolled": true,
    "tags": []
   },
   "outputs": [
    {
     "data": {
      "text/html": [
       "<div>\n",
       "<style scoped>\n",
       "    .dataframe tbody tr th:only-of-type {\n",
       "        vertical-align: middle;\n",
       "    }\n",
       "\n",
       "    .dataframe tbody tr th {\n",
       "        vertical-align: top;\n",
       "    }\n",
       "\n",
       "    .dataframe thead tr th {\n",
       "        text-align: left;\n",
       "    }\n",
       "\n",
       "    .dataframe thead tr:last-of-type th {\n",
       "        text-align: right;\n",
       "    }\n",
       "</style>\n",
       "<table border=\"1\" class=\"dataframe\">\n",
       "  <thead>\n",
       "    <tr>\n",
       "      <th></th>\n",
       "      <th colspan=\"3\" halign=\"left\">Sex</th>\n",
       "    </tr>\n",
       "    <tr>\n",
       "      <th>Sex</th>\n",
       "      <th>Female</th>\n",
       "      <th>Male</th>\n",
       "      <th>All</th>\n",
       "    </tr>\n",
       "    <tr>\n",
       "      <th>Age</th>\n",
       "      <th></th>\n",
       "      <th></th>\n",
       "      <th></th>\n",
       "    </tr>\n",
       "  </thead>\n",
       "  <tbody>\n",
       "    <tr>\n",
       "      <th>0.0027</th>\n",
       "      <td>0.52</td>\n",
       "      <td>0.64</td>\n",
       "      <td>0.57</td>\n",
       "    </tr>\n",
       "    <tr>\n",
       "      <th>0.082</th>\n",
       "      <td>0.60</td>\n",
       "      <td>1.06</td>\n",
       "      <td>0.81</td>\n",
       "    </tr>\n",
       "    <tr>\n",
       "      <th>0.33</th>\n",
       "      <td>0.34</td>\n",
       "      <td>0.64</td>\n",
       "      <td>0.48</td>\n",
       "    </tr>\n",
       "    <tr>\n",
       "      <th>0.5</th>\n",
       "      <td>0.17</td>\n",
       "      <td>0.43</td>\n",
       "      <td>0.29</td>\n",
       "    </tr>\n",
       "    <tr>\n",
       "      <th>0.91</th>\n",
       "      <td>0.17</td>\n",
       "      <td>0.74</td>\n",
       "      <td>0.43</td>\n",
       "    </tr>\n",
       "    <tr>\n",
       "      <th>...</th>\n",
       "      <td>...</td>\n",
       "      <td>...</td>\n",
       "      <td>...</td>\n",
       "    </tr>\n",
       "    <tr>\n",
       "      <th>95</th>\n",
       "      <td>0.34</td>\n",
       "      <td>0.11</td>\n",
       "      <td>0.24</td>\n",
       "    </tr>\n",
       "    <tr>\n",
       "      <th>96</th>\n",
       "      <td>0.09</td>\n",
       "      <td>0.53</td>\n",
       "      <td>0.29</td>\n",
       "    </tr>\n",
       "    <tr>\n",
       "      <th>97</th>\n",
       "      <td>0.09</td>\n",
       "      <td>0.11</td>\n",
       "      <td>0.10</td>\n",
       "    </tr>\n",
       "    <tr>\n",
       "      <th>98</th>\n",
       "      <td>0.00</td>\n",
       "      <td>0.11</td>\n",
       "      <td>0.05</td>\n",
       "    </tr>\n",
       "    <tr>\n",
       "      <th>All</th>\n",
       "      <td>100.00</td>\n",
       "      <td>100.00</td>\n",
       "      <td>100.00</td>\n",
       "    </tr>\n",
       "  </tbody>\n",
       "</table>\n",
       "<p>105 rows × 3 columns</p>\n",
       "</div>"
      ],
      "text/plain": [
       "           Sex                \n",
       "Sex     Female    Male     All\n",
       "Age                           \n",
       "0.0027    0.52    0.64    0.57\n",
       "0.082     0.60    1.06    0.81\n",
       "0.33      0.34    0.64    0.48\n",
       "0.5       0.17    0.43    0.29\n",
       "0.91      0.17    0.74    0.43\n",
       "...        ...     ...     ...\n",
       "95        0.34    0.11    0.24\n",
       "96        0.09    0.53    0.29\n",
       "97        0.09    0.11    0.10\n",
       "98        0.00    0.11    0.05\n",
       "All     100.00  100.00  100.00\n",
       "\n",
       "[105 rows x 3 columns]"
      ]
     },
     "execution_count": 54,
     "metadata": {},
     "output_type": "execute_result"
    }
   ],
   "source": [
    "table, results = rp.crosstab(nch['Age'],nch['Sex'], prop = 'col', test = 'chi-square')\n",
    "table"
   ]
  },
  {
   "cell_type": "code",
   "execution_count": 55,
   "metadata": {
    "execution": {
     "iopub.execute_input": "2021-03-13T04:58:25.818349Z",
     "iopub.status.busy": "2021-03-13T04:58:25.817148Z",
     "iopub.status.idle": "2021-03-13T04:58:25.824129Z",
     "shell.execute_reply": "2021-03-13T04:58:25.823464Z"
    },
    "id": "2gxOKuvpu0ZI",
    "outputId": "4b65df3f-85c6-4924-8fc5-ffcc669134a2",
    "papermill": {
     "duration": 0.118175,
     "end_time": "2021-03-13T04:58:25.824313",
     "exception": false,
     "start_time": "2021-03-13T04:58:25.706138",
     "status": "completed"
    },
    "tags": []
   },
   "outputs": [
    {
     "data": {
      "text/html": [
       "<div>\n",
       "<style scoped>\n",
       "    .dataframe tbody tr th:only-of-type {\n",
       "        vertical-align: middle;\n",
       "    }\n",
       "\n",
       "    .dataframe tbody tr th {\n",
       "        vertical-align: top;\n",
       "    }\n",
       "\n",
       "    .dataframe thead th {\n",
       "        text-align: right;\n",
       "    }\n",
       "</style>\n",
       "<table border=\"1\" class=\"dataframe\">\n",
       "  <thead>\n",
       "    <tr style=\"text-align: right;\">\n",
       "      <th></th>\n",
       "      <th>Chi-square test</th>\n",
       "      <th>results</th>\n",
       "    </tr>\n",
       "  </thead>\n",
       "  <tbody>\n",
       "    <tr>\n",
       "      <th>0</th>\n",
       "      <td>Pearson Chi-square ( 103.0) =</td>\n",
       "      <td>89.6720</td>\n",
       "    </tr>\n",
       "    <tr>\n",
       "      <th>1</th>\n",
       "      <td>p-value =</td>\n",
       "      <td>0.8225</td>\n",
       "    </tr>\n",
       "    <tr>\n",
       "      <th>2</th>\n",
       "      <td>Cramer's V =</td>\n",
       "      <td>0.2064</td>\n",
       "    </tr>\n",
       "  </tbody>\n",
       "</table>\n",
       "</div>"
      ],
      "text/plain": [
       "                  Chi-square test  results\n",
       "0  Pearson Chi-square ( 103.0) =   89.6720\n",
       "1                      p-value =    0.8225\n",
       "2                   Cramer's V =    0.2064"
      ]
     },
     "execution_count": 55,
     "metadata": {},
     "output_type": "execute_result"
    }
   ],
   "source": [
    "results"
   ]
  },
  {
   "cell_type": "code",
   "execution_count": 56,
   "metadata": {
    "execution": {
     "iopub.execute_input": "2021-03-13T04:58:26.031458Z",
     "iopub.status.busy": "2021-03-13T04:58:26.030249Z",
     "iopub.status.idle": "2021-03-13T04:58:26.215722Z",
     "shell.execute_reply": "2021-03-13T04:58:26.215106Z"
    },
    "id": "NnM04_1Ju0ZO",
    "outputId": "15de2f73-f688-4e0f-9055-9a682ef4eccb",
    "papermill": {
     "duration": 0.292858,
     "end_time": "2021-03-13T04:58:26.215903",
     "exception": false,
     "start_time": "2021-03-13T04:58:25.923045",
     "status": "completed"
    },
    "tags": []
   },
   "outputs": [
    {
     "data": {
      "text/html": [
       "<div>\n",
       "<style scoped>\n",
       "    .dataframe tbody tr th:only-of-type {\n",
       "        vertical-align: middle;\n",
       "    }\n",
       "\n",
       "    .dataframe tbody tr th {\n",
       "        vertical-align: top;\n",
       "    }\n",
       "\n",
       "    .dataframe thead tr th {\n",
       "        text-align: left;\n",
       "    }\n",
       "\n",
       "    .dataframe thead tr:last-of-type th {\n",
       "        text-align: right;\n",
       "    }\n",
       "</style>\n",
       "<table border=\"1\" class=\"dataframe\">\n",
       "  <thead>\n",
       "    <tr>\n",
       "      <th></th>\n",
       "      <th colspan=\"21\" halign=\"left\">Place</th>\n",
       "    </tr>\n",
       "    <tr>\n",
       "      <th>Place</th>\n",
       "      <th>Arghakhanchi</th>\n",
       "      <th>Bagmati</th>\n",
       "      <th>Bara</th>\n",
       "      <th>Bheri</th>\n",
       "      <th>Chitwan &amp; Parsa</th>\n",
       "      <th>Dhaulagiri</th>\n",
       "      <th>Gandaki</th>\n",
       "      <th>Gulmi</th>\n",
       "      <th>Janakpur</th>\n",
       "      <th>Kapilvastu</th>\n",
       "      <th>...</th>\n",
       "      <th>Outside country</th>\n",
       "      <th>Palpa</th>\n",
       "      <th>Rapti</th>\n",
       "      <th>Rautahat</th>\n",
       "      <th>Rupandehi</th>\n",
       "      <th>Sagarmatha</th>\n",
       "      <th>Sankhuwashava</th>\n",
       "      <th>Seti</th>\n",
       "      <th>Sindhupalchowk</th>\n",
       "      <th>All</th>\n",
       "    </tr>\n",
       "    <tr>\n",
       "      <th>Age</th>\n",
       "      <th></th>\n",
       "      <th></th>\n",
       "      <th></th>\n",
       "      <th></th>\n",
       "      <th></th>\n",
       "      <th></th>\n",
       "      <th></th>\n",
       "      <th></th>\n",
       "      <th></th>\n",
       "      <th></th>\n",
       "      <th></th>\n",
       "      <th></th>\n",
       "      <th></th>\n",
       "      <th></th>\n",
       "      <th></th>\n",
       "      <th></th>\n",
       "      <th></th>\n",
       "      <th></th>\n",
       "      <th></th>\n",
       "      <th></th>\n",
       "      <th></th>\n",
       "    </tr>\n",
       "  </thead>\n",
       "  <tbody>\n",
       "    <tr>\n",
       "      <th>0.0027</th>\n",
       "      <td>0.0</td>\n",
       "      <td>1.35</td>\n",
       "      <td>0.00</td>\n",
       "      <td>0.0</td>\n",
       "      <td>0.87</td>\n",
       "      <td>1.45</td>\n",
       "      <td>0.00</td>\n",
       "      <td>0.0</td>\n",
       "      <td>0.73</td>\n",
       "      <td>0.0</td>\n",
       "      <td>...</td>\n",
       "      <td>0.0</td>\n",
       "      <td>0.00</td>\n",
       "      <td>2.27</td>\n",
       "      <td>1.08</td>\n",
       "      <td>0.00</td>\n",
       "      <td>0.0</td>\n",
       "      <td>0.0</td>\n",
       "      <td>0.00</td>\n",
       "      <td>0.0</td>\n",
       "      <td>0.57</td>\n",
       "    </tr>\n",
       "    <tr>\n",
       "      <th>0.082</th>\n",
       "      <td>0.0</td>\n",
       "      <td>1.35</td>\n",
       "      <td>0.79</td>\n",
       "      <td>0.0</td>\n",
       "      <td>1.17</td>\n",
       "      <td>0.00</td>\n",
       "      <td>0.83</td>\n",
       "      <td>0.0</td>\n",
       "      <td>1.46</td>\n",
       "      <td>0.0</td>\n",
       "      <td>...</td>\n",
       "      <td>0.0</td>\n",
       "      <td>6.25</td>\n",
       "      <td>0.00</td>\n",
       "      <td>0.00</td>\n",
       "      <td>1.43</td>\n",
       "      <td>4.0</td>\n",
       "      <td>0.0</td>\n",
       "      <td>0.00</td>\n",
       "      <td>25.0</td>\n",
       "      <td>0.81</td>\n",
       "    </tr>\n",
       "    <tr>\n",
       "      <th>0.33</th>\n",
       "      <td>0.0</td>\n",
       "      <td>1.35</td>\n",
       "      <td>0.00</td>\n",
       "      <td>0.0</td>\n",
       "      <td>0.87</td>\n",
       "      <td>0.00</td>\n",
       "      <td>0.55</td>\n",
       "      <td>0.0</td>\n",
       "      <td>0.73</td>\n",
       "      <td>0.0</td>\n",
       "      <td>...</td>\n",
       "      <td>0.0</td>\n",
       "      <td>0.00</td>\n",
       "      <td>0.00</td>\n",
       "      <td>1.08</td>\n",
       "      <td>0.00</td>\n",
       "      <td>0.0</td>\n",
       "      <td>0.0</td>\n",
       "      <td>0.00</td>\n",
       "      <td>0.0</td>\n",
       "      <td>0.48</td>\n",
       "    </tr>\n",
       "    <tr>\n",
       "      <th>0.5</th>\n",
       "      <td>0.0</td>\n",
       "      <td>0.00</td>\n",
       "      <td>0.79</td>\n",
       "      <td>0.0</td>\n",
       "      <td>0.58</td>\n",
       "      <td>0.00</td>\n",
       "      <td>0.00</td>\n",
       "      <td>0.0</td>\n",
       "      <td>0.73</td>\n",
       "      <td>0.0</td>\n",
       "      <td>...</td>\n",
       "      <td>0.0</td>\n",
       "      <td>0.00</td>\n",
       "      <td>0.00</td>\n",
       "      <td>0.00</td>\n",
       "      <td>0.00</td>\n",
       "      <td>0.0</td>\n",
       "      <td>0.0</td>\n",
       "      <td>0.00</td>\n",
       "      <td>0.0</td>\n",
       "      <td>0.29</td>\n",
       "    </tr>\n",
       "    <tr>\n",
       "      <th>0.91</th>\n",
       "      <td>0.0</td>\n",
       "      <td>0.00</td>\n",
       "      <td>0.79</td>\n",
       "      <td>0.0</td>\n",
       "      <td>0.58</td>\n",
       "      <td>0.00</td>\n",
       "      <td>0.00</td>\n",
       "      <td>0.0</td>\n",
       "      <td>0.73</td>\n",
       "      <td>0.0</td>\n",
       "      <td>...</td>\n",
       "      <td>0.0</td>\n",
       "      <td>0.00</td>\n",
       "      <td>1.14</td>\n",
       "      <td>1.08</td>\n",
       "      <td>0.00</td>\n",
       "      <td>0.0</td>\n",
       "      <td>0.0</td>\n",
       "      <td>7.14</td>\n",
       "      <td>0.0</td>\n",
       "      <td>0.43</td>\n",
       "    </tr>\n",
       "    <tr>\n",
       "      <th>...</th>\n",
       "      <td>...</td>\n",
       "      <td>...</td>\n",
       "      <td>...</td>\n",
       "      <td>...</td>\n",
       "      <td>...</td>\n",
       "      <td>...</td>\n",
       "      <td>...</td>\n",
       "      <td>...</td>\n",
       "      <td>...</td>\n",
       "      <td>...</td>\n",
       "      <td>...</td>\n",
       "      <td>...</td>\n",
       "      <td>...</td>\n",
       "      <td>...</td>\n",
       "      <td>...</td>\n",
       "      <td>...</td>\n",
       "      <td>...</td>\n",
       "      <td>...</td>\n",
       "      <td>...</td>\n",
       "      <td>...</td>\n",
       "      <td>...</td>\n",
       "    </tr>\n",
       "    <tr>\n",
       "      <th>95</th>\n",
       "      <td>0.0</td>\n",
       "      <td>0.00</td>\n",
       "      <td>0.00</td>\n",
       "      <td>0.0</td>\n",
       "      <td>1.17</td>\n",
       "      <td>0.00</td>\n",
       "      <td>0.28</td>\n",
       "      <td>0.0</td>\n",
       "      <td>0.00</td>\n",
       "      <td>0.0</td>\n",
       "      <td>...</td>\n",
       "      <td>0.0</td>\n",
       "      <td>0.00</td>\n",
       "      <td>0.00</td>\n",
       "      <td>0.00</td>\n",
       "      <td>0.00</td>\n",
       "      <td>0.0</td>\n",
       "      <td>0.0</td>\n",
       "      <td>0.00</td>\n",
       "      <td>0.0</td>\n",
       "      <td>0.24</td>\n",
       "    </tr>\n",
       "    <tr>\n",
       "      <th>96</th>\n",
       "      <td>0.0</td>\n",
       "      <td>0.00</td>\n",
       "      <td>0.79</td>\n",
       "      <td>0.0</td>\n",
       "      <td>0.87</td>\n",
       "      <td>0.00</td>\n",
       "      <td>0.00</td>\n",
       "      <td>0.0</td>\n",
       "      <td>0.00</td>\n",
       "      <td>0.0</td>\n",
       "      <td>...</td>\n",
       "      <td>0.0</td>\n",
       "      <td>0.00</td>\n",
       "      <td>0.00</td>\n",
       "      <td>0.00</td>\n",
       "      <td>0.00</td>\n",
       "      <td>0.0</td>\n",
       "      <td>0.0</td>\n",
       "      <td>0.00</td>\n",
       "      <td>0.0</td>\n",
       "      <td>0.29</td>\n",
       "    </tr>\n",
       "    <tr>\n",
       "      <th>97</th>\n",
       "      <td>0.0</td>\n",
       "      <td>0.00</td>\n",
       "      <td>0.00</td>\n",
       "      <td>0.0</td>\n",
       "      <td>0.58</td>\n",
       "      <td>0.00</td>\n",
       "      <td>0.00</td>\n",
       "      <td>0.0</td>\n",
       "      <td>0.00</td>\n",
       "      <td>0.0</td>\n",
       "      <td>...</td>\n",
       "      <td>0.0</td>\n",
       "      <td>0.00</td>\n",
       "      <td>0.00</td>\n",
       "      <td>0.00</td>\n",
       "      <td>0.00</td>\n",
       "      <td>0.0</td>\n",
       "      <td>0.0</td>\n",
       "      <td>0.00</td>\n",
       "      <td>0.0</td>\n",
       "      <td>0.10</td>\n",
       "    </tr>\n",
       "    <tr>\n",
       "      <th>98</th>\n",
       "      <td>0.0</td>\n",
       "      <td>0.00</td>\n",
       "      <td>0.00</td>\n",
       "      <td>0.0</td>\n",
       "      <td>0.29</td>\n",
       "      <td>0.00</td>\n",
       "      <td>0.00</td>\n",
       "      <td>0.0</td>\n",
       "      <td>0.00</td>\n",
       "      <td>0.0</td>\n",
       "      <td>...</td>\n",
       "      <td>0.0</td>\n",
       "      <td>0.00</td>\n",
       "      <td>0.00</td>\n",
       "      <td>0.00</td>\n",
       "      <td>0.00</td>\n",
       "      <td>0.0</td>\n",
       "      <td>0.0</td>\n",
       "      <td>0.00</td>\n",
       "      <td>0.0</td>\n",
       "      <td>0.05</td>\n",
       "    </tr>\n",
       "    <tr>\n",
       "      <th>All</th>\n",
       "      <td>100.0</td>\n",
       "      <td>100.00</td>\n",
       "      <td>100.00</td>\n",
       "      <td>100.0</td>\n",
       "      <td>100.00</td>\n",
       "      <td>100.00</td>\n",
       "      <td>100.00</td>\n",
       "      <td>100.0</td>\n",
       "      <td>100.00</td>\n",
       "      <td>100.0</td>\n",
       "      <td>...</td>\n",
       "      <td>100.0</td>\n",
       "      <td>100.00</td>\n",
       "      <td>100.00</td>\n",
       "      <td>100.00</td>\n",
       "      <td>100.00</td>\n",
       "      <td>100.0</td>\n",
       "      <td>100.0</td>\n",
       "      <td>100.00</td>\n",
       "      <td>100.0</td>\n",
       "      <td>100.00</td>\n",
       "    </tr>\n",
       "  </tbody>\n",
       "</table>\n",
       "<p>105 rows × 26 columns</p>\n",
       "</div>"
      ],
      "text/plain": [
       "               Place                                                    \\\n",
       "Place   Arghakhanchi Bagmati    Bara  Bheri Chitwan & Parsa Dhaulagiri   \n",
       "Age                                                                      \n",
       "0.0027           0.0    1.35    0.00    0.0            0.87       1.45   \n",
       "0.082            0.0    1.35    0.79    0.0            1.17       0.00   \n",
       "0.33             0.0    1.35    0.00    0.0            0.87       0.00   \n",
       "0.5              0.0    0.00    0.79    0.0            0.58       0.00   \n",
       "0.91             0.0    0.00    0.79    0.0            0.58       0.00   \n",
       "...              ...     ...     ...    ...             ...        ...   \n",
       "95               0.0    0.00    0.00    0.0            1.17       0.00   \n",
       "96               0.0    0.00    0.79    0.0            0.87       0.00   \n",
       "97               0.0    0.00    0.00    0.0            0.58       0.00   \n",
       "98               0.0    0.00    0.00    0.0            0.29       0.00   \n",
       "All            100.0  100.00  100.00  100.0          100.00     100.00   \n",
       "\n",
       "                                           ...                          \\\n",
       "Place  Gandaki  Gulmi Janakpur Kapilvastu  ... Outside country   Palpa   \n",
       "Age                                        ...                           \n",
       "0.0027    0.00    0.0     0.73        0.0  ...             0.0    0.00   \n",
       "0.082     0.83    0.0     1.46        0.0  ...             0.0    6.25   \n",
       "0.33      0.55    0.0     0.73        0.0  ...             0.0    0.00   \n",
       "0.5       0.00    0.0     0.73        0.0  ...             0.0    0.00   \n",
       "0.91      0.00    0.0     0.73        0.0  ...             0.0    0.00   \n",
       "...        ...    ...      ...        ...  ...             ...     ...   \n",
       "95        0.28    0.0     0.00        0.0  ...             0.0    0.00   \n",
       "96        0.00    0.0     0.00        0.0  ...             0.0    0.00   \n",
       "97        0.00    0.0     0.00        0.0  ...             0.0    0.00   \n",
       "98        0.00    0.0     0.00        0.0  ...             0.0    0.00   \n",
       "All     100.00  100.0   100.00      100.0  ...           100.0  100.00   \n",
       "\n",
       "                                                                     \\\n",
       "Place    Rapti Rautahat Rupandehi Sagarmatha Sankhuwashava     Seti   \n",
       "Age                                                                   \n",
       "0.0027    2.27     1.08      0.00        0.0            0.0    0.00   \n",
       "0.082     0.00     0.00      1.43        4.0            0.0    0.00   \n",
       "0.33      0.00     1.08      0.00        0.0            0.0    0.00   \n",
       "0.5       0.00     0.00      0.00        0.0            0.0    0.00   \n",
       "0.91      1.14     1.08      0.00        0.0            0.0    7.14   \n",
       "...        ...      ...       ...        ...            ...     ...   \n",
       "95        0.00     0.00      0.00        0.0            0.0    0.00   \n",
       "96        0.00     0.00      0.00        0.0            0.0    0.00   \n",
       "97        0.00     0.00      0.00        0.0            0.0    0.00   \n",
       "98        0.00     0.00      0.00        0.0            0.0    0.00   \n",
       "All     100.00   100.00    100.00      100.0          100.0  100.00   \n",
       "\n",
       "                                \n",
       "Place  Sindhupalchowk      All  \n",
       "Age                             \n",
       "0.0027             0.0    0.57  \n",
       "0.082             25.0    0.81  \n",
       "0.33               0.0    0.48  \n",
       "0.5                0.0    0.29  \n",
       "0.91               0.0    0.43  \n",
       "...                ...     ...  \n",
       "95                 0.0    0.24  \n",
       "96                 0.0    0.29  \n",
       "97                 0.0    0.10  \n",
       "98                 0.0    0.05  \n",
       "All              100.0  100.00  \n",
       "\n",
       "[105 rows x 26 columns]"
      ]
     },
     "execution_count": 56,
     "metadata": {},
     "output_type": "execute_result"
    }
   ],
   "source": [
    "table, results = rp.crosstab(nch['Age'],nch['Place'], prop = 'col', test = 'chi-square')\n",
    "table"
   ]
  },
  {
   "cell_type": "code",
   "execution_count": 57,
   "metadata": {
    "execution": {
     "iopub.execute_input": "2021-03-13T04:58:26.499609Z",
     "iopub.status.busy": "2021-03-13T04:58:26.498414Z",
     "iopub.status.idle": "2021-03-13T04:58:26.503648Z",
     "shell.execute_reply": "2021-03-13T04:58:26.502935Z"
    },
    "id": "smRAqK2Iu0ZT",
    "outputId": "230703ef-362a-4d98-a158-415d8486e98f",
    "papermill": {
     "duration": 0.18904,
     "end_time": "2021-03-13T04:58:26.503827",
     "exception": false,
     "start_time": "2021-03-13T04:58:26.314787",
     "status": "completed"
    },
    "tags": []
   },
   "outputs": [
    {
     "data": {
      "text/html": [
       "<div>\n",
       "<style scoped>\n",
       "    .dataframe tbody tr th:only-of-type {\n",
       "        vertical-align: middle;\n",
       "    }\n",
       "\n",
       "    .dataframe tbody tr th {\n",
       "        vertical-align: top;\n",
       "    }\n",
       "\n",
       "    .dataframe thead th {\n",
       "        text-align: right;\n",
       "    }\n",
       "</style>\n",
       "<table border=\"1\" class=\"dataframe\">\n",
       "  <thead>\n",
       "    <tr style=\"text-align: right;\">\n",
       "      <th></th>\n",
       "      <th>Chi-square test</th>\n",
       "      <th>results</th>\n",
       "    </tr>\n",
       "  </thead>\n",
       "  <tbody>\n",
       "    <tr>\n",
       "      <th>0</th>\n",
       "      <td>Pearson Chi-square ( 2472.0) =</td>\n",
       "      <td>2136.9486</td>\n",
       "    </tr>\n",
       "    <tr>\n",
       "      <th>1</th>\n",
       "      <td>p-value =</td>\n",
       "      <td>1.0000</td>\n",
       "    </tr>\n",
       "    <tr>\n",
       "      <th>2</th>\n",
       "      <td>Cramer's V =</td>\n",
       "      <td>0.2057</td>\n",
       "    </tr>\n",
       "  </tbody>\n",
       "</table>\n",
       "</div>"
      ],
      "text/plain": [
       "                   Chi-square test    results\n",
       "0  Pearson Chi-square ( 2472.0) =   2136.9486\n",
       "1                       p-value =      1.0000\n",
       "2                    Cramer's V =      0.2057"
      ]
     },
     "execution_count": 57,
     "metadata": {},
     "output_type": "execute_result"
    }
   ],
   "source": [
    "results"
   ]
  },
  {
   "cell_type": "code",
   "execution_count": 58,
   "metadata": {
    "execution": {
     "iopub.execute_input": "2021-03-13T04:58:26.712607Z",
     "iopub.status.busy": "2021-03-13T04:58:26.711497Z",
     "iopub.status.idle": "2021-03-13T04:58:26.810135Z",
     "shell.execute_reply": "2021-03-13T04:58:26.810694Z"
    },
    "id": "ZBlwH8wmu0ZX",
    "outputId": "a176783c-fb46-467a-97aa-e04b8b006208",
    "papermill": {
     "duration": 0.207902,
     "end_time": "2021-03-13T04:58:26.810966",
     "exception": false,
     "start_time": "2021-03-13T04:58:26.603064",
     "status": "completed"
    },
    "tags": []
   },
   "outputs": [
    {
     "data": {
      "text/html": [
       "<div>\n",
       "<style scoped>\n",
       "    .dataframe tbody tr th:only-of-type {\n",
       "        vertical-align: middle;\n",
       "    }\n",
       "\n",
       "    .dataframe tbody tr th {\n",
       "        vertical-align: top;\n",
       "    }\n",
       "\n",
       "    .dataframe thead th {\n",
       "        text-align: right;\n",
       "    }\n",
       "</style>\n",
       "<table border=\"1\" class=\"dataframe\">\n",
       "  <thead>\n",
       "    <tr style=\"text-align: right;\">\n",
       "      <th></th>\n",
       "      <th>Chi-square test</th>\n",
       "      <th>results</th>\n",
       "    </tr>\n",
       "  </thead>\n",
       "  <tbody>\n",
       "    <tr>\n",
       "      <th>0</th>\n",
       "      <td>Pearson Chi-square ( 13.0) =</td>\n",
       "      <td>168.5257</td>\n",
       "    </tr>\n",
       "    <tr>\n",
       "      <th>1</th>\n",
       "      <td>p-value =</td>\n",
       "      <td>0.0000</td>\n",
       "    </tr>\n",
       "    <tr>\n",
       "      <th>2</th>\n",
       "      <td>Cramer's V =</td>\n",
       "      <td>0.2830</td>\n",
       "    </tr>\n",
       "  </tbody>\n",
       "</table>\n",
       "</div>"
      ],
      "text/plain": [
       "                 Chi-square test   results\n",
       "0  Pearson Chi-square ( 13.0) =   168.5257\n",
       "1                     p-value =     0.0000\n",
       "2                  Cramer's V =     0.2830"
      ]
     },
     "execution_count": 58,
     "metadata": {},
     "output_type": "execute_result"
    }
   ],
   "source": [
    "table, results = rp.crosstab(nch['Sex'],nch['Final Diagnosis'], prop = 'col', test = 'chi-square')\n",
    "table\n",
    "results\n"
   ]
  },
  {
   "cell_type": "code",
   "execution_count": 59,
   "metadata": {
    "execution": {
     "iopub.execute_input": "2021-03-13T04:58:27.025647Z",
     "iopub.status.busy": "2021-03-13T04:58:27.024406Z",
     "iopub.status.idle": "2021-03-13T04:58:27.138304Z",
     "shell.execute_reply": "2021-03-13T04:58:27.137636Z"
    },
    "id": "yF74Wvapu0Zf",
    "outputId": "9a91b89e-5a9b-4d32-c7a2-4545633f7d24",
    "papermill": {
     "duration": 0.226022,
     "end_time": "2021-03-13T04:58:27.138492",
     "exception": false,
     "start_time": "2021-03-13T04:58:26.912470",
     "status": "completed"
    },
    "tags": []
   },
   "outputs": [
    {
     "data": {
      "text/html": [
       "<div>\n",
       "<style scoped>\n",
       "    .dataframe tbody tr th:only-of-type {\n",
       "        vertical-align: middle;\n",
       "    }\n",
       "\n",
       "    .dataframe tbody tr th {\n",
       "        vertical-align: top;\n",
       "    }\n",
       "\n",
       "    .dataframe thead th {\n",
       "        text-align: right;\n",
       "    }\n",
       "</style>\n",
       "<table border=\"1\" class=\"dataframe\">\n",
       "  <thead>\n",
       "    <tr style=\"text-align: right;\">\n",
       "      <th></th>\n",
       "      <th>Chi-square test</th>\n",
       "      <th>results</th>\n",
       "    </tr>\n",
       "  </thead>\n",
       "  <tbody>\n",
       "    <tr>\n",
       "      <th>0</th>\n",
       "      <td>Pearson Chi-square ( 312.0) =</td>\n",
       "      <td>749.1463</td>\n",
       "    </tr>\n",
       "    <tr>\n",
       "      <th>1</th>\n",
       "      <td>p-value =</td>\n",
       "      <td>0.0000</td>\n",
       "    </tr>\n",
       "    <tr>\n",
       "      <th>2</th>\n",
       "      <td>Cramer's V =</td>\n",
       "      <td>0.1655</td>\n",
       "    </tr>\n",
       "  </tbody>\n",
       "</table>\n",
       "</div>"
      ],
      "text/plain": [
       "                  Chi-square test   results\n",
       "0  Pearson Chi-square ( 312.0) =   749.1463\n",
       "1                      p-value =     0.0000\n",
       "2                   Cramer's V =     0.1655"
      ]
     },
     "execution_count": 59,
     "metadata": {},
     "output_type": "execute_result"
    }
   ],
   "source": [
    "table, results = rp.crosstab(nch['Place'],nch['Final Diagnosis'], prop = 'col', test = 'chi-square')\n",
    "results"
   ]
  },
  {
   "cell_type": "code",
   "execution_count": 60,
   "metadata": {
    "execution": {
     "iopub.execute_input": "2021-03-13T04:58:27.356726Z",
     "iopub.status.busy": "2021-03-13T04:58:27.354434Z",
     "iopub.status.idle": "2021-03-13T04:58:31.332019Z",
     "shell.execute_reply": "2021-03-13T04:58:31.331272Z"
    },
    "id": "VMHo4kc1u0Zn",
    "outputId": "84168420-d9c0-447c-a93e-b3974f0046fd",
    "papermill": {
     "duration": 4.09138,
     "end_time": "2021-03-13T04:58:31.332196",
     "exception": false,
     "start_time": "2021-03-13T04:58:27.240816",
     "status": "completed"
    },
    "tags": []
   },
   "outputs": [
    {
     "data": {
      "image/png": "[encoded data removed]",
      "text/plain": [
       "<Figure size 432x288 with 1 Axes>"
      ]
     },
     "metadata": {},
     "output_type": "display_data"
    }
   ],
   "source": [
    "Age_count = nch['Age'].value_counts()\n",
    "sns.set(style=\"darkgrid\")\n",
    "sns.barplot(Age_count.index, Age_count.values, alpha=0.9)\n",
    "plt.title('Distribution of Age')\n",
    "plt.ylabel('Number of Occurrence', fontsize = 10)\n",
    "plt.xlabel('Age', fontsize =10)\n",
    "plt.show()"
   ]
  },
  {
   "cell_type": "code",
   "execution_count": 61,
   "metadata": {
    "execution": {
     "iopub.execute_input": "2021-03-13T04:58:31.578920Z",
     "iopub.status.busy": "2021-03-13T04:58:31.578066Z",
     "iopub.status.idle": "2021-03-13T04:58:31.866842Z",
     "shell.execute_reply": "2021-03-13T04:58:31.865746Z"
    },
    "id": "ucuARVXUu0Zs",
    "outputId": "1db8d281-b898-4f96-b104-532ddc9c6bfb",
    "papermill": {
     "duration": 0.432798,
     "end_time": "2021-03-13T04:58:31.867068",
     "exception": false,
     "start_time": "2021-03-13T04:58:31.434270",
     "status": "completed"
    },
    "tags": []
   },
   "outputs": [
    {
     "data": {
      "image/png": "[encoded data removed]",
      "text/plain": [
       "<Figure size 432x288 with 1 Axes>"
      ]
     },
     "metadata": {},
     "output_type": "display_data"
    }
   ],
   "source": [
    "nch = nch.rename(columns= {'Final Diagnosis': 'FinalDiagnosis'})\n",
    "FinalDiagnosis_count = nch['FinalDiagnosis'].value_counts()\n",
    "sns.set(style=\"darkgrid\")\n",
    "sns.barplot(FinalDiagnosis_count.index, FinalDiagnosis_count.values, alpha=0.9)\n",
    "plt.title('Final Diagnosis Distribution')\n",
    "plt.ylabel('Number of Occurrence', fontsize = 10 )\n",
    "plt.xlabel('Final Diagnosis', fontsize = 10)\n",
    "plt.show()"
   ]
  },
  {
   "cell_type": "code",
   "execution_count": 62,
   "metadata": {
    "execution": {
     "iopub.execute_input": "2021-03-13T04:58:32.104695Z",
     "iopub.status.busy": "2021-03-13T04:58:32.100810Z",
     "iopub.status.idle": "2021-03-13T04:58:32.237997Z",
     "shell.execute_reply": "2021-03-13T04:58:32.237189Z"
    },
    "id": "2zX7F2lgu0Zw",
    "outputId": "789e6056-91b8-42b0-a588-75cb5cddd86e",
    "papermill": {
     "duration": 0.268309,
     "end_time": "2021-03-13T04:58:32.238188",
     "exception": false,
     "start_time": "2021-03-13T04:58:31.969879",
     "status": "completed"
    },
    "tags": []
   },
   "outputs": [
    {
     "data": {
      "image/png": "[encoded data removed]",
      "text/plain": [
       "<Figure size 432x288 with 1 Axes>"
      ]
     },
     "metadata": {},
     "output_type": "display_data"
    }
   ],
   "source": [
    "Sex_count = nch['Sex'].value_counts()\n",
    "sns.set(style=\"darkgrid\")\n",
    "sns.barplot(Sex_count.index, Sex_count.values, alpha=0.9)\n",
    "plt.title('Sex distribution')\n",
    "plt.ylabel('Number of occurrence', fontsize = 10)\n",
    "plt.xlabel('Sex', fontsize = 10)\n",
    "plt.show()"
   ]
  },
  {
   "cell_type": "code",
   "execution_count": 63,
   "metadata": {
    "execution": {
     "iopub.execute_input": "2021-03-13T04:58:32.455269Z",
     "iopub.status.busy": "2021-03-13T04:58:32.454435Z",
     "iopub.status.idle": "2021-03-13T04:58:32.458075Z",
     "shell.execute_reply": "2021-03-13T04:58:32.458692Z"
    },
    "id": "EKu4DjBpu0Z0",
    "outputId": "19a0b315-bf86-4df1-a233-8364c2348266",
    "papermill": {
     "duration": 0.117014,
     "end_time": "2021-03-13T04:58:32.458928",
     "exception": false,
     "start_time": "2021-03-13T04:58:32.341914",
     "status": "completed"
    },
    "tags": []
   },
   "outputs": [
    {
     "data": {
      "text/plain": [
       "Female    1163\n",
       "Male       941\n",
       "Name: Sex, dtype: int64"
      ]
     },
     "execution_count": 63,
     "metadata": {},
     "output_type": "execute_result"
    }
   ],
   "source": [
    "nch[\"Sex\"].value_counts()"
   ]
  },
  {
   "cell_type": "code",
   "execution_count": 64,
   "metadata": {
    "execution": {
     "iopub.execute_input": "2021-03-13T04:58:32.677095Z",
     "iopub.status.busy": "2021-03-13T04:58:32.676261Z",
     "iopub.status.idle": "2021-03-13T04:58:32.678953Z",
     "shell.execute_reply": "2021-03-13T04:58:32.679453Z"
    },
    "id": "4fPW4hRJu0Z4",
    "papermill": {
     "duration": 0.115157,
     "end_time": "2021-03-13T04:58:32.679689",
     "exception": false,
     "start_time": "2021-03-13T04:58:32.564532",
     "status": "completed"
    },
    "tags": []
   },
   "outputs": [],
   "source": [
    "from sklearn.preprocessing import LabelEncoder #change sex to numerical by label encoder\n",
    "number = LabelEncoder()\n",
    "nch[\"Sex\"] = number.fit_transform(nch[\"Sex\"].astype('str'))"
   ]
  },
  {
   "cell_type": "code",
   "execution_count": 65,
   "metadata": {
    "execution": {
     "iopub.execute_input": "2021-03-13T04:58:32.893597Z",
     "iopub.status.busy": "2021-03-13T04:58:32.892889Z",
     "iopub.status.idle": "2021-03-13T04:58:32.901265Z",
     "shell.execute_reply": "2021-03-13T04:58:32.901932Z"
    },
    "id": "m8vgyjVFu0Z7",
    "outputId": "a4ded361-f960-408d-c0e7-931315b5350c",
    "papermill": {
     "duration": 0.116915,
     "end_time": "2021-03-13T04:58:32.902154",
     "exception": false,
     "start_time": "2021-03-13T04:58:32.785239",
     "status": "completed"
    },
    "tags": []
   },
   "outputs": [
    {
     "data": {
      "text/plain": [
       "0    1163\n",
       "1     941\n",
       "Name: Sex, dtype: int64"
      ]
     },
     "execution_count": 65,
     "metadata": {},
     "output_type": "execute_result"
    }
   ],
   "source": [
    "nch[\"Sex\"].value_counts()"
   ]
  },
  {
   "cell_type": "code",
   "execution_count": 66,
   "metadata": {
    "execution": {
     "iopub.execute_input": "2021-03-13T04:58:33.120921Z",
     "iopub.status.busy": "2021-03-13T04:58:33.120179Z",
     "iopub.status.idle": "2021-03-13T04:58:33.134256Z",
     "shell.execute_reply": "2021-03-13T04:58:33.134763Z"
    },
    "id": "qGjGaCLVu0aB",
    "outputId": "ec30e51e-3c47-4d17-ea3c-d36b6074481c",
    "papermill": {
     "duration": 0.127311,
     "end_time": "2021-03-13T04:58:33.134997",
     "exception": false,
     "start_time": "2021-03-13T04:58:33.007686",
     "status": "completed"
    },
    "tags": []
   },
   "outputs": [
    {
     "data": {
      "text/html": [
       "<div>\n",
       "<style scoped>\n",
       "    .dataframe tbody tr th:only-of-type {\n",
       "        vertical-align: middle;\n",
       "    }\n",
       "\n",
       "    .dataframe tbody tr th {\n",
       "        vertical-align: top;\n",
       "    }\n",
       "\n",
       "    .dataframe thead th {\n",
       "        text-align: right;\n",
       "    }\n",
       "</style>\n",
       "<table border=\"1\" class=\"dataframe\">\n",
       "  <thead>\n",
       "    <tr style=\"text-align: right;\">\n",
       "      <th></th>\n",
       "      <th>Age</th>\n",
       "      <th>Sex</th>\n",
       "      <th>Place</th>\n",
       "      <th>FinalDiagnosis</th>\n",
       "    </tr>\n",
       "  </thead>\n",
       "  <tbody>\n",
       "    <tr>\n",
       "      <th>28</th>\n",
       "      <td>77</td>\n",
       "      <td>0</td>\n",
       "      <td>Chitwan &amp; Parsa</td>\n",
       "      <td>Gynaecology</td>\n",
       "    </tr>\n",
       "    <tr>\n",
       "      <th>29</th>\n",
       "      <td>31</td>\n",
       "      <td>0</td>\n",
       "      <td>Rupandehi</td>\n",
       "      <td>Gynaecology</td>\n",
       "    </tr>\n",
       "    <tr>\n",
       "      <th>37</th>\n",
       "      <td>30</td>\n",
       "      <td>0</td>\n",
       "      <td>Seti</td>\n",
       "      <td>Gynaecology</td>\n",
       "    </tr>\n",
       "    <tr>\n",
       "      <th>80</th>\n",
       "      <td>27</td>\n",
       "      <td>0</td>\n",
       "      <td>Rautahat</td>\n",
       "      <td>Gynaecology</td>\n",
       "    </tr>\n",
       "    <tr>\n",
       "      <th>123</th>\n",
       "      <td>66</td>\n",
       "      <td>0</td>\n",
       "      <td>Nawalparasi</td>\n",
       "      <td>Gynaecology</td>\n",
       "    </tr>\n",
       "    <tr>\n",
       "      <th>124</th>\n",
       "      <td>73</td>\n",
       "      <td>0</td>\n",
       "      <td>Nawalparasi</td>\n",
       "      <td>Gynaecology</td>\n",
       "    </tr>\n",
       "    <tr>\n",
       "      <th>150</th>\n",
       "      <td>48</td>\n",
       "      <td>0</td>\n",
       "      <td>Dhaulagiri</td>\n",
       "      <td>Gynaecology</td>\n",
       "    </tr>\n",
       "    <tr>\n",
       "      <th>160</th>\n",
       "      <td>49</td>\n",
       "      <td>0</td>\n",
       "      <td>Kapilvastu</td>\n",
       "      <td>Gynaecology</td>\n",
       "    </tr>\n",
       "    <tr>\n",
       "      <th>181</th>\n",
       "      <td>21</td>\n",
       "      <td>0</td>\n",
       "      <td>Rupandehi</td>\n",
       "      <td>Gynaecology</td>\n",
       "    </tr>\n",
       "    <tr>\n",
       "      <th>188</th>\n",
       "      <td>51</td>\n",
       "      <td>0</td>\n",
       "      <td>Makwanpur</td>\n",
       "      <td>Gynaecology</td>\n",
       "    </tr>\n",
       "  </tbody>\n",
       "</table>\n",
       "</div>"
      ],
      "text/plain": [
       "    Age  Sex            Place FinalDiagnosis\n",
       "28   77    0  Chitwan & Parsa    Gynaecology\n",
       "29   31    0        Rupandehi    Gynaecology\n",
       "37   30    0             Seti    Gynaecology\n",
       "80   27    0         Rautahat    Gynaecology\n",
       "123  66    0      Nawalparasi    Gynaecology\n",
       "124  73    0      Nawalparasi    Gynaecology\n",
       "150  48    0       Dhaulagiri    Gynaecology\n",
       "160  49    0       Kapilvastu    Gynaecology\n",
       "181  21    0        Rupandehi    Gynaecology\n",
       "188  51    0        Makwanpur    Gynaecology"
      ]
     },
     "execution_count": 66,
     "metadata": {},
     "output_type": "execute_result"
    }
   ],
   "source": [
    "nch.head(10)"
   ]
  },
  {
   "cell_type": "code",
   "execution_count": 67,
   "metadata": {
    "execution": {
     "iopub.execute_input": "2021-03-13T04:58:33.356944Z",
     "iopub.status.busy": "2021-03-13T04:58:33.355730Z",
     "iopub.status.idle": "2021-03-13T04:58:33.361193Z",
     "shell.execute_reply": "2021-03-13T04:58:33.360596Z"
    },
    "id": "Z5woCuppu0aE",
    "outputId": "a0270a5f-95e2-4325-fcd0-20e961e45d08",
    "papermill": {
     "duration": 0.122675,
     "end_time": "2021-03-13T04:58:33.361372",
     "exception": false,
     "start_time": "2021-03-13T04:58:33.238697",
     "status": "completed"
    },
    "tags": []
   },
   "outputs": [
    {
     "data": {
      "text/plain": [
       "MED               398\n",
       "SURGICAL          392\n",
       "ORTHO             284\n",
       "ICU               268\n",
       "Gynaecology       175\n",
       "Cardiology        133\n",
       "PED               126\n",
       "PSY               104\n",
       "Clinical           58\n",
       "CTVS               49\n",
       "NICU               44\n",
       "Cardiology ICU     32\n",
       "CTVS-ICU           23\n",
       "NEURO              18\n",
       "Name: FinalDiagnosis, dtype: int64"
      ]
     },
     "execution_count": 67,
     "metadata": {},
     "output_type": "execute_result"
    }
   ],
   "source": [
    "nch['FinalDiagnosis'].value_counts()"
   ]
  },
  {
   "cell_type": "code",
   "execution_count": 68,
   "metadata": {
    "execution": {
     "iopub.execute_input": "2021-03-13T04:58:33.581493Z",
     "iopub.status.busy": "2021-03-13T04:58:33.580523Z",
     "iopub.status.idle": "2021-03-13T04:58:33.584363Z",
     "shell.execute_reply": "2021-03-13T04:58:33.585058Z"
    },
    "id": "0Paq_Hufu0aJ",
    "outputId": "aabac4a5-8afe-4a46-b5cf-1355f3bdf655",
    "papermill": {
     "duration": 0.11907,
     "end_time": "2021-03-13T04:58:33.585421",
     "exception": false,
     "start_time": "2021-03-13T04:58:33.466351",
     "status": "completed"
    },
    "tags": []
   },
   "outputs": [
    {
     "name": "stdout",
     "output_type": "stream",
     "text": [
      "object\n"
     ]
    }
   ],
   "source": [
    "print(nch['FinalDiagnosis'].dtypes)"
   ]
  },
  {
   "cell_type": "code",
   "execution_count": 69,
   "metadata": {
    "execution": {
     "iopub.execute_input": "2021-03-13T04:58:33.805220Z",
     "iopub.status.busy": "2021-03-13T04:58:33.804316Z",
     "iopub.status.idle": "2021-03-13T04:58:33.808013Z",
     "shell.execute_reply": "2021-03-13T04:58:33.807276Z"
    },
    "id": "6IyickPKu0aN",
    "papermill": {
     "duration": 0.117287,
     "end_time": "2021-03-13T04:58:33.808190",
     "exception": false,
     "start_time": "2021-03-13T04:58:33.690903",
     "status": "completed"
    },
    "tags": []
   },
   "outputs": [],
   "source": [
    "nch['Age'] = nch.Age.astype(float)"
   ]
  },
  {
   "cell_type": "code",
   "execution_count": 70,
   "metadata": {
    "execution": {
     "iopub.execute_input": "2021-03-13T04:58:34.025655Z",
     "iopub.status.busy": "2021-03-13T04:58:34.024655Z",
     "iopub.status.idle": "2021-03-13T04:58:34.029079Z",
     "shell.execute_reply": "2021-03-13T04:58:34.028363Z"
    },
    "id": "CPg8uirsu0aU",
    "outputId": "f6b14365-11e0-4d02-9c59-9fe9b63ae393",
    "papermill": {
     "duration": 0.116382,
     "end_time": "2021-03-13T04:58:34.029249",
     "exception": false,
     "start_time": "2021-03-13T04:58:33.912867",
     "status": "completed"
    },
    "tags": []
   },
   "outputs": [
    {
     "name": "stdout",
     "output_type": "stream",
     "text": [
      "int64\n"
     ]
    }
   ],
   "source": [
    "print(nch['Sex'].dtypes)"
   ]
  },
  {
   "cell_type": "code",
   "execution_count": 71,
   "metadata": {
    "execution": {
     "iopub.execute_input": "2021-03-13T04:58:34.248189Z",
     "iopub.status.busy": "2021-03-13T04:58:34.247384Z",
     "iopub.status.idle": "2021-03-13T04:58:34.250582Z",
     "shell.execute_reply": "2021-03-13T04:58:34.251107Z"
    },
    "id": "1el7FMywu0ab",
    "outputId": "71c794b5-219c-42d6-b7f5-ab47e1a31702",
    "papermill": {
     "duration": 0.116307,
     "end_time": "2021-03-13T04:58:34.251309",
     "exception": false,
     "start_time": "2021-03-13T04:58:34.135002",
     "status": "completed"
    },
    "tags": []
   },
   "outputs": [
    {
     "name": "stdout",
     "output_type": "stream",
     "text": [
      "object\n"
     ]
    }
   ],
   "source": [
    "print(nch['Place'].dtypes)"
   ]
  },
  {
   "cell_type": "code",
   "execution_count": 72,
   "metadata": {
    "execution": {
     "iopub.execute_input": "2021-03-13T04:58:34.508173Z",
     "iopub.status.busy": "2021-03-13T04:58:34.507389Z",
     "iopub.status.idle": "2021-03-13T04:58:34.512155Z",
     "shell.execute_reply": "2021-03-13T04:58:34.511374Z"
    },
    "id": "-EgBIB9Zu0ai",
    "outputId": "29960b78-b85c-42de-8be9-05549d7cf8d7",
    "papermill": {
     "duration": 0.14136,
     "end_time": "2021-03-13T04:58:34.512381",
     "exception": false,
     "start_time": "2021-03-13T04:58:34.371021",
     "status": "completed"
    },
    "tags": []
   },
   "outputs": [
    {
     "name": "stdout",
     "output_type": "stream",
     "text": [
      "float64\n"
     ]
    }
   ],
   "source": [
    "print(nch['Age'].dtypes)"
   ]
  },
  {
   "cell_type": "code",
   "execution_count": 73,
   "metadata": {
    "execution": {
     "iopub.execute_input": "2021-03-13T04:58:34.758357Z",
     "iopub.status.busy": "2021-03-13T04:58:34.734810Z",
     "iopub.status.idle": "2021-03-13T04:58:38.491699Z",
     "shell.execute_reply": "2021-03-13T04:58:38.490966Z"
    },
    "id": "pctzaDAMu0am",
    "outputId": "3e2a8c5e-c2bf-4d35-b3ab-42b9c2911fc8",
    "papermill": {
     "duration": 3.873116,
     "end_time": "2021-03-13T04:58:38.491887",
     "exception": false,
     "start_time": "2021-03-13T04:58:34.618771",
     "status": "completed"
    },
    "tags": []
   },
   "outputs": [
    {
     "data": {
      "text/plain": [
       "<AxesSubplot:>"
      ]
     },
     "execution_count": 73,
     "metadata": {},
     "output_type": "execute_result"
    },
    {
     "data": {
      "image/png": "[encoded data removed]",
      "text/plain": [
       "<Figure size 432x288 with 1 Axes>"
      ]
     },
     "metadata": {},
     "output_type": "display_data"
    }
   ],
   "source": [
    "nch['Age'].value_counts().plot.bar()"
   ]
  },
  {
   "cell_type": "code",
   "execution_count": 74,
   "metadata": {
    "execution": {
     "iopub.execute_input": "2021-03-13T04:58:38.721137Z",
     "iopub.status.busy": "2021-03-13T04:58:38.720263Z",
     "iopub.status.idle": "2021-03-13T04:58:38.724630Z",
     "shell.execute_reply": "2021-03-13T04:58:38.724041Z"
    },
    "id": "g2ZyuLY5u0ar",
    "outputId": "1a9c7e84-6b6f-44c2-fa78-baf1b0343168",
    "papermill": {
     "duration": 0.123321,
     "end_time": "2021-03-13T04:58:38.724796",
     "exception": false,
     "start_time": "2021-03-13T04:58:38.601475",
     "status": "completed"
    },
    "tags": []
   },
   "outputs": [
    {
     "data": {
      "text/plain": [
       "35.0     48\n",
       "45.0     46\n",
       "40.0     41\n",
       "22.0     39\n",
       "65.0     36\n",
       "         ..\n",
       "89.0      3\n",
       "93.0      2\n",
       "97.0      2\n",
       "98.0      1\n",
       "105.0     1\n",
       "Name: Age, Length: 104, dtype: int64"
      ]
     },
     "execution_count": 74,
     "metadata": {},
     "output_type": "execute_result"
    }
   ],
   "source": [
    "nch['Age'].value_counts()"
   ]
  },
  {
   "cell_type": "code",
   "execution_count": 75,
   "metadata": {
    "execution": {
     "iopub.execute_input": "2021-03-13T04:58:38.948015Z",
     "iopub.status.busy": "2021-03-13T04:58:38.947086Z",
     "iopub.status.idle": "2021-03-13T04:58:38.963390Z",
     "shell.execute_reply": "2021-03-13T04:58:38.962505Z"
    },
    "id": "5VkHvzBtu0aw",
    "outputId": "b3aa22e5-b972-48bf-cb80-1f8b08997a70",
    "papermill": {
     "duration": 0.129217,
     "end_time": "2021-03-13T04:58:38.963567",
     "exception": false,
     "start_time": "2021-03-13T04:58:38.834350",
     "status": "completed"
    },
    "tags": []
   },
   "outputs": [
    {
     "data": {
      "text/html": [
       "<div>\n",
       "<style scoped>\n",
       "    .dataframe tbody tr th:only-of-type {\n",
       "        vertical-align: middle;\n",
       "    }\n",
       "\n",
       "    .dataframe tbody tr th {\n",
       "        vertical-align: top;\n",
       "    }\n",
       "\n",
       "    .dataframe thead th {\n",
       "        text-align: right;\n",
       "    }\n",
       "</style>\n",
       "<table border=\"1\" class=\"dataframe\">\n",
       "  <thead>\n",
       "    <tr style=\"text-align: right;\">\n",
       "      <th></th>\n",
       "      <th>Age</th>\n",
       "      <th>Sex</th>\n",
       "      <th>Place</th>\n",
       "      <th>FinalDiagnosis</th>\n",
       "    </tr>\n",
       "  </thead>\n",
       "  <tbody>\n",
       "    <tr>\n",
       "      <th>28</th>\n",
       "      <td>77.0</td>\n",
       "      <td>0</td>\n",
       "      <td>Chitwan &amp; Parsa</td>\n",
       "      <td>Gynaecology</td>\n",
       "    </tr>\n",
       "    <tr>\n",
       "      <th>29</th>\n",
       "      <td>31.0</td>\n",
       "      <td>0</td>\n",
       "      <td>Rupandehi</td>\n",
       "      <td>Gynaecology</td>\n",
       "    </tr>\n",
       "    <tr>\n",
       "      <th>37</th>\n",
       "      <td>30.0</td>\n",
       "      <td>0</td>\n",
       "      <td>Seti</td>\n",
       "      <td>Gynaecology</td>\n",
       "    </tr>\n",
       "    <tr>\n",
       "      <th>80</th>\n",
       "      <td>27.0</td>\n",
       "      <td>0</td>\n",
       "      <td>Rautahat</td>\n",
       "      <td>Gynaecology</td>\n",
       "    </tr>\n",
       "    <tr>\n",
       "      <th>123</th>\n",
       "      <td>66.0</td>\n",
       "      <td>0</td>\n",
       "      <td>Nawalparasi</td>\n",
       "      <td>Gynaecology</td>\n",
       "    </tr>\n",
       "    <tr>\n",
       "      <th>124</th>\n",
       "      <td>73.0</td>\n",
       "      <td>0</td>\n",
       "      <td>Nawalparasi</td>\n",
       "      <td>Gynaecology</td>\n",
       "    </tr>\n",
       "    <tr>\n",
       "      <th>150</th>\n",
       "      <td>48.0</td>\n",
       "      <td>0</td>\n",
       "      <td>Dhaulagiri</td>\n",
       "      <td>Gynaecology</td>\n",
       "    </tr>\n",
       "    <tr>\n",
       "      <th>160</th>\n",
       "      <td>49.0</td>\n",
       "      <td>0</td>\n",
       "      <td>Kapilvastu</td>\n",
       "      <td>Gynaecology</td>\n",
       "    </tr>\n",
       "    <tr>\n",
       "      <th>181</th>\n",
       "      <td>21.0</td>\n",
       "      <td>0</td>\n",
       "      <td>Rupandehi</td>\n",
       "      <td>Gynaecology</td>\n",
       "    </tr>\n",
       "    <tr>\n",
       "      <th>188</th>\n",
       "      <td>51.0</td>\n",
       "      <td>0</td>\n",
       "      <td>Makwanpur</td>\n",
       "      <td>Gynaecology</td>\n",
       "    </tr>\n",
       "  </tbody>\n",
       "</table>\n",
       "</div>"
      ],
      "text/plain": [
       "      Age  Sex            Place FinalDiagnosis\n",
       "28   77.0    0  Chitwan & Parsa    Gynaecology\n",
       "29   31.0    0        Rupandehi    Gynaecology\n",
       "37   30.0    0             Seti    Gynaecology\n",
       "80   27.0    0         Rautahat    Gynaecology\n",
       "123  66.0    0      Nawalparasi    Gynaecology\n",
       "124  73.0    0      Nawalparasi    Gynaecology\n",
       "150  48.0    0       Dhaulagiri    Gynaecology\n",
       "160  49.0    0       Kapilvastu    Gynaecology\n",
       "181  21.0    0        Rupandehi    Gynaecology\n",
       "188  51.0    0        Makwanpur    Gynaecology"
      ]
     },
     "execution_count": 75,
     "metadata": {},
     "output_type": "execute_result"
    }
   ],
   "source": [
    "nch.head(10)"
   ]
  },
  {
   "cell_type": "code",
   "execution_count": 76,
   "metadata": {
    "execution": {
     "iopub.execute_input": "2021-03-13T04:58:39.186758Z",
     "iopub.status.busy": "2021-03-13T04:58:39.186035Z",
     "iopub.status.idle": "2021-03-13T04:58:39.194968Z",
     "shell.execute_reply": "2021-03-13T04:58:39.195681Z"
    },
    "id": "M6Ojz-ZWu0a4",
    "papermill": {
     "duration": 0.122507,
     "end_time": "2021-03-13T04:58:39.195913",
     "exception": false,
     "start_time": "2021-03-13T04:58:39.073406",
     "status": "completed"
    },
    "tags": []
   },
   "outputs": [],
   "source": [
    "number = LabelEncoder()\n",
    "nch[\"Place\"] = number.fit_transform(nch[\"Place\"].astype('str'))\n",
    "nch[\"FinalDiagnosis\"] = number.fit_transform(nch[\"FinalDiagnosis\"].astype('str'))"
   ]
  },
  {
   "cell_type": "code",
   "execution_count": 77,
   "metadata": {
    "execution": {
     "iopub.execute_input": "2021-03-13T04:58:39.456116Z",
     "iopub.status.busy": "2021-03-13T04:58:39.455251Z",
     "iopub.status.idle": "2021-03-13T04:58:39.482656Z",
     "shell.execute_reply": "2021-03-13T04:58:39.481555Z"
    },
    "id": "70kFBor0u0bA",
    "outputId": "535c3412-5c72-4122-c1c4-7fd9504b2b04",
    "papermill": {
     "duration": 0.162184,
     "end_time": "2021-03-13T04:58:39.482941",
     "exception": false,
     "start_time": "2021-03-13T04:58:39.320757",
     "status": "completed"
    },
    "tags": []
   },
   "outputs": [
    {
     "data": {
      "text/html": [
       "<div>\n",
       "<style scoped>\n",
       "    .dataframe tbody tr th:only-of-type {\n",
       "        vertical-align: middle;\n",
       "    }\n",
       "\n",
       "    .dataframe tbody tr th {\n",
       "        vertical-align: top;\n",
       "    }\n",
       "\n",
       "    .dataframe thead th {\n",
       "        text-align: right;\n",
       "    }\n",
       "</style>\n",
       "<table border=\"1\" class=\"dataframe\">\n",
       "  <thead>\n",
       "    <tr style=\"text-align: right;\">\n",
       "      <th></th>\n",
       "      <th>Age</th>\n",
       "      <th>Sex</th>\n",
       "      <th>Place</th>\n",
       "      <th>FinalDiagnosis</th>\n",
       "    </tr>\n",
       "  </thead>\n",
       "  <tbody>\n",
       "    <tr>\n",
       "      <th>28</th>\n",
       "      <td>77.0</td>\n",
       "      <td>0</td>\n",
       "      <td>4</td>\n",
       "      <td>5</td>\n",
       "    </tr>\n",
       "    <tr>\n",
       "      <th>29</th>\n",
       "      <td>31.0</td>\n",
       "      <td>0</td>\n",
       "      <td>20</td>\n",
       "      <td>5</td>\n",
       "    </tr>\n",
       "    <tr>\n",
       "      <th>37</th>\n",
       "      <td>30.0</td>\n",
       "      <td>0</td>\n",
       "      <td>23</td>\n",
       "      <td>5</td>\n",
       "    </tr>\n",
       "    <tr>\n",
       "      <th>80</th>\n",
       "      <td>27.0</td>\n",
       "      <td>0</td>\n",
       "      <td>19</td>\n",
       "      <td>5</td>\n",
       "    </tr>\n",
       "    <tr>\n",
       "      <th>123</th>\n",
       "      <td>66.0</td>\n",
       "      <td>0</td>\n",
       "      <td>15</td>\n",
       "      <td>5</td>\n",
       "    </tr>\n",
       "    <tr>\n",
       "      <th>124</th>\n",
       "      <td>73.0</td>\n",
       "      <td>0</td>\n",
       "      <td>15</td>\n",
       "      <td>5</td>\n",
       "    </tr>\n",
       "    <tr>\n",
       "      <th>150</th>\n",
       "      <td>48.0</td>\n",
       "      <td>0</td>\n",
       "      <td>5</td>\n",
       "      <td>5</td>\n",
       "    </tr>\n",
       "    <tr>\n",
       "      <th>160</th>\n",
       "      <td>49.0</td>\n",
       "      <td>0</td>\n",
       "      <td>9</td>\n",
       "      <td>5</td>\n",
       "    </tr>\n",
       "    <tr>\n",
       "      <th>181</th>\n",
       "      <td>21.0</td>\n",
       "      <td>0</td>\n",
       "      <td>20</td>\n",
       "      <td>5</td>\n",
       "    </tr>\n",
       "    <tr>\n",
       "      <th>188</th>\n",
       "      <td>51.0</td>\n",
       "      <td>0</td>\n",
       "      <td>13</td>\n",
       "      <td>5</td>\n",
       "    </tr>\n",
       "  </tbody>\n",
       "</table>\n",
       "</div>"
      ],
      "text/plain": [
       "      Age  Sex  Place  FinalDiagnosis\n",
       "28   77.0    0      4               5\n",
       "29   31.0    0     20               5\n",
       "37   30.0    0     23               5\n",
       "80   27.0    0     19               5\n",
       "123  66.0    0     15               5\n",
       "124  73.0    0     15               5\n",
       "150  48.0    0      5               5\n",
       "160  49.0    0      9               5\n",
       "181  21.0    0     20               5\n",
       "188  51.0    0     13               5"
      ]
     },
     "execution_count": 77,
     "metadata": {},
     "output_type": "execute_result"
    }
   ],
   "source": [
    "nch.head(10) #all are changed to label encoding"
   ]
  },
  {
   "cell_type": "code",
   "execution_count": 78,
   "metadata": {
    "execution": {
     "iopub.execute_input": "2021-03-13T04:58:39.748440Z",
     "iopub.status.busy": "2021-03-13T04:58:39.747353Z",
     "iopub.status.idle": "2021-03-13T04:58:39.765950Z",
     "shell.execute_reply": "2021-03-13T04:58:39.765076Z"
    },
    "id": "TrQ6z-7Ou0bG",
    "outputId": "4c0e787a-b976-4696-d66a-7f5beeedd173",
    "papermill": {
     "duration": 0.158874,
     "end_time": "2021-03-13T04:58:39.766136",
     "exception": false,
     "start_time": "2021-03-13T04:58:39.607262",
     "status": "completed"
    },
    "tags": []
   },
   "outputs": [
    {
     "data": {
      "text/html": [
       "<div>\n",
       "<style scoped>\n",
       "    .dataframe tbody tr th:only-of-type {\n",
       "        vertical-align: middle;\n",
       "    }\n",
       "\n",
       "    .dataframe tbody tr th {\n",
       "        vertical-align: top;\n",
       "    }\n",
       "\n",
       "    .dataframe thead th {\n",
       "        text-align: right;\n",
       "    }\n",
       "</style>\n",
       "<table border=\"1\" class=\"dataframe\">\n",
       "  <thead>\n",
       "    <tr style=\"text-align: right;\">\n",
       "      <th></th>\n",
       "      <th>Age</th>\n",
       "      <th>Sex</th>\n",
       "      <th>Place</th>\n",
       "      <th>FinalDiagnosis</th>\n",
       "    </tr>\n",
       "  </thead>\n",
       "  <tbody>\n",
       "    <tr>\n",
       "      <th>Age</th>\n",
       "      <td>1.000000</td>\n",
       "      <td>0.029767</td>\n",
       "      <td>-0.061904</td>\n",
       "      <td>-0.193856</td>\n",
       "    </tr>\n",
       "    <tr>\n",
       "      <th>Sex</th>\n",
       "      <td>0.029767</td>\n",
       "      <td>1.000000</td>\n",
       "      <td>-0.001693</td>\n",
       "      <td>0.045048</td>\n",
       "    </tr>\n",
       "    <tr>\n",
       "      <th>Place</th>\n",
       "      <td>-0.061904</td>\n",
       "      <td>-0.001693</td>\n",
       "      <td>1.000000</td>\n",
       "      <td>0.040684</td>\n",
       "    </tr>\n",
       "    <tr>\n",
       "      <th>FinalDiagnosis</th>\n",
       "      <td>-0.193856</td>\n",
       "      <td>0.045048</td>\n",
       "      <td>0.040684</td>\n",
       "      <td>1.000000</td>\n",
       "    </tr>\n",
       "  </tbody>\n",
       "</table>\n",
       "</div>"
      ],
      "text/plain": [
       "                     Age       Sex     Place  FinalDiagnosis\n",
       "Age             1.000000  0.029767 -0.061904       -0.193856\n",
       "Sex             0.029767  1.000000 -0.001693        0.045048\n",
       "Place          -0.061904 -0.001693  1.000000        0.040684\n",
       "FinalDiagnosis -0.193856  0.045048  0.040684        1.000000"
      ]
     },
     "execution_count": 78,
     "metadata": {},
     "output_type": "execute_result"
    }
   ],
   "source": [
    "nch.corr()"
   ]
  },
  {
   "cell_type": "code",
   "execution_count": 79,
   "metadata": {
    "execution": {
     "iopub.execute_input": "2021-03-13T04:58:39.993211Z",
     "iopub.status.busy": "2021-03-13T04:58:39.992043Z",
     "iopub.status.idle": "2021-03-13T04:58:40.008596Z",
     "shell.execute_reply": "2021-03-13T04:58:40.007780Z"
    },
    "id": "5bA63k9-u0bJ",
    "outputId": "1153ac61-ef9c-440f-a1a6-06fb3f6d81fb",
    "papermill": {
     "duration": 0.132859,
     "end_time": "2021-03-13T04:58:40.008791",
     "exception": false,
     "start_time": "2021-03-13T04:58:39.875932",
     "status": "completed"
    },
    "tags": []
   },
   "outputs": [
    {
     "data": {
      "text/html": [
       "<div>\n",
       "<style scoped>\n",
       "    .dataframe tbody tr th:only-of-type {\n",
       "        vertical-align: middle;\n",
       "    }\n",
       "\n",
       "    .dataframe tbody tr th {\n",
       "        vertical-align: top;\n",
       "    }\n",
       "\n",
       "    .dataframe thead th {\n",
       "        text-align: right;\n",
       "    }\n",
       "</style>\n",
       "<table border=\"1\" class=\"dataframe\">\n",
       "  <thead>\n",
       "    <tr style=\"text-align: right;\">\n",
       "      <th></th>\n",
       "      <th>Age</th>\n",
       "      <th>Sex</th>\n",
       "      <th>Place</th>\n",
       "      <th>FinalDiagnosis</th>\n",
       "    </tr>\n",
       "  </thead>\n",
       "  <tbody>\n",
       "    <tr>\n",
       "      <th>Age</th>\n",
       "      <td>0.000000</td>\n",
       "      <td>0.970233</td>\n",
       "      <td>1.061904</td>\n",
       "      <td>1.193856</td>\n",
       "    </tr>\n",
       "    <tr>\n",
       "      <th>Sex</th>\n",
       "      <td>0.970233</td>\n",
       "      <td>0.000000</td>\n",
       "      <td>1.001693</td>\n",
       "      <td>0.954952</td>\n",
       "    </tr>\n",
       "    <tr>\n",
       "      <th>Place</th>\n",
       "      <td>1.061904</td>\n",
       "      <td>1.001693</td>\n",
       "      <td>0.000000</td>\n",
       "      <td>0.959316</td>\n",
       "    </tr>\n",
       "    <tr>\n",
       "      <th>FinalDiagnosis</th>\n",
       "      <td>1.193856</td>\n",
       "      <td>0.954952</td>\n",
       "      <td>0.959316</td>\n",
       "      <td>0.000000</td>\n",
       "    </tr>\n",
       "  </tbody>\n",
       "</table>\n",
       "</div>"
      ],
      "text/plain": [
       "                     Age       Sex     Place  FinalDiagnosis\n",
       "Age             0.000000  0.970233  1.061904        1.193856\n",
       "Sex             0.970233  0.000000  1.001693        0.954952\n",
       "Place           1.061904  1.001693  0.000000        0.959316\n",
       "FinalDiagnosis  1.193856  0.954952  0.959316        0.000000"
      ]
     },
     "execution_count": 79,
     "metadata": {},
     "output_type": "execute_result"
    }
   ],
   "source": [
    "1-nch.corr()"
   ]
  },
  {
   "cell_type": "code",
   "execution_count": 80,
   "metadata": {
    "execution": {
     "iopub.execute_input": "2021-03-13T04:58:40.250188Z",
     "iopub.status.busy": "2021-03-13T04:58:40.248946Z",
     "iopub.status.idle": "2021-03-13T04:58:40.585385Z",
     "shell.execute_reply": "2021-03-13T04:58:40.584781Z"
    },
    "id": "EAK4fwhnu0bN",
    "outputId": "4da36fad-f630-4c2c-823f-135babd42467",
    "papermill": {
     "duration": 0.462325,
     "end_time": "2021-03-13T04:58:40.585560",
     "exception": false,
     "start_time": "2021-03-13T04:58:40.123235",
     "status": "completed"
    },
    "tags": []
   },
   "outputs": [
    {
     "data": {
      "text/plain": [
       "Text(0.5, 1.0, 'Correlation')"
      ]
     },
     "execution_count": 80,
     "metadata": {},
     "output_type": "execute_result"
    },
    {
     "data": {
      "image/png": "[encoded data removed]",
      "text/plain": [
       "<Figure size 720x720 with 2 Axes>"
      ]
     },
     "metadata": {},
     "output_type": "display_data"
    }
   ],
   "source": [
    "correlation = nch.corr()\n",
    "plt.figure(figsize=(10,10))\n",
    "sns.heatmap(correlation,vmax=1,square=True,annot=True,cmap='viridis')\n",
    "plt.title('Correlation')"
   ]
  },
  {
   "cell_type": "code",
   "execution_count": 81,
   "metadata": {
    "execution": {
     "iopub.execute_input": "2021-03-13T04:58:40.824632Z",
     "iopub.status.busy": "2021-03-13T04:58:40.823837Z",
     "iopub.status.idle": "2021-03-13T04:58:40.827787Z",
     "shell.execute_reply": "2021-03-13T04:58:40.827057Z"
    },
    "id": "QwN6qHOWu0bU",
    "papermill": {
     "duration": 0.128612,
     "end_time": "2021-03-13T04:58:40.827988",
     "exception": false,
     "start_time": "2021-03-13T04:58:40.699376",
     "status": "completed"
    },
    "tags": []
   },
   "outputs": [],
   "source": [
    "nch.Age = pd.to_numeric(nch.Age)  #change to numeric type data\n",
    "nch.Sex = pd.to_numeric(nch.Sex)\n",
    "nch.Place = pd.to_numeric(nch.Place)\n",
    "nch.FinalDiagnosis = pd.to_numeric(nch.FinalDiagnosis)"
   ]
  },
  {
   "cell_type": "code",
   "execution_count": 82,
   "metadata": {
    "execution": {
     "iopub.execute_input": "2021-03-13T04:58:41.064571Z",
     "iopub.status.busy": "2021-03-13T04:58:41.063527Z",
     "iopub.status.idle": "2021-03-13T04:58:41.068094Z",
     "shell.execute_reply": "2021-03-13T04:58:41.067336Z"
    },
    "id": "1LaBdQ5Qu0bZ",
    "outputId": "30f97776-c2d0-41c4-db11-168e4d0f811f",
    "papermill": {
     "duration": 0.127614,
     "end_time": "2021-03-13T04:58:41.068283",
     "exception": false,
     "start_time": "2021-03-13T04:58:40.940669",
     "status": "completed"
    },
    "tags": []
   },
   "outputs": [
    {
     "name": "stdout",
     "output_type": "stream",
     "text": [
      "int64\n"
     ]
    }
   ],
   "source": [
    "print(nch['FinalDiagnosis'].dtypes)"
   ]
  },
  {
   "cell_type": "code",
   "execution_count": 83,
   "metadata": {
    "execution": {
     "iopub.execute_input": "2021-03-13T04:58:41.311335Z",
     "iopub.status.busy": "2021-03-13T04:58:41.310460Z",
     "iopub.status.idle": "2021-03-13T04:58:41.314886Z",
     "shell.execute_reply": "2021-03-13T04:58:41.314282Z"
    },
    "id": "zfEdaQ4gu0cI",
    "outputId": "8bee2cae-bd74-4533-d161-ebb0d175ee9f",
    "papermill": {
     "duration": 0.129884,
     "end_time": "2021-03-13T04:58:41.315058",
     "exception": false,
     "start_time": "2021-03-13T04:58:41.185174",
     "status": "completed"
    },
    "tags": []
   },
   "outputs": [
    {
     "data": {
      "text/plain": [
       "7     398\n",
       "13    392\n",
       "10    284\n",
       "6     268\n",
       "5     175\n",
       "2     133\n",
       "11    126\n",
       "12    104\n",
       "4      58\n",
       "0      49\n",
       "9      44\n",
       "3      32\n",
       "1      23\n",
       "8      18\n",
       "Name: FinalDiagnosis, dtype: int64"
      ]
     },
     "execution_count": 83,
     "metadata": {},
     "output_type": "execute_result"
    }
   ],
   "source": [
    "nch['FinalDiagnosis'].value_counts()"
   ]
  },
  {
   "cell_type": "code",
   "execution_count": 84,
   "metadata": {
    "execution": {
     "iopub.execute_input": "2021-03-13T04:58:41.562709Z",
     "iopub.status.busy": "2021-03-13T04:58:41.561506Z",
     "iopub.status.idle": "2021-03-13T04:58:41.567021Z",
     "shell.execute_reply": "2021-03-13T04:58:41.566250Z"
    },
    "id": "sAa0hGrwu0cj",
    "outputId": "db8298e0-e55a-4122-a9a8-a97cf7781e70",
    "papermill": {
     "duration": 0.133031,
     "end_time": "2021-03-13T04:58:41.567227",
     "exception": false,
     "start_time": "2021-03-13T04:58:41.434196",
     "status": "completed"
    },
    "tags": []
   },
   "outputs": [
    {
     "data": {
      "text/plain": [
       "28     5\n",
       "29     5\n",
       "37     5\n",
       "80     5\n",
       "123    5\n",
       "124    5\n",
       "150    5\n",
       "160    5\n",
       "181    5\n",
       "188    5\n",
       "Name: FinalDiagnosis, dtype: int64"
      ]
     },
     "execution_count": 84,
     "metadata": {},
     "output_type": "execute_result"
    }
   ],
   "source": [
    "nch['FinalDiagnosis'].head(10)"
   ]
  },
  {
   "cell_type": "code",
   "execution_count": 85,
   "metadata": {
    "execution": {
     "iopub.execute_input": "2021-03-13T04:58:41.809557Z",
     "iopub.status.busy": "2021-03-13T04:58:41.808681Z",
     "iopub.status.idle": "2021-03-13T04:58:41.833382Z",
     "shell.execute_reply": "2021-03-13T04:58:41.832539Z"
    },
    "id": "ecP-CU_Tu0cr",
    "outputId": "155f0e0f-c93d-4273-b46d-cadfb6f7cfe1",
    "papermill": {
     "duration": 0.151203,
     "end_time": "2021-03-13T04:58:41.833562",
     "exception": false,
     "start_time": "2021-03-13T04:58:41.682359",
     "status": "completed"
    },
    "scrolled": false,
    "tags": []
   },
   "outputs": [
    {
     "name": "stdout",
     "output_type": "stream",
     "text": [
      "        Age  Sex_0  Sex_1  FinalDiagnosis_0  FinalDiagnosis_1  \\\n",
      "28     77.0      1      0                 0                 0   \n",
      "29     31.0      1      0                 0                 0   \n",
      "37     30.0      1      0                 0                 0   \n",
      "80     27.0      1      0                 0                 0   \n",
      "123    66.0      1      0                 0                 0   \n",
      "...     ...    ...    ...               ...               ...   \n",
      "22281  31.0      1      0                 0                 0   \n",
      "22282  52.0      0      1                 0                 0   \n",
      "22291  37.0      1      0                 0                 0   \n",
      "22301  68.0      0      1                 0                 0   \n",
      "22304  10.0      0      1                 0                 0   \n",
      "\n",
      "       FinalDiagnosis_2  FinalDiagnosis_3  FinalDiagnosis_4  FinalDiagnosis_5  \\\n",
      "28                    0                 0                 0                 1   \n",
      "29                    0                 0                 0                 1   \n",
      "37                    0                 0                 0                 1   \n",
      "80                    0                 0                 0                 1   \n",
      "123                   0                 0                 0                 1   \n",
      "...                 ...               ...               ...               ...   \n",
      "22281                 0                 0                 0                 0   \n",
      "22282                 0                 0                 0                 0   \n",
      "22291                 0                 0                 0                 0   \n",
      "22301                 0                 0                 1                 0   \n",
      "22304                 0                 0                 0                 0   \n",
      "\n",
      "       FinalDiagnosis_6  ...  Place_15  Place_16  Place_17  Place_18  \\\n",
      "28                    0  ...         0         0         0         0   \n",
      "29                    0  ...         0         0         0         0   \n",
      "37                    0  ...         0         0         0         0   \n",
      "80                    0  ...         0         0         0         0   \n",
      "123                   0  ...         1         0         0         0   \n",
      "...                 ...  ...       ...       ...       ...       ...   \n",
      "22281                 0  ...         0         0         0         0   \n",
      "22282                 0  ...         0         0         0         0   \n",
      "22291                 0  ...         0         0         0         0   \n",
      "22301                 0  ...         0         0         0         0   \n",
      "22304                 0  ...         0         0         0         0   \n",
      "\n",
      "       Place_19  Place_20  Place_21  Place_22  Place_23  Place_24  \n",
      "28            0         0         0         0         0         0  \n",
      "29            0         1         0         0         0         0  \n",
      "37            0         0         0         0         1         0  \n",
      "80            1         0         0         0         0         0  \n",
      "123           0         0         0         0         0         0  \n",
      "...         ...       ...       ...       ...       ...       ...  \n",
      "22281         0         0         0         0         0         0  \n",
      "22282         0         0         0         0         0         0  \n",
      "22291         0         0         0         0         0         0  \n",
      "22301         0         1         0         0         0         0  \n",
      "22304         0         0         0         0         0         0  \n",
      "\n",
      "[2104 rows x 42 columns]\n"
     ]
    }
   ],
   "source": [
    "nch_onehot = nch.copy()\n",
    "nch_onehot = pd.get_dummies(nch_onehot, columns = ['Sex','FinalDiagnosis','Place'], prefix =['Sex','FinalDiagnosis','Place'] )\n",
    "print(nch_onehot)"
   ]
  },
  {
   "cell_type": "code",
   "execution_count": 86,
   "metadata": {
    "execution": {
     "iopub.execute_input": "2021-03-13T04:58:42.085092Z",
     "iopub.status.busy": "2021-03-13T04:58:42.083988Z",
     "iopub.status.idle": "2021-03-13T04:58:42.090565Z",
     "shell.execute_reply": "2021-03-13T04:58:42.089473Z"
    },
    "id": "5QlJGMCqu0cv",
    "outputId": "9a4fee4a-d58c-4707-b3cb-a438a2d7004f",
    "papermill": {
     "duration": 0.139096,
     "end_time": "2021-03-13T04:58:42.090828",
     "exception": false,
     "start_time": "2021-03-13T04:58:41.951732",
     "status": "completed"
    },
    "tags": []
   },
   "outputs": [
    {
     "name": "stdout",
     "output_type": "stream",
     "text": [
      "     Age  Sex_0  Sex_1  FinalDiagnosis_0  FinalDiagnosis_1  FinalDiagnosis_2  \\\n",
      "28  77.0      1      0                 0                 0                 0   \n",
      "29  31.0      1      0                 0                 0                 0   \n",
      "37  30.0      1      0                 0                 0                 0   \n",
      "\n",
      "    FinalDiagnosis_3  FinalDiagnosis_4  FinalDiagnosis_5  FinalDiagnosis_6  \\\n",
      "28                 0                 0                 1                 0   \n",
      "29                 0                 0                 1                 0   \n",
      "37                 0                 0                 1                 0   \n",
      "\n",
      "    ...  Place_15  Place_16  Place_17  Place_18  Place_19  Place_20  Place_21  \\\n",
      "28  ...         0         0         0         0         0         0         0   \n",
      "29  ...         0         0         0         0         0         1         0   \n",
      "37  ...         0         0         0         0         0         0         0   \n",
      "\n",
      "    Place_22  Place_23  Place_24  \n",
      "28         0         0         0  \n",
      "29         0         0         0  \n",
      "37         0         1         0  \n",
      "\n",
      "[3 rows x 42 columns]\n"
     ]
    }
   ],
   "source": [
    "print(nch_onehot.head(3))"
   ]
  },
  {
   "cell_type": "code",
   "execution_count": 87,
   "metadata": {
    "execution": {
     "iopub.execute_input": "2021-03-13T04:58:42.335678Z",
     "iopub.status.busy": "2021-03-13T04:58:42.334083Z",
     "iopub.status.idle": "2021-03-13T04:58:42.344562Z",
     "shell.execute_reply": "2021-03-13T04:58:42.343560Z"
    },
    "id": "6GKHhO9Du0cz",
    "outputId": "d6d24401-2785-46a2-85dc-4073afb69ba3",
    "papermill": {
     "duration": 0.133779,
     "end_time": "2021-03-13T04:58:42.344762",
     "exception": false,
     "start_time": "2021-03-13T04:58:42.210983",
     "status": "completed"
    },
    "tags": []
   },
   "outputs": [
    {
     "data": {
      "text/plain": [
       "0    1971\n",
       "1     133\n",
       "Name: FinalDiagnosis_2, dtype: int64"
      ]
     },
     "execution_count": 87,
     "metadata": {},
     "output_type": "execute_result"
    }
   ],
   "source": [
    "nch_onehot['FinalDiagnosis_2'].value_counts()"
   ]
  },
  {
   "cell_type": "code",
   "execution_count": 88,
   "metadata": {
    "execution": {
     "iopub.execute_input": "2021-03-13T04:58:42.592459Z",
     "iopub.status.busy": "2021-03-13T04:58:42.590988Z",
     "iopub.status.idle": "2021-03-13T04:58:42.601975Z",
     "shell.execute_reply": "2021-03-13T04:58:42.601298Z"
    },
    "id": "Va5W1LTvu0c3",
    "papermill": {
     "duration": 0.140114,
     "end_time": "2021-03-13T04:58:42.602156",
     "exception": false,
     "start_time": "2021-03-13T04:58:42.462042",
     "status": "completed"
    },
    "tags": []
   },
   "outputs": [],
   "source": [
    "from sklearn.preprocessing import StandardScaler\n",
    "SS = StandardScaler()\n",
    "Nchs = SS.fit_transform(nch_onehot)"
   ]
  },
  {
   "cell_type": "code",
   "execution_count": 89,
   "metadata": {
    "execution": {
     "iopub.execute_input": "2021-03-13T04:58:42.835652Z",
     "iopub.status.busy": "2021-03-13T04:58:42.834875Z",
     "iopub.status.idle": "2021-03-13T04:58:42.837934Z",
     "shell.execute_reply": "2021-03-13T04:58:42.838392Z"
    },
    "id": "8Wp_Ik5xxn44",
    "outputId": "b5305078-c722-4eef-cac3-8bc644fca912",
    "papermill": {
     "duration": 0.123071,
     "end_time": "2021-03-13T04:58:42.838601",
     "exception": false,
     "start_time": "2021-03-13T04:58:42.715530",
     "status": "completed"
    },
    "tags": []
   },
   "outputs": [
    {
     "data": {
      "text/plain": [
       "array([[ 1.39988652,  0.89950784, -0.89950784, ..., -0.03084598,\n",
       "        -0.08184476, -0.04364358],\n",
       "       [-0.51739275,  0.89950784, -0.89950784, ..., -0.03084598,\n",
       "        -0.08184476, -0.04364358],\n",
       "       [-0.55907273,  0.89950784, -0.89950784, ..., -0.03084598,\n",
       "        12.21825332, -0.04364358],\n",
       "       ...,\n",
       "       [-0.26731284,  0.89950784, -0.89950784, ..., -0.03084598,\n",
       "        -0.08184476, -0.04364358],\n",
       "       [ 1.02476667, -1.11171904,  1.11171904, ..., -0.03084598,\n",
       "        -0.08184476, -0.04364358],\n",
       "       [-1.39267242, -1.11171904,  1.11171904, ..., -0.03084598,\n",
       "        -0.08184476, -0.04364358]])"
      ]
     },
     "execution_count": 89,
     "metadata": {},
     "output_type": "execute_result"
    }
   ],
   "source": [
    "Nchs"
   ]
  },
  {
   "cell_type": "code",
   "execution_count": 90,
   "metadata": {
    "execution": {
     "iopub.execute_input": "2021-03-13T04:58:43.078343Z",
     "iopub.status.busy": "2021-03-13T04:58:43.077298Z",
     "iopub.status.idle": "2021-03-13T04:58:43.322188Z",
     "shell.execute_reply": "2021-03-13T04:58:43.321448Z"
    },
    "id": "MFb9eumYyGEH",
    "papermill": {
     "duration": 0.368908,
     "end_time": "2021-03-13T04:58:43.322390",
     "exception": false,
     "start_time": "2021-03-13T04:58:42.953482",
     "status": "completed"
    },
    "tags": []
   },
   "outputs": [],
   "source": [
    "from sklearn.decomposition import PCA"
   ]
  },
  {
   "cell_type": "code",
   "execution_count": 91,
   "metadata": {
    "execution": {
     "iopub.execute_input": "2021-03-13T04:58:43.566698Z",
     "iopub.status.busy": "2021-03-13T04:58:43.565785Z",
     "iopub.status.idle": "2021-03-13T04:58:43.856044Z",
     "shell.execute_reply": "2021-03-13T04:58:43.856552Z"
    },
    "id": "iVkkIMxtgO9-",
    "outputId": "e53f2250-000b-442c-96c7-a083a0d2e57f",
    "papermill": {
     "duration": 0.417312,
     "end_time": "2021-03-13T04:58:43.856773",
     "exception": false,
     "start_time": "2021-03-13T04:58:43.439461",
     "status": "completed"
    },
    "tags": []
   },
   "outputs": [
    {
     "data": {
      "image/png": "[encoded data removed]",
      "text/plain": [
       "<Figure size 432x288 with 1 Axes>"
      ]
     },
     "metadata": {},
     "output_type": "display_data"
    }
   ],
   "source": [
    "#fitting the pca algorithm with our data\n",
    "pca=PCA().fit(Nchs)\n",
    "#plotting the cumulative summation of the explained variance\n",
    "plt.figure()\n",
    "plt.plot(np.cumsum(pca.explained_variance_ratio_))\n",
    "plt.xlabel('Number of components')\n",
    "plt.ylabel('Variance % for each components')\n",
    "plt.title('Explained variance')\n",
    "plt.show()"
   ]
  },
  {
   "cell_type": "code",
   "execution_count": 92,
   "metadata": {
    "execution": {
     "iopub.execute_input": "2021-03-13T04:58:44.106690Z",
     "iopub.status.busy": "2021-03-13T04:58:44.105628Z",
     "iopub.status.idle": "2021-03-13T04:58:44.109371Z",
     "shell.execute_reply": "2021-03-13T04:58:44.108734Z"
    },
    "id": "d42JGS9qyO9S",
    "papermill": {
     "duration": 0.134852,
     "end_time": "2021-03-13T04:58:44.109540",
     "exception": false,
     "start_time": "2021-03-13T04:58:43.974688",
     "status": "completed"
    },
    "tags": []
   },
   "outputs": [],
   "source": [
    "pca=PCA(n_components=37)"
   ]
  },
  {
   "cell_type": "code",
   "execution_count": 93,
   "metadata": {
    "execution": {
     "iopub.execute_input": "2021-03-13T04:58:44.354747Z",
     "iopub.status.busy": "2021-03-13T04:58:44.353956Z",
     "iopub.status.idle": "2021-03-13T04:58:44.374447Z",
     "shell.execute_reply": "2021-03-13T04:58:44.375301Z"
    },
    "id": "s0HWV_GlyX2s",
    "outputId": "e65c04e1-6f58-4fef-ea4e-5215f7a209e4",
    "papermill": {
     "duration": 0.145867,
     "end_time": "2021-03-13T04:58:44.375658",
     "exception": false,
     "start_time": "2021-03-13T04:58:44.229791",
     "status": "completed"
    },
    "tags": []
   },
   "outputs": [
    {
     "data": {
      "text/plain": [
       "PCA(n_components=37)"
      ]
     },
     "execution_count": 93,
     "metadata": {},
     "output_type": "execute_result"
    }
   ],
   "source": [
    "pca.fit(Nchs)"
   ]
  },
  {
   "cell_type": "code",
   "execution_count": 94,
   "metadata": {
    "execution": {
     "iopub.execute_input": "2021-03-13T04:58:44.666046Z",
     "iopub.status.busy": "2021-03-13T04:58:44.665240Z",
     "iopub.status.idle": "2021-03-13T04:58:44.672950Z",
     "shell.execute_reply": "2021-03-13T04:58:44.672185Z"
    },
    "id": "Y3MTGE6XygQF",
    "papermill": {
     "duration": 0.132315,
     "end_time": "2021-03-13T04:58:44.673116",
     "exception": false,
     "start_time": "2021-03-13T04:58:44.540801",
     "status": "completed"
    },
    "tags": []
   },
   "outputs": [],
   "source": [
    "x_pca=pca.transform(Nchs)"
   ]
  },
  {
   "cell_type": "code",
   "execution_count": 95,
   "metadata": {
    "execution": {
     "iopub.execute_input": "2021-03-13T04:58:44.908380Z",
     "iopub.status.busy": "2021-03-13T04:58:44.907473Z",
     "iopub.status.idle": "2021-03-13T04:58:44.912817Z",
     "shell.execute_reply": "2021-03-13T04:58:44.913477Z"
    },
    "id": "2KNb1GrJyq_s",
    "outputId": "29c2f52c-2c93-485f-f4d8-36ec7255f089",
    "papermill": {
     "duration": 0.125992,
     "end_time": "2021-03-13T04:58:44.913688",
     "exception": false,
     "start_time": "2021-03-13T04:58:44.787696",
     "status": "completed"
    },
    "tags": []
   },
   "outputs": [
    {
     "data": {
      "text/plain": [
       "(2104, 42)"
      ]
     },
     "execution_count": 95,
     "metadata": {},
     "output_type": "execute_result"
    }
   ],
   "source": [
    "Nchs.shape"
   ]
  },
  {
   "cell_type": "code",
   "execution_count": 96,
   "metadata": {
    "execution": {
     "iopub.execute_input": "2021-03-13T04:58:45.153379Z",
     "iopub.status.busy": "2021-03-13T04:58:45.152219Z",
     "iopub.status.idle": "2021-03-13T04:58:45.158140Z",
     "shell.execute_reply": "2021-03-13T04:58:45.158622Z"
    },
    "id": "I-eaDcshyyyy",
    "outputId": "9faedf27-ec46-4d50-e762-f2536459fb47",
    "papermill": {
     "duration": 0.12723,
     "end_time": "2021-03-13T04:58:45.158846",
     "exception": false,
     "start_time": "2021-03-13T04:58:45.031616",
     "status": "completed"
    },
    "tags": []
   },
   "outputs": [
    {
     "data": {
      "text/plain": [
       "(2104, 37)"
      ]
     },
     "execution_count": 96,
     "metadata": {},
     "output_type": "execute_result"
    }
   ],
   "source": [
    "x_pca.shape"
   ]
  },
  {
   "cell_type": "code",
   "execution_count": 97,
   "metadata": {
    "execution": {
     "iopub.execute_input": "2021-03-13T04:58:45.419254Z",
     "iopub.status.busy": "2021-03-13T04:58:45.417652Z",
     "iopub.status.idle": "2021-03-13T04:58:45.719454Z",
     "shell.execute_reply": "2021-03-13T04:58:45.718666Z"
    },
    "id": "LH6iPs9Ey2X9",
    "outputId": "dc74ff32-65de-4379-a84a-8f4fb444f183",
    "papermill": {
     "duration": 0.446564,
     "end_time": "2021-03-13T04:58:45.719634",
     "exception": false,
     "start_time": "2021-03-13T04:58:45.273070",
     "status": "completed"
    },
    "tags": []
   },
   "outputs": [
    {
     "data": {
      "text/plain": [
       "Text(0, 0.5, 'Second PCA')"
      ]
     },
     "execution_count": 97,
     "metadata": {},
     "output_type": "execute_result"
    },
    {
     "data": {
      "image/png": "[encoded data removed]",
      "text/plain": [
       "<Figure size 576x432 with 1 Axes>"
      ]
     },
     "metadata": {},
     "output_type": "display_data"
    }
   ],
   "source": [
    "plt.figure(figsize=(8,6))\n",
    "plt.scatter(x_pca[:,0],x_pca[:,1],c=nch['Age'])\n",
    "plt.xlabel('First PCA')\n",
    "plt.ylabel('Second PCA')"
   ]
  },
  {
   "cell_type": "code",
   "execution_count": 98,
   "metadata": {
    "execution": {
     "iopub.execute_input": "2021-03-13T04:58:45.985448Z",
     "iopub.status.busy": "2021-03-13T04:58:45.984266Z",
     "iopub.status.idle": "2021-03-13T04:58:46.254198Z",
     "shell.execute_reply": "2021-03-13T04:58:46.253592Z"
    },
    "id": "4W9yeTeLzuiH",
    "outputId": "d6f77c7f-7782-43de-8000-221f052908cd",
    "papermill": {
     "duration": 0.415749,
     "end_time": "2021-03-13T04:58:46.254390",
     "exception": false,
     "start_time": "2021-03-13T04:58:45.838641",
     "status": "completed"
    },
    "tags": []
   },
   "outputs": [
    {
     "data": {
      "text/plain": [
       "Text(0, 0.5, 'Second PCA')"
      ]
     },
     "execution_count": 98,
     "metadata": {},
     "output_type": "execute_result"
    },
    {
     "data": {
      "image/png": "[encoded data removed]",
      "text/plain": [
       "<Figure size 576x432 with 1 Axes>"
      ]
     },
     "metadata": {},
     "output_type": "display_data"
    }
   ],
   "source": [
    "plt.figure(figsize=(8,6))\n",
    "plt.scatter(x_pca[:,0],x_pca[:,1],c=nch['Sex'])\n",
    "plt.xlabel('First PCA')\n",
    "plt.ylabel('Second PCA')"
   ]
  },
  {
   "cell_type": "code",
   "execution_count": 99,
   "metadata": {
    "execution": {
     "iopub.execute_input": "2021-03-13T04:58:46.536993Z",
     "iopub.status.busy": "2021-03-13T04:58:46.527163Z",
     "iopub.status.idle": "2021-03-13T04:58:46.773172Z",
     "shell.execute_reply": "2021-03-13T04:58:46.772399Z"
    },
    "id": "4GA_4FQtz0ta",
    "outputId": "9703567e-a2c6-4e9c-b8b2-b810567172a4",
    "papermill": {
     "duration": 0.395322,
     "end_time": "2021-03-13T04:58:46.773356",
     "exception": false,
     "start_time": "2021-03-13T04:58:46.378034",
     "status": "completed"
    },
    "tags": []
   },
   "outputs": [
    {
     "data": {
      "text/plain": [
       "Text(0, 0.5, 'Second PCA')"
      ]
     },
     "execution_count": 99,
     "metadata": {},
     "output_type": "execute_result"
    },
    {
     "data": {
      "image/png": "[encoded data removed]",
      "text/plain": [
       "<Figure size 576x432 with 1 Axes>"
      ]
     },
     "metadata": {},
     "output_type": "display_data"
    }
   ],
   "source": [
    "plt.figure(figsize=(8,6))\n",
    "plt.scatter(x_pca[:,0],x_pca[:,1],c=nch['Place'])\n",
    "plt.xlabel('First PCA')\n",
    "plt.ylabel('Second PCA')"
   ]
  },
  {
   "cell_type": "code",
   "execution_count": 100,
   "metadata": {
    "execution": {
     "iopub.execute_input": "2021-03-13T04:58:47.253508Z",
     "iopub.status.busy": "2021-03-13T04:58:47.252520Z",
     "iopub.status.idle": "2021-03-13T04:58:47.514874Z",
     "shell.execute_reply": "2021-03-13T04:58:47.514213Z"
    },
    "id": "65VdED7Hz5A9",
    "outputId": "8b2f5ec6-325d-4173-8ace-296425d3c0fc",
    "papermill": {
     "duration": 0.61857,
     "end_time": "2021-03-13T04:58:47.515082",
     "exception": false,
     "start_time": "2021-03-13T04:58:46.896512",
     "status": "completed"
    },
    "tags": []
   },
   "outputs": [
    {
     "data": {
      "text/plain": [
       "Text(0, 0.5, 'Second PCA')"
      ]
     },
     "execution_count": 100,
     "metadata": {},
     "output_type": "execute_result"
    },
    {
     "data": {
      "image/png": "[encoded data removed]",
      "text/plain": [
       "<Figure size 576x432 with 1 Axes>"
      ]
     },
     "metadata": {},
     "output_type": "display_data"
    }
   ],
   "source": [
    "plt.figure(figsize=(8,6))\n",
    "plt.scatter(x_pca[:,0],x_pca[:,1],c=nch['FinalDiagnosis'])\n",
    "plt.xlabel('First PCA')\n",
    "plt.ylabel('Second PCA')"
   ]
  },
  {
   "cell_type": "code",
   "execution_count": 101,
   "metadata": {
    "execution": {
     "iopub.execute_input": "2021-03-13T04:58:47.779529Z",
     "iopub.status.busy": "2021-03-13T04:58:47.778483Z",
     "iopub.status.idle": "2021-03-13T04:58:47.783563Z",
     "shell.execute_reply": "2021-03-13T04:58:47.782839Z"
    },
    "id": "8icqh2Jl0RNn",
    "outputId": "c705f309-1977-425e-c261-6305a431c1df",
    "papermill": {
     "duration": 0.137791,
     "end_time": "2021-03-13T04:58:47.783738",
     "exception": false,
     "start_time": "2021-03-13T04:58:47.645947",
     "status": "completed"
    },
    "tags": []
   },
   "outputs": [
    {
     "data": {
      "text/plain": [
       "Index(['Age', 'Sex', 'Place', 'FinalDiagnosis'], dtype='object')"
      ]
     },
     "execution_count": 101,
     "metadata": {},
     "output_type": "execute_result"
    }
   ],
   "source": [
    "nch.keys()"
   ]
  },
  {
   "cell_type": "code",
   "execution_count": 102,
   "metadata": {
    "execution": {
     "iopub.execute_input": "2021-03-13T04:58:48.044782Z",
     "iopub.status.busy": "2021-03-13T04:58:48.043910Z",
     "iopub.status.idle": "2021-03-13T04:58:48.056831Z",
     "shell.execute_reply": "2021-03-13T04:58:48.057364Z"
    },
    "id": "hvk2agwmu0c9",
    "outputId": "12f80b60-e5ed-4680-8a77-dd9786852125",
    "papermill": {
     "duration": 0.146964,
     "end_time": "2021-03-13T04:58:48.057591",
     "exception": false,
     "start_time": "2021-03-13T04:58:47.910627",
     "status": "completed"
    },
    "tags": []
   },
   "outputs": [
    {
     "name": "stdout",
     "output_type": "stream",
     "text": [
      "Covariance matrix \n",
      "[[ 1.00047551 -0.0297811   0.0297811  ... -0.00117496 -0.03458702\n",
      "  -0.02528419]\n",
      " [-0.0297811   1.00047551 -1.00047551 ... -0.00327449  0.01483835\n",
      "   0.01732169]\n",
      " [ 0.0297811  -1.00047551  1.00047551 ...  0.00327449 -0.01483835\n",
      "  -0.01732169]\n",
      " ...\n",
      " [-0.00117496 -0.00327449  0.00327449 ...  1.00047551 -0.00252578\n",
      "  -0.00134687]\n",
      " [-0.03458702  0.01483835 -0.01483835 ... -0.00252578  1.00047551\n",
      "  -0.0035737 ]\n",
      " [-0.02528419  0.01732169 -0.01732169 ... -0.00134687 -0.0035737\n",
      "   1.00047551]]\n"
     ]
    }
   ],
   "source": [
    "\n",
    "mean_vec = np.mean(Nchs, axis = 0)   #covariance matrix\n",
    "cov_mat = (Nchs - mean_vec).T.dot((Nchs - mean_vec))/(Nchs.shape[0]-1)\n",
    "print('Covariance matrix \\n%s' %cov_mat)"
   ]
  },
  {
   "cell_type": "code",
   "execution_count": 103,
   "metadata": {
    "execution": {
     "iopub.execute_input": "2021-03-13T04:58:48.324034Z",
     "iopub.status.busy": "2021-03-13T04:58:48.322769Z",
     "iopub.status.idle": "2021-03-13T04:58:48.332079Z",
     "shell.execute_reply": "2021-03-13T04:58:48.332605Z"
    },
    "id": "zchPAvBlu0dF",
    "outputId": "0606f825-92e1-4a69-bdfd-b2402f418c7f",
    "papermill": {
     "duration": 0.144324,
     "end_time": "2021-03-13T04:58:48.332828",
     "exception": false,
     "start_time": "2021-03-13T04:58:48.188504",
     "status": "completed"
    },
    "tags": []
   },
   "outputs": [
    {
     "name": "stdout",
     "output_type": "stream",
     "text": [
      "Numpy covariance matrix: \n",
      "[[ 1.00047551 -0.0297811   0.0297811  ... -0.00117496 -0.03458702\n",
      "  -0.02528419]\n",
      " [-0.0297811   1.00047551 -1.00047551 ... -0.00327449  0.01483835\n",
      "   0.01732169]\n",
      " [ 0.0297811  -1.00047551  1.00047551 ...  0.00327449 -0.01483835\n",
      "  -0.01732169]\n",
      " ...\n",
      " [-0.00117496 -0.00327449  0.00327449 ...  1.00047551 -0.00252578\n",
      "  -0.00134687]\n",
      " [-0.03458702  0.01483835 -0.01483835 ... -0.00252578  1.00047551\n",
      "  -0.0035737 ]\n",
      " [-0.02528419  0.01732169 -0.01732169 ... -0.00134687 -0.0035737\n",
      "   1.00047551]]\n"
     ]
    }
   ],
   "source": [
    "print('Numpy covariance matrix: \\n%s' %np.cov(Nchs.T)) #usingnumpy"
   ]
  },
  {
   "cell_type": "code",
   "execution_count": 104,
   "metadata": {
    "execution": {
     "iopub.execute_input": "2021-03-13T04:58:48.598413Z",
     "iopub.status.busy": "2021-03-13T04:58:48.597340Z",
     "iopub.status.idle": "2021-03-13T04:58:48.617088Z",
     "shell.execute_reply": "2021-03-13T04:58:48.616410Z"
    },
    "id": "FSb4qPKZu0dM",
    "outputId": "5ec2e5f8-b716-42a5-b4c3-09ceb831ad50",
    "papermill": {
     "duration": 0.156576,
     "end_time": "2021-03-13T04:58:48.617289",
     "exception": false,
     "start_time": "2021-03-13T04:58:48.460713",
     "status": "completed"
    },
    "tags": []
   },
   "outputs": [
    {
     "name": "stdout",
     "output_type": "stream",
     "text": [
      "Eigen vectors \n",
      "[[-0.07568983 -0.29789614  0.40213975 ... -0.00480033 -0.0306399\n",
      "  -0.00937166]\n",
      " [ 0.63463586 -0.13867613  0.02862303 ... -0.01422212  0.01065613\n",
      "   0.00425797]\n",
      " [-0.63463586  0.13867613 -0.02862303 ...  0.01422212 -0.01065613\n",
      "  -0.00425797]\n",
      " ...\n",
      " [-0.00325836  0.03302217  0.03633917 ...  0.0279522   0.1055768\n",
      "  -0.0047094 ]\n",
      " [ 0.01985256  0.04913259  0.05371163 ...  0.14930307 -0.21407199\n",
      "   0.12882149]\n",
      " [ 0.03930663 -0.0092138   0.01019818 ...  0.0772153  -0.07586668\n",
      "   0.17894976]]\n",
      "\n",
      "Eigen values \n",
      "[ 2.21802538e+00  1.68598681e+00  5.41937421e-01  1.48470967e+00\n",
      "  6.17429063e-01 -5.94472164e-15 -3.43305512e-15 -9.27019951e-17\n",
      "  1.34666077e+00  1.29459741e+00  8.28770531e-01  1.22301776e+00\n",
      "  1.17494003e+00  1.14871665e+00  9.01215993e-01  9.19848821e-01\n",
      "  9.28497385e-01  1.11997994e+00  1.11265323e+00  1.09388024e+00\n",
      "  1.08901665e+00  1.08417890e+00  9.52676926e-01  9.58982468e-01\n",
      "  1.06308056e+00  9.68726755e-01  1.05027085e+00  1.04487518e+00\n",
      "  1.04015679e+00  9.87587312e-01  1.03131281e+00  1.02577872e+00\n",
      "  9.95235968e-01  9.97370229e-01  1.00017738e+00  1.00398849e+00\n",
      "  1.02160030e+00  1.00761782e+00  1.01296948e+00  1.01038688e+00\n",
      "  1.01671112e+00  1.01640277e+00]\n"
     ]
    }
   ],
   "source": [
    "#eigen vectors and eigen values\n",
    "cov_mat = np.cov(Nchs.T)\n",
    "eig_vals, eig_vecs = np.linalg.eig(cov_mat)\n",
    "\n",
    "print('Eigen vectors \\n%s' %eig_vecs)\n",
    "print('\\nEigen values \\n%s' %eig_vals)"
   ]
  },
  {
   "cell_type": "code",
   "execution_count": 105,
   "metadata": {
    "execution": {
     "iopub.execute_input": "2021-03-13T04:58:48.884612Z",
     "iopub.status.busy": "2021-03-13T04:58:48.883728Z",
     "iopub.status.idle": "2021-03-13T04:58:48.893043Z",
     "shell.execute_reply": "2021-03-13T04:58:48.891864Z"
    },
    "id": "aE6jZMPeu0dR",
    "outputId": "39c07f86-2ad8-4ea2-bdf0-051d9a182fea",
    "papermill": {
     "duration": 0.146703,
     "end_time": "2021-03-13T04:58:48.893479",
     "exception": false,
     "start_time": "2021-03-13T04:58:48.746776",
     "status": "completed"
    },
    "tags": []
   },
   "outputs": [
    {
     "name": "stdout",
     "output_type": "stream",
     "text": [
      "Eigen vectors \n",
      "[[-0.07568983 -0.29789614  0.54434981 ...  0.0559468   0.0306399\n",
      "  -0.00937166]\n",
      " [ 0.63463586 -0.13867613  0.0188147  ...  0.00105603 -0.01065613\n",
      "   0.00425797]\n",
      " [-0.63463586  0.13867613 -0.0188147  ... -0.00105603  0.01065613\n",
      "  -0.00425797]\n",
      " ...\n",
      " [-0.00325836  0.03302217  0.02594789 ...  0.06531893 -0.1055768\n",
      "  -0.0047094 ]\n",
      " [ 0.01985256  0.04913259 -0.03811695 ... -0.10833441  0.21407199\n",
      "   0.12882149]\n",
      " [ 0.03930663 -0.0092138  -0.07762155 ... -0.24994768  0.07586668\n",
      "   0.17894976]]\n",
      "\n",
      "Eigen values \n",
      "[ 2.21697119e+00  1.68518549e+00  1.48400401e+00  5.41679846e-01\n",
      "  6.17135608e-01 -6.26836984e-15 -4.13137197e-15  1.34302684e-16\n",
      "  1.34602072e+00  1.29398210e+00  8.28376629e-01  1.22243648e+00\n",
      "  1.17438160e+00  1.14817068e+00  9.00787658e-01  1.11944763e+00\n",
      "  1.11212440e+00  9.19411631e-01  9.28056084e-01  1.09336033e+00\n",
      "  1.08849906e+00  1.08366361e+00  9.52224132e-01  9.58526678e-01\n",
      "  1.06257530e+00  9.68266333e-01  1.04977167e+00  1.04437856e+00\n",
      "  1.03966242e+00  9.87117926e-01  1.03082265e+00  1.02529119e+00\n",
      "  9.94762947e-01  9.96896194e-01  9.99702012e-01  1.00351131e+00\n",
      "  1.02111475e+00  1.00713891e+00  1.00990666e+00  1.01248803e+00\n",
      "  1.01622789e+00  1.01591969e+00]\n"
     ]
    }
   ],
   "source": [
    "cor_mat1 = np.corrcoef(Nchs.T)\n",
    "eig_vals, eig_vecs = np.linalg.eig(cor_mat1)\n",
    "print('Eigen vectors \\n%s' %eig_vecs)\n",
    "print('\\nEigen values \\n%s' %eig_vals)"
   ]
  },
  {
   "cell_type": "code",
   "execution_count": 106,
   "metadata": {
    "execution": {
     "iopub.execute_input": "2021-03-13T04:58:49.158520Z",
     "iopub.status.busy": "2021-03-13T04:58:49.157769Z",
     "iopub.status.idle": "2021-03-13T04:58:49.167338Z",
     "shell.execute_reply": "2021-03-13T04:58:49.167962Z"
    },
    "id": "jOCH35Ccu0dV",
    "outputId": "5fa5e4d0-21e6-45c1-bb9b-aa6e0011e21e",
    "papermill": {
     "duration": 0.144222,
     "end_time": "2021-03-13T04:58:49.168188",
     "exception": false,
     "start_time": "2021-03-13T04:58:49.023966",
     "status": "completed"
    },
    "tags": []
   },
   "outputs": [
    {
     "name": "stdout",
     "output_type": "stream",
     "text": [
      "Eigen vectors \n",
      "[[-0.67462379 -0.68806772 -0.21530704  0.15839328]\n",
      " [ 0.0430205   0.24470117 -0.22342025  0.94252531]\n",
      " [ 0.31492973 -0.06975662 -0.92185715 -0.21478518]\n",
      " [ 0.66622162 -0.67957204  0.23217593  0.20105952]]\n",
      "Eigen values \n",
      "[1.21844158 0.79167555 0.97488483 1.01499804]\n"
     ]
    }
   ],
   "source": [
    "cor_mat2 = np.corrcoef(nch.T)\n",
    "eig_vals, eig_vecs = np.linalg.eig(cor_mat2)\n",
    "print('Eigen vectors \\n%s' %eig_vecs)\n",
    "print('Eigen values \\n%s' %eig_vals)"
   ]
  },
  {
   "cell_type": "code",
   "execution_count": 107,
   "metadata": {
    "execution": {
     "iopub.execute_input": "2021-03-13T04:58:49.432423Z",
     "iopub.status.busy": "2021-03-13T04:58:49.431520Z",
     "iopub.status.idle": "2021-03-13T04:58:49.980763Z",
     "shell.execute_reply": "2021-03-13T04:58:49.979926Z"
    },
    "id": "hr7UKcu5u0dZ",
    "outputId": "7dac9d19-dd82-41e1-d71b-c3aeb780fb11",
    "papermill": {
     "duration": 0.684241,
     "end_time": "2021-03-13T04:58:49.980999",
     "exception": false,
     "start_time": "2021-03-13T04:58:49.296758",
     "status": "completed"
    },
    "tags": []
   },
   "outputs": [
    {
     "name": "stdout",
     "output_type": "stream",
     "text": [
      "Vector U:\n",
      "\n",
      "[[-7.56898281e-02  2.97896144e-01 -5.44349815e-01 ...  4.60684373e-16\n",
      "  -2.86908897e-16 -1.50583112e-16]\n",
      " [ 6.34635864e-01  1.38676126e-01 -1.88147033e-02 ... -1.20972568e-01\n",
      "  -6.93950197e-01 -6.16340972e-02]\n",
      " [-6.34635864e-01 -1.38676126e-01  1.88147033e-02 ... -1.20972568e-01\n",
      "  -6.93950197e-01 -6.16340972e-02]\n",
      " ...\n",
      " [-3.25836352e-03 -3.30221668e-02 -2.59478894e-02 ...  2.57968738e-03\n",
      "  -3.31014983e-03  3.22063243e-02]\n",
      " [ 1.98525563e-02 -4.91325923e-02  3.81169479e-02 ...  6.80570134e-03\n",
      "  -8.73279890e-03  8.49663513e-02]\n",
      " [ 3.93066309e-02  9.21380162e-03  7.76215468e-02 ...  3.64649287e-03\n",
      "  -4.67903121e-03  4.55249472e-02]]\n",
      "[6.82971989e+01 5.95451952e+01 5.58779424e+01 5.32167981e+01\n",
      " 5.21779488e+01 5.07149520e+01 4.97081370e+01 4.91502910e+01\n",
      " 4.85316166e+01 4.83726136e+01 4.79627996e+01 4.78560552e+01\n",
      " 4.77496411e+01 4.72827498e+01 4.69970169e+01 4.68761399e+01\n",
      " 4.67701799e+01 4.65709228e+01 4.64458035e+01 4.63511104e+01\n",
      " 4.62400636e+01 4.62330512e+01 4.61549002e+01 4.60960260e+01\n",
      " 4.60328174e+01 4.59498401e+01 4.58625450e+01 4.57981396e+01\n",
      " 4.57491119e+01 4.55729757e+01 4.51357105e+01 4.49081299e+01\n",
      " 4.47602455e+01 4.41885732e+01 4.39822927e+01 4.35345522e+01\n",
      " 4.17481069e+01 3.60340578e+01 3.37593601e+01 1.99349433e-13\n",
      " 1.15453301e-13 6.65493301e-14]\n",
      "[[ 2.81833173e-02  3.69683424e-02  3.87465840e-02 ...  1.31530267e-02\n",
      "  -2.16305280e-02 -2.29775203e-02]\n",
      " [ 3.26917970e-02 -5.88638006e-03 -8.05771851e-03 ... -1.08689277e-02\n",
      "   5.29516049e-03 -2.58669234e-02]\n",
      " [ 2.52521133e-03 -1.37274347e-03  1.92244549e-02 ... -6.25613089e-03\n",
      "  -2.77526266e-02  6.06126164e-03]\n",
      " ...\n",
      " [ 1.03346586e-02  5.30178716e-04 -1.50435008e-02 ...  9.92911070e-01\n",
      "   1.27115021e-03 -6.22252243e-03]\n",
      " [-2.08578931e-02  1.16247412e-03  2.02065503e-02 ...  2.01707425e-03\n",
      "   9.68108733e-01  8.52136757e-04]\n",
      " [ 3.24574039e-02 -5.19248863e-04  2.46111329e-02 ... -5.99470500e-03\n",
      "   9.32997886e-04  9.91851004e-01]]\n"
     ]
    }
   ],
   "source": [
    "from scipy.linalg import svd\n",
    "u,s,v = np.linalg.svd(Nchs.T)\n",
    "print('Vector U:\\n' %u)\n",
    "print(u)\n",
    "print(s)\n",
    "print(v)"
   ]
  },
  {
   "cell_type": "code",
   "execution_count": 108,
   "metadata": {
    "execution": {
     "iopub.execute_input": "2021-03-13T04:58:50.251519Z",
     "iopub.status.busy": "2021-03-13T04:58:50.250695Z",
     "iopub.status.idle": "2021-03-13T04:58:50.255914Z",
     "shell.execute_reply": "2021-03-13T04:58:50.255214Z"
    },
    "id": "DwsZvzo5u0de",
    "outputId": "4d1c23d1-4c47-4218-f6b7-47f74a9f7ee7",
    "papermill": {
     "duration": 0.142001,
     "end_time": "2021-03-13T04:58:50.256084",
     "exception": false,
     "start_time": "2021-03-13T04:58:50.114083",
     "status": "completed"
    },
    "tags": []
   },
   "outputs": [
    {
     "name": "stdout",
     "output_type": "stream",
     "text": [
      "Everthing ok\n"
     ]
    }
   ],
   "source": [
    "for ev in eig_vecs.T:\n",
    "    np.testing.assert_array_almost_equal(1.0,np.linalg.norm(ev))\n",
    "print('Everthing ok')"
   ]
  },
  {
   "cell_type": "code",
   "execution_count": 109,
   "metadata": {
    "execution": {
     "iopub.execute_input": "2021-03-13T04:58:50.523711Z",
     "iopub.status.busy": "2021-03-13T04:58:50.522608Z",
     "iopub.status.idle": "2021-03-13T04:58:50.528011Z",
     "shell.execute_reply": "2021-03-13T04:58:50.527103Z"
    },
    "id": "hJmtE71Cu0dl",
    "outputId": "4fdf76d3-b8f7-433c-d299-e6b5d46bd455",
    "papermill": {
     "duration": 0.142805,
     "end_time": "2021-03-13T04:58:50.528236",
     "exception": false,
     "start_time": "2021-03-13T04:58:50.385431",
     "status": "completed"
    },
    "tags": []
   },
   "outputs": [
    {
     "name": "stdout",
     "output_type": "stream",
     "text": [
      "Eigen values in descending order\n",
      "1.218441581969953\n",
      "1.0149980414321207\n",
      "0.9748848260660876\n",
      "0.7916755505318387\n"
     ]
    }
   ],
   "source": [
    "#making list of (eigenvalue,eigenvector) tuples\n",
    "eig_pairs = [(np.abs(eig_vals[i]),eig_vecs[:,i]) for i in range(len(eig_vecs))]\n",
    "\n",
    "#sorting the eigen value and eigen vector tuples from high to low\n",
    "eig_pairs.sort(key=lambda x: x[0], reverse=True)\n",
    "\n",
    "#visually conforming that list are in descending order\n",
    "print('Eigen values in descending order')\n",
    "for i in eig_pairs:\n",
    "    print(i[0])\n"
   ]
  },
  {
   "cell_type": "code",
   "execution_count": 110,
   "metadata": {
    "execution": {
     "iopub.execute_input": "2021-03-13T04:58:50.799415Z",
     "iopub.status.busy": "2021-03-13T04:58:50.798646Z",
     "iopub.status.idle": "2021-03-13T04:58:50.802465Z",
     "shell.execute_reply": "2021-03-13T04:58:50.801773Z"
    },
    "id": "Qrz90CVcu0dp",
    "papermill": {
     "duration": 0.140781,
     "end_time": "2021-03-13T04:58:50.802663",
     "exception": false,
     "start_time": "2021-03-13T04:58:50.661882",
     "status": "completed"
    },
    "tags": []
   },
   "outputs": [],
   "source": [
    "#explained variance tells us how much information(variance) can be attributed to each of the principal components\n",
    "tot = sum(eig_vals)\n",
    "var_exp = [(i/tot)*100 for i in sorted(eig_vals, reverse=True)]\n",
    "cum_var_exp = np.cumsum(var_exp)"
   ]
  }
 ],
 "metadata": {
  "kernelspec": {
   "display_name": "Python 3",
   "language": "python",
   "name": "python3"
  },
  "language_info": {
   "codemirror_mode": {
    "name": "ipython",
    "version": 3
   },
   "file_extension": ".py",
   "mimetype": "text/x-python",
   "name": "python",
   "nbconvert_exporter": "python",
   "pygments_lexer": "ipython3",
   "version": "3.7.9"
  },
  "papermill": {
   "default_parameters": {},
   "duration": 58.808733,
   "end_time": "2021-03-13T04:58:52.050611",
   "environment_variables": {},
   "exception": null,
   "input_path": "__notebook__.ipynb",
   "output_path": "__notebook__.ipynb",
   "parameters": {},
   "start_time": "2021-03-13T04:57:53.241878",
   "version": "2.2.2"
  }
 },
 "nbformat": 4,
 "nbformat_minor": 4
}
