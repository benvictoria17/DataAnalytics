{
 "cells":[
  {
   "cell_type":"code",
   "source":[
    "import numpy as np \n",
    "import pandas as pd \n",
    "import matplotlib.pyplot as plt\n",
    "import seaborn as sns"
   ],
   "execution_count":10,
   "outputs":[
    
   ],
   "metadata":{
    "datalore":{
     "type":"CODE",
     "hide_input_from_viewers":false,
     "hide_output_from_viewers":false,
     "node_id":"3cZSDm0UGfNj7xg81MXYqR"
    }
   }
  },
  {
   "cell_type":"code",
   "source":[
    "dataset = pd.read_csv(\"https:\/\/github.com\/benvictoria17\/DataAnalytics\/blob\/master\/dataset\/Malware%20Analysis%20Datasets%20PE%20Section%20Headers\/pe_section_headers.csv?raw=true\")"
   ],
   "execution_count":11,
   "outputs":[
    
   ],
   "metadata":{
    "datalore":{
     "type":"CODE",
     "hide_input_from_viewers":false,
     "hide_output_from_viewers":false,
     "node_id":"P8k5S9V31swox2WvTE5mHZ"
    }
   }
  },
  {
   "cell_type":"code",
   "source":[
    "dataset.columns"
   ],
   "execution_count":12,
   "outputs":[
    {
     "data":{
      "text\/plain":[
       "Index(['hash', 'size_of_data', 'virtual_address', 'entropy', 'virtual_size',\n",
       "       'malware'],\n",
       "      dtype='object')"
      ]
     },
     "metadata":{
      
     },
     "output_type":"display_data"
    }
   ],
   "metadata":{
    "datalore":{
     "type":"CODE",
     "hide_input_from_viewers":false,
     "hide_output_from_viewers":false,
     "node_id":"vMsE5qCm9iflC9QLKlWUYT"
    }
   }
  },
  {
   "cell_type":"code",
   "source":[
    "dataset.info()"
   ],
   "execution_count":13,
   "outputs":[
    {
     "name":"stdout",
     "text":[
      "<class 'pandas.core.frame.DataFrame'>\n",
      "RangeIndex: 43293 entries, 0 to 43292\n",
      "Data columns (total 6 columns):\n",
      " #   Column           Non-Null Count  Dtype  \n",
      "---  ------           --------------  -----  \n",
      " 0   hash             43293 non-null  object \n",
      " 1   size_of_data     43293 non-null  int64  \n",
      " 2   virtual_address  43293 non-null  int64  \n",
      " 3   entropy          43293 non-null  float64\n",
      " 4   virtual_size     43293 non-null  int64  \n",
      " 5   malware          43293 non-null  int64  \n",
      "dtypes: float64(1), int64(4), object(1)\n",
      "memory usage: 2.0+ MB\n"
     ],
     "output_type":"stream"
    }
   ],
   "metadata":{
    "datalore":{
     "type":"CODE",
     "hide_input_from_viewers":false,
     "hide_output_from_viewers":false,
     "node_id":"5azlW3mjaFOHLaTCeKUd1Q"
    }
   }
  },
  {
   "cell_type":"code",
   "source":[
    "dataset[\"malware\"].value_counts()"
   ],
   "execution_count":14,
   "outputs":[
    {
     "data":{
      "text\/html":[
       
      ]
     },
     "metadata":{
      
     },
     "output_type":"display_data"
    }
   ],
   "metadata":{
    "datalore":{
     "type":"CODE",
     "hide_input_from_viewers":false,
     "hide_output_from_viewers":false,
     "node_id":"goqpWGR963h2efMxD8g3Qw"
    }
   }
  },
  {
   "cell_type":"code",
   "source":[
    "sns.countplot(dataset[\"malware\"])\n",
    "plt.show()"
   ],
   "execution_count":16,
   "outputs":[
    {
     "name":"stderr",
     "text":[
      "\/opt\/python\/envs\/default\/lib\/python3.8\/site-packages\/seaborn\/_decorators.py:36: FutureWarning: Pass the following variable as a keyword arg: x. From version 0.12, the only valid positional argument will be `data`, and passing other arguments without an explicit keyword will result in an error or misinterpretation.\n",
      "  warnings.warn(\n"
     ],
     "output_type":"stream"
    },
    {
     "data":{
      "image\/png":"[encoded data removed]"
     },
     "metadata":{
      "image\/png":{
       
      }
     },
     "output_type":"display_data"
    }
   ],
   "metadata":{
    "datalore":{
     "type":"CODE",
     "hide_input_from_viewers":false,
     "hide_output_from_viewers":false,
     "node_id":"R3RS2o9BpiUhadIrZJQjOq"
    }
   }
  },
  {
   "cell_type":"code",
   "source":[
    "x = dataset.drop(['malware',\"hash\"],axis=1)\n",
    "y = dataset['malware']\n",
    "from sklearn.metrics import f1_score\n",
    "from sklearn.metrics import  recall_score, accuracy_score, classification_report\n",
    "from sklearn.model_selection import train_test_split\n",
    "from sklearn.preprocessing import StandardScaler\n",
    "from sklearn.model_selection import train_test_split\n",
    "x_train, x_test, y_train, y_test = train_test_split(x, y,test_size=0.1,random_state=2)\n",
    "\n",
    "from sklearn.preprocessing import StandardScaler\n",
    "sc = StandardScaler()\n",
    "x_train = sc.fit_transform(x_train)\n",
    "x_test = sc.transform(x_test)\n",
    "\n",
    "from sklearn.neighbors import KNeighborsClassifier\n",
    "kNN = KNeighborsClassifier()\n",
    "kNN.fit(x_train,y_train)\n",
    "y_pred = kNN.predict(x_test)\n",
    "\n",
    "accuracy = accuracy_score(y_pred, y_test)\n",
    "print(accuracy)\n",
    "print(classification_report(y_test,y_pred))\n",
    "print('F1 Score: ',f1_score(y_test,y_pred,zero_division=1))\n",
    "\n",
    "from sklearn.metrics import confusion_matrix\n",
    "confmat = confusion_matrix(y_true=y_test, y_pred=y_pred)"
   ],
   "execution_count":18,
   "outputs":[
    {
     "name":"stdout",
     "text":[
      "0.9685912240184757\n",
      "              precision    recall  f1-score   support\n",
      "\n",
      "           0       0.60      0.36      0.45       155\n",
      "           1       0.98      0.99      0.98      4175\n",
      "\n",
      "    accuracy                           0.97      4330\n",
      "   macro avg       0.79      0.68      0.72      4330\n",
      "weighted avg       0.96      0.97      0.96      4330\n",
      "\n",
      "F1 Score:  0.9838326200665716\n"
     ],
     "output_type":"stream"
    }
   ],
   "metadata":{
    "datalore":{
     "type":"CODE",
     "hide_input_from_viewers":false,
     "hide_output_from_viewers":false,
     "node_id":"cDWBLoreXpEmU28mxRoefg"
    }
   }
  },
  {
   "cell_type":"code",
   "source":[
    "\n",
    "from sklearn.model_selection import train_test_split\n",
    "x_train, x_test, y_train, y_test = train_test_split(x, y,test_size=0.1,random_state=3)\n",
    "\n",
    "from sklearn.preprocessing import StandardScaler\n",
    "sc = StandardScaler()\n",
    "x_train = sc.fit_transform(x_train)\n",
    "x_test = sc.transform(x_test)\n",
    "\n",
    "from sklearn.neighbors import KNeighborsClassifier\n",
    "kNN = KNeighborsClassifier(n_neighbors=5)\n",
    "kNN.fit(x_train,y_train)\n",
    "y_pred = kNN.predict(x_test)\n",
    "\n",
    "accuracy = accuracy_score(y_pred, y_test)\n",
    "print(accuracy)\n",
    "print(classification_report(y_test,y_pred))\n",
    "print('F1 Score: ',f1_score(y_test,y_pred,zero_division=1))\n",
    "\n",
    "from sklearn.metrics import confusion_matrix\n",
    "confmat = confusion_matrix(y_true=y_test, y_pred=y_pred)"
   ],
   "execution_count":19,
   "outputs":[
    {
     "name":"stdout",
     "text":[
      "0.9676674364896074\n",
      "              precision    recall  f1-score   support\n",
      "\n",
      "           0       0.60      0.36      0.45       160\n",
      "           1       0.98      0.99      0.98      4170\n",
      "\n",
      "    accuracy                           0.97      4330\n",
      "   macro avg       0.79      0.68      0.72      4330\n",
      "weighted avg       0.96      0.97      0.96      4330\n",
      "\n",
      "F1 Score:  0.9833412660637791\n"
     ],
     "output_type":"stream"
    }
   ],
   "metadata":{
    "datalore":{
     "type":"CODE",
     "hide_input_from_viewers":false,
     "hide_output_from_viewers":false,
     "node_id":"clEpIcWpQWQNFIIGaF8SEg"
    }
   }
  }
 ],
 "metadata":{
  "datalore":{
   "version":1,
   "computation_mode":"JUPYTER",
   "package_manager":"pip",
   "base_environment":"default",
   "packages":[
    
   ]
  }
 },
 "nbformat":4,
 "nbformat_minor":4
}