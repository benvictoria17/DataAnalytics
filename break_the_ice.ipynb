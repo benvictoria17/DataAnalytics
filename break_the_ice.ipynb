{
  "nbformat": 4,
  "nbformat_minor": 0,
  "metadata": {
    "kernelspec": {
      "display_name": "Python 3",
      "language": "python",
      "name": "python3"
    },
    "language_info": {
      "codemirror_mode": {
        "name": "ipython",
        "version": 3
      },
      "file_extension": ".py",
      "mimetype": "text/x-python",
      "name": "python",
      "nbconvert_exporter": "python",
      "pygments_lexer": "ipython3",
      "version": "3.7.6"
    },
    "papermill": {
      "duration": 113.289948,
      "end_time": "2020-12-18T11:04:52.485164",
      "environment_variables": {},
      "exception": null,
      "input_path": "__notebook__.ipynb",
      "output_path": "__notebook__.ipynb",
      "parameters": {},
      "start_time": "2020-12-18T11:02:59.195216",
      "version": "2.1.0"
    },
    "colab": {
      "name": "break-the-ice.ipynb",
      "provenance": [],
      "include_colab_link": true
    }
  },
  "cells": [
    {
      "cell_type": "markdown",
      "metadata": {
        "id": "view-in-github",
        "colab_type": "text"
      },
      "source": [
        "<a href=\"https://colab.research.google.com/github/benvictoria21/pandas/blob/master/break_the_ice.ipynb\" target=\"_parent\"><img src=\"https://colab.research.google.com/assets/colab-badge.svg\" alt=\"Open In Colab\"/></a>"
      ]
    },
    {
      "cell_type": "code",
      "metadata": {
        "_kg_hide-output": true,
        "execution": {
          "iopub.execute_input": "2020-12-18T11:03:04.652705Z",
          "iopub.status.busy": "2020-12-18T11:03:04.652000Z",
          "iopub.status.idle": "2020-12-18T11:03:15.708044Z",
          "shell.execute_reply": "2020-12-18T11:03:15.708521Z"
        },
        "papermill": {
          "duration": 11.121531,
          "end_time": "2020-12-18T11:03:15.708701",
          "exception": false,
          "start_time": "2020-12-18T11:03:04.587170",
          "status": "completed"
        },
        "tags": [],
        "colab": {
          "base_uri": "https://localhost:8080/"
        },
        "id": "SLx-SngRYynq",
        "outputId": "e676d90e-5b40-4620-af95-5198cdf39d20"
      },
      "source": [
        "!pip install pywaffle"
      ],
      "execution_count": 7,
      "outputs": [
        {
          "output_type": "stream",
          "text": [
            "Requirement already satisfied: pywaffle in /usr/local/lib/python3.6/dist-packages (0.6.1)\n",
            "Requirement already satisfied: matplotlib in /usr/local/lib/python3.6/dist-packages (from pywaffle) (3.2.2)\n",
            "Requirement already satisfied: kiwisolver>=1.0.1 in /usr/local/lib/python3.6/dist-packages (from matplotlib->pywaffle) (1.3.1)\n",
            "Requirement already satisfied: pyparsing!=2.0.4,!=2.1.2,!=2.1.6,>=2.0.1 in /usr/local/lib/python3.6/dist-packages (from matplotlib->pywaffle) (2.4.7)\n",
            "Requirement already satisfied: numpy>=1.11 in /usr/local/lib/python3.6/dist-packages (from matplotlib->pywaffle) (1.19.4)\n",
            "Requirement already satisfied: python-dateutil>=2.1 in /usr/local/lib/python3.6/dist-packages (from matplotlib->pywaffle) (2.8.1)\n",
            "Requirement already satisfied: cycler>=0.10 in /usr/local/lib/python3.6/dist-packages (from matplotlib->pywaffle) (0.10.0)\n",
            "Requirement already satisfied: six>=1.5 in /usr/local/lib/python3.6/dist-packages (from python-dateutil>=2.1->matplotlib->pywaffle) (1.15.0)\n"
          ],
          "name": "stdout"
        }
      ]
    },
    {
      "cell_type": "code",
      "metadata": {
        "execution": {
          "iopub.execute_input": "2020-12-18T11:03:15.851157Z",
          "iopub.status.busy": "2020-12-18T11:03:15.850323Z",
          "iopub.status.idle": "2020-12-18T11:03:19.681324Z",
          "shell.execute_reply": "2020-12-18T11:03:19.680350Z"
        },
        "papermill": {
          "duration": 3.907228,
          "end_time": "2020-12-18T11:03:19.681509",
          "exception": false,
          "start_time": "2020-12-18T11:03:15.774281",
          "status": "completed"
        },
        "tags": [],
        "id": "n7JNMwkQYynq"
      },
      "source": [
        "import numpy as np\n",
        "import pandas as pd\n",
        "import matplotlib.pyplot as plt\n",
        "import seaborn as sns\n",
        "import pandas_profiling\n",
        "import plotly.express as px\n",
        "import plotly.graph_objects as go\n",
        "import sklearn.metrics as metrics\n",
        "\n",
        "from sklearn.preprocessing import OneHotEncoder, LabelEncoder, StandardScaler\n",
        "from sklearn.compose import ColumnTransformer\n",
        "from sklearn.model_selection import train_test_split\n",
        "from sklearn.ensemble import RandomForestClassifier\n",
        "from sklearn.model_selection import cross_val_score\n",
        "from sklearn.metrics import accuracy_score, roc_curve,auc, confusion_matrix\n",
        "from xgboost import XGBClassifier\n",
        "from pywaffle import Waffle\n",
        "from yellowbrick.classifier import classification_report"
      ],
      "execution_count": 8,
      "outputs": []
    },
    {
      "cell_type": "code",
      "metadata": {
        "execution": {
          "iopub.execute_input": "2020-12-18T11:03:19.831775Z",
          "iopub.status.busy": "2020-12-18T11:03:19.831090Z",
          "iopub.status.idle": "2020-12-18T11:03:19.833859Z",
          "shell.execute_reply": "2020-12-18T11:03:19.834374Z"
        },
        "papermill": {
          "duration": 0.083235,
          "end_time": "2020-12-18T11:03:19.834535",
          "exception": false,
          "start_time": "2020-12-18T11:03:19.751300",
          "status": "completed"
        },
        "tags": [],
        "id": "6ivVER_DYynr"
      },
      "source": [
        "custom_colors = [\"#c8e7ff\",\"#deaaff\", \"#f72585\",\"#d100d1\"]\n",
        "customPalette = sns.set_palette(sns.color_palette(custom_colors))"
      ],
      "execution_count": 9,
      "outputs": []
    },
    {
      "cell_type": "code",
      "metadata": {
        "execution": {
          "iopub.execute_input": "2020-12-18T11:03:19.975555Z",
          "iopub.status.busy": "2020-12-18T11:03:19.974941Z",
          "iopub.status.idle": "2020-12-18T11:03:20.094342Z",
          "shell.execute_reply": "2020-12-18T11:03:20.093787Z"
        },
        "papermill": {
          "duration": 0.190927,
          "end_time": "2020-12-18T11:03:20.094454",
          "exception": false,
          "start_time": "2020-12-18T11:03:19.903527",
          "status": "completed"
        },
        "tags": [],
        "id": "MP33zI4PYynr"
      },
      "source": [
        "sns.palplot(sns.color_palette(custom_colors),size=1)\n",
        "plt.tick_params(axis='both', labelsize=0, length = 0)"
      ],
      "execution_count": 10,
      "outputs": []
    },
    {
      "cell_type": "code",
      "metadata": {
        "execution": {
          "iopub.execute_input": "2020-12-18T11:03:20.255566Z",
          "iopub.status.busy": "2020-12-18T11:03:20.254424Z",
          "iopub.status.idle": "2020-12-18T11:03:20.259685Z",
          "shell.execute_reply": "2020-12-18T11:03:20.260250Z"
        },
        "papermill": {
          "duration": 0.097884,
          "end_time": "2020-12-18T11:03:20.260412",
          "exception": false,
          "start_time": "2020-12-18T11:03:20.162528",
          "status": "completed"
        },
        "tags": [],
        "id": "oQuqIGVHYynt"
      },
      "source": [
        "sns.set_context(\"notebook\", font_scale=1.5, rc={\"lines.linewidth\": 2.5})"
      ],
      "execution_count": 11,
      "outputs": []
    },
    {
      "cell_type": "code",
      "metadata": {
        "_cell_guid": "79c7e3d0-c299-4dcb-8224-4455121ee9b0",
        "_uuid": "d629ff2d2480ee46fbb7e2d37f6b5fab8052498a",
        "execution": {
          "iopub.execute_input": "2020-12-18T11:03:20.554019Z",
          "iopub.status.busy": "2020-12-18T11:03:20.553247Z",
          "iopub.status.idle": "2020-12-18T11:03:20.585625Z",
          "shell.execute_reply": "2020-12-18T11:03:20.586293Z"
        },
        "papermill": {
          "duration": 0.108536,
          "end_time": "2020-12-18T11:03:20.586448",
          "exception": false,
          "start_time": "2020-12-18T11:03:20.477912",
          "status": "completed"
        },
        "tags": [],
        "colab": {
          "base_uri": "https://localhost:8080/",
          "height": 246
        },
        "id": "NYShz3dbYynu",
        "outputId": "9df5583a-e7b2-41be-9eea-ab6bcbd9500e"
      },
      "source": [
        "train_data = pd.read_csv(\"https://raw.githubusercontent.com/benvictoria21/pandas/master/dataset/Titanic%20-%20Machine%20Learning%20from%20Disaster/train.csv\")\n",
        "train_data.head()"
      ],
      "execution_count": 12,
      "outputs": [
        {
          "output_type": "execute_result",
          "data": {
            "text/html": [
              "<div>\n",
              "<style scoped>\n",
              "    .dataframe tbody tr th:only-of-type {\n",
              "        vertical-align: middle;\n",
              "    }\n",
              "\n",
              "    .dataframe tbody tr th {\n",
              "        vertical-align: top;\n",
              "    }\n",
              "\n",
              "    .dataframe thead th {\n",
              "        text-align: right;\n",
              "    }\n",
              "</style>\n",
              "<table border=\"1\" class=\"dataframe\">\n",
              "  <thead>\n",
              "    <tr style=\"text-align: right;\">\n",
              "      <th></th>\n",
              "      <th>PassengerId</th>\n",
              "      <th>Survived</th>\n",
              "      <th>Pclass</th>\n",
              "      <th>Name</th>\n",
              "      <th>Sex</th>\n",
              "      <th>Age</th>\n",
              "      <th>SibSp</th>\n",
              "      <th>Parch</th>\n",
              "      <th>Ticket</th>\n",
              "      <th>Fare</th>\n",
              "      <th>Cabin</th>\n",
              "      <th>Embarked</th>\n",
              "    </tr>\n",
              "  </thead>\n",
              "  <tbody>\n",
              "    <tr>\n",
              "      <th>0</th>\n",
              "      <td>1</td>\n",
              "      <td>0</td>\n",
              "      <td>3</td>\n",
              "      <td>Braund, Mr. Owen Harris</td>\n",
              "      <td>male</td>\n",
              "      <td>22.0</td>\n",
              "      <td>1</td>\n",
              "      <td>0</td>\n",
              "      <td>A/5 21171</td>\n",
              "      <td>7.2500</td>\n",
              "      <td>NaN</td>\n",
              "      <td>S</td>\n",
              "    </tr>\n",
              "    <tr>\n",
              "      <th>1</th>\n",
              "      <td>2</td>\n",
              "      <td>1</td>\n",
              "      <td>1</td>\n",
              "      <td>Cumings, Mrs. John Bradley (Florence Briggs Th...</td>\n",
              "      <td>female</td>\n",
              "      <td>38.0</td>\n",
              "      <td>1</td>\n",
              "      <td>0</td>\n",
              "      <td>PC 17599</td>\n",
              "      <td>71.2833</td>\n",
              "      <td>C85</td>\n",
              "      <td>C</td>\n",
              "    </tr>\n",
              "    <tr>\n",
              "      <th>2</th>\n",
              "      <td>3</td>\n",
              "      <td>1</td>\n",
              "      <td>3</td>\n",
              "      <td>Heikkinen, Miss. Laina</td>\n",
              "      <td>female</td>\n",
              "      <td>26.0</td>\n",
              "      <td>0</td>\n",
              "      <td>0</td>\n",
              "      <td>STON/O2. 3101282</td>\n",
              "      <td>7.9250</td>\n",
              "      <td>NaN</td>\n",
              "      <td>S</td>\n",
              "    </tr>\n",
              "    <tr>\n",
              "      <th>3</th>\n",
              "      <td>4</td>\n",
              "      <td>1</td>\n",
              "      <td>1</td>\n",
              "      <td>Futrelle, Mrs. Jacques Heath (Lily May Peel)</td>\n",
              "      <td>female</td>\n",
              "      <td>35.0</td>\n",
              "      <td>1</td>\n",
              "      <td>0</td>\n",
              "      <td>113803</td>\n",
              "      <td>53.1000</td>\n",
              "      <td>C123</td>\n",
              "      <td>S</td>\n",
              "    </tr>\n",
              "    <tr>\n",
              "      <th>4</th>\n",
              "      <td>5</td>\n",
              "      <td>0</td>\n",
              "      <td>3</td>\n",
              "      <td>Allen, Mr. William Henry</td>\n",
              "      <td>male</td>\n",
              "      <td>35.0</td>\n",
              "      <td>0</td>\n",
              "      <td>0</td>\n",
              "      <td>373450</td>\n",
              "      <td>8.0500</td>\n",
              "      <td>NaN</td>\n",
              "      <td>S</td>\n",
              "    </tr>\n",
              "  </tbody>\n",
              "</table>\n",
              "</div>"
            ],
            "text/plain": [
              "   PassengerId  Survived  Pclass  ...     Fare Cabin  Embarked\n",
              "0            1         0       3  ...   7.2500   NaN         S\n",
              "1            2         1       1  ...  71.2833   C85         C\n",
              "2            3         1       3  ...   7.9250   NaN         S\n",
              "3            4         1       1  ...  53.1000  C123         S\n",
              "4            5         0       3  ...   8.0500   NaN         S\n",
              "\n",
              "[5 rows x 12 columns]"
            ]
          },
          "metadata": {
            "tags": []
          },
          "execution_count": 12
        }
      ]
    },
    {
      "cell_type": "code",
      "metadata": {
        "execution": {
          "iopub.execute_input": "2020-12-18T11:03:20.727748Z",
          "iopub.status.busy": "2020-12-18T11:03:20.727116Z",
          "iopub.status.idle": "2020-12-18T11:03:20.731947Z",
          "shell.execute_reply": "2020-12-18T11:03:20.732548Z"
        },
        "papermill": {
          "duration": 0.076738,
          "end_time": "2020-12-18T11:03:20.732716",
          "exception": false,
          "start_time": "2020-12-18T11:03:20.655978",
          "status": "completed"
        },
        "tags": [],
        "colab": {
          "base_uri": "https://localhost:8080/"
        },
        "id": "3RBg61xsYynu",
        "outputId": "fceec33e-14ac-4a49-c373-a6a1ea7a85a9"
      },
      "source": [
        "train_data.shape"
      ],
      "execution_count": 13,
      "outputs": [
        {
          "output_type": "execute_result",
          "data": {
            "text/plain": [
              "(891, 12)"
            ]
          },
          "metadata": {
            "tags": []
          },
          "execution_count": 13
        }
      ]
    },
    {
      "cell_type": "code",
      "metadata": {
        "execution": {
          "iopub.execute_input": "2020-12-18T11:03:20.873415Z",
          "iopub.status.busy": "2020-12-18T11:03:20.872763Z",
          "iopub.status.idle": "2020-12-18T11:03:20.899916Z",
          "shell.execute_reply": "2020-12-18T11:03:20.899290Z"
        },
        "papermill": {
          "duration": 0.098906,
          "end_time": "2020-12-18T11:03:20.900041",
          "exception": false,
          "start_time": "2020-12-18T11:03:20.801135",
          "status": "completed"
        },
        "tags": [],
        "colab": {
          "base_uri": "https://localhost:8080/",
          "height": 195
        },
        "id": "6-EUxZ_qYynv",
        "outputId": "f505ba59-d710-4f7b-ea3e-f1c1aaebd89f"
      },
      "source": [
        "test_data = pd.read_csv(\"https://raw.githubusercontent.com/benvictoria21/pandas/master/dataset/Titanic%20-%20Machine%20Learning%20from%20Disaster/test.csv\")\n",
        "test_data.head()"
      ],
      "execution_count": 14,
      "outputs": [
        {
          "output_type": "execute_result",
          "data": {
            "text/html": [
              "<div>\n",
              "<style scoped>\n",
              "    .dataframe tbody tr th:only-of-type {\n",
              "        vertical-align: middle;\n",
              "    }\n",
              "\n",
              "    .dataframe tbody tr th {\n",
              "        vertical-align: top;\n",
              "    }\n",
              "\n",
              "    .dataframe thead th {\n",
              "        text-align: right;\n",
              "    }\n",
              "</style>\n",
              "<table border=\"1\" class=\"dataframe\">\n",
              "  <thead>\n",
              "    <tr style=\"text-align: right;\">\n",
              "      <th></th>\n",
              "      <th>PassengerId</th>\n",
              "      <th>Pclass</th>\n",
              "      <th>Name</th>\n",
              "      <th>Sex</th>\n",
              "      <th>Age</th>\n",
              "      <th>SibSp</th>\n",
              "      <th>Parch</th>\n",
              "      <th>Ticket</th>\n",
              "      <th>Fare</th>\n",
              "      <th>Cabin</th>\n",
              "      <th>Embarked</th>\n",
              "    </tr>\n",
              "  </thead>\n",
              "  <tbody>\n",
              "    <tr>\n",
              "      <th>0</th>\n",
              "      <td>892</td>\n",
              "      <td>3</td>\n",
              "      <td>Kelly, Mr. James</td>\n",
              "      <td>male</td>\n",
              "      <td>34.5</td>\n",
              "      <td>0</td>\n",
              "      <td>0</td>\n",
              "      <td>330911</td>\n",
              "      <td>7.8292</td>\n",
              "      <td>NaN</td>\n",
              "      <td>Q</td>\n",
              "    </tr>\n",
              "    <tr>\n",
              "      <th>1</th>\n",
              "      <td>893</td>\n",
              "      <td>3</td>\n",
              "      <td>Wilkes, Mrs. James (Ellen Needs)</td>\n",
              "      <td>female</td>\n",
              "      <td>47.0</td>\n",
              "      <td>1</td>\n",
              "      <td>0</td>\n",
              "      <td>363272</td>\n",
              "      <td>7.0000</td>\n",
              "      <td>NaN</td>\n",
              "      <td>S</td>\n",
              "    </tr>\n",
              "    <tr>\n",
              "      <th>2</th>\n",
              "      <td>894</td>\n",
              "      <td>2</td>\n",
              "      <td>Myles, Mr. Thomas Francis</td>\n",
              "      <td>male</td>\n",
              "      <td>62.0</td>\n",
              "      <td>0</td>\n",
              "      <td>0</td>\n",
              "      <td>240276</td>\n",
              "      <td>9.6875</td>\n",
              "      <td>NaN</td>\n",
              "      <td>Q</td>\n",
              "    </tr>\n",
              "    <tr>\n",
              "      <th>3</th>\n",
              "      <td>895</td>\n",
              "      <td>3</td>\n",
              "      <td>Wirz, Mr. Albert</td>\n",
              "      <td>male</td>\n",
              "      <td>27.0</td>\n",
              "      <td>0</td>\n",
              "      <td>0</td>\n",
              "      <td>315154</td>\n",
              "      <td>8.6625</td>\n",
              "      <td>NaN</td>\n",
              "      <td>S</td>\n",
              "    </tr>\n",
              "    <tr>\n",
              "      <th>4</th>\n",
              "      <td>896</td>\n",
              "      <td>3</td>\n",
              "      <td>Hirvonen, Mrs. Alexander (Helga E Lindqvist)</td>\n",
              "      <td>female</td>\n",
              "      <td>22.0</td>\n",
              "      <td>1</td>\n",
              "      <td>1</td>\n",
              "      <td>3101298</td>\n",
              "      <td>12.2875</td>\n",
              "      <td>NaN</td>\n",
              "      <td>S</td>\n",
              "    </tr>\n",
              "  </tbody>\n",
              "</table>\n",
              "</div>"
            ],
            "text/plain": [
              "   PassengerId  Pclass  ... Cabin Embarked\n",
              "0          892       3  ...   NaN        Q\n",
              "1          893       3  ...   NaN        S\n",
              "2          894       2  ...   NaN        Q\n",
              "3          895       3  ...   NaN        S\n",
              "4          896       3  ...   NaN        S\n",
              "\n",
              "[5 rows x 11 columns]"
            ]
          },
          "metadata": {
            "tags": []
          },
          "execution_count": 14
        }
      ]
    },
    {
      "cell_type": "code",
      "metadata": {
        "execution": {
          "iopub.execute_input": "2020-12-18T11:03:21.045742Z",
          "iopub.status.busy": "2020-12-18T11:03:21.044752Z",
          "iopub.status.idle": "2020-12-18T11:03:21.048742Z",
          "shell.execute_reply": "2020-12-18T11:03:21.049238Z"
        },
        "papermill": {
          "duration": 0.079523,
          "end_time": "2020-12-18T11:03:21.049402",
          "exception": false,
          "start_time": "2020-12-18T11:03:20.969879",
          "status": "completed"
        },
        "tags": [],
        "colab": {
          "base_uri": "https://localhost:8080/"
        },
        "id": "xe5lQbb_Yynw",
        "outputId": "1fa17a2e-84c1-4818-c4e5-170ae7e298be"
      },
      "source": [
        "test_data.shape"
      ],
      "execution_count": 15,
      "outputs": [
        {
          "output_type": "execute_result",
          "data": {
            "text/plain": [
              "(418, 11)"
            ]
          },
          "metadata": {
            "tags": []
          },
          "execution_count": 15
        }
      ]
    },
    {
      "cell_type": "code",
      "metadata": {
        "execution": {
          "iopub.execute_input": "2020-12-18T11:03:21.484029Z",
          "iopub.status.busy": "2020-12-18T11:03:21.483228Z",
          "iopub.status.idle": "2020-12-18T11:03:21.513563Z",
          "shell.execute_reply": "2020-12-18T11:03:21.512929Z"
        },
        "papermill": {
          "duration": 0.114747,
          "end_time": "2020-12-18T11:03:21.513678",
          "exception": false,
          "start_time": "2020-12-18T11:03:21.398931",
          "status": "completed"
        },
        "tags": [],
        "colab": {
          "base_uri": "https://localhost:8080/",
          "height": 284
        },
        "id": "E1YXkY9-Yyny",
        "outputId": "c809abb5-29f7-4d5f-e6e5-b3a9a0f2f84c"
      },
      "source": [
        "train_data.describe()"
      ],
      "execution_count": 16,
      "outputs": [
        {
          "output_type": "execute_result",
          "data": {
            "text/html": [
              "<div>\n",
              "<style scoped>\n",
              "    .dataframe tbody tr th:only-of-type {\n",
              "        vertical-align: middle;\n",
              "    }\n",
              "\n",
              "    .dataframe tbody tr th {\n",
              "        vertical-align: top;\n",
              "    }\n",
              "\n",
              "    .dataframe thead th {\n",
              "        text-align: right;\n",
              "    }\n",
              "</style>\n",
              "<table border=\"1\" class=\"dataframe\">\n",
              "  <thead>\n",
              "    <tr style=\"text-align: right;\">\n",
              "      <th></th>\n",
              "      <th>PassengerId</th>\n",
              "      <th>Survived</th>\n",
              "      <th>Pclass</th>\n",
              "      <th>Age</th>\n",
              "      <th>SibSp</th>\n",
              "      <th>Parch</th>\n",
              "      <th>Fare</th>\n",
              "    </tr>\n",
              "  </thead>\n",
              "  <tbody>\n",
              "    <tr>\n",
              "      <th>count</th>\n",
              "      <td>891.000000</td>\n",
              "      <td>891.000000</td>\n",
              "      <td>891.000000</td>\n",
              "      <td>714.000000</td>\n",
              "      <td>891.000000</td>\n",
              "      <td>891.000000</td>\n",
              "      <td>891.000000</td>\n",
              "    </tr>\n",
              "    <tr>\n",
              "      <th>mean</th>\n",
              "      <td>446.000000</td>\n",
              "      <td>0.383838</td>\n",
              "      <td>2.308642</td>\n",
              "      <td>29.699118</td>\n",
              "      <td>0.523008</td>\n",
              "      <td>0.381594</td>\n",
              "      <td>32.204208</td>\n",
              "    </tr>\n",
              "    <tr>\n",
              "      <th>std</th>\n",
              "      <td>257.353842</td>\n",
              "      <td>0.486592</td>\n",
              "      <td>0.836071</td>\n",
              "      <td>14.526497</td>\n",
              "      <td>1.102743</td>\n",
              "      <td>0.806057</td>\n",
              "      <td>49.693429</td>\n",
              "    </tr>\n",
              "    <tr>\n",
              "      <th>min</th>\n",
              "      <td>1.000000</td>\n",
              "      <td>0.000000</td>\n",
              "      <td>1.000000</td>\n",
              "      <td>0.420000</td>\n",
              "      <td>0.000000</td>\n",
              "      <td>0.000000</td>\n",
              "      <td>0.000000</td>\n",
              "    </tr>\n",
              "    <tr>\n",
              "      <th>25%</th>\n",
              "      <td>223.500000</td>\n",
              "      <td>0.000000</td>\n",
              "      <td>2.000000</td>\n",
              "      <td>20.125000</td>\n",
              "      <td>0.000000</td>\n",
              "      <td>0.000000</td>\n",
              "      <td>7.910400</td>\n",
              "    </tr>\n",
              "    <tr>\n",
              "      <th>50%</th>\n",
              "      <td>446.000000</td>\n",
              "      <td>0.000000</td>\n",
              "      <td>3.000000</td>\n",
              "      <td>28.000000</td>\n",
              "      <td>0.000000</td>\n",
              "      <td>0.000000</td>\n",
              "      <td>14.454200</td>\n",
              "    </tr>\n",
              "    <tr>\n",
              "      <th>75%</th>\n",
              "      <td>668.500000</td>\n",
              "      <td>1.000000</td>\n",
              "      <td>3.000000</td>\n",
              "      <td>38.000000</td>\n",
              "      <td>1.000000</td>\n",
              "      <td>0.000000</td>\n",
              "      <td>31.000000</td>\n",
              "    </tr>\n",
              "    <tr>\n",
              "      <th>max</th>\n",
              "      <td>891.000000</td>\n",
              "      <td>1.000000</td>\n",
              "      <td>3.000000</td>\n",
              "      <td>80.000000</td>\n",
              "      <td>8.000000</td>\n",
              "      <td>6.000000</td>\n",
              "      <td>512.329200</td>\n",
              "    </tr>\n",
              "  </tbody>\n",
              "</table>\n",
              "</div>"
            ],
            "text/plain": [
              "       PassengerId    Survived      Pclass  ...       SibSp       Parch        Fare\n",
              "count   891.000000  891.000000  891.000000  ...  891.000000  891.000000  891.000000\n",
              "mean    446.000000    0.383838    2.308642  ...    0.523008    0.381594   32.204208\n",
              "std     257.353842    0.486592    0.836071  ...    1.102743    0.806057   49.693429\n",
              "min       1.000000    0.000000    1.000000  ...    0.000000    0.000000    0.000000\n",
              "25%     223.500000    0.000000    2.000000  ...    0.000000    0.000000    7.910400\n",
              "50%     446.000000    0.000000    3.000000  ...    0.000000    0.000000   14.454200\n",
              "75%     668.500000    1.000000    3.000000  ...    1.000000    0.000000   31.000000\n",
              "max     891.000000    1.000000    3.000000  ...    8.000000    6.000000  512.329200\n",
              "\n",
              "[8 rows x 7 columns]"
            ]
          },
          "metadata": {
            "tags": []
          },
          "execution_count": 16
        }
      ]
    },
    {
      "cell_type": "code",
      "metadata": {
        "execution": {
          "iopub.execute_input": "2020-12-18T11:03:21.804639Z",
          "iopub.status.busy": "2020-12-18T11:03:21.804005Z",
          "iopub.status.idle": "2020-12-18T11:03:21.807414Z",
          "shell.execute_reply": "2020-12-18T11:03:21.807969Z"
        },
        "papermill": {
          "duration": 0.081939,
          "end_time": "2020-12-18T11:03:21.808121",
          "exception": false,
          "start_time": "2020-12-18T11:03:21.726182",
          "status": "completed"
        },
        "tags": [],
        "colab": {
          "base_uri": "https://localhost:8080/"
        },
        "id": "q-wdUF7dYynz",
        "outputId": "8c63ded2-07eb-4864-c7c5-bb30c0193f32"
      },
      "source": [
        "train_data.dtypes"
      ],
      "execution_count": 17,
      "outputs": [
        {
          "output_type": "execute_result",
          "data": {
            "text/plain": [
              "PassengerId      int64\n",
              "Survived         int64\n",
              "Pclass           int64\n",
              "Name            object\n",
              "Sex             object\n",
              "Age            float64\n",
              "SibSp            int64\n",
              "Parch            int64\n",
              "Ticket          object\n",
              "Fare           float64\n",
              "Cabin           object\n",
              "Embarked        object\n",
              "dtype: object"
            ]
          },
          "metadata": {
            "tags": []
          },
          "execution_count": 17
        }
      ]
    },
    {
      "cell_type": "code",
      "metadata": {
        "execution": {
          "iopub.execute_input": "2020-12-18T11:03:22.097367Z",
          "iopub.status.busy": "2020-12-18T11:03:22.096687Z",
          "iopub.status.idle": "2020-12-18T11:03:22.104368Z",
          "shell.execute_reply": "2020-12-18T11:03:22.104931Z"
        },
        "papermill": {
          "duration": 0.082793,
          "end_time": "2020-12-18T11:03:22.105113",
          "exception": false,
          "start_time": "2020-12-18T11:03:22.022320",
          "status": "completed"
        },
        "tags": [],
        "colab": {
          "base_uri": "https://localhost:8080/"
        },
        "id": "KjW73JnjYyn0",
        "outputId": "347caa9b-c1f6-43ff-a6c7-db848c9c54d3"
      },
      "source": [
        "train_data.isna().sum()"
      ],
      "execution_count": 18,
      "outputs": [
        {
          "output_type": "execute_result",
          "data": {
            "text/plain": [
              "PassengerId      0\n",
              "Survived         0\n",
              "Pclass           0\n",
              "Name             0\n",
              "Sex              0\n",
              "Age            177\n",
              "SibSp            0\n",
              "Parch            0\n",
              "Ticket           0\n",
              "Fare             0\n",
              "Cabin          687\n",
              "Embarked         2\n",
              "dtype: int64"
            ]
          },
          "metadata": {
            "tags": []
          },
          "execution_count": 18
        }
      ]
    },
    {
      "cell_type": "code",
      "metadata": {
        "execution": {
          "iopub.execute_input": "2020-12-18T11:03:22.395453Z",
          "iopub.status.busy": "2020-12-18T11:03:22.394826Z",
          "iopub.status.idle": "2020-12-18T11:03:22.409677Z",
          "shell.execute_reply": "2020-12-18T11:03:22.409120Z"
        },
        "papermill": {
          "duration": 0.08937,
          "end_time": "2020-12-18T11:03:22.409823",
          "exception": false,
          "start_time": "2020-12-18T11:03:22.320453",
          "status": "completed"
        },
        "tags": [],
        "colab": {
          "base_uri": "https://localhost:8080/"
        },
        "id": "0tq_gecHYyn1",
        "outputId": "4217e37e-70df-4695-cecf-56945bc17e37"
      },
      "source": [
        "train_data.nunique()"
      ],
      "execution_count": 19,
      "outputs": [
        {
          "output_type": "execute_result",
          "data": {
            "text/plain": [
              "PassengerId    891\n",
              "Survived         2\n",
              "Pclass           3\n",
              "Name           891\n",
              "Sex              2\n",
              "Age             88\n",
              "SibSp            7\n",
              "Parch            7\n",
              "Ticket         681\n",
              "Fare           248\n",
              "Cabin          147\n",
              "Embarked         3\n",
              "dtype: int64"
            ]
          },
          "metadata": {
            "tags": []
          },
          "execution_count": 19
        }
      ]
    },
    {
      "cell_type": "code",
      "metadata": {
        "execution": {
          "iopub.execute_input": "2020-12-18T11:03:45.622238Z",
          "iopub.status.busy": "2020-12-18T11:03:45.621474Z",
          "iopub.status.idle": "2020-12-18T11:03:45.624626Z",
          "shell.execute_reply": "2020-12-18T11:03:45.625182Z"
        },
        "papermill": {
          "duration": 0.253462,
          "end_time": "2020-12-18T11:03:45.625338",
          "exception": false,
          "start_time": "2020-12-18T11:03:45.371876",
          "status": "completed"
        },
        "tags": [],
        "colab": {
          "base_uri": "https://localhost:8080/"
        },
        "id": "syzIxagxYyoL",
        "outputId": "f334ab77-0954-4f6e-a003-7b6a9ea56afa"
      },
      "source": [
        "train_data['Cabin'].unique()"
      ],
      "execution_count": 21,
      "outputs": [
        {
          "output_type": "execute_result",
          "data": {
            "text/plain": [
              "array([nan, 'C85', 'C123', 'E46', 'G6', 'C103', 'D56', 'A6',\n",
              "       'C23 C25 C27', 'B78', 'D33', 'B30', 'C52', 'B28', 'C83', 'F33',\n",
              "       'F G73', 'E31', 'A5', 'D10 D12', 'D26', 'C110', 'B58 B60', 'E101',\n",
              "       'F E69', 'D47', 'B86', 'F2', 'C2', 'E33', 'B19', 'A7', 'C49', 'F4',\n",
              "       'A32', 'B4', 'B80', 'A31', 'D36', 'D15', 'C93', 'C78', 'D35',\n",
              "       'C87', 'B77', 'E67', 'B94', 'C125', 'C99', 'C118', 'D7', 'A19',\n",
              "       'B49', 'D', 'C22 C26', 'C106', 'C65', 'E36', 'C54',\n",
              "       'B57 B59 B63 B66', 'C7', 'E34', 'C32', 'B18', 'C124', 'C91', 'E40',\n",
              "       'T', 'C128', 'D37', 'B35', 'E50', 'C82', 'B96 B98', 'E10', 'E44',\n",
              "       'A34', 'C104', 'C111', 'C92', 'E38', 'D21', 'E12', 'E63', 'A14',\n",
              "       'B37', 'C30', 'D20', 'B79', 'E25', 'D46', 'B73', 'C95', 'B38',\n",
              "       'B39', 'B22', 'C86', 'C70', 'A16', 'C101', 'C68', 'A10', 'E68',\n",
              "       'B41', 'A20', 'D19', 'D50', 'D9', 'A23', 'B50', 'A26', 'D48',\n",
              "       'E58', 'C126', 'B71', 'B51 B53 B55', 'D49', 'B5', 'B20', 'F G63',\n",
              "       'C62 C64', 'E24', 'C90', 'C45', 'E8', 'B101', 'D45', 'C46', 'D30',\n",
              "       'E121', 'D11', 'E77', 'F38', 'B3', 'D6', 'B82 B84', 'D17', 'A36',\n",
              "       'B102', 'B69', 'E49', 'C47', 'D28', 'E17', 'A24', 'C50', 'B42',\n",
              "       'C148'], dtype=object)"
            ]
          },
          "metadata": {
            "tags": []
          },
          "execution_count": 21
        }
      ]
    },
    {
      "cell_type": "code",
      "metadata": {
        "execution": {
          "iopub.execute_input": "2020-12-18T11:03:46.125425Z",
          "iopub.status.busy": "2020-12-18T11:03:46.124372Z",
          "iopub.status.idle": "2020-12-18T11:03:46.127915Z",
          "shell.execute_reply": "2020-12-18T11:03:46.127367Z"
        },
        "papermill": {
          "duration": 0.25025,
          "end_time": "2020-12-18T11:03:46.128055",
          "exception": false,
          "start_time": "2020-12-18T11:03:45.877805",
          "status": "completed"
        },
        "tags": [],
        "id": "DWaIur9aYyoM"
      },
      "source": [
        "train_data['Cabin'] = train_data['Cabin'].apply(lambda i: i[0] if pd.notnull(i) else 'Z')\n",
        "test_data['Cabin'] = test_data['Cabin'].apply(lambda i: i[0] if pd.notnull(i) else 'Z')"
      ],
      "execution_count": 22,
      "outputs": []
    },
    {
      "cell_type": "code",
      "metadata": {
        "execution": {
          "iopub.execute_input": "2020-12-18T11:03:47.084173Z",
          "iopub.status.busy": "2020-12-18T11:03:47.083296Z",
          "iopub.status.idle": "2020-12-18T11:03:47.088336Z",
          "shell.execute_reply": "2020-12-18T11:03:47.087732Z"
        },
        "papermill": {
          "duration": 0.249209,
          "end_time": "2020-12-18T11:03:47.088449",
          "exception": false,
          "start_time": "2020-12-18T11:03:46.839240",
          "status": "completed"
        },
        "tags": [],
        "colab": {
          "base_uri": "https://localhost:8080/"
        },
        "id": "gTaIvn8FYyoM",
        "outputId": "192b3f45-8b02-4c46-9126-246235b67b2d"
      },
      "source": [
        "train_data['Cabin'].unique()"
      ],
      "execution_count": 23,
      "outputs": [
        {
          "output_type": "execute_result",
          "data": {
            "text/plain": [
              "array(['Z', 'C', 'E', 'G', 'D', 'A', 'B', 'F', 'T'], dtype=object)"
            ]
          },
          "metadata": {
            "tags": []
          },
          "execution_count": 23
        }
      ]
    },
    {
      "cell_type": "code",
      "metadata": {
        "execution": {
          "iopub.execute_input": "2020-12-18T11:03:47.582777Z",
          "iopub.status.busy": "2020-12-18T11:03:47.582118Z",
          "iopub.status.idle": "2020-12-18T11:03:47.588339Z",
          "shell.execute_reply": "2020-12-18T11:03:47.588929Z"
        },
        "papermill": {
          "duration": 0.246928,
          "end_time": "2020-12-18T11:03:47.589118",
          "exception": false,
          "start_time": "2020-12-18T11:03:47.342190",
          "status": "completed"
        },
        "tags": [],
        "colab": {
          "base_uri": "https://localhost:8080/"
        },
        "id": "0wK8vwXKYyoN",
        "outputId": "8ec7e9bd-f1cb-4bad-f469-9b4453ac7ec6"
      },
      "source": [
        "train_data[train_data['Cabin']=='T'].index.values"
      ],
      "execution_count": 24,
      "outputs": [
        {
          "output_type": "execute_result",
          "data": {
            "text/plain": [
              "array([339])"
            ]
          },
          "metadata": {
            "tags": []
          },
          "execution_count": 24
        }
      ]
    },
    {
      "cell_type": "code",
      "metadata": {
        "execution": {
          "iopub.execute_input": "2020-12-18T11:03:48.085842Z",
          "iopub.status.busy": "2020-12-18T11:03:48.085168Z",
          "iopub.status.idle": "2020-12-18T11:03:48.091305Z",
          "shell.execute_reply": "2020-12-18T11:03:48.091810Z"
        },
        "papermill": {
          "duration": 0.257003,
          "end_time": "2020-12-18T11:03:48.091980",
          "exception": false,
          "start_time": "2020-12-18T11:03:47.834977",
          "status": "completed"
        },
        "tags": [],
        "colab": {
          "base_uri": "https://localhost:8080/"
        },
        "id": "5GdLnHqRYyoO",
        "outputId": "a65354b6-03cd-4938-9532-841e708dcba0"
      },
      "source": [
        "test_data[test_data['Cabin']=='T'].index.values"
      ],
      "execution_count": 25,
      "outputs": [
        {
          "output_type": "execute_result",
          "data": {
            "text/plain": [
              "array([], dtype=int64)"
            ]
          },
          "metadata": {
            "tags": []
          },
          "execution_count": 25
        }
      ]
    },
    {
      "cell_type": "code",
      "metadata": {
        "execution": {
          "iopub.execute_input": "2020-12-18T11:03:48.588202Z",
          "iopub.status.busy": "2020-12-18T11:03:48.587529Z",
          "iopub.status.idle": "2020-12-18T11:03:48.593988Z",
          "shell.execute_reply": "2020-12-18T11:03:48.594523Z"
        },
        "papermill": {
          "duration": 0.247143,
          "end_time": "2020-12-18T11:03:48.594674",
          "exception": false,
          "start_time": "2020-12-18T11:03:48.347531",
          "status": "completed"
        },
        "tags": [],
        "colab": {
          "base_uri": "https://localhost:8080/"
        },
        "id": "-oywxwhHYyoO",
        "outputId": "3613c0bd-abab-49db-abd1-aa0bc62847da"
      },
      "source": [
        "train_data.iloc[339]"
      ],
      "execution_count": 26,
      "outputs": [
        {
          "output_type": "execute_result",
          "data": {
            "text/plain": [
              "PassengerId                             340\n",
              "Survived                                  0\n",
              "Pclass                                    1\n",
              "Name           Blackwell, Mr. Stephen Weart\n",
              "Sex                                    male\n",
              "Age                                      45\n",
              "SibSp                                     0\n",
              "Parch                                     0\n",
              "Ticket                               113784\n",
              "Fare                                   35.5\n",
              "Cabin                                     T\n",
              "Embarked                                  S\n",
              "Name: 339, dtype: object"
            ]
          },
          "metadata": {
            "tags": []
          },
          "execution_count": 26
        }
      ]
    },
    {
      "cell_type": "code",
      "metadata": {
        "execution": {
          "iopub.execute_input": "2020-12-18T11:03:49.583890Z",
          "iopub.status.busy": "2020-12-18T11:03:49.583230Z",
          "iopub.status.idle": "2020-12-18T11:03:49.588954Z",
          "shell.execute_reply": "2020-12-18T11:03:49.589506Z"
        },
        "papermill": {
          "duration": 0.258612,
          "end_time": "2020-12-18T11:03:49.589669",
          "exception": false,
          "start_time": "2020-12-18T11:03:49.331057",
          "status": "completed"
        },
        "tags": [],
        "id": "I3Dm1fHLYyoP"
      },
      "source": [
        "index = train_data[train_data['Cabin'] == 'T'].index\n",
        "train_data.loc[index, 'Cabin'] = 'A'"
      ],
      "execution_count": 27,
      "outputs": []
    },
    {
      "cell_type": "code",
      "metadata": {
        "execution": {
          "iopub.execute_input": "2020-12-18T11:03:50.093465Z",
          "iopub.status.busy": "2020-12-18T11:03:50.092788Z",
          "iopub.status.idle": "2020-12-18T11:03:50.097734Z",
          "shell.execute_reply": "2020-12-18T11:03:50.098344Z"
        },
        "papermill": {
          "duration": 0.260647,
          "end_time": "2020-12-18T11:03:50.098524",
          "exception": false,
          "start_time": "2020-12-18T11:03:49.837877",
          "status": "completed"
        },
        "tags": [],
        "id": "Z2aK95f5Yyo-"
      },
      "source": [
        "def plot_bar(df, feat_x, feat_y,s, normalize=True):\n",
        "    ct = pd.crosstab(df[feat_x], df[feat_y])\n",
        "    return ct.plot(kind='bar', stacked=s)"
      ],
      "execution_count": 28,
      "outputs": []
    },
    {
      "cell_type": "code",
      "metadata": {
        "execution": {
          "iopub.execute_input": "2020-12-18T11:03:50.643755Z",
          "iopub.status.busy": "2020-12-18T11:03:50.642692Z",
          "iopub.status.idle": "2020-12-18T11:03:50.910206Z",
          "shell.execute_reply": "2020-12-18T11:03:50.910813Z"
        },
        "papermill": {
          "duration": 0.526513,
          "end_time": "2020-12-18T11:03:50.910994",
          "exception": false,
          "start_time": "2020-12-18T11:03:50.384481",
          "status": "completed"
        },
        "tags": [],
        "id": "IQoxKIQIYyo_"
      },
      "source": [
        "dpi=80\n",
        "plot_bar(train_data, 'Cabin', 'Pclass',False)\n",
        "plt.legend(title='Pclass',loc='upper right',bbox_to_anchor=(1.25, 1))\n",
        "plt.gcf().set_size_inches(10,8)\n",
        "plt.ylim(0,100)\n",
        "plt.xticks(rotation=45)\n",
        "plt.show()"
      ],
      "execution_count": 29,
      "outputs": []
    },
    {
      "cell_type": "code",
      "metadata": {
        "execution": {
          "iopub.execute_input": "2020-12-18T11:03:51.900550Z",
          "iopub.status.busy": "2020-12-18T11:03:51.899911Z",
          "iopub.status.idle": "2020-12-18T11:03:51.913408Z",
          "shell.execute_reply": "2020-12-18T11:03:51.912856Z"
        },
        "papermill": {
          "duration": 0.264421,
          "end_time": "2020-12-18T11:03:51.913537",
          "exception": false,
          "start_time": "2020-12-18T11:03:51.649116",
          "status": "completed"
        },
        "tags": [],
        "id": "xQkuz4f4YypA"
      },
      "source": [
        "train_data['Cabin'] = train_data['Cabin'].replace(['A', 'B', 'C'], 'ABC')\n",
        "train_data['Cabin'] = train_data['Cabin'].replace(['D', 'E'], 'DE')\n",
        "train_data['Cabin'] = train_data['Cabin'].replace(['F', 'G'], 'FG')\n",
        "\n",
        "test_data['Cabin'] = test_data['Cabin'].replace(['A', 'B', 'C'], 'ABC')\n",
        "test_data['Cabin'] = test_data['Cabin'].replace(['D', 'E'], 'DE')\n",
        "test_data['Cabin'] = test_data['Cabin'].replace(['F', 'G'], 'FG')"
      ],
      "execution_count": 30,
      "outputs": []
    },
    {
      "cell_type": "code",
      "metadata": {
        "execution": {
          "iopub.execute_input": "2020-12-18T11:03:52.931662Z",
          "iopub.status.busy": "2020-12-18T11:03:52.930936Z",
          "iopub.status.idle": "2020-12-18T11:03:52.933695Z",
          "shell.execute_reply": "2020-12-18T11:03:52.933170Z"
        },
        "papermill": {
          "duration": 0.26963,
          "end_time": "2020-12-18T11:03:52.933842",
          "exception": false,
          "start_time": "2020-12-18T11:03:52.664212",
          "status": "completed"
        },
        "tags": [],
        "id": "at7SQx66YypB"
      },
      "source": [
        "train_data.drop([\"Ticket\", \"Name\", \"PassengerId\"], axis=1, inplace=True)\n",
        "test_data.drop([\"Ticket\", \"Name\", \"PassengerId\"], axis=1, inplace=True)\n",
        "\n",
        "train_data[\"Age\"].fillna(train_data[\"Age\"].median(skipna=True), inplace=True)\n",
        "test_data[\"Age\"].fillna(test_data[\"Age\"].median(skipna=True), inplace=True)\n",
        "\n",
        "\n",
        "test_data[\"Fare\"].fillna(test_data[\"Fare\"].median(skipna=True), inplace=True)\n",
        "\n",
        "train_data[\"Embarked\"].fillna('S', inplace=True)\n",
        "test_data[\"Embarked\"].fillna('S', inplace=True)"
      ],
      "execution_count": 31,
      "outputs": []
    },
    {
      "cell_type": "code",
      "metadata": {
        "execution": {
          "iopub.execute_input": "2020-12-18T11:03:53.475311Z",
          "iopub.status.busy": "2020-12-18T11:03:53.474412Z",
          "iopub.status.idle": "2020-12-18T11:03:53.477904Z",
          "shell.execute_reply": "2020-12-18T11:03:53.478539Z"
        },
        "papermill": {
          "duration": 0.296687,
          "end_time": "2020-12-18T11:03:53.478727",
          "exception": false,
          "start_time": "2020-12-18T11:03:53.182040",
          "status": "completed"
        },
        "tags": [],
        "colab": {
          "base_uri": "https://localhost:8080/"
        },
        "id": "j-8pkgHnYypB",
        "outputId": "533c782a-5dc9-49ac-cd89-29a3ac2d7c6d"
      },
      "source": [
        "train_data[\"Cabin\"].unique()"
      ],
      "execution_count": 32,
      "outputs": [
        {
          "output_type": "execute_result",
          "data": {
            "text/plain": [
              "array(['Z', 'ABC', 'DE', 'FG'], dtype=object)"
            ]
          },
          "metadata": {
            "tags": []
          },
          "execution_count": 32
        }
      ]
    },
    {
      "cell_type": "code",
      "metadata": {
        "execution": {
          "iopub.execute_input": "2020-12-18T11:03:54.496156Z",
          "iopub.status.busy": "2020-12-18T11:03:54.495062Z",
          "iopub.status.idle": "2020-12-18T11:03:54.497747Z",
          "shell.execute_reply": "2020-12-18T11:03:54.498217Z"
        },
        "papermill": {
          "duration": 0.265938,
          "end_time": "2020-12-18T11:03:54.498383",
          "exception": false,
          "start_time": "2020-12-18T11:03:54.232445",
          "status": "completed"
        },
        "tags": [],
        "id": "75JcW9qtYypC"
      },
      "source": [
        "gender = {'male': 0, 'female': 1}\n",
        "train_data.Sex = [gender[item] for item in train_data.Sex] \n",
        "test_data.Sex = [gender[item] for item in test_data.Sex] \n",
        "\n",
        "embarked = {'S': 0, 'C': 1, 'Q':2}\n",
        "train_data.Embarked = [embarked[item] for item in train_data.Embarked] \n",
        "test_data.Embarked = [embarked[item] for item in test_data.Embarked] \n",
        "\n",
        "\n",
        "train_data['Cabin'] = LabelEncoder().fit_transform(train_data['Cabin'])\n",
        "test_data['Cabin'] = LabelEncoder().fit_transform(test_data['Cabin'])"
      ],
      "execution_count": 33,
      "outputs": []
    },
    {
      "cell_type": "code",
      "metadata": {
        "execution": {
          "iopub.execute_input": "2020-12-18T11:03:54.998667Z",
          "iopub.status.busy": "2020-12-18T11:03:54.997714Z",
          "iopub.status.idle": "2020-12-18T11:03:55.005552Z",
          "shell.execute_reply": "2020-12-18T11:03:55.006020Z"
        },
        "papermill": {
          "duration": 0.259278,
          "end_time": "2020-12-18T11:03:55.006204",
          "exception": false,
          "start_time": "2020-12-18T11:03:54.746926",
          "status": "completed"
        },
        "tags": [],
        "colab": {
          "base_uri": "https://localhost:8080/"
        },
        "id": "wDkur4ZIYypD",
        "outputId": "b64a6288-62c4-4d8f-9bff-07a8790f9426"
      },
      "source": [
        "train_data.dtypes"
      ],
      "execution_count": 34,
      "outputs": [
        {
          "output_type": "execute_result",
          "data": {
            "text/plain": [
              "Survived      int64\n",
              "Pclass        int64\n",
              "Sex           int64\n",
              "Age         float64\n",
              "SibSp         int64\n",
              "Parch         int64\n",
              "Fare        float64\n",
              "Cabin         int64\n",
              "Embarked      int64\n",
              "dtype: object"
            ]
          },
          "metadata": {
            "tags": []
          },
          "execution_count": 34
        }
      ]
    },
    {
      "cell_type": "code",
      "metadata": {
        "execution": {
          "iopub.execute_input": "2020-12-18T11:03:56.514192Z",
          "iopub.status.busy": "2020-12-18T11:03:56.513493Z",
          "iopub.status.idle": "2020-12-18T11:03:56.939242Z",
          "shell.execute_reply": "2020-12-18T11:03:56.939786Z"
        },
        "papermill": {
          "duration": 0.677336,
          "end_time": "2020-12-18T11:03:56.939946",
          "exception": false,
          "start_time": "2020-12-18T11:03:56.262610",
          "status": "completed"
        },
        "tags": [],
        "id": "FLITqOC2YypF"
      },
      "source": [
        "gender = train_data['Sex'].value_counts()\n",
        "\n",
        "fig = plt.figure(\n",
        "    FigureClass=Waffle, \n",
        "    rows=5,\n",
        "    columns=10,\n",
        "    values=gender,\n",
        "    colors = (custom_colors[0], custom_colors[1]),\n",
        "    title={'label': 'Gender Distribution', 'loc': 'center'},\n",
        "    labels=[\"{}({})\".format(a, b) for a, b in zip(gender.index, gender) ],\n",
        "    legend={'loc': 'upper left', 'bbox_to_anchor': (1,1)},\n",
        "    font_size=35, \n",
        "    icons = ['male','female'],\n",
        "    icon_legend=True,\n",
        "    figsize=(10, 8)\n",
        ")"
      ],
      "execution_count": 35,
      "outputs": []
    },
    {
      "cell_type": "code",
      "metadata": {
        "_kg_hide-input": true,
        "execution": {
          "iopub.execute_input": "2020-12-18T11:03:58.448144Z",
          "iopub.status.busy": "2020-12-18T11:03:58.447494Z",
          "iopub.status.idle": "2020-12-18T11:03:58.449705Z",
          "shell.execute_reply": "2020-12-18T11:03:58.450167Z"
        },
        "papermill": {
          "duration": 0.252122,
          "end_time": "2020-12-18T11:03:58.450321",
          "exception": false,
          "start_time": "2020-12-18T11:03:58.198199",
          "status": "completed"
        },
        "tags": [],
        "id": "Qqml942OYypG"
      },
      "source": [
        "def triple_plot(x, title,c):\n",
        "    fig, ax = plt.subplots(3,1,figsize=(15,8),sharex=True)\n",
        "    sns.distplot(x, ax=ax[0],color=c)\n",
        "    ax[0].set(xlabel=None)\n",
        "    ax[0].set_title('Histogram + KDE')\n",
        "    sns.boxplot(x, ax=ax[1],color=c)\n",
        "    ax[1].set(xlabel=None)\n",
        "    ax[1].set_title('Boxplot')\n",
        "    sns.violinplot(x, ax=ax[2],color=c)\n",
        "    ax[2].set(xlabel=None)\n",
        "    ax[2].set_title('Violin plot')\n",
        "    fig.suptitle(title, fontsize=16)\n",
        "    plt.tight_layout(pad=3.0)\n",
        "    plt.show()"
      ],
      "execution_count": 36,
      "outputs": []
    },
    {
      "cell_type": "code",
      "metadata": {
        "_kg_hide-input": true,
        "execution": {
          "iopub.execute_input": "2020-12-18T11:03:58.955316Z",
          "iopub.status.busy": "2020-12-18T11:03:58.954371Z",
          "iopub.status.idle": "2020-12-18T11:03:58.962288Z",
          "shell.execute_reply": "2020-12-18T11:03:58.962803Z"
        },
        "papermill": {
          "duration": 0.263452,
          "end_time": "2020-12-18T11:03:58.962969",
          "exception": false,
          "start_time": "2020-12-18T11:03:58.699517",
          "status": "completed"
        },
        "tags": [],
        "id": "fk5Ylhz8YypG"
      },
      "source": [
        "def hist(x,title):\n",
        "    plt.figure(figsize = (10,8))\n",
        "    ax = sns.distplot(x, \n",
        "                 kde=False);\n",
        "    values = np.array([rec.get_height() for rec in ax.patches])\n",
        "    norm = plt.Normalize(values.min(), values.max())\n",
        "    colors = plt.cm.jet(norm(values))\n",
        "    for rec, col in zip(ax.patches, colors):\n",
        "        rec.set_color(col)\n",
        "    plt.title(title)"
      ],
      "execution_count": 37,
      "outputs": []
    },
    {
      "cell_type": "code",
      "metadata": {
        "_kg_hide-input": true,
        "execution": {
          "iopub.execute_input": "2020-12-18T11:03:59.473958Z",
          "iopub.status.busy": "2020-12-18T11:03:59.472986Z",
          "iopub.status.idle": "2020-12-18T11:03:59.829173Z",
          "shell.execute_reply": "2020-12-18T11:03:59.828557Z"
        },
        "papermill": {
          "duration": 0.607862,
          "end_time": "2020-12-18T11:03:59.829302",
          "exception": false,
          "start_time": "2020-12-18T11:03:59.221440",
          "status": "completed"
        },
        "tags": [],
        "colab": {
          "base_uri": "https://localhost:8080/"
        },
        "id": "Mst6r04XYypG",
        "outputId": "ea10042c-72b9-40f4-a9ed-dfa1b12fe4ac"
      },
      "source": [
        "hist(train_data['Age'],'Distribution of Age')"
      ],
      "execution_count": 38,
      "outputs": [
        {
          "output_type": "stream",
          "text": [
            "/usr/local/lib/python3.6/dist-packages/seaborn/distributions.py:2551: FutureWarning:\n",
            "\n",
            "`distplot` is a deprecated function and will be removed in a future version. Please adapt your code to use either `displot` (a figure-level function with similar flexibility) or `histplot` (an axes-level function for histograms).\n",
            "\n"
          ],
          "name": "stderr"
        }
      ]
    },
    {
      "cell_type": "code",
      "metadata": {
        "_kg_hide-input": true,
        "execution": {
          "iopub.execute_input": "2020-12-18T11:04:00.332822Z",
          "iopub.status.busy": "2020-12-18T11:04:00.331765Z",
          "iopub.status.idle": "2020-12-18T11:04:01.171056Z",
          "shell.execute_reply": "2020-12-18T11:04:01.170342Z"
        },
        "papermill": {
          "duration": 1.085368,
          "end_time": "2020-12-18T11:04:01.171182",
          "exception": false,
          "start_time": "2020-12-18T11:04:00.085814",
          "status": "completed"
        },
        "tags": [],
        "colab": {
          "base_uri": "https://localhost:8080/"
        },
        "id": "C3x7fvhSYypH",
        "outputId": "eeba2676-62be-4cee-97b0-acd5aab4f47b"
      },
      "source": [
        "triple_plot(train_data['Age'],'Distribution of Age',custom_colors[2])"
      ],
      "execution_count": 39,
      "outputs": [
        {
          "output_type": "stream",
          "text": [
            "/usr/local/lib/python3.6/dist-packages/seaborn/distributions.py:2551: FutureWarning:\n",
            "\n",
            "`distplot` is a deprecated function and will be removed in a future version. Please adapt your code to use either `displot` (a figure-level function with similar flexibility) or `histplot` (an axes-level function for histograms).\n",
            "\n",
            "/usr/local/lib/python3.6/dist-packages/seaborn/_decorators.py:43: FutureWarning:\n",
            "\n",
            "Pass the following variable as a keyword arg: x. From version 0.12, the only valid positional argument will be `data`, and passing other arguments without an explicit keyword will result in an error or misinterpretation.\n",
            "\n",
            "/usr/local/lib/python3.6/dist-packages/seaborn/_decorators.py:43: FutureWarning:\n",
            "\n",
            "Pass the following variable as a keyword arg: x. From version 0.12, the only valid positional argument will be `data`, and passing other arguments without an explicit keyword will result in an error or misinterpretation.\n",
            "\n"
          ],
          "name": "stderr"
        }
      ]
    },
    {
      "cell_type": "code",
      "metadata": {
        "_kg_hide-input": true,
        "execution": {
          "iopub.execute_input": "2020-12-18T11:04:02.166872Z",
          "iopub.status.busy": "2020-12-18T11:04:02.165885Z",
          "iopub.status.idle": "2020-12-18T11:04:02.527540Z",
          "shell.execute_reply": "2020-12-18T11:04:02.526966Z"
        },
        "papermill": {
          "duration": 0.620869,
          "end_time": "2020-12-18T11:04:02.527678",
          "exception": false,
          "start_time": "2020-12-18T11:04:01.906809",
          "status": "completed"
        },
        "tags": [],
        "colab": {
          "base_uri": "https://localhost:8080/"
        },
        "id": "CwJVQ_0MYypH",
        "outputId": "7e6d4b2b-ac28-4e93-b294-c5fda710e8fe"
      },
      "source": [
        "hist(train_data['Fare'],'Distribution of Fare')"
      ],
      "execution_count": 40,
      "outputs": [
        {
          "output_type": "stream",
          "text": [
            "/usr/local/lib/python3.6/dist-packages/seaborn/distributions.py:2551: FutureWarning:\n",
            "\n",
            "`distplot` is a deprecated function and will be removed in a future version. Please adapt your code to use either `displot` (a figure-level function with similar flexibility) or `histplot` (an axes-level function for histograms).\n",
            "\n"
          ],
          "name": "stderr"
        }
      ]
    },
    {
      "cell_type": "code",
      "metadata": {
        "_kg_hide-input": true,
        "execution": {
          "iopub.execute_input": "2020-12-18T11:04:03.063192Z",
          "iopub.status.busy": "2020-12-18T11:04:03.062139Z",
          "iopub.status.idle": "2020-12-18T11:04:04.433649Z",
          "shell.execute_reply": "2020-12-18T11:04:04.433126Z"
        },
        "papermill": {
          "duration": 1.636339,
          "end_time": "2020-12-18T11:04:04.433788",
          "exception": false,
          "start_time": "2020-12-18T11:04:02.797449",
          "status": "completed"
        },
        "tags": [],
        "colab": {
          "base_uri": "https://localhost:8080/"
        },
        "id": "53AiKSGmYypH",
        "outputId": "3bb243f3-9cb7-4835-de2f-c55347d5f860"
      },
      "source": [
        "triple_plot(train_data['Fare'],'Distribution of Fare',custom_colors[1])"
      ],
      "execution_count": 41,
      "outputs": [
        {
          "output_type": "stream",
          "text": [
            "/usr/local/lib/python3.6/dist-packages/seaborn/distributions.py:2551: FutureWarning:\n",
            "\n",
            "`distplot` is a deprecated function and will be removed in a future version. Please adapt your code to use either `displot` (a figure-level function with similar flexibility) or `histplot` (an axes-level function for histograms).\n",
            "\n",
            "/usr/local/lib/python3.6/dist-packages/seaborn/_decorators.py:43: FutureWarning:\n",
            "\n",
            "Pass the following variable as a keyword arg: x. From version 0.12, the only valid positional argument will be `data`, and passing other arguments without an explicit keyword will result in an error or misinterpretation.\n",
            "\n",
            "/usr/local/lib/python3.6/dist-packages/seaborn/_decorators.py:43: FutureWarning:\n",
            "\n",
            "Pass the following variable as a keyword arg: x. From version 0.12, the only valid positional argument will be `data`, and passing other arguments without an explicit keyword will result in an error or misinterpretation.\n",
            "\n"
          ],
          "name": "stderr"
        }
      ]
    },
    {
      "cell_type": "code",
      "metadata": {
        "execution": {
          "iopub.execute_input": "2020-12-18T11:04:06.851620Z",
          "iopub.status.busy": "2020-12-18T11:04:06.850985Z",
          "iopub.status.idle": "2020-12-18T11:04:06.862423Z",
          "shell.execute_reply": "2020-12-18T11:04:06.861638Z"
        },
        "papermill": {
          "duration": 0.277219,
          "end_time": "2020-12-18T11:04:06.862561",
          "exception": false,
          "start_time": "2020-12-18T11:04:06.585342",
          "status": "completed"
        },
        "tags": [],
        "id": "HRN5C8sBYypI"
      },
      "source": [
        "td = pd.read_csv(\"https://raw.githubusercontent.com/benvictoria21/pandas/master/dataset/Titanic%20-%20Machine%20Learning%20from%20Disaster/train.csv\")\n",
        "td[\"Cabin\"]=td.Cabin.str[0]"
      ],
      "execution_count": 42,
      "outputs": []
    },
    {
      "cell_type": "code",
      "metadata": {
        "execution": {
          "iopub.execute_input": "2020-12-18T11:04:07.932296Z",
          "iopub.status.busy": "2020-12-18T11:04:07.931282Z",
          "iopub.status.idle": "2020-12-18T11:04:09.340886Z",
          "shell.execute_reply": "2020-12-18T11:04:09.341350Z"
        },
        "papermill": {
          "duration": 1.677187,
          "end_time": "2020-12-18T11:04:09.341516",
          "exception": false,
          "start_time": "2020-12-18T11:04:07.664329",
          "status": "completed"
        },
        "tags": [],
        "colab": {
          "base_uri": "https://localhost:8080/"
        },
        "id": "kS3fs_AqYypJ",
        "outputId": "fe39a157-780b-4bf4-f13a-f8e458b4b087"
      },
      "source": [
        "sns.catplot(\"Survived\", col=\"Cabin\", col_wrap=8,data=td[td.Cabin.notnull()],kind=\"count\",height=4,aspect=.6)\n",
        "plt.show()"
      ],
      "execution_count": 43,
      "outputs": [
        {
          "output_type": "stream",
          "text": [
            "/usr/local/lib/python3.6/dist-packages/seaborn/_decorators.py:43: FutureWarning:\n",
            "\n",
            "Pass the following variable as a keyword arg: x. From version 0.12, the only valid positional argument will be `data`, and passing other arguments without an explicit keyword will result in an error or misinterpretation.\n",
            "\n"
          ],
          "name": "stderr"
        }
      ]
    },
    {
      "cell_type": "code",
      "metadata": {
        "execution": {
          "iopub.execute_input": "2020-12-18T11:04:10.390530Z",
          "iopub.status.busy": "2020-12-18T11:04:10.387909Z",
          "iopub.status.idle": "2020-12-18T11:04:11.080924Z",
          "shell.execute_reply": "2020-12-18T11:04:11.080100Z"
        },
        "papermill": {
          "duration": 0.96412,
          "end_time": "2020-12-18T11:04:11.081063",
          "exception": false,
          "start_time": "2020-12-18T11:04:10.116943",
          "status": "completed"
        },
        "tags": [],
        "colab": {
          "base_uri": "https://localhost:8080/"
        },
        "id": "3Oj8b1iPYypJ",
        "outputId": "f9f890fe-64e6-49b0-a9e2-0ec0149d5847"
      },
      "source": [
        "sns.catplot(\"Survived\", col=\"Cabin\", col_wrap=4,data=train_data,kind=\"count\", height=4,aspect=.6)\n",
        "plt.show()"
      ],
      "execution_count": 44,
      "outputs": [
        {
          "output_type": "stream",
          "text": [
            "/usr/local/lib/python3.6/dist-packages/seaborn/_decorators.py:43: FutureWarning:\n",
            "\n",
            "Pass the following variable as a keyword arg: x. From version 0.12, the only valid positional argument will be `data`, and passing other arguments without an explicit keyword will result in an error or misinterpretation.\n",
            "\n"
          ],
          "name": "stderr"
        }
      ]
    },
    {
      "cell_type": "code",
      "metadata": {
        "execution": {
          "iopub.execute_input": "2020-12-18T11:04:12.655247Z",
          "iopub.status.busy": "2020-12-18T11:04:12.654506Z",
          "iopub.status.idle": "2020-12-18T11:04:12.898643Z",
          "shell.execute_reply": "2020-12-18T11:04:12.898112Z"
        },
        "papermill": {
          "duration": 0.512685,
          "end_time": "2020-12-18T11:04:12.898799",
          "exception": false,
          "start_time": "2020-12-18T11:04:12.386114",
          "status": "completed"
        },
        "tags": [],
        "id": "4pe-kiYhYypK"
      },
      "source": [
        "plot_bar(train_data, 'SibSp', 'Survived',False)\n",
        "plt.legend(title='Survived',loc='upper right',bbox_to_anchor=(1.25, 1))\n",
        "plt.gcf().set_size_inches(10,8)\n",
        "plt.xticks(rotation=45)\n",
        "plt.show()"
      ],
      "execution_count": 45,
      "outputs": []
    },
    {
      "cell_type": "code",
      "metadata": {
        "execution": {
          "iopub.execute_input": "2020-12-18T11:04:13.974225Z",
          "iopub.status.busy": "2020-12-18T11:04:13.972189Z",
          "iopub.status.idle": "2020-12-18T11:04:14.208659Z",
          "shell.execute_reply": "2020-12-18T11:04:14.209264Z"
        },
        "papermill": {
          "duration": 0.511524,
          "end_time": "2020-12-18T11:04:14.209431",
          "exception": false,
          "start_time": "2020-12-18T11:04:13.697907",
          "status": "completed"
        },
        "tags": [],
        "id": "yHTYaQUHYypK"
      },
      "source": [
        "plot_bar(train_data, 'Parch', 'Survived',True)\n",
        "plt.legend(title='Survived',loc='upper right',bbox_to_anchor=(1.25, 1))\n",
        "plt.gcf().set_size_inches(10,8)\n",
        "plt.xticks(rotation=45)\n",
        "plt.show()"
      ],
      "execution_count": 46,
      "outputs": []
    },
    {
      "cell_type": "code",
      "metadata": {
        "execution": {
          "iopub.execute_input": "2020-12-18T11:04:15.266858Z",
          "iopub.status.busy": "2020-12-18T11:04:15.259172Z",
          "iopub.status.idle": "2020-12-18T11:04:15.426003Z",
          "shell.execute_reply": "2020-12-18T11:04:15.426466Z"
        },
        "papermill": {
          "duration": 0.439677,
          "end_time": "2020-12-18T11:04:15.426640",
          "exception": false,
          "start_time": "2020-12-18T11:04:14.986963",
          "status": "completed"
        },
        "tags": [],
        "id": "S246UuJZYypM"
      },
      "source": [
        "data = train_data[['Sex','Survived']]\n",
        "data1 = data.loc[data.Sex==0]\n",
        "data2 = data.loc[data.Sex!=0]\n",
        "\n",
        "plt.figure(figsize=(16,8),dpi=60)\n",
        "\n",
        "ax1 = plt.subplot(121, aspect='equal')\n",
        "data1['Survived'].value_counts().plot.pie(startangle=90,autopct='%1.1f%%', ax=ax1)\n",
        "ax1.title.set_text('Male')\n",
        "\n",
        "ax2 = plt.subplot(122, aspect='equal')\n",
        "data2['Survived'].value_counts().plot.pie(startangle=90,autopct='%1.1f%%', ax=ax2)\n",
        "ax2.title.set_text('Female')\n",
        "\n",
        "plt.show()"
      ],
      "execution_count": 47,
      "outputs": []
    },
    {
      "cell_type": "code",
      "metadata": {
        "execution": {
          "iopub.execute_input": "2020-12-18T11:04:16.490349Z",
          "iopub.status.busy": "2020-12-18T11:04:16.489426Z",
          "iopub.status.idle": "2020-12-18T11:04:16.863297Z",
          "shell.execute_reply": "2020-12-18T11:04:16.862503Z"
        },
        "papermill": {
          "duration": 0.642082,
          "end_time": "2020-12-18T11:04:16.863433",
          "exception": false,
          "start_time": "2020-12-18T11:04:16.221351",
          "status": "completed"
        },
        "tags": [],
        "id": "1xDUFgB_YypN"
      },
      "source": [
        "sns.barplot(x = \"Embarked\", y = \"Fare\", hue = \"Survived\", data = train_data)\n",
        "plt.show()"
      ],
      "execution_count": 48,
      "outputs": []
    },
    {
      "cell_type": "code",
      "metadata": {
        "execution": {
          "iopub.execute_input": "2020-12-18T11:04:17.934816Z",
          "iopub.status.busy": "2020-12-18T11:04:17.933773Z",
          "iopub.status.idle": "2020-12-18T11:04:18.212821Z",
          "shell.execute_reply": "2020-12-18T11:04:18.211913Z"
        },
        "papermill": {
          "duration": 0.558179,
          "end_time": "2020-12-18T11:04:18.212981",
          "exception": false,
          "start_time": "2020-12-18T11:04:17.654802",
          "status": "completed"
        },
        "tags": [],
        "id": "cB0mEP9bYypO"
      },
      "source": [
        "sns.kdeplot(train_data['Fare'][train_data.Survived == 1], color=custom_colors[2], shade=True)\n",
        "sns.kdeplot(train_data['Fare'][train_data.Survived == 0], color=custom_colors[1], shade=True)\n",
        "plt.legend(['Survived', 'Not Survived'])\n",
        "plt.show()"
      ],
      "execution_count": 49,
      "outputs": []
    },
    {
      "cell_type": "code",
      "metadata": {
        "execution": {
          "iopub.execute_input": "2020-12-18T11:04:19.281771Z",
          "iopub.status.busy": "2020-12-18T11:04:19.281055Z",
          "iopub.status.idle": "2020-12-18T11:04:19.565942Z",
          "shell.execute_reply": "2020-12-18T11:04:19.566448Z"
        },
        "papermill": {
          "duration": 0.557557,
          "end_time": "2020-12-18T11:04:19.566622",
          "exception": false,
          "start_time": "2020-12-18T11:04:19.009065",
          "status": "completed"
        },
        "tags": [],
        "id": "ekPoMFs6YypO"
      },
      "source": [
        "sns.kdeplot(train_data['Age'][train_data.Survived == 1], color=custom_colors[2], shade=True)\n",
        "sns.kdeplot(train_data['Age'][train_data.Survived == 0], color=custom_colors[1], shade=True)\n",
        "plt.legend(['Survived', 'Not Survived'])\n",
        "plt.show()"
      ],
      "execution_count": 50,
      "outputs": []
    },
    {
      "cell_type": "code",
      "metadata": {
        "execution": {
          "iopub.execute_input": "2020-12-18T11:04:20.629306Z",
          "iopub.status.busy": "2020-12-18T11:04:20.628647Z",
          "iopub.status.idle": "2020-12-18T11:04:21.092041Z",
          "shell.execute_reply": "2020-12-18T11:04:21.092540Z"
        },
        "papermill": {
          "duration": 0.732679,
          "end_time": "2020-12-18T11:04:21.092692",
          "exception": false,
          "start_time": "2020-12-18T11:04:20.360013",
          "status": "completed"
        },
        "tags": [],
        "id": "b9oERRkVYypP"
      },
      "source": [
        "mask = np.triu(np.ones_like(train_data.corr(), dtype=bool))\n",
        "fig, ax = plt.subplots(figsize=(16,10),dpi=80, facecolor='w', edgecolor='k')\n",
        "sns.heatmap(train_data.corr(), mask=mask, cmap=\"YlGnBu\", vmax=.3, center=0,annot = True,\n",
        "            square=True)\n",
        "plt.show()"
      ],
      "execution_count": 51,
      "outputs": []
    },
    {
      "cell_type": "code",
      "metadata": {
        "execution": {
          "iopub.execute_input": "2020-12-18T11:04:21.618887Z",
          "iopub.status.busy": "2020-12-18T11:04:21.618011Z",
          "iopub.status.idle": "2020-12-18T11:04:21.623437Z",
          "shell.execute_reply": "2020-12-18T11:04:21.624019Z"
        },
        "papermill": {
          "duration": 0.263553,
          "end_time": "2020-12-18T11:04:21.624161",
          "exception": false,
          "start_time": "2020-12-18T11:04:21.360608",
          "status": "completed"
        },
        "tags": [],
        "id": "aT75Hi6BYypP"
      },
      "source": [
        "expected_values = train_data[\"Survived\"]\n",
        "train_data.drop(\"Survived\", axis=1, inplace=True)"
      ],
      "execution_count": 52,
      "outputs": []
    },
    {
      "cell_type": "code",
      "metadata": {
        "execution": {
          "iopub.execute_input": "2020-12-18T11:04:22.153179Z",
          "iopub.status.busy": "2020-12-18T11:04:22.152477Z",
          "iopub.status.idle": "2020-12-18T11:04:22.160289Z",
          "shell.execute_reply": "2020-12-18T11:04:22.159769Z"
        },
        "papermill": {
          "duration": 0.267584,
          "end_time": "2020-12-18T11:04:22.160412",
          "exception": false,
          "start_time": "2020-12-18T11:04:21.892828",
          "status": "completed"
        },
        "tags": [],
        "id": "uO5XLMXKYypQ"
      },
      "source": [
        "train_data.drop(\"Cabin\", axis=1, inplace=True)\n",
        "test_data.drop(\"Cabin\", axis=1, inplace=True)"
      ],
      "execution_count": 53,
      "outputs": []
    },
    {
      "cell_type": "code",
      "metadata": {
        "execution": {
          "iopub.execute_input": "2020-12-18T11:04:23.240967Z",
          "iopub.status.busy": "2020-12-18T11:04:23.240248Z",
          "iopub.status.idle": "2020-12-18T11:04:23.244448Z",
          "shell.execute_reply": "2020-12-18T11:04:23.245085Z"
        },
        "papermill": {
          "duration": 0.282211,
          "end_time": "2020-12-18T11:04:23.245251",
          "exception": false,
          "start_time": "2020-12-18T11:04:22.963040",
          "status": "completed"
        },
        "tags": [],
        "id": "y6PLuiK3YypR"
      },
      "source": [
        "X = train_data.values\n",
        "y = expected_values.values\n",
        "\n",
        "X_train, X_test, y_train, y_test = train_test_split(X, y, test_size=0.2, random_state=1, stratify=y)"
      ],
      "execution_count": 54,
      "outputs": []
    },
    {
      "cell_type": "code",
      "metadata": {
        "execution": {
          "iopub.execute_input": "2020-12-18T11:04:23.791754Z",
          "iopub.status.busy": "2020-12-18T11:04:23.791074Z",
          "iopub.status.idle": "2020-12-18T11:04:23.796158Z",
          "shell.execute_reply": "2020-12-18T11:04:23.796765Z"
        },
        "papermill": {
          "duration": 0.280033,
          "end_time": "2020-12-18T11:04:23.796985",
          "exception": false,
          "start_time": "2020-12-18T11:04:23.516952",
          "status": "completed"
        },
        "tags": [],
        "id": "lTLJSnUnYypR"
      },
      "source": [
        "model = RandomForestClassifier(criterion='gini',\n",
        "                                           n_estimators=1750,\n",
        "                                           max_depth=7,\n",
        "                                           min_samples_split=6,\n",
        "                                           min_samples_leaf=6,\n",
        "                                           max_features='auto',\n",
        "                                           oob_score=True,\n",
        "                                           random_state=42,\n",
        "                                           n_jobs=-1,\n",
        "                                           verbose=1) "
      ],
      "execution_count": 55,
      "outputs": []
    },
    {
      "cell_type": "code",
      "metadata": {
        "execution": {
          "iopub.execute_input": "2020-12-18T11:04:24.876045Z",
          "iopub.status.busy": "2020-12-18T11:04:24.875336Z",
          "iopub.status.idle": "2020-12-18T11:04:32.424323Z",
          "shell.execute_reply": "2020-12-18T11:04:32.423334Z"
        },
        "papermill": {
          "duration": 7.820886,
          "end_time": "2020-12-18T11:04:32.424459",
          "exception": false,
          "start_time": "2020-12-18T11:04:24.603573",
          "status": "completed"
        },
        "tags": [],
        "colab": {
          "base_uri": "https://localhost:8080/"
        },
        "id": "XL1j4ugnYypU",
        "outputId": "22c0b428-e403-4eb8-8980-88873aa5d6e0"
      },
      "source": [
        "model.fit(X_train, y_train)\n",
        "\n",
        "y_pred_train = model.predict(X_train)\n",
        "y_pred_test = model.predict(X_test)"
      ],
      "execution_count": 56,
      "outputs": [
        {
          "output_type": "stream",
          "text": [
            "[Parallel(n_jobs=-1)]: Using backend ThreadingBackend with 2 concurrent workers.\n",
            "[Parallel(n_jobs=-1)]: Done  46 tasks      | elapsed:    0.1s\n",
            "[Parallel(n_jobs=-1)]: Done 196 tasks      | elapsed:    0.3s\n",
            "[Parallel(n_jobs=-1)]: Done 446 tasks      | elapsed:    0.8s\n",
            "[Parallel(n_jobs=-1)]: Done 796 tasks      | elapsed:    1.4s\n",
            "[Parallel(n_jobs=-1)]: Done 1246 tasks      | elapsed:    2.1s\n",
            "[Parallel(n_jobs=-1)]: Done 1750 out of 1750 | elapsed:    2.9s finished\n",
            "[Parallel(n_jobs=2)]: Using backend ThreadingBackend with 2 concurrent workers.\n",
            "[Parallel(n_jobs=2)]: Done  46 tasks      | elapsed:    0.0s\n",
            "[Parallel(n_jobs=2)]: Done 196 tasks      | elapsed:    0.1s\n",
            "[Parallel(n_jobs=2)]: Done 446 tasks      | elapsed:    0.1s\n",
            "[Parallel(n_jobs=2)]: Done 796 tasks      | elapsed:    0.3s\n",
            "[Parallel(n_jobs=2)]: Done 1246 tasks      | elapsed:    0.4s\n",
            "[Parallel(n_jobs=2)]: Done 1750 out of 1750 | elapsed:    0.6s finished\n",
            "[Parallel(n_jobs=2)]: Using backend ThreadingBackend with 2 concurrent workers.\n",
            "[Parallel(n_jobs=2)]: Done  46 tasks      | elapsed:    0.0s\n",
            "[Parallel(n_jobs=2)]: Done 196 tasks      | elapsed:    0.1s\n",
            "[Parallel(n_jobs=2)]: Done 446 tasks      | elapsed:    0.1s\n",
            "[Parallel(n_jobs=2)]: Done 796 tasks      | elapsed:    0.2s\n",
            "[Parallel(n_jobs=2)]: Done 1246 tasks      | elapsed:    0.4s\n",
            "[Parallel(n_jobs=2)]: Done 1750 out of 1750 | elapsed:    0.5s finished\n"
          ],
          "name": "stderr"
        }
      ]
    },
    {
      "cell_type": "code",
      "metadata": {
        "execution": {
          "iopub.execute_input": "2020-12-18T11:04:32.962242Z",
          "iopub.status.busy": "2020-12-18T11:04:32.961233Z",
          "iopub.status.idle": "2020-12-18T11:04:32.971335Z",
          "shell.execute_reply": "2020-12-18T11:04:32.970569Z"
        },
        "papermill": {
          "duration": 0.273401,
          "end_time": "2020-12-18T11:04:32.971473",
          "exception": false,
          "start_time": "2020-12-18T11:04:32.698072",
          "status": "completed"
        },
        "tags": [],
        "colab": {
          "base_uri": "https://localhost:8080/"
        },
        "id": "9bgwpAIBYypW",
        "outputId": "da117500-566e-404a-a0ce-5c2aa2d26d5f"
      },
      "source": [
        "print(\"Training accuracy: \", accuracy_score(y_train, y_pred_train))\n",
        "print(\"Testing accuracy: \", accuracy_score(y_test, y_pred_test))"
      ],
      "execution_count": 57,
      "outputs": [
        {
          "output_type": "stream",
          "text": [
            "Training accuracy:  0.8778089887640449\n",
            "Testing accuracy:  0.8435754189944135\n"
          ],
          "name": "stdout"
        }
      ]
    },
    {
      "cell_type": "code",
      "metadata": {
        "_kg_hide-input": true,
        "_kg_hide-output": true,
        "execution": {
          "iopub.execute_input": "2020-12-18T11:04:33.526481Z",
          "iopub.status.busy": "2020-12-18T11:04:33.525743Z",
          "iopub.status.idle": "2020-12-18T11:04:33.528895Z",
          "shell.execute_reply": "2020-12-18T11:04:33.528370Z"
        },
        "papermill": {
          "duration": 0.284017,
          "end_time": "2020-12-18T11:04:33.529019",
          "exception": false,
          "start_time": "2020-12-18T11:04:33.245002",
          "status": "completed"
        },
        "tags": [],
        "id": "3Jp8iiMLYypW"
      },
      "source": [
        "column_values = ['Pclass', 'Sex', 'Age', 'SibSp', 'Parch', 'Fare', 'Embarked'] \n",
        "X_train\n",
        "X_train_df = pd.DataFrame(data = X_train,   \n",
        "                  columns = column_values) \n",
        "X_test_df = pd.DataFrame(data = X_test,   \n",
        "                  columns = column_values) "
      ],
      "execution_count": 58,
      "outputs": []
    },
    {
      "cell_type": "code",
      "metadata": {
        "execution": {
          "iopub.execute_input": "2020-12-18T11:04:34.084296Z",
          "iopub.status.busy": "2020-12-18T11:04:34.083602Z",
          "iopub.status.idle": "2020-12-18T11:04:34.650501Z",
          "shell.execute_reply": "2020-12-18T11:04:34.649908Z"
        },
        "papermill": {
          "duration": 0.848627,
          "end_time": "2020-12-18T11:04:34.650626",
          "exception": false,
          "start_time": "2020-12-18T11:04:33.801999",
          "status": "completed"
        },
        "tags": [],
        "id": "0TipkYAyYypX"
      },
      "source": [
        "importances = model.feature_importances_\n",
        "indices = np.argsort(importances)\n",
        "features = X_train_df.columns\n",
        "plt.title('Feature Importance')\n",
        "plt.barh(range(len(indices)), importances[indices], color=custom_colors[2], align='center')\n",
        "plt.yticks(range(len(indices)), [features[i] for i in indices])\n",
        "plt.xlabel('Relative Importance')\n",
        "plt.show()"
      ],
      "execution_count": 59,
      "outputs": []
    },
    {
      "cell_type": "code",
      "metadata": {
        "execution": {
          "iopub.execute_input": "2020-12-18T11:04:36.305129Z",
          "iopub.status.busy": "2020-12-18T11:04:36.304424Z",
          "iopub.status.idle": "2020-12-18T11:04:36.307916Z",
          "shell.execute_reply": "2020-12-18T11:04:36.308622Z"
        },
        "papermill": {
          "duration": 0.283508,
          "end_time": "2020-12-18T11:04:36.308845",
          "exception": false,
          "start_time": "2020-12-18T11:04:36.025337",
          "status": "completed"
        },
        "tags": [],
        "colab": {
          "base_uri": "https://localhost:8080/"
        },
        "id": "QQfVwDBDYypc",
        "outputId": "96e2c1f4-00da-41e6-e0d1-43077ba847a6"
      },
      "source": [
        "print(\"\\nConfusion Matrix\\n\")\n",
        "cm = confusion_matrix(y_test, y_pred_test)\n",
        "print(cm)"
      ],
      "execution_count": 60,
      "outputs": [
        {
          "output_type": "stream",
          "text": [
            "\n",
            "Confusion Matrix\n",
            "\n",
            "[[101   9]\n",
            " [ 19  50]]\n"
          ],
          "name": "stdout"
        }
      ]
    },
    {
      "cell_type": "code",
      "metadata": {
        "execution": {
          "iopub.execute_input": "2020-12-18T11:04:36.856357Z",
          "iopub.status.busy": "2020-12-18T11:04:36.855367Z",
          "iopub.status.idle": "2020-12-18T11:04:37.057670Z",
          "shell.execute_reply": "2020-12-18T11:04:37.058215Z"
        },
        "papermill": {
          "duration": 0.467463,
          "end_time": "2020-12-18T11:04:37.058363",
          "exception": false,
          "start_time": "2020-12-18T11:04:36.590900",
          "status": "completed"
        },
        "tags": [],
        "id": "e9ML4mprYypc"
      },
      "source": [
        "ax= plt.subplot()\n",
        "sns.heatmap(cm, annot=True, ax = ax, fmt='g',cmap='Blues') #annot=True to annotate cells\n",
        "\n",
        "# labels, title and ticks\n",
        "ax.set_xlabel('Predicted labels')\n",
        "ax.set_ylabel('True labels')\n",
        "ax.set_title('Confusion Matrix')\n",
        "\n",
        "plt.show()"
      ],
      "execution_count": 61,
      "outputs": []
    },
    {
      "cell_type": "code",
      "metadata": {
        "execution": {
          "iopub.execute_input": "2020-12-18T11:04:38.315473Z",
          "iopub.status.busy": "2020-12-18T11:04:38.314654Z",
          "iopub.status.idle": "2020-12-18T11:04:38.323926Z",
          "shell.execute_reply": "2020-12-18T11:04:38.323386Z"
        },
        "papermill": {
          "duration": 0.377847,
          "end_time": "2020-12-18T11:04:38.324065",
          "exception": false,
          "start_time": "2020-12-18T11:04:37.946218",
          "status": "completed"
        },
        "tags": [],
        "colab": {
          "base_uri": "https://localhost:8080/"
        },
        "id": "8rRWrrOGYypd",
        "outputId": "215ba237-9942-4bb0-e473-e41ac73e1b56"
      },
      "source": [
        "fpr, tpr, _ = roc_curve(y_test, y_pred_test)\n",
        "roc_auc = auc(fpr, tpr)\n",
        "print(\"\\nROC AUC on evaluation set\",roc_auc )"
      ],
      "execution_count": 62,
      "outputs": [
        {
          "output_type": "stream",
          "text": [
            "\n",
            "ROC AUC on evaluation set 0.8214097496706194\n"
          ],
          "name": "stdout"
        }
      ]
    },
    {
      "cell_type": "code",
      "metadata": {
        "execution": {
          "iopub.execute_input": "2020-12-18T11:04:38.914335Z",
          "iopub.status.busy": "2020-12-18T11:04:38.913293Z",
          "iopub.status.idle": "2020-12-18T11:04:39.198926Z",
          "shell.execute_reply": "2020-12-18T11:04:39.199573Z"
        },
        "papermill": {
          "duration": 0.582316,
          "end_time": "2020-12-18T11:04:39.199783",
          "exception": false,
          "start_time": "2020-12-18T11:04:38.617467",
          "status": "completed"
        },
        "tags": [],
        "id": "LQyX8r4mYypd"
      },
      "source": [
        "plt.figure()\n",
        "plt.plot(fpr, tpr, label='ROC curve (area = %0.2f)' % roc_auc,color=custom_colors[0])\n",
        "plt.plot([0, 1], [0, 1], 'k--',color=custom_colors[2])\n",
        "plt.xlim([0.0, 1.0])\n",
        "plt.ylim([0.0, 1.05])\n",
        "plt.xlabel('False Positive Rate')\n",
        "plt.ylabel('True Positive Rate')\n",
        "plt.title('Receiver Operating Characteristic (ROC) Curve')\n",
        "plt.legend(loc=\"lower right\")\n",
        "plt.show()"
      ],
      "execution_count": 63,
      "outputs": []
    },
    {
      "cell_type": "code",
      "metadata": {
        "execution": {
          "iopub.execute_input": "2020-12-18T11:04:39.757298Z",
          "iopub.status.busy": "2020-12-18T11:04:39.756302Z",
          "iopub.status.idle": "2020-12-18T11:04:45.997560Z",
          "shell.execute_reply": "2020-12-18T11:04:45.996956Z"
        },
        "papermill": {
          "duration": 6.514441,
          "end_time": "2020-12-18T11:04:45.997689",
          "exception": false,
          "start_time": "2020-12-18T11:04:39.483248",
          "status": "completed"
        },
        "tags": [],
        "colab": {
          "base_uri": "https://localhost:8080/"
        },
        "id": "rAXEOGuWYypd",
        "outputId": "39157d8f-a507-41c7-c7e9-893cd5498190"
      },
      "source": [
        "model.fit(train_data, expected_values)\n",
        "print(\"%.4f\" % model.oob_score_)"
      ],
      "execution_count": 64,
      "outputs": [
        {
          "output_type": "stream",
          "text": [
            "[Parallel(n_jobs=-1)]: Using backend ThreadingBackend with 2 concurrent workers.\n",
            "[Parallel(n_jobs=-1)]: Done  46 tasks      | elapsed:    0.1s\n",
            "[Parallel(n_jobs=-1)]: Done 196 tasks      | elapsed:    0.3s\n",
            "[Parallel(n_jobs=-1)]: Done 446 tasks      | elapsed:    0.8s\n",
            "[Parallel(n_jobs=-1)]: Done 796 tasks      | elapsed:    1.4s\n",
            "[Parallel(n_jobs=-1)]: Done 1246 tasks      | elapsed:    2.1s\n",
            "[Parallel(n_jobs=-1)]: Done 1750 out of 1750 | elapsed:    3.0s finished\n"
          ],
          "name": "stderr"
        },
        {
          "output_type": "stream",
          "text": [
            "0.8294\n"
          ],
          "name": "stdout"
        }
      ]
    },
    {
      "cell_type": "code",
      "metadata": {
        "_kg_hide-output": true,
        "execution": {
          "iopub.execute_input": "2020-12-18T11:04:50.085372Z",
          "iopub.status.busy": "2020-12-18T11:04:50.084651Z",
          "iopub.status.idle": "2020-12-18T11:04:50.707265Z",
          "shell.execute_reply": "2020-12-18T11:04:50.707802Z"
        },
        "papermill": {
          "duration": 0.913848,
          "end_time": "2020-12-18T11:04:50.707963",
          "exception": false,
          "start_time": "2020-12-18T11:04:49.794115",
          "status": "completed"
        },
        "tags": [],
        "colab": {
          "base_uri": "https://localhost:8080/"
        },
        "id": "lgkpOfWIYypg",
        "outputId": "ae55a09f-059a-4dac-b224-afe1f9300010"
      },
      "source": [
        "passenger_IDs = pd.read_csv(\"https://raw.githubusercontent.com/benvictoria21/pandas/master/dataset/Titanic%20-%20Machine%20Learning%20from%20Disaster/test.csv\")[[\"PassengerId\"]].values\n",
        "preds = model.predict(test_data.values)\n",
        "preds"
      ],
      "execution_count": 66,
      "outputs": [
        {
          "output_type": "stream",
          "text": [
            "[Parallel(n_jobs=2)]: Using backend ThreadingBackend with 2 concurrent workers.\n",
            "[Parallel(n_jobs=2)]: Done  46 tasks      | elapsed:    0.0s\n",
            "[Parallel(n_jobs=2)]: Done 196 tasks      | elapsed:    0.1s\n",
            "[Parallel(n_jobs=2)]: Done 446 tasks      | elapsed:    0.1s\n",
            "[Parallel(n_jobs=2)]: Done 796 tasks      | elapsed:    0.3s\n",
            "[Parallel(n_jobs=2)]: Done 1246 tasks      | elapsed:    0.4s\n",
            "[Parallel(n_jobs=2)]: Done 1750 out of 1750 | elapsed:    0.6s finished\n"
          ],
          "name": "stderr"
        },
        {
          "output_type": "execute_result",
          "data": {
            "text/plain": [
              "array([0, 0, 0, 0, 0, 0, 1, 0, 1, 0, 0, 0, 1, 0, 1, 1, 0, 0, 0, 1, 0, 0,\n",
              "       1, 0, 1, 0, 1, 0, 0, 0, 0, 0, 0, 0, 0, 0, 0, 0, 0, 0, 0, 0, 0, 1,\n",
              "       1, 0, 0, 0, 1, 0, 0, 0, 1, 1, 0, 0, 0, 0, 0, 1, 0, 0, 0, 1, 1, 1,\n",
              "       1, 0, 0, 1, 1, 0, 0, 0, 1, 0, 0, 1, 0, 1, 1, 0, 0, 0, 0, 0, 1, 0,\n",
              "       1, 1, 0, 0, 1, 0, 0, 0, 1, 0, 1, 0, 1, 0, 0, 0, 1, 0, 0, 0, 0, 0,\n",
              "       0, 1, 1, 1, 1, 0, 0, 1, 0, 1, 1, 0, 1, 0, 0, 1, 0, 1, 0, 0, 0, 0,\n",
              "       0, 0, 0, 0, 0, 0, 0, 0, 0, 1, 0, 0, 0, 0, 0, 0, 0, 0, 1, 0, 0, 0,\n",
              "       0, 0, 1, 1, 0, 1, 1, 1, 1, 0, 0, 0, 0, 0, 1, 0, 0, 0, 0, 0, 0, 1,\n",
              "       1, 0, 1, 1, 0, 0, 1, 0, 1, 0, 1, 0, 0, 0, 0, 0, 0, 0, 1, 0, 1, 1,\n",
              "       0, 0, 1, 1, 0, 1, 0, 0, 1, 0, 1, 0, 0, 0, 0, 1, 0, 0, 1, 0, 1, 0,\n",
              "       1, 0, 1, 0, 1, 1, 0, 1, 0, 0, 0, 1, 0, 0, 0, 0, 0, 0, 1, 1, 1, 1,\n",
              "       0, 0, 0, 0, 1, 0, 1, 1, 1, 0, 0, 0, 0, 0, 0, 0, 1, 0, 0, 0, 1, 1,\n",
              "       0, 0, 0, 0, 0, 0, 0, 0, 1, 1, 0, 1, 0, 0, 0, 0, 0, 1, 1, 1, 1, 0,\n",
              "       0, 0, 0, 0, 0, 1, 0, 0, 0, 0, 1, 0, 0, 0, 0, 0, 0, 0, 1, 1, 0, 1,\n",
              "       0, 0, 0, 0, 0, 1, 1, 1, 0, 0, 0, 0, 0, 0, 0, 0, 1, 0, 1, 0, 0, 0,\n",
              "       1, 0, 0, 1, 0, 0, 0, 0, 0, 0, 0, 0, 0, 1, 0, 1, 0, 1, 0, 1, 1, 0,\n",
              "       0, 0, 1, 0, 1, 0, 0, 0, 0, 1, 1, 0, 1, 0, 0, 0, 1, 0, 0, 1, 0, 0,\n",
              "       1, 1, 0, 0, 0, 0, 0, 0, 1, 0, 0, 1, 0, 0, 0, 0, 0, 1, 0, 0, 0, 1,\n",
              "       0, 1, 0, 0, 1, 0, 1, 0, 0, 0, 0, 0, 1, 1, 1, 1, 0, 0, 1, 0, 0, 0])"
            ]
          },
          "metadata": {
            "tags": []
          },
          "execution_count": 66
        }
      ]
    },
    {
      "cell_type": "code",
      "metadata": {
        "execution": {
          "iopub.execute_input": "2020-12-18T11:04:51.269058Z",
          "iopub.status.busy": "2020-12-18T11:04:51.268432Z",
          "iopub.status.idle": "2020-12-18T11:04:51.280238Z",
          "shell.execute_reply": "2020-12-18T11:04:51.280856Z"
        },
        "papermill": {
          "duration": 0.283867,
          "end_time": "2020-12-18T11:04:51.280997",
          "exception": false,
          "start_time": "2020-12-18T11:04:50.997130",
          "status": "completed"
        },
        "tags": [],
        "colab": {
          "base_uri": "https://localhost:8080/",
          "height": 373
        },
        "id": "G8SfkauwYyph",
        "outputId": "e7025437-0693-468e-a204-8a23990668d8"
      },
      "source": [
        "df = {'PassengerId': passenger_IDs.ravel(), 'Survived': preds}\n",
        "df_predictions = pd.DataFrame(df).set_index(['PassengerId'])\n",
        "df_predictions.head(10)"
      ],
      "execution_count": 67,
      "outputs": [
        {
          "output_type": "execute_result",
          "data": {
            "text/html": [
              "<div>\n",
              "<style scoped>\n",
              "    .dataframe tbody tr th:only-of-type {\n",
              "        vertical-align: middle;\n",
              "    }\n",
              "\n",
              "    .dataframe tbody tr th {\n",
              "        vertical-align: top;\n",
              "    }\n",
              "\n",
              "    .dataframe thead th {\n",
              "        text-align: right;\n",
              "    }\n",
              "</style>\n",
              "<table border=\"1\" class=\"dataframe\">\n",
              "  <thead>\n",
              "    <tr style=\"text-align: right;\">\n",
              "      <th></th>\n",
              "      <th>Survived</th>\n",
              "    </tr>\n",
              "    <tr>\n",
              "      <th>PassengerId</th>\n",
              "      <th></th>\n",
              "    </tr>\n",
              "  </thead>\n",
              "  <tbody>\n",
              "    <tr>\n",
              "      <th>892</th>\n",
              "      <td>0</td>\n",
              "    </tr>\n",
              "    <tr>\n",
              "      <th>893</th>\n",
              "      <td>0</td>\n",
              "    </tr>\n",
              "    <tr>\n",
              "      <th>894</th>\n",
              "      <td>0</td>\n",
              "    </tr>\n",
              "    <tr>\n",
              "      <th>895</th>\n",
              "      <td>0</td>\n",
              "    </tr>\n",
              "    <tr>\n",
              "      <th>896</th>\n",
              "      <td>0</td>\n",
              "    </tr>\n",
              "    <tr>\n",
              "      <th>897</th>\n",
              "      <td>0</td>\n",
              "    </tr>\n",
              "    <tr>\n",
              "      <th>898</th>\n",
              "      <td>1</td>\n",
              "    </tr>\n",
              "    <tr>\n",
              "      <th>899</th>\n",
              "      <td>0</td>\n",
              "    </tr>\n",
              "    <tr>\n",
              "      <th>900</th>\n",
              "      <td>1</td>\n",
              "    </tr>\n",
              "    <tr>\n",
              "      <th>901</th>\n",
              "      <td>0</td>\n",
              "    </tr>\n",
              "  </tbody>\n",
              "</table>\n",
              "</div>"
            ],
            "text/plain": [
              "             Survived\n",
              "PassengerId          \n",
              "892                 0\n",
              "893                 0\n",
              "894                 0\n",
              "895                 0\n",
              "896                 0\n",
              "897                 0\n",
              "898                 1\n",
              "899                 0\n",
              "900                 1\n",
              "901                 0"
            ]
          },
          "metadata": {
            "tags": []
          },
          "execution_count": 67
        }
      ]
    },
    {
      "cell_type": "code",
      "metadata": {
        "execution": {
          "iopub.execute_input": "2020-12-18T11:04:51.860601Z",
          "iopub.status.busy": "2020-12-18T11:04:51.858499Z",
          "iopub.status.idle": "2020-12-18T11:04:52.078655Z",
          "shell.execute_reply": "2020-12-18T11:04:52.078040Z"
        },
        "papermill": {
          "duration": 0.497758,
          "end_time": "2020-12-18T11:04:52.078803",
          "exception": false,
          "start_time": "2020-12-18T11:04:51.581045",
          "status": "completed"
        },
        "tags": [],
        "colab": {
          "base_uri": "https://localhost:8080/",
          "height": 402
        },
        "id": "CW_N5NJ9Yyph",
        "outputId": "2b331233-13f6-45e1-a67a-baeb84263775"
      },
      "source": [
        "df = pd.read_csv('https://raw.githubusercontent.com/benvictoria21/pandas/master/dataset/Titanic%20-%20Machine%20Learning%20from%20Disaster/gender_submission.csv')\n",
        "\n",
        "df"
      ],
      "execution_count": 71,
      "outputs": [
        {
          "output_type": "execute_result",
          "data": {
            "text/html": [
              "<div>\n",
              "<style scoped>\n",
              "    .dataframe tbody tr th:only-of-type {\n",
              "        vertical-align: middle;\n",
              "    }\n",
              "\n",
              "    .dataframe tbody tr th {\n",
              "        vertical-align: top;\n",
              "    }\n",
              "\n",
              "    .dataframe thead th {\n",
              "        text-align: right;\n",
              "    }\n",
              "</style>\n",
              "<table border=\"1\" class=\"dataframe\">\n",
              "  <thead>\n",
              "    <tr style=\"text-align: right;\">\n",
              "      <th></th>\n",
              "      <th>PassengerId</th>\n",
              "      <th>Survived</th>\n",
              "    </tr>\n",
              "  </thead>\n",
              "  <tbody>\n",
              "    <tr>\n",
              "      <th>0</th>\n",
              "      <td>892</td>\n",
              "      <td>0</td>\n",
              "    </tr>\n",
              "    <tr>\n",
              "      <th>1</th>\n",
              "      <td>893</td>\n",
              "      <td>1</td>\n",
              "    </tr>\n",
              "    <tr>\n",
              "      <th>2</th>\n",
              "      <td>894</td>\n",
              "      <td>0</td>\n",
              "    </tr>\n",
              "    <tr>\n",
              "      <th>3</th>\n",
              "      <td>895</td>\n",
              "      <td>0</td>\n",
              "    </tr>\n",
              "    <tr>\n",
              "      <th>4</th>\n",
              "      <td>896</td>\n",
              "      <td>1</td>\n",
              "    </tr>\n",
              "    <tr>\n",
              "      <th>...</th>\n",
              "      <td>...</td>\n",
              "      <td>...</td>\n",
              "    </tr>\n",
              "    <tr>\n",
              "      <th>413</th>\n",
              "      <td>1305</td>\n",
              "      <td>0</td>\n",
              "    </tr>\n",
              "    <tr>\n",
              "      <th>414</th>\n",
              "      <td>1306</td>\n",
              "      <td>1</td>\n",
              "    </tr>\n",
              "    <tr>\n",
              "      <th>415</th>\n",
              "      <td>1307</td>\n",
              "      <td>0</td>\n",
              "    </tr>\n",
              "    <tr>\n",
              "      <th>416</th>\n",
              "      <td>1308</td>\n",
              "      <td>0</td>\n",
              "    </tr>\n",
              "    <tr>\n",
              "      <th>417</th>\n",
              "      <td>1309</td>\n",
              "      <td>0</td>\n",
              "    </tr>\n",
              "  </tbody>\n",
              "</table>\n",
              "<p>418 rows × 2 columns</p>\n",
              "</div>"
            ],
            "text/plain": [
              "     PassengerId  Survived\n",
              "0            892         0\n",
              "1            893         1\n",
              "2            894         0\n",
              "3            895         0\n",
              "4            896         1\n",
              "..           ...       ...\n",
              "413         1305         0\n",
              "414         1306         1\n",
              "415         1307         0\n",
              "416         1308         0\n",
              "417         1309         0\n",
              "\n",
              "[418 rows x 2 columns]"
            ]
          },
          "metadata": {
            "tags": []
          },
          "execution_count": 71
        }
      ]
    }
  ]
}