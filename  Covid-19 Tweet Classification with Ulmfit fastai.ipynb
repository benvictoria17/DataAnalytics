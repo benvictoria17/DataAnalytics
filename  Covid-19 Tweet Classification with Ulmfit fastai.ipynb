{
 "cells": [
  {
   "cell_type": "code",
   "execution_count": 1,
   "metadata": {},
   "outputs": [],
   "source": [
    "import numpy as np \n",
    "import pandas as pd "
   ]
  },
  {
   "cell_type": "code",
   "execution_count": 2,
   "metadata": {},
   "outputs": [],
   "source": [
    "from pathlib import Path\n",
    "\n",
    "path = Path('dataset/CoronavirustweetsNLPTextClassification')\n",
    "\n",
    "train = pd.read_csv(path / 'Corona_NLP_train.csv', encoding = 'latin1')\n",
    "test = pd.read_csv(path / 'Corona_NLP_test.csv', encoding = 'latin1')"
   ]
  },
  {
   "cell_type": "code",
   "execution_count": 3,
   "metadata": {},
   "outputs": [
    {
     "data": {
      "text/html": [
       "<div>\n",
       "<style scoped>\n",
       "    .dataframe tbody tr th:only-of-type {\n",
       "        vertical-align: middle;\n",
       "    }\n",
       "\n",
       "    .dataframe tbody tr th {\n",
       "        vertical-align: top;\n",
       "    }\n",
       "\n",
       "    .dataframe thead th {\n",
       "        text-align: right;\n",
       "    }\n",
       "</style>\n",
       "<table border=\"1\" class=\"dataframe\">\n",
       "  <thead>\n",
       "    <tr style=\"text-align: right;\">\n",
       "      <th></th>\n",
       "      <th>UserName</th>\n",
       "      <th>ScreenName</th>\n",
       "      <th>Location</th>\n",
       "      <th>TweetAt</th>\n",
       "      <th>OriginalTweet</th>\n",
       "      <th>Sentiment</th>\n",
       "    </tr>\n",
       "  </thead>\n",
       "  <tbody>\n",
       "    <tr>\n",
       "      <th>0</th>\n",
       "      <td>3799</td>\n",
       "      <td>48751</td>\n",
       "      <td>London</td>\n",
       "      <td>16-03-2020</td>\n",
       "      <td>@MeNyrbie @Phil_Gahan @Chrisitv https://t.co/i...</td>\n",
       "      <td>Neutral</td>\n",
       "    </tr>\n",
       "    <tr>\n",
       "      <th>1</th>\n",
       "      <td>3800</td>\n",
       "      <td>48752</td>\n",
       "      <td>UK</td>\n",
       "      <td>16-03-2020</td>\n",
       "      <td>advice Talk to your neighbours family to excha...</td>\n",
       "      <td>Positive</td>\n",
       "    </tr>\n",
       "    <tr>\n",
       "      <th>2</th>\n",
       "      <td>3801</td>\n",
       "      <td>48753</td>\n",
       "      <td>Vagabonds</td>\n",
       "      <td>16-03-2020</td>\n",
       "      <td>Coronavirus Australia: Woolworths to give elde...</td>\n",
       "      <td>Positive</td>\n",
       "    </tr>\n",
       "    <tr>\n",
       "      <th>3</th>\n",
       "      <td>3802</td>\n",
       "      <td>48754</td>\n",
       "      <td>NaN</td>\n",
       "      <td>16-03-2020</td>\n",
       "      <td>My food stock is not the only one which is emp...</td>\n",
       "      <td>Positive</td>\n",
       "    </tr>\n",
       "    <tr>\n",
       "      <th>4</th>\n",
       "      <td>3803</td>\n",
       "      <td>48755</td>\n",
       "      <td>NaN</td>\n",
       "      <td>16-03-2020</td>\n",
       "      <td>Me, ready to go at supermarket during the #COV...</td>\n",
       "      <td>Extremely Negative</td>\n",
       "    </tr>\n",
       "  </tbody>\n",
       "</table>\n",
       "</div>"
      ],
      "text/plain": [
       "   UserName  ScreenName   Location     TweetAt  \\\n",
       "0      3799       48751     London  16-03-2020   \n",
       "1      3800       48752         UK  16-03-2020   \n",
       "2      3801       48753  Vagabonds  16-03-2020   \n",
       "3      3802       48754        NaN  16-03-2020   \n",
       "4      3803       48755        NaN  16-03-2020   \n",
       "\n",
       "                                       OriginalTweet           Sentiment  \n",
       "0  @MeNyrbie @Phil_Gahan @Chrisitv https://t.co/i...             Neutral  \n",
       "1  advice Talk to your neighbours family to excha...            Positive  \n",
       "2  Coronavirus Australia: Woolworths to give elde...            Positive  \n",
       "3  My food stock is not the only one which is emp...            Positive  \n",
       "4  Me, ready to go at supermarket during the #COV...  Extremely Negative  "
      ]
     },
     "execution_count": 3,
     "metadata": {},
     "output_type": "execute_result"
    }
   ],
   "source": [
    "train.head()"
   ]
  },
  {
   "cell_type": "code",
   "execution_count": 4,
   "metadata": {
    "scrolled": true
   },
   "outputs": [
    {
     "data": {
      "text/plain": [
       "Positive              11422\n",
       "Negative               9917\n",
       "Neutral                7713\n",
       "Extremely Positive     6624\n",
       "Extremely Negative     5481\n",
       "Name: Sentiment, dtype: int64"
      ]
     },
     "execution_count": 4,
     "metadata": {},
     "output_type": "execute_result"
    }
   ],
   "source": [
    "train[\"Sentiment\"].value_counts()"
   ]
  },
  {
   "cell_type": "code",
   "execution_count": 5,
   "metadata": {},
   "outputs": [],
   "source": [
    "import matplotlib.pyplot as plt \n",
    "import seaborn as sns"
   ]
  },
  {
   "cell_type": "code",
   "execution_count": 6,
   "metadata": {},
   "outputs": [
    {
     "data": {
      "image/png": "[encoded data removed]",
      "text/plain": [
       "<Figure size 576x576 with 1 Axes>"
      ]
     },
     "metadata": {},
     "output_type": "display_data"
    }
   ],
   "source": [
    "sns.set_style('darkgrid')\n",
    "plt.figure(figsize = (8, 8))\n",
    "sns.countplot(x = train['Sentiment'] , palette = 'viridis')\n",
    "plt.show()"
   ]
  },
  {
   "cell_type": "code",
   "execution_count": 7,
   "metadata": {},
   "outputs": [
    {
     "data": {
      "text/html": [
       "<div>\n",
       "<style scoped>\n",
       "    .dataframe tbody tr th:only-of-type {\n",
       "        vertical-align: middle;\n",
       "    }\n",
       "\n",
       "    .dataframe tbody tr th {\n",
       "        vertical-align: top;\n",
       "    }\n",
       "\n",
       "    .dataframe thead th {\n",
       "        text-align: right;\n",
       "    }\n",
       "</style>\n",
       "<table border=\"1\" class=\"dataframe\">\n",
       "  <thead>\n",
       "    <tr style=\"text-align: right;\">\n",
       "      <th></th>\n",
       "      <th>UserName</th>\n",
       "      <th>ScreenName</th>\n",
       "      <th>Location</th>\n",
       "      <th>TweetAt</th>\n",
       "      <th>OriginalTweet</th>\n",
       "      <th>Sentiment</th>\n",
       "    </tr>\n",
       "  </thead>\n",
       "  <tbody>\n",
       "    <tr>\n",
       "      <th>0</th>\n",
       "      <td>3799</td>\n",
       "      <td>48751</td>\n",
       "      <td>London</td>\n",
       "      <td>16-03-2020</td>\n",
       "      <td>@MeNyrbie @Phil_Gahan @Chrisitv https://t.co/i...</td>\n",
       "      <td>Neutral</td>\n",
       "    </tr>\n",
       "    <tr>\n",
       "      <th>1</th>\n",
       "      <td>3800</td>\n",
       "      <td>48752</td>\n",
       "      <td>UK</td>\n",
       "      <td>16-03-2020</td>\n",
       "      <td>advice Talk to your neighbours family to excha...</td>\n",
       "      <td>Positive</td>\n",
       "    </tr>\n",
       "    <tr>\n",
       "      <th>2</th>\n",
       "      <td>3801</td>\n",
       "      <td>48753</td>\n",
       "      <td>Vagabonds</td>\n",
       "      <td>16-03-2020</td>\n",
       "      <td>Coronavirus Australia: Woolworths to give elde...</td>\n",
       "      <td>Positive</td>\n",
       "    </tr>\n",
       "    <tr>\n",
       "      <th>3</th>\n",
       "      <td>3802</td>\n",
       "      <td>48754</td>\n",
       "      <td>NaN</td>\n",
       "      <td>16-03-2020</td>\n",
       "      <td>My food stock is not the only one which is emp...</td>\n",
       "      <td>Positive</td>\n",
       "    </tr>\n",
       "    <tr>\n",
       "      <th>4</th>\n",
       "      <td>3803</td>\n",
       "      <td>48755</td>\n",
       "      <td>NaN</td>\n",
       "      <td>16-03-2020</td>\n",
       "      <td>Me, ready to go at supermarket during the #COV...</td>\n",
       "      <td>Extremely Negative</td>\n",
       "    </tr>\n",
       "  </tbody>\n",
       "</table>\n",
       "</div>"
      ],
      "text/plain": [
       "   UserName  ScreenName   Location     TweetAt  \\\n",
       "0      3799       48751     London  16-03-2020   \n",
       "1      3800       48752         UK  16-03-2020   \n",
       "2      3801       48753  Vagabonds  16-03-2020   \n",
       "3      3802       48754        NaN  16-03-2020   \n",
       "4      3803       48755        NaN  16-03-2020   \n",
       "\n",
       "                                       OriginalTweet           Sentiment  \n",
       "0  @MeNyrbie @Phil_Gahan @Chrisitv https://t.co/i...             Neutral  \n",
       "1  advice Talk to your neighbours family to excha...            Positive  \n",
       "2  Coronavirus Australia: Woolworths to give elde...            Positive  \n",
       "3  My food stock is not the only one which is emp...            Positive  \n",
       "4  Me, ready to go at supermarket during the #COV...  Extremely Negative  "
      ]
     },
     "execution_count": 7,
     "metadata": {},
     "output_type": "execute_result"
    }
   ],
   "source": [
    "train.head()"
   ]
  },
  {
   "cell_type": "code",
   "execution_count": 8,
   "metadata": {},
   "outputs": [],
   "source": [
    "train = train.drop(columns = ['UserName', 'ScreenName', 'Location', 'TweetAt'])"
   ]
  },
  {
   "cell_type": "code",
   "execution_count": 9,
   "metadata": {},
   "outputs": [
    {
     "data": {
      "text/html": [
       "<div>\n",
       "<style scoped>\n",
       "    .dataframe tbody tr th:only-of-type {\n",
       "        vertical-align: middle;\n",
       "    }\n",
       "\n",
       "    .dataframe tbody tr th {\n",
       "        vertical-align: top;\n",
       "    }\n",
       "\n",
       "    .dataframe thead th {\n",
       "        text-align: right;\n",
       "    }\n",
       "</style>\n",
       "<table border=\"1\" class=\"dataframe\">\n",
       "  <thead>\n",
       "    <tr style=\"text-align: right;\">\n",
       "      <th></th>\n",
       "      <th>OriginalTweet</th>\n",
       "      <th>Sentiment</th>\n",
       "    </tr>\n",
       "  </thead>\n",
       "  <tbody>\n",
       "    <tr>\n",
       "      <th>0</th>\n",
       "      <td>@MeNyrbie @Phil_Gahan @Chrisitv https://t.co/i...</td>\n",
       "      <td>Neutral</td>\n",
       "    </tr>\n",
       "    <tr>\n",
       "      <th>1</th>\n",
       "      <td>advice Talk to your neighbours family to excha...</td>\n",
       "      <td>Positive</td>\n",
       "    </tr>\n",
       "    <tr>\n",
       "      <th>2</th>\n",
       "      <td>Coronavirus Australia: Woolworths to give elde...</td>\n",
       "      <td>Positive</td>\n",
       "    </tr>\n",
       "    <tr>\n",
       "      <th>3</th>\n",
       "      <td>My food stock is not the only one which is emp...</td>\n",
       "      <td>Positive</td>\n",
       "    </tr>\n",
       "    <tr>\n",
       "      <th>4</th>\n",
       "      <td>Me, ready to go at supermarket during the #COV...</td>\n",
       "      <td>Extremely Negative</td>\n",
       "    </tr>\n",
       "  </tbody>\n",
       "</table>\n",
       "</div>"
      ],
      "text/plain": [
       "                                       OriginalTweet           Sentiment\n",
       "0  @MeNyrbie @Phil_Gahan @Chrisitv https://t.co/i...             Neutral\n",
       "1  advice Talk to your neighbours family to excha...            Positive\n",
       "2  Coronavirus Australia: Woolworths to give elde...            Positive\n",
       "3  My food stock is not the only one which is emp...            Positive\n",
       "4  Me, ready to go at supermarket during the #COV...  Extremely Negative"
      ]
     },
     "execution_count": 9,
     "metadata": {},
     "output_type": "execute_result"
    }
   ],
   "source": [
    "train.reset_index(drop=True, inplace=True)\n",
    "train.head()"
   ]
  },
  {
   "cell_type": "code",
   "execution_count": 10,
   "metadata": {},
   "outputs": [
    {
     "name": "stdout",
     "output_type": "stream",
     "text": [
      "Requirement already satisfied: fastai in /Users/thomo/opt/anaconda3/lib/python3.8/site-packages (2.1.10)\n",
      "Requirement already satisfied: pandas in /Users/thomo/opt/anaconda3/lib/python3.8/site-packages (from fastai) (1.0.5)\n",
      "Requirement already satisfied: scipy in /Users/thomo/opt/anaconda3/lib/python3.8/site-packages (from fastai) (1.5.0)\n",
      "Requirement already satisfied: scikit-learn in /Users/thomo/opt/anaconda3/lib/python3.8/site-packages (from fastai) (0.23.1)\n",
      "Requirement already satisfied: fastprogress>=0.2.4 in /Users/thomo/opt/anaconda3/lib/python3.8/site-packages (from fastai) (1.0.0)\n",
      "Requirement already satisfied: packaging in /Users/thomo/opt/anaconda3/lib/python3.8/site-packages (from fastai) (20.4)\n",
      "Requirement already satisfied: fastcore>=1.3.8 in /Users/thomo/opt/anaconda3/lib/python3.8/site-packages (from fastai) (1.3.13)\n",
      "Requirement already satisfied: pip in /Users/thomo/opt/anaconda3/lib/python3.8/site-packages (from fastai) (20.1.1)\n",
      "Requirement already satisfied: matplotlib in /Users/thomo/opt/anaconda3/lib/python3.8/site-packages (from fastai) (3.2.2)\n",
      "Requirement already satisfied: torchvision>=0.8 in /Users/thomo/opt/anaconda3/lib/python3.8/site-packages (from fastai) (0.8.2)\n",
      "Requirement already satisfied: pyyaml in /Users/thomo/opt/anaconda3/lib/python3.8/site-packages (from fastai) (5.3.1)\n",
      "Requirement already satisfied: pillow>6.0.0 in /Users/thomo/opt/anaconda3/lib/python3.8/site-packages (from fastai) (7.2.0)\n",
      "Requirement already satisfied: requests in /Users/thomo/opt/anaconda3/lib/python3.8/site-packages (from fastai) (2.24.0)\n",
      "Requirement already satisfied: torch>=1.7.0 in /Users/thomo/opt/anaconda3/lib/python3.8/site-packages (from fastai) (1.7.1)\n",
      "Requirement already satisfied: spacy in /Users/thomo/opt/anaconda3/lib/python3.8/site-packages (from fastai) (2.3.5)\n",
      "Requirement already satisfied: pytz>=2017.2 in /Users/thomo/opt/anaconda3/lib/python3.8/site-packages (from pandas->fastai) (2020.1)\n",
      "Requirement already satisfied: python-dateutil>=2.6.1 in /Users/thomo/opt/anaconda3/lib/python3.8/site-packages (from pandas->fastai) (2.8.1)\n",
      "Requirement already satisfied: numpy>=1.13.3 in /Users/thomo/opt/anaconda3/lib/python3.8/site-packages (from pandas->fastai) (1.18.5)\n",
      "Requirement already satisfied: threadpoolctl>=2.0.0 in /Users/thomo/opt/anaconda3/lib/python3.8/site-packages (from scikit-learn->fastai) (2.1.0)\n",
      "Requirement already satisfied: joblib>=0.11 in /Users/thomo/opt/anaconda3/lib/python3.8/site-packages (from scikit-learn->fastai) (0.16.0)\n",
      "Requirement already satisfied: six in /Users/thomo/opt/anaconda3/lib/python3.8/site-packages (from packaging->fastai) (1.15.0)\n",
      "Requirement already satisfied: pyparsing>=2.0.2 in /Users/thomo/opt/anaconda3/lib/python3.8/site-packages (from packaging->fastai) (2.4.7)\n",
      "Requirement already satisfied: kiwisolver>=1.0.1 in /Users/thomo/opt/anaconda3/lib/python3.8/site-packages (from matplotlib->fastai) (1.2.0)\n",
      "Requirement already satisfied: cycler>=0.10 in /Users/thomo/opt/anaconda3/lib/python3.8/site-packages (from matplotlib->fastai) (0.10.0)\n",
      "Requirement already satisfied: chardet<4,>=3.0.2 in /Users/thomo/opt/anaconda3/lib/python3.8/site-packages (from requests->fastai) (3.0.4)\n",
      "Requirement already satisfied: certifi>=2017.4.17 in /Users/thomo/opt/anaconda3/lib/python3.8/site-packages (from requests->fastai) (2020.6.20)\n",
      "Requirement already satisfied: idna<3,>=2.5 in /Users/thomo/opt/anaconda3/lib/python3.8/site-packages (from requests->fastai) (2.10)\n",
      "Requirement already satisfied: urllib3!=1.25.0,!=1.25.1,<1.26,>=1.21.1 in /Users/thomo/opt/anaconda3/lib/python3.8/site-packages (from requests->fastai) (1.25.9)\n",
      "Requirement already satisfied: typing-extensions in /Users/thomo/opt/anaconda3/lib/python3.8/site-packages (from torch>=1.7.0->fastai) (3.7.4.2)\n",
      "Requirement already satisfied: cymem<2.1.0,>=2.0.2 in /Users/thomo/opt/anaconda3/lib/python3.8/site-packages (from spacy->fastai) (2.0.5)\n",
      "Requirement already satisfied: murmurhash<1.1.0,>=0.28.0 in /Users/thomo/opt/anaconda3/lib/python3.8/site-packages (from spacy->fastai) (1.0.5)\n",
      "Requirement already satisfied: setuptools in /Users/thomo/opt/anaconda3/lib/python3.8/site-packages (from spacy->fastai) (49.2.0.post20200714)\n",
      "Requirement already satisfied: tqdm<5.0.0,>=4.38.0 in /Users/thomo/opt/anaconda3/lib/python3.8/site-packages (from spacy->fastai) (4.47.0)\n",
      "Requirement already satisfied: srsly<1.1.0,>=1.0.2 in /Users/thomo/opt/anaconda3/lib/python3.8/site-packages (from spacy->fastai) (1.0.5)\n",
      "Requirement already satisfied: catalogue<1.1.0,>=0.0.7 in /Users/thomo/opt/anaconda3/lib/python3.8/site-packages (from spacy->fastai) (1.0.0)\n",
      "Requirement already satisfied: plac<1.2.0,>=0.9.6 in /Users/thomo/opt/anaconda3/lib/python3.8/site-packages (from spacy->fastai) (1.1.3)\n",
      "Requirement already satisfied: thinc<7.5.0,>=7.4.1 in /Users/thomo/opt/anaconda3/lib/python3.8/site-packages (from spacy->fastai) (7.4.5)\n",
      "Requirement already satisfied: wasabi<1.1.0,>=0.4.0 in /Users/thomo/opt/anaconda3/lib/python3.8/site-packages (from spacy->fastai) (0.8.0)\n",
      "Requirement already satisfied: blis<0.8.0,>=0.4.0 in /Users/thomo/opt/anaconda3/lib/python3.8/site-packages (from spacy->fastai) (0.7.4)\n",
      "Requirement already satisfied: preshed<3.1.0,>=3.0.2 in /Users/thomo/opt/anaconda3/lib/python3.8/site-packages (from spacy->fastai) (3.0.5)\n"
     ]
    }
   ],
   "source": [
    "!pip install fastai"
   ]
  },
  {
   "cell_type": "code",
   "execution_count": 11,
   "metadata": {},
   "outputs": [],
   "source": [
    "from fastai.text.all import *"
   ]
  },
  {
   "cell_type": "code",
   "execution_count": 12,
   "metadata": {},
   "outputs": [
    {
     "data": {
      "text/html": [],
      "text/plain": [
       "<IPython.core.display.HTML object>"
      ]
     },
     "metadata": {},
     "output_type": "display_data"
    }
   ],
   "source": [
    "dls = TextDataLoaders.from_df(train, valid_pct = 0.1, text_col = 'OriginalTweet', label_col = 'Sentiment', bs = 64, is_lm = True)"
   ]
  },
  {
   "cell_type": "code",
   "execution_count": 13,
   "metadata": {},
   "outputs": [
    {
     "data": {
      "text/html": [
       "<table border=\"1\" class=\"dataframe\">\n",
       "  <thead>\n",
       "    <tr style=\"text-align: right;\">\n",
       "      <th></th>\n",
       "      <th>text</th>\n",
       "      <th>text_</th>\n",
       "    </tr>\n",
       "  </thead>\n",
       "  <tbody>\n",
       "    <tr>\n",
       "      <th>0</th>\n",
       "      <td>xxbos xxmaj dear xxup pm pls work on delivery system supermarket has slots full for all the time 3 days passed xxmaj we are not ready for complete lock down in case of crisis xxmaj deploy to xxmaj ntuc not 19 xxbos xxmaj thank you to all grocery , drug store and gas station employees for all your xxunk hard work to keep supplies and food available right now . xxmaj your</td>\n",
       "      <td>xxmaj dear xxup pm pls work on delivery system supermarket has slots full for all the time 3 days passed xxmaj we are not ready for complete lock down in case of crisis xxmaj deploy to xxmaj ntuc not 19 xxbos xxmaj thank you to all grocery , drug store and gas station employees for all your xxunk hard work to keep supplies and food available right now . xxmaj your support</td>\n",
       "    </tr>\n",
       "    <tr>\n",
       "      <th>1</th>\n",
       "      <td>xxmaj covid_19 # coronavirus # fridayfeeling # fridayvibes xxbos xxmaj full xxmaj circle xxmaj research xxmaj reveals xxmaj increased xxmaj consumer xxmaj anxiety xxmaj over xxup covid-19 &amp; &amp; xxmaj impact xxmaj over xxmaj events xxmaj sector w / a xxmaj delayed xxmaj return xxmaj to xxmaj xxunk xxmaj after # xxmaj coronavirus | xxunk \\r\\r\\n https : / / t.co / xxunk xxbos xxunk , xxunk and others in the consumer</td>\n",
       "      <td>covid_19 # coronavirus # fridayfeeling # fridayvibes xxbos xxmaj full xxmaj circle xxmaj research xxmaj reveals xxmaj increased xxmaj consumer xxmaj anxiety xxmaj over xxup covid-19 &amp; &amp; xxmaj impact xxmaj over xxmaj events xxmaj sector w / a xxmaj delayed xxmaj return xxmaj to xxmaj xxunk xxmaj after # xxmaj coronavirus | xxunk \\r\\r\\n https : / / t.co / xxunk xxbos xxunk , xxunk and others in the consumer packaged</td>\n",
       "    </tr>\n",
       "    <tr>\n",
       "      <th>2</th>\n",
       "      <td>low as $ 25 per barrel , gold peaked then reduced opening xxmaj march at xxunk per gram , now once again on a downward trajectory . https : / / t.co / xxunk xxbos xxup thank xxup you for having on to talk about s demand for food xxmaj for ways to help go to xxbos xxmaj hoarding toilet paper stockpiling weed applying vodka as hand sanitizer making music videos using</td>\n",
       "      <td>as $ 25 per barrel , gold peaked then reduced opening xxmaj march at xxunk per gram , now once again on a downward trajectory . https : / / t.co / xxunk xxbos xxup thank xxup you for having on to talk about s demand for food xxmaj for ways to help go to xxbos xxmaj hoarding toilet paper stockpiling weed applying vodka as hand sanitizer making music videos using urine</td>\n",
       "    </tr>\n",
       "    <tr>\n",
       "      <th>3</th>\n",
       "      <td>/ t.co / xxunk g xxbos xxunk xxmaj at my local supermarket before we were made aware of xxup covid-19 , one of the cashiers had a mask on &amp; &amp; a customer in line xxunk him for wearing it . xxmaj turns out he had a heart transplant &amp; &amp; couldnât risk being exposed to anything tha xxbos xxmaj consumer xxmaj reports has developed a \" coronavirus xxmaj resource xxmaj hub</td>\n",
       "      <td>t.co / xxunk g xxbos xxunk xxmaj at my local supermarket before we were made aware of xxup covid-19 , one of the cashiers had a mask on &amp; &amp; a customer in line xxunk him for wearing it . xxmaj turns out he had a heart transplant &amp; &amp; couldnât risk being exposed to anything tha xxbos xxmaj consumer xxmaj reports has developed a \" coronavirus xxmaj resource xxmaj hub \"</td>\n",
       "    </tr>\n",
       "    <tr>\n",
       "      <th>4</th>\n",
       "      <td>paper factory person \\r\\r\\n ? ? xxunk star \\r\\r\\n ? ? uber eats driver \\r\\r\\n ? ? grocery store clerk \\r\\r\\n ? ? delivery drug dealer xxbos xxmaj you need a government to lockdown you at such a short notice ? \\r\\r\\n\\r\\r\\n xxmaj fucks xxrep 4 ! \\r\\r\\n\\r\\r\\n xxmaj if xxmaj covid 19 does not starvation will take your xxmaj life coz yesterday we were told , no xxmaj panic xxmaj buying</td>\n",
       "      <td>factory person \\r\\r\\n ? ? xxunk star \\r\\r\\n ? ? uber eats driver \\r\\r\\n ? ? grocery store clerk \\r\\r\\n ? ? delivery drug dealer xxbos xxmaj you need a government to lockdown you at such a short notice ? \\r\\r\\n\\r\\r\\n xxmaj fucks xxrep 4 ! \\r\\r\\n\\r\\r\\n xxmaj if xxmaj covid 19 does not starvation will take your xxmaj life coz yesterday we were told , no xxmaj panic xxmaj buying .</td>\n",
       "    </tr>\n",
       "    <tr>\n",
       "      <th>5</th>\n",
       "      <td>step go further xxbos @arabnews xxmaj manipulation of fuel prices , in the current xxup covid 19 crisis , is uncalled for and xxunk of greed by the oil producing nations . xxup greedy xxup bastards . xxrep 4 ? xxbos xxmaj how we live &amp; &amp; work may never be the same again xxmaj coronavirus shifts consumer behaviour , helps some businesses boom https : / / t.co / oxa7swtond @abcnews</td>\n",
       "      <td>go further xxbos @arabnews xxmaj manipulation of fuel prices , in the current xxup covid 19 crisis , is uncalled for and xxunk of greed by the oil producing nations . xxup greedy xxup bastards . xxrep 4 ? xxbos xxmaj how we live &amp; &amp; work may never be the same again xxmaj coronavirus shifts consumer behaviour , helps some businesses boom https : / / t.co / oxa7swtond @abcnews @zoom_us</td>\n",
       "    </tr>\n",
       "    <tr>\n",
       "      <th>6</th>\n",
       "      <td>to xxunk the exact magnitude of the impact of containment measures on activity xxmaj the takes two approaches identifying 1 the sectors and 2 the categories of consumer spending most directly affected xxbos xxmaj chemist just administered flu vaccine without gloves ? . xxmaj definitely didnât use sanitizer after , may not have before . xxmaj took his mask ? off before walking out , left it in here . # coronavirus</td>\n",
       "      <td>xxunk the exact magnitude of the impact of containment measures on activity xxmaj the takes two approaches identifying 1 the sectors and 2 the categories of consumer spending most directly affected xxbos xxmaj chemist just administered flu vaccine without gloves ? . xxmaj definitely didnât use sanitizer after , may not have before . xxmaj took his mask ? off before walking out , left it in here . # coronavirus https</td>\n",
       "    </tr>\n",
       "    <tr>\n",
       "      <th>7</th>\n",
       "      <td>xxunk xxbos xxmaj it 's interesting to think about the xxup u.s . xxmaj bureau of xxmaj labor xxmaj statistics trying to gather accurate data on food prices with a staff of federal employees forced to work from home . xxmaj but somehow they did pull it off . @spgmarketintel https : / / t.co / xxunk https : / / t.co / xxunk xxbos xxmaj come on @sainsburys your supermarket shelves</td>\n",
       "      <td>xxbos xxmaj it 's interesting to think about the xxup u.s . xxmaj bureau of xxmaj labor xxmaj statistics trying to gather accurate data on food prices with a staff of federal employees forced to work from home . xxmaj but somehow they did pull it off . @spgmarketintel https : / / t.co / xxunk https : / / t.co / xxunk xxbos xxmaj come on @sainsburys your supermarket shelves have</td>\n",
       "    </tr>\n",
       "    <tr>\n",
       "      <th>8</th>\n",
       "      <td>then buy foreign companies when their prices slump as a result . # china needs investigation over # xxup covid19 big time ! # coronavirus \\r\\r\\n\\r\\r\\n xxmaj tory xxunk warn over xxmaj chinese move on xxunk xxmaj imagination \\r\\r\\n https : / / t.co / xxunk https : / / t.co / xxunk xxbos xxmaj we ve finally entered the xxmaj xxunk xxmaj phase xxmaj almost feels like i m xxunk in</td>\n",
       "      <td>buy foreign companies when their prices slump as a result . # china needs investigation over # xxup covid19 big time ! # coronavirus \\r\\r\\n\\r\\r\\n xxmaj tory xxunk warn over xxmaj chinese move on xxunk xxmaj imagination \\r\\r\\n https : / / t.co / xxunk https : / / t.co / xxunk xxbos xxmaj we ve finally entered the xxmaj xxunk xxmaj phase xxmaj almost feels like i m xxunk in some</td>\n",
       "    </tr>\n",
       "  </tbody>\n",
       "</table>"
      ],
      "text/plain": [
       "<IPython.core.display.HTML object>"
      ]
     },
     "metadata": {},
     "output_type": "display_data"
    }
   ],
   "source": [
    "dls.show_batch()"
   ]
  },
  {
   "cell_type": "code",
   "execution_count": 14,
   "metadata": {},
   "outputs": [],
   "source": [
    "learn = language_model_learner(dls, AWD_LSTM, drop_mult = 0.3)"
   ]
  },
  {
   "cell_type": "code",
   "execution_count": 15,
   "metadata": {},
   "outputs": [
    {
     "data": {
      "text/html": [],
      "text/plain": [
       "<IPython.core.display.HTML object>"
      ]
     },
     "metadata": {},
     "output_type": "display_data"
    },
    {
     "data": {
      "text/plain": [
       "SuggestedLRs(lr_min=0.06309573650360108, lr_steep=0.033113110810518265)"
      ]
     },
     "execution_count": 15,
     "metadata": {},
     "output_type": "execute_result"
    },
    {
     "data": {
      "image/png": "[encoded data removed]",
      "text/plain": [
       "<Figure size 432x288 with 1 Axes>"
      ]
     },
     "metadata": {},
     "output_type": "display_data"
    }
   ],
   "source": [
    "learn.lr_find()"
   ]
  },
  {
   "cell_type": "code",
   "execution_count": 17,
   "metadata": {},
   "outputs": [],
   "source": [
    "learn.save('fine_tuned')\n",
    "learn.save_encoder('fine_tuned_enc')"
   ]
  },
  {
   "cell_type": "code",
   "execution_count": 18,
   "metadata": {},
   "outputs": [
    {
     "data": {
      "text/html": [],
      "text/plain": [
       "<IPython.core.display.HTML object>"
      ]
     },
     "metadata": {},
     "output_type": "display_data"
    }
   ],
   "source": [
    "data_class = TextDataLoaders.from_df(train, valid_pct = 0.1, text_col = 'OriginalTweet', label_col = 'Sentiment', bs = 64, text_vocab = dls.vocab)"
   ]
  },
  {
   "cell_type": "code",
   "execution_count": 19,
   "metadata": {},
   "outputs": [
    {
     "data": {
      "text/html": [
       "<table border=\"1\" class=\"dataframe\">\n",
       "  <thead>\n",
       "    <tr style=\"text-align: right;\">\n",
       "      <th></th>\n",
       "      <th>text</th>\n",
       "      <th>category</th>\n",
       "    </tr>\n",
       "  </thead>\n",
       "  <tbody>\n",
       "    <tr>\n",
       "      <th>0</th>\n",
       "      <td>xxbos xxrep 5 ? ? ? xxrep 7 ? ? ? xxrep 7 ? xxrep 4 ? xxrep 4 ? xxrep 11 ? ? ? xxrep 6 ? xxrep 4 ? , xxrep 3 ? xxrep 3 ? ? ? xxrep 3 ? xxrep 4 ? xxrep 3 ? ? ? ? ? xxrep 4 ? ? ? xxrep 3 ? , xxrep 4 ? ? ? ? ? xxrep 6 ? xxrep 3 ? xxrep 3 ? xxrep 3 ? ? ? xxrep 3 ? \\r\\r\\n▁ xxrep 5 ? xxrep 6 ? ? ? xxrep 3 ? xxrep 4 ? xxrep 4 ? ? ? xxrep 4 ? xxrep 6 ? xxrep 4 ? xxrep 8 ? ? ? xxrep 6 ? ? ? xxrep 5 ? ? ? xxrep 3 ? xxrep 4 ? ? ? xxrep 7 ? xxrep 5 ? - xxrep 8 ? xxrep 5</td>\n",
       "      <td>Neutral</td>\n",
       "    </tr>\n",
       "    <tr>\n",
       "      <th>1</th>\n",
       "      <td>xxbos # coronavirus xxmaj people , xxup stop xxup panic xxup buying , xxup you xxup do xxup not xxup need xxup to xxup stock xxup up xxup on xxup food xxup like xxup you xxup wo n't xxup see xxup the xxup sun xxup for xxup the xxup rest xxup of xxup your xxup life , xxup no xxup one xxup told xxup us xxup to xxup stock xxup up xxup on xxup toilet xxup paper , xxup no xxup one xxup told xxup us xxup to xxup stock xxup up xxup on xxup hand xxup sanitizer , xxup just xxup regular xxup soap xxup works xxup better . ( 1 )</td>\n",
       "      <td>Positive</td>\n",
       "    </tr>\n",
       "    <tr>\n",
       "      <th>2</th>\n",
       "      <td>xxbos # xxup xxunk : xxup xxunk ' xxup back &amp; &amp; xxup forth xxup in xxup my xxup chair , xxup wearin ' xxup my xxup xxunk , xxup wrapped xxup in xxup my xxup blanket , xxup xxunk ' xxup exhausted , xxup xxunk ' xxunk xxup xxunk ' xxup in xxup line xxup at xxup the xxup supermarket , xxup xxunk ' xxup like xxup i m xxup cool xxup wit ' # xxup socialdistancing xxup there … . xxup why i xxup have xxup to xxup wait xxup so xxup long xxup before xxup xxunk ",
       " https : / / t.co / xxunk</td>\n",
       "      <td>Positive</td>\n",
       "    </tr>\n",
       "    <tr>\n",
       "      <th>3</th>\n",
       "      <td>xxbos ? premium xxup offers ? \\r\\r\\n ? ? get xxup in xxup touch xxup for xxup deals ? ? \\r\\r\\n xxmaj over 3 xxrep 3 0 channels ? \\r\\r\\n xxmaj over 12 xxrep 3 0 movies and series ? ? \\r\\r\\n\\r\\r\\n xxmaj free trials available ? \\r\\r\\n\\r\\r\\n ? sports \\r\\r\\n ? movies \\r\\r\\n ? music \\r\\r\\n ? ppv xxup events \\r\\r\\n ? ? kids \\r\\r\\n ? uk / xxup usa \\r\\r\\n ? xxunk \\r\\r\\n ? catch xxup up \\r\\r\\n ? xxunk \\r\\r\\n\\r\\r\\n xxmaj whatsapp : xxunk \\r\\r\\n\\r\\r\\n▁ # xxup iptv # xxmaj firestick # xxup xxunk # xxunk https : / / t.co / xxunk</td>\n",
       "      <td>Positive</td>\n",
       "    </tr>\n",
       "    <tr>\n",
       "      <th>4</th>\n",
       "      <td>xxbos xxmaj essential xxmaj cleaning xxmaj here ! \\r\\r\\n xxup the # xxup coronavirus xxup is xxup no xxup joke / xxmaj simple xxmaj no xxmaj rush xxmaj booking . a xxmaj cleaning xxmaj company xxmaj you xxmaj can xxmaj trust . \\r\\r\\n xxmaj specializing in xxmaj vacation xxmaj rentals , xxmaj xxunk , xxunk and xxmaj much xxmaj more . \\r\\r\\n xxmaj prices xxmaj starting @ 2 xxmaj hours 2 xxmaj maids $ 77 \\r\\r\\n ( xxunk ) xxrep 3 3 xxunk \\r\\r\\n▁ # lasvegas # xxmaj xxunk # xxmaj summerlin # xxunk https : / / t.co / xxunk</td>\n",
       "      <td>Positive</td>\n",
       "    </tr>\n",
       "    <tr>\n",
       "      <th>5</th>\n",
       "      <td>xxbos xxmaj this # xxmaj afternoon : xxmaj at xxup bs i could n't buy scratchers b / c it was # closed b / c of # coronavirus . xxmaj after xxup bs i walked to # xxmaj water xxmaj store to buy $ 2 scratchers . i won $ 10 with xxup xxunk and $ 1 with xxup xxunk . xxmaj after xxup ws i walked to # xxmaj mexican # xxmaj grocery to buy $ 2 scratchers . i lost $ 1 with xxup xxunk and $ 1 with xxup xxunk .</td>\n",
       "      <td>Positive</td>\n",
       "    </tr>\n",
       "    <tr>\n",
       "      <th>6</th>\n",
       "      <td>xxbos # xxup coronavirus xxup alert : xxmaj we understand how important it is for everyone to keep clean &amp; &amp; disinfected \\r\\r\\n xxmaj let xxmaj us xxmaj help ? xxmaj all xxmaj supplies xxmaj needed f / xxmaj disinfecting &amp; &amp; xxmaj cleaning xxmaj provided \\r\\r\\n xxmaj prices xxmaj starting @ 2 xxmaj hours 2 xxmaj maids $ 75 \\r\\r\\n xxmaj book xxmaj online or xxmaj call xxmaj today @ \\r\\r\\n https : / / t.co / xxunk / ( xxunk - xxunk \\r\\r\\n▁ # lasvegas https : / / t.co / xxunk</td>\n",
       "      <td>Extremely Positive</td>\n",
       "    </tr>\n",
       "    <tr>\n",
       "      <th>7</th>\n",
       "      <td>xxbos $ xxunk xxmaj xxunk xxmaj holdings , xxmaj inc . , xxmaj developing xxmaj hand # xxmaj sanitizer xxmaj infused with # xxmaj hemp xxmaj seed xxmaj oil \\r\\r\\n\\r\\r\\n $ gild $ xxunk $ xxunk $ xxunk $ xxunk $ xxunk $ xxunk $ xxunk $ xxunk $ aim $ knos $ xxunk \\r\\r\\n $ xxunk $ xxunk $ xxunk $ xxunk $ xxunk $ xxunk $ aim $ xxunk $ xxunk $ xxunk # coronavirus \\r\\r\\n▁ # xxup covid19 \\r\\r\\n\\r\\r\\n https : / / t.co / xxunk g</td>\n",
       "      <td>Positive</td>\n",
       "    </tr>\n",
       "    <tr>\n",
       "      <th>8</th>\n",
       "      <td>xxbos xxmaj peace xxup breaking xxup news xxmaj dr . xxmaj abdul xxmaj xxunk xxmaj xxunk xxup md . is speaking on a xxmaj town xxmaj hall xxmaj telephone xxmaj conference xxmaj call xxmaj tuesday xxmaj april 7 , 2020 @ xxunk ( est ) about 5 g , xxmaj covid 19 , xxmaj banks and xxup your xxup money , xxmaj stock xxmaj market , xxmaj falling gas prices , xxmaj answers and xxmaj solutions . xxmaj should be 16 xxunk ",
       " https : / / t.co / xxunk</td>\n",
       "      <td>Positive</td>\n",
       "    </tr>\n",
       "  </tbody>\n",
       "</table>"
      ],
      "text/plain": [
       "<IPython.core.display.HTML object>"
      ]
     },
     "metadata": {},
     "output_type": "display_data"
    }
   ],
   "source": [
    "data_class.show_batch()"
   ]
  },
  {
   "cell_type": "code",
   "execution_count": 20,
   "metadata": {},
   "outputs": [
    {
     "data": {
      "text/plain": [
       "<fastai.text.learner.TextLearner at 0x7f9b9b9e6850>"
      ]
     },
     "execution_count": 20,
     "metadata": {},
     "output_type": "execute_result"
    }
   ],
   "source": [
    "learn = text_classifier_learner(data_class, AWD_LSTM, drop_mult=0.5, metrics=[accuracy])\n",
    "learn.load_encoder('fine_tuned_enc')"
   ]
  },
  {
   "cell_type": "code",
   "execution_count": 28,
   "metadata": {},
   "outputs": [
    {
     "data": {
      "text/html": [],
      "text/plain": [
       "<IPython.core.display.HTML object>"
      ]
     },
     "metadata": {},
     "output_type": "display_data"
    },
    {
     "data": {
      "text/plain": [
       "('Extremely Positive',\n",
       " tensor(1),\n",
       " tensor([0.1776, 0.2140, 0.1958, 0.2128, 0.1998]))"
      ]
     },
     "execution_count": 28,
     "metadata": {},
     "output_type": "execute_result"
    }
   ],
   "source": [
    "learn.predict(\"This pandemic is destroying our lives\")"
   ]
  }
 ],
 "metadata": {
  "kernelspec": {
   "display_name": "Python 3",
   "language": "python",
   "name": "python3"
  },
  "language_info": {
   "codemirror_mode": {
    "name": "ipython",
    "version": 3
   },
   "file_extension": ".py",
   "mimetype": "text/x-python",
   "name": "python",
   "nbconvert_exporter": "python",
   "pygments_lexer": "ipython3",
   "version": "3.8.3"
  }
 },
 "nbformat": 4,
 "nbformat_minor": 4
}
