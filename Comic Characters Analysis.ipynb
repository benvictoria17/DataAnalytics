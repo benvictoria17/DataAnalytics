{
 "cells": [
  {
   "cell_type": "code",
   "execution_count": 21,
   "id": "c36f4e39",
   "metadata": {},
   "outputs": [],
   "source": [
    "import numpy as np \n",
    "import pandas as pd\n",
    "import matplotlib.pyplot as plt"
   ]
  },
  {
   "cell_type": "code",
   "execution_count": 23,
   "id": "f0d1ad8c",
   "metadata": {},
   "outputs": [
    {
     "name": "stdout",
     "output_type": "stream",
     "text": [
      "Records:  6896 Columns (6896, 13)\n"
     ]
    },
    {
     "data": {
      "text/html": [
       "<div>\n",
       "<style scoped>\n",
       "    .dataframe tbody tr th:only-of-type {\n",
       "        vertical-align: middle;\n",
       "    }\n",
       "\n",
       "    .dataframe tbody tr th {\n",
       "        vertical-align: top;\n",
       "    }\n",
       "\n",
       "    .dataframe thead th {\n",
       "        text-align: right;\n",
       "    }\n",
       "</style>\n",
       "<table border=\"1\" class=\"dataframe\">\n",
       "  <thead>\n",
       "    <tr style=\"text-align: right;\">\n",
       "      <th></th>\n",
       "      <th>page_id</th>\n",
       "      <th>name</th>\n",
       "      <th>urlslug</th>\n",
       "      <th>ID</th>\n",
       "      <th>ALIGN</th>\n",
       "      <th>EYE</th>\n",
       "      <th>HAIR</th>\n",
       "      <th>SEX</th>\n",
       "      <th>GSM</th>\n",
       "      <th>ALIVE</th>\n",
       "      <th>APPEARANCES</th>\n",
       "      <th>FIRST APPEARANCE</th>\n",
       "      <th>YEAR</th>\n",
       "    </tr>\n",
       "  </thead>\n",
       "  <tbody>\n",
       "    <tr>\n",
       "      <th>0</th>\n",
       "      <td>1422</td>\n",
       "      <td>Batman (Bruce Wayne)</td>\n",
       "      <td>\\/wiki\\/Batman_(Bruce_Wayne)</td>\n",
       "      <td>Secret Identity</td>\n",
       "      <td>Good Characters</td>\n",
       "      <td>Blue Eyes</td>\n",
       "      <td>Black Hair</td>\n",
       "      <td>Male Characters</td>\n",
       "      <td>NaN</td>\n",
       "      <td>Living Characters</td>\n",
       "      <td>3093.0</td>\n",
       "      <td>1939, May</td>\n",
       "      <td>1939.0</td>\n",
       "    </tr>\n",
       "    <tr>\n",
       "      <th>1</th>\n",
       "      <td>23387</td>\n",
       "      <td>Superman (Clark Kent)</td>\n",
       "      <td>\\/wiki\\/Superman_(Clark_Kent)</td>\n",
       "      <td>Secret Identity</td>\n",
       "      <td>Good Characters</td>\n",
       "      <td>Blue Eyes</td>\n",
       "      <td>Black Hair</td>\n",
       "      <td>Male Characters</td>\n",
       "      <td>NaN</td>\n",
       "      <td>Living Characters</td>\n",
       "      <td>2496.0</td>\n",
       "      <td>1986, October</td>\n",
       "      <td>1986.0</td>\n",
       "    </tr>\n",
       "    <tr>\n",
       "      <th>2</th>\n",
       "      <td>1458</td>\n",
       "      <td>Green Lantern (Hal Jordan)</td>\n",
       "      <td>\\/wiki\\/Green_Lantern_(Hal_Jordan)</td>\n",
       "      <td>Secret Identity</td>\n",
       "      <td>Good Characters</td>\n",
       "      <td>Brown Eyes</td>\n",
       "      <td>Brown Hair</td>\n",
       "      <td>Male Characters</td>\n",
       "      <td>NaN</td>\n",
       "      <td>Living Characters</td>\n",
       "      <td>1565.0</td>\n",
       "      <td>1959, October</td>\n",
       "      <td>1959.0</td>\n",
       "    </tr>\n",
       "    <tr>\n",
       "      <th>3</th>\n",
       "      <td>1659</td>\n",
       "      <td>James Gordon (New Earth)</td>\n",
       "      <td>\\/wiki\\/James_Gordon_(New_Earth)</td>\n",
       "      <td>Public Identity</td>\n",
       "      <td>Good Characters</td>\n",
       "      <td>Brown Eyes</td>\n",
       "      <td>White Hair</td>\n",
       "      <td>Male Characters</td>\n",
       "      <td>NaN</td>\n",
       "      <td>Living Characters</td>\n",
       "      <td>1316.0</td>\n",
       "      <td>1987, February</td>\n",
       "      <td>1987.0</td>\n",
       "    </tr>\n",
       "    <tr>\n",
       "      <th>4</th>\n",
       "      <td>1576</td>\n",
       "      <td>Richard Grayson (New Earth)</td>\n",
       "      <td>\\/wiki\\/Richard_Grayson_(New_Earth)</td>\n",
       "      <td>Secret Identity</td>\n",
       "      <td>Good Characters</td>\n",
       "      <td>Blue Eyes</td>\n",
       "      <td>Black Hair</td>\n",
       "      <td>Male Characters</td>\n",
       "      <td>NaN</td>\n",
       "      <td>Living Characters</td>\n",
       "      <td>1237.0</td>\n",
       "      <td>1940, April</td>\n",
       "      <td>1940.0</td>\n",
       "    </tr>\n",
       "  </tbody>\n",
       "</table>\n",
       "</div>"
      ],
      "text/plain": [
       "   page_id                         name                              urlslug  \\\n",
       "0     1422         Batman (Bruce Wayne)         \\/wiki\\/Batman_(Bruce_Wayne)   \n",
       "1    23387        Superman (Clark Kent)        \\/wiki\\/Superman_(Clark_Kent)   \n",
       "2     1458   Green Lantern (Hal Jordan)   \\/wiki\\/Green_Lantern_(Hal_Jordan)   \n",
       "3     1659     James Gordon (New Earth)     \\/wiki\\/James_Gordon_(New_Earth)   \n",
       "4     1576  Richard Grayson (New Earth)  \\/wiki\\/Richard_Grayson_(New_Earth)   \n",
       "\n",
       "                ID            ALIGN         EYE        HAIR              SEX  \\\n",
       "0  Secret Identity  Good Characters   Blue Eyes  Black Hair  Male Characters   \n",
       "1  Secret Identity  Good Characters   Blue Eyes  Black Hair  Male Characters   \n",
       "2  Secret Identity  Good Characters  Brown Eyes  Brown Hair  Male Characters   \n",
       "3  Public Identity  Good Characters  Brown Eyes  White Hair  Male Characters   \n",
       "4  Secret Identity  Good Characters   Blue Eyes  Black Hair  Male Characters   \n",
       "\n",
       "   GSM              ALIVE  APPEARANCES FIRST APPEARANCE    YEAR  \n",
       "0  NaN  Living Characters       3093.0        1939, May  1939.0  \n",
       "1  NaN  Living Characters       2496.0    1986, October  1986.0  \n",
       "2  NaN  Living Characters       1565.0    1959, October  1959.0  \n",
       "3  NaN  Living Characters       1316.0   1987, February  1987.0  \n",
       "4  NaN  Living Characters       1237.0      1940, April  1940.0  "
      ]
     },
     "execution_count": 23,
     "metadata": {},
     "output_type": "execute_result"
    }
   ],
   "source": [
    "df = pd.read_csv(\"https://raw.githubusercontent.com/benvictoria17/DataAnalytics/master/dataset/FiveThirtyEight%20Comic%20Characters%20Dataset/dc-wikia-data.csv\")\n",
    "print(\"Records: \", df.shape[0], \"Columns\", df.shape)\n",
    "df.head()"
   ]
  },
  {
   "cell_type": "code",
   "execution_count": 24,
   "id": "d730bb58",
   "metadata": {},
   "outputs": [
    {
     "data": {
      "text/plain": [
       "NaN                   3628\n",
       "Blue Eyes             1102\n",
       "Brown Eyes             879\n",
       "Black Eyes             412\n",
       "Green Eyes             291\n",
       "Red Eyes               208\n",
       "White Eyes             116\n",
       "Yellow Eyes             86\n",
       "Photocellular Eyes      48\n",
       "Grey Eyes               40\n",
       "Hazel Eyes              23\n",
       "Purple Eyes             14\n",
       "Violet Eyes             12\n",
       "Orange Eyes             10\n",
       "Gold Eyes                9\n",
       "Auburn Hair              7\n",
       "Pink Eyes                6\n",
       "Amber Eyes               5\n",
       "Name: EYE, dtype: int64"
      ]
     },
     "execution_count": 24,
     "metadata": {},
     "output_type": "execute_result"
    }
   ],
   "source": [
    "df[\"EYE\"].value_counts(dropna=False)"
   ]
  },
  {
   "cell_type": "code",
   "execution_count": 25,
   "id": "98bc9c0e",
   "metadata": {},
   "outputs": [
    {
     "data": {
      "text/html": [
       "<div>\n",
       "<style scoped>\n",
       "    .dataframe tbody tr th:only-of-type {\n",
       "        vertical-align: middle;\n",
       "    }\n",
       "\n",
       "    .dataframe tbody tr th {\n",
       "        vertical-align: top;\n",
       "    }\n",
       "\n",
       "    .dataframe thead th {\n",
       "        text-align: right;\n",
       "    }\n",
       "</style>\n",
       "<table border=\"1\" class=\"dataframe\">\n",
       "  <thead>\n",
       "    <tr style=\"text-align: right;\">\n",
       "      <th></th>\n",
       "      <th>page_id</th>\n",
       "      <th>APPEARANCES</th>\n",
       "      <th>YEAR</th>\n",
       "    </tr>\n",
       "  </thead>\n",
       "  <tbody>\n",
       "    <tr>\n",
       "      <th>count</th>\n",
       "      <td>6896.000000</td>\n",
       "      <td>6541.000000</td>\n",
       "      <td>6827.000000</td>\n",
       "    </tr>\n",
       "    <tr>\n",
       "      <th>mean</th>\n",
       "      <td>147441.209252</td>\n",
       "      <td>23.625134</td>\n",
       "      <td>1989.766662</td>\n",
       "    </tr>\n",
       "    <tr>\n",
       "      <th>std</th>\n",
       "      <td>108388.631149</td>\n",
       "      <td>87.378509</td>\n",
       "      <td>16.824194</td>\n",
       "    </tr>\n",
       "    <tr>\n",
       "      <th>min</th>\n",
       "      <td>1380.000000</td>\n",
       "      <td>1.000000</td>\n",
       "      <td>1935.000000</td>\n",
       "    </tr>\n",
       "    <tr>\n",
       "      <th>25%</th>\n",
       "      <td>44105.500000</td>\n",
       "      <td>2.000000</td>\n",
       "      <td>1983.000000</td>\n",
       "    </tr>\n",
       "    <tr>\n",
       "      <th>50%</th>\n",
       "      <td>141267.000000</td>\n",
       "      <td>6.000000</td>\n",
       "      <td>1992.000000</td>\n",
       "    </tr>\n",
       "    <tr>\n",
       "      <th>75%</th>\n",
       "      <td>213203.000000</td>\n",
       "      <td>15.000000</td>\n",
       "      <td>2003.000000</td>\n",
       "    </tr>\n",
       "    <tr>\n",
       "      <th>max</th>\n",
       "      <td>404010.000000</td>\n",
       "      <td>3093.000000</td>\n",
       "      <td>2013.000000</td>\n",
       "    </tr>\n",
       "  </tbody>\n",
       "</table>\n",
       "</div>"
      ],
      "text/plain": [
       "             page_id  APPEARANCES         YEAR\n",
       "count    6896.000000  6541.000000  6827.000000\n",
       "mean   147441.209252    23.625134  1989.766662\n",
       "std    108388.631149    87.378509    16.824194\n",
       "min      1380.000000     1.000000  1935.000000\n",
       "25%     44105.500000     2.000000  1983.000000\n",
       "50%    141267.000000     6.000000  1992.000000\n",
       "75%    213203.000000    15.000000  2003.000000\n",
       "max    404010.000000  3093.000000  2013.000000"
      ]
     },
     "execution_count": 25,
     "metadata": {},
     "output_type": "execute_result"
    }
   ],
   "source": [
    "df.describe()"
   ]
  },
  {
   "cell_type": "code",
   "execution_count": 26,
   "id": "ceb588bd",
   "metadata": {},
   "outputs": [
    {
     "data": {
      "image/png": "[encoded data removed]",
      "text/plain": [
       "<Figure size 432x288 with 1 Axes>"
      ]
     },
     "metadata": {
      "needs_background": "light"
     },
     "output_type": "display_data"
    }
   ],
   "source": [
    "df.boxplot(column=\"YEAR\", by=\"APPEARANCES\")\n",
    "plt.show()"
   ]
  },
  {
   "cell_type": "code",
   "execution_count": 27,
   "id": "cd01e107",
   "metadata": {},
   "outputs": [
    {
     "data": {
      "text/html": [
       "<div>\n",
       "<style scoped>\n",
       "    .dataframe tbody tr th:only-of-type {\n",
       "        vertical-align: middle;\n",
       "    }\n",
       "\n",
       "    .dataframe tbody tr th {\n",
       "        vertical-align: top;\n",
       "    }\n",
       "\n",
       "    .dataframe thead th {\n",
       "        text-align: right;\n",
       "    }\n",
       "</style>\n",
       "<table border=\"1\" class=\"dataframe\">\n",
       "  <thead>\n",
       "    <tr style=\"text-align: right;\">\n",
       "      <th></th>\n",
       "      <th>name</th>\n",
       "      <th>variable</th>\n",
       "      <th>value</th>\n",
       "    </tr>\n",
       "  </thead>\n",
       "  <tbody>\n",
       "    <tr>\n",
       "      <th>0</th>\n",
       "      <td>Batman (Bruce Wayne)</td>\n",
       "      <td>EYE</td>\n",
       "      <td>Blue Eyes</td>\n",
       "    </tr>\n",
       "    <tr>\n",
       "      <th>1</th>\n",
       "      <td>Superman (Clark Kent)</td>\n",
       "      <td>EYE</td>\n",
       "      <td>Blue Eyes</td>\n",
       "    </tr>\n",
       "    <tr>\n",
       "      <th>2</th>\n",
       "      <td>Green Lantern (Hal Jordan)</td>\n",
       "      <td>EYE</td>\n",
       "      <td>Brown Eyes</td>\n",
       "    </tr>\n",
       "    <tr>\n",
       "      <th>3</th>\n",
       "      <td>James Gordon (New Earth)</td>\n",
       "      <td>EYE</td>\n",
       "      <td>Brown Eyes</td>\n",
       "    </tr>\n",
       "    <tr>\n",
       "      <th>4</th>\n",
       "      <td>Richard Grayson (New Earth)</td>\n",
       "      <td>EYE</td>\n",
       "      <td>Blue Eyes</td>\n",
       "    </tr>\n",
       "    <tr>\n",
       "      <th>...</th>\n",
       "      <td>...</td>\n",
       "      <td>...</td>\n",
       "      <td>...</td>\n",
       "    </tr>\n",
       "    <tr>\n",
       "      <th>13787</th>\n",
       "      <td>Nadine West (New Earth)</td>\n",
       "      <td>HAIR</td>\n",
       "      <td>NaN</td>\n",
       "    </tr>\n",
       "    <tr>\n",
       "      <th>13788</th>\n",
       "      <td>Warren Harding (New Earth)</td>\n",
       "      <td>HAIR</td>\n",
       "      <td>NaN</td>\n",
       "    </tr>\n",
       "    <tr>\n",
       "      <th>13789</th>\n",
       "      <td>William Harrison (New Earth)</td>\n",
       "      <td>HAIR</td>\n",
       "      <td>NaN</td>\n",
       "    </tr>\n",
       "    <tr>\n",
       "      <th>13790</th>\n",
       "      <td>William McKinley (New Earth)</td>\n",
       "      <td>HAIR</td>\n",
       "      <td>NaN</td>\n",
       "    </tr>\n",
       "    <tr>\n",
       "      <th>13791</th>\n",
       "      <td>Mookie (New Earth)</td>\n",
       "      <td>HAIR</td>\n",
       "      <td>Blond Hair</td>\n",
       "    </tr>\n",
       "  </tbody>\n",
       "</table>\n",
       "<p>13792 rows × 3 columns</p>\n",
       "</div>"
      ],
      "text/plain": [
       "                               name variable       value\n",
       "0              Batman (Bruce Wayne)      EYE   Blue Eyes\n",
       "1             Superman (Clark Kent)      EYE   Blue Eyes\n",
       "2        Green Lantern (Hal Jordan)      EYE  Brown Eyes\n",
       "3          James Gordon (New Earth)      EYE  Brown Eyes\n",
       "4       Richard Grayson (New Earth)      EYE   Blue Eyes\n",
       "...                             ...      ...         ...\n",
       "13787       Nadine West (New Earth)     HAIR         NaN\n",
       "13788    Warren Harding (New Earth)     HAIR         NaN\n",
       "13789  William Harrison (New Earth)     HAIR         NaN\n",
       "13790  William McKinley (New Earth)     HAIR         NaN\n",
       "13791            Mookie (New Earth)     HAIR  Blond Hair\n",
       "\n",
       "[13792 rows x 3 columns]"
      ]
     },
     "execution_count": 27,
     "metadata": {},
     "output_type": "execute_result"
    }
   ],
   "source": [
    "tidy_data=pd.melt(frame=df, id_vars=\"name\", value_vars=['EYE', 'HAIR'])\n",
    "tidy_data"
   ]
  },
  {
   "cell_type": "code",
   "execution_count": 28,
   "id": "c4319f96",
   "metadata": {},
   "outputs": [
    {
     "data": {
      "text/html": [
       "<div>\n",
       "<style scoped>\n",
       "    .dataframe tbody tr th:only-of-type {\n",
       "        vertical-align: middle;\n",
       "    }\n",
       "\n",
       "    .dataframe tbody tr th {\n",
       "        vertical-align: top;\n",
       "    }\n",
       "\n",
       "    .dataframe thead th {\n",
       "        text-align: right;\n",
       "    }\n",
       "</style>\n",
       "<table border=\"1\" class=\"dataframe\">\n",
       "  <thead>\n",
       "    <tr style=\"text-align: right;\">\n",
       "      <th>variable</th>\n",
       "      <th>EYE</th>\n",
       "      <th>HAIR</th>\n",
       "    </tr>\n",
       "    <tr>\n",
       "      <th>name</th>\n",
       "      <th></th>\n",
       "      <th></th>\n",
       "    </tr>\n",
       "  </thead>\n",
       "  <tbody>\n",
       "    <tr>\n",
       "      <th>3g4 (New Earth)</th>\n",
       "      <td>NaN</td>\n",
       "      <td>NaN</td>\n",
       "    </tr>\n",
       "    <tr>\n",
       "      <th>500-ZQ (New Earth)</th>\n",
       "      <td>Blue Eyes</td>\n",
       "      <td>NaN</td>\n",
       "    </tr>\n",
       "    <tr>\n",
       "      <th>A'Hwiirdh-Paan'A (New Earth)</th>\n",
       "      <td>Blue Eyes</td>\n",
       "      <td>Purple Hair</td>\n",
       "    </tr>\n",
       "    <tr>\n",
       "      <th>A'monn A'mokk (New Earth)</th>\n",
       "      <td>Orange Eyes</td>\n",
       "      <td>NaN</td>\n",
       "    </tr>\n",
       "    <tr>\n",
       "      <th>A'morr (New Earth)</th>\n",
       "      <td>Orange Eyes</td>\n",
       "      <td>NaN</td>\n",
       "    </tr>\n",
       "    <tr>\n",
       "      <th>...</th>\n",
       "      <td>...</td>\n",
       "      <td>...</td>\n",
       "    </tr>\n",
       "    <tr>\n",
       "      <th>Zviad Baazovi (New Earth)</th>\n",
       "      <td>NaN</td>\n",
       "      <td>Black Hair</td>\n",
       "    </tr>\n",
       "    <tr>\n",
       "      <th>Zvvireel (New Earth)</th>\n",
       "      <td>NaN</td>\n",
       "      <td>NaN</td>\n",
       "    </tr>\n",
       "    <tr>\n",
       "      <th>Zyklon (New Earth)</th>\n",
       "      <td>NaN</td>\n",
       "      <td>NaN</td>\n",
       "    </tr>\n",
       "    <tr>\n",
       "      <th>Zyn (New Earth)</th>\n",
       "      <td>NaN</td>\n",
       "      <td>NaN</td>\n",
       "    </tr>\n",
       "    <tr>\n",
       "      <th>Zzlrrrzzzm (New Earth)</th>\n",
       "      <td>NaN</td>\n",
       "      <td>NaN</td>\n",
       "    </tr>\n",
       "  </tbody>\n",
       "</table>\n",
       "<p>6896 rows × 2 columns</p>\n",
       "</div>"
      ],
      "text/plain": [
       "variable                              EYE         HAIR\n",
       "name                                                  \n",
       "3g4 (New Earth)                       NaN          NaN\n",
       "500-ZQ (New Earth)              Blue Eyes          NaN\n",
       "A'Hwiirdh-Paan'A (New Earth)    Blue Eyes  Purple Hair\n",
       "A'monn A'mokk (New Earth)     Orange Eyes          NaN\n",
       "A'morr (New Earth)            Orange Eyes          NaN\n",
       "...                                   ...          ...\n",
       "Zviad Baazovi (New Earth)             NaN   Black Hair\n",
       "Zvvireel (New Earth)                  NaN          NaN\n",
       "Zyklon (New Earth)                    NaN          NaN\n",
       "Zyn (New Earth)                       NaN          NaN\n",
       "Zzlrrrzzzm (New Earth)                NaN          NaN\n",
       "\n",
       "[6896 rows x 2 columns]"
      ]
     },
     "execution_count": 28,
     "metadata": {},
     "output_type": "execute_result"
    }
   ],
   "source": [
    "tidy_data.pivot(index='name', columns='variable', values='value')"
   ]
  },
  {
   "cell_type": "code",
   "execution_count": 29,
   "id": "9d9296cd",
   "metadata": {},
   "outputs": [
    {
     "data": {
      "text/plain": [
       "page_id               int64\n",
       "name                 object\n",
       "urlslug              object\n",
       "ID                   object\n",
       "ALIGN                object\n",
       "EYE                  object\n",
       "HAIR                 object\n",
       "SEX                  object\n",
       "GSM                  object\n",
       "ALIVE                object\n",
       "APPEARANCES         float64\n",
       "FIRST APPEARANCE     object\n",
       "YEAR                float64\n",
       "dtype: object"
      ]
     },
     "execution_count": 29,
     "metadata": {},
     "output_type": "execute_result"
    }
   ],
   "source": [
    "df.dtypes"
   ]
  },
  {
   "cell_type": "code",
   "execution_count": 30,
   "id": "25fdf66d",
   "metadata": {},
   "outputs": [
    {
     "data": {
      "text/plain": [
       "page_id                int64\n",
       "name                  object\n",
       "urlslug               object\n",
       "ID                    object\n",
       "ALIGN                 object\n",
       "EYE                   object\n",
       "HAIR                  object\n",
       "SEX                 category\n",
       "GSM                   object\n",
       "ALIVE                 object\n",
       "APPEARANCES          float64\n",
       "FIRST APPEARANCE      object\n",
       "YEAR                 float64\n",
       "dtype: object"
      ]
     },
     "execution_count": 30,
     "metadata": {},
     "output_type": "execute_result"
    }
   ],
   "source": [
    "df['SEX']=df['SEX'].astype('category')\n",
    "df.dtypes"
   ]
  },
  {
   "cell_type": "code",
   "execution_count": 31,
   "id": "9a9a011d",
   "metadata": {},
   "outputs": [
    {
     "name": "stdout",
     "output_type": "stream",
     "text": [
      "<class 'pandas.core.frame.DataFrame'>\n",
      "RangeIndex: 6896 entries, 0 to 6895\n",
      "Data columns (total 13 columns):\n",
      " #   Column            Non-Null Count  Dtype   \n",
      "---  ------            --------------  -----   \n",
      " 0   page_id           6896 non-null   int64   \n",
      " 1   name              6896 non-null   object  \n",
      " 2   urlslug           6896 non-null   object  \n",
      " 3   ID                4883 non-null   object  \n",
      " 4   ALIGN             6295 non-null   object  \n",
      " 5   EYE               3268 non-null   object  \n",
      " 6   HAIR              4622 non-null   object  \n",
      " 7   SEX               6771 non-null   category\n",
      " 8   GSM               64 non-null     object  \n",
      " 9   ALIVE             6893 non-null   object  \n",
      " 10  APPEARANCES       6541 non-null   float64 \n",
      " 11  FIRST APPEARANCE  6827 non-null   object  \n",
      " 12  YEAR              6827 non-null   float64 \n",
      "dtypes: category(1), float64(2), int64(1), object(9)\n",
      "memory usage: 653.6+ KB\n"
     ]
    }
   ],
   "source": [
    "df.info()"
   ]
  },
  {
   "cell_type": "code",
   "execution_count": 32,
   "id": "a094e684",
   "metadata": {},
   "outputs": [
    {
     "name": "stdout",
     "output_type": "stream",
     "text": [
      "page_id :  0 / 6896\n",
      "name :  0 / 6896\n",
      "urlslug :  0 / 6896\n",
      "ID :  2013 / 6896\n",
      "ALIGN :  601 / 6896\n",
      "EYE :  3628 / 6896\n",
      "HAIR :  2274 / 6896\n",
      "SEX :  125 / 6896\n",
      "GSM :  6832 / 6896\n",
      "ALIVE :  3 / 6896\n",
      "APPEARANCES :  355 / 6896\n",
      "FIRST APPEARANCE :  69 / 6896\n",
      "YEAR :  69 / 6896\n"
     ]
    }
   ],
   "source": [
    "for each in df:\n",
    "    print(each, \": \",df[each].isnull().sum(), \"/\", df.shape[0])"
   ]
  },
  {
   "cell_type": "code",
   "execution_count": 33,
   "id": "bba4c2df",
   "metadata": {},
   "outputs": [
    {
     "data": {
      "text/plain": [
       "empty                 3628\n",
       "Blue Eyes             1102\n",
       "Brown Eyes             879\n",
       "Black Eyes             412\n",
       "Green Eyes             291\n",
       "Red Eyes               208\n",
       "White Eyes             116\n",
       "Yellow Eyes             86\n",
       "Photocellular Eyes      48\n",
       "Grey Eyes               40\n",
       "Hazel Eyes              23\n",
       "Purple Eyes             14\n",
       "Violet Eyes             12\n",
       "Orange Eyes             10\n",
       "Gold Eyes                9\n",
       "Auburn Hair              7\n",
       "Pink Eyes                6\n",
       "Amber Eyes               5\n",
       "Name: EYE, dtype: int64"
      ]
     },
     "execution_count": 33,
     "metadata": {},
     "output_type": "execute_result"
    }
   ],
   "source": [
    "data1=df.copy()\n",
    "data1['ALIVE'].dropna(inplace=True)\n",
    "data1['EYE'].fillna('empty', inplace=True)\n",
    "data1['EYE'].value_counts()"
   ]
  },
  {
   "cell_type": "code",
   "execution_count": 34,
   "id": "7c7413bc",
   "metadata": {},
   "outputs": [
    {
     "data": {
      "image/png": "[encoded data removed]",
      "text/plain": [
       "<Figure size 432x288 with 1 Axes>"
      ]
     },
     "metadata": {
      "needs_background": "light"
     },
     "output_type": "display_data"
    }
   ],
   "source": [
    "df2=df.loc[:,[\"YEAR\",\"APPEARANCES\", \"page_id\"]]\n",
    "df2.plot()\n",
    "plt.show()"
   ]
  },
  {
   "cell_type": "code",
   "execution_count": 35,
   "id": "a3a2576f",
   "metadata": {},
   "outputs": [
    {
     "data": {
      "image/png": "[encoded data removed]",
      "text/plain": [
       "<Figure size 432x288 with 3 Axes>"
      ]
     },
     "metadata": {
      "needs_background": "light"
     },
     "output_type": "display_data"
    }
   ],
   "source": [
    "df2.plot(subplots=True)\n",
    "plt.show()"
   ]
  },
  {
   "cell_type": "code",
   "execution_count": null,
   "id": "05442131",
   "metadata": {},
   "outputs": [],
   "source": []
  },
  {
   "cell_type": "code",
   "execution_count": null,
   "id": "c49c04f4",
   "metadata": {},
   "outputs": [],
   "source": []
  }
 ],
 "metadata": {
  "kernelspec": {
   "display_name": "Python 3",
   "language": "python",
   "name": "python3"
  },
  "language_info": {
   "codemirror_mode": {
    "name": "ipython",
    "version": 3
   },
   "file_extension": ".py",
   "mimetype": "text/x-python",
   "name": "python",
   "nbconvert_exporter": "python",
   "pygments_lexer": "ipython3",
   "version": "3.9.5"
  }
 },
 "nbformat": 4,
 "nbformat_minor": 5
}
