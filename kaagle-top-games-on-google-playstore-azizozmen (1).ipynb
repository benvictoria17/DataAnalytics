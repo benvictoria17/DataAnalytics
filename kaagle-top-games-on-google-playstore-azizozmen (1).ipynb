{
 "cells": [
  {
   "cell_type": "code",
   "execution_count": 1,
   "id": "67a4a626",
   "metadata": {
    "_cell_guid": "b1076dfc-b9ad-4769-8c92-a6c4dae69d19",
    "_uuid": "8f2839f25d086af736a60e9eeb907d3b93b6e0e5",
    "execution": {
     "iopub.execute_input": "2021-07-17T21:45:47.267737Z",
     "iopub.status.busy": "2021-07-17T21:45:47.255866Z",
     "iopub.status.idle": "2021-07-17T21:45:53.875619Z",
     "shell.execute_reply": "2021-07-17T21:45:53.875080Z",
     "shell.execute_reply.started": "2021-07-17T21:36:07.961066Z"
    },
    "papermill": {
     "duration": 6.70547,
     "end_time": "2021-07-17T21:45:53.875730",
     "exception": false,
     "start_time": "2021-07-17T21:45:47.170260",
     "status": "completed"
    },
    "tags": []
   },
   "outputs": [
    {
     "name": "stdout",
     "output_type": "stream",
     "text": [
      "Requirement already satisfied: plotly==5.1.0 in /opt/conda/lib/python3.7/site-packages (5.1.0)\r\n",
      "Requirement already satisfied: six in /opt/conda/lib/python3.7/site-packages (from plotly==5.1.0) (1.15.0)\r\n",
      "Requirement already satisfied: tenacity>=6.2.0 in /opt/conda/lib/python3.7/site-packages (from plotly==5.1.0) (7.0.0)\r\n",
      "\u001b[33mWARNING: Running pip as root will break packages and permissions. You should install packages reliably by using venv: https://pip.pypa.io/warnings/venv\u001b[0m\r\n",
      "Note: you may need to restart the kernel to use updated packages.\n"
     ]
    }
   ],
   "source": [
    "pip install plotly==5.1.0"
   ]
  },
  {
   "cell_type": "code",
   "execution_count": 2,
   "id": "92144112",
   "metadata": {
    "execution": {
     "iopub.execute_input": "2021-07-17T21:45:53.981290Z",
     "iopub.status.busy": "2021-07-17T21:45:53.980662Z",
     "iopub.status.idle": "2021-07-17T21:45:56.971435Z",
     "shell.execute_reply": "2021-07-17T21:45:56.970767Z",
     "shell.execute_reply.started": "2021-07-17T21:36:15.103284Z"
    },
    "papermill": {
     "duration": 3.046758,
     "end_time": "2021-07-17T21:45:56.971604",
     "exception": false,
     "start_time": "2021-07-17T21:45:53.924846",
     "status": "completed"
    },
    "tags": []
   },
   "outputs": [],
   "source": [
    "import numpy as np \n",
    "import pandas as pd\n",
    "import matplotlib.pyplot as plt \n",
    "import seaborn as sns\n",
    "\n",
    "import plotly \n",
    "import plotly.express as px\n",
    "import plotly.graph_objs as go\n",
    "import plotly.offline as py\n",
    "from plotly.offline import iplot\n",
    "from plotly.subplots import make_subplots\n",
    "import plotly.figure_factory as ff\n",
    "import warnings\n",
    "warnings.filterwarnings(\"ignore\")\n",
    "%matplotlib inline"
   ]
  },
  {
   "cell_type": "code",
   "execution_count": 3,
   "id": "c4f2e4a0",
   "metadata": {
    "execution": {
     "iopub.execute_input": "2021-07-17T21:45:57.130913Z",
     "iopub.status.busy": "2021-07-17T21:45:57.130413Z",
     "iopub.status.idle": "2021-07-17T21:45:57.489242Z",
     "shell.execute_reply": "2021-07-17T21:45:57.488573Z",
     "shell.execute_reply.started": "2021-07-17T21:36:15.118803Z"
    },
    "papermill": {
     "duration": 0.443996,
     "end_time": "2021-07-17T21:45:57.489374",
     "exception": false,
     "start_time": "2021-07-17T21:45:57.045378",
     "status": "completed"
    },
    "tags": []
   },
   "outputs": [
    {
     "data": {
      "text/html": [
       "<div>\n",
       "<style scoped>\n",
       "    .dataframe tbody tr th:only-of-type {\n",
       "        vertical-align: middle;\n",
       "    }\n",
       "\n",
       "    .dataframe tbody tr th {\n",
       "        vertical-align: top;\n",
       "    }\n",
       "\n",
       "    .dataframe thead th {\n",
       "        text-align: right;\n",
       "    }\n",
       "</style>\n",
       "<table border=\"1\" class=\"dataframe\">\n",
       "  <thead>\n",
       "    <tr style=\"text-align: right;\">\n",
       "      <th></th>\n",
       "      <th>rank</th>\n",
       "      <th>title</th>\n",
       "      <th>total ratings</th>\n",
       "      <th>installs</th>\n",
       "      <th>average rating</th>\n",
       "      <th>growth (30 days)</th>\n",
       "      <th>growth (60 days)</th>\n",
       "      <th>price</th>\n",
       "      <th>category</th>\n",
       "      <th>5 star ratings</th>\n",
       "      <th>4 star ratings</th>\n",
       "      <th>3 star ratings</th>\n",
       "      <th>2 star ratings</th>\n",
       "      <th>1 star ratings</th>\n",
       "      <th>paid</th>\n",
       "    </tr>\n",
       "  </thead>\n",
       "  <tbody>\n",
       "    <tr>\n",
       "      <th>0</th>\n",
       "      <td>1</td>\n",
       "      <td>Garena Free Fire - The Cobra</td>\n",
       "      <td>80678661</td>\n",
       "      <td>500.0 M</td>\n",
       "      <td>4.33</td>\n",
       "      <td>2.9</td>\n",
       "      <td>7.9</td>\n",
       "      <td>0.0</td>\n",
       "      <td>GAME ACTION</td>\n",
       "      <td>61935712</td>\n",
       "      <td>4478738</td>\n",
       "      <td>2795172</td>\n",
       "      <td>1814999</td>\n",
       "      <td>9654037</td>\n",
       "      <td>False</td>\n",
       "    </tr>\n",
       "    <tr>\n",
       "      <th>1</th>\n",
       "      <td>2</td>\n",
       "      <td>PUBG MOBILE: Graffiti Prank</td>\n",
       "      <td>35971961</td>\n",
       "      <td>100.0 M</td>\n",
       "      <td>4.24</td>\n",
       "      <td>2.0</td>\n",
       "      <td>3.1</td>\n",
       "      <td>0.0</td>\n",
       "      <td>GAME ACTION</td>\n",
       "      <td>26670566</td>\n",
       "      <td>2109631</td>\n",
       "      <td>1352610</td>\n",
       "      <td>893674</td>\n",
       "      <td>4945478</td>\n",
       "      <td>False</td>\n",
       "    </tr>\n",
       "    <tr>\n",
       "      <th>2</th>\n",
       "      <td>3</td>\n",
       "      <td>Mobile Legends: Bang Bang</td>\n",
       "      <td>25836869</td>\n",
       "      <td>100.0 M</td>\n",
       "      <td>4.08</td>\n",
       "      <td>1.6</td>\n",
       "      <td>3.3</td>\n",
       "      <td>0.0</td>\n",
       "      <td>GAME ACTION</td>\n",
       "      <td>17850942</td>\n",
       "      <td>1796761</td>\n",
       "      <td>1066095</td>\n",
       "      <td>725429</td>\n",
       "      <td>4397640</td>\n",
       "      <td>False</td>\n",
       "    </tr>\n",
       "    <tr>\n",
       "      <th>3</th>\n",
       "      <td>4</td>\n",
       "      <td>Brawl Stars</td>\n",
       "      <td>17181659</td>\n",
       "      <td>100.0 M</td>\n",
       "      <td>4.27</td>\n",
       "      <td>4.1</td>\n",
       "      <td>6.6</td>\n",
       "      <td>0.0</td>\n",
       "      <td>GAME ACTION</td>\n",
       "      <td>12493668</td>\n",
       "      <td>1474319</td>\n",
       "      <td>741410</td>\n",
       "      <td>383478</td>\n",
       "      <td>2088781</td>\n",
       "      <td>False</td>\n",
       "    </tr>\n",
       "    <tr>\n",
       "      <th>4</th>\n",
       "      <td>5</td>\n",
       "      <td>Sniper 3D: Fun Free Online FPS Shooting Game</td>\n",
       "      <td>14237554</td>\n",
       "      <td>100.0 M</td>\n",
       "      <td>4.33</td>\n",
       "      <td>0.8</td>\n",
       "      <td>1.8</td>\n",
       "      <td>0.0</td>\n",
       "      <td>GAME ACTION</td>\n",
       "      <td>9657878</td>\n",
       "      <td>2124544</td>\n",
       "      <td>1034025</td>\n",
       "      <td>375159</td>\n",
       "      <td>1045945</td>\n",
       "      <td>False</td>\n",
       "    </tr>\n",
       "    <tr>\n",
       "      <th>...</th>\n",
       "      <td>...</td>\n",
       "      <td>...</td>\n",
       "      <td>...</td>\n",
       "      <td>...</td>\n",
       "      <td>...</td>\n",
       "      <td>...</td>\n",
       "      <td>...</td>\n",
       "      <td>...</td>\n",
       "      <td>...</td>\n",
       "      <td>...</td>\n",
       "      <td>...</td>\n",
       "      <td>...</td>\n",
       "      <td>...</td>\n",
       "      <td>...</td>\n",
       "      <td>...</td>\n",
       "    </tr>\n",
       "    <tr>\n",
       "      <th>1725</th>\n",
       "      <td>96</td>\n",
       "      <td>Piknik Słowo - Word Snack</td>\n",
       "      <td>122845</td>\n",
       "      <td>1.0 M</td>\n",
       "      <td>4.67</td>\n",
       "      <td>0.1</td>\n",
       "      <td>0.3</td>\n",
       "      <td>0.0</td>\n",
       "      <td>GAME WORD</td>\n",
       "      <td>96954</td>\n",
       "      <td>17233</td>\n",
       "      <td>5098</td>\n",
       "      <td>1249</td>\n",
       "      <td>2309</td>\n",
       "      <td>False</td>\n",
       "    </tr>\n",
       "    <tr>\n",
       "      <th>1726</th>\n",
       "      <td>97</td>\n",
       "      <td>Wordox – Free multiplayer word game</td>\n",
       "      <td>120476</td>\n",
       "      <td>1.0 M</td>\n",
       "      <td>4.21</td>\n",
       "      <td>0.0</td>\n",
       "      <td>0.1</td>\n",
       "      <td>0.0</td>\n",
       "      <td>GAME WORD</td>\n",
       "      <td>74010</td>\n",
       "      <td>21546</td>\n",
       "      <td>10648</td>\n",
       "      <td>4710</td>\n",
       "      <td>9560</td>\n",
       "      <td>False</td>\n",
       "    </tr>\n",
       "    <tr>\n",
       "      <th>1727</th>\n",
       "      <td>98</td>\n",
       "      <td>4 Fotos 1 Palavra</td>\n",
       "      <td>114852</td>\n",
       "      <td>5.0 M</td>\n",
       "      <td>4.52</td>\n",
       "      <td>0.3</td>\n",
       "      <td>0.6</td>\n",
       "      <td>0.0</td>\n",
       "      <td>GAME WORD</td>\n",
       "      <td>84688</td>\n",
       "      <td>16783</td>\n",
       "      <td>6619</td>\n",
       "      <td>1867</td>\n",
       "      <td>4892</td>\n",
       "      <td>False</td>\n",
       "    </tr>\n",
       "    <tr>\n",
       "      <th>1728</th>\n",
       "      <td>99</td>\n",
       "      <td>زوايا - لعبة ستحرك زوايا عقلك</td>\n",
       "      <td>110293</td>\n",
       "      <td>1.0 M</td>\n",
       "      <td>4.76</td>\n",
       "      <td>0.8</td>\n",
       "      <td>1.9</td>\n",
       "      <td>0.0</td>\n",
       "      <td>GAME WORD</td>\n",
       "      <td>99168</td>\n",
       "      <td>3528</td>\n",
       "      <td>3258</td>\n",
       "      <td>1059</td>\n",
       "      <td>3278</td>\n",
       "      <td>False</td>\n",
       "    </tr>\n",
       "    <tr>\n",
       "      <th>1729</th>\n",
       "      <td>100</td>\n",
       "      <td>Word Life - Connect crosswords puzzle</td>\n",
       "      <td>109809</td>\n",
       "      <td>5.0 M</td>\n",
       "      <td>4.38</td>\n",
       "      <td>6.9</td>\n",
       "      <td>14.2</td>\n",
       "      <td>0.0</td>\n",
       "      <td>GAME WORD</td>\n",
       "      <td>70647</td>\n",
       "      <td>22630</td>\n",
       "      <td>8794</td>\n",
       "      <td>2775</td>\n",
       "      <td>4961</td>\n",
       "      <td>False</td>\n",
       "    </tr>\n",
       "  </tbody>\n",
       "</table>\n",
       "<p>1730 rows × 15 columns</p>\n",
       "</div>"
      ],
      "text/plain": [
       "      rank                                         title  total ratings  \\\n",
       "0        1                  Garena Free Fire - The Cobra       80678661   \n",
       "1        2                   PUBG MOBILE: Graffiti Prank       35971961   \n",
       "2        3                     Mobile Legends: Bang Bang       25836869   \n",
       "3        4                                   Brawl Stars       17181659   \n",
       "4        5  Sniper 3D: Fun Free Online FPS Shooting Game       14237554   \n",
       "...    ...                                           ...            ...   \n",
       "1725    96                     Piknik Słowo - Word Snack         122845   \n",
       "1726    97           Wordox – Free multiplayer word game         120476   \n",
       "1727    98                             4 Fotos 1 Palavra         114852   \n",
       "1728    99                 زوايا - لعبة ستحرك زوايا عقلك         110293   \n",
       "1729   100         Word Life - Connect crosswords puzzle         109809   \n",
       "\n",
       "     installs  average rating  growth (30 days)  growth (60 days)  price  \\\n",
       "0     500.0 M            4.33               2.9               7.9    0.0   \n",
       "1     100.0 M            4.24               2.0               3.1    0.0   \n",
       "2     100.0 M            4.08               1.6               3.3    0.0   \n",
       "3     100.0 M            4.27               4.1               6.6    0.0   \n",
       "4     100.0 M            4.33               0.8               1.8    0.0   \n",
       "...       ...             ...               ...               ...    ...   \n",
       "1725    1.0 M            4.67               0.1               0.3    0.0   \n",
       "1726    1.0 M            4.21               0.0               0.1    0.0   \n",
       "1727    5.0 M            4.52               0.3               0.6    0.0   \n",
       "1728    1.0 M            4.76               0.8               1.9    0.0   \n",
       "1729    5.0 M            4.38               6.9              14.2    0.0   \n",
       "\n",
       "         category  5 star ratings  4 star ratings  3 star ratings  \\\n",
       "0     GAME ACTION        61935712         4478738         2795172   \n",
       "1     GAME ACTION        26670566         2109631         1352610   \n",
       "2     GAME ACTION        17850942         1796761         1066095   \n",
       "3     GAME ACTION        12493668         1474319          741410   \n",
       "4     GAME ACTION         9657878         2124544         1034025   \n",
       "...           ...             ...             ...             ...   \n",
       "1725    GAME WORD           96954           17233            5098   \n",
       "1726    GAME WORD           74010           21546           10648   \n",
       "1727    GAME WORD           84688           16783            6619   \n",
       "1728    GAME WORD           99168            3528            3258   \n",
       "1729    GAME WORD           70647           22630            8794   \n",
       "\n",
       "      2 star ratings  1 star ratings   paid  \n",
       "0            1814999         9654037  False  \n",
       "1             893674         4945478  False  \n",
       "2             725429         4397640  False  \n",
       "3             383478         2088781  False  \n",
       "4             375159         1045945  False  \n",
       "...              ...             ...    ...  \n",
       "1725            1249            2309  False  \n",
       "1726            4710            9560  False  \n",
       "1727            1867            4892  False  \n",
       "1728            1059            3278  False  \n",
       "1729            2775            4961  False  \n",
       "\n",
       "[1730 rows x 15 columns]"
      ]
     },
     "execution_count": 3,
     "metadata": {},
     "output_type": "execute_result"
    }
   ],
   "source": [
    "df = pd.read_csv('https://raw.githubusercontent.com/benvictoria17/DataVisualization/master/dataset/%20Top%20Games%20on%20Google%20Play%20Store/android-games.csv')\n",
    "df"
   ]
  },
  {
   "cell_type": "code",
   "execution_count": 4,
   "id": "bb5367e7",
   "metadata": {
    "execution": {
     "iopub.execute_input": "2021-07-17T21:45:57.642898Z",
     "iopub.status.busy": "2021-07-17T21:45:57.642123Z",
     "iopub.status.idle": "2021-07-17T21:45:57.645714Z",
     "shell.execute_reply": "2021-07-17T21:45:57.646203Z",
     "shell.execute_reply.started": "2021-07-17T21:36:16.228690Z"
    },
    "papermill": {
     "duration": 0.082524,
     "end_time": "2021-07-17T21:45:57.646343",
     "exception": false,
     "start_time": "2021-07-17T21:45:57.563819",
     "status": "completed"
    },
    "tags": []
   },
   "outputs": [
    {
     "data": {
      "text/plain": [
       "(1730, 15)"
      ]
     },
     "execution_count": 4,
     "metadata": {},
     "output_type": "execute_result"
    }
   ],
   "source": [
    "df.shape"
   ]
  },
  {
   "cell_type": "code",
   "execution_count": 5,
   "id": "befa95e7",
   "metadata": {
    "execution": {
     "iopub.execute_input": "2021-07-17T21:45:57.802665Z",
     "iopub.status.busy": "2021-07-17T21:45:57.801842Z",
     "iopub.status.idle": "2021-07-17T21:45:57.806631Z",
     "shell.execute_reply": "2021-07-17T21:45:57.805973Z",
     "shell.execute_reply.started": "2021-07-17T21:36:16.234851Z"
    },
    "papermill": {
     "duration": 0.086125,
     "end_time": "2021-07-17T21:45:57.806800",
     "exception": false,
     "start_time": "2021-07-17T21:45:57.720675",
     "status": "completed"
    },
    "tags": []
   },
   "outputs": [
    {
     "data": {
      "text/plain": [
       "Index(['rank', 'title', 'total ratings', 'installs', 'average rating',\n",
       "       'growth (30 days)', 'growth (60 days)', 'price', 'category',\n",
       "       '5 star ratings', '4 star ratings', '3 star ratings', '2 star ratings',\n",
       "       '1 star ratings', 'paid'],\n",
       "      dtype='object')"
      ]
     },
     "execution_count": 5,
     "metadata": {},
     "output_type": "execute_result"
    }
   ],
   "source": [
    "df.columns"
   ]
  },
  {
   "cell_type": "code",
   "execution_count": 6,
   "id": "f04b9733",
   "metadata": {
    "execution": {
     "iopub.execute_input": "2021-07-17T21:45:57.980036Z",
     "iopub.status.busy": "2021-07-17T21:45:57.979266Z",
     "iopub.status.idle": "2021-07-17T21:45:57.983491Z",
     "shell.execute_reply": "2021-07-17T21:45:57.982854Z",
     "shell.execute_reply.started": "2021-07-17T21:36:16.252684Z"
    },
    "papermill": {
     "duration": 0.100192,
     "end_time": "2021-07-17T21:45:57.983625",
     "exception": false,
     "start_time": "2021-07-17T21:45:57.883433",
     "status": "completed"
    },
    "tags": []
   },
   "outputs": [
    {
     "name": "stdout",
     "output_type": "stream",
     "text": [
      "<class 'pandas.core.frame.DataFrame'>\n",
      "RangeIndex: 1730 entries, 0 to 1729\n",
      "Data columns (total 15 columns):\n",
      " #   Column            Non-Null Count  Dtype  \n",
      "---  ------            --------------  -----  \n",
      " 0   rank              1730 non-null   int64  \n",
      " 1   title             1730 non-null   object \n",
      " 2   total ratings     1730 non-null   int64  \n",
      " 3   installs          1730 non-null   object \n",
      " 4   average rating    1730 non-null   float64\n",
      " 5   growth (30 days)  1730 non-null   float64\n",
      " 6   growth (60 days)  1730 non-null   float64\n",
      " 7   price             1730 non-null   float64\n",
      " 8   category          1730 non-null   object \n",
      " 9   5 star ratings    1730 non-null   int64  \n",
      " 10  4 star ratings    1730 non-null   int64  \n",
      " 11  3 star ratings    1730 non-null   int64  \n",
      " 12  2 star ratings    1730 non-null   int64  \n",
      " 13  1 star ratings    1730 non-null   int64  \n",
      " 14  paid              1730 non-null   bool   \n",
      "dtypes: bool(1), float64(4), int64(7), object(3)\n",
      "memory usage: 191.0+ KB\n"
     ]
    }
   ],
   "source": [
    "df.info()"
   ]
  },
  {
   "cell_type": "code",
   "execution_count": 7,
   "id": "71be3ee8",
   "metadata": {
    "execution": {
     "iopub.execute_input": "2021-07-17T21:45:58.144186Z",
     "iopub.status.busy": "2021-07-17T21:45:58.143480Z",
     "iopub.status.idle": "2021-07-17T21:45:58.146677Z",
     "shell.execute_reply": "2021-07-17T21:45:58.146071Z",
     "shell.execute_reply.started": "2021-07-17T21:36:16.281076Z"
    },
    "papermill": {
     "duration": 0.087519,
     "end_time": "2021-07-17T21:45:58.146812",
     "exception": false,
     "start_time": "2021-07-17T21:45:58.059293",
     "status": "completed"
    },
    "tags": []
   },
   "outputs": [
    {
     "data": {
      "text/plain": [
       "rank                0\n",
       "title               0\n",
       "total ratings       0\n",
       "installs            0\n",
       "average rating      0\n",
       "growth (30 days)    0\n",
       "growth (60 days)    0\n",
       "price               0\n",
       "category            0\n",
       "5 star ratings      0\n",
       "4 star ratings      0\n",
       "3 star ratings      0\n",
       "2 star ratings      0\n",
       "1 star ratings      0\n",
       "paid                0\n",
       "dtype: int64"
      ]
     },
     "execution_count": 7,
     "metadata": {},
     "output_type": "execute_result"
    }
   ],
   "source": [
    "df.isnull().sum()"
   ]
  },
  {
   "cell_type": "code",
   "execution_count": 8,
   "id": "0e0702cc",
   "metadata": {
    "execution": {
     "iopub.execute_input": "2021-07-17T21:45:58.307397Z",
     "iopub.status.busy": "2021-07-17T21:45:58.306577Z",
     "iopub.status.idle": "2021-07-17T21:45:58.311504Z",
     "shell.execute_reply": "2021-07-17T21:45:58.310992Z",
     "shell.execute_reply.started": "2021-07-17T21:36:16.301811Z"
    },
    "papermill": {
     "duration": 0.088401,
     "end_time": "2021-07-17T21:45:58.311644",
     "exception": false,
     "start_time": "2021-07-17T21:45:58.223243",
     "status": "completed"
    },
    "tags": []
   },
   "outputs": [
    {
     "data": {
      "text/plain": [
       "153496    3\n",
       "512540    3\n",
       "98416     3\n",
       "172214    3\n",
       "455618    3\n",
       "         ..\n",
       "867735    1\n",
       "349584    1\n",
       "310671    1\n",
       "673166    1\n",
       "319569    1\n",
       "Name: total ratings, Length: 1700, dtype: int64"
      ]
     },
     "execution_count": 8,
     "metadata": {},
     "output_type": "execute_result"
    }
   ],
   "source": [
    "df['total ratings'].value_counts()"
   ]
  },
  {
   "cell_type": "code",
   "execution_count": 9,
   "id": "2e61d192",
   "metadata": {
    "execution": {
     "iopub.execute_input": "2021-07-17T21:45:58.473674Z",
     "iopub.status.busy": "2021-07-17T21:45:58.473062Z",
     "iopub.status.idle": "2021-07-17T21:45:58.476254Z",
     "shell.execute_reply": "2021-07-17T21:45:58.475654Z",
     "shell.execute_reply.started": "2021-07-17T21:36:16.312544Z"
    },
    "papermill": {
     "duration": 0.088097,
     "end_time": "2021-07-17T21:45:58.476382",
     "exception": false,
     "start_time": "2021-07-17T21:45:58.388285",
     "status": "completed"
    },
    "tags": []
   },
   "outputs": [
    {
     "data": {
      "text/plain": [
       "Solitaire                                     32\n",
       "Word Search                                   11\n",
       "Spider Solitaire                               7\n",
       "Bubble Shooter                                 6\n",
       "Checkers                                       3\n",
       "                                              ..\n",
       "Guardian Tales                                 1\n",
       "Roll the Ball® - slide puzzle                  1\n",
       "Jellipop Match-Decorate your dream island！     1\n",
       "Manor Cafe                                     1\n",
       "Candy Crush Jelly Saga                         1\n",
       "Name: title, Length: 1672, dtype: int64"
      ]
     },
     "execution_count": 9,
     "metadata": {},
     "output_type": "execute_result"
    }
   ],
   "source": [
    "df['title'].value_counts()"
   ]
  },
  {
   "cell_type": "code",
   "execution_count": 10,
   "id": "cedf5c91",
   "metadata": {
    "execution": {
     "iopub.execute_input": "2021-07-17T21:45:58.644852Z",
     "iopub.status.busy": "2021-07-17T21:45:58.644259Z",
     "iopub.status.idle": "2021-07-17T21:45:58.664168Z",
     "shell.execute_reply": "2021-07-17T21:45:58.664727Z",
     "shell.execute_reply.started": "2021-07-17T21:36:16.327930Z"
    },
    "papermill": {
     "duration": 0.104773,
     "end_time": "2021-07-17T21:45:58.664913",
     "exception": false,
     "start_time": "2021-07-17T21:45:58.560140",
     "status": "completed"
    },
    "tags": []
   },
   "outputs": [
    {
     "data": {
      "text/plain": [
       "False    0.995954\n",
       "True     0.004046\n",
       "Name: paid, dtype: float64"
      ]
     },
     "execution_count": 10,
     "metadata": {},
     "output_type": "execute_result"
    }
   ],
   "source": [
    "df['paid'].value_counts(normalize=True)"
   ]
  },
  {
   "cell_type": "code",
   "execution_count": 11,
   "id": "3f63f0d8",
   "metadata": {
    "execution": {
     "iopub.execute_input": "2021-07-17T21:45:58.814265Z",
     "iopub.status.busy": "2021-07-17T21:45:58.813754Z",
     "iopub.status.idle": "2021-07-17T21:45:58.815996Z",
     "shell.execute_reply": "2021-07-17T21:45:58.816419Z",
     "shell.execute_reply.started": "2021-07-17T21:36:16.345560Z"
    },
    "papermill": {
     "duration": 0.068843,
     "end_time": "2021-07-17T21:45:58.816547",
     "exception": false,
     "start_time": "2021-07-17T21:45:58.747704",
     "status": "completed"
    },
    "tags": []
   },
   "outputs": [
    {
     "data": {
      "text/plain": [
       "Index(['rank', 'title', 'total ratings', 'installs', 'average rating',\n",
       "       'growth (30 days)', 'growth (60 days)', 'price', 'category',\n",
       "       '5 star ratings', '4 star ratings', '3 star ratings', '2 star ratings',\n",
       "       '1 star ratings', 'paid'],\n",
       "      dtype='object')"
      ]
     },
     "execution_count": 11,
     "metadata": {},
     "output_type": "execute_result"
    }
   ],
   "source": [
    "df.columns"
   ]
  },
  {
   "cell_type": "code",
   "execution_count": 12,
   "id": "7f51b147",
   "metadata": {
    "execution": {
     "iopub.execute_input": "2021-07-17T21:45:58.921452Z",
     "iopub.status.busy": "2021-07-17T21:45:58.921014Z",
     "iopub.status.idle": "2021-07-17T21:45:58.926135Z",
     "shell.execute_reply": "2021-07-17T21:45:58.926548Z",
     "shell.execute_reply.started": "2021-07-17T21:36:16.359493Z"
    },
    "papermill": {
     "duration": 0.058949,
     "end_time": "2021-07-17T21:45:58.926670",
     "exception": false,
     "start_time": "2021-07-17T21:45:58.867721",
     "status": "completed"
    },
    "tags": []
   },
   "outputs": [
    {
     "data": {
      "text/plain": [
       "17"
      ]
     },
     "execution_count": 12,
     "metadata": {},
     "output_type": "execute_result"
    }
   ],
   "source": [
    "df[\"category\"].nunique()"
   ]
  },
  {
   "cell_type": "code",
   "execution_count": 13,
   "id": "3b5d1889",
   "metadata": {
    "execution": {
     "iopub.execute_input": "2021-07-17T21:45:59.032209Z",
     "iopub.status.busy": "2021-07-17T21:45:59.031775Z",
     "iopub.status.idle": "2021-07-17T21:45:59.038301Z",
     "shell.execute_reply": "2021-07-17T21:45:59.037701Z",
     "shell.execute_reply.started": "2021-07-17T21:36:16.373808Z"
    },
    "papermill": {
     "duration": 0.060261,
     "end_time": "2021-07-17T21:45:59.038412",
     "exception": false,
     "start_time": "2021-07-17T21:45:58.978151",
     "status": "completed"
    },
    "tags": []
   },
   "outputs": [
    {
     "data": {
      "text/plain": [
       "Index(['rank', 'title', 'total ratings', 'installs', 'average rating',\n",
       "       'growth (30 days)', 'growth (60 days)', 'price', 'category',\n",
       "       '5 star ratings', '4 star ratings', '3 star ratings', '2 star ratings',\n",
       "       '1 star ratings', 'paid'],\n",
       "      dtype='object')"
      ]
     },
     "execution_count": 13,
     "metadata": {},
     "output_type": "execute_result"
    }
   ],
   "source": [
    "df.columns"
   ]
  },
  {
   "cell_type": "code",
   "execution_count": 14,
   "id": "b52de10c",
   "metadata": {
    "execution": {
     "iopub.execute_input": "2021-07-17T21:45:59.170253Z",
     "iopub.status.busy": "2021-07-17T21:45:59.169800Z",
     "iopub.status.idle": "2021-07-17T21:45:59.201851Z",
     "shell.execute_reply": "2021-07-17T21:45:59.201416Z",
     "shell.execute_reply.started": "2021-07-17T21:36:16.385100Z"
    },
    "papermill": {
     "duration": 0.08832,
     "end_time": "2021-07-17T21:45:59.201972",
     "exception": false,
     "start_time": "2021-07-17T21:45:59.113652",
     "status": "completed"
    },
    "tags": []
   },
   "outputs": [
    {
     "data": {
      "text/html": [
       "<div>\n",
       "<style scoped>\n",
       "    .dataframe tbody tr th:only-of-type {\n",
       "        vertical-align: middle;\n",
       "    }\n",
       "\n",
       "    .dataframe tbody tr th {\n",
       "        vertical-align: top;\n",
       "    }\n",
       "\n",
       "    .dataframe thead th {\n",
       "        text-align: right;\n",
       "    }\n",
       "</style>\n",
       "<table border=\"1\" class=\"dataframe\">\n",
       "  <thead>\n",
       "    <tr style=\"text-align: right;\">\n",
       "      <th></th>\n",
       "      <th>rank</th>\n",
       "      <th>total ratings</th>\n",
       "      <th>average rating</th>\n",
       "      <th>growth (30 days)</th>\n",
       "      <th>growth (60 days)</th>\n",
       "      <th>price</th>\n",
       "      <th>5 star ratings</th>\n",
       "      <th>4 star ratings</th>\n",
       "      <th>3 star ratings</th>\n",
       "      <th>2 star ratings</th>\n",
       "      <th>1 star ratings</th>\n",
       "    </tr>\n",
       "  </thead>\n",
       "  <tbody>\n",
       "    <tr>\n",
       "      <th>count</th>\n",
       "      <td>1730.000000</td>\n",
       "      <td>1.730000e+03</td>\n",
       "      <td>1730.000000</td>\n",
       "      <td>1730.000000</td>\n",
       "      <td>1730.000000</td>\n",
       "      <td>1730.000000</td>\n",
       "      <td>1.730000e+03</td>\n",
       "      <td>1.730000e+03</td>\n",
       "      <td>1.730000e+03</td>\n",
       "      <td>1.730000e+03</td>\n",
       "      <td>1.730000e+03</td>\n",
       "    </tr>\n",
       "    <tr>\n",
       "      <th>mean</th>\n",
       "      <td>50.475723</td>\n",
       "      <td>1.101182e+06</td>\n",
       "      <td>4.313410</td>\n",
       "      <td>193.167341</td>\n",
       "      <td>3.969249</td>\n",
       "      <td>0.012965</td>\n",
       "      <td>7.883837e+05</td>\n",
       "      <td>1.216466e+05</td>\n",
       "      <td>5.954986e+04</td>\n",
       "      <td>2.796247e+04</td>\n",
       "      <td>1.036364e+05</td>\n",
       "    </tr>\n",
       "    <tr>\n",
       "      <th>std</th>\n",
       "      <td>28.941630</td>\n",
       "      <td>3.311738e+06</td>\n",
       "      <td>0.253545</td>\n",
       "      <td>4775.617650</td>\n",
       "      <td>18.912904</td>\n",
       "      <td>0.243492</td>\n",
       "      <td>2.483061e+06</td>\n",
       "      <td>2.955701e+05</td>\n",
       "      <td>1.447400e+05</td>\n",
       "      <td>7.676625e+04</td>\n",
       "      <td>3.589869e+05</td>\n",
       "    </tr>\n",
       "    <tr>\n",
       "      <th>min</th>\n",
       "      <td>1.000000</td>\n",
       "      <td>3.823800e+04</td>\n",
       "      <td>3.090000</td>\n",
       "      <td>0.000000</td>\n",
       "      <td>0.000000</td>\n",
       "      <td>0.000000</td>\n",
       "      <td>2.189800e+04</td>\n",
       "      <td>2.441000e+03</td>\n",
       "      <td>7.070000e+02</td>\n",
       "      <td>2.880000e+02</td>\n",
       "      <td>5.270000e+02</td>\n",
       "    </tr>\n",
       "    <tr>\n",
       "      <th>25%</th>\n",
       "      <td>25.000000</td>\n",
       "      <td>1.879988e+05</td>\n",
       "      <td>4.180000</td>\n",
       "      <td>0.100000</td>\n",
       "      <td>0.300000</td>\n",
       "      <td>0.000000</td>\n",
       "      <td>1.358290e+05</td>\n",
       "      <td>2.180200e+04</td>\n",
       "      <td>1.027775e+04</td>\n",
       "      <td>4.529500e+03</td>\n",
       "      <td>1.356075e+04</td>\n",
       "    </tr>\n",
       "    <tr>\n",
       "      <th>50%</th>\n",
       "      <td>51.000000</td>\n",
       "      <td>4.576750e+05</td>\n",
       "      <td>4.330000</td>\n",
       "      <td>0.500000</td>\n",
       "      <td>1.000000</td>\n",
       "      <td>0.000000</td>\n",
       "      <td>3.109435e+05</td>\n",
       "      <td>5.464350e+04</td>\n",
       "      <td>2.665850e+04</td>\n",
       "      <td>1.133050e+04</td>\n",
       "      <td>3.569400e+04</td>\n",
       "    </tr>\n",
       "    <tr>\n",
       "      <th>75%</th>\n",
       "      <td>75.750000</td>\n",
       "      <td>9.443342e+05</td>\n",
       "      <td>4.490000</td>\n",
       "      <td>1.600000</td>\n",
       "      <td>3.300000</td>\n",
       "      <td>0.000000</td>\n",
       "      <td>6.511310e+05</td>\n",
       "      <td>1.095648e+05</td>\n",
       "      <td>5.581750e+04</td>\n",
       "      <td>2.526650e+04</td>\n",
       "      <td>8.632625e+04</td>\n",
       "    </tr>\n",
       "    <tr>\n",
       "      <th>max</th>\n",
       "      <td>100.000000</td>\n",
       "      <td>8.067866e+07</td>\n",
       "      <td>4.910000</td>\n",
       "      <td>140394.400000</td>\n",
       "      <td>605.100000</td>\n",
       "      <td>7.490000</td>\n",
       "      <td>6.193571e+07</td>\n",
       "      <td>5.397273e+06</td>\n",
       "      <td>2.795172e+06</td>\n",
       "      <td>1.814999e+06</td>\n",
       "      <td>9.654037e+06</td>\n",
       "    </tr>\n",
       "  </tbody>\n",
       "</table>\n",
       "</div>"
      ],
      "text/plain": [
       "              rank  total ratings  average rating  growth (30 days)  \\\n",
       "count  1730.000000   1.730000e+03     1730.000000       1730.000000   \n",
       "mean     50.475723   1.101182e+06        4.313410        193.167341   \n",
       "std      28.941630   3.311738e+06        0.253545       4775.617650   \n",
       "min       1.000000   3.823800e+04        3.090000          0.000000   \n",
       "25%      25.000000   1.879988e+05        4.180000          0.100000   \n",
       "50%      51.000000   4.576750e+05        4.330000          0.500000   \n",
       "75%      75.750000   9.443342e+05        4.490000          1.600000   \n",
       "max     100.000000   8.067866e+07        4.910000     140394.400000   \n",
       "\n",
       "       growth (60 days)        price  5 star ratings  4 star ratings  \\\n",
       "count       1730.000000  1730.000000    1.730000e+03    1.730000e+03   \n",
       "mean           3.969249     0.012965    7.883837e+05    1.216466e+05   \n",
       "std           18.912904     0.243492    2.483061e+06    2.955701e+05   \n",
       "min            0.000000     0.000000    2.189800e+04    2.441000e+03   \n",
       "25%            0.300000     0.000000    1.358290e+05    2.180200e+04   \n",
       "50%            1.000000     0.000000    3.109435e+05    5.464350e+04   \n",
       "75%            3.300000     0.000000    6.511310e+05    1.095648e+05   \n",
       "max          605.100000     7.490000    6.193571e+07    5.397273e+06   \n",
       "\n",
       "       3 star ratings  2 star ratings  1 star ratings  \n",
       "count    1.730000e+03    1.730000e+03    1.730000e+03  \n",
       "mean     5.954986e+04    2.796247e+04    1.036364e+05  \n",
       "std      1.447400e+05    7.676625e+04    3.589869e+05  \n",
       "min      7.070000e+02    2.880000e+02    5.270000e+02  \n",
       "25%      1.027775e+04    4.529500e+03    1.356075e+04  \n",
       "50%      2.665850e+04    1.133050e+04    3.569400e+04  \n",
       "75%      5.581750e+04    2.526650e+04    8.632625e+04  \n",
       "max      2.795172e+06    1.814999e+06    9.654037e+06  "
      ]
     },
     "execution_count": 14,
     "metadata": {},
     "output_type": "execute_result"
    }
   ],
   "source": [
    "df.describe()"
   ]
  },
  {
   "cell_type": "code",
   "execution_count": 15,
   "id": "8d2150b5",
   "metadata": {
    "execution": {
     "iopub.execute_input": "2021-07-17T21:45:59.315231Z",
     "iopub.status.busy": "2021-07-17T21:45:59.314555Z",
     "iopub.status.idle": "2021-07-17T21:45:59.331199Z",
     "shell.execute_reply": "2021-07-17T21:45:59.330753Z",
     "shell.execute_reply.started": "2021-07-17T21:36:16.441094Z"
    },
    "papermill": {
     "duration": 0.076456,
     "end_time": "2021-07-17T21:45:59.331310",
     "exception": false,
     "start_time": "2021-07-17T21:45:59.254854",
     "status": "completed"
    },
    "tags": []
   },
   "outputs": [
    {
     "data": {
      "text/html": [
       "<div>\n",
       "<style scoped>\n",
       "    .dataframe tbody tr th:only-of-type {\n",
       "        vertical-align: middle;\n",
       "    }\n",
       "\n",
       "    .dataframe tbody tr th {\n",
       "        vertical-align: top;\n",
       "    }\n",
       "\n",
       "    .dataframe thead th {\n",
       "        text-align: right;\n",
       "    }\n",
       "</style>\n",
       "<table border=\"1\" class=\"dataframe\">\n",
       "  <thead>\n",
       "    <tr style=\"text-align: right;\">\n",
       "      <th></th>\n",
       "      <th>rank</th>\n",
       "      <th>title</th>\n",
       "      <th>total ratings</th>\n",
       "      <th>installs</th>\n",
       "      <th>average rating</th>\n",
       "      <th>growth (30 days)</th>\n",
       "      <th>growth (60 days)</th>\n",
       "      <th>price</th>\n",
       "      <th>category</th>\n",
       "      <th>5 star ratings</th>\n",
       "      <th>4 star ratings</th>\n",
       "      <th>3 star ratings</th>\n",
       "      <th>2 star ratings</th>\n",
       "      <th>1 star ratings</th>\n",
       "      <th>paid</th>\n",
       "    </tr>\n",
       "  </thead>\n",
       "  <tbody>\n",
       "    <tr>\n",
       "      <th>124</th>\n",
       "      <td>25</td>\n",
       "      <td>The Walking Dead: Season Two</td>\n",
       "      <td>675179</td>\n",
       "      <td>10.0 M</td>\n",
       "      <td>4.46</td>\n",
       "      <td>0.1</td>\n",
       "      <td>0.3</td>\n",
       "      <td>0.00</td>\n",
       "      <td>GAME ADVENTURE</td>\n",
       "      <td>525957</td>\n",
       "      <td>54369</td>\n",
       "      <td>28324</td>\n",
       "      <td>14037</td>\n",
       "      <td>52489</td>\n",
       "      <td>False</td>\n",
       "    </tr>\n",
       "    <tr>\n",
       "      <th>121</th>\n",
       "      <td>22</td>\n",
       "      <td>Tiny Miner</td>\n",
       "      <td>753183</td>\n",
       "      <td>5.0 M</td>\n",
       "      <td>4.60</td>\n",
       "      <td>0.0</td>\n",
       "      <td>0.0</td>\n",
       "      <td>0.00</td>\n",
       "      <td>GAME ADVENTURE</td>\n",
       "      <td>584387</td>\n",
       "      <td>93065</td>\n",
       "      <td>41439</td>\n",
       "      <td>10187</td>\n",
       "      <td>24103</td>\n",
       "      <td>False</td>\n",
       "    </tr>\n",
       "    <tr>\n",
       "      <th>878</th>\n",
       "      <td>55</td>\n",
       "      <td>Drum set</td>\n",
       "      <td>97334</td>\n",
       "      <td>10.0 M</td>\n",
       "      <td>4.24</td>\n",
       "      <td>0.0</td>\n",
       "      <td>0.0</td>\n",
       "      <td>0.00</td>\n",
       "      <td>GAME MUSIC</td>\n",
       "      <td>64373</td>\n",
       "      <td>12251</td>\n",
       "      <td>8926</td>\n",
       "      <td>3554</td>\n",
       "      <td>8227</td>\n",
       "      <td>False</td>\n",
       "    </tr>\n",
       "    <tr>\n",
       "      <th>1381</th>\n",
       "      <td>58</td>\n",
       "      <td>Basketball Shoot</td>\n",
       "      <td>560065</td>\n",
       "      <td>10.0 M</td>\n",
       "      <td>4.25</td>\n",
       "      <td>0.0</td>\n",
       "      <td>0.0</td>\n",
       "      <td>0.00</td>\n",
       "      <td>GAME SPORTS</td>\n",
       "      <td>367291</td>\n",
       "      <td>81373</td>\n",
       "      <td>43804</td>\n",
       "      <td>18634</td>\n",
       "      <td>48961</td>\n",
       "      <td>False</td>\n",
       "    </tr>\n",
       "    <tr>\n",
       "      <th>477</th>\n",
       "      <td>64</td>\n",
       "      <td>Reigns</td>\n",
       "      <td>146504</td>\n",
       "      <td>500.0 k</td>\n",
       "      <td>4.58</td>\n",
       "      <td>0.1</td>\n",
       "      <td>0.2</td>\n",
       "      <td>2.99</td>\n",
       "      <td>GAME CARD</td>\n",
       "      <td>108627</td>\n",
       "      <td>25330</td>\n",
       "      <td>5696</td>\n",
       "      <td>2743</td>\n",
       "      <td>4105</td>\n",
       "      <td>True</td>\n",
       "    </tr>\n",
       "    <tr>\n",
       "      <th>1135</th>\n",
       "      <td>12</td>\n",
       "      <td>Hustle Castle: Medieval games in the kingdom</td>\n",
       "      <td>1414250</td>\n",
       "      <td>10.0 M</td>\n",
       "      <td>4.15</td>\n",
       "      <td>0.6</td>\n",
       "      <td>1.3</td>\n",
       "      <td>0.00</td>\n",
       "      <td>GAME ROLE PLAYING</td>\n",
       "      <td>949393</td>\n",
       "      <td>165921</td>\n",
       "      <td>58186</td>\n",
       "      <td>38884</td>\n",
       "      <td>201863</td>\n",
       "      <td>False</td>\n",
       "    </tr>\n",
       "    <tr>\n",
       "      <th>555</th>\n",
       "      <td>34</td>\n",
       "      <td>Tycoon Casino Free Slots: Vegas Slot Machine G...</td>\n",
       "      <td>326484</td>\n",
       "      <td>5.0 M</td>\n",
       "      <td>4.74</td>\n",
       "      <td>1.0</td>\n",
       "      <td>2.1</td>\n",
       "      <td>0.00</td>\n",
       "      <td>GAME CASINO</td>\n",
       "      <td>288491</td>\n",
       "      <td>16223</td>\n",
       "      <td>6933</td>\n",
       "      <td>3226</td>\n",
       "      <td>11608</td>\n",
       "      <td>False</td>\n",
       "    </tr>\n",
       "    <tr>\n",
       "      <th>1155</th>\n",
       "      <td>32</td>\n",
       "      <td>Mobile Legends: Adventure</td>\n",
       "      <td>606800</td>\n",
       "      <td>10.0 M</td>\n",
       "      <td>4.57</td>\n",
       "      <td>2.8</td>\n",
       "      <td>6.2</td>\n",
       "      <td>0.00</td>\n",
       "      <td>GAME ROLE PLAYING</td>\n",
       "      <td>482059</td>\n",
       "      <td>64562</td>\n",
       "      <td>19124</td>\n",
       "      <td>8204</td>\n",
       "      <td>32848</td>\n",
       "      <td>False</td>\n",
       "    </tr>\n",
       "    <tr>\n",
       "      <th>1141</th>\n",
       "      <td>18</td>\n",
       "      <td>세븐나이츠</td>\n",
       "      <td>940192</td>\n",
       "      <td>10.0 M</td>\n",
       "      <td>3.74</td>\n",
       "      <td>0.1</td>\n",
       "      <td>0.2</td>\n",
       "      <td>0.00</td>\n",
       "      <td>GAME ROLE PLAYING</td>\n",
       "      <td>530178</td>\n",
       "      <td>88429</td>\n",
       "      <td>76918</td>\n",
       "      <td>38609</td>\n",
       "      <td>206056</td>\n",
       "      <td>False</td>\n",
       "    </tr>\n",
       "    <tr>\n",
       "      <th>190</th>\n",
       "      <td>91</td>\n",
       "      <td>Super City (Superhero Sim)</td>\n",
       "      <td>186843</td>\n",
       "      <td>10.0 M</td>\n",
       "      <td>4.30</td>\n",
       "      <td>2.3</td>\n",
       "      <td>4.3</td>\n",
       "      <td>0.00</td>\n",
       "      <td>GAME ADVENTURE</td>\n",
       "      <td>133402</td>\n",
       "      <td>18770</td>\n",
       "      <td>10413</td>\n",
       "      <td>5673</td>\n",
       "      <td>18581</td>\n",
       "      <td>False</td>\n",
       "    </tr>\n",
       "  </tbody>\n",
       "</table>\n",
       "</div>"
      ],
      "text/plain": [
       "      rank                                              title  total ratings  \\\n",
       "124     25                       The Walking Dead: Season Two         675179   \n",
       "121     22                                         Tiny Miner         753183   \n",
       "878     55                                           Drum set          97334   \n",
       "1381    58                                   Basketball Shoot         560065   \n",
       "477     64                                             Reigns         146504   \n",
       "1135    12       Hustle Castle: Medieval games in the kingdom        1414250   \n",
       "555     34  Tycoon Casino Free Slots: Vegas Slot Machine G...         326484   \n",
       "1155    32                          Mobile Legends: Adventure         606800   \n",
       "1141    18                                              세븐나이츠         940192   \n",
       "190     91                         Super City (Superhero Sim)         186843   \n",
       "\n",
       "     installs  average rating  growth (30 days)  growth (60 days)  price  \\\n",
       "124    10.0 M            4.46               0.1               0.3   0.00   \n",
       "121     5.0 M            4.60               0.0               0.0   0.00   \n",
       "878    10.0 M            4.24               0.0               0.0   0.00   \n",
       "1381   10.0 M            4.25               0.0               0.0   0.00   \n",
       "477   500.0 k            4.58               0.1               0.2   2.99   \n",
       "1135   10.0 M            4.15               0.6               1.3   0.00   \n",
       "555     5.0 M            4.74               1.0               2.1   0.00   \n",
       "1155   10.0 M            4.57               2.8               6.2   0.00   \n",
       "1141   10.0 M            3.74               0.1               0.2   0.00   \n",
       "190    10.0 M            4.30               2.3               4.3   0.00   \n",
       "\n",
       "               category  5 star ratings  4 star ratings  3 star ratings  \\\n",
       "124      GAME ADVENTURE          525957           54369           28324   \n",
       "121      GAME ADVENTURE          584387           93065           41439   \n",
       "878          GAME MUSIC           64373           12251            8926   \n",
       "1381        GAME SPORTS          367291           81373           43804   \n",
       "477           GAME CARD          108627           25330            5696   \n",
       "1135  GAME ROLE PLAYING          949393          165921           58186   \n",
       "555         GAME CASINO          288491           16223            6933   \n",
       "1155  GAME ROLE PLAYING          482059           64562           19124   \n",
       "1141  GAME ROLE PLAYING          530178           88429           76918   \n",
       "190      GAME ADVENTURE          133402           18770           10413   \n",
       "\n",
       "      2 star ratings  1 star ratings   paid  \n",
       "124            14037           52489  False  \n",
       "121            10187           24103  False  \n",
       "878             3554            8227  False  \n",
       "1381           18634           48961  False  \n",
       "477             2743            4105   True  \n",
       "1135           38884          201863  False  \n",
       "555             3226           11608  False  \n",
       "1155            8204           32848  False  \n",
       "1141           38609          206056  False  \n",
       "190             5673           18581  False  "
      ]
     },
     "execution_count": 15,
     "metadata": {},
     "output_type": "execute_result"
    }
   ],
   "source": [
    "df.sample(10)"
   ]
  },
  {
   "cell_type": "code",
   "execution_count": 16,
   "id": "4b7194be",
   "metadata": {
    "execution": {
     "iopub.execute_input": "2021-07-17T21:45:59.442687Z",
     "iopub.status.busy": "2021-07-17T21:45:59.442064Z",
     "iopub.status.idle": "2021-07-17T21:45:59.450171Z",
     "shell.execute_reply": "2021-07-17T21:45:59.449584Z",
     "shell.execute_reply.started": "2021-07-17T21:36:16.470768Z"
    },
    "papermill": {
     "duration": 0.065269,
     "end_time": "2021-07-17T21:45:59.450301",
     "exception": false,
     "start_time": "2021-07-17T21:45:59.385032",
     "status": "completed"
    },
    "tags": []
   },
   "outputs": [
    {
     "data": {
      "text/plain": [
       "0       500.000.000\n",
       "1       100.000.000\n",
       "2       100.000.000\n",
       "3       100.000.000\n",
       "4       100.000.000\n",
       "           ...     \n",
       "1725      1.000.000\n",
       "1726      1.000.000\n",
       "1727      5.000.000\n",
       "1728      1.000.000\n",
       "1729      5.000.000\n",
       "Name: installs, Length: 1730, dtype: object"
      ]
     },
     "execution_count": 16,
     "metadata": {},
     "output_type": "execute_result"
    }
   ],
   "source": [
    "df['installs'] = df['installs'].str.replace( '0.M', '000.000').str.strip()\n",
    "df['installs']"
   ]
  },
  {
   "cell_type": "code",
   "execution_count": 17,
   "id": "c8849061",
   "metadata": {
    "execution": {
     "iopub.execute_input": "2021-07-17T21:45:59.617806Z",
     "iopub.status.busy": "2021-07-17T21:45:59.617225Z",
     "iopub.status.idle": "2021-07-17T21:45:59.626254Z",
     "shell.execute_reply": "2021-07-17T21:45:59.625726Z",
     "shell.execute_reply.started": "2021-07-17T21:36:16.488805Z"
    },
    "papermill": {
     "duration": 0.093303,
     "end_time": "2021-07-17T21:45:59.626375",
     "exception": false,
     "start_time": "2021-07-17T21:45:59.533072",
     "status": "completed"
    },
    "tags": []
   },
   "outputs": [
    {
     "data": {
      "text/plain": [
       "0       500.000.000\n",
       "1       100.000.000\n",
       "2       100.000.000\n",
       "3       100.000.000\n",
       "4       100.000.000\n",
       "           ...     \n",
       "1725      1.000.000\n",
       "1726      1.000.000\n",
       "1727      5.000.000\n",
       "1728      1.000.000\n",
       "1729      5.000.000\n",
       "Name: installs, Length: 1730, dtype: object"
      ]
     },
     "execution_count": 17,
     "metadata": {},
     "output_type": "execute_result"
    }
   ],
   "source": [
    "df['installs'] = df['installs'].str.replace( '0.k', '000').str.strip()\n",
    "df['installs']"
   ]
  },
  {
   "cell_type": "code",
   "execution_count": 18,
   "id": "7c749e0e",
   "metadata": {
    "execution": {
     "iopub.execute_input": "2021-07-17T21:45:59.796976Z",
     "iopub.status.busy": "2021-07-17T21:45:59.796327Z",
     "iopub.status.idle": "2021-07-17T21:45:59.800604Z",
     "shell.execute_reply": "2021-07-17T21:45:59.800222Z",
     "shell.execute_reply.started": "2021-07-17T21:36:16.509959Z"
    },
    "papermill": {
     "duration": 0.093274,
     "end_time": "2021-07-17T21:45:59.800722",
     "exception": false,
     "start_time": "2021-07-17T21:45:59.707448",
     "status": "completed"
    },
    "tags": []
   },
   "outputs": [
    {
     "data": {
      "text/plain": [
       "10.000.000      795\n",
       "50.000.000      266\n",
       "5.000.000       248\n",
       "100.000.000     203\n",
       "1.000.000       191\n",
       "500.000          13\n",
       "500.000.000      10\n",
       "100.000           2\n",
       "1000.000.000      2\n",
       "Name: installs, dtype: int64"
      ]
     },
     "execution_count": 18,
     "metadata": {},
     "output_type": "execute_result"
    }
   ],
   "source": [
    "df['installs'].value_counts()"
   ]
  },
  {
   "cell_type": "code",
   "execution_count": 19,
   "id": "3f1ef144",
   "metadata": {
    "execution": {
     "iopub.execute_input": "2021-07-17T21:45:59.910226Z",
     "iopub.status.busy": "2021-07-17T21:45:59.909603Z",
     "iopub.status.idle": "2021-07-17T21:45:59.923698Z",
     "shell.execute_reply": "2021-07-17T21:45:59.922955Z",
     "shell.execute_reply.started": "2021-07-17T21:36:16.525122Z"
    },
    "papermill": {
     "duration": 0.069611,
     "end_time": "2021-07-17T21:45:59.923823",
     "exception": false,
     "start_time": "2021-07-17T21:45:59.854212",
     "status": "completed"
    },
    "tags": []
   },
   "outputs": [
    {
     "data": {
      "text/plain": [
       "0       500.0\n",
       "1       100.0\n",
       "2       100.0\n",
       "3       100.0\n",
       "4       100.0\n",
       "        ...  \n",
       "1725      1.0\n",
       "1726      1.0\n",
       "1727      5.0\n",
       "1728      1.0\n",
       "1729      5.0\n",
       "Name: installation_in_million, Length: 1730, dtype: float64"
      ]
     },
     "execution_count": 19,
     "metadata": {},
     "output_type": "execute_result"
    }
   ],
   "source": [
    "df['installation_in_million'] = df['installs'].str.split(\".\").str.join('').astype('int')/1000000\n",
    "df['installation_in_million']"
   ]
  },
  {
   "cell_type": "code",
   "execution_count": 20,
   "id": "6386380b",
   "metadata": {
    "execution": {
     "iopub.execute_input": "2021-07-17T21:46:00.092414Z",
     "iopub.status.busy": "2021-07-17T21:46:00.091825Z",
     "iopub.status.idle": "2021-07-17T21:46:00.094046Z",
     "shell.execute_reply": "2021-07-17T21:46:00.094515Z",
     "shell.execute_reply.started": "2021-07-17T21:36:16.550536Z"
    },
    "papermill": {
     "duration": 0.089304,
     "end_time": "2021-07-17T21:46:00.094651",
     "exception": false,
     "start_time": "2021-07-17T21:46:00.005347",
     "status": "completed"
    },
    "tags": []
   },
   "outputs": [
    {
     "data": {
      "text/plain": [
       "10.0      795\n",
       "50.0      266\n",
       "5.0       248\n",
       "100.0     203\n",
       "1.0       191\n",
       "0.5        13\n",
       "500.0      10\n",
       "0.1         2\n",
       "1000.0      2\n",
       "Name: installation_in_million, dtype: int64"
      ]
     },
     "execution_count": 20,
     "metadata": {},
     "output_type": "execute_result"
    }
   ],
   "source": [
    "df['installation_in_million'].value_counts()"
   ]
  },
  {
   "cell_type": "code",
   "execution_count": 21,
   "id": "b9d976af",
   "metadata": {
    "execution": {
     "iopub.execute_input": "2021-07-17T21:46:00.260689Z",
     "iopub.status.busy": "2021-07-17T21:46:00.260120Z",
     "iopub.status.idle": "2021-07-17T21:46:00.278155Z",
     "shell.execute_reply": "2021-07-17T21:46:00.278708Z",
     "shell.execute_reply.started": "2021-07-17T21:36:16.567093Z"
    },
    "papermill": {
     "duration": 0.102434,
     "end_time": "2021-07-17T21:46:00.278849",
     "exception": false,
     "start_time": "2021-07-17T21:46:00.176415",
     "status": "completed"
    },
    "tags": []
   },
   "outputs": [
    {
     "data": {
      "text/html": [
       "<div>\n",
       "<style scoped>\n",
       "    .dataframe tbody tr th:only-of-type {\n",
       "        vertical-align: middle;\n",
       "    }\n",
       "\n",
       "    .dataframe tbody tr th {\n",
       "        vertical-align: top;\n",
       "    }\n",
       "\n",
       "    .dataframe thead th {\n",
       "        text-align: right;\n",
       "    }\n",
       "</style>\n",
       "<table border=\"1\" class=\"dataframe\">\n",
       "  <thead>\n",
       "    <tr style=\"text-align: right;\">\n",
       "      <th></th>\n",
       "      <th>rank</th>\n",
       "      <th>title</th>\n",
       "      <th>total ratings</th>\n",
       "      <th>installs</th>\n",
       "      <th>average rating</th>\n",
       "      <th>growth (30 days)</th>\n",
       "      <th>growth (60 days)</th>\n",
       "      <th>price</th>\n",
       "      <th>category</th>\n",
       "      <th>5 star ratings</th>\n",
       "      <th>4 star ratings</th>\n",
       "      <th>3 star ratings</th>\n",
       "      <th>2 star ratings</th>\n",
       "      <th>1 star ratings</th>\n",
       "      <th>paid</th>\n",
       "      <th>installation_in_million</th>\n",
       "    </tr>\n",
       "  </thead>\n",
       "  <tbody>\n",
       "    <tr>\n",
       "      <th>1072</th>\n",
       "      <td>49</td>\n",
       "      <td>Beach Buggy Blitz</td>\n",
       "      <td>665358</td>\n",
       "      <td>50.000.000</td>\n",
       "      <td>4.29</td>\n",
       "      <td>0.1</td>\n",
       "      <td>0.3</td>\n",
       "      <td>0.0</td>\n",
       "      <td>GAME RACING</td>\n",
       "      <td>472497</td>\n",
       "      <td>66341</td>\n",
       "      <td>40741</td>\n",
       "      <td>16780</td>\n",
       "      <td>68997</td>\n",
       "      <td>False</td>\n",
       "      <td>50.0</td>\n",
       "    </tr>\n",
       "    <tr>\n",
       "      <th>992</th>\n",
       "      <td>69</td>\n",
       "      <td>Escape the Mansion</td>\n",
       "      <td>528440</td>\n",
       "      <td>5.000.000</td>\n",
       "      <td>4.52</td>\n",
       "      <td>0.1</td>\n",
       "      <td>0.2</td>\n",
       "      <td>0.0</td>\n",
       "      <td>GAME PUZZLE</td>\n",
       "      <td>374105</td>\n",
       "      <td>91654</td>\n",
       "      <td>41359</td>\n",
       "      <td>8185</td>\n",
       "      <td>13133</td>\n",
       "      <td>False</td>\n",
       "      <td>5.0</td>\n",
       "    </tr>\n",
       "    <tr>\n",
       "      <th>1015</th>\n",
       "      <td>92</td>\n",
       "      <td>PixWords™</td>\n",
       "      <td>440362</td>\n",
       "      <td>10.000.000</td>\n",
       "      <td>4.67</td>\n",
       "      <td>0.1</td>\n",
       "      <td>0.1</td>\n",
       "      <td>0.0</td>\n",
       "      <td>GAME PUZZLE</td>\n",
       "      <td>354726</td>\n",
       "      <td>53694</td>\n",
       "      <td>15750</td>\n",
       "      <td>4794</td>\n",
       "      <td>11396</td>\n",
       "      <td>False</td>\n",
       "      <td>10.0</td>\n",
       "    </tr>\n",
       "    <tr>\n",
       "      <th>1088</th>\n",
       "      <td>65</td>\n",
       "      <td>Drive for Speed: Simulator</td>\n",
       "      <td>460722</td>\n",
       "      <td>100.000.000</td>\n",
       "      <td>4.30</td>\n",
       "      <td>1.7</td>\n",
       "      <td>4.1</td>\n",
       "      <td>0.0</td>\n",
       "      <td>GAME RACING</td>\n",
       "      <td>336699</td>\n",
       "      <td>37855</td>\n",
       "      <td>23690</td>\n",
       "      <td>13194</td>\n",
       "      <td>49280</td>\n",
       "      <td>False</td>\n",
       "      <td>100.0</td>\n",
       "    </tr>\n",
       "    <tr>\n",
       "      <th>1158</th>\n",
       "      <td>35</td>\n",
       "      <td>My Candy Love - Episode / Otome game</td>\n",
       "      <td>592516</td>\n",
       "      <td>10.000.000</td>\n",
       "      <td>4.10</td>\n",
       "      <td>0.2</td>\n",
       "      <td>0.5</td>\n",
       "      <td>0.0</td>\n",
       "      <td>GAME ROLE PLAYING</td>\n",
       "      <td>368968</td>\n",
       "      <td>82889</td>\n",
       "      <td>44593</td>\n",
       "      <td>22132</td>\n",
       "      <td>73931</td>\n",
       "      <td>False</td>\n",
       "      <td>10.0</td>\n",
       "    </tr>\n",
       "    <tr>\n",
       "      <th>588</th>\n",
       "      <td>67</td>\n",
       "      <td>Bingo by Alisa - Free Live Multiplayer Bingo G...</td>\n",
       "      <td>154097</td>\n",
       "      <td>1.000.000</td>\n",
       "      <td>4.61</td>\n",
       "      <td>0.0</td>\n",
       "      <td>0.0</td>\n",
       "      <td>0.0</td>\n",
       "      <td>GAME CASINO</td>\n",
       "      <td>119094</td>\n",
       "      <td>21254</td>\n",
       "      <td>7367</td>\n",
       "      <td>2113</td>\n",
       "      <td>4266</td>\n",
       "      <td>False</td>\n",
       "      <td>1.0</td>\n",
       "    </tr>\n",
       "    <tr>\n",
       "      <th>918</th>\n",
       "      <td>95</td>\n",
       "      <td>Piano</td>\n",
       "      <td>40875</td>\n",
       "      <td>5.000.000</td>\n",
       "      <td>3.92</td>\n",
       "      <td>0.0</td>\n",
       "      <td>0.1</td>\n",
       "      <td>0.0</td>\n",
       "      <td>GAME MUSIC</td>\n",
       "      <td>24854</td>\n",
       "      <td>3647</td>\n",
       "      <td>3467</td>\n",
       "      <td>1878</td>\n",
       "      <td>7025</td>\n",
       "      <td>False</td>\n",
       "      <td>5.0</td>\n",
       "    </tr>\n",
       "    <tr>\n",
       "      <th>256</th>\n",
       "      <td>57</td>\n",
       "      <td>Stickman Party: 1 2 3 4 Player Games Free</td>\n",
       "      <td>828194</td>\n",
       "      <td>50.000.000</td>\n",
       "      <td>4.41</td>\n",
       "      <td>8.0</td>\n",
       "      <td>18.1</td>\n",
       "      <td>0.0</td>\n",
       "      <td>GAME ARCADE</td>\n",
       "      <td>641630</td>\n",
       "      <td>57704</td>\n",
       "      <td>32799</td>\n",
       "      <td>20129</td>\n",
       "      <td>75929</td>\n",
       "      <td>False</td>\n",
       "      <td>50.0</td>\n",
       "    </tr>\n",
       "    <tr>\n",
       "      <th>1582</th>\n",
       "      <td>59</td>\n",
       "      <td>Pluck It: hairs and emotions</td>\n",
       "      <td>84299</td>\n",
       "      <td>500.000</td>\n",
       "      <td>4.69</td>\n",
       "      <td>1.7</td>\n",
       "      <td>5.3</td>\n",
       "      <td>0.0</td>\n",
       "      <td>GAME TRIVIA</td>\n",
       "      <td>71606</td>\n",
       "      <td>6753</td>\n",
       "      <td>1810</td>\n",
       "      <td>934</td>\n",
       "      <td>3192</td>\n",
       "      <td>False</td>\n",
       "      <td>0.5</td>\n",
       "    </tr>\n",
       "    <tr>\n",
       "      <th>828</th>\n",
       "      <td>5</td>\n",
       "      <td>Just Dance Now</td>\n",
       "      <td>1083655</td>\n",
       "      <td>10.000.000</td>\n",
       "      <td>3.89</td>\n",
       "      <td>0.5</td>\n",
       "      <td>1.2</td>\n",
       "      <td>0.0</td>\n",
       "      <td>GAME MUSIC</td>\n",
       "      <td>636480</td>\n",
       "      <td>121675</td>\n",
       "      <td>81459</td>\n",
       "      <td>52725</td>\n",
       "      <td>191313</td>\n",
       "      <td>False</td>\n",
       "      <td>10.0</td>\n",
       "    </tr>\n",
       "  </tbody>\n",
       "</table>\n",
       "</div>"
      ],
      "text/plain": [
       "      rank                                              title  total ratings  \\\n",
       "1072    49                                  Beach Buggy Blitz         665358   \n",
       "992     69                                 Escape the Mansion         528440   \n",
       "1015    92                                          PixWords™         440362   \n",
       "1088    65                         Drive for Speed: Simulator         460722   \n",
       "1158    35               My Candy Love - Episode / Otome game         592516   \n",
       "588     67  Bingo by Alisa - Free Live Multiplayer Bingo G...         154097   \n",
       "918     95                                              Piano          40875   \n",
       "256     57          Stickman Party: 1 2 3 4 Player Games Free         828194   \n",
       "1582    59                       Pluck It: hairs and emotions          84299   \n",
       "828      5                                     Just Dance Now        1083655   \n",
       "\n",
       "         installs  average rating  growth (30 days)  growth (60 days)  price  \\\n",
       "1072   50.000.000            4.29               0.1               0.3    0.0   \n",
       "992     5.000.000            4.52               0.1               0.2    0.0   \n",
       "1015   10.000.000            4.67               0.1               0.1    0.0   \n",
       "1088  100.000.000            4.30               1.7               4.1    0.0   \n",
       "1158   10.000.000            4.10               0.2               0.5    0.0   \n",
       "588     1.000.000            4.61               0.0               0.0    0.0   \n",
       "918     5.000.000            3.92               0.0               0.1    0.0   \n",
       "256    50.000.000            4.41               8.0              18.1    0.0   \n",
       "1582      500.000            4.69               1.7               5.3    0.0   \n",
       "828    10.000.000            3.89               0.5               1.2    0.0   \n",
       "\n",
       "               category  5 star ratings  4 star ratings  3 star ratings  \\\n",
       "1072        GAME RACING          472497           66341           40741   \n",
       "992         GAME PUZZLE          374105           91654           41359   \n",
       "1015        GAME PUZZLE          354726           53694           15750   \n",
       "1088        GAME RACING          336699           37855           23690   \n",
       "1158  GAME ROLE PLAYING          368968           82889           44593   \n",
       "588         GAME CASINO          119094           21254            7367   \n",
       "918          GAME MUSIC           24854            3647            3467   \n",
       "256         GAME ARCADE          641630           57704           32799   \n",
       "1582        GAME TRIVIA           71606            6753            1810   \n",
       "828          GAME MUSIC          636480          121675           81459   \n",
       "\n",
       "      2 star ratings  1 star ratings   paid  installation_in_million  \n",
       "1072           16780           68997  False                     50.0  \n",
       "992             8185           13133  False                      5.0  \n",
       "1015            4794           11396  False                     10.0  \n",
       "1088           13194           49280  False                    100.0  \n",
       "1158           22132           73931  False                     10.0  \n",
       "588             2113            4266  False                      1.0  \n",
       "918             1878            7025  False                      5.0  \n",
       "256            20129           75929  False                     50.0  \n",
       "1582             934            3192  False                      0.5  \n",
       "828            52725          191313  False                     10.0  "
      ]
     },
     "execution_count": 21,
     "metadata": {},
     "output_type": "execute_result"
    }
   ],
   "source": [
    "df.sample(10)"
   ]
  },
  {
   "cell_type": "code",
   "execution_count": 22,
   "id": "33f867d2",
   "metadata": {
    "execution": {
     "iopub.execute_input": "2021-07-17T21:46:00.446970Z",
     "iopub.status.busy": "2021-07-17T21:46:00.446380Z",
     "iopub.status.idle": "2021-07-17T21:46:00.460013Z",
     "shell.execute_reply": "2021-07-17T21:46:00.459430Z",
     "shell.execute_reply.started": "2021-07-17T21:36:16.600795Z"
    },
    "papermill": {
     "duration": 0.098197,
     "end_time": "2021-07-17T21:46:00.460122",
     "exception": false,
     "start_time": "2021-07-17T21:46:00.361925",
     "status": "completed"
    },
    "tags": []
   },
   "outputs": [
    {
     "name": "stdout",
     "output_type": "stream",
     "text": [
      "<class 'pandas.core.frame.DataFrame'>\n",
      "RangeIndex: 1730 entries, 0 to 1729\n",
      "Data columns (total 16 columns):\n",
      " #   Column                   Non-Null Count  Dtype  \n",
      "---  ------                   --------------  -----  \n",
      " 0   rank                     1730 non-null   int64  \n",
      " 1   title                    1730 non-null   object \n",
      " 2   total ratings            1730 non-null   int64  \n",
      " 3   installs                 1730 non-null   object \n",
      " 4   average rating           1730 non-null   float64\n",
      " 5   growth (30 days)         1730 non-null   float64\n",
      " 6   growth (60 days)         1730 non-null   float64\n",
      " 7   price                    1730 non-null   float64\n",
      " 8   category                 1730 non-null   object \n",
      " 9   5 star ratings           1730 non-null   int64  \n",
      " 10  4 star ratings           1730 non-null   int64  \n",
      " 11  3 star ratings           1730 non-null   int64  \n",
      " 12  2 star ratings           1730 non-null   int64  \n",
      " 13  1 star ratings           1730 non-null   int64  \n",
      " 14  paid                     1730 non-null   bool   \n",
      " 15  installation_in_million  1730 non-null   float64\n",
      "dtypes: bool(1), float64(5), int64(7), object(3)\n",
      "memory usage: 204.5+ KB\n"
     ]
    }
   ],
   "source": [
    "df.info()"
   ]
  },
  {
   "cell_type": "code",
   "execution_count": 23,
   "id": "d953d5ed",
   "metadata": {
    "execution": {
     "iopub.execute_input": "2021-07-17T21:46:00.633935Z",
     "iopub.status.busy": "2021-07-17T21:46:00.633350Z",
     "iopub.status.idle": "2021-07-17T21:46:00.650871Z",
     "shell.execute_reply": "2021-07-17T21:46:00.651391Z",
     "shell.execute_reply.started": "2021-07-17T21:36:16.624493Z"
    },
    "papermill": {
     "duration": 0.108924,
     "end_time": "2021-07-17T21:46:00.651527",
     "exception": false,
     "start_time": "2021-07-17T21:46:00.542603",
     "status": "completed"
    },
    "tags": []
   },
   "outputs": [
    {
     "data": {
      "text/html": [
       "<div>\n",
       "<style scoped>\n",
       "    .dataframe tbody tr th:only-of-type {\n",
       "        vertical-align: middle;\n",
       "    }\n",
       "\n",
       "    .dataframe tbody tr th {\n",
       "        vertical-align: top;\n",
       "    }\n",
       "\n",
       "    .dataframe thead th {\n",
       "        text-align: right;\n",
       "    }\n",
       "</style>\n",
       "<table border=\"1\" class=\"dataframe\">\n",
       "  <thead>\n",
       "    <tr style=\"text-align: right;\">\n",
       "      <th></th>\n",
       "      <th>rank</th>\n",
       "      <th>title</th>\n",
       "      <th>total ratings</th>\n",
       "      <th>average rating</th>\n",
       "      <th>growth (30 days)</th>\n",
       "      <th>growth (60 days)</th>\n",
       "      <th>price</th>\n",
       "      <th>category</th>\n",
       "      <th>5 star ratings</th>\n",
       "      <th>4 star ratings</th>\n",
       "      <th>3 star ratings</th>\n",
       "      <th>2 star ratings</th>\n",
       "      <th>1 star ratings</th>\n",
       "      <th>paid</th>\n",
       "      <th>installation_in_million</th>\n",
       "    </tr>\n",
       "  </thead>\n",
       "  <tbody>\n",
       "    <tr>\n",
       "      <th>0</th>\n",
       "      <td>1</td>\n",
       "      <td>Garena Free Fire - The Cobra</td>\n",
       "      <td>80678661</td>\n",
       "      <td>4.33</td>\n",
       "      <td>2.9</td>\n",
       "      <td>7.9</td>\n",
       "      <td>0.0</td>\n",
       "      <td>GAME ACTION</td>\n",
       "      <td>61935712</td>\n",
       "      <td>4478738</td>\n",
       "      <td>2795172</td>\n",
       "      <td>1814999</td>\n",
       "      <td>9654037</td>\n",
       "      <td>False</td>\n",
       "      <td>500.0</td>\n",
       "    </tr>\n",
       "    <tr>\n",
       "      <th>1</th>\n",
       "      <td>2</td>\n",
       "      <td>PUBG MOBILE: Graffiti Prank</td>\n",
       "      <td>35971961</td>\n",
       "      <td>4.24</td>\n",
       "      <td>2.0</td>\n",
       "      <td>3.1</td>\n",
       "      <td>0.0</td>\n",
       "      <td>GAME ACTION</td>\n",
       "      <td>26670566</td>\n",
       "      <td>2109631</td>\n",
       "      <td>1352610</td>\n",
       "      <td>893674</td>\n",
       "      <td>4945478</td>\n",
       "      <td>False</td>\n",
       "      <td>100.0</td>\n",
       "    </tr>\n",
       "    <tr>\n",
       "      <th>2</th>\n",
       "      <td>3</td>\n",
       "      <td>Mobile Legends: Bang Bang</td>\n",
       "      <td>25836869</td>\n",
       "      <td>4.08</td>\n",
       "      <td>1.6</td>\n",
       "      <td>3.3</td>\n",
       "      <td>0.0</td>\n",
       "      <td>GAME ACTION</td>\n",
       "      <td>17850942</td>\n",
       "      <td>1796761</td>\n",
       "      <td>1066095</td>\n",
       "      <td>725429</td>\n",
       "      <td>4397640</td>\n",
       "      <td>False</td>\n",
       "      <td>100.0</td>\n",
       "    </tr>\n",
       "    <tr>\n",
       "      <th>3</th>\n",
       "      <td>4</td>\n",
       "      <td>Brawl Stars</td>\n",
       "      <td>17181659</td>\n",
       "      <td>4.27</td>\n",
       "      <td>4.1</td>\n",
       "      <td>6.6</td>\n",
       "      <td>0.0</td>\n",
       "      <td>GAME ACTION</td>\n",
       "      <td>12493668</td>\n",
       "      <td>1474319</td>\n",
       "      <td>741410</td>\n",
       "      <td>383478</td>\n",
       "      <td>2088781</td>\n",
       "      <td>False</td>\n",
       "      <td>100.0</td>\n",
       "    </tr>\n",
       "    <tr>\n",
       "      <th>4</th>\n",
       "      <td>5</td>\n",
       "      <td>Sniper 3D: Fun Free Online FPS Shooting Game</td>\n",
       "      <td>14237554</td>\n",
       "      <td>4.33</td>\n",
       "      <td>0.8</td>\n",
       "      <td>1.8</td>\n",
       "      <td>0.0</td>\n",
       "      <td>GAME ACTION</td>\n",
       "      <td>9657878</td>\n",
       "      <td>2124544</td>\n",
       "      <td>1034025</td>\n",
       "      <td>375159</td>\n",
       "      <td>1045945</td>\n",
       "      <td>False</td>\n",
       "      <td>100.0</td>\n",
       "    </tr>\n",
       "    <tr>\n",
       "      <th>...</th>\n",
       "      <td>...</td>\n",
       "      <td>...</td>\n",
       "      <td>...</td>\n",
       "      <td>...</td>\n",
       "      <td>...</td>\n",
       "      <td>...</td>\n",
       "      <td>...</td>\n",
       "      <td>...</td>\n",
       "      <td>...</td>\n",
       "      <td>...</td>\n",
       "      <td>...</td>\n",
       "      <td>...</td>\n",
       "      <td>...</td>\n",
       "      <td>...</td>\n",
       "      <td>...</td>\n",
       "    </tr>\n",
       "    <tr>\n",
       "      <th>1725</th>\n",
       "      <td>96</td>\n",
       "      <td>Piknik Słowo - Word Snack</td>\n",
       "      <td>122845</td>\n",
       "      <td>4.67</td>\n",
       "      <td>0.1</td>\n",
       "      <td>0.3</td>\n",
       "      <td>0.0</td>\n",
       "      <td>GAME WORD</td>\n",
       "      <td>96954</td>\n",
       "      <td>17233</td>\n",
       "      <td>5098</td>\n",
       "      <td>1249</td>\n",
       "      <td>2309</td>\n",
       "      <td>False</td>\n",
       "      <td>1.0</td>\n",
       "    </tr>\n",
       "    <tr>\n",
       "      <th>1726</th>\n",
       "      <td>97</td>\n",
       "      <td>Wordox – Free multiplayer word game</td>\n",
       "      <td>120476</td>\n",
       "      <td>4.21</td>\n",
       "      <td>0.0</td>\n",
       "      <td>0.1</td>\n",
       "      <td>0.0</td>\n",
       "      <td>GAME WORD</td>\n",
       "      <td>74010</td>\n",
       "      <td>21546</td>\n",
       "      <td>10648</td>\n",
       "      <td>4710</td>\n",
       "      <td>9560</td>\n",
       "      <td>False</td>\n",
       "      <td>1.0</td>\n",
       "    </tr>\n",
       "    <tr>\n",
       "      <th>1727</th>\n",
       "      <td>98</td>\n",
       "      <td>4 Fotos 1 Palavra</td>\n",
       "      <td>114852</td>\n",
       "      <td>4.52</td>\n",
       "      <td>0.3</td>\n",
       "      <td>0.6</td>\n",
       "      <td>0.0</td>\n",
       "      <td>GAME WORD</td>\n",
       "      <td>84688</td>\n",
       "      <td>16783</td>\n",
       "      <td>6619</td>\n",
       "      <td>1867</td>\n",
       "      <td>4892</td>\n",
       "      <td>False</td>\n",
       "      <td>5.0</td>\n",
       "    </tr>\n",
       "    <tr>\n",
       "      <th>1728</th>\n",
       "      <td>99</td>\n",
       "      <td>زوايا - لعبة ستحرك زوايا عقلك</td>\n",
       "      <td>110293</td>\n",
       "      <td>4.76</td>\n",
       "      <td>0.8</td>\n",
       "      <td>1.9</td>\n",
       "      <td>0.0</td>\n",
       "      <td>GAME WORD</td>\n",
       "      <td>99168</td>\n",
       "      <td>3528</td>\n",
       "      <td>3258</td>\n",
       "      <td>1059</td>\n",
       "      <td>3278</td>\n",
       "      <td>False</td>\n",
       "      <td>1.0</td>\n",
       "    </tr>\n",
       "    <tr>\n",
       "      <th>1729</th>\n",
       "      <td>100</td>\n",
       "      <td>Word Life - Connect crosswords puzzle</td>\n",
       "      <td>109809</td>\n",
       "      <td>4.38</td>\n",
       "      <td>6.9</td>\n",
       "      <td>14.2</td>\n",
       "      <td>0.0</td>\n",
       "      <td>GAME WORD</td>\n",
       "      <td>70647</td>\n",
       "      <td>22630</td>\n",
       "      <td>8794</td>\n",
       "      <td>2775</td>\n",
       "      <td>4961</td>\n",
       "      <td>False</td>\n",
       "      <td>5.0</td>\n",
       "    </tr>\n",
       "  </tbody>\n",
       "</table>\n",
       "<p>1730 rows × 15 columns</p>\n",
       "</div>"
      ],
      "text/plain": [
       "      rank                                         title  total ratings  \\\n",
       "0        1                  Garena Free Fire - The Cobra       80678661   \n",
       "1        2                   PUBG MOBILE: Graffiti Prank       35971961   \n",
       "2        3                     Mobile Legends: Bang Bang       25836869   \n",
       "3        4                                   Brawl Stars       17181659   \n",
       "4        5  Sniper 3D: Fun Free Online FPS Shooting Game       14237554   \n",
       "...    ...                                           ...            ...   \n",
       "1725    96                     Piknik Słowo - Word Snack         122845   \n",
       "1726    97           Wordox – Free multiplayer word game         120476   \n",
       "1727    98                             4 Fotos 1 Palavra         114852   \n",
       "1728    99                 زوايا - لعبة ستحرك زوايا عقلك         110293   \n",
       "1729   100         Word Life - Connect crosswords puzzle         109809   \n",
       "\n",
       "      average rating  growth (30 days)  growth (60 days)  price     category  \\\n",
       "0               4.33               2.9               7.9    0.0  GAME ACTION   \n",
       "1               4.24               2.0               3.1    0.0  GAME ACTION   \n",
       "2               4.08               1.6               3.3    0.0  GAME ACTION   \n",
       "3               4.27               4.1               6.6    0.0  GAME ACTION   \n",
       "4               4.33               0.8               1.8    0.0  GAME ACTION   \n",
       "...              ...               ...               ...    ...          ...   \n",
       "1725            4.67               0.1               0.3    0.0    GAME WORD   \n",
       "1726            4.21               0.0               0.1    0.0    GAME WORD   \n",
       "1727            4.52               0.3               0.6    0.0    GAME WORD   \n",
       "1728            4.76               0.8               1.9    0.0    GAME WORD   \n",
       "1729            4.38               6.9              14.2    0.0    GAME WORD   \n",
       "\n",
       "      5 star ratings  4 star ratings  3 star ratings  2 star ratings  \\\n",
       "0           61935712         4478738         2795172         1814999   \n",
       "1           26670566         2109631         1352610          893674   \n",
       "2           17850942         1796761         1066095          725429   \n",
       "3           12493668         1474319          741410          383478   \n",
       "4            9657878         2124544         1034025          375159   \n",
       "...              ...             ...             ...             ...   \n",
       "1725           96954           17233            5098            1249   \n",
       "1726           74010           21546           10648            4710   \n",
       "1727           84688           16783            6619            1867   \n",
       "1728           99168            3528            3258            1059   \n",
       "1729           70647           22630            8794            2775   \n",
       "\n",
       "      1 star ratings   paid  installation_in_million  \n",
       "0            9654037  False                    500.0  \n",
       "1            4945478  False                    100.0  \n",
       "2            4397640  False                    100.0  \n",
       "3            2088781  False                    100.0  \n",
       "4            1045945  False                    100.0  \n",
       "...              ...    ...                      ...  \n",
       "1725            2309  False                      1.0  \n",
       "1726            9560  False                      1.0  \n",
       "1727            4892  False                      5.0  \n",
       "1728            3278  False                      1.0  \n",
       "1729            4961  False                      5.0  \n",
       "\n",
       "[1730 rows x 15 columns]"
      ]
     },
     "execution_count": 23,
     "metadata": {},
     "output_type": "execute_result"
    }
   ],
   "source": [
    "df = df.drop(\"installs\", axis=1)\n",
    "df"
   ]
  },
  {
   "cell_type": "code",
   "execution_count": 24,
   "id": "94b6d728",
   "metadata": {
    "execution": {
     "iopub.execute_input": "2021-07-17T21:46:00.827645Z",
     "iopub.status.busy": "2021-07-17T21:46:00.827016Z",
     "iopub.status.idle": "2021-07-17T21:46:00.829412Z",
     "shell.execute_reply": "2021-07-17T21:46:00.829941Z",
     "shell.execute_reply.started": "2021-07-17T21:36:16.662336Z"
    },
    "papermill": {
     "duration": 0.092451,
     "end_time": "2021-07-17T21:46:00.830101",
     "exception": false,
     "start_time": "2021-07-17T21:46:00.737650",
     "status": "completed"
    },
    "tags": []
   },
   "outputs": [
    {
     "data": {
      "text/plain": [
       "17"
      ]
     },
     "execution_count": 24,
     "metadata": {},
     "output_type": "execute_result"
    }
   ],
   "source": [
    "df.category.nunique()"
   ]
  },
  {
   "cell_type": "code",
   "execution_count": 25,
   "id": "dc95c320",
   "metadata": {
    "execution": {
     "iopub.execute_input": "2021-07-17T21:46:01.001899Z",
     "iopub.status.busy": "2021-07-17T21:46:01.001309Z",
     "iopub.status.idle": "2021-07-17T21:46:01.007510Z",
     "shell.execute_reply": "2021-07-17T21:46:01.008063Z",
     "shell.execute_reply.started": "2021-07-17T21:36:16.675932Z"
    },
    "papermill": {
     "duration": 0.093264,
     "end_time": "2021-07-17T21:46:01.008232",
     "exception": false,
     "start_time": "2021-07-17T21:46:00.914968",
     "status": "completed"
    },
    "tags": []
   },
   "outputs": [
    {
     "data": {
      "text/plain": [
       "GAME CARD            122\n",
       "GAME WORD            106\n",
       "GAME CASUAL          102\n",
       "GAME ADVENTURE       100\n",
       "GAME CASINO          100\n",
       "GAME STRATEGY        100\n",
       "GAME PUZZLE          100\n",
       "GAME MUSIC           100\n",
       "GAME SPORTS          100\n",
       "GAME ARCADE          100\n",
       "GAME TRIVIA          100\n",
       "GAME BOARD           100\n",
       "GAME EDUCATIONAL     100\n",
       "GAME SIMULATION      100\n",
       "GAME RACING          100\n",
       "GAME ROLE PLAYING    100\n",
       "GAME ACTION          100\n",
       "Name: category, dtype: int64"
      ]
     },
     "execution_count": 25,
     "metadata": {},
     "output_type": "execute_result"
    }
   ],
   "source": [
    "df.category.value_counts()"
   ]
  },
  {
   "cell_type": "code",
   "execution_count": 26,
   "id": "0f1f23b7",
   "metadata": {
    "execution": {
     "iopub.execute_input": "2021-07-17T21:46:01.192838Z",
     "iopub.status.busy": "2021-07-17T21:46:01.187383Z",
     "iopub.status.idle": "2021-07-17T21:46:01.197511Z",
     "shell.execute_reply": "2021-07-17T21:46:01.196997Z",
     "shell.execute_reply.started": "2021-07-17T21:36:16.689467Z"
    },
    "papermill": {
     "duration": 0.103345,
     "end_time": "2021-07-17T21:46:01.197641",
     "exception": false,
     "start_time": "2021-07-17T21:46:01.094296",
     "status": "completed"
    },
    "tags": []
   },
   "outputs": [
    {
     "data": {
      "text/html": [
       "<div>\n",
       "<style scoped>\n",
       "    .dataframe tbody tr th:only-of-type {\n",
       "        vertical-align: middle;\n",
       "    }\n",
       "\n",
       "    .dataframe tbody tr th {\n",
       "        vertical-align: top;\n",
       "    }\n",
       "\n",
       "    .dataframe thead th {\n",
       "        text-align: right;\n",
       "    }\n",
       "</style>\n",
       "<table border=\"1\" class=\"dataframe\">\n",
       "  <thead>\n",
       "    <tr style=\"text-align: right;\">\n",
       "      <th></th>\n",
       "      <th>average rating</th>\n",
       "    </tr>\n",
       "    <tr>\n",
       "      <th>category</th>\n",
       "      <th></th>\n",
       "    </tr>\n",
       "  </thead>\n",
       "  <tbody>\n",
       "    <tr>\n",
       "      <th>GAME WORD</th>\n",
       "      <td>4.443585</td>\n",
       "    </tr>\n",
       "    <tr>\n",
       "      <th>GAME CASINO</th>\n",
       "      <td>4.437800</td>\n",
       "    </tr>\n",
       "    <tr>\n",
       "      <th>GAME CARD</th>\n",
       "      <td>4.421066</td>\n",
       "    </tr>\n",
       "    <tr>\n",
       "      <th>GAME PUZZLE</th>\n",
       "      <td>4.394200</td>\n",
       "    </tr>\n",
       "    <tr>\n",
       "      <th>GAME BOARD</th>\n",
       "      <td>4.347100</td>\n",
       "    </tr>\n",
       "    <tr>\n",
       "      <th>GAME CASUAL</th>\n",
       "      <td>4.335196</td>\n",
       "    </tr>\n",
       "    <tr>\n",
       "      <th>GAME SIMULATION</th>\n",
       "      <td>4.318200</td>\n",
       "    </tr>\n",
       "    <tr>\n",
       "      <th>GAME RACING</th>\n",
       "      <td>4.312000</td>\n",
       "    </tr>\n",
       "    <tr>\n",
       "      <th>GAME ARCADE</th>\n",
       "      <td>4.294900</td>\n",
       "    </tr>\n",
       "    <tr>\n",
       "      <th>GAME ROLE PLAYING</th>\n",
       "      <td>4.276000</td>\n",
       "    </tr>\n",
       "    <tr>\n",
       "      <th>GAME STRATEGY</th>\n",
       "      <td>4.265000</td>\n",
       "    </tr>\n",
       "    <tr>\n",
       "      <th>GAME ADVENTURE</th>\n",
       "      <td>4.264200</td>\n",
       "    </tr>\n",
       "    <tr>\n",
       "      <th>GAME SPORTS</th>\n",
       "      <td>4.261100</td>\n",
       "    </tr>\n",
       "    <tr>\n",
       "      <th>GAME EDUCATIONAL</th>\n",
       "      <td>4.253600</td>\n",
       "    </tr>\n",
       "    <tr>\n",
       "      <th>GAME ACTION</th>\n",
       "      <td>4.246100</td>\n",
       "    </tr>\n",
       "    <tr>\n",
       "      <th>GAME TRIVIA</th>\n",
       "      <td>4.245700</td>\n",
       "    </tr>\n",
       "    <tr>\n",
       "      <th>GAME MUSIC</th>\n",
       "      <td>4.180300</td>\n",
       "    </tr>\n",
       "  </tbody>\n",
       "</table>\n",
       "</div>"
      ],
      "text/plain": [
       "                   average rating\n",
       "category                         \n",
       "GAME WORD                4.443585\n",
       "GAME CASINO              4.437800\n",
       "GAME CARD                4.421066\n",
       "GAME PUZZLE              4.394200\n",
       "GAME BOARD               4.347100\n",
       "GAME CASUAL              4.335196\n",
       "GAME SIMULATION          4.318200\n",
       "GAME RACING              4.312000\n",
       "GAME ARCADE              4.294900\n",
       "GAME ROLE PLAYING        4.276000\n",
       "GAME STRATEGY            4.265000\n",
       "GAME ADVENTURE           4.264200\n",
       "GAME SPORTS              4.261100\n",
       "GAME EDUCATIONAL         4.253600\n",
       "GAME ACTION              4.246100\n",
       "GAME TRIVIA              4.245700\n",
       "GAME MUSIC               4.180300"
      ]
     },
     "execution_count": 26,
     "metadata": {},
     "output_type": "execute_result"
    }
   ],
   "source": [
    "df.groupby('category')[['average rating']].mean().sort_values(by = 'average rating', ascending = False)"
   ]
  },
  {
   "cell_type": "code",
   "execution_count": 27,
   "id": "7f98201e",
   "metadata": {
    "execution": {
     "iopub.execute_input": "2021-07-17T21:46:01.378602Z",
     "iopub.status.busy": "2021-07-17T21:46:01.378144Z",
     "iopub.status.idle": "2021-07-17T21:46:01.382766Z",
     "shell.execute_reply": "2021-07-17T21:46:01.382349Z",
     "shell.execute_reply.started": "2021-07-17T21:36:16.708805Z"
    },
    "papermill": {
     "duration": 0.099412,
     "end_time": "2021-07-17T21:46:01.382901",
     "exception": false,
     "start_time": "2021-07-17T21:46:01.283489",
     "status": "completed"
    },
    "tags": []
   },
   "outputs": [
    {
     "data": {
      "text/html": [
       "<div>\n",
       "<style scoped>\n",
       "    .dataframe tbody tr th:only-of-type {\n",
       "        vertical-align: middle;\n",
       "    }\n",
       "\n",
       "    .dataframe tbody tr th {\n",
       "        vertical-align: top;\n",
       "    }\n",
       "\n",
       "    .dataframe thead th {\n",
       "        text-align: right;\n",
       "    }\n",
       "</style>\n",
       "<table border=\"1\" class=\"dataframe\">\n",
       "  <thead>\n",
       "    <tr style=\"text-align: right;\">\n",
       "      <th></th>\n",
       "      <th>growth (30 days)</th>\n",
       "    </tr>\n",
       "    <tr>\n",
       "      <th>category</th>\n",
       "      <th></th>\n",
       "    </tr>\n",
       "  </thead>\n",
       "  <tbody>\n",
       "    <tr>\n",
       "      <th>GAME ACTION</th>\n",
       "      <td>1452.539000</td>\n",
       "    </tr>\n",
       "    <tr>\n",
       "      <th>GAME WORD</th>\n",
       "      <td>1325.504717</td>\n",
       "    </tr>\n",
       "    <tr>\n",
       "      <th>GAME BOARD</th>\n",
       "      <td>157.328000</td>\n",
       "    </tr>\n",
       "    <tr>\n",
       "      <th>GAME EDUCATIONAL</th>\n",
       "      <td>99.569000</td>\n",
       "    </tr>\n",
       "    <tr>\n",
       "      <th>GAME RACING</th>\n",
       "      <td>58.092000</td>\n",
       "    </tr>\n",
       "  </tbody>\n",
       "</table>\n",
       "</div>"
      ],
      "text/plain": [
       "                  growth (30 days)\n",
       "category                          \n",
       "GAME ACTION            1452.539000\n",
       "GAME WORD              1325.504717\n",
       "GAME BOARD              157.328000\n",
       "GAME EDUCATIONAL         99.569000\n",
       "GAME RACING              58.092000"
      ]
     },
     "execution_count": 27,
     "metadata": {},
     "output_type": "execute_result"
    }
   ],
   "source": [
    "growth_30 = df.groupby('category')[['growth (30 days)']].mean().sort_values(by = 'growth (30 days)', ascending = False)\n",
    "growth_30.head()"
   ]
  },
  {
   "cell_type": "code",
   "execution_count": 28,
   "id": "9ef1b443",
   "metadata": {
    "execution": {
     "iopub.execute_input": "2021-07-17T21:46:01.511465Z",
     "iopub.status.busy": "2021-07-17T21:46:01.505805Z",
     "iopub.status.idle": "2021-07-17T21:46:01.515915Z",
     "shell.execute_reply": "2021-07-17T21:46:01.515312Z",
     "shell.execute_reply.started": "2021-07-17T21:36:16.729736Z"
    },
    "papermill": {
     "duration": 0.076085,
     "end_time": "2021-07-17T21:46:01.516038",
     "exception": false,
     "start_time": "2021-07-17T21:46:01.439953",
     "status": "completed"
    },
    "tags": []
   },
   "outputs": [
    {
     "data": {
      "text/html": [
       "<div>\n",
       "<style scoped>\n",
       "    .dataframe tbody tr th:only-of-type {\n",
       "        vertical-align: middle;\n",
       "    }\n",
       "\n",
       "    .dataframe tbody tr th {\n",
       "        vertical-align: top;\n",
       "    }\n",
       "\n",
       "    .dataframe thead th {\n",
       "        text-align: right;\n",
       "    }\n",
       "</style>\n",
       "<table border=\"1\" class=\"dataframe\">\n",
       "  <thead>\n",
       "    <tr style=\"text-align: right;\">\n",
       "      <th></th>\n",
       "      <th>growth (60 days)</th>\n",
       "    </tr>\n",
       "    <tr>\n",
       "      <th>category</th>\n",
       "      <th></th>\n",
       "    </tr>\n",
       "  </thead>\n",
       "  <tbody>\n",
       "    <tr>\n",
       "      <th>GAME EDUCATIONAL</th>\n",
       "      <td>13.636</td>\n",
       "    </tr>\n",
       "    <tr>\n",
       "      <th>GAME MUSIC</th>\n",
       "      <td>7.006</td>\n",
       "    </tr>\n",
       "    <tr>\n",
       "      <th>GAME TRIVIA</th>\n",
       "      <td>6.443</td>\n",
       "    </tr>\n",
       "    <tr>\n",
       "      <th>GAME BOARD</th>\n",
       "      <td>4.501</td>\n",
       "    </tr>\n",
       "    <tr>\n",
       "      <th>GAME ADVENTURE</th>\n",
       "      <td>4.305</td>\n",
       "    </tr>\n",
       "  </tbody>\n",
       "</table>\n",
       "</div>"
      ],
      "text/plain": [
       "                  growth (60 days)\n",
       "category                          \n",
       "GAME EDUCATIONAL            13.636\n",
       "GAME MUSIC                   7.006\n",
       "GAME TRIVIA                  6.443\n",
       "GAME BOARD                   4.501\n",
       "GAME ADVENTURE               4.305"
      ]
     },
     "execution_count": 28,
     "metadata": {},
     "output_type": "execute_result"
    }
   ],
   "source": [
    "growth_60 = df.groupby('category')[['growth (60 days)']].mean().sort_values(by = 'growth (60 days)', ascending = False)\n",
    "growth_60.head()"
   ]
  },
  {
   "cell_type": "code",
   "execution_count": 29,
   "id": "43329133",
   "metadata": {
    "execution": {
     "iopub.execute_input": "2021-07-17T21:46:01.698864Z",
     "iopub.status.busy": "2021-07-17T21:46:01.698095Z",
     "iopub.status.idle": "2021-07-17T21:46:01.701837Z",
     "shell.execute_reply": "2021-07-17T21:46:01.701240Z",
     "shell.execute_reply.started": "2021-07-17T21:36:16.745283Z"
    },
    "papermill": {
     "duration": 0.097426,
     "end_time": "2021-07-17T21:46:01.701983",
     "exception": false,
     "start_time": "2021-07-17T21:46:01.604557",
     "status": "completed"
    },
    "tags": []
   },
   "outputs": [
    {
     "data": {
      "text/plain": [
       "0.00    1723\n",
       "1.99       3\n",
       "0.99       1\n",
       "2.99       1\n",
       "7.49       1\n",
       "4.99       1\n",
       "Name: price, dtype: int64"
      ]
     },
     "execution_count": 29,
     "metadata": {},
     "output_type": "execute_result"
    }
   ],
   "source": [
    "df.price.value_counts() "
   ]
  },
  {
   "cell_type": "code",
   "execution_count": 30,
   "id": "e82faa05",
   "metadata": {
    "execution": {
     "iopub.execute_input": "2021-07-17T21:46:01.886903Z",
     "iopub.status.busy": "2021-07-17T21:46:01.886401Z",
     "iopub.status.idle": "2021-07-17T21:46:01.890100Z",
     "shell.execute_reply": "2021-07-17T21:46:01.889582Z",
     "shell.execute_reply.started": "2021-07-17T21:36:16.754979Z"
    },
    "papermill": {
     "duration": 0.098472,
     "end_time": "2021-07-17T21:46:01.890205",
     "exception": false,
     "start_time": "2021-07-17T21:46:01.791733",
     "status": "completed"
    },
    "tags": []
   },
   "outputs": [
    {
     "data": {
      "text/plain": [
       "False    1723\n",
       "True        7\n",
       "Name: paid, dtype: int64"
      ]
     },
     "execution_count": 30,
     "metadata": {},
     "output_type": "execute_result"
    }
   ],
   "source": [
    "df.paid.value_counts() "
   ]
  },
  {
   "cell_type": "code",
   "execution_count": 31,
   "id": "a4477b6b",
   "metadata": {
    "execution": {
     "iopub.execute_input": "2021-07-17T21:46:02.013234Z",
     "iopub.status.busy": "2021-07-17T21:46:02.012502Z",
     "iopub.status.idle": "2021-07-17T21:46:02.016758Z",
     "shell.execute_reply": "2021-07-17T21:46:02.016304Z",
     "shell.execute_reply.started": "2021-07-17T21:36:16.768609Z"
    },
    "papermill": {
     "duration": 0.06922,
     "end_time": "2021-07-17T21:46:02.016862",
     "exception": false,
     "start_time": "2021-07-17T21:46:01.947642",
     "status": "completed"
    },
    "tags": []
   },
   "outputs": [
    {
     "data": {
      "text/plain": [
       "False    0.995954\n",
       "True     0.004046\n",
       "Name: paid, dtype: float64"
      ]
     },
     "execution_count": 31,
     "metadata": {},
     "output_type": "execute_result"
    }
   ],
   "source": [
    "df.paid.value_counts(normalize=True) "
   ]
  },
  {
   "cell_type": "code",
   "execution_count": 32,
   "id": "4f778bb2",
   "metadata": {
    "execution": {
     "iopub.execute_input": "2021-07-17T21:46:02.149316Z",
     "iopub.status.busy": "2021-07-17T21:46:02.142781Z",
     "iopub.status.idle": "2021-07-17T21:46:02.154121Z",
     "shell.execute_reply": "2021-07-17T21:46:02.153663Z",
     "shell.execute_reply.started": "2021-07-17T21:36:16.781985Z"
    },
    "papermill": {
     "duration": 0.078631,
     "end_time": "2021-07-17T21:46:02.154235",
     "exception": false,
     "start_time": "2021-07-17T21:46:02.075604",
     "status": "completed"
    },
    "tags": []
   },
   "outputs": [
    {
     "data": {
      "text/html": [
       "<div>\n",
       "<style scoped>\n",
       "    .dataframe tbody tr th:only-of-type {\n",
       "        vertical-align: middle;\n",
       "    }\n",
       "\n",
       "    .dataframe tbody tr th {\n",
       "        vertical-align: top;\n",
       "    }\n",
       "\n",
       "    .dataframe thead th {\n",
       "        text-align: right;\n",
       "    }\n",
       "</style>\n",
       "<table border=\"1\" class=\"dataframe\">\n",
       "  <thead>\n",
       "    <tr style=\"text-align: right;\">\n",
       "      <th></th>\n",
       "      <th>rank</th>\n",
       "      <th>title</th>\n",
       "      <th>total ratings</th>\n",
       "      <th>average rating</th>\n",
       "      <th>growth (30 days)</th>\n",
       "      <th>growth (60 days)</th>\n",
       "      <th>price</th>\n",
       "      <th>category</th>\n",
       "      <th>5 star ratings</th>\n",
       "      <th>4 star ratings</th>\n",
       "      <th>3 star ratings</th>\n",
       "      <th>2 star ratings</th>\n",
       "      <th>1 star ratings</th>\n",
       "      <th>paid</th>\n",
       "      <th>installation_in_million</th>\n",
       "    </tr>\n",
       "  </thead>\n",
       "  <tbody>\n",
       "    <tr>\n",
       "      <th>0</th>\n",
       "      <td>1</td>\n",
       "      <td>Garena Free Fire - The Cobra</td>\n",
       "      <td>80678661</td>\n",
       "      <td>4.33</td>\n",
       "      <td>2.9</td>\n",
       "      <td>7.9</td>\n",
       "      <td>0.0</td>\n",
       "      <td>GAME ACTION</td>\n",
       "      <td>61935712</td>\n",
       "      <td>4478738</td>\n",
       "      <td>2795172</td>\n",
       "      <td>1814999</td>\n",
       "      <td>9654037</td>\n",
       "      <td>False</td>\n",
       "      <td>500.0</td>\n",
       "    </tr>\n",
       "    <tr>\n",
       "      <th>1</th>\n",
       "      <td>2</td>\n",
       "      <td>PUBG MOBILE: Graffiti Prank</td>\n",
       "      <td>35971961</td>\n",
       "      <td>4.24</td>\n",
       "      <td>2.0</td>\n",
       "      <td>3.1</td>\n",
       "      <td>0.0</td>\n",
       "      <td>GAME ACTION</td>\n",
       "      <td>26670566</td>\n",
       "      <td>2109631</td>\n",
       "      <td>1352610</td>\n",
       "      <td>893674</td>\n",
       "      <td>4945478</td>\n",
       "      <td>False</td>\n",
       "      <td>100.0</td>\n",
       "    </tr>\n",
       "    <tr>\n",
       "      <th>2</th>\n",
       "      <td>3</td>\n",
       "      <td>Mobile Legends: Bang Bang</td>\n",
       "      <td>25836869</td>\n",
       "      <td>4.08</td>\n",
       "      <td>1.6</td>\n",
       "      <td>3.3</td>\n",
       "      <td>0.0</td>\n",
       "      <td>GAME ACTION</td>\n",
       "      <td>17850942</td>\n",
       "      <td>1796761</td>\n",
       "      <td>1066095</td>\n",
       "      <td>725429</td>\n",
       "      <td>4397640</td>\n",
       "      <td>False</td>\n",
       "      <td>100.0</td>\n",
       "    </tr>\n",
       "    <tr>\n",
       "      <th>3</th>\n",
       "      <td>4</td>\n",
       "      <td>Brawl Stars</td>\n",
       "      <td>17181659</td>\n",
       "      <td>4.27</td>\n",
       "      <td>4.1</td>\n",
       "      <td>6.6</td>\n",
       "      <td>0.0</td>\n",
       "      <td>GAME ACTION</td>\n",
       "      <td>12493668</td>\n",
       "      <td>1474319</td>\n",
       "      <td>741410</td>\n",
       "      <td>383478</td>\n",
       "      <td>2088781</td>\n",
       "      <td>False</td>\n",
       "      <td>100.0</td>\n",
       "    </tr>\n",
       "    <tr>\n",
       "      <th>4</th>\n",
       "      <td>5</td>\n",
       "      <td>Sniper 3D: Fun Free Online FPS Shooting Game</td>\n",
       "      <td>14237554</td>\n",
       "      <td>4.33</td>\n",
       "      <td>0.8</td>\n",
       "      <td>1.8</td>\n",
       "      <td>0.0</td>\n",
       "      <td>GAME ACTION</td>\n",
       "      <td>9657878</td>\n",
       "      <td>2124544</td>\n",
       "      <td>1034025</td>\n",
       "      <td>375159</td>\n",
       "      <td>1045945</td>\n",
       "      <td>False</td>\n",
       "      <td>100.0</td>\n",
       "    </tr>\n",
       "  </tbody>\n",
       "</table>\n",
       "</div>"
      ],
      "text/plain": [
       "   rank                                         title  total ratings  \\\n",
       "0     1                  Garena Free Fire - The Cobra       80678661   \n",
       "1     2                   PUBG MOBILE: Graffiti Prank       35971961   \n",
       "2     3                     Mobile Legends: Bang Bang       25836869   \n",
       "3     4                                   Brawl Stars       17181659   \n",
       "4     5  Sniper 3D: Fun Free Online FPS Shooting Game       14237554   \n",
       "\n",
       "   average rating  growth (30 days)  growth (60 days)  price     category  \\\n",
       "0            4.33               2.9               7.9    0.0  GAME ACTION   \n",
       "1            4.24               2.0               3.1    0.0  GAME ACTION   \n",
       "2            4.08               1.6               3.3    0.0  GAME ACTION   \n",
       "3            4.27               4.1               6.6    0.0  GAME ACTION   \n",
       "4            4.33               0.8               1.8    0.0  GAME ACTION   \n",
       "\n",
       "   5 star ratings  4 star ratings  3 star ratings  2 star ratings  \\\n",
       "0        61935712         4478738         2795172         1814999   \n",
       "1        26670566         2109631         1352610          893674   \n",
       "2        17850942         1796761         1066095          725429   \n",
       "3        12493668         1474319          741410          383478   \n",
       "4         9657878         2124544         1034025          375159   \n",
       "\n",
       "   1 star ratings   paid  installation_in_million  \n",
       "0         9654037  False                    500.0  \n",
       "1         4945478  False                    100.0  \n",
       "2         4397640  False                    100.0  \n",
       "3         2088781  False                    100.0  \n",
       "4         1045945  False                    100.0  "
      ]
     },
     "execution_count": 32,
     "metadata": {},
     "output_type": "execute_result"
    }
   ],
   "source": [
    "df.head()"
   ]
  },
  {
   "cell_type": "code",
   "execution_count": 33,
   "id": "e477188b",
   "metadata": {
    "execution": {
     "iopub.execute_input": "2021-07-17T21:46:02.293114Z",
     "iopub.status.busy": "2021-07-17T21:46:02.279227Z",
     "iopub.status.idle": "2021-07-17T21:46:02.296635Z",
     "shell.execute_reply": "2021-07-17T21:46:02.297010Z",
     "shell.execute_reply.started": "2021-07-17T21:36:16.804354Z"
    },
    "papermill": {
     "duration": 0.084128,
     "end_time": "2021-07-17T21:46:02.297134",
     "exception": false,
     "start_time": "2021-07-17T21:46:02.213006",
     "status": "completed"
    },
    "tags": []
   },
   "outputs": [
    {
     "data": {
      "text/html": [
       "<div>\n",
       "<style scoped>\n",
       "    .dataframe tbody tr th:only-of-type {\n",
       "        vertical-align: middle;\n",
       "    }\n",
       "\n",
       "    .dataframe tbody tr th {\n",
       "        vertical-align: top;\n",
       "    }\n",
       "\n",
       "    .dataframe thead th {\n",
       "        text-align: right;\n",
       "    }\n",
       "</style>\n",
       "<table border=\"1\" class=\"dataframe\">\n",
       "  <thead>\n",
       "    <tr style=\"text-align: right;\">\n",
       "      <th></th>\n",
       "      <th>rank</th>\n",
       "      <th>title</th>\n",
       "      <th>total ratings</th>\n",
       "      <th>average rating</th>\n",
       "      <th>growth (30 days)</th>\n",
       "      <th>growth (60 days)</th>\n",
       "      <th>price</th>\n",
       "      <th>category</th>\n",
       "      <th>5 star ratings</th>\n",
       "      <th>4 star ratings</th>\n",
       "      <th>3 star ratings</th>\n",
       "      <th>2 star ratings</th>\n",
       "      <th>1 star ratings</th>\n",
       "      <th>paid</th>\n",
       "      <th>installation_in_million</th>\n",
       "    </tr>\n",
       "  </thead>\n",
       "  <tbody>\n",
       "    <tr>\n",
       "      <th>0</th>\n",
       "      <td>1</td>\n",
       "      <td>Garena Free Fire - The Cobra</td>\n",
       "      <td>80678661</td>\n",
       "      <td>4.33</td>\n",
       "      <td>2.9</td>\n",
       "      <td>7.9</td>\n",
       "      <td>0.0</td>\n",
       "      <td>GAME ACTION</td>\n",
       "      <td>61935712</td>\n",
       "      <td>4478738</td>\n",
       "      <td>2795172</td>\n",
       "      <td>1814999</td>\n",
       "      <td>9654037</td>\n",
       "      <td>Free</td>\n",
       "      <td>500.0</td>\n",
       "    </tr>\n",
       "    <tr>\n",
       "      <th>1</th>\n",
       "      <td>2</td>\n",
       "      <td>PUBG MOBILE: Graffiti Prank</td>\n",
       "      <td>35971961</td>\n",
       "      <td>4.24</td>\n",
       "      <td>2.0</td>\n",
       "      <td>3.1</td>\n",
       "      <td>0.0</td>\n",
       "      <td>GAME ACTION</td>\n",
       "      <td>26670566</td>\n",
       "      <td>2109631</td>\n",
       "      <td>1352610</td>\n",
       "      <td>893674</td>\n",
       "      <td>4945478</td>\n",
       "      <td>Free</td>\n",
       "      <td>100.0</td>\n",
       "    </tr>\n",
       "    <tr>\n",
       "      <th>2</th>\n",
       "      <td>3</td>\n",
       "      <td>Mobile Legends: Bang Bang</td>\n",
       "      <td>25836869</td>\n",
       "      <td>4.08</td>\n",
       "      <td>1.6</td>\n",
       "      <td>3.3</td>\n",
       "      <td>0.0</td>\n",
       "      <td>GAME ACTION</td>\n",
       "      <td>17850942</td>\n",
       "      <td>1796761</td>\n",
       "      <td>1066095</td>\n",
       "      <td>725429</td>\n",
       "      <td>4397640</td>\n",
       "      <td>Free</td>\n",
       "      <td>100.0</td>\n",
       "    </tr>\n",
       "    <tr>\n",
       "      <th>3</th>\n",
       "      <td>4</td>\n",
       "      <td>Brawl Stars</td>\n",
       "      <td>17181659</td>\n",
       "      <td>4.27</td>\n",
       "      <td>4.1</td>\n",
       "      <td>6.6</td>\n",
       "      <td>0.0</td>\n",
       "      <td>GAME ACTION</td>\n",
       "      <td>12493668</td>\n",
       "      <td>1474319</td>\n",
       "      <td>741410</td>\n",
       "      <td>383478</td>\n",
       "      <td>2088781</td>\n",
       "      <td>Free</td>\n",
       "      <td>100.0</td>\n",
       "    </tr>\n",
       "    <tr>\n",
       "      <th>4</th>\n",
       "      <td>5</td>\n",
       "      <td>Sniper 3D: Fun Free Online FPS Shooting Game</td>\n",
       "      <td>14237554</td>\n",
       "      <td>4.33</td>\n",
       "      <td>0.8</td>\n",
       "      <td>1.8</td>\n",
       "      <td>0.0</td>\n",
       "      <td>GAME ACTION</td>\n",
       "      <td>9657878</td>\n",
       "      <td>2124544</td>\n",
       "      <td>1034025</td>\n",
       "      <td>375159</td>\n",
       "      <td>1045945</td>\n",
       "      <td>Free</td>\n",
       "      <td>100.0</td>\n",
       "    </tr>\n",
       "  </tbody>\n",
       "</table>\n",
       "</div>"
      ],
      "text/plain": [
       "   rank                                         title  total ratings  \\\n",
       "0     1                  Garena Free Fire - The Cobra       80678661   \n",
       "1     2                   PUBG MOBILE: Graffiti Prank       35971961   \n",
       "2     3                     Mobile Legends: Bang Bang       25836869   \n",
       "3     4                                   Brawl Stars       17181659   \n",
       "4     5  Sniper 3D: Fun Free Online FPS Shooting Game       14237554   \n",
       "\n",
       "   average rating  growth (30 days)  growth (60 days)  price     category  \\\n",
       "0            4.33               2.9               7.9    0.0  GAME ACTION   \n",
       "1            4.24               2.0               3.1    0.0  GAME ACTION   \n",
       "2            4.08               1.6               3.3    0.0  GAME ACTION   \n",
       "3            4.27               4.1               6.6    0.0  GAME ACTION   \n",
       "4            4.33               0.8               1.8    0.0  GAME ACTION   \n",
       "\n",
       "   5 star ratings  4 star ratings  3 star ratings  2 star ratings  \\\n",
       "0        61935712         4478738         2795172         1814999   \n",
       "1        26670566         2109631         1352610          893674   \n",
       "2        17850942         1796761         1066095          725429   \n",
       "3        12493668         1474319          741410          383478   \n",
       "4         9657878         2124544         1034025          375159   \n",
       "\n",
       "   1 star ratings  paid  installation_in_million  \n",
       "0         9654037  Free                    500.0  \n",
       "1         4945478  Free                    100.0  \n",
       "2         4397640  Free                    100.0  \n",
       "3         2088781  Free                    100.0  \n",
       "4         1045945  Free                    100.0  "
      ]
     },
     "execution_count": 33,
     "metadata": {},
     "output_type": "execute_result"
    }
   ],
   "source": [
    "def paid_unpaid(paid):\n",
    "    if paid == True:\n",
    "        return 'Paid'\n",
    "    elif paid == False:\n",
    "        return 'Free'\n",
    "    else:\n",
    "        return paid\n",
    "df['paid']= df['paid'].apply(paid_unpaid)\n",
    "df.head()"
   ]
  },
  {
   "cell_type": "code",
   "execution_count": 34,
   "id": "a90f1244",
   "metadata": {
    "execution": {
     "iopub.execute_input": "2021-07-17T21:46:02.425862Z",
     "iopub.status.busy": "2021-07-17T21:46:02.419650Z",
     "iopub.status.idle": "2021-07-17T21:46:02.435753Z",
     "shell.execute_reply": "2021-07-17T21:46:02.435387Z",
     "shell.execute_reply.started": "2021-07-17T21:36:16.831997Z"
    },
    "papermill": {
     "duration": 0.080441,
     "end_time": "2021-07-17T21:46:02.435852",
     "exception": false,
     "start_time": "2021-07-17T21:46:02.355411",
     "status": "completed"
    },
    "tags": []
   },
   "outputs": [
    {
     "data": {
      "text/html": [
       "<div>\n",
       "<style scoped>\n",
       "    .dataframe tbody tr th:only-of-type {\n",
       "        vertical-align: middle;\n",
       "    }\n",
       "\n",
       "    .dataframe tbody tr th {\n",
       "        vertical-align: top;\n",
       "    }\n",
       "\n",
       "    .dataframe thead th {\n",
       "        text-align: right;\n",
       "    }\n",
       "</style>\n",
       "<table border=\"1\" class=\"dataframe\">\n",
       "  <thead>\n",
       "    <tr style=\"text-align: right;\">\n",
       "      <th></th>\n",
       "      <th></th>\n",
       "      <th>installation_in_million</th>\n",
       "    </tr>\n",
       "    <tr>\n",
       "      <th>paid</th>\n",
       "      <th>average rating</th>\n",
       "      <th></th>\n",
       "    </tr>\n",
       "  </thead>\n",
       "  <tbody>\n",
       "    <tr>\n",
       "      <th rowspan=\"5\" valign=\"top\">Free</th>\n",
       "      <th>3.09</th>\n",
       "      <td>5.0</td>\n",
       "    </tr>\n",
       "    <tr>\n",
       "      <th>3.13</th>\n",
       "      <td>5.0</td>\n",
       "    </tr>\n",
       "    <tr>\n",
       "      <th>3.16</th>\n",
       "      <td>10.0</td>\n",
       "    </tr>\n",
       "    <tr>\n",
       "      <th>3.20</th>\n",
       "      <td>1.0</td>\n",
       "    </tr>\n",
       "    <tr>\n",
       "      <th>3.21</th>\n",
       "      <td>1.0</td>\n",
       "    </tr>\n",
       "    <tr>\n",
       "      <th>...</th>\n",
       "      <th>...</th>\n",
       "      <td>...</td>\n",
       "    </tr>\n",
       "    <tr>\n",
       "      <th rowspan=\"5\" valign=\"top\">Paid</th>\n",
       "      <th>4.54</th>\n",
       "      <td>10.0</td>\n",
       "    </tr>\n",
       "    <tr>\n",
       "      <th>4.58</th>\n",
       "      <td>0.5</td>\n",
       "    </tr>\n",
       "    <tr>\n",
       "      <th>4.59</th>\n",
       "      <td>1.0</td>\n",
       "    </tr>\n",
       "    <tr>\n",
       "      <th>4.62</th>\n",
       "      <td>1.0</td>\n",
       "    </tr>\n",
       "    <tr>\n",
       "      <th>4.65</th>\n",
       "      <td>1.0</td>\n",
       "    </tr>\n",
       "  </tbody>\n",
       "</table>\n",
       "<p>146 rows × 1 columns</p>\n",
       "</div>"
      ],
      "text/plain": [
       "                     installation_in_million\n",
       "paid average rating                         \n",
       "Free 3.09                                5.0\n",
       "     3.13                                5.0\n",
       "     3.16                               10.0\n",
       "     3.20                                1.0\n",
       "     3.21                                1.0\n",
       "...                                      ...\n",
       "Paid 4.54                               10.0\n",
       "     4.58                                0.5\n",
       "     4.59                                1.0\n",
       "     4.62                                1.0\n",
       "     4.65                                1.0\n",
       "\n",
       "[146 rows x 1 columns]"
      ]
     },
     "execution_count": 34,
     "metadata": {},
     "output_type": "execute_result"
    }
   ],
   "source": [
    "df.groupby(['paid', 'average rating'])[['installation_in_million']].mean()"
   ]
  },
  {
   "cell_type": "code",
   "execution_count": 35,
   "id": "82dad875",
   "metadata": {
    "execution": {
     "iopub.execute_input": "2021-07-17T21:46:02.587583Z",
     "iopub.status.busy": "2021-07-17T21:46:02.577085Z",
     "iopub.status.idle": "2021-07-17T21:46:02.598184Z",
     "shell.execute_reply": "2021-07-17T21:46:02.597647Z",
     "shell.execute_reply.started": "2021-07-17T21:36:16.861357Z"
    },
    "papermill": {
     "duration": 0.10053,
     "end_time": "2021-07-17T21:46:02.598309",
     "exception": false,
     "start_time": "2021-07-17T21:46:02.497779",
     "status": "completed"
    },
    "tags": []
   },
   "outputs": [
    {
     "data": {
      "text/html": [
       "<div>\n",
       "<style scoped>\n",
       "    .dataframe tbody tr th:only-of-type {\n",
       "        vertical-align: middle;\n",
       "    }\n",
       "\n",
       "    .dataframe tbody tr th {\n",
       "        vertical-align: top;\n",
       "    }\n",
       "\n",
       "    .dataframe thead th {\n",
       "        text-align: right;\n",
       "    }\n",
       "</style>\n",
       "<table border=\"1\" class=\"dataframe\">\n",
       "  <thead>\n",
       "    <tr style=\"text-align: right;\">\n",
       "      <th></th>\n",
       "      <th></th>\n",
       "      <th>installation_in_million</th>\n",
       "    </tr>\n",
       "    <tr>\n",
       "      <th>paid</th>\n",
       "      <th>average rating</th>\n",
       "      <th></th>\n",
       "    </tr>\n",
       "  </thead>\n",
       "  <tbody>\n",
       "    <tr>\n",
       "      <th rowspan=\"5\" valign=\"top\">Free</th>\n",
       "      <th>3.09</th>\n",
       "      <td>5.0</td>\n",
       "    </tr>\n",
       "    <tr>\n",
       "      <th>3.13</th>\n",
       "      <td>5.0</td>\n",
       "    </tr>\n",
       "    <tr>\n",
       "      <th>3.16</th>\n",
       "      <td>10.0</td>\n",
       "    </tr>\n",
       "    <tr>\n",
       "      <th>3.20</th>\n",
       "      <td>1.0</td>\n",
       "    </tr>\n",
       "    <tr>\n",
       "      <th>3.21</th>\n",
       "      <td>1.0</td>\n",
       "    </tr>\n",
       "    <tr>\n",
       "      <th>...</th>\n",
       "      <th>...</th>\n",
       "      <td>...</td>\n",
       "    </tr>\n",
       "    <tr>\n",
       "      <th rowspan=\"5\" valign=\"top\">Paid</th>\n",
       "      <th>4.54</th>\n",
       "      <td>10.0</td>\n",
       "    </tr>\n",
       "    <tr>\n",
       "      <th>4.58</th>\n",
       "      <td>1.0</td>\n",
       "    </tr>\n",
       "    <tr>\n",
       "      <th>4.59</th>\n",
       "      <td>1.0</td>\n",
       "    </tr>\n",
       "    <tr>\n",
       "      <th>4.62</th>\n",
       "      <td>1.0</td>\n",
       "    </tr>\n",
       "    <tr>\n",
       "      <th>4.65</th>\n",
       "      <td>1.0</td>\n",
       "    </tr>\n",
       "  </tbody>\n",
       "</table>\n",
       "<p>146 rows × 1 columns</p>\n",
       "</div>"
      ],
      "text/plain": [
       "                     installation_in_million\n",
       "paid average rating                         \n",
       "Free 3.09                                5.0\n",
       "     3.13                                5.0\n",
       "     3.16                               10.0\n",
       "     3.20                                1.0\n",
       "     3.21                                1.0\n",
       "...                                      ...\n",
       "Paid 4.54                               10.0\n",
       "     4.58                                1.0\n",
       "     4.59                                1.0\n",
       "     4.62                                1.0\n",
       "     4.65                                1.0\n",
       "\n",
       "[146 rows x 1 columns]"
      ]
     },
     "execution_count": 35,
     "metadata": {},
     "output_type": "execute_result"
    }
   ],
   "source": [
    "df.groupby(['paid', 'average rating'])[['installation_in_million']].sum()"
   ]
  },
  {
   "cell_type": "code",
   "execution_count": 36,
   "id": "cbfbb6bc",
   "metadata": {
    "execution": {
     "iopub.execute_input": "2021-07-17T21:46:02.798006Z",
     "iopub.status.busy": "2021-07-17T21:46:02.794357Z",
     "iopub.status.idle": "2021-07-17T21:46:02.805975Z",
     "shell.execute_reply": "2021-07-17T21:46:02.806455Z",
     "shell.execute_reply.started": "2021-07-17T21:36:16.886050Z"
    },
    "papermill": {
     "duration": 0.117012,
     "end_time": "2021-07-17T21:46:02.806619",
     "exception": false,
     "start_time": "2021-07-17T21:46:02.689607",
     "status": "completed"
    },
    "tags": []
   },
   "outputs": [
    {
     "data": {
      "text/html": [
       "<div>\n",
       "<style scoped>\n",
       "    .dataframe tbody tr th:only-of-type {\n",
       "        vertical-align: middle;\n",
       "    }\n",
       "\n",
       "    .dataframe tbody tr th {\n",
       "        vertical-align: top;\n",
       "    }\n",
       "\n",
       "    .dataframe thead th {\n",
       "        text-align: right;\n",
       "    }\n",
       "</style>\n",
       "<table border=\"1\" class=\"dataframe\">\n",
       "  <thead>\n",
       "    <tr style=\"text-align: right;\">\n",
       "      <th></th>\n",
       "      <th>rank</th>\n",
       "      <th>title</th>\n",
       "      <th>category</th>\n",
       "      <th>total ratings</th>\n",
       "      <th>installation_in_million</th>\n",
       "      <th>5 star ratings</th>\n",
       "    </tr>\n",
       "  </thead>\n",
       "  <tbody>\n",
       "    <tr>\n",
       "      <th>0</th>\n",
       "      <td>1</td>\n",
       "      <td>Garena Free Fire - The Cobra</td>\n",
       "      <td>GAME ACTION</td>\n",
       "      <td>80678661</td>\n",
       "      <td>500.0</td>\n",
       "      <td>61935712</td>\n",
       "    </tr>\n",
       "    <tr>\n",
       "      <th>1</th>\n",
       "      <td>2</td>\n",
       "      <td>PUBG MOBILE: Graffiti Prank</td>\n",
       "      <td>GAME ACTION</td>\n",
       "      <td>35971961</td>\n",
       "      <td>100.0</td>\n",
       "      <td>26670566</td>\n",
       "    </tr>\n",
       "    <tr>\n",
       "      <th>2</th>\n",
       "      <td>3</td>\n",
       "      <td>Mobile Legends: Bang Bang</td>\n",
       "      <td>GAME ACTION</td>\n",
       "      <td>25836869</td>\n",
       "      <td>100.0</td>\n",
       "      <td>17850942</td>\n",
       "    </tr>\n",
       "    <tr>\n",
       "      <th>3</th>\n",
       "      <td>4</td>\n",
       "      <td>Brawl Stars</td>\n",
       "      <td>GAME ACTION</td>\n",
       "      <td>17181659</td>\n",
       "      <td>100.0</td>\n",
       "      <td>12493668</td>\n",
       "    </tr>\n",
       "    <tr>\n",
       "      <th>4</th>\n",
       "      <td>5</td>\n",
       "      <td>Sniper 3D: Fun Free Online FPS Shooting Game</td>\n",
       "      <td>GAME ACTION</td>\n",
       "      <td>14237554</td>\n",
       "      <td>100.0</td>\n",
       "      <td>9657878</td>\n",
       "    </tr>\n",
       "    <tr>\n",
       "      <th>...</th>\n",
       "      <td>...</td>\n",
       "      <td>...</td>\n",
       "      <td>...</td>\n",
       "      <td>...</td>\n",
       "      <td>...</td>\n",
       "      <td>...</td>\n",
       "    </tr>\n",
       "    <tr>\n",
       "      <th>1624</th>\n",
       "      <td>1</td>\n",
       "      <td>كلمات كراش - لعبة تسلية وتحدي من زيتونة</td>\n",
       "      <td>GAME WORD</td>\n",
       "      <td>2314831</td>\n",
       "      <td>10.0</td>\n",
       "      <td>2032320</td>\n",
       "    </tr>\n",
       "    <tr>\n",
       "      <th>1625</th>\n",
       "      <td>2</td>\n",
       "      <td>Word Cookies!®</td>\n",
       "      <td>GAME WORD</td>\n",
       "      <td>2245883</td>\n",
       "      <td>10.0</td>\n",
       "      <td>1681302</td>\n",
       "    </tr>\n",
       "    <tr>\n",
       "      <th>1626</th>\n",
       "      <td>3</td>\n",
       "      <td>Words of Wonders: Crossword to Connect Vocabulary</td>\n",
       "      <td>GAME WORD</td>\n",
       "      <td>1822050</td>\n",
       "      <td>100.0</td>\n",
       "      <td>1395622</td>\n",
       "    </tr>\n",
       "    <tr>\n",
       "      <th>1627</th>\n",
       "      <td>4</td>\n",
       "      <td>Words with Friends Classic: Word Puzzle Challenge</td>\n",
       "      <td>GAME WORD</td>\n",
       "      <td>1722008</td>\n",
       "      <td>50.0</td>\n",
       "      <td>971870</td>\n",
       "    </tr>\n",
       "    <tr>\n",
       "      <th>1628</th>\n",
       "      <td>5</td>\n",
       "      <td>4 Fotos 1 Palabra</td>\n",
       "      <td>GAME WORD</td>\n",
       "      <td>1215714</td>\n",
       "      <td>50.0</td>\n",
       "      <td>865192</td>\n",
       "    </tr>\n",
       "  </tbody>\n",
       "</table>\n",
       "<p>87 rows × 6 columns</p>\n",
       "</div>"
      ],
      "text/plain": [
       "      rank                                              title     category  \\\n",
       "0        1                       Garena Free Fire - The Cobra  GAME ACTION   \n",
       "1        2                        PUBG MOBILE: Graffiti Prank  GAME ACTION   \n",
       "2        3                          Mobile Legends: Bang Bang  GAME ACTION   \n",
       "3        4                                        Brawl Stars  GAME ACTION   \n",
       "4        5       Sniper 3D: Fun Free Online FPS Shooting Game  GAME ACTION   \n",
       "...    ...                                                ...          ...   \n",
       "1624     1            كلمات كراش - لعبة تسلية وتحدي من زيتونة    GAME WORD   \n",
       "1625     2                                     Word Cookies!®    GAME WORD   \n",
       "1626     3  Words of Wonders: Crossword to Connect Vocabulary    GAME WORD   \n",
       "1627     4  Words with Friends Classic: Word Puzzle Challenge    GAME WORD   \n",
       "1628     5                                  4 Fotos 1 Palabra    GAME WORD   \n",
       "\n",
       "      total ratings  installation_in_million  5 star ratings  \n",
       "0          80678661                    500.0        61935712  \n",
       "1          35971961                    100.0        26670566  \n",
       "2          25836869                    100.0        17850942  \n",
       "3          17181659                    100.0        12493668  \n",
       "4          14237554                    100.0         9657878  \n",
       "...             ...                      ...             ...  \n",
       "1624        2314831                     10.0         2032320  \n",
       "1625        2245883                     10.0         1681302  \n",
       "1626        1822050                    100.0         1395622  \n",
       "1627        1722008                     50.0          971870  \n",
       "1628        1215714                     50.0          865192  \n",
       "\n",
       "[87 rows x 6 columns]"
      ]
     },
     "execution_count": 36,
     "metadata": {},
     "output_type": "execute_result"
    }
   ],
   "source": [
    "popular_games = df[df['rank'] <= 5][['rank','title','category', 'total ratings', 'installation_in_million', '5 star ratings']]\n",
    "popular_games"
   ]
  },
  {
   "cell_type": "code",
   "execution_count": 37,
   "id": "61c4742a",
   "metadata": {
    "execution": {
     "iopub.execute_input": "2021-07-17T21:46:03.000907Z",
     "iopub.status.busy": "2021-07-17T21:46:03.000420Z",
     "iopub.status.idle": "2021-07-17T21:46:03.003672Z",
     "shell.execute_reply": "2021-07-17T21:46:03.003237Z",
     "shell.execute_reply.started": "2021-07-17T21:36:34.067943Z"
    },
    "papermill": {
     "duration": 0.105842,
     "end_time": "2021-07-17T21:46:03.003772",
     "exception": false,
     "start_time": "2021-07-17T21:46:02.897930",
     "status": "completed"
    },
    "tags": []
   },
   "outputs": [
    {
     "data": {
      "text/html": [
       "<div>\n",
       "<style scoped>\n",
       "    .dataframe tbody tr th:only-of-type {\n",
       "        vertical-align: middle;\n",
       "    }\n",
       "\n",
       "    .dataframe tbody tr th {\n",
       "        vertical-align: top;\n",
       "    }\n",
       "\n",
       "    .dataframe thead th {\n",
       "        text-align: right;\n",
       "    }\n",
       "</style>\n",
       "<table border=\"1\" class=\"dataframe\">\n",
       "  <thead>\n",
       "    <tr style=\"text-align: right;\">\n",
       "      <th></th>\n",
       "      <th>title</th>\n",
       "      <th>category</th>\n",
       "      <th>installation_in_million</th>\n",
       "      <th>5 star ratings</th>\n",
       "      <th>total ratings</th>\n",
       "    </tr>\n",
       "  </thead>\n",
       "  <tbody>\n",
       "    <tr>\n",
       "      <th>0</th>\n",
       "      <td>Garena Free Fire - The Cobra</td>\n",
       "      <td>GAME ACTION</td>\n",
       "      <td>500.0</td>\n",
       "      <td>61935712</td>\n",
       "      <td>80678661</td>\n",
       "    </tr>\n",
       "    <tr>\n",
       "      <th>1424</th>\n",
       "      <td>Clash of Clans</td>\n",
       "      <td>GAME STRATEGY</td>\n",
       "      <td>500.0</td>\n",
       "      <td>42736445</td>\n",
       "      <td>55170976</td>\n",
       "    </tr>\n",
       "    <tr>\n",
       "      <th>1</th>\n",
       "      <td>PUBG MOBILE: Graffiti Prank</td>\n",
       "      <td>GAME ACTION</td>\n",
       "      <td>100.0</td>\n",
       "      <td>26670566</td>\n",
       "      <td>35971961</td>\n",
       "    </tr>\n",
       "    <tr>\n",
       "      <th>200</th>\n",
       "      <td>Subway Surfers</td>\n",
       "      <td>GAME ARCADE</td>\n",
       "      <td>1000.0</td>\n",
       "      <td>26840330</td>\n",
       "      <td>35305263</td>\n",
       "    </tr>\n",
       "    <tr>\n",
       "      <th>622</th>\n",
       "      <td>Candy Crush Saga</td>\n",
       "      <td>GAME CASUAL</td>\n",
       "      <td>1000.0</td>\n",
       "      <td>23521533</td>\n",
       "      <td>30859251</td>\n",
       "    </tr>\n",
       "    <tr>\n",
       "      <th>1425</th>\n",
       "      <td>Clash Royale</td>\n",
       "      <td>GAME STRATEGY</td>\n",
       "      <td>100.0</td>\n",
       "      <td>20850163</td>\n",
       "      <td>30599283</td>\n",
       "    </tr>\n",
       "    <tr>\n",
       "      <th>2</th>\n",
       "      <td>Mobile Legends: Bang Bang</td>\n",
       "      <td>GAME ACTION</td>\n",
       "      <td>100.0</td>\n",
       "      <td>17850942</td>\n",
       "      <td>25836869</td>\n",
       "    </tr>\n",
       "    <tr>\n",
       "      <th>100</th>\n",
       "      <td>Roblox</td>\n",
       "      <td>GAME ADVENTURE</td>\n",
       "      <td>100.0</td>\n",
       "      <td>16057759</td>\n",
       "      <td>20649769</td>\n",
       "    </tr>\n",
       "    <tr>\n",
       "      <th>3</th>\n",
       "      <td>Brawl Stars</td>\n",
       "      <td>GAME ACTION</td>\n",
       "      <td>100.0</td>\n",
       "      <td>12493668</td>\n",
       "      <td>17181659</td>\n",
       "    </tr>\n",
       "    <tr>\n",
       "      <th>623</th>\n",
       "      <td>My Talking Tom</td>\n",
       "      <td>GAME CASUAL</td>\n",
       "      <td>500.0</td>\n",
       "      <td>12245585</td>\n",
       "      <td>16715691</td>\n",
       "    </tr>\n",
       "  </tbody>\n",
       "</table>\n",
       "</div>"
      ],
      "text/plain": [
       "                             title        category  installation_in_million  \\\n",
       "0     Garena Free Fire - The Cobra     GAME ACTION                    500.0   \n",
       "1424                Clash of Clans   GAME STRATEGY                    500.0   \n",
       "1      PUBG MOBILE: Graffiti Prank     GAME ACTION                    100.0   \n",
       "200                 Subway Surfers     GAME ARCADE                   1000.0   \n",
       "622               Candy Crush Saga     GAME CASUAL                   1000.0   \n",
       "1425                  Clash Royale   GAME STRATEGY                    100.0   \n",
       "2        Mobile Legends: Bang Bang     GAME ACTION                    100.0   \n",
       "100                         Roblox  GAME ADVENTURE                    100.0   \n",
       "3                      Brawl Stars     GAME ACTION                    100.0   \n",
       "623                 My Talking Tom     GAME CASUAL                    500.0   \n",
       "\n",
       "      5 star ratings  total ratings  \n",
       "0           61935712       80678661  \n",
       "1424        42736445       55170976  \n",
       "1           26670566       35971961  \n",
       "200         26840330       35305263  \n",
       "622         23521533       30859251  \n",
       "1425        20850163       30599283  \n",
       "2           17850942       25836869  \n",
       "100         16057759       20649769  \n",
       "3           12493668       17181659  \n",
       "623         12245585       16715691  "
      ]
     },
     "execution_count": 37,
     "metadata": {},
     "output_type": "execute_result"
    }
   ],
   "source": [
    "top_10_by_total_ratings = df.sort_values(by='total ratings', ascending=False)[['title','category', 'installation_in_million', '5 star ratings', 'total ratings']].head(10)\n",
    "top_10_by_total_ratings"
   ]
  },
  {
   "cell_type": "code",
   "execution_count": 38,
   "id": "5b36716f",
   "metadata": {
    "execution": {
     "iopub.execute_input": "2021-07-17T21:46:03.132853Z",
     "iopub.status.busy": "2021-07-17T21:46:03.132364Z",
     "iopub.status.idle": "2021-07-17T21:46:04.037988Z",
     "shell.execute_reply": "2021-07-17T21:46:04.037453Z",
     "shell.execute_reply.started": "2021-07-17T21:36:43.481338Z"
    },
    "papermill": {
     "duration": 0.974154,
     "end_time": "2021-07-17T21:46:04.038131",
     "exception": false,
     "start_time": "2021-07-17T21:46:03.063977",
     "status": "completed"
    },
    "tags": []
   },
   "outputs": [
    {
     "data": {
      "text/html": [
       "        <script type=\"text/javascript\">\n",
       "        window.PlotlyConfig = {MathJaxConfig: 'local'};\n",
       "        if (window.MathJax) {MathJax.Hub.Config({SVG: {font: \"STIX-Web\"}});}\n",
       "        if (typeof require !== 'undefined') {\n",
       "        require.undef(\"plotly\");\n",
       "        requirejs.config({\n",
       "            paths: {\n",
       "                'plotly': ['https://cdn.plot.ly/plotly-2.2.0.min']\n",
       "            }\n",
       "        });\n",
       "        require(['plotly'], function(Plotly) {\n",
       "            window._Plotly = Plotly;\n",
       "        });\n",
       "        }\n",
       "        </script>\n",
       "        "
      ]
     },
     "metadata": {},
     "output_type": "display_data"
    },
    {
     "data": {
      "text/html": [
       "<div>                            <div id=\"bfd2ff79-9344-49c6-b9e7-4643c947bf71\" class=\"plotly-graph-div\" style=\"height:525px; width:100%;\"></div>            <script type=\"text/javascript\">                require([\"plotly\"], function(Plotly) {                    window.PLOTLYENV=window.PLOTLYENV || {};                                    if (document.getElementById(\"bfd2ff79-9344-49c6-b9e7-4643c947bf71\")) {                    Plotly.newPlot(                        \"bfd2ff79-9344-49c6-b9e7-4643c947bf71\",                        [{\"alignmentgroup\":\"True\",\"customdata\":[[\"GAME ACTION\"],[\"GAME ACTION\"],[\"GAME ACTION\"],[\"GAME ACTION\"]],\"hovertemplate\":\"category=%{customdata[0]}<br>title=%{x}<br>total ratings=%{y}<extra></extra>\",\"legendgroup\":\"GAME ACTION\",\"marker\":{\"color\":\"#636efa\",\"pattern\":{\"shape\":\"\"}},\"name\":\"GAME ACTION\",\"offsetgroup\":\"GAME ACTION\",\"orientation\":\"v\",\"showlegend\":true,\"textposition\":\"auto\",\"type\":\"bar\",\"x\":[\"Garena Free Fire - The Cobra\",\"PUBG MOBILE: Graffiti Prank\",\"Mobile Legends: Bang Bang\",\"Brawl Stars\"],\"xaxis\":\"x\",\"y\":[80678661,35971961,25836869,17181659],\"yaxis\":\"y\"},{\"alignmentgroup\":\"True\",\"customdata\":[[\"GAME STRATEGY\"],[\"GAME STRATEGY\"]],\"hovertemplate\":\"category=%{customdata[0]}<br>title=%{x}<br>total ratings=%{y}<extra></extra>\",\"legendgroup\":\"GAME STRATEGY\",\"marker\":{\"color\":\"#EF553B\",\"pattern\":{\"shape\":\"\"}},\"name\":\"GAME STRATEGY\",\"offsetgroup\":\"GAME STRATEGY\",\"orientation\":\"v\",\"showlegend\":true,\"textposition\":\"auto\",\"type\":\"bar\",\"x\":[\"Clash of Clans\",\"Clash Royale\"],\"xaxis\":\"x\",\"y\":[55170976,30599283],\"yaxis\":\"y\"},{\"alignmentgroup\":\"True\",\"customdata\":[[\"GAME ARCADE\"]],\"hovertemplate\":\"category=%{customdata[0]}<br>title=%{x}<br>total ratings=%{y}<extra></extra>\",\"legendgroup\":\"GAME ARCADE\",\"marker\":{\"color\":\"#00cc96\",\"pattern\":{\"shape\":\"\"}},\"name\":\"GAME ARCADE\",\"offsetgroup\":\"GAME ARCADE\",\"orientation\":\"v\",\"showlegend\":true,\"textposition\":\"auto\",\"type\":\"bar\",\"x\":[\"Subway Surfers\"],\"xaxis\":\"x\",\"y\":[35305263],\"yaxis\":\"y\"},{\"alignmentgroup\":\"True\",\"customdata\":[[\"GAME CASUAL\"],[\"GAME CASUAL\"]],\"hovertemplate\":\"category=%{customdata[0]}<br>title=%{x}<br>total ratings=%{y}<extra></extra>\",\"legendgroup\":\"GAME CASUAL\",\"marker\":{\"color\":\"#ab63fa\",\"pattern\":{\"shape\":\"\"}},\"name\":\"GAME CASUAL\",\"offsetgroup\":\"GAME CASUAL\",\"orientation\":\"v\",\"showlegend\":true,\"textposition\":\"auto\",\"type\":\"bar\",\"x\":[\"Candy Crush Saga\",\"My Talking Tom\"],\"xaxis\":\"x\",\"y\":[30859251,16715691],\"yaxis\":\"y\"},{\"alignmentgroup\":\"True\",\"customdata\":[[\"GAME ADVENTURE\"]],\"hovertemplate\":\"category=%{customdata[0]}<br>title=%{x}<br>total ratings=%{y}<extra></extra>\",\"legendgroup\":\"GAME ADVENTURE\",\"marker\":{\"color\":\"#FFA15A\",\"pattern\":{\"shape\":\"\"}},\"name\":\"GAME ADVENTURE\",\"offsetgroup\":\"GAME ADVENTURE\",\"orientation\":\"v\",\"showlegend\":true,\"textposition\":\"auto\",\"type\":\"bar\",\"x\":[\"Roblox\"],\"xaxis\":\"x\",\"y\":[20649769],\"yaxis\":\"y\"}],                        {\"barmode\":\"relative\",\"legend\":{\"title\":{\"text\":\"category\"},\"tracegroupgap\":0},\"template\":{\"data\":{\"bar\":[{\"error_x\":{\"color\":\"#2a3f5f\"},\"error_y\":{\"color\":\"#2a3f5f\"},\"marker\":{\"line\":{\"color\":\"#E5ECF6\",\"width\":0.5},\"pattern\":{\"fillmode\":\"overlay\",\"size\":10,\"solidity\":0.2}},\"type\":\"bar\"}],\"barpolar\":[{\"marker\":{\"line\":{\"color\":\"#E5ECF6\",\"width\":0.5},\"pattern\":{\"fillmode\":\"overlay\",\"size\":10,\"solidity\":0.2}},\"type\":\"barpolar\"}],\"carpet\":[{\"aaxis\":{\"endlinecolor\":\"#2a3f5f\",\"gridcolor\":\"white\",\"linecolor\":\"white\",\"minorgridcolor\":\"white\",\"startlinecolor\":\"#2a3f5f\"},\"baxis\":{\"endlinecolor\":\"#2a3f5f\",\"gridcolor\":\"white\",\"linecolor\":\"white\",\"minorgridcolor\":\"white\",\"startlinecolor\":\"#2a3f5f\"},\"type\":\"carpet\"}],\"choropleth\":[{\"colorbar\":{\"outlinewidth\":0,\"ticks\":\"\"},\"type\":\"choropleth\"}],\"contour\":[{\"colorbar\":{\"outlinewidth\":0,\"ticks\":\"\"},\"colorscale\":[[0.0,\"#0d0887\"],[0.1111111111111111,\"#46039f\"],[0.2222222222222222,\"#7201a8\"],[0.3333333333333333,\"#9c179e\"],[0.4444444444444444,\"#bd3786\"],[0.5555555555555556,\"#d8576b\"],[0.6666666666666666,\"#ed7953\"],[0.7777777777777778,\"#fb9f3a\"],[0.8888888888888888,\"#fdca26\"],[1.0,\"#f0f921\"]],\"type\":\"contour\"}],\"contourcarpet\":[{\"colorbar\":{\"outlinewidth\":0,\"ticks\":\"\"},\"type\":\"contourcarpet\"}],\"heatmap\":[{\"colorbar\":{\"outlinewidth\":0,\"ticks\":\"\"},\"colorscale\":[[0.0,\"#0d0887\"],[0.1111111111111111,\"#46039f\"],[0.2222222222222222,\"#7201a8\"],[0.3333333333333333,\"#9c179e\"],[0.4444444444444444,\"#bd3786\"],[0.5555555555555556,\"#d8576b\"],[0.6666666666666666,\"#ed7953\"],[0.7777777777777778,\"#fb9f3a\"],[0.8888888888888888,\"#fdca26\"],[1.0,\"#f0f921\"]],\"type\":\"heatmap\"}],\"heatmapgl\":[{\"colorbar\":{\"outlinewidth\":0,\"ticks\":\"\"},\"colorscale\":[[0.0,\"#0d0887\"],[0.1111111111111111,\"#46039f\"],[0.2222222222222222,\"#7201a8\"],[0.3333333333333333,\"#9c179e\"],[0.4444444444444444,\"#bd3786\"],[0.5555555555555556,\"#d8576b\"],[0.6666666666666666,\"#ed7953\"],[0.7777777777777778,\"#fb9f3a\"],[0.8888888888888888,\"#fdca26\"],[1.0,\"#f0f921\"]],\"type\":\"heatmapgl\"}],\"histogram\":[{\"marker\":{\"pattern\":{\"fillmode\":\"overlay\",\"size\":10,\"solidity\":0.2}},\"type\":\"histogram\"}],\"histogram2d\":[{\"colorbar\":{\"outlinewidth\":0,\"ticks\":\"\"},\"colorscale\":[[0.0,\"#0d0887\"],[0.1111111111111111,\"#46039f\"],[0.2222222222222222,\"#7201a8\"],[0.3333333333333333,\"#9c179e\"],[0.4444444444444444,\"#bd3786\"],[0.5555555555555556,\"#d8576b\"],[0.6666666666666666,\"#ed7953\"],[0.7777777777777778,\"#fb9f3a\"],[0.8888888888888888,\"#fdca26\"],[1.0,\"#f0f921\"]],\"type\":\"histogram2d\"}],\"histogram2dcontour\":[{\"colorbar\":{\"outlinewidth\":0,\"ticks\":\"\"},\"colorscale\":[[0.0,\"#0d0887\"],[0.1111111111111111,\"#46039f\"],[0.2222222222222222,\"#7201a8\"],[0.3333333333333333,\"#9c179e\"],[0.4444444444444444,\"#bd3786\"],[0.5555555555555556,\"#d8576b\"],[0.6666666666666666,\"#ed7953\"],[0.7777777777777778,\"#fb9f3a\"],[0.8888888888888888,\"#fdca26\"],[1.0,\"#f0f921\"]],\"type\":\"histogram2dcontour\"}],\"mesh3d\":[{\"colorbar\":{\"outlinewidth\":0,\"ticks\":\"\"},\"type\":\"mesh3d\"}],\"parcoords\":[{\"line\":{\"colorbar\":{\"outlinewidth\":0,\"ticks\":\"\"}},\"type\":\"parcoords\"}],\"pie\":[{\"automargin\":true,\"type\":\"pie\"}],\"scatter\":[{\"marker\":{\"colorbar\":{\"outlinewidth\":0,\"ticks\":\"\"}},\"type\":\"scatter\"}],\"scatter3d\":[{\"line\":{\"colorbar\":{\"outlinewidth\":0,\"ticks\":\"\"}},\"marker\":{\"colorbar\":{\"outlinewidth\":0,\"ticks\":\"\"}},\"type\":\"scatter3d\"}],\"scattercarpet\":[{\"marker\":{\"colorbar\":{\"outlinewidth\":0,\"ticks\":\"\"}},\"type\":\"scattercarpet\"}],\"scattergeo\":[{\"marker\":{\"colorbar\":{\"outlinewidth\":0,\"ticks\":\"\"}},\"type\":\"scattergeo\"}],\"scattergl\":[{\"marker\":{\"colorbar\":{\"outlinewidth\":0,\"ticks\":\"\"}},\"type\":\"scattergl\"}],\"scattermapbox\":[{\"marker\":{\"colorbar\":{\"outlinewidth\":0,\"ticks\":\"\"}},\"type\":\"scattermapbox\"}],\"scatterpolar\":[{\"marker\":{\"colorbar\":{\"outlinewidth\":0,\"ticks\":\"\"}},\"type\":\"scatterpolar\"}],\"scatterpolargl\":[{\"marker\":{\"colorbar\":{\"outlinewidth\":0,\"ticks\":\"\"}},\"type\":\"scatterpolargl\"}],\"scatterternary\":[{\"marker\":{\"colorbar\":{\"outlinewidth\":0,\"ticks\":\"\"}},\"type\":\"scatterternary\"}],\"surface\":[{\"colorbar\":{\"outlinewidth\":0,\"ticks\":\"\"},\"colorscale\":[[0.0,\"#0d0887\"],[0.1111111111111111,\"#46039f\"],[0.2222222222222222,\"#7201a8\"],[0.3333333333333333,\"#9c179e\"],[0.4444444444444444,\"#bd3786\"],[0.5555555555555556,\"#d8576b\"],[0.6666666666666666,\"#ed7953\"],[0.7777777777777778,\"#fb9f3a\"],[0.8888888888888888,\"#fdca26\"],[1.0,\"#f0f921\"]],\"type\":\"surface\"}],\"table\":[{\"cells\":{\"fill\":{\"color\":\"#EBF0F8\"},\"line\":{\"color\":\"white\"}},\"header\":{\"fill\":{\"color\":\"#C8D4E3\"},\"line\":{\"color\":\"white\"}},\"type\":\"table\"}]},\"layout\":{\"annotationdefaults\":{\"arrowcolor\":\"#2a3f5f\",\"arrowhead\":0,\"arrowwidth\":1},\"autotypenumbers\":\"strict\",\"coloraxis\":{\"colorbar\":{\"outlinewidth\":0,\"ticks\":\"\"}},\"colorscale\":{\"diverging\":[[0,\"#8e0152\"],[0.1,\"#c51b7d\"],[0.2,\"#de77ae\"],[0.3,\"#f1b6da\"],[0.4,\"#fde0ef\"],[0.5,\"#f7f7f7\"],[0.6,\"#e6f5d0\"],[0.7,\"#b8e186\"],[0.8,\"#7fbc41\"],[0.9,\"#4d9221\"],[1,\"#276419\"]],\"sequential\":[[0.0,\"#0d0887\"],[0.1111111111111111,\"#46039f\"],[0.2222222222222222,\"#7201a8\"],[0.3333333333333333,\"#9c179e\"],[0.4444444444444444,\"#bd3786\"],[0.5555555555555556,\"#d8576b\"],[0.6666666666666666,\"#ed7953\"],[0.7777777777777778,\"#fb9f3a\"],[0.8888888888888888,\"#fdca26\"],[1.0,\"#f0f921\"]],\"sequentialminus\":[[0.0,\"#0d0887\"],[0.1111111111111111,\"#46039f\"],[0.2222222222222222,\"#7201a8\"],[0.3333333333333333,\"#9c179e\"],[0.4444444444444444,\"#bd3786\"],[0.5555555555555556,\"#d8576b\"],[0.6666666666666666,\"#ed7953\"],[0.7777777777777778,\"#fb9f3a\"],[0.8888888888888888,\"#fdca26\"],[1.0,\"#f0f921\"]]},\"colorway\":[\"#636efa\",\"#EF553B\",\"#00cc96\",\"#ab63fa\",\"#FFA15A\",\"#19d3f3\",\"#FF6692\",\"#B6E880\",\"#FF97FF\",\"#FECB52\"],\"font\":{\"color\":\"#2a3f5f\"},\"geo\":{\"bgcolor\":\"white\",\"lakecolor\":\"white\",\"landcolor\":\"#E5ECF6\",\"showlakes\":true,\"showland\":true,\"subunitcolor\":\"white\"},\"hoverlabel\":{\"align\":\"left\"},\"hovermode\":\"closest\",\"mapbox\":{\"style\":\"light\"},\"paper_bgcolor\":\"white\",\"plot_bgcolor\":\"#E5ECF6\",\"polar\":{\"angularaxis\":{\"gridcolor\":\"white\",\"linecolor\":\"white\",\"ticks\":\"\"},\"bgcolor\":\"#E5ECF6\",\"radialaxis\":{\"gridcolor\":\"white\",\"linecolor\":\"white\",\"ticks\":\"\"}},\"scene\":{\"xaxis\":{\"backgroundcolor\":\"#E5ECF6\",\"gridcolor\":\"white\",\"gridwidth\":2,\"linecolor\":\"white\",\"showbackground\":true,\"ticks\":\"\",\"zerolinecolor\":\"white\"},\"yaxis\":{\"backgroundcolor\":\"#E5ECF6\",\"gridcolor\":\"white\",\"gridwidth\":2,\"linecolor\":\"white\",\"showbackground\":true,\"ticks\":\"\",\"zerolinecolor\":\"white\"},\"zaxis\":{\"backgroundcolor\":\"#E5ECF6\",\"gridcolor\":\"white\",\"gridwidth\":2,\"linecolor\":\"white\",\"showbackground\":true,\"ticks\":\"\",\"zerolinecolor\":\"white\"}},\"shapedefaults\":{\"line\":{\"color\":\"#2a3f5f\"}},\"ternary\":{\"aaxis\":{\"gridcolor\":\"white\",\"linecolor\":\"white\",\"ticks\":\"\"},\"baxis\":{\"gridcolor\":\"white\",\"linecolor\":\"white\",\"ticks\":\"\"},\"bgcolor\":\"#E5ECF6\",\"caxis\":{\"gridcolor\":\"white\",\"linecolor\":\"white\",\"ticks\":\"\"}},\"title\":{\"x\":0.05},\"xaxis\":{\"automargin\":true,\"gridcolor\":\"white\",\"linecolor\":\"white\",\"ticks\":\"\",\"title\":{\"standoff\":15},\"zerolinecolor\":\"white\",\"zerolinewidth\":2},\"yaxis\":{\"automargin\":true,\"gridcolor\":\"white\",\"linecolor\":\"white\",\"ticks\":\"\",\"title\":{\"standoff\":15},\"zerolinecolor\":\"white\",\"zerolinewidth\":2}}},\"title\":{\"text\":\"Top 10 Games By Total Ratings\"},\"xaxis\":{\"anchor\":\"y\",\"categoryorder\":\"total descending\",\"domain\":[0.0,1.0],\"title\":{\"text\":\"title\"}},\"yaxis\":{\"anchor\":\"x\",\"domain\":[0.0,1.0],\"title\":{\"text\":\"total ratings\"}}},                        {\"responsive\": true}                    ).then(function(){\n",
       "                            \n",
       "var gd = document.getElementById('bfd2ff79-9344-49c6-b9e7-4643c947bf71');\n",
       "var x = new MutationObserver(function (mutations, observer) {{\n",
       "        var display = window.getComputedStyle(gd).display;\n",
       "        if (!display || display === 'none') {{\n",
       "            console.log([gd, 'removed!']);\n",
       "            Plotly.purge(gd);\n",
       "            observer.disconnect();\n",
       "        }}\n",
       "}});\n",
       "\n",
       "// Listen for the removal of the full notebook cells\n",
       "var notebookContainer = gd.closest('#notebook-container');\n",
       "if (notebookContainer) {{\n",
       "    x.observe(notebookContainer, {childList: true});\n",
       "}}\n",
       "\n",
       "// Listen for the clearing of the current output cell\n",
       "var outputEl = gd.closest('.output');\n",
       "if (outputEl) {{\n",
       "    x.observe(outputEl, {childList: true});\n",
       "}}\n",
       "\n",
       "                        })                };                });            </script>        </div>"
      ]
     },
     "metadata": {},
     "output_type": "display_data"
    }
   ],
   "source": [
    "fig = px.bar(top_10_by_total_ratings, x= 'title', y='total ratings', hover_data = top_10_by_total_ratings[['category']], color='category', title='Top 10 Games By Total Ratings')\n",
    "fig.update_layout(xaxis={'categoryorder':'total descending'})\n",
    "fig.show()"
   ]
  },
  {
   "cell_type": "code",
   "execution_count": 39,
   "id": "1291c341",
   "metadata": {
    "execution": {
     "iopub.execute_input": "2021-07-17T21:46:04.230941Z",
     "iopub.status.busy": "2021-07-17T21:46:04.230038Z",
     "iopub.status.idle": "2021-07-17T21:46:04.242749Z",
     "shell.execute_reply": "2021-07-17T21:46:04.242164Z",
     "shell.execute_reply.started": "2021-07-17T21:36:53.964394Z"
    },
    "papermill": {
     "duration": 0.111342,
     "end_time": "2021-07-17T21:46:04.242871",
     "exception": false,
     "start_time": "2021-07-17T21:46:04.131529",
     "status": "completed"
    },
    "tags": []
   },
   "outputs": [
    {
     "data": {
      "text/html": [
       "<div>\n",
       "<style scoped>\n",
       "    .dataframe tbody tr th:only-of-type {\n",
       "        vertical-align: middle;\n",
       "    }\n",
       "\n",
       "    .dataframe tbody tr th {\n",
       "        vertical-align: top;\n",
       "    }\n",
       "\n",
       "    .dataframe thead th {\n",
       "        text-align: right;\n",
       "    }\n",
       "</style>\n",
       "<table border=\"1\" class=\"dataframe\">\n",
       "  <thead>\n",
       "    <tr style=\"text-align: right;\">\n",
       "      <th></th>\n",
       "      <th>title</th>\n",
       "      <th>category</th>\n",
       "      <th>installation_in_million</th>\n",
       "      <th>5 star ratings</th>\n",
       "      <th>total ratings</th>\n",
       "    </tr>\n",
       "  </thead>\n",
       "  <tbody>\n",
       "    <tr>\n",
       "      <th>200</th>\n",
       "      <td>Subway Surfers</td>\n",
       "      <td>GAME ARCADE</td>\n",
       "      <td>1000.0</td>\n",
       "      <td>26840330</td>\n",
       "      <td>35305263</td>\n",
       "    </tr>\n",
       "    <tr>\n",
       "      <th>622</th>\n",
       "      <td>Candy Crush Saga</td>\n",
       "      <td>GAME CASUAL</td>\n",
       "      <td>1000.0</td>\n",
       "      <td>23521533</td>\n",
       "      <td>30859251</td>\n",
       "    </tr>\n",
       "    <tr>\n",
       "      <th>0</th>\n",
       "      <td>Garena Free Fire - The Cobra</td>\n",
       "      <td>GAME ACTION</td>\n",
       "      <td>500.0</td>\n",
       "      <td>61935712</td>\n",
       "      <td>80678661</td>\n",
       "    </tr>\n",
       "    <tr>\n",
       "      <th>624</th>\n",
       "      <td>My Talking Angela</td>\n",
       "      <td>GAME CASUAL</td>\n",
       "      <td>500.0</td>\n",
       "      <td>9026260</td>\n",
       "      <td>12866276</td>\n",
       "    </tr>\n",
       "    <tr>\n",
       "      <th>1024</th>\n",
       "      <td>Hill Climb Racing</td>\n",
       "      <td>GAME RACING</td>\n",
       "      <td>500.0</td>\n",
       "      <td>7120594</td>\n",
       "      <td>10109437</td>\n",
       "    </tr>\n",
       "    <tr>\n",
       "      <th>208</th>\n",
       "      <td>Temple Run</td>\n",
       "      <td>GAME ARCADE</td>\n",
       "      <td>500.0</td>\n",
       "      <td>3113811</td>\n",
       "      <td>4744985</td>\n",
       "    </tr>\n",
       "    <tr>\n",
       "      <th>1332</th>\n",
       "      <td>8 Ball Pool</td>\n",
       "      <td>GAME SPORTS</td>\n",
       "      <td>500.0</td>\n",
       "      <td>2120943</td>\n",
       "      <td>2877308</td>\n",
       "    </tr>\n",
       "    <tr>\n",
       "      <th>1424</th>\n",
       "      <td>Clash of Clans</td>\n",
       "      <td>GAME STRATEGY</td>\n",
       "      <td>500.0</td>\n",
       "      <td>42736445</td>\n",
       "      <td>55170976</td>\n",
       "    </tr>\n",
       "    <tr>\n",
       "      <th>300</th>\n",
       "      <td>Ludo King™</td>\n",
       "      <td>GAME BOARD</td>\n",
       "      <td>500.0</td>\n",
       "      <td>5000168</td>\n",
       "      <td>7048207</td>\n",
       "    </tr>\n",
       "    <tr>\n",
       "      <th>626</th>\n",
       "      <td>Pou</td>\n",
       "      <td>GAME CASUAL</td>\n",
       "      <td>500.0</td>\n",
       "      <td>8147778</td>\n",
       "      <td>11449723</td>\n",
       "    </tr>\n",
       "  </tbody>\n",
       "</table>\n",
       "</div>"
      ],
      "text/plain": [
       "                             title       category  installation_in_million  \\\n",
       "200                 Subway Surfers    GAME ARCADE                   1000.0   \n",
       "622               Candy Crush Saga    GAME CASUAL                   1000.0   \n",
       "0     Garena Free Fire - The Cobra    GAME ACTION                    500.0   \n",
       "624              My Talking Angela    GAME CASUAL                    500.0   \n",
       "1024             Hill Climb Racing    GAME RACING                    500.0   \n",
       "208                     Temple Run    GAME ARCADE                    500.0   \n",
       "1332                   8 Ball Pool    GAME SPORTS                    500.0   \n",
       "1424                Clash of Clans  GAME STRATEGY                    500.0   \n",
       "300                     Ludo King™     GAME BOARD                    500.0   \n",
       "626                            Pou    GAME CASUAL                    500.0   \n",
       "\n",
       "      5 star ratings  total ratings  \n",
       "200         26840330       35305263  \n",
       "622         23521533       30859251  \n",
       "0           61935712       80678661  \n",
       "624          9026260       12866276  \n",
       "1024         7120594       10109437  \n",
       "208          3113811        4744985  \n",
       "1332         2120943        2877308  \n",
       "1424        42736445       55170976  \n",
       "300          5000168        7048207  \n",
       "626          8147778       11449723  "
      ]
     },
     "execution_count": 39,
     "metadata": {},
     "output_type": "execute_result"
    }
   ],
   "source": [
    "top_10_by_installation = df.sort_values(by='installation_in_million', ascending=False)[['title','category', 'installation_in_million', '5 star ratings', 'total ratings']].head(10)\n",
    "top_10_by_installation"
   ]
  },
  {
   "cell_type": "code",
   "execution_count": 40,
   "id": "3b69952c",
   "metadata": {
    "execution": {
     "iopub.execute_input": "2021-07-17T21:46:04.451538Z",
     "iopub.status.busy": "2021-07-17T21:46:04.446941Z",
     "iopub.status.idle": "2021-07-17T21:46:04.546828Z",
     "shell.execute_reply": "2021-07-17T21:46:04.546337Z",
     "shell.execute_reply.started": "2021-07-17T21:37:11.015588Z"
    },
    "papermill": {
     "duration": 0.210488,
     "end_time": "2021-07-17T21:46:04.546973",
     "exception": false,
     "start_time": "2021-07-17T21:46:04.336485",
     "status": "completed"
    },
    "tags": []
   },
   "outputs": [
    {
     "data": {
      "text/html": [
       "<div>                            <div id=\"f668f333-2abc-4fac-a136-4c83c52db350\" class=\"plotly-graph-div\" style=\"height:525px; width:100%;\"></div>            <script type=\"text/javascript\">                require([\"plotly\"], function(Plotly) {                    window.PLOTLYENV=window.PLOTLYENV || {};                                    if (document.getElementById(\"f668f333-2abc-4fac-a136-4c83c52db350\")) {                    Plotly.newPlot(                        \"f668f333-2abc-4fac-a136-4c83c52db350\",                        [{\"alignmentgroup\":\"True\",\"customdata\":[[\"GAME ARCADE\"],[\"GAME ARCADE\"]],\"hovertemplate\":\"category=%{customdata[0]}<br>title=%{x}<br>installation_in_million=%{y}<extra></extra>\",\"legendgroup\":\"GAME ARCADE\",\"marker\":{\"color\":\"#636efa\",\"pattern\":{\"shape\":\"\"}},\"name\":\"GAME ARCADE\",\"offsetgroup\":\"GAME ARCADE\",\"orientation\":\"v\",\"showlegend\":true,\"textposition\":\"auto\",\"type\":\"bar\",\"x\":[\"Subway Surfers\",\"Temple Run\"],\"xaxis\":\"x\",\"y\":[1000.0,500.0],\"yaxis\":\"y\"},{\"alignmentgroup\":\"True\",\"customdata\":[[\"GAME CASUAL\"],[\"GAME CASUAL\"],[\"GAME CASUAL\"]],\"hovertemplate\":\"category=%{customdata[0]}<br>title=%{x}<br>installation_in_million=%{y}<extra></extra>\",\"legendgroup\":\"GAME CASUAL\",\"marker\":{\"color\":\"#EF553B\",\"pattern\":{\"shape\":\"\"}},\"name\":\"GAME CASUAL\",\"offsetgroup\":\"GAME CASUAL\",\"orientation\":\"v\",\"showlegend\":true,\"textposition\":\"auto\",\"type\":\"bar\",\"x\":[\"Candy Crush Saga\",\"My Talking Angela\",\"Pou\"],\"xaxis\":\"x\",\"y\":[1000.0,500.0,500.0],\"yaxis\":\"y\"},{\"alignmentgroup\":\"True\",\"customdata\":[[\"GAME ACTION\"]],\"hovertemplate\":\"category=%{customdata[0]}<br>title=%{x}<br>installation_in_million=%{y}<extra></extra>\",\"legendgroup\":\"GAME ACTION\",\"marker\":{\"color\":\"#00cc96\",\"pattern\":{\"shape\":\"\"}},\"name\":\"GAME ACTION\",\"offsetgroup\":\"GAME ACTION\",\"orientation\":\"v\",\"showlegend\":true,\"textposition\":\"auto\",\"type\":\"bar\",\"x\":[\"Garena Free Fire - The Cobra\"],\"xaxis\":\"x\",\"y\":[500.0],\"yaxis\":\"y\"},{\"alignmentgroup\":\"True\",\"customdata\":[[\"GAME RACING\"]],\"hovertemplate\":\"category=%{customdata[0]}<br>title=%{x}<br>installation_in_million=%{y}<extra></extra>\",\"legendgroup\":\"GAME RACING\",\"marker\":{\"color\":\"#ab63fa\",\"pattern\":{\"shape\":\"\"}},\"name\":\"GAME RACING\",\"offsetgroup\":\"GAME RACING\",\"orientation\":\"v\",\"showlegend\":true,\"textposition\":\"auto\",\"type\":\"bar\",\"x\":[\"Hill Climb Racing\"],\"xaxis\":\"x\",\"y\":[500.0],\"yaxis\":\"y\"},{\"alignmentgroup\":\"True\",\"customdata\":[[\"GAME SPORTS\"]],\"hovertemplate\":\"category=%{customdata[0]}<br>title=%{x}<br>installation_in_million=%{y}<extra></extra>\",\"legendgroup\":\"GAME SPORTS\",\"marker\":{\"color\":\"#FFA15A\",\"pattern\":{\"shape\":\"\"}},\"name\":\"GAME SPORTS\",\"offsetgroup\":\"GAME SPORTS\",\"orientation\":\"v\",\"showlegend\":true,\"textposition\":\"auto\",\"type\":\"bar\",\"x\":[\"8 Ball Pool\"],\"xaxis\":\"x\",\"y\":[500.0],\"yaxis\":\"y\"},{\"alignmentgroup\":\"True\",\"customdata\":[[\"GAME STRATEGY\"]],\"hovertemplate\":\"category=%{customdata[0]}<br>title=%{x}<br>installation_in_million=%{y}<extra></extra>\",\"legendgroup\":\"GAME STRATEGY\",\"marker\":{\"color\":\"#19d3f3\",\"pattern\":{\"shape\":\"\"}},\"name\":\"GAME STRATEGY\",\"offsetgroup\":\"GAME STRATEGY\",\"orientation\":\"v\",\"showlegend\":true,\"textposition\":\"auto\",\"type\":\"bar\",\"x\":[\"Clash of Clans\"],\"xaxis\":\"x\",\"y\":[500.0],\"yaxis\":\"y\"},{\"alignmentgroup\":\"True\",\"customdata\":[[\"GAME BOARD\"]],\"hovertemplate\":\"category=%{customdata[0]}<br>title=%{x}<br>installation_in_million=%{y}<extra></extra>\",\"legendgroup\":\"GAME BOARD\",\"marker\":{\"color\":\"#FF6692\",\"pattern\":{\"shape\":\"\"}},\"name\":\"GAME BOARD\",\"offsetgroup\":\"GAME BOARD\",\"orientation\":\"v\",\"showlegend\":true,\"textposition\":\"auto\",\"type\":\"bar\",\"x\":[\"Ludo King\\u2122\"],\"xaxis\":\"x\",\"y\":[500.0],\"yaxis\":\"y\"}],                        {\"barmode\":\"relative\",\"legend\":{\"title\":{\"text\":\"category\"},\"tracegroupgap\":0},\"template\":{\"data\":{\"bar\":[{\"error_x\":{\"color\":\"#2a3f5f\"},\"error_y\":{\"color\":\"#2a3f5f\"},\"marker\":{\"line\":{\"color\":\"#E5ECF6\",\"width\":0.5},\"pattern\":{\"fillmode\":\"overlay\",\"size\":10,\"solidity\":0.2}},\"type\":\"bar\"}],\"barpolar\":[{\"marker\":{\"line\":{\"color\":\"#E5ECF6\",\"width\":0.5},\"pattern\":{\"fillmode\":\"overlay\",\"size\":10,\"solidity\":0.2}},\"type\":\"barpolar\"}],\"carpet\":[{\"aaxis\":{\"endlinecolor\":\"#2a3f5f\",\"gridcolor\":\"white\",\"linecolor\":\"white\",\"minorgridcolor\":\"white\",\"startlinecolor\":\"#2a3f5f\"},\"baxis\":{\"endlinecolor\":\"#2a3f5f\",\"gridcolor\":\"white\",\"linecolor\":\"white\",\"minorgridcolor\":\"white\",\"startlinecolor\":\"#2a3f5f\"},\"type\":\"carpet\"}],\"choropleth\":[{\"colorbar\":{\"outlinewidth\":0,\"ticks\":\"\"},\"type\":\"choropleth\"}],\"contour\":[{\"colorbar\":{\"outlinewidth\":0,\"ticks\":\"\"},\"colorscale\":[[0.0,\"#0d0887\"],[0.1111111111111111,\"#46039f\"],[0.2222222222222222,\"#7201a8\"],[0.3333333333333333,\"#9c179e\"],[0.4444444444444444,\"#bd3786\"],[0.5555555555555556,\"#d8576b\"],[0.6666666666666666,\"#ed7953\"],[0.7777777777777778,\"#fb9f3a\"],[0.8888888888888888,\"#fdca26\"],[1.0,\"#f0f921\"]],\"type\":\"contour\"}],\"contourcarpet\":[{\"colorbar\":{\"outlinewidth\":0,\"ticks\":\"\"},\"type\":\"contourcarpet\"}],\"heatmap\":[{\"colorbar\":{\"outlinewidth\":0,\"ticks\":\"\"},\"colorscale\":[[0.0,\"#0d0887\"],[0.1111111111111111,\"#46039f\"],[0.2222222222222222,\"#7201a8\"],[0.3333333333333333,\"#9c179e\"],[0.4444444444444444,\"#bd3786\"],[0.5555555555555556,\"#d8576b\"],[0.6666666666666666,\"#ed7953\"],[0.7777777777777778,\"#fb9f3a\"],[0.8888888888888888,\"#fdca26\"],[1.0,\"#f0f921\"]],\"type\":\"heatmap\"}],\"heatmapgl\":[{\"colorbar\":{\"outlinewidth\":0,\"ticks\":\"\"},\"colorscale\":[[0.0,\"#0d0887\"],[0.1111111111111111,\"#46039f\"],[0.2222222222222222,\"#7201a8\"],[0.3333333333333333,\"#9c179e\"],[0.4444444444444444,\"#bd3786\"],[0.5555555555555556,\"#d8576b\"],[0.6666666666666666,\"#ed7953\"],[0.7777777777777778,\"#fb9f3a\"],[0.8888888888888888,\"#fdca26\"],[1.0,\"#f0f921\"]],\"type\":\"heatmapgl\"}],\"histogram\":[{\"marker\":{\"pattern\":{\"fillmode\":\"overlay\",\"size\":10,\"solidity\":0.2}},\"type\":\"histogram\"}],\"histogram2d\":[{\"colorbar\":{\"outlinewidth\":0,\"ticks\":\"\"},\"colorscale\":[[0.0,\"#0d0887\"],[0.1111111111111111,\"#46039f\"],[0.2222222222222222,\"#7201a8\"],[0.3333333333333333,\"#9c179e\"],[0.4444444444444444,\"#bd3786\"],[0.5555555555555556,\"#d8576b\"],[0.6666666666666666,\"#ed7953\"],[0.7777777777777778,\"#fb9f3a\"],[0.8888888888888888,\"#fdca26\"],[1.0,\"#f0f921\"]],\"type\":\"histogram2d\"}],\"histogram2dcontour\":[{\"colorbar\":{\"outlinewidth\":0,\"ticks\":\"\"},\"colorscale\":[[0.0,\"#0d0887\"],[0.1111111111111111,\"#46039f\"],[0.2222222222222222,\"#7201a8\"],[0.3333333333333333,\"#9c179e\"],[0.4444444444444444,\"#bd3786\"],[0.5555555555555556,\"#d8576b\"],[0.6666666666666666,\"#ed7953\"],[0.7777777777777778,\"#fb9f3a\"],[0.8888888888888888,\"#fdca26\"],[1.0,\"#f0f921\"]],\"type\":\"histogram2dcontour\"}],\"mesh3d\":[{\"colorbar\":{\"outlinewidth\":0,\"ticks\":\"\"},\"type\":\"mesh3d\"}],\"parcoords\":[{\"line\":{\"colorbar\":{\"outlinewidth\":0,\"ticks\":\"\"}},\"type\":\"parcoords\"}],\"pie\":[{\"automargin\":true,\"type\":\"pie\"}],\"scatter\":[{\"marker\":{\"colorbar\":{\"outlinewidth\":0,\"ticks\":\"\"}},\"type\":\"scatter\"}],\"scatter3d\":[{\"line\":{\"colorbar\":{\"outlinewidth\":0,\"ticks\":\"\"}},\"marker\":{\"colorbar\":{\"outlinewidth\":0,\"ticks\":\"\"}},\"type\":\"scatter3d\"}],\"scattercarpet\":[{\"marker\":{\"colorbar\":{\"outlinewidth\":0,\"ticks\":\"\"}},\"type\":\"scattercarpet\"}],\"scattergeo\":[{\"marker\":{\"colorbar\":{\"outlinewidth\":0,\"ticks\":\"\"}},\"type\":\"scattergeo\"}],\"scattergl\":[{\"marker\":{\"colorbar\":{\"outlinewidth\":0,\"ticks\":\"\"}},\"type\":\"scattergl\"}],\"scattermapbox\":[{\"marker\":{\"colorbar\":{\"outlinewidth\":0,\"ticks\":\"\"}},\"type\":\"scattermapbox\"}],\"scatterpolar\":[{\"marker\":{\"colorbar\":{\"outlinewidth\":0,\"ticks\":\"\"}},\"type\":\"scatterpolar\"}],\"scatterpolargl\":[{\"marker\":{\"colorbar\":{\"outlinewidth\":0,\"ticks\":\"\"}},\"type\":\"scatterpolargl\"}],\"scatterternary\":[{\"marker\":{\"colorbar\":{\"outlinewidth\":0,\"ticks\":\"\"}},\"type\":\"scatterternary\"}],\"surface\":[{\"colorbar\":{\"outlinewidth\":0,\"ticks\":\"\"},\"colorscale\":[[0.0,\"#0d0887\"],[0.1111111111111111,\"#46039f\"],[0.2222222222222222,\"#7201a8\"],[0.3333333333333333,\"#9c179e\"],[0.4444444444444444,\"#bd3786\"],[0.5555555555555556,\"#d8576b\"],[0.6666666666666666,\"#ed7953\"],[0.7777777777777778,\"#fb9f3a\"],[0.8888888888888888,\"#fdca26\"],[1.0,\"#f0f921\"]],\"type\":\"surface\"}],\"table\":[{\"cells\":{\"fill\":{\"color\":\"#EBF0F8\"},\"line\":{\"color\":\"white\"}},\"header\":{\"fill\":{\"color\":\"#C8D4E3\"},\"line\":{\"color\":\"white\"}},\"type\":\"table\"}]},\"layout\":{\"annotationdefaults\":{\"arrowcolor\":\"#2a3f5f\",\"arrowhead\":0,\"arrowwidth\":1},\"autotypenumbers\":\"strict\",\"coloraxis\":{\"colorbar\":{\"outlinewidth\":0,\"ticks\":\"\"}},\"colorscale\":{\"diverging\":[[0,\"#8e0152\"],[0.1,\"#c51b7d\"],[0.2,\"#de77ae\"],[0.3,\"#f1b6da\"],[0.4,\"#fde0ef\"],[0.5,\"#f7f7f7\"],[0.6,\"#e6f5d0\"],[0.7,\"#b8e186\"],[0.8,\"#7fbc41\"],[0.9,\"#4d9221\"],[1,\"#276419\"]],\"sequential\":[[0.0,\"#0d0887\"],[0.1111111111111111,\"#46039f\"],[0.2222222222222222,\"#7201a8\"],[0.3333333333333333,\"#9c179e\"],[0.4444444444444444,\"#bd3786\"],[0.5555555555555556,\"#d8576b\"],[0.6666666666666666,\"#ed7953\"],[0.7777777777777778,\"#fb9f3a\"],[0.8888888888888888,\"#fdca26\"],[1.0,\"#f0f921\"]],\"sequentialminus\":[[0.0,\"#0d0887\"],[0.1111111111111111,\"#46039f\"],[0.2222222222222222,\"#7201a8\"],[0.3333333333333333,\"#9c179e\"],[0.4444444444444444,\"#bd3786\"],[0.5555555555555556,\"#d8576b\"],[0.6666666666666666,\"#ed7953\"],[0.7777777777777778,\"#fb9f3a\"],[0.8888888888888888,\"#fdca26\"],[1.0,\"#f0f921\"]]},\"colorway\":[\"#636efa\",\"#EF553B\",\"#00cc96\",\"#ab63fa\",\"#FFA15A\",\"#19d3f3\",\"#FF6692\",\"#B6E880\",\"#FF97FF\",\"#FECB52\"],\"font\":{\"color\":\"#2a3f5f\"},\"geo\":{\"bgcolor\":\"white\",\"lakecolor\":\"white\",\"landcolor\":\"#E5ECF6\",\"showlakes\":true,\"showland\":true,\"subunitcolor\":\"white\"},\"hoverlabel\":{\"align\":\"left\"},\"hovermode\":\"closest\",\"mapbox\":{\"style\":\"light\"},\"paper_bgcolor\":\"white\",\"plot_bgcolor\":\"#E5ECF6\",\"polar\":{\"angularaxis\":{\"gridcolor\":\"white\",\"linecolor\":\"white\",\"ticks\":\"\"},\"bgcolor\":\"#E5ECF6\",\"radialaxis\":{\"gridcolor\":\"white\",\"linecolor\":\"white\",\"ticks\":\"\"}},\"scene\":{\"xaxis\":{\"backgroundcolor\":\"#E5ECF6\",\"gridcolor\":\"white\",\"gridwidth\":2,\"linecolor\":\"white\",\"showbackground\":true,\"ticks\":\"\",\"zerolinecolor\":\"white\"},\"yaxis\":{\"backgroundcolor\":\"#E5ECF6\",\"gridcolor\":\"white\",\"gridwidth\":2,\"linecolor\":\"white\",\"showbackground\":true,\"ticks\":\"\",\"zerolinecolor\":\"white\"},\"zaxis\":{\"backgroundcolor\":\"#E5ECF6\",\"gridcolor\":\"white\",\"gridwidth\":2,\"linecolor\":\"white\",\"showbackground\":true,\"ticks\":\"\",\"zerolinecolor\":\"white\"}},\"shapedefaults\":{\"line\":{\"color\":\"#2a3f5f\"}},\"ternary\":{\"aaxis\":{\"gridcolor\":\"white\",\"linecolor\":\"white\",\"ticks\":\"\"},\"baxis\":{\"gridcolor\":\"white\",\"linecolor\":\"white\",\"ticks\":\"\"},\"bgcolor\":\"#E5ECF6\",\"caxis\":{\"gridcolor\":\"white\",\"linecolor\":\"white\",\"ticks\":\"\"}},\"title\":{\"x\":0.05},\"xaxis\":{\"automargin\":true,\"gridcolor\":\"white\",\"linecolor\":\"white\",\"ticks\":\"\",\"title\":{\"standoff\":15},\"zerolinecolor\":\"white\",\"zerolinewidth\":2},\"yaxis\":{\"automargin\":true,\"gridcolor\":\"white\",\"linecolor\":\"white\",\"ticks\":\"\",\"title\":{\"standoff\":15},\"zerolinecolor\":\"white\",\"zerolinewidth\":2}}},\"title\":{\"text\":\"Top 10 Games By Installation\"},\"xaxis\":{\"anchor\":\"y\",\"categoryorder\":\"total descending\",\"domain\":[0.0,1.0],\"title\":{\"text\":\"title\"}},\"yaxis\":{\"anchor\":\"x\",\"domain\":[0.0,1.0],\"title\":{\"text\":\"installation_in_million\"}}},                        {\"responsive\": true}                    ).then(function(){\n",
       "                            \n",
       "var gd = document.getElementById('f668f333-2abc-4fac-a136-4c83c52db350');\n",
       "var x = new MutationObserver(function (mutations, observer) {{\n",
       "        var display = window.getComputedStyle(gd).display;\n",
       "        if (!display || display === 'none') {{\n",
       "            console.log([gd, 'removed!']);\n",
       "            Plotly.purge(gd);\n",
       "            observer.disconnect();\n",
       "        }}\n",
       "}});\n",
       "\n",
       "// Listen for the removal of the full notebook cells\n",
       "var notebookContainer = gd.closest('#notebook-container');\n",
       "if (notebookContainer) {{\n",
       "    x.observe(notebookContainer, {childList: true});\n",
       "}}\n",
       "\n",
       "// Listen for the clearing of the current output cell\n",
       "var outputEl = gd.closest('.output');\n",
       "if (outputEl) {{\n",
       "    x.observe(outputEl, {childList: true});\n",
       "}}\n",
       "\n",
       "                        })                };                });            </script>        </div>"
      ]
     },
     "metadata": {},
     "output_type": "display_data"
    }
   ],
   "source": [
    "fig = px.bar(top_10_by_installation, x= 'title', y='installation_in_million', hover_data = top_10_by_installation[['category']], color='category', title='Top 10 Games By Installation')\n",
    "fig.update_layout(xaxis={'categoryorder':'total descending'})\n",
    "fig.show()"
   ]
  },
  {
   "cell_type": "code",
   "execution_count": 41,
   "id": "8f9e57eb",
   "metadata": {
    "execution": {
     "iopub.execute_input": "2021-07-17T21:46:04.742416Z",
     "iopub.status.busy": "2021-07-17T21:46:04.741817Z",
     "iopub.status.idle": "2021-07-17T21:46:04.916656Z",
     "shell.execute_reply": "2021-07-17T21:46:04.917183Z",
     "shell.execute_reply.started": "2021-07-17T21:37:29.048307Z"
    },
    "papermill": {
     "duration": 0.276411,
     "end_time": "2021-07-17T21:46:04.917343",
     "exception": false,
     "start_time": "2021-07-17T21:46:04.640932",
     "status": "completed"
    },
    "tags": []
   },
   "outputs": [
    {
     "data": {
      "text/html": [
       "<div>                            <div id=\"b561b27a-5dc9-4973-9def-12e3ec909849\" class=\"plotly-graph-div\" style=\"height:525px; width:100%;\"></div>            <script type=\"text/javascript\">                require([\"plotly\"], function(Plotly) {                    window.PLOTLYENV=window.PLOTLYENV || {};                                    if (document.getElementById(\"b561b27a-5dc9-4973-9def-12e3ec909849\")) {                    Plotly.newPlot(                        \"b561b27a-5dc9-4973-9def-12e3ec909849\",                        [{\"customdata\":[[\"Garena Free Fire - The Cobra\",500.0],[\"PUBG MOBILE: Graffiti Prank\",100.0],[\"Mobile Legends: Bang Bang\",100.0],[\"Brawl Stars\",100.0],[\"Sniper 3D: Fun Free Online FPS Shooting Game\",100.0],[\"Shadow Fight 2\",100.0],[\"Call of Duty\\u00ae: Mobile - Day of Reckoning\",100.0],[\"Among Us\",100.0],[\"Temple Run 2\",500.0],[\"PUBG MOBILE LITE\",100.0],[\"slither.io\",100.0],[\"Gangstar Vegas: World of Crime\",100.0],[\"Pixel Gun 3D: FPS Shooter & Battle Royale\",100.0],[\"Bowmasters\",100.0],[\"Standoff 2\",50.0],[\"Crossy Road\",100.0],[\"Banana Kong\",100.0],[\"Garena Li\\u00ean Qu\\u00e2n Mobile\",50.0],[\"Helix Jump\",100.0],[\"War Robots. 6v6 Tactical Multiplayer Battles\",50.0],[\"MORTAL KOMBAT: The Ultimate Fighting Game!\",50.0],[\"Agar.io\",100.0],[\"Last Day on Earth: Survival\",50.0],[\"DEER HUNTER CLASSIC\",100.0],[\"Modern Combat 5: eSports FPS\",100.0],[\"Kick the Buddy\",100.0],[\"DEAD TRIGGER 2 - Zombie Game FPS shooter\",50.0],[\"Marvel Contest of Champions\",100.0],[\"Mini Militia - Doodle Army 2\",100.0],[\"Garena RoV: Songkran\",10.0],[\"CATS: Crash Arena Turbo Stars\",50.0],[\"Call of Duty\\u00ae: Mobile - Garena\",10.0],[\"Injustice: Gods Among Us\",10.0],[\"Swamp Attack\",100.0],[\"GUNSHIP BATTLE: Helicopter 3D\",50.0],[\"Real Steel World Robot Boxing\",50.0],[\"World War Heroes: WW2 FPS\",50.0],[\"Critical Ops: Online Multiplayer FPS Shooting Game\",50.0],[\"A LINE Rangers/Crayon Shinchan tower defense RPG!\",10.0],[\"Six-Guns: Gang Showdown\",10.0],[\"Cover Fire: Offline Shooting Games\",50.0],[\"DEAD TARGET: Zombie Offline - Shooting Games\",100.0],[\"FRONTLINE COMMANDO: D-DAY\",10.0],[\"Worms Zone .io - Voracious Snake\",100.0],[\"Mario Kart Tour\",50.0],[\"Gods of Boom - Online PvP Action\",50.0],[\"RULES OF SURVIVAL\",50.0],[\"Hunter Assassin\",100.0],[\"Zombie Catchers - love the hunt!\",100.0],[\"Into the Dead\",50.0],[\"Respawnables \\u2013 Online PVP Battles\",10.0],[\"Modern Strike Online: Free PvP FPS shooting game\",50.0],[\"Block Strike\",10.0],[\"Blitz Brigade - Online FPS fun\",10.0],[\"Super Mario Run\",100.0],[\"Archero\",50.0],[\"N.O.V.A. Legacy\",50.0],[\"Tomb of the Mask\",100.0],[\"DINO HUNTER: DEADLY SHORES\",50.0],[\"DEAD TRIGGER - Offline Zombie Shooter\",10.0],[\"Johnny Trigger - Action Shooting Game\",100.0],[\"PPSSPP - PSP emulator\",100.0],[\"Robbery Bob\",100.0],[\"Hide Online - Hunters vs Props\",50.0],[\"Soul Knight\",50.0],[\"Creative Destruction\",10.0],[\"aquapark.io\",100.0],[\"Bomber Friends\",50.0],[\"Anger of stick 5 : zombie\",100.0],[\"Modern Sniper\",50.0],[\"DRAGON BALL LEGENDS\",10.0],[\"Nebulous.io\",50.0],[\"War Machines: Tank Battle - Army & Military Games\",100.0],[\"Garena AOV: Link Start\",10.0],[\"Sea Battle 2\",10.0],[\"DRAGON BALL Z DOKKAN BATTLE\",10.0],[\"FRAG Pro Shooter\",50.0],[\"Angry Gran Run - Running Game\",50.0],[\"PUBG MOBILE\",10.0],[\"Deer Hunter 2018\",50.0],[\"Rope Hero: Vice Town\",100.0],[\"Sniper Fury: Online 3D FPS & Sniper Shooter Game\",50.0],[\"FRONTLINE COMMANDO 2\",10.0],[\"Battlelands Royale\",10.0],[\"Arena of Valor: 5v5 Arena Game\",10.0],[\"Real Gangster Crime\",100.0],[\"Legacy of Discord-FuriousWings\",10.0],[\"BombSquad\",10.0],[\"Talking Tom Hero Dash - Run Game\",100.0],[\"PUBG MOBILE VN \\u2013 GRAFFITI PRANK\",10.0],[\"Crisis Action: 5th Anniversary\",10.0],[\"Hitman Sniper\",10.0],[\"Miraculous Ladybug & Cat Noir\",100.0],[\"Beat the Boss 3\",10.0],[\"Flippy Knife\",10.0],[\"BLOOD & GLORY\",10.0],[\"Bus Rush\",100.0],[\"Injustice 2\",10.0],[\"Zooba: Free-for-all Zoo Combat Battle Royale Games\",10.0],[\"NARUTO X BORUTO NINJA VOLTAGE\",10.0]],\"hovertemplate\":\"category=GAME ACTION<br>total ratings=%{x}<br>5 star ratings=%{y}<br>title=%{customdata[0]}<br>installation_in_million=%{customdata[1]}<extra></extra>\",\"legendgroup\":\"GAME ACTION\",\"marker\":{\"color\":\"#636efa\",\"symbol\":\"circle\"},\"mode\":\"markers\",\"name\":\"GAME ACTION\",\"showlegend\":true,\"type\":\"scattergl\",\"x\":[80678661,35971961,25836869,17181659,14237554,14048931,13020115,11298789,9554877,7392911,6475640,6203689,5651287,5245027,4457338,4456347,4448938,4443546,4260419,4193941,4162892,4097530,4092418,3986647,3480214,3138199,3122764,3095661,3065898,3009445,2644544,2548363,2535575,2454177,2373080,2360988,2346568,2251406,2128244,2080344,2020959,1974616,1973715,1965892,1919424,1858700,1818951,1738922,1737515,1708074,1653621,1601034,1599574,1598893,1571129,1514729,1499748,1495928,1492125,1476615,1418200,1370578,1295371,1268708,1253803,1238814,1224373,1205751,1201003,1189784,1171463,1159018,1134823,1104922,1098902,1057009,1038486,1035927,1025527,1022335,1011865,1008274,997973,987047,954496,940558,933455,894527,893456,878929,873891,848831,820081,809795,801878,799803,798738,798721,778052,776957],\"xaxis\":\"x\",\"y\":[61935712,26670566,17850942,12493668,9657878,11532143,10079925,6173970,6521348,5231571,4089508,4466149,3855710,4170692,3611434,3378135,3440564,3055909,2654404,2635805,2838747,2501119,2957405,2777555,2358135,2113861,2332450,2083084,2082550,2244023,1934943,1820998,1880942,1836934,1580784,1848725,1845954,1549864,1513093,1401485,1576195,1466866,1282907,1422180,1234779,1161298,1180853,1174773,1302473,1304290,1168969,1198546,1038466,999022,865924,1071149,936132,1080306,1095921,1101314,1072395,1010261,990050,975386,966279,878737,796909,850596,888793,774203,796378,818030,675581,743189,877180,795246,779321,771626,788638,639683,720898,637973,715952,609541,503466,653656,624684,651347,658104,618177,551341,607502,610132,626256,509210,487636,565576,530371,490242,521328],\"yaxis\":\"y\"},{\"customdata\":[[\"Roblox\",100.0],[\"Pok\\u00e9mon GO\",100.0],[\"Criminal Case\",100.0],[\"\\ucfe0\\ud0a4\\ub7f0 for Kakao\",10.0],[\"Harry Potter: Hogwarts Mystery\",50.0],[\"Kiloblocks Lite\",100.0],[\"PK XD - Explore and Play with your Friends!\",50.0],[\"Mini World: Block Art\",50.0],[\"BADLAND\",10.0],[\"Ice Age Adventures\",50.0],[\"Genshin Impact\",10.0],[\"Clumsy Ninja\",10.0],[\"The Walking Dead: Season One\",10.0],[\"Benji Bananas\",50.0],[\"KIM KARDASHIAN: HOLLYWOOD\",10.0],[\"Hidden City: Hidden Object Adventure\",10.0],[\"Family Guy The Quest for Stuff\",10.0],[\"Growtopia\",10.0],[\"The Secret Society - Hidden Objects Mystery\",5.0],[\"Murder in the Alps\",10.0],[\"June's Journey - Hidden Objects\",10.0],[\"Tiny Miner\",5.0],[\"Rayman Adventures\",10.0],[\"Swordigo\",10.0],[\"The Walking Dead: Season Two\",10.0],[\"Eyes: Scary Thriller - Creepy Horror Game\",10.0],[\"WorldCraft: 3D Build & Block Craft\",10.0],[\"ARK: Survival Evolved\",10.0],[\"Sonic Forces \\u2013 Multiplayer Racing & Battle Game\",50.0],[\"Beggar Life - Clicker adventure\",5.0],[\"RealmCraft with Skins Export to Minecraft\",50.0],[\"Animation Throwdown: The Collectible Card Game\",10.0],[\"Knives Out-No rules, just fight!\",10.0],[\"Jurassic World Alive\",10.0],[\"House Designer : Fix & Flip\",50.0],[\"Seekers Notes: Hidden Mystery\",10.0],[\"Crab War : Idle Swarm Evolution\",5.0],[\"Cyber Hunter\",10.0],[\"Mystery Manor: hidden objects\",10.0],[\"Diggy's Adventure: Mine Maze Levels & Pipe Puzzles\",10.0],[\"Ninja Arashi\",10.0],[\"LONEWOLF (17+) - a Sniper Story\",10.0],[\"Monster Warlord\",10.0],[\"Ingress Prime\",10.0],[\"Super Bob's World : Free Run Game\",100.0],[\"Hidden Hotel: Miami Mystery\",10.0],[\"Survivors: The Quest\",1.0],[\"Hard Time (Prison Sim)\",10.0],[\"Draw a Stickman: EPIC 2\",10.0],[\"Adventure Escape: Asylum\",1.0],[\"Transformers: RobotsInDisguise\",10.0],[\"Westland Survival - Be a survivor in the Wild West\",10.0],[\"Ghost Town Adventures: Mystery Riddles Game\",10.0],[\"Terraria\",1.0],[\"Piggy Boom-Be the coin master\",10.0],[\"KENDALL & KYLIE\",5.0],[\"Shipwrecked:Castaway Island\",10.0],[\"Harry Potter: Wizards Unite\",10.0],[\"Masha and the Bear Child Games\",50.0],[\"Pearl's Peril - Hidden Object Game\",10.0],[\"Manor Matters\",10.0],[\"Mirrors of Albion\",10.0],[\"Hollywood Story: Fashion Star\",10.0],[\"Diamond Quest: Don't Rush!\",10.0],[\"Hello Neighbor\",10.0],[\"Super Bino Go - New Adventure Game\",50.0],[\"Ninja warrior: legend of adventure games\",10.0],[\"Devil Ninja 2\",10.0],[\"Stormfall: Saga of Survival\",10.0],[\"\\ud68c\\uc0c9\\ub3c4\\uc2dc for Kakao\",1.0],[\"Crafting and Building\",10.0],[\"LEGO\\u00ae Star Wars\\u2122: TFA\",10.0],[\"Tinker Island - Survival Story Adventure\",5.0],[\"\\ufeffDragon Land\",10.0],[\"The Island Castaway: Lost World\\u00ae\",1.0],[\"Criminal Case: Pacific Bay\",10.0],[\"The Wolf Among Us\",5.0],[\"Dead Ninja Mortal Shadow\",5.0],[\"Egg Wars\",10.0],[\"BlockStarPlanet\",10.0],[\"Draw a Stickman: EPIC Free\",10.0],[\"Benji Bananas Adventures\",10.0],[\"Hotel Transylvania Adventures - Run, Jump, Build!\",10.0],[\"Street Chaser\",50.0],[\"Survival Island: EVO 2\",10.0],[\"Seven - Deadly Revelation - Horror Chat Adventure\",1.0],[\"FPS Commando Secret Mission - Free Shooting Games\",100.0],[\"Zoo 2: Animal Park\",10.0],[\"3D Maze / Labyrinth\",10.0],[\"CASE: Animatronics - Horror game\",5.0],[\"Super City (Superhero Sim)\",10.0],[\"Spider Rope Hero - Gangster New York City\",10.0],[\"Adventure Time: Heroes of Ooo\",10.0],[\"Friendzoned\",1.0],[\"Nobodies: Murder Cleaner\",5.0],[\"Stranger Things: The Game\",5.0],[\"Homicide Squad: New York Cases\",1.0],[\"Futurama: Worlds of Tomorrow\",5.0],[\"Jurassic Survival Island: Dinosaurs & Craft\",10.0],[\"Critical Action :Gun Strike Ops - Shooting Game\",50.0]],\"hovertemplate\":\"category=GAME ADVENTURE<br>total ratings=%{x}<br>5 star ratings=%{y}<br>title=%{customdata[0]}<br>installation_in_million=%{customdata[1]}<extra></extra>\",\"legendgroup\":\"GAME ADVENTURE\",\"marker\":{\"color\":\"#EF553B\",\"symbol\":\"circle\"},\"mode\":\"markers\",\"name\":\"GAME ADVENTURE\",\"showlegend\":true,\"type\":\"scattergl\",\"x\":[20649769,14401261,4262608,2554945,2183778,2078790,2046025,1914819,1582368,1432424,1342587,1279506,1276224,1161941,1094556,1062176,1007655,1006633,891343,803896,798250,753183,730263,720821,675179,654364,634709,617412,597627,545364,530531,528493,526011,521392,520995,519820,491712,487043,479435,478211,463875,436080,434987,426482,416848,389233,367520,342591,337032,328964,324834,323953,320368,317546,316853,316647,316364,313922,308061,303491,302428,302308,286528,273036,272140,272066,271446,269698,256133,255190,252579,244086,243187,239690,235665,235645,235280,234999,231968,229193,227666,220028,215484,214252,211749,209977,208707,198684,195093,194323,186843,184346,183775,181950,180214,177399,174459,173518,170530,169716],\"xaxis\":\"x\",\"y\":[16057759,9302104,3262514,1728847,1621294,1165956,1506076,1416003,1212289,947480,1055821,933667,990679,850589,755487,662101,588610,535514,530828,480374,550170,584387,550358,592379,525957,487793,334924,386395,451959,370907,360272,369221,260354,368121,337935,323970,364394,309857,343892,329088,358740,331200,282326,188123,295844,255521,203815,210465,205418,229461,237449,229877,205171,264563,255161,237365,260935,150171,217484,205958,219395,209903,199804,199015,179442,181050,205096,199868,159901,160537,183569,152013,157652,172113,139937,177063,180021,179842,162130,138146,138400,157365,158241,145750,119993,147758,140853,133728,98565,150446,133402,142535,126910,147853,132974,140060,115451,103163,110047,111103],\"yaxis\":\"y\"},{\"customdata\":[[\"Subway Surfers\",1000.0],[\"Hungry Shark Evolution - Offline survival game\",100.0],[\"Geometry Dash Lite\",100.0],[\"Zombie Tsunami\",100.0],[\"Angry Birds Classic\",100.0],[\"Fruit Ninja\\u00ae\",100.0],[\"Sonic Dash - Endless Running & Racing Game\",100.0],[\"Jetpack Joyride\",100.0],[\"Temple Run\",500.0],[\"Smash Hit\",100.0],[\"Cooking Fever\",100.0],[\"Minecraft\",10.0],[\"Vector\",100.0],[\"Granny\",100.0],[\"DragonFlight\",10.0],[\"Red Ball 4\",100.0],[\"Block Craft 3D: Building Simulator Games For Free\",100.0],[\"Minecraft Trial\",100.0],[\"Cooking Madness - A Chef's Restaurant Games\",100.0],[\"Galaxy Attack: Alien Shooter\",100.0],[\"Blockman Go\",50.0],[\"Paper.io 2\",100.0],[\"Angry Birds Transformers\",50.0],[\"Hungry Shark World\",100.0],[\"Glow Hockey\",100.0],[\"Geometry Dash Meltdown\",50.0],[\"Angry Birds Seasons\",100.0],[\"\\uc708\\ub4dc\\ub7ec\\ub108\",10.0],[\"Crowd City\",100.0],[\"Brothers in Arms\\u00ae 3\",10.0],[\"Tank Stars\",100.0],[\"Rise Up\",100.0],[\"Join Clash 3D\",100.0],[\"Payback 2 - The Battle Sandbox\",100.0],[\"Angry Birds Space\",100.0],[\"Skater Boy\",100.0],[\"Ant Smasher\",100.0],[\"Partymasters - Fun Idle Game\",50.0],[\"Tap Tap Dash\",50.0],[\"101-in-1 Games\",10.0],[\"Doodle Jump\",50.0],[\"Hole.io\",100.0],[\"Zombie Roadkill 3D\",50.0],[\"Lep's World 2 \\ud83c\\udf40\\ud83c\\udf40\",100.0],[\"Rider\",50.0],[\"Lep's World \\ud83c\\udf40\",100.0],[\"Angry Birds Friends\",100.0],[\"Dan the Man: Action Platformer\",10.0],[\"Rail Rush\",50.0],[\"Geometry Dash World\",50.0],[\"Lep's World 3 \\ud83c\\udf40\\ud83c\\udf40\\ud83c\\udf40\",50.0],[\"Knife Hit\",100.0],[\"Zombie Smasher\",50.0],[\"Cookie Run: OvenBreak - Endless Running Platformer\",10.0],[\"PAC-MAN\",100.0],[\"Stack Ball - Blast through platforms\",100.0],[\"Stickman Party: 1 2 3 4 Player Games Free\",50.0],[\"Subway Princess Runner\",100.0],[\"Multiplayer for Minecraft PE - MCPE Servers\",10.0],[\"Vector 2\",50.0],[\"1945 airforce - Free arcade shooting games\",50.0],[\"Geometry Dash\",1.0],[\"Jewels Switch\",10.0],[\"Granny: Chapter Two\",50.0],[\"Stick Hero\",10.0],[\"Zombie High School\",10.0],[\"Stupid Zombies\",50.0],[\"Sky Whale\",10.0],[\"LokiCraft\",50.0],[\"Draw it\",50.0],[\"Fernanfloo\",10.0],[\"Sky Roller\",100.0],[\"Geometry Dash SubZero\",50.0],[\"Space shooter - Galaxy attack - Galaxy shooter\",50.0],[\"Cartoon Wars\",10.0],[\"Run\",10.0],[\"Snake VS Block\",50.0],[\"Zombie World War\",10.0],[\"My Boy! Free - GBA Emulator\",10.0],[\"Daddy Long Legs\",10.0],[\"Burrito Bison: Launcha Libre\",10.0],[\"Bricks Ball Crusher\",10.0],[\"Stickman Hook\",50.0],[\"Falcon Squad: Galaxy Attack - Free shooting games\",50.0],[\"Jewels Legend - Match 3 Puzzle\",10.0],[\"Evil Nun : Scary Horror Game Adventure\",10.0],[\"BBTAN by 111%\",10.0],[\"Prize Claw\",50.0],[\"Monster Dash\",10.0],[\"Polysphere - art of puzzle\",50.0],[\"Ball Blast\",10.0],[\"Will Hero\",10.0],[\"Duet\",10.0],[\"Tigerball\",10.0],[\"Infinite Stairs\",10.0],[\"Sky Force 2014\",10.0],[\"Human Evolution Clicker: Tap and Evolve Life Forms\",10.0],[\"Slendrina:The Cellar (Free)\",10.0],[\"Run Sausage Run!\",100.0],[\"Tank Hero\",10.0]],\"hovertemplate\":\"category=GAME ARCADE<br>total ratings=%{x}<br>5 star ratings=%{y}<br>title=%{customdata[0]}<br>installation_in_million=%{customdata[1]}<extra></extra>\",\"legendgroup\":\"GAME ARCADE\",\"marker\":{\"color\":\"#00cc96\",\"symbol\":\"circle\"},\"mode\":\"markers\",\"name\":\"GAME ARCADE\",\"showlegend\":true,\"type\":\"scattergl\",\"x\":[35305263,7141044,6894310,5855907,5683301,5347039,5324391,4908222,4744985,4570599,4509959,3999232,3380525,3195259,2871537,2292938,2074061,2059766,2025748,1935595,1900342,1896448,1892426,1810956,1790671,1722543,1679883,1580856,1542149,1453883,1422370,1324747,1307348,1266480,1254488,1213324,1205183,1184991,1148773,1135652,1131106,1092786,1080391,1067930,1062728,1053975,1045888,1038482,1035091,1022586,978941,930780,924263,870863,853988,836895,828194,785744,785634,783346,771705,767518,751905,714303,690408,684029,680833,658778,612880,607891,607415,606058,597177,594320,588773,580160,571894,560947,553085,531922,528633,502155,500782,494463,493289,479556,476489,473037,466001,462728,461521,460768,459075,451660,447351,446214,444563,443280,443069,437588],\"xaxis\":\"x\",\"y\":[26840330,5171922,4760684,4238921,4258293,3739784,4215861,3674764,3113811,3383684,3162077,3214765,2400095,2320047,1804118,1761515,1446547,1350585,1648386,1496625,1494493,1116247,1507018,1357022,1173378,1299263,1243088,944862,1053541,1012546,934698,701113,828213,956576,921296,913605,770908,774924,769162,793834,830403,677916,744528,790448,619359,804810,707099,852131,771054,739849,737202,661142,670950,650474,513457,559097,641630,536913,519219,532777,570768,623950,602986,533521,457063,403782,452995,482649,412006,345285,518005,430289,461516,500552,377160,450545,324049,343285,417161,353551,434295,378387,284229,394660,397005,365442,330135,296581,341438,253101,312383,310141,369343,300896,294043,332108,267057,305278,266158,308926],\"yaxis\":\"y\"},{\"customdata\":[[\"Ludo King\\u2122\",500.0],[\"Happy Color\\u2122 \\u2013 Color by Number. Coloring games.\",100.0],[\"101 Y\\u00fczbir Okey Plus\",10.0],[\"Parchisi STAR Online\",50.0],[\"\\ubaa8\\ub450\\uc758\\ub9c8\\ube14\",10.0],[\"Chess Free\",50.0],[\"Chess\",100.0],[\"Okey Plus\",10.0],[\"Paint By Number - Coloring Book & Color by Number\",100.0],[\"Ludo Club - Fun Dice Game\",50.0],[\"Higgs Domino Island-Gaple QiuQiu Poker Game Online\",10.0],[\"Dominoes\",50.0],[\"Checkers\",50.0],[\"Bingo Blitz\\u2122\\ufe0f - Bingo Games\",10.0],[\"Ludo STAR\",10.0],[\"Bingo Bash featuring MONOPOLY: Live Bingo Games\",10.0],[\"Bingo Showdown Free Bingo Games \\u2013 Bingo Live Game\",5.0],[\"Mahjong Titan\",10.0],[\"\\u00c7anak Okey Plus\",10.0],[\"Ludo Star 2\",10.0],[\"Okey\",10.0],[\"Checkers\",100.0],[\"Chess - Play and Learn\",10.0],[\"1LINE \\u2013 One Line with One Touch\",50.0],[\"BINGO!\",10.0],[\"Backgammon Plus\",5.0],[\"LANDLORD TYCOON Business Simulator Investing Game\",5.0],[\"Real Chess\",10.0],[\"Slots: VIP Deluxe Slot Machines Free - Vegas Slots\",5.0],[\"Mahjong Epic\",5.0],[\"Tic Tac Toe\",50.0],[\"Backgammon Free\",10.0],[\"Dominos Online Jogatina: Dominoes Game Free\",10.0],[\"Mahjong City Tours: Free Mahjong Classic Game\",5.0],[\"Bingo Party - Free Classic Bingo Games Online\",5.0],[\"Rento - Dice Board Game Online\",10.0],[\"Snakes & Ladders King\",50.0],[\"Game of Dice\",5.0],[\"Pinball Pro\",10.0],[\"Checkers Online Elite\",10.0],[\"Woody Block Puzzle \\u00ae\",10.0],[\"Good Knight Story\",1.0],[\"Bingo Pop: Free Live Multiplayer Bingo Board Games\",10.0],[\"Backgammon - Narde\",10.0],[\"Tap Color - Color by number. Coloring Game\",10.0],[\"RISK: Global Domination\",10.0],[\"Slots: Epic Jackpot Slots Games Free & Casino Game\",1.0],[\"Onnect - Pair Matching Puzzle\",10.0],[\"Domino Gaple TopFun(Domino QiuQiu):Free dan online\",1.0],[\"Ludo SuperStar\",50.0],[\"C\\u1edd T\\u1ef7 Ph\\u00fa - Co Ty Phu ZingPlay - Board Game\",5.0],[\"Yalla Ludo - Ludo&Domino\",10.0],[\"Mahjong Master\",10.0],[\"Chess - Clash of Kings\",10.0],[\"Colorscapes - Color by Number, Coloring Games\",10.0],[\"Ludo Talent- Online Ludo&Chatroom\",10.0],[\"YAHTZEE\\u00ae With Buddies Dice Game\",10.0],[\"Backgammon Free - Lord of the Board - Table Game\",5.0],[\"Fun 101 Okey\",5.0],[\"Tile Craft - Triple Crush: Puzzle matching game\",5.0],[\"Travelling Millionaire\",5.0],[\"Dice With Buddies\\u2122 Free - The Fun Social Dice Game\",5.0],[\"\\u00c7anak Okey - Mynet\",5.0],[\"Reversi Free\",5.0],[\"Ludo Classic\",10.0],[\"Rummikub\\u00ae\",5.0],[\"Checkers\",10.0],[\"Fleet Battle - Sea Battle\",10.0],[\"Chess\",10.0],[\"Tile Master - Classic Triple Match & Puzzle Game\",50.0],[\"Domino QiuQiu KiuKiu Online(koin gratis)\",1.0],[\"Ludo\",50.0],[\"Tic Tac Toe Free\",10.0],[\"Einstein's Riddle Logic Puzzles\",1.0],[\"Numberzilla - Number Puzzle | Board Game\",10.0],[\"Four In A Line Free\",5.0],[\"Ludo All Star - Play Online Ludo Game & Board Game\",10.0],[\"\\uc778\\uc0dd\\uc5ed\\uc804\\uc737\\ub180\\uc774\",1.0],[\"Slot Casino - Slot Machines\",10.0],[\"Loco Parch\\u00eds - Magic Ludo & Mega dice! USA Vip Bet\",1.0],[\"Carrom 3D\",10.0],[\"Chess Online - Duel friends online!\",5.0],[\"Chess for Android\",10.0],[\"Sudoku Free\",5.0],[\"lichess \\u2022 Free Online Chess\",5.0],[\"Truth or Dare \\u2014 Dirty Party Game for Adults 18+\",5.0],[\"Slots: Fast Fortune Free Casino Slots with Bonus\",1.0],[\"Loto Online\",5.0],[\"Dr. Chess\",1.0],[\"World Chess Championship\",5.0],[\"Domino! The world's largest dominoes community\",5.0],[\"Chess Online\",1.0],[\"Backgammon Live: Play Online Backgammon Free Games\",1.0],[\"Praia Bingo - Bingo Games + Slot + Casino\",5.0],[\"Super Bingo HD\\u2122: Best Free Bingo Games\",1.0],[\"Tile Connect - Free Tile Puzzle & Match Brain Game\",10.0],[\"Okey Extra\",1.0],[\"Dr. Gomoku\",5.0],[\"Ludo Neo-Classic : King of the Dice Game 2020\",10.0],[\"Color by Number: Free Coloring Games - Paint Book\",10.0]],\"hovertemplate\":\"category=GAME BOARD<br>total ratings=%{x}<br>5 star ratings=%{y}<br>title=%{customdata[0]}<br>installation_in_million=%{customdata[1]}<extra></extra>\",\"legendgroup\":\"GAME BOARD\",\"marker\":{\"color\":\"#ab63fa\",\"symbol\":\"circle\"},\"mode\":\"markers\",\"name\":\"GAME BOARD\",\"showlegend\":true,\"type\":\"scattergl\",\"x\":[7048207,2445882,2418516,2063204,1596758,1582025,1514642,1242490,1219836,1208628,1021929,998776,928025,758481,735571,646251,596457,588940,570035,566405,565637,537909,530144,472888,467771,465371,463987,401171,393231,389981,355406,349584,347394,318741,309585,309495,302263,294708,282749,276996,274235,267278,259649,259355,254357,253597,252406,236843,227922,223393,217335,211859,206300,204295,198534,195082,192768,191039,186288,185206,182925,182457,175678,175383,174986,165123,162168,153253,150210,149105,145823,143869,143565,138804,136193,134349,133033,126650,116320,111317,111047,109878,109101,104728,104558,103890,102930,101713,100137,99924,98898,97628,97507,97432,96784,94983,93219,92307,92272,91395],\"xaxis\":\"x\",\"y\":[5000168,1876001,1761313,1525492,666378,1105647,1060550,965860,944530,884572,716387,780172,673962,577133,586766,491446,482591,411456,442106,410189,460107,359579,420563,341542,388433,272186,338050,254575,356432,277481,244641,231256,227594,244001,245490,177871,189211,194903,189857,186192,194695,197485,203767,197295,201149,182725,230419,160741,180762,147106,183715,163153,158982,146764,175060,131997,118188,141982,156286,126059,114344,114198,123134,114173,126431,137759,115060,105501,106642,125696,125960,101786,92301,104877,93277,82044,97866,68153,74055,69436,66708,74315,72389,73648,83048,63403,92461,70873,68495,67221,63985,67743,71134,68369,69024,72273,82594,51992,60808,63844],\"yaxis\":\"y\"},{\"customdata\":[[\"Yu-Gi-Oh! Duel Links\",50.0],[\"Hearthstone\",10.0],[\"Solitaire\",100.0],[\"Solitaire\",100.0],[\"Solitaire\",100.0],[\"World Series of Poker WSOP Free Texas Holdem Poker\",50.0],[\"Live Hold\\u2019em Pro Poker - Free Casino Games\",10.0],[\"Pyramid Solitaire Saga\",10.0],[\"UNO!\\u2122\",50.0],[\"Solitaire Grand Harvest - Free Tripeaks Solitaire\",10.0],[\"Solitaire\",50.0],[\"Solitaire\",50.0],[\"Solitaire\",50.0],[\"Solitaire TriPeaks: Play Free Solitaire Card Games\",10.0],[\"Fairway Solitaire Blast\",5.0],[\"Gin Rummy Plus\",10.0],[\"Spider Solitaire\",10.0],[\"Solitaire\",50.0],[\"Solitaire\",50.0],[\"Solitaire\",50.0],[\"Truco Blyts\",10.0],[\"Poker Games: World Poker Club\",10.0],[\"Deck Heroes: Legacy\",10.0],[\"Legends of Runeterra\",10.0],[\"Durak Online\",10.0],[\"Solitaire!\",10.0],[\"Solitaire\",10.0],[\"Solitaire\",10.0],[\"Poker Heat\\u2122 - Free Texas Holdem Poker Games\",5.0],[\"Solitaire\",10.0],[\"Solitaire\",10.0],[\"Dummy & Toon Poker Texas slot Online Card Game\",5.0],[\"PokerStars: Free Poker Games with Texas Holdem\",10.0],[\"\\ud53c\\ub9dd \\ub274\\ub9de\\uace0 : \\uace0\\uc2a4\\ud1b1\\uc73c\\ub85c \\ub300\\ud55c\\ubbfc\\uad6d 1\\ub4f1\",5.0],[\"Spider Solitaire\",10.0],[\"Order & Chaos Duels\",1.0],[\"Conquian Zingplay: el mejor juego de cartas gratis\",1.0],[\"GWENT: The Witcher Card Game\",1.0],[\"Spades Plus - Card Game\",10.0],[\"Governor of Poker 2 - OFFLINE POKER GAME\",5.0],[\"Callbreak Multiplayer\",50.0],[\"Buraco Canasta Jogatina: Card Games For Free\",10.0],[\"Governor of Poker 3 - Free Texas Holdem Card Games\",5.0],[\"Jawaker Trix, Tarneeb, Baloot, Hand & More\",10.0],[\"Gaple-Domino QiuQiu Poker Capsa Ceme Game Online\",5.0],[\"Texas Hold'em & Omaha Poker: Pokerist\",10.0],[\"Indian Rummy - Play Rummy Game Online\",10.0],[\"RummyCircle - Play Indian Rummy Online | Card Game\",10.0],[\"FreeCell Solitaire\",10.0],[\"Spades Free\",5.0],[\"Absolute Bingo- Free Bingo Games Offline or Online\",10.0],[\"TopFun Domino QiuQiu:Domino99 (KiuKiu)\",5.0],[\"Durak\",5.0],[\"Spades Royale - Best Online Spades Card Games App\",1.0],[\"Solitaire TriPeaks Journey - Free Card Game\",5.0],[\"Scopa - Free Italian Card Game Online\",5.0],[\"Solitaire Arena\",1.0],[\"Mango Capsa Susun\",5.0],[\"Microsoft Solitaire Collection\",5.0],[\"Solitaire\",5.0],[\"Solitaire\",5.0],[\"Solitaire\",5.0],[\"Soccer Spirits\",1.0],[\"Solitaire\",5.0],[\"Solitaire\",5.0],[\"Solitaire\",5.0],[\"Polskie Z\\u0142ote Zdrapki\",1.0],[\"Belote.com - Free Belote Game\",1.0],[\"Truco ZingPlay: Jogo de cartas online gr\\u00e1tis\",1.0],[\"Solitaire\",5.0],[\"Solitaire\",5.0],[\"Solitaire\",5.0],[\"Fairway Solitaire - Card Game\",5.0],[\"Dummy Hero\",1.0],[\"\\u0e44\\u0e1e\\u0e48\\u0e41\\u0e04\\u0e07 - \\u0e21\\u0e35\\u0e14\\u0e31\\u0e21\\u0e21\\u0e35\\u0e48 \\u0e1b\\u0e4a\\u0e2d\\u0e01\\u0e40\\u0e14\\u0e49\\u0e07 \\u0e44\\u0e2e\\u0e42\\u0e25 \\u0e40\\u0e01\\u0e49\\u0e32\\u0e40\\u0e01\",5.0],[\"Solitaire Collection\",5.0],[\"Solitaire Free Game\",5.0],[\"Reigns\",0.5],[\"The Elder Scrolls: Legends\",1.0],[\"Solitaire Classic\",5.0],[\"Spider Solitaire\",10.0],[\"Spider Solitaire\",10.0],[\"Solitaire\",10.0],[\"\\u4e09\\u570b\\u6bba\\u540d\\u5c07\\u50b3\",0.5],[\"Rummy 45 - Remi Etalat\",1.0],[\"Classic Solitaire\",1.0],[\"Eredan Arena PVP\",1.0],[\"\\ub274 \\ud55c\\ud310 \\ub9de\\uace0 (\\ub370\\uc774\\ud130 \\ud544\\uc694\\uc5c6\\ub294 \\ubb34\\ub8cc \\uace0\\uc2a4\\ud1b1)\",1.0],[\"Descarte\",5.0],[\"Spider Solitaire\",10.0],[\"Spider Solitaire\",10.0],[\"Pok\\u00e9mon TCG Online\",5.0],[\"Texas Holdem Poker Pro\",5.0],[\"\\uc560\\ub2c8\\ud321 \\ub9de\\uace0\",1.0],[\"Phase 10: World Tour\",1.0],[\"\\u5927\\u5bcc\\u8c6aBEST\",1.0],[\"\\ud53c\\ub9dd \\uc12f\\ub2e4\",1.0],[\"BlackJack 21 - Online Blackjack multiplayer casino\",5.0],[\"Belote Multiplayer\",1.0],[\"Batak HD - \\u0130nternetsiz Batak\",10.0],[\"LG Smart Truco\",5.0],[\"\\ud55c\\uac8c\\uc784 \\uc2e0\\ub9de\\uace0 : \\ub300\\ud55c\\ubbfc\\uad6d \\uc6d0\\uc870 \\uace0\\uc2a4\\ud1b1\",1.0],[\"Solitaire TriPeaks Adventure - Free Card Game\",1.0],[\"Spider Solitaire\",5.0],[\"Gin Rummy Free\",1.0],[\"Mega Hit Poker: Texas Holdem\",1.0],[\"Solitaire: Super Challenges\",1.0],[\"Solitaire - Make Free Money & Play the Card Game\",1.0],[\"Solitaire\",10.0],[\"Solitaire\",10.0],[\"Solitaire\",10.0],[\"Solitaire\",5.0],[\"Solitaire\",5.0],[\"Solitaire\",5.0],[\"Cribbage Classic\",1.0],[\"Solitaire Tripeaks: Farm Adventure\",1.0],[\"Tien Len - Southern Poker\",10.0],[\"Otogi: Spirit Agents\",1.0],[\"Epic Cards Battle(TCG)\",1.0],[\"Solitaire\",5.0],[\"Solitaire\",5.0],[\"Solitaire\",5.0]],\"hovertemplate\":\"category=GAME CARD<br>total ratings=%{x}<br>5 star ratings=%{y}<br>title=%{customdata[0]}<br>installation_in_million=%{customdata[1]}<extra></extra>\",\"legendgroup\":\"GAME CARD\",\"marker\":{\"color\":\"#FFA15A\",\"symbol\":\"circle\"},\"mode\":\"markers\",\"name\":\"GAME CARD\",\"showlegend\":true,\"type\":\"scattergl\",\"x\":[2095571,1756400,1576348,1576348,1576348,1395524,1120874,1066484,863446,833513,648144,648144,648144,640744,558155,552246,520482,497732,497732,497732,494898,488591,469753,469282,455528,448786,403260,403260,373546,352455,352455,350038,337359,323117,312718,311766,307278,305932,303103,289395,281205,261850,258162,250885,243349,243022,237290,229621,227750,224406,219712,207711,202266,201275,198472,187720,177043,173896,173053,172214,172214,172214,170795,164582,164582,164582,163407,161525,155284,153496,153496,153496,152574,151637,148955,148422,148368,146504,143401,143241,139406,139406,138404,136809,136246,135924,127611,127589,126103,123361,123361,118878,116742,116242,113673,113579,113285,113155,111685,107496,106005,105591,105515,105501,103645,101296,100602,98731,98416,98416,98416,97735,97735,97735,95738,94249,93910,91638,90588,90029,90029,90029],\"xaxis\":\"x\",\"y\":[1533255,962204,1105281,432066,408570,963845,703968,790349,593833,634927,1105281,432066,408570,442260,437316,423267,387835,1105281,432066,408570,347113,399382,342790,376619,277736,314368,297701,241434,279434,297701,241434,257688,226350,183861,245984,205329,256974,242077,237226,182578,181358,174842,185646,213020,200960,158710,154997,151592,166986,153066,172564,140865,146008,167188,150157,115303,121849,97021,131365,135829,121654,120414,112217,135829,121654,120414,123647,108705,117610,135829,121654,120414,113812,102146,123486,123397,134222,108627,86241,113139,103974,92957,111502,91660,115261,101860,97334,76270,82726,103974,92957,83916,71102,58449,77547,63094,75164,84000,63580,67556,68699,62320,93175,80062,66055,74275,69721,66082,65524,82855,78790,65524,82855,78790,67982,70322,66945,59868,56325,65524,82855,78790],\"yaxis\":\"y\"},{\"customdata\":[[\"Zynga Poker \\u2013 Free Texas Holdem Online Card Games\",50.0],[\"Slotomania\\u2122 Free Slots: Casino Slot Machine Games\",50.0],[\"Teen Patti Gold \\u2013 Indian Family Card Game\",50.0],[\"Teen Patti by Octro - Indian Poker Card Game\",50.0],[\"Coin Dozer: Sweepstakes\",50.0],[\"House of Fun: Free Casino Slots & Casino Games\",10.0],[\"Scatter Slots - Las Vegas Casino Game 777 Online\",10.0],[\"Lucky Day - Win Real Rewards\",10.0],[\"Jackpot Party Casino Games: Spin FREE Casino Slots\",10.0],[\"Cash Frenzy\\u2122 Casino \\u2013 Free Slots Games\",10.0],[\"myVEGAS Slots: Las Vegas Casino Games & Slots\",10.0],[\"Huuuge Casino Slots - Best Slot Machines\",10.0],[\"DoubleU Casino - Free Slots\",10.0],[\"Jackpot Slot Machines - Slots Era\\u2122 Vegas Casino\",5.0],[\"Caesars Casino: Casino & Slots For Free\",10.0],[\"DH Texas Poker - Texas Hold'em\",10.0],[\"Gold Fish Casino Slots - FREE Slot Machine Games\",5.0],[\"BLACKJACK!\",10.0],[\"Hit it Rich! Lucky Vegas Casino Slot Machine Game\",5.0],[\"Wizard of Oz Free Slots Casino\",10.0],[\"Dummy \\u0e14\\u0e31\\u0e21\\u0e21\\u0e35\\u0e48 \\u0e44\\u0e1e\\u0e48\\u0e41\\u0e04\\u0e07 \\u0e40\\u0e01\\u0e21\\u0e44\\u0e1e\\u0e48\\u0e1f\\u0e23\\u0e35\",10.0],[\"Full House Casino - Free Vegas Slots Machine Games\",5.0],[\"Slots (Golden HoYeah) - Casino Slots\",10.0],[\"Luxy Poker-Online Texas Holdem\",5.0],[\"Vegas Slots - DoubleDown Casino\",10.0],[\"Big Fish Casino - Play Slots and Casino Games\",10.0],[\"Texas HoldEm Poker Deluxe\",10.0],[\"\\u0e40\\u0e01\\u0e49\\u0e32\\u0e40\\u0e01\\u0e44\\u0e17\\u0e22\",10.0],[\"Big Time Cash. Make Money Free\",10.0],[\"Cashman Casino: Casino Slots Machines! 2M Free!\",10.0],[\"Slots: Heart of Vegas\\u2122 \\u2013 Free Casino Slots Games\",10.0],[\"Casino Jackpot Slots - Infinity Slots\\u2122 777 Game\",1.0],[\"my KONAMI Slots - Casino Games & Fun Slot Machines\",5.0],[\"Tycoon Casino Free Slots: Vegas Slot Machine Games\",5.0],[\"POP! Slots \\u2122- Free Vegas Casino Slot Machine Games\",10.0],[\"GSN Casino: New Slots and Casino Games\",10.0],[\"Slots Pharaoh's Way Casino Games & Slot Machine\",10.0],[\"Ti\\u1ebfn l\\u00ean Mi\\u1ec1n Nam - Ti\\u1ebfn L\\u00ean - tien len - ZingPlay\",10.0],[\"\\u9ebb\\u5c07 \\u660e\\u661f3\\u7f3a1\\u9ebb\\u5c07\\u2013\\u53f0\\u706316\\u5f35\\u9ebb\\u5c07Mahjong \\u3001SLOT\\u3001Poker\",5.0],[\"Lotsa Slots - Free Vegas Casino Slot Machines\",10.0],[\"Club Vegas 2021: New Slots Games & Casino bonuses\",5.0],[\"Billionaire Casino Slots - The Best Slot Machines\",10.0],[\"Quick Hit Casino Games - Free Casino Slots Games\",10.0],[\"NEW SLOTS 2021\\uff0dfree casino games & slot machines\",5.0],[\"Jackpot World\\u2122 - Free Vegas Casino Slots\",5.0],[\"\\u795e\\u4f86\\u4e5f\\u9ebb\\u5c07\\uff0d\\u9ebb\\u5c07\\u3001\\u9ebb\\u96c0\",5.0],[\"GAMEE Prizes - Play Free Games, WIN REAL CASH!\",10.0],[\"Tongits Go - The Best Card Game Online\",10.0],[\"\\u0e44\\u0e1e\\u0e48\\u0e40\\u0e17\\u0e47\\u0e01\\u0e0b\\u0e31\\u0e2a\\u0e42\\u0e1a\\u0e22\\u0e48\\u0e32-Boyaa Texas Poker \\u0e42\\u0e1b\\u0e4a\\u0e01\\u0e40\\u0e01\\u0e2d\\u0e23\\u0e4c\\u0e21\\u0e37\\u0e2d\\u0e42\\u0e1b\\u0e23\",5.0],[\"Gaminator Casino Slots - Play Slot Machines 777\",5.0],[\"GameTwist Casino Slots: Play Vegas Slot Machines\",10.0],[\"Double Win Casino Slots - Free Video Slots Games\",1.0],[\"UTP - Ultimate Teen Patti (3 Patti)\",10.0],[\"Free Slot Machines with Bonus Games!\",5.0],[\"Hot Shot Casino Free Slots Games: Real Vegas Slots\",5.0],[\"Slot Machines - Free Vegas Slots Casino\",5.0],[\"Bingo Tycoon\",10.0],[\"Coin Dozer: Casino\",5.0],[\"Willy Wonka Slots Free Casino\",1.0],[\"MONOPOLY Slots Free Slot Machines & Casino Games\",5.0],[\"88 Fortunes Casino Games & Free Slot Machine Games\",1.0],[\"Slots Free - Big Win Casino\\u2122\",5.0],[\"Pmang Poker : Casino Royal\",5.0],[\"Slots Casino - Jackpot Mania\",5.0],[\"Roulette Royale - FREE Casino\",10.0],[\"Slotpark - Online Casino Games & Free Slot Machine\",5.0],[\"Bingo by Alisa - Free Live Multiplayer Bingo Games\",1.0],[\"Poker Texas Boyaa\",5.0],[\"Let's Vegas Slots - Casino Slots\",1.0],[\"Scratch Day\",5.0],[\"Slot Machine - FREE Casino\",10.0],[\"C\\u1ed5ng game ZingPlay - Game b\\u00e0i - Game c\\u1edd - Ti\\u1ebfn l\\u00ean\",10.0],[\"Slots: Get Rich Free Slots Casino Games Offline\",1.0],[\"Blackjack 21\",1.0],[\"\\u0e44\\u0e2e\\u0e42\\u0e25\\u0e1e\\u0e37\\u0e49\\u0e19\\u0e1a\\u0e49\\u0e32\\u0e19 Hilo - \\u0e23\\u0e27\\u0e21\\u0e40\\u0e01\\u0e21\\u0e14\\u0e31\\u0e21\\u0e21\\u0e35\\u0e48 \\u0e44\\u0e2e\\u0e42\\u0e25 \\u0e44\\u0e1e\\u0e48\\u0e2a\\u0e25\\u0e32\\u0e1f \\u0e2f\\u0e25\\u0e2f\",1.0],[\"Rock N' Cash Casino Slots -Free Vegas Slot Games\",1.0],[\"Bingo Journey - Lucky & Fun Casino Bingo Games\",1.0],[\"Best Casino Free Slots: Casino Slot Machine Games\",1.0],[\"Jackpot Magic Slots\\u2122: Social Casino & Slot Games\",5.0],[\"Slots Vacation - FREE Slots\",5.0],[\"Free Slots!\",5.0],[\"Stars Slots Casino - HUUUGE casino games\",1.0],[\"Free Slots Casino - Adventures\",1.0],[\"\\u0e44\\u0e1e\\u0e48\\u0e41\\u0e04\\u0e07-\\u0e23\\u0e27\\u0e21\\u0e14\\u0e31\\u0e21\\u0e21\\u0e35\\u0e48dummy \\u0e1b\\u0e4a\\u0e2d\\u0e01\\u0e40\\u0e14\\u0e49\\u0e07 \\u0e40\\u0e01\\u0e49\\u0e32\\u0e40\\u0e01\\u0e44\\u0e17\\u0e22 \\u0e40\\u0e01\\u0e21\\u0e44\\u0e1e\\u0e48\\u0e1f\\u0e23\\u0e35\",1.0],[\"myVEGAS Blackjack 21 - Free Vegas Casino Card Game\",1.0],[\"Bingo Holiday: Free Bingo Games\",1.0],[\"Cash Storm Casino - Free Vegas Jackpot Slots Games\",1.0],[\"SLOTS - Black Diamond Casino\",1.0],[\"Winning Slots casino games:free vegas slot machine\",5.0],[\"Free Robux Loto 2020\",1.0],[\"\\u0e44\\u0e1e\\u0e48\\u0e40\\u0e17\\u0e47\\u0e01\\u0e0b\\u0e31\\u0e2a\\u0e44\\u0e17\\u0e22 HD\",1.0],[\"Cash Blitz Free Slots: Casino Slot Machine Games\",1.0],[\"Vegas Downtown Slots\\u2122 - Slot Machines & Word Games\",1.0],[\"Jackpot Poker by PokerStars\\u2122 \\u2013 FREE Poker Online\",1.0],[\"Vegas Friends - Casino Slots for Free\",1.0],[\"Bingo\\u2122\",5.0],[\"Slots on Tour Casino - Vegas Slot Machine Games HD\",0.5],[\"\\u0e14\\u0e31\\u0e21\\u0e21\\u0e35\\u0e48\\u0e44\\u0e17\\u0e22\\u0e41\\u0e25\\u0e19\\u0e14\\u0e4c-\\u0e23\\u0e27\\u0e21\\u0e44\\u0e1e\\u0e48\\u0e41\\u0e04\\u0e07 \\u0e40\\u0e01\\u0e49\\u0e32\\u0e40\\u0e01 \\u0e44\\u0e2e\\u0e42\\u0e25 \\u0e40\\u0e01\\u0e21\\u0e44\\u0e1e\\u0e48\\u0e1f\\u0e23\\u0e35\",1.0],[\"Spin Day - Win Real Money\",1.0],[\"Old Vegas Slots \\u2013 Classic Slots Casino Games\",1.0]],\"hovertemplate\":\"category=GAME CASINO<br>total ratings=%{x}<br>5 star ratings=%{y}<br>title=%{customdata[0]}<br>installation_in_million=%{customdata[1]}<extra></extra>\",\"legendgroup\":\"GAME CASINO\",\"marker\":{\"color\":\"#19d3f3\",\"symbol\":\"circle\"},\"mode\":\"markers\",\"name\":\"GAME CASINO\",\"showlegend\":true,\"type\":\"scattergl\",\"x\":[2563915,1792212,1498979,1487569,1476587,1395163,1235181,1002202,907446,811503,748641,747773,656331,638226,605951,583401,553700,544602,490612,477941,466565,454806,427360,419956,417288,402257,401779,393594,393075,383237,374996,367139,346951,326484,323374,316657,316103,302091,289796,289540,272210,266239,261649,261231,257230,251504,232488,226544,210708,209875,208792,206933,206831,206215,203456,196421,189667,181512,176968,175464,174429,173372,171067,169473,169398,167140,154097,146419,146033,145246,141373,138603,137907,137620,135368,133125,132533,131637,125668,125267,120559,119265,116799,116702,116519,115882,112924,107239,106532,106217,103281,102726,102312,100896,100545,99440,98839,95001,94585,94310],\"xaxis\":\"x\",\"y\":[1814947,1263458,1185864,1080016,1103596,1051216,914805,648706,658045,664863,555658,525806,454055,467998,415148,380202,460009,392347,341161,374056,361433,367099,295449,298409,286103,304175,280763,309026,269406,280190,257625,278020,245762,288491,238209,218480,252622,246164,206958,224239,237403,194536,187296,216166,196111,185875,157836,193676,160491,166629,150606,171828,146519,188876,147321,168530,127862,140249,136961,137808,152778,126641,105459,144188,118927,119330,119094,84888,97688,87790,83170,93435,125159,93065,99806,98052,98883,85194,88624,91547,109036,98550,103602,100686,93670,89246,97965,79670,84301,75028,78185,93248,76788,72149,80849,71902,78485,85841,48360,78573],\"yaxis\":\"y\"},{\"customdata\":[[\"Candy Crush Saga\",1000.0],[\"My Talking Tom\",500.0],[\"My Talking Angela\",500.0],[\"Hay Day\",100.0],[\"Pou\",500.0],[\"Minion Rush: Despicable Me Official Game\",100.0],[\"Gardenscapes\",100.0],[\"Homescapes\",100.0],[\"Farm Heroes Saga\",100.0],[\"Township\",100.0],[\"Candy Crush Soda Saga\",100.0],[\"Plants vs Zombies\\u2122 2 Free\",100.0],[\"Angry Birds 2\",100.0],[\"Coin Master\",100.0],[\"My Cafe \\u2014 Restaurant Game. Serve & Manage\",50.0],[\"The Simpsons\\u2122: Tapped Out\",100.0],[\"LINE Let's Get Rich\",50.0],[\"Pet Rescue Saga\",100.0],[\"My Talking Tom 2\",100.0],[\"Gacha Life\",50.0],[\"Bubble Witch 2 Saga\",100.0],[\"FarmVille 2: Country Escape\",50.0],[\"Talking Tom Cat\",100.0],[\"My Home - Design Dreams\",100.0],[\"Best Fiends - Free Puzzle Game\",50.0],[\"PewDiePie's Tuber Simulator\",10.0],[\"Ice Age Village\",50.0],[\"Dumb Ways to Die 2: The Games\",100.0],[\"My Talking Tom Friends\",100.0],[\"Candy Crush Friends Saga\",50.0],[\"Family Farm Seaside\",50.0],[\"Pirate Kings\\u2122\\ufe0f\",10.0],[\"MY LITTLE PONY: Magic Princess\",50.0],[\"Bubble Shooter\",100.0],[\"My Horse\",10.0],[\"Blossom Blast Saga\",50.0],[\"Diamond Digger Saga\",10.0],[\"Farm Heroes Super Saga\",10.0],[\"My Talking Hank\",100.0],[\"Papa Pear Saga\",50.0],[\"Gacha Club\",10.0],[\"My Boo: Your Virtual Pet Game To Care and Play\",10.0],[\"Burger\",50.0],[\"Smurfs' Village\",10.0],[\"Puppy Town - Merge & Win\",50.0],[\"My Dolphin Show\",50.0],[\"Save The Girl\",100.0],[\"Green Farm 3\",10.0],[\"Rodeo Stampede: Sky Zoo Safari\",10.0],[\"Stickman Warriors\",50.0],[\"Good Pizza, Great Pizza\",50.0],[\"Bubble Shooter\",100.0],[\"Bubbu \\u2013 My Virtual Pet\",50.0],[\"Jewels Star\",50.0],[\"Let's Create! Pottery Lite\",10.0],[\"BTS WORLD\",10.0],[\"Idle Arks: Build at Sea\",10.0],[\"Covet Fashion - Dress Up Game\",10.0],[\"World Chef \\ud83c\\udf70\\ud83c\\udf54\\ud83c\\udf5d\\ud83c\\udf53\",10.0],[\"What if..\",5.0],[\"Virtual Families 2\",10.0],[\"Angry Birds POP Bubble Shooter\",10.0],[\"The Simpsons\\u2122: Tapped Out\",10.0],[\"Tic Tac Toe Glow\",100.0],[\"Wonder Zoo - Animal rescue !\",10.0],[\"Furby BOOM!\",10.0],[\"Plants vs. Zombies\\u2122 2 Free\",10.0],[\"Shopping Mall Girl - Dress Up & Style Game\",50.0],[\"Twist Hit!\",10.0],[\"Plants vs. Zombies\\u2122 Heroes\",10.0],[\"Hello Kitty Nail Salon\",100.0],[\"Moy 3 \\ud83d\\udc19 Virtual Pet Game\",10.0],[\"Fish Live\",10.0],[\"Cow Evolution: Crazy Cow Making Idle Merge Games\",10.0],[\"BlockBuild: Craft Your Dream World\",10.0],[\"Board Kings\\u2122\\ufe0f - Online Multiplayer Board Game\",10.0],[\"Paradise Island 2: Hotel Game\",5.0],[\"Moy 2 \\ud83d\\udc19 Virtual Pet Game\",10.0],[\"Lost Island: Adventure Quest & Magical Tile Match\",10.0],[\"Stupid Zombies 3\",10.0],[\"Idle Sightseeing Train - Game of Train Transport\",1.0],[\"Dumb Ways to Die\",50.0],[\"Farm Town: Happy farming Day & food farm game City\",10.0],[\"Bubble Shooter\",100.0],[\"Bubble Shooter\",100.0],[\"Fruit Block - Puzzle Legend\",10.0],[\"Island Experiment\",10.0],[\"Kiss Kiss: Spin the Bottle for Chatting & Fun\",10.0],[\"Family Island\\u2122 - Farm game adventure\",10.0],[\"Bubble Shooter\",100.0],[\"Bubble Shooter\",100.0],[\"Moy \\ud83d\\udc19 Virtual Pet Game\",10.0],[\"Moy 4 \\ud83d\\udc19 Virtual Pet Game\",10.0],[\"HappyFish\",1.0],[\"Restaurant Story\\u2122\",10.0],[\"Cooking Dash\",10.0],[\"Gacha Studio (Anime Dress Up)\",10.0],[\"Moy 5 - Virtual Pet Game\",10.0],[\"LINE \\u65c5\\u904a\\u5927\\u4ea8\",5.0],[\"Little Big City 2\",10.0],[\"Mini Block Craft\",50.0],[\"Kids Doodle - Color & Draw Free Game\",50.0]],\"hovertemplate\":\"category=GAME CASUAL<br>total ratings=%{x}<br>5 star ratings=%{y}<br>title=%{customdata[0]}<br>installation_in_million=%{customdata[1]}<extra></extra>\",\"legendgroup\":\"GAME CASUAL\",\"marker\":{\"color\":\"#FF6692\",\"symbol\":\"circle\"},\"mode\":\"markers\",\"name\":\"GAME CASUAL\",\"showlegend\":true,\"type\":\"scattergl\",\"x\":[30859251,16715691,12866276,11955303,11449723,10647190,10561106,9950630,9014495,8202126,8005959,6886372,5667376,5482333,4112331,4073314,3980631,3465392,3452778,2963865,2951211,2899465,2229993,2108014,2069636,1997711,1897418,1779823,1675066,1656109,1614657,1427317,1427170,1404198,1377520,1322600,1217145,1130457,1112763,1099414,1079008,1004386,943921,940123,939058,932651,928240,917760,873956,872342,866289,857288,817547,780001,773004,770105,758992,748407,711848,685607,678631,668040,665015,661798,656887,655267,645655,640188,627413,621375,609454,603317,601798,568109,567244,566659,563579,539116,534809,529462,527049,518539,513638,509978,509978,501409,497474,495203,492929,481652,481652,475062,474984,468960,461259,458061,455889,455667,444030,439524,437733,429996],\"xaxis\":\"x\",\"y\":[23521533,12245585,9026260,8872129,8147778,7892782,7477650,6974932,7016344,5628046,5985441,5078987,4013034,4000193,3192359,2656080,2565110,2718524,2533867,2284162,2181705,1990779,1441613,1472413,1639502,1672089,1399020,1265899,1259998,1248261,1195262,1050004,980502,979410,984008,954263,882652,818274,794537,812935,841957,781989,690404,729621,650256,670484,559592,567205,565464,586328,613728,604830,641650,509966,526515,678632,561217,413732,516082,553124,431803,493581,484377,442539,451989,497926,466872,440544,455933,433969,427796,462873,458456,445665,364422,421578,393198,390341,387570,391151,332843,329067,364260,352612,335314,331666,220936,385434,316922,352612,335314,334739,355913,348423,305532,279121,272847,334313,226402,259645,295802,310114],\"yaxis\":\"y\"},{\"customdata\":[[\"Toca Kitchen 2\",100.0],[\"Toca Life World: Build stories & create your world\",50.0],[\"Cooking Mama: Let's cook!\",50.0],[\"\\u77e5\\u8b58\\u738b\",1.0],[\"Animal Jam\",10.0],[\"My Town: Home Doll house - Family Playhouse\",10.0],[\"Mandala Coloring Pages\",50.0],[\"Baby Panda's Supermarket\",100.0],[\"Masha and the Bear. Educational Games\",100.0],[\"Pepi House: Happy Family\",10.0],[\"Pepi Wonder World\",10.0],[\"Math Games, Learn Add, Subtract, Multiply & Divide\",10.0],[\"LEGO\\u00ae DUPLO\\u00ae Train\",10.0],[\"Baby Panda World\",50.0],[\"Pepi Super Stores: Fun & Games\",10.0],[\"Little Panda's Restaurant\",50.0],[\"Baby Panda Care\",50.0],[\"\\u8d85\\u7d1a\\u55ae\\u5b57\\u738b - \\u82f1\\u6aa2\\u3001\\u591a\\u76ca\\u3001\\u6258\\u798f \\u8f15\\u9b06\\u5b78\",0.5],[\"Smolsies - My Cute Pet House\",10.0],[\"Unicorn Chef: Cooking Games for Girls\",10.0],[\"Pepi Hospital: Learn & Care\",10.0],[\"Baby Panda's Fashion Dress Up Game\",50.0],[\"Baby Panda's School Bus - Let's Drive!\",10.0],[\"My Town : Police Station. Policeman Game for Kids\",10.0],[\"Baby Panda\\u2019s Ice Cream Shop\",10.0],[\"Meow Meow Star Acres\",1.0],[\"Truck games for kids - build a house, car wash\",100.0],[\"Baby Games for 2,3,4 year old toddlers\",10.0],[\"Supermarket: Shopping Games for Kids\",10.0],[\"Coloring & Learn\",50.0],[\"Little Panda's Chinese Recipes\",10.0],[\"Fluvsies - A Fluff to Luv\",10.0],[\"\\u0645\\u0646 \\u0633\\u064a\\u0631\\u0628\\u062d \\u0627\\u0644\\u0645\\u0644\\u064a\\u0648\\u0646 \\u0627\\u0644\\u0645\\u0648\\u0633\\u0648\\u0639\\u0629\",10.0],[\"Little Panda Policeman\",50.0],[\"Do Not Disturb! Get Prankster in a Hilarious Game\",10.0],[\"Make-Up Me: Superstar\",10.0],[\"My Town: Play & Discover - City Builder Game\",10.0],[\"Left vs Right: Brain Games for Brain Training\",5.0],[\"Multiplication Table Kids Math\",10.0],[\"MentalUP - Learning Games & Brain Games\",1.0],[\"Math Exercises for the brain, Math Riddles, Puzzle\",5.0],[\"Bee Network:Phone-based Digital Currency\",5.0],[\"Make-Up Me\",10.0],[\"Little Panda\\u2019s Summer: Ice Cream Bars\",10.0],[\"LEGO\\u00ae DUPLO\\u00ae Town\",10.0],[\"Bini Super ABC! Preschool Learning Games for Kids!\",10.0],[\"My Town : Fashion Show\",10.0],[\"Little Panda: Princess Makeup\",10.0],[\"Little Panda's Farm Story\",10.0],[\"Little Panda: Princess Dress Up\",10.0],[\"\\u0421\\u043a\\u0430\\u0437\\u043a\\u0438 \\u0438 \\u0440\\u0430\\u0437\\u0432\\u0438\\u0432\\u0430\\u044e\\u0449\\u0438\\u0435 \\u0438\\u0433\\u0440\\u044b \\u0434\\u043b\\u044f \\u0434\\u0435\\u0442\\u0435\\u0439, \\u043c\\u0430\\u043b\\u044b\\u0448\\u0435\\u0439\",1.0],[\"Reaction training\",1.0],[\"Baby Panda's Carnival - Christmas Amusement Park\",10.0],[\"\\u307b\\u3057\\u306e\\u5cf6\\u306e\\u306b\\u3083\\u3093\\u3053\",1.0],[\"Jungle Animal Hair Salon - Styling Game for Kids\",10.0],[\"Beauty Hair Salon: Fashion SPA\",10.0],[\"Monster Trucks Game for Kids 2\",50.0],[\"Tailor Kids\",10.0],[\"Snow Cone Maker - Frozen Foods\",10.0],[\"My Town : Beauty Pageant - Dress Up Game for Girls\",10.0],[\"Memory Games: Brain Training\",5.0],[\"Moonzy. Kids Mini-Games\",10.0],[\"Urban City Stories\",10.0],[\"Little Panda's Candy Shop\",10.0],[\"Kids Animals Jigsaw Puzzles \\u2764\\ufe0f\\ud83e\\udd84\",10.0],[\"Girls Hair Salon - Hairstyle makeover kids games\",5.0],[\"Kids Educational Game 5\",10.0],[\"Bini Drawing for Kids! Learning Games for Toddlers\",10.0],[\"Trip to the zoo for kids\",5.0],[\"Ice Queen's Beauty SPA Salon\",5.0],[\"Math Games\",10.0],[\"Bucha h\\u1ecdc ti\\u1ebfng Anh - T\\u1eeb v\\u1ef1ng, Giao ti\\u1ebfp, Ng\\u1eef ph\\u00e1p\",1.0],[\"Cinderella - Story Games and Puzzles\",1.0],[\"Baby care\",10.0],[\"ABC Kids - Tracing & Phonics\",10.0],[\"My Town : Best Friends' House games for kids\",5.0],[\"Princess Coloring Book Glitter & Girls Dress Up\",10.0],[\"Baby Panda's Town: Life\",10.0],[\"Libii Dentist\",10.0],[\"Baby Panda\\u2019s Summer: Caf\\u00e9\",10.0],[\"Halloween Makeup Me\",5.0],[\"Baby Panda\\u2019s Color Mixing Studio\",10.0],[\"My Baby Panda Chef\",10.0],[\"Sweet Baby Girl Cleanup 5 - Messy House Makeover\",10.0],[\"Airport Professions: Fascinating games\",10.0],[\"Colors for Kids, Toddlers, Babies - Learning Game\",10.0],[\"Masha and the Bear: Good Night!\",10.0],[\"Animals Farm For Kids\",5.0],[\"My Little Princess Castle - Playhouse & Girls Game\",10.0],[\"\\u0410\\u043d\\u0433\\u043b\\u0438\\u0439\\u0441\\u043a\\u0438\\u0439 \\u0434\\u043b\\u044f \\u041d\\u0430\\u0447\\u0438\\u043d\\u0430\\u044e\\u0449\\u0438\\u0445: LinDuo HD\",1.0],[\"Central Hospital Stories\",10.0],[\"Little Panda\\u2019s Space Kitchen - Kids Cooking\",10.0],[\"Fairy Tales ~ Children\\u2019s Books, Stories and Games\",1.0],[\"Funny Food educational games for kids toddlers\",10.0],[\"Baby Phone - Games for Family, Parents and Babies\",5.0],[\"Madagascar Surf n' Slides Free\",5.0],[\"My Town : Grandparents Play home Fun Life Game\",5.0],[\"Baby Panda's Town: My Dream\",10.0],[\"Sweet Baby Girl Summer Fun 2 - Sunny Makeover Game\",10.0],[\"Sweet Baby Girl Daycare\",10.0]],\"hovertemplate\":\"category=GAME EDUCATIONAL<br>total ratings=%{x}<br>5 star ratings=%{y}<br>title=%{customdata[0]}<br>installation_in_million=%{customdata[1]}<extra></extra>\",\"legendgroup\":\"GAME EDUCATIONAL\",\"marker\":{\"color\":\"#B6E880\",\"symbol\":\"circle\"},\"mode\":\"markers\",\"name\":\"GAME EDUCATIONAL\",\"showlegend\":true,\"type\":\"scattergl\",\"x\":[1513301,1320352,749260,571326,515555,433892,331474,284554,201369,197882,192063,188835,185203,184654,181190,166562,158043,156922,153210,152278,146510,142956,140760,136091,135195,135159,133569,132466,128305,124307,123643,121408,119793,119198,117044,106097,106082,106059,103238,97463,96204,92826,90592,90035,89642,85076,83307,81405,81072,81037,80715,79162,78072,77905,75816,75574,75365,75306,75151,74296,72914,70153,68459,68341,67370,65335,64791,63527,62539,62200,62109,61992,61666,61624,61196,57996,57843,57740,57615,57158,56088,55852,55043,54895,53661,52947,52165,51577,51147,50859,50523,50320,50087,49846,49415,49288,49223,48792,48762,48699],\"xaxis\":\"x\",\"y\":[1014871,939834,555043,395439,328964,310372,222142,211215,135299,126824,144208,144308,129717,145021,124157,126840,110431,148058,108230,119489,96771,105098,106728,93045,100721,103440,90218,101940,92392,83409,93467,91132,88505,85935,77434,76034,72267,75230,74370,85024,72413,76045,55785,69615,55931,64689,59048,57877,62452,56822,70467,67538,58938,42599,46408,45294,48466,53460,54461,53487,43203,53978,37348,51490,50050,35732,44440,43289,50570,40010,41722,54610,43238,37561,44376,40743,35613,43385,39247,42791,37761,38852,41292,36679,40785,32205,36434,41757,36374,44723,28316,36062,37257,33433,31361,30717,34402,36202,33603,33325],\"yaxis\":\"y\"},{\"customdata\":[[\"Tiles Hop: EDM Rush!\",100.0],[\"Magic Tiles 3\",100.0],[\"My Singing Monsters\",10.0],[\"Piano Free - Keyboard with Magic Tiles Music Games\",100.0],[\"Just Dance Now\",10.0],[\"Dream Piano - Music Game\",50.0],[\"Rock Hero\",50.0],[\"Dancing Road: Color Ball Run!\",100.0],[\"Real Guitar Free - Chords, Tabs & Simulator Games\",50.0],[\"Cytus\",5.0],[\"DEEMO\",5.0],[\"SongPop\",10.0],[\"Piano Kids - Music & Songs\",100.0],[\"Piano Music Go 2020: EDM Piano Games\",50.0],[\"Music Hero - Rhythm Beat Tap\",10.0],[\"Real Piano Teacher\",10.0],[\"Beat Blade: Dash Dance\",10.0],[\"Beat Fire - EDM Music & Gun Sounds\",10.0],[\"Sonic Cat - Slash the Beats\",10.0],[\"Drum Set Music Games & Drums Kit Simulator\",10.0],[\"BEAT MP3 - Rhythm Game\",10.0],[\"Dancing Ballz: Magic Dance Line Tiles Game\",10.0],[\"Guitar Band Battle\",10.0],[\"AVATAR MUSIK - Music and Dance Game\",5.0],[\"Music Racer\",5.0],[\"BEAT MP3 2.0 - Rhythm Game\",10.0],[\"SuperStar SMTOWN\",5.0],[\"Dot n Beat - Magic Music Game\",10.0],[\"Piano Games - Free Music Piano Challenge 2020\",10.0],[\"Hop Ball 3D: Dancing Ball on the Music Tiles\",50.0],[\"Beat Craft\",5.0],[\"Give It Up! - Jump to the Beat, Follow the Music!\",5.0],[\"One More Line\",5.0],[\"Tap Tap Music-Pop Songs\",10.0],[\"SongPop 2 - Guess The Song\",5.0],[\"My Singing Monsters: Dawn of Fire\",1.0],[\"Smash Colors 3D - Free Beat Color Rhythm Ball Game\",10.0],[\"\\u30d0\\u30f3\\u30c9\\u30ea\\uff01 \\u30ac\\u30fc\\u30eb\\u30ba\\u30d0\\u30f3\\u30c9\\u30d1\\u30fc\\u30c6\\u30a3\\uff01\",1.0],[\"Real Piano\",50.0],[\"Dot n Beat - Test your hand speed\",10.0],[\"Piano Magic Tiles Hot song - Free Piano Game\",10.0],[\"Rhythm Hive\",1.0],[\"Helix Crush\",10.0],[\"Piano Solo - Magic Dream tiles game 4\",10.0],[\"Magic Twist: Twister Music Ball Game\",10.0],[\"Cytus II\",1.0],[\"Just Dance Controller\",10.0],[\"VOEZ\",1.0],[\"\\u30e9\\u30d6\\u30e9\\u30a4\\u30d6\\uff01\\u30b9\\u30af\\u30fc\\u30eb\\u30a2\\u30a4\\u30c9\\u30eb\\u30d5\\u30a7\\u30b9\\u30c6\\u30a3\\u30d0\\u30eb\\uff08\\u30b9\\u30af\\u30d5\\u30a7\\u30b9\\uff09 - \\u5927\\u4eba\\u6c17\\u30ea\\u30ba\\u30e0\\u30b2\\u30fc\\u30e0\",1.0],[\"Au Mobile VTC \\u2013 Game nh\\u1ea3y Audition\",5.0],[\"UniPad\",5.0],[\"TunesHolic\",1.0],[\"BanG Dream! Girls Band Party!\",1.0],[\"Piano Game Classic - Challenge Music Song\",10.0],[\"Drum set\",10.0],[\"Piano Magic Tiles Pop Music 2\",10.0],[\"Piano Master 2\",10.0],[\"SuperStar JYPNATION\",1.0],[\"Piano - Play & Learn Music\",10.0],[\"Arcaea - New Dimension Rhythm Game\",1.0],[\"Piano Games Mini: Music Instrument & Rhythm\",10.0],[\"LIT killah: The Game\",1.0],[\"Rock vs Guitar Legends 2017 HD\",5.0],[\"Love Live! School idol festival - \\u97f3\\u6a02\\u7bc0\\u594f\\u904a\\u6232\",1.0],[\"Beat Bop: Pop Star Clicker\",0.1],[\"Don't Forget the Lyrics\",5.0],[\"\\u30a2\\u30a4\\u30c9\\u30eb\\u30de\\u30b9\\u30bf\\u30fc \\u30b7\\u30f3\\u30c7\\u30ec\\u30e9\\u30ac\\u30fc\\u30eb\\u30ba \\u30b9\\u30bf\\u30fc\\u30e9\\u30a4\\u30c8\\u30b9\\u30c6\\u30fc\\u30b8\",1.0],[\"6ix9ine Runner\",5.0],[\"Drum kit (Drums) free\",10.0],[\"Marshmello Music Dance\",10.0],[\"Tebak Lagu Indonesia\",1.0],[\"Lost in Harmony\",1.0],[\"SHOW BY ROCK!![\\u723d\\u5feb\\u97f3\\u30b2\\u30fc \\u30b7\\u30e7\\u30a6\\u30d0\\u30a4\\u30ed\\u30c3\\u30af\\uff3d\",0.5],[\"Beat Racer\",1.0],[\"Real Piano Teacher 2\",1.0],[\"AyoDance Mobile\",1.0],[\"Piano Fire - EDM Music & New Rhythm\",5.0],[\"Rock Hero 2\",5.0],[\"Popscene (Music Industry Sim)\",1.0],[\"Beat Jumper: EDM up!\",10.0],[\"BeatEVO YG\",1.0],[\"PianoTiles 3\",5.0],[\"FaceDance Challenge!\",1.0],[\"\\u30a2\\u30a4\\u30c9\\u30ea\\u30c3\\u30b7\\u30e5\\u30bb\\u30d6\\u30f3\",0.5],[\"Opsu!(Beatmap player for Android)\",1.0],[\"Mini Piano\",5.0],[\"Au 2 - Chu\\u1ea9n Audition Mobile\",1.0],[\"SuperStar YG\",0.5],[\"YASUHATI / With your voice!\",5.0],[\"AVATAR MUSIK INDONESIA - Social Dancing Game\",1.0],[\"Happy Piano - Touch Music\",1.0],[\"\\ub354\\ubba4\\uc9c0\\uc158\",1.0],[\"Beat Shooter\",5.0],[\"Color Hop 3D - Music Game\",10.0],[\"Piano\",5.0],[\"Viet Piano Tiles New 2020\",1.0],[\"Anime Tiles: Piano Music\",1.0],[\"Project: Muse\",1.0],[\"Pink Piano\",10.0],[\"Beat Blader 3D: Dash and Slash!\",10.0]],\"hovertemplate\":\"category=GAME MUSIC<br>total ratings=%{x}<br>5 star ratings=%{y}<br>title=%{customdata[0]}<br>installation_in_million=%{customdata[1]}<extra></extra>\",\"legendgroup\":\"GAME MUSIC\",\"marker\":{\"color\":\"#FF97FF\",\"symbol\":\"circle\"},\"mode\":\"markers\",\"name\":\"GAME MUSIC\",\"showlegend\":true,\"type\":\"scattergl\",\"x\":[2280709,2246262,1353138,1272670,1083655,660119,639715,636362,604697,570211,551373,403138,374680,374105,372544,362215,299581,282811,264177,251604,239614,238331,235158,229838,216204,208037,198615,189141,165807,159233,157011,150967,149646,138467,138031,129382,127075,126028,125890,123392,117454,116128,112497,112418,110650,109687,106890,106670,105886,103881,101978,99102,97862,97582,97334,92037,86709,84491,83998,82931,81818,79106,71018,71013,69141,67291,64974,64650,60776,60332,56970,55936,55378,54756,54530,53622,53605,52640,52534,51509,50085,47537,47417,47105,45177,45012,44633,43394,43297,43277,42710,42593,41723,40982,40875,40385,40374,40251,38740,38238],\"xaxis\":\"x\",\"y\":[1657744,1508894,1089404,856088,636480,494049,417024,413438,345647,463716,460854,278623,278773,275763,225397,292934,193501,214693,227601,141255,135664,161608,146292,150988,141765,125227,133295,144623,90329,102229,112496,103071,85791,96074,74593,101443,98709,88931,79805,74005,89710,97822,75413,59237,76944,86420,58503,68238,73633,44324,66375,67064,77442,71387,64373,61225,56157,57200,51746,69244,59728,61861,37310,51360,51188,39263,44927,52372,38339,48922,31299,45276,30665,34534,36769,28645,44877,31400,27071,36346,22571,26346,31983,37904,21898,22296,33434,32787,28794,25097,31760,29027,31522,27292,24854,31138,22255,25051,25454,24165],\"yaxis\":\"y\"},{\"customdata\":[[\"Fishdom\",100.0],[\"Brain Out \\u2013 Can you pass it?\",100.0],[\"Toon Blast\",50.0],[\"Toy Blast\",50.0],[\"Cut the Rope FULL FREE\",100.0],[\"Bubble Witch 3 Saga\",50.0],[\"Cut the Rope 2\",100.0],[\"Where's My Water? 2\",100.0],[\"Empires & Puzzles: Epic Match 3\",50.0],[\"Pixel Art: Color by Number\",100.0],[\"Matchington Mansion\",50.0],[\"Disney Frozen Free Fall - Play Frozen Puzzle Games\",50.0],[\"Sudoku.com - Free Sudoku\",50.0],[\"\\u0636\\u0631\\u0628\\u0629 \\u0645\\u0639\\u0644\\u0645 - \\u0644\\u0639\\u0628\\u0629 \\u0627\\u0644\\u063a\\u0627\\u0632 \\u0645\\u0633\\u0644\\u064a\\u0629\",10.0],[\"Candy Crush Jelly Saga\",100.0],[\"Roll the Ball\\u00ae - slide puzzle\",100.0],[\"Block Puzzle Jewel\",100.0],[\"Flow Free\",100.0],[\"Sand Balls - Puzzle Game\",100.0],[\"2048 Number puzzle game\",10.0],[\"Escape Titanic\",10.0],[\"Bad Piggies\",50.0],[\"LINE\\uff1a\\u30c7\\u30a3\\u30ba\\u30cb\\u30fc \\u30c4\\u30e0\\u30c4\\u30e0\",10.0],[\"Manor Cafe\",10.0],[\"LINE Pokopang - POKOTA's puzzle swiping game!\",10.0],[\"Bubble Shooter: Panda Pop!\",50.0],[\"Merge Dragons!\",10.0],[\"Cut the Rope: Time Travel\",50.0],[\"Cookie Jam\\u2122 Match 3 Games | Connect 3 or More\",50.0],[\"Jellipop Match-Decorate your dream island\\uff01\",10.0],[\"Lily\\u2019s Garden\",10.0],[\"\\uc560\\ub2c8\\ud3212\",10.0],[\"Indy Cat for VK\",5.0],[\"Jigsaw Puzzles - Puzzle Game\",10.0],[\"Can You Escape\",10.0],[\"Happy Glass\",100.0],[\"Tower of Saviors\",10.0],[\"Shoot Bubble Deluxe\",100.0],[\"Two Dots\",10.0],[\"Pirate Treasures - Gems Puzzle\",50.0],[\"Bad Piggies HD\",50.0],[\"Doodle Alchemy\",10.0],[\"Escape game : 50 rooms 1\",10.0],[\"\\u221e Infinity Loop \\u00ae\",10.0],[\"Jigty Jigsaw Puzzles\",10.0],[\"Unblock Me FREE\",50.0],[\"Bubble Blast 2\",10.0],[\"Mouse\",10.0],[\"Unblock Ball - Block Puzzle\",100.0],[\"Inside Out Thought Bubbles\",10.0],[\"MonsterBusters: Match 3 Puzzle\",10.0],[\"Love Balls\",100.0],[\"LINE Bubble 2\",10.0],[\"Mr Bullet - Spy Puzzles\",100.0],[\"Sudoku - Free Classic Sudoku Puzzles\",10.0],[\"Magic Jigsaw Puzzles - Puzzle Games\",50.0],[\"Mazes & More\",50.0],[\"Brain Dots\",10.0],[\"Matches Puzzle Game\",10.0],[\"\\u30d1\\u30ba\\u30eb\\uff06\\u30c9\\u30e9\\u30b4\\u30f3\\u30ba(Puzzle & Dragons)\",10.0],[\"Sudoku\",10.0],[\"Marble Legend\",50.0],[\"Hello Stars\",50.0],[\"Wood Block Puzzle\",50.0],[\"Block! Hexa Puzzle\\u2122\",50.0],[\"Cut the Rope: Experiments\",50.0],[\"Easy Game - Brain Test and Tricky Mind Puzzles\",10.0],[\"Sweet Fruit Candy\",50.0],[\"Escape the Mansion\",5.0],[\"House Paint\",50.0],[\"Dig This!\",50.0],[\"Gummy Drop! Match to restore and build cities\",10.0],[\"Charm King\",10.0],[\"Maleficent Free Fall\",10.0],[\"Gemmy Lands: New Match 3 Games 2021 to Crush Gems\",10.0],[\"Find The Differences - The Detective\",50.0],[\"Brain It On! - Physics Puzzles\",50.0],[\"Harry Potter: Puzzles & Spells - Match-3 Magic\",10.0],[\"Troll Face Quest: Video Memes - Brain Game\",10.0],[\"Disney Emoji Blitz\",10.0],[\"Nonogram.com - Picture cross number puzzle\",10.0],[\"Cut the Rope: Magic\",10.0],[\"Energy: Anti Stress Loops\",10.0],[\"1010! Block Puzzle Game\",10.0],[\"Sudoku\",10.0],[\"That Level Again\",10.0],[\"Crazy Kitchen: Match 3 Puzzles\",10.0],[\"Wood Block Puzzle - Free Classic Block Puzzle Game\",10.0],[\"Train Taxi\",50.0],[\"Tebak Gambar\",10.0],[\"Build a Bridge!\",10.0],[\"PixWords\\u2122\",10.0],[\"Skillz - Logic Brain Games\",10.0],[\"Slugterra: Slug it Out 2\",10.0],[\"LINE PokoPoko - Play with POKOTA! Free puzzler!\",10.0],[\"Block Puzzle & Conquer\",10.0],[\"Blockudoku\\u00ae - Block Puzzle Game\",10.0],[\"Rescue Cut - Rope Puzzle\",100.0],[\"\\ub514\\uc988\\ub2c8 \\ud2c0\\ub9b0\\uadf8\\ub9bc\\ucc3e\\uae30\",1.0],[\"How to Loot - Pin Pull & Hero Rescue\",50.0]],\"hovertemplate\":\"category=GAME PUZZLE<br>total ratings=%{x}<br>5 star ratings=%{y}<br>title=%{customdata[0]}<br>installation_in_million=%{customdata[1]}<extra></extra>\",\"legendgroup\":\"GAME PUZZLE\",\"marker\":{\"color\":\"#FECB52\",\"symbol\":\"circle\"},\"mode\":\"markers\",\"name\":\"GAME PUZZLE\",\"showlegend\":true,\"type\":\"scattergl\",\"x\":[4739196,4312464,3160720,2902462,2551759,2495714,2296724,2139930,2074052,2015215,1906447,1709817,1665667,1654125,1634573,1558523,1520129,1443492,1377821,1361565,1265114,1229277,1196438,1187816,1165701,1154770,1134803,1108573,1094743,1037775,1023370,1000388,999159,991252,975342,952407,937315,923937,918824,879352,835522,816560,734164,725404,721115,701376,699296,685372,681696,672821,669595,658103,641556,635253,619976,601215,599770,598654,594008,592951,582899,571518,570689,563915,546256,539914,533693,529649,528440,526009,515194,509704,508599,502209,499878,491227,490669,486566,484312,482724,479457,469334,468070,465965,459534,459274,459073,458999,458789,451275,446232,440362,437584,429950,409487,402761,394891,389234,384360,382846],\"xaxis\":\"x\",\"y\":[3553379,3260328,2489112,2247369,1937701,1906144,1810041,1458332,1417867,1528095,1364427,1267117,1224129,1378829,1186794,994549,1035047,1015017,931644,873808,981074,905567,568362,884715,621573,875306,789937,886434,784933,748309,819617,515548,932203,695075,611953,564328,617587,691288,624787,673470,581915,631387,500284,573111,601000,540526,458377,463017,458526,501074,535532,419206,389169,428671,458341,497049,400059,371580,410616,333244,457223,383781,420682,428758,299841,387813,373677,372984,374105,336745,363484,336981,374355,382395,398852,324961,319778,414815,336258,319307,330120,346659,387141,331318,374402,378921,398876,310590,290753,309566,279586,354726,283219,351496,156215,262517,258112,263993,233094,289732],\"yaxis\":\"y\"},{\"customdata\":[[\"Hill Climb Racing\",500.0],[\"Asphalt 8 Racing Game - Drive, Drift at Real Speed\",100.0],[\"Traffic Rider\",100.0],[\"Real Racing 3\",100.0],[\"Traffic Racer\",100.0],[\"Dr. Driving\",100.0],[\"Need for Speed\\u2122 No Limits\",100.0],[\"CSR Racing 2 \\u2013 Free Car Racing Game\",10.0],[\"Hill Climb Racing 2\",100.0],[\"Angry Birds Go!\",100.0],[\"Extreme Car Driving Simulator\",100.0],[\"Bike Race Free - Top Motorcycle Racing Games\",100.0],[\"Drag Racing\",100.0],[\"CSR Racing\",50.0],[\"Beach Buggy Racing\",100.0],[\"Fun Race 3D\",100.0],[\"Asphalt 9: Legends - Epic Car Action Racing Game\",50.0],[\"Fast Racing 3D\",100.0],[\"Earn to Die 2\",100.0],[\"GT Racing 2: The Real Car Exp\",10.0],[\"Asphalt Nitro\",50.0],[\"City Racing 3D\",50.0],[\"Nitro Nation Drag & Drift Car Racing\",10.0],[\"Racing Fever\",50.0],[\"Drive Ahead!\",50.0],[\"Street Racing 3D\",100.0],[\"Drift Max Pro - Car Drifting Game with Racing Cars\",50.0],[\"Driving School 2016\",50.0],[\"Racing in Car\",50.0],[\"Drift \\u0647\\u062c\\u0648\\u0644\\u0629\",10.0],[\"Trials Frontier\",10.0],[\"Bike Racing 3D\",100.0],[\"CarX Drift Racing\",10.0],[\"CSR Classics\",10.0],[\"BMX Boy\",50.0],[\"Racing Moto\",100.0],[\"Demolition Derby 2\",10.0],[\"Top Speed: Drag & Fast Racing\",10.0],[\"Turbo Stars\",50.0],[\"Real Bike Racing\",100.0],[\"Trial Xtreme 4: Extreme Bike Racing Champions\",50.0],[\"CarX Highway Racing\",10.0],[\"Dr. Parking 4\",100.0],[\"Moto Rider GO: Highway Traffic\",100.0],[\"Uphill Rush Water Park Racing\",100.0],[\"Dr. Driving 2\",50.0],[\"Racing in Car 2\",100.0],[\"Asphalt Xtreme: Rally Racing\",10.0],[\"Beach Buggy Blitz\",50.0],[\"Turbo Driving Racing 3D\",50.0],[\"City Racing Lite\",10.0],[\"Driving School 2017\",10.0],[\"Earn to Die Lite\",10.0],[\"MotoGP Racing '20\",10.0],[\"Rally Racer Dirt\",50.0],[\"Garena Speed Drifters\",10.0],[\"School Driving 3D\",10.0],[\"Real Drift Car Racing Lite\",10.0],[\"Rally Fury - Extreme Racing\",50.0],[\"F1 Manager\",5.0],[\"Ultimate Car Driving Simulator\",50.0],[\"MadOut2 BigCityOnline\",10.0],[\"Crazy for Speed\",10.0],[\"Mad Skills Motocross 2\",10.0],[\"Drive for Speed: Simulator\",100.0],[\"Real City Car Driver\",50.0],[\"Bike Mayhem Free\",10.0],[\"Highway Rider Motorcycle Racer\",10.0],[\"Rebel Racing\",10.0],[\"Blocky Roads\",10.0],[\"Road Riot\",10.0],[\"Crash of Cars\",10.0],[\"Real Racing 3\",10.0],[\"Derby Destruction Simulator\",10.0],[\"SUP Multiplayer Racing\",10.0],[\"Beach Buggy Racing 2\",10.0],[\"Boomerang Make and Race - Scooby-Doo Racing Game\",50.0],[\"KartRider Rush+\",10.0],[\"Offroad Legends - Monster Truck Trials\",10.0],[\"Moto X3M Bike Race Game\",50.0],[\"Dubai Drift 2\",10.0],[\"Traffic Tour\",10.0],[\"Moto Wheelie\",5.0],[\"Mountain Climb 4x4 : Offroad Car Drive\",50.0],[\"Zombie Squad\",10.0],[\"Moto Racer 3D\",10.0],[\"Toy Truck Rally 3D\",50.0],[\"Crazy for Speed 2\",10.0],[\"Truck Driver Cargo\",10.0],[\"Top Drives \\u2013 Car Cards Racing\",10.0],[\"Smash Cops Heat\",10.0],[\"Race the Traffic\",50.0],[\"CarX Drift Racing 2\",10.0],[\"Racing Limits\",50.0],[\"Smash Bandits Racing\",10.0],[\"\\ud83d\\ude93\\ud83d\\udea6Car Driving School Simulator \\ud83d\\ude95\\ud83d\\udeb8\",10.0],[\"Redline Rush: Police Chase Racing\",10.0],[\"Monster Truck Destruction\\u2122\",10.0],[\"Stickman Downhill Motocross\",10.0],[\"MMX Hill Dash\",10.0]],\"hovertemplate\":\"category=GAME RACING<br>total ratings=%{x}<br>5 star ratings=%{y}<br>title=%{customdata[0]}<br>installation_in_million=%{customdata[1]}<extra></extra>\",\"legendgroup\":\"GAME RACING\",\"marker\":{\"color\":\"#636efa\",\"symbol\":\"circle\"},\"mode\":\"markers\",\"name\":\"GAME RACING\",\"showlegend\":true,\"type\":\"scattergl\",\"x\":[10109437,9501337,7501902,6618421,6028847,6001808,4450952,4434127,4049586,3871745,3479061,2943582,2685255,2489649,2130809,2106646,2019802,1846774,1766601,1764361,1598059,1554281,1501601,1470062,1436201,1396387,1361440,1356874,1295610,1196133,1118526,1102775,1095714,899150,892092,877117,866304,840949,813695,800759,733129,727876,715270,694195,691090,686110,685354,677946,665358,644259,630441,629925,609871,609424,575472,570996,566856,512412,505858,505770,480534,467463,463332,462906,460722,441744,430958,430053,428687,425947,423068,414887,410324,404875,398854,390401,376747,374714,349979,343357,337427,336321,333556,327291,314895,310671,309726,307279,306001,294078,293433,292849,290482,290316,289793,288523,288296,283643,283083,282767],\"xaxis\":\"x\",\"y\":[7120594,6879557,5359930,4705375,4572262,4237062,2919993,3413121,2885771,2754715,2544408,2026950,1946398,1948969,1611238,1395015,1547127,1328780,1250993,1283424,1134818,1144870,1145978,1103057,995071,985581,1085380,980739,882179,955582,766927,735070,854689,698783,654219,601429,710761,675964,621058,539850,458839,568485,484521,474651,480292,473468,448291,445396,472497,449266,482380,454155,434429,393372,393761,377043,414532,381140,369494,302447,337383,327473,332451,320212,336699,285993,291497,308843,299906,318636,344144,284293,294296,320084,283916,281252,274839,222374,244679,260028,252837,221961,282222,217200,219754,194742,229611,237772,191146,221499,220616,186128,228215,207040,206427,200630,210515,198878,206153,201849],\"yaxis\":\"y\"},{\"customdata\":[[\"Shadow Fight 3 - RPG fighting game\",100.0],[\"AFK Arena\",10.0],[\"Avakin Life - 3D Virtual World\",50.0],[\"MARVEL Future Fight\",50.0],[\"Angry Birds Epic RPG\",10.0],[\"Flight Pilot Simulator 3D Free\",100.0],[\"Eternium\",10.0],[\"Summoners War\",50.0],[\"Star Wars\\u2122: Galaxy of Heroes\",50.0],[\"\\ubaac\\uc2a4\\ud130 \\uae38\\ub4e4\\uc774\\uae30\",10.0],[\"Darkness Rises\",10.0],[\"Hustle Castle: Medieval games in the kingdom\",10.0],[\"Tap Titans\",10.0],[\"RAID: Shadow Legends\",10.0],[\"MovieStarPlanet\",10.0],[\"Hero Wars \\u2013 Hero Fantasy Multiplayer Battles\",50.0],[\"Magic Rush: Heroes\",10.0],[\"\\uc138\\ube10\\ub098\\uc774\\uce20\",10.0],[\"Idle Heroes\",10.0],[\"RPG Toram Online - MMORPG\",10.0],[\"Shakes and Fidget\",5.0],[\"Kritika: The White Knights\",10.0],[\"Tap Titans 2: Heroes Attack Titans. Clicker on!\",10.0],[\"FINAL FANTASY BRAVE EXVIUS\",10.0],[\"Dungeon Hunter 5 \\u2013 Action RPG\",10.0],[\"The Wolf\",10.0],[\"Brave Frontier\",10.0],[\"ONE PIECE TREASURE CRUISE\",5.0],[\"School of Dragons\",10.0],[\"Super Stylist - Dress Up & Style Fashion Guru\",50.0],[\"Battle Camp - Monster Catching\",10.0],[\"Mobile Legends: Adventure\",10.0],[\"The Walking Dead: Road to Survival\",10.0],[\"International Fashion Stylist - Dress Up Studio\",10.0],[\"My Candy Love - Episode / Otome game\",10.0],[\"Day R Survival \\u2013 Apocalypse, Lone Survivor and RPG\",10.0],[\"Don't get fired!\",5.0],[\"Dragon Village\",5.0],[\"Inotia 4\",5.0],[\"LifeAfter\",10.0],[\"MARVEL Strike Force - Squad RPG\",10.0],[\"Age of Warring Empire\",10.0],[\"\\ub808\\uc774\\ube10 : LEGION\",5.0],[\"Crusaders Quest\",5.0],[\"Galaxy Legend - Cosmic Conquest Sci-Fi Game\",10.0],[\"Game of Sultans\",10.0],[\"School of Chaos Online MMORPG\",10.0],[\"Operate Now: Hospital - Surgery Simulator Game\",10.0],[\"Heroes Charge\",10.0],[\"Sky: Children of the Light\",5.0],[\"My Bakery Empire - Bake, Decorate & Serve Cakes\",100.0],[\"Ninja Turtles: Legends\",10.0],[\"Order & Chaos Online 3D MMORPG\",5.0],[\"Grim Soul: Dark Fantasy Survival\",10.0],[\"Gachaverse (RPG & Anime Dress Up)\",10.0],[\"Gymnastics Superstar - Spin your way to gold!\",50.0],[\"Angry Birds Evolution 2021\",10.0],[\"AVABEL ONLINE [Action MMORPG]\",10.0],[\"Seven Knights\",10.0],[\"The Seven Deadly Sins: Grand Cross\",10.0],[\"DC Legends: Fight Superheroes\",10.0],[\"Love Nikki-Dress UP Queen\",10.0],[\"King's Throne: Game of Conquest\",1.0],[\"ONE PIECE \\u30c8\\u30ec\\u30b8\\u30e3\\u30fc\\u30af\\u30eb\\u30fc\\u30ba\",1.0],[\"Monster Super League\",5.0],[\"Magic Rampage\",10.0],[\"Monster High\\u2122 Beauty Shop: Fangtastic Fashion Game\",10.0],[\"Arcane Legends MMO-Action RPG\",10.0],[\"BLOCK STORY\",10.0],[\"\\u30b0\\u30e9\\u30f3\\u30d6\\u30eb\\u30fc\\u30d5\\u30a1\\u30f3\\u30bf\\u30b8\\u30fc\",1.0],[\"Age of Magic: Turn-Based Magic RPG & Strategy Game\",5.0],[\"Vampire's Fall: Origins RPG\",5.0],[\"Pocket Troops: Strategy RPG\",10.0],[\"Pok\\u00e9mon Masters EX\",10.0],[\"ZENONIA\\u00ae 5\",10.0],[\"Heroes of Camelot\",5.0],[\"WWE Champions 2021\",10.0],[\"Assassin's Creed Rebellion: Adventure RPG\",5.0],[\"Guardian Hunter: SuperBrawlRPG [Online]\",1.0],[\"Questland: Turn Based RPG\",1.0],[\"Black Desert Mobile\",10.0],[\"Fashion Empire - Dressup Boutique Sim\",10.0],[\"Postknight\",5.0],[\"MARVEL Puzzle Quest: Join the Super Hero Battle!\",10.0],[\"Ragnarok M: Eternal Love\",5.0],[\"Guardian Tales\",1.0],[\"Ice Skating Ballerina - Dance Challenge Arena\",10.0],[\"Shadow Fight Arena \\u2014 PvP Fighting game\",1.0],[\"Wolvesville - Werewolf Online\",10.0],[\"Guild of Heroes: Magic RPG | Wizard game\",5.0],[\"Era of Celestials\",10.0],[\"HonorBound RPG\",1.0],[\"Hotel Hideaway: Virtual World\",5.0],[\"\\u0645\\u0644\\u0643\\u0629 \\u0627\\u0644\\u0645\\u0648\\u0636\\u0629 | \\u0644\\u0639\\u0628\\u0629 \\u0642\\u0635\\u0635 \\u0648 \\u062a\\u0645\\u062b\\u064a\\u0644\",5.0],[\"Nonstop Knight - Offline Idle RPG Clicker\",5.0],[\"\\ub9ac\\ub2c8\\uc9c02 \\ub808\\ubcfc\\ub8e8\\uc158\",5.0],[\"Cat Runner: Decorate Home\",100.0],[\"FINAL FANTASY Record Keeper\",1.0],[\"Decisions: Choose Your Interactive Love Story\",10.0],[\"Epic Seven\",5.0]],\"hovertemplate\":\"category=GAME ROLE PLAYING<br>total ratings=%{x}<br>5 star ratings=%{y}<br>title=%{customdata[0]}<br>installation_in_million=%{customdata[1]}<extra></extra>\",\"legendgroup\":\"GAME ROLE PLAYING\",\"marker\":{\"color\":\"#EF553B\",\"symbol\":\"circle\"},\"mode\":\"markers\",\"name\":\"GAME ROLE PLAYING\",\"showlegend\":true,\"type\":\"scattergl\",\"x\":[3090015,3058359,3036543,2865064,2651402,2627776,2347273,2290221,1700340,1499510,1458777,1414250,1344882,1310535,1192107,1184299,1129245,940192,894415,893378,888912,879717,867735,823018,764089,733065,731585,673166,659860,615059,612353,606800,602664,601033,592516,584420,560996,557980,557678,549568,535690,524507,519855,515935,514153,504405,501231,499642,496856,491526,487690,484315,474452,469934,469414,465589,465165,462235,458582,457866,446215,427450,424777,419401,403927,401487,400588,398383,392609,391022,389377,389176,382307,380937,380879,371769,371124,369149,366181,364362,360378,359428,354599,349814,331238,330007,325556,323021,317688,316634,316501,311571,308602,306172,302010,300944,300560,297467,297258,296313],\"xaxis\":\"x\",\"y\":[2197513,2161111,2168621,1824530,2095189,1662287,2036165,1590927,1079702,920897,1072932,949393,1207169,898437,650035,917825,817920,530178,711091,661686,689105,614942,680760,527834,452458,538267,518701,490535,435584,415341,413381,482059,371359,434223,368968,437905,368450,408426,395376,376330,286540,345199,325098,394272,317140,295070,333980,284574,425997,360435,342489,359826,321908,320973,276126,316930,317704,264212,317991,323588,298948,270588,218783,238298,282799,323804,269917,272948,284184,195925,290064,290167,269576,245027,265737,227683,212711,238596,249473,316322,236472,225185,296919,220377,239093,273260,216352,253071,230293,244928,218341,232822,231932,266030,214414,159647,212457,139765,195836,201952],\"yaxis\":\"y\"},{\"customdata\":[[\"Dragon City\",100.0],[\"The Sims FreePlay\",100.0],[\"SimCity BuildIt\",100.0],[\"Episode - Choose Your Story\",100.0],[\"Plague Inc.\",100.0],[\"Fallout Shelter\",10.0],[\"Idle Miner Tycoon: Mine & Money Clicker Management\",50.0],[\"Dragon Mania Legends\",50.0],[\"The Tribez: Build a Village\",10.0],[\"Bus Simulator Indonesia\",50.0],[\"Jurassic World\\u2122: The Game\",50.0],[\"AdVenture Capitalist\",10.0],[\"Dragons: Rise of Berk\",50.0],[\"Bus Simulator: Original\",50.0],[\"Choices: Stories You Play\",10.0],[\"The Sims\\u2122 Mobile\",50.0],[\"LINE BROWN FARM\",10.0],[\"Fishing Clash\",50.0],[\"Cash, Inc. Money Clicker Game & Business Adventure\",10.0],[\"Vegas Crime Simulator\",100.0],[\"Hooked Inc: Fisher Tycoon\",10.0],[\"Scary Teacher 3D\",50.0],[\"SAKURA School Simulator\",10.0],[\"Euro Truck Evolution (Simulator)\",50.0],[\"My Story: Choose Your Own Path\",10.0],[\"Bus Simulator : Ultimate\",50.0],[\"Craftsman: Building Craft\",50.0],[\"Design Home: House Renovation\",50.0],[\"Egg, Inc.\",10.0],[\"The Sims\\u2122 FreePlay\",10.0],[\"House Flipper: Home Design, Interior Makeover Game\",10.0],[\"Block City Wars: Pixel Shooter with Battle Royale\",10.0],[\"Paradise Island\",10.0],[\"Kill Shot\",10.0],[\"Happy Mall Story: Sim Game\",10.0],[\"Clean Road\",50.0],[\"Cooking Diary\\u00ae: Best Tasty Restaurant & Cafe Game\",10.0],[\"Farming Simulator 14\",100.0],[\"Airport City\",10.0],[\"From Zero to Hero: Cityman\",5.0],[\"Car Parking Multiplayer\",50.0],[\"Klondike Adventures\",10.0],[\"Cafeland - World Kitchen\",10.0],[\"BitLife - Life Simulator\",10.0],[\"Zombie Castaways\",10.0],[\"Turbo Dismount\\u2122\",50.0],[\"Barbie Dreamhouse Adventures\",50.0],[\"Grand Truck Simulator\",10.0],[\"Truck Simulator 2018 : Europe\",100.0],[\"Animal Crossing: Pocket Camp\",10.0],[\"Flight Simulator: Fly Plane 3D\",100.0],[\"Let's Fish: Sport Fishing Games. Fishing Simulator\",10.0],[\"Romance Club - Stories I Play\",10.0],[\"WildCraft: Animal Sim Online 3D\",50.0],[\"Heavy Truck Simulator\",10.0],[\"Hotel Story: Resort Simulation\",10.0],[\"Clouds & Sheep\",10.0],[\"Weaphones\\u2122 Gun Sim Free Vol 1\",50.0],[\"2 3 4 Player Mini Games\",100.0],[\"Make More! \\u2013 Idle Manager\",10.0],[\"Coach Bus Simulator\",10.0],[\"School Girls Simulator\",10.0],[\"Disney Magic Kingdoms: Build Your Own Magical Park\",50.0],[\"Linda Brown: Interactive Story\",10.0],[\"High School Story\",10.0],[\"Drive and Park\",50.0],[\"Raft Survival: Ocean Nomad - Simulator\",50.0],[\"Bud Farm: Grass Roots\",10.0],[\"Hi Cooking\",10.0],[\"Fire Emblem Heroes\",5.0],[\"Car Simulator 2\",10.0],[\"Taxi Game\",50.0],[\"Public Transport Simulator\",10.0],[\"Stickman Dismounting\",10.0],[\"Pok\\u00e9mon: Magikarp Jump\",10.0],[\"World Truck Driving Simulator\",10.0],[\"Avatar Life - fun, love & games in virtual world!\",10.0],[\"Indian Train Simulator\",10.0],[\"Home Street \\u2013 Home Design Game\",10.0],[\"High School Simulator 2018\",10.0],[\"Battle Disc\",10.0],[\"Heavy Bus Simulator\",10.0],[\"\\u0421\\u0438\\u043c\\u0443\\u043b\\u044f\\u0442\\u043e\\u0440 \\u0436\\u0438\\u0437\\u043d\\u0438 \\u042e\\u0442\\u0443\\u0431\\u0435\\u0440\\u0430\",1.0],[\"Truck Simulator USA\",10.0],[\"Bio Inc - Plague and rebel doctors offline\",10.0],[\"Car Mechanic Simulator\",10.0],[\"IDBS Bus Simulator\",10.0],[\"ZooCraft: Animal Family Simulator\",10.0],[\"Woodturning\",100.0],[\"Mystic Messenger\",5.0],[\"Goat Simulator\",10.0],[\"Stickman Rope Hero\",10.0],[\"My Virtual Pet Shop: Take Care of Pets & Animals\\ud83d\\udc36\",10.0],[\"FarmVille 2: Tropic Escape\",10.0],[\"We Are Illuminati - Conspiracy Simulator Clicker\",5.0],[\"Dragons World\",10.0],[\"Tap Tap Fish AbyssRium - Healing Aquarium (+VR)\",10.0],[\"Terrarium: Garden Idle\",5.0],[\"\\ub808\\uc54c\\ud31c\",5.0],[\"Prison Empire Tycoon - Idle Game\",10.0]],\"hovertemplate\":\"category=GAME SIMULATION<br>total ratings=%{x}<br>5 star ratings=%{y}<br>title=%{customdata[0]}<br>installation_in_million=%{customdata[1]}<extra></extra>\",\"legendgroup\":\"GAME SIMULATION\",\"marker\":{\"color\":\"#00cc96\",\"symbol\":\"circle\"},\"mode\":\"markers\",\"name\":\"GAME SIMULATION\",\"showlegend\":true,\"type\":\"scattergl\",\"x\":[8241702,5518439,5193030,3541983,3486810,3401011,3204434,2726952,2225296,1812721,1624306,1574955,1507247,1485179,1378733,1366714,1359519,1298159,1222131,1187879,1187376,1152884,1138214,1110707,1106294,1091964,1031506,1019979,1009271,1000601,999265,992624,976973,965532,946692,930110,910644,897328,872791,872608,840787,832322,819400,817146,807582,759462,738803,724257,716198,716086,707424,706898,692265,681764,678641,669840,661417,647291,647179,636844,633586,620412,620223,617523,604104,603782,585446,571717,551276,549615,545476,501264,485173,479602,473108,471115,453899,450705,447104,447068,446372,443024,441554,425625,425277,424968,423399,420829,416135,412100,406254,404025,403098,400719,398841,392326,385620,384264,383441,379807],\"xaxis\":\"x\",\"y\":[6537535,3413004,3473565,2259432,2550187,2515746,2547635,2049299,1432062,1409418,1051435,1124369,1095247,945229,920352,876746,890317,1084764,1020476,838441,865432,833557,936733,710871,620225,768323,714827,602531,723826,653921,769360,632974,631649,629367,721941,623396,693195,638623,495658,710037,633197,647116,578026,467935,612472,508981,514756,509616,480432,500573,442694,493555,520257,525194,459478,463284,542466,469757,488177,468935,400796,463465,377280,396351,459073,422761,418289,465050,427133,379443,422460,248598,326657,320822,355701,347260,282985,284990,307948,304413,304208,291648,357642,274945,257308,300551,269629,288173,245092,351636,300806,263927,312933,266540,284071,273173,252669,312380,242035,251581],\"yaxis\":\"y\"},{\"customdata\":[[\"Dream League Soccer\",100.0],[\"FIFA Soccer\",100.0],[\"Score! Hero\",100.0],[\"eFootball PES 2021\",50.0],[\"Top Eleven 2021: Be a Soccer Manager\",50.0],[\"EA SPORTS UFC\\u00ae\",50.0],[\"Bowling King\",10.0],[\"World Cricket Championship 2 - WCC2\",50.0],[\"8 Ball Pool\",500.0],[\"Carrom Pool: Disc Game\",100.0],[\"Dream League Soccer 2021\",50.0],[\"Pooking - Billiards City\",100.0],[\"NBA LIVE Mobile Basketball\",50.0],[\"New Star Soccer\",10.0],[\"Soccer Stars\",50.0],[\"Golf Clash\",10.0],[\"Online Soccer Manager (OSM) - 20/21\",10.0],[\"World Soccer League\",100.0],[\"Football Strike - Multiplayer Soccer\",100.0],[\"Head Ball 2\",50.0],[\"Fishing Hook\",50.0],[\"zzSUNSET Last Season MM\",10.0],[\"Head Soccer\",50.0],[\"Pool Billiards Pro\",100.0],[\"Ace Fishing: Wild Catch\",10.0],[\"Wrestling Revolution 3D\",50.0],[\"Basketball Stars\",50.0],[\"Run Race 3D\",100.0],[\"3D Bowling\",100.0],[\"Real Cricket\\u2122 20\",10.0],[\"3D Tennis\",50.0],[\"Punch Boxing 3D\",50.0],[\"Tennis Clash: 1v1 Free Online Sports Game\",10.0],[\"PES CLUB MANAGER\",10.0],[\"Shooting World - Gun Fire\",50.0],[\"Archery Master 3D\",100.0],[\"Head Football LaLiga 2021 - Skills Soccer Games\",10.0],[\"Real Football\",50.0],[\"Soccer Star 2021 Top Leagues: Play the SOCCER game\",10.0],[\"Flip Diving\",50.0],[\"Cartola FC\",10.0],[\"World Cricket Championship Lt\",50.0],[\"Kite Flying - Layang Layang\",50.0],[\"Score! Match - PvP Soccer\",50.0],[\"Final kick 2020 Best Online football penalty game\",10.0],[\"Mini Golf King - Multiplayer Game\",10.0],[\"Ultimate Soccer - Football\",50.0],[\"Boxing Star\",10.0],[\"Real Cricket\\u2122 17\",10.0],[\"Stickman Soccer 2014\",10.0],[\"Perfect Kick\",10.0],[\"Touchgrind BMX\",10.0],[\"Soccer Star 2020 World Football: World Star Cup\",10.0],[\"WWE SuperCard - Multiplayer Collector Card Game\",10.0],[\"Golf Battle\",50.0],[\"Shooting Archery\",50.0],[\"Winner Soccer Evo Elite\",10.0],[\"Basketball Shoot\",10.0],[\"Badminton League\",50.0],[\"Real Boxing \\u2013\\u00a0Fighting Game\",10.0],[\"EA SPORTS\\u2122 FIFA 21 Companion\",10.0],[\"Stickman Soccer - Classic\",10.0],[\"Soccer Cup 2021: Free Football Games\",50.0],[\"Golf Star\\u2122\",10.0],[\"Fanatical Football\",10.0],[\"\\u26bdPuppet Soccer 2014 - Big Head Football \\ud83c\\udfc6\",10.0],[\"Basketball Mania\",10.0],[\"Toon Cup 2020 - Cartoon Network's Football Game\",50.0],[\"Volleyball Champions 3D - Online Sports Game\",10.0],[\"Basketball Battle\",10.0],[\"Shooting King\",10.0],[\"Homerun Battle 2\",5.0],[\"Shooting Ball\",10.0],[\"Hit & Knock down\",10.0],[\"Golf King - World Tour\",5.0],[\"Table Tennis 3D\",10.0],[\"Soccer Super Star\",10.0],[\"Fishing Paradise 3D Free+\",10.0],[\"Top Football Manager 2021\",10.0],[\"Sachin Saga Cricket Champions\",10.0],[\"Wrestling Revolution\",10.0],[\"3D Pool Ball\",10.0],[\"Stickman Basketball\",10.0],[\"Mike V: Skateboard Party\",10.0],[\"Stick Cricket Premier League\",5.0],[\"Golf Rival\",10.0],[\"Virtual Table Tennis 3D\",10.0],[\"Mobile Soccer League\",10.0],[\"Badminton Legend\",10.0],[\"Fishing Superstars\",10.0],[\"Soccer Kicks (Football)\",10.0],[\"Retro Bowl\",1.0],[\"PBA\\u00ae Bowling Challenge\",10.0],[\"Fanatical Basketball\",10.0],[\"Baseball Superstars\\u00ae 2013\",5.0],[\"Mini Football - Mobile Soccer\",10.0],[\"Touchgrind Skate 2\",10.0],[\"Archery Tournament\",10.0],[\"Flip Master\",10.0],[\"Shoot Goal \\u26bd\\ufe0f Football Stars Soccer Games 2021\",10.0]],\"hovertemplate\":\"category=GAME SPORTS<br>total ratings=%{x}<br>5 star ratings=%{y}<br>title=%{customdata[0]}<br>installation_in_million=%{customdata[1]}<extra></extra>\",\"legendgroup\":\"GAME SPORTS\",\"marker\":{\"color\":\"#ab63fa\",\"symbol\":\"circle\"},\"mode\":\"markers\",\"name\":\"GAME SPORTS\",\"showlegend\":true,\"type\":\"scattergl\",\"x\":[13374620,7280320,6779161,6173868,4566390,2983855,2926717,2916874,2877308,2839251,2637735,2544608,2369845,2267369,2221308,1975028,1973922,1913145,1737476,1698878,1670695,1646405,1630006,1473444,1374907,1255309,1209408,1204097,1167800,1112243,1093549,1041360,1031413,1021104,1003990,952511,896935,896639,894469,875100,839113,813844,787156,771501,763774,759841,730505,730171,727758,708388,706572,695191,608998,602551,601078,561986,561499,560065,516578,516549,515228,497940,475283,457484,455753,451539,448564,445534,445355,441765,418362,413700,412920,396044,394620,392466,385951,384159,368176,366675,365249,358273,355982,337586,334400,327465,327205,323103,310726,299047,288866,287935,274317,273722,270190,270027,268484,265931,263226,260200],\"xaxis\":\"x\",\"y\":[10064893,4948104,4480503,4315624,3513113,2128566,2168204,2047055,2120943,1949415,1902637,1805981,1558217,1736140,1567726,1202833,1450422,1368588,1271467,1122300,1170264,1084832,1140776,1018895,957213,836586,840179,763810,848656,746459,698205,726536,667816,650483,798902,628791,621903,499764,611806,667500,544480,534811,559282,509381,530939,466780,434487,524546,484762,527257,535212,407090,400377,429592,371099,406428,399433,367291,325530,339212,297000,360270,319421,271577,298505,298819,302579,300285,272769,317978,258225,344230,282088,263906,272814,253695,275515,243956,241981,223686,240422,256937,258131,244494,218684,218343,209447,207242,245774,194652,175748,227552,194799,186104,190684,179241,149667,149095,177542,173899],\"yaxis\":\"y\"},{\"customdata\":[[\"Clash of Clans\",500.0],[\"Clash Royale\",100.0],[\"Lords Mobile: Kingdom Wars\",100.0],[\"Boom Beach\",50.0],[\"Plants vs. Zombies FREE\",100.0],[\"Castle Clash: Guild Royale\",100.0],[\"Grow Empire: Rome\",10.0],[\"World of Tanks Blitz PVP MMO 3D tank game for free\",100.0],[\"Monster Legends: Breed & Merge Heroes Battle Arena\",50.0],[\"Bid Wars - Storage Auctions and Pawn Shop Tycoon\",10.0],[\"Clash of Kings : Newly Presented Knight System\",50.0],[\"Vlogger Go Viral - Tuber Simulator Games\",10.0],[\"Stick War: Legacy\",100.0],[\"State of Survival: Survive the Zombie Apocalypse\",50.0],[\"Clash of Lords 2: Guild Castle\",10.0],[\"Rise of Kingdoms: Lost Crusade\",10.0],[\"Last Shelter: Survival\",10.0],[\"Game of War - Fire Age\",50.0],[\"Megapolis: city building simulator. Urban strategy\",50.0],[\"Empire: Four Kingdoms | Medieval Strategy MMO\",50.0],[\"Castle Crush: Epic Battle - Free Strategy Games\",10.0],[\"King of Thieves\",10.0],[\"Throne Rush\",10.0],[\"Game of Warriors\",10.0],[\"League of Legends: Wild Rift\",10.0],[\"Forge of Empires: Build your City\",10.0],[\"Vikings: War of Clans\",10.0],[\"Bid Wars 2: Pawn Shop - Storage Auction Simulator\",10.0],[\"Mafia City\",50.0],[\"aa\",50.0],[\"Mobile Strike\",50.0],[\"Bloons TD Battles\",10.0],[\"King of Avalon: Dominion\",50.0],[\"Last Empire - War Z: Strategy\",50.0],[\"Rise of Empires: Ice and Fire\",10.0],[\"Alien Creeps TD - Epic tower defense\",10.0],[\"Vainglory\",10.0],[\"Jungle Heat: War of Clans\",10.0],[\"The Walking Dead No Man's Land\",10.0],[\"DomiNations\",10.0],[\"World at Arms\",10.0],[\"Art of War: Legions\",10.0],[\"Heroes of Order & Chaos\",10.0],[\"METAL SLUG DEFENSE\",10.0],[\"Army Men Strike - Military Strategy Simulator\",10.0],[\"Toilet Time: Boredom killer Fun Mini Games to Play\",10.0],[\"Castle Clash: Dominio del Reino\",5.0],[\"Kingdom Rush - Tower Defense Game\",10.0],[\"Final Fantasy XV: A New Empire\",10.0],[\"Dead Ahead: Zombie Warfare\",5.0],[\"Lapse: A Forgotten Future\",10.0],[\"Heroes Evolved\",10.0],[\"Dawn of Titans: War Strategy RPG\",5.0],[\"Toy Defence 2 \\u2014 Tower Defense game\",10.0],[\"2020: My Country\",5.0],[\"South Park: Phone Destroyer\\u2122 - Battle Card Game\",10.0],[\"Castle Clash: King's Castle DE\",5.0],[\"Clash of Lords: Guild Castle\",5.0],[\"Random Dice: PvP Defense\",5.0],[\"Empires and Allies\",10.0],[\"Mini Warriors\",5.0],[\"Guns of Glory: The Iron Mask\",50.0],[\"Invasion: Modern Empire\",10.0],[\"Tentacle Wars \\u2122\",1.0],[\"Realm Defense: Epic Tower Defense Strategy Game\",5.0],[\"Gods of Olympus\",1.0],[\"Survival Arena\",1.0],[\"Disney Heroes: Battle Mode\",10.0],[\"Reactor \\u2622\\ufe0f - Idle Manager- Energy Sector Tycoon\",5.0],[\"Deep Town: Mining Factory\",5.0],[\"Virtual City\\u00ae Playground: Building Tycoon\",5.0],[\"War and Order\",10.0],[\"Castle Clash : Guild Royale\",5.0],[\"Clash of Lords 2: \\u0411\\u0438\\u0442\\u0432\\u0430 \\u041b\\u0435\\u0433\\u0435\\u043d\\u0434\",1.0],[\"Empire Z: Endless War\",5.0],[\"Warlings: Armageddon\",10.0],[\"Warlings\",10.0],[\"Total Conquest\",10.0],[\"Chess Live\",10.0],[\"Age of Z Origins\",10.0],[\"\\u0627\\u0646\\u062a\\u0642\\u0627\\u0645 \\u0627\\u0644\\u0633\\u0644\\u0627\\u0637\\u064a\\u0646\",10.0],[\"Onmyoji Arena\",5.0],[\"Narcos: Cartel Wars. Build an Empire with Strategy\",10.0],[\"March of Empires: War of Lords\",10.0],[\"Chess Rush\",5.0],[\"War and Magic: Kingdom Reborn\",5.0],[\"Supermarket Mania Journey\",10.0],[\"War Heroes: Strategy Card Game for Free\",10.0],[\"TRANSFORMERS: Earth Wars\",10.0],[\"Art of War 3: PvP RTS modern warfare strategy game\",10.0],[\"Defender II\",10.0],[\"Stormfall: Rise of Balur\",10.0],[\"Evony: The King's Return\",10.0],[\"Grepolis - Divine Strategy MMO\",5.0],[\"Venom Angry Crashy Rush Online\",10.0],[\"Train Station 2: Railroad Tycoon & City Simulator\",10.0],[\"Castle Clash: Batalha de Guildas\",1.0],[\"\\u57ce\\u5821\\u722d\\u9738 - \\u806f\\u76df\\u9738\\u696d\",1.0],[\"Iron Desert - Fire Storm\",5.0],[\"Castle Clash: Regu Royale\",1.0]],\"hovertemplate\":\"category=GAME STRATEGY<br>total ratings=%{x}<br>5 star ratings=%{y}<br>title=%{customdata[0]}<br>installation_in_million=%{customdata[1]}<extra></extra>\",\"legendgroup\":\"GAME STRATEGY\",\"marker\":{\"color\":\"#FFA15A\",\"symbol\":\"circle\"},\"mode\":\"markers\",\"name\":\"GAME STRATEGY\",\"showlegend\":true,\"type\":\"scattergl\",\"x\":[55170976,30599283,6282716,6043927,5098445,4977281,3639955,3586366,3308917,3109721,2316309,2102169,1906000,1712043,1709336,1596863,1514095,1493010,1446666,1317635,1281443,1267557,1224547,1084405,1037325,967308,965851,961050,948896,904713,897510,890792,877165,873660,857214,849665,829682,828185,789938,757127,756652,755588,722062,695798,672510,633965,601321,600649,569020,562932,556658,541172,523682,497572,494533,487498,485901,485868,478146,455122,447441,430583,421774,418625,417964,401269,398768,397040,395798,392793,388381,386342,386083,384600,366285,358866,351860,344755,339891,339517,339009,334450,330452,329526,327841,326038,319569,319023,316295,310851,305594,297478,293287,288609,283770,280496,279542,276353,272167,270364],\"xaxis\":\"x\",\"y\":[42736445,20850163,4452865,4400891,3670080,3444390,2712852,2518374,2529765,2037468,1494521,1658403,1527923,1218235,1218013,1090428,975221,788580,1016465,817422,937488,915250,913769,852981,757792,647806,696323,579654,627238,609628,491666,613200,581205,556372,726232,583850,463943,577994,578310,464985,473209,590838,352710,435845,419583,435148,431408,483726,305624,386210,428268,290619,341402,316488,335263,354722,338830,383512,305562,314012,300972,255534,294674,249548,319881,289219,235417,270231,292407,311297,252727,237572,273104,319266,198660,241426,261633,205463,220365,230341,224601,230361,259055,187204,192287,202480,210853,234541,227536,243785,197222,190848,224580,179652,198598,193460,207820,224926,191227,195637],\"yaxis\":\"y\"},{\"customdata\":[[\"Trivia Crack\",100.0],[\"Brain Test: Tricky Puzzles\",100.0],[\"94% - Quiz, Trivia & Logic\",10.0],[\"Logo Quiz\",50.0],[\"Who is? Brain Teaser & Tricky Riddles\",10.0],[\"Brain Test 2: Tricky Stories\",10.0],[\"Tricky Test 2\\u2122: Genius Brain?\",10.0],[\"Free Trivia Game. Questions & Answers. QuizzLand.\",10.0],[\"Quiz: Logo game\",10.0],[\"Guess The Song - Music Quiz\",10.0],[\"TVSMILES - Quiz and Prizes\",1.0],[\"\\u0641\\u0637\\u062d\\u0644 \\u0627\\u0644\\u0639\\u0631\\u0628 - \\u0644\\u0639\\u0628\\u0629 \\u0645\\u0639\\u0644\\u0648\\u0645\\u0627\\u062a \\u0639\\u0627\\u0645\\u0629\",5.0],[\"Gartic\",10.0],[\"Trivia Crack 2\",10.0],[\"94 Degrees: fun trivia quiz\",10.0],[\"Quizdom - Trivia more than logo quiz!\",10.0],[\"Picture Quiz: Logos\",10.0],[\"Think\",5.0],[\"Fight List - Categories Game\",10.0],[\"\\ubaa8\\ub450\\uc758 \\ud034\\uc988 - \\uc0ac\\uc9c4\\uc5f0\\uc0c1 \\ub2e8\\uc5b4\",1.0],[\"I Know Stuff : trivia quiz\",10.0],[\"Who Wants to Be a Millionaire? Trivia & Quiz Game\",10.0],[\"World Geography - Quiz Game\",10.0],[\"Guess The Brand - Logo Mania\",10.0],[\"\\u0e1b\\u0e23\\u0e34\\u0e28\\u0e19\\u0e32\\u0e1f\\u0e49\\u0e32\\u0e41\\u0e25\\u0e1a\",10.0],[\"Logo Game: Guess Brand Quiz\",10.0],[\"Color Mania Quiz - Guess the logo game\",1.0],[\"Can you escape the 100 room IV\",1.0],[\"\\u062d\\u0644\\u0647\\u0627 \\u0648\\u0627\\u062d\\u062a\\u0644\\u0647\\u0627 - \\u0644\\u0639\\u0628\\u0629 \\u0643\\u0644\\u0645\\u0629 \\u0627\\u0644\\u0633\\u0631\",1.0],[\"A4 Wheel of fortune\",5.0],[\"TTS Lontong\",5.0],[\"\\u0418\\u043d\\u0442\\u0435\\u043b\\u043b\\u0435\\u043a\\u0442-\\u0431\\u0430\\u0442\\u0442\\u043b\",5.0],[\"Scratch Logo Quiz. Challenging brain puzzle\",10.0],[\"Jeopardy!\\u00ae Trivia Quiz Game Show\",1.0],[\"Spin of Fortune - Quiz\",10.0],[\"100 PICS Quiz - Guess Trivia, Logo & Picture Games\",10.0],[\"Millionaire 2021 - Free Trivia Quiz Offline Game\",10.0],[\"General Knowledge Quiz\",5.0],[\"Food Quiz\",10.0],[\"Trivia Survival 100\",1.0],[\"Adivina la Canci\\u00f3n\",5.0],[\"Where Logic?\",5.0],[\"Nope Quiz\",1.0],[\"Genius Quiz - Smart Brain Trivia Game\",5.0],[\"Who Becomes Rich\",5.0],[\"Richman 4 fun\",1.0],[\"\\u0412\\u0440\\u0430\\u0449\\u0430\\u0439\\u0442\\u0435 \\u0431\\u0430\\u0440\\u0430\\u0431\\u0430\\u043d\",10.0],[\"TRIVIA STAR - Free Trivia Games Offline App\",5.0],[\"Trick Me: Logical Brain Teasers Puzzle\",5.0],[\"TRIVIA 360: Single-player & Multiplayer quiz game\",5.0],[\"Free RBX Master\",0.5],[\"sameQuizy\",1.0],[\"Live Quiz Games App, Trivia & Gaming App for Money\",10.0],[\"Quiz Of Kings\",1.0],[\"MEGA QUIZ GAMING 2021 - Guess the game Trivia\",1.0],[\"Guess The Movie \\u00ae\",1.0],[\"Would You Rather? The Game\",5.0],[\"Guess the Logo: Multiple Choice Quiz\",10.0],[\"Pluck It: hairs and emotions\",0.5],[\"A Journey Towards Jesus\",1.0],[\"\\u0423\\u0413\\u0410\\u0414\\u0410\\u0419 \\u0411\\u041b\\u041e\\u0413\\u0415\\u0420\\u0410\",1.0],[\"96%: Family Quiz\",1.0],[\"\\u042d\\u0432\\u0440\\u0438\\u043a\\u0430! \\u041b\\u043e\\u0433\\u0438\\u0447\\u0435\\u0441\\u043a\\u0438\\u0435 \\u0417\\u0430\\u0434\\u0430\\u0447\\u0438, \\u0418\\u0433\\u0440\\u044b \\u0438 \\u0413\\u043e\\u043b\\u043e\\u0432\\u043e\\u043b\\u043e\\u043c\\u043a\\u0438\",1.0],[\"Stupid test: moron test, idiotest. IQ bored games\",1.0],[\"Trivia Crack (No Ads)\",0.5],[\"Quiz World: Play and Win Everyday!\",1.0],[\"\\uc2a4\\ucf00\\uce58\\ud034\\uc988\",5.0],[\"I Know the Cartoon\",5.0],[\"NEW QuizDuel!\",1.0],[\"Trivia Challenge\",1.0],[\"Atriviate (Online Trivia)\",5.0],[\"Quiz - Offline Games\",5.0],[\"Trivia Crack Adventure\",1.0],[\"Gartic.io - Draw, Guess, WIN\",5.0],[\"Truth or Dare\",1.0],[\"BFF Friendship Test\",10.0],[\"Superbuzzer Trivia Quiz Game\",1.0],[\"The Higher Lower Game\",5.0],[\"Eu Sei a M\\u00fasica\",1.0],[\"Palabra Correcta\",5.0],[\"\\u0641\\u0643\\u0631 \\u0640 Think\",0.1],[\"Se como Jose\",1.0],[\"TopQuiz -Play Quiz & Lottery | Win Money via Paytm\",1.0],[\"101 Pics: Photo Quiz\",5.0],[\"Personal Name Test\",1.0],[\"Flags and Capitals of the World Quiz\",1.0],[\"Logo Test: World Brands Quiz, Guess Trivia Game\",1.0],[\"\\u00bfCu\\u00e1nto sabes de Primaria?\",10.0],[\"Cars Logo Quiz HD\",5.0],[\"\\u05dc\\u05d5\\u05d2\\u05d5\\u05d8\\u05e1\\u05d8 \\u05d8\\u05e8\\u05d9\\u05d5\\u05d5\\u05d9\\u05d4: \\u05de\\u05e9\\u05d7\\u05e7 \\u05d4\\u05e1\\u05de\\u05dc\\u05d9\\u05dd \\u05d5\\u05d4\\u05de\\u05d5\\u05ea\\u05d2\\u05d9\\u05dd \\u05d4\\u05d2\\u05d3\\u05d5\\u05dc \\u05d1\\u05d9\\u05e9\\u05e8\\u05d0\\u05dc\",0.5],[\"90's Quiz Game\",0.5],[\"Flags of All Countries of the World: Guess-Quiz\",5.0],[\"Vrai ou Faux ? Le grand Quiz\",1.0],[\"Alphabet Game\",5.0],[\"Hardest Girl to Get - Kode Keras Cowok dari Cewek\",1.0],[\"Slam\",1.0],[\"\\uc544\\uc7ac \\ub2a5\\ub825 \\uace0\\uc0ac : \\uc544\\uc7ac\\uac1c\\uadf8\\uc640 \\ub10c\\uc13c\\uc2a4\\ud034\\uc988\",1.0],[\"Cuanto Sabes de la Biblia\",0.5],[\"Quiz Planet\",1.0],[\"AppTrailers\",1.0]],\"hovertemplate\":\"category=GAME TRIVIA<br>total ratings=%{x}<br>5 star ratings=%{y}<br>title=%{customdata[0]}<br>installation_in_million=%{customdata[1]}<extra></extra>\",\"legendgroup\":\"GAME TRIVIA\",\"marker\":{\"color\":\"#19d3f3\",\"symbol\":\"circle\"},\"mode\":\"markers\",\"name\":\"GAME TRIVIA\",\"showlegend\":true,\"type\":\"scattergl\",\"x\":[7271580,3989535,2612778,1183400,980865,764082,649366,645513,421132,408024,407061,377359,351278,335412,334698,331006,301099,289518,281824,280932,216664,205575,187196,181368,172520,165304,163384,162035,160282,159354,157035,154168,152297,150895,150300,148570,147783,143164,142834,130720,124595,122984,120815,115029,113958,113925,111089,109901,108702,108480,107289,107262,106880,100739,97967,94798,94619,85605,84299,81867,77704,77401,76755,75630,74594,67309,65734,65696,65544,65029,64589,60836,60110,59564,59446,58971,58346,57935,57633,56806,56783,56670,55050,53419,51922,51610,51017,50808,49656,49632,47900,47640,45786,45310,44971,44876,44132,43202,43189,42520],\"xaxis\":\"x\",\"y\":[4813526,3146099,1800991,782381,759734,597205,559792,562389,262328,260763,292482,308562,226472,227938,195886,243353,204945,165885,139952,189645,154611,133315,134426,118398,119533,98452,137473,114635,143297,126217,107581,110993,74840,95711,100127,98350,103615,91545,92969,92263,73325,83425,85750,83966,54024,57157,85772,98795,74456,65183,78781,69383,54382,79501,46730,31819,49277,47779,71606,69027,70380,46640,55311,47271,55411,52621,25093,41317,24833,52376,23795,38247,39556,32841,43119,37997,34640,25087,35717,41997,50537,42500,24578,41529,25556,35507,36341,25764,31207,40900,40057,30447,24292,27603,30436,28192,33567,37262,22911,24408],\"yaxis\":\"y\"},{\"customdata\":[[\"\\u0643\\u0644\\u0645\\u0627\\u062a \\u0643\\u0631\\u0627\\u0634 - \\u0644\\u0639\\u0628\\u0629 \\u062a\\u0633\\u0644\\u064a\\u0629 \\u0648\\u062a\\u062d\\u062f\\u064a \\u0645\\u0646 \\u0632\\u064a\\u062a\\u0648\\u0646\\u0629\",10.0],[\"Word Cookies!\\u00ae\",10.0],[\"Words of Wonders: Crossword to Connect Vocabulary\",100.0],[\"Words with Friends Classic: Word Puzzle Challenge\",50.0],[\"4 Fotos 1 Palabra\",50.0],[\"4 Pics 1 Word\",50.0],[\"Draw Something Classic\",50.0],[\"CodyCross: Crossword Puzzles\",50.0],[\"WordBrain - Free classic word puzzle game\",10.0],[\"Word Connect\",10.0],[\"Wordscapes\",50.0],[\"\\u0644\\u0639\\u0628\\u0629 \\u0643\\u0644\\u0645\\u0629 \\u0627\\u0644\\u0633\\u0631 : \\u0627\\u0644\\u062c\\u0632\\u0621 \\u0627\\u0644\\u062b\\u0627\\u0646\\u064a\",10.0],[\"\\u0643\\u0644\\u0645\\u0627\\u062a \\u0645\\u062a\\u0642\\u0627\\u0637\\u0639\\u0629\",10.0],[\"\\u0648\\u0635\\u0644\\u0629 - \\u0644\\u0639\\u0628\\u0629 \\u0643\\u0644\\u0645\\u0627\\u062a \\u0645\\u062a\\u0642\\u0627\\u0637\\u0639\\u0629\",5.0],[\"Words with Friends: Play Fun Word Puzzle Games\",10.0],[\"Word Snack - Your Picnic with Words\",5.0],[\"Word search\",50.0],[\"Wordfeud Free\",10.0],[\"Word Search\",10.0],[\"Braindom 2: Who is Lying? Fun Brain Teaser Riddles\",10.0],[\"Word Search\",10.0],[\"Word Search\",10.0],[\"Word Search\",10.0],[\"Word Link\",50.0],[\"Words Story - Addictive Word Game\",50.0],[\"Word Streak-Words With Friends\",10.0],[\"TTS Pintar 2021 - Teka Teki Silang Offline\",10.0],[\"Word Search\",10.0],[\"Word Search\",10.0],[\"Word Search\",10.0],[\"4 Bilder 1 Wort\",10.0],[\"Word Academy\",5.0],[\"Word Connect - Word Games Puzzle\",10.0],[\"Pictoword: Fun Word Games & Offline Brain Game\",10.0],[\"Word Collect - Free Word Games\",10.0],[\"Braindom: Tricky Brain Teasers, Test, Riddle Games\",10.0],[\"Word Search\",50.0],[\"Word Search\",50.0],[\"Word Search\",50.0],[\"Wheel of Fortune: Free Play\",10.0],[\"Word Crack\",10.0],[\"4 Images 1 Mot\",10.0],[\"4 \\u0444\\u043e\\u0442\\u043a\\u0438 1 \\u0441\\u043b\\u043e\\u0432\\u043e\",10.0],[\"Wordie: Guess the Word\",10.0],[\"Ruzzle Free\",10.0],[\"Kelimelik\",5.0],[\"Scrabble\\u00ae GO - New Word Game\",10.0],[\"\\u0644\\u0639\\u0628\\u0629 \\u0643\\u0644\\u0645\\u0629 \\u0627\\u0644\\u0633\\u0631\",10.0],[\"\\u041d\\u0430\\u0439\\u0434\\u0438 \\u0441\\u043b\\u043e\\u0432\\u0430\",10.0],[\"Pro des Mots\",10.0],[\"Word Search Free Game\",10.0],[\"Garden of Words - Word game\",10.0],[\"Word Crossy - A crossword game\",5.0],[\"4 Immagini 1 Parola\",10.0],[\"Words Crush: Hidden Words!\",5.0],[\"Word Search Sea: Unscramble words\",10.0],[\"Fill-The-Words - word search puzzle\",10.0],[\"4 Pics 1 Word Puzzle Plus\",5.0],[\"Palabras Cruz\",10.0],[\"Words With Friends 2 - Board Games & Word Puzzles\",10.0],[\"Word Stacks\",10.0],[\"Word Yard - Fun with Words\",1.0],[\"Word Cross\",10.0],[\"Word Trip\",5.0],[\"\\u0622\\u0645\\u06cc\\u0631\\u0632\\u0627\",1.0],[\"Heads Up!\",10.0],[\"Word Search Quest - Free Word Puzzle Game\",10.0],[\"\\u0421\\u043b\\u043e\\u0432\\u0430 \\u0438\\u0437 \\u0421\\u043b\\u043e\\u0432\\u0430\",5.0],[\"What Am I? \\u2013 Family Charades (Guess The Word)\",10.0],[\"Wort Guru\",5.0],[\"Stop - Categories Word Game\",10.0],[\"Wordington: Words & Design\",10.0],[\"Crossword Jam\",5.0],[\"Kelime Gezmece\",10.0],[\"Jalebi - A Desi Adda With Ludo Snakes & Ladders\",10.0],[\"Immortal Taoists-Idle Game of Immortal Cultivation\",1.0],[\"Classic Words Solo\",10.0],[\"WordWhizzle Search\",1.0],[\"Word Find - Word Connect Free Offline Word Games\",10.0],[\"Draw and Guess Online\",1.0],[\"2 Pictures 1 Word\",5.0],[\"Word Crack Mix 2\",5.0],[\"Word Search\",10.0],[\"Word Domination\",5.0],[\"Sz\\u00f3 Piknik - Word Snack\",5.0],[\"\\u0627\\u0634\\u0628\\u0643\\u0647\\u0627 - \\u0644\\u0639\\u0628\\u0629 \\u062a\\u0633\\u0644\\u064a\\u0629 \\u0648\\u062a\\u0641\\u0643\\u064a\\u0631\",1.0],[\"\\u0643\\u0644\\u0645\\u0627\\u062a \\u0645\\u062a\\u0642\\u0627\\u0637\\u0639\\u0629 \\u0645\\u0646 \\u0632\\u064a\\u062a\\u0648\\u0646\\u0629 - \\u0631\\u0634\\u0641\\u0629 \\u0648\\u0635\\u0644\\u0629\",1.0],[\"Evil Apples: You Against Humanity!\",5.0],[\"Word Chums\",1.0],[\"Word Crush\",1.0],[\"Word Trek - Word Brain streak - hand made puzzles\",5.0],[\"Word Surf - Word Game\",5.0],[\"Words Crush: Hidden Themes!\",1.0],[\"Teka Teki Silang\",5.0],[\"7 Little Words: A fun twist on crossword puzzles\",1.0],[\"Charades!\",10.0],[\"Escape Room: Mystery Word\",10.0],[\"Wordalot - Picture Crossword\",5.0],[\"Jogo da Forca\",10.0],[\"Word Swipe\",10.0],[\"Zgadnij co to?\",1.0],[\"Piknik S\\u0142owo - Word Snack\",1.0],[\"Wordox \\u2013 Free multiplayer word game\",1.0],[\"4 Fotos 1 Palavra\",5.0],[\"\\u0632\\u0648\\u0627\\u064a\\u0627 - \\u0644\\u0639\\u0628\\u0629 \\u0633\\u062a\\u062d\\u0631\\u0643 \\u0632\\u0648\\u0627\\u064a\\u0627 \\u0639\\u0642\\u0644\\u0643\",1.0],[\"Word Life - Connect crosswords puzzle\",5.0]],\"hovertemplate\":\"category=GAME WORD<br>total ratings=%{x}<br>5 star ratings=%{y}<br>title=%{customdata[0]}<br>installation_in_million=%{customdata[1]}<extra></extra>\",\"legendgroup\":\"GAME WORD\",\"marker\":{\"color\":\"#FF6692\",\"symbol\":\"circle\"},\"mode\":\"markers\",\"name\":\"GAME WORD\",\"showlegend\":true,\"type\":\"scattergl\",\"x\":[2314831,2245883,1822050,1722008,1215714,1172061,1127320,966304,959465,958517,944472,796465,770867,743325,736199,669236,644050,617186,614440,600422,512540,512540,512540,501218,495074,469666,468930,455618,455618,455618,445403,444851,419753,412505,406650,392711,390189,390189,390189,386981,383045,379834,372118,362769,356335,351822,333183,327215,320018,311348,303820,299625,293144,287375,283775,282196,275831,264735,261311,254953,242220,233892,227032,224003,222726,220723,216274,214635,214048,212106,205191,203605,195355,187428,177584,176947,176040,172253,171275,169790,160336,159357,157695,155301,152252,151509,150784,148706,146393,145071,143865,141843,137143,136575,129879,128916,127263,126651,126068,125948,124155,122845,120476,114852,110293,109809],\"xaxis\":\"x\",\"y\":[2032320,1681302,1395622,971870,865192,822765,632838,675125,567614,760211,768395,683334,640995,622699,448237,517815,437940,366527,440880,495650,423778,278688,260865,366216,272292,290484,340833,423778,278688,260865,267581,279022,332795,263532,373268,332574,423778,278688,260865,293442,176250,231152,277984,274990,220384,251841,184234,284850,259366,225566,273302,173068,174532,188407,194084,240235,222986,156926,213985,135868,203604,183280,181059,171143,198941,114295,168112,176773,131987,155455,83797,123378,157811,152260,123035,125043,115491,123845,135499,121285,130362,81330,103539,94615,120191,127732,124227,88425,115049,106101,94569,116684,90806,82262,107466,87579,88905,91723,84188,106443,94530,96954,74010,84688,99168,70647],\"yaxis\":\"y\"}],                        {\"legend\":{\"title\":{\"text\":\"category\"},\"tracegroupgap\":0},\"margin\":{\"t\":60},\"template\":{\"data\":{\"bar\":[{\"error_x\":{\"color\":\"#2a3f5f\"},\"error_y\":{\"color\":\"#2a3f5f\"},\"marker\":{\"line\":{\"color\":\"#E5ECF6\",\"width\":0.5},\"pattern\":{\"fillmode\":\"overlay\",\"size\":10,\"solidity\":0.2}},\"type\":\"bar\"}],\"barpolar\":[{\"marker\":{\"line\":{\"color\":\"#E5ECF6\",\"width\":0.5},\"pattern\":{\"fillmode\":\"overlay\",\"size\":10,\"solidity\":0.2}},\"type\":\"barpolar\"}],\"carpet\":[{\"aaxis\":{\"endlinecolor\":\"#2a3f5f\",\"gridcolor\":\"white\",\"linecolor\":\"white\",\"minorgridcolor\":\"white\",\"startlinecolor\":\"#2a3f5f\"},\"baxis\":{\"endlinecolor\":\"#2a3f5f\",\"gridcolor\":\"white\",\"linecolor\":\"white\",\"minorgridcolor\":\"white\",\"startlinecolor\":\"#2a3f5f\"},\"type\":\"carpet\"}],\"choropleth\":[{\"colorbar\":{\"outlinewidth\":0,\"ticks\":\"\"},\"type\":\"choropleth\"}],\"contour\":[{\"colorbar\":{\"outlinewidth\":0,\"ticks\":\"\"},\"colorscale\":[[0.0,\"#0d0887\"],[0.1111111111111111,\"#46039f\"],[0.2222222222222222,\"#7201a8\"],[0.3333333333333333,\"#9c179e\"],[0.4444444444444444,\"#bd3786\"],[0.5555555555555556,\"#d8576b\"],[0.6666666666666666,\"#ed7953\"],[0.7777777777777778,\"#fb9f3a\"],[0.8888888888888888,\"#fdca26\"],[1.0,\"#f0f921\"]],\"type\":\"contour\"}],\"contourcarpet\":[{\"colorbar\":{\"outlinewidth\":0,\"ticks\":\"\"},\"type\":\"contourcarpet\"}],\"heatmap\":[{\"colorbar\":{\"outlinewidth\":0,\"ticks\":\"\"},\"colorscale\":[[0.0,\"#0d0887\"],[0.1111111111111111,\"#46039f\"],[0.2222222222222222,\"#7201a8\"],[0.3333333333333333,\"#9c179e\"],[0.4444444444444444,\"#bd3786\"],[0.5555555555555556,\"#d8576b\"],[0.6666666666666666,\"#ed7953\"],[0.7777777777777778,\"#fb9f3a\"],[0.8888888888888888,\"#fdca26\"],[1.0,\"#f0f921\"]],\"type\":\"heatmap\"}],\"heatmapgl\":[{\"colorbar\":{\"outlinewidth\":0,\"ticks\":\"\"},\"colorscale\":[[0.0,\"#0d0887\"],[0.1111111111111111,\"#46039f\"],[0.2222222222222222,\"#7201a8\"],[0.3333333333333333,\"#9c179e\"],[0.4444444444444444,\"#bd3786\"],[0.5555555555555556,\"#d8576b\"],[0.6666666666666666,\"#ed7953\"],[0.7777777777777778,\"#fb9f3a\"],[0.8888888888888888,\"#fdca26\"],[1.0,\"#f0f921\"]],\"type\":\"heatmapgl\"}],\"histogram\":[{\"marker\":{\"pattern\":{\"fillmode\":\"overlay\",\"size\":10,\"solidity\":0.2}},\"type\":\"histogram\"}],\"histogram2d\":[{\"colorbar\":{\"outlinewidth\":0,\"ticks\":\"\"},\"colorscale\":[[0.0,\"#0d0887\"],[0.1111111111111111,\"#46039f\"],[0.2222222222222222,\"#7201a8\"],[0.3333333333333333,\"#9c179e\"],[0.4444444444444444,\"#bd3786\"],[0.5555555555555556,\"#d8576b\"],[0.6666666666666666,\"#ed7953\"],[0.7777777777777778,\"#fb9f3a\"],[0.8888888888888888,\"#fdca26\"],[1.0,\"#f0f921\"]],\"type\":\"histogram2d\"}],\"histogram2dcontour\":[{\"colorbar\":{\"outlinewidth\":0,\"ticks\":\"\"},\"colorscale\":[[0.0,\"#0d0887\"],[0.1111111111111111,\"#46039f\"],[0.2222222222222222,\"#7201a8\"],[0.3333333333333333,\"#9c179e\"],[0.4444444444444444,\"#bd3786\"],[0.5555555555555556,\"#d8576b\"],[0.6666666666666666,\"#ed7953\"],[0.7777777777777778,\"#fb9f3a\"],[0.8888888888888888,\"#fdca26\"],[1.0,\"#f0f921\"]],\"type\":\"histogram2dcontour\"}],\"mesh3d\":[{\"colorbar\":{\"outlinewidth\":0,\"ticks\":\"\"},\"type\":\"mesh3d\"}],\"parcoords\":[{\"line\":{\"colorbar\":{\"outlinewidth\":0,\"ticks\":\"\"}},\"type\":\"parcoords\"}],\"pie\":[{\"automargin\":true,\"type\":\"pie\"}],\"scatter\":[{\"marker\":{\"colorbar\":{\"outlinewidth\":0,\"ticks\":\"\"}},\"type\":\"scatter\"}],\"scatter3d\":[{\"line\":{\"colorbar\":{\"outlinewidth\":0,\"ticks\":\"\"}},\"marker\":{\"colorbar\":{\"outlinewidth\":0,\"ticks\":\"\"}},\"type\":\"scatter3d\"}],\"scattercarpet\":[{\"marker\":{\"colorbar\":{\"outlinewidth\":0,\"ticks\":\"\"}},\"type\":\"scattercarpet\"}],\"scattergeo\":[{\"marker\":{\"colorbar\":{\"outlinewidth\":0,\"ticks\":\"\"}},\"type\":\"scattergeo\"}],\"scattergl\":[{\"marker\":{\"colorbar\":{\"outlinewidth\":0,\"ticks\":\"\"}},\"type\":\"scattergl\"}],\"scattermapbox\":[{\"marker\":{\"colorbar\":{\"outlinewidth\":0,\"ticks\":\"\"}},\"type\":\"scattermapbox\"}],\"scatterpolar\":[{\"marker\":{\"colorbar\":{\"outlinewidth\":0,\"ticks\":\"\"}},\"type\":\"scatterpolar\"}],\"scatterpolargl\":[{\"marker\":{\"colorbar\":{\"outlinewidth\":0,\"ticks\":\"\"}},\"type\":\"scatterpolargl\"}],\"scatterternary\":[{\"marker\":{\"colorbar\":{\"outlinewidth\":0,\"ticks\":\"\"}},\"type\":\"scatterternary\"}],\"surface\":[{\"colorbar\":{\"outlinewidth\":0,\"ticks\":\"\"},\"colorscale\":[[0.0,\"#0d0887\"],[0.1111111111111111,\"#46039f\"],[0.2222222222222222,\"#7201a8\"],[0.3333333333333333,\"#9c179e\"],[0.4444444444444444,\"#bd3786\"],[0.5555555555555556,\"#d8576b\"],[0.6666666666666666,\"#ed7953\"],[0.7777777777777778,\"#fb9f3a\"],[0.8888888888888888,\"#fdca26\"],[1.0,\"#f0f921\"]],\"type\":\"surface\"}],\"table\":[{\"cells\":{\"fill\":{\"color\":\"#EBF0F8\"},\"line\":{\"color\":\"white\"}},\"header\":{\"fill\":{\"color\":\"#C8D4E3\"},\"line\":{\"color\":\"white\"}},\"type\":\"table\"}]},\"layout\":{\"annotationdefaults\":{\"arrowcolor\":\"#2a3f5f\",\"arrowhead\":0,\"arrowwidth\":1},\"autotypenumbers\":\"strict\",\"coloraxis\":{\"colorbar\":{\"outlinewidth\":0,\"ticks\":\"\"}},\"colorscale\":{\"diverging\":[[0,\"#8e0152\"],[0.1,\"#c51b7d\"],[0.2,\"#de77ae\"],[0.3,\"#f1b6da\"],[0.4,\"#fde0ef\"],[0.5,\"#f7f7f7\"],[0.6,\"#e6f5d0\"],[0.7,\"#b8e186\"],[0.8,\"#7fbc41\"],[0.9,\"#4d9221\"],[1,\"#276419\"]],\"sequential\":[[0.0,\"#0d0887\"],[0.1111111111111111,\"#46039f\"],[0.2222222222222222,\"#7201a8\"],[0.3333333333333333,\"#9c179e\"],[0.4444444444444444,\"#bd3786\"],[0.5555555555555556,\"#d8576b\"],[0.6666666666666666,\"#ed7953\"],[0.7777777777777778,\"#fb9f3a\"],[0.8888888888888888,\"#fdca26\"],[1.0,\"#f0f921\"]],\"sequentialminus\":[[0.0,\"#0d0887\"],[0.1111111111111111,\"#46039f\"],[0.2222222222222222,\"#7201a8\"],[0.3333333333333333,\"#9c179e\"],[0.4444444444444444,\"#bd3786\"],[0.5555555555555556,\"#d8576b\"],[0.6666666666666666,\"#ed7953\"],[0.7777777777777778,\"#fb9f3a\"],[0.8888888888888888,\"#fdca26\"],[1.0,\"#f0f921\"]]},\"colorway\":[\"#636efa\",\"#EF553B\",\"#00cc96\",\"#ab63fa\",\"#FFA15A\",\"#19d3f3\",\"#FF6692\",\"#B6E880\",\"#FF97FF\",\"#FECB52\"],\"font\":{\"color\":\"#2a3f5f\"},\"geo\":{\"bgcolor\":\"white\",\"lakecolor\":\"white\",\"landcolor\":\"#E5ECF6\",\"showlakes\":true,\"showland\":true,\"subunitcolor\":\"white\"},\"hoverlabel\":{\"align\":\"left\"},\"hovermode\":\"closest\",\"mapbox\":{\"style\":\"light\"},\"paper_bgcolor\":\"white\",\"plot_bgcolor\":\"#E5ECF6\",\"polar\":{\"angularaxis\":{\"gridcolor\":\"white\",\"linecolor\":\"white\",\"ticks\":\"\"},\"bgcolor\":\"#E5ECF6\",\"radialaxis\":{\"gridcolor\":\"white\",\"linecolor\":\"white\",\"ticks\":\"\"}},\"scene\":{\"xaxis\":{\"backgroundcolor\":\"#E5ECF6\",\"gridcolor\":\"white\",\"gridwidth\":2,\"linecolor\":\"white\",\"showbackground\":true,\"ticks\":\"\",\"zerolinecolor\":\"white\"},\"yaxis\":{\"backgroundcolor\":\"#E5ECF6\",\"gridcolor\":\"white\",\"gridwidth\":2,\"linecolor\":\"white\",\"showbackground\":true,\"ticks\":\"\",\"zerolinecolor\":\"white\"},\"zaxis\":{\"backgroundcolor\":\"#E5ECF6\",\"gridcolor\":\"white\",\"gridwidth\":2,\"linecolor\":\"white\",\"showbackground\":true,\"ticks\":\"\",\"zerolinecolor\":\"white\"}},\"shapedefaults\":{\"line\":{\"color\":\"#2a3f5f\"}},\"ternary\":{\"aaxis\":{\"gridcolor\":\"white\",\"linecolor\":\"white\",\"ticks\":\"\"},\"baxis\":{\"gridcolor\":\"white\",\"linecolor\":\"white\",\"ticks\":\"\"},\"bgcolor\":\"#E5ECF6\",\"caxis\":{\"gridcolor\":\"white\",\"linecolor\":\"white\",\"ticks\":\"\"}},\"title\":{\"x\":0.05},\"xaxis\":{\"automargin\":true,\"gridcolor\":\"white\",\"linecolor\":\"white\",\"ticks\":\"\",\"title\":{\"standoff\":15},\"zerolinecolor\":\"white\",\"zerolinewidth\":2},\"yaxis\":{\"automargin\":true,\"gridcolor\":\"white\",\"linecolor\":\"white\",\"ticks\":\"\",\"title\":{\"standoff\":15},\"zerolinecolor\":\"white\",\"zerolinewidth\":2}}},\"xaxis\":{\"anchor\":\"y\",\"categoryorder\":\"total descending\",\"domain\":[0.0,1.0],\"title\":{\"text\":\"total ratings\"}},\"yaxis\":{\"anchor\":\"x\",\"domain\":[0.0,1.0],\"title\":{\"text\":\"5 star ratings\"}}},                        {\"responsive\": true}                    ).then(function(){\n",
       "                            \n",
       "var gd = document.getElementById('b561b27a-5dc9-4973-9def-12e3ec909849');\n",
       "var x = new MutationObserver(function (mutations, observer) {{\n",
       "        var display = window.getComputedStyle(gd).display;\n",
       "        if (!display || display === 'none') {{\n",
       "            console.log([gd, 'removed!']);\n",
       "            Plotly.purge(gd);\n",
       "            observer.disconnect();\n",
       "        }}\n",
       "}});\n",
       "\n",
       "// Listen for the removal of the full notebook cells\n",
       "var notebookContainer = gd.closest('#notebook-container');\n",
       "if (notebookContainer) {{\n",
       "    x.observe(notebookContainer, {childList: true});\n",
       "}}\n",
       "\n",
       "// Listen for the clearing of the current output cell\n",
       "var outputEl = gd.closest('.output');\n",
       "if (outputEl) {{\n",
       "    x.observe(outputEl, {childList: true});\n",
       "}}\n",
       "\n",
       "                        })                };                });            </script>        </div>"
      ]
     },
     "metadata": {},
     "output_type": "display_data"
    }
   ],
   "source": [
    "fig = px.scatter(df, x= 'total ratings', y='5 star ratings', hover_data = df[['title', 'installation_in_million']], color='category')\n",
    "fig.update_layout(xaxis={'categoryorder':'total descending'})\n",
    "fig.show()"
   ]
  },
  {
   "cell_type": "code",
   "execution_count": 42,
   "id": "d3961588",
   "metadata": {
    "execution": {
     "iopub.execute_input": "2021-07-17T21:46:05.128389Z",
     "iopub.status.busy": "2021-07-17T21:46:05.124485Z",
     "iopub.status.idle": "2021-07-17T21:46:05.196034Z",
     "shell.execute_reply": "2021-07-17T21:46:05.195493Z",
     "shell.execute_reply.started": "2021-07-17T21:37:38.998001Z"
    },
    "papermill": {
     "duration": 0.181447,
     "end_time": "2021-07-17T21:46:05.196165",
     "exception": false,
     "start_time": "2021-07-17T21:46:05.014718",
     "status": "completed"
    },
    "tags": []
   },
   "outputs": [
    {
     "data": {
      "text/html": [
       "<div>                            <div id=\"cb9d5a52-1a33-4096-96da-70b8e441bece\" class=\"plotly-graph-div\" style=\"height:525px; width:100%;\"></div>            <script type=\"text/javascript\">                require([\"plotly\"], function(Plotly) {                    window.PLOTLYENV=window.PLOTLYENV || {};                                    if (document.getElementById(\"cb9d5a52-1a33-4096-96da-70b8e441bece\")) {                    Plotly.newPlot(                        \"cb9d5a52-1a33-4096-96da-70b8e441bece\",                        [{\"customdata\":[[\"Garena Free Fire - The Cobra\",500.0],[\"PUBG MOBILE: Graffiti Prank\",100.0],[\"Mobile Legends: Bang Bang\",100.0],[\"Brawl Stars\",100.0]],\"hovertemplate\":\"category=GAME ACTION<br>total ratings=%{x}<br>5 star ratings=%{y}<br>title=%{customdata[0]}<br>installation_in_million=%{customdata[1]}<extra></extra>\",\"legendgroup\":\"GAME ACTION\",\"marker\":{\"color\":\"#636efa\",\"symbol\":\"circle\"},\"mode\":\"markers\",\"name\":\"GAME ACTION\",\"orientation\":\"v\",\"showlegend\":true,\"type\":\"scatter\",\"x\":[80678661,35971961,25836869,17181659],\"xaxis\":\"x\",\"y\":[61935712,26670566,17850942,12493668],\"yaxis\":\"y\"},{\"customdata\":[[\"Clash of Clans\",500.0],[\"Clash Royale\",100.0]],\"hovertemplate\":\"category=GAME STRATEGY<br>total ratings=%{x}<br>5 star ratings=%{y}<br>title=%{customdata[0]}<br>installation_in_million=%{customdata[1]}<extra></extra>\",\"legendgroup\":\"GAME STRATEGY\",\"marker\":{\"color\":\"#EF553B\",\"symbol\":\"circle\"},\"mode\":\"markers\",\"name\":\"GAME STRATEGY\",\"orientation\":\"v\",\"showlegend\":true,\"type\":\"scatter\",\"x\":[55170976,30599283],\"xaxis\":\"x\",\"y\":[42736445,20850163],\"yaxis\":\"y\"},{\"customdata\":[[\"Subway Surfers\",1000.0]],\"hovertemplate\":\"category=GAME ARCADE<br>total ratings=%{x}<br>5 star ratings=%{y}<br>title=%{customdata[0]}<br>installation_in_million=%{customdata[1]}<extra></extra>\",\"legendgroup\":\"GAME ARCADE\",\"marker\":{\"color\":\"#00cc96\",\"symbol\":\"circle\"},\"mode\":\"markers\",\"name\":\"GAME ARCADE\",\"orientation\":\"v\",\"showlegend\":true,\"type\":\"scatter\",\"x\":[35305263],\"xaxis\":\"x\",\"y\":[26840330],\"yaxis\":\"y\"},{\"customdata\":[[\"Candy Crush Saga\",1000.0],[\"My Talking Tom\",500.0]],\"hovertemplate\":\"category=GAME CASUAL<br>total ratings=%{x}<br>5 star ratings=%{y}<br>title=%{customdata[0]}<br>installation_in_million=%{customdata[1]}<extra></extra>\",\"legendgroup\":\"GAME CASUAL\",\"marker\":{\"color\":\"#ab63fa\",\"symbol\":\"circle\"},\"mode\":\"markers\",\"name\":\"GAME CASUAL\",\"orientation\":\"v\",\"showlegend\":true,\"type\":\"scatter\",\"x\":[30859251,16715691],\"xaxis\":\"x\",\"y\":[23521533,12245585],\"yaxis\":\"y\"},{\"customdata\":[[\"Roblox\",100.0]],\"hovertemplate\":\"category=GAME ADVENTURE<br>total ratings=%{x}<br>5 star ratings=%{y}<br>title=%{customdata[0]}<br>installation_in_million=%{customdata[1]}<extra></extra>\",\"legendgroup\":\"GAME ADVENTURE\",\"marker\":{\"color\":\"#FFA15A\",\"symbol\":\"circle\"},\"mode\":\"markers\",\"name\":\"GAME ADVENTURE\",\"orientation\":\"v\",\"showlegend\":true,\"type\":\"scatter\",\"x\":[20649769],\"xaxis\":\"x\",\"y\":[16057759],\"yaxis\":\"y\"}],                        {\"legend\":{\"title\":{\"text\":\"category\"},\"tracegroupgap\":0},\"margin\":{\"t\":60},\"template\":{\"data\":{\"bar\":[{\"error_x\":{\"color\":\"#2a3f5f\"},\"error_y\":{\"color\":\"#2a3f5f\"},\"marker\":{\"line\":{\"color\":\"#E5ECF6\",\"width\":0.5},\"pattern\":{\"fillmode\":\"overlay\",\"size\":10,\"solidity\":0.2}},\"type\":\"bar\"}],\"barpolar\":[{\"marker\":{\"line\":{\"color\":\"#E5ECF6\",\"width\":0.5},\"pattern\":{\"fillmode\":\"overlay\",\"size\":10,\"solidity\":0.2}},\"type\":\"barpolar\"}],\"carpet\":[{\"aaxis\":{\"endlinecolor\":\"#2a3f5f\",\"gridcolor\":\"white\",\"linecolor\":\"white\",\"minorgridcolor\":\"white\",\"startlinecolor\":\"#2a3f5f\"},\"baxis\":{\"endlinecolor\":\"#2a3f5f\",\"gridcolor\":\"white\",\"linecolor\":\"white\",\"minorgridcolor\":\"white\",\"startlinecolor\":\"#2a3f5f\"},\"type\":\"carpet\"}],\"choropleth\":[{\"colorbar\":{\"outlinewidth\":0,\"ticks\":\"\"},\"type\":\"choropleth\"}],\"contour\":[{\"colorbar\":{\"outlinewidth\":0,\"ticks\":\"\"},\"colorscale\":[[0.0,\"#0d0887\"],[0.1111111111111111,\"#46039f\"],[0.2222222222222222,\"#7201a8\"],[0.3333333333333333,\"#9c179e\"],[0.4444444444444444,\"#bd3786\"],[0.5555555555555556,\"#d8576b\"],[0.6666666666666666,\"#ed7953\"],[0.7777777777777778,\"#fb9f3a\"],[0.8888888888888888,\"#fdca26\"],[1.0,\"#f0f921\"]],\"type\":\"contour\"}],\"contourcarpet\":[{\"colorbar\":{\"outlinewidth\":0,\"ticks\":\"\"},\"type\":\"contourcarpet\"}],\"heatmap\":[{\"colorbar\":{\"outlinewidth\":0,\"ticks\":\"\"},\"colorscale\":[[0.0,\"#0d0887\"],[0.1111111111111111,\"#46039f\"],[0.2222222222222222,\"#7201a8\"],[0.3333333333333333,\"#9c179e\"],[0.4444444444444444,\"#bd3786\"],[0.5555555555555556,\"#d8576b\"],[0.6666666666666666,\"#ed7953\"],[0.7777777777777778,\"#fb9f3a\"],[0.8888888888888888,\"#fdca26\"],[1.0,\"#f0f921\"]],\"type\":\"heatmap\"}],\"heatmapgl\":[{\"colorbar\":{\"outlinewidth\":0,\"ticks\":\"\"},\"colorscale\":[[0.0,\"#0d0887\"],[0.1111111111111111,\"#46039f\"],[0.2222222222222222,\"#7201a8\"],[0.3333333333333333,\"#9c179e\"],[0.4444444444444444,\"#bd3786\"],[0.5555555555555556,\"#d8576b\"],[0.6666666666666666,\"#ed7953\"],[0.7777777777777778,\"#fb9f3a\"],[0.8888888888888888,\"#fdca26\"],[1.0,\"#f0f921\"]],\"type\":\"heatmapgl\"}],\"histogram\":[{\"marker\":{\"pattern\":{\"fillmode\":\"overlay\",\"size\":10,\"solidity\":0.2}},\"type\":\"histogram\"}],\"histogram2d\":[{\"colorbar\":{\"outlinewidth\":0,\"ticks\":\"\"},\"colorscale\":[[0.0,\"#0d0887\"],[0.1111111111111111,\"#46039f\"],[0.2222222222222222,\"#7201a8\"],[0.3333333333333333,\"#9c179e\"],[0.4444444444444444,\"#bd3786\"],[0.5555555555555556,\"#d8576b\"],[0.6666666666666666,\"#ed7953\"],[0.7777777777777778,\"#fb9f3a\"],[0.8888888888888888,\"#fdca26\"],[1.0,\"#f0f921\"]],\"type\":\"histogram2d\"}],\"histogram2dcontour\":[{\"colorbar\":{\"outlinewidth\":0,\"ticks\":\"\"},\"colorscale\":[[0.0,\"#0d0887\"],[0.1111111111111111,\"#46039f\"],[0.2222222222222222,\"#7201a8\"],[0.3333333333333333,\"#9c179e\"],[0.4444444444444444,\"#bd3786\"],[0.5555555555555556,\"#d8576b\"],[0.6666666666666666,\"#ed7953\"],[0.7777777777777778,\"#fb9f3a\"],[0.8888888888888888,\"#fdca26\"],[1.0,\"#f0f921\"]],\"type\":\"histogram2dcontour\"}],\"mesh3d\":[{\"colorbar\":{\"outlinewidth\":0,\"ticks\":\"\"},\"type\":\"mesh3d\"}],\"parcoords\":[{\"line\":{\"colorbar\":{\"outlinewidth\":0,\"ticks\":\"\"}},\"type\":\"parcoords\"}],\"pie\":[{\"automargin\":true,\"type\":\"pie\"}],\"scatter\":[{\"marker\":{\"colorbar\":{\"outlinewidth\":0,\"ticks\":\"\"}},\"type\":\"scatter\"}],\"scatter3d\":[{\"line\":{\"colorbar\":{\"outlinewidth\":0,\"ticks\":\"\"}},\"marker\":{\"colorbar\":{\"outlinewidth\":0,\"ticks\":\"\"}},\"type\":\"scatter3d\"}],\"scattercarpet\":[{\"marker\":{\"colorbar\":{\"outlinewidth\":0,\"ticks\":\"\"}},\"type\":\"scattercarpet\"}],\"scattergeo\":[{\"marker\":{\"colorbar\":{\"outlinewidth\":0,\"ticks\":\"\"}},\"type\":\"scattergeo\"}],\"scattergl\":[{\"marker\":{\"colorbar\":{\"outlinewidth\":0,\"ticks\":\"\"}},\"type\":\"scattergl\"}],\"scattermapbox\":[{\"marker\":{\"colorbar\":{\"outlinewidth\":0,\"ticks\":\"\"}},\"type\":\"scattermapbox\"}],\"scatterpolar\":[{\"marker\":{\"colorbar\":{\"outlinewidth\":0,\"ticks\":\"\"}},\"type\":\"scatterpolar\"}],\"scatterpolargl\":[{\"marker\":{\"colorbar\":{\"outlinewidth\":0,\"ticks\":\"\"}},\"type\":\"scatterpolargl\"}],\"scatterternary\":[{\"marker\":{\"colorbar\":{\"outlinewidth\":0,\"ticks\":\"\"}},\"type\":\"scatterternary\"}],\"surface\":[{\"colorbar\":{\"outlinewidth\":0,\"ticks\":\"\"},\"colorscale\":[[0.0,\"#0d0887\"],[0.1111111111111111,\"#46039f\"],[0.2222222222222222,\"#7201a8\"],[0.3333333333333333,\"#9c179e\"],[0.4444444444444444,\"#bd3786\"],[0.5555555555555556,\"#d8576b\"],[0.6666666666666666,\"#ed7953\"],[0.7777777777777778,\"#fb9f3a\"],[0.8888888888888888,\"#fdca26\"],[1.0,\"#f0f921\"]],\"type\":\"surface\"}],\"table\":[{\"cells\":{\"fill\":{\"color\":\"#EBF0F8\"},\"line\":{\"color\":\"white\"}},\"header\":{\"fill\":{\"color\":\"#C8D4E3\"},\"line\":{\"color\":\"white\"}},\"type\":\"table\"}]},\"layout\":{\"annotationdefaults\":{\"arrowcolor\":\"#2a3f5f\",\"arrowhead\":0,\"arrowwidth\":1},\"autotypenumbers\":\"strict\",\"coloraxis\":{\"colorbar\":{\"outlinewidth\":0,\"ticks\":\"\"}},\"colorscale\":{\"diverging\":[[0,\"#8e0152\"],[0.1,\"#c51b7d\"],[0.2,\"#de77ae\"],[0.3,\"#f1b6da\"],[0.4,\"#fde0ef\"],[0.5,\"#f7f7f7\"],[0.6,\"#e6f5d0\"],[0.7,\"#b8e186\"],[0.8,\"#7fbc41\"],[0.9,\"#4d9221\"],[1,\"#276419\"]],\"sequential\":[[0.0,\"#0d0887\"],[0.1111111111111111,\"#46039f\"],[0.2222222222222222,\"#7201a8\"],[0.3333333333333333,\"#9c179e\"],[0.4444444444444444,\"#bd3786\"],[0.5555555555555556,\"#d8576b\"],[0.6666666666666666,\"#ed7953\"],[0.7777777777777778,\"#fb9f3a\"],[0.8888888888888888,\"#fdca26\"],[1.0,\"#f0f921\"]],\"sequentialminus\":[[0.0,\"#0d0887\"],[0.1111111111111111,\"#46039f\"],[0.2222222222222222,\"#7201a8\"],[0.3333333333333333,\"#9c179e\"],[0.4444444444444444,\"#bd3786\"],[0.5555555555555556,\"#d8576b\"],[0.6666666666666666,\"#ed7953\"],[0.7777777777777778,\"#fb9f3a\"],[0.8888888888888888,\"#fdca26\"],[1.0,\"#f0f921\"]]},\"colorway\":[\"#636efa\",\"#EF553B\",\"#00cc96\",\"#ab63fa\",\"#FFA15A\",\"#19d3f3\",\"#FF6692\",\"#B6E880\",\"#FF97FF\",\"#FECB52\"],\"font\":{\"color\":\"#2a3f5f\"},\"geo\":{\"bgcolor\":\"white\",\"lakecolor\":\"white\",\"landcolor\":\"#E5ECF6\",\"showlakes\":true,\"showland\":true,\"subunitcolor\":\"white\"},\"hoverlabel\":{\"align\":\"left\"},\"hovermode\":\"closest\",\"mapbox\":{\"style\":\"light\"},\"paper_bgcolor\":\"white\",\"plot_bgcolor\":\"#E5ECF6\",\"polar\":{\"angularaxis\":{\"gridcolor\":\"white\",\"linecolor\":\"white\",\"ticks\":\"\"},\"bgcolor\":\"#E5ECF6\",\"radialaxis\":{\"gridcolor\":\"white\",\"linecolor\":\"white\",\"ticks\":\"\"}},\"scene\":{\"xaxis\":{\"backgroundcolor\":\"#E5ECF6\",\"gridcolor\":\"white\",\"gridwidth\":2,\"linecolor\":\"white\",\"showbackground\":true,\"ticks\":\"\",\"zerolinecolor\":\"white\"},\"yaxis\":{\"backgroundcolor\":\"#E5ECF6\",\"gridcolor\":\"white\",\"gridwidth\":2,\"linecolor\":\"white\",\"showbackground\":true,\"ticks\":\"\",\"zerolinecolor\":\"white\"},\"zaxis\":{\"backgroundcolor\":\"#E5ECF6\",\"gridcolor\":\"white\",\"gridwidth\":2,\"linecolor\":\"white\",\"showbackground\":true,\"ticks\":\"\",\"zerolinecolor\":\"white\"}},\"shapedefaults\":{\"line\":{\"color\":\"#2a3f5f\"}},\"ternary\":{\"aaxis\":{\"gridcolor\":\"white\",\"linecolor\":\"white\",\"ticks\":\"\"},\"baxis\":{\"gridcolor\":\"white\",\"linecolor\":\"white\",\"ticks\":\"\"},\"bgcolor\":\"#E5ECF6\",\"caxis\":{\"gridcolor\":\"white\",\"linecolor\":\"white\",\"ticks\":\"\"}},\"title\":{\"x\":0.05},\"xaxis\":{\"automargin\":true,\"gridcolor\":\"white\",\"linecolor\":\"white\",\"ticks\":\"\",\"title\":{\"standoff\":15},\"zerolinecolor\":\"white\",\"zerolinewidth\":2},\"yaxis\":{\"automargin\":true,\"gridcolor\":\"white\",\"linecolor\":\"white\",\"ticks\":\"\",\"title\":{\"standoff\":15},\"zerolinecolor\":\"white\",\"zerolinewidth\":2}}},\"xaxis\":{\"anchor\":\"y\",\"categoryorder\":\"total descending\",\"domain\":[0.0,1.0],\"title\":{\"text\":\"total ratings\"}},\"yaxis\":{\"anchor\":\"x\",\"domain\":[0.0,1.0],\"title\":{\"text\":\"5 star ratings\"}}},                        {\"responsive\": true}                    ).then(function(){\n",
       "                            \n",
       "var gd = document.getElementById('cb9d5a52-1a33-4096-96da-70b8e441bece');\n",
       "var x = new MutationObserver(function (mutations, observer) {{\n",
       "        var display = window.getComputedStyle(gd).display;\n",
       "        if (!display || display === 'none') {{\n",
       "            console.log([gd, 'removed!']);\n",
       "            Plotly.purge(gd);\n",
       "            observer.disconnect();\n",
       "        }}\n",
       "}});\n",
       "\n",
       "// Listen for the removal of the full notebook cells\n",
       "var notebookContainer = gd.closest('#notebook-container');\n",
       "if (notebookContainer) {{\n",
       "    x.observe(notebookContainer, {childList: true});\n",
       "}}\n",
       "\n",
       "// Listen for the clearing of the current output cell\n",
       "var outputEl = gd.closest('.output');\n",
       "if (outputEl) {{\n",
       "    x.observe(outputEl, {childList: true});\n",
       "}}\n",
       "\n",
       "                        })                };                });            </script>        </div>"
      ]
     },
     "metadata": {},
     "output_type": "display_data"
    }
   ],
   "source": [
    "fig = px.scatter(top_10_by_total_ratings, x= 'total ratings', y='5 star ratings', hover_data = top_10_by_total_ratings[['title', 'installation_in_million']], color='category')\n",
    "fig.update_layout(xaxis={'categoryorder':'total descending'})\n",
    "fig.show()"
   ]
  },
  {
   "cell_type": "code",
   "execution_count": 43,
   "id": "c5f2bcbb",
   "metadata": {
    "execution": {
     "iopub.execute_input": "2021-07-17T21:46:05.398922Z",
     "iopub.status.busy": "2021-07-17T21:46:05.398321Z",
     "iopub.status.idle": "2021-07-17T21:46:05.500457Z",
     "shell.execute_reply": "2021-07-17T21:46:05.500090Z",
     "shell.execute_reply.started": "2021-07-17T21:38:00.320156Z"
    },
    "papermill": {
     "duration": 0.207052,
     "end_time": "2021-07-17T21:46:05.500558",
     "exception": false,
     "start_time": "2021-07-17T21:46:05.293506",
     "status": "completed"
    },
    "tags": []
   },
   "outputs": [
    {
     "data": {
      "text/html": [
       "<div>                            <div id=\"7dc5904d-3142-43bb-8189-77469f52300d\" class=\"plotly-graph-div\" style=\"height:525px; width:100%;\"></div>            <script type=\"text/javascript\">                require([\"plotly\"], function(Plotly) {                    window.PLOTLYENV=window.PLOTLYENV || {};                                    if (document.getElementById(\"7dc5904d-3142-43bb-8189-77469f52300d\")) {                    Plotly.newPlot(                        \"7dc5904d-3142-43bb-8189-77469f52300d\",                        [{\"customdata\":[[\"Subway Surfers\",1000.0],[\"Temple Run\",500.0]],\"hovertemplate\":\"category=GAME ARCADE<br>total ratings=%{x}<br>5 star ratings=%{y}<br>title=%{customdata[0]}<br>installation_in_million=%{customdata[1]}<extra></extra>\",\"legendgroup\":\"GAME ARCADE\",\"marker\":{\"color\":\"#636efa\",\"symbol\":\"circle\"},\"mode\":\"markers\",\"name\":\"GAME ARCADE\",\"orientation\":\"v\",\"showlegend\":true,\"type\":\"scatter\",\"x\":[35305263,4744985],\"xaxis\":\"x\",\"y\":[26840330,3113811],\"yaxis\":\"y\"},{\"customdata\":[[\"Candy Crush Saga\",1000.0],[\"My Talking Angela\",500.0],[\"Pou\",500.0]],\"hovertemplate\":\"category=GAME CASUAL<br>total ratings=%{x}<br>5 star ratings=%{y}<br>title=%{customdata[0]}<br>installation_in_million=%{customdata[1]}<extra></extra>\",\"legendgroup\":\"GAME CASUAL\",\"marker\":{\"color\":\"#EF553B\",\"symbol\":\"circle\"},\"mode\":\"markers\",\"name\":\"GAME CASUAL\",\"orientation\":\"v\",\"showlegend\":true,\"type\":\"scatter\",\"x\":[30859251,12866276,11449723],\"xaxis\":\"x\",\"y\":[23521533,9026260,8147778],\"yaxis\":\"y\"},{\"customdata\":[[\"Garena Free Fire - The Cobra\",500.0]],\"hovertemplate\":\"category=GAME ACTION<br>total ratings=%{x}<br>5 star ratings=%{y}<br>title=%{customdata[0]}<br>installation_in_million=%{customdata[1]}<extra></extra>\",\"legendgroup\":\"GAME ACTION\",\"marker\":{\"color\":\"#00cc96\",\"symbol\":\"circle\"},\"mode\":\"markers\",\"name\":\"GAME ACTION\",\"orientation\":\"v\",\"showlegend\":true,\"type\":\"scatter\",\"x\":[80678661],\"xaxis\":\"x\",\"y\":[61935712],\"yaxis\":\"y\"},{\"customdata\":[[\"Hill Climb Racing\",500.0]],\"hovertemplate\":\"category=GAME RACING<br>total ratings=%{x}<br>5 star ratings=%{y}<br>title=%{customdata[0]}<br>installation_in_million=%{customdata[1]}<extra></extra>\",\"legendgroup\":\"GAME RACING\",\"marker\":{\"color\":\"#ab63fa\",\"symbol\":\"circle\"},\"mode\":\"markers\",\"name\":\"GAME RACING\",\"orientation\":\"v\",\"showlegend\":true,\"type\":\"scatter\",\"x\":[10109437],\"xaxis\":\"x\",\"y\":[7120594],\"yaxis\":\"y\"},{\"customdata\":[[\"8 Ball Pool\",500.0]],\"hovertemplate\":\"category=GAME SPORTS<br>total ratings=%{x}<br>5 star ratings=%{y}<br>title=%{customdata[0]}<br>installation_in_million=%{customdata[1]}<extra></extra>\",\"legendgroup\":\"GAME SPORTS\",\"marker\":{\"color\":\"#FFA15A\",\"symbol\":\"circle\"},\"mode\":\"markers\",\"name\":\"GAME SPORTS\",\"orientation\":\"v\",\"showlegend\":true,\"type\":\"scatter\",\"x\":[2877308],\"xaxis\":\"x\",\"y\":[2120943],\"yaxis\":\"y\"},{\"customdata\":[[\"Clash of Clans\",500.0]],\"hovertemplate\":\"category=GAME STRATEGY<br>total ratings=%{x}<br>5 star ratings=%{y}<br>title=%{customdata[0]}<br>installation_in_million=%{customdata[1]}<extra></extra>\",\"legendgroup\":\"GAME STRATEGY\",\"marker\":{\"color\":\"#19d3f3\",\"symbol\":\"circle\"},\"mode\":\"markers\",\"name\":\"GAME STRATEGY\",\"orientation\":\"v\",\"showlegend\":true,\"type\":\"scatter\",\"x\":[55170976],\"xaxis\":\"x\",\"y\":[42736445],\"yaxis\":\"y\"},{\"customdata\":[[\"Ludo King\\u2122\",500.0]],\"hovertemplate\":\"category=GAME BOARD<br>total ratings=%{x}<br>5 star ratings=%{y}<br>title=%{customdata[0]}<br>installation_in_million=%{customdata[1]}<extra></extra>\",\"legendgroup\":\"GAME BOARD\",\"marker\":{\"color\":\"#FF6692\",\"symbol\":\"circle\"},\"mode\":\"markers\",\"name\":\"GAME BOARD\",\"orientation\":\"v\",\"showlegend\":true,\"type\":\"scatter\",\"x\":[7048207],\"xaxis\":\"x\",\"y\":[5000168],\"yaxis\":\"y\"}],                        {\"legend\":{\"title\":{\"text\":\"category\"},\"tracegroupgap\":0},\"margin\":{\"t\":60},\"template\":{\"data\":{\"bar\":[{\"error_x\":{\"color\":\"#2a3f5f\"},\"error_y\":{\"color\":\"#2a3f5f\"},\"marker\":{\"line\":{\"color\":\"#E5ECF6\",\"width\":0.5},\"pattern\":{\"fillmode\":\"overlay\",\"size\":10,\"solidity\":0.2}},\"type\":\"bar\"}],\"barpolar\":[{\"marker\":{\"line\":{\"color\":\"#E5ECF6\",\"width\":0.5},\"pattern\":{\"fillmode\":\"overlay\",\"size\":10,\"solidity\":0.2}},\"type\":\"barpolar\"}],\"carpet\":[{\"aaxis\":{\"endlinecolor\":\"#2a3f5f\",\"gridcolor\":\"white\",\"linecolor\":\"white\",\"minorgridcolor\":\"white\",\"startlinecolor\":\"#2a3f5f\"},\"baxis\":{\"endlinecolor\":\"#2a3f5f\",\"gridcolor\":\"white\",\"linecolor\":\"white\",\"minorgridcolor\":\"white\",\"startlinecolor\":\"#2a3f5f\"},\"type\":\"carpet\"}],\"choropleth\":[{\"colorbar\":{\"outlinewidth\":0,\"ticks\":\"\"},\"type\":\"choropleth\"}],\"contour\":[{\"colorbar\":{\"outlinewidth\":0,\"ticks\":\"\"},\"colorscale\":[[0.0,\"#0d0887\"],[0.1111111111111111,\"#46039f\"],[0.2222222222222222,\"#7201a8\"],[0.3333333333333333,\"#9c179e\"],[0.4444444444444444,\"#bd3786\"],[0.5555555555555556,\"#d8576b\"],[0.6666666666666666,\"#ed7953\"],[0.7777777777777778,\"#fb9f3a\"],[0.8888888888888888,\"#fdca26\"],[1.0,\"#f0f921\"]],\"type\":\"contour\"}],\"contourcarpet\":[{\"colorbar\":{\"outlinewidth\":0,\"ticks\":\"\"},\"type\":\"contourcarpet\"}],\"heatmap\":[{\"colorbar\":{\"outlinewidth\":0,\"ticks\":\"\"},\"colorscale\":[[0.0,\"#0d0887\"],[0.1111111111111111,\"#46039f\"],[0.2222222222222222,\"#7201a8\"],[0.3333333333333333,\"#9c179e\"],[0.4444444444444444,\"#bd3786\"],[0.5555555555555556,\"#d8576b\"],[0.6666666666666666,\"#ed7953\"],[0.7777777777777778,\"#fb9f3a\"],[0.8888888888888888,\"#fdca26\"],[1.0,\"#f0f921\"]],\"type\":\"heatmap\"}],\"heatmapgl\":[{\"colorbar\":{\"outlinewidth\":0,\"ticks\":\"\"},\"colorscale\":[[0.0,\"#0d0887\"],[0.1111111111111111,\"#46039f\"],[0.2222222222222222,\"#7201a8\"],[0.3333333333333333,\"#9c179e\"],[0.4444444444444444,\"#bd3786\"],[0.5555555555555556,\"#d8576b\"],[0.6666666666666666,\"#ed7953\"],[0.7777777777777778,\"#fb9f3a\"],[0.8888888888888888,\"#fdca26\"],[1.0,\"#f0f921\"]],\"type\":\"heatmapgl\"}],\"histogram\":[{\"marker\":{\"pattern\":{\"fillmode\":\"overlay\",\"size\":10,\"solidity\":0.2}},\"type\":\"histogram\"}],\"histogram2d\":[{\"colorbar\":{\"outlinewidth\":0,\"ticks\":\"\"},\"colorscale\":[[0.0,\"#0d0887\"],[0.1111111111111111,\"#46039f\"],[0.2222222222222222,\"#7201a8\"],[0.3333333333333333,\"#9c179e\"],[0.4444444444444444,\"#bd3786\"],[0.5555555555555556,\"#d8576b\"],[0.6666666666666666,\"#ed7953\"],[0.7777777777777778,\"#fb9f3a\"],[0.8888888888888888,\"#fdca26\"],[1.0,\"#f0f921\"]],\"type\":\"histogram2d\"}],\"histogram2dcontour\":[{\"colorbar\":{\"outlinewidth\":0,\"ticks\":\"\"},\"colorscale\":[[0.0,\"#0d0887\"],[0.1111111111111111,\"#46039f\"],[0.2222222222222222,\"#7201a8\"],[0.3333333333333333,\"#9c179e\"],[0.4444444444444444,\"#bd3786\"],[0.5555555555555556,\"#d8576b\"],[0.6666666666666666,\"#ed7953\"],[0.7777777777777778,\"#fb9f3a\"],[0.8888888888888888,\"#fdca26\"],[1.0,\"#f0f921\"]],\"type\":\"histogram2dcontour\"}],\"mesh3d\":[{\"colorbar\":{\"outlinewidth\":0,\"ticks\":\"\"},\"type\":\"mesh3d\"}],\"parcoords\":[{\"line\":{\"colorbar\":{\"outlinewidth\":0,\"ticks\":\"\"}},\"type\":\"parcoords\"}],\"pie\":[{\"automargin\":true,\"type\":\"pie\"}],\"scatter\":[{\"marker\":{\"colorbar\":{\"outlinewidth\":0,\"ticks\":\"\"}},\"type\":\"scatter\"}],\"scatter3d\":[{\"line\":{\"colorbar\":{\"outlinewidth\":0,\"ticks\":\"\"}},\"marker\":{\"colorbar\":{\"outlinewidth\":0,\"ticks\":\"\"}},\"type\":\"scatter3d\"}],\"scattercarpet\":[{\"marker\":{\"colorbar\":{\"outlinewidth\":0,\"ticks\":\"\"}},\"type\":\"scattercarpet\"}],\"scattergeo\":[{\"marker\":{\"colorbar\":{\"outlinewidth\":0,\"ticks\":\"\"}},\"type\":\"scattergeo\"}],\"scattergl\":[{\"marker\":{\"colorbar\":{\"outlinewidth\":0,\"ticks\":\"\"}},\"type\":\"scattergl\"}],\"scattermapbox\":[{\"marker\":{\"colorbar\":{\"outlinewidth\":0,\"ticks\":\"\"}},\"type\":\"scattermapbox\"}],\"scatterpolar\":[{\"marker\":{\"colorbar\":{\"outlinewidth\":0,\"ticks\":\"\"}},\"type\":\"scatterpolar\"}],\"scatterpolargl\":[{\"marker\":{\"colorbar\":{\"outlinewidth\":0,\"ticks\":\"\"}},\"type\":\"scatterpolargl\"}],\"scatterternary\":[{\"marker\":{\"colorbar\":{\"outlinewidth\":0,\"ticks\":\"\"}},\"type\":\"scatterternary\"}],\"surface\":[{\"colorbar\":{\"outlinewidth\":0,\"ticks\":\"\"},\"colorscale\":[[0.0,\"#0d0887\"],[0.1111111111111111,\"#46039f\"],[0.2222222222222222,\"#7201a8\"],[0.3333333333333333,\"#9c179e\"],[0.4444444444444444,\"#bd3786\"],[0.5555555555555556,\"#d8576b\"],[0.6666666666666666,\"#ed7953\"],[0.7777777777777778,\"#fb9f3a\"],[0.8888888888888888,\"#fdca26\"],[1.0,\"#f0f921\"]],\"type\":\"surface\"}],\"table\":[{\"cells\":{\"fill\":{\"color\":\"#EBF0F8\"},\"line\":{\"color\":\"white\"}},\"header\":{\"fill\":{\"color\":\"#C8D4E3\"},\"line\":{\"color\":\"white\"}},\"type\":\"table\"}]},\"layout\":{\"annotationdefaults\":{\"arrowcolor\":\"#2a3f5f\",\"arrowhead\":0,\"arrowwidth\":1},\"autotypenumbers\":\"strict\",\"coloraxis\":{\"colorbar\":{\"outlinewidth\":0,\"ticks\":\"\"}},\"colorscale\":{\"diverging\":[[0,\"#8e0152\"],[0.1,\"#c51b7d\"],[0.2,\"#de77ae\"],[0.3,\"#f1b6da\"],[0.4,\"#fde0ef\"],[0.5,\"#f7f7f7\"],[0.6,\"#e6f5d0\"],[0.7,\"#b8e186\"],[0.8,\"#7fbc41\"],[0.9,\"#4d9221\"],[1,\"#276419\"]],\"sequential\":[[0.0,\"#0d0887\"],[0.1111111111111111,\"#46039f\"],[0.2222222222222222,\"#7201a8\"],[0.3333333333333333,\"#9c179e\"],[0.4444444444444444,\"#bd3786\"],[0.5555555555555556,\"#d8576b\"],[0.6666666666666666,\"#ed7953\"],[0.7777777777777778,\"#fb9f3a\"],[0.8888888888888888,\"#fdca26\"],[1.0,\"#f0f921\"]],\"sequentialminus\":[[0.0,\"#0d0887\"],[0.1111111111111111,\"#46039f\"],[0.2222222222222222,\"#7201a8\"],[0.3333333333333333,\"#9c179e\"],[0.4444444444444444,\"#bd3786\"],[0.5555555555555556,\"#d8576b\"],[0.6666666666666666,\"#ed7953\"],[0.7777777777777778,\"#fb9f3a\"],[0.8888888888888888,\"#fdca26\"],[1.0,\"#f0f921\"]]},\"colorway\":[\"#636efa\",\"#EF553B\",\"#00cc96\",\"#ab63fa\",\"#FFA15A\",\"#19d3f3\",\"#FF6692\",\"#B6E880\",\"#FF97FF\",\"#FECB52\"],\"font\":{\"color\":\"#2a3f5f\"},\"geo\":{\"bgcolor\":\"white\",\"lakecolor\":\"white\",\"landcolor\":\"#E5ECF6\",\"showlakes\":true,\"showland\":true,\"subunitcolor\":\"white\"},\"hoverlabel\":{\"align\":\"left\"},\"hovermode\":\"closest\",\"mapbox\":{\"style\":\"light\"},\"paper_bgcolor\":\"white\",\"plot_bgcolor\":\"#E5ECF6\",\"polar\":{\"angularaxis\":{\"gridcolor\":\"white\",\"linecolor\":\"white\",\"ticks\":\"\"},\"bgcolor\":\"#E5ECF6\",\"radialaxis\":{\"gridcolor\":\"white\",\"linecolor\":\"white\",\"ticks\":\"\"}},\"scene\":{\"xaxis\":{\"backgroundcolor\":\"#E5ECF6\",\"gridcolor\":\"white\",\"gridwidth\":2,\"linecolor\":\"white\",\"showbackground\":true,\"ticks\":\"\",\"zerolinecolor\":\"white\"},\"yaxis\":{\"backgroundcolor\":\"#E5ECF6\",\"gridcolor\":\"white\",\"gridwidth\":2,\"linecolor\":\"white\",\"showbackground\":true,\"ticks\":\"\",\"zerolinecolor\":\"white\"},\"zaxis\":{\"backgroundcolor\":\"#E5ECF6\",\"gridcolor\":\"white\",\"gridwidth\":2,\"linecolor\":\"white\",\"showbackground\":true,\"ticks\":\"\",\"zerolinecolor\":\"white\"}},\"shapedefaults\":{\"line\":{\"color\":\"#2a3f5f\"}},\"ternary\":{\"aaxis\":{\"gridcolor\":\"white\",\"linecolor\":\"white\",\"ticks\":\"\"},\"baxis\":{\"gridcolor\":\"white\",\"linecolor\":\"white\",\"ticks\":\"\"},\"bgcolor\":\"#E5ECF6\",\"caxis\":{\"gridcolor\":\"white\",\"linecolor\":\"white\",\"ticks\":\"\"}},\"title\":{\"x\":0.05},\"xaxis\":{\"automargin\":true,\"gridcolor\":\"white\",\"linecolor\":\"white\",\"ticks\":\"\",\"title\":{\"standoff\":15},\"zerolinecolor\":\"white\",\"zerolinewidth\":2},\"yaxis\":{\"automargin\":true,\"gridcolor\":\"white\",\"linecolor\":\"white\",\"ticks\":\"\",\"title\":{\"standoff\":15},\"zerolinecolor\":\"white\",\"zerolinewidth\":2}}},\"xaxis\":{\"anchor\":\"y\",\"categoryorder\":\"total descending\",\"domain\":[0.0,1.0],\"title\":{\"text\":\"total ratings\"}},\"yaxis\":{\"anchor\":\"x\",\"domain\":[0.0,1.0],\"title\":{\"text\":\"5 star ratings\"}}},                        {\"responsive\": true}                    ).then(function(){\n",
       "                            \n",
       "var gd = document.getElementById('7dc5904d-3142-43bb-8189-77469f52300d');\n",
       "var x = new MutationObserver(function (mutations, observer) {{\n",
       "        var display = window.getComputedStyle(gd).display;\n",
       "        if (!display || display === 'none') {{\n",
       "            console.log([gd, 'removed!']);\n",
       "            Plotly.purge(gd);\n",
       "            observer.disconnect();\n",
       "        }}\n",
       "}});\n",
       "\n",
       "// Listen for the removal of the full notebook cells\n",
       "var notebookContainer = gd.closest('#notebook-container');\n",
       "if (notebookContainer) {{\n",
       "    x.observe(notebookContainer, {childList: true});\n",
       "}}\n",
       "\n",
       "// Listen for the clearing of the current output cell\n",
       "var outputEl = gd.closest('.output');\n",
       "if (outputEl) {{\n",
       "    x.observe(outputEl, {childList: true});\n",
       "}}\n",
       "\n",
       "                        })                };                });            </script>        </div>"
      ]
     },
     "metadata": {},
     "output_type": "display_data"
    }
   ],
   "source": [
    "fig = px.scatter(top_10_by_installation, x= 'total ratings', y='5 star ratings', hover_data = top_10_by_installation[['title', 'installation_in_million']], color='category')\n",
    "fig.update_layout(xaxis={'categoryorder':'total descending'})\n",
    "fig.show()"
   ]
  },
  {
   "cell_type": "code",
   "execution_count": 44,
   "id": "04e435eb",
   "metadata": {
    "execution": {
     "iopub.execute_input": "2021-07-17T21:46:05.641116Z",
     "iopub.status.busy": "2021-07-17T21:46:05.640652Z",
     "iopub.status.idle": "2021-07-17T21:46:05.894548Z",
     "shell.execute_reply": "2021-07-17T21:46:05.894146Z",
     "shell.execute_reply.started": "2021-07-17T21:38:13.716256Z"
    },
    "papermill": {
     "duration": 0.328356,
     "end_time": "2021-07-17T21:46:05.894660",
     "exception": false,
     "start_time": "2021-07-17T21:46:05.566304",
     "status": "completed"
    },
    "tags": []
   },
   "outputs": [
    {
     "data": {
      "image/png": "[encoded data removed]",
      "text/plain": [
       "<Figure size 720x288 with 1 Axes>"
      ]
     },
     "metadata": {
      "needs_background": "light"
     },
     "output_type": "display_data"
    }
   ],
   "source": [
    "plt.figure(figsize=(10,4))\n",
    "sns.countplot(x = \"category\", data = df)\n",
    "plt.xticks(rotation = 45);"
   ]
  },
  {
   "cell_type": "code",
   "execution_count": 45,
   "id": "756cd2ca",
   "metadata": {
    "execution": {
     "iopub.execute_input": "2021-07-17T21:46:06.047442Z",
     "iopub.status.busy": "2021-07-17T21:46:06.046263Z",
     "iopub.status.idle": "2021-07-17T21:46:06.128486Z",
     "shell.execute_reply": "2021-07-17T21:46:06.127908Z",
     "shell.execute_reply.started": "2021-07-17T21:38:26.245952Z"
    },
    "papermill": {
     "duration": 0.165806,
     "end_time": "2021-07-17T21:46:06.128626",
     "exception": false,
     "start_time": "2021-07-17T21:46:05.962820",
     "status": "completed"
    },
    "tags": []
   },
   "outputs": [
    {
     "data": {
      "text/html": [
       "<div>                            <div id=\"2b87291e-ff28-4eb6-9021-fdbbdb87e9e6\" class=\"plotly-graph-div\" style=\"height:525px; width:100%;\"></div>            <script type=\"text/javascript\">                require([\"plotly\"], function(Plotly) {                    window.PLOTLYENV=window.PLOTLYENV || {};                                    if (document.getElementById(\"2b87291e-ff28-4eb6-9021-fdbbdb87e9e6\")) {                    Plotly.newPlot(                        \"2b87291e-ff28-4eb6-9021-fdbbdb87e9e6\",                        [{\"alignmentgroup\":\"True\",\"bingroup\":\"x\",\"hovertemplate\":\"category=%{x}<br>count=%{y}<extra></extra>\",\"legendgroup\":\"\",\"marker\":{\"color\":\"#636efa\",\"pattern\":{\"shape\":\"\"}},\"name\":\"\",\"offsetgroup\":\"\",\"orientation\":\"v\",\"showlegend\":false,\"type\":\"histogram\",\"x\":[\"GAME ACTION\",\"GAME ACTION\",\"GAME ACTION\",\"GAME ACTION\",\"GAME ACTION\",\"GAME ACTION\",\"GAME ACTION\",\"GAME ACTION\",\"GAME ACTION\",\"GAME ACTION\",\"GAME ACTION\",\"GAME ACTION\",\"GAME ACTION\",\"GAME ACTION\",\"GAME ACTION\",\"GAME ACTION\",\"GAME ACTION\",\"GAME ACTION\",\"GAME ACTION\",\"GAME ACTION\",\"GAME ACTION\",\"GAME ACTION\",\"GAME ACTION\",\"GAME ACTION\",\"GAME ACTION\",\"GAME ACTION\",\"GAME ACTION\",\"GAME ACTION\",\"GAME ACTION\",\"GAME ACTION\",\"GAME ACTION\",\"GAME ACTION\",\"GAME ACTION\",\"GAME ACTION\",\"GAME ACTION\",\"GAME ACTION\",\"GAME ACTION\",\"GAME ACTION\",\"GAME ACTION\",\"GAME ACTION\",\"GAME ACTION\",\"GAME ACTION\",\"GAME ACTION\",\"GAME ACTION\",\"GAME ACTION\",\"GAME ACTION\",\"GAME ACTION\",\"GAME ACTION\",\"GAME ACTION\",\"GAME ACTION\",\"GAME ACTION\",\"GAME ACTION\",\"GAME ACTION\",\"GAME ACTION\",\"GAME ACTION\",\"GAME ACTION\",\"GAME ACTION\",\"GAME ACTION\",\"GAME ACTION\",\"GAME ACTION\",\"GAME ACTION\",\"GAME ACTION\",\"GAME ACTION\",\"GAME ACTION\",\"GAME ACTION\",\"GAME ACTION\",\"GAME ACTION\",\"GAME ACTION\",\"GAME ACTION\",\"GAME ACTION\",\"GAME ACTION\",\"GAME ACTION\",\"GAME ACTION\",\"GAME ACTION\",\"GAME ACTION\",\"GAME ACTION\",\"GAME ACTION\",\"GAME ACTION\",\"GAME ACTION\",\"GAME ACTION\",\"GAME ACTION\",\"GAME ACTION\",\"GAME ACTION\",\"GAME ACTION\",\"GAME ACTION\",\"GAME ACTION\",\"GAME ACTION\",\"GAME ACTION\",\"GAME ACTION\",\"GAME ACTION\",\"GAME ACTION\",\"GAME ACTION\",\"GAME ACTION\",\"GAME ACTION\",\"GAME ACTION\",\"GAME ACTION\",\"GAME ACTION\",\"GAME ACTION\",\"GAME ACTION\",\"GAME ACTION\",\"GAME ADVENTURE\",\"GAME ADVENTURE\",\"GAME ADVENTURE\",\"GAME ADVENTURE\",\"GAME ADVENTURE\",\"GAME ADVENTURE\",\"GAME ADVENTURE\",\"GAME ADVENTURE\",\"GAME ADVENTURE\",\"GAME ADVENTURE\",\"GAME ADVENTURE\",\"GAME ADVENTURE\",\"GAME ADVENTURE\",\"GAME ADVENTURE\",\"GAME ADVENTURE\",\"GAME ADVENTURE\",\"GAME ADVENTURE\",\"GAME ADVENTURE\",\"GAME ADVENTURE\",\"GAME ADVENTURE\",\"GAME ADVENTURE\",\"GAME ADVENTURE\",\"GAME ADVENTURE\",\"GAME ADVENTURE\",\"GAME ADVENTURE\",\"GAME ADVENTURE\",\"GAME ADVENTURE\",\"GAME ADVENTURE\",\"GAME ADVENTURE\",\"GAME ADVENTURE\",\"GAME ADVENTURE\",\"GAME ADVENTURE\",\"GAME ADVENTURE\",\"GAME ADVENTURE\",\"GAME ADVENTURE\",\"GAME ADVENTURE\",\"GAME ADVENTURE\",\"GAME ADVENTURE\",\"GAME ADVENTURE\",\"GAME ADVENTURE\",\"GAME ADVENTURE\",\"GAME ADVENTURE\",\"GAME ADVENTURE\",\"GAME ADVENTURE\",\"GAME ADVENTURE\",\"GAME ADVENTURE\",\"GAME ADVENTURE\",\"GAME ADVENTURE\",\"GAME ADVENTURE\",\"GAME ADVENTURE\",\"GAME ADVENTURE\",\"GAME ADVENTURE\",\"GAME ADVENTURE\",\"GAME ADVENTURE\",\"GAME ADVENTURE\",\"GAME ADVENTURE\",\"GAME ADVENTURE\",\"GAME ADVENTURE\",\"GAME ADVENTURE\",\"GAME ADVENTURE\",\"GAME ADVENTURE\",\"GAME ADVENTURE\",\"GAME ADVENTURE\",\"GAME ADVENTURE\",\"GAME ADVENTURE\",\"GAME ADVENTURE\",\"GAME ADVENTURE\",\"GAME ADVENTURE\",\"GAME ADVENTURE\",\"GAME ADVENTURE\",\"GAME ADVENTURE\",\"GAME ADVENTURE\",\"GAME ADVENTURE\",\"GAME ADVENTURE\",\"GAME ADVENTURE\",\"GAME ADVENTURE\",\"GAME ADVENTURE\",\"GAME ADVENTURE\",\"GAME ADVENTURE\",\"GAME ADVENTURE\",\"GAME ADVENTURE\",\"GAME ADVENTURE\",\"GAME ADVENTURE\",\"GAME ADVENTURE\",\"GAME ADVENTURE\",\"GAME ADVENTURE\",\"GAME ADVENTURE\",\"GAME ADVENTURE\",\"GAME ADVENTURE\",\"GAME ADVENTURE\",\"GAME ADVENTURE\",\"GAME ADVENTURE\",\"GAME ADVENTURE\",\"GAME ADVENTURE\",\"GAME ADVENTURE\",\"GAME ADVENTURE\",\"GAME ADVENTURE\",\"GAME ADVENTURE\",\"GAME ADVENTURE\",\"GAME ADVENTURE\",\"GAME ARCADE\",\"GAME ARCADE\",\"GAME ARCADE\",\"GAME ARCADE\",\"GAME ARCADE\",\"GAME ARCADE\",\"GAME ARCADE\",\"GAME ARCADE\",\"GAME ARCADE\",\"GAME ARCADE\",\"GAME ARCADE\",\"GAME ARCADE\",\"GAME ARCADE\",\"GAME ARCADE\",\"GAME ARCADE\",\"GAME ARCADE\",\"GAME ARCADE\",\"GAME ARCADE\",\"GAME ARCADE\",\"GAME ARCADE\",\"GAME ARCADE\",\"GAME ARCADE\",\"GAME ARCADE\",\"GAME ARCADE\",\"GAME ARCADE\",\"GAME ARCADE\",\"GAME ARCADE\",\"GAME ARCADE\",\"GAME ARCADE\",\"GAME ARCADE\",\"GAME ARCADE\",\"GAME ARCADE\",\"GAME ARCADE\",\"GAME ARCADE\",\"GAME ARCADE\",\"GAME ARCADE\",\"GAME ARCADE\",\"GAME ARCADE\",\"GAME ARCADE\",\"GAME ARCADE\",\"GAME ARCADE\",\"GAME ARCADE\",\"GAME ARCADE\",\"GAME ARCADE\",\"GAME ARCADE\",\"GAME ARCADE\",\"GAME ARCADE\",\"GAME ARCADE\",\"GAME ARCADE\",\"GAME ARCADE\",\"GAME ARCADE\",\"GAME ARCADE\",\"GAME ARCADE\",\"GAME ARCADE\",\"GAME ARCADE\",\"GAME ARCADE\",\"GAME ARCADE\",\"GAME ARCADE\",\"GAME ARCADE\",\"GAME ARCADE\",\"GAME ARCADE\",\"GAME ARCADE\",\"GAME ARCADE\",\"GAME ARCADE\",\"GAME ARCADE\",\"GAME ARCADE\",\"GAME ARCADE\",\"GAME ARCADE\",\"GAME ARCADE\",\"GAME ARCADE\",\"GAME ARCADE\",\"GAME ARCADE\",\"GAME ARCADE\",\"GAME ARCADE\",\"GAME ARCADE\",\"GAME ARCADE\",\"GAME ARCADE\",\"GAME ARCADE\",\"GAME ARCADE\",\"GAME ARCADE\",\"GAME ARCADE\",\"GAME ARCADE\",\"GAME ARCADE\",\"GAME ARCADE\",\"GAME ARCADE\",\"GAME ARCADE\",\"GAME ARCADE\",\"GAME ARCADE\",\"GAME ARCADE\",\"GAME ARCADE\",\"GAME ARCADE\",\"GAME ARCADE\",\"GAME ARCADE\",\"GAME ARCADE\",\"GAME ARCADE\",\"GAME ARCADE\",\"GAME ARCADE\",\"GAME ARCADE\",\"GAME ARCADE\",\"GAME ARCADE\",\"GAME BOARD\",\"GAME BOARD\",\"GAME BOARD\",\"GAME BOARD\",\"GAME BOARD\",\"GAME BOARD\",\"GAME BOARD\",\"GAME BOARD\",\"GAME BOARD\",\"GAME BOARD\",\"GAME BOARD\",\"GAME BOARD\",\"GAME BOARD\",\"GAME BOARD\",\"GAME BOARD\",\"GAME BOARD\",\"GAME BOARD\",\"GAME BOARD\",\"GAME BOARD\",\"GAME BOARD\",\"GAME BOARD\",\"GAME BOARD\",\"GAME BOARD\",\"GAME BOARD\",\"GAME BOARD\",\"GAME BOARD\",\"GAME BOARD\",\"GAME BOARD\",\"GAME BOARD\",\"GAME BOARD\",\"GAME BOARD\",\"GAME BOARD\",\"GAME BOARD\",\"GAME BOARD\",\"GAME BOARD\",\"GAME BOARD\",\"GAME BOARD\",\"GAME BOARD\",\"GAME BOARD\",\"GAME BOARD\",\"GAME BOARD\",\"GAME BOARD\",\"GAME BOARD\",\"GAME BOARD\",\"GAME BOARD\",\"GAME BOARD\",\"GAME BOARD\",\"GAME BOARD\",\"GAME BOARD\",\"GAME BOARD\",\"GAME BOARD\",\"GAME BOARD\",\"GAME BOARD\",\"GAME BOARD\",\"GAME BOARD\",\"GAME BOARD\",\"GAME BOARD\",\"GAME BOARD\",\"GAME BOARD\",\"GAME BOARD\",\"GAME BOARD\",\"GAME BOARD\",\"GAME BOARD\",\"GAME BOARD\",\"GAME BOARD\",\"GAME BOARD\",\"GAME BOARD\",\"GAME BOARD\",\"GAME BOARD\",\"GAME BOARD\",\"GAME BOARD\",\"GAME BOARD\",\"GAME BOARD\",\"GAME BOARD\",\"GAME BOARD\",\"GAME BOARD\",\"GAME BOARD\",\"GAME BOARD\",\"GAME BOARD\",\"GAME BOARD\",\"GAME BOARD\",\"GAME BOARD\",\"GAME BOARD\",\"GAME BOARD\",\"GAME BOARD\",\"GAME BOARD\",\"GAME BOARD\",\"GAME BOARD\",\"GAME BOARD\",\"GAME BOARD\",\"GAME BOARD\",\"GAME BOARD\",\"GAME BOARD\",\"GAME BOARD\",\"GAME BOARD\",\"GAME BOARD\",\"GAME BOARD\",\"GAME BOARD\",\"GAME BOARD\",\"GAME BOARD\",\"GAME CARD\",\"GAME CARD\",\"GAME CARD\",\"GAME CARD\",\"GAME CARD\",\"GAME CARD\",\"GAME CARD\",\"GAME CARD\",\"GAME CARD\",\"GAME CARD\",\"GAME CARD\",\"GAME CARD\",\"GAME CARD\",\"GAME CARD\",\"GAME CARD\",\"GAME CARD\",\"GAME CARD\",\"GAME CARD\",\"GAME CARD\",\"GAME CARD\",\"GAME CARD\",\"GAME CARD\",\"GAME CARD\",\"GAME CARD\",\"GAME CARD\",\"GAME CARD\",\"GAME CARD\",\"GAME CARD\",\"GAME CARD\",\"GAME CARD\",\"GAME CARD\",\"GAME CARD\",\"GAME CARD\",\"GAME CARD\",\"GAME CARD\",\"GAME CARD\",\"GAME CARD\",\"GAME CARD\",\"GAME CARD\",\"GAME CARD\",\"GAME CARD\",\"GAME CARD\",\"GAME CARD\",\"GAME CARD\",\"GAME CARD\",\"GAME CARD\",\"GAME CARD\",\"GAME CARD\",\"GAME CARD\",\"GAME CARD\",\"GAME CARD\",\"GAME CARD\",\"GAME CARD\",\"GAME CARD\",\"GAME CARD\",\"GAME CARD\",\"GAME CARD\",\"GAME CARD\",\"GAME CARD\",\"GAME CARD\",\"GAME CARD\",\"GAME CARD\",\"GAME CARD\",\"GAME CARD\",\"GAME CARD\",\"GAME CARD\",\"GAME CARD\",\"GAME CARD\",\"GAME CARD\",\"GAME CARD\",\"GAME CARD\",\"GAME CARD\",\"GAME CARD\",\"GAME CARD\",\"GAME CARD\",\"GAME CARD\",\"GAME CARD\",\"GAME CARD\",\"GAME CARD\",\"GAME CARD\",\"GAME CARD\",\"GAME CARD\",\"GAME CARD\",\"GAME CARD\",\"GAME CARD\",\"GAME CARD\",\"GAME CARD\",\"GAME CARD\",\"GAME CARD\",\"GAME CARD\",\"GAME CARD\",\"GAME CARD\",\"GAME CARD\",\"GAME CARD\",\"GAME CARD\",\"GAME CARD\",\"GAME CARD\",\"GAME CARD\",\"GAME CARD\",\"GAME CARD\",\"GAME CARD\",\"GAME CARD\",\"GAME CARD\",\"GAME CARD\",\"GAME CARD\",\"GAME CARD\",\"GAME CARD\",\"GAME CARD\",\"GAME CARD\",\"GAME CARD\",\"GAME CARD\",\"GAME CARD\",\"GAME CARD\",\"GAME CARD\",\"GAME CARD\",\"GAME CARD\",\"GAME CARD\",\"GAME CARD\",\"GAME CARD\",\"GAME CARD\",\"GAME CARD\",\"GAME CARD\",\"GAME CASINO\",\"GAME CASINO\",\"GAME CASINO\",\"GAME CASINO\",\"GAME CASINO\",\"GAME CASINO\",\"GAME CASINO\",\"GAME CASINO\",\"GAME CASINO\",\"GAME CASINO\",\"GAME CASINO\",\"GAME CASINO\",\"GAME CASINO\",\"GAME CASINO\",\"GAME CASINO\",\"GAME CASINO\",\"GAME CASINO\",\"GAME CASINO\",\"GAME CASINO\",\"GAME CASINO\",\"GAME CASINO\",\"GAME CASINO\",\"GAME CASINO\",\"GAME CASINO\",\"GAME CASINO\",\"GAME CASINO\",\"GAME CASINO\",\"GAME CASINO\",\"GAME CASINO\",\"GAME CASINO\",\"GAME CASINO\",\"GAME CASINO\",\"GAME CASINO\",\"GAME CASINO\",\"GAME CASINO\",\"GAME CASINO\",\"GAME CASINO\",\"GAME CASINO\",\"GAME CASINO\",\"GAME CASINO\",\"GAME CASINO\",\"GAME CASINO\",\"GAME CASINO\",\"GAME CASINO\",\"GAME CASINO\",\"GAME CASINO\",\"GAME CASINO\",\"GAME CASINO\",\"GAME CASINO\",\"GAME CASINO\",\"GAME CASINO\",\"GAME CASINO\",\"GAME CASINO\",\"GAME CASINO\",\"GAME CASINO\",\"GAME CASINO\",\"GAME CASINO\",\"GAME CASINO\",\"GAME CASINO\",\"GAME CASINO\",\"GAME CASINO\",\"GAME CASINO\",\"GAME CASINO\",\"GAME CASINO\",\"GAME CASINO\",\"GAME CASINO\",\"GAME CASINO\",\"GAME CASINO\",\"GAME CASINO\",\"GAME CASINO\",\"GAME CASINO\",\"GAME CASINO\",\"GAME CASINO\",\"GAME CASINO\",\"GAME CASINO\",\"GAME CASINO\",\"GAME CASINO\",\"GAME CASINO\",\"GAME CASINO\",\"GAME CASINO\",\"GAME CASINO\",\"GAME CASINO\",\"GAME CASINO\",\"GAME CASINO\",\"GAME CASINO\",\"GAME CASINO\",\"GAME CASINO\",\"GAME CASINO\",\"GAME CASINO\",\"GAME CASINO\",\"GAME CASINO\",\"GAME CASINO\",\"GAME CASINO\",\"GAME CASINO\",\"GAME CASINO\",\"GAME CASINO\",\"GAME CASINO\",\"GAME CASINO\",\"GAME CASINO\",\"GAME CASINO\",\"GAME CASUAL\",\"GAME CASUAL\",\"GAME CASUAL\",\"GAME CASUAL\",\"GAME CASUAL\",\"GAME CASUAL\",\"GAME CASUAL\",\"GAME CASUAL\",\"GAME CASUAL\",\"GAME CASUAL\",\"GAME CASUAL\",\"GAME CASUAL\",\"GAME CASUAL\",\"GAME CASUAL\",\"GAME CASUAL\",\"GAME CASUAL\",\"GAME CASUAL\",\"GAME CASUAL\",\"GAME CASUAL\",\"GAME CASUAL\",\"GAME CASUAL\",\"GAME CASUAL\",\"GAME CASUAL\",\"GAME CASUAL\",\"GAME CASUAL\",\"GAME CASUAL\",\"GAME CASUAL\",\"GAME CASUAL\",\"GAME CASUAL\",\"GAME CASUAL\",\"GAME CASUAL\",\"GAME CASUAL\",\"GAME CASUAL\",\"GAME CASUAL\",\"GAME CASUAL\",\"GAME CASUAL\",\"GAME CASUAL\",\"GAME CASUAL\",\"GAME CASUAL\",\"GAME CASUAL\",\"GAME CASUAL\",\"GAME CASUAL\",\"GAME CASUAL\",\"GAME CASUAL\",\"GAME CASUAL\",\"GAME CASUAL\",\"GAME CASUAL\",\"GAME CASUAL\",\"GAME CASUAL\",\"GAME CASUAL\",\"GAME CASUAL\",\"GAME CASUAL\",\"GAME CASUAL\",\"GAME CASUAL\",\"GAME CASUAL\",\"GAME CASUAL\",\"GAME CASUAL\",\"GAME CASUAL\",\"GAME CASUAL\",\"GAME CASUAL\",\"GAME CASUAL\",\"GAME CASUAL\",\"GAME CASUAL\",\"GAME CASUAL\",\"GAME CASUAL\",\"GAME CASUAL\",\"GAME CASUAL\",\"GAME CASUAL\",\"GAME CASUAL\",\"GAME CASUAL\",\"GAME CASUAL\",\"GAME CASUAL\",\"GAME CASUAL\",\"GAME CASUAL\",\"GAME CASUAL\",\"GAME CASUAL\",\"GAME CASUAL\",\"GAME CASUAL\",\"GAME CASUAL\",\"GAME CASUAL\",\"GAME CASUAL\",\"GAME CASUAL\",\"GAME CASUAL\",\"GAME CASUAL\",\"GAME CASUAL\",\"GAME CASUAL\",\"GAME CASUAL\",\"GAME CASUAL\",\"GAME CASUAL\",\"GAME CASUAL\",\"GAME CASUAL\",\"GAME CASUAL\",\"GAME CASUAL\",\"GAME CASUAL\",\"GAME CASUAL\",\"GAME CASUAL\",\"GAME CASUAL\",\"GAME CASUAL\",\"GAME CASUAL\",\"GAME CASUAL\",\"GAME CASUAL\",\"GAME CASUAL\",\"GAME EDUCATIONAL\",\"GAME EDUCATIONAL\",\"GAME EDUCATIONAL\",\"GAME EDUCATIONAL\",\"GAME EDUCATIONAL\",\"GAME EDUCATIONAL\",\"GAME EDUCATIONAL\",\"GAME EDUCATIONAL\",\"GAME EDUCATIONAL\",\"GAME EDUCATIONAL\",\"GAME EDUCATIONAL\",\"GAME EDUCATIONAL\",\"GAME EDUCATIONAL\",\"GAME EDUCATIONAL\",\"GAME EDUCATIONAL\",\"GAME EDUCATIONAL\",\"GAME EDUCATIONAL\",\"GAME EDUCATIONAL\",\"GAME EDUCATIONAL\",\"GAME EDUCATIONAL\",\"GAME EDUCATIONAL\",\"GAME EDUCATIONAL\",\"GAME EDUCATIONAL\",\"GAME EDUCATIONAL\",\"GAME EDUCATIONAL\",\"GAME EDUCATIONAL\",\"GAME EDUCATIONAL\",\"GAME EDUCATIONAL\",\"GAME EDUCATIONAL\",\"GAME EDUCATIONAL\",\"GAME EDUCATIONAL\",\"GAME EDUCATIONAL\",\"GAME EDUCATIONAL\",\"GAME EDUCATIONAL\",\"GAME EDUCATIONAL\",\"GAME EDUCATIONAL\",\"GAME EDUCATIONAL\",\"GAME EDUCATIONAL\",\"GAME EDUCATIONAL\",\"GAME EDUCATIONAL\",\"GAME EDUCATIONAL\",\"GAME EDUCATIONAL\",\"GAME EDUCATIONAL\",\"GAME EDUCATIONAL\",\"GAME EDUCATIONAL\",\"GAME EDUCATIONAL\",\"GAME EDUCATIONAL\",\"GAME EDUCATIONAL\",\"GAME EDUCATIONAL\",\"GAME EDUCATIONAL\",\"GAME EDUCATIONAL\",\"GAME EDUCATIONAL\",\"GAME EDUCATIONAL\",\"GAME EDUCATIONAL\",\"GAME EDUCATIONAL\",\"GAME EDUCATIONAL\",\"GAME EDUCATIONAL\",\"GAME EDUCATIONAL\",\"GAME EDUCATIONAL\",\"GAME EDUCATIONAL\",\"GAME EDUCATIONAL\",\"GAME EDUCATIONAL\",\"GAME EDUCATIONAL\",\"GAME EDUCATIONAL\",\"GAME EDUCATIONAL\",\"GAME EDUCATIONAL\",\"GAME EDUCATIONAL\",\"GAME EDUCATIONAL\",\"GAME EDUCATIONAL\",\"GAME EDUCATIONAL\",\"GAME EDUCATIONAL\",\"GAME EDUCATIONAL\",\"GAME EDUCATIONAL\",\"GAME EDUCATIONAL\",\"GAME EDUCATIONAL\",\"GAME EDUCATIONAL\",\"GAME EDUCATIONAL\",\"GAME EDUCATIONAL\",\"GAME EDUCATIONAL\",\"GAME EDUCATIONAL\",\"GAME EDUCATIONAL\",\"GAME EDUCATIONAL\",\"GAME EDUCATIONAL\",\"GAME EDUCATIONAL\",\"GAME EDUCATIONAL\",\"GAME EDUCATIONAL\",\"GAME EDUCATIONAL\",\"GAME EDUCATIONAL\",\"GAME EDUCATIONAL\",\"GAME EDUCATIONAL\",\"GAME EDUCATIONAL\",\"GAME EDUCATIONAL\",\"GAME EDUCATIONAL\",\"GAME EDUCATIONAL\",\"GAME EDUCATIONAL\",\"GAME EDUCATIONAL\",\"GAME EDUCATIONAL\",\"GAME EDUCATIONAL\",\"GAME EDUCATIONAL\",\"GAME EDUCATIONAL\",\"GAME MUSIC\",\"GAME MUSIC\",\"GAME MUSIC\",\"GAME MUSIC\",\"GAME MUSIC\",\"GAME MUSIC\",\"GAME MUSIC\",\"GAME MUSIC\",\"GAME MUSIC\",\"GAME MUSIC\",\"GAME MUSIC\",\"GAME MUSIC\",\"GAME MUSIC\",\"GAME MUSIC\",\"GAME MUSIC\",\"GAME MUSIC\",\"GAME MUSIC\",\"GAME MUSIC\",\"GAME MUSIC\",\"GAME MUSIC\",\"GAME MUSIC\",\"GAME MUSIC\",\"GAME MUSIC\",\"GAME MUSIC\",\"GAME MUSIC\",\"GAME MUSIC\",\"GAME MUSIC\",\"GAME MUSIC\",\"GAME MUSIC\",\"GAME MUSIC\",\"GAME MUSIC\",\"GAME MUSIC\",\"GAME MUSIC\",\"GAME MUSIC\",\"GAME MUSIC\",\"GAME MUSIC\",\"GAME MUSIC\",\"GAME MUSIC\",\"GAME MUSIC\",\"GAME MUSIC\",\"GAME MUSIC\",\"GAME MUSIC\",\"GAME MUSIC\",\"GAME MUSIC\",\"GAME MUSIC\",\"GAME MUSIC\",\"GAME MUSIC\",\"GAME MUSIC\",\"GAME MUSIC\",\"GAME MUSIC\",\"GAME MUSIC\",\"GAME MUSIC\",\"GAME MUSIC\",\"GAME MUSIC\",\"GAME MUSIC\",\"GAME MUSIC\",\"GAME MUSIC\",\"GAME MUSIC\",\"GAME MUSIC\",\"GAME MUSIC\",\"GAME MUSIC\",\"GAME MUSIC\",\"GAME MUSIC\",\"GAME MUSIC\",\"GAME MUSIC\",\"GAME MUSIC\",\"GAME MUSIC\",\"GAME MUSIC\",\"GAME MUSIC\",\"GAME MUSIC\",\"GAME MUSIC\",\"GAME MUSIC\",\"GAME MUSIC\",\"GAME MUSIC\",\"GAME MUSIC\",\"GAME MUSIC\",\"GAME MUSIC\",\"GAME MUSIC\",\"GAME MUSIC\",\"GAME MUSIC\",\"GAME MUSIC\",\"GAME MUSIC\",\"GAME MUSIC\",\"GAME MUSIC\",\"GAME MUSIC\",\"GAME MUSIC\",\"GAME MUSIC\",\"GAME MUSIC\",\"GAME MUSIC\",\"GAME MUSIC\",\"GAME MUSIC\",\"GAME MUSIC\",\"GAME MUSIC\",\"GAME MUSIC\",\"GAME MUSIC\",\"GAME MUSIC\",\"GAME MUSIC\",\"GAME MUSIC\",\"GAME MUSIC\",\"GAME MUSIC\",\"GAME PUZZLE\",\"GAME PUZZLE\",\"GAME PUZZLE\",\"GAME PUZZLE\",\"GAME PUZZLE\",\"GAME PUZZLE\",\"GAME PUZZLE\",\"GAME PUZZLE\",\"GAME PUZZLE\",\"GAME PUZZLE\",\"GAME PUZZLE\",\"GAME PUZZLE\",\"GAME PUZZLE\",\"GAME PUZZLE\",\"GAME PUZZLE\",\"GAME PUZZLE\",\"GAME PUZZLE\",\"GAME PUZZLE\",\"GAME PUZZLE\",\"GAME PUZZLE\",\"GAME PUZZLE\",\"GAME PUZZLE\",\"GAME PUZZLE\",\"GAME PUZZLE\",\"GAME PUZZLE\",\"GAME PUZZLE\",\"GAME PUZZLE\",\"GAME PUZZLE\",\"GAME PUZZLE\",\"GAME PUZZLE\",\"GAME PUZZLE\",\"GAME PUZZLE\",\"GAME PUZZLE\",\"GAME PUZZLE\",\"GAME PUZZLE\",\"GAME PUZZLE\",\"GAME PUZZLE\",\"GAME PUZZLE\",\"GAME PUZZLE\",\"GAME PUZZLE\",\"GAME PUZZLE\",\"GAME PUZZLE\",\"GAME PUZZLE\",\"GAME PUZZLE\",\"GAME PUZZLE\",\"GAME PUZZLE\",\"GAME PUZZLE\",\"GAME PUZZLE\",\"GAME PUZZLE\",\"GAME PUZZLE\",\"GAME PUZZLE\",\"GAME PUZZLE\",\"GAME PUZZLE\",\"GAME PUZZLE\",\"GAME PUZZLE\",\"GAME PUZZLE\",\"GAME PUZZLE\",\"GAME PUZZLE\",\"GAME PUZZLE\",\"GAME PUZZLE\",\"GAME PUZZLE\",\"GAME PUZZLE\",\"GAME PUZZLE\",\"GAME PUZZLE\",\"GAME PUZZLE\",\"GAME PUZZLE\",\"GAME PUZZLE\",\"GAME PUZZLE\",\"GAME PUZZLE\",\"GAME PUZZLE\",\"GAME PUZZLE\",\"GAME PUZZLE\",\"GAME PUZZLE\",\"GAME PUZZLE\",\"GAME PUZZLE\",\"GAME PUZZLE\",\"GAME PUZZLE\",\"GAME PUZZLE\",\"GAME PUZZLE\",\"GAME PUZZLE\",\"GAME PUZZLE\",\"GAME PUZZLE\",\"GAME PUZZLE\",\"GAME PUZZLE\",\"GAME PUZZLE\",\"GAME PUZZLE\",\"GAME PUZZLE\",\"GAME PUZZLE\",\"GAME PUZZLE\",\"GAME PUZZLE\",\"GAME PUZZLE\",\"GAME PUZZLE\",\"GAME PUZZLE\",\"GAME PUZZLE\",\"GAME PUZZLE\",\"GAME PUZZLE\",\"GAME PUZZLE\",\"GAME PUZZLE\",\"GAME PUZZLE\",\"GAME PUZZLE\",\"GAME RACING\",\"GAME RACING\",\"GAME RACING\",\"GAME RACING\",\"GAME RACING\",\"GAME RACING\",\"GAME RACING\",\"GAME RACING\",\"GAME RACING\",\"GAME RACING\",\"GAME RACING\",\"GAME RACING\",\"GAME RACING\",\"GAME RACING\",\"GAME RACING\",\"GAME RACING\",\"GAME RACING\",\"GAME RACING\",\"GAME RACING\",\"GAME RACING\",\"GAME RACING\",\"GAME RACING\",\"GAME RACING\",\"GAME RACING\",\"GAME RACING\",\"GAME RACING\",\"GAME RACING\",\"GAME RACING\",\"GAME RACING\",\"GAME RACING\",\"GAME RACING\",\"GAME RACING\",\"GAME RACING\",\"GAME RACING\",\"GAME RACING\",\"GAME RACING\",\"GAME RACING\",\"GAME RACING\",\"GAME RACING\",\"GAME RACING\",\"GAME RACING\",\"GAME RACING\",\"GAME RACING\",\"GAME RACING\",\"GAME RACING\",\"GAME RACING\",\"GAME RACING\",\"GAME RACING\",\"GAME RACING\",\"GAME RACING\",\"GAME RACING\",\"GAME RACING\",\"GAME RACING\",\"GAME RACING\",\"GAME RACING\",\"GAME RACING\",\"GAME RACING\",\"GAME RACING\",\"GAME RACING\",\"GAME RACING\",\"GAME RACING\",\"GAME RACING\",\"GAME RACING\",\"GAME RACING\",\"GAME RACING\",\"GAME RACING\",\"GAME RACING\",\"GAME RACING\",\"GAME RACING\",\"GAME RACING\",\"GAME RACING\",\"GAME RACING\",\"GAME RACING\",\"GAME RACING\",\"GAME RACING\",\"GAME RACING\",\"GAME RACING\",\"GAME RACING\",\"GAME RACING\",\"GAME RACING\",\"GAME RACING\",\"GAME RACING\",\"GAME RACING\",\"GAME RACING\",\"GAME RACING\",\"GAME RACING\",\"GAME RACING\",\"GAME RACING\",\"GAME RACING\",\"GAME RACING\",\"GAME RACING\",\"GAME RACING\",\"GAME RACING\",\"GAME RACING\",\"GAME RACING\",\"GAME RACING\",\"GAME RACING\",\"GAME RACING\",\"GAME RACING\",\"GAME RACING\",\"GAME ROLE PLAYING\",\"GAME ROLE PLAYING\",\"GAME ROLE PLAYING\",\"GAME ROLE PLAYING\",\"GAME ROLE PLAYING\",\"GAME ROLE PLAYING\",\"GAME ROLE PLAYING\",\"GAME ROLE PLAYING\",\"GAME ROLE PLAYING\",\"GAME ROLE PLAYING\",\"GAME ROLE PLAYING\",\"GAME ROLE PLAYING\",\"GAME ROLE PLAYING\",\"GAME ROLE PLAYING\",\"GAME ROLE PLAYING\",\"GAME ROLE PLAYING\",\"GAME ROLE PLAYING\",\"GAME ROLE PLAYING\",\"GAME ROLE PLAYING\",\"GAME ROLE PLAYING\",\"GAME ROLE PLAYING\",\"GAME ROLE PLAYING\",\"GAME ROLE PLAYING\",\"GAME ROLE PLAYING\",\"GAME ROLE PLAYING\",\"GAME ROLE PLAYING\",\"GAME ROLE PLAYING\",\"GAME ROLE PLAYING\",\"GAME ROLE PLAYING\",\"GAME ROLE PLAYING\",\"GAME ROLE PLAYING\",\"GAME ROLE PLAYING\",\"GAME ROLE PLAYING\",\"GAME ROLE PLAYING\",\"GAME ROLE PLAYING\",\"GAME ROLE PLAYING\",\"GAME ROLE PLAYING\",\"GAME ROLE PLAYING\",\"GAME ROLE PLAYING\",\"GAME ROLE PLAYING\",\"GAME ROLE PLAYING\",\"GAME ROLE PLAYING\",\"GAME ROLE PLAYING\",\"GAME ROLE PLAYING\",\"GAME ROLE PLAYING\",\"GAME ROLE PLAYING\",\"GAME ROLE PLAYING\",\"GAME ROLE PLAYING\",\"GAME ROLE PLAYING\",\"GAME ROLE PLAYING\",\"GAME ROLE PLAYING\",\"GAME ROLE PLAYING\",\"GAME ROLE PLAYING\",\"GAME ROLE PLAYING\",\"GAME ROLE PLAYING\",\"GAME ROLE PLAYING\",\"GAME ROLE PLAYING\",\"GAME ROLE PLAYING\",\"GAME ROLE PLAYING\",\"GAME ROLE PLAYING\",\"GAME ROLE PLAYING\",\"GAME ROLE PLAYING\",\"GAME ROLE PLAYING\",\"GAME ROLE PLAYING\",\"GAME ROLE PLAYING\",\"GAME ROLE PLAYING\",\"GAME ROLE PLAYING\",\"GAME ROLE PLAYING\",\"GAME ROLE PLAYING\",\"GAME ROLE PLAYING\",\"GAME ROLE PLAYING\",\"GAME ROLE PLAYING\",\"GAME ROLE PLAYING\",\"GAME ROLE PLAYING\",\"GAME ROLE PLAYING\",\"GAME ROLE PLAYING\",\"GAME ROLE PLAYING\",\"GAME ROLE PLAYING\",\"GAME ROLE PLAYING\",\"GAME ROLE PLAYING\",\"GAME ROLE PLAYING\",\"GAME ROLE PLAYING\",\"GAME ROLE PLAYING\",\"GAME ROLE PLAYING\",\"GAME ROLE PLAYING\",\"GAME ROLE PLAYING\",\"GAME ROLE PLAYING\",\"GAME ROLE PLAYING\",\"GAME ROLE PLAYING\",\"GAME ROLE PLAYING\",\"GAME ROLE PLAYING\",\"GAME ROLE PLAYING\",\"GAME ROLE PLAYING\",\"GAME ROLE PLAYING\",\"GAME ROLE PLAYING\",\"GAME ROLE PLAYING\",\"GAME ROLE PLAYING\",\"GAME ROLE PLAYING\",\"GAME ROLE PLAYING\",\"GAME ROLE PLAYING\",\"GAME SIMULATION\",\"GAME SIMULATION\",\"GAME SIMULATION\",\"GAME SIMULATION\",\"GAME SIMULATION\",\"GAME SIMULATION\",\"GAME SIMULATION\",\"GAME SIMULATION\",\"GAME SIMULATION\",\"GAME SIMULATION\",\"GAME SIMULATION\",\"GAME SIMULATION\",\"GAME SIMULATION\",\"GAME SIMULATION\",\"GAME SIMULATION\",\"GAME SIMULATION\",\"GAME SIMULATION\",\"GAME SIMULATION\",\"GAME SIMULATION\",\"GAME SIMULATION\",\"GAME SIMULATION\",\"GAME SIMULATION\",\"GAME SIMULATION\",\"GAME SIMULATION\",\"GAME SIMULATION\",\"GAME SIMULATION\",\"GAME SIMULATION\",\"GAME SIMULATION\",\"GAME SIMULATION\",\"GAME SIMULATION\",\"GAME SIMULATION\",\"GAME SIMULATION\",\"GAME SIMULATION\",\"GAME SIMULATION\",\"GAME SIMULATION\",\"GAME SIMULATION\",\"GAME SIMULATION\",\"GAME SIMULATION\",\"GAME SIMULATION\",\"GAME SIMULATION\",\"GAME SIMULATION\",\"GAME SIMULATION\",\"GAME SIMULATION\",\"GAME SIMULATION\",\"GAME SIMULATION\",\"GAME SIMULATION\",\"GAME SIMULATION\",\"GAME SIMULATION\",\"GAME SIMULATION\",\"GAME SIMULATION\",\"GAME SIMULATION\",\"GAME SIMULATION\",\"GAME SIMULATION\",\"GAME SIMULATION\",\"GAME SIMULATION\",\"GAME SIMULATION\",\"GAME SIMULATION\",\"GAME SIMULATION\",\"GAME SIMULATION\",\"GAME SIMULATION\",\"GAME SIMULATION\",\"GAME SIMULATION\",\"GAME SIMULATION\",\"GAME SIMULATION\",\"GAME SIMULATION\",\"GAME SIMULATION\",\"GAME SIMULATION\",\"GAME SIMULATION\",\"GAME SIMULATION\",\"GAME SIMULATION\",\"GAME SIMULATION\",\"GAME SIMULATION\",\"GAME SIMULATION\",\"GAME SIMULATION\",\"GAME SIMULATION\",\"GAME SIMULATION\",\"GAME SIMULATION\",\"GAME SIMULATION\",\"GAME SIMULATION\",\"GAME SIMULATION\",\"GAME SIMULATION\",\"GAME SIMULATION\",\"GAME SIMULATION\",\"GAME SIMULATION\",\"GAME SIMULATION\",\"GAME SIMULATION\",\"GAME SIMULATION\",\"GAME SIMULATION\",\"GAME SIMULATION\",\"GAME SIMULATION\",\"GAME SIMULATION\",\"GAME SIMULATION\",\"GAME SIMULATION\",\"GAME SIMULATION\",\"GAME SIMULATION\",\"GAME SIMULATION\",\"GAME SIMULATION\",\"GAME SIMULATION\",\"GAME SIMULATION\",\"GAME SIMULATION\",\"GAME SPORTS\",\"GAME SPORTS\",\"GAME SPORTS\",\"GAME SPORTS\",\"GAME SPORTS\",\"GAME SPORTS\",\"GAME SPORTS\",\"GAME SPORTS\",\"GAME SPORTS\",\"GAME SPORTS\",\"GAME SPORTS\",\"GAME SPORTS\",\"GAME SPORTS\",\"GAME SPORTS\",\"GAME SPORTS\",\"GAME SPORTS\",\"GAME SPORTS\",\"GAME SPORTS\",\"GAME SPORTS\",\"GAME SPORTS\",\"GAME SPORTS\",\"GAME SPORTS\",\"GAME SPORTS\",\"GAME SPORTS\",\"GAME SPORTS\",\"GAME SPORTS\",\"GAME SPORTS\",\"GAME SPORTS\",\"GAME SPORTS\",\"GAME SPORTS\",\"GAME SPORTS\",\"GAME SPORTS\",\"GAME SPORTS\",\"GAME SPORTS\",\"GAME SPORTS\",\"GAME SPORTS\",\"GAME SPORTS\",\"GAME SPORTS\",\"GAME SPORTS\",\"GAME SPORTS\",\"GAME SPORTS\",\"GAME SPORTS\",\"GAME SPORTS\",\"GAME SPORTS\",\"GAME SPORTS\",\"GAME SPORTS\",\"GAME SPORTS\",\"GAME SPORTS\",\"GAME SPORTS\",\"GAME SPORTS\",\"GAME SPORTS\",\"GAME SPORTS\",\"GAME SPORTS\",\"GAME SPORTS\",\"GAME SPORTS\",\"GAME SPORTS\",\"GAME SPORTS\",\"GAME SPORTS\",\"GAME SPORTS\",\"GAME SPORTS\",\"GAME SPORTS\",\"GAME SPORTS\",\"GAME SPORTS\",\"GAME SPORTS\",\"GAME SPORTS\",\"GAME SPORTS\",\"GAME SPORTS\",\"GAME SPORTS\",\"GAME SPORTS\",\"GAME SPORTS\",\"GAME SPORTS\",\"GAME SPORTS\",\"GAME SPORTS\",\"GAME SPORTS\",\"GAME SPORTS\",\"GAME SPORTS\",\"GAME SPORTS\",\"GAME SPORTS\",\"GAME SPORTS\",\"GAME SPORTS\",\"GAME SPORTS\",\"GAME SPORTS\",\"GAME SPORTS\",\"GAME SPORTS\",\"GAME SPORTS\",\"GAME SPORTS\",\"GAME SPORTS\",\"GAME SPORTS\",\"GAME SPORTS\",\"GAME SPORTS\",\"GAME SPORTS\",\"GAME SPORTS\",\"GAME SPORTS\",\"GAME SPORTS\",\"GAME SPORTS\",\"GAME SPORTS\",\"GAME SPORTS\",\"GAME SPORTS\",\"GAME SPORTS\",\"GAME SPORTS\",\"GAME STRATEGY\",\"GAME STRATEGY\",\"GAME STRATEGY\",\"GAME STRATEGY\",\"GAME STRATEGY\",\"GAME STRATEGY\",\"GAME STRATEGY\",\"GAME STRATEGY\",\"GAME STRATEGY\",\"GAME STRATEGY\",\"GAME STRATEGY\",\"GAME STRATEGY\",\"GAME STRATEGY\",\"GAME STRATEGY\",\"GAME STRATEGY\",\"GAME STRATEGY\",\"GAME STRATEGY\",\"GAME STRATEGY\",\"GAME STRATEGY\",\"GAME STRATEGY\",\"GAME STRATEGY\",\"GAME STRATEGY\",\"GAME STRATEGY\",\"GAME STRATEGY\",\"GAME STRATEGY\",\"GAME STRATEGY\",\"GAME STRATEGY\",\"GAME STRATEGY\",\"GAME STRATEGY\",\"GAME STRATEGY\",\"GAME STRATEGY\",\"GAME STRATEGY\",\"GAME STRATEGY\",\"GAME STRATEGY\",\"GAME STRATEGY\",\"GAME STRATEGY\",\"GAME STRATEGY\",\"GAME STRATEGY\",\"GAME STRATEGY\",\"GAME STRATEGY\",\"GAME STRATEGY\",\"GAME STRATEGY\",\"GAME STRATEGY\",\"GAME STRATEGY\",\"GAME STRATEGY\",\"GAME STRATEGY\",\"GAME STRATEGY\",\"GAME STRATEGY\",\"GAME STRATEGY\",\"GAME STRATEGY\",\"GAME STRATEGY\",\"GAME STRATEGY\",\"GAME STRATEGY\",\"GAME STRATEGY\",\"GAME STRATEGY\",\"GAME STRATEGY\",\"GAME STRATEGY\",\"GAME STRATEGY\",\"GAME STRATEGY\",\"GAME STRATEGY\",\"GAME STRATEGY\",\"GAME STRATEGY\",\"GAME STRATEGY\",\"GAME STRATEGY\",\"GAME STRATEGY\",\"GAME STRATEGY\",\"GAME STRATEGY\",\"GAME STRATEGY\",\"GAME STRATEGY\",\"GAME STRATEGY\",\"GAME STRATEGY\",\"GAME STRATEGY\",\"GAME STRATEGY\",\"GAME STRATEGY\",\"GAME STRATEGY\",\"GAME STRATEGY\",\"GAME STRATEGY\",\"GAME STRATEGY\",\"GAME STRATEGY\",\"GAME STRATEGY\",\"GAME STRATEGY\",\"GAME STRATEGY\",\"GAME STRATEGY\",\"GAME STRATEGY\",\"GAME STRATEGY\",\"GAME STRATEGY\",\"GAME STRATEGY\",\"GAME STRATEGY\",\"GAME STRATEGY\",\"GAME STRATEGY\",\"GAME STRATEGY\",\"GAME STRATEGY\",\"GAME STRATEGY\",\"GAME STRATEGY\",\"GAME STRATEGY\",\"GAME STRATEGY\",\"GAME STRATEGY\",\"GAME STRATEGY\",\"GAME STRATEGY\",\"GAME STRATEGY\",\"GAME TRIVIA\",\"GAME TRIVIA\",\"GAME TRIVIA\",\"GAME TRIVIA\",\"GAME TRIVIA\",\"GAME TRIVIA\",\"GAME TRIVIA\",\"GAME TRIVIA\",\"GAME TRIVIA\",\"GAME TRIVIA\",\"GAME TRIVIA\",\"GAME TRIVIA\",\"GAME TRIVIA\",\"GAME TRIVIA\",\"GAME TRIVIA\",\"GAME TRIVIA\",\"GAME TRIVIA\",\"GAME TRIVIA\",\"GAME TRIVIA\",\"GAME TRIVIA\",\"GAME TRIVIA\",\"GAME TRIVIA\",\"GAME TRIVIA\",\"GAME TRIVIA\",\"GAME TRIVIA\",\"GAME TRIVIA\",\"GAME TRIVIA\",\"GAME TRIVIA\",\"GAME TRIVIA\",\"GAME TRIVIA\",\"GAME TRIVIA\",\"GAME TRIVIA\",\"GAME TRIVIA\",\"GAME TRIVIA\",\"GAME TRIVIA\",\"GAME TRIVIA\",\"GAME TRIVIA\",\"GAME TRIVIA\",\"GAME TRIVIA\",\"GAME TRIVIA\",\"GAME TRIVIA\",\"GAME TRIVIA\",\"GAME TRIVIA\",\"GAME TRIVIA\",\"GAME TRIVIA\",\"GAME TRIVIA\",\"GAME TRIVIA\",\"GAME TRIVIA\",\"GAME TRIVIA\",\"GAME TRIVIA\",\"GAME TRIVIA\",\"GAME TRIVIA\",\"GAME TRIVIA\",\"GAME TRIVIA\",\"GAME TRIVIA\",\"GAME TRIVIA\",\"GAME TRIVIA\",\"GAME TRIVIA\",\"GAME TRIVIA\",\"GAME TRIVIA\",\"GAME TRIVIA\",\"GAME TRIVIA\",\"GAME TRIVIA\",\"GAME TRIVIA\",\"GAME TRIVIA\",\"GAME TRIVIA\",\"GAME TRIVIA\",\"GAME TRIVIA\",\"GAME TRIVIA\",\"GAME TRIVIA\",\"GAME TRIVIA\",\"GAME TRIVIA\",\"GAME TRIVIA\",\"GAME TRIVIA\",\"GAME TRIVIA\",\"GAME TRIVIA\",\"GAME TRIVIA\",\"GAME TRIVIA\",\"GAME TRIVIA\",\"GAME TRIVIA\",\"GAME TRIVIA\",\"GAME TRIVIA\",\"GAME TRIVIA\",\"GAME TRIVIA\",\"GAME TRIVIA\",\"GAME TRIVIA\",\"GAME TRIVIA\",\"GAME TRIVIA\",\"GAME TRIVIA\",\"GAME TRIVIA\",\"GAME TRIVIA\",\"GAME TRIVIA\",\"GAME TRIVIA\",\"GAME TRIVIA\",\"GAME TRIVIA\",\"GAME TRIVIA\",\"GAME TRIVIA\",\"GAME TRIVIA\",\"GAME TRIVIA\",\"GAME TRIVIA\",\"GAME WORD\",\"GAME WORD\",\"GAME WORD\",\"GAME WORD\",\"GAME WORD\",\"GAME WORD\",\"GAME WORD\",\"GAME WORD\",\"GAME WORD\",\"GAME WORD\",\"GAME WORD\",\"GAME WORD\",\"GAME WORD\",\"GAME WORD\",\"GAME WORD\",\"GAME WORD\",\"GAME WORD\",\"GAME WORD\",\"GAME WORD\",\"GAME WORD\",\"GAME WORD\",\"GAME WORD\",\"GAME WORD\",\"GAME WORD\",\"GAME WORD\",\"GAME WORD\",\"GAME WORD\",\"GAME WORD\",\"GAME WORD\",\"GAME WORD\",\"GAME WORD\",\"GAME WORD\",\"GAME WORD\",\"GAME WORD\",\"GAME WORD\",\"GAME WORD\",\"GAME WORD\",\"GAME WORD\",\"GAME WORD\",\"GAME WORD\",\"GAME WORD\",\"GAME WORD\",\"GAME WORD\",\"GAME WORD\",\"GAME WORD\",\"GAME WORD\",\"GAME WORD\",\"GAME WORD\",\"GAME WORD\",\"GAME WORD\",\"GAME WORD\",\"GAME WORD\",\"GAME WORD\",\"GAME WORD\",\"GAME WORD\",\"GAME WORD\",\"GAME WORD\",\"GAME WORD\",\"GAME WORD\",\"GAME WORD\",\"GAME WORD\",\"GAME WORD\",\"GAME WORD\",\"GAME WORD\",\"GAME WORD\",\"GAME WORD\",\"GAME WORD\",\"GAME WORD\",\"GAME WORD\",\"GAME WORD\",\"GAME WORD\",\"GAME WORD\",\"GAME WORD\",\"GAME WORD\",\"GAME WORD\",\"GAME WORD\",\"GAME WORD\",\"GAME WORD\",\"GAME WORD\",\"GAME WORD\",\"GAME WORD\",\"GAME WORD\",\"GAME WORD\",\"GAME WORD\",\"GAME WORD\",\"GAME WORD\",\"GAME WORD\",\"GAME WORD\",\"GAME WORD\",\"GAME WORD\",\"GAME WORD\",\"GAME WORD\",\"GAME WORD\",\"GAME WORD\",\"GAME WORD\",\"GAME WORD\",\"GAME WORD\",\"GAME WORD\",\"GAME WORD\",\"GAME WORD\",\"GAME WORD\",\"GAME WORD\",\"GAME WORD\",\"GAME WORD\",\"GAME WORD\",\"GAME WORD\"],\"xaxis\":\"x\",\"yaxis\":\"y\"}],                        {\"barmode\":\"relative\",\"legend\":{\"tracegroupgap\":0},\"template\":{\"data\":{\"bar\":[{\"error_x\":{\"color\":\"#2a3f5f\"},\"error_y\":{\"color\":\"#2a3f5f\"},\"marker\":{\"line\":{\"color\":\"#E5ECF6\",\"width\":0.5},\"pattern\":{\"fillmode\":\"overlay\",\"size\":10,\"solidity\":0.2}},\"type\":\"bar\"}],\"barpolar\":[{\"marker\":{\"line\":{\"color\":\"#E5ECF6\",\"width\":0.5},\"pattern\":{\"fillmode\":\"overlay\",\"size\":10,\"solidity\":0.2}},\"type\":\"barpolar\"}],\"carpet\":[{\"aaxis\":{\"endlinecolor\":\"#2a3f5f\",\"gridcolor\":\"white\",\"linecolor\":\"white\",\"minorgridcolor\":\"white\",\"startlinecolor\":\"#2a3f5f\"},\"baxis\":{\"endlinecolor\":\"#2a3f5f\",\"gridcolor\":\"white\",\"linecolor\":\"white\",\"minorgridcolor\":\"white\",\"startlinecolor\":\"#2a3f5f\"},\"type\":\"carpet\"}],\"choropleth\":[{\"colorbar\":{\"outlinewidth\":0,\"ticks\":\"\"},\"type\":\"choropleth\"}],\"contour\":[{\"colorbar\":{\"outlinewidth\":0,\"ticks\":\"\"},\"colorscale\":[[0.0,\"#0d0887\"],[0.1111111111111111,\"#46039f\"],[0.2222222222222222,\"#7201a8\"],[0.3333333333333333,\"#9c179e\"],[0.4444444444444444,\"#bd3786\"],[0.5555555555555556,\"#d8576b\"],[0.6666666666666666,\"#ed7953\"],[0.7777777777777778,\"#fb9f3a\"],[0.8888888888888888,\"#fdca26\"],[1.0,\"#f0f921\"]],\"type\":\"contour\"}],\"contourcarpet\":[{\"colorbar\":{\"outlinewidth\":0,\"ticks\":\"\"},\"type\":\"contourcarpet\"}],\"heatmap\":[{\"colorbar\":{\"outlinewidth\":0,\"ticks\":\"\"},\"colorscale\":[[0.0,\"#0d0887\"],[0.1111111111111111,\"#46039f\"],[0.2222222222222222,\"#7201a8\"],[0.3333333333333333,\"#9c179e\"],[0.4444444444444444,\"#bd3786\"],[0.5555555555555556,\"#d8576b\"],[0.6666666666666666,\"#ed7953\"],[0.7777777777777778,\"#fb9f3a\"],[0.8888888888888888,\"#fdca26\"],[1.0,\"#f0f921\"]],\"type\":\"heatmap\"}],\"heatmapgl\":[{\"colorbar\":{\"outlinewidth\":0,\"ticks\":\"\"},\"colorscale\":[[0.0,\"#0d0887\"],[0.1111111111111111,\"#46039f\"],[0.2222222222222222,\"#7201a8\"],[0.3333333333333333,\"#9c179e\"],[0.4444444444444444,\"#bd3786\"],[0.5555555555555556,\"#d8576b\"],[0.6666666666666666,\"#ed7953\"],[0.7777777777777778,\"#fb9f3a\"],[0.8888888888888888,\"#fdca26\"],[1.0,\"#f0f921\"]],\"type\":\"heatmapgl\"}],\"histogram\":[{\"marker\":{\"pattern\":{\"fillmode\":\"overlay\",\"size\":10,\"solidity\":0.2}},\"type\":\"histogram\"}],\"histogram2d\":[{\"colorbar\":{\"outlinewidth\":0,\"ticks\":\"\"},\"colorscale\":[[0.0,\"#0d0887\"],[0.1111111111111111,\"#46039f\"],[0.2222222222222222,\"#7201a8\"],[0.3333333333333333,\"#9c179e\"],[0.4444444444444444,\"#bd3786\"],[0.5555555555555556,\"#d8576b\"],[0.6666666666666666,\"#ed7953\"],[0.7777777777777778,\"#fb9f3a\"],[0.8888888888888888,\"#fdca26\"],[1.0,\"#f0f921\"]],\"type\":\"histogram2d\"}],\"histogram2dcontour\":[{\"colorbar\":{\"outlinewidth\":0,\"ticks\":\"\"},\"colorscale\":[[0.0,\"#0d0887\"],[0.1111111111111111,\"#46039f\"],[0.2222222222222222,\"#7201a8\"],[0.3333333333333333,\"#9c179e\"],[0.4444444444444444,\"#bd3786\"],[0.5555555555555556,\"#d8576b\"],[0.6666666666666666,\"#ed7953\"],[0.7777777777777778,\"#fb9f3a\"],[0.8888888888888888,\"#fdca26\"],[1.0,\"#f0f921\"]],\"type\":\"histogram2dcontour\"}],\"mesh3d\":[{\"colorbar\":{\"outlinewidth\":0,\"ticks\":\"\"},\"type\":\"mesh3d\"}],\"parcoords\":[{\"line\":{\"colorbar\":{\"outlinewidth\":0,\"ticks\":\"\"}},\"type\":\"parcoords\"}],\"pie\":[{\"automargin\":true,\"type\":\"pie\"}],\"scatter\":[{\"marker\":{\"colorbar\":{\"outlinewidth\":0,\"ticks\":\"\"}},\"type\":\"scatter\"}],\"scatter3d\":[{\"line\":{\"colorbar\":{\"outlinewidth\":0,\"ticks\":\"\"}},\"marker\":{\"colorbar\":{\"outlinewidth\":0,\"ticks\":\"\"}},\"type\":\"scatter3d\"}],\"scattercarpet\":[{\"marker\":{\"colorbar\":{\"outlinewidth\":0,\"ticks\":\"\"}},\"type\":\"scattercarpet\"}],\"scattergeo\":[{\"marker\":{\"colorbar\":{\"outlinewidth\":0,\"ticks\":\"\"}},\"type\":\"scattergeo\"}],\"scattergl\":[{\"marker\":{\"colorbar\":{\"outlinewidth\":0,\"ticks\":\"\"}},\"type\":\"scattergl\"}],\"scattermapbox\":[{\"marker\":{\"colorbar\":{\"outlinewidth\":0,\"ticks\":\"\"}},\"type\":\"scattermapbox\"}],\"scatterpolar\":[{\"marker\":{\"colorbar\":{\"outlinewidth\":0,\"ticks\":\"\"}},\"type\":\"scatterpolar\"}],\"scatterpolargl\":[{\"marker\":{\"colorbar\":{\"outlinewidth\":0,\"ticks\":\"\"}},\"type\":\"scatterpolargl\"}],\"scatterternary\":[{\"marker\":{\"colorbar\":{\"outlinewidth\":0,\"ticks\":\"\"}},\"type\":\"scatterternary\"}],\"surface\":[{\"colorbar\":{\"outlinewidth\":0,\"ticks\":\"\"},\"colorscale\":[[0.0,\"#0d0887\"],[0.1111111111111111,\"#46039f\"],[0.2222222222222222,\"#7201a8\"],[0.3333333333333333,\"#9c179e\"],[0.4444444444444444,\"#bd3786\"],[0.5555555555555556,\"#d8576b\"],[0.6666666666666666,\"#ed7953\"],[0.7777777777777778,\"#fb9f3a\"],[0.8888888888888888,\"#fdca26\"],[1.0,\"#f0f921\"]],\"type\":\"surface\"}],\"table\":[{\"cells\":{\"fill\":{\"color\":\"#EBF0F8\"},\"line\":{\"color\":\"white\"}},\"header\":{\"fill\":{\"color\":\"#C8D4E3\"},\"line\":{\"color\":\"white\"}},\"type\":\"table\"}]},\"layout\":{\"annotationdefaults\":{\"arrowcolor\":\"#2a3f5f\",\"arrowhead\":0,\"arrowwidth\":1},\"autotypenumbers\":\"strict\",\"coloraxis\":{\"colorbar\":{\"outlinewidth\":0,\"ticks\":\"\"}},\"colorscale\":{\"diverging\":[[0,\"#8e0152\"],[0.1,\"#c51b7d\"],[0.2,\"#de77ae\"],[0.3,\"#f1b6da\"],[0.4,\"#fde0ef\"],[0.5,\"#f7f7f7\"],[0.6,\"#e6f5d0\"],[0.7,\"#b8e186\"],[0.8,\"#7fbc41\"],[0.9,\"#4d9221\"],[1,\"#276419\"]],\"sequential\":[[0.0,\"#0d0887\"],[0.1111111111111111,\"#46039f\"],[0.2222222222222222,\"#7201a8\"],[0.3333333333333333,\"#9c179e\"],[0.4444444444444444,\"#bd3786\"],[0.5555555555555556,\"#d8576b\"],[0.6666666666666666,\"#ed7953\"],[0.7777777777777778,\"#fb9f3a\"],[0.8888888888888888,\"#fdca26\"],[1.0,\"#f0f921\"]],\"sequentialminus\":[[0.0,\"#0d0887\"],[0.1111111111111111,\"#46039f\"],[0.2222222222222222,\"#7201a8\"],[0.3333333333333333,\"#9c179e\"],[0.4444444444444444,\"#bd3786\"],[0.5555555555555556,\"#d8576b\"],[0.6666666666666666,\"#ed7953\"],[0.7777777777777778,\"#fb9f3a\"],[0.8888888888888888,\"#fdca26\"],[1.0,\"#f0f921\"]]},\"colorway\":[\"#636efa\",\"#EF553B\",\"#00cc96\",\"#ab63fa\",\"#FFA15A\",\"#19d3f3\",\"#FF6692\",\"#B6E880\",\"#FF97FF\",\"#FECB52\"],\"font\":{\"color\":\"#2a3f5f\"},\"geo\":{\"bgcolor\":\"white\",\"lakecolor\":\"white\",\"landcolor\":\"#E5ECF6\",\"showlakes\":true,\"showland\":true,\"subunitcolor\":\"white\"},\"hoverlabel\":{\"align\":\"left\"},\"hovermode\":\"closest\",\"mapbox\":{\"style\":\"light\"},\"paper_bgcolor\":\"white\",\"plot_bgcolor\":\"#E5ECF6\",\"polar\":{\"angularaxis\":{\"gridcolor\":\"white\",\"linecolor\":\"white\",\"ticks\":\"\"},\"bgcolor\":\"#E5ECF6\",\"radialaxis\":{\"gridcolor\":\"white\",\"linecolor\":\"white\",\"ticks\":\"\"}},\"scene\":{\"xaxis\":{\"backgroundcolor\":\"#E5ECF6\",\"gridcolor\":\"white\",\"gridwidth\":2,\"linecolor\":\"white\",\"showbackground\":true,\"ticks\":\"\",\"zerolinecolor\":\"white\"},\"yaxis\":{\"backgroundcolor\":\"#E5ECF6\",\"gridcolor\":\"white\",\"gridwidth\":2,\"linecolor\":\"white\",\"showbackground\":true,\"ticks\":\"\",\"zerolinecolor\":\"white\"},\"zaxis\":{\"backgroundcolor\":\"#E5ECF6\",\"gridcolor\":\"white\",\"gridwidth\":2,\"linecolor\":\"white\",\"showbackground\":true,\"ticks\":\"\",\"zerolinecolor\":\"white\"}},\"shapedefaults\":{\"line\":{\"color\":\"#2a3f5f\"}},\"ternary\":{\"aaxis\":{\"gridcolor\":\"white\",\"linecolor\":\"white\",\"ticks\":\"\"},\"baxis\":{\"gridcolor\":\"white\",\"linecolor\":\"white\",\"ticks\":\"\"},\"bgcolor\":\"#E5ECF6\",\"caxis\":{\"gridcolor\":\"white\",\"linecolor\":\"white\",\"ticks\":\"\"}},\"title\":{\"x\":0.05},\"xaxis\":{\"automargin\":true,\"gridcolor\":\"white\",\"linecolor\":\"white\",\"ticks\":\"\",\"title\":{\"standoff\":15},\"zerolinecolor\":\"white\",\"zerolinewidth\":2},\"yaxis\":{\"automargin\":true,\"gridcolor\":\"white\",\"linecolor\":\"white\",\"ticks\":\"\",\"title\":{\"standoff\":15},\"zerolinecolor\":\"white\",\"zerolinewidth\":2}}},\"title\":{\"text\":\"Game Categories\"},\"xaxis\":{\"anchor\":\"y\",\"categoryorder\":\"total descending\",\"domain\":[0.0,1.0],\"title\":{\"text\":\"category\"}},\"yaxis\":{\"anchor\":\"x\",\"domain\":[0.0,1.0],\"title\":{\"text\":\"count\"}}},                        {\"responsive\": true}                    ).then(function(){\n",
       "                            \n",
       "var gd = document.getElementById('2b87291e-ff28-4eb6-9021-fdbbdb87e9e6');\n",
       "var x = new MutationObserver(function (mutations, observer) {{\n",
       "        var display = window.getComputedStyle(gd).display;\n",
       "        if (!display || display === 'none') {{\n",
       "            console.log([gd, 'removed!']);\n",
       "            Plotly.purge(gd);\n",
       "            observer.disconnect();\n",
       "        }}\n",
       "}});\n",
       "\n",
       "// Listen for the removal of the full notebook cells\n",
       "var notebookContainer = gd.closest('#notebook-container');\n",
       "if (notebookContainer) {{\n",
       "    x.observe(notebookContainer, {childList: true});\n",
       "}}\n",
       "\n",
       "// Listen for the clearing of the current output cell\n",
       "var outputEl = gd.closest('.output');\n",
       "if (outputEl) {{\n",
       "    x.observe(outputEl, {childList: true});\n",
       "}}\n",
       "\n",
       "                        })                };                });            </script>        </div>"
      ]
     },
     "metadata": {},
     "output_type": "display_data"
    }
   ],
   "source": [
    "fig = px.histogram(df, x=\"category\", title='Game Categories')\n",
    "fig.update_layout(xaxis={'categoryorder':'total descending'})\n",
    "fig.show()"
   ]
  },
  {
   "cell_type": "code",
   "execution_count": 46,
   "id": "09382977",
   "metadata": {
    "execution": {
     "iopub.execute_input": "2021-07-17T21:46:06.339330Z",
     "iopub.status.busy": "2021-07-17T21:46:06.338688Z",
     "iopub.status.idle": "2021-07-17T21:46:06.348358Z",
     "shell.execute_reply": "2021-07-17T21:46:06.347810Z",
     "shell.execute_reply.started": "2021-07-17T21:38:38.021679Z"
    },
    "papermill": {
     "duration": 0.118177,
     "end_time": "2021-07-17T21:46:06.348486",
     "exception": false,
     "start_time": "2021-07-17T21:46:06.230309",
     "status": "completed"
    },
    "tags": []
   },
   "outputs": [
    {
     "data": {
      "text/html": [
       "<div>\n",
       "<style scoped>\n",
       "    .dataframe tbody tr th:only-of-type {\n",
       "        vertical-align: middle;\n",
       "    }\n",
       "\n",
       "    .dataframe tbody tr th {\n",
       "        vertical-align: top;\n",
       "    }\n",
       "\n",
       "    .dataframe thead th {\n",
       "        text-align: right;\n",
       "    }\n",
       "</style>\n",
       "<table border=\"1\" class=\"dataframe\">\n",
       "  <thead>\n",
       "    <tr style=\"text-align: right;\">\n",
       "      <th></th>\n",
       "      <th>growth (30 days)</th>\n",
       "    </tr>\n",
       "    <tr>\n",
       "      <th>category</th>\n",
       "      <th></th>\n",
       "    </tr>\n",
       "  </thead>\n",
       "  <tbody>\n",
       "    <tr>\n",
       "      <th>GAME ACTION</th>\n",
       "      <td>1452.539000</td>\n",
       "    </tr>\n",
       "    <tr>\n",
       "      <th>GAME WORD</th>\n",
       "      <td>1325.504717</td>\n",
       "    </tr>\n",
       "    <tr>\n",
       "      <th>GAME BOARD</th>\n",
       "      <td>157.328000</td>\n",
       "    </tr>\n",
       "    <tr>\n",
       "      <th>GAME EDUCATIONAL</th>\n",
       "      <td>99.569000</td>\n",
       "    </tr>\n",
       "    <tr>\n",
       "      <th>GAME RACING</th>\n",
       "      <td>58.092000</td>\n",
       "    </tr>\n",
       "  </tbody>\n",
       "</table>\n",
       "</div>"
      ],
      "text/plain": [
       "                  growth (30 days)\n",
       "category                          \n",
       "GAME ACTION            1452.539000\n",
       "GAME WORD              1325.504717\n",
       "GAME BOARD              157.328000\n",
       "GAME EDUCATIONAL         99.569000\n",
       "GAME RACING              58.092000"
      ]
     },
     "execution_count": 46,
     "metadata": {},
     "output_type": "execute_result"
    }
   ],
   "source": [
    "growth_30 = df.groupby('category')[['growth (30 days)']].mean().sort_values(by = 'growth (30 days)', ascending = False)\n",
    "growth_30.head()"
   ]
  },
  {
   "cell_type": "code",
   "execution_count": 47,
   "id": "228da1c0",
   "metadata": {
    "execution": {
     "iopub.execute_input": "2021-07-17T21:46:06.554340Z",
     "iopub.status.busy": "2021-07-17T21:46:06.553754Z",
     "iopub.status.idle": "2021-07-17T21:46:06.558632Z",
     "shell.execute_reply": "2021-07-17T21:46:06.559149Z",
     "shell.execute_reply.started": "2021-07-17T21:38:52.014178Z"
    },
    "papermill": {
     "duration": 0.109668,
     "end_time": "2021-07-17T21:46:06.559277",
     "exception": false,
     "start_time": "2021-07-17T21:46:06.449609",
     "status": "completed"
    },
    "tags": []
   },
   "outputs": [
    {
     "data": {
      "text/plain": [
       "Index(['GAME ACTION', 'GAME WORD', 'GAME BOARD', 'GAME EDUCATIONAL',\n",
       "       'GAME RACING', 'GAME TRIVIA', 'GAME ADVENTURE', 'GAME STRATEGY',\n",
       "       'GAME ARCADE', 'GAME CASUAL', 'GAME SIMULATION', 'GAME MUSIC',\n",
       "       'GAME PUZZLE', 'GAME CASINO', 'GAME CARD', 'GAME SPORTS',\n",
       "       'GAME ROLE PLAYING'],\n",
       "      dtype='object', name='category')"
      ]
     },
     "execution_count": 47,
     "metadata": {},
     "output_type": "execute_result"
    }
   ],
   "source": [
    "a = growth_30.index\n",
    "a"
   ]
  },
  {
   "cell_type": "code",
   "execution_count": 48,
   "id": "ed0d0200",
   "metadata": {
    "execution": {
     "iopub.execute_input": "2021-07-17T21:46:06.768746Z",
     "iopub.status.busy": "2021-07-17T21:46:06.768117Z",
     "iopub.status.idle": "2021-07-17T21:46:07.762398Z",
     "shell.execute_reply": "2021-07-17T21:46:07.761839Z",
     "shell.execute_reply.started": "2021-07-17T21:39:02.675703Z"
    },
    "papermill": {
     "duration": 1.100746,
     "end_time": "2021-07-17T21:46:07.762538",
     "exception": false,
     "start_time": "2021-07-17T21:46:06.661792",
     "status": "completed"
    },
    "tags": []
   },
   "outputs": [
    {
     "data": {
      "image/png": "[encoded data removed]",
      "text/plain": [
       "<Figure size 1440x504 with 1 Axes>"
      ]
     },
     "metadata": {
      "needs_background": "light"
     },
     "output_type": "display_data"
    }
   ],
   "source": [
    "plt.figure(figsize=(20,7))\n",
    "sns.barplot(x='category', y='growth (30 days)', data=df, order=a).set(xlabel=\"Game Categories\", ylabel='Growth (30 Days')\n",
    "plt.xticks(rotation = 60)\n",
    "plt.title('The Growth of Android Games in the First 30 Days by Category', fontdict={'fontsize': 16})\n",
    "plt.show();"
   ]
  },
  {
   "cell_type": "code",
   "execution_count": 49,
   "id": "2cd8e62f",
   "metadata": {
    "execution": {
     "iopub.execute_input": "2021-07-17T21:46:07.982190Z",
     "iopub.status.busy": "2021-07-17T21:46:07.981575Z",
     "iopub.status.idle": "2021-07-17T21:46:08.034402Z",
     "shell.execute_reply": "2021-07-17T21:46:08.034877Z",
     "shell.execute_reply.started": "2021-07-17T21:39:18.206855Z"
    },
    "papermill": {
     "duration": 0.168706,
     "end_time": "2021-07-17T21:46:08.035032",
     "exception": false,
     "start_time": "2021-07-17T21:46:07.866326",
     "status": "completed"
    },
    "tags": []
   },
   "outputs": [
    {
     "data": {
      "text/html": [
       "<div>                            <div id=\"7c1de96e-19f0-4e54-8820-650294c6af06\" class=\"plotly-graph-div\" style=\"height:525px; width:100%;\"></div>            <script type=\"text/javascript\">                require([\"plotly\"], function(Plotly) {                    window.PLOTLYENV=window.PLOTLYENV || {};                                    if (document.getElementById(\"7c1de96e-19f0-4e54-8820-650294c6af06\")) {                    Plotly.newPlot(                        \"7c1de96e-19f0-4e54-8820-650294c6af06\",                        [{\"alignmentgroup\":\"True\",\"hovertemplate\":\"category=%{x}<br>growth (30 days)=%{y}<extra></extra>\",\"legendgroup\":\"\",\"marker\":{\"color\":\"#636efa\",\"pattern\":{\"shape\":\"\"}},\"name\":\"\",\"offsetgroup\":\"\",\"orientation\":\"v\",\"showlegend\":false,\"textposition\":\"auto\",\"type\":\"bar\",\"x\":[\"GAME ACTION\",\"GAME ACTION\",\"GAME ACTION\",\"GAME ACTION\",\"GAME ACTION\",\"GAME ACTION\",\"GAME ACTION\",\"GAME ACTION\",\"GAME ACTION\",\"GAME ACTION\",\"GAME ACTION\",\"GAME ACTION\",\"GAME ACTION\",\"GAME ACTION\",\"GAME ACTION\",\"GAME ACTION\",\"GAME ACTION\",\"GAME ACTION\",\"GAME ACTION\",\"GAME ACTION\",\"GAME ACTION\",\"GAME ACTION\",\"GAME ACTION\",\"GAME ACTION\",\"GAME ACTION\",\"GAME ACTION\",\"GAME ACTION\",\"GAME ACTION\",\"GAME ACTION\",\"GAME ACTION\",\"GAME ACTION\",\"GAME ACTION\",\"GAME ACTION\",\"GAME ACTION\",\"GAME ACTION\",\"GAME ACTION\",\"GAME ACTION\",\"GAME ACTION\",\"GAME ACTION\",\"GAME ACTION\",\"GAME ACTION\",\"GAME ACTION\",\"GAME ACTION\",\"GAME ACTION\",\"GAME ACTION\",\"GAME ACTION\",\"GAME ACTION\",\"GAME ACTION\",\"GAME ACTION\",\"GAME ACTION\",\"GAME ACTION\",\"GAME ACTION\",\"GAME ACTION\",\"GAME ACTION\",\"GAME ACTION\",\"GAME ACTION\",\"GAME ACTION\",\"GAME ACTION\",\"GAME ACTION\",\"GAME ACTION\",\"GAME ACTION\",\"GAME ACTION\",\"GAME ACTION\",\"GAME ACTION\",\"GAME ACTION\",\"GAME ACTION\",\"GAME ACTION\",\"GAME ACTION\",\"GAME ACTION\",\"GAME ACTION\",\"GAME ACTION\",\"GAME ACTION\",\"GAME ACTION\",\"GAME ACTION\",\"GAME ACTION\",\"GAME ACTION\",\"GAME ACTION\",\"GAME ACTION\",\"GAME ACTION\",\"GAME ACTION\",\"GAME ACTION\",\"GAME ACTION\",\"GAME ACTION\",\"GAME ACTION\",\"GAME ACTION\",\"GAME ACTION\",\"GAME ACTION\",\"GAME ACTION\",\"GAME ACTION\",\"GAME ACTION\",\"GAME ACTION\",\"GAME ACTION\",\"GAME ACTION\",\"GAME ACTION\",\"GAME ACTION\",\"GAME ACTION\",\"GAME ACTION\",\"GAME ACTION\",\"GAME ACTION\",\"GAME ACTION\",\"GAME ADVENTURE\",\"GAME ADVENTURE\",\"GAME ADVENTURE\",\"GAME ADVENTURE\",\"GAME ADVENTURE\",\"GAME ADVENTURE\",\"GAME ADVENTURE\",\"GAME ADVENTURE\",\"GAME ADVENTURE\",\"GAME ADVENTURE\",\"GAME ADVENTURE\",\"GAME ADVENTURE\",\"GAME ADVENTURE\",\"GAME ADVENTURE\",\"GAME ADVENTURE\",\"GAME ADVENTURE\",\"GAME ADVENTURE\",\"GAME ADVENTURE\",\"GAME ADVENTURE\",\"GAME ADVENTURE\",\"GAME ADVENTURE\",\"GAME ADVENTURE\",\"GAME ADVENTURE\",\"GAME ADVENTURE\",\"GAME ADVENTURE\",\"GAME ADVENTURE\",\"GAME ADVENTURE\",\"GAME ADVENTURE\",\"GAME ADVENTURE\",\"GAME ADVENTURE\",\"GAME ADVENTURE\",\"GAME ADVENTURE\",\"GAME ADVENTURE\",\"GAME ADVENTURE\",\"GAME ADVENTURE\",\"GAME ADVENTURE\",\"GAME ADVENTURE\",\"GAME ADVENTURE\",\"GAME ADVENTURE\",\"GAME ADVENTURE\",\"GAME ADVENTURE\",\"GAME ADVENTURE\",\"GAME ADVENTURE\",\"GAME ADVENTURE\",\"GAME ADVENTURE\",\"GAME ADVENTURE\",\"GAME ADVENTURE\",\"GAME ADVENTURE\",\"GAME ADVENTURE\",\"GAME ADVENTURE\",\"GAME ADVENTURE\",\"GAME ADVENTURE\",\"GAME ADVENTURE\",\"GAME ADVENTURE\",\"GAME ADVENTURE\",\"GAME ADVENTURE\",\"GAME ADVENTURE\",\"GAME ADVENTURE\",\"GAME ADVENTURE\",\"GAME ADVENTURE\",\"GAME ADVENTURE\",\"GAME ADVENTURE\",\"GAME ADVENTURE\",\"GAME ADVENTURE\",\"GAME ADVENTURE\",\"GAME ADVENTURE\",\"GAME ADVENTURE\",\"GAME ADVENTURE\",\"GAME ADVENTURE\",\"GAME ADVENTURE\",\"GAME ADVENTURE\",\"GAME ADVENTURE\",\"GAME ADVENTURE\",\"GAME ADVENTURE\",\"GAME ADVENTURE\",\"GAME ADVENTURE\",\"GAME ADVENTURE\",\"GAME ADVENTURE\",\"GAME ADVENTURE\",\"GAME ADVENTURE\",\"GAME ADVENTURE\",\"GAME ADVENTURE\",\"GAME ADVENTURE\",\"GAME ADVENTURE\",\"GAME ADVENTURE\",\"GAME ADVENTURE\",\"GAME ADVENTURE\",\"GAME ADVENTURE\",\"GAME ADVENTURE\",\"GAME ADVENTURE\",\"GAME ADVENTURE\",\"GAME ADVENTURE\",\"GAME ADVENTURE\",\"GAME ADVENTURE\",\"GAME ADVENTURE\",\"GAME ADVENTURE\",\"GAME ADVENTURE\",\"GAME ADVENTURE\",\"GAME ADVENTURE\",\"GAME ADVENTURE\",\"GAME ARCADE\",\"GAME ARCADE\",\"GAME ARCADE\",\"GAME ARCADE\",\"GAME ARCADE\",\"GAME ARCADE\",\"GAME ARCADE\",\"GAME ARCADE\",\"GAME ARCADE\",\"GAME ARCADE\",\"GAME ARCADE\",\"GAME ARCADE\",\"GAME ARCADE\",\"GAME ARCADE\",\"GAME ARCADE\",\"GAME ARCADE\",\"GAME ARCADE\",\"GAME ARCADE\",\"GAME ARCADE\",\"GAME ARCADE\",\"GAME ARCADE\",\"GAME ARCADE\",\"GAME ARCADE\",\"GAME ARCADE\",\"GAME ARCADE\",\"GAME ARCADE\",\"GAME ARCADE\",\"GAME ARCADE\",\"GAME ARCADE\",\"GAME ARCADE\",\"GAME ARCADE\",\"GAME ARCADE\",\"GAME ARCADE\",\"GAME ARCADE\",\"GAME ARCADE\",\"GAME ARCADE\",\"GAME ARCADE\",\"GAME ARCADE\",\"GAME ARCADE\",\"GAME ARCADE\",\"GAME ARCADE\",\"GAME ARCADE\",\"GAME ARCADE\",\"GAME ARCADE\",\"GAME ARCADE\",\"GAME ARCADE\",\"GAME ARCADE\",\"GAME ARCADE\",\"GAME ARCADE\",\"GAME ARCADE\",\"GAME ARCADE\",\"GAME ARCADE\",\"GAME ARCADE\",\"GAME ARCADE\",\"GAME ARCADE\",\"GAME ARCADE\",\"GAME ARCADE\",\"GAME ARCADE\",\"GAME ARCADE\",\"GAME ARCADE\",\"GAME ARCADE\",\"GAME ARCADE\",\"GAME ARCADE\",\"GAME ARCADE\",\"GAME ARCADE\",\"GAME ARCADE\",\"GAME ARCADE\",\"GAME ARCADE\",\"GAME ARCADE\",\"GAME ARCADE\",\"GAME ARCADE\",\"GAME ARCADE\",\"GAME ARCADE\",\"GAME ARCADE\",\"GAME ARCADE\",\"GAME ARCADE\",\"GAME ARCADE\",\"GAME ARCADE\",\"GAME ARCADE\",\"GAME ARCADE\",\"GAME ARCADE\",\"GAME ARCADE\",\"GAME ARCADE\",\"GAME ARCADE\",\"GAME ARCADE\",\"GAME ARCADE\",\"GAME ARCADE\",\"GAME ARCADE\",\"GAME ARCADE\",\"GAME ARCADE\",\"GAME ARCADE\",\"GAME ARCADE\",\"GAME ARCADE\",\"GAME ARCADE\",\"GAME ARCADE\",\"GAME ARCADE\",\"GAME ARCADE\",\"GAME ARCADE\",\"GAME ARCADE\",\"GAME ARCADE\",\"GAME BOARD\",\"GAME BOARD\",\"GAME BOARD\",\"GAME BOARD\",\"GAME BOARD\",\"GAME BOARD\",\"GAME BOARD\",\"GAME BOARD\",\"GAME BOARD\",\"GAME BOARD\",\"GAME BOARD\",\"GAME BOARD\",\"GAME BOARD\",\"GAME BOARD\",\"GAME BOARD\",\"GAME BOARD\",\"GAME BOARD\",\"GAME BOARD\",\"GAME BOARD\",\"GAME BOARD\",\"GAME BOARD\",\"GAME BOARD\",\"GAME BOARD\",\"GAME BOARD\",\"GAME BOARD\",\"GAME BOARD\",\"GAME BOARD\",\"GAME BOARD\",\"GAME BOARD\",\"GAME BOARD\",\"GAME BOARD\",\"GAME BOARD\",\"GAME BOARD\",\"GAME BOARD\",\"GAME BOARD\",\"GAME BOARD\",\"GAME BOARD\",\"GAME BOARD\",\"GAME BOARD\",\"GAME BOARD\",\"GAME BOARD\",\"GAME BOARD\",\"GAME BOARD\",\"GAME BOARD\",\"GAME BOARD\",\"GAME BOARD\",\"GAME BOARD\",\"GAME BOARD\",\"GAME BOARD\",\"GAME BOARD\",\"GAME BOARD\",\"GAME BOARD\",\"GAME BOARD\",\"GAME BOARD\",\"GAME BOARD\",\"GAME BOARD\",\"GAME BOARD\",\"GAME BOARD\",\"GAME BOARD\",\"GAME BOARD\",\"GAME BOARD\",\"GAME BOARD\",\"GAME BOARD\",\"GAME BOARD\",\"GAME BOARD\",\"GAME BOARD\",\"GAME BOARD\",\"GAME BOARD\",\"GAME BOARD\",\"GAME BOARD\",\"GAME BOARD\",\"GAME BOARD\",\"GAME BOARD\",\"GAME BOARD\",\"GAME BOARD\",\"GAME BOARD\",\"GAME BOARD\",\"GAME BOARD\",\"GAME BOARD\",\"GAME BOARD\",\"GAME BOARD\",\"GAME BOARD\",\"GAME BOARD\",\"GAME BOARD\",\"GAME BOARD\",\"GAME BOARD\",\"GAME BOARD\",\"GAME BOARD\",\"GAME BOARD\",\"GAME BOARD\",\"GAME BOARD\",\"GAME BOARD\",\"GAME BOARD\",\"GAME BOARD\",\"GAME BOARD\",\"GAME BOARD\",\"GAME BOARD\",\"GAME BOARD\",\"GAME BOARD\",\"GAME BOARD\",\"GAME CARD\",\"GAME CARD\",\"GAME CARD\",\"GAME CARD\",\"GAME CARD\",\"GAME CARD\",\"GAME CARD\",\"GAME CARD\",\"GAME CARD\",\"GAME CARD\",\"GAME CARD\",\"GAME CARD\",\"GAME CARD\",\"GAME CARD\",\"GAME CARD\",\"GAME CARD\",\"GAME CARD\",\"GAME CARD\",\"GAME CARD\",\"GAME CARD\",\"GAME CARD\",\"GAME CARD\",\"GAME CARD\",\"GAME CARD\",\"GAME CARD\",\"GAME CARD\",\"GAME CARD\",\"GAME CARD\",\"GAME CARD\",\"GAME CARD\",\"GAME CARD\",\"GAME CARD\",\"GAME CARD\",\"GAME CARD\",\"GAME CARD\",\"GAME CARD\",\"GAME CARD\",\"GAME CARD\",\"GAME CARD\",\"GAME CARD\",\"GAME CARD\",\"GAME CARD\",\"GAME CARD\",\"GAME CARD\",\"GAME CARD\",\"GAME CARD\",\"GAME CARD\",\"GAME CARD\",\"GAME CARD\",\"GAME CARD\",\"GAME CARD\",\"GAME CARD\",\"GAME CARD\",\"GAME CARD\",\"GAME CARD\",\"GAME CARD\",\"GAME CARD\",\"GAME CARD\",\"GAME CARD\",\"GAME CARD\",\"GAME CARD\",\"GAME CARD\",\"GAME CARD\",\"GAME CARD\",\"GAME CARD\",\"GAME CARD\",\"GAME CARD\",\"GAME CARD\",\"GAME CARD\",\"GAME CARD\",\"GAME CARD\",\"GAME CARD\",\"GAME CARD\",\"GAME CARD\",\"GAME CARD\",\"GAME CARD\",\"GAME CARD\",\"GAME CARD\",\"GAME CARD\",\"GAME CARD\",\"GAME CARD\",\"GAME CARD\",\"GAME CARD\",\"GAME CARD\",\"GAME CARD\",\"GAME CARD\",\"GAME CARD\",\"GAME CARD\",\"GAME CARD\",\"GAME CARD\",\"GAME CARD\",\"GAME CARD\",\"GAME CARD\",\"GAME CARD\",\"GAME CARD\",\"GAME CARD\",\"GAME CARD\",\"GAME CARD\",\"GAME CARD\",\"GAME CARD\",\"GAME CARD\",\"GAME CARD\",\"GAME CARD\",\"GAME CARD\",\"GAME CARD\",\"GAME CARD\",\"GAME CARD\",\"GAME CARD\",\"GAME CARD\",\"GAME CARD\",\"GAME CARD\",\"GAME CARD\",\"GAME CARD\",\"GAME CARD\",\"GAME CARD\",\"GAME CARD\",\"GAME CARD\",\"GAME CARD\",\"GAME CARD\",\"GAME CARD\",\"GAME CARD\",\"GAME CARD\",\"GAME CASINO\",\"GAME CASINO\",\"GAME CASINO\",\"GAME CASINO\",\"GAME CASINO\",\"GAME CASINO\",\"GAME CASINO\",\"GAME CASINO\",\"GAME CASINO\",\"GAME CASINO\",\"GAME CASINO\",\"GAME CASINO\",\"GAME CASINO\",\"GAME CASINO\",\"GAME CASINO\",\"GAME CASINO\",\"GAME CASINO\",\"GAME CASINO\",\"GAME CASINO\",\"GAME CASINO\",\"GAME CASINO\",\"GAME CASINO\",\"GAME CASINO\",\"GAME CASINO\",\"GAME CASINO\",\"GAME CASINO\",\"GAME CASINO\",\"GAME CASINO\",\"GAME CASINO\",\"GAME CASINO\",\"GAME CASINO\",\"GAME CASINO\",\"GAME CASINO\",\"GAME CASINO\",\"GAME CASINO\",\"GAME CASINO\",\"GAME CASINO\",\"GAME CASINO\",\"GAME CASINO\",\"GAME CASINO\",\"GAME CASINO\",\"GAME CASINO\",\"GAME CASINO\",\"GAME CASINO\",\"GAME CASINO\",\"GAME CASINO\",\"GAME CASINO\",\"GAME CASINO\",\"GAME CASINO\",\"GAME CASINO\",\"GAME CASINO\",\"GAME CASINO\",\"GAME CASINO\",\"GAME CASINO\",\"GAME CASINO\",\"GAME CASINO\",\"GAME CASINO\",\"GAME CASINO\",\"GAME CASINO\",\"GAME CASINO\",\"GAME CASINO\",\"GAME CASINO\",\"GAME CASINO\",\"GAME CASINO\",\"GAME CASINO\",\"GAME CASINO\",\"GAME CASINO\",\"GAME CASINO\",\"GAME CASINO\",\"GAME CASINO\",\"GAME CASINO\",\"GAME CASINO\",\"GAME CASINO\",\"GAME CASINO\",\"GAME CASINO\",\"GAME CASINO\",\"GAME CASINO\",\"GAME CASINO\",\"GAME CASINO\",\"GAME CASINO\",\"GAME CASINO\",\"GAME CASINO\",\"GAME CASINO\",\"GAME CASINO\",\"GAME CASINO\",\"GAME CASINO\",\"GAME CASINO\",\"GAME CASINO\",\"GAME CASINO\",\"GAME CASINO\",\"GAME CASINO\",\"GAME CASINO\",\"GAME CASINO\",\"GAME CASINO\",\"GAME CASINO\",\"GAME CASINO\",\"GAME CASINO\",\"GAME CASINO\",\"GAME CASINO\",\"GAME CASINO\",\"GAME CASUAL\",\"GAME CASUAL\",\"GAME CASUAL\",\"GAME CASUAL\",\"GAME CASUAL\",\"GAME CASUAL\",\"GAME CASUAL\",\"GAME CASUAL\",\"GAME CASUAL\",\"GAME CASUAL\",\"GAME CASUAL\",\"GAME CASUAL\",\"GAME CASUAL\",\"GAME CASUAL\",\"GAME CASUAL\",\"GAME CASUAL\",\"GAME CASUAL\",\"GAME CASUAL\",\"GAME CASUAL\",\"GAME CASUAL\",\"GAME CASUAL\",\"GAME CASUAL\",\"GAME CASUAL\",\"GAME CASUAL\",\"GAME CASUAL\",\"GAME CASUAL\",\"GAME CASUAL\",\"GAME CASUAL\",\"GAME CASUAL\",\"GAME CASUAL\",\"GAME CASUAL\",\"GAME CASUAL\",\"GAME CASUAL\",\"GAME CASUAL\",\"GAME CASUAL\",\"GAME CASUAL\",\"GAME CASUAL\",\"GAME CASUAL\",\"GAME CASUAL\",\"GAME CASUAL\",\"GAME CASUAL\",\"GAME CASUAL\",\"GAME CASUAL\",\"GAME CASUAL\",\"GAME CASUAL\",\"GAME CASUAL\",\"GAME CASUAL\",\"GAME CASUAL\",\"GAME CASUAL\",\"GAME CASUAL\",\"GAME CASUAL\",\"GAME CASUAL\",\"GAME CASUAL\",\"GAME CASUAL\",\"GAME CASUAL\",\"GAME CASUAL\",\"GAME CASUAL\",\"GAME CASUAL\",\"GAME CASUAL\",\"GAME CASUAL\",\"GAME CASUAL\",\"GAME CASUAL\",\"GAME CASUAL\",\"GAME CASUAL\",\"GAME CASUAL\",\"GAME CASUAL\",\"GAME CASUAL\",\"GAME CASUAL\",\"GAME CASUAL\",\"GAME CASUAL\",\"GAME CASUAL\",\"GAME CASUAL\",\"GAME CASUAL\",\"GAME CASUAL\",\"GAME CASUAL\",\"GAME CASUAL\",\"GAME CASUAL\",\"GAME CASUAL\",\"GAME CASUAL\",\"GAME CASUAL\",\"GAME CASUAL\",\"GAME CASUAL\",\"GAME CASUAL\",\"GAME CASUAL\",\"GAME CASUAL\",\"GAME CASUAL\",\"GAME CASUAL\",\"GAME CASUAL\",\"GAME CASUAL\",\"GAME CASUAL\",\"GAME CASUAL\",\"GAME CASUAL\",\"GAME CASUAL\",\"GAME CASUAL\",\"GAME CASUAL\",\"GAME CASUAL\",\"GAME CASUAL\",\"GAME CASUAL\",\"GAME CASUAL\",\"GAME CASUAL\",\"GAME CASUAL\",\"GAME CASUAL\",\"GAME EDUCATIONAL\",\"GAME EDUCATIONAL\",\"GAME EDUCATIONAL\",\"GAME EDUCATIONAL\",\"GAME EDUCATIONAL\",\"GAME EDUCATIONAL\",\"GAME EDUCATIONAL\",\"GAME EDUCATIONAL\",\"GAME EDUCATIONAL\",\"GAME EDUCATIONAL\",\"GAME EDUCATIONAL\",\"GAME EDUCATIONAL\",\"GAME EDUCATIONAL\",\"GAME EDUCATIONAL\",\"GAME EDUCATIONAL\",\"GAME EDUCATIONAL\",\"GAME EDUCATIONAL\",\"GAME EDUCATIONAL\",\"GAME EDUCATIONAL\",\"GAME EDUCATIONAL\",\"GAME EDUCATIONAL\",\"GAME EDUCATIONAL\",\"GAME EDUCATIONAL\",\"GAME EDUCATIONAL\",\"GAME EDUCATIONAL\",\"GAME EDUCATIONAL\",\"GAME EDUCATIONAL\",\"GAME EDUCATIONAL\",\"GAME EDUCATIONAL\",\"GAME EDUCATIONAL\",\"GAME EDUCATIONAL\",\"GAME EDUCATIONAL\",\"GAME EDUCATIONAL\",\"GAME EDUCATIONAL\",\"GAME EDUCATIONAL\",\"GAME EDUCATIONAL\",\"GAME EDUCATIONAL\",\"GAME EDUCATIONAL\",\"GAME EDUCATIONAL\",\"GAME EDUCATIONAL\",\"GAME EDUCATIONAL\",\"GAME EDUCATIONAL\",\"GAME EDUCATIONAL\",\"GAME EDUCATIONAL\",\"GAME EDUCATIONAL\",\"GAME EDUCATIONAL\",\"GAME EDUCATIONAL\",\"GAME EDUCATIONAL\",\"GAME EDUCATIONAL\",\"GAME EDUCATIONAL\",\"GAME EDUCATIONAL\",\"GAME EDUCATIONAL\",\"GAME EDUCATIONAL\",\"GAME EDUCATIONAL\",\"GAME EDUCATIONAL\",\"GAME EDUCATIONAL\",\"GAME EDUCATIONAL\",\"GAME EDUCATIONAL\",\"GAME EDUCATIONAL\",\"GAME EDUCATIONAL\",\"GAME EDUCATIONAL\",\"GAME EDUCATIONAL\",\"GAME EDUCATIONAL\",\"GAME EDUCATIONAL\",\"GAME EDUCATIONAL\",\"GAME EDUCATIONAL\",\"GAME EDUCATIONAL\",\"GAME EDUCATIONAL\",\"GAME EDUCATIONAL\",\"GAME EDUCATIONAL\",\"GAME EDUCATIONAL\",\"GAME EDUCATIONAL\",\"GAME EDUCATIONAL\",\"GAME EDUCATIONAL\",\"GAME EDUCATIONAL\",\"GAME EDUCATIONAL\",\"GAME EDUCATIONAL\",\"GAME EDUCATIONAL\",\"GAME EDUCATIONAL\",\"GAME EDUCATIONAL\",\"GAME EDUCATIONAL\",\"GAME EDUCATIONAL\",\"GAME EDUCATIONAL\",\"GAME EDUCATIONAL\",\"GAME EDUCATIONAL\",\"GAME EDUCATIONAL\",\"GAME EDUCATIONAL\",\"GAME EDUCATIONAL\",\"GAME EDUCATIONAL\",\"GAME EDUCATIONAL\",\"GAME EDUCATIONAL\",\"GAME EDUCATIONAL\",\"GAME EDUCATIONAL\",\"GAME EDUCATIONAL\",\"GAME EDUCATIONAL\",\"GAME EDUCATIONAL\",\"GAME EDUCATIONAL\",\"GAME EDUCATIONAL\",\"GAME EDUCATIONAL\",\"GAME EDUCATIONAL\",\"GAME MUSIC\",\"GAME MUSIC\",\"GAME MUSIC\",\"GAME MUSIC\",\"GAME MUSIC\",\"GAME MUSIC\",\"GAME MUSIC\",\"GAME MUSIC\",\"GAME MUSIC\",\"GAME MUSIC\",\"GAME MUSIC\",\"GAME MUSIC\",\"GAME MUSIC\",\"GAME MUSIC\",\"GAME MUSIC\",\"GAME MUSIC\",\"GAME MUSIC\",\"GAME MUSIC\",\"GAME MUSIC\",\"GAME MUSIC\",\"GAME MUSIC\",\"GAME MUSIC\",\"GAME MUSIC\",\"GAME MUSIC\",\"GAME MUSIC\",\"GAME MUSIC\",\"GAME MUSIC\",\"GAME MUSIC\",\"GAME MUSIC\",\"GAME MUSIC\",\"GAME MUSIC\",\"GAME MUSIC\",\"GAME MUSIC\",\"GAME MUSIC\",\"GAME MUSIC\",\"GAME MUSIC\",\"GAME MUSIC\",\"GAME MUSIC\",\"GAME MUSIC\",\"GAME MUSIC\",\"GAME MUSIC\",\"GAME MUSIC\",\"GAME MUSIC\",\"GAME MUSIC\",\"GAME MUSIC\",\"GAME MUSIC\",\"GAME MUSIC\",\"GAME MUSIC\",\"GAME MUSIC\",\"GAME MUSIC\",\"GAME MUSIC\",\"GAME MUSIC\",\"GAME MUSIC\",\"GAME MUSIC\",\"GAME MUSIC\",\"GAME MUSIC\",\"GAME MUSIC\",\"GAME MUSIC\",\"GAME MUSIC\",\"GAME MUSIC\",\"GAME MUSIC\",\"GAME MUSIC\",\"GAME MUSIC\",\"GAME MUSIC\",\"GAME MUSIC\",\"GAME MUSIC\",\"GAME MUSIC\",\"GAME MUSIC\",\"GAME MUSIC\",\"GAME MUSIC\",\"GAME MUSIC\",\"GAME MUSIC\",\"GAME MUSIC\",\"GAME MUSIC\",\"GAME MUSIC\",\"GAME MUSIC\",\"GAME MUSIC\",\"GAME MUSIC\",\"GAME MUSIC\",\"GAME MUSIC\",\"GAME MUSIC\",\"GAME MUSIC\",\"GAME MUSIC\",\"GAME MUSIC\",\"GAME MUSIC\",\"GAME MUSIC\",\"GAME MUSIC\",\"GAME MUSIC\",\"GAME MUSIC\",\"GAME MUSIC\",\"GAME MUSIC\",\"GAME MUSIC\",\"GAME MUSIC\",\"GAME MUSIC\",\"GAME MUSIC\",\"GAME MUSIC\",\"GAME MUSIC\",\"GAME MUSIC\",\"GAME MUSIC\",\"GAME MUSIC\",\"GAME PUZZLE\",\"GAME PUZZLE\",\"GAME PUZZLE\",\"GAME PUZZLE\",\"GAME PUZZLE\",\"GAME PUZZLE\",\"GAME PUZZLE\",\"GAME PUZZLE\",\"GAME PUZZLE\",\"GAME PUZZLE\",\"GAME PUZZLE\",\"GAME PUZZLE\",\"GAME PUZZLE\",\"GAME PUZZLE\",\"GAME PUZZLE\",\"GAME PUZZLE\",\"GAME PUZZLE\",\"GAME PUZZLE\",\"GAME PUZZLE\",\"GAME PUZZLE\",\"GAME PUZZLE\",\"GAME PUZZLE\",\"GAME PUZZLE\",\"GAME PUZZLE\",\"GAME PUZZLE\",\"GAME PUZZLE\",\"GAME PUZZLE\",\"GAME PUZZLE\",\"GAME PUZZLE\",\"GAME PUZZLE\",\"GAME PUZZLE\",\"GAME PUZZLE\",\"GAME PUZZLE\",\"GAME PUZZLE\",\"GAME PUZZLE\",\"GAME PUZZLE\",\"GAME PUZZLE\",\"GAME PUZZLE\",\"GAME PUZZLE\",\"GAME PUZZLE\",\"GAME PUZZLE\",\"GAME PUZZLE\",\"GAME PUZZLE\",\"GAME PUZZLE\",\"GAME PUZZLE\",\"GAME PUZZLE\",\"GAME PUZZLE\",\"GAME PUZZLE\",\"GAME PUZZLE\",\"GAME PUZZLE\",\"GAME PUZZLE\",\"GAME PUZZLE\",\"GAME PUZZLE\",\"GAME PUZZLE\",\"GAME PUZZLE\",\"GAME PUZZLE\",\"GAME PUZZLE\",\"GAME PUZZLE\",\"GAME PUZZLE\",\"GAME PUZZLE\",\"GAME PUZZLE\",\"GAME PUZZLE\",\"GAME PUZZLE\",\"GAME PUZZLE\",\"GAME PUZZLE\",\"GAME PUZZLE\",\"GAME PUZZLE\",\"GAME PUZZLE\",\"GAME PUZZLE\",\"GAME PUZZLE\",\"GAME PUZZLE\",\"GAME PUZZLE\",\"GAME PUZZLE\",\"GAME PUZZLE\",\"GAME PUZZLE\",\"GAME PUZZLE\",\"GAME PUZZLE\",\"GAME PUZZLE\",\"GAME PUZZLE\",\"GAME PUZZLE\",\"GAME PUZZLE\",\"GAME PUZZLE\",\"GAME PUZZLE\",\"GAME PUZZLE\",\"GAME PUZZLE\",\"GAME PUZZLE\",\"GAME PUZZLE\",\"GAME PUZZLE\",\"GAME PUZZLE\",\"GAME PUZZLE\",\"GAME PUZZLE\",\"GAME PUZZLE\",\"GAME PUZZLE\",\"GAME PUZZLE\",\"GAME PUZZLE\",\"GAME PUZZLE\",\"GAME PUZZLE\",\"GAME PUZZLE\",\"GAME PUZZLE\",\"GAME PUZZLE\",\"GAME RACING\",\"GAME RACING\",\"GAME RACING\",\"GAME RACING\",\"GAME RACING\",\"GAME RACING\",\"GAME RACING\",\"GAME RACING\",\"GAME RACING\",\"GAME RACING\",\"GAME RACING\",\"GAME RACING\",\"GAME RACING\",\"GAME RACING\",\"GAME RACING\",\"GAME RACING\",\"GAME RACING\",\"GAME RACING\",\"GAME RACING\",\"GAME RACING\",\"GAME RACING\",\"GAME RACING\",\"GAME RACING\",\"GAME RACING\",\"GAME RACING\",\"GAME RACING\",\"GAME RACING\",\"GAME RACING\",\"GAME RACING\",\"GAME RACING\",\"GAME RACING\",\"GAME RACING\",\"GAME RACING\",\"GAME RACING\",\"GAME RACING\",\"GAME RACING\",\"GAME RACING\",\"GAME RACING\",\"GAME RACING\",\"GAME RACING\",\"GAME RACING\",\"GAME RACING\",\"GAME RACING\",\"GAME RACING\",\"GAME RACING\",\"GAME RACING\",\"GAME RACING\",\"GAME RACING\",\"GAME RACING\",\"GAME RACING\",\"GAME RACING\",\"GAME RACING\",\"GAME RACING\",\"GAME RACING\",\"GAME RACING\",\"GAME RACING\",\"GAME RACING\",\"GAME RACING\",\"GAME RACING\",\"GAME RACING\",\"GAME RACING\",\"GAME RACING\",\"GAME RACING\",\"GAME RACING\",\"GAME RACING\",\"GAME RACING\",\"GAME RACING\",\"GAME RACING\",\"GAME RACING\",\"GAME RACING\",\"GAME RACING\",\"GAME RACING\",\"GAME RACING\",\"GAME RACING\",\"GAME RACING\",\"GAME RACING\",\"GAME RACING\",\"GAME RACING\",\"GAME RACING\",\"GAME RACING\",\"GAME RACING\",\"GAME RACING\",\"GAME RACING\",\"GAME RACING\",\"GAME RACING\",\"GAME RACING\",\"GAME RACING\",\"GAME RACING\",\"GAME RACING\",\"GAME RACING\",\"GAME RACING\",\"GAME RACING\",\"GAME RACING\",\"GAME RACING\",\"GAME RACING\",\"GAME RACING\",\"GAME RACING\",\"GAME RACING\",\"GAME RACING\",\"GAME RACING\",\"GAME ROLE PLAYING\",\"GAME ROLE PLAYING\",\"GAME ROLE PLAYING\",\"GAME ROLE PLAYING\",\"GAME ROLE PLAYING\",\"GAME ROLE PLAYING\",\"GAME ROLE PLAYING\",\"GAME ROLE PLAYING\",\"GAME ROLE PLAYING\",\"GAME ROLE PLAYING\",\"GAME ROLE PLAYING\",\"GAME ROLE PLAYING\",\"GAME ROLE PLAYING\",\"GAME ROLE PLAYING\",\"GAME ROLE PLAYING\",\"GAME ROLE PLAYING\",\"GAME ROLE PLAYING\",\"GAME ROLE PLAYING\",\"GAME ROLE PLAYING\",\"GAME ROLE PLAYING\",\"GAME ROLE PLAYING\",\"GAME ROLE PLAYING\",\"GAME ROLE PLAYING\",\"GAME ROLE PLAYING\",\"GAME ROLE PLAYING\",\"GAME ROLE PLAYING\",\"GAME ROLE PLAYING\",\"GAME ROLE PLAYING\",\"GAME ROLE PLAYING\",\"GAME ROLE PLAYING\",\"GAME ROLE PLAYING\",\"GAME ROLE PLAYING\",\"GAME ROLE PLAYING\",\"GAME ROLE PLAYING\",\"GAME ROLE PLAYING\",\"GAME ROLE PLAYING\",\"GAME ROLE PLAYING\",\"GAME ROLE PLAYING\",\"GAME ROLE PLAYING\",\"GAME ROLE PLAYING\",\"GAME ROLE PLAYING\",\"GAME ROLE PLAYING\",\"GAME ROLE PLAYING\",\"GAME ROLE PLAYING\",\"GAME ROLE PLAYING\",\"GAME ROLE PLAYING\",\"GAME ROLE PLAYING\",\"GAME ROLE PLAYING\",\"GAME ROLE PLAYING\",\"GAME ROLE PLAYING\",\"GAME ROLE PLAYING\",\"GAME ROLE PLAYING\",\"GAME ROLE PLAYING\",\"GAME ROLE PLAYING\",\"GAME ROLE PLAYING\",\"GAME ROLE PLAYING\",\"GAME ROLE PLAYING\",\"GAME ROLE PLAYING\",\"GAME ROLE PLAYING\",\"GAME ROLE PLAYING\",\"GAME ROLE PLAYING\",\"GAME ROLE PLAYING\",\"GAME ROLE PLAYING\",\"GAME ROLE PLAYING\",\"GAME ROLE PLAYING\",\"GAME ROLE PLAYING\",\"GAME ROLE PLAYING\",\"GAME ROLE PLAYING\",\"GAME ROLE PLAYING\",\"GAME ROLE PLAYING\",\"GAME ROLE PLAYING\",\"GAME ROLE PLAYING\",\"GAME ROLE PLAYING\",\"GAME ROLE PLAYING\",\"GAME ROLE PLAYING\",\"GAME ROLE PLAYING\",\"GAME ROLE PLAYING\",\"GAME ROLE PLAYING\",\"GAME ROLE PLAYING\",\"GAME ROLE PLAYING\",\"GAME ROLE PLAYING\",\"GAME ROLE PLAYING\",\"GAME ROLE PLAYING\",\"GAME ROLE PLAYING\",\"GAME ROLE PLAYING\",\"GAME ROLE PLAYING\",\"GAME ROLE PLAYING\",\"GAME ROLE PLAYING\",\"GAME ROLE PLAYING\",\"GAME ROLE PLAYING\",\"GAME ROLE PLAYING\",\"GAME ROLE PLAYING\",\"GAME ROLE PLAYING\",\"GAME ROLE PLAYING\",\"GAME ROLE PLAYING\",\"GAME ROLE PLAYING\",\"GAME ROLE PLAYING\",\"GAME ROLE PLAYING\",\"GAME ROLE PLAYING\",\"GAME ROLE PLAYING\",\"GAME SIMULATION\",\"GAME SIMULATION\",\"GAME SIMULATION\",\"GAME SIMULATION\",\"GAME SIMULATION\",\"GAME SIMULATION\",\"GAME SIMULATION\",\"GAME SIMULATION\",\"GAME SIMULATION\",\"GAME SIMULATION\",\"GAME SIMULATION\",\"GAME SIMULATION\",\"GAME SIMULATION\",\"GAME SIMULATION\",\"GAME SIMULATION\",\"GAME SIMULATION\",\"GAME SIMULATION\",\"GAME SIMULATION\",\"GAME SIMULATION\",\"GAME SIMULATION\",\"GAME SIMULATION\",\"GAME SIMULATION\",\"GAME SIMULATION\",\"GAME SIMULATION\",\"GAME SIMULATION\",\"GAME SIMULATION\",\"GAME SIMULATION\",\"GAME SIMULATION\",\"GAME SIMULATION\",\"GAME SIMULATION\",\"GAME SIMULATION\",\"GAME SIMULATION\",\"GAME SIMULATION\",\"GAME SIMULATION\",\"GAME SIMULATION\",\"GAME SIMULATION\",\"GAME SIMULATION\",\"GAME SIMULATION\",\"GAME SIMULATION\",\"GAME SIMULATION\",\"GAME SIMULATION\",\"GAME SIMULATION\",\"GAME SIMULATION\",\"GAME SIMULATION\",\"GAME SIMULATION\",\"GAME SIMULATION\",\"GAME SIMULATION\",\"GAME SIMULATION\",\"GAME SIMULATION\",\"GAME SIMULATION\",\"GAME SIMULATION\",\"GAME SIMULATION\",\"GAME SIMULATION\",\"GAME SIMULATION\",\"GAME SIMULATION\",\"GAME SIMULATION\",\"GAME SIMULATION\",\"GAME SIMULATION\",\"GAME SIMULATION\",\"GAME SIMULATION\",\"GAME SIMULATION\",\"GAME SIMULATION\",\"GAME SIMULATION\",\"GAME SIMULATION\",\"GAME SIMULATION\",\"GAME SIMULATION\",\"GAME SIMULATION\",\"GAME SIMULATION\",\"GAME SIMULATION\",\"GAME SIMULATION\",\"GAME SIMULATION\",\"GAME SIMULATION\",\"GAME SIMULATION\",\"GAME SIMULATION\",\"GAME SIMULATION\",\"GAME SIMULATION\",\"GAME SIMULATION\",\"GAME SIMULATION\",\"GAME SIMULATION\",\"GAME SIMULATION\",\"GAME SIMULATION\",\"GAME SIMULATION\",\"GAME SIMULATION\",\"GAME SIMULATION\",\"GAME SIMULATION\",\"GAME SIMULATION\",\"GAME SIMULATION\",\"GAME SIMULATION\",\"GAME SIMULATION\",\"GAME SIMULATION\",\"GAME SIMULATION\",\"GAME SIMULATION\",\"GAME SIMULATION\",\"GAME SIMULATION\",\"GAME SIMULATION\",\"GAME SIMULATION\",\"GAME SIMULATION\",\"GAME SIMULATION\",\"GAME SIMULATION\",\"GAME SIMULATION\",\"GAME SPORTS\",\"GAME SPORTS\",\"GAME SPORTS\",\"GAME SPORTS\",\"GAME SPORTS\",\"GAME SPORTS\",\"GAME SPORTS\",\"GAME SPORTS\",\"GAME SPORTS\",\"GAME SPORTS\",\"GAME SPORTS\",\"GAME SPORTS\",\"GAME SPORTS\",\"GAME SPORTS\",\"GAME SPORTS\",\"GAME SPORTS\",\"GAME SPORTS\",\"GAME SPORTS\",\"GAME SPORTS\",\"GAME SPORTS\",\"GAME SPORTS\",\"GAME SPORTS\",\"GAME SPORTS\",\"GAME SPORTS\",\"GAME SPORTS\",\"GAME SPORTS\",\"GAME SPORTS\",\"GAME SPORTS\",\"GAME SPORTS\",\"GAME SPORTS\",\"GAME SPORTS\",\"GAME SPORTS\",\"GAME SPORTS\",\"GAME SPORTS\",\"GAME SPORTS\",\"GAME SPORTS\",\"GAME SPORTS\",\"GAME SPORTS\",\"GAME SPORTS\",\"GAME SPORTS\",\"GAME SPORTS\",\"GAME SPORTS\",\"GAME SPORTS\",\"GAME SPORTS\",\"GAME SPORTS\",\"GAME SPORTS\",\"GAME SPORTS\",\"GAME SPORTS\",\"GAME SPORTS\",\"GAME SPORTS\",\"GAME SPORTS\",\"GAME SPORTS\",\"GAME SPORTS\",\"GAME SPORTS\",\"GAME SPORTS\",\"GAME SPORTS\",\"GAME SPORTS\",\"GAME SPORTS\",\"GAME SPORTS\",\"GAME SPORTS\",\"GAME SPORTS\",\"GAME SPORTS\",\"GAME SPORTS\",\"GAME SPORTS\",\"GAME SPORTS\",\"GAME SPORTS\",\"GAME SPORTS\",\"GAME SPORTS\",\"GAME SPORTS\",\"GAME SPORTS\",\"GAME SPORTS\",\"GAME SPORTS\",\"GAME SPORTS\",\"GAME SPORTS\",\"GAME SPORTS\",\"GAME SPORTS\",\"GAME SPORTS\",\"GAME SPORTS\",\"GAME SPORTS\",\"GAME SPORTS\",\"GAME SPORTS\",\"GAME SPORTS\",\"GAME SPORTS\",\"GAME SPORTS\",\"GAME SPORTS\",\"GAME SPORTS\",\"GAME SPORTS\",\"GAME SPORTS\",\"GAME SPORTS\",\"GAME SPORTS\",\"GAME SPORTS\",\"GAME SPORTS\",\"GAME SPORTS\",\"GAME SPORTS\",\"GAME SPORTS\",\"GAME SPORTS\",\"GAME SPORTS\",\"GAME SPORTS\",\"GAME SPORTS\",\"GAME SPORTS\",\"GAME STRATEGY\",\"GAME STRATEGY\",\"GAME STRATEGY\",\"GAME STRATEGY\",\"GAME STRATEGY\",\"GAME STRATEGY\",\"GAME STRATEGY\",\"GAME STRATEGY\",\"GAME STRATEGY\",\"GAME STRATEGY\",\"GAME STRATEGY\",\"GAME STRATEGY\",\"GAME STRATEGY\",\"GAME STRATEGY\",\"GAME STRATEGY\",\"GAME STRATEGY\",\"GAME STRATEGY\",\"GAME STRATEGY\",\"GAME STRATEGY\",\"GAME STRATEGY\",\"GAME STRATEGY\",\"GAME STRATEGY\",\"GAME STRATEGY\",\"GAME STRATEGY\",\"GAME STRATEGY\",\"GAME STRATEGY\",\"GAME STRATEGY\",\"GAME STRATEGY\",\"GAME STRATEGY\",\"GAME STRATEGY\",\"GAME STRATEGY\",\"GAME STRATEGY\",\"GAME STRATEGY\",\"GAME STRATEGY\",\"GAME STRATEGY\",\"GAME STRATEGY\",\"GAME STRATEGY\",\"GAME STRATEGY\",\"GAME STRATEGY\",\"GAME STRATEGY\",\"GAME STRATEGY\",\"GAME STRATEGY\",\"GAME STRATEGY\",\"GAME STRATEGY\",\"GAME STRATEGY\",\"GAME STRATEGY\",\"GAME STRATEGY\",\"GAME STRATEGY\",\"GAME STRATEGY\",\"GAME STRATEGY\",\"GAME STRATEGY\",\"GAME STRATEGY\",\"GAME STRATEGY\",\"GAME STRATEGY\",\"GAME STRATEGY\",\"GAME STRATEGY\",\"GAME STRATEGY\",\"GAME STRATEGY\",\"GAME STRATEGY\",\"GAME STRATEGY\",\"GAME STRATEGY\",\"GAME STRATEGY\",\"GAME STRATEGY\",\"GAME STRATEGY\",\"GAME STRATEGY\",\"GAME STRATEGY\",\"GAME STRATEGY\",\"GAME STRATEGY\",\"GAME STRATEGY\",\"GAME STRATEGY\",\"GAME STRATEGY\",\"GAME STRATEGY\",\"GAME STRATEGY\",\"GAME STRATEGY\",\"GAME STRATEGY\",\"GAME STRATEGY\",\"GAME STRATEGY\",\"GAME STRATEGY\",\"GAME STRATEGY\",\"GAME STRATEGY\",\"GAME STRATEGY\",\"GAME STRATEGY\",\"GAME STRATEGY\",\"GAME STRATEGY\",\"GAME STRATEGY\",\"GAME STRATEGY\",\"GAME STRATEGY\",\"GAME STRATEGY\",\"GAME STRATEGY\",\"GAME STRATEGY\",\"GAME STRATEGY\",\"GAME STRATEGY\",\"GAME STRATEGY\",\"GAME STRATEGY\",\"GAME STRATEGY\",\"GAME STRATEGY\",\"GAME STRATEGY\",\"GAME STRATEGY\",\"GAME STRATEGY\",\"GAME STRATEGY\",\"GAME TRIVIA\",\"GAME TRIVIA\",\"GAME TRIVIA\",\"GAME TRIVIA\",\"GAME TRIVIA\",\"GAME TRIVIA\",\"GAME TRIVIA\",\"GAME TRIVIA\",\"GAME TRIVIA\",\"GAME TRIVIA\",\"GAME TRIVIA\",\"GAME TRIVIA\",\"GAME TRIVIA\",\"GAME TRIVIA\",\"GAME TRIVIA\",\"GAME TRIVIA\",\"GAME TRIVIA\",\"GAME TRIVIA\",\"GAME TRIVIA\",\"GAME TRIVIA\",\"GAME TRIVIA\",\"GAME TRIVIA\",\"GAME TRIVIA\",\"GAME TRIVIA\",\"GAME TRIVIA\",\"GAME TRIVIA\",\"GAME TRIVIA\",\"GAME TRIVIA\",\"GAME TRIVIA\",\"GAME TRIVIA\",\"GAME TRIVIA\",\"GAME TRIVIA\",\"GAME TRIVIA\",\"GAME TRIVIA\",\"GAME TRIVIA\",\"GAME TRIVIA\",\"GAME TRIVIA\",\"GAME TRIVIA\",\"GAME TRIVIA\",\"GAME TRIVIA\",\"GAME TRIVIA\",\"GAME TRIVIA\",\"GAME TRIVIA\",\"GAME TRIVIA\",\"GAME TRIVIA\",\"GAME TRIVIA\",\"GAME TRIVIA\",\"GAME TRIVIA\",\"GAME TRIVIA\",\"GAME TRIVIA\",\"GAME TRIVIA\",\"GAME TRIVIA\",\"GAME TRIVIA\",\"GAME TRIVIA\",\"GAME TRIVIA\",\"GAME TRIVIA\",\"GAME TRIVIA\",\"GAME TRIVIA\",\"GAME TRIVIA\",\"GAME TRIVIA\",\"GAME TRIVIA\",\"GAME TRIVIA\",\"GAME TRIVIA\",\"GAME TRIVIA\",\"GAME TRIVIA\",\"GAME TRIVIA\",\"GAME TRIVIA\",\"GAME TRIVIA\",\"GAME TRIVIA\",\"GAME TRIVIA\",\"GAME TRIVIA\",\"GAME TRIVIA\",\"GAME TRIVIA\",\"GAME TRIVIA\",\"GAME TRIVIA\",\"GAME TRIVIA\",\"GAME TRIVIA\",\"GAME TRIVIA\",\"GAME TRIVIA\",\"GAME TRIVIA\",\"GAME TRIVIA\",\"GAME TRIVIA\",\"GAME TRIVIA\",\"GAME TRIVIA\",\"GAME TRIVIA\",\"GAME TRIVIA\",\"GAME TRIVIA\",\"GAME TRIVIA\",\"GAME TRIVIA\",\"GAME TRIVIA\",\"GAME TRIVIA\",\"GAME TRIVIA\",\"GAME TRIVIA\",\"GAME TRIVIA\",\"GAME TRIVIA\",\"GAME TRIVIA\",\"GAME TRIVIA\",\"GAME TRIVIA\",\"GAME TRIVIA\",\"GAME TRIVIA\",\"GAME WORD\",\"GAME WORD\",\"GAME WORD\",\"GAME WORD\",\"GAME WORD\",\"GAME WORD\",\"GAME WORD\",\"GAME WORD\",\"GAME WORD\",\"GAME WORD\",\"GAME WORD\",\"GAME WORD\",\"GAME WORD\",\"GAME WORD\",\"GAME WORD\",\"GAME WORD\",\"GAME WORD\",\"GAME WORD\",\"GAME WORD\",\"GAME WORD\",\"GAME WORD\",\"GAME WORD\",\"GAME WORD\",\"GAME WORD\",\"GAME WORD\",\"GAME WORD\",\"GAME WORD\",\"GAME WORD\",\"GAME WORD\",\"GAME WORD\",\"GAME WORD\",\"GAME WORD\",\"GAME WORD\",\"GAME WORD\",\"GAME WORD\",\"GAME WORD\",\"GAME WORD\",\"GAME WORD\",\"GAME WORD\",\"GAME WORD\",\"GAME WORD\",\"GAME WORD\",\"GAME WORD\",\"GAME WORD\",\"GAME WORD\",\"GAME WORD\",\"GAME WORD\",\"GAME WORD\",\"GAME WORD\",\"GAME WORD\",\"GAME WORD\",\"GAME WORD\",\"GAME WORD\",\"GAME WORD\",\"GAME WORD\",\"GAME WORD\",\"GAME WORD\",\"GAME WORD\",\"GAME WORD\",\"GAME WORD\",\"GAME WORD\",\"GAME WORD\",\"GAME WORD\",\"GAME WORD\",\"GAME WORD\",\"GAME WORD\",\"GAME WORD\",\"GAME WORD\",\"GAME WORD\",\"GAME WORD\",\"GAME WORD\",\"GAME WORD\",\"GAME WORD\",\"GAME WORD\",\"GAME WORD\",\"GAME WORD\",\"GAME WORD\",\"GAME WORD\",\"GAME WORD\",\"GAME WORD\",\"GAME WORD\",\"GAME WORD\",\"GAME WORD\",\"GAME WORD\",\"GAME WORD\",\"GAME WORD\",\"GAME WORD\",\"GAME WORD\",\"GAME WORD\",\"GAME WORD\",\"GAME WORD\",\"GAME WORD\",\"GAME WORD\",\"GAME WORD\",\"GAME WORD\",\"GAME WORD\",\"GAME WORD\",\"GAME WORD\",\"GAME WORD\",\"GAME WORD\",\"GAME WORD\",\"GAME WORD\",\"GAME WORD\",\"GAME WORD\",\"GAME WORD\",\"GAME WORD\"],\"xaxis\":\"x\",\"y\":[2.9,2.0,1.6,4.1,0.8,0.6,2.8,6.3,0.3,1.3,0.4,0.5,0.3,2.3,6.1,0.1,0.5,2.1,0.0,0.3,0.6,0.2,0.7,0.0,0.5,1.4,0.3,0.2,1.0,1.6,0.4,3.6,0.1,0.5,0.1,0.1,2.1,0.6,0.1,0.1,1.8,0.6,0.3,3.1,1.0,0.1,0.1,3.6,2.0,0.2,0.1,1.1,4560.2,0.0,0.7,1.2,0.6,1164.8,0.1,0.2,1.8,1.0,2.0,1.1,1.5,0.8,1.2,0.7,1.8,0.3,1.9,0.4,1.5,139410.4,2.1,0.7,4.2,0.1,4.1,0.0,2.5,0.1,0.0,0.4,0.5,2.9,0.1,0.7,5.2,1.2,0.1,0.3,2.6,0.0,0.3,0.0,0.1,0.8,4.7,2.5,4.2,0.7,0.1,0.0,2.1,0.0,12.5,2.3,0.1,0.1,9.5,0.1,0.1,0.1,0.1,0.3,0.0,0.8,0.1,1.4,358.4,0.0,0.4,0.5,0.1,1.0,0.2,3.0,2.5,0.1,2.3,0.3,0.5,1.1,3.2,0.7,0.4,0.6,2.7,1.8,1.6,0.7,0.0,0.3,3.2,0.7,0.8,0.7,1.1,0.3,0.2,4.0,0.2,1.0,0.2,0.0,0.0,0.4,0.4,0.6,20.8,0.0,5.9,0.7,4.8,2558.2,4.7,0.0,0.7,0.0,16.0,1.0,0.7,0.5,0.3,0.3,0.2,0.0,2.7,0.6,0.1,0.0,1.6,2.9,0.1,0.8,9.4,3.3,0.2,1.3,2.3,5.4,0.1,2.3,1.2,0.5,2.2,0.2,0.7,3.3,0.5,0.5,0.4,0.4,0.0,0.2,0.7,0.1,0.6,0.2,0.6,1.4,0.3,1.5,0.0,1334.9,2.0,3.9,1.4,1.4,3.9,0.6,0.2,0.8,0.1,0.3,0.0,0.0,0.9,0.2,1.9,0.4,21.6,2.7,0.2,0.1,0.0,0.2,0.2,0.0,0.1,0.6,0.4,0.6,0.9,1.3,0.9,3.5,0.2,0.8,0.6,1.4,0.1,0.8,0.3,4.2,8.0,5.3,0.6,0.4,8.1,0.6,0.0,4.5,0.0,0.0,0.8,0.2,9.8,0.9,0.2,1.9,2.1,4.8,0.0,0.2,0.1,0.0,0.4,0.0,1.1,3.2,0.8,1.2,859.3,1.8,0.0,0.1,0.0,0.2,1.2,0.8,0.2,0.2,1.1,0.1,0.4,0.6,0.9,0.1,1.9,1.7,0.2,1.7,0.0,0.3,2.4,0.1,3.0,2.4,7.5,4.0,1.7,1.8,1.6,0.6,0.1,0.4,0.4,2.2,0.2,1.8,11.2,1.0,0.3,0.1,0.4,0.4,0.9,0.2,0.1,0.3,0.7,2.4,0.7,0.5,0.1,0.2,0.0,0.0,0.5,0.1,0.6,1.4,0.4,2.3,0.9,1.3,0.2,2.5,0.6,10.1,0.2,6.4,6.5,2.1,1.9,2.7,1.6,1.9,0.0,0.2,0.2,0.1,1.0,2.8,0.0,1.7,4.1,15.0,1.2,4.7,0.0,0.8,6.7,0.0,1.4,0.1,0.0,0.5,0.2,6.1,0.0,0.0,3.8,0.5,1.1,0.9,0.0,0.4,0.3,3.2,1.7,1.6,0.0,30.0,0.6,0.1,15539.3,2.8,0.5,0.2,0.5,0.5,0.5,0.7,0.0,0.1,2.6,2.2,0.0,0.0,0.0,1.0,0.0,0.9,1.2,1.1,1.1,1.1,0.6,0.8,0.0,3.0,1.6,0.1,0.4,0.4,0.2,0.1,0.1,0.1,0.2,0.2,0.1,0.0,3.6,2.7,0.4,0.1,0.8,0.3,1.1,7.2,7.1,0.5,0.5,0.3,0.7,0.1,2.0,0.9,0.1,2.0,2.4,1.1,90.9,0.2,1.4,0.2,0.2,0.2,0.0,0.0,0.0,0.0,0.1,3.2,0.2,3.9,3.9,3.9,1.0,0.1,1.8,2.1,1.9,0.1,0.1,1.3,0.5,0.5,1.8,0.2,1.2,0.2,0.0,0.0,0.3,1.2,1.2,1.3,0.0,0.6,4.6,0.0,0.2,0.2,1.6,0.3,0.2,1.0,0.7,0.4,0.2,2.9,0.3,1.6,0.5,0.5,0.5,3.9,3.9,3.9,0.8,2.1,0.1,0.0,0.0,11.8,11.8,11.8,0.3,0.7,0.8,0.1,0.3,0.6,1.1,0.2,0.9,2.0,0.1,0.7,0.7,0.9,0.9,0.0,0.4,0.0,0.2,0.7,1.2,0.0,0.4,0.4,0.6,0.0,0.0,0.1,1.4,1.1,0.4,0.1,0.9,1.0,1.6,0.2,0.1,1.0,0.5,4.2,6.9,1.5,0.5,1.1,3.2,0.6,7.2,5.4,0.1,1.3,1.2,1.2,0.3,0.3,0.2,0.6,0.0,0.5,0.8,1.2,0.8,0.0,0.4,0.3,1.4,1.5,0.0,0.1,0.1,0.3,18.4,1.3,0.6,0.0,0.1,3.2,1.9,0.0,0.0,0.2,1.1,4.2,0.0,1.4,0.1,0.8,99.1,0.1,0.5,8.4,0.0,6.1,0.0,0.3,5.4,0.0,0.2,3.1,0.1,0.2,0.7,0.3,0.7,0.2,0.3,0.1,1.0,1.7,0.5,0.5,0.5,0.5,0.5,3.3,0.7,0.1,0.1,0.1,2.2,2.3,0.1,0.3,0.7,1.3,0.5,0.1,0.0,0.1,6.7,0.8,0.3,0.1,0.2,4.0,0.0,0.2,0.0,466.9,0.9,0.0,7.1,0.3,0.1,0.1,3.3,0.5,1.5,0.4,0.4,0.2,2.8,1.4,2.0,0.0,0.3,0.7,9.6,0.2,0.1,0.0,0.0,0.2,0.0,2.0,0.2,0.0,0.3,0.9,0.0,1.1,1.5,0.0,0.0,0.2,0.1,2.6,0.5,0.2,0.6,0.2,1453.5,0.3,0.6,0.4,0.4,1.0,0.0,6.1,6.2,0.7,0.7,0.1,0.2,0.0,0.0,0.1,0.6,0.3,0.0,0.4,3.9,0.1,1.0,13.0,0.6,0.0,0.4,4.3,0.5,2.8,2.8,1555.5,4.1,4.4,0.0,11.9,3.4,2.7,1.2,0.6,3.9,15.9,4.2,3.3,4.6,2.9,1.9,0.1,5.8,4.5,2.2,6.3,2.4,12.4,3703.0,4.0,4.9,0.0,5.0,0.7,0.0,3.1,3.5,50.7,0.1,2.5,0.0,3.4,1.8,6.5,3.1,1.8,0.9,13.1,2.4,0.2,0.6,0.0,2.9,0.1,0.1,5.2,0.3,0.5,8.4,0.8,0.6,0.3,2.5,2.4,0.0,202.9,0.6,1.6,0.2,3.9,1.2,26.8,6.6,7.5,0.0,3.1,0.1,0.9,1.2,4.4,0.7,5.6,2.4,0.1,3.9,4.5,5.6,4130.4,0.5,4.9,0.0,0.0,14.1,4.9,3.2,0.1,4.0,3.1,0.3,0.4,0.5,0.2,0.0,2.7,0.4,0.1,0.1,0.0,4.4,2.1,0.0,0.2,3.2,3.0,1.9,0.6,0.0,0.4,0.7,0.1,0.7,0.0,0.9,0.0,0.2,2.1,1.0,0.0,0.0,0.2,0.2,0.5,19.5,0.8,4.8,0.9,3.5,36.0,1.1,0.2,0.7,1.0,0.8,0.4,0.0,0.1,0.1,0.0,2.1,10.1,0.0,2.4,0.0,2.0,2.2,5.0,1.0,2.0,0.1,0.0,0.1,1.6,0.2,2.3,0.1,4.0,0.0,0.2,0.0,0.3,1.0,0.2,63.4,0.3,0.5,2.7,0.0,3.7,0.0,0.2,4.1,0.0,4.1,3.3,0.2,0.2,0.1,0.2,1.3,6.9,0.0,0.9,3.4,1.2,2.2,7.8,1.9,1.6,0.9,0.6,0.4,0.5,0.1,0.4,0.9,1.5,1.2,0.1,1.2,1.7,0.6,0.1,1.1,0.4,0.8,0.2,0.0,0.1,0.1,1.3,0.0,0.3,1.5,0.1,0.4,0.0,2.4,0.0,0.0,2.3,0.0,0.9,0.2,0.0,1.2,0.4,0.2,0.3,1.4,0.6,0.0,0.0,0.0,0.0,1.2,0.1,0.0,0.3,0.3,1.2,5.9,2.6,0.9,0.1,0.1,0.2,0.1,0.0,0.0,0.2,0.1,0.0,1.4,1.3,0.1,0.4,0.6,0.2,131.6,0.2,0.3,0.0,0.1,7.8,0.2,0.8,4.2,0.1,2.5,0.1,0.3,0.4,0.0,7.8,0.7,0.2,0.5,0.1,0.3,5.1,0.3,0.0,1.8,3.4,0.0,7.2,0.3,0.2,0.5,0.3,0.3,0.5,0.6,0.4,0.5,0.0,1.7,0.3,0.0,0.0,1.1,3.1,1.7,0.0,0.4,0.1,0.6,0.0,0.5,0.0,0.9,1.6,2.4,0.3,0.1,1.1,0.0,0.3,0.2,0.0,0.2,0.3,1.8,0.5,2.4,3.1,0.2,3.9,0.7,0.9,0.5,0.7,2.6,0.4,0.1,0.6,0.0,0.5,0.1,0.7,0.1,0.5,0.0,0.1,6.0,2.7,3.4,5.2,0.3,0.2,1.7,0.3,0.4,0.0,4.1,0.0,0.1,0.5,0.2,0.2,1.3,3.2,0.6,2.7,0.1,507.6,1222.4,2.1,0.1,0.4,0.1,3988.1,0.0,0.7,0.3,1.8,0.0,0.1,8.5,1.4,0.1,1.0,0.0,0.3,0.0,0.1,1.4,0.9,1.2,0.2,0.0,0.5,0.6,0.3,0.4,0.1,0.6,0.6,0.0,2.8,0.1,4.0,0.1,0.1,1.0,1.0,0.6,0.0,1.3,0.2,0.0,1.7,0.1,0.7,0.4,3.2,0.0,2.8,0.3,3.0,0.2,0.9,0.7,0.1,0.1,2.6,2.1,0.0,0.1,0.1,0.0,1.1,0.3,0.3,0.1,4.3,2.7,1.2,0.0,2.0,0.7,0.4,0.2,0.2,0.1,3.5,0.5,0.6,4.1,0.1,0.5,1.8,2.3,0.0,0.1,0.0,1.0,2.4,0.1,2.2,0.0,0.0,0.4,0.4,0.0,2.6,1.9,0.3,1.0,0.3,3.4,4.8,0.4,7.0,1.5,0.9,0.1,0.0,2.9,11.8,0.1,0.0,4.3,0.0,3.2,1.4,0.9,0.3,0.3,1.2,0.6,0.3,1.5,0.6,0.2,2.8,1.0,0.3,0.3,0.1,0.3,1.4,0.1,2.3,0.8,0.9,1.3,5.2,11.7,0.6,0.3,4.1,11.5,1.4,2.4,0.2,11.7,0.2,0.0,0.0,0.4,0.1,1.6,0.8,0.6,2.0,6.7,3.5,1.5,1.6,0.5,0.3,4.7,0.3,3.0,1.7,0.1,0.2,1.3,3.7,0.1,0.1,0.2,0.2,4.8,0.6,0.4,1.7,547.4,0.3,0.0,0.1,5.4,0.1,0.1,0.7,4.7,0.0,0.6,0.3,0.4,3.1,1.1,0.9,0.5,2.9,0.2,0.5,0.3,1.0,0.0,2.5,0.3,0.3,2.3,0.8,2.0,0.5,0.9,0.2,0.7,0.0,0.0,1.3,0.1,3.4,0.0,1.1,0.4,1.5,1.7,0.3,0.1,0.5,0.7,1.9,6.8,2.2,0.4,0.4,0.5,0.4,1.0,2.1,3.4,1.8,0.5,9.2,0.0,0.1,0.0,0.6,1.7,0.8,0.1,2.1,0.2,0.1,4.9,0.5,0.5,0.1,0.1,0.6,1.0,0.4,0.1,0.6,0.2,1.6,0.1,0.3,0.3,1.1,0.1,0.1,0.0,0.4,0.0,0.2,4.4,6.8,1.0,0.0,1.1,0.2,1.2,0.0,3.3,0.0,0.1,0.4,0.0,1.3,0.2,0.3,0.2,0.0,8.0,0.8,4.5,0.1,19.4,0.2,1.2,1.0,0.4,0.5,0.0,0.1,0.1,2.9,0.0,0.8,0.3,0.0,0.0,4.5,0.3,0.6,0.0,7.3,0.6,0.0,0.5,0.2,0.3,1568.1,1.9,0.1,0.6,0.3,0.6,1.4,0.6,0.2,0.0,0.6,2.5,4.5,0.0,1.8,0.5,0.0,0.2,0.1,1.1,0.2,693.8,0.9,0.0,0.7,0.1,2.9,2.3,0.0,0.2,0.5,3.9,0.0,17.8,0.2,0.0,0.0,0.4,0.2,0.1,2.5,0.0,328.4,0.4,0.1,0.1,1.5,0.1,0.4,0.6,0.2,0.2,0.5,0.2,0.6,0.1,0.0,1.8,0.2,0.0,2.1,0.1,0.2,0.3,1.1,0.0,0.8,2.0,0.9,0.1,1.6,0.1,0.0,0.2,0.6,0.1,0.3,0.1,2.5,0.9,0.8,0.5,0.4,0.6,0.8,0.7,0.1,0.4,1.2,0.0,0.1,7.9,0.1,0.4,6.2,0.1,0.1,0.0,0.1,0.4,1.9,0.0,0.0,9.6,4.6,0.0,3.6,0.2,0.0,0.0,0.3,0.8,1.6,0.0,0.0,0.0,0.2,0.1,0.0,0.0,1.3,0.7,0.0,0.0,0.2,0.0,1.4,2.3,1.7,0.0,0.4,0.0,0.5,0.6,0.0,10.2,0.0,0.0,0.1,0.1,0.5,0.0,0.0,0.2,0.0,3.1,12.0,1.4,0.6,6.6,0.1,0.0,4.8,0.0,0.2,1.0,0.1,1.7,0.3,0.0,0.0,0.1,0.5,0.9,125.3,0.0,0.0,7.4,0.8,0.0,3.2,28.0,4661.3,1.3,1.2,0.0,0.4,0.0,0.2,0.0,0.4,0.1,1.0,0.0,0.3,12.5,0.0,0.1,0.5,0.0,1.5,0.0,0.6,0.5,0.2,0.0,1.9,2.3,0.0,2.5,0.1,2.0,0.0,0.5,0.4,0.0,0.9,0.0,1.6,1.4,1.3,0.4,0.5,0.0,0.2,0.0,0.2,0.0,10.8,0.0,0.0,0.0,0.0,0.1,0.2,0.8,0.2,0.2,0.2,0.2,0.2,0.8,0.2,3.7,10.7,0.1,0.1,0.1,0.5,0.4,0.7,0.3,0.0,0.1,0.5,2.6,0.0,0.3,1.5,1.6,0.9,0.0,0.1,0.0,1.4,140394.4,0.0,0.7,0.0,0.8,0.6,0.2,2.0,6.3,0.1,3.6,1.1,0.1,1.2,1.0,4.5,2.7,1.5,0.9,1.4,0.7,0.0,3.0,0.1,0.2,0.0,1.3,1.1,0.4,0.8,0.1,0.2,0.1,6.2,0.0,5.6,0.0,0.0,0.1,0.1,0.0,0.1,0.0,0.7,0.0,0.1,0.0,0.3,0.8,6.9],\"yaxis\":\"y\"}],                        {\"barmode\":\"relative\",\"legend\":{\"tracegroupgap\":0},\"template\":{\"data\":{\"bar\":[{\"error_x\":{\"color\":\"#2a3f5f\"},\"error_y\":{\"color\":\"#2a3f5f\"},\"marker\":{\"line\":{\"color\":\"#E5ECF6\",\"width\":0.5},\"pattern\":{\"fillmode\":\"overlay\",\"size\":10,\"solidity\":0.2}},\"type\":\"bar\"}],\"barpolar\":[{\"marker\":{\"line\":{\"color\":\"#E5ECF6\",\"width\":0.5},\"pattern\":{\"fillmode\":\"overlay\",\"size\":10,\"solidity\":0.2}},\"type\":\"barpolar\"}],\"carpet\":[{\"aaxis\":{\"endlinecolor\":\"#2a3f5f\",\"gridcolor\":\"white\",\"linecolor\":\"white\",\"minorgridcolor\":\"white\",\"startlinecolor\":\"#2a3f5f\"},\"baxis\":{\"endlinecolor\":\"#2a3f5f\",\"gridcolor\":\"white\",\"linecolor\":\"white\",\"minorgridcolor\":\"white\",\"startlinecolor\":\"#2a3f5f\"},\"type\":\"carpet\"}],\"choropleth\":[{\"colorbar\":{\"outlinewidth\":0,\"ticks\":\"\"},\"type\":\"choropleth\"}],\"contour\":[{\"colorbar\":{\"outlinewidth\":0,\"ticks\":\"\"},\"colorscale\":[[0.0,\"#0d0887\"],[0.1111111111111111,\"#46039f\"],[0.2222222222222222,\"#7201a8\"],[0.3333333333333333,\"#9c179e\"],[0.4444444444444444,\"#bd3786\"],[0.5555555555555556,\"#d8576b\"],[0.6666666666666666,\"#ed7953\"],[0.7777777777777778,\"#fb9f3a\"],[0.8888888888888888,\"#fdca26\"],[1.0,\"#f0f921\"]],\"type\":\"contour\"}],\"contourcarpet\":[{\"colorbar\":{\"outlinewidth\":0,\"ticks\":\"\"},\"type\":\"contourcarpet\"}],\"heatmap\":[{\"colorbar\":{\"outlinewidth\":0,\"ticks\":\"\"},\"colorscale\":[[0.0,\"#0d0887\"],[0.1111111111111111,\"#46039f\"],[0.2222222222222222,\"#7201a8\"],[0.3333333333333333,\"#9c179e\"],[0.4444444444444444,\"#bd3786\"],[0.5555555555555556,\"#d8576b\"],[0.6666666666666666,\"#ed7953\"],[0.7777777777777778,\"#fb9f3a\"],[0.8888888888888888,\"#fdca26\"],[1.0,\"#f0f921\"]],\"type\":\"heatmap\"}],\"heatmapgl\":[{\"colorbar\":{\"outlinewidth\":0,\"ticks\":\"\"},\"colorscale\":[[0.0,\"#0d0887\"],[0.1111111111111111,\"#46039f\"],[0.2222222222222222,\"#7201a8\"],[0.3333333333333333,\"#9c179e\"],[0.4444444444444444,\"#bd3786\"],[0.5555555555555556,\"#d8576b\"],[0.6666666666666666,\"#ed7953\"],[0.7777777777777778,\"#fb9f3a\"],[0.8888888888888888,\"#fdca26\"],[1.0,\"#f0f921\"]],\"type\":\"heatmapgl\"}],\"histogram\":[{\"marker\":{\"pattern\":{\"fillmode\":\"overlay\",\"size\":10,\"solidity\":0.2}},\"type\":\"histogram\"}],\"histogram2d\":[{\"colorbar\":{\"outlinewidth\":0,\"ticks\":\"\"},\"colorscale\":[[0.0,\"#0d0887\"],[0.1111111111111111,\"#46039f\"],[0.2222222222222222,\"#7201a8\"],[0.3333333333333333,\"#9c179e\"],[0.4444444444444444,\"#bd3786\"],[0.5555555555555556,\"#d8576b\"],[0.6666666666666666,\"#ed7953\"],[0.7777777777777778,\"#fb9f3a\"],[0.8888888888888888,\"#fdca26\"],[1.0,\"#f0f921\"]],\"type\":\"histogram2d\"}],\"histogram2dcontour\":[{\"colorbar\":{\"outlinewidth\":0,\"ticks\":\"\"},\"colorscale\":[[0.0,\"#0d0887\"],[0.1111111111111111,\"#46039f\"],[0.2222222222222222,\"#7201a8\"],[0.3333333333333333,\"#9c179e\"],[0.4444444444444444,\"#bd3786\"],[0.5555555555555556,\"#d8576b\"],[0.6666666666666666,\"#ed7953\"],[0.7777777777777778,\"#fb9f3a\"],[0.8888888888888888,\"#fdca26\"],[1.0,\"#f0f921\"]],\"type\":\"histogram2dcontour\"}],\"mesh3d\":[{\"colorbar\":{\"outlinewidth\":0,\"ticks\":\"\"},\"type\":\"mesh3d\"}],\"parcoords\":[{\"line\":{\"colorbar\":{\"outlinewidth\":0,\"ticks\":\"\"}},\"type\":\"parcoords\"}],\"pie\":[{\"automargin\":true,\"type\":\"pie\"}],\"scatter\":[{\"marker\":{\"colorbar\":{\"outlinewidth\":0,\"ticks\":\"\"}},\"type\":\"scatter\"}],\"scatter3d\":[{\"line\":{\"colorbar\":{\"outlinewidth\":0,\"ticks\":\"\"}},\"marker\":{\"colorbar\":{\"outlinewidth\":0,\"ticks\":\"\"}},\"type\":\"scatter3d\"}],\"scattercarpet\":[{\"marker\":{\"colorbar\":{\"outlinewidth\":0,\"ticks\":\"\"}},\"type\":\"scattercarpet\"}],\"scattergeo\":[{\"marker\":{\"colorbar\":{\"outlinewidth\":0,\"ticks\":\"\"}},\"type\":\"scattergeo\"}],\"scattergl\":[{\"marker\":{\"colorbar\":{\"outlinewidth\":0,\"ticks\":\"\"}},\"type\":\"scattergl\"}],\"scattermapbox\":[{\"marker\":{\"colorbar\":{\"outlinewidth\":0,\"ticks\":\"\"}},\"type\":\"scattermapbox\"}],\"scatterpolar\":[{\"marker\":{\"colorbar\":{\"outlinewidth\":0,\"ticks\":\"\"}},\"type\":\"scatterpolar\"}],\"scatterpolargl\":[{\"marker\":{\"colorbar\":{\"outlinewidth\":0,\"ticks\":\"\"}},\"type\":\"scatterpolargl\"}],\"scatterternary\":[{\"marker\":{\"colorbar\":{\"outlinewidth\":0,\"ticks\":\"\"}},\"type\":\"scatterternary\"}],\"surface\":[{\"colorbar\":{\"outlinewidth\":0,\"ticks\":\"\"},\"colorscale\":[[0.0,\"#0d0887\"],[0.1111111111111111,\"#46039f\"],[0.2222222222222222,\"#7201a8\"],[0.3333333333333333,\"#9c179e\"],[0.4444444444444444,\"#bd3786\"],[0.5555555555555556,\"#d8576b\"],[0.6666666666666666,\"#ed7953\"],[0.7777777777777778,\"#fb9f3a\"],[0.8888888888888888,\"#fdca26\"],[1.0,\"#f0f921\"]],\"type\":\"surface\"}],\"table\":[{\"cells\":{\"fill\":{\"color\":\"#EBF0F8\"},\"line\":{\"color\":\"white\"}},\"header\":{\"fill\":{\"color\":\"#C8D4E3\"},\"line\":{\"color\":\"white\"}},\"type\":\"table\"}]},\"layout\":{\"annotationdefaults\":{\"arrowcolor\":\"#2a3f5f\",\"arrowhead\":0,\"arrowwidth\":1},\"autotypenumbers\":\"strict\",\"coloraxis\":{\"colorbar\":{\"outlinewidth\":0,\"ticks\":\"\"}},\"colorscale\":{\"diverging\":[[0,\"#8e0152\"],[0.1,\"#c51b7d\"],[0.2,\"#de77ae\"],[0.3,\"#f1b6da\"],[0.4,\"#fde0ef\"],[0.5,\"#f7f7f7\"],[0.6,\"#e6f5d0\"],[0.7,\"#b8e186\"],[0.8,\"#7fbc41\"],[0.9,\"#4d9221\"],[1,\"#276419\"]],\"sequential\":[[0.0,\"#0d0887\"],[0.1111111111111111,\"#46039f\"],[0.2222222222222222,\"#7201a8\"],[0.3333333333333333,\"#9c179e\"],[0.4444444444444444,\"#bd3786\"],[0.5555555555555556,\"#d8576b\"],[0.6666666666666666,\"#ed7953\"],[0.7777777777777778,\"#fb9f3a\"],[0.8888888888888888,\"#fdca26\"],[1.0,\"#f0f921\"]],\"sequentialminus\":[[0.0,\"#0d0887\"],[0.1111111111111111,\"#46039f\"],[0.2222222222222222,\"#7201a8\"],[0.3333333333333333,\"#9c179e\"],[0.4444444444444444,\"#bd3786\"],[0.5555555555555556,\"#d8576b\"],[0.6666666666666666,\"#ed7953\"],[0.7777777777777778,\"#fb9f3a\"],[0.8888888888888888,\"#fdca26\"],[1.0,\"#f0f921\"]]},\"colorway\":[\"#636efa\",\"#EF553B\",\"#00cc96\",\"#ab63fa\",\"#FFA15A\",\"#19d3f3\",\"#FF6692\",\"#B6E880\",\"#FF97FF\",\"#FECB52\"],\"font\":{\"color\":\"#2a3f5f\"},\"geo\":{\"bgcolor\":\"white\",\"lakecolor\":\"white\",\"landcolor\":\"#E5ECF6\",\"showlakes\":true,\"showland\":true,\"subunitcolor\":\"white\"},\"hoverlabel\":{\"align\":\"left\"},\"hovermode\":\"closest\",\"mapbox\":{\"style\":\"light\"},\"paper_bgcolor\":\"white\",\"plot_bgcolor\":\"#E5ECF6\",\"polar\":{\"angularaxis\":{\"gridcolor\":\"white\",\"linecolor\":\"white\",\"ticks\":\"\"},\"bgcolor\":\"#E5ECF6\",\"radialaxis\":{\"gridcolor\":\"white\",\"linecolor\":\"white\",\"ticks\":\"\"}},\"scene\":{\"xaxis\":{\"backgroundcolor\":\"#E5ECF6\",\"gridcolor\":\"white\",\"gridwidth\":2,\"linecolor\":\"white\",\"showbackground\":true,\"ticks\":\"\",\"zerolinecolor\":\"white\"},\"yaxis\":{\"backgroundcolor\":\"#E5ECF6\",\"gridcolor\":\"white\",\"gridwidth\":2,\"linecolor\":\"white\",\"showbackground\":true,\"ticks\":\"\",\"zerolinecolor\":\"white\"},\"zaxis\":{\"backgroundcolor\":\"#E5ECF6\",\"gridcolor\":\"white\",\"gridwidth\":2,\"linecolor\":\"white\",\"showbackground\":true,\"ticks\":\"\",\"zerolinecolor\":\"white\"}},\"shapedefaults\":{\"line\":{\"color\":\"#2a3f5f\"}},\"ternary\":{\"aaxis\":{\"gridcolor\":\"white\",\"linecolor\":\"white\",\"ticks\":\"\"},\"baxis\":{\"gridcolor\":\"white\",\"linecolor\":\"white\",\"ticks\":\"\"},\"bgcolor\":\"#E5ECF6\",\"caxis\":{\"gridcolor\":\"white\",\"linecolor\":\"white\",\"ticks\":\"\"}},\"title\":{\"x\":0.05},\"xaxis\":{\"automargin\":true,\"gridcolor\":\"white\",\"linecolor\":\"white\",\"ticks\":\"\",\"title\":{\"standoff\":15},\"zerolinecolor\":\"white\",\"zerolinewidth\":2},\"yaxis\":{\"automargin\":true,\"gridcolor\":\"white\",\"linecolor\":\"white\",\"ticks\":\"\",\"title\":{\"standoff\":15},\"zerolinecolor\":\"white\",\"zerolinewidth\":2}}},\"title\":{\"text\":\"The Growth of Android Games in the First 30 Days by Category\"},\"xaxis\":{\"anchor\":\"y\",\"categoryorder\":\"total descending\",\"domain\":[0.0,1.0],\"title\":{\"text\":\"category\"}},\"yaxis\":{\"anchor\":\"x\",\"domain\":[0.0,1.0],\"title\":{\"text\":\"growth (30 days)\"}}},                        {\"responsive\": true}                    ).then(function(){\n",
       "                            \n",
       "var gd = document.getElementById('7c1de96e-19f0-4e54-8820-650294c6af06');\n",
       "var x = new MutationObserver(function (mutations, observer) {{\n",
       "        var display = window.getComputedStyle(gd).display;\n",
       "        if (!display || display === 'none') {{\n",
       "            console.log([gd, 'removed!']);\n",
       "            Plotly.purge(gd);\n",
       "            observer.disconnect();\n",
       "        }}\n",
       "}});\n",
       "\n",
       "// Listen for the removal of the full notebook cells\n",
       "var notebookContainer = gd.closest('#notebook-container');\n",
       "if (notebookContainer) {{\n",
       "    x.observe(notebookContainer, {childList: true});\n",
       "}}\n",
       "\n",
       "// Listen for the clearing of the current output cell\n",
       "var outputEl = gd.closest('.output');\n",
       "if (outputEl) {{\n",
       "    x.observe(outputEl, {childList: true});\n",
       "}}\n",
       "\n",
       "                        })                };                });            </script>        </div>"
      ]
     },
     "metadata": {},
     "output_type": "display_data"
    }
   ],
   "source": [
    "fig = px.bar(df, x='category', y='growth (30 days)', title='The Growth of Android Games in the First 30 Days by Category')\n",
    "fig.update_layout(xaxis={'categoryorder':'total descending'})\n",
    "fig.show()"
   ]
  },
  {
   "cell_type": "code",
   "execution_count": 50,
   "id": "7df836a3",
   "metadata": {
    "execution": {
     "iopub.execute_input": "2021-07-17T21:46:08.247010Z",
     "iopub.status.busy": "2021-07-17T21:46:08.246405Z",
     "iopub.status.idle": "2021-07-17T21:46:08.255734Z",
     "shell.execute_reply": "2021-07-17T21:46:08.256234Z",
     "shell.execute_reply.started": "2021-07-17T21:39:31.533172Z"
    },
    "papermill": {
     "duration": 0.116731,
     "end_time": "2021-07-17T21:46:08.256417",
     "exception": false,
     "start_time": "2021-07-17T21:46:08.139686",
     "status": "completed"
    },
    "tags": []
   },
   "outputs": [
    {
     "data": {
      "text/html": [
       "<div>\n",
       "<style scoped>\n",
       "    .dataframe tbody tr th:only-of-type {\n",
       "        vertical-align: middle;\n",
       "    }\n",
       "\n",
       "    .dataframe tbody tr th {\n",
       "        vertical-align: top;\n",
       "    }\n",
       "\n",
       "    .dataframe thead th {\n",
       "        text-align: right;\n",
       "    }\n",
       "</style>\n",
       "<table border=\"1\" class=\"dataframe\">\n",
       "  <thead>\n",
       "    <tr style=\"text-align: right;\">\n",
       "      <th></th>\n",
       "      <th>growth (60 days)</th>\n",
       "    </tr>\n",
       "    <tr>\n",
       "      <th>category</th>\n",
       "      <th></th>\n",
       "    </tr>\n",
       "  </thead>\n",
       "  <tbody>\n",
       "    <tr>\n",
       "      <th>GAME EDUCATIONAL</th>\n",
       "      <td>13.636</td>\n",
       "    </tr>\n",
       "    <tr>\n",
       "      <th>GAME MUSIC</th>\n",
       "      <td>7.006</td>\n",
       "    </tr>\n",
       "    <tr>\n",
       "      <th>GAME TRIVIA</th>\n",
       "      <td>6.443</td>\n",
       "    </tr>\n",
       "    <tr>\n",
       "      <th>GAME BOARD</th>\n",
       "      <td>4.501</td>\n",
       "    </tr>\n",
       "    <tr>\n",
       "      <th>GAME ADVENTURE</th>\n",
       "      <td>4.305</td>\n",
       "    </tr>\n",
       "  </tbody>\n",
       "</table>\n",
       "</div>"
      ],
      "text/plain": [
       "                  growth (60 days)\n",
       "category                          \n",
       "GAME EDUCATIONAL            13.636\n",
       "GAME MUSIC                   7.006\n",
       "GAME TRIVIA                  6.443\n",
       "GAME BOARD                   4.501\n",
       "GAME ADVENTURE               4.305"
      ]
     },
     "execution_count": 50,
     "metadata": {},
     "output_type": "execute_result"
    }
   ],
   "source": [
    "growth_60 = df.groupby('category')[['growth (60 days)']].mean().sort_values(by = 'growth (60 days)', ascending = False)\n",
    "growth_60.head()"
   ]
  },
  {
   "cell_type": "code",
   "execution_count": 51,
   "id": "333f67ff",
   "metadata": {
    "execution": {
     "iopub.execute_input": "2021-07-17T21:46:08.469758Z",
     "iopub.status.busy": "2021-07-17T21:46:08.468936Z",
     "iopub.status.idle": "2021-07-17T21:46:08.475537Z",
     "shell.execute_reply": "2021-07-17T21:46:08.474908Z",
     "shell.execute_reply.started": "2021-07-17T21:39:40.633351Z"
    },
    "papermill": {
     "duration": 0.114032,
     "end_time": "2021-07-17T21:46:08.475671",
     "exception": false,
     "start_time": "2021-07-17T21:46:08.361639",
     "status": "completed"
    },
    "tags": []
   },
   "outputs": [
    {
     "data": {
      "text/plain": [
       "Index(['GAME EDUCATIONAL', 'GAME MUSIC', 'GAME TRIVIA', 'GAME BOARD',\n",
       "       'GAME ADVENTURE', 'GAME SIMULATION', 'GAME CASINO', 'GAME SPORTS',\n",
       "       'GAME ARCADE', 'GAME CARD', 'GAME ROLE PLAYING', 'GAME ACTION',\n",
       "       'GAME WORD', 'GAME STRATEGY', 'GAME PUZZLE', 'GAME CASUAL',\n",
       "       'GAME RACING'],\n",
       "      dtype='object', name='category')"
      ]
     },
     "execution_count": 51,
     "metadata": {},
     "output_type": "execute_result"
    }
   ],
   "source": [
    "b = growth_60.index\n",
    "b"
   ]
  },
  {
   "cell_type": "code",
   "execution_count": 52,
   "id": "f1f83e91",
   "metadata": {
    "execution": {
     "iopub.execute_input": "2021-07-17T21:46:08.689764Z",
     "iopub.status.busy": "2021-07-17T21:46:08.689169Z",
     "iopub.status.idle": "2021-07-17T21:46:09.544331Z",
     "shell.execute_reply": "2021-07-17T21:46:09.543846Z",
     "shell.execute_reply.started": "2021-07-17T21:39:53.645524Z"
    },
    "papermill": {
     "duration": 0.9626,
     "end_time": "2021-07-17T21:46:09.544429",
     "exception": false,
     "start_time": "2021-07-17T21:46:08.581829",
     "status": "completed"
    },
    "tags": []
   },
   "outputs": [
    {
     "data": {
      "text/plain": [
       "Text(0.5, 1.0, 'The Growth of Android Games in the First 60 Days by Category')"
      ]
     },
     "execution_count": 52,
     "metadata": {},
     "output_type": "execute_result"
    },
    {
     "data": {
      "image/png": "[encoded data removed]",
      "text/plain": [
       "<Figure size 1440x504 with 1 Axes>"
      ]
     },
     "metadata": {
      "needs_background": "light"
     },
     "output_type": "display_data"
    }
   ],
   "source": [
    "plt.figure(figsize=(20,7))\n",
    "sns.barplot(x='category', y='growth (60 days)', order=b, data=df).set(xlabel=\"Game Categories\", ylabel='Growth (60 Days')\n",
    "plt.xticks(rotation = 60)\n",
    "plt.title('The Growth of Android Games in the First 60 Days by Category', fontdict={'fontsize': 16})"
   ]
  },
  {
   "cell_type": "code",
   "execution_count": 53,
   "id": "be248f26",
   "metadata": {
    "execution": {
     "iopub.execute_input": "2021-07-17T21:46:09.700121Z",
     "iopub.status.busy": "2021-07-17T21:46:09.696591Z",
     "iopub.status.idle": "2021-07-17T21:46:09.703551Z",
     "shell.execute_reply": "2021-07-17T21:46:09.704071Z",
     "shell.execute_reply.started": "2021-07-17T21:40:11.059366Z"
    },
    "papermill": {
     "duration": 0.086321,
     "end_time": "2021-07-17T21:46:09.704235",
     "exception": false,
     "start_time": "2021-07-17T21:46:09.617914",
     "status": "completed"
    },
    "tags": []
   },
   "outputs": [
    {
     "data": {
      "text/plain": [
       "count    1.730000e+03\n",
       "mean     1.101182e+06\n",
       "std      3.311738e+06\n",
       "min      3.823800e+04\n",
       "25%      1.879988e+05\n",
       "50%      4.576750e+05\n",
       "75%      9.443342e+05\n",
       "max      8.067866e+07\n",
       "Name: total ratings, dtype: float64"
      ]
     },
     "execution_count": 53,
     "metadata": {},
     "output_type": "execute_result"
    }
   ],
   "source": [
    "df['total ratings'].describe()"
   ]
  },
  {
   "cell_type": "code",
   "execution_count": 54,
   "id": "b66a3367",
   "metadata": {
    "execution": {
     "iopub.execute_input": "2021-07-17T21:46:09.931286Z",
     "iopub.status.busy": "2021-07-17T21:46:09.930512Z",
     "iopub.status.idle": "2021-07-17T21:46:09.938928Z",
     "shell.execute_reply": "2021-07-17T21:46:09.938398Z",
     "shell.execute_reply.started": "2021-07-17T21:40:22.169750Z"
    },
    "papermill": {
     "duration": 0.122677,
     "end_time": "2021-07-17T21:46:09.939063",
     "exception": false,
     "start_time": "2021-07-17T21:46:09.816386",
     "status": "completed"
    },
    "tags": []
   },
   "outputs": [
    {
     "data": {
      "text/plain": [
       "count        1730.000000\n",
       "mean      1101181.541040\n",
       "std       3311738.487969\n",
       "min         38238.000000\n",
       "25%        187998.750000\n",
       "50%        457675.000000\n",
       "75%        944334.250000\n",
       "max      80678661.000000\n",
       "Name: total ratings, dtype: object"
      ]
     },
     "execution_count": 54,
     "metadata": {},
     "output_type": "execute_result"
    }
   ],
   "source": [
    "df[\"total ratings\"].describe().apply(lambda x: format(x, 'f'))"
   ]
  },
  {
   "cell_type": "code",
   "execution_count": 55,
   "id": "07df0556",
   "metadata": {
    "execution": {
     "iopub.execute_input": "2021-07-17T21:46:10.159862Z",
     "iopub.status.busy": "2021-07-17T21:46:10.159283Z",
     "iopub.status.idle": "2021-07-17T21:46:10.266350Z",
     "shell.execute_reply": "2021-07-17T21:46:10.265837Z",
     "shell.execute_reply.started": "2021-07-17T21:40:35.016839Z"
    },
    "papermill": {
     "duration": 0.219726,
     "end_time": "2021-07-17T21:46:10.266477",
     "exception": false,
     "start_time": "2021-07-17T21:46:10.046751",
     "status": "completed"
    },
    "tags": []
   },
   "outputs": [
    {
     "data": {
      "image/png": "[encoded data removed]",
      "text/plain": [
       "<Figure size 1080x360 with 1 Axes>"
      ]
     },
     "metadata": {
      "needs_background": "light"
     },
     "output_type": "display_data"
    }
   ],
   "source": [
    "plt.figure(figsize=(15,5))\n",
    "sns.boxplot(data=df, x =\"total ratings\");"
   ]
  },
  {
   "cell_type": "code",
   "execution_count": 56,
   "id": "a6c19773",
   "metadata": {
    "execution": {
     "iopub.execute_input": "2021-07-17T21:46:10.501577Z",
     "iopub.status.busy": "2021-07-17T21:46:10.500051Z",
     "iopub.status.idle": "2021-07-17T21:46:10.611976Z",
     "shell.execute_reply": "2021-07-17T21:46:10.611424Z",
     "shell.execute_reply.started": "2021-07-17T21:40:49.114183Z"
    },
    "papermill": {
     "duration": 0.237302,
     "end_time": "2021-07-17T21:46:10.612112",
     "exception": false,
     "start_time": "2021-07-17T21:46:10.374810",
     "status": "completed"
    },
    "tags": []
   },
   "outputs": [
    {
     "data": {
      "text/html": [
       "<div>                            <div id=\"89f2a7e1-0e7a-460f-94a1-028b9ba6176b\" class=\"plotly-graph-div\" style=\"height:525px; width:100%;\"></div>            <script type=\"text/javascript\">                require([\"plotly\"], function(Plotly) {                    window.PLOTLYENV=window.PLOTLYENV || {};                                    if (document.getElementById(\"89f2a7e1-0e7a-460f-94a1-028b9ba6176b\")) {                    Plotly.newPlot(                        \"89f2a7e1-0e7a-460f-94a1-028b9ba6176b\",                        [{\"alignmentgroup\":\"True\",\"customdata\":[[\"Garena Free Fire - The Cobra\",\"GAME ACTION\"],[\"PUBG MOBILE: Graffiti Prank\",\"GAME ACTION\"],[\"Mobile Legends: Bang Bang\",\"GAME ACTION\"],[\"Brawl Stars\",\"GAME ACTION\"],[\"Sniper 3D: Fun Free Online FPS Shooting Game\",\"GAME ACTION\"],[\"Shadow Fight 2\",\"GAME ACTION\"],[\"Call of Duty\\u00ae: Mobile - Day of Reckoning\",\"GAME ACTION\"],[\"Among Us\",\"GAME ACTION\"],[\"Temple Run 2\",\"GAME ACTION\"],[\"PUBG MOBILE LITE\",\"GAME ACTION\"],[\"slither.io\",\"GAME ACTION\"],[\"Gangstar Vegas: World of Crime\",\"GAME ACTION\"],[\"Pixel Gun 3D: FPS Shooter & Battle Royale\",\"GAME ACTION\"],[\"Bowmasters\",\"GAME ACTION\"],[\"Standoff 2\",\"GAME ACTION\"],[\"Crossy Road\",\"GAME ACTION\"],[\"Banana Kong\",\"GAME ACTION\"],[\"Garena Li\\u00ean Qu\\u00e2n Mobile\",\"GAME ACTION\"],[\"Helix Jump\",\"GAME ACTION\"],[\"War Robots. 6v6 Tactical Multiplayer Battles\",\"GAME ACTION\"],[\"MORTAL KOMBAT: The Ultimate Fighting Game!\",\"GAME ACTION\"],[\"Agar.io\",\"GAME ACTION\"],[\"Last Day on Earth: Survival\",\"GAME ACTION\"],[\"DEER HUNTER CLASSIC\",\"GAME ACTION\"],[\"Modern Combat 5: eSports FPS\",\"GAME ACTION\"],[\"Kick the Buddy\",\"GAME ACTION\"],[\"DEAD TRIGGER 2 - Zombie Game FPS shooter\",\"GAME ACTION\"],[\"Marvel Contest of Champions\",\"GAME ACTION\"],[\"Mini Militia - Doodle Army 2\",\"GAME ACTION\"],[\"Garena RoV: Songkran\",\"GAME ACTION\"],[\"CATS: Crash Arena Turbo Stars\",\"GAME ACTION\"],[\"Call of Duty\\u00ae: Mobile - Garena\",\"GAME ACTION\"],[\"Injustice: Gods Among Us\",\"GAME ACTION\"],[\"Swamp Attack\",\"GAME ACTION\"],[\"GUNSHIP BATTLE: Helicopter 3D\",\"GAME ACTION\"],[\"Real Steel World Robot Boxing\",\"GAME ACTION\"],[\"World War Heroes: WW2 FPS\",\"GAME ACTION\"],[\"Critical Ops: Online Multiplayer FPS Shooting Game\",\"GAME ACTION\"],[\"A LINE Rangers/Crayon Shinchan tower defense RPG!\",\"GAME ACTION\"],[\"Six-Guns: Gang Showdown\",\"GAME ACTION\"],[\"Cover Fire: Offline Shooting Games\",\"GAME ACTION\"],[\"DEAD TARGET: Zombie Offline - Shooting Games\",\"GAME ACTION\"],[\"FRONTLINE COMMANDO: D-DAY\",\"GAME ACTION\"],[\"Worms Zone .io - Voracious Snake\",\"GAME ACTION\"],[\"Mario Kart Tour\",\"GAME ACTION\"],[\"Gods of Boom - Online PvP Action\",\"GAME ACTION\"],[\"RULES OF SURVIVAL\",\"GAME ACTION\"],[\"Hunter Assassin\",\"GAME ACTION\"],[\"Zombie Catchers - love the hunt!\",\"GAME ACTION\"],[\"Into the Dead\",\"GAME ACTION\"],[\"Respawnables \\u2013 Online PVP Battles\",\"GAME ACTION\"],[\"Modern Strike Online: Free PvP FPS shooting game\",\"GAME ACTION\"],[\"Block Strike\",\"GAME ACTION\"],[\"Blitz Brigade - Online FPS fun\",\"GAME ACTION\"],[\"Super Mario Run\",\"GAME ACTION\"],[\"Archero\",\"GAME ACTION\"],[\"N.O.V.A. Legacy\",\"GAME ACTION\"],[\"Tomb of the Mask\",\"GAME ACTION\"],[\"DINO HUNTER: DEADLY SHORES\",\"GAME ACTION\"],[\"DEAD TRIGGER - Offline Zombie Shooter\",\"GAME ACTION\"],[\"Johnny Trigger - Action Shooting Game\",\"GAME ACTION\"],[\"PPSSPP - PSP emulator\",\"GAME ACTION\"],[\"Robbery Bob\",\"GAME ACTION\"],[\"Hide Online - Hunters vs Props\",\"GAME ACTION\"],[\"Soul Knight\",\"GAME ACTION\"],[\"Creative Destruction\",\"GAME ACTION\"],[\"aquapark.io\",\"GAME ACTION\"],[\"Bomber Friends\",\"GAME ACTION\"],[\"Anger of stick 5 : zombie\",\"GAME ACTION\"],[\"Modern Sniper\",\"GAME ACTION\"],[\"DRAGON BALL LEGENDS\",\"GAME ACTION\"],[\"Nebulous.io\",\"GAME ACTION\"],[\"War Machines: Tank Battle - Army & Military Games\",\"GAME ACTION\"],[\"Garena AOV: Link Start\",\"GAME ACTION\"],[\"Sea Battle 2\",\"GAME ACTION\"],[\"DRAGON BALL Z DOKKAN BATTLE\",\"GAME ACTION\"],[\"FRAG Pro Shooter\",\"GAME ACTION\"],[\"Angry Gran Run - Running Game\",\"GAME ACTION\"],[\"PUBG MOBILE\",\"GAME ACTION\"],[\"Deer Hunter 2018\",\"GAME ACTION\"],[\"Rope Hero: Vice Town\",\"GAME ACTION\"],[\"Sniper Fury: Online 3D FPS & Sniper Shooter Game\",\"GAME ACTION\"],[\"FRONTLINE COMMANDO 2\",\"GAME ACTION\"],[\"Battlelands Royale\",\"GAME ACTION\"],[\"Arena of Valor: 5v5 Arena Game\",\"GAME ACTION\"],[\"Real Gangster Crime\",\"GAME ACTION\"],[\"Legacy of Discord-FuriousWings\",\"GAME ACTION\"],[\"BombSquad\",\"GAME ACTION\"],[\"Talking Tom Hero Dash - Run Game\",\"GAME ACTION\"],[\"PUBG MOBILE VN \\u2013 GRAFFITI PRANK\",\"GAME ACTION\"],[\"Crisis Action: 5th Anniversary\",\"GAME ACTION\"],[\"Hitman Sniper\",\"GAME ACTION\"],[\"Miraculous Ladybug & Cat Noir\",\"GAME ACTION\"],[\"Beat the Boss 3\",\"GAME ACTION\"],[\"Flippy Knife\",\"GAME ACTION\"],[\"BLOOD & GLORY\",\"GAME ACTION\"],[\"Bus Rush\",\"GAME ACTION\"],[\"Injustice 2\",\"GAME ACTION\"],[\"Zooba: Free-for-all Zoo Combat Battle Royale Games\",\"GAME ACTION\"],[\"NARUTO X BORUTO NINJA VOLTAGE\",\"GAME ACTION\"],[\"Roblox\",\"GAME ADVENTURE\"],[\"Pok\\u00e9mon GO\",\"GAME ADVENTURE\"],[\"Criminal Case\",\"GAME ADVENTURE\"],[\"\\ucfe0\\ud0a4\\ub7f0 for Kakao\",\"GAME ADVENTURE\"],[\"Harry Potter: Hogwarts Mystery\",\"GAME ADVENTURE\"],[\"Kiloblocks Lite\",\"GAME ADVENTURE\"],[\"PK XD - Explore and Play with your Friends!\",\"GAME ADVENTURE\"],[\"Mini World: Block Art\",\"GAME ADVENTURE\"],[\"BADLAND\",\"GAME ADVENTURE\"],[\"Ice Age Adventures\",\"GAME ADVENTURE\"],[\"Genshin Impact\",\"GAME ADVENTURE\"],[\"Clumsy Ninja\",\"GAME ADVENTURE\"],[\"The Walking Dead: Season One\",\"GAME ADVENTURE\"],[\"Benji Bananas\",\"GAME ADVENTURE\"],[\"KIM KARDASHIAN: HOLLYWOOD\",\"GAME ADVENTURE\"],[\"Hidden City: Hidden Object Adventure\",\"GAME ADVENTURE\"],[\"Family Guy The Quest for Stuff\",\"GAME ADVENTURE\"],[\"Growtopia\",\"GAME ADVENTURE\"],[\"The Secret Society - Hidden Objects Mystery\",\"GAME ADVENTURE\"],[\"Murder in the Alps\",\"GAME ADVENTURE\"],[\"June's Journey - Hidden Objects\",\"GAME ADVENTURE\"],[\"Tiny Miner\",\"GAME ADVENTURE\"],[\"Rayman Adventures\",\"GAME ADVENTURE\"],[\"Swordigo\",\"GAME ADVENTURE\"],[\"The Walking Dead: Season Two\",\"GAME ADVENTURE\"],[\"Eyes: Scary Thriller - Creepy Horror Game\",\"GAME ADVENTURE\"],[\"WorldCraft: 3D Build & Block Craft\",\"GAME ADVENTURE\"],[\"ARK: Survival Evolved\",\"GAME ADVENTURE\"],[\"Sonic Forces \\u2013 Multiplayer Racing & Battle Game\",\"GAME ADVENTURE\"],[\"Beggar Life - Clicker adventure\",\"GAME ADVENTURE\"],[\"RealmCraft with Skins Export to Minecraft\",\"GAME ADVENTURE\"],[\"Animation Throwdown: The Collectible Card Game\",\"GAME ADVENTURE\"],[\"Knives Out-No rules, just fight!\",\"GAME ADVENTURE\"],[\"Jurassic World Alive\",\"GAME ADVENTURE\"],[\"House Designer : Fix & Flip\",\"GAME ADVENTURE\"],[\"Seekers Notes: Hidden Mystery\",\"GAME ADVENTURE\"],[\"Crab War : Idle Swarm Evolution\",\"GAME ADVENTURE\"],[\"Cyber Hunter\",\"GAME ADVENTURE\"],[\"Mystery Manor: hidden objects\",\"GAME ADVENTURE\"],[\"Diggy's Adventure: Mine Maze Levels & Pipe Puzzles\",\"GAME ADVENTURE\"],[\"Ninja Arashi\",\"GAME ADVENTURE\"],[\"LONEWOLF (17+) - a Sniper Story\",\"GAME ADVENTURE\"],[\"Monster Warlord\",\"GAME ADVENTURE\"],[\"Ingress Prime\",\"GAME ADVENTURE\"],[\"Super Bob's World : Free Run Game\",\"GAME ADVENTURE\"],[\"Hidden Hotel: Miami Mystery\",\"GAME ADVENTURE\"],[\"Survivors: The Quest\",\"GAME ADVENTURE\"],[\"Hard Time (Prison Sim)\",\"GAME ADVENTURE\"],[\"Draw a Stickman: EPIC 2\",\"GAME ADVENTURE\"],[\"Adventure Escape: Asylum\",\"GAME ADVENTURE\"],[\"Transformers: RobotsInDisguise\",\"GAME ADVENTURE\"],[\"Westland Survival - Be a survivor in the Wild West\",\"GAME ADVENTURE\"],[\"Ghost Town Adventures: Mystery Riddles Game\",\"GAME ADVENTURE\"],[\"Terraria\",\"GAME ADVENTURE\"],[\"Piggy Boom-Be the coin master\",\"GAME ADVENTURE\"],[\"KENDALL & KYLIE\",\"GAME ADVENTURE\"],[\"Shipwrecked:Castaway Island\",\"GAME ADVENTURE\"],[\"Harry Potter: Wizards Unite\",\"GAME ADVENTURE\"],[\"Masha and the Bear Child Games\",\"GAME ADVENTURE\"],[\"Pearl's Peril - Hidden Object Game\",\"GAME ADVENTURE\"],[\"Manor Matters\",\"GAME ADVENTURE\"],[\"Mirrors of Albion\",\"GAME ADVENTURE\"],[\"Hollywood Story: Fashion Star\",\"GAME ADVENTURE\"],[\"Diamond Quest: Don't Rush!\",\"GAME ADVENTURE\"],[\"Hello Neighbor\",\"GAME ADVENTURE\"],[\"Super Bino Go - New Adventure Game\",\"GAME ADVENTURE\"],[\"Ninja warrior: legend of adventure games\",\"GAME ADVENTURE\"],[\"Devil Ninja 2\",\"GAME ADVENTURE\"],[\"Stormfall: Saga of Survival\",\"GAME ADVENTURE\"],[\"\\ud68c\\uc0c9\\ub3c4\\uc2dc for Kakao\",\"GAME ADVENTURE\"],[\"Crafting and Building\",\"GAME ADVENTURE\"],[\"LEGO\\u00ae Star Wars\\u2122: TFA\",\"GAME ADVENTURE\"],[\"Tinker Island - Survival Story Adventure\",\"GAME ADVENTURE\"],[\"\\ufeffDragon Land\",\"GAME ADVENTURE\"],[\"The Island Castaway: Lost World\\u00ae\",\"GAME ADVENTURE\"],[\"Criminal Case: Pacific Bay\",\"GAME ADVENTURE\"],[\"The Wolf Among Us\",\"GAME ADVENTURE\"],[\"Dead Ninja Mortal Shadow\",\"GAME ADVENTURE\"],[\"Egg Wars\",\"GAME ADVENTURE\"],[\"BlockStarPlanet\",\"GAME ADVENTURE\"],[\"Draw a Stickman: EPIC Free\",\"GAME ADVENTURE\"],[\"Benji Bananas Adventures\",\"GAME ADVENTURE\"],[\"Hotel Transylvania Adventures - Run, Jump, Build!\",\"GAME ADVENTURE\"],[\"Street Chaser\",\"GAME ADVENTURE\"],[\"Survival Island: EVO 2\",\"GAME ADVENTURE\"],[\"Seven - Deadly Revelation - Horror Chat Adventure\",\"GAME ADVENTURE\"],[\"FPS Commando Secret Mission - Free Shooting Games\",\"GAME ADVENTURE\"],[\"Zoo 2: Animal Park\",\"GAME ADVENTURE\"],[\"3D Maze / Labyrinth\",\"GAME ADVENTURE\"],[\"CASE: Animatronics - Horror game\",\"GAME ADVENTURE\"],[\"Super City (Superhero Sim)\",\"GAME ADVENTURE\"],[\"Spider Rope Hero - Gangster New York City\",\"GAME ADVENTURE\"],[\"Adventure Time: Heroes of Ooo\",\"GAME ADVENTURE\"],[\"Friendzoned\",\"GAME ADVENTURE\"],[\"Nobodies: Murder Cleaner\",\"GAME ADVENTURE\"],[\"Stranger Things: The Game\",\"GAME ADVENTURE\"],[\"Homicide Squad: New York Cases\",\"GAME ADVENTURE\"],[\"Futurama: Worlds of Tomorrow\",\"GAME ADVENTURE\"],[\"Jurassic Survival Island: Dinosaurs & Craft\",\"GAME ADVENTURE\"],[\"Critical Action :Gun Strike Ops - Shooting Game\",\"GAME ADVENTURE\"],[\"Subway Surfers\",\"GAME ARCADE\"],[\"Hungry Shark Evolution - Offline survival game\",\"GAME ARCADE\"],[\"Geometry Dash Lite\",\"GAME ARCADE\"],[\"Zombie Tsunami\",\"GAME ARCADE\"],[\"Angry Birds Classic\",\"GAME ARCADE\"],[\"Fruit Ninja\\u00ae\",\"GAME ARCADE\"],[\"Sonic Dash - Endless Running & Racing Game\",\"GAME ARCADE\"],[\"Jetpack Joyride\",\"GAME ARCADE\"],[\"Temple Run\",\"GAME ARCADE\"],[\"Smash Hit\",\"GAME ARCADE\"],[\"Cooking Fever\",\"GAME ARCADE\"],[\"Minecraft\",\"GAME ARCADE\"],[\"Vector\",\"GAME ARCADE\"],[\"Granny\",\"GAME ARCADE\"],[\"DragonFlight\",\"GAME ARCADE\"],[\"Red Ball 4\",\"GAME ARCADE\"],[\"Block Craft 3D: Building Simulator Games For Free\",\"GAME ARCADE\"],[\"Minecraft Trial\",\"GAME ARCADE\"],[\"Cooking Madness - A Chef's Restaurant Games\",\"GAME ARCADE\"],[\"Galaxy Attack: Alien Shooter\",\"GAME ARCADE\"],[\"Blockman Go\",\"GAME ARCADE\"],[\"Paper.io 2\",\"GAME ARCADE\"],[\"Angry Birds Transformers\",\"GAME ARCADE\"],[\"Hungry Shark World\",\"GAME ARCADE\"],[\"Glow Hockey\",\"GAME ARCADE\"],[\"Geometry Dash Meltdown\",\"GAME ARCADE\"],[\"Angry Birds Seasons\",\"GAME ARCADE\"],[\"\\uc708\\ub4dc\\ub7ec\\ub108\",\"GAME ARCADE\"],[\"Crowd City\",\"GAME ARCADE\"],[\"Brothers in Arms\\u00ae 3\",\"GAME ARCADE\"],[\"Tank Stars\",\"GAME ARCADE\"],[\"Rise Up\",\"GAME ARCADE\"],[\"Join Clash 3D\",\"GAME ARCADE\"],[\"Payback 2 - The Battle Sandbox\",\"GAME ARCADE\"],[\"Angry Birds Space\",\"GAME ARCADE\"],[\"Skater Boy\",\"GAME ARCADE\"],[\"Ant Smasher\",\"GAME ARCADE\"],[\"Partymasters - Fun Idle Game\",\"GAME ARCADE\"],[\"Tap Tap Dash\",\"GAME ARCADE\"],[\"101-in-1 Games\",\"GAME ARCADE\"],[\"Doodle Jump\",\"GAME ARCADE\"],[\"Hole.io\",\"GAME ARCADE\"],[\"Zombie Roadkill 3D\",\"GAME ARCADE\"],[\"Lep's World 2 \\ud83c\\udf40\\ud83c\\udf40\",\"GAME ARCADE\"],[\"Rider\",\"GAME ARCADE\"],[\"Lep's World \\ud83c\\udf40\",\"GAME ARCADE\"],[\"Angry Birds Friends\",\"GAME ARCADE\"],[\"Dan the Man: Action Platformer\",\"GAME ARCADE\"],[\"Rail Rush\",\"GAME ARCADE\"],[\"Geometry Dash World\",\"GAME ARCADE\"],[\"Lep's World 3 \\ud83c\\udf40\\ud83c\\udf40\\ud83c\\udf40\",\"GAME ARCADE\"],[\"Knife Hit\",\"GAME ARCADE\"],[\"Zombie Smasher\",\"GAME ARCADE\"],[\"Cookie Run: OvenBreak - Endless Running Platformer\",\"GAME ARCADE\"],[\"PAC-MAN\",\"GAME ARCADE\"],[\"Stack Ball - Blast through platforms\",\"GAME ARCADE\"],[\"Stickman Party: 1 2 3 4 Player Games Free\",\"GAME ARCADE\"],[\"Subway Princess Runner\",\"GAME ARCADE\"],[\"Multiplayer for Minecraft PE - MCPE Servers\",\"GAME ARCADE\"],[\"Vector 2\",\"GAME ARCADE\"],[\"1945 airforce - Free arcade shooting games\",\"GAME ARCADE\"],[\"Geometry Dash\",\"GAME ARCADE\"],[\"Jewels Switch\",\"GAME ARCADE\"],[\"Granny: Chapter Two\",\"GAME ARCADE\"],[\"Stick Hero\",\"GAME ARCADE\"],[\"Zombie High School\",\"GAME ARCADE\"],[\"Stupid Zombies\",\"GAME ARCADE\"],[\"Sky Whale\",\"GAME ARCADE\"],[\"LokiCraft\",\"GAME ARCADE\"],[\"Draw it\",\"GAME ARCADE\"],[\"Fernanfloo\",\"GAME ARCADE\"],[\"Sky Roller\",\"GAME ARCADE\"],[\"Geometry Dash SubZero\",\"GAME ARCADE\"],[\"Space shooter - Galaxy attack - Galaxy shooter\",\"GAME ARCADE\"],[\"Cartoon Wars\",\"GAME ARCADE\"],[\"Run\",\"GAME ARCADE\"],[\"Snake VS Block\",\"GAME ARCADE\"],[\"Zombie World War\",\"GAME ARCADE\"],[\"My Boy! Free - GBA Emulator\",\"GAME ARCADE\"],[\"Daddy Long Legs\",\"GAME ARCADE\"],[\"Burrito Bison: Launcha Libre\",\"GAME ARCADE\"],[\"Bricks Ball Crusher\",\"GAME ARCADE\"],[\"Stickman Hook\",\"GAME ARCADE\"],[\"Falcon Squad: Galaxy Attack - Free shooting games\",\"GAME ARCADE\"],[\"Jewels Legend - Match 3 Puzzle\",\"GAME ARCADE\"],[\"Evil Nun : Scary Horror Game Adventure\",\"GAME ARCADE\"],[\"BBTAN by 111%\",\"GAME ARCADE\"],[\"Prize Claw\",\"GAME ARCADE\"],[\"Monster Dash\",\"GAME ARCADE\"],[\"Polysphere - art of puzzle\",\"GAME ARCADE\"],[\"Ball Blast\",\"GAME ARCADE\"],[\"Will Hero\",\"GAME ARCADE\"],[\"Duet\",\"GAME ARCADE\"],[\"Tigerball\",\"GAME ARCADE\"],[\"Infinite Stairs\",\"GAME ARCADE\"],[\"Sky Force 2014\",\"GAME ARCADE\"],[\"Human Evolution Clicker: Tap and Evolve Life Forms\",\"GAME ARCADE\"],[\"Slendrina:The Cellar (Free)\",\"GAME ARCADE\"],[\"Run Sausage Run!\",\"GAME ARCADE\"],[\"Tank Hero\",\"GAME ARCADE\"],[\"Ludo King\\u2122\",\"GAME BOARD\"],[\"Happy Color\\u2122 \\u2013 Color by Number. Coloring games.\",\"GAME BOARD\"],[\"101 Y\\u00fczbir Okey Plus\",\"GAME BOARD\"],[\"Parchisi STAR Online\",\"GAME BOARD\"],[\"\\ubaa8\\ub450\\uc758\\ub9c8\\ube14\",\"GAME BOARD\"],[\"Chess Free\",\"GAME BOARD\"],[\"Chess\",\"GAME BOARD\"],[\"Okey Plus\",\"GAME BOARD\"],[\"Paint By Number - Coloring Book & Color by Number\",\"GAME BOARD\"],[\"Ludo Club - Fun Dice Game\",\"GAME BOARD\"],[\"Higgs Domino Island-Gaple QiuQiu Poker Game Online\",\"GAME BOARD\"],[\"Dominoes\",\"GAME BOARD\"],[\"Checkers\",\"GAME BOARD\"],[\"Bingo Blitz\\u2122\\ufe0f - Bingo Games\",\"GAME BOARD\"],[\"Ludo STAR\",\"GAME BOARD\"],[\"Bingo Bash featuring MONOPOLY: Live Bingo Games\",\"GAME BOARD\"],[\"Bingo Showdown Free Bingo Games \\u2013 Bingo Live Game\",\"GAME BOARD\"],[\"Mahjong Titan\",\"GAME BOARD\"],[\"\\u00c7anak Okey Plus\",\"GAME BOARD\"],[\"Ludo Star 2\",\"GAME BOARD\"],[\"Okey\",\"GAME BOARD\"],[\"Checkers\",\"GAME BOARD\"],[\"Chess - Play and Learn\",\"GAME BOARD\"],[\"1LINE \\u2013 One Line with One Touch\",\"GAME BOARD\"],[\"BINGO!\",\"GAME BOARD\"],[\"Backgammon Plus\",\"GAME BOARD\"],[\"LANDLORD TYCOON Business Simulator Investing Game\",\"GAME BOARD\"],[\"Real Chess\",\"GAME BOARD\"],[\"Slots: VIP Deluxe Slot Machines Free - Vegas Slots\",\"GAME BOARD\"],[\"Mahjong Epic\",\"GAME BOARD\"],[\"Tic Tac Toe\",\"GAME BOARD\"],[\"Backgammon Free\",\"GAME BOARD\"],[\"Dominos Online Jogatina: Dominoes Game Free\",\"GAME BOARD\"],[\"Mahjong City Tours: Free Mahjong Classic Game\",\"GAME BOARD\"],[\"Bingo Party - Free Classic Bingo Games Online\",\"GAME BOARD\"],[\"Rento - Dice Board Game Online\",\"GAME BOARD\"],[\"Snakes & Ladders King\",\"GAME BOARD\"],[\"Game of Dice\",\"GAME BOARD\"],[\"Pinball Pro\",\"GAME BOARD\"],[\"Checkers Online Elite\",\"GAME BOARD\"],[\"Woody Block Puzzle \\u00ae\",\"GAME BOARD\"],[\"Good Knight Story\",\"GAME BOARD\"],[\"Bingo Pop: Free Live Multiplayer Bingo Board Games\",\"GAME BOARD\"],[\"Backgammon - Narde\",\"GAME BOARD\"],[\"Tap Color - Color by number. Coloring Game\",\"GAME BOARD\"],[\"RISK: Global Domination\",\"GAME BOARD\"],[\"Slots: Epic Jackpot Slots Games Free & Casino Game\",\"GAME BOARD\"],[\"Onnect - Pair Matching Puzzle\",\"GAME BOARD\"],[\"Domino Gaple TopFun(Domino QiuQiu):Free dan online\",\"GAME BOARD\"],[\"Ludo SuperStar\",\"GAME BOARD\"],[\"C\\u1edd T\\u1ef7 Ph\\u00fa - Co Ty Phu ZingPlay - Board Game\",\"GAME BOARD\"],[\"Yalla Ludo - Ludo&Domino\",\"GAME BOARD\"],[\"Mahjong Master\",\"GAME BOARD\"],[\"Chess - Clash of Kings\",\"GAME BOARD\"],[\"Colorscapes - Color by Number, Coloring Games\",\"GAME BOARD\"],[\"Ludo Talent- Online Ludo&Chatroom\",\"GAME BOARD\"],[\"YAHTZEE\\u00ae With Buddies Dice Game\",\"GAME BOARD\"],[\"Backgammon Free - Lord of the Board - Table Game\",\"GAME BOARD\"],[\"Fun 101 Okey\",\"GAME BOARD\"],[\"Tile Craft - Triple Crush: Puzzle matching game\",\"GAME BOARD\"],[\"Travelling Millionaire\",\"GAME BOARD\"],[\"Dice With Buddies\\u2122 Free - The Fun Social Dice Game\",\"GAME BOARD\"],[\"\\u00c7anak Okey - Mynet\",\"GAME BOARD\"],[\"Reversi Free\",\"GAME BOARD\"],[\"Ludo Classic\",\"GAME BOARD\"],[\"Rummikub\\u00ae\",\"GAME BOARD\"],[\"Checkers\",\"GAME BOARD\"],[\"Fleet Battle - Sea Battle\",\"GAME BOARD\"],[\"Chess\",\"GAME BOARD\"],[\"Tile Master - Classic Triple Match & Puzzle Game\",\"GAME BOARD\"],[\"Domino QiuQiu KiuKiu Online(koin gratis)\",\"GAME BOARD\"],[\"Ludo\",\"GAME BOARD\"],[\"Tic Tac Toe Free\",\"GAME BOARD\"],[\"Einstein's Riddle Logic Puzzles\",\"GAME BOARD\"],[\"Numberzilla - Number Puzzle | Board Game\",\"GAME BOARD\"],[\"Four In A Line Free\",\"GAME BOARD\"],[\"Ludo All Star - Play Online Ludo Game & Board Game\",\"GAME BOARD\"],[\"\\uc778\\uc0dd\\uc5ed\\uc804\\uc737\\ub180\\uc774\",\"GAME BOARD\"],[\"Slot Casino - Slot Machines\",\"GAME BOARD\"],[\"Loco Parch\\u00eds - Magic Ludo & Mega dice! USA Vip Bet\",\"GAME BOARD\"],[\"Carrom 3D\",\"GAME BOARD\"],[\"Chess Online - Duel friends online!\",\"GAME BOARD\"],[\"Chess for Android\",\"GAME BOARD\"],[\"Sudoku Free\",\"GAME BOARD\"],[\"lichess \\u2022 Free Online Chess\",\"GAME BOARD\"],[\"Truth or Dare \\u2014 Dirty Party Game for Adults 18+\",\"GAME BOARD\"],[\"Slots: Fast Fortune Free Casino Slots with Bonus\",\"GAME BOARD\"],[\"Loto Online\",\"GAME BOARD\"],[\"Dr. Chess\",\"GAME BOARD\"],[\"World Chess Championship\",\"GAME BOARD\"],[\"Domino! The world's largest dominoes community\",\"GAME BOARD\"],[\"Chess Online\",\"GAME BOARD\"],[\"Backgammon Live: Play Online Backgammon Free Games\",\"GAME BOARD\"],[\"Praia Bingo - Bingo Games + Slot + Casino\",\"GAME BOARD\"],[\"Super Bingo HD\\u2122: Best Free Bingo Games\",\"GAME BOARD\"],[\"Tile Connect - Free Tile Puzzle & Match Brain Game\",\"GAME BOARD\"],[\"Okey Extra\",\"GAME BOARD\"],[\"Dr. Gomoku\",\"GAME BOARD\"],[\"Ludo Neo-Classic : King of the Dice Game 2020\",\"GAME BOARD\"],[\"Color by Number: Free Coloring Games - Paint Book\",\"GAME BOARD\"],[\"Yu-Gi-Oh! Duel Links\",\"GAME CARD\"],[\"Hearthstone\",\"GAME CARD\"],[\"Solitaire\",\"GAME CARD\"],[\"Solitaire\",\"GAME CARD\"],[\"Solitaire\",\"GAME CARD\"],[\"World Series of Poker WSOP Free Texas Holdem Poker\",\"GAME CARD\"],[\"Live Hold\\u2019em Pro Poker - Free Casino Games\",\"GAME CARD\"],[\"Pyramid Solitaire Saga\",\"GAME CARD\"],[\"UNO!\\u2122\",\"GAME CARD\"],[\"Solitaire Grand Harvest - Free Tripeaks Solitaire\",\"GAME CARD\"],[\"Solitaire\",\"GAME CARD\"],[\"Solitaire\",\"GAME CARD\"],[\"Solitaire\",\"GAME CARD\"],[\"Solitaire TriPeaks: Play Free Solitaire Card Games\",\"GAME CARD\"],[\"Fairway Solitaire Blast\",\"GAME CARD\"],[\"Gin Rummy Plus\",\"GAME CARD\"],[\"Spider Solitaire\",\"GAME CARD\"],[\"Solitaire\",\"GAME CARD\"],[\"Solitaire\",\"GAME CARD\"],[\"Solitaire\",\"GAME CARD\"],[\"Truco Blyts\",\"GAME CARD\"],[\"Poker Games: World Poker Club\",\"GAME CARD\"],[\"Deck Heroes: Legacy\",\"GAME CARD\"],[\"Legends of Runeterra\",\"GAME CARD\"],[\"Durak Online\",\"GAME CARD\"],[\"Solitaire!\",\"GAME CARD\"],[\"Solitaire\",\"GAME CARD\"],[\"Solitaire\",\"GAME CARD\"],[\"Poker Heat\\u2122 - Free Texas Holdem Poker Games\",\"GAME CARD\"],[\"Solitaire\",\"GAME CARD\"],[\"Solitaire\",\"GAME CARD\"],[\"Dummy & Toon Poker Texas slot Online Card Game\",\"GAME CARD\"],[\"PokerStars: Free Poker Games with Texas Holdem\",\"GAME CARD\"],[\"\\ud53c\\ub9dd \\ub274\\ub9de\\uace0 : \\uace0\\uc2a4\\ud1b1\\uc73c\\ub85c \\ub300\\ud55c\\ubbfc\\uad6d 1\\ub4f1\",\"GAME CARD\"],[\"Spider Solitaire\",\"GAME CARD\"],[\"Order & Chaos Duels\",\"GAME CARD\"],[\"Conquian Zingplay: el mejor juego de cartas gratis\",\"GAME CARD\"],[\"GWENT: The Witcher Card Game\",\"GAME CARD\"],[\"Spades Plus - Card Game\",\"GAME CARD\"],[\"Governor of Poker 2 - OFFLINE POKER GAME\",\"GAME CARD\"],[\"Callbreak Multiplayer\",\"GAME CARD\"],[\"Buraco Canasta Jogatina: Card Games For Free\",\"GAME CARD\"],[\"Governor of Poker 3 - Free Texas Holdem Card Games\",\"GAME CARD\"],[\"Jawaker Trix, Tarneeb, Baloot, Hand & More\",\"GAME CARD\"],[\"Gaple-Domino QiuQiu Poker Capsa Ceme Game Online\",\"GAME CARD\"],[\"Texas Hold'em & Omaha Poker: Pokerist\",\"GAME CARD\"],[\"Indian Rummy - Play Rummy Game Online\",\"GAME CARD\"],[\"RummyCircle - Play Indian Rummy Online | Card Game\",\"GAME CARD\"],[\"FreeCell Solitaire\",\"GAME CARD\"],[\"Spades Free\",\"GAME CARD\"],[\"Absolute Bingo- Free Bingo Games Offline or Online\",\"GAME CARD\"],[\"TopFun Domino QiuQiu:Domino99 (KiuKiu)\",\"GAME CARD\"],[\"Durak\",\"GAME CARD\"],[\"Spades Royale - Best Online Spades Card Games App\",\"GAME CARD\"],[\"Solitaire TriPeaks Journey - Free Card Game\",\"GAME CARD\"],[\"Scopa - Free Italian Card Game Online\",\"GAME CARD\"],[\"Solitaire Arena\",\"GAME CARD\"],[\"Mango Capsa Susun\",\"GAME CARD\"],[\"Microsoft Solitaire Collection\",\"GAME CARD\"],[\"Solitaire\",\"GAME CARD\"],[\"Solitaire\",\"GAME CARD\"],[\"Solitaire\",\"GAME CARD\"],[\"Soccer Spirits\",\"GAME CARD\"],[\"Solitaire\",\"GAME CARD\"],[\"Solitaire\",\"GAME CARD\"],[\"Solitaire\",\"GAME CARD\"],[\"Polskie Z\\u0142ote Zdrapki\",\"GAME CARD\"],[\"Belote.com - Free Belote Game\",\"GAME CARD\"],[\"Truco ZingPlay: Jogo de cartas online gr\\u00e1tis\",\"GAME CARD\"],[\"Solitaire\",\"GAME CARD\"],[\"Solitaire\",\"GAME CARD\"],[\"Solitaire\",\"GAME CARD\"],[\"Fairway Solitaire - Card Game\",\"GAME CARD\"],[\"Dummy Hero\",\"GAME CARD\"],[\"\\u0e44\\u0e1e\\u0e48\\u0e41\\u0e04\\u0e07 - \\u0e21\\u0e35\\u0e14\\u0e31\\u0e21\\u0e21\\u0e35\\u0e48 \\u0e1b\\u0e4a\\u0e2d\\u0e01\\u0e40\\u0e14\\u0e49\\u0e07 \\u0e44\\u0e2e\\u0e42\\u0e25 \\u0e40\\u0e01\\u0e49\\u0e32\\u0e40\\u0e01\",\"GAME CARD\"],[\"Solitaire Collection\",\"GAME CARD\"],[\"Solitaire Free Game\",\"GAME CARD\"],[\"Reigns\",\"GAME CARD\"],[\"The Elder Scrolls: Legends\",\"GAME CARD\"],[\"Solitaire Classic\",\"GAME CARD\"],[\"Spider Solitaire\",\"GAME CARD\"],[\"Spider Solitaire\",\"GAME CARD\"],[\"Solitaire\",\"GAME CARD\"],[\"\\u4e09\\u570b\\u6bba\\u540d\\u5c07\\u50b3\",\"GAME CARD\"],[\"Rummy 45 - Remi Etalat\",\"GAME CARD\"],[\"Classic Solitaire\",\"GAME CARD\"],[\"Eredan Arena PVP\",\"GAME CARD\"],[\"\\ub274 \\ud55c\\ud310 \\ub9de\\uace0 (\\ub370\\uc774\\ud130 \\ud544\\uc694\\uc5c6\\ub294 \\ubb34\\ub8cc \\uace0\\uc2a4\\ud1b1)\",\"GAME CARD\"],[\"Descarte\",\"GAME CARD\"],[\"Spider Solitaire\",\"GAME CARD\"],[\"Spider Solitaire\",\"GAME CARD\"],[\"Pok\\u00e9mon TCG Online\",\"GAME CARD\"],[\"Texas Holdem Poker Pro\",\"GAME CARD\"],[\"\\uc560\\ub2c8\\ud321 \\ub9de\\uace0\",\"GAME CARD\"],[\"Phase 10: World Tour\",\"GAME CARD\"],[\"\\u5927\\u5bcc\\u8c6aBEST\",\"GAME CARD\"],[\"\\ud53c\\ub9dd \\uc12f\\ub2e4\",\"GAME CARD\"],[\"BlackJack 21 - Online Blackjack multiplayer casino\",\"GAME CARD\"],[\"Belote Multiplayer\",\"GAME CARD\"],[\"Batak HD - \\u0130nternetsiz Batak\",\"GAME CARD\"],[\"LG Smart Truco\",\"GAME CARD\"],[\"\\ud55c\\uac8c\\uc784 \\uc2e0\\ub9de\\uace0 : \\ub300\\ud55c\\ubbfc\\uad6d \\uc6d0\\uc870 \\uace0\\uc2a4\\ud1b1\",\"GAME CARD\"],[\"Solitaire TriPeaks Adventure - Free Card Game\",\"GAME CARD\"],[\"Spider Solitaire\",\"GAME CARD\"],[\"Gin Rummy Free\",\"GAME CARD\"],[\"Mega Hit Poker: Texas Holdem\",\"GAME CARD\"],[\"Solitaire: Super Challenges\",\"GAME CARD\"],[\"Solitaire - Make Free Money & Play the Card Game\",\"GAME CARD\"],[\"Solitaire\",\"GAME CARD\"],[\"Solitaire\",\"GAME CARD\"],[\"Solitaire\",\"GAME CARD\"],[\"Solitaire\",\"GAME CARD\"],[\"Solitaire\",\"GAME CARD\"],[\"Solitaire\",\"GAME CARD\"],[\"Cribbage Classic\",\"GAME CARD\"],[\"Solitaire Tripeaks: Farm Adventure\",\"GAME CARD\"],[\"Tien Len - Southern Poker\",\"GAME CARD\"],[\"Otogi: Spirit Agents\",\"GAME CARD\"],[\"Epic Cards Battle(TCG)\",\"GAME CARD\"],[\"Solitaire\",\"GAME CARD\"],[\"Solitaire\",\"GAME CARD\"],[\"Solitaire\",\"GAME CARD\"],[\"Zynga Poker \\u2013 Free Texas Holdem Online Card Games\",\"GAME CASINO\"],[\"Slotomania\\u2122 Free Slots: Casino Slot Machine Games\",\"GAME CASINO\"],[\"Teen Patti Gold \\u2013 Indian Family Card Game\",\"GAME CASINO\"],[\"Teen Patti by Octro - Indian Poker Card Game\",\"GAME CASINO\"],[\"Coin Dozer: Sweepstakes\",\"GAME CASINO\"],[\"House of Fun: Free Casino Slots & Casino Games\",\"GAME CASINO\"],[\"Scatter Slots - Las Vegas Casino Game 777 Online\",\"GAME CASINO\"],[\"Lucky Day - Win Real Rewards\",\"GAME CASINO\"],[\"Jackpot Party Casino Games: Spin FREE Casino Slots\",\"GAME CASINO\"],[\"Cash Frenzy\\u2122 Casino \\u2013 Free Slots Games\",\"GAME CASINO\"],[\"myVEGAS Slots: Las Vegas Casino Games & Slots\",\"GAME CASINO\"],[\"Huuuge Casino Slots - Best Slot Machines\",\"GAME CASINO\"],[\"DoubleU Casino - Free Slots\",\"GAME CASINO\"],[\"Jackpot Slot Machines - Slots Era\\u2122 Vegas Casino\",\"GAME CASINO\"],[\"Caesars Casino: Casino & Slots For Free\",\"GAME CASINO\"],[\"DH Texas Poker - Texas Hold'em\",\"GAME CASINO\"],[\"Gold Fish Casino Slots - FREE Slot Machine Games\",\"GAME CASINO\"],[\"BLACKJACK!\",\"GAME CASINO\"],[\"Hit it Rich! Lucky Vegas Casino Slot Machine Game\",\"GAME CASINO\"],[\"Wizard of Oz Free Slots Casino\",\"GAME CASINO\"],[\"Dummy \\u0e14\\u0e31\\u0e21\\u0e21\\u0e35\\u0e48 \\u0e44\\u0e1e\\u0e48\\u0e41\\u0e04\\u0e07 \\u0e40\\u0e01\\u0e21\\u0e44\\u0e1e\\u0e48\\u0e1f\\u0e23\\u0e35\",\"GAME CASINO\"],[\"Full House Casino - Free Vegas Slots Machine Games\",\"GAME CASINO\"],[\"Slots (Golden HoYeah) - Casino Slots\",\"GAME CASINO\"],[\"Luxy Poker-Online Texas Holdem\",\"GAME CASINO\"],[\"Vegas Slots - DoubleDown Casino\",\"GAME CASINO\"],[\"Big Fish Casino - Play Slots and Casino Games\",\"GAME CASINO\"],[\"Texas HoldEm Poker Deluxe\",\"GAME CASINO\"],[\"\\u0e40\\u0e01\\u0e49\\u0e32\\u0e40\\u0e01\\u0e44\\u0e17\\u0e22\",\"GAME CASINO\"],[\"Big Time Cash. Make Money Free\",\"GAME CASINO\"],[\"Cashman Casino: Casino Slots Machines! 2M Free!\",\"GAME CASINO\"],[\"Slots: Heart of Vegas\\u2122 \\u2013 Free Casino Slots Games\",\"GAME CASINO\"],[\"Casino Jackpot Slots - Infinity Slots\\u2122 777 Game\",\"GAME CASINO\"],[\"my KONAMI Slots - Casino Games & Fun Slot Machines\",\"GAME CASINO\"],[\"Tycoon Casino Free Slots: Vegas Slot Machine Games\",\"GAME CASINO\"],[\"POP! Slots \\u2122- Free Vegas Casino Slot Machine Games\",\"GAME CASINO\"],[\"GSN Casino: New Slots and Casino Games\",\"GAME CASINO\"],[\"Slots Pharaoh's Way Casino Games & Slot Machine\",\"GAME CASINO\"],[\"Ti\\u1ebfn l\\u00ean Mi\\u1ec1n Nam - Ti\\u1ebfn L\\u00ean - tien len - ZingPlay\",\"GAME CASINO\"],[\"\\u9ebb\\u5c07 \\u660e\\u661f3\\u7f3a1\\u9ebb\\u5c07\\u2013\\u53f0\\u706316\\u5f35\\u9ebb\\u5c07Mahjong \\u3001SLOT\\u3001Poker\",\"GAME CASINO\"],[\"Lotsa Slots - Free Vegas Casino Slot Machines\",\"GAME CASINO\"],[\"Club Vegas 2021: New Slots Games & Casino bonuses\",\"GAME CASINO\"],[\"Billionaire Casino Slots - The Best Slot Machines\",\"GAME CASINO\"],[\"Quick Hit Casino Games - Free Casino Slots Games\",\"GAME CASINO\"],[\"NEW SLOTS 2021\\uff0dfree casino games & slot machines\",\"GAME CASINO\"],[\"Jackpot World\\u2122 - Free Vegas Casino Slots\",\"GAME CASINO\"],[\"\\u795e\\u4f86\\u4e5f\\u9ebb\\u5c07\\uff0d\\u9ebb\\u5c07\\u3001\\u9ebb\\u96c0\",\"GAME CASINO\"],[\"GAMEE Prizes - Play Free Games, WIN REAL CASH!\",\"GAME CASINO\"],[\"Tongits Go - The Best Card Game Online\",\"GAME CASINO\"],[\"\\u0e44\\u0e1e\\u0e48\\u0e40\\u0e17\\u0e47\\u0e01\\u0e0b\\u0e31\\u0e2a\\u0e42\\u0e1a\\u0e22\\u0e48\\u0e32-Boyaa Texas Poker \\u0e42\\u0e1b\\u0e4a\\u0e01\\u0e40\\u0e01\\u0e2d\\u0e23\\u0e4c\\u0e21\\u0e37\\u0e2d\\u0e42\\u0e1b\\u0e23\",\"GAME CASINO\"],[\"Gaminator Casino Slots - Play Slot Machines 777\",\"GAME CASINO\"],[\"GameTwist Casino Slots: Play Vegas Slot Machines\",\"GAME CASINO\"],[\"Double Win Casino Slots - Free Video Slots Games\",\"GAME CASINO\"],[\"UTP - Ultimate Teen Patti (3 Patti)\",\"GAME CASINO\"],[\"Free Slot Machines with Bonus Games!\",\"GAME CASINO\"],[\"Hot Shot Casino Free Slots Games: Real Vegas Slots\",\"GAME CASINO\"],[\"Slot Machines - Free Vegas Slots Casino\",\"GAME CASINO\"],[\"Bingo Tycoon\",\"GAME CASINO\"],[\"Coin Dozer: Casino\",\"GAME CASINO\"],[\"Willy Wonka Slots Free Casino\",\"GAME CASINO\"],[\"MONOPOLY Slots Free Slot Machines & Casino Games\",\"GAME CASINO\"],[\"88 Fortunes Casino Games & Free Slot Machine Games\",\"GAME CASINO\"],[\"Slots Free - Big Win Casino\\u2122\",\"GAME CASINO\"],[\"Pmang Poker : Casino Royal\",\"GAME CASINO\"],[\"Slots Casino - Jackpot Mania\",\"GAME CASINO\"],[\"Roulette Royale - FREE Casino\",\"GAME CASINO\"],[\"Slotpark - Online Casino Games & Free Slot Machine\",\"GAME CASINO\"],[\"Bingo by Alisa - Free Live Multiplayer Bingo Games\",\"GAME CASINO\"],[\"Poker Texas Boyaa\",\"GAME CASINO\"],[\"Let's Vegas Slots - Casino Slots\",\"GAME CASINO\"],[\"Scratch Day\",\"GAME CASINO\"],[\"Slot Machine - FREE Casino\",\"GAME CASINO\"],[\"C\\u1ed5ng game ZingPlay - Game b\\u00e0i - Game c\\u1edd - Ti\\u1ebfn l\\u00ean\",\"GAME CASINO\"],[\"Slots: Get Rich Free Slots Casino Games Offline\",\"GAME CASINO\"],[\"Blackjack 21\",\"GAME CASINO\"],[\"\\u0e44\\u0e2e\\u0e42\\u0e25\\u0e1e\\u0e37\\u0e49\\u0e19\\u0e1a\\u0e49\\u0e32\\u0e19 Hilo - \\u0e23\\u0e27\\u0e21\\u0e40\\u0e01\\u0e21\\u0e14\\u0e31\\u0e21\\u0e21\\u0e35\\u0e48 \\u0e44\\u0e2e\\u0e42\\u0e25 \\u0e44\\u0e1e\\u0e48\\u0e2a\\u0e25\\u0e32\\u0e1f \\u0e2f\\u0e25\\u0e2f\",\"GAME CASINO\"],[\"Rock N' Cash Casino Slots -Free Vegas Slot Games\",\"GAME CASINO\"],[\"Bingo Journey - Lucky & Fun Casino Bingo Games\",\"GAME CASINO\"],[\"Best Casino Free Slots: Casino Slot Machine Games\",\"GAME CASINO\"],[\"Jackpot Magic Slots\\u2122: Social Casino & Slot Games\",\"GAME CASINO\"],[\"Slots Vacation - FREE Slots\",\"GAME CASINO\"],[\"Free Slots!\",\"GAME CASINO\"],[\"Stars Slots Casino - HUUUGE casino games\",\"GAME CASINO\"],[\"Free Slots Casino - Adventures\",\"GAME CASINO\"],[\"\\u0e44\\u0e1e\\u0e48\\u0e41\\u0e04\\u0e07-\\u0e23\\u0e27\\u0e21\\u0e14\\u0e31\\u0e21\\u0e21\\u0e35\\u0e48dummy \\u0e1b\\u0e4a\\u0e2d\\u0e01\\u0e40\\u0e14\\u0e49\\u0e07 \\u0e40\\u0e01\\u0e49\\u0e32\\u0e40\\u0e01\\u0e44\\u0e17\\u0e22 \\u0e40\\u0e01\\u0e21\\u0e44\\u0e1e\\u0e48\\u0e1f\\u0e23\\u0e35\",\"GAME CASINO\"],[\"myVEGAS Blackjack 21 - Free Vegas Casino Card Game\",\"GAME CASINO\"],[\"Bingo Holiday: Free Bingo Games\",\"GAME CASINO\"],[\"Cash Storm Casino - Free Vegas Jackpot Slots Games\",\"GAME CASINO\"],[\"SLOTS - Black Diamond Casino\",\"GAME CASINO\"],[\"Winning Slots casino games:free vegas slot machine\",\"GAME CASINO\"],[\"Free Robux Loto 2020\",\"GAME CASINO\"],[\"\\u0e44\\u0e1e\\u0e48\\u0e40\\u0e17\\u0e47\\u0e01\\u0e0b\\u0e31\\u0e2a\\u0e44\\u0e17\\u0e22 HD\",\"GAME CASINO\"],[\"Cash Blitz Free Slots: Casino Slot Machine Games\",\"GAME CASINO\"],[\"Vegas Downtown Slots\\u2122 - Slot Machines & Word Games\",\"GAME CASINO\"],[\"Jackpot Poker by PokerStars\\u2122 \\u2013 FREE Poker Online\",\"GAME CASINO\"],[\"Vegas Friends - Casino Slots for Free\",\"GAME CASINO\"],[\"Bingo\\u2122\",\"GAME CASINO\"],[\"Slots on Tour Casino - Vegas Slot Machine Games HD\",\"GAME CASINO\"],[\"\\u0e14\\u0e31\\u0e21\\u0e21\\u0e35\\u0e48\\u0e44\\u0e17\\u0e22\\u0e41\\u0e25\\u0e19\\u0e14\\u0e4c-\\u0e23\\u0e27\\u0e21\\u0e44\\u0e1e\\u0e48\\u0e41\\u0e04\\u0e07 \\u0e40\\u0e01\\u0e49\\u0e32\\u0e40\\u0e01 \\u0e44\\u0e2e\\u0e42\\u0e25 \\u0e40\\u0e01\\u0e21\\u0e44\\u0e1e\\u0e48\\u0e1f\\u0e23\\u0e35\",\"GAME CASINO\"],[\"Spin Day - Win Real Money\",\"GAME CASINO\"],[\"Old Vegas Slots \\u2013 Classic Slots Casino Games\",\"GAME CASINO\"],[\"Candy Crush Saga\",\"GAME CASUAL\"],[\"My Talking Tom\",\"GAME CASUAL\"],[\"My Talking Angela\",\"GAME CASUAL\"],[\"Hay Day\",\"GAME CASUAL\"],[\"Pou\",\"GAME CASUAL\"],[\"Minion Rush: Despicable Me Official Game\",\"GAME CASUAL\"],[\"Gardenscapes\",\"GAME CASUAL\"],[\"Homescapes\",\"GAME CASUAL\"],[\"Farm Heroes Saga\",\"GAME CASUAL\"],[\"Township\",\"GAME CASUAL\"],[\"Candy Crush Soda Saga\",\"GAME CASUAL\"],[\"Plants vs Zombies\\u2122 2 Free\",\"GAME CASUAL\"],[\"Angry Birds 2\",\"GAME CASUAL\"],[\"Coin Master\",\"GAME CASUAL\"],[\"My Cafe \\u2014 Restaurant Game. Serve & Manage\",\"GAME CASUAL\"],[\"The Simpsons\\u2122: Tapped Out\",\"GAME CASUAL\"],[\"LINE Let's Get Rich\",\"GAME CASUAL\"],[\"Pet Rescue Saga\",\"GAME CASUAL\"],[\"My Talking Tom 2\",\"GAME CASUAL\"],[\"Gacha Life\",\"GAME CASUAL\"],[\"Bubble Witch 2 Saga\",\"GAME CASUAL\"],[\"FarmVille 2: Country Escape\",\"GAME CASUAL\"],[\"Talking Tom Cat\",\"GAME CASUAL\"],[\"My Home - Design Dreams\",\"GAME CASUAL\"],[\"Best Fiends - Free Puzzle Game\",\"GAME CASUAL\"],[\"PewDiePie's Tuber Simulator\",\"GAME CASUAL\"],[\"Ice Age Village\",\"GAME CASUAL\"],[\"Dumb Ways to Die 2: The Games\",\"GAME CASUAL\"],[\"My Talking Tom Friends\",\"GAME CASUAL\"],[\"Candy Crush Friends Saga\",\"GAME CASUAL\"],[\"Family Farm Seaside\",\"GAME CASUAL\"],[\"Pirate Kings\\u2122\\ufe0f\",\"GAME CASUAL\"],[\"MY LITTLE PONY: Magic Princess\",\"GAME CASUAL\"],[\"Bubble Shooter\",\"GAME CASUAL\"],[\"My Horse\",\"GAME CASUAL\"],[\"Blossom Blast Saga\",\"GAME CASUAL\"],[\"Diamond Digger Saga\",\"GAME CASUAL\"],[\"Farm Heroes Super Saga\",\"GAME CASUAL\"],[\"My Talking Hank\",\"GAME CASUAL\"],[\"Papa Pear Saga\",\"GAME CASUAL\"],[\"Gacha Club\",\"GAME CASUAL\"],[\"My Boo: Your Virtual Pet Game To Care and Play\",\"GAME CASUAL\"],[\"Burger\",\"GAME CASUAL\"],[\"Smurfs' Village\",\"GAME CASUAL\"],[\"Puppy Town - Merge & Win\",\"GAME CASUAL\"],[\"My Dolphin Show\",\"GAME CASUAL\"],[\"Save The Girl\",\"GAME CASUAL\"],[\"Green Farm 3\",\"GAME CASUAL\"],[\"Rodeo Stampede: Sky Zoo Safari\",\"GAME CASUAL\"],[\"Stickman Warriors\",\"GAME CASUAL\"],[\"Good Pizza, Great Pizza\",\"GAME CASUAL\"],[\"Bubble Shooter\",\"GAME CASUAL\"],[\"Bubbu \\u2013 My Virtual Pet\",\"GAME CASUAL\"],[\"Jewels Star\",\"GAME CASUAL\"],[\"Let's Create! Pottery Lite\",\"GAME CASUAL\"],[\"BTS WORLD\",\"GAME CASUAL\"],[\"Idle Arks: Build at Sea\",\"GAME CASUAL\"],[\"Covet Fashion - Dress Up Game\",\"GAME CASUAL\"],[\"World Chef \\ud83c\\udf70\\ud83c\\udf54\\ud83c\\udf5d\\ud83c\\udf53\",\"GAME CASUAL\"],[\"What if..\",\"GAME CASUAL\"],[\"Virtual Families 2\",\"GAME CASUAL\"],[\"Angry Birds POP Bubble Shooter\",\"GAME CASUAL\"],[\"The Simpsons\\u2122: Tapped Out\",\"GAME CASUAL\"],[\"Tic Tac Toe Glow\",\"GAME CASUAL\"],[\"Wonder Zoo - Animal rescue !\",\"GAME CASUAL\"],[\"Furby BOOM!\",\"GAME CASUAL\"],[\"Plants vs. Zombies\\u2122 2 Free\",\"GAME CASUAL\"],[\"Shopping Mall Girl - Dress Up & Style Game\",\"GAME CASUAL\"],[\"Twist Hit!\",\"GAME CASUAL\"],[\"Plants vs. Zombies\\u2122 Heroes\",\"GAME CASUAL\"],[\"Hello Kitty Nail Salon\",\"GAME CASUAL\"],[\"Moy 3 \\ud83d\\udc19 Virtual Pet Game\",\"GAME CASUAL\"],[\"Fish Live\",\"GAME CASUAL\"],[\"Cow Evolution: Crazy Cow Making Idle Merge Games\",\"GAME CASUAL\"],[\"BlockBuild: Craft Your Dream World\",\"GAME CASUAL\"],[\"Board Kings\\u2122\\ufe0f - Online Multiplayer Board Game\",\"GAME CASUAL\"],[\"Paradise Island 2: Hotel Game\",\"GAME CASUAL\"],[\"Moy 2 \\ud83d\\udc19 Virtual Pet Game\",\"GAME CASUAL\"],[\"Lost Island: Adventure Quest & Magical Tile Match\",\"GAME CASUAL\"],[\"Stupid Zombies 3\",\"GAME CASUAL\"],[\"Idle Sightseeing Train - Game of Train Transport\",\"GAME CASUAL\"],[\"Dumb Ways to Die\",\"GAME CASUAL\"],[\"Farm Town: Happy farming Day & food farm game City\",\"GAME CASUAL\"],[\"Bubble Shooter\",\"GAME CASUAL\"],[\"Bubble Shooter\",\"GAME CASUAL\"],[\"Fruit Block - Puzzle Legend\",\"GAME CASUAL\"],[\"Island Experiment\",\"GAME CASUAL\"],[\"Kiss Kiss: Spin the Bottle for Chatting & Fun\",\"GAME CASUAL\"],[\"Family Island\\u2122 - Farm game adventure\",\"GAME CASUAL\"],[\"Bubble Shooter\",\"GAME CASUAL\"],[\"Bubble Shooter\",\"GAME CASUAL\"],[\"Moy \\ud83d\\udc19 Virtual Pet Game\",\"GAME CASUAL\"],[\"Moy 4 \\ud83d\\udc19 Virtual Pet Game\",\"GAME CASUAL\"],[\"HappyFish\",\"GAME CASUAL\"],[\"Restaurant Story\\u2122\",\"GAME CASUAL\"],[\"Cooking Dash\",\"GAME CASUAL\"],[\"Gacha Studio (Anime Dress Up)\",\"GAME CASUAL\"],[\"Moy 5 - Virtual Pet Game\",\"GAME CASUAL\"],[\"LINE \\u65c5\\u904a\\u5927\\u4ea8\",\"GAME CASUAL\"],[\"Little Big City 2\",\"GAME CASUAL\"],[\"Mini Block Craft\",\"GAME CASUAL\"],[\"Kids Doodle - Color & Draw Free Game\",\"GAME CASUAL\"],[\"Toca Kitchen 2\",\"GAME EDUCATIONAL\"],[\"Toca Life World: Build stories & create your world\",\"GAME EDUCATIONAL\"],[\"Cooking Mama: Let's cook!\",\"GAME EDUCATIONAL\"],[\"\\u77e5\\u8b58\\u738b\",\"GAME EDUCATIONAL\"],[\"Animal Jam\",\"GAME EDUCATIONAL\"],[\"My Town: Home Doll house - Family Playhouse\",\"GAME EDUCATIONAL\"],[\"Mandala Coloring Pages\",\"GAME EDUCATIONAL\"],[\"Baby Panda's Supermarket\",\"GAME EDUCATIONAL\"],[\"Masha and the Bear. Educational Games\",\"GAME EDUCATIONAL\"],[\"Pepi House: Happy Family\",\"GAME EDUCATIONAL\"],[\"Pepi Wonder World\",\"GAME EDUCATIONAL\"],[\"Math Games, Learn Add, Subtract, Multiply & Divide\",\"GAME EDUCATIONAL\"],[\"LEGO\\u00ae DUPLO\\u00ae Train\",\"GAME EDUCATIONAL\"],[\"Baby Panda World\",\"GAME EDUCATIONAL\"],[\"Pepi Super Stores: Fun & Games\",\"GAME EDUCATIONAL\"],[\"Little Panda's Restaurant\",\"GAME EDUCATIONAL\"],[\"Baby Panda Care\",\"GAME EDUCATIONAL\"],[\"\\u8d85\\u7d1a\\u55ae\\u5b57\\u738b - \\u82f1\\u6aa2\\u3001\\u591a\\u76ca\\u3001\\u6258\\u798f \\u8f15\\u9b06\\u5b78\",\"GAME EDUCATIONAL\"],[\"Smolsies - My Cute Pet House\",\"GAME EDUCATIONAL\"],[\"Unicorn Chef: Cooking Games for Girls\",\"GAME EDUCATIONAL\"],[\"Pepi Hospital: Learn & Care\",\"GAME EDUCATIONAL\"],[\"Baby Panda's Fashion Dress Up Game\",\"GAME EDUCATIONAL\"],[\"Baby Panda's School Bus - Let's Drive!\",\"GAME EDUCATIONAL\"],[\"My Town : Police Station. Policeman Game for Kids\",\"GAME EDUCATIONAL\"],[\"Baby Panda\\u2019s Ice Cream Shop\",\"GAME EDUCATIONAL\"],[\"Meow Meow Star Acres\",\"GAME EDUCATIONAL\"],[\"Truck games for kids - build a house, car wash\",\"GAME EDUCATIONAL\"],[\"Baby Games for 2,3,4 year old toddlers\",\"GAME EDUCATIONAL\"],[\"Supermarket: Shopping Games for Kids\",\"GAME EDUCATIONAL\"],[\"Coloring & Learn\",\"GAME EDUCATIONAL\"],[\"Little Panda's Chinese Recipes\",\"GAME EDUCATIONAL\"],[\"Fluvsies - A Fluff to Luv\",\"GAME EDUCATIONAL\"],[\"\\u0645\\u0646 \\u0633\\u064a\\u0631\\u0628\\u062d \\u0627\\u0644\\u0645\\u0644\\u064a\\u0648\\u0646 \\u0627\\u0644\\u0645\\u0648\\u0633\\u0648\\u0639\\u0629\",\"GAME EDUCATIONAL\"],[\"Little Panda Policeman\",\"GAME EDUCATIONAL\"],[\"Do Not Disturb! Get Prankster in a Hilarious Game\",\"GAME EDUCATIONAL\"],[\"Make-Up Me: Superstar\",\"GAME EDUCATIONAL\"],[\"My Town: Play & Discover - City Builder Game\",\"GAME EDUCATIONAL\"],[\"Left vs Right: Brain Games for Brain Training\",\"GAME EDUCATIONAL\"],[\"Multiplication Table Kids Math\",\"GAME EDUCATIONAL\"],[\"MentalUP - Learning Games & Brain Games\",\"GAME EDUCATIONAL\"],[\"Math Exercises for the brain, Math Riddles, Puzzle\",\"GAME EDUCATIONAL\"],[\"Bee Network:Phone-based Digital Currency\",\"GAME EDUCATIONAL\"],[\"Make-Up Me\",\"GAME EDUCATIONAL\"],[\"Little Panda\\u2019s Summer: Ice Cream Bars\",\"GAME EDUCATIONAL\"],[\"LEGO\\u00ae DUPLO\\u00ae Town\",\"GAME EDUCATIONAL\"],[\"Bini Super ABC! Preschool Learning Games for Kids!\",\"GAME EDUCATIONAL\"],[\"My Town : Fashion Show\",\"GAME EDUCATIONAL\"],[\"Little Panda: Princess Makeup\",\"GAME EDUCATIONAL\"],[\"Little Panda's Farm Story\",\"GAME EDUCATIONAL\"],[\"Little Panda: Princess Dress Up\",\"GAME EDUCATIONAL\"],[\"\\u0421\\u043a\\u0430\\u0437\\u043a\\u0438 \\u0438 \\u0440\\u0430\\u0437\\u0432\\u0438\\u0432\\u0430\\u044e\\u0449\\u0438\\u0435 \\u0438\\u0433\\u0440\\u044b \\u0434\\u043b\\u044f \\u0434\\u0435\\u0442\\u0435\\u0439, \\u043c\\u0430\\u043b\\u044b\\u0448\\u0435\\u0439\",\"GAME EDUCATIONAL\"],[\"Reaction training\",\"GAME EDUCATIONAL\"],[\"Baby Panda's Carnival - Christmas Amusement Park\",\"GAME EDUCATIONAL\"],[\"\\u307b\\u3057\\u306e\\u5cf6\\u306e\\u306b\\u3083\\u3093\\u3053\",\"GAME EDUCATIONAL\"],[\"Jungle Animal Hair Salon - Styling Game for Kids\",\"GAME EDUCATIONAL\"],[\"Beauty Hair Salon: Fashion SPA\",\"GAME EDUCATIONAL\"],[\"Monster Trucks Game for Kids 2\",\"GAME EDUCATIONAL\"],[\"Tailor Kids\",\"GAME EDUCATIONAL\"],[\"Snow Cone Maker - Frozen Foods\",\"GAME EDUCATIONAL\"],[\"My Town : Beauty Pageant - Dress Up Game for Girls\",\"GAME EDUCATIONAL\"],[\"Memory Games: Brain Training\",\"GAME EDUCATIONAL\"],[\"Moonzy. Kids Mini-Games\",\"GAME EDUCATIONAL\"],[\"Urban City Stories\",\"GAME EDUCATIONAL\"],[\"Little Panda's Candy Shop\",\"GAME EDUCATIONAL\"],[\"Kids Animals Jigsaw Puzzles \\u2764\\ufe0f\\ud83e\\udd84\",\"GAME EDUCATIONAL\"],[\"Girls Hair Salon - Hairstyle makeover kids games\",\"GAME EDUCATIONAL\"],[\"Kids Educational Game 5\",\"GAME EDUCATIONAL\"],[\"Bini Drawing for Kids! Learning Games for Toddlers\",\"GAME EDUCATIONAL\"],[\"Trip to the zoo for kids\",\"GAME EDUCATIONAL\"],[\"Ice Queen's Beauty SPA Salon\",\"GAME EDUCATIONAL\"],[\"Math Games\",\"GAME EDUCATIONAL\"],[\"Bucha h\\u1ecdc ti\\u1ebfng Anh - T\\u1eeb v\\u1ef1ng, Giao ti\\u1ebfp, Ng\\u1eef ph\\u00e1p\",\"GAME EDUCATIONAL\"],[\"Cinderella - Story Games and Puzzles\",\"GAME EDUCATIONAL\"],[\"Baby care\",\"GAME EDUCATIONAL\"],[\"ABC Kids - Tracing & Phonics\",\"GAME EDUCATIONAL\"],[\"My Town : Best Friends' House games for kids\",\"GAME EDUCATIONAL\"],[\"Princess Coloring Book Glitter & Girls Dress Up\",\"GAME EDUCATIONAL\"],[\"Baby Panda's Town: Life\",\"GAME EDUCATIONAL\"],[\"Libii Dentist\",\"GAME EDUCATIONAL\"],[\"Baby Panda\\u2019s Summer: Caf\\u00e9\",\"GAME EDUCATIONAL\"],[\"Halloween Makeup Me\",\"GAME EDUCATIONAL\"],[\"Baby Panda\\u2019s Color Mixing Studio\",\"GAME EDUCATIONAL\"],[\"My Baby Panda Chef\",\"GAME EDUCATIONAL\"],[\"Sweet Baby Girl Cleanup 5 - Messy House Makeover\",\"GAME EDUCATIONAL\"],[\"Airport Professions: Fascinating games\",\"GAME EDUCATIONAL\"],[\"Colors for Kids, Toddlers, Babies - Learning Game\",\"GAME EDUCATIONAL\"],[\"Masha and the Bear: Good Night!\",\"GAME EDUCATIONAL\"],[\"Animals Farm For Kids\",\"GAME EDUCATIONAL\"],[\"My Little Princess Castle - Playhouse & Girls Game\",\"GAME EDUCATIONAL\"],[\"\\u0410\\u043d\\u0433\\u043b\\u0438\\u0439\\u0441\\u043a\\u0438\\u0439 \\u0434\\u043b\\u044f \\u041d\\u0430\\u0447\\u0438\\u043d\\u0430\\u044e\\u0449\\u0438\\u0445: LinDuo HD\",\"GAME EDUCATIONAL\"],[\"Central Hospital Stories\",\"GAME EDUCATIONAL\"],[\"Little Panda\\u2019s Space Kitchen - Kids Cooking\",\"GAME EDUCATIONAL\"],[\"Fairy Tales ~ Children\\u2019s Books, Stories and Games\",\"GAME EDUCATIONAL\"],[\"Funny Food educational games for kids toddlers\",\"GAME EDUCATIONAL\"],[\"Baby Phone - Games for Family, Parents and Babies\",\"GAME EDUCATIONAL\"],[\"Madagascar Surf n' Slides Free\",\"GAME EDUCATIONAL\"],[\"My Town : Grandparents Play home Fun Life Game\",\"GAME EDUCATIONAL\"],[\"Baby Panda's Town: My Dream\",\"GAME EDUCATIONAL\"],[\"Sweet Baby Girl Summer Fun 2 - Sunny Makeover Game\",\"GAME EDUCATIONAL\"],[\"Sweet Baby Girl Daycare\",\"GAME EDUCATIONAL\"],[\"Tiles Hop: EDM Rush!\",\"GAME MUSIC\"],[\"Magic Tiles 3\",\"GAME MUSIC\"],[\"My Singing Monsters\",\"GAME MUSIC\"],[\"Piano Free - Keyboard with Magic Tiles Music Games\",\"GAME MUSIC\"],[\"Just Dance Now\",\"GAME MUSIC\"],[\"Dream Piano - Music Game\",\"GAME MUSIC\"],[\"Rock Hero\",\"GAME MUSIC\"],[\"Dancing Road: Color Ball Run!\",\"GAME MUSIC\"],[\"Real Guitar Free - Chords, Tabs & Simulator Games\",\"GAME MUSIC\"],[\"Cytus\",\"GAME MUSIC\"],[\"DEEMO\",\"GAME MUSIC\"],[\"SongPop\",\"GAME MUSIC\"],[\"Piano Kids - Music & Songs\",\"GAME MUSIC\"],[\"Piano Music Go 2020: EDM Piano Games\",\"GAME MUSIC\"],[\"Music Hero - Rhythm Beat Tap\",\"GAME MUSIC\"],[\"Real Piano Teacher\",\"GAME MUSIC\"],[\"Beat Blade: Dash Dance\",\"GAME MUSIC\"],[\"Beat Fire - EDM Music & Gun Sounds\",\"GAME MUSIC\"],[\"Sonic Cat - Slash the Beats\",\"GAME MUSIC\"],[\"Drum Set Music Games & Drums Kit Simulator\",\"GAME MUSIC\"],[\"BEAT MP3 - Rhythm Game\",\"GAME MUSIC\"],[\"Dancing Ballz: Magic Dance Line Tiles Game\",\"GAME MUSIC\"],[\"Guitar Band Battle\",\"GAME MUSIC\"],[\"AVATAR MUSIK - Music and Dance Game\",\"GAME MUSIC\"],[\"Music Racer\",\"GAME MUSIC\"],[\"BEAT MP3 2.0 - Rhythm Game\",\"GAME MUSIC\"],[\"SuperStar SMTOWN\",\"GAME MUSIC\"],[\"Dot n Beat - Magic Music Game\",\"GAME MUSIC\"],[\"Piano Games - Free Music Piano Challenge 2020\",\"GAME MUSIC\"],[\"Hop Ball 3D: Dancing Ball on the Music Tiles\",\"GAME MUSIC\"],[\"Beat Craft\",\"GAME MUSIC\"],[\"Give It Up! - Jump to the Beat, Follow the Music!\",\"GAME MUSIC\"],[\"One More Line\",\"GAME MUSIC\"],[\"Tap Tap Music-Pop Songs\",\"GAME MUSIC\"],[\"SongPop 2 - Guess The Song\",\"GAME MUSIC\"],[\"My Singing Monsters: Dawn of Fire\",\"GAME MUSIC\"],[\"Smash Colors 3D - Free Beat Color Rhythm Ball Game\",\"GAME MUSIC\"],[\"\\u30d0\\u30f3\\u30c9\\u30ea\\uff01 \\u30ac\\u30fc\\u30eb\\u30ba\\u30d0\\u30f3\\u30c9\\u30d1\\u30fc\\u30c6\\u30a3\\uff01\",\"GAME MUSIC\"],[\"Real Piano\",\"GAME MUSIC\"],[\"Dot n Beat - Test your hand speed\",\"GAME MUSIC\"],[\"Piano Magic Tiles Hot song - Free Piano Game\",\"GAME MUSIC\"],[\"Rhythm Hive\",\"GAME MUSIC\"],[\"Helix Crush\",\"GAME MUSIC\"],[\"Piano Solo - Magic Dream tiles game 4\",\"GAME MUSIC\"],[\"Magic Twist: Twister Music Ball Game\",\"GAME MUSIC\"],[\"Cytus II\",\"GAME MUSIC\"],[\"Just Dance Controller\",\"GAME MUSIC\"],[\"VOEZ\",\"GAME MUSIC\"],[\"\\u30e9\\u30d6\\u30e9\\u30a4\\u30d6\\uff01\\u30b9\\u30af\\u30fc\\u30eb\\u30a2\\u30a4\\u30c9\\u30eb\\u30d5\\u30a7\\u30b9\\u30c6\\u30a3\\u30d0\\u30eb\\uff08\\u30b9\\u30af\\u30d5\\u30a7\\u30b9\\uff09 - \\u5927\\u4eba\\u6c17\\u30ea\\u30ba\\u30e0\\u30b2\\u30fc\\u30e0\",\"GAME MUSIC\"],[\"Au Mobile VTC \\u2013 Game nh\\u1ea3y Audition\",\"GAME MUSIC\"],[\"UniPad\",\"GAME MUSIC\"],[\"TunesHolic\",\"GAME MUSIC\"],[\"BanG Dream! Girls Band Party!\",\"GAME MUSIC\"],[\"Piano Game Classic - Challenge Music Song\",\"GAME MUSIC\"],[\"Drum set\",\"GAME MUSIC\"],[\"Piano Magic Tiles Pop Music 2\",\"GAME MUSIC\"],[\"Piano Master 2\",\"GAME MUSIC\"],[\"SuperStar JYPNATION\",\"GAME MUSIC\"],[\"Piano - Play & Learn Music\",\"GAME MUSIC\"],[\"Arcaea - New Dimension Rhythm Game\",\"GAME MUSIC\"],[\"Piano Games Mini: Music Instrument & Rhythm\",\"GAME MUSIC\"],[\"LIT killah: The Game\",\"GAME MUSIC\"],[\"Rock vs Guitar Legends 2017 HD\",\"GAME MUSIC\"],[\"Love Live! School idol festival - \\u97f3\\u6a02\\u7bc0\\u594f\\u904a\\u6232\",\"GAME MUSIC\"],[\"Beat Bop: Pop Star Clicker\",\"GAME MUSIC\"],[\"Don't Forget the Lyrics\",\"GAME MUSIC\"],[\"\\u30a2\\u30a4\\u30c9\\u30eb\\u30de\\u30b9\\u30bf\\u30fc \\u30b7\\u30f3\\u30c7\\u30ec\\u30e9\\u30ac\\u30fc\\u30eb\\u30ba \\u30b9\\u30bf\\u30fc\\u30e9\\u30a4\\u30c8\\u30b9\\u30c6\\u30fc\\u30b8\",\"GAME MUSIC\"],[\"6ix9ine Runner\",\"GAME MUSIC\"],[\"Drum kit (Drums) free\",\"GAME MUSIC\"],[\"Marshmello Music Dance\",\"GAME MUSIC\"],[\"Tebak Lagu Indonesia\",\"GAME MUSIC\"],[\"Lost in Harmony\",\"GAME MUSIC\"],[\"SHOW BY ROCK!![\\u723d\\u5feb\\u97f3\\u30b2\\u30fc \\u30b7\\u30e7\\u30a6\\u30d0\\u30a4\\u30ed\\u30c3\\u30af\\uff3d\",\"GAME MUSIC\"],[\"Beat Racer\",\"GAME MUSIC\"],[\"Real Piano Teacher 2\",\"GAME MUSIC\"],[\"AyoDance Mobile\",\"GAME MUSIC\"],[\"Piano Fire - EDM Music & New Rhythm\",\"GAME MUSIC\"],[\"Rock Hero 2\",\"GAME MUSIC\"],[\"Popscene (Music Industry Sim)\",\"GAME MUSIC\"],[\"Beat Jumper: EDM up!\",\"GAME MUSIC\"],[\"BeatEVO YG\",\"GAME MUSIC\"],[\"PianoTiles 3\",\"GAME MUSIC\"],[\"FaceDance Challenge!\",\"GAME MUSIC\"],[\"\\u30a2\\u30a4\\u30c9\\u30ea\\u30c3\\u30b7\\u30e5\\u30bb\\u30d6\\u30f3\",\"GAME MUSIC\"],[\"Opsu!(Beatmap player for Android)\",\"GAME MUSIC\"],[\"Mini Piano\",\"GAME MUSIC\"],[\"Au 2 - Chu\\u1ea9n Audition Mobile\",\"GAME MUSIC\"],[\"SuperStar YG\",\"GAME MUSIC\"],[\"YASUHATI / With your voice!\",\"GAME MUSIC\"],[\"AVATAR MUSIK INDONESIA - Social Dancing Game\",\"GAME MUSIC\"],[\"Happy Piano - Touch Music\",\"GAME MUSIC\"],[\"\\ub354\\ubba4\\uc9c0\\uc158\",\"GAME MUSIC\"],[\"Beat Shooter\",\"GAME MUSIC\"],[\"Color Hop 3D - Music Game\",\"GAME MUSIC\"],[\"Piano\",\"GAME MUSIC\"],[\"Viet Piano Tiles New 2020\",\"GAME MUSIC\"],[\"Anime Tiles: Piano Music\",\"GAME MUSIC\"],[\"Project: Muse\",\"GAME MUSIC\"],[\"Pink Piano\",\"GAME MUSIC\"],[\"Beat Blader 3D: Dash and Slash!\",\"GAME MUSIC\"],[\"Fishdom\",\"GAME PUZZLE\"],[\"Brain Out \\u2013 Can you pass it?\",\"GAME PUZZLE\"],[\"Toon Blast\",\"GAME PUZZLE\"],[\"Toy Blast\",\"GAME PUZZLE\"],[\"Cut the Rope FULL FREE\",\"GAME PUZZLE\"],[\"Bubble Witch 3 Saga\",\"GAME PUZZLE\"],[\"Cut the Rope 2\",\"GAME PUZZLE\"],[\"Where's My Water? 2\",\"GAME PUZZLE\"],[\"Empires & Puzzles: Epic Match 3\",\"GAME PUZZLE\"],[\"Pixel Art: Color by Number\",\"GAME PUZZLE\"],[\"Matchington Mansion\",\"GAME PUZZLE\"],[\"Disney Frozen Free Fall - Play Frozen Puzzle Games\",\"GAME PUZZLE\"],[\"Sudoku.com - Free Sudoku\",\"GAME PUZZLE\"],[\"\\u0636\\u0631\\u0628\\u0629 \\u0645\\u0639\\u0644\\u0645 - \\u0644\\u0639\\u0628\\u0629 \\u0627\\u0644\\u063a\\u0627\\u0632 \\u0645\\u0633\\u0644\\u064a\\u0629\",\"GAME PUZZLE\"],[\"Candy Crush Jelly Saga\",\"GAME PUZZLE\"],[\"Roll the Ball\\u00ae - slide puzzle\",\"GAME PUZZLE\"],[\"Block Puzzle Jewel\",\"GAME PUZZLE\"],[\"Flow Free\",\"GAME PUZZLE\"],[\"Sand Balls - Puzzle Game\",\"GAME PUZZLE\"],[\"2048 Number puzzle game\",\"GAME PUZZLE\"],[\"Escape Titanic\",\"GAME PUZZLE\"],[\"Bad Piggies\",\"GAME PUZZLE\"],[\"LINE\\uff1a\\u30c7\\u30a3\\u30ba\\u30cb\\u30fc \\u30c4\\u30e0\\u30c4\\u30e0\",\"GAME PUZZLE\"],[\"Manor Cafe\",\"GAME PUZZLE\"],[\"LINE Pokopang - POKOTA's puzzle swiping game!\",\"GAME PUZZLE\"],[\"Bubble Shooter: Panda Pop!\",\"GAME PUZZLE\"],[\"Merge Dragons!\",\"GAME PUZZLE\"],[\"Cut the Rope: Time Travel\",\"GAME PUZZLE\"],[\"Cookie Jam\\u2122 Match 3 Games | Connect 3 or More\",\"GAME PUZZLE\"],[\"Jellipop Match-Decorate your dream island\\uff01\",\"GAME PUZZLE\"],[\"Lily\\u2019s Garden\",\"GAME PUZZLE\"],[\"\\uc560\\ub2c8\\ud3212\",\"GAME PUZZLE\"],[\"Indy Cat for VK\",\"GAME PUZZLE\"],[\"Jigsaw Puzzles - Puzzle Game\",\"GAME PUZZLE\"],[\"Can You Escape\",\"GAME PUZZLE\"],[\"Happy Glass\",\"GAME PUZZLE\"],[\"Tower of Saviors\",\"GAME PUZZLE\"],[\"Shoot Bubble Deluxe\",\"GAME PUZZLE\"],[\"Two Dots\",\"GAME PUZZLE\"],[\"Pirate Treasures - Gems Puzzle\",\"GAME PUZZLE\"],[\"Bad Piggies HD\",\"GAME PUZZLE\"],[\"Doodle Alchemy\",\"GAME PUZZLE\"],[\"Escape game : 50 rooms 1\",\"GAME PUZZLE\"],[\"\\u221e Infinity Loop \\u00ae\",\"GAME PUZZLE\"],[\"Jigty Jigsaw Puzzles\",\"GAME PUZZLE\"],[\"Unblock Me FREE\",\"GAME PUZZLE\"],[\"Bubble Blast 2\",\"GAME PUZZLE\"],[\"Mouse\",\"GAME PUZZLE\"],[\"Unblock Ball - Block Puzzle\",\"GAME PUZZLE\"],[\"Inside Out Thought Bubbles\",\"GAME PUZZLE\"],[\"MonsterBusters: Match 3 Puzzle\",\"GAME PUZZLE\"],[\"Love Balls\",\"GAME PUZZLE\"],[\"LINE Bubble 2\",\"GAME PUZZLE\"],[\"Mr Bullet - Spy Puzzles\",\"GAME PUZZLE\"],[\"Sudoku - Free Classic Sudoku Puzzles\",\"GAME PUZZLE\"],[\"Magic Jigsaw Puzzles - Puzzle Games\",\"GAME PUZZLE\"],[\"Mazes & More\",\"GAME PUZZLE\"],[\"Brain Dots\",\"GAME PUZZLE\"],[\"Matches Puzzle Game\",\"GAME PUZZLE\"],[\"\\u30d1\\u30ba\\u30eb\\uff06\\u30c9\\u30e9\\u30b4\\u30f3\\u30ba(Puzzle & Dragons)\",\"GAME PUZZLE\"],[\"Sudoku\",\"GAME PUZZLE\"],[\"Marble Legend\",\"GAME PUZZLE\"],[\"Hello Stars\",\"GAME PUZZLE\"],[\"Wood Block Puzzle\",\"GAME PUZZLE\"],[\"Block! Hexa Puzzle\\u2122\",\"GAME PUZZLE\"],[\"Cut the Rope: Experiments\",\"GAME PUZZLE\"],[\"Easy Game - Brain Test and Tricky Mind Puzzles\",\"GAME PUZZLE\"],[\"Sweet Fruit Candy\",\"GAME PUZZLE\"],[\"Escape the Mansion\",\"GAME PUZZLE\"],[\"House Paint\",\"GAME PUZZLE\"],[\"Dig This!\",\"GAME PUZZLE\"],[\"Gummy Drop! Match to restore and build cities\",\"GAME PUZZLE\"],[\"Charm King\",\"GAME PUZZLE\"],[\"Maleficent Free Fall\",\"GAME PUZZLE\"],[\"Gemmy Lands: New Match 3 Games 2021 to Crush Gems\",\"GAME PUZZLE\"],[\"Find The Differences - The Detective\",\"GAME PUZZLE\"],[\"Brain It On! - Physics Puzzles\",\"GAME PUZZLE\"],[\"Harry Potter: Puzzles & Spells - Match-3 Magic\",\"GAME PUZZLE\"],[\"Troll Face Quest: Video Memes - Brain Game\",\"GAME PUZZLE\"],[\"Disney Emoji Blitz\",\"GAME PUZZLE\"],[\"Nonogram.com - Picture cross number puzzle\",\"GAME PUZZLE\"],[\"Cut the Rope: Magic\",\"GAME PUZZLE\"],[\"Energy: Anti Stress Loops\",\"GAME PUZZLE\"],[\"1010! Block Puzzle Game\",\"GAME PUZZLE\"],[\"Sudoku\",\"GAME PUZZLE\"],[\"That Level Again\",\"GAME PUZZLE\"],[\"Crazy Kitchen: Match 3 Puzzles\",\"GAME PUZZLE\"],[\"Wood Block Puzzle - Free Classic Block Puzzle Game\",\"GAME PUZZLE\"],[\"Train Taxi\",\"GAME PUZZLE\"],[\"Tebak Gambar\",\"GAME PUZZLE\"],[\"Build a Bridge!\",\"GAME PUZZLE\"],[\"PixWords\\u2122\",\"GAME PUZZLE\"],[\"Skillz - Logic Brain Games\",\"GAME PUZZLE\"],[\"Slugterra: Slug it Out 2\",\"GAME PUZZLE\"],[\"LINE PokoPoko - Play with POKOTA! Free puzzler!\",\"GAME PUZZLE\"],[\"Block Puzzle & Conquer\",\"GAME PUZZLE\"],[\"Blockudoku\\u00ae - Block Puzzle Game\",\"GAME PUZZLE\"],[\"Rescue Cut - Rope Puzzle\",\"GAME PUZZLE\"],[\"\\ub514\\uc988\\ub2c8 \\ud2c0\\ub9b0\\uadf8\\ub9bc\\ucc3e\\uae30\",\"GAME PUZZLE\"],[\"How to Loot - Pin Pull & Hero Rescue\",\"GAME PUZZLE\"],[\"Hill Climb Racing\",\"GAME RACING\"],[\"Asphalt 8 Racing Game - Drive, Drift at Real Speed\",\"GAME RACING\"],[\"Traffic Rider\",\"GAME RACING\"],[\"Real Racing 3\",\"GAME RACING\"],[\"Traffic Racer\",\"GAME RACING\"],[\"Dr. Driving\",\"GAME RACING\"],[\"Need for Speed\\u2122 No Limits\",\"GAME RACING\"],[\"CSR Racing 2 \\u2013 Free Car Racing Game\",\"GAME RACING\"],[\"Hill Climb Racing 2\",\"GAME RACING\"],[\"Angry Birds Go!\",\"GAME RACING\"],[\"Extreme Car Driving Simulator\",\"GAME RACING\"],[\"Bike Race Free - Top Motorcycle Racing Games\",\"GAME RACING\"],[\"Drag Racing\",\"GAME RACING\"],[\"CSR Racing\",\"GAME RACING\"],[\"Beach Buggy Racing\",\"GAME RACING\"],[\"Fun Race 3D\",\"GAME RACING\"],[\"Asphalt 9: Legends - Epic Car Action Racing Game\",\"GAME RACING\"],[\"Fast Racing 3D\",\"GAME RACING\"],[\"Earn to Die 2\",\"GAME RACING\"],[\"GT Racing 2: The Real Car Exp\",\"GAME RACING\"],[\"Asphalt Nitro\",\"GAME RACING\"],[\"City Racing 3D\",\"GAME RACING\"],[\"Nitro Nation Drag & Drift Car Racing\",\"GAME RACING\"],[\"Racing Fever\",\"GAME RACING\"],[\"Drive Ahead!\",\"GAME RACING\"],[\"Street Racing 3D\",\"GAME RACING\"],[\"Drift Max Pro - Car Drifting Game with Racing Cars\",\"GAME RACING\"],[\"Driving School 2016\",\"GAME RACING\"],[\"Racing in Car\",\"GAME RACING\"],[\"Drift \\u0647\\u062c\\u0648\\u0644\\u0629\",\"GAME RACING\"],[\"Trials Frontier\",\"GAME RACING\"],[\"Bike Racing 3D\",\"GAME RACING\"],[\"CarX Drift Racing\",\"GAME RACING\"],[\"CSR Classics\",\"GAME RACING\"],[\"BMX Boy\",\"GAME RACING\"],[\"Racing Moto\",\"GAME RACING\"],[\"Demolition Derby 2\",\"GAME RACING\"],[\"Top Speed: Drag & Fast Racing\",\"GAME RACING\"],[\"Turbo Stars\",\"GAME RACING\"],[\"Real Bike Racing\",\"GAME RACING\"],[\"Trial Xtreme 4: Extreme Bike Racing Champions\",\"GAME RACING\"],[\"CarX Highway Racing\",\"GAME RACING\"],[\"Dr. Parking 4\",\"GAME RACING\"],[\"Moto Rider GO: Highway Traffic\",\"GAME RACING\"],[\"Uphill Rush Water Park Racing\",\"GAME RACING\"],[\"Dr. Driving 2\",\"GAME RACING\"],[\"Racing in Car 2\",\"GAME RACING\"],[\"Asphalt Xtreme: Rally Racing\",\"GAME RACING\"],[\"Beach Buggy Blitz\",\"GAME RACING\"],[\"Turbo Driving Racing 3D\",\"GAME RACING\"],[\"City Racing Lite\",\"GAME RACING\"],[\"Driving School 2017\",\"GAME RACING\"],[\"Earn to Die Lite\",\"GAME RACING\"],[\"MotoGP Racing '20\",\"GAME RACING\"],[\"Rally Racer Dirt\",\"GAME RACING\"],[\"Garena Speed Drifters\",\"GAME RACING\"],[\"School Driving 3D\",\"GAME RACING\"],[\"Real Drift Car Racing Lite\",\"GAME RACING\"],[\"Rally Fury - Extreme Racing\",\"GAME RACING\"],[\"F1 Manager\",\"GAME RACING\"],[\"Ultimate Car Driving Simulator\",\"GAME RACING\"],[\"MadOut2 BigCityOnline\",\"GAME RACING\"],[\"Crazy for Speed\",\"GAME RACING\"],[\"Mad Skills Motocross 2\",\"GAME RACING\"],[\"Drive for Speed: Simulator\",\"GAME RACING\"],[\"Real City Car Driver\",\"GAME RACING\"],[\"Bike Mayhem Free\",\"GAME RACING\"],[\"Highway Rider Motorcycle Racer\",\"GAME RACING\"],[\"Rebel Racing\",\"GAME RACING\"],[\"Blocky Roads\",\"GAME RACING\"],[\"Road Riot\",\"GAME RACING\"],[\"Crash of Cars\",\"GAME RACING\"],[\"Real Racing 3\",\"GAME RACING\"],[\"Derby Destruction Simulator\",\"GAME RACING\"],[\"SUP Multiplayer Racing\",\"GAME RACING\"],[\"Beach Buggy Racing 2\",\"GAME RACING\"],[\"Boomerang Make and Race - Scooby-Doo Racing Game\",\"GAME RACING\"],[\"KartRider Rush+\",\"GAME RACING\"],[\"Offroad Legends - Monster Truck Trials\",\"GAME RACING\"],[\"Moto X3M Bike Race Game\",\"GAME RACING\"],[\"Dubai Drift 2\",\"GAME RACING\"],[\"Traffic Tour\",\"GAME RACING\"],[\"Moto Wheelie\",\"GAME RACING\"],[\"Mountain Climb 4x4 : Offroad Car Drive\",\"GAME RACING\"],[\"Zombie Squad\",\"GAME RACING\"],[\"Moto Racer 3D\",\"GAME RACING\"],[\"Toy Truck Rally 3D\",\"GAME RACING\"],[\"Crazy for Speed 2\",\"GAME RACING\"],[\"Truck Driver Cargo\",\"GAME RACING\"],[\"Top Drives \\u2013 Car Cards Racing\",\"GAME RACING\"],[\"Smash Cops Heat\",\"GAME RACING\"],[\"Race the Traffic\",\"GAME RACING\"],[\"CarX Drift Racing 2\",\"GAME RACING\"],[\"Racing Limits\",\"GAME RACING\"],[\"Smash Bandits Racing\",\"GAME RACING\"],[\"\\ud83d\\ude93\\ud83d\\udea6Car Driving School Simulator \\ud83d\\ude95\\ud83d\\udeb8\",\"GAME RACING\"],[\"Redline Rush: Police Chase Racing\",\"GAME RACING\"],[\"Monster Truck Destruction\\u2122\",\"GAME RACING\"],[\"Stickman Downhill Motocross\",\"GAME RACING\"],[\"MMX Hill Dash\",\"GAME RACING\"],[\"Shadow Fight 3 - RPG fighting game\",\"GAME ROLE PLAYING\"],[\"AFK Arena\",\"GAME ROLE PLAYING\"],[\"Avakin Life - 3D Virtual World\",\"GAME ROLE PLAYING\"],[\"MARVEL Future Fight\",\"GAME ROLE PLAYING\"],[\"Angry Birds Epic RPG\",\"GAME ROLE PLAYING\"],[\"Flight Pilot Simulator 3D Free\",\"GAME ROLE PLAYING\"],[\"Eternium\",\"GAME ROLE PLAYING\"],[\"Summoners War\",\"GAME ROLE PLAYING\"],[\"Star Wars\\u2122: Galaxy of Heroes\",\"GAME ROLE PLAYING\"],[\"\\ubaac\\uc2a4\\ud130 \\uae38\\ub4e4\\uc774\\uae30\",\"GAME ROLE PLAYING\"],[\"Darkness Rises\",\"GAME ROLE PLAYING\"],[\"Hustle Castle: Medieval games in the kingdom\",\"GAME ROLE PLAYING\"],[\"Tap Titans\",\"GAME ROLE PLAYING\"],[\"RAID: Shadow Legends\",\"GAME ROLE PLAYING\"],[\"MovieStarPlanet\",\"GAME ROLE PLAYING\"],[\"Hero Wars \\u2013 Hero Fantasy Multiplayer Battles\",\"GAME ROLE PLAYING\"],[\"Magic Rush: Heroes\",\"GAME ROLE PLAYING\"],[\"\\uc138\\ube10\\ub098\\uc774\\uce20\",\"GAME ROLE PLAYING\"],[\"Idle Heroes\",\"GAME ROLE PLAYING\"],[\"RPG Toram Online - MMORPG\",\"GAME ROLE PLAYING\"],[\"Shakes and Fidget\",\"GAME ROLE PLAYING\"],[\"Kritika: The White Knights\",\"GAME ROLE PLAYING\"],[\"Tap Titans 2: Heroes Attack Titans. Clicker on!\",\"GAME ROLE PLAYING\"],[\"FINAL FANTASY BRAVE EXVIUS\",\"GAME ROLE PLAYING\"],[\"Dungeon Hunter 5 \\u2013 Action RPG\",\"GAME ROLE PLAYING\"],[\"The Wolf\",\"GAME ROLE PLAYING\"],[\"Brave Frontier\",\"GAME ROLE PLAYING\"],[\"ONE PIECE TREASURE CRUISE\",\"GAME ROLE PLAYING\"],[\"School of Dragons\",\"GAME ROLE PLAYING\"],[\"Super Stylist - Dress Up & Style Fashion Guru\",\"GAME ROLE PLAYING\"],[\"Battle Camp - Monster Catching\",\"GAME ROLE PLAYING\"],[\"Mobile Legends: Adventure\",\"GAME ROLE PLAYING\"],[\"The Walking Dead: Road to Survival\",\"GAME ROLE PLAYING\"],[\"International Fashion Stylist - Dress Up Studio\",\"GAME ROLE PLAYING\"],[\"My Candy Love - Episode / Otome game\",\"GAME ROLE PLAYING\"],[\"Day R Survival \\u2013 Apocalypse, Lone Survivor and RPG\",\"GAME ROLE PLAYING\"],[\"Don't get fired!\",\"GAME ROLE PLAYING\"],[\"Dragon Village\",\"GAME ROLE PLAYING\"],[\"Inotia 4\",\"GAME ROLE PLAYING\"],[\"LifeAfter\",\"GAME ROLE PLAYING\"],[\"MARVEL Strike Force - Squad RPG\",\"GAME ROLE PLAYING\"],[\"Age of Warring Empire\",\"GAME ROLE PLAYING\"],[\"\\ub808\\uc774\\ube10 : LEGION\",\"GAME ROLE PLAYING\"],[\"Crusaders Quest\",\"GAME ROLE PLAYING\"],[\"Galaxy Legend - Cosmic Conquest Sci-Fi Game\",\"GAME ROLE PLAYING\"],[\"Game of Sultans\",\"GAME ROLE PLAYING\"],[\"School of Chaos Online MMORPG\",\"GAME ROLE PLAYING\"],[\"Operate Now: Hospital - Surgery Simulator Game\",\"GAME ROLE PLAYING\"],[\"Heroes Charge\",\"GAME ROLE PLAYING\"],[\"Sky: Children of the Light\",\"GAME ROLE PLAYING\"],[\"My Bakery Empire - Bake, Decorate & Serve Cakes\",\"GAME ROLE PLAYING\"],[\"Ninja Turtles: Legends\",\"GAME ROLE PLAYING\"],[\"Order & Chaos Online 3D MMORPG\",\"GAME ROLE PLAYING\"],[\"Grim Soul: Dark Fantasy Survival\",\"GAME ROLE PLAYING\"],[\"Gachaverse (RPG & Anime Dress Up)\",\"GAME ROLE PLAYING\"],[\"Gymnastics Superstar - Spin your way to gold!\",\"GAME ROLE PLAYING\"],[\"Angry Birds Evolution 2021\",\"GAME ROLE PLAYING\"],[\"AVABEL ONLINE [Action MMORPG]\",\"GAME ROLE PLAYING\"],[\"Seven Knights\",\"GAME ROLE PLAYING\"],[\"The Seven Deadly Sins: Grand Cross\",\"GAME ROLE PLAYING\"],[\"DC Legends: Fight Superheroes\",\"GAME ROLE PLAYING\"],[\"Love Nikki-Dress UP Queen\",\"GAME ROLE PLAYING\"],[\"King's Throne: Game of Conquest\",\"GAME ROLE PLAYING\"],[\"ONE PIECE \\u30c8\\u30ec\\u30b8\\u30e3\\u30fc\\u30af\\u30eb\\u30fc\\u30ba\",\"GAME ROLE PLAYING\"],[\"Monster Super League\",\"GAME ROLE PLAYING\"],[\"Magic Rampage\",\"GAME ROLE PLAYING\"],[\"Monster High\\u2122 Beauty Shop: Fangtastic Fashion Game\",\"GAME ROLE PLAYING\"],[\"Arcane Legends MMO-Action RPG\",\"GAME ROLE PLAYING\"],[\"BLOCK STORY\",\"GAME ROLE PLAYING\"],[\"\\u30b0\\u30e9\\u30f3\\u30d6\\u30eb\\u30fc\\u30d5\\u30a1\\u30f3\\u30bf\\u30b8\\u30fc\",\"GAME ROLE PLAYING\"],[\"Age of Magic: Turn-Based Magic RPG & Strategy Game\",\"GAME ROLE PLAYING\"],[\"Vampire's Fall: Origins RPG\",\"GAME ROLE PLAYING\"],[\"Pocket Troops: Strategy RPG\",\"GAME ROLE PLAYING\"],[\"Pok\\u00e9mon Masters EX\",\"GAME ROLE PLAYING\"],[\"ZENONIA\\u00ae 5\",\"GAME ROLE PLAYING\"],[\"Heroes of Camelot\",\"GAME ROLE PLAYING\"],[\"WWE Champions 2021\",\"GAME ROLE PLAYING\"],[\"Assassin's Creed Rebellion: Adventure RPG\",\"GAME ROLE PLAYING\"],[\"Guardian Hunter: SuperBrawlRPG [Online]\",\"GAME ROLE PLAYING\"],[\"Questland: Turn Based RPG\",\"GAME ROLE PLAYING\"],[\"Black Desert Mobile\",\"GAME ROLE PLAYING\"],[\"Fashion Empire - Dressup Boutique Sim\",\"GAME ROLE PLAYING\"],[\"Postknight\",\"GAME ROLE PLAYING\"],[\"MARVEL Puzzle Quest: Join the Super Hero Battle!\",\"GAME ROLE PLAYING\"],[\"Ragnarok M: Eternal Love\",\"GAME ROLE PLAYING\"],[\"Guardian Tales\",\"GAME ROLE PLAYING\"],[\"Ice Skating Ballerina - Dance Challenge Arena\",\"GAME ROLE PLAYING\"],[\"Shadow Fight Arena \\u2014 PvP Fighting game\",\"GAME ROLE PLAYING\"],[\"Wolvesville - Werewolf Online\",\"GAME ROLE PLAYING\"],[\"Guild of Heroes: Magic RPG | Wizard game\",\"GAME ROLE PLAYING\"],[\"Era of Celestials\",\"GAME ROLE PLAYING\"],[\"HonorBound RPG\",\"GAME ROLE PLAYING\"],[\"Hotel Hideaway: Virtual World\",\"GAME ROLE PLAYING\"],[\"\\u0645\\u0644\\u0643\\u0629 \\u0627\\u0644\\u0645\\u0648\\u0636\\u0629 | \\u0644\\u0639\\u0628\\u0629 \\u0642\\u0635\\u0635 \\u0648 \\u062a\\u0645\\u062b\\u064a\\u0644\",\"GAME ROLE PLAYING\"],[\"Nonstop Knight - Offline Idle RPG Clicker\",\"GAME ROLE PLAYING\"],[\"\\ub9ac\\ub2c8\\uc9c02 \\ub808\\ubcfc\\ub8e8\\uc158\",\"GAME ROLE PLAYING\"],[\"Cat Runner: Decorate Home\",\"GAME ROLE PLAYING\"],[\"FINAL FANTASY Record Keeper\",\"GAME ROLE PLAYING\"],[\"Decisions: Choose Your Interactive Love Story\",\"GAME ROLE PLAYING\"],[\"Epic Seven\",\"GAME ROLE PLAYING\"],[\"Dragon City\",\"GAME SIMULATION\"],[\"The Sims FreePlay\",\"GAME SIMULATION\"],[\"SimCity BuildIt\",\"GAME SIMULATION\"],[\"Episode - Choose Your Story\",\"GAME SIMULATION\"],[\"Plague Inc.\",\"GAME SIMULATION\"],[\"Fallout Shelter\",\"GAME SIMULATION\"],[\"Idle Miner Tycoon: Mine & Money Clicker Management\",\"GAME SIMULATION\"],[\"Dragon Mania Legends\",\"GAME SIMULATION\"],[\"The Tribez: Build a Village\",\"GAME SIMULATION\"],[\"Bus Simulator Indonesia\",\"GAME SIMULATION\"],[\"Jurassic World\\u2122: The Game\",\"GAME SIMULATION\"],[\"AdVenture Capitalist\",\"GAME SIMULATION\"],[\"Dragons: Rise of Berk\",\"GAME SIMULATION\"],[\"Bus Simulator: Original\",\"GAME SIMULATION\"],[\"Choices: Stories You Play\",\"GAME SIMULATION\"],[\"The Sims\\u2122 Mobile\",\"GAME SIMULATION\"],[\"LINE BROWN FARM\",\"GAME SIMULATION\"],[\"Fishing Clash\",\"GAME SIMULATION\"],[\"Cash, Inc. Money Clicker Game & Business Adventure\",\"GAME SIMULATION\"],[\"Vegas Crime Simulator\",\"GAME SIMULATION\"],[\"Hooked Inc: Fisher Tycoon\",\"GAME SIMULATION\"],[\"Scary Teacher 3D\",\"GAME SIMULATION\"],[\"SAKURA School Simulator\",\"GAME SIMULATION\"],[\"Euro Truck Evolution (Simulator)\",\"GAME SIMULATION\"],[\"My Story: Choose Your Own Path\",\"GAME SIMULATION\"],[\"Bus Simulator : Ultimate\",\"GAME SIMULATION\"],[\"Craftsman: Building Craft\",\"GAME SIMULATION\"],[\"Design Home: House Renovation\",\"GAME SIMULATION\"],[\"Egg, Inc.\",\"GAME SIMULATION\"],[\"The Sims\\u2122 FreePlay\",\"GAME SIMULATION\"],[\"House Flipper: Home Design, Interior Makeover Game\",\"GAME SIMULATION\"],[\"Block City Wars: Pixel Shooter with Battle Royale\",\"GAME SIMULATION\"],[\"Paradise Island\",\"GAME SIMULATION\"],[\"Kill Shot\",\"GAME SIMULATION\"],[\"Happy Mall Story: Sim Game\",\"GAME SIMULATION\"],[\"Clean Road\",\"GAME SIMULATION\"],[\"Cooking Diary\\u00ae: Best Tasty Restaurant & Cafe Game\",\"GAME SIMULATION\"],[\"Farming Simulator 14\",\"GAME SIMULATION\"],[\"Airport City\",\"GAME SIMULATION\"],[\"From Zero to Hero: Cityman\",\"GAME SIMULATION\"],[\"Car Parking Multiplayer\",\"GAME SIMULATION\"],[\"Klondike Adventures\",\"GAME SIMULATION\"],[\"Cafeland - World Kitchen\",\"GAME SIMULATION\"],[\"BitLife - Life Simulator\",\"GAME SIMULATION\"],[\"Zombie Castaways\",\"GAME SIMULATION\"],[\"Turbo Dismount\\u2122\",\"GAME SIMULATION\"],[\"Barbie Dreamhouse Adventures\",\"GAME SIMULATION\"],[\"Grand Truck Simulator\",\"GAME SIMULATION\"],[\"Truck Simulator 2018 : Europe\",\"GAME SIMULATION\"],[\"Animal Crossing: Pocket Camp\",\"GAME SIMULATION\"],[\"Flight Simulator: Fly Plane 3D\",\"GAME SIMULATION\"],[\"Let's Fish: Sport Fishing Games. Fishing Simulator\",\"GAME SIMULATION\"],[\"Romance Club - Stories I Play\",\"GAME SIMULATION\"],[\"WildCraft: Animal Sim Online 3D\",\"GAME SIMULATION\"],[\"Heavy Truck Simulator\",\"GAME SIMULATION\"],[\"Hotel Story: Resort Simulation\",\"GAME SIMULATION\"],[\"Clouds & Sheep\",\"GAME SIMULATION\"],[\"Weaphones\\u2122 Gun Sim Free Vol 1\",\"GAME SIMULATION\"],[\"2 3 4 Player Mini Games\",\"GAME SIMULATION\"],[\"Make More! \\u2013 Idle Manager\",\"GAME SIMULATION\"],[\"Coach Bus Simulator\",\"GAME SIMULATION\"],[\"School Girls Simulator\",\"GAME SIMULATION\"],[\"Disney Magic Kingdoms: Build Your Own Magical Park\",\"GAME SIMULATION\"],[\"Linda Brown: Interactive Story\",\"GAME SIMULATION\"],[\"High School Story\",\"GAME SIMULATION\"],[\"Drive and Park\",\"GAME SIMULATION\"],[\"Raft Survival: Ocean Nomad - Simulator\",\"GAME SIMULATION\"],[\"Bud Farm: Grass Roots\",\"GAME SIMULATION\"],[\"Hi Cooking\",\"GAME SIMULATION\"],[\"Fire Emblem Heroes\",\"GAME SIMULATION\"],[\"Car Simulator 2\",\"GAME SIMULATION\"],[\"Taxi Game\",\"GAME SIMULATION\"],[\"Public Transport Simulator\",\"GAME SIMULATION\"],[\"Stickman Dismounting\",\"GAME SIMULATION\"],[\"Pok\\u00e9mon: Magikarp Jump\",\"GAME SIMULATION\"],[\"World Truck Driving Simulator\",\"GAME SIMULATION\"],[\"Avatar Life - fun, love & games in virtual world!\",\"GAME SIMULATION\"],[\"Indian Train Simulator\",\"GAME SIMULATION\"],[\"Home Street \\u2013 Home Design Game\",\"GAME SIMULATION\"],[\"High School Simulator 2018\",\"GAME SIMULATION\"],[\"Battle Disc\",\"GAME SIMULATION\"],[\"Heavy Bus Simulator\",\"GAME SIMULATION\"],[\"\\u0421\\u0438\\u043c\\u0443\\u043b\\u044f\\u0442\\u043e\\u0440 \\u0436\\u0438\\u0437\\u043d\\u0438 \\u042e\\u0442\\u0443\\u0431\\u0435\\u0440\\u0430\",\"GAME SIMULATION\"],[\"Truck Simulator USA\",\"GAME SIMULATION\"],[\"Bio Inc - Plague and rebel doctors offline\",\"GAME SIMULATION\"],[\"Car Mechanic Simulator\",\"GAME SIMULATION\"],[\"IDBS Bus Simulator\",\"GAME SIMULATION\"],[\"ZooCraft: Animal Family Simulator\",\"GAME SIMULATION\"],[\"Woodturning\",\"GAME SIMULATION\"],[\"Mystic Messenger\",\"GAME SIMULATION\"],[\"Goat Simulator\",\"GAME SIMULATION\"],[\"Stickman Rope Hero\",\"GAME SIMULATION\"],[\"My Virtual Pet Shop: Take Care of Pets & Animals\\ud83d\\udc36\",\"GAME SIMULATION\"],[\"FarmVille 2: Tropic Escape\",\"GAME SIMULATION\"],[\"We Are Illuminati - Conspiracy Simulator Clicker\",\"GAME SIMULATION\"],[\"Dragons World\",\"GAME SIMULATION\"],[\"Tap Tap Fish AbyssRium - Healing Aquarium (+VR)\",\"GAME SIMULATION\"],[\"Terrarium: Garden Idle\",\"GAME SIMULATION\"],[\"\\ub808\\uc54c\\ud31c\",\"GAME SIMULATION\"],[\"Prison Empire Tycoon - Idle Game\",\"GAME SIMULATION\"],[\"Dream League Soccer\",\"GAME SPORTS\"],[\"FIFA Soccer\",\"GAME SPORTS\"],[\"Score! Hero\",\"GAME SPORTS\"],[\"eFootball PES 2021\",\"GAME SPORTS\"],[\"Top Eleven 2021: Be a Soccer Manager\",\"GAME SPORTS\"],[\"EA SPORTS UFC\\u00ae\",\"GAME SPORTS\"],[\"Bowling King\",\"GAME SPORTS\"],[\"World Cricket Championship 2 - WCC2\",\"GAME SPORTS\"],[\"8 Ball Pool\",\"GAME SPORTS\"],[\"Carrom Pool: Disc Game\",\"GAME SPORTS\"],[\"Dream League Soccer 2021\",\"GAME SPORTS\"],[\"Pooking - Billiards City\",\"GAME SPORTS\"],[\"NBA LIVE Mobile Basketball\",\"GAME SPORTS\"],[\"New Star Soccer\",\"GAME SPORTS\"],[\"Soccer Stars\",\"GAME SPORTS\"],[\"Golf Clash\",\"GAME SPORTS\"],[\"Online Soccer Manager (OSM) - 20/21\",\"GAME SPORTS\"],[\"World Soccer League\",\"GAME SPORTS\"],[\"Football Strike - Multiplayer Soccer\",\"GAME SPORTS\"],[\"Head Ball 2\",\"GAME SPORTS\"],[\"Fishing Hook\",\"GAME SPORTS\"],[\"zzSUNSET Last Season MM\",\"GAME SPORTS\"],[\"Head Soccer\",\"GAME SPORTS\"],[\"Pool Billiards Pro\",\"GAME SPORTS\"],[\"Ace Fishing: Wild Catch\",\"GAME SPORTS\"],[\"Wrestling Revolution 3D\",\"GAME SPORTS\"],[\"Basketball Stars\",\"GAME SPORTS\"],[\"Run Race 3D\",\"GAME SPORTS\"],[\"3D Bowling\",\"GAME SPORTS\"],[\"Real Cricket\\u2122 20\",\"GAME SPORTS\"],[\"3D Tennis\",\"GAME SPORTS\"],[\"Punch Boxing 3D\",\"GAME SPORTS\"],[\"Tennis Clash: 1v1 Free Online Sports Game\",\"GAME SPORTS\"],[\"PES CLUB MANAGER\",\"GAME SPORTS\"],[\"Shooting World - Gun Fire\",\"GAME SPORTS\"],[\"Archery Master 3D\",\"GAME SPORTS\"],[\"Head Football LaLiga 2021 - Skills Soccer Games\",\"GAME SPORTS\"],[\"Real Football\",\"GAME SPORTS\"],[\"Soccer Star 2021 Top Leagues: Play the SOCCER game\",\"GAME SPORTS\"],[\"Flip Diving\",\"GAME SPORTS\"],[\"Cartola FC\",\"GAME SPORTS\"],[\"World Cricket Championship Lt\",\"GAME SPORTS\"],[\"Kite Flying - Layang Layang\",\"GAME SPORTS\"],[\"Score! Match - PvP Soccer\",\"GAME SPORTS\"],[\"Final kick 2020 Best Online football penalty game\",\"GAME SPORTS\"],[\"Mini Golf King - Multiplayer Game\",\"GAME SPORTS\"],[\"Ultimate Soccer - Football\",\"GAME SPORTS\"],[\"Boxing Star\",\"GAME SPORTS\"],[\"Real Cricket\\u2122 17\",\"GAME SPORTS\"],[\"Stickman Soccer 2014\",\"GAME SPORTS\"],[\"Perfect Kick\",\"GAME SPORTS\"],[\"Touchgrind BMX\",\"GAME SPORTS\"],[\"Soccer Star 2020 World Football: World Star Cup\",\"GAME SPORTS\"],[\"WWE SuperCard - Multiplayer Collector Card Game\",\"GAME SPORTS\"],[\"Golf Battle\",\"GAME SPORTS\"],[\"Shooting Archery\",\"GAME SPORTS\"],[\"Winner Soccer Evo Elite\",\"GAME SPORTS\"],[\"Basketball Shoot\",\"GAME SPORTS\"],[\"Badminton League\",\"GAME SPORTS\"],[\"Real Boxing \\u2013\\u00a0Fighting Game\",\"GAME SPORTS\"],[\"EA SPORTS\\u2122 FIFA 21 Companion\",\"GAME SPORTS\"],[\"Stickman Soccer - Classic\",\"GAME SPORTS\"],[\"Soccer Cup 2021: Free Football Games\",\"GAME SPORTS\"],[\"Golf Star\\u2122\",\"GAME SPORTS\"],[\"Fanatical Football\",\"GAME SPORTS\"],[\"\\u26bdPuppet Soccer 2014 - Big Head Football \\ud83c\\udfc6\",\"GAME SPORTS\"],[\"Basketball Mania\",\"GAME SPORTS\"],[\"Toon Cup 2020 - Cartoon Network's Football Game\",\"GAME SPORTS\"],[\"Volleyball Champions 3D - Online Sports Game\",\"GAME SPORTS\"],[\"Basketball Battle\",\"GAME SPORTS\"],[\"Shooting King\",\"GAME SPORTS\"],[\"Homerun Battle 2\",\"GAME SPORTS\"],[\"Shooting Ball\",\"GAME SPORTS\"],[\"Hit & Knock down\",\"GAME SPORTS\"],[\"Golf King - World Tour\",\"GAME SPORTS\"],[\"Table Tennis 3D\",\"GAME SPORTS\"],[\"Soccer Super Star\",\"GAME SPORTS\"],[\"Fishing Paradise 3D Free+\",\"GAME SPORTS\"],[\"Top Football Manager 2021\",\"GAME SPORTS\"],[\"Sachin Saga Cricket Champions\",\"GAME SPORTS\"],[\"Wrestling Revolution\",\"GAME SPORTS\"],[\"3D Pool Ball\",\"GAME SPORTS\"],[\"Stickman Basketball\",\"GAME SPORTS\"],[\"Mike V: Skateboard Party\",\"GAME SPORTS\"],[\"Stick Cricket Premier League\",\"GAME SPORTS\"],[\"Golf Rival\",\"GAME SPORTS\"],[\"Virtual Table Tennis 3D\",\"GAME SPORTS\"],[\"Mobile Soccer League\",\"GAME SPORTS\"],[\"Badminton Legend\",\"GAME SPORTS\"],[\"Fishing Superstars\",\"GAME SPORTS\"],[\"Soccer Kicks (Football)\",\"GAME SPORTS\"],[\"Retro Bowl\",\"GAME SPORTS\"],[\"PBA\\u00ae Bowling Challenge\",\"GAME SPORTS\"],[\"Fanatical Basketball\",\"GAME SPORTS\"],[\"Baseball Superstars\\u00ae 2013\",\"GAME SPORTS\"],[\"Mini Football - Mobile Soccer\",\"GAME SPORTS\"],[\"Touchgrind Skate 2\",\"GAME SPORTS\"],[\"Archery Tournament\",\"GAME SPORTS\"],[\"Flip Master\",\"GAME SPORTS\"],[\"Shoot Goal \\u26bd\\ufe0f Football Stars Soccer Games 2021\",\"GAME SPORTS\"],[\"Clash of Clans\",\"GAME STRATEGY\"],[\"Clash Royale\",\"GAME STRATEGY\"],[\"Lords Mobile: Kingdom Wars\",\"GAME STRATEGY\"],[\"Boom Beach\",\"GAME STRATEGY\"],[\"Plants vs. Zombies FREE\",\"GAME STRATEGY\"],[\"Castle Clash: Guild Royale\",\"GAME STRATEGY\"],[\"Grow Empire: Rome\",\"GAME STRATEGY\"],[\"World of Tanks Blitz PVP MMO 3D tank game for free\",\"GAME STRATEGY\"],[\"Monster Legends: Breed & Merge Heroes Battle Arena\",\"GAME STRATEGY\"],[\"Bid Wars - Storage Auctions and Pawn Shop Tycoon\",\"GAME STRATEGY\"],[\"Clash of Kings : Newly Presented Knight System\",\"GAME STRATEGY\"],[\"Vlogger Go Viral - Tuber Simulator Games\",\"GAME STRATEGY\"],[\"Stick War: Legacy\",\"GAME STRATEGY\"],[\"State of Survival: Survive the Zombie Apocalypse\",\"GAME STRATEGY\"],[\"Clash of Lords 2: Guild Castle\",\"GAME STRATEGY\"],[\"Rise of Kingdoms: Lost Crusade\",\"GAME STRATEGY\"],[\"Last Shelter: Survival\",\"GAME STRATEGY\"],[\"Game of War - Fire Age\",\"GAME STRATEGY\"],[\"Megapolis: city building simulator. Urban strategy\",\"GAME STRATEGY\"],[\"Empire: Four Kingdoms | Medieval Strategy MMO\",\"GAME STRATEGY\"],[\"Castle Crush: Epic Battle - Free Strategy Games\",\"GAME STRATEGY\"],[\"King of Thieves\",\"GAME STRATEGY\"],[\"Throne Rush\",\"GAME STRATEGY\"],[\"Game of Warriors\",\"GAME STRATEGY\"],[\"League of Legends: Wild Rift\",\"GAME STRATEGY\"],[\"Forge of Empires: Build your City\",\"GAME STRATEGY\"],[\"Vikings: War of Clans\",\"GAME STRATEGY\"],[\"Bid Wars 2: Pawn Shop - Storage Auction Simulator\",\"GAME STRATEGY\"],[\"Mafia City\",\"GAME STRATEGY\"],[\"aa\",\"GAME STRATEGY\"],[\"Mobile Strike\",\"GAME STRATEGY\"],[\"Bloons TD Battles\",\"GAME STRATEGY\"],[\"King of Avalon: Dominion\",\"GAME STRATEGY\"],[\"Last Empire - War Z: Strategy\",\"GAME STRATEGY\"],[\"Rise of Empires: Ice and Fire\",\"GAME STRATEGY\"],[\"Alien Creeps TD - Epic tower defense\",\"GAME STRATEGY\"],[\"Vainglory\",\"GAME STRATEGY\"],[\"Jungle Heat: War of Clans\",\"GAME STRATEGY\"],[\"The Walking Dead No Man's Land\",\"GAME STRATEGY\"],[\"DomiNations\",\"GAME STRATEGY\"],[\"World at Arms\",\"GAME STRATEGY\"],[\"Art of War: Legions\",\"GAME STRATEGY\"],[\"Heroes of Order & Chaos\",\"GAME STRATEGY\"],[\"METAL SLUG DEFENSE\",\"GAME STRATEGY\"],[\"Army Men Strike - Military Strategy Simulator\",\"GAME STRATEGY\"],[\"Toilet Time: Boredom killer Fun Mini Games to Play\",\"GAME STRATEGY\"],[\"Castle Clash: Dominio del Reino\",\"GAME STRATEGY\"],[\"Kingdom Rush - Tower Defense Game\",\"GAME STRATEGY\"],[\"Final Fantasy XV: A New Empire\",\"GAME STRATEGY\"],[\"Dead Ahead: Zombie Warfare\",\"GAME STRATEGY\"],[\"Lapse: A Forgotten Future\",\"GAME STRATEGY\"],[\"Heroes Evolved\",\"GAME STRATEGY\"],[\"Dawn of Titans: War Strategy RPG\",\"GAME STRATEGY\"],[\"Toy Defence 2 \\u2014 Tower Defense game\",\"GAME STRATEGY\"],[\"2020: My Country\",\"GAME STRATEGY\"],[\"South Park: Phone Destroyer\\u2122 - Battle Card Game\",\"GAME STRATEGY\"],[\"Castle Clash: King's Castle DE\",\"GAME STRATEGY\"],[\"Clash of Lords: Guild Castle\",\"GAME STRATEGY\"],[\"Random Dice: PvP Defense\",\"GAME STRATEGY\"],[\"Empires and Allies\",\"GAME STRATEGY\"],[\"Mini Warriors\",\"GAME STRATEGY\"],[\"Guns of Glory: The Iron Mask\",\"GAME STRATEGY\"],[\"Invasion: Modern Empire\",\"GAME STRATEGY\"],[\"Tentacle Wars \\u2122\",\"GAME STRATEGY\"],[\"Realm Defense: Epic Tower Defense Strategy Game\",\"GAME STRATEGY\"],[\"Gods of Olympus\",\"GAME STRATEGY\"],[\"Survival Arena\",\"GAME STRATEGY\"],[\"Disney Heroes: Battle Mode\",\"GAME STRATEGY\"],[\"Reactor \\u2622\\ufe0f - Idle Manager- Energy Sector Tycoon\",\"GAME STRATEGY\"],[\"Deep Town: Mining Factory\",\"GAME STRATEGY\"],[\"Virtual City\\u00ae Playground: Building Tycoon\",\"GAME STRATEGY\"],[\"War and Order\",\"GAME STRATEGY\"],[\"Castle Clash : Guild Royale\",\"GAME STRATEGY\"],[\"Clash of Lords 2: \\u0411\\u0438\\u0442\\u0432\\u0430 \\u041b\\u0435\\u0433\\u0435\\u043d\\u0434\",\"GAME STRATEGY\"],[\"Empire Z: Endless War\",\"GAME STRATEGY\"],[\"Warlings: Armageddon\",\"GAME STRATEGY\"],[\"Warlings\",\"GAME STRATEGY\"],[\"Total Conquest\",\"GAME STRATEGY\"],[\"Chess Live\",\"GAME STRATEGY\"],[\"Age of Z Origins\",\"GAME STRATEGY\"],[\"\\u0627\\u0646\\u062a\\u0642\\u0627\\u0645 \\u0627\\u0644\\u0633\\u0644\\u0627\\u0637\\u064a\\u0646\",\"GAME STRATEGY\"],[\"Onmyoji Arena\",\"GAME STRATEGY\"],[\"Narcos: Cartel Wars. Build an Empire with Strategy\",\"GAME STRATEGY\"],[\"March of Empires: War of Lords\",\"GAME STRATEGY\"],[\"Chess Rush\",\"GAME STRATEGY\"],[\"War and Magic: Kingdom Reborn\",\"GAME STRATEGY\"],[\"Supermarket Mania Journey\",\"GAME STRATEGY\"],[\"War Heroes: Strategy Card Game for Free\",\"GAME STRATEGY\"],[\"TRANSFORMERS: Earth Wars\",\"GAME STRATEGY\"],[\"Art of War 3: PvP RTS modern warfare strategy game\",\"GAME STRATEGY\"],[\"Defender II\",\"GAME STRATEGY\"],[\"Stormfall: Rise of Balur\",\"GAME STRATEGY\"],[\"Evony: The King's Return\",\"GAME STRATEGY\"],[\"Grepolis - Divine Strategy MMO\",\"GAME STRATEGY\"],[\"Venom Angry Crashy Rush Online\",\"GAME STRATEGY\"],[\"Train Station 2: Railroad Tycoon & City Simulator\",\"GAME STRATEGY\"],[\"Castle Clash: Batalha de Guildas\",\"GAME STRATEGY\"],[\"\\u57ce\\u5821\\u722d\\u9738 - \\u806f\\u76df\\u9738\\u696d\",\"GAME STRATEGY\"],[\"Iron Desert - Fire Storm\",\"GAME STRATEGY\"],[\"Castle Clash: Regu Royale\",\"GAME STRATEGY\"],[\"Trivia Crack\",\"GAME TRIVIA\"],[\"Brain Test: Tricky Puzzles\",\"GAME TRIVIA\"],[\"94% - Quiz, Trivia & Logic\",\"GAME TRIVIA\"],[\"Logo Quiz\",\"GAME TRIVIA\"],[\"Who is? Brain Teaser & Tricky Riddles\",\"GAME TRIVIA\"],[\"Brain Test 2: Tricky Stories\",\"GAME TRIVIA\"],[\"Tricky Test 2\\u2122: Genius Brain?\",\"GAME TRIVIA\"],[\"Free Trivia Game. Questions & Answers. QuizzLand.\",\"GAME TRIVIA\"],[\"Quiz: Logo game\",\"GAME TRIVIA\"],[\"Guess The Song - Music Quiz\",\"GAME TRIVIA\"],[\"TVSMILES - Quiz and Prizes\",\"GAME TRIVIA\"],[\"\\u0641\\u0637\\u062d\\u0644 \\u0627\\u0644\\u0639\\u0631\\u0628 - \\u0644\\u0639\\u0628\\u0629 \\u0645\\u0639\\u0644\\u0648\\u0645\\u0627\\u062a \\u0639\\u0627\\u0645\\u0629\",\"GAME TRIVIA\"],[\"Gartic\",\"GAME TRIVIA\"],[\"Trivia Crack 2\",\"GAME TRIVIA\"],[\"94 Degrees: fun trivia quiz\",\"GAME TRIVIA\"],[\"Quizdom - Trivia more than logo quiz!\",\"GAME TRIVIA\"],[\"Picture Quiz: Logos\",\"GAME TRIVIA\"],[\"Think\",\"GAME TRIVIA\"],[\"Fight List - Categories Game\",\"GAME TRIVIA\"],[\"\\ubaa8\\ub450\\uc758 \\ud034\\uc988 - \\uc0ac\\uc9c4\\uc5f0\\uc0c1 \\ub2e8\\uc5b4\",\"GAME TRIVIA\"],[\"I Know Stuff : trivia quiz\",\"GAME TRIVIA\"],[\"Who Wants to Be a Millionaire? Trivia & Quiz Game\",\"GAME TRIVIA\"],[\"World Geography - Quiz Game\",\"GAME TRIVIA\"],[\"Guess The Brand - Logo Mania\",\"GAME TRIVIA\"],[\"\\u0e1b\\u0e23\\u0e34\\u0e28\\u0e19\\u0e32\\u0e1f\\u0e49\\u0e32\\u0e41\\u0e25\\u0e1a\",\"GAME TRIVIA\"],[\"Logo Game: Guess Brand Quiz\",\"GAME TRIVIA\"],[\"Color Mania Quiz - Guess the logo game\",\"GAME TRIVIA\"],[\"Can you escape the 100 room IV\",\"GAME TRIVIA\"],[\"\\u062d\\u0644\\u0647\\u0627 \\u0648\\u0627\\u062d\\u062a\\u0644\\u0647\\u0627 - \\u0644\\u0639\\u0628\\u0629 \\u0643\\u0644\\u0645\\u0629 \\u0627\\u0644\\u0633\\u0631\",\"GAME TRIVIA\"],[\"A4 Wheel of fortune\",\"GAME TRIVIA\"],[\"TTS Lontong\",\"GAME TRIVIA\"],[\"\\u0418\\u043d\\u0442\\u0435\\u043b\\u043b\\u0435\\u043a\\u0442-\\u0431\\u0430\\u0442\\u0442\\u043b\",\"GAME TRIVIA\"],[\"Scratch Logo Quiz. Challenging brain puzzle\",\"GAME TRIVIA\"],[\"Jeopardy!\\u00ae Trivia Quiz Game Show\",\"GAME TRIVIA\"],[\"Spin of Fortune - Quiz\",\"GAME TRIVIA\"],[\"100 PICS Quiz - Guess Trivia, Logo & Picture Games\",\"GAME TRIVIA\"],[\"Millionaire 2021 - Free Trivia Quiz Offline Game\",\"GAME TRIVIA\"],[\"General Knowledge Quiz\",\"GAME TRIVIA\"],[\"Food Quiz\",\"GAME TRIVIA\"],[\"Trivia Survival 100\",\"GAME TRIVIA\"],[\"Adivina la Canci\\u00f3n\",\"GAME TRIVIA\"],[\"Where Logic?\",\"GAME TRIVIA\"],[\"Nope Quiz\",\"GAME TRIVIA\"],[\"Genius Quiz - Smart Brain Trivia Game\",\"GAME TRIVIA\"],[\"Who Becomes Rich\",\"GAME TRIVIA\"],[\"Richman 4 fun\",\"GAME TRIVIA\"],[\"\\u0412\\u0440\\u0430\\u0449\\u0430\\u0439\\u0442\\u0435 \\u0431\\u0430\\u0440\\u0430\\u0431\\u0430\\u043d\",\"GAME TRIVIA\"],[\"TRIVIA STAR - Free Trivia Games Offline App\",\"GAME TRIVIA\"],[\"Trick Me: Logical Brain Teasers Puzzle\",\"GAME TRIVIA\"],[\"TRIVIA 360: Single-player & Multiplayer quiz game\",\"GAME TRIVIA\"],[\"Free RBX Master\",\"GAME TRIVIA\"],[\"sameQuizy\",\"GAME TRIVIA\"],[\"Live Quiz Games App, Trivia & Gaming App for Money\",\"GAME TRIVIA\"],[\"Quiz Of Kings\",\"GAME TRIVIA\"],[\"MEGA QUIZ GAMING 2021 - Guess the game Trivia\",\"GAME TRIVIA\"],[\"Guess The Movie \\u00ae\",\"GAME TRIVIA\"],[\"Would You Rather? The Game\",\"GAME TRIVIA\"],[\"Guess the Logo: Multiple Choice Quiz\",\"GAME TRIVIA\"],[\"Pluck It: hairs and emotions\",\"GAME TRIVIA\"],[\"A Journey Towards Jesus\",\"GAME TRIVIA\"],[\"\\u0423\\u0413\\u0410\\u0414\\u0410\\u0419 \\u0411\\u041b\\u041e\\u0413\\u0415\\u0420\\u0410\",\"GAME TRIVIA\"],[\"96%: Family Quiz\",\"GAME TRIVIA\"],[\"\\u042d\\u0432\\u0440\\u0438\\u043a\\u0430! \\u041b\\u043e\\u0433\\u0438\\u0447\\u0435\\u0441\\u043a\\u0438\\u0435 \\u0417\\u0430\\u0434\\u0430\\u0447\\u0438, \\u0418\\u0433\\u0440\\u044b \\u0438 \\u0413\\u043e\\u043b\\u043e\\u0432\\u043e\\u043b\\u043e\\u043c\\u043a\\u0438\",\"GAME TRIVIA\"],[\"Stupid test: moron test, idiotest. IQ bored games\",\"GAME TRIVIA\"],[\"Trivia Crack (No Ads)\",\"GAME TRIVIA\"],[\"Quiz World: Play and Win Everyday!\",\"GAME TRIVIA\"],[\"\\uc2a4\\ucf00\\uce58\\ud034\\uc988\",\"GAME TRIVIA\"],[\"I Know the Cartoon\",\"GAME TRIVIA\"],[\"NEW QuizDuel!\",\"GAME TRIVIA\"],[\"Trivia Challenge\",\"GAME TRIVIA\"],[\"Atriviate (Online Trivia)\",\"GAME TRIVIA\"],[\"Quiz - Offline Games\",\"GAME TRIVIA\"],[\"Trivia Crack Adventure\",\"GAME TRIVIA\"],[\"Gartic.io - Draw, Guess, WIN\",\"GAME TRIVIA\"],[\"Truth or Dare\",\"GAME TRIVIA\"],[\"BFF Friendship Test\",\"GAME TRIVIA\"],[\"Superbuzzer Trivia Quiz Game\",\"GAME TRIVIA\"],[\"The Higher Lower Game\",\"GAME TRIVIA\"],[\"Eu Sei a M\\u00fasica\",\"GAME TRIVIA\"],[\"Palabra Correcta\",\"GAME TRIVIA\"],[\"\\u0641\\u0643\\u0631 \\u0640 Think\",\"GAME TRIVIA\"],[\"Se como Jose\",\"GAME TRIVIA\"],[\"TopQuiz -Play Quiz & Lottery | Win Money via Paytm\",\"GAME TRIVIA\"],[\"101 Pics: Photo Quiz\",\"GAME TRIVIA\"],[\"Personal Name Test\",\"GAME TRIVIA\"],[\"Flags and Capitals of the World Quiz\",\"GAME TRIVIA\"],[\"Logo Test: World Brands Quiz, Guess Trivia Game\",\"GAME TRIVIA\"],[\"\\u00bfCu\\u00e1nto sabes de Primaria?\",\"GAME TRIVIA\"],[\"Cars Logo Quiz HD\",\"GAME TRIVIA\"],[\"\\u05dc\\u05d5\\u05d2\\u05d5\\u05d8\\u05e1\\u05d8 \\u05d8\\u05e8\\u05d9\\u05d5\\u05d5\\u05d9\\u05d4: \\u05de\\u05e9\\u05d7\\u05e7 \\u05d4\\u05e1\\u05de\\u05dc\\u05d9\\u05dd \\u05d5\\u05d4\\u05de\\u05d5\\u05ea\\u05d2\\u05d9\\u05dd \\u05d4\\u05d2\\u05d3\\u05d5\\u05dc \\u05d1\\u05d9\\u05e9\\u05e8\\u05d0\\u05dc\",\"GAME TRIVIA\"],[\"90's Quiz Game\",\"GAME TRIVIA\"],[\"Flags of All Countries of the World: Guess-Quiz\",\"GAME TRIVIA\"],[\"Vrai ou Faux ? Le grand Quiz\",\"GAME TRIVIA\"],[\"Alphabet Game\",\"GAME TRIVIA\"],[\"Hardest Girl to Get - Kode Keras Cowok dari Cewek\",\"GAME TRIVIA\"],[\"Slam\",\"GAME TRIVIA\"],[\"\\uc544\\uc7ac \\ub2a5\\ub825 \\uace0\\uc0ac : \\uc544\\uc7ac\\uac1c\\uadf8\\uc640 \\ub10c\\uc13c\\uc2a4\\ud034\\uc988\",\"GAME TRIVIA\"],[\"Cuanto Sabes de la Biblia\",\"GAME TRIVIA\"],[\"Quiz Planet\",\"GAME TRIVIA\"],[\"AppTrailers\",\"GAME TRIVIA\"],[\"\\u0643\\u0644\\u0645\\u0627\\u062a \\u0643\\u0631\\u0627\\u0634 - \\u0644\\u0639\\u0628\\u0629 \\u062a\\u0633\\u0644\\u064a\\u0629 \\u0648\\u062a\\u062d\\u062f\\u064a \\u0645\\u0646 \\u0632\\u064a\\u062a\\u0648\\u0646\\u0629\",\"GAME WORD\"],[\"Word Cookies!\\u00ae\",\"GAME WORD\"],[\"Words of Wonders: Crossword to Connect Vocabulary\",\"GAME WORD\"],[\"Words with Friends Classic: Word Puzzle Challenge\",\"GAME WORD\"],[\"4 Fotos 1 Palabra\",\"GAME WORD\"],[\"4 Pics 1 Word\",\"GAME WORD\"],[\"Draw Something Classic\",\"GAME WORD\"],[\"CodyCross: Crossword Puzzles\",\"GAME WORD\"],[\"WordBrain - Free classic word puzzle game\",\"GAME WORD\"],[\"Word Connect\",\"GAME WORD\"],[\"Wordscapes\",\"GAME WORD\"],[\"\\u0644\\u0639\\u0628\\u0629 \\u0643\\u0644\\u0645\\u0629 \\u0627\\u0644\\u0633\\u0631 : \\u0627\\u0644\\u062c\\u0632\\u0621 \\u0627\\u0644\\u062b\\u0627\\u0646\\u064a\",\"GAME WORD\"],[\"\\u0643\\u0644\\u0645\\u0627\\u062a \\u0645\\u062a\\u0642\\u0627\\u0637\\u0639\\u0629\",\"GAME WORD\"],[\"\\u0648\\u0635\\u0644\\u0629 - \\u0644\\u0639\\u0628\\u0629 \\u0643\\u0644\\u0645\\u0627\\u062a \\u0645\\u062a\\u0642\\u0627\\u0637\\u0639\\u0629\",\"GAME WORD\"],[\"Words with Friends: Play Fun Word Puzzle Games\",\"GAME WORD\"],[\"Word Snack - Your Picnic with Words\",\"GAME WORD\"],[\"Word search\",\"GAME WORD\"],[\"Wordfeud Free\",\"GAME WORD\"],[\"Word Search\",\"GAME WORD\"],[\"Braindom 2: Who is Lying? Fun Brain Teaser Riddles\",\"GAME WORD\"],[\"Word Search\",\"GAME WORD\"],[\"Word Search\",\"GAME WORD\"],[\"Word Search\",\"GAME WORD\"],[\"Word Link\",\"GAME WORD\"],[\"Words Story - Addictive Word Game\",\"GAME WORD\"],[\"Word Streak-Words With Friends\",\"GAME WORD\"],[\"TTS Pintar 2021 - Teka Teki Silang Offline\",\"GAME WORD\"],[\"Word Search\",\"GAME WORD\"],[\"Word Search\",\"GAME WORD\"],[\"Word Search\",\"GAME WORD\"],[\"4 Bilder 1 Wort\",\"GAME WORD\"],[\"Word Academy\",\"GAME WORD\"],[\"Word Connect - Word Games Puzzle\",\"GAME WORD\"],[\"Pictoword: Fun Word Games & Offline Brain Game\",\"GAME WORD\"],[\"Word Collect - Free Word Games\",\"GAME WORD\"],[\"Braindom: Tricky Brain Teasers, Test, Riddle Games\",\"GAME WORD\"],[\"Word Search\",\"GAME WORD\"],[\"Word Search\",\"GAME WORD\"],[\"Word Search\",\"GAME WORD\"],[\"Wheel of Fortune: Free Play\",\"GAME WORD\"],[\"Word Crack\",\"GAME WORD\"],[\"4 Images 1 Mot\",\"GAME WORD\"],[\"4 \\u0444\\u043e\\u0442\\u043a\\u0438 1 \\u0441\\u043b\\u043e\\u0432\\u043e\",\"GAME WORD\"],[\"Wordie: Guess the Word\",\"GAME WORD\"],[\"Ruzzle Free\",\"GAME WORD\"],[\"Kelimelik\",\"GAME WORD\"],[\"Scrabble\\u00ae GO - New Word Game\",\"GAME WORD\"],[\"\\u0644\\u0639\\u0628\\u0629 \\u0643\\u0644\\u0645\\u0629 \\u0627\\u0644\\u0633\\u0631\",\"GAME WORD\"],[\"\\u041d\\u0430\\u0439\\u0434\\u0438 \\u0441\\u043b\\u043e\\u0432\\u0430\",\"GAME WORD\"],[\"Pro des Mots\",\"GAME WORD\"],[\"Word Search Free Game\",\"GAME WORD\"],[\"Garden of Words - Word game\",\"GAME WORD\"],[\"Word Crossy - A crossword game\",\"GAME WORD\"],[\"4 Immagini 1 Parola\",\"GAME WORD\"],[\"Words Crush: Hidden Words!\",\"GAME WORD\"],[\"Word Search Sea: Unscramble words\",\"GAME WORD\"],[\"Fill-The-Words - word search puzzle\",\"GAME WORD\"],[\"4 Pics 1 Word Puzzle Plus\",\"GAME WORD\"],[\"Palabras Cruz\",\"GAME WORD\"],[\"Words With Friends 2 - Board Games & Word Puzzles\",\"GAME WORD\"],[\"Word Stacks\",\"GAME WORD\"],[\"Word Yard - Fun with Words\",\"GAME WORD\"],[\"Word Cross\",\"GAME WORD\"],[\"Word Trip\",\"GAME WORD\"],[\"\\u0622\\u0645\\u06cc\\u0631\\u0632\\u0627\",\"GAME WORD\"],[\"Heads Up!\",\"GAME WORD\"],[\"Word Search Quest - Free Word Puzzle Game\",\"GAME WORD\"],[\"\\u0421\\u043b\\u043e\\u0432\\u0430 \\u0438\\u0437 \\u0421\\u043b\\u043e\\u0432\\u0430\",\"GAME WORD\"],[\"What Am I? \\u2013 Family Charades (Guess The Word)\",\"GAME WORD\"],[\"Wort Guru\",\"GAME WORD\"],[\"Stop - Categories Word Game\",\"GAME WORD\"],[\"Wordington: Words & Design\",\"GAME WORD\"],[\"Crossword Jam\",\"GAME WORD\"],[\"Kelime Gezmece\",\"GAME WORD\"],[\"Jalebi - A Desi Adda With Ludo Snakes & Ladders\",\"GAME WORD\"],[\"Immortal Taoists-Idle Game of Immortal Cultivation\",\"GAME WORD\"],[\"Classic Words Solo\",\"GAME WORD\"],[\"WordWhizzle Search\",\"GAME WORD\"],[\"Word Find - Word Connect Free Offline Word Games\",\"GAME WORD\"],[\"Draw and Guess Online\",\"GAME WORD\"],[\"2 Pictures 1 Word\",\"GAME WORD\"],[\"Word Crack Mix 2\",\"GAME WORD\"],[\"Word Search\",\"GAME WORD\"],[\"Word Domination\",\"GAME WORD\"],[\"Sz\\u00f3 Piknik - Word Snack\",\"GAME WORD\"],[\"\\u0627\\u0634\\u0628\\u0643\\u0647\\u0627 - \\u0644\\u0639\\u0628\\u0629 \\u062a\\u0633\\u0644\\u064a\\u0629 \\u0648\\u062a\\u0641\\u0643\\u064a\\u0631\",\"GAME WORD\"],[\"\\u0643\\u0644\\u0645\\u0627\\u062a \\u0645\\u062a\\u0642\\u0627\\u0637\\u0639\\u0629 \\u0645\\u0646 \\u0632\\u064a\\u062a\\u0648\\u0646\\u0629 - \\u0631\\u0634\\u0641\\u0629 \\u0648\\u0635\\u0644\\u0629\",\"GAME WORD\"],[\"Evil Apples: You Against Humanity!\",\"GAME WORD\"],[\"Word Chums\",\"GAME WORD\"],[\"Word Crush\",\"GAME WORD\"],[\"Word Trek - Word Brain streak - hand made puzzles\",\"GAME WORD\"],[\"Word Surf - Word Game\",\"GAME WORD\"],[\"Words Crush: Hidden Themes!\",\"GAME WORD\"],[\"Teka Teki Silang\",\"GAME WORD\"],[\"7 Little Words: A fun twist on crossword puzzles\",\"GAME WORD\"],[\"Charades!\",\"GAME WORD\"],[\"Escape Room: Mystery Word\",\"GAME WORD\"],[\"Wordalot - Picture Crossword\",\"GAME WORD\"],[\"Jogo da Forca\",\"GAME WORD\"],[\"Word Swipe\",\"GAME WORD\"],[\"Zgadnij co to?\",\"GAME WORD\"],[\"Piknik S\\u0142owo - Word Snack\",\"GAME WORD\"],[\"Wordox \\u2013 Free multiplayer word game\",\"GAME WORD\"],[\"4 Fotos 1 Palavra\",\"GAME WORD\"],[\"\\u0632\\u0648\\u0627\\u064a\\u0627 - \\u0644\\u0639\\u0628\\u0629 \\u0633\\u062a\\u062d\\u0631\\u0643 \\u0632\\u0648\\u0627\\u064a\\u0627 \\u0639\\u0642\\u0644\\u0643\",\"GAME WORD\"],[\"Word Life - Connect crosswords puzzle\",\"GAME WORD\"]],\"hovertemplate\":\"total ratings=%{x}<br>title=%{customdata[0]}<br>category=%{customdata[1]}<extra></extra>\",\"legendgroup\":\"\",\"marker\":{\"color\":\"#636efa\"},\"name\":\"\",\"notched\":false,\"offsetgroup\":\"\",\"orientation\":\"h\",\"quartilemethod\":\"inclusive\",\"showlegend\":false,\"type\":\"box\",\"x\":[80678661,35971961,25836869,17181659,14237554,14048931,13020115,11298789,9554877,7392911,6475640,6203689,5651287,5245027,4457338,4456347,4448938,4443546,4260419,4193941,4162892,4097530,4092418,3986647,3480214,3138199,3122764,3095661,3065898,3009445,2644544,2548363,2535575,2454177,2373080,2360988,2346568,2251406,2128244,2080344,2020959,1974616,1973715,1965892,1919424,1858700,1818951,1738922,1737515,1708074,1653621,1601034,1599574,1598893,1571129,1514729,1499748,1495928,1492125,1476615,1418200,1370578,1295371,1268708,1253803,1238814,1224373,1205751,1201003,1189784,1171463,1159018,1134823,1104922,1098902,1057009,1038486,1035927,1025527,1022335,1011865,1008274,997973,987047,954496,940558,933455,894527,893456,878929,873891,848831,820081,809795,801878,799803,798738,798721,778052,776957,20649769,14401261,4262608,2554945,2183778,2078790,2046025,1914819,1582368,1432424,1342587,1279506,1276224,1161941,1094556,1062176,1007655,1006633,891343,803896,798250,753183,730263,720821,675179,654364,634709,617412,597627,545364,530531,528493,526011,521392,520995,519820,491712,487043,479435,478211,463875,436080,434987,426482,416848,389233,367520,342591,337032,328964,324834,323953,320368,317546,316853,316647,316364,313922,308061,303491,302428,302308,286528,273036,272140,272066,271446,269698,256133,255190,252579,244086,243187,239690,235665,235645,235280,234999,231968,229193,227666,220028,215484,214252,211749,209977,208707,198684,195093,194323,186843,184346,183775,181950,180214,177399,174459,173518,170530,169716,35305263,7141044,6894310,5855907,5683301,5347039,5324391,4908222,4744985,4570599,4509959,3999232,3380525,3195259,2871537,2292938,2074061,2059766,2025748,1935595,1900342,1896448,1892426,1810956,1790671,1722543,1679883,1580856,1542149,1453883,1422370,1324747,1307348,1266480,1254488,1213324,1205183,1184991,1148773,1135652,1131106,1092786,1080391,1067930,1062728,1053975,1045888,1038482,1035091,1022586,978941,930780,924263,870863,853988,836895,828194,785744,785634,783346,771705,767518,751905,714303,690408,684029,680833,658778,612880,607891,607415,606058,597177,594320,588773,580160,571894,560947,553085,531922,528633,502155,500782,494463,493289,479556,476489,473037,466001,462728,461521,460768,459075,451660,447351,446214,444563,443280,443069,437588,7048207,2445882,2418516,2063204,1596758,1582025,1514642,1242490,1219836,1208628,1021929,998776,928025,758481,735571,646251,596457,588940,570035,566405,565637,537909,530144,472888,467771,465371,463987,401171,393231,389981,355406,349584,347394,318741,309585,309495,302263,294708,282749,276996,274235,267278,259649,259355,254357,253597,252406,236843,227922,223393,217335,211859,206300,204295,198534,195082,192768,191039,186288,185206,182925,182457,175678,175383,174986,165123,162168,153253,150210,149105,145823,143869,143565,138804,136193,134349,133033,126650,116320,111317,111047,109878,109101,104728,104558,103890,102930,101713,100137,99924,98898,97628,97507,97432,96784,94983,93219,92307,92272,91395,2095571,1756400,1576348,1576348,1576348,1395524,1120874,1066484,863446,833513,648144,648144,648144,640744,558155,552246,520482,497732,497732,497732,494898,488591,469753,469282,455528,448786,403260,403260,373546,352455,352455,350038,337359,323117,312718,311766,307278,305932,303103,289395,281205,261850,258162,250885,243349,243022,237290,229621,227750,224406,219712,207711,202266,201275,198472,187720,177043,173896,173053,172214,172214,172214,170795,164582,164582,164582,163407,161525,155284,153496,153496,153496,152574,151637,148955,148422,148368,146504,143401,143241,139406,139406,138404,136809,136246,135924,127611,127589,126103,123361,123361,118878,116742,116242,113673,113579,113285,113155,111685,107496,106005,105591,105515,105501,103645,101296,100602,98731,98416,98416,98416,97735,97735,97735,95738,94249,93910,91638,90588,90029,90029,90029,2563915,1792212,1498979,1487569,1476587,1395163,1235181,1002202,907446,811503,748641,747773,656331,638226,605951,583401,553700,544602,490612,477941,466565,454806,427360,419956,417288,402257,401779,393594,393075,383237,374996,367139,346951,326484,323374,316657,316103,302091,289796,289540,272210,266239,261649,261231,257230,251504,232488,226544,210708,209875,208792,206933,206831,206215,203456,196421,189667,181512,176968,175464,174429,173372,171067,169473,169398,167140,154097,146419,146033,145246,141373,138603,137907,137620,135368,133125,132533,131637,125668,125267,120559,119265,116799,116702,116519,115882,112924,107239,106532,106217,103281,102726,102312,100896,100545,99440,98839,95001,94585,94310,30859251,16715691,12866276,11955303,11449723,10647190,10561106,9950630,9014495,8202126,8005959,6886372,5667376,5482333,4112331,4073314,3980631,3465392,3452778,2963865,2951211,2899465,2229993,2108014,2069636,1997711,1897418,1779823,1675066,1656109,1614657,1427317,1427170,1404198,1377520,1322600,1217145,1130457,1112763,1099414,1079008,1004386,943921,940123,939058,932651,928240,917760,873956,872342,866289,857288,817547,780001,773004,770105,758992,748407,711848,685607,678631,668040,665015,661798,656887,655267,645655,640188,627413,621375,609454,603317,601798,568109,567244,566659,563579,539116,534809,529462,527049,518539,513638,509978,509978,501409,497474,495203,492929,481652,481652,475062,474984,468960,461259,458061,455889,455667,444030,439524,437733,429996,1513301,1320352,749260,571326,515555,433892,331474,284554,201369,197882,192063,188835,185203,184654,181190,166562,158043,156922,153210,152278,146510,142956,140760,136091,135195,135159,133569,132466,128305,124307,123643,121408,119793,119198,117044,106097,106082,106059,103238,97463,96204,92826,90592,90035,89642,85076,83307,81405,81072,81037,80715,79162,78072,77905,75816,75574,75365,75306,75151,74296,72914,70153,68459,68341,67370,65335,64791,63527,62539,62200,62109,61992,61666,61624,61196,57996,57843,57740,57615,57158,56088,55852,55043,54895,53661,52947,52165,51577,51147,50859,50523,50320,50087,49846,49415,49288,49223,48792,48762,48699,2280709,2246262,1353138,1272670,1083655,660119,639715,636362,604697,570211,551373,403138,374680,374105,372544,362215,299581,282811,264177,251604,239614,238331,235158,229838,216204,208037,198615,189141,165807,159233,157011,150967,149646,138467,138031,129382,127075,126028,125890,123392,117454,116128,112497,112418,110650,109687,106890,106670,105886,103881,101978,99102,97862,97582,97334,92037,86709,84491,83998,82931,81818,79106,71018,71013,69141,67291,64974,64650,60776,60332,56970,55936,55378,54756,54530,53622,53605,52640,52534,51509,50085,47537,47417,47105,45177,45012,44633,43394,43297,43277,42710,42593,41723,40982,40875,40385,40374,40251,38740,38238,4739196,4312464,3160720,2902462,2551759,2495714,2296724,2139930,2074052,2015215,1906447,1709817,1665667,1654125,1634573,1558523,1520129,1443492,1377821,1361565,1265114,1229277,1196438,1187816,1165701,1154770,1134803,1108573,1094743,1037775,1023370,1000388,999159,991252,975342,952407,937315,923937,918824,879352,835522,816560,734164,725404,721115,701376,699296,685372,681696,672821,669595,658103,641556,635253,619976,601215,599770,598654,594008,592951,582899,571518,570689,563915,546256,539914,533693,529649,528440,526009,515194,509704,508599,502209,499878,491227,490669,486566,484312,482724,479457,469334,468070,465965,459534,459274,459073,458999,458789,451275,446232,440362,437584,429950,409487,402761,394891,389234,384360,382846,10109437,9501337,7501902,6618421,6028847,6001808,4450952,4434127,4049586,3871745,3479061,2943582,2685255,2489649,2130809,2106646,2019802,1846774,1766601,1764361,1598059,1554281,1501601,1470062,1436201,1396387,1361440,1356874,1295610,1196133,1118526,1102775,1095714,899150,892092,877117,866304,840949,813695,800759,733129,727876,715270,694195,691090,686110,685354,677946,665358,644259,630441,629925,609871,609424,575472,570996,566856,512412,505858,505770,480534,467463,463332,462906,460722,441744,430958,430053,428687,425947,423068,414887,410324,404875,398854,390401,376747,374714,349979,343357,337427,336321,333556,327291,314895,310671,309726,307279,306001,294078,293433,292849,290482,290316,289793,288523,288296,283643,283083,282767,3090015,3058359,3036543,2865064,2651402,2627776,2347273,2290221,1700340,1499510,1458777,1414250,1344882,1310535,1192107,1184299,1129245,940192,894415,893378,888912,879717,867735,823018,764089,733065,731585,673166,659860,615059,612353,606800,602664,601033,592516,584420,560996,557980,557678,549568,535690,524507,519855,515935,514153,504405,501231,499642,496856,491526,487690,484315,474452,469934,469414,465589,465165,462235,458582,457866,446215,427450,424777,419401,403927,401487,400588,398383,392609,391022,389377,389176,382307,380937,380879,371769,371124,369149,366181,364362,360378,359428,354599,349814,331238,330007,325556,323021,317688,316634,316501,311571,308602,306172,302010,300944,300560,297467,297258,296313,8241702,5518439,5193030,3541983,3486810,3401011,3204434,2726952,2225296,1812721,1624306,1574955,1507247,1485179,1378733,1366714,1359519,1298159,1222131,1187879,1187376,1152884,1138214,1110707,1106294,1091964,1031506,1019979,1009271,1000601,999265,992624,976973,965532,946692,930110,910644,897328,872791,872608,840787,832322,819400,817146,807582,759462,738803,724257,716198,716086,707424,706898,692265,681764,678641,669840,661417,647291,647179,636844,633586,620412,620223,617523,604104,603782,585446,571717,551276,549615,545476,501264,485173,479602,473108,471115,453899,450705,447104,447068,446372,443024,441554,425625,425277,424968,423399,420829,416135,412100,406254,404025,403098,400719,398841,392326,385620,384264,383441,379807,13374620,7280320,6779161,6173868,4566390,2983855,2926717,2916874,2877308,2839251,2637735,2544608,2369845,2267369,2221308,1975028,1973922,1913145,1737476,1698878,1670695,1646405,1630006,1473444,1374907,1255309,1209408,1204097,1167800,1112243,1093549,1041360,1031413,1021104,1003990,952511,896935,896639,894469,875100,839113,813844,787156,771501,763774,759841,730505,730171,727758,708388,706572,695191,608998,602551,601078,561986,561499,560065,516578,516549,515228,497940,475283,457484,455753,451539,448564,445534,445355,441765,418362,413700,412920,396044,394620,392466,385951,384159,368176,366675,365249,358273,355982,337586,334400,327465,327205,323103,310726,299047,288866,287935,274317,273722,270190,270027,268484,265931,263226,260200,55170976,30599283,6282716,6043927,5098445,4977281,3639955,3586366,3308917,3109721,2316309,2102169,1906000,1712043,1709336,1596863,1514095,1493010,1446666,1317635,1281443,1267557,1224547,1084405,1037325,967308,965851,961050,948896,904713,897510,890792,877165,873660,857214,849665,829682,828185,789938,757127,756652,755588,722062,695798,672510,633965,601321,600649,569020,562932,556658,541172,523682,497572,494533,487498,485901,485868,478146,455122,447441,430583,421774,418625,417964,401269,398768,397040,395798,392793,388381,386342,386083,384600,366285,358866,351860,344755,339891,339517,339009,334450,330452,329526,327841,326038,319569,319023,316295,310851,305594,297478,293287,288609,283770,280496,279542,276353,272167,270364,7271580,3989535,2612778,1183400,980865,764082,649366,645513,421132,408024,407061,377359,351278,335412,334698,331006,301099,289518,281824,280932,216664,205575,187196,181368,172520,165304,163384,162035,160282,159354,157035,154168,152297,150895,150300,148570,147783,143164,142834,130720,124595,122984,120815,115029,113958,113925,111089,109901,108702,108480,107289,107262,106880,100739,97967,94798,94619,85605,84299,81867,77704,77401,76755,75630,74594,67309,65734,65696,65544,65029,64589,60836,60110,59564,59446,58971,58346,57935,57633,56806,56783,56670,55050,53419,51922,51610,51017,50808,49656,49632,47900,47640,45786,45310,44971,44876,44132,43202,43189,42520,2314831,2245883,1822050,1722008,1215714,1172061,1127320,966304,959465,958517,944472,796465,770867,743325,736199,669236,644050,617186,614440,600422,512540,512540,512540,501218,495074,469666,468930,455618,455618,455618,445403,444851,419753,412505,406650,392711,390189,390189,390189,386981,383045,379834,372118,362769,356335,351822,333183,327215,320018,311348,303820,299625,293144,287375,283775,282196,275831,264735,261311,254953,242220,233892,227032,224003,222726,220723,216274,214635,214048,212106,205191,203605,195355,187428,177584,176947,176040,172253,171275,169790,160336,159357,157695,155301,152252,151509,150784,148706,146393,145071,143865,141843,137143,136575,129879,128916,127263,126651,126068,125948,124155,122845,120476,114852,110293,109809],\"x0\":\" \",\"xaxis\":\"x\",\"y0\":\" \",\"yaxis\":\"y\"}],                        {\"boxmode\":\"group\",\"legend\":{\"tracegroupgap\":0},\"margin\":{\"t\":60},\"template\":{\"data\":{\"bar\":[{\"error_x\":{\"color\":\"#2a3f5f\"},\"error_y\":{\"color\":\"#2a3f5f\"},\"marker\":{\"line\":{\"color\":\"#E5ECF6\",\"width\":0.5},\"pattern\":{\"fillmode\":\"overlay\",\"size\":10,\"solidity\":0.2}},\"type\":\"bar\"}],\"barpolar\":[{\"marker\":{\"line\":{\"color\":\"#E5ECF6\",\"width\":0.5},\"pattern\":{\"fillmode\":\"overlay\",\"size\":10,\"solidity\":0.2}},\"type\":\"barpolar\"}],\"carpet\":[{\"aaxis\":{\"endlinecolor\":\"#2a3f5f\",\"gridcolor\":\"white\",\"linecolor\":\"white\",\"minorgridcolor\":\"white\",\"startlinecolor\":\"#2a3f5f\"},\"baxis\":{\"endlinecolor\":\"#2a3f5f\",\"gridcolor\":\"white\",\"linecolor\":\"white\",\"minorgridcolor\":\"white\",\"startlinecolor\":\"#2a3f5f\"},\"type\":\"carpet\"}],\"choropleth\":[{\"colorbar\":{\"outlinewidth\":0,\"ticks\":\"\"},\"type\":\"choropleth\"}],\"contour\":[{\"colorbar\":{\"outlinewidth\":0,\"ticks\":\"\"},\"colorscale\":[[0.0,\"#0d0887\"],[0.1111111111111111,\"#46039f\"],[0.2222222222222222,\"#7201a8\"],[0.3333333333333333,\"#9c179e\"],[0.4444444444444444,\"#bd3786\"],[0.5555555555555556,\"#d8576b\"],[0.6666666666666666,\"#ed7953\"],[0.7777777777777778,\"#fb9f3a\"],[0.8888888888888888,\"#fdca26\"],[1.0,\"#f0f921\"]],\"type\":\"contour\"}],\"contourcarpet\":[{\"colorbar\":{\"outlinewidth\":0,\"ticks\":\"\"},\"type\":\"contourcarpet\"}],\"heatmap\":[{\"colorbar\":{\"outlinewidth\":0,\"ticks\":\"\"},\"colorscale\":[[0.0,\"#0d0887\"],[0.1111111111111111,\"#46039f\"],[0.2222222222222222,\"#7201a8\"],[0.3333333333333333,\"#9c179e\"],[0.4444444444444444,\"#bd3786\"],[0.5555555555555556,\"#d8576b\"],[0.6666666666666666,\"#ed7953\"],[0.7777777777777778,\"#fb9f3a\"],[0.8888888888888888,\"#fdca26\"],[1.0,\"#f0f921\"]],\"type\":\"heatmap\"}],\"heatmapgl\":[{\"colorbar\":{\"outlinewidth\":0,\"ticks\":\"\"},\"colorscale\":[[0.0,\"#0d0887\"],[0.1111111111111111,\"#46039f\"],[0.2222222222222222,\"#7201a8\"],[0.3333333333333333,\"#9c179e\"],[0.4444444444444444,\"#bd3786\"],[0.5555555555555556,\"#d8576b\"],[0.6666666666666666,\"#ed7953\"],[0.7777777777777778,\"#fb9f3a\"],[0.8888888888888888,\"#fdca26\"],[1.0,\"#f0f921\"]],\"type\":\"heatmapgl\"}],\"histogram\":[{\"marker\":{\"pattern\":{\"fillmode\":\"overlay\",\"size\":10,\"solidity\":0.2}},\"type\":\"histogram\"}],\"histogram2d\":[{\"colorbar\":{\"outlinewidth\":0,\"ticks\":\"\"},\"colorscale\":[[0.0,\"#0d0887\"],[0.1111111111111111,\"#46039f\"],[0.2222222222222222,\"#7201a8\"],[0.3333333333333333,\"#9c179e\"],[0.4444444444444444,\"#bd3786\"],[0.5555555555555556,\"#d8576b\"],[0.6666666666666666,\"#ed7953\"],[0.7777777777777778,\"#fb9f3a\"],[0.8888888888888888,\"#fdca26\"],[1.0,\"#f0f921\"]],\"type\":\"histogram2d\"}],\"histogram2dcontour\":[{\"colorbar\":{\"outlinewidth\":0,\"ticks\":\"\"},\"colorscale\":[[0.0,\"#0d0887\"],[0.1111111111111111,\"#46039f\"],[0.2222222222222222,\"#7201a8\"],[0.3333333333333333,\"#9c179e\"],[0.4444444444444444,\"#bd3786\"],[0.5555555555555556,\"#d8576b\"],[0.6666666666666666,\"#ed7953\"],[0.7777777777777778,\"#fb9f3a\"],[0.8888888888888888,\"#fdca26\"],[1.0,\"#f0f921\"]],\"type\":\"histogram2dcontour\"}],\"mesh3d\":[{\"colorbar\":{\"outlinewidth\":0,\"ticks\":\"\"},\"type\":\"mesh3d\"}],\"parcoords\":[{\"line\":{\"colorbar\":{\"outlinewidth\":0,\"ticks\":\"\"}},\"type\":\"parcoords\"}],\"pie\":[{\"automargin\":true,\"type\":\"pie\"}],\"scatter\":[{\"marker\":{\"colorbar\":{\"outlinewidth\":0,\"ticks\":\"\"}},\"type\":\"scatter\"}],\"scatter3d\":[{\"line\":{\"colorbar\":{\"outlinewidth\":0,\"ticks\":\"\"}},\"marker\":{\"colorbar\":{\"outlinewidth\":0,\"ticks\":\"\"}},\"type\":\"scatter3d\"}],\"scattercarpet\":[{\"marker\":{\"colorbar\":{\"outlinewidth\":0,\"ticks\":\"\"}},\"type\":\"scattercarpet\"}],\"scattergeo\":[{\"marker\":{\"colorbar\":{\"outlinewidth\":0,\"ticks\":\"\"}},\"type\":\"scattergeo\"}],\"scattergl\":[{\"marker\":{\"colorbar\":{\"outlinewidth\":0,\"ticks\":\"\"}},\"type\":\"scattergl\"}],\"scattermapbox\":[{\"marker\":{\"colorbar\":{\"outlinewidth\":0,\"ticks\":\"\"}},\"type\":\"scattermapbox\"}],\"scatterpolar\":[{\"marker\":{\"colorbar\":{\"outlinewidth\":0,\"ticks\":\"\"}},\"type\":\"scatterpolar\"}],\"scatterpolargl\":[{\"marker\":{\"colorbar\":{\"outlinewidth\":0,\"ticks\":\"\"}},\"type\":\"scatterpolargl\"}],\"scatterternary\":[{\"marker\":{\"colorbar\":{\"outlinewidth\":0,\"ticks\":\"\"}},\"type\":\"scatterternary\"}],\"surface\":[{\"colorbar\":{\"outlinewidth\":0,\"ticks\":\"\"},\"colorscale\":[[0.0,\"#0d0887\"],[0.1111111111111111,\"#46039f\"],[0.2222222222222222,\"#7201a8\"],[0.3333333333333333,\"#9c179e\"],[0.4444444444444444,\"#bd3786\"],[0.5555555555555556,\"#d8576b\"],[0.6666666666666666,\"#ed7953\"],[0.7777777777777778,\"#fb9f3a\"],[0.8888888888888888,\"#fdca26\"],[1.0,\"#f0f921\"]],\"type\":\"surface\"}],\"table\":[{\"cells\":{\"fill\":{\"color\":\"#EBF0F8\"},\"line\":{\"color\":\"white\"}},\"header\":{\"fill\":{\"color\":\"#C8D4E3\"},\"line\":{\"color\":\"white\"}},\"type\":\"table\"}]},\"layout\":{\"annotationdefaults\":{\"arrowcolor\":\"#2a3f5f\",\"arrowhead\":0,\"arrowwidth\":1},\"autotypenumbers\":\"strict\",\"coloraxis\":{\"colorbar\":{\"outlinewidth\":0,\"ticks\":\"\"}},\"colorscale\":{\"diverging\":[[0,\"#8e0152\"],[0.1,\"#c51b7d\"],[0.2,\"#de77ae\"],[0.3,\"#f1b6da\"],[0.4,\"#fde0ef\"],[0.5,\"#f7f7f7\"],[0.6,\"#e6f5d0\"],[0.7,\"#b8e186\"],[0.8,\"#7fbc41\"],[0.9,\"#4d9221\"],[1,\"#276419\"]],\"sequential\":[[0.0,\"#0d0887\"],[0.1111111111111111,\"#46039f\"],[0.2222222222222222,\"#7201a8\"],[0.3333333333333333,\"#9c179e\"],[0.4444444444444444,\"#bd3786\"],[0.5555555555555556,\"#d8576b\"],[0.6666666666666666,\"#ed7953\"],[0.7777777777777778,\"#fb9f3a\"],[0.8888888888888888,\"#fdca26\"],[1.0,\"#f0f921\"]],\"sequentialminus\":[[0.0,\"#0d0887\"],[0.1111111111111111,\"#46039f\"],[0.2222222222222222,\"#7201a8\"],[0.3333333333333333,\"#9c179e\"],[0.4444444444444444,\"#bd3786\"],[0.5555555555555556,\"#d8576b\"],[0.6666666666666666,\"#ed7953\"],[0.7777777777777778,\"#fb9f3a\"],[0.8888888888888888,\"#fdca26\"],[1.0,\"#f0f921\"]]},\"colorway\":[\"#636efa\",\"#EF553B\",\"#00cc96\",\"#ab63fa\",\"#FFA15A\",\"#19d3f3\",\"#FF6692\",\"#B6E880\",\"#FF97FF\",\"#FECB52\"],\"font\":{\"color\":\"#2a3f5f\"},\"geo\":{\"bgcolor\":\"white\",\"lakecolor\":\"white\",\"landcolor\":\"#E5ECF6\",\"showlakes\":true,\"showland\":true,\"subunitcolor\":\"white\"},\"hoverlabel\":{\"align\":\"left\"},\"hovermode\":\"closest\",\"mapbox\":{\"style\":\"light\"},\"paper_bgcolor\":\"white\",\"plot_bgcolor\":\"#E5ECF6\",\"polar\":{\"angularaxis\":{\"gridcolor\":\"white\",\"linecolor\":\"white\",\"ticks\":\"\"},\"bgcolor\":\"#E5ECF6\",\"radialaxis\":{\"gridcolor\":\"white\",\"linecolor\":\"white\",\"ticks\":\"\"}},\"scene\":{\"xaxis\":{\"backgroundcolor\":\"#E5ECF6\",\"gridcolor\":\"white\",\"gridwidth\":2,\"linecolor\":\"white\",\"showbackground\":true,\"ticks\":\"\",\"zerolinecolor\":\"white\"},\"yaxis\":{\"backgroundcolor\":\"#E5ECF6\",\"gridcolor\":\"white\",\"gridwidth\":2,\"linecolor\":\"white\",\"showbackground\":true,\"ticks\":\"\",\"zerolinecolor\":\"white\"},\"zaxis\":{\"backgroundcolor\":\"#E5ECF6\",\"gridcolor\":\"white\",\"gridwidth\":2,\"linecolor\":\"white\",\"showbackground\":true,\"ticks\":\"\",\"zerolinecolor\":\"white\"}},\"shapedefaults\":{\"line\":{\"color\":\"#2a3f5f\"}},\"ternary\":{\"aaxis\":{\"gridcolor\":\"white\",\"linecolor\":\"white\",\"ticks\":\"\"},\"baxis\":{\"gridcolor\":\"white\",\"linecolor\":\"white\",\"ticks\":\"\"},\"bgcolor\":\"#E5ECF6\",\"caxis\":{\"gridcolor\":\"white\",\"linecolor\":\"white\",\"ticks\":\"\"}},\"title\":{\"x\":0.05},\"xaxis\":{\"automargin\":true,\"gridcolor\":\"white\",\"linecolor\":\"white\",\"ticks\":\"\",\"title\":{\"standoff\":15},\"zerolinecolor\":\"white\",\"zerolinewidth\":2},\"yaxis\":{\"automargin\":true,\"gridcolor\":\"white\",\"linecolor\":\"white\",\"ticks\":\"\",\"title\":{\"standoff\":15},\"zerolinecolor\":\"white\",\"zerolinewidth\":2}}},\"xaxis\":{\"anchor\":\"y\",\"domain\":[0.0,1.0],\"title\":{\"text\":\"total ratings\"}},\"yaxis\":{\"anchor\":\"x\",\"domain\":[0.0,1.0]}},                        {\"responsive\": true}                    ).then(function(){\n",
       "                            \n",
       "var gd = document.getElementById('89f2a7e1-0e7a-460f-94a1-028b9ba6176b');\n",
       "var x = new MutationObserver(function (mutations, observer) {{\n",
       "        var display = window.getComputedStyle(gd).display;\n",
       "        if (!display || display === 'none') {{\n",
       "            console.log([gd, 'removed!']);\n",
       "            Plotly.purge(gd);\n",
       "            observer.disconnect();\n",
       "        }}\n",
       "}});\n",
       "\n",
       "// Listen for the removal of the full notebook cells\n",
       "var notebookContainer = gd.closest('#notebook-container');\n",
       "if (notebookContainer) {{\n",
       "    x.observe(notebookContainer, {childList: true});\n",
       "}}\n",
       "\n",
       "// Listen for the clearing of the current output cell\n",
       "var outputEl = gd.closest('.output');\n",
       "if (outputEl) {{\n",
       "    x.observe(outputEl, {childList: true});\n",
       "}}\n",
       "\n",
       "                        })                };                });            </script>        </div>"
      ]
     },
     "metadata": {},
     "output_type": "display_data"
    }
   ],
   "source": [
    "fig = px.box(df, x= 'total ratings', hover_data = df[['title','category']])\n",
    "fig.update_traces(quartilemethod=\"inclusive\")\n",
    "fig.show()"
   ]
  },
  {
   "cell_type": "code",
   "execution_count": 57,
   "id": "d73b71c9",
   "metadata": {
    "execution": {
     "iopub.execute_input": "2021-07-17T21:46:10.858327Z",
     "iopub.status.busy": "2021-07-17T21:46:10.845298Z",
     "iopub.status.idle": "2021-07-17T21:46:11.130014Z",
     "shell.execute_reply": "2021-07-17T21:46:11.129442Z",
     "shell.execute_reply.started": "2021-07-17T21:41:00.907914Z"
    },
    "papermill": {
     "duration": 0.405474,
     "end_time": "2021-07-17T21:46:11.130136",
     "exception": false,
     "start_time": "2021-07-17T21:46:10.724662",
     "status": "completed"
    },
    "tags": []
   },
   "outputs": [
    {
     "data": {
      "image/png": "[encoded data removed]",
      "text/plain": [
       "<Figure size 720x432 with 1 Axes>"
      ]
     },
     "metadata": {
      "needs_background": "light"
     },
     "output_type": "display_data"
    }
   ],
   "source": [
    "plt.figure(figsize = (10,6))\n",
    "sns.histplot(df['total ratings'], bins = 50);"
   ]
  },
  {
   "cell_type": "code",
   "execution_count": 58,
   "id": "ac7e3531",
   "metadata": {
    "execution": {
     "iopub.execute_input": "2021-07-17T21:46:11.364287Z",
     "iopub.status.busy": "2021-07-17T21:46:11.363607Z",
     "iopub.status.idle": "2021-07-17T21:46:11.410979Z",
     "shell.execute_reply": "2021-07-17T21:46:11.410506Z",
     "shell.execute_reply.started": "2021-07-17T21:41:17.386407Z"
    },
    "papermill": {
     "duration": 0.16775,
     "end_time": "2021-07-17T21:46:11.411089",
     "exception": false,
     "start_time": "2021-07-17T21:46:11.243339",
     "status": "completed"
    },
    "tags": []
   },
   "outputs": [
    {
     "data": {
      "text/html": [
       "<div>                            <div id=\"6141386e-0136-4875-88e7-bc6430bbf542\" class=\"plotly-graph-div\" style=\"height:525px; width:100%;\"></div>            <script type=\"text/javascript\">                require([\"plotly\"], function(Plotly) {                    window.PLOTLYENV=window.PLOTLYENV || {};                                    if (document.getElementById(\"6141386e-0136-4875-88e7-bc6430bbf542\")) {                    Plotly.newPlot(                        \"6141386e-0136-4875-88e7-bc6430bbf542\",                        [{\"alignmentgroup\":\"True\",\"bingroup\":\"x\",\"hovertemplate\":\"total ratings=%{x}<br>count=%{y}<extra></extra>\",\"legendgroup\":\"\",\"marker\":{\"color\":\"#636efa\",\"pattern\":{\"shape\":\"\"}},\"name\":\"\",\"offsetgroup\":\"\",\"orientation\":\"v\",\"showlegend\":false,\"type\":\"histogram\",\"x\":[80678661,35971961,25836869,17181659,14237554,14048931,13020115,11298789,9554877,7392911,6475640,6203689,5651287,5245027,4457338,4456347,4448938,4443546,4260419,4193941,4162892,4097530,4092418,3986647,3480214,3138199,3122764,3095661,3065898,3009445,2644544,2548363,2535575,2454177,2373080,2360988,2346568,2251406,2128244,2080344,2020959,1974616,1973715,1965892,1919424,1858700,1818951,1738922,1737515,1708074,1653621,1601034,1599574,1598893,1571129,1514729,1499748,1495928,1492125,1476615,1418200,1370578,1295371,1268708,1253803,1238814,1224373,1205751,1201003,1189784,1171463,1159018,1134823,1104922,1098902,1057009,1038486,1035927,1025527,1022335,1011865,1008274,997973,987047,954496,940558,933455,894527,893456,878929,873891,848831,820081,809795,801878,799803,798738,798721,778052,776957,20649769,14401261,4262608,2554945,2183778,2078790,2046025,1914819,1582368,1432424,1342587,1279506,1276224,1161941,1094556,1062176,1007655,1006633,891343,803896,798250,753183,730263,720821,675179,654364,634709,617412,597627,545364,530531,528493,526011,521392,520995,519820,491712,487043,479435,478211,463875,436080,434987,426482,416848,389233,367520,342591,337032,328964,324834,323953,320368,317546,316853,316647,316364,313922,308061,303491,302428,302308,286528,273036,272140,272066,271446,269698,256133,255190,252579,244086,243187,239690,235665,235645,235280,234999,231968,229193,227666,220028,215484,214252,211749,209977,208707,198684,195093,194323,186843,184346,183775,181950,180214,177399,174459,173518,170530,169716,35305263,7141044,6894310,5855907,5683301,5347039,5324391,4908222,4744985,4570599,4509959,3999232,3380525,3195259,2871537,2292938,2074061,2059766,2025748,1935595,1900342,1896448,1892426,1810956,1790671,1722543,1679883,1580856,1542149,1453883,1422370,1324747,1307348,1266480,1254488,1213324,1205183,1184991,1148773,1135652,1131106,1092786,1080391,1067930,1062728,1053975,1045888,1038482,1035091,1022586,978941,930780,924263,870863,853988,836895,828194,785744,785634,783346,771705,767518,751905,714303,690408,684029,680833,658778,612880,607891,607415,606058,597177,594320,588773,580160,571894,560947,553085,531922,528633,502155,500782,494463,493289,479556,476489,473037,466001,462728,461521,460768,459075,451660,447351,446214,444563,443280,443069,437588,7048207,2445882,2418516,2063204,1596758,1582025,1514642,1242490,1219836,1208628,1021929,998776,928025,758481,735571,646251,596457,588940,570035,566405,565637,537909,530144,472888,467771,465371,463987,401171,393231,389981,355406,349584,347394,318741,309585,309495,302263,294708,282749,276996,274235,267278,259649,259355,254357,253597,252406,236843,227922,223393,217335,211859,206300,204295,198534,195082,192768,191039,186288,185206,182925,182457,175678,175383,174986,165123,162168,153253,150210,149105,145823,143869,143565,138804,136193,134349,133033,126650,116320,111317,111047,109878,109101,104728,104558,103890,102930,101713,100137,99924,98898,97628,97507,97432,96784,94983,93219,92307,92272,91395,2095571,1756400,1576348,1576348,1576348,1395524,1120874,1066484,863446,833513,648144,648144,648144,640744,558155,552246,520482,497732,497732,497732,494898,488591,469753,469282,455528,448786,403260,403260,373546,352455,352455,350038,337359,323117,312718,311766,307278,305932,303103,289395,281205,261850,258162,250885,243349,243022,237290,229621,227750,224406,219712,207711,202266,201275,198472,187720,177043,173896,173053,172214,172214,172214,170795,164582,164582,164582,163407,161525,155284,153496,153496,153496,152574,151637,148955,148422,148368,146504,143401,143241,139406,139406,138404,136809,136246,135924,127611,127589,126103,123361,123361,118878,116742,116242,113673,113579,113285,113155,111685,107496,106005,105591,105515,105501,103645,101296,100602,98731,98416,98416,98416,97735,97735,97735,95738,94249,93910,91638,90588,90029,90029,90029,2563915,1792212,1498979,1487569,1476587,1395163,1235181,1002202,907446,811503,748641,747773,656331,638226,605951,583401,553700,544602,490612,477941,466565,454806,427360,419956,417288,402257,401779,393594,393075,383237,374996,367139,346951,326484,323374,316657,316103,302091,289796,289540,272210,266239,261649,261231,257230,251504,232488,226544,210708,209875,208792,206933,206831,206215,203456,196421,189667,181512,176968,175464,174429,173372,171067,169473,169398,167140,154097,146419,146033,145246,141373,138603,137907,137620,135368,133125,132533,131637,125668,125267,120559,119265,116799,116702,116519,115882,112924,107239,106532,106217,103281,102726,102312,100896,100545,99440,98839,95001,94585,94310,30859251,16715691,12866276,11955303,11449723,10647190,10561106,9950630,9014495,8202126,8005959,6886372,5667376,5482333,4112331,4073314,3980631,3465392,3452778,2963865,2951211,2899465,2229993,2108014,2069636,1997711,1897418,1779823,1675066,1656109,1614657,1427317,1427170,1404198,1377520,1322600,1217145,1130457,1112763,1099414,1079008,1004386,943921,940123,939058,932651,928240,917760,873956,872342,866289,857288,817547,780001,773004,770105,758992,748407,711848,685607,678631,668040,665015,661798,656887,655267,645655,640188,627413,621375,609454,603317,601798,568109,567244,566659,563579,539116,534809,529462,527049,518539,513638,509978,509978,501409,497474,495203,492929,481652,481652,475062,474984,468960,461259,458061,455889,455667,444030,439524,437733,429996,1513301,1320352,749260,571326,515555,433892,331474,284554,201369,197882,192063,188835,185203,184654,181190,166562,158043,156922,153210,152278,146510,142956,140760,136091,135195,135159,133569,132466,128305,124307,123643,121408,119793,119198,117044,106097,106082,106059,103238,97463,96204,92826,90592,90035,89642,85076,83307,81405,81072,81037,80715,79162,78072,77905,75816,75574,75365,75306,75151,74296,72914,70153,68459,68341,67370,65335,64791,63527,62539,62200,62109,61992,61666,61624,61196,57996,57843,57740,57615,57158,56088,55852,55043,54895,53661,52947,52165,51577,51147,50859,50523,50320,50087,49846,49415,49288,49223,48792,48762,48699,2280709,2246262,1353138,1272670,1083655,660119,639715,636362,604697,570211,551373,403138,374680,374105,372544,362215,299581,282811,264177,251604,239614,238331,235158,229838,216204,208037,198615,189141,165807,159233,157011,150967,149646,138467,138031,129382,127075,126028,125890,123392,117454,116128,112497,112418,110650,109687,106890,106670,105886,103881,101978,99102,97862,97582,97334,92037,86709,84491,83998,82931,81818,79106,71018,71013,69141,67291,64974,64650,60776,60332,56970,55936,55378,54756,54530,53622,53605,52640,52534,51509,50085,47537,47417,47105,45177,45012,44633,43394,43297,43277,42710,42593,41723,40982,40875,40385,40374,40251,38740,38238,4739196,4312464,3160720,2902462,2551759,2495714,2296724,2139930,2074052,2015215,1906447,1709817,1665667,1654125,1634573,1558523,1520129,1443492,1377821,1361565,1265114,1229277,1196438,1187816,1165701,1154770,1134803,1108573,1094743,1037775,1023370,1000388,999159,991252,975342,952407,937315,923937,918824,879352,835522,816560,734164,725404,721115,701376,699296,685372,681696,672821,669595,658103,641556,635253,619976,601215,599770,598654,594008,592951,582899,571518,570689,563915,546256,539914,533693,529649,528440,526009,515194,509704,508599,502209,499878,491227,490669,486566,484312,482724,479457,469334,468070,465965,459534,459274,459073,458999,458789,451275,446232,440362,437584,429950,409487,402761,394891,389234,384360,382846,10109437,9501337,7501902,6618421,6028847,6001808,4450952,4434127,4049586,3871745,3479061,2943582,2685255,2489649,2130809,2106646,2019802,1846774,1766601,1764361,1598059,1554281,1501601,1470062,1436201,1396387,1361440,1356874,1295610,1196133,1118526,1102775,1095714,899150,892092,877117,866304,840949,813695,800759,733129,727876,715270,694195,691090,686110,685354,677946,665358,644259,630441,629925,609871,609424,575472,570996,566856,512412,505858,505770,480534,467463,463332,462906,460722,441744,430958,430053,428687,425947,423068,414887,410324,404875,398854,390401,376747,374714,349979,343357,337427,336321,333556,327291,314895,310671,309726,307279,306001,294078,293433,292849,290482,290316,289793,288523,288296,283643,283083,282767,3090015,3058359,3036543,2865064,2651402,2627776,2347273,2290221,1700340,1499510,1458777,1414250,1344882,1310535,1192107,1184299,1129245,940192,894415,893378,888912,879717,867735,823018,764089,733065,731585,673166,659860,615059,612353,606800,602664,601033,592516,584420,560996,557980,557678,549568,535690,524507,519855,515935,514153,504405,501231,499642,496856,491526,487690,484315,474452,469934,469414,465589,465165,462235,458582,457866,446215,427450,424777,419401,403927,401487,400588,398383,392609,391022,389377,389176,382307,380937,380879,371769,371124,369149,366181,364362,360378,359428,354599,349814,331238,330007,325556,323021,317688,316634,316501,311571,308602,306172,302010,300944,300560,297467,297258,296313,8241702,5518439,5193030,3541983,3486810,3401011,3204434,2726952,2225296,1812721,1624306,1574955,1507247,1485179,1378733,1366714,1359519,1298159,1222131,1187879,1187376,1152884,1138214,1110707,1106294,1091964,1031506,1019979,1009271,1000601,999265,992624,976973,965532,946692,930110,910644,897328,872791,872608,840787,832322,819400,817146,807582,759462,738803,724257,716198,716086,707424,706898,692265,681764,678641,669840,661417,647291,647179,636844,633586,620412,620223,617523,604104,603782,585446,571717,551276,549615,545476,501264,485173,479602,473108,471115,453899,450705,447104,447068,446372,443024,441554,425625,425277,424968,423399,420829,416135,412100,406254,404025,403098,400719,398841,392326,385620,384264,383441,379807,13374620,7280320,6779161,6173868,4566390,2983855,2926717,2916874,2877308,2839251,2637735,2544608,2369845,2267369,2221308,1975028,1973922,1913145,1737476,1698878,1670695,1646405,1630006,1473444,1374907,1255309,1209408,1204097,1167800,1112243,1093549,1041360,1031413,1021104,1003990,952511,896935,896639,894469,875100,839113,813844,787156,771501,763774,759841,730505,730171,727758,708388,706572,695191,608998,602551,601078,561986,561499,560065,516578,516549,515228,497940,475283,457484,455753,451539,448564,445534,445355,441765,418362,413700,412920,396044,394620,392466,385951,384159,368176,366675,365249,358273,355982,337586,334400,327465,327205,323103,310726,299047,288866,287935,274317,273722,270190,270027,268484,265931,263226,260200,55170976,30599283,6282716,6043927,5098445,4977281,3639955,3586366,3308917,3109721,2316309,2102169,1906000,1712043,1709336,1596863,1514095,1493010,1446666,1317635,1281443,1267557,1224547,1084405,1037325,967308,965851,961050,948896,904713,897510,890792,877165,873660,857214,849665,829682,828185,789938,757127,756652,755588,722062,695798,672510,633965,601321,600649,569020,562932,556658,541172,523682,497572,494533,487498,485901,485868,478146,455122,447441,430583,421774,418625,417964,401269,398768,397040,395798,392793,388381,386342,386083,384600,366285,358866,351860,344755,339891,339517,339009,334450,330452,329526,327841,326038,319569,319023,316295,310851,305594,297478,293287,288609,283770,280496,279542,276353,272167,270364,7271580,3989535,2612778,1183400,980865,764082,649366,645513,421132,408024,407061,377359,351278,335412,334698,331006,301099,289518,281824,280932,216664,205575,187196,181368,172520,165304,163384,162035,160282,159354,157035,154168,152297,150895,150300,148570,147783,143164,142834,130720,124595,122984,120815,115029,113958,113925,111089,109901,108702,108480,107289,107262,106880,100739,97967,94798,94619,85605,84299,81867,77704,77401,76755,75630,74594,67309,65734,65696,65544,65029,64589,60836,60110,59564,59446,58971,58346,57935,57633,56806,56783,56670,55050,53419,51922,51610,51017,50808,49656,49632,47900,47640,45786,45310,44971,44876,44132,43202,43189,42520,2314831,2245883,1822050,1722008,1215714,1172061,1127320,966304,959465,958517,944472,796465,770867,743325,736199,669236,644050,617186,614440,600422,512540,512540,512540,501218,495074,469666,468930,455618,455618,455618,445403,444851,419753,412505,406650,392711,390189,390189,390189,386981,383045,379834,372118,362769,356335,351822,333183,327215,320018,311348,303820,299625,293144,287375,283775,282196,275831,264735,261311,254953,242220,233892,227032,224003,222726,220723,216274,214635,214048,212106,205191,203605,195355,187428,177584,176947,176040,172253,171275,169790,160336,159357,157695,155301,152252,151509,150784,148706,146393,145071,143865,141843,137143,136575,129879,128916,127263,126651,126068,125948,124155,122845,120476,114852,110293,109809],\"xaxis\":\"x\",\"yaxis\":\"y\"}],                        {\"barmode\":\"relative\",\"legend\":{\"tracegroupgap\":0},\"template\":{\"data\":{\"bar\":[{\"error_x\":{\"color\":\"#2a3f5f\"},\"error_y\":{\"color\":\"#2a3f5f\"},\"marker\":{\"line\":{\"color\":\"#E5ECF6\",\"width\":0.5},\"pattern\":{\"fillmode\":\"overlay\",\"size\":10,\"solidity\":0.2}},\"type\":\"bar\"}],\"barpolar\":[{\"marker\":{\"line\":{\"color\":\"#E5ECF6\",\"width\":0.5},\"pattern\":{\"fillmode\":\"overlay\",\"size\":10,\"solidity\":0.2}},\"type\":\"barpolar\"}],\"carpet\":[{\"aaxis\":{\"endlinecolor\":\"#2a3f5f\",\"gridcolor\":\"white\",\"linecolor\":\"white\",\"minorgridcolor\":\"white\",\"startlinecolor\":\"#2a3f5f\"},\"baxis\":{\"endlinecolor\":\"#2a3f5f\",\"gridcolor\":\"white\",\"linecolor\":\"white\",\"minorgridcolor\":\"white\",\"startlinecolor\":\"#2a3f5f\"},\"type\":\"carpet\"}],\"choropleth\":[{\"colorbar\":{\"outlinewidth\":0,\"ticks\":\"\"},\"type\":\"choropleth\"}],\"contour\":[{\"colorbar\":{\"outlinewidth\":0,\"ticks\":\"\"},\"colorscale\":[[0.0,\"#0d0887\"],[0.1111111111111111,\"#46039f\"],[0.2222222222222222,\"#7201a8\"],[0.3333333333333333,\"#9c179e\"],[0.4444444444444444,\"#bd3786\"],[0.5555555555555556,\"#d8576b\"],[0.6666666666666666,\"#ed7953\"],[0.7777777777777778,\"#fb9f3a\"],[0.8888888888888888,\"#fdca26\"],[1.0,\"#f0f921\"]],\"type\":\"contour\"}],\"contourcarpet\":[{\"colorbar\":{\"outlinewidth\":0,\"ticks\":\"\"},\"type\":\"contourcarpet\"}],\"heatmap\":[{\"colorbar\":{\"outlinewidth\":0,\"ticks\":\"\"},\"colorscale\":[[0.0,\"#0d0887\"],[0.1111111111111111,\"#46039f\"],[0.2222222222222222,\"#7201a8\"],[0.3333333333333333,\"#9c179e\"],[0.4444444444444444,\"#bd3786\"],[0.5555555555555556,\"#d8576b\"],[0.6666666666666666,\"#ed7953\"],[0.7777777777777778,\"#fb9f3a\"],[0.8888888888888888,\"#fdca26\"],[1.0,\"#f0f921\"]],\"type\":\"heatmap\"}],\"heatmapgl\":[{\"colorbar\":{\"outlinewidth\":0,\"ticks\":\"\"},\"colorscale\":[[0.0,\"#0d0887\"],[0.1111111111111111,\"#46039f\"],[0.2222222222222222,\"#7201a8\"],[0.3333333333333333,\"#9c179e\"],[0.4444444444444444,\"#bd3786\"],[0.5555555555555556,\"#d8576b\"],[0.6666666666666666,\"#ed7953\"],[0.7777777777777778,\"#fb9f3a\"],[0.8888888888888888,\"#fdca26\"],[1.0,\"#f0f921\"]],\"type\":\"heatmapgl\"}],\"histogram\":[{\"marker\":{\"pattern\":{\"fillmode\":\"overlay\",\"size\":10,\"solidity\":0.2}},\"type\":\"histogram\"}],\"histogram2d\":[{\"colorbar\":{\"outlinewidth\":0,\"ticks\":\"\"},\"colorscale\":[[0.0,\"#0d0887\"],[0.1111111111111111,\"#46039f\"],[0.2222222222222222,\"#7201a8\"],[0.3333333333333333,\"#9c179e\"],[0.4444444444444444,\"#bd3786\"],[0.5555555555555556,\"#d8576b\"],[0.6666666666666666,\"#ed7953\"],[0.7777777777777778,\"#fb9f3a\"],[0.8888888888888888,\"#fdca26\"],[1.0,\"#f0f921\"]],\"type\":\"histogram2d\"}],\"histogram2dcontour\":[{\"colorbar\":{\"outlinewidth\":0,\"ticks\":\"\"},\"colorscale\":[[0.0,\"#0d0887\"],[0.1111111111111111,\"#46039f\"],[0.2222222222222222,\"#7201a8\"],[0.3333333333333333,\"#9c179e\"],[0.4444444444444444,\"#bd3786\"],[0.5555555555555556,\"#d8576b\"],[0.6666666666666666,\"#ed7953\"],[0.7777777777777778,\"#fb9f3a\"],[0.8888888888888888,\"#fdca26\"],[1.0,\"#f0f921\"]],\"type\":\"histogram2dcontour\"}],\"mesh3d\":[{\"colorbar\":{\"outlinewidth\":0,\"ticks\":\"\"},\"type\":\"mesh3d\"}],\"parcoords\":[{\"line\":{\"colorbar\":{\"outlinewidth\":0,\"ticks\":\"\"}},\"type\":\"parcoords\"}],\"pie\":[{\"automargin\":true,\"type\":\"pie\"}],\"scatter\":[{\"marker\":{\"colorbar\":{\"outlinewidth\":0,\"ticks\":\"\"}},\"type\":\"scatter\"}],\"scatter3d\":[{\"line\":{\"colorbar\":{\"outlinewidth\":0,\"ticks\":\"\"}},\"marker\":{\"colorbar\":{\"outlinewidth\":0,\"ticks\":\"\"}},\"type\":\"scatter3d\"}],\"scattercarpet\":[{\"marker\":{\"colorbar\":{\"outlinewidth\":0,\"ticks\":\"\"}},\"type\":\"scattercarpet\"}],\"scattergeo\":[{\"marker\":{\"colorbar\":{\"outlinewidth\":0,\"ticks\":\"\"}},\"type\":\"scattergeo\"}],\"scattergl\":[{\"marker\":{\"colorbar\":{\"outlinewidth\":0,\"ticks\":\"\"}},\"type\":\"scattergl\"}],\"scattermapbox\":[{\"marker\":{\"colorbar\":{\"outlinewidth\":0,\"ticks\":\"\"}},\"type\":\"scattermapbox\"}],\"scatterpolar\":[{\"marker\":{\"colorbar\":{\"outlinewidth\":0,\"ticks\":\"\"}},\"type\":\"scatterpolar\"}],\"scatterpolargl\":[{\"marker\":{\"colorbar\":{\"outlinewidth\":0,\"ticks\":\"\"}},\"type\":\"scatterpolargl\"}],\"scatterternary\":[{\"marker\":{\"colorbar\":{\"outlinewidth\":0,\"ticks\":\"\"}},\"type\":\"scatterternary\"}],\"surface\":[{\"colorbar\":{\"outlinewidth\":0,\"ticks\":\"\"},\"colorscale\":[[0.0,\"#0d0887\"],[0.1111111111111111,\"#46039f\"],[0.2222222222222222,\"#7201a8\"],[0.3333333333333333,\"#9c179e\"],[0.4444444444444444,\"#bd3786\"],[0.5555555555555556,\"#d8576b\"],[0.6666666666666666,\"#ed7953\"],[0.7777777777777778,\"#fb9f3a\"],[0.8888888888888888,\"#fdca26\"],[1.0,\"#f0f921\"]],\"type\":\"surface\"}],\"table\":[{\"cells\":{\"fill\":{\"color\":\"#EBF0F8\"},\"line\":{\"color\":\"white\"}},\"header\":{\"fill\":{\"color\":\"#C8D4E3\"},\"line\":{\"color\":\"white\"}},\"type\":\"table\"}]},\"layout\":{\"annotationdefaults\":{\"arrowcolor\":\"#2a3f5f\",\"arrowhead\":0,\"arrowwidth\":1},\"autotypenumbers\":\"strict\",\"coloraxis\":{\"colorbar\":{\"outlinewidth\":0,\"ticks\":\"\"}},\"colorscale\":{\"diverging\":[[0,\"#8e0152\"],[0.1,\"#c51b7d\"],[0.2,\"#de77ae\"],[0.3,\"#f1b6da\"],[0.4,\"#fde0ef\"],[0.5,\"#f7f7f7\"],[0.6,\"#e6f5d0\"],[0.7,\"#b8e186\"],[0.8,\"#7fbc41\"],[0.9,\"#4d9221\"],[1,\"#276419\"]],\"sequential\":[[0.0,\"#0d0887\"],[0.1111111111111111,\"#46039f\"],[0.2222222222222222,\"#7201a8\"],[0.3333333333333333,\"#9c179e\"],[0.4444444444444444,\"#bd3786\"],[0.5555555555555556,\"#d8576b\"],[0.6666666666666666,\"#ed7953\"],[0.7777777777777778,\"#fb9f3a\"],[0.8888888888888888,\"#fdca26\"],[1.0,\"#f0f921\"]],\"sequentialminus\":[[0.0,\"#0d0887\"],[0.1111111111111111,\"#46039f\"],[0.2222222222222222,\"#7201a8\"],[0.3333333333333333,\"#9c179e\"],[0.4444444444444444,\"#bd3786\"],[0.5555555555555556,\"#d8576b\"],[0.6666666666666666,\"#ed7953\"],[0.7777777777777778,\"#fb9f3a\"],[0.8888888888888888,\"#fdca26\"],[1.0,\"#f0f921\"]]},\"colorway\":[\"#636efa\",\"#EF553B\",\"#00cc96\",\"#ab63fa\",\"#FFA15A\",\"#19d3f3\",\"#FF6692\",\"#B6E880\",\"#FF97FF\",\"#FECB52\"],\"font\":{\"color\":\"#2a3f5f\"},\"geo\":{\"bgcolor\":\"white\",\"lakecolor\":\"white\",\"landcolor\":\"#E5ECF6\",\"showlakes\":true,\"showland\":true,\"subunitcolor\":\"white\"},\"hoverlabel\":{\"align\":\"left\"},\"hovermode\":\"closest\",\"mapbox\":{\"style\":\"light\"},\"paper_bgcolor\":\"white\",\"plot_bgcolor\":\"#E5ECF6\",\"polar\":{\"angularaxis\":{\"gridcolor\":\"white\",\"linecolor\":\"white\",\"ticks\":\"\"},\"bgcolor\":\"#E5ECF6\",\"radialaxis\":{\"gridcolor\":\"white\",\"linecolor\":\"white\",\"ticks\":\"\"}},\"scene\":{\"xaxis\":{\"backgroundcolor\":\"#E5ECF6\",\"gridcolor\":\"white\",\"gridwidth\":2,\"linecolor\":\"white\",\"showbackground\":true,\"ticks\":\"\",\"zerolinecolor\":\"white\"},\"yaxis\":{\"backgroundcolor\":\"#E5ECF6\",\"gridcolor\":\"white\",\"gridwidth\":2,\"linecolor\":\"white\",\"showbackground\":true,\"ticks\":\"\",\"zerolinecolor\":\"white\"},\"zaxis\":{\"backgroundcolor\":\"#E5ECF6\",\"gridcolor\":\"white\",\"gridwidth\":2,\"linecolor\":\"white\",\"showbackground\":true,\"ticks\":\"\",\"zerolinecolor\":\"white\"}},\"shapedefaults\":{\"line\":{\"color\":\"#2a3f5f\"}},\"ternary\":{\"aaxis\":{\"gridcolor\":\"white\",\"linecolor\":\"white\",\"ticks\":\"\"},\"baxis\":{\"gridcolor\":\"white\",\"linecolor\":\"white\",\"ticks\":\"\"},\"bgcolor\":\"#E5ECF6\",\"caxis\":{\"gridcolor\":\"white\",\"linecolor\":\"white\",\"ticks\":\"\"}},\"title\":{\"x\":0.05},\"xaxis\":{\"automargin\":true,\"gridcolor\":\"white\",\"linecolor\":\"white\",\"ticks\":\"\",\"title\":{\"standoff\":15},\"zerolinecolor\":\"white\",\"zerolinewidth\":2},\"yaxis\":{\"automargin\":true,\"gridcolor\":\"white\",\"linecolor\":\"white\",\"ticks\":\"\",\"title\":{\"standoff\":15},\"zerolinecolor\":\"white\",\"zerolinewidth\":2}}},\"title\":{\"text\":\"Total Ratings of the Games\"},\"xaxis\":{\"anchor\":\"y\",\"domain\":[0.0,1.0],\"title\":{\"text\":\"total ratings\"}},\"yaxis\":{\"anchor\":\"x\",\"domain\":[0.0,1.0],\"title\":{\"text\":\"count\"}}},                        {\"responsive\": true}                    ).then(function(){\n",
       "                            \n",
       "var gd = document.getElementById('6141386e-0136-4875-88e7-bc6430bbf542');\n",
       "var x = new MutationObserver(function (mutations, observer) {{\n",
       "        var display = window.getComputedStyle(gd).display;\n",
       "        if (!display || display === 'none') {{\n",
       "            console.log([gd, 'removed!']);\n",
       "            Plotly.purge(gd);\n",
       "            observer.disconnect();\n",
       "        }}\n",
       "}});\n",
       "\n",
       "// Listen for the removal of the full notebook cells\n",
       "var notebookContainer = gd.closest('#notebook-container');\n",
       "if (notebookContainer) {{\n",
       "    x.observe(notebookContainer, {childList: true});\n",
       "}}\n",
       "\n",
       "// Listen for the clearing of the current output cell\n",
       "var outputEl = gd.closest('.output');\n",
       "if (outputEl) {{\n",
       "    x.observe(outputEl, {childList: true});\n",
       "}}\n",
       "\n",
       "                        })                };                });            </script>        </div>"
      ]
     },
     "metadata": {},
     "output_type": "display_data"
    }
   ],
   "source": [
    "fig = px.histogram(df, x= 'total ratings', title='Total Ratings of the Games')\n",
    "fig.show()"
   ]
  },
  {
   "cell_type": "code",
   "execution_count": 59,
   "id": "3917ec4a",
   "metadata": {
    "execution": {
     "iopub.execute_input": "2021-07-17T21:46:11.570961Z",
     "iopub.status.busy": "2021-07-17T21:46:11.570068Z",
     "iopub.status.idle": "2021-07-17T21:46:11.579309Z",
     "shell.execute_reply": "2021-07-17T21:46:11.579787Z",
     "shell.execute_reply.started": "2021-07-17T21:41:26.481989Z"
    },
    "papermill": {
     "duration": 0.090995,
     "end_time": "2021-07-17T21:46:11.579981",
     "exception": false,
     "start_time": "2021-07-17T21:46:11.488986",
     "status": "completed"
    },
    "tags": []
   },
   "outputs": [
    {
     "data": {
      "text/plain": [
       "rank                        0.004503\n",
       "total ratings              13.598678\n",
       "average rating             -0.857113\n",
       "growth (30 days)           29.017182\n",
       "growth (60 days)           23.104215\n",
       "price                      23.736749\n",
       "5 star ratings             14.321415\n",
       "4 star ratings              9.708128\n",
       "3 star ratings              9.791383\n",
       "2 star ratings             11.966766\n",
       "1 star ratings             15.500380\n",
       "installation_in_million     8.678190\n",
       "dtype: float64"
      ]
     },
     "execution_count": 59,
     "metadata": {},
     "output_type": "execute_result"
    }
   ],
   "source": [
    "df.skew()"
   ]
  },
  {
   "cell_type": "code",
   "execution_count": 60,
   "id": "4d53bbfc",
   "metadata": {
    "execution": {
     "iopub.execute_input": "2021-07-17T21:46:11.810470Z",
     "iopub.status.busy": "2021-07-17T21:46:11.809871Z",
     "iopub.status.idle": "2021-07-17T21:46:12.153148Z",
     "shell.execute_reply": "2021-07-17T21:46:12.153641Z",
     "shell.execute_reply.started": "2021-07-17T21:41:39.122647Z"
    },
    "papermill": {
     "duration": 0.459576,
     "end_time": "2021-07-17T21:46:12.153799",
     "exception": false,
     "start_time": "2021-07-17T21:46:11.694223",
     "status": "completed"
    },
    "tags": []
   },
   "outputs": [
    {
     "data": {
      "image/png": "[encoded data removed]",
      "text/plain": [
       "<Figure size 1080x360 with 1 Axes>"
      ]
     },
     "metadata": {
      "needs_background": "light"
     },
     "output_type": "display_data"
    }
   ],
   "source": [
    "plt.figure(figsize=(15,5))\n",
    "sns.histplot(data=df, x =\"installation_in_million\");"
   ]
  },
  {
   "cell_type": "code",
   "execution_count": 61,
   "id": "2b795fd9",
   "metadata": {
    "execution": {
     "iopub.execute_input": "2021-07-17T21:46:12.388571Z",
     "iopub.status.busy": "2021-07-17T21:46:12.387975Z",
     "iopub.status.idle": "2021-07-17T21:46:12.438348Z",
     "shell.execute_reply": "2021-07-17T21:46:12.437754Z",
     "shell.execute_reply.started": "2021-07-17T21:41:57.044280Z"
    },
    "papermill": {
     "duration": 0.168862,
     "end_time": "2021-07-17T21:46:12.438482",
     "exception": false,
     "start_time": "2021-07-17T21:46:12.269620",
     "status": "completed"
    },
    "tags": []
   },
   "outputs": [
    {
     "data": {
      "text/html": [
       "<div>                            <div id=\"20c3ebcd-4334-4fb5-8a8f-fc34f7c4a848\" class=\"plotly-graph-div\" style=\"height:525px; width:100%;\"></div>            <script type=\"text/javascript\">                require([\"plotly\"], function(Plotly) {                    window.PLOTLYENV=window.PLOTLYENV || {};                                    if (document.getElementById(\"20c3ebcd-4334-4fb5-8a8f-fc34f7c4a848\")) {                    Plotly.newPlot(                        \"20c3ebcd-4334-4fb5-8a8f-fc34f7c4a848\",                        [{\"alignmentgroup\":\"True\",\"bingroup\":\"x\",\"hovertemplate\":\"installation_in_million=%{x}<br>count=%{y}<extra></extra>\",\"legendgroup\":\"\",\"marker\":{\"color\":\"#636efa\",\"pattern\":{\"shape\":\"\"}},\"name\":\"\",\"offsetgroup\":\"\",\"orientation\":\"v\",\"showlegend\":false,\"type\":\"histogram\",\"x\":[500.0,100.0,100.0,100.0,100.0,100.0,100.0,100.0,500.0,100.0,100.0,100.0,100.0,100.0,50.0,100.0,100.0,50.0,100.0,50.0,50.0,100.0,50.0,100.0,100.0,100.0,50.0,100.0,100.0,10.0,50.0,10.0,10.0,100.0,50.0,50.0,50.0,50.0,10.0,10.0,50.0,100.0,10.0,100.0,50.0,50.0,50.0,100.0,100.0,50.0,10.0,50.0,10.0,10.0,100.0,50.0,50.0,100.0,50.0,10.0,100.0,100.0,100.0,50.0,50.0,10.0,100.0,50.0,100.0,50.0,10.0,50.0,100.0,10.0,10.0,10.0,50.0,50.0,10.0,50.0,100.0,50.0,10.0,10.0,10.0,100.0,10.0,10.0,100.0,10.0,10.0,10.0,100.0,10.0,10.0,10.0,100.0,10.0,10.0,10.0,100.0,100.0,100.0,10.0,50.0,100.0,50.0,50.0,10.0,50.0,10.0,10.0,10.0,50.0,10.0,10.0,10.0,10.0,5.0,10.0,10.0,5.0,10.0,10.0,10.0,10.0,10.0,10.0,50.0,5.0,50.0,10.0,10.0,10.0,50.0,10.0,5.0,10.0,10.0,10.0,10.0,10.0,10.0,10.0,100.0,10.0,1.0,10.0,10.0,1.0,10.0,10.0,10.0,1.0,10.0,5.0,10.0,10.0,50.0,10.0,10.0,10.0,10.0,10.0,10.0,50.0,10.0,10.0,10.0,1.0,10.0,10.0,5.0,10.0,1.0,10.0,5.0,5.0,10.0,10.0,10.0,10.0,10.0,50.0,10.0,1.0,100.0,10.0,10.0,5.0,10.0,10.0,10.0,1.0,5.0,5.0,1.0,5.0,10.0,50.0,1000.0,100.0,100.0,100.0,100.0,100.0,100.0,100.0,500.0,100.0,100.0,10.0,100.0,100.0,10.0,100.0,100.0,100.0,100.0,100.0,50.0,100.0,50.0,100.0,100.0,50.0,100.0,10.0,100.0,10.0,100.0,100.0,100.0,100.0,100.0,100.0,100.0,50.0,50.0,10.0,50.0,100.0,50.0,100.0,50.0,100.0,100.0,10.0,50.0,50.0,50.0,100.0,50.0,10.0,100.0,100.0,50.0,100.0,10.0,50.0,50.0,1.0,10.0,50.0,10.0,10.0,50.0,10.0,50.0,50.0,10.0,100.0,50.0,50.0,10.0,10.0,50.0,10.0,10.0,10.0,10.0,10.0,50.0,50.0,10.0,10.0,10.0,50.0,10.0,50.0,10.0,10.0,10.0,10.0,10.0,10.0,10.0,10.0,100.0,10.0,500.0,100.0,10.0,50.0,10.0,50.0,100.0,10.0,100.0,50.0,10.0,50.0,50.0,10.0,10.0,10.0,5.0,10.0,10.0,10.0,10.0,100.0,10.0,50.0,10.0,5.0,5.0,10.0,5.0,5.0,50.0,10.0,10.0,5.0,5.0,10.0,50.0,5.0,10.0,10.0,10.0,1.0,10.0,10.0,10.0,10.0,1.0,10.0,1.0,50.0,5.0,10.0,10.0,10.0,10.0,10.0,10.0,5.0,5.0,5.0,5.0,5.0,5.0,5.0,10.0,5.0,10.0,10.0,10.0,50.0,1.0,50.0,10.0,1.0,10.0,5.0,10.0,1.0,10.0,1.0,10.0,5.0,10.0,5.0,5.0,5.0,1.0,5.0,1.0,5.0,5.0,1.0,1.0,5.0,1.0,10.0,1.0,5.0,10.0,10.0,50.0,10.0,100.0,100.0,100.0,50.0,10.0,10.0,50.0,10.0,50.0,50.0,50.0,10.0,5.0,10.0,10.0,50.0,50.0,50.0,10.0,10.0,10.0,10.0,10.0,10.0,10.0,10.0,5.0,10.0,10.0,5.0,10.0,5.0,10.0,1.0,1.0,1.0,10.0,5.0,50.0,10.0,5.0,10.0,5.0,10.0,10.0,10.0,10.0,5.0,10.0,5.0,5.0,1.0,5.0,5.0,1.0,5.0,5.0,5.0,5.0,5.0,1.0,5.0,5.0,5.0,1.0,1.0,1.0,5.0,5.0,5.0,5.0,1.0,5.0,5.0,5.0,0.5,1.0,5.0,10.0,10.0,10.0,0.5,1.0,1.0,1.0,1.0,5.0,10.0,10.0,5.0,5.0,1.0,1.0,1.0,1.0,5.0,1.0,10.0,5.0,1.0,1.0,5.0,1.0,1.0,1.0,1.0,10.0,10.0,10.0,5.0,5.0,5.0,1.0,1.0,10.0,1.0,1.0,5.0,5.0,5.0,50.0,50.0,50.0,50.0,50.0,10.0,10.0,10.0,10.0,10.0,10.0,10.0,10.0,5.0,10.0,10.0,5.0,10.0,5.0,10.0,10.0,5.0,10.0,5.0,10.0,10.0,10.0,10.0,10.0,10.0,10.0,1.0,5.0,5.0,10.0,10.0,10.0,10.0,5.0,10.0,5.0,10.0,10.0,5.0,5.0,5.0,10.0,10.0,5.0,5.0,10.0,1.0,10.0,5.0,5.0,5.0,10.0,5.0,1.0,5.0,1.0,5.0,5.0,5.0,10.0,5.0,1.0,5.0,1.0,5.0,10.0,10.0,1.0,1.0,1.0,1.0,1.0,1.0,5.0,5.0,5.0,1.0,1.0,1.0,1.0,1.0,1.0,1.0,5.0,1.0,1.0,1.0,1.0,1.0,1.0,5.0,0.5,1.0,1.0,1.0,1000.0,500.0,500.0,100.0,500.0,100.0,100.0,100.0,100.0,100.0,100.0,100.0,100.0,100.0,50.0,100.0,50.0,100.0,100.0,50.0,100.0,50.0,100.0,100.0,50.0,10.0,50.0,100.0,100.0,50.0,50.0,10.0,50.0,100.0,10.0,50.0,10.0,10.0,100.0,50.0,10.0,10.0,50.0,10.0,50.0,50.0,100.0,10.0,10.0,50.0,50.0,100.0,50.0,50.0,10.0,10.0,10.0,10.0,10.0,5.0,10.0,10.0,10.0,100.0,10.0,10.0,10.0,50.0,10.0,10.0,100.0,10.0,10.0,10.0,10.0,10.0,5.0,10.0,10.0,10.0,1.0,50.0,10.0,100.0,100.0,10.0,10.0,10.0,10.0,100.0,100.0,10.0,10.0,1.0,10.0,10.0,10.0,10.0,5.0,10.0,50.0,50.0,100.0,50.0,50.0,1.0,10.0,10.0,50.0,100.0,100.0,10.0,10.0,10.0,10.0,50.0,10.0,50.0,50.0,0.5,10.0,10.0,10.0,50.0,10.0,10.0,10.0,1.0,100.0,10.0,10.0,50.0,10.0,10.0,10.0,50.0,10.0,10.0,10.0,5.0,10.0,1.0,5.0,5.0,10.0,10.0,10.0,10.0,10.0,10.0,10.0,10.0,1.0,1.0,10.0,1.0,10.0,10.0,50.0,10.0,10.0,10.0,5.0,10.0,10.0,10.0,10.0,5.0,10.0,10.0,5.0,5.0,10.0,1.0,1.0,10.0,10.0,5.0,10.0,10.0,10.0,10.0,5.0,10.0,10.0,10.0,10.0,10.0,10.0,5.0,10.0,1.0,10.0,10.0,1.0,10.0,5.0,5.0,5.0,10.0,10.0,10.0,100.0,100.0,10.0,100.0,10.0,50.0,50.0,100.0,50.0,5.0,5.0,10.0,100.0,50.0,10.0,10.0,10.0,10.0,10.0,10.0,10.0,10.0,10.0,5.0,5.0,10.0,5.0,10.0,10.0,50.0,5.0,5.0,5.0,10.0,5.0,1.0,10.0,1.0,50.0,10.0,10.0,1.0,10.0,10.0,10.0,1.0,10.0,1.0,1.0,5.0,5.0,1.0,1.0,10.0,10.0,10.0,10.0,1.0,10.0,1.0,10.0,1.0,5.0,1.0,0.1,5.0,1.0,5.0,10.0,10.0,1.0,1.0,0.5,1.0,1.0,1.0,5.0,5.0,1.0,10.0,1.0,5.0,1.0,0.5,1.0,5.0,1.0,0.5,5.0,1.0,1.0,1.0,5.0,10.0,5.0,1.0,1.0,1.0,10.0,10.0,100.0,100.0,50.0,50.0,100.0,50.0,100.0,100.0,50.0,100.0,50.0,50.0,50.0,10.0,100.0,100.0,100.0,100.0,100.0,10.0,10.0,50.0,10.0,10.0,10.0,50.0,10.0,50.0,50.0,10.0,10.0,10.0,5.0,10.0,10.0,100.0,10.0,100.0,10.0,50.0,50.0,10.0,10.0,10.0,10.0,50.0,10.0,10.0,100.0,10.0,10.0,100.0,10.0,100.0,10.0,50.0,50.0,10.0,10.0,10.0,10.0,50.0,50.0,50.0,50.0,50.0,10.0,50.0,5.0,50.0,50.0,10.0,10.0,10.0,10.0,50.0,50.0,10.0,10.0,10.0,10.0,10.0,10.0,10.0,10.0,10.0,10.0,10.0,50.0,10.0,10.0,10.0,10.0,10.0,10.0,10.0,10.0,100.0,1.0,50.0,500.0,100.0,100.0,100.0,100.0,100.0,100.0,10.0,100.0,100.0,100.0,100.0,100.0,50.0,100.0,100.0,50.0,100.0,100.0,10.0,50.0,50.0,10.0,50.0,50.0,100.0,50.0,50.0,50.0,10.0,10.0,100.0,10.0,10.0,50.0,100.0,10.0,10.0,50.0,100.0,50.0,10.0,100.0,100.0,100.0,50.0,100.0,10.0,50.0,50.0,10.0,10.0,10.0,10.0,50.0,10.0,10.0,10.0,50.0,5.0,50.0,10.0,10.0,10.0,100.0,50.0,10.0,10.0,10.0,10.0,10.0,10.0,10.0,10.0,10.0,10.0,50.0,10.0,10.0,50.0,10.0,10.0,5.0,50.0,10.0,10.0,50.0,10.0,10.0,10.0,10.0,50.0,10.0,50.0,10.0,10.0,10.0,10.0,10.0,10.0,100.0,10.0,50.0,50.0,10.0,100.0,10.0,50.0,50.0,10.0,10.0,10.0,10.0,10.0,10.0,50.0,10.0,10.0,10.0,10.0,5.0,10.0,10.0,10.0,10.0,10.0,10.0,5.0,10.0,50.0,10.0,10.0,10.0,10.0,10.0,10.0,5.0,5.0,5.0,10.0,10.0,10.0,5.0,5.0,10.0,10.0,10.0,10.0,10.0,5.0,100.0,10.0,5.0,10.0,10.0,50.0,10.0,10.0,10.0,10.0,10.0,10.0,1.0,1.0,5.0,10.0,10.0,10.0,10.0,1.0,5.0,5.0,10.0,10.0,10.0,5.0,10.0,5.0,1.0,1.0,10.0,10.0,5.0,10.0,5.0,1.0,10.0,1.0,10.0,5.0,10.0,1.0,5.0,5.0,5.0,5.0,100.0,1.0,10.0,5.0,100.0,100.0,100.0,100.0,100.0,10.0,50.0,50.0,10.0,50.0,50.0,10.0,50.0,50.0,10.0,50.0,10.0,50.0,10.0,100.0,10.0,50.0,10.0,50.0,10.0,50.0,50.0,50.0,10.0,10.0,10.0,10.0,10.0,10.0,10.0,50.0,10.0,100.0,10.0,5.0,50.0,10.0,10.0,10.0,10.0,50.0,50.0,10.0,100.0,10.0,100.0,10.0,10.0,50.0,10.0,10.0,10.0,50.0,100.0,10.0,10.0,10.0,50.0,10.0,10.0,50.0,50.0,10.0,10.0,5.0,10.0,50.0,10.0,10.0,10.0,10.0,10.0,10.0,10.0,10.0,10.0,10.0,1.0,10.0,10.0,10.0,10.0,10.0,100.0,5.0,10.0,10.0,10.0,10.0,5.0,10.0,10.0,5.0,5.0,10.0,100.0,100.0,100.0,50.0,50.0,50.0,10.0,50.0,500.0,100.0,50.0,100.0,50.0,10.0,50.0,10.0,10.0,100.0,100.0,50.0,50.0,10.0,50.0,100.0,10.0,50.0,50.0,100.0,100.0,10.0,50.0,50.0,10.0,10.0,50.0,100.0,10.0,50.0,10.0,50.0,10.0,50.0,50.0,50.0,10.0,10.0,50.0,10.0,10.0,10.0,10.0,10.0,10.0,10.0,50.0,50.0,10.0,10.0,50.0,10.0,10.0,10.0,50.0,10.0,10.0,10.0,10.0,50.0,10.0,10.0,10.0,5.0,10.0,10.0,5.0,10.0,10.0,10.0,10.0,10.0,10.0,10.0,10.0,10.0,5.0,10.0,10.0,10.0,10.0,10.0,10.0,1.0,10.0,10.0,5.0,10.0,10.0,10.0,10.0,10.0,500.0,100.0,100.0,50.0,100.0,100.0,10.0,100.0,50.0,10.0,50.0,10.0,100.0,50.0,10.0,10.0,10.0,50.0,50.0,50.0,10.0,10.0,10.0,10.0,10.0,10.0,10.0,10.0,50.0,50.0,50.0,10.0,50.0,50.0,10.0,10.0,10.0,10.0,10.0,10.0,10.0,10.0,10.0,10.0,10.0,10.0,5.0,10.0,10.0,5.0,10.0,10.0,5.0,10.0,5.0,10.0,5.0,5.0,5.0,10.0,5.0,50.0,10.0,1.0,5.0,1.0,1.0,10.0,5.0,5.0,5.0,10.0,5.0,1.0,5.0,10.0,10.0,10.0,10.0,10.0,10.0,5.0,10.0,10.0,5.0,5.0,10.0,10.0,10.0,10.0,10.0,10.0,10.0,5.0,10.0,10.0,1.0,1.0,5.0,1.0,100.0,100.0,10.0,50.0,10.0,10.0,10.0,10.0,10.0,10.0,1.0,5.0,10.0,10.0,10.0,10.0,10.0,5.0,10.0,1.0,10.0,10.0,10.0,10.0,10.0,10.0,1.0,1.0,1.0,5.0,5.0,5.0,10.0,1.0,10.0,10.0,10.0,5.0,10.0,1.0,5.0,5.0,1.0,5.0,5.0,1.0,10.0,5.0,5.0,5.0,0.5,1.0,10.0,1.0,1.0,1.0,5.0,10.0,0.5,1.0,1.0,1.0,1.0,1.0,0.5,1.0,5.0,5.0,1.0,1.0,5.0,5.0,1.0,5.0,1.0,10.0,1.0,5.0,1.0,5.0,0.1,1.0,1.0,5.0,1.0,1.0,1.0,10.0,5.0,0.5,0.5,5.0,1.0,5.0,1.0,1.0,1.0,0.5,1.0,1.0,10.0,10.0,100.0,50.0,50.0,50.0,50.0,50.0,10.0,10.0,50.0,10.0,10.0,5.0,10.0,5.0,50.0,10.0,10.0,10.0,10.0,10.0,10.0,50.0,50.0,10.0,10.0,10.0,10.0,10.0,10.0,5.0,10.0,10.0,10.0,10.0,50.0,50.0,50.0,10.0,10.0,10.0,10.0,10.0,10.0,5.0,10.0,10.0,10.0,10.0,10.0,10.0,5.0,10.0,5.0,10.0,10.0,5.0,10.0,10.0,10.0,1.0,10.0,5.0,1.0,10.0,10.0,5.0,10.0,5.0,10.0,10.0,5.0,10.0,10.0,1.0,10.0,1.0,10.0,1.0,5.0,5.0,10.0,5.0,5.0,1.0,1.0,5.0,1.0,1.0,5.0,5.0,1.0,5.0,1.0,10.0,10.0,5.0,10.0,10.0,1.0,1.0,1.0,5.0,1.0,5.0],\"xaxis\":\"x\",\"yaxis\":\"y\"}],                        {\"barmode\":\"relative\",\"legend\":{\"tracegroupgap\":0},\"template\":{\"data\":{\"bar\":[{\"error_x\":{\"color\":\"#2a3f5f\"},\"error_y\":{\"color\":\"#2a3f5f\"},\"marker\":{\"line\":{\"color\":\"#E5ECF6\",\"width\":0.5},\"pattern\":{\"fillmode\":\"overlay\",\"size\":10,\"solidity\":0.2}},\"type\":\"bar\"}],\"barpolar\":[{\"marker\":{\"line\":{\"color\":\"#E5ECF6\",\"width\":0.5},\"pattern\":{\"fillmode\":\"overlay\",\"size\":10,\"solidity\":0.2}},\"type\":\"barpolar\"}],\"carpet\":[{\"aaxis\":{\"endlinecolor\":\"#2a3f5f\",\"gridcolor\":\"white\",\"linecolor\":\"white\",\"minorgridcolor\":\"white\",\"startlinecolor\":\"#2a3f5f\"},\"baxis\":{\"endlinecolor\":\"#2a3f5f\",\"gridcolor\":\"white\",\"linecolor\":\"white\",\"minorgridcolor\":\"white\",\"startlinecolor\":\"#2a3f5f\"},\"type\":\"carpet\"}],\"choropleth\":[{\"colorbar\":{\"outlinewidth\":0,\"ticks\":\"\"},\"type\":\"choropleth\"}],\"contour\":[{\"colorbar\":{\"outlinewidth\":0,\"ticks\":\"\"},\"colorscale\":[[0.0,\"#0d0887\"],[0.1111111111111111,\"#46039f\"],[0.2222222222222222,\"#7201a8\"],[0.3333333333333333,\"#9c179e\"],[0.4444444444444444,\"#bd3786\"],[0.5555555555555556,\"#d8576b\"],[0.6666666666666666,\"#ed7953\"],[0.7777777777777778,\"#fb9f3a\"],[0.8888888888888888,\"#fdca26\"],[1.0,\"#f0f921\"]],\"type\":\"contour\"}],\"contourcarpet\":[{\"colorbar\":{\"outlinewidth\":0,\"ticks\":\"\"},\"type\":\"contourcarpet\"}],\"heatmap\":[{\"colorbar\":{\"outlinewidth\":0,\"ticks\":\"\"},\"colorscale\":[[0.0,\"#0d0887\"],[0.1111111111111111,\"#46039f\"],[0.2222222222222222,\"#7201a8\"],[0.3333333333333333,\"#9c179e\"],[0.4444444444444444,\"#bd3786\"],[0.5555555555555556,\"#d8576b\"],[0.6666666666666666,\"#ed7953\"],[0.7777777777777778,\"#fb9f3a\"],[0.8888888888888888,\"#fdca26\"],[1.0,\"#f0f921\"]],\"type\":\"heatmap\"}],\"heatmapgl\":[{\"colorbar\":{\"outlinewidth\":0,\"ticks\":\"\"},\"colorscale\":[[0.0,\"#0d0887\"],[0.1111111111111111,\"#46039f\"],[0.2222222222222222,\"#7201a8\"],[0.3333333333333333,\"#9c179e\"],[0.4444444444444444,\"#bd3786\"],[0.5555555555555556,\"#d8576b\"],[0.6666666666666666,\"#ed7953\"],[0.7777777777777778,\"#fb9f3a\"],[0.8888888888888888,\"#fdca26\"],[1.0,\"#f0f921\"]],\"type\":\"heatmapgl\"}],\"histogram\":[{\"marker\":{\"pattern\":{\"fillmode\":\"overlay\",\"size\":10,\"solidity\":0.2}},\"type\":\"histogram\"}],\"histogram2d\":[{\"colorbar\":{\"outlinewidth\":0,\"ticks\":\"\"},\"colorscale\":[[0.0,\"#0d0887\"],[0.1111111111111111,\"#46039f\"],[0.2222222222222222,\"#7201a8\"],[0.3333333333333333,\"#9c179e\"],[0.4444444444444444,\"#bd3786\"],[0.5555555555555556,\"#d8576b\"],[0.6666666666666666,\"#ed7953\"],[0.7777777777777778,\"#fb9f3a\"],[0.8888888888888888,\"#fdca26\"],[1.0,\"#f0f921\"]],\"type\":\"histogram2d\"}],\"histogram2dcontour\":[{\"colorbar\":{\"outlinewidth\":0,\"ticks\":\"\"},\"colorscale\":[[0.0,\"#0d0887\"],[0.1111111111111111,\"#46039f\"],[0.2222222222222222,\"#7201a8\"],[0.3333333333333333,\"#9c179e\"],[0.4444444444444444,\"#bd3786\"],[0.5555555555555556,\"#d8576b\"],[0.6666666666666666,\"#ed7953\"],[0.7777777777777778,\"#fb9f3a\"],[0.8888888888888888,\"#fdca26\"],[1.0,\"#f0f921\"]],\"type\":\"histogram2dcontour\"}],\"mesh3d\":[{\"colorbar\":{\"outlinewidth\":0,\"ticks\":\"\"},\"type\":\"mesh3d\"}],\"parcoords\":[{\"line\":{\"colorbar\":{\"outlinewidth\":0,\"ticks\":\"\"}},\"type\":\"parcoords\"}],\"pie\":[{\"automargin\":true,\"type\":\"pie\"}],\"scatter\":[{\"marker\":{\"colorbar\":{\"outlinewidth\":0,\"ticks\":\"\"}},\"type\":\"scatter\"}],\"scatter3d\":[{\"line\":{\"colorbar\":{\"outlinewidth\":0,\"ticks\":\"\"}},\"marker\":{\"colorbar\":{\"outlinewidth\":0,\"ticks\":\"\"}},\"type\":\"scatter3d\"}],\"scattercarpet\":[{\"marker\":{\"colorbar\":{\"outlinewidth\":0,\"ticks\":\"\"}},\"type\":\"scattercarpet\"}],\"scattergeo\":[{\"marker\":{\"colorbar\":{\"outlinewidth\":0,\"ticks\":\"\"}},\"type\":\"scattergeo\"}],\"scattergl\":[{\"marker\":{\"colorbar\":{\"outlinewidth\":0,\"ticks\":\"\"}},\"type\":\"scattergl\"}],\"scattermapbox\":[{\"marker\":{\"colorbar\":{\"outlinewidth\":0,\"ticks\":\"\"}},\"type\":\"scattermapbox\"}],\"scatterpolar\":[{\"marker\":{\"colorbar\":{\"outlinewidth\":0,\"ticks\":\"\"}},\"type\":\"scatterpolar\"}],\"scatterpolargl\":[{\"marker\":{\"colorbar\":{\"outlinewidth\":0,\"ticks\":\"\"}},\"type\":\"scatterpolargl\"}],\"scatterternary\":[{\"marker\":{\"colorbar\":{\"outlinewidth\":0,\"ticks\":\"\"}},\"type\":\"scatterternary\"}],\"surface\":[{\"colorbar\":{\"outlinewidth\":0,\"ticks\":\"\"},\"colorscale\":[[0.0,\"#0d0887\"],[0.1111111111111111,\"#46039f\"],[0.2222222222222222,\"#7201a8\"],[0.3333333333333333,\"#9c179e\"],[0.4444444444444444,\"#bd3786\"],[0.5555555555555556,\"#d8576b\"],[0.6666666666666666,\"#ed7953\"],[0.7777777777777778,\"#fb9f3a\"],[0.8888888888888888,\"#fdca26\"],[1.0,\"#f0f921\"]],\"type\":\"surface\"}],\"table\":[{\"cells\":{\"fill\":{\"color\":\"#EBF0F8\"},\"line\":{\"color\":\"white\"}},\"header\":{\"fill\":{\"color\":\"#C8D4E3\"},\"line\":{\"color\":\"white\"}},\"type\":\"table\"}]},\"layout\":{\"annotationdefaults\":{\"arrowcolor\":\"#2a3f5f\",\"arrowhead\":0,\"arrowwidth\":1},\"autotypenumbers\":\"strict\",\"coloraxis\":{\"colorbar\":{\"outlinewidth\":0,\"ticks\":\"\"}},\"colorscale\":{\"diverging\":[[0,\"#8e0152\"],[0.1,\"#c51b7d\"],[0.2,\"#de77ae\"],[0.3,\"#f1b6da\"],[0.4,\"#fde0ef\"],[0.5,\"#f7f7f7\"],[0.6,\"#e6f5d0\"],[0.7,\"#b8e186\"],[0.8,\"#7fbc41\"],[0.9,\"#4d9221\"],[1,\"#276419\"]],\"sequential\":[[0.0,\"#0d0887\"],[0.1111111111111111,\"#46039f\"],[0.2222222222222222,\"#7201a8\"],[0.3333333333333333,\"#9c179e\"],[0.4444444444444444,\"#bd3786\"],[0.5555555555555556,\"#d8576b\"],[0.6666666666666666,\"#ed7953\"],[0.7777777777777778,\"#fb9f3a\"],[0.8888888888888888,\"#fdca26\"],[1.0,\"#f0f921\"]],\"sequentialminus\":[[0.0,\"#0d0887\"],[0.1111111111111111,\"#46039f\"],[0.2222222222222222,\"#7201a8\"],[0.3333333333333333,\"#9c179e\"],[0.4444444444444444,\"#bd3786\"],[0.5555555555555556,\"#d8576b\"],[0.6666666666666666,\"#ed7953\"],[0.7777777777777778,\"#fb9f3a\"],[0.8888888888888888,\"#fdca26\"],[1.0,\"#f0f921\"]]},\"colorway\":[\"#636efa\",\"#EF553B\",\"#00cc96\",\"#ab63fa\",\"#FFA15A\",\"#19d3f3\",\"#FF6692\",\"#B6E880\",\"#FF97FF\",\"#FECB52\"],\"font\":{\"color\":\"#2a3f5f\"},\"geo\":{\"bgcolor\":\"white\",\"lakecolor\":\"white\",\"landcolor\":\"#E5ECF6\",\"showlakes\":true,\"showland\":true,\"subunitcolor\":\"white\"},\"hoverlabel\":{\"align\":\"left\"},\"hovermode\":\"closest\",\"mapbox\":{\"style\":\"light\"},\"paper_bgcolor\":\"white\",\"plot_bgcolor\":\"#E5ECF6\",\"polar\":{\"angularaxis\":{\"gridcolor\":\"white\",\"linecolor\":\"white\",\"ticks\":\"\"},\"bgcolor\":\"#E5ECF6\",\"radialaxis\":{\"gridcolor\":\"white\",\"linecolor\":\"white\",\"ticks\":\"\"}},\"scene\":{\"xaxis\":{\"backgroundcolor\":\"#E5ECF6\",\"gridcolor\":\"white\",\"gridwidth\":2,\"linecolor\":\"white\",\"showbackground\":true,\"ticks\":\"\",\"zerolinecolor\":\"white\"},\"yaxis\":{\"backgroundcolor\":\"#E5ECF6\",\"gridcolor\":\"white\",\"gridwidth\":2,\"linecolor\":\"white\",\"showbackground\":true,\"ticks\":\"\",\"zerolinecolor\":\"white\"},\"zaxis\":{\"backgroundcolor\":\"#E5ECF6\",\"gridcolor\":\"white\",\"gridwidth\":2,\"linecolor\":\"white\",\"showbackground\":true,\"ticks\":\"\",\"zerolinecolor\":\"white\"}},\"shapedefaults\":{\"line\":{\"color\":\"#2a3f5f\"}},\"ternary\":{\"aaxis\":{\"gridcolor\":\"white\",\"linecolor\":\"white\",\"ticks\":\"\"},\"baxis\":{\"gridcolor\":\"white\",\"linecolor\":\"white\",\"ticks\":\"\"},\"bgcolor\":\"#E5ECF6\",\"caxis\":{\"gridcolor\":\"white\",\"linecolor\":\"white\",\"ticks\":\"\"}},\"title\":{\"x\":0.05},\"xaxis\":{\"automargin\":true,\"gridcolor\":\"white\",\"linecolor\":\"white\",\"ticks\":\"\",\"title\":{\"standoff\":15},\"zerolinecolor\":\"white\",\"zerolinewidth\":2},\"yaxis\":{\"automargin\":true,\"gridcolor\":\"white\",\"linecolor\":\"white\",\"ticks\":\"\",\"title\":{\"standoff\":15},\"zerolinecolor\":\"white\",\"zerolinewidth\":2}}},\"title\":{\"text\":\"The Number of Games Installed in Millions\"},\"xaxis\":{\"anchor\":\"y\",\"domain\":[0.0,1.0],\"title\":{\"text\":\"installation_in_million\"}},\"yaxis\":{\"anchor\":\"x\",\"domain\":[0.0,1.0],\"title\":{\"text\":\"count\"}}},                        {\"responsive\": true}                    ).then(function(){\n",
       "                            \n",
       "var gd = document.getElementById('20c3ebcd-4334-4fb5-8a8f-fc34f7c4a848');\n",
       "var x = new MutationObserver(function (mutations, observer) {{\n",
       "        var display = window.getComputedStyle(gd).display;\n",
       "        if (!display || display === 'none') {{\n",
       "            console.log([gd, 'removed!']);\n",
       "            Plotly.purge(gd);\n",
       "            observer.disconnect();\n",
       "        }}\n",
       "}});\n",
       "\n",
       "// Listen for the removal of the full notebook cells\n",
       "var notebookContainer = gd.closest('#notebook-container');\n",
       "if (notebookContainer) {{\n",
       "    x.observe(notebookContainer, {childList: true});\n",
       "}}\n",
       "\n",
       "// Listen for the clearing of the current output cell\n",
       "var outputEl = gd.closest('.output');\n",
       "if (outputEl) {{\n",
       "    x.observe(outputEl, {childList: true});\n",
       "}}\n",
       "\n",
       "                        })                };                });            </script>        </div>"
      ]
     },
     "metadata": {},
     "output_type": "display_data"
    }
   ],
   "source": [
    "fig = px.histogram(df, x= 'installation_in_million', title='The Number of Games Installed in Millions')\n",
    "fig.show()"
   ]
  },
  {
   "cell_type": "code",
   "execution_count": 62,
   "id": "33ae403e",
   "metadata": {
    "execution": {
     "iopub.execute_input": "2021-07-17T21:46:12.744452Z",
     "iopub.status.busy": "2021-07-17T21:46:12.743533Z",
     "iopub.status.idle": "2021-07-17T21:46:12.833861Z",
     "shell.execute_reply": "2021-07-17T21:46:12.833267Z",
     "shell.execute_reply.started": "2021-07-17T21:42:11.810432Z"
    },
    "papermill": {
     "duration": 0.219979,
     "end_time": "2021-07-17T21:46:12.834008",
     "exception": false,
     "start_time": "2021-07-17T21:46:12.614029",
     "status": "completed"
    },
    "tags": []
   },
   "outputs": [
    {
     "data": {
      "text/html": [
       "<div>                            <div id=\"65c65c7b-1a55-430b-ba42-04d5aee639e4\" class=\"plotly-graph-div\" style=\"height:525px; width:100%;\"></div>            <script type=\"text/javascript\">                require([\"plotly\"], function(Plotly) {                    window.PLOTLYENV=window.PLOTLYENV || {};                                    if (document.getElementById(\"65c65c7b-1a55-430b-ba42-04d5aee639e4\")) {                    Plotly.newPlot(                        \"65c65c7b-1a55-430b-ba42-04d5aee639e4\",                        [{\"alignmentgroup\":\"True\",\"customdata\":[[\"Garena Free Fire - The Cobra\",\"GAME ACTION\"],[\"PUBG MOBILE: Graffiti Prank\",\"GAME ACTION\"],[\"Mobile Legends: Bang Bang\",\"GAME ACTION\"],[\"Brawl Stars\",\"GAME ACTION\"],[\"Sniper 3D: Fun Free Online FPS Shooting Game\",\"GAME ACTION\"],[\"Shadow Fight 2\",\"GAME ACTION\"],[\"Call of Duty\\u00ae: Mobile - Day of Reckoning\",\"GAME ACTION\"],[\"Among Us\",\"GAME ACTION\"],[\"Temple Run 2\",\"GAME ACTION\"],[\"PUBG MOBILE LITE\",\"GAME ACTION\"],[\"slither.io\",\"GAME ACTION\"],[\"Gangstar Vegas: World of Crime\",\"GAME ACTION\"],[\"Pixel Gun 3D: FPS Shooter & Battle Royale\",\"GAME ACTION\"],[\"Bowmasters\",\"GAME ACTION\"],[\"Standoff 2\",\"GAME ACTION\"],[\"Crossy Road\",\"GAME ACTION\"],[\"Banana Kong\",\"GAME ACTION\"],[\"Garena Li\\u00ean Qu\\u00e2n Mobile\",\"GAME ACTION\"],[\"Helix Jump\",\"GAME ACTION\"],[\"War Robots. 6v6 Tactical Multiplayer Battles\",\"GAME ACTION\"],[\"MORTAL KOMBAT: The Ultimate Fighting Game!\",\"GAME ACTION\"],[\"Agar.io\",\"GAME ACTION\"],[\"Last Day on Earth: Survival\",\"GAME ACTION\"],[\"DEER HUNTER CLASSIC\",\"GAME ACTION\"],[\"Modern Combat 5: eSports FPS\",\"GAME ACTION\"],[\"Kick the Buddy\",\"GAME ACTION\"],[\"DEAD TRIGGER 2 - Zombie Game FPS shooter\",\"GAME ACTION\"],[\"Marvel Contest of Champions\",\"GAME ACTION\"],[\"Mini Militia - Doodle Army 2\",\"GAME ACTION\"],[\"Garena RoV: Songkran\",\"GAME ACTION\"],[\"CATS: Crash Arena Turbo Stars\",\"GAME ACTION\"],[\"Call of Duty\\u00ae: Mobile - Garena\",\"GAME ACTION\"],[\"Injustice: Gods Among Us\",\"GAME ACTION\"],[\"Swamp Attack\",\"GAME ACTION\"],[\"GUNSHIP BATTLE: Helicopter 3D\",\"GAME ACTION\"],[\"Real Steel World Robot Boxing\",\"GAME ACTION\"],[\"World War Heroes: WW2 FPS\",\"GAME ACTION\"],[\"Critical Ops: Online Multiplayer FPS Shooting Game\",\"GAME ACTION\"],[\"A LINE Rangers/Crayon Shinchan tower defense RPG!\",\"GAME ACTION\"],[\"Six-Guns: Gang Showdown\",\"GAME ACTION\"],[\"Cover Fire: Offline Shooting Games\",\"GAME ACTION\"],[\"DEAD TARGET: Zombie Offline - Shooting Games\",\"GAME ACTION\"],[\"FRONTLINE COMMANDO: D-DAY\",\"GAME ACTION\"],[\"Worms Zone .io - Voracious Snake\",\"GAME ACTION\"],[\"Mario Kart Tour\",\"GAME ACTION\"],[\"Gods of Boom - Online PvP Action\",\"GAME ACTION\"],[\"RULES OF SURVIVAL\",\"GAME ACTION\"],[\"Hunter Assassin\",\"GAME ACTION\"],[\"Zombie Catchers - love the hunt!\",\"GAME ACTION\"],[\"Into the Dead\",\"GAME ACTION\"],[\"Respawnables \\u2013 Online PVP Battles\",\"GAME ACTION\"],[\"Modern Strike Online: Free PvP FPS shooting game\",\"GAME ACTION\"],[\"Block Strike\",\"GAME ACTION\"],[\"Blitz Brigade - Online FPS fun\",\"GAME ACTION\"],[\"Super Mario Run\",\"GAME ACTION\"],[\"Archero\",\"GAME ACTION\"],[\"N.O.V.A. Legacy\",\"GAME ACTION\"],[\"Tomb of the Mask\",\"GAME ACTION\"],[\"DINO HUNTER: DEADLY SHORES\",\"GAME ACTION\"],[\"DEAD TRIGGER - Offline Zombie Shooter\",\"GAME ACTION\"],[\"Johnny Trigger - Action Shooting Game\",\"GAME ACTION\"],[\"PPSSPP - PSP emulator\",\"GAME ACTION\"],[\"Robbery Bob\",\"GAME ACTION\"],[\"Hide Online - Hunters vs Props\",\"GAME ACTION\"],[\"Soul Knight\",\"GAME ACTION\"],[\"Creative Destruction\",\"GAME ACTION\"],[\"aquapark.io\",\"GAME ACTION\"],[\"Bomber Friends\",\"GAME ACTION\"],[\"Anger of stick 5 : zombie\",\"GAME ACTION\"],[\"Modern Sniper\",\"GAME ACTION\"],[\"DRAGON BALL LEGENDS\",\"GAME ACTION\"],[\"Nebulous.io\",\"GAME ACTION\"],[\"War Machines: Tank Battle - Army & Military Games\",\"GAME ACTION\"],[\"Garena AOV: Link Start\",\"GAME ACTION\"],[\"Sea Battle 2\",\"GAME ACTION\"],[\"DRAGON BALL Z DOKKAN BATTLE\",\"GAME ACTION\"],[\"FRAG Pro Shooter\",\"GAME ACTION\"],[\"Angry Gran Run - Running Game\",\"GAME ACTION\"],[\"PUBG MOBILE\",\"GAME ACTION\"],[\"Deer Hunter 2018\",\"GAME ACTION\"],[\"Rope Hero: Vice Town\",\"GAME ACTION\"],[\"Sniper Fury: Online 3D FPS & Sniper Shooter Game\",\"GAME ACTION\"],[\"FRONTLINE COMMANDO 2\",\"GAME ACTION\"],[\"Battlelands Royale\",\"GAME ACTION\"],[\"Arena of Valor: 5v5 Arena Game\",\"GAME ACTION\"],[\"Real Gangster Crime\",\"GAME ACTION\"],[\"Legacy of Discord-FuriousWings\",\"GAME ACTION\"],[\"BombSquad\",\"GAME ACTION\"],[\"Talking Tom Hero Dash - Run Game\",\"GAME ACTION\"],[\"PUBG MOBILE VN \\u2013 GRAFFITI PRANK\",\"GAME ACTION\"],[\"Crisis Action: 5th Anniversary\",\"GAME ACTION\"],[\"Hitman Sniper\",\"GAME ACTION\"],[\"Miraculous Ladybug & Cat Noir\",\"GAME ACTION\"],[\"Beat the Boss 3\",\"GAME ACTION\"],[\"Flippy Knife\",\"GAME ACTION\"],[\"BLOOD & GLORY\",\"GAME ACTION\"],[\"Bus Rush\",\"GAME ACTION\"],[\"Injustice 2\",\"GAME ACTION\"],[\"Zooba: Free-for-all Zoo Combat Battle Royale Games\",\"GAME ACTION\"],[\"NARUTO X BORUTO NINJA VOLTAGE\",\"GAME ACTION\"],[\"Roblox\",\"GAME ADVENTURE\"],[\"Pok\\u00e9mon GO\",\"GAME ADVENTURE\"],[\"Criminal Case\",\"GAME ADVENTURE\"],[\"\\ucfe0\\ud0a4\\ub7f0 for Kakao\",\"GAME ADVENTURE\"],[\"Harry Potter: Hogwarts Mystery\",\"GAME ADVENTURE\"],[\"Kiloblocks Lite\",\"GAME ADVENTURE\"],[\"PK XD - Explore and Play with your Friends!\",\"GAME ADVENTURE\"],[\"Mini World: Block Art\",\"GAME ADVENTURE\"],[\"BADLAND\",\"GAME ADVENTURE\"],[\"Ice Age Adventures\",\"GAME ADVENTURE\"],[\"Genshin Impact\",\"GAME ADVENTURE\"],[\"Clumsy Ninja\",\"GAME ADVENTURE\"],[\"The Walking Dead: Season One\",\"GAME ADVENTURE\"],[\"Benji Bananas\",\"GAME ADVENTURE\"],[\"KIM KARDASHIAN: HOLLYWOOD\",\"GAME ADVENTURE\"],[\"Hidden City: Hidden Object Adventure\",\"GAME ADVENTURE\"],[\"Family Guy The Quest for Stuff\",\"GAME ADVENTURE\"],[\"Growtopia\",\"GAME ADVENTURE\"],[\"The Secret Society - Hidden Objects Mystery\",\"GAME ADVENTURE\"],[\"Murder in the Alps\",\"GAME ADVENTURE\"],[\"June's Journey - Hidden Objects\",\"GAME ADVENTURE\"],[\"Tiny Miner\",\"GAME ADVENTURE\"],[\"Rayman Adventures\",\"GAME ADVENTURE\"],[\"Swordigo\",\"GAME ADVENTURE\"],[\"The Walking Dead: Season Two\",\"GAME ADVENTURE\"],[\"Eyes: Scary Thriller - Creepy Horror Game\",\"GAME ADVENTURE\"],[\"WorldCraft: 3D Build & Block Craft\",\"GAME ADVENTURE\"],[\"ARK: Survival Evolved\",\"GAME ADVENTURE\"],[\"Sonic Forces \\u2013 Multiplayer Racing & Battle Game\",\"GAME ADVENTURE\"],[\"Beggar Life - Clicker adventure\",\"GAME ADVENTURE\"],[\"RealmCraft with Skins Export to Minecraft\",\"GAME ADVENTURE\"],[\"Animation Throwdown: The Collectible Card Game\",\"GAME ADVENTURE\"],[\"Knives Out-No rules, just fight!\",\"GAME ADVENTURE\"],[\"Jurassic World Alive\",\"GAME ADVENTURE\"],[\"House Designer : Fix & Flip\",\"GAME ADVENTURE\"],[\"Seekers Notes: Hidden Mystery\",\"GAME ADVENTURE\"],[\"Crab War : Idle Swarm Evolution\",\"GAME ADVENTURE\"],[\"Cyber Hunter\",\"GAME ADVENTURE\"],[\"Mystery Manor: hidden objects\",\"GAME ADVENTURE\"],[\"Diggy's Adventure: Mine Maze Levels & Pipe Puzzles\",\"GAME ADVENTURE\"],[\"Ninja Arashi\",\"GAME ADVENTURE\"],[\"LONEWOLF (17+) - a Sniper Story\",\"GAME ADVENTURE\"],[\"Monster Warlord\",\"GAME ADVENTURE\"],[\"Ingress Prime\",\"GAME ADVENTURE\"],[\"Super Bob's World : Free Run Game\",\"GAME ADVENTURE\"],[\"Hidden Hotel: Miami Mystery\",\"GAME ADVENTURE\"],[\"Survivors: The Quest\",\"GAME ADVENTURE\"],[\"Hard Time (Prison Sim)\",\"GAME ADVENTURE\"],[\"Draw a Stickman: EPIC 2\",\"GAME ADVENTURE\"],[\"Adventure Escape: Asylum\",\"GAME ADVENTURE\"],[\"Transformers: RobotsInDisguise\",\"GAME ADVENTURE\"],[\"Westland Survival - Be a survivor in the Wild West\",\"GAME ADVENTURE\"],[\"Ghost Town Adventures: Mystery Riddles Game\",\"GAME ADVENTURE\"],[\"Terraria\",\"GAME ADVENTURE\"],[\"Piggy Boom-Be the coin master\",\"GAME ADVENTURE\"],[\"KENDALL & KYLIE\",\"GAME ADVENTURE\"],[\"Shipwrecked:Castaway Island\",\"GAME ADVENTURE\"],[\"Harry Potter: Wizards Unite\",\"GAME ADVENTURE\"],[\"Masha and the Bear Child Games\",\"GAME ADVENTURE\"],[\"Pearl's Peril - Hidden Object Game\",\"GAME ADVENTURE\"],[\"Manor Matters\",\"GAME ADVENTURE\"],[\"Mirrors of Albion\",\"GAME ADVENTURE\"],[\"Hollywood Story: Fashion Star\",\"GAME ADVENTURE\"],[\"Diamond Quest: Don't Rush!\",\"GAME ADVENTURE\"],[\"Hello Neighbor\",\"GAME ADVENTURE\"],[\"Super Bino Go - New Adventure Game\",\"GAME ADVENTURE\"],[\"Ninja warrior: legend of adventure games\",\"GAME ADVENTURE\"],[\"Devil Ninja 2\",\"GAME ADVENTURE\"],[\"Stormfall: Saga of Survival\",\"GAME ADVENTURE\"],[\"\\ud68c\\uc0c9\\ub3c4\\uc2dc for Kakao\",\"GAME ADVENTURE\"],[\"Crafting and Building\",\"GAME ADVENTURE\"],[\"LEGO\\u00ae Star Wars\\u2122: TFA\",\"GAME ADVENTURE\"],[\"Tinker Island - Survival Story Adventure\",\"GAME ADVENTURE\"],[\"\\ufeffDragon Land\",\"GAME ADVENTURE\"],[\"The Island Castaway: Lost World\\u00ae\",\"GAME ADVENTURE\"],[\"Criminal Case: Pacific Bay\",\"GAME ADVENTURE\"],[\"The Wolf Among Us\",\"GAME ADVENTURE\"],[\"Dead Ninja Mortal Shadow\",\"GAME ADVENTURE\"],[\"Egg Wars\",\"GAME ADVENTURE\"],[\"BlockStarPlanet\",\"GAME ADVENTURE\"],[\"Draw a Stickman: EPIC Free\",\"GAME ADVENTURE\"],[\"Benji Bananas Adventures\",\"GAME ADVENTURE\"],[\"Hotel Transylvania Adventures - Run, Jump, Build!\",\"GAME ADVENTURE\"],[\"Street Chaser\",\"GAME ADVENTURE\"],[\"Survival Island: EVO 2\",\"GAME ADVENTURE\"],[\"Seven - Deadly Revelation - Horror Chat Adventure\",\"GAME ADVENTURE\"],[\"FPS Commando Secret Mission - Free Shooting Games\",\"GAME ADVENTURE\"],[\"Zoo 2: Animal Park\",\"GAME ADVENTURE\"],[\"3D Maze / Labyrinth\",\"GAME ADVENTURE\"],[\"CASE: Animatronics - Horror game\",\"GAME ADVENTURE\"],[\"Super City (Superhero Sim)\",\"GAME ADVENTURE\"],[\"Spider Rope Hero - Gangster New York City\",\"GAME ADVENTURE\"],[\"Adventure Time: Heroes of Ooo\",\"GAME ADVENTURE\"],[\"Friendzoned\",\"GAME ADVENTURE\"],[\"Nobodies: Murder Cleaner\",\"GAME ADVENTURE\"],[\"Stranger Things: The Game\",\"GAME ADVENTURE\"],[\"Homicide Squad: New York Cases\",\"GAME ADVENTURE\"],[\"Futurama: Worlds of Tomorrow\",\"GAME ADVENTURE\"],[\"Jurassic Survival Island: Dinosaurs & Craft\",\"GAME ADVENTURE\"],[\"Critical Action :Gun Strike Ops - Shooting Game\",\"GAME ADVENTURE\"],[\"Subway Surfers\",\"GAME ARCADE\"],[\"Hungry Shark Evolution - Offline survival game\",\"GAME ARCADE\"],[\"Geometry Dash Lite\",\"GAME ARCADE\"],[\"Zombie Tsunami\",\"GAME ARCADE\"],[\"Angry Birds Classic\",\"GAME ARCADE\"],[\"Fruit Ninja\\u00ae\",\"GAME ARCADE\"],[\"Sonic Dash - Endless Running & Racing Game\",\"GAME ARCADE\"],[\"Jetpack Joyride\",\"GAME ARCADE\"],[\"Temple Run\",\"GAME ARCADE\"],[\"Smash Hit\",\"GAME ARCADE\"],[\"Cooking Fever\",\"GAME ARCADE\"],[\"Minecraft\",\"GAME ARCADE\"],[\"Vector\",\"GAME ARCADE\"],[\"Granny\",\"GAME ARCADE\"],[\"DragonFlight\",\"GAME ARCADE\"],[\"Red Ball 4\",\"GAME ARCADE\"],[\"Block Craft 3D: Building Simulator Games For Free\",\"GAME ARCADE\"],[\"Minecraft Trial\",\"GAME ARCADE\"],[\"Cooking Madness - A Chef's Restaurant Games\",\"GAME ARCADE\"],[\"Galaxy Attack: Alien Shooter\",\"GAME ARCADE\"],[\"Blockman Go\",\"GAME ARCADE\"],[\"Paper.io 2\",\"GAME ARCADE\"],[\"Angry Birds Transformers\",\"GAME ARCADE\"],[\"Hungry Shark World\",\"GAME ARCADE\"],[\"Glow Hockey\",\"GAME ARCADE\"],[\"Geometry Dash Meltdown\",\"GAME ARCADE\"],[\"Angry Birds Seasons\",\"GAME ARCADE\"],[\"\\uc708\\ub4dc\\ub7ec\\ub108\",\"GAME ARCADE\"],[\"Crowd City\",\"GAME ARCADE\"],[\"Brothers in Arms\\u00ae 3\",\"GAME ARCADE\"],[\"Tank Stars\",\"GAME ARCADE\"],[\"Rise Up\",\"GAME ARCADE\"],[\"Join Clash 3D\",\"GAME ARCADE\"],[\"Payback 2 - The Battle Sandbox\",\"GAME ARCADE\"],[\"Angry Birds Space\",\"GAME ARCADE\"],[\"Skater Boy\",\"GAME ARCADE\"],[\"Ant Smasher\",\"GAME ARCADE\"],[\"Partymasters - Fun Idle Game\",\"GAME ARCADE\"],[\"Tap Tap Dash\",\"GAME ARCADE\"],[\"101-in-1 Games\",\"GAME ARCADE\"],[\"Doodle Jump\",\"GAME ARCADE\"],[\"Hole.io\",\"GAME ARCADE\"],[\"Zombie Roadkill 3D\",\"GAME ARCADE\"],[\"Lep's World 2 \\ud83c\\udf40\\ud83c\\udf40\",\"GAME ARCADE\"],[\"Rider\",\"GAME ARCADE\"],[\"Lep's World \\ud83c\\udf40\",\"GAME ARCADE\"],[\"Angry Birds Friends\",\"GAME ARCADE\"],[\"Dan the Man: Action Platformer\",\"GAME ARCADE\"],[\"Rail Rush\",\"GAME ARCADE\"],[\"Geometry Dash World\",\"GAME ARCADE\"],[\"Lep's World 3 \\ud83c\\udf40\\ud83c\\udf40\\ud83c\\udf40\",\"GAME ARCADE\"],[\"Knife Hit\",\"GAME ARCADE\"],[\"Zombie Smasher\",\"GAME ARCADE\"],[\"Cookie Run: OvenBreak - Endless Running Platformer\",\"GAME ARCADE\"],[\"PAC-MAN\",\"GAME ARCADE\"],[\"Stack Ball - Blast through platforms\",\"GAME ARCADE\"],[\"Stickman Party: 1 2 3 4 Player Games Free\",\"GAME ARCADE\"],[\"Subway Princess Runner\",\"GAME ARCADE\"],[\"Multiplayer for Minecraft PE - MCPE Servers\",\"GAME ARCADE\"],[\"Vector 2\",\"GAME ARCADE\"],[\"1945 airforce - Free arcade shooting games\",\"GAME ARCADE\"],[\"Geometry Dash\",\"GAME ARCADE\"],[\"Jewels Switch\",\"GAME ARCADE\"],[\"Granny: Chapter Two\",\"GAME ARCADE\"],[\"Stick Hero\",\"GAME ARCADE\"],[\"Zombie High School\",\"GAME ARCADE\"],[\"Stupid Zombies\",\"GAME ARCADE\"],[\"Sky Whale\",\"GAME ARCADE\"],[\"LokiCraft\",\"GAME ARCADE\"],[\"Draw it\",\"GAME ARCADE\"],[\"Fernanfloo\",\"GAME ARCADE\"],[\"Sky Roller\",\"GAME ARCADE\"],[\"Geometry Dash SubZero\",\"GAME ARCADE\"],[\"Space shooter - Galaxy attack - Galaxy shooter\",\"GAME ARCADE\"],[\"Cartoon Wars\",\"GAME ARCADE\"],[\"Run\",\"GAME ARCADE\"],[\"Snake VS Block\",\"GAME ARCADE\"],[\"Zombie World War\",\"GAME ARCADE\"],[\"My Boy! Free - GBA Emulator\",\"GAME ARCADE\"],[\"Daddy Long Legs\",\"GAME ARCADE\"],[\"Burrito Bison: Launcha Libre\",\"GAME ARCADE\"],[\"Bricks Ball Crusher\",\"GAME ARCADE\"],[\"Stickman Hook\",\"GAME ARCADE\"],[\"Falcon Squad: Galaxy Attack - Free shooting games\",\"GAME ARCADE\"],[\"Jewels Legend - Match 3 Puzzle\",\"GAME ARCADE\"],[\"Evil Nun : Scary Horror Game Adventure\",\"GAME ARCADE\"],[\"BBTAN by 111%\",\"GAME ARCADE\"],[\"Prize Claw\",\"GAME ARCADE\"],[\"Monster Dash\",\"GAME ARCADE\"],[\"Polysphere - art of puzzle\",\"GAME ARCADE\"],[\"Ball Blast\",\"GAME ARCADE\"],[\"Will Hero\",\"GAME ARCADE\"],[\"Duet\",\"GAME ARCADE\"],[\"Tigerball\",\"GAME ARCADE\"],[\"Infinite Stairs\",\"GAME ARCADE\"],[\"Sky Force 2014\",\"GAME ARCADE\"],[\"Human Evolution Clicker: Tap and Evolve Life Forms\",\"GAME ARCADE\"],[\"Slendrina:The Cellar (Free)\",\"GAME ARCADE\"],[\"Run Sausage Run!\",\"GAME ARCADE\"],[\"Tank Hero\",\"GAME ARCADE\"],[\"Ludo King\\u2122\",\"GAME BOARD\"],[\"Happy Color\\u2122 \\u2013 Color by Number. Coloring games.\",\"GAME BOARD\"],[\"101 Y\\u00fczbir Okey Plus\",\"GAME BOARD\"],[\"Parchisi STAR Online\",\"GAME BOARD\"],[\"\\ubaa8\\ub450\\uc758\\ub9c8\\ube14\",\"GAME BOARD\"],[\"Chess Free\",\"GAME BOARD\"],[\"Chess\",\"GAME BOARD\"],[\"Okey Plus\",\"GAME BOARD\"],[\"Paint By Number - Coloring Book & Color by Number\",\"GAME BOARD\"],[\"Ludo Club - Fun Dice Game\",\"GAME BOARD\"],[\"Higgs Domino Island-Gaple QiuQiu Poker Game Online\",\"GAME BOARD\"],[\"Dominoes\",\"GAME BOARD\"],[\"Checkers\",\"GAME BOARD\"],[\"Bingo Blitz\\u2122\\ufe0f - Bingo Games\",\"GAME BOARD\"],[\"Ludo STAR\",\"GAME BOARD\"],[\"Bingo Bash featuring MONOPOLY: Live Bingo Games\",\"GAME BOARD\"],[\"Bingo Showdown Free Bingo Games \\u2013 Bingo Live Game\",\"GAME BOARD\"],[\"Mahjong Titan\",\"GAME BOARD\"],[\"\\u00c7anak Okey Plus\",\"GAME BOARD\"],[\"Ludo Star 2\",\"GAME BOARD\"],[\"Okey\",\"GAME BOARD\"],[\"Checkers\",\"GAME BOARD\"],[\"Chess - Play and Learn\",\"GAME BOARD\"],[\"1LINE \\u2013 One Line with One Touch\",\"GAME BOARD\"],[\"BINGO!\",\"GAME BOARD\"],[\"Backgammon Plus\",\"GAME BOARD\"],[\"LANDLORD TYCOON Business Simulator Investing Game\",\"GAME BOARD\"],[\"Real Chess\",\"GAME BOARD\"],[\"Slots: VIP Deluxe Slot Machines Free - Vegas Slots\",\"GAME BOARD\"],[\"Mahjong Epic\",\"GAME BOARD\"],[\"Tic Tac Toe\",\"GAME BOARD\"],[\"Backgammon Free\",\"GAME BOARD\"],[\"Dominos Online Jogatina: Dominoes Game Free\",\"GAME BOARD\"],[\"Mahjong City Tours: Free Mahjong Classic Game\",\"GAME BOARD\"],[\"Bingo Party - Free Classic Bingo Games Online\",\"GAME BOARD\"],[\"Rento - Dice Board Game Online\",\"GAME BOARD\"],[\"Snakes & Ladders King\",\"GAME BOARD\"],[\"Game of Dice\",\"GAME BOARD\"],[\"Pinball Pro\",\"GAME BOARD\"],[\"Checkers Online Elite\",\"GAME BOARD\"],[\"Woody Block Puzzle \\u00ae\",\"GAME BOARD\"],[\"Good Knight Story\",\"GAME BOARD\"],[\"Bingo Pop: Free Live Multiplayer Bingo Board Games\",\"GAME BOARD\"],[\"Backgammon - Narde\",\"GAME BOARD\"],[\"Tap Color - Color by number. Coloring Game\",\"GAME BOARD\"],[\"RISK: Global Domination\",\"GAME BOARD\"],[\"Slots: Epic Jackpot Slots Games Free & Casino Game\",\"GAME BOARD\"],[\"Onnect - Pair Matching Puzzle\",\"GAME BOARD\"],[\"Domino Gaple TopFun(Domino QiuQiu):Free dan online\",\"GAME BOARD\"],[\"Ludo SuperStar\",\"GAME BOARD\"],[\"C\\u1edd T\\u1ef7 Ph\\u00fa - Co Ty Phu ZingPlay - Board Game\",\"GAME BOARD\"],[\"Yalla Ludo - Ludo&Domino\",\"GAME BOARD\"],[\"Mahjong Master\",\"GAME BOARD\"],[\"Chess - Clash of Kings\",\"GAME BOARD\"],[\"Colorscapes - Color by Number, Coloring Games\",\"GAME BOARD\"],[\"Ludo Talent- Online Ludo&Chatroom\",\"GAME BOARD\"],[\"YAHTZEE\\u00ae With Buddies Dice Game\",\"GAME BOARD\"],[\"Backgammon Free - Lord of the Board - Table Game\",\"GAME BOARD\"],[\"Fun 101 Okey\",\"GAME BOARD\"],[\"Tile Craft - Triple Crush: Puzzle matching game\",\"GAME BOARD\"],[\"Travelling Millionaire\",\"GAME BOARD\"],[\"Dice With Buddies\\u2122 Free - The Fun Social Dice Game\",\"GAME BOARD\"],[\"\\u00c7anak Okey - Mynet\",\"GAME BOARD\"],[\"Reversi Free\",\"GAME BOARD\"],[\"Ludo Classic\",\"GAME BOARD\"],[\"Rummikub\\u00ae\",\"GAME BOARD\"],[\"Checkers\",\"GAME BOARD\"],[\"Fleet Battle - Sea Battle\",\"GAME BOARD\"],[\"Chess\",\"GAME BOARD\"],[\"Tile Master - Classic Triple Match & Puzzle Game\",\"GAME BOARD\"],[\"Domino QiuQiu KiuKiu Online(koin gratis)\",\"GAME BOARD\"],[\"Ludo\",\"GAME BOARD\"],[\"Tic Tac Toe Free\",\"GAME BOARD\"],[\"Einstein's Riddle Logic Puzzles\",\"GAME BOARD\"],[\"Numberzilla - Number Puzzle | Board Game\",\"GAME BOARD\"],[\"Four In A Line Free\",\"GAME BOARD\"],[\"Ludo All Star - Play Online Ludo Game & Board Game\",\"GAME BOARD\"],[\"\\uc778\\uc0dd\\uc5ed\\uc804\\uc737\\ub180\\uc774\",\"GAME BOARD\"],[\"Slot Casino - Slot Machines\",\"GAME BOARD\"],[\"Loco Parch\\u00eds - Magic Ludo & Mega dice! USA Vip Bet\",\"GAME BOARD\"],[\"Carrom 3D\",\"GAME BOARD\"],[\"Chess Online - Duel friends online!\",\"GAME BOARD\"],[\"Chess for Android\",\"GAME BOARD\"],[\"Sudoku Free\",\"GAME BOARD\"],[\"lichess \\u2022 Free Online Chess\",\"GAME BOARD\"],[\"Truth or Dare \\u2014 Dirty Party Game for Adults 18+\",\"GAME BOARD\"],[\"Slots: Fast Fortune Free Casino Slots with Bonus\",\"GAME BOARD\"],[\"Loto Online\",\"GAME BOARD\"],[\"Dr. Chess\",\"GAME BOARD\"],[\"World Chess Championship\",\"GAME BOARD\"],[\"Domino! The world's largest dominoes community\",\"GAME BOARD\"],[\"Chess Online\",\"GAME BOARD\"],[\"Backgammon Live: Play Online Backgammon Free Games\",\"GAME BOARD\"],[\"Praia Bingo - Bingo Games + Slot + Casino\",\"GAME BOARD\"],[\"Super Bingo HD\\u2122: Best Free Bingo Games\",\"GAME BOARD\"],[\"Tile Connect - Free Tile Puzzle & Match Brain Game\",\"GAME BOARD\"],[\"Okey Extra\",\"GAME BOARD\"],[\"Dr. Gomoku\",\"GAME BOARD\"],[\"Ludo Neo-Classic : King of the Dice Game 2020\",\"GAME BOARD\"],[\"Color by Number: Free Coloring Games - Paint Book\",\"GAME BOARD\"],[\"Yu-Gi-Oh! Duel Links\",\"GAME CARD\"],[\"Hearthstone\",\"GAME CARD\"],[\"Solitaire\",\"GAME CARD\"],[\"Solitaire\",\"GAME CARD\"],[\"Solitaire\",\"GAME CARD\"],[\"World Series of Poker WSOP Free Texas Holdem Poker\",\"GAME CARD\"],[\"Live Hold\\u2019em Pro Poker - Free Casino Games\",\"GAME CARD\"],[\"Pyramid Solitaire Saga\",\"GAME CARD\"],[\"UNO!\\u2122\",\"GAME CARD\"],[\"Solitaire Grand Harvest - Free Tripeaks Solitaire\",\"GAME CARD\"],[\"Solitaire\",\"GAME CARD\"],[\"Solitaire\",\"GAME CARD\"],[\"Solitaire\",\"GAME CARD\"],[\"Solitaire TriPeaks: Play Free Solitaire Card Games\",\"GAME CARD\"],[\"Fairway Solitaire Blast\",\"GAME CARD\"],[\"Gin Rummy Plus\",\"GAME CARD\"],[\"Spider Solitaire\",\"GAME CARD\"],[\"Solitaire\",\"GAME CARD\"],[\"Solitaire\",\"GAME CARD\"],[\"Solitaire\",\"GAME CARD\"],[\"Truco Blyts\",\"GAME CARD\"],[\"Poker Games: World Poker Club\",\"GAME CARD\"],[\"Deck Heroes: Legacy\",\"GAME CARD\"],[\"Legends of Runeterra\",\"GAME CARD\"],[\"Durak Online\",\"GAME CARD\"],[\"Solitaire!\",\"GAME CARD\"],[\"Solitaire\",\"GAME CARD\"],[\"Solitaire\",\"GAME CARD\"],[\"Poker Heat\\u2122 - Free Texas Holdem Poker Games\",\"GAME CARD\"],[\"Solitaire\",\"GAME CARD\"],[\"Solitaire\",\"GAME CARD\"],[\"Dummy & Toon Poker Texas slot Online Card Game\",\"GAME CARD\"],[\"PokerStars: Free Poker Games with Texas Holdem\",\"GAME CARD\"],[\"\\ud53c\\ub9dd \\ub274\\ub9de\\uace0 : \\uace0\\uc2a4\\ud1b1\\uc73c\\ub85c \\ub300\\ud55c\\ubbfc\\uad6d 1\\ub4f1\",\"GAME CARD\"],[\"Spider Solitaire\",\"GAME CARD\"],[\"Order & Chaos Duels\",\"GAME CARD\"],[\"Conquian Zingplay: el mejor juego de cartas gratis\",\"GAME CARD\"],[\"GWENT: The Witcher Card Game\",\"GAME CARD\"],[\"Spades Plus - Card Game\",\"GAME CARD\"],[\"Governor of Poker 2 - OFFLINE POKER GAME\",\"GAME CARD\"],[\"Callbreak Multiplayer\",\"GAME CARD\"],[\"Buraco Canasta Jogatina: Card Games For Free\",\"GAME CARD\"],[\"Governor of Poker 3 - Free Texas Holdem Card Games\",\"GAME CARD\"],[\"Jawaker Trix, Tarneeb, Baloot, Hand & More\",\"GAME CARD\"],[\"Gaple-Domino QiuQiu Poker Capsa Ceme Game Online\",\"GAME CARD\"],[\"Texas Hold'em & Omaha Poker: Pokerist\",\"GAME CARD\"],[\"Indian Rummy - Play Rummy Game Online\",\"GAME CARD\"],[\"RummyCircle - Play Indian Rummy Online | Card Game\",\"GAME CARD\"],[\"FreeCell Solitaire\",\"GAME CARD\"],[\"Spades Free\",\"GAME CARD\"],[\"Absolute Bingo- Free Bingo Games Offline or Online\",\"GAME CARD\"],[\"TopFun Domino QiuQiu:Domino99 (KiuKiu)\",\"GAME CARD\"],[\"Durak\",\"GAME CARD\"],[\"Spades Royale - Best Online Spades Card Games App\",\"GAME CARD\"],[\"Solitaire TriPeaks Journey - Free Card Game\",\"GAME CARD\"],[\"Scopa - Free Italian Card Game Online\",\"GAME CARD\"],[\"Solitaire Arena\",\"GAME CARD\"],[\"Mango Capsa Susun\",\"GAME CARD\"],[\"Microsoft Solitaire Collection\",\"GAME CARD\"],[\"Solitaire\",\"GAME CARD\"],[\"Solitaire\",\"GAME CARD\"],[\"Solitaire\",\"GAME CARD\"],[\"Soccer Spirits\",\"GAME CARD\"],[\"Solitaire\",\"GAME CARD\"],[\"Solitaire\",\"GAME CARD\"],[\"Solitaire\",\"GAME CARD\"],[\"Polskie Z\\u0142ote Zdrapki\",\"GAME CARD\"],[\"Belote.com - Free Belote Game\",\"GAME CARD\"],[\"Truco ZingPlay: Jogo de cartas online gr\\u00e1tis\",\"GAME CARD\"],[\"Solitaire\",\"GAME CARD\"],[\"Solitaire\",\"GAME CARD\"],[\"Solitaire\",\"GAME CARD\"],[\"Fairway Solitaire - Card Game\",\"GAME CARD\"],[\"Dummy Hero\",\"GAME CARD\"],[\"\\u0e44\\u0e1e\\u0e48\\u0e41\\u0e04\\u0e07 - \\u0e21\\u0e35\\u0e14\\u0e31\\u0e21\\u0e21\\u0e35\\u0e48 \\u0e1b\\u0e4a\\u0e2d\\u0e01\\u0e40\\u0e14\\u0e49\\u0e07 \\u0e44\\u0e2e\\u0e42\\u0e25 \\u0e40\\u0e01\\u0e49\\u0e32\\u0e40\\u0e01\",\"GAME CARD\"],[\"Solitaire Collection\",\"GAME CARD\"],[\"Solitaire Free Game\",\"GAME CARD\"],[\"Reigns\",\"GAME CARD\"],[\"The Elder Scrolls: Legends\",\"GAME CARD\"],[\"Solitaire Classic\",\"GAME CARD\"],[\"Spider Solitaire\",\"GAME CARD\"],[\"Spider Solitaire\",\"GAME CARD\"],[\"Solitaire\",\"GAME CARD\"],[\"\\u4e09\\u570b\\u6bba\\u540d\\u5c07\\u50b3\",\"GAME CARD\"],[\"Rummy 45 - Remi Etalat\",\"GAME CARD\"],[\"Classic Solitaire\",\"GAME CARD\"],[\"Eredan Arena PVP\",\"GAME CARD\"],[\"\\ub274 \\ud55c\\ud310 \\ub9de\\uace0 (\\ub370\\uc774\\ud130 \\ud544\\uc694\\uc5c6\\ub294 \\ubb34\\ub8cc \\uace0\\uc2a4\\ud1b1)\",\"GAME CARD\"],[\"Descarte\",\"GAME CARD\"],[\"Spider Solitaire\",\"GAME CARD\"],[\"Spider Solitaire\",\"GAME CARD\"],[\"Pok\\u00e9mon TCG Online\",\"GAME CARD\"],[\"Texas Holdem Poker Pro\",\"GAME CARD\"],[\"\\uc560\\ub2c8\\ud321 \\ub9de\\uace0\",\"GAME CARD\"],[\"Phase 10: World Tour\",\"GAME CARD\"],[\"\\u5927\\u5bcc\\u8c6aBEST\",\"GAME CARD\"],[\"\\ud53c\\ub9dd \\uc12f\\ub2e4\",\"GAME CARD\"],[\"BlackJack 21 - Online Blackjack multiplayer casino\",\"GAME CARD\"],[\"Belote Multiplayer\",\"GAME CARD\"],[\"Batak HD - \\u0130nternetsiz Batak\",\"GAME CARD\"],[\"LG Smart Truco\",\"GAME CARD\"],[\"\\ud55c\\uac8c\\uc784 \\uc2e0\\ub9de\\uace0 : \\ub300\\ud55c\\ubbfc\\uad6d \\uc6d0\\uc870 \\uace0\\uc2a4\\ud1b1\",\"GAME CARD\"],[\"Solitaire TriPeaks Adventure - Free Card Game\",\"GAME CARD\"],[\"Spider Solitaire\",\"GAME CARD\"],[\"Gin Rummy Free\",\"GAME CARD\"],[\"Mega Hit Poker: Texas Holdem\",\"GAME CARD\"],[\"Solitaire: Super Challenges\",\"GAME CARD\"],[\"Solitaire - Make Free Money & Play the Card Game\",\"GAME CARD\"],[\"Solitaire\",\"GAME CARD\"],[\"Solitaire\",\"GAME CARD\"],[\"Solitaire\",\"GAME CARD\"],[\"Solitaire\",\"GAME CARD\"],[\"Solitaire\",\"GAME CARD\"],[\"Solitaire\",\"GAME CARD\"],[\"Cribbage Classic\",\"GAME CARD\"],[\"Solitaire Tripeaks: Farm Adventure\",\"GAME CARD\"],[\"Tien Len - Southern Poker\",\"GAME CARD\"],[\"Otogi: Spirit Agents\",\"GAME CARD\"],[\"Epic Cards Battle(TCG)\",\"GAME CARD\"],[\"Solitaire\",\"GAME CARD\"],[\"Solitaire\",\"GAME CARD\"],[\"Solitaire\",\"GAME CARD\"],[\"Zynga Poker \\u2013 Free Texas Holdem Online Card Games\",\"GAME CASINO\"],[\"Slotomania\\u2122 Free Slots: Casino Slot Machine Games\",\"GAME CASINO\"],[\"Teen Patti Gold \\u2013 Indian Family Card Game\",\"GAME CASINO\"],[\"Teen Patti by Octro - Indian Poker Card Game\",\"GAME CASINO\"],[\"Coin Dozer: Sweepstakes\",\"GAME CASINO\"],[\"House of Fun: Free Casino Slots & Casino Games\",\"GAME CASINO\"],[\"Scatter Slots - Las Vegas Casino Game 777 Online\",\"GAME CASINO\"],[\"Lucky Day - Win Real Rewards\",\"GAME CASINO\"],[\"Jackpot Party Casino Games: Spin FREE Casino Slots\",\"GAME CASINO\"],[\"Cash Frenzy\\u2122 Casino \\u2013 Free Slots Games\",\"GAME CASINO\"],[\"myVEGAS Slots: Las Vegas Casino Games & Slots\",\"GAME CASINO\"],[\"Huuuge Casino Slots - Best Slot Machines\",\"GAME CASINO\"],[\"DoubleU Casino - Free Slots\",\"GAME CASINO\"],[\"Jackpot Slot Machines - Slots Era\\u2122 Vegas Casino\",\"GAME CASINO\"],[\"Caesars Casino: Casino & Slots For Free\",\"GAME CASINO\"],[\"DH Texas Poker - Texas Hold'em\",\"GAME CASINO\"],[\"Gold Fish Casino Slots - FREE Slot Machine Games\",\"GAME CASINO\"],[\"BLACKJACK!\",\"GAME CASINO\"],[\"Hit it Rich! Lucky Vegas Casino Slot Machine Game\",\"GAME CASINO\"],[\"Wizard of Oz Free Slots Casino\",\"GAME CASINO\"],[\"Dummy \\u0e14\\u0e31\\u0e21\\u0e21\\u0e35\\u0e48 \\u0e44\\u0e1e\\u0e48\\u0e41\\u0e04\\u0e07 \\u0e40\\u0e01\\u0e21\\u0e44\\u0e1e\\u0e48\\u0e1f\\u0e23\\u0e35\",\"GAME CASINO\"],[\"Full House Casino - Free Vegas Slots Machine Games\",\"GAME CASINO\"],[\"Slots (Golden HoYeah) - Casino Slots\",\"GAME CASINO\"],[\"Luxy Poker-Online Texas Holdem\",\"GAME CASINO\"],[\"Vegas Slots - DoubleDown Casino\",\"GAME CASINO\"],[\"Big Fish Casino - Play Slots and Casino Games\",\"GAME CASINO\"],[\"Texas HoldEm Poker Deluxe\",\"GAME CASINO\"],[\"\\u0e40\\u0e01\\u0e49\\u0e32\\u0e40\\u0e01\\u0e44\\u0e17\\u0e22\",\"GAME CASINO\"],[\"Big Time Cash. Make Money Free\",\"GAME CASINO\"],[\"Cashman Casino: Casino Slots Machines! 2M Free!\",\"GAME CASINO\"],[\"Slots: Heart of Vegas\\u2122 \\u2013 Free Casino Slots Games\",\"GAME CASINO\"],[\"Casino Jackpot Slots - Infinity Slots\\u2122 777 Game\",\"GAME CASINO\"],[\"my KONAMI Slots - Casino Games & Fun Slot Machines\",\"GAME CASINO\"],[\"Tycoon Casino Free Slots: Vegas Slot Machine Games\",\"GAME CASINO\"],[\"POP! Slots \\u2122- Free Vegas Casino Slot Machine Games\",\"GAME CASINO\"],[\"GSN Casino: New Slots and Casino Games\",\"GAME CASINO\"],[\"Slots Pharaoh's Way Casino Games & Slot Machine\",\"GAME CASINO\"],[\"Ti\\u1ebfn l\\u00ean Mi\\u1ec1n Nam - Ti\\u1ebfn L\\u00ean - tien len - ZingPlay\",\"GAME CASINO\"],[\"\\u9ebb\\u5c07 \\u660e\\u661f3\\u7f3a1\\u9ebb\\u5c07\\u2013\\u53f0\\u706316\\u5f35\\u9ebb\\u5c07Mahjong \\u3001SLOT\\u3001Poker\",\"GAME CASINO\"],[\"Lotsa Slots - Free Vegas Casino Slot Machines\",\"GAME CASINO\"],[\"Club Vegas 2021: New Slots Games & Casino bonuses\",\"GAME CASINO\"],[\"Billionaire Casino Slots - The Best Slot Machines\",\"GAME CASINO\"],[\"Quick Hit Casino Games - Free Casino Slots Games\",\"GAME CASINO\"],[\"NEW SLOTS 2021\\uff0dfree casino games & slot machines\",\"GAME CASINO\"],[\"Jackpot World\\u2122 - Free Vegas Casino Slots\",\"GAME CASINO\"],[\"\\u795e\\u4f86\\u4e5f\\u9ebb\\u5c07\\uff0d\\u9ebb\\u5c07\\u3001\\u9ebb\\u96c0\",\"GAME CASINO\"],[\"GAMEE Prizes - Play Free Games, WIN REAL CASH!\",\"GAME CASINO\"],[\"Tongits Go - The Best Card Game Online\",\"GAME CASINO\"],[\"\\u0e44\\u0e1e\\u0e48\\u0e40\\u0e17\\u0e47\\u0e01\\u0e0b\\u0e31\\u0e2a\\u0e42\\u0e1a\\u0e22\\u0e48\\u0e32-Boyaa Texas Poker \\u0e42\\u0e1b\\u0e4a\\u0e01\\u0e40\\u0e01\\u0e2d\\u0e23\\u0e4c\\u0e21\\u0e37\\u0e2d\\u0e42\\u0e1b\\u0e23\",\"GAME CASINO\"],[\"Gaminator Casino Slots - Play Slot Machines 777\",\"GAME CASINO\"],[\"GameTwist Casino Slots: Play Vegas Slot Machines\",\"GAME CASINO\"],[\"Double Win Casino Slots - Free Video Slots Games\",\"GAME CASINO\"],[\"UTP - Ultimate Teen Patti (3 Patti)\",\"GAME CASINO\"],[\"Free Slot Machines with Bonus Games!\",\"GAME CASINO\"],[\"Hot Shot Casino Free Slots Games: Real Vegas Slots\",\"GAME CASINO\"],[\"Slot Machines - Free Vegas Slots Casino\",\"GAME CASINO\"],[\"Bingo Tycoon\",\"GAME CASINO\"],[\"Coin Dozer: Casino\",\"GAME CASINO\"],[\"Willy Wonka Slots Free Casino\",\"GAME CASINO\"],[\"MONOPOLY Slots Free Slot Machines & Casino Games\",\"GAME CASINO\"],[\"88 Fortunes Casino Games & Free Slot Machine Games\",\"GAME CASINO\"],[\"Slots Free - Big Win Casino\\u2122\",\"GAME CASINO\"],[\"Pmang Poker : Casino Royal\",\"GAME CASINO\"],[\"Slots Casino - Jackpot Mania\",\"GAME CASINO\"],[\"Roulette Royale - FREE Casino\",\"GAME CASINO\"],[\"Slotpark - Online Casino Games & Free Slot Machine\",\"GAME CASINO\"],[\"Bingo by Alisa - Free Live Multiplayer Bingo Games\",\"GAME CASINO\"],[\"Poker Texas Boyaa\",\"GAME CASINO\"],[\"Let's Vegas Slots - Casino Slots\",\"GAME CASINO\"],[\"Scratch Day\",\"GAME CASINO\"],[\"Slot Machine - FREE Casino\",\"GAME CASINO\"],[\"C\\u1ed5ng game ZingPlay - Game b\\u00e0i - Game c\\u1edd - Ti\\u1ebfn l\\u00ean\",\"GAME CASINO\"],[\"Slots: Get Rich Free Slots Casino Games Offline\",\"GAME CASINO\"],[\"Blackjack 21\",\"GAME CASINO\"],[\"\\u0e44\\u0e2e\\u0e42\\u0e25\\u0e1e\\u0e37\\u0e49\\u0e19\\u0e1a\\u0e49\\u0e32\\u0e19 Hilo - \\u0e23\\u0e27\\u0e21\\u0e40\\u0e01\\u0e21\\u0e14\\u0e31\\u0e21\\u0e21\\u0e35\\u0e48 \\u0e44\\u0e2e\\u0e42\\u0e25 \\u0e44\\u0e1e\\u0e48\\u0e2a\\u0e25\\u0e32\\u0e1f \\u0e2f\\u0e25\\u0e2f\",\"GAME CASINO\"],[\"Rock N' Cash Casino Slots -Free Vegas Slot Games\",\"GAME CASINO\"],[\"Bingo Journey - Lucky & Fun Casino Bingo Games\",\"GAME CASINO\"],[\"Best Casino Free Slots: Casino Slot Machine Games\",\"GAME CASINO\"],[\"Jackpot Magic Slots\\u2122: Social Casino & Slot Games\",\"GAME CASINO\"],[\"Slots Vacation - FREE Slots\",\"GAME CASINO\"],[\"Free Slots!\",\"GAME CASINO\"],[\"Stars Slots Casino - HUUUGE casino games\",\"GAME CASINO\"],[\"Free Slots Casino - Adventures\",\"GAME CASINO\"],[\"\\u0e44\\u0e1e\\u0e48\\u0e41\\u0e04\\u0e07-\\u0e23\\u0e27\\u0e21\\u0e14\\u0e31\\u0e21\\u0e21\\u0e35\\u0e48dummy \\u0e1b\\u0e4a\\u0e2d\\u0e01\\u0e40\\u0e14\\u0e49\\u0e07 \\u0e40\\u0e01\\u0e49\\u0e32\\u0e40\\u0e01\\u0e44\\u0e17\\u0e22 \\u0e40\\u0e01\\u0e21\\u0e44\\u0e1e\\u0e48\\u0e1f\\u0e23\\u0e35\",\"GAME CASINO\"],[\"myVEGAS Blackjack 21 - Free Vegas Casino Card Game\",\"GAME CASINO\"],[\"Bingo Holiday: Free Bingo Games\",\"GAME CASINO\"],[\"Cash Storm Casino - Free Vegas Jackpot Slots Games\",\"GAME CASINO\"],[\"SLOTS - Black Diamond Casino\",\"GAME CASINO\"],[\"Winning Slots casino games:free vegas slot machine\",\"GAME CASINO\"],[\"Free Robux Loto 2020\",\"GAME CASINO\"],[\"\\u0e44\\u0e1e\\u0e48\\u0e40\\u0e17\\u0e47\\u0e01\\u0e0b\\u0e31\\u0e2a\\u0e44\\u0e17\\u0e22 HD\",\"GAME CASINO\"],[\"Cash Blitz Free Slots: Casino Slot Machine Games\",\"GAME CASINO\"],[\"Vegas Downtown Slots\\u2122 - Slot Machines & Word Games\",\"GAME CASINO\"],[\"Jackpot Poker by PokerStars\\u2122 \\u2013 FREE Poker Online\",\"GAME CASINO\"],[\"Vegas Friends - Casino Slots for Free\",\"GAME CASINO\"],[\"Bingo\\u2122\",\"GAME CASINO\"],[\"Slots on Tour Casino - Vegas Slot Machine Games HD\",\"GAME CASINO\"],[\"\\u0e14\\u0e31\\u0e21\\u0e21\\u0e35\\u0e48\\u0e44\\u0e17\\u0e22\\u0e41\\u0e25\\u0e19\\u0e14\\u0e4c-\\u0e23\\u0e27\\u0e21\\u0e44\\u0e1e\\u0e48\\u0e41\\u0e04\\u0e07 \\u0e40\\u0e01\\u0e49\\u0e32\\u0e40\\u0e01 \\u0e44\\u0e2e\\u0e42\\u0e25 \\u0e40\\u0e01\\u0e21\\u0e44\\u0e1e\\u0e48\\u0e1f\\u0e23\\u0e35\",\"GAME CASINO\"],[\"Spin Day - Win Real Money\",\"GAME CASINO\"],[\"Old Vegas Slots \\u2013 Classic Slots Casino Games\",\"GAME CASINO\"],[\"Candy Crush Saga\",\"GAME CASUAL\"],[\"My Talking Tom\",\"GAME CASUAL\"],[\"My Talking Angela\",\"GAME CASUAL\"],[\"Hay Day\",\"GAME CASUAL\"],[\"Pou\",\"GAME CASUAL\"],[\"Minion Rush: Despicable Me Official Game\",\"GAME CASUAL\"],[\"Gardenscapes\",\"GAME CASUAL\"],[\"Homescapes\",\"GAME CASUAL\"],[\"Farm Heroes Saga\",\"GAME CASUAL\"],[\"Township\",\"GAME CASUAL\"],[\"Candy Crush Soda Saga\",\"GAME CASUAL\"],[\"Plants vs Zombies\\u2122 2 Free\",\"GAME CASUAL\"],[\"Angry Birds 2\",\"GAME CASUAL\"],[\"Coin Master\",\"GAME CASUAL\"],[\"My Cafe \\u2014 Restaurant Game. Serve & Manage\",\"GAME CASUAL\"],[\"The Simpsons\\u2122: Tapped Out\",\"GAME CASUAL\"],[\"LINE Let's Get Rich\",\"GAME CASUAL\"],[\"Pet Rescue Saga\",\"GAME CASUAL\"],[\"My Talking Tom 2\",\"GAME CASUAL\"],[\"Gacha Life\",\"GAME CASUAL\"],[\"Bubble Witch 2 Saga\",\"GAME CASUAL\"],[\"FarmVille 2: Country Escape\",\"GAME CASUAL\"],[\"Talking Tom Cat\",\"GAME CASUAL\"],[\"My Home - Design Dreams\",\"GAME CASUAL\"],[\"Best Fiends - Free Puzzle Game\",\"GAME CASUAL\"],[\"PewDiePie's Tuber Simulator\",\"GAME CASUAL\"],[\"Ice Age Village\",\"GAME CASUAL\"],[\"Dumb Ways to Die 2: The Games\",\"GAME CASUAL\"],[\"My Talking Tom Friends\",\"GAME CASUAL\"],[\"Candy Crush Friends Saga\",\"GAME CASUAL\"],[\"Family Farm Seaside\",\"GAME CASUAL\"],[\"Pirate Kings\\u2122\\ufe0f\",\"GAME CASUAL\"],[\"MY LITTLE PONY: Magic Princess\",\"GAME CASUAL\"],[\"Bubble Shooter\",\"GAME CASUAL\"],[\"My Horse\",\"GAME CASUAL\"],[\"Blossom Blast Saga\",\"GAME CASUAL\"],[\"Diamond Digger Saga\",\"GAME CASUAL\"],[\"Farm Heroes Super Saga\",\"GAME CASUAL\"],[\"My Talking Hank\",\"GAME CASUAL\"],[\"Papa Pear Saga\",\"GAME CASUAL\"],[\"Gacha Club\",\"GAME CASUAL\"],[\"My Boo: Your Virtual Pet Game To Care and Play\",\"GAME CASUAL\"],[\"Burger\",\"GAME CASUAL\"],[\"Smurfs' Village\",\"GAME CASUAL\"],[\"Puppy Town - Merge & Win\",\"GAME CASUAL\"],[\"My Dolphin Show\",\"GAME CASUAL\"],[\"Save The Girl\",\"GAME CASUAL\"],[\"Green Farm 3\",\"GAME CASUAL\"],[\"Rodeo Stampede: Sky Zoo Safari\",\"GAME CASUAL\"],[\"Stickman Warriors\",\"GAME CASUAL\"],[\"Good Pizza, Great Pizza\",\"GAME CASUAL\"],[\"Bubble Shooter\",\"GAME CASUAL\"],[\"Bubbu \\u2013 My Virtual Pet\",\"GAME CASUAL\"],[\"Jewels Star\",\"GAME CASUAL\"],[\"Let's Create! Pottery Lite\",\"GAME CASUAL\"],[\"BTS WORLD\",\"GAME CASUAL\"],[\"Idle Arks: Build at Sea\",\"GAME CASUAL\"],[\"Covet Fashion - Dress Up Game\",\"GAME CASUAL\"],[\"World Chef \\ud83c\\udf70\\ud83c\\udf54\\ud83c\\udf5d\\ud83c\\udf53\",\"GAME CASUAL\"],[\"What if..\",\"GAME CASUAL\"],[\"Virtual Families 2\",\"GAME CASUAL\"],[\"Angry Birds POP Bubble Shooter\",\"GAME CASUAL\"],[\"The Simpsons\\u2122: Tapped Out\",\"GAME CASUAL\"],[\"Tic Tac Toe Glow\",\"GAME CASUAL\"],[\"Wonder Zoo - Animal rescue !\",\"GAME CASUAL\"],[\"Furby BOOM!\",\"GAME CASUAL\"],[\"Plants vs. Zombies\\u2122 2 Free\",\"GAME CASUAL\"],[\"Shopping Mall Girl - Dress Up & Style Game\",\"GAME CASUAL\"],[\"Twist Hit!\",\"GAME CASUAL\"],[\"Plants vs. Zombies\\u2122 Heroes\",\"GAME CASUAL\"],[\"Hello Kitty Nail Salon\",\"GAME CASUAL\"],[\"Moy 3 \\ud83d\\udc19 Virtual Pet Game\",\"GAME CASUAL\"],[\"Fish Live\",\"GAME CASUAL\"],[\"Cow Evolution: Crazy Cow Making Idle Merge Games\",\"GAME CASUAL\"],[\"BlockBuild: Craft Your Dream World\",\"GAME CASUAL\"],[\"Board Kings\\u2122\\ufe0f - Online Multiplayer Board Game\",\"GAME CASUAL\"],[\"Paradise Island 2: Hotel Game\",\"GAME CASUAL\"],[\"Moy 2 \\ud83d\\udc19 Virtual Pet Game\",\"GAME CASUAL\"],[\"Lost Island: Adventure Quest & Magical Tile Match\",\"GAME CASUAL\"],[\"Stupid Zombies 3\",\"GAME CASUAL\"],[\"Idle Sightseeing Train - Game of Train Transport\",\"GAME CASUAL\"],[\"Dumb Ways to Die\",\"GAME CASUAL\"],[\"Farm Town: Happy farming Day & food farm game City\",\"GAME CASUAL\"],[\"Bubble Shooter\",\"GAME CASUAL\"],[\"Bubble Shooter\",\"GAME CASUAL\"],[\"Fruit Block - Puzzle Legend\",\"GAME CASUAL\"],[\"Island Experiment\",\"GAME CASUAL\"],[\"Kiss Kiss: Spin the Bottle for Chatting & Fun\",\"GAME CASUAL\"],[\"Family Island\\u2122 - Farm game adventure\",\"GAME CASUAL\"],[\"Bubble Shooter\",\"GAME CASUAL\"],[\"Bubble Shooter\",\"GAME CASUAL\"],[\"Moy \\ud83d\\udc19 Virtual Pet Game\",\"GAME CASUAL\"],[\"Moy 4 \\ud83d\\udc19 Virtual Pet Game\",\"GAME CASUAL\"],[\"HappyFish\",\"GAME CASUAL\"],[\"Restaurant Story\\u2122\",\"GAME CASUAL\"],[\"Cooking Dash\",\"GAME CASUAL\"],[\"Gacha Studio (Anime Dress Up)\",\"GAME CASUAL\"],[\"Moy 5 - Virtual Pet Game\",\"GAME CASUAL\"],[\"LINE \\u65c5\\u904a\\u5927\\u4ea8\",\"GAME CASUAL\"],[\"Little Big City 2\",\"GAME CASUAL\"],[\"Mini Block Craft\",\"GAME CASUAL\"],[\"Kids Doodle - Color & Draw Free Game\",\"GAME CASUAL\"],[\"Toca Kitchen 2\",\"GAME EDUCATIONAL\"],[\"Toca Life World: Build stories & create your world\",\"GAME EDUCATIONAL\"],[\"Cooking Mama: Let's cook!\",\"GAME EDUCATIONAL\"],[\"\\u77e5\\u8b58\\u738b\",\"GAME EDUCATIONAL\"],[\"Animal Jam\",\"GAME EDUCATIONAL\"],[\"My Town: Home Doll house - Family Playhouse\",\"GAME EDUCATIONAL\"],[\"Mandala Coloring Pages\",\"GAME EDUCATIONAL\"],[\"Baby Panda's Supermarket\",\"GAME EDUCATIONAL\"],[\"Masha and the Bear. Educational Games\",\"GAME EDUCATIONAL\"],[\"Pepi House: Happy Family\",\"GAME EDUCATIONAL\"],[\"Pepi Wonder World\",\"GAME EDUCATIONAL\"],[\"Math Games, Learn Add, Subtract, Multiply & Divide\",\"GAME EDUCATIONAL\"],[\"LEGO\\u00ae DUPLO\\u00ae Train\",\"GAME EDUCATIONAL\"],[\"Baby Panda World\",\"GAME EDUCATIONAL\"],[\"Pepi Super Stores: Fun & Games\",\"GAME EDUCATIONAL\"],[\"Little Panda's Restaurant\",\"GAME EDUCATIONAL\"],[\"Baby Panda Care\",\"GAME EDUCATIONAL\"],[\"\\u8d85\\u7d1a\\u55ae\\u5b57\\u738b - \\u82f1\\u6aa2\\u3001\\u591a\\u76ca\\u3001\\u6258\\u798f \\u8f15\\u9b06\\u5b78\",\"GAME EDUCATIONAL\"],[\"Smolsies - My Cute Pet House\",\"GAME EDUCATIONAL\"],[\"Unicorn Chef: Cooking Games for Girls\",\"GAME EDUCATIONAL\"],[\"Pepi Hospital: Learn & Care\",\"GAME EDUCATIONAL\"],[\"Baby Panda's Fashion Dress Up Game\",\"GAME EDUCATIONAL\"],[\"Baby Panda's School Bus - Let's Drive!\",\"GAME EDUCATIONAL\"],[\"My Town : Police Station. Policeman Game for Kids\",\"GAME EDUCATIONAL\"],[\"Baby Panda\\u2019s Ice Cream Shop\",\"GAME EDUCATIONAL\"],[\"Meow Meow Star Acres\",\"GAME EDUCATIONAL\"],[\"Truck games for kids - build a house, car wash\",\"GAME EDUCATIONAL\"],[\"Baby Games for 2,3,4 year old toddlers\",\"GAME EDUCATIONAL\"],[\"Supermarket: Shopping Games for Kids\",\"GAME EDUCATIONAL\"],[\"Coloring & Learn\",\"GAME EDUCATIONAL\"],[\"Little Panda's Chinese Recipes\",\"GAME EDUCATIONAL\"],[\"Fluvsies - A Fluff to Luv\",\"GAME EDUCATIONAL\"],[\"\\u0645\\u0646 \\u0633\\u064a\\u0631\\u0628\\u062d \\u0627\\u0644\\u0645\\u0644\\u064a\\u0648\\u0646 \\u0627\\u0644\\u0645\\u0648\\u0633\\u0648\\u0639\\u0629\",\"GAME EDUCATIONAL\"],[\"Little Panda Policeman\",\"GAME EDUCATIONAL\"],[\"Do Not Disturb! Get Prankster in a Hilarious Game\",\"GAME EDUCATIONAL\"],[\"Make-Up Me: Superstar\",\"GAME EDUCATIONAL\"],[\"My Town: Play & Discover - City Builder Game\",\"GAME EDUCATIONAL\"],[\"Left vs Right: Brain Games for Brain Training\",\"GAME EDUCATIONAL\"],[\"Multiplication Table Kids Math\",\"GAME EDUCATIONAL\"],[\"MentalUP - Learning Games & Brain Games\",\"GAME EDUCATIONAL\"],[\"Math Exercises for the brain, Math Riddles, Puzzle\",\"GAME EDUCATIONAL\"],[\"Bee Network:Phone-based Digital Currency\",\"GAME EDUCATIONAL\"],[\"Make-Up Me\",\"GAME EDUCATIONAL\"],[\"Little Panda\\u2019s Summer: Ice Cream Bars\",\"GAME EDUCATIONAL\"],[\"LEGO\\u00ae DUPLO\\u00ae Town\",\"GAME EDUCATIONAL\"],[\"Bini Super ABC! Preschool Learning Games for Kids!\",\"GAME EDUCATIONAL\"],[\"My Town : Fashion Show\",\"GAME EDUCATIONAL\"],[\"Little Panda: Princess Makeup\",\"GAME EDUCATIONAL\"],[\"Little Panda's Farm Story\",\"GAME EDUCATIONAL\"],[\"Little Panda: Princess Dress Up\",\"GAME EDUCATIONAL\"],[\"\\u0421\\u043a\\u0430\\u0437\\u043a\\u0438 \\u0438 \\u0440\\u0430\\u0437\\u0432\\u0438\\u0432\\u0430\\u044e\\u0449\\u0438\\u0435 \\u0438\\u0433\\u0440\\u044b \\u0434\\u043b\\u044f \\u0434\\u0435\\u0442\\u0435\\u0439, \\u043c\\u0430\\u043b\\u044b\\u0448\\u0435\\u0439\",\"GAME EDUCATIONAL\"],[\"Reaction training\",\"GAME EDUCATIONAL\"],[\"Baby Panda's Carnival - Christmas Amusement Park\",\"GAME EDUCATIONAL\"],[\"\\u307b\\u3057\\u306e\\u5cf6\\u306e\\u306b\\u3083\\u3093\\u3053\",\"GAME EDUCATIONAL\"],[\"Jungle Animal Hair Salon - Styling Game for Kids\",\"GAME EDUCATIONAL\"],[\"Beauty Hair Salon: Fashion SPA\",\"GAME EDUCATIONAL\"],[\"Monster Trucks Game for Kids 2\",\"GAME EDUCATIONAL\"],[\"Tailor Kids\",\"GAME EDUCATIONAL\"],[\"Snow Cone Maker - Frozen Foods\",\"GAME EDUCATIONAL\"],[\"My Town : Beauty Pageant - Dress Up Game for Girls\",\"GAME EDUCATIONAL\"],[\"Memory Games: Brain Training\",\"GAME EDUCATIONAL\"],[\"Moonzy. Kids Mini-Games\",\"GAME EDUCATIONAL\"],[\"Urban City Stories\",\"GAME EDUCATIONAL\"],[\"Little Panda's Candy Shop\",\"GAME EDUCATIONAL\"],[\"Kids Animals Jigsaw Puzzles \\u2764\\ufe0f\\ud83e\\udd84\",\"GAME EDUCATIONAL\"],[\"Girls Hair Salon - Hairstyle makeover kids games\",\"GAME EDUCATIONAL\"],[\"Kids Educational Game 5\",\"GAME EDUCATIONAL\"],[\"Bini Drawing for Kids! Learning Games for Toddlers\",\"GAME EDUCATIONAL\"],[\"Trip to the zoo for kids\",\"GAME EDUCATIONAL\"],[\"Ice Queen's Beauty SPA Salon\",\"GAME EDUCATIONAL\"],[\"Math Games\",\"GAME EDUCATIONAL\"],[\"Bucha h\\u1ecdc ti\\u1ebfng Anh - T\\u1eeb v\\u1ef1ng, Giao ti\\u1ebfp, Ng\\u1eef ph\\u00e1p\",\"GAME EDUCATIONAL\"],[\"Cinderella - Story Games and Puzzles\",\"GAME EDUCATIONAL\"],[\"Baby care\",\"GAME EDUCATIONAL\"],[\"ABC Kids - Tracing & Phonics\",\"GAME EDUCATIONAL\"],[\"My Town : Best Friends' House games for kids\",\"GAME EDUCATIONAL\"],[\"Princess Coloring Book Glitter & Girls Dress Up\",\"GAME EDUCATIONAL\"],[\"Baby Panda's Town: Life\",\"GAME EDUCATIONAL\"],[\"Libii Dentist\",\"GAME EDUCATIONAL\"],[\"Baby Panda\\u2019s Summer: Caf\\u00e9\",\"GAME EDUCATIONAL\"],[\"Halloween Makeup Me\",\"GAME EDUCATIONAL\"],[\"Baby Panda\\u2019s Color Mixing Studio\",\"GAME EDUCATIONAL\"],[\"My Baby Panda Chef\",\"GAME EDUCATIONAL\"],[\"Sweet Baby Girl Cleanup 5 - Messy House Makeover\",\"GAME EDUCATIONAL\"],[\"Airport Professions: Fascinating games\",\"GAME EDUCATIONAL\"],[\"Colors for Kids, Toddlers, Babies - Learning Game\",\"GAME EDUCATIONAL\"],[\"Masha and the Bear: Good Night!\",\"GAME EDUCATIONAL\"],[\"Animals Farm For Kids\",\"GAME EDUCATIONAL\"],[\"My Little Princess Castle - Playhouse & Girls Game\",\"GAME EDUCATIONAL\"],[\"\\u0410\\u043d\\u0433\\u043b\\u0438\\u0439\\u0441\\u043a\\u0438\\u0439 \\u0434\\u043b\\u044f \\u041d\\u0430\\u0447\\u0438\\u043d\\u0430\\u044e\\u0449\\u0438\\u0445: LinDuo HD\",\"GAME EDUCATIONAL\"],[\"Central Hospital Stories\",\"GAME EDUCATIONAL\"],[\"Little Panda\\u2019s Space Kitchen - Kids Cooking\",\"GAME EDUCATIONAL\"],[\"Fairy Tales ~ Children\\u2019s Books, Stories and Games\",\"GAME EDUCATIONAL\"],[\"Funny Food educational games for kids toddlers\",\"GAME EDUCATIONAL\"],[\"Baby Phone - Games for Family, Parents and Babies\",\"GAME EDUCATIONAL\"],[\"Madagascar Surf n' Slides Free\",\"GAME EDUCATIONAL\"],[\"My Town : Grandparents Play home Fun Life Game\",\"GAME EDUCATIONAL\"],[\"Baby Panda's Town: My Dream\",\"GAME EDUCATIONAL\"],[\"Sweet Baby Girl Summer Fun 2 - Sunny Makeover Game\",\"GAME EDUCATIONAL\"],[\"Sweet Baby Girl Daycare\",\"GAME EDUCATIONAL\"],[\"Tiles Hop: EDM Rush!\",\"GAME MUSIC\"],[\"Magic Tiles 3\",\"GAME MUSIC\"],[\"My Singing Monsters\",\"GAME MUSIC\"],[\"Piano Free - Keyboard with Magic Tiles Music Games\",\"GAME MUSIC\"],[\"Just Dance Now\",\"GAME MUSIC\"],[\"Dream Piano - Music Game\",\"GAME MUSIC\"],[\"Rock Hero\",\"GAME MUSIC\"],[\"Dancing Road: Color Ball Run!\",\"GAME MUSIC\"],[\"Real Guitar Free - Chords, Tabs & Simulator Games\",\"GAME MUSIC\"],[\"Cytus\",\"GAME MUSIC\"],[\"DEEMO\",\"GAME MUSIC\"],[\"SongPop\",\"GAME MUSIC\"],[\"Piano Kids - Music & Songs\",\"GAME MUSIC\"],[\"Piano Music Go 2020: EDM Piano Games\",\"GAME MUSIC\"],[\"Music Hero - Rhythm Beat Tap\",\"GAME MUSIC\"],[\"Real Piano Teacher\",\"GAME MUSIC\"],[\"Beat Blade: Dash Dance\",\"GAME MUSIC\"],[\"Beat Fire - EDM Music & Gun Sounds\",\"GAME MUSIC\"],[\"Sonic Cat - Slash the Beats\",\"GAME MUSIC\"],[\"Drum Set Music Games & Drums Kit Simulator\",\"GAME MUSIC\"],[\"BEAT MP3 - Rhythm Game\",\"GAME MUSIC\"],[\"Dancing Ballz: Magic Dance Line Tiles Game\",\"GAME MUSIC\"],[\"Guitar Band Battle\",\"GAME MUSIC\"],[\"AVATAR MUSIK - Music and Dance Game\",\"GAME MUSIC\"],[\"Music Racer\",\"GAME MUSIC\"],[\"BEAT MP3 2.0 - Rhythm Game\",\"GAME MUSIC\"],[\"SuperStar SMTOWN\",\"GAME MUSIC\"],[\"Dot n Beat - Magic Music Game\",\"GAME MUSIC\"],[\"Piano Games - Free Music Piano Challenge 2020\",\"GAME MUSIC\"],[\"Hop Ball 3D: Dancing Ball on the Music Tiles\",\"GAME MUSIC\"],[\"Beat Craft\",\"GAME MUSIC\"],[\"Give It Up! - Jump to the Beat, Follow the Music!\",\"GAME MUSIC\"],[\"One More Line\",\"GAME MUSIC\"],[\"Tap Tap Music-Pop Songs\",\"GAME MUSIC\"],[\"SongPop 2 - Guess The Song\",\"GAME MUSIC\"],[\"My Singing Monsters: Dawn of Fire\",\"GAME MUSIC\"],[\"Smash Colors 3D - Free Beat Color Rhythm Ball Game\",\"GAME MUSIC\"],[\"\\u30d0\\u30f3\\u30c9\\u30ea\\uff01 \\u30ac\\u30fc\\u30eb\\u30ba\\u30d0\\u30f3\\u30c9\\u30d1\\u30fc\\u30c6\\u30a3\\uff01\",\"GAME MUSIC\"],[\"Real Piano\",\"GAME MUSIC\"],[\"Dot n Beat - Test your hand speed\",\"GAME MUSIC\"],[\"Piano Magic Tiles Hot song - Free Piano Game\",\"GAME MUSIC\"],[\"Rhythm Hive\",\"GAME MUSIC\"],[\"Helix Crush\",\"GAME MUSIC\"],[\"Piano Solo - Magic Dream tiles game 4\",\"GAME MUSIC\"],[\"Magic Twist: Twister Music Ball Game\",\"GAME MUSIC\"],[\"Cytus II\",\"GAME MUSIC\"],[\"Just Dance Controller\",\"GAME MUSIC\"],[\"VOEZ\",\"GAME MUSIC\"],[\"\\u30e9\\u30d6\\u30e9\\u30a4\\u30d6\\uff01\\u30b9\\u30af\\u30fc\\u30eb\\u30a2\\u30a4\\u30c9\\u30eb\\u30d5\\u30a7\\u30b9\\u30c6\\u30a3\\u30d0\\u30eb\\uff08\\u30b9\\u30af\\u30d5\\u30a7\\u30b9\\uff09 - \\u5927\\u4eba\\u6c17\\u30ea\\u30ba\\u30e0\\u30b2\\u30fc\\u30e0\",\"GAME MUSIC\"],[\"Au Mobile VTC \\u2013 Game nh\\u1ea3y Audition\",\"GAME MUSIC\"],[\"UniPad\",\"GAME MUSIC\"],[\"TunesHolic\",\"GAME MUSIC\"],[\"BanG Dream! Girls Band Party!\",\"GAME MUSIC\"],[\"Piano Game Classic - Challenge Music Song\",\"GAME MUSIC\"],[\"Drum set\",\"GAME MUSIC\"],[\"Piano Magic Tiles Pop Music 2\",\"GAME MUSIC\"],[\"Piano Master 2\",\"GAME MUSIC\"],[\"SuperStar JYPNATION\",\"GAME MUSIC\"],[\"Piano - Play & Learn Music\",\"GAME MUSIC\"],[\"Arcaea - New Dimension Rhythm Game\",\"GAME MUSIC\"],[\"Piano Games Mini: Music Instrument & Rhythm\",\"GAME MUSIC\"],[\"LIT killah: The Game\",\"GAME MUSIC\"],[\"Rock vs Guitar Legends 2017 HD\",\"GAME MUSIC\"],[\"Love Live! School idol festival - \\u97f3\\u6a02\\u7bc0\\u594f\\u904a\\u6232\",\"GAME MUSIC\"],[\"Beat Bop: Pop Star Clicker\",\"GAME MUSIC\"],[\"Don't Forget the Lyrics\",\"GAME MUSIC\"],[\"\\u30a2\\u30a4\\u30c9\\u30eb\\u30de\\u30b9\\u30bf\\u30fc \\u30b7\\u30f3\\u30c7\\u30ec\\u30e9\\u30ac\\u30fc\\u30eb\\u30ba \\u30b9\\u30bf\\u30fc\\u30e9\\u30a4\\u30c8\\u30b9\\u30c6\\u30fc\\u30b8\",\"GAME MUSIC\"],[\"6ix9ine Runner\",\"GAME MUSIC\"],[\"Drum kit (Drums) free\",\"GAME MUSIC\"],[\"Marshmello Music Dance\",\"GAME MUSIC\"],[\"Tebak Lagu Indonesia\",\"GAME MUSIC\"],[\"Lost in Harmony\",\"GAME MUSIC\"],[\"SHOW BY ROCK!![\\u723d\\u5feb\\u97f3\\u30b2\\u30fc \\u30b7\\u30e7\\u30a6\\u30d0\\u30a4\\u30ed\\u30c3\\u30af\\uff3d\",\"GAME MUSIC\"],[\"Beat Racer\",\"GAME MUSIC\"],[\"Real Piano Teacher 2\",\"GAME MUSIC\"],[\"AyoDance Mobile\",\"GAME MUSIC\"],[\"Piano Fire - EDM Music & New Rhythm\",\"GAME MUSIC\"],[\"Rock Hero 2\",\"GAME MUSIC\"],[\"Popscene (Music Industry Sim)\",\"GAME MUSIC\"],[\"Beat Jumper: EDM up!\",\"GAME MUSIC\"],[\"BeatEVO YG\",\"GAME MUSIC\"],[\"PianoTiles 3\",\"GAME MUSIC\"],[\"FaceDance Challenge!\",\"GAME MUSIC\"],[\"\\u30a2\\u30a4\\u30c9\\u30ea\\u30c3\\u30b7\\u30e5\\u30bb\\u30d6\\u30f3\",\"GAME MUSIC\"],[\"Opsu!(Beatmap player for Android)\",\"GAME MUSIC\"],[\"Mini Piano\",\"GAME MUSIC\"],[\"Au 2 - Chu\\u1ea9n Audition Mobile\",\"GAME MUSIC\"],[\"SuperStar YG\",\"GAME MUSIC\"],[\"YASUHATI / With your voice!\",\"GAME MUSIC\"],[\"AVATAR MUSIK INDONESIA - Social Dancing Game\",\"GAME MUSIC\"],[\"Happy Piano - Touch Music\",\"GAME MUSIC\"],[\"\\ub354\\ubba4\\uc9c0\\uc158\",\"GAME MUSIC\"],[\"Beat Shooter\",\"GAME MUSIC\"],[\"Color Hop 3D - Music Game\",\"GAME MUSIC\"],[\"Piano\",\"GAME MUSIC\"],[\"Viet Piano Tiles New 2020\",\"GAME MUSIC\"],[\"Anime Tiles: Piano Music\",\"GAME MUSIC\"],[\"Project: Muse\",\"GAME MUSIC\"],[\"Pink Piano\",\"GAME MUSIC\"],[\"Beat Blader 3D: Dash and Slash!\",\"GAME MUSIC\"],[\"Fishdom\",\"GAME PUZZLE\"],[\"Brain Out \\u2013 Can you pass it?\",\"GAME PUZZLE\"],[\"Toon Blast\",\"GAME PUZZLE\"],[\"Toy Blast\",\"GAME PUZZLE\"],[\"Cut the Rope FULL FREE\",\"GAME PUZZLE\"],[\"Bubble Witch 3 Saga\",\"GAME PUZZLE\"],[\"Cut the Rope 2\",\"GAME PUZZLE\"],[\"Where's My Water? 2\",\"GAME PUZZLE\"],[\"Empires & Puzzles: Epic Match 3\",\"GAME PUZZLE\"],[\"Pixel Art: Color by Number\",\"GAME PUZZLE\"],[\"Matchington Mansion\",\"GAME PUZZLE\"],[\"Disney Frozen Free Fall - Play Frozen Puzzle Games\",\"GAME PUZZLE\"],[\"Sudoku.com - Free Sudoku\",\"GAME PUZZLE\"],[\"\\u0636\\u0631\\u0628\\u0629 \\u0645\\u0639\\u0644\\u0645 - \\u0644\\u0639\\u0628\\u0629 \\u0627\\u0644\\u063a\\u0627\\u0632 \\u0645\\u0633\\u0644\\u064a\\u0629\",\"GAME PUZZLE\"],[\"Candy Crush Jelly Saga\",\"GAME PUZZLE\"],[\"Roll the Ball\\u00ae - slide puzzle\",\"GAME PUZZLE\"],[\"Block Puzzle Jewel\",\"GAME PUZZLE\"],[\"Flow Free\",\"GAME PUZZLE\"],[\"Sand Balls - Puzzle Game\",\"GAME PUZZLE\"],[\"2048 Number puzzle game\",\"GAME PUZZLE\"],[\"Escape Titanic\",\"GAME PUZZLE\"],[\"Bad Piggies\",\"GAME PUZZLE\"],[\"LINE\\uff1a\\u30c7\\u30a3\\u30ba\\u30cb\\u30fc \\u30c4\\u30e0\\u30c4\\u30e0\",\"GAME PUZZLE\"],[\"Manor Cafe\",\"GAME PUZZLE\"],[\"LINE Pokopang - POKOTA's puzzle swiping game!\",\"GAME PUZZLE\"],[\"Bubble Shooter: Panda Pop!\",\"GAME PUZZLE\"],[\"Merge Dragons!\",\"GAME PUZZLE\"],[\"Cut the Rope: Time Travel\",\"GAME PUZZLE\"],[\"Cookie Jam\\u2122 Match 3 Games | Connect 3 or More\",\"GAME PUZZLE\"],[\"Jellipop Match-Decorate your dream island\\uff01\",\"GAME PUZZLE\"],[\"Lily\\u2019s Garden\",\"GAME PUZZLE\"],[\"\\uc560\\ub2c8\\ud3212\",\"GAME PUZZLE\"],[\"Indy Cat for VK\",\"GAME PUZZLE\"],[\"Jigsaw Puzzles - Puzzle Game\",\"GAME PUZZLE\"],[\"Can You Escape\",\"GAME PUZZLE\"],[\"Happy Glass\",\"GAME PUZZLE\"],[\"Tower of Saviors\",\"GAME PUZZLE\"],[\"Shoot Bubble Deluxe\",\"GAME PUZZLE\"],[\"Two Dots\",\"GAME PUZZLE\"],[\"Pirate Treasures - Gems Puzzle\",\"GAME PUZZLE\"],[\"Bad Piggies HD\",\"GAME PUZZLE\"],[\"Doodle Alchemy\",\"GAME PUZZLE\"],[\"Escape game : 50 rooms 1\",\"GAME PUZZLE\"],[\"\\u221e Infinity Loop \\u00ae\",\"GAME PUZZLE\"],[\"Jigty Jigsaw Puzzles\",\"GAME PUZZLE\"],[\"Unblock Me FREE\",\"GAME PUZZLE\"],[\"Bubble Blast 2\",\"GAME PUZZLE\"],[\"Mouse\",\"GAME PUZZLE\"],[\"Unblock Ball - Block Puzzle\",\"GAME PUZZLE\"],[\"Inside Out Thought Bubbles\",\"GAME PUZZLE\"],[\"MonsterBusters: Match 3 Puzzle\",\"GAME PUZZLE\"],[\"Love Balls\",\"GAME PUZZLE\"],[\"LINE Bubble 2\",\"GAME PUZZLE\"],[\"Mr Bullet - Spy Puzzles\",\"GAME PUZZLE\"],[\"Sudoku - Free Classic Sudoku Puzzles\",\"GAME PUZZLE\"],[\"Magic Jigsaw Puzzles - Puzzle Games\",\"GAME PUZZLE\"],[\"Mazes & More\",\"GAME PUZZLE\"],[\"Brain Dots\",\"GAME PUZZLE\"],[\"Matches Puzzle Game\",\"GAME PUZZLE\"],[\"\\u30d1\\u30ba\\u30eb\\uff06\\u30c9\\u30e9\\u30b4\\u30f3\\u30ba(Puzzle & Dragons)\",\"GAME PUZZLE\"],[\"Sudoku\",\"GAME PUZZLE\"],[\"Marble Legend\",\"GAME PUZZLE\"],[\"Hello Stars\",\"GAME PUZZLE\"],[\"Wood Block Puzzle\",\"GAME PUZZLE\"],[\"Block! Hexa Puzzle\\u2122\",\"GAME PUZZLE\"],[\"Cut the Rope: Experiments\",\"GAME PUZZLE\"],[\"Easy Game - Brain Test and Tricky Mind Puzzles\",\"GAME PUZZLE\"],[\"Sweet Fruit Candy\",\"GAME PUZZLE\"],[\"Escape the Mansion\",\"GAME PUZZLE\"],[\"House Paint\",\"GAME PUZZLE\"],[\"Dig This!\",\"GAME PUZZLE\"],[\"Gummy Drop! Match to restore and build cities\",\"GAME PUZZLE\"],[\"Charm King\",\"GAME PUZZLE\"],[\"Maleficent Free Fall\",\"GAME PUZZLE\"],[\"Gemmy Lands: New Match 3 Games 2021 to Crush Gems\",\"GAME PUZZLE\"],[\"Find The Differences - The Detective\",\"GAME PUZZLE\"],[\"Brain It On! - Physics Puzzles\",\"GAME PUZZLE\"],[\"Harry Potter: Puzzles & Spells - Match-3 Magic\",\"GAME PUZZLE\"],[\"Troll Face Quest: Video Memes - Brain Game\",\"GAME PUZZLE\"],[\"Disney Emoji Blitz\",\"GAME PUZZLE\"],[\"Nonogram.com - Picture cross number puzzle\",\"GAME PUZZLE\"],[\"Cut the Rope: Magic\",\"GAME PUZZLE\"],[\"Energy: Anti Stress Loops\",\"GAME PUZZLE\"],[\"1010! Block Puzzle Game\",\"GAME PUZZLE\"],[\"Sudoku\",\"GAME PUZZLE\"],[\"That Level Again\",\"GAME PUZZLE\"],[\"Crazy Kitchen: Match 3 Puzzles\",\"GAME PUZZLE\"],[\"Wood Block Puzzle - Free Classic Block Puzzle Game\",\"GAME PUZZLE\"],[\"Train Taxi\",\"GAME PUZZLE\"],[\"Tebak Gambar\",\"GAME PUZZLE\"],[\"Build a Bridge!\",\"GAME PUZZLE\"],[\"PixWords\\u2122\",\"GAME PUZZLE\"],[\"Skillz - Logic Brain Games\",\"GAME PUZZLE\"],[\"Slugterra: Slug it Out 2\",\"GAME PUZZLE\"],[\"LINE PokoPoko - Play with POKOTA! Free puzzler!\",\"GAME PUZZLE\"],[\"Block Puzzle & Conquer\",\"GAME PUZZLE\"],[\"Blockudoku\\u00ae - Block Puzzle Game\",\"GAME PUZZLE\"],[\"Rescue Cut - Rope Puzzle\",\"GAME PUZZLE\"],[\"\\ub514\\uc988\\ub2c8 \\ud2c0\\ub9b0\\uadf8\\ub9bc\\ucc3e\\uae30\",\"GAME PUZZLE\"],[\"How to Loot - Pin Pull & Hero Rescue\",\"GAME PUZZLE\"],[\"Hill Climb Racing\",\"GAME RACING\"],[\"Asphalt 8 Racing Game - Drive, Drift at Real Speed\",\"GAME RACING\"],[\"Traffic Rider\",\"GAME RACING\"],[\"Real Racing 3\",\"GAME RACING\"],[\"Traffic Racer\",\"GAME RACING\"],[\"Dr. Driving\",\"GAME RACING\"],[\"Need for Speed\\u2122 No Limits\",\"GAME RACING\"],[\"CSR Racing 2 \\u2013 Free Car Racing Game\",\"GAME RACING\"],[\"Hill Climb Racing 2\",\"GAME RACING\"],[\"Angry Birds Go!\",\"GAME RACING\"],[\"Extreme Car Driving Simulator\",\"GAME RACING\"],[\"Bike Race Free - Top Motorcycle Racing Games\",\"GAME RACING\"],[\"Drag Racing\",\"GAME RACING\"],[\"CSR Racing\",\"GAME RACING\"],[\"Beach Buggy Racing\",\"GAME RACING\"],[\"Fun Race 3D\",\"GAME RACING\"],[\"Asphalt 9: Legends - Epic Car Action Racing Game\",\"GAME RACING\"],[\"Fast Racing 3D\",\"GAME RACING\"],[\"Earn to Die 2\",\"GAME RACING\"],[\"GT Racing 2: The Real Car Exp\",\"GAME RACING\"],[\"Asphalt Nitro\",\"GAME RACING\"],[\"City Racing 3D\",\"GAME RACING\"],[\"Nitro Nation Drag & Drift Car Racing\",\"GAME RACING\"],[\"Racing Fever\",\"GAME RACING\"],[\"Drive Ahead!\",\"GAME RACING\"],[\"Street Racing 3D\",\"GAME RACING\"],[\"Drift Max Pro - Car Drifting Game with Racing Cars\",\"GAME RACING\"],[\"Driving School 2016\",\"GAME RACING\"],[\"Racing in Car\",\"GAME RACING\"],[\"Drift \\u0647\\u062c\\u0648\\u0644\\u0629\",\"GAME RACING\"],[\"Trials Frontier\",\"GAME RACING\"],[\"Bike Racing 3D\",\"GAME RACING\"],[\"CarX Drift Racing\",\"GAME RACING\"],[\"CSR Classics\",\"GAME RACING\"],[\"BMX Boy\",\"GAME RACING\"],[\"Racing Moto\",\"GAME RACING\"],[\"Demolition Derby 2\",\"GAME RACING\"],[\"Top Speed: Drag & Fast Racing\",\"GAME RACING\"],[\"Turbo Stars\",\"GAME RACING\"],[\"Real Bike Racing\",\"GAME RACING\"],[\"Trial Xtreme 4: Extreme Bike Racing Champions\",\"GAME RACING\"],[\"CarX Highway Racing\",\"GAME RACING\"],[\"Dr. Parking 4\",\"GAME RACING\"],[\"Moto Rider GO: Highway Traffic\",\"GAME RACING\"],[\"Uphill Rush Water Park Racing\",\"GAME RACING\"],[\"Dr. Driving 2\",\"GAME RACING\"],[\"Racing in Car 2\",\"GAME RACING\"],[\"Asphalt Xtreme: Rally Racing\",\"GAME RACING\"],[\"Beach Buggy Blitz\",\"GAME RACING\"],[\"Turbo Driving Racing 3D\",\"GAME RACING\"],[\"City Racing Lite\",\"GAME RACING\"],[\"Driving School 2017\",\"GAME RACING\"],[\"Earn to Die Lite\",\"GAME RACING\"],[\"MotoGP Racing '20\",\"GAME RACING\"],[\"Rally Racer Dirt\",\"GAME RACING\"],[\"Garena Speed Drifters\",\"GAME RACING\"],[\"School Driving 3D\",\"GAME RACING\"],[\"Real Drift Car Racing Lite\",\"GAME RACING\"],[\"Rally Fury - Extreme Racing\",\"GAME RACING\"],[\"F1 Manager\",\"GAME RACING\"],[\"Ultimate Car Driving Simulator\",\"GAME RACING\"],[\"MadOut2 BigCityOnline\",\"GAME RACING\"],[\"Crazy for Speed\",\"GAME RACING\"],[\"Mad Skills Motocross 2\",\"GAME RACING\"],[\"Drive for Speed: Simulator\",\"GAME RACING\"],[\"Real City Car Driver\",\"GAME RACING\"],[\"Bike Mayhem Free\",\"GAME RACING\"],[\"Highway Rider Motorcycle Racer\",\"GAME RACING\"],[\"Rebel Racing\",\"GAME RACING\"],[\"Blocky Roads\",\"GAME RACING\"],[\"Road Riot\",\"GAME RACING\"],[\"Crash of Cars\",\"GAME RACING\"],[\"Real Racing 3\",\"GAME RACING\"],[\"Derby Destruction Simulator\",\"GAME RACING\"],[\"SUP Multiplayer Racing\",\"GAME RACING\"],[\"Beach Buggy Racing 2\",\"GAME RACING\"],[\"Boomerang Make and Race - Scooby-Doo Racing Game\",\"GAME RACING\"],[\"KartRider Rush+\",\"GAME RACING\"],[\"Offroad Legends - Monster Truck Trials\",\"GAME RACING\"],[\"Moto X3M Bike Race Game\",\"GAME RACING\"],[\"Dubai Drift 2\",\"GAME RACING\"],[\"Traffic Tour\",\"GAME RACING\"],[\"Moto Wheelie\",\"GAME RACING\"],[\"Mountain Climb 4x4 : Offroad Car Drive\",\"GAME RACING\"],[\"Zombie Squad\",\"GAME RACING\"],[\"Moto Racer 3D\",\"GAME RACING\"],[\"Toy Truck Rally 3D\",\"GAME RACING\"],[\"Crazy for Speed 2\",\"GAME RACING\"],[\"Truck Driver Cargo\",\"GAME RACING\"],[\"Top Drives \\u2013 Car Cards Racing\",\"GAME RACING\"],[\"Smash Cops Heat\",\"GAME RACING\"],[\"Race the Traffic\",\"GAME RACING\"],[\"CarX Drift Racing 2\",\"GAME RACING\"],[\"Racing Limits\",\"GAME RACING\"],[\"Smash Bandits Racing\",\"GAME RACING\"],[\"\\ud83d\\ude93\\ud83d\\udea6Car Driving School Simulator \\ud83d\\ude95\\ud83d\\udeb8\",\"GAME RACING\"],[\"Redline Rush: Police Chase Racing\",\"GAME RACING\"],[\"Monster Truck Destruction\\u2122\",\"GAME RACING\"],[\"Stickman Downhill Motocross\",\"GAME RACING\"],[\"MMX Hill Dash\",\"GAME RACING\"],[\"Shadow Fight 3 - RPG fighting game\",\"GAME ROLE PLAYING\"],[\"AFK Arena\",\"GAME ROLE PLAYING\"],[\"Avakin Life - 3D Virtual World\",\"GAME ROLE PLAYING\"],[\"MARVEL Future Fight\",\"GAME ROLE PLAYING\"],[\"Angry Birds Epic RPG\",\"GAME ROLE PLAYING\"],[\"Flight Pilot Simulator 3D Free\",\"GAME ROLE PLAYING\"],[\"Eternium\",\"GAME ROLE PLAYING\"],[\"Summoners War\",\"GAME ROLE PLAYING\"],[\"Star Wars\\u2122: Galaxy of Heroes\",\"GAME ROLE PLAYING\"],[\"\\ubaac\\uc2a4\\ud130 \\uae38\\ub4e4\\uc774\\uae30\",\"GAME ROLE PLAYING\"],[\"Darkness Rises\",\"GAME ROLE PLAYING\"],[\"Hustle Castle: Medieval games in the kingdom\",\"GAME ROLE PLAYING\"],[\"Tap Titans\",\"GAME ROLE PLAYING\"],[\"RAID: Shadow Legends\",\"GAME ROLE PLAYING\"],[\"MovieStarPlanet\",\"GAME ROLE PLAYING\"],[\"Hero Wars \\u2013 Hero Fantasy Multiplayer Battles\",\"GAME ROLE PLAYING\"],[\"Magic Rush: Heroes\",\"GAME ROLE PLAYING\"],[\"\\uc138\\ube10\\ub098\\uc774\\uce20\",\"GAME ROLE PLAYING\"],[\"Idle Heroes\",\"GAME ROLE PLAYING\"],[\"RPG Toram Online - MMORPG\",\"GAME ROLE PLAYING\"],[\"Shakes and Fidget\",\"GAME ROLE PLAYING\"],[\"Kritika: The White Knights\",\"GAME ROLE PLAYING\"],[\"Tap Titans 2: Heroes Attack Titans. Clicker on!\",\"GAME ROLE PLAYING\"],[\"FINAL FANTASY BRAVE EXVIUS\",\"GAME ROLE PLAYING\"],[\"Dungeon Hunter 5 \\u2013 Action RPG\",\"GAME ROLE PLAYING\"],[\"The Wolf\",\"GAME ROLE PLAYING\"],[\"Brave Frontier\",\"GAME ROLE PLAYING\"],[\"ONE PIECE TREASURE CRUISE\",\"GAME ROLE PLAYING\"],[\"School of Dragons\",\"GAME ROLE PLAYING\"],[\"Super Stylist - Dress Up & Style Fashion Guru\",\"GAME ROLE PLAYING\"],[\"Battle Camp - Monster Catching\",\"GAME ROLE PLAYING\"],[\"Mobile Legends: Adventure\",\"GAME ROLE PLAYING\"],[\"The Walking Dead: Road to Survival\",\"GAME ROLE PLAYING\"],[\"International Fashion Stylist - Dress Up Studio\",\"GAME ROLE PLAYING\"],[\"My Candy Love - Episode / Otome game\",\"GAME ROLE PLAYING\"],[\"Day R Survival \\u2013 Apocalypse, Lone Survivor and RPG\",\"GAME ROLE PLAYING\"],[\"Don't get fired!\",\"GAME ROLE PLAYING\"],[\"Dragon Village\",\"GAME ROLE PLAYING\"],[\"Inotia 4\",\"GAME ROLE PLAYING\"],[\"LifeAfter\",\"GAME ROLE PLAYING\"],[\"MARVEL Strike Force - Squad RPG\",\"GAME ROLE PLAYING\"],[\"Age of Warring Empire\",\"GAME ROLE PLAYING\"],[\"\\ub808\\uc774\\ube10 : LEGION\",\"GAME ROLE PLAYING\"],[\"Crusaders Quest\",\"GAME ROLE PLAYING\"],[\"Galaxy Legend - Cosmic Conquest Sci-Fi Game\",\"GAME ROLE PLAYING\"],[\"Game of Sultans\",\"GAME ROLE PLAYING\"],[\"School of Chaos Online MMORPG\",\"GAME ROLE PLAYING\"],[\"Operate Now: Hospital - Surgery Simulator Game\",\"GAME ROLE PLAYING\"],[\"Heroes Charge\",\"GAME ROLE PLAYING\"],[\"Sky: Children of the Light\",\"GAME ROLE PLAYING\"],[\"My Bakery Empire - Bake, Decorate & Serve Cakes\",\"GAME ROLE PLAYING\"],[\"Ninja Turtles: Legends\",\"GAME ROLE PLAYING\"],[\"Order & Chaos Online 3D MMORPG\",\"GAME ROLE PLAYING\"],[\"Grim Soul: Dark Fantasy Survival\",\"GAME ROLE PLAYING\"],[\"Gachaverse (RPG & Anime Dress Up)\",\"GAME ROLE PLAYING\"],[\"Gymnastics Superstar - Spin your way to gold!\",\"GAME ROLE PLAYING\"],[\"Angry Birds Evolution 2021\",\"GAME ROLE PLAYING\"],[\"AVABEL ONLINE [Action MMORPG]\",\"GAME ROLE PLAYING\"],[\"Seven Knights\",\"GAME ROLE PLAYING\"],[\"The Seven Deadly Sins: Grand Cross\",\"GAME ROLE PLAYING\"],[\"DC Legends: Fight Superheroes\",\"GAME ROLE PLAYING\"],[\"Love Nikki-Dress UP Queen\",\"GAME ROLE PLAYING\"],[\"King's Throne: Game of Conquest\",\"GAME ROLE PLAYING\"],[\"ONE PIECE \\u30c8\\u30ec\\u30b8\\u30e3\\u30fc\\u30af\\u30eb\\u30fc\\u30ba\",\"GAME ROLE PLAYING\"],[\"Monster Super League\",\"GAME ROLE PLAYING\"],[\"Magic Rampage\",\"GAME ROLE PLAYING\"],[\"Monster High\\u2122 Beauty Shop: Fangtastic Fashion Game\",\"GAME ROLE PLAYING\"],[\"Arcane Legends MMO-Action RPG\",\"GAME ROLE PLAYING\"],[\"BLOCK STORY\",\"GAME ROLE PLAYING\"],[\"\\u30b0\\u30e9\\u30f3\\u30d6\\u30eb\\u30fc\\u30d5\\u30a1\\u30f3\\u30bf\\u30b8\\u30fc\",\"GAME ROLE PLAYING\"],[\"Age of Magic: Turn-Based Magic RPG & Strategy Game\",\"GAME ROLE PLAYING\"],[\"Vampire's Fall: Origins RPG\",\"GAME ROLE PLAYING\"],[\"Pocket Troops: Strategy RPG\",\"GAME ROLE PLAYING\"],[\"Pok\\u00e9mon Masters EX\",\"GAME ROLE PLAYING\"],[\"ZENONIA\\u00ae 5\",\"GAME ROLE PLAYING\"],[\"Heroes of Camelot\",\"GAME ROLE PLAYING\"],[\"WWE Champions 2021\",\"GAME ROLE PLAYING\"],[\"Assassin's Creed Rebellion: Adventure RPG\",\"GAME ROLE PLAYING\"],[\"Guardian Hunter: SuperBrawlRPG [Online]\",\"GAME ROLE PLAYING\"],[\"Questland: Turn Based RPG\",\"GAME ROLE PLAYING\"],[\"Black Desert Mobile\",\"GAME ROLE PLAYING\"],[\"Fashion Empire - Dressup Boutique Sim\",\"GAME ROLE PLAYING\"],[\"Postknight\",\"GAME ROLE PLAYING\"],[\"MARVEL Puzzle Quest: Join the Super Hero Battle!\",\"GAME ROLE PLAYING\"],[\"Ragnarok M: Eternal Love\",\"GAME ROLE PLAYING\"],[\"Guardian Tales\",\"GAME ROLE PLAYING\"],[\"Ice Skating Ballerina - Dance Challenge Arena\",\"GAME ROLE PLAYING\"],[\"Shadow Fight Arena \\u2014 PvP Fighting game\",\"GAME ROLE PLAYING\"],[\"Wolvesville - Werewolf Online\",\"GAME ROLE PLAYING\"],[\"Guild of Heroes: Magic RPG | Wizard game\",\"GAME ROLE PLAYING\"],[\"Era of Celestials\",\"GAME ROLE PLAYING\"],[\"HonorBound RPG\",\"GAME ROLE PLAYING\"],[\"Hotel Hideaway: Virtual World\",\"GAME ROLE PLAYING\"],[\"\\u0645\\u0644\\u0643\\u0629 \\u0627\\u0644\\u0645\\u0648\\u0636\\u0629 | \\u0644\\u0639\\u0628\\u0629 \\u0642\\u0635\\u0635 \\u0648 \\u062a\\u0645\\u062b\\u064a\\u0644\",\"GAME ROLE PLAYING\"],[\"Nonstop Knight - Offline Idle RPG Clicker\",\"GAME ROLE PLAYING\"],[\"\\ub9ac\\ub2c8\\uc9c02 \\ub808\\ubcfc\\ub8e8\\uc158\",\"GAME ROLE PLAYING\"],[\"Cat Runner: Decorate Home\",\"GAME ROLE PLAYING\"],[\"FINAL FANTASY Record Keeper\",\"GAME ROLE PLAYING\"],[\"Decisions: Choose Your Interactive Love Story\",\"GAME ROLE PLAYING\"],[\"Epic Seven\",\"GAME ROLE PLAYING\"],[\"Dragon City\",\"GAME SIMULATION\"],[\"The Sims FreePlay\",\"GAME SIMULATION\"],[\"SimCity BuildIt\",\"GAME SIMULATION\"],[\"Episode - Choose Your Story\",\"GAME SIMULATION\"],[\"Plague Inc.\",\"GAME SIMULATION\"],[\"Fallout Shelter\",\"GAME SIMULATION\"],[\"Idle Miner Tycoon: Mine & Money Clicker Management\",\"GAME SIMULATION\"],[\"Dragon Mania Legends\",\"GAME SIMULATION\"],[\"The Tribez: Build a Village\",\"GAME SIMULATION\"],[\"Bus Simulator Indonesia\",\"GAME SIMULATION\"],[\"Jurassic World\\u2122: The Game\",\"GAME SIMULATION\"],[\"AdVenture Capitalist\",\"GAME SIMULATION\"],[\"Dragons: Rise of Berk\",\"GAME SIMULATION\"],[\"Bus Simulator: Original\",\"GAME SIMULATION\"],[\"Choices: Stories You Play\",\"GAME SIMULATION\"],[\"The Sims\\u2122 Mobile\",\"GAME SIMULATION\"],[\"LINE BROWN FARM\",\"GAME SIMULATION\"],[\"Fishing Clash\",\"GAME SIMULATION\"],[\"Cash, Inc. Money Clicker Game & Business Adventure\",\"GAME SIMULATION\"],[\"Vegas Crime Simulator\",\"GAME SIMULATION\"],[\"Hooked Inc: Fisher Tycoon\",\"GAME SIMULATION\"],[\"Scary Teacher 3D\",\"GAME SIMULATION\"],[\"SAKURA School Simulator\",\"GAME SIMULATION\"],[\"Euro Truck Evolution (Simulator)\",\"GAME SIMULATION\"],[\"My Story: Choose Your Own Path\",\"GAME SIMULATION\"],[\"Bus Simulator : Ultimate\",\"GAME SIMULATION\"],[\"Craftsman: Building Craft\",\"GAME SIMULATION\"],[\"Design Home: House Renovation\",\"GAME SIMULATION\"],[\"Egg, Inc.\",\"GAME SIMULATION\"],[\"The Sims\\u2122 FreePlay\",\"GAME SIMULATION\"],[\"House Flipper: Home Design, Interior Makeover Game\",\"GAME SIMULATION\"],[\"Block City Wars: Pixel Shooter with Battle Royale\",\"GAME SIMULATION\"],[\"Paradise Island\",\"GAME SIMULATION\"],[\"Kill Shot\",\"GAME SIMULATION\"],[\"Happy Mall Story: Sim Game\",\"GAME SIMULATION\"],[\"Clean Road\",\"GAME SIMULATION\"],[\"Cooking Diary\\u00ae: Best Tasty Restaurant & Cafe Game\",\"GAME SIMULATION\"],[\"Farming Simulator 14\",\"GAME SIMULATION\"],[\"Airport City\",\"GAME SIMULATION\"],[\"From Zero to Hero: Cityman\",\"GAME SIMULATION\"],[\"Car Parking Multiplayer\",\"GAME SIMULATION\"],[\"Klondike Adventures\",\"GAME SIMULATION\"],[\"Cafeland - World Kitchen\",\"GAME SIMULATION\"],[\"BitLife - Life Simulator\",\"GAME SIMULATION\"],[\"Zombie Castaways\",\"GAME SIMULATION\"],[\"Turbo Dismount\\u2122\",\"GAME SIMULATION\"],[\"Barbie Dreamhouse Adventures\",\"GAME SIMULATION\"],[\"Grand Truck Simulator\",\"GAME SIMULATION\"],[\"Truck Simulator 2018 : Europe\",\"GAME SIMULATION\"],[\"Animal Crossing: Pocket Camp\",\"GAME SIMULATION\"],[\"Flight Simulator: Fly Plane 3D\",\"GAME SIMULATION\"],[\"Let's Fish: Sport Fishing Games. Fishing Simulator\",\"GAME SIMULATION\"],[\"Romance Club - Stories I Play\",\"GAME SIMULATION\"],[\"WildCraft: Animal Sim Online 3D\",\"GAME SIMULATION\"],[\"Heavy Truck Simulator\",\"GAME SIMULATION\"],[\"Hotel Story: Resort Simulation\",\"GAME SIMULATION\"],[\"Clouds & Sheep\",\"GAME SIMULATION\"],[\"Weaphones\\u2122 Gun Sim Free Vol 1\",\"GAME SIMULATION\"],[\"2 3 4 Player Mini Games\",\"GAME SIMULATION\"],[\"Make More! \\u2013 Idle Manager\",\"GAME SIMULATION\"],[\"Coach Bus Simulator\",\"GAME SIMULATION\"],[\"School Girls Simulator\",\"GAME SIMULATION\"],[\"Disney Magic Kingdoms: Build Your Own Magical Park\",\"GAME SIMULATION\"],[\"Linda Brown: Interactive Story\",\"GAME SIMULATION\"],[\"High School Story\",\"GAME SIMULATION\"],[\"Drive and Park\",\"GAME SIMULATION\"],[\"Raft Survival: Ocean Nomad - Simulator\",\"GAME SIMULATION\"],[\"Bud Farm: Grass Roots\",\"GAME SIMULATION\"],[\"Hi Cooking\",\"GAME SIMULATION\"],[\"Fire Emblem Heroes\",\"GAME SIMULATION\"],[\"Car Simulator 2\",\"GAME SIMULATION\"],[\"Taxi Game\",\"GAME SIMULATION\"],[\"Public Transport Simulator\",\"GAME SIMULATION\"],[\"Stickman Dismounting\",\"GAME SIMULATION\"],[\"Pok\\u00e9mon: Magikarp Jump\",\"GAME SIMULATION\"],[\"World Truck Driving Simulator\",\"GAME SIMULATION\"],[\"Avatar Life - fun, love & games in virtual world!\",\"GAME SIMULATION\"],[\"Indian Train Simulator\",\"GAME SIMULATION\"],[\"Home Street \\u2013 Home Design Game\",\"GAME SIMULATION\"],[\"High School Simulator 2018\",\"GAME SIMULATION\"],[\"Battle Disc\",\"GAME SIMULATION\"],[\"Heavy Bus Simulator\",\"GAME SIMULATION\"],[\"\\u0421\\u0438\\u043c\\u0443\\u043b\\u044f\\u0442\\u043e\\u0440 \\u0436\\u0438\\u0437\\u043d\\u0438 \\u042e\\u0442\\u0443\\u0431\\u0435\\u0440\\u0430\",\"GAME SIMULATION\"],[\"Truck Simulator USA\",\"GAME SIMULATION\"],[\"Bio Inc - Plague and rebel doctors offline\",\"GAME SIMULATION\"],[\"Car Mechanic Simulator\",\"GAME SIMULATION\"],[\"IDBS Bus Simulator\",\"GAME SIMULATION\"],[\"ZooCraft: Animal Family Simulator\",\"GAME SIMULATION\"],[\"Woodturning\",\"GAME SIMULATION\"],[\"Mystic Messenger\",\"GAME SIMULATION\"],[\"Goat Simulator\",\"GAME SIMULATION\"],[\"Stickman Rope Hero\",\"GAME SIMULATION\"],[\"My Virtual Pet Shop: Take Care of Pets & Animals\\ud83d\\udc36\",\"GAME SIMULATION\"],[\"FarmVille 2: Tropic Escape\",\"GAME SIMULATION\"],[\"We Are Illuminati - Conspiracy Simulator Clicker\",\"GAME SIMULATION\"],[\"Dragons World\",\"GAME SIMULATION\"],[\"Tap Tap Fish AbyssRium - Healing Aquarium (+VR)\",\"GAME SIMULATION\"],[\"Terrarium: Garden Idle\",\"GAME SIMULATION\"],[\"\\ub808\\uc54c\\ud31c\",\"GAME SIMULATION\"],[\"Prison Empire Tycoon - Idle Game\",\"GAME SIMULATION\"],[\"Dream League Soccer\",\"GAME SPORTS\"],[\"FIFA Soccer\",\"GAME SPORTS\"],[\"Score! Hero\",\"GAME SPORTS\"],[\"eFootball PES 2021\",\"GAME SPORTS\"],[\"Top Eleven 2021: Be a Soccer Manager\",\"GAME SPORTS\"],[\"EA SPORTS UFC\\u00ae\",\"GAME SPORTS\"],[\"Bowling King\",\"GAME SPORTS\"],[\"World Cricket Championship 2 - WCC2\",\"GAME SPORTS\"],[\"8 Ball Pool\",\"GAME SPORTS\"],[\"Carrom Pool: Disc Game\",\"GAME SPORTS\"],[\"Dream League Soccer 2021\",\"GAME SPORTS\"],[\"Pooking - Billiards City\",\"GAME SPORTS\"],[\"NBA LIVE Mobile Basketball\",\"GAME SPORTS\"],[\"New Star Soccer\",\"GAME SPORTS\"],[\"Soccer Stars\",\"GAME SPORTS\"],[\"Golf Clash\",\"GAME SPORTS\"],[\"Online Soccer Manager (OSM) - 20/21\",\"GAME SPORTS\"],[\"World Soccer League\",\"GAME SPORTS\"],[\"Football Strike - Multiplayer Soccer\",\"GAME SPORTS\"],[\"Head Ball 2\",\"GAME SPORTS\"],[\"Fishing Hook\",\"GAME SPORTS\"],[\"zzSUNSET Last Season MM\",\"GAME SPORTS\"],[\"Head Soccer\",\"GAME SPORTS\"],[\"Pool Billiards Pro\",\"GAME SPORTS\"],[\"Ace Fishing: Wild Catch\",\"GAME SPORTS\"],[\"Wrestling Revolution 3D\",\"GAME SPORTS\"],[\"Basketball Stars\",\"GAME SPORTS\"],[\"Run Race 3D\",\"GAME SPORTS\"],[\"3D Bowling\",\"GAME SPORTS\"],[\"Real Cricket\\u2122 20\",\"GAME SPORTS\"],[\"3D Tennis\",\"GAME SPORTS\"],[\"Punch Boxing 3D\",\"GAME SPORTS\"],[\"Tennis Clash: 1v1 Free Online Sports Game\",\"GAME SPORTS\"],[\"PES CLUB MANAGER\",\"GAME SPORTS\"],[\"Shooting World - Gun Fire\",\"GAME SPORTS\"],[\"Archery Master 3D\",\"GAME SPORTS\"],[\"Head Football LaLiga 2021 - Skills Soccer Games\",\"GAME SPORTS\"],[\"Real Football\",\"GAME SPORTS\"],[\"Soccer Star 2021 Top Leagues: Play the SOCCER game\",\"GAME SPORTS\"],[\"Flip Diving\",\"GAME SPORTS\"],[\"Cartola FC\",\"GAME SPORTS\"],[\"World Cricket Championship Lt\",\"GAME SPORTS\"],[\"Kite Flying - Layang Layang\",\"GAME SPORTS\"],[\"Score! Match - PvP Soccer\",\"GAME SPORTS\"],[\"Final kick 2020 Best Online football penalty game\",\"GAME SPORTS\"],[\"Mini Golf King - Multiplayer Game\",\"GAME SPORTS\"],[\"Ultimate Soccer - Football\",\"GAME SPORTS\"],[\"Boxing Star\",\"GAME SPORTS\"],[\"Real Cricket\\u2122 17\",\"GAME SPORTS\"],[\"Stickman Soccer 2014\",\"GAME SPORTS\"],[\"Perfect Kick\",\"GAME SPORTS\"],[\"Touchgrind BMX\",\"GAME SPORTS\"],[\"Soccer Star 2020 World Football: World Star Cup\",\"GAME SPORTS\"],[\"WWE SuperCard - Multiplayer Collector Card Game\",\"GAME SPORTS\"],[\"Golf Battle\",\"GAME SPORTS\"],[\"Shooting Archery\",\"GAME SPORTS\"],[\"Winner Soccer Evo Elite\",\"GAME SPORTS\"],[\"Basketball Shoot\",\"GAME SPORTS\"],[\"Badminton League\",\"GAME SPORTS\"],[\"Real Boxing \\u2013\\u00a0Fighting Game\",\"GAME SPORTS\"],[\"EA SPORTS\\u2122 FIFA 21 Companion\",\"GAME SPORTS\"],[\"Stickman Soccer - Classic\",\"GAME SPORTS\"],[\"Soccer Cup 2021: Free Football Games\",\"GAME SPORTS\"],[\"Golf Star\\u2122\",\"GAME SPORTS\"],[\"Fanatical Football\",\"GAME SPORTS\"],[\"\\u26bdPuppet Soccer 2014 - Big Head Football \\ud83c\\udfc6\",\"GAME SPORTS\"],[\"Basketball Mania\",\"GAME SPORTS\"],[\"Toon Cup 2020 - Cartoon Network's Football Game\",\"GAME SPORTS\"],[\"Volleyball Champions 3D - Online Sports Game\",\"GAME SPORTS\"],[\"Basketball Battle\",\"GAME SPORTS\"],[\"Shooting King\",\"GAME SPORTS\"],[\"Homerun Battle 2\",\"GAME SPORTS\"],[\"Shooting Ball\",\"GAME SPORTS\"],[\"Hit & Knock down\",\"GAME SPORTS\"],[\"Golf King - World Tour\",\"GAME SPORTS\"],[\"Table Tennis 3D\",\"GAME SPORTS\"],[\"Soccer Super Star\",\"GAME SPORTS\"],[\"Fishing Paradise 3D Free+\",\"GAME SPORTS\"],[\"Top Football Manager 2021\",\"GAME SPORTS\"],[\"Sachin Saga Cricket Champions\",\"GAME SPORTS\"],[\"Wrestling Revolution\",\"GAME SPORTS\"],[\"3D Pool Ball\",\"GAME SPORTS\"],[\"Stickman Basketball\",\"GAME SPORTS\"],[\"Mike V: Skateboard Party\",\"GAME SPORTS\"],[\"Stick Cricket Premier League\",\"GAME SPORTS\"],[\"Golf Rival\",\"GAME SPORTS\"],[\"Virtual Table Tennis 3D\",\"GAME SPORTS\"],[\"Mobile Soccer League\",\"GAME SPORTS\"],[\"Badminton Legend\",\"GAME SPORTS\"],[\"Fishing Superstars\",\"GAME SPORTS\"],[\"Soccer Kicks (Football)\",\"GAME SPORTS\"],[\"Retro Bowl\",\"GAME SPORTS\"],[\"PBA\\u00ae Bowling Challenge\",\"GAME SPORTS\"],[\"Fanatical Basketball\",\"GAME SPORTS\"],[\"Baseball Superstars\\u00ae 2013\",\"GAME SPORTS\"],[\"Mini Football - Mobile Soccer\",\"GAME SPORTS\"],[\"Touchgrind Skate 2\",\"GAME SPORTS\"],[\"Archery Tournament\",\"GAME SPORTS\"],[\"Flip Master\",\"GAME SPORTS\"],[\"Shoot Goal \\u26bd\\ufe0f Football Stars Soccer Games 2021\",\"GAME SPORTS\"],[\"Clash of Clans\",\"GAME STRATEGY\"],[\"Clash Royale\",\"GAME STRATEGY\"],[\"Lords Mobile: Kingdom Wars\",\"GAME STRATEGY\"],[\"Boom Beach\",\"GAME STRATEGY\"],[\"Plants vs. Zombies FREE\",\"GAME STRATEGY\"],[\"Castle Clash: Guild Royale\",\"GAME STRATEGY\"],[\"Grow Empire: Rome\",\"GAME STRATEGY\"],[\"World of Tanks Blitz PVP MMO 3D tank game for free\",\"GAME STRATEGY\"],[\"Monster Legends: Breed & Merge Heroes Battle Arena\",\"GAME STRATEGY\"],[\"Bid Wars - Storage Auctions and Pawn Shop Tycoon\",\"GAME STRATEGY\"],[\"Clash of Kings : Newly Presented Knight System\",\"GAME STRATEGY\"],[\"Vlogger Go Viral - Tuber Simulator Games\",\"GAME STRATEGY\"],[\"Stick War: Legacy\",\"GAME STRATEGY\"],[\"State of Survival: Survive the Zombie Apocalypse\",\"GAME STRATEGY\"],[\"Clash of Lords 2: Guild Castle\",\"GAME STRATEGY\"],[\"Rise of Kingdoms: Lost Crusade\",\"GAME STRATEGY\"],[\"Last Shelter: Survival\",\"GAME STRATEGY\"],[\"Game of War - Fire Age\",\"GAME STRATEGY\"],[\"Megapolis: city building simulator. Urban strategy\",\"GAME STRATEGY\"],[\"Empire: Four Kingdoms | Medieval Strategy MMO\",\"GAME STRATEGY\"],[\"Castle Crush: Epic Battle - Free Strategy Games\",\"GAME STRATEGY\"],[\"King of Thieves\",\"GAME STRATEGY\"],[\"Throne Rush\",\"GAME STRATEGY\"],[\"Game of Warriors\",\"GAME STRATEGY\"],[\"League of Legends: Wild Rift\",\"GAME STRATEGY\"],[\"Forge of Empires: Build your City\",\"GAME STRATEGY\"],[\"Vikings: War of Clans\",\"GAME STRATEGY\"],[\"Bid Wars 2: Pawn Shop - Storage Auction Simulator\",\"GAME STRATEGY\"],[\"Mafia City\",\"GAME STRATEGY\"],[\"aa\",\"GAME STRATEGY\"],[\"Mobile Strike\",\"GAME STRATEGY\"],[\"Bloons TD Battles\",\"GAME STRATEGY\"],[\"King of Avalon: Dominion\",\"GAME STRATEGY\"],[\"Last Empire - War Z: Strategy\",\"GAME STRATEGY\"],[\"Rise of Empires: Ice and Fire\",\"GAME STRATEGY\"],[\"Alien Creeps TD - Epic tower defense\",\"GAME STRATEGY\"],[\"Vainglory\",\"GAME STRATEGY\"],[\"Jungle Heat: War of Clans\",\"GAME STRATEGY\"],[\"The Walking Dead No Man's Land\",\"GAME STRATEGY\"],[\"DomiNations\",\"GAME STRATEGY\"],[\"World at Arms\",\"GAME STRATEGY\"],[\"Art of War: Legions\",\"GAME STRATEGY\"],[\"Heroes of Order & Chaos\",\"GAME STRATEGY\"],[\"METAL SLUG DEFENSE\",\"GAME STRATEGY\"],[\"Army Men Strike - Military Strategy Simulator\",\"GAME STRATEGY\"],[\"Toilet Time: Boredom killer Fun Mini Games to Play\",\"GAME STRATEGY\"],[\"Castle Clash: Dominio del Reino\",\"GAME STRATEGY\"],[\"Kingdom Rush - Tower Defense Game\",\"GAME STRATEGY\"],[\"Final Fantasy XV: A New Empire\",\"GAME STRATEGY\"],[\"Dead Ahead: Zombie Warfare\",\"GAME STRATEGY\"],[\"Lapse: A Forgotten Future\",\"GAME STRATEGY\"],[\"Heroes Evolved\",\"GAME STRATEGY\"],[\"Dawn of Titans: War Strategy RPG\",\"GAME STRATEGY\"],[\"Toy Defence 2 \\u2014 Tower Defense game\",\"GAME STRATEGY\"],[\"2020: My Country\",\"GAME STRATEGY\"],[\"South Park: Phone Destroyer\\u2122 - Battle Card Game\",\"GAME STRATEGY\"],[\"Castle Clash: King's Castle DE\",\"GAME STRATEGY\"],[\"Clash of Lords: Guild Castle\",\"GAME STRATEGY\"],[\"Random Dice: PvP Defense\",\"GAME STRATEGY\"],[\"Empires and Allies\",\"GAME STRATEGY\"],[\"Mini Warriors\",\"GAME STRATEGY\"],[\"Guns of Glory: The Iron Mask\",\"GAME STRATEGY\"],[\"Invasion: Modern Empire\",\"GAME STRATEGY\"],[\"Tentacle Wars \\u2122\",\"GAME STRATEGY\"],[\"Realm Defense: Epic Tower Defense Strategy Game\",\"GAME STRATEGY\"],[\"Gods of Olympus\",\"GAME STRATEGY\"],[\"Survival Arena\",\"GAME STRATEGY\"],[\"Disney Heroes: Battle Mode\",\"GAME STRATEGY\"],[\"Reactor \\u2622\\ufe0f - Idle Manager- Energy Sector Tycoon\",\"GAME STRATEGY\"],[\"Deep Town: Mining Factory\",\"GAME STRATEGY\"],[\"Virtual City\\u00ae Playground: Building Tycoon\",\"GAME STRATEGY\"],[\"War and Order\",\"GAME STRATEGY\"],[\"Castle Clash : Guild Royale\",\"GAME STRATEGY\"],[\"Clash of Lords 2: \\u0411\\u0438\\u0442\\u0432\\u0430 \\u041b\\u0435\\u0433\\u0435\\u043d\\u0434\",\"GAME STRATEGY\"],[\"Empire Z: Endless War\",\"GAME STRATEGY\"],[\"Warlings: Armageddon\",\"GAME STRATEGY\"],[\"Warlings\",\"GAME STRATEGY\"],[\"Total Conquest\",\"GAME STRATEGY\"],[\"Chess Live\",\"GAME STRATEGY\"],[\"Age of Z Origins\",\"GAME STRATEGY\"],[\"\\u0627\\u0646\\u062a\\u0642\\u0627\\u0645 \\u0627\\u0644\\u0633\\u0644\\u0627\\u0637\\u064a\\u0646\",\"GAME STRATEGY\"],[\"Onmyoji Arena\",\"GAME STRATEGY\"],[\"Narcos: Cartel Wars. Build an Empire with Strategy\",\"GAME STRATEGY\"],[\"March of Empires: War of Lords\",\"GAME STRATEGY\"],[\"Chess Rush\",\"GAME STRATEGY\"],[\"War and Magic: Kingdom Reborn\",\"GAME STRATEGY\"],[\"Supermarket Mania Journey\",\"GAME STRATEGY\"],[\"War Heroes: Strategy Card Game for Free\",\"GAME STRATEGY\"],[\"TRANSFORMERS: Earth Wars\",\"GAME STRATEGY\"],[\"Art of War 3: PvP RTS modern warfare strategy game\",\"GAME STRATEGY\"],[\"Defender II\",\"GAME STRATEGY\"],[\"Stormfall: Rise of Balur\",\"GAME STRATEGY\"],[\"Evony: The King's Return\",\"GAME STRATEGY\"],[\"Grepolis - Divine Strategy MMO\",\"GAME STRATEGY\"],[\"Venom Angry Crashy Rush Online\",\"GAME STRATEGY\"],[\"Train Station 2: Railroad Tycoon & City Simulator\",\"GAME STRATEGY\"],[\"Castle Clash: Batalha de Guildas\",\"GAME STRATEGY\"],[\"\\u57ce\\u5821\\u722d\\u9738 - \\u806f\\u76df\\u9738\\u696d\",\"GAME STRATEGY\"],[\"Iron Desert - Fire Storm\",\"GAME STRATEGY\"],[\"Castle Clash: Regu Royale\",\"GAME STRATEGY\"],[\"Trivia Crack\",\"GAME TRIVIA\"],[\"Brain Test: Tricky Puzzles\",\"GAME TRIVIA\"],[\"94% - Quiz, Trivia & Logic\",\"GAME TRIVIA\"],[\"Logo Quiz\",\"GAME TRIVIA\"],[\"Who is? Brain Teaser & Tricky Riddles\",\"GAME TRIVIA\"],[\"Brain Test 2: Tricky Stories\",\"GAME TRIVIA\"],[\"Tricky Test 2\\u2122: Genius Brain?\",\"GAME TRIVIA\"],[\"Free Trivia Game. Questions & Answers. QuizzLand.\",\"GAME TRIVIA\"],[\"Quiz: Logo game\",\"GAME TRIVIA\"],[\"Guess The Song - Music Quiz\",\"GAME TRIVIA\"],[\"TVSMILES - Quiz and Prizes\",\"GAME TRIVIA\"],[\"\\u0641\\u0637\\u062d\\u0644 \\u0627\\u0644\\u0639\\u0631\\u0628 - \\u0644\\u0639\\u0628\\u0629 \\u0645\\u0639\\u0644\\u0648\\u0645\\u0627\\u062a \\u0639\\u0627\\u0645\\u0629\",\"GAME TRIVIA\"],[\"Gartic\",\"GAME TRIVIA\"],[\"Trivia Crack 2\",\"GAME TRIVIA\"],[\"94 Degrees: fun trivia quiz\",\"GAME TRIVIA\"],[\"Quizdom - Trivia more than logo quiz!\",\"GAME TRIVIA\"],[\"Picture Quiz: Logos\",\"GAME TRIVIA\"],[\"Think\",\"GAME TRIVIA\"],[\"Fight List - Categories Game\",\"GAME TRIVIA\"],[\"\\ubaa8\\ub450\\uc758 \\ud034\\uc988 - \\uc0ac\\uc9c4\\uc5f0\\uc0c1 \\ub2e8\\uc5b4\",\"GAME TRIVIA\"],[\"I Know Stuff : trivia quiz\",\"GAME TRIVIA\"],[\"Who Wants to Be a Millionaire? Trivia & Quiz Game\",\"GAME TRIVIA\"],[\"World Geography - Quiz Game\",\"GAME TRIVIA\"],[\"Guess The Brand - Logo Mania\",\"GAME TRIVIA\"],[\"\\u0e1b\\u0e23\\u0e34\\u0e28\\u0e19\\u0e32\\u0e1f\\u0e49\\u0e32\\u0e41\\u0e25\\u0e1a\",\"GAME TRIVIA\"],[\"Logo Game: Guess Brand Quiz\",\"GAME TRIVIA\"],[\"Color Mania Quiz - Guess the logo game\",\"GAME TRIVIA\"],[\"Can you escape the 100 room IV\",\"GAME TRIVIA\"],[\"\\u062d\\u0644\\u0647\\u0627 \\u0648\\u0627\\u062d\\u062a\\u0644\\u0647\\u0627 - \\u0644\\u0639\\u0628\\u0629 \\u0643\\u0644\\u0645\\u0629 \\u0627\\u0644\\u0633\\u0631\",\"GAME TRIVIA\"],[\"A4 Wheel of fortune\",\"GAME TRIVIA\"],[\"TTS Lontong\",\"GAME TRIVIA\"],[\"\\u0418\\u043d\\u0442\\u0435\\u043b\\u043b\\u0435\\u043a\\u0442-\\u0431\\u0430\\u0442\\u0442\\u043b\",\"GAME TRIVIA\"],[\"Scratch Logo Quiz. Challenging brain puzzle\",\"GAME TRIVIA\"],[\"Jeopardy!\\u00ae Trivia Quiz Game Show\",\"GAME TRIVIA\"],[\"Spin of Fortune - Quiz\",\"GAME TRIVIA\"],[\"100 PICS Quiz - Guess Trivia, Logo & Picture Games\",\"GAME TRIVIA\"],[\"Millionaire 2021 - Free Trivia Quiz Offline Game\",\"GAME TRIVIA\"],[\"General Knowledge Quiz\",\"GAME TRIVIA\"],[\"Food Quiz\",\"GAME TRIVIA\"],[\"Trivia Survival 100\",\"GAME TRIVIA\"],[\"Adivina la Canci\\u00f3n\",\"GAME TRIVIA\"],[\"Where Logic?\",\"GAME TRIVIA\"],[\"Nope Quiz\",\"GAME TRIVIA\"],[\"Genius Quiz - Smart Brain Trivia Game\",\"GAME TRIVIA\"],[\"Who Becomes Rich\",\"GAME TRIVIA\"],[\"Richman 4 fun\",\"GAME TRIVIA\"],[\"\\u0412\\u0440\\u0430\\u0449\\u0430\\u0439\\u0442\\u0435 \\u0431\\u0430\\u0440\\u0430\\u0431\\u0430\\u043d\",\"GAME TRIVIA\"],[\"TRIVIA STAR - Free Trivia Games Offline App\",\"GAME TRIVIA\"],[\"Trick Me: Logical Brain Teasers Puzzle\",\"GAME TRIVIA\"],[\"TRIVIA 360: Single-player & Multiplayer quiz game\",\"GAME TRIVIA\"],[\"Free RBX Master\",\"GAME TRIVIA\"],[\"sameQuizy\",\"GAME TRIVIA\"],[\"Live Quiz Games App, Trivia & Gaming App for Money\",\"GAME TRIVIA\"],[\"Quiz Of Kings\",\"GAME TRIVIA\"],[\"MEGA QUIZ GAMING 2021 - Guess the game Trivia\",\"GAME TRIVIA\"],[\"Guess The Movie \\u00ae\",\"GAME TRIVIA\"],[\"Would You Rather? The Game\",\"GAME TRIVIA\"],[\"Guess the Logo: Multiple Choice Quiz\",\"GAME TRIVIA\"],[\"Pluck It: hairs and emotions\",\"GAME TRIVIA\"],[\"A Journey Towards Jesus\",\"GAME TRIVIA\"],[\"\\u0423\\u0413\\u0410\\u0414\\u0410\\u0419 \\u0411\\u041b\\u041e\\u0413\\u0415\\u0420\\u0410\",\"GAME TRIVIA\"],[\"96%: Family Quiz\",\"GAME TRIVIA\"],[\"\\u042d\\u0432\\u0440\\u0438\\u043a\\u0430! \\u041b\\u043e\\u0433\\u0438\\u0447\\u0435\\u0441\\u043a\\u0438\\u0435 \\u0417\\u0430\\u0434\\u0430\\u0447\\u0438, \\u0418\\u0433\\u0440\\u044b \\u0438 \\u0413\\u043e\\u043b\\u043e\\u0432\\u043e\\u043b\\u043e\\u043c\\u043a\\u0438\",\"GAME TRIVIA\"],[\"Stupid test: moron test, idiotest. IQ bored games\",\"GAME TRIVIA\"],[\"Trivia Crack (No Ads)\",\"GAME TRIVIA\"],[\"Quiz World: Play and Win Everyday!\",\"GAME TRIVIA\"],[\"\\uc2a4\\ucf00\\uce58\\ud034\\uc988\",\"GAME TRIVIA\"],[\"I Know the Cartoon\",\"GAME TRIVIA\"],[\"NEW QuizDuel!\",\"GAME TRIVIA\"],[\"Trivia Challenge\",\"GAME TRIVIA\"],[\"Atriviate (Online Trivia)\",\"GAME TRIVIA\"],[\"Quiz - Offline Games\",\"GAME TRIVIA\"],[\"Trivia Crack Adventure\",\"GAME TRIVIA\"],[\"Gartic.io - Draw, Guess, WIN\",\"GAME TRIVIA\"],[\"Truth or Dare\",\"GAME TRIVIA\"],[\"BFF Friendship Test\",\"GAME TRIVIA\"],[\"Superbuzzer Trivia Quiz Game\",\"GAME TRIVIA\"],[\"The Higher Lower Game\",\"GAME TRIVIA\"],[\"Eu Sei a M\\u00fasica\",\"GAME TRIVIA\"],[\"Palabra Correcta\",\"GAME TRIVIA\"],[\"\\u0641\\u0643\\u0631 \\u0640 Think\",\"GAME TRIVIA\"],[\"Se como Jose\",\"GAME TRIVIA\"],[\"TopQuiz -Play Quiz & Lottery | Win Money via Paytm\",\"GAME TRIVIA\"],[\"101 Pics: Photo Quiz\",\"GAME TRIVIA\"],[\"Personal Name Test\",\"GAME TRIVIA\"],[\"Flags and Capitals of the World Quiz\",\"GAME TRIVIA\"],[\"Logo Test: World Brands Quiz, Guess Trivia Game\",\"GAME TRIVIA\"],[\"\\u00bfCu\\u00e1nto sabes de Primaria?\",\"GAME TRIVIA\"],[\"Cars Logo Quiz HD\",\"GAME TRIVIA\"],[\"\\u05dc\\u05d5\\u05d2\\u05d5\\u05d8\\u05e1\\u05d8 \\u05d8\\u05e8\\u05d9\\u05d5\\u05d5\\u05d9\\u05d4: \\u05de\\u05e9\\u05d7\\u05e7 \\u05d4\\u05e1\\u05de\\u05dc\\u05d9\\u05dd \\u05d5\\u05d4\\u05de\\u05d5\\u05ea\\u05d2\\u05d9\\u05dd \\u05d4\\u05d2\\u05d3\\u05d5\\u05dc \\u05d1\\u05d9\\u05e9\\u05e8\\u05d0\\u05dc\",\"GAME TRIVIA\"],[\"90's Quiz Game\",\"GAME TRIVIA\"],[\"Flags of All Countries of the World: Guess-Quiz\",\"GAME TRIVIA\"],[\"Vrai ou Faux ? Le grand Quiz\",\"GAME TRIVIA\"],[\"Alphabet Game\",\"GAME TRIVIA\"],[\"Hardest Girl to Get - Kode Keras Cowok dari Cewek\",\"GAME TRIVIA\"],[\"Slam\",\"GAME TRIVIA\"],[\"\\uc544\\uc7ac \\ub2a5\\ub825 \\uace0\\uc0ac : \\uc544\\uc7ac\\uac1c\\uadf8\\uc640 \\ub10c\\uc13c\\uc2a4\\ud034\\uc988\",\"GAME TRIVIA\"],[\"Cuanto Sabes de la Biblia\",\"GAME TRIVIA\"],[\"Quiz Planet\",\"GAME TRIVIA\"],[\"AppTrailers\",\"GAME TRIVIA\"],[\"\\u0643\\u0644\\u0645\\u0627\\u062a \\u0643\\u0631\\u0627\\u0634 - \\u0644\\u0639\\u0628\\u0629 \\u062a\\u0633\\u0644\\u064a\\u0629 \\u0648\\u062a\\u062d\\u062f\\u064a \\u0645\\u0646 \\u0632\\u064a\\u062a\\u0648\\u0646\\u0629\",\"GAME WORD\"],[\"Word Cookies!\\u00ae\",\"GAME WORD\"],[\"Words of Wonders: Crossword to Connect Vocabulary\",\"GAME WORD\"],[\"Words with Friends Classic: Word Puzzle Challenge\",\"GAME WORD\"],[\"4 Fotos 1 Palabra\",\"GAME WORD\"],[\"4 Pics 1 Word\",\"GAME WORD\"],[\"Draw Something Classic\",\"GAME WORD\"],[\"CodyCross: Crossword Puzzles\",\"GAME WORD\"],[\"WordBrain - Free classic word puzzle game\",\"GAME WORD\"],[\"Word Connect\",\"GAME WORD\"],[\"Wordscapes\",\"GAME WORD\"],[\"\\u0644\\u0639\\u0628\\u0629 \\u0643\\u0644\\u0645\\u0629 \\u0627\\u0644\\u0633\\u0631 : \\u0627\\u0644\\u062c\\u0632\\u0621 \\u0627\\u0644\\u062b\\u0627\\u0646\\u064a\",\"GAME WORD\"],[\"\\u0643\\u0644\\u0645\\u0627\\u062a \\u0645\\u062a\\u0642\\u0627\\u0637\\u0639\\u0629\",\"GAME WORD\"],[\"\\u0648\\u0635\\u0644\\u0629 - \\u0644\\u0639\\u0628\\u0629 \\u0643\\u0644\\u0645\\u0627\\u062a \\u0645\\u062a\\u0642\\u0627\\u0637\\u0639\\u0629\",\"GAME WORD\"],[\"Words with Friends: Play Fun Word Puzzle Games\",\"GAME WORD\"],[\"Word Snack - Your Picnic with Words\",\"GAME WORD\"],[\"Word search\",\"GAME WORD\"],[\"Wordfeud Free\",\"GAME WORD\"],[\"Word Search\",\"GAME WORD\"],[\"Braindom 2: Who is Lying? Fun Brain Teaser Riddles\",\"GAME WORD\"],[\"Word Search\",\"GAME WORD\"],[\"Word Search\",\"GAME WORD\"],[\"Word Search\",\"GAME WORD\"],[\"Word Link\",\"GAME WORD\"],[\"Words Story - Addictive Word Game\",\"GAME WORD\"],[\"Word Streak-Words With Friends\",\"GAME WORD\"],[\"TTS Pintar 2021 - Teka Teki Silang Offline\",\"GAME WORD\"],[\"Word Search\",\"GAME WORD\"],[\"Word Search\",\"GAME WORD\"],[\"Word Search\",\"GAME WORD\"],[\"4 Bilder 1 Wort\",\"GAME WORD\"],[\"Word Academy\",\"GAME WORD\"],[\"Word Connect - Word Games Puzzle\",\"GAME WORD\"],[\"Pictoword: Fun Word Games & Offline Brain Game\",\"GAME WORD\"],[\"Word Collect - Free Word Games\",\"GAME WORD\"],[\"Braindom: Tricky Brain Teasers, Test, Riddle Games\",\"GAME WORD\"],[\"Word Search\",\"GAME WORD\"],[\"Word Search\",\"GAME WORD\"],[\"Word Search\",\"GAME WORD\"],[\"Wheel of Fortune: Free Play\",\"GAME WORD\"],[\"Word Crack\",\"GAME WORD\"],[\"4 Images 1 Mot\",\"GAME WORD\"],[\"4 \\u0444\\u043e\\u0442\\u043a\\u0438 1 \\u0441\\u043b\\u043e\\u0432\\u043e\",\"GAME WORD\"],[\"Wordie: Guess the Word\",\"GAME WORD\"],[\"Ruzzle Free\",\"GAME WORD\"],[\"Kelimelik\",\"GAME WORD\"],[\"Scrabble\\u00ae GO - New Word Game\",\"GAME WORD\"],[\"\\u0644\\u0639\\u0628\\u0629 \\u0643\\u0644\\u0645\\u0629 \\u0627\\u0644\\u0633\\u0631\",\"GAME WORD\"],[\"\\u041d\\u0430\\u0439\\u0434\\u0438 \\u0441\\u043b\\u043e\\u0432\\u0430\",\"GAME WORD\"],[\"Pro des Mots\",\"GAME WORD\"],[\"Word Search Free Game\",\"GAME WORD\"],[\"Garden of Words - Word game\",\"GAME WORD\"],[\"Word Crossy - A crossword game\",\"GAME WORD\"],[\"4 Immagini 1 Parola\",\"GAME WORD\"],[\"Words Crush: Hidden Words!\",\"GAME WORD\"],[\"Word Search Sea: Unscramble words\",\"GAME WORD\"],[\"Fill-The-Words - word search puzzle\",\"GAME WORD\"],[\"4 Pics 1 Word Puzzle Plus\",\"GAME WORD\"],[\"Palabras Cruz\",\"GAME WORD\"],[\"Words With Friends 2 - Board Games & Word Puzzles\",\"GAME WORD\"],[\"Word Stacks\",\"GAME WORD\"],[\"Word Yard - Fun with Words\",\"GAME WORD\"],[\"Word Cross\",\"GAME WORD\"],[\"Word Trip\",\"GAME WORD\"],[\"\\u0622\\u0645\\u06cc\\u0631\\u0632\\u0627\",\"GAME WORD\"],[\"Heads Up!\",\"GAME WORD\"],[\"Word Search Quest - Free Word Puzzle Game\",\"GAME WORD\"],[\"\\u0421\\u043b\\u043e\\u0432\\u0430 \\u0438\\u0437 \\u0421\\u043b\\u043e\\u0432\\u0430\",\"GAME WORD\"],[\"What Am I? \\u2013 Family Charades (Guess The Word)\",\"GAME WORD\"],[\"Wort Guru\",\"GAME WORD\"],[\"Stop - Categories Word Game\",\"GAME WORD\"],[\"Wordington: Words & Design\",\"GAME WORD\"],[\"Crossword Jam\",\"GAME WORD\"],[\"Kelime Gezmece\",\"GAME WORD\"],[\"Jalebi - A Desi Adda With Ludo Snakes & Ladders\",\"GAME WORD\"],[\"Immortal Taoists-Idle Game of Immortal Cultivation\",\"GAME WORD\"],[\"Classic Words Solo\",\"GAME WORD\"],[\"WordWhizzle Search\",\"GAME WORD\"],[\"Word Find - Word Connect Free Offline Word Games\",\"GAME WORD\"],[\"Draw and Guess Online\",\"GAME WORD\"],[\"2 Pictures 1 Word\",\"GAME WORD\"],[\"Word Crack Mix 2\",\"GAME WORD\"],[\"Word Search\",\"GAME WORD\"],[\"Word Domination\",\"GAME WORD\"],[\"Sz\\u00f3 Piknik - Word Snack\",\"GAME WORD\"],[\"\\u0627\\u0634\\u0628\\u0643\\u0647\\u0627 - \\u0644\\u0639\\u0628\\u0629 \\u062a\\u0633\\u0644\\u064a\\u0629 \\u0648\\u062a\\u0641\\u0643\\u064a\\u0631\",\"GAME WORD\"],[\"\\u0643\\u0644\\u0645\\u0627\\u062a \\u0645\\u062a\\u0642\\u0627\\u0637\\u0639\\u0629 \\u0645\\u0646 \\u0632\\u064a\\u062a\\u0648\\u0646\\u0629 - \\u0631\\u0634\\u0641\\u0629 \\u0648\\u0635\\u0644\\u0629\",\"GAME WORD\"],[\"Evil Apples: You Against Humanity!\",\"GAME WORD\"],[\"Word Chums\",\"GAME WORD\"],[\"Word Crush\",\"GAME WORD\"],[\"Word Trek - Word Brain streak - hand made puzzles\",\"GAME WORD\"],[\"Word Surf - Word Game\",\"GAME WORD\"],[\"Words Crush: Hidden Themes!\",\"GAME WORD\"],[\"Teka Teki Silang\",\"GAME WORD\"],[\"7 Little Words: A fun twist on crossword puzzles\",\"GAME WORD\"],[\"Charades!\",\"GAME WORD\"],[\"Escape Room: Mystery Word\",\"GAME WORD\"],[\"Wordalot - Picture Crossword\",\"GAME WORD\"],[\"Jogo da Forca\",\"GAME WORD\"],[\"Word Swipe\",\"GAME WORD\"],[\"Zgadnij co to?\",\"GAME WORD\"],[\"Piknik S\\u0142owo - Word Snack\",\"GAME WORD\"],[\"Wordox \\u2013 Free multiplayer word game\",\"GAME WORD\"],[\"4 Fotos 1 Palavra\",\"GAME WORD\"],[\"\\u0632\\u0648\\u0627\\u064a\\u0627 - \\u0644\\u0639\\u0628\\u0629 \\u0633\\u062a\\u062d\\u0631\\u0643 \\u0632\\u0648\\u0627\\u064a\\u0627 \\u0639\\u0642\\u0644\\u0643\",\"GAME WORD\"],[\"Word Life - Connect crosswords puzzle\",\"GAME WORD\"]],\"hovertemplate\":\"installation_in_million=%{x}<br>title=%{customdata[0]}<br>category=%{customdata[1]}<extra></extra>\",\"legendgroup\":\"\",\"marker\":{\"color\":\"#636efa\"},\"name\":\"\",\"notched\":false,\"offsetgroup\":\"\",\"orientation\":\"h\",\"quartilemethod\":\"inclusive\",\"showlegend\":false,\"type\":\"box\",\"x\":[500.0,100.0,100.0,100.0,100.0,100.0,100.0,100.0,500.0,100.0,100.0,100.0,100.0,100.0,50.0,100.0,100.0,50.0,100.0,50.0,50.0,100.0,50.0,100.0,100.0,100.0,50.0,100.0,100.0,10.0,50.0,10.0,10.0,100.0,50.0,50.0,50.0,50.0,10.0,10.0,50.0,100.0,10.0,100.0,50.0,50.0,50.0,100.0,100.0,50.0,10.0,50.0,10.0,10.0,100.0,50.0,50.0,100.0,50.0,10.0,100.0,100.0,100.0,50.0,50.0,10.0,100.0,50.0,100.0,50.0,10.0,50.0,100.0,10.0,10.0,10.0,50.0,50.0,10.0,50.0,100.0,50.0,10.0,10.0,10.0,100.0,10.0,10.0,100.0,10.0,10.0,10.0,100.0,10.0,10.0,10.0,100.0,10.0,10.0,10.0,100.0,100.0,100.0,10.0,50.0,100.0,50.0,50.0,10.0,50.0,10.0,10.0,10.0,50.0,10.0,10.0,10.0,10.0,5.0,10.0,10.0,5.0,10.0,10.0,10.0,10.0,10.0,10.0,50.0,5.0,50.0,10.0,10.0,10.0,50.0,10.0,5.0,10.0,10.0,10.0,10.0,10.0,10.0,10.0,100.0,10.0,1.0,10.0,10.0,1.0,10.0,10.0,10.0,1.0,10.0,5.0,10.0,10.0,50.0,10.0,10.0,10.0,10.0,10.0,10.0,50.0,10.0,10.0,10.0,1.0,10.0,10.0,5.0,10.0,1.0,10.0,5.0,5.0,10.0,10.0,10.0,10.0,10.0,50.0,10.0,1.0,100.0,10.0,10.0,5.0,10.0,10.0,10.0,1.0,5.0,5.0,1.0,5.0,10.0,50.0,1000.0,100.0,100.0,100.0,100.0,100.0,100.0,100.0,500.0,100.0,100.0,10.0,100.0,100.0,10.0,100.0,100.0,100.0,100.0,100.0,50.0,100.0,50.0,100.0,100.0,50.0,100.0,10.0,100.0,10.0,100.0,100.0,100.0,100.0,100.0,100.0,100.0,50.0,50.0,10.0,50.0,100.0,50.0,100.0,50.0,100.0,100.0,10.0,50.0,50.0,50.0,100.0,50.0,10.0,100.0,100.0,50.0,100.0,10.0,50.0,50.0,1.0,10.0,50.0,10.0,10.0,50.0,10.0,50.0,50.0,10.0,100.0,50.0,50.0,10.0,10.0,50.0,10.0,10.0,10.0,10.0,10.0,50.0,50.0,10.0,10.0,10.0,50.0,10.0,50.0,10.0,10.0,10.0,10.0,10.0,10.0,10.0,10.0,100.0,10.0,500.0,100.0,10.0,50.0,10.0,50.0,100.0,10.0,100.0,50.0,10.0,50.0,50.0,10.0,10.0,10.0,5.0,10.0,10.0,10.0,10.0,100.0,10.0,50.0,10.0,5.0,5.0,10.0,5.0,5.0,50.0,10.0,10.0,5.0,5.0,10.0,50.0,5.0,10.0,10.0,10.0,1.0,10.0,10.0,10.0,10.0,1.0,10.0,1.0,50.0,5.0,10.0,10.0,10.0,10.0,10.0,10.0,5.0,5.0,5.0,5.0,5.0,5.0,5.0,10.0,5.0,10.0,10.0,10.0,50.0,1.0,50.0,10.0,1.0,10.0,5.0,10.0,1.0,10.0,1.0,10.0,5.0,10.0,5.0,5.0,5.0,1.0,5.0,1.0,5.0,5.0,1.0,1.0,5.0,1.0,10.0,1.0,5.0,10.0,10.0,50.0,10.0,100.0,100.0,100.0,50.0,10.0,10.0,50.0,10.0,50.0,50.0,50.0,10.0,5.0,10.0,10.0,50.0,50.0,50.0,10.0,10.0,10.0,10.0,10.0,10.0,10.0,10.0,5.0,10.0,10.0,5.0,10.0,5.0,10.0,1.0,1.0,1.0,10.0,5.0,50.0,10.0,5.0,10.0,5.0,10.0,10.0,10.0,10.0,5.0,10.0,5.0,5.0,1.0,5.0,5.0,1.0,5.0,5.0,5.0,5.0,5.0,1.0,5.0,5.0,5.0,1.0,1.0,1.0,5.0,5.0,5.0,5.0,1.0,5.0,5.0,5.0,0.5,1.0,5.0,10.0,10.0,10.0,0.5,1.0,1.0,1.0,1.0,5.0,10.0,10.0,5.0,5.0,1.0,1.0,1.0,1.0,5.0,1.0,10.0,5.0,1.0,1.0,5.0,1.0,1.0,1.0,1.0,10.0,10.0,10.0,5.0,5.0,5.0,1.0,1.0,10.0,1.0,1.0,5.0,5.0,5.0,50.0,50.0,50.0,50.0,50.0,10.0,10.0,10.0,10.0,10.0,10.0,10.0,10.0,5.0,10.0,10.0,5.0,10.0,5.0,10.0,10.0,5.0,10.0,5.0,10.0,10.0,10.0,10.0,10.0,10.0,10.0,1.0,5.0,5.0,10.0,10.0,10.0,10.0,5.0,10.0,5.0,10.0,10.0,5.0,5.0,5.0,10.0,10.0,5.0,5.0,10.0,1.0,10.0,5.0,5.0,5.0,10.0,5.0,1.0,5.0,1.0,5.0,5.0,5.0,10.0,5.0,1.0,5.0,1.0,5.0,10.0,10.0,1.0,1.0,1.0,1.0,1.0,1.0,5.0,5.0,5.0,1.0,1.0,1.0,1.0,1.0,1.0,1.0,5.0,1.0,1.0,1.0,1.0,1.0,1.0,5.0,0.5,1.0,1.0,1.0,1000.0,500.0,500.0,100.0,500.0,100.0,100.0,100.0,100.0,100.0,100.0,100.0,100.0,100.0,50.0,100.0,50.0,100.0,100.0,50.0,100.0,50.0,100.0,100.0,50.0,10.0,50.0,100.0,100.0,50.0,50.0,10.0,50.0,100.0,10.0,50.0,10.0,10.0,100.0,50.0,10.0,10.0,50.0,10.0,50.0,50.0,100.0,10.0,10.0,50.0,50.0,100.0,50.0,50.0,10.0,10.0,10.0,10.0,10.0,5.0,10.0,10.0,10.0,100.0,10.0,10.0,10.0,50.0,10.0,10.0,100.0,10.0,10.0,10.0,10.0,10.0,5.0,10.0,10.0,10.0,1.0,50.0,10.0,100.0,100.0,10.0,10.0,10.0,10.0,100.0,100.0,10.0,10.0,1.0,10.0,10.0,10.0,10.0,5.0,10.0,50.0,50.0,100.0,50.0,50.0,1.0,10.0,10.0,50.0,100.0,100.0,10.0,10.0,10.0,10.0,50.0,10.0,50.0,50.0,0.5,10.0,10.0,10.0,50.0,10.0,10.0,10.0,1.0,100.0,10.0,10.0,50.0,10.0,10.0,10.0,50.0,10.0,10.0,10.0,5.0,10.0,1.0,5.0,5.0,10.0,10.0,10.0,10.0,10.0,10.0,10.0,10.0,1.0,1.0,10.0,1.0,10.0,10.0,50.0,10.0,10.0,10.0,5.0,10.0,10.0,10.0,10.0,5.0,10.0,10.0,5.0,5.0,10.0,1.0,1.0,10.0,10.0,5.0,10.0,10.0,10.0,10.0,5.0,10.0,10.0,10.0,10.0,10.0,10.0,5.0,10.0,1.0,10.0,10.0,1.0,10.0,5.0,5.0,5.0,10.0,10.0,10.0,100.0,100.0,10.0,100.0,10.0,50.0,50.0,100.0,50.0,5.0,5.0,10.0,100.0,50.0,10.0,10.0,10.0,10.0,10.0,10.0,10.0,10.0,10.0,5.0,5.0,10.0,5.0,10.0,10.0,50.0,5.0,5.0,5.0,10.0,5.0,1.0,10.0,1.0,50.0,10.0,10.0,1.0,10.0,10.0,10.0,1.0,10.0,1.0,1.0,5.0,5.0,1.0,1.0,10.0,10.0,10.0,10.0,1.0,10.0,1.0,10.0,1.0,5.0,1.0,0.1,5.0,1.0,5.0,10.0,10.0,1.0,1.0,0.5,1.0,1.0,1.0,5.0,5.0,1.0,10.0,1.0,5.0,1.0,0.5,1.0,5.0,1.0,0.5,5.0,1.0,1.0,1.0,5.0,10.0,5.0,1.0,1.0,1.0,10.0,10.0,100.0,100.0,50.0,50.0,100.0,50.0,100.0,100.0,50.0,100.0,50.0,50.0,50.0,10.0,100.0,100.0,100.0,100.0,100.0,10.0,10.0,50.0,10.0,10.0,10.0,50.0,10.0,50.0,50.0,10.0,10.0,10.0,5.0,10.0,10.0,100.0,10.0,100.0,10.0,50.0,50.0,10.0,10.0,10.0,10.0,50.0,10.0,10.0,100.0,10.0,10.0,100.0,10.0,100.0,10.0,50.0,50.0,10.0,10.0,10.0,10.0,50.0,50.0,50.0,50.0,50.0,10.0,50.0,5.0,50.0,50.0,10.0,10.0,10.0,10.0,50.0,50.0,10.0,10.0,10.0,10.0,10.0,10.0,10.0,10.0,10.0,10.0,10.0,50.0,10.0,10.0,10.0,10.0,10.0,10.0,10.0,10.0,100.0,1.0,50.0,500.0,100.0,100.0,100.0,100.0,100.0,100.0,10.0,100.0,100.0,100.0,100.0,100.0,50.0,100.0,100.0,50.0,100.0,100.0,10.0,50.0,50.0,10.0,50.0,50.0,100.0,50.0,50.0,50.0,10.0,10.0,100.0,10.0,10.0,50.0,100.0,10.0,10.0,50.0,100.0,50.0,10.0,100.0,100.0,100.0,50.0,100.0,10.0,50.0,50.0,10.0,10.0,10.0,10.0,50.0,10.0,10.0,10.0,50.0,5.0,50.0,10.0,10.0,10.0,100.0,50.0,10.0,10.0,10.0,10.0,10.0,10.0,10.0,10.0,10.0,10.0,50.0,10.0,10.0,50.0,10.0,10.0,5.0,50.0,10.0,10.0,50.0,10.0,10.0,10.0,10.0,50.0,10.0,50.0,10.0,10.0,10.0,10.0,10.0,10.0,100.0,10.0,50.0,50.0,10.0,100.0,10.0,50.0,50.0,10.0,10.0,10.0,10.0,10.0,10.0,50.0,10.0,10.0,10.0,10.0,5.0,10.0,10.0,10.0,10.0,10.0,10.0,5.0,10.0,50.0,10.0,10.0,10.0,10.0,10.0,10.0,5.0,5.0,5.0,10.0,10.0,10.0,5.0,5.0,10.0,10.0,10.0,10.0,10.0,5.0,100.0,10.0,5.0,10.0,10.0,50.0,10.0,10.0,10.0,10.0,10.0,10.0,1.0,1.0,5.0,10.0,10.0,10.0,10.0,1.0,5.0,5.0,10.0,10.0,10.0,5.0,10.0,5.0,1.0,1.0,10.0,10.0,5.0,10.0,5.0,1.0,10.0,1.0,10.0,5.0,10.0,1.0,5.0,5.0,5.0,5.0,100.0,1.0,10.0,5.0,100.0,100.0,100.0,100.0,100.0,10.0,50.0,50.0,10.0,50.0,50.0,10.0,50.0,50.0,10.0,50.0,10.0,50.0,10.0,100.0,10.0,50.0,10.0,50.0,10.0,50.0,50.0,50.0,10.0,10.0,10.0,10.0,10.0,10.0,10.0,50.0,10.0,100.0,10.0,5.0,50.0,10.0,10.0,10.0,10.0,50.0,50.0,10.0,100.0,10.0,100.0,10.0,10.0,50.0,10.0,10.0,10.0,50.0,100.0,10.0,10.0,10.0,50.0,10.0,10.0,50.0,50.0,10.0,10.0,5.0,10.0,50.0,10.0,10.0,10.0,10.0,10.0,10.0,10.0,10.0,10.0,10.0,1.0,10.0,10.0,10.0,10.0,10.0,100.0,5.0,10.0,10.0,10.0,10.0,5.0,10.0,10.0,5.0,5.0,10.0,100.0,100.0,100.0,50.0,50.0,50.0,10.0,50.0,500.0,100.0,50.0,100.0,50.0,10.0,50.0,10.0,10.0,100.0,100.0,50.0,50.0,10.0,50.0,100.0,10.0,50.0,50.0,100.0,100.0,10.0,50.0,50.0,10.0,10.0,50.0,100.0,10.0,50.0,10.0,50.0,10.0,50.0,50.0,50.0,10.0,10.0,50.0,10.0,10.0,10.0,10.0,10.0,10.0,10.0,50.0,50.0,10.0,10.0,50.0,10.0,10.0,10.0,50.0,10.0,10.0,10.0,10.0,50.0,10.0,10.0,10.0,5.0,10.0,10.0,5.0,10.0,10.0,10.0,10.0,10.0,10.0,10.0,10.0,10.0,5.0,10.0,10.0,10.0,10.0,10.0,10.0,1.0,10.0,10.0,5.0,10.0,10.0,10.0,10.0,10.0,500.0,100.0,100.0,50.0,100.0,100.0,10.0,100.0,50.0,10.0,50.0,10.0,100.0,50.0,10.0,10.0,10.0,50.0,50.0,50.0,10.0,10.0,10.0,10.0,10.0,10.0,10.0,10.0,50.0,50.0,50.0,10.0,50.0,50.0,10.0,10.0,10.0,10.0,10.0,10.0,10.0,10.0,10.0,10.0,10.0,10.0,5.0,10.0,10.0,5.0,10.0,10.0,5.0,10.0,5.0,10.0,5.0,5.0,5.0,10.0,5.0,50.0,10.0,1.0,5.0,1.0,1.0,10.0,5.0,5.0,5.0,10.0,5.0,1.0,5.0,10.0,10.0,10.0,10.0,10.0,10.0,5.0,10.0,10.0,5.0,5.0,10.0,10.0,10.0,10.0,10.0,10.0,10.0,5.0,10.0,10.0,1.0,1.0,5.0,1.0,100.0,100.0,10.0,50.0,10.0,10.0,10.0,10.0,10.0,10.0,1.0,5.0,10.0,10.0,10.0,10.0,10.0,5.0,10.0,1.0,10.0,10.0,10.0,10.0,10.0,10.0,1.0,1.0,1.0,5.0,5.0,5.0,10.0,1.0,10.0,10.0,10.0,5.0,10.0,1.0,5.0,5.0,1.0,5.0,5.0,1.0,10.0,5.0,5.0,5.0,0.5,1.0,10.0,1.0,1.0,1.0,5.0,10.0,0.5,1.0,1.0,1.0,1.0,1.0,0.5,1.0,5.0,5.0,1.0,1.0,5.0,5.0,1.0,5.0,1.0,10.0,1.0,5.0,1.0,5.0,0.1,1.0,1.0,5.0,1.0,1.0,1.0,10.0,5.0,0.5,0.5,5.0,1.0,5.0,1.0,1.0,1.0,0.5,1.0,1.0,10.0,10.0,100.0,50.0,50.0,50.0,50.0,50.0,10.0,10.0,50.0,10.0,10.0,5.0,10.0,5.0,50.0,10.0,10.0,10.0,10.0,10.0,10.0,50.0,50.0,10.0,10.0,10.0,10.0,10.0,10.0,5.0,10.0,10.0,10.0,10.0,50.0,50.0,50.0,10.0,10.0,10.0,10.0,10.0,10.0,5.0,10.0,10.0,10.0,10.0,10.0,10.0,5.0,10.0,5.0,10.0,10.0,5.0,10.0,10.0,10.0,1.0,10.0,5.0,1.0,10.0,10.0,5.0,10.0,5.0,10.0,10.0,5.0,10.0,10.0,1.0,10.0,1.0,10.0,1.0,5.0,5.0,10.0,5.0,5.0,1.0,1.0,5.0,1.0,1.0,5.0,5.0,1.0,5.0,1.0,10.0,10.0,5.0,10.0,10.0,1.0,1.0,1.0,5.0,1.0,5.0],\"x0\":\" \",\"xaxis\":\"x\",\"y0\":\" \",\"yaxis\":\"y\"}],                        {\"boxmode\":\"group\",\"legend\":{\"tracegroupgap\":0},\"margin\":{\"t\":60},\"template\":{\"data\":{\"bar\":[{\"error_x\":{\"color\":\"#2a3f5f\"},\"error_y\":{\"color\":\"#2a3f5f\"},\"marker\":{\"line\":{\"color\":\"#E5ECF6\",\"width\":0.5},\"pattern\":{\"fillmode\":\"overlay\",\"size\":10,\"solidity\":0.2}},\"type\":\"bar\"}],\"barpolar\":[{\"marker\":{\"line\":{\"color\":\"#E5ECF6\",\"width\":0.5},\"pattern\":{\"fillmode\":\"overlay\",\"size\":10,\"solidity\":0.2}},\"type\":\"barpolar\"}],\"carpet\":[{\"aaxis\":{\"endlinecolor\":\"#2a3f5f\",\"gridcolor\":\"white\",\"linecolor\":\"white\",\"minorgridcolor\":\"white\",\"startlinecolor\":\"#2a3f5f\"},\"baxis\":{\"endlinecolor\":\"#2a3f5f\",\"gridcolor\":\"white\",\"linecolor\":\"white\",\"minorgridcolor\":\"white\",\"startlinecolor\":\"#2a3f5f\"},\"type\":\"carpet\"}],\"choropleth\":[{\"colorbar\":{\"outlinewidth\":0,\"ticks\":\"\"},\"type\":\"choropleth\"}],\"contour\":[{\"colorbar\":{\"outlinewidth\":0,\"ticks\":\"\"},\"colorscale\":[[0.0,\"#0d0887\"],[0.1111111111111111,\"#46039f\"],[0.2222222222222222,\"#7201a8\"],[0.3333333333333333,\"#9c179e\"],[0.4444444444444444,\"#bd3786\"],[0.5555555555555556,\"#d8576b\"],[0.6666666666666666,\"#ed7953\"],[0.7777777777777778,\"#fb9f3a\"],[0.8888888888888888,\"#fdca26\"],[1.0,\"#f0f921\"]],\"type\":\"contour\"}],\"contourcarpet\":[{\"colorbar\":{\"outlinewidth\":0,\"ticks\":\"\"},\"type\":\"contourcarpet\"}],\"heatmap\":[{\"colorbar\":{\"outlinewidth\":0,\"ticks\":\"\"},\"colorscale\":[[0.0,\"#0d0887\"],[0.1111111111111111,\"#46039f\"],[0.2222222222222222,\"#7201a8\"],[0.3333333333333333,\"#9c179e\"],[0.4444444444444444,\"#bd3786\"],[0.5555555555555556,\"#d8576b\"],[0.6666666666666666,\"#ed7953\"],[0.7777777777777778,\"#fb9f3a\"],[0.8888888888888888,\"#fdca26\"],[1.0,\"#f0f921\"]],\"type\":\"heatmap\"}],\"heatmapgl\":[{\"colorbar\":{\"outlinewidth\":0,\"ticks\":\"\"},\"colorscale\":[[0.0,\"#0d0887\"],[0.1111111111111111,\"#46039f\"],[0.2222222222222222,\"#7201a8\"],[0.3333333333333333,\"#9c179e\"],[0.4444444444444444,\"#bd3786\"],[0.5555555555555556,\"#d8576b\"],[0.6666666666666666,\"#ed7953\"],[0.7777777777777778,\"#fb9f3a\"],[0.8888888888888888,\"#fdca26\"],[1.0,\"#f0f921\"]],\"type\":\"heatmapgl\"}],\"histogram\":[{\"marker\":{\"pattern\":{\"fillmode\":\"overlay\",\"size\":10,\"solidity\":0.2}},\"type\":\"histogram\"}],\"histogram2d\":[{\"colorbar\":{\"outlinewidth\":0,\"ticks\":\"\"},\"colorscale\":[[0.0,\"#0d0887\"],[0.1111111111111111,\"#46039f\"],[0.2222222222222222,\"#7201a8\"],[0.3333333333333333,\"#9c179e\"],[0.4444444444444444,\"#bd3786\"],[0.5555555555555556,\"#d8576b\"],[0.6666666666666666,\"#ed7953\"],[0.7777777777777778,\"#fb9f3a\"],[0.8888888888888888,\"#fdca26\"],[1.0,\"#f0f921\"]],\"type\":\"histogram2d\"}],\"histogram2dcontour\":[{\"colorbar\":{\"outlinewidth\":0,\"ticks\":\"\"},\"colorscale\":[[0.0,\"#0d0887\"],[0.1111111111111111,\"#46039f\"],[0.2222222222222222,\"#7201a8\"],[0.3333333333333333,\"#9c179e\"],[0.4444444444444444,\"#bd3786\"],[0.5555555555555556,\"#d8576b\"],[0.6666666666666666,\"#ed7953\"],[0.7777777777777778,\"#fb9f3a\"],[0.8888888888888888,\"#fdca26\"],[1.0,\"#f0f921\"]],\"type\":\"histogram2dcontour\"}],\"mesh3d\":[{\"colorbar\":{\"outlinewidth\":0,\"ticks\":\"\"},\"type\":\"mesh3d\"}],\"parcoords\":[{\"line\":{\"colorbar\":{\"outlinewidth\":0,\"ticks\":\"\"}},\"type\":\"parcoords\"}],\"pie\":[{\"automargin\":true,\"type\":\"pie\"}],\"scatter\":[{\"marker\":{\"colorbar\":{\"outlinewidth\":0,\"ticks\":\"\"}},\"type\":\"scatter\"}],\"scatter3d\":[{\"line\":{\"colorbar\":{\"outlinewidth\":0,\"ticks\":\"\"}},\"marker\":{\"colorbar\":{\"outlinewidth\":0,\"ticks\":\"\"}},\"type\":\"scatter3d\"}],\"scattercarpet\":[{\"marker\":{\"colorbar\":{\"outlinewidth\":0,\"ticks\":\"\"}},\"type\":\"scattercarpet\"}],\"scattergeo\":[{\"marker\":{\"colorbar\":{\"outlinewidth\":0,\"ticks\":\"\"}},\"type\":\"scattergeo\"}],\"scattergl\":[{\"marker\":{\"colorbar\":{\"outlinewidth\":0,\"ticks\":\"\"}},\"type\":\"scattergl\"}],\"scattermapbox\":[{\"marker\":{\"colorbar\":{\"outlinewidth\":0,\"ticks\":\"\"}},\"type\":\"scattermapbox\"}],\"scatterpolar\":[{\"marker\":{\"colorbar\":{\"outlinewidth\":0,\"ticks\":\"\"}},\"type\":\"scatterpolar\"}],\"scatterpolargl\":[{\"marker\":{\"colorbar\":{\"outlinewidth\":0,\"ticks\":\"\"}},\"type\":\"scatterpolargl\"}],\"scatterternary\":[{\"marker\":{\"colorbar\":{\"outlinewidth\":0,\"ticks\":\"\"}},\"type\":\"scatterternary\"}],\"surface\":[{\"colorbar\":{\"outlinewidth\":0,\"ticks\":\"\"},\"colorscale\":[[0.0,\"#0d0887\"],[0.1111111111111111,\"#46039f\"],[0.2222222222222222,\"#7201a8\"],[0.3333333333333333,\"#9c179e\"],[0.4444444444444444,\"#bd3786\"],[0.5555555555555556,\"#d8576b\"],[0.6666666666666666,\"#ed7953\"],[0.7777777777777778,\"#fb9f3a\"],[0.8888888888888888,\"#fdca26\"],[1.0,\"#f0f921\"]],\"type\":\"surface\"}],\"table\":[{\"cells\":{\"fill\":{\"color\":\"#EBF0F8\"},\"line\":{\"color\":\"white\"}},\"header\":{\"fill\":{\"color\":\"#C8D4E3\"},\"line\":{\"color\":\"white\"}},\"type\":\"table\"}]},\"layout\":{\"annotationdefaults\":{\"arrowcolor\":\"#2a3f5f\",\"arrowhead\":0,\"arrowwidth\":1},\"autotypenumbers\":\"strict\",\"coloraxis\":{\"colorbar\":{\"outlinewidth\":0,\"ticks\":\"\"}},\"colorscale\":{\"diverging\":[[0,\"#8e0152\"],[0.1,\"#c51b7d\"],[0.2,\"#de77ae\"],[0.3,\"#f1b6da\"],[0.4,\"#fde0ef\"],[0.5,\"#f7f7f7\"],[0.6,\"#e6f5d0\"],[0.7,\"#b8e186\"],[0.8,\"#7fbc41\"],[0.9,\"#4d9221\"],[1,\"#276419\"]],\"sequential\":[[0.0,\"#0d0887\"],[0.1111111111111111,\"#46039f\"],[0.2222222222222222,\"#7201a8\"],[0.3333333333333333,\"#9c179e\"],[0.4444444444444444,\"#bd3786\"],[0.5555555555555556,\"#d8576b\"],[0.6666666666666666,\"#ed7953\"],[0.7777777777777778,\"#fb9f3a\"],[0.8888888888888888,\"#fdca26\"],[1.0,\"#f0f921\"]],\"sequentialminus\":[[0.0,\"#0d0887\"],[0.1111111111111111,\"#46039f\"],[0.2222222222222222,\"#7201a8\"],[0.3333333333333333,\"#9c179e\"],[0.4444444444444444,\"#bd3786\"],[0.5555555555555556,\"#d8576b\"],[0.6666666666666666,\"#ed7953\"],[0.7777777777777778,\"#fb9f3a\"],[0.8888888888888888,\"#fdca26\"],[1.0,\"#f0f921\"]]},\"colorway\":[\"#636efa\",\"#EF553B\",\"#00cc96\",\"#ab63fa\",\"#FFA15A\",\"#19d3f3\",\"#FF6692\",\"#B6E880\",\"#FF97FF\",\"#FECB52\"],\"font\":{\"color\":\"#2a3f5f\"},\"geo\":{\"bgcolor\":\"white\",\"lakecolor\":\"white\",\"landcolor\":\"#E5ECF6\",\"showlakes\":true,\"showland\":true,\"subunitcolor\":\"white\"},\"hoverlabel\":{\"align\":\"left\"},\"hovermode\":\"closest\",\"mapbox\":{\"style\":\"light\"},\"paper_bgcolor\":\"white\",\"plot_bgcolor\":\"#E5ECF6\",\"polar\":{\"angularaxis\":{\"gridcolor\":\"white\",\"linecolor\":\"white\",\"ticks\":\"\"},\"bgcolor\":\"#E5ECF6\",\"radialaxis\":{\"gridcolor\":\"white\",\"linecolor\":\"white\",\"ticks\":\"\"}},\"scene\":{\"xaxis\":{\"backgroundcolor\":\"#E5ECF6\",\"gridcolor\":\"white\",\"gridwidth\":2,\"linecolor\":\"white\",\"showbackground\":true,\"ticks\":\"\",\"zerolinecolor\":\"white\"},\"yaxis\":{\"backgroundcolor\":\"#E5ECF6\",\"gridcolor\":\"white\",\"gridwidth\":2,\"linecolor\":\"white\",\"showbackground\":true,\"ticks\":\"\",\"zerolinecolor\":\"white\"},\"zaxis\":{\"backgroundcolor\":\"#E5ECF6\",\"gridcolor\":\"white\",\"gridwidth\":2,\"linecolor\":\"white\",\"showbackground\":true,\"ticks\":\"\",\"zerolinecolor\":\"white\"}},\"shapedefaults\":{\"line\":{\"color\":\"#2a3f5f\"}},\"ternary\":{\"aaxis\":{\"gridcolor\":\"white\",\"linecolor\":\"white\",\"ticks\":\"\"},\"baxis\":{\"gridcolor\":\"white\",\"linecolor\":\"white\",\"ticks\":\"\"},\"bgcolor\":\"#E5ECF6\",\"caxis\":{\"gridcolor\":\"white\",\"linecolor\":\"white\",\"ticks\":\"\"}},\"title\":{\"x\":0.05},\"xaxis\":{\"automargin\":true,\"gridcolor\":\"white\",\"linecolor\":\"white\",\"ticks\":\"\",\"title\":{\"standoff\":15},\"zerolinecolor\":\"white\",\"zerolinewidth\":2},\"yaxis\":{\"automargin\":true,\"gridcolor\":\"white\",\"linecolor\":\"white\",\"ticks\":\"\",\"title\":{\"standoff\":15},\"zerolinecolor\":\"white\",\"zerolinewidth\":2}}},\"xaxis\":{\"anchor\":\"y\",\"domain\":[0.0,1.0],\"title\":{\"text\":\"installation_in_million\"}},\"yaxis\":{\"anchor\":\"x\",\"domain\":[0.0,1.0]}},                        {\"responsive\": true}                    ).then(function(){\n",
       "                            \n",
       "var gd = document.getElementById('65c65c7b-1a55-430b-ba42-04d5aee639e4');\n",
       "var x = new MutationObserver(function (mutations, observer) {{\n",
       "        var display = window.getComputedStyle(gd).display;\n",
       "        if (!display || display === 'none') {{\n",
       "            console.log([gd, 'removed!']);\n",
       "            Plotly.purge(gd);\n",
       "            observer.disconnect();\n",
       "        }}\n",
       "}});\n",
       "\n",
       "// Listen for the removal of the full notebook cells\n",
       "var notebookContainer = gd.closest('#notebook-container');\n",
       "if (notebookContainer) {{\n",
       "    x.observe(notebookContainer, {childList: true});\n",
       "}}\n",
       "\n",
       "// Listen for the clearing of the current output cell\n",
       "var outputEl = gd.closest('.output');\n",
       "if (outputEl) {{\n",
       "    x.observe(outputEl, {childList: true});\n",
       "}}\n",
       "\n",
       "                        })                };                });            </script>        </div>"
      ]
     },
     "metadata": {},
     "output_type": "display_data"
    }
   ],
   "source": [
    "fig = px.box(df, x= 'installation_in_million', hover_data = df[['title','category']])\n",
    "fig.update_traces(quartilemethod=\"inclusive\")\n",
    "fig.show()"
   ]
  },
  {
   "cell_type": "code",
   "execution_count": 63,
   "id": "b468249e",
   "metadata": {
    "execution": {
     "iopub.execute_input": "2021-07-17T21:46:13.074006Z",
     "iopub.status.busy": "2021-07-17T21:46:13.073399Z",
     "iopub.status.idle": "2021-07-17T21:46:13.080607Z",
     "shell.execute_reply": "2021-07-17T21:46:13.080169Z",
     "shell.execute_reply.started": "2021-07-17T21:42:23.147039Z"
    },
    "papermill": {
     "duration": 0.127681,
     "end_time": "2021-07-17T21:46:13.080717",
     "exception": false,
     "start_time": "2021-07-17T21:46:12.953036",
     "status": "completed"
    },
    "tags": []
   },
   "outputs": [
    {
     "data": {
      "text/plain": [
       "Free    99.595376\n",
       "Paid     0.404624\n",
       "Name: paid, dtype: float64"
      ]
     },
     "execution_count": 63,
     "metadata": {},
     "output_type": "execute_result"
    }
   ],
   "source": [
    "df['paid'].value_counts(normalize=True)*100"
   ]
  },
  {
   "cell_type": "code",
   "execution_count": 64,
   "id": "ffec6ef4",
   "metadata": {
    "execution": {
     "iopub.execute_input": "2021-07-17T21:46:13.254454Z",
     "iopub.status.busy": "2021-07-17T21:46:13.253745Z",
     "iopub.status.idle": "2021-07-17T21:46:13.258460Z",
     "shell.execute_reply": "2021-07-17T21:46:13.258084Z",
     "shell.execute_reply.started": "2021-07-17T21:42:36.313885Z"
    },
    "papermill": {
     "duration": 0.095542,
     "end_time": "2021-07-17T21:46:13.258556",
     "exception": false,
     "start_time": "2021-07-17T21:46:13.163014",
     "status": "completed"
    },
    "tags": []
   },
   "outputs": [
    {
     "data": {
      "text/plain": [
       "Free    1723\n",
       "Paid       7\n",
       "Name: paid, dtype: int64"
      ]
     },
     "execution_count": 64,
     "metadata": {},
     "output_type": "execute_result"
    }
   ],
   "source": [
    "values_paid = df.paid.value_counts()\n",
    "values_paid"
   ]
  },
  {
   "cell_type": "code",
   "execution_count": 65,
   "id": "c03a2f86",
   "metadata": {
    "execution": {
     "iopub.execute_input": "2021-07-17T21:46:13.429116Z",
     "iopub.status.busy": "2021-07-17T21:46:13.428634Z",
     "iopub.status.idle": "2021-07-17T21:46:13.431011Z",
     "shell.execute_reply": "2021-07-17T21:46:13.431433Z",
     "shell.execute_reply.started": "2021-07-17T21:42:45.219367Z"
    },
    "papermill": {
     "duration": 0.09036,
     "end_time": "2021-07-17T21:46:13.431545",
     "exception": false,
     "start_time": "2021-07-17T21:46:13.341185",
     "status": "completed"
    },
    "tags": []
   },
   "outputs": [
    {
     "data": {
      "text/plain": [
       "array([1723,    7])"
      ]
     },
     "execution_count": 65,
     "metadata": {},
     "output_type": "execute_result"
    }
   ],
   "source": [
    "x = values_paid.values\n",
    "x"
   ]
  },
  {
   "cell_type": "code",
   "execution_count": 66,
   "id": "4aed6e79",
   "metadata": {
    "execution": {
     "iopub.execute_input": "2021-07-17T21:46:13.615976Z",
     "iopub.status.busy": "2021-07-17T21:46:13.615500Z",
     "iopub.status.idle": "2021-07-17T21:46:13.619391Z",
     "shell.execute_reply": "2021-07-17T21:46:13.619809Z",
     "shell.execute_reply.started": "2021-07-17T21:42:55.630488Z"
    },
    "papermill": {
     "duration": 0.10026,
     "end_time": "2021-07-17T21:46:13.619948",
     "exception": false,
     "start_time": "2021-07-17T21:46:13.519688",
     "status": "completed"
    },
    "tags": []
   },
   "outputs": [
    {
     "data": {
      "text/plain": [
       "Index(['Free', 'Paid'], dtype='object')"
      ]
     },
     "execution_count": 66,
     "metadata": {},
     "output_type": "execute_result"
    }
   ],
   "source": [
    "y = values_paid.index\n",
    "y"
   ]
  },
  {
   "cell_type": "code",
   "execution_count": 67,
   "id": "bd45feb0",
   "metadata": {
    "execution": {
     "iopub.execute_input": "2021-07-17T21:46:13.789366Z",
     "iopub.status.busy": "2021-07-17T21:46:13.788932Z",
     "iopub.status.idle": "2021-07-17T21:46:13.881111Z",
     "shell.execute_reply": "2021-07-17T21:46:13.880542Z",
     "shell.execute_reply.started": "2021-07-17T21:43:03.107477Z"
    },
    "papermill": {
     "duration": 0.177567,
     "end_time": "2021-07-17T21:46:13.881255",
     "exception": false,
     "start_time": "2021-07-17T21:46:13.703688",
     "status": "completed"
    },
    "tags": []
   },
   "outputs": [
    {
     "data": {
      "image/png": "[encoded data removed]",
      "text/plain": [
       "<Figure size 648x432 with 1 Axes>"
      ]
     },
     "metadata": {},
     "output_type": "display_data"
    }
   ],
   "source": [
    "plt.figure(figsize=(9,6))\n",
    "plt.pie(x, labels = y, autopct='%1.1f%%')\n",
    "plt.show()"
   ]
  },
  {
   "cell_type": "code",
   "execution_count": 68,
   "id": "7bcc94e8",
   "metadata": {
    "execution": {
     "iopub.execute_input": "2021-07-17T21:46:14.132091Z",
     "iopub.status.busy": "2021-07-17T21:46:14.131467Z",
     "iopub.status.idle": "2021-07-17T21:46:14.178999Z",
     "shell.execute_reply": "2021-07-17T21:46:14.178478Z",
     "shell.execute_reply.started": "2021-07-17T21:43:22.110217Z"
    },
    "papermill": {
     "duration": 0.177385,
     "end_time": "2021-07-17T21:46:14.179126",
     "exception": false,
     "start_time": "2021-07-17T21:46:14.001741",
     "status": "completed"
    },
    "tags": []
   },
   "outputs": [
    {
     "data": {
      "text/html": [
       "<div>                            <div id=\"f98204d7-e9c4-437c-ad2e-6faf125d590a\" class=\"plotly-graph-div\" style=\"height:525px; width:100%;\"></div>            <script type=\"text/javascript\">                require([\"plotly\"], function(Plotly) {                    window.PLOTLYENV=window.PLOTLYENV || {};                                    if (document.getElementById(\"f98204d7-e9c4-437c-ad2e-6faf125d590a\")) {                    Plotly.newPlot(                        \"f98204d7-e9c4-437c-ad2e-6faf125d590a\",                        [{\"domain\":{\"x\":[0.0,1.0],\"y\":[0.0,1.0]},\"hovertemplate\":\"label=%{label}<br>value=%{value}<extra></extra>\",\"labels\":[\"Free\",\"Paid\"],\"legendgroup\":\"\",\"name\":\"\",\"showlegend\":true,\"textinfo\":\"percent+label\",\"textposition\":\"inside\",\"type\":\"pie\",\"values\":[1723,7]}],                        {\"legend\":{\"tracegroupgap\":0},\"template\":{\"data\":{\"bar\":[{\"error_x\":{\"color\":\"#2a3f5f\"},\"error_y\":{\"color\":\"#2a3f5f\"},\"marker\":{\"line\":{\"color\":\"#E5ECF6\",\"width\":0.5},\"pattern\":{\"fillmode\":\"overlay\",\"size\":10,\"solidity\":0.2}},\"type\":\"bar\"}],\"barpolar\":[{\"marker\":{\"line\":{\"color\":\"#E5ECF6\",\"width\":0.5},\"pattern\":{\"fillmode\":\"overlay\",\"size\":10,\"solidity\":0.2}},\"type\":\"barpolar\"}],\"carpet\":[{\"aaxis\":{\"endlinecolor\":\"#2a3f5f\",\"gridcolor\":\"white\",\"linecolor\":\"white\",\"minorgridcolor\":\"white\",\"startlinecolor\":\"#2a3f5f\"},\"baxis\":{\"endlinecolor\":\"#2a3f5f\",\"gridcolor\":\"white\",\"linecolor\":\"white\",\"minorgridcolor\":\"white\",\"startlinecolor\":\"#2a3f5f\"},\"type\":\"carpet\"}],\"choropleth\":[{\"colorbar\":{\"outlinewidth\":0,\"ticks\":\"\"},\"type\":\"choropleth\"}],\"contour\":[{\"colorbar\":{\"outlinewidth\":0,\"ticks\":\"\"},\"colorscale\":[[0.0,\"#0d0887\"],[0.1111111111111111,\"#46039f\"],[0.2222222222222222,\"#7201a8\"],[0.3333333333333333,\"#9c179e\"],[0.4444444444444444,\"#bd3786\"],[0.5555555555555556,\"#d8576b\"],[0.6666666666666666,\"#ed7953\"],[0.7777777777777778,\"#fb9f3a\"],[0.8888888888888888,\"#fdca26\"],[1.0,\"#f0f921\"]],\"type\":\"contour\"}],\"contourcarpet\":[{\"colorbar\":{\"outlinewidth\":0,\"ticks\":\"\"},\"type\":\"contourcarpet\"}],\"heatmap\":[{\"colorbar\":{\"outlinewidth\":0,\"ticks\":\"\"},\"colorscale\":[[0.0,\"#0d0887\"],[0.1111111111111111,\"#46039f\"],[0.2222222222222222,\"#7201a8\"],[0.3333333333333333,\"#9c179e\"],[0.4444444444444444,\"#bd3786\"],[0.5555555555555556,\"#d8576b\"],[0.6666666666666666,\"#ed7953\"],[0.7777777777777778,\"#fb9f3a\"],[0.8888888888888888,\"#fdca26\"],[1.0,\"#f0f921\"]],\"type\":\"heatmap\"}],\"heatmapgl\":[{\"colorbar\":{\"outlinewidth\":0,\"ticks\":\"\"},\"colorscale\":[[0.0,\"#0d0887\"],[0.1111111111111111,\"#46039f\"],[0.2222222222222222,\"#7201a8\"],[0.3333333333333333,\"#9c179e\"],[0.4444444444444444,\"#bd3786\"],[0.5555555555555556,\"#d8576b\"],[0.6666666666666666,\"#ed7953\"],[0.7777777777777778,\"#fb9f3a\"],[0.8888888888888888,\"#fdca26\"],[1.0,\"#f0f921\"]],\"type\":\"heatmapgl\"}],\"histogram\":[{\"marker\":{\"pattern\":{\"fillmode\":\"overlay\",\"size\":10,\"solidity\":0.2}},\"type\":\"histogram\"}],\"histogram2d\":[{\"colorbar\":{\"outlinewidth\":0,\"ticks\":\"\"},\"colorscale\":[[0.0,\"#0d0887\"],[0.1111111111111111,\"#46039f\"],[0.2222222222222222,\"#7201a8\"],[0.3333333333333333,\"#9c179e\"],[0.4444444444444444,\"#bd3786\"],[0.5555555555555556,\"#d8576b\"],[0.6666666666666666,\"#ed7953\"],[0.7777777777777778,\"#fb9f3a\"],[0.8888888888888888,\"#fdca26\"],[1.0,\"#f0f921\"]],\"type\":\"histogram2d\"}],\"histogram2dcontour\":[{\"colorbar\":{\"outlinewidth\":0,\"ticks\":\"\"},\"colorscale\":[[0.0,\"#0d0887\"],[0.1111111111111111,\"#46039f\"],[0.2222222222222222,\"#7201a8\"],[0.3333333333333333,\"#9c179e\"],[0.4444444444444444,\"#bd3786\"],[0.5555555555555556,\"#d8576b\"],[0.6666666666666666,\"#ed7953\"],[0.7777777777777778,\"#fb9f3a\"],[0.8888888888888888,\"#fdca26\"],[1.0,\"#f0f921\"]],\"type\":\"histogram2dcontour\"}],\"mesh3d\":[{\"colorbar\":{\"outlinewidth\":0,\"ticks\":\"\"},\"type\":\"mesh3d\"}],\"parcoords\":[{\"line\":{\"colorbar\":{\"outlinewidth\":0,\"ticks\":\"\"}},\"type\":\"parcoords\"}],\"pie\":[{\"automargin\":true,\"type\":\"pie\"}],\"scatter\":[{\"marker\":{\"colorbar\":{\"outlinewidth\":0,\"ticks\":\"\"}},\"type\":\"scatter\"}],\"scatter3d\":[{\"line\":{\"colorbar\":{\"outlinewidth\":0,\"ticks\":\"\"}},\"marker\":{\"colorbar\":{\"outlinewidth\":0,\"ticks\":\"\"}},\"type\":\"scatter3d\"}],\"scattercarpet\":[{\"marker\":{\"colorbar\":{\"outlinewidth\":0,\"ticks\":\"\"}},\"type\":\"scattercarpet\"}],\"scattergeo\":[{\"marker\":{\"colorbar\":{\"outlinewidth\":0,\"ticks\":\"\"}},\"type\":\"scattergeo\"}],\"scattergl\":[{\"marker\":{\"colorbar\":{\"outlinewidth\":0,\"ticks\":\"\"}},\"type\":\"scattergl\"}],\"scattermapbox\":[{\"marker\":{\"colorbar\":{\"outlinewidth\":0,\"ticks\":\"\"}},\"type\":\"scattermapbox\"}],\"scatterpolar\":[{\"marker\":{\"colorbar\":{\"outlinewidth\":0,\"ticks\":\"\"}},\"type\":\"scatterpolar\"}],\"scatterpolargl\":[{\"marker\":{\"colorbar\":{\"outlinewidth\":0,\"ticks\":\"\"}},\"type\":\"scatterpolargl\"}],\"scatterternary\":[{\"marker\":{\"colorbar\":{\"outlinewidth\":0,\"ticks\":\"\"}},\"type\":\"scatterternary\"}],\"surface\":[{\"colorbar\":{\"outlinewidth\":0,\"ticks\":\"\"},\"colorscale\":[[0.0,\"#0d0887\"],[0.1111111111111111,\"#46039f\"],[0.2222222222222222,\"#7201a8\"],[0.3333333333333333,\"#9c179e\"],[0.4444444444444444,\"#bd3786\"],[0.5555555555555556,\"#d8576b\"],[0.6666666666666666,\"#ed7953\"],[0.7777777777777778,\"#fb9f3a\"],[0.8888888888888888,\"#fdca26\"],[1.0,\"#f0f921\"]],\"type\":\"surface\"}],\"table\":[{\"cells\":{\"fill\":{\"color\":\"#EBF0F8\"},\"line\":{\"color\":\"white\"}},\"header\":{\"fill\":{\"color\":\"#C8D4E3\"},\"line\":{\"color\":\"white\"}},\"type\":\"table\"}]},\"layout\":{\"annotationdefaults\":{\"arrowcolor\":\"#2a3f5f\",\"arrowhead\":0,\"arrowwidth\":1},\"autotypenumbers\":\"strict\",\"coloraxis\":{\"colorbar\":{\"outlinewidth\":0,\"ticks\":\"\"}},\"colorscale\":{\"diverging\":[[0,\"#8e0152\"],[0.1,\"#c51b7d\"],[0.2,\"#de77ae\"],[0.3,\"#f1b6da\"],[0.4,\"#fde0ef\"],[0.5,\"#f7f7f7\"],[0.6,\"#e6f5d0\"],[0.7,\"#b8e186\"],[0.8,\"#7fbc41\"],[0.9,\"#4d9221\"],[1,\"#276419\"]],\"sequential\":[[0.0,\"#0d0887\"],[0.1111111111111111,\"#46039f\"],[0.2222222222222222,\"#7201a8\"],[0.3333333333333333,\"#9c179e\"],[0.4444444444444444,\"#bd3786\"],[0.5555555555555556,\"#d8576b\"],[0.6666666666666666,\"#ed7953\"],[0.7777777777777778,\"#fb9f3a\"],[0.8888888888888888,\"#fdca26\"],[1.0,\"#f0f921\"]],\"sequentialminus\":[[0.0,\"#0d0887\"],[0.1111111111111111,\"#46039f\"],[0.2222222222222222,\"#7201a8\"],[0.3333333333333333,\"#9c179e\"],[0.4444444444444444,\"#bd3786\"],[0.5555555555555556,\"#d8576b\"],[0.6666666666666666,\"#ed7953\"],[0.7777777777777778,\"#fb9f3a\"],[0.8888888888888888,\"#fdca26\"],[1.0,\"#f0f921\"]]},\"colorway\":[\"#636efa\",\"#EF553B\",\"#00cc96\",\"#ab63fa\",\"#FFA15A\",\"#19d3f3\",\"#FF6692\",\"#B6E880\",\"#FF97FF\",\"#FECB52\"],\"font\":{\"color\":\"#2a3f5f\"},\"geo\":{\"bgcolor\":\"white\",\"lakecolor\":\"white\",\"landcolor\":\"#E5ECF6\",\"showlakes\":true,\"showland\":true,\"subunitcolor\":\"white\"},\"hoverlabel\":{\"align\":\"left\"},\"hovermode\":\"closest\",\"mapbox\":{\"style\":\"light\"},\"paper_bgcolor\":\"white\",\"plot_bgcolor\":\"#E5ECF6\",\"polar\":{\"angularaxis\":{\"gridcolor\":\"white\",\"linecolor\":\"white\",\"ticks\":\"\"},\"bgcolor\":\"#E5ECF6\",\"radialaxis\":{\"gridcolor\":\"white\",\"linecolor\":\"white\",\"ticks\":\"\"}},\"scene\":{\"xaxis\":{\"backgroundcolor\":\"#E5ECF6\",\"gridcolor\":\"white\",\"gridwidth\":2,\"linecolor\":\"white\",\"showbackground\":true,\"ticks\":\"\",\"zerolinecolor\":\"white\"},\"yaxis\":{\"backgroundcolor\":\"#E5ECF6\",\"gridcolor\":\"white\",\"gridwidth\":2,\"linecolor\":\"white\",\"showbackground\":true,\"ticks\":\"\",\"zerolinecolor\":\"white\"},\"zaxis\":{\"backgroundcolor\":\"#E5ECF6\",\"gridcolor\":\"white\",\"gridwidth\":2,\"linecolor\":\"white\",\"showbackground\":true,\"ticks\":\"\",\"zerolinecolor\":\"white\"}},\"shapedefaults\":{\"line\":{\"color\":\"#2a3f5f\"}},\"ternary\":{\"aaxis\":{\"gridcolor\":\"white\",\"linecolor\":\"white\",\"ticks\":\"\"},\"baxis\":{\"gridcolor\":\"white\",\"linecolor\":\"white\",\"ticks\":\"\"},\"bgcolor\":\"#E5ECF6\",\"caxis\":{\"gridcolor\":\"white\",\"linecolor\":\"white\",\"ticks\":\"\"}},\"title\":{\"x\":0.05},\"xaxis\":{\"automargin\":true,\"gridcolor\":\"white\",\"linecolor\":\"white\",\"ticks\":\"\",\"title\":{\"standoff\":15},\"zerolinecolor\":\"white\",\"zerolinewidth\":2},\"yaxis\":{\"automargin\":true,\"gridcolor\":\"white\",\"linecolor\":\"white\",\"ticks\":\"\",\"title\":{\"standoff\":15},\"zerolinecolor\":\"white\",\"zerolinewidth\":2}}},\"title\":{\"text\":\"Paid & Free Games\"}},                        {\"responsive\": true}                    ).then(function(){\n",
       "                            \n",
       "var gd = document.getElementById('f98204d7-e9c4-437c-ad2e-6faf125d590a');\n",
       "var x = new MutationObserver(function (mutations, observer) {{\n",
       "        var display = window.getComputedStyle(gd).display;\n",
       "        if (!display || display === 'none') {{\n",
       "            console.log([gd, 'removed!']);\n",
       "            Plotly.purge(gd);\n",
       "            observer.disconnect();\n",
       "        }}\n",
       "}});\n",
       "\n",
       "// Listen for the removal of the full notebook cells\n",
       "var notebookContainer = gd.closest('#notebook-container');\n",
       "if (notebookContainer) {{\n",
       "    x.observe(notebookContainer, {childList: true});\n",
       "}}\n",
       "\n",
       "// Listen for the clearing of the current output cell\n",
       "var outputEl = gd.closest('.output');\n",
       "if (outputEl) {{\n",
       "    x.observe(outputEl, {childList: true});\n",
       "}}\n",
       "\n",
       "                        })                };                });            </script>        </div>"
      ]
     },
     "metadata": {},
     "output_type": "display_data"
    }
   ],
   "source": [
    "paid_free= df['paid'].value_counts()\n",
    "label =['Free','Paid']\n",
    "fig = px.pie(paid_free, values=df['paid'].value_counts().values, names=label,\n",
    "             title='Paid & Free Games')\n",
    "fig.update_traces(textposition='inside', textinfo='percent+label')\n",
    "fig.show()"
   ]
  },
  {
   "cell_type": "code",
   "execution_count": 69,
   "id": "e91d485e",
   "metadata": {
    "execution": {
     "iopub.execute_input": "2021-07-17T21:46:14.428422Z",
     "iopub.status.busy": "2021-07-17T21:46:14.427943Z",
     "iopub.status.idle": "2021-07-17T21:46:14.434515Z",
     "shell.execute_reply": "2021-07-17T21:46:14.434982Z",
     "shell.execute_reply.started": "2021-07-17T21:43:33.349766Z"
    },
    "papermill": {
     "duration": 0.133155,
     "end_time": "2021-07-17T21:46:14.435114",
     "exception": false,
     "start_time": "2021-07-17T21:46:14.301959",
     "status": "completed"
    },
    "tags": []
   },
   "outputs": [
    {
     "data": {
      "text/plain": [
       "category\n",
       "GAME ACTION          4.133757e+06\n",
       "GAME ADVENTURE       9.197175e+05\n",
       "GAME ARCADE          1.851670e+06\n",
       "GAME BOARD           4.708535e+05\n",
       "GAME CARD            3.217771e+05\n",
       "GAME CASINO          3.711927e+05\n",
       "GAME CASUAL          2.496518e+06\n",
       "GAME EDUCATIONAL     1.424358e+05\n",
       "GAME MUSIC           2.245122e+05\n",
       "GAME PUZZLE          9.839270e+05\n",
       "GAME RACING          1.363520e+06\n",
       "GAME ROLE PLAYING    7.446672e+05\n",
       "GAME SIMULATION      1.070020e+06\n",
       "GAME SPORTS          1.257016e+06\n",
       "GAME STRATEGY        1.834717e+06\n",
       "GAME TRIVIA          2.986044e+05\n",
       "GAME WORD            4.196336e+05\n",
       "Name: total ratings, dtype: float64"
      ]
     },
     "execution_count": 69,
     "metadata": {},
     "output_type": "execute_result"
    }
   ],
   "source": [
    "category_ratings = df.groupby('category')['total ratings'].mean()\n",
    "category_ratings"
   ]
  },
  {
   "cell_type": "code",
   "execution_count": 70,
   "id": "3682ea5f",
   "metadata": {
    "execution": {
     "iopub.execute_input": "2021-07-17T21:46:14.604971Z",
     "iopub.status.busy": "2021-07-17T21:46:14.604487Z",
     "iopub.status.idle": "2021-07-17T21:46:14.889058Z",
     "shell.execute_reply": "2021-07-17T21:46:14.889583Z",
     "shell.execute_reply.started": "2021-07-17T21:43:47.314282Z"
    },
    "papermill": {
     "duration": 0.371214,
     "end_time": "2021-07-17T21:46:14.889735",
     "exception": false,
     "start_time": "2021-07-17T21:46:14.518521",
     "status": "completed"
    },
    "tags": []
   },
   "outputs": [
    {
     "data": {
      "image/png": "[encoded data removed]",
      "text/plain": [
       "<Figure size 720x432 with 1 Axes>"
      ]
     },
     "metadata": {
      "needs_background": "light"
     },
     "output_type": "display_data"
    }
   ],
   "source": [
    "plot_order = df.groupby('category')['total ratings'].mean().sort_values(ascending=False).index.values\n",
    "# Barplot With Seaborn\n",
    "\n",
    "plt.figure(figsize=(10,6))\n",
    "sns.barplot(data = df, x = category_ratings.index, y = category_ratings.values, order=plot_order).set(xlabel=\"Game Categories\", ylabel='Total Ratings')\n",
    "plt.xticks(rotation = 60)\n",
    "plt.title('Game Categories by Total Ratings')\n",
    "plt.show();"
   ]
  },
  {
   "cell_type": "code",
   "execution_count": 71,
   "id": "278a29d0",
   "metadata": {
    "execution": {
     "iopub.execute_input": "2021-07-17T21:46:15.112949Z",
     "iopub.status.busy": "2021-07-17T21:46:15.112218Z",
     "iopub.status.idle": "2021-07-17T21:46:15.189115Z",
     "shell.execute_reply": "2021-07-17T21:46:15.188582Z",
     "shell.execute_reply.started": "2021-07-17T21:43:59.271703Z"
    },
    "papermill": {
     "duration": 0.174863,
     "end_time": "2021-07-17T21:46:15.189221",
     "exception": false,
     "start_time": "2021-07-17T21:46:15.014358",
     "status": "completed"
    },
    "tags": []
   },
   "outputs": [
    {
     "data": {
      "text/html": [
       "<div>                            <div id=\"0e7c1a1c-ad36-4b10-96af-7c7798dfbd52\" class=\"plotly-graph-div\" style=\"height:525px; width:100%;\"></div>            <script type=\"text/javascript\">                require([\"plotly\"], function(Plotly) {                    window.PLOTLYENV=window.PLOTLYENV || {};                                    if (document.getElementById(\"0e7c1a1c-ad36-4b10-96af-7c7798dfbd52\")) {                    Plotly.newPlot(                        \"0e7c1a1c-ad36-4b10-96af-7c7798dfbd52\",                        [{\"alignmentgroup\":\"True\",\"hovertemplate\":\"category=%{x}<br>Total Ratings=%{y}<extra></extra>\",\"legendgroup\":\"\",\"marker\":{\"color\":\"#636efa\",\"pattern\":{\"shape\":\"\"}},\"name\":\"\",\"offsetgroup\":\"\",\"orientation\":\"v\",\"showlegend\":false,\"textposition\":\"auto\",\"type\":\"bar\",\"x\":[\"GAME ACTION\",\"GAME ADVENTURE\",\"GAME ARCADE\",\"GAME BOARD\",\"GAME CARD\",\"GAME CASINO\",\"GAME CASUAL\",\"GAME EDUCATIONAL\",\"GAME MUSIC\",\"GAME PUZZLE\",\"GAME RACING\",\"GAME ROLE PLAYING\",\"GAME SIMULATION\",\"GAME SPORTS\",\"GAME STRATEGY\",\"GAME TRIVIA\",\"GAME WORD\"],\"xaxis\":\"x\",\"y\":[4133757.44,919717.48,1851670.28,470853.52,321777.1475409836,371192.68,2496518.0784313725,142435.83,224512.22,983926.99,1363520.25,744667.2,1070020.45,1257016.32,1834717.44,298604.38,419633.6037735849],\"yaxis\":\"y\"}],                        {\"barmode\":\"relative\",\"legend\":{\"tracegroupgap\":0},\"margin\":{\"t\":60},\"template\":{\"data\":{\"bar\":[{\"error_x\":{\"color\":\"#2a3f5f\"},\"error_y\":{\"color\":\"#2a3f5f\"},\"marker\":{\"line\":{\"color\":\"#E5ECF6\",\"width\":0.5},\"pattern\":{\"fillmode\":\"overlay\",\"size\":10,\"solidity\":0.2}},\"type\":\"bar\"}],\"barpolar\":[{\"marker\":{\"line\":{\"color\":\"#E5ECF6\",\"width\":0.5},\"pattern\":{\"fillmode\":\"overlay\",\"size\":10,\"solidity\":0.2}},\"type\":\"barpolar\"}],\"carpet\":[{\"aaxis\":{\"endlinecolor\":\"#2a3f5f\",\"gridcolor\":\"white\",\"linecolor\":\"white\",\"minorgridcolor\":\"white\",\"startlinecolor\":\"#2a3f5f\"},\"baxis\":{\"endlinecolor\":\"#2a3f5f\",\"gridcolor\":\"white\",\"linecolor\":\"white\",\"minorgridcolor\":\"white\",\"startlinecolor\":\"#2a3f5f\"},\"type\":\"carpet\"}],\"choropleth\":[{\"colorbar\":{\"outlinewidth\":0,\"ticks\":\"\"},\"type\":\"choropleth\"}],\"contour\":[{\"colorbar\":{\"outlinewidth\":0,\"ticks\":\"\"},\"colorscale\":[[0.0,\"#0d0887\"],[0.1111111111111111,\"#46039f\"],[0.2222222222222222,\"#7201a8\"],[0.3333333333333333,\"#9c179e\"],[0.4444444444444444,\"#bd3786\"],[0.5555555555555556,\"#d8576b\"],[0.6666666666666666,\"#ed7953\"],[0.7777777777777778,\"#fb9f3a\"],[0.8888888888888888,\"#fdca26\"],[1.0,\"#f0f921\"]],\"type\":\"contour\"}],\"contourcarpet\":[{\"colorbar\":{\"outlinewidth\":0,\"ticks\":\"\"},\"type\":\"contourcarpet\"}],\"heatmap\":[{\"colorbar\":{\"outlinewidth\":0,\"ticks\":\"\"},\"colorscale\":[[0.0,\"#0d0887\"],[0.1111111111111111,\"#46039f\"],[0.2222222222222222,\"#7201a8\"],[0.3333333333333333,\"#9c179e\"],[0.4444444444444444,\"#bd3786\"],[0.5555555555555556,\"#d8576b\"],[0.6666666666666666,\"#ed7953\"],[0.7777777777777778,\"#fb9f3a\"],[0.8888888888888888,\"#fdca26\"],[1.0,\"#f0f921\"]],\"type\":\"heatmap\"}],\"heatmapgl\":[{\"colorbar\":{\"outlinewidth\":0,\"ticks\":\"\"},\"colorscale\":[[0.0,\"#0d0887\"],[0.1111111111111111,\"#46039f\"],[0.2222222222222222,\"#7201a8\"],[0.3333333333333333,\"#9c179e\"],[0.4444444444444444,\"#bd3786\"],[0.5555555555555556,\"#d8576b\"],[0.6666666666666666,\"#ed7953\"],[0.7777777777777778,\"#fb9f3a\"],[0.8888888888888888,\"#fdca26\"],[1.0,\"#f0f921\"]],\"type\":\"heatmapgl\"}],\"histogram\":[{\"marker\":{\"pattern\":{\"fillmode\":\"overlay\",\"size\":10,\"solidity\":0.2}},\"type\":\"histogram\"}],\"histogram2d\":[{\"colorbar\":{\"outlinewidth\":0,\"ticks\":\"\"},\"colorscale\":[[0.0,\"#0d0887\"],[0.1111111111111111,\"#46039f\"],[0.2222222222222222,\"#7201a8\"],[0.3333333333333333,\"#9c179e\"],[0.4444444444444444,\"#bd3786\"],[0.5555555555555556,\"#d8576b\"],[0.6666666666666666,\"#ed7953\"],[0.7777777777777778,\"#fb9f3a\"],[0.8888888888888888,\"#fdca26\"],[1.0,\"#f0f921\"]],\"type\":\"histogram2d\"}],\"histogram2dcontour\":[{\"colorbar\":{\"outlinewidth\":0,\"ticks\":\"\"},\"colorscale\":[[0.0,\"#0d0887\"],[0.1111111111111111,\"#46039f\"],[0.2222222222222222,\"#7201a8\"],[0.3333333333333333,\"#9c179e\"],[0.4444444444444444,\"#bd3786\"],[0.5555555555555556,\"#d8576b\"],[0.6666666666666666,\"#ed7953\"],[0.7777777777777778,\"#fb9f3a\"],[0.8888888888888888,\"#fdca26\"],[1.0,\"#f0f921\"]],\"type\":\"histogram2dcontour\"}],\"mesh3d\":[{\"colorbar\":{\"outlinewidth\":0,\"ticks\":\"\"},\"type\":\"mesh3d\"}],\"parcoords\":[{\"line\":{\"colorbar\":{\"outlinewidth\":0,\"ticks\":\"\"}},\"type\":\"parcoords\"}],\"pie\":[{\"automargin\":true,\"type\":\"pie\"}],\"scatter\":[{\"marker\":{\"colorbar\":{\"outlinewidth\":0,\"ticks\":\"\"}},\"type\":\"scatter\"}],\"scatter3d\":[{\"line\":{\"colorbar\":{\"outlinewidth\":0,\"ticks\":\"\"}},\"marker\":{\"colorbar\":{\"outlinewidth\":0,\"ticks\":\"\"}},\"type\":\"scatter3d\"}],\"scattercarpet\":[{\"marker\":{\"colorbar\":{\"outlinewidth\":0,\"ticks\":\"\"}},\"type\":\"scattercarpet\"}],\"scattergeo\":[{\"marker\":{\"colorbar\":{\"outlinewidth\":0,\"ticks\":\"\"}},\"type\":\"scattergeo\"}],\"scattergl\":[{\"marker\":{\"colorbar\":{\"outlinewidth\":0,\"ticks\":\"\"}},\"type\":\"scattergl\"}],\"scattermapbox\":[{\"marker\":{\"colorbar\":{\"outlinewidth\":0,\"ticks\":\"\"}},\"type\":\"scattermapbox\"}],\"scatterpolar\":[{\"marker\":{\"colorbar\":{\"outlinewidth\":0,\"ticks\":\"\"}},\"type\":\"scatterpolar\"}],\"scatterpolargl\":[{\"marker\":{\"colorbar\":{\"outlinewidth\":0,\"ticks\":\"\"}},\"type\":\"scatterpolargl\"}],\"scatterternary\":[{\"marker\":{\"colorbar\":{\"outlinewidth\":0,\"ticks\":\"\"}},\"type\":\"scatterternary\"}],\"surface\":[{\"colorbar\":{\"outlinewidth\":0,\"ticks\":\"\"},\"colorscale\":[[0.0,\"#0d0887\"],[0.1111111111111111,\"#46039f\"],[0.2222222222222222,\"#7201a8\"],[0.3333333333333333,\"#9c179e\"],[0.4444444444444444,\"#bd3786\"],[0.5555555555555556,\"#d8576b\"],[0.6666666666666666,\"#ed7953\"],[0.7777777777777778,\"#fb9f3a\"],[0.8888888888888888,\"#fdca26\"],[1.0,\"#f0f921\"]],\"type\":\"surface\"}],\"table\":[{\"cells\":{\"fill\":{\"color\":\"#EBF0F8\"},\"line\":{\"color\":\"white\"}},\"header\":{\"fill\":{\"color\":\"#C8D4E3\"},\"line\":{\"color\":\"white\"}},\"type\":\"table\"}]},\"layout\":{\"annotationdefaults\":{\"arrowcolor\":\"#2a3f5f\",\"arrowhead\":0,\"arrowwidth\":1},\"autotypenumbers\":\"strict\",\"coloraxis\":{\"colorbar\":{\"outlinewidth\":0,\"ticks\":\"\"}},\"colorscale\":{\"diverging\":[[0,\"#8e0152\"],[0.1,\"#c51b7d\"],[0.2,\"#de77ae\"],[0.3,\"#f1b6da\"],[0.4,\"#fde0ef\"],[0.5,\"#f7f7f7\"],[0.6,\"#e6f5d0\"],[0.7,\"#b8e186\"],[0.8,\"#7fbc41\"],[0.9,\"#4d9221\"],[1,\"#276419\"]],\"sequential\":[[0.0,\"#0d0887\"],[0.1111111111111111,\"#46039f\"],[0.2222222222222222,\"#7201a8\"],[0.3333333333333333,\"#9c179e\"],[0.4444444444444444,\"#bd3786\"],[0.5555555555555556,\"#d8576b\"],[0.6666666666666666,\"#ed7953\"],[0.7777777777777778,\"#fb9f3a\"],[0.8888888888888888,\"#fdca26\"],[1.0,\"#f0f921\"]],\"sequentialminus\":[[0.0,\"#0d0887\"],[0.1111111111111111,\"#46039f\"],[0.2222222222222222,\"#7201a8\"],[0.3333333333333333,\"#9c179e\"],[0.4444444444444444,\"#bd3786\"],[0.5555555555555556,\"#d8576b\"],[0.6666666666666666,\"#ed7953\"],[0.7777777777777778,\"#fb9f3a\"],[0.8888888888888888,\"#fdca26\"],[1.0,\"#f0f921\"]]},\"colorway\":[\"#636efa\",\"#EF553B\",\"#00cc96\",\"#ab63fa\",\"#FFA15A\",\"#19d3f3\",\"#FF6692\",\"#B6E880\",\"#FF97FF\",\"#FECB52\"],\"font\":{\"color\":\"#2a3f5f\"},\"geo\":{\"bgcolor\":\"white\",\"lakecolor\":\"white\",\"landcolor\":\"#E5ECF6\",\"showlakes\":true,\"showland\":true,\"subunitcolor\":\"white\"},\"hoverlabel\":{\"align\":\"left\"},\"hovermode\":\"closest\",\"mapbox\":{\"style\":\"light\"},\"paper_bgcolor\":\"white\",\"plot_bgcolor\":\"#E5ECF6\",\"polar\":{\"angularaxis\":{\"gridcolor\":\"white\",\"linecolor\":\"white\",\"ticks\":\"\"},\"bgcolor\":\"#E5ECF6\",\"radialaxis\":{\"gridcolor\":\"white\",\"linecolor\":\"white\",\"ticks\":\"\"}},\"scene\":{\"xaxis\":{\"backgroundcolor\":\"#E5ECF6\",\"gridcolor\":\"white\",\"gridwidth\":2,\"linecolor\":\"white\",\"showbackground\":true,\"ticks\":\"\",\"zerolinecolor\":\"white\"},\"yaxis\":{\"backgroundcolor\":\"#E5ECF6\",\"gridcolor\":\"white\",\"gridwidth\":2,\"linecolor\":\"white\",\"showbackground\":true,\"ticks\":\"\",\"zerolinecolor\":\"white\"},\"zaxis\":{\"backgroundcolor\":\"#E5ECF6\",\"gridcolor\":\"white\",\"gridwidth\":2,\"linecolor\":\"white\",\"showbackground\":true,\"ticks\":\"\",\"zerolinecolor\":\"white\"}},\"shapedefaults\":{\"line\":{\"color\":\"#2a3f5f\"}},\"ternary\":{\"aaxis\":{\"gridcolor\":\"white\",\"linecolor\":\"white\",\"ticks\":\"\"},\"baxis\":{\"gridcolor\":\"white\",\"linecolor\":\"white\",\"ticks\":\"\"},\"bgcolor\":\"#E5ECF6\",\"caxis\":{\"gridcolor\":\"white\",\"linecolor\":\"white\",\"ticks\":\"\"}},\"title\":{\"x\":0.05},\"xaxis\":{\"automargin\":true,\"gridcolor\":\"white\",\"linecolor\":\"white\",\"ticks\":\"\",\"title\":{\"standoff\":15},\"zerolinecolor\":\"white\",\"zerolinewidth\":2},\"yaxis\":{\"automargin\":true,\"gridcolor\":\"white\",\"linecolor\":\"white\",\"ticks\":\"\",\"title\":{\"standoff\":15},\"zerolinecolor\":\"white\",\"zerolinewidth\":2}}},\"xaxis\":{\"anchor\":\"y\",\"categoryorder\":\"total descending\",\"domain\":[0.0,1.0],\"title\":{\"text\":\"category\"}},\"yaxis\":{\"anchor\":\"x\",\"domain\":[0.0,1.0],\"title\":{\"text\":\"Total Ratings\"}}},                        {\"responsive\": true}                    ).then(function(){\n",
       "                            \n",
       "var gd = document.getElementById('0e7c1a1c-ad36-4b10-96af-7c7798dfbd52');\n",
       "var x = new MutationObserver(function (mutations, observer) {{\n",
       "        var display = window.getComputedStyle(gd).display;\n",
       "        if (!display || display === 'none') {{\n",
       "            console.log([gd, 'removed!']);\n",
       "            Plotly.purge(gd);\n",
       "            observer.disconnect();\n",
       "        }}\n",
       "}});\n",
       "\n",
       "// Listen for the removal of the full notebook cells\n",
       "var notebookContainer = gd.closest('#notebook-container');\n",
       "if (notebookContainer) {{\n",
       "    x.observe(notebookContainer, {childList: true});\n",
       "}}\n",
       "\n",
       "// Listen for the clearing of the current output cell\n",
       "var outputEl = gd.closest('.output');\n",
       "if (outputEl) {{\n",
       "    x.observe(outputEl, {childList: true});\n",
       "}}\n",
       "\n",
       "                        })                };                });            </script>        </div>"
      ]
     },
     "metadata": {},
     "output_type": "display_data"
    }
   ],
   "source": [
    "fig = px.bar(category_ratings, x= category_ratings.index, y=category_ratings.values, labels={'x': 'Games Categories','y':'Total Ratings'})\n",
    "fig.update_layout(xaxis={'categoryorder':'total descending'})\n",
    "fig.show()"
   ]
  },
  {
   "cell_type": "code",
   "execution_count": 72,
   "id": "7e4c93ba",
   "metadata": {
    "execution": {
     "iopub.execute_input": "2021-07-17T21:46:15.367259Z",
     "iopub.status.busy": "2021-07-17T21:46:15.366404Z",
     "iopub.status.idle": "2021-07-17T21:46:15.375021Z",
     "shell.execute_reply": "2021-07-17T21:46:15.375372Z",
     "shell.execute_reply.started": "2021-07-17T21:44:10.618737Z"
    },
    "papermill": {
     "duration": 0.101136,
     "end_time": "2021-07-17T21:46:15.375520",
     "exception": false,
     "start_time": "2021-07-17T21:46:15.274384",
     "status": "completed"
    },
    "tags": []
   },
   "outputs": [
    {
     "data": {
      "text/plain": [
       "category\n",
       "GAME ARCADE          69.310000\n",
       "GAME CASUAL          67.127451\n",
       "GAME ACTION          66.500000\n",
       "GAME RACING          46.400000\n",
       "GAME PUZZLE          36.310000\n",
       "GAME SPORTS          34.910000\n",
       "GAME SIMULATION      28.710000\n",
       "GAME STRATEGY        23.920000\n",
       "GAME BOARD           20.380000\n",
       "GAME ADVENTURE       18.880000\n",
       "GAME EDUCATIONAL     15.955000\n",
       "GAME ROLE PLAYING    14.490000\n",
       "GAME WORD            13.066038\n",
       "GAME MUSIC           12.856000\n",
       "GAME CARD            11.483607\n",
       "GAME CASINO           7.885000\n",
       "GAME TRIVIA           7.041000\n",
       "Name: installation_in_million, dtype: float64"
      ]
     },
     "execution_count": 72,
     "metadata": {},
     "output_type": "execute_result"
    }
   ],
   "source": [
    "installation_by_category = df.groupby('category')['installation_in_million'].mean().sort_values(ascending =False)\n",
    "installation_by_category"
   ]
  },
  {
   "cell_type": "code",
   "execution_count": 73,
   "id": "75bc6545",
   "metadata": {
    "execution": {
     "iopub.execute_input": "2021-07-17T21:46:15.555788Z",
     "iopub.status.busy": "2021-07-17T21:46:15.555027Z",
     "iopub.status.idle": "2021-07-17T21:46:15.559847Z",
     "shell.execute_reply": "2021-07-17T21:46:15.559325Z",
     "shell.execute_reply.started": "2021-07-17T21:44:21.739978Z"
    },
    "papermill": {
     "duration": 0.096818,
     "end_time": "2021-07-17T21:46:15.560002",
     "exception": false,
     "start_time": "2021-07-17T21:46:15.463184",
     "status": "completed"
    },
    "tags": []
   },
   "outputs": [
    {
     "data": {
      "text/plain": [
       "Index(['GAME ARCADE', 'GAME CASUAL', 'GAME ACTION', 'GAME RACING',\n",
       "       'GAME PUZZLE', 'GAME SPORTS', 'GAME SIMULATION', 'GAME STRATEGY',\n",
       "       'GAME BOARD', 'GAME ADVENTURE', 'GAME EDUCATIONAL', 'GAME ROLE PLAYING',\n",
       "       'GAME WORD', 'GAME MUSIC', 'GAME CARD', 'GAME CASINO', 'GAME TRIVIA'],\n",
       "      dtype='object', name='category')"
      ]
     },
     "execution_count": 73,
     "metadata": {},
     "output_type": "execute_result"
    }
   ],
   "source": [
    "index1 = installation_by_category.index\n",
    "index1"
   ]
  },
  {
   "cell_type": "code",
   "execution_count": 74,
   "id": "442377cc",
   "metadata": {
    "execution": {
     "iopub.execute_input": "2021-07-17T21:46:15.815954Z",
     "iopub.status.busy": "2021-07-17T21:46:15.814694Z",
     "iopub.status.idle": "2021-07-17T21:46:15.818538Z",
     "shell.execute_reply": "2021-07-17T21:46:15.819025Z",
     "shell.execute_reply.started": "2021-07-17T21:44:41.533803Z"
    },
    "papermill": {
     "duration": 0.13436,
     "end_time": "2021-07-17T21:46:15.819193",
     "exception": false,
     "start_time": "2021-07-17T21:46:15.684833",
     "status": "completed"
    },
    "tags": []
   },
   "outputs": [
    {
     "data": {
      "text/plain": [
       "array([69.31      , 67.12745098, 66.5       , 46.4       , 36.31      ,\n",
       "       34.91      , 28.71      , 23.92      , 20.38      , 18.88      ,\n",
       "       15.955     , 14.49      , 13.06603774, 12.856     , 11.48360656,\n",
       "        7.885     ,  7.041     ])"
      ]
     },
     "execution_count": 74,
     "metadata": {},
     "output_type": "execute_result"
    }
   ],
   "source": [
    "value1 = installation_by_category.values\n",
    "value1"
   ]
  },
  {
   "cell_type": "code",
   "execution_count": 75,
   "id": "12a4ef49",
   "metadata": {
    "execution": {
     "iopub.execute_input": "2021-07-17T21:46:16.105072Z",
     "iopub.status.busy": "2021-07-17T21:46:16.104417Z",
     "iopub.status.idle": "2021-07-17T21:46:16.354928Z",
     "shell.execute_reply": "2021-07-17T21:46:16.355391Z",
     "shell.execute_reply.started": "2021-07-17T21:44:53.688842Z"
    },
    "papermill": {
     "duration": 0.411449,
     "end_time": "2021-07-17T21:46:16.355546",
     "exception": false,
     "start_time": "2021-07-17T21:46:15.944097",
     "status": "completed"
    },
    "tags": []
   },
   "outputs": [
    {
     "data": {
      "image/png": "[encoded data removed]",
      "text/plain": [
       "<Figure size 864x432 with 1 Axes>"
      ]
     },
     "metadata": {
      "needs_background": "light"
     },
     "output_type": "display_data"
    }
   ],
   "source": [
    "plt.figure(figsize=(12,6))\n",
    "sns.barplot(data = df, x = index1, y = value1).set(xlabel=\"Game Categories\", ylabel='Instalation in Million')\n",
    "plt.xticks(rotation = 60)\n",
    "plt.title('Game Categories by Installation')\n",
    "plt.show();"
   ]
  },
  {
   "cell_type": "code",
   "execution_count": 76,
   "id": "661ce568",
   "metadata": {
    "execution": {
     "iopub.execute_input": "2021-07-17T21:46:16.609151Z",
     "iopub.status.busy": "2021-07-17T21:46:16.608456Z",
     "iopub.status.idle": "2021-07-17T21:46:16.681720Z",
     "shell.execute_reply": "2021-07-17T21:46:16.681302Z",
     "shell.execute_reply.started": "2021-07-17T21:45:05.107613Z"
    },
    "papermill": {
     "duration": 0.200838,
     "end_time": "2021-07-17T21:46:16.681832",
     "exception": false,
     "start_time": "2021-07-17T21:46:16.480994",
     "status": "completed"
    },
    "tags": []
   },
   "outputs": [
    {
     "data": {
      "text/html": [
       "<div>                            <div id=\"27d1f041-af05-45b1-8235-aeb4ac315658\" class=\"plotly-graph-div\" style=\"height:525px; width:100%;\"></div>            <script type=\"text/javascript\">                require([\"plotly\"], function(Plotly) {                    window.PLOTLYENV=window.PLOTLYENV || {};                                    if (document.getElementById(\"27d1f041-af05-45b1-8235-aeb4ac315658\")) {                    Plotly.newPlot(                        \"27d1f041-af05-45b1-8235-aeb4ac315658\",                        [{\"alignmentgroup\":\"True\",\"hovertemplate\":\"category=%{x}<br>Install in Millions=%{y}<extra></extra>\",\"legendgroup\":\"\",\"marker\":{\"color\":\"#636efa\",\"pattern\":{\"shape\":\"\"}},\"name\":\"\",\"offsetgroup\":\"\",\"orientation\":\"v\",\"showlegend\":false,\"textposition\":\"auto\",\"type\":\"bar\",\"x\":[\"GAME ARCADE\",\"GAME CASUAL\",\"GAME ACTION\",\"GAME RACING\",\"GAME PUZZLE\",\"GAME SPORTS\",\"GAME SIMULATION\",\"GAME STRATEGY\",\"GAME BOARD\",\"GAME ADVENTURE\",\"GAME EDUCATIONAL\",\"GAME ROLE PLAYING\",\"GAME WORD\",\"GAME MUSIC\",\"GAME CARD\",\"GAME CASINO\",\"GAME TRIVIA\"],\"xaxis\":\"x\",\"y\":[69.31,67.12745098039215,66.5,46.4,36.31,34.91,28.71,23.92,20.38,18.88,15.955,14.49,13.066037735849056,12.856,11.48360655737705,7.885,7.041],\"yaxis\":\"y\"}],                        {\"barmode\":\"relative\",\"legend\":{\"tracegroupgap\":0},\"margin\":{\"t\":60},\"template\":{\"data\":{\"bar\":[{\"error_x\":{\"color\":\"#2a3f5f\"},\"error_y\":{\"color\":\"#2a3f5f\"},\"marker\":{\"line\":{\"color\":\"#E5ECF6\",\"width\":0.5},\"pattern\":{\"fillmode\":\"overlay\",\"size\":10,\"solidity\":0.2}},\"type\":\"bar\"}],\"barpolar\":[{\"marker\":{\"line\":{\"color\":\"#E5ECF6\",\"width\":0.5},\"pattern\":{\"fillmode\":\"overlay\",\"size\":10,\"solidity\":0.2}},\"type\":\"barpolar\"}],\"carpet\":[{\"aaxis\":{\"endlinecolor\":\"#2a3f5f\",\"gridcolor\":\"white\",\"linecolor\":\"white\",\"minorgridcolor\":\"white\",\"startlinecolor\":\"#2a3f5f\"},\"baxis\":{\"endlinecolor\":\"#2a3f5f\",\"gridcolor\":\"white\",\"linecolor\":\"white\",\"minorgridcolor\":\"white\",\"startlinecolor\":\"#2a3f5f\"},\"type\":\"carpet\"}],\"choropleth\":[{\"colorbar\":{\"outlinewidth\":0,\"ticks\":\"\"},\"type\":\"choropleth\"}],\"contour\":[{\"colorbar\":{\"outlinewidth\":0,\"ticks\":\"\"},\"colorscale\":[[0.0,\"#0d0887\"],[0.1111111111111111,\"#46039f\"],[0.2222222222222222,\"#7201a8\"],[0.3333333333333333,\"#9c179e\"],[0.4444444444444444,\"#bd3786\"],[0.5555555555555556,\"#d8576b\"],[0.6666666666666666,\"#ed7953\"],[0.7777777777777778,\"#fb9f3a\"],[0.8888888888888888,\"#fdca26\"],[1.0,\"#f0f921\"]],\"type\":\"contour\"}],\"contourcarpet\":[{\"colorbar\":{\"outlinewidth\":0,\"ticks\":\"\"},\"type\":\"contourcarpet\"}],\"heatmap\":[{\"colorbar\":{\"outlinewidth\":0,\"ticks\":\"\"},\"colorscale\":[[0.0,\"#0d0887\"],[0.1111111111111111,\"#46039f\"],[0.2222222222222222,\"#7201a8\"],[0.3333333333333333,\"#9c179e\"],[0.4444444444444444,\"#bd3786\"],[0.5555555555555556,\"#d8576b\"],[0.6666666666666666,\"#ed7953\"],[0.7777777777777778,\"#fb9f3a\"],[0.8888888888888888,\"#fdca26\"],[1.0,\"#f0f921\"]],\"type\":\"heatmap\"}],\"heatmapgl\":[{\"colorbar\":{\"outlinewidth\":0,\"ticks\":\"\"},\"colorscale\":[[0.0,\"#0d0887\"],[0.1111111111111111,\"#46039f\"],[0.2222222222222222,\"#7201a8\"],[0.3333333333333333,\"#9c179e\"],[0.4444444444444444,\"#bd3786\"],[0.5555555555555556,\"#d8576b\"],[0.6666666666666666,\"#ed7953\"],[0.7777777777777778,\"#fb9f3a\"],[0.8888888888888888,\"#fdca26\"],[1.0,\"#f0f921\"]],\"type\":\"heatmapgl\"}],\"histogram\":[{\"marker\":{\"pattern\":{\"fillmode\":\"overlay\",\"size\":10,\"solidity\":0.2}},\"type\":\"histogram\"}],\"histogram2d\":[{\"colorbar\":{\"outlinewidth\":0,\"ticks\":\"\"},\"colorscale\":[[0.0,\"#0d0887\"],[0.1111111111111111,\"#46039f\"],[0.2222222222222222,\"#7201a8\"],[0.3333333333333333,\"#9c179e\"],[0.4444444444444444,\"#bd3786\"],[0.5555555555555556,\"#d8576b\"],[0.6666666666666666,\"#ed7953\"],[0.7777777777777778,\"#fb9f3a\"],[0.8888888888888888,\"#fdca26\"],[1.0,\"#f0f921\"]],\"type\":\"histogram2d\"}],\"histogram2dcontour\":[{\"colorbar\":{\"outlinewidth\":0,\"ticks\":\"\"},\"colorscale\":[[0.0,\"#0d0887\"],[0.1111111111111111,\"#46039f\"],[0.2222222222222222,\"#7201a8\"],[0.3333333333333333,\"#9c179e\"],[0.4444444444444444,\"#bd3786\"],[0.5555555555555556,\"#d8576b\"],[0.6666666666666666,\"#ed7953\"],[0.7777777777777778,\"#fb9f3a\"],[0.8888888888888888,\"#fdca26\"],[1.0,\"#f0f921\"]],\"type\":\"histogram2dcontour\"}],\"mesh3d\":[{\"colorbar\":{\"outlinewidth\":0,\"ticks\":\"\"},\"type\":\"mesh3d\"}],\"parcoords\":[{\"line\":{\"colorbar\":{\"outlinewidth\":0,\"ticks\":\"\"}},\"type\":\"parcoords\"}],\"pie\":[{\"automargin\":true,\"type\":\"pie\"}],\"scatter\":[{\"marker\":{\"colorbar\":{\"outlinewidth\":0,\"ticks\":\"\"}},\"type\":\"scatter\"}],\"scatter3d\":[{\"line\":{\"colorbar\":{\"outlinewidth\":0,\"ticks\":\"\"}},\"marker\":{\"colorbar\":{\"outlinewidth\":0,\"ticks\":\"\"}},\"type\":\"scatter3d\"}],\"scattercarpet\":[{\"marker\":{\"colorbar\":{\"outlinewidth\":0,\"ticks\":\"\"}},\"type\":\"scattercarpet\"}],\"scattergeo\":[{\"marker\":{\"colorbar\":{\"outlinewidth\":0,\"ticks\":\"\"}},\"type\":\"scattergeo\"}],\"scattergl\":[{\"marker\":{\"colorbar\":{\"outlinewidth\":0,\"ticks\":\"\"}},\"type\":\"scattergl\"}],\"scattermapbox\":[{\"marker\":{\"colorbar\":{\"outlinewidth\":0,\"ticks\":\"\"}},\"type\":\"scattermapbox\"}],\"scatterpolar\":[{\"marker\":{\"colorbar\":{\"outlinewidth\":0,\"ticks\":\"\"}},\"type\":\"scatterpolar\"}],\"scatterpolargl\":[{\"marker\":{\"colorbar\":{\"outlinewidth\":0,\"ticks\":\"\"}},\"type\":\"scatterpolargl\"}],\"scatterternary\":[{\"marker\":{\"colorbar\":{\"outlinewidth\":0,\"ticks\":\"\"}},\"type\":\"scatterternary\"}],\"surface\":[{\"colorbar\":{\"outlinewidth\":0,\"ticks\":\"\"},\"colorscale\":[[0.0,\"#0d0887\"],[0.1111111111111111,\"#46039f\"],[0.2222222222222222,\"#7201a8\"],[0.3333333333333333,\"#9c179e\"],[0.4444444444444444,\"#bd3786\"],[0.5555555555555556,\"#d8576b\"],[0.6666666666666666,\"#ed7953\"],[0.7777777777777778,\"#fb9f3a\"],[0.8888888888888888,\"#fdca26\"],[1.0,\"#f0f921\"]],\"type\":\"surface\"}],\"table\":[{\"cells\":{\"fill\":{\"color\":\"#EBF0F8\"},\"line\":{\"color\":\"white\"}},\"header\":{\"fill\":{\"color\":\"#C8D4E3\"},\"line\":{\"color\":\"white\"}},\"type\":\"table\"}]},\"layout\":{\"annotationdefaults\":{\"arrowcolor\":\"#2a3f5f\",\"arrowhead\":0,\"arrowwidth\":1},\"autotypenumbers\":\"strict\",\"coloraxis\":{\"colorbar\":{\"outlinewidth\":0,\"ticks\":\"\"}},\"colorscale\":{\"diverging\":[[0,\"#8e0152\"],[0.1,\"#c51b7d\"],[0.2,\"#de77ae\"],[0.3,\"#f1b6da\"],[0.4,\"#fde0ef\"],[0.5,\"#f7f7f7\"],[0.6,\"#e6f5d0\"],[0.7,\"#b8e186\"],[0.8,\"#7fbc41\"],[0.9,\"#4d9221\"],[1,\"#276419\"]],\"sequential\":[[0.0,\"#0d0887\"],[0.1111111111111111,\"#46039f\"],[0.2222222222222222,\"#7201a8\"],[0.3333333333333333,\"#9c179e\"],[0.4444444444444444,\"#bd3786\"],[0.5555555555555556,\"#d8576b\"],[0.6666666666666666,\"#ed7953\"],[0.7777777777777778,\"#fb9f3a\"],[0.8888888888888888,\"#fdca26\"],[1.0,\"#f0f921\"]],\"sequentialminus\":[[0.0,\"#0d0887\"],[0.1111111111111111,\"#46039f\"],[0.2222222222222222,\"#7201a8\"],[0.3333333333333333,\"#9c179e\"],[0.4444444444444444,\"#bd3786\"],[0.5555555555555556,\"#d8576b\"],[0.6666666666666666,\"#ed7953\"],[0.7777777777777778,\"#fb9f3a\"],[0.8888888888888888,\"#fdca26\"],[1.0,\"#f0f921\"]]},\"colorway\":[\"#636efa\",\"#EF553B\",\"#00cc96\",\"#ab63fa\",\"#FFA15A\",\"#19d3f3\",\"#FF6692\",\"#B6E880\",\"#FF97FF\",\"#FECB52\"],\"font\":{\"color\":\"#2a3f5f\"},\"geo\":{\"bgcolor\":\"white\",\"lakecolor\":\"white\",\"landcolor\":\"#E5ECF6\",\"showlakes\":true,\"showland\":true,\"subunitcolor\":\"white\"},\"hoverlabel\":{\"align\":\"left\"},\"hovermode\":\"closest\",\"mapbox\":{\"style\":\"light\"},\"paper_bgcolor\":\"white\",\"plot_bgcolor\":\"#E5ECF6\",\"polar\":{\"angularaxis\":{\"gridcolor\":\"white\",\"linecolor\":\"white\",\"ticks\":\"\"},\"bgcolor\":\"#E5ECF6\",\"radialaxis\":{\"gridcolor\":\"white\",\"linecolor\":\"white\",\"ticks\":\"\"}},\"scene\":{\"xaxis\":{\"backgroundcolor\":\"#E5ECF6\",\"gridcolor\":\"white\",\"gridwidth\":2,\"linecolor\":\"white\",\"showbackground\":true,\"ticks\":\"\",\"zerolinecolor\":\"white\"},\"yaxis\":{\"backgroundcolor\":\"#E5ECF6\",\"gridcolor\":\"white\",\"gridwidth\":2,\"linecolor\":\"white\",\"showbackground\":true,\"ticks\":\"\",\"zerolinecolor\":\"white\"},\"zaxis\":{\"backgroundcolor\":\"#E5ECF6\",\"gridcolor\":\"white\",\"gridwidth\":2,\"linecolor\":\"white\",\"showbackground\":true,\"ticks\":\"\",\"zerolinecolor\":\"white\"}},\"shapedefaults\":{\"line\":{\"color\":\"#2a3f5f\"}},\"ternary\":{\"aaxis\":{\"gridcolor\":\"white\",\"linecolor\":\"white\",\"ticks\":\"\"},\"baxis\":{\"gridcolor\":\"white\",\"linecolor\":\"white\",\"ticks\":\"\"},\"bgcolor\":\"#E5ECF6\",\"caxis\":{\"gridcolor\":\"white\",\"linecolor\":\"white\",\"ticks\":\"\"}},\"title\":{\"x\":0.05},\"xaxis\":{\"automargin\":true,\"gridcolor\":\"white\",\"linecolor\":\"white\",\"ticks\":\"\",\"title\":{\"standoff\":15},\"zerolinecolor\":\"white\",\"zerolinewidth\":2},\"yaxis\":{\"automargin\":true,\"gridcolor\":\"white\",\"linecolor\":\"white\",\"ticks\":\"\",\"title\":{\"standoff\":15},\"zerolinecolor\":\"white\",\"zerolinewidth\":2}}},\"xaxis\":{\"anchor\":\"y\",\"categoryorder\":\"total descending\",\"domain\":[0.0,1.0],\"title\":{\"text\":\"category\"}},\"yaxis\":{\"anchor\":\"x\",\"domain\":[0.0,1.0],\"title\":{\"text\":\"Install in Millions\"}}},                        {\"responsive\": true}                    ).then(function(){\n",
       "                            \n",
       "var gd = document.getElementById('27d1f041-af05-45b1-8235-aeb4ac315658');\n",
       "var x = new MutationObserver(function (mutations, observer) {{\n",
       "        var display = window.getComputedStyle(gd).display;\n",
       "        if (!display || display === 'none') {{\n",
       "            console.log([gd, 'removed!']);\n",
       "            Plotly.purge(gd);\n",
       "            observer.disconnect();\n",
       "        }}\n",
       "}});\n",
       "\n",
       "// Listen for the removal of the full notebook cells\n",
       "var notebookContainer = gd.closest('#notebook-container');\n",
       "if (notebookContainer) {{\n",
       "    x.observe(notebookContainer, {childList: true});\n",
       "}}\n",
       "\n",
       "// Listen for the clearing of the current output cell\n",
       "var outputEl = gd.closest('.output');\n",
       "if (outputEl) {{\n",
       "    x.observe(outputEl, {childList: true});\n",
       "}}\n",
       "\n",
       "                        })                };                });            </script>        </div>"
      ]
     },
     "metadata": {},
     "output_type": "display_data"
    }
   ],
   "source": [
    "fig = px.bar(installation_by_category, x= index1, y=value1, labels={'x': 'Games Categories','y':'Install in Millions'})\n",
    "fig.update_layout(xaxis={'categoryorder':'total descending'})\n",
    "fig.show()"
   ]
  }
 ],
 "metadata": {
  "kernelspec": {
   "display_name": "Python 3",
   "language": "python",
   "name": "python3"
  },
  "language_info": {
   "codemirror_mode": {
    "name": "ipython",
    "version": 3
   },
   "file_extension": ".py",
   "mimetype": "text/x-python",
   "name": "python",
   "nbconvert_exporter": "python",
   "pygments_lexer": "ipython3",
   "version": "3.7.10"
  },
  "papermill": {
   "default_parameters": {},
   "duration": 36.521231,
   "end_time": "2021-07-17T21:46:17.580526",
   "environment_variables": {},
   "exception": null,
   "input_path": "__notebook__.ipynb",
   "output_path": "__notebook__.ipynb",
   "parameters": {},
   "start_time": "2021-07-17T21:45:41.059295",
   "version": "2.3.3"
  }
 },
 "nbformat": 4,
 "nbformat_minor": 5
}
