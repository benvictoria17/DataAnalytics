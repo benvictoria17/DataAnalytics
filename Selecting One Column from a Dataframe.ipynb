{
 "cells": [
  {
   "cell_type": "code",
   "execution_count": 1,
   "id": "f884b7bb",
   "metadata": {
    "execution": {
     "iopub.execute_input": "2022-02-01T04:11:34.739477Z",
     "iopub.status.busy": "2022-02-01T04:11:34.738600Z",
     "iopub.status.idle": "2022-02-01T04:11:34.748736Z",
     "shell.execute_reply": "2022-02-01T04:11:34.749194Z",
     "shell.execute_reply.started": "2022-02-01T04:06:46.247964Z"
    },
    "papermill": {
     "duration": 0.020838,
     "end_time": "2022-02-01T04:11:34.749424",
     "exception": false,
     "start_time": "2022-02-01T04:11:34.728586",
     "status": "completed"
    },
    "tags": []
   },
   "outputs": [],
   "source": [
    "import pandas as pd"
   ]
  },
  {
   "cell_type": "code",
   "execution_count": 2,
   "id": "ac711170",
   "metadata": {
    "execution": {
     "iopub.execute_input": "2022-02-01T04:11:34.767344Z",
     "iopub.status.busy": "2022-02-01T04:11:34.766649Z",
     "iopub.status.idle": "2022-02-01T04:11:35.106119Z",
     "shell.execute_reply": "2022-02-01T04:11:35.105469Z",
     "shell.execute_reply.started": "2022-02-01T04:07:16.784847Z"
    },
    "papermill": {
     "duration": 0.348938,
     "end_time": "2022-02-01T04:11:35.106234",
     "exception": false,
     "start_time": "2022-02-01T04:11:34.757296",
     "status": "completed"
    },
    "tags": []
   },
   "outputs": [],
   "source": [
    "df_exams = pd.read_csv(\"https://raw.githubusercontent.com/ifrankandrade/python-course-for-excel-users/main/2.Intro%20to%20Pandas/StudentsPerformance.csv\")"
   ]
  },
  {
   "cell_type": "code",
   "execution_count": 3,
   "id": "db0b532b",
   "metadata": {
    "execution": {
     "iopub.execute_input": "2022-02-01T04:11:35.120534Z",
     "iopub.status.busy": "2022-02-01T04:11:35.120087Z",
     "iopub.status.idle": "2022-02-01T04:11:35.135648Z",
     "shell.execute_reply": "2022-02-01T04:11:35.135256Z",
     "shell.execute_reply.started": "2022-02-01T04:08:21.547804Z"
    },
    "papermill": {
     "duration": 0.02351,
     "end_time": "2022-02-01T04:11:35.135753",
     "exception": false,
     "start_time": "2022-02-01T04:11:35.112243",
     "status": "completed"
    },
    "tags": []
   },
   "outputs": [
    {
     "data": {
      "text/plain": [
       "0      female\n",
       "1      female\n",
       "2      female\n",
       "3        male\n",
       "4        male\n",
       "        ...  \n",
       "995    female\n",
       "996      male\n",
       "997    female\n",
       "998    female\n",
       "999    female\n",
       "Name: gender, Length: 1000, dtype: object"
      ]
     },
     "execution_count": 3,
     "metadata": {},
     "output_type": "execute_result"
    }
   ],
   "source": [
    "df_exams[\"gender\"]"
   ]
  },
  {
   "cell_type": "code",
   "execution_count": 4,
   "id": "4e90e59c",
   "metadata": {
    "execution": {
     "iopub.execute_input": "2022-02-01T04:11:35.153103Z",
     "iopub.status.busy": "2022-02-01T04:11:35.152478Z",
     "iopub.status.idle": "2022-02-01T04:11:35.156078Z",
     "shell.execute_reply": "2022-02-01T04:11:35.155588Z",
     "shell.execute_reply.started": "2022-02-01T04:08:57.758813Z"
    },
    "papermill": {
     "duration": 0.014025,
     "end_time": "2022-02-01T04:11:35.156177",
     "exception": false,
     "start_time": "2022-02-01T04:11:35.142152",
     "status": "completed"
    },
    "tags": []
   },
   "outputs": [
    {
     "data": {
      "text/plain": [
       "pandas.core.series.Series"
      ]
     },
     "execution_count": 4,
     "metadata": {},
     "output_type": "execute_result"
    }
   ],
   "source": [
    "type(df_exams['gender'])"
   ]
  },
  {
   "cell_type": "code",
   "execution_count": 5,
   "id": "7a93e64f",
   "metadata": {
    "execution": {
     "iopub.execute_input": "2022-02-01T04:11:35.171547Z",
     "iopub.status.busy": "2022-02-01T04:11:35.171084Z",
     "iopub.status.idle": "2022-02-01T04:11:35.176251Z",
     "shell.execute_reply": "2022-02-01T04:11:35.176694Z",
     "shell.execute_reply.started": "2022-02-01T04:10:18.819322Z"
    },
    "papermill": {
     "duration": 0.014382,
     "end_time": "2022-02-01T04:11:35.176820",
     "exception": false,
     "start_time": "2022-02-01T04:11:35.162438",
     "status": "completed"
    },
    "tags": []
   },
   "outputs": [
    {
     "data": {
      "text/plain": [
       "pandas.core.series.Series"
      ]
     },
     "execution_count": 5,
     "metadata": {},
     "output_type": "execute_result"
    }
   ],
   "source": [
    "type(df_exams[\"gender\"])"
   ]
  },
  {
   "cell_type": "code",
   "execution_count": 6,
   "id": "fa9f0be5",
   "metadata": {
    "execution": {
     "iopub.execute_input": "2022-02-01T04:11:35.192722Z",
     "iopub.status.busy": "2022-02-01T04:11:35.192293Z",
     "iopub.status.idle": "2022-02-01T04:11:35.198164Z",
     "shell.execute_reply": "2022-02-01T04:11:35.198566Z",
     "shell.execute_reply.started": "2022-02-01T04:10:24.888117Z"
    },
    "papermill": {
     "duration": 0.015092,
     "end_time": "2022-02-01T04:11:35.198677",
     "exception": false,
     "start_time": "2022-02-01T04:11:35.183585",
     "status": "completed"
    },
    "tags": []
   },
   "outputs": [
    {
     "data": {
      "text/plain": [
       "0    female\n",
       "1    female\n",
       "2    female\n",
       "3      male\n",
       "4      male\n",
       "Name: gender, dtype: object"
      ]
     },
     "execution_count": 6,
     "metadata": {},
     "output_type": "execute_result"
    }
   ],
   "source": [
    "df_exams['gender'].index\n",
    "df_exams['gender'].head()"
   ]
  },
  {
   "cell_type": "code",
   "execution_count": 7,
   "id": "c2f55f91",
   "metadata": {
    "execution": {
     "iopub.execute_input": "2022-02-01T04:11:35.214764Z",
     "iopub.status.busy": "2022-02-01T04:11:35.214321Z",
     "iopub.status.idle": "2022-02-01T04:11:35.220230Z",
     "shell.execute_reply": "2022-02-01T04:11:35.220659Z",
     "shell.execute_reply.started": "2022-02-01T04:10:29.811156Z"
    },
    "papermill": {
     "duration": 0.015278,
     "end_time": "2022-02-01T04:11:35.220783",
     "exception": false,
     "start_time": "2022-02-01T04:11:35.205505",
     "status": "completed"
    },
    "tags": []
   },
   "outputs": [
    {
     "data": {
      "text/plain": [
       "0      female\n",
       "1      female\n",
       "2      female\n",
       "3        male\n",
       "4        male\n",
       "        ...  \n",
       "995    female\n",
       "996      male\n",
       "997    female\n",
       "998    female\n",
       "999    female\n",
       "Name: gender, Length: 1000, dtype: object"
      ]
     },
     "execution_count": 7,
     "metadata": {},
     "output_type": "execute_result"
    }
   ],
   "source": [
    "df_exams.gender"
   ]
  },
  {
   "cell_type": "code",
   "execution_count": 8,
   "id": "31e34709",
   "metadata": {
    "execution": {
     "iopub.execute_input": "2022-02-01T04:11:35.237499Z",
     "iopub.status.busy": "2022-02-01T04:11:35.237066Z",
     "iopub.status.idle": "2022-02-01T04:11:35.242557Z",
     "shell.execute_reply": "2022-02-01T04:11:35.242964Z",
     "shell.execute_reply.started": "2022-02-01T04:10:44.163054Z"
    },
    "papermill": {
     "duration": 0.015023,
     "end_time": "2022-02-01T04:11:35.243105",
     "exception": false,
     "start_time": "2022-02-01T04:11:35.228082",
     "status": "completed"
    },
    "tags": []
   },
   "outputs": [
    {
     "data": {
      "text/plain": [
       "0      72\n",
       "1      69\n",
       "2      90\n",
       "3      47\n",
       "4      76\n",
       "       ..\n",
       "995    88\n",
       "996    62\n",
       "997    59\n",
       "998    68\n",
       "999    77\n",
       "Name: math score, Length: 1000, dtype: int64"
      ]
     },
     "execution_count": 8,
     "metadata": {},
     "output_type": "execute_result"
    }
   ],
   "source": [
    "df_exams[\"math score\"]"
   ]
  }
 ],
 "metadata": {
  "kernelspec": {
   "display_name": "Python 3",
   "language": "python",
   "name": "python3"
  },
  "language_info": {
   "codemirror_mode": {
    "name": "ipython",
    "version": 3
   },
   "file_extension": ".py",
   "mimetype": "text/x-python",
   "name": "python",
   "nbconvert_exporter": "python",
   "pygments_lexer": "ipython3",
   "version": "3.7.12"
  },
  "papermill": {
   "default_parameters": {},
   "duration": 9.367923,
   "end_time": "2022-02-01T04:11:35.761092",
   "environment_variables": {},
   "exception": null,
   "input_path": "__notebook__.ipynb",
   "output_path": "__notebook__.ipynb",
   "parameters": {},
   "start_time": "2022-02-01T04:11:26.393169",
   "version": "2.3.3"
  }
 },
 "nbformat": 4,
 "nbformat_minor": 5
}
