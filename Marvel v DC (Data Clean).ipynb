{
 "cells": [
  {
   "cell_type": "code",
   "execution_count": 1,
   "id": "769cd93c",
   "metadata": {},
   "outputs": [],
   "source": [
    "import pandas as pd \n",
    "import numpy as np\n",
    "import seaborn as sns \n",
    "import matplotlib.pyplot as plt\n",
    "%matplotlib inline"
   ]
  },
  {
   "cell_type": "code",
   "execution_count": 2,
   "id": "8bacdb42",
   "metadata": {},
   "outputs": [],
   "source": [
    "marvel_dc = pd.read_csv('https://raw.githubusercontent.com/benvictoria17/DataAnalytics/master/dataset/Marvel%20VS%20DC%20IMDB%20Dataset/Marvel_DC_imdb.csv')"
   ]
  },
  {
   "cell_type": "code",
   "execution_count": 3,
   "id": "6cf6a392",
   "metadata": {},
   "outputs": [
    {
     "name": "stdout",
     "output_type": "stream",
     "text": [
      "<class 'pandas.core.frame.DataFrame'>\n",
      "RangeIndex: 1690 entries, 0 to 1689\n",
      "Data columns (total 14 columns):\n",
      " #   Column       Non-Null Count  Dtype  \n",
      "---  ------       --------------  -----  \n",
      " 0   Unnamed: 0   1690 non-null   int64  \n",
      " 1   Movie        1690 non-null   object \n",
      " 2   Year         1657 non-null   object \n",
      " 3   Genre        1683 non-null   object \n",
      " 4   RunTime      1407 non-null   object \n",
      " 5   Rating       1463 non-null   object \n",
      " 6   Director     1474 non-null   object \n",
      " 7   Actor        1660 non-null   object \n",
      " 8   Description  1690 non-null   object \n",
      " 9   IMDB_Score   1486 non-null   float64\n",
      " 10  Metascore    65 non-null     float64\n",
      " 11  Votes        1486 non-null   object \n",
      " 12  USA_Gross    64 non-null     object \n",
      " 13  Category     1690 non-null   object \n",
      "dtypes: float64(2), int64(1), object(11)\n",
      "memory usage: 185.0+ KB\n"
     ]
    }
   ],
   "source": [
    "marvel_dc.info()"
   ]
  },
  {
   "cell_type": "code",
   "execution_count": null,
   "id": "acff6658",
   "metadata": {},
   "outputs": [],
   "source": [
    "ma"
   ]
  }
 ],
 "metadata": {
  "kernelspec": {
   "display_name": "Python 3",
   "language": "python",
   "name": "python3"
  },
  "language_info": {
   "codemirror_mode": {
    "name": "ipython",
    "version": 3
   },
   "file_extension": ".py",
   "mimetype": "text/x-python",
   "name": "python",
   "nbconvert_exporter": "python",
   "pygments_lexer": "ipython3",
   "version": "3.9.5"
  }
 },
 "nbformat": 4,
 "nbformat_minor": 5
}
