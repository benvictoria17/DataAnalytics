{
 "cells": [
  {
   "cell_type": "code",
   "execution_count": 1,
   "id": "02093890",
   "metadata": {},
   "outputs": [],
   "source": [
    "import pandas as pd\n",
    "import numpy as np \n",
    "import matplotlib.pyplot as plt\n",
    "import seaborn as sns\n",
    "sns.set()\n",
    "from sklearn import preprocessing\n",
    "from sklearn.preprocessing import StandardScaler\n",
    "from sklearn.linear_model import LogisticRegression\n",
    "from sklearn.neighbors import KNeighborsClassifier\n",
    "from sklearn.ensemble import RandomForestClassifier\n",
    "from sklearn.metrics import confusion_matrix, accuracy_score\n",
    "from sklearn.decomposition import PCA\n",
    "from sklearn.feature_selection import f_regression\n",
    "from sklearn.model_selection import train_test_split, cross_val_score\n",
    "from sklearn.model_selection import RandomizedSearchCV, GridSearchCV\n",
    "from sklearn.metrics import confusion_matrix, classification_report\n",
    "from sklearn.metrics import precision_score, recall_score, f1_score\n",
    "from sklearn.metrics import plot_roc_curve\n",
    "import warnings \n",
    "warnings.filterwarnings(\"ignore\")"
   ]
  },
  {
   "cell_type": "code",
   "execution_count": 2,
   "id": "d137fdad",
   "metadata": {},
   "outputs": [
    {
     "data": {
      "text/html": [
       "<div>\n",
       "<style scoped>\n",
       "    .dataframe tbody tr th:only-of-type {\n",
       "        vertical-align: middle;\n",
       "    }\n",
       "\n",
       "    .dataframe tbody tr th {\n",
       "        vertical-align: top;\n",
       "    }\n",
       "\n",
       "    .dataframe thead th {\n",
       "        text-align: right;\n",
       "    }\n",
       "</style>\n",
       "<table border=\"1\" class=\"dataframe\">\n",
       "  <thead>\n",
       "    <tr style=\"text-align: right;\">\n",
       "      <th></th>\n",
       "      <th>encounter_id</th>\n",
       "      <th>patient_id</th>\n",
       "      <th>hospital_id</th>\n",
       "      <th>age</th>\n",
       "      <th>bmi</th>\n",
       "      <th>elective_surgery</th>\n",
       "      <th>ethnicity</th>\n",
       "      <th>gender</th>\n",
       "      <th>height</th>\n",
       "      <th>icu_admit_source</th>\n",
       "      <th>...</th>\n",
       "      <th>diabetes_mellitus</th>\n",
       "      <th>hepatic_failure</th>\n",
       "      <th>immunosuppression</th>\n",
       "      <th>leukemia</th>\n",
       "      <th>lymphoma</th>\n",
       "      <th>solid_tumor_with_metastasis</th>\n",
       "      <th>apache_3j_bodysystem</th>\n",
       "      <th>apache_2_bodysystem</th>\n",
       "      <th>Unnamed: 83</th>\n",
       "      <th>hospital_death</th>\n",
       "    </tr>\n",
       "  </thead>\n",
       "  <tbody>\n",
       "    <tr>\n",
       "      <th>0</th>\n",
       "      <td>66154</td>\n",
       "      <td>25312</td>\n",
       "      <td>118</td>\n",
       "      <td>68.0</td>\n",
       "      <td>22.73</td>\n",
       "      <td>0</td>\n",
       "      <td>Caucasian</td>\n",
       "      <td>M</td>\n",
       "      <td>180.3</td>\n",
       "      <td>Floor</td>\n",
       "      <td>...</td>\n",
       "      <td>1.0</td>\n",
       "      <td>0.0</td>\n",
       "      <td>0.0</td>\n",
       "      <td>0.0</td>\n",
       "      <td>0.0</td>\n",
       "      <td>0.0</td>\n",
       "      <td>Sepsis</td>\n",
       "      <td>Cardiovascular</td>\n",
       "      <td>NaN</td>\n",
       "      <td>0</td>\n",
       "    </tr>\n",
       "    <tr>\n",
       "      <th>1</th>\n",
       "      <td>114252</td>\n",
       "      <td>59342</td>\n",
       "      <td>81</td>\n",
       "      <td>77.0</td>\n",
       "      <td>27.42</td>\n",
       "      <td>0</td>\n",
       "      <td>Caucasian</td>\n",
       "      <td>F</td>\n",
       "      <td>160.0</td>\n",
       "      <td>Floor</td>\n",
       "      <td>...</td>\n",
       "      <td>1.0</td>\n",
       "      <td>0.0</td>\n",
       "      <td>0.0</td>\n",
       "      <td>0.0</td>\n",
       "      <td>0.0</td>\n",
       "      <td>0.0</td>\n",
       "      <td>Respiratory</td>\n",
       "      <td>Respiratory</td>\n",
       "      <td>NaN</td>\n",
       "      <td>0</td>\n",
       "    </tr>\n",
       "    <tr>\n",
       "      <th>2</th>\n",
       "      <td>119783</td>\n",
       "      <td>50777</td>\n",
       "      <td>118</td>\n",
       "      <td>25.0</td>\n",
       "      <td>31.95</td>\n",
       "      <td>0</td>\n",
       "      <td>Caucasian</td>\n",
       "      <td>F</td>\n",
       "      <td>172.7</td>\n",
       "      <td>Accident &amp; Emergency</td>\n",
       "      <td>...</td>\n",
       "      <td>0.0</td>\n",
       "      <td>0.0</td>\n",
       "      <td>0.0</td>\n",
       "      <td>0.0</td>\n",
       "      <td>0.0</td>\n",
       "      <td>0.0</td>\n",
       "      <td>Metabolic</td>\n",
       "      <td>Metabolic</td>\n",
       "      <td>NaN</td>\n",
       "      <td>0</td>\n",
       "    </tr>\n",
       "    <tr>\n",
       "      <th>3</th>\n",
       "      <td>79267</td>\n",
       "      <td>46918</td>\n",
       "      <td>118</td>\n",
       "      <td>81.0</td>\n",
       "      <td>22.64</td>\n",
       "      <td>1</td>\n",
       "      <td>Caucasian</td>\n",
       "      <td>F</td>\n",
       "      <td>165.1</td>\n",
       "      <td>Operating Room / Recovery</td>\n",
       "      <td>...</td>\n",
       "      <td>0.0</td>\n",
       "      <td>0.0</td>\n",
       "      <td>0.0</td>\n",
       "      <td>0.0</td>\n",
       "      <td>0.0</td>\n",
       "      <td>0.0</td>\n",
       "      <td>Cardiovascular</td>\n",
       "      <td>Cardiovascular</td>\n",
       "      <td>NaN</td>\n",
       "      <td>0</td>\n",
       "    </tr>\n",
       "    <tr>\n",
       "      <th>4</th>\n",
       "      <td>92056</td>\n",
       "      <td>34377</td>\n",
       "      <td>33</td>\n",
       "      <td>19.0</td>\n",
       "      <td>NaN</td>\n",
       "      <td>0</td>\n",
       "      <td>Caucasian</td>\n",
       "      <td>M</td>\n",
       "      <td>188.0</td>\n",
       "      <td>Accident &amp; Emergency</td>\n",
       "      <td>...</td>\n",
       "      <td>0.0</td>\n",
       "      <td>0.0</td>\n",
       "      <td>0.0</td>\n",
       "      <td>0.0</td>\n",
       "      <td>0.0</td>\n",
       "      <td>0.0</td>\n",
       "      <td>Trauma</td>\n",
       "      <td>Trauma</td>\n",
       "      <td>NaN</td>\n",
       "      <td>0</td>\n",
       "    </tr>\n",
       "  </tbody>\n",
       "</table>\n",
       "<p>5 rows × 85 columns</p>\n",
       "</div>"
      ],
      "text/plain": [
       "   encounter_id  patient_id  hospital_id   age    bmi  elective_surgery  \\\n",
       "0         66154       25312          118  68.0  22.73                 0   \n",
       "1        114252       59342           81  77.0  27.42                 0   \n",
       "2        119783       50777          118  25.0  31.95                 0   \n",
       "3         79267       46918          118  81.0  22.64                 1   \n",
       "4         92056       34377           33  19.0    NaN                 0   \n",
       "\n",
       "   ethnicity gender  height           icu_admit_source  ...  \\\n",
       "0  Caucasian      M   180.3                      Floor  ...   \n",
       "1  Caucasian      F   160.0                      Floor  ...   \n",
       "2  Caucasian      F   172.7       Accident & Emergency  ...   \n",
       "3  Caucasian      F   165.1  Operating Room / Recovery  ...   \n",
       "4  Caucasian      M   188.0       Accident & Emergency  ...   \n",
       "\n",
       "   diabetes_mellitus hepatic_failure immunosuppression  leukemia  lymphoma  \\\n",
       "0                1.0             0.0               0.0       0.0       0.0   \n",
       "1                1.0             0.0               0.0       0.0       0.0   \n",
       "2                0.0             0.0               0.0       0.0       0.0   \n",
       "3                0.0             0.0               0.0       0.0       0.0   \n",
       "4                0.0             0.0               0.0       0.0       0.0   \n",
       "\n",
       "   solid_tumor_with_metastasis  apache_3j_bodysystem  apache_2_bodysystem  \\\n",
       "0                          0.0                Sepsis       Cardiovascular   \n",
       "1                          0.0           Respiratory          Respiratory   \n",
       "2                          0.0             Metabolic            Metabolic   \n",
       "3                          0.0        Cardiovascular       Cardiovascular   \n",
       "4                          0.0                Trauma               Trauma   \n",
       "\n",
       "   Unnamed: 83  hospital_death  \n",
       "0          NaN               0  \n",
       "1          NaN               0  \n",
       "2          NaN               0  \n",
       "3          NaN               0  \n",
       "4          NaN               0  \n",
       "\n",
       "[5 rows x 85 columns]"
      ]
     },
     "execution_count": 2,
     "metadata": {},
     "output_type": "execute_result"
    }
   ],
   "source": [
    "df = pd.read_csv('dataset/PatientSurvival Prediction/dataset.csv')\n",
    "df.head()"
   ]
  },
  {
   "cell_type": "code",
   "execution_count": 3,
   "id": "9f64501b",
   "metadata": {},
   "outputs": [
    {
     "data": {
      "text/plain": [
       "array([0, 1])"
      ]
     },
     "execution_count": 3,
     "metadata": {},
     "output_type": "execute_result"
    }
   ],
   "source": [
    "df[\"hospital_death\"].unique()"
   ]
  },
  {
   "cell_type": "code",
   "execution_count": 4,
   "id": "d66372fe",
   "metadata": {},
   "outputs": [
    {
     "data": {
      "text/plain": [
       "array([nan])"
      ]
     },
     "execution_count": 4,
     "metadata": {},
     "output_type": "execute_result"
    }
   ],
   "source": [
    "df[\"Unnamed: 83\"].unique()"
   ]
  },
  {
   "cell_type": "code",
   "execution_count": 5,
   "id": "fcad2800",
   "metadata": {},
   "outputs": [],
   "source": [
    "df.drop(columns =[\"Unnamed: 83\"], axis = 1, inplace = True)"
   ]
  },
  {
   "cell_type": "code",
   "execution_count": 6,
   "id": "4294886b",
   "metadata": {},
   "outputs": [
    {
     "data": {
      "text/plain": [
       "encounter_id                      0\n",
       "patient_id                        0\n",
       "hospital_id                       0\n",
       "age                            4228\n",
       "bmi                            3429\n",
       "                               ... \n",
       "lymphoma                        715\n",
       "solid_tumor_with_metastasis     715\n",
       "apache_3j_bodysystem           1662\n",
       "apache_2_bodysystem            1662\n",
       "hospital_death                    0\n",
       "Length: 84, dtype: int64"
      ]
     },
     "execution_count": 6,
     "metadata": {},
     "output_type": "execute_result"
    }
   ],
   "source": [
    "df.isnull().sum()"
   ]
  },
  {
   "cell_type": "code",
   "execution_count": 7,
   "id": "058bb97c",
   "metadata": {},
   "outputs": [],
   "source": [
    "df.dropna(inplace=True)"
   ]
  },
  {
   "cell_type": "code",
   "execution_count": 8,
   "id": "d6ef9336",
   "metadata": {},
   "outputs": [
    {
     "name": "stdout",
     "output_type": "stream",
     "text": [
      "<class 'pandas.core.frame.DataFrame'>\n",
      "Int64Index: 56935 entries, 0 to 91712\n",
      "Data columns (total 84 columns):\n",
      " #   Column                         Non-Null Count  Dtype  \n",
      "---  ------                         --------------  -----  \n",
      " 0   encounter_id                   56935 non-null  int64  \n",
      " 1   patient_id                     56935 non-null  int64  \n",
      " 2   hospital_id                    56935 non-null  int64  \n",
      " 3   age                            56935 non-null  float64\n",
      " 4   bmi                            56935 non-null  float64\n",
      " 5   elective_surgery               56935 non-null  int64  \n",
      " 6   ethnicity                      56935 non-null  object \n",
      " 7   gender                         56935 non-null  object \n",
      " 8   height                         56935 non-null  float64\n",
      " 9   icu_admit_source               56935 non-null  object \n",
      " 10  icu_id                         56935 non-null  int64  \n",
      " 11  icu_stay_type                  56935 non-null  object \n",
      " 12  icu_type                       56935 non-null  object \n",
      " 13  pre_icu_los_days               56935 non-null  float64\n",
      " 14  weight                         56935 non-null  float64\n",
      " 15  apache_2_diagnosis             56935 non-null  float64\n",
      " 16  apache_3j_diagnosis            56935 non-null  float64\n",
      " 17  apache_post_operative          56935 non-null  int64  \n",
      " 18  arf_apache                     56935 non-null  float64\n",
      " 19  gcs_eyes_apache                56935 non-null  float64\n",
      " 20  gcs_motor_apache               56935 non-null  float64\n",
      " 21  gcs_unable_apache              56935 non-null  float64\n",
      " 22  gcs_verbal_apache              56935 non-null  float64\n",
      " 23  heart_rate_apache              56935 non-null  float64\n",
      " 24  intubated_apache               56935 non-null  float64\n",
      " 25  map_apache                     56935 non-null  float64\n",
      " 26  resprate_apache                56935 non-null  float64\n",
      " 27  temp_apache                    56935 non-null  float64\n",
      " 28  ventilated_apache              56935 non-null  float64\n",
      " 29  d1_diasbp_max                  56935 non-null  float64\n",
      " 30  d1_diasbp_min                  56935 non-null  float64\n",
      " 31  d1_diasbp_noninvasive_max      56935 non-null  float64\n",
      " 32  d1_diasbp_noninvasive_min      56935 non-null  float64\n",
      " 33  d1_heartrate_max               56935 non-null  float64\n",
      " 34  d1_heartrate_min               56935 non-null  float64\n",
      " 35  d1_mbp_max                     56935 non-null  float64\n",
      " 36  d1_mbp_min                     56935 non-null  float64\n",
      " 37  d1_mbp_noninvasive_max         56935 non-null  float64\n",
      " 38  d1_mbp_noninvasive_min         56935 non-null  float64\n",
      " 39  d1_resprate_max                56935 non-null  float64\n",
      " 40  d1_resprate_min                56935 non-null  float64\n",
      " 41  d1_spo2_max                    56935 non-null  float64\n",
      " 42  d1_spo2_min                    56935 non-null  float64\n",
      " 43  d1_sysbp_max                   56935 non-null  float64\n",
      " 44  d1_sysbp_min                   56935 non-null  float64\n",
      " 45  d1_sysbp_noninvasive_max       56935 non-null  float64\n",
      " 46  d1_sysbp_noninvasive_min       56935 non-null  float64\n",
      " 47  d1_temp_max                    56935 non-null  float64\n",
      " 48  d1_temp_min                    56935 non-null  float64\n",
      " 49  h1_diasbp_max                  56935 non-null  float64\n",
      " 50  h1_diasbp_min                  56935 non-null  float64\n",
      " 51  h1_diasbp_noninvasive_max      56935 non-null  float64\n",
      " 52  h1_diasbp_noninvasive_min      56935 non-null  float64\n",
      " 53  h1_heartrate_max               56935 non-null  float64\n",
      " 54  h1_heartrate_min               56935 non-null  float64\n",
      " 55  h1_mbp_max                     56935 non-null  float64\n",
      " 56  h1_mbp_min                     56935 non-null  float64\n",
      " 57  h1_mbp_noninvasive_max         56935 non-null  float64\n",
      " 58  h1_mbp_noninvasive_min         56935 non-null  float64\n",
      " 59  h1_resprate_max                56935 non-null  float64\n",
      " 60  h1_resprate_min                56935 non-null  float64\n",
      " 61  h1_spo2_max                    56935 non-null  float64\n",
      " 62  h1_spo2_min                    56935 non-null  float64\n",
      " 63  h1_sysbp_max                   56935 non-null  float64\n",
      " 64  h1_sysbp_min                   56935 non-null  float64\n",
      " 65  h1_sysbp_noninvasive_max       56935 non-null  float64\n",
      " 66  h1_sysbp_noninvasive_min       56935 non-null  float64\n",
      " 67  d1_glucose_max                 56935 non-null  float64\n",
      " 68  d1_glucose_min                 56935 non-null  float64\n",
      " 69  d1_potassium_max               56935 non-null  float64\n",
      " 70  d1_potassium_min               56935 non-null  float64\n",
      " 71  apache_4a_hospital_death_prob  56935 non-null  float64\n",
      " 72  apache_4a_icu_death_prob       56935 non-null  float64\n",
      " 73  aids                           56935 non-null  float64\n",
      " 74  cirrhosis                      56935 non-null  float64\n",
      " 75  diabetes_mellitus              56935 non-null  float64\n",
      " 76  hepatic_failure                56935 non-null  float64\n",
      " 77  immunosuppression              56935 non-null  float64\n",
      " 78  leukemia                       56935 non-null  float64\n",
      " 79  lymphoma                       56935 non-null  float64\n",
      " 80  solid_tumor_with_metastasis    56935 non-null  float64\n",
      " 81  apache_3j_bodysystem           56935 non-null  object \n",
      " 82  apache_2_bodysystem            56935 non-null  object \n",
      " 83  hospital_death                 56935 non-null  int64  \n",
      "dtypes: float64(70), int64(7), object(7)\n",
      "memory usage: 36.9+ MB\n"
     ]
    }
   ],
   "source": [
    "df.info()"
   ]
  },
  {
   "cell_type": "code",
   "execution_count": 9,
   "id": "784a68e8",
   "metadata": {},
   "outputs": [
    {
     "name": "stdout",
     "output_type": "stream",
     "text": [
      "Column Name: \t\t ethnicity\n",
      "Unique Values: \t\t ['Caucasian', 'Hispanic', 'African American', 'Asian', 'Native American', 'Other/Unknown']\n",
      "Length: \t\t 6\n",
      "Encoding Done Sucessfully :) \n",
      "\n",
      "Column Name: \t\t gender\n",
      "Unique Values: \t\t ['M', 'F']\n",
      "Length: \t\t 2\n",
      "Encoding Done Sucessfully :) \n",
      "\n",
      "Column Name: \t\t icu_admit_source\n",
      "Unique Values: \t\t ['Floor', 'Accident & Emergency', 'Operating Room / Recovery', 'Other Hospital', 'Other ICU']\n",
      "Length: \t\t 5\n",
      "Encoding Done Sucessfully :) \n",
      "\n",
      "Column Name: \t\t icu_stay_type\n",
      "Unique Values: \t\t ['admit', 'readmit', 'transfer']\n",
      "Length: \t\t 3\n",
      "Encoding Done Sucessfully :) \n",
      "\n",
      "Column Name: \t\t icu_type\n",
      "Unique Values: \t\t ['CTICU', 'Med-Surg ICU', 'Neuro ICU', 'MICU', 'CCU-CTICU', 'SICU', 'Cardiac ICU', 'CSICU']\n",
      "Length: \t\t 8\n",
      "Encoding Done Sucessfully :) \n",
      "\n",
      "Column Name: \t\t apache_3j_bodysystem\n",
      "Unique Values: \t\t ['Sepsis', 'Respiratory', 'Neurological', 'Cardiovascular', 'Gastrointestinal', 'Trauma', 'Metabolic', 'Hematological', 'Musculoskeletal/Skin', 'Genitourinary', 'Gynecological']\n",
      "Length: \t\t 11\n",
      "Encoding Done Sucessfully :) \n",
      "\n",
      "Column Name: \t\t apache_2_bodysystem\n",
      "Unique Values: \t\t ['Cardiovascular', 'Respiratory', 'Neurologic', 'Gastrointestinal', 'Trauma', 'Metabolic', 'Haematologic', 'Undefined diagnoses', 'Renal/Genitourinary', 'Undefined Diagnoses']\n",
      "Length: \t\t 10\n",
      "Encoding Done Sucessfully :) \n",
      "\n"
     ]
    }
   ],
   "source": [
    "le = preprocessing.LabelEncoder()\n",
    "\n",
    "for col in list(df.columns):\n",
    "    if df[col].dtype == object:\n",
    "        print(\"Column Name: \\t\\t\", col)\n",
    "        print(\"Unique Values: \\t\\t\", list(df[col].unique()) )\n",
    "        print(\"Length: \\t\\t\", len(df[col].unique()))\n",
    "        \n",
    "        choice = 1\n",
    "        \n",
    "        if choice == 1:\n",
    "            df[col]= le.fit_transform(df[col])\n",
    "            print(\"Encoding Done Sucessfully :) \")\n",
    "        else:\n",
    "            print(\"Encoding Rejected :( \")\n",
    "        print()"
   ]
  },
  {
   "cell_type": "code",
   "execution_count": 10,
   "id": "1d9b62ac",
   "metadata": {},
   "outputs": [
    {
     "data": {
      "text/html": [
       "<div>\n",
       "<style scoped>\n",
       "    .dataframe tbody tr th:only-of-type {\n",
       "        vertical-align: middle;\n",
       "    }\n",
       "\n",
       "    .dataframe tbody tr th {\n",
       "        vertical-align: top;\n",
       "    }\n",
       "\n",
       "    .dataframe thead th {\n",
       "        text-align: right;\n",
       "    }\n",
       "</style>\n",
       "<table border=\"1\" class=\"dataframe\">\n",
       "  <thead>\n",
       "    <tr style=\"text-align: right;\">\n",
       "      <th></th>\n",
       "      <th>encounter_id</th>\n",
       "      <th>patient_id</th>\n",
       "      <th>hospital_id</th>\n",
       "      <th>age</th>\n",
       "      <th>bmi</th>\n",
       "      <th>elective_surgery</th>\n",
       "      <th>ethnicity</th>\n",
       "      <th>gender</th>\n",
       "      <th>height</th>\n",
       "      <th>icu_admit_source</th>\n",
       "      <th>...</th>\n",
       "      <th>cirrhosis</th>\n",
       "      <th>diabetes_mellitus</th>\n",
       "      <th>hepatic_failure</th>\n",
       "      <th>immunosuppression</th>\n",
       "      <th>leukemia</th>\n",
       "      <th>lymphoma</th>\n",
       "      <th>solid_tumor_with_metastasis</th>\n",
       "      <th>apache_3j_bodysystem</th>\n",
       "      <th>apache_2_bodysystem</th>\n",
       "      <th>hospital_death</th>\n",
       "    </tr>\n",
       "  </thead>\n",
       "  <tbody>\n",
       "    <tr>\n",
       "      <th>0</th>\n",
       "      <td>66154</td>\n",
       "      <td>25312</td>\n",
       "      <td>118</td>\n",
       "      <td>68.0</td>\n",
       "      <td>22.730000</td>\n",
       "      <td>0</td>\n",
       "      <td>2</td>\n",
       "      <td>1</td>\n",
       "      <td>180.3</td>\n",
       "      <td>1</td>\n",
       "      <td>...</td>\n",
       "      <td>0.0</td>\n",
       "      <td>1.0</td>\n",
       "      <td>0.0</td>\n",
       "      <td>0.0</td>\n",
       "      <td>0.0</td>\n",
       "      <td>0.0</td>\n",
       "      <td>0.0</td>\n",
       "      <td>9</td>\n",
       "      <td>0</td>\n",
       "      <td>0</td>\n",
       "    </tr>\n",
       "    <tr>\n",
       "      <th>1</th>\n",
       "      <td>114252</td>\n",
       "      <td>59342</td>\n",
       "      <td>81</td>\n",
       "      <td>77.0</td>\n",
       "      <td>27.420000</td>\n",
       "      <td>0</td>\n",
       "      <td>2</td>\n",
       "      <td>0</td>\n",
       "      <td>160.0</td>\n",
       "      <td>1</td>\n",
       "      <td>...</td>\n",
       "      <td>0.0</td>\n",
       "      <td>1.0</td>\n",
       "      <td>0.0</td>\n",
       "      <td>0.0</td>\n",
       "      <td>0.0</td>\n",
       "      <td>0.0</td>\n",
       "      <td>0.0</td>\n",
       "      <td>8</td>\n",
       "      <td>6</td>\n",
       "      <td>0</td>\n",
       "    </tr>\n",
       "    <tr>\n",
       "      <th>5</th>\n",
       "      <td>33181</td>\n",
       "      <td>74489</td>\n",
       "      <td>83</td>\n",
       "      <td>67.0</td>\n",
       "      <td>27.560000</td>\n",
       "      <td>0</td>\n",
       "      <td>2</td>\n",
       "      <td>1</td>\n",
       "      <td>190.5</td>\n",
       "      <td>0</td>\n",
       "      <td>...</td>\n",
       "      <td>0.0</td>\n",
       "      <td>1.0</td>\n",
       "      <td>0.0</td>\n",
       "      <td>0.0</td>\n",
       "      <td>0.0</td>\n",
       "      <td>0.0</td>\n",
       "      <td>0.0</td>\n",
       "      <td>7</td>\n",
       "      <td>4</td>\n",
       "      <td>0</td>\n",
       "    </tr>\n",
       "    <tr>\n",
       "      <th>10</th>\n",
       "      <td>105427</td>\n",
       "      <td>125898</td>\n",
       "      <td>77</td>\n",
       "      <td>72.0</td>\n",
       "      <td>28.257052</td>\n",
       "      <td>1</td>\n",
       "      <td>3</td>\n",
       "      <td>0</td>\n",
       "      <td>154.9</td>\n",
       "      <td>2</td>\n",
       "      <td>...</td>\n",
       "      <td>0.0</td>\n",
       "      <td>0.0</td>\n",
       "      <td>0.0</td>\n",
       "      <td>1.0</td>\n",
       "      <td>0.0</td>\n",
       "      <td>0.0</td>\n",
       "      <td>0.0</td>\n",
       "      <td>8</td>\n",
       "      <td>6</td>\n",
       "      <td>0</td>\n",
       "    </tr>\n",
       "    <tr>\n",
       "      <th>17</th>\n",
       "      <td>22471</td>\n",
       "      <td>112115</td>\n",
       "      <td>118</td>\n",
       "      <td>46.0</td>\n",
       "      <td>25.845717</td>\n",
       "      <td>0</td>\n",
       "      <td>3</td>\n",
       "      <td>1</td>\n",
       "      <td>167.6</td>\n",
       "      <td>0</td>\n",
       "      <td>...</td>\n",
       "      <td>0.0</td>\n",
       "      <td>0.0</td>\n",
       "      <td>0.0</td>\n",
       "      <td>0.0</td>\n",
       "      <td>0.0</td>\n",
       "      <td>0.0</td>\n",
       "      <td>0.0</td>\n",
       "      <td>8</td>\n",
       "      <td>6</td>\n",
       "      <td>0</td>\n",
       "    </tr>\n",
       "  </tbody>\n",
       "</table>\n",
       "<p>5 rows × 84 columns</p>\n",
       "</div>"
      ],
      "text/plain": [
       "    encounter_id  patient_id  hospital_id   age        bmi  elective_surgery  \\\n",
       "0          66154       25312          118  68.0  22.730000                 0   \n",
       "1         114252       59342           81  77.0  27.420000                 0   \n",
       "5          33181       74489           83  67.0  27.560000                 0   \n",
       "10        105427      125898           77  72.0  28.257052                 1   \n",
       "17         22471      112115          118  46.0  25.845717                 0   \n",
       "\n",
       "    ethnicity  gender  height  icu_admit_source  ...  cirrhosis  \\\n",
       "0           2       1   180.3                 1  ...        0.0   \n",
       "1           2       0   160.0                 1  ...        0.0   \n",
       "5           2       1   190.5                 0  ...        0.0   \n",
       "10          3       0   154.9                 2  ...        0.0   \n",
       "17          3       1   167.6                 0  ...        0.0   \n",
       "\n",
       "    diabetes_mellitus  hepatic_failure  immunosuppression  leukemia  lymphoma  \\\n",
       "0                 1.0              0.0                0.0       0.0       0.0   \n",
       "1                 1.0              0.0                0.0       0.0       0.0   \n",
       "5                 1.0              0.0                0.0       0.0       0.0   \n",
       "10                0.0              0.0                1.0       0.0       0.0   \n",
       "17                0.0              0.0                0.0       0.0       0.0   \n",
       "\n",
       "    solid_tumor_with_metastasis  apache_3j_bodysystem  apache_2_bodysystem  \\\n",
       "0                           0.0                     9                    0   \n",
       "1                           0.0                     8                    6   \n",
       "5                           0.0                     7                    4   \n",
       "10                          0.0                     8                    6   \n",
       "17                          0.0                     8                    6   \n",
       "\n",
       "    hospital_death  \n",
       "0                0  \n",
       "1                0  \n",
       "5                0  \n",
       "10               0  \n",
       "17               0  \n",
       "\n",
       "[5 rows x 84 columns]"
      ]
     },
     "execution_count": 10,
     "metadata": {},
     "output_type": "execute_result"
    }
   ],
   "source": [
    "df.head()"
   ]
  },
  {
   "cell_type": "code",
   "execution_count": 11,
   "id": "a46cdc35",
   "metadata": {},
   "outputs": [
    {
     "data": {
      "text/plain": [
       "56935"
      ]
     },
     "execution_count": 11,
     "metadata": {},
     "output_type": "execute_result"
    }
   ],
   "source": [
    "len(df)"
   ]
  },
  {
   "cell_type": "code",
   "execution_count": 12,
   "id": "e8c826b7",
   "metadata": {},
   "outputs": [
    {
     "data": {
      "text/plain": [
       "{'encounter_id': 0.521,\n",
       " 'patient_id': 0.215,\n",
       " 'hospital_id': 0.735,\n",
       " 'age': 0.0,\n",
       " 'bmi': 0.0,\n",
       " 'elective_surgery': 0.0,\n",
       " 'ethnicity': 0.214,\n",
       " 'gender': 0.763,\n",
       " 'height': 0.01,\n",
       " 'icu_admit_source': 0.002,\n",
       " 'icu_id': 0.005,\n",
       " 'icu_stay_type': 0.281,\n",
       " 'icu_type': 0.469,\n",
       " 'pre_icu_los_days': 0.0,\n",
       " 'weight': 0.0,\n",
       " 'apache_2_diagnosis': 0.0,\n",
       " 'apache_3j_diagnosis': 0.0,\n",
       " 'apache_post_operative': 0.0,\n",
       " 'arf_apache': 0.0,\n",
       " 'gcs_eyes_apache': 0.0,\n",
       " 'gcs_motor_apache': 0.0,\n",
       " 'gcs_unable_apache': nan,\n",
       " 'gcs_verbal_apache': 0.0,\n",
       " 'heart_rate_apache': 0.0,\n",
       " 'intubated_apache': 0.0,\n",
       " 'map_apache': 0.0,\n",
       " 'resprate_apache': 0.0,\n",
       " 'temp_apache': 0.0,\n",
       " 'ventilated_apache': 0.0,\n",
       " 'd1_diasbp_max': 0.004,\n",
       " 'd1_diasbp_min': 0.0,\n",
       " 'd1_diasbp_noninvasive_max': 0.004,\n",
       " 'd1_diasbp_noninvasive_min': 0.0,\n",
       " 'd1_heartrate_max': 0.0,\n",
       " 'd1_heartrate_min': 0.025,\n",
       " 'd1_mbp_max': 0.272,\n",
       " 'd1_mbp_min': 0.0,\n",
       " 'd1_mbp_noninvasive_max': 0.198,\n",
       " 'd1_mbp_noninvasive_min': 0.0,\n",
       " 'd1_resprate_max': 0.0,\n",
       " 'd1_resprate_min': 0.0,\n",
       " 'd1_spo2_max': 0.002,\n",
       " 'd1_spo2_min': 0.0,\n",
       " 'd1_sysbp_max': 0.0,\n",
       " 'd1_sysbp_min': 0.0,\n",
       " 'd1_sysbp_noninvasive_max': 0.0,\n",
       " 'd1_sysbp_noninvasive_min': 0.0,\n",
       " 'd1_temp_max': 0.0,\n",
       " 'd1_temp_min': 0.0,\n",
       " 'h1_diasbp_max': 0.0,\n",
       " 'h1_diasbp_min': 0.0,\n",
       " 'h1_diasbp_noninvasive_max': 0.0,\n",
       " 'h1_diasbp_noninvasive_min': 0.0,\n",
       " 'h1_heartrate_max': 0.0,\n",
       " 'h1_heartrate_min': 0.0,\n",
       " 'h1_mbp_max': 0.0,\n",
       " 'h1_mbp_min': 0.0,\n",
       " 'h1_mbp_noninvasive_max': 0.0,\n",
       " 'h1_mbp_noninvasive_min': 0.0,\n",
       " 'h1_resprate_max': 0.0,\n",
       " 'h1_resprate_min': 0.0,\n",
       " 'h1_spo2_max': 0.0,\n",
       " 'h1_spo2_min': 0.0,\n",
       " 'h1_sysbp_max': 0.0,\n",
       " 'h1_sysbp_min': 0.0,\n",
       " 'h1_sysbp_noninvasive_max': 0.0,\n",
       " 'h1_sysbp_noninvasive_min': 0.0,\n",
       " 'd1_glucose_max': 0.0,\n",
       " 'd1_glucose_min': 0.0,\n",
       " 'd1_potassium_max': 0.0,\n",
       " 'd1_potassium_min': 0.0,\n",
       " 'apache_4a_hospital_death_prob': 0.0,\n",
       " 'apache_4a_icu_death_prob': 0.0,\n",
       " 'aids': 0.157,\n",
       " 'cirrhosis': 0.0,\n",
       " 'diabetes_mellitus': 0.007,\n",
       " 'hepatic_failure': 0.0,\n",
       " 'immunosuppression': 0.0,\n",
       " 'leukemia': 0.0,\n",
       " 'lymphoma': 0.0,\n",
       " 'solid_tumor_with_metastasis': 0.0,\n",
       " 'apache_3j_bodysystem': 0.0,\n",
       " 'apache_2_bodysystem': 0.0}"
      ]
     },
     "execution_count": 12,
     "metadata": {},
     "output_type": "execute_result"
    }
   ],
   "source": [
    "X = df.drop(\"hospital_death\", axis = 1)\n",
    "y = df[\"hospital_death\"]\n",
    "p_values = f_regression(X,y)[1]\n",
    "target_col = \"hospital_death\"\n",
    "\n",
    "p_dict = {}\n",
    "\n",
    "col = list(df.columns)\n",
    "iter_df = 0\n",
    "\n",
    "for value in p_values:\n",
    "    if col[iter_df] == target_col:\n",
    "        iter_df += 1\n",
    "        \n",
    "    p_dict[col[iter_df]] = value.round(3)\n",
    "    iter_df += 1\n",
    "    \n",
    "p_dict"
   ]
  },
  {
   "cell_type": "code",
   "execution_count": 13,
   "id": "ab740065",
   "metadata": {},
   "outputs": [
    {
     "data": {
      "text/plain": [
       "['encounter_id',\n",
       " 'patient_id',\n",
       " 'hospital_id',\n",
       " 'ethnicity',\n",
       " 'gender',\n",
       " 'icu_stay_type',\n",
       " 'icu_type',\n",
       " 'd1_mbp_max']"
      ]
     },
     "execution_count": 13,
     "metadata": {},
     "output_type": "execute_result"
    }
   ],
   "source": [
    "threshold = 0.2\n",
    "\n",
    "del_col = []\n",
    "\n",
    "for key in p_dict:\n",
    "    val = p_dict[key]\n",
    "    \n",
    "    if val > threshold:\n",
    "        del_col.append(key)\n",
    "        \n",
    "del_col"
   ]
  },
  {
   "cell_type": "code",
   "execution_count": 14,
   "id": "4b39c880",
   "metadata": {},
   "outputs": [],
   "source": [
    "df.drop(columns = del_col, axis = 1, inplace = True)\n",
    "X = df.drop(\"hospital_death\", axis = 1)\n",
    "y = df[\"hospital_death\"]\n",
    "\n",
    "X_train, X_test, y_train, y_test = train_test_split(X, y, test_size = 0.2, random_state = 42)\n",
    "\n",
    "models = {\"Logistic Regression\": LogisticRegression(),\n",
    "          \"KNN\": KNeighborsClassifier(),\n",
    "          \"Random Forest\": RandomForestClassifier()}\n",
    "def fit_and_score(models, X_train, X_test, y_train, y_test):\n",
    "    np.random.seed(42)\n",
    "    model_scores = {}\n",
    "    for name, model in models.items():\n",
    "        model.fit(X_train, y_train)\n",
    "        model_scores[name] = model.score(X_test, y_test)\n",
    "    return model_scores"
   ]
  },
  {
   "cell_type": "code",
   "execution_count": 15,
   "id": "2fff2b90",
   "metadata": {},
   "outputs": [
    {
     "data": {
      "text/plain": [
       "76"
      ]
     },
     "execution_count": 15,
     "metadata": {},
     "output_type": "execute_result"
    }
   ],
   "source": [
    "def model_testing(l_bound, u_bound, step):\n",
    "    Logistic = []\n",
    "    KNN = []\n",
    "    RandomForest = []\n",
    "    \n",
    "    for nCom in range(l_bound, u_bound, step):\n",
    "        print(\"Working on \", nCom, \" Components...\")\n",
    "        X_train, X_test, y_train, y_test = train_test_split(X, y, test_size = 0.2, random_state = 42)\n",
    "\n",
    "        sc = StandardScaler()\n",
    "        X_train = sc.fit_transform(X_train)\n",
    "        X_test = sc.transform(X_test)\n",
    "\n",
    "        pca = PCA(n_components = nCom)\n",
    "        X_train = pca.fit_transform(X_train)\n",
    "        X_test = pca.transform(X_test)\n",
    "        \n",
    "        model_scores = fit_and_score(models=models,\n",
    "                             X_train=X_train,\n",
    "                             X_test=X_test,\n",
    "                             y_train=y_train,\n",
    "                             y_test=y_test)\n",
    "        \n",
    "        Logistic.append(model_scores['Logistic Regression'])\n",
    "        KNN.append(model_scores['KNN'])\n",
    "        RandomForest.append(model_scores['Random Forest'])\n",
    "        \n",
    "    return (Logistic, KNN, RandomForest)\n",
    "len(list(df.columns))"
   ]
  },
  {
   "cell_type": "code",
   "execution_count": 16,
   "id": "17c3de98",
   "metadata": {},
   "outputs": [
    {
     "name": "stdout",
     "output_type": "stream",
     "text": [
      "Working on  60  Components...\n",
      "Working on  61  Components...\n",
      "Working on  62  Components...\n"
     ]
    }
   ],
   "source": [
    "l_bound = 60  \n",
    "u_bound  = 63\n",
    "\n",
    "step = 1\n",
    "\n",
    "Logistic, KNN , RandomForest = model_testing(l_bound, u_bound, step)"
   ]
  },
  {
   "cell_type": "code",
   "execution_count": 17,
   "id": "c067b808",
   "metadata": {},
   "outputs": [
    {
     "data": {
      "image/png": "[encoded data removed]",
      "text/plain": [
       "<Figure size 432x288 with 1 Axes>"
      ]
     },
     "metadata": {},
     "output_type": "display_data"
    },
    {
     "name": "stdout",
     "output_type": "stream",
     "text": [
      "Index:\n",
      "Logistic : \t 61\n",
      "KNN : \t\t 62\n",
      "Random Forest :  60\n",
      "\n",
      "Max Accuracy :\n",
      "Logistic : \t 0.9240361816106086\n",
      "KNN : \t\t 0.9192061122332484\n",
      "Random Forest :  0.9224554316325635\n",
      "\n"
     ]
    }
   ],
   "source": [
    "plt.plot(Logistic, label = \"Logistic\", linestyle = \"--\")\n",
    "plt.plot(KNN, label = \"KNN\", linestyle = \"-\")\n",
    "plt.plot(RandomForest, label = \"Random Forest\", linestyle = '-.')\n",
    "plt.legend()\n",
    "plt.title(\"Accuracy vs No Of Components\")\n",
    "plt.xlabel(\"No Of Components\")\n",
    "plt.ylabel(\"Accuracy Range\")\n",
    "plt.show()\n",
    "\n",
    "print(\"Index:\")\n",
    "print(\"Logistic : \\t\" , (Logistic.index(max(Logistic))  * step + l_bound)) \n",
    "print(\"KNN : \\t\\t\" , ((KNN.index(max(KNN))) * step + l_bound) )\n",
    "print(\"Random Forest : \" , (RandomForest.index(max(RandomForest)) * step + l_bound) )\n",
    "print()\n",
    "      \n",
    "print(\"Max Accuracy :\")\n",
    "print(\"Logistic : \\t\" , max(Logistic)) \n",
    "print(\"KNN : \\t\\t\" , max(KNN))\n",
    "print(\"Random Forest : \" , max(RandomForest))\n",
    "print()"
   ]
  },
  {
   "cell_type": "code",
   "execution_count": 18,
   "id": "d73d1d5c",
   "metadata": {},
   "outputs": [],
   "source": [
    "sc = StandardScaler()\n",
    "X_train = sc.fit_transform(X_train)\n",
    "X_test = sc.transform(X_test)\n",
    "\n",
    "pca = PCA(n_components = 61)\n",
    "X_train = pca.fit_transform(X_train)\n",
    "X_test = pca.transform(X_test)\n",
    "log_reg_grid = {\"C\": np.logspace(-4, 4, 20),\n",
    "                \"solver\": [\"liblinear\"]}"
   ]
  },
  {
   "cell_type": "code",
   "execution_count": 19,
   "id": "68576bac",
   "metadata": {},
   "outputs": [
    {
     "data": {
      "text/plain": [
       "LogisticRegression(C=0.20433597178569418, solver='liblinear')"
      ]
     },
     "execution_count": 19,
     "metadata": {},
     "output_type": "execute_result"
    }
   ],
   "source": [
    "clf = LogisticRegression(C=0.20433597178569418,\n",
    "                         solver=\"liblinear\")\n",
    "clf.fit(X_train, y_train)"
   ]
  },
  {
   "cell_type": "code",
   "execution_count": 20,
   "id": "16bca50b",
   "metadata": {},
   "outputs": [
    {
     "data": {
      "text/plain": [
       "0.9241240010538333"
      ]
     },
     "execution_count": 20,
     "metadata": {},
     "output_type": "execute_result"
    }
   ],
   "source": [
    "clf.score(X_test, y_test)"
   ]
  },
  {
   "cell_type": "code",
   "execution_count": 21,
   "id": "221282a5",
   "metadata": {},
   "outputs": [
    {
     "data": {
      "text/plain": [
       "0.9221744094142444"
      ]
     },
     "execution_count": 21,
     "metadata": {},
     "output_type": "execute_result"
    }
   ],
   "source": [
    "cv_acc = cross_val_score(clf,\n",
    "                         X,\n",
    "                         y,\n",
    "                         cv=5,\n",
    "                         scoring=\"accuracy\")\n",
    "cv_acc = np.mean(cv_acc)\n",
    "cv_acc"
   ]
  },
  {
   "cell_type": "code",
   "execution_count": 22,
   "id": "4dc6e02c",
   "metadata": {},
   "outputs": [
    {
     "data": {
      "text/plain": [
       "0.6189647481887303"
      ]
     },
     "execution_count": 22,
     "metadata": {},
     "output_type": "execute_result"
    }
   ],
   "source": [
    "cv_precision = cross_val_score(clf,\n",
    "                         X,\n",
    "                         y,\n",
    "                         cv=5,\n",
    "                         scoring=\"precision\")\n",
    "cv_precision=np.mean(cv_precision)\n",
    "cv_precision"
   ]
  },
  {
   "cell_type": "code",
   "execution_count": 23,
   "id": "cf8eb6e4",
   "metadata": {},
   "outputs": [
    {
     "data": {
      "text/plain": [
       "0.25558257142320007"
      ]
     },
     "execution_count": 23,
     "metadata": {},
     "output_type": "execute_result"
    }
   ],
   "source": [
    "cv_recall = cross_val_score(clf,\n",
    "                         X,\n",
    "                         y,\n",
    "                         cv=5,\n",
    "                         scoring=\"recall\")\n",
    "cv_recall = np.mean(cv_recall)\n",
    "cv_recall"
   ]
  },
  {
   "cell_type": "code",
   "execution_count": null,
   "id": "92139ea7",
   "metadata": {},
   "outputs": [],
   "source": [
    "cv_f1 = cross_val_score(clf,\n",
    "                         X,\n",
    "                         y,\n",
    "                         cv=5,\n",
    "                         scoring=\"f1\")\n",
    "cv_f1 = np.mean(cv_f1)\n",
    "cv_f1"
   ]
  },
  {
   "cell_type": "code",
   "execution_count": null,
   "id": "04fb9f4c",
   "metadata": {},
   "outputs": [],
   "source": [
    "cv_metrics = pd.DataFrame({\"Accuracy\": cv_acc,\n",
    "                           \"Precision\": cv_precision,\n",
    "                           \"Recall\": cv_recall,\n",
    "                           \"F1\": cv_f1},\n",
    "                          index=[0])\n",
    "\n",
    "cv_metrics.T.plot.bar(title=\"Cross-validated classification metrics\",\n",
    "                      legend=False);"
   ]
  },
  {
   "cell_type": "code",
   "execution_count": null,
   "id": "012d2d88",
   "metadata": {},
   "outputs": [],
   "source": [
    "clf.coef_"
   ]
  },
  {
   "cell_type": "code",
   "execution_count": null,
   "id": "b152596b",
   "metadata": {},
   "outputs": [],
   "source": [
    "feature_dict = dict(zip(df.columns, list(clf.coef_[0])))\n",
    "feature_dict"
   ]
  },
  {
   "cell_type": "code",
   "execution_count": null,
   "id": "93f67a20",
   "metadata": {},
   "outputs": [],
   "source": [
    "feature_df = pd.DataFrame(feature_dict, index=[0])\n",
    "feature_df.T.plot(figsize=(12, 8), kind = \"bar\", title=\"Feature Importance\", legend=False);"
   ]
  }
 ],
 "metadata": {
  "kernelspec": {
   "display_name": "Python 3",
   "language": "python",
   "name": "python3"
  },
  "language_info": {
   "codemirror_mode": {
    "name": "ipython",
    "version": 3
   },
   "file_extension": ".py",
   "mimetype": "text/x-python",
   "name": "python",
   "nbconvert_exporter": "python",
   "pygments_lexer": "ipython3",
   "version": "3.9.5"
  },
  "vscode": {
   "interpreter": {
    "hash": "00e1ddc1b0ab2680e2e12677408afeefc83d924ade78913c355cd0523c1a7dc7"
   }
  }
 },
 "nbformat": 4,
 "nbformat_minor": 5
}
