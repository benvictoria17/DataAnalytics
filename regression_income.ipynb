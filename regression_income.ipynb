{
 "cells": [
  {
   "cell_type": "code",
   "execution_count": 1,
   "id": "4999ad2a",
   "metadata": {},
   "outputs": [],
   "source": [
    "import numpy as np\n",
    "import pandas as pd\n",
    "from sklearn.model_selection import train_test_split\n",
    "from sklearn import linear_model\n",
    "import matplotlib.pyplot as plt\n",
    "from sklearn.metrics import r2_score, mean_squared_error\n",
    "from sklearn.preprocessing import PolynomialFeatures"
   ]
  },
  {
   "cell_type": "code",
   "execution_count": 2,
   "id": "630797f4",
   "metadata": {},
   "outputs": [
    {
     "data": {
      "text/html": [
       "<div>\n",
       "<style scoped>\n",
       "    .dataframe tbody tr th:only-of-type {\n",
       "        vertical-align: middle;\n",
       "    }\n",
       "\n",
       "    .dataframe tbody tr th {\n",
       "        vertical-align: top;\n",
       "    }\n",
       "\n",
       "    .dataframe thead th {\n",
       "        text-align: right;\n",
       "    }\n",
       "</style>\n",
       "<table border=\"1\" class=\"dataframe\">\n",
       "  <thead>\n",
       "    <tr style=\"text-align: right;\">\n",
       "      <th></th>\n",
       "      <th>JobTitle</th>\n",
       "      <th>Age</th>\n",
       "      <th>PerfEval</th>\n",
       "      <th>Education</th>\n",
       "      <th>Dept</th>\n",
       "      <th>Seniority</th>\n",
       "      <th>BasePay</th>\n",
       "      <th>Bonus</th>\n",
       "      <th>TotalPay</th>\n",
       "      <th>Female</th>\n",
       "    </tr>\n",
       "  </thead>\n",
       "  <tbody>\n",
       "    <tr>\n",
       "      <th>0</th>\n",
       "      <td>Graphic Designer</td>\n",
       "      <td>18</td>\n",
       "      <td>5</td>\n",
       "      <td>1</td>\n",
       "      <td>Operations</td>\n",
       "      <td>2</td>\n",
       "      <td>42363</td>\n",
       "      <td>9938</td>\n",
       "      <td>52301</td>\n",
       "      <td>1</td>\n",
       "    </tr>\n",
       "    <tr>\n",
       "      <th>1</th>\n",
       "      <td>Software Engineer</td>\n",
       "      <td>21</td>\n",
       "      <td>5</td>\n",
       "      <td>1</td>\n",
       "      <td>Management</td>\n",
       "      <td>5</td>\n",
       "      <td>108476</td>\n",
       "      <td>11128</td>\n",
       "      <td>119604</td>\n",
       "      <td>0</td>\n",
       "    </tr>\n",
       "    <tr>\n",
       "      <th>2</th>\n",
       "      <td>Warehouse Associate</td>\n",
       "      <td>19</td>\n",
       "      <td>4</td>\n",
       "      <td>1</td>\n",
       "      <td>Administration</td>\n",
       "      <td>5</td>\n",
       "      <td>90208</td>\n",
       "      <td>9268</td>\n",
       "      <td>99476</td>\n",
       "      <td>1</td>\n",
       "    </tr>\n",
       "    <tr>\n",
       "      <th>3</th>\n",
       "      <td>Software Engineer</td>\n",
       "      <td>20</td>\n",
       "      <td>5</td>\n",
       "      <td>1</td>\n",
       "      <td>Sales</td>\n",
       "      <td>4</td>\n",
       "      <td>108080</td>\n",
       "      <td>10154</td>\n",
       "      <td>118234</td>\n",
       "      <td>0</td>\n",
       "    </tr>\n",
       "    <tr>\n",
       "      <th>4</th>\n",
       "      <td>Graphic Designer</td>\n",
       "      <td>26</td>\n",
       "      <td>5</td>\n",
       "      <td>1</td>\n",
       "      <td>Engineering</td>\n",
       "      <td>5</td>\n",
       "      <td>99464</td>\n",
       "      <td>9319</td>\n",
       "      <td>108783</td>\n",
       "      <td>0</td>\n",
       "    </tr>\n",
       "  </tbody>\n",
       "</table>\n",
       "</div>"
      ],
      "text/plain": [
       "              JobTitle  Age  PerfEval  Education            Dept  Seniority  \\\n",
       "0     Graphic Designer   18         5          1      Operations          2   \n",
       "1    Software Engineer   21         5          1      Management          5   \n",
       "2  Warehouse Associate   19         4          1  Administration          5   \n",
       "3    Software Engineer   20         5          1           Sales          4   \n",
       "4     Graphic Designer   26         5          1     Engineering          5   \n",
       "\n",
       "   BasePay  Bonus  TotalPay  Female  \n",
       "0    42363   9938     52301       1  \n",
       "1   108476  11128    119604       0  \n",
       "2    90208   9268     99476       1  \n",
       "3   108080  10154    118234       0  \n",
       "4    99464   9319    108783       0  "
      ]
     },
     "execution_count": 2,
     "metadata": {},
     "output_type": "execute_result"
    }
   ],
   "source": [
    "df = pd.read_csv(\"https://raw.githubusercontent.com/benvictoria17/DataAnalytics/master/dataset/Glassdoor-%20Analyze%20Gender%20Pay%20Gap/Glassdoor%20Gender%20Pay%20Gap.csv\")\n",
    "df.head()\n",
    "\n",
    "df['TotalPay'] = df['BasePay'] + df['Bonus']\n",
    "\n",
    "gender_dummies = pd.get_dummies(df['Gender'])\n",
    "dept_dummies = pd.get_dummies(df['Dept'])\n",
    "df = df.join(gender_dummies)\n",
    "del df['Gender']\n",
    "del df['Male'] \n",
    "df['Education'] = np.where(df['Education'].isin(['College', 'Masters', 'PhD']), 1, 0)\n",
    "\n",
    "df.head()"
   ]
  },
  {
   "cell_type": "code",
   "execution_count": 3,
   "id": "076edf9d",
   "metadata": {},
   "outputs": [
    {
     "name": "stdout",
     "output_type": "stream",
     "text": [
      "Train set: (800, 1) (800,)\n",
      "Test set: (200, 1) (200,)\n"
     ]
    }
   ],
   "source": [
    "X = df[['Age']].values\n",
    "y = df['TotalPay'].values\n",
    "\n",
    "X_train, X_test, y_train, y_test = train_test_split( X, y, test_size=0.2, random_state=4)\n",
    "print ('Train set:', X_train.shape,  y_train.shape)\n",
    "print ('Test set:', X_test.shape,  y_test.shape)"
   ]
  },
  {
   "cell_type": "code",
   "execution_count": 4,
   "id": "90db320c",
   "metadata": {},
   "outputs": [
    {
     "name": "stdout",
     "output_type": "stream",
     "text": [
      "Coefficients: [939.76533429]\n",
      "Intercept: 61577.59620056475\n"
     ]
    }
   ],
   "source": [
    "regr = linear_model.LinearRegression()\n",
    "regr.fit (X_train, y_train)\n",
    "\n",
    "print (f'Coefficients: {regr.coef_}')\n",
    "print (f'Intercept: {regr.intercept_}')"
   ]
  },
  {
   "cell_type": "code",
   "execution_count": 5,
   "id": "1aedc0f5",
   "metadata": {},
   "outputs": [
    {
     "data": {
      "text/plain": [
       "Text(0, 0.5, 'Total pay per year')"
      ]
     },
     "execution_count": 5,
     "metadata": {},
     "output_type": "execute_result"
    },
    {
     "data": {
      "image/png": "[encoded data removed]",
      "text/plain": [
       "<Figure size 432x288 with 1 Axes>"
      ]
     },
     "metadata": {
      "needs_background": "light"
     },
     "output_type": "display_data"
    }
   ],
   "source": [
    "plt.scatter(X_train, y_train,  color='blue')\n",
    "plt.plot(X_train, regr.coef_[0] * X_train + regr.intercept_, '-r')  # gradient * x + intercept\n",
    "plt.xlabel(\"Age\")\n",
    "plt.ylabel(\"Total pay per year\")"
   ]
  },
  {
   "cell_type": "code",
   "execution_count": 6,
   "id": "deaab8e4",
   "metadata": {},
   "outputs": [
    {
     "name": "stdout",
     "output_type": "stream",
     "text": [
      "Mean Squared Error (MSE): 508065500.2883171\n",
      "R2 Score: 0.24787164813251428\n"
     ]
    }
   ],
   "source": [
    "y_test_pred = regr.predict(X_test)\n",
    "\n",
    "print(f'Mean Squared Error (MSE): {mean_squared_error(y_test, y_test_pred)}')\n",
    "print(f'R2 Score: {r2_score(y_test , y_test_pred)}')"
   ]
  },
  {
   "cell_type": "code",
   "execution_count": 7,
   "id": "6b977cdd",
   "metadata": {},
   "outputs": [
    {
     "name": "stdout",
     "output_type": "stream",
     "text": [
      "Independent variables: ['Age' 'PerfEval' 'Education' 'Seniority' 'Female']\n",
      "Train set: (800, 5) (800,)\n",
      "Test set: (200, 5) (200,)\n"
     ]
    }
   ],
   "source": [
    "X = df.loc[:, ~df.columns.isin(['BasePay', 'Bonus', 'JobTitle', 'Dept', 'TotalPay'])].values\n",
    "y = df['TotalPay'].values\n",
    "\n",
    "print('Independent variables: {}'.format(df.loc[:, ~df.columns.isin(['BasePay', 'Bonus', 'JobTitle', 'Dept', 'TotalPay'])].columns.values))\n",
    "\n",
    "X_train, X_test, y_train, y_test = train_test_split( X, y, test_size=0.2, random_state=4)\n",
    "print ('Train set:', X_train.shape,  y_train.shape)\n",
    "print ('Test set:', X_test.shape,  y_test.shape)"
   ]
  },
  {
   "cell_type": "code",
   "execution_count": 8,
   "id": "193cbbbf",
   "metadata": {},
   "outputs": [
    {
     "name": "stdout",
     "output_type": "stream",
     "text": [
      "Coefficients: [   960.16959348    734.33619703   4664.8070167    9631.11189259\n",
      " -10410.75370526]\n",
      "Intercept: 31258.715819032033\n"
     ]
    }
   ],
   "source": [
    "regr = linear_model.LinearRegression()\n",
    "regr.fit (X_train, y_train)\n",
    "\n",
    "print (f'Coefficients: {regr.coef_}')\n",
    "print (f'Intercept: {regr.intercept_}')"
   ]
  },
  {
   "cell_type": "code",
   "execution_count": 9,
   "id": "4d5a2ea5",
   "metadata": {},
   "outputs": [
    {
     "name": "stdout",
     "output_type": "stream",
     "text": [
      "Mean Squared Error (MSE): 277234107.3688191\n",
      "R2 Score: 0.5895890743645553\n"
     ]
    }
   ],
   "source": [
    "y_test_pred = regr.predict(X_test)\n",
    "\n",
    "print(f'Mean Squared Error (MSE): {mean_squared_error(y_test, y_test_pred)}')\n",
    "print(f'R2 Score: {r2_score(y_test , y_test_pred)}')"
   ]
  },
  {
   "cell_type": "code",
   "execution_count": 10,
   "id": "553da5c9",
   "metadata": {},
   "outputs": [
    {
     "name": "stdout",
     "output_type": "stream",
     "text": [
      "Estimated salary: 84002.36 USD\n"
     ]
    }
   ],
   "source": [
    "employee_data = [[27, 5, 1, 3, 1]]\n",
    "salary = regr.predict(employee_data)\n",
    "print(f'Estimated salary: {salary[0]:.2f} USD')"
   ]
  },
  {
   "cell_type": "code",
   "execution_count": 11,
   "id": "7049b761",
   "metadata": {},
   "outputs": [
    {
     "name": "stdout",
     "output_type": "stream",
     "text": [
      "Train set: (800, 1) (800,)\n",
      "Test set: (200, 1) (200,)\n",
      "Train set polynomial: (800, 3) (800,)\n"
     ]
    }
   ],
   "source": [
    "X = df[['Age']].values\n",
    "y = df['TotalPay'].values\n",
    "\n",
    "X_train, X_test, y_train, y_test = train_test_split( X, y, test_size=0.2, random_state=4)\n",
    "print ('Train set:', X_train.shape,  y_train.shape)\n",
    "print ('Test set:', X_test.shape,  y_test.shape)\n",
    "\n",
    "poly = PolynomialFeatures(degree=2)\n",
    "X_train_poly = poly.fit_transform(X_train)\n",
    "print ('Train set polynomial:', X_train_poly.shape,  y_train.shape)"
   ]
  },
  {
   "cell_type": "code",
   "execution_count": 12,
   "id": "bffce5a6",
   "metadata": {},
   "outputs": [
    {
     "name": "stdout",
     "output_type": "stream",
     "text": [
      "Coefficients: [  0.         307.74031385   7.65547146]\n",
      "Intercept: 73056.8380003197\n"
     ]
    }
   ],
   "source": [
    "regr = linear_model.LinearRegression()\n",
    "regr.fit (X_train_poly, y_train)\n",
    "\n",
    "print (f'Coefficients: {regr.coef_}')\n",
    "print (f'Intercept: {regr.intercept_}')"
   ]
  },
  {
   "cell_type": "code",
   "execution_count": null,
   "id": "c2d694bd",
   "metadata": {},
   "outputs": [],
   "source": []
  }
 ],
 "metadata": {
  "kernelspec": {
   "display_name": "Python 3",
   "language": "python",
   "name": "python3"
  },
  "language_info": {
   "codemirror_mode": {
    "name": "ipython",
    "version": 3
   },
   "file_extension": ".py",
   "mimetype": "text/x-python",
   "name": "python",
   "nbconvert_exporter": "python",
   "pygments_lexer": "ipython3",
   "version": "3.9.5"
  }
 },
 "nbformat": 4,
 "nbformat_minor": 5
}
