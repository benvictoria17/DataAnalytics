{
  "nbformat": 4,
  "nbformat_minor": 0,
  "metadata": {
    "kernelspec": {
      "display_name": "Python 3",
      "language": "python",
      "name": "python3"
    },
    "language_info": {
      "codemirror_mode": {
        "name": "ipython",
        "version": 3
      },
      "file_extension": ".py",
      "mimetype": "text/x-python",
      "name": "python",
      "nbconvert_exporter": "python",
      "pygments_lexer": "ipython3",
      "version": "3.7.6"
    },
    "papermill": {
      "duration": 9.486431,
      "end_time": "2020-12-07T03:38:10.251643",
      "environment_variables": {},
      "exception": null,
      "input_path": "__notebook__.ipynb",
      "output_path": "__notebook__.ipynb",
      "parameters": {},
      "start_time": "2020-12-07T03:38:00.765212",
      "version": "2.1.0"
    },
    "colab": {
      "name": "beginner-credit-data-analysis.ipynb",
      "provenance": [],
      "include_colab_link": true
    }
  },
  "cells": [
    {
      "cell_type": "markdown",
      "metadata": {
        "id": "view-in-github",
        "colab_type": "text"
      },
      "source": [
        "<a href=\"https://colab.research.google.com/github/benvictoria21/pandas/blob/master/beginner_credit_data_analysis.ipynb\" target=\"_parent\"><img src=\"https://colab.research.google.com/assets/colab-badge.svg\" alt=\"Open In Colab\"/></a>"
      ]
    },
    {
      "cell_type": "code",
      "metadata": {
        "_cell_guid": "b1076dfc-b9ad-4769-8c92-a6c4dae69d19",
        "_uuid": "8f2839f25d086af736a60e9eeb907d3b93b6e0e5",
        "execution": {
          "iopub.execute_input": "2020-12-07T03:38:05.323805Z",
          "iopub.status.busy": "2020-12-07T03:38:05.322921Z",
          "iopub.status.idle": "2020-12-07T03:38:05.352992Z",
          "shell.execute_reply": "2020-12-07T03:38:05.352299Z"
        },
        "papermill": {
          "duration": 0.047425,
          "end_time": "2020-12-07T03:38:05.353152",
          "exception": false,
          "start_time": "2020-12-07T03:38:05.305727",
          "status": "completed"
        },
        "tags": [],
        "id": "sL7PKYsoXyka"
      },
      "source": [
        "import numpy as np # linear algebra\n",
        "import pandas as pd # data processing, CSV file I/O (e.g. pd.read_csv)"
      ],
      "execution_count": 13,
      "outputs": []
    },
    {
      "cell_type": "code",
      "metadata": {
        "execution": {
          "iopub.execute_input": "2020-12-07T03:38:05.427544Z",
          "iopub.status.busy": "2020-12-07T03:38:05.426849Z",
          "iopub.status.idle": "2020-12-07T03:38:05.581347Z",
          "shell.execute_reply": "2020-12-07T03:38:05.582026Z"
        },
        "papermill": {
          "duration": 0.179459,
          "end_time": "2020-12-07T03:38:05.582188",
          "exception": false,
          "start_time": "2020-12-07T03:38:05.402729",
          "status": "completed"
        },
        "tags": [],
        "colab": {
          "base_uri": "https://localhost:8080/"
        },
        "id": "cfenOAt7Xykc",
        "outputId": "81854c86-9f51-4644-f53e-dcffb2af768d"
      },
      "source": [
        "holdingData = pd.read_csv(\"https://raw.githubusercontent.com/benvictoria21/MachineLearning/master/dataset/BankChurners.csv\",index_col='CLIENTNUM')\n",
        "creditData = holdingData.drop(['Naive_Bayes_Classifier_Attrition_Flag_Card_Category_Contacts_Count_12_mon_Dependent_count_Education_Level_Months_Inactive_12_mon_1','Naive_Bayes_Classifier_Attrition_Flag_Card_Category_Contacts_Count_12_mon_Dependent_count_Education_Level_Months_Inactive_12_mon_2'],axis=1)\n",
        "print(creditData.head())\n",
        "print(creditData.columns)\n",
        "print(creditData.describe())"
      ],
      "execution_count": 14,
      "outputs": [
        {
          "output_type": "stream",
          "text": [
            "              Attrition_Flag  ...  Avg_Utilization_Ratio\n",
            "CLIENTNUM                     ...                       \n",
            "768805383  Existing Customer  ...                  0.061\n",
            "818770008  Existing Customer  ...                  0.105\n",
            "713982108  Existing Customer  ...                  0.000\n",
            "769911858  Existing Customer  ...                  0.760\n",
            "709106358  Existing Customer  ...                  0.000\n",
            "\n",
            "[5 rows x 20 columns]\n",
            "Index(['Attrition_Flag', 'Customer_Age', 'Gender', 'Dependent_count',\n",
            "       'Education_Level', 'Marital_Status', 'Income_Category', 'Card_Category',\n",
            "       'Months_on_book', 'Total_Relationship_Count', 'Months_Inactive_12_mon',\n",
            "       'Contacts_Count_12_mon', 'Credit_Limit', 'Total_Revolving_Bal',\n",
            "       'Avg_Open_To_Buy', 'Total_Amt_Chng_Q4_Q1', 'Total_Trans_Amt',\n",
            "       'Total_Trans_Ct', 'Total_Ct_Chng_Q4_Q1', 'Avg_Utilization_Ratio'],\n",
            "      dtype='object')\n",
            "       Customer_Age  ...  Avg_Utilization_Ratio\n",
            "count  10127.000000  ...           10127.000000\n",
            "mean      46.325960  ...               0.274894\n",
            "std        8.016814  ...               0.275691\n",
            "min       26.000000  ...               0.000000\n",
            "25%       41.000000  ...               0.023000\n",
            "50%       46.000000  ...               0.176000\n",
            "75%       52.000000  ...               0.503000\n",
            "max       73.000000  ...               0.999000\n",
            "\n",
            "[8 rows x 14 columns]\n"
          ],
          "name": "stdout"
        }
      ]
    },
    {
      "cell_type": "code",
      "metadata": {
        "execution": {
          "iopub.execute_input": "2020-12-07T03:38:05.643977Z",
          "iopub.status.busy": "2020-12-07T03:38:05.643328Z",
          "iopub.status.idle": "2020-12-07T03:38:05.650276Z",
          "shell.execute_reply": "2020-12-07T03:38:05.650877Z"
        },
        "papermill": {
          "duration": 0.032289,
          "end_time": "2020-12-07T03:38:05.651001",
          "exception": false,
          "start_time": "2020-12-07T03:38:05.618712",
          "status": "completed"
        },
        "tags": [],
        "colab": {
          "base_uri": "https://localhost:8080/"
        },
        "id": "WqZ5Oc3DXykc",
        "outputId": "9bad4846-30ae-493d-9035-d82c310e1055"
      },
      "source": [
        "missing_values_count = creditData.isnull().sum()\n",
        "print(missing_values_count)"
      ],
      "execution_count": 15,
      "outputs": [
        {
          "output_type": "stream",
          "text": [
            "Attrition_Flag              0\n",
            "Customer_Age                0\n",
            "Gender                      0\n",
            "Dependent_count             0\n",
            "Education_Level             0\n",
            "Marital_Status              0\n",
            "Income_Category             0\n",
            "Card_Category               0\n",
            "Months_on_book              0\n",
            "Total_Relationship_Count    0\n",
            "Months_Inactive_12_mon      0\n",
            "Contacts_Count_12_mon       0\n",
            "Credit_Limit                0\n",
            "Total_Revolving_Bal         0\n",
            "Avg_Open_To_Buy             0\n",
            "Total_Amt_Chng_Q4_Q1        0\n",
            "Total_Trans_Amt             0\n",
            "Total_Trans_Ct              0\n",
            "Total_Ct_Chng_Q4_Q1         0\n",
            "Avg_Utilization_Ratio       0\n",
            "dtype: int64\n"
          ],
          "name": "stdout"
        }
      ]
    },
    {
      "cell_type": "code",
      "metadata": {
        "execution": {
          "iopub.execute_input": "2020-12-07T03:38:05.708786Z",
          "iopub.status.busy": "2020-12-07T03:38:05.708100Z",
          "iopub.status.idle": "2020-12-07T03:38:06.718115Z",
          "shell.execute_reply": "2020-12-07T03:38:06.718826Z"
        },
        "papermill": {
          "duration": 1.029782,
          "end_time": "2020-12-07T03:38:06.718992",
          "exception": false,
          "start_time": "2020-12-07T03:38:05.689210",
          "status": "completed"
        },
        "tags": [],
        "id": "l_C8bpy8Xykd"
      },
      "source": [
        "import matplotlib.pyplot as plt\n",
        "import seaborn as sns"
      ],
      "execution_count": 16,
      "outputs": []
    },
    {
      "cell_type": "code",
      "metadata": {
        "execution": {
          "iopub.execute_input": "2020-12-07T03:38:06.814603Z",
          "iopub.status.busy": "2020-12-07T03:38:06.813925Z",
          "iopub.status.idle": "2020-12-07T03:38:07.196865Z",
          "shell.execute_reply": "2020-12-07T03:38:07.196105Z"
        },
        "papermill": {
          "duration": 0.42041,
          "end_time": "2020-12-07T03:38:07.196998",
          "exception": false,
          "start_time": "2020-12-07T03:38:06.776588",
          "status": "completed"
        },
        "tags": [],
        "colab": {
          "base_uri": "https://localhost:8080/",
          "height": 398
        },
        "id": "3r7AaEJIXykd",
        "outputId": "dfadd91c-c920-4f98-e9be-f24b0f176b5f"
      },
      "source": [
        "cmap = sns.diverging_palette(220, 10, as_cmap=True)\n",
        "sns.heatmap(creditData.corr(), vmax=.3, center=0, cmap=cmap,\n",
        "           square = True, linewidths=.5, cbar_kws={\"shrink\":.5})"
      ],
      "execution_count": 17,
      "outputs": [
        {
          "output_type": "execute_result",
          "data": {
            "text/plain": [
              "<matplotlib.axes._subplots.AxesSubplot at 0x7f8f44b3ed30>"
            ]
          },
          "metadata": {
            "tags": []
          },
          "execution_count": 17
        },
        {
          "output_type": "display_data",
          "data": {
            "image/png": "[encoded data removed]",
            "text/plain": [
              "<Figure size 432x288 with 2 Axes>"
            ]
          },
          "metadata": {
            "tags": [],
            "needs_background": "light"
          }
        }
      ]
    },
    {
      "cell_type": "code",
      "metadata": {
        "execution": {
          "iopub.execute_input": "2020-12-07T03:38:07.376629Z",
          "iopub.status.busy": "2020-12-07T03:38:07.375973Z",
          "iopub.status.idle": "2020-12-07T03:38:07.508313Z",
          "shell.execute_reply": "2020-12-07T03:38:07.507661Z"
        },
        "papermill": {
          "duration": 0.156272,
          "end_time": "2020-12-07T03:38:07.508438",
          "exception": false,
          "start_time": "2020-12-07T03:38:07.352166",
          "status": "completed"
        },
        "tags": [],
        "id": "sOx2pDwrXykd"
      },
      "source": [
        "# let's get some train test split going\n",
        "from sklearn.model_selection import train_test_split\n",
        "\n",
        "X = creditData.drop(\"Attrition_Flag\",axis=1)\n",
        "y = creditData.Attrition_Flag\n",
        "\n",
        "X_train_full, X_test_full, y_train, y_test = train_test_split(X,y,test_size=0.2,random_state=1)\n"
      ],
      "execution_count": 18,
      "outputs": []
    },
    {
      "cell_type": "code",
      "metadata": {
        "execution": {
          "iopub.execute_input": "2020-12-07T03:38:07.548276Z",
          "iopub.status.busy": "2020-12-07T03:38:07.547263Z",
          "iopub.status.idle": "2020-12-07T03:38:07.569592Z",
          "shell.execute_reply": "2020-12-07T03:38:07.569045Z"
        },
        "papermill": {
          "duration": 0.045355,
          "end_time": "2020-12-07T03:38:07.569703",
          "exception": false,
          "start_time": "2020-12-07T03:38:07.524348",
          "status": "completed"
        },
        "tags": [],
        "id": "QfDjT9lPXyke"
      },
      "source": [
        "# now we do some pipeline work\n",
        "# \"Cardinality\" means the number of unique values in a column\n",
        "# Select categorical columns with relatively low cardinality (convenient but arbitrary)\n",
        "categorical_cols = [cname for cname in X_train_full.columns if\n",
        "                    X_train_full[cname].nunique() < 10 and \n",
        "                    X_train_full[cname].dtype == \"object\"]\n",
        "\n",
        "# Select numerical columns\n",
        "numerical_cols = [cname for cname in X_train_full.columns if \n",
        "                X_train_full[cname].dtype in ['int64', 'float64']]\n",
        "\n",
        "# Keep selected columns only\n",
        "my_cols = categorical_cols + numerical_cols\n",
        "X_train = X_train_full[my_cols].copy()\n",
        "X_test = X_test_full[my_cols].copy()\n"
      ],
      "execution_count": 19,
      "outputs": []
    },
    {
      "cell_type": "code",
      "metadata": {
        "execution": {
          "iopub.execute_input": "2020-12-07T03:38:07.604667Z",
          "iopub.status.busy": "2020-12-07T03:38:07.603943Z",
          "iopub.status.idle": "2020-12-07T03:38:07.605898Z",
          "shell.execute_reply": "2020-12-07T03:38:07.606441Z"
        },
        "papermill": {
          "duration": 0.021736,
          "end_time": "2020-12-07T03:38:07.606585",
          "exception": false,
          "start_time": "2020-12-07T03:38:07.584849",
          "status": "completed"
        },
        "tags": [],
        "id": "cNExbUG0Xyke"
      },
      "source": [
        "# For a future opportunity we could create a new heatmap after \n",
        "# converting categorical data to empirical.  Because this is wrapped in \n",
        "# a pipeline for train and test we'll skip it."
      ],
      "execution_count": 20,
      "outputs": []
    },
    {
      "cell_type": "code",
      "metadata": {
        "execution": {
          "iopub.execute_input": "2020-12-07T03:38:07.640982Z",
          "iopub.status.busy": "2020-12-07T03:38:07.640361Z",
          "iopub.status.idle": "2020-12-07T03:38:10.124698Z",
          "shell.execute_reply": "2020-12-07T03:38:10.124155Z"
        },
        "papermill": {
          "duration": 2.502243,
          "end_time": "2020-12-07T03:38:10.124827",
          "exception": false,
          "start_time": "2020-12-07T03:38:07.622584",
          "status": "completed"
        },
        "tags": [],
        "colab": {
          "base_uri": "https://localhost:8080/",
          "height": 296
        },
        "id": "VBQnMShaXyke",
        "outputId": "f8792f9f-6beb-4fae-c100-b324ad9e180f"
      },
      "source": [
        "from sklearn.compose import ColumnTransformer\n",
        "from sklearn.pipeline import Pipeline\n",
        "from sklearn.impute import SimpleImputer\n",
        "from sklearn.preprocessing import OneHotEncoder\n",
        "from sklearn.ensemble import RandomForestClassifier\n",
        "from sklearn.metrics import mean_absolute_error\n",
        "from sklearn.metrics import accuracy_score, plot_confusion_matrix\n",
        "\n",
        "# Preprocessing for numerical data\n",
        "numerical_transformer = SimpleImputer(strategy='constant')\n",
        "\n",
        "# Preprocessing for categorical data\n",
        "categorical_transformer = Pipeline(steps=[\n",
        "    ('imputer', SimpleImputer(strategy='most_frequent')),\n",
        "    ('onehot', OneHotEncoder(handle_unknown='ignore'))\n",
        "])\n",
        "\n",
        "# Bundle preprocessing for numerical and categorical data\n",
        "preprocessor = ColumnTransformer(\n",
        "    transformers=[\n",
        "        ('num', numerical_transformer, numerical_cols),\n",
        "        ('cat', categorical_transformer, categorical_cols)\n",
        "    ])\n",
        "\n",
        "# Define model\n",
        "model = RandomForestClassifier(n_estimators=100, random_state=0)\n",
        "\n",
        "# Bundle preprocessing and modeling code in a pipeline\n",
        "clf = Pipeline(steps=[('preprocessor', preprocessor),\n",
        "                      ('model', model)\n",
        "                     ])\n",
        "\n",
        "# Preprocessing of training data, fit model \n",
        "clf.fit(X_train, y_train)\n",
        "\n",
        "# Preprocessing of validation data, get predictions\n",
        "preds = clf.predict(X_test)\n",
        "\n",
        "# MAE does not work for classified data so we use accuracy \n",
        "preds_score=accuracy_score(y_test,preds)\n",
        "print(\"Random Forest Classifier Success Rate :\", \"{:.2f}%\".format(100*preds_score))\n",
        "plot_confusion_matrix(clf, X_test, y_test)\n",
        "plt.show()"
      ],
      "execution_count": 21,
      "outputs": [
        {
          "output_type": "stream",
          "text": [
            "Random Forest Classifier Success Rate : 96.10%\n"
          ],
          "name": "stdout"
        },
        {
          "output_type": "display_data",
          "data": {
            "image/png": "[encoded data removed]",
            "text/plain": [
              "<Figure size 432x288 with 2 Axes>"
            ]
          },
          "metadata": {
            "tags": [],
            "needs_background": "light"
          }
        }
      ]
    }
  ]
}