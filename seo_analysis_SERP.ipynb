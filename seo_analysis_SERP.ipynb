{
  "nbformat": 4,
  "nbformat_minor": 0,
  "metadata": {
    "kernelspec": {
      "language": "python",
      "display_name": "Python 3",
      "name": "python3"
    },
    "language_info": {
      "name": "python",
      "version": "3.7.6",
      "mimetype": "text/x-python",
      "codemirror_mode": {
        "name": "ipython",
        "version": 3
      },
      "pygments_lexer": "ipython3",
      "nbconvert_exporter": "python",
      "file_extension": ".py"
    },
    "colab": {
      "name": "seo analysis SERP.ipynb",
      "provenance": [],
      "include_colab_link": true
    }
  },
  "cells": [
    {
      "cell_type": "markdown",
      "metadata": {
        "id": "view-in-github",
        "colab_type": "text"
      },
      "source": [
        "<a href=\"https://colab.research.google.com/github/benvictoria21/pandas/blob/master/seo_analysis_SERP.ipynb\" target=\"_parent\"><img src=\"https://colab.research.google.com/assets/colab-badge.svg\" alt=\"Open In Colab\"/></a>"
      ]
    },
    {
      "cell_type": "code",
      "metadata": {
        "id": "9AAz0jsFDmsO"
      },
      "source": [
        "import pandas as pd\n",
        "import numpy as np"
      ],
      "execution_count": 1,
      "outputs": []
    },
    {
      "cell_type": "code",
      "metadata": {
        "id": "o0U_XhjoDv5e",
        "outputId": "a30e121b-5a96-4fa9-cc9e-5f0fbdeea4d0",
        "colab": {
          "base_uri": "https://localhost:8080/",
          "height": 400
        }
      },
      "source": [
        "june6 = pd.read_csv(\"https://raw.githubusercontent.com/benvictoria21/pandas/master/dataset/Search%20Engine%20Results%20-%20Flights%20%26%20Tickets%20Keywords/flights_tickets_serp2018-12-16.csv\")\n",
        "aug15 = pd.read_csv(\"https://raw.githubusercontent.com/benvictoria21/pandas/master/dataset/Search%20Engine%20Results%20-%20Flights%20%26%20Tickets%20Keywords/flights_tickets_serp2019-01-01.csv\")\n",
        "mar1 = pd.read_csv(\"https://raw.githubusercontent.com/benvictoria21/pandas/master/dataset/Search%20Engine%20Results%20-%20Flights%20%26%20Tickets%20Keywords/flights_tickets_serp2019-01-15.csv\")\n",
        "oct1 = pd.read_csv(\"https://raw.githubusercontent.com/benvictoria21/pandas/master/dataset/Search%20Engine%20Results%20-%20Flights%20%26%20Tickets%20Keywords/flights_tickets_serp2019-02-01.csv\")\n",
        "jan1 = pd.read_csv(\"https://raw.githubusercontent.com/benvictoria21/pandas/master/dataset/Search%20Engine%20Results%20-%20Flights%20%26%20Tickets%20Keywords/flights_tickets_serp2019-02-15.csv\")\n",
        "jan15 = pd.read_csv(\"https://raw.githubusercontent.com/benvictoria21/pandas/master/dataset/Search%20Engine%20Results%20-%20Flights%20%26%20Tickets%20Keywords/flights_tickets_serp2019-03-01.csv\")\n",
        "may15 = pd.read_csv(\"https://raw.githubusercontent.com/benvictoria21/pandas/master/dataset/Search%20Engine%20Results%20-%20Flights%20%26%20Tickets%20Keywords/flights_tickets_serp2019-03-15.csv\")\n",
        "feb15 = pd.read_csv(\"https://raw.githubusercontent.com/benvictoria21/pandas/master/dataset/Search%20Engine%20Results%20-%20Flights%20%26%20Tickets%20Keywords/flights_tickets_serp2019-04-01.csv\")\n",
        "jul15 = pd.read_csv(\"https://raw.githubusercontent.com/benvictoria21/pandas/master/dataset/Search%20Engine%20Results%20-%20Flights%20%26%20Tickets%20Keywords/flights_tickets_serp2019-04-15.csv\")\n",
        "feb1 = pd.read_csv(\"https://raw.githubusercontent.com/benvictoria21/pandas/master/dataset/Search%20Engine%20Results%20-%20Flights%20%26%20Tickets%20Keywords/flights_tickets_serp2019-05-01.csv\")\n",
        "apr15 = pd.read_csv(\"https://raw.githubusercontent.com/benvictoria21/pandas/master/dataset/Search%20Engine%20Results%20-%20Flights%20%26%20Tickets%20Keywords/flights_tickets_serp2019-05-15.csv\")\n",
        "jun1 = pd.read_csv(\"https://raw.githubusercontent.com/benvictoria21/pandas/master/dataset/Search%20Engine%20Results%20-%20Flights%20%26%20Tickets%20Keywords/flights_tickets_serp2019-06-01.csv\")\n",
        "apr1 = pd.read_csv(\"https://raw.githubusercontent.com/benvictoria21/pandas/master/dataset/Search%20Engine%20Results%20-%20Flights%20%26%20Tickets%20Keywords/flights_tickets_serp2019-06-15.csv\")\n",
        "mar15 = pd.read_csv(\"https://raw.githubusercontent.com/benvictoria21/pandas/master/dataset/Search%20Engine%20Results%20-%20Flights%20%26%20Tickets%20Keywords/flights_tickets_serp2019-07-01.csv\")\n",
        "mar1 = pd.read_csv(\"https://raw.githubusercontent.com/benvictoria21/pandas/master/dataset/Search%20Engine%20Results%20-%20Flights%20%26%20Tickets%20Keywords/flights_tickets_serp2019-08-01.csv\")\n",
        "sept15 = pd.read_csv(\"https://raw.githubusercontent.com/benvictoria21/pandas/master/dataset/Search%20Engine%20Results%20-%20Flights%20%26%20Tickets%20Keywords/flights_tickets_serp2019-08-15.csv\")\n",
        "dec16 = pd.read_csv(\"https://raw.githubusercontent.com/benvictoria21/pandas/master/dataset/Search%20Engine%20Results%20-%20Flights%20%26%20Tickets%20Keywords/flights_tickets_serp2019-09-01.csv\")\n",
        "jul1 = pd.read_csv(\"https://raw.githubusercontent.com/benvictoria21/pandas/master/dataset/Search%20Engine%20Results%20-%20Flights%20%26%20Tickets%20Keywords/flights_tickets_serp2019-09-15.csv\")\n",
        "may1 = pd.read_csv(\"https://raw.githubusercontent.com/benvictoria21/pandas/master/dataset/Search%20Engine%20Results%20-%20Flights%20%26%20Tickets%20Keywords/flights_tickets_serp2019-10-01.csv\")\n",
        "feb15 = pd.read_csv(\"https://raw.githubusercontent.com/benvictoria21/pandas/master/dataset/Search%20Engine%20Results%20-%20Flights%20%26%20Tickets%20Keywords/flights_tickets_serp2020-02-15.csv\")\n",
        "sept1 = pd.read_csv(\"https://raw.githubusercontent.com/benvictoria21/pandas/master/dataset/Search%20Engine%20Results%20-%20Flights%20%26%20Tickets%20Keywords/flights_tickets_serp2020-03-01.csv\")\n",
        "aug1 = pd.read_csv(\"https://raw.githubusercontent.com/benvictoria21/pandas/master/dataset/Search%20Engine%20Results%20-%20Flights%20%26%20Tickets%20Keywords/flights_tickets_serp2020-03-15.csv\")\n",
        "june6.head(3)"
      ],
      "execution_count": 3,
      "outputs": [
        {
          "output_type": "execute_result",
          "data": {
            "text/html": [
              "<div>\n",
              "<style scoped>\n",
              "    .dataframe tbody tr th:only-of-type {\n",
              "        vertical-align: middle;\n",
              "    }\n",
              "\n",
              "    .dataframe tbody tr th {\n",
              "        vertical-align: top;\n",
              "    }\n",
              "\n",
              "    .dataframe thead th {\n",
              "        text-align: right;\n",
              "    }\n",
              "</style>\n",
              "<table border=\"1\" class=\"dataframe\">\n",
              "  <thead>\n",
              "    <tr style=\"text-align: right;\">\n",
              "      <th></th>\n",
              "      <th>searchTerms</th>\n",
              "      <th>rank</th>\n",
              "      <th>title</th>\n",
              "      <th>snippet</th>\n",
              "      <th>displayLink</th>\n",
              "      <th>link</th>\n",
              "      <th>queryTime</th>\n",
              "      <th>totalResults</th>\n",
              "      <th>cacheId</th>\n",
              "      <th>formattedUrl</th>\n",
              "      <th>htmlFormattedUrl</th>\n",
              "      <th>htmlSnippet</th>\n",
              "      <th>htmlTitle</th>\n",
              "      <th>kind</th>\n",
              "      <th>pagemap</th>\n",
              "      <th>cseName</th>\n",
              "      <th>count</th>\n",
              "      <th>startIndex</th>\n",
              "      <th>inputEncoding</th>\n",
              "      <th>outputEncoding</th>\n",
              "      <th>safe</th>\n",
              "      <th>cx</th>\n",
              "      <th>gl</th>\n",
              "      <th>searchTime</th>\n",
              "      <th>formattedSearchTime</th>\n",
              "      <th>formattedTotalResults</th>\n",
              "    </tr>\n",
              "  </thead>\n",
              "  <tbody>\n",
              "    <tr>\n",
              "      <th>0</th>\n",
              "      <td>flights to hong kong</td>\n",
              "      <td>1</td>\n",
              "      <td>Cheap Flights to Hong Kong (HKG) from $397 - K...</td>\n",
              "      <td>Find flights to Hong Kong on XiamenAir, Hong K...</td>\n",
              "      <td>www.kayak.com</td>\n",
              "      <td>https://www.kayak.com/flight-routes/United-Sta...</td>\n",
              "      <td>2018-12-16 11:26:30.485612+00:00</td>\n",
              "      <td>106000000</td>\n",
              "      <td>W42baDpas_gJ</td>\n",
              "      <td>https://www.kayak.com/flight-routes/United.../...</td>\n",
              "      <td>https://www.kayak.com/&lt;b&gt;flight&lt;/b&gt;-routes/Uni...</td>\n",
              "      <td>Find &lt;b&gt;flights to Hong Kong&lt;/b&gt; on XiamenAir,...</td>\n",
              "      <td>Cheap &lt;b&gt;Flights to Hong Kong&lt;/b&gt; (HKG) from $...</td>\n",
              "      <td>customsearch#result</td>\n",
              "      <td>{'cse_thumbnail': [{'width': '310', 'height': ...</td>\n",
              "      <td>PySearch</td>\n",
              "      <td>10</td>\n",
              "      <td>1</td>\n",
              "      <td>utf8</td>\n",
              "      <td>utf8</td>\n",
              "      <td>off</td>\n",
              "      <td>012859022920491477448:pubdbfjmmec</td>\n",
              "      <td>us</td>\n",
              "      <td>0.162895</td>\n",
              "      <td>0.16</td>\n",
              "      <td>106,000,000</td>\n",
              "    </tr>\n",
              "    <tr>\n",
              "      <th>1</th>\n",
              "      <td>flights to hong kong</td>\n",
              "      <td>2</td>\n",
              "      <td>$480 Flights to Hong Kong, China (HKG) - TripA...</td>\n",
              "      <td>Cheap Flights to Hong Kong: Enter your dates o...</td>\n",
              "      <td>www.tripadvisor.com</td>\n",
              "      <td>https://www.tripadvisor.com/Flights-g294217-Ho...</td>\n",
              "      <td>2018-12-16 11:26:30.485612+00:00</td>\n",
              "      <td>106000000</td>\n",
              "      <td>5jsjhmxgxvkJ</td>\n",
              "      <td>https://www.tripadvisor.com/Flights-g294217-Ho...</td>\n",
              "      <td>https://www.tripadvisor.com/&lt;b&gt;Flights&lt;/b&gt;-g29...</td>\n",
              "      <td>Cheap &lt;b&gt;Flights to Hong Kong&lt;/b&gt;: Enter your ...</td>\n",
              "      <td>$480 &lt;b&gt;Flights to Hong Kong&lt;/b&gt;, China (HKG) ...</td>\n",
              "      <td>customsearch#result</td>\n",
              "      <td>{'cse_thumbnail': [{'width': '300', 'height': ...</td>\n",
              "      <td>PySearch</td>\n",
              "      <td>10</td>\n",
              "      <td>1</td>\n",
              "      <td>utf8</td>\n",
              "      <td>utf8</td>\n",
              "      <td>off</td>\n",
              "      <td>012859022920491477448:pubdbfjmmec</td>\n",
              "      <td>us</td>\n",
              "      <td>0.162895</td>\n",
              "      <td>0.16</td>\n",
              "      <td>106,000,000</td>\n",
              "    </tr>\n",
              "    <tr>\n",
              "      <th>2</th>\n",
              "      <td>flights to hong kong</td>\n",
              "      <td>3</td>\n",
              "      <td>Cheap Flights to Hong Kong International from ...</td>\n",
              "      <td>Search cheap flights using Skyscanner's free f...</td>\n",
              "      <td>www.skyscanner.com</td>\n",
              "      <td>https://www.skyscanner.com/flights-to/hkg/chea...</td>\n",
              "      <td>2018-12-16 11:26:30.485612+00:00</td>\n",
              "      <td>106000000</td>\n",
              "      <td>EI78TI4Q1qYJ</td>\n",
              "      <td>https://www.skyscanner.com/flights-to/hkg/chea...</td>\n",
              "      <td>https://www.skyscanner.com/&lt;b&gt;flights-to/hk&lt;/b...</td>\n",
              "      <td>Search cheap &lt;b&gt;flights&lt;/b&gt; using Skyscanner&amp;#...</td>\n",
              "      <td>Cheap &lt;b&gt;Flights to Hong Kong&lt;/b&gt; Internationa...</td>\n",
              "      <td>customsearch#result</td>\n",
              "      <td>{'metatags': [{'viewport': 'width=device-width...</td>\n",
              "      <td>PySearch</td>\n",
              "      <td>10</td>\n",
              "      <td>1</td>\n",
              "      <td>utf8</td>\n",
              "      <td>utf8</td>\n",
              "      <td>off</td>\n",
              "      <td>012859022920491477448:pubdbfjmmec</td>\n",
              "      <td>us</td>\n",
              "      <td>0.162895</td>\n",
              "      <td>0.16</td>\n",
              "      <td>106,000,000</td>\n",
              "    </tr>\n",
              "  </tbody>\n",
              "</table>\n",
              "</div>"
            ],
            "text/plain": [
              "            searchTerms  rank  ... formattedSearchTime formattedTotalResults\n",
              "0  flights to hong kong     1  ...                0.16           106,000,000\n",
              "1  flights to hong kong     2  ...                0.16           106,000,000\n",
              "2  flights to hong kong     3  ...                0.16           106,000,000\n",
              "\n",
              "[3 rows x 26 columns]"
            ]
          },
          "metadata": {
            "tags": []
          },
          "execution_count": 3
        }
      ]
    },
    {
      "cell_type": "code",
      "metadata": {
        "id": "S6dbv2eeFjVL",
        "outputId": "95f3a91b-24c6-4a5f-e58b-f1b013dbba97",
        "colab": {
          "base_uri": "https://localhost:8080/",
          "height": 225
        }
      },
      "source": [
        "june6.displayLink.value_counts()"
      ],
      "execution_count": 5,
      "outputs": [
        {
          "output_type": "execute_result",
          "data": {
            "text/plain": [
              "www.skyscanner.net          361\n",
              "www.tripadvisor.com         285\n",
              "www.expedia.com             247\n",
              "www.kayak.com               196\n",
              "www.cheapflights.com        178\n",
              "                           ... \n",
              "www.southernrailway.com       1\n",
              "discovercracow.com            1\n",
              "www.sydneyairport.com.au      1\n",
              "www.seat61.com                1\n",
              "www.meccabingo.com            1\n",
              "Name: displayLink, Length: 271, dtype: int64"
            ]
          },
          "metadata": {
            "tags": []
          },
          "execution_count": 5
        }
      ]
    },
    {
      "cell_type": "code",
      "metadata": {
        "id": "vvouDsKmGDI9"
      },
      "source": [
        "all = pd.concat([june6, aug15, mar1, oct1, jan1, jan15, may15, feb15, jul15, feb1, apr15, jun1, apr1 , mar15, mar1, sept15, dec16, jul1, may1, feb15, sept1, aug1])"
      ],
      "execution_count": 6,
      "outputs": []
    },
    {
      "cell_type": "code",
      "metadata": {
        "id": "tJTCR7OYGHzg",
        "outputId": "3c638521-8b87-44bc-b9ef-c7c220abaae2",
        "colab": {
          "base_uri": "https://localhost:8080/",
          "height": 225
        }
      },
      "source": [
        "most_popular = all.displayLink.value_counts()\n",
        "\n",
        "most_popular"
      ],
      "execution_count": 7,
      "outputs": [
        {
          "output_type": "execute_result",
          "data": {
            "text/plain": [
              "www.skyscanner.net            7599\n",
              "www.tripadvisor.com           6019\n",
              "www.expedia.com               5243\n",
              "www.kayak.com                 4252\n",
              "www.cheapflights.com          4036\n",
              "                              ... \n",
              "www.barcelona-airport.com        1\n",
              "www.bhayacruises.com             1\n",
              "www.wieliczka-saltmine.com       1\n",
              "www.cambodiaangkorair.com        1\n",
              "www.flightcentre.co.nz           1\n",
              "Name: displayLink, Length: 627, dtype: int64"
            ]
          },
          "metadata": {
            "tags": []
          },
          "execution_count": 7
        }
      ]
    },
    {
      "cell_type": "code",
      "metadata": {
        "id": "CSajKP72GJP_",
        "outputId": "51ca7433-7bc5-4a97-bcc5-e600609672d6",
        "colab": {
          "base_uri": "https://localhost:8080/",
          "height": 407
        }
      },
      "source": [
        "mean_rank = all[['displayLink', 'rank']].groupby(['displayLink'], as_index=False).mean().sort_values(by='rank')\n",
        "mean_rank"
      ],
      "execution_count": 8,
      "outputs": [
        {
          "output_type": "execute_result",
          "data": {
            "text/html": [
              "<div>\n",
              "<style scoped>\n",
              "    .dataframe tbody tr th:only-of-type {\n",
              "        vertical-align: middle;\n",
              "    }\n",
              "\n",
              "    .dataframe tbody tr th {\n",
              "        vertical-align: top;\n",
              "    }\n",
              "\n",
              "    .dataframe thead th {\n",
              "        text-align: right;\n",
              "    }\n",
              "</style>\n",
              "<table border=\"1\" class=\"dataframe\">\n",
              "  <thead>\n",
              "    <tr style=\"text-align: right;\">\n",
              "      <th></th>\n",
              "      <th>displayLink</th>\n",
              "      <th>rank</th>\n",
              "    </tr>\n",
              "  </thead>\n",
              "  <tbody>\n",
              "    <tr>\n",
              "      <th>390</th>\n",
              "      <td>www.ktmtrain.com</td>\n",
              "      <td>1.527778</td>\n",
              "    </tr>\n",
              "    <tr>\n",
              "      <th>581</th>\n",
              "      <td>www.turbojet.com.hk</td>\n",
              "      <td>1.818182</td>\n",
              "    </tr>\n",
              "    <tr>\n",
              "      <th>382</th>\n",
              "      <td>www.kayak.com</td>\n",
              "      <td>2.500941</td>\n",
              "    </tr>\n",
              "    <tr>\n",
              "      <th>317</th>\n",
              "      <td>www.getyourguide.com</td>\n",
              "      <td>2.543478</td>\n",
              "    </tr>\n",
              "    <tr>\n",
              "      <th>33</th>\n",
              "      <td>en.zhuhaichampionships.cn</td>\n",
              "      <td>2.625000</td>\n",
              "    </tr>\n",
              "    <tr>\n",
              "      <th>...</th>\n",
              "      <td>...</td>\n",
              "      <td>...</td>\n",
              "    </tr>\n",
              "    <tr>\n",
              "      <th>323</th>\n",
              "      <td>www.gov.uk</td>\n",
              "      <td>10.000000</td>\n",
              "    </tr>\n",
              "    <tr>\n",
              "      <th>341</th>\n",
              "      <td>www.horti-expo2019.org</td>\n",
              "      <td>10.000000</td>\n",
              "    </tr>\n",
              "    <tr>\n",
              "      <th>343</th>\n",
              "      <td>www.howto-osaka.com</td>\n",
              "      <td>10.000000</td>\n",
              "    </tr>\n",
              "    <tr>\n",
              "      <th>359</th>\n",
              "      <td>www.istairport.com</td>\n",
              "      <td>10.000000</td>\n",
              "    </tr>\n",
              "    <tr>\n",
              "      <th>626</th>\n",
              "      <td>www.zoobudapest.com</td>\n",
              "      <td>10.000000</td>\n",
              "    </tr>\n",
              "  </tbody>\n",
              "</table>\n",
              "<p>627 rows × 2 columns</p>\n",
              "</div>"
            ],
            "text/plain": [
              "                   displayLink       rank\n",
              "390           www.ktmtrain.com   1.527778\n",
              "581        www.turbojet.com.hk   1.818182\n",
              "382              www.kayak.com   2.500941\n",
              "317       www.getyourguide.com   2.543478\n",
              "33   en.zhuhaichampionships.cn   2.625000\n",
              "..                         ...        ...\n",
              "323                 www.gov.uk  10.000000\n",
              "341     www.horti-expo2019.org  10.000000\n",
              "343        www.howto-osaka.com  10.000000\n",
              "359         www.istairport.com  10.000000\n",
              "626        www.zoobudapest.com  10.000000\n",
              "\n",
              "[627 rows x 2 columns]"
            ]
          },
          "metadata": {
            "tags": []
          },
          "execution_count": 8
        }
      ]
    },
    {
      "cell_type": "code",
      "metadata": {
        "id": "-vKMEoLpGK53",
        "outputId": "0af0de1e-53cc-4fab-db3c-0f7e9658c3c8",
        "colab": {
          "base_uri": "https://localhost:8080/",
          "height": 225
        }
      },
      "source": [
        "all.link.value_counts()"
      ],
      "execution_count": 9,
      "outputs": [
        {
          "output_type": "execute_result",
          "data": {
            "text/plain": [
              "https://www.skyscanner.net/flights-to/osaa/cheap-flights-to-osaka.html                                                 90\n",
              "https://www.opodo.co.uk/flights/antalya/AYT/                                                                           88\n",
              "https://www.expedia.com/Cheap-Flights-To-Jeju-Island.d6049718.Travel-Guide-Flights                                     88\n",
              "https://www.skyscanner.net/flights-to/doh/cheap-flights-to-hamad-international-airport.html                            88\n",
              "https://www.kayak.co.uk/flight-routes/United-Kingdom-GB0/Heraklion-N-Kazantzakis-Apt--HER                              88\n",
              "                                                                                                                       ..\n",
              "https://www.tripadvisor.com.sg/Flights-g652370-Artvin_Province_Turkish_Black_Sea_Coast-Cheap_Discount_Airfares.html     1\n",
              "http://www.nusatrip.com/en/flights/from/penang_island_PEN/to/denpasar_DPS                                               1\n",
              "https://www.edreams.co.uk/flights/jakarta/JKT/                                                                          1\n",
              "https://www.skyscanner.com.sg/flights-to/sela/cheap-flights-to-seoul.html                                               1\n",
              "https://wizzair.com/en-gb/flights/vienna                                                                                1\n",
              "Name: link, Length: 4713, dtype: int64"
            ]
          },
          "metadata": {
            "tags": []
          },
          "execution_count": 9
        }
      ]
    }
  ]
}