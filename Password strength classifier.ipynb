{
 "cells": [
  {
   "cell_type": "code",
   "execution_count": 1,
   "id": "9f8b5e10",
   "metadata": {
    "datalore": {
     "hide_input_from_viewers": false,
     "hide_output_from_viewers": false,
     "type": "CODE"
    },
    "execution": {
     "iopub.execute_input": "2022-03-29T21:26:31.001102Z",
     "iopub.status.busy": "2022-03-29T21:26:31.000494Z",
     "iopub.status.idle": "2022-03-29T21:26:32.150496Z",
     "shell.execute_reply": "2022-03-29T21:26:32.151499Z",
     "shell.execute_reply.started": "2022-03-29T21:24:39.891290Z"
    },
    "papermill": {
     "duration": 1.175697,
     "end_time": "2022-03-29T21:26:32.151870",
     "exception": false,
     "start_time": "2022-03-29T21:26:30.976173",
     "status": "completed"
    },
    "tags": []
   },
   "outputs": [],
   "source": [
    "import pandas as pd\n",
    "import numpy as np\n",
    "import seaborn as sns \n",
    "import matplotlib.pyplot as plt"
   ]
  },
  {
   "cell_type": "code",
   "execution_count": 2,
   "id": "ec0500b2",
   "metadata": {
    "datalore": {
     "hide_input_from_viewers": false,
     "hide_output_from_viewers": false,
     "type": "CODE"
    },
    "execution": {
     "iopub.execute_input": "2022-03-29T21:26:32.190477Z",
     "iopub.status.busy": "2022-03-29T21:26:32.189669Z",
     "iopub.status.idle": "2022-03-29T21:26:34.816407Z",
     "shell.execute_reply": "2022-03-29T21:26:34.815732Z",
     "shell.execute_reply.started": "2022-03-29T21:24:41.401147Z"
    },
    "papermill": {
     "duration": 2.644565,
     "end_time": "2022-03-29T21:26:34.816557",
     "exception": false,
     "start_time": "2022-03-29T21:26:32.171992",
     "status": "completed"
    },
    "tags": []
   },
   "outputs": [
    {
     "name": "stderr",
     "output_type": "stream",
     "text": [
      "/opt/conda/lib/python3.7/site-packages/IPython/core/interactiveshell.py:3457: FutureWarning: In a future version of pandas all arguments of read_csv except for the argument 'filepath_or_buffer' will be keyword-only\n",
      "  exec(code_obj, self.user_global_ns, self.user_ns)\n",
      "/opt/conda/lib/python3.7/site-packages/IPython/core/interactiveshell.py:3457: FutureWarning: The error_bad_lines argument has been deprecated and will be removed in a future version.\n",
      "\n",
      "\n",
      "  exec(code_obj, self.user_global_ns, self.user_ns)\n",
      "Skipping line 2810: Expected 2 fields in line 2810, saw 5\n",
      "Skipping line 4641: Expected 2 fields in line 4641, saw 5\n",
      "Skipping line 7171: Expected 2 fields in line 7171, saw 5\n",
      "Skipping line 11220: Expected 2 fields in line 11220, saw 5\n",
      "Skipping line 13809: Expected 2 fields in line 13809, saw 5\n",
      "Skipping line 14132: Expected 2 fields in line 14132, saw 5\n",
      "Skipping line 14293: Expected 2 fields in line 14293, saw 5\n",
      "Skipping line 14865: Expected 2 fields in line 14865, saw 5\n",
      "Skipping line 17419: Expected 2 fields in line 17419, saw 5\n",
      "Skipping line 22801: Expected 2 fields in line 22801, saw 5\n",
      "Skipping line 25001: Expected 2 fields in line 25001, saw 5\n",
      "Skipping line 26603: Expected 2 fields in line 26603, saw 5\n",
      "Skipping line 26742: Expected 2 fields in line 26742, saw 5\n",
      "Skipping line 29702: Expected 2 fields in line 29702, saw 5\n",
      "Skipping line 32767: Expected 2 fields in line 32767, saw 5\n",
      "Skipping line 32878: Expected 2 fields in line 32878, saw 5\n",
      "Skipping line 35643: Expected 2 fields in line 35643, saw 5\n",
      "Skipping line 36550: Expected 2 fields in line 36550, saw 5\n",
      "Skipping line 38732: Expected 2 fields in line 38732, saw 5\n",
      "Skipping line 40567: Expected 2 fields in line 40567, saw 5\n",
      "Skipping line 40576: Expected 2 fields in line 40576, saw 5\n",
      "Skipping line 41864: Expected 2 fields in line 41864, saw 5\n",
      "Skipping line 46861: Expected 2 fields in line 46861, saw 5\n",
      "Skipping line 47939: Expected 2 fields in line 47939, saw 5\n",
      "Skipping line 48628: Expected 2 fields in line 48628, saw 5\n",
      "Skipping line 48908: Expected 2 fields in line 48908, saw 5\n",
      "Skipping line 57582: Expected 2 fields in line 57582, saw 5\n",
      "Skipping line 58782: Expected 2 fields in line 58782, saw 5\n",
      "Skipping line 58984: Expected 2 fields in line 58984, saw 5\n",
      "Skipping line 61518: Expected 2 fields in line 61518, saw 5\n",
      "Skipping line 63451: Expected 2 fields in line 63451, saw 5\n",
      "Skipping line 68141: Expected 2 fields in line 68141, saw 5\n",
      "Skipping line 72083: Expected 2 fields in line 72083, saw 5\n",
      "Skipping line 74027: Expected 2 fields in line 74027, saw 5\n",
      "Skipping line 77811: Expected 2 fields in line 77811, saw 5\n",
      "Skipping line 83958: Expected 2 fields in line 83958, saw 5\n",
      "Skipping line 85295: Expected 2 fields in line 85295, saw 5\n",
      "Skipping line 88665: Expected 2 fields in line 88665, saw 5\n",
      "Skipping line 89198: Expected 2 fields in line 89198, saw 5\n",
      "Skipping line 92499: Expected 2 fields in line 92499, saw 5\n",
      "Skipping line 92751: Expected 2 fields in line 92751, saw 5\n",
      "Skipping line 93689: Expected 2 fields in line 93689, saw 5\n",
      "Skipping line 94776: Expected 2 fields in line 94776, saw 5\n",
      "Skipping line 97334: Expected 2 fields in line 97334, saw 5\n",
      "Skipping line 102316: Expected 2 fields in line 102316, saw 5\n",
      "Skipping line 103421: Expected 2 fields in line 103421, saw 5\n",
      "Skipping line 106872: Expected 2 fields in line 106872, saw 5\n",
      "Skipping line 109363: Expected 2 fields in line 109363, saw 5\n",
      "Skipping line 110117: Expected 2 fields in line 110117, saw 5\n",
      "Skipping line 110465: Expected 2 fields in line 110465, saw 5\n",
      "Skipping line 113843: Expected 2 fields in line 113843, saw 5\n",
      "Skipping line 115634: Expected 2 fields in line 115634, saw 5\n",
      "Skipping line 121518: Expected 2 fields in line 121518, saw 5\n",
      "Skipping line 123692: Expected 2 fields in line 123692, saw 5\n",
      "Skipping line 124708: Expected 2 fields in line 124708, saw 5\n",
      "Skipping line 129608: Expected 2 fields in line 129608, saw 5\n",
      "Skipping line 133176: Expected 2 fields in line 133176, saw 5\n",
      "Skipping line 135532: Expected 2 fields in line 135532, saw 5\n",
      "Skipping line 138042: Expected 2 fields in line 138042, saw 5\n",
      "Skipping line 139485: Expected 2 fields in line 139485, saw 5\n",
      "Skipping line 140401: Expected 2 fields in line 140401, saw 5\n",
      "Skipping line 144093: Expected 2 fields in line 144093, saw 5\n",
      "Skipping line 149850: Expected 2 fields in line 149850, saw 5\n",
      "Skipping line 151831: Expected 2 fields in line 151831, saw 5\n",
      "Skipping line 158014: Expected 2 fields in line 158014, saw 5\n",
      "Skipping line 162047: Expected 2 fields in line 162047, saw 5\n",
      "Skipping line 164515: Expected 2 fields in line 164515, saw 5\n",
      "Skipping line 170313: Expected 2 fields in line 170313, saw 5\n",
      "Skipping line 171325: Expected 2 fields in line 171325, saw 5\n",
      "Skipping line 171424: Expected 2 fields in line 171424, saw 5\n",
      "Skipping line 175920: Expected 2 fields in line 175920, saw 5\n",
      "Skipping line 176210: Expected 2 fields in line 176210, saw 5\n",
      "Skipping line 183603: Expected 2 fields in line 183603, saw 5\n",
      "Skipping line 190264: Expected 2 fields in line 190264, saw 5\n",
      "Skipping line 191683: Expected 2 fields in line 191683, saw 5\n",
      "Skipping line 191988: Expected 2 fields in line 191988, saw 5\n",
      "Skipping line 195450: Expected 2 fields in line 195450, saw 5\n",
      "Skipping line 195754: Expected 2 fields in line 195754, saw 5\n",
      "Skipping line 197124: Expected 2 fields in line 197124, saw 5\n",
      "Skipping line 199263: Expected 2 fields in line 199263, saw 5\n",
      "Skipping line 202603: Expected 2 fields in line 202603, saw 5\n",
      "Skipping line 209960: Expected 2 fields in line 209960, saw 5\n",
      "Skipping line 213218: Expected 2 fields in line 213218, saw 5\n",
      "Skipping line 217060: Expected 2 fields in line 217060, saw 5\n",
      "Skipping line 220121: Expected 2 fields in line 220121, saw 5\n",
      "Skipping line 223518: Expected 2 fields in line 223518, saw 5\n",
      "Skipping line 226293: Expected 2 fields in line 226293, saw 5\n",
      "Skipping line 227035: Expected 2 fields in line 227035, saw 7\n",
      "Skipping line 227341: Expected 2 fields in line 227341, saw 5\n",
      "Skipping line 227808: Expected 2 fields in line 227808, saw 5\n",
      "Skipping line 228516: Expected 2 fields in line 228516, saw 5\n",
      "Skipping line 228733: Expected 2 fields in line 228733, saw 5\n",
      "Skipping line 232043: Expected 2 fields in line 232043, saw 5\n",
      "Skipping line 232426: Expected 2 fields in line 232426, saw 5\n",
      "Skipping line 234490: Expected 2 fields in line 234490, saw 5\n",
      "Skipping line 239626: Expected 2 fields in line 239626, saw 5\n",
      "Skipping line 240461: Expected 2 fields in line 240461, saw 5\n",
      "Skipping line 244518: Expected 2 fields in line 244518, saw 5\n",
      "Skipping line 245395: Expected 2 fields in line 245395, saw 5\n",
      "Skipping line 246168: Expected 2 fields in line 246168, saw 5\n",
      "Skipping line 246655: Expected 2 fields in line 246655, saw 5\n",
      "Skipping line 246752: Expected 2 fields in line 246752, saw 5\n",
      "Skipping line 247189: Expected 2 fields in line 247189, saw 5\n",
      "Skipping line 250276: Expected 2 fields in line 250276, saw 5\n",
      "Skipping line 255327: Expected 2 fields in line 255327, saw 5\n",
      "Skipping line 257094: Expected 2 fields in line 257094, saw 5\n",
      "Skipping line 264626: Expected 2 fields in line 264626, saw 5\n",
      "Skipping line 265028: Expected 2 fields in line 265028, saw 5\n",
      "Skipping line 269150: Expected 2 fields in line 269150, saw 5\n",
      "Skipping line 271360: Expected 2 fields in line 271360, saw 5\n",
      "Skipping line 273975: Expected 2 fields in line 273975, saw 5\n",
      "Skipping line 274742: Expected 2 fields in line 274742, saw 5\n",
      "Skipping line 276227: Expected 2 fields in line 276227, saw 5\n",
      "Skipping line 279807: Expected 2 fields in line 279807, saw 5\n",
      "Skipping line 283425: Expected 2 fields in line 283425, saw 5\n",
      "Skipping line 287468: Expected 2 fields in line 287468, saw 5\n",
      "Skipping line 292995: Expected 2 fields in line 292995, saw 5\n",
      "Skipping line 293496: Expected 2 fields in line 293496, saw 5\n",
      "Skipping line 293735: Expected 2 fields in line 293735, saw 5\n",
      "Skipping line 295060: Expected 2 fields in line 295060, saw 5\n",
      "Skipping line 296643: Expected 2 fields in line 296643, saw 5\n",
      "Skipping line 296848: Expected 2 fields in line 296848, saw 5\n",
      "Skipping line 308926: Expected 2 fields in line 308926, saw 5\n",
      "Skipping line 310360: Expected 2 fields in line 310360, saw 5\n",
      "Skipping line 317004: Expected 2 fields in line 317004, saw 5\n",
      "Skipping line 318207: Expected 2 fields in line 318207, saw 5\n",
      "Skipping line 331783: Expected 2 fields in line 331783, saw 5\n",
      "Skipping line 333864: Expected 2 fields in line 333864, saw 5\n",
      "Skipping line 335958: Expected 2 fields in line 335958, saw 5\n",
      "Skipping line 336290: Expected 2 fields in line 336290, saw 5\n",
      "Skipping line 343526: Expected 2 fields in line 343526, saw 5\n",
      "Skipping line 343857: Expected 2 fields in line 343857, saw 5\n",
      "Skipping line 344059: Expected 2 fields in line 344059, saw 5\n",
      "Skipping line 348691: Expected 2 fields in line 348691, saw 5\n",
      "Skipping line 353446: Expected 2 fields in line 353446, saw 5\n",
      "Skipping line 357073: Expected 2 fields in line 357073, saw 5\n",
      "Skipping line 359753: Expected 2 fields in line 359753, saw 5\n",
      "Skipping line 359974: Expected 2 fields in line 359974, saw 5\n",
      "Skipping line 366534: Expected 2 fields in line 366534, saw 5\n",
      "Skipping line 369514: Expected 2 fields in line 369514, saw 5\n",
      "Skipping line 377759: Expected 2 fields in line 377759, saw 5\n",
      "Skipping line 379327: Expected 2 fields in line 379327, saw 5\n",
      "Skipping line 380769: Expected 2 fields in line 380769, saw 5\n",
      "Skipping line 381073: Expected 2 fields in line 381073, saw 5\n",
      "Skipping line 381489: Expected 2 fields in line 381489, saw 5\n",
      "Skipping line 386304: Expected 2 fields in line 386304, saw 5\n",
      "Skipping line 387635: Expected 2 fields in line 387635, saw 5\n",
      "Skipping line 389613: Expected 2 fields in line 389613, saw 5\n",
      "Skipping line 392604: Expected 2 fields in line 392604, saw 5\n",
      "Skipping line 393184: Expected 2 fields in line 393184, saw 5\n",
      "Skipping line 395530: Expected 2 fields in line 395530, saw 5\n",
      "Skipping line 396939: Expected 2 fields in line 396939, saw 5\n",
      "Skipping line 397385: Expected 2 fields in line 397385, saw 5\n",
      "Skipping line 397509: Expected 2 fields in line 397509, saw 5\n",
      "Skipping line 402902: Expected 2 fields in line 402902, saw 5\n",
      "Skipping line 405187: Expected 2 fields in line 405187, saw 5\n",
      "Skipping line 408412: Expected 2 fields in line 408412, saw 5\n",
      "Skipping line 419423: Expected 2 fields in line 419423, saw 5\n",
      "Skipping line 420962: Expected 2 fields in line 420962, saw 5\n",
      "Skipping line 425965: Expected 2 fields in line 425965, saw 5\n",
      "Skipping line 427496: Expected 2 fields in line 427496, saw 5\n",
      "Skipping line 438881: Expected 2 fields in line 438881, saw 5\n",
      "Skipping line 439776: Expected 2 fields in line 439776, saw 5\n",
      "Skipping line 440345: Expected 2 fields in line 440345, saw 5\n",
      "Skipping line 445507: Expected 2 fields in line 445507, saw 5\n",
      "Skipping line 445548: Expected 2 fields in line 445548, saw 5\n",
      "Skipping line 447184: Expected 2 fields in line 447184, saw 5\n",
      "Skipping line 448603: Expected 2 fields in line 448603, saw 5\n",
      "Skipping line 451732: Expected 2 fields in line 451732, saw 5\n",
      "Skipping line 458249: Expected 2 fields in line 458249, saw 5\n",
      "Skipping line 460274: Expected 2 fields in line 460274, saw 5\n",
      "Skipping line 467630: Expected 2 fields in line 467630, saw 5\n",
      "Skipping line 473961: Expected 2 fields in line 473961, saw 5\n",
      "Skipping line 476281: Expected 2 fields in line 476281, saw 5\n",
      "Skipping line 478010: Expected 2 fields in line 478010, saw 5\n",
      "Skipping line 478322: Expected 2 fields in line 478322, saw 5\n",
      "Skipping line 479999: Expected 2 fields in line 479999, saw 5\n",
      "Skipping line 480898: Expected 2 fields in line 480898, saw 5\n",
      "Skipping line 481688: Expected 2 fields in line 481688, saw 5\n",
      "Skipping line 485193: Expected 2 fields in line 485193, saw 5\n",
      "Skipping line 485519: Expected 2 fields in line 485519, saw 5\n",
      "Skipping line 486000: Expected 2 fields in line 486000, saw 5\n",
      "Skipping line 489063: Expected 2 fields in line 489063, saw 5\n",
      "Skipping line 494525: Expected 2 fields in line 494525, saw 5\n",
      "Skipping line 495009: Expected 2 fields in line 495009, saw 5\n",
      "Skipping line 501954: Expected 2 fields in line 501954, saw 5\n",
      "Skipping line 508035: Expected 2 fields in line 508035, saw 5\n",
      "Skipping line 508828: Expected 2 fields in line 508828, saw 5\n",
      "Skipping line 509833: Expected 2 fields in line 509833, saw 5\n",
      "Skipping line 510410: Expected 2 fields in line 510410, saw 5\n",
      "Skipping line 518229: Expected 2 fields in line 518229, saw 5\n",
      "Skipping line 520302: Expected 2 fields in line 520302, saw 5\n",
      "Skipping line 520340: Expected 2 fields in line 520340, saw 5\n",
      "Skipping line 525174: Expected 2 fields in line 525174, saw 5\n",
      "Skipping line 526251: Expected 2 fields in line 526251, saw 5\n",
      "Skipping line 529611: Expected 2 fields in line 529611, saw 5\n",
      "Skipping line 531398: Expected 2 fields in line 531398, saw 5\n",
      "Skipping line 534146: Expected 2 fields in line 534146, saw 5\n",
      "Skipping line 544954: Expected 2 fields in line 544954, saw 5\n",
      "Skipping line 553002: Expected 2 fields in line 553002, saw 5\n",
      "Skipping line 553883: Expected 2 fields in line 553883, saw 5\n",
      "Skipping line 553887: Expected 2 fields in line 553887, saw 5\n",
      "Skipping line 553915: Expected 2 fields in line 553915, saw 5\n",
      "Skipping line 554172: Expected 2 fields in line 554172, saw 5\n",
      "Skipping line 563534: Expected 2 fields in line 563534, saw 5\n",
      "Skipping line 565191: Expected 2 fields in line 565191, saw 5\n",
      "Skipping line 574108: Expected 2 fields in line 574108, saw 5\n",
      "Skipping line 574412: Expected 2 fields in line 574412, saw 5\n",
      "Skipping line 575985: Expected 2 fields in line 575985, saw 5\n",
      "Skipping line 580091: Expected 2 fields in line 580091, saw 5\n",
      "Skipping line 582682: Expected 2 fields in line 582682, saw 5\n",
      "Skipping line 585885: Expected 2 fields in line 585885, saw 5\n",
      "Skipping line 590171: Expected 2 fields in line 590171, saw 5\n",
      "Skipping line 591924: Expected 2 fields in line 591924, saw 5\n",
      "Skipping line 592515: Expected 2 fields in line 592515, saw 5\n",
      "Skipping line 593888: Expected 2 fields in line 593888, saw 5\n",
      "Skipping line 596245: Expected 2 fields in line 596245, saw 5\n",
      "Skipping line 607344: Expected 2 fields in line 607344, saw 5\n",
      "Skipping line 607633: Expected 2 fields in line 607633, saw 5\n",
      "Skipping line 610939: Expected 2 fields in line 610939, saw 5\n",
      "Skipping line 613638: Expected 2 fields in line 613638, saw 5\n",
      "Skipping line 615643: Expected 2 fields in line 615643, saw 5\n",
      "Skipping line 615901: Expected 2 fields in line 615901, saw 5\n",
      "Skipping line 617389: Expected 2 fields in line 617389, saw 5\n",
      "Skipping line 634641: Expected 2 fields in line 634641, saw 5\n",
      "Skipping line 635755: Expected 2 fields in line 635755, saw 5\n",
      "Skipping line 646243: Expected 2 fields in line 646243, saw 5\n",
      "Skipping line 647165: Expected 2 fields in line 647165, saw 5\n",
      "Skipping line 648610: Expected 2 fields in line 648610, saw 5\n",
      "Skipping line 648772: Expected 2 fields in line 648772, saw 5\n",
      "Skipping line 651833: Expected 2 fields in line 651833, saw 5\n",
      "Skipping line 653663: Expected 2 fields in line 653663, saw 5\n",
      "Skipping line 656233: Expected 2 fields in line 656233, saw 5\n",
      "Skipping line 656694: Expected 2 fields in line 656694, saw 5\n",
      "Skipping line 659783: Expected 2 fields in line 659783, saw 5\n",
      "Skipping line 660478: Expected 2 fields in line 660478, saw 5\n",
      "Skipping line 661133: Expected 2 fields in line 661133, saw 5\n",
      "Skipping line 661736: Expected 2 fields in line 661736, saw 5\n",
      "Skipping line 669827: Expected 2 fields in line 669827, saw 5\n"
     ]
    }
   ],
   "source": [
    "df=pd.read_csv('https://raw.githubusercontent.com/benvictoria17/MachineLearning/master/dataset/Password%20Strength%20Classifier%20Dataset/data.csv',',',error_bad_lines=False,engine='python')"
   ]
  },
  {
   "cell_type": "code",
   "execution_count": 3,
   "id": "bd1b7d72",
   "metadata": {
    "datalore": {
     "hide_input_from_viewers": false,
     "hide_output_from_viewers": false,
     "type": "CODE"
    },
    "execution": {
     "iopub.execute_input": "2022-03-29T21:26:34.855349Z",
     "iopub.status.busy": "2022-03-29T21:26:34.854047Z",
     "iopub.status.idle": "2022-03-29T21:26:34.865089Z",
     "shell.execute_reply": "2022-03-29T21:26:34.865581Z",
     "shell.execute_reply.started": "2022-03-29T21:24:45.439594Z"
    },
    "papermill": {
     "duration": 0.034202,
     "end_time": "2022-03-29T21:26:34.865746",
     "exception": false,
     "start_time": "2022-03-29T21:26:34.831544",
     "status": "completed"
    },
    "tags": []
   },
   "outputs": [
    {
     "data": {
      "text/html": [
       "<div>\n",
       "<style scoped>\n",
       "    .dataframe tbody tr th:only-of-type {\n",
       "        vertical-align: middle;\n",
       "    }\n",
       "\n",
       "    .dataframe tbody tr th {\n",
       "        vertical-align: top;\n",
       "    }\n",
       "\n",
       "    .dataframe thead th {\n",
       "        text-align: right;\n",
       "    }\n",
       "</style>\n",
       "<table border=\"1\" class=\"dataframe\">\n",
       "  <thead>\n",
       "    <tr style=\"text-align: right;\">\n",
       "      <th></th>\n",
       "      <th>password</th>\n",
       "      <th>strength</th>\n",
       "    </tr>\n",
       "  </thead>\n",
       "  <tbody>\n",
       "    <tr>\n",
       "      <th>0</th>\n",
       "      <td>kzde5577</td>\n",
       "      <td>1</td>\n",
       "    </tr>\n",
       "    <tr>\n",
       "      <th>1</th>\n",
       "      <td>kino3434</td>\n",
       "      <td>1</td>\n",
       "    </tr>\n",
       "    <tr>\n",
       "      <th>2</th>\n",
       "      <td>visi7k1yr</td>\n",
       "      <td>1</td>\n",
       "    </tr>\n",
       "    <tr>\n",
       "      <th>3</th>\n",
       "      <td>megzy123</td>\n",
       "      <td>1</td>\n",
       "    </tr>\n",
       "    <tr>\n",
       "      <th>4</th>\n",
       "      <td>lamborghin1</td>\n",
       "      <td>1</td>\n",
       "    </tr>\n",
       "  </tbody>\n",
       "</table>\n",
       "</div>"
      ],
      "text/plain": [
       "      password  strength\n",
       "0     kzde5577         1\n",
       "1     kino3434         1\n",
       "2    visi7k1yr         1\n",
       "3     megzy123         1\n",
       "4  lamborghin1         1"
      ]
     },
     "execution_count": 3,
     "metadata": {},
     "output_type": "execute_result"
    }
   ],
   "source": [
    "df.head()"
   ]
  },
  {
   "cell_type": "code",
   "execution_count": 4,
   "id": "a6be12f7",
   "metadata": {
    "datalore": {
     "hide_input_from_viewers": false,
     "hide_output_from_viewers": false,
     "type": "CODE"
    },
    "execution": {
     "iopub.execute_input": "2022-03-29T21:26:34.900660Z",
     "iopub.status.busy": "2022-03-29T21:26:34.899940Z",
     "iopub.status.idle": "2022-03-29T21:26:34.903349Z",
     "shell.execute_reply": "2022-03-29T21:26:34.902788Z",
     "shell.execute_reply.started": "2022-03-29T21:24:45.462492Z"
    },
    "papermill": {
     "duration": 0.022847,
     "end_time": "2022-03-29T21:26:34.903491",
     "exception": false,
     "start_time": "2022-03-29T21:26:34.880644",
     "status": "completed"
    },
    "tags": []
   },
   "outputs": [
    {
     "data": {
      "text/plain": [
       "(669640, 2)"
      ]
     },
     "execution_count": 4,
     "metadata": {},
     "output_type": "execute_result"
    }
   ],
   "source": [
    "df.shape"
   ]
  },
  {
   "cell_type": "code",
   "execution_count": 5,
   "id": "3112a46a",
   "metadata": {
    "datalore": {
     "hide_input_from_viewers": false,
     "hide_output_from_viewers": false,
     "type": "CODE"
    },
    "execution": {
     "iopub.execute_input": "2022-03-29T21:26:34.973704Z",
     "iopub.status.busy": "2022-03-29T21:26:34.940225Z",
     "iopub.status.idle": "2022-03-29T21:26:35.017599Z",
     "shell.execute_reply": "2022-03-29T21:26:35.018124Z",
     "shell.execute_reply.started": "2022-03-29T21:24:45.470609Z"
    },
    "papermill": {
     "duration": 0.099165,
     "end_time": "2022-03-29T21:26:35.018311",
     "exception": false,
     "start_time": "2022-03-29T21:26:34.919146",
     "status": "completed"
    },
    "tags": []
   },
   "outputs": [],
   "source": [
    "df=df.dropna(axis=0)"
   ]
  },
  {
   "cell_type": "code",
   "execution_count": 6,
   "id": "20a77eba",
   "metadata": {
    "datalore": {
     "hide_input_from_viewers": false,
     "hide_output_from_viewers": false,
     "type": "CODE"
    },
    "execution": {
     "iopub.execute_input": "2022-03-29T21:26:35.051451Z",
     "iopub.status.busy": "2022-03-29T21:26:35.050816Z",
     "iopub.status.idle": "2022-03-29T21:26:35.055105Z",
     "shell.execute_reply": "2022-03-29T21:26:35.055565Z",
     "shell.execute_reply.started": "2022-03-29T21:24:45.607599Z"
    },
    "papermill": {
     "duration": 0.022031,
     "end_time": "2022-03-29T21:26:35.055728",
     "exception": false,
     "start_time": "2022-03-29T21:26:35.033697",
     "status": "completed"
    },
    "tags": []
   },
   "outputs": [
    {
     "data": {
      "text/plain": [
       "(669639, 2)"
      ]
     },
     "execution_count": 6,
     "metadata": {},
     "output_type": "execute_result"
    }
   ],
   "source": [
    "df.shape"
   ]
  },
  {
   "cell_type": "code",
   "execution_count": 7,
   "id": "f0f49979",
   "metadata": {
    "datalore": {
     "hide_input_from_viewers": false,
     "hide_output_from_viewers": false,
     "type": "CODE"
    },
    "execution": {
     "iopub.execute_input": "2022-03-29T21:26:35.089455Z",
     "iopub.status.busy": "2022-03-29T21:26:35.088619Z",
     "iopub.status.idle": "2022-03-29T21:26:35.097184Z",
     "shell.execute_reply": "2022-03-29T21:26:35.096683Z",
     "shell.execute_reply.started": "2022-03-29T21:24:45.618673Z"
    },
    "papermill": {
     "duration": 0.026571,
     "end_time": "2022-03-29T21:26:35.097343",
     "exception": false,
     "start_time": "2022-03-29T21:26:35.070772",
     "status": "completed"
    },
    "tags": []
   },
   "outputs": [
    {
     "data": {
      "text/html": [
       "<div>\n",
       "<style scoped>\n",
       "    .dataframe tbody tr th:only-of-type {\n",
       "        vertical-align: middle;\n",
       "    }\n",
       "\n",
       "    .dataframe tbody tr th {\n",
       "        vertical-align: top;\n",
       "    }\n",
       "\n",
       "    .dataframe thead th {\n",
       "        text-align: right;\n",
       "    }\n",
       "</style>\n",
       "<table border=\"1\" class=\"dataframe\">\n",
       "  <thead>\n",
       "    <tr style=\"text-align: right;\">\n",
       "      <th></th>\n",
       "      <th>password</th>\n",
       "      <th>strength</th>\n",
       "    </tr>\n",
       "  </thead>\n",
       "  <tbody>\n",
       "    <tr>\n",
       "      <th>0</th>\n",
       "      <td>kzde5577</td>\n",
       "      <td>1</td>\n",
       "    </tr>\n",
       "    <tr>\n",
       "      <th>1</th>\n",
       "      <td>kino3434</td>\n",
       "      <td>1</td>\n",
       "    </tr>\n",
       "    <tr>\n",
       "      <th>2</th>\n",
       "      <td>visi7k1yr</td>\n",
       "      <td>1</td>\n",
       "    </tr>\n",
       "    <tr>\n",
       "      <th>3</th>\n",
       "      <td>megzy123</td>\n",
       "      <td>1</td>\n",
       "    </tr>\n",
       "    <tr>\n",
       "      <th>4</th>\n",
       "      <td>lamborghin1</td>\n",
       "      <td>1</td>\n",
       "    </tr>\n",
       "    <tr>\n",
       "      <th>5</th>\n",
       "      <td>AVYq1lDE4MgAZfNt</td>\n",
       "      <td>2</td>\n",
       "    </tr>\n",
       "    <tr>\n",
       "      <th>6</th>\n",
       "      <td>u6c8vhow</td>\n",
       "      <td>1</td>\n",
       "    </tr>\n",
       "    <tr>\n",
       "      <th>7</th>\n",
       "      <td>v1118714</td>\n",
       "      <td>1</td>\n",
       "    </tr>\n",
       "    <tr>\n",
       "      <th>8</th>\n",
       "      <td>universe2908</td>\n",
       "      <td>1</td>\n",
       "    </tr>\n",
       "    <tr>\n",
       "      <th>9</th>\n",
       "      <td>as326159</td>\n",
       "      <td>1</td>\n",
       "    </tr>\n",
       "  </tbody>\n",
       "</table>\n",
       "</div>"
      ],
      "text/plain": [
       "           password  strength\n",
       "0          kzde5577         1\n",
       "1          kino3434         1\n",
       "2         visi7k1yr         1\n",
       "3          megzy123         1\n",
       "4       lamborghin1         1\n",
       "5  AVYq1lDE4MgAZfNt         2\n",
       "6          u6c8vhow         1\n",
       "7          v1118714         1\n",
       "8      universe2908         1\n",
       "9          as326159         1"
      ]
     },
     "execution_count": 7,
     "metadata": {},
     "output_type": "execute_result"
    }
   ],
   "source": [
    "df.head(10)"
   ]
  },
  {
   "cell_type": "code",
   "execution_count": 8,
   "id": "73220539",
   "metadata": {
    "datalore": {
     "hide_input_from_viewers": false,
     "hide_output_from_viewers": false,
     "type": "CODE"
    },
    "execution": {
     "iopub.execute_input": "2022-03-29T21:26:35.133193Z",
     "iopub.status.busy": "2022-03-29T21:26:35.132536Z",
     "iopub.status.idle": "2022-03-29T21:26:35.392664Z",
     "shell.execute_reply": "2022-03-29T21:26:35.392106Z",
     "shell.execute_reply.started": "2022-03-29T21:24:45.642787Z"
    },
    "papermill": {
     "duration": 0.279626,
     "end_time": "2022-03-29T21:26:35.392803",
     "exception": false,
     "start_time": "2022-03-29T21:26:35.113177",
     "status": "completed"
    },
    "tags": []
   },
   "outputs": [],
   "source": [
    "from sklearn.utils import shuffle\n",
    "df1=shuffle(df)"
   ]
  },
  {
   "cell_type": "code",
   "execution_count": 9,
   "id": "6e1b33b8",
   "metadata": {
    "datalore": {
     "hide_input_from_viewers": false,
     "hide_output_from_viewers": false,
     "type": "CODE"
    },
    "execution": {
     "iopub.execute_input": "2022-03-29T21:26:35.434603Z",
     "iopub.status.busy": "2022-03-29T21:26:35.433773Z",
     "iopub.status.idle": "2022-03-29T21:26:35.437382Z",
     "shell.execute_reply": "2022-03-29T21:26:35.436877Z",
     "shell.execute_reply.started": "2022-03-29T21:24:45.963263Z"
    },
    "papermill": {
     "duration": 0.028099,
     "end_time": "2022-03-29T21:26:35.437515",
     "exception": false,
     "start_time": "2022-03-29T21:26:35.409416",
     "status": "completed"
    },
    "tags": []
   },
   "outputs": [
    {
     "data": {
      "text/html": [
       "<div>\n",
       "<style scoped>\n",
       "    .dataframe tbody tr th:only-of-type {\n",
       "        vertical-align: middle;\n",
       "    }\n",
       "\n",
       "    .dataframe tbody tr th {\n",
       "        vertical-align: top;\n",
       "    }\n",
       "\n",
       "    .dataframe thead th {\n",
       "        text-align: right;\n",
       "    }\n",
       "</style>\n",
       "<table border=\"1\" class=\"dataframe\">\n",
       "  <thead>\n",
       "    <tr style=\"text-align: right;\">\n",
       "      <th></th>\n",
       "      <th>password</th>\n",
       "      <th>strength</th>\n",
       "    </tr>\n",
       "  </thead>\n",
       "  <tbody>\n",
       "    <tr>\n",
       "      <th>184847</th>\n",
       "      <td>joliku12</td>\n",
       "      <td>1</td>\n",
       "    </tr>\n",
       "    <tr>\n",
       "      <th>73759</th>\n",
       "      <td>fyhuvoz892</td>\n",
       "      <td>1</td>\n",
       "    </tr>\n",
       "    <tr>\n",
       "      <th>245313</th>\n",
       "      <td>3o68nomi3a</td>\n",
       "      <td>1</td>\n",
       "    </tr>\n",
       "    <tr>\n",
       "      <th>540967</th>\n",
       "      <td>B9GaqIjU2NA7M6es</td>\n",
       "      <td>2</td>\n",
       "    </tr>\n",
       "    <tr>\n",
       "      <th>509112</th>\n",
       "      <td>bc2293</td>\n",
       "      <td>0</td>\n",
       "    </tr>\n",
       "  </tbody>\n",
       "</table>\n",
       "</div>"
      ],
      "text/plain": [
       "                password  strength\n",
       "184847          joliku12         1\n",
       "73759         fyhuvoz892         1\n",
       "245313        3o68nomi3a         1\n",
       "540967  B9GaqIjU2NA7M6es         2\n",
       "509112            bc2293         0"
      ]
     },
     "execution_count": 9,
     "metadata": {},
     "output_type": "execute_result"
    }
   ],
   "source": [
    "df1.head()"
   ]
  },
  {
   "cell_type": "code",
   "execution_count": 10,
   "id": "dd3299cf",
   "metadata": {
    "datalore": {
     "hide_input_from_viewers": false,
     "hide_output_from_viewers": false,
     "type": "CODE"
    },
    "execution": {
     "iopub.execute_input": "2022-03-29T21:26:35.474324Z",
     "iopub.status.busy": "2022-03-29T21:26:35.472599Z",
     "iopub.status.idle": "2022-03-29T21:26:35.504730Z",
     "shell.execute_reply": "2022-03-29T21:26:35.504245Z",
     "shell.execute_reply.started": "2022-03-29T21:24:45.977248Z"
    },
    "papermill": {
     "duration": 0.051324,
     "end_time": "2022-03-29T21:26:35.504870",
     "exception": false,
     "start_time": "2022-03-29T21:26:35.453546",
     "status": "completed"
    },
    "tags": []
   },
   "outputs": [],
   "source": [
    "df1=df1.reset_index(drop=True)"
   ]
  },
  {
   "cell_type": "code",
   "execution_count": 11,
   "id": "511896e9",
   "metadata": {
    "datalore": {
     "hide_input_from_viewers": false,
     "hide_output_from_viewers": false,
     "type": "CODE"
    },
    "execution": {
     "iopub.execute_input": "2022-03-29T21:26:35.547595Z",
     "iopub.status.busy": "2022-03-29T21:26:35.546932Z",
     "iopub.status.idle": "2022-03-29T21:26:35.549623Z",
     "shell.execute_reply": "2022-03-29T21:26:35.549162Z",
     "shell.execute_reply.started": "2022-03-29T21:24:46.017453Z"
    },
    "papermill": {
     "duration": 0.026436,
     "end_time": "2022-03-29T21:26:35.549772",
     "exception": false,
     "start_time": "2022-03-29T21:26:35.523336",
     "status": "completed"
    },
    "tags": []
   },
   "outputs": [],
   "source": [
    "x=df1['password']\n",
    "y=df1['strength']"
   ]
  },
  {
   "cell_type": "code",
   "execution_count": 12,
   "id": "917325c7",
   "metadata": {
    "datalore": {
     "hide_input_from_viewers": false,
     "hide_output_from_viewers": false,
     "type": "CODE"
    },
    "execution": {
     "iopub.execute_input": "2022-03-29T21:26:35.587010Z",
     "iopub.status.busy": "2022-03-29T21:26:35.586430Z",
     "iopub.status.idle": "2022-03-29T21:26:36.025022Z",
     "shell.execute_reply": "2022-03-29T21:26:36.024086Z",
     "shell.execute_reply.started": "2022-03-29T21:24:46.028454Z"
    },
    "papermill": {
     "duration": 0.458901,
     "end_time": "2022-03-29T21:26:36.025257",
     "exception": false,
     "start_time": "2022-03-29T21:26:35.566356",
     "status": "completed"
    },
    "tags": []
   },
   "outputs": [
    {
     "name": "stderr",
     "output_type": "stream",
     "text": [
      "/opt/conda/lib/python3.7/site-packages/seaborn/_decorators.py:43: FutureWarning: Pass the following variable as a keyword arg: x. From version 0.12, the only valid positional argument will be `data`, and passing other arguments without an explicit keyword will result in an error or misinterpretation.\n",
      "  FutureWarning\n"
     ]
    },
    {
     "data": {
      "text/plain": [
       "<AxesSubplot:xlabel='strength', ylabel='count'>"
      ]
     },
     "execution_count": 12,
     "metadata": {},
     "output_type": "execute_result"
    },
    {
     "data": {
      "image/png": "[encoded data removed]",
      "text/plain": [
       "<Figure size 432x288 with 1 Axes>"
      ]
     },
     "metadata": {
      "needs_background": "light"
     },
     "output_type": "display_data"
    }
   ],
   "source": [
    "sns.countplot(y,data=df1)"
   ]
  },
  {
   "cell_type": "code",
   "execution_count": 13,
   "id": "f54d2a98",
   "metadata": {
    "datalore": {
     "hide_input_from_viewers": false,
     "hide_output_from_viewers": false,
     "type": "CODE"
    },
    "execution": {
     "iopub.execute_input": "2022-03-29T21:26:36.070670Z",
     "iopub.status.busy": "2022-03-29T21:26:36.070057Z",
     "iopub.status.idle": "2022-03-29T21:26:36.236825Z",
     "shell.execute_reply": "2022-03-29T21:26:36.237308Z",
     "shell.execute_reply.started": "2022-03-29T21:24:46.559464Z"
    },
    "papermill": {
     "duration": 0.187002,
     "end_time": "2022-03-29T21:26:36.237473",
     "exception": false,
     "start_time": "2022-03-29T21:26:36.050471",
     "status": "completed"
    },
    "tags": []
   },
   "outputs": [
    {
     "data": {
      "text/html": [
       "<div>\n",
       "<style scoped>\n",
       "    .dataframe tbody tr th:only-of-type {\n",
       "        vertical-align: middle;\n",
       "    }\n",
       "\n",
       "    .dataframe tbody tr th {\n",
       "        vertical-align: top;\n",
       "    }\n",
       "\n",
       "    .dataframe thead th {\n",
       "        text-align: right;\n",
       "    }\n",
       "</style>\n",
       "<table border=\"1\" class=\"dataframe\">\n",
       "  <thead>\n",
       "    <tr style=\"text-align: right;\">\n",
       "      <th></th>\n",
       "      <th>password</th>\n",
       "    </tr>\n",
       "    <tr>\n",
       "      <th>strength</th>\n",
       "      <th></th>\n",
       "    </tr>\n",
       "  </thead>\n",
       "  <tbody>\n",
       "    <tr>\n",
       "      <th>0</th>\n",
       "      <td>0.133954</td>\n",
       "    </tr>\n",
       "    <tr>\n",
       "      <th>1</th>\n",
       "      <td>0.741894</td>\n",
       "    </tr>\n",
       "    <tr>\n",
       "      <th>2</th>\n",
       "      <td>0.124152</td>\n",
       "    </tr>\n",
       "  </tbody>\n",
       "</table>\n",
       "</div>"
      ],
      "text/plain": [
       "          password\n",
       "strength          \n",
       "0         0.133954\n",
       "1         0.741894\n",
       "2         0.124152"
      ]
     },
     "execution_count": 13,
     "metadata": {},
     "output_type": "execute_result"
    }
   ],
   "source": [
    "df1.groupby(['strength']).count()/len(df1)"
   ]
  },
  {
   "cell_type": "code",
   "execution_count": 14,
   "id": "c0b9b422",
   "metadata": {
    "datalore": {
     "hide_input_from_viewers": false,
     "hide_output_from_viewers": false,
     "type": "CODE"
    },
    "execution": {
     "iopub.execute_input": "2022-03-29T21:26:36.275905Z",
     "iopub.status.busy": "2022-03-29T21:26:36.275326Z",
     "iopub.status.idle": "2022-03-29T21:26:40.546690Z",
     "shell.execute_reply": "2022-03-29T21:26:40.547213Z",
     "shell.execute_reply.started": "2022-03-29T21:24:46.788779Z"
    },
    "papermill": {
     "duration": 4.292512,
     "end_time": "2022-03-29T21:26:40.547479",
     "exception": false,
     "start_time": "2022-03-29T21:26:36.254967",
     "status": "completed"
    },
    "tags": []
   },
   "outputs": [
    {
     "data": {
      "text/plain": [
       "{'j': 65,\n",
       " 'o': 70,\n",
       " 'l': 67,\n",
       " 'i': 64,\n",
       " 'k': 66,\n",
       " 'u': 76,\n",
       " '1': 35,\n",
       " '2': 36,\n",
       " 'f': 61,\n",
       " 'y': 80,\n",
       " 'h': 63,\n",
       " 'v': 77,\n",
       " 'z': 81,\n",
       " '8': 42,\n",
       " '9': 43,\n",
       " '3': 37,\n",
       " '6': 40,\n",
       " 'n': 69,\n",
       " 'm': 68,\n",
       " 'a': 56,\n",
       " 'b': 57,\n",
       " 'g': 62,\n",
       " 'q': 72,\n",
       " '7': 41,\n",
       " 'e': 60,\n",
       " 's': 74,\n",
       " 'c': 58,\n",
       " 'r': 73,\n",
       " 'p': 71,\n",
       " 't': 75,\n",
       " 'd': 59,\n",
       " '4': 38,\n",
       " 'w': 78,\n",
       " '5': 39,\n",
       " 'x': 79,\n",
       " '0': 34,\n",
       " '&': 26,\n",
       " '#': 23,\n",
       " ';': 44,\n",
       " '_': 54,\n",
       " '+': 30,\n",
       " '?': 48,\n",
       " '-': 31,\n",
       " '.': 32,\n",
       " '!': 21,\n",
       " ' ': 20,\n",
       " '±': 99,\n",
       " '@': 49,\n",
       " '%': 25,\n",
       " '¾': 111,\n",
       " '/': 33,\n",
       " '(': 27,\n",
       " '*': 29,\n",
       " 'þ': 142,\n",
       " ')': 28,\n",
       " '^': 53,\n",
       " '=': 46,\n",
       " '³': 101,\n",
       " 'ú': 138,\n",
       " '$': 24,\n",
       " 'ä': 119,\n",
       " '<': 45,\n",
       " '\\x05': 3,\n",
       " '\\x1b': 16,\n",
       " '\\x1c': 17,\n",
       " 'º': 107,\n",
       " 'ó': 132,\n",
       " 'æ': 121,\n",
       " 'á': 116,\n",
       " '»': 108,\n",
       " '\\x81': 87,\n",
       " '~': 85,\n",
       " '[': 50,\n",
       " '{': 82,\n",
       " '}': 84,\n",
       " '÷': 136,\n",
       " '>': 47,\n",
       " 'ð': 129,\n",
       " 'å': 120,\n",
       " 'ï': 128,\n",
       " '|': 83,\n",
       " '\\x11': 9,\n",
       " ']': 52,\n",
       " '\\\\': 51,\n",
       " '\\x10': 8,\n",
       " '\\x17': 13,\n",
       " 'ß': 114,\n",
       " 'õ': 134,\n",
       " 'ÿ': 143,\n",
       " 'ñ': 130,\n",
       " 'ü': 140,\n",
       " '\\x18': 14,\n",
       " '¹': 106,\n",
       " '°': 98,\n",
       " '´': 102,\n",
       " '¶': 104,\n",
       " 'µ': 103,\n",
       " '—': 146,\n",
       " 'ý': 141,\n",
       " '¿': 112,\n",
       " '¤': 92,\n",
       " 'à': 115,\n",
       " 'û': 139,\n",
       " '×': 113,\n",
       " '`': 55,\n",
       " '¨': 95,\n",
       " '¼': 109,\n",
       " 'ƒ': 145,\n",
       " 'â': 117,\n",
       " '\\x8d': 88,\n",
       " 'ô': 133,\n",
       " 'ò': 131,\n",
       " 'ö': 135,\n",
       " 'í': 126,\n",
       " '·': 105,\n",
       " '\"': 22,\n",
       " '\\x02': 1,\n",
       " '¡': 90,\n",
       " 'ù': 137,\n",
       " '\\xa0': 89,\n",
       " '¢': 91,\n",
       " 'ç': 122,\n",
       " '½': 110,\n",
       " '\\x12': 10,\n",
       " '\\x04': 2,\n",
       " '\\x0e': 6,\n",
       " '\\x13': 11,\n",
       " '\\x1d': 18,\n",
       " '\\x16': 12,\n",
       " '\\x1e': 19,\n",
       " '…': 149,\n",
       " '«': 96,\n",
       " 'é': 124,\n",
       " '\\x06': 4,\n",
       " 'è': 123,\n",
       " '‚': 147,\n",
       " '\\x08': 5,\n",
       " 'ê': 125,\n",
       " '‡': 148,\n",
       " '\\x7f': 86,\n",
       " '²': 100,\n",
       " '¦': 93,\n",
       " '\\x0f': 7,\n",
       " '›': 151,\n",
       " '‹': 150,\n",
       " 'œ': 144,\n",
       " '\\x19': 15,\n",
       " '§': 94,\n",
       " '™': 152,\n",
       " 'î': 127,\n",
       " '¯': 97,\n",
       " '\\x01': 0,\n",
       " 'ã': 118}"
      ]
     },
     "execution_count": 14,
     "metadata": {},
     "output_type": "execute_result"
    }
   ],
   "source": [
    "def word(password):\n",
    "    character=[]\n",
    "    for i in password:\n",
    "        character.append(i)\n",
    "    return character\n",
    "from sklearn.feature_extraction.text import TfidfVectorizer\n",
    "vector=TfidfVectorizer(tokenizer=word)\n",
    "x_vec=vector.fit_transform(x)\n",
    "vector.vocabulary_"
   ]
  },
  {
   "cell_type": "code",
   "execution_count": 15,
   "id": "056cd595",
   "metadata": {
    "datalore": {
     "hide_input_from_viewers": false,
     "hide_output_from_viewers": false,
     "type": "CODE"
    },
    "execution": {
     "iopub.execute_input": "2022-03-29T21:26:40.609661Z",
     "iopub.status.busy": "2022-03-29T21:26:40.604534Z",
     "iopub.status.idle": "2022-03-29T21:26:44.862250Z",
     "shell.execute_reply": "2022-03-29T21:26:44.861652Z",
     "shell.execute_reply.started": "2022-03-29T21:24:53.587671Z"
    },
    "papermill": {
     "duration": 4.295447,
     "end_time": "2022-03-29T21:26:44.862408",
     "exception": false,
     "start_time": "2022-03-29T21:26:40.566961",
     "status": "completed"
    },
    "tags": []
   },
   "outputs": [
    {
     "data": {
      "text/plain": [
       "{'j': 65,\n",
       " 'o': 70,\n",
       " 'l': 67,\n",
       " 'i': 64,\n",
       " 'k': 66,\n",
       " 'u': 76,\n",
       " '1': 35,\n",
       " '2': 36,\n",
       " 'f': 61,\n",
       " 'y': 80,\n",
       " 'h': 63,\n",
       " 'v': 77,\n",
       " 'z': 81,\n",
       " '8': 42,\n",
       " '9': 43,\n",
       " '3': 37,\n",
       " '6': 40,\n",
       " 'n': 69,\n",
       " 'm': 68,\n",
       " 'a': 56,\n",
       " 'b': 57,\n",
       " 'g': 62,\n",
       " 'q': 72,\n",
       " '7': 41,\n",
       " 'e': 60,\n",
       " 's': 74,\n",
       " 'c': 58,\n",
       " 'r': 73,\n",
       " 'p': 71,\n",
       " 't': 75,\n",
       " 'd': 59,\n",
       " '4': 38,\n",
       " 'w': 78,\n",
       " '5': 39,\n",
       " 'x': 79,\n",
       " '0': 34,\n",
       " '&': 26,\n",
       " '#': 23,\n",
       " ';': 44,\n",
       " '_': 54,\n",
       " '+': 30,\n",
       " '?': 48,\n",
       " '-': 31,\n",
       " '.': 32,\n",
       " '!': 21,\n",
       " ' ': 20,\n",
       " '±': 99,\n",
       " '@': 49,\n",
       " '%': 25,\n",
       " '¾': 111,\n",
       " '/': 33,\n",
       " '(': 27,\n",
       " '*': 29,\n",
       " 'þ': 142,\n",
       " ')': 28,\n",
       " '^': 53,\n",
       " '=': 46,\n",
       " '³': 101,\n",
       " 'ú': 138,\n",
       " '$': 24,\n",
       " 'ä': 119,\n",
       " '<': 45,\n",
       " '\\x05': 3,\n",
       " '\\x1b': 16,\n",
       " '\\x1c': 17,\n",
       " 'º': 107,\n",
       " 'ó': 132,\n",
       " 'æ': 121,\n",
       " 'á': 116,\n",
       " '»': 108,\n",
       " '\\x81': 87,\n",
       " '~': 85,\n",
       " '[': 50,\n",
       " '{': 82,\n",
       " '}': 84,\n",
       " '÷': 136,\n",
       " '>': 47,\n",
       " 'ð': 129,\n",
       " 'å': 120,\n",
       " 'ï': 128,\n",
       " '|': 83,\n",
       " '\\x11': 9,\n",
       " ']': 52,\n",
       " '\\\\': 51,\n",
       " '\\x10': 8,\n",
       " '\\x17': 13,\n",
       " 'ß': 114,\n",
       " 'õ': 134,\n",
       " 'ÿ': 143,\n",
       " 'ñ': 130,\n",
       " 'ü': 140,\n",
       " '\\x18': 14,\n",
       " '¹': 106,\n",
       " '°': 98,\n",
       " '´': 102,\n",
       " '¶': 104,\n",
       " 'µ': 103,\n",
       " '—': 146,\n",
       " 'ý': 141,\n",
       " '¿': 112,\n",
       " '¤': 92,\n",
       " 'à': 115,\n",
       " 'û': 139,\n",
       " '×': 113,\n",
       " '`': 55,\n",
       " '¨': 95,\n",
       " '¼': 109,\n",
       " 'ƒ': 145,\n",
       " 'â': 117,\n",
       " '\\x8d': 88,\n",
       " 'ô': 133,\n",
       " 'ò': 131,\n",
       " 'ö': 135,\n",
       " 'í': 126,\n",
       " '·': 105,\n",
       " '\"': 22,\n",
       " '\\x02': 1,\n",
       " '¡': 90,\n",
       " 'ù': 137,\n",
       " '\\xa0': 89,\n",
       " '¢': 91,\n",
       " 'ç': 122,\n",
       " '½': 110,\n",
       " '\\x12': 10,\n",
       " '\\x04': 2,\n",
       " '\\x0e': 6,\n",
       " '\\x13': 11,\n",
       " '\\x1d': 18,\n",
       " '\\x16': 12,\n",
       " '\\x1e': 19,\n",
       " '…': 149,\n",
       " '«': 96,\n",
       " 'é': 124,\n",
       " '\\x06': 4,\n",
       " 'è': 123,\n",
       " '‚': 147,\n",
       " '\\x08': 5,\n",
       " 'ê': 125,\n",
       " '‡': 148,\n",
       " '\\x7f': 86,\n",
       " '²': 100,\n",
       " '¦': 93,\n",
       " '\\x0f': 7,\n",
       " '›': 151,\n",
       " '‹': 150,\n",
       " 'œ': 144,\n",
       " '\\x19': 15,\n",
       " '§': 94,\n",
       " '™': 152,\n",
       " 'î': 127,\n",
       " '¯': 97,\n",
       " '\\x01': 0,\n",
       " 'ã': 118}"
      ]
     },
     "execution_count": 15,
     "metadata": {},
     "output_type": "execute_result"
    }
   ],
   "source": [
    "def word(password):\n",
    "    character=[]\n",
    "    for i in password:\n",
    "        character.append(i)\n",
    "    return character\n",
    "from sklearn.feature_extraction.text import TfidfVectorizer\n",
    "vector=TfidfVectorizer(tokenizer=word)\n",
    "x_vec=vector.fit_transform(x)\n",
    "vector.vocabulary_"
   ]
  },
  {
   "cell_type": "code",
   "execution_count": 16,
   "id": "6e4d84f3",
   "metadata": {
    "datalore": {
     "hide_input_from_viewers": false,
     "hide_output_from_viewers": false,
     "type": "CODE"
    },
    "execution": {
     "iopub.execute_input": "2022-03-29T21:26:44.906585Z",
     "iopub.status.busy": "2022-03-29T21:26:44.905685Z",
     "iopub.status.idle": "2022-03-29T21:26:45.094002Z",
     "shell.execute_reply": "2022-03-29T21:26:45.094552Z",
     "shell.execute_reply.started": "2022-03-29T21:25:00.438735Z"
    },
    "papermill": {
     "duration": 0.212455,
     "end_time": "2022-03-29T21:26:45.094735",
     "exception": false,
     "start_time": "2022-03-29T21:26:44.882280",
     "status": "completed"
    },
    "tags": []
   },
   "outputs": [],
   "source": [
    "from sklearn.model_selection import train_test_split\n",
    "x_train,x_test,y_train,y_test=train_test_split(x_vec,y,test_size=0.2,random_state=0)"
   ]
  }
 ],
 "metadata": {
  "kernelspec": {
   "display_name": "Python 3",
   "language": "python",
   "name": "python3"
  },
  "language_info": {
   "codemirror_mode": {
    "name": "ipython",
    "version": 3
   },
   "file_extension": ".py",
   "mimetype": "text/x-python",
   "name": "python",
   "nbconvert_exporter": "python",
   "pygments_lexer": "ipython3",
   "version": "3.7.12"
  },
  "papermill": {
   "default_parameters": {},
   "duration": 23.59329,
   "end_time": "2022-03-29T21:26:46.025914",
   "environment_variables": {},
   "exception": null,
   "input_path": "__notebook__.ipynb",
   "output_path": "__notebook__.ipynb",
   "parameters": {},
   "start_time": "2022-03-29T21:26:22.432624",
   "version": "2.3.3"
  }
 },
 "nbformat": 4,
 "nbformat_minor": 5
}
