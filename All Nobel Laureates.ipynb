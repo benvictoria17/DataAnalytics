{
 "cells": [
  {
   "cell_type": "code",
   "execution_count": 2,
   "id": "9bf8f8ab",
   "metadata": {},
   "outputs": [],
   "source": [
    "import numpy as np \n",
    "import pandas as pd"
   ]
  },
  {
   "cell_type": "code",
   "execution_count": 3,
   "id": "7c2b579b",
   "metadata": {},
   "outputs": [
    {
     "data": {
      "text/html": [
       "<div>\n",
       "<style scoped>\n",
       "    .dataframe tbody tr th:only-of-type {\n",
       "        vertical-align: middle;\n",
       "    }\n",
       "\n",
       "    .dataframe tbody tr th {\n",
       "        vertical-align: top;\n",
       "    }\n",
       "\n",
       "    .dataframe thead th {\n",
       "        text-align: right;\n",
       "    }\n",
       "</style>\n",
       "<table border=\"1\" class=\"dataframe\">\n",
       "  <thead>\n",
       "    <tr style=\"text-align: right;\">\n",
       "      <th></th>\n",
       "      <th>Year</th>\n",
       "      <th>Laureate_Id</th>\n",
       "      <th>Firstname</th>\n",
       "      <th>Lastname</th>\n",
       "      <th>Category</th>\n",
       "      <th>Gender</th>\n",
       "      <th>Prize_Share</th>\n",
       "      <th>Motivation</th>\n",
       "      <th>Birth_Date</th>\n",
       "      <th>Birth_Country</th>\n",
       "      <th>Birth_City</th>\n",
       "      <th>Birth_Country_Code</th>\n",
       "      <th>Death_Date</th>\n",
       "      <th>Death_Country</th>\n",
       "      <th>Death_City</th>\n",
       "      <th>Death_Country_Code</th>\n",
       "      <th>Organization_Name</th>\n",
       "      <th>Organization_City</th>\n",
       "      <th>Organization_Country</th>\n",
       "    </tr>\n",
       "  </thead>\n",
       "  <tbody>\n",
       "    <tr>\n",
       "      <th>0</th>\n",
       "      <td>1901</td>\n",
       "      <td>1</td>\n",
       "      <td>Wilhelm Conrad</td>\n",
       "      <td>Röntgen</td>\n",
       "      <td>physics</td>\n",
       "      <td>male</td>\n",
       "      <td>1</td>\n",
       "      <td>\"in recognition of the extraordinary services ...</td>\n",
       "      <td>1845-03-27</td>\n",
       "      <td>Prussia (now Germany)</td>\n",
       "      <td>Lennep (now Remscheid)</td>\n",
       "      <td>DE</td>\n",
       "      <td>10-02-1923</td>\n",
       "      <td>Germany</td>\n",
       "      <td>Munich</td>\n",
       "      <td>DE</td>\n",
       "      <td>Munich University</td>\n",
       "      <td>Munich</td>\n",
       "      <td>Germany</td>\n",
       "    </tr>\n",
       "    <tr>\n",
       "      <th>1</th>\n",
       "      <td>1901</td>\n",
       "      <td>293</td>\n",
       "      <td>Emil</td>\n",
       "      <td>von Behring</td>\n",
       "      <td>medicine</td>\n",
       "      <td>male</td>\n",
       "      <td>1</td>\n",
       "      <td>\"for his work on serum therapy especially its ...</td>\n",
       "      <td>1854-03-15</td>\n",
       "      <td>Prussia (now Poland)</td>\n",
       "      <td>Hansdorf (now Lawice)</td>\n",
       "      <td>PL</td>\n",
       "      <td>31-03-1917</td>\n",
       "      <td>Germany</td>\n",
       "      <td>Marburg</td>\n",
       "      <td>DE</td>\n",
       "      <td>Marburg University</td>\n",
       "      <td>Marburg</td>\n",
       "      <td>Germany</td>\n",
       "    </tr>\n",
       "    <tr>\n",
       "      <th>2</th>\n",
       "      <td>1901</td>\n",
       "      <td>462</td>\n",
       "      <td>Henry</td>\n",
       "      <td>Dunant</td>\n",
       "      <td>peace</td>\n",
       "      <td>male</td>\n",
       "      <td>2</td>\n",
       "      <td>\"for his humanitarian efforts to help wounded ...</td>\n",
       "      <td>1828-05-08</td>\n",
       "      <td>Switzerland</td>\n",
       "      <td>Geneva</td>\n",
       "      <td>CH</td>\n",
       "      <td>30-10-1910</td>\n",
       "      <td>Switzerland</td>\n",
       "      <td>Heiden</td>\n",
       "      <td>CH</td>\n",
       "      <td>NaN</td>\n",
       "      <td>NaN</td>\n",
       "      <td>NaN</td>\n",
       "    </tr>\n",
       "    <tr>\n",
       "      <th>3</th>\n",
       "      <td>1901</td>\n",
       "      <td>463</td>\n",
       "      <td>Frédéric</td>\n",
       "      <td>Passy</td>\n",
       "      <td>peace</td>\n",
       "      <td>male</td>\n",
       "      <td>2</td>\n",
       "      <td>\"for his lifelong work for international peace...</td>\n",
       "      <td>1822-05-20</td>\n",
       "      <td>France</td>\n",
       "      <td>Paris</td>\n",
       "      <td>FR</td>\n",
       "      <td>12-06-1912</td>\n",
       "      <td>France</td>\n",
       "      <td>Paris</td>\n",
       "      <td>FR</td>\n",
       "      <td>NaN</td>\n",
       "      <td>NaN</td>\n",
       "      <td>NaN</td>\n",
       "    </tr>\n",
       "    <tr>\n",
       "      <th>4</th>\n",
       "      <td>1901</td>\n",
       "      <td>569</td>\n",
       "      <td>Sully</td>\n",
       "      <td>Prudhomme</td>\n",
       "      <td>literature</td>\n",
       "      <td>male</td>\n",
       "      <td>1</td>\n",
       "      <td>\"in special recognition of his poetic composit...</td>\n",
       "      <td>1839-03-16</td>\n",
       "      <td>France</td>\n",
       "      <td>Paris</td>\n",
       "      <td>FR</td>\n",
       "      <td>07-09-1907</td>\n",
       "      <td>France</td>\n",
       "      <td>Châtenay</td>\n",
       "      <td>FR</td>\n",
       "      <td>NaN</td>\n",
       "      <td>NaN</td>\n",
       "      <td>NaN</td>\n",
       "    </tr>\n",
       "  </tbody>\n",
       "</table>\n",
       "</div>"
      ],
      "text/plain": [
       "   Year  Laureate_Id       Firstname     Lastname    Category Gender  \\\n",
       "0  1901            1  Wilhelm Conrad      Röntgen     physics   male   \n",
       "1  1901          293            Emil  von Behring    medicine   male   \n",
       "2  1901          462           Henry       Dunant       peace   male   \n",
       "3  1901          463        Frédéric        Passy       peace   male   \n",
       "4  1901          569           Sully    Prudhomme  literature   male   \n",
       "\n",
       "   Prize_Share                                         Motivation  Birth_Date  \\\n",
       "0            1  \"in recognition of the extraordinary services ...  1845-03-27   \n",
       "1            1  \"for his work on serum therapy especially its ...  1854-03-15   \n",
       "2            2  \"for his humanitarian efforts to help wounded ...  1828-05-08   \n",
       "3            2  \"for his lifelong work for international peace...  1822-05-20   \n",
       "4            1  \"in special recognition of his poetic composit...  1839-03-16   \n",
       "\n",
       "           Birth_Country              Birth_City Birth_Country_Code  \\\n",
       "0  Prussia (now Germany)  Lennep (now Remscheid)                 DE   \n",
       "1   Prussia (now Poland)   Hansdorf (now Lawice)                 PL   \n",
       "2            Switzerland                  Geneva                 CH   \n",
       "3                 France                   Paris                 FR   \n",
       "4                 France                   Paris                 FR   \n",
       "\n",
       "   Death_Date Death_Country Death_City Death_Country_Code   Organization_Name  \\\n",
       "0  10-02-1923       Germany     Munich                 DE   Munich University   \n",
       "1  31-03-1917       Germany    Marburg                 DE  Marburg University   \n",
       "2  30-10-1910   Switzerland     Heiden                 CH                 NaN   \n",
       "3  12-06-1912        France      Paris                 FR                 NaN   \n",
       "4  07-09-1907        France   Châtenay                 FR                 NaN   \n",
       "\n",
       "  Organization_City Organization_Country  \n",
       "0            Munich              Germany  \n",
       "1           Marburg              Germany  \n",
       "2               NaN                  NaN  \n",
       "3               NaN                  NaN  \n",
       "4               NaN                  NaN  "
      ]
     },
     "execution_count": 3,
     "metadata": {},
     "output_type": "execute_result"
    }
   ],
   "source": [
    "df = pd.read_csv(\"https://raw.githubusercontent.com/benvictoria17/DataAnalytics/main/dataset/All%20Nobel%20Laureates%201901-present/nobel_latest.csv\")\n",
    "df.head()"
   ]
  },
  {
   "cell_type": "code",
   "execution_count": 4,
   "id": "6c51a0d2",
   "metadata": {},
   "outputs": [
    {
     "data": {
      "text/plain": [
       "(989, 19)"
      ]
     },
     "execution_count": 4,
     "metadata": {},
     "output_type": "execute_result"
    }
   ],
   "source": [
    "df.shape"
   ]
  },
  {
   "cell_type": "code",
   "execution_count": 5,
   "id": "a29072ee",
   "metadata": {},
   "outputs": [
    {
     "name": "stdout",
     "output_type": "stream",
     "text": [
      "<class 'pandas.core.frame.DataFrame'>\n",
      "RangeIndex: 989 entries, 0 to 988\n",
      "Data columns (total 19 columns):\n",
      " #   Column                Non-Null Count  Dtype \n",
      "---  ------                --------------  ----- \n",
      " 0   Year                  989 non-null    int64 \n",
      " 1   Laureate_Id           989 non-null    int64 \n",
      " 2   Firstname             989 non-null    object\n",
      " 3   Lastname              957 non-null    object\n",
      " 4   Category              989 non-null    object\n",
      " 5   Gender                989 non-null    object\n",
      " 6   Prize_Share           989 non-null    int64 \n",
      " 7   Motivation            989 non-null    object\n",
      " 8   Birth_Date            989 non-null    object\n",
      " 9   Birth_Country         958 non-null    object\n",
      " 10  Birth_City            956 non-null    object\n",
      " 11  Birth_Country_Code    958 non-null    object\n",
      " 12  Death_Date            989 non-null    object\n",
      " 13  Death_Country         646 non-null    object\n",
      " 14  Death_City            640 non-null    object\n",
      " 15  Death_Country_Code    646 non-null    object\n",
      " 16  Organization_Name     727 non-null    object\n",
      " 17  Organization_City     722 non-null    object\n",
      " 18  Organization_Country  724 non-null    object\n",
      "dtypes: int64(3), object(16)\n",
      "memory usage: 146.9+ KB\n"
     ]
    }
   ],
   "source": [
    "df.info()"
   ]
  },
  {
   "cell_type": "code",
   "execution_count": 6,
   "id": "97fe3713",
   "metadata": {},
   "outputs": [],
   "source": [
    "temp_df = df[\"Year\"].value_counts().sort_values().reset_index()"
   ]
  },
  {
   "cell_type": "code",
   "execution_count": 7,
   "id": "808149d6",
   "metadata": {},
   "outputs": [],
   "source": [
    "import matplotlib.pyplot as plt"
   ]
  },
  {
   "cell_type": "code",
   "execution_count": 8,
   "id": "f66d182d",
   "metadata": {},
   "outputs": [],
   "source": [
    "import seaborn as sns "
   ]
  },
  {
   "cell_type": "code",
   "execution_count": 9,
   "id": "c84a70b0",
   "metadata": {},
   "outputs": [
    {
     "data": {
      "image/png": "[encoded data removed]",
      "text/plain": [
       "<Figure size 720x288 with 1 Axes>"
      ]
     },
     "metadata": {
      "needs_background": "light"
     },
     "output_type": "display_data"
    }
   ],
   "source": [
    "plt.figure(figsize = (10,4))\n",
    "\n",
    "sns.lineplot(data=temp_df, x=\"index\", y=\"Year\")\n",
    "\n",
    "plt.xlabel(\"Years\")\n",
    "plt.ylabel(\"Number of Prizes\")\n",
    "\n",
    "plt.title(\"Number of Prizes per Year\")\n",
    "\n",
    "plt.grid(visible=True, which='major', color='#666666', linestyle='--')\n",
    "\n",
    "plt.minorticks_on()\n",
    "plt.grid(visible=True, which='minor', color='#999999', linestyle='-', alpha=0.2)\n",
    "\n",
    "plt.show()"
   ]
  },
  {
   "cell_type": "code",
   "execution_count": 10,
   "id": "0edd0142",
   "metadata": {},
   "outputs": [
    {
     "data": {
      "text/html": [
       "<div>\n",
       "<style scoped>\n",
       "    .dataframe tbody tr th:only-of-type {\n",
       "        vertical-align: middle;\n",
       "    }\n",
       "\n",
       "    .dataframe tbody tr th {\n",
       "        vertical-align: top;\n",
       "    }\n",
       "\n",
       "    .dataframe thead th {\n",
       "        text-align: right;\n",
       "    }\n",
       "</style>\n",
       "<table border=\"1\" class=\"dataframe\">\n",
       "  <thead>\n",
       "    <tr style=\"text-align: right;\">\n",
       "      <th></th>\n",
       "      <th>Year</th>\n",
       "      <th>Laureate_Id</th>\n",
       "    </tr>\n",
       "  </thead>\n",
       "  <tbody>\n",
       "    <tr>\n",
       "      <th>0</th>\n",
       "      <td>1901</td>\n",
       "      <td>6</td>\n",
       "    </tr>\n",
       "    <tr>\n",
       "      <th>1</th>\n",
       "      <td>1902</td>\n",
       "      <td>13</td>\n",
       "    </tr>\n",
       "    <tr>\n",
       "      <th>2</th>\n",
       "      <td>1903</td>\n",
       "      <td>20</td>\n",
       "    </tr>\n",
       "    <tr>\n",
       "      <th>3</th>\n",
       "      <td>1904</td>\n",
       "      <td>26</td>\n",
       "    </tr>\n",
       "    <tr>\n",
       "      <th>4</th>\n",
       "      <td>1905</td>\n",
       "      <td>31</td>\n",
       "    </tr>\n",
       "    <tr>\n",
       "      <th>...</th>\n",
       "      <td>...</td>\n",
       "      <td>...</td>\n",
       "    </tr>\n",
       "    <tr>\n",
       "      <th>114</th>\n",
       "      <td>2018</td>\n",
       "      <td>936</td>\n",
       "    </tr>\n",
       "    <tr>\n",
       "      <th>115</th>\n",
       "      <td>2019</td>\n",
       "      <td>950</td>\n",
       "    </tr>\n",
       "    <tr>\n",
       "      <th>116</th>\n",
       "      <td>2020</td>\n",
       "      <td>962</td>\n",
       "    </tr>\n",
       "    <tr>\n",
       "      <th>117</th>\n",
       "      <td>2021</td>\n",
       "      <td>975</td>\n",
       "    </tr>\n",
       "    <tr>\n",
       "      <th>118</th>\n",
       "      <td>2022</td>\n",
       "      <td>989</td>\n",
       "    </tr>\n",
       "  </tbody>\n",
       "</table>\n",
       "<p>119 rows × 2 columns</p>\n",
       "</div>"
      ],
      "text/plain": [
       "     Year  Laureate_Id\n",
       "0    1901            6\n",
       "1    1902           13\n",
       "2    1903           20\n",
       "3    1904           26\n",
       "4    1905           31\n",
       "..    ...          ...\n",
       "114  2018          936\n",
       "115  2019          950\n",
       "116  2020          962\n",
       "117  2021          975\n",
       "118  2022          989\n",
       "\n",
       "[119 rows x 2 columns]"
      ]
     },
     "execution_count": 10,
     "metadata": {},
     "output_type": "execute_result"
    }
   ],
   "source": [
    "df1 = df.groupby(\"Year\")[\"Laureate_Id\"].count().cumsum().reset_index()\n",
    "df1"
   ]
  },
  {
   "cell_type": "code",
   "execution_count": 11,
   "id": "9e88d8f3",
   "metadata": {},
   "outputs": [
    {
     "data": {
      "image/png": "[encoded data removed]",
      "text/plain": [
       "<Figure size 720x288 with 1 Axes>"
      ]
     },
     "metadata": {
      "needs_background": "light"
     },
     "output_type": "display_data"
    }
   ],
   "source": [
    "plt.figure(figsize = (10,4))\n",
    "\n",
    "plt.plot(df1[\"Year\"], df1[\"Laureate_Id\"], color=\"blue\")\n",
    "plt.xlabel(\"Years\")\n",
    "plt.ylabel(\"Number of Prizes\")\n",
    "\n",
    "plt.title(\"Cumulative number of Prizes per Year\")\n",
    "\n",
    "plt.grid(visible=True, which='major', color='#666666', linestyle='--')\n",
    "\n",
    "plt.minorticks_on()\n",
    "plt.grid(visible=True, which='minor', color='#999999', linestyle='-', alpha=0.2)\n",
    "\n",
    "plt.show()"
   ]
  },
  {
   "cell_type": "code",
   "execution_count": 12,
   "id": "56e82f21",
   "metadata": {},
   "outputs": [
    {
     "data": {
      "text/plain": [
       "medicine      225\n",
       "physics       222\n",
       "chemistry     191\n",
       "peace         140\n",
       "literature    119\n",
       "economics      92\n",
       "Name: Category, dtype: int64"
      ]
     },
     "execution_count": 12,
     "metadata": {},
     "output_type": "execute_result"
    }
   ],
   "source": [
    "df[\"Category\"].value_counts()"
   ]
  },
  {
   "cell_type": "code",
   "execution_count": 13,
   "id": "80febd22",
   "metadata": {},
   "outputs": [
    {
     "data": {
      "image/png": "[encoded data removed]",
      "text/plain": [
       "<Figure size 576x360 with 1 Axes>"
      ]
     },
     "metadata": {
      "needs_background": "light"
     },
     "output_type": "display_data"
    }
   ],
   "source": [
    "plt.figure(figsize = (8,5))\n",
    "\n",
    "ax = sns.countplot(data=df, x=\"Category\", order=df[\"Category\"].value_counts().index, palette = sns.color_palette(\"rocket_r\"), edgecolor='black')\n",
    "\n",
    "for label in ax.containers:\n",
    "    ax.bar_label(label)\n",
    "    \n",
    "plt.title(\"Number of Winners in each Category\")\n",
    "plt.show()"
   ]
  }
 ],
 "metadata": {
  "kernelspec": {
   "display_name": "Python 3",
   "language": "python",
   "name": "python3"
  },
  "language_info": {
   "codemirror_mode": {
    "name": "ipython",
    "version": 3
   },
   "file_extension": ".py",
   "mimetype": "text/x-python",
   "name": "python",
   "nbconvert_exporter": "python",
   "pygments_lexer": "ipython3",
   "version": "3.9.5"
  }
 },
 "nbformat": 4,
 "nbformat_minor": 5
}
