{
 "cells": [
  {
   "cell_type": "code",
   "execution_count": 1,
   "id": "f32474bc",
   "metadata": {
    "execution": {
     "iopub.execute_input": "2022-06-06T04:46:13.007037Z",
     "iopub.status.busy": "2022-06-06T04:46:13.006335Z",
     "iopub.status.idle": "2022-06-06T04:46:14.172939Z",
     "shell.execute_reply": "2022-06-06T04:46:14.171913Z"
    },
    "papermill": {
     "duration": 1.175294,
     "end_time": "2022-06-06T04:46:14.175624",
     "exception": false,
     "start_time": "2022-06-06T04:46:13.000330",
     "status": "completed"
    },
    "tags": []
   },
   "outputs": [],
   "source": [
    "import numpy as np \n",
    "import pandas as pd \n",
    "import seaborn as sns\n",
    "import matplotlib.pyplot as plt\n",
    "import colorsys\n",
    "%matplotlib inline\n",
    "\n",
    "from subprocess import check_output"
   ]
  },
  {
   "cell_type": "code",
   "execution_count": 2,
   "id": "fa2e27a3",
   "metadata": {
    "execution": {
     "iopub.execute_input": "2022-06-06T04:46:14.187703Z",
     "iopub.status.busy": "2022-06-06T04:46:14.186805Z",
     "iopub.status.idle": "2022-06-06T04:46:14.469574Z",
     "shell.execute_reply": "2022-06-06T04:46:14.468613Z"
    },
    "papermill": {
     "duration": 0.290086,
     "end_time": "2022-06-06T04:46:14.472014",
     "exception": false,
     "start_time": "2022-06-06T04:46:14.181928",
     "status": "completed"
    },
    "tags": []
   },
   "outputs": [],
   "source": [
    "historical = pd.read_csv('https://raw.githubusercontent.com/benvictoria17/DataAnalytics/main/dataset/AP%20Computer%20Science%20A%20Exam%20Dataset/historical.csv')\n",
    "pass_ = pd.read_csv('https://raw.githubusercontent.com/benvictoria17/DataAnalytics/main/dataset/AP%20Computer%20Science%20A%20Exam%20Dataset/pass_06_13.csv')"
   ]
  },
  {
   "cell_type": "code",
   "execution_count": 3,
   "id": "1ae27b0b",
   "metadata": {
    "execution": {
     "iopub.execute_input": "2022-06-06T04:46:14.481294Z",
     "iopub.status.busy": "2022-06-06T04:46:14.480492Z",
     "iopub.status.idle": "2022-06-06T04:46:14.503955Z",
     "shell.execute_reply": "2022-06-06T04:46:14.502936Z"
    },
    "papermill": {
     "duration": 0.03149,
     "end_time": "2022-06-06T04:46:14.507187",
     "exception": false,
     "start_time": "2022-06-06T04:46:14.475697",
     "status": "completed"
    },
    "tags": []
   },
   "outputs": [
    {
     "data": {
      "text/html": [
       "<div>\n",
       "<style scoped>\n",
       "    .dataframe tbody tr th:only-of-type {\n",
       "        vertical-align: middle;\n",
       "    }\n",
       "\n",
       "    .dataframe tbody tr th {\n",
       "        vertical-align: top;\n",
       "    }\n",
       "\n",
       "    .dataframe thead th {\n",
       "        text-align: right;\n",
       "    }\n",
       "</style>\n",
       "<table border=\"1\" class=\"dataframe\">\n",
       "  <thead>\n",
       "    <tr style=\"text-align: right;\">\n",
       "      <th></th>\n",
       "      <th>state</th>\n",
       "      <th>1998</th>\n",
       "      <th>1999</th>\n",
       "      <th>2000</th>\n",
       "      <th>2001</th>\n",
       "      <th>2002</th>\n",
       "      <th>2003</th>\n",
       "      <th>2004</th>\n",
       "      <th>2005</th>\n",
       "      <th>2006</th>\n",
       "      <th>2007</th>\n",
       "      <th>2008</th>\n",
       "      <th>2009</th>\n",
       "      <th>2010</th>\n",
       "      <th>2011</th>\n",
       "      <th>2012</th>\n",
       "      <th>2013</th>\n",
       "      <th>Pop</th>\n",
       "    </tr>\n",
       "  </thead>\n",
       "  <tbody>\n",
       "    <tr>\n",
       "      <th>0</th>\n",
       "      <td>California</td>\n",
       "      <td>890</td>\n",
       "      <td>1981</td>\n",
       "      <td>2237</td>\n",
       "      <td>2664</td>\n",
       "      <td>2479</td>\n",
       "      <td>2396</td>\n",
       "      <td>2103</td>\n",
       "      <td>2095</td>\n",
       "      <td>2224</td>\n",
       "      <td>2151</td>\n",
       "      <td>2135</td>\n",
       "      <td>2193</td>\n",
       "      <td>2793</td>\n",
       "      <td>3101</td>\n",
       "      <td>3920</td>\n",
       "      <td>4964</td>\n",
       "      <td>38041430</td>\n",
       "    </tr>\n",
       "    <tr>\n",
       "      <th>1</th>\n",
       "      <td>Texas</td>\n",
       "      <td>825</td>\n",
       "      <td>1266</td>\n",
       "      <td>1743</td>\n",
       "      <td>2110</td>\n",
       "      <td>2191</td>\n",
       "      <td>1980</td>\n",
       "      <td>2099</td>\n",
       "      <td>2167</td>\n",
       "      <td>2411</td>\n",
       "      <td>2593</td>\n",
       "      <td>2951</td>\n",
       "      <td>3224</td>\n",
       "      <td>3392</td>\n",
       "      <td>3597</td>\n",
       "      <td>3614</td>\n",
       "      <td>3979</td>\n",
       "      <td>26059203</td>\n",
       "    </tr>\n",
       "    <tr>\n",
       "      <th>2</th>\n",
       "      <td>New York</td>\n",
       "      <td>802</td>\n",
       "      <td>1293</td>\n",
       "      <td>1429</td>\n",
       "      <td>1594</td>\n",
       "      <td>1677</td>\n",
       "      <td>1369</td>\n",
       "      <td>1366</td>\n",
       "      <td>1186</td>\n",
       "      <td>1141</td>\n",
       "      <td>1175</td>\n",
       "      <td>1050</td>\n",
       "      <td>1132</td>\n",
       "      <td>1460</td>\n",
       "      <td>1334</td>\n",
       "      <td>1821</td>\n",
       "      <td>1858</td>\n",
       "      <td>19570261</td>\n",
       "    </tr>\n",
       "    <tr>\n",
       "      <th>3</th>\n",
       "      <td>Virginia</td>\n",
       "      <td>365</td>\n",
       "      <td>733</td>\n",
       "      <td>677</td>\n",
       "      <td>838</td>\n",
       "      <td>636</td>\n",
       "      <td>640</td>\n",
       "      <td>591</td>\n",
       "      <td>535</td>\n",
       "      <td>646</td>\n",
       "      <td>888</td>\n",
       "      <td>859</td>\n",
       "      <td>913</td>\n",
       "      <td>1177</td>\n",
       "      <td>1203</td>\n",
       "      <td>1430</td>\n",
       "      <td>1655</td>\n",
       "      <td>8185867</td>\n",
       "    </tr>\n",
       "    <tr>\n",
       "      <th>4</th>\n",
       "      <td>Maryland</td>\n",
       "      <td>119</td>\n",
       "      <td>337</td>\n",
       "      <td>480</td>\n",
       "      <td>571</td>\n",
       "      <td>599</td>\n",
       "      <td>623</td>\n",
       "      <td>673</td>\n",
       "      <td>725</td>\n",
       "      <td>752</td>\n",
       "      <td>808</td>\n",
       "      <td>895</td>\n",
       "      <td>1038</td>\n",
       "      <td>1352</td>\n",
       "      <td>1330</td>\n",
       "      <td>1473</td>\n",
       "      <td>1629</td>\n",
       "      <td>5884563</td>\n",
       "    </tr>\n",
       "  </tbody>\n",
       "</table>\n",
       "</div>"
      ],
      "text/plain": [
       "        state  1998  1999  2000  2001  2002  2003  2004  2005  2006  2007  \\\n",
       "0  California   890  1981  2237  2664  2479  2396  2103  2095  2224  2151   \n",
       "1       Texas   825  1266  1743  2110  2191  1980  2099  2167  2411  2593   \n",
       "2    New York   802  1293  1429  1594  1677  1369  1366  1186  1141  1175   \n",
       "3    Virginia   365   733   677   838   636   640   591   535   646   888   \n",
       "4    Maryland   119   337   480   571   599   623   673   725   752   808   \n",
       "\n",
       "   2008  2009  2010  2011  2012  2013       Pop  \n",
       "0  2135  2193  2793  3101  3920  4964  38041430  \n",
       "1  2951  3224  3392  3597  3614  3979  26059203  \n",
       "2  1050  1132  1460  1334  1821  1858  19570261  \n",
       "3   859   913  1177  1203  1430  1655   8185867  \n",
       "4   895  1038  1352  1330  1473  1629   5884563  "
      ]
     },
     "execution_count": 3,
     "metadata": {},
     "output_type": "execute_result"
    }
   ],
   "source": [
    "historical.head()"
   ]
  },
  {
   "cell_type": "code",
   "execution_count": 4,
   "id": "272ba70d",
   "metadata": {
    "execution": {
     "iopub.execute_input": "2022-06-06T04:46:14.517303Z",
     "iopub.status.busy": "2022-06-06T04:46:14.516537Z",
     "iopub.status.idle": "2022-06-06T04:46:14.581273Z",
     "shell.execute_reply": "2022-06-06T04:46:14.580279Z"
    },
    "papermill": {
     "duration": 0.072477,
     "end_time": "2022-06-06T04:46:14.583723",
     "exception": false,
     "start_time": "2022-06-06T04:46:14.511246",
     "status": "completed"
    },
    "tags": []
   },
   "outputs": [
    {
     "data": {
      "text/html": [
       "<div>\n",
       "<style scoped>\n",
       "    .dataframe tbody tr th:only-of-type {\n",
       "        vertical-align: middle;\n",
       "    }\n",
       "\n",
       "    .dataframe tbody tr th {\n",
       "        vertical-align: top;\n",
       "    }\n",
       "\n",
       "    .dataframe thead th {\n",
       "        text-align: right;\n",
       "    }\n",
       "</style>\n",
       "<table border=\"1\" class=\"dataframe\">\n",
       "  <thead>\n",
       "    <tr style=\"text-align: right;\">\n",
       "      <th></th>\n",
       "      <th>1998</th>\n",
       "      <th>2000</th>\n",
       "      <th>2001</th>\n",
       "      <th>2002</th>\n",
       "      <th>2003</th>\n",
       "      <th>2004</th>\n",
       "      <th>2005</th>\n",
       "      <th>2006</th>\n",
       "      <th>2007</th>\n",
       "      <th>2008</th>\n",
       "      <th>2009</th>\n",
       "      <th>2010</th>\n",
       "      <th>2011</th>\n",
       "      <th>2012</th>\n",
       "      <th>2013</th>\n",
       "      <th>Pop</th>\n",
       "    </tr>\n",
       "  </thead>\n",
       "  <tbody>\n",
       "    <tr>\n",
       "      <th>count</th>\n",
       "      <td>51.000000</td>\n",
       "      <td>51.000000</td>\n",
       "      <td>51.000000</td>\n",
       "      <td>51.000000</td>\n",
       "      <td>51.000000</td>\n",
       "      <td>51.000000</td>\n",
       "      <td>51.00000</td>\n",
       "      <td>51.000000</td>\n",
       "      <td>51.000000</td>\n",
       "      <td>51.000000</td>\n",
       "      <td>51.000000</td>\n",
       "      <td>51.000000</td>\n",
       "      <td>51.000000</td>\n",
       "      <td>51.000000</td>\n",
       "      <td>51.000000</td>\n",
       "      <td>5.100000e+01</td>\n",
       "    </tr>\n",
       "    <tr>\n",
       "      <th>mean</th>\n",
       "      <td>120.294118</td>\n",
       "      <td>258.019608</td>\n",
       "      <td>299.117647</td>\n",
       "      <td>296.921569</td>\n",
       "      <td>277.000000</td>\n",
       "      <td>270.117647</td>\n",
       "      <td>263.27451</td>\n",
       "      <td>276.627451</td>\n",
       "      <td>284.882353</td>\n",
       "      <td>294.392157</td>\n",
       "      <td>314.921569</td>\n",
       "      <td>378.137255</td>\n",
       "      <td>414.490196</td>\n",
       "      <td>485.921569</td>\n",
       "      <td>579.509804</td>\n",
       "      <td>6.155177e+06</td>\n",
       "    </tr>\n",
       "    <tr>\n",
       "      <th>std</th>\n",
       "      <td>209.816996</td>\n",
       "      <td>446.989865</td>\n",
       "      <td>527.393616</td>\n",
       "      <td>516.397050</td>\n",
       "      <td>478.792439</td>\n",
       "      <td>465.261374</td>\n",
       "      <td>458.16565</td>\n",
       "      <td>490.588339</td>\n",
       "      <td>506.196865</td>\n",
       "      <td>537.558930</td>\n",
       "      <td>577.261045</td>\n",
       "      <td>664.874425</td>\n",
       "      <td>709.767437</td>\n",
       "      <td>811.841754</td>\n",
       "      <td>957.573295</td>\n",
       "      <td>6.974698e+06</td>\n",
       "    </tr>\n",
       "    <tr>\n",
       "      <th>min</th>\n",
       "      <td>0.000000</td>\n",
       "      <td>0.000000</td>\n",
       "      <td>1.000000</td>\n",
       "      <td>0.000000</td>\n",
       "      <td>0.000000</td>\n",
       "      <td>2.000000</td>\n",
       "      <td>0.00000</td>\n",
       "      <td>1.000000</td>\n",
       "      <td>0.000000</td>\n",
       "      <td>1.000000</td>\n",
       "      <td>1.000000</td>\n",
       "      <td>5.000000</td>\n",
       "      <td>0.000000</td>\n",
       "      <td>1.000000</td>\n",
       "      <td>0.000000</td>\n",
       "      <td>5.764120e+05</td>\n",
       "    </tr>\n",
       "    <tr>\n",
       "      <th>25%</th>\n",
       "      <td>11.500000</td>\n",
       "      <td>25.500000</td>\n",
       "      <td>26.500000</td>\n",
       "      <td>34.500000</td>\n",
       "      <td>24.000000</td>\n",
       "      <td>25.000000</td>\n",
       "      <td>31.00000</td>\n",
       "      <td>33.500000</td>\n",
       "      <td>28.500000</td>\n",
       "      <td>26.500000</td>\n",
       "      <td>24.000000</td>\n",
       "      <td>30.500000</td>\n",
       "      <td>45.000000</td>\n",
       "      <td>61.000000</td>\n",
       "      <td>59.000000</td>\n",
       "      <td>1.725570e+06</td>\n",
       "    </tr>\n",
       "    <tr>\n",
       "      <th>50%</th>\n",
       "      <td>38.000000</td>\n",
       "      <td>69.000000</td>\n",
       "      <td>77.000000</td>\n",
       "      <td>81.000000</td>\n",
       "      <td>69.000000</td>\n",
       "      <td>64.000000</td>\n",
       "      <td>73.00000</td>\n",
       "      <td>87.000000</td>\n",
       "      <td>80.000000</td>\n",
       "      <td>76.000000</td>\n",
       "      <td>78.000000</td>\n",
       "      <td>90.000000</td>\n",
       "      <td>113.000000</td>\n",
       "      <td>132.000000</td>\n",
       "      <td>174.000000</td>\n",
       "      <td>4.380415e+06</td>\n",
       "    </tr>\n",
       "    <tr>\n",
       "      <th>75%</th>\n",
       "      <td>133.000000</td>\n",
       "      <td>316.000000</td>\n",
       "      <td>342.500000</td>\n",
       "      <td>349.000000</td>\n",
       "      <td>337.500000</td>\n",
       "      <td>329.500000</td>\n",
       "      <td>297.00000</td>\n",
       "      <td>293.000000</td>\n",
       "      <td>274.000000</td>\n",
       "      <td>304.500000</td>\n",
       "      <td>327.500000</td>\n",
       "      <td>389.000000</td>\n",
       "      <td>425.500000</td>\n",
       "      <td>489.000000</td>\n",
       "      <td>637.000000</td>\n",
       "      <td>6.771578e+06</td>\n",
       "    </tr>\n",
       "    <tr>\n",
       "      <th>max</th>\n",
       "      <td>890.000000</td>\n",
       "      <td>2237.000000</td>\n",
       "      <td>2664.000000</td>\n",
       "      <td>2479.000000</td>\n",
       "      <td>2396.000000</td>\n",
       "      <td>2103.000000</td>\n",
       "      <td>2167.00000</td>\n",
       "      <td>2411.000000</td>\n",
       "      <td>2593.000000</td>\n",
       "      <td>2951.000000</td>\n",
       "      <td>3224.000000</td>\n",
       "      <td>3392.000000</td>\n",
       "      <td>3597.000000</td>\n",
       "      <td>3920.000000</td>\n",
       "      <td>4964.000000</td>\n",
       "      <td>3.804143e+07</td>\n",
       "    </tr>\n",
       "  </tbody>\n",
       "</table>\n",
       "</div>"
      ],
      "text/plain": [
       "             1998         2000         2001         2002         2003  \\\n",
       "count   51.000000    51.000000    51.000000    51.000000    51.000000   \n",
       "mean   120.294118   258.019608   299.117647   296.921569   277.000000   \n",
       "std    209.816996   446.989865   527.393616   516.397050   478.792439   \n",
       "min      0.000000     0.000000     1.000000     0.000000     0.000000   \n",
       "25%     11.500000    25.500000    26.500000    34.500000    24.000000   \n",
       "50%     38.000000    69.000000    77.000000    81.000000    69.000000   \n",
       "75%    133.000000   316.000000   342.500000   349.000000   337.500000   \n",
       "max    890.000000  2237.000000  2664.000000  2479.000000  2396.000000   \n",
       "\n",
       "              2004        2005         2006         2007         2008  \\\n",
       "count    51.000000    51.00000    51.000000    51.000000    51.000000   \n",
       "mean    270.117647   263.27451   276.627451   284.882353   294.392157   \n",
       "std     465.261374   458.16565   490.588339   506.196865   537.558930   \n",
       "min       2.000000     0.00000     1.000000     0.000000     1.000000   \n",
       "25%      25.000000    31.00000    33.500000    28.500000    26.500000   \n",
       "50%      64.000000    73.00000    87.000000    80.000000    76.000000   \n",
       "75%     329.500000   297.00000   293.000000   274.000000   304.500000   \n",
       "max    2103.000000  2167.00000  2411.000000  2593.000000  2951.000000   \n",
       "\n",
       "              2009         2010         2011         2012         2013  \\\n",
       "count    51.000000    51.000000    51.000000    51.000000    51.000000   \n",
       "mean    314.921569   378.137255   414.490196   485.921569   579.509804   \n",
       "std     577.261045   664.874425   709.767437   811.841754   957.573295   \n",
       "min       1.000000     5.000000     0.000000     1.000000     0.000000   \n",
       "25%      24.000000    30.500000    45.000000    61.000000    59.000000   \n",
       "50%      78.000000    90.000000   113.000000   132.000000   174.000000   \n",
       "75%     327.500000   389.000000   425.500000   489.000000   637.000000   \n",
       "max    3224.000000  3392.000000  3597.000000  3920.000000  4964.000000   \n",
       "\n",
       "                Pop  \n",
       "count  5.100000e+01  \n",
       "mean   6.155177e+06  \n",
       "std    6.974698e+06  \n",
       "min    5.764120e+05  \n",
       "25%    1.725570e+06  \n",
       "50%    4.380415e+06  \n",
       "75%    6.771578e+06  \n",
       "max    3.804143e+07  "
      ]
     },
     "execution_count": 4,
     "metadata": {},
     "output_type": "execute_result"
    }
   ],
   "source": [
    "historical.describe()"
   ]
  },
  {
   "cell_type": "code",
   "execution_count": 5,
   "id": "c7751e84",
   "metadata": {
    "execution": {
     "iopub.execute_input": "2022-06-06T04:46:14.594755Z",
     "iopub.status.busy": "2022-06-06T04:46:14.594363Z",
     "iopub.status.idle": "2022-06-06T04:46:14.623478Z",
     "shell.execute_reply": "2022-06-06T04:46:14.622403Z"
    },
    "papermill": {
     "duration": 0.037437,
     "end_time": "2022-06-06T04:46:14.625731",
     "exception": false,
     "start_time": "2022-06-06T04:46:14.588294",
     "status": "completed"
    },
    "tags": []
   },
   "outputs": [
    {
     "data": {
      "text/html": [
       "<div>\n",
       "<style scoped>\n",
       "    .dataframe tbody tr th:only-of-type {\n",
       "        vertical-align: middle;\n",
       "    }\n",
       "\n",
       "    .dataframe tbody tr th {\n",
       "        vertical-align: top;\n",
       "    }\n",
       "\n",
       "    .dataframe thead th {\n",
       "        text-align: right;\n",
       "    }\n",
       "</style>\n",
       "<table border=\"1\" class=\"dataframe\">\n",
       "  <thead>\n",
       "    <tr style=\"text-align: right;\">\n",
       "      <th></th>\n",
       "      <th>state</th>\n",
       "      <th>year</th>\n",
       "      <th>schools_offering</th>\n",
       "      <th>total</th>\n",
       "      <th>passed</th>\n",
       "      <th>female</th>\n",
       "      <th>female_passed</th>\n",
       "      <th>black</th>\n",
       "      <th>black_passed</th>\n",
       "      <th>black_male</th>\n",
       "      <th>...</th>\n",
       "      <th>white</th>\n",
       "      <th>white_passed</th>\n",
       "      <th>white_male</th>\n",
       "      <th>white_female</th>\n",
       "      <th>asian</th>\n",
       "      <th>asian_passed</th>\n",
       "      <th>asian_male</th>\n",
       "      <th>asian_female</th>\n",
       "      <th>male</th>\n",
       "      <th>male_passed</th>\n",
       "    </tr>\n",
       "  </thead>\n",
       "  <tbody>\n",
       "    <tr>\n",
       "      <th>0</th>\n",
       "      <td>National Data - CS A</td>\n",
       "      <td>2006</td>\n",
       "      <td>NaN</td>\n",
       "      <td>14108</td>\n",
       "      <td>8227</td>\n",
       "      <td>2495</td>\n",
       "      <td>1251</td>\n",
       "      <td>668</td>\n",
       "      <td>154</td>\n",
       "      <td>468</td>\n",
       "      <td>...</td>\n",
       "      <td>8240.0</td>\n",
       "      <td>5224.0</td>\n",
       "      <td>7081.0</td>\n",
       "      <td>1159.0</td>\n",
       "      <td>2846.0</td>\n",
       "      <td>1733.0</td>\n",
       "      <td>2178.0</td>\n",
       "      <td>668.0</td>\n",
       "      <td>NaN</td>\n",
       "      <td>NaN</td>\n",
       "    </tr>\n",
       "    <tr>\n",
       "      <th>1</th>\n",
       "      <td>National Data - CS A</td>\n",
       "      <td>2007</td>\n",
       "      <td>NaN</td>\n",
       "      <td>14529</td>\n",
       "      <td>8184</td>\n",
       "      <td>2665</td>\n",
       "      <td>1262</td>\n",
       "      <td>640</td>\n",
       "      <td>127</td>\n",
       "      <td>437</td>\n",
       "      <td>...</td>\n",
       "      <td>8516.0</td>\n",
       "      <td>5191.0</td>\n",
       "      <td>7333.0</td>\n",
       "      <td>1183.0</td>\n",
       "      <td>3319.0</td>\n",
       "      <td>1984.0</td>\n",
       "      <td>2474.0</td>\n",
       "      <td>845.0</td>\n",
       "      <td>NaN</td>\n",
       "      <td>NaN</td>\n",
       "    </tr>\n",
       "    <tr>\n",
       "      <th>2</th>\n",
       "      <td>National Data - CS A</td>\n",
       "      <td>2008</td>\n",
       "      <td>1778.0</td>\n",
       "      <td>15014</td>\n",
       "      <td>8537</td>\n",
       "      <td>2789</td>\n",
       "      <td>1450</td>\n",
       "      <td>673</td>\n",
       "      <td>167</td>\n",
       "      <td>454</td>\n",
       "      <td>...</td>\n",
       "      <td>8757.0</td>\n",
       "      <td>5359.0</td>\n",
       "      <td>7453.0</td>\n",
       "      <td>1304.0</td>\n",
       "      <td>3556.0</td>\n",
       "      <td>2169.0</td>\n",
       "      <td>2697.0</td>\n",
       "      <td>859.0</td>\n",
       "      <td>NaN</td>\n",
       "      <td>NaN</td>\n",
       "    </tr>\n",
       "    <tr>\n",
       "      <th>3</th>\n",
       "      <td>National Data - CS A</td>\n",
       "      <td>2009</td>\n",
       "      <td>1879.0</td>\n",
       "      <td>16061</td>\n",
       "      <td>9925</td>\n",
       "      <td>3096</td>\n",
       "      <td>1724</td>\n",
       "      <td>778</td>\n",
       "      <td>177</td>\n",
       "      <td>538</td>\n",
       "      <td>...</td>\n",
       "      <td>9064.0</td>\n",
       "      <td>6054.0</td>\n",
       "      <td>7725.0</td>\n",
       "      <td>1339.0</td>\n",
       "      <td>3979.0</td>\n",
       "      <td>2645.0</td>\n",
       "      <td>2963.0</td>\n",
       "      <td>1016.0</td>\n",
       "      <td>NaN</td>\n",
       "      <td>NaN</td>\n",
       "    </tr>\n",
       "    <tr>\n",
       "      <th>4</th>\n",
       "      <td>National Data - CS A</td>\n",
       "      <td>2010</td>\n",
       "      <td>2048.0</td>\n",
       "      <td>19390</td>\n",
       "      <td>12550</td>\n",
       "      <td>3726</td>\n",
       "      <td>2201</td>\n",
       "      <td>825</td>\n",
       "      <td>224</td>\n",
       "      <td>577</td>\n",
       "      <td>...</td>\n",
       "      <td>10556.0</td>\n",
       "      <td>7237.0</td>\n",
       "      <td>8938.0</td>\n",
       "      <td>1618.0</td>\n",
       "      <td>5131.0</td>\n",
       "      <td>3625.0</td>\n",
       "      <td>3842.0</td>\n",
       "      <td>1289.0</td>\n",
       "      <td>NaN</td>\n",
       "      <td>NaN</td>\n",
       "    </tr>\n",
       "  </tbody>\n",
       "</table>\n",
       "<p>5 rows × 29 columns</p>\n",
       "</div>"
      ],
      "text/plain": [
       "                   state  year  schools_offering  total  passed  female  \\\n",
       "0  National Data - CS A   2006               NaN  14108    8227    2495   \n",
       "1  National Data - CS A   2007               NaN  14529    8184    2665   \n",
       "2  National Data - CS A   2008            1778.0  15014    8537    2789   \n",
       "3  National Data - CS A   2009            1879.0  16061    9925    3096   \n",
       "4  National Data - CS A   2010            2048.0  19390   12550    3726   \n",
       "\n",
       "  female_passed  black black_passed  black_male  ...    white  white_passed  \\\n",
       "0          1251    668          154         468  ...   8240.0        5224.0   \n",
       "1          1262    640          127         437  ...   8516.0        5191.0   \n",
       "2          1450    673          167         454  ...   8757.0        5359.0   \n",
       "3          1724    778          177         538  ...   9064.0        6054.0   \n",
       "4          2201    825          224         577  ...  10556.0        7237.0   \n",
       "\n",
       "  white_male  white_female   asian  asian_passed asian_male  asian_female  \\\n",
       "0     7081.0        1159.0  2846.0        1733.0     2178.0         668.0   \n",
       "1     7333.0        1183.0  3319.0        1984.0     2474.0         845.0   \n",
       "2     7453.0        1304.0  3556.0        2169.0     2697.0         859.0   \n",
       "3     7725.0        1339.0  3979.0        2645.0     2963.0        1016.0   \n",
       "4     8938.0        1618.0  5131.0        3625.0     3842.0        1289.0   \n",
       "\n",
       "   male  male_passed  \n",
       "0   NaN          NaN  \n",
       "1   NaN          NaN  \n",
       "2   NaN          NaN  \n",
       "3   NaN          NaN  \n",
       "4   NaN          NaN  \n",
       "\n",
       "[5 rows x 29 columns]"
      ]
     },
     "execution_count": 5,
     "metadata": {},
     "output_type": "execute_result"
    }
   ],
   "source": [
    "pass_.head()"
   ]
  },
  {
   "cell_type": "code",
   "execution_count": 6,
   "id": "d8ef52e6",
   "metadata": {
    "execution": {
     "iopub.execute_input": "2022-06-06T04:46:14.637587Z",
     "iopub.status.busy": "2022-06-06T04:46:14.636526Z",
     "iopub.status.idle": "2022-06-06T04:46:14.642531Z",
     "shell.execute_reply": "2022-06-06T04:46:14.641551Z"
    },
    "papermill": {
     "duration": 0.014336,
     "end_time": "2022-06-06T04:46:14.644905",
     "exception": false,
     "start_time": "2022-06-06T04:46:14.630569",
     "status": "completed"
    },
    "tags": []
   },
   "outputs": [
    {
     "name": "stdout",
     "output_type": "stream",
     "text": [
      "['state', 'year', 'schools_offering', 'total', 'passed', 'female', 'female_passed', 'black', 'black_passed', 'black_male', 'black_male_passed', 'black_female', 'black_female_passed', 'hispanic', 'hispanic_passed', 'hispanic_female', 'hispanic_female_passed', 'hispanic_male', 'hispanic_male_passed', 'white', 'white_passed', 'white_male', 'white_female', 'asian', 'asian_passed', 'asian_male', 'asian_female', 'male', 'male_passed']\n"
     ]
    }
   ],
   "source": [
    "print(pass_.columns.tolist())"
   ]
  },
  {
   "cell_type": "code",
   "execution_count": 7,
   "id": "beabb605",
   "metadata": {
    "execution": {
     "iopub.execute_input": "2022-06-06T04:46:14.656737Z",
     "iopub.status.busy": "2022-06-06T04:46:14.656362Z",
     "iopub.status.idle": "2022-06-06T04:46:14.682838Z",
     "shell.execute_reply": "2022-06-06T04:46:14.682126Z"
    },
    "papermill": {
     "duration": 0.034818,
     "end_time": "2022-06-06T04:46:14.684878",
     "exception": false,
     "start_time": "2022-06-06T04:46:14.650060",
     "status": "completed"
    },
    "tags": []
   },
   "outputs": [],
   "source": [
    "total = pass_[['year','black','hispanic','white', 'asian']].groupby(['year']).agg(['sum'])\n",
    "total = total[['black','hispanic','white','asian']].reset_index()\n",
    "total.columns = total.columns.droplevel()\n",
    "total.columns = ['year','black','hispanic','white','asian']"
   ]
  },
  {
   "cell_type": "code",
   "execution_count": 8,
   "id": "2e66549e",
   "metadata": {
    "execution": {
     "iopub.execute_input": "2022-06-06T04:46:14.697346Z",
     "iopub.status.busy": "2022-06-06T04:46:14.696766Z",
     "iopub.status.idle": "2022-06-06T04:46:15.029114Z",
     "shell.execute_reply": "2022-06-06T04:46:15.028042Z"
    },
    "papermill": {
     "duration": 0.341321,
     "end_time": "2022-06-06T04:46:15.031627",
     "exception": false,
     "start_time": "2022-06-06T04:46:14.690306",
     "status": "completed"
    },
    "tags": []
   },
   "outputs": [
    {
     "data": {
      "text/plain": [
       "Text(0.5, 1.0, 'Participants in the AP Computer Science Exam by Race,1999-2013')"
      ]
     },
     "execution_count": 8,
     "metadata": {},
     "output_type": "execute_result"
    },
    {
     "data": {
      "image/png": "[encoded data removed]",
      "text/plain": [
       "<Figure size 720x432 with 1 Axes>"
      ]
     },
     "metadata": {
      "needs_background": "light"
     },
     "output_type": "display_data"
    }
   ],
   "source": [
    "total.plot.bar(x = 'year',figsize=(10,6),linewidth=0.75,width=0.7)\n",
    "plt.title('Participants in the AP Computer Science Exam by Race,1999-2013')"
   ]
  },
  {
   "cell_type": "code",
   "execution_count": 9,
   "id": "bf0e22e4",
   "metadata": {
    "execution": {
     "iopub.execute_input": "2022-06-06T04:46:15.045484Z",
     "iopub.status.busy": "2022-06-06T04:46:15.044504Z",
     "iopub.status.idle": "2022-06-06T04:46:15.372560Z",
     "shell.execute_reply": "2022-06-06T04:46:15.371817Z"
    },
    "papermill": {
     "duration": 0.337172,
     "end_time": "2022-06-06T04:46:15.374632",
     "exception": false,
     "start_time": "2022-06-06T04:46:15.037460",
     "status": "completed"
    },
    "tags": []
   },
   "outputs": [
    {
     "data": {
      "text/plain": [
       "Text(0.5, 1.0, 'Pass Rate')"
      ]
     },
     "execution_count": 9,
     "metadata": {},
     "output_type": "execute_result"
    },
    {
     "data": {
      "image/png": "[encoded data removed]",
      "text/plain": [
       "<Figure size 720x432 with 1 Axes>"
      ]
     },
     "metadata": {
      "needs_background": "light"
     },
     "output_type": "display_data"
    }
   ],
   "source": [
    "columns = ['year','black_passed', 'hispanic_passed',  'white_passed', 'asian_passed']\n",
    "pass_copy = pass_[['year','black_passed', 'hispanic_passed',  'white_passed', 'asian_passed']].copy()\n",
    "for col in columns:\n",
    "    pass_copy[col] = pd.to_numeric(pass_copy[col],errors='coerce') \n",
    "\n",
    "pass_copy = pass_copy[['year','black_passed', 'hispanic_passed',  'white_passed', 'asian_passed']].fillna(0)\n",
    "pass_rate = pass_copy[['year','black_passed', 'hispanic_passed',  'white_passed', 'asian_passed']].groupby(['year']).agg(['sum'])\n",
    "pass_rate = pass_rate[['black_passed', 'hispanic_passed',  'white_passed', 'asian_passed']].reset_index()\n",
    "pass_rate.columns = pass_rate.columns.droplevel()\n",
    "pass_rate.columns = ['year','black','hispanic','white','asian']\n",
    "pass_rate.plot.bar(x='year',figsize=(10,6),linewidth=0.75,width=0.7)\n",
    "plt.title('Pass Rate')"
   ]
  },
  {
   "cell_type": "code",
   "execution_count": 10,
   "id": "5b99a6e8",
   "metadata": {
    "execution": {
     "iopub.execute_input": "2022-06-06T04:46:15.389536Z",
     "iopub.status.busy": "2022-06-06T04:46:15.388960Z",
     "iopub.status.idle": "2022-06-06T04:46:15.820328Z",
     "shell.execute_reply": "2022-06-06T04:46:15.819629Z"
    },
    "papermill": {
     "duration": 0.440831,
     "end_time": "2022-06-06T04:46:15.822268",
     "exception": false,
     "start_time": "2022-06-06T04:46:15.381437",
     "status": "completed"
    },
    "tags": []
   },
   "outputs": [
    {
     "data": {
      "text/plain": [
       "Text(0.5, 1.0, 'Male vs Female')"
      ]
     },
     "execution_count": 10,
     "metadata": {},
     "output_type": "execute_result"
    },
    {
     "data": {
      "image/png": "[encoded data removed]",
      "text/plain": [
       "<Figure size 720x432 with 1 Axes>"
      ]
     },
     "metadata": {
      "needs_background": "light"
     },
     "output_type": "display_data"
    }
   ],
   "source": [
    "gender_pass = pass_[['year','black_male','black_female','white_male',\n",
    "                     'white_female','hispanic_male','hispanic_female',\n",
    "                     'asian_male','asian_female']].groupby(['year']).agg(['sum'])\n",
    "gender_pass = gender_pass.reset_index()\n",
    "gender_pass.columns = gender_pass.columns.droplevel()\n",
    "gender_pass.columns = ['year','black_male','black_female','white_male',\n",
    "                     'white_female','hispanic_male','hispanic_female',\n",
    "                     'asian_male','asian_female']\n",
    "gender_pass.plot.bar(x='year',figsize=(10,6),linewidth=0.8)\n",
    "plt.title('Male vs Female')"
   ]
  },
  {
   "cell_type": "code",
   "execution_count": 11,
   "id": "baf3852e",
   "metadata": {
    "execution": {
     "iopub.execute_input": "2022-06-06T04:46:15.838522Z",
     "iopub.status.busy": "2022-06-06T04:46:15.837912Z",
     "iopub.status.idle": "2022-06-06T04:46:15.850121Z",
     "shell.execute_reply": "2022-06-06T04:46:15.849330Z"
    },
    "papermill": {
     "duration": 0.023033,
     "end_time": "2022-06-06T04:46:15.852363",
     "exception": false,
     "start_time": "2022-06-06T04:46:15.829330",
     "status": "completed"
    },
    "tags": []
   },
   "outputs": [
    {
     "name": "stdout",
     "output_type": "stream",
     "text": [
      "<class 'pandas.core.frame.DataFrame'>\n",
      "RangeIndex: 51 entries, 0 to 50\n",
      "Data columns (total 18 columns):\n",
      " #   Column  Non-Null Count  Dtype \n",
      "---  ------  --------------  ----- \n",
      " 0   state   51 non-null     object\n",
      " 1   1998    51 non-null     int64 \n",
      " 2   1999    51 non-null     object\n",
      " 3   2000    51 non-null     int64 \n",
      " 4   2001    51 non-null     int64 \n",
      " 5   2002    51 non-null     int64 \n",
      " 6   2003    51 non-null     int64 \n",
      " 7   2004    51 non-null     int64 \n",
      " 8   2005    51 non-null     int64 \n",
      " 9   2006    51 non-null     int64 \n",
      " 10  2007    51 non-null     int64 \n",
      " 11  2008    51 non-null     int64 \n",
      " 12  2009    51 non-null     int64 \n",
      " 13  2010    51 non-null     int64 \n",
      " 14  2011    51 non-null     int64 \n",
      " 15  2012    51 non-null     int64 \n",
      " 16  2013    51 non-null     int64 \n",
      " 17  Pop     51 non-null     int64 \n",
      "dtypes: int64(16), object(2)\n",
      "memory usage: 7.3+ KB\n"
     ]
    }
   ],
   "source": [
    "historical.info()"
   ]
  },
  {
   "cell_type": "code",
   "execution_count": 12,
   "id": "1c53bf98",
   "metadata": {
    "execution": {
     "iopub.execute_input": "2022-06-06T04:46:15.869495Z",
     "iopub.status.busy": "2022-06-06T04:46:15.868824Z",
     "iopub.status.idle": "2022-06-06T04:46:16.331719Z",
     "shell.execute_reply": "2022-06-06T04:46:16.330749Z"
    },
    "papermill": {
     "duration": 0.474523,
     "end_time": "2022-06-06T04:46:16.334284",
     "exception": false,
     "start_time": "2022-06-06T04:46:15.859761",
     "status": "completed"
    },
    "tags": []
   },
   "outputs": [
    {
     "data": {
      "text/plain": [
       "Text(0.5, 1.0, 'exam taken per state per year')"
      ]
     },
     "execution_count": 12,
     "metadata": {},
     "output_type": "execute_result"
    },
    {
     "data": {
      "image/png": "[encoded data removed]",
      "text/plain": [
       "<Figure size 720x432 with 2 Axes>"
      ]
     },
     "metadata": {
      "needs_background": "light"
     },
     "output_type": "display_data"
    }
   ],
   "source": [
    "historical['1999'] = pd.to_numeric(historical['1999'],errors='coerce')\n",
    "historical.drop(['Pop'],axis=1,inplace=True)\n",
    "hm = historical.set_index('state')\n",
    "fig,ax = plt.subplots(figsize=(10,6))\n",
    "sns.heatmap(hm,ax=ax)\n",
    "plt.title('exam taken per state per year')"
   ]
  }
 ],
 "metadata": {
  "kernelspec": {
   "display_name": "Python 3",
   "language": "python",
   "name": "python3"
  },
  "language_info": {
   "codemirror_mode": {
    "name": "ipython",
    "version": 3
   },
   "file_extension": ".py",
   "mimetype": "text/x-python",
   "name": "python",
   "nbconvert_exporter": "python",
   "pygments_lexer": "ipython3",
   "version": "3.7.12"
  },
  "papermill": {
   "default_parameters": {},
   "duration": 14.491628,
   "end_time": "2022-06-06T04:46:17.164524",
   "environment_variables": {},
   "exception": null,
   "input_path": "__notebook__.ipynb",
   "output_path": "__notebook__.ipynb",
   "parameters": {},
   "start_time": "2022-06-06T04:46:02.672896",
   "version": "2.3.4"
  }
 },
 "nbformat": 4,
 "nbformat_minor": 5
}
