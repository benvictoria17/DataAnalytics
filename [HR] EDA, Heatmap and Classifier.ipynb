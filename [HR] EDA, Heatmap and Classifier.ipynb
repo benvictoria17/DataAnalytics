{
 "cells":[
  {
   "cell_type":"code",
   "source":[
    "import pandas as pd\n",
    "df = pd.read_csv(\"https:\/\/raw.githubusercontent.com\/benvictoria17\/DataAnalytics\/master\/dataset\/HR%20Data%20for%20Analytics\/HR_comma_sep.csv\")\n",
    "df.head()"
   ],
   "execution_count":1,
   "outputs":[
    {
     "data":{
      "text\/html":[
       "<div>\n",
       "<style scoped>\n",
       "    .dataframe tbody tr th:only-of-type {\n",
       "        vertical-align: middle;\n",
       "    }\n",
       "\n",
       "    .dataframe tbody tr th {\n",
       "        vertical-align: top;\n",
       "    }\n",
       "\n",
       "    .dataframe thead th {\n",
       "        text-align: right;\n",
       "    }\n",
       "<\/style>\n",
       "<table border=\"1\" class=\"dataframe\">\n",
       "  <thead>\n",
       "    <tr style=\"text-align: right;\">\n",
       "      <th><\/th>\n",
       "      <th>satisfaction_level<\/th>\n",
       "      <th>last_evaluation<\/th>\n",
       "      <th>number_project<\/th>\n",
       "      <th>average_montly_hours<\/th>\n",
       "      <th>time_spend_company<\/th>\n",
       "      <th>Work_accident<\/th>\n",
       "      <th>left<\/th>\n",
       "      <th>promotion_last_5years<\/th>\n",
       "      <th>sales<\/th>\n",
       "      <th>salary<\/th>\n",
       "    <\/tr>\n",
       "  <\/thead>\n",
       "  <tbody>\n",
       "    <tr>\n",
       "      <th>0<\/th>\n",
       "      <td>0.38<\/td>\n",
       "      <td>0.53<\/td>\n",
       "      <td>2<\/td>\n",
       "      <td>157<\/td>\n",
       "      <td>3<\/td>\n",
       "      <td>0<\/td>\n",
       "      <td>1<\/td>\n",
       "      <td>0<\/td>\n",
       "      <td>sales<\/td>\n",
       "      <td>low<\/td>\n",
       "    <\/tr>\n",
       "    <tr>\n",
       "      <th>1<\/th>\n",
       "      <td>0.80<\/td>\n",
       "      <td>0.86<\/td>\n",
       "      <td>5<\/td>\n",
       "      <td>262<\/td>\n",
       "      <td>6<\/td>\n",
       "      <td>0<\/td>\n",
       "      <td>1<\/td>\n",
       "      <td>0<\/td>\n",
       "      <td>sales<\/td>\n",
       "      <td>medium<\/td>\n",
       "    <\/tr>\n",
       "    <tr>\n",
       "      <th>2<\/th>\n",
       "      <td>0.11<\/td>\n",
       "      <td>0.88<\/td>\n",
       "      <td>7<\/td>\n",
       "      <td>272<\/td>\n",
       "      <td>4<\/td>\n",
       "      <td>0<\/td>\n",
       "      <td>1<\/td>\n",
       "      <td>0<\/td>\n",
       "      <td>sales<\/td>\n",
       "      <td>medium<\/td>\n",
       "    <\/tr>\n",
       "    <tr>\n",
       "      <th>3<\/th>\n",
       "      <td>0.72<\/td>\n",
       "      <td>0.87<\/td>\n",
       "      <td>5<\/td>\n",
       "      <td>223<\/td>\n",
       "      <td>5<\/td>\n",
       "      <td>0<\/td>\n",
       "      <td>1<\/td>\n",
       "      <td>0<\/td>\n",
       "      <td>sales<\/td>\n",
       "      <td>low<\/td>\n",
       "    <\/tr>\n",
       "    <tr>\n",
       "      <th>4<\/th>\n",
       "      <td>0.37<\/td>\n",
       "      <td>0.52<\/td>\n",
       "      <td>2<\/td>\n",
       "      <td>159<\/td>\n",
       "      <td>3<\/td>\n",
       "      <td>0<\/td>\n",
       "      <td>1<\/td>\n",
       "      <td>0<\/td>\n",
       "      <td>sales<\/td>\n",
       "      <td>low<\/td>\n",
       "    <\/tr>\n",
       "  <\/tbody>\n",
       "<\/table>\n",
       "<\/div>"
      ]
     },
     "metadata":{
      
     },
     "output_type":"display_data"
    }
   ],
   "metadata":{
    "datalore":{
     "type":"CODE",
     "hide_input_from_viewers":false,
     "hide_output_from_viewers":false
    }
   }
  },
  {
   "cell_type":"code",
   "source":[
    "sales_salary = pd.crosstab(df['sales'], df['salary'], normalize=False)\n",
    "sales_salary = sales_salary[['low', 'medium', 'high']]\n",
    "sales_salary['temp'] = sales_salary.index.values\n",
    "sales_salary.iloc[0, 3] = 'it'\n",
    "sales_salary.iloc[1, 3] = 'rand_d'\n",
    "sales_salary.sort_values(by='temp', inplace=True)\n",
    "sales_salary.set_index('temp', inplace=True, )\n",
    "sales_salary.index.name = 'sales'\n",
    "sales_salary"
   ],
   "execution_count":2,
   "outputs":[
    {
     "data":{
      "text\/html":[
       "<div>\n",
       "<style scoped>\n",
       "    .dataframe tbody tr th:only-of-type {\n",
       "        vertical-align: middle;\n",
       "    }\n",
       "\n",
       "    .dataframe tbody tr th {\n",
       "        vertical-align: top;\n",
       "    }\n",
       "\n",
       "    .dataframe thead th {\n",
       "        text-align: right;\n",
       "    }\n",
       "<\/style>\n",
       "<table border=\"1\" class=\"dataframe\">\n",
       "  <thead>\n",
       "    <tr style=\"text-align: right;\">\n",
       "      <th>salary<\/th>\n",
       "      <th>low<\/th>\n",
       "      <th>medium<\/th>\n",
       "      <th>high<\/th>\n",
       "    <\/tr>\n",
       "    <tr>\n",
       "      <th>sales<\/th>\n",
       "      <th><\/th>\n",
       "      <th><\/th>\n",
       "      <th><\/th>\n",
       "    <\/tr>\n",
       "  <\/thead>\n",
       "  <tbody>\n",
       "    <tr>\n",
       "      <th>accounting<\/th>\n",
       "      <td>358<\/td>\n",
       "      <td>335<\/td>\n",
       "      <td>74<\/td>\n",
       "    <\/tr>\n",
       "    <tr>\n",
       "      <th>hr<\/th>\n",
       "      <td>335<\/td>\n",
       "      <td>359<\/td>\n",
       "      <td>45<\/td>\n",
       "    <\/tr>\n",
       "    <tr>\n",
       "      <th>it<\/th>\n",
       "      <td>609<\/td>\n",
       "      <td>535<\/td>\n",
       "      <td>83<\/td>\n",
       "    <\/tr>\n",
       "    <tr>\n",
       "      <th>management<\/th>\n",
       "      <td>180<\/td>\n",
       "      <td>225<\/td>\n",
       "      <td>225<\/td>\n",
       "    <\/tr>\n",
       "    <tr>\n",
       "      <th>marketing<\/th>\n",
       "      <td>402<\/td>\n",
       "      <td>376<\/td>\n",
       "      <td>80<\/td>\n",
       "    <\/tr>\n",
       "    <tr>\n",
       "      <th>product_mng<\/th>\n",
       "      <td>451<\/td>\n",
       "      <td>383<\/td>\n",
       "      <td>68<\/td>\n",
       "    <\/tr>\n",
       "    <tr>\n",
       "      <th>rand_d<\/th>\n",
       "      <td>364<\/td>\n",
       "      <td>372<\/td>\n",
       "      <td>51<\/td>\n",
       "    <\/tr>\n",
       "    <tr>\n",
       "      <th>sales<\/th>\n",
       "      <td>2099<\/td>\n",
       "      <td>1772<\/td>\n",
       "      <td>269<\/td>\n",
       "    <\/tr>\n",
       "    <tr>\n",
       "      <th>support<\/th>\n",
       "      <td>1146<\/td>\n",
       "      <td>942<\/td>\n",
       "      <td>141<\/td>\n",
       "    <\/tr>\n",
       "    <tr>\n",
       "      <th>technical<\/th>\n",
       "      <td>1372<\/td>\n",
       "      <td>1147<\/td>\n",
       "      <td>201<\/td>\n",
       "    <\/tr>\n",
       "  <\/tbody>\n",
       "<\/table>\n",
       "<\/div>"
      ]
     },
     "metadata":{
      
     },
     "output_type":"display_data"
    }
   ],
   "metadata":{
    "datalore":{
     "type":"CODE",
     "hide_input_from_viewers":false,
     "hide_output_from_viewers":false
    }
   }
  },
  {
   "cell_type":"code",
   "source":[
    "import numpy as np\n",
    "import matplotlib.pyplot as plt\n",
    "%matplotlib inline\n",
    "\n",
    "colormap = plt.cm.get_cmap('Greens')\n",
    "\n",
    "fig, ax = plt.subplots(figsize=(12,3))\n",
    "plot = ax.pcolor(sales_salary.T, cmap=colormap, edgecolor='black', )\n",
    "ax.set_xlabel('sales')\n",
    "ax.set_xticks(np.arange(len(sales_salary.index.values))+0.5)\n",
    "ax.set_xticklabels(sales_salary.index.values)\n",
    "ax.set_ylabel('salary')\n",
    "ax.set_yticks(np.arange(len(sales_salary.columns.values))+0.5)\n",
    "ax.set_yticklabels(sales_salary.columns.values)\n",
    "cbar = fig.colorbar(plot)\n",
    "cbar.ax.set_ylabel('quantity', rotation=360)\n",
    "cbar.ax.get_yaxis().labelpad = 25"
   ],
   "execution_count":3,
   "outputs":[
    {
     "data":{
      "image\/png":"[encoded data removed]"
     },
     "metadata":{
      "image\/png":{
       
      }
     },
     "output_type":"display_data"
    }
   ],
   "metadata":{
    "datalore":{
     "type":"CODE",
     "hide_input_from_viewers":false,
     "hide_output_from_viewers":false
    }
   }
  },
  {
   "cell_type":"code",
   "source":[
    "df = df.join(pd.get_dummies(df['salary']), )\n",
    "df = df.join(pd.get_dummies(df['sales']), rsuffix='d') \n",
    "df.drop(labels=['sales', 'salary'], inplace=True, axis=1)\n",
    "df.head()"
   ],
   "execution_count":4,
   "outputs":[
    {
     "data":{
      "text\/html":[
       "<div>\n",
       "<style scoped>\n",
       "    .dataframe tbody tr th:only-of-type {\n",
       "        vertical-align: middle;\n",
       "    }\n",
       "\n",
       "    .dataframe tbody tr th {\n",
       "        vertical-align: top;\n",
       "    }\n",
       "\n",
       "    .dataframe thead th {\n",
       "        text-align: right;\n",
       "    }\n",
       "<\/style>\n",
       "<table border=\"1\" class=\"dataframe\">\n",
       "  <thead>\n",
       "    <tr style=\"text-align: right;\">\n",
       "      <th><\/th>\n",
       "      <th>satisfaction_level<\/th>\n",
       "      <th>last_evaluation<\/th>\n",
       "      <th>number_project<\/th>\n",
       "      <th>average_montly_hours<\/th>\n",
       "      <th>time_spend_company<\/th>\n",
       "      <th>Work_accident<\/th>\n",
       "      <th>left<\/th>\n",
       "      <th>promotion_last_5years<\/th>\n",
       "      <th>high<\/th>\n",
       "      <th>low<\/th>\n",
       "      <th>...<\/th>\n",
       "      <th>IT<\/th>\n",
       "      <th>RandD<\/th>\n",
       "      <th>accounting<\/th>\n",
       "      <th>hr<\/th>\n",
       "      <th>management<\/th>\n",
       "      <th>marketing<\/th>\n",
       "      <th>product_mng<\/th>\n",
       "      <th>salesd<\/th>\n",
       "      <th>support<\/th>\n",
       "      <th>technical<\/th>\n",
       "    <\/tr>\n",
       "  <\/thead>\n",
       "  <tbody>\n",
       "    <tr>\n",
       "      <th>0<\/th>\n",
       "      <td>0.38<\/td>\n",
       "      <td>0.53<\/td>\n",
       "      <td>2<\/td>\n",
       "      <td>157<\/td>\n",
       "      <td>3<\/td>\n",
       "      <td>0<\/td>\n",
       "      <td>1<\/td>\n",
       "      <td>0<\/td>\n",
       "      <td>0<\/td>\n",
       "      <td>1<\/td>\n",
       "      <td>...<\/td>\n",
       "      <td>0<\/td>\n",
       "      <td>0<\/td>\n",
       "      <td>0<\/td>\n",
       "      <td>0<\/td>\n",
       "      <td>0<\/td>\n",
       "      <td>0<\/td>\n",
       "      <td>0<\/td>\n",
       "      <td>1<\/td>\n",
       "      <td>0<\/td>\n",
       "      <td>0<\/td>\n",
       "    <\/tr>\n",
       "    <tr>\n",
       "      <th>1<\/th>\n",
       "      <td>0.80<\/td>\n",
       "      <td>0.86<\/td>\n",
       "      <td>5<\/td>\n",
       "      <td>262<\/td>\n",
       "      <td>6<\/td>\n",
       "      <td>0<\/td>\n",
       "      <td>1<\/td>\n",
       "      <td>0<\/td>\n",
       "      <td>0<\/td>\n",
       "      <td>0<\/td>\n",
       "      <td>...<\/td>\n",
       "      <td>0<\/td>\n",
       "      <td>0<\/td>\n",
       "      <td>0<\/td>\n",
       "      <td>0<\/td>\n",
       "      <td>0<\/td>\n",
       "      <td>0<\/td>\n",
       "      <td>0<\/td>\n",
       "      <td>1<\/td>\n",
       "      <td>0<\/td>\n",
       "      <td>0<\/td>\n",
       "    <\/tr>\n",
       "    <tr>\n",
       "      <th>2<\/th>\n",
       "      <td>0.11<\/td>\n",
       "      <td>0.88<\/td>\n",
       "      <td>7<\/td>\n",
       "      <td>272<\/td>\n",
       "      <td>4<\/td>\n",
       "      <td>0<\/td>\n",
       "      <td>1<\/td>\n",
       "      <td>0<\/td>\n",
       "      <td>0<\/td>\n",
       "      <td>0<\/td>\n",
       "      <td>...<\/td>\n",
       "      <td>0<\/td>\n",
       "      <td>0<\/td>\n",
       "      <td>0<\/td>\n",
       "      <td>0<\/td>\n",
       "      <td>0<\/td>\n",
       "      <td>0<\/td>\n",
       "      <td>0<\/td>\n",
       "      <td>1<\/td>\n",
       "      <td>0<\/td>\n",
       "      <td>0<\/td>\n",
       "    <\/tr>\n",
       "    <tr>\n",
       "      <th>3<\/th>\n",
       "      <td>0.72<\/td>\n",
       "      <td>0.87<\/td>\n",
       "      <td>5<\/td>\n",
       "      <td>223<\/td>\n",
       "      <td>5<\/td>\n",
       "      <td>0<\/td>\n",
       "      <td>1<\/td>\n",
       "      <td>0<\/td>\n",
       "      <td>0<\/td>\n",
       "      <td>1<\/td>\n",
       "      <td>...<\/td>\n",
       "      <td>0<\/td>\n",
       "      <td>0<\/td>\n",
       "      <td>0<\/td>\n",
       "      <td>0<\/td>\n",
       "      <td>0<\/td>\n",
       "      <td>0<\/td>\n",
       "      <td>0<\/td>\n",
       "      <td>1<\/td>\n",
       "      <td>0<\/td>\n",
       "      <td>0<\/td>\n",
       "    <\/tr>\n",
       "    <tr>\n",
       "      <th>4<\/th>\n",
       "      <td>0.37<\/td>\n",
       "      <td>0.52<\/td>\n",
       "      <td>2<\/td>\n",
       "      <td>159<\/td>\n",
       "      <td>3<\/td>\n",
       "      <td>0<\/td>\n",
       "      <td>1<\/td>\n",
       "      <td>0<\/td>\n",
       "      <td>0<\/td>\n",
       "      <td>1<\/td>\n",
       "      <td>...<\/td>\n",
       "      <td>0<\/td>\n",
       "      <td>0<\/td>\n",
       "      <td>0<\/td>\n",
       "      <td>0<\/td>\n",
       "      <td>0<\/td>\n",
       "      <td>0<\/td>\n",
       "      <td>0<\/td>\n",
       "      <td>1<\/td>\n",
       "      <td>0<\/td>\n",
       "      <td>0<\/td>\n",
       "    <\/tr>\n",
       "  <\/tbody>\n",
       "<\/table>\n",
       "<p>5 rows × 21 columns<\/p>\n",
       "<\/div>"
      ]
     },
     "metadata":{
      
     },
     "output_type":"display_data"
    }
   ],
   "metadata":{
    "datalore":{
     "type":"CODE",
     "hide_input_from_viewers":false,
     "hide_output_from_viewers":false
    }
   }
  },
  {
   "cell_type":"code",
   "source":[
    "df[\"left\"].describe()"
   ],
   "execution_count":5,
   "outputs":[
    {
     "data":{
      "text\/html":[
       
      ]
     },
     "metadata":{
      
     },
     "output_type":"display_data"
    }
   ],
   "metadata":{
    "datalore":{
     "type":"CODE",
     "hide_input_from_viewers":false,
     "hide_output_from_viewers":false
    }
   }
  },
  {
   "cell_type":"code",
   "source":[
    "y = df['left']\n",
    "df.drop(labels='left', axis=1, inplace=True)\n",
    "from sklearn.model_selection import train_test_split\n",
    "\n",
    "xtr, xte, ytr, yte = train_test_split(df, y, test_size=0.25)\n",
    "xtr.shape, xte.shape, ytr.shape, yte.shape, "
   ],
   "execution_count":6,
   "outputs":[
    {
     "data":{
      "text\/plain":[
       "((11249, 20), (3750, 20), (11249,), (3750,))"
      ]
     },
     "metadata":{
      
     },
     "output_type":"display_data"
    }
   ],
   "metadata":{
    "datalore":{
     "type":"CODE",
     "hide_input_from_viewers":false,
     "hide_output_from_viewers":false
    }
   }
  },
  {
   "cell_type":"code",
   "source":[
    "from sklearn.linear_model import LogisticRegression\n",
    "from sklearn.metrics import classification_report, precision_score\n",
    "\n",
    "lr = LogisticRegression()\n",
    "lr.fit(xtr, ytr)\n",
    "precision_score(ytr, lr.predict(xtr))"
   ],
   "execution_count":7,
   "outputs":[
    {
     "name":"stderr",
     "text":[
      "\/opt\/python\/envs\/default\/lib\/python3.8\/site-packages\/sklearn\/linear_model\/_logistic.py:814: ConvergenceWarning: lbfgs failed to converge (status=1):\n",
      "STOP: TOTAL NO. of ITERATIONS REACHED LIMIT.\n",
      "\n",
      "Increase the number of iterations (max_iter) or scale the data as shown in:\n",
      "    https:\/\/scikit-learn.org\/stable\/modules\/preprocessing.html\n",
      "Please also refer to the documentation for alternative solver options:\n",
      "    https:\/\/scikit-learn.org\/stable\/modules\/linear_model.html#logistic-regression\n",
      "  n_iter_i = _check_optimize_result(\n"
     ],
     "output_type":"stream"
    },
    {
     "data":{
      "text\/plain":[
       "0.612635609444799"
      ]
     },
     "metadata":{
      
     },
     "output_type":"display_data"
    }
   ],
   "metadata":{
    "datalore":{
     "type":"CODE",
     "hide_input_from_viewers":false,
     "hide_output_from_viewers":false
    }
   }
  },
  {
   "cell_type":"code",
   "source":[
    "from sklearn.linear_model import LogisticRegressionCV\n",
    "\n",
    "lr_cv = LogisticRegressionCV()\n",
    "lr_cv.fit(xtr, ytr)\n",
    "precision_score(ytr, lr_cv.predict(xtr))"
   ],
   "execution_count":8,
   "outputs":[
    {
     "name":"stderr",
     "text":[
      "\/opt\/python\/envs\/default\/lib\/python3.8\/site-packages\/sklearn\/linear_model\/_logistic.py:814: ConvergenceWarning: lbfgs failed to converge (status=1):\n",
      "STOP: TOTAL NO. of ITERATIONS REACHED LIMIT.\n",
      "\n",
      "Increase the number of iterations (max_iter) or scale the data as shown in:\n",
      "    https:\/\/scikit-learn.org\/stable\/modules\/preprocessing.html\n",
      "Please also refer to the documentation for alternative solver options:\n",
      "    https:\/\/scikit-learn.org\/stable\/modules\/linear_model.html#logistic-regression\n",
      "  n_iter_i = _check_optimize_result(\n",
      "\/opt\/python\/envs\/default\/lib\/python3.8\/site-packages\/sklearn\/linear_model\/_logistic.py:814: ConvergenceWarning: lbfgs failed to converge (status=1):\n",
      "STOP: TOTAL NO. of ITERATIONS REACHED LIMIT.\n",
      "\n",
      "Increase the number of iterations (max_iter) or scale the data as shown in:\n",
      "    https:\/\/scikit-learn.org\/stable\/modules\/preprocessing.html\n",
      "Please also refer to the documentation for alternative solver options:\n",
      "    https:\/\/scikit-learn.org\/stable\/modules\/linear_model.html#logistic-regression\n",
      "  n_iter_i = _check_optimize_result(\n",
      "\/opt\/python\/envs\/default\/lib\/python3.8\/site-packages\/sklearn\/linear_model\/_logistic.py:814: ConvergenceWarning: lbfgs failed to converge (status=1):\n",
      "STOP: TOTAL NO. of ITERATIONS REACHED LIMIT.\n",
      "\n",
      "Increase the number of iterations (max_iter) or scale the data as shown in:\n",
      "    https:\/\/scikit-learn.org\/stable\/modules\/preprocessing.html\n",
      "Please also refer to the documentation for alternative solver options:\n",
      "    https:\/\/scikit-learn.org\/stable\/modules\/linear_model.html#logistic-regression\n",
      "  n_iter_i = _check_optimize_result(\n",
      "\/opt\/python\/envs\/default\/lib\/python3.8\/site-packages\/sklearn\/linear_model\/_logistic.py:814: ConvergenceWarning: lbfgs failed to converge (status=1):\n",
      "STOP: TOTAL NO. of ITERATIONS REACHED LIMIT.\n",
      "\n",
      "Increase the number of iterations (max_iter) or scale the data as shown in:\n",
      "    https:\/\/scikit-learn.org\/stable\/modules\/preprocessing.html\n",
      "Please also refer to the documentation for alternative solver options:\n",
      "    https:\/\/scikit-learn.org\/stable\/modules\/linear_model.html#logistic-regression\n",
      "  n_iter_i = _check_optimize_result(\n",
      "\/opt\/python\/envs\/default\/lib\/python3.8\/site-packages\/sklearn\/linear_model\/_logistic.py:814: ConvergenceWarning: lbfgs failed to converge (status=1):\n",
      "STOP: TOTAL NO. of ITERATIONS REACHED LIMIT.\n",
      "\n",
      "Increase the number of iterations (max_iter) or scale the data as shown in:\n",
      "    https:\/\/scikit-learn.org\/stable\/modules\/preprocessing.html\n",
      "Please also refer to the documentation for alternative solver options:\n",
      "    https:\/\/scikit-learn.org\/stable\/modules\/linear_model.html#logistic-regression\n",
      "  n_iter_i = _check_optimize_result(\n",
      "\/opt\/python\/envs\/default\/lib\/python3.8\/site-packages\/sklearn\/linear_model\/_logistic.py:814: ConvergenceWarning: lbfgs failed to converge (status=1):\n",
      "STOP: TOTAL NO. of ITERATIONS REACHED LIMIT.\n",
      "\n",
      "Increase the number of iterations (max_iter) or scale the data as shown in:\n",
      "    https:\/\/scikit-learn.org\/stable\/modules\/preprocessing.html\n",
      "Please also refer to the documentation for alternative solver options:\n",
      "    https:\/\/scikit-learn.org\/stable\/modules\/linear_model.html#logistic-regression\n",
      "  n_iter_i = _check_optimize_result(\n",
      "\/opt\/python\/envs\/default\/lib\/python3.8\/site-packages\/sklearn\/linear_model\/_logistic.py:814: ConvergenceWarning: lbfgs failed to converge (status=1):\n",
      "STOP: TOTAL NO. of ITERATIONS REACHED LIMIT.\n",
      "\n",
      "Increase the number of iterations (max_iter) or scale the data as shown in:\n",
      "    https:\/\/scikit-learn.org\/stable\/modules\/preprocessing.html\n",
      "Please also refer to the documentation for alternative solver options:\n",
      "    https:\/\/scikit-learn.org\/stable\/modules\/linear_model.html#logistic-regression\n",
      "  n_iter_i = _check_optimize_result(\n",
      "\/opt\/python\/envs\/default\/lib\/python3.8\/site-packages\/sklearn\/linear_model\/_logistic.py:814: ConvergenceWarning: lbfgs failed to converge (status=1):\n",
      "STOP: TOTAL NO. of ITERATIONS REACHED LIMIT.\n",
      "\n",
      "Increase the number of iterations (max_iter) or scale the data as shown in:\n",
      "    https:\/\/scikit-learn.org\/stable\/modules\/preprocessing.html\n",
      "Please also refer to the documentation for alternative solver options:\n",
      "    https:\/\/scikit-learn.org\/stable\/modules\/linear_model.html#logistic-regression\n",
      "  n_iter_i = _check_optimize_result(\n",
      "\/opt\/python\/envs\/default\/lib\/python3.8\/site-packages\/sklearn\/linear_model\/_logistic.py:814: ConvergenceWarning: lbfgs failed to converge (status=1):\n",
      "STOP: TOTAL NO. of ITERATIONS REACHED LIMIT.\n",
      "\n",
      "Increase the number of iterations (max_iter) or scale the data as shown in:\n",
      "    https:\/\/scikit-learn.org\/stable\/modules\/preprocessing.html\n",
      "Please also refer to the documentation for alternative solver options:\n",
      "    https:\/\/scikit-learn.org\/stable\/modules\/linear_model.html#logistic-regression\n",
      "  n_iter_i = _check_optimize_result(\n",
      "\/opt\/python\/envs\/default\/lib\/python3.8\/site-packages\/sklearn\/linear_model\/_logistic.py:814: ConvergenceWarning: lbfgs failed to converge (status=1):\n",
      "STOP: TOTAL NO. of ITERATIONS REACHED LIMIT.\n",
      "\n",
      "Increase the number of iterations (max_iter) or scale the data as shown in:\n",
      "    https:\/\/scikit-learn.org\/stable\/modules\/preprocessing.html\n",
      "Please also refer to the documentation for alternative solver options:\n",
      "    https:\/\/scikit-learn.org\/stable\/modules\/linear_model.html#logistic-regression\n",
      "  n_iter_i = _check_optimize_result(\n",
      "\/opt\/python\/envs\/default\/lib\/python3.8\/site-packages\/sklearn\/linear_model\/_logistic.py:814: ConvergenceWarning: lbfgs failed to converge (status=1):\n",
      "STOP: TOTAL NO. of ITERATIONS REACHED LIMIT.\n",
      "\n",
      "Increase the number of iterations (max_iter) or scale the data as shown in:\n",
      "    https:\/\/scikit-learn.org\/stable\/modules\/preprocessing.html\n",
      "Please also refer to the documentation for alternative solver options:\n",
      "    https:\/\/scikit-learn.org\/stable\/modules\/linear_model.html#logistic-regression\n",
      "  n_iter_i = _check_optimize_result(\n",
      "\/opt\/python\/envs\/default\/lib\/python3.8\/site-packages\/sklearn\/linear_model\/_logistic.py:814: ConvergenceWarning: lbfgs failed to converge (status=1):\n",
      "STOP: TOTAL NO. of ITERATIONS REACHED LIMIT.\n",
      "\n",
      "Increase the number of iterations (max_iter) or scale the data as shown in:\n",
      "    https:\/\/scikit-learn.org\/stable\/modules\/preprocessing.html\n",
      "Please also refer to the documentation for alternative solver options:\n",
      "    https:\/\/scikit-learn.org\/stable\/modules\/linear_model.html#logistic-regression\n",
      "  n_iter_i = _check_optimize_result(\n",
      "\/opt\/python\/envs\/default\/lib\/python3.8\/site-packages\/sklearn\/linear_model\/_logistic.py:814: ConvergenceWarning: lbfgs failed to converge (status=1):\n",
      "STOP: TOTAL NO. of ITERATIONS REACHED LIMIT.\n",
      "\n",
      "Increase the number of iterations (max_iter) or scale the data as shown in:\n",
      "    https:\/\/scikit-learn.org\/stable\/modules\/preprocessing.html\n",
      "Please also refer to the documentation for alternative solver options:\n",
      "    https:\/\/scikit-learn.org\/stable\/modules\/linear_model.html#logistic-regression\n",
      "  n_iter_i = _check_optimize_result(\n",
      "\/opt\/python\/envs\/default\/lib\/python3.8\/site-packages\/sklearn\/linear_model\/_logistic.py:814: ConvergenceWarning: lbfgs failed to converge (status=1):\n",
      "STOP: TOTAL NO. of ITERATIONS REACHED LIMIT.\n",
      "\n",
      "Increase the number of iterations (max_iter) or scale the data as shown in:\n",
      "    https:\/\/scikit-learn.org\/stable\/modules\/preprocessing.html\n",
      "Please also refer to the documentation for alternative solver options:\n",
      "    https:\/\/scikit-learn.org\/stable\/modules\/linear_model.html#logistic-regression\n",
      "  n_iter_i = _check_optimize_result(\n",
      "\/opt\/python\/envs\/default\/lib\/python3.8\/site-packages\/sklearn\/linear_model\/_logistic.py:814: ConvergenceWarning: lbfgs failed to converge (status=1):\n",
      "STOP: TOTAL NO. of ITERATIONS REACHED LIMIT.\n",
      "\n",
      "Increase the number of iterations (max_iter) or scale the data as shown in:\n",
      "    https:\/\/scikit-learn.org\/stable\/modules\/preprocessing.html\n",
      "Please also refer to the documentation for alternative solver options:\n",
      "    https:\/\/scikit-learn.org\/stable\/modules\/linear_model.html#logistic-regression\n",
      "  n_iter_i = _check_optimize_result(\n"
     ],
     "output_type":"stream"
    },
    {
     "data":{
      "text\/plain":[
       "0.6140575079872205"
      ]
     },
     "metadata":{
      
     },
     "output_type":"display_data"
    }
   ],
   "metadata":{
    "datalore":{
     "type":"CODE",
     "hide_input_from_viewers":false,
     "hide_output_from_viewers":false
    }
   }
  },
  {
   "cell_type":"code",
   "source":[
    "pd.DataFrame(lr_cv.scores_[1]).T.plot()"
   ],
   "execution_count":9,
   "outputs":[
    {
     "data":{
      "text\/plain":[
       "<AxesSubplot:>"
      ],
      "image\/png":"[encoded data removed]"
     },
     "metadata":{
      "image\/png":{
       
      }
     },
     "output_type":"display_data"
    }
   ],
   "metadata":{
    "datalore":{
     "type":"CODE",
     "hide_input_from_viewers":false,
     "hide_output_from_viewers":false
    }
   }
  },
  {
   "cell_type":"code",
   "source":[
    "from sklearn.metrics import classification_report\n",
    "\n",
    "print(classification_report(yte, lr_cv.predict(xte)))"
   ],
   "execution_count":10,
   "outputs":[
    {
     "name":"stdout",
     "text":[
      "              precision    recall  f1-score   support\n",
      "\n",
      "           0       0.82      0.92      0.87      2887\n",
      "           1       0.57      0.33      0.42       863\n",
      "\n",
      "    accuracy                           0.79      3750\n",
      "   macro avg       0.70      0.63      0.65      3750\n",
      "weighted avg       0.76      0.79      0.77      3750\n",
      "\n"
     ],
     "output_type":"stream"
    }
   ],
   "metadata":{
    "datalore":{
     "type":"CODE",
     "hide_input_from_viewers":false,
     "hide_output_from_viewers":false
    }
   }
  },
  {
   "cell_type":"code",
   "source":[
    "from sklearn.ensemble import RandomForestClassifier\n",
    "\n",
    "rf = RandomForestClassifier()\n",
    "rf.fit(xtr, ytr)\n",
    "print(precision_score(ytr, rf.predict(xtr)))\n",
    "print(classification_report(yte, rf.predict(xte)))"
   ],
   "execution_count":11,
   "outputs":[
    {
     "name":"stdout",
     "text":[
      "1.0\n",
      "              precision    recall  f1-score   support\n",
      "\n",
      "           0       0.99      1.00      0.99      2887\n",
      "           1       0.99      0.97      0.98       863\n",
      "\n",
      "    accuracy                           0.99      3750\n",
      "   macro avg       0.99      0.98      0.99      3750\n",
      "weighted avg       0.99      0.99      0.99      3750\n",
      "\n"
     ],
     "output_type":"stream"
    }
   ],
   "metadata":{
    "datalore":{
     "type":"CODE",
     "hide_input_from_viewers":false,
     "hide_output_from_viewers":false
    }
   }
  },
  {
   "cell_type":"code",
   "source":[
    "from sklearn.preprocessing import PolynomialFeatures\n",
    "\n",
    "poly = PolynomialFeatures(degree=3)\n",
    "poly.fit(df)\n",
    "\n",
    "xtr2 = poly.transform(xtr)\n",
    "\n",
    "lr_cv2 = LogisticRegression()\n",
    "lr_cv2.fit(xtr2, ytr)\n",
    "\n",
    "xte2 = poly.transform(xte)\n",
    "\n",
    "print(precision_score(ytr, lr_cv2.predict(xtr2)))\n",
    "print(classification_report(yte, lr_cv2.predict(xte2)))"
   ],
   "execution_count":12,
   "outputs":[
    {
     "name":"stdout",
     "text":[
      "0.6056458511548332\n",
      "              precision    recall  f1-score   support\n",
      "\n",
      "           0       0.81      0.95      0.87      2887\n",
      "           1       0.59      0.25      0.35       863\n",
      "\n",
      "    accuracy                           0.79      3750\n",
      "   macro avg       0.70      0.60      0.61      3750\n",
      "weighted avg       0.76      0.79      0.75      3750\n",
      "\n"
     ],
     "output_type":"stream"
    },
    {
     "name":"stderr",
     "text":[
      "\/opt\/python\/envs\/default\/lib\/python3.8\/site-packages\/sklearn\/linear_model\/_logistic.py:814: ConvergenceWarning: lbfgs failed to converge (status=1):\n",
      "STOP: TOTAL NO. of ITERATIONS REACHED LIMIT.\n",
      "\n",
      "Increase the number of iterations (max_iter) or scale the data as shown in:\n",
      "    https:\/\/scikit-learn.org\/stable\/modules\/preprocessing.html\n",
      "Please also refer to the documentation for alternative solver options:\n",
      "    https:\/\/scikit-learn.org\/stable\/modules\/linear_model.html#logistic-regression\n",
      "  n_iter_i = _check_optimize_result(\n"
     ],
     "output_type":"stream"
    }
   ],
   "metadata":{
    "datalore":{
     "type":"CODE",
     "hide_input_from_viewers":false,
     "hide_output_from_viewers":false
    }
   }
  },
  {
   "cell_type":"code",
   "source":[
    "print(rf.feature_importances_)\n",
    "pd.DataFrame(rf.feature_importances_).plot(kind='barh')"
   ],
   "execution_count":13,
   "outputs":[
    {
     "name":"stdout",
     "text":[
      "[0.31356372 0.13133818 0.17839561 0.14744138 0.17995432 0.01055236\n",
      " 0.00160673 0.00527756 0.00710331 0.00354698 0.00177    0.00137697\n",
      " 0.00208006 0.00158083 0.00182801 0.00115169 0.00126246 0.00345535\n",
      " 0.00316241 0.00355207]\n"
     ],
     "output_type":"stream"
    },
    {
     "data":{
      "text\/plain":[
       "<AxesSubplot:>"
      ],
      "image\/png":"[encoded data removed]"
     },
     "metadata":{
      "image\/png":{
       
      }
     },
     "output_type":"display_data"
    }
   ],
   "metadata":{
    "datalore":{
     "type":"CODE",
     "hide_input_from_viewers":false,
     "hide_output_from_viewers":false
    }
   }
  }
 ],
 "metadata":{
  "datalore":{
   "version":1,
   "computation_mode":"JUPYTER",
   "package_manager":"pip",
   "base_environment":"default",
   "packages":[
    
   ]
  }
 },
 "nbformat":4,
 "nbformat_minor":4
}