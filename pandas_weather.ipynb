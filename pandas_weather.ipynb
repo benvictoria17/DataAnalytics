{
 "cells": [
  {
   "cell_type": "code",
   "execution_count": 12,
   "metadata": {},
   "outputs": [],
   "source": [
    "import numpy as np \n",
    "import pandas as pd "
   ]
  },
  {
   "cell_type": "code",
   "execution_count": 10,
   "metadata": {},
   "outputs": [],
   "source": [
    "def header(msg):\n",
    "    print(\"-\" * 50)\n",
    "    print('[ ' + msg + ' ]')"
   ]
  },
  {
   "cell_type": "code",
   "execution_count": 3,
   "metadata": {},
   "outputs": [
    {
     "name": "stdout",
     "output_type": "stream",
     "text": [
      "--------------------------------------------------\n",
      "[ 1. load hard-coded data into a df ]\n",
      "   month  avg_high  avg_low  record_high  record_low  avg_precipitation\n",
      "0    Jan        58       42           74          22               2.95\n",
      "1    Feb        61       45           78          26               3.02\n",
      "2    Mar        65       48           84          25               2.34\n",
      "3    Apr        67       50           92          28               1.02\n",
      "4    May        71       53           98          35               0.48\n",
      "5    Jun        75       56          107          41               0.11\n",
      "6    Jul        77       58          105          44               0.00\n",
      "7    Aug        77       59          102          43               0.03\n",
      "8    Sep        77       57          103          40               0.17\n",
      "9    Oct        73       54           96          34               0.81\n",
      "10   Nov        64       48           84          30               1.70\n",
      "11   Dec        58       42           73          21               2.56\n"
     ]
    }
   ],
   "source": [
    "# 1. load hard-coded data into a dataframe\n",
    "header(\"1. load hard-coded data into a df\")\n",
    "df = pd.DataFrame(\n",
    "\t[['Jan',58,42,74,22,2.95],\n",
    "\t['Feb',61,45,78,26,3.02],\n",
    "\t['Mar',65,48,84,25,2.34],\n",
    "\t['Apr',67,50,92,28,1.02],\n",
    "\t['May',71,53,98,35,0.48],\n",
    "\t['Jun',75,56,107,41,0.11],\n",
    "\t['Jul',77,58,105,44,0.0],\n",
    "\t['Aug',77,59,102,43,0.03],\n",
    "\t['Sep',77,57,103,40,0.17],\n",
    "\t['Oct',73,54,96,34,0.81],\n",
    "\t['Nov',64,48,84,30,1.7],\n",
    "\t['Dec',58,42,73,21,2.56]],\n",
    "\tindex = [0,1,2,3,4,5,6,7,8,9,10,11],\n",
    "\tcolumns = ['month','avg_high','avg_low','record_high','record_low','avg_precipitation'])\n",
    "print(df)"
   ]
  },
  {
   "cell_type": "code",
   "execution_count": 6,
   "metadata": {},
   "outputs": [
    {
     "name": "stdout",
     "output_type": "stream",
     "text": [
      "--------------------------------------------------\n",
      "[ 2.read text file into a df ]\n",
      "   month  avg_high  avg_low  record_high  record_low  avg_precipitation\n",
      "0    Jan        58       42           74          22               2.95\n",
      "1    Feb        61       45           78          26               3.02\n",
      "2    Mar        65       48           84          25               2.34\n",
      "3    Apr        67       50           92          28               1.02\n",
      "4    May        71       53           98          35               0.48\n",
      "5    Jun        75       56          107          41               0.11\n",
      "6    Jul        77       58          105          44               0.00\n",
      "7    Aug        77       59          102          43               0.03\n",
      "8    Sep        77       57          103          40               0.17\n",
      "9    Oct        73       54           96          34               0.81\n",
      "10   Nov        64       48           84          30               1.70\n",
      "11   Dec        58       42           73          21               2.56\n"
     ]
    }
   ],
   "source": [
    "# 2. read text file into a dataframe\n",
    "header(\"2.read text file into a df\")\n",
    "filename = \"https://raw.githubusercontent.com/joeyajames/Python/master/Pandas/Fremont_weather.txt\"\n",
    "df = pd.read_csv(filename)\n",
    "print(df)"
   ]
  },
  {
   "cell_type": "code",
   "execution_count": 14,
   "metadata": {},
   "outputs": [
    {
     "name": "stdout",
     "output_type": "stream",
     "text": [
      "--------------------------------------------------\n",
      "[ 2. read text file into a df ]\n",
      "   month  avg_high  avg_low  record_high  record_low  avg_precipitation\n",
      "0    Jan        58       42           74          22               2.95\n",
      "1    Feb        61       45           78          26               3.02\n",
      "2    Mar        65       48           84          25               2.34\n",
      "3    Apr        67       50           92          28               1.02\n",
      "4    May        71       53           98          35               0.48\n",
      "5    Jun        75       56          107          41               0.11\n",
      "6    Jul        77       58          105          44               0.00\n",
      "7    Aug        77       59          102          43               0.03\n",
      "8    Sep        77       57          103          40               0.17\n",
      "9    Oct        73       54           96          34               0.81\n",
      "10   Nov        64       48           84          30               1.70\n",
      "11   Dec        58       42           73          21               2.56\n"
     ]
    }
   ],
   "source": [
    "header(\"2. read text file into a df\")\n",
    "filename = 'https://raw.githubusercontent.com/joeyajames/Python/master/Pandas/Fremont_weather.txt'\n",
    "df = pd.read_csv(filename)\n",
    "print(df)"
   ]
  },
  {
   "cell_type": "code",
   "execution_count": 16,
   "metadata": {},
   "outputs": [
    {
     "name": "stdout",
     "output_type": "stream",
     "text": [
      "--------------------------------------------------\n",
      "[ 3. df.head() ]\n",
      "  month  avg_high  avg_low  record_high  record_low  avg_precipitation\n",
      "0   Jan        58       42           74          22               2.95\n",
      "1   Feb        61       45           78          26               3.02\n",
      "2   Mar        65       48           84          25               2.34\n",
      "3   Apr        67       50           92          28               1.02\n",
      "4   May        71       53           98          35               0.48\n",
      "--------------------------------------------------\n",
      "[ 3. df.tail(3) ]\n",
      "   month  avg_high  avg_low  record_high  record_low  avg_precipitation\n",
      "9    Oct        73       54           96          34               0.81\n",
      "10   Nov        64       48           84          30               1.70\n",
      "11   Dec        58       42           73          21               2.56\n"
     ]
    }
   ],
   "source": [
    "# 3. print first 5 or last 3 rows of df\n",
    "header(\"3. df.head()\")\n",
    "print(df.head())\n",
    "header(\"3. df.tail(3)\")\n",
    "print(df.tail(3))\n"
   ]
  },
  {
   "cell_type": "code",
   "execution_count": 22,
   "metadata": {},
   "outputs": [
    {
     "name": "stdout",
     "output_type": "stream",
     "text": [
      "--------------------------------------------------\n",
      "[ 4. df.dtypes ]\n",
      "month                 object\n",
      "avg_high               int64\n",
      "avg_low                int64\n",
      "record_high            int64\n",
      "record_low             int64\n",
      "avg_precipitation    float64\n",
      "dtype: object\n",
      "--------------------------------------------------\n",
      "[ 4. df.index ]\n",
      "RangeIndex(start=0, stop=12, step=1)\n",
      "--------------------------------------------------\n",
      "[ 4. df.columns ]\n",
      "Index(['month', 'avg_high', 'avg_low', 'record_high', 'record_low',\n",
      "       'avg_precipitation'],\n",
      "      dtype='object')\n",
      "--------------------------------------------------\n",
      "[ 4. df.values ]\n",
      "[['Jan' 58 42 74 22 2.95]\n",
      " ['Feb' 61 45 78 26 3.02]\n",
      " ['Mar' 65 48 84 25 2.34]\n",
      " ['Apr' 67 50 92 28 1.02]\n",
      " ['May' 71 53 98 35 0.48]\n",
      " ['Jun' 75 56 107 41 0.11]\n",
      " ['Jul' 77 58 105 44 0.0]\n",
      " ['Aug' 77 59 102 43 0.03]\n",
      " ['Sep' 77 57 103 40 0.17]\n",
      " ['Oct' 73 54 96 34 0.81]\n",
      " ['Nov' 64 48 84 30 1.7]\n",
      " ['Dec' 58 42 73 21 2.56]]\n"
     ]
    }
   ],
   "source": [
    "# 4. get data types, index, columns, values\n",
    "header(\"4. df.dtypes\")\n",
    "print(df.dtypes)\n",
    "\n",
    "header(\"4. df.index\")\n",
    "print(df.index)\n",
    "\n",
    "header(\"4. df.columns\")\n",
    "print(df.columns)\n",
    "\n",
    "header(\"4. df.values\")\n",
    "print(df.values)"
   ]
  },
  {
   "cell_type": "code",
   "execution_count": 23,
   "metadata": {},
   "outputs": [
    {
     "name": "stdout",
     "output_type": "stream",
     "text": [
      "--------------------------------------------------\n",
      "[ 5. df.describe() ]\n",
      "        avg_high    avg_low  record_high  record_low  avg_precipitation\n",
      "count  12.000000  12.000000    12.000000   12.000000          12.000000\n",
      "mean   68.583333  51.000000    91.333333   32.416667           1.265833\n",
      "std     7.366488   6.060303    12.323911    8.240238           1.186396\n",
      "min    58.000000  42.000000    73.000000   21.000000           0.000000\n",
      "25%    63.250000  47.250000    82.500000   25.750000           0.155000\n",
      "50%    69.000000  51.500000    94.000000   32.000000           0.915000\n",
      "75%    75.500000  56.250000   102.250000   40.250000           2.395000\n",
      "max    77.000000  59.000000   107.000000   44.000000           3.020000\n"
     ]
    }
   ],
   "source": [
    "# 5. statistical summary of each column\n",
    "header(\"5. df.describe()\")\n",
    "print(df.describe())"
   ]
  },
  {
   "cell_type": "code",
   "execution_count": 24,
   "metadata": {},
   "outputs": [
    {
     "name": "stdout",
     "output_type": "stream",
     "text": [
      "--------------------------------------------------\n",
      "[ 6. df.sort_values('record_high', ascending=False) ]\n",
      "   month  avg_high  avg_low  record_high  record_low  avg_precipitation\n",
      "5    Jun        75       56          107          41               0.11\n",
      "6    Jul        77       58          105          44               0.00\n",
      "8    Sep        77       57          103          40               0.17\n",
      "7    Aug        77       59          102          43               0.03\n",
      "4    May        71       53           98          35               0.48\n",
      "9    Oct        73       54           96          34               0.81\n",
      "3    Apr        67       50           92          28               1.02\n",
      "2    Mar        65       48           84          25               2.34\n",
      "10   Nov        64       48           84          30               1.70\n",
      "1    Feb        61       45           78          26               3.02\n",
      "0    Jan        58       42           74          22               2.95\n",
      "11   Dec        58       42           73          21               2.56\n"
     ]
    }
   ],
   "source": [
    "# 6. sort records by any column\n",
    "header(\"6. df.sort_values('record_high', ascending=False)\")\n",
    "print (df.sort_values('record_high', ascending=False))"
   ]
  },
  {
   "cell_type": "code",
   "execution_count": 25,
   "metadata": {},
   "outputs": [
    {
     "name": "stdout",
     "output_type": "stream",
     "text": [
      "--------------------------------------------------\n",
      "[ 7. slicing -- df.avg_low ]\n",
      "0     42\n",
      "1     45\n",
      "2     48\n",
      "3     50\n",
      "4     53\n",
      "5     56\n",
      "6     58\n",
      "7     59\n",
      "8     57\n",
      "9     54\n",
      "10    48\n",
      "11    42\n",
      "Name: avg_low, dtype: int64\n",
      "--------------------------------------------------\n",
      "[ 7. slicing -- df['avg_low'] ]\n",
      "0     42\n",
      "1     45\n",
      "2     48\n",
      "3     50\n",
      "4     53\n",
      "5     56\n",
      "6     58\n",
      "7     59\n",
      "8     57\n",
      "9     54\n",
      "10    48\n",
      "11    42\n",
      "Name: avg_low, dtype: int64\n",
      "--------------------------------------------------\n",
      "[ 7. slicing -- df[2:4] ]\n",
      "  month  avg_high  avg_low  record_high  record_low  avg_precipitation\n",
      "2   Mar        65       48           84          25               2.34\n",
      "3   Apr        67       50           92          28               1.02\n",
      "--------------------------------------------------\n",
      "[ 7. slicing -- df[['avg_low','avg_high']] ]\n",
      "    avg_low  avg_high\n",
      "0        42        58\n",
      "1        45        61\n",
      "2        48        65\n",
      "3        50        67\n",
      "4        53        71\n",
      "5        56        75\n",
      "6        58        77\n",
      "7        59        77\n",
      "8        57        77\n",
      "9        54        73\n",
      "10       48        64\n",
      "11       42        58\n",
      "--------------------------------------------------\n",
      "[ 7. slicing -- df.loc[:,['avg_low','avg_high']] ]\n",
      "    avg_low  avg_high\n",
      "0        42        58\n",
      "1        45        61\n",
      "2        48        65\n",
      "3        50        67\n",
      "4        53        71\n",
      "5        56        75\n",
      "6        58        77\n",
      "7        59        77\n",
      "8        57        77\n",
      "9        54        73\n",
      "10       48        64\n",
      "11       42        58\n",
      "--------------------------------------------------\n",
      "[ 7. slicing scalar value -- df.loc[9,['avg_precipitation']] ]\n",
      "avg_precipitation    0.81\n",
      "Name: 9, dtype: object\n",
      "--------------------------------------------------\n",
      "[ 7. df.iloc[3:5,[0,3]] ]\n",
      "  month  record_high\n",
      "3   Apr           92\n",
      "4   May           98\n"
     ]
    }
   ],
   "source": [
    "# 7. slicing records\n",
    "header(\"7. slicing -- df.avg_low\")\n",
    "print(df.avg_low)\t\t\t\t\t\t\t# index with single column\n",
    "\n",
    "header(\"7. slicing -- df['avg_low']\")\n",
    "print(df['avg_low'])\n",
    "\n",
    "header(\"7. slicing -- df[2:4]\")\t\t\t\t# index with single column\n",
    "print(df[2:4])\t\t\t\t\t\t\t\t# rows 2 to 3\n",
    "\n",
    "header(\"7. slicing -- df[['avg_low','avg_high']]\")\n",
    "print(df[['avg_low','avg_high']])\n",
    "\n",
    "header(\"7. slicing -- df.loc[:,['avg_low','avg_high']]\")\n",
    "print(df.loc[:,['avg_low','avg_high']])\t\t# multiple columns: df.loc[from_row:to_row,['column1','column2']]\n",
    "\n",
    "header(\"7. slicing scalar value -- df.loc[9,['avg_precipitation']]\")\n",
    "print(df.loc[9,['avg_precipitation']])\n",
    "\n",
    "header(\"7. df.iloc[3:5,[0,3]]\")\t\t\t\t# index location can receive range or list of indices\n",
    "print(df.iloc[3:5,[0,3]])\n"
   ]
  },
  {
   "cell_type": "code",
   "execution_count": 26,
   "metadata": {},
   "outputs": [
    {
     "name": "stdout",
     "output_type": "stream",
     "text": [
      "--------------------------------------------------\n",
      "[ 8. df[df.avg_precipitation > 1.0] ]\n",
      "   month  avg_high  avg_low  record_high  record_low  avg_precipitation\n",
      "0    Jan        58       42           74          22               2.95\n",
      "1    Feb        61       45           78          26               3.02\n",
      "2    Mar        65       48           84          25               2.34\n",
      "3    Apr        67       50           92          28               1.02\n",
      "10   Nov        64       48           84          30               1.70\n",
      "11   Dec        58       42           73          21               2.56\n",
      "--------------------------------------------------\n",
      "[ 8. df[df['month'].isin['Jun','Jul','Aug']] ]\n",
      "  month  avg_high  avg_low  record_high  record_low  avg_precipitation\n",
      "5   Jun        75       56          107          41               0.11\n",
      "6   Jul        77       58          105          44               0.00\n",
      "7   Aug        77       59          102          43               0.03\n"
     ]
    }
   ],
   "source": [
    "# 8. filtering\n",
    "header(\"8. df[df.avg_precipitation > 1.0]\")\t# filter on column values\n",
    "print(df[df.avg_precipitation > 1.0])\n",
    "\n",
    "header(\"8. df[df['month'].isin['Jun','Jul','Aug']]\")\n",
    "print(df[df['month'].isin(['Jun','Jul','Aug'])])"
   ]
  },
  {
   "cell_type": "code",
   "execution_count": 27,
   "metadata": {},
   "outputs": [
    {
     "name": "stdout",
     "output_type": "stream",
     "text": [
      "--------------------------------------------------\n",
      "[ 9. df.loc[9,['avg_precipitation']] = 101.3 ]\n",
      "   month  avg_high  avg_low  record_high  record_low  avg_precipitation\n",
      "9    Oct        73       54           96          34              101.3\n",
      "10   Nov        64       48           84          30                1.7\n",
      "--------------------------------------------------\n",
      "[ 9. df.loc[9,['avg_precipitation']] = np.nan ]\n",
      "   month  avg_high  avg_low  record_high  record_low  avg_precipitation\n",
      "9    Oct        73       54           96          34                NaN\n",
      "10   Nov        64       48           84          30                1.7\n",
      "--------------------------------------------------\n",
      "[ 9. df.loc[:,'avg_low'] = np.array([5] * len(df)) ]\n",
      "  month  avg_high  avg_low  record_high  record_low  avg_precipitation\n",
      "0   Jan        58        5           74          22               2.95\n",
      "1   Feb        61        5           78          26               3.02\n",
      "2   Mar        65        5           84          25               2.34\n",
      "3   Apr        67        5           92          28               1.02\n",
      "4   May        71        5           98          35               0.48\n",
      "--------------------------------------------------\n",
      "[ 9. df['avg_day'] = (df.avg_low + df.avg_high) / 2 ]\n",
      "  month  avg_high  avg_low  record_high  record_low  avg_precipitation  \\\n",
      "0   Jan        58        5           74          22               2.95   \n",
      "1   Feb        61        5           78          26               3.02   \n",
      "2   Mar        65        5           84          25               2.34   \n",
      "3   Apr        67        5           92          28               1.02   \n",
      "4   May        71        5           98          35               0.48   \n",
      "\n",
      "   avg_day  \n",
      "0     31.5  \n",
      "1     33.0  \n",
      "2     35.0  \n",
      "3     36.0  \n",
      "4     38.0  \n",
      "--------------------------------------------------\n",
      "[ 10. df.rename(columns = {'avg_precipitation':'avg_rain'}, inplace=True) ]\n",
      "  month  avg_high  avg_low  record_high  record_low  avg_rain  avg_day\n",
      "0   Jan        58        5           74          22      2.95     31.5\n",
      "1   Feb        61        5           78          26      3.02     33.0\n",
      "2   Mar        65        5           84          25      2.34     35.0\n",
      "3   Apr        67        5           92          28      1.02     36.0\n",
      "4   May        71        5           98          35      0.48     38.0\n"
     ]
    }
   ],
   "source": [
    "# 9. assignment -- very similar to slicing\n",
    "header(\"9. df.loc[9,['avg_precipitation']] = 101.3\")\n",
    "df.loc[9,['avg_precipitation']] = 101.3\n",
    "print(df.iloc[9:11])\n",
    "\n",
    "header(\"9. df.loc[9,['avg_precipitation']] = np.nan\")\n",
    "df.loc[9,['avg_precipitation']] = np.nan\n",
    "print(df.iloc[9:11])\n",
    "\n",
    "header(\"9. df.loc[:,'avg_low'] = np.array([5] * len(df))\")\n",
    "df.loc[:,'avg_low'] = np.array([5] * len(df))\n",
    "print(df.head())\n",
    "\n",
    "header(\"9. df['avg_day'] = (df.avg_low + df.avg_high) / 2\")\n",
    "df['avg_day'] = (df.avg_low + df.avg_high) / 2\n",
    "print(df.head())\n",
    "\n",
    "# 10. renaming columns\n",
    "header(\"10. df.rename(columns = {'avg_precipitation':'avg_rain'}, inplace=True)\")\n",
    "df.rename(columns = {'avg_precipitation':'avg_rain'}, inplace=True)\t\t# rename 1 column\n",
    "print(df.head())\n",
    "\n"
   ]
  },
  {
   "cell_type": "code",
   "execution_count": 28,
   "metadata": {},
   "outputs": [
    {
     "name": "stdout",
     "output_type": "stream",
     "text": [
      "--------------------------------------------------\n",
      "[ 10. df.columns = ['month','av_hi','av_lo','rec_hi','rec_lo','av_rain','av_day'] ]\n",
      "  month  av_hi  av_lo  rec_hi  rec_lo  av_rain  av_day\n",
      "0   Jan     58      5      74      22     2.95    31.5\n",
      "1   Feb     61      5      78      26     3.02    33.0\n",
      "2   Mar     65      5      84      25     2.34    35.0\n",
      "3   Apr     67      5      92      28     1.02    36.0\n",
      "4   May     71      5      98      35     0.48    38.0\n"
     ]
    }
   ],
   "source": [
    "header(\"10. df.columns = ['month','av_hi','av_lo','rec_hi','rec_lo','av_rain','av_day']\")\n",
    "df.columns = ['month','av_hi','av_lo','rec_hi','rec_lo','av_rain','av_day']\n",
    "print(df.head())"
   ]
  },
  {
   "cell_type": "code",
   "execution_count": 34,
   "metadata": {},
   "outputs": [],
   "source": [
    "# 12. write to csv file\n",
    "df.to_csv('foo.csv')"
   ]
  }
 ],
 "metadata": {
  "kernelspec": {
   "display_name": "Python 3",
   "language": "python",
   "name": "python3"
  },
  "language_info": {
   "codemirror_mode": {
    "name": "ipython",
    "version": 3
   },
   "file_extension": ".py",
   "mimetype": "text/x-python",
   "name": "python",
   "nbconvert_exporter": "python",
   "pygments_lexer": "ipython3",
   "version": "3.7.6"
  }
 },
 "nbformat": 4,
 "nbformat_minor": 4
}
