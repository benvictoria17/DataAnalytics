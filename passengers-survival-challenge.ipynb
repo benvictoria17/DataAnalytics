{
  "cells":[
    {
      "cell_type":"code",
      "source":[
        "import pandas as pd \n",
        "import numpy as np\n",
        "import matplotlib.pyplot as plt\n",
        "import seaborn as sns"
      ],
      "execution_count":1,
      "outputs":[
        
      ],
      "metadata":{
        
      }
    },
    {
      "cell_type":"code",
      "source":[
        "train = pd.read_csv('https:\/\/raw.githubusercontent.com\/benvictoria21\/MachineLearning\/master\/dataset\/titanic\/test.csv')\n",
        "test = pd.read_csv('https:\/\/raw.githubusercontent.com\/benvictoria21\/MachineLearning\/master\/dataset\/titanic\/train.csv')"
      ],
      "execution_count":2,
      "outputs":[
        
      ],
      "metadata":{
        
      }
    },
    {
      "cell_type":"code",
      "source":[
        "train.head(3)"
      ],
      "execution_count":3,
      "outputs":[
        {
          "data":{
            "text\/html":[
              "<div>\n",
              "<style scoped>\n",
              "    .dataframe tbody tr th:only-of-type {\n",
              "        vertical-align: middle;\n",
              "    }\n",
              "\n",
              "    .dataframe tbody tr th {\n",
              "        vertical-align: top;\n",
              "    }\n",
              "\n",
              "    .dataframe thead th {\n",
              "        text-align: right;\n",
              "    }\n",
              "<\/style>\n",
              "<table border=\"1\" class=\"dataframe\">\n",
              "  <thead>\n",
              "    <tr style=\"text-align: right;\">\n",
              "      <th><\/th>\n",
              "      <th>PassengerId<\/th>\n",
              "      <th>Pclass<\/th>\n",
              "      <th>Name<\/th>\n",
              "      <th>Sex<\/th>\n",
              "      <th>Age<\/th>\n",
              "      <th>SibSp<\/th>\n",
              "      <th>Parch<\/th>\n",
              "      <th>Ticket<\/th>\n",
              "      <th>Fare<\/th>\n",
              "      <th>Cabin<\/th>\n",
              "      <th>Embarked<\/th>\n",
              "    <\/tr>\n",
              "  <\/thead>\n",
              "  <tbody>\n",
              "    <tr>\n",
              "      <th>0<\/th>\n",
              "      <td>892<\/td>\n",
              "      <td>3<\/td>\n",
              "      <td>Kelly, Mr. James<\/td>\n",
              "      <td>male<\/td>\n",
              "      <td>34.5<\/td>\n",
              "      <td>0<\/td>\n",
              "      <td>0<\/td>\n",
              "      <td>330911<\/td>\n",
              "      <td>7.8292<\/td>\n",
              "      <td>NaN<\/td>\n",
              "      <td>Q<\/td>\n",
              "    <\/tr>\n",
              "    <tr>\n",
              "      <th>1<\/th>\n",
              "      <td>893<\/td>\n",
              "      <td>3<\/td>\n",
              "      <td>Wilkes, Mrs. James (Ellen Needs)<\/td>\n",
              "      <td>female<\/td>\n",
              "      <td>47.0<\/td>\n",
              "      <td>1<\/td>\n",
              "      <td>0<\/td>\n",
              "      <td>363272<\/td>\n",
              "      <td>7.0000<\/td>\n",
              "      <td>NaN<\/td>\n",
              "      <td>S<\/td>\n",
              "    <\/tr>\n",
              "    <tr>\n",
              "      <th>2<\/th>\n",
              "      <td>894<\/td>\n",
              "      <td>2<\/td>\n",
              "      <td>Myles, Mr. Thomas Francis<\/td>\n",
              "      <td>male<\/td>\n",
              "      <td>62.0<\/td>\n",
              "      <td>0<\/td>\n",
              "      <td>0<\/td>\n",
              "      <td>240276<\/td>\n",
              "      <td>9.6875<\/td>\n",
              "      <td>NaN<\/td>\n",
              "      <td>Q<\/td>\n",
              "    <\/tr>\n",
              "  <\/tbody>\n",
              "<\/table>\n",
              "<\/div>"
            ]
          },
          "metadata":{
            
          },
          "output_type":"display_data"
        }
      ],
      "metadata":{
        
      }
    },
    {
      "cell_type":"code",
      "source":[
        "train.describe()"
      ],
      "execution_count":4,
      "outputs":[
        {
          "data":{
            "text\/html":[
              "<div>\n",
              "<style scoped>\n",
              "    .dataframe tbody tr th:only-of-type {\n",
              "        vertical-align: middle;\n",
              "    }\n",
              "\n",
              "    .dataframe tbody tr th {\n",
              "        vertical-align: top;\n",
              "    }\n",
              "\n",
              "    .dataframe thead th {\n",
              "        text-align: right;\n",
              "    }\n",
              "<\/style>\n",
              "<table border=\"1\" class=\"dataframe\">\n",
              "  <thead>\n",
              "    <tr style=\"text-align: right;\">\n",
              "      <th><\/th>\n",
              "      <th>PassengerId<\/th>\n",
              "      <th>Pclass<\/th>\n",
              "      <th>Age<\/th>\n",
              "      <th>SibSp<\/th>\n",
              "      <th>Parch<\/th>\n",
              "      <th>Fare<\/th>\n",
              "    <\/tr>\n",
              "  <\/thead>\n",
              "  <tbody>\n",
              "    <tr>\n",
              "      <th>count<\/th>\n",
              "      <td>418.000000<\/td>\n",
              "      <td>418.000000<\/td>\n",
              "      <td>332.000000<\/td>\n",
              "      <td>418.000000<\/td>\n",
              "      <td>418.000000<\/td>\n",
              "      <td>417.000000<\/td>\n",
              "    <\/tr>\n",
              "    <tr>\n",
              "      <th>mean<\/th>\n",
              "      <td>1100.500000<\/td>\n",
              "      <td>2.265550<\/td>\n",
              "      <td>30.272590<\/td>\n",
              "      <td>0.447368<\/td>\n",
              "      <td>0.392344<\/td>\n",
              "      <td>35.627188<\/td>\n",
              "    <\/tr>\n",
              "    <tr>\n",
              "      <th>std<\/th>\n",
              "      <td>120.810458<\/td>\n",
              "      <td>0.841838<\/td>\n",
              "      <td>14.181209<\/td>\n",
              "      <td>0.896760<\/td>\n",
              "      <td>0.981429<\/td>\n",
              "      <td>55.907576<\/td>\n",
              "    <\/tr>\n",
              "    <tr>\n",
              "      <th>min<\/th>\n",
              "      <td>892.000000<\/td>\n",
              "      <td>1.000000<\/td>\n",
              "      <td>0.170000<\/td>\n",
              "      <td>0.000000<\/td>\n",
              "      <td>0.000000<\/td>\n",
              "      <td>0.000000<\/td>\n",
              "    <\/tr>\n",
              "    <tr>\n",
              "      <th>25%<\/th>\n",
              "      <td>996.250000<\/td>\n",
              "      <td>1.000000<\/td>\n",
              "      <td>21.000000<\/td>\n",
              "      <td>0.000000<\/td>\n",
              "      <td>0.000000<\/td>\n",
              "      <td>7.895800<\/td>\n",
              "    <\/tr>\n",
              "    <tr>\n",
              "      <th>50%<\/th>\n",
              "      <td>1100.500000<\/td>\n",
              "      <td>3.000000<\/td>\n",
              "      <td>27.000000<\/td>\n",
              "      <td>0.000000<\/td>\n",
              "      <td>0.000000<\/td>\n",
              "      <td>14.454200<\/td>\n",
              "    <\/tr>\n",
              "    <tr>\n",
              "      <th>75%<\/th>\n",
              "      <td>1204.750000<\/td>\n",
              "      <td>3.000000<\/td>\n",
              "      <td>39.000000<\/td>\n",
              "      <td>1.000000<\/td>\n",
              "      <td>0.000000<\/td>\n",
              "      <td>31.500000<\/td>\n",
              "    <\/tr>\n",
              "    <tr>\n",
              "      <th>max<\/th>\n",
              "      <td>1309.000000<\/td>\n",
              "      <td>3.000000<\/td>\n",
              "      <td>76.000000<\/td>\n",
              "      <td>8.000000<\/td>\n",
              "      <td>9.000000<\/td>\n",
              "      <td>512.329200<\/td>\n",
              "    <\/tr>\n",
              "  <\/tbody>\n",
              "<\/table>\n",
              "<\/div>"
            ]
          },
          "metadata":{
            
          },
          "output_type":"display_data"
        }
      ],
      "metadata":{
        
      }
    },
    {
      "cell_type":"code",
      "source":[
        "test.head(3)"
      ],
      "execution_count":5,
      "outputs":[
        {
          "data":{
            "text\/html":[
              "<div>\n",
              "<style scoped>\n",
              "    .dataframe tbody tr th:only-of-type {\n",
              "        vertical-align: middle;\n",
              "    }\n",
              "\n",
              "    .dataframe tbody tr th {\n",
              "        vertical-align: top;\n",
              "    }\n",
              "\n",
              "    .dataframe thead th {\n",
              "        text-align: right;\n",
              "    }\n",
              "<\/style>\n",
              "<table border=\"1\" class=\"dataframe\">\n",
              "  <thead>\n",
              "    <tr style=\"text-align: right;\">\n",
              "      <th><\/th>\n",
              "      <th>PassengerId<\/th>\n",
              "      <th>Survived<\/th>\n",
              "      <th>Pclass<\/th>\n",
              "      <th>Name<\/th>\n",
              "      <th>Sex<\/th>\n",
              "      <th>Age<\/th>\n",
              "      <th>SibSp<\/th>\n",
              "      <th>Parch<\/th>\n",
              "      <th>Ticket<\/th>\n",
              "      <th>Fare<\/th>\n",
              "      <th>Cabin<\/th>\n",
              "      <th>Embarked<\/th>\n",
              "    <\/tr>\n",
              "  <\/thead>\n",
              "  <tbody>\n",
              "    <tr>\n",
              "      <th>0<\/th>\n",
              "      <td>1<\/td>\n",
              "      <td>0<\/td>\n",
              "      <td>3<\/td>\n",
              "      <td>Braund, Mr. Owen Harris<\/td>\n",
              "      <td>male<\/td>\n",
              "      <td>22.0<\/td>\n",
              "      <td>1<\/td>\n",
              "      <td>0<\/td>\n",
              "      <td>A\/5 21171<\/td>\n",
              "      <td>7.2500<\/td>\n",
              "      <td>NaN<\/td>\n",
              "      <td>S<\/td>\n",
              "    <\/tr>\n",
              "    <tr>\n",
              "      <th>1<\/th>\n",
              "      <td>2<\/td>\n",
              "      <td>1<\/td>\n",
              "      <td>1<\/td>\n",
              "      <td>Cumings, Mrs. John Bradley (Florence Briggs Th...<\/td>\n",
              "      <td>female<\/td>\n",
              "      <td>38.0<\/td>\n",
              "      <td>1<\/td>\n",
              "      <td>0<\/td>\n",
              "      <td>PC 17599<\/td>\n",
              "      <td>71.2833<\/td>\n",
              "      <td>C85<\/td>\n",
              "      <td>C<\/td>\n",
              "    <\/tr>\n",
              "    <tr>\n",
              "      <th>2<\/th>\n",
              "      <td>3<\/td>\n",
              "      <td>1<\/td>\n",
              "      <td>3<\/td>\n",
              "      <td>Heikkinen, Miss. Laina<\/td>\n",
              "      <td>female<\/td>\n",
              "      <td>26.0<\/td>\n",
              "      <td>0<\/td>\n",
              "      <td>0<\/td>\n",
              "      <td>STON\/O2. 3101282<\/td>\n",
              "      <td>7.9250<\/td>\n",
              "      <td>NaN<\/td>\n",
              "      <td>S<\/td>\n",
              "    <\/tr>\n",
              "  <\/tbody>\n",
              "<\/table>\n",
              "<\/div>"
            ]
          },
          "metadata":{
            
          },
          "output_type":"display_data"
        }
      ],
      "metadata":{
        
      }
    },
    {
      "cell_type":"code",
      "source":[
        "test.describe()"
      ],
      "execution_count":6,
      "outputs":[
        {
          "data":{
            "text\/html":[
              "<div>\n",
              "<style scoped>\n",
              "    .dataframe tbody tr th:only-of-type {\n",
              "        vertical-align: middle;\n",
              "    }\n",
              "\n",
              "    .dataframe tbody tr th {\n",
              "        vertical-align: top;\n",
              "    }\n",
              "\n",
              "    .dataframe thead th {\n",
              "        text-align: right;\n",
              "    }\n",
              "<\/style>\n",
              "<table border=\"1\" class=\"dataframe\">\n",
              "  <thead>\n",
              "    <tr style=\"text-align: right;\">\n",
              "      <th><\/th>\n",
              "      <th>PassengerId<\/th>\n",
              "      <th>Survived<\/th>\n",
              "      <th>Pclass<\/th>\n",
              "      <th>Age<\/th>\n",
              "      <th>SibSp<\/th>\n",
              "      <th>Parch<\/th>\n",
              "      <th>Fare<\/th>\n",
              "    <\/tr>\n",
              "  <\/thead>\n",
              "  <tbody>\n",
              "    <tr>\n",
              "      <th>count<\/th>\n",
              "      <td>891.000000<\/td>\n",
              "      <td>891.000000<\/td>\n",
              "      <td>891.000000<\/td>\n",
              "      <td>714.000000<\/td>\n",
              "      <td>891.000000<\/td>\n",
              "      <td>891.000000<\/td>\n",
              "      <td>891.000000<\/td>\n",
              "    <\/tr>\n",
              "    <tr>\n",
              "      <th>mean<\/th>\n",
              "      <td>446.000000<\/td>\n",
              "      <td>0.383838<\/td>\n",
              "      <td>2.308642<\/td>\n",
              "      <td>29.699118<\/td>\n",
              "      <td>0.523008<\/td>\n",
              "      <td>0.381594<\/td>\n",
              "      <td>32.204208<\/td>\n",
              "    <\/tr>\n",
              "    <tr>\n",
              "      <th>std<\/th>\n",
              "      <td>257.353842<\/td>\n",
              "      <td>0.486592<\/td>\n",
              "      <td>0.836071<\/td>\n",
              "      <td>14.526497<\/td>\n",
              "      <td>1.102743<\/td>\n",
              "      <td>0.806057<\/td>\n",
              "      <td>49.693429<\/td>\n",
              "    <\/tr>\n",
              "    <tr>\n",
              "      <th>min<\/th>\n",
              "      <td>1.000000<\/td>\n",
              "      <td>0.000000<\/td>\n",
              "      <td>1.000000<\/td>\n",
              "      <td>0.420000<\/td>\n",
              "      <td>0.000000<\/td>\n",
              "      <td>0.000000<\/td>\n",
              "      <td>0.000000<\/td>\n",
              "    <\/tr>\n",
              "    <tr>\n",
              "      <th>25%<\/th>\n",
              "      <td>223.500000<\/td>\n",
              "      <td>0.000000<\/td>\n",
              "      <td>2.000000<\/td>\n",
              "      <td>20.125000<\/td>\n",
              "      <td>0.000000<\/td>\n",
              "      <td>0.000000<\/td>\n",
              "      <td>7.910400<\/td>\n",
              "    <\/tr>\n",
              "    <tr>\n",
              "      <th>50%<\/th>\n",
              "      <td>446.000000<\/td>\n",
              "      <td>0.000000<\/td>\n",
              "      <td>3.000000<\/td>\n",
              "      <td>28.000000<\/td>\n",
              "      <td>0.000000<\/td>\n",
              "      <td>0.000000<\/td>\n",
              "      <td>14.454200<\/td>\n",
              "    <\/tr>\n",
              "    <tr>\n",
              "      <th>75%<\/th>\n",
              "      <td>668.500000<\/td>\n",
              "      <td>1.000000<\/td>\n",
              "      <td>3.000000<\/td>\n",
              "      <td>38.000000<\/td>\n",
              "      <td>1.000000<\/td>\n",
              "      <td>0.000000<\/td>\n",
              "      <td>31.000000<\/td>\n",
              "    <\/tr>\n",
              "    <tr>\n",
              "      <th>max<\/th>\n",
              "      <td>891.000000<\/td>\n",
              "      <td>1.000000<\/td>\n",
              "      <td>3.000000<\/td>\n",
              "      <td>80.000000<\/td>\n",
              "      <td>8.000000<\/td>\n",
              "      <td>6.000000<\/td>\n",
              "      <td>512.329200<\/td>\n",
              "    <\/tr>\n",
              "  <\/tbody>\n",
              "<\/table>\n",
              "<\/div>"
            ]
          },
          "metadata":{
            
          },
          "output_type":"display_data"
        }
      ],
      "metadata":{
        
      }
    },
    {
      "cell_type":"code",
      "source":[
        "train.isnull().sum()"
      ],
      "execution_count":7,
      "outputs":[
        {
          "data":{
            "text\/plain":[
              "PassengerId      0\n",
              "Pclass           0\n",
              "Name             0\n",
              "Sex              0\n",
              "Age             86\n",
              "SibSp            0\n",
              "Parch            0\n",
              "Ticket           0\n",
              "Fare             1\n",
              "Cabin          327\n",
              "Embarked         0\n",
              "dtype: int64"
            ]
          },
          "metadata":{
            
          },
          "output_type":"display_data"
        }
      ],
      "metadata":{
        
      }
    },
    {
      "cell_type":"code",
      "source":[
        "test.isnull().sum()"
      ],
      "execution_count":8,
      "outputs":[
        {
          "data":{
            "text\/plain":[
              "PassengerId      0\n",
              "Survived         0\n",
              "Pclass           0\n",
              "Name             0\n",
              "Sex              0\n",
              "Age            177\n",
              "SibSp            0\n",
              "Parch            0\n",
              "Ticket           0\n",
              "Fare             0\n",
              "Cabin          687\n",
              "Embarked         2\n",
              "dtype: int64"
            ]
          },
          "metadata":{
            
          },
          "output_type":"display_data"
        }
      ],
      "metadata":{
        
      }
    },
    {
      "cell_type":"code",
      "source":[
        "# Age Variable\n",
        "train['Age'] = train['Age'].fillna(train['Age'].mean())\n",
        "test['Age'] = test['Age'].fillna(test['Age'].mean())\n",
        "\n",
        "# Fare Variable\n",
        "test['Fare'] = test['Fare'].fillna(test['Fare'].mean())\n",
        "\n",
        "# Embarked Variable\n",
        "train = train[train['Embarked'].notna()] "
      ],
      "execution_count":9,
      "outputs":[
        
      ],
      "metadata":{
        
      }
    },
    {
      "cell_type":"code",
      "source":[
        "plt.figure(figsize = (7, 5))\n",
        "sns.set_palette('rocket_r')\n",
        "sns.countplot(train['Pclass'])\n",
        "plt.show()"
      ],
      "execution_count":68,
      "outputs":[
        {
          "name":"stderr",
          "text":[
            "\/opt\/anaconda3\/envs\/datalore-user\/lib\/python3.7\/site-packages\/seaborn\/_decorators.py:43: FutureWarning: Pass the following variable as a keyword arg: x. From version 0.12, the only valid positional argument will be `data`, and passing other arguments without an explicit keyword will result in an error or misinterpretation.\n",
            "  FutureWarning\n"
          ],
          "output_type":"stream"
        },
        {
          "data":{
            "image\/png":"[encoded data removed]"
          },
          "metadata":{
            "image\/png":{
              "width":0,
              "height":0
            }
          },
          "output_type":"display_data"
        }
      ],
      "metadata":{
        
      }
    },
    {
      "cell_type":"code",
      "source":[
        "train['Title'] = train['Name'].map(lambda name:name.split(',')[1].split('.')[0].strip())\n",
        "test['Title'] = test['Name'].map(lambda name:name.split(',')[1].split('.')[0].strip())\n",
        "\n",
        "print(train['Title'].unique(),'\\n')\n",
        "print(test['Title'].unique())"
      ],
      "execution_count":14,
      "outputs":[
        {
          "name":"stdout",
          "text":[
            "['Mr' 'Mrs' 'Miss' 'Master' 'Ms' 'Col' 'Rev' 'Dr' 'Dona'] \n",
            "\n",
            "['Mr' 'Mrs' 'Miss' 'Master' 'Don' 'Rev' 'Dr' 'Mme' 'Ms' 'Major' 'Lady'\n",
            " 'Sir' 'Mlle' 'Col' 'Capt' 'the Countess' 'Jonkheer']\n"
          ],
          "output_type":"stream"
        }
      ],
      "metadata":{
        
      }
    },
    {
      "cell_type":"code",
      "source":[
        "Title_Dictionary = {\n",
        "    \"Capt\": \"Officer\",\n",
        "    \"Col\": \"Officer\",\n",
        "    \"Major\": \"Officer\",\n",
        "    \"Jonkheer\": \"Royalty\",\n",
        "    \"Don\": \"Royalty\",\n",
        "    \"Sir\" : \"Royalty\",\n",
        "    \"Dr\": \"Officer\",\n",
        "    \"Rev\": \"Officer\",\n",
        "    \"the Countess\":\"Royalty\",\n",
        "    \"Mme\": \"Mrs\",\n",
        "    \"Mlle\": \"Miss\",\n",
        "    \"Ms\": \"Mrs\",\n",
        "    \"Mr\" : \"Mr\",\n",
        "    \"Mrs\" : \"Mrs\",\n",
        "    \"Miss\" : \"Miss\",\n",
        "    \"Master\" : \"Master\",\n",
        "    \"Lady\" : \"Royalty\",\n",
        "    \"Dona\" : \"Mrs\"\n",
        "}\n",
        "\n",
        "train['Title'] = train['Title'].map(Title_Dictionary)\n",
        "test['Title'] = test['Title'].map(Title_Dictionary)"
      ],
      "execution_count":15,
      "outputs":[
        
      ],
      "metadata":{
        
      }
    },
    {
      "cell_type":"code",
      "source":[
        "train['Members'] = train['SibSp'] + train['Parch']\n",
        "test['Members'] = test['SibSp'] + test['Parch']\n",
        "\n",
        "train.drop(['SibSp', 'Parch', 'Ticket', 'Name'], axis = 1, inplace = True)\n",
        "test.drop(['SibSp', 'Parch', 'Ticket', 'Name'], axis = 1, inplace = True)"
      ],
      "execution_count":16,
      "outputs":[
        
      ],
      "metadata":{
        
      }
    },
    {
      "cell_type":"code",
      "source":[
        "train.head(3)"
      ],
      "execution_count":17,
      "outputs":[
        {
          "data":{
            "text\/html":[
              "<div>\n",
              "<style scoped>\n",
              "    .dataframe tbody tr th:only-of-type {\n",
              "        vertical-align: middle;\n",
              "    }\n",
              "\n",
              "    .dataframe tbody tr th {\n",
              "        vertical-align: top;\n",
              "    }\n",
              "\n",
              "    .dataframe thead th {\n",
              "        text-align: right;\n",
              "    }\n",
              "<\/style>\n",
              "<table border=\"1\" class=\"dataframe\">\n",
              "  <thead>\n",
              "    <tr style=\"text-align: right;\">\n",
              "      <th><\/th>\n",
              "      <th>PassengerId<\/th>\n",
              "      <th>Pclass<\/th>\n",
              "      <th>Sex<\/th>\n",
              "      <th>Age<\/th>\n",
              "      <th>Fare<\/th>\n",
              "      <th>Cabin<\/th>\n",
              "      <th>Embarked<\/th>\n",
              "      <th>Title<\/th>\n",
              "      <th>Members<\/th>\n",
              "    <\/tr>\n",
              "  <\/thead>\n",
              "  <tbody>\n",
              "    <tr>\n",
              "      <th>0<\/th>\n",
              "      <td>892<\/td>\n",
              "      <td>3<\/td>\n",
              "      <td>male<\/td>\n",
              "      <td>(30, 40]<\/td>\n",
              "      <td>7.8292<\/td>\n",
              "      <td>NaN<\/td>\n",
              "      <td>Q<\/td>\n",
              "      <td>Mr<\/td>\n",
              "      <td>0<\/td>\n",
              "    <\/tr>\n",
              "    <tr>\n",
              "      <th>1<\/th>\n",
              "      <td>893<\/td>\n",
              "      <td>3<\/td>\n",
              "      <td>female<\/td>\n",
              "      <td>(40, 50]<\/td>\n",
              "      <td>7.0000<\/td>\n",
              "      <td>NaN<\/td>\n",
              "      <td>S<\/td>\n",
              "      <td>Mrs<\/td>\n",
              "      <td>1<\/td>\n",
              "    <\/tr>\n",
              "    <tr>\n",
              "      <th>2<\/th>\n",
              "      <td>894<\/td>\n",
              "      <td>2<\/td>\n",
              "      <td>male<\/td>\n",
              "      <td>(60, 80]<\/td>\n",
              "      <td>9.6875<\/td>\n",
              "      <td>NaN<\/td>\n",
              "      <td>Q<\/td>\n",
              "      <td>Mr<\/td>\n",
              "      <td>0<\/td>\n",
              "    <\/tr>\n",
              "  <\/tbody>\n",
              "<\/table>\n",
              "<\/div>"
            ]
          },
          "metadata":{
            
          },
          "output_type":"display_data"
        }
      ],
      "metadata":{
        
      }
    },
    {
      "cell_type":"code",
      "source":[
        "plt.figure(figsize = (6, 6))\n",
        "sns.heatmap(train.corr(), annot = True)\n",
        "plt.show()"
      ],
      "execution_count":18,
      "outputs":[
        {
          "data":{
            "image\/png":"[encoded data removed]"
          },
          "metadata":{
            "image\/png":{
              "width":0,
              "height":0
            }
          },
          "output_type":"display_data"
        }
      ],
      "metadata":{
        
      }
    },
    {
      "cell_type":"code",
      "source":[
        "avg_fare_cls = train[['Pclass', 'Fare']].groupby('Pclass').mean()\n",
        "sns.set_palette('Blues_r')\n",
        "plt.figure(figsize = (5, 5))\n",
        "sns.barplot(data = avg_fare_cls.T)\n",
        "plt.title('Average Fare Per Class', fontsize = 20)\n",
        "plt.show()"
      ],
      "execution_count":19,
      "outputs":[
        {
          "data":{
            "image\/png":"[encoded data removed]"
          },
          "metadata":{
            "image\/png":{
              "width":0,
              "height":0
            }
          },
          "output_type":"display_data"
        }
      ],
      "metadata":{
        
      }
    },
    {
      "cell_type":"code",
      "source":[
        "# Filling Missing values in Cabin with \"Unknown\" --> 'U'\n",
        "train['Cabin'].fillna('U', inplace = True)\n",
        "test['Cabin'].fillna('U', inplace = True)\n",
        "\n",
        "# Using only first letter of Cabin feature\n",
        "train['Cabin'] = train['Cabin'].apply(lambda x : x[0])\n",
        "test['Cabin'] = test['Cabin'].apply(lambda x : x[0])"
      ],
      "execution_count":21,
      "outputs":[
        
      ],
      "metadata":{
        
      }
    },
    {
      "cell_type":"markdown",
      "source":[
        "+ Assigning 1 to Male Passengers and 0 to Female Passenger"
      ],
      "metadata":{
        
      }
    },
    {
      "cell_type":"code",
      "source":[
        "train['Sex'].replace({'male' : 1, 'female' : 0}, inplace = True)\n",
        "test['Sex'].replace({'male' : 1, 'female' : 0}, inplace = True)"
      ],
      "execution_count":22,
      "outputs":[
        
      ],
      "metadata":{
        
      }
    },
    {
      "cell_type":"code",
      "source":[
        "# Age Dummies for Train and Test datasets\n",
        "age_train_d = pd.get_dummies(train['Age'], prefix = 'Age')\n",
        "age_test_d = pd.get_dummies(test['Age'], prefix = 'Age')"
      ],
      "execution_count":23,
      "outputs":[
        
      ],
      "metadata":{
        
      }
    },
    {
      "cell_type":"code",
      "source":[
        "# Cabin Dummies for Train and Test datasets\n",
        "cabin_train_d = pd.get_dummies(train['Cabin'], prefix = 'Cabin')\n",
        "cabin_test_d = pd.get_dummies(test['Cabin'], prefix = 'Cabin')"
      ],
      "execution_count":24,
      "outputs":[
        
      ],
      "metadata":{
        
      }
    },
    {
      "cell_type":"code",
      "source":[
        "# Title Dummies for Train and Test datasets\n",
        "title_train_d = pd.get_dummies(train['Title'], prefix = 'Title')\n",
        "title_test_d = pd.get_dummies(test['Title'], prefix = 'Title')"
      ],
      "execution_count":25,
      "outputs":[
        
      ],
      "metadata":{
        
      }
    },
    {
      "cell_type":"code",
      "source":[
        "# Embarked Dummies for Train and Test datasets\n",
        "emb_train_d = pd.get_dummies(train['Embarked'], prefix = 'Emb')\n",
        "emb_test_d = pd.get_dummies(test['Embarked'], prefix = 'Emb')"
      ],
      "execution_count":26,
      "outputs":[
        
      ],
      "metadata":{
        
      }
    },
    {
      "cell_type":"code",
      "source":[
        "# Concatenating all the dummy variables with Train and Test dataset\n",
        "train = pd.concat([train, age_train_d, cabin_train_d, title_train_d, emb_train_d], axis = 1)\n",
        "test = pd.concat([test, age_test_d, cabin_test_d, title_test_d, emb_test_d], axis = 1)"
      ],
      "execution_count":27,
      "outputs":[
        
      ],
      "metadata":{
        
      }
    },
    {
      "cell_type":"code",
      "source":[
        "train.drop(['Cabin', 'Title', 'Embarked', 'Age', 'PassengerId'], axis = 1, inplace = True)\n",
        "test.drop(['Cabin', 'Title', 'Embarked', 'Age', 'PassengerId'], axis = 1, inplace = True)"
      ],
      "execution_count":28,
      "outputs":[
        
      ],
      "metadata":{
        
      }
    },
    {
      "cell_type":"code",
      "source":[
        "len(train.columns)"
      ],
      "execution_count":29,
      "outputs":[
        {
          "data":{
            "text\/plain":[
              "26"
            ]
          },
          "metadata":{
            
          },
          "output_type":"display_data"
        }
      ],
      "metadata":{
        
      }
    },
    {
      "cell_type":"code",
      "source":[
        "len(test.columns)"
      ],
      "execution_count":30,
      "outputs":[
        {
          "data":{
            "text\/plain":[
              "29"
            ]
          },
          "metadata":{
            
          },
          "output_type":"display_data"
        }
      ],
      "metadata":{
        
      }
    },
    {
      "cell_type":"code",
      "source":[
        "X_train = train[['Pclass', 'Sex', 'Fare', 'Members', 'Age_(0, 20]',\n",
        "       'Age_(20, 30]', 'Age_(30, 40]', 'Age_(40, 50]', 'Age_(50, 60]',\n",
        "       'Age_(60, 80]', 'Cabin_A', 'Cabin_B', 'Cabin_C', 'Cabin_D', 'Cabin_E',\n",
        "       'Cabin_F', 'Cabin_G', 'Cabin_U', 'Title_Master', 'Title_Miss',\n",
        "       'Title_Mr', 'Title_Mrs', 'Title_Officer', 'Emb_C', 'Emb_Q', 'Emb_S']] "
      ],
      "execution_count":44,
      "outputs":[
        
      ],
      "metadata":{
        
      }
    },
    {
      "cell_type":"code",
      "source":[
        "from sklearn.linear_model import LogisticRegression\n",
        "from sklearn.tree import DecisionTreeClassifier\n",
        "from sklearn.ensemble import RandomForestClassifier\n",
        "\n",
        "from sklearn.model_selection import GridSearchCV"
      ],
      "execution_count":32,
      "outputs":[
        
      ],
      "metadata":{
        
      }
    },
    {
      "cell_type":"code",
      "source":[
        "#Logistic Regression\n",
        "l_clf = LogisticRegression()\n",
        "grid_values = {\n",
        "    'C': [0.001, 0.01, 0.1, 1, 10, 100, 1000],\n",
        "    'penalty': ['l1', 'l2'],\n",
        "    'max_iter': list(range(100,800,100)),\n",
        "    'solver': ['newton-cg', 'lbfgs', 'liblinear', 'sag', 'saga']\n",
        "}\n",
        "\n",
        "grid_search = GridSearchCV(l_clf, param_grid=grid_values, cv = 5, verbose = 3)\n",
        "grid_search"
      ],
      "execution_count":33,
      "outputs":[
        {
          "data":{
            "text\/plain":[
              "GridSearchCV(cv=5, estimator=LogisticRegression(),\n",
              "             param_grid={'C': [0.001, 0.01, 0.1, 1, 10, 100, 1000],\n",
              "                         'max_iter': [100, 200, 300, 400, 500, 600, 700],\n",
              "                         'penalty': ['l1', 'l2'],\n",
              "                         'solver': ['newton-cg', 'lbfgs', 'liblinear', 'sag',\n",
              "                                    'saga']},\n",
              "             verbose=3)"
            ]
          },
          "metadata":{
            
          },
          "output_type":"display_data"
        }
      ],
      "metadata":{
        
      }
    }
  ],
  "metadata":{
    
  },
  "nbformat":4,
  "nbformat_minor":0
}