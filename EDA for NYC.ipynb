{
 "cells": [
  {
   "cell_type": "code",
   "execution_count": 1,
   "id": "a2674479",
   "metadata": {},
   "outputs": [],
   "source": [
    "import numpy as np\n",
    "import pandas as pd\n",
    "import matplotlib.pyplot as plt\n",
    "%matplotlib inline\n",
    "import seaborn as sns\n",
    "from sklearn.preprocessing import LabelEncoder\n",
    "import os\n",
    "import warnings\n",
    "warnings.filterwarnings('ignore')"
   ]
  },
  {
   "cell_type": "code",
   "execution_count": 3,
   "id": "6131b112",
   "metadata": {},
   "outputs": [
    {
     "data": {
      "text/html": [
       "<div>\n",
       "<style scoped>\n",
       "    .dataframe tbody tr th:only-of-type {\n",
       "        vertical-align: middle;\n",
       "    }\n",
       "\n",
       "    .dataframe tbody tr th {\n",
       "        vertical-align: top;\n",
       "    }\n",
       "\n",
       "    .dataframe thead th {\n",
       "        text-align: right;\n",
       "    }\n",
       "</style>\n",
       "<table border=\"1\" class=\"dataframe\">\n",
       "  <thead>\n",
       "    <tr style=\"text-align: right;\">\n",
       "      <th></th>\n",
       "      <th>Adjusted Grade</th>\n",
       "      <th>New?</th>\n",
       "      <th>Other Location Code in LCGMS</th>\n",
       "      <th>School Name</th>\n",
       "      <th>SED Code</th>\n",
       "      <th>Location Code</th>\n",
       "      <th>District</th>\n",
       "      <th>Latitude</th>\n",
       "      <th>Longitude</th>\n",
       "      <th>Address (Full)</th>\n",
       "      <th>...</th>\n",
       "      <th>Grade 8 Math - All Students Tested</th>\n",
       "      <th>Grade 8 Math 4s - All Students</th>\n",
       "      <th>Grade 8 Math 4s - American Indian or Alaska Native</th>\n",
       "      <th>Grade 8 Math 4s - Black or African American</th>\n",
       "      <th>Grade 8 Math 4s - Hispanic or Latino</th>\n",
       "      <th>Grade 8 Math 4s - Asian or Pacific Islander</th>\n",
       "      <th>Grade 8 Math 4s - White</th>\n",
       "      <th>Grade 8 Math 4s - Multiracial</th>\n",
       "      <th>Grade 8 Math 4s - Limited English Proficient</th>\n",
       "      <th>Grade 8 Math 4s - Economically Disadvantaged</th>\n",
       "    </tr>\n",
       "  </thead>\n",
       "  <tbody>\n",
       "    <tr>\n",
       "      <th>0</th>\n",
       "      <td>NaN</td>\n",
       "      <td>NaN</td>\n",
       "      <td>NaN</td>\n",
       "      <td>P.S. 015 ROBERTO CLEMENTE</td>\n",
       "      <td>310100010015</td>\n",
       "      <td>01M015</td>\n",
       "      <td>1</td>\n",
       "      <td>40.721834</td>\n",
       "      <td>-73.978766</td>\n",
       "      <td>333 E 4TH ST NEW YORK, NY 10009</td>\n",
       "      <td>...</td>\n",
       "      <td>0</td>\n",
       "      <td>0</td>\n",
       "      <td>0</td>\n",
       "      <td>0</td>\n",
       "      <td>0</td>\n",
       "      <td>0</td>\n",
       "      <td>0</td>\n",
       "      <td>0</td>\n",
       "      <td>0</td>\n",
       "      <td>0</td>\n",
       "    </tr>\n",
       "    <tr>\n",
       "      <th>1</th>\n",
       "      <td>NaN</td>\n",
       "      <td>NaN</td>\n",
       "      <td>NaN</td>\n",
       "      <td>P.S. 019 ASHER LEVY</td>\n",
       "      <td>310100010019</td>\n",
       "      <td>01M019</td>\n",
       "      <td>1</td>\n",
       "      <td>40.729892</td>\n",
       "      <td>-73.984231</td>\n",
       "      <td>185 1ST AVE NEW YORK, NY 10003</td>\n",
       "      <td>...</td>\n",
       "      <td>0</td>\n",
       "      <td>0</td>\n",
       "      <td>0</td>\n",
       "      <td>0</td>\n",
       "      <td>0</td>\n",
       "      <td>0</td>\n",
       "      <td>0</td>\n",
       "      <td>0</td>\n",
       "      <td>0</td>\n",
       "      <td>0</td>\n",
       "    </tr>\n",
       "    <tr>\n",
       "      <th>2</th>\n",
       "      <td>NaN</td>\n",
       "      <td>NaN</td>\n",
       "      <td>NaN</td>\n",
       "      <td>P.S. 020 ANNA SILVER</td>\n",
       "      <td>310100010020</td>\n",
       "      <td>01M020</td>\n",
       "      <td>1</td>\n",
       "      <td>40.721274</td>\n",
       "      <td>-73.986315</td>\n",
       "      <td>166 ESSEX ST NEW YORK, NY 10002</td>\n",
       "      <td>...</td>\n",
       "      <td>0</td>\n",
       "      <td>0</td>\n",
       "      <td>0</td>\n",
       "      <td>0</td>\n",
       "      <td>0</td>\n",
       "      <td>0</td>\n",
       "      <td>0</td>\n",
       "      <td>0</td>\n",
       "      <td>0</td>\n",
       "      <td>0</td>\n",
       "    </tr>\n",
       "    <tr>\n",
       "      <th>3</th>\n",
       "      <td>NaN</td>\n",
       "      <td>NaN</td>\n",
       "      <td>NaN</td>\n",
       "      <td>P.S. 034 FRANKLIN D. ROOSEVELT</td>\n",
       "      <td>310100010034</td>\n",
       "      <td>01M034</td>\n",
       "      <td>1</td>\n",
       "      <td>40.726147</td>\n",
       "      <td>-73.975043</td>\n",
       "      <td>730 E 12TH ST NEW YORK, NY 10009</td>\n",
       "      <td>...</td>\n",
       "      <td>48</td>\n",
       "      <td>1</td>\n",
       "      <td>0</td>\n",
       "      <td>0</td>\n",
       "      <td>0</td>\n",
       "      <td>0</td>\n",
       "      <td>0</td>\n",
       "      <td>0</td>\n",
       "      <td>0</td>\n",
       "      <td>0</td>\n",
       "    </tr>\n",
       "    <tr>\n",
       "      <th>4</th>\n",
       "      <td>NaN</td>\n",
       "      <td>NaN</td>\n",
       "      <td>NaN</td>\n",
       "      <td>THE STAR ACADEMY - P.S.63</td>\n",
       "      <td>310100010063</td>\n",
       "      <td>01M063</td>\n",
       "      <td>1</td>\n",
       "      <td>40.724404</td>\n",
       "      <td>-73.986360</td>\n",
       "      <td>121 E 3RD ST NEW YORK, NY 10009</td>\n",
       "      <td>...</td>\n",
       "      <td>0</td>\n",
       "      <td>0</td>\n",
       "      <td>0</td>\n",
       "      <td>0</td>\n",
       "      <td>0</td>\n",
       "      <td>0</td>\n",
       "      <td>0</td>\n",
       "      <td>0</td>\n",
       "      <td>0</td>\n",
       "      <td>0</td>\n",
       "    </tr>\n",
       "  </tbody>\n",
       "</table>\n",
       "<p>5 rows × 161 columns</p>\n",
       "</div>"
      ],
      "text/plain": [
       "  Adjusted Grade New? Other Location Code in LCGMS  \\\n",
       "0            NaN  NaN                          NaN   \n",
       "1            NaN  NaN                          NaN   \n",
       "2            NaN  NaN                          NaN   \n",
       "3            NaN  NaN                          NaN   \n",
       "4            NaN  NaN                          NaN   \n",
       "\n",
       "                      School Name      SED Code Location Code  District  \\\n",
       "0       P.S. 015 ROBERTO CLEMENTE  310100010015        01M015         1   \n",
       "1             P.S. 019 ASHER LEVY  310100010019        01M019         1   \n",
       "2            P.S. 020 ANNA SILVER  310100010020        01M020         1   \n",
       "3  P.S. 034 FRANKLIN D. ROOSEVELT  310100010034        01M034         1   \n",
       "4       THE STAR ACADEMY - P.S.63  310100010063        01M063         1   \n",
       "\n",
       "    Latitude  Longitude                    Address (Full)  ...  \\\n",
       "0  40.721834 -73.978766   333 E 4TH ST NEW YORK, NY 10009  ...   \n",
       "1  40.729892 -73.984231    185 1ST AVE NEW YORK, NY 10003  ...   \n",
       "2  40.721274 -73.986315   166 ESSEX ST NEW YORK, NY 10002  ...   \n",
       "3  40.726147 -73.975043  730 E 12TH ST NEW YORK, NY 10009  ...   \n",
       "4  40.724404 -73.986360   121 E 3RD ST NEW YORK, NY 10009  ...   \n",
       "\n",
       "  Grade 8 Math - All Students Tested  Grade 8 Math 4s - All Students  \\\n",
       "0                                  0                               0   \n",
       "1                                  0                               0   \n",
       "2                                  0                               0   \n",
       "3                                 48                               1   \n",
       "4                                  0                               0   \n",
       "\n",
       "  Grade 8 Math 4s - American Indian or Alaska Native  \\\n",
       "0                                                  0   \n",
       "1                                                  0   \n",
       "2                                                  0   \n",
       "3                                                  0   \n",
       "4                                                  0   \n",
       "\n",
       "  Grade 8 Math 4s - Black or African American  \\\n",
       "0                                           0   \n",
       "1                                           0   \n",
       "2                                           0   \n",
       "3                                           0   \n",
       "4                                           0   \n",
       "\n",
       "  Grade 8 Math 4s - Hispanic or Latino  \\\n",
       "0                                    0   \n",
       "1                                    0   \n",
       "2                                    0   \n",
       "3                                    0   \n",
       "4                                    0   \n",
       "\n",
       "  Grade 8 Math 4s - Asian or Pacific Islander  Grade 8 Math 4s - White  \\\n",
       "0                                           0                        0   \n",
       "1                                           0                        0   \n",
       "2                                           0                        0   \n",
       "3                                           0                        0   \n",
       "4                                           0                        0   \n",
       "\n",
       "  Grade 8 Math 4s - Multiracial Grade 8 Math 4s - Limited English Proficient  \\\n",
       "0                             0                                            0   \n",
       "1                             0                                            0   \n",
       "2                             0                                            0   \n",
       "3                             0                                            0   \n",
       "4                             0                                            0   \n",
       "\n",
       "  Grade 8 Math 4s - Economically Disadvantaged  \n",
       "0                                            0  \n",
       "1                                            0  \n",
       "2                                            0  \n",
       "3                                            0  \n",
       "4                                            0  \n",
       "\n",
       "[5 rows x 161 columns]"
      ]
     },
     "execution_count": 3,
     "metadata": {},
     "output_type": "execute_result"
    }
   ],
   "source": [
    "df = pd.read_csv(\"https://raw.githubusercontent.com/benvictoria17/DataAnalytics/main/dataset/Data%20Science%20for%20Good-%20PASSNYC/2016%20School%20Explorer.csv\")\n",
    "df.head()"
   ]
  },
  {
   "cell_type": "code",
   "execution_count": 4,
   "id": "5ff487ae",
   "metadata": {},
   "outputs": [
    {
     "data": {
      "text/html": [
       "<div>\n",
       "<style scoped>\n",
       "    .dataframe tbody tr th:only-of-type {\n",
       "        vertical-align: middle;\n",
       "    }\n",
       "\n",
       "    .dataframe tbody tr th {\n",
       "        vertical-align: top;\n",
       "    }\n",
       "\n",
       "    .dataframe thead th {\n",
       "        text-align: right;\n",
       "    }\n",
       "</style>\n",
       "<table border=\"1\" class=\"dataframe\">\n",
       "  <thead>\n",
       "    <tr style=\"text-align: right;\">\n",
       "      <th></th>\n",
       "      <th>Total</th>\n",
       "      <th>Percent</th>\n",
       "    </tr>\n",
       "  </thead>\n",
       "  <tbody>\n",
       "    <tr>\n",
       "      <th>Other Location Code in LCGMS</th>\n",
       "      <td>1271</td>\n",
       "      <td>0.999214</td>\n",
       "    </tr>\n",
       "    <tr>\n",
       "      <th>Adjusted Grade</th>\n",
       "      <td>1270</td>\n",
       "      <td>0.998428</td>\n",
       "    </tr>\n",
       "    <tr>\n",
       "      <th>New?</th>\n",
       "      <td>1245</td>\n",
       "      <td>0.978774</td>\n",
       "    </tr>\n",
       "    <tr>\n",
       "      <th>School Income Estimate</th>\n",
       "      <td>396</td>\n",
       "      <td>0.311321</td>\n",
       "    </tr>\n",
       "    <tr>\n",
       "      <th>Student Achievement Rating</th>\n",
       "      <td>86</td>\n",
       "      <td>0.067610</td>\n",
       "    </tr>\n",
       "    <tr>\n",
       "      <th>...</th>\n",
       "      <td>...</td>\n",
       "      <td>...</td>\n",
       "    </tr>\n",
       "    <tr>\n",
       "      <th>Grade 3 Math 4s - Economically Disadvantaged</th>\n",
       "      <td>0</td>\n",
       "      <td>0.000000</td>\n",
       "    </tr>\n",
       "    <tr>\n",
       "      <th>Grade 3 Math 4s - Limited English Proficient</th>\n",
       "      <td>0</td>\n",
       "      <td>0.000000</td>\n",
       "    </tr>\n",
       "    <tr>\n",
       "      <th>Grade 3 Math 4s - Multiracial</th>\n",
       "      <td>0</td>\n",
       "      <td>0.000000</td>\n",
       "    </tr>\n",
       "    <tr>\n",
       "      <th>Grade 3 Math 4s - White</th>\n",
       "      <td>0</td>\n",
       "      <td>0.000000</td>\n",
       "    </tr>\n",
       "    <tr>\n",
       "      <th>Grade 8 Math 4s - Economically Disadvantaged</th>\n",
       "      <td>0</td>\n",
       "      <td>0.000000</td>\n",
       "    </tr>\n",
       "  </tbody>\n",
       "</table>\n",
       "<p>161 rows × 2 columns</p>\n",
       "</div>"
      ],
      "text/plain": [
       "                                              Total   Percent\n",
       "Other Location Code in LCGMS                   1271  0.999214\n",
       "Adjusted Grade                                 1270  0.998428\n",
       "New?                                           1245  0.978774\n",
       "School Income Estimate                          396  0.311321\n",
       "Student Achievement Rating                       86  0.067610\n",
       "...                                             ...       ...\n",
       "Grade 3 Math 4s - Economically Disadvantaged      0  0.000000\n",
       "Grade 3 Math 4s - Limited English Proficient      0  0.000000\n",
       "Grade 3 Math 4s - Multiracial                     0  0.000000\n",
       "Grade 3 Math 4s - White                           0  0.000000\n",
       "Grade 8 Math 4s - Economically Disadvantaged      0  0.000000\n",
       "\n",
       "[161 rows x 2 columns]"
      ]
     },
     "execution_count": 4,
     "metadata": {},
     "output_type": "execute_result"
    }
   ],
   "source": [
    "total = df.isnull().sum().sort_values(ascending=False)\n",
    "percent = (df.isnull().sum()/df.isnull().count()).sort_values(ascending=False)\n",
    "df2 = pd.concat([total, percent], axis=1, keys=['Total', 'Percent'])\n",
    "df2"
   ]
  },
  {
   "cell_type": "code",
   "execution_count": 5,
   "id": "f7f3103e",
   "metadata": {},
   "outputs": [
    {
     "name": "stdout",
     "output_type": "stream",
     "text": [
      "Empty DataFrame\n",
      "Columns: [Adjusted Grade, New?, Other Location Code in LCGMS, School Name, SED Code, Location Code, District, Latitude, Longitude, Address (Full), City, Zip, Grades, Grade Low, Grade High, Community School?, Economic Need Index, School Income Estimate, Percent ELL, Percent Asian, Percent Black, Percent Hispanic, Percent Black / Hispanic, Percent White, Student Attendance Rate, Percent of Students Chronically Absent, Rigorous Instruction %, Rigorous Instruction Rating, Collaborative Teachers %, Collaborative Teachers Rating, Supportive Environment %, Supportive Environment Rating, Effective School Leadership %, Effective School Leadership Rating, Strong Family-Community Ties %, Strong Family-Community Ties Rating, Trust %, Trust Rating, Student Achievement Rating, Average ELA Proficiency, Average Math Proficiency, Grade 3 ELA - All Students Tested, Grade 3 ELA 4s - All Students, Grade 3 ELA 4s - American Indian or Alaska Native, Grade 3 ELA 4s - Black or African American, Grade 3 ELA 4s - Hispanic or Latino, Grade 3 ELA 4s - Asian or Pacific Islander, Grade 3 ELA 4s - White, Grade 3 ELA 4s - Multiracial, Grade 3 ELA 4s - Limited English Proficient, Grade 3 ELA 4s - Economically Disadvantaged, Grade 3 Math - All Students tested, Grade 3 Math 4s - All Students, Grade 3 Math 4s - American Indian or Alaska Native, Grade 3 Math 4s - Black or African American, Grade 3 Math 4s - Hispanic or Latino, Grade 3 Math 4s - Asian or Pacific Islander, Grade 3 Math 4s - White, Grade 3 Math 4s - Multiracial, Grade 3 Math 4s - Limited English Proficient, Grade 3 Math 4s - Economically Disadvantaged, Grade 4 ELA - All Students Tested, Grade 4 ELA 4s - All Students, Grade 4 ELA 4s - American Indian or Alaska Native, Grade 4 ELA 4s - Black or African American, Grade 4 ELA 4s - Hispanic or Latino, Grade 4 ELA 4s - Asian or Pacific Islander, Grade 4 ELA 4s - White, Grade 4 ELA 4s - Multiracial, Grade 4 ELA 4s - Limited English Proficient, Grade 4 ELA 4s - Economically Disadvantaged, Grade 4 Math - All Students Tested, Grade 4 Math 4s - All Students, Grade 4 Math 4s - American Indian or Alaska Native, Grade 4 Math 4s - Black or African American, Grade 4 Math 4s - Hispanic or Latino, Grade 4 Math 4s - Asian or Pacific Islander, Grade 4 Math 4s - White, Grade 4 Math 4s - Multiracial, Grade 4 Math 4s - Limited English Proficient, Grade 4 Math 4s - Economically Disadvantaged, Grade 5 ELA - All Students Tested, Grade 5 ELA 4s - All Students, Grade 5 ELA 4s - American Indian or Alaska Native, Grade 5 ELA 4s - Black or African American, Grade 5 ELA 4s - Hispanic or Latino, Grade 5 ELA 4s - Asian or Pacific Islander, Grade 5 ELA 4s - White, Grade 5 ELA 4s - Multiracial, Grade 5 ELA 4s - Limited English Proficient, Grade 5 ELA 4s - Economically Disadvantaged, Grade 5 Math - All Students Tested, Grade 5 Math 4s - All Students, Grade 5 Math 4s - American Indian or Alaska Native, Grade 5 Math 4s - Black or African American, Grade 5 Math 4s - Hispanic or Latino, Grade 5 Math 4s - Asian or Pacific Islander, Grade 5 Math 4s - White, Grade 5 Math 4s - Multiracial, Grade 5 Math 4s - Limited English Proficient, ...]\n",
      "Index: []\n",
      "\n",
      "[0 rows x 161 columns]\n"
     ]
    }
   ],
   "source": [
    "duplicate_bool=df.duplicated()\n",
    "duplicate=df.loc[duplicate_bool == True]\n",
    "print(duplicate)"
   ]
  },
  {
   "cell_type": "code",
   "execution_count": 6,
   "id": "57938941",
   "metadata": {},
   "outputs": [
    {
     "name": "stdout",
     "output_type": "stream",
     "text": [
      "         City  Economic Need Index\n",
      "202     BRONX                0.957\n",
      "752  BROOKLYN                0.948\n",
      "764  BROOKLYN                0.944\n",
      "642  BROOKLYN                0.943\n",
      "264     BRONX                0.939\n",
      "..        ...                  ...\n",
      "491  BROOKLYN                0.782\n",
      "461  BROOKLYN                0.782\n",
      "248     BRONX                0.781\n",
      "538  BROOKLYN                0.781\n",
      "470  BROOKLYN                0.780\n",
      "\n",
      "[500 rows x 2 columns]\n"
     ]
    },
    {
     "data": {
      "text/plain": [
       "<AxesSubplot:xlabel='Economic Need Index', ylabel='City'>"
      ]
     },
     "execution_count": 6,
     "metadata": {},
     "output_type": "execute_result"
    },
    {
     "data": {
      "image/png": "[encoded data removed]",
      "text/plain": [
       "<Figure size 432x288 with 1 Axes>"
      ]
     },
     "metadata": {
      "needs_background": "light"
     },
     "output_type": "display_data"
    }
   ],
   "source": [
    "df1=df.sort_values(by=['Economic Need Index'],ascending=False)\n",
    "df1=df1.iloc[:500,]\n",
    "print(df1[['City','Economic Need Index']])\n",
    "sns.stripplot(x=\"Economic Need Index\", y=\"City\",hue=\"Community School?\",data=df1)"
   ]
  },
  {
   "cell_type": "code",
   "execution_count": 7,
   "id": "a13018c3",
   "metadata": {},
   "outputs": [
    {
     "data": {
      "text/plain": [
       "<AxesSubplot:xlabel='count', ylabel='Student Attendance Rate'>"
      ]
     },
     "execution_count": 7,
     "metadata": {},
     "output_type": "execute_result"
    },
    {
     "data": {
      "image/png": "[encoded data removed]",
      "text/plain": [
       "<Figure size 432x288 with 1 Axes>"
      ]
     },
     "metadata": {
      "needs_background": "light"
     },
     "output_type": "display_data"
    }
   ],
   "source": [
    "subset=df.loc[(df.City.isin(['NEW YORK','BROOKLYN'])& (df['Community School?']==\"Yes\"),['Student Attendance Rate'])]\n",
    "subset\n",
    "subset['count']=subset.index\n",
    "sns.barplot(x=\"count\",y=\"Student Attendance Rate\",data=subset)"
   ]
  },
  {
   "cell_type": "code",
   "execution_count": 8,
   "id": "b74e2a3e",
   "metadata": {},
   "outputs": [
    {
     "name": "stdout",
     "output_type": "stream",
     "text": [
      "Supportive Environment %       False   True\n",
      "Collaborative Teachers Rating              \n",
      "Approaching Target               2.0  185.0\n",
      "Exceeding Target                 2.0  421.0\n",
      "Meeting Target                   1.0  574.0\n",
      "Not Meeting Target               NaN   11.0\n"
     ]
    },
    {
     "data": {
      "text/plain": [
       "<AxesSubplot:xlabel='Greaterthan70', ylabel='Collaborative Teachers Rating'>"
      ]
     },
     "execution_count": 8,
     "metadata": {},
     "output_type": "execute_result"
    },
    {
     "data": {
      "image/png": "[encoded data removed]",
      "text/plain": [
       "<Figure size 432x288 with 1 Axes>"
      ]
     },
     "metadata": {
      "needs_background": "light"
     },
     "output_type": "display_data"
    }
   ],
   "source": [
    "df.reset_index(inplace=True)\n",
    "a=df.pivot_table(values = 'index', index =['Collaborative Teachers Rating'],columns=df['Supportive Environment %']>\"70%\", aggfunc = 'count')\n",
    "print(a)\n",
    "a.columns=['Lessthan70','Greaterthan70']\n",
    "a['Collaborative Teachers Rating']=a.index\n",
    "sns.barplot(x=\"Greaterthan70\", y=\"Collaborative Teachers Rating\",data=a,color=\"blue\") "
   ]
  },
  {
   "cell_type": "code",
   "execution_count": 9,
   "id": "f59794bb",
   "metadata": {},
   "outputs": [
    {
     "data": {
      "text/plain": [
       "<seaborn.axisgrid.FacetGrid at 0x15c0570d0>"
      ]
     },
     "execution_count": 9,
     "metadata": {},
     "output_type": "execute_result"
    },
    {
     "data": {
      "image/png": "[encoded data removed]",
      "text/plain": [
       "<Figure size 466.875x360 with 1 Axes>"
      ]
     },
     "metadata": {
      "needs_background": "light"
     },
     "output_type": "display_data"
    }
   ],
   "source": [
    "sns.lmplot(x=\"Average ELA Proficiency\", y=\"Average Math Proficiency\", hue=\"Community School?\", markers=[\"*\",\"+\"], palette=\"Set2\", data=df)"
   ]
  },
  {
   "cell_type": "code",
   "execution_count": null,
   "id": "a1237935",
   "metadata": {},
   "outputs": [],
   "source": []
  },
  {
   "cell_type": "code",
   "execution_count": null,
   "id": "1f51d151",
   "metadata": {},
   "outputs": [],
   "source": []
  }
 ],
 "metadata": {
  "kernelspec": {
   "display_name": "Python 3",
   "language": "python",
   "name": "python3"
  },
  "language_info": {
   "codemirror_mode": {
    "name": "ipython",
    "version": 3
   },
   "file_extension": ".py",
   "mimetype": "text/x-python",
   "name": "python",
   "nbconvert_exporter": "python",
   "pygments_lexer": "ipython3",
   "version": "3.9.5"
  }
 },
 "nbformat": 4,
 "nbformat_minor": 5
}
