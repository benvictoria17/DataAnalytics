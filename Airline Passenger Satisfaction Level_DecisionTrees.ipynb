{
 "cells":[
  {
   "cell_type":"code",
   "source":[
    "import pandas as pd \n",
    "import numpy as np\n",
    "\n",
    "from sklearn.preprocessing import LabelEncoder, OneHotEncoder, StandardScaler, MinMaxScaler\n",
    "from sklearn.model_selection import train_test_split, GridSearchCV\n",
    "from sklearn.tree import DecisionTreeClassifier, export_graphviz\n",
    "from sklearn.ensemble import RandomForestClassifier\n",
    "from sklearn.metrics import confusion_matrix\n",
    "import itertools\n",
    "\n",
    "from sklearn.pipeline import Pipeline\n",
    "from sklearn.compose import ColumnTransformer\n",
    "from sklearn.impute import SimpleImputer\n",
    "\n",
    "import matplotlib.pyplot as plt\n",
    "%matplotlib inline\n",
    "import seaborn as sns\n",
    "sns.set(color_codes = True)\n",
    "\n",
    "import joblib  "
   ],
   "execution_count":1,
   "outputs":[
    
   ],
   "metadata":{
    "datalore":{
     "type":"CODE",
     "hide_input_from_viewers":false,
     "hide_output_from_viewers":false
    }
   }
  },
  {
   "cell_type":"code",
   "source":[
    "df = pd.read_csv(\"https:\/\/raw.githubusercontent.com\/benvictoria17\/DataAnalytics\/master\/dataset\/Airline%20Passenger%20Satisfaction\/train.csv\")\n",
    "df.head()"
   ],
   "execution_count":2,
   "outputs":[
    {
     "data":{
      "text\/html":[
       "<div>\n",
       "<style scoped>\n",
       "    .dataframe tbody tr th:only-of-type {\n",
       "        vertical-align: middle;\n",
       "    }\n",
       "\n",
       "    .dataframe tbody tr th {\n",
       "        vertical-align: top;\n",
       "    }\n",
       "\n",
       "    .dataframe thead th {\n",
       "        text-align: right;\n",
       "    }\n",
       "<\/style>\n",
       "<table border=\"1\" class=\"dataframe\">\n",
       "  <thead>\n",
       "    <tr style=\"text-align: right;\">\n",
       "      <th><\/th>\n",
       "      <th>Unnamed: 0<\/th>\n",
       "      <th>id<\/th>\n",
       "      <th>Gender<\/th>\n",
       "      <th>Customer Type<\/th>\n",
       "      <th>Age<\/th>\n",
       "      <th>Type of Travel<\/th>\n",
       "      <th>Class<\/th>\n",
       "      <th>Flight Distance<\/th>\n",
       "      <th>Inflight wifi service<\/th>\n",
       "      <th>Departure\/Arrival time convenient<\/th>\n",
       "      <th>...<\/th>\n",
       "      <th>Inflight entertainment<\/th>\n",
       "      <th>On-board service<\/th>\n",
       "      <th>Leg room service<\/th>\n",
       "      <th>Baggage handling<\/th>\n",
       "      <th>Checkin service<\/th>\n",
       "      <th>Inflight service<\/th>\n",
       "      <th>Cleanliness<\/th>\n",
       "      <th>Departure Delay in Minutes<\/th>\n",
       "      <th>Arrival Delay in Minutes<\/th>\n",
       "      <th>satisfaction<\/th>\n",
       "    <\/tr>\n",
       "  <\/thead>\n",
       "  <tbody>\n",
       "    <tr>\n",
       "      <th>0<\/th>\n",
       "      <td>0<\/td>\n",
       "      <td>70172<\/td>\n",
       "      <td>Male<\/td>\n",
       "      <td>Loyal Customer<\/td>\n",
       "      <td>13<\/td>\n",
       "      <td>Personal Travel<\/td>\n",
       "      <td>Eco Plus<\/td>\n",
       "      <td>460<\/td>\n",
       "      <td>3<\/td>\n",
       "      <td>4<\/td>\n",
       "      <td>...<\/td>\n",
       "      <td>5<\/td>\n",
       "      <td>4<\/td>\n",
       "      <td>3<\/td>\n",
       "      <td>4<\/td>\n",
       "      <td>4<\/td>\n",
       "      <td>5<\/td>\n",
       "      <td>5<\/td>\n",
       "      <td>25<\/td>\n",
       "      <td>18.0<\/td>\n",
       "      <td>neutral or dissatisfied<\/td>\n",
       "    <\/tr>\n",
       "    <tr>\n",
       "      <th>1<\/th>\n",
       "      <td>1<\/td>\n",
       "      <td>5047<\/td>\n",
       "      <td>Male<\/td>\n",
       "      <td>disloyal Customer<\/td>\n",
       "      <td>25<\/td>\n",
       "      <td>Business travel<\/td>\n",
       "      <td>Business<\/td>\n",
       "      <td>235<\/td>\n",
       "      <td>3<\/td>\n",
       "      <td>2<\/td>\n",
       "      <td>...<\/td>\n",
       "      <td>1<\/td>\n",
       "      <td>1<\/td>\n",
       "      <td>5<\/td>\n",
       "      <td>3<\/td>\n",
       "      <td>1<\/td>\n",
       "      <td>4<\/td>\n",
       "      <td>1<\/td>\n",
       "      <td>1<\/td>\n",
       "      <td>6.0<\/td>\n",
       "      <td>neutral or dissatisfied<\/td>\n",
       "    <\/tr>\n",
       "    <tr>\n",
       "      <th>2<\/th>\n",
       "      <td>2<\/td>\n",
       "      <td>110028<\/td>\n",
       "      <td>Female<\/td>\n",
       "      <td>Loyal Customer<\/td>\n",
       "      <td>26<\/td>\n",
       "      <td>Business travel<\/td>\n",
       "      <td>Business<\/td>\n",
       "      <td>1142<\/td>\n",
       "      <td>2<\/td>\n",
       "      <td>2<\/td>\n",
       "      <td>...<\/td>\n",
       "      <td>5<\/td>\n",
       "      <td>4<\/td>\n",
       "      <td>3<\/td>\n",
       "      <td>4<\/td>\n",
       "      <td>4<\/td>\n",
       "      <td>4<\/td>\n",
       "      <td>5<\/td>\n",
       "      <td>0<\/td>\n",
       "      <td>0.0<\/td>\n",
       "      <td>satisfied<\/td>\n",
       "    <\/tr>\n",
       "    <tr>\n",
       "      <th>3<\/th>\n",
       "      <td>3<\/td>\n",
       "      <td>24026<\/td>\n",
       "      <td>Female<\/td>\n",
       "      <td>Loyal Customer<\/td>\n",
       "      <td>25<\/td>\n",
       "      <td>Business travel<\/td>\n",
       "      <td>Business<\/td>\n",
       "      <td>562<\/td>\n",
       "      <td>2<\/td>\n",
       "      <td>5<\/td>\n",
       "      <td>...<\/td>\n",
       "      <td>2<\/td>\n",
       "      <td>2<\/td>\n",
       "      <td>5<\/td>\n",
       "      <td>3<\/td>\n",
       "      <td>1<\/td>\n",
       "      <td>4<\/td>\n",
       "      <td>2<\/td>\n",
       "      <td>11<\/td>\n",
       "      <td>9.0<\/td>\n",
       "      <td>neutral or dissatisfied<\/td>\n",
       "    <\/tr>\n",
       "    <tr>\n",
       "      <th>4<\/th>\n",
       "      <td>4<\/td>\n",
       "      <td>119299<\/td>\n",
       "      <td>Male<\/td>\n",
       "      <td>Loyal Customer<\/td>\n",
       "      <td>61<\/td>\n",
       "      <td>Business travel<\/td>\n",
       "      <td>Business<\/td>\n",
       "      <td>214<\/td>\n",
       "      <td>3<\/td>\n",
       "      <td>3<\/td>\n",
       "      <td>...<\/td>\n",
       "      <td>3<\/td>\n",
       "      <td>3<\/td>\n",
       "      <td>4<\/td>\n",
       "      <td>4<\/td>\n",
       "      <td>3<\/td>\n",
       "      <td>3<\/td>\n",
       "      <td>3<\/td>\n",
       "      <td>0<\/td>\n",
       "      <td>0.0<\/td>\n",
       "      <td>satisfied<\/td>\n",
       "    <\/tr>\n",
       "  <\/tbody>\n",
       "<\/table>\n",
       "<p>5 rows × 25 columns<\/p>\n",
       "<\/div>"
      ]
     },
     "metadata":{
      
     },
     "output_type":"display_data"
    }
   ],
   "metadata":{
    "datalore":{
     "type":"CODE",
     "hide_input_from_viewers":false,
     "hide_output_from_viewers":false
    }
   }
  },
  {
   "cell_type":"code",
   "source":[
    "df.describe(include='all')"
   ],
   "execution_count":3,
   "outputs":[
    {
     "data":{
      "text\/html":[
       "<div>\n",
       "<style scoped>\n",
       "    .dataframe tbody tr th:only-of-type {\n",
       "        vertical-align: middle;\n",
       "    }\n",
       "\n",
       "    .dataframe tbody tr th {\n",
       "        vertical-align: top;\n",
       "    }\n",
       "\n",
       "    .dataframe thead th {\n",
       "        text-align: right;\n",
       "    }\n",
       "<\/style>\n",
       "<table border=\"1\" class=\"dataframe\">\n",
       "  <thead>\n",
       "    <tr style=\"text-align: right;\">\n",
       "      <th><\/th>\n",
       "      <th>Unnamed: 0<\/th>\n",
       "      <th>id<\/th>\n",
       "      <th>Gender<\/th>\n",
       "      <th>Customer Type<\/th>\n",
       "      <th>Age<\/th>\n",
       "      <th>Type of Travel<\/th>\n",
       "      <th>Class<\/th>\n",
       "      <th>Flight Distance<\/th>\n",
       "      <th>Inflight wifi service<\/th>\n",
       "      <th>Departure\/Arrival time convenient<\/th>\n",
       "      <th>...<\/th>\n",
       "      <th>Inflight entertainment<\/th>\n",
       "      <th>On-board service<\/th>\n",
       "      <th>Leg room service<\/th>\n",
       "      <th>Baggage handling<\/th>\n",
       "      <th>Checkin service<\/th>\n",
       "      <th>Inflight service<\/th>\n",
       "      <th>Cleanliness<\/th>\n",
       "      <th>Departure Delay in Minutes<\/th>\n",
       "      <th>Arrival Delay in Minutes<\/th>\n",
       "      <th>satisfaction<\/th>\n",
       "    <\/tr>\n",
       "  <\/thead>\n",
       "  <tbody>\n",
       "    <tr>\n",
       "      <th>count<\/th>\n",
       "      <td>103904.000000<\/td>\n",
       "      <td>103904.000000<\/td>\n",
       "      <td>103904<\/td>\n",
       "      <td>103904<\/td>\n",
       "      <td>103904.000000<\/td>\n",
       "      <td>103904<\/td>\n",
       "      <td>103904<\/td>\n",
       "      <td>103904.000000<\/td>\n",
       "      <td>103904.000000<\/td>\n",
       "      <td>103904.000000<\/td>\n",
       "      <td>...<\/td>\n",
       "      <td>103904.000000<\/td>\n",
       "      <td>103904.000000<\/td>\n",
       "      <td>103904.000000<\/td>\n",
       "      <td>103904.000000<\/td>\n",
       "      <td>103904.000000<\/td>\n",
       "      <td>103904.000000<\/td>\n",
       "      <td>103904.000000<\/td>\n",
       "      <td>103904.000000<\/td>\n",
       "      <td>103594.000000<\/td>\n",
       "      <td>103904<\/td>\n",
       "    <\/tr>\n",
       "    <tr>\n",
       "      <th>unique<\/th>\n",
       "      <td>NaN<\/td>\n",
       "      <td>NaN<\/td>\n",
       "      <td>2<\/td>\n",
       "      <td>2<\/td>\n",
       "      <td>NaN<\/td>\n",
       "      <td>2<\/td>\n",
       "      <td>3<\/td>\n",
       "      <td>NaN<\/td>\n",
       "      <td>NaN<\/td>\n",
       "      <td>NaN<\/td>\n",
       "      <td>...<\/td>\n",
       "      <td>NaN<\/td>\n",
       "      <td>NaN<\/td>\n",
       "      <td>NaN<\/td>\n",
       "      <td>NaN<\/td>\n",
       "      <td>NaN<\/td>\n",
       "      <td>NaN<\/td>\n",
       "      <td>NaN<\/td>\n",
       "      <td>NaN<\/td>\n",
       "      <td>NaN<\/td>\n",
       "      <td>2<\/td>\n",
       "    <\/tr>\n",
       "    <tr>\n",
       "      <th>top<\/th>\n",
       "      <td>NaN<\/td>\n",
       "      <td>NaN<\/td>\n",
       "      <td>Female<\/td>\n",
       "      <td>Loyal Customer<\/td>\n",
       "      <td>NaN<\/td>\n",
       "      <td>Business travel<\/td>\n",
       "      <td>Business<\/td>\n",
       "      <td>NaN<\/td>\n",
       "      <td>NaN<\/td>\n",
       "      <td>NaN<\/td>\n",
       "      <td>...<\/td>\n",
       "      <td>NaN<\/td>\n",
       "      <td>NaN<\/td>\n",
       "      <td>NaN<\/td>\n",
       "      <td>NaN<\/td>\n",
       "      <td>NaN<\/td>\n",
       "      <td>NaN<\/td>\n",
       "      <td>NaN<\/td>\n",
       "      <td>NaN<\/td>\n",
       "      <td>NaN<\/td>\n",
       "      <td>neutral or dissatisfied<\/td>\n",
       "    <\/tr>\n",
       "    <tr>\n",
       "      <th>freq<\/th>\n",
       "      <td>NaN<\/td>\n",
       "      <td>NaN<\/td>\n",
       "      <td>52727<\/td>\n",
       "      <td>84923<\/td>\n",
       "      <td>NaN<\/td>\n",
       "      <td>71655<\/td>\n",
       "      <td>49665<\/td>\n",
       "      <td>NaN<\/td>\n",
       "      <td>NaN<\/td>\n",
       "      <td>NaN<\/td>\n",
       "      <td>...<\/td>\n",
       "      <td>NaN<\/td>\n",
       "      <td>NaN<\/td>\n",
       "      <td>NaN<\/td>\n",
       "      <td>NaN<\/td>\n",
       "      <td>NaN<\/td>\n",
       "      <td>NaN<\/td>\n",
       "      <td>NaN<\/td>\n",
       "      <td>NaN<\/td>\n",
       "      <td>NaN<\/td>\n",
       "      <td>58879<\/td>\n",
       "    <\/tr>\n",
       "    <tr>\n",
       "      <th>mean<\/th>\n",
       "      <td>51951.500000<\/td>\n",
       "      <td>64924.210502<\/td>\n",
       "      <td>NaN<\/td>\n",
       "      <td>NaN<\/td>\n",
       "      <td>39.379706<\/td>\n",
       "      <td>NaN<\/td>\n",
       "      <td>NaN<\/td>\n",
       "      <td>1189.448375<\/td>\n",
       "      <td>2.729683<\/td>\n",
       "      <td>3.060296<\/td>\n",
       "      <td>...<\/td>\n",
       "      <td>3.358158<\/td>\n",
       "      <td>3.382363<\/td>\n",
       "      <td>3.351055<\/td>\n",
       "      <td>3.631833<\/td>\n",
       "      <td>3.304290<\/td>\n",
       "      <td>3.640428<\/td>\n",
       "      <td>3.286351<\/td>\n",
       "      <td>14.815618<\/td>\n",
       "      <td>15.178678<\/td>\n",
       "      <td>NaN<\/td>\n",
       "    <\/tr>\n",
       "    <tr>\n",
       "      <th>std<\/th>\n",
       "      <td>29994.645522<\/td>\n",
       "      <td>37463.812252<\/td>\n",
       "      <td>NaN<\/td>\n",
       "      <td>NaN<\/td>\n",
       "      <td>15.114964<\/td>\n",
       "      <td>NaN<\/td>\n",
       "      <td>NaN<\/td>\n",
       "      <td>997.147281<\/td>\n",
       "      <td>1.327829<\/td>\n",
       "      <td>1.525075<\/td>\n",
       "      <td>...<\/td>\n",
       "      <td>1.332991<\/td>\n",
       "      <td>1.288354<\/td>\n",
       "      <td>1.315605<\/td>\n",
       "      <td>1.180903<\/td>\n",
       "      <td>1.265396<\/td>\n",
       "      <td>1.175663<\/td>\n",
       "      <td>1.312273<\/td>\n",
       "      <td>38.230901<\/td>\n",
       "      <td>38.698682<\/td>\n",
       "      <td>NaN<\/td>\n",
       "    <\/tr>\n",
       "    <tr>\n",
       "      <th>min<\/th>\n",
       "      <td>0.000000<\/td>\n",
       "      <td>1.000000<\/td>\n",
       "      <td>NaN<\/td>\n",
       "      <td>NaN<\/td>\n",
       "      <td>7.000000<\/td>\n",
       "      <td>NaN<\/td>\n",
       "      <td>NaN<\/td>\n",
       "      <td>31.000000<\/td>\n",
       "      <td>0.000000<\/td>\n",
       "      <td>0.000000<\/td>\n",
       "      <td>...<\/td>\n",
       "      <td>0.000000<\/td>\n",
       "      <td>0.000000<\/td>\n",
       "      <td>0.000000<\/td>\n",
       "      <td>1.000000<\/td>\n",
       "      <td>0.000000<\/td>\n",
       "      <td>0.000000<\/td>\n",
       "      <td>0.000000<\/td>\n",
       "      <td>0.000000<\/td>\n",
       "      <td>0.000000<\/td>\n",
       "      <td>NaN<\/td>\n",
       "    <\/tr>\n",
       "    <tr>\n",
       "      <th>25%<\/th>\n",
       "      <td>25975.750000<\/td>\n",
       "      <td>32533.750000<\/td>\n",
       "      <td>NaN<\/td>\n",
       "      <td>NaN<\/td>\n",
       "      <td>27.000000<\/td>\n",
       "      <td>NaN<\/td>\n",
       "      <td>NaN<\/td>\n",
       "      <td>414.000000<\/td>\n",
       "      <td>2.000000<\/td>\n",
       "      <td>2.000000<\/td>\n",
       "      <td>...<\/td>\n",
       "      <td>2.000000<\/td>\n",
       "      <td>2.000000<\/td>\n",
       "      <td>2.000000<\/td>\n",
       "      <td>3.000000<\/td>\n",
       "      <td>3.000000<\/td>\n",
       "      <td>3.000000<\/td>\n",
       "      <td>2.000000<\/td>\n",
       "      <td>0.000000<\/td>\n",
       "      <td>0.000000<\/td>\n",
       "      <td>NaN<\/td>\n",
       "    <\/tr>\n",
       "    <tr>\n",
       "      <th>50%<\/th>\n",
       "      <td>51951.500000<\/td>\n",
       "      <td>64856.500000<\/td>\n",
       "      <td>NaN<\/td>\n",
       "      <td>NaN<\/td>\n",
       "      <td>40.000000<\/td>\n",
       "      <td>NaN<\/td>\n",
       "      <td>NaN<\/td>\n",
       "      <td>843.000000<\/td>\n",
       "      <td>3.000000<\/td>\n",
       "      <td>3.000000<\/td>\n",
       "      <td>...<\/td>\n",
       "      <td>4.000000<\/td>\n",
       "      <td>4.000000<\/td>\n",
       "      <td>4.000000<\/td>\n",
       "      <td>4.000000<\/td>\n",
       "      <td>3.000000<\/td>\n",
       "      <td>4.000000<\/td>\n",
       "      <td>3.000000<\/td>\n",
       "      <td>0.000000<\/td>\n",
       "      <td>0.000000<\/td>\n",
       "      <td>NaN<\/td>\n",
       "    <\/tr>\n",
       "    <tr>\n",
       "      <th>75%<\/th>\n",
       "      <td>77927.250000<\/td>\n",
       "      <td>97368.250000<\/td>\n",
       "      <td>NaN<\/td>\n",
       "      <td>NaN<\/td>\n",
       "      <td>51.000000<\/td>\n",
       "      <td>NaN<\/td>\n",
       "      <td>NaN<\/td>\n",
       "      <td>1743.000000<\/td>\n",
       "      <td>4.000000<\/td>\n",
       "      <td>4.000000<\/td>\n",
       "      <td>...<\/td>\n",
       "      <td>4.000000<\/td>\n",
       "      <td>4.000000<\/td>\n",
       "      <td>4.000000<\/td>\n",
       "      <td>5.000000<\/td>\n",
       "      <td>4.000000<\/td>\n",
       "      <td>5.000000<\/td>\n",
       "      <td>4.000000<\/td>\n",
       "      <td>12.000000<\/td>\n",
       "      <td>13.000000<\/td>\n",
       "      <td>NaN<\/td>\n",
       "    <\/tr>\n",
       "    <tr>\n",
       "      <th>max<\/th>\n",
       "      <td>103903.000000<\/td>\n",
       "      <td>129880.000000<\/td>\n",
       "      <td>NaN<\/td>\n",
       "      <td>NaN<\/td>\n",
       "      <td>85.000000<\/td>\n",
       "      <td>NaN<\/td>\n",
       "      <td>NaN<\/td>\n",
       "      <td>4983.000000<\/td>\n",
       "      <td>5.000000<\/td>\n",
       "      <td>5.000000<\/td>\n",
       "      <td>...<\/td>\n",
       "      <td>5.000000<\/td>\n",
       "      <td>5.000000<\/td>\n",
       "      <td>5.000000<\/td>\n",
       "      <td>5.000000<\/td>\n",
       "      <td>5.000000<\/td>\n",
       "      <td>5.000000<\/td>\n",
       "      <td>5.000000<\/td>\n",
       "      <td>1592.000000<\/td>\n",
       "      <td>1584.000000<\/td>\n",
       "      <td>NaN<\/td>\n",
       "    <\/tr>\n",
       "  <\/tbody>\n",
       "<\/table>\n",
       "<p>11 rows × 25 columns<\/p>\n",
       "<\/div>"
      ]
     },
     "metadata":{
      
     },
     "output_type":"display_data"
    }
   ],
   "metadata":{
    "datalore":{
     "type":"CODE",
     "hide_input_from_viewers":false,
     "hide_output_from_viewers":false
    }
   }
  },
  {
   "cell_type":"code",
   "source":[
    "print(\"The dataset columns are: \")\n",
    "print(df.columns)\n",
    "print(f\"\\nThe datatypes are : {df.dtypes}\")\n",
    "print(f\"\\nThe size of Training dataset is: {df.shape}\")"
   ],
   "execution_count":4,
   "outputs":[
    {
     "name":"stdout",
     "text":[
      "The dataset columns are: \n",
      "Index(['Unnamed: 0', 'id', 'Gender', 'Customer Type', 'Age', 'Type of Travel',\n",
      "       'Class', 'Flight Distance', 'Inflight wifi service',\n",
      "       'Departure\/Arrival time convenient', 'Ease of Online booking',\n",
      "       'Gate location', 'Food and drink', 'Online boarding', 'Seat comfort',\n",
      "       'Inflight entertainment', 'On-board service', 'Leg room service',\n",
      "       'Baggage handling', 'Checkin service', 'Inflight service',\n",
      "       'Cleanliness', 'Departure Delay in Minutes', 'Arrival Delay in Minutes',\n",
      "       'satisfaction'],\n",
      "      dtype='object')\n",
      "\n",
      "The datatypes are : Unnamed: 0                             int64\n",
      "id                                     int64\n",
      "Gender                                object\n",
      "Customer Type                         object\n",
      "Age                                    int64\n",
      "Type of Travel                        object\n",
      "Class                                 object\n",
      "Flight Distance                        int64\n",
      "Inflight wifi service                  int64\n",
      "Departure\/Arrival time convenient      int64\n",
      "Ease of Online booking                 int64\n",
      "Gate location                          int64\n",
      "Food and drink                         int64\n",
      "Online boarding                        int64\n",
      "Seat comfort                           int64\n",
      "Inflight entertainment                 int64\n",
      "On-board service                       int64\n",
      "Leg room service                       int64\n",
      "Baggage handling                       int64\n",
      "Checkin service                        int64\n",
      "Inflight service                       int64\n",
      "Cleanliness                            int64\n",
      "Departure Delay in Minutes             int64\n",
      "Arrival Delay in Minutes             float64\n",
      "satisfaction                          object\n",
      "dtype: object\n",
      "\n",
      "The size of Training dataset is: (103904, 25)\n"
     ],
     "output_type":"stream"
    }
   ],
   "metadata":{
    "datalore":{
     "type":"CODE",
     "hide_input_from_viewers":false,
     "hide_output_from_viewers":false
    }
   }
  },
  {
   "cell_type":"code",
   "source":[
    "df[\"satisfaction\"].value_counts()"
   ],
   "execution_count":6,
   "outputs":[
    {
     "data":{
      "text\/html":[
       
      ]
     },
     "metadata":{
      
     },
     "output_type":"display_data"
    }
   ],
   "metadata":{
    "datalore":{
     "type":"CODE",
     "hide_input_from_viewers":false,
     "hide_output_from_viewers":false
    }
   }
  },
  {
   "cell_type":"code",
   "source":[
    "le = LabelEncoder()\n",
    "le_encoded = le.fit_transform(df['satisfaction'])\n",
    "print(le.classes_)\n",
    "print(le_encoded)"
   ],
   "execution_count":7,
   "outputs":[
    {
     "name":"stdout",
     "text":[
      "['neutral or dissatisfied' 'satisfied']\n",
      "[0 0 1 ... 0 0 0]\n"
     ],
     "output_type":"stream"
    }
   ],
   "metadata":{
    "datalore":{
     "type":"CODE",
     "hide_input_from_viewers":false,
     "hide_output_from_viewers":false
    }
   }
  },
  {
   "cell_type":"code",
   "source":[
    "df_feat = df.iloc[0:, 2:df.shape[1]-1]  \n",
    "print(f\"Features for training data are: {df_feat.columns}\")"
   ],
   "execution_count":8,
   "outputs":[
    {
     "name":"stdout",
     "text":[
      "Features for training data are: Index(['Gender', 'Customer Type', 'Age', 'Type of Travel', 'Class',\n",
      "       'Flight Distance', 'Inflight wifi service',\n",
      "       'Departure\/Arrival time convenient', 'Ease of Online booking',\n",
      "       'Gate location', 'Food and drink', 'Online boarding', 'Seat comfort',\n",
      "       'Inflight entertainment', 'On-board service', 'Leg room service',\n",
      "       'Baggage handling', 'Checkin service', 'Inflight service',\n",
      "       'Cleanliness', 'Departure Delay in Minutes',\n",
      "       'Arrival Delay in Minutes'],\n",
      "      dtype='object')\n"
     ],
     "output_type":"stream"
    }
   ],
   "metadata":{
    "datalore":{
     "type":"CODE",
     "hide_input_from_viewers":false,
     "hide_output_from_viewers":false
    }
   }
  },
  {
   "cell_type":"code",
   "source":[
    "x_train, x_test, y_train, y_test = train_test_split(df_feat,le_encoded,\n",
    "                                                   test_size= 0.1,\n",
    "                                                   random_state=41)\n",
    "\n",
    "print(f\"Shape of Input Training Dataset: {x_train.shape}\")\n",
    "print(f\"Shape of Input Test Dataset: {x_test.shape}\")\n",
    "print(f\"Shape of Target Training Dataset: {y_train.shape}\")\n",
    "print(f\"Shape of Target Test Dataset: {y_test.shape}\")"
   ],
   "execution_count":9,
   "outputs":[
    {
     "name":"stdout",
     "text":[
      "Shape of Input Training Dataset: (93513, 22)\n",
      "Shape of Input Test Dataset: (10391, 22)\n",
      "Shape of Target Training Dataset: (93513,)\n",
      "Shape of Target Test Dataset: (10391,)\n"
     ],
     "output_type":"stream"
    }
   ],
   "metadata":{
    "datalore":{
     "type":"CODE",
     "hide_input_from_viewers":false,
     "hide_output_from_viewers":false
    }
   }
  },
  {
   "cell_type":"code",
   "source":[
    "features = ['Gender', 'Customer Type', 'Age', 'Type of Travel', 'Class',\n",
    "       'Flight Distance', 'Inflight wifi service',\n",
    "       'Departure\/Arrival time convenient', 'Ease of Online booking',\n",
    "       'Gate location', 'Food and drink', 'Online boarding', 'Seat comfort',\n",
    "       'Inflight entertainment', 'On-board service', 'Leg room service',\n",
    "       'Baggage handling', 'Checkin service', 'Inflight service',\n",
    "       'Cleanliness', 'Departure Delay in Minutes',\n",
    "       'Arrival Delay in Minutes']\n",
    "\n",
    "categorical_features = ['Gender', 'Customer Type', 'Type of Travel', 'Class',]\n",
    "numerical_features = [feature for feature in features if feature not in categorical_features]"
   ],
   "execution_count":10,
   "outputs":[
    
   ],
   "metadata":{
    "datalore":{
     "type":"CODE",
     "hide_input_from_viewers":false,
     "hide_output_from_viewers":false
    }
   }
  },
  {
   "cell_type":"code",
   "source":[
    "numerical_transformer = Pipeline(steps=[\n",
    "    ('imputer',SimpleImputer(strategy='mean')),\n",
    "    ('scaler',StandardScaler())\n",
    "])\n",
    "\n",
    "categorical_transformer = Pipeline(steps=[\n",
    "    ('imputer',SimpleImputer(strategy='most_frequent', fill_value='missing')),\n",
    "    ('encoder',OneHotEncoder(handle_unknown='ignore'))\n",
    "])\n",
    "\n",
    "preprocessor = ColumnTransformer(\n",
    "    transformers=[\n",
    "        ('num',numerical_transformer,numerical_features),\n",
    "        ('cat',categorical_transformer,categorical_features)\n",
    "    ])\n",
    "\n",
    "clf = Pipeline(steps=[\n",
    "    ('preprocessor',preprocessor),\n",
    "    ('classifier',DecisionTreeClassifier())  # Define model\n",
    "])\n",
    "clf.fit(x_train, y_train)\n",
    "\n",
    "print(f\"The score of the Decision Tree Classifier model is: {clf.score(x_test,y_test):0.3f}\")\n",
    "y_preds = clf.predict(x_test)"
   ],
   "execution_count":11,
   "outputs":[
    {
     "name":"stdout",
     "text":[
      "The score of the Decision Tree Classifier model is: 0.947\n"
     ],
     "output_type":"stream"
    }
   ],
   "metadata":{
    "datalore":{
     "type":"CODE",
     "hide_input_from_viewers":false,
     "hide_output_from_viewers":false
    }
   }
  },
  {
   "cell_type":"code",
   "source":[
    "param_grid = {\n",
    "    'preprocessor__num__imputer__strategy': ['mean','median'],\n",
    "    'classifier__criterion' : ['gini','entropy'],\n",
    "    'classifier__max_depth' : [2,4,8,12]    \n",
    "}\n",
    "\n",
    "grid_search = GridSearchCV(clf, param_grid, cv = 4, verbose = 2, n_jobs=-1)\n",
    "\n",
    "grid_search.fit(x_train, y_train)\n",
    "print(f\"The score of the DT After Hyperparameter tuning is: {grid_search.score(x_test,y_test):0.3f}\")\n",
    "print(f\"Best Parameters: {grid_search.best_params_}\")"
   ],
   "execution_count":12,
   "outputs":[
    {
     "name":"stdout",
     "text":[
      "Fitting 4 folds for each of 16 candidates, totalling 64 fits\n",
      "The score of the DT After Hyperparameter tuning is: 0.952\n",
      "Best Parameters: {'classifier__criterion': 'entropy', 'classifier__max_depth': 12, 'preprocessor__num__imputer__strategy': 'mean'}\n"
     ],
     "output_type":"stream"
    }
   ],
   "metadata":{
    "datalore":{
     "type":"CODE",
     "hide_input_from_viewers":false,
     "hide_output_from_viewers":false
    }
   }
  },
  {
   "cell_type":"code",
   "source":[
    "cnf_matrix = confusion_matrix(y_test,y_preds)\n",
    "np.set_printoptions(precision = 2)\n",
    "cnf_matrix"
   ],
   "execution_count":13,
   "outputs":[
    {
     "data":{
      "text\/html":[
       
      ]
     },
     "metadata":{
      
     },
     "output_type":"display_data"
    }
   ],
   "metadata":{
    "datalore":{
     "type":"CODE",
     "hide_input_from_viewers":false,
     "hide_output_from_viewers":false
    }
   }
  },
  {
   "cell_type":"code",
   "source":[
    "def plot_confusion_matrix(cm,classes, \n",
    "                          normalize = False,\n",
    "                          title = \"Confusion Matrix\",\n",
    "                          cmap = plt.cm.Blues):\n",
    "    \"\"\"\n",
    "    This function prints and plots the confusion matrix.\n",
    "    Normalization can be applied by setting `normalize=True`.\n",
    "    \"\"\"\n",
    "    if normalize:\n",
    "        cm = cm.astype('float') \/ cm.sum(axis=1)[:,np.newaxis]\n",
    "        print(\"Normalized Confusion Matrix\")\n",
    "    else:\n",
    "        print(\"Confusion Matrix, without Normalization\")  \n",
    "\n",
    "    print(cm)  \n",
    "    plt.imshow(cm,interpolation='nearest',cmap = cmap)\n",
    "    plt.title(title)\n",
    "    plt.colorbar()\n",
    "    tick_marks = np.arange(len(classes))\n",
    "    plt.xticks(tick_marks,classes,rotation = 45)\n",
    "    plt.yticks(tick_marks,classes)\n",
    "\n",
    "    fmt = '.2f' if normalize else 'd'\n",
    "    thresh = cm.max()\/2.\n",
    "    for i,j in itertools.product(range(cm.shape[0]),range(cm.shape[1])):\n",
    "        plt.text(j,i,format(cm[i,j],fmt),\n",
    "                 horizontalalignment = 'center',\n",
    "                 color = 'white' if cm[i,j] > thresh else 'black')\n",
    "    \n",
    "    plt.xlabel('True Heart Disease Class')\n",
    "    plt.ylabel('Predicted Heart Disease Class')\n",
    "    plt.tight_layout()\n",
    "plt.figure()\n",
    "plot_confusion_matrix(cnf_matrix, le.classes_,\n",
    "                      title='Confusion matrix, without normalization')\n",
    "plt.figure()\n",
    "plot_confusion_matrix(cnf_matrix, le.classes_, normalize=True,\n",
    "                      title='Normalized confusion matrix')\n",
    "\n",
    "plt.show()"
   ],
   "execution_count":14,
   "outputs":[
    {
     "name":"stdout",
     "text":[
      "Confusion Matrix, without Normalization\n",
      "[[5659  281]\n",
      " [ 273 4178]]\n",
      "Normalized Confusion Matrix\n",
      "[[0.95 0.05]\n",
      " [0.06 0.94]]\n"
     ],
     "output_type":"stream"
    },
    {
     "name":"stderr",
     "text":[
      "<ipython-input-14-c7dc23a61cea>:18: MatplotlibDeprecationWarning: Auto-removal of grids by pcolor() and pcolormesh() is deprecated since 3.5 and will be removed two minor releases later; please call grid(False) first.\n",
      "  plt.colorbar()\n"
     ],
     "output_type":"stream"
    },
    {
     "data":{
      "image\/png":"[encoded data removed]"
     },
     "metadata":{
      "image\/png":{
       
      }
     },
     "output_type":"display_data"
    }
   ],
   "metadata":{
    "datalore":{
     "type":"CODE",
     "hide_input_from_viewers":false,
     "hide_output_from_viewers":false
    }
   }
  },
  {
   "cell_type":"code",
   "source":[
    "df_test = pd.read_csv(\"https:\/\/raw.githubusercontent.com\/benvictoria17\/DataAnalytics\/master\/dataset\/Airline%20Passenger%20Satisfaction\/test.csv\")\n",
    "df_test.head()"
   ],
   "execution_count":15,
   "outputs":[
    {
     "data":{
      "text\/html":[
       "<div>\n",
       "<style scoped>\n",
       "    .dataframe tbody tr th:only-of-type {\n",
       "        vertical-align: middle;\n",
       "    }\n",
       "\n",
       "    .dataframe tbody tr th {\n",
       "        vertical-align: top;\n",
       "    }\n",
       "\n",
       "    .dataframe thead th {\n",
       "        text-align: right;\n",
       "    }\n",
       "<\/style>\n",
       "<table border=\"1\" class=\"dataframe\">\n",
       "  <thead>\n",
       "    <tr style=\"text-align: right;\">\n",
       "      <th><\/th>\n",
       "      <th>Unnamed: 0<\/th>\n",
       "      <th>id<\/th>\n",
       "      <th>Gender<\/th>\n",
       "      <th>Customer Type<\/th>\n",
       "      <th>Age<\/th>\n",
       "      <th>Type of Travel<\/th>\n",
       "      <th>Class<\/th>\n",
       "      <th>Flight Distance<\/th>\n",
       "      <th>Inflight wifi service<\/th>\n",
       "      <th>Departure\/Arrival time convenient<\/th>\n",
       "      <th>...<\/th>\n",
       "      <th>Inflight entertainment<\/th>\n",
       "      <th>On-board service<\/th>\n",
       "      <th>Leg room service<\/th>\n",
       "      <th>Baggage handling<\/th>\n",
       "      <th>Checkin service<\/th>\n",
       "      <th>Inflight service<\/th>\n",
       "      <th>Cleanliness<\/th>\n",
       "      <th>Departure Delay in Minutes<\/th>\n",
       "      <th>Arrival Delay in Minutes<\/th>\n",
       "      <th>satisfaction<\/th>\n",
       "    <\/tr>\n",
       "  <\/thead>\n",
       "  <tbody>\n",
       "    <tr>\n",
       "      <th>0<\/th>\n",
       "      <td>0<\/td>\n",
       "      <td>19556<\/td>\n",
       "      <td>Female<\/td>\n",
       "      <td>Loyal Customer<\/td>\n",
       "      <td>52<\/td>\n",
       "      <td>Business travel<\/td>\n",
       "      <td>Eco<\/td>\n",
       "      <td>160<\/td>\n",
       "      <td>5<\/td>\n",
       "      <td>4<\/td>\n",
       "      <td>...<\/td>\n",
       "      <td>5<\/td>\n",
       "      <td>5<\/td>\n",
       "      <td>5<\/td>\n",
       "      <td>5<\/td>\n",
       "      <td>2<\/td>\n",
       "      <td>5<\/td>\n",
       "      <td>5<\/td>\n",
       "      <td>50<\/td>\n",
       "      <td>44.0<\/td>\n",
       "      <td>satisfied<\/td>\n",
       "    <\/tr>\n",
       "    <tr>\n",
       "      <th>1<\/th>\n",
       "      <td>1<\/td>\n",
       "      <td>90035<\/td>\n",
       "      <td>Female<\/td>\n",
       "      <td>Loyal Customer<\/td>\n",
       "      <td>36<\/td>\n",
       "      <td>Business travel<\/td>\n",
       "      <td>Business<\/td>\n",
       "      <td>2863<\/td>\n",
       "      <td>1<\/td>\n",
       "      <td>1<\/td>\n",
       "      <td>...<\/td>\n",
       "      <td>4<\/td>\n",
       "      <td>4<\/td>\n",
       "      <td>4<\/td>\n",
       "      <td>4<\/td>\n",
       "      <td>3<\/td>\n",
       "      <td>4<\/td>\n",
       "      <td>5<\/td>\n",
       "      <td>0<\/td>\n",
       "      <td>0.0<\/td>\n",
       "      <td>satisfied<\/td>\n",
       "    <\/tr>\n",
       "    <tr>\n",
       "      <th>2<\/th>\n",
       "      <td>2<\/td>\n",
       "      <td>12360<\/td>\n",
       "      <td>Male<\/td>\n",
       "      <td>disloyal Customer<\/td>\n",
       "      <td>20<\/td>\n",
       "      <td>Business travel<\/td>\n",
       "      <td>Eco<\/td>\n",
       "      <td>192<\/td>\n",
       "      <td>2<\/td>\n",
       "      <td>0<\/td>\n",
       "      <td>...<\/td>\n",
       "      <td>2<\/td>\n",
       "      <td>4<\/td>\n",
       "      <td>1<\/td>\n",
       "      <td>3<\/td>\n",
       "      <td>2<\/td>\n",
       "      <td>2<\/td>\n",
       "      <td>2<\/td>\n",
       "      <td>0<\/td>\n",
       "      <td>0.0<\/td>\n",
       "      <td>neutral or dissatisfied<\/td>\n",
       "    <\/tr>\n",
       "    <tr>\n",
       "      <th>3<\/th>\n",
       "      <td>3<\/td>\n",
       "      <td>77959<\/td>\n",
       "      <td>Male<\/td>\n",
       "      <td>Loyal Customer<\/td>\n",
       "      <td>44<\/td>\n",
       "      <td>Business travel<\/td>\n",
       "      <td>Business<\/td>\n",
       "      <td>3377<\/td>\n",
       "      <td>0<\/td>\n",
       "      <td>0<\/td>\n",
       "      <td>...<\/td>\n",
       "      <td>1<\/td>\n",
       "      <td>1<\/td>\n",
       "      <td>1<\/td>\n",
       "      <td>1<\/td>\n",
       "      <td>3<\/td>\n",
       "      <td>1<\/td>\n",
       "      <td>4<\/td>\n",
       "      <td>0<\/td>\n",
       "      <td>6.0<\/td>\n",
       "      <td>satisfied<\/td>\n",
       "    <\/tr>\n",
       "    <tr>\n",
       "      <th>4<\/th>\n",
       "      <td>4<\/td>\n",
       "      <td>36875<\/td>\n",
       "      <td>Female<\/td>\n",
       "      <td>Loyal Customer<\/td>\n",
       "      <td>49<\/td>\n",
       "      <td>Business travel<\/td>\n",
       "      <td>Eco<\/td>\n",
       "      <td>1182<\/td>\n",
       "      <td>2<\/td>\n",
       "      <td>3<\/td>\n",
       "      <td>...<\/td>\n",
       "      <td>2<\/td>\n",
       "      <td>2<\/td>\n",
       "      <td>2<\/td>\n",
       "      <td>2<\/td>\n",
       "      <td>4<\/td>\n",
       "      <td>2<\/td>\n",
       "      <td>4<\/td>\n",
       "      <td>0<\/td>\n",
       "      <td>20.0<\/td>\n",
       "      <td>satisfied<\/td>\n",
       "    <\/tr>\n",
       "  <\/tbody>\n",
       "<\/table>\n",
       "<p>5 rows × 25 columns<\/p>\n",
       "<\/div>"
      ]
     },
     "metadata":{
      
     },
     "output_type":"display_data"
    }
   ],
   "metadata":{
    "datalore":{
     "type":"CODE",
     "hide_input_from_viewers":false,
     "hide_output_from_viewers":false
    }
   }
  },
  {
   "cell_type":"code",
   "source":[
    "y_test_transform = le.transform(df_test[\"satisfaction\"])\n",
    "y_test_transform[0:10]"
   ],
   "execution_count":16,
   "outputs":[
    {
     "data":{
      "text\/html":[
       
      ]
     },
     "metadata":{
      
     },
     "output_type":"display_data"
    }
   ],
   "metadata":{
    "datalore":{
     "type":"CODE",
     "hide_input_from_viewers":false,
     "hide_output_from_viewers":false
    }
   }
  },
  {
   "cell_type":"code",
   "source":[
    "test_sc = grid_search.score(df_test,y_test_transform)\n",
    "print(f\"Accuracy of the Test data is {test_sc:0.3f}\")"
   ],
   "execution_count":18,
   "outputs":[
    {
     "name":"stdout",
     "text":[
      "Accuracy of the Test data is 0.952\n"
     ],
     "output_type":"stream"
    }
   ],
   "metadata":{
    "datalore":{
     "type":"CODE",
     "hide_input_from_viewers":false,
     "hide_output_from_viewers":false
    }
   }
  },
  {
   "cell_type":"code",
   "source":[
    "y_test_pred = grid_search.predict(df_test)\n",
    "cnf_matrix = confusion_matrix(y_test_transform,y_test_pred)\n",
    "np.set_printoptions(precision = 2)\n",
    "cnf_matrix"
   ],
   "execution_count":19,
   "outputs":[
    {
     "data":{
      "text\/html":[
       
      ]
     },
     "metadata":{
      
     },
     "output_type":"display_data"
    }
   ],
   "metadata":{
    "datalore":{
     "type":"CODE",
     "hide_input_from_viewers":false,
     "hide_output_from_viewers":false
    }
   }
  },
  {
   "cell_type":"code",
   "source":[
    "plt.figure()\n",
    "plot_confusion_matrix(cnf_matrix, le.classes_,\n",
    "                      title='Confusion matrix, without normalization')\n",
    "plt.figure()\n",
    "plot_confusion_matrix(cnf_matrix, le.classes_, normalize=True,\n",
    "                      title='Normalized confusion matrix')\n",
    "\n",
    "plt.show()"
   ],
   "execution_count":20,
   "outputs":[
    {
     "name":"stdout",
     "text":[
      "Confusion Matrix, without Normalization\n",
      "[[14160   413]\n",
      " [  821 10582]]\n",
      "Normalized Confusion Matrix\n",
      "[[0.97 0.03]\n",
      " [0.07 0.93]]\n"
     ],
     "output_type":"stream"
    },
    {
     "name":"stderr",
     "text":[
      "<ipython-input-14-c7dc23a61cea>:18: MatplotlibDeprecationWarning: Auto-removal of grids by pcolor() and pcolormesh() is deprecated since 3.5 and will be removed two minor releases later; please call grid(False) first.\n",
      "  plt.colorbar()\n"
     ],
     "output_type":"stream"
    },
    {
     "data":{
      "image\/png":"[encoded data removed]"
     },
     "metadata":{
      "image\/png":{
       
      }
     },
     "output_type":"display_data"
    }
   ],
   "metadata":{
    "datalore":{
     "type":"CODE",
     "hide_input_from_viewers":false,
     "hide_output_from_viewers":false
    }
   }
  },
  {
   "cell_type":"code",
   "source":[
    "joblib.dump(le,\"class_label_encoder.joblib\")\n",
    "joblib.dump(grid_search,\"gridsearch_model_pipeline.joblib\")"
   ],
   "execution_count":21,
   "outputs":[
    {
     "data":{
      "text\/plain":[
       "['gridsearch_model_pipeline.joblib']"
      ]
     },
     "metadata":{
      
     },
     "output_type":"display_data"
    }
   ],
   "metadata":{
    "datalore":{
     "type":"CODE",
     "hide_input_from_viewers":false,
     "hide_output_from_viewers":false
    }
   }
  },
  {
   "cell_type":"code",
   "source":[
    "label_encode = joblib.load(\"class_label_encoder.joblib\")"
   ],
   "execution_count":22,
   "outputs":[
    
   ],
   "metadata":{
    "datalore":{
     "type":"CODE",
     "hide_input_from_viewers":false,
     "hide_output_from_viewers":false
    }
   }
  }
 ],
 "metadata":{
  "datalore":{
   "version":1,
   "computation_mode":"JUPYTER",
   "package_manager":"pip",
   "base_environment":"default",
   "packages":[
    
   ]
  }
 },
 "nbformat":4,
 "nbformat_minor":4
}