{
 "cells": [
  {
   "cell_type": "code",
   "execution_count": 41,
   "metadata": {
    "colab": {
     "base_uri": "https://localhost:8080/",
     "height": 804
    },
    "colab_type": "code",
    "executionInfo": {
     "elapsed": 16857,
     "status": "ok",
     "timestamp": 1593023112510,
     "user": {
      "displayName": "ben Victoria",
      "photoUrl": "https://lh3.googleusercontent.com/a-/AOh14Gj7mMc9jBEl4EDkH3fEA1WrQ9Equ0Ux2OWMY4di0w=s64",
      "userId": "14869617588384360506"
     },
     "user_tz": 420
    },
    "id": "OjpMsW87idq9",
    "outputId": "c63f9d07-f40f-4586-dd07-7fcc58759505"
   },
   "outputs": [
    {
     "name": "stdout",
     "output_type": "stream",
     "text": [
      "Requirement already satisfied: quandl in /usr/local/lib/python3.6/dist-packages (3.5.0)\n",
      "Requirement already satisfied: more-itertools in /usr/local/lib/python3.6/dist-packages (from quandl) (8.4.0)\n",
      "Requirement already satisfied: six in /usr/local/lib/python3.6/dist-packages (from quandl) (1.12.0)\n",
      "Requirement already satisfied: inflection>=0.3.1 in /usr/local/lib/python3.6/dist-packages (from quandl) (0.5.0)\n",
      "Requirement already satisfied: requests>=2.7.0 in /usr/local/lib/python3.6/dist-packages (from quandl) (2.23.0)\n",
      "Requirement already satisfied: python-dateutil in /usr/local/lib/python3.6/dist-packages (from quandl) (2.8.1)\n",
      "Requirement already satisfied: numpy>=1.8 in /usr/local/lib/python3.6/dist-packages (from quandl) (1.18.5)\n",
      "Requirement already satisfied: pandas>=0.14 in /usr/local/lib/python3.6/dist-packages (from quandl) (1.0.5)\n",
      "Requirement already satisfied: idna<3,>=2.5 in /usr/local/lib/python3.6/dist-packages (from requests>=2.7.0->quandl) (2.9)\n",
      "Requirement already satisfied: certifi>=2017.4.17 in /usr/local/lib/python3.6/dist-packages (from requests>=2.7.0->quandl) (2020.4.5.2)\n",
      "Requirement already satisfied: chardet<4,>=3.0.2 in /usr/local/lib/python3.6/dist-packages (from requests>=2.7.0->quandl) (3.0.4)\n",
      "Requirement already satisfied: urllib3!=1.25.0,!=1.25.1,<1.26,>=1.21.1 in /usr/local/lib/python3.6/dist-packages (from requests>=2.7.0->quandl) (1.24.3)\n",
      "Requirement already satisfied: pytz>=2017.2 in /usr/local/lib/python3.6/dist-packages (from pandas>=0.14->quandl) (2018.9)\n",
      "Requirement already satisfied: fbprophet in /usr/local/lib/python3.6/dist-packages (0.6)\n",
      "Requirement already satisfied: Cython>=0.22 in /usr/local/lib/python3.6/dist-packages (from fbprophet) (0.29.20)\n",
      "Requirement already satisfied: cmdstanpy==0.4 in /usr/local/lib/python3.6/dist-packages (from fbprophet) (0.4.0)\n",
      "Requirement already satisfied: pystan>=2.14 in /usr/local/lib/python3.6/dist-packages (from fbprophet) (2.19.1.1)\n",
      "Requirement already satisfied: numpy>=1.10.0 in /usr/local/lib/python3.6/dist-packages (from fbprophet) (1.18.5)\n",
      "Requirement already satisfied: pandas>=0.23.4 in /usr/local/lib/python3.6/dist-packages (from fbprophet) (1.0.5)\n",
      "Requirement already satisfied: matplotlib>=2.0.0 in /usr/local/lib/python3.6/dist-packages (from fbprophet) (3.2.2)\n",
      "Requirement already satisfied: LunarCalendar>=0.0.9 in /usr/local/lib/python3.6/dist-packages (from fbprophet) (0.0.9)\n",
      "Requirement already satisfied: convertdate>=2.1.2 in /usr/local/lib/python3.6/dist-packages (from fbprophet) (2.2.1)\n",
      "Requirement already satisfied: holidays>=0.9.5 in /usr/local/lib/python3.6/dist-packages (from fbprophet) (0.9.12)\n",
      "Requirement already satisfied: setuptools-git>=1.2 in /usr/local/lib/python3.6/dist-packages (from fbprophet) (1.2)\n",
      "Requirement already satisfied: python-dateutil>=2.8.0 in /usr/local/lib/python3.6/dist-packages (from fbprophet) (2.8.1)\n",
      "Requirement already satisfied: pytz>=2017.2 in /usr/local/lib/python3.6/dist-packages (from pandas>=0.23.4->fbprophet) (2018.9)\n",
      "Requirement already satisfied: pyparsing!=2.0.4,!=2.1.2,!=2.1.6,>=2.0.1 in /usr/local/lib/python3.6/dist-packages (from matplotlib>=2.0.0->fbprophet) (2.4.7)\n",
      "Requirement already satisfied: cycler>=0.10 in /usr/local/lib/python3.6/dist-packages (from matplotlib>=2.0.0->fbprophet) (0.10.0)\n",
      "Requirement already satisfied: kiwisolver>=1.0.1 in /usr/local/lib/python3.6/dist-packages (from matplotlib>=2.0.0->fbprophet) (1.2.0)\n",
      "Requirement already satisfied: ephem>=3.7.5.3 in /usr/local/lib/python3.6/dist-packages (from LunarCalendar>=0.0.9->fbprophet) (3.7.7.1)\n",
      "Requirement already satisfied: pymeeus<=1,>=0.3.6 in /usr/local/lib/python3.6/dist-packages (from convertdate>=2.1.2->fbprophet) (0.3.7)\n",
      "Requirement already satisfied: six in /usr/local/lib/python3.6/dist-packages (from holidays>=0.9.5->fbprophet) (1.12.0)\n",
      "Requirement already satisfied: pytrends in /usr/local/lib/python3.6/dist-packages (4.7.3)\n",
      "Requirement already satisfied: requests in /usr/local/lib/python3.6/dist-packages (from pytrends) (2.23.0)\n",
      "Requirement already satisfied: pandas>=0.25 in /usr/local/lib/python3.6/dist-packages (from pytrends) (1.0.5)\n",
      "Requirement already satisfied: lxml in /usr/local/lib/python3.6/dist-packages (from pytrends) (4.2.6)\n",
      "Requirement already satisfied: chardet<4,>=3.0.2 in /usr/local/lib/python3.6/dist-packages (from requests->pytrends) (3.0.4)\n",
      "Requirement already satisfied: urllib3!=1.25.0,!=1.25.1,<1.26,>=1.21.1 in /usr/local/lib/python3.6/dist-packages (from requests->pytrends) (1.24.3)\n",
      "Requirement already satisfied: certifi>=2017.4.17 in /usr/local/lib/python3.6/dist-packages (from requests->pytrends) (2020.4.5.2)\n",
      "Requirement already satisfied: idna<3,>=2.5 in /usr/local/lib/python3.6/dist-packages (from requests->pytrends) (2.9)\n",
      "Requirement already satisfied: numpy>=1.13.3 in /usr/local/lib/python3.6/dist-packages (from pandas>=0.25->pytrends) (1.18.5)\n",
      "Requirement already satisfied: python-dateutil>=2.6.1 in /usr/local/lib/python3.6/dist-packages (from pandas>=0.25->pytrends) (2.8.1)\n",
      "Requirement already satisfied: pytz>=2017.2 in /usr/local/lib/python3.6/dist-packages (from pandas>=0.25->pytrends) (2018.9)\n",
      "Requirement already satisfied: six>=1.5 in /usr/local/lib/python3.6/dist-packages (from python-dateutil>=2.6.1->pandas>=0.25->pytrends) (1.12.0)\n"
     ]
    }
   ],
   "source": [
    "!pip install quandl\n",
    "!pip install fbprophet\n",
    "!pip install pytrends"
   ]
  },
  {
   "cell_type": "code",
   "execution_count": 42,
   "metadata": {
    "colab": {
     "base_uri": "https://localhost:8080/",
     "height": 121
    },
    "colab_type": "code",
    "executionInfo": {
     "elapsed": 22345,
     "status": "ok",
     "timestamp": 1593023118095,
     "user": {
      "displayName": "ben Victoria",
      "photoUrl": "https://lh3.googleusercontent.com/a-/AOh14Gj7mMc9jBEl4EDkH3fEA1WrQ9Equ0Ux2OWMY4di0w=s64",
      "userId": "14869617588384360506"
     },
     "user_tz": 420
    },
    "id": "iZLldH6NinRy",
    "outputId": "afc977ee-b9b4-43a1-9429-7243cfe346d8"
   },
   "outputs": [
    {
     "name": "stdout",
     "output_type": "stream",
     "text": [
      "Cloning into 'AI-Adventures-3'...\n",
      "remote: Enumerating objects: 201, done.\u001b[K\n",
      "remote: Total 201 (delta 0), reused 0 (delta 0), pack-reused 201\u001b[K\n",
      "Receiving objects: 100% (201/201), 24.01 MiB | 18.69 MiB/s, done.\n",
      "Resolving deltas: 100% (111/111), done.\n",
      "/content/AI-Adventures-3\n"
     ]
    }
   ],
   "source": [
    "import os\n",
    "\n",
    "os.chdir('/content')\n",
    "\n",
    "!rm -rf AI-Adventures-*\n",
    "!git clone https://github.com/gauravsingh1012/AI-Adventures-3.git\n",
    "\n",
    "os.chdir('/content/AI-Adventures-3')\n",
    "!pwd"
   ]
  },
  {
   "cell_type": "code",
   "execution_count": 43,
   "metadata": {
    "colab": {},
    "colab_type": "code",
    "executionInfo": {
     "elapsed": 22309,
     "status": "ok",
     "timestamp": 1593023118097,
     "user": {
      "displayName": "ben Victoria",
      "photoUrl": "https://lh3.googleusercontent.com/a-/AOh14Gj7mMc9jBEl4EDkH3fEA1WrQ9Equ0Ux2OWMY4di0w=s64",
      "userId": "14869617588384360506"
     },
     "user_tz": 420
    },
    "id": "mtAQFw6ni3uw"
   },
   "outputs": [],
   "source": [
    "from stocksAnalyzerBackend import stockTicker"
   ]
  },
  {
   "cell_type": "code",
   "execution_count": 47,
   "metadata": {
    "colab": {},
    "colab_type": "code",
    "executionInfo": {
     "elapsed": 8921,
     "status": "ok",
     "timestamp": 1593023166359,
     "user": {
      "displayName": "ben Victoria",
      "photoUrl": "https://lh3.googleusercontent.com/a-/AOh14Gj7mMc9jBEl4EDkH3fEA1WrQ9Equ0Ux2OWMY4di0w=s64",
      "userId": "14869617588384360506"
     },
     "user_tz": 420
    },
    "id": "ggJwQsGljCpj"
   },
   "outputs": [],
   "source": [
    "from IPython.display import clear_output\n",
    "ticker = stockTicker(\"INFY\",\"NSE\")\n",
    "clear_output()\n",
    "\n",
    "# https://www.quandl.com/api/v3/datasets/WIKI/AAPL.csv\n",
    "# https://www.quandl.com/api/v3/datasets/WIKI/AAPL.json?start_date=1985-05-01&end_date=1997-07-01&order=asc&column_index=4&collapse=quarterly&transformation=rdiff\n",
    "# https://www.quandl.com/api/v3/datasets/OPEC/ORB.json\n",
    "# https://www.quandl.com/api/v3/datasets/OPEC/ORB.xml\n",
    "# https://www.quandl.com/api/v3/datasets/OPEC/ORB.csv?start_date=2003-01-01&end_date=2003-03-06"
   ]
  },
  {
   "cell_type": "code",
   "execution_count": 45,
   "metadata": {
    "colab": {},
    "colab_type": "code",
    "executionInfo": {
     "elapsed": 39409,
     "status": "ok",
     "timestamp": 1593023135277,
     "user": {
      "displayName": "ben Victoria",
      "photoUrl": "https://lh3.googleusercontent.com/a-/AOh14Gj7mMc9jBEl4EDkH3fEA1WrQ9Equ0Ux2OWMY4di0w=s64",
      "userId": "14869617588384360506"
     },
     "user_tz": 420
    },
    "id": "V-dYx648j9cM"
   },
   "outputs": [],
   "source": [
    "# Command for plotting in the notebook\n",
    "import matplotlib.pyplot as plt\n",
    "%matplotlib inline"
   ]
  }
 ],
 "metadata": {
  "colab": {
   "authorship_tag": "ABX9TyNi+MA+5t4ZwlIDTR+fZ11S",
   "name": "AI-Adventures-Stock-Analysis-using-Tensorflow-and-Facebook-Prophet/Stocks Analyzer baseline using fbprophet.ipynb",
   "provenance": []
  },
  "kernelspec": {
   "display_name": "Python 3",
   "name": "python3"
  }
 },
 "nbformat": 4,
 "nbformat_minor": 0
}
