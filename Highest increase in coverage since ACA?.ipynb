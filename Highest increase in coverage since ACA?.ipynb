{
  "metadata": {
    "kernelspec": {
      "language": "python",
      "display_name": "Python 3",
      "name": "python3"
    },
    "language_info": {
      "name": "python",
      "version": "3.7.12",
      "mimetype": "text/x-python",
      "codemirror_mode": {
        "name": "ipython",
        "version": 3
      },
      "pygments_lexer": "ipython3",
      "nbconvert_exporter": "python",
      "file_extension": ".py"
    },
    "colab": {
      "provenance": [],
      "include_colab_link": true
    }
  },
  "nbformat_minor": 0,
  "nbformat": 4,
  "cells": [
    {
      "cell_type": "markdown",
      "metadata": {
        "id": "view-in-github",
        "colab_type": "text"
      },
      "source": [
        "<a href=\"https://colab.research.google.com/github/benvictoria17/DataAnalytics/blob/main/Highest%20increase%20in%20coverage%20since%20ACA%3F.ipynb\" target=\"_parent\"><img src=\"https://colab.research.google.com/assets/colab-badge.svg\" alt=\"Open In Colab\"/></a>"
      ]
    },
    {
      "cell_type": "code",
      "source": [
        "import numpy as np \n",
        "import pandas as pd \n",
        "import sklearn as sk\n",
        "import seaborn as sns\n",
        "import matplotlib.pyplot as plt\n",
        "%matplotlib inline"
      ],
      "metadata": {
        "execution": {
          "iopub.status.busy": "2022-09-03T17:14:04.576219Z",
          "iopub.execute_input": "2022-09-03T17:14:04.576606Z",
          "iopub.status.idle": "2022-09-03T17:14:04.615012Z",
          "shell.execute_reply.started": "2022-09-03T17:14:04.576573Z",
          "shell.execute_reply": "2022-09-03T17:14:04.614127Z"
        },
        "trusted": true,
        "id": "yKROyMgvXrA1"
      },
      "execution_count": 1,
      "outputs": []
    },
    {
      "cell_type": "code",
      "source": [
        "df = pd.read_csv(\"https://raw.githubusercontent.com/benvictoria17/Finance/main/dataset/Health%20Insurance%20Coverage/states.csv\", header=0)"
      ],
      "metadata": {
        "execution": {
          "iopub.status.busy": "2022-09-03T17:14:25.493547Z",
          "iopub.execute_input": "2022-09-03T17:14:25.493912Z",
          "iopub.status.idle": "2022-09-03T17:14:25.744306Z",
          "shell.execute_reply.started": "2022-09-03T17:14:25.493883Z",
          "shell.execute_reply": "2022-09-03T17:14:25.743072Z"
        },
        "trusted": true,
        "id": "eVMFYPEGXrA2"
      },
      "execution_count": 2,
      "outputs": []
    },
    {
      "cell_type": "code",
      "source": [
        "df.head()"
      ],
      "metadata": {
        "execution": {
          "iopub.status.busy": "2022-09-03T17:14:28.512436Z",
          "iopub.execute_input": "2022-09-03T17:14:28.512875Z",
          "iopub.status.idle": "2022-09-03T17:14:28.531277Z",
          "shell.execute_reply.started": "2022-09-03T17:14:28.512840Z",
          "shell.execute_reply": "2022-09-03T17:14:28.530352Z"
        },
        "trusted": true,
        "colab": {
          "base_uri": "https://localhost:8080/",
          "height": 357
        },
        "id": "BFvgEJIUXrA3",
        "outputId": "2108a1f9-d1e3-4743-9538-d507437191aa"
      },
      "execution_count": 3,
      "outputs": [
        {
          "output_type": "execute_result",
          "data": {
            "text/plain": [
              "        State Uninsured Rate (2010) Uninsured Rate (2015)  \\\n",
              "0    Alabama                  14.6%                 10.1%   \n",
              "1     Alaska                  19.9%                 14.9%   \n",
              "2    Arizona                  16.9%                 10.8%   \n",
              "3   Arkansas                  17.5%                  9.5%   \n",
              "4  California                 18.5%                  8.6%   \n",
              "\n",
              "  Uninsured Rate Change (2010-2015)  \\\n",
              "0                            -4.5%    \n",
              "1                              -5%    \n",
              "2                            -6.1%    \n",
              "3                              -8%    \n",
              "4                            -9.9%    \n",
              "\n",
              "   Health Insurance Coverage Change (2010-2015)  \\\n",
              "0                                        215000   \n",
              "1                                         36000   \n",
              "2                                        410000   \n",
              "3                                        234000   \n",
              "4                                       3826000   \n",
              "\n",
              "   Employer Health Insurance Coverage (2015)  \\\n",
              "0                                    2545000   \n",
              "1                                     390000   \n",
              "2                                    3288000   \n",
              "3                                    1365000   \n",
              "4                                   19552000   \n",
              "\n",
              "   Marketplace Health Insurance Coverage (2016)  \\\n",
              "0                                        165534   \n",
              "1                                         17995   \n",
              "2                                        179445   \n",
              "3                                         63357   \n",
              "4                                       1415428   \n",
              "\n",
              "   Marketplace Tax Credits (2016) Average Monthly Tax Credit (2016)  \\\n",
              "0                          152206                             $310    \n",
              "1                           16205                             $750    \n",
              "2                          124346                             $230    \n",
              "3                           56843                             $306    \n",
              "4                         1239893                             $309    \n",
              "\n",
              "  State Medicaid Expansion (2016)  Medicaid Enrollment (2013)  \\\n",
              "0                           False                    799176.0   \n",
              "1                            True                    122334.0   \n",
              "2                            True                   1201770.0   \n",
              "3                            True                    556851.0   \n",
              "4                            True                   7755381.0   \n",
              "\n",
              "   Medicaid Enrollment (2016)  Medicaid Enrollment Change (2013-2016)  \\\n",
              "0                      910775                                111599.0   \n",
              "1                      166625                                 44291.0   \n",
              "2                     1716198                                514428.0   \n",
              "3                      920194                                363343.0   \n",
              "4                    11843081                               4087700.0   \n",
              "\n",
              "   Medicare Enrollment (2016)  \n",
              "0                      989855  \n",
              "1                       88966  \n",
              "2                     1175624  \n",
              "3                      606146  \n",
              "4                     5829777  "
            ],
            "text/html": [
              "\n",
              "  <div id=\"df-e563133a-0f89-452e-b65d-b3c3b4f52536\">\n",
              "    <div class=\"colab-df-container\">\n",
              "      <div>\n",
              "<style scoped>\n",
              "    .dataframe tbody tr th:only-of-type {\n",
              "        vertical-align: middle;\n",
              "    }\n",
              "\n",
              "    .dataframe tbody tr th {\n",
              "        vertical-align: top;\n",
              "    }\n",
              "\n",
              "    .dataframe thead th {\n",
              "        text-align: right;\n",
              "    }\n",
              "</style>\n",
              "<table border=\"1\" class=\"dataframe\">\n",
              "  <thead>\n",
              "    <tr style=\"text-align: right;\">\n",
              "      <th></th>\n",
              "      <th>State</th>\n",
              "      <th>Uninsured Rate (2010)</th>\n",
              "      <th>Uninsured Rate (2015)</th>\n",
              "      <th>Uninsured Rate Change (2010-2015)</th>\n",
              "      <th>Health Insurance Coverage Change (2010-2015)</th>\n",
              "      <th>Employer Health Insurance Coverage (2015)</th>\n",
              "      <th>Marketplace Health Insurance Coverage (2016)</th>\n",
              "      <th>Marketplace Tax Credits (2016)</th>\n",
              "      <th>Average Monthly Tax Credit (2016)</th>\n",
              "      <th>State Medicaid Expansion (2016)</th>\n",
              "      <th>Medicaid Enrollment (2013)</th>\n",
              "      <th>Medicaid Enrollment (2016)</th>\n",
              "      <th>Medicaid Enrollment Change (2013-2016)</th>\n",
              "      <th>Medicare Enrollment (2016)</th>\n",
              "    </tr>\n",
              "  </thead>\n",
              "  <tbody>\n",
              "    <tr>\n",
              "      <th>0</th>\n",
              "      <td>Alabama</td>\n",
              "      <td>14.6%</td>\n",
              "      <td>10.1%</td>\n",
              "      <td>-4.5%</td>\n",
              "      <td>215000</td>\n",
              "      <td>2545000</td>\n",
              "      <td>165534</td>\n",
              "      <td>152206</td>\n",
              "      <td>$310</td>\n",
              "      <td>False</td>\n",
              "      <td>799176.0</td>\n",
              "      <td>910775</td>\n",
              "      <td>111599.0</td>\n",
              "      <td>989855</td>\n",
              "    </tr>\n",
              "    <tr>\n",
              "      <th>1</th>\n",
              "      <td>Alaska</td>\n",
              "      <td>19.9%</td>\n",
              "      <td>14.9%</td>\n",
              "      <td>-5%</td>\n",
              "      <td>36000</td>\n",
              "      <td>390000</td>\n",
              "      <td>17995</td>\n",
              "      <td>16205</td>\n",
              "      <td>$750</td>\n",
              "      <td>True</td>\n",
              "      <td>122334.0</td>\n",
              "      <td>166625</td>\n",
              "      <td>44291.0</td>\n",
              "      <td>88966</td>\n",
              "    </tr>\n",
              "    <tr>\n",
              "      <th>2</th>\n",
              "      <td>Arizona</td>\n",
              "      <td>16.9%</td>\n",
              "      <td>10.8%</td>\n",
              "      <td>-6.1%</td>\n",
              "      <td>410000</td>\n",
              "      <td>3288000</td>\n",
              "      <td>179445</td>\n",
              "      <td>124346</td>\n",
              "      <td>$230</td>\n",
              "      <td>True</td>\n",
              "      <td>1201770.0</td>\n",
              "      <td>1716198</td>\n",
              "      <td>514428.0</td>\n",
              "      <td>1175624</td>\n",
              "    </tr>\n",
              "    <tr>\n",
              "      <th>3</th>\n",
              "      <td>Arkansas</td>\n",
              "      <td>17.5%</td>\n",
              "      <td>9.5%</td>\n",
              "      <td>-8%</td>\n",
              "      <td>234000</td>\n",
              "      <td>1365000</td>\n",
              "      <td>63357</td>\n",
              "      <td>56843</td>\n",
              "      <td>$306</td>\n",
              "      <td>True</td>\n",
              "      <td>556851.0</td>\n",
              "      <td>920194</td>\n",
              "      <td>363343.0</td>\n",
              "      <td>606146</td>\n",
              "    </tr>\n",
              "    <tr>\n",
              "      <th>4</th>\n",
              "      <td>California</td>\n",
              "      <td>18.5%</td>\n",
              "      <td>8.6%</td>\n",
              "      <td>-9.9%</td>\n",
              "      <td>3826000</td>\n",
              "      <td>19552000</td>\n",
              "      <td>1415428</td>\n",
              "      <td>1239893</td>\n",
              "      <td>$309</td>\n",
              "      <td>True</td>\n",
              "      <td>7755381.0</td>\n",
              "      <td>11843081</td>\n",
              "      <td>4087700.0</td>\n",
              "      <td>5829777</td>\n",
              "    </tr>\n",
              "  </tbody>\n",
              "</table>\n",
              "</div>\n",
              "      <button class=\"colab-df-convert\" onclick=\"convertToInteractive('df-e563133a-0f89-452e-b65d-b3c3b4f52536')\"\n",
              "              title=\"Convert this dataframe to an interactive table.\"\n",
              "              style=\"display:none;\">\n",
              "        \n",
              "  <svg xmlns=\"http://www.w3.org/2000/svg\" height=\"24px\"viewBox=\"0 0 24 24\"\n",
              "       width=\"24px\">\n",
              "    <path d=\"M0 0h24v24H0V0z\" fill=\"none\"/>\n",
              "    <path d=\"M18.56 5.44l.94 2.06.94-2.06 2.06-.94-2.06-.94-.94-2.06-.94 2.06-2.06.94zm-11 1L8.5 8.5l.94-2.06 2.06-.94-2.06-.94L8.5 2.5l-.94 2.06-2.06.94zm10 10l.94 2.06.94-2.06 2.06-.94-2.06-.94-.94-2.06-.94 2.06-2.06.94z\"/><path d=\"M17.41 7.96l-1.37-1.37c-.4-.4-.92-.59-1.43-.59-.52 0-1.04.2-1.43.59L10.3 9.45l-7.72 7.72c-.78.78-.78 2.05 0 2.83L4 21.41c.39.39.9.59 1.41.59.51 0 1.02-.2 1.41-.59l7.78-7.78 2.81-2.81c.8-.78.8-2.07 0-2.86zM5.41 20L4 18.59l7.72-7.72 1.47 1.35L5.41 20z\"/>\n",
              "  </svg>\n",
              "      </button>\n",
              "      \n",
              "  <style>\n",
              "    .colab-df-container {\n",
              "      display:flex;\n",
              "      flex-wrap:wrap;\n",
              "      gap: 12px;\n",
              "    }\n",
              "\n",
              "    .colab-df-convert {\n",
              "      background-color: #E8F0FE;\n",
              "      border: none;\n",
              "      border-radius: 50%;\n",
              "      cursor: pointer;\n",
              "      display: none;\n",
              "      fill: #1967D2;\n",
              "      height: 32px;\n",
              "      padding: 0 0 0 0;\n",
              "      width: 32px;\n",
              "    }\n",
              "\n",
              "    .colab-df-convert:hover {\n",
              "      background-color: #E2EBFA;\n",
              "      box-shadow: 0px 1px 2px rgba(60, 64, 67, 0.3), 0px 1px 3px 1px rgba(60, 64, 67, 0.15);\n",
              "      fill: #174EA6;\n",
              "    }\n",
              "\n",
              "    [theme=dark] .colab-df-convert {\n",
              "      background-color: #3B4455;\n",
              "      fill: #D2E3FC;\n",
              "    }\n",
              "\n",
              "    [theme=dark] .colab-df-convert:hover {\n",
              "      background-color: #434B5C;\n",
              "      box-shadow: 0px 1px 3px 1px rgba(0, 0, 0, 0.15);\n",
              "      filter: drop-shadow(0px 1px 2px rgba(0, 0, 0, 0.3));\n",
              "      fill: #FFFFFF;\n",
              "    }\n",
              "  </style>\n",
              "\n",
              "      <script>\n",
              "        const buttonEl =\n",
              "          document.querySelector('#df-e563133a-0f89-452e-b65d-b3c3b4f52536 button.colab-df-convert');\n",
              "        buttonEl.style.display =\n",
              "          google.colab.kernel.accessAllowed ? 'block' : 'none';\n",
              "\n",
              "        async function convertToInteractive(key) {\n",
              "          const element = document.querySelector('#df-e563133a-0f89-452e-b65d-b3c3b4f52536');\n",
              "          const dataTable =\n",
              "            await google.colab.kernel.invokeFunction('convertToInteractive',\n",
              "                                                     [key], {});\n",
              "          if (!dataTable) return;\n",
              "\n",
              "          const docLinkHtml = 'Like what you see? Visit the ' +\n",
              "            '<a target=\"_blank\" href=https://colab.research.google.com/notebooks/data_table.ipynb>data table notebook</a>'\n",
              "            + ' to learn more about interactive tables.';\n",
              "          element.innerHTML = '';\n",
              "          dataTable['output_type'] = 'display_data';\n",
              "          await google.colab.output.renderOutput(dataTable, element);\n",
              "          const docLink = document.createElement('div');\n",
              "          docLink.innerHTML = docLinkHtml;\n",
              "          element.appendChild(docLink);\n",
              "        }\n",
              "      </script>\n",
              "    </div>\n",
              "  </div>\n",
              "  "
            ]
          },
          "metadata": {},
          "execution_count": 3
        }
      ]
    },
    {
      "cell_type": "code",
      "source": [
        "df.info()"
      ],
      "metadata": {
        "execution": {
          "iopub.status.busy": "2022-09-03T17:14:38.505782Z",
          "iopub.execute_input": "2022-09-03T17:14:38.506992Z",
          "iopub.status.idle": "2022-09-03T17:14:38.523819Z",
          "shell.execute_reply.started": "2022-09-03T17:14:38.506925Z",
          "shell.execute_reply": "2022-09-03T17:14:38.522877Z"
        },
        "trusted": true,
        "colab": {
          "base_uri": "https://localhost:8080/"
        },
        "id": "_-l39nZ4XrA4",
        "outputId": "d9223905-5379-42a3-964c-7421230dd001"
      },
      "execution_count": 4,
      "outputs": [
        {
          "output_type": "stream",
          "name": "stdout",
          "text": [
            "<class 'pandas.core.frame.DataFrame'>\n",
            "RangeIndex: 52 entries, 0 to 51\n",
            "Data columns (total 14 columns):\n",
            " #   Column                                        Non-Null Count  Dtype  \n",
            "---  ------                                        --------------  -----  \n",
            " 0   State                                         52 non-null     object \n",
            " 1   Uninsured Rate (2010)                         52 non-null     object \n",
            " 2   Uninsured Rate (2015)                         52 non-null     object \n",
            " 3   Uninsured Rate Change (2010-2015)             52 non-null     object \n",
            " 4   Health Insurance Coverage Change (2010-2015)  52 non-null     int64  \n",
            " 5   Employer Health Insurance Coverage (2015)     52 non-null     int64  \n",
            " 6   Marketplace Health Insurance Coverage (2016)  52 non-null     int64  \n",
            " 7   Marketplace Tax Credits (2016)                52 non-null     int64  \n",
            " 8   Average Monthly Tax Credit (2016)             52 non-null     object \n",
            " 9   State Medicaid Expansion (2016)               51 non-null     object \n",
            " 10  Medicaid Enrollment (2013)                    50 non-null     float64\n",
            " 11  Medicaid Enrollment (2016)                    52 non-null     int64  \n",
            " 12  Medicaid Enrollment Change (2013-2016)        50 non-null     float64\n",
            " 13  Medicare Enrollment (2016)                    52 non-null     int64  \n",
            "dtypes: float64(2), int64(6), object(6)\n",
            "memory usage: 5.8+ KB\n"
          ]
        }
      ]
    },
    {
      "cell_type": "code",
      "source": [
        "df.columns"
      ],
      "metadata": {
        "execution": {
          "iopub.status.busy": "2022-09-03T17:14:54.462980Z",
          "iopub.execute_input": "2022-09-03T17:14:54.463517Z",
          "iopub.status.idle": "2022-09-03T17:14:54.471845Z",
          "shell.execute_reply.started": "2022-09-03T17:14:54.463461Z",
          "shell.execute_reply": "2022-09-03T17:14:54.470836Z"
        },
        "trusted": true,
        "colab": {
          "base_uri": "https://localhost:8080/"
        },
        "id": "bkbGsgPtXrA4",
        "outputId": "f1ea96cf-7111-43fc-acaf-5f6ff726a903"
      },
      "execution_count": 5,
      "outputs": [
        {
          "output_type": "execute_result",
          "data": {
            "text/plain": [
              "Index(['State', 'Uninsured Rate (2010)', 'Uninsured Rate (2015)',\n",
              "       'Uninsured Rate Change (2010-2015)',\n",
              "       'Health Insurance Coverage Change (2010-2015)',\n",
              "       'Employer Health Insurance Coverage (2015)',\n",
              "       'Marketplace Health Insurance Coverage (2016)',\n",
              "       'Marketplace Tax Credits (2016)', 'Average Monthly Tax Credit (2016)',\n",
              "       'State Medicaid Expansion (2016)', 'Medicaid Enrollment (2013)',\n",
              "       'Medicaid Enrollment (2016)', 'Medicaid Enrollment Change (2013-2016)',\n",
              "       'Medicare Enrollment (2016)'],\n",
              "      dtype='object')"
            ]
          },
          "metadata": {},
          "execution_count": 5
        }
      ]
    },
    {
      "cell_type": "code",
      "source": [
        "str_percent_to_float = lambda x: float(x.strip(' ').strip('%'))/100\n",
        "percent_to_convert = ['Uninsured Rate (2010)', 'Uninsured Rate (2015)', 'Uninsured Rate Change (2010-2015)']\n",
        "df[percent_to_convert] = df[percent_to_convert].applymap(str_percent_to_float)"
      ],
      "metadata": {
        "execution": {
          "iopub.status.busy": "2022-09-03T17:15:05.349081Z",
          "iopub.execute_input": "2022-09-03T17:15:05.349448Z",
          "iopub.status.idle": "2022-09-03T17:15:05.359565Z",
          "shell.execute_reply.started": "2022-09-03T17:15:05.349419Z",
          "shell.execute_reply": "2022-09-03T17:15:05.358499Z"
        },
        "trusted": true,
        "id": "bJ0EwxZcXrA4"
      },
      "execution_count": 6,
      "outputs": []
    },
    {
      "cell_type": "code",
      "source": [
        "df.drop([51], inplace=True) # getting rid of total US info ... (maybe stupid)\n",
        "df['State Medicaid Expansion (2016)'] = df['State Medicaid Expansion (2016)'].map(lambda x: int(x))"
      ],
      "metadata": {
        "execution": {
          "iopub.status.busy": "2022-09-03T17:15:20.355636Z",
          "iopub.execute_input": "2022-09-03T17:15:20.356015Z",
          "iopub.status.idle": "2022-09-03T17:15:20.365884Z",
          "shell.execute_reply.started": "2022-09-03T17:15:20.355983Z",
          "shell.execute_reply": "2022-09-03T17:15:20.364984Z"
        },
        "trusted": true,
        "id": "DG6QuwbRXrA5"
      },
      "execution_count": 7,
      "outputs": []
    },
    {
      "cell_type": "code",
      "source": [
        "df_without_state = df.drop(['State'], axis=1)"
      ],
      "metadata": {
        "execution": {
          "iopub.status.busy": "2022-09-03T17:15:30.727754Z",
          "iopub.execute_input": "2022-09-03T17:15:30.728191Z",
          "iopub.status.idle": "2022-09-03T17:15:30.735669Z",
          "shell.execute_reply.started": "2022-09-03T17:15:30.728152Z",
          "shell.execute_reply": "2022-09-03T17:15:30.734420Z"
        },
        "trusted": true,
        "id": "JQhIWxErXrA5"
      },
      "execution_count": 8,
      "outputs": []
    },
    {
      "cell_type": "code",
      "source": [
        "df_without_state.info()"
      ],
      "metadata": {
        "execution": {
          "iopub.status.busy": "2022-09-03T17:15:48.812138Z",
          "iopub.execute_input": "2022-09-03T17:15:48.812517Z",
          "iopub.status.idle": "2022-09-03T17:15:48.832401Z",
          "shell.execute_reply.started": "2022-09-03T17:15:48.812490Z",
          "shell.execute_reply": "2022-09-03T17:15:48.828624Z"
        },
        "trusted": true,
        "colab": {
          "base_uri": "https://localhost:8080/"
        },
        "id": "1sHOU49EXrA5",
        "outputId": "ebac23fd-a01d-4dcd-8a5b-ebd2e10ff3b0"
      },
      "execution_count": 9,
      "outputs": [
        {
          "output_type": "stream",
          "name": "stdout",
          "text": [
            "<class 'pandas.core.frame.DataFrame'>\n",
            "Int64Index: 51 entries, 0 to 50\n",
            "Data columns (total 13 columns):\n",
            " #   Column                                        Non-Null Count  Dtype  \n",
            "---  ------                                        --------------  -----  \n",
            " 0   Uninsured Rate (2010)                         51 non-null     float64\n",
            " 1   Uninsured Rate (2015)                         51 non-null     float64\n",
            " 2   Uninsured Rate Change (2010-2015)             51 non-null     float64\n",
            " 3   Health Insurance Coverage Change (2010-2015)  51 non-null     int64  \n",
            " 4   Employer Health Insurance Coverage (2015)     51 non-null     int64  \n",
            " 5   Marketplace Health Insurance Coverage (2016)  51 non-null     int64  \n",
            " 6   Marketplace Tax Credits (2016)                51 non-null     int64  \n",
            " 7   Average Monthly Tax Credit (2016)             51 non-null     object \n",
            " 8   State Medicaid Expansion (2016)               51 non-null     int64  \n",
            " 9   Medicaid Enrollment (2013)                    49 non-null     float64\n",
            " 10  Medicaid Enrollment (2016)                    51 non-null     int64  \n",
            " 11  Medicaid Enrollment Change (2013-2016)        49 non-null     float64\n",
            " 12  Medicare Enrollment (2016)                    51 non-null     int64  \n",
            "dtypes: float64(5), int64(7), object(1)\n",
            "memory usage: 5.6+ KB\n"
          ]
        }
      ]
    },
    {
      "cell_type": "code",
      "source": [
        "from collections import Counter\n",
        "uninsured_rate_change = df['Uninsured Rate Change (2010-2015)']\n",
        "Counter([np.sign(change) for change in uninsured_rate_change[:-1]]).most_common()"
      ],
      "metadata": {
        "execution": {
          "iopub.status.busy": "2022-09-03T17:16:02.612675Z",
          "iopub.execute_input": "2022-09-03T17:16:02.613258Z",
          "iopub.status.idle": "2022-09-03T17:16:02.621650Z",
          "shell.execute_reply.started": "2022-09-03T17:16:02.613212Z",
          "shell.execute_reply": "2022-09-03T17:16:02.620784Z"
        },
        "trusted": true,
        "colab": {
          "base_uri": "https://localhost:8080/"
        },
        "id": "0quvYYLEXrA5",
        "outputId": "9202977f-acd2-46ff-d194-e20aa58eb94f"
      },
      "execution_count": 10,
      "outputs": [
        {
          "output_type": "execute_result",
          "data": {
            "text/plain": [
              "[(-1.0, 50)]"
            ]
          },
          "metadata": {},
          "execution_count": 10
        }
      ]
    },
    {
      "cell_type": "code",
      "source": [
        "sns.barplot(x=df.State[:-1], y=uninsured_rate_change[:-1])\n",
        "plt.xticks(rotation='vertical')\n",
        "plt.xlabel('State')\n",
        "plt.ylabel('Mean uninsured rate change (2010-2015)')"
      ],
      "metadata": {
        "execution": {
          "iopub.status.busy": "2022-09-03T17:16:11.604261Z",
          "iopub.execute_input": "2022-09-03T17:16:11.604638Z",
          "iopub.status.idle": "2022-09-03T17:16:12.559499Z",
          "shell.execute_reply.started": "2022-09-03T17:16:11.604607Z",
          "shell.execute_reply": "2022-09-03T17:16:12.558674Z"
        },
        "trusted": true,
        "colab": {
          "base_uri": "https://localhost:8080/",
          "height": 390
        },
        "id": "LsTjZmvGXrA6",
        "outputId": "d4ad7ec0-2dfd-4512-9cfd-e275f6514468"
      },
      "execution_count": 11,
      "outputs": [
        {
          "output_type": "execute_result",
          "data": {
            "text/plain": [
              "Text(0, 0.5, 'Mean uninsured rate change (2010-2015)')"
            ]
          },
          "metadata": {},
          "execution_count": 11
        },
        {
          "output_type": "display_data",
          "data": {
            "text/plain": [
              "<Figure size 432x288 with 1 Axes>"
            ],
            "image/png": "[encoded data removed]"
          },
          "metadata": {
            "needs_background": "light"
          }
        }
      ]
    },
    {
      "cell_type": "code",
      "source": [
        "sns.barplot(x=df.State[:-1], y=uninsured_rate_change[:-1])\n",
        "plt.xticks(rotation='vertical')\n",
        "plt.xlabel('State')\n",
        "plt.ylabel('Mean uninsured rate change (2010-2015)')"
      ],
      "metadata": {
        "execution": {
          "iopub.status.busy": "2022-09-03T17:16:42.174411Z",
          "iopub.execute_input": "2022-09-03T17:16:42.174800Z",
          "iopub.status.idle": "2022-09-03T17:16:43.113860Z",
          "shell.execute_reply.started": "2022-09-03T17:16:42.174769Z",
          "shell.execute_reply": "2022-09-03T17:16:43.112819Z"
        },
        "trusted": true,
        "colab": {
          "base_uri": "https://localhost:8080/",
          "height": 390
        },
        "id": "okb5PSDQXrA6",
        "outputId": "a102a491-69c9-4eb8-9ccb-3db4bc4f2186"
      },
      "execution_count": 12,
      "outputs": [
        {
          "output_type": "execute_result",
          "data": {
            "text/plain": [
              "Text(0, 0.5, 'Mean uninsured rate change (2010-2015)')"
            ]
          },
          "metadata": {},
          "execution_count": 12
        },
        {
          "output_type": "display_data",
          "data": {
            "text/plain": [
              "<Figure size 432x288 with 1 Axes>"
            ],
            "image/png": "[encoded data removed]"
          },
          "metadata": {
            "needs_background": "light"
          }
        }
      ]
    }
  ]
}