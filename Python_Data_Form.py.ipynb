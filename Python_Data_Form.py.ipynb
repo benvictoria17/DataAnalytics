{
 "cells": [
  {
   "cell_type": "code",
   "execution_count": 1,
   "metadata": {},
   "outputs": [],
   "source": [
    "from tkinter import *\n",
    "import pandas as pd"
   ]
  },
  {
   "cell_type": "code",
   "execution_count": 3,
   "metadata": {},
   "outputs": [],
   "source": [
    "def submit_fields():\n",
    "    path = 'excel.xlsx'\n",
    "    df1 = pd.read_excel(path)\n",
    "    SeriesA = df1['Operator']\n",
    "    SeriesB = df1['Number']\n",
    "    A = pd.Series(entry1.get())\n",
    "    B = pd.Series(entry2.get())\n",
    "    SeriesA = SeriesA.append(A)\n",
    "    SeriesB = SeriesB.append(B)\n",
    "    df2 = pd.DataFrame({\"Operator\":SeriesA, \"Number\":SeriesB})\n",
    "    df2.to_excel(path, index=False)\n",
    "    entry1.delete(0, END)\n",
    "    entry2.delete(0, END)\n",
    "\n",
    "master = Tk()\n",
    "\n",
    "Label(master, text=\"Operator\").grid(row=0)\n",
    "Label(master, text=\"Number\").grid(row=1)\n",
    "\n",
    "entry1 = Entry(master)\n",
    "entry2 = Entry(master)\n",
    "\n",
    "entry1.grid(row=0, column=1)\n",
    "entry2.grid(row=1, column=1)\n",
    "\n",
    "Button(master, text='Quit', command=master.quit).grid(row=3,column=0, pady=4)\n",
    "Button(master, text='Submit', command=submit_fields).grid(row=3,column=1, pady=4)\n",
    "\n",
    "mainloop()\n"
   ]
  }
 ],
 "metadata": {
  "kernelspec": {
   "display_name": "Python 3",
   "language": "python",
   "name": "python3"
  },
  "language_info": {
   "codemirror_mode": {
    "name": "ipython",
    "version": 3
   },
   "file_extension": ".py",
   "mimetype": "text/x-python",
   "name": "python",
   "nbconvert_exporter": "python",
   "pygments_lexer": "ipython3",
   "version": "3.7.6"
  }
 },
 "nbformat": 4,
 "nbformat_minor": 4
}
