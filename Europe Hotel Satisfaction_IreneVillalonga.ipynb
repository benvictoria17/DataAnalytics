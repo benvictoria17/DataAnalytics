{
 "cells": [
  {
   "cell_type": "code",
   "execution_count": 3,
   "id": "1dcdb6c5",
   "metadata": {},
   "outputs": [],
   "source": [
    "from mpl_toolkits.mplot3d import Axes3D\n",
    "from sklearn.preprocessing import StandardScaler\n",
    "import matplotlib.pyplot as plt \n",
    "import numpy as np \n",
    "import os \n",
    "import pandas as pd \n",
    "import matplotlib.pyplot as plt"
   ]
  },
  {
   "cell_type": "code",
   "execution_count": 4,
   "id": "6cefe73f",
   "metadata": {},
   "outputs": [],
   "source": [
    "def plotPerColumnDistribution(df, nGraphShown, nGraphPerRow):\n",
    "    nunique = df.nunique()\n",
    "    df = df[[col for col in df if nunique[col] > 1 and nunique[col] < 50]] # For displaying purposes, pick columns that have between 1 and 50 unique values\n",
    "    nRow, nCol = df.shape\n",
    "    columnNames = list(df)\n",
    "    nGraphRow = (nCol + nGraphPerRow - 1) / nGraphPerRow\n",
    "    plt.figure(num = None, figsize = (6 * nGraphPerRow, 8 * nGraphRow), dpi = 80, facecolor = 'w', edgecolor = 'k')\n",
    "    for i in range(min(nCol, nGraphShown)):\n",
    "        plt.subplot(nGraphRow, nGraphPerRow, i + 1)\n",
    "        columnDf = df.iloc[:, i]\n",
    "        if (not np.issubdtype(type(columnDf.iloc[0]), np.number)):\n",
    "            valueCounts = columnDf.value_counts()\n",
    "            valueCounts.plot.bar()\n",
    "        else:\n",
    "            columnDf.hist()\n",
    "        plt.ylabel('counts')\n",
    "        plt.xticks(rotation = 90)\n",
    "        plt.title(f'{columnNames[i]} (column {i})')\n",
    "    plt.tight_layout(pad = 1.0, w_pad = 1.0, h_pad = 1.0)\n",
    "    plt.show()\n",
    "def plotCorrelationMatrix(df, graphWidth):\n",
    "    filename = df.dataframeName\n",
    "    df = df.dropna('columns') \n",
    "    df = df[[col for col in df if df[col].nunique() > 1]] # keep columns where there are more than 1 unique values\n",
    "    if df.shape[1] < 2:\n",
    "        print(f'No correlation plots shown: The number of non-NaN or constant columns ({df.shape[1]}) is less than 2')\n",
    "        return\n",
    "    corr = df.corr()\n",
    "    plt.figure(num=None, figsize=(graphWidth, graphWidth), dpi=80, facecolor='w', edgecolor='k')\n",
    "    corrMat = plt.matshow(corr, fignum = 1)\n",
    "    plt.xticks(range(len(corr.columns)), corr.columns, rotation=90)\n",
    "    plt.yticks(range(len(corr.columns)), corr.columns)\n",
    "    plt.gca().xaxis.tick_bottom()\n",
    "    plt.colorbar(corrMat)\n",
    "    plt.title(f'Correlation Matrix for {filename}', fontsize=15)\n",
    "    plt.show()"
   ]
  },
  {
   "cell_type": "code",
   "execution_count": 5,
   "id": "fee5f00e",
   "metadata": {},
   "outputs": [
    {
     "name": "stdout",
     "output_type": "stream",
     "text": [
      "There are 1000 rows and 17 columns\n"
     ]
    }
   ],
   "source": [
    "nRowsRead = 1000 \n",
    "df1 = pd.read_csv('https://raw.githubusercontent.com/benvictoria17/DataAnalytics/main/dataset/Europe%20Hotel%20Satisfaction%20Score/Europe%20Hotel%20Satisfaction%20Score/Europe%20Hotel%20Booking%20Satisfaction%20Score.csv', delimiter=',', nrows = nRowsRead)\n",
    "df1.dataframeName = 'Europe Hotel Booking Satisfaction Score.csv'\n",
    "nRow, nCol = df1.shape\n",
    "print(f'There are {nRow} rows and {nCol} columns')"
   ]
  },
  {
   "cell_type": "code",
   "execution_count": 6,
   "id": "6c081e88",
   "metadata": {},
   "outputs": [
    {
     "data": {
      "text/html": [
       "<div>\n",
       "<style scoped>\n",
       "    .dataframe tbody tr th:only-of-type {\n",
       "        vertical-align: middle;\n",
       "    }\n",
       "\n",
       "    .dataframe tbody tr th {\n",
       "        vertical-align: top;\n",
       "    }\n",
       "\n",
       "    .dataframe thead th {\n",
       "        text-align: right;\n",
       "    }\n",
       "</style>\n",
       "<table border=\"1\" class=\"dataframe\">\n",
       "  <thead>\n",
       "    <tr style=\"text-align: right;\">\n",
       "      <th></th>\n",
       "      <th>id</th>\n",
       "      <th>Gender</th>\n",
       "      <th>Age</th>\n",
       "      <th>purpose_of_travel</th>\n",
       "      <th>Type of Travel</th>\n",
       "      <th>Type Of Booking</th>\n",
       "      <th>Hotel wifi service</th>\n",
       "      <th>Departure/Arrival  convenience</th>\n",
       "      <th>Ease of Online booking</th>\n",
       "      <th>Hotel location</th>\n",
       "      <th>Food and drink</th>\n",
       "      <th>Stay comfort</th>\n",
       "      <th>Common Room entertainment</th>\n",
       "      <th>Checkin/Checkout service</th>\n",
       "      <th>Other service</th>\n",
       "      <th>Cleanliness</th>\n",
       "      <th>satisfaction</th>\n",
       "    </tr>\n",
       "  </thead>\n",
       "  <tbody>\n",
       "    <tr>\n",
       "      <th>0</th>\n",
       "      <td>70172</td>\n",
       "      <td>Male</td>\n",
       "      <td>13</td>\n",
       "      <td>aviation</td>\n",
       "      <td>Personal Travel</td>\n",
       "      <td>Not defined</td>\n",
       "      <td>3</td>\n",
       "      <td>4</td>\n",
       "      <td>3</td>\n",
       "      <td>1</td>\n",
       "      <td>5</td>\n",
       "      <td>5</td>\n",
       "      <td>5</td>\n",
       "      <td>4</td>\n",
       "      <td>5</td>\n",
       "      <td>5</td>\n",
       "      <td>neutral or dissatisfied</td>\n",
       "    </tr>\n",
       "    <tr>\n",
       "      <th>1</th>\n",
       "      <td>5047</td>\n",
       "      <td>Male</td>\n",
       "      <td>25</td>\n",
       "      <td>tourism</td>\n",
       "      <td>Group Travel</td>\n",
       "      <td>Group bookings</td>\n",
       "      <td>3</td>\n",
       "      <td>2</td>\n",
       "      <td>3</td>\n",
       "      <td>3</td>\n",
       "      <td>1</td>\n",
       "      <td>1</td>\n",
       "      <td>1</td>\n",
       "      <td>1</td>\n",
       "      <td>4</td>\n",
       "      <td>1</td>\n",
       "      <td>neutral or dissatisfied</td>\n",
       "    </tr>\n",
       "    <tr>\n",
       "      <th>2</th>\n",
       "      <td>110028</td>\n",
       "      <td>Female</td>\n",
       "      <td>26</td>\n",
       "      <td>tourism</td>\n",
       "      <td>Group Travel</td>\n",
       "      <td>Group bookings</td>\n",
       "      <td>2</td>\n",
       "      <td>2</td>\n",
       "      <td>2</td>\n",
       "      <td>2</td>\n",
       "      <td>5</td>\n",
       "      <td>5</td>\n",
       "      <td>5</td>\n",
       "      <td>4</td>\n",
       "      <td>4</td>\n",
       "      <td>5</td>\n",
       "      <td>satisfied</td>\n",
       "    </tr>\n",
       "    <tr>\n",
       "      <th>3</th>\n",
       "      <td>24026</td>\n",
       "      <td>Female</td>\n",
       "      <td>25</td>\n",
       "      <td>tourism</td>\n",
       "      <td>Group Travel</td>\n",
       "      <td>Group bookings</td>\n",
       "      <td>2</td>\n",
       "      <td>5</td>\n",
       "      <td>5</td>\n",
       "      <td>5</td>\n",
       "      <td>2</td>\n",
       "      <td>2</td>\n",
       "      <td>2</td>\n",
       "      <td>1</td>\n",
       "      <td>4</td>\n",
       "      <td>2</td>\n",
       "      <td>neutral or dissatisfied</td>\n",
       "    </tr>\n",
       "    <tr>\n",
       "      <th>4</th>\n",
       "      <td>119299</td>\n",
       "      <td>Male</td>\n",
       "      <td>61</td>\n",
       "      <td>aviation</td>\n",
       "      <td>Group Travel</td>\n",
       "      <td>Group bookings</td>\n",
       "      <td>3</td>\n",
       "      <td>3</td>\n",
       "      <td>3</td>\n",
       "      <td>3</td>\n",
       "      <td>4</td>\n",
       "      <td>5</td>\n",
       "      <td>3</td>\n",
       "      <td>3</td>\n",
       "      <td>3</td>\n",
       "      <td>3</td>\n",
       "      <td>satisfied</td>\n",
       "    </tr>\n",
       "  </tbody>\n",
       "</table>\n",
       "</div>"
      ],
      "text/plain": [
       "       id  Gender  Age purpose_of_travel   Type of Travel Type Of Booking  \\\n",
       "0   70172    Male   13          aviation  Personal Travel     Not defined   \n",
       "1    5047    Male   25           tourism     Group Travel  Group bookings   \n",
       "2  110028  Female   26           tourism     Group Travel  Group bookings   \n",
       "3   24026  Female   25           tourism     Group Travel  Group bookings   \n",
       "4  119299    Male   61          aviation     Group Travel  Group bookings   \n",
       "\n",
       "   Hotel wifi service  Departure/Arrival  convenience  Ease of Online booking  \\\n",
       "0                   3                               4                       3   \n",
       "1                   3                               2                       3   \n",
       "2                   2                               2                       2   \n",
       "3                   2                               5                       5   \n",
       "4                   3                               3                       3   \n",
       "\n",
       "   Hotel location  Food and drink  Stay comfort  Common Room entertainment  \\\n",
       "0               1               5             5                          5   \n",
       "1               3               1             1                          1   \n",
       "2               2               5             5                          5   \n",
       "3               5               2             2                          2   \n",
       "4               3               4             5                          3   \n",
       "\n",
       "   Checkin/Checkout service  Other service  Cleanliness  \\\n",
       "0                         4              5            5   \n",
       "1                         1              4            1   \n",
       "2                         4              4            5   \n",
       "3                         1              4            2   \n",
       "4                         3              3            3   \n",
       "\n",
       "              satisfaction  \n",
       "0  neutral or dissatisfied  \n",
       "1  neutral or dissatisfied  \n",
       "2                satisfied  \n",
       "3  neutral or dissatisfied  \n",
       "4                satisfied  "
      ]
     },
     "execution_count": 6,
     "metadata": {},
     "output_type": "execute_result"
    }
   ],
   "source": [
    "df1.head(5)"
   ]
  },
  {
   "cell_type": "code",
   "execution_count": 7,
   "id": "6b6ded03",
   "metadata": {},
   "outputs": [
    {
     "data": {
      "text/plain": [
       "<bound method DataFrame.count of          id  Gender  Age purpose_of_travel   Type of Travel  \\\n",
       "0     70172    Male   13          aviation  Personal Travel   \n",
       "1      5047    Male   25           tourism     Group Travel   \n",
       "2    110028  Female   26           tourism     Group Travel   \n",
       "3     24026  Female   25           tourism     Group Travel   \n",
       "4    119299    Male   61          aviation     Group Travel   \n",
       "..      ...     ...  ...               ...              ...   \n",
       "995   36608    Male   28          business     Group Travel   \n",
       "996  121263    Male   53           tourism  Personal Travel   \n",
       "997   16712    Male   48          academic  Personal Travel   \n",
       "998   22022  Female   46          academic     Group Travel   \n",
       "999   59019  Female   50          aviation     Group Travel   \n",
       "\n",
       "       Type Of Booking  Hotel wifi service  Departure/Arrival  convenience  \\\n",
       "0          Not defined                   3                               4   \n",
       "1       Group bookings                   3                               2   \n",
       "2       Group bookings                   2                               2   \n",
       "3       Group bookings                   2                               5   \n",
       "4       Group bookings                   3                               3   \n",
       "..                 ...                 ...                             ...   \n",
       "995     Group bookings                   2                               2   \n",
       "996  Individual/Couple                   1                               5   \n",
       "997  Individual/Couple                   2                               5   \n",
       "998        Not defined                   2                               3   \n",
       "999     Group bookings                   5                               5   \n",
       "\n",
       "     Ease of Online booking  Hotel location  Food and drink  Stay comfort  \\\n",
       "0                         3               1               5             5   \n",
       "1                         3               3               1             1   \n",
       "2                         2               2               5             5   \n",
       "3                         5               5               2             2   \n",
       "4                         3               3               4             5   \n",
       "..                      ...             ...             ...           ...   \n",
       "995                       2               2               4             4   \n",
       "996                       2               4               5             1   \n",
       "997                       3               4               5             5   \n",
       "998                       3               3               2             4   \n",
       "999                       5               5               5             5   \n",
       "\n",
       "     Common Room entertainment  Checkin/Checkout service  Other service  \\\n",
       "0                            5                         4              5   \n",
       "1                            1                         1              4   \n",
       "2                            5                         4              4   \n",
       "3                            2                         1              4   \n",
       "4                            3                         3              3   \n",
       "..                         ...                       ...            ...   \n",
       "995                          4                         2              5   \n",
       "996                          5                         3              5   \n",
       "997                          5                         1              2   \n",
       "998                          1                         5              1   \n",
       "999                          5                         4              5   \n",
       "\n",
       "     Cleanliness             satisfaction  \n",
       "0              5  neutral or dissatisfied  \n",
       "1              1  neutral or dissatisfied  \n",
       "2              5                satisfied  \n",
       "3              2  neutral or dissatisfied  \n",
       "4              3                satisfied  \n",
       "..           ...                      ...  \n",
       "995            4                satisfied  \n",
       "996            5  neutral or dissatisfied  \n",
       "997            5  neutral or dissatisfied  \n",
       "998            5                satisfied  \n",
       "999            4                satisfied  \n",
       "\n",
       "[1000 rows x 17 columns]>"
      ]
     },
     "execution_count": 7,
     "metadata": {},
     "output_type": "execute_result"
    }
   ],
   "source": [
    "df1.count"
   ]
  },
  {
   "cell_type": "code",
   "execution_count": 8,
   "id": "de063ab3",
   "metadata": {},
   "outputs": [
    {
     "data": {
      "text/html": [
       "<div>\n",
       "<style scoped>\n",
       "    .dataframe tbody tr th:only-of-type {\n",
       "        vertical-align: middle;\n",
       "    }\n",
       "\n",
       "    .dataframe tbody tr th {\n",
       "        vertical-align: top;\n",
       "    }\n",
       "\n",
       "    .dataframe thead th {\n",
       "        text-align: right;\n",
       "    }\n",
       "</style>\n",
       "<table border=\"1\" class=\"dataframe\">\n",
       "  <thead>\n",
       "    <tr style=\"text-align: right;\">\n",
       "      <th></th>\n",
       "      <th>Gender</th>\n",
       "      <th>Age</th>\n",
       "      <th>purpose_of_travel</th>\n",
       "      <th>Type_of_Travel</th>\n",
       "      <th>satisfaction</th>\n",
       "    </tr>\n",
       "  </thead>\n",
       "  <tbody>\n",
       "    <tr>\n",
       "      <th>0</th>\n",
       "      <td>Male</td>\n",
       "      <td>13</td>\n",
       "      <td>aviation</td>\n",
       "      <td>Personal Travel</td>\n",
       "      <td>neutral or dissatisfied</td>\n",
       "    </tr>\n",
       "    <tr>\n",
       "      <th>1</th>\n",
       "      <td>Male</td>\n",
       "      <td>25</td>\n",
       "      <td>tourism</td>\n",
       "      <td>Group Travel</td>\n",
       "      <td>neutral or dissatisfied</td>\n",
       "    </tr>\n",
       "    <tr>\n",
       "      <th>2</th>\n",
       "      <td>Female</td>\n",
       "      <td>26</td>\n",
       "      <td>tourism</td>\n",
       "      <td>Group Travel</td>\n",
       "      <td>satisfied</td>\n",
       "    </tr>\n",
       "    <tr>\n",
       "      <th>3</th>\n",
       "      <td>Female</td>\n",
       "      <td>25</td>\n",
       "      <td>tourism</td>\n",
       "      <td>Group Travel</td>\n",
       "      <td>neutral or dissatisfied</td>\n",
       "    </tr>\n",
       "    <tr>\n",
       "      <th>4</th>\n",
       "      <td>Male</td>\n",
       "      <td>61</td>\n",
       "      <td>aviation</td>\n",
       "      <td>Group Travel</td>\n",
       "      <td>satisfied</td>\n",
       "    </tr>\n",
       "  </tbody>\n",
       "</table>\n",
       "</div>"
      ],
      "text/plain": [
       "   Gender  Age purpose_of_travel   Type_of_Travel             satisfaction\n",
       "0    Male   13          aviation  Personal Travel  neutral or dissatisfied\n",
       "1    Male   25           tourism     Group Travel  neutral or dissatisfied\n",
       "2  Female   26           tourism     Group Travel                satisfied\n",
       "3  Female   25           tourism     Group Travel  neutral or dissatisfied\n",
       "4    Male   61          aviation     Group Travel                satisfied"
      ]
     },
     "execution_count": 8,
     "metadata": {},
     "output_type": "execute_result"
    }
   ],
   "source": [
    "df1 = df1.rename(columns={'Departure/Arrival  convenience': 'DepartureArrival_convenience', 'Checkin/Checkout service': 'CheckinCheckout_service', 'Type of Travel': 'Type_of_Travel' })\n",
    "df2 = df1.drop(['id','Type Of Booking','Hotel wifi service', 'DepartureArrival_convenience', 'Ease of Online booking', 'Hotel location', 'Food and drink', 'Stay comfort', 'Common Room entertainment', 'CheckinCheckout_service', 'Other service', 'Cleanliness'], axis=1)\n",
    "df2.head(5) "
   ]
  },
  {
   "cell_type": "code",
   "execution_count": 9,
   "id": "2350aa47",
   "metadata": {},
   "outputs": [
    {
     "data": {
      "text/html": [
       "<div>\n",
       "<style scoped>\n",
       "    .dataframe tbody tr th:only-of-type {\n",
       "        vertical-align: middle;\n",
       "    }\n",
       "\n",
       "    .dataframe tbody tr th {\n",
       "        vertical-align: top;\n",
       "    }\n",
       "\n",
       "    .dataframe thead th {\n",
       "        text-align: right;\n",
       "    }\n",
       "</style>\n",
       "<table border=\"1\" class=\"dataframe\">\n",
       "  <thead>\n",
       "    <tr style=\"text-align: right;\">\n",
       "      <th></th>\n",
       "      <th>Gender</th>\n",
       "      <th>Age</th>\n",
       "      <th>purpose_of_travel</th>\n",
       "      <th>Type_of_Travel</th>\n",
       "      <th>satisfaction</th>\n",
       "    </tr>\n",
       "  </thead>\n",
       "  <tbody>\n",
       "    <tr>\n",
       "      <th>0</th>\n",
       "      <td>1</td>\n",
       "      <td>13</td>\n",
       "      <td>2</td>\n",
       "      <td>1</td>\n",
       "      <td>2</td>\n",
       "    </tr>\n",
       "    <tr>\n",
       "      <th>1</th>\n",
       "      <td>1</td>\n",
       "      <td>25</td>\n",
       "      <td>5</td>\n",
       "      <td>2</td>\n",
       "      <td>2</td>\n",
       "    </tr>\n",
       "    <tr>\n",
       "      <th>2</th>\n",
       "      <td>2</td>\n",
       "      <td>26</td>\n",
       "      <td>5</td>\n",
       "      <td>2</td>\n",
       "      <td>1</td>\n",
       "    </tr>\n",
       "    <tr>\n",
       "      <th>3</th>\n",
       "      <td>2</td>\n",
       "      <td>25</td>\n",
       "      <td>5</td>\n",
       "      <td>2</td>\n",
       "      <td>2</td>\n",
       "    </tr>\n",
       "    <tr>\n",
       "      <th>4</th>\n",
       "      <td>1</td>\n",
       "      <td>61</td>\n",
       "      <td>2</td>\n",
       "      <td>2</td>\n",
       "      <td>1</td>\n",
       "    </tr>\n",
       "  </tbody>\n",
       "</table>\n",
       "</div>"
      ],
      "text/plain": [
       "  Gender  Age purpose_of_travel Type_of_Travel satisfaction\n",
       "0      1   13                 2              1            2\n",
       "1      1   25                 5              2            2\n",
       "2      2   26                 5              2            1\n",
       "3      2   25                 5              2            2\n",
       "4      1   61                 2              2            1"
      ]
     },
     "execution_count": 9,
     "metadata": {},
     "output_type": "execute_result"
    }
   ],
   "source": [
    "df2['Gender'] = df2['Gender'].replace(['Male'],'1')\n",
    "df2['Gender'] = df2['Gender'].replace(['Female'],'2')\n",
    "\n",
    "df2['Type_of_Travel'] = df2['Type_of_Travel'].replace(['Personal Travel'],'1')\n",
    "df2['Type_of_Travel'] = df2['Type_of_Travel'].replace(['Group Travel'],'2')\n",
    "\n",
    "df2['satisfaction'] = df2['satisfaction'].replace(['neutral or dissatisfied'],'2')\n",
    "df2['satisfaction'] = df2['satisfaction'].replace(['satisfied'],'1')\n",
    "\n",
    "df2['purpose_of_travel'] = df2['purpose_of_travel'].replace(['tourism'],'5')\n",
    "df2['purpose_of_travel'] = df2['purpose_of_travel'].replace(['academic'],'4')\n",
    "df2['purpose_of_travel'] = df2['purpose_of_travel'].replace(['buisness'],'3')\n",
    "df2['purpose_of_travel'] = df2['purpose_of_travel'].replace(['aviation'],'2')\n",
    "df2['purpose_of_travel'] = df2['purpose_of_travel'].replace(['personal'],'1')\n",
    "\n",
    "df2.head(5)"
   ]
  },
  {
   "cell_type": "code",
   "execution_count": 10,
   "id": "a815e683",
   "metadata": {},
   "outputs": [
    {
     "data": {
      "text/plain": [
       "Gender               object\n",
       "Age                   int64\n",
       "purpose_of_travel    object\n",
       "Type_of_Travel       object\n",
       "satisfaction         object\n",
       "dtype: object"
      ]
     },
     "execution_count": 10,
     "metadata": {},
     "output_type": "execute_result"
    }
   ],
   "source": [
    "df2.dtypes"
   ]
  },
  {
   "cell_type": "code",
   "execution_count": 11,
   "id": "08cfa05e",
   "metadata": {},
   "outputs": [
    {
     "data": {
      "text/html": [
       "<div>\n",
       "<style scoped>\n",
       "    .dataframe tbody tr th:only-of-type {\n",
       "        vertical-align: middle;\n",
       "    }\n",
       "\n",
       "    .dataframe tbody tr th {\n",
       "        vertical-align: top;\n",
       "    }\n",
       "\n",
       "    .dataframe thead th {\n",
       "        text-align: right;\n",
       "    }\n",
       "</style>\n",
       "<table border=\"1\" class=\"dataframe\">\n",
       "  <thead>\n",
       "    <tr style=\"text-align: right;\">\n",
       "      <th></th>\n",
       "      <th>Gender</th>\n",
       "      <th>Age</th>\n",
       "      <th>Type_of_Travel</th>\n",
       "      <th>satisfaction</th>\n",
       "    </tr>\n",
       "  </thead>\n",
       "  <tbody>\n",
       "    <tr>\n",
       "      <th>0</th>\n",
       "      <td>1</td>\n",
       "      <td>13</td>\n",
       "      <td>1</td>\n",
       "      <td>2</td>\n",
       "    </tr>\n",
       "    <tr>\n",
       "      <th>1</th>\n",
       "      <td>1</td>\n",
       "      <td>25</td>\n",
       "      <td>2</td>\n",
       "      <td>2</td>\n",
       "    </tr>\n",
       "    <tr>\n",
       "      <th>2</th>\n",
       "      <td>2</td>\n",
       "      <td>26</td>\n",
       "      <td>2</td>\n",
       "      <td>1</td>\n",
       "    </tr>\n",
       "    <tr>\n",
       "      <th>3</th>\n",
       "      <td>2</td>\n",
       "      <td>25</td>\n",
       "      <td>2</td>\n",
       "      <td>2</td>\n",
       "    </tr>\n",
       "    <tr>\n",
       "      <th>4</th>\n",
       "      <td>1</td>\n",
       "      <td>61</td>\n",
       "      <td>2</td>\n",
       "      <td>1</td>\n",
       "    </tr>\n",
       "  </tbody>\n",
       "</table>\n",
       "</div>"
      ],
      "text/plain": [
       "   Gender  Age  Type_of_Travel  satisfaction\n",
       "0       1   13               1             2\n",
       "1       1   25               2             2\n",
       "2       2   26               2             1\n",
       "3       2   25               2             2\n",
       "4       1   61               2             1"
      ]
     },
     "execution_count": 11,
     "metadata": {},
     "output_type": "execute_result"
    }
   ],
   "source": [
    "df2['Gender']=df2.Gender.astype(int)\n",
    "df2['Type_of_Travel']=df2.Type_of_Travel.astype(int)\n",
    "df2['satisfaction']=df2.satisfaction.astype(int) \n",
    "df3 = df2.drop(['purpose_of_travel'], axis=1)\n",
    "df3.dtypes\n",
    "df3.head(5)"
   ]
  },
  {
   "cell_type": "code",
   "execution_count": 12,
   "id": "728eb244",
   "metadata": {},
   "outputs": [
    {
     "data": {
      "text/html": [
       "<div>\n",
       "<style scoped>\n",
       "    .dataframe tbody tr th:only-of-type {\n",
       "        vertical-align: middle;\n",
       "    }\n",
       "\n",
       "    .dataframe tbody tr th {\n",
       "        vertical-align: top;\n",
       "    }\n",
       "\n",
       "    .dataframe thead th {\n",
       "        text-align: right;\n",
       "    }\n",
       "</style>\n",
       "<table border=\"1\" class=\"dataframe\">\n",
       "  <thead>\n",
       "    <tr style=\"text-align: right;\">\n",
       "      <th></th>\n",
       "      <th>Gender</th>\n",
       "      <th>Age</th>\n",
       "      <th>Type_of_Travel</th>\n",
       "      <th>satisfaction</th>\n",
       "    </tr>\n",
       "  </thead>\n",
       "  <tbody>\n",
       "    <tr>\n",
       "      <th>Gender</th>\n",
       "      <td>1.000000</td>\n",
       "      <td>0.004695</td>\n",
       "      <td>-0.020543</td>\n",
       "      <td>0.036107</td>\n",
       "    </tr>\n",
       "    <tr>\n",
       "      <th>Age</th>\n",
       "      <td>0.004695</td>\n",
       "      <td>1.000000</td>\n",
       "      <td>0.046074</td>\n",
       "      <td>-0.160106</td>\n",
       "    </tr>\n",
       "    <tr>\n",
       "      <th>Type_of_Travel</th>\n",
       "      <td>-0.020543</td>\n",
       "      <td>0.046074</td>\n",
       "      <td>1.000000</td>\n",
       "      <td>-0.489522</td>\n",
       "    </tr>\n",
       "    <tr>\n",
       "      <th>satisfaction</th>\n",
       "      <td>0.036107</td>\n",
       "      <td>-0.160106</td>\n",
       "      <td>-0.489522</td>\n",
       "      <td>1.000000</td>\n",
       "    </tr>\n",
       "  </tbody>\n",
       "</table>\n",
       "</div>"
      ],
      "text/plain": [
       "                  Gender       Age  Type_of_Travel  satisfaction\n",
       "Gender          1.000000  0.004695       -0.020543      0.036107\n",
       "Age             0.004695  1.000000        0.046074     -0.160106\n",
       "Type_of_Travel -0.020543  0.046074        1.000000     -0.489522\n",
       "satisfaction    0.036107 -0.160106       -0.489522      1.000000"
      ]
     },
     "execution_count": 12,
     "metadata": {},
     "output_type": "execute_result"
    }
   ],
   "source": [
    "df3.corr()"
   ]
  },
  {
   "cell_type": "code",
   "execution_count": 13,
   "id": "9246580f",
   "metadata": {},
   "outputs": [
    {
     "data": {
      "image/png": "[encoded data removed]",
      "text/plain": [
       "<Figure size 432x288 with 1 Axes>"
      ]
     },
     "metadata": {},
     "output_type": "display_data"
    },
    {
     "name": "stdout",
     "output_type": "stream",
     "text": [
      "              Gender  Age  Type_of_Travel\n",
      "satisfaction                             \n",
      "1                225  225             225\n",
      "2                266  266             266\n"
     ]
    }
   ],
   "source": [
    "import matplotlib.pyplot as plt\n",
    "labels = 'Satisfechas', 'Insatisfechas o neutrales'\n",
    "sizes = [42, 58]\n",
    "fig1, ax1 = plt.subplots()\n",
    "colors= [\"#EE6055\", \"#60D394\"]\n",
    "ax1.pie(sizes, labels=labels, autopct='%1.1f%%', startangle=90, colors= colors)\n",
    "ax1.axis('equal')\n",
    "plt.title(\"Satisfacción de las mujeres\", bbox={'facecolor':'0.8', 'pad':5})\n",
    "plt.show()\n",
    "\n",
    "\n",
    "filtro= df3['Gender']< 2\n",
    "df5=df3[filtro]\n",
    "\n",
    "freq= df5.groupby(['satisfaction']).count() \n",
    "print(freq)"
   ]
  },
  {
   "cell_type": "code",
   "execution_count": 14,
   "id": "b0fa0f04",
   "metadata": {},
   "outputs": [
    {
     "data": {
      "image/png": "[encoded data removed]",
      "text/plain": [
       "<Figure size 432x288 with 1 Axes>"
      ]
     },
     "metadata": {},
     "output_type": "display_data"
    }
   ],
   "source": [
    "import matplotlib.pyplot as plt\n",
    "labels = 'Satisfechos', 'Insatisfechos o neutrales'\n",
    "sizes = [46, 54]\n",
    "fig1, ax1 = plt.subplots()\n",
    "colors= [\"#EE6055\", \"#60D394\"]\n",
    "ax1.pie(sizes, labels=labels, autopct='%1.1f%%', startangle=90, colors= colors)\n",
    "ax1.axis('equal')\n",
    "plt.title(\"Satisfacción de los hombres\", bbox={'facecolor':'0.8', 'pad':5})\n",
    "plt.show()"
   ]
  },
  {
   "cell_type": "code",
   "execution_count": 15,
   "id": "72ebfb7b",
   "metadata": {},
   "outputs": [
    {
     "name": "stdout",
     "output_type": "stream",
     "text": [
      "              Gender  Age  Type_of_Travel\n",
      "satisfaction                             \n",
      "1                  8    8               8\n",
      "2                 75   75              75\n"
     ]
    }
   ],
   "source": [
    "filtro= df3['Age']< 18 \n",
    "df6=df3[filtro]\n",
    "\n",
    "freq= df6.groupby(['satisfaction']).count()\n",
    "print(freq)"
   ]
  },
  {
   "cell_type": "code",
   "execution_count": 16,
   "id": "35472219",
   "metadata": {},
   "outputs": [
    {
     "data": {
      "image/png": "[encoded data removed]",
      "text/plain": [
       "<Figure size 432x288 with 1 Axes>"
      ]
     },
     "metadata": {},
     "output_type": "display_data"
    },
    {
     "name": "stdout",
     "output_type": "stream",
     "text": [
      "              Gender  Age  Type_of_Travel\n",
      "satisfaction                             \n",
      "1                 90   90              90\n",
      "2                228  228             228\n"
     ]
    }
   ],
   "source": [
    "import matplotlib.pyplot as plt\n",
    "labels = 'Satisfechos', 'Insatisfechos o neutrales'\n",
    "sizes = [9.6, 90.4]\n",
    "fig1, ax1 = plt.subplots()\n",
    "colors= [\"#EE6055\", \"#60D394\"]\n",
    "ax1.pie(sizes, labels=labels, autopct='%1.1f%%', startangle=90, colors= colors)\n",
    "ax1.axis('equal')\n",
    "plt.title('Satisfacción de los niños (clientes entre 7 y 17 años)',position=(0.55, 1.1), bbox={'facecolor':'0.8', 'pad':5})\n",
    "plt.show()\n",
    "\n",
    "filtro= df3['Age']< 30 \n",
    "df6=df3[filtro]\n",
    "\n",
    "freq= df6.groupby(['satisfaction']).count()\n",
    "print(freq)"
   ]
  },
  {
   "cell_type": "code",
   "execution_count": 17,
   "id": "c28f1aac",
   "metadata": {},
   "outputs": [
    {
     "data": {
      "image/png": "[encoded data removed]",
      "text/plain": [
       "<Figure size 432x288 with 1 Axes>"
      ]
     },
     "metadata": {},
     "output_type": "display_data"
    },
    {
     "name": "stdout",
     "output_type": "stream",
     "text": [
      "              Gender  Age  Type_of_Travel\n",
      "satisfaction                             \n",
      "1                426  426             426\n",
      "2                503  503             503\n"
     ]
    }
   ],
   "source": [
    "import matplotlib.pyplot as plt\n",
    "labels = 'Satisfechos', 'Insatisfechos o neutrales'\n",
    "sizes = [34.9, 65.1]\n",
    "fig1, ax1 = plt.subplots()\n",
    "colors= [\"#EE6055\", \"#60D394\"]\n",
    "ax1.pie(sizes, labels=labels, autopct='%1.1f%%', startangle=90, colors= colors)\n",
    "ax1.axis('equal')\n",
    "plt.title('Satisfacción de los jovenes (clientes entre 18 y 30 años)', bbox={'facecolor':'0.8', 'pad':5})\n",
    "plt.show()\n",
    "\n",
    "filtro= df3['Age']< 61 \n",
    "df7=df3[filtro]\n",
    "\n",
    "freq= df7.groupby(['satisfaction']).count()\n",
    "print(freq)"
   ]
  },
  {
   "cell_type": "code",
   "execution_count": 18,
   "id": "bee1f49e",
   "metadata": {},
   "outputs": [
    {
     "data": {
      "image/png": "[encoded data removed]",
      "text/plain": [
       "<Figure size 432x288 with 1 Axes>"
      ]
     },
     "metadata": {},
     "output_type": "display_data"
    },
    {
     "name": "stdout",
     "output_type": "stream",
     "text": [
      "              Gender  Age  Type_of_Travel\n",
      "satisfaction                             \n",
      "1                440  440             440\n",
      "2                560  560             560\n"
     ]
    }
   ],
   "source": [
    "import matplotlib.pyplot as plt\n",
    "labels = 'Satisfechos', 'Insatisfechos o neutrales'\n",
    "sizes = [55, 45]\n",
    "fig1, ax1 = plt.subplots()\n",
    "colors= [\"#EE6055\", \"#60D394\"]\n",
    "ax1.pie(sizes, labels=labels, autopct='%1.1f%%', startangle=90, colors= colors)\n",
    "ax1.axis('equal')\n",
    "plt.title('Satisfacción de los adultos (clientes entre 31 y 60 años)', bbox={'facecolor':'0.8', 'pad':5})\n",
    "plt.show()\n",
    "\n",
    "filtro= df3['Age']< 86 \n",
    "df8=df3[filtro]\n",
    "\n",
    "freq= df8.groupby(['satisfaction']).count()\n",
    "print(freq)"
   ]
  },
  {
   "cell_type": "code",
   "execution_count": 19,
   "id": "61f2c1f9",
   "metadata": {},
   "outputs": [
    {
     "data": {
      "image/png": "[encoded data removed]",
      "text/plain": [
       "<Figure size 432x288 with 1 Axes>"
      ]
     },
     "metadata": {},
     "output_type": "display_data"
    }
   ],
   "source": [
    "import matplotlib.pyplot as plt\n",
    "labels = 'Satisfechos', 'Insatisfechos o neutrales'\n",
    "sizes = [19.7, 80.3]\n",
    "fig1, ax1 = plt.subplots()\n",
    "colors= [\"#EE6055\", \"#60D394\"]\n",
    "ax1.pie(sizes, labels=labels, autopct='%1.1f%%', startangle=90, colors= colors)\n",
    "ax1.axis('equal')\n",
    "plt.title('Satisfacción de las personas mayores (clientes entre 61 y 85 años)', bbox={'facecolor':'0.8', 'pad':5})\n",
    "plt.show()"
   ]
  },
  {
   "cell_type": "code",
   "execution_count": 20,
   "id": "bb946bf7",
   "metadata": {},
   "outputs": [
    {
     "name": "stdout",
     "output_type": "stream",
     "text": [
      "              Gender  Age  Type_of_Travel\n",
      "satisfaction                             \n",
      "1                417  417             417\n",
      "2                276  276             276\n"
     ]
    }
   ],
   "source": [
    "filtro= df3['Type_of_Travel']>1 # Dejo solo los clientes que viajan en grupo, ya que les he atribuido el número 2.\n",
    "df9=df3[filtro]\n",
    "\n",
    "freq= df9.groupby(['satisfaction']).count() # Quiero saber cuantos de los clientes que viajan en grupo estÁn satisfechos 1 o instatisfechos 2. \n",
    "print(freq)"
   ]
  },
  {
   "cell_type": "code",
   "execution_count": 21,
   "id": "c144147a",
   "metadata": {},
   "outputs": [
    {
     "data": {
      "image/png": "[encoded data removed]",
      "text/plain": [
       "<Figure size 432x288 with 1 Axes>"
      ]
     },
     "metadata": {},
     "output_type": "display_data"
    }
   ],
   "source": [
    "import matplotlib.pyplot as plt\n",
    "labels = 'Satisfechos', 'Insatisfechos o neutrales'\n",
    "sizes = [60.2, 39.8]\n",
    "fig1, ax1 = plt.subplots()\n",
    "colors= [\"#EE6055\", \"#60D394\"]\n",
    "ax1.pie(sizes, labels=labels, autopct='%1.1f%%', startangle=90, colors= colors)\n",
    "ax1.axis('equal')\n",
    "plt.title('Satisfacción de los clientes que viajan en grupo', bbox={'facecolor':'0.8', 'pad':5})\n",
    "plt.show()"
   ]
  },
  {
   "cell_type": "code",
   "execution_count": 22,
   "id": "4b2b150d",
   "metadata": {},
   "outputs": [
    {
     "name": "stdout",
     "output_type": "stream",
     "text": [
      "              Gender  Age  Type_of_Travel\n",
      "satisfaction                             \n",
      "1                 23   23              23\n",
      "2                284  284             284\n"
     ]
    }
   ],
   "source": [
    "filtro= df3['Type_of_Travel']<2 #Dejo solo los que viajan solos, ya que les he atribuido el número 1.\n",
    "dft=df3[filtro]\n",
    "\n",
    "freq= dft.groupby(['satisfaction']).count() # Quiero saber cuantos de los clientes que viajan solos están satisfechas 1 o instatisfechas 2. \n",
    "print(freq)"
   ]
  },
  {
   "cell_type": "code",
   "execution_count": 23,
   "id": "0d0bf2da",
   "metadata": {},
   "outputs": [
    {
     "data": {
      "image/png": "[encoded data removed]",
      "text/plain": [
       "<Figure size 432x288 with 1 Axes>"
      ]
     },
     "metadata": {},
     "output_type": "display_data"
    }
   ],
   "source": [
    "import matplotlib.pyplot as plt\n",
    "labels = 'Satisfechos', 'Insatisfechos o neutrales'\n",
    "sizes = [7.5, 92.5]\n",
    "fig1, ax1 = plt.subplots()\n",
    "colors= [\"#EE6055\", \"#60D394\"]\n",
    "ax1.pie(sizes, labels=labels, autopct='%1.1f%%', startangle=90, colors= colors)\n",
    "ax1.axis('equal')\n",
    "plt.title('Satisfacción de los clientes que viajan solos ', position=(0.55, 1.1), bbox={'facecolor':'0.8', 'pad':5}, )\n",
    "plt.show()"
   ]
  },
  {
   "cell_type": "code",
   "execution_count": 24,
   "id": "f12a5cc6",
   "metadata": {},
   "outputs": [
    {
     "data": {
      "text/plain": [
       "Gender                          int64\n",
       "Age                             int64\n",
       "Type_of_Travel                  int64\n",
       "Hotel_wifi_service              int64\n",
       "DepartureArrival_convenience    int64\n",
       "Ease_of_Online_booking          int64\n",
       "Hotel_location                  int64\n",
       "Food_and_drink                  int64\n",
       "Stay_comfort                    int64\n",
       "Common_Room_entertainment       int64\n",
       "CheckinCheckout_service         int64\n",
       "Other_service                   int64\n",
       "Cleanliness                     int64\n",
       "satisfaction                    int64\n",
       "dtype: object"
      ]
     },
     "execution_count": 24,
     "metadata": {},
     "output_type": "execute_result"
    }
   ],
   "source": [
    "df1 = df1.rename(columns={'Departure/Arrival convenience': 'DepartureArrival_convenience', 'Checkin/Checkout service': 'CheckinCheckout_service', 'Type of Travel': 'Type_of_Travel', 'Type Of Booking': 'Type_Of_Booking', 'Hotel wifi service': 'Hotel_wifi_service', 'Ease of Online booking': 'Ease_of_Online_booking', 'Hotel location': 'Hotel_location', 'Food and drink': 'Food_and_drink', 'Stay comfort': 'Stay_comfort', 'Common Room entertainment': 'Common_Room_entertainment', 'Other service': 'Other_service' })\n",
    "df10 = df1.drop(['id','Type_Of_Booking', 'purpose_of_travel'], axis=1) \n",
    "\n",
    "\n",
    "df10['Gender'] = df10['Gender'].replace(['Male'],'1')\n",
    "df10['Gender'] = df10['Gender'].replace(['Female'],'2')\n",
    "\n",
    "df10['Type_of_Travel'] = df10['Type_of_Travel'].replace(['Personal Travel'],'1')\n",
    "df10['Type_of_Travel'] = df10['Type_of_Travel'].replace(['Group Travel'],'2')\n",
    "\n",
    "df10['satisfaction'] = df10['satisfaction'].replace(['neutral or dissatisfied'],'2')\n",
    "df10['satisfaction'] = df10['satisfaction'].replace(['satisfied'],'1')\n",
    "\n",
    "\n",
    "df10['Gender']=df10.Gender.astype(int)\n",
    "df10['Type_of_Travel']=df10.Type_of_Travel.astype(int)\n",
    "df10['satisfaction']=df10.satisfaction.astype(int)\n",
    "\n",
    "df10.dtypes"
   ]
  },
  {
   "cell_type": "code",
   "execution_count": 25,
   "id": "fb72cf4d",
   "metadata": {},
   "outputs": [
    {
     "name": "stdout",
     "output_type": "stream",
     "text": [
      "                    Gender  Age  Type_of_Travel  DepartureArrival_convenience  \\\n",
      "Hotel_wifi_service                                                              \n",
      "0                        6    6               6                             6   \n",
      "1                       49   49              49                            49   \n",
      "2                      106  106             106                           106   \n",
      "3                       91   91              91                            91   \n",
      "4                       48   48              48                            48   \n",
      "5                        7    7               7                             7   \n",
      "\n",
      "                    Ease_of_Online_booking  Hotel_location  Food_and_drink  \\\n",
      "Hotel_wifi_service                                                           \n",
      "0                                        6               6               6   \n",
      "1                                       49              49              49   \n",
      "2                                      106             106             106   \n",
      "3                                       91              91              91   \n",
      "4                                       48              48              48   \n",
      "5                                        7               7               7   \n",
      "\n",
      "                    Stay_comfort  Common_Room_entertainment  \\\n",
      "Hotel_wifi_service                                            \n",
      "0                              6                          6   \n",
      "1                             49                         49   \n",
      "2                            106                        106   \n",
      "3                             91                         91   \n",
      "4                             48                         48   \n",
      "5                              7                          7   \n",
      "\n",
      "                    CheckinCheckout_service  Other_service  Cleanliness  \\\n",
      "Hotel_wifi_service                                                        \n",
      "0                                         6              6            6   \n",
      "1                                        49             49           49   \n",
      "2                                       106            106          106   \n",
      "3                                        91             91           91   \n",
      "4                                        48             48           48   \n",
      "5                                         7              7            7   \n",
      "\n",
      "                    satisfaction  \n",
      "Hotel_wifi_service                \n",
      "0                              6  \n",
      "1                             49  \n",
      "2                            106  \n",
      "3                             91  \n",
      "4                             48  \n",
      "5                              7  \n"
     ]
    }
   ],
   "source": [
    "filtro= df10['Type_of_Travel']< 2 # Dejo solo los que viajan solos, ya que son los más insatisfechos.\n",
    "dft=df10[filtro]\n",
    "\n",
    "filtro= dft['Age'] > 60\n",
    "dfg= dft[filtro]\n",
    "\n",
    "freq= dft.groupby(['Hotel_wifi_service']).count()  \n",
    "print(freq)"
   ]
  },
  {
   "cell_type": "code",
   "execution_count": 26,
   "id": "3255c6c9",
   "metadata": {},
   "outputs": [
    {
     "name": "stdout",
     "output_type": "stream",
     "text": [
      "                    Gender  Age  Type_of_Travel  DepartureArrival_convenience  \\\n",
      "Hotel_wifi_service                                                              \n",
      "0                        6    6               6                             6   \n",
      "1                       49   49              49                            49   \n",
      "2                      106  106             106                           106   \n",
      "3                       91   91              91                            91   \n",
      "4                       48   48              48                            48   \n",
      "5                        7    7               7                             7   \n",
      "\n",
      "                    Ease_of_Online_booking  Hotel_location  Food_and_drink  \\\n",
      "Hotel_wifi_service                                                           \n",
      "0                                        6               6               6   \n",
      "1                                       49              49              49   \n",
      "2                                      106             106             106   \n",
      "3                                       91              91              91   \n",
      "4                                       48              48              48   \n",
      "5                                        7               7               7   \n",
      "\n",
      "                    Stay_comfort  Common_Room_entertainment  \\\n",
      "Hotel_wifi_service                                            \n",
      "0                              6                          6   \n",
      "1                             49                         49   \n",
      "2                            106                        106   \n",
      "3                             91                         91   \n",
      "4                             48                         48   \n",
      "5                              7                          7   \n",
      "\n",
      "                    CheckinCheckout_service  Other_service  Cleanliness  \\\n",
      "Hotel_wifi_service                                                        \n",
      "0                                         6              6            6   \n",
      "1                                        49             49           49   \n",
      "2                                       106            106          106   \n",
      "3                                        91             91           91   \n",
      "4                                        48             48           48   \n",
      "5                                         7              7            7   \n",
      "\n",
      "                    satisfaction  \n",
      "Hotel_wifi_service                \n",
      "0                              6  \n",
      "1                             49  \n",
      "2                            106  \n",
      "3                             91  \n",
      "4                             48  \n",
      "5                              7  \n"
     ]
    }
   ],
   "source": [
    "filtro= df10['Type_of_Travel']< 2 \n",
    "dft=df10[filtro]\n",
    "\n",
    "filtro= dft['Age'] > 60 \n",
    "dfg= dft[filtro]\n",
    "\n",
    "freq= dft.groupby(['Hotel_wifi_service']).count()  \n",
    "print(freq)"
   ]
  },
  {
   "cell_type": "code",
   "execution_count": 27,
   "id": "e692e193",
   "metadata": {},
   "outputs": [
    {
     "data": {
      "image/png": "[encoded data removed]",
      "text/plain": [
       "<Figure size 432x288 with 1 Axes>"
      ]
     },
     "metadata": {
      "needs_background": "light"
     },
     "output_type": "display_data"
    }
   ],
   "source": [
    "x=[0,1,2,3,4,5]\n",
    "y=[6,49,106,91,48, 7]\n",
    "plt.title('Valoración 0-5 del wifi del hotel')\n",
    "plt.ylim(0, 130)\n",
    "plt.bar(x,y, color='pink')\n",
    "plt.ylabel(\"Clientes con peor satisfacción\",fontsize=13)\n",
    "plt.xlabel(\"Valoración\",fontsize=13)\n",
    "plt.show()"
   ]
  },
  {
   "cell_type": "code",
   "execution_count": 28,
   "id": "bef86588",
   "metadata": {},
   "outputs": [
    {
     "name": "stdout",
     "output_type": "stream",
     "text": [
      "                              Gender  Age  Type_of_Travel  Hotel_wifi_service  \\\n",
      "DepartureArrival_convenience                                                    \n",
      "0                                  9    9               9                   9   \n",
      "1                                 22   22              22                  22   \n",
      "2                                 34   34              34                  34   \n",
      "3                                 38   38              38                  38   \n",
      "4                                 93   93              93                  93   \n",
      "5                                111  111             111                 111   \n",
      "\n",
      "                              Ease_of_Online_booking  Hotel_location  \\\n",
      "DepartureArrival_convenience                                           \n",
      "0                                                  9               9   \n",
      "1                                                 22              22   \n",
      "2                                                 34              34   \n",
      "3                                                 38              38   \n",
      "4                                                 93              93   \n",
      "5                                                111             111   \n",
      "\n",
      "                              Food_and_drink  Stay_comfort  \\\n",
      "DepartureArrival_convenience                                 \n",
      "0                                          9             9   \n",
      "1                                         22            22   \n",
      "2                                         34            34   \n",
      "3                                         38            38   \n",
      "4                                         93            93   \n",
      "5                                        111           111   \n",
      "\n",
      "                              Common_Room_entertainment  \\\n",
      "DepartureArrival_convenience                              \n",
      "0                                                     9   \n",
      "1                                                    22   \n",
      "2                                                    34   \n",
      "3                                                    38   \n",
      "4                                                    93   \n",
      "5                                                   111   \n",
      "\n",
      "                              CheckinCheckout_service  Other_service  \\\n",
      "DepartureArrival_convenience                                           \n",
      "0                                                   9              9   \n",
      "1                                                  22             22   \n",
      "2                                                  34             34   \n",
      "3                                                  38             38   \n",
      "4                                                  93             93   \n",
      "5                                                 111            111   \n",
      "\n",
      "                              Cleanliness  satisfaction  \n",
      "DepartureArrival_convenience                             \n",
      "0                                       9             9  \n",
      "1                                      22            22  \n",
      "2                                      34            34  \n",
      "3                                      38            38  \n",
      "4                                      93            93  \n",
      "5                                     111           111  \n"
     ]
    }
   ],
   "source": [
    "filtro= df10['Type_of_Travel']< 2 \n",
    "dft=df10[filtro]\n",
    "\n",
    "filtro= dft['Age'] > 60 \n",
    "dfg= dft[filtro]\n",
    "\n",
    "freq= dft.groupby(['DepartureArrival_convenience']).count()  \n",
    "print(freq)"
   ]
  },
  {
   "cell_type": "code",
   "execution_count": 29,
   "id": "a9fd45ef",
   "metadata": {},
   "outputs": [
    {
     "data": {
      "image/png": "[encoded data removed]",
      "text/plain": [
       "<Figure size 432x288 with 1 Axes>"
      ]
     },
     "metadata": {
      "needs_background": "light"
     },
     "output_type": "display_data"
    }
   ],
   "source": [
    "x=[0,1,2,3,4,5]\n",
    "y=[9,22,34,38,93,111]\n",
    "plt.title('Valoración 0-5 de la comodidad de llegada/salida')\n",
    "plt.ylim(0, 130)\n",
    "plt.bar(x,y, color='pink')\n",
    "plt.ylabel(\"Clientes con peor satisfacción\",fontsize=13)\n",
    "plt.xlabel(\"Valoración\",fontsize=13)\n",
    "plt.show()"
   ]
  },
  {
   "cell_type": "code",
   "execution_count": 30,
   "id": "74447407",
   "metadata": {},
   "outputs": [
    {
     "name": "stdout",
     "output_type": "stream",
     "text": [
      "                        Gender  Age  Type_of_Travel  Hotel_wifi_service  \\\n",
      "Ease_of_Online_booking                                                    \n",
      "0                           15   15              15                  15   \n",
      "1                           44   44              44                  44   \n",
      "2                          103  103             103                 103   \n",
      "3                           83   83              83                  83   \n",
      "4                           50   50              50                  50   \n",
      "5                           12   12              12                  12   \n",
      "\n",
      "                        DepartureArrival_convenience  Hotel_location  \\\n",
      "Ease_of_Online_booking                                                 \n",
      "0                                                 15              15   \n",
      "1                                                 44              44   \n",
      "2                                                103             103   \n",
      "3                                                 83              83   \n",
      "4                                                 50              50   \n",
      "5                                                 12              12   \n",
      "\n",
      "                        Food_and_drink  Stay_comfort  \\\n",
      "Ease_of_Online_booking                                 \n",
      "0                                   15            15   \n",
      "1                                   44            44   \n",
      "2                                  103           103   \n",
      "3                                   83            83   \n",
      "4                                   50            50   \n",
      "5                                   12            12   \n",
      "\n",
      "                        Common_Room_entertainment  CheckinCheckout_service  \\\n",
      "Ease_of_Online_booking                                                       \n",
      "0                                              15                       15   \n",
      "1                                              44                       44   \n",
      "2                                             103                      103   \n",
      "3                                              83                       83   \n",
      "4                                              50                       50   \n",
      "5                                              12                       12   \n",
      "\n",
      "                        Other_service  Cleanliness  satisfaction  \n",
      "Ease_of_Online_booking                                            \n",
      "0                                  15           15            15  \n",
      "1                                  44           44            44  \n",
      "2                                 103          103           103  \n",
      "3                                  83           83            83  \n",
      "4                                  50           50            50  \n",
      "5                                  12           12            12  \n"
     ]
    }
   ],
   "source": [
    "filtro= df10['Type_of_Travel']< 2\n",
    "dft=df10[filtro]\n",
    "\n",
    "filtro= dft['Age'] > 60 \n",
    "dfg= dft[filtro]\n",
    "\n",
    "freq= dft.groupby(['Ease_of_Online_booking']).count()  \n",
    "print(freq)"
   ]
  },
  {
   "cell_type": "code",
   "execution_count": 31,
   "id": "ee75a78d",
   "metadata": {},
   "outputs": [
    {
     "data": {
      "image/png": "[encoded data removed]",
      "text/plain": [
       "<Figure size 432x288 with 1 Axes>"
      ]
     },
     "metadata": {
      "needs_background": "light"
     },
     "output_type": "display_data"
    }
   ],
   "source": [
    "x=[0,1,2,3,4,5]\n",
    "y=[15,44,103,83,50,12]\n",
    "plt.title('Valoración 0-5 de la facilidad de reserva en línea')\n",
    "plt.ylim(0, 130)\n",
    "plt.bar(x,y, color='pink')\n",
    "plt.ylabel(\"Clientes con peor satisfacción\",fontsize=13)\n",
    "plt.xlabel(\"Valoración\",fontsize=13)\n",
    "plt.show()"
   ]
  },
  {
   "cell_type": "code",
   "execution_count": 32,
   "id": "4cb0b549",
   "metadata": {},
   "outputs": [
    {
     "name": "stdout",
     "output_type": "stream",
     "text": [
      "                Gender  Age  Type_of_Travel  Hotel_wifi_service  \\\n",
      "Hotel_location                                                    \n",
      "1                   44   44              44                  44   \n",
      "2                   58   58              58                  58   \n",
      "3                  119  119             119                 119   \n",
      "4                   68   68              68                  68   \n",
      "5                   18   18              18                  18   \n",
      "\n",
      "                DepartureArrival_convenience  Ease_of_Online_booking  \\\n",
      "Hotel_location                                                         \n",
      "1                                         44                      44   \n",
      "2                                         58                      58   \n",
      "3                                        119                     119   \n",
      "4                                         68                      68   \n",
      "5                                         18                      18   \n",
      "\n",
      "                Food_and_drink  Stay_comfort  Common_Room_entertainment  \\\n",
      "Hotel_location                                                            \n",
      "1                           44            44                         44   \n",
      "2                           58            58                         58   \n",
      "3                          119           119                        119   \n",
      "4                           68            68                         68   \n",
      "5                           18            18                         18   \n",
      "\n",
      "                CheckinCheckout_service  Other_service  Cleanliness  \\\n",
      "Hotel_location                                                        \n",
      "1                                    44             44           44   \n",
      "2                                    58             58           58   \n",
      "3                                   119            119          119   \n",
      "4                                    68             68           68   \n",
      "5                                    18             18           18   \n",
      "\n",
      "                satisfaction  \n",
      "Hotel_location                \n",
      "1                         44  \n",
      "2                         58  \n",
      "3                        119  \n",
      "4                         68  \n",
      "5                         18  \n"
     ]
    }
   ],
   "source": [
    "filtro= df10['Type_of_Travel']< 2\n",
    "dft=df10[filtro]\n",
    "\n",
    "filtro= dft['Age'] > 60 \n",
    "dfg= dft[filtro]\n",
    "\n",
    "freq= dft.groupby(['Hotel_location']).count()  \n",
    "print(freq)"
   ]
  },
  {
   "cell_type": "code",
   "execution_count": 33,
   "id": "721cee7e",
   "metadata": {},
   "outputs": [
    {
     "data": {
      "image/png": "[encoded data removed]",
      "text/plain": [
       "<Figure size 432x288 with 1 Axes>"
      ]
     },
     "metadata": {
      "needs_background": "light"
     },
     "output_type": "display_data"
    }
   ],
   "source": [
    "x=[1,2,3,4,5]\n",
    "y=[44,58,119,68,18]\n",
    "plt.title('Valoración 0-5 de la localización del hotel')\n",
    "plt.ylim(0, 130)\n",
    "plt.bar(x,y, color='pink')\n",
    "plt.ylabel(\"Clientes con peor satisfacción\",fontsize=13)\n",
    "plt.xlabel(\"Valoración\",fontsize=13)\n",
    "plt.show()"
   ]
  },
  {
   "cell_type": "code",
   "execution_count": 34,
   "id": "9acda18c",
   "metadata": {},
   "outputs": [
    {
     "name": "stdout",
     "output_type": "stream",
     "text": [
      "                Gender  Age  Type_of_Travel  Hotel_wifi_service  \\\n",
      "Food_and_drink                                                    \n",
      "0                    1    1               1                   1   \n",
      "1                   64   64              64                  64   \n",
      "2                   62   62              62                  62   \n",
      "3                   58   58              58                  58   \n",
      "4                   62   62              62                  62   \n",
      "5                   60   60              60                  60   \n",
      "\n",
      "                DepartureArrival_convenience  Ease_of_Online_booking  \\\n",
      "Food_and_drink                                                         \n",
      "0                                          1                       1   \n",
      "1                                         64                      64   \n",
      "2                                         62                      62   \n",
      "3                                         58                      58   \n",
      "4                                         62                      62   \n",
      "5                                         60                      60   \n",
      "\n",
      "                Hotel_location  Stay_comfort  Common_Room_entertainment  \\\n",
      "Food_and_drink                                                            \n",
      "0                            1             1                          1   \n",
      "1                           64            64                         64   \n",
      "2                           62            62                         62   \n",
      "3                           58            58                         58   \n",
      "4                           62            62                         62   \n",
      "5                           60            60                         60   \n",
      "\n",
      "                CheckinCheckout_service  Other_service  Cleanliness  \\\n",
      "Food_and_drink                                                        \n",
      "0                                     1              1            1   \n",
      "1                                    64             64           64   \n",
      "2                                    62             62           62   \n",
      "3                                    58             58           58   \n",
      "4                                    62             62           62   \n",
      "5                                    60             60           60   \n",
      "\n",
      "                satisfaction  \n",
      "Food_and_drink                \n",
      "0                          1  \n",
      "1                         64  \n",
      "2                         62  \n",
      "3                         58  \n",
      "4                         62  \n",
      "5                         60  \n"
     ]
    }
   ],
   "source": [
    "filtro= df10['Type_of_Travel']< 2 \n",
    "dft=df10[filtro]\n",
    "\n",
    "filtro= dft['Age'] > 60 \n",
    "dfg= dft[filtro]\n",
    "\n",
    "freq= dft.groupby(['Food_and_drink']).count()  \n",
    "print(freq)"
   ]
  },
  {
   "cell_type": "code",
   "execution_count": 35,
   "id": "ab814b4d",
   "metadata": {},
   "outputs": [
    {
     "data": {
      "image/png": "[encoded data removed]",
      "text/plain": [
       "<Figure size 432x288 with 1 Axes>"
      ]
     },
     "metadata": {
      "needs_background": "light"
     },
     "output_type": "display_data"
    }
   ],
   "source": [
    "x=[0,1,2,3,4,5]\n",
    "y=[1,64,62,58,62, 60]\n",
    "plt.title('Valoración 0-5 de la comida y bebida del hotel')\n",
    "plt.ylim(0, 130)\n",
    "plt.bar(x,y, color='pink')\n",
    "plt.ylabel(\"Clientes con peor satisfacción\",fontsize=13)\n",
    "plt.xlabel(\"Valoración\",fontsize=13)\n",
    "plt.show()"
   ]
  },
  {
   "cell_type": "code",
   "execution_count": 36,
   "id": "a05dfca7",
   "metadata": {},
   "outputs": [
    {
     "name": "stdout",
     "output_type": "stream",
     "text": [
      "              Gender  Age  Type_of_Travel  Hotel_wifi_service  \\\n",
      "Stay_comfort                                                    \n",
      "1                 70   70              70                  70   \n",
      "2                 46   46              46                  46   \n",
      "3                 49   49              49                  49   \n",
      "4                 74   74              74                  74   \n",
      "5                 68   68              68                  68   \n",
      "\n",
      "              DepartureArrival_convenience  Ease_of_Online_booking  \\\n",
      "Stay_comfort                                                         \n",
      "1                                       70                      70   \n",
      "2                                       46                      46   \n",
      "3                                       49                      49   \n",
      "4                                       74                      74   \n",
      "5                                       68                      68   \n",
      "\n",
      "              Hotel_location  Food_and_drink  Common_Room_entertainment  \\\n",
      "Stay_comfort                                                              \n",
      "1                         70              70                         70   \n",
      "2                         46              46                         46   \n",
      "3                         49              49                         49   \n",
      "4                         74              74                         74   \n",
      "5                         68              68                         68   \n",
      "\n",
      "              CheckinCheckout_service  Other_service  Cleanliness  \\\n",
      "Stay_comfort                                                        \n",
      "1                                  70             70           70   \n",
      "2                                  46             46           46   \n",
      "3                                  49             49           49   \n",
      "4                                  74             74           74   \n",
      "5                                  68             68           68   \n",
      "\n",
      "              satisfaction  \n",
      "Stay_comfort                \n",
      "1                       70  \n",
      "2                       46  \n",
      "3                       49  \n",
      "4                       74  \n",
      "5                       68  \n"
     ]
    }
   ],
   "source": [
    "filtro= df10['Type_of_Travel']< 2\n",
    "dft=df10[filtro]\n",
    "\n",
    "filtro= dft['Age'] > 60 \n",
    "dfg= dft[filtro]\n",
    "\n",
    "freq= dft.groupby(['Stay_comfort']).count()  \n",
    "print(freq)"
   ]
  },
  {
   "cell_type": "code",
   "execution_count": 37,
   "id": "b67a753b",
   "metadata": {},
   "outputs": [
    {
     "data": {
      "image/png": "[encoded data removed]",
      "text/plain": [
       "<Figure size 432x288 with 1 Axes>"
      ]
     },
     "metadata": {
      "needs_background": "light"
     },
     "output_type": "display_data"
    }
   ],
   "source": [
    "x=[1,2,3,4,5]\n",
    "y=[70,46,49,74,68]\n",
    "plt.title('Valoración 0-5 de la comodidad del hotel')\n",
    "plt.ylim(0, 130)\n",
    "plt.bar(x,y, color='pink')\n",
    "plt.ylabel(\"Clientes con peor satisfacción\",fontsize=13)\n",
    "plt.xlabel(\"Valoración\",fontsize=13)\n",
    "plt.show()"
   ]
  },
  {
   "cell_type": "code",
   "execution_count": 39,
   "id": "90ca4900",
   "metadata": {
    "scrolled": true
   },
   "outputs": [
    {
     "name": "stdout",
     "output_type": "stream",
     "text": [
      "                           Gender  Age  Type_of_Travel  Hotel_wifi_service  \\\n",
      "Common_Room_entertainment                                                    \n",
      "1                              70   70              70                  70   \n",
      "2                              52   52              52                  52   \n",
      "3                              61   61              61                  61   \n",
      "4                              68   68              68                  68   \n",
      "5                              56   56              56                  56   \n",
      "\n",
      "                           DepartureArrival_convenience  \\\n",
      "Common_Room_entertainment                                 \n",
      "1                                                    70   \n",
      "2                                                    52   \n",
      "3                                                    61   \n",
      "4                                                    68   \n",
      "5                                                    56   \n",
      "\n",
      "                           Ease_of_Online_booking  Hotel_location  \\\n",
      "Common_Room_entertainment                                           \n",
      "1                                              70              70   \n",
      "2                                              52              52   \n",
      "3                                              61              61   \n",
      "4                                              68              68   \n",
      "5                                              56              56   \n",
      "\n",
      "                           Food_and_drink  Stay_comfort  \\\n",
      "Common_Room_entertainment                                 \n",
      "1                                      70            70   \n",
      "2                                      52            52   \n",
      "3                                      61            61   \n",
      "4                                      68            68   \n",
      "5                                      56            56   \n",
      "\n",
      "                           CheckinCheckout_service  Other_service  \\\n",
      "Common_Room_entertainment                                           \n",
      "1                                               70             70   \n",
      "2                                               52             52   \n",
      "3                                               61             61   \n",
      "4                                               68             68   \n",
      "5                                               56             56   \n",
      "\n",
      "                           Cleanliness  satisfaction  \n",
      "Common_Room_entertainment                             \n",
      "1                                   70            70  \n",
      "2                                   52            52  \n",
      "3                                   61            61  \n",
      "4                                   68            68  \n",
      "5                                   56            56  \n"
     ]
    }
   ],
   "source": [
    "filtro= df10['Type_of_Travel']< 2 \n",
    "dft=df10[filtro]\n",
    "\n",
    "filtro= dft['Age'] > 60 \n",
    "dfg= dft[filtro]\n",
    "\n",
    "freq= dft.groupby(['Common_Room_entertainment']).count()  \n",
    "print(freq)"
   ]
  },
  {
   "cell_type": "code",
   "execution_count": 40,
   "id": "6d1ed5bc",
   "metadata": {},
   "outputs": [
    {
     "data": {
      "image/png": "[encoded data removed]",
      "text/plain": [
       "<Figure size 432x288 with 1 Axes>"
      ]
     },
     "metadata": {
      "needs_background": "light"
     },
     "output_type": "display_data"
    }
   ],
   "source": [
    "x=[1,2,3,4,5]\n",
    "y=[70,52,61,68,56]\n",
    "plt.title('Valoración 0-5 del entretenimiento del hotel')\n",
    "plt.ylim(0, 130)\n",
    "plt.bar(x,y, color='pink')\n",
    "plt.ylabel(\"Clientes con peor satisfacción\",fontsize=13)\n",
    "plt.xlabel(\"Valoración\",fontsize=13)\n",
    "plt.show()"
   ]
  },
  {
   "cell_type": "code",
   "execution_count": 41,
   "id": "3108161a",
   "metadata": {},
   "outputs": [
    {
     "name": "stdout",
     "output_type": "stream",
     "text": [
      "                         Gender  Age  Type_of_Travel  Hotel_wifi_service  \\\n",
      "CheckinCheckout_service                                                    \n",
      "1                            34   34              34                  34   \n",
      "2                            30   30              30                  30   \n",
      "3                            93   93              93                  93   \n",
      "4                            93   93              93                  93   \n",
      "5                            57   57              57                  57   \n",
      "\n",
      "                         DepartureArrival_convenience  Ease_of_Online_booking  \\\n",
      "CheckinCheckout_service                                                         \n",
      "1                                                  34                      34   \n",
      "2                                                  30                      30   \n",
      "3                                                  93                      93   \n",
      "4                                                  93                      93   \n",
      "5                                                  57                      57   \n",
      "\n",
      "                         Hotel_location  Food_and_drink  Stay_comfort  \\\n",
      "CheckinCheckout_service                                                 \n",
      "1                                    34              34            34   \n",
      "2                                    30              30            30   \n",
      "3                                    93              93            93   \n",
      "4                                    93              93            93   \n",
      "5                                    57              57            57   \n",
      "\n",
      "                         Common_Room_entertainment  Other_service  \\\n",
      "CheckinCheckout_service                                             \n",
      "1                                               34             34   \n",
      "2                                               30             30   \n",
      "3                                               93             93   \n",
      "4                                               93             93   \n",
      "5                                               57             57   \n",
      "\n",
      "                         Cleanliness  satisfaction  \n",
      "CheckinCheckout_service                             \n",
      "1                                 34            34  \n",
      "2                                 30            30  \n",
      "3                                 93            93  \n",
      "4                                 93            93  \n",
      "5                                 57            57  \n"
     ]
    }
   ],
   "source": [
    "filtro= df10['Type_of_Travel']< 2 \n",
    "dft=df10[filtro]\n",
    "\n",
    "filtro= dft['Age'] > 60 \n",
    "dfg= dft[filtro]\n",
    "\n",
    "freq= dft.groupby(['CheckinCheckout_service']).count()  \n",
    "print(freq)"
   ]
  },
  {
   "cell_type": "code",
   "execution_count": 42,
   "id": "b56233eb",
   "metadata": {},
   "outputs": [
    {
     "data": {
      "image/png": "[encoded data removed]",
      "text/plain": [
       "<Figure size 432x288 with 1 Axes>"
      ]
     },
     "metadata": {
      "needs_background": "light"
     },
     "output_type": "display_data"
    }
   ],
   "source": [
    "x=[1,2,3,4,5]\n",
    "y=[34,30,93,93,57]\n",
    "plt.title('Valoración 0-5 del registro de entrada/salida')\n",
    "plt.ylim(0, 130)\n",
    "plt.bar(x,y, color='pink')\n",
    "plt.ylabel(\"Clientes con peor satisfacción\",fontsize=13)\n",
    "plt.xlabel(\"Valoración\",fontsize=13)\n",
    "plt.show()"
   ]
  },
  {
   "cell_type": "code",
   "execution_count": 43,
   "id": "9053355a",
   "metadata": {},
   "outputs": [
    {
     "name": "stdout",
     "output_type": "stream",
     "text": [
      "               Gender  Age  Type_of_Travel  Hotel_wifi_service  \\\n",
      "Other_service                                                    \n",
      "1                  29   29              29                  29   \n",
      "2                  32   32              32                  32   \n",
      "3                  51   51              51                  51   \n",
      "4                 103  103             103                 103   \n",
      "5                  92   92              92                  92   \n",
      "\n",
      "               DepartureArrival_convenience  Ease_of_Online_booking  \\\n",
      "Other_service                                                         \n",
      "1                                        29                      29   \n",
      "2                                        32                      32   \n",
      "3                                        51                      51   \n",
      "4                                       103                     103   \n",
      "5                                        92                      92   \n",
      "\n",
      "               Hotel_location  Food_and_drink  Stay_comfort  \\\n",
      "Other_service                                                 \n",
      "1                          29              29            29   \n",
      "2                          32              32            32   \n",
      "3                          51              51            51   \n",
      "4                         103             103           103   \n",
      "5                          92              92            92   \n",
      "\n",
      "               Common_Room_entertainment  CheckinCheckout_service  \\\n",
      "Other_service                                                       \n",
      "1                                     29                       29   \n",
      "2                                     32                       32   \n",
      "3                                     51                       51   \n",
      "4                                    103                      103   \n",
      "5                                     92                       92   \n",
      "\n",
      "               Cleanliness  satisfaction  \n",
      "Other_service                             \n",
      "1                       29            29  \n",
      "2                       32            32  \n",
      "3                       51            51  \n",
      "4                      103           103  \n",
      "5                       92            92  \n"
     ]
    }
   ],
   "source": [
    "filtro= df10['Type_of_Travel']< 2 \n",
    "dft=df10[filtro]\n",
    "\n",
    "filtro= dft['Age'] > 60 \n",
    "dfg= dft[filtro]\n",
    "\n",
    "freq= dft.groupby(['Other_service']).count()  \n",
    "print(freq)"
   ]
  },
  {
   "cell_type": "code",
   "execution_count": 44,
   "id": "5d69af93",
   "metadata": {},
   "outputs": [
    {
     "data": {
      "image/png": "[encoded data removed]",
      "text/plain": [
       "<Figure size 432x288 with 1 Axes>"
      ]
     },
     "metadata": {
      "needs_background": "light"
     },
     "output_type": "display_data"
    }
   ],
   "source": [
    "x=[1,2,3,4,5]\n",
    "y=[29,32,51,103,92]\n",
    "plt.title('Valoración 0-5 de otros servicios del hotel')\n",
    "plt.ylim(0, 130)\n",
    "plt.bar(x,y, color='pink')\n",
    "plt.ylabel(\"Clientes con peor satisfacción\",fontsize=13)\n",
    "plt.xlabel(\"Valoración\",fontsize=13)\n",
    "plt.show()"
   ]
  },
  {
   "cell_type": "code",
   "execution_count": 45,
   "id": "e05318e1",
   "metadata": {},
   "outputs": [
    {
     "name": "stdout",
     "output_type": "stream",
     "text": [
      "             Gender  Age  Type_of_Travel  Hotel_wifi_service  \\\n",
      "Cleanliness                                                    \n",
      "1                63   63              63                  63   \n",
      "2                56   56              56                  56   \n",
      "3                67   67              67                  67   \n",
      "4                60   60              60                  60   \n",
      "5                61   61              61                  61   \n",
      "\n",
      "             DepartureArrival_convenience  Ease_of_Online_booking  \\\n",
      "Cleanliness                                                         \n",
      "1                                      63                      63   \n",
      "2                                      56                      56   \n",
      "3                                      67                      67   \n",
      "4                                      60                      60   \n",
      "5                                      61                      61   \n",
      "\n",
      "             Hotel_location  Food_and_drink  Stay_comfort  \\\n",
      "Cleanliness                                                 \n",
      "1                        63              63            63   \n",
      "2                        56              56            56   \n",
      "3                        67              67            67   \n",
      "4                        60              60            60   \n",
      "5                        61              61            61   \n",
      "\n",
      "             Common_Room_entertainment  CheckinCheckout_service  \\\n",
      "Cleanliness                                                       \n",
      "1                                   63                       63   \n",
      "2                                   56                       56   \n",
      "3                                   67                       67   \n",
      "4                                   60                       60   \n",
      "5                                   61                       61   \n",
      "\n",
      "             Other_service  satisfaction  \n",
      "Cleanliness                               \n",
      "1                       63            63  \n",
      "2                       56            56  \n",
      "3                       67            67  \n",
      "4                       60            60  \n",
      "5                       61            61  \n"
     ]
    }
   ],
   "source": [
    "filtro= df10['Type_of_Travel']< 2 \n",
    "dft=df10[filtro]\n",
    "\n",
    "filtro= dft['Age'] > 60 \n",
    "dfg= dft[filtro]\n",
    "\n",
    "freq= dft.groupby(['Cleanliness']).count()  \n",
    "print(freq)"
   ]
  },
  {
   "cell_type": "code",
   "execution_count": null,
   "id": "bca971f4",
   "metadata": {},
   "outputs": [],
   "source": []
  },
  {
   "cell_type": "code",
   "execution_count": null,
   "id": "65966c50",
   "metadata": {},
   "outputs": [],
   "source": []
  }
 ],
 "metadata": {
  "kernelspec": {
   "display_name": "Python 3",
   "language": "python",
   "name": "python3"
  },
  "language_info": {
   "codemirror_mode": {
    "name": "ipython",
    "version": 3
   },
   "file_extension": ".py",
   "mimetype": "text/x-python",
   "name": "python",
   "nbconvert_exporter": "python",
   "pygments_lexer": "ipython3",
   "version": "3.9.5"
  }
 },
 "nbformat": 4,
 "nbformat_minor": 5
}
