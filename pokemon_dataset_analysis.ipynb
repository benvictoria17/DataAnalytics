{
  "nbformat": 4,
  "nbformat_minor": 0,
  "metadata": {
    "kernelspec": {
      "display_name": "Python 3",
      "language": "python",
      "name": "python3"
    },
    "language_info": {
      "codemirror_mode": {
        "name": "ipython",
        "version": 3
      },
      "file_extension": ".py",
      "mimetype": "text/x-python",
      "name": "python",
      "nbconvert_exporter": "python",
      "pygments_lexer": "ipython3",
      "version": "3.7.6"
    },
    "papermill": {
      "duration": 13.083939,
      "end_time": "2020-12-19T21:21:32.583930",
      "environment_variables": {},
      "exception": null,
      "input_path": "__notebook__.ipynb",
      "output_path": "__notebook__.ipynb",
      "parameters": {},
      "start_time": "2020-12-19T21:21:19.499991",
      "version": "2.1.0"
    },
    "colab": {
      "name": "pokemon-dataset-analysis.ipynb",
      "provenance": [],
      "include_colab_link": true
    }
  },
  "cells": [
    {
      "cell_type": "markdown",
      "metadata": {
        "id": "view-in-github",
        "colab_type": "text"
      },
      "source": [
        "<a href=\"https://colab.research.google.com/github/benvictoria21/pandas/blob/master/pokemon_dataset_analysis.ipynb\" target=\"_parent\"><img src=\"https://colab.research.google.com/assets/colab-badge.svg\" alt=\"Open In Colab\"/></a>"
      ]
    },
    {
      "cell_type": "code",
      "metadata": {
        "_cell_guid": "b1076dfc-b9ad-4769-8c92-a6c4dae69d19",
        "_uuid": "8f2839f25d086af736a60e9eeb907d3b93b6e0e5",
        "execution": {
          "iopub.execute_input": "2020-12-19T21:21:24.907306Z",
          "iopub.status.busy": "2020-12-19T21:21:24.906552Z",
          "iopub.status.idle": "2020-12-19T21:21:26.076308Z",
          "shell.execute_reply": "2020-12-19T21:21:26.075628Z"
        },
        "papermill": {
          "duration": 1.195703,
          "end_time": "2020-12-19T21:21:26.076440",
          "exception": false,
          "start_time": "2020-12-19T21:21:24.880737",
          "status": "completed"
        },
        "tags": [],
        "id": "l37M4lnHyRml"
      },
      "source": [
        "import pandas as pd\n",
        "import matplotlib.pyplot as plt\n",
        "import seaborn as sns\n",
        "import numpy as np"
      ],
      "execution_count": 1,
      "outputs": []
    },
    {
      "cell_type": "code",
      "metadata": {
        "_cell_guid": "79c7e3d0-c299-4dcb-8224-4455121ee9b0",
        "_uuid": "d629ff2d2480ee46fbb7e2d37f6b5fab8052498a",
        "execution": {
          "iopub.execute_input": "2020-12-19T21:21:26.146126Z",
          "iopub.status.busy": "2020-12-19T21:21:26.145245Z",
          "iopub.status.idle": "2020-12-19T21:21:26.163664Z",
          "shell.execute_reply": "2020-12-19T21:21:26.163055Z"
        },
        "papermill": {
          "duration": 0.056892,
          "end_time": "2020-12-19T21:21:26.163782",
          "exception": false,
          "start_time": "2020-12-19T21:21:26.106890",
          "status": "completed"
        },
        "tags": [],
        "id": "1Isnuc7XyRml"
      },
      "source": [
        "df = pd.read_csv('https://raw.githubusercontent.com/benvictoria21/pandas/master/dataset/Pokemon.csv')"
      ],
      "execution_count": 2,
      "outputs": []
    },
    {
      "cell_type": "code",
      "metadata": {
        "execution": {
          "iopub.execute_input": "2020-12-19T21:21:26.280115Z",
          "iopub.status.busy": "2020-12-19T21:21:26.279433Z",
          "iopub.status.idle": "2020-12-19T21:21:26.290947Z",
          "shell.execute_reply": "2020-12-19T21:21:26.291457Z"
        },
        "papermill": {
          "duration": 0.057002,
          "end_time": "2020-12-19T21:21:26.291618",
          "exception": false,
          "start_time": "2020-12-19T21:21:26.234616",
          "status": "completed"
        },
        "tags": [],
        "colab": {
          "base_uri": "https://localhost:8080/",
          "height": 195
        },
        "id": "7P6WMUIqyRmn",
        "outputId": "a7974c19-c132-43cf-b168-587888cb7394"
      },
      "source": [
        "df.head()"
      ],
      "execution_count": 3,
      "outputs": [
        {
          "output_type": "execute_result",
          "data": {
            "text/html": [
              "<div>\n",
              "<style scoped>\n",
              "    .dataframe tbody tr th:only-of-type {\n",
              "        vertical-align: middle;\n",
              "    }\n",
              "\n",
              "    .dataframe tbody tr th {\n",
              "        vertical-align: top;\n",
              "    }\n",
              "\n",
              "    .dataframe thead th {\n",
              "        text-align: right;\n",
              "    }\n",
              "</style>\n",
              "<table border=\"1\" class=\"dataframe\">\n",
              "  <thead>\n",
              "    <tr style=\"text-align: right;\">\n",
              "      <th></th>\n",
              "      <th>#</th>\n",
              "      <th>Name</th>\n",
              "      <th>Type 1</th>\n",
              "      <th>Type 2</th>\n",
              "      <th>Total</th>\n",
              "      <th>HP</th>\n",
              "      <th>Attack</th>\n",
              "      <th>Defense</th>\n",
              "      <th>Sp. Atk</th>\n",
              "      <th>Sp. Def</th>\n",
              "      <th>Speed</th>\n",
              "      <th>Generation</th>\n",
              "      <th>Legendary</th>\n",
              "    </tr>\n",
              "  </thead>\n",
              "  <tbody>\n",
              "    <tr>\n",
              "      <th>0</th>\n",
              "      <td>1</td>\n",
              "      <td>Bulbasaur</td>\n",
              "      <td>Grass</td>\n",
              "      <td>Poison</td>\n",
              "      <td>318</td>\n",
              "      <td>45</td>\n",
              "      <td>49</td>\n",
              "      <td>49</td>\n",
              "      <td>65</td>\n",
              "      <td>65</td>\n",
              "      <td>45</td>\n",
              "      <td>1</td>\n",
              "      <td>False</td>\n",
              "    </tr>\n",
              "    <tr>\n",
              "      <th>1</th>\n",
              "      <td>2</td>\n",
              "      <td>Ivysaur</td>\n",
              "      <td>Grass</td>\n",
              "      <td>Poison</td>\n",
              "      <td>405</td>\n",
              "      <td>60</td>\n",
              "      <td>62</td>\n",
              "      <td>63</td>\n",
              "      <td>80</td>\n",
              "      <td>80</td>\n",
              "      <td>60</td>\n",
              "      <td>1</td>\n",
              "      <td>False</td>\n",
              "    </tr>\n",
              "    <tr>\n",
              "      <th>2</th>\n",
              "      <td>3</td>\n",
              "      <td>Venusaur</td>\n",
              "      <td>Grass</td>\n",
              "      <td>Poison</td>\n",
              "      <td>525</td>\n",
              "      <td>80</td>\n",
              "      <td>82</td>\n",
              "      <td>83</td>\n",
              "      <td>100</td>\n",
              "      <td>100</td>\n",
              "      <td>80</td>\n",
              "      <td>1</td>\n",
              "      <td>False</td>\n",
              "    </tr>\n",
              "    <tr>\n",
              "      <th>3</th>\n",
              "      <td>3</td>\n",
              "      <td>VenusaurMega Venusaur</td>\n",
              "      <td>Grass</td>\n",
              "      <td>Poison</td>\n",
              "      <td>625</td>\n",
              "      <td>80</td>\n",
              "      <td>100</td>\n",
              "      <td>123</td>\n",
              "      <td>122</td>\n",
              "      <td>120</td>\n",
              "      <td>80</td>\n",
              "      <td>1</td>\n",
              "      <td>False</td>\n",
              "    </tr>\n",
              "    <tr>\n",
              "      <th>4</th>\n",
              "      <td>4</td>\n",
              "      <td>Charmander</td>\n",
              "      <td>Fire</td>\n",
              "      <td>NaN</td>\n",
              "      <td>309</td>\n",
              "      <td>39</td>\n",
              "      <td>52</td>\n",
              "      <td>43</td>\n",
              "      <td>60</td>\n",
              "      <td>50</td>\n",
              "      <td>65</td>\n",
              "      <td>1</td>\n",
              "      <td>False</td>\n",
              "    </tr>\n",
              "  </tbody>\n",
              "</table>\n",
              "</div>"
            ],
            "text/plain": [
              "   #                   Name Type 1  ... Speed  Generation  Legendary\n",
              "0  1              Bulbasaur  Grass  ...    45           1      False\n",
              "1  2                Ivysaur  Grass  ...    60           1      False\n",
              "2  3               Venusaur  Grass  ...    80           1      False\n",
              "3  3  VenusaurMega Venusaur  Grass  ...    80           1      False\n",
              "4  4             Charmander   Fire  ...    65           1      False\n",
              "\n",
              "[5 rows x 13 columns]"
            ]
          },
          "metadata": {
            "tags": []
          },
          "execution_count": 3
        }
      ]
    },
    {
      "cell_type": "code",
      "metadata": {
        "execution": {
          "iopub.execute_input": "2020-12-19T21:21:26.347454Z",
          "iopub.status.busy": "2020-12-19T21:21:26.346412Z",
          "iopub.status.idle": "2020-12-19T21:21:26.367345Z",
          "shell.execute_reply": "2020-12-19T21:21:26.368391Z"
        },
        "papermill": {
          "duration": 0.051348,
          "end_time": "2020-12-19T21:21:26.368575",
          "exception": false,
          "start_time": "2020-12-19T21:21:26.317227",
          "status": "completed"
        },
        "tags": [],
        "colab": {
          "base_uri": "https://localhost:8080/"
        },
        "id": "LA7GBy5RyRmo",
        "outputId": "2ab59c0d-5b9e-47f2-cfa8-ccb40469810b"
      },
      "source": [
        "df.info()"
      ],
      "execution_count": 4,
      "outputs": [
        {
          "output_type": "stream",
          "text": [
            "<class 'pandas.core.frame.DataFrame'>\n",
            "RangeIndex: 800 entries, 0 to 799\n",
            "Data columns (total 13 columns):\n",
            " #   Column      Non-Null Count  Dtype \n",
            "---  ------      --------------  ----- \n",
            " 0   #           800 non-null    int64 \n",
            " 1   Name        800 non-null    object\n",
            " 2   Type 1      800 non-null    object\n",
            " 3   Type 2      414 non-null    object\n",
            " 4   Total       800 non-null    int64 \n",
            " 5   HP          800 non-null    int64 \n",
            " 6   Attack      800 non-null    int64 \n",
            " 7   Defense     800 non-null    int64 \n",
            " 8   Sp. Atk     800 non-null    int64 \n",
            " 9   Sp. Def     800 non-null    int64 \n",
            " 10  Speed       800 non-null    int64 \n",
            " 11  Generation  800 non-null    int64 \n",
            " 12  Legendary   800 non-null    bool  \n",
            "dtypes: bool(1), int64(9), object(3)\n",
            "memory usage: 75.9+ KB\n"
          ],
          "name": "stdout"
        }
      ]
    },
    {
      "cell_type": "code",
      "metadata": {
        "execution": {
          "iopub.execute_input": "2020-12-19T21:21:26.424652Z",
          "iopub.status.busy": "2020-12-19T21:21:26.423588Z",
          "iopub.status.idle": "2020-12-19T21:21:26.430495Z",
          "shell.execute_reply": "2020-12-19T21:21:26.431304Z"
        },
        "papermill": {
          "duration": 0.036823,
          "end_time": "2020-12-19T21:21:26.431492",
          "exception": false,
          "start_time": "2020-12-19T21:21:26.394669",
          "status": "completed"
        },
        "tags": [],
        "colab": {
          "base_uri": "https://localhost:8080/"
        },
        "id": "yrRSoXxIyRmo",
        "outputId": "77b8ae4b-fe61-4021-c31d-b845cb7e621b"
      },
      "source": [
        "print(f'The Dataset has {df.shape[0]} rows and {df.shape[1]} columns.')"
      ],
      "execution_count": 5,
      "outputs": [
        {
          "output_type": "stream",
          "text": [
            "The Dataset has 800 rows and 13 columns.\n"
          ],
          "name": "stdout"
        }
      ]
    },
    {
      "cell_type": "code",
      "metadata": {
        "execution": {
          "iopub.execute_input": "2020-12-19T21:21:26.494248Z",
          "iopub.status.busy": "2020-12-19T21:21:26.493260Z",
          "iopub.status.idle": "2020-12-19T21:21:26.496790Z",
          "shell.execute_reply": "2020-12-19T21:21:26.497314Z"
        },
        "papermill": {
          "duration": 0.037774,
          "end_time": "2020-12-19T21:21:26.497454",
          "exception": false,
          "start_time": "2020-12-19T21:21:26.459680",
          "status": "completed"
        },
        "tags": [],
        "colab": {
          "base_uri": "https://localhost:8080/"
        },
        "id": "4D9sOg9ByRmp",
        "outputId": "5f93360b-f695-4883-e1d6-5b135bac311b"
      },
      "source": [
        "df['Type 1'].unique()"
      ],
      "execution_count": 6,
      "outputs": [
        {
          "output_type": "execute_result",
          "data": {
            "text/plain": [
              "array(['Grass', 'Fire', 'Water', 'Bug', 'Normal', 'Poison', 'Electric',\n",
              "       'Ground', 'Fairy', 'Fighting', 'Psychic', 'Rock', 'Ghost', 'Ice',\n",
              "       'Dragon', 'Dark', 'Steel', 'Flying'], dtype=object)"
            ]
          },
          "metadata": {
            "tags": []
          },
          "execution_count": 6
        }
      ]
    },
    {
      "cell_type": "code",
      "metadata": {
        "execution": {
          "iopub.execute_input": "2020-12-19T21:21:26.553860Z",
          "iopub.status.busy": "2020-12-19T21:21:26.552626Z",
          "iopub.status.idle": "2020-12-19T21:21:26.561373Z",
          "shell.execute_reply": "2020-12-19T21:21:26.560734Z"
        },
        "papermill": {
          "duration": 0.038147,
          "end_time": "2020-12-19T21:21:26.561519",
          "exception": false,
          "start_time": "2020-12-19T21:21:26.523372",
          "status": "completed"
        },
        "tags": [],
        "colab": {
          "base_uri": "https://localhost:8080/"
        },
        "id": "nOOh1ZfSyRmp",
        "outputId": "1e523f3b-49f9-42c7-f570-ba52da8bbd35"
      },
      "source": [
        "df['Type 2'].unique()"
      ],
      "execution_count": 7,
      "outputs": [
        {
          "output_type": "execute_result",
          "data": {
            "text/plain": [
              "array(['Poison', nan, 'Flying', 'Dragon', 'Ground', 'Fairy', 'Grass',\n",
              "       'Fighting', 'Psychic', 'Steel', 'Ice', 'Rock', 'Dark', 'Water',\n",
              "       'Electric', 'Fire', 'Ghost', 'Bug', 'Normal'], dtype=object)"
            ]
          },
          "metadata": {
            "tags": []
          },
          "execution_count": 7
        }
      ]
    },
    {
      "cell_type": "code",
      "metadata": {
        "execution": {
          "iopub.execute_input": "2020-12-19T21:21:26.633903Z",
          "iopub.status.busy": "2020-12-19T21:21:26.633148Z",
          "iopub.status.idle": "2020-12-19T21:21:26.638405Z",
          "shell.execute_reply": "2020-12-19T21:21:26.637877Z"
        },
        "papermill": {
          "duration": 0.049297,
          "end_time": "2020-12-19T21:21:26.638521",
          "exception": false,
          "start_time": "2020-12-19T21:21:26.589224",
          "status": "completed"
        },
        "tags": [],
        "colab": {
          "base_uri": "https://localhost:8080/",
          "height": 195
        },
        "id": "rWOSRjNgyRmp",
        "outputId": "b82e9ad9-2e72-4a7e-eb25-9b4a726cc84a"
      },
      "source": [
        "df = df.rename(columns = {'Total':'Total Score'})\n",
        "df.head()"
      ],
      "execution_count": 8,
      "outputs": [
        {
          "output_type": "execute_result",
          "data": {
            "text/html": [
              "<div>\n",
              "<style scoped>\n",
              "    .dataframe tbody tr th:only-of-type {\n",
              "        vertical-align: middle;\n",
              "    }\n",
              "\n",
              "    .dataframe tbody tr th {\n",
              "        vertical-align: top;\n",
              "    }\n",
              "\n",
              "    .dataframe thead th {\n",
              "        text-align: right;\n",
              "    }\n",
              "</style>\n",
              "<table border=\"1\" class=\"dataframe\">\n",
              "  <thead>\n",
              "    <tr style=\"text-align: right;\">\n",
              "      <th></th>\n",
              "      <th>#</th>\n",
              "      <th>Name</th>\n",
              "      <th>Type 1</th>\n",
              "      <th>Type 2</th>\n",
              "      <th>Total Score</th>\n",
              "      <th>HP</th>\n",
              "      <th>Attack</th>\n",
              "      <th>Defense</th>\n",
              "      <th>Sp. Atk</th>\n",
              "      <th>Sp. Def</th>\n",
              "      <th>Speed</th>\n",
              "      <th>Generation</th>\n",
              "      <th>Legendary</th>\n",
              "    </tr>\n",
              "  </thead>\n",
              "  <tbody>\n",
              "    <tr>\n",
              "      <th>0</th>\n",
              "      <td>1</td>\n",
              "      <td>Bulbasaur</td>\n",
              "      <td>Grass</td>\n",
              "      <td>Poison</td>\n",
              "      <td>318</td>\n",
              "      <td>45</td>\n",
              "      <td>49</td>\n",
              "      <td>49</td>\n",
              "      <td>65</td>\n",
              "      <td>65</td>\n",
              "      <td>45</td>\n",
              "      <td>1</td>\n",
              "      <td>False</td>\n",
              "    </tr>\n",
              "    <tr>\n",
              "      <th>1</th>\n",
              "      <td>2</td>\n",
              "      <td>Ivysaur</td>\n",
              "      <td>Grass</td>\n",
              "      <td>Poison</td>\n",
              "      <td>405</td>\n",
              "      <td>60</td>\n",
              "      <td>62</td>\n",
              "      <td>63</td>\n",
              "      <td>80</td>\n",
              "      <td>80</td>\n",
              "      <td>60</td>\n",
              "      <td>1</td>\n",
              "      <td>False</td>\n",
              "    </tr>\n",
              "    <tr>\n",
              "      <th>2</th>\n",
              "      <td>3</td>\n",
              "      <td>Venusaur</td>\n",
              "      <td>Grass</td>\n",
              "      <td>Poison</td>\n",
              "      <td>525</td>\n",
              "      <td>80</td>\n",
              "      <td>82</td>\n",
              "      <td>83</td>\n",
              "      <td>100</td>\n",
              "      <td>100</td>\n",
              "      <td>80</td>\n",
              "      <td>1</td>\n",
              "      <td>False</td>\n",
              "    </tr>\n",
              "    <tr>\n",
              "      <th>3</th>\n",
              "      <td>3</td>\n",
              "      <td>VenusaurMega Venusaur</td>\n",
              "      <td>Grass</td>\n",
              "      <td>Poison</td>\n",
              "      <td>625</td>\n",
              "      <td>80</td>\n",
              "      <td>100</td>\n",
              "      <td>123</td>\n",
              "      <td>122</td>\n",
              "      <td>120</td>\n",
              "      <td>80</td>\n",
              "      <td>1</td>\n",
              "      <td>False</td>\n",
              "    </tr>\n",
              "    <tr>\n",
              "      <th>4</th>\n",
              "      <td>4</td>\n",
              "      <td>Charmander</td>\n",
              "      <td>Fire</td>\n",
              "      <td>NaN</td>\n",
              "      <td>309</td>\n",
              "      <td>39</td>\n",
              "      <td>52</td>\n",
              "      <td>43</td>\n",
              "      <td>60</td>\n",
              "      <td>50</td>\n",
              "      <td>65</td>\n",
              "      <td>1</td>\n",
              "      <td>False</td>\n",
              "    </tr>\n",
              "  </tbody>\n",
              "</table>\n",
              "</div>"
            ],
            "text/plain": [
              "   #                   Name Type 1  ... Speed  Generation  Legendary\n",
              "0  1              Bulbasaur  Grass  ...    45           1      False\n",
              "1  2                Ivysaur  Grass  ...    60           1      False\n",
              "2  3               Venusaur  Grass  ...    80           1      False\n",
              "3  3  VenusaurMega Venusaur  Grass  ...    80           1      False\n",
              "4  4             Charmander   Fire  ...    65           1      False\n",
              "\n",
              "[5 rows x 13 columns]"
            ]
          },
          "metadata": {
            "tags": []
          },
          "execution_count": 8
        }
      ]
    },
    {
      "cell_type": "code",
      "metadata": {
        "execution": {
          "iopub.execute_input": "2020-12-19T21:21:26.715418Z",
          "iopub.status.busy": "2020-12-19T21:21:26.714370Z",
          "iopub.status.idle": "2020-12-19T21:21:26.720261Z",
          "shell.execute_reply": "2020-12-19T21:21:26.719029Z"
        },
        "papermill": {
          "duration": 0.054468,
          "end_time": "2020-12-19T21:21:26.720448",
          "exception": false,
          "start_time": "2020-12-19T21:21:26.665980",
          "status": "completed"
        },
        "tags": [],
        "colab": {
          "base_uri": "https://localhost:8080/",
          "height": 195
        },
        "id": "zEk7c09DyRmq",
        "outputId": "21a2e7fc-38be-4980-f2bc-ab48ab26c2bc"
      },
      "source": [
        "df = df[['Name', 'Type 1', 'Type 2','HP','Attack',\n",
        "              'Defense','Sp. Atk','Sp. Def','Speed',\n",
        "              'Total Score','Generation','Legendary']]\n",
        "df.head()"
      ],
      "execution_count": 9,
      "outputs": [
        {
          "output_type": "execute_result",
          "data": {
            "text/html": [
              "<div>\n",
              "<style scoped>\n",
              "    .dataframe tbody tr th:only-of-type {\n",
              "        vertical-align: middle;\n",
              "    }\n",
              "\n",
              "    .dataframe tbody tr th {\n",
              "        vertical-align: top;\n",
              "    }\n",
              "\n",
              "    .dataframe thead th {\n",
              "        text-align: right;\n",
              "    }\n",
              "</style>\n",
              "<table border=\"1\" class=\"dataframe\">\n",
              "  <thead>\n",
              "    <tr style=\"text-align: right;\">\n",
              "      <th></th>\n",
              "      <th>Name</th>\n",
              "      <th>Type 1</th>\n",
              "      <th>Type 2</th>\n",
              "      <th>HP</th>\n",
              "      <th>Attack</th>\n",
              "      <th>Defense</th>\n",
              "      <th>Sp. Atk</th>\n",
              "      <th>Sp. Def</th>\n",
              "      <th>Speed</th>\n",
              "      <th>Total Score</th>\n",
              "      <th>Generation</th>\n",
              "      <th>Legendary</th>\n",
              "    </tr>\n",
              "  </thead>\n",
              "  <tbody>\n",
              "    <tr>\n",
              "      <th>0</th>\n",
              "      <td>Bulbasaur</td>\n",
              "      <td>Grass</td>\n",
              "      <td>Poison</td>\n",
              "      <td>45</td>\n",
              "      <td>49</td>\n",
              "      <td>49</td>\n",
              "      <td>65</td>\n",
              "      <td>65</td>\n",
              "      <td>45</td>\n",
              "      <td>318</td>\n",
              "      <td>1</td>\n",
              "      <td>False</td>\n",
              "    </tr>\n",
              "    <tr>\n",
              "      <th>1</th>\n",
              "      <td>Ivysaur</td>\n",
              "      <td>Grass</td>\n",
              "      <td>Poison</td>\n",
              "      <td>60</td>\n",
              "      <td>62</td>\n",
              "      <td>63</td>\n",
              "      <td>80</td>\n",
              "      <td>80</td>\n",
              "      <td>60</td>\n",
              "      <td>405</td>\n",
              "      <td>1</td>\n",
              "      <td>False</td>\n",
              "    </tr>\n",
              "    <tr>\n",
              "      <th>2</th>\n",
              "      <td>Venusaur</td>\n",
              "      <td>Grass</td>\n",
              "      <td>Poison</td>\n",
              "      <td>80</td>\n",
              "      <td>82</td>\n",
              "      <td>83</td>\n",
              "      <td>100</td>\n",
              "      <td>100</td>\n",
              "      <td>80</td>\n",
              "      <td>525</td>\n",
              "      <td>1</td>\n",
              "      <td>False</td>\n",
              "    </tr>\n",
              "    <tr>\n",
              "      <th>3</th>\n",
              "      <td>VenusaurMega Venusaur</td>\n",
              "      <td>Grass</td>\n",
              "      <td>Poison</td>\n",
              "      <td>80</td>\n",
              "      <td>100</td>\n",
              "      <td>123</td>\n",
              "      <td>122</td>\n",
              "      <td>120</td>\n",
              "      <td>80</td>\n",
              "      <td>625</td>\n",
              "      <td>1</td>\n",
              "      <td>False</td>\n",
              "    </tr>\n",
              "    <tr>\n",
              "      <th>4</th>\n",
              "      <td>Charmander</td>\n",
              "      <td>Fire</td>\n",
              "      <td>NaN</td>\n",
              "      <td>39</td>\n",
              "      <td>52</td>\n",
              "      <td>43</td>\n",
              "      <td>60</td>\n",
              "      <td>50</td>\n",
              "      <td>65</td>\n",
              "      <td>309</td>\n",
              "      <td>1</td>\n",
              "      <td>False</td>\n",
              "    </tr>\n",
              "  </tbody>\n",
              "</table>\n",
              "</div>"
            ],
            "text/plain": [
              "                    Name Type 1  Type 2  ...  Total Score  Generation  Legendary\n",
              "0              Bulbasaur  Grass  Poison  ...          318           1      False\n",
              "1                Ivysaur  Grass  Poison  ...          405           1      False\n",
              "2               Venusaur  Grass  Poison  ...          525           1      False\n",
              "3  VenusaurMega Venusaur  Grass  Poison  ...          625           1      False\n",
              "4             Charmander   Fire     NaN  ...          309           1      False\n",
              "\n",
              "[5 rows x 12 columns]"
            ]
          },
          "metadata": {
            "tags": []
          },
          "execution_count": 9
        }
      ]
    },
    {
      "cell_type": "code",
      "metadata": {
        "execution": {
          "iopub.execute_input": "2020-12-19T21:21:26.843816Z",
          "iopub.status.busy": "2020-12-19T21:21:26.843071Z",
          "iopub.status.idle": "2020-12-19T21:21:26.879348Z",
          "shell.execute_reply": "2020-12-19T21:21:26.878705Z"
        },
        "papermill": {
          "duration": 0.07271,
          "end_time": "2020-12-19T21:21:26.879459",
          "exception": false,
          "start_time": "2020-12-19T21:21:26.806749",
          "status": "completed"
        },
        "tags": [],
        "colab": {
          "base_uri": "https://localhost:8080/",
          "height": 284
        },
        "id": "8bGM1H1XyRmr",
        "outputId": "3212312b-6ef7-4611-848b-1f598820563b"
      },
      "source": [
        "df.describe()"
      ],
      "execution_count": 10,
      "outputs": [
        {
          "output_type": "execute_result",
          "data": {
            "text/html": [
              "<div>\n",
              "<style scoped>\n",
              "    .dataframe tbody tr th:only-of-type {\n",
              "        vertical-align: middle;\n",
              "    }\n",
              "\n",
              "    .dataframe tbody tr th {\n",
              "        vertical-align: top;\n",
              "    }\n",
              "\n",
              "    .dataframe thead th {\n",
              "        text-align: right;\n",
              "    }\n",
              "</style>\n",
              "<table border=\"1\" class=\"dataframe\">\n",
              "  <thead>\n",
              "    <tr style=\"text-align: right;\">\n",
              "      <th></th>\n",
              "      <th>HP</th>\n",
              "      <th>Attack</th>\n",
              "      <th>Defense</th>\n",
              "      <th>Sp. Atk</th>\n",
              "      <th>Sp. Def</th>\n",
              "      <th>Speed</th>\n",
              "      <th>Total Score</th>\n",
              "      <th>Generation</th>\n",
              "    </tr>\n",
              "  </thead>\n",
              "  <tbody>\n",
              "    <tr>\n",
              "      <th>count</th>\n",
              "      <td>800.000000</td>\n",
              "      <td>800.000000</td>\n",
              "      <td>800.000000</td>\n",
              "      <td>800.000000</td>\n",
              "      <td>800.000000</td>\n",
              "      <td>800.000000</td>\n",
              "      <td>800.00000</td>\n",
              "      <td>800.00000</td>\n",
              "    </tr>\n",
              "    <tr>\n",
              "      <th>mean</th>\n",
              "      <td>69.258750</td>\n",
              "      <td>79.001250</td>\n",
              "      <td>73.842500</td>\n",
              "      <td>72.820000</td>\n",
              "      <td>71.902500</td>\n",
              "      <td>68.277500</td>\n",
              "      <td>435.10250</td>\n",
              "      <td>3.32375</td>\n",
              "    </tr>\n",
              "    <tr>\n",
              "      <th>std</th>\n",
              "      <td>25.534669</td>\n",
              "      <td>32.457366</td>\n",
              "      <td>31.183501</td>\n",
              "      <td>32.722294</td>\n",
              "      <td>27.828916</td>\n",
              "      <td>29.060474</td>\n",
              "      <td>119.96304</td>\n",
              "      <td>1.66129</td>\n",
              "    </tr>\n",
              "    <tr>\n",
              "      <th>min</th>\n",
              "      <td>1.000000</td>\n",
              "      <td>5.000000</td>\n",
              "      <td>5.000000</td>\n",
              "      <td>10.000000</td>\n",
              "      <td>20.000000</td>\n",
              "      <td>5.000000</td>\n",
              "      <td>180.00000</td>\n",
              "      <td>1.00000</td>\n",
              "    </tr>\n",
              "    <tr>\n",
              "      <th>25%</th>\n",
              "      <td>50.000000</td>\n",
              "      <td>55.000000</td>\n",
              "      <td>50.000000</td>\n",
              "      <td>49.750000</td>\n",
              "      <td>50.000000</td>\n",
              "      <td>45.000000</td>\n",
              "      <td>330.00000</td>\n",
              "      <td>2.00000</td>\n",
              "    </tr>\n",
              "    <tr>\n",
              "      <th>50%</th>\n",
              "      <td>65.000000</td>\n",
              "      <td>75.000000</td>\n",
              "      <td>70.000000</td>\n",
              "      <td>65.000000</td>\n",
              "      <td>70.000000</td>\n",
              "      <td>65.000000</td>\n",
              "      <td>450.00000</td>\n",
              "      <td>3.00000</td>\n",
              "    </tr>\n",
              "    <tr>\n",
              "      <th>75%</th>\n",
              "      <td>80.000000</td>\n",
              "      <td>100.000000</td>\n",
              "      <td>90.000000</td>\n",
              "      <td>95.000000</td>\n",
              "      <td>90.000000</td>\n",
              "      <td>90.000000</td>\n",
              "      <td>515.00000</td>\n",
              "      <td>5.00000</td>\n",
              "    </tr>\n",
              "    <tr>\n",
              "      <th>max</th>\n",
              "      <td>255.000000</td>\n",
              "      <td>190.000000</td>\n",
              "      <td>230.000000</td>\n",
              "      <td>194.000000</td>\n",
              "      <td>230.000000</td>\n",
              "      <td>180.000000</td>\n",
              "      <td>780.00000</td>\n",
              "      <td>6.00000</td>\n",
              "    </tr>\n",
              "  </tbody>\n",
              "</table>\n",
              "</div>"
            ],
            "text/plain": [
              "               HP      Attack     Defense  ...       Speed  Total Score  Generation\n",
              "count  800.000000  800.000000  800.000000  ...  800.000000    800.00000   800.00000\n",
              "mean    69.258750   79.001250   73.842500  ...   68.277500    435.10250     3.32375\n",
              "std     25.534669   32.457366   31.183501  ...   29.060474    119.96304     1.66129\n",
              "min      1.000000    5.000000    5.000000  ...    5.000000    180.00000     1.00000\n",
              "25%     50.000000   55.000000   50.000000  ...   45.000000    330.00000     2.00000\n",
              "50%     65.000000   75.000000   70.000000  ...   65.000000    450.00000     3.00000\n",
              "75%     80.000000  100.000000   90.000000  ...   90.000000    515.00000     5.00000\n",
              "max    255.000000  190.000000  230.000000  ...  180.000000    780.00000     6.00000\n",
              "\n",
              "[8 rows x 8 columns]"
            ]
          },
          "metadata": {
            "tags": []
          },
          "execution_count": 10
        }
      ]
    },
    {
      "cell_type": "code",
      "metadata": {
        "execution": {
          "iopub.execute_input": "2020-12-19T21:21:27.003812Z",
          "iopub.status.busy": "2020-12-19T21:21:27.001372Z",
          "iopub.status.idle": "2020-12-19T21:21:27.015543Z",
          "shell.execute_reply": "2020-12-19T21:21:27.016333Z"
        },
        "papermill": {
          "duration": 0.051225,
          "end_time": "2020-12-19T21:21:27.016496",
          "exception": false,
          "start_time": "2020-12-19T21:21:26.965271",
          "status": "completed"
        },
        "tags": [],
        "colab": {
          "base_uri": "https://localhost:8080/",
          "height": 195
        },
        "id": "I-lMC5pvyRms",
        "outputId": "481d039d-8f12-48f4-a476-cfa66bed7424"
      },
      "source": [
        "grouped_type1 = df.groupby('Type 1')['Total Score'].sum()\n",
        "df_tot_type_score = pd.DataFrame(grouped_type1)\n",
        "df_tot_type_score['count'] = df.groupby('Type 1')['Total Score'].count()\n",
        "df_tot_type_score = df_tot_type_score.reset_index()\n",
        "df_tot_type_score.head()"
      ],
      "execution_count": 11,
      "outputs": [
        {
          "output_type": "execute_result",
          "data": {
            "text/html": [
              "<div>\n",
              "<style scoped>\n",
              "    .dataframe tbody tr th:only-of-type {\n",
              "        vertical-align: middle;\n",
              "    }\n",
              "\n",
              "    .dataframe tbody tr th {\n",
              "        vertical-align: top;\n",
              "    }\n",
              "\n",
              "    .dataframe thead th {\n",
              "        text-align: right;\n",
              "    }\n",
              "</style>\n",
              "<table border=\"1\" class=\"dataframe\">\n",
              "  <thead>\n",
              "    <tr style=\"text-align: right;\">\n",
              "      <th></th>\n",
              "      <th>Type 1</th>\n",
              "      <th>Total Score</th>\n",
              "      <th>count</th>\n",
              "    </tr>\n",
              "  </thead>\n",
              "  <tbody>\n",
              "    <tr>\n",
              "      <th>0</th>\n",
              "      <td>Bug</td>\n",
              "      <td>26146</td>\n",
              "      <td>69</td>\n",
              "    </tr>\n",
              "    <tr>\n",
              "      <th>1</th>\n",
              "      <td>Dark</td>\n",
              "      <td>13818</td>\n",
              "      <td>31</td>\n",
              "    </tr>\n",
              "    <tr>\n",
              "      <th>2</th>\n",
              "      <td>Dragon</td>\n",
              "      <td>17617</td>\n",
              "      <td>32</td>\n",
              "    </tr>\n",
              "    <tr>\n",
              "      <th>3</th>\n",
              "      <td>Electric</td>\n",
              "      <td>19510</td>\n",
              "      <td>44</td>\n",
              "    </tr>\n",
              "    <tr>\n",
              "      <th>4</th>\n",
              "      <td>Fairy</td>\n",
              "      <td>7024</td>\n",
              "      <td>17</td>\n",
              "    </tr>\n",
              "  </tbody>\n",
              "</table>\n",
              "</div>"
            ],
            "text/plain": [
              "     Type 1  Total Score  count\n",
              "0       Bug        26146     69\n",
              "1      Dark        13818     31\n",
              "2    Dragon        17617     32\n",
              "3  Electric        19510     44\n",
              "4     Fairy         7024     17"
            ]
          },
          "metadata": {
            "tags": []
          },
          "execution_count": 11
        }
      ]
    },
    {
      "cell_type": "code",
      "metadata": {
        "execution": {
          "iopub.execute_input": "2020-12-19T21:21:27.152014Z",
          "iopub.status.busy": "2020-12-19T21:21:27.151009Z",
          "iopub.status.idle": "2020-12-19T21:21:27.185023Z",
          "shell.execute_reply": "2020-12-19T21:21:27.184258Z"
        },
        "papermill": {
          "duration": 0.071643,
          "end_time": "2020-12-19T21:21:27.185137",
          "exception": false,
          "start_time": "2020-12-19T21:21:27.113494",
          "status": "completed"
        },
        "tags": [],
        "colab": {
          "base_uri": "https://localhost:8080/",
          "height": 195
        },
        "id": "cXuIa1QJyRmv",
        "outputId": "d8c173ae-c8cf-48ed-a79a-5ceb6bb40ace"
      },
      "source": [
        "df_tot_type_score['mean_score'] = (df_tot_type_score['Total Score'] / df_tot_type_score['count']).round()\n",
        "df_tot_type_score.head()"
      ],
      "execution_count": 12,
      "outputs": [
        {
          "output_type": "execute_result",
          "data": {
            "text/html": [
              "<div>\n",
              "<style scoped>\n",
              "    .dataframe tbody tr th:only-of-type {\n",
              "        vertical-align: middle;\n",
              "    }\n",
              "\n",
              "    .dataframe tbody tr th {\n",
              "        vertical-align: top;\n",
              "    }\n",
              "\n",
              "    .dataframe thead th {\n",
              "        text-align: right;\n",
              "    }\n",
              "</style>\n",
              "<table border=\"1\" class=\"dataframe\">\n",
              "  <thead>\n",
              "    <tr style=\"text-align: right;\">\n",
              "      <th></th>\n",
              "      <th>Type 1</th>\n",
              "      <th>Total Score</th>\n",
              "      <th>count</th>\n",
              "      <th>mean_score</th>\n",
              "    </tr>\n",
              "  </thead>\n",
              "  <tbody>\n",
              "    <tr>\n",
              "      <th>0</th>\n",
              "      <td>Bug</td>\n",
              "      <td>26146</td>\n",
              "      <td>69</td>\n",
              "      <td>379.0</td>\n",
              "    </tr>\n",
              "    <tr>\n",
              "      <th>1</th>\n",
              "      <td>Dark</td>\n",
              "      <td>13818</td>\n",
              "      <td>31</td>\n",
              "      <td>446.0</td>\n",
              "    </tr>\n",
              "    <tr>\n",
              "      <th>2</th>\n",
              "      <td>Dragon</td>\n",
              "      <td>17617</td>\n",
              "      <td>32</td>\n",
              "      <td>551.0</td>\n",
              "    </tr>\n",
              "    <tr>\n",
              "      <th>3</th>\n",
              "      <td>Electric</td>\n",
              "      <td>19510</td>\n",
              "      <td>44</td>\n",
              "      <td>443.0</td>\n",
              "    </tr>\n",
              "    <tr>\n",
              "      <th>4</th>\n",
              "      <td>Fairy</td>\n",
              "      <td>7024</td>\n",
              "      <td>17</td>\n",
              "      <td>413.0</td>\n",
              "    </tr>\n",
              "  </tbody>\n",
              "</table>\n",
              "</div>"
            ],
            "text/plain": [
              "     Type 1  Total Score  count  mean_score\n",
              "0       Bug        26146     69       379.0\n",
              "1      Dark        13818     31       446.0\n",
              "2    Dragon        17617     32       551.0\n",
              "3  Electric        19510     44       443.0\n",
              "4     Fairy         7024     17       413.0"
            ]
          },
          "metadata": {
            "tags": []
          },
          "execution_count": 12
        }
      ]
    },
    {
      "cell_type": "code",
      "metadata": {
        "execution": {
          "iopub.execute_input": "2020-12-19T21:21:27.250162Z",
          "iopub.status.busy": "2020-12-19T21:21:27.248756Z",
          "iopub.status.idle": "2020-12-19T21:21:27.254636Z",
          "shell.execute_reply": "2020-12-19T21:21:27.255237Z"
        },
        "papermill": {
          "duration": 0.040657,
          "end_time": "2020-12-19T21:21:27.255392",
          "exception": false,
          "start_time": "2020-12-19T21:21:27.214735",
          "status": "completed"
        },
        "tags": [],
        "id": "Jm2tmrWQyRmw"
      },
      "source": [
        "df_tot_type_score = df_tot_type_score.sort_values('count', ascending = False).reset_index()"
      ],
      "execution_count": 13,
      "outputs": []
    },
    {
      "cell_type": "code",
      "metadata": {
        "execution": {
          "iopub.execute_input": "2020-12-19T21:21:27.322327Z",
          "iopub.status.busy": "2020-12-19T21:21:27.321523Z",
          "iopub.status.idle": "2020-12-19T21:21:27.327196Z",
          "shell.execute_reply": "2020-12-19T21:21:27.327807Z"
        },
        "papermill": {
          "duration": 0.039058,
          "end_time": "2020-12-19T21:21:27.327964",
          "exception": false,
          "start_time": "2020-12-19T21:21:27.288906",
          "status": "completed"
        },
        "tags": [],
        "id": "nm5exkYlyRmw"
      },
      "source": [
        "height = []\n",
        "position = []\n",
        "\n",
        "for i in df_tot_type_score['count']:\n",
        "    height.append(i)\n",
        "    \n",
        "for i in range(18):\n",
        "    position.append(i)"
      ],
      "execution_count": 14,
      "outputs": []
    },
    {
      "cell_type": "code",
      "metadata": {
        "execution": {
          "iopub.execute_input": "2020-12-19T21:21:27.393774Z",
          "iopub.status.busy": "2020-12-19T21:21:27.392958Z",
          "iopub.status.idle": "2020-12-19T21:21:27.772586Z",
          "shell.execute_reply": "2020-12-19T21:21:27.771779Z"
        },
        "papermill": {
          "duration": 0.412357,
          "end_time": "2020-12-19T21:21:27.772707",
          "exception": false,
          "start_time": "2020-12-19T21:21:27.360350",
          "status": "completed"
        },
        "tags": [],
        "colab": {
          "base_uri": "https://localhost:8080/",
          "height": 590
        },
        "id": "L-AgYLLqyRmw",
        "outputId": "8b3dcc7e-0102-49e4-99bb-959f62cd4a5a"
      },
      "source": [
        "fig = plt.figure(figsize = (12, 7))\n",
        "\n",
        "ax = fig.add_axes([0, 0, 1, 1])\n",
        "\n",
        "sns.barplot(x = 'Type 1', y = 'count', data = df_tot_type_score)\n",
        "\n",
        "ax.spines['bottom'].set_linewidth(2.5)\n",
        "ax.tick_params(axis='y', labelleft=False, left=None)\n",
        "ax.set_title('Pokemons quantity by type.', fontsize = 18)\n",
        "ax.set_ylabel('')\n",
        "ax.set_xlabel('Pokemon Type', fontsize = 14)\n",
        "\n",
        "for axis in ['top', 'right', 'left']:\n",
        "   ax.spines[axis].set_color(None)\n",
        "\n",
        "for i in range(18):\n",
        "    ax.text(x=position[i]-0.2, y=height[i]+0.2, s=str(height[i]),   \n",
        "           fontsize=12)\n"
      ],
      "execution_count": 15,
      "outputs": [
        {
          "output_type": "display_data",
          "data": {
            "image/png": "[encoded data removed]",
            "text/plain": [
              "<Figure size 864x504 with 1 Axes>"
            ]
          },
          "metadata": {
            "tags": [],
            "needs_background": "light"
          }
        }
      ]
    },
    {
      "cell_type": "code",
      "metadata": {
        "execution": {
          "iopub.execute_input": "2020-12-19T21:21:27.849115Z",
          "iopub.status.busy": "2020-12-19T21:21:27.848309Z",
          "iopub.status.idle": "2020-12-19T21:21:27.862060Z",
          "shell.execute_reply": "2020-12-19T21:21:27.862931Z"
        },
        "papermill": {
          "duration": 0.052636,
          "end_time": "2020-12-19T21:21:27.863268",
          "exception": false,
          "start_time": "2020-12-19T21:21:27.810632",
          "status": "completed"
        },
        "tags": [],
        "id": "xWCrWwAMyRmw"
      },
      "source": [
        "df_tot_type_score = df_tot_type_score.sort_values('mean_score', ascending = False).reset_index()\n",
        "df_tot_type_score.drop(columns = ['level_0','index'], inplace = True)"
      ],
      "execution_count": 16,
      "outputs": []
    },
    {
      "cell_type": "code",
      "metadata": {
        "execution": {
          "iopub.execute_input": "2020-12-19T21:21:27.940129Z",
          "iopub.status.busy": "2020-12-19T21:21:27.939384Z",
          "iopub.status.idle": "2020-12-19T21:21:28.259518Z",
          "shell.execute_reply": "2020-12-19T21:21:28.258940Z"
        },
        "papermill": {
          "duration": 0.361809,
          "end_time": "2020-12-19T21:21:28.259668",
          "exception": false,
          "start_time": "2020-12-19T21:21:27.897859",
          "status": "completed"
        },
        "tags": [],
        "colab": {
          "base_uri": "https://localhost:8080/",
          "height": 590
        },
        "id": "YHrdAQWLyRmx",
        "outputId": "a55dea4d-4a32-4f29-dcfa-26232252002b"
      },
      "source": [
        "fig = plt.figure(figsize = (12, 7))\n",
        "\n",
        "ax = fig.add_axes([0, 0, 1, 1])\n",
        "\n",
        "sns.barplot(x = 'Type 1', y = 'mean_score', data = df_tot_type_score)\n",
        "\n",
        "ax.set_title('Meam Total Score by Pokemon Types.', fontsize = 18)\n",
        "ax.set_xlabel('Pokemon Type', fontsize = 14)\n",
        "ax.set_ylabel('Mean Total Score', fontsize = 14)\n",
        "ax.spines['bottom'].set_linewidth(2.5)\n",
        "\n",
        "ax = ax"
      ],
      "execution_count": 17,
      "outputs": [
        {
          "output_type": "display_data",
          "data": {
            "image/png": "[encoded data removed]",
            "text/plain": [
              "<Figure size 864x504 with 1 Axes>"
            ]
          },
          "metadata": {
            "tags": [],
            "needs_background": "light"
          }
        }
      ]
    },
    {
      "cell_type": "code",
      "metadata": {
        "execution": {
          "iopub.execute_input": "2020-12-19T21:21:28.343266Z",
          "iopub.status.busy": "2020-12-19T21:21:28.342104Z",
          "iopub.status.idle": "2020-12-19T21:21:28.829005Z",
          "shell.execute_reply": "2020-12-19T21:21:28.828059Z"
        },
        "papermill": {
          "duration": 0.532666,
          "end_time": "2020-12-19T21:21:28.829189",
          "exception": false,
          "start_time": "2020-12-19T21:21:28.296523",
          "status": "completed"
        },
        "tags": [],
        "colab": {
          "base_uri": "https://localhost:8080/",
          "height": 446
        },
        "id": "45ES9_K2yRmx",
        "outputId": "f3cdebef-b8ab-4a11-a673-6d7ce2eab0db"
      },
      "source": [
        "fig = plt.figure(figsize = (12, 5))\n",
        "\n",
        "ax = fig.add_axes([0, 0, 1, 1])\n",
        "\n",
        "sns.boxplot(x = df['Type 1'], y = df['Total Score'])\n",
        "\n",
        "ax.set_title('Boxplot - Total Score by Types', fontsize = 18)\n",
        "ax.set_xlabel('Pokemon Types', fontsize = 14)\n",
        "ax.set_ylabel('Total Score', fontsize = 14)\n",
        "\n",
        "ax = ax"
      ],
      "execution_count": 18,
      "outputs": [
        {
          "output_type": "display_data",
          "data": {
            "image/png": "[encoded data removed]",
            "text/plain": [
              "<Figure size 864x360 with 1 Axes>"
            ]
          },
          "metadata": {
            "tags": [],
            "needs_background": "light"
          }
        }
      ]
    },
    {
      "cell_type": "code",
      "metadata": {
        "execution": {
          "iopub.execute_input": "2020-12-19T21:21:28.941166Z",
          "iopub.status.busy": "2020-12-19T21:21:28.940275Z",
          "iopub.status.idle": "2020-12-19T21:21:28.965445Z",
          "shell.execute_reply": "2020-12-19T21:21:28.964432Z"
        },
        "papermill": {
          "duration": 0.085556,
          "end_time": "2020-12-19T21:21:28.965632",
          "exception": false,
          "start_time": "2020-12-19T21:21:28.880076",
          "status": "completed"
        },
        "tags": [],
        "id": "9rTE5P_MyRmx"
      },
      "source": [
        "df_best_by_type = pd.DataFrame(df.groupby('Type 1')['Total Score'].nlargest(1))\n",
        "df_best_by_type.reset_index(inplace = True)"
      ],
      "execution_count": 19,
      "outputs": []
    },
    {
      "cell_type": "code",
      "metadata": {
        "execution": {
          "iopub.execute_input": "2020-12-19T21:21:29.045960Z",
          "iopub.status.busy": "2020-12-19T21:21:29.045290Z",
          "iopub.status.idle": "2020-12-19T21:21:29.058858Z",
          "shell.execute_reply": "2020-12-19T21:21:29.058307Z"
        },
        "papermill": {
          "duration": 0.051059,
          "end_time": "2020-12-19T21:21:29.058986",
          "exception": false,
          "start_time": "2020-12-19T21:21:29.007927",
          "status": "completed"
        },
        "tags": [],
        "colab": {
          "base_uri": "https://localhost:8080/",
          "height": 580
        },
        "id": "W3ddM6qRyRmx",
        "outputId": "4d9f0b14-4fdb-4962-d7c8-9fb6e2c9c66d"
      },
      "source": [
        "df_best_by_type = df_best_by_type.rename(columns = {'level_1': 'Original Index'})\n",
        "df_best_by_type"
      ],
      "execution_count": 20,
      "outputs": [
        {
          "output_type": "execute_result",
          "data": {
            "text/html": [
              "<div>\n",
              "<style scoped>\n",
              "    .dataframe tbody tr th:only-of-type {\n",
              "        vertical-align: middle;\n",
              "    }\n",
              "\n",
              "    .dataframe tbody tr th {\n",
              "        vertical-align: top;\n",
              "    }\n",
              "\n",
              "    .dataframe thead th {\n",
              "        text-align: right;\n",
              "    }\n",
              "</style>\n",
              "<table border=\"1\" class=\"dataframe\">\n",
              "  <thead>\n",
              "    <tr style=\"text-align: right;\">\n",
              "      <th></th>\n",
              "      <th>Type 1</th>\n",
              "      <th>Original Index</th>\n",
              "      <th>Total Score</th>\n",
              "    </tr>\n",
              "  </thead>\n",
              "  <tbody>\n",
              "    <tr>\n",
              "      <th>0</th>\n",
              "      <td>Bug</td>\n",
              "      <td>137</td>\n",
              "      <td>600</td>\n",
              "    </tr>\n",
              "    <tr>\n",
              "      <th>1</th>\n",
              "      <td>Dark</td>\n",
              "      <td>793</td>\n",
              "      <td>680</td>\n",
              "    </tr>\n",
              "    <tr>\n",
              "      <th>2</th>\n",
              "      <td>Dragon</td>\n",
              "      <td>426</td>\n",
              "      <td>780</td>\n",
              "    </tr>\n",
              "    <tr>\n",
              "      <th>3</th>\n",
              "      <td>Electric</td>\n",
              "      <td>196</td>\n",
              "      <td>610</td>\n",
              "    </tr>\n",
              "    <tr>\n",
              "      <th>4</th>\n",
              "      <td>Fairy</td>\n",
              "      <td>792</td>\n",
              "      <td>680</td>\n",
              "    </tr>\n",
              "    <tr>\n",
              "      <th>5</th>\n",
              "      <td>Fighting</td>\n",
              "      <td>498</td>\n",
              "      <td>625</td>\n",
              "    </tr>\n",
              "    <tr>\n",
              "      <th>6</th>\n",
              "      <td>Fire</td>\n",
              "      <td>270</td>\n",
              "      <td>680</td>\n",
              "    </tr>\n",
              "    <tr>\n",
              "      <th>7</th>\n",
              "      <td>Flying</td>\n",
              "      <td>702</td>\n",
              "      <td>580</td>\n",
              "    </tr>\n",
              "    <tr>\n",
              "      <th>8</th>\n",
              "      <td>Ghost</td>\n",
              "      <td>544</td>\n",
              "      <td>680</td>\n",
              "    </tr>\n",
              "    <tr>\n",
              "      <th>9</th>\n",
              "      <td>Grass</td>\n",
              "      <td>275</td>\n",
              "      <td>630</td>\n",
              "    </tr>\n",
              "    <tr>\n",
              "      <th>10</th>\n",
              "      <td>Ground</td>\n",
              "      <td>424</td>\n",
              "      <td>770</td>\n",
              "    </tr>\n",
              "    <tr>\n",
              "      <th>11</th>\n",
              "      <td>Ice</td>\n",
              "      <td>156</td>\n",
              "      <td>580</td>\n",
              "    </tr>\n",
              "    <tr>\n",
              "      <th>12</th>\n",
              "      <td>Normal</td>\n",
              "      <td>552</td>\n",
              "      <td>720</td>\n",
              "    </tr>\n",
              "    <tr>\n",
              "      <th>13</th>\n",
              "      <td>Poison</td>\n",
              "      <td>183</td>\n",
              "      <td>535</td>\n",
              "    </tr>\n",
              "    <tr>\n",
              "      <th>14</th>\n",
              "      <td>Psychic</td>\n",
              "      <td>163</td>\n",
              "      <td>780</td>\n",
              "    </tr>\n",
              "    <tr>\n",
              "      <th>15</th>\n",
              "      <td>Rock</td>\n",
              "      <td>268</td>\n",
              "      <td>700</td>\n",
              "    </tr>\n",
              "    <tr>\n",
              "      <th>16</th>\n",
              "      <td>Steel</td>\n",
              "      <td>413</td>\n",
              "      <td>700</td>\n",
              "    </tr>\n",
              "    <tr>\n",
              "      <th>17</th>\n",
              "      <td>Water</td>\n",
              "      <td>422</td>\n",
              "      <td>770</td>\n",
              "    </tr>\n",
              "  </tbody>\n",
              "</table>\n",
              "</div>"
            ],
            "text/plain": [
              "      Type 1  Original Index  Total Score\n",
              "0        Bug             137          600\n",
              "1       Dark             793          680\n",
              "2     Dragon             426          780\n",
              "3   Electric             196          610\n",
              "4      Fairy             792          680\n",
              "5   Fighting             498          625\n",
              "6       Fire             270          680\n",
              "7     Flying             702          580\n",
              "8      Ghost             544          680\n",
              "9      Grass             275          630\n",
              "10    Ground             424          770\n",
              "11       Ice             156          580\n",
              "12    Normal             552          720\n",
              "13    Poison             183          535\n",
              "14   Psychic             163          780\n",
              "15      Rock             268          700\n",
              "16     Steel             413          700\n",
              "17     Water             422          770"
            ]
          },
          "metadata": {
            "tags": []
          },
          "execution_count": 20
        }
      ]
    },
    {
      "cell_type": "code",
      "metadata": {
        "execution": {
          "iopub.execute_input": "2020-12-19T21:21:29.140547Z",
          "iopub.status.busy": "2020-12-19T21:21:29.139774Z",
          "iopub.status.idle": "2020-12-19T21:21:29.143275Z",
          "shell.execute_reply": "2020-12-19T21:21:29.142731Z"
        },
        "papermill": {
          "duration": 0.049041,
          "end_time": "2020-12-19T21:21:29.143383",
          "exception": false,
          "start_time": "2020-12-19T21:21:29.094342",
          "status": "completed"
        },
        "tags": [],
        "id": "8mcka9MfyRmy"
      },
      "source": [
        "names = []\n",
        "\n",
        "for index in df_best_by_type['Original Index']:\n",
        "    names.append(df.iloc[index][0])\n",
        "    \n",
        "df_best_by_type['Pokemon'] = names"
      ],
      "execution_count": 21,
      "outputs": []
    },
    {
      "cell_type": "code",
      "metadata": {
        "execution": {
          "iopub.execute_input": "2020-12-19T21:21:29.229762Z",
          "iopub.status.busy": "2020-12-19T21:21:29.228399Z",
          "iopub.status.idle": "2020-12-19T21:21:29.233651Z",
          "shell.execute_reply": "2020-12-19T21:21:29.234284Z"
        },
        "papermill": {
          "duration": 0.055697,
          "end_time": "2020-12-19T21:21:29.234461",
          "exception": false,
          "start_time": "2020-12-19T21:21:29.178764",
          "status": "completed"
        },
        "tags": [],
        "colab": {
          "base_uri": "https://localhost:8080/",
          "height": 580
        },
        "id": "tr6CJF11yRmy",
        "outputId": "6d04dcfb-03e0-4138-96e8-bef46a0643ea"
      },
      "source": [
        "df_best_by_type = df_best_by_type[['Type 1', 'Pokemon', 'Total Score']]\n",
        "df_best_by_type"
      ],
      "execution_count": 22,
      "outputs": [
        {
          "output_type": "execute_result",
          "data": {
            "text/html": [
              "<div>\n",
              "<style scoped>\n",
              "    .dataframe tbody tr th:only-of-type {\n",
              "        vertical-align: middle;\n",
              "    }\n",
              "\n",
              "    .dataframe tbody tr th {\n",
              "        vertical-align: top;\n",
              "    }\n",
              "\n",
              "    .dataframe thead th {\n",
              "        text-align: right;\n",
              "    }\n",
              "</style>\n",
              "<table border=\"1\" class=\"dataframe\">\n",
              "  <thead>\n",
              "    <tr style=\"text-align: right;\">\n",
              "      <th></th>\n",
              "      <th>Type 1</th>\n",
              "      <th>Pokemon</th>\n",
              "      <th>Total Score</th>\n",
              "    </tr>\n",
              "  </thead>\n",
              "  <tbody>\n",
              "    <tr>\n",
              "      <th>0</th>\n",
              "      <td>Bug</td>\n",
              "      <td>PinsirMega Pinsir</td>\n",
              "      <td>600</td>\n",
              "    </tr>\n",
              "    <tr>\n",
              "      <th>1</th>\n",
              "      <td>Dark</td>\n",
              "      <td>Yveltal</td>\n",
              "      <td>680</td>\n",
              "    </tr>\n",
              "    <tr>\n",
              "      <th>2</th>\n",
              "      <td>Dragon</td>\n",
              "      <td>RayquazaMega Rayquaza</td>\n",
              "      <td>780</td>\n",
              "    </tr>\n",
              "    <tr>\n",
              "      <th>3</th>\n",
              "      <td>Electric</td>\n",
              "      <td>AmpharosMega Ampharos</td>\n",
              "      <td>610</td>\n",
              "    </tr>\n",
              "    <tr>\n",
              "      <th>4</th>\n",
              "      <td>Fairy</td>\n",
              "      <td>Xerneas</td>\n",
              "      <td>680</td>\n",
              "    </tr>\n",
              "    <tr>\n",
              "      <th>5</th>\n",
              "      <td>Fighting</td>\n",
              "      <td>LucarioMega Lucario</td>\n",
              "      <td>625</td>\n",
              "    </tr>\n",
              "    <tr>\n",
              "      <th>6</th>\n",
              "      <td>Fire</td>\n",
              "      <td>Ho-oh</td>\n",
              "      <td>680</td>\n",
              "    </tr>\n",
              "    <tr>\n",
              "      <th>7</th>\n",
              "      <td>Flying</td>\n",
              "      <td>TornadusIncarnate Forme</td>\n",
              "      <td>580</td>\n",
              "    </tr>\n",
              "    <tr>\n",
              "      <th>8</th>\n",
              "      <td>Ghost</td>\n",
              "      <td>GiratinaAltered Forme</td>\n",
              "      <td>680</td>\n",
              "    </tr>\n",
              "    <tr>\n",
              "      <th>9</th>\n",
              "      <td>Grass</td>\n",
              "      <td>SceptileMega Sceptile</td>\n",
              "      <td>630</td>\n",
              "    </tr>\n",
              "    <tr>\n",
              "      <th>10</th>\n",
              "      <td>Ground</td>\n",
              "      <td>GroudonPrimal Groudon</td>\n",
              "      <td>770</td>\n",
              "    </tr>\n",
              "    <tr>\n",
              "      <th>11</th>\n",
              "      <td>Ice</td>\n",
              "      <td>Articuno</td>\n",
              "      <td>580</td>\n",
              "    </tr>\n",
              "    <tr>\n",
              "      <th>12</th>\n",
              "      <td>Normal</td>\n",
              "      <td>Arceus</td>\n",
              "      <td>720</td>\n",
              "    </tr>\n",
              "    <tr>\n",
              "      <th>13</th>\n",
              "      <td>Poison</td>\n",
              "      <td>Crobat</td>\n",
              "      <td>535</td>\n",
              "    </tr>\n",
              "    <tr>\n",
              "      <th>14</th>\n",
              "      <td>Psychic</td>\n",
              "      <td>MewtwoMega Mewtwo X</td>\n",
              "      <td>780</td>\n",
              "    </tr>\n",
              "    <tr>\n",
              "      <th>15</th>\n",
              "      <td>Rock</td>\n",
              "      <td>TyranitarMega Tyranitar</td>\n",
              "      <td>700</td>\n",
              "    </tr>\n",
              "    <tr>\n",
              "      <th>16</th>\n",
              "      <td>Steel</td>\n",
              "      <td>MetagrossMega Metagross</td>\n",
              "      <td>700</td>\n",
              "    </tr>\n",
              "    <tr>\n",
              "      <th>17</th>\n",
              "      <td>Water</td>\n",
              "      <td>KyogrePrimal Kyogre</td>\n",
              "      <td>770</td>\n",
              "    </tr>\n",
              "  </tbody>\n",
              "</table>\n",
              "</div>"
            ],
            "text/plain": [
              "      Type 1                  Pokemon  Total Score\n",
              "0        Bug        PinsirMega Pinsir          600\n",
              "1       Dark                  Yveltal          680\n",
              "2     Dragon    RayquazaMega Rayquaza          780\n",
              "3   Electric    AmpharosMega Ampharos          610\n",
              "4      Fairy                  Xerneas          680\n",
              "5   Fighting      LucarioMega Lucario          625\n",
              "6       Fire                    Ho-oh          680\n",
              "7     Flying  TornadusIncarnate Forme          580\n",
              "8      Ghost    GiratinaAltered Forme          680\n",
              "9      Grass    SceptileMega Sceptile          630\n",
              "10    Ground    GroudonPrimal Groudon          770\n",
              "11       Ice                 Articuno          580\n",
              "12    Normal                   Arceus          720\n",
              "13    Poison                   Crobat          535\n",
              "14   Psychic      MewtwoMega Mewtwo X          780\n",
              "15      Rock  TyranitarMega Tyranitar          700\n",
              "16     Steel  MetagrossMega Metagross          700\n",
              "17     Water      KyogrePrimal Kyogre          770"
            ]
          },
          "metadata": {
            "tags": []
          },
          "execution_count": 22
        }
      ]
    },
    {
      "cell_type": "code",
      "metadata": {
        "execution": {
          "iopub.execute_input": "2020-12-19T21:21:29.315693Z",
          "iopub.status.busy": "2020-12-19T21:21:29.314666Z",
          "iopub.status.idle": "2020-12-19T21:21:29.322473Z",
          "shell.execute_reply": "2020-12-19T21:21:29.321551Z"
        },
        "papermill": {
          "duration": 0.049454,
          "end_time": "2020-12-19T21:21:29.322620",
          "exception": false,
          "start_time": "2020-12-19T21:21:29.273166",
          "status": "completed"
        },
        "tags": [],
        "id": "DmfXLYX8yRmy"
      },
      "source": [
        "height = []\n",
        "position = []\n",
        "\n",
        "for i in df_best_by_type['Total Score']:\n",
        "    height.append(i)\n",
        "    \n",
        "for i in range(18):\n",
        "    position.append(i)\n",
        "\n",
        "height = sorted(height, reverse = True)"
      ],
      "execution_count": 23,
      "outputs": []
    },
    {
      "cell_type": "code",
      "metadata": {
        "execution": {
          "iopub.execute_input": "2020-12-19T21:21:29.507684Z",
          "iopub.status.busy": "2020-12-19T21:21:29.506663Z",
          "iopub.status.idle": "2020-12-19T21:21:29.883644Z",
          "shell.execute_reply": "2020-12-19T21:21:29.882870Z"
        },
        "papermill": {
          "duration": 0.513019,
          "end_time": "2020-12-19T21:21:29.883775",
          "exception": false,
          "start_time": "2020-12-19T21:21:29.370756",
          "status": "completed"
        },
        "tags": [],
        "colab": {
          "base_uri": "https://localhost:8080/",
          "height": 713
        },
        "id": "8J5Y4nKUyRmy",
        "outputId": "f9a9564d-7175-48e6-b9df-a093fe5995d7"
      },
      "source": [
        "fig = plt.figure(figsize = (12, 7))\n",
        "\n",
        "ax = fig.add_axes([0, 0, 1, 1])\n",
        "\n",
        "sns.barplot(x = 'Pokemon', y = 'Total Score', data = df_best_by_type.sort_values('Total Score', ascending = False))\n",
        "\n",
        "ax.set_title('Best Pokemon by Type', fontsize = 18)\n",
        "ax.set_xlabel('Pokemon Type', fontsize = 14)\n",
        "ax.set_ylabel('Total Score', fontsize = 14)\n",
        "ax.spines['bottom'].set_linewidth(2.5)\n",
        "ax.set_xticklabels(ax.get_xticklabels(),rotation = 90)\n",
        "\n",
        "for i in range(18):\n",
        "    ax.text(x=position[i]-0.2, y=height[i]+1, s=str(height[i]),   \n",
        "           fontsize=12)\n",
        "\n",
        "\n",
        "ax = ax"
      ],
      "execution_count": 24,
      "outputs": [
        {
          "output_type": "display_data",
          "data": {
            "image/png": "[encoded data removed]",
            "text/plain": [
              "<Figure size 864x504 with 1 Axes>"
            ]
          },
          "metadata": {
            "tags": [],
            "needs_background": "light"
          }
        }
      ]
    },
    {
      "cell_type": "code",
      "metadata": {
        "execution": {
          "iopub.execute_input": "2020-12-19T21:21:29.971090Z",
          "iopub.status.busy": "2020-12-19T21:21:29.970419Z",
          "iopub.status.idle": "2020-12-19T21:21:29.980394Z",
          "shell.execute_reply": "2020-12-19T21:21:29.979774Z"
        },
        "papermill": {
          "duration": 0.056054,
          "end_time": "2020-12-19T21:21:29.980514",
          "exception": false,
          "start_time": "2020-12-19T21:21:29.924460",
          "status": "completed"
        },
        "tags": [],
        "colab": {
          "base_uri": "https://localhost:8080/"
        },
        "id": "Ct0KZRVZyRmz",
        "outputId": "4152df97-73e3-4b0c-84f7-458087af081f"
      },
      "source": [
        "best_by_skill = []\n",
        "\n",
        "for skill in df.columns[3:9]:\n",
        "    best = df[f'{skill}'].nlargest(1)\n",
        "    best_by_skill.append(best)\n",
        "\n",
        "best_by_skill"
      ],
      "execution_count": 25,
      "outputs": [
        {
          "output_type": "execute_result",
          "data": {
            "text/plain": [
              "[261    255\n",
              " Name: HP, dtype: int64, 163    190\n",
              " Name: Attack, dtype: int64, 224    230\n",
              " Name: Defense, dtype: int64, 164    194\n",
              " Name: Sp. Atk, dtype: int64, 230    230\n",
              " Name: Sp. Def, dtype: int64, 431    180\n",
              " Name: Speed, dtype: int64]"
            ]
          },
          "metadata": {
            "tags": []
          },
          "execution_count": 25
        }
      ]
    },
    {
      "cell_type": "code",
      "metadata": {
        "execution": {
          "iopub.execute_input": "2020-12-19T21:21:30.064630Z",
          "iopub.status.busy": "2020-12-19T21:21:30.063682Z",
          "iopub.status.idle": "2020-12-19T21:21:30.067201Z",
          "shell.execute_reply": "2020-12-19T21:21:30.066555Z"
        },
        "papermill": {
          "duration": 0.047812,
          "end_time": "2020-12-19T21:21:30.067313",
          "exception": false,
          "start_time": "2020-12-19T21:21:30.019501",
          "status": "completed"
        },
        "tags": [],
        "id": "JuJ-gBPAyRmz"
      },
      "source": [
        "df_top_by_skill = df.iloc[[261, 163, 224, 164, 230, 441]]"
      ],
      "execution_count": 26,
      "outputs": []
    },
    {
      "cell_type": "code",
      "metadata": {
        "execution": {
          "iopub.execute_input": "2020-12-19T21:21:30.162492Z",
          "iopub.status.busy": "2020-12-19T21:21:30.161143Z",
          "iopub.status.idle": "2020-12-19T21:21:30.164901Z",
          "shell.execute_reply": "2020-12-19T21:21:30.165406Z"
        },
        "papermill": {
          "duration": 0.059389,
          "end_time": "2020-12-19T21:21:30.165574",
          "exception": false,
          "start_time": "2020-12-19T21:21:30.106185",
          "status": "completed"
        },
        "tags": [],
        "colab": {
          "base_uri": "https://localhost:8080/",
          "height": 225
        },
        "id": "U5UwdFhIyRmz",
        "outputId": "d27ce8d4-7cbc-42a8-bbc9-37344e419597"
      },
      "source": [
        "df_top_by_skill = df_top_by_skill[['Name', 'Type 1', 'HP', 'Attack', 'Defense', 'Sp. Atk',\n",
        "                                   'Sp. Def', 'Speed']]\n",
        "df_top_by_skill"
      ],
      "execution_count": 27,
      "outputs": [
        {
          "output_type": "execute_result",
          "data": {
            "text/html": [
              "<div>\n",
              "<style scoped>\n",
              "    .dataframe tbody tr th:only-of-type {\n",
              "        vertical-align: middle;\n",
              "    }\n",
              "\n",
              "    .dataframe tbody tr th {\n",
              "        vertical-align: top;\n",
              "    }\n",
              "\n",
              "    .dataframe thead th {\n",
              "        text-align: right;\n",
              "    }\n",
              "</style>\n",
              "<table border=\"1\" class=\"dataframe\">\n",
              "  <thead>\n",
              "    <tr style=\"text-align: right;\">\n",
              "      <th></th>\n",
              "      <th>Name</th>\n",
              "      <th>Type 1</th>\n",
              "      <th>HP</th>\n",
              "      <th>Attack</th>\n",
              "      <th>Defense</th>\n",
              "      <th>Sp. Atk</th>\n",
              "      <th>Sp. Def</th>\n",
              "      <th>Speed</th>\n",
              "    </tr>\n",
              "  </thead>\n",
              "  <tbody>\n",
              "    <tr>\n",
              "      <th>261</th>\n",
              "      <td>Blissey</td>\n",
              "      <td>Normal</td>\n",
              "      <td>255</td>\n",
              "      <td>10</td>\n",
              "      <td>10</td>\n",
              "      <td>75</td>\n",
              "      <td>135</td>\n",
              "      <td>55</td>\n",
              "    </tr>\n",
              "    <tr>\n",
              "      <th>163</th>\n",
              "      <td>MewtwoMega Mewtwo X</td>\n",
              "      <td>Psychic</td>\n",
              "      <td>106</td>\n",
              "      <td>190</td>\n",
              "      <td>100</td>\n",
              "      <td>154</td>\n",
              "      <td>100</td>\n",
              "      <td>130</td>\n",
              "    </tr>\n",
              "    <tr>\n",
              "      <th>224</th>\n",
              "      <td>SteelixMega Steelix</td>\n",
              "      <td>Steel</td>\n",
              "      <td>75</td>\n",
              "      <td>125</td>\n",
              "      <td>230</td>\n",
              "      <td>55</td>\n",
              "      <td>95</td>\n",
              "      <td>30</td>\n",
              "    </tr>\n",
              "    <tr>\n",
              "      <th>164</th>\n",
              "      <td>MewtwoMega Mewtwo Y</td>\n",
              "      <td>Psychic</td>\n",
              "      <td>106</td>\n",
              "      <td>150</td>\n",
              "      <td>70</td>\n",
              "      <td>194</td>\n",
              "      <td>120</td>\n",
              "      <td>140</td>\n",
              "    </tr>\n",
              "    <tr>\n",
              "      <th>230</th>\n",
              "      <td>Shuckle</td>\n",
              "      <td>Bug</td>\n",
              "      <td>20</td>\n",
              "      <td>10</td>\n",
              "      <td>230</td>\n",
              "      <td>10</td>\n",
              "      <td>230</td>\n",
              "      <td>5</td>\n",
              "    </tr>\n",
              "    <tr>\n",
              "      <th>441</th>\n",
              "      <td>Starly</td>\n",
              "      <td>Normal</td>\n",
              "      <td>40</td>\n",
              "      <td>55</td>\n",
              "      <td>30</td>\n",
              "      <td>30</td>\n",
              "      <td>30</td>\n",
              "      <td>60</td>\n",
              "    </tr>\n",
              "  </tbody>\n",
              "</table>\n",
              "</div>"
            ],
            "text/plain": [
              "                    Name   Type 1   HP  ...  Sp. Atk  Sp. Def  Speed\n",
              "261              Blissey   Normal  255  ...       75      135     55\n",
              "163  MewtwoMega Mewtwo X  Psychic  106  ...      154      100    130\n",
              "224  SteelixMega Steelix    Steel   75  ...       55       95     30\n",
              "164  MewtwoMega Mewtwo Y  Psychic  106  ...      194      120    140\n",
              "230              Shuckle      Bug   20  ...       10      230      5\n",
              "441               Starly   Normal   40  ...       30       30     60\n",
              "\n",
              "[6 rows x 8 columns]"
            ]
          },
          "metadata": {
            "tags": []
          },
          "execution_count": 27
        }
      ]
    },
    {
      "cell_type": "code",
      "metadata": {
        "execution": {
          "iopub.execute_input": "2020-12-19T21:21:30.250020Z",
          "iopub.status.busy": "2020-12-19T21:21:30.249147Z",
          "iopub.status.idle": "2020-12-19T21:21:30.251530Z",
          "shell.execute_reply": "2020-12-19T21:21:30.252015Z"
        },
        "papermill": {
          "duration": 0.047716,
          "end_time": "2020-12-19T21:21:30.252160",
          "exception": false,
          "start_time": "2020-12-19T21:21:30.204444",
          "status": "completed"
        },
        "tags": [],
        "id": "YjqJe6XsyRmz"
      },
      "source": [
        "top_by_skill = {'HP': 'Blissey', 'Attack': 'MewtwoMega Mewtwo X', 'Defence': 'SteelixMega Steelix',\n",
        "               'Sp. Atk': 'MewtwoMega Mewtwo Y', 'Sp. Def': 'Shuckle', 'Speed': 'Starly'}\n"
      ],
      "execution_count": 28,
      "outputs": []
    },
    {
      "cell_type": "code",
      "metadata": {
        "execution": {
          "iopub.execute_input": "2020-12-19T21:21:30.336496Z",
          "iopub.status.busy": "2020-12-19T21:21:30.335855Z",
          "iopub.status.idle": "2020-12-19T21:21:30.637496Z",
          "shell.execute_reply": "2020-12-19T21:21:30.636805Z"
        },
        "papermill": {
          "duration": 0.346922,
          "end_time": "2020-12-19T21:21:30.637682",
          "exception": false,
          "start_time": "2020-12-19T21:21:30.290760",
          "status": "completed"
        },
        "tags": [],
        "colab": {
          "base_uri": "https://localhost:8080/",
          "height": 340
        },
        "id": "D4c9Jo1ZyRm0",
        "outputId": "3920734b-9389-4e7a-f499-25256e2b93d2"
      },
      "source": [
        "df_top_by_skill.plot(kind = 'bar', figsize = (16, 5), rot = 0)\n",
        "\n",
        "plt.title('Best Pokemon by Hability', fontsize = 18)\n",
        "plt.xticks(range(6), df_top_by_skill['Name'])\n",
        "plt.show()"
      ],
      "execution_count": 29,
      "outputs": [
        {
          "output_type": "display_data",
          "data": {
            "image/png": "[encoded data removed]",
            "text/plain": [
              "<Figure size 1152x360 with 1 Axes>"
            ]
          },
          "metadata": {
            "tags": [],
            "needs_background": "light"
          }
        }
      ]
    },
    {
      "cell_type": "code",
      "metadata": {
        "execution": {
          "iopub.execute_input": "2020-12-19T21:21:30.726929Z",
          "iopub.status.busy": "2020-12-19T21:21:30.726278Z",
          "iopub.status.idle": "2020-12-19T21:21:30.744458Z",
          "shell.execute_reply": "2020-12-19T21:21:30.743851Z"
        },
        "papermill": {
          "duration": 0.063231,
          "end_time": "2020-12-19T21:21:30.744587",
          "exception": false,
          "start_time": "2020-12-19T21:21:30.681356",
          "status": "completed"
        },
        "tags": [],
        "colab": {
          "base_uri": "https://localhost:8080/",
          "height": 377
        },
        "id": "RSMZfqB5yRm0",
        "outputId": "0e4de964-cf9d-4720-e62f-bdee6e5c4e9f"
      },
      "source": [
        "top_10 = df.sort_values('Total Score', ascending = False).head(10)\n",
        "top_10"
      ],
      "execution_count": 30,
      "outputs": [
        {
          "output_type": "execute_result",
          "data": {
            "text/html": [
              "<div>\n",
              "<style scoped>\n",
              "    .dataframe tbody tr th:only-of-type {\n",
              "        vertical-align: middle;\n",
              "    }\n",
              "\n",
              "    .dataframe tbody tr th {\n",
              "        vertical-align: top;\n",
              "    }\n",
              "\n",
              "    .dataframe thead th {\n",
              "        text-align: right;\n",
              "    }\n",
              "</style>\n",
              "<table border=\"1\" class=\"dataframe\">\n",
              "  <thead>\n",
              "    <tr style=\"text-align: right;\">\n",
              "      <th></th>\n",
              "      <th>Name</th>\n",
              "      <th>Type 1</th>\n",
              "      <th>Type 2</th>\n",
              "      <th>HP</th>\n",
              "      <th>Attack</th>\n",
              "      <th>Defense</th>\n",
              "      <th>Sp. Atk</th>\n",
              "      <th>Sp. Def</th>\n",
              "      <th>Speed</th>\n",
              "      <th>Total Score</th>\n",
              "      <th>Generation</th>\n",
              "      <th>Legendary</th>\n",
              "    </tr>\n",
              "  </thead>\n",
              "  <tbody>\n",
              "    <tr>\n",
              "      <th>426</th>\n",
              "      <td>RayquazaMega Rayquaza</td>\n",
              "      <td>Dragon</td>\n",
              "      <td>Flying</td>\n",
              "      <td>105</td>\n",
              "      <td>180</td>\n",
              "      <td>100</td>\n",
              "      <td>180</td>\n",
              "      <td>100</td>\n",
              "      <td>115</td>\n",
              "      <td>780</td>\n",
              "      <td>3</td>\n",
              "      <td>True</td>\n",
              "    </tr>\n",
              "    <tr>\n",
              "      <th>164</th>\n",
              "      <td>MewtwoMega Mewtwo Y</td>\n",
              "      <td>Psychic</td>\n",
              "      <td>NaN</td>\n",
              "      <td>106</td>\n",
              "      <td>150</td>\n",
              "      <td>70</td>\n",
              "      <td>194</td>\n",
              "      <td>120</td>\n",
              "      <td>140</td>\n",
              "      <td>780</td>\n",
              "      <td>1</td>\n",
              "      <td>True</td>\n",
              "    </tr>\n",
              "    <tr>\n",
              "      <th>163</th>\n",
              "      <td>MewtwoMega Mewtwo X</td>\n",
              "      <td>Psychic</td>\n",
              "      <td>Fighting</td>\n",
              "      <td>106</td>\n",
              "      <td>190</td>\n",
              "      <td>100</td>\n",
              "      <td>154</td>\n",
              "      <td>100</td>\n",
              "      <td>130</td>\n",
              "      <td>780</td>\n",
              "      <td>1</td>\n",
              "      <td>True</td>\n",
              "    </tr>\n",
              "    <tr>\n",
              "      <th>422</th>\n",
              "      <td>KyogrePrimal Kyogre</td>\n",
              "      <td>Water</td>\n",
              "      <td>NaN</td>\n",
              "      <td>100</td>\n",
              "      <td>150</td>\n",
              "      <td>90</td>\n",
              "      <td>180</td>\n",
              "      <td>160</td>\n",
              "      <td>90</td>\n",
              "      <td>770</td>\n",
              "      <td>3</td>\n",
              "      <td>True</td>\n",
              "    </tr>\n",
              "    <tr>\n",
              "      <th>424</th>\n",
              "      <td>GroudonPrimal Groudon</td>\n",
              "      <td>Ground</td>\n",
              "      <td>Fire</td>\n",
              "      <td>100</td>\n",
              "      <td>180</td>\n",
              "      <td>160</td>\n",
              "      <td>150</td>\n",
              "      <td>90</td>\n",
              "      <td>90</td>\n",
              "      <td>770</td>\n",
              "      <td>3</td>\n",
              "      <td>True</td>\n",
              "    </tr>\n",
              "    <tr>\n",
              "      <th>552</th>\n",
              "      <td>Arceus</td>\n",
              "      <td>Normal</td>\n",
              "      <td>NaN</td>\n",
              "      <td>120</td>\n",
              "      <td>120</td>\n",
              "      <td>120</td>\n",
              "      <td>120</td>\n",
              "      <td>120</td>\n",
              "      <td>120</td>\n",
              "      <td>720</td>\n",
              "      <td>4</td>\n",
              "      <td>True</td>\n",
              "    </tr>\n",
              "    <tr>\n",
              "      <th>712</th>\n",
              "      <td>KyuremWhite Kyurem</td>\n",
              "      <td>Dragon</td>\n",
              "      <td>Ice</td>\n",
              "      <td>125</td>\n",
              "      <td>120</td>\n",
              "      <td>90</td>\n",
              "      <td>170</td>\n",
              "      <td>100</td>\n",
              "      <td>95</td>\n",
              "      <td>700</td>\n",
              "      <td>5</td>\n",
              "      <td>True</td>\n",
              "    </tr>\n",
              "    <tr>\n",
              "      <th>711</th>\n",
              "      <td>KyuremBlack Kyurem</td>\n",
              "      <td>Dragon</td>\n",
              "      <td>Ice</td>\n",
              "      <td>125</td>\n",
              "      <td>170</td>\n",
              "      <td>100</td>\n",
              "      <td>120</td>\n",
              "      <td>90</td>\n",
              "      <td>95</td>\n",
              "      <td>700</td>\n",
              "      <td>5</td>\n",
              "      <td>True</td>\n",
              "    </tr>\n",
              "    <tr>\n",
              "      <th>409</th>\n",
              "      <td>SalamenceMega Salamence</td>\n",
              "      <td>Dragon</td>\n",
              "      <td>Flying</td>\n",
              "      <td>95</td>\n",
              "      <td>145</td>\n",
              "      <td>130</td>\n",
              "      <td>120</td>\n",
              "      <td>90</td>\n",
              "      <td>120</td>\n",
              "      <td>700</td>\n",
              "      <td>3</td>\n",
              "      <td>False</td>\n",
              "    </tr>\n",
              "    <tr>\n",
              "      <th>413</th>\n",
              "      <td>MetagrossMega Metagross</td>\n",
              "      <td>Steel</td>\n",
              "      <td>Psychic</td>\n",
              "      <td>80</td>\n",
              "      <td>145</td>\n",
              "      <td>150</td>\n",
              "      <td>105</td>\n",
              "      <td>110</td>\n",
              "      <td>110</td>\n",
              "      <td>700</td>\n",
              "      <td>3</td>\n",
              "      <td>False</td>\n",
              "    </tr>\n",
              "  </tbody>\n",
              "</table>\n",
              "</div>"
            ],
            "text/plain": [
              "                        Name   Type 1  ... Generation  Legendary\n",
              "426    RayquazaMega Rayquaza   Dragon  ...          3       True\n",
              "164      MewtwoMega Mewtwo Y  Psychic  ...          1       True\n",
              "163      MewtwoMega Mewtwo X  Psychic  ...          1       True\n",
              "422      KyogrePrimal Kyogre    Water  ...          3       True\n",
              "424    GroudonPrimal Groudon   Ground  ...          3       True\n",
              "552                   Arceus   Normal  ...          4       True\n",
              "712       KyuremWhite Kyurem   Dragon  ...          5       True\n",
              "711       KyuremBlack Kyurem   Dragon  ...          5       True\n",
              "409  SalamenceMega Salamence   Dragon  ...          3      False\n",
              "413  MetagrossMega Metagross    Steel  ...          3      False\n",
              "\n",
              "[10 rows x 12 columns]"
            ]
          },
          "metadata": {
            "tags": []
          },
          "execution_count": 30
        }
      ]
    },
    {
      "cell_type": "code",
      "metadata": {
        "execution": {
          "iopub.execute_input": "2020-12-19T21:21:30.847849Z",
          "iopub.status.busy": "2020-12-19T21:21:30.847075Z",
          "iopub.status.idle": "2020-12-19T21:21:30.852089Z",
          "shell.execute_reply": "2020-12-19T21:21:30.851521Z"
        },
        "papermill": {
          "duration": 0.065014,
          "end_time": "2020-12-19T21:21:30.852199",
          "exception": false,
          "start_time": "2020-12-19T21:21:30.787185",
          "status": "completed"
        },
        "tags": [],
        "colab": {
          "base_uri": "https://localhost:8080/",
          "height": 343
        },
        "id": "h5QeQuYxyRm0",
        "outputId": "d3720a6c-e0d4-4166-caff-7cd3d87c7426"
      },
      "source": [
        "top_10 = top_10[['Name','HP', 'Attack','Defense','Sp. Atk','Sp. Def','Speed']]\n",
        "top_10"
      ],
      "execution_count": 31,
      "outputs": [
        {
          "output_type": "execute_result",
          "data": {
            "text/html": [
              "<div>\n",
              "<style scoped>\n",
              "    .dataframe tbody tr th:only-of-type {\n",
              "        vertical-align: middle;\n",
              "    }\n",
              "\n",
              "    .dataframe tbody tr th {\n",
              "        vertical-align: top;\n",
              "    }\n",
              "\n",
              "    .dataframe thead th {\n",
              "        text-align: right;\n",
              "    }\n",
              "</style>\n",
              "<table border=\"1\" class=\"dataframe\">\n",
              "  <thead>\n",
              "    <tr style=\"text-align: right;\">\n",
              "      <th></th>\n",
              "      <th>Name</th>\n",
              "      <th>HP</th>\n",
              "      <th>Attack</th>\n",
              "      <th>Defense</th>\n",
              "      <th>Sp. Atk</th>\n",
              "      <th>Sp. Def</th>\n",
              "      <th>Speed</th>\n",
              "    </tr>\n",
              "  </thead>\n",
              "  <tbody>\n",
              "    <tr>\n",
              "      <th>426</th>\n",
              "      <td>RayquazaMega Rayquaza</td>\n",
              "      <td>105</td>\n",
              "      <td>180</td>\n",
              "      <td>100</td>\n",
              "      <td>180</td>\n",
              "      <td>100</td>\n",
              "      <td>115</td>\n",
              "    </tr>\n",
              "    <tr>\n",
              "      <th>164</th>\n",
              "      <td>MewtwoMega Mewtwo Y</td>\n",
              "      <td>106</td>\n",
              "      <td>150</td>\n",
              "      <td>70</td>\n",
              "      <td>194</td>\n",
              "      <td>120</td>\n",
              "      <td>140</td>\n",
              "    </tr>\n",
              "    <tr>\n",
              "      <th>163</th>\n",
              "      <td>MewtwoMega Mewtwo X</td>\n",
              "      <td>106</td>\n",
              "      <td>190</td>\n",
              "      <td>100</td>\n",
              "      <td>154</td>\n",
              "      <td>100</td>\n",
              "      <td>130</td>\n",
              "    </tr>\n",
              "    <tr>\n",
              "      <th>422</th>\n",
              "      <td>KyogrePrimal Kyogre</td>\n",
              "      <td>100</td>\n",
              "      <td>150</td>\n",
              "      <td>90</td>\n",
              "      <td>180</td>\n",
              "      <td>160</td>\n",
              "      <td>90</td>\n",
              "    </tr>\n",
              "    <tr>\n",
              "      <th>424</th>\n",
              "      <td>GroudonPrimal Groudon</td>\n",
              "      <td>100</td>\n",
              "      <td>180</td>\n",
              "      <td>160</td>\n",
              "      <td>150</td>\n",
              "      <td>90</td>\n",
              "      <td>90</td>\n",
              "    </tr>\n",
              "    <tr>\n",
              "      <th>552</th>\n",
              "      <td>Arceus</td>\n",
              "      <td>120</td>\n",
              "      <td>120</td>\n",
              "      <td>120</td>\n",
              "      <td>120</td>\n",
              "      <td>120</td>\n",
              "      <td>120</td>\n",
              "    </tr>\n",
              "    <tr>\n",
              "      <th>712</th>\n",
              "      <td>KyuremWhite Kyurem</td>\n",
              "      <td>125</td>\n",
              "      <td>120</td>\n",
              "      <td>90</td>\n",
              "      <td>170</td>\n",
              "      <td>100</td>\n",
              "      <td>95</td>\n",
              "    </tr>\n",
              "    <tr>\n",
              "      <th>711</th>\n",
              "      <td>KyuremBlack Kyurem</td>\n",
              "      <td>125</td>\n",
              "      <td>170</td>\n",
              "      <td>100</td>\n",
              "      <td>120</td>\n",
              "      <td>90</td>\n",
              "      <td>95</td>\n",
              "    </tr>\n",
              "    <tr>\n",
              "      <th>409</th>\n",
              "      <td>SalamenceMega Salamence</td>\n",
              "      <td>95</td>\n",
              "      <td>145</td>\n",
              "      <td>130</td>\n",
              "      <td>120</td>\n",
              "      <td>90</td>\n",
              "      <td>120</td>\n",
              "    </tr>\n",
              "    <tr>\n",
              "      <th>413</th>\n",
              "      <td>MetagrossMega Metagross</td>\n",
              "      <td>80</td>\n",
              "      <td>145</td>\n",
              "      <td>150</td>\n",
              "      <td>105</td>\n",
              "      <td>110</td>\n",
              "      <td>110</td>\n",
              "    </tr>\n",
              "  </tbody>\n",
              "</table>\n",
              "</div>"
            ],
            "text/plain": [
              "                        Name   HP  Attack  Defense  Sp. Atk  Sp. Def  Speed\n",
              "426    RayquazaMega Rayquaza  105     180      100      180      100    115\n",
              "164      MewtwoMega Mewtwo Y  106     150       70      194      120    140\n",
              "163      MewtwoMega Mewtwo X  106     190      100      154      100    130\n",
              "422      KyogrePrimal Kyogre  100     150       90      180      160     90\n",
              "424    GroudonPrimal Groudon  100     180      160      150       90     90\n",
              "552                   Arceus  120     120      120      120      120    120\n",
              "712       KyuremWhite Kyurem  125     120       90      170      100     95\n",
              "711       KyuremBlack Kyurem  125     170      100      120       90     95\n",
              "409  SalamenceMega Salamence   95     145      130      120       90    120\n",
              "413  MetagrossMega Metagross   80     145      150      105      110    110"
            ]
          },
          "metadata": {
            "tags": []
          },
          "execution_count": 31
        }
      ]
    },
    {
      "cell_type": "code",
      "metadata": {
        "execution": {
          "iopub.execute_input": "2020-12-19T21:21:30.955432Z",
          "iopub.status.busy": "2020-12-19T21:21:30.954416Z",
          "iopub.status.idle": "2020-12-19T21:21:31.375542Z",
          "shell.execute_reply": "2020-12-19T21:21:31.374717Z"
        },
        "papermill": {
          "duration": 0.480736,
          "end_time": "2020-12-19T21:21:31.375714",
          "exception": false,
          "start_time": "2020-12-19T21:21:30.894978",
          "status": "completed"
        },
        "tags": [],
        "colab": {
          "base_uri": "https://localhost:8080/",
          "height": 470
        },
        "id": "4ljEur74yRm1",
        "outputId": "707d9902-7230-402d-db41-58dba4a7a71c"
      },
      "source": [
        "top_10.plot(kind = 'bar', figsize = (16, 5), rot = 90)\n",
        "\n",
        "plt.title('Top 10 Pokemons by Total Score', fontsize = 18)\n",
        "plt.xticks(range(10), top_10['Name'])\n",
        "plt.show()"
      ],
      "execution_count": 32,
      "outputs": [
        {
          "output_type": "display_data",
          "data": {
            "image/png": "[encoded data removed]",
            "text/plain": [
              "<Figure size 1152x360 with 1 Axes>"
            ]
          },
          "metadata": {
            "tags": [],
            "needs_background": "light"
          }
        }
      ]
    }
  ]
}