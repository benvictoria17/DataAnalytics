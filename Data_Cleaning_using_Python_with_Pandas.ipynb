{
  "nbformat": 4,
  "nbformat_minor": 0,
  "metadata": {
    "colab": {
      "name": " Data Cleaning using Python with Pandas",
      "private_outputs": true,
      "provenance": []
    },
    "kernelspec": {
      "name": "python3",
      "display_name": "Python 3"
    },
    "language_info": {
      "name": "python"
    }
  },
  "cells": [
    {
      "cell_type": "code",
      "metadata": {
        "id": "7dQQAGAVI-fu"
      },
      "source": [
        "import pandas as pd\n",
        "import numpy as np"
      ],
      "execution_count": null,
      "outputs": []
    },
    {
      "cell_type": "code",
      "metadata": {
        "id": "8tpcq0ZOKFWF"
      },
      "source": [
        "df = pd.read_csv(\"https://raw.githubusercontent.com/benvictoria17/DataVisualization/master/dataset/heart.csv\")\n",
        "df.head(5)"
      ],
      "execution_count": null,
      "outputs": []
    },
    {
      "cell_type": "code",
      "metadata": {
        "id": "mgvme5vlKRFT"
      },
      "source": [
        "to_drop = ['cp',\n",
        "          'fbs',\n",
        "          'restecg',\n",
        "          'thalach',\n",
        "          'exang',\n",
        "          'oldpeak',\n",
        "          'slope',\n",
        "          'thal',\n",
        "           'target', \n",
        "          'ca']\n",
        "\n",
        "df.drop(to_drop, inplace = True, axis = 1)\n",
        "df.head(5)"
      ],
      "execution_count": null,
      "outputs": []
    },
    {
      "cell_type": "code",
      "metadata": {
        "id": "Kc0DyWqYKRHx"
      },
      "source": [
        "# Renaming the column names\n",
        "new_name = {'age': 'Age',\n",
        "           'sex': 'Sex',\n",
        "           'trestbps': 'Bps',\n",
        "           'chol': 'Cholesterol'\n",
        "            }\n",
        "\n",
        "df.rename(columns = new_name, inplace = True)\n",
        "df.head()"
      ],
      "execution_count": null,
      "outputs": []
    },
    {
      "cell_type": "code",
      "metadata": {
        "id": "VrEL_PulKXx6"
      },
      "source": [
        "replace_values = {0: 'F', 1: 'M'}\n",
        "\n",
        "df = df.replace({\"Sex\": replace_values})                                                                                             \n",
        "\n",
        "df.head()"
      ],
      "execution_count": null,
      "outputs": []
    }
  ]
}