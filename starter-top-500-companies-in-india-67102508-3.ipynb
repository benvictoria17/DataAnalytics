{
 "cells": [
  {
   "cell_type": "code",
   "execution_count": 1,
   "id": "f7243ed9",
   "metadata": {
    "_cell_guid": "b1076dfc-b9ad-4769-8c92-a6c4dae69d19",
    "_uuid": "8f2839f25d086af736a60e9eeb907d3b93b6e0e5",
    "execution": {
     "iopub.execute_input": "2021-12-04T18:37:59.368945Z",
     "iopub.status.busy": "2021-12-04T18:37:59.368251Z",
     "iopub.status.idle": "2021-12-04T18:38:00.347219Z",
     "shell.execute_reply": "2021-12-04T18:38:00.346552Z",
     "shell.execute_reply.started": "2021-12-04T18:35:33.228209Z"
    },
    "papermill": {
     "duration": 0.995502,
     "end_time": "2021-12-04T18:38:00.347384",
     "exception": false,
     "start_time": "2021-12-04T18:37:59.351882",
     "status": "completed"
    },
    "tags": []
   },
   "outputs": [],
   "source": [
    "from mpl_toolkits.mplot3d import Axes3D\n",
    "from sklearn.preprocessing import StandardScaler\n",
    "import matplotlib.pyplot as plt \n",
    "import numpy as np \n",
    "import os \n",
    "import pandas as pd "
   ]
  },
  {
   "cell_type": "code",
   "execution_count": 2,
   "id": "4bb7aaed",
   "metadata": {
    "execution": {
     "iopub.execute_input": "2021-12-04T18:38:00.376611Z",
     "iopub.status.busy": "2021-12-04T18:38:00.375883Z",
     "iopub.status.idle": "2021-12-04T18:38:00.378481Z",
     "shell.execute_reply": "2021-12-04T18:38:00.378030Z",
     "shell.execute_reply.started": "2021-12-04T18:36:02.302834Z"
    },
    "papermill": {
     "duration": 0.025206,
     "end_time": "2021-12-04T18:38:00.378619",
     "exception": false,
     "start_time": "2021-12-04T18:38:00.353413",
     "status": "completed"
    },
    "tags": []
   },
   "outputs": [],
   "source": [
    "\n",
    "def plotPerColumnDistribution(df, nGraphShown, nGraphPerRow):\n",
    "    nunique = df.nunique()\n",
    "    df = df[[col for col in df if nunique[col] > 1 and nunique[col] < 50]] # For displaying purposes, pick columns that have between 1 and 50 unique values\n",
    "    nRow, nCol = df.shape\n",
    "    columnNames = list(df)\n",
    "    nGraphRow = (nCol + nGraphPerRow - 1) / nGraphPerRow\n",
    "    plt.figure(num = None, figsize = (6 * nGraphPerRow, 8 * nGraphRow), dpi = 80, facecolor = 'w', edgecolor = 'k')\n",
    "    for i in range(min(nCol, nGraphShown)):\n",
    "        plt.subplot(nGraphRow, nGraphPerRow, i + 1)\n",
    "        columnDf = df.iloc[:, i]\n",
    "        if (not np.issubdtype(type(columnDf.iloc[0]), np.number)):\n",
    "            valueCounts = columnDf.value_counts()\n",
    "            valueCounts.plot.bar()\n",
    "        else:\n",
    "            columnDf.hist()\n",
    "        plt.ylabel('counts')\n",
    "        plt.xticks(rotation = 90)\n",
    "        plt.title(f'{columnNames[i]} (column {i})')\n",
    "    plt.tight_layout(pad = 1.0, w_pad = 1.0, h_pad = 1.0)\n",
    "    plt.show()\n",
    "# Correlation matrix\n",
    "def plotCorrelationMatrix(df, graphWidth):\n",
    "    filename = df.dataframeName\n",
    "    df = df.dropna('columns') # drop columns with NaN\n",
    "    df = df[[col for col in df if df[col].nunique() > 1]] # keep columns where there are more than 1 unique values\n",
    "    if df.shape[1] < 2:\n",
    "        print(f'No correlation plots shown: The number of non-NaN or constant columns ({df.shape[1]}) is less than 2')\n",
    "        return\n",
    "    corr = df.corr()\n",
    "    plt.figure(num=None, figsize=(graphWidth, graphWidth), dpi=80, facecolor='w', edgecolor='k')\n",
    "    corrMat = plt.matshow(corr, fignum = 1)\n",
    "    plt.xticks(range(len(corr.columns)), corr.columns, rotation=90)\n",
    "    plt.yticks(range(len(corr.columns)), corr.columns)\n",
    "    plt.gca().xaxis.tick_bottom()\n",
    "    plt.colorbar(corrMat)\n",
    "    plt.title(f'Correlation Matrix for {filename}', fontsize=15)\n",
    "    plt.show()\n",
    "# Scatter and density plots\n",
    "def plotScatterMatrix(df, plotSize, textSize):\n",
    "    df = df.select_dtypes(include =[np.number]) # keep only numerical columns\n",
    "    # Remove rows and columns that would lead to df being singular\n",
    "    df = df.dropna('columns')\n",
    "    df = df[[col for col in df if df[col].nunique() > 1]] # keep columns where there are more than 1 unique values\n",
    "    columnNames = list(df)\n",
    "    if len(columnNames) > 10: # reduce the number of columns for matrix inversion of kernel density plots\n",
    "        columnNames = columnNames[:10]\n",
    "    df = df[columnNames]\n",
    "    ax = pd.plotting.scatter_matrix(df, alpha=0.75, figsize=[plotSize, plotSize], diagonal='kde')\n",
    "    corrs = df.corr().values\n",
    "    for i, j in zip(*plt.np.triu_indices_from(ax, k = 1)):\n",
    "        ax[i, j].annotate('Corr. coef = %.3f' % corrs[i, j], (0.8, 0.2), xycoords='axes fraction', ha='center', va='center', size=textSize)\n",
    "    plt.suptitle('Scatter and Density Plot')\n",
    "    plt.show()"
   ]
  },
  {
   "cell_type": "code",
   "execution_count": 3,
   "id": "5a23baa7",
   "metadata": {
    "execution": {
     "iopub.execute_input": "2021-12-04T18:38:00.403171Z",
     "iopub.status.busy": "2021-12-04T18:38:00.402532Z",
     "iopub.status.idle": "2021-12-04T18:38:00.708268Z",
     "shell.execute_reply": "2021-12-04T18:38:00.707722Z",
     "shell.execute_reply.started": "2021-12-04T18:36:22.339197Z"
    },
    "papermill": {
     "duration": 0.324283,
     "end_time": "2021-12-04T18:38:00.708398",
     "exception": false,
     "start_time": "2021-12-04T18:38:00.384115",
     "status": "completed"
    },
    "tags": []
   },
   "outputs": [
    {
     "name": "stdout",
     "output_type": "stream",
     "text": [
      "There are 488 rows and 5 columns\n"
     ]
    }
   ],
   "source": [
    "nRowsRead = 1000 # specify 'None' if want to read whole file\n",
    "df1 = pd.read_csv('https://raw.githubusercontent.com/benvictoria17/AnalyzeStocks/master/dataset/Top%20500%20Companies%20in%20India/Top%20500%20Companies%20-%20India.csv', delimiter=',', nrows = nRowsRead)\n",
    "df1.dataframeName = 'Top 500 Companies - India.csv'\n",
    "nRow, nCol = df1.shape\n",
    "print(f'There are {nRow} rows and {nCol} columns')"
   ]
  },
  {
   "cell_type": "code",
   "execution_count": 4,
   "id": "005f46ed",
   "metadata": {
    "execution": {
     "iopub.execute_input": "2021-12-04T18:38:00.727043Z",
     "iopub.status.busy": "2021-12-04T18:38:00.726361Z",
     "iopub.status.idle": "2021-12-04T18:38:00.741159Z",
     "shell.execute_reply": "2021-12-04T18:38:00.741624Z",
     "shell.execute_reply.started": "2021-12-04T18:36:36.128778Z"
    },
    "papermill": {
     "duration": 0.02726,
     "end_time": "2021-12-04T18:38:00.741786",
     "exception": false,
     "start_time": "2021-12-04T18:38:00.714526",
     "status": "completed"
    },
    "tags": []
   },
   "outputs": [
    {
     "data": {
      "text/html": [
       "<div>\n",
       "<style scoped>\n",
       "    .dataframe tbody tr th:only-of-type {\n",
       "        vertical-align: middle;\n",
       "    }\n",
       "\n",
       "    .dataframe tbody tr th {\n",
       "        vertical-align: top;\n",
       "    }\n",
       "\n",
       "    .dataframe thead th {\n",
       "        text-align: right;\n",
       "    }\n",
       "</style>\n",
       "<table border=\"1\" class=\"dataframe\">\n",
       "  <thead>\n",
       "    <tr style=\"text-align: right;\">\n",
       "      <th></th>\n",
       "      <th>S.No.</th>\n",
       "      <th>Name</th>\n",
       "      <th>Mar Cap - Crore</th>\n",
       "      <th>Sales Qtr - Crore</th>\n",
       "      <th>Unnamed: 4</th>\n",
       "    </tr>\n",
       "  </thead>\n",
       "  <tbody>\n",
       "    <tr>\n",
       "      <th>0</th>\n",
       "      <td>1</td>\n",
       "      <td>Reliance Inds.</td>\n",
       "      <td>583436.72</td>\n",
       "      <td>99810.00</td>\n",
       "      <td>NaN</td>\n",
       "    </tr>\n",
       "    <tr>\n",
       "      <th>1</th>\n",
       "      <td>2</td>\n",
       "      <td>TCS</td>\n",
       "      <td>563709.84</td>\n",
       "      <td>30904.00</td>\n",
       "      <td>NaN</td>\n",
       "    </tr>\n",
       "    <tr>\n",
       "      <th>2</th>\n",
       "      <td>3</td>\n",
       "      <td>HDFC Bank</td>\n",
       "      <td>482953.59</td>\n",
       "      <td>20581.27</td>\n",
       "      <td>NaN</td>\n",
       "    </tr>\n",
       "    <tr>\n",
       "      <th>3</th>\n",
       "      <td>4</td>\n",
       "      <td>ITC</td>\n",
       "      <td>320985.27</td>\n",
       "      <td>9772.02</td>\n",
       "      <td>NaN</td>\n",
       "    </tr>\n",
       "    <tr>\n",
       "      <th>4</th>\n",
       "      <td>5</td>\n",
       "      <td>H D F C</td>\n",
       "      <td>289497.37</td>\n",
       "      <td>16840.51</td>\n",
       "      <td>NaN</td>\n",
       "    </tr>\n",
       "  </tbody>\n",
       "</table>\n",
       "</div>"
      ],
      "text/plain": [
       "   S.No.            Name  Mar Cap - Crore  Sales Qtr - Crore  Unnamed: 4\n",
       "0      1  Reliance Inds.        583436.72           99810.00         NaN\n",
       "1      2             TCS        563709.84           30904.00         NaN\n",
       "2      3       HDFC Bank        482953.59           20581.27         NaN\n",
       "3      4             ITC        320985.27            9772.02         NaN\n",
       "4      5         H D F C        289497.37           16840.51         NaN"
      ]
     },
     "execution_count": 4,
     "metadata": {},
     "output_type": "execute_result"
    }
   ],
   "source": [
    "df1.head()"
   ]
  },
  {
   "cell_type": "code",
   "execution_count": 5,
   "id": "a7de7e0f",
   "metadata": {
    "execution": {
     "iopub.execute_input": "2021-12-04T18:38:00.759367Z",
     "iopub.status.busy": "2021-12-04T18:38:00.756764Z",
     "iopub.status.idle": "2021-12-04T18:38:00.778791Z",
     "shell.execute_reply": "2021-12-04T18:38:00.779241Z",
     "shell.execute_reply.started": "2021-12-04T18:36:58.327749Z"
    },
    "papermill": {
     "duration": 0.031229,
     "end_time": "2021-12-04T18:38:00.779409",
     "exception": false,
     "start_time": "2021-12-04T18:38:00.748180",
     "status": "completed"
    },
    "tags": []
   },
   "outputs": [
    {
     "data": {
      "text/plain": [
       "<Figure size 2400x512 with 0 Axes>"
      ]
     },
     "metadata": {},
     "output_type": "display_data"
    }
   ],
   "source": [
    "plotPerColumnDistribution(df1, 10, 5)"
   ]
  },
  {
   "cell_type": "code",
   "execution_count": 6,
   "id": "77f4ba36",
   "metadata": {
    "execution": {
     "iopub.execute_input": "2021-12-04T18:38:00.805615Z",
     "iopub.status.busy": "2021-12-04T18:38:00.799142Z",
     "iopub.status.idle": "2021-12-04T18:38:01.065173Z",
     "shell.execute_reply": "2021-12-04T18:38:01.064524Z",
     "shell.execute_reply.started": "2021-12-04T18:37:06.691425Z"
    },
    "papermill": {
     "duration": 0.279399,
     "end_time": "2021-12-04T18:38:01.065307",
     "exception": false,
     "start_time": "2021-12-04T18:38:00.785908",
     "status": "completed"
    },
    "tags": []
   },
   "outputs": [
    {
     "name": "stderr",
     "output_type": "stream",
     "text": [
      "/opt/conda/lib/python3.7/site-packages/ipykernel_launcher.py:24: FutureWarning: In a future version of pandas all arguments of DataFrame.dropna will be keyword-only\n"
     ]
    },
    {
     "data": {
      "image/png": "[encoded data removed]",
      "text/plain": [
       "<Figure size 640x640 with 2 Axes>"
      ]
     },
     "metadata": {},
     "output_type": "display_data"
    }
   ],
   "source": [
    "plotCorrelationMatrix(df1, 8)"
   ]
  },
  {
   "cell_type": "code",
   "execution_count": 7,
   "id": "b23ffb4b",
   "metadata": {
    "execution": {
     "iopub.execute_input": "2021-12-04T18:38:01.093107Z",
     "iopub.status.busy": "2021-12-04T18:38:01.092458Z",
     "iopub.status.idle": "2021-12-04T18:38:01.334449Z",
     "shell.execute_reply": "2021-12-04T18:38:01.334899Z",
     "shell.execute_reply.started": "2021-12-04T18:37:18.781927Z"
    },
    "papermill": {
     "duration": 0.262222,
     "end_time": "2021-12-04T18:38:01.335074",
     "exception": false,
     "start_time": "2021-12-04T18:38:01.072852",
     "status": "completed"
    },
    "tags": []
   },
   "outputs": [
    {
     "name": "stderr",
     "output_type": "stream",
     "text": [
      "/opt/conda/lib/python3.7/site-packages/ipykernel_launcher.py:42: FutureWarning: In a future version of pandas all arguments of DataFrame.dropna will be keyword-only\n"
     ]
    },
    {
     "data": {
      "image/png": "[encoded data removed]",
      "text/plain": [
       "<Figure size 648x648 with 1 Axes>"
      ]
     },
     "metadata": {
      "needs_background": "light"
     },
     "output_type": "display_data"
    }
   ],
   "source": [
    "plotScatterMatrix(df1, 9, 10)"
   ]
  }
 ],
 "metadata": {
  "kernelspec": {
   "display_name": "Python 3",
   "language": "python",
   "name": "python3"
  },
  "language_info": {
   "codemirror_mode": {
    "name": "ipython",
    "version": 3
   },
   "file_extension": ".py",
   "mimetype": "text/x-python",
   "name": "python",
   "nbconvert_exporter": "python",
   "pygments_lexer": "ipython3",
   "version": "3.7.12"
  },
  "papermill": {
   "default_parameters": {},
   "duration": 11.080355,
   "end_time": "2021-12-04T18:38:02.054020",
   "environment_variables": {},
   "exception": null,
   "input_path": "__notebook__.ipynb",
   "output_path": "__notebook__.ipynb",
   "parameters": {},
   "start_time": "2021-12-04T18:37:50.973665",
   "version": "2.3.3"
  }
 },
 "nbformat": 4,
 "nbformat_minor": 5
}
