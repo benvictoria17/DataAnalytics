{
 "cells": [
  {
   "cell_type": "code",
   "execution_count": 1,
   "id": "ba7418bd",
   "metadata": {
    "_cell_guid": "b1076dfc-b9ad-4769-8c92-a6c4dae69d19",
    "_uuid": "8f2839f25d086af736a60e9eeb907d3b93b6e0e5",
    "execution": {
     "iopub.execute_input": "2021-12-23T17:45:54.247133Z",
     "iopub.status.busy": "2021-12-23T17:45:54.246159Z",
     "iopub.status.idle": "2021-12-23T17:45:55.292890Z",
     "shell.execute_reply": "2021-12-23T17:45:55.293546Z",
     "shell.execute_reply.started": "2021-12-23T17:45:29.990154Z"
    },
    "papermill": {
     "duration": 1.071268,
     "end_time": "2021-12-23T17:45:55.293862",
     "exception": false,
     "start_time": "2021-12-23T17:45:54.222594",
     "status": "completed"
    },
    "tags": []
   },
   "outputs": [],
   "source": [
    "import pandas as pd \n",
    "import numpy as np \n",
    "import matplotlib.pyplot as plt \n",
    "%matplotlib inline\n",
    "import pickle\n",
    "import warnings\n",
    "warnings.filterwarnings(\"ignore\")\n",
    "import os \n",
    "from sklearn.model_selection import train_test_split\n",
    "from sklearn.metrics import mean_squared_error, r2_score\n",
    "from math import sqrt"
   ]
  },
  {
   "cell_type": "code",
   "execution_count": 2,
   "id": "4ec39f1b",
   "metadata": {
    "execution": {
     "iopub.execute_input": "2021-12-23T17:45:55.316195Z",
     "iopub.status.busy": "2021-12-23T17:45:55.315216Z",
     "iopub.status.idle": "2021-12-23T17:45:55.618820Z",
     "shell.execute_reply": "2021-12-23T17:45:55.618101Z",
     "shell.execute_reply.started": "2021-12-23T17:45:30.000670Z"
    },
    "papermill": {
     "duration": 0.315205,
     "end_time": "2021-12-23T17:45:55.618959",
     "exception": false,
     "start_time": "2021-12-23T17:45:55.303754",
     "status": "completed"
    },
    "tags": []
   },
   "outputs": [],
   "source": [
    "bikes_hour_df = pd.read_csv(\"https://raw.githubusercontent.com/benvictoria17/DataVisualization/master/dataset/Bike%20Sharing%20in%20Washington%20D.C.%20Dataset/hour.csv\")\n",
    "bikes_day_df = pd.read_csv(\"https://raw.githubusercontent.com/benvictoria17/DataVisualization/master/dataset/Bike%20Sharing%20in%20Washington%20D.C.%20Dataset/day.csv\")"
   ]
  },
  {
   "cell_type": "code",
   "execution_count": 3,
   "id": "2bba296b",
   "metadata": {
    "execution": {
     "iopub.execute_input": "2021-12-23T17:45:55.639635Z",
     "iopub.status.busy": "2021-12-23T17:45:55.638682Z",
     "iopub.status.idle": "2021-12-23T17:45:55.740715Z",
     "shell.execute_reply": "2021-12-23T17:45:55.739443Z",
     "shell.execute_reply.started": "2021-12-23T17:45:30.306878Z"
    },
    "papermill": {
     "duration": 0.113586,
     "end_time": "2021-12-23T17:45:55.741010",
     "exception": true,
     "start_time": "2021-12-23T17:45:55.627424",
     "status": "failed"
    },
    "tags": []
   },
   "outputs": [
    {
     "ename": "NameError",
     "evalue": "name 'bike_hour_df' is not defined",
     "output_type": "error",
     "traceback": [
      "\u001b[0;31m---------------------------------------------------------------------------\u001b[0m",
      "\u001b[0;31mNameError\u001b[0m                                 Traceback (most recent call last)",
      "\u001b[0;32m/tmp/ipykernel_20/516875069.py\u001b[0m in \u001b[0;36m<module>\u001b[0;34m\u001b[0m\n\u001b[0;32m----> 1\u001b[0;31m \u001b[0mbike_hour_df\u001b[0m\u001b[0;34m.\u001b[0m\u001b[0mhead\u001b[0m\u001b[0;34m(\u001b[0m\u001b[0;34m)\u001b[0m\u001b[0;34m\u001b[0m\u001b[0;34m\u001b[0m\u001b[0m\n\u001b[0m",
      "\u001b[0;31mNameError\u001b[0m: name 'bike_hour_df' is not defined"
     ]
    }
   ],
   "source": [
    "bike_hour_df.head()"
   ]
  },
  {
   "cell_type": "code",
   "execution_count": null,
   "id": "8b790362",
   "metadata": {
    "execution": {
     "iopub.execute_input": "2021-12-23T17:45:30.329591Z",
     "iopub.status.busy": "2021-12-23T17:45:30.329374Z",
     "iopub.status.idle": "2021-12-23T17:45:30.348236Z",
     "shell.execute_reply": "2021-12-23T17:45:30.347330Z",
     "shell.execute_reply.started": "2021-12-23T17:45:30.329564Z"
    },
    "papermill": {
     "duration": null,
     "end_time": null,
     "exception": null,
     "start_time": null,
     "status": "pending"
    },
    "tags": []
   },
   "outputs": [],
   "source": [
    "bike_hour_df.info()"
   ]
  },
  {
   "cell_type": "code",
   "execution_count": null,
   "id": "f3490f87",
   "metadata": {
    "execution": {
     "iopub.execute_input": "2021-12-23T17:45:30.350123Z",
     "iopub.status.busy": "2021-12-23T17:45:30.349804Z",
     "iopub.status.idle": "2021-12-23T17:45:30.364058Z",
     "shell.execute_reply": "2021-12-23T17:45:30.363341Z",
     "shell.execute_reply.started": "2021-12-23T17:45:30.350070Z"
    },
    "papermill": {
     "duration": null,
     "end_time": null,
     "exception": null,
     "start_time": null,
     "status": "pending"
    },
    "tags": []
   },
   "outputs": [],
   "source": [
    "bike_hour_df['cnt'].describe()"
   ]
  },
  {
   "cell_type": "code",
   "execution_count": null,
   "id": "99ceec32",
   "metadata": {
    "execution": {
     "iopub.execute_input": "2021-12-23T17:45:30.366031Z",
     "iopub.status.busy": "2021-12-23T17:45:30.365487Z",
     "iopub.status.idle": "2021-12-23T17:45:30.619372Z",
     "shell.execute_reply": "2021-12-23T17:45:30.618508Z",
     "shell.execute_reply.started": "2021-12-23T17:45:30.365995Z"
    },
    "papermill": {
     "duration": null,
     "end_time": null,
     "exception": null,
     "start_time": null,
     "status": "pending"
    },
    "tags": []
   },
   "outputs": [],
   "source": [
    "fig, ax = plt.subplots(1)\n",
    "ax.plot(sorted(bike_hour_df['cnt']), color = 'blue', marker = '*', label='cnt')\n",
    "ax.legend(loc= 'upper left')\n",
    "ax.set_ylabel('Sorted Rental Counts', fontsize = 10)\n",
    "fig.suptitle('Recorded Bike Rental Counts', fontsize = 10)"
   ]
  },
  {
   "cell_type": "code",
   "execution_count": null,
   "id": "824cc4ff",
   "metadata": {
    "execution": {
     "iopub.execute_input": "2021-12-23T17:45:30.621773Z",
     "iopub.status.busy": "2021-12-23T17:45:30.620711Z",
     "iopub.status.idle": "2021-12-23T17:45:30.861472Z",
     "shell.execute_reply": "2021-12-23T17:45:30.860507Z",
     "shell.execute_reply.started": "2021-12-23T17:45:30.621720Z"
    },
    "papermill": {
     "duration": null,
     "end_time": null,
     "exception": null,
     "start_time": null,
     "status": "pending"
    },
    "tags": []
   },
   "outputs": [],
   "source": [
    "plt.scatter(bike_hour_df['temp'], bike_hour_df['cnt'])\n",
    "plt.suptitle('Numerical Feature: Cnt v/s temp')\n",
    "plt.xlabel('temp')\n",
    "plt.ylabel('Count of all Biks Rented')"
   ]
  },
  {
   "cell_type": "code",
   "execution_count": null,
   "id": "cac7b63e",
   "metadata": {
    "execution": {
     "iopub.execute_input": "2021-12-23T17:45:30.863533Z",
     "iopub.status.busy": "2021-12-23T17:45:30.862742Z",
     "iopub.status.idle": "2021-12-23T17:45:31.104333Z",
     "shell.execute_reply": "2021-12-23T17:45:31.103352Z",
     "shell.execute_reply.started": "2021-12-23T17:45:30.863487Z"
    },
    "papermill": {
     "duration": null,
     "end_time": null,
     "exception": null,
     "start_time": null,
     "status": "pending"
    },
    "tags": []
   },
   "outputs": [],
   "source": [
    "plt.scatter(bike_hour_df['atemp'], bike_hour_df_raws['cnt'])\n",
    "plt.suptitle('Numerical Feature: Cnt v/s atemp')\n",
    "plt.xlabel('atemp')\n",
    "plt.ylabel('Count of all Biks Rented')"
   ]
  },
  {
   "cell_type": "code",
   "execution_count": null,
   "id": "ea27ddc7",
   "metadata": {
    "execution": {
     "iopub.execute_input": "2021-12-23T17:45:31.106334Z",
     "iopub.status.busy": "2021-12-23T17:45:31.105846Z",
     "iopub.status.idle": "2021-12-23T17:45:31.342225Z",
     "shell.execute_reply": "2021-12-23T17:45:31.341450Z",
     "shell.execute_reply.started": "2021-12-23T17:45:31.106291Z"
    },
    "papermill": {
     "duration": null,
     "end_time": null,
     "exception": null,
     "start_time": null,
     "status": "pending"
    },
    "tags": []
   },
   "outputs": [],
   "source": [
    "plt.scatter(bike_hour_df['hum'], bike_hour_df['cnt'])\n",
    "plt.suptitle('Numerical Feature: Cnt v/s hum')\n",
    "plt.xlabel('hum')\n",
    "plt.ylabel('Count of all Biks Rented')"
   ]
  }
 ],
 "metadata": {
  "kernelspec": {
   "display_name": "Python 3",
   "language": "python",
   "name": "python3"
  },
  "language_info": {
   "codemirror_mode": {
    "name": "ipython",
    "version": 3
   },
   "file_extension": ".py",
   "mimetype": "text/x-python",
   "name": "python",
   "nbconvert_exporter": "python",
   "pygments_lexer": "ipython3",
   "version": "3.7.12"
  },
  "papermill": {
   "default_parameters": {},
   "duration": 12.143505,
   "end_time": "2021-12-23T17:45:56.460782",
   "environment_variables": {},
   "exception": true,
   "input_path": "__notebook__.ipynb",
   "output_path": "__notebook__.ipynb",
   "parameters": {},
   "start_time": "2021-12-23T17:45:44.317277",
   "version": "2.3.3"
  }
 },
 "nbformat": 4,
 "nbformat_minor": 5
}
