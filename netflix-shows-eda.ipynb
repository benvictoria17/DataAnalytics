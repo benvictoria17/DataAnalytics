{
 "cells": [
  {
   "cell_type": "code",
   "execution_count": 1,
   "id": "continued-western",
   "metadata": {
    "_cell_guid": "b1076dfc-b9ad-4769-8c92-a6c4dae69d19",
    "_uuid": "8f2839f25d086af736a60e9eeb907d3b93b6e0e5",
    "execution": {
     "iopub.execute_input": "2021-04-25T18:37:35.039306Z",
     "iopub.status.busy": "2021-04-25T18:37:35.038056Z",
     "iopub.status.idle": "2021-04-25T18:37:36.041420Z",
     "shell.execute_reply": "2021-04-25T18:37:36.041983Z"
    },
    "papermill": {
     "duration": 1.025275,
     "end_time": "2021-04-25T18:37:36.042272",
     "exception": false,
     "start_time": "2021-04-25T18:37:35.016997",
     "status": "completed"
    },
    "tags": []
   },
   "outputs": [],
   "source": [
    "import pandas as pd \n",
    "import numpy as np \n",
    "import matplotlib.pyplot as plt \n",
    "import missingno as msno\n",
    "%matplotlib inline"
   ]
  },
  {
   "cell_type": "code",
   "execution_count": 2,
   "id": "wooden-austin",
   "metadata": {
    "execution": {
     "iopub.execute_input": "2021-04-25T18:37:36.076099Z",
     "iopub.status.busy": "2021-04-25T18:37:36.075520Z",
     "iopub.status.idle": "2021-04-25T18:37:36.694312Z",
     "shell.execute_reply": "2021-04-25T18:37:36.694937Z"
    },
    "papermill": {
     "duration": 0.637125,
     "end_time": "2021-04-25T18:37:36.695112",
     "exception": false,
     "start_time": "2021-04-25T18:37:36.057987",
     "status": "completed"
    },
    "tags": []
   },
   "outputs": [
    {
     "data": {
      "text/html": [
       "<div>\n",
       "<style scoped>\n",
       "    .dataframe tbody tr th:only-of-type {\n",
       "        vertical-align: middle;\n",
       "    }\n",
       "\n",
       "    .dataframe tbody tr th {\n",
       "        vertical-align: top;\n",
       "    }\n",
       "\n",
       "    .dataframe thead th {\n",
       "        text-align: right;\n",
       "    }\n",
       "</style>\n",
       "<table border=\"1\" class=\"dataframe\">\n",
       "  <thead>\n",
       "    <tr style=\"text-align: right;\">\n",
       "      <th></th>\n",
       "      <th>type</th>\n",
       "      <th>title</th>\n",
       "      <th>director</th>\n",
       "      <th>cast</th>\n",
       "      <th>country</th>\n",
       "      <th>date_added</th>\n",
       "      <th>release_year</th>\n",
       "      <th>rating</th>\n",
       "      <th>duration</th>\n",
       "      <th>listed_in</th>\n",
       "      <th>description</th>\n",
       "    </tr>\n",
       "    <tr>\n",
       "      <th>show_id</th>\n",
       "      <th></th>\n",
       "      <th></th>\n",
       "      <th></th>\n",
       "      <th></th>\n",
       "      <th></th>\n",
       "      <th></th>\n",
       "      <th></th>\n",
       "      <th></th>\n",
       "      <th></th>\n",
       "      <th></th>\n",
       "      <th></th>\n",
       "    </tr>\n",
       "  </thead>\n",
       "  <tbody>\n",
       "    <tr>\n",
       "      <th>s1</th>\n",
       "      <td>TV Show</td>\n",
       "      <td>3%</td>\n",
       "      <td>NaN</td>\n",
       "      <td>João Miguel, Bianca Comparato, Michel Gomes, R...</td>\n",
       "      <td>Brazil</td>\n",
       "      <td>August 14, 2020</td>\n",
       "      <td>2020</td>\n",
       "      <td>TV-MA</td>\n",
       "      <td>4 Seasons</td>\n",
       "      <td>International TV Shows, TV Dramas, TV Sci-Fi &amp;...</td>\n",
       "      <td>In a future where the elite inhabit an island ...</td>\n",
       "    </tr>\n",
       "    <tr>\n",
       "      <th>s2</th>\n",
       "      <td>Movie</td>\n",
       "      <td>7:19</td>\n",
       "      <td>Jorge Michel Grau</td>\n",
       "      <td>Demián Bichir, Héctor Bonilla, Oscar Serrano, ...</td>\n",
       "      <td>Mexico</td>\n",
       "      <td>December 23, 2016</td>\n",
       "      <td>2016</td>\n",
       "      <td>TV-MA</td>\n",
       "      <td>93 min</td>\n",
       "      <td>Dramas, International Movies</td>\n",
       "      <td>After a devastating earthquake hits Mexico Cit...</td>\n",
       "    </tr>\n",
       "    <tr>\n",
       "      <th>s3</th>\n",
       "      <td>Movie</td>\n",
       "      <td>23:59</td>\n",
       "      <td>Gilbert Chan</td>\n",
       "      <td>Tedd Chan, Stella Chung, Henley Hii, Lawrence ...</td>\n",
       "      <td>Singapore</td>\n",
       "      <td>December 20, 2018</td>\n",
       "      <td>2011</td>\n",
       "      <td>R</td>\n",
       "      <td>78 min</td>\n",
       "      <td>Horror Movies, International Movies</td>\n",
       "      <td>When an army recruit is found dead, his fellow...</td>\n",
       "    </tr>\n",
       "    <tr>\n",
       "      <th>s4</th>\n",
       "      <td>Movie</td>\n",
       "      <td>9</td>\n",
       "      <td>Shane Acker</td>\n",
       "      <td>Elijah Wood, John C. Reilly, Jennifer Connelly...</td>\n",
       "      <td>United States</td>\n",
       "      <td>November 16, 2017</td>\n",
       "      <td>2009</td>\n",
       "      <td>PG-13</td>\n",
       "      <td>80 min</td>\n",
       "      <td>Action &amp; Adventure, Independent Movies, Sci-Fi...</td>\n",
       "      <td>In a postapocalyptic world, rag-doll robots hi...</td>\n",
       "    </tr>\n",
       "    <tr>\n",
       "      <th>s5</th>\n",
       "      <td>Movie</td>\n",
       "      <td>21</td>\n",
       "      <td>Robert Luketic</td>\n",
       "      <td>Jim Sturgess, Kevin Spacey, Kate Bosworth, Aar...</td>\n",
       "      <td>United States</td>\n",
       "      <td>January 1, 2020</td>\n",
       "      <td>2008</td>\n",
       "      <td>PG-13</td>\n",
       "      <td>123 min</td>\n",
       "      <td>Dramas</td>\n",
       "      <td>A brilliant group of students become card-coun...</td>\n",
       "    </tr>\n",
       "  </tbody>\n",
       "</table>\n",
       "</div>"
      ],
      "text/plain": [
       "            type  title           director  \\\n",
       "show_id                                      \n",
       "s1       TV Show     3%                NaN   \n",
       "s2         Movie   7:19  Jorge Michel Grau   \n",
       "s3         Movie  23:59       Gilbert Chan   \n",
       "s4         Movie      9        Shane Acker   \n",
       "s5         Movie     21     Robert Luketic   \n",
       "\n",
       "                                                      cast        country  \\\n",
       "show_id                                                                     \n",
       "s1       João Miguel, Bianca Comparato, Michel Gomes, R...         Brazil   \n",
       "s2       Demián Bichir, Héctor Bonilla, Oscar Serrano, ...         Mexico   \n",
       "s3       Tedd Chan, Stella Chung, Henley Hii, Lawrence ...      Singapore   \n",
       "s4       Elijah Wood, John C. Reilly, Jennifer Connelly...  United States   \n",
       "s5       Jim Sturgess, Kevin Spacey, Kate Bosworth, Aar...  United States   \n",
       "\n",
       "                date_added  release_year rating   duration  \\\n",
       "show_id                                                      \n",
       "s1         August 14, 2020          2020  TV-MA  4 Seasons   \n",
       "s2       December 23, 2016          2016  TV-MA     93 min   \n",
       "s3       December 20, 2018          2011      R     78 min   \n",
       "s4       November 16, 2017          2009  PG-13     80 min   \n",
       "s5         January 1, 2020          2008  PG-13    123 min   \n",
       "\n",
       "                                                 listed_in  \\\n",
       "show_id                                                      \n",
       "s1       International TV Shows, TV Dramas, TV Sci-Fi &...   \n",
       "s2                            Dramas, International Movies   \n",
       "s3                     Horror Movies, International Movies   \n",
       "s4       Action & Adventure, Independent Movies, Sci-Fi...   \n",
       "s5                                                  Dramas   \n",
       "\n",
       "                                               description  \n",
       "show_id                                                     \n",
       "s1       In a future where the elite inhabit an island ...  \n",
       "s2       After a devastating earthquake hits Mexico Cit...  \n",
       "s3       When an army recruit is found dead, his fellow...  \n",
       "s4       In a postapocalyptic world, rag-doll robots hi...  \n",
       "s5       A brilliant group of students become card-coun...  "
      ]
     },
     "execution_count": 2,
     "metadata": {},
     "output_type": "execute_result"
    }
   ],
   "source": [
    "df = pd.read_csv(\"https://raw.githubusercontent.com/benvictoria17/DataVisualization/master/dataset/NetflixMoviesandTVShows/netflix_titles.csv\", index_col = 'show_id')\n",
    "df.head()"
   ]
  },
  {
   "cell_type": "code",
   "execution_count": 3,
   "id": "existing-spoke",
   "metadata": {
    "execution": {
     "iopub.execute_input": "2021-04-25T18:37:36.730880Z",
     "iopub.status.busy": "2021-04-25T18:37:36.730118Z",
     "iopub.status.idle": "2021-04-25T18:37:36.736635Z",
     "shell.execute_reply": "2021-04-25T18:37:36.736063Z"
    },
    "papermill": {
     "duration": 0.025156,
     "end_time": "2021-04-25T18:37:36.736778",
     "exception": false,
     "start_time": "2021-04-25T18:37:36.711622",
     "status": "completed"
    },
    "tags": []
   },
   "outputs": [
    {
     "data": {
      "text/plain": [
       "(7787, 11)"
      ]
     },
     "execution_count": 3,
     "metadata": {},
     "output_type": "execute_result"
    }
   ],
   "source": [
    "df.shape"
   ]
  },
  {
   "cell_type": "code",
   "execution_count": 4,
   "id": "stuffed-lobby",
   "metadata": {
    "execution": {
     "iopub.execute_input": "2021-04-25T18:37:36.783872Z",
     "iopub.status.busy": "2021-04-25T18:37:36.782849Z",
     "iopub.status.idle": "2021-04-25T18:37:36.804894Z",
     "shell.execute_reply": "2021-04-25T18:37:36.804288Z"
    },
    "papermill": {
     "duration": 0.051841,
     "end_time": "2021-04-25T18:37:36.805062",
     "exception": false,
     "start_time": "2021-04-25T18:37:36.753221",
     "status": "completed"
    },
    "tags": []
   },
   "outputs": [
    {
     "name": "stdout",
     "output_type": "stream",
     "text": [
      "<class 'pandas.core.frame.DataFrame'>\n",
      "Index: 7787 entries, s1 to s7787\n",
      "Data columns (total 11 columns):\n",
      " #   Column        Non-Null Count  Dtype \n",
      "---  ------        --------------  ----- \n",
      " 0   type          7787 non-null   object\n",
      " 1   title         7787 non-null   object\n",
      " 2   director      5398 non-null   object\n",
      " 3   cast          7069 non-null   object\n",
      " 4   country       7280 non-null   object\n",
      " 5   date_added    7777 non-null   object\n",
      " 6   release_year  7787 non-null   int64 \n",
      " 7   rating        7780 non-null   object\n",
      " 8   duration      7787 non-null   object\n",
      " 9   listed_in     7787 non-null   object\n",
      " 10  description   7787 non-null   object\n",
      "dtypes: int64(1), object(10)\n",
      "memory usage: 730.0+ KB\n"
     ]
    }
   ],
   "source": [
    "df.info()"
   ]
  },
  {
   "cell_type": "code",
   "execution_count": 5,
   "id": "viral-motor",
   "metadata": {
    "execution": {
     "iopub.execute_input": "2021-04-25T18:37:36.849893Z",
     "iopub.status.busy": "2021-04-25T18:37:36.843151Z",
     "iopub.status.idle": "2021-04-25T18:37:36.940692Z",
     "shell.execute_reply": "2021-04-25T18:37:36.940125Z"
    },
    "papermill": {
     "duration": 0.118823,
     "end_time": "2021-04-25T18:37:36.940847",
     "exception": false,
     "start_time": "2021-04-25T18:37:36.822024",
     "status": "completed"
    },
    "tags": []
   },
   "outputs": [
    {
     "data": {
      "text/html": [
       "<div>\n",
       "<style scoped>\n",
       "    .dataframe tbody tr th:only-of-type {\n",
       "        vertical-align: middle;\n",
       "    }\n",
       "\n",
       "    .dataframe tbody tr th {\n",
       "        vertical-align: top;\n",
       "    }\n",
       "\n",
       "    .dataframe thead th {\n",
       "        text-align: right;\n",
       "    }\n",
       "</style>\n",
       "<table border=\"1\" class=\"dataframe\">\n",
       "  <thead>\n",
       "    <tr style=\"text-align: right;\">\n",
       "      <th></th>\n",
       "      <th>type</th>\n",
       "      <th>title</th>\n",
       "      <th>director</th>\n",
       "      <th>cast</th>\n",
       "      <th>country</th>\n",
       "      <th>date_added</th>\n",
       "      <th>rating</th>\n",
       "      <th>duration</th>\n",
       "      <th>listed_in</th>\n",
       "      <th>description</th>\n",
       "    </tr>\n",
       "  </thead>\n",
       "  <tbody>\n",
       "    <tr>\n",
       "      <th>count</th>\n",
       "      <td>7787</td>\n",
       "      <td>7787</td>\n",
       "      <td>5398</td>\n",
       "      <td>7069</td>\n",
       "      <td>7280</td>\n",
       "      <td>7777</td>\n",
       "      <td>7780</td>\n",
       "      <td>7787</td>\n",
       "      <td>7787</td>\n",
       "      <td>7787</td>\n",
       "    </tr>\n",
       "    <tr>\n",
       "      <th>unique</th>\n",
       "      <td>2</td>\n",
       "      <td>7787</td>\n",
       "      <td>4049</td>\n",
       "      <td>6831</td>\n",
       "      <td>681</td>\n",
       "      <td>1565</td>\n",
       "      <td>14</td>\n",
       "      <td>216</td>\n",
       "      <td>492</td>\n",
       "      <td>7769</td>\n",
       "    </tr>\n",
       "    <tr>\n",
       "      <th>top</th>\n",
       "      <td>Movie</td>\n",
       "      <td>Upin &amp; Ipin</td>\n",
       "      <td>Raúl Campos, Jan Suter</td>\n",
       "      <td>David Attenborough</td>\n",
       "      <td>United States</td>\n",
       "      <td>January 1, 2020</td>\n",
       "      <td>TV-MA</td>\n",
       "      <td>1 Season</td>\n",
       "      <td>Documentaries</td>\n",
       "      <td>A surly septuagenarian gets another chance at ...</td>\n",
       "    </tr>\n",
       "    <tr>\n",
       "      <th>freq</th>\n",
       "      <td>5377</td>\n",
       "      <td>1</td>\n",
       "      <td>18</td>\n",
       "      <td>18</td>\n",
       "      <td>2555</td>\n",
       "      <td>118</td>\n",
       "      <td>2863</td>\n",
       "      <td>1608</td>\n",
       "      <td>334</td>\n",
       "      <td>3</td>\n",
       "    </tr>\n",
       "  </tbody>\n",
       "</table>\n",
       "</div>"
      ],
      "text/plain": [
       "         type        title                director                cast  \\\n",
       "count    7787         7787                    5398                7069   \n",
       "unique      2         7787                    4049                6831   \n",
       "top     Movie  Upin & Ipin  Raúl Campos, Jan Suter  David Attenborough   \n",
       "freq     5377            1                      18                  18   \n",
       "\n",
       "              country       date_added rating  duration      listed_in  \\\n",
       "count            7280             7777   7780      7787           7787   \n",
       "unique            681             1565     14       216            492   \n",
       "top     United States  January 1, 2020  TV-MA  1 Season  Documentaries   \n",
       "freq             2555              118   2863      1608            334   \n",
       "\n",
       "                                              description  \n",
       "count                                                7787  \n",
       "unique                                               7769  \n",
       "top     A surly septuagenarian gets another chance at ...  \n",
       "freq                                                    3  "
      ]
     },
     "execution_count": 5,
     "metadata": {},
     "output_type": "execute_result"
    }
   ],
   "source": [
    "df.describe(include=[np.object])"
   ]
  },
  {
   "cell_type": "code",
   "execution_count": 6,
   "id": "applicable-seeking",
   "metadata": {
    "execution": {
     "iopub.execute_input": "2021-04-25T18:37:37.007131Z",
     "iopub.status.busy": "2021-04-25T18:37:37.006269Z",
     "iopub.status.idle": "2021-04-25T18:37:37.949944Z",
     "shell.execute_reply": "2021-04-25T18:37:37.950650Z"
    },
    "papermill": {
     "duration": 0.991793,
     "end_time": "2021-04-25T18:37:37.950852",
     "exception": false,
     "start_time": "2021-04-25T18:37:36.959059",
     "status": "completed"
    },
    "tags": []
   },
   "outputs": [
    {
     "data": {
      "text/plain": [
       "<AxesSubplot:>"
      ]
     },
     "execution_count": 6,
     "metadata": {},
     "output_type": "execute_result"
    },
    {
     "data": {
      "image/png": "[encoded data removed]",
      "text/plain": [
       "<Figure size 1728x720 with 3 Axes>"
      ]
     },
     "metadata": {
      "needs_background": "light"
     },
     "output_type": "display_data"
    }
   ],
   "source": [
    "msno.bar(df)"
   ]
  },
  {
   "cell_type": "code",
   "execution_count": 7,
   "id": "prescription-difficulty",
   "metadata": {
    "execution": {
     "iopub.execute_input": "2021-04-25T18:37:37.998637Z",
     "iopub.status.busy": "2021-04-25T18:37:37.997642Z",
     "iopub.status.idle": "2021-04-25T18:37:38.028393Z",
     "shell.execute_reply": "2021-04-25T18:37:38.028894Z"
    },
    "papermill": {
     "duration": 0.056719,
     "end_time": "2021-04-25T18:37:38.029104",
     "exception": false,
     "start_time": "2021-04-25T18:37:37.972385",
     "status": "completed"
    },
    "tags": []
   },
   "outputs": [
    {
     "data": {
      "text/plain": [
       "type            0.0\n",
       "title           0.0\n",
       "director        0.0\n",
       "cast            0.0\n",
       "country         0.0\n",
       "date_added      0.0\n",
       "release_year    0.0\n",
       "rating          0.0\n",
       "duration        0.0\n",
       "listed_in       0.0\n",
       "description     0.0\n",
       "dtype: float64"
      ]
     },
     "execution_count": 7,
     "metadata": {},
     "output_type": "execute_result"
    }
   ],
   "source": [
    "dup = df.duplicated()\n",
    "df[dup].sum()"
   ]
  },
  {
   "cell_type": "code",
   "execution_count": 8,
   "id": "adjustable-requirement",
   "metadata": {
    "execution": {
     "iopub.execute_input": "2021-04-25T18:37:38.073061Z",
     "iopub.status.busy": "2021-04-25T18:37:38.072377Z",
     "iopub.status.idle": "2021-04-25T18:37:38.093711Z",
     "shell.execute_reply": "2021-04-25T18:37:38.094260Z"
    },
    "papermill": {
     "duration": 0.04501,
     "end_time": "2021-04-25T18:37:38.094433",
     "exception": false,
     "start_time": "2021-04-25T18:37:38.049423",
     "status": "completed"
    },
    "tags": []
   },
   "outputs": [
    {
     "data": {
      "text/html": [
       "<div>\n",
       "<style scoped>\n",
       "    .dataframe tbody tr th:only-of-type {\n",
       "        vertical-align: middle;\n",
       "    }\n",
       "\n",
       "    .dataframe tbody tr th {\n",
       "        vertical-align: top;\n",
       "    }\n",
       "\n",
       "    .dataframe thead th {\n",
       "        text-align: right;\n",
       "    }\n",
       "</style>\n",
       "<table border=\"1\" class=\"dataframe\">\n",
       "  <thead>\n",
       "    <tr style=\"text-align: right;\">\n",
       "      <th></th>\n",
       "      <th>type</th>\n",
       "      <th>title</th>\n",
       "      <th>director</th>\n",
       "      <th>cast</th>\n",
       "      <th>country</th>\n",
       "      <th>date_added</th>\n",
       "      <th>release_year</th>\n",
       "      <th>rating</th>\n",
       "      <th>duration</th>\n",
       "      <th>listed_in</th>\n",
       "      <th>description</th>\n",
       "    </tr>\n",
       "    <tr>\n",
       "      <th>show_id</th>\n",
       "      <th></th>\n",
       "      <th></th>\n",
       "      <th></th>\n",
       "      <th></th>\n",
       "      <th></th>\n",
       "      <th></th>\n",
       "      <th></th>\n",
       "      <th></th>\n",
       "      <th></th>\n",
       "      <th></th>\n",
       "      <th></th>\n",
       "    </tr>\n",
       "  </thead>\n",
       "  <tbody>\n",
       "    <tr>\n",
       "      <th>s1</th>\n",
       "      <td>TV Show</td>\n",
       "      <td>3%</td>\n",
       "      <td>NaN</td>\n",
       "      <td>João Miguel, Bianca Comparato, Michel Gomes, R...</td>\n",
       "      <td>Brazil</td>\n",
       "      <td>August 14, 2020</td>\n",
       "      <td>2020</td>\n",
       "      <td>TV-MA</td>\n",
       "      <td>4 Seasons</td>\n",
       "      <td>International TV Shows, TV Dramas, TV Sci-Fi &amp;...</td>\n",
       "      <td>In a future where the elite inhabit an island ...</td>\n",
       "    </tr>\n",
       "    <tr>\n",
       "      <th>s2</th>\n",
       "      <td>Movie</td>\n",
       "      <td>7:19</td>\n",
       "      <td>Jorge Michel Grau</td>\n",
       "      <td>Demián Bichir, Héctor Bonilla, Oscar Serrano, ...</td>\n",
       "      <td>Mexico</td>\n",
       "      <td>December 23, 2016</td>\n",
       "      <td>2016</td>\n",
       "      <td>TV-MA</td>\n",
       "      <td>93 min</td>\n",
       "      <td>Dramas, International Movies</td>\n",
       "      <td>After a devastating earthquake hits Mexico Cit...</td>\n",
       "    </tr>\n",
       "    <tr>\n",
       "      <th>s3</th>\n",
       "      <td>Movie</td>\n",
       "      <td>23:59</td>\n",
       "      <td>Gilbert Chan</td>\n",
       "      <td>Tedd Chan, Stella Chung, Henley Hii, Lawrence ...</td>\n",
       "      <td>Singapore</td>\n",
       "      <td>December 20, 2018</td>\n",
       "      <td>2011</td>\n",
       "      <td>R</td>\n",
       "      <td>78 min</td>\n",
       "      <td>Horror Movies, International Movies</td>\n",
       "      <td>When an army recruit is found dead, his fellow...</td>\n",
       "    </tr>\n",
       "    <tr>\n",
       "      <th>s4</th>\n",
       "      <td>Movie</td>\n",
       "      <td>9</td>\n",
       "      <td>Shane Acker</td>\n",
       "      <td>Elijah Wood, John C. Reilly, Jennifer Connelly...</td>\n",
       "      <td>United States</td>\n",
       "      <td>November 16, 2017</td>\n",
       "      <td>2009</td>\n",
       "      <td>PG-13</td>\n",
       "      <td>80 min</td>\n",
       "      <td>Action &amp; Adventure, Independent Movies, Sci-Fi...</td>\n",
       "      <td>In a postapocalyptic world, rag-doll robots hi...</td>\n",
       "    </tr>\n",
       "    <tr>\n",
       "      <th>s5</th>\n",
       "      <td>Movie</td>\n",
       "      <td>21</td>\n",
       "      <td>Robert Luketic</td>\n",
       "      <td>Jim Sturgess, Kevin Spacey, Kate Bosworth, Aar...</td>\n",
       "      <td>United States</td>\n",
       "      <td>January 1, 2020</td>\n",
       "      <td>2008</td>\n",
       "      <td>PG-13</td>\n",
       "      <td>123 min</td>\n",
       "      <td>Dramas</td>\n",
       "      <td>A brilliant group of students become card-coun...</td>\n",
       "    </tr>\n",
       "  </tbody>\n",
       "</table>\n",
       "</div>"
      ],
      "text/plain": [
       "            type  title           director  \\\n",
       "show_id                                      \n",
       "s1       TV Show     3%                NaN   \n",
       "s2         Movie   7:19  Jorge Michel Grau   \n",
       "s3         Movie  23:59       Gilbert Chan   \n",
       "s4         Movie      9        Shane Acker   \n",
       "s5         Movie     21     Robert Luketic   \n",
       "\n",
       "                                                      cast        country  \\\n",
       "show_id                                                                     \n",
       "s1       João Miguel, Bianca Comparato, Michel Gomes, R...         Brazil   \n",
       "s2       Demián Bichir, Héctor Bonilla, Oscar Serrano, ...         Mexico   \n",
       "s3       Tedd Chan, Stella Chung, Henley Hii, Lawrence ...      Singapore   \n",
       "s4       Elijah Wood, John C. Reilly, Jennifer Connelly...  United States   \n",
       "s5       Jim Sturgess, Kevin Spacey, Kate Bosworth, Aar...  United States   \n",
       "\n",
       "                date_added  release_year rating   duration  \\\n",
       "show_id                                                      \n",
       "s1         August 14, 2020          2020  TV-MA  4 Seasons   \n",
       "s2       December 23, 2016          2016  TV-MA     93 min   \n",
       "s3       December 20, 2018          2011      R     78 min   \n",
       "s4       November 16, 2017          2009  PG-13     80 min   \n",
       "s5         January 1, 2020          2008  PG-13    123 min   \n",
       "\n",
       "                                                 listed_in  \\\n",
       "show_id                                                      \n",
       "s1       International TV Shows, TV Dramas, TV Sci-Fi &...   \n",
       "s2                            Dramas, International Movies   \n",
       "s3                     Horror Movies, International Movies   \n",
       "s4       Action & Adventure, Independent Movies, Sci-Fi...   \n",
       "s5                                                  Dramas   \n",
       "\n",
       "                                               description  \n",
       "show_id                                                     \n",
       "s1       In a future where the elite inhabit an island ...  \n",
       "s2       After a devastating earthquake hits Mexico Cit...  \n",
       "s3       When an army recruit is found dead, his fellow...  \n",
       "s4       In a postapocalyptic world, rag-doll robots hi...  \n",
       "s5       A brilliant group of students become card-coun...  "
      ]
     },
     "execution_count": 8,
     "metadata": {},
     "output_type": "execute_result"
    }
   ],
   "source": [
    "df.dropna(subset = ['date_added'], inplace = True)\n",
    "df.head()"
   ]
  },
  {
   "cell_type": "code",
   "execution_count": 9,
   "id": "absent-article",
   "metadata": {
    "execution": {
     "iopub.execute_input": "2021-04-25T18:37:38.139285Z",
     "iopub.status.busy": "2021-04-25T18:37:38.138686Z",
     "iopub.status.idle": "2021-04-25T18:37:38.148187Z",
     "shell.execute_reply": "2021-04-25T18:37:38.148726Z"
    },
    "papermill": {
     "duration": 0.033444,
     "end_time": "2021-04-25T18:37:38.148904",
     "exception": false,
     "start_time": "2021-04-25T18:37:38.115460",
     "status": "completed"
    },
    "tags": []
   },
   "outputs": [
    {
     "data": {
      "text/plain": [
       "Movie      5377\n",
       "TV Show    2400\n",
       "Name: type, dtype: int64"
      ]
     },
     "execution_count": 9,
     "metadata": {},
     "output_type": "execute_result"
    }
   ],
   "source": [
    "result = df['type'].value_counts()\n",
    "result"
   ]
  },
  {
   "cell_type": "code",
   "execution_count": 10,
   "id": "solid-external",
   "metadata": {
    "execution": {
     "iopub.execute_input": "2021-04-25T18:37:38.230156Z",
     "iopub.status.busy": "2021-04-25T18:37:38.229130Z",
     "iopub.status.idle": "2021-04-25T18:37:38.310741Z",
     "shell.execute_reply": "2021-04-25T18:37:38.310150Z"
    },
    "papermill": {
     "duration": 0.140543,
     "end_time": "2021-04-25T18:37:38.310882",
     "exception": false,
     "start_time": "2021-04-25T18:37:38.170339",
     "status": "completed"
    },
    "tags": []
   },
   "outputs": [
    {
     "data": {
      "image/png": "[encoded data removed]",
      "text/plain": [
       "<Figure size 360x360 with 1 Axes>"
      ]
     },
     "metadata": {},
     "output_type": "display_data"
    }
   ],
   "source": [
    "plt.style.use(\"fivethirtyeight\")\n",
    "plt.figure(figsize = (5,5))\n",
    "plt.bar(result.index, result.values)\n",
    "plt.ylabel(\"No. of count\")\n",
    "plt.show()"
   ]
  },
  {
   "cell_type": "code",
   "execution_count": 11,
   "id": "available-tragedy",
   "metadata": {
    "execution": {
     "iopub.execute_input": "2021-04-25T18:37:38.359335Z",
     "iopub.status.busy": "2021-04-25T18:37:38.358663Z",
     "iopub.status.idle": "2021-04-25T18:37:38.369914Z",
     "shell.execute_reply": "2021-04-25T18:37:38.370391Z"
    },
    "papermill": {
     "duration": 0.037328,
     "end_time": "2021-04-25T18:37:38.370590",
     "exception": false,
     "start_time": "2021-04-25T18:37:38.333262",
     "status": "completed"
    },
    "tags": []
   },
   "outputs": [
    {
     "data": {
      "text/plain": [
       "Johnnie To                 8\n",
       "David Dhawan               9\n",
       "Steven Spielberg          10\n",
       "Martin Scorsese           12\n",
       "Youssef Chahine           12\n",
       "Jay Chapman               12\n",
       "Cathy Garcia-Molina       13\n",
       "Jay Karas                 14\n",
       "Marcus Raboy              16\n",
       "Raúl Campos, Jan Suter    18\n",
       "Name: director, dtype: int64"
      ]
     },
     "execution_count": 11,
     "metadata": {},
     "output_type": "execute_result"
    }
   ],
   "source": [
    "result = df['director'].value_counts()[0:10].sort_values()\n",
    "result"
   ]
  },
  {
   "cell_type": "code",
   "execution_count": 12,
   "id": "superior-raise",
   "metadata": {
    "execution": {
     "iopub.execute_input": "2021-04-25T18:37:38.422297Z",
     "iopub.status.busy": "2021-04-25T18:37:38.421714Z",
     "iopub.status.idle": "2021-04-25T18:37:38.657227Z",
     "shell.execute_reply": "2021-04-25T18:37:38.657808Z"
    },
    "papermill": {
     "duration": 0.263863,
     "end_time": "2021-04-25T18:37:38.657993",
     "exception": false,
     "start_time": "2021-04-25T18:37:38.394130",
     "status": "completed"
    },
    "tags": []
   },
   "outputs": [
    {
     "data": {
      "image/png": "[encoded data removed]",
      "text/plain": [
       "<Figure size 720x360 with 1 Axes>"
      ]
     },
     "metadata": {},
     "output_type": "display_data"
    }
   ],
   "source": [
    "plt.style.use(\"seaborn\")\n",
    "plt.figure(figsize = (10,5))\n",
    "plt.barh(result.index[:10],result.values[:10])\n",
    "plt.title(\"Most titles by a director\")\n",
    "plt.xticks(list(range(0,19)))\n",
    "plt.show()"
   ]
  },
  {
   "cell_type": "code",
   "execution_count": 13,
   "id": "coastal-julian",
   "metadata": {
    "execution": {
     "iopub.execute_input": "2021-04-25T18:37:38.710877Z",
     "iopub.status.busy": "2021-04-25T18:37:38.710054Z",
     "iopub.status.idle": "2021-04-25T18:37:38.783549Z",
     "shell.execute_reply": "2021-04-25T18:37:38.784095Z"
    },
    "papermill": {
     "duration": 0.102134,
     "end_time": "2021-04-25T18:37:38.784290",
     "exception": false,
     "start_time": "2021-04-25T18:37:38.682156",
     "status": "completed"
    },
    "tags": []
   },
   "outputs": [
    {
     "data": {
      "text/plain": [
       " Vincent Tong        22\n",
       "Akshay Kumar         22\n",
       " Yuki Kaji           23\n",
       " Andrea Libman       24\n",
       " Paresh Rawal        24\n",
       " Boman Irani         25\n",
       "Shah Rukh Khan       27\n",
       " Om Puri             27\n",
       " Takahiro Sakurai    28\n",
       " Anupam Kher         38\n",
       "Name: cast, dtype: int64"
      ]
     },
     "execution_count": 13,
     "metadata": {},
     "output_type": "execute_result"
    }
   ],
   "source": [
    "result = df['cast'].str.split(',').explode().value_counts()[0:10].sort_values()\n",
    "result"
   ]
  },
  {
   "cell_type": "code",
   "execution_count": 14,
   "id": "ecological-ground",
   "metadata": {
    "execution": {
     "iopub.execute_input": "2021-04-25T18:37:38.838830Z",
     "iopub.status.busy": "2021-04-25T18:37:38.837574Z",
     "iopub.status.idle": "2021-04-25T18:37:39.020121Z",
     "shell.execute_reply": "2021-04-25T18:37:39.020606Z"
    },
    "papermill": {
     "duration": 0.211341,
     "end_time": "2021-04-25T18:37:39.020777",
     "exception": false,
     "start_time": "2021-04-25T18:37:38.809436",
     "status": "completed"
    },
    "tags": []
   },
   "outputs": [
    {
     "data": {
      "image/png": "[encoded data removed]",
      "text/plain": [
       "<Figure size 720x360 with 1 Axes>"
      ]
     },
     "metadata": {},
     "output_type": "display_data"
    }
   ],
   "source": [
    "plt.style.use(\"seaborn\")\n",
    "plt.figure(figsize = (10,5))\n",
    "plt.barh(result.index[:10],result.values[:10])\n",
    "plt.title(\"Most common actor\")\n",
    "plt.show()"
   ]
  },
  {
   "cell_type": "code",
   "execution_count": 15,
   "id": "patient-concord",
   "metadata": {
    "execution": {
     "iopub.execute_input": "2021-04-25T18:37:39.085643Z",
     "iopub.status.busy": "2021-04-25T18:37:39.084716Z",
     "iopub.status.idle": "2021-04-25T18:37:39.088648Z",
     "shell.execute_reply": "2021-04-25T18:37:39.089128Z"
    },
    "papermill": {
     "duration": 0.041429,
     "end_time": "2021-04-25T18:37:39.089340",
     "exception": false,
     "start_time": "2021-04-25T18:37:39.047911",
     "status": "completed"
    },
    "tags": []
   },
   "outputs": [
    {
     "data": {
      "text/plain": [
       "Mexico             100\n",
       "Egypt              101\n",
       "France             115\n",
       "Spain              134\n",
       "Canada             177\n",
       "South Korea        183\n",
       "Japan              225\n",
       "United Kingdom     396\n",
       "India              923\n",
       "United States     2549\n",
       "Name: country, dtype: int64"
      ]
     },
     "execution_count": 15,
     "metadata": {},
     "output_type": "execute_result"
    }
   ],
   "source": [
    "result = df['country'].value_counts()\n",
    "result = result[0:10].sort_values()\n",
    "result"
   ]
  },
  {
   "cell_type": "code",
   "execution_count": 16,
   "id": "piano-mills",
   "metadata": {
    "execution": {
     "iopub.execute_input": "2021-04-25T18:37:39.285760Z",
     "iopub.status.busy": "2021-04-25T18:37:39.281694Z",
     "iopub.status.idle": "2021-04-25T18:37:39.426867Z",
     "shell.execute_reply": "2021-04-25T18:37:39.425869Z"
    },
    "papermill": {
     "duration": 0.311513,
     "end_time": "2021-04-25T18:37:39.427023",
     "exception": false,
     "start_time": "2021-04-25T18:37:39.115510",
     "status": "completed"
    },
    "tags": []
   },
   "outputs": [
    {
     "data": {
      "image/png": "[encoded data removed]",
      "text/plain": [
       "<Figure size 360x360 with 1 Axes>"
      ]
     },
     "metadata": {},
     "output_type": "display_data"
    }
   ],
   "source": [
    "plt.style.use(\"seaborn\")\n",
    "plt.figure(figsize = (5,5))\n",
    "plt.barh(result.index[:10],result.values[:10])\n",
    "plt.title(\"Countries with most shows on Netflix\")\n",
    "plt.show()"
   ]
  },
  {
   "cell_type": "code",
   "execution_count": 17,
   "id": "moral-wings",
   "metadata": {
    "execution": {
     "iopub.execute_input": "2021-04-25T18:37:39.490947Z",
     "iopub.status.busy": "2021-04-25T18:37:39.490258Z",
     "iopub.status.idle": "2021-04-25T18:37:39.493066Z",
     "shell.execute_reply": "2021-04-25T18:37:39.493528Z"
    },
    "papermill": {
     "duration": 0.039433,
     "end_time": "2021-04-25T18:37:39.493706",
     "exception": false,
     "start_time": "2021-04-25T18:37:39.454273",
     "status": "completed"
    },
    "tags": []
   },
   "outputs": [
    {
     "data": {
      "text/plain": [
       "NC-17          3\n",
       "UR             5\n",
       "TV-Y7-FV       6\n",
       "G             39\n",
       "NR            83\n",
       "TV-G         194\n",
       "PG           247\n",
       "TV-Y7        270\n",
       "TV-Y         279\n",
       "PG-13        386\n",
       "R            665\n",
       "TV-PG        804\n",
       "TV-14       1928\n",
       "TV-MA       2861\n",
       "Name: rating, dtype: int64"
      ]
     },
     "execution_count": 17,
     "metadata": {},
     "output_type": "execute_result"
    }
   ],
   "source": [
    "result = df['rating'].value_counts().sort_values()\n",
    "result"
   ]
  },
  {
   "cell_type": "code",
   "execution_count": 18,
   "id": "simple-biology",
   "metadata": {
    "execution": {
     "iopub.execute_input": "2021-04-25T18:37:39.553666Z",
     "iopub.status.busy": "2021-04-25T18:37:39.552931Z",
     "iopub.status.idle": "2021-04-25T18:37:39.738351Z",
     "shell.execute_reply": "2021-04-25T18:37:39.738848Z"
    },
    "papermill": {
     "duration": 0.21704,
     "end_time": "2021-04-25T18:37:39.739031",
     "exception": false,
     "start_time": "2021-04-25T18:37:39.521991",
     "status": "completed"
    },
    "tags": []
   },
   "outputs": [
    {
     "data": {
      "image/png": "[encoded data removed]",
      "text/plain": [
       "<Figure size 360x360 with 1 Axes>"
      ]
     },
     "metadata": {},
     "output_type": "display_data"
    }
   ],
   "source": [
    "plt.style.use(\"seaborn-pastel\")\n",
    "plt.figure(figsize = (5,5))\n",
    "plt.barh(result.index,result.values)\n",
    "plt.title(\"Ratings\")\n",
    "plt.show()"
   ]
  },
  {
   "cell_type": "code",
   "execution_count": 19,
   "id": "detailed-barbados",
   "metadata": {
    "execution": {
     "iopub.execute_input": "2021-04-25T18:37:39.799446Z",
     "iopub.status.busy": "2021-04-25T18:37:39.798850Z",
     "iopub.status.idle": "2021-04-25T18:37:39.807957Z",
     "shell.execute_reply": "2021-04-25T18:37:39.808418Z"
    },
    "papermill": {
     "duration": 0.041037,
     "end_time": "2021-04-25T18:37:39.808631",
     "exception": false,
     "start_time": "2021-04-25T18:37:39.767594",
     "status": "completed"
    },
    "tags": []
   },
   "outputs": [
    {
     "data": {
      "text/plain": [
       "1 Season     1608\n",
       "2 Seasons     378\n",
       "3 Seasons     183\n",
       "90 min        136\n",
       "Name: duration, dtype: int64"
      ]
     },
     "execution_count": 19,
     "metadata": {},
     "output_type": "execute_result"
    }
   ],
   "source": [
    "result = df['duration'].value_counts()[0:4]\n",
    "result"
   ]
  },
  {
   "cell_type": "code",
   "execution_count": 20,
   "id": "cubic-republican",
   "metadata": {
    "execution": {
     "iopub.execute_input": "2021-04-25T18:37:39.889994Z",
     "iopub.status.busy": "2021-04-25T18:37:39.888924Z",
     "iopub.status.idle": "2021-04-25T18:37:40.014995Z",
     "shell.execute_reply": "2021-04-25T18:37:40.014434Z"
    },
    "papermill": {
     "duration": 0.177517,
     "end_time": "2021-04-25T18:37:40.015134",
     "exception": false,
     "start_time": "2021-04-25T18:37:39.837617",
     "status": "completed"
    },
    "tags": []
   },
   "outputs": [
    {
     "data": {
      "image/png": "[encoded data removed]",
      "text/plain": [
       "<Figure size 576x396 with 1 Axes>"
      ]
     },
     "metadata": {},
     "output_type": "display_data"
    }
   ],
   "source": [
    "plt.style.use(\"seaborn-pastel\")\n",
    "plt.pie(result.values, labels = result.index, startangle = 90, autopct = '%1.1f%%', shadow=True)\n",
    "plt.show()"
   ]
  },
  {
   "cell_type": "code",
   "execution_count": 21,
   "id": "accepting-performer",
   "metadata": {
    "execution": {
     "iopub.execute_input": "2021-04-25T18:37:40.102980Z",
     "iopub.status.busy": "2021-04-25T18:37:40.092321Z",
     "iopub.status.idle": "2021-04-25T18:37:40.111778Z",
     "shell.execute_reply": "2021-04-25T18:37:40.110864Z"
    },
    "papermill": {
     "duration": 0.065984,
     "end_time": "2021-04-25T18:37:40.111923",
     "exception": false,
     "start_time": "2021-04-25T18:37:40.045939",
     "status": "completed"
    },
    "tags": []
   },
   "outputs": [
    {
     "data": {
      "text/plain": [
       " Romantic Movies           528\n",
       " TV Dramas                 641\n",
       " Independent Movies        653\n",
       "International TV Shows     689\n",
       "Action & Adventure         721\n",
       " Dramas                    722\n",
       "Documentaries              751\n",
       "Comedies                  1074\n",
       "Dramas                    1384\n",
       " International Movies     2323\n",
       "Name: listed_in, dtype: int64"
      ]
     },
     "execution_count": 21,
     "metadata": {},
     "output_type": "execute_result"
    }
   ],
   "source": [
    "result = df['listed_in'].str.split(',').explode().value_counts()[0:10].sort_values()\n",
    "result"
   ]
  },
  {
   "cell_type": "code",
   "execution_count": 22,
   "id": "funky-texture",
   "metadata": {
    "execution": {
     "iopub.execute_input": "2021-04-25T18:37:40.197638Z",
     "iopub.status.busy": "2021-04-25T18:37:40.181437Z",
     "iopub.status.idle": "2021-04-25T18:37:40.342825Z",
     "shell.execute_reply": "2021-04-25T18:37:40.343309Z"
    },
    "papermill": {
     "duration": 0.199771,
     "end_time": "2021-04-25T18:37:40.343514",
     "exception": false,
     "start_time": "2021-04-25T18:37:40.143743",
     "status": "completed"
    },
    "tags": []
   },
   "outputs": [
    {
     "data": {
      "image/png": "[encoded data removed]",
      "text/plain": [
       "<Figure size 360x360 with 1 Axes>"
      ]
     },
     "metadata": {},
     "output_type": "display_data"
    }
   ],
   "source": [
    "plt.style.use(\"seaborn\")\n",
    "plt.figure(figsize = (5,5))\n",
    "plt.barh(result.index[:10],result.values[:10])\n",
    "plt.show()"
   ]
  }
 ],
 "metadata": {
  "kernelspec": {
   "display_name": "Python 3",
   "language": "python",
   "name": "python3"
  },
  "language_info": {
   "codemirror_mode": {
    "name": "ipython",
    "version": 3
   },
   "file_extension": ".py",
   "mimetype": "text/x-python",
   "name": "python",
   "nbconvert_exporter": "python",
   "pygments_lexer": "ipython3",
   "version": "3.7.10"
  },
  "papermill": {
   "default_parameters": {},
   "duration": 14.919123,
   "end_time": "2021-04-25T18:37:41.085805",
   "environment_variables": {},
   "exception": null,
   "input_path": "__notebook__.ipynb",
   "output_path": "__notebook__.ipynb",
   "parameters": {},
   "start_time": "2021-04-25T18:37:26.166682",
   "version": "2.3.3"
  }
 },
 "nbformat": 4,
 "nbformat_minor": 5
}
