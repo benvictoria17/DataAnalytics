{
 "cells": [
  {
   "cell_type": "markdown",
   "metadata": {
    "id": "6jRw8I3QczAI",
    "papermill": {
     "duration": 0.03696,
     "end_time": "2020-12-06T20:51:18.061623",
     "exception": false,
     "start_time": "2020-12-06T20:51:18.024663",
     "status": "completed"
    },
    "tags": []
   },
   "source": [
    "# Bike Sharing Prediction Score RMSLE: 0.64851\n",
    "\n",
    "# EDA\n",
    "- Analyze the bike charing test vs training data\n",
    "- Find intracting point to work on\n",
    "\n",
    "# Pre-process of data\n",
    "- Change Weather and Season to one-hot column\n",
    "- Normlized Values to better Predicition\n",
    "\n",
    "# Analyze data\n",
    "- Grid search over XG-BOOST to find best paramaters\n",
    "- Compare XGB vs Linare regression\n",
    "- Compare number of Regression algoritms\n",
    "\n",
    "- Select XGB with optimal paramter\n",
    "\n",
    "# Submit\n",
    "- get score of 0.47290\n",
    "\n"
   ]
  },
  {
   "cell_type": "code",
   "execution_count": 1,
   "metadata": {
    "execution": {
     "iopub.execute_input": "2020-12-06T20:51:18.142948Z",
     "iopub.status.busy": "2020-12-06T20:51:18.142051Z",
     "iopub.status.idle": "2020-12-06T20:51:19.255799Z",
     "shell.execute_reply": "2020-12-06T20:51:19.256652Z"
    },
    "papermill": {
     "duration": 1.159314,
     "end_time": "2020-12-06T20:51:19.256835",
     "exception": false,
     "start_time": "2020-12-06T20:51:18.097521",
     "status": "completed"
    },
    "tags": []
   },
   "outputs": [],
   "source": [
    "import pandas as pd\n",
    "import numpy as np\n",
    "import os\n",
    "import matplotlib\n",
    "import matplotlib.pyplot as plt\n",
    "import matplotlib.patches as mpatches\n",
    "import seaborn as sns\n",
    "\n",
    "from sklearn import preprocessing\n",
    "\n",
    "from matplotlib import cm\n",
    "from matplotlib.ticker import LinearLocator\n",
    "\n",
    "\n",
    "\n",
    "\n",
    "#evaluation metrics\n",
    "from sklearn.metrics import mean_squared_log_error,mean_squared_error, r2_score,mean_absolute_error # for regression\n",
    "from sklearn.metrics import accuracy_score,precision_score,recall_score,f1_score  # for classification"
   ]
  },
  {
   "cell_type": "code",
   "execution_count": 2,
   "metadata": {
    "execution": {
     "iopub.execute_input": "2020-12-06T20:51:19.359196Z",
     "iopub.status.busy": "2020-12-06T20:51:19.358430Z",
     "iopub.status.idle": "2020-12-06T20:51:19.466999Z",
     "shell.execute_reply": "2020-12-06T20:51:19.466341Z"
    },
    "id": "Oi3JR4p9czAI",
    "papermill": {
     "duration": 0.17357,
     "end_time": "2020-12-06T20:51:19.467137",
     "exception": false,
     "start_time": "2020-12-06T20:51:19.293567",
     "status": "completed"
    },
    "tags": []
   },
   "outputs": [],
   "source": [
    "import os\n",
    "start_path = \"\"\n",
    "if os.path.exists('/kaggle/input/bike-sharing-demand'):\n",
    "    start_path = \"/kaggle/input/bike-sharing-demand/\"\n",
    "\n",
    "\n",
    "train_df=pd.read_csv(start_path+'train.csv')\n",
    "test_df=pd.read_csv(start_path+'test.csv')\n",
    "\n",
    "\n",
    "\n",
    "seed=1\n"
   ]
  },
  {
   "cell_type": "code",
   "execution_count": null,
   "metadata": {
    "id": "4XVKTT-OczAI",
    "papermill": {
     "duration": 0.035703,
     "end_time": "2020-12-06T20:51:19.539386",
     "exception": false,
     "start_time": "2020-12-06T20:51:19.503683",
     "status": "completed"
    },
    "tags": []
   },
   "outputs": [],
   "source": []
  },
  {
   "cell_type": "code",
   "execution_count": 3,
   "metadata": {
    "execution": {
     "iopub.execute_input": "2020-12-06T20:51:19.624432Z",
     "iopub.status.busy": "2020-12-06T20:51:19.616659Z",
     "iopub.status.idle": "2020-12-06T20:51:19.629754Z",
     "shell.execute_reply": "2020-12-06T20:51:19.630346Z"
    },
    "id": "4bYwPAqRczAI",
    "papermill": {
     "duration": 0.055083,
     "end_time": "2020-12-06T20:51:19.630505",
     "exception": false,
     "start_time": "2020-12-06T20:51:19.575422",
     "status": "completed"
    },
    "tags": []
   },
   "outputs": [],
   "source": [
    "df = pd.concat([train_df,test_df])"
   ]
  },
  {
   "cell_type": "code",
   "execution_count": 4,
   "metadata": {
    "execution": {
     "iopub.execute_input": "2020-12-06T20:51:19.713160Z",
     "iopub.status.busy": "2020-12-06T20:51:19.712265Z",
     "iopub.status.idle": "2020-12-06T20:51:19.717184Z",
     "shell.execute_reply": "2020-12-06T20:51:19.716537Z"
    },
    "id": "EsZL85dXczAI",
    "outputId": "3f76dbd6-6033-473d-e83e-f42297e5eb35",
    "papermill": {
     "duration": 0.049787,
     "end_time": "2020-12-06T20:51:19.717302",
     "exception": false,
     "start_time": "2020-12-06T20:51:19.667515",
     "status": "completed"
    },
    "tags": []
   },
   "outputs": [
    {
     "data": {
      "text/plain": [
       "Index(['datetime', 'season', 'holiday', 'workingday', 'weather', 'temp',\n",
       "       'atemp', 'humidity', 'windspeed', 'casual', 'registered', 'count'],\n",
       "      dtype='object')"
      ]
     },
     "execution_count": 4,
     "metadata": {},
     "output_type": "execute_result"
    }
   ],
   "source": [
    "df.columns.unique()\n"
   ]
  },
  {
   "cell_type": "code",
   "execution_count": 5,
   "metadata": {
    "execution": {
     "iopub.execute_input": "2020-12-06T20:51:19.798503Z",
     "iopub.status.busy": "2020-12-06T20:51:19.797352Z",
     "iopub.status.idle": "2020-12-06T20:51:19.816782Z",
     "shell.execute_reply": "2020-12-06T20:51:19.816178Z"
    },
    "id": "myoDpr18czAJ",
    "outputId": "1371e709-d3a5-48a5-ec7e-920dc9fb4702",
    "papermill": {
     "duration": 0.062178,
     "end_time": "2020-12-06T20:51:19.816930",
     "exception": false,
     "start_time": "2020-12-06T20:51:19.754752",
     "status": "completed"
    },
    "tags": []
   },
   "outputs": [
    {
     "data": {
      "text/plain": [
       "humidity     -0.317371\n",
       "weather      -0.128655\n",
       "holiday      -0.005393\n",
       "workingday    0.011594\n",
       "windspeed     0.101369\n",
       "season        0.163439\n",
       "atemp         0.389784\n",
       "temp          0.394454\n",
       "casual        0.690414\n",
       "registered    0.970948\n",
       "Name: count, dtype: float64"
      ]
     },
     "execution_count": 5,
     "metadata": {},
     "output_type": "execute_result"
    }
   ],
   "source": [
    "df.corr()['count'].drop('count').sort_values()"
   ]
  },
  {
   "cell_type": "code",
   "execution_count": 6,
   "metadata": {
    "execution": {
     "iopub.execute_input": "2020-12-06T20:51:19.900158Z",
     "iopub.status.busy": "2020-12-06T20:51:19.899428Z",
     "iopub.status.idle": "2020-12-06T20:51:19.918715Z",
     "shell.execute_reply": "2020-12-06T20:51:19.918109Z"
    },
    "id": "xw0egxFJczAJ",
    "outputId": "6f57860b-fe37-45da-9317-0011abb899f6",
    "papermill": {
     "duration": 0.063449,
     "end_time": "2020-12-06T20:51:19.918840",
     "exception": false,
     "start_time": "2020-12-06T20:51:19.855391",
     "status": "completed"
    },
    "tags": []
   },
   "outputs": [
    {
     "name": "stdout",
     "output_type": "stream",
     "text": [
      "<class 'pandas.core.frame.DataFrame'>\n",
      "Int64Index: 17379 entries, 0 to 6492\n",
      "Data columns (total 12 columns):\n",
      " #   Column      Non-Null Count  Dtype  \n",
      "---  ------      --------------  -----  \n",
      " 0   datetime    17379 non-null  object \n",
      " 1   season      17379 non-null  int64  \n",
      " 2   holiday     17379 non-null  int64  \n",
      " 3   workingday  17379 non-null  int64  \n",
      " 4   weather     17379 non-null  int64  \n",
      " 5   temp        17379 non-null  float64\n",
      " 6   atemp       17379 non-null  float64\n",
      " 7   humidity    17379 non-null  int64  \n",
      " 8   windspeed   17379 non-null  float64\n",
      " 9   casual      10886 non-null  float64\n",
      " 10  registered  10886 non-null  float64\n",
      " 11  count       10886 non-null  float64\n",
      "dtypes: float64(6), int64(5), object(1)\n",
      "memory usage: 1.7+ MB\n"
     ]
    }
   ],
   "source": [
    "df.info()"
   ]
  },
  {
   "cell_type": "code",
   "execution_count": 7,
   "metadata": {
    "execution": {
     "iopub.execute_input": "2020-12-06T20:51:20.006999Z",
     "iopub.status.busy": "2020-12-06T20:51:20.006244Z",
     "iopub.status.idle": "2020-12-06T20:51:20.042989Z",
     "shell.execute_reply": "2020-12-06T20:51:20.042260Z"
    },
    "id": "BFYUMiS2czAK",
    "outputId": "8808a724-2903-4a11-c337-67cb25dc8adb",
    "papermill": {
     "duration": 0.086114,
     "end_time": "2020-12-06T20:51:20.043108",
     "exception": false,
     "start_time": "2020-12-06T20:51:19.956994",
     "status": "completed"
    },
    "tags": []
   },
   "outputs": [
    {
     "data": {
      "text/html": [
       "<div>\n",
       "<style scoped>\n",
       "    .dataframe tbody tr th:only-of-type {\n",
       "        vertical-align: middle;\n",
       "    }\n",
       "\n",
       "    .dataframe tbody tr th {\n",
       "        vertical-align: top;\n",
       "    }\n",
       "\n",
       "    .dataframe thead th {\n",
       "        text-align: right;\n",
       "    }\n",
       "</style>\n",
       "<table border=\"1\" class=\"dataframe\">\n",
       "  <thead>\n",
       "    <tr style=\"text-align: right;\">\n",
       "      <th></th>\n",
       "      <th>season</th>\n",
       "      <th>holiday</th>\n",
       "      <th>workingday</th>\n",
       "      <th>weather</th>\n",
       "      <th>temp</th>\n",
       "      <th>atemp</th>\n",
       "      <th>humidity</th>\n",
       "      <th>windspeed</th>\n",
       "    </tr>\n",
       "  </thead>\n",
       "  <tbody>\n",
       "    <tr>\n",
       "      <th>count</th>\n",
       "      <td>6493.000000</td>\n",
       "      <td>6493.000000</td>\n",
       "      <td>6493.000000</td>\n",
       "      <td>6493.000000</td>\n",
       "      <td>6493.000000</td>\n",
       "      <td>6493.000000</td>\n",
       "      <td>6493.000000</td>\n",
       "      <td>6493.000000</td>\n",
       "    </tr>\n",
       "    <tr>\n",
       "      <th>mean</th>\n",
       "      <td>2.493300</td>\n",
       "      <td>0.029108</td>\n",
       "      <td>0.685815</td>\n",
       "      <td>1.436778</td>\n",
       "      <td>20.620607</td>\n",
       "      <td>24.012865</td>\n",
       "      <td>64.125212</td>\n",
       "      <td>12.631157</td>\n",
       "    </tr>\n",
       "    <tr>\n",
       "      <th>std</th>\n",
       "      <td>1.091258</td>\n",
       "      <td>0.168123</td>\n",
       "      <td>0.464226</td>\n",
       "      <td>0.648390</td>\n",
       "      <td>8.059583</td>\n",
       "      <td>8.782741</td>\n",
       "      <td>19.293391</td>\n",
       "      <td>8.250151</td>\n",
       "    </tr>\n",
       "    <tr>\n",
       "      <th>min</th>\n",
       "      <td>1.000000</td>\n",
       "      <td>0.000000</td>\n",
       "      <td>0.000000</td>\n",
       "      <td>1.000000</td>\n",
       "      <td>0.820000</td>\n",
       "      <td>0.000000</td>\n",
       "      <td>16.000000</td>\n",
       "      <td>0.000000</td>\n",
       "    </tr>\n",
       "    <tr>\n",
       "      <th>25%</th>\n",
       "      <td>2.000000</td>\n",
       "      <td>0.000000</td>\n",
       "      <td>0.000000</td>\n",
       "      <td>1.000000</td>\n",
       "      <td>13.940000</td>\n",
       "      <td>16.665000</td>\n",
       "      <td>49.000000</td>\n",
       "      <td>7.001500</td>\n",
       "    </tr>\n",
       "    <tr>\n",
       "      <th>50%</th>\n",
       "      <td>3.000000</td>\n",
       "      <td>0.000000</td>\n",
       "      <td>1.000000</td>\n",
       "      <td>1.000000</td>\n",
       "      <td>21.320000</td>\n",
       "      <td>25.000000</td>\n",
       "      <td>65.000000</td>\n",
       "      <td>11.001400</td>\n",
       "    </tr>\n",
       "    <tr>\n",
       "      <th>75%</th>\n",
       "      <td>3.000000</td>\n",
       "      <td>0.000000</td>\n",
       "      <td>1.000000</td>\n",
       "      <td>2.000000</td>\n",
       "      <td>27.060000</td>\n",
       "      <td>31.060000</td>\n",
       "      <td>81.000000</td>\n",
       "      <td>16.997900</td>\n",
       "    </tr>\n",
       "    <tr>\n",
       "      <th>max</th>\n",
       "      <td>4.000000</td>\n",
       "      <td>1.000000</td>\n",
       "      <td>1.000000</td>\n",
       "      <td>4.000000</td>\n",
       "      <td>40.180000</td>\n",
       "      <td>50.000000</td>\n",
       "      <td>100.000000</td>\n",
       "      <td>55.998600</td>\n",
       "    </tr>\n",
       "  </tbody>\n",
       "</table>\n",
       "</div>"
      ],
      "text/plain": [
       "            season      holiday   workingday      weather         temp  \\\n",
       "count  6493.000000  6493.000000  6493.000000  6493.000000  6493.000000   \n",
       "mean      2.493300     0.029108     0.685815     1.436778    20.620607   \n",
       "std       1.091258     0.168123     0.464226     0.648390     8.059583   \n",
       "min       1.000000     0.000000     0.000000     1.000000     0.820000   \n",
       "25%       2.000000     0.000000     0.000000     1.000000    13.940000   \n",
       "50%       3.000000     0.000000     1.000000     1.000000    21.320000   \n",
       "75%       3.000000     0.000000     1.000000     2.000000    27.060000   \n",
       "max       4.000000     1.000000     1.000000     4.000000    40.180000   \n",
       "\n",
       "             atemp     humidity    windspeed  \n",
       "count  6493.000000  6493.000000  6493.000000  \n",
       "mean     24.012865    64.125212    12.631157  \n",
       "std       8.782741    19.293391     8.250151  \n",
       "min       0.000000    16.000000     0.000000  \n",
       "25%      16.665000    49.000000     7.001500  \n",
       "50%      25.000000    65.000000    11.001400  \n",
       "75%      31.060000    81.000000    16.997900  \n",
       "max      50.000000   100.000000    55.998600  "
      ]
     },
     "execution_count": 7,
     "metadata": {},
     "output_type": "execute_result"
    }
   ],
   "source": [
    "test_df.describe()"
   ]
  },
  {
   "cell_type": "code",
   "execution_count": 8,
   "metadata": {
    "execution": {
     "iopub.execute_input": "2020-12-06T20:51:20.130570Z",
     "iopub.status.busy": "2020-12-06T20:51:20.129511Z",
     "iopub.status.idle": "2020-12-06T20:51:20.175136Z",
     "shell.execute_reply": "2020-12-06T20:51:20.175675Z"
    },
    "id": "zk2ACuaRczAK",
    "outputId": "3f456892-fda9-4bb3-fa00-9190590de3bb",
    "papermill": {
     "duration": 0.093271,
     "end_time": "2020-12-06T20:51:20.175832",
     "exception": false,
     "start_time": "2020-12-06T20:51:20.082561",
     "status": "completed"
    },
    "tags": []
   },
   "outputs": [
    {
     "data": {
      "text/html": [
       "<div>\n",
       "<style scoped>\n",
       "    .dataframe tbody tr th:only-of-type {\n",
       "        vertical-align: middle;\n",
       "    }\n",
       "\n",
       "    .dataframe tbody tr th {\n",
       "        vertical-align: top;\n",
       "    }\n",
       "\n",
       "    .dataframe thead th {\n",
       "        text-align: right;\n",
       "    }\n",
       "</style>\n",
       "<table border=\"1\" class=\"dataframe\">\n",
       "  <thead>\n",
       "    <tr style=\"text-align: right;\">\n",
       "      <th></th>\n",
       "      <th>season</th>\n",
       "      <th>holiday</th>\n",
       "      <th>workingday</th>\n",
       "      <th>weather</th>\n",
       "      <th>temp</th>\n",
       "      <th>atemp</th>\n",
       "      <th>humidity</th>\n",
       "      <th>windspeed</th>\n",
       "      <th>casual</th>\n",
       "      <th>registered</th>\n",
       "      <th>count</th>\n",
       "    </tr>\n",
       "  </thead>\n",
       "  <tbody>\n",
       "    <tr>\n",
       "      <th>count</th>\n",
       "      <td>10886.000000</td>\n",
       "      <td>10886.000000</td>\n",
       "      <td>10886.000000</td>\n",
       "      <td>10886.000000</td>\n",
       "      <td>10886.00000</td>\n",
       "      <td>10886.000000</td>\n",
       "      <td>10886.000000</td>\n",
       "      <td>10886.000000</td>\n",
       "      <td>10886.000000</td>\n",
       "      <td>10886.000000</td>\n",
       "      <td>10886.000000</td>\n",
       "    </tr>\n",
       "    <tr>\n",
       "      <th>mean</th>\n",
       "      <td>2.506614</td>\n",
       "      <td>0.028569</td>\n",
       "      <td>0.680875</td>\n",
       "      <td>1.418427</td>\n",
       "      <td>20.23086</td>\n",
       "      <td>23.655084</td>\n",
       "      <td>61.886460</td>\n",
       "      <td>12.799395</td>\n",
       "      <td>36.021955</td>\n",
       "      <td>155.552177</td>\n",
       "      <td>191.574132</td>\n",
       "    </tr>\n",
       "    <tr>\n",
       "      <th>std</th>\n",
       "      <td>1.116174</td>\n",
       "      <td>0.166599</td>\n",
       "      <td>0.466159</td>\n",
       "      <td>0.633839</td>\n",
       "      <td>7.79159</td>\n",
       "      <td>8.474601</td>\n",
       "      <td>19.245033</td>\n",
       "      <td>8.164537</td>\n",
       "      <td>49.960477</td>\n",
       "      <td>151.039033</td>\n",
       "      <td>181.144454</td>\n",
       "    </tr>\n",
       "    <tr>\n",
       "      <th>min</th>\n",
       "      <td>1.000000</td>\n",
       "      <td>0.000000</td>\n",
       "      <td>0.000000</td>\n",
       "      <td>1.000000</td>\n",
       "      <td>0.82000</td>\n",
       "      <td>0.760000</td>\n",
       "      <td>0.000000</td>\n",
       "      <td>0.000000</td>\n",
       "      <td>0.000000</td>\n",
       "      <td>0.000000</td>\n",
       "      <td>1.000000</td>\n",
       "    </tr>\n",
       "    <tr>\n",
       "      <th>25%</th>\n",
       "      <td>2.000000</td>\n",
       "      <td>0.000000</td>\n",
       "      <td>0.000000</td>\n",
       "      <td>1.000000</td>\n",
       "      <td>13.94000</td>\n",
       "      <td>16.665000</td>\n",
       "      <td>47.000000</td>\n",
       "      <td>7.001500</td>\n",
       "      <td>4.000000</td>\n",
       "      <td>36.000000</td>\n",
       "      <td>42.000000</td>\n",
       "    </tr>\n",
       "    <tr>\n",
       "      <th>50%</th>\n",
       "      <td>3.000000</td>\n",
       "      <td>0.000000</td>\n",
       "      <td>1.000000</td>\n",
       "      <td>1.000000</td>\n",
       "      <td>20.50000</td>\n",
       "      <td>24.240000</td>\n",
       "      <td>62.000000</td>\n",
       "      <td>12.998000</td>\n",
       "      <td>17.000000</td>\n",
       "      <td>118.000000</td>\n",
       "      <td>145.000000</td>\n",
       "    </tr>\n",
       "    <tr>\n",
       "      <th>75%</th>\n",
       "      <td>4.000000</td>\n",
       "      <td>0.000000</td>\n",
       "      <td>1.000000</td>\n",
       "      <td>2.000000</td>\n",
       "      <td>26.24000</td>\n",
       "      <td>31.060000</td>\n",
       "      <td>77.000000</td>\n",
       "      <td>16.997900</td>\n",
       "      <td>49.000000</td>\n",
       "      <td>222.000000</td>\n",
       "      <td>284.000000</td>\n",
       "    </tr>\n",
       "    <tr>\n",
       "      <th>max</th>\n",
       "      <td>4.000000</td>\n",
       "      <td>1.000000</td>\n",
       "      <td>1.000000</td>\n",
       "      <td>4.000000</td>\n",
       "      <td>41.00000</td>\n",
       "      <td>45.455000</td>\n",
       "      <td>100.000000</td>\n",
       "      <td>56.996900</td>\n",
       "      <td>367.000000</td>\n",
       "      <td>886.000000</td>\n",
       "      <td>977.000000</td>\n",
       "    </tr>\n",
       "  </tbody>\n",
       "</table>\n",
       "</div>"
      ],
      "text/plain": [
       "             season       holiday    workingday       weather         temp  \\\n",
       "count  10886.000000  10886.000000  10886.000000  10886.000000  10886.00000   \n",
       "mean       2.506614      0.028569      0.680875      1.418427     20.23086   \n",
       "std        1.116174      0.166599      0.466159      0.633839      7.79159   \n",
       "min        1.000000      0.000000      0.000000      1.000000      0.82000   \n",
       "25%        2.000000      0.000000      0.000000      1.000000     13.94000   \n",
       "50%        3.000000      0.000000      1.000000      1.000000     20.50000   \n",
       "75%        4.000000      0.000000      1.000000      2.000000     26.24000   \n",
       "max        4.000000      1.000000      1.000000      4.000000     41.00000   \n",
       "\n",
       "              atemp      humidity     windspeed        casual    registered  \\\n",
       "count  10886.000000  10886.000000  10886.000000  10886.000000  10886.000000   \n",
       "mean      23.655084     61.886460     12.799395     36.021955    155.552177   \n",
       "std        8.474601     19.245033      8.164537     49.960477    151.039033   \n",
       "min        0.760000      0.000000      0.000000      0.000000      0.000000   \n",
       "25%       16.665000     47.000000      7.001500      4.000000     36.000000   \n",
       "50%       24.240000     62.000000     12.998000     17.000000    118.000000   \n",
       "75%       31.060000     77.000000     16.997900     49.000000    222.000000   \n",
       "max       45.455000    100.000000     56.996900    367.000000    886.000000   \n",
       "\n",
       "              count  \n",
       "count  10886.000000  \n",
       "mean     191.574132  \n",
       "std      181.144454  \n",
       "min        1.000000  \n",
       "25%       42.000000  \n",
       "50%      145.000000  \n",
       "75%      284.000000  \n",
       "max      977.000000  "
      ]
     },
     "execution_count": 8,
     "metadata": {},
     "output_type": "execute_result"
    }
   ],
   "source": [
    "train_df.describe()"
   ]
  },
  {
   "cell_type": "markdown",
   "metadata": {
    "id": "kP-Zt5myczAK",
    "papermill": {
     "duration": 0.044375,
     "end_time": "2020-12-06T20:51:20.260593",
     "exception": false,
     "start_time": "2020-12-06T20:51:20.216218",
     "status": "completed"
    },
    "tags": []
   },
   "source": [
    "sesson - [1,2,3,4]\n",
    "holiday = 0,1 mostly 0\n",
    "workingday = 0,1 mostly 1\n",
    "weather = 1,2,3,4 mostly 2-1\n",
    "\n",
    "temp - [0.82..41] mostly bellow 27\n",
    "atemp = [0..50] mostly bellow 31\n",
    "\n",
    "humidity = 0..100 \n",
    "windspeed = 0..56 mostly bellow 7..16\n",
    "casual = 0..367 mostly bellow 49\n",
    "\n",
    "registered = 0..886 mostly bellow 222\n",
    "count = 1..977 msotly bellow 284\n"
   ]
  },
  {
   "cell_type": "code",
   "execution_count": 9,
   "metadata": {
    "execution": {
     "iopub.execute_input": "2020-12-06T20:51:20.351221Z",
     "iopub.status.busy": "2020-12-06T20:51:20.349364Z",
     "iopub.status.idle": "2020-12-06T20:51:20.378549Z",
     "shell.execute_reply": "2020-12-06T20:51:20.377795Z"
    },
    "id": "5ouFbgiTczAK",
    "outputId": "8352ea1a-a2e3-4847-d580-efc8b13b49f8",
    "papermill": {
     "duration": 0.077961,
     "end_time": "2020-12-06T20:51:20.378715",
     "exception": false,
     "start_time": "2020-12-06T20:51:20.300754",
     "status": "completed"
    },
    "tags": []
   },
   "outputs": [
    {
     "name": "stdout",
     "output_type": "stream",
     "text": [
      "<class 'pandas.core.frame.DataFrame'>\n",
      "RangeIndex: 10886 entries, 0 to 10885\n",
      "Data columns (total 12 columns):\n",
      " #   Column      Non-Null Count  Dtype  \n",
      "---  ------      --------------  -----  \n",
      " 0   datetime    10886 non-null  object \n",
      " 1   season      10886 non-null  int64  \n",
      " 2   holiday     10886 non-null  int64  \n",
      " 3   workingday  10886 non-null  int64  \n",
      " 4   weather     10886 non-null  int64  \n",
      " 5   temp        10886 non-null  float64\n",
      " 6   atemp       10886 non-null  float64\n",
      " 7   humidity    10886 non-null  int64  \n",
      " 8   windspeed   10886 non-null  float64\n",
      " 9   casual      10886 non-null  int64  \n",
      " 10  registered  10886 non-null  int64  \n",
      " 11  count       10886 non-null  int64  \n",
      "dtypes: float64(3), int64(8), object(1)\n",
      "memory usage: 1020.7+ KB\n",
      "None\n",
      "<class 'pandas.core.frame.DataFrame'>\n",
      "RangeIndex: 10886 entries, 0 to 10885\n",
      "Data columns (total 12 columns):\n",
      " #   Column      Non-Null Count  Dtype   \n",
      "---  ------      --------------  -----   \n",
      " 0   datetime    10886 non-null  object  \n",
      " 1   season      10886 non-null  category\n",
      " 2   holiday     10886 non-null  bool    \n",
      " 3   workingday  10886 non-null  bool    \n",
      " 4   weather     10886 non-null  category\n",
      " 5   temp        10886 non-null  float64 \n",
      " 6   atemp       10886 non-null  float64 \n",
      " 7   humidity    10886 non-null  int64   \n",
      " 8   windspeed   10886 non-null  float64 \n",
      " 9   casual      10886 non-null  int64   \n",
      " 10  registered  10886 non-null  int64   \n",
      " 11  count       10886 non-null  int64   \n",
      "dtypes: bool(2), category(2), float64(3), int64(4), object(1)\n",
      "memory usage: 723.4+ KB\n",
      "None\n"
     ]
    }
   ],
   "source": [
    "def type_of_fields(df):\n",
    "    df['season'] = df['season'].astype('category')\n",
    "    df['holiday'] = df['holiday'].astype('bool')\n",
    "    df['workingday'] = df['workingday'].astype('bool')\n",
    "    df['weather'] = df['weather'].astype('category')\n",
    "    return df\n",
    "\n",
    "print(train_df.info())\n",
    "train_df = type_of_fields(train_df)\n",
    "print(train_df.info())\n"
   ]
  },
  {
   "cell_type": "code",
   "execution_count": 10,
   "metadata": {
    "execution": {
     "iopub.execute_input": "2020-12-06T20:51:20.467798Z",
     "iopub.status.busy": "2020-12-06T20:51:20.466984Z",
     "iopub.status.idle": "2020-12-06T20:51:20.513860Z",
     "shell.execute_reply": "2020-12-06T20:51:20.513083Z"
    },
    "id": "9PV-KRssczAK",
    "outputId": "1dc24b7f-fbca-4ecb-fc1e-bfe017ed0a34",
    "papermill": {
     "duration": 0.09449,
     "end_time": "2020-12-06T20:51:20.513990",
     "exception": false,
     "start_time": "2020-12-06T20:51:20.419500",
     "status": "completed"
    },
    "tags": []
   },
   "outputs": [
    {
     "data": {
      "text/html": [
       "<div>\n",
       "<style scoped>\n",
       "    .dataframe tbody tr th:only-of-type {\n",
       "        vertical-align: middle;\n",
       "    }\n",
       "\n",
       "    .dataframe tbody tr th {\n",
       "        vertical-align: top;\n",
       "    }\n",
       "\n",
       "    .dataframe thead th {\n",
       "        text-align: right;\n",
       "    }\n",
       "</style>\n",
       "<table border=\"1\" class=\"dataframe\">\n",
       "  <thead>\n",
       "    <tr style=\"text-align: right;\">\n",
       "      <th></th>\n",
       "      <th>season</th>\n",
       "      <th>holiday</th>\n",
       "      <th>workingday</th>\n",
       "      <th>weather</th>\n",
       "      <th>temp</th>\n",
       "      <th>atemp</th>\n",
       "      <th>humidity</th>\n",
       "      <th>windspeed</th>\n",
       "      <th>casual</th>\n",
       "      <th>registered</th>\n",
       "      <th>count</th>\n",
       "    </tr>\n",
       "  </thead>\n",
       "  <tbody>\n",
       "    <tr>\n",
       "      <th>count</th>\n",
       "      <td>17379.000000</td>\n",
       "      <td>17379.000000</td>\n",
       "      <td>17379.000000</td>\n",
       "      <td>17379.000000</td>\n",
       "      <td>17379.000000</td>\n",
       "      <td>17379.000000</td>\n",
       "      <td>17379.000000</td>\n",
       "      <td>17379.000000</td>\n",
       "      <td>10886.000000</td>\n",
       "      <td>10886.000000</td>\n",
       "      <td>10886.000000</td>\n",
       "    </tr>\n",
       "    <tr>\n",
       "      <th>mean</th>\n",
       "      <td>2.501640</td>\n",
       "      <td>0.028770</td>\n",
       "      <td>0.682721</td>\n",
       "      <td>1.425283</td>\n",
       "      <td>20.376474</td>\n",
       "      <td>23.788755</td>\n",
       "      <td>62.722884</td>\n",
       "      <td>12.736540</td>\n",
       "      <td>36.021955</td>\n",
       "      <td>155.552177</td>\n",
       "      <td>191.574132</td>\n",
       "    </tr>\n",
       "    <tr>\n",
       "      <th>std</th>\n",
       "      <td>1.106918</td>\n",
       "      <td>0.167165</td>\n",
       "      <td>0.465431</td>\n",
       "      <td>0.639357</td>\n",
       "      <td>7.894801</td>\n",
       "      <td>8.592511</td>\n",
       "      <td>19.292983</td>\n",
       "      <td>8.196795</td>\n",
       "      <td>49.960477</td>\n",
       "      <td>151.039033</td>\n",
       "      <td>181.144454</td>\n",
       "    </tr>\n",
       "    <tr>\n",
       "      <th>min</th>\n",
       "      <td>1.000000</td>\n",
       "      <td>0.000000</td>\n",
       "      <td>0.000000</td>\n",
       "      <td>1.000000</td>\n",
       "      <td>0.820000</td>\n",
       "      <td>0.000000</td>\n",
       "      <td>0.000000</td>\n",
       "      <td>0.000000</td>\n",
       "      <td>0.000000</td>\n",
       "      <td>0.000000</td>\n",
       "      <td>1.000000</td>\n",
       "    </tr>\n",
       "    <tr>\n",
       "      <th>25%</th>\n",
       "      <td>2.000000</td>\n",
       "      <td>0.000000</td>\n",
       "      <td>0.000000</td>\n",
       "      <td>1.000000</td>\n",
       "      <td>13.940000</td>\n",
       "      <td>16.665000</td>\n",
       "      <td>48.000000</td>\n",
       "      <td>7.001500</td>\n",
       "      <td>4.000000</td>\n",
       "      <td>36.000000</td>\n",
       "      <td>42.000000</td>\n",
       "    </tr>\n",
       "    <tr>\n",
       "      <th>50%</th>\n",
       "      <td>3.000000</td>\n",
       "      <td>0.000000</td>\n",
       "      <td>1.000000</td>\n",
       "      <td>1.000000</td>\n",
       "      <td>20.500000</td>\n",
       "      <td>24.240000</td>\n",
       "      <td>63.000000</td>\n",
       "      <td>12.998000</td>\n",
       "      <td>17.000000</td>\n",
       "      <td>118.000000</td>\n",
       "      <td>145.000000</td>\n",
       "    </tr>\n",
       "    <tr>\n",
       "      <th>75%</th>\n",
       "      <td>3.000000</td>\n",
       "      <td>0.000000</td>\n",
       "      <td>1.000000</td>\n",
       "      <td>2.000000</td>\n",
       "      <td>27.060000</td>\n",
       "      <td>31.060000</td>\n",
       "      <td>78.000000</td>\n",
       "      <td>16.997900</td>\n",
       "      <td>49.000000</td>\n",
       "      <td>222.000000</td>\n",
       "      <td>284.000000</td>\n",
       "    </tr>\n",
       "    <tr>\n",
       "      <th>max</th>\n",
       "      <td>4.000000</td>\n",
       "      <td>1.000000</td>\n",
       "      <td>1.000000</td>\n",
       "      <td>4.000000</td>\n",
       "      <td>41.000000</td>\n",
       "      <td>50.000000</td>\n",
       "      <td>100.000000</td>\n",
       "      <td>56.996900</td>\n",
       "      <td>367.000000</td>\n",
       "      <td>886.000000</td>\n",
       "      <td>977.000000</td>\n",
       "    </tr>\n",
       "  </tbody>\n",
       "</table>\n",
       "</div>"
      ],
      "text/plain": [
       "             season       holiday    workingday       weather          temp  \\\n",
       "count  17379.000000  17379.000000  17379.000000  17379.000000  17379.000000   \n",
       "mean       2.501640      0.028770      0.682721      1.425283     20.376474   \n",
       "std        1.106918      0.167165      0.465431      0.639357      7.894801   \n",
       "min        1.000000      0.000000      0.000000      1.000000      0.820000   \n",
       "25%        2.000000      0.000000      0.000000      1.000000     13.940000   \n",
       "50%        3.000000      0.000000      1.000000      1.000000     20.500000   \n",
       "75%        3.000000      0.000000      1.000000      2.000000     27.060000   \n",
       "max        4.000000      1.000000      1.000000      4.000000     41.000000   \n",
       "\n",
       "              atemp      humidity     windspeed        casual    registered  \\\n",
       "count  17379.000000  17379.000000  17379.000000  10886.000000  10886.000000   \n",
       "mean      23.788755     62.722884     12.736540     36.021955    155.552177   \n",
       "std        8.592511     19.292983      8.196795     49.960477    151.039033   \n",
       "min        0.000000      0.000000      0.000000      0.000000      0.000000   \n",
       "25%       16.665000     48.000000      7.001500      4.000000     36.000000   \n",
       "50%       24.240000     63.000000     12.998000     17.000000    118.000000   \n",
       "75%       31.060000     78.000000     16.997900     49.000000    222.000000   \n",
       "max       50.000000    100.000000     56.996900    367.000000    886.000000   \n",
       "\n",
       "              count  \n",
       "count  10886.000000  \n",
       "mean     191.574132  \n",
       "std      181.144454  \n",
       "min        1.000000  \n",
       "25%       42.000000  \n",
       "50%      145.000000  \n",
       "75%      284.000000  \n",
       "max      977.000000  "
      ]
     },
     "execution_count": 10,
     "metadata": {},
     "output_type": "execute_result"
    }
   ],
   "source": [
    "df.describe()\n",
    "#the remove change of type to bool made holiday and workday to be removed from describe output"
   ]
  },
  {
   "cell_type": "markdown",
   "metadata": {
    "id": "IL_GQhuhczAK",
    "papermill": {
     "duration": 0.04134,
     "end_time": "2020-12-06T20:51:20.597229",
     "exception": false,
     "start_time": "2020-12-06T20:51:20.555889",
     "status": "completed"
    },
    "tags": []
   },
   "source": [
    "## Idea\n",
    "- most of the fields can be change into full numbers fields\n",
    "convery to int instead of float\n",
    "\n",
    "\n"
   ]
  },
  {
   "cell_type": "code",
   "execution_count": 11,
   "metadata": {
    "execution": {
     "iopub.execute_input": "2020-12-06T20:51:20.690179Z",
     "iopub.status.busy": "2020-12-06T20:51:20.689379Z",
     "iopub.status.idle": "2020-12-06T20:51:22.023514Z",
     "shell.execute_reply": "2020-12-06T20:51:22.024116Z"
    },
    "id": "lc1dD1hwczAK",
    "outputId": "85e3ef5e-2805-424e-f875-edd1ea82aabd",
    "papermill": {
     "duration": 1.385627,
     "end_time": "2020-12-06T20:51:22.024276",
     "exception": false,
     "start_time": "2020-12-06T20:51:20.638649",
     "status": "completed"
    },
    "tags": []
   },
   "outputs": [
    {
     "data": {
      "image/png": "[encoded data removed]",
      "text/plain": [
       "<Figure size 1296x432 with 1 Axes>"
      ]
     },
     "metadata": {
      "needs_background": "light"
     },
     "output_type": "display_data"
    }
   ],
   "source": [
    "plt.rcParams['figure.figsize'] = (18.0, 6.0)\n",
    "bins = 250\n",
    "plt.hist(train_df[train_df['holiday'] == 0]['count'], alpha = 0.6, bins=bins, label='regular-day')\n",
    "plt.hist(train_df[train_df['holiday'] == 1]['count'], alpha = 0.8, bins=bins, label='holiday')\n",
    "plt.xlabel('bins of days')\n",
    "plt.ylabel('numbers')\n",
    "plt.legend(loc='upper right')\n",
    "plt.xlim(0,150)\n",
    "plt.grid()\n",
    "plt.show()"
   ]
  },
  {
   "cell_type": "code",
   "execution_count": 12,
   "metadata": {
    "execution": {
     "iopub.execute_input": "2020-12-06T20:51:22.147014Z",
     "iopub.status.busy": "2020-12-06T20:51:22.137285Z",
     "iopub.status.idle": "2020-12-06T20:51:25.983059Z",
     "shell.execute_reply": "2020-12-06T20:51:25.983583Z"
    },
    "id": "n3g_QpYyczAK",
    "outputId": "82b0a059-ddd4-4fce-f66e-ee4ae881d193",
    "papermill": {
     "duration": 3.904103,
     "end_time": "2020-12-06T20:51:25.983764",
     "exception": false,
     "start_time": "2020-12-06T20:51:22.079661",
     "status": "completed"
    },
    "tags": []
   },
   "outputs": [
    {
     "name": "stderr",
     "output_type": "stream",
     "text": [
      "/opt/conda/lib/python3.7/site-packages/numpy/lib/histograms.py:839: RuntimeWarning: invalid value encountered in greater_equal\n",
      "  keep = (tmp_a >= first_edge)\n",
      "/opt/conda/lib/python3.7/site-packages/numpy/lib/histograms.py:840: RuntimeWarning: invalid value encountered in less_equal\n",
      "  keep &= (tmp_a <= last_edge)\n"
     ]
    },
    {
     "data": {
      "image/png": "[encoded data removed]",
      "text/plain": [
       "<Figure size 720x720 with 28 Axes>"
      ]
     },
     "metadata": {
      "needs_background": "light"
     },
     "output_type": "display_data"
    }
   ],
   "source": [
    "fig,axes=plt.subplots(4,7)\n",
    "for i in range(4):\n",
    "    df = train_df[train_df['season'] == i+1]\n",
    "    df = df.expanding(min_periods=10).mean()\n",
    "    axes[i,0].hist(x=\"temp\",data=df,edgecolor=\"black\",linewidth=2,color='red')\n",
    "    axes[0,0].set_title(\"temp\")\n",
    "    axes[i,1].hist(x=\"atemp\",data=df,edgecolor=\"black\",linewidth=2,color='red')\n",
    "    axes[0,1].set_title(\"atemp\")\n",
    "    axes[i,2].hist(x=\"windspeed\",data=df,edgecolor=\"black\",linewidth=2,color='black')\n",
    "    axes[0,2].set_title(\"windspeed\")\n",
    "    axes[i,3].hist(x=\"humidity\",data=df,edgecolor=\"black\",linewidth=2,color='green')\n",
    "    axes[0,3].set_title(\"humidity\")\n",
    "    axes[i,4].hist(x=\"casual\",data=df,edgecolor=\"black\",linewidth=2,color='blue')\n",
    "    axes[0,4].set_title(\"casual\")\n",
    "    axes[i,5].hist(x=\"registered\",data=df,edgecolor=\"black\",linewidth=2,color='blue')\n",
    "    axes[0,5].set_title(\"registered\")\n",
    "    axes[i,6].hist(x=\"count\",data=df,edgecolor=\"black\",linewidth=2,color='blue')\n",
    "    axes[0,6].set_title(\"count\")\n",
    "fig.set_size_inches(10,10)\n",
    "\n"
   ]
  },
  {
   "cell_type": "code",
   "execution_count": 13,
   "metadata": {
    "execution": {
     "iopub.execute_input": "2020-12-06T20:51:26.079920Z",
     "iopub.status.busy": "2020-12-06T20:51:26.079105Z",
     "iopub.status.idle": "2020-12-06T20:51:26.347099Z",
     "shell.execute_reply": "2020-12-06T20:51:26.347689Z"
    },
    "id": "doMekECjczAK",
    "outputId": "9ab5c12b-9cd1-4377-ae76-527357a2bfc1",
    "papermill": {
     "duration": 0.318769,
     "end_time": "2020-12-06T20:51:26.347838",
     "exception": false,
     "start_time": "2020-12-06T20:51:26.029069",
     "status": "completed"
    },
    "tags": []
   },
   "outputs": [
    {
     "data": {
      "text/plain": [
       "<matplotlib.axes._subplots.AxesSubplot at 0x7fe87b002a90>"
      ]
     },
     "execution_count": 13,
     "metadata": {},
     "output_type": "execute_result"
    },
    {
     "data": {
      "image/png": "[encoded data removed]",
      "text/plain": [
       "<Figure size 1296x432 with 1 Axes>"
      ]
     },
     "metadata": {
      "needs_background": "light"
     },
     "output_type": "display_data"
    }
   ],
   "source": [
    "train_df.plot.scatter(x=[\"temp\"], y=['count'], alpha=0.3, color='green')"
   ]
  },
  {
   "cell_type": "code",
   "execution_count": null,
   "metadata": {
    "id": "kxcDjHPoczAK",
    "papermill": {
     "duration": 0.048337,
     "end_time": "2020-12-06T20:51:26.444781",
     "exception": false,
     "start_time": "2020-12-06T20:51:26.396444",
     "status": "completed"
    },
    "tags": []
   },
   "outputs": [],
   "source": []
  },
  {
   "cell_type": "code",
   "execution_count": 14,
   "metadata": {
    "execution": {
     "iopub.execute_input": "2020-12-06T20:51:26.622202Z",
     "iopub.status.busy": "2020-12-06T20:51:26.620016Z",
     "iopub.status.idle": "2020-12-06T20:51:26.745406Z",
     "shell.execute_reply": "2020-12-06T20:51:26.744782Z"
    },
    "id": "neD-NTU_czAK",
    "outputId": "99b2a117-1895-4eb4-a79d-b12f81a1d806",
    "papermill": {
     "duration": 0.252182,
     "end_time": "2020-12-06T20:51:26.745534",
     "exception": false,
     "start_time": "2020-12-06T20:51:26.493352",
     "status": "completed"
    },
    "tags": []
   },
   "outputs": [
    {
     "name": "stdout",
     "output_type": "stream",
     "text": [
      "<class 'pandas.core.frame.DataFrame'>\n",
      "RangeIndex: 6493 entries, 0 to 6492\n",
      "Data columns (total 26 columns):\n",
      " #   Column               Non-Null Count  Dtype         \n",
      "---  ------               --------------  -----         \n",
      " 0   datetime             6493 non-null   object        \n",
      " 1   season               6493 non-null   int64         \n",
      " 2   holiday              6493 non-null   int64         \n",
      " 3   workingday           6493 non-null   int64         \n",
      " 4   weather              6493 non-null   int64         \n",
      " 5   temp                 6493 non-null   float64       \n",
      " 6   atemp                6493 non-null   float64       \n",
      " 7   humidity             6493 non-null   int64         \n",
      " 8   windspeed            6493 non-null   float64       \n",
      " 9   dt_hour              6493 non-null   int64         \n",
      " 10  year                 6493 non-null   int64         \n",
      " 11  dt_datetime          6493 non-null   datetime64[ns]\n",
      " 12  dt_Year              6493 non-null   int64         \n",
      " 13  dt_Month             6493 non-null   int64         \n",
      " 14  dt_Day               6493 non-null   int64         \n",
      " 15  dt_Dayofweek         6493 non-null   int64         \n",
      " 16  dt_Dayofyear         6493 non-null   int64         \n",
      " 17  dt_Is_month_end      6493 non-null   bool          \n",
      " 18  dt_Is_month_start    6493 non-null   bool          \n",
      " 19  dt_Is_quarter_end    6493 non-null   bool          \n",
      " 20  dt_Is_quarter_start  6493 non-null   bool          \n",
      " 21  dt_Is_year_end       6493 non-null   bool          \n",
      " 22  dt_Is_year_start     6493 non-null   bool          \n",
      " 23  dt_Week              6493 non-null   int32         \n",
      " 24  date_day_idx         6493 non-null   int64         \n",
      " 25  date_hour_idx        6493 non-null   int64         \n",
      "dtypes: bool(6), datetime64[ns](1), float64(3), int32(1), int64(14), object(1)\n",
      "memory usage: 1.0+ MB\n"
     ]
    }
   ],
   "source": [
    "\n",
    "\n",
    "def add_datepart(df, field_name, prefix=None, drop=False, time=False):\n",
    "    \"Helper function that adds columns relevant to a date in the column `field_name` of `df`.\"\n",
    "    df[prefix+field_name] = pd.to_datetime(df[field_name], infer_datetime_format=True)\n",
    "    field = df[prefix+field_name]\n",
    "    attr = ['Year', 'Month', 'Day', 'Dayofweek', 'Dayofyear', 'Is_month_end', 'Is_month_start',\n",
    "    'Is_quarter_end', 'Is_quarter_start', 'Is_year_end', 'Is_year_start']\n",
    "    if time: attr = attr + ['Hour', 'Minute', 'Second']\n",
    "    for n in attr:\n",
    "        if (prefix+n not in df):\n",
    "            df[prefix + n] = getattr(field.dt, n.lower())\n",
    "    # Pandas removed `dt.week` in v1.1.10\n",
    "    if (prefix+\"Week\" not in df):\n",
    "        week = field.dt.isocalendar().week if hasattr(field.dt, 'isocalendar') else field.dt.week\n",
    "        df[prefix+'Week'] = week.astype(np.int32)\n",
    "    mask = ~field.isna()\n",
    "#     df[prefix + 'Elapsed'] = np.where(mask,field.values.astype(np.int64) // 10 ** 9,None)\n",
    "    if drop: df.drop(field_name, axis=1, inplace=True)\n",
    "    return df\n",
    "\n",
    "# Convery dates to year,mount,day column\n",
    "def add_year_day_to_df(test_df):\n",
    "    test_df[\"dt_hour\"] = [t.hour for t in pd.DatetimeIndex(test_df.datetime)]\n",
    "#     test_df[\"day\"] = [t.dayofweek for t in pd.DatetimeIndex(test_df.datetime)]\n",
    "#     test_df[\"month\"] = [t.month for t in pd.DatetimeIndex(test_df.datetime)]\n",
    "    test_df['year'] = [t.year for t in pd.DatetimeIndex(test_df.datetime)]\n",
    "    test_df['year'] = test_df['year'].map({2011:0, 2012:1})\n",
    "    test_df = add_datepart(test_df, 'datetime', prefix=\"dt_\")\n",
    "    test_df['date_day_idx'] = test_df['year']*365+test_df['dt_Dayofyear']\n",
    "    test_df['date_day_idx'] -= min(test_df['date_day_idx'])\n",
    "    test_df['date_hour_idx'] = test_df['date_day_idx']*24+test_df['dt_hour']\n",
    "#     test_df.drop('datetime',axis=1,inplace=True)\n",
    "    return test_df\n",
    "\n",
    "\n",
    "train_df = add_year_day_to_df(train_df)\n",
    "test_df = add_year_day_to_df(test_df)\n",
    "df = pd.concat([train_df, test_df])\n",
    "\n",
    "\n",
    "remove_fields = []\n",
    "# remove_fields.append('dt_Year')\n",
    "remove_fields.append('datetime')\n",
    "remove_fields.append('dt_datetime')\n",
    "remove_fields.append('casual')\n",
    "remove_fields.append('registered')\n",
    "remove_fields.append('count')\n",
    "\n",
    "\n",
    "test_df.info()"
   ]
  },
  {
   "cell_type": "code",
   "execution_count": null,
   "metadata": {
    "id": "gxzaQrobczAL",
    "papermill": {
     "duration": 0.049003,
     "end_time": "2020-12-06T20:51:26.844640",
     "exception": false,
     "start_time": "2020-12-06T20:51:26.795637",
     "status": "completed"
    },
    "tags": []
   },
   "outputs": [],
   "source": [
    "\n"
   ]
  },
  {
   "cell_type": "code",
   "execution_count": 15,
   "metadata": {
    "execution": {
     "iopub.execute_input": "2020-12-06T20:51:26.949802Z",
     "iopub.status.busy": "2020-12-06T20:51:26.948693Z",
     "iopub.status.idle": "2020-12-06T20:51:26.971865Z",
     "shell.execute_reply": "2020-12-06T20:51:26.970700Z"
    },
    "id": "nvJBPWTUczAL",
    "outputId": "518886a9-95c4-446b-8208-f0292cbaf899",
    "papermill": {
     "duration": 0.078106,
     "end_time": "2020-12-06T20:51:26.972073",
     "exception": false,
     "start_time": "2020-12-06T20:51:26.893967",
     "status": "completed"
    },
    "tags": []
   },
   "outputs": [
    {
     "name": "stdout",
     "output_type": "stream",
     "text": [
      "<class 'pandas.core.frame.DataFrame'>\n",
      "Int64Index: 17379 entries, 0 to 6492\n",
      "Data columns (total 29 columns):\n",
      " #   Column               Non-Null Count  Dtype         \n",
      "---  ------               --------------  -----         \n",
      " 0   datetime             17379 non-null  object        \n",
      " 1   season               17379 non-null  int64         \n",
      " 2   holiday              17379 non-null  int64         \n",
      " 3   workingday           17379 non-null  int64         \n",
      " 4   weather              17379 non-null  int64         \n",
      " 5   temp                 17379 non-null  float64       \n",
      " 6   atemp                17379 non-null  float64       \n",
      " 7   humidity             17379 non-null  int64         \n",
      " 8   windspeed            17379 non-null  float64       \n",
      " 9   casual               10886 non-null  float64       \n",
      " 10  registered           10886 non-null  float64       \n",
      " 11  count                10886 non-null  float64       \n",
      " 12  dt_hour              17379 non-null  int64         \n",
      " 13  year                 17379 non-null  int64         \n",
      " 14  dt_datetime          17379 non-null  datetime64[ns]\n",
      " 15  dt_Year              17379 non-null  int64         \n",
      " 16  dt_Month             17379 non-null  int64         \n",
      " 17  dt_Day               17379 non-null  int64         \n",
      " 18  dt_Dayofweek         17379 non-null  int64         \n",
      " 19  dt_Dayofyear         17379 non-null  int64         \n",
      " 20  dt_Is_month_end      17379 non-null  bool          \n",
      " 21  dt_Is_month_start    17379 non-null  bool          \n",
      " 22  dt_Is_quarter_end    17379 non-null  bool          \n",
      " 23  dt_Is_quarter_start  17379 non-null  bool          \n",
      " 24  dt_Is_year_end       17379 non-null  bool          \n",
      " 25  dt_Is_year_start     17379 non-null  bool          \n",
      " 26  dt_Week              17379 non-null  int32         \n",
      " 27  date_day_idx         17379 non-null  int64         \n",
      " 28  date_hour_idx        17379 non-null  int64         \n",
      "dtypes: bool(6), datetime64[ns](1), float64(6), int32(1), int64(14), object(1)\n",
      "memory usage: 3.2+ MB\n"
     ]
    }
   ],
   "source": [
    "# test_df['year']*365+test_df['dt_Dayofyear']\n",
    "df.info()"
   ]
  },
  {
   "cell_type": "code",
   "execution_count": 16,
   "metadata": {
    "execution": {
     "iopub.execute_input": "2020-12-06T20:51:27.093887Z",
     "iopub.status.busy": "2020-12-06T20:51:27.092794Z",
     "iopub.status.idle": "2020-12-06T20:51:38.673848Z",
     "shell.execute_reply": "2020-12-06T20:51:38.674417Z"
    },
    "id": "J0jX-Ul2czAL",
    "outputId": "3a86cbbf-2e56-4119-e5ad-98506d54b5b5",
    "papermill": {
     "duration": 11.649916,
     "end_time": "2020-12-06T20:51:38.674568",
     "exception": false,
     "start_time": "2020-12-06T20:51:27.024652",
     "status": "completed"
    },
    "tags": []
   },
   "outputs": [
    {
     "data": {
      "text/plain": [
       "Text(0.5, 1.0, 'The influence of hour(holiday)')"
      ]
     },
     "execution_count": 16,
     "metadata": {},
     "output_type": "execute_result"
    },
    {
     "data": {
      "image/png": "[encoded data removed]",
      "text/plain": [
       "<Figure size 1152x720 with 4 Axes>"
      ]
     },
     "metadata": {
      "needs_background": "light"
     },
     "output_type": "display_data"
    }
   ],
   "source": [
    "fig, axes = plt.subplots(2,2,figsize = (16, 10))\n",
    "ax11 = plt.subplot(2,2,1)\n",
    "sns.pointplot(x=train_df['dt_hour'] , y=train_df['count'] , hue = train_df['season'] , ax = ax11)\n",
    "ax11.set_title('The influence of hour(weekday)')\n",
    "\n",
    "ax12 = plt.subplot(2,2,2)\n",
    "sns.pointplot(x=train_df['dt_hour'] , y=train_df['count'] , hue = train_df['weather'] , ax = ax12)\n",
    "ax12.set_title('The influence of hour(weekday)')\n",
    "\n",
    "ax2 = plt.subplot(2,2,3)\n",
    "sns.pointplot(x=train_df['dt_hour'] , y=train_df['count'] , hue = train_df['workingday'] , ax = ax2)\n",
    "ax2.set_title('The influence of hour(workingday)')\n",
    "\n",
    "ax3 = plt.subplot(2,2,4)\n",
    "sns.pointplot(x=train_df['dt_hour'] , y=train_df['count'] , hue = train_df['holiday'] , ax = ax3)\n",
    "ax3.set_title('The influence of hour(holiday)')"
   ]
  },
  {
   "cell_type": "code",
   "execution_count": 17,
   "metadata": {
    "execution": {
     "iopub.execute_input": "2020-12-06T20:51:38.797760Z",
     "iopub.status.busy": "2020-12-06T20:51:38.796826Z",
     "iopub.status.idle": "2020-12-06T20:51:38.801373Z",
     "shell.execute_reply": "2020-12-06T20:51:38.800788Z"
    },
    "id": "JZlhmt5IczAL",
    "outputId": "a8b1355f-6b46-48e4-f1ff-a95ddc6d1761",
    "papermill": {
     "duration": 0.072175,
     "end_time": "2020-12-06T20:51:38.801490",
     "exception": false,
     "start_time": "2020-12-06T20:51:38.729315",
     "status": "completed"
    },
    "tags": []
   },
   "outputs": [
    {
     "data": {
      "text/plain": [
       "['2011-01-01 00:00:00', '2012-12-31 23:00:00']"
      ]
     },
     "execution_count": 17,
     "metadata": {},
     "output_type": "execute_result"
    }
   ],
   "source": [
    "[df['datetime'].min(),df['datetime'].max()]"
   ]
  },
  {
   "cell_type": "code",
   "execution_count": 18,
   "metadata": {
    "execution": {
     "iopub.execute_input": "2020-12-06T20:51:38.917113Z",
     "iopub.status.busy": "2020-12-06T20:51:38.916340Z",
     "iopub.status.idle": "2020-12-06T20:51:39.140141Z",
     "shell.execute_reply": "2020-12-06T20:51:39.139374Z"
    },
    "id": "kuXbjx4yczAL",
    "outputId": "b9426690-8203-4845-ec7d-2f4c892bb4f1",
    "papermill": {
     "duration": 0.283859,
     "end_time": "2020-12-06T20:51:39.140267",
     "exception": false,
     "start_time": "2020-12-06T20:51:38.856408",
     "status": "completed"
    },
    "tags": []
   },
   "outputs": [
    {
     "data": {
      "text/plain": [
       "<matplotlib.axes._subplots.AxesSubplot at 0x7fe87a1ca050>"
      ]
     },
     "execution_count": 18,
     "metadata": {},
     "output_type": "execute_result"
    },
    {
     "data": {
      "image/png": "[encoded data removed]",
      "text/plain": [
       "<Figure size 1296x432 with 1 Axes>"
      ]
     },
     "metadata": {
      "needs_background": "light"
     },
     "output_type": "display_data"
    }
   ],
   "source": [
    "train_df.plot.scatter(x=[\"dt_Month\"], y=['count'], alpha=0.3, color='blue')"
   ]
  },
  {
   "cell_type": "code",
   "execution_count": 19,
   "metadata": {
    "execution": {
     "iopub.execute_input": "2020-12-06T20:51:39.266308Z",
     "iopub.status.busy": "2020-12-06T20:51:39.261581Z",
     "iopub.status.idle": "2020-12-06T20:51:39.507038Z",
     "shell.execute_reply": "2020-12-06T20:51:39.506315Z"
    },
    "id": "ycjwTNbEczAL",
    "outputId": "1b43bdf6-dfcd-4e11-9288-289da37f0e69",
    "papermill": {
     "duration": 0.309762,
     "end_time": "2020-12-06T20:51:39.507157",
     "exception": false,
     "start_time": "2020-12-06T20:51:39.197395",
     "status": "completed"
    },
    "tags": []
   },
   "outputs": [
    {
     "data": {
      "image/png": "[encoded data removed]",
      "text/plain": [
       "<Figure size 864x288 with 1 Axes>"
      ]
     },
     "metadata": {
      "needs_background": "light"
     },
     "output_type": "display_data"
    }
   ],
   "source": [
    "fig, axs = plt.subplots(figsize=(12, 4))\n",
    "train_df.groupby(train_df[\"dt_hour\"])[\"count\"].mean().plot(kind='bar',rot=0,ax=axs)\n",
    "plt.xlabel(\"Hour of the day\");  # custom x label using matplotlib\n",
    "plt.ylabel(\"count\");"
   ]
  },
  {
   "cell_type": "code",
   "execution_count": 20,
   "metadata": {
    "execution": {
     "iopub.execute_input": "2020-12-06T20:51:39.627580Z",
     "iopub.status.busy": "2020-12-06T20:51:39.626872Z",
     "iopub.status.idle": "2020-12-06T20:51:39.714934Z",
     "shell.execute_reply": "2020-12-06T20:51:39.715901Z"
    },
    "id": "BYiA0Ds7czAL",
    "outputId": "8cebd8a3-4bf5-4854-d0c5-6a3c47343625",
    "papermill": {
     "duration": 0.151303,
     "end_time": "2020-12-06T20:51:39.716112",
     "exception": false,
     "start_time": "2020-12-06T20:51:39.564809",
     "status": "completed"
    },
    "tags": []
   },
   "outputs": [
    {
     "name": "stdout",
     "output_type": "stream",
     "text": [
      "datetime               17379\n",
      "season                     4\n",
      "holiday                    2\n",
      "workingday                 2\n",
      "weather                    4\n",
      "temp                      50\n",
      "atemp                     65\n",
      "humidity                  89\n",
      "windspeed                 30\n",
      "casual                   309\n",
      "registered               731\n",
      "count                    822\n",
      "dt_hour                   24\n",
      "year                       2\n",
      "dt_datetime            17379\n",
      "dt_Year                    2\n",
      "dt_Month                  12\n",
      "dt_Day                    31\n",
      "dt_Dayofweek               7\n",
      "dt_Dayofyear             366\n",
      "dt_Is_month_end            2\n",
      "dt_Is_month_start          2\n",
      "dt_Is_quarter_end          2\n",
      "dt_Is_quarter_start        2\n",
      "dt_Is_year_end             2\n",
      "dt_Is_year_start           2\n",
      "dt_Week                   52\n",
      "date_day_idx             456\n",
      "date_hour_idx          10911\n",
      "dtype: int64\n"
     ]
    },
    {
     "data": {
      "text/plain": [
       "datetime             season  holiday  workingday  weather  temp   atemp   humidity  windspeed  casual  registered  count  dt_hour  year  dt_datetime          dt_Year  dt_Month  dt_Day  dt_Dayofweek  dt_Dayofyear  dt_Is_month_end  dt_Is_month_start  dt_Is_quarter_end  dt_Is_quarter_start  dt_Is_year_end  dt_Is_year_start  dt_Week  date_day_idx  date_hour_idx\n",
       "2012-12-19 23:00:00  4       False    True        1        13.12  16.665  66        8.9981     4       84          88     23       1     2012-12-19 23:00:00  2012     12        19      2             354           False            False              False              False                False           False             51       718           17255            1\n",
       "2011-09-01 23:00:00  3       False    True        1        26.24  30.305  65        16.9979    15      111         126    23       0     2011-09-01 23:00:00  2011     9         1       3             244           False            True               False              False                False           False             35       243           5855             1\n",
       "2011-09-02 07:00:00  3       False    True        1        24.60  28.030  83        7.0015     6       253         259    7        0     2011-09-02 07:00:00  2011     9         2       4             245           False            False              False              False                False           False             35       244           5863             1\n",
       "2011-09-02 06:00:00  3       False    True        1        24.60  28.030  83        8.9981     3       73          76     6        0     2011-09-02 06:00:00  2011     9         2       4             245           False            False              False              False                False           False             35       244           5862             1\n",
       "2011-09-02 05:00:00  3       False    True        2        24.60  28.030  83        8.9981     0       20          20     5        0     2011-09-02 05:00:00  2011     9         2       4             245           False            False              False              False                False           False             35       244           5861             1\n",
       "                                                                                                                                                                                                                                                                                                                                                                          ..\n",
       "2012-05-01 16:00:00  2       False    True        1        30.34  33.335  45        12.9980    41      313         354    16       1     2012-05-01 16:00:00  2012     5         1       1             122           False            True               False              False                False           False             18       486           11680            1\n",
       "2012-05-01 15:00:00  2       False    True        2        30.34  33.335  45        15.0013    48      186         234    15       1     2012-05-01 15:00:00  2012     5         1       1             122           False            True               False              False                False           False             18       486           11679            1\n",
       "2012-05-01 14:00:00  2       False    True        2        30.34  33.335  48        16.9979    37      167         204    14       1     2012-05-01 14:00:00  2012     5         1       1             122           False            True               False              False                False           False             18       486           11678            1\n",
       "2012-05-01 13:00:00  2       False    True        2        29.52  33.335  51        15.0013    41      208         249    13       1     2012-05-01 13:00:00  2012     5         1       1             122           False            True               False              False                False           False             18       486           11677            1\n",
       "2011-01-01 00:00:00  1       False    False       1        9.84   14.395  81        0.0000     3       13          16     0        0     2011-01-01 00:00:00  2011     1         1       5             1             False            True               False              True                 False           True              52       0             0                1\n",
       "Length: 10886, dtype: int64"
      ]
     },
     "execution_count": 20,
     "metadata": {},
     "output_type": "execute_result"
    }
   ],
   "source": [
    "#how many uniqe values i got per field\n",
    "print(df.nunique())\n",
    "# do we have then a way to translate it into easier to use numbers - normilze \n",
    "train_df.value_counts()"
   ]
  },
  {
   "cell_type": "markdown",
   "metadata": {
    "id": "s2E7rGntczAL",
    "papermill": {
     "duration": 0.058824,
     "end_time": "2020-12-06T20:51:39.835104",
     "exception": false,
     "start_time": "2020-12-06T20:51:39.776280",
     "status": "completed"
    },
    "tags": []
   },
   "source": [
    "## process\n",
    "remove field from each column and try to predict its values\n"
   ]
  },
  {
   "cell_type": "markdown",
   "metadata": {
    "id": "c2Ege_LlczAL",
    "papermill": {
     "duration": 0.058281,
     "end_time": "2020-12-06T20:51:39.952273",
     "exception": false,
     "start_time": "2020-12-06T20:51:39.893992",
     "status": "completed"
    },
    "tags": []
   },
   "source": [
    "#process\n",
    "- use knn or other unsuprvised method to detect groups\n",
    "- translate those groups as feature\n",
    "\n"
   ]
  },
  {
   "cell_type": "markdown",
   "metadata": {
    "id": "9djl8W7SczAL",
    "papermill": {
     "duration": 0.058648,
     "end_time": "2020-12-06T20:51:40.069792",
     "exception": false,
     "start_time": "2020-12-06T20:51:40.011144",
     "status": "completed"
    },
    "tags": []
   },
   "source": [
    "# data\n",
    "- per month we have max and min sold items\n",
    "- temp can be convery by *10 and -min values -> will create int\n"
   ]
  },
  {
   "cell_type": "markdown",
   "metadata": {
    "id": "3NrF51TmczAL",
    "papermill": {
     "duration": 0.059421,
     "end_time": "2020-12-06T20:51:40.188234",
     "exception": false,
     "start_time": "2020-12-06T20:51:40.128813",
     "status": "completed"
    },
    "tags": []
   },
   "source": [
    "#normlize\n",
    "- should i normlize per all values or per hour of the or month since at night or day we got diffrent values\n",
    "- normlize to geosian or uniformal why the diffrent?\n",
    "- running avrage\n"
   ]
  },
  {
   "cell_type": "markdown",
   "metadata": {
    "id": "3LnJjn-IczAL",
    "papermill": {
     "duration": 0.058611,
     "end_time": "2020-12-06T20:51:40.308480",
     "exception": false,
     "start_time": "2020-12-06T20:51:40.249869",
     "status": "completed"
    },
    "tags": []
   },
   "source": [
    "# test vs train\n",
    "what are the diffrenses between the two?\n"
   ]
  },
  {
   "cell_type": "code",
   "execution_count": 21,
   "metadata": {
    "execution": {
     "iopub.execute_input": "2020-12-06T20:51:40.443494Z",
     "iopub.status.busy": "2020-12-06T20:51:40.442356Z",
     "iopub.status.idle": "2020-12-06T20:51:40.513314Z",
     "shell.execute_reply": "2020-12-06T20:51:40.512645Z"
    },
    "id": "60PLKWCCczAL",
    "outputId": "ff2bbb90-cdcb-4477-d552-064da4d348be",
    "papermill": {
     "duration": 0.14548,
     "end_time": "2020-12-06T20:51:40.513444",
     "exception": false,
     "start_time": "2020-12-06T20:51:40.367964",
     "status": "completed"
    },
    "tags": []
   },
   "outputs": [
    {
     "name": "stdout",
     "output_type": "stream",
     "text": [
      "<class 'pandas.core.frame.DataFrame'>\n",
      "Int64Index: 17379 entries, 0 to 6492\n",
      "Data columns (total 35 columns):\n",
      " #   Column               Non-Null Count  Dtype         \n",
      "---  ------               --------------  -----         \n",
      " 0   datetime             17379 non-null  object        \n",
      " 1   holiday              17379 non-null  int64         \n",
      " 2   workingday           17379 non-null  int64         \n",
      " 3   temp                 17379 non-null  float64       \n",
      " 4   atemp                17379 non-null  float64       \n",
      " 5   humidity             17379 non-null  int64         \n",
      " 6   windspeed            17379 non-null  float64       \n",
      " 7   casual               10886 non-null  float64       \n",
      " 8   registered           10886 non-null  float64       \n",
      " 9   count                10886 non-null  float64       \n",
      " 10  dt_hour              17379 non-null  int64         \n",
      " 11  year                 17379 non-null  int64         \n",
      " 12  dt_datetime          17379 non-null  datetime64[ns]\n",
      " 13  dt_Year              17379 non-null  int64         \n",
      " 14  dt_Month             17379 non-null  int64         \n",
      " 15  dt_Day               17379 non-null  int64         \n",
      " 16  dt_Dayofweek         17379 non-null  int64         \n",
      " 17  dt_Dayofyear         17379 non-null  int64         \n",
      " 18  dt_Is_month_end      17379 non-null  bool          \n",
      " 19  dt_Is_month_start    17379 non-null  bool          \n",
      " 20  dt_Is_quarter_end    17379 non-null  bool          \n",
      " 21  dt_Is_quarter_start  17379 non-null  bool          \n",
      " 22  dt_Is_year_end       17379 non-null  bool          \n",
      " 23  dt_Is_year_start     17379 non-null  bool          \n",
      " 24  dt_Week              17379 non-null  int32         \n",
      " 25  date_day_idx         17379 non-null  int64         \n",
      " 26  date_hour_idx        17379 non-null  int64         \n",
      " 27  season_1             17379 non-null  uint8         \n",
      " 28  season_2             17379 non-null  uint8         \n",
      " 29  season_3             17379 non-null  uint8         \n",
      " 30  season_4             17379 non-null  uint8         \n",
      " 31  weather_1            17379 non-null  uint8         \n",
      " 32  weather_2            17379 non-null  uint8         \n",
      " 33  weather_3            17379 non-null  uint8         \n",
      " 34  weather_4            17379 non-null  uint8         \n",
      "dtypes: bool(6), datetime64[ns](1), float64(6), int32(1), int64(12), object(1), uint8(8)\n",
      "memory usage: 3.1+ MB\n",
      "977   977.0\n"
     ]
    }
   ],
   "source": [
    "#change season to one hot\n",
    "import sklearn.preprocessing\n",
    "def update_feature_with_convert(df):\n",
    "    for x in ['season','weather']:\n",
    "        if (x+'_1' not in df):\n",
    "            tmp_df = pd.get_dummies(df[x], prefix=x)\n",
    "            df = pd.concat([df,tmp_df], axis=1)\n",
    "            if (x in df):\n",
    "                df = df.drop(x,axis=1)\n",
    "    return df\n",
    "\n",
    "train_df = update_feature_with_convert(train_df)\n",
    "test_df = update_feature_with_convert(test_df)\n",
    "df = update_feature_with_convert(df)\n",
    "\n",
    "df.info()\n",
    "\n",
    "T_count={}\n",
    "T_count['max'] = (train_df['count'].max())\n",
    "T_count['min'] = (train_df['count'].min())\n",
    "T_count['min'] = 0\n",
    "T_count['max'] = T_count['max']*1.05\n",
    "T_count\n",
    "\n",
    "a=train_df['count']\n",
    "aa = (a - T_count['min']) / (T_count['max']-T_count['min'])\n",
    "train_df['count'] = aa\n",
    "#X_std = (X - X.min(axis=0)) / (X.max(axis=0) - X.min(axis=0))\n",
    "aaa = aa * (T_count['max']-T_count['min']) + T_count['min']\n",
    "#X_scaled = X_std * (max - min) + min\n",
    "print(max(a),\" \", max(aaa))\n"
   ]
  },
  {
   "cell_type": "code",
   "execution_count": 22,
   "metadata": {
    "execution": {
     "iopub.execute_input": "2020-12-06T20:51:40.645314Z",
     "iopub.status.busy": "2020-12-06T20:51:40.644492Z",
     "iopub.status.idle": "2020-12-06T20:51:40.707557Z",
     "shell.execute_reply": "2020-12-06T20:51:40.703624Z"
    },
    "id": "hINshilOczAL",
    "outputId": "f448509e-7082-42a2-fe66-bb439414fca4",
    "papermill": {
     "duration": 0.133446,
     "end_time": "2020-12-06T20:51:40.707720",
     "exception": false,
     "start_time": "2020-12-06T20:51:40.574274",
     "status": "completed"
    },
    "tags": []
   },
   "outputs": [
    {
     "name": "stdout",
     "output_type": "stream",
     "text": [
      "['datetime', 'dt_datetime', 'casual', 'registered', 'count']\n",
      "   holiday  workingday  temp   atemp  humidity  windspeed  dt_hour  year  \\\n",
      "0    False       False  9.84  14.395        81        0.0        0     0   \n",
      "1    False       False  9.02  13.635        80        0.0        1     0   \n",
      "2    False       False  9.02  13.635        80        0.0        2     0   \n",
      "3    False       False  9.84  14.395        75        0.0        3     0   \n",
      "4    False       False  9.84  14.395        75        0.0        4     0   \n",
      "\n",
      "   dt_Year  dt_Month  ...  date_day_idx  date_hour_idx  season_1  season_2  \\\n",
      "0     2011         1  ...             0              0         1         0   \n",
      "1     2011         1  ...             0              1         1         0   \n",
      "2     2011         1  ...             0              2         1         0   \n",
      "3     2011         1  ...             0              3         1         0   \n",
      "4     2011         1  ...             0              4         1         0   \n",
      "\n",
      "   season_3  season_4  weather_1  weather_2  weather_3  weather_4  \n",
      "0         0         0          1          0          0          0  \n",
      "1         0         0          1          0          0          0  \n",
      "2         0         0          1          0          0          0  \n",
      "3         0         0          1          0          0          0  \n",
      "4         0         0          1          0          0          0  \n",
      "\n",
      "[5 rows x 30 columns]\n",
      "(10886, 30)\n",
      "0    0.015597\n",
      "1    0.038992\n",
      "2    0.031194\n",
      "3    0.012672\n",
      "4    0.000975\n",
      "Name: count, dtype: float64\n",
      "(10886,)\n",
      "train: [0, 1815]  test: [1816, 3629]\n",
      "train: [0, 3629]  test: [3630, 5443]\n",
      "train: [0, 5443]  test: [5444, 7257]\n",
      "train: [0, 7257]  test: [7258, 9071]\n",
      "train: [0, 9071]  test: [9072, 10885]\n"
     ]
    }
   ],
   "source": [
    "from sklearn.model_selection import TimeSeriesSplit\n",
    "from matplotlib.patches import Patch\n",
    "\n",
    "\n",
    "\n",
    "n_splits=5\n",
    "\n",
    "\n",
    "# x = train_df.sample(n=1000, weights='count')\n",
    "print(remove_fields)\n",
    "X = train_df.drop(remove_fields,axis=1)\n",
    "y = train_df['count']\n",
    "\n",
    "print(X.head())\n",
    "print(X.shape)\n",
    "print(y.head())\n",
    "print(y.shape)\n",
    "time_splits = TimeSeriesSplit(n_splits=n_splits)\n",
    "index = 1\n",
    "for train_index, test_index in time_splits.split(X):\n",
    "    print(\"train:\",[min(train_index),max(train_index)],\" test:\",[min(test_index),max(test_index)] )\n",
    "\n",
    "\n"
   ]
  },
  {
   "cell_type": "code",
   "execution_count": 23,
   "metadata": {
    "execution": {
     "iopub.execute_input": "2020-12-06T20:51:40.843243Z",
     "iopub.status.busy": "2020-12-06T20:51:40.842380Z",
     "iopub.status.idle": "2020-12-06T20:51:40.845856Z",
     "shell.execute_reply": "2020-12-06T20:51:40.845069Z"
    },
    "id": "U3KX5F_cczAL",
    "papermill": {
     "duration": 0.076431,
     "end_time": "2020-12-06T20:51:40.845984",
     "exception": false,
     "start_time": "2020-12-06T20:51:40.769553",
     "status": "completed"
    },
    "tags": []
   },
   "outputs": [],
   "source": [
    "\n",
    "def get_rmsle(y_pred, y_actual):\n",
    "    diff = np.log(y_pred + 1) - np.log(y_actual + 1)\n",
    "    mean_error = np.square(diff).mean()\n",
    "    return np.sqrt(mean_error)\n",
    "\n",
    "#Make RLSME Scorer\n",
    "def rmsle(predicted, actual):\n",
    "    return np.sqrt(np.square(np.log(predicted + 1) - np.log(actual + 1)).mean())\n",
    "\n",
    "from sklearn.metrics import make_scorer\n",
    "scorer= make_scorer(rmsle, greater_is_better=False)\n",
    "\n",
    "\n",
    "#Train some model on the data\n",
    "def display_scores(scores):\n",
    "    print(\"Scores:\", scores)\n",
    "    print(\"Score_mean\", scores.mean())\n",
    "    print(\"Score_std\", scores.std())"
   ]
  },
  {
   "cell_type": "code",
   "execution_count": 24,
   "metadata": {
    "execution": {
     "iopub.execute_input": "2020-12-06T20:51:40.983516Z",
     "iopub.status.busy": "2020-12-06T20:51:40.978439Z",
     "iopub.status.idle": "2020-12-06T20:51:41.183885Z",
     "shell.execute_reply": "2020-12-06T20:51:41.183079Z"
    },
    "id": "hrUkBBqP2eiU",
    "outputId": "98c804ac-5c75-451d-fc12-623a6f246c77",
    "papermill": {
     "duration": 0.27621,
     "end_time": "2020-12-06T20:51:41.184014",
     "exception": false,
     "start_time": "2020-12-06T20:51:40.907804",
     "status": "completed"
    },
    "tags": []
   },
   "outputs": [
    {
     "data": {
      "text/html": [
       "<style type='text/css'>\n",
       ".datatable table.frame { margin-bottom: 0; }\n",
       ".datatable table.frame thead { border-bottom: none; }\n",
       ".datatable table.frame tr.coltypes td {  color: #FFFFFF;  line-height: 6px;  padding: 0 0.5em;}\n",
       ".datatable .bool    { background: #DDDD99; }\n",
       ".datatable .object  { background: #565656; }\n",
       ".datatable .int     { background: #5D9E5D; }\n",
       ".datatable .float   { background: #4040CC; }\n",
       ".datatable .str     { background: #CC4040; }\n",
       ".datatable .row_index {  background: var(--jp-border-color3);  border-right: 1px solid var(--jp-border-color0);  color: var(--jp-ui-font-color3);  font-size: 9px;}\n",
       ".datatable .frame tr.coltypes .row_index {  background: var(--jp-border-color0);}\n",
       ".datatable th:nth-child(2) { padding-left: 12px; }\n",
       ".datatable .hellipsis {  color: var(--jp-cell-editor-border-color);}\n",
       ".datatable .vellipsis {  background: var(--jp-layout-color0);  color: var(--jp-cell-editor-border-color);}\n",
       ".datatable .na {  color: var(--jp-cell-editor-border-color);  font-size: 80%;}\n",
       ".datatable .footer { font-size: 9px; }\n",
       ".datatable .frame_dimensions {  background: var(--jp-border-color3);  border-top: 1px solid var(--jp-border-color0);  color: var(--jp-ui-font-color3);  display: inline-block;  opacity: 0.6;  padding: 1px 10px 1px 5px;}\n",
       ".datatable .frame thead tr.colnames {  background-image: url('data:image/png;base64,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');  background-repeat: repeat-x;  background-size: 14px;  height: 28px;}\n",
       "</style>\n"
      ],
      "text/plain": [
       "<IPython.core.display.HTML object>"
      ]
     },
     "metadata": {},
     "output_type": "display_data"
    }
   ],
   "source": [
    "#XGBoost hyper-parameter tuning\n",
    "#https://www.kaggle.com/felipefiorini/xgboost-hyper-parameter-tuning\n",
    "\n",
    "from xgboost import XGBRegressor\n",
    "from xgboost import XGBRFRegressor\n",
    "from sklearn.model_selection import GridSearchCV\n",
    "\n",
    "\n",
    "def hyperParameterTuning(X_train, y_train):\n",
    "    param_tuning = {\n",
    "        'learning_rate': [0.01, 0.1, 1],\n",
    "        'max_depth': [3, 5, 7, 10],\n",
    "        'min_child_weight': [1, 3, 5],\n",
    "        'subsample': [0.5, 0.7],\n",
    "        'colsample_bytree': [0.5, 0.7],\n",
    "        'n_estimators' : [100, 200, 500],\n",
    "        'reg_alpha' : [0,0.1,1],\n",
    "        'reg_lambda' : [0,0.1,1],\n",
    "        'objective': ['reg:squarederror'],\n",
    "        # 'tree_method': ['gpu_hist']\n",
    "        # 'booster' : ['gbtree', 'gblinear']\n",
    "    }\n",
    "\n",
    "    xgb_model = XGBRegressor()\n",
    "\n",
    "    gsearch = GridSearchCV(estimator = xgb_model,\n",
    "                           param_grid = param_tuning,                        \n",
    "                           scoring = scorer,\n",
    "                           #scoring = 'neg_mean_absolute_error', #MAE\n",
    "                           #scoring = 'neg_mean_squared_error',  #MSE\n",
    "                           cv = time_splits,\n",
    "                           n_jobs = -1,\n",
    "                           verbose = 1)\n",
    "\n",
    "    gsearch.fit(X_train,y_train)\n",
    "\n",
    "    return gsearch\n",
    "\n",
    "#grid_xgb_best = hyperParameterTuning(X, y)\n",
    "#xgb_best_est = grid_xgb_best.best_estimator_\n",
    "#grid_xgb_best.best_params_\n",
    "best_xgb_param = {'colsample_bytree': 0.7,\n",
    " 'learning_rate': 0.01,\n",
    " 'max_depth': 7,\n",
    " 'min_child_weight': 1,\n",
    " 'n_estimators': 500,\n",
    " 'objective': 'reg:squarederror',\n",
    " 'reg_alpha': 1,\n",
    " 'reg_lambda': 1,\n",
    " 'subsample': 0.7};\n",
    "# xgb_best_est = XGBRegressor(best_xgb_param)"
   ]
  },
  {
   "cell_type": "code",
   "execution_count": 25,
   "metadata": {
    "execution": {
     "iopub.execute_input": "2020-12-06T20:51:41.315721Z",
     "iopub.status.busy": "2020-12-06T20:51:41.314643Z",
     "iopub.status.idle": "2020-12-06T20:51:41.318022Z",
     "shell.execute_reply": "2020-12-06T20:51:41.317303Z"
    },
    "papermill": {
     "duration": 0.071883,
     "end_time": "2020-12-06T20:51:41.318141",
     "exception": false,
     "start_time": "2020-12-06T20:51:41.246258",
     "status": "completed"
    },
    "tags": []
   },
   "outputs": [],
   "source": [
    "xgb_best_est = XGBRegressor(\n",
    "        colsample_bylevel=0.7,\n",
    "        learning_rate= 0.01,\n",
    " max_depth = 7,\n",
    " min_child_weight = 1,\n",
    " n_estimators = 500,\n",
    "         objective = 'reg:squarederror',\n",
    "         reg_alpha = 1,\n",
    "         reg_lambda = 1,\n",
    "         subsample = 0.7\n",
    "    )"
   ]
  },
  {
   "cell_type": "code",
   "execution_count": null,
   "metadata": {
    "id": "uZBshFODczAL",
    "papermill": {
     "duration": 0.061704,
     "end_time": "2020-12-06T20:51:41.442227",
     "exception": false,
     "start_time": "2020-12-06T20:51:41.380523",
     "status": "completed"
    },
    "tags": []
   },
   "outputs": [],
   "source": []
  },
  {
   "cell_type": "code",
   "execution_count": null,
   "metadata": {
    "id": "X0iOWiwcczAL",
    "papermill": {
     "duration": 0.061687,
     "end_time": "2020-12-06T20:51:41.565714",
     "exception": false,
     "start_time": "2020-12-06T20:51:41.504027",
     "status": "completed"
    },
    "tags": []
   },
   "outputs": [],
   "source": []
  },
  {
   "cell_type": "code",
   "execution_count": 26,
   "metadata": {
    "execution": {
     "iopub.execute_input": "2020-12-06T20:51:41.710619Z",
     "iopub.status.busy": "2020-12-06T20:51:41.704281Z",
     "iopub.status.idle": "2020-12-06T20:52:33.039550Z",
     "shell.execute_reply": "2020-12-06T20:52:33.038682Z"
    },
    "id": "_5ZHgOJvczAL",
    "papermill": {
     "duration": 51.412064,
     "end_time": "2020-12-06T20:52:33.039741",
     "exception": false,
     "start_time": "2020-12-06T20:51:41.627677",
     "status": "completed"
    },
    "tags": []
   },
   "outputs": [
    {
     "name": "stdout",
     "output_type": "stream",
     "text": [
      "Start lmodel\n"
     ]
    },
    {
     "name": "stderr",
     "output_type": "stream",
     "text": [
      "/opt/conda/lib/python3.7/site-packages/ipykernel_launcher.py:8: RuntimeWarning: invalid value encountered in log\n",
      "  \n"
     ]
    },
    {
     "name": "stdout",
     "output_type": "stream",
     "text": [
      "Cross val: [-0.10409099 -0.10459163 -0.11211877 -0.13528723 -0.13212757] -0.11764323939473535\n",
      "train: [0, 1815]  test: [1816, 3629]  score: -0.1040909912655193\n",
      "train: [0, 3629]  test: [3630, 5443]  score: -0.10459162922040839\n",
      "train: [0, 5443]  test: [5444, 7257]  score: -0.11211877318445626\n",
      "train: [0, 7257]  test: [7258, 9071]  score: -0.13528723451161476\n",
      "train: [0, 9071]  test: [9072, 10885]  score: -0.13212756879167808\n",
      "itercept: 0.18164931939346476\n",
      "itercept holiday                -0.00878\n",
      "itercept workingday              0.00234\n",
      "itercept temp                    0.00534\n",
      "itercept atemp                   0.00268\n",
      "itercept humidity               -0.00188\n",
      "itercept windspeed               0.00051\n",
      "itercept dt_hour                 0.00752\n",
      "itercept year                     -2e-05\n",
      "itercept dt_Year                  -2e-05\n",
      "itercept dt_Month               -0.18598\n",
      "itercept dt_Day                 -0.00618\n",
      "itercept dt_Dayofweek            0.00141\n",
      "itercept dt_Dayofyear            0.00626\n",
      "itercept dt_Is_month_end            -0.0\n",
      "itercept dt_Is_month_start        -6e-05\n",
      "itercept dt_Is_quarter_end          -0.0\n",
      "itercept dt_Is_quarter_start    -0.01367\n",
      "itercept dt_Is_year_end              0.0\n",
      "itercept dt_Is_year_start        0.00201\n",
      "itercept dt_Week                -0.00032\n",
      "itercept date_day_idx           -0.00031\n",
      "itercept date_hour_idx             2e-05\n",
      "itercept season_1                 0.0177\n",
      "itercept season_2                0.01362\n",
      "itercept season_3               -0.03387\n",
      "itercept season_4                0.00255\n",
      "itercept weather_1              -0.01129\n",
      "itercept weather_2              -0.00496\n",
      "itercept weather_3               -0.0404\n",
      "itercept weather_4               0.05665\n",
      "rmsle train: 0.10626350410875501\n",
      "rmsle test: 0.10863265074211313\n",
      "Start xg_boost_best\n",
      "Cross val: [-0.07963336 -0.08425542 -0.07659408 -0.06549707 -0.05860286] -0.07291655622829482\n",
      "train: [0, 1815]  test: [1816, 3629]  score: -0.07963335906423145\n",
      "train: [0, 3629]  test: [3630, 5443]  score: -0.08425541987663439\n",
      "train: [0, 5443]  test: [5444, 7257]  score: -0.07659407974179167\n",
      "train: [0, 7257]  test: [7258, 9071]  score: -0.0654970664288106\n",
      "train: [0, 9071]  test: [9072, 10885]  score: -0.05860285603000599\n",
      "rmsle train: 0.03184238378417415\n",
      "rmsle test: 0.034712567110495626\n",
      "Start xg_boost\n",
      "[20:52:27] WARNING: /workspace/src/objective/regression_obj.cu:152: reg:linear is now deprecated in favor of reg:squarederror.\n",
      "[20:52:28] WARNING: /workspace/src/objective/regression_obj.cu:152: reg:linear is now deprecated in favor of reg:squarederror.\n",
      "[20:52:29] WARNING: /workspace/src/objective/regression_obj.cu:152: reg:linear is now deprecated in favor of reg:squarederror.\n",
      "[20:52:29] WARNING: /workspace/src/objective/regression_obj.cu:152: reg:linear is now deprecated in favor of reg:squarederror.\n",
      "[20:52:30] WARNING: /workspace/src/objective/regression_obj.cu:152: reg:linear is now deprecated in favor of reg:squarederror.\n",
      "[20:52:30] WARNING: /workspace/src/objective/regression_obj.cu:152: reg:linear is now deprecated in favor of reg:squarederror.\n",
      "Cross val: [-0.06929803 -0.04886612 -0.08785052 -0.06680515 -0.07059687] -0.06868333739916055\n",
      "train: [0, 1815]  test: [1816, 3629]  score: -0.06929803064422681\n",
      "train: [0, 3629]  test: [3630, 5443]  score: -0.04886611550685896\n",
      "train: [0, 5443]  test: [5444, 7257]  score: -0.08785052367346462\n",
      "train: [0, 7257]  test: [7258, 9071]  score: -0.06680515004072124\n",
      "train: [0, 9071]  test: [9072, 10885]  score: -0.07059686713053116\n",
      "itercept holiday              0.004209999926388264\n",
      "itercept workingday           0.11874999850988388\n",
      "itercept temp                 0.09662999957799911\n",
      "itercept atemp                0.19845999777317047\n",
      "itercept humidity             0.03579999879002571\n",
      "itercept windspeed            0.004379999823868275\n",
      "itercept dt_hour              0.20835000276565552\n",
      "itercept year                 0.0011099999537691474\n",
      "itercept dt_Year                     0.0\n",
      "itercept dt_Month             0.0038399999029934406\n",
      "itercept dt_Day               0.00547999981790781\n",
      "itercept dt_Dayofweek         0.030810000374913216\n",
      "itercept dt_Dayofyear         0.007040000054985285\n",
      "itercept dt_Is_month_end             0.0\n",
      "itercept dt_Is_month_start           0.0\n",
      "itercept dt_Is_quarter_end           0.0\n",
      "itercept dt_Is_quarter_start  0.0009299999801442027\n",
      "itercept dt_Is_year_end              0.0\n",
      "itercept dt_Is_year_start            0.0\n",
      "itercept dt_Week              0.004410000052303076\n",
      "itercept date_day_idx         0.03272999823093414\n",
      "itercept date_hour_idx        0.17506000399589539\n",
      "itercept season_1                    0.0\n",
      "itercept season_2                    0.0\n",
      "itercept season_3                    0.0\n",
      "itercept season_4                    0.0\n",
      "itercept weather_1            0.018290000036358833\n",
      "itercept weather_2            0.001129999989643693\n",
      "itercept weather_3            0.05260000005364418\n",
      "itercept weather_4                   0.0\n",
      "[20:52:31] WARNING: /workspace/src/objective/regression_obj.cu:152: reg:linear is now deprecated in favor of reg:squarederror.\n",
      "rmsle train: 0.04599522654418947\n",
      "rmsle test: 0.047762435732215947\n",
      "{'lmodel': {'mean': -0.11764323939473535, 'lrmse_train': 0.10626350410875501, 'lrmse': 0.10863265074211313}, 'xg_boost_best': {'mean': -0.07291655622829482, 'lrmse_train': 0.03184238378417415, 'lrmse': 0.034712567110495626}, 'xg_boost': {'mean': -0.06868333739916055, 'lrmse_train': 0.04599522654418947, 'lrmse': 0.047762435732215947}}\n"
     ]
    }
   ],
   "source": [
    "from sklearn.linear_model import LinearRegression\n",
    "from sklearn.model_selection import cross_val_score\n",
    "from sklearn.metrics import mean_squared_log_error\n",
    "import xgboost as xgb\n",
    "from sklearn.model_selection import train_test_split, cross_validate\n",
    "\n",
    "\n",
    "model_l = {\n",
    "    'lmodel' : LinearRegression(),\n",
    "    'xg_boost_best' : xgb_best_est,\n",
    "    'xg_boost' : xgb.XGBRegressor(),\n",
    "}\n",
    "result={}\n",
    "\n",
    "yy = list(set(y.values))\n",
    "\n",
    "X_train, X_test, y_train, y_test = train_test_split(X, y, \n",
    "                                                    test_size=.2, random_state=seed)\n",
    "for m in model_l:\n",
    "    print(f\"Start {m}\")\n",
    "    lmodel = model_l[m]\n",
    "    result[m]={}\n",
    "\n",
    "    \n",
    "    lmodel.fit(X_train, y_train)\n",
    "    cv_scores = cross_val_score(lmodel, X, y, cv=time_splits, scoring=scorer)\n",
    "    print(\"Cross val:\",cv_scores, cv_scores.mean())\n",
    "    result[m]['mean']=cv_scores.mean()\n",
    "    idx=0\n",
    "    for train_index, test_index in time_splits.split(X):\n",
    "        print(\"train:\",[min(train_index),max(train_index)],\" test:\",[min(test_index),max(test_index)] ,\" score:\",cv_scores[idx])\n",
    "        idx+=1\n",
    "\n",
    "    if (m in ['lmodel']):\n",
    "        # print the coefficients\n",
    "        print(\"itercept:\",lmodel.intercept_)\n",
    "        for x_idx, x_col_name in enumerate(X_train.columns):\n",
    "            print(f\"itercept {x_col_name:20} {round(lmodel.coef_[x_idx],5):10}\")\n",
    "    if (m in ['xg_boost']):\n",
    "        for x_idx, feature_imp in zip(X_train.columns, lmodel.feature_importances_):\n",
    "            print(f\"itercept {x_idx:20} {round(feature_imp,5):10}\")\n",
    "        \n",
    "    # for train_index, test_index in splits.split(X):\n",
    "    #     print(\"train:\",[min(train_index),max(train_index)],\" test:\",[min(test_index),max(test_index)] )\n",
    "\n",
    "    lmodel.fit(X_train, y_train)\n",
    "    pre_train = lmodel.predict(X_train)\n",
    "    pre_test = lmodel.predict(X_test)\n",
    "    print(\"rmsle train:\",rmsle(y_train, pre_train))\n",
    "    result[m]['lrmse_train']=rmsle(y_train, pre_train)\n",
    "    print(\"rmsle test:\",rmsle(y_test, pre_test))\n",
    "    result[m]['lrmse']=rmsle(y_test, pre_test)\n",
    "print(result)\n",
    "\n"
   ]
  },
  {
   "cell_type": "code",
   "execution_count": 27,
   "metadata": {
    "execution": {
     "iopub.execute_input": "2020-12-06T20:52:33.184164Z",
     "iopub.status.busy": "2020-12-06T20:52:33.183415Z",
     "iopub.status.idle": "2020-12-06T20:52:33.331150Z",
     "shell.execute_reply": "2020-12-06T20:52:33.330352Z"
    },
    "id": "dx0sWESHczAL",
    "papermill": {
     "duration": 0.22414,
     "end_time": "2020-12-06T20:52:33.331286",
     "exception": false,
     "start_time": "2020-12-06T20:52:33.107146",
     "status": "completed"
    },
    "tags": []
   },
   "outputs": [],
   "source": [
    "\n",
    "# Machine learning pipeline\n",
    "from sklearn.model_selection import train_test_split, cross_validate\n",
    "from sklearn.impute import SimpleImputer\n",
    "from sklearn.preprocessing import OneHotEncoder, MinMaxScaler\n",
    "from sklearn.compose import ColumnTransformer\n",
    "from sklearn.pipeline import Pipeline\n",
    "from sklearn.base import BaseEstimator, TransformerMixin\n",
    "from sklearn.dummy import DummyClassifier\n",
    "from sklearn.linear_model import LogisticRegression, SGDClassifier\n",
    "from sklearn.ensemble import ExtraTreesClassifier, GradientBoostingClassifier\n",
    "from sklearn.ensemble import RandomForestClassifier\n",
    "from sklearn.naive_bayes import MultinomialNB\n",
    "from sklearn.svm import SVC\n",
    "from xgboost.sklearn import XGBClassifier\n",
    "\n"
   ]
  },
  {
   "cell_type": "code",
   "execution_count": null,
   "metadata": {
    "papermill": {
     "duration": 0.06665,
     "end_time": "2020-12-06T20:52:33.465559",
     "exception": false,
     "start_time": "2020-12-06T20:52:33.398909",
     "status": "completed"
    },
    "tags": []
   },
   "outputs": [],
   "source": []
  },
  {
   "cell_type": "code",
   "execution_count": 28,
   "metadata": {
    "execution": {
     "iopub.execute_input": "2020-12-06T20:52:33.625347Z",
     "iopub.status.busy": "2020-12-06T20:52:33.624286Z",
     "iopub.status.idle": "2020-12-06T20:52:33.627792Z",
     "shell.execute_reply": "2020-12-06T20:52:33.627125Z"
    },
    "id": "gVHWmFupczAL",
    "papermill": {
     "duration": 0.095339,
     "end_time": "2020-12-06T20:52:33.627917",
     "exception": false,
     "start_time": "2020-12-06T20:52:33.532578",
     "status": "completed"
    },
    "tags": []
   },
   "outputs": [],
   "source": [
    "def create_baseline_classifiers(seed=1):\n",
    "    \"\"\"Create a list of baseline classifiers.\n",
    "    \n",
    "    Parameters\n",
    "    ----------\n",
    "    seed: (optional) An integer to set seed for reproducibility\n",
    "\n",
    "    Returns\n",
    "    -------\n",
    "    A list containing tuple of name, model object for each of these algortihms:\n",
    "    DummyClassifier, LogisticRegression, SGDClassifier, ExtraTreesClassifier, \n",
    "    GradientBoostingClassifier, RandomForestClassifier, MultinomialNB, SVC, \n",
    "    XGBClassifier.\n",
    "    \n",
    "    \"\"\"\n",
    "    models = []\n",
    "    models.append(('dum', DummyClassifier(random_state=seed, strategy='most_frequent')))\n",
    "    models.append(('log', LogisticRegression(random_state=seed)))\n",
    "    models.append(('sgd', SGDClassifier(random_state=seed)))\n",
    "    models.append(('etc', ExtraTreesClassifier(random_state=seed)))\n",
    "    models.append(('gbm', GradientBoostingClassifier(random_state=seed)))\n",
    "    models.append(('rfc', RandomForestClassifier(random_state=seed)))\n",
    "    models.append(('mnb', MultinomialNB()))\n",
    "    models.append(('svc', SVC(random_state=seed, probability=True)))\n",
    "    models.append(('xgb', XGBClassifier(seed=seed)))\n",
    "    return models\n",
    "\n",
    "def assess_models(X, y, models, cv=5, metrics=['roc_auc', 'f1'],scorer={}):\n",
    "    \"\"\"Provide summary of cross validation results for models.\n",
    "    \n",
    "    Parameters\n",
    "    ----------\n",
    "    X: A pandas DataFrame containing feature matrix\n",
    "    y: A pandas Series containing target vector\n",
    "    models: A list of models to train\n",
    "    cv: (optional) An integer to set number of folds in cross-validation\n",
    "    metrics: (optional) A list of scoring metrics or a string for a metric\n",
    "\n",
    "    Returns\n",
    "    -------\n",
    "    A pandas DataFrame containing summary of baseline models' performance.\n",
    "    \n",
    "    \"\"\"\n",
    "    summary = pd.DataFrame()\n",
    "    for name, model in models:\n",
    "        cross_validate_val = cross_validate(model, X, y, cv=cv, scoring=metrics)\n",
    "        # print(\"1 cross_validate_val:\\n\",cross_validate_val)\n",
    "        for scorer_name in scorer:\n",
    "            result1 = cross_val_score(model, X, y, cv=time_splits, scoring=scorer[scorer_name])\n",
    "            cross_validate_val[scorer_name] = result1\n",
    "            # print(\"result1:\",result1)\n",
    "        # print(\"2 cross_validate_val:\\n\",cross_validate_val)\n",
    "        result = pd.DataFrame(cross_validate_val)\n",
    "        mean = result.mean().rename('{}_mean'.format)\n",
    "        std = result.std().rename('{}_std'.format)\n",
    "        min1 = result.min().rename('{}_min'.format)\n",
    "        max1 = result.max().rename('{}_max'.format)\n",
    "\n",
    "        summary[name] = pd.concat([mean, std, max1, min1], axis=0)\n",
    "\n",
    "\n",
    "    return summary.sort_index()\n",
    "\n",
    "def extract_metric(summary, metric):\n",
    "    \"\"\"Provide summary of baseline models' performance for a metric.\n",
    "    \n",
    "    Parameters\n",
    "    ----------\n",
    "    summary: A pandas DataFrame containing the summary of baseline models\n",
    "    metric: A string specifying the name of the metric to extract info\n",
    "    \n",
    "    Returns\n",
    "    -------\n",
    "    A pandas DataFrame containing mean, standard deviation, lower and upper\n",
    "    bound of the baseline models' performance in cross validation according to\n",
    "    the metric specified.\n",
    "    \n",
    "    \"\"\"\n",
    "    output = summary[summary.index.str.contains(metric)].T\n",
    "    output.columns = output.columns.str.replace(f'test_{metric}_', '')\n",
    "    output.sort_values(by='mean', ascending=False, inplace=True)\n",
    "    output['lower'] = output['mean'] - 2*output['std']\n",
    "    output['upper'] = output['mean'] + 2*output['std']\n",
    "    return output\n"
   ]
  },
  {
   "cell_type": "code",
   "execution_count": null,
   "metadata": {
    "id": "xOkMLXxr0D3c",
    "papermill": {
     "duration": 0.067007,
     "end_time": "2020-12-06T20:52:33.762345",
     "exception": false,
     "start_time": "2020-12-06T20:52:33.695338",
     "status": "completed"
    },
    "tags": []
   },
   "outputs": [],
   "source": []
  },
  {
   "cell_type": "code",
   "execution_count": 29,
   "metadata": {
    "execution": {
     "iopub.execute_input": "2020-12-06T20:52:33.910996Z",
     "iopub.status.busy": "2020-12-06T20:52:33.909381Z",
     "iopub.status.idle": "2020-12-06T20:52:33.918196Z",
     "shell.execute_reply": "2020-12-06T20:52:33.917375Z"
    },
    "id": "i5cI-XomczAM",
    "papermill": {
     "duration": 0.087959,
     "end_time": "2020-12-06T20:52:33.918353",
     "exception": false,
     "start_time": "2020-12-06T20:52:33.830394",
     "status": "completed"
    },
    "tags": []
   },
   "outputs": [
    {
     "name": "stdout",
     "output_type": "stream",
     "text": [
      "Training data (8708 rows): Target distribution\n",
      "\n",
      "Test data (2178 rows): Target distribution\n"
     ]
    }
   ],
   "source": [
    "# Set target\n",
    "target = 'count'\n",
    "features = X.columns\n",
    "\n",
    "# Split data into train & test\n",
    "X_train, X_test, y_train, y_test = train_test_split(X, y, \n",
    "                                                    test_size=.2, random_state=seed)\n",
    "\n",
    "# Inspect data\n",
    "print(f\"Training data ({X_train.shape[0]} rows): Target distribution\")\n",
    "# print(y_train.value_counts(normalize=True))\n",
    "print(f\"\\nTest data ({X_test.shape[0]} rows): Target distribution\")\n",
    "# print(y_train.value_counts(normalize=True))\n",
    "\n"
   ]
  },
  {
   "cell_type": "code",
   "execution_count": 30,
   "metadata": {
    "execution": {
     "iopub.execute_input": "2020-12-06T20:52:34.059663Z",
     "iopub.status.busy": "2020-12-06T20:52:34.058933Z",
     "iopub.status.idle": "2020-12-06T20:52:34.062801Z",
     "shell.execute_reply": "2020-12-06T20:52:34.062031Z"
    },
    "id": "vazkptfcczAM",
    "papermill": {
     "duration": 0.075538,
     "end_time": "2020-12-06T20:52:34.062921",
     "exception": false,
     "start_time": "2020-12-06T20:52:33.987383",
     "status": "completed"
    },
    "tags": []
   },
   "outputs": [],
   "source": [
    "# models = create_baseline_classifiers(seed=seed)\n",
    "# summary = assess_models(X_train, y_train, models, cv=time_splits, metrics=['r2','neg_mean_absolute_error','neg_root_mean_squared_error','neg_mean_squared_log_error'])\n",
    "# summary"
   ]
  },
  {
   "cell_type": "code",
   "execution_count": 31,
   "metadata": {
    "execution": {
     "iopub.execute_input": "2020-12-06T20:52:34.216730Z",
     "iopub.status.busy": "2020-12-06T20:52:34.215636Z",
     "iopub.status.idle": "2020-12-06T20:54:52.632129Z",
     "shell.execute_reply": "2020-12-06T20:54:52.631433Z"
    },
    "id": "W9D-Mjb0kWEi",
    "papermill": {
     "duration": 138.50116,
     "end_time": "2020-12-06T20:54:52.632274",
     "exception": false,
     "start_time": "2020-12-06T20:52:34.131114",
     "status": "completed"
    },
    "tags": []
   },
   "outputs": [
    {
     "name": "stderr",
     "output_type": "stream",
     "text": [
      "/opt/conda/lib/python3.7/site-packages/ipykernel_launcher.py:8: RuntimeWarning: invalid value encountered in log\n",
      "  \n",
      "/opt/conda/lib/python3.7/site-packages/ipykernel_launcher.py:8: RuntimeWarning: invalid value encountered in log\n",
      "  \n",
      "/opt/conda/lib/python3.7/site-packages/ipykernel_launcher.py:8: RuntimeWarning: invalid value encountered in log\n",
      "  \n",
      "/opt/conda/lib/python3.7/site-packages/ipykernel_launcher.py:8: RuntimeWarning: invalid value encountered in log\n",
      "  \n"
     ]
    },
    {
     "name": "stdout",
     "output_type": "stream",
     "text": [
      "[20:53:59] WARNING: /workspace/src/objective/regression_obj.cu:152: reg:linear is now deprecated in favor of reg:squarederror.\n",
      "[20:53:59] WARNING: /workspace/src/objective/regression_obj.cu:152: reg:linear is now deprecated in favor of reg:squarederror.\n",
      "[20:54:00] WARNING: /workspace/src/objective/regression_obj.cu:152: reg:linear is now deprecated in favor of reg:squarederror.\n",
      "[20:54:00] WARNING: /workspace/src/objective/regression_obj.cu:152: reg:linear is now deprecated in favor of reg:squarederror.\n",
      "[20:54:01] WARNING: /workspace/src/objective/regression_obj.cu:152: reg:linear is now deprecated in favor of reg:squarederror.\n",
      "[20:54:02] WARNING: /workspace/src/objective/regression_obj.cu:152: reg:linear is now deprecated in favor of reg:squarederror.\n",
      "[20:54:02] WARNING: /workspace/src/objective/regression_obj.cu:152: reg:linear is now deprecated in favor of reg:squarederror.\n",
      "[20:54:02] WARNING: /workspace/src/objective/regression_obj.cu:152: reg:linear is now deprecated in favor of reg:squarederror.\n",
      "[20:54:03] WARNING: /workspace/src/objective/regression_obj.cu:152: reg:linear is now deprecated in favor of reg:squarederror.\n",
      "[20:54:03] WARNING: /workspace/src/objective/regression_obj.cu:152: reg:linear is now deprecated in favor of reg:squarederror.\n"
     ]
    }
   ],
   "source": [
    "\n",
    "from sklearn.dummy import DummyRegressor\n",
    "from sklearn.linear_model import LinearRegression, SGDRegressor\n",
    "from sklearn.ensemble import ExtraTreesRegressor, GradientBoostingRegressor, RandomForestRegressor\n",
    "from sklearn.svm import SVR\n",
    "from xgboost.sklearn import XGBRegressor\n",
    "\n",
    "def create_baseline_regressors(seed=8):\n",
    "    \"\"\"Create a list of of baseline regressors.\n",
    "    \n",
    "    Parameters\n",
    "    ----------\n",
    "    seed: (optional) An integer to set seed for reproducibility\n",
    "\n",
    "    Returns\n",
    "    -------\n",
    "    A list containing tuple of name, model object for each of these algortihms:\n",
    "    DummyRegressor, LinearRegression, SGDRegressor, ExtraTreesRegressor,\n",
    "    GradientBoostingRegressor, RandomForestRegressor, SVR, XGBRegressor.\n",
    "    \n",
    "    \"\"\"\n",
    "    models = []\n",
    "    models.append(('dum', DummyRegressor(strategy='mean')))\n",
    "    models.append(('ols', LinearRegression()))\n",
    "    models.append(('sgd', SGDRegressor(random_state=seed)))\n",
    "    models.append(('etr', ExtraTreesRegressor(random_state=seed)))\n",
    "    models.append(('gbm', GradientBoostingRegressor(random_state=seed)))\n",
    "    models.append(('rfr', RandomForestRegressor(random_state=seed)))\n",
    "    models.append(('svc', SVR()))\n",
    "    models.append(('xgb', XGBRegressor(seed=seed)))\n",
    "    models.append(('xgb_best', xgb_best_est))\n",
    "    return models\n",
    "\n",
    "\n",
    "models_reg = create_baseline_regressors(seed=seed)\n",
    "summary_reg = assess_models(X_train, y_train, models_reg, cv=time_splits, metrics=['max_error','r2','neg_mean_absolute_error','neg_median_absolute_error'], scorer={'LRSME':scorer})\n"
   ]
  },
  {
   "cell_type": "code",
   "execution_count": 32,
   "metadata": {
    "execution": {
     "iopub.execute_input": "2020-12-06T20:54:52.807726Z",
     "iopub.status.busy": "2020-12-06T20:54:52.806675Z",
     "iopub.status.idle": "2020-12-06T20:54:52.811531Z",
     "shell.execute_reply": "2020-12-06T20:54:52.812217Z"
    },
    "papermill": {
     "duration": 0.10561,
     "end_time": "2020-12-06T20:54:52.812366",
     "exception": false,
     "start_time": "2020-12-06T20:54:52.706756",
     "status": "completed"
    },
    "tags": []
   },
   "outputs": [
    {
     "data": {
      "text/html": [
       "<div>\n",
       "<style scoped>\n",
       "    .dataframe tbody tr th:only-of-type {\n",
       "        vertical-align: middle;\n",
       "    }\n",
       "\n",
       "    .dataframe tbody tr th {\n",
       "        vertical-align: top;\n",
       "    }\n",
       "\n",
       "    .dataframe thead th {\n",
       "        text-align: right;\n",
       "    }\n",
       "</style>\n",
       "<table border=\"1\" class=\"dataframe\">\n",
       "  <thead>\n",
       "    <tr style=\"text-align: right;\">\n",
       "      <th></th>\n",
       "      <th>dum</th>\n",
       "      <th>ols</th>\n",
       "      <th>sgd</th>\n",
       "      <th>etr</th>\n",
       "      <th>gbm</th>\n",
       "      <th>rfr</th>\n",
       "      <th>svc</th>\n",
       "      <th>xgb</th>\n",
       "      <th>xgb_best</th>\n",
       "    </tr>\n",
       "  </thead>\n",
       "  <tbody>\n",
       "    <tr>\n",
       "      <th>LRSME_max</th>\n",
       "      <td>-1.369429e-01</td>\n",
       "      <td>-0.104420</td>\n",
       "      <td>-3.311064e+01</td>\n",
       "      <td>-0.029757</td>\n",
       "      <td>-0.048105</td>\n",
       "      <td>-0.032420</td>\n",
       "      <td>-0.126121</td>\n",
       "      <td>-0.049237</td>\n",
       "      <td>-0.035627</td>\n",
       "    </tr>\n",
       "    <tr>\n",
       "      <th>LRSME_mean</th>\n",
       "      <td>-1.387618e-01</td>\n",
       "      <td>-0.107399</td>\n",
       "      <td>-3.468771e+01</td>\n",
       "      <td>-0.034901</td>\n",
       "      <td>-0.050853</td>\n",
       "      <td>-0.036681</td>\n",
       "      <td>-0.127794</td>\n",
       "      <td>-0.050902</td>\n",
       "      <td>-0.042076</td>\n",
       "    </tr>\n",
       "    <tr>\n",
       "      <th>LRSME_min</th>\n",
       "      <td>-1.409010e-01</td>\n",
       "      <td>-0.110482</td>\n",
       "      <td>-3.657707e+01</td>\n",
       "      <td>-0.041555</td>\n",
       "      <td>-0.054029</td>\n",
       "      <td>-0.047161</td>\n",
       "      <td>-0.132059</td>\n",
       "      <td>-0.052150</td>\n",
       "      <td>-0.055325</td>\n",
       "    </tr>\n",
       "    <tr>\n",
       "      <th>LRSME_std</th>\n",
       "      <td>1.437279e-03</td>\n",
       "      <td>0.002457</td>\n",
       "      <td>1.532235e+00</td>\n",
       "      <td>0.005025</td>\n",
       "      <td>0.002425</td>\n",
       "      <td>0.006336</td>\n",
       "      <td>0.002435</td>\n",
       "      <td>0.001119</td>\n",
       "      <td>0.007832</td>\n",
       "    </tr>\n",
       "    <tr>\n",
       "      <th>fit_time_max</th>\n",
       "      <td>2.800226e-03</td>\n",
       "      <td>0.032833</td>\n",
       "      <td>4.608729e-01</td>\n",
       "      <td>3.579511</td>\n",
       "      <td>1.560817</td>\n",
       "      <td>5.670985</td>\n",
       "      <td>3.250794</td>\n",
       "      <td>0.815163</td>\n",
       "      <td>7.876369</td>\n",
       "    </tr>\n",
       "    <tr>\n",
       "      <th>fit_time_mean</th>\n",
       "      <td>2.033567e-03</td>\n",
       "      <td>0.022163</td>\n",
       "      <td>2.042356e-01</td>\n",
       "      <td>2.178585</td>\n",
       "      <td>0.948382</td>\n",
       "      <td>3.374576</td>\n",
       "      <td>1.467099</td>\n",
       "      <td>0.502436</td>\n",
       "      <td>4.753321</td>\n",
       "    </tr>\n",
       "    <tr>\n",
       "      <th>fit_time_min</th>\n",
       "      <td>1.719952e-03</td>\n",
       "      <td>0.013189</td>\n",
       "      <td>4.498267e-02</td>\n",
       "      <td>0.777379</td>\n",
       "      <td>0.351129</td>\n",
       "      <td>1.137188</td>\n",
       "      <td>0.159012</td>\n",
       "      <td>0.184560</td>\n",
       "      <td>1.640098</td>\n",
       "    </tr>\n",
       "    <tr>\n",
       "      <th>fit_time_std</th>\n",
       "      <td>4.408825e-04</td>\n",
       "      <td>0.008068</td>\n",
       "      <td>1.624445e-01</td>\n",
       "      <td>1.109165</td>\n",
       "      <td>0.479590</td>\n",
       "      <td>1.796670</td>\n",
       "      <td>1.242010</td>\n",
       "      <td>0.247556</td>\n",
       "      <td>2.479522</td>\n",
       "    </tr>\n",
       "    <tr>\n",
       "      <th>score_time_max</th>\n",
       "      <td>1.486778e-03</td>\n",
       "      <td>0.009007</td>\n",
       "      <td>9.767532e-03</td>\n",
       "      <td>0.071878</td>\n",
       "      <td>0.013065</td>\n",
       "      <td>0.061592</td>\n",
       "      <td>0.326723</td>\n",
       "      <td>0.014074</td>\n",
       "      <td>0.059914</td>\n",
       "    </tr>\n",
       "    <tr>\n",
       "      <th>score_time_mean</th>\n",
       "      <td>1.370144e-03</td>\n",
       "      <td>0.008901</td>\n",
       "      <td>9.341145e-03</td>\n",
       "      <td>0.059651</td>\n",
       "      <td>0.012436</td>\n",
       "      <td>0.051286</td>\n",
       "      <td>0.208932</td>\n",
       "      <td>0.013957</td>\n",
       "      <td>0.057720</td>\n",
       "    </tr>\n",
       "    <tr>\n",
       "      <th>score_time_min</th>\n",
       "      <td>1.332283e-03</td>\n",
       "      <td>0.008794</td>\n",
       "      <td>9.162903e-03</td>\n",
       "      <td>0.043273</td>\n",
       "      <td>0.012151</td>\n",
       "      <td>0.038956</td>\n",
       "      <td>0.076404</td>\n",
       "      <td>0.013857</td>\n",
       "      <td>0.054563</td>\n",
       "    </tr>\n",
       "    <tr>\n",
       "      <th>score_time_std</th>\n",
       "      <td>6.641368e-05</td>\n",
       "      <td>0.000078</td>\n",
       "      <td>2.525593e-04</td>\n",
       "      <td>0.011307</td>\n",
       "      <td>0.000371</td>\n",
       "      <td>0.008859</td>\n",
       "      <td>0.099485</td>\n",
       "      <td>0.000101</td>\n",
       "      <td>0.002208</td>\n",
       "    </tr>\n",
       "    <tr>\n",
       "      <th>test_max_error_max</th>\n",
       "      <td>-6.646770e-01</td>\n",
       "      <td>-0.516003</td>\n",
       "      <td>-7.507506e+15</td>\n",
       "      <td>-0.268334</td>\n",
       "      <td>-0.311491</td>\n",
       "      <td>-0.269152</td>\n",
       "      <td>-0.604732</td>\n",
       "      <td>-0.291478</td>\n",
       "      <td>-0.255848</td>\n",
       "    </tr>\n",
       "    <tr>\n",
       "      <th>test_max_error_mean</th>\n",
       "      <td>-7.201656e-01</td>\n",
       "      <td>-0.577543</td>\n",
       "      <td>-1.786450e+16</td>\n",
       "      <td>-0.340590</td>\n",
       "      <td>-0.345521</td>\n",
       "      <td>-0.361530</td>\n",
       "      <td>-0.662045</td>\n",
       "      <td>-0.338725</td>\n",
       "      <td>-0.309668</td>\n",
       "    </tr>\n",
       "    <tr>\n",
       "      <th>test_max_error_min</th>\n",
       "      <td>-7.678168e-01</td>\n",
       "      <td>-0.631934</td>\n",
       "      <td>-2.595542e+16</td>\n",
       "      <td>-0.392358</td>\n",
       "      <td>-0.387848</td>\n",
       "      <td>-0.464200</td>\n",
       "      <td>-0.711474</td>\n",
       "      <td>-0.361368</td>\n",
       "      <td>-0.368031</td>\n",
       "    </tr>\n",
       "    <tr>\n",
       "      <th>test_max_error_std</th>\n",
       "      <td>4.663342e-02</td>\n",
       "      <td>0.053801</td>\n",
       "      <td>6.953097e+15</td>\n",
       "      <td>0.062813</td>\n",
       "      <td>0.031938</td>\n",
       "      <td>0.078200</td>\n",
       "      <td>0.048448</td>\n",
       "      <td>0.031283</td>\n",
       "      <td>0.039911</td>\n",
       "    </tr>\n",
       "    <tr>\n",
       "      <th>test_neg_mean_absolute_error_max</th>\n",
       "      <td>-1.361522e-01</td>\n",
       "      <td>-0.101112</td>\n",
       "      <td>-3.176992e+15</td>\n",
       "      <td>-0.022504</td>\n",
       "      <td>-0.042513</td>\n",
       "      <td>-0.023773</td>\n",
       "      <td>-0.119734</td>\n",
       "      <td>-0.044371</td>\n",
       "      <td>-0.030657</td>\n",
       "    </tr>\n",
       "    <tr>\n",
       "      <th>test_neg_mean_absolute_error_mean</th>\n",
       "      <td>-1.378777e-01</td>\n",
       "      <td>-0.102785</td>\n",
       "      <td>-9.227506e+15</td>\n",
       "      <td>-0.028718</td>\n",
       "      <td>-0.045895</td>\n",
       "      <td>-0.029704</td>\n",
       "      <td>-0.122331</td>\n",
       "      <td>-0.045908</td>\n",
       "      <td>-0.038128</td>\n",
       "    </tr>\n",
       "    <tr>\n",
       "      <th>test_neg_mean_absolute_error_min</th>\n",
       "      <td>-1.406700e-01</td>\n",
       "      <td>-0.104724</td>\n",
       "      <td>-1.257492e+16</td>\n",
       "      <td>-0.035858</td>\n",
       "      <td>-0.048698</td>\n",
       "      <td>-0.040164</td>\n",
       "      <td>-0.128618</td>\n",
       "      <td>-0.046661</td>\n",
       "      <td>-0.051655</td>\n",
       "    </tr>\n",
       "    <tr>\n",
       "      <th>test_neg_mean_absolute_error_std</th>\n",
       "      <td>2.048493e-03</td>\n",
       "      <td>0.001695</td>\n",
       "      <td>3.576080e+15</td>\n",
       "      <td>0.005318</td>\n",
       "      <td>0.002545</td>\n",
       "      <td>0.006624</td>\n",
       "      <td>0.003596</td>\n",
       "      <td>0.000902</td>\n",
       "      <td>0.008155</td>\n",
       "    </tr>\n",
       "    <tr>\n",
       "      <th>test_neg_median_absolute_error_max</th>\n",
       "      <td>-1.229625e-01</td>\n",
       "      <td>-0.079488</td>\n",
       "      <td>-2.950447e+15</td>\n",
       "      <td>-0.012497</td>\n",
       "      <td>-0.025815</td>\n",
       "      <td>-0.012682</td>\n",
       "      <td>-0.090875</td>\n",
       "      <td>-0.027655</td>\n",
       "      <td>-0.018720</td>\n",
       "    </tr>\n",
       "    <tr>\n",
       "      <th>test_neg_median_absolute_error_mean</th>\n",
       "      <td>-1.271318e-01</td>\n",
       "      <td>-0.080340</td>\n",
       "      <td>-9.166891e+15</td>\n",
       "      <td>-0.017079</td>\n",
       "      <td>-0.029042</td>\n",
       "      <td>-0.017527</td>\n",
       "      <td>-0.098660</td>\n",
       "      <td>-0.029244</td>\n",
       "      <td>-0.025129</td>\n",
       "    </tr>\n",
       "    <tr>\n",
       "      <th>test_neg_median_absolute_error_min</th>\n",
       "      <td>-1.319249e-01</td>\n",
       "      <td>-0.081463</td>\n",
       "      <td>-1.254985e+16</td>\n",
       "      <td>-0.020734</td>\n",
       "      <td>-0.030760</td>\n",
       "      <td>-0.024204</td>\n",
       "      <td>-0.108654</td>\n",
       "      <td>-0.031389</td>\n",
       "      <td>-0.035291</td>\n",
       "    </tr>\n",
       "    <tr>\n",
       "      <th>test_neg_median_absolute_error_std</th>\n",
       "      <td>4.208290e-03</td>\n",
       "      <td>0.000900</td>\n",
       "      <td>3.659999e+15</td>\n",
       "      <td>0.003283</td>\n",
       "      <td>0.002265</td>\n",
       "      <td>0.004536</td>\n",
       "      <td>0.006569</td>\n",
       "      <td>0.001433</td>\n",
       "      <td>0.006205</td>\n",
       "    </tr>\n",
       "    <tr>\n",
       "      <th>test_r2_max</th>\n",
       "      <td>-6.272474e-07</td>\n",
       "      <td>0.418167</td>\n",
       "      <td>-4.695668e+32</td>\n",
       "      <td>0.951896</td>\n",
       "      <td>0.868341</td>\n",
       "      <td>0.941898</td>\n",
       "      <td>0.147914</td>\n",
       "      <td>0.859547</td>\n",
       "      <td>0.931415</td>\n",
       "    </tr>\n",
       "    <tr>\n",
       "      <th>test_r2_mean</th>\n",
       "      <td>-2.599253e-04</td>\n",
       "      <td>0.386109</td>\n",
       "      <td>-3.977770e+33</td>\n",
       "      <td>0.931645</td>\n",
       "      <td>0.853711</td>\n",
       "      <td>0.925210</td>\n",
       "      <td>0.131992</td>\n",
       "      <td>0.853270</td>\n",
       "      <td>0.901554</td>\n",
       "    </tr>\n",
       "    <tr>\n",
       "      <th>test_r2_min</th>\n",
       "      <td>-4.122241e-04</td>\n",
       "      <td>0.344216</td>\n",
       "      <td>-6.684430e+33</td>\n",
       "      <td>0.909176</td>\n",
       "      <td>0.830301</td>\n",
       "      <td>0.885324</td>\n",
       "      <td>0.106468</td>\n",
       "      <td>0.845003</td>\n",
       "      <td>0.839531</td>\n",
       "    </tr>\n",
       "    <tr>\n",
       "      <th>test_r2_std</th>\n",
       "      <td>1.628823e-04</td>\n",
       "      <td>0.029647</td>\n",
       "      <td>2.333849e+33</td>\n",
       "      <td>0.019044</td>\n",
       "      <td>0.014564</td>\n",
       "      <td>0.024627</td>\n",
       "      <td>0.017130</td>\n",
       "      <td>0.006773</td>\n",
       "      <td>0.036873</td>\n",
       "    </tr>\n",
       "  </tbody>\n",
       "</table>\n",
       "</div>"
      ],
      "text/plain": [
       "                                              dum       ols           sgd  \\\n",
       "LRSME_max                           -1.369429e-01 -0.104420 -3.311064e+01   \n",
       "LRSME_mean                          -1.387618e-01 -0.107399 -3.468771e+01   \n",
       "LRSME_min                           -1.409010e-01 -0.110482 -3.657707e+01   \n",
       "LRSME_std                            1.437279e-03  0.002457  1.532235e+00   \n",
       "fit_time_max                         2.800226e-03  0.032833  4.608729e-01   \n",
       "fit_time_mean                        2.033567e-03  0.022163  2.042356e-01   \n",
       "fit_time_min                         1.719952e-03  0.013189  4.498267e-02   \n",
       "fit_time_std                         4.408825e-04  0.008068  1.624445e-01   \n",
       "score_time_max                       1.486778e-03  0.009007  9.767532e-03   \n",
       "score_time_mean                      1.370144e-03  0.008901  9.341145e-03   \n",
       "score_time_min                       1.332283e-03  0.008794  9.162903e-03   \n",
       "score_time_std                       6.641368e-05  0.000078  2.525593e-04   \n",
       "test_max_error_max                  -6.646770e-01 -0.516003 -7.507506e+15   \n",
       "test_max_error_mean                 -7.201656e-01 -0.577543 -1.786450e+16   \n",
       "test_max_error_min                  -7.678168e-01 -0.631934 -2.595542e+16   \n",
       "test_max_error_std                   4.663342e-02  0.053801  6.953097e+15   \n",
       "test_neg_mean_absolute_error_max    -1.361522e-01 -0.101112 -3.176992e+15   \n",
       "test_neg_mean_absolute_error_mean   -1.378777e-01 -0.102785 -9.227506e+15   \n",
       "test_neg_mean_absolute_error_min    -1.406700e-01 -0.104724 -1.257492e+16   \n",
       "test_neg_mean_absolute_error_std     2.048493e-03  0.001695  3.576080e+15   \n",
       "test_neg_median_absolute_error_max  -1.229625e-01 -0.079488 -2.950447e+15   \n",
       "test_neg_median_absolute_error_mean -1.271318e-01 -0.080340 -9.166891e+15   \n",
       "test_neg_median_absolute_error_min  -1.319249e-01 -0.081463 -1.254985e+16   \n",
       "test_neg_median_absolute_error_std   4.208290e-03  0.000900  3.659999e+15   \n",
       "test_r2_max                         -6.272474e-07  0.418167 -4.695668e+32   \n",
       "test_r2_mean                        -2.599253e-04  0.386109 -3.977770e+33   \n",
       "test_r2_min                         -4.122241e-04  0.344216 -6.684430e+33   \n",
       "test_r2_std                          1.628823e-04  0.029647  2.333849e+33   \n",
       "\n",
       "                                          etr       gbm       rfr       svc  \\\n",
       "LRSME_max                           -0.029757 -0.048105 -0.032420 -0.126121   \n",
       "LRSME_mean                          -0.034901 -0.050853 -0.036681 -0.127794   \n",
       "LRSME_min                           -0.041555 -0.054029 -0.047161 -0.132059   \n",
       "LRSME_std                            0.005025  0.002425  0.006336  0.002435   \n",
       "fit_time_max                         3.579511  1.560817  5.670985  3.250794   \n",
       "fit_time_mean                        2.178585  0.948382  3.374576  1.467099   \n",
       "fit_time_min                         0.777379  0.351129  1.137188  0.159012   \n",
       "fit_time_std                         1.109165  0.479590  1.796670  1.242010   \n",
       "score_time_max                       0.071878  0.013065  0.061592  0.326723   \n",
       "score_time_mean                      0.059651  0.012436  0.051286  0.208932   \n",
       "score_time_min                       0.043273  0.012151  0.038956  0.076404   \n",
       "score_time_std                       0.011307  0.000371  0.008859  0.099485   \n",
       "test_max_error_max                  -0.268334 -0.311491 -0.269152 -0.604732   \n",
       "test_max_error_mean                 -0.340590 -0.345521 -0.361530 -0.662045   \n",
       "test_max_error_min                  -0.392358 -0.387848 -0.464200 -0.711474   \n",
       "test_max_error_std                   0.062813  0.031938  0.078200  0.048448   \n",
       "test_neg_mean_absolute_error_max    -0.022504 -0.042513 -0.023773 -0.119734   \n",
       "test_neg_mean_absolute_error_mean   -0.028718 -0.045895 -0.029704 -0.122331   \n",
       "test_neg_mean_absolute_error_min    -0.035858 -0.048698 -0.040164 -0.128618   \n",
       "test_neg_mean_absolute_error_std     0.005318  0.002545  0.006624  0.003596   \n",
       "test_neg_median_absolute_error_max  -0.012497 -0.025815 -0.012682 -0.090875   \n",
       "test_neg_median_absolute_error_mean -0.017079 -0.029042 -0.017527 -0.098660   \n",
       "test_neg_median_absolute_error_min  -0.020734 -0.030760 -0.024204 -0.108654   \n",
       "test_neg_median_absolute_error_std   0.003283  0.002265  0.004536  0.006569   \n",
       "test_r2_max                          0.951896  0.868341  0.941898  0.147914   \n",
       "test_r2_mean                         0.931645  0.853711  0.925210  0.131992   \n",
       "test_r2_min                          0.909176  0.830301  0.885324  0.106468   \n",
       "test_r2_std                          0.019044  0.014564  0.024627  0.017130   \n",
       "\n",
       "                                          xgb  xgb_best  \n",
       "LRSME_max                           -0.049237 -0.035627  \n",
       "LRSME_mean                          -0.050902 -0.042076  \n",
       "LRSME_min                           -0.052150 -0.055325  \n",
       "LRSME_std                            0.001119  0.007832  \n",
       "fit_time_max                         0.815163  7.876369  \n",
       "fit_time_mean                        0.502436  4.753321  \n",
       "fit_time_min                         0.184560  1.640098  \n",
       "fit_time_std                         0.247556  2.479522  \n",
       "score_time_max                       0.014074  0.059914  \n",
       "score_time_mean                      0.013957  0.057720  \n",
       "score_time_min                       0.013857  0.054563  \n",
       "score_time_std                       0.000101  0.002208  \n",
       "test_max_error_max                  -0.291478 -0.255848  \n",
       "test_max_error_mean                 -0.338725 -0.309668  \n",
       "test_max_error_min                  -0.361368 -0.368031  \n",
       "test_max_error_std                   0.031283  0.039911  \n",
       "test_neg_mean_absolute_error_max    -0.044371 -0.030657  \n",
       "test_neg_mean_absolute_error_mean   -0.045908 -0.038128  \n",
       "test_neg_mean_absolute_error_min    -0.046661 -0.051655  \n",
       "test_neg_mean_absolute_error_std     0.000902  0.008155  \n",
       "test_neg_median_absolute_error_max  -0.027655 -0.018720  \n",
       "test_neg_median_absolute_error_mean -0.029244 -0.025129  \n",
       "test_neg_median_absolute_error_min  -0.031389 -0.035291  \n",
       "test_neg_median_absolute_error_std   0.001433  0.006205  \n",
       "test_r2_max                          0.859547  0.931415  \n",
       "test_r2_mean                         0.853270  0.901554  \n",
       "test_r2_min                          0.845003  0.839531  \n",
       "test_r2_std                          0.006773  0.036873  "
      ]
     },
     "execution_count": 32,
     "metadata": {},
     "output_type": "execute_result"
    }
   ],
   "source": [
    "summary_reg"
   ]
  },
  {
   "cell_type": "code",
   "execution_count": 33,
   "metadata": {
    "execution": {
     "iopub.execute_input": "2020-12-06T20:54:52.973477Z",
     "iopub.status.busy": "2020-12-06T20:54:52.972494Z",
     "iopub.status.idle": "2020-12-06T20:55:04.708425Z",
     "shell.execute_reply": "2020-12-06T20:55:04.707628Z"
    },
    "id": "aPHZcItS_AWf",
    "papermill": {
     "duration": 11.820963,
     "end_time": "2020-12-06T20:55:04.708552",
     "exception": false,
     "start_time": "2020-12-06T20:54:52.887589",
     "status": "completed"
    },
    "tags": []
   },
   "outputs": [
    {
     "name": "stdout",
     "output_type": "stream",
     "text": [
      "(6493,)\n",
      "(6493,)\n"
     ]
    }
   ],
   "source": [
    "clf_rf = xgb_best_est\n",
    "clf_rf.fit(X,y)\n",
    "pred=clf_rf.predict(test_df.drop(['datetime', 'dt_datetime'],axis=1))\n",
    "print(pred.shape)\n",
    "\n",
    "# add a min-max per date&time perdiction fixer\n",
    "pred_post = abs(pred) * (T_count['max']-T_count['min']) + T_count['min']\n",
    "# X_std = (X - X.min(axis=0)) / (X.max(axis=0) - X.min(axis=0))\n",
    "# X_scaled = X_std * (max - min) + min\n",
    "\n",
    "print(pred_post.shape)\n",
    "d={'datetime':test_df['datetime'],'count':pred_post}\n",
    "ans=pd.DataFrame(d)\n",
    "ans.to_csv('submission.csv',index=False) # saving to a csv file for predictions."
   ]
  },
  {
   "cell_type": "code",
   "execution_count": null,
   "metadata": {
    "papermill": {
     "duration": 0.076039,
     "end_time": "2020-12-06T20:55:04.861199",
     "exception": false,
     "start_time": "2020-12-06T20:55:04.785160",
     "status": "completed"
    },
    "tags": []
   },
   "outputs": [],
   "source": [
    "\n"
   ]
  }
 ],
 "metadata": {
  "kernelspec": {
   "display_name": "Python 3",
   "language": "python",
   "name": "python3"
  },
  "language_info": {
   "codemirror_mode": {
    "name": "ipython",
    "version": 3
   },
   "file_extension": ".py",
   "mimetype": "text/x-python",
   "name": "python",
   "nbconvert_exporter": "python",
   "pygments_lexer": "ipython3",
   "version": "3.7.6"
  },
  "papermill": {
   "duration": 231.863946,
   "end_time": "2020-12-06T20:55:05.045345",
   "environment_variables": {},
   "exception": null,
   "input_path": "__notebook__.ipynb",
   "output_path": "__notebook__.ipynb",
   "parameters": {},
   "start_time": "2020-12-06T20:51:13.181399",
   "version": "2.1.0"
  }
 },
 "nbformat": 4,
 "nbformat_minor": 4
}
