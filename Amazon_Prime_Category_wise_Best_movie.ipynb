{
  "nbformat": 4,
  "nbformat_minor": 0,
  "metadata": {
    "colab": {
      "name": "Amazon Prime - Category-wise Best movie.ipynb",
      "provenance": [],
      "authorship_tag": "ABX9TyNS3GeOpXZ18tQIeJMCdEWQ",
      "include_colab_link": true
    },
    "kernelspec": {
      "name": "python3",
      "display_name": "Python 3"
    }
  },
  "cells": [
    {
      "cell_type": "markdown",
      "metadata": {
        "id": "view-in-github",
        "colab_type": "text"
      },
      "source": [
        "<a href=\"https://colab.research.google.com/github/benvictoria21/pandas/blob/master/Amazon_Prime_Category_wise_Best_movie.ipynb\" target=\"_parent\"><img src=\"https://colab.research.google.com/assets/colab-badge.svg\" alt=\"Open In Colab\"/></a>"
      ]
    },
    {
      "cell_type": "code",
      "metadata": {
        "id": "LHCXu4DrBC1S",
        "colab_type": "code",
        "colab": {}
      },
      "source": [
        "# This Python 3 environment comes with many helpful analytics libraries installed\n",
        "# It is defined by the kaggle/python Docker image: https://github.com/kaggle/docker-python\n",
        "# For example, here's several helpful packages to load\n",
        "\n",
        "import numpy as np # linear algebra\n",
        "import pandas as pd # data processing, CSV file I/O (e.g. pd.read_csv)\n",
        "\n",
        "# Input data files are available in the read-only \"../input/\" directory\n",
        "# For example, running this (by clicking run or pressing Shift+Enter) will list all files under the input directory\n",
        "\n",
        "import os"
      ],
      "execution_count": 2,
      "outputs": []
    },
    {
      "cell_type": "code",
      "metadata": {
        "id": "TvI1MTAqFJRp",
        "colab_type": "code",
        "colab": {}
      },
      "source": [
        "amazon = pd.read_csv(\"https://raw.githubusercontent.com/benvictoria21/pandas/master/dataset/datasets_724030_1277618_Prime%20TV%20Shows%20Data%20set.csv\",encoding=\"iso-8859-1\")"
      ],
      "execution_count": 3,
      "outputs": []
    },
    {
      "cell_type": "code",
      "metadata": {
        "id": "BzInr1qZFXE0",
        "colab_type": "code",
        "colab": {
          "base_uri": "https://localhost:8080/",
          "height": 272
        },
        "outputId": "445d1d3d-9a34-40e0-dd3a-55892d6a9f9b"
      },
      "source": [
        "amazon.info()"
      ],
      "execution_count": 4,
      "outputs": [
        {
          "output_type": "stream",
          "text": [
            "<class 'pandas.core.frame.DataFrame'>\n",
            "RangeIndex: 503 entries, 0 to 502\n",
            "Data columns (total 8 columns):\n",
            " #   Column                   Non-Null Count  Dtype  \n",
            "---  ------                   --------------  -----  \n",
            " 0   S.no.                    503 non-null    int64  \n",
            " 1   Name of the show         503 non-null    object \n",
            " 2   Year of release          503 non-null    int64  \n",
            " 3   No of seasons available  503 non-null    int64  \n",
            " 4   Language                 503 non-null    object \n",
            " 5   Genre                    503 non-null    object \n",
            " 6   IMDb rating              220 non-null    float64\n",
            " 7   Age of viewers           503 non-null    object \n",
            "dtypes: float64(1), int64(3), object(4)\n",
            "memory usage: 31.6+ KB\n"
          ],
          "name": "stdout"
        }
      ]
    },
    {
      "cell_type": "code",
      "metadata": {
        "id": "V1cT5YDQFZ75",
        "colab_type": "code",
        "colab": {
          "base_uri": "https://localhost:8080/",
          "height": 170
        },
        "outputId": "473ab7b9-1491-4f28-ffe4-38c635f4af10"
      },
      "source": [
        "#Lot of IMDB ratings are missing (283)\n",
        "amazon.isnull().sum()"
      ],
      "execution_count": 6,
      "outputs": [
        {
          "output_type": "execute_result",
          "data": {
            "text/plain": [
              "S.no.                        0\n",
              "Name of the show             0\n",
              "Year of release              0\n",
              "No of seasons available      0\n",
              "Language                     0\n",
              "Genre                        0\n",
              "IMDb rating                283\n",
              "Age of viewers               0\n",
              "dtype: int64"
            ]
          },
          "metadata": {
            "tags": []
          },
          "execution_count": 6
        }
      ]
    },
    {
      "cell_type": "code",
      "metadata": {
        "id": "v3LBRH9BFgLk",
        "colab_type": "code",
        "colab": {
          "base_uri": "https://localhost:8080/",
          "height": 918
        },
        "outputId": "9da71b94-9368-41bf-ea65-6a7559ebf756"
      },
      "source": [
        "#Now lets try to see missing IMDB values by Genre\n",
        "amazon.groupby('Genre')['S.no.'].count()\n",
        "#amazon['Genre'].value_counts()"
      ],
      "execution_count": 7,
      "outputs": [
        {
          "output_type": "execute_result",
          "data": {
            "text/plain": [
              "Genre\n",
              "Action                                         26\n",
              "Action, Comedy                                  1\n",
              "Adventure                                       2\n",
              "Animation                                       2\n",
              "Animation, Drama                                1\n",
              "Arts, Entertainment, Culture                   12\n",
              "Comedy                                         98\n",
              "Comedy, Action                                  1\n",
              "Comedy, Arts, Entertainment, Culture            1\n",
              "Comedy, Drama                                   1\n",
              "Crime                                           8\n",
              "Documentary                                     5\n",
              "Drama                                         125\n",
              "Drama, Action                                  11\n",
              "Drama, Action, Adventure                        1\n",
              "Drama, Action, Sci-fi                           1\n",
              "Drama, Action, Suspense                         3\n",
              "Drama, Comeddy                                  1\n",
              "Drama, Comedy                                  15\n",
              "Drama, Comedy, Action                           1\n",
              "Drama, Comedy, LGBTQ                            1\n",
              "Drama, Documentary                              2\n",
              "Drama, Fantasy                                  2\n",
              "Drama, Horror                                   2\n",
              "Drama, Horror, Fantasy                          1\n",
              "Drama, Horror, Romance, Suspense                1\n",
              "Drama, Horror, Suspense                         2\n",
              "Drama, LGBTQ, Arts, Entertainment, Culture      1\n",
              "Drama, Romance                                  4\n",
              "Drama, Romance, Comedy                          1\n",
              "Drama, Sci-fi                                   7\n",
              "Drama, Sci-fi, Suspense, Action                 1\n",
              "Drama, Sports                                   1\n",
              "Drama, Suspense                                12\n",
              "Drama, Suspense, Action                         2\n",
              "Drama, Suspense, Adventure                      1\n",
              "Drama, Suspense, Fantasy                        1\n",
              "Drama, Suspense, Horror                         1\n",
              "Fantasy                                         1\n",
              "Fantasy, Comedy                                 1\n",
              "Horror                                          1\n",
              "Kids                                          127\n",
              "Kids, Animation                                 2\n",
              "Romance                                         1\n",
              "Sci-fi                                          4\n",
              "Sci-fi                                          1\n",
              "Sci-fi comedy                                   1\n",
              "Sci-fi, Action, Suspense                        1\n",
              "Sci-fi, Drama, Suspense                         1\n",
              "Sports                                          1\n",
              "Sports, Drama                                   2\n",
              "Name: S.no., dtype: int64"
            ]
          },
          "metadata": {
            "tags": []
          },
          "execution_count": 7
        }
      ]
    },
    {
      "cell_type": "code",
      "metadata": {
        "id": "n-4dvoxhF5P7",
        "colab_type": "code",
        "colab": {
          "base_uri": "https://localhost:8080/",
          "height": 272
        },
        "outputId": "8868c189-b8ab-43db-cea0-576b48fa977e"
      },
      "source": [
        "#Dropping columns where IMDB rating is missing\n",
        "amazon1 = amazon.dropna(axis=0)\n",
        "amazon1.info()"
      ],
      "execution_count": 8,
      "outputs": [
        {
          "output_type": "stream",
          "text": [
            "<class 'pandas.core.frame.DataFrame'>\n",
            "Int64Index: 220 entries, 0 to 473\n",
            "Data columns (total 8 columns):\n",
            " #   Column                   Non-Null Count  Dtype  \n",
            "---  ------                   --------------  -----  \n",
            " 0   S.no.                    220 non-null    int64  \n",
            " 1   Name of the show         220 non-null    object \n",
            " 2   Year of release          220 non-null    int64  \n",
            " 3   No of seasons available  220 non-null    int64  \n",
            " 4   Language                 220 non-null    object \n",
            " 5   Genre                    220 non-null    object \n",
            " 6   IMDb rating              220 non-null    float64\n",
            " 7   Age of viewers           220 non-null    object \n",
            "dtypes: float64(1), int64(3), object(4)\n",
            "memory usage: 15.5+ KB\n"
          ],
          "name": "stdout"
        }
      ]
    },
    {
      "cell_type": "code",
      "metadata": {
        "id": "YhJVu_dyF72P",
        "colab_type": "code",
        "colab": {
          "base_uri": "https://localhost:8080/",
          "height": 323
        },
        "outputId": "8234ffcf-cf91-4305-e180-4bae156ef169"
      },
      "source": [
        "amazon.head()"
      ],
      "execution_count": 9,
      "outputs": [
        {
          "output_type": "execute_result",
          "data": {
            "text/html": [
              "<div>\n",
              "<style scoped>\n",
              "    .dataframe tbody tr th:only-of-type {\n",
              "        vertical-align: middle;\n",
              "    }\n",
              "\n",
              "    .dataframe tbody tr th {\n",
              "        vertical-align: top;\n",
              "    }\n",
              "\n",
              "    .dataframe thead th {\n",
              "        text-align: right;\n",
              "    }\n",
              "</style>\n",
              "<table border=\"1\" class=\"dataframe\">\n",
              "  <thead>\n",
              "    <tr style=\"text-align: right;\">\n",
              "      <th></th>\n",
              "      <th>S.no.</th>\n",
              "      <th>Name of the show</th>\n",
              "      <th>Year of release</th>\n",
              "      <th>No of seasons available</th>\n",
              "      <th>Language</th>\n",
              "      <th>Genre</th>\n",
              "      <th>IMDb rating</th>\n",
              "      <th>Age of viewers</th>\n",
              "    </tr>\n",
              "  </thead>\n",
              "  <tbody>\n",
              "    <tr>\n",
              "      <th>0</th>\n",
              "      <td>1</td>\n",
              "      <td>Pataal Lok</td>\n",
              "      <td>2020</td>\n",
              "      <td>1</td>\n",
              "      <td>Hindi</td>\n",
              "      <td>Drama</td>\n",
              "      <td>7.5</td>\n",
              "      <td>18+</td>\n",
              "    </tr>\n",
              "    <tr>\n",
              "      <th>1</th>\n",
              "      <td>2</td>\n",
              "      <td>Upload</td>\n",
              "      <td>2020</td>\n",
              "      <td>1</td>\n",
              "      <td>English</td>\n",
              "      <td>Sci-fi comedy</td>\n",
              "      <td>8.1</td>\n",
              "      <td>16+</td>\n",
              "    </tr>\n",
              "    <tr>\n",
              "      <th>2</th>\n",
              "      <td>3</td>\n",
              "      <td>The Marvelous Mrs. Maisel</td>\n",
              "      <td>2017</td>\n",
              "      <td>3</td>\n",
              "      <td>English</td>\n",
              "      <td>Drama, Comedy</td>\n",
              "      <td>8.7</td>\n",
              "      <td>16+</td>\n",
              "    </tr>\n",
              "    <tr>\n",
              "      <th>3</th>\n",
              "      <td>4</td>\n",
              "      <td>Four More Shots Please</td>\n",
              "      <td>2019</td>\n",
              "      <td>2</td>\n",
              "      <td>Hindi</td>\n",
              "      <td>Drama, Comedy</td>\n",
              "      <td>5.3</td>\n",
              "      <td>18+</td>\n",
              "    </tr>\n",
              "    <tr>\n",
              "      <th>4</th>\n",
              "      <td>5</td>\n",
              "      <td>Fleabag</td>\n",
              "      <td>2016</td>\n",
              "      <td>2</td>\n",
              "      <td>English</td>\n",
              "      <td>Comedy</td>\n",
              "      <td>8.7</td>\n",
              "      <td>18+</td>\n",
              "    </tr>\n",
              "  </tbody>\n",
              "</table>\n",
              "</div>"
            ],
            "text/plain": [
              "   S.no.           Name of the show  ...  IMDb rating  Age of viewers\n",
              "0      1                 Pataal Lok  ...          7.5             18+\n",
              "1      2                     Upload  ...          8.1             16+\n",
              "2      3  The Marvelous Mrs. Maisel  ...          8.7             16+\n",
              "3      4     Four More Shots Please  ...          5.3             18+\n",
              "4      5                    Fleabag  ...          8.7             18+\n",
              "\n",
              "[5 rows x 8 columns]"
            ]
          },
          "metadata": {
            "tags": []
          },
          "execution_count": 9
        }
      ]
    },
    {
      "cell_type": "code",
      "metadata": {
        "id": "8uBWaftbF9_X",
        "colab_type": "code",
        "colab": {
          "base_uri": "https://localhost:8080/",
          "height": 445
        },
        "outputId": "7692a42d-5eee-4f01-d01b-606e4d3387bc"
      },
      "source": [
        "amazon_2020 = amazon1[amazon1['Year of release'] == 2020].sort_values(by='IMDb rating',ascending = False)\n",
        "#Top 5 movies of 2020\n",
        "amazon_2020.head(5)"
      ],
      "execution_count": 10,
      "outputs": [
        {
          "output_type": "execute_result",
          "data": {
            "text/html": [
              "<div>\n",
              "<style scoped>\n",
              "    .dataframe tbody tr th:only-of-type {\n",
              "        vertical-align: middle;\n",
              "    }\n",
              "\n",
              "    .dataframe tbody tr th {\n",
              "        vertical-align: top;\n",
              "    }\n",
              "\n",
              "    .dataframe thead th {\n",
              "        text-align: right;\n",
              "    }\n",
              "</style>\n",
              "<table border=\"1\" class=\"dataframe\">\n",
              "  <thead>\n",
              "    <tr style=\"text-align: right;\">\n",
              "      <th></th>\n",
              "      <th>S.no.</th>\n",
              "      <th>Name of the show</th>\n",
              "      <th>Year of release</th>\n",
              "      <th>No of seasons available</th>\n",
              "      <th>Language</th>\n",
              "      <th>Genre</th>\n",
              "      <th>IMDb rating</th>\n",
              "      <th>Age of viewers</th>\n",
              "    </tr>\n",
              "  </thead>\n",
              "  <tbody>\n",
              "    <tr>\n",
              "      <th>20</th>\n",
              "      <td>21</td>\n",
              "      <td>The Test: A New Era for Australia's Team</td>\n",
              "      <td>2020</td>\n",
              "      <td>1</td>\n",
              "      <td>English</td>\n",
              "      <td>Documentary</td>\n",
              "      <td>9.0</td>\n",
              "      <td>16+</td>\n",
              "    </tr>\n",
              "    <tr>\n",
              "      <th>452</th>\n",
              "      <td>453</td>\n",
              "      <td>Jessy and Nessy</td>\n",
              "      <td>2020</td>\n",
              "      <td>1</td>\n",
              "      <td>English</td>\n",
              "      <td>Kids</td>\n",
              "      <td>8.3</td>\n",
              "      <td>All</td>\n",
              "    </tr>\n",
              "    <tr>\n",
              "      <th>1</th>\n",
              "      <td>2</td>\n",
              "      <td>Upload</td>\n",
              "      <td>2020</td>\n",
              "      <td>1</td>\n",
              "      <td>English</td>\n",
              "      <td>Sci-fi comedy</td>\n",
              "      <td>8.1</td>\n",
              "      <td>16+</td>\n",
              "    </tr>\n",
              "    <tr>\n",
              "      <th>17</th>\n",
              "      <td>18</td>\n",
              "      <td>The Forgotten Army- Azaadi ke Liye</td>\n",
              "      <td>2020</td>\n",
              "      <td>1</td>\n",
              "      <td>Hindi</td>\n",
              "      <td>Drama, Action</td>\n",
              "      <td>8.0</td>\n",
              "      <td>18+</td>\n",
              "    </tr>\n",
              "    <tr>\n",
              "      <th>73</th>\n",
              "      <td>74</td>\n",
              "      <td>Star Trek: Picard</td>\n",
              "      <td>2020</td>\n",
              "      <td>1</td>\n",
              "      <td>English</td>\n",
              "      <td>Sci-fi</td>\n",
              "      <td>7.6</td>\n",
              "      <td>18+</td>\n",
              "    </tr>\n",
              "  </tbody>\n",
              "</table>\n",
              "</div>"
            ],
            "text/plain": [
              "     S.no.  ... Age of viewers\n",
              "20      21  ...            16+\n",
              "452    453  ...            All\n",
              "1        2  ...            16+\n",
              "17      18  ...            18+\n",
              "73      74  ...            18+\n",
              "\n",
              "[5 rows x 8 columns]"
            ]
          },
          "metadata": {
            "tags": []
          },
          "execution_count": 10
        }
      ]
    }
  ]
}